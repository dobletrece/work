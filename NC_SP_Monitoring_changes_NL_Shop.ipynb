{
 "cells": [
  {
   "cell_type": "code",
   "execution_count": 1,
   "metadata": {},
   "outputs": [],
   "source": [
    "#select\n",
    "#scm.*, czp.czp_id, czp.czp_op_id, czp.CZP_START_DATE, \n",
    "#czp.CZP_EXPIRY_DATE, czp.CZP_PERCENTAGE, czp.CZP_PRICE, \n",
    "#czp.CZP_DURATION, czp.CZP_ZTQ_ID, k.K_REGISTER, osp.*\n",
    "#from zoocube.ddstf_scm_sales_contrib_margin scm\n",
    "#join ZOOMAN.KUNDEN k\n",
    "#on scm.CUS_N_KEY_CUSTOMER = k.K_ID \n",
    "#and k.K_REGISTER = 1\n",
    "#join ZOOMAN.ORDER_SALES_PROFILE osp\n",
    "#on osp.OSP_O_ID = scm.SCM_N_ORDER_NR\n",
    "#left outer join ZOOMAN.CUSTOMERS_ZOOPRIME_PLANS czp\n",
    "#on scm.CUS_N_KEY_CUSTOMER = czp.CZP_K_ID \n",
    "#and czp.CZP_EXPIRY_DATE >= to_date((to_char(TDT_T_KEY_ORDER_DATE, 'dd/mm/yyyy') ||' '|| THR_C_KEY_ORDER_HOUR), 'dd/mm/yyyy HH24:MI')\n",
    "#and czp.CZP_START_DATE <= to_date((to_char(TDT_T_KEY_ORDER_DATE, 'dd/mm/yyyy') ||' '|| THR_C_KEY_ORDER_HOUR), 'dd/mm/yyyy HH24:MI')\n",
    "#where SIT_N_KEY_SITE = 7\n",
    "#and TDT_T_KEY_ORDER_DATE >= to_date('01/01/18', 'DD/MM/YY')\n",
    "#and TDT_T_KEY_ORDER_DATE <= to_date('15/04/18', 'DD/MM/YY')\n",
    "#and (scm.SCM_C_ORDER_STATUS = 'L' OR scm.SCM_C_ORDER_STATUS = 'VK')\n",
    "#and osp.OSP_KO_COUNT_NET IN (1,2)\n",
    "#;"
   ]
  },
  {
   "cell_type": "code",
   "execution_count": 2,
   "metadata": {},
   "outputs": [],
   "source": [
    "import numpy as np\n",
    "import pandas as pd\n",
    "import matplotlib.pyplot as plt\n",
    "import matplotlib.patches as mpatches\n",
    "%matplotlib inline"
   ]
  },
  {
   "cell_type": "code",
   "execution_count": 3,
   "metadata": {},
   "outputs": [],
   "source": [
    "data = pd.read_csv('nl_shop_new_customers_2.dsv', sep = ';', low_memory=False)"
   ]
  },
  {
   "cell_type": "code",
   "execution_count": 4,
   "metadata": {},
   "outputs": [
    {
     "name": "stdout",
     "output_type": "stream",
     "text": [
      "<class 'pandas.core.frame.DataFrame'>\n",
      "RangeIndex: 323991 entries, 0 to 323990\n",
      "Columns: 191 entries, SCM_N_ORDER_POS_NR to OSP_EUR_VALUE\n",
      "dtypes: float64(31), int64(86), object(74)\n",
      "memory usage: 472.1+ MB\n"
     ]
    }
   ],
   "source": [
    "data.info()"
   ]
  },
  {
   "cell_type": "code",
   "execution_count": 5,
   "metadata": {},
   "outputs": [],
   "source": [
    "#after some exploration\n",
    "not_used_cols = ['SCM_D_LIST_PRICE_UNIT', 'SCM_D_LIST_PRICE',\n",
    "       'SCM_D_LIST_PRICE_UNIT_DISCOUNT', 'SCM_D_LIST_PRICE_DISCOUNT',\n",
    "       'SCM_D_REC_PRICE_UNIT', 'SCM_D_REC_PRICE',\n",
    "       'SCM_D_REC_PRICE_UNIT_DISCOUNT', 'SCM_D_REC_PRICE_DISCOUNT',\n",
    "       'AUD_N_KEY_INS', 'AUD_N_KEY_UPD', 'SCM_T_SYS_CREATED_ON',\n",
    "       'SCM_C_SYS_CREATED_BY', 'SCM_T_SYS_UPDATED_ON',\n",
    "       'SCM_C_SYS_UPDATED_BY', 'SCM_D_ORDER_PROB',\n",
    "       'SCM_DHL_RETURN_REASON',\n",
    "       'SCM_DHL_REAL_RETURN', 'SCM_D_RETURNED_VAL_NET',\n",
    "       'SCM_D_EXCHANGE_RATE', 'SCM_D_CURRENCY', 'SCM_D_CURRENCY_ORIG',\n",
    "       'SCM_D_EXCHANGE_RATE_REAL', 'SCM_D_RETURN_POSTAGE_COSTS',\n",
    "       'SCM_D_RETURN_REASON', 'SCM_D_SALES_CANCEL_QTY',\n",
    "       'SCM_D_SALES_CANCEL_VAL', 'SCM_D_SALES_CANCEL_VAL_NET',\n",
    "       'SCM_D_MST_PHY_ART_QTY', 'SCM_D_WRONG_RETURN_BOOKING',\n",
    "       'SCM_D_IS_SHIPPED', 'SCM_D_EXCHANGE_RATE_FINANCE',\n",
    "       'SCM_D_ORIG_ORDER_VALUE', 'SCM_D_ORIG_FINANCE_ORDER_VALUE',\n",
    "       'SCM_D_ORIG_REAL_ORDER_VALUE', 'SCM_D_PAID', 'SCM_D_MISSING_ITEM_IN_PARCEL',\n",
    "       'SCM_DATE_FULFILLMENT', 'SCM_D_PC_ID', 'SCM_D_PCB_ID',\n",
    "       'SCM_D_PC_DSP', 'SCM_D_PC_ID_RET',\n",
    "       'SCM_D_PC_ID_SALC', 'SCM_ID', 'SCM_RETURN_REASON_ID',\n",
    "       'SCM_RETURN_REACTION_TIME', 'SCM_EXCHANGE_RETURN',\n",
    "       'SCM_RETURN_IS_OK', 'SCM_CM2_BMF_INCL_EXTRA_COSTS', 'SCM_CM1_BMF_INCL_PU_EX',\n",
    "       'SCM_LINEHOLD_COSTS_PHY_ART', 'SCM_CM1_BMF_PC_EX_VOL',\n",
    "       'SCM_CM2_BMF_REAL_VOL', 'SCM_PAYMENT_PROVIDER', 'SCM_CM1_CP', 'SCM_CM2_CP', 'SCM_CM3_CP', 'SCM_CM4_CP',\n",
    "       'SCM_CM1_BMF_CP', 'SCM_CM2_BMF_CP', 'SCM_CM3_BMF_CP',\n",
    "       'SCM_CM4_BMF_CP', 'SCM_NETSALES_CP', 'SCM_NETSALES_BMF_CP', 'SCM_ORDER_HOUR', 'SCM_FC_HOUR', 'SCM_SHIPPING_HOUR',\n",
    "                 'SCM_DELIVERY_TIME',\n",
    "       'SCM_WAREHOUSE_TIME', 'SCM_TOTAL_ORDER_TIME',\n",
    "       'SCM_POSTOFFICE_DATE', 'SCM_POSTOFFICE_HOUR',\n",
    "       'SCM_TO_POSTOFFICE_TIME', 'SCM_FROM_POSTOFFICE_HOUR',\n",
    "       'SCM_FIRST_ORDER_CT_ID', 'SCM_FIRST_ORDER_DATE', 'SCM_ORDER_DAY',\n",
    "       'SCM_FC_DAY', 'SCM_SHIPPING_DAY', 'SCM_POSTOFFICE_DAY',\n",
    "       'SCM_DELIVERY_DAY', 'SCM_NUMBER_DEV_TRY',\n",
    "       'SCM_PARCEL_IS_UNDELIVERABLE', 'SCM_MAIN_CATEGORY',\n",
    "       'SCM_RETURNS_BMF',\n",
    "       'SCM_SALES_CANCEL_BMF', 'SCM_SB_CLASS']"
   ]
  },
  {
   "cell_type": "code",
   "execution_count": 6,
   "metadata": {},
   "outputs": [],
   "source": [
    "cols = [i for i in data.columns.values if i not in not_used_cols]"
   ]
  },
  {
   "cell_type": "code",
   "execution_count": 7,
   "metadata": {},
   "outputs": [
    {
     "data": {
      "text/plain": [
       "105"
      ]
     },
     "execution_count": 7,
     "metadata": {},
     "output_type": "execute_result"
    }
   ],
   "source": [
    "len(cols)"
   ]
  },
  {
   "cell_type": "code",
   "execution_count": 8,
   "metadata": {},
   "outputs": [],
   "source": [
    "nc_nl = data[cols]"
   ]
  },
  {
   "cell_type": "code",
   "execution_count": 9,
   "metadata": {},
   "outputs": [
    {
     "data": {
      "text/plain": [
       "90150"
      ]
     },
     "execution_count": 9,
     "metadata": {},
     "output_type": "execute_result"
    }
   ],
   "source": [
    "#Total orders\n",
    "nc_nl['SCM_N_ORDER_NR'].nunique()"
   ]
  },
  {
   "cell_type": "code",
   "execution_count": 10,
   "metadata": {},
   "outputs": [],
   "source": [
    "import warnings\n",
    "warnings.filterwarnings(\"ignore\")"
   ]
  },
  {
   "cell_type": "code",
   "execution_count": 11,
   "metadata": {},
   "outputs": [],
   "source": [
    "nc_nl['TDT_T_KEY_ORDER_DATE'] = pd.to_datetime(nc_nl['TDT_T_KEY_ORDER_DATE'], format=\"%d/%m/%y\")"
   ]
  },
  {
   "cell_type": "code",
   "execution_count": 12,
   "metadata": {},
   "outputs": [],
   "source": [
    "lista = [float(i.replace(',','.')) for i in nc_nl['SCM_D_SALES_VALUE']]\n",
    "nc_nl['SCM_D_SALES_VALUE'] = lista"
   ]
  },
  {
   "cell_type": "code",
   "execution_count": 13,
   "metadata": {},
   "outputs": [],
   "source": [
    "lista1 = [float(str(i).replace(',','.')) for i in nc_nl['SCM_SALES_BMF']]\n",
    "nc_nl['SCM_SALES_BMF'] = lista1"
   ]
  },
  {
   "cell_type": "code",
   "execution_count": 14,
   "metadata": {},
   "outputs": [],
   "source": [
    "lista2 = [float(i.replace(',','.')) for i in nc_nl['SCM_D_FINANCE_CM1']]\n",
    "nc_nl['SCM_D_FINANCE_CM1'] = lista2"
   ]
  },
  {
   "cell_type": "code",
   "execution_count": 15,
   "metadata": {},
   "outputs": [],
   "source": [
    "lista3 = [float(i.replace(',','.')) for i in nc_nl['SCM_D_FINANCE_CM2']]\n",
    "nc_nl['SCM_D_FINANCE_CM2'] = lista3"
   ]
  },
  {
   "cell_type": "code",
   "execution_count": 16,
   "metadata": {},
   "outputs": [],
   "source": [
    "nc_nl['CZP_START_DATE'] = pd.to_datetime(nc_nl['CZP_START_DATE'], format=\"%d/%m/%y\")\n",
    "nc_nl['CZP_EXPIRY_DATE'] = pd.to_datetime(nc_nl['CZP_EXPIRY_DATE'], format=\"%d/%m/%y\")"
   ]
  },
  {
   "cell_type": "code",
   "execution_count": 17,
   "metadata": {},
   "outputs": [
    {
     "data": {
      "text/plain": [
       "array([array(['NaT'], dtype='datetime64[ns]'),\n",
       "       array(['NaT'], dtype='datetime64[ns]'),\n",
       "       array(['NaT'], dtype='datetime64[ns]'), ...,\n",
       "       array(['2018-04-15T00:00:00.000000000'], dtype='datetime64[ns]'),\n",
       "       array(['NaT'], dtype='datetime64[ns]'),\n",
       "       array(['NaT'], dtype='datetime64[ns]')], dtype=object)"
      ]
     },
     "execution_count": 17,
     "metadata": {},
     "output_type": "execute_result"
    }
   ],
   "source": [
    "#Check if, due to start/expiry/order date some data has been duplicated... \n",
    "nc_nl.groupby('SCM_N_ORDER_NR')['CZP_START_DATE'].unique().values"
   ]
  },
  {
   "cell_type": "code",
   "execution_count": 18,
   "metadata": {},
   "outputs": [],
   "source": [
    "dupl_mask = [len(i) > 1 for i in nc_nl.groupby('SCM_N_ORDER_NR')['CZP_START_DATE'].unique().values]"
   ]
  },
  {
   "cell_type": "code",
   "execution_count": 19,
   "metadata": {},
   "outputs": [
    {
     "data": {
      "text/plain": [
       "90150"
      ]
     },
     "execution_count": 19,
     "metadata": {},
     "output_type": "execute_result"
    }
   ],
   "source": [
    "len(dupl_mask)"
   ]
  },
  {
   "cell_type": "code",
   "execution_count": 20,
   "metadata": {},
   "outputs": [
    {
     "data": {
      "text/plain": [
       "0"
      ]
     },
     "execution_count": 20,
     "metadata": {},
     "output_type": "execute_result"
    }
   ],
   "source": [
    "sum(dupl_mask)"
   ]
  },
  {
   "cell_type": "code",
   "execution_count": 21,
   "metadata": {},
   "outputs": [],
   "source": [
    "dup_orders = nc_nl.groupby('SCM_N_ORDER_NR')['CZP_START_DATE'].unique()[dupl_mask].index.values"
   ]
  },
  {
   "cell_type": "code",
   "execution_count": 22,
   "metadata": {},
   "outputs": [
    {
     "data": {
      "text/plain": [
       "array([], dtype=int64)"
      ]
     },
     "execution_count": 22,
     "metadata": {},
     "output_type": "execute_result"
    }
   ],
   "source": [
    "dup_orders"
   ]
  },
  {
   "cell_type": "code",
   "execution_count": 23,
   "metadata": {},
   "outputs": [
    {
     "data": {
      "text/html": [
       "<div>\n",
       "<style scoped>\n",
       "    .dataframe tbody tr th:only-of-type {\n",
       "        vertical-align: middle;\n",
       "    }\n",
       "\n",
       "    .dataframe tbody tr th {\n",
       "        vertical-align: top;\n",
       "    }\n",
       "\n",
       "    .dataframe thead th {\n",
       "        text-align: right;\n",
       "    }\n",
       "</style>\n",
       "<table border=\"1\" class=\"dataframe\">\n",
       "  <thead>\n",
       "    <tr style=\"text-align: right;\">\n",
       "      <th></th>\n",
       "      <th>SCM_PARCEL_SPLIT</th>\n",
       "      <th>SCM_VOLUME_PARCEL_PART</th>\n",
       "      <th>SCM_PURCHASE_EXTRA_COSTS</th>\n",
       "      <th>SCM_LINEHOLD_COSTS</th>\n",
       "      <th>SCM_IS_SINGLE_CATEGORY</th>\n",
       "      <th>SCM_FC_ANALYSIS</th>\n",
       "      <th>SCM_IS_ZSP_ORDER</th>\n",
       "      <th>SCM_DELIVERY_DATE</th>\n",
       "      <th>SCM_DELIVERY_HOUR</th>\n",
       "      <th>SCM_SALES_BMF</th>\n",
       "      <th>SCM_NETSALES_BMF</th>\n",
       "      <th>CZP_ID</th>\n",
       "      <th>CZP_OP_ID</th>\n",
       "      <th>CZP_START_DATE</th>\n",
       "      <th>CZP_EXPIRY_DATE</th>\n",
       "      <th>CZP_PERCENTAGE</th>\n",
       "      <th>CZP_PRICE</th>\n",
       "      <th>CZP_DURATION</th>\n",
       "      <th>CZP_ZTQ_ID</th>\n",
       "      <th>K_REGISTER</th>\n",
       "    </tr>\n",
       "  </thead>\n",
       "  <tbody>\n",
       "    <tr>\n",
       "      <th>310249</th>\n",
       "      <td>0</td>\n",
       "      <td>4,988</td>\n",
       "      <td>0,03</td>\n",
       "      <td>0</td>\n",
       "      <td>multi category order</td>\n",
       "      <td>single z+ fc</td>\n",
       "      <td>1</td>\n",
       "      <td>NaN</td>\n",
       "      <td>NaN</td>\n",
       "      <td>15.99</td>\n",
       "      <td>13,2149</td>\n",
       "      <td>3564503.0</td>\n",
       "      <td>459544239.0</td>\n",
       "      <td>2018-03-31</td>\n",
       "      <td>2019-03-31</td>\n",
       "      <td>5.0</td>\n",
       "      <td>5,99</td>\n",
       "      <td>1.0</td>\n",
       "      <td>56.0</td>\n",
       "      <td>1</td>\n",
       "    </tr>\n",
       "    <tr>\n",
       "      <th>310250</th>\n",
       "      <td>0</td>\n",
       "      <td>8,972</td>\n",
       "      <td>0,04</td>\n",
       "      <td>0</td>\n",
       "      <td>multi category order</td>\n",
       "      <td>single z+ fc</td>\n",
       "      <td>1</td>\n",
       "      <td>NaN</td>\n",
       "      <td>NaN</td>\n",
       "      <td>19.99</td>\n",
       "      <td>16,5207</td>\n",
       "      <td>3564503.0</td>\n",
       "      <td>459544239.0</td>\n",
       "      <td>2018-03-31</td>\n",
       "      <td>2019-03-31</td>\n",
       "      <td>5.0</td>\n",
       "      <td>5,99</td>\n",
       "      <td>1.0</td>\n",
       "      <td>56.0</td>\n",
       "      <td>1</td>\n",
       "    </tr>\n",
       "    <tr>\n",
       "      <th>310251</th>\n",
       "      <td>0</td>\n",
       "      <td>0</td>\n",
       "      <td>0</td>\n",
       "      <td>0</td>\n",
       "      <td>multi category order</td>\n",
       "      <td>single z+ fc</td>\n",
       "      <td>1</td>\n",
       "      <td>NaN</td>\n",
       "      <td>NaN</td>\n",
       "      <td>5.99</td>\n",
       "      <td>4,9504</td>\n",
       "      <td>3564503.0</td>\n",
       "      <td>459544239.0</td>\n",
       "      <td>2018-03-31</td>\n",
       "      <td>2019-03-31</td>\n",
       "      <td>5.0</td>\n",
       "      <td>5,99</td>\n",
       "      <td>1.0</td>\n",
       "      <td>56.0</td>\n",
       "      <td>1</td>\n",
       "    </tr>\n",
       "    <tr>\n",
       "      <th>310252</th>\n",
       "      <td>0</td>\n",
       "      <td>0</td>\n",
       "      <td>0</td>\n",
       "      <td>0</td>\n",
       "      <td>multi category order</td>\n",
       "      <td>single z+ fc</td>\n",
       "      <td>1</td>\n",
       "      <td>NaN</td>\n",
       "      <td>NaN</td>\n",
       "      <td>-2.10</td>\n",
       "      <td>-1,7355</td>\n",
       "      <td>3564503.0</td>\n",
       "      <td>459544239.0</td>\n",
       "      <td>2018-03-31</td>\n",
       "      <td>2019-03-31</td>\n",
       "      <td>5.0</td>\n",
       "      <td>5,99</td>\n",
       "      <td>1.0</td>\n",
       "      <td>56.0</td>\n",
       "      <td>1</td>\n",
       "    </tr>\n",
       "  </tbody>\n",
       "</table>\n",
       "</div>"
      ],
      "text/plain": [
       "        SCM_PARCEL_SPLIT SCM_VOLUME_PARCEL_PART SCM_PURCHASE_EXTRA_COSTS  \\\n",
       "310249                 0                  4,988                     0,03   \n",
       "310250                 0                  8,972                     0,04   \n",
       "310251                 0                      0                        0   \n",
       "310252                 0                      0                        0   \n",
       "\n",
       "       SCM_LINEHOLD_COSTS SCM_IS_SINGLE_CATEGORY SCM_FC_ANALYSIS  \\\n",
       "310249                  0   multi category order    single z+ fc   \n",
       "310250                  0   multi category order    single z+ fc   \n",
       "310251                  0   multi category order    single z+ fc   \n",
       "310252                  0   multi category order    single z+ fc   \n",
       "\n",
       "        SCM_IS_ZSP_ORDER  SCM_DELIVERY_DATE  SCM_DELIVERY_HOUR  SCM_SALES_BMF  \\\n",
       "310249                 1                NaN                NaN          15.99   \n",
       "310250                 1                NaN                NaN          19.99   \n",
       "310251                 1                NaN                NaN           5.99   \n",
       "310252                 1                NaN                NaN          -2.10   \n",
       "\n",
       "       SCM_NETSALES_BMF     CZP_ID    CZP_OP_ID CZP_START_DATE  \\\n",
       "310249          13,2149  3564503.0  459544239.0     2018-03-31   \n",
       "310250          16,5207  3564503.0  459544239.0     2018-03-31   \n",
       "310251           4,9504  3564503.0  459544239.0     2018-03-31   \n",
       "310252          -1,7355  3564503.0  459544239.0     2018-03-31   \n",
       "\n",
       "       CZP_EXPIRY_DATE  CZP_PERCENTAGE CZP_PRICE  CZP_DURATION  CZP_ZTQ_ID  \\\n",
       "310249      2019-03-31             5.0      5,99           1.0        56.0   \n",
       "310250      2019-03-31             5.0      5,99           1.0        56.0   \n",
       "310251      2019-03-31             5.0      5,99           1.0        56.0   \n",
       "310252      2019-03-31             5.0      5,99           1.0        56.0   \n",
       "\n",
       "        K_REGISTER  \n",
       "310249           1  \n",
       "310250           1  \n",
       "310251           1  \n",
       "310252           1  "
      ]
     },
     "execution_count": 23,
     "metadata": {},
     "output_type": "execute_result"
    }
   ],
   "source": [
    "nc_nl[nc_nl['SCM_N_ORDER_NR'] == 107751618][nc_nl.columns[60:80]]"
   ]
  },
  {
   "cell_type": "code",
   "execution_count": 24,
   "metadata": {},
   "outputs": [],
   "source": [
    "#Let's get incorrect duplicated indexes instead of order_id to exclude them and select de correct data subset\n",
    "dup_indexes = []\n",
    "\n",
    "for i in dup_orders:\n",
    "    o_id = nc_nl[nc_nl['SCM_N_ORDER_NR'] == i]\n",
    "    sp_dates = o_id['CZP_START_DATE'].value_counts().index.values\n",
    "    min_date = o_id[o_id['CZP_START_DATE'] < max(sp_dates)]\n",
    "    dup_indexes.append(min_date.index.values)"
   ]
  },
  {
   "cell_type": "code",
   "execution_count": 25,
   "metadata": {},
   "outputs": [],
   "source": [
    "#Get a flatten list of indexes\n",
    "dupl_ind = [i for lista in dup_indexes for i in lista]"
   ]
  },
  {
   "cell_type": "code",
   "execution_count": 26,
   "metadata": {},
   "outputs": [
    {
     "data": {
      "text/plain": [
       "0"
      ]
     },
     "execution_count": 26,
     "metadata": {},
     "output_type": "execute_result"
    }
   ],
   "source": [
    "len(dupl_ind)"
   ]
  },
  {
   "cell_type": "code",
   "execution_count": 27,
   "metadata": {},
   "outputs": [],
   "source": [
    "exclude_data = nc_nl.index.isin(dupl_ind)"
   ]
  },
  {
   "cell_type": "code",
   "execution_count": 28,
   "metadata": {},
   "outputs": [
    {
     "data": {
      "text/plain": [
       "(323991, 0)"
      ]
     },
     "execution_count": 28,
     "metadata": {},
     "output_type": "execute_result"
    }
   ],
   "source": [
    "len(exclude_data), sum(exclude_data)"
   ]
  },
  {
   "cell_type": "code",
   "execution_count": 29,
   "metadata": {},
   "outputs": [],
   "source": [
    "#Clean subset selection\n",
    "nc_nl = nc_nl[~exclude_data]"
   ]
  },
  {
   "cell_type": "code",
   "execution_count": 30,
   "metadata": {},
   "outputs": [
    {
     "data": {
      "text/html": [
       "<div>\n",
       "<style scoped>\n",
       "    .dataframe tbody tr th:only-of-type {\n",
       "        vertical-align: middle;\n",
       "    }\n",
       "\n",
       "    .dataframe tbody tr th {\n",
       "        vertical-align: top;\n",
       "    }\n",
       "\n",
       "    .dataframe thead th {\n",
       "        text-align: right;\n",
       "    }\n",
       "</style>\n",
       "<table border=\"1\" class=\"dataframe\">\n",
       "  <thead>\n",
       "    <tr style=\"text-align: right;\">\n",
       "      <th></th>\n",
       "      <th>SCM_PARCEL_SPLIT</th>\n",
       "      <th>SCM_VOLUME_PARCEL_PART</th>\n",
       "      <th>SCM_PURCHASE_EXTRA_COSTS</th>\n",
       "      <th>SCM_LINEHOLD_COSTS</th>\n",
       "      <th>SCM_IS_SINGLE_CATEGORY</th>\n",
       "      <th>SCM_FC_ANALYSIS</th>\n",
       "      <th>SCM_IS_ZSP_ORDER</th>\n",
       "      <th>SCM_DELIVERY_DATE</th>\n",
       "      <th>SCM_DELIVERY_HOUR</th>\n",
       "      <th>SCM_SALES_BMF</th>\n",
       "      <th>SCM_NETSALES_BMF</th>\n",
       "      <th>CZP_ID</th>\n",
       "      <th>CZP_OP_ID</th>\n",
       "      <th>CZP_START_DATE</th>\n",
       "      <th>CZP_EXPIRY_DATE</th>\n",
       "      <th>CZP_PERCENTAGE</th>\n",
       "      <th>CZP_PRICE</th>\n",
       "      <th>CZP_DURATION</th>\n",
       "      <th>CZP_ZTQ_ID</th>\n",
       "      <th>K_REGISTER</th>\n",
       "    </tr>\n",
       "  </thead>\n",
       "  <tbody>\n",
       "    <tr>\n",
       "      <th>310249</th>\n",
       "      <td>0</td>\n",
       "      <td>4,988</td>\n",
       "      <td>0,03</td>\n",
       "      <td>0</td>\n",
       "      <td>multi category order</td>\n",
       "      <td>single z+ fc</td>\n",
       "      <td>1</td>\n",
       "      <td>NaN</td>\n",
       "      <td>NaN</td>\n",
       "      <td>15.99</td>\n",
       "      <td>13,2149</td>\n",
       "      <td>3564503.0</td>\n",
       "      <td>459544239.0</td>\n",
       "      <td>2018-03-31</td>\n",
       "      <td>2019-03-31</td>\n",
       "      <td>5.0</td>\n",
       "      <td>5,99</td>\n",
       "      <td>1.0</td>\n",
       "      <td>56.0</td>\n",
       "      <td>1</td>\n",
       "    </tr>\n",
       "    <tr>\n",
       "      <th>310250</th>\n",
       "      <td>0</td>\n",
       "      <td>8,972</td>\n",
       "      <td>0,04</td>\n",
       "      <td>0</td>\n",
       "      <td>multi category order</td>\n",
       "      <td>single z+ fc</td>\n",
       "      <td>1</td>\n",
       "      <td>NaN</td>\n",
       "      <td>NaN</td>\n",
       "      <td>19.99</td>\n",
       "      <td>16,5207</td>\n",
       "      <td>3564503.0</td>\n",
       "      <td>459544239.0</td>\n",
       "      <td>2018-03-31</td>\n",
       "      <td>2019-03-31</td>\n",
       "      <td>5.0</td>\n",
       "      <td>5,99</td>\n",
       "      <td>1.0</td>\n",
       "      <td>56.0</td>\n",
       "      <td>1</td>\n",
       "    </tr>\n",
       "    <tr>\n",
       "      <th>310251</th>\n",
       "      <td>0</td>\n",
       "      <td>0</td>\n",
       "      <td>0</td>\n",
       "      <td>0</td>\n",
       "      <td>multi category order</td>\n",
       "      <td>single z+ fc</td>\n",
       "      <td>1</td>\n",
       "      <td>NaN</td>\n",
       "      <td>NaN</td>\n",
       "      <td>5.99</td>\n",
       "      <td>4,9504</td>\n",
       "      <td>3564503.0</td>\n",
       "      <td>459544239.0</td>\n",
       "      <td>2018-03-31</td>\n",
       "      <td>2019-03-31</td>\n",
       "      <td>5.0</td>\n",
       "      <td>5,99</td>\n",
       "      <td>1.0</td>\n",
       "      <td>56.0</td>\n",
       "      <td>1</td>\n",
       "    </tr>\n",
       "    <tr>\n",
       "      <th>310252</th>\n",
       "      <td>0</td>\n",
       "      <td>0</td>\n",
       "      <td>0</td>\n",
       "      <td>0</td>\n",
       "      <td>multi category order</td>\n",
       "      <td>single z+ fc</td>\n",
       "      <td>1</td>\n",
       "      <td>NaN</td>\n",
       "      <td>NaN</td>\n",
       "      <td>-2.10</td>\n",
       "      <td>-1,7355</td>\n",
       "      <td>3564503.0</td>\n",
       "      <td>459544239.0</td>\n",
       "      <td>2018-03-31</td>\n",
       "      <td>2019-03-31</td>\n",
       "      <td>5.0</td>\n",
       "      <td>5,99</td>\n",
       "      <td>1.0</td>\n",
       "      <td>56.0</td>\n",
       "      <td>1</td>\n",
       "    </tr>\n",
       "  </tbody>\n",
       "</table>\n",
       "</div>"
      ],
      "text/plain": [
       "        SCM_PARCEL_SPLIT SCM_VOLUME_PARCEL_PART SCM_PURCHASE_EXTRA_COSTS  \\\n",
       "310249                 0                  4,988                     0,03   \n",
       "310250                 0                  8,972                     0,04   \n",
       "310251                 0                      0                        0   \n",
       "310252                 0                      0                        0   \n",
       "\n",
       "       SCM_LINEHOLD_COSTS SCM_IS_SINGLE_CATEGORY SCM_FC_ANALYSIS  \\\n",
       "310249                  0   multi category order    single z+ fc   \n",
       "310250                  0   multi category order    single z+ fc   \n",
       "310251                  0   multi category order    single z+ fc   \n",
       "310252                  0   multi category order    single z+ fc   \n",
       "\n",
       "        SCM_IS_ZSP_ORDER  SCM_DELIVERY_DATE  SCM_DELIVERY_HOUR  SCM_SALES_BMF  \\\n",
       "310249                 1                NaN                NaN          15.99   \n",
       "310250                 1                NaN                NaN          19.99   \n",
       "310251                 1                NaN                NaN           5.99   \n",
       "310252                 1                NaN                NaN          -2.10   \n",
       "\n",
       "       SCM_NETSALES_BMF     CZP_ID    CZP_OP_ID CZP_START_DATE  \\\n",
       "310249          13,2149  3564503.0  459544239.0     2018-03-31   \n",
       "310250          16,5207  3564503.0  459544239.0     2018-03-31   \n",
       "310251           4,9504  3564503.0  459544239.0     2018-03-31   \n",
       "310252          -1,7355  3564503.0  459544239.0     2018-03-31   \n",
       "\n",
       "       CZP_EXPIRY_DATE  CZP_PERCENTAGE CZP_PRICE  CZP_DURATION  CZP_ZTQ_ID  \\\n",
       "310249      2019-03-31             5.0      5,99           1.0        56.0   \n",
       "310250      2019-03-31             5.0      5,99           1.0        56.0   \n",
       "310251      2019-03-31             5.0      5,99           1.0        56.0   \n",
       "310252      2019-03-31             5.0      5,99           1.0        56.0   \n",
       "\n",
       "        K_REGISTER  \n",
       "310249           1  \n",
       "310250           1  \n",
       "310251           1  \n",
       "310252           1  "
      ]
     },
     "execution_count": 30,
     "metadata": {},
     "output_type": "execute_result"
    }
   ],
   "source": [
    "nc_nl[nc_nl['SCM_N_ORDER_NR'] == 107751618][nc_nl.columns[60:80]]"
   ]
  },
  {
   "cell_type": "code",
   "execution_count": 31,
   "metadata": {},
   "outputs": [
    {
     "data": {
      "text/plain": [
       "L     322580\n",
       "VK      1411\n",
       "Name: SCM_C_ORDER_STATUS, dtype: int64"
      ]
     },
     "execution_count": 31,
     "metadata": {},
     "output_type": "execute_result"
    }
   ],
   "source": [
    "#Consider L and VK status as completed orders\n",
    "nc_nl['SCM_C_ORDER_STATUS'].value_counts()"
   ]
  },
  {
   "cell_type": "code",
   "execution_count": 32,
   "metadata": {},
   "outputs": [
    {
     "data": {
      "text/plain": [
       "array([], dtype=int64)"
      ]
     },
     "execution_count": 32,
     "metadata": {},
     "output_type": "execute_result"
    }
   ],
   "source": [
    "nc_nl[nc_nl['SCM_N_ORDER_NR'].isin(dup_orders)]['CUS_N_KEY_CUSTOMER'].unique()"
   ]
  },
  {
   "cell_type": "code",
   "execution_count": 33,
   "metadata": {},
   "outputs": [],
   "source": [
    "#select * from ZOOMAN.CUSTOMERS_ZOOPRIME_PLANS where CZP_K_ID = 16375298;\n",
    "\n",
    "#select * from orders where O_K_ID = 16375298;"
   ]
  },
  {
   "cell_type": "markdown",
   "metadata": {},
   "source": [
    "## Changes : PG4 Restrictions, DCR and Prices"
   ]
  },
  {
   "cell_type": "code",
   "execution_count": 34,
   "metadata": {},
   "outputs": [],
   "source": [
    "#Let`s quantify orders buying savings plan\n",
    "sp_daily = nc_nl[nc_nl['SCM_MASTER_AP_ID'] == 42225].groupby('TDT_T_KEY_ORDER_DATE')['SCM_MASTER_AP_ID'].count()"
   ]
  },
  {
   "cell_type": "code",
   "execution_count": 35,
   "metadata": {},
   "outputs": [
    {
     "data": {
      "image/png": "[encoded data removed]",
      "text/plain": [
       "<matplotlib.figure.Figure at 0x1577bcf8>"
      ]
     },
     "metadata": {},
     "output_type": "display_data"
    }
   ],
   "source": [
    "plt.figure(figsize=(16,10))\n",
    "(sp_daily).plot()\n",
    "plt.ylabel('No. of SP sold to NC')\n",
    "plt.xlabel('Order Date')\n",
    "plt.title('Evolution of NC Savings Plan Sold in NL Shop')\n",
    "\n",
    "plt.axvline(x='2018-03-08', color='green')\n",
    "plt.text('2018-03-07', 90, 'brand_restrict 08 Mar', rotation=90)\n",
    "plt.axvline(x='2018-03-09', color='red')\n",
    "plt.text('2018-03-09', 90, 'DCR 09 Mar', rotation=90)\n",
    "plt.axvline(x='2018-03-12', color='yellow')\n",
    "plt.text('2018-03-12', 90, 'price_changes week 12-16 Mar', rotation=90)\n",
    "\n",
    "ax = plt.gca()\n",
    "for i, txt in enumerate(sp_daily):\n",
    "    ax.annotate(txt, (sp_daily.index[i],sp_daily.values[i]))"
   ]
  },
  {
   "cell_type": "code",
   "execution_count": 36,
   "metadata": {},
   "outputs": [
    {
     "data": {
      "text/plain": [
       "59.015151515151516"
      ]
     },
     "execution_count": 36,
     "metadata": {},
     "output_type": "execute_result"
    }
   ],
   "source": [
    "sp_daily[sp_daily.index < '2018-03-08'].mean()"
   ]
  },
  {
   "cell_type": "code",
   "execution_count": 37,
   "metadata": {},
   "outputs": [
    {
     "data": {
      "text/plain": [
       "43.41025641025641"
      ]
     },
     "execution_count": 37,
     "metadata": {},
     "output_type": "execute_result"
    }
   ],
   "source": [
    "sp_daily[sp_daily.index >= '2018-03-08'].mean()"
   ]
  },
  {
   "cell_type": "markdown",
   "metadata": {},
   "source": [
    "A two-sample t-test investigates whether the means of two independent data samples differ from one another. In a two-sample test, the null hypothesis is that the means of both groups are the same. "
   ]
  },
  {
   "cell_type": "code",
   "execution_count": 38,
   "metadata": {},
   "outputs": [
    {
     "data": {
      "text/plain": [
       "Ttest_indResult(statistic=7.443704956633709, pvalue=3.548007124442767e-11)"
      ]
     },
     "execution_count": 38,
     "metadata": {},
     "output_type": "execute_result"
    }
   ],
   "source": [
    "import scipy.stats as stats\n",
    "stats.ttest_ind(sp_daily[sp_daily.index < '2018-03-08'],\n",
    "                sp_daily[sp_daily.index >= '2018-03-08'],\n",
    "                equal_var=False) "
   ]
  },
  {
   "cell_type": "markdown",
   "metadata": {},
   "source": [
    "Due to p-value < 0.05 we can now reject the null hypothesis stating equality of mean in both groups and go for the alternative one (non equal)."
   ]
  },
  {
   "cell_type": "code",
   "execution_count": 39,
   "metadata": {},
   "outputs": [],
   "source": [
    "lista4 = [float(str(i).replace(',','.')) for i in nc_nl['CZP_PRICE']]\n",
    "nc_nl['CZP_PRICE'] = lista4"
   ]
  },
  {
   "cell_type": "code",
   "execution_count": 40,
   "metadata": {},
   "outputs": [],
   "source": [
    "buy_sp_orders = nc_nl[nc_nl['SCM_MASTER_AP_ID'] == 42225]['SCM_N_ORDER_NR'].unique()"
   ]
  },
  {
   "cell_type": "code",
   "execution_count": 41,
   "metadata": {},
   "outputs": [],
   "source": [
    "#Let`s quantify sales related to savings plan price\n",
    "sp_sales_daily = nc_nl[nc_nl['SCM_MASTER_AP_ID'] == 42225].groupby('TDT_T_KEY_ORDER_DATE')['SCM_SALES_BMF'].sum()"
   ]
  },
  {
   "cell_type": "code",
   "execution_count": 42,
   "metadata": {},
   "outputs": [
    {
     "data": {
      "image/png": "[encoded data removed]",
      "text/plain": [
       "<matplotlib.figure.Figure at 0x1595ac88>"
      ]
     },
     "metadata": {},
     "output_type": "display_data"
    }
   ],
   "source": [
    "plt.figure(figsize=(16,10))\n",
    "(sp_sales_daily).plot()\n",
    "plt.ylabel('NC SP sales')\n",
    "plt.xlabel('Order Date')\n",
    "plt.title('Evolution of NC Savings Plan Sales in NL Shop')\n",
    "plt.legend()\n",
    "\n",
    "plt.axvline(x='2018-03-08', color='green')\n",
    "plt.text('2018-03-07', 380, 'brand_restrict 08 Mar', rotation=90)\n",
    "plt.axvline(x='2018-03-09', color='red')\n",
    "plt.text('2018-03-09', 380, 'DCR 09 Mar', rotation=90)\n",
    "plt.axvline(x='2018-03-12', color='yellow')\n",
    "plt.text('2018-03-12', 380, 'price_changes week 12-16 Mar', rotation=90)\n",
    "\n",
    "ax = plt.gca()\n",
    "for i, txt in enumerate(sp_sales_daily):\n",
    "    ax.annotate(txt, (sp_sales_daily.index[i],sp_sales_daily.values[i]))"
   ]
  },
  {
   "cell_type": "code",
   "execution_count": 43,
   "metadata": {},
   "outputs": [
    {
     "data": {
      "text/plain": [
       "249.80636363636376"
      ]
     },
     "execution_count": 43,
     "metadata": {},
     "output_type": "execute_result"
    }
   ],
   "source": [
    "sp_sales_daily[sp_sales_daily.index < '2018-03-08'].mean()"
   ]
  },
  {
   "cell_type": "code",
   "execution_count": 44,
   "metadata": {},
   "outputs": [
    {
     "data": {
      "text/plain": [
       "229.6428205128206"
      ]
     },
     "execution_count": 44,
     "metadata": {},
     "output_type": "execute_result"
    }
   ],
   "source": [
    "sp_sales_daily[sp_sales_daily.index >= '2018-03-08'].mean()"
   ]
  },
  {
   "cell_type": "code",
   "execution_count": 45,
   "metadata": {},
   "outputs": [
    {
     "data": {
      "text/plain": [
       "Ttest_indResult(statistic=2.0502245020790295, pvalue=0.043248547999075744)"
      ]
     },
     "execution_count": 45,
     "metadata": {},
     "output_type": "execute_result"
    }
   ],
   "source": [
    "stats.ttest_ind(sp_sales_daily[sp_sales_daily.index < '2018-03-08'],\n",
    "                sp_sales_daily[sp_sales_daily.index >= '2018-03-08'],\n",
    "                equal_var=False) "
   ]
  },
  {
   "cell_type": "markdown",
   "metadata": {},
   "source": [
    "Due to p-value < 0.05 we can now reject the null hypothesis stating equality of mean in both groups and go for the alternative one (non equal)."
   ]
  },
  {
   "cell_type": "code",
   "execution_count": 46,
   "metadata": {},
   "outputs": [],
   "source": [
    "# And now absolute cm1 and cm2 (mean) per order per day \n",
    "sp_cm1_daily = nc_nl[nc_nl['SCM_N_ORDER_NR'].isin(buy_sp_orders)].groupby('TDT_T_KEY_ORDER_DATE')['SCM_D_FINANCE_CM1'].sum()/\\\n",
    "               nc_nl[nc_nl['SCM_N_ORDER_NR'].isin(buy_sp_orders)].groupby('TDT_T_KEY_ORDER_DATE')['SCM_N_ORDER_NR'].nunique()\n",
    "sp_cm2_daily = nc_nl[nc_nl['SCM_N_ORDER_NR'].isin(buy_sp_orders)].groupby('TDT_T_KEY_ORDER_DATE')['SCM_D_FINANCE_CM2'].sum()/\\\n",
    "               nc_nl[nc_nl['SCM_N_ORDER_NR'].isin(buy_sp_orders)].groupby('TDT_T_KEY_ORDER_DATE')['SCM_N_ORDER_NR'].nunique()"
   ]
  },
  {
   "cell_type": "code",
   "execution_count": 170,
   "metadata": {},
   "outputs": [
    {
     "data": {
      "image/png": "[encoded data removed]",
      "text/plain": [
       "<matplotlib.figure.Figure at 0x18f6aa90>"
      ]
     },
     "metadata": {},
     "output_type": "display_data"
    }
   ],
   "source": [
    "plt.figure(figsize=(16,10))\n",
    "(sp_cm1_daily).plot()\n",
    "(sp_cm2_daily).plot()\n",
    "plt.ylabel('NC SP CM1 and CM2')\n",
    "plt.xlabel('Order Date')\n",
    "plt.title('Evolution of NC Savings Plan CM1 & CM2 per order (daily) in NL Shop')\n",
    "\n",
    "blue_patch = mpatches.Patch(color='blue', label='CM1')\n",
    "og_patch = mpatches.Patch(color='orange', label='CM2')\n",
    "plt.legend(handles=[blue_patch, og_patch])\n",
    "\n",
    "plt.axvline(x='2018-03-08', color='green')\n",
    "plt.text('2018-03-07', 23, 'brand_restrict 08 Mar', rotation=90)\n",
    "plt.axvline(x='2018-03-09', color='red')\n",
    "plt.text('2018-03-09', 23, 'DCR 09 Mar', rotation=90)\n",
    "plt.axvline(x='2018-03-12', color='yellow')\n",
    "plt.text('2018-03-12', 10, 'price_changes week 12-16 Mar', rotation=90)\n",
    "\n",
    "ax = plt.gca()"
   ]
  },
  {
   "cell_type": "markdown",
   "metadata": {},
   "source": [
    "**Absolute CM1**"
   ]
  },
  {
   "cell_type": "code",
   "execution_count": 48,
   "metadata": {},
   "outputs": [
    {
     "data": {
      "text/plain": [
       "15.363939897304235"
      ]
     },
     "execution_count": 48,
     "metadata": {},
     "output_type": "execute_result"
    }
   ],
   "source": [
    "#Mean CM1 per order before 08 Mar\n",
    "nc_nl[(nc_nl['SCM_N_ORDER_NR'].isin(buy_sp_orders)) & (nc_nl['TDT_T_KEY_ORDER_DATE'] < '2018-03-08')]['SCM_D_FINANCE_CM1'].sum()/\\\n",
    "nc_nl[(nc_nl['SCM_N_ORDER_NR'].isin(buy_sp_orders)) & (nc_nl['TDT_T_KEY_ORDER_DATE'] < '2018-03-08')]['SCM_N_ORDER_NR'].nunique()"
   ]
  },
  {
   "cell_type": "code",
   "execution_count": 49,
   "metadata": {},
   "outputs": [],
   "source": [
    "#CM1 per order before 08 Mar\n",
    "cm1_per_order_bef = nc_nl[(nc_nl['SCM_N_ORDER_NR'].isin(buy_sp_orders)) & (nc_nl['TDT_T_KEY_ORDER_DATE'] < '2018-03-08')]\\\n",
    ".groupby('SCM_N_ORDER_NR')['SCM_D_FINANCE_CM1'].sum()"
   ]
  },
  {
   "cell_type": "code",
   "execution_count": 50,
   "metadata": {},
   "outputs": [
    {
     "data": {
      "text/plain": [
       "18.861188954518607"
      ]
     },
     "execution_count": 50,
     "metadata": {},
     "output_type": "execute_result"
    }
   ],
   "source": [
    "#Mean CM1 per order from 08 Mar on\n",
    "nc_nl[(nc_nl['SCM_N_ORDER_NR'].isin(buy_sp_orders)) & (nc_nl['TDT_T_KEY_ORDER_DATE'] >= '2018-03-08')]['SCM_D_FINANCE_CM1'].sum()/\\\n",
    "nc_nl[(nc_nl['SCM_N_ORDER_NR'].isin(buy_sp_orders)) & (nc_nl['TDT_T_KEY_ORDER_DATE'] >= '2018-03-08')]['SCM_N_ORDER_NR'].nunique()"
   ]
  },
  {
   "cell_type": "code",
   "execution_count": 51,
   "metadata": {},
   "outputs": [],
   "source": [
    "#CM1 per order from 08 Mar on\n",
    "cm1_per_order_aft = nc_nl[(nc_nl['SCM_N_ORDER_NR'].isin(buy_sp_orders)) & (nc_nl['TDT_T_KEY_ORDER_DATE'] >= '2018-03-08')]\\\n",
    ".groupby('SCM_N_ORDER_NR')['SCM_D_FINANCE_CM1'].sum()"
   ]
  },
  {
   "cell_type": "code",
   "execution_count": 52,
   "metadata": {},
   "outputs": [
    {
     "data": {
      "text/plain": [
       "Ttest_indResult(statistic=-9.136552645203656, pvalue=1.2224035733135671e-19)"
      ]
     },
     "execution_count": 52,
     "metadata": {},
     "output_type": "execute_result"
    }
   ],
   "source": [
    "stats.ttest_ind(cm1_per_order_bef,\n",
    "                cm1_per_order_aft,\n",
    "                equal_var=False) "
   ]
  },
  {
   "cell_type": "markdown",
   "metadata": {},
   "source": [
    "Due to p-value < 0.05 we can now reject the null hypothesis stating equality of mean in both groups and go for the alternative one (non equal)."
   ]
  },
  {
   "cell_type": "markdown",
   "metadata": {},
   "source": [
    "**Absolute CM2**"
   ]
  },
  {
   "cell_type": "code",
   "execution_count": 53,
   "metadata": {},
   "outputs": [
    {
     "data": {
      "text/plain": [
       "7.44954947368421"
      ]
     },
     "execution_count": 53,
     "metadata": {},
     "output_type": "execute_result"
    }
   ],
   "source": [
    "#Daily mean CM2 per order before 08 Mar\n",
    "nc_nl[(nc_nl['SCM_N_ORDER_NR'].isin(buy_sp_orders)) & (nc_nl['TDT_T_KEY_ORDER_DATE'] < '2018-03-08')]['SCM_D_FINANCE_CM2'].sum()/\\\n",
    "nc_nl[(nc_nl['SCM_N_ORDER_NR'].isin(buy_sp_orders)) & (nc_nl['TDT_T_KEY_ORDER_DATE'] < '2018-03-08')]['SCM_N_ORDER_NR'].nunique()"
   ]
  },
  {
   "cell_type": "code",
   "execution_count": 54,
   "metadata": {},
   "outputs": [],
   "source": [
    "cm2_per_order_bef = nc_nl[(nc_nl['SCM_N_ORDER_NR'].isin(buy_sp_orders)) & (nc_nl['TDT_T_KEY_ORDER_DATE'] < '2018-03-08')]\\\n",
    ".groupby('SCM_N_ORDER_NR')['SCM_D_FINANCE_CM2'].sum()"
   ]
  },
  {
   "cell_type": "code",
   "execution_count": 55,
   "metadata": {},
   "outputs": [
    {
     "data": {
      "text/plain": [
       "10.646562787950383"
      ]
     },
     "execution_count": 55,
     "metadata": {},
     "output_type": "execute_result"
    }
   ],
   "source": [
    "#Daily mean CM2 per order from 08 Mar on\n",
    "nc_nl[(nc_nl['SCM_N_ORDER_NR'].isin(buy_sp_orders)) & (nc_nl['TDT_T_KEY_ORDER_DATE'] >= '2018-03-08')]['SCM_D_FINANCE_CM2'].sum()/\\\n",
    "nc_nl[(nc_nl['SCM_N_ORDER_NR'].isin(buy_sp_orders)) & (nc_nl['TDT_T_KEY_ORDER_DATE'] >= '2018-03-08')]['SCM_N_ORDER_NR'].nunique()"
   ]
  },
  {
   "cell_type": "code",
   "execution_count": 56,
   "metadata": {},
   "outputs": [],
   "source": [
    "cm2_per_order_aft = nc_nl[(nc_nl['SCM_N_ORDER_NR'].isin(buy_sp_orders)) & (nc_nl['TDT_T_KEY_ORDER_DATE'] >= '2018-03-08')]\\\n",
    ".groupby('SCM_N_ORDER_NR')['SCM_D_FINANCE_CM2'].sum()"
   ]
  },
  {
   "cell_type": "code",
   "execution_count": 57,
   "metadata": {},
   "outputs": [
    {
     "data": {
      "text/plain": [
       "Ttest_indResult(statistic=-10.216071696965075, pvalue=4.392939882918228e-24)"
      ]
     },
     "execution_count": 57,
     "metadata": {},
     "output_type": "execute_result"
    }
   ],
   "source": [
    "stats.ttest_ind(cm2_per_order_bef,\n",
    "                cm2_per_order_aft,\n",
    "                equal_var=False) "
   ]
  },
  {
   "cell_type": "markdown",
   "metadata": {},
   "source": [
    "Due to p-value < 0.05 we can now reject the null hypothesis stating equality of mean in both groups and go for the alternative one (non equal)."
   ]
  },
  {
   "cell_type": "code",
   "execution_count": 58,
   "metadata": {},
   "outputs": [],
   "source": [
    "lista5 = [float(str(i).replace(',','.')) for i in nc_nl['OSP_NET_VALUE']]\n",
    "nc_nl['OSP_NET_VALUE'] = lista5"
   ]
  },
  {
   "cell_type": "code",
   "execution_count": 59,
   "metadata": {},
   "outputs": [],
   "source": [
    "nc_nl['REL_%_CM1'] = nc_nl['SCM_D_FINANCE_CM1'] / nc_nl['OSP_NET_VALUE'] * 100"
   ]
  },
  {
   "cell_type": "code",
   "execution_count": 60,
   "metadata": {},
   "outputs": [],
   "source": [
    "nc_nl['REL_%_CM2'] = nc_nl['SCM_D_FINANCE_CM2'] / nc_nl['OSP_NET_VALUE'] * 100"
   ]
  },
  {
   "cell_type": "code",
   "execution_count": 61,
   "metadata": {},
   "outputs": [],
   "source": [
    "#Relative % cm1 and cm2 (mean) per order per day \n",
    "rel_cm1_per_order = nc_nl[nc_nl['SCM_N_ORDER_NR'].isin(buy_sp_orders)]\\\n",
    ".groupby(['TDT_T_KEY_ORDER_DATE','SCM_N_ORDER_NR'],  as_index=False)['REL_%_CM1'].sum()\n",
    "\n",
    "rel_cm1_per_order_by_day = rel_cm1_per_order.groupby('TDT_T_KEY_ORDER_DATE')['REL_%_CM1'].mean()\n",
    "\n",
    "rel_cm2_per_order = nc_nl[nc_nl['SCM_N_ORDER_NR'].isin(buy_sp_orders)]\\\n",
    ".groupby(['TDT_T_KEY_ORDER_DATE','SCM_N_ORDER_NR'],  as_index=False)['REL_%_CM2'].sum()\n",
    "\n",
    "rel_cm2_per_order_by_day = rel_cm2_per_order.groupby('TDT_T_KEY_ORDER_DATE')['REL_%_CM2'].mean()"
   ]
  },
  {
   "cell_type": "code",
   "execution_count": 62,
   "metadata": {},
   "outputs": [
    {
     "data": {
      "image/png": "[encoded data removed]",
      "text/plain": [
       "<matplotlib.figure.Figure at 0x19dd7c18>"
      ]
     },
     "metadata": {},
     "output_type": "display_data"
    }
   ],
   "source": [
    "plt.figure(figsize=(16,10))\n",
    "(rel_cm1_per_order_by_day).plot()\n",
    "(rel_cm2_per_order_by_day).plot()\n",
    "plt.ylabel('NC SP %CM1 and %CM2')\n",
    "plt.xlabel('Order Date')\n",
    "plt.title('Evolution of NC Savings Plan Relative % CM1 & CM2 per order (daily) in NL Shop')\n",
    "\n",
    "blue_patch = mpatches.Patch(color='blue', label='% CM1')\n",
    "og_patch = mpatches.Patch(color='orange', label='% CM2')\n",
    "plt.legend(handles=[blue_patch, og_patch])\n",
    "\n",
    "plt.axvline(x='2018-03-08', color='green')\n",
    "plt.text('2018-03-07', 25, 'brand_restrict 08 Mar', rotation=90)\n",
    "plt.axvline(x='2018-03-09', color='red')\n",
    "plt.text('2018-03-09', 25, 'DCR 09 Mar', rotation=90)\n",
    "plt.axvline(x='2018-03-12', color='yellow')\n",
    "plt.text('2018-03-12', 25, 'price_changes week 12-16 Mar', rotation=90)\n",
    "\n",
    "ax = plt.gca()"
   ]
  },
  {
   "cell_type": "markdown",
   "metadata": {},
   "source": [
    "**Relative CM1**"
   ]
  },
  {
   "cell_type": "code",
   "execution_count": 63,
   "metadata": {},
   "outputs": [
    {
     "data": {
      "text/plain": [
       "27.232904534406714"
      ]
     },
     "execution_count": 63,
     "metadata": {},
     "output_type": "execute_result"
    }
   ],
   "source": [
    "#Mean relative CM1 % per order before 08 Mar\n",
    "nc_nl[(nc_nl['SCM_N_ORDER_NR'].isin(buy_sp_orders)) & (nc_nl['TDT_T_KEY_ORDER_DATE'] < '2018-03-08')]\\\n",
    ".groupby('SCM_N_ORDER_NR')['REL_%_CM1'].sum().mean()"
   ]
  },
  {
   "cell_type": "code",
   "execution_count": 64,
   "metadata": {},
   "outputs": [],
   "source": [
    "#Relative CM1 % per order before 08 Mar\n",
    "rel_cm1_per_order_bef = nc_nl[(nc_nl['SCM_N_ORDER_NR'].isin(buy_sp_orders)) & (nc_nl['TDT_T_KEY_ORDER_DATE'] < '2018-03-08')]\\\n",
    ".groupby('SCM_N_ORDER_NR')['REL_%_CM1'].sum()"
   ]
  },
  {
   "cell_type": "code",
   "execution_count": 65,
   "metadata": {},
   "outputs": [
    {
     "data": {
      "text/plain": [
       "28.355169686249926"
      ]
     },
     "execution_count": 65,
     "metadata": {},
     "output_type": "execute_result"
    }
   ],
   "source": [
    "#Mean relative CM1 % per order from 08 Mar on\n",
    "nc_nl[(nc_nl['SCM_N_ORDER_NR'].isin(buy_sp_orders)) & (nc_nl['TDT_T_KEY_ORDER_DATE'] >= '2018-03-08')]\\\n",
    ".groupby('SCM_N_ORDER_NR')['REL_%_CM1'].sum().mean()"
   ]
  },
  {
   "cell_type": "code",
   "execution_count": 66,
   "metadata": {},
   "outputs": [],
   "source": [
    "#Relative CM1 % per order from 08 Mar on\n",
    "rel_cm1_per_order_aft = nc_nl[(nc_nl['SCM_N_ORDER_NR'].isin(buy_sp_orders)) & (nc_nl['TDT_T_KEY_ORDER_DATE'] < '2018-03-08')]\\\n",
    ".groupby('SCM_N_ORDER_NR')['REL_%_CM1'].sum()"
   ]
  },
  {
   "cell_type": "markdown",
   "metadata": {},
   "source": [
    "**Relative CM2**"
   ]
  },
  {
   "cell_type": "code",
   "execution_count": 67,
   "metadata": {},
   "outputs": [
    {
     "data": {
      "text/plain": [
       "12.036206728669654"
      ]
     },
     "execution_count": 67,
     "metadata": {},
     "output_type": "execute_result"
    }
   ],
   "source": [
    "nc_nl[(nc_nl['SCM_N_ORDER_NR'].isin(buy_sp_orders)) & (nc_nl['TDT_T_KEY_ORDER_DATE'] < '2018-03-08')]\\\n",
    ".groupby('SCM_N_ORDER_NR')['REL_%_CM2'].sum().mean()"
   ]
  },
  {
   "cell_type": "code",
   "execution_count": 68,
   "metadata": {},
   "outputs": [],
   "source": [
    "rel_cm2_per_order_bef = nc_nl[(nc_nl['SCM_N_ORDER_NR'].isin(buy_sp_orders)) & (nc_nl['TDT_T_KEY_ORDER_DATE'] < '2018-03-08')]\\\n",
    ".groupby('SCM_N_ORDER_NR')['REL_%_CM2'].sum()"
   ]
  },
  {
   "cell_type": "code",
   "execution_count": 69,
   "metadata": {},
   "outputs": [
    {
     "data": {
      "text/plain": [
       "15.256785209757203"
      ]
     },
     "execution_count": 69,
     "metadata": {},
     "output_type": "execute_result"
    }
   ],
   "source": [
    "nc_nl[(nc_nl['SCM_N_ORDER_NR'].isin(buy_sp_orders)) & (nc_nl['TDT_T_KEY_ORDER_DATE'] >= '2018-03-08')]\\\n",
    ".groupby('SCM_N_ORDER_NR')['REL_%_CM2'].sum().mean()"
   ]
  },
  {
   "cell_type": "code",
   "execution_count": 70,
   "metadata": {},
   "outputs": [],
   "source": [
    "rel_cm2_per_order_aft = nc_nl[(nc_nl['SCM_N_ORDER_NR'].isin(buy_sp_orders)) & (nc_nl['TDT_T_KEY_ORDER_DATE'] < '2018-03-08')]\\\n",
    ".groupby('SCM_N_ORDER_NR')['REL_%_CM2'].sum()"
   ]
  },
  {
   "cell_type": "markdown",
   "metadata": {},
   "source": [
    "***SUMMARY***"
   ]
  },
  {
   "cell_type": "markdown",
   "metadata": {},
   "source": [
    "| Date        | No. NC SP Sold per day| Sales NC SP Sold per day | CM1 per order (daily) | CM2 per order (daily)  | CM1% per order (daily) | CM2% per order (daily)  |\n",
    "| ------------- |:-------------:| -----:|:-------------:| -----:||:-------------:| -----:|\n",
    "| Before 08 Mar      | 59.02 | 249.81 | 15.36 | 7.45 |27.23% | 12.04% |\n",
    "| From 08 Mar on     | 43.41      |   229.64 | 18.86 | 10.65 |28.36% | 15.26% |"
   ]
  },
  {
   "cell_type": "markdown",
   "metadata": {},
   "source": [
    "..........................................................................................................................................................................................................................................."
   ]
  },
  {
   "attachments": {
    "image.png": {
     "image/png": "[encoded data removed]"
    }
   },
   "cell_type": "markdown",
   "metadata": {},
   "source": [
    "<html><head>\n",
    "\n",
    "\n",
    "<!-- Load require.js. Delete this if your page already loads require.js -->\n",
    "<script src=\"https://cdnjs.cloudflare.com/ajax/libs/require.js/2.3.4/require.min.js\" integrity=\"sha256-Ae2Vz/4ePdIu6ZyI/5ZGsYnb+m0JlOmKPjt6XZ9JJkA=\" crossorigin=\"anonymous\"></script>\n",
    "<script src=\"https://unpkg.com/@jupyter-widgets/html-manager@*/dist/embed-amd.js\" crossorigin=\"anonymous\"></script>\n",
    "<script type=\"application/vnd.jupyter.widget-state+json\">\n",
    "{\n",
    "    \"version_major\": 2,\n",
    "    \"version_minor\": 0,\n",
    "    \"state\": {}\n",
    "}\n",
    "</script>\n",
    "</head>\n",
    "<body>\n",
    "\n",
    "\n",
    "</body>\n",
    "</html>\n",
    "![image.png](attachment:image.png)"
   ]
  },
  {
   "cell_type": "code",
   "execution_count": 71,
   "metadata": {},
   "outputs": [
    {
     "data": {
      "text/plain": [
       "56.0     1417\n",
       "55.0      293\n",
       "151.0       6\n",
       "Name: CZP_ZTQ_ID, dtype: int64"
      ]
     },
     "execution_count": 71,
     "metadata": {},
     "output_type": "execute_result"
    }
   ],
   "source": [
    "#Type & number of different Savings Plan bought\n",
    "nc_nl[nc_nl['SCM_MASTER_AP_ID'] == 42225]['CZP_ZTQ_ID'].value_counts()"
   ]
  },
  {
   "cell_type": "code",
   "execution_count": 72,
   "metadata": {},
   "outputs": [
    {
     "data": {
      "text/plain": [
       "1    53835\n",
       "2    36315\n",
       "Name: OSP_KO_COUNT_NET, dtype: int64"
      ]
     },
     "execution_count": 72,
     "metadata": {},
     "output_type": "execute_result"
    }
   ],
   "source": [
    "#Number of 1st and 2nd orders in our dataset\n",
    "nc_nl.groupby('SCM_N_ORDER_NR')['OSP_KO_COUNT_NET'].mean().value_counts()"
   ]
  },
  {
   "cell_type": "code",
   "execution_count": 73,
   "metadata": {},
   "outputs": [],
   "source": [
    "#Let's list new lead PG4 restrictions for NL SHOP\n",
    "pg4_excluded = [283, 754, 311, 2302, 282, 3797, 167128, 314, 286, 315, 37572, 285, 867, \n",
    "                2072, 2071, 218624, 10728, 2085, 2078, 209912, 9616]"
   ]
  },
  {
   "cell_type": "code",
   "execution_count": 74,
   "metadata": {},
   "outputs": [],
   "source": [
    "#HCLV PG3 old\n",
    "pg3_hclv_old = [857, 251, 2068, 252, 18, 301, 23, 29, 34, 38]"
   ]
  },
  {
   "cell_type": "code",
   "execution_count": 75,
   "metadata": {},
   "outputs": [],
   "source": [
    "#HCLV PG3 new set up\n",
    "pg3_hclv_new = [23, 38, 251, 252, 857, 2068]"
   ]
  },
  {
   "cell_type": "code",
   "execution_count": 76,
   "metadata": {},
   "outputs": [],
   "source": [
    "#Split dataset using 08/03/2018 as inflection point...\n",
    "bef = nc_nl[nc_nl['TDT_T_KEY_ORDER_DATE'] < '2018-03-08']\n",
    "aft = nc_nl[nc_nl['TDT_T_KEY_ORDER_DATE'] >= '2018-03-08']"
   ]
  },
  {
   "cell_type": "code",
   "execution_count": 77,
   "metadata": {},
   "outputs": [
    {
     "data": {
      "text/plain": [
       "(57489, 32661)"
      ]
     },
     "execution_count": 77,
     "metadata": {},
     "output_type": "execute_result"
    }
   ],
   "source": [
    "bef['SCM_N_ORDER_NR'].nunique(), aft['SCM_N_ORDER_NR'].nunique()"
   ]
  },
  {
   "cell_type": "markdown",
   "metadata": {},
   "source": [
    "**Conversion before 08 Mar Period**"
   ]
  },
  {
   "cell_type": "markdown",
   "metadata": {},
   "source": [
    "Let's evaluate NC SP conversion in first orders (before 08 Mar) dividing total SP sold in first order (having HCLV PG3 old set up and AP_ID == 42225) by total 1st orders placed having the suitable HCLV PG3 (old set up):"
   ]
  },
  {
   "cell_type": "code",
   "execution_count": 78,
   "metadata": {},
   "outputs": [],
   "source": [
    "#All eligible customers in 1st orders having HCLV PG3 (old set up)\n",
    "all_elig_1st = bef[(bef['OSP_KO_COUNT_NET'] == 1) & (bef['OSP_3_LEAD_P_PG_ID'].isin(pg3_hclv_old))]['CUS_N_KEY_CUSTOMER'].unique()"
   ]
  },
  {
   "cell_type": "code",
   "execution_count": 79,
   "metadata": {},
   "outputs": [],
   "source": [
    "#Those eligible in 1st order who also bought it\n",
    "buy_in_1st = bef[(bef['OSP_KO_COUNT_NET'] == 1) & (bef['OSP_3_LEAD_P_PG_ID'].isin(pg3_hclv_old)) & (bef['SCM_MASTER_AP_ID'] == 42225)]\\\n",
    "['CUS_N_KEY_CUSTOMER'].unique()"
   ]
  },
  {
   "cell_type": "code",
   "execution_count": 80,
   "metadata": {},
   "outputs": [
    {
     "data": {
      "text/plain": [
       "1645"
      ]
     },
     "execution_count": 80,
     "metadata": {},
     "output_type": "execute_result"
    }
   ],
   "source": [
    "len(buy_in_1st)"
   ]
  },
  {
   "cell_type": "code",
   "execution_count": 81,
   "metadata": {},
   "outputs": [
    {
     "data": {
      "text/plain": [
       "19571"
      ]
     },
     "execution_count": 81,
     "metadata": {},
     "output_type": "execute_result"
    }
   ],
   "source": [
    "len(all_elig_1st)"
   ]
  },
  {
   "cell_type": "markdown",
   "metadata": {},
   "source": [
    "% Conversion rate in 1st orders"
   ]
  },
  {
   "cell_type": "code",
   "execution_count": 82,
   "metadata": {},
   "outputs": [
    {
     "data": {
      "text/plain": [
       "8.405293546574013"
      ]
     },
     "execution_count": 82,
     "metadata": {},
     "output_type": "execute_result"
    }
   ],
   "source": [
    "float(len(buy_in_1st)) / len(all_elig_1st) * 100"
   ]
  },
  {
   "cell_type": "markdown",
   "metadata": {},
   "source": [
    "Let's go through 2nd orders conversion using set operations. Due to time window, we are going to use only data from customer having both, 1st and 2nd orders in the dataset."
   ]
  },
  {
   "cell_type": "code",
   "execution_count": 83,
   "metadata": {},
   "outputs": [],
   "source": [
    "#Total customers id in 1st orders\n",
    "cus_1st = bef[bef['OSP_KO_COUNT_NET'] == 1]['CUS_N_KEY_CUSTOMER'].unique()"
   ]
  },
  {
   "cell_type": "code",
   "execution_count": 84,
   "metadata": {},
   "outputs": [],
   "source": [
    "#Total 2nd orders\n",
    "cus_2nd = bef[bef['OSP_KO_COUNT_NET'] == 2]['CUS_N_KEY_CUSTOMER'].unique()"
   ]
  },
  {
   "cell_type": "code",
   "execution_count": 85,
   "metadata": {},
   "outputs": [],
   "source": [
    "cus_sample = [i for i in cus_1st if i in cus_2nd]"
   ]
  },
  {
   "cell_type": "code",
   "execution_count": 86,
   "metadata": {},
   "outputs": [],
   "source": [
    "#1st orders in cus_sample\n",
    "cus_1_st = bef[(bef['OSP_KO_COUNT_NET'] == 1) &\n",
    "           bef['CUS_N_KEY_CUSTOMER'].isin(cus_sample)]['CUS_N_KEY_CUSTOMER'].unique()"
   ]
  },
  {
   "cell_type": "code",
   "execution_count": 87,
   "metadata": {},
   "outputs": [],
   "source": [
    "#2nd orders in cus_sample\n",
    "cus_2_nd = bef[(bef['OSP_KO_COUNT_NET'] == 2) &\n",
    "           bef['CUS_N_KEY_CUSTOMER'].isin(cus_sample)]['CUS_N_KEY_CUSTOMER'].unique()"
   ]
  },
  {
   "cell_type": "code",
   "execution_count": 88,
   "metadata": {},
   "outputs": [
    {
     "data": {
      "text/plain": [
       "(6417, 6417, 6417)"
      ]
     },
     "execution_count": 88,
     "metadata": {},
     "output_type": "execute_result"
    }
   ],
   "source": [
    "len(cus_sample), len(cus_1_st), len(cus_2_nd)"
   ]
  },
  {
   "cell_type": "code",
   "execution_count": 89,
   "metadata": {},
   "outputs": [],
   "source": [
    "#Eligible customer ids in 1st order\n",
    "cus_elig_1st = bef[(bef['OSP_KO_COUNT_NET'] == 1) & (bef['OSP_3_LEAD_P_PG_ID'].isin(pg3_hclv_old)) &\n",
    "                  (bef['CUS_N_KEY_CUSTOMER'].isin(cus_sample))]['CUS_N_KEY_CUSTOMER'].unique()"
   ]
  },
  {
   "cell_type": "code",
   "execution_count": 90,
   "metadata": {},
   "outputs": [
    {
     "data": {
      "text/plain": [
       "4050"
      ]
     },
     "execution_count": 90,
     "metadata": {},
     "output_type": "execute_result"
    }
   ],
   "source": [
    "len(cus_elig_1st)"
   ]
  },
  {
   "cell_type": "code",
   "execution_count": 91,
   "metadata": {},
   "outputs": [],
   "source": [
    "#Non-eligible customer ids in 1st order\n",
    "cus_not_elig_1st = [i for i in cus_1_st if i not in cus_elig_1st]"
   ]
  },
  {
   "cell_type": "code",
   "execution_count": 92,
   "metadata": {},
   "outputs": [
    {
     "data": {
      "text/plain": [
       "2367"
      ]
     },
     "execution_count": 92,
     "metadata": {},
     "output_type": "execute_result"
    }
   ],
   "source": [
    "len(cus_not_elig_1st)"
   ]
  },
  {
   "cell_type": "code",
   "execution_count": 93,
   "metadata": {},
   "outputs": [
    {
     "data": {
      "text/plain": [
       "True"
      ]
     },
     "execution_count": 93,
     "metadata": {},
     "output_type": "execute_result"
    }
   ],
   "source": [
    "len(cus_elig_1st) + len(cus_not_elig_1st) == len(cus_1_st)"
   ]
  },
  {
   "cell_type": "code",
   "execution_count": 94,
   "metadata": {},
   "outputs": [],
   "source": [
    "#Customer ids elegible in 1st and buying SP in 1st\n",
    "cus_buy_in_1st = bef[(bef['OSP_KO_COUNT_NET'] == 1) & (bef['OSP_3_LEAD_P_PG_ID'].isin(pg3_hclv_old)) &\n",
    "                (bef['SCM_MASTER_AP_ID'] == 42225) & (bef['CUS_N_KEY_CUSTOMER'].isin(cus_sample))]\\\n",
    "                ['CUS_N_KEY_CUSTOMER'].unique()"
   ]
  },
  {
   "cell_type": "code",
   "execution_count": 95,
   "metadata": {},
   "outputs": [
    {
     "data": {
      "text/plain": [
       "494"
      ]
     },
     "execution_count": 95,
     "metadata": {},
     "output_type": "execute_result"
    }
   ],
   "source": [
    "len(cus_buy_in_1st)"
   ]
  },
  {
   "cell_type": "markdown",
   "metadata": {},
   "source": [
    "% Conversion rate in 1st orders for our sample (higher...due to a more buying frequency?)"
   ]
  },
  {
   "cell_type": "code",
   "execution_count": 96,
   "metadata": {},
   "outputs": [
    {
     "data": {
      "text/plain": [
       "12.197530864197532"
      ]
     },
     "execution_count": 96,
     "metadata": {},
     "output_type": "execute_result"
    }
   ],
   "source": [
    "float(len(cus_buy_in_1st)) / len(cus_elig_1st) * 100"
   ]
  },
  {
   "cell_type": "code",
   "execution_count": 97,
   "metadata": {},
   "outputs": [],
   "source": [
    "#Customer ids elegible in 1st but not buying SP \n",
    "cus_elig_1st_not_buy = [i for i in cus_elig_1st if i not in cus_buy_in_1st]"
   ]
  },
  {
   "cell_type": "code",
   "execution_count": 98,
   "metadata": {},
   "outputs": [
    {
     "data": {
      "text/plain": [
       "3556"
      ]
     },
     "execution_count": 98,
     "metadata": {},
     "output_type": "execute_result"
    }
   ],
   "source": [
    "len(cus_elig_1st_not_buy)"
   ]
  },
  {
   "cell_type": "code",
   "execution_count": 99,
   "metadata": {},
   "outputs": [
    {
     "data": {
      "text/plain": [
       "True"
      ]
     },
     "execution_count": 99,
     "metadata": {},
     "output_type": "execute_result"
    }
   ],
   "source": [
    "len(cus_buy_in_1st) + len(cus_elig_1st_not_buy) == len(cus_elig_1st)"
   ]
  },
  {
   "cell_type": "code",
   "execution_count": 100,
   "metadata": {},
   "outputs": [],
   "source": [
    "#Customer ids with suitable 2nd orders to offer SP looking at lead PG3 (fake)\n",
    "cus_elig_2nd = bef[(bef['OSP_KO_COUNT_NET'] == 2) & (bef['OSP_3_LEAD_P_PG_ID'].isin(pg3_hclv_old)) &\n",
    "                  (bef['CUS_N_KEY_CUSTOMER'].isin(cus_sample))]['CUS_N_KEY_CUSTOMER'].unique()"
   ]
  },
  {
   "cell_type": "code",
   "execution_count": 101,
   "metadata": {},
   "outputs": [
    {
     "data": {
      "text/plain": [
       "4213"
      ]
     },
     "execution_count": 101,
     "metadata": {},
     "output_type": "execute_result"
    }
   ],
   "source": [
    "len(cus_elig_2nd)"
   ]
  },
  {
   "cell_type": "code",
   "execution_count": 102,
   "metadata": {},
   "outputs": [],
   "source": [
    "#Customer ids with no suitable 2nd orders to offer SP looking at lead PG3 (fake)\n",
    "cus_not_elig_2nd = [i for i in cus_2_nd if i not in cus_elig_2nd]"
   ]
  },
  {
   "cell_type": "code",
   "execution_count": 103,
   "metadata": {},
   "outputs": [
    {
     "data": {
      "text/plain": [
       "2204"
      ]
     },
     "execution_count": 103,
     "metadata": {},
     "output_type": "execute_result"
    }
   ],
   "source": [
    "len(cus_not_elig_2nd)"
   ]
  },
  {
   "cell_type": "code",
   "execution_count": 104,
   "metadata": {},
   "outputs": [],
   "source": [
    "#Total SP bought in 2nd order\n",
    "cus_buy_in_2nd = bef[(bef['OSP_KO_COUNT_NET'] == 2) & (bef['SCM_MASTER_AP_ID'] == 42225) &\n",
    "                   (bef['CUS_N_KEY_CUSTOMER'].isin(cus_sample))]['CUS_N_KEY_CUSTOMER'].unique()"
   ]
  },
  {
   "cell_type": "code",
   "execution_count": 105,
   "metadata": {},
   "outputs": [
    {
     "data": {
      "text/plain": [
       "628"
      ]
     },
     "execution_count": 105,
     "metadata": {},
     "output_type": "execute_result"
    }
   ],
   "source": [
    "len(cus_buy_in_2nd)"
   ]
  },
  {
   "cell_type": "code",
   "execution_count": 106,
   "metadata": {},
   "outputs": [],
   "source": [
    "#Eligible in 1st order customer ids making a 2nd order but not buying \n",
    "cus_elig_1st_2nd = [i for i in cus_elig_1st_not_buy if i in cus_2_nd and i not in cus_buy_in_2nd]"
   ]
  },
  {
   "cell_type": "code",
   "execution_count": 107,
   "metadata": {},
   "outputs": [
    {
     "data": {
      "text/plain": [
       "3028"
      ]
     },
     "execution_count": 107,
     "metadata": {},
     "output_type": "execute_result"
    }
   ],
   "source": [
    "len(cus_elig_1st_2nd)"
   ]
  },
  {
   "cell_type": "code",
   "execution_count": 108,
   "metadata": {},
   "outputs": [],
   "source": [
    "#Eligible in 1st order customer ids making a 2nd order where SP is bought \n",
    "cus_elig_1st_buy_2nd = [i for i in cus_elig_1st_not_buy if i in cus_buy_in_2nd]"
   ]
  },
  {
   "cell_type": "code",
   "execution_count": 109,
   "metadata": {},
   "outputs": [
    {
     "data": {
      "text/plain": [
       "528"
      ]
     },
     "execution_count": 109,
     "metadata": {},
     "output_type": "execute_result"
    }
   ],
   "source": [
    "len(cus_elig_1st_buy_2nd)"
   ]
  },
  {
   "cell_type": "code",
   "execution_count": 110,
   "metadata": {},
   "outputs": [
    {
     "data": {
      "text/plain": [
       "True"
      ]
     },
     "execution_count": 110,
     "metadata": {},
     "output_type": "execute_result"
    }
   ],
   "source": [
    "len(cus_elig_1st_2nd) + len(cus_elig_1st_buy_2nd) == len(cus_elig_1st_not_buy)"
   ]
  },
  {
   "cell_type": "code",
   "execution_count": 111,
   "metadata": {},
   "outputs": [],
   "source": [
    "#Customers ids non eligible in 1st, eligible during 2nd and not buying SP\n",
    "cus_not_elig_1st_2nd = [i for i in cus_not_elig_1st if i in cus_elig_2nd and i not in cus_buy_in_2nd]"
   ]
  },
  {
   "cell_type": "code",
   "execution_count": 112,
   "metadata": {},
   "outputs": [
    {
     "data": {
      "text/plain": [
       "788"
      ]
     },
     "execution_count": 112,
     "metadata": {},
     "output_type": "execute_result"
    }
   ],
   "source": [
    "len(cus_not_elig_1st_2nd)"
   ]
  },
  {
   "cell_type": "code",
   "execution_count": 113,
   "metadata": {},
   "outputs": [],
   "source": [
    "#Customers ids non eligible in 1st, eligible during 2nd and buying SP\n",
    "cus_not_elig_1st_buy_2nd = [i for i in cus_not_elig_1st if i in cus_buy_in_2nd]"
   ]
  },
  {
   "cell_type": "code",
   "execution_count": 114,
   "metadata": {},
   "outputs": [
    {
     "data": {
      "text/plain": [
       "100"
      ]
     },
     "execution_count": 114,
     "metadata": {},
     "output_type": "execute_result"
    }
   ],
   "source": [
    "len(cus_not_elig_1st_buy_2nd)"
   ]
  },
  {
   "cell_type": "code",
   "execution_count": 115,
   "metadata": {},
   "outputs": [
    {
     "data": {
      "text/plain": [
       "628"
      ]
     },
     "execution_count": 115,
     "metadata": {},
     "output_type": "execute_result"
    }
   ],
   "source": [
    "#eligible and non eligible customer ids in 1st order, eligible in 2nd and buying SP\n",
    "len(cus_elig_1st_buy_2nd) + len(cus_not_elig_1st_buy_2nd)"
   ]
  },
  {
   "cell_type": "code",
   "execution_count": 116,
   "metadata": {},
   "outputs": [
    {
     "data": {
      "text/plain": [
       "4444"
      ]
     },
     "execution_count": 116,
     "metadata": {},
     "output_type": "execute_result"
    }
   ],
   "source": [
    "#Total eligible customer ids in 2nd order\n",
    "len(cus_elig_1st_2nd) + len(cus_elig_1st_buy_2nd) + len(cus_not_elig_1st_2nd) + len(cus_not_elig_1st_buy_2nd)"
   ]
  },
  {
   "cell_type": "markdown",
   "metadata": {},
   "source": [
    "% Conversion rate in 2nd order"
   ]
  },
  {
   "cell_type": "code",
   "execution_count": 117,
   "metadata": {},
   "outputs": [
    {
     "data": {
      "text/plain": [
       "14.13141314131413"
      ]
     },
     "execution_count": 117,
     "metadata": {},
     "output_type": "execute_result"
    }
   ],
   "source": [
    "float(len(cus_elig_1st_buy_2nd) + len(cus_not_elig_1st_buy_2nd))/\\\n",
    "(len(cus_elig_1st_2nd) + len(cus_elig_1st_buy_2nd) + len(cus_not_elig_1st_2nd) + len(cus_not_elig_1st_buy_2nd)) * 100"
   ]
  },
  {
   "cell_type": "markdown",
   "metadata": {},
   "source": [
    "**Conversion from 08 Mar Period**"
   ]
  },
  {
   "cell_type": "code",
   "execution_count": 118,
   "metadata": {},
   "outputs": [],
   "source": [
    "#Number of 1st and 2nd orders from 08 Mar on\n",
    "aft_1st = aft.groupby('SCM_N_ORDER_NR')['OSP_KO_COUNT_NET'].mean()[aft.groupby('SCM_N_ORDER_NR')['OSP_KO_COUNT_NET'].mean() == 1].index.values\n",
    "aft_2nd = aft.groupby('SCM_N_ORDER_NR')['OSP_KO_COUNT_NET'].mean()[aft.groupby('SCM_N_ORDER_NR')['OSP_KO_COUNT_NET'].mean() == 2].index.values"
   ]
  },
  {
   "cell_type": "code",
   "execution_count": 119,
   "metadata": {},
   "outputs": [],
   "source": [
    "#All eligible customers in 1st orders having HCLV PG3 (new set up) and not having excluding PG4\n",
    "all_elig_1st_a = aft[(aft['OSP_KO_COUNT_NET'] == 1) & (aft['OSP_3_LEAD_P_PG_ID'].isin(pg3_hclv_new))\n",
    "                    & (~aft['OSP_4_LEAD_P_PG_ID'].isin(pg4_excluded))]['CUS_N_KEY_CUSTOMER'].unique()"
   ]
  },
  {
   "cell_type": "code",
   "execution_count": 120,
   "metadata": {},
   "outputs": [],
   "source": [
    "#Those eligible in 1st order who also bought it\n",
    "buy_in_1st_a = aft[(aft['OSP_KO_COUNT_NET'] == 1) & (aft['OSP_3_LEAD_P_PG_ID'].isin(pg3_hclv_new)) &\n",
    "                   (~aft['OSP_4_LEAD_P_PG_ID'].isin(pg4_excluded)) & (aft['SCM_MASTER_AP_ID'] == 42225)]\\\n",
    "                    ['CUS_N_KEY_CUSTOMER'].unique()"
   ]
  },
  {
   "cell_type": "code",
   "execution_count": 121,
   "metadata": {},
   "outputs": [
    {
     "data": {
      "text/plain": [
       "893"
      ]
     },
     "execution_count": 121,
     "metadata": {},
     "output_type": "execute_result"
    }
   ],
   "source": [
    "len(buy_in_1st_a)"
   ]
  },
  {
   "cell_type": "code",
   "execution_count": 122,
   "metadata": {},
   "outputs": [
    {
     "data": {
      "text/plain": [
       "8060"
      ]
     },
     "execution_count": 122,
     "metadata": {},
     "output_type": "execute_result"
    }
   ],
   "source": [
    "len(all_elig_1st_a)"
   ]
  },
  {
   "cell_type": "markdown",
   "metadata": {},
   "source": [
    "% Conversion rate in 1st orders"
   ]
  },
  {
   "cell_type": "code",
   "execution_count": 123,
   "metadata": {},
   "outputs": [
    {
     "data": {
      "text/plain": [
       "11.07940446650124"
      ]
     },
     "execution_count": 123,
     "metadata": {},
     "output_type": "execute_result"
    }
   ],
   "source": [
    "float(len(buy_in_1st_a)) / len(all_elig_1st_a) * 100"
   ]
  },
  {
   "cell_type": "markdown",
   "metadata": {},
   "source": [
    "Let's go through 2nd orders conversion using set operations. Due to time window, we are going to use only data from customer having both, 1st and 2nd orders in the dataset."
   ]
  },
  {
   "cell_type": "code",
   "execution_count": 124,
   "metadata": {},
   "outputs": [],
   "source": [
    "#Total customers id in 1st orders\n",
    "cus_1st_a = aft[aft['OSP_KO_COUNT_NET'] == 1]['CUS_N_KEY_CUSTOMER'].unique()"
   ]
  },
  {
   "cell_type": "code",
   "execution_count": 125,
   "metadata": {},
   "outputs": [],
   "source": [
    "#Total 2nd orders\n",
    "cus_2nd_a = aft[aft['OSP_KO_COUNT_NET'] == 2]['CUS_N_KEY_CUSTOMER'].unique()"
   ]
  },
  {
   "cell_type": "code",
   "execution_count": 126,
   "metadata": {},
   "outputs": [],
   "source": [
    "cus_sample_a = [i for i in cus_1st_a if i in cus_2nd_a]"
   ]
  },
  {
   "cell_type": "code",
   "execution_count": 127,
   "metadata": {},
   "outputs": [],
   "source": [
    "cus_1_st_a = aft[(aft['OSP_KO_COUNT_NET'] == 1) &\n",
    "           aft['CUS_N_KEY_CUSTOMER'].isin(cus_sample_a)]['CUS_N_KEY_CUSTOMER'].unique()"
   ]
  },
  {
   "cell_type": "code",
   "execution_count": 128,
   "metadata": {},
   "outputs": [],
   "source": [
    "cus_2_nd_a = aft[(aft['OSP_KO_COUNT_NET'] == 2) &\n",
    "           aft['CUS_N_KEY_CUSTOMER'].isin(cus_sample_a)]['CUS_N_KEY_CUSTOMER'].unique()"
   ]
  },
  {
   "cell_type": "code",
   "execution_count": 129,
   "metadata": {},
   "outputs": [
    {
     "data": {
      "text/plain": [
       "(2130, 2130, 2130)"
      ]
     },
     "execution_count": 129,
     "metadata": {},
     "output_type": "execute_result"
    }
   ],
   "source": [
    "len(cus_sample_a), len(cus_1_st_a), len(cus_2_nd_a)"
   ]
  },
  {
   "cell_type": "code",
   "execution_count": 130,
   "metadata": {},
   "outputs": [],
   "source": [
    "#Eligible customer ids in 1st order\n",
    "cus_elig_1st_a = aft[(aft['OSP_KO_COUNT_NET'] == 1) & (aft['OSP_3_LEAD_P_PG_ID'].isin(pg3_hclv_new)) &\n",
    "                (~aft['OSP_4_LEAD_P_PG_ID'].isin(pg4_excluded)) & (aft['CUS_N_KEY_CUSTOMER'].isin(cus_sample_a))]\\\n",
    "                ['CUS_N_KEY_CUSTOMER'].unique()"
   ]
  },
  {
   "cell_type": "code",
   "execution_count": 131,
   "metadata": {},
   "outputs": [
    {
     "data": {
      "text/plain": [
       "894"
      ]
     },
     "execution_count": 131,
     "metadata": {},
     "output_type": "execute_result"
    }
   ],
   "source": [
    "len(cus_elig_1st_a)"
   ]
  },
  {
   "cell_type": "code",
   "execution_count": 132,
   "metadata": {},
   "outputs": [],
   "source": [
    "#Non-eligible customer ids in 1st order\n",
    "cus_not_elig_1st_a = [i for i in cus_1_st_a if i not in cus_elig_1st_a]"
   ]
  },
  {
   "cell_type": "code",
   "execution_count": 133,
   "metadata": {},
   "outputs": [
    {
     "data": {
      "text/plain": [
       "1236"
      ]
     },
     "execution_count": 133,
     "metadata": {},
     "output_type": "execute_result"
    }
   ],
   "source": [
    "len(cus_not_elig_1st_a)"
   ]
  },
  {
   "cell_type": "code",
   "execution_count": 134,
   "metadata": {},
   "outputs": [
    {
     "data": {
      "text/plain": [
       "True"
      ]
     },
     "execution_count": 134,
     "metadata": {},
     "output_type": "execute_result"
    }
   ],
   "source": [
    "len(cus_elig_1st_a) + len(cus_not_elig_1st_a) == len(cus_1_st_a)"
   ]
  },
  {
   "cell_type": "code",
   "execution_count": 135,
   "metadata": {},
   "outputs": [],
   "source": [
    "#Customer ids elegible in 1st and buying SP in 1st\n",
    "cus_buy_in_1st_a = aft[(aft['OSP_KO_COUNT_NET'] == 1) & (aft['OSP_3_LEAD_P_PG_ID'].isin(pg3_hclv_new)) &\n",
    "                    (~aft['OSP_4_LEAD_P_PG_ID'].isin(pg4_excluded)) &\n",
    "                    (aft['SCM_MASTER_AP_ID'] == 42225) & (aft['CUS_N_KEY_CUSTOMER'].isin(cus_sample_a))]\\\n",
    "                    ['CUS_N_KEY_CUSTOMER'].unique()"
   ]
  },
  {
   "cell_type": "code",
   "execution_count": 136,
   "metadata": {},
   "outputs": [
    {
     "data": {
      "text/plain": [
       "160"
      ]
     },
     "execution_count": 136,
     "metadata": {},
     "output_type": "execute_result"
    }
   ],
   "source": [
    "len(cus_buy_in_1st_a)"
   ]
  },
  {
   "cell_type": "markdown",
   "metadata": {},
   "source": [
    "% Conversion rate in 1st orders for our sample (higher...due to a more buying frequency?)"
   ]
  },
  {
   "cell_type": "code",
   "execution_count": 137,
   "metadata": {},
   "outputs": [
    {
     "data": {
      "text/plain": [
       "17.89709172259508"
      ]
     },
     "execution_count": 137,
     "metadata": {},
     "output_type": "execute_result"
    }
   ],
   "source": [
    "float(len(cus_buy_in_1st_a)) / len(cus_elig_1st_a) * 100"
   ]
  },
  {
   "cell_type": "code",
   "execution_count": 138,
   "metadata": {},
   "outputs": [],
   "source": [
    "#Customer ids elegible in 1st but not buying SP \n",
    "cus_elig_1st_not_buy_a = [i for i in cus_elig_1st_a if i not in cus_buy_in_1st_a]"
   ]
  },
  {
   "cell_type": "code",
   "execution_count": 139,
   "metadata": {},
   "outputs": [
    {
     "data": {
      "text/plain": [
       "734"
      ]
     },
     "execution_count": 139,
     "metadata": {},
     "output_type": "execute_result"
    }
   ],
   "source": [
    "len(cus_elig_1st_not_buy_a)"
   ]
  },
  {
   "cell_type": "code",
   "execution_count": 140,
   "metadata": {},
   "outputs": [
    {
     "data": {
      "text/plain": [
       "True"
      ]
     },
     "execution_count": 140,
     "metadata": {},
     "output_type": "execute_result"
    }
   ],
   "source": [
    "len(cus_buy_in_1st_a) + len(cus_elig_1st_not_buy_a) == len(cus_elig_1st_a)"
   ]
  },
  {
   "cell_type": "code",
   "execution_count": 141,
   "metadata": {},
   "outputs": [],
   "source": [
    "#Customer ids with suitable 2nd orders to offer SP looking at lead PG3 (fake)\n",
    "cus_elig_2nd_a = aft[(aft['OSP_KO_COUNT_NET'] == 2) & (aft['OSP_3_LEAD_P_PG_ID'].isin(pg3_hclv_new)) &\n",
    "                   (~aft['OSP_4_LEAD_P_PG_ID'].isin(pg4_excluded)) &\n",
    "                  (aft['CUS_N_KEY_CUSTOMER'].isin(cus_sample_a))]['CUS_N_KEY_CUSTOMER'].unique()"
   ]
  },
  {
   "cell_type": "code",
   "execution_count": 142,
   "metadata": {},
   "outputs": [
    {
     "data": {
      "text/plain": [
       "846"
      ]
     },
     "execution_count": 142,
     "metadata": {},
     "output_type": "execute_result"
    }
   ],
   "source": [
    "len(cus_elig_2nd_a)"
   ]
  },
  {
   "cell_type": "code",
   "execution_count": 143,
   "metadata": {},
   "outputs": [],
   "source": [
    "#Customer ids with no suitable 2nd orders to offer SP looking at lead PG3 (fake)\n",
    "cus_not_elig_2nd_a = [i for i in cus_2_nd_a if i not in cus_elig_2nd_a]"
   ]
  },
  {
   "cell_type": "code",
   "execution_count": 144,
   "metadata": {},
   "outputs": [
    {
     "data": {
      "text/plain": [
       "1284"
      ]
     },
     "execution_count": 144,
     "metadata": {},
     "output_type": "execute_result"
    }
   ],
   "source": [
    "len(cus_not_elig_2nd_a)"
   ]
  },
  {
   "cell_type": "code",
   "execution_count": 145,
   "metadata": {},
   "outputs": [],
   "source": [
    "#Total SP bought in 2nd order\n",
    "cus_buy_in_2nd_a = aft[(aft['OSP_KO_COUNT_NET'] == 2) & (aft['SCM_MASTER_AP_ID'] == 42225) &\n",
    "                   (aft['CUS_N_KEY_CUSTOMER'].isin(cus_sample_a))]['CUS_N_KEY_CUSTOMER'].unique()"
   ]
  },
  {
   "cell_type": "code",
   "execution_count": 146,
   "metadata": {},
   "outputs": [
    {
     "data": {
      "text/plain": [
       "123"
      ]
     },
     "execution_count": 146,
     "metadata": {},
     "output_type": "execute_result"
    }
   ],
   "source": [
    "len(cus_buy_in_2nd_a)"
   ]
  },
  {
   "cell_type": "code",
   "execution_count": 147,
   "metadata": {},
   "outputs": [],
   "source": [
    "#Eligible in 1st order (not buying) customer ids making a 2nd order but not buying \n",
    "cus_elig_1st_2nd_a = [i for i in cus_elig_1st_not_buy_a if i in cus_2_nd_a and i not in cus_buy_in_2nd_a]"
   ]
  },
  {
   "cell_type": "code",
   "execution_count": 148,
   "metadata": {},
   "outputs": [
    {
     "data": {
      "text/plain": [
       "668"
      ]
     },
     "execution_count": 148,
     "metadata": {},
     "output_type": "execute_result"
    }
   ],
   "source": [
    "len(cus_elig_1st_2nd_a)"
   ]
  },
  {
   "cell_type": "code",
   "execution_count": 149,
   "metadata": {},
   "outputs": [],
   "source": [
    "#Eligible in 1st order customer ids making a 2nd order where SP is bought \n",
    "cus_elig_1st_buy_2nd_a = [i for i in cus_elig_1st_not_buy_a if i in cus_buy_in_2nd_a]"
   ]
  },
  {
   "cell_type": "code",
   "execution_count": 150,
   "metadata": {},
   "outputs": [
    {
     "data": {
      "text/plain": [
       "66"
      ]
     },
     "execution_count": 150,
     "metadata": {},
     "output_type": "execute_result"
    }
   ],
   "source": [
    "len(cus_elig_1st_buy_2nd_a)"
   ]
  },
  {
   "cell_type": "code",
   "execution_count": 151,
   "metadata": {},
   "outputs": [
    {
     "data": {
      "text/plain": [
       "True"
      ]
     },
     "execution_count": 151,
     "metadata": {},
     "output_type": "execute_result"
    }
   ],
   "source": [
    "len(cus_elig_1st_2nd_a) + len(cus_elig_1st_buy_2nd_a) == len(cus_elig_1st_not_buy_a)"
   ]
  },
  {
   "cell_type": "code",
   "execution_count": 152,
   "metadata": {},
   "outputs": [],
   "source": [
    "#Customer ids non-eligible in 1st, eligible during 2nd and not buying\n",
    "cus_not_elig_1st_2nd_a = [i for i in cus_not_elig_1st_a if i in cus_elig_2nd_a and i not in cus_buy_in_2nd_a]"
   ]
  },
  {
   "cell_type": "code",
   "execution_count": 153,
   "metadata": {},
   "outputs": [
    {
     "data": {
      "text/plain": [
       "242"
      ]
     },
     "execution_count": 153,
     "metadata": {},
     "output_type": "execute_result"
    }
   ],
   "source": [
    "len(cus_not_elig_1st_2nd_a)"
   ]
  },
  {
   "cell_type": "code",
   "execution_count": 154,
   "metadata": {},
   "outputs": [],
   "source": [
    "#Customer ids non-eligible in 1st, eligible during 2nd and buying SP\n",
    "cus_not_elig_1st_buy_2nd_a = [i for i in cus_not_elig_1st_a if i in cus_buy_in_2nd_a]"
   ]
  },
  {
   "cell_type": "code",
   "execution_count": 155,
   "metadata": {},
   "outputs": [
    {
     "data": {
      "text/plain": [
       "57"
      ]
     },
     "execution_count": 155,
     "metadata": {},
     "output_type": "execute_result"
    }
   ],
   "source": [
    "len(cus_not_elig_1st_buy_2nd_a)"
   ]
  },
  {
   "cell_type": "code",
   "execution_count": 156,
   "metadata": {},
   "outputs": [
    {
     "data": {
      "text/plain": [
       "123"
      ]
     },
     "execution_count": 156,
     "metadata": {},
     "output_type": "execute_result"
    }
   ],
   "source": [
    "#eligible and non-eligible customer ids in 1st order, eligible in 2nd and buying SP\n",
    "len(cus_elig_1st_buy_2nd_a) + len(cus_not_elig_1st_buy_2nd_a)"
   ]
  },
  {
   "cell_type": "code",
   "execution_count": 157,
   "metadata": {},
   "outputs": [
    {
     "data": {
      "text/plain": [
       "1033"
      ]
     },
     "execution_count": 157,
     "metadata": {},
     "output_type": "execute_result"
    }
   ],
   "source": [
    "#Total eligible customer ids in 2nd order\n",
    "len(cus_elig_1st_2nd_a) + len(cus_elig_1st_buy_2nd_a) + len(cus_not_elig_1st_2nd_a) + len(cus_not_elig_1st_buy_2nd_a)"
   ]
  },
  {
   "cell_type": "markdown",
   "metadata": {},
   "source": [
    "% Conversion rate in 2nd order"
   ]
  },
  {
   "cell_type": "code",
   "execution_count": 158,
   "metadata": {},
   "outputs": [
    {
     "data": {
      "text/plain": [
       "11.907066795740562"
      ]
     },
     "execution_count": 158,
     "metadata": {},
     "output_type": "execute_result"
    }
   ],
   "source": [
    "float(len(cus_elig_1st_buy_2nd_a) + len(cus_not_elig_1st_buy_2nd_a))/\\\n",
    "(len(cus_elig_1st_2nd_a) + len(cus_elig_1st_buy_2nd_a) + len(cus_not_elig_1st_2nd_a) + len(cus_not_elig_1st_buy_2nd_a)) * 100"
   ]
  },
  {
   "cell_type": "markdown",
   "metadata": {},
   "source": [
    ".............................................................................................................................................................................................................................................................."
   ]
  },
  {
   "cell_type": "markdown",
   "metadata": {},
   "source": [
    "| Date        | 1st order conversion %           | (sample) 2nd order conversion % |\n",
    "| ------------- |:-------------:| -----:|\n",
    "| Before 08 Mar      | 8.41 | 14.13 |\n",
    "| From 08 Mar on     | 11.08     |  11.91 |\n"
   ]
  },
  {
   "cell_type": "markdown",
   "metadata": {},
   "source": [
    "2nd order conversion is a bit tricky, we have for first period a 3 month time window (time enough for replenishment and repurchase) instead of a 1 month time window for the period after the changes. For calculations, we have selected in each time window only customers having placed 1st and 2nd order."
   ]
  },
  {
   "cell_type": "markdown",
   "metadata": {},
   "source": [
    "DCR?"
   ]
  },
  {
   "attachments": {
    "image.png": {
     "image/png": "[encoded data removed]"
    }
   },
   "cell_type": "markdown",
   "metadata": {},
   "source": [
    "<html><head>\n",
    "\n",
    "\n",
    "<!-- Load require.js. Delete this if your page already loads require.js -->\n",
    "<script src=\"https://cdnjs.cloudflare.com/ajax/libs/require.js/2.3.4/require.min.js\" integrity=\"sha256-Ae2Vz/4ePdIu6ZyI/5ZGsYnb+m0JlOmKPjt6XZ9JJkA=\" crossorigin=\"anonymous\"></script>\n",
    "<script src=\"https://unpkg.com/@jupyter-widgets/html-manager@*/dist/embed-amd.js\" crossorigin=\"anonymous\"></script>\n",
    "<script type=\"application/vnd.jupyter.widget-state+json\">\n",
    "{\n",
    "    \"version_major\": 2,\n",
    "    \"version_minor\": 0,\n",
    "    \"state\": {}\n",
    "}\n",
    "</script>\n",
    "</head>\n",
    "<body>\n",
    "\n",
    "\n",
    "</body>\n",
    "</html>\n",
    "![image.png](attachment:image.png)"
   ]
  },
  {
   "cell_type": "code",
   "execution_count": 159,
   "metadata": {},
   "outputs": [
    {
     "data": {
      "text/plain": [
       "array(['BE', 'NL', 'LU'], dtype=object)"
      ]
     },
     "execution_count": 159,
     "metadata": {},
     "output_type": "execute_result"
    }
   ],
   "source": [
    "nc_nl[nc_nl['TDT_T_KEY_ORDER_DATE'] >= ' 2018-03-08']['SCM_OCI_LAND'].unique()"
   ]
  },
  {
   "cell_type": "code",
   "execution_count": 160,
   "metadata": {},
   "outputs": [],
   "source": [
    "allowed_c = ['BE', 'NL']"
   ]
  },
  {
   "cell_type": "code",
   "execution_count": 161,
   "metadata": {},
   "outputs": [],
   "source": [
    "dcr = nc_nl[(nc_nl['TDT_T_KEY_ORDER_DATE'] >= ' 2018-03-09') & (~nc_nl['SCM_OCI_LAND'].isin(allowed_c))]"
   ]
  },
  {
   "cell_type": "code",
   "execution_count": 162,
   "metadata": {},
   "outputs": [
    {
     "data": {
      "text/plain": [
       "8"
      ]
     },
     "execution_count": 162,
     "metadata": {},
     "output_type": "execute_result"
    }
   ],
   "source": [
    "len(dcr['SCM_N_ORDER_NR'].unique())"
   ]
  },
  {
   "cell_type": "code",
   "execution_count": 163,
   "metadata": {},
   "outputs": [
    {
     "data": {
      "text/plain": [
       "0"
      ]
     },
     "execution_count": 163,
     "metadata": {},
     "output_type": "execute_result"
    }
   ],
   "source": [
    "#No SP sold\n",
    "(dcr['SCM_MASTER_AP_ID'] == 42225).sum()"
   ]
  },
  {
   "cell_type": "code",
   "execution_count": 164,
   "metadata": {},
   "outputs": [
    {
     "data": {
      "text/plain": [
       "0"
      ]
     },
     "execution_count": 164,
     "metadata": {},
     "output_type": "execute_result"
    }
   ],
   "source": [
    "#No SP discount applying neither\n",
    "(dcr['SCM_MASTER_AP_ID'] == 42715).sum()"
   ]
  },
  {
   "cell_type": "code",
   "execution_count": 165,
   "metadata": {},
   "outputs": [
    {
     "data": {
      "text/plain": [
       "6"
      ]
     },
     "execution_count": 165,
     "metadata": {},
     "output_type": "execute_result"
    }
   ],
   "source": [
    "#Criteria\n",
    "len(dcr[(dcr['OSP_3_LEAD_P_PG_ID'].isin(pg3_hclv_new)) & (~dcr['OSP_4_LEAD_P_PG_ID'].isin(pg4_excluded))]['SCM_N_ORDER_NR'].unique())"
   ]
  },
  {
   "cell_type": "markdown",
   "metadata": {},
   "source": [
    "% Orders (looking at PG3 and PG4 set up) suitable for being offered SP but exclude due to DCR"
   ]
  },
  {
   "cell_type": "code",
   "execution_count": 166,
   "metadata": {},
   "outputs": [
    {
     "data": {
      "text/plain": [
       "75.0"
      ]
     },
     "execution_count": 166,
     "metadata": {},
     "output_type": "execute_result"
    }
   ],
   "source": [
    "float(len(dcr[(dcr['OSP_3_LEAD_P_PG_ID'].isin(pg3_hclv_new)) & \n",
    "              (~dcr['OSP_4_LEAD_P_PG_ID'].isin(pg4_excluded))]['SCM_N_ORDER_NR'].unique())) / \\\n",
    "                len(dcr['SCM_N_ORDER_NR'].unique()) * 100"
   ]
  }
 ],
 "metadata": {
  "kernelspec": {
   "display_name": "Python 2",
   "language": "python",
   "name": "python2"
  },
  "language_info": {
   "codemirror_mode": {
    "name": "ipython",
    "version": 2
   },
   "file_extension": ".py",
   "mimetype": "text/x-python",
   "name": "python",
   "nbconvert_exporter": "python",
   "pygments_lexer": "ipython2",
   "version": "2.7.14"
  }
 },
 "nbformat": 4,
 "nbformat_minor": 2
}
