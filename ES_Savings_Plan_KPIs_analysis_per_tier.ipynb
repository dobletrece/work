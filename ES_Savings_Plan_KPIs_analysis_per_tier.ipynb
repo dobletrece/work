{
 "cells": [
  {
   "cell_type": "code",
   "execution_count": 1,
   "metadata": {
    "ExecuteTime": {
     "end_time": "2018-10-19T09:51:08.342294Z",
     "start_time": "2018-10-19T09:51:07.304294Z"
    }
   },
   "outputs": [],
   "source": [
    "import numpy as np\n",
    "import pandas as pd\n",
    "import dask.dataframe as dd\n",
    "import matplotlib.pyplot as plt\n",
    "%matplotlib inline\n",
    "from IPython.display import display\n",
    "from scipy import stats\n",
    "from statistics import stdev\n",
    "import datetime\n",
    "from datetime import timedelta\n",
    "from collections import Counter\n",
    "#import cx_Oracle\n",
    "import psycopg2\n",
    "import seaborn as sns\n",
    "import json\n",
    "import pickle\n",
    "#from fitter import Fitter\n",
    "from warnings import filterwarnings\n",
    "filterwarnings('ignore')"
   ]
  },
  {
   "cell_type": "code",
   "execution_count": 2,
   "metadata": {
    "ExecuteTime": {
     "end_time": "2018-10-19T09:51:10.247294Z",
     "start_time": "2018-10-19T09:51:08.344294Z"
    }
   },
   "outputs": [],
   "source": [
    "data = pd.read_pickle(\"./es_sp_orders_from_tiers_51-56.pkl\")"
   ]
  },
  {
   "cell_type": "code",
   "execution_count": 3,
   "metadata": {
    "ExecuteTime": {
     "end_time": "2018-10-19T09:51:10.259294Z",
     "start_time": "2018-10-19T09:51:10.248294Z"
    }
   },
   "outputs": [
    {
     "name": "stdout",
     "output_type": "stream",
     "text": [
      "<class 'pandas.core.frame.DataFrame'>\n",
      "Int64Index: 2029904 entries, 0 to 2056672\n",
      "Data columns (total 26 columns):\n",
      "SCM_N_ORDER_POS_NR              int64\n",
      "SCM_N_ORDER_NR                  int64\n",
      "TDT_T_KEY_ORDER_DATE            datetime64[ns]\n",
      "THR_C_KEY_ORDER_HOUR            object\n",
      "SIT_N_KEY_SITE                  int64\n",
      "CUS_N_KEY_CUSTOMER              int64\n",
      "SCM_SALES_BMF                   float64\n",
      "SCM_D_FINANCE_CM1               float64\n",
      "SCM_D_FINANCE_CM2               float64\n",
      "SCM_D_ORIG_FINANCE_ORDER_NET    float64\n",
      "SCM_AP_ID                       int64\n",
      "SCM_AS_ID                       int64\n",
      "SCM_MASTER_AP_ID                int64\n",
      "OSP_KO_COUNT_NET                int64\n",
      "OSP_3_LEAD_P_PG_ID              int64\n",
      "OSP_3_LEAD_P_PG_SHARE           float64\n",
      "OSP_4_LEAD_P_PG_ID              int64\n",
      "OSP_4_LEAD_P_PG_SHARE           float64\n",
      "CZP_START_DATE                  datetime64[ns]\n",
      "CZP_EXPIRY_DATE                 datetime64[ns]\n",
      "CZP_ZTQ_ID                      int64\n",
      "CZP_PERCENTAGE                  int64\n",
      "CZP_PRICE                       float64\n",
      "ORDER_DATETIME                  datetime64[ns]\n",
      "WEEK_NUMBER                     int64\n",
      "MONTH_NUMBER                    int64\n",
      "dtypes: datetime64[ns](4), float64(7), int64(14), object(1)\n",
      "memory usage: 418.1+ MB\n"
     ]
    }
   ],
   "source": [
    "data.info(verbose=True)"
   ]
  },
  {
   "cell_type": "code",
   "execution_count": 4,
   "metadata": {
    "ExecuteTime": {
     "end_time": "2018-10-19T09:51:10.293294Z",
     "start_time": "2018-10-19T09:51:10.260294Z"
    }
   },
   "outputs": [
    {
     "data": {
      "text/html": [
       "<div>\n",
       "<style scoped>\n",
       "    .dataframe tbody tr th:only-of-type {\n",
       "        vertical-align: middle;\n",
       "    }\n",
       "\n",
       "    .dataframe tbody tr th {\n",
       "        vertical-align: top;\n",
       "    }\n",
       "\n",
       "    .dataframe thead th {\n",
       "        text-align: right;\n",
       "    }\n",
       "</style>\n",
       "<table border=\"1\" class=\"dataframe\">\n",
       "  <thead>\n",
       "    <tr style=\"text-align: right;\">\n",
       "      <th></th>\n",
       "      <th>SCM_N_ORDER_POS_NR</th>\n",
       "      <th>SCM_N_ORDER_NR</th>\n",
       "      <th>TDT_T_KEY_ORDER_DATE</th>\n",
       "      <th>THR_C_KEY_ORDER_HOUR</th>\n",
       "      <th>SIT_N_KEY_SITE</th>\n",
       "      <th>CUS_N_KEY_CUSTOMER</th>\n",
       "      <th>SCM_SALES_BMF</th>\n",
       "      <th>SCM_D_FINANCE_CM1</th>\n",
       "      <th>SCM_D_FINANCE_CM2</th>\n",
       "      <th>SCM_D_ORIG_FINANCE_ORDER_NET</th>\n",
       "      <th>...</th>\n",
       "      <th>OSP_4_LEAD_P_PG_ID</th>\n",
       "      <th>OSP_4_LEAD_P_PG_SHARE</th>\n",
       "      <th>CZP_START_DATE</th>\n",
       "      <th>CZP_EXPIRY_DATE</th>\n",
       "      <th>CZP_ZTQ_ID</th>\n",
       "      <th>CZP_PERCENTAGE</th>\n",
       "      <th>CZP_PRICE</th>\n",
       "      <th>ORDER_DATETIME</th>\n",
       "      <th>WEEK_NUMBER</th>\n",
       "      <th>MONTH_NUMBER</th>\n",
       "    </tr>\n",
       "  </thead>\n",
       "  <tbody>\n",
       "    <tr>\n",
       "      <th>0</th>\n",
       "      <td>407314308</td>\n",
       "      <td>95461790</td>\n",
       "      <td>2017-10-01</td>\n",
       "      <td>17:56</td>\n",
       "      <td>15</td>\n",
       "      <td>7698713</td>\n",
       "      <td>-2.85</td>\n",
       "      <td>-2.5909</td>\n",
       "      <td>-2.5909</td>\n",
       "      <td>-2.5909</td>\n",
       "      <td>...</td>\n",
       "      <td>720</td>\n",
       "      <td>0.7018</td>\n",
       "      <td>2015-10-03 18:38:00</td>\n",
       "      <td>2018-10-03 23:59:00</td>\n",
       "      <td>54</td>\n",
       "      <td>5</td>\n",
       "      <td>9.90</td>\n",
       "      <td>2017-10-01 17:56:00</td>\n",
       "      <td>39</td>\n",
       "      <td>10</td>\n",
       "    </tr>\n",
       "    <tr>\n",
       "      <th>1</th>\n",
       "      <td>407314307</td>\n",
       "      <td>95461790</td>\n",
       "      <td>2017-10-01</td>\n",
       "      <td>17:56</td>\n",
       "      <td>15</td>\n",
       "      <td>7698713</td>\n",
       "      <td>0.00</td>\n",
       "      <td>-1.1200</td>\n",
       "      <td>-1.2645</td>\n",
       "      <td>0.0000</td>\n",
       "      <td>...</td>\n",
       "      <td>720</td>\n",
       "      <td>0.7018</td>\n",
       "      <td>2015-10-03 18:38:00</td>\n",
       "      <td>2018-10-03 23:59:00</td>\n",
       "      <td>54</td>\n",
       "      <td>5</td>\n",
       "      <td>9.90</td>\n",
       "      <td>2017-10-01 17:56:00</td>\n",
       "      <td>39</td>\n",
       "      <td>10</td>\n",
       "    </tr>\n",
       "    <tr>\n",
       "      <th>2</th>\n",
       "      <td>407314306</td>\n",
       "      <td>95461790</td>\n",
       "      <td>2017-10-01</td>\n",
       "      <td>17:56</td>\n",
       "      <td>15</td>\n",
       "      <td>7698713</td>\n",
       "      <td>39.99</td>\n",
       "      <td>7.5045</td>\n",
       "      <td>1.7982</td>\n",
       "      <td>36.3545</td>\n",
       "      <td>...</td>\n",
       "      <td>720</td>\n",
       "      <td>0.7018</td>\n",
       "      <td>2015-10-03 18:38:00</td>\n",
       "      <td>2018-10-03 23:59:00</td>\n",
       "      <td>54</td>\n",
       "      <td>5</td>\n",
       "      <td>9.90</td>\n",
       "      <td>2017-10-01 17:56:00</td>\n",
       "      <td>39</td>\n",
       "      <td>10</td>\n",
       "    </tr>\n",
       "    <tr>\n",
       "      <th>3</th>\n",
       "      <td>407394744</td>\n",
       "      <td>95481014</td>\n",
       "      <td>2017-10-01</td>\n",
       "      <td>21:29</td>\n",
       "      <td>15</td>\n",
       "      <td>4526107</td>\n",
       "      <td>17.49</td>\n",
       "      <td>2.7000</td>\n",
       "      <td>-0.8400</td>\n",
       "      <td>15.9000</td>\n",
       "      <td>...</td>\n",
       "      <td>2072</td>\n",
       "      <td>0.6250</td>\n",
       "      <td>2017-05-01 19:40:00</td>\n",
       "      <td>2020-05-01 23:59:00</td>\n",
       "      <td>52</td>\n",
       "      <td>3</td>\n",
       "      <td>5.99</td>\n",
       "      <td>2017-10-01 21:29:00</td>\n",
       "      <td>39</td>\n",
       "      <td>10</td>\n",
       "    </tr>\n",
       "    <tr>\n",
       "      <th>4</th>\n",
       "      <td>407394744</td>\n",
       "      <td>95481014</td>\n",
       "      <td>2017-10-01</td>\n",
       "      <td>21:29</td>\n",
       "      <td>15</td>\n",
       "      <td>4526107</td>\n",
       "      <td>17.49</td>\n",
       "      <td>2.7000</td>\n",
       "      <td>-0.8400</td>\n",
       "      <td>15.9000</td>\n",
       "      <td>...</td>\n",
       "      <td>2072</td>\n",
       "      <td>0.6250</td>\n",
       "      <td>2017-05-01 19:40:00</td>\n",
       "      <td>2020-05-01 23:59:00</td>\n",
       "      <td>52</td>\n",
       "      <td>3</td>\n",
       "      <td>5.99</td>\n",
       "      <td>2017-10-01 21:29:00</td>\n",
       "      <td>39</td>\n",
       "      <td>10</td>\n",
       "    </tr>\n",
       "  </tbody>\n",
       "</table>\n",
       "<p>5 rows × 26 columns</p>\n",
       "</div>"
      ],
      "text/plain": [
       "   SCM_N_ORDER_POS_NR  SCM_N_ORDER_NR TDT_T_KEY_ORDER_DATE  \\\n",
       "0           407314308        95461790           2017-10-01   \n",
       "1           407314307        95461790           2017-10-01   \n",
       "2           407314306        95461790           2017-10-01   \n",
       "3           407394744        95481014           2017-10-01   \n",
       "4           407394744        95481014           2017-10-01   \n",
       "\n",
       "  THR_C_KEY_ORDER_HOUR  SIT_N_KEY_SITE  CUS_N_KEY_CUSTOMER  SCM_SALES_BMF  \\\n",
       "0                17:56              15             7698713          -2.85   \n",
       "1                17:56              15             7698713           0.00   \n",
       "2                17:56              15             7698713          39.99   \n",
       "3                21:29              15             4526107          17.49   \n",
       "4                21:29              15             4526107          17.49   \n",
       "\n",
       "   SCM_D_FINANCE_CM1  SCM_D_FINANCE_CM2  SCM_D_ORIG_FINANCE_ORDER_NET  \\\n",
       "0            -2.5909            -2.5909                       -2.5909   \n",
       "1            -1.1200            -1.2645                        0.0000   \n",
       "2             7.5045             1.7982                       36.3545   \n",
       "3             2.7000            -0.8400                       15.9000   \n",
       "4             2.7000            -0.8400                       15.9000   \n",
       "\n",
       "      ...       OSP_4_LEAD_P_PG_ID  OSP_4_LEAD_P_PG_SHARE      CZP_START_DATE  \\\n",
       "0     ...                      720                 0.7018 2015-10-03 18:38:00   \n",
       "1     ...                      720                 0.7018 2015-10-03 18:38:00   \n",
       "2     ...                      720                 0.7018 2015-10-03 18:38:00   \n",
       "3     ...                     2072                 0.6250 2017-05-01 19:40:00   \n",
       "4     ...                     2072                 0.6250 2017-05-01 19:40:00   \n",
       "\n",
       "      CZP_EXPIRY_DATE  CZP_ZTQ_ID  CZP_PERCENTAGE  CZP_PRICE  \\\n",
       "0 2018-10-03 23:59:00          54               5       9.90   \n",
       "1 2018-10-03 23:59:00          54               5       9.90   \n",
       "2 2018-10-03 23:59:00          54               5       9.90   \n",
       "3 2020-05-01 23:59:00          52               3       5.99   \n",
       "4 2020-05-01 23:59:00          52               3       5.99   \n",
       "\n",
       "       ORDER_DATETIME WEEK_NUMBER MONTH_NUMBER  \n",
       "0 2017-10-01 17:56:00          39           10  \n",
       "1 2017-10-01 17:56:00          39           10  \n",
       "2 2017-10-01 17:56:00          39           10  \n",
       "3 2017-10-01 21:29:00          39           10  \n",
       "4 2017-10-01 21:29:00          39           10  \n",
       "\n",
       "[5 rows x 26 columns]"
      ]
     },
     "execution_count": 4,
     "metadata": {},
     "output_type": "execute_result"
    }
   ],
   "source": [
    "data.head()"
   ]
  },
  {
   "cell_type": "code",
   "execution_count": 5,
   "metadata": {
    "ExecuteTime": {
     "end_time": "2018-10-19T09:51:10.460294Z",
     "start_time": "2018-10-19T09:51:10.295294Z"
    }
   },
   "outputs": [],
   "source": [
    "data['FIRST_O_DATE'] = data['TDT_T_KEY_ORDER_DATE'].groupby(data['CUS_N_KEY_CUSTOMER']).transform('min')"
   ]
  },
  {
   "cell_type": "code",
   "execution_count": 6,
   "metadata": {
    "ExecuteTime": {
     "end_time": "2018-10-19T09:51:10.604294Z",
     "start_time": "2018-10-19T09:51:10.462294Z"
    }
   },
   "outputs": [],
   "source": [
    "data['LAST_O_DATE'] = data['TDT_T_KEY_ORDER_DATE'].groupby(data['CUS_N_KEY_CUSTOMER']).transform('max')"
   ]
  },
  {
   "cell_type": "code",
   "execution_count": 7,
   "metadata": {
    "ExecuteTime": {
     "end_time": "2018-10-19T09:51:10.756294Z",
     "start_time": "2018-10-19T09:51:10.605294Z"
    }
   },
   "outputs": [],
   "source": [
    "data['1ST_O_COUNTER'] = data['OSP_KO_COUNT_NET'].groupby(data['CUS_N_KEY_CUSTOMER']).transform('min')"
   ]
  },
  {
   "cell_type": "code",
   "execution_count": 8,
   "metadata": {
    "ExecuteTime": {
     "end_time": "2018-10-19T09:51:12.875294Z",
     "start_time": "2018-10-19T09:51:10.757294Z"
    }
   },
   "outputs": [],
   "source": [
    "data['D28'] = data['FIRST_O_DATE'] + timedelta(days = 28)\n",
    "data['D56'] = data['FIRST_O_DATE'] + timedelta(days = 56)\n",
    "data['D84'] = data['FIRST_O_DATE'] + timedelta(days = 84)\n",
    "data['D168'] = data['FIRST_O_DATE'] + timedelta(days = 168)\n",
    "data['D252'] = data['FIRST_O_DATE'] + timedelta(days = 252)\n",
    "data['D336'] = data['FIRST_O_DATE'] + timedelta(days = 336)"
   ]
  },
  {
   "cell_type": "code",
   "execution_count": 9,
   "metadata": {
    "ExecuteTime": {
     "end_time": "2018-10-19T09:51:12.883294Z",
     "start_time": "2018-10-19T09:51:12.876294Z"
    }
   },
   "outputs": [
    {
     "data": {
      "text/plain": [
       "Index(['SCM_N_ORDER_POS_NR', 'SCM_N_ORDER_NR', 'TDT_T_KEY_ORDER_DATE',\n",
       "       'THR_C_KEY_ORDER_HOUR', 'SIT_N_KEY_SITE', 'CUS_N_KEY_CUSTOMER',\n",
       "       'SCM_SALES_BMF', 'SCM_D_FINANCE_CM1', 'SCM_D_FINANCE_CM2',\n",
       "       'SCM_D_ORIG_FINANCE_ORDER_NET', 'SCM_AP_ID', 'SCM_AS_ID',\n",
       "       'SCM_MASTER_AP_ID', 'OSP_KO_COUNT_NET', 'OSP_3_LEAD_P_PG_ID',\n",
       "       'OSP_3_LEAD_P_PG_SHARE', 'OSP_4_LEAD_P_PG_ID', 'OSP_4_LEAD_P_PG_SHARE',\n",
       "       'CZP_START_DATE', 'CZP_EXPIRY_DATE', 'CZP_ZTQ_ID', 'CZP_PERCENTAGE',\n",
       "       'CZP_PRICE', 'ORDER_DATETIME', 'WEEK_NUMBER', 'MONTH_NUMBER',\n",
       "       'FIRST_O_DATE', 'LAST_O_DATE', '1ST_O_COUNTER', 'D28', 'D56', 'D84',\n",
       "       'D168', 'D252', 'D336'],\n",
       "      dtype='object')"
      ]
     },
     "execution_count": 9,
     "metadata": {},
     "output_type": "execute_result"
    }
   ],
   "source": [
    "data.columns"
   ]
  },
  {
   "cell_type": "code",
   "execution_count": 10,
   "metadata": {
    "ExecuteTime": {
     "end_time": "2018-10-19T09:51:12.896294Z",
     "start_time": "2018-10-19T09:51:12.885294Z"
    }
   },
   "outputs": [],
   "source": [
    "agg_ops = {'TDT_T_KEY_ORDER_DATE': min,\n",
    "          'CUS_N_KEY_CUSTOMER': min,\n",
    "          'CZP_ZTQ_ID': min, \n",
    "          'SCM_SALES_BMF': sum,\n",
    "          'SCM_D_FINANCE_CM1': sum,\n",
    "          'SCM_D_FINANCE_CM2': sum,\n",
    "          'SCM_D_ORIG_FINANCE_ORDER_NET': sum,\n",
    "          'OSP_KO_COUNT_NET': min,\n",
    "          'CZP_START_DATE': min,\n",
    "          'CZP_EXPIRY_DATE': min,\n",
    "          'ORDER_DATETIME': min,\n",
    "          'FIRST_O_DATE': min,\n",
    "          'LAST_O_DATE': min,\n",
    "          '1ST_O_COUNTER': min,\n",
    "          'D28': min,\n",
    "          'D56': min,\n",
    "          'D84': min,\n",
    "          'D168': min,\n",
    "          'D252': min,\n",
    "          'D336': min\n",
    "          }"
   ]
  },
  {
   "cell_type": "code",
   "execution_count": 11,
   "metadata": {
    "ExecuteTime": {
     "end_time": "2018-10-19T09:51:13.968294Z",
     "start_time": "2018-10-19T09:51:12.897294Z"
    }
   },
   "outputs": [],
   "source": [
    "orders = data.groupby('SCM_N_ORDER_NR', as_index=False).agg(agg_ops)"
   ]
  },
  {
   "cell_type": "code",
   "execution_count": 12,
   "metadata": {
    "ExecuteTime": {
     "end_time": "2018-10-19T09:51:14.020294Z",
     "start_time": "2018-10-19T09:51:13.969294Z"
    }
   },
   "outputs": [
    {
     "data": {
      "text/plain": [
       "(364755, 364755)"
      ]
     },
     "execution_count": 12,
     "metadata": {},
     "output_type": "execute_result"
    }
   ],
   "source": [
    "data['SCM_N_ORDER_NR'].nunique(), len(orders)"
   ]
  },
  {
   "cell_type": "code",
   "execution_count": 13,
   "metadata": {
    "ExecuteTime": {
     "end_time": "2018-10-19T09:51:14.053294Z",
     "start_time": "2018-10-19T09:51:14.022294Z"
    }
   },
   "outputs": [
    {
     "data": {
      "text/html": [
       "<div>\n",
       "<style scoped>\n",
       "    .dataframe tbody tr th:only-of-type {\n",
       "        vertical-align: middle;\n",
       "    }\n",
       "\n",
       "    .dataframe tbody tr th {\n",
       "        vertical-align: top;\n",
       "    }\n",
       "\n",
       "    .dataframe thead th {\n",
       "        text-align: right;\n",
       "    }\n",
       "</style>\n",
       "<table border=\"1\" class=\"dataframe\">\n",
       "  <thead>\n",
       "    <tr style=\"text-align: right;\">\n",
       "      <th></th>\n",
       "      <th>SCM_N_ORDER_NR</th>\n",
       "      <th>TDT_T_KEY_ORDER_DATE</th>\n",
       "      <th>CUS_N_KEY_CUSTOMER</th>\n",
       "      <th>CZP_ZTQ_ID</th>\n",
       "      <th>SCM_SALES_BMF</th>\n",
       "      <th>SCM_D_FINANCE_CM1</th>\n",
       "      <th>SCM_D_FINANCE_CM2</th>\n",
       "      <th>SCM_D_ORIG_FINANCE_ORDER_NET</th>\n",
       "      <th>OSP_KO_COUNT_NET</th>\n",
       "      <th>CZP_START_DATE</th>\n",
       "      <th>...</th>\n",
       "      <th>ORDER_DATETIME</th>\n",
       "      <th>FIRST_O_DATE</th>\n",
       "      <th>LAST_O_DATE</th>\n",
       "      <th>1ST_O_COUNTER</th>\n",
       "      <th>D28</th>\n",
       "      <th>D56</th>\n",
       "      <th>D84</th>\n",
       "      <th>D168</th>\n",
       "      <th>D252</th>\n",
       "      <th>D336</th>\n",
       "    </tr>\n",
       "  </thead>\n",
       "  <tbody>\n",
       "    <tr>\n",
       "      <th>364750</th>\n",
       "      <td>120154249</td>\n",
       "      <td>2018-09-30</td>\n",
       "      <td>15464916</td>\n",
       "      <td>51</td>\n",
       "      <td>60.03</td>\n",
       "      <td>17.1834</td>\n",
       "      <td>5.0032</td>\n",
       "      <td>53.6134</td>\n",
       "      <td>74</td>\n",
       "      <td>2017-11-11 23:19:00</td>\n",
       "      <td>...</td>\n",
       "      <td>2018-09-30 23:55:00</td>\n",
       "      <td>2017-10-03</td>\n",
       "      <td>2018-09-30</td>\n",
       "      <td>44</td>\n",
       "      <td>2017-10-31</td>\n",
       "      <td>2017-11-28</td>\n",
       "      <td>2017-12-26</td>\n",
       "      <td>2018-03-20</td>\n",
       "      <td>2018-06-12</td>\n",
       "      <td>2018-09-04</td>\n",
       "    </tr>\n",
       "    <tr>\n",
       "      <th>364751</th>\n",
       "      <td>120154287</td>\n",
       "      <td>2018-09-30</td>\n",
       "      <td>12538366</td>\n",
       "      <td>51</td>\n",
       "      <td>57.97</td>\n",
       "      <td>12.9600</td>\n",
       "      <td>3.9237</td>\n",
       "      <td>52.7000</td>\n",
       "      <td>19</td>\n",
       "      <td>2018-03-21 00:00:00</td>\n",
       "      <td>...</td>\n",
       "      <td>2018-09-30 23:57:00</td>\n",
       "      <td>2018-03-21</td>\n",
       "      <td>2018-09-30</td>\n",
       "      <td>16</td>\n",
       "      <td>2018-04-18</td>\n",
       "      <td>2018-05-16</td>\n",
       "      <td>2018-06-13</td>\n",
       "      <td>2018-09-05</td>\n",
       "      <td>2018-11-28</td>\n",
       "      <td>2019-02-20</td>\n",
       "    </tr>\n",
       "    <tr>\n",
       "      <th>364752</th>\n",
       "      <td>120154323</td>\n",
       "      <td>2018-09-30</td>\n",
       "      <td>14194003</td>\n",
       "      <td>51</td>\n",
       "      <td>97.94</td>\n",
       "      <td>6.3367</td>\n",
       "      <td>-0.7212</td>\n",
       "      <td>88.7967</td>\n",
       "      <td>11</td>\n",
       "      <td>2018-09-30 00:00:00</td>\n",
       "      <td>...</td>\n",
       "      <td>2018-09-30 23:59:00</td>\n",
       "      <td>2017-12-20</td>\n",
       "      <td>2018-09-30</td>\n",
       "      <td>7</td>\n",
       "      <td>2018-01-17</td>\n",
       "      <td>2018-02-14</td>\n",
       "      <td>2018-03-14</td>\n",
       "      <td>2018-06-06</td>\n",
       "      <td>2018-08-29</td>\n",
       "      <td>2018-11-21</td>\n",
       "    </tr>\n",
       "    <tr>\n",
       "      <th>364753</th>\n",
       "      <td>120154343</td>\n",
       "      <td>2018-09-30</td>\n",
       "      <td>5760523</td>\n",
       "      <td>54</td>\n",
       "      <td>55.82</td>\n",
       "      <td>1.7654</td>\n",
       "      <td>-11.0175</td>\n",
       "      <td>50.7454</td>\n",
       "      <td>49</td>\n",
       "      <td>2017-02-01 00:14:00</td>\n",
       "      <td>...</td>\n",
       "      <td>2018-09-30 23:59:00</td>\n",
       "      <td>2017-11-27</td>\n",
       "      <td>2018-09-30</td>\n",
       "      <td>35</td>\n",
       "      <td>2017-12-25</td>\n",
       "      <td>2018-01-22</td>\n",
       "      <td>2018-02-19</td>\n",
       "      <td>2018-05-14</td>\n",
       "      <td>2018-08-06</td>\n",
       "      <td>2018-10-29</td>\n",
       "    </tr>\n",
       "    <tr>\n",
       "      <th>364754</th>\n",
       "      <td>120154380</td>\n",
       "      <td>2018-09-30</td>\n",
       "      <td>2724250</td>\n",
       "      <td>51</td>\n",
       "      <td>48.36</td>\n",
       "      <td>18.3737</td>\n",
       "      <td>10.2880</td>\n",
       "      <td>43.1637</td>\n",
       "      <td>27</td>\n",
       "      <td>2018-01-16 12:14:00</td>\n",
       "      <td>...</td>\n",
       "      <td>2018-09-30 23:59:00</td>\n",
       "      <td>2018-01-16</td>\n",
       "      <td>2018-09-30</td>\n",
       "      <td>25</td>\n",
       "      <td>2018-02-13</td>\n",
       "      <td>2018-03-13</td>\n",
       "      <td>2018-04-10</td>\n",
       "      <td>2018-07-03</td>\n",
       "      <td>2018-09-25</td>\n",
       "      <td>2018-12-18</td>\n",
       "    </tr>\n",
       "  </tbody>\n",
       "</table>\n",
       "<p>5 rows × 21 columns</p>\n",
       "</div>"
      ],
      "text/plain": [
       "        SCM_N_ORDER_NR TDT_T_KEY_ORDER_DATE  CUS_N_KEY_CUSTOMER  CZP_ZTQ_ID  \\\n",
       "364750       120154249           2018-09-30            15464916          51   \n",
       "364751       120154287           2018-09-30            12538366          51   \n",
       "364752       120154323           2018-09-30            14194003          51   \n",
       "364753       120154343           2018-09-30             5760523          54   \n",
       "364754       120154380           2018-09-30             2724250          51   \n",
       "\n",
       "        SCM_SALES_BMF  SCM_D_FINANCE_CM1  SCM_D_FINANCE_CM2  \\\n",
       "364750          60.03            17.1834             5.0032   \n",
       "364751          57.97            12.9600             3.9237   \n",
       "364752          97.94             6.3367            -0.7212   \n",
       "364753          55.82             1.7654           -11.0175   \n",
       "364754          48.36            18.3737            10.2880   \n",
       "\n",
       "        SCM_D_ORIG_FINANCE_ORDER_NET  OSP_KO_COUNT_NET      CZP_START_DATE  \\\n",
       "364750                       53.6134                74 2017-11-11 23:19:00   \n",
       "364751                       52.7000                19 2018-03-21 00:00:00   \n",
       "364752                       88.7967                11 2018-09-30 00:00:00   \n",
       "364753                       50.7454                49 2017-02-01 00:14:00   \n",
       "364754                       43.1637                27 2018-01-16 12:14:00   \n",
       "\n",
       "          ...          ORDER_DATETIME FIRST_O_DATE LAST_O_DATE 1ST_O_COUNTER  \\\n",
       "364750    ...     2018-09-30 23:55:00   2017-10-03  2018-09-30            44   \n",
       "364751    ...     2018-09-30 23:57:00   2018-03-21  2018-09-30            16   \n",
       "364752    ...     2018-09-30 23:59:00   2017-12-20  2018-09-30             7   \n",
       "364753    ...     2018-09-30 23:59:00   2017-11-27  2018-09-30            35   \n",
       "364754    ...     2018-09-30 23:59:00   2018-01-16  2018-09-30            25   \n",
       "\n",
       "              D28        D56        D84       D168       D252       D336  \n",
       "364750 2017-10-31 2017-11-28 2017-12-26 2018-03-20 2018-06-12 2018-09-04  \n",
       "364751 2018-04-18 2018-05-16 2018-06-13 2018-09-05 2018-11-28 2019-02-20  \n",
       "364752 2018-01-17 2018-02-14 2018-03-14 2018-06-06 2018-08-29 2018-11-21  \n",
       "364753 2017-12-25 2018-01-22 2018-02-19 2018-05-14 2018-08-06 2018-10-29  \n",
       "364754 2018-02-13 2018-03-13 2018-04-10 2018-07-03 2018-09-25 2018-12-18  \n",
       "\n",
       "[5 rows x 21 columns]"
      ]
     },
     "execution_count": 13,
     "metadata": {},
     "output_type": "execute_result"
    }
   ],
   "source": [
    "orders.tail()"
   ]
  },
  {
   "cell_type": "code",
   "execution_count": 14,
   "metadata": {
    "ExecuteTime": {
     "end_time": "2018-10-19T09:51:14.113294Z",
     "start_time": "2018-10-19T09:51:14.055294Z"
    }
   },
   "outputs": [],
   "source": [
    "orders['OK_28D'] = (orders['TDT_T_KEY_ORDER_DATE'] <= orders['D28']) * 1\n",
    "orders['OK_56D'] = (orders['TDT_T_KEY_ORDER_DATE'] <= orders['D56']) * 1\n",
    "orders['OK_84D'] = (orders['TDT_T_KEY_ORDER_DATE'] <= orders['D84']) * 1\n",
    "orders['OK_168D'] = (orders['TDT_T_KEY_ORDER_DATE'] <= orders['D168']) * 1\n",
    "orders['OK_252D'] = (orders['TDT_T_KEY_ORDER_DATE'] <= orders['D252']) * 1\n",
    "orders['OK_336D'] = (orders['TDT_T_KEY_ORDER_DATE'] <= orders['D336']) * 1"
   ]
  },
  {
   "cell_type": "code",
   "execution_count": 15,
   "metadata": {
    "ExecuteTime": {
     "end_time": "2018-10-19T09:51:14.145294Z",
     "start_time": "2018-10-19T09:51:14.114294Z"
    }
   },
   "outputs": [],
   "source": [
    "orders['COUNTER_28D'] = orders['OK_28D'] * orders['OSP_KO_COUNT_NET']\n",
    "orders['COUNTER_56D'] = orders['OK_56D'] * orders['OSP_KO_COUNT_NET']\n",
    "orders['COUNTER_84D'] = orders['OK_84D'] * orders['OSP_KO_COUNT_NET']\n",
    "orders['COUNTER_168D'] = orders['OK_168D'] * orders['OSP_KO_COUNT_NET']\n",
    "orders['COUNTER_252D'] = orders['OK_252D'] * orders['OSP_KO_COUNT_NET']\n",
    "orders['COUNTER_336D'] = orders['OK_336D'] * orders['OSP_KO_COUNT_NET']"
   ]
  },
  {
   "cell_type": "code",
   "execution_count": 16,
   "metadata": {
    "ExecuteTime": {
     "end_time": "2018-10-19T09:51:14.420294Z",
     "start_time": "2018-10-19T09:51:14.147294Z"
    }
   },
   "outputs": [],
   "source": [
    "orders['MAX_COUNTER_28D'] = orders['COUNTER_28D'].groupby(orders['CUS_N_KEY_CUSTOMER']).transform('max')\n",
    "orders['MAX_COUNTER_56D'] = orders['COUNTER_56D'].groupby(orders['CUS_N_KEY_CUSTOMER']).transform('max')\n",
    "orders['MAX_COUNTER_84D'] = orders['COUNTER_84D'].groupby(orders['CUS_N_KEY_CUSTOMER']).transform('max')\n",
    "orders['MAX_COUNTER_168D'] = orders['COUNTER_168D'].groupby(orders['CUS_N_KEY_CUSTOMER']).transform('max')\n",
    "orders['MAX_COUNTER_252D'] = orders['COUNTER_252D'].groupby(orders['CUS_N_KEY_CUSTOMER']).transform('max')\n",
    "orders['MAX_COUNTER_336D'] = orders['COUNTER_336D'].groupby(orders['CUS_N_KEY_CUSTOMER']).transform('max')"
   ]
  },
  {
   "cell_type": "code",
   "execution_count": 17,
   "metadata": {
    "ExecuteTime": {
     "end_time": "2018-10-19T09:51:14.446294Z",
     "start_time": "2018-10-19T09:51:14.421294Z"
    }
   },
   "outputs": [],
   "source": [
    "orders['RR_28D'] = (orders['MAX_COUNTER_28D'] > orders['1ST_O_COUNTER']) * 1\n",
    "orders['RR_56D'] = (orders['MAX_COUNTER_56D'] > orders['MAX_COUNTER_28D']) * 1\n",
    "orders['RR_84D'] = (orders['MAX_COUNTER_84D'] > orders['MAX_COUNTER_56D']) * 1 \n",
    "orders['RR_168D'] = (orders['MAX_COUNTER_168D'] > orders['MAX_COUNTER_84D']) * 1\n",
    "orders['RR_252D'] = (orders['MAX_COUNTER_252D'] > orders['MAX_COUNTER_168D']) * 1 \n",
    "orders['RR_336D'] = (orders['MAX_COUNTER_336D'] > orders['MAX_COUNTER_168D']) * 1"
   ]
  },
  {
   "cell_type": "code",
   "execution_count": 18,
   "metadata": {
    "ExecuteTime": {
     "end_time": "2018-10-19T09:51:14.453294Z",
     "start_time": "2018-10-19T09:51:14.447294Z"
    }
   },
   "outputs": [
    {
     "data": {
      "text/plain": [
       "Index(['SCM_N_ORDER_NR', 'TDT_T_KEY_ORDER_DATE', 'CUS_N_KEY_CUSTOMER',\n",
       "       'CZP_ZTQ_ID', 'SCM_SALES_BMF', 'SCM_D_FINANCE_CM1', 'SCM_D_FINANCE_CM2',\n",
       "       'SCM_D_ORIG_FINANCE_ORDER_NET', 'OSP_KO_COUNT_NET', 'CZP_START_DATE',\n",
       "       'CZP_EXPIRY_DATE', 'ORDER_DATETIME', 'FIRST_O_DATE', 'LAST_O_DATE',\n",
       "       '1ST_O_COUNTER', 'D28', 'D56', 'D84', 'D168', 'D252', 'D336', 'OK_28D',\n",
       "       'OK_56D', 'OK_84D', 'OK_168D', 'OK_252D', 'OK_336D', 'COUNTER_28D',\n",
       "       'COUNTER_56D', 'COUNTER_84D', 'COUNTER_168D', 'COUNTER_252D',\n",
       "       'COUNTER_336D', 'MAX_COUNTER_28D', 'MAX_COUNTER_56D', 'MAX_COUNTER_84D',\n",
       "       'MAX_COUNTER_168D', 'MAX_COUNTER_252D', 'MAX_COUNTER_336D', 'RR_28D',\n",
       "       'RR_56D', 'RR_84D', 'RR_168D', 'RR_252D', 'RR_336D'],\n",
       "      dtype='object')"
      ]
     },
     "execution_count": 18,
     "metadata": {},
     "output_type": "execute_result"
    }
   ],
   "source": [
    "orders.columns"
   ]
  },
  {
   "cell_type": "code",
   "execution_count": 19,
   "metadata": {
    "ExecuteTime": {
     "end_time": "2018-10-19T09:51:14.476294Z",
     "start_time": "2018-10-19T09:51:14.454294Z"
    }
   },
   "outputs": [],
   "source": [
    "agg_ord_ops = {'CZP_ZTQ_ID': 'unique',\n",
    "              'SCM_N_ORDER_NR': len,\n",
    "              'SCM_SALES_BMF': [sum, lambda x: list(np.round(x, 2))],\n",
    "              'SCM_D_FINANCE_CM1': [sum, lambda x: list(np.round(x, 2))],\n",
    "              'SCM_D_FINANCE_CM2': [sum, lambda x: list(np.round(x, 2))],\n",
    "              'SCM_D_ORIG_FINANCE_ORDER_NET': [sum, lambda x: list(np.round(x, 2))],\n",
    "              'OSP_KO_COUNT_NET': lambda x: list(x),\n",
    "              'CZP_START_DATE': 'unique',\n",
    "              'CZP_EXPIRY_DATE': 'unique',\n",
    "              'FIRST_O_DATE': min,\n",
    "              'LAST_O_DATE': min,\n",
    "              '1ST_O_COUNTER': min,\n",
    "              'COUNTER_28D': max,\n",
    "              'COUNTER_56D': max,\n",
    "              'COUNTER_84D': max,\n",
    "              'COUNTER_168D': max,\n",
    "              'COUNTER_252D': max,\n",
    "              'COUNTER_336D': max\n",
    "              }"
   ]
  },
  {
   "cell_type": "code",
   "execution_count": 20,
   "metadata": {
    "ExecuteTime": {
     "end_time": "2018-10-19T09:52:03.159294Z",
     "start_time": "2018-10-19T09:51:14.477294Z"
    }
   },
   "outputs": [],
   "source": [
    "customers = orders.groupby('CUS_N_KEY_CUSTOMER', as_index=False).agg(agg_ord_ops).round(2)"
   ]
  },
  {
   "cell_type": "code",
   "execution_count": 21,
   "metadata": {
    "ExecuteTime": {
     "end_time": "2018-10-19T09:52:03.164294Z",
     "start_time": "2018-10-19T09:52:03.160294Z"
    }
   },
   "outputs": [],
   "source": [
    "customers.columns = ['_'.join(tup).rstrip('_') for tup in customers.columns.values]"
   ]
  },
  {
   "cell_type": "code",
   "execution_count": 22,
   "metadata": {
    "ExecuteTime": {
     "end_time": "2018-10-19T09:52:03.202294Z",
     "start_time": "2018-10-19T09:52:03.166294Z"
    }
   },
   "outputs": [
    {
     "data": {
      "text/html": [
       "<div>\n",
       "<style scoped>\n",
       "    .dataframe tbody tr th:only-of-type {\n",
       "        vertical-align: middle;\n",
       "    }\n",
       "\n",
       "    .dataframe tbody tr th {\n",
       "        vertical-align: top;\n",
       "    }\n",
       "\n",
       "    .dataframe thead th {\n",
       "        text-align: right;\n",
       "    }\n",
       "</style>\n",
       "<table border=\"1\" class=\"dataframe\">\n",
       "  <thead>\n",
       "    <tr style=\"text-align: right;\">\n",
       "      <th></th>\n",
       "      <th>CUS_N_KEY_CUSTOMER</th>\n",
       "      <th>CZP_ZTQ_ID_unique</th>\n",
       "      <th>SCM_N_ORDER_NR_len</th>\n",
       "      <th>SCM_SALES_BMF_sum</th>\n",
       "      <th>SCM_SALES_BMF_&lt;lambda&gt;</th>\n",
       "      <th>SCM_D_FINANCE_CM1_sum</th>\n",
       "      <th>SCM_D_FINANCE_CM1_&lt;lambda&gt;</th>\n",
       "      <th>SCM_D_FINANCE_CM2_sum</th>\n",
       "      <th>SCM_D_FINANCE_CM2_&lt;lambda&gt;</th>\n",
       "      <th>SCM_D_ORIG_FINANCE_ORDER_NET_sum</th>\n",
       "      <th>...</th>\n",
       "      <th>CZP_EXPIRY_DATE_unique</th>\n",
       "      <th>FIRST_O_DATE_min</th>\n",
       "      <th>LAST_O_DATE_min</th>\n",
       "      <th>1ST_O_COUNTER_min</th>\n",
       "      <th>COUNTER_28D_max</th>\n",
       "      <th>COUNTER_56D_max</th>\n",
       "      <th>COUNTER_84D_max</th>\n",
       "      <th>COUNTER_168D_max</th>\n",
       "      <th>COUNTER_252D_max</th>\n",
       "      <th>COUNTER_336D_max</th>\n",
       "    </tr>\n",
       "  </thead>\n",
       "  <tbody>\n",
       "    <tr>\n",
       "      <th>0</th>\n",
       "      <td>72564</td>\n",
       "      <td>[51, 52]</td>\n",
       "      <td>8</td>\n",
       "      <td>1353.08</td>\n",
       "      <td>[300.04, 98.88, 151.59, 52.78, 100.69, 139.08,...</td>\n",
       "      <td>439.58</td>\n",
       "      <td>[115.37, 25.7, 53.08, 13.62, 36.58, 45.96, 59....</td>\n",
       "      <td>207.85</td>\n",
       "      <td>[64.95, 9.14, 20.89, 0.57, 16.51, 9.05, 30.87,...</td>\n",
       "      <td>1220.62</td>\n",
       "      <td>...</td>\n",
       "      <td>[2018-04-10T12:31:00.000000000, 2021-04-10T00:...</td>\n",
       "      <td>2017-11-11</td>\n",
       "      <td>2018-08-29</td>\n",
       "      <td>68</td>\n",
       "      <td>68</td>\n",
       "      <td>68</td>\n",
       "      <td>70</td>\n",
       "      <td>72</td>\n",
       "      <td>74</td>\n",
       "      <td>75</td>\n",
       "    </tr>\n",
       "    <tr>\n",
       "      <th>1</th>\n",
       "      <td>198539</td>\n",
       "      <td>[52]</td>\n",
       "      <td>5</td>\n",
       "      <td>354.00</td>\n",
       "      <td>[142.4, 67.32, 50.73, 49.48, 44.07]</td>\n",
       "      <td>122.65</td>\n",
       "      <td>[36.26, 25.76, 18.68, 21.55, 20.41]</td>\n",
       "      <td>-7.51</td>\n",
       "      <td>[-0.99, -8.62, 1.5, 3.07, -2.48]</td>\n",
       "      <td>339.11</td>\n",
       "      <td>...</td>\n",
       "      <td>[2018-12-11T23:59:00.000000000]</td>\n",
       "      <td>2018-02-07</td>\n",
       "      <td>2018-09-26</td>\n",
       "      <td>94</td>\n",
       "      <td>94</td>\n",
       "      <td>94</td>\n",
       "      <td>96</td>\n",
       "      <td>97</td>\n",
       "      <td>102</td>\n",
       "      <td>102</td>\n",
       "    </tr>\n",
       "    <tr>\n",
       "      <th>2</th>\n",
       "      <td>245530</td>\n",
       "      <td>[52]</td>\n",
       "      <td>1</td>\n",
       "      <td>85.44</td>\n",
       "      <td>[85.44]</td>\n",
       "      <td>24.39</td>\n",
       "      <td>[24.39]</td>\n",
       "      <td>8.46</td>\n",
       "      <td>[8.46]</td>\n",
       "      <td>77.67</td>\n",
       "      <td>...</td>\n",
       "      <td>[2019-11-22T23:59:00.000000000]</td>\n",
       "      <td>2017-11-17</td>\n",
       "      <td>2017-11-17</td>\n",
       "      <td>43</td>\n",
       "      <td>43</td>\n",
       "      <td>43</td>\n",
       "      <td>43</td>\n",
       "      <td>43</td>\n",
       "      <td>43</td>\n",
       "      <td>43</td>\n",
       "    </tr>\n",
       "    <tr>\n",
       "      <th>3</th>\n",
       "      <td>246884</td>\n",
       "      <td>[51]</td>\n",
       "      <td>1</td>\n",
       "      <td>102.99</td>\n",
       "      <td>[102.99]</td>\n",
       "      <td>38.84</td>\n",
       "      <td>[38.84]</td>\n",
       "      <td>-5.82</td>\n",
       "      <td>[-5.82]</td>\n",
       "      <td>99.88</td>\n",
       "      <td>...</td>\n",
       "      <td>[2019-08-04T00:00:00.000000000]</td>\n",
       "      <td>2018-08-04</td>\n",
       "      <td>2018-08-04</td>\n",
       "      <td>9</td>\n",
       "      <td>9</td>\n",
       "      <td>9</td>\n",
       "      <td>9</td>\n",
       "      <td>9</td>\n",
       "      <td>9</td>\n",
       "      <td>9</td>\n",
       "    </tr>\n",
       "    <tr>\n",
       "      <th>4</th>\n",
       "      <td>254564</td>\n",
       "      <td>[53]</td>\n",
       "      <td>2</td>\n",
       "      <td>136.17</td>\n",
       "      <td>[46.47, 89.7]</td>\n",
       "      <td>26.21</td>\n",
       "      <td>[7.97, 18.25]</td>\n",
       "      <td>9.80</td>\n",
       "      <td>[-0.16, 9.96]</td>\n",
       "      <td>123.79</td>\n",
       "      <td>...</td>\n",
       "      <td>[2018-03-01T23:59:00.000000000, 2019-03-09T23:...</td>\n",
       "      <td>2017-12-12</td>\n",
       "      <td>2018-09-07</td>\n",
       "      <td>39</td>\n",
       "      <td>39</td>\n",
       "      <td>39</td>\n",
       "      <td>39</td>\n",
       "      <td>39</td>\n",
       "      <td>39</td>\n",
       "      <td>45</td>\n",
       "    </tr>\n",
       "  </tbody>\n",
       "</table>\n",
       "<p>5 rows × 23 columns</p>\n",
       "</div>"
      ],
      "text/plain": [
       "   CUS_N_KEY_CUSTOMER CZP_ZTQ_ID_unique  SCM_N_ORDER_NR_len  \\\n",
       "0               72564          [51, 52]                   8   \n",
       "1              198539              [52]                   5   \n",
       "2              245530              [52]                   1   \n",
       "3              246884              [51]                   1   \n",
       "4              254564              [53]                   2   \n",
       "\n",
       "   SCM_SALES_BMF_sum                             SCM_SALES_BMF_<lambda>  \\\n",
       "0            1353.08  [300.04, 98.88, 151.59, 52.78, 100.69, 139.08,...   \n",
       "1             354.00                [142.4, 67.32, 50.73, 49.48, 44.07]   \n",
       "2              85.44                                            [85.44]   \n",
       "3             102.99                                           [102.99]   \n",
       "4             136.17                                      [46.47, 89.7]   \n",
       "\n",
       "   SCM_D_FINANCE_CM1_sum                         SCM_D_FINANCE_CM1_<lambda>  \\\n",
       "0                 439.58  [115.37, 25.7, 53.08, 13.62, 36.58, 45.96, 59....   \n",
       "1                 122.65                [36.26, 25.76, 18.68, 21.55, 20.41]   \n",
       "2                  24.39                                            [24.39]   \n",
       "3                  38.84                                            [38.84]   \n",
       "4                  26.21                                      [7.97, 18.25]   \n",
       "\n",
       "   SCM_D_FINANCE_CM2_sum                         SCM_D_FINANCE_CM2_<lambda>  \\\n",
       "0                 207.85  [64.95, 9.14, 20.89, 0.57, 16.51, 9.05, 30.87,...   \n",
       "1                  -7.51                   [-0.99, -8.62, 1.5, 3.07, -2.48]   \n",
       "2                   8.46                                             [8.46]   \n",
       "3                  -5.82                                            [-5.82]   \n",
       "4                   9.80                                      [-0.16, 9.96]   \n",
       "\n",
       "   SCM_D_ORIG_FINANCE_ORDER_NET_sum        ...         \\\n",
       "0                           1220.62        ...          \n",
       "1                            339.11        ...          \n",
       "2                             77.67        ...          \n",
       "3                             99.88        ...          \n",
       "4                            123.79        ...          \n",
       "\n",
       "                              CZP_EXPIRY_DATE_unique FIRST_O_DATE_min  \\\n",
       "0  [2018-04-10T12:31:00.000000000, 2021-04-10T00:...       2017-11-11   \n",
       "1                    [2018-12-11T23:59:00.000000000]       2018-02-07   \n",
       "2                    [2019-11-22T23:59:00.000000000]       2017-11-17   \n",
       "3                    [2019-08-04T00:00:00.000000000]       2018-08-04   \n",
       "4  [2018-03-01T23:59:00.000000000, 2019-03-09T23:...       2017-12-12   \n",
       "\n",
       "  LAST_O_DATE_min 1ST_O_COUNTER_min COUNTER_28D_max COUNTER_56D_max  \\\n",
       "0      2018-08-29                68              68              68   \n",
       "1      2018-09-26                94              94              94   \n",
       "2      2017-11-17                43              43              43   \n",
       "3      2018-08-04                 9               9               9   \n",
       "4      2018-09-07                39              39              39   \n",
       "\n",
       "   COUNTER_84D_max  COUNTER_168D_max  COUNTER_252D_max  COUNTER_336D_max  \n",
       "0               70                72                74                75  \n",
       "1               96                97               102               102  \n",
       "2               43                43                43                43  \n",
       "3                9                 9                 9                 9  \n",
       "4               39                39                39                45  \n",
       "\n",
       "[5 rows x 23 columns]"
      ]
     },
     "execution_count": 22,
     "metadata": {},
     "output_type": "execute_result"
    }
   ],
   "source": [
    "customers.head()"
   ]
  },
  {
   "cell_type": "code",
   "execution_count": 24,
   "metadata": {
    "ExecuteTime": {
     "end_time": "2018-10-19T09:52:03.738294Z",
     "start_time": "2018-10-19T09:52:03.720294Z"
    }
   },
   "outputs": [],
   "source": [
    "customers['SUIT_28D'] = ((customers['LAST_O_DATE_min'].max() - timedelta(days=28)) >= customers['FIRST_O_DATE_min']) * 1\n",
    "customers['SUIT_56D'] = ((customers['LAST_O_DATE_min'].max() - timedelta(days=56)) >= customers['FIRST_O_DATE_min']) * 1\n",
    "customers['SUIT_84D'] = ((customers['LAST_O_DATE_min'].max() - timedelta(days=84)) >= customers['FIRST_O_DATE_min']) * 1\n",
    "customers['SUIT_168D'] = ((customers['LAST_O_DATE_min'].max() - timedelta(days=168)) >= customers['FIRST_O_DATE_min']) * 1\n",
    "customers['SUIT_252D'] = ((customers['LAST_O_DATE_min'].max() - timedelta(days=252)) >= customers['FIRST_O_DATE_min']) * 1\n",
    "customers['SUIT_336D'] = ((customers['LAST_O_DATE_min'].max() - timedelta(days=336)) >= customers['FIRST_O_DATE_min']) * 1"
   ]
  },
  {
   "cell_type": "code",
   "execution_count": 25,
   "metadata": {
    "ExecuteTime": {
     "end_time": "2018-10-19T09:52:03.753294Z",
     "start_time": "2018-10-19T09:52:03.739294Z"
    }
   },
   "outputs": [],
   "source": [
    "customers['R28D'] = (customers['COUNTER_28D_max'] > customers['1ST_O_COUNTER_min']) * 1\n",
    "customers['R56D'] = (customers['COUNTER_56D_max'] > customers['COUNTER_28D_max']) * 1\n",
    "customers['R84D'] = (customers['COUNTER_84D_max'] > customers['COUNTER_56D_max']) * 1\n",
    "customers['R168D'] = (customers['COUNTER_168D_max'] > customers['COUNTER_84D_max']) * 1\n",
    "customers['R252D'] = (customers['COUNTER_252D_max'] > customers['COUNTER_168D_max']) * 1\n",
    "customers['R336D'] = (customers['COUNTER_336D_max'] > customers['COUNTER_252D_max']) * 1"
   ]
  },
  {
   "cell_type": "code",
   "execution_count": 26,
   "metadata": {
    "ExecuteTime": {
     "end_time": "2018-10-19T09:52:03.766294Z",
     "start_time": "2018-10-19T09:52:03.755294Z"
    }
   },
   "outputs": [],
   "source": [
    "customers['RR_28D'] = customers['R28D']\n",
    "customers['RR_56D'] = customers['R56D'] | customers['RR_28D']\n",
    "customers['RR_84D'] = customers['R84D'] | customers['RR_56D']\n",
    "customers['RR_168D'] = customers['R168D'] | customers['RR_84D']\n",
    "customers['RR_252D'] = customers['R252D'] | customers['RR_168D']\n",
    "customers['RR_336D'] = customers['R336D'] | customers['RR_252D']"
   ]
  },
  {
   "cell_type": "code",
   "execution_count": 27,
   "metadata": {
    "ExecuteTime": {
     "end_time": "2018-10-19T09:52:03.781294Z",
     "start_time": "2018-10-19T09:52:03.768294Z"
    }
   },
   "outputs": [],
   "source": [
    "customers['R_28D'] = customers['RR_28D'] * customers['SUIT_28D']\n",
    "customers['R_56D'] = customers['RR_56D'] * customers['SUIT_56D']\n",
    "customers['R_84D'] = customers['RR_84D'] * customers['SUIT_84D']\n",
    "customers['R_168D'] = customers['RR_168D']  * customers['SUIT_168D']\n",
    "customers['R_252D'] = customers['RR_252D'] * customers['SUIT_252D']\n",
    "customers['R_336D'] = customers['RR_336D'] * customers['SUIT_336D']"
   ]
  },
  {
   "cell_type": "code",
   "execution_count": 28,
   "metadata": {
    "ExecuteTime": {
     "end_time": "2018-10-19T09:52:04.978294Z",
     "start_time": "2018-10-19T09:52:03.783294Z"
    }
   },
   "outputs": [],
   "source": [
    "customers.to_pickle(\"./test_local_es_sp_customers_tiers_51-56.pkl\")"
   ]
  },
  {
   "cell_type": "code",
   "execution_count": 29,
   "metadata": {
    "ExecuteTime": {
     "end_time": "2018-10-19T09:52:04.989294Z",
     "start_time": "2018-10-19T09:52:04.979294Z"
    }
   },
   "outputs": [],
   "source": [
    "mask = [len(i) == 1 for i in customers['CZP_ZTQ_ID_unique'].values]"
   ]
  },
  {
   "cell_type": "code",
   "execution_count": 30,
   "metadata": {
    "ExecuteTime": {
     "end_time": "2018-10-19T09:52:05.043294Z",
     "start_time": "2018-10-19T09:52:04.990294Z"
    }
   },
   "outputs": [],
   "source": [
    "sp_customers = customers[mask]"
   ]
  },
  {
   "cell_type": "code",
   "execution_count": 31,
   "metadata": {
    "ExecuteTime": {
     "end_time": "2018-10-19T09:52:05.048294Z",
     "start_time": "2018-10-19T09:52:05.044294Z"
    }
   },
   "outputs": [],
   "source": [
    "def get_number_from_string(i):\n",
    "    changes = str(i).replace('[', '').replace(']', '')\n",
    "    return int(changes)"
   ]
  },
  {
   "cell_type": "code",
   "execution_count": 32,
   "metadata": {
    "ExecuteTime": {
     "end_time": "2018-10-19T09:52:05.074294Z",
     "start_time": "2018-10-19T09:52:05.050294Z"
    }
   },
   "outputs": [],
   "source": [
    "t_customers = sp_customers.copy()"
   ]
  },
  {
   "cell_type": "code",
   "execution_count": 33,
   "metadata": {
    "ExecuteTime": {
     "end_time": "2018-10-19T09:52:07.121294Z",
     "start_time": "2018-10-19T09:52:05.075294Z"
    }
   },
   "outputs": [],
   "source": [
    "t_customers['CZP_ZTQ_ID_unique'] = t_customers['CZP_ZTQ_ID_unique'].map(get_number_from_string)"
   ]
  },
  {
   "cell_type": "code",
   "execution_count": 34,
   "metadata": {
    "ExecuteTime": {
     "end_time": "2018-10-19T09:52:07.130294Z",
     "start_time": "2018-10-19T09:52:07.123294Z"
    }
   },
   "outputs": [
    {
     "data": {
      "text/plain": [
       "51    22077\n",
       "56    12626\n",
       "52    12404\n",
       "53     7490\n",
       "54     6235\n",
       "55     2699\n",
       "Name: CZP_ZTQ_ID_unique, dtype: int64"
      ]
     },
     "execution_count": 34,
     "metadata": {},
     "output_type": "execute_result"
    }
   ],
   "source": [
    "t_customers['CZP_ZTQ_ID_unique'].value_counts()"
   ]
  },
  {
   "cell_type": "code",
   "execution_count": 35,
   "metadata": {
    "ExecuteTime": {
     "end_time": "2018-10-19T09:52:07.177294Z",
     "start_time": "2018-10-19T09:52:07.132294Z"
    }
   },
   "outputs": [],
   "source": [
    "tier_rr_28d = (t_customers.groupby('CZP_ZTQ_ID_unique')['R_28D'].sum() / t_customers.groupby('CZP_ZTQ_ID_unique')['SUIT_28D'].sum() * 100).round(2)\n",
    "tier_rr_56d = (t_customers.groupby('CZP_ZTQ_ID_unique')['R_56D'].sum() / t_customers.groupby('CZP_ZTQ_ID_unique')['SUIT_56D'].sum() * 100).round(2)\n",
    "tier_rr_84d = (t_customers.groupby('CZP_ZTQ_ID_unique')['R_84D'].sum() / t_customers.groupby('CZP_ZTQ_ID_unique')['SUIT_84D'].sum() * 100).round(2)\n",
    "tier_rr_168d = (t_customers.groupby('CZP_ZTQ_ID_unique')['R_168D'].sum() / t_customers.groupby('CZP_ZTQ_ID_unique')['SUIT_168D'].sum() * 100).round(2)\n",
    "tier_rr_252d = (t_customers.groupby('CZP_ZTQ_ID_unique')['R_252D'].sum() / t_customers.groupby('CZP_ZTQ_ID_unique')['SUIT_252D'].sum() * 100).round(2)\n",
    "tier_rr_336d = (t_customers.groupby('CZP_ZTQ_ID_unique')['R_336D'].sum() / t_customers.groupby('CZP_ZTQ_ID_unique')['SUIT_336D'].sum() * 100).round(2)"
   ]
  },
  {
   "cell_type": "code",
   "execution_count": 36,
   "metadata": {
    "ExecuteTime": {
     "end_time": "2018-10-19T09:52:07.193294Z",
     "start_time": "2018-10-19T09:52:07.178294Z"
    }
   },
   "outputs": [
    {
     "data": {
      "text/html": [
       "<div>\n",
       "<style scoped>\n",
       "    .dataframe tbody tr th:only-of-type {\n",
       "        vertical-align: middle;\n",
       "    }\n",
       "\n",
       "    .dataframe tbody tr th {\n",
       "        vertical-align: top;\n",
       "    }\n",
       "\n",
       "    .dataframe thead th {\n",
       "        text-align: right;\n",
       "    }\n",
       "</style>\n",
       "<table border=\"1\" class=\"dataframe\">\n",
       "  <thead>\n",
       "    <tr style=\"text-align: right;\">\n",
       "      <th></th>\n",
       "      <th>28d</th>\n",
       "      <th>56d</th>\n",
       "      <th>84d</th>\n",
       "      <th>168d</th>\n",
       "      <th>252d</th>\n",
       "      <th>336d</th>\n",
       "    </tr>\n",
       "    <tr>\n",
       "      <th>CZP_ZTQ_ID_unique</th>\n",
       "      <th></th>\n",
       "      <th></th>\n",
       "      <th></th>\n",
       "      <th></th>\n",
       "      <th></th>\n",
       "      <th></th>\n",
       "    </tr>\n",
       "  </thead>\n",
       "  <tbody>\n",
       "    <tr>\n",
       "      <th>51</th>\n",
       "      <td>21.06</td>\n",
       "      <td>49.44</td>\n",
       "      <td>67.41</td>\n",
       "      <td>85.34</td>\n",
       "      <td>90.22</td>\n",
       "      <td>94.13</td>\n",
       "    </tr>\n",
       "    <tr>\n",
       "      <th>52</th>\n",
       "      <td>21.54</td>\n",
       "      <td>48.28</td>\n",
       "      <td>66.53</td>\n",
       "      <td>88.51</td>\n",
       "      <td>94.53</td>\n",
       "      <td>96.88</td>\n",
       "    </tr>\n",
       "    <tr>\n",
       "      <th>53</th>\n",
       "      <td>19.67</td>\n",
       "      <td>46.17</td>\n",
       "      <td>63.14</td>\n",
       "      <td>83.24</td>\n",
       "      <td>88.46</td>\n",
       "      <td>92.68</td>\n",
       "    </tr>\n",
       "    <tr>\n",
       "      <th>54</th>\n",
       "      <td>22.08</td>\n",
       "      <td>46.76</td>\n",
       "      <td>63.43</td>\n",
       "      <td>86.67</td>\n",
       "      <td>93.32</td>\n",
       "      <td>96.73</td>\n",
       "    </tr>\n",
       "    <tr>\n",
       "      <th>55</th>\n",
       "      <td>15.54</td>\n",
       "      <td>36.27</td>\n",
       "      <td>51.05</td>\n",
       "      <td>66.79</td>\n",
       "      <td>72.16</td>\n",
       "      <td>72.33</td>\n",
       "    </tr>\n",
       "    <tr>\n",
       "      <th>56</th>\n",
       "      <td>19.34</td>\n",
       "      <td>44.82</td>\n",
       "      <td>59.79</td>\n",
       "      <td>75.32</td>\n",
       "      <td>79.11</td>\n",
       "      <td>84.26</td>\n",
       "    </tr>\n",
       "  </tbody>\n",
       "</table>\n",
       "</div>"
      ],
      "text/plain": [
       "                     28d    56d    84d   168d   252d   336d\n",
       "CZP_ZTQ_ID_unique                                          \n",
       "51                 21.06  49.44  67.41  85.34  90.22  94.13\n",
       "52                 21.54  48.28  66.53  88.51  94.53  96.88\n",
       "53                 19.67  46.17  63.14  83.24  88.46  92.68\n",
       "54                 22.08  46.76  63.43  86.67  93.32  96.73\n",
       "55                 15.54  36.27  51.05  66.79  72.16  72.33\n",
       "56                 19.34  44.82  59.79  75.32  79.11  84.26"
      ]
     },
     "execution_count": 36,
     "metadata": {},
     "output_type": "execute_result"
    }
   ],
   "source": [
    "rep_rate_tiers = pd.DataFrame([tier_rr_28d, tier_rr_56d, tier_rr_84d, tier_rr_168d, tier_rr_252d, tier_rr_336d]).T\n",
    "rep_rate_tiers.columns = ['28d', '56d', '84d', '168d', '252d', '336d']\n",
    "rep_rate_tiers"
   ]
  },
  {
   "cell_type": "code",
   "execution_count": 37,
   "metadata": {
    "ExecuteTime": {
     "end_time": "2018-10-19T09:52:07.205294Z",
     "start_time": "2018-10-19T09:52:07.194294Z"
    }
   },
   "outputs": [],
   "source": [
    "ztq = [51, 52, 53, 54, 55, 56]"
   ]
  },
  {
   "cell_type": "code",
   "execution_count": 38,
   "metadata": {
    "ExecuteTime": {
     "end_time": "2018-10-19T09:52:08.101294Z",
     "start_time": "2018-10-19T09:52:07.207294Z"
    }
   },
   "outputs": [
    {
     "data": {
      "image/png": "[encoded data removed]",
      "text/plain": [
       "<matplotlib.figure.Figure at 0x23faad68>"
      ]
     },
     "metadata": {},
     "output_type": "display_data"
    },
    {
     "data": {
      "text/html": [
       "<div>\n",
       "<style scoped>\n",
       "    .dataframe tbody tr th:only-of-type {\n",
       "        vertical-align: middle;\n",
       "    }\n",
       "\n",
       "    .dataframe tbody tr th {\n",
       "        vertical-align: top;\n",
       "    }\n",
       "\n",
       "    .dataframe thead th {\n",
       "        text-align: right;\n",
       "    }\n",
       "</style>\n",
       "<table border=\"1\" class=\"dataframe\">\n",
       "  <thead>\n",
       "    <tr style=\"text-align: right;\">\n",
       "      <th></th>\n",
       "      <th>Tier 51 ORDERS</th>\n",
       "      <th>Tier 52 ORDERS</th>\n",
       "      <th>Tier 53 ORDERS</th>\n",
       "      <th>Tier 54 ORDERS</th>\n",
       "      <th>Tier 55 ORDERS</th>\n",
       "      <th>Tier 56 ORDERS</th>\n",
       "    </tr>\n",
       "  </thead>\n",
       "  <tbody>\n",
       "    <tr>\n",
       "      <th>count</th>\n",
       "      <td>22077.00</td>\n",
       "      <td>12404.00</td>\n",
       "      <td>7490.00</td>\n",
       "      <td>6235.00</td>\n",
       "      <td>2699.00</td>\n",
       "      <td>12626.00</td>\n",
       "    </tr>\n",
       "    <tr>\n",
       "      <th>mean</th>\n",
       "      <td>5.21</td>\n",
       "      <td>6.02</td>\n",
       "      <td>5.14</td>\n",
       "      <td>6.33</td>\n",
       "      <td>2.84</td>\n",
       "      <td>3.76</td>\n",
       "    </tr>\n",
       "    <tr>\n",
       "      <th>std</th>\n",
       "      <td>4.47</td>\n",
       "      <td>5.13</td>\n",
       "      <td>4.60</td>\n",
       "      <td>6.57</td>\n",
       "      <td>2.37</td>\n",
       "      <td>6.79</td>\n",
       "    </tr>\n",
       "    <tr>\n",
       "      <th>min</th>\n",
       "      <td>1.00</td>\n",
       "      <td>1.00</td>\n",
       "      <td>1.00</td>\n",
       "      <td>1.00</td>\n",
       "      <td>1.00</td>\n",
       "      <td>1.00</td>\n",
       "    </tr>\n",
       "    <tr>\n",
       "      <th>25%</th>\n",
       "      <td>2.00</td>\n",
       "      <td>3.00</td>\n",
       "      <td>2.00</td>\n",
       "      <td>3.00</td>\n",
       "      <td>1.00</td>\n",
       "      <td>1.00</td>\n",
       "    </tr>\n",
       "    <tr>\n",
       "      <th>50%</th>\n",
       "      <td>4.00</td>\n",
       "      <td>5.00</td>\n",
       "      <td>4.00</td>\n",
       "      <td>5.00</td>\n",
       "      <td>2.00</td>\n",
       "      <td>3.00</td>\n",
       "    </tr>\n",
       "    <tr>\n",
       "      <th>75%</th>\n",
       "      <td>7.00</td>\n",
       "      <td>8.00</td>\n",
       "      <td>7.00</td>\n",
       "      <td>8.00</td>\n",
       "      <td>4.00</td>\n",
       "      <td>5.00</td>\n",
       "    </tr>\n",
       "    <tr>\n",
       "      <th>max</th>\n",
       "      <td>95.00</td>\n",
       "      <td>80.00</td>\n",
       "      <td>102.00</td>\n",
       "      <td>142.00</td>\n",
       "      <td>19.00</td>\n",
       "      <td>499.00</td>\n",
       "    </tr>\n",
       "  </tbody>\n",
       "</table>\n",
       "</div>"
      ],
      "text/plain": [
       "       Tier 51 ORDERS  Tier 52 ORDERS  Tier 53 ORDERS  Tier 54 ORDERS  \\\n",
       "count        22077.00        12404.00         7490.00         6235.00   \n",
       "mean             5.21            6.02            5.14            6.33   \n",
       "std              4.47            5.13            4.60            6.57   \n",
       "min              1.00            1.00            1.00            1.00   \n",
       "25%              2.00            3.00            2.00            3.00   \n",
       "50%              4.00            5.00            4.00            5.00   \n",
       "75%              7.00            8.00            7.00            8.00   \n",
       "max             95.00           80.00          102.00          142.00   \n",
       "\n",
       "       Tier 55 ORDERS  Tier 56 ORDERS  \n",
       "count         2699.00        12626.00  \n",
       "mean             2.84            3.76  \n",
       "std              2.37            6.79  \n",
       "min              1.00            1.00  \n",
       "25%              1.00            1.00  \n",
       "50%              2.00            3.00  \n",
       "75%              4.00            5.00  \n",
       "max             19.00          499.00  "
      ]
     },
     "metadata": {},
     "output_type": "display_data"
    }
   ],
   "source": [
    "sns.set()\n",
    "plt.figure(figsize=(16,10))\n",
    "plt.suptitle('Histograms showing orders per customer & tier within 1 year time period', fontsize=14)\n",
    "plt.subplot(321)\n",
    "data_tier_51 = t_customers[t_customers['CZP_ZTQ_ID_unique'] == 51]\n",
    "data_tier_51['SCM_N_ORDER_NR_len'].hist(bins=30, range=(0, 30), color='#0066ff', alpha=0.5)\n",
    "plt.legend([51])\n",
    "plt.subplot(322)\n",
    "data_tier_52 = t_customers[t_customers['CZP_ZTQ_ID_unique'] == 52]\n",
    "data_tier_52['SCM_N_ORDER_NR_len'].hist(bins=30, range=(0, 30), color='#ff9900', alpha=0.5)\n",
    "plt.legend([52])\n",
    "plt.subplot(323)\n",
    "data_tier_53 = t_customers[t_customers['CZP_ZTQ_ID_unique'] == 53]\n",
    "data_tier_53['SCM_N_ORDER_NR_len'].hist(bins=30, range=(0, 30), color='#009900', alpha=0.5)\n",
    "plt.legend([53])\n",
    "plt.subplot(324)\n",
    "data_tier_54 = t_customers[t_customers['CZP_ZTQ_ID_unique'] == 54]\n",
    "data_tier_54['SCM_N_ORDER_NR_len'].hist(bins=30, range=(0, 30), color='#ff0000', alpha=0.5)\n",
    "plt.legend([54])\n",
    "plt.subplot(325)\n",
    "data_tier_55 = t_customers[t_customers['CZP_ZTQ_ID_unique'] == 55]\n",
    "data_tier_55['SCM_N_ORDER_NR_len'].hist(bins=30, range=(0, 30), color='#993399', alpha=0.5)\n",
    "plt.legend([55])\n",
    "plt.subplot(326)\n",
    "data_tier_56 = t_customers[t_customers['CZP_ZTQ_ID_unique'] == 56]\n",
    "data_tier_56['SCM_N_ORDER_NR_len'].hist(bins=30, range=(0, 30), color='#996633', alpha=0.5)\n",
    "plt.legend([56])\n",
    "plt.show() \n",
    "\n",
    "concat_df = pd.DataFrame()\n",
    "for tq in ztq:\n",
    "    data_tier = t_customers[t_customers['CZP_ZTQ_ID_unique'] == tq]\n",
    "    concat_df = pd.concat([concat_df,\n",
    "                           pd.DataFrame(data_tier['SCM_N_ORDER_NR_len'].describe().round(2)),\n",
    "                           ], axis=1)\n",
    "concat_df.columns = ['Tier 51 ORDERS', 'Tier 52 ORDERS', 'Tier 53 ORDERS',\n",
    "                     'Tier 54 ORDERS', 'Tier 55 ORDERS', 'Tier 56 ORDERS']\n",
    "display(concat_df)"
   ]
  },
  {
   "cell_type": "code",
   "execution_count": 39,
   "metadata": {
    "ExecuteTime": {
     "end_time": "2018-10-19T09:52:09.846294Z",
     "start_time": "2018-10-19T09:52:08.102294Z"
    }
   },
   "outputs": [
    {
     "data": {
      "image/png": "[encoded data removed]",
      "text/plain": [
       "<matplotlib.figure.Figure at 0x240742b0>"
      ]
     },
     "metadata": {},
     "output_type": "display_data"
    },
    {
     "data": {
      "text/html": [
       "<div>\n",
       "<style scoped>\n",
       "    .dataframe tbody tr th:only-of-type {\n",
       "        vertical-align: middle;\n",
       "    }\n",
       "\n",
       "    .dataframe tbody tr th {\n",
       "        vertical-align: top;\n",
       "    }\n",
       "\n",
       "    .dataframe thead th {\n",
       "        text-align: right;\n",
       "    }\n",
       "</style>\n",
       "<table border=\"1\" class=\"dataframe\">\n",
       "  <thead>\n",
       "    <tr style=\"text-align: right;\">\n",
       "      <th></th>\n",
       "      <th>Tier 51 Order_Counter</th>\n",
       "      <th>Tier 52 Order_Counter</th>\n",
       "      <th>Tier 53 Order_Counter</th>\n",
       "      <th>Tier 54 Order_Counter</th>\n",
       "      <th>Tier 55 Order_Counter</th>\n",
       "      <th>Tier 56 Order_Counter</th>\n",
       "    </tr>\n",
       "  </thead>\n",
       "  <tbody>\n",
       "    <tr>\n",
       "      <th>count</th>\n",
       "      <td>127931.00</td>\n",
       "      <td>86059.00</td>\n",
       "      <td>41888.00</td>\n",
       "      <td>43440.00</td>\n",
       "      <td>8564.00</td>\n",
       "      <td>56873.00</td>\n",
       "    </tr>\n",
       "    <tr>\n",
       "      <th>mean</th>\n",
       "      <td>28.88</td>\n",
       "      <td>38.96</td>\n",
       "      <td>27.93</td>\n",
       "      <td>53.37</td>\n",
       "      <td>4.80</td>\n",
       "      <td>104.73</td>\n",
       "    </tr>\n",
       "    <tr>\n",
       "      <th>std</th>\n",
       "      <td>28.09</td>\n",
       "      <td>40.78</td>\n",
       "      <td>24.72</td>\n",
       "      <td>114.18</td>\n",
       "      <td>4.33</td>\n",
       "      <td>490.51</td>\n",
       "    </tr>\n",
       "    <tr>\n",
       "      <th>min</th>\n",
       "      <td>1.00</td>\n",
       "      <td>2.00</td>\n",
       "      <td>1.00</td>\n",
       "      <td>1.00</td>\n",
       "      <td>1.00</td>\n",
       "      <td>1.00</td>\n",
       "    </tr>\n",
       "    <tr>\n",
       "      <th>25%</th>\n",
       "      <td>12.00</td>\n",
       "      <td>17.00</td>\n",
       "      <td>13.00</td>\n",
       "      <td>20.00</td>\n",
       "      <td>2.00</td>\n",
       "      <td>3.00</td>\n",
       "    </tr>\n",
       "    <tr>\n",
       "      <th>50%</th>\n",
       "      <td>21.00</td>\n",
       "      <td>29.00</td>\n",
       "      <td>22.00</td>\n",
       "      <td>31.00</td>\n",
       "      <td>4.00</td>\n",
       "      <td>5.00</td>\n",
       "    </tr>\n",
       "    <tr>\n",
       "      <th>75%</th>\n",
       "      <td>36.00</td>\n",
       "      <td>48.00</td>\n",
       "      <td>35.00</td>\n",
       "      <td>52.00</td>\n",
       "      <td>6.00</td>\n",
       "      <td>8.00</td>\n",
       "    </tr>\n",
       "    <tr>\n",
       "      <th>max</th>\n",
       "      <td>465.00</td>\n",
       "      <td>4016.00</td>\n",
       "      <td>290.00</td>\n",
       "      <td>4721.00</td>\n",
       "      <td>49.00</td>\n",
       "      <td>7571.00</td>\n",
       "    </tr>\n",
       "  </tbody>\n",
       "</table>\n",
       "</div>"
      ],
      "text/plain": [
       "       Tier 51 Order_Counter  Tier 52 Order_Counter  Tier 53 Order_Counter  \\\n",
       "count              127931.00               86059.00               41888.00   \n",
       "mean                   28.88                  38.96                  27.93   \n",
       "std                    28.09                  40.78                  24.72   \n",
       "min                     1.00                   2.00                   1.00   \n",
       "25%                    12.00                  17.00                  13.00   \n",
       "50%                    21.00                  29.00                  22.00   \n",
       "75%                    36.00                  48.00                  35.00   \n",
       "max                   465.00                4016.00                 290.00   \n",
       "\n",
       "       Tier 54 Order_Counter  Tier 55 Order_Counter  Tier 56 Order_Counter  \n",
       "count               43440.00                8564.00               56873.00  \n",
       "mean                   53.37                   4.80                 104.73  \n",
       "std                   114.18                   4.33                 490.51  \n",
       "min                     1.00                   1.00                   1.00  \n",
       "25%                    20.00                   2.00                   3.00  \n",
       "50%                    31.00                   4.00                   5.00  \n",
       "75%                    52.00                   6.00                   8.00  \n",
       "max                  4721.00                  49.00                7571.00  "
      ]
     },
     "metadata": {},
     "output_type": "display_data"
    }
   ],
   "source": [
    "concat_df = pd.DataFrame()\n",
    "sns.set()\n",
    "plt.figure(figsize=(16,8))\n",
    "plt.title('Histogram showing order counter per Tier', fontsize=14)\n",
    "\n",
    "for tq in ztq:\n",
    "    data_tier = orders[orders['CZP_ZTQ_ID'] == tq]\n",
    "    order_counter_values = [i for i in data_tier['OSP_KO_COUNT_NET'].values]\n",
    "    plt.hist(order_counter_values, bins=150, range=(0, 150), alpha=0.5)\n",
    "    plt.legend([51, 52, 53, 54, 55, 56])\n",
    "    concat_df = pd.concat([concat_df,\n",
    "                           (pd.DataFrame(order_counter_values).describe().round(2)),\n",
    "                           ], axis=1)\n",
    "plt.show() \n",
    "\n",
    "concat_df.columns = ['Tier 51 Order_Counter', 'Tier 52 Order_Counter', 'Tier 53 Order_Counter',\n",
    "                     'Tier 54 Order_Counter', 'Tier 55 Order_Counter', 'Tier 56 Order_Counter']\n",
    "display(concat_df)"
   ]
  },
  {
   "cell_type": "code",
   "execution_count": 40,
   "metadata": {
    "ExecuteTime": {
     "end_time": "2018-10-19T09:52:10.551294Z",
     "start_time": "2018-10-19T09:52:09.848294Z"
    }
   },
   "outputs": [
    {
     "data": {
      "image/png": "[encoded data removed]",
      "text/plain": [
       "<matplotlib.figure.Figure at 0x23aeeb38>"
      ]
     },
     "metadata": {},
     "output_type": "display_data"
    },
    {
     "data": {
      "text/html": [
       "<div>\n",
       "<style scoped>\n",
       "    .dataframe tbody tr th:only-of-type {\n",
       "        vertical-align: middle;\n",
       "    }\n",
       "\n",
       "    .dataframe tbody tr th {\n",
       "        vertical-align: top;\n",
       "    }\n",
       "\n",
       "    .dataframe thead th {\n",
       "        text-align: right;\n",
       "    }\n",
       "</style>\n",
       "<table border=\"1\" class=\"dataframe\">\n",
       "  <thead>\n",
       "    <tr style=\"text-align: right;\">\n",
       "      <th></th>\n",
       "      <th>Tier 51 Order_Values</th>\n",
       "      <th>Tier 52 Order_Values</th>\n",
       "      <th>Tier 53 Order_Values</th>\n",
       "      <th>Tier 54 Order_Values</th>\n",
       "      <th>Tier 55 Order_Values</th>\n",
       "      <th>Tier 56 Order_Values</th>\n",
       "    </tr>\n",
       "  </thead>\n",
       "  <tbody>\n",
       "    <tr>\n",
       "      <th>count</th>\n",
       "      <td>127931.00</td>\n",
       "      <td>86059.00</td>\n",
       "      <td>41888.00</td>\n",
       "      <td>43440.00</td>\n",
       "      <td>8564.00</td>\n",
       "      <td>56873.00</td>\n",
       "    </tr>\n",
       "    <tr>\n",
       "      <th>mean</th>\n",
       "      <td>73.54</td>\n",
       "      <td>81.58</td>\n",
       "      <td>77.49</td>\n",
       "      <td>88.46</td>\n",
       "      <td>63.66</td>\n",
       "      <td>74.39</td>\n",
       "    </tr>\n",
       "    <tr>\n",
       "      <th>std</th>\n",
       "      <td>42.88</td>\n",
       "      <td>51.25</td>\n",
       "      <td>51.25</td>\n",
       "      <td>66.88</td>\n",
       "      <td>34.08</td>\n",
       "      <td>52.96</td>\n",
       "    </tr>\n",
       "    <tr>\n",
       "      <th>min</th>\n",
       "      <td>-34.84</td>\n",
       "      <td>-54.03</td>\n",
       "      <td>-54.56</td>\n",
       "      <td>-31.75</td>\n",
       "      <td>-7.07</td>\n",
       "      <td>-57.58</td>\n",
       "    </tr>\n",
       "    <tr>\n",
       "      <th>25%</th>\n",
       "      <td>47.87</td>\n",
       "      <td>49.44</td>\n",
       "      <td>47.49</td>\n",
       "      <td>50.03</td>\n",
       "      <td>43.36</td>\n",
       "      <td>47.40</td>\n",
       "    </tr>\n",
       "    <tr>\n",
       "      <th>50%</th>\n",
       "      <td>61.54</td>\n",
       "      <td>67.14</td>\n",
       "      <td>63.64</td>\n",
       "      <td>70.90</td>\n",
       "      <td>54.31</td>\n",
       "      <td>59.82</td>\n",
       "    </tr>\n",
       "    <tr>\n",
       "      <th>75%</th>\n",
       "      <td>88.40</td>\n",
       "      <td>98.89</td>\n",
       "      <td>93.09</td>\n",
       "      <td>105.40</td>\n",
       "      <td>75.62</td>\n",
       "      <td>88.68</td>\n",
       "    </tr>\n",
       "    <tr>\n",
       "      <th>max</th>\n",
       "      <td>1498.33</td>\n",
       "      <td>1414.08</td>\n",
       "      <td>2222.43</td>\n",
       "      <td>2773.61</td>\n",
       "      <td>564.75</td>\n",
       "      <td>1786.16</td>\n",
       "    </tr>\n",
       "  </tbody>\n",
       "</table>\n",
       "</div>"
      ],
      "text/plain": [
       "       Tier 51 Order_Values  Tier 52 Order_Values  Tier 53 Order_Values  \\\n",
       "count             127931.00              86059.00              41888.00   \n",
       "mean                  73.54                 81.58                 77.49   \n",
       "std                   42.88                 51.25                 51.25   \n",
       "min                  -34.84                -54.03                -54.56   \n",
       "25%                   47.87                 49.44                 47.49   \n",
       "50%                   61.54                 67.14                 63.64   \n",
       "75%                   88.40                 98.89                 93.09   \n",
       "max                 1498.33               1414.08               2222.43   \n",
       "\n",
       "       Tier 54 Order_Values  Tier 55 Order_Values  Tier 56 Order_Values  \n",
       "count              43440.00               8564.00              56873.00  \n",
       "mean                  88.46                 63.66                 74.39  \n",
       "std                   66.88                 34.08                 52.96  \n",
       "min                  -31.75                 -7.07                -57.58  \n",
       "25%                   50.03                 43.36                 47.40  \n",
       "50%                   70.90                 54.31                 59.82  \n",
       "75%                  105.40                 75.62                 88.68  \n",
       "max                 2773.61                564.75               1786.16  "
      ]
     },
     "metadata": {},
     "output_type": "display_data"
    }
   ],
   "source": [
    "concat_df = pd.DataFrame()\n",
    "sns.set()\n",
    "plt.figure(figsize=(16,8))\n",
    "plt.title('Histogram showing order values per Tier', fontsize=14)\n",
    "\n",
    "for tq in ztq:\n",
    "    data_tier = orders[orders['CZP_ZTQ_ID'] == tq]\n",
    "    order_values = [i for i in data_tier['SCM_SALES_BMF'].values]\n",
    "    plt.hist(order_values, bins=30, range=(0, 300), alpha=0.5)\n",
    "    plt.legend([51, 52, 53, 54, 55, 56])\n",
    "    concat_df = pd.concat([concat_df,\n",
    "                           (pd.DataFrame(order_values).describe().round(2)),\n",
    "                           ], axis=1)\n",
    "plt.show() \n",
    "\n",
    "concat_df.columns = ['Tier 51 Order_Values', 'Tier 52 Order_Values', 'Tier 53 Order_Values',\n",
    "                     'Tier 54 Order_Values', 'Tier 55 Order_Values', 'Tier 56 Order_Values']\n",
    "display(concat_df)"
   ]
  },
  {
   "cell_type": "code",
   "execution_count": 41,
   "metadata": {
    "ExecuteTime": {
     "end_time": "2018-10-19T09:52:12.228294Z",
     "start_time": "2018-10-19T09:52:10.553294Z"
    }
   },
   "outputs": [
    {
     "data": {
      "image/png": "[encoded data removed]",
      "text/plain": [
       "<matplotlib.figure.Figure at 0x248e5390>"
      ]
     },
     "metadata": {},
     "output_type": "display_data"
    },
    {
     "data": {
      "text/html": [
       "<div>\n",
       "<style scoped>\n",
       "    .dataframe tbody tr th:only-of-type {\n",
       "        vertical-align: middle;\n",
       "    }\n",
       "\n",
       "    .dataframe tbody tr th {\n",
       "        vertical-align: top;\n",
       "    }\n",
       "\n",
       "    .dataframe thead th {\n",
       "        text-align: right;\n",
       "    }\n",
       "</style>\n",
       "<table border=\"1\" class=\"dataframe\">\n",
       "  <thead>\n",
       "    <tr style=\"text-align: right;\">\n",
       "      <th></th>\n",
       "      <th>Tier 51 Order_CM1%</th>\n",
       "      <th>Tier 52 Order_CM1%</th>\n",
       "      <th>Tier 53 Order_CM1%</th>\n",
       "      <th>Tier 54 Order_CM1%</th>\n",
       "      <th>Tier 55 Order_CM1%</th>\n",
       "      <th>Tier 56 Order_CM1%</th>\n",
       "    </tr>\n",
       "  </thead>\n",
       "  <tbody>\n",
       "    <tr>\n",
       "      <th>count</th>\n",
       "      <td>127928.00</td>\n",
       "      <td>86057.00</td>\n",
       "      <td>41885.00</td>\n",
       "      <td>43436.00</td>\n",
       "      <td>8564.00</td>\n",
       "      <td>56868.00</td>\n",
       "    </tr>\n",
       "    <tr>\n",
       "      <th>25%</th>\n",
       "      <td>22.00</td>\n",
       "      <td>21.12</td>\n",
       "      <td>20.81</td>\n",
       "      <td>18.45</td>\n",
       "      <td>20.74</td>\n",
       "      <td>17.48</td>\n",
       "    </tr>\n",
       "    <tr>\n",
       "      <th>50%</th>\n",
       "      <td>28.69</td>\n",
       "      <td>27.94</td>\n",
       "      <td>28.18</td>\n",
       "      <td>25.93</td>\n",
       "      <td>27.84</td>\n",
       "      <td>24.49</td>\n",
       "    </tr>\n",
       "    <tr>\n",
       "      <th>75%</th>\n",
       "      <td>35.67</td>\n",
       "      <td>35.09</td>\n",
       "      <td>35.89</td>\n",
       "      <td>33.60</td>\n",
       "      <td>36.19</td>\n",
       "      <td>32.39</td>\n",
       "    </tr>\n",
       "  </tbody>\n",
       "</table>\n",
       "</div>"
      ],
      "text/plain": [
       "       Tier 51 Order_CM1%  Tier 52 Order_CM1%  Tier 53 Order_CM1%  \\\n",
       "count           127928.00            86057.00            41885.00   \n",
       "25%                 22.00               21.12               20.81   \n",
       "50%                 28.69               27.94               28.18   \n",
       "75%                 35.67               35.09               35.89   \n",
       "\n",
       "       Tier 54 Order_CM1%  Tier 55 Order_CM1%  Tier 56 Order_CM1%  \n",
       "count            43436.00             8564.00            56868.00  \n",
       "25%                 18.45               20.74               17.48  \n",
       "50%                 25.93               27.84               24.49  \n",
       "75%                 33.60               36.19               32.39  "
      ]
     },
     "metadata": {},
     "output_type": "display_data"
    }
   ],
   "source": [
    "concat_df = pd.DataFrame()\n",
    "sns.set()\n",
    "plt.figure(figsize=(16,8))\n",
    "plt.title('Histogram showing orders CM1% per Tier', fontsize=14)\n",
    "\n",
    "for tq in ztq:\n",
    "    data_tier = orders[orders['CZP_ZTQ_ID'] == tq]\n",
    "    order_values_cm1 = [i for i in data_tier['SCM_D_FINANCE_CM1'].values]\n",
    "    order_values_net_sales = [i for i in data_tier['SCM_D_ORIG_FINANCE_ORDER_NET'].values]\n",
    "    orders_rel_cm1 = [i/j * 100 for i, j in list(zip(order_values_cm1, order_values_net_sales)) if j != 0]\n",
    "    plt.hist(orders_rel_cm1, bins=100, range=(-25, 75), alpha=0.5)\n",
    "    plt.legend([51, 52, 53, 54, 55, 56])\n",
    "    concat_df = pd.concat([concat_df,\n",
    "                           (pd.DataFrame(orders_rel_cm1).describe().round(2)),\n",
    "                           ], axis=1)\n",
    "\n",
    "plt.legend([51, 52, 53, 54, 55, 56])\n",
    "plt.show() \n",
    "\n",
    "concat_df.columns = ['Tier 51 Order_CM1%', 'Tier 52 Order_CM1%', 'Tier 53 Order_CM1%',\n",
    "                     'Tier 54 Order_CM1%', 'Tier 55 Order_CM1%', 'Tier 56 Order_CM1%']\n",
    "display(concat_df.loc[['count', '25%', '50%', '75%']].astype(float))"
   ]
  },
  {
   "cell_type": "code",
   "execution_count": 42,
   "metadata": {
    "ExecuteTime": {
     "end_time": "2018-10-19T09:52:13.797294Z",
     "start_time": "2018-10-19T09:52:12.229294Z"
    }
   },
   "outputs": [
    {
     "data": {
      "image/png": "[encoded data removed]",
      "text/plain": [
       "<matplotlib.figure.Figure at 0x234c7908>"
      ]
     },
     "metadata": {},
     "output_type": "display_data"
    },
    {
     "data": {
      "text/html": [
       "<div>\n",
       "<style scoped>\n",
       "    .dataframe tbody tr th:only-of-type {\n",
       "        vertical-align: middle;\n",
       "    }\n",
       "\n",
       "    .dataframe tbody tr th {\n",
       "        vertical-align: top;\n",
       "    }\n",
       "\n",
       "    .dataframe thead th {\n",
       "        text-align: right;\n",
       "    }\n",
       "</style>\n",
       "<table border=\"1\" class=\"dataframe\">\n",
       "  <thead>\n",
       "    <tr style=\"text-align: right;\">\n",
       "      <th></th>\n",
       "      <th>Tier 51 Order_CM2%</th>\n",
       "      <th>Tier 52 Order_CM2%</th>\n",
       "      <th>Tier 53 Order_CM2%</th>\n",
       "      <th>Tier 54 Order_CM2%</th>\n",
       "      <th>Tier 55 Order_CM2%</th>\n",
       "      <th>Tier 56 Order_CM2%</th>\n",
       "    </tr>\n",
       "  </thead>\n",
       "  <tbody>\n",
       "    <tr>\n",
       "      <th>count</th>\n",
       "      <td>127928.00</td>\n",
       "      <td>86057.00</td>\n",
       "      <td>41885.00</td>\n",
       "      <td>43436.00</td>\n",
       "      <td>8564.00</td>\n",
       "      <td>56868.00</td>\n",
       "    </tr>\n",
       "    <tr>\n",
       "      <th>25%</th>\n",
       "      <td>3.78</td>\n",
       "      <td>3.13</td>\n",
       "      <td>2.73</td>\n",
       "      <td>0.96</td>\n",
       "      <td>2.48</td>\n",
       "      <td>0.26</td>\n",
       "    </tr>\n",
       "    <tr>\n",
       "      <th>50%</th>\n",
       "      <td>10.35</td>\n",
       "      <td>9.90</td>\n",
       "      <td>9.96</td>\n",
       "      <td>8.23</td>\n",
       "      <td>9.19</td>\n",
       "      <td>7.13</td>\n",
       "    </tr>\n",
       "    <tr>\n",
       "      <th>75%</th>\n",
       "      <td>16.71</td>\n",
       "      <td>16.41</td>\n",
       "      <td>17.10</td>\n",
       "      <td>15.49</td>\n",
       "      <td>15.93</td>\n",
       "      <td>14.01</td>\n",
       "    </tr>\n",
       "  </tbody>\n",
       "</table>\n",
       "</div>"
      ],
      "text/plain": [
       "       Tier 51 Order_CM2%  Tier 52 Order_CM2%  Tier 53 Order_CM2%  \\\n",
       "count           127928.00            86057.00            41885.00   \n",
       "25%                  3.78                3.13                2.73   \n",
       "50%                 10.35                9.90                9.96   \n",
       "75%                 16.71               16.41               17.10   \n",
       "\n",
       "       Tier 54 Order_CM2%  Tier 55 Order_CM2%  Tier 56 Order_CM2%  \n",
       "count            43436.00             8564.00            56868.00  \n",
       "25%                  0.96                2.48                0.26  \n",
       "50%                  8.23                9.19                7.13  \n",
       "75%                 15.49               15.93               14.01  "
      ]
     },
     "metadata": {},
     "output_type": "display_data"
    }
   ],
   "source": [
    "concat_df = pd.DataFrame()\n",
    "sns.set()\n",
    "plt.figure(figsize=(16,8))\n",
    "plt.title('Histogram showing orders CM2% per Tier', fontsize=14)\n",
    "\n",
    "for tq in ztq:\n",
    "    data_tier = orders[orders['CZP_ZTQ_ID'] == tq]\n",
    "    order_values_cm2 = [i for i in data_tier['SCM_D_FINANCE_CM2'].values]\n",
    "    order_values_net_sales = [i for i in data_tier['SCM_D_ORIG_FINANCE_ORDER_NET'].values]\n",
    "    orders_rel_cm2 = [i/j * 100 for i, j in list(zip(order_values_cm2, order_values_net_sales)) if j != 0]\n",
    "    plt.hist(orders_rel_cm2, bins=100, range=(-35, 65), alpha=0.5)\n",
    "    plt.legend([51, 52, 53, 54, 55, 56])\n",
    "    concat_df = pd.concat([concat_df,\n",
    "                           (pd.DataFrame(orders_rel_cm2).describe().round(2)),\n",
    "                           ], axis=1)\n",
    "\n",
    "plt.legend([51, 52, 53, 54, 55, 56])\n",
    "plt.show() \n",
    "\n",
    "concat_df.columns = ['Tier 51 Order_CM2%', 'Tier 52 Order_CM2%', 'Tier 53 Order_CM2%',\n",
    "                     'Tier 54 Order_CM2%', 'Tier 55 Order_CM2%', 'Tier 56 Order_CM2%']\n",
    "display(concat_df.loc[['count', '25%', '50%', '75%']].astype(float))"
   ]
  },
  {
   "cell_type": "code",
   "execution_count": 43,
   "metadata": {
    "ExecuteTime": {
     "end_time": "2018-10-19T09:52:15.008294Z",
     "start_time": "2018-10-19T09:52:13.798294Z"
    },
    "scrolled": false
   },
   "outputs": [
    {
     "data": {
      "text/html": [
       "<div>\n",
       "<style scoped>\n",
       "    .dataframe tbody tr th:only-of-type {\n",
       "        vertical-align: middle;\n",
       "    }\n",
       "\n",
       "    .dataframe tbody tr th {\n",
       "        vertical-align: top;\n",
       "    }\n",
       "\n",
       "    .dataframe thead th {\n",
       "        text-align: right;\n",
       "    }\n",
       "</style>\n",
       "<table border=\"1\" class=\"dataframe\">\n",
       "  <thead>\n",
       "    <tr style=\"text-align: right;\">\n",
       "      <th></th>\n",
       "      <th>ZTQ</th>\n",
       "      <th>active_customers</th>\n",
       "      <th>orders</th>\n",
       "      <th>sales_bmf</th>\n",
       "      <th>net_sales</th>\n",
       "      <th>CM1</th>\n",
       "      <th>CM2</th>\n",
       "      <th>CM1%</th>\n",
       "      <th>CM2%</th>\n",
       "      <th>discount_amount</th>\n",
       "      <th>orders_%_neg_cm1</th>\n",
       "      <th>loss_in_CM1</th>\n",
       "      <th>orders_%_neg_cm2</th>\n",
       "      <th>loss_in_CM2</th>\n",
       "    </tr>\n",
       "  </thead>\n",
       "  <tbody>\n",
       "    <tr>\n",
       "      <th>0</th>\n",
       "      <td>51</td>\n",
       "      <td>25445</td>\n",
       "      <td>127931</td>\n",
       "      <td>9408292.14</td>\n",
       "      <td>8398001.60</td>\n",
       "      <td>2356395.08</td>\n",
       "      <td>926836.51</td>\n",
       "      <td>28.06</td>\n",
       "      <td>11.04</td>\n",
       "      <td>-289328.97</td>\n",
       "      <td>0.72</td>\n",
       "      <td>-3926.40</td>\n",
       "      <td>15.21</td>\n",
       "      <td>-61089.45</td>\n",
       "    </tr>\n",
       "    <tr>\n",
       "      <th>1</th>\n",
       "      <td>52</td>\n",
       "      <td>15054</td>\n",
       "      <td>86059</td>\n",
       "      <td>7020546.76</td>\n",
       "      <td>6251744.64</td>\n",
       "      <td>1707672.94</td>\n",
       "      <td>672301.05</td>\n",
       "      <td>27.32</td>\n",
       "      <td>10.75</td>\n",
       "      <td>-217005.90</td>\n",
       "      <td>0.86</td>\n",
       "      <td>-3616.40</td>\n",
       "      <td>16.87</td>\n",
       "      <td>-49950.93</td>\n",
       "    </tr>\n",
       "    <tr>\n",
       "      <th>2</th>\n",
       "      <td>53</td>\n",
       "      <td>8423</td>\n",
       "      <td>41888</td>\n",
       "      <td>3246074.03</td>\n",
       "      <td>2894065.82</td>\n",
       "      <td>794614.11</td>\n",
       "      <td>313605.11</td>\n",
       "      <td>27.46</td>\n",
       "      <td>10.84</td>\n",
       "      <td>-170859.22</td>\n",
       "      <td>0.90</td>\n",
       "      <td>-1993.65</td>\n",
       "      <td>18.19</td>\n",
       "      <td>-27245.22</td>\n",
       "    </tr>\n",
       "    <tr>\n",
       "      <th>3</th>\n",
       "      <td>54</td>\n",
       "      <td>7088</td>\n",
       "      <td>43440</td>\n",
       "      <td>3842531.30</td>\n",
       "      <td>3421268.93</td>\n",
       "      <td>859469.93</td>\n",
       "      <td>312693.42</td>\n",
       "      <td>25.12</td>\n",
       "      <td>9.14</td>\n",
       "      <td>-204562.68</td>\n",
       "      <td>1.82</td>\n",
       "      <td>-7727.61</td>\n",
       "      <td>22.46</td>\n",
       "      <td>-46836.27</td>\n",
       "    </tr>\n",
       "    <tr>\n",
       "      <th>4</th>\n",
       "      <td>55</td>\n",
       "      <td>2976</td>\n",
       "      <td>8564</td>\n",
       "      <td>545194.76</td>\n",
       "      <td>488244.02</td>\n",
       "      <td>134774.62</td>\n",
       "      <td>47445.04</td>\n",
       "      <td>27.60</td>\n",
       "      <td>9.72</td>\n",
       "      <td>-16569.37</td>\n",
       "      <td>0.58</td>\n",
       "      <td>-273.54</td>\n",
       "      <td>18.47</td>\n",
       "      <td>-4808.47</td>\n",
       "    </tr>\n",
       "    <tr>\n",
       "      <th>5</th>\n",
       "      <td>56</td>\n",
       "      <td>14523</td>\n",
       "      <td>56873</td>\n",
       "      <td>4230847.94</td>\n",
       "      <td>3791280.51</td>\n",
       "      <td>913747.39</td>\n",
       "      <td>300009.79</td>\n",
       "      <td>24.10</td>\n",
       "      <td>7.91</td>\n",
       "      <td>-226717.10</td>\n",
       "      <td>1.31</td>\n",
       "      <td>-4913.51</td>\n",
       "      <td>24.49</td>\n",
       "      <td>-54373.96</td>\n",
       "    </tr>\n",
       "  </tbody>\n",
       "</table>\n",
       "</div>"
      ],
      "text/plain": [
       "  ZTQ active_customers  orders   sales_bmf   net_sales         CM1        CM2  \\\n",
       "0  51            25445  127931  9408292.14  8398001.60  2356395.08  926836.51   \n",
       "1  52            15054   86059  7020546.76  6251744.64  1707672.94  672301.05   \n",
       "2  53             8423   41888  3246074.03  2894065.82   794614.11  313605.11   \n",
       "3  54             7088   43440  3842531.30  3421268.93   859469.93  312693.42   \n",
       "4  55             2976    8564   545194.76   488244.02   134774.62   47445.04   \n",
       "5  56            14523   56873  4230847.94  3791280.51   913747.39  300009.79   \n",
       "\n",
       "    CM1%   CM2%  discount_amount  orders_%_neg_cm1  loss_in_CM1  \\\n",
       "0  28.06  11.04       -289328.97              0.72     -3926.40   \n",
       "1  27.32  10.75       -217005.90              0.86     -3616.40   \n",
       "2  27.46  10.84       -170859.22              0.90     -1993.65   \n",
       "3  25.12   9.14       -204562.68              1.82     -7727.61   \n",
       "4  27.60   9.72        -16569.37              0.58      -273.54   \n",
       "5  24.10   7.91       -226717.10              1.31     -4913.51   \n",
       "\n",
       "   orders_%_neg_cm2  loss_in_CM2  \n",
       "0             15.21    -61089.45  \n",
       "1             16.87    -49950.93  \n",
       "2             18.19    -27245.22  \n",
       "3             22.46    -46836.27  \n",
       "4             18.47     -4808.47  \n",
       "5             24.49    -54373.96  "
      ]
     },
     "metadata": {},
     "output_type": "display_data"
    }
   ],
   "source": [
    "metrics_ztq = pd.DataFrame(columns=['ZTQ','active_customers', 'orders', 'sales_bmf', 'net_sales', 'CM1', 'CM2', 'CM1%', 'CM2%',\n",
    "                                   'discount_amount', 'orders_%_neg_cm1', 'loss_in_CM1', 'orders_%_neg_cm2', 'loss_in_CM2'])\n",
    "for tq in ztq:\n",
    "    df_elems = []\n",
    "    data_tier = data[data['CZP_ZTQ_ID'] == tq]\n",
    "    df_elems.append(tq)\n",
    "    df_elems.append(data_tier['CUS_N_KEY_CUSTOMER'].nunique())\n",
    "    df_elems.append(data_tier['SCM_N_ORDER_NR'].nunique())\n",
    "    df_elems.append(data_tier['SCM_SALES_BMF'].sum())\n",
    "    df_elems.append(data_tier['SCM_D_ORIG_FINANCE_ORDER_NET'].sum())\n",
    "    df_elems.append(data_tier['SCM_D_FINANCE_CM1'].sum())\n",
    "    df_elems.append(data_tier['SCM_D_FINANCE_CM2'].sum())\n",
    "    df_elems.append(data_tier['SCM_D_FINANCE_CM1'].sum() / data_tier['SCM_D_ORIG_FINANCE_ORDER_NET'].sum() * 100)\n",
    "    df_elems.append(data_tier['SCM_D_FINANCE_CM2'].sum() / data_tier['SCM_D_ORIG_FINANCE_ORDER_NET'].sum() * 100)\n",
    "    df_elems.append((data_tier[data_tier['SCM_MASTER_AP_ID'] == 42715]['SCM_SALES_BMF']).sum())\n",
    "    \n",
    "    cm1_per_order = data_tier.groupby('SCM_N_ORDER_NR')['SCM_D_FINANCE_CM1'].sum()\n",
    "    orders_neg_cm1 = cm1_per_order[cm1_per_order < 0].index.values\n",
    "    df_elems.append(len(orders_neg_cm1)/data_tier['SCM_N_ORDER_NR'].nunique()*100)\n",
    "    df_elems.append(cm1_per_order[cm1_per_order < 0].sum())\n",
    "    \n",
    "    cm2_per_order = data_tier.groupby('SCM_N_ORDER_NR')['SCM_D_FINANCE_CM2'].sum()\n",
    "    orders_neg_cm2 = cm2_per_order[cm2_per_order < 0].index.values\n",
    "    df_elems.append(len(orders_neg_cm2)/data_tier['SCM_N_ORDER_NR'].nunique()*100)\n",
    "    df_elems.append(cm2_per_order[cm2_per_order < 0].sum())\n",
    "    \n",
    "    new_row = pd.DataFrame.from_records([df_elems], columns=metrics_ztq.columns)\n",
    "    metrics_ztq = metrics_ztq.append(new_row, ignore_index=True)\n",
    "    \n",
    "display(metrics_ztq.round(2))"
   ]
  },
  {
   "cell_type": "code",
   "execution_count": null,
   "metadata": {},
   "outputs": [],
   "source": []
  }
 ],
 "metadata": {
  "hide_input": false,
  "kernelspec": {
   "display_name": "Python [conda env:py36]",
   "language": "python",
   "name": "conda-env-py36-py"
  },
  "language_info": {
   "codemirror_mode": {
    "name": "ipython",
    "version": 3
   },
   "file_extension": ".py",
   "mimetype": "text/x-python",
   "name": "python",
   "nbconvert_exporter": "python",
   "pygments_lexer": "ipython3",
   "version": "3.6.4"
  },
  "toc": {
   "base_numbering": 1,
   "nav_menu": {},
   "number_sections": true,
   "sideBar": true,
   "skip_h1_title": false,
   "title_cell": "Table of Contents",
   "title_sidebar": "Contents",
   "toc_cell": false,
   "toc_position": {},
   "toc_section_display": true,
   "toc_window_display": false
  },
  "varInspector": {
   "cols": {
    "lenName": 16,
    "lenType": 16,
    "lenVar": 40
   },
   "kernels_config": {
    "python": {
     "delete_cmd_postfix": "",
     "delete_cmd_prefix": "del ",
     "library": "var_list.py",
     "varRefreshCmd": "print(var_dic_list())"
    },
    "r": {
     "delete_cmd_postfix": ") ",
     "delete_cmd_prefix": "rm(",
     "library": "var_list.r",
     "varRefreshCmd": "cat(var_dic_list()) "
    }
   },
   "types_to_exclude": [
    "module",
    "function",
    "builtin_function_or_method",
    "instance",
    "_Feature"
   ],
   "window_display": false
  }
 },
 "nbformat": 4,
 "nbformat_minor": 2
}
