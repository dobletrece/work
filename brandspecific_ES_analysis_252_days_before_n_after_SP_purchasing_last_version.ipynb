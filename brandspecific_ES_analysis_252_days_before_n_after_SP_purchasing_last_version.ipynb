{
 "cells": [
  {
   "cell_type": "code",
   "execution_count": 1,
   "metadata": {
    "ExecuteTime": {
     "end_time": "2018-11-29T15:19:34.842006Z",
     "start_time": "2018-11-29T15:19:33.185006Z"
    }
   },
   "outputs": [],
   "source": [
    "import numpy as np\n",
    "import pandas as pd\n",
    "import dask.dataframe as dd\n",
    "import matplotlib.pyplot as plt\n",
    "%matplotlib inline\n",
    "from IPython.display import display\n",
    "from scipy import stats\n",
    "from statistics import stdev\n",
    "import datetime\n",
    "from datetime import timedelta\n",
    "from collections import Counter\n",
    "import cx_Oracle\n",
    "import psycopg2\n",
    "import seaborn as sns\n",
    "import json\n",
    "import pickle\n",
    "#from fitter import Fitter\n",
    "from warnings import filterwarnings\n",
    "from itertools import compress\n",
    "filterwarnings('ignore')"
   ]
  },
  {
   "cell_type": "markdown",
   "metadata": {},
   "source": [
    "ES shop: for every customer having placed his 1st order between 01/07/15 and 30/06/17, get all their orders until 30/06/18"
   ]
  },
  {
   "cell_type": "raw",
   "metadata": {
    "ExecuteTime": {
     "end_time": "2018-11-23T12:06:24.714626Z",
     "start_time": "2018-11-23T12:06:24.701626Z"
    }
   },
   "source": [
    "\"\"\"select \n",
    "scm.scm_n_order_pos_nr, scm.scm_n_order_nr, scm.tdt_t_key_order_date, scm.THR_C_KEY_ORDER_HOUR, scm.SIT_N_KEY_SITE,\n",
    "scm.CUS_N_KEY_CUSTOMER, scm.SCM_SALES_BMF, scm.SCM_D_FINANCE_CM1, scm.SCM_D_FINANCE_CM2,\n",
    "scm.SCM_D_ORIG_FINANCE_ORDER_NET,scm.SCM_AP_ID, scm.SCM_AS_ID, scm.SCM_MASTER_AP_ID,\n",
    "osp.OSP_KO_COUNT_NET, osp.OSP_3_LEAD_P_PG_ID, osp.OSP_3_LEAD_P_PG_SHARE, osp.OSP_4_LEAD_P_PG_ID, osp.OSP_4_LEAD_P_PG_SHARE,\n",
    "czp.CZP_START_DATE, czp.CZP_EXPIRY_DATE, czp.CZP_ZTQ_ID, czp.CZP_PERCENTAGE, czp.CZP_PRICE\n",
    "from zoocube.ddstf_scm_sales_contrib_margin scm\n",
    "join ZOOMAN.ORDER_SALES_PROFILE osp\n",
    "on osp.OSP_O_ID = scm.SCM_N_ORDER_NR\n",
    "join ZOOMAN.ORDERS o\n",
    "on o.O_ID = scm.SCM_N_ORDER_NR\n",
    "left outer join ZOOMAN.CUSTOMERS_ZOOPRIME_PLANS czp\n",
    "on scm.CUS_N_KEY_CUSTOMER = czp.CZP_K_ID\n",
    "and czp.CZP_EXPIRY_DATE > to_date((to_char(TDT_T_KEY_ORDER_DATE, 'dd/mm/yyyy') ||' '|| THR_C_KEY_ORDER_HOUR), 'dd/mm/yyyy HH24:MI')\n",
    "and czp.CZP_START_DATE <= to_date((to_char(TDT_T_KEY_ORDER_DATE, 'dd/mm/yyyy') ||' '|| THR_C_KEY_ORDER_HOUR), 'dd/mm/yyyy HH24:MI') + interval '2' minute\n",
    "where SIT_N_KEY_SITE = 15\n",
    "and ((TDT_T_KEY_ORDER_DATE >= to_date('01/07/15', 'DD/MM/YY') and TDT_T_KEY_ORDER_DATE <= to_date('30/06/18', 'DD/MM/YY')))\n",
    "and (scm.SCM_C_ORDER_STATUS = 'L' OR scm.SCM_C_ORDER_STATUS = 'VK')\n",
    "and scm.SCM_SALES_CANCEL_BMF = 0\n",
    "and scm.CUS_N_KEY_CUSTOMER IN (\n",
    "select distinct scm.CUS_N_KEY_CUSTOMER\n",
    "from zoocube.ddstf_scm_sales_contrib_margin scm\n",
    "join ZOOMAN.ORDER_SALES_PROFILE osp\n",
    "on osp.OSP_O_ID = scm.SCM_N_ORDER_NR\n",
    "where SIT_N_KEY_SITE = 15\n",
    "and ((TDT_T_KEY_ORDER_DATE >= to_date('01/07/15', 'DD/MM/YY') and TDT_T_KEY_ORDER_DATE <= to_date('30/06/17', 'DD/MM/YY')))\n",
    "and osp.OSP_KO_COUNT_NET = 1\n",
    ")\"\"\""
   ]
  },
  {
   "cell_type": "markdown",
   "metadata": {
    "heading_collapsed": true
   },
   "source": [
    "### Data loading, cleaning & formatting"
   ]
  },
  {
   "cell_type": "code",
   "execution_count": 2,
   "metadata": {
    "ExecuteTime": {
     "end_time": "2018-11-29T13:06:09.382260Z",
     "start_time": "2018-11-29T13:05:55.315260Z"
    },
    "hidden": true
   },
   "outputs": [],
   "source": [
    "data = pd.read_csv('es_shop_orders_sp_cross_selling_v2.dsv', sep=';', low_memory=False)"
   ]
  },
  {
   "cell_type": "code",
   "execution_count": 3,
   "metadata": {
    "ExecuteTime": {
     "end_time": "2018-11-29T13:06:26.505260Z",
     "start_time": "2018-11-29T13:06:26.305260Z"
    },
    "hidden": true
   },
   "outputs": [
    {
     "data": {
      "text/html": [
       "<div>\n",
       "<style scoped>\n",
       "    .dataframe tbody tr th:only-of-type {\n",
       "        vertical-align: middle;\n",
       "    }\n",
       "\n",
       "    .dataframe tbody tr th {\n",
       "        vertical-align: top;\n",
       "    }\n",
       "\n",
       "    .dataframe thead th {\n",
       "        text-align: right;\n",
       "    }\n",
       "</style>\n",
       "<table border=\"1\" class=\"dataframe\">\n",
       "  <thead>\n",
       "    <tr style=\"text-align: right;\">\n",
       "      <th></th>\n",
       "      <th>SCM_N_ORDER_POS_NR</th>\n",
       "      <th>SCM_N_ORDER_NR</th>\n",
       "      <th>TDT_T_KEY_ORDER_DATE</th>\n",
       "      <th>THR_C_KEY_ORDER_HOUR</th>\n",
       "      <th>SIT_N_KEY_SITE</th>\n",
       "      <th>CUS_N_KEY_CUSTOMER</th>\n",
       "      <th>SCM_SALES_BMF</th>\n",
       "      <th>SCM_D_FINANCE_CM1</th>\n",
       "      <th>SCM_D_FINANCE_CM2</th>\n",
       "      <th>SCM_D_ORIG_FINANCE_ORDER_NET</th>\n",
       "      <th>...</th>\n",
       "      <th>OSP_KO_COUNT_NET</th>\n",
       "      <th>OSP_3_LEAD_P_PG_ID</th>\n",
       "      <th>OSP_3_LEAD_P_PG_SHARE</th>\n",
       "      <th>OSP_4_LEAD_P_PG_ID</th>\n",
       "      <th>OSP_4_LEAD_P_PG_SHARE</th>\n",
       "      <th>CZP_START_DATE</th>\n",
       "      <th>CZP_EXPIRY_DATE</th>\n",
       "      <th>CZP_ZTQ_ID</th>\n",
       "      <th>CZP_PERCENTAGE</th>\n",
       "      <th>CZP_PRICE</th>\n",
       "    </tr>\n",
       "  </thead>\n",
       "  <tbody>\n",
       "    <tr>\n",
       "      <th>3563834</th>\n",
       "      <td>328018680</td>\n",
       "      <td>77259215</td>\n",
       "      <td>08/11/2016 00:00</td>\n",
       "      <td>18:32</td>\n",
       "      <td>15</td>\n",
       "      <td>14844264</td>\n",
       "      <td>9,99</td>\n",
       "      <td>3,4418</td>\n",
       "      <td>0,9721</td>\n",
       "      <td>9,0818</td>\n",
       "      <td>...</td>\n",
       "      <td>3</td>\n",
       "      <td>301</td>\n",
       "      <td>0,5103</td>\n",
       "      <td>10331</td>\n",
       "      <td>0,5103</td>\n",
       "      <td>NaN</td>\n",
       "      <td>NaN</td>\n",
       "      <td>NaN</td>\n",
       "      <td>NaN</td>\n",
       "      <td>NaN</td>\n",
       "    </tr>\n",
       "    <tr>\n",
       "      <th>2803741</th>\n",
       "      <td>380392850</td>\n",
       "      <td>89138715</td>\n",
       "      <td>17/06/2017 00:00</td>\n",
       "      <td>18:15</td>\n",
       "      <td>15</td>\n",
       "      <td>13514282</td>\n",
       "      <td>2,49</td>\n",
       "      <td>0,8136</td>\n",
       "      <td>0,5938</td>\n",
       "      <td>2,2636</td>\n",
       "      <td>...</td>\n",
       "      <td>7</td>\n",
       "      <td>252</td>\n",
       "      <td>0,4636</td>\n",
       "      <td>683</td>\n",
       "      <td>0,2889</td>\n",
       "      <td>NaN</td>\n",
       "      <td>NaN</td>\n",
       "      <td>NaN</td>\n",
       "      <td>NaN</td>\n",
       "      <td>NaN</td>\n",
       "    </tr>\n",
       "    <tr>\n",
       "      <th>1302983</th>\n",
       "      <td>474916141</td>\n",
       "      <td>111591157</td>\n",
       "      <td>29/05/2018 00:00</td>\n",
       "      <td>00:11</td>\n",
       "      <td>15</td>\n",
       "      <td>13430514</td>\n",
       "      <td>3,7388</td>\n",
       "      <td>1,1142</td>\n",
       "      <td>0,3897</td>\n",
       "      <td>3,3989</td>\n",
       "      <td>...</td>\n",
       "      <td>17</td>\n",
       "      <td>252</td>\n",
       "      <td>0,2283</td>\n",
       "      <td>10331</td>\n",
       "      <td>0,1827</td>\n",
       "      <td>29/05/2018 00:00</td>\n",
       "      <td>29/05/2021 00:00</td>\n",
       "      <td>52.0</td>\n",
       "      <td>3.0</td>\n",
       "      <td>5,99</td>\n",
       "    </tr>\n",
       "    <tr>\n",
       "      <th>1278275</th>\n",
       "      <td>450766072</td>\n",
       "      <td>105704017</td>\n",
       "      <td>01/03/2018 00:00</td>\n",
       "      <td>17:14</td>\n",
       "      <td>15</td>\n",
       "      <td>15557934</td>\n",
       "      <td>4,5082</td>\n",
       "      <td>1,2839</td>\n",
       "      <td>0,1673</td>\n",
       "      <td>4,0984</td>\n",
       "      <td>...</td>\n",
       "      <td>6</td>\n",
       "      <td>252</td>\n",
       "      <td>0,4486</td>\n",
       "      <td>3641</td>\n",
       "      <td>0,4299</td>\n",
       "      <td>01/03/2018 17:14</td>\n",
       "      <td>16/03/2018 12:01</td>\n",
       "      <td>51.0</td>\n",
       "      <td>3.0</td>\n",
       "      <td>2,99</td>\n",
       "    </tr>\n",
       "    <tr>\n",
       "      <th>2297980</th>\n",
       "      <td>290918124</td>\n",
       "      <td>68728723</td>\n",
       "      <td>15/05/2016 00:00</td>\n",
       "      <td>21:00</td>\n",
       "      <td>15</td>\n",
       "      <td>12221039</td>\n",
       "      <td>14,99</td>\n",
       "      <td>7,9273</td>\n",
       "      <td>4,3109</td>\n",
       "      <td>13,6273</td>\n",
       "      <td>...</td>\n",
       "      <td>14</td>\n",
       "      <td>252</td>\n",
       "      <td>0,7502</td>\n",
       "      <td>140759</td>\n",
       "      <td>0,7502</td>\n",
       "      <td>NaN</td>\n",
       "      <td>NaN</td>\n",
       "      <td>NaN</td>\n",
       "      <td>NaN</td>\n",
       "      <td>NaN</td>\n",
       "    </tr>\n",
       "  </tbody>\n",
       "</table>\n",
       "<p>5 rows × 23 columns</p>\n",
       "</div>"
      ],
      "text/plain": [
       "         SCM_N_ORDER_POS_NR  SCM_N_ORDER_NR TDT_T_KEY_ORDER_DATE  \\\n",
       "3563834           328018680        77259215     08/11/2016 00:00   \n",
       "2803741           380392850        89138715     17/06/2017 00:00   \n",
       "1302983           474916141       111591157     29/05/2018 00:00   \n",
       "1278275           450766072       105704017     01/03/2018 00:00   \n",
       "2297980           290918124        68728723     15/05/2016 00:00   \n",
       "\n",
       "        THR_C_KEY_ORDER_HOUR  SIT_N_KEY_SITE  CUS_N_KEY_CUSTOMER  \\\n",
       "3563834                18:32              15            14844264   \n",
       "2803741                18:15              15            13514282   \n",
       "1302983                00:11              15            13430514   \n",
       "1278275                17:14              15            15557934   \n",
       "2297980                21:00              15            12221039   \n",
       "\n",
       "        SCM_SALES_BMF SCM_D_FINANCE_CM1 SCM_D_FINANCE_CM2  \\\n",
       "3563834          9,99            3,4418            0,9721   \n",
       "2803741          2,49            0,8136            0,5938   \n",
       "1302983        3,7388            1,1142            0,3897   \n",
       "1278275        4,5082            1,2839            0,1673   \n",
       "2297980         14,99            7,9273            4,3109   \n",
       "\n",
       "        SCM_D_ORIG_FINANCE_ORDER_NET    ...     OSP_KO_COUNT_NET  \\\n",
       "3563834                       9,0818    ...                    3   \n",
       "2803741                       2,2636    ...                    7   \n",
       "1302983                       3,3989    ...                   17   \n",
       "1278275                       4,0984    ...                    6   \n",
       "2297980                      13,6273    ...                   14   \n",
       "\n",
       "         OSP_3_LEAD_P_PG_ID  OSP_3_LEAD_P_PG_SHARE  OSP_4_LEAD_P_PG_ID  \\\n",
       "3563834                 301                 0,5103               10331   \n",
       "2803741                 252                 0,4636                 683   \n",
       "1302983                 252                 0,2283               10331   \n",
       "1278275                 252                 0,4486                3641   \n",
       "2297980                 252                 0,7502              140759   \n",
       "\n",
       "         OSP_4_LEAD_P_PG_SHARE    CZP_START_DATE   CZP_EXPIRY_DATE CZP_ZTQ_ID  \\\n",
       "3563834                 0,5103               NaN               NaN        NaN   \n",
       "2803741                 0,2889               NaN               NaN        NaN   \n",
       "1302983                 0,1827  29/05/2018 00:00  29/05/2021 00:00       52.0   \n",
       "1278275                 0,4299  01/03/2018 17:14  16/03/2018 12:01       51.0   \n",
       "2297980                 0,7502               NaN               NaN        NaN   \n",
       "\n",
       "        CZP_PERCENTAGE CZP_PRICE  \n",
       "3563834            NaN       NaN  \n",
       "2803741            NaN       NaN  \n",
       "1302983            3.0      5,99  \n",
       "1278275            3.0      2,99  \n",
       "2297980            NaN       NaN  \n",
       "\n",
       "[5 rows x 23 columns]"
      ]
     },
     "execution_count": 3,
     "metadata": {},
     "output_type": "execute_result"
    }
   ],
   "source": [
    "data.sample(5)"
   ]
  },
  {
   "cell_type": "code",
   "execution_count": 4,
   "metadata": {
    "ExecuteTime": {
     "end_time": "2018-11-29T13:06:29.307260Z",
     "start_time": "2018-11-29T13:06:29.300260Z"
    },
    "hidden": true
   },
   "outputs": [
    {
     "name": "stdout",
     "output_type": "stream",
     "text": [
      "<class 'pandas.core.frame.DataFrame'>\n",
      "RangeIndex: 4074789 entries, 0 to 4074788\n",
      "Data columns (total 23 columns):\n",
      "SCM_N_ORDER_POS_NR              int64\n",
      "SCM_N_ORDER_NR                  int64\n",
      "TDT_T_KEY_ORDER_DATE            object\n",
      "THR_C_KEY_ORDER_HOUR            object\n",
      "SIT_N_KEY_SITE                  int64\n",
      "CUS_N_KEY_CUSTOMER              int64\n",
      "SCM_SALES_BMF                   object\n",
      "SCM_D_FINANCE_CM1               object\n",
      "SCM_D_FINANCE_CM2               object\n",
      "SCM_D_ORIG_FINANCE_ORDER_NET    object\n",
      "SCM_AP_ID                       int64\n",
      "SCM_AS_ID                       int64\n",
      "SCM_MASTER_AP_ID                int64\n",
      "OSP_KO_COUNT_NET                int64\n",
      "OSP_3_LEAD_P_PG_ID              int64\n",
      "OSP_3_LEAD_P_PG_SHARE           object\n",
      "OSP_4_LEAD_P_PG_ID              int64\n",
      "OSP_4_LEAD_P_PG_SHARE           object\n",
      "CZP_START_DATE                  object\n",
      "CZP_EXPIRY_DATE                 object\n",
      "CZP_ZTQ_ID                      float64\n",
      "CZP_PERCENTAGE                  float64\n",
      "CZP_PRICE                       object\n",
      "dtypes: float64(2), int64(10), object(11)\n",
      "memory usage: 715.0+ MB\n"
     ]
    }
   ],
   "source": [
    "data.info(verbose=True)"
   ]
  },
  {
   "cell_type": "code",
   "execution_count": 5,
   "metadata": {
    "ExecuteTime": {
     "end_time": "2018-11-29T13:06:31.988260Z",
     "start_time": "2018-11-29T13:06:31.985260Z"
    },
    "hidden": true
   },
   "outputs": [],
   "source": [
    "def get_date(x):\n",
    "    return x.split(' ')[0]"
   ]
  },
  {
   "cell_type": "code",
   "execution_count": 6,
   "metadata": {
    "ExecuteTime": {
     "end_time": "2018-11-29T13:06:36.506260Z",
     "start_time": "2018-11-29T13:06:34.867260Z"
    },
    "hidden": true
   },
   "outputs": [],
   "source": [
    "data['TDT_T_KEY_ORDER_DATE'] = data['TDT_T_KEY_ORDER_DATE'].map(get_date)"
   ]
  },
  {
   "cell_type": "code",
   "execution_count": 7,
   "metadata": {
    "ExecuteTime": {
     "end_time": "2018-11-29T13:06:48.964260Z",
     "start_time": "2018-11-29T13:06:39.005260Z"
    },
    "hidden": true
   },
   "outputs": [],
   "source": [
    "data['TDT_T_KEY_ORDER_DATE'] = pd.to_datetime(data['TDT_T_KEY_ORDER_DATE'], format='%d/%m/%Y')"
   ]
  },
  {
   "cell_type": "code",
   "execution_count": 8,
   "metadata": {
    "ExecuteTime": {
     "end_time": "2018-11-29T13:07:12.482260Z",
     "start_time": "2018-11-29T13:06:52.066260Z"
    },
    "hidden": true
   },
   "outputs": [],
   "source": [
    "data['ORDER_DATETIME'] = data['TDT_T_KEY_ORDER_DATE'].astype(str) + ' ' + data['THR_C_KEY_ORDER_HOUR'].astype(str) + ':00'"
   ]
  },
  {
   "cell_type": "code",
   "execution_count": 9,
   "metadata": {
    "ExecuteTime": {
     "end_time": "2018-11-29T13:07:16.712260Z",
     "start_time": "2018-11-29T13:07:15.676260Z"
    },
    "hidden": true
   },
   "outputs": [],
   "source": [
    "data['ORDER_DATETIME'] = pd.to_datetime(data['ORDER_DATETIME'], format=\"%Y-%m-%d %H:%M:%S\")"
   ]
  },
  {
   "cell_type": "code",
   "execution_count": 10,
   "metadata": {
    "ExecuteTime": {
     "end_time": "2018-11-29T13:07:27.730260Z",
     "start_time": "2018-11-29T13:07:19.518260Z"
    },
    "hidden": true
   },
   "outputs": [],
   "source": [
    "data['CZP_START_DATE'] = pd.to_datetime(data['CZP_START_DATE'], format=\"%d/%m/%Y %H:%M\")\n",
    "data['CZP_EXPIRY_DATE'] = pd.to_datetime(data['CZP_EXPIRY_DATE'], format=\"%d/%m/%Y %H:%M\")"
   ]
  },
  {
   "cell_type": "code",
   "execution_count": 11,
   "metadata": {
    "ExecuteTime": {
     "end_time": "2018-11-29T13:07:42.546260Z",
     "start_time": "2018-11-29T13:07:30.280260Z"
    },
    "hidden": true
   },
   "outputs": [],
   "source": [
    "data['SCM_SALES_BMF'] = [float(str(i).replace(',','.')) for i in data['SCM_SALES_BMF'].values]\n",
    "data['SCM_D_FINANCE_CM1'] = [float(str(i).replace(',','.')) for i in data['SCM_D_FINANCE_CM1'].values]\n",
    "data['SCM_D_FINANCE_CM2'] = [float(str(i).replace(',','.')) for i in data['SCM_D_FINANCE_CM2'].values]\n",
    "data['SCM_D_ORIG_FINANCE_ORDER_NET'] = [float(str(i).replace(',','.')) for i in data['SCM_D_ORIG_FINANCE_ORDER_NET'].values]"
   ]
  },
  {
   "cell_type": "code",
   "execution_count": 12,
   "metadata": {
    "ExecuteTime": {
     "end_time": "2018-11-29T13:07:52.862260Z",
     "start_time": "2018-11-29T13:07:44.602260Z"
    },
    "hidden": true
   },
   "outputs": [],
   "source": [
    "data['CZP_PRICE'] = [float(str(i).replace(',','.')) for i in data['CZP_PRICE'].values]\n",
    "data['OSP_3_LEAD_P_PG_SHARE'] = [float(str(i).replace(',','.')) for i in data['OSP_3_LEAD_P_PG_SHARE'].values]\n",
    "data['OSP_4_LEAD_P_PG_SHARE'] = [float(str(i).replace(',','.')) for i in data['OSP_4_LEAD_P_PG_SHARE'].values]"
   ]
  },
  {
   "cell_type": "code",
   "execution_count": 13,
   "metadata": {
    "ExecuteTime": {
     "end_time": "2018-11-29T13:09:31.038260Z",
     "start_time": "2018-11-29T13:07:54.903260Z"
    },
    "hidden": true
   },
   "outputs": [],
   "source": [
    "#boolean mask with duplicated orders due to SP as True\n",
    "dupl_mask = [len(i) > 1 for i in data.groupby('SCM_N_ORDER_NR')['CZP_START_DATE'].unique().values]"
   ]
  },
  {
   "cell_type": "code",
   "execution_count": 14,
   "metadata": {
    "ExecuteTime": {
     "end_time": "2018-11-29T13:11:10.156260Z",
     "start_time": "2018-11-29T13:09:32.448260Z"
    },
    "hidden": true
   },
   "outputs": [],
   "source": [
    "#get duplicated order IDs\n",
    "dup_orders = data.groupby('SCM_N_ORDER_NR')['CZP_START_DATE'].unique()[dupl_mask].index.values"
   ]
  },
  {
   "cell_type": "code",
   "execution_count": 15,
   "metadata": {
    "ExecuteTime": {
     "end_time": "2018-11-29T13:11:11.835260Z",
     "start_time": "2018-11-29T13:11:11.830260Z"
    },
    "hidden": true
   },
   "outputs": [
    {
     "data": {
      "text/plain": [
       "2855"
      ]
     },
     "execution_count": 15,
     "metadata": {},
     "output_type": "execute_result"
    }
   ],
   "source": [
    "len(dup_orders)"
   ]
  },
  {
   "cell_type": "code",
   "execution_count": 16,
   "metadata": {
    "ExecuteTime": {
     "end_time": "2018-11-29T13:11:14.230260Z",
     "start_time": "2018-11-29T13:11:13.060260Z"
    },
    "hidden": true
   },
   "outputs": [
    {
     "data": {
      "text/plain": [
       "2845"
      ]
     },
     "execution_count": 16,
     "metadata": {},
     "output_type": "execute_result"
    }
   ],
   "source": [
    "sp_acq_dup_orders = list(data[data['SCM_N_ORDER_NR'].isin(dup_orders)][data[data['SCM_N_ORDER_NR'].isin(dup_orders)]['SCM_MASTER_AP_ID'] == 42225]['SCM_N_ORDER_NR'].unique())\n",
    "len(sp_acq_dup_orders)"
   ]
  },
  {
   "cell_type": "code",
   "execution_count": 17,
   "metadata": {
    "ExecuteTime": {
     "end_time": "2018-11-29T13:11:16.411260Z",
     "start_time": "2018-11-29T13:11:16.337260Z"
    },
    "hidden": true
   },
   "outputs": [
    {
     "data": {
      "text/plain": [
       "10"
      ]
     },
     "execution_count": 17,
     "metadata": {},
     "output_type": "execute_result"
    }
   ],
   "source": [
    "no_sp_acq_dup_orders = [i for i in dup_orders if i not in sp_acq_dup_orders]\n",
    "len(no_sp_acq_dup_orders)"
   ]
  },
  {
   "cell_type": "code",
   "execution_count": 18,
   "metadata": {
    "ExecuteTime": {
     "end_time": "2018-11-29T13:11:35.551260Z",
     "start_time": "2018-11-29T13:11:17.590260Z"
    },
    "hidden": true
   },
   "outputs": [],
   "source": [
    "#Let's get incorrect duplicated indexes instead of order_id to exclude them and select the correct data subset\n",
    "dup_indexes = []\n",
    "\n",
    "for i in sp_acq_dup_orders:\n",
    "    o_id = data[data['SCM_N_ORDER_NR'] == i]\n",
    "    old_sp_date = min(o_id['CZP_START_DATE'])\n",
    "    old_sp_index = o_id[o_id['CZP_START_DATE'] == old_sp_date].index.values\n",
    "    dup_indexes.append(old_sp_index)"
   ]
  },
  {
   "cell_type": "code",
   "execution_count": 19,
   "metadata": {
    "ExecuteTime": {
     "end_time": "2018-11-29T13:11:37.210260Z",
     "start_time": "2018-11-29T13:11:37.206260Z"
    },
    "hidden": true
   },
   "outputs": [
    {
     "data": {
      "text/plain": [
       "2845"
      ]
     },
     "execution_count": 19,
     "metadata": {},
     "output_type": "execute_result"
    }
   ],
   "source": [
    "len(dup_indexes)"
   ]
  },
  {
   "cell_type": "code",
   "execution_count": 20,
   "metadata": {
    "ExecuteTime": {
     "end_time": "2018-11-29T13:11:39.032260Z",
     "start_time": "2018-11-29T13:11:38.838260Z"
    },
    "hidden": true
   },
   "outputs": [],
   "source": [
    "for i in no_sp_acq_dup_orders:\n",
    "    c_id = data[data['SCM_N_ORDER_NR'] == i]['CUS_N_KEY_CUSTOMER'].unique()[0]\n",
    "    cust_orders = data[data['CUS_N_KEY_CUSTOMER'] == c_id]\n",
    "    sp_order = cust_orders[cust_orders['SCM_MASTER_AP_ID'] == 42225]['SCM_N_ORDER_NR'].unique()[0]\n",
    "    if i < sp_order:\n",
    "        o_id = data[data['SCM_N_ORDER_NR'] == i]\n",
    "        new_non_valid_sp_date = max(o_id['CZP_START_DATE'])\n",
    "        new_sp_index = o_id[o_id['CZP_START_DATE'] == new_non_valid_sp_date].index.values\n",
    "        dup_indexes.append(new_sp_index)\n",
    "    else:\n",
    "        o_id = data[data['SCM_N_ORDER_NR'] == i]\n",
    "        old_sp_date = min(o_id['CZP_START_DATE'])\n",
    "        old_sp_index = o_id[o_id['CZP_START_DATE'] == old_sp_date].index.values\n",
    "        dup_indexes.append(old_sp_index)"
   ]
  },
  {
   "cell_type": "code",
   "execution_count": 21,
   "metadata": {
    "ExecuteTime": {
     "end_time": "2018-11-29T13:11:40.736260Z",
     "start_time": "2018-11-29T13:11:40.732260Z"
    },
    "hidden": true
   },
   "outputs": [
    {
     "data": {
      "text/plain": [
       "2855"
      ]
     },
     "execution_count": 21,
     "metadata": {},
     "output_type": "execute_result"
    }
   ],
   "source": [
    "len(dup_indexes)"
   ]
  },
  {
   "cell_type": "code",
   "execution_count": 22,
   "metadata": {
    "ExecuteTime": {
     "end_time": "2018-11-29T13:13:23.735605Z",
     "start_time": "2018-11-29T13:11:42.523260Z"
    },
    "hidden": true
   },
   "outputs": [
    {
     "name": "stdout",
     "output_type": "stream",
     "text": [
      "Duplicated rows detected:  19526\n",
      "Start dropping..\n",
      "Number of order IDs having more than one SP_START_DATE now:  0\n"
     ]
    }
   ],
   "source": [
    "#Get a flatten list of indexes\n",
    "dupl_ind = [i for lista in dup_indexes for i in lista]\n",
    "\n",
    "print('Duplicated rows detected: ', len(dupl_ind))\n",
    "print('Start dropping..')\n",
    "\n",
    "#Drop duplicated indexes\n",
    "data.drop(dupl_ind, inplace=True)\n",
    "\n",
    "#0 printed, in order to be sure there are no orders duplicated remaining...\n",
    "print('Number of order IDs having more than one SP_START_DATE now: ',\n",
    "      sum(len(i) > 1 for i in data.groupby('SCM_N_ORDER_NR')['CZP_START_DATE'].unique().values))"
   ]
  },
  {
   "cell_type": "code",
   "execution_count": 23,
   "metadata": {
    "ExecuteTime": {
     "end_time": "2018-11-29T13:30:08.931191Z",
     "start_time": "2018-11-29T13:30:08.635191Z"
    },
    "hidden": true
   },
   "outputs": [],
   "source": [
    "data['FIRST_O_DATE'] = data['TDT_T_KEY_ORDER_DATE'].groupby(data['CUS_N_KEY_CUSTOMER']).transform('min')"
   ]
  },
  {
   "cell_type": "code",
   "execution_count": 24,
   "metadata": {
    "ExecuteTime": {
     "end_time": "2018-11-29T13:30:11.168163Z",
     "start_time": "2018-11-29T13:30:10.897165Z"
    },
    "hidden": true
   },
   "outputs": [],
   "source": [
    "data['LAST_O_DATE'] = data['TDT_T_KEY_ORDER_DATE'].groupby(data['CUS_N_KEY_CUSTOMER']).transform('max')"
   ]
  },
  {
   "cell_type": "code",
   "execution_count": 25,
   "metadata": {
    "ExecuteTime": {
     "end_time": "2018-11-29T13:30:13.551116Z",
     "start_time": "2018-11-29T13:30:13.269123Z"
    },
    "hidden": true
   },
   "outputs": [],
   "source": [
    "data['1ST_O_COUNTER'] = data['OSP_KO_COUNT_NET'].groupby(data['CUS_N_KEY_CUSTOMER']).transform('min')"
   ]
  },
  {
   "cell_type": "code",
   "execution_count": 26,
   "metadata": {
    "ExecuteTime": {
     "end_time": "2018-11-29T13:30:16.648064Z",
     "start_time": "2018-11-29T13:30:15.525088Z"
    },
    "hidden": true
   },
   "outputs": [],
   "source": [
    "data['MAX_SALES_O_POS'] = data['SCM_SALES_BMF'].groupby(data['SCM_N_ORDER_NR']).transform('max')\n",
    "data['IS_LEAD_AS'] = (data['SCM_SALES_BMF'] == data['MAX_SALES_O_POS']) * 1 * data['SCM_AS_ID']\n",
    "data['LEAD_AS_ID'] = data['IS_LEAD_AS'].groupby(data['SCM_N_ORDER_NR']).transform('max')"
   ]
  },
  {
   "cell_type": "code",
   "execution_count": 27,
   "metadata": {
    "ExecuteTime": {
     "end_time": "2018-11-29T13:30:22.791947Z",
     "start_time": "2018-11-29T13:30:18.968028Z"
    },
    "hidden": true
   },
   "outputs": [],
   "source": [
    "data['D28'] = data['FIRST_O_DATE'] + timedelta(days = 28)\n",
    "data['D56'] = data['FIRST_O_DATE'] + timedelta(days = 56)\n",
    "data['D84'] = data['FIRST_O_DATE'] + timedelta(days = 84)\n",
    "data['D252'] = data['FIRST_O_DATE'] + timedelta(days = 252)\n",
    "data['D252'] = data['FIRST_O_DATE'] + timedelta(days = 252)\n",
    "data['D336'] = data['FIRST_O_DATE'] + timedelta(days = 336)"
   ]
  },
  {
   "cell_type": "code",
   "execution_count": 28,
   "metadata": {
    "ExecuteTime": {
     "end_time": "2018-11-29T13:30:25.138929Z",
     "start_time": "2018-11-29T13:30:25.130929Z"
    },
    "hidden": true
   },
   "outputs": [],
   "source": [
    "#Get brands per PG4\n",
    "brands = pd.read_csv('pg4_brands.dsv', sep=';', low_memory=False)"
   ]
  },
  {
   "cell_type": "code",
   "execution_count": 29,
   "metadata": {
    "ExecuteTime": {
     "end_time": "2018-11-29T13:30:27.421882Z",
     "start_time": "2018-11-29T13:30:27.420882Z"
    },
    "hidden": true
   },
   "outputs": [],
   "source": [
    "brands['BRAND'] = [i.split(' - ')[1] if len(i.split('-')) > 1 else 'unknown' for i in brands['PPR_V_LEVEL4_DESC'].values]"
   ]
  },
  {
   "cell_type": "code",
   "execution_count": 30,
   "metadata": {
    "ExecuteTime": {
     "end_time": "2018-11-29T13:30:29.709842Z",
     "start_time": "2018-11-29T13:30:29.708842Z"
    },
    "hidden": true
   },
   "outputs": [
    {
     "name": "stdout",
     "output_type": "stream",
     "text": [
      "<class 'pandas.core.frame.DataFrame'>\n",
      "RangeIndex: 2006 entries, 0 to 2005\n",
      "Data columns (total 3 columns):\n",
      "PPR_N_LEVEL4_ID      2006 non-null int64\n",
      "PPR_V_LEVEL4_DESC    2006 non-null object\n",
      "BRAND                2006 non-null object\n",
      "dtypes: int64(1), object(2)\n",
      "memory usage: 47.1+ KB\n"
     ]
    }
   ],
   "source": [
    "brands.info()"
   ]
  },
  {
   "cell_type": "code",
   "execution_count": 31,
   "metadata": {
    "ExecuteTime": {
     "end_time": "2018-11-29T13:30:31.965794Z",
     "start_time": "2018-11-29T13:30:31.964794Z"
    },
    "hidden": true
   },
   "outputs": [
    {
     "data": {
      "text/html": [
       "<div>\n",
       "<style scoped>\n",
       "    .dataframe tbody tr th:only-of-type {\n",
       "        vertical-align: middle;\n",
       "    }\n",
       "\n",
       "    .dataframe tbody tr th {\n",
       "        vertical-align: top;\n",
       "    }\n",
       "\n",
       "    .dataframe thead th {\n",
       "        text-align: right;\n",
       "    }\n",
       "</style>\n",
       "<table border=\"1\" class=\"dataframe\">\n",
       "  <thead>\n",
       "    <tr style=\"text-align: right;\">\n",
       "      <th></th>\n",
       "      <th>PPR_N_LEVEL4_ID</th>\n",
       "      <th>PPR_V_LEVEL4_DESC</th>\n",
       "      <th>BRAND</th>\n",
       "    </tr>\n",
       "  </thead>\n",
       "  <tbody>\n",
       "    <tr>\n",
       "      <th>466</th>\n",
       "      <td>279533</td>\n",
       "      <td>279533 - Superbox Dog XMas 2017</td>\n",
       "      <td>Superbox Dog XMas 2017</td>\n",
       "    </tr>\n",
       "    <tr>\n",
       "      <th>854</th>\n",
       "      <td>921</td>\n",
       "      <td>921 - Chinchillakäfig</td>\n",
       "      <td>Chinchillakäfig</td>\n",
       "    </tr>\n",
       "    <tr>\n",
       "      <th>603</th>\n",
       "      <td>3082</td>\n",
       "      <td>3082 - Tommy 82 C3</td>\n",
       "      <td>Tommy 82 C3</td>\n",
       "    </tr>\n",
       "    <tr>\n",
       "      <th>1840</th>\n",
       "      <td>180</td>\n",
       "      <td>180 - Goldfischfutter</td>\n",
       "      <td>Goldfischfutter</td>\n",
       "    </tr>\n",
       "    <tr>\n",
       "      <th>1983</th>\n",
       "      <td>250511</td>\n",
       "      <td>250511 - Smolke</td>\n",
       "      <td>Smolke</td>\n",
       "    </tr>\n",
       "    <tr>\n",
       "      <th>202</th>\n",
       "      <td>183141</td>\n",
       "      <td>183141 - Lamm</td>\n",
       "      <td>Lamm</td>\n",
       "    </tr>\n",
       "    <tr>\n",
       "      <th>771</th>\n",
       "      <td>315097</td>\n",
       "      <td>315097 - Biofood</td>\n",
       "      <td>Biofood</td>\n",
       "    </tr>\n",
       "    <tr>\n",
       "      <th>1025</th>\n",
       "      <td>2196</td>\n",
       "      <td>2196 - Sparpakete</td>\n",
       "      <td>Sparpakete</td>\n",
       "    </tr>\n",
       "    <tr>\n",
       "      <th>257</th>\n",
       "      <td>17798</td>\n",
       "      <td>17798 - Royal Canin Breed (Rasse)</td>\n",
       "      <td>Royal Canin Breed (Rasse)</td>\n",
       "    </tr>\n",
       "    <tr>\n",
       "      <th>1110</th>\n",
       "      <td>525</td>\n",
       "      <td>525 - Durchlüfter/-ersatzteile</td>\n",
       "      <td>Durchlüfter/-ersatzteile</td>\n",
       "    </tr>\n",
       "  </tbody>\n",
       "</table>\n",
       "</div>"
      ],
      "text/plain": [
       "      PPR_N_LEVEL4_ID                  PPR_V_LEVEL4_DESC  \\\n",
       "466            279533    279533 - Superbox Dog XMas 2017   \n",
       "854               921              921 - Chinchillakäfig   \n",
       "603              3082                 3082 - Tommy 82 C3   \n",
       "1840              180              180 - Goldfischfutter   \n",
       "1983           250511                    250511 - Smolke   \n",
       "202            183141                      183141 - Lamm   \n",
       "771            315097                   315097 - Biofood   \n",
       "1025             2196                  2196 - Sparpakete   \n",
       "257             17798  17798 - Royal Canin Breed (Rasse)   \n",
       "1110              525     525 - Durchlüfter/-ersatzteile   \n",
       "\n",
       "                          BRAND  \n",
       "466      Superbox Dog XMas 2017  \n",
       "854             Chinchillakäfig  \n",
       "603                 Tommy 82 C3  \n",
       "1840            Goldfischfutter  \n",
       "1983                     Smolke  \n",
       "202                        Lamm  \n",
       "771                     Biofood  \n",
       "1025                 Sparpakete  \n",
       "257   Royal Canin Breed (Rasse)  \n",
       "1110   Durchlüfter/-ersatzteile  "
      ]
     },
     "execution_count": 31,
     "metadata": {},
     "output_type": "execute_result"
    }
   ],
   "source": [
    "brands.sample(10)"
   ]
  },
  {
   "cell_type": "code",
   "execution_count": 32,
   "metadata": {
    "ExecuteTime": {
     "end_time": "2018-11-29T13:30:34.357771Z",
     "start_time": "2018-11-29T13:30:34.295771Z"
    },
    "hidden": true
   },
   "outputs": [],
   "source": [
    "#Get physical articles with their PG structure\n",
    "ap_pg = pd.read_csv('vw_ap_pg_link.dsv', sep=';', low_memory=False)"
   ]
  },
  {
   "cell_type": "code",
   "execution_count": 33,
   "metadata": {
    "ExecuteTime": {
     "end_time": "2018-11-29T13:30:36.709749Z",
     "start_time": "2018-11-29T13:30:36.694749Z"
    },
    "hidden": true
   },
   "outputs": [
    {
     "name": "stdout",
     "output_type": "stream",
     "text": [
      "<class 'pandas.core.frame.DataFrame'>\n",
      "RangeIndex: 62994 entries, 0 to 62993\n",
      "Data columns (total 9 columns):\n",
      "AP_ID       62994 non-null int64\n",
      "PP_ID       62994 non-null int64\n",
      "L1_PG_ID    62994 non-null int64\n",
      "L2_PG_ID    62993 non-null float64\n",
      "L3_PG_ID    62537 non-null float64\n",
      "L4_PG_ID    60229 non-null float64\n",
      "L5_PG_ID    29125 non-null float64\n",
      "L6_PG_ID    18 non-null float64\n",
      "L7_PG_ID    0 non-null float64\n",
      "dtypes: float64(6), int64(3)\n",
      "memory usage: 4.3 MB\n"
     ]
    }
   ],
   "source": [
    "ap_pg.info()"
   ]
  },
  {
   "cell_type": "code",
   "execution_count": 34,
   "metadata": {
    "ExecuteTime": {
     "end_time": "2018-11-29T13:30:39.081726Z",
     "start_time": "2018-11-29T13:30:39.080726Z"
    },
    "hidden": true
   },
   "outputs": [],
   "source": [
    "ap_pg = ap_pg[['AP_ID', 'L3_PG_ID', 'L4_PG_ID']].fillna(0).astype(int)"
   ]
  },
  {
   "cell_type": "code",
   "execution_count": 35,
   "metadata": {
    "ExecuteTime": {
     "end_time": "2018-11-29T13:30:41.411702Z",
     "start_time": "2018-11-29T13:30:41.400702Z"
    },
    "hidden": true
   },
   "outputs": [
    {
     "data": {
      "text/html": [
       "<div>\n",
       "<style scoped>\n",
       "    .dataframe tbody tr th:only-of-type {\n",
       "        vertical-align: middle;\n",
       "    }\n",
       "\n",
       "    .dataframe tbody tr th {\n",
       "        vertical-align: top;\n",
       "    }\n",
       "\n",
       "    .dataframe thead th {\n",
       "        text-align: right;\n",
       "    }\n",
       "</style>\n",
       "<table border=\"1\" class=\"dataframe\">\n",
       "  <thead>\n",
       "    <tr style=\"text-align: right;\">\n",
       "      <th></th>\n",
       "      <th>AP_ID</th>\n",
       "      <th>L3_PG_ID</th>\n",
       "      <th>L4_PG_ID</th>\n",
       "    </tr>\n",
       "  </thead>\n",
       "  <tbody>\n",
       "    <tr>\n",
       "      <th>36465</th>\n",
       "      <td>50727</td>\n",
       "      <td>45</td>\n",
       "      <td>153</td>\n",
       "    </tr>\n",
       "    <tr>\n",
       "      <th>20986</th>\n",
       "      <td>68771</td>\n",
       "      <td>857</td>\n",
       "      <td>2128</td>\n",
       "    </tr>\n",
       "    <tr>\n",
       "      <th>31349</th>\n",
       "      <td>81581</td>\n",
       "      <td>34</td>\n",
       "      <td>72116</td>\n",
       "    </tr>\n",
       "    <tr>\n",
       "      <th>34627</th>\n",
       "      <td>24067</td>\n",
       "      <td>15816</td>\n",
       "      <td>15817</td>\n",
       "    </tr>\n",
       "    <tr>\n",
       "      <th>3210</th>\n",
       "      <td>25255</td>\n",
       "      <td>45</td>\n",
       "      <td>151</td>\n",
       "    </tr>\n",
       "    <tr>\n",
       "      <th>22496</th>\n",
       "      <td>68165</td>\n",
       "      <td>251</td>\n",
       "      <td>81396</td>\n",
       "    </tr>\n",
       "    <tr>\n",
       "      <th>46076</th>\n",
       "      <td>62883</td>\n",
       "      <td>2190</td>\n",
       "      <td>15017</td>\n",
       "    </tr>\n",
       "    <tr>\n",
       "      <th>54578</th>\n",
       "      <td>60396</td>\n",
       "      <td>251</td>\n",
       "      <td>255</td>\n",
       "    </tr>\n",
       "    <tr>\n",
       "      <th>60660</th>\n",
       "      <td>57514</td>\n",
       "      <td>13505</td>\n",
       "      <td>13506</td>\n",
       "    </tr>\n",
       "    <tr>\n",
       "      <th>15719</th>\n",
       "      <td>71361</td>\n",
       "      <td>2068</td>\n",
       "      <td>118139</td>\n",
       "    </tr>\n",
       "  </tbody>\n",
       "</table>\n",
       "</div>"
      ],
      "text/plain": [
       "       AP_ID  L3_PG_ID  L4_PG_ID\n",
       "36465  50727        45       153\n",
       "20986  68771       857      2128\n",
       "31349  81581        34     72116\n",
       "34627  24067     15816     15817\n",
       "3210   25255        45       151\n",
       "22496  68165       251     81396\n",
       "46076  62883      2190     15017\n",
       "54578  60396       251       255\n",
       "60660  57514     13505     13506\n",
       "15719  71361      2068    118139"
      ]
     },
     "execution_count": 35,
     "metadata": {},
     "output_type": "execute_result"
    }
   ],
   "source": [
    "ap_pg.sample(10)"
   ]
  },
  {
   "cell_type": "code",
   "execution_count": 36,
   "metadata": {
    "ExecuteTime": {
     "end_time": "2018-11-29T13:30:43.763665Z",
     "start_time": "2018-11-29T13:30:43.739665Z"
    },
    "hidden": true
   },
   "outputs": [],
   "source": [
    "#Merge both tables to add the brand for each AP_ID\n",
    "ap_pg_brand = pd.merge(ap_pg, brands, how='left', left_on='L4_PG_ID', right_on='PPR_N_LEVEL4_ID')"
   ]
  },
  {
   "cell_type": "code",
   "execution_count": 37,
   "metadata": {
    "ExecuteTime": {
     "end_time": "2018-11-29T13:30:46.058614Z",
     "start_time": "2018-11-29T13:30:46.051614Z"
    },
    "hidden": true
   },
   "outputs": [
    {
     "data": {
      "text/html": [
       "<div>\n",
       "<style scoped>\n",
       "    .dataframe tbody tr th:only-of-type {\n",
       "        vertical-align: middle;\n",
       "    }\n",
       "\n",
       "    .dataframe tbody tr th {\n",
       "        vertical-align: top;\n",
       "    }\n",
       "\n",
       "    .dataframe thead th {\n",
       "        text-align: right;\n",
       "    }\n",
       "</style>\n",
       "<table border=\"1\" class=\"dataframe\">\n",
       "  <thead>\n",
       "    <tr style=\"text-align: right;\">\n",
       "      <th></th>\n",
       "      <th>AP_ID</th>\n",
       "      <th>L3_PG_ID</th>\n",
       "      <th>L4_PG_ID</th>\n",
       "      <th>PPR_N_LEVEL4_ID</th>\n",
       "      <th>PPR_V_LEVEL4_DESC</th>\n",
       "      <th>BRAND</th>\n",
       "    </tr>\n",
       "  </thead>\n",
       "  <tbody>\n",
       "    <tr>\n",
       "      <th>30025</th>\n",
       "      <td>82048</td>\n",
       "      <td>40023</td>\n",
       "      <td>43280</td>\n",
       "      <td>43280</td>\n",
       "      <td>43280 - Hundeschuhe</td>\n",
       "      <td>Hundeschuhe</td>\n",
       "    </tr>\n",
       "    <tr>\n",
       "      <th>7251</th>\n",
       "      <td>55287</td>\n",
       "      <td>409</td>\n",
       "      <td>60757</td>\n",
       "      <td>60757</td>\n",
       "      <td>60757 - FURminator</td>\n",
       "      <td>FURminator</td>\n",
       "    </tr>\n",
       "    <tr>\n",
       "      <th>54231</th>\n",
       "      <td>78831</td>\n",
       "      <td>2068</td>\n",
       "      <td>10728</td>\n",
       "      <td>10728</td>\n",
       "      <td>10728 - Whiskas</td>\n",
       "      <td>Whiskas</td>\n",
       "    </tr>\n",
       "    <tr>\n",
       "      <th>46989</th>\n",
       "      <td>81174</td>\n",
       "      <td>2068</td>\n",
       "      <td>2632</td>\n",
       "      <td>2632</td>\n",
       "      <td>2632 - ★ Cosma</td>\n",
       "      <td>★ Cosma</td>\n",
       "    </tr>\n",
       "    <tr>\n",
       "      <th>9092</th>\n",
       "      <td>9133</td>\n",
       "      <td>965</td>\n",
       "      <td>975</td>\n",
       "      <td>975</td>\n",
       "      <td>975 - Schlauch-/Rohrzubehör</td>\n",
       "      <td>Schlauch-/Rohrzubehör</td>\n",
       "    </tr>\n",
       "    <tr>\n",
       "      <th>44827</th>\n",
       "      <td>60510</td>\n",
       "      <td>857</td>\n",
       "      <td>129147</td>\n",
       "      <td>129147</td>\n",
       "      <td>129147 - Belcando</td>\n",
       "      <td>Belcando</td>\n",
       "    </tr>\n",
       "    <tr>\n",
       "      <th>46114</th>\n",
       "      <td>78253</td>\n",
       "      <td>2068</td>\n",
       "      <td>2079</td>\n",
       "      <td>2079</td>\n",
       "      <td>2079 - Miamor</td>\n",
       "      <td>Miamor</td>\n",
       "    </tr>\n",
       "    <tr>\n",
       "      <th>55152</th>\n",
       "      <td>44561</td>\n",
       "      <td>2068</td>\n",
       "      <td>3155</td>\n",
       "      <td>3155</td>\n",
       "      <td>3155 - Schesir</td>\n",
       "      <td>Schesir</td>\n",
       "    </tr>\n",
       "    <tr>\n",
       "      <th>25721</th>\n",
       "      <td>15570</td>\n",
       "      <td>251</td>\n",
       "      <td>682</td>\n",
       "      <td>682</td>\n",
       "      <td>682 - Royal Canin Size</td>\n",
       "      <td>Royal Canin Size</td>\n",
       "    </tr>\n",
       "    <tr>\n",
       "      <th>46491</th>\n",
       "      <td>62267</td>\n",
       "      <td>2155</td>\n",
       "      <td>2157</td>\n",
       "      <td>2157</td>\n",
       "      <td>2157 - Alle Katzenklappen</td>\n",
       "      <td>Alle Katzenklappen</td>\n",
       "    </tr>\n",
       "    <tr>\n",
       "      <th>13943</th>\n",
       "      <td>74820</td>\n",
       "      <td>251</td>\n",
       "      <td>250480</td>\n",
       "      <td>250480</td>\n",
       "      <td>250480 - Smolke</td>\n",
       "      <td>Smolke</td>\n",
       "    </tr>\n",
       "    <tr>\n",
       "      <th>12400</th>\n",
       "      <td>42360</td>\n",
       "      <td>153317</td>\n",
       "      <td>153321</td>\n",
       "      <td>153321</td>\n",
       "      <td>153321 - Erziehungshalsband &amp; Antibell</td>\n",
       "      <td>Erziehungshalsband &amp; Antibell</td>\n",
       "    </tr>\n",
       "    <tr>\n",
       "      <th>19960</th>\n",
       "      <td>36171</td>\n",
       "      <td>2068</td>\n",
       "      <td>2127</td>\n",
       "      <td>2127</td>\n",
       "      <td>2127 - Almo Nature</td>\n",
       "      <td>Almo Nature</td>\n",
       "    </tr>\n",
       "    <tr>\n",
       "      <th>38178</th>\n",
       "      <td>68172</td>\n",
       "      <td>251</td>\n",
       "      <td>106999</td>\n",
       "      <td>106999</td>\n",
       "      <td>106999 - Applaws</td>\n",
       "      <td>Applaws</td>\n",
       "    </tr>\n",
       "    <tr>\n",
       "      <th>22961</th>\n",
       "      <td>62575</td>\n",
       "      <td>65</td>\n",
       "      <td>192</td>\n",
       "      <td>192</td>\n",
       "      <td>192 - Pflanzendünger</td>\n",
       "      <td>Pflanzendünger</td>\n",
       "    </tr>\n",
       "    <tr>\n",
       "      <th>16151</th>\n",
       "      <td>2404</td>\n",
       "      <td>17</td>\n",
       "      <td>1437</td>\n",
       "      <td>1437</td>\n",
       "      <td>1437 - Aufkleber</td>\n",
       "      <td>Aufkleber</td>\n",
       "    </tr>\n",
       "    <tr>\n",
       "      <th>60692</th>\n",
       "      <td>70087</td>\n",
       "      <td>34</td>\n",
       "      <td>140713</td>\n",
       "      <td>140713</td>\n",
       "      <td>140713 - ❤ zoolove by zooplus</td>\n",
       "      <td>❤ zoolove by zooplus</td>\n",
       "    </tr>\n",
       "    <tr>\n",
       "      <th>59040</th>\n",
       "      <td>35664</td>\n",
       "      <td>252</td>\n",
       "      <td>13784</td>\n",
       "      <td>13784</td>\n",
       "      <td>13784 - Defu Biofutter</td>\n",
       "      <td>Defu Biofutter</td>\n",
       "    </tr>\n",
       "    <tr>\n",
       "      <th>41279</th>\n",
       "      <td>14873</td>\n",
       "      <td>821</td>\n",
       "      <td>1091</td>\n",
       "      <td>1091</td>\n",
       "      <td>1091 - Hoch</td>\n",
       "      <td>Hoch</td>\n",
       "    </tr>\n",
       "    <tr>\n",
       "      <th>6760</th>\n",
       "      <td>78161</td>\n",
       "      <td>257304</td>\n",
       "      <td>257332</td>\n",
       "      <td>257332</td>\n",
       "      <td>257332 - Essig, Öl &amp; Gewürze</td>\n",
       "      <td>Essig, Öl &amp; Gewürze</td>\n",
       "    </tr>\n",
       "  </tbody>\n",
       "</table>\n",
       "</div>"
      ],
      "text/plain": [
       "       AP_ID  L3_PG_ID  L4_PG_ID  PPR_N_LEVEL4_ID  \\\n",
       "30025  82048     40023     43280            43280   \n",
       "7251   55287       409     60757            60757   \n",
       "54231  78831      2068     10728            10728   \n",
       "46989  81174      2068      2632             2632   \n",
       "9092    9133       965       975              975   \n",
       "44827  60510       857    129147           129147   \n",
       "46114  78253      2068      2079             2079   \n",
       "55152  44561      2068      3155             3155   \n",
       "25721  15570       251       682              682   \n",
       "46491  62267      2155      2157             2157   \n",
       "13943  74820       251    250480           250480   \n",
       "12400  42360    153317    153321           153321   \n",
       "19960  36171      2068      2127             2127   \n",
       "38178  68172       251    106999           106999   \n",
       "22961  62575        65       192              192   \n",
       "16151   2404        17      1437             1437   \n",
       "60692  70087        34    140713           140713   \n",
       "59040  35664       252     13784            13784   \n",
       "41279  14873       821      1091             1091   \n",
       "6760   78161    257304    257332           257332   \n",
       "\n",
       "                            PPR_V_LEVEL4_DESC                          BRAND  \n",
       "30025                     43280 - Hundeschuhe                    Hundeschuhe  \n",
       "7251                       60757 - FURminator                     FURminator  \n",
       "54231                         10728 - Whiskas                        Whiskas  \n",
       "46989                          2632 - ★ Cosma                        ★ Cosma  \n",
       "9092              975 - Schlauch-/Rohrzubehör          Schlauch-/Rohrzubehör  \n",
       "44827                       129147 - Belcando                       Belcando  \n",
       "46114                           2079 - Miamor                         Miamor  \n",
       "55152                          3155 - Schesir                        Schesir  \n",
       "25721                  682 - Royal Canin Size               Royal Canin Size  \n",
       "46491               2157 - Alle Katzenklappen             Alle Katzenklappen  \n",
       "13943                         250480 - Smolke                         Smolke  \n",
       "12400  153321 - Erziehungshalsband & Antibell  Erziehungshalsband & Antibell  \n",
       "19960                      2127 - Almo Nature                    Almo Nature  \n",
       "38178                        106999 - Applaws                        Applaws  \n",
       "22961                    192 - Pflanzendünger                 Pflanzendünger  \n",
       "16151                        1437 - Aufkleber                      Aufkleber  \n",
       "60692           140713 - ❤ zoolove by zooplus           ❤ zoolove by zooplus  \n",
       "59040                  13784 - Defu Biofutter                 Defu Biofutter  \n",
       "41279                             1091 - Hoch                           Hoch  \n",
       "6760             257332 - Essig, Öl & Gewürze            Essig, Öl & Gewürze  "
      ]
     },
     "execution_count": 37,
     "metadata": {},
     "output_type": "execute_result"
    }
   ],
   "source": [
    "ap_pg_brand.sample(20)"
   ]
  },
  {
   "cell_type": "code",
   "execution_count": 38,
   "metadata": {
    "ExecuteTime": {
     "end_time": "2018-11-29T13:30:51.400561Z",
     "start_time": "2018-11-29T13:30:48.418586Z"
    },
    "hidden": true
   },
   "outputs": [],
   "source": [
    "data = pd.merge(data, ap_pg_brand, how='left', left_on='SCM_AP_ID', right_on='AP_ID')"
   ]
  },
  {
   "cell_type": "code",
   "execution_count": 39,
   "metadata": {
    "ExecuteTime": {
     "end_time": "2018-11-29T13:30:55.994453Z",
     "start_time": "2018-11-29T13:30:53.884510Z"
    },
    "hidden": true
   },
   "outputs": [],
   "source": [
    "data[['AP_ID', 'L3_PG_ID', 'L4_PG_ID', 'PPR_N_LEVEL4_ID']] = data[['AP_ID', 'L3_PG_ID', 'L4_PG_ID', 'PPR_N_LEVEL4_ID']].fillna(0).astype(int)"
   ]
  },
  {
   "cell_type": "code",
   "execution_count": 40,
   "metadata": {
    "ExecuteTime": {
     "end_time": "2018-11-29T13:30:58.059411Z",
     "start_time": "2018-11-29T13:30:57.848417Z"
    },
    "hidden": true
   },
   "outputs": [
    {
     "data": {
      "text/html": [
       "<div>\n",
       "<style scoped>\n",
       "    .dataframe tbody tr th:only-of-type {\n",
       "        vertical-align: middle;\n",
       "    }\n",
       "\n",
       "    .dataframe tbody tr th {\n",
       "        vertical-align: top;\n",
       "    }\n",
       "\n",
       "    .dataframe thead th {\n",
       "        text-align: right;\n",
       "    }\n",
       "</style>\n",
       "<table border=\"1\" class=\"dataframe\">\n",
       "  <thead>\n",
       "    <tr style=\"text-align: right;\">\n",
       "      <th></th>\n",
       "      <th>SCM_N_ORDER_POS_NR</th>\n",
       "      <th>SCM_N_ORDER_NR</th>\n",
       "      <th>TDT_T_KEY_ORDER_DATE</th>\n",
       "      <th>THR_C_KEY_ORDER_HOUR</th>\n",
       "      <th>SIT_N_KEY_SITE</th>\n",
       "      <th>CUS_N_KEY_CUSTOMER</th>\n",
       "      <th>SCM_SALES_BMF</th>\n",
       "      <th>SCM_D_FINANCE_CM1</th>\n",
       "      <th>SCM_D_FINANCE_CM2</th>\n",
       "      <th>SCM_D_ORIG_FINANCE_ORDER_NET</th>\n",
       "      <th>...</th>\n",
       "      <th>D56</th>\n",
       "      <th>D84</th>\n",
       "      <th>D252</th>\n",
       "      <th>D336</th>\n",
       "      <th>AP_ID</th>\n",
       "      <th>L3_PG_ID</th>\n",
       "      <th>L4_PG_ID</th>\n",
       "      <th>PPR_N_LEVEL4_ID</th>\n",
       "      <th>PPR_V_LEVEL4_DESC</th>\n",
       "      <th>BRAND</th>\n",
       "    </tr>\n",
       "  </thead>\n",
       "  <tbody>\n",
       "    <tr>\n",
       "      <th>2980842</th>\n",
       "      <td>460600157</td>\n",
       "      <td>108003401</td>\n",
       "      <td>2018-04-04</td>\n",
       "      <td>03:28</td>\n",
       "      <td>15</td>\n",
       "      <td>16867594</td>\n",
       "      <td>3.99</td>\n",
       "      <td>1.1373</td>\n",
       "      <td>0.5116</td>\n",
       "      <td>3.6273</td>\n",
       "      <td>...</td>\n",
       "      <td>2017-07-12</td>\n",
       "      <td>2017-08-09</td>\n",
       "      <td>2018-01-24</td>\n",
       "      <td>2018-04-18</td>\n",
       "      <td>63188</td>\n",
       "      <td>2068</td>\n",
       "      <td>2127</td>\n",
       "      <td>2127</td>\n",
       "      <td>2127 - Almo Nature</td>\n",
       "      <td>Almo Nature</td>\n",
       "    </tr>\n",
       "    <tr>\n",
       "      <th>2124066</th>\n",
       "      <td>373005171</td>\n",
       "      <td>87447887</td>\n",
       "      <td>2017-05-17</td>\n",
       "      <td>13:08</td>\n",
       "      <td>15</td>\n",
       "      <td>12275981</td>\n",
       "      <td>4.99</td>\n",
       "      <td>1.9740</td>\n",
       "      <td>1.5107</td>\n",
       "      <td>4.1240</td>\n",
       "      <td>...</td>\n",
       "      <td>2015-10-22</td>\n",
       "      <td>2015-11-19</td>\n",
       "      <td>2016-05-05</td>\n",
       "      <td>2016-07-28</td>\n",
       "      <td>27908</td>\n",
       "      <td>20</td>\n",
       "      <td>96500</td>\n",
       "      <td>96500</td>\n",
       "      <td>96500 - Kuschelspielzeug</td>\n",
       "      <td>Kuschelspielzeug</td>\n",
       "    </tr>\n",
       "    <tr>\n",
       "      <th>122168</th>\n",
       "      <td>282674075</td>\n",
       "      <td>66790457</td>\n",
       "      <td>2016-04-03</td>\n",
       "      <td>01:03</td>\n",
       "      <td>15</td>\n",
       "      <td>13588592</td>\n",
       "      <td>-5.82</td>\n",
       "      <td>-4.7317</td>\n",
       "      <td>-4.7317</td>\n",
       "      <td>-4.7317</td>\n",
       "      <td>...</td>\n",
       "      <td>2016-04-19</td>\n",
       "      <td>2016-05-17</td>\n",
       "      <td>2016-11-01</td>\n",
       "      <td>2017-01-24</td>\n",
       "      <td>0</td>\n",
       "      <td>0</td>\n",
       "      <td>0</td>\n",
       "      <td>0</td>\n",
       "      <td>NaN</td>\n",
       "      <td>NaN</td>\n",
       "    </tr>\n",
       "    <tr>\n",
       "      <th>2526755</th>\n",
       "      <td>328209932</td>\n",
       "      <td>77303926</td>\n",
       "      <td>2016-11-09</td>\n",
       "      <td>15:12</td>\n",
       "      <td>15</td>\n",
       "      <td>14029568</td>\n",
       "      <td>46.99</td>\n",
       "      <td>0.4582</td>\n",
       "      <td>-4.5418</td>\n",
       "      <td>42.7182</td>\n",
       "      <td>...</td>\n",
       "      <td>2016-06-16</td>\n",
       "      <td>2016-07-14</td>\n",
       "      <td>2016-12-29</td>\n",
       "      <td>2017-03-23</td>\n",
       "      <td>69085</td>\n",
       "      <td>207553</td>\n",
       "      <td>207615</td>\n",
       "      <td>207615</td>\n",
       "      <td>207615 - Halsband</td>\n",
       "      <td>Halsband</td>\n",
       "    </tr>\n",
       "    <tr>\n",
       "      <th>901713</th>\n",
       "      <td>429795951</td>\n",
       "      <td>100720668</td>\n",
       "      <td>2017-12-16</td>\n",
       "      <td>10:39</td>\n",
       "      <td>15</td>\n",
       "      <td>14003231</td>\n",
       "      <td>17.99</td>\n",
       "      <td>5.5678</td>\n",
       "      <td>-2.2502</td>\n",
       "      <td>14.8678</td>\n",
       "      <td>...</td>\n",
       "      <td>2016-06-13</td>\n",
       "      <td>2016-07-11</td>\n",
       "      <td>2016-12-26</td>\n",
       "      <td>2017-03-20</td>\n",
       "      <td>34321</td>\n",
       "      <td>301</td>\n",
       "      <td>39682</td>\n",
       "      <td>39682</td>\n",
       "      <td>39682 - Sanicat</td>\n",
       "      <td>Sanicat</td>\n",
       "    </tr>\n",
       "    <tr>\n",
       "      <th>3042096</th>\n",
       "      <td>468252441</td>\n",
       "      <td>109925655</td>\n",
       "      <td>2018-05-03</td>\n",
       "      <td>08:36</td>\n",
       "      <td>15</td>\n",
       "      <td>14987903</td>\n",
       "      <td>32.99</td>\n",
       "      <td>13.5509</td>\n",
       "      <td>6.7678</td>\n",
       "      <td>29.9909</td>\n",
       "      <td>...</td>\n",
       "      <td>2016-10-26</td>\n",
       "      <td>2016-11-23</td>\n",
       "      <td>2017-05-10</td>\n",
       "      <td>2017-08-02</td>\n",
       "      <td>63208</td>\n",
       "      <td>252</td>\n",
       "      <td>2056</td>\n",
       "      <td>2056</td>\n",
       "      <td>2056 - Sanabelle</td>\n",
       "      <td>Sanabelle</td>\n",
       "    </tr>\n",
       "    <tr>\n",
       "      <th>3158588</th>\n",
       "      <td>344424588</td>\n",
       "      <td>80951314</td>\n",
       "      <td>2017-01-16</td>\n",
       "      <td>23:36</td>\n",
       "      <td>15</td>\n",
       "      <td>15978926</td>\n",
       "      <td>8.99</td>\n",
       "      <td>3.6127</td>\n",
       "      <td>2.4765</td>\n",
       "      <td>8.1727</td>\n",
       "      <td>...</td>\n",
       "      <td>2017-03-13</td>\n",
       "      <td>2017-04-10</td>\n",
       "      <td>2017-09-25</td>\n",
       "      <td>2017-12-18</td>\n",
       "      <td>50861</td>\n",
       "      <td>18</td>\n",
       "      <td>101</td>\n",
       "      <td>101</td>\n",
       "      <td>101 - Kauknochen &amp; Kaurollen</td>\n",
       "      <td>Kauknochen &amp; Kaurollen</td>\n",
       "    </tr>\n",
       "    <tr>\n",
       "      <th>2435652</th>\n",
       "      <td>267440031</td>\n",
       "      <td>63275378</td>\n",
       "      <td>2016-01-16</td>\n",
       "      <td>21:21</td>\n",
       "      <td>15</td>\n",
       "      <td>13270517</td>\n",
       "      <td>6.59</td>\n",
       "      <td>1.5209</td>\n",
       "      <td>0.0076</td>\n",
       "      <td>5.9909</td>\n",
       "      <td>...</td>\n",
       "      <td>2016-03-10</td>\n",
       "      <td>2016-04-07</td>\n",
       "      <td>2016-09-22</td>\n",
       "      <td>2016-12-15</td>\n",
       "      <td>37549</td>\n",
       "      <td>18</td>\n",
       "      <td>104</td>\n",
       "      <td>104</td>\n",
       "      <td>104 - vom Rind</td>\n",
       "      <td>vom Rind</td>\n",
       "    </tr>\n",
       "    <tr>\n",
       "      <th>1135858</th>\n",
       "      <td>474881279</td>\n",
       "      <td>111582955</td>\n",
       "      <td>2018-05-28</td>\n",
       "      <td>22:00</td>\n",
       "      <td>15</td>\n",
       "      <td>15456770</td>\n",
       "      <td>10.99</td>\n",
       "      <td>5.6309</td>\n",
       "      <td>4.4469</td>\n",
       "      <td>9.9909</td>\n",
       "      <td>...</td>\n",
       "      <td>2017-01-01</td>\n",
       "      <td>2017-01-29</td>\n",
       "      <td>2017-07-16</td>\n",
       "      <td>2017-10-08</td>\n",
       "      <td>74933</td>\n",
       "      <td>2068</td>\n",
       "      <td>9498</td>\n",
       "      <td>9498</td>\n",
       "      <td>9498 - Sheba</td>\n",
       "      <td>Sheba</td>\n",
       "    </tr>\n",
       "    <tr>\n",
       "      <th>2277902</th>\n",
       "      <td>341336966</td>\n",
       "      <td>80241174</td>\n",
       "      <td>2017-01-04</td>\n",
       "      <td>09:46</td>\n",
       "      <td>15</td>\n",
       "      <td>14132453</td>\n",
       "      <td>42.99</td>\n",
       "      <td>7.7118</td>\n",
       "      <td>-0.6580</td>\n",
       "      <td>39.0818</td>\n",
       "      <td>...</td>\n",
       "      <td>2016-06-29</td>\n",
       "      <td>2016-07-27</td>\n",
       "      <td>2017-01-11</td>\n",
       "      <td>2017-04-05</td>\n",
       "      <td>61093</td>\n",
       "      <td>251</td>\n",
       "      <td>682</td>\n",
       "      <td>682</td>\n",
       "      <td>682 - Royal Canin Size</td>\n",
       "      <td>Royal Canin Size</td>\n",
       "    </tr>\n",
       "  </tbody>\n",
       "</table>\n",
       "<p>10 rows × 41 columns</p>\n",
       "</div>"
      ],
      "text/plain": [
       "         SCM_N_ORDER_POS_NR  SCM_N_ORDER_NR TDT_T_KEY_ORDER_DATE  \\\n",
       "2980842           460600157       108003401           2018-04-04   \n",
       "2124066           373005171        87447887           2017-05-17   \n",
       "122168            282674075        66790457           2016-04-03   \n",
       "2526755           328209932        77303926           2016-11-09   \n",
       "901713            429795951       100720668           2017-12-16   \n",
       "3042096           468252441       109925655           2018-05-03   \n",
       "3158588           344424588        80951314           2017-01-16   \n",
       "2435652           267440031        63275378           2016-01-16   \n",
       "1135858           474881279       111582955           2018-05-28   \n",
       "2277902           341336966        80241174           2017-01-04   \n",
       "\n",
       "        THR_C_KEY_ORDER_HOUR  SIT_N_KEY_SITE  CUS_N_KEY_CUSTOMER  \\\n",
       "2980842                03:28              15            16867594   \n",
       "2124066                13:08              15            12275981   \n",
       "122168                 01:03              15            13588592   \n",
       "2526755                15:12              15            14029568   \n",
       "901713                 10:39              15            14003231   \n",
       "3042096                08:36              15            14987903   \n",
       "3158588                23:36              15            15978926   \n",
       "2435652                21:21              15            13270517   \n",
       "1135858                22:00              15            15456770   \n",
       "2277902                09:46              15            14132453   \n",
       "\n",
       "         SCM_SALES_BMF  SCM_D_FINANCE_CM1  SCM_D_FINANCE_CM2  \\\n",
       "2980842           3.99             1.1373             0.5116   \n",
       "2124066           4.99             1.9740             1.5107   \n",
       "122168           -5.82            -4.7317            -4.7317   \n",
       "2526755          46.99             0.4582            -4.5418   \n",
       "901713           17.99             5.5678            -2.2502   \n",
       "3042096          32.99            13.5509             6.7678   \n",
       "3158588           8.99             3.6127             2.4765   \n",
       "2435652           6.59             1.5209             0.0076   \n",
       "1135858          10.99             5.6309             4.4469   \n",
       "2277902          42.99             7.7118            -0.6580   \n",
       "\n",
       "         SCM_D_ORIG_FINANCE_ORDER_NET           ...                  D56  \\\n",
       "2980842                        3.6273           ...           2017-07-12   \n",
       "2124066                        4.1240           ...           2015-10-22   \n",
       "122168                        -4.7317           ...           2016-04-19   \n",
       "2526755                       42.7182           ...           2016-06-16   \n",
       "901713                        14.8678           ...           2016-06-13   \n",
       "3042096                       29.9909           ...           2016-10-26   \n",
       "3158588                        8.1727           ...           2017-03-13   \n",
       "2435652                        5.9909           ...           2016-03-10   \n",
       "1135858                        9.9909           ...           2017-01-01   \n",
       "2277902                       39.0818           ...           2016-06-29   \n",
       "\n",
       "               D84       D252       D336  AP_ID  L3_PG_ID  L4_PG_ID  \\\n",
       "2980842 2017-08-09 2018-01-24 2018-04-18  63188      2068      2127   \n",
       "2124066 2015-11-19 2016-05-05 2016-07-28  27908        20     96500   \n",
       "122168  2016-05-17 2016-11-01 2017-01-24      0         0         0   \n",
       "2526755 2016-07-14 2016-12-29 2017-03-23  69085    207553    207615   \n",
       "901713  2016-07-11 2016-12-26 2017-03-20  34321       301     39682   \n",
       "3042096 2016-11-23 2017-05-10 2017-08-02  63208       252      2056   \n",
       "3158588 2017-04-10 2017-09-25 2017-12-18  50861        18       101   \n",
       "2435652 2016-04-07 2016-09-22 2016-12-15  37549        18       104   \n",
       "1135858 2017-01-29 2017-07-16 2017-10-08  74933      2068      9498   \n",
       "2277902 2016-07-27 2017-01-11 2017-04-05  61093       251       682   \n",
       "\n",
       "         PPR_N_LEVEL4_ID             PPR_V_LEVEL4_DESC                   BRAND  \n",
       "2980842             2127            2127 - Almo Nature             Almo Nature  \n",
       "2124066            96500      96500 - Kuschelspielzeug        Kuschelspielzeug  \n",
       "122168                 0                           NaN                     NaN  \n",
       "2526755           207615             207615 - Halsband                Halsband  \n",
       "901713             39682               39682 - Sanicat                 Sanicat  \n",
       "3042096             2056              2056 - Sanabelle               Sanabelle  \n",
       "3158588              101  101 - Kauknochen & Kaurollen  Kauknochen & Kaurollen  \n",
       "2435652              104                104 - vom Rind                vom Rind  \n",
       "1135858             9498                  9498 - Sheba                   Sheba  \n",
       "2277902              682        682 - Royal Canin Size        Royal Canin Size  \n",
       "\n",
       "[10 rows x 41 columns]"
      ]
     },
     "execution_count": 40,
     "metadata": {},
     "output_type": "execute_result"
    }
   ],
   "source": [
    "data.sample(10)"
   ]
  },
  {
   "cell_type": "code",
   "execution_count": 41,
   "metadata": {
    "ExecuteTime": {
     "end_time": "2018-11-29T13:31:00.083369Z",
     "start_time": "2018-11-29T13:30:59.897374Z"
    },
    "hidden": true
   },
   "outputs": [
    {
     "data": {
      "text/plain": [
       "SCM_N_ORDER_POS_NR                              432883869\n",
       "SCM_N_ORDER_NR                                  101465763\n",
       "TDT_T_KEY_ORDER_DATE                  2017-12-29 00:00:00\n",
       "THR_C_KEY_ORDER_HOUR                                21:51\n",
       "SIT_N_KEY_SITE                                         15\n",
       "CUS_N_KEY_CUSTOMER                               16405844\n",
       "SCM_SALES_BMF                                      5.4282\n",
       "SCM_D_FINANCE_CM1                                  1.5764\n",
       "SCM_D_FINANCE_CM2                                  0.3982\n",
       "SCM_D_ORIG_FINANCE_ORDER_NET                       4.9348\n",
       "SCM_AP_ID                                           68397\n",
       "SCM_AS_ID                                         2301001\n",
       "SCM_MASTER_AP_ID                                    68325\n",
       "OSP_KO_COUNT_NET                                        1\n",
       "OSP_3_LEAD_P_PG_ID                                    251\n",
       "OSP_3_LEAD_P_PG_SHARE                               0.778\n",
       "OSP_4_LEAD_P_PG_ID                                  35825\n",
       "OSP_4_LEAD_P_PG_SHARE                               0.778\n",
       "CZP_START_DATE                                        NaT\n",
       "CZP_EXPIRY_DATE                                       NaT\n",
       "CZP_ZTQ_ID                                            NaN\n",
       "CZP_PERCENTAGE                                        NaN\n",
       "CZP_PRICE                                             NaN\n",
       "ORDER_DATETIME                        2017-12-29 21:51:00\n",
       "FIRST_O_DATE                          2017-12-29 00:00:00\n",
       "LAST_O_DATE                           2017-12-29 00:00:00\n",
       "1ST_O_COUNTER                                           1\n",
       "MAX_SALES_O_POS                                   50.5618\n",
       "IS_LEAD_AS                                              0\n",
       "LEAD_AS_ID                                        2301001\n",
       "D28                                   2018-01-26 00:00:00\n",
       "D56                                   2018-02-23 00:00:00\n",
       "D84                                   2018-03-23 00:00:00\n",
       "D252                                  2018-09-07 00:00:00\n",
       "D336                                  2018-11-30 00:00:00\n",
       "AP_ID                                               68397\n",
       "L3_PG_ID                                              251\n",
       "L4_PG_ID                                            35825\n",
       "PPR_N_LEVEL4_ID                                     35825\n",
       "PPR_V_LEVEL4_DESC               35825 - Taste of the Wild\n",
       "BRAND                                   Taste of the Wild\n",
       "Name: 2359877, dtype: object"
      ]
     },
     "execution_count": 41,
     "metadata": {},
     "output_type": "execute_result"
    }
   ],
   "source": [
    "data.loc[2359877]"
   ]
  },
  {
   "cell_type": "code",
   "execution_count": 42,
   "metadata": {
    "ExecuteTime": {
     "end_time": "2018-11-29T13:32:11.499587Z",
     "start_time": "2018-11-29T13:32:11.498587Z"
    },
    "hidden": true
   },
   "outputs": [
    {
     "data": {
      "text/plain": [
       "Index(['SCM_N_ORDER_POS_NR', 'SCM_N_ORDER_NR', 'TDT_T_KEY_ORDER_DATE',\n",
       "       'THR_C_KEY_ORDER_HOUR', 'SIT_N_KEY_SITE', 'CUS_N_KEY_CUSTOMER',\n",
       "       'SCM_SALES_BMF', 'SCM_D_FINANCE_CM1', 'SCM_D_FINANCE_CM2',\n",
       "       'SCM_D_ORIG_FINANCE_ORDER_NET', 'SCM_AP_ID', 'SCM_AS_ID',\n",
       "       'SCM_MASTER_AP_ID', 'OSP_KO_COUNT_NET', 'OSP_3_LEAD_P_PG_ID',\n",
       "       'OSP_3_LEAD_P_PG_SHARE', 'OSP_4_LEAD_P_PG_ID', 'OSP_4_LEAD_P_PG_SHARE',\n",
       "       'CZP_START_DATE', 'CZP_EXPIRY_DATE', 'CZP_ZTQ_ID', 'CZP_PERCENTAGE',\n",
       "       'CZP_PRICE', 'ORDER_DATETIME', 'FIRST_O_DATE', 'LAST_O_DATE',\n",
       "       '1ST_O_COUNTER', 'MAX_SALES_O_POS', 'IS_LEAD_AS', 'LEAD_AS_ID', 'D28',\n",
       "       'D56', 'D84', 'D252', 'D336', 'AP_ID', 'L3_PG_ID', 'L4_PG_ID',\n",
       "       'PPR_N_LEVEL4_ID', 'PPR_V_LEVEL4_DESC', 'BRAND'],\n",
       "      dtype='object')"
      ]
     },
     "execution_count": 42,
     "metadata": {},
     "output_type": "execute_result"
    }
   ],
   "source": [
    "data.columns"
   ]
  },
  {
   "cell_type": "code",
   "execution_count": 43,
   "metadata": {
    "ExecuteTime": {
     "end_time": "2018-11-29T13:32:29.947392Z",
     "start_time": "2018-11-29T13:32:19.147486Z"
    },
    "hidden": true
   },
   "outputs": [],
   "source": [
    "#data.to_pickle(\"./orders_es_shop_sp_cross_selling_v2.pkl\")"
   ]
  },
  {
   "cell_type": "markdown",
   "metadata": {
    "heading_collapsed": true
   },
   "source": [
    "### Order level"
   ]
  },
  {
   "cell_type": "code",
   "execution_count": 2,
   "metadata": {
    "ExecuteTime": {
     "end_time": "2018-11-16T16:12:21.399781Z",
     "start_time": "2018-11-16T16:12:14.636781Z"
    },
    "hidden": true
   },
   "outputs": [],
   "source": [
    "#data = pd.read_pickle(\"./orders_es_shop_sp_cross_selling_v2.pkl\")"
   ]
  },
  {
   "cell_type": "code",
   "execution_count": 44,
   "metadata": {
    "ExecuteTime": {
     "end_time": "2018-11-29T13:32:32.945364Z",
     "start_time": "2018-11-29T13:32:32.927364Z"
    },
    "hidden": true
   },
   "outputs": [],
   "source": [
    "agg_ops = {'TDT_T_KEY_ORDER_DATE': min,\n",
    "          'CUS_N_KEY_CUSTOMER': min,\n",
    "          'SCM_SALES_BMF': [sum, lambda x: list(np.round(x, 2))],\n",
    "          'SCM_D_FINANCE_CM1': sum,\n",
    "          'SCM_D_FINANCE_CM2': sum,\n",
    "          'SCM_D_ORIG_FINANCE_ORDER_NET': sum,\n",
    "          'OSP_KO_COUNT_NET': min,\n",
    "          'SCM_AP_ID': lambda x: list(x),\n",
    "          'L4_PG_ID': lambda x: list(x),\n",
    "          'BRAND': lambda x: list(x),\n",
    "          'PPR_V_LEVEL4_DESC': lambda x: list(x),\n",
    "          'L3_PG_ID': lambda x: list(x),\n",
    "          'SCM_AS_ID': lambda x: list(x),\n",
    "          'LEAD_AS_ID': max,\n",
    "          'SCM_MASTER_AP_ID': lambda x: list(x),\n",
    "          'CZP_ZTQ_ID': min, \n",
    "          'CZP_START_DATE': min,\n",
    "          'CZP_EXPIRY_DATE': min,\n",
    "          'ORDER_DATETIME': min,\n",
    "          'FIRST_O_DATE': min,\n",
    "          'LAST_O_DATE': min,\n",
    "          '1ST_O_COUNTER': min,\n",
    "          'D28': min,\n",
    "          'D56': min,\n",
    "          'D84': min,\n",
    "          'D252': min,\n",
    "          'D252': min,\n",
    "          'D336': min\n",
    "          }"
   ]
  },
  {
   "cell_type": "code",
   "execution_count": 45,
   "metadata": {
    "ExecuteTime": {
     "end_time": "2018-11-29T13:39:56.888750Z",
     "start_time": "2018-11-29T13:32:35.144327Z"
    },
    "hidden": true
   },
   "outputs": [],
   "source": [
    "orders = data.groupby('SCM_N_ORDER_NR', as_index=False).agg(agg_ops)"
   ]
  },
  {
   "cell_type": "code",
   "execution_count": 46,
   "metadata": {
    "ExecuteTime": {
     "end_time": "2018-11-29T13:39:59.114699Z",
     "start_time": "2018-11-29T13:39:59.113699Z"
    },
    "hidden": true
   },
   "outputs": [],
   "source": [
    "orders.columns = ['_'.join(tup).rstrip('_') for tup in orders.columns.values]"
   ]
  },
  {
   "cell_type": "code",
   "execution_count": 49,
   "metadata": {
    "ExecuteTime": {
     "end_time": "2018-11-29T13:41:53.867913Z",
     "start_time": "2018-11-29T13:41:53.863913Z"
    },
    "hidden": true
   },
   "outputs": [],
   "source": [
    "orders.columns = ['SCM_N_ORDER_NR', 'TDT_T_KEY_ORDER_DATE_min', 'CUS_N_KEY_CUSTOMER_min',\n",
    "       'SCM_SALES_BMF_sum', 'SCM_SALES_BMF_list', 'SCM_D_FINANCE_CM1_sum',\n",
    "       'SCM_D_FINANCE_CM2_sum', 'SCM_D_ORIG_FINANCE_ORDER_NET_sum',\n",
    "       'OSP_KO_COUNT_NET_min', 'SCM_AP_ID_list', 'L4_PG_ID_list',\n",
    "       'BRAND_list', 'PPR_V_LEVEL4_DESC_list', 'L3_PG_ID_list',\n",
    "       'SCM_AS_ID_list', 'LEAD_AS_ID_max', 'SCM_MASTER_AP_ID_list',\n",
    "       'CZP_ZTQ_ID_min', 'CZP_START_DATE_min', 'CZP_EXPIRY_DATE_min',\n",
    "       'ORDER_DATETIME_min', 'FIRST_O_DATE_min', 'LAST_O_DATE_min',\n",
    "       '1ST_O_COUNTER_min', 'D28_min', 'D56_min', 'D84_min', 'D252_min',\n",
    "       'D336_min']"
   ]
  },
  {
   "cell_type": "code",
   "execution_count": 50,
   "metadata": {
    "ExecuteTime": {
     "end_time": "2018-11-29T13:41:57.135854Z",
     "start_time": "2018-11-29T13:41:56.939854Z"
    },
    "hidden": true
   },
   "outputs": [],
   "source": [
    "orders['SP_PURCHASE'] = [42225 in i for i in orders['SCM_MASTER_AP_ID_list'].values]"
   ]
  },
  {
   "cell_type": "code",
   "execution_count": 51,
   "metadata": {
    "ExecuteTime": {
     "end_time": "2018-11-29T13:41:59.306812Z",
     "start_time": "2018-11-29T13:41:59.283812Z"
    },
    "hidden": true
   },
   "outputs": [
    {
     "data": {
      "text/plain": [
       "False    974656\n",
       "True      40493\n",
       "Name: SP_PURCHASE, dtype: int64"
      ]
     },
     "execution_count": 51,
     "metadata": {},
     "output_type": "execute_result"
    }
   ],
   "source": [
    "orders['SP_PURCHASE'].value_counts()"
   ]
  },
  {
   "cell_type": "code",
   "execution_count": 52,
   "metadata": {
    "ExecuteTime": {
     "end_time": "2018-11-29T13:42:01.667773Z",
     "start_time": "2018-11-29T13:42:01.464775Z"
    },
    "hidden": true
   },
   "outputs": [],
   "source": [
    "orders['SP_DISC'] = [42715 in i for i in orders['SCM_MASTER_AP_ID_list'].values]"
   ]
  },
  {
   "cell_type": "code",
   "execution_count": 53,
   "metadata": {
    "ExecuteTime": {
     "end_time": "2018-11-29T13:42:03.787736Z",
     "start_time": "2018-11-29T13:42:03.767736Z"
    },
    "hidden": true
   },
   "outputs": [
    {
     "data": {
      "text/plain": [
       "False    783394\n",
       "True     231755\n",
       "Name: SP_DISC, dtype: int64"
      ]
     },
     "execution_count": 53,
     "metadata": {},
     "output_type": "execute_result"
    }
   ],
   "source": [
    "orders['SP_DISC'].value_counts()"
   ]
  },
  {
   "cell_type": "markdown",
   "metadata": {
    "hidden": true
   },
   "source": [
    "We need to calculate, for each order, sales per PG3/PG4/BRAND... "
   ]
  },
  {
   "cell_type": "code",
   "execution_count": 54,
   "metadata": {
    "ExecuteTime": {
     "end_time": "2018-11-29T13:42:08.496665Z",
     "start_time": "2018-11-29T13:42:05.976703Z"
    },
    "hidden": true
   },
   "outputs": [],
   "source": [
    "orders['PG3_SALES'] = [[(a, b) for a, b in list(zip(i, j))] for i, j in list(zip(orders['L3_PG_ID_list'], \n",
    "                                                                                 orders['SCM_SALES_BMF_list']))]"
   ]
  },
  {
   "cell_type": "code",
   "execution_count": 55,
   "metadata": {
    "ExecuteTime": {
     "end_time": "2018-11-29T13:42:13.767637Z",
     "start_time": "2018-11-29T13:42:10.865655Z"
    },
    "hidden": true
   },
   "outputs": [],
   "source": [
    "orders['PG4_SALES'] = [[(a, b) for a, b in list(zip(i, j))] for i, j in list(zip(orders['L4_PG_ID_list'], \n",
    "                                                                                 orders['SCM_SALES_BMF_list']))]"
   ]
  },
  {
   "cell_type": "code",
   "execution_count": 56,
   "metadata": {
    "ExecuteTime": {
     "end_time": "2018-11-29T13:42:18.178608Z",
     "start_time": "2018-11-29T13:42:16.319611Z"
    },
    "hidden": true
   },
   "outputs": [],
   "source": [
    "orders['BRAND_SALES'] = [[(a, b) for a, b in list(zip(i, j))] for i, j in list(zip(orders['BRAND_list'], \n",
    "                                                                                   orders['SCM_SALES_BMF_list']))]"
   ]
  },
  {
   "cell_type": "code",
   "execution_count": 57,
   "metadata": {
    "ExecuteTime": {
     "end_time": "2018-11-29T13:42:49.675884Z",
     "start_time": "2018-11-29T13:42:21.000572Z"
    },
    "hidden": true
   },
   "outputs": [],
   "source": [
    "orders['PG3_AGGSALES'] = [sorted([(pg3, np.round(sum([sales_ for pg_3_, sales_ in i if pg3==pg_3_\n",
    "                                                        ]), 3)) \n",
    "                        for pg3 in set([pg_3 for pg_3, sales in i])], key= lambda x: x[1], reverse=True) \n",
    "                        for i in orders['PG3_SALES']]"
   ]
  },
  {
   "cell_type": "code",
   "execution_count": 58,
   "metadata": {
    "ExecuteTime": {
     "end_time": "2018-11-29T13:43:25.369576Z",
     "start_time": "2018-11-29T13:42:52.784865Z"
    },
    "hidden": true
   },
   "outputs": [],
   "source": [
    "orders['PG4_AGGSALES'] = [sorted([(pg4, np.round(sum([sales_ for pg_4_, sales_ in i if pg4==pg_4_\n",
    "                                                        ]), 3)) \n",
    "                        for pg4 in set([pg_4 for pg_4, sales in i])], key= lambda x: x[1], reverse=True) \n",
    "                        for i in orders['PG4_SALES']]"
   ]
  },
  {
   "cell_type": "code",
   "execution_count": 59,
   "metadata": {
    "ExecuteTime": {
     "end_time": "2018-11-29T13:44:15.431740Z",
     "start_time": "2018-11-29T13:43:39.762396Z"
    },
    "hidden": true
   },
   "outputs": [],
   "source": [
    "orders['BRAND_AGGSALES'] = [sorted([(brand_, np.round(sum([sales_ for brand__, sales_ in i if brand_== brand__\n",
    "                                                        ]), 3)) \n",
    "                        for brand_ in set([brand for brand, sales in i])], key= lambda x: x[1], reverse=True) \n",
    "                        for i in orders['BRAND_SALES']]"
   ]
  },
  {
   "cell_type": "code",
   "execution_count": 60,
   "metadata": {
    "ExecuteTime": {
     "end_time": "2018-11-29T13:44:22.729676Z",
     "start_time": "2018-11-29T13:44:21.280694Z"
    },
    "hidden": true
   },
   "outputs": [
    {
     "data": {
      "text/html": [
       "<div>\n",
       "<style scoped>\n",
       "    .dataframe tbody tr th:only-of-type {\n",
       "        vertical-align: middle;\n",
       "    }\n",
       "\n",
       "    .dataframe tbody tr th {\n",
       "        vertical-align: top;\n",
       "    }\n",
       "\n",
       "    .dataframe thead th {\n",
       "        text-align: right;\n",
       "    }\n",
       "</style>\n",
       "<table border=\"1\" class=\"dataframe\">\n",
       "  <thead>\n",
       "    <tr style=\"text-align: right;\">\n",
       "      <th></th>\n",
       "      <th>SCM_SALES_BMF_list</th>\n",
       "      <th>SCM_AP_ID_list</th>\n",
       "      <th>SP_DISC</th>\n",
       "      <th>L3_PG_ID_list</th>\n",
       "      <th>PG3_SALES</th>\n",
       "      <th>PG3_AGGSALES</th>\n",
       "      <th>L4_PG_ID_list</th>\n",
       "      <th>PG4_SALES</th>\n",
       "      <th>PG4_AGGSALES</th>\n",
       "      <th>BRAND_list</th>\n",
       "      <th>BRAND_SALES</th>\n",
       "      <th>BRAND_AGGSALES</th>\n",
       "    </tr>\n",
       "  </thead>\n",
       "  <tbody>\n",
       "    <tr>\n",
       "      <th>750387</th>\n",
       "      <td>[3.49, -1.11, 3.99, 11.99, 4.99, 14.99, -2.4]</td>\n",
       "      <td>[55455, 0, 66957, 64528, 71264, 76302, 0]</td>\n",
       "      <td>True</td>\n",
       "      <td>[29, 0, 409, 15, 36, 33, 0]</td>\n",
       "      <td>[(29, 3.49), (0, -1.11), (409, 3.99), (15, 11....</td>\n",
       "      <td>[(33, 14.99), (15, 11.99), (36, 4.99), (409, 3...</td>\n",
       "      <td>[239, 0, 1433, 171638, 1551, 2180, 0]</td>\n",
       "      <td>[(239, 3.49), (0, -1.11), (1433, 3.99), (17163...</td>\n",
       "      <td>[(2180, 14.99), (171638, 11.99), (1551, 4.99),...</td>\n",
       "      <td>[Schaufeln &amp; Vorleger, nan, Hundetuch, flexi V...</td>\n",
       "      <td>[(Schaufeln &amp; Vorleger, 3.49), (nan, -1.11), (...</td>\n",
       "      <td>[(Tränke/ Brunnen, 14.99), (flexi Vario System...</td>\n",
       "    </tr>\n",
       "    <tr>\n",
       "      <th>195788</th>\n",
       "      <td>[35.99, 3.99, 1.99]</td>\n",
       "      <td>[61127, 53416, 35582]</td>\n",
       "      <td>False</td>\n",
       "      <td>[251, 18, 51]</td>\n",
       "      <td>[(251, 35.99), (18, 3.99), (51, 1.99)]</td>\n",
       "      <td>[(251, 35.99), (18, 3.99), (51, 1.99)]</td>\n",
       "      <td>[17798, 250154, 163]</td>\n",
       "      <td>[(17798, 35.99), (250154, 3.99), (163, 1.99)]</td>\n",
       "      <td>[(17798, 35.99), (250154, 3.99), (163, 1.99)]</td>\n",
       "      <td>[Royal Canin Breed (Rasse), Softe &amp; halbfeucht...</td>\n",
       "      <td>[(Royal Canin Breed (Rasse), 35.99), (Softe &amp; ...</td>\n",
       "      <td>[(Royal Canin Breed (Rasse), 35.99), (Softe &amp; ...</td>\n",
       "    </tr>\n",
       "    <tr>\n",
       "      <th>855853</th>\n",
       "      <td>[-2.85, 56.99]</td>\n",
       "      <td>[0, 68187]</td>\n",
       "      <td>True</td>\n",
       "      <td>[0, 251]</td>\n",
       "      <td>[(0, -2.85), (251, 56.99)]</td>\n",
       "      <td>[(251, 56.99), (0, -2.85)]</td>\n",
       "      <td>[0, 224376]</td>\n",
       "      <td>[(0, -2.85), (224376, 56.99)]</td>\n",
       "      <td>[(224376, 56.99), (0, -2.85)]</td>\n",
       "      <td>[nan, Green Petfood]</td>\n",
       "      <td>[(nan, -2.85), (Green Petfood, 56.99)]</td>\n",
       "      <td>[(Green Petfood, 56.99), (nan, 0)]</td>\n",
       "    </tr>\n",
       "    <tr>\n",
       "      <th>137150</th>\n",
       "      <td>[49.99, 8.99, 9.99]</td>\n",
       "      <td>[55576, 55077, 55079]</td>\n",
       "      <td>False</td>\n",
       "      <td>[251, 20, 20]</td>\n",
       "      <td>[(251, 49.99), (20, 8.99), (20, 9.99)]</td>\n",
       "      <td>[(251, 49.99), (20, 18.98)]</td>\n",
       "      <td>[719, 465, 465]</td>\n",
       "      <td>[(719, 49.99), (465, 8.99), (465, 9.99)]</td>\n",
       "      <td>[(719, 49.99), (465, 18.98)]</td>\n",
       "      <td>[Hill's Science Plan, KONG, KONG]</td>\n",
       "      <td>[(Hill's Science Plan, 49.99), (KONG, 8.99), (...</td>\n",
       "      <td>[(Hill's Science Plan, 49.99), (KONG, 18.98)]</td>\n",
       "    </tr>\n",
       "    <tr>\n",
       "      <th>750818</th>\n",
       "      <td>[7.99, 1.79, 9.99, 3.99, 3.99]</td>\n",
       "      <td>[63080, 36979, 56958, 74246, 0]</td>\n",
       "      <td>False</td>\n",
       "      <td>[18, 18, 18, 20, 0]</td>\n",
       "      <td>[(18, 7.99), (18, 1.79), (18, 9.99), (20, 3.99...</td>\n",
       "      <td>[(18, 19.77), (0, 3.99), (20, 3.99)]</td>\n",
       "      <td>[2595, 2193, 394, 465, 0]</td>\n",
       "      <td>[(2595, 7.99), (2193, 1.79), (394, 9.99), (465...</td>\n",
       "      <td>[(394, 9.99), (2595, 7.99), (0, 3.99), (465, 3...</td>\n",
       "      <td>[vom Wild, Kleine Leckerli &amp; Trainingssnacks, ...</td>\n",
       "      <td>[(vom Wild, 7.99), (Kleine Leckerli &amp; Training...</td>\n",
       "      <td>[(Zahnpflege Snacks, 9.99), (vom Wild, 7.99), ...</td>\n",
       "    </tr>\n",
       "    <tr>\n",
       "      <th>177010</th>\n",
       "      <td>[0.0, 0.0]</td>\n",
       "      <td>[0, 65190]</td>\n",
       "      <td>False</td>\n",
       "      <td>[0, 251]</td>\n",
       "      <td>[(0, 0.0), (251, 0.0)]</td>\n",
       "      <td>[(0, 0.0), (251, 0.0)]</td>\n",
       "      <td>[0, 180361]</td>\n",
       "      <td>[(0, 0.0), (180361, 0.0)]</td>\n",
       "      <td>[(0, 0.0), (180361, 0.0)]</td>\n",
       "      <td>[nan, ★ Wolf of Wilderness]</td>\n",
       "      <td>[(nan, 0.0), (★ Wolf of Wilderness, 0.0)]</td>\n",
       "      <td>[(nan, 0), (★ Wolf of Wilderness, 0.0)]</td>\n",
       "    </tr>\n",
       "    <tr>\n",
       "      <th>516834</th>\n",
       "      <td>[13.99, 2.99, 8.99, 7.99, 5.99, 2.99]</td>\n",
       "      <td>[61287, 52463, 62497, 32626, 69509, 4975]</td>\n",
       "      <td>False</td>\n",
       "      <td>[252, 1603, 34, 34, 36, 409]</td>\n",
       "      <td>[(252, 13.99), (1603, 2.99), (34, 8.99), (34, ...</td>\n",
       "      <td>[(34, 16.98), (252, 13.99), (36, 5.99), (1603,...</td>\n",
       "      <td>[683, 1606, 1559, 72002, 17752, 954]</td>\n",
       "      <td>[(683, 13.99), (1606, 2.99), (1559, 8.99), (72...</td>\n",
       "      <td>[(683, 13.99), (1559, 8.99), (72002, 7.99), (1...</td>\n",
       "      <td>[Royal Canin, Kletterseile &amp; -gerüste, Pasten ...</td>\n",
       "      <td>[(Royal Canin, 13.99), (Kletterseile &amp; -gerüst...</td>\n",
       "      <td>[(Royal Canin, 13.99), (Pasten &amp; Cremes, 8.99)...</td>\n",
       "    </tr>\n",
       "    <tr>\n",
       "      <th>781530</th>\n",
       "      <td>[15.98, 3.99, 6.99, 15.98]</td>\n",
       "      <td>[67941, 0, 60987, 66049]</td>\n",
       "      <td>False</td>\n",
       "      <td>[2068, 0, 34, 2068]</td>\n",
       "      <td>[(2068, 15.98), (0, 3.99), (34, 6.99), (2068, ...</td>\n",
       "      <td>[(2068, 31.96), (34, 6.99), (0, 3.99)]</td>\n",
       "      <td>[18153, 0, 1559, 18153]</td>\n",
       "      <td>[(18153, 15.98), (0, 3.99), (1559, 6.99), (181...</td>\n",
       "      <td>[(18153, 31.96), (1559, 6.99), (0, 3.99)]</td>\n",
       "      <td>[Kattovit Spezialdiät, nan, Pasten &amp; Cremes, K...</td>\n",
       "      <td>[(Kattovit Spezialdiät, 15.98), (nan, 3.99), (...</td>\n",
       "      <td>[(Kattovit Spezialdiät, 31.96), (Pasten &amp; Crem...</td>\n",
       "    </tr>\n",
       "    <tr>\n",
       "      <th>894296</th>\n",
       "      <td>[96.99, 2.49, 25.99]</td>\n",
       "      <td>[67013, 61831, 68467]</td>\n",
       "      <td>False</td>\n",
       "      <td>[251, 18, 207553]</td>\n",
       "      <td>[(251, 96.99), (18, 2.49), (207553, 25.99)]</td>\n",
       "      <td>[(251, 96.99), (207553, 25.99), (18, 2.49)]</td>\n",
       "      <td>[128993, 394, 207617]</td>\n",
       "      <td>[(128993, 96.99), (394, 2.49), (207617, 25.99)]</td>\n",
       "      <td>[(128993, 96.99), (207617, 25.99), (394, 2.49)]</td>\n",
       "      <td>[Advance Veterinary Diets, Zahnpflege Snacks, ...</td>\n",
       "      <td>[(Advance Veterinary Diets, 96.99), (Zahnpfleg...</td>\n",
       "      <td>[(Advance Veterinary Diets, 96.99), (Spot-On, ...</td>\n",
       "    </tr>\n",
       "    <tr>\n",
       "      <th>961769</th>\n",
       "      <td>[19.99, 31.99, -3.9, 25.99]</td>\n",
       "      <td>[61053, 61054, 0, 50098]</td>\n",
       "      <td>False</td>\n",
       "      <td>[251, 251, 0, 251]</td>\n",
       "      <td>[(251, 19.99), (251, 31.99), (0, -3.9), (251, ...</td>\n",
       "      <td>[(251, 77.97), (0, -3.9)]</td>\n",
       "      <td>[682, 682, 0, 71709]</td>\n",
       "      <td>[(682, 19.99), (682, 31.99), (0, -3.9), (71709...</td>\n",
       "      <td>[(682, 51.98), (71709, 25.99), (0, -3.9)]</td>\n",
       "      <td>[Royal Canin Size, Royal Canin Size, nan, Affi...</td>\n",
       "      <td>[(Royal Canin Size, 19.99), (Royal Canin Size,...</td>\n",
       "      <td>[(Royal Canin Size, 51.98), (Affinity Advance,...</td>\n",
       "    </tr>\n",
       "  </tbody>\n",
       "</table>\n",
       "</div>"
      ],
      "text/plain": [
       "                                   SCM_SALES_BMF_list  \\\n",
       "750387  [3.49, -1.11, 3.99, 11.99, 4.99, 14.99, -2.4]   \n",
       "195788                            [35.99, 3.99, 1.99]   \n",
       "855853                                 [-2.85, 56.99]   \n",
       "137150                            [49.99, 8.99, 9.99]   \n",
       "750818                 [7.99, 1.79, 9.99, 3.99, 3.99]   \n",
       "177010                                     [0.0, 0.0]   \n",
       "516834          [13.99, 2.99, 8.99, 7.99, 5.99, 2.99]   \n",
       "781530                     [15.98, 3.99, 6.99, 15.98]   \n",
       "894296                           [96.99, 2.49, 25.99]   \n",
       "961769                    [19.99, 31.99, -3.9, 25.99]   \n",
       "\n",
       "                                   SCM_AP_ID_list  SP_DISC  \\\n",
       "750387  [55455, 0, 66957, 64528, 71264, 76302, 0]     True   \n",
       "195788                      [61127, 53416, 35582]    False   \n",
       "855853                                 [0, 68187]     True   \n",
       "137150                      [55576, 55077, 55079]    False   \n",
       "750818            [63080, 36979, 56958, 74246, 0]    False   \n",
       "177010                                 [0, 65190]    False   \n",
       "516834  [61287, 52463, 62497, 32626, 69509, 4975]    False   \n",
       "781530                   [67941, 0, 60987, 66049]    False   \n",
       "894296                      [67013, 61831, 68467]    False   \n",
       "961769                   [61053, 61054, 0, 50098]    False   \n",
       "\n",
       "                       L3_PG_ID_list  \\\n",
       "750387   [29, 0, 409, 15, 36, 33, 0]   \n",
       "195788                 [251, 18, 51]   \n",
       "855853                      [0, 251]   \n",
       "137150                 [251, 20, 20]   \n",
       "750818           [18, 18, 18, 20, 0]   \n",
       "177010                      [0, 251]   \n",
       "516834  [252, 1603, 34, 34, 36, 409]   \n",
       "781530           [2068, 0, 34, 2068]   \n",
       "894296             [251, 18, 207553]   \n",
       "961769            [251, 251, 0, 251]   \n",
       "\n",
       "                                                PG3_SALES  \\\n",
       "750387  [(29, 3.49), (0, -1.11), (409, 3.99), (15, 11....   \n",
       "195788             [(251, 35.99), (18, 3.99), (51, 1.99)]   \n",
       "855853                         [(0, -2.85), (251, 56.99)]   \n",
       "137150             [(251, 49.99), (20, 8.99), (20, 9.99)]   \n",
       "750818  [(18, 7.99), (18, 1.79), (18, 9.99), (20, 3.99...   \n",
       "177010                             [(0, 0.0), (251, 0.0)]   \n",
       "516834  [(252, 13.99), (1603, 2.99), (34, 8.99), (34, ...   \n",
       "781530  [(2068, 15.98), (0, 3.99), (34, 6.99), (2068, ...   \n",
       "894296        [(251, 96.99), (18, 2.49), (207553, 25.99)]   \n",
       "961769  [(251, 19.99), (251, 31.99), (0, -3.9), (251, ...   \n",
       "\n",
       "                                             PG3_AGGSALES  \\\n",
       "750387  [(33, 14.99), (15, 11.99), (36, 4.99), (409, 3...   \n",
       "195788             [(251, 35.99), (18, 3.99), (51, 1.99)]   \n",
       "855853                         [(251, 56.99), (0, -2.85)]   \n",
       "137150                        [(251, 49.99), (20, 18.98)]   \n",
       "750818               [(18, 19.77), (0, 3.99), (20, 3.99)]   \n",
       "177010                             [(0, 0.0), (251, 0.0)]   \n",
       "516834  [(34, 16.98), (252, 13.99), (36, 5.99), (1603,...   \n",
       "781530             [(2068, 31.96), (34, 6.99), (0, 3.99)]   \n",
       "894296        [(251, 96.99), (207553, 25.99), (18, 2.49)]   \n",
       "961769                          [(251, 77.97), (0, -3.9)]   \n",
       "\n",
       "                                L4_PG_ID_list  \\\n",
       "750387  [239, 0, 1433, 171638, 1551, 2180, 0]   \n",
       "195788                   [17798, 250154, 163]   \n",
       "855853                            [0, 224376]   \n",
       "137150                        [719, 465, 465]   \n",
       "750818              [2595, 2193, 394, 465, 0]   \n",
       "177010                            [0, 180361]   \n",
       "516834   [683, 1606, 1559, 72002, 17752, 954]   \n",
       "781530                [18153, 0, 1559, 18153]   \n",
       "894296                  [128993, 394, 207617]   \n",
       "961769                   [682, 682, 0, 71709]   \n",
       "\n",
       "                                                PG4_SALES  \\\n",
       "750387  [(239, 3.49), (0, -1.11), (1433, 3.99), (17163...   \n",
       "195788      [(17798, 35.99), (250154, 3.99), (163, 1.99)]   \n",
       "855853                      [(0, -2.85), (224376, 56.99)]   \n",
       "137150           [(719, 49.99), (465, 8.99), (465, 9.99)]   \n",
       "750818  [(2595, 7.99), (2193, 1.79), (394, 9.99), (465...   \n",
       "177010                          [(0, 0.0), (180361, 0.0)]   \n",
       "516834  [(683, 13.99), (1606, 2.99), (1559, 8.99), (72...   \n",
       "781530  [(18153, 15.98), (0, 3.99), (1559, 6.99), (181...   \n",
       "894296    [(128993, 96.99), (394, 2.49), (207617, 25.99)]   \n",
       "961769  [(682, 19.99), (682, 31.99), (0, -3.9), (71709...   \n",
       "\n",
       "                                             PG4_AGGSALES  \\\n",
       "750387  [(2180, 14.99), (171638, 11.99), (1551, 4.99),...   \n",
       "195788      [(17798, 35.99), (250154, 3.99), (163, 1.99)]   \n",
       "855853                      [(224376, 56.99), (0, -2.85)]   \n",
       "137150                       [(719, 49.99), (465, 18.98)]   \n",
       "750818  [(394, 9.99), (2595, 7.99), (0, 3.99), (465, 3...   \n",
       "177010                          [(0, 0.0), (180361, 0.0)]   \n",
       "516834  [(683, 13.99), (1559, 8.99), (72002, 7.99), (1...   \n",
       "781530          [(18153, 31.96), (1559, 6.99), (0, 3.99)]   \n",
       "894296    [(128993, 96.99), (207617, 25.99), (394, 2.49)]   \n",
       "961769          [(682, 51.98), (71709, 25.99), (0, -3.9)]   \n",
       "\n",
       "                                               BRAND_list  \\\n",
       "750387  [Schaufeln & Vorleger, nan, Hundetuch, flexi V...   \n",
       "195788  [Royal Canin Breed (Rasse), Softe & halbfeucht...   \n",
       "855853                               [nan, Green Petfood]   \n",
       "137150                  [Hill's Science Plan, KONG, KONG]   \n",
       "750818  [vom Wild, Kleine Leckerli & Trainingssnacks, ...   \n",
       "177010                        [nan, ★ Wolf of Wilderness]   \n",
       "516834  [Royal Canin, Kletterseile & -gerüste, Pasten ...   \n",
       "781530  [Kattovit Spezialdiät, nan, Pasten & Cremes, K...   \n",
       "894296  [Advance Veterinary Diets, Zahnpflege Snacks, ...   \n",
       "961769  [Royal Canin Size, Royal Canin Size, nan, Affi...   \n",
       "\n",
       "                                              BRAND_SALES  \\\n",
       "750387  [(Schaufeln & Vorleger, 3.49), (nan, -1.11), (...   \n",
       "195788  [(Royal Canin Breed (Rasse), 35.99), (Softe & ...   \n",
       "855853             [(nan, -2.85), (Green Petfood, 56.99)]   \n",
       "137150  [(Hill's Science Plan, 49.99), (KONG, 8.99), (...   \n",
       "750818  [(vom Wild, 7.99), (Kleine Leckerli & Training...   \n",
       "177010          [(nan, 0.0), (★ Wolf of Wilderness, 0.0)]   \n",
       "516834  [(Royal Canin, 13.99), (Kletterseile & -gerüst...   \n",
       "781530  [(Kattovit Spezialdiät, 15.98), (nan, 3.99), (...   \n",
       "894296  [(Advance Veterinary Diets, 96.99), (Zahnpfleg...   \n",
       "961769  [(Royal Canin Size, 19.99), (Royal Canin Size,...   \n",
       "\n",
       "                                           BRAND_AGGSALES  \n",
       "750387  [(Tränke/ Brunnen, 14.99), (flexi Vario System...  \n",
       "195788  [(Royal Canin Breed (Rasse), 35.99), (Softe & ...  \n",
       "855853                 [(Green Petfood, 56.99), (nan, 0)]  \n",
       "137150      [(Hill's Science Plan, 49.99), (KONG, 18.98)]  \n",
       "750818  [(Zahnpflege Snacks, 9.99), (vom Wild, 7.99), ...  \n",
       "177010            [(nan, 0), (★ Wolf of Wilderness, 0.0)]  \n",
       "516834  [(Royal Canin, 13.99), (Pasten & Cremes, 8.99)...  \n",
       "781530  [(Kattovit Spezialdiät, 31.96), (Pasten & Crem...  \n",
       "894296  [(Advance Veterinary Diets, 96.99), (Spot-On, ...  \n",
       "961769  [(Royal Canin Size, 51.98), (Affinity Advance,...  "
      ]
     },
     "execution_count": 60,
     "metadata": {},
     "output_type": "execute_result"
    }
   ],
   "source": [
    "orders.sample(10)[['SCM_SALES_BMF_list', 'SCM_AP_ID_list', 'SP_DISC', 'L3_PG_ID_list', 'PG3_SALES', 'PG3_AGGSALES', \n",
    "                   'L4_PG_ID_list', 'PG4_SALES', 'PG4_AGGSALES', 'BRAND_list', 'BRAND_SALES', 'BRAND_AGGSALES']]"
   ]
  },
  {
   "cell_type": "code",
   "execution_count": 62,
   "metadata": {
    "ExecuteTime": {
     "end_time": "2018-11-29T13:45:59.722942Z",
     "start_time": "2018-11-29T13:44:30.400616Z"
    },
    "hidden": true
   },
   "outputs": [],
   "source": [
    "#orders.to_pickle(\"./one_year_aggregated_orders_es_shop_sp_cross_selling_v2.pkl\")"
   ]
  },
  {
   "cell_type": "markdown",
   "metadata": {
    "heading_collapsed": true
   },
   "source": [
    "### Customer level"
   ]
  },
  {
   "cell_type": "code",
   "execution_count": null,
   "metadata": {
    "hidden": true
   },
   "outputs": [],
   "source": [
    "#orders = pd.read_pickle(\"./one_year_aggregated_orders_es_shop_sp_cross_selling_v2.pkl\")"
   ]
  },
  {
   "cell_type": "code",
   "execution_count": 69,
   "metadata": {
    "ExecuteTime": {
     "end_time": "2018-11-29T13:52:01.743241Z",
     "start_time": "2018-11-29T13:52:01.740241Z"
    },
    "hidden": true
   },
   "outputs": [
    {
     "data": {
      "text/plain": [
       "Index(['SCM_N_ORDER_NR', 'TDT_T_KEY_ORDER_DATE', 'CUS_N_KEY_CUSTOMER',\n",
       "       'SCM_SALES_BMF_sum', 'SCM_SALES_BMF_list', 'SCM_D_FINANCE_CM1_sum',\n",
       "       'SCM_D_FINANCE_CM2_sum', 'SCM_D_ORIG_FINANCE_ORDER_NET_sum',\n",
       "       'OSP_KO_COUNT_NET', 'SCM_AP_ID_list', 'L4_PG_ID_list', 'BRAND_list',\n",
       "       'PPR_V_LEVEL4_DESC_list', 'L3_PG_ID_list', 'SCM_AS_ID_list',\n",
       "       'LEAD_AS_ID_max', 'SCM_MASTER_AP_ID_list', 'CZP_ZTQ_ID',\n",
       "       'CZP_START_DATE', 'CZP_EXPIRY_DATE', 'ORDER_DATETIME_min',\n",
       "       'FIRST_O_DATE_min', 'LAST_O_DATE_min', '1ST_O_COUNTER_min', 'D28',\n",
       "       'D56', 'D84', 'D252', 'D336', 'SP_PURCHASE', 'SP_DISC', 'PG3_SALES',\n",
       "       'PG4_SALES', 'BRAND_SALES', 'PG3_AGGSALES', 'PG4_AGGSALES',\n",
       "       'BRAND_AGGSALES'],\n",
       "      dtype='object')"
      ]
     },
     "execution_count": 69,
     "metadata": {},
     "output_type": "execute_result"
    }
   ],
   "source": [
    "orders.columns"
   ]
  },
  {
   "cell_type": "code",
   "execution_count": 70,
   "metadata": {
    "ExecuteTime": {
     "end_time": "2018-11-29T13:52:35.537812Z",
     "start_time": "2018-11-29T13:52:35.536812Z"
    },
    "hidden": true
   },
   "outputs": [],
   "source": [
    "orders.columns = ['SCM_N_ORDER_NR', 'TDT_T_KEY_ORDER_DATE', 'CUS_N_KEY_CUSTOMER',\n",
    "       'SCM_SALES_BMF_sum', 'SCM_SALES_BMF_list', 'SCM_D_FINANCE_CM1',\n",
    "       'SCM_D_FINANCE_CM2', 'SCM_D_ORIG_FINANCE_ORDER_NET',\n",
    "       'OSP_KO_COUNT_NET', 'SCM_AP_ID_list', 'L4_PG_ID_list', 'BRAND_list',\n",
    "       'PPR_V_LEVEL4_DESC_list', 'L3_PG_ID_list', 'SCM_AS_ID_list',\n",
    "       'LEAD_AS_ID_max', 'SCM_MASTER_AP_ID_list', 'CZP_ZTQ_ID',\n",
    "       'CZP_START_DATE', 'CZP_EXPIRY_DATE', 'ORDER_DATETIME_min',\n",
    "       'FIRST_O_DATE_min', 'LAST_O_DATE_min', '1ST_O_COUNTER_min', 'D28',\n",
    "       'D56', 'D84', 'D252', 'D336', 'SP_PURCHASE', 'SP_DISC',\n",
    "       'PG3_SALES', 'PG4_SALES', 'BRAND_SALES', 'PG3_AGGSALES', 'PG4_AGGSALES',\n",
    "       'BRAND_AGGSALES']"
   ]
  },
  {
   "cell_type": "code",
   "execution_count": 71,
   "metadata": {
    "ExecuteTime": {
     "end_time": "2018-11-29T13:52:38.867767Z",
     "start_time": "2018-11-29T13:52:38.865767Z"
    },
    "hidden": true
   },
   "outputs": [],
   "source": [
    "agg_ord_ops = {\n",
    "              'SCM_N_ORDER_NR': len,\n",
    "              'TDT_T_KEY_ORDER_DATE': lambda x: list(x.dt.date),\n",
    "              'SCM_SALES_BMF_sum': [sum, lambda x: list(np.round(x, 2))],\n",
    "              'SCM_D_FINANCE_CM1': [sum, lambda x: list(np.round(x, 2))],\n",
    "              'SCM_D_FINANCE_CM2': [sum, lambda x: list(np.round(x, 2))],\n",
    "              'SCM_D_ORIG_FINANCE_ORDER_NET': [sum, lambda x: list(np.round(x, 2))],\n",
    "              'OSP_KO_COUNT_NET': lambda x: list(x),\n",
    "              'SCM_MASTER_AP_ID_list': lambda x: list(x),\n",
    "              'CZP_ZTQ_ID': lambda x: list(set(list(x))),\n",
    "              'CZP_START_DATE': lambda x: list(set(list(x.dt.date))),\n",
    "              'CZP_EXPIRY_DATE': lambda x: list(set(list(x.dt.date))),\n",
    "              'PG3_AGGSALES': lambda x: list(x),\n",
    "              'PG4_AGGSALES': lambda x: list(x),\n",
    "              'BRAND_AGGSALES': lambda x: list(x),\n",
    "              'SP_PURCHASE': lambda x: list(x),\n",
    "              'SP_DISC': lambda x: list(x),\n",
    "              'D28': max,\n",
    "              'D56': max,\n",
    "              'D84': max,\n",
    "              'D252': max,\n",
    "              'D252': max,\n",
    "              'D336': max\n",
    "              }"
   ]
  },
  {
   "cell_type": "code",
   "execution_count": 72,
   "metadata": {
    "ExecuteTime": {
     "end_time": "2018-11-29T14:01:00.197688Z",
     "start_time": "2018-11-29T13:52:41.910726Z"
    },
    "hidden": true
   },
   "outputs": [],
   "source": [
    "customers = orders.groupby('CUS_N_KEY_CUSTOMER', as_index=False).agg(agg_ord_ops).round(2)"
   ]
  },
  {
   "cell_type": "code",
   "execution_count": 73,
   "metadata": {
    "ExecuteTime": {
     "end_time": "2018-11-29T14:01:12.969688Z",
     "start_time": "2018-11-29T14:01:12.960688Z"
    },
    "hidden": true
   },
   "outputs": [],
   "source": [
    "customers.columns = ['_'.join(tup).rstrip('_') for tup in customers.columns.values]"
   ]
  },
  {
   "cell_type": "code",
   "execution_count": 75,
   "metadata": {
    "ExecuteTime": {
     "end_time": "2018-11-29T14:01:31.801688Z",
     "start_time": "2018-11-29T14:01:31.706688Z"
    },
    "hidden": true
   },
   "outputs": [],
   "source": [
    "customers.columns = ['CUS_N_KEY_CUSTOMER', 'SCM_N_ORDER_NR_len',\n",
    "       'TDT_T_KEY_ORDER_DATE_list', 'SCM_SALES_BMF_sum',\n",
    "       'SCM_SALES_BMF_list', 'SCM_D_FINANCE_CM1_sum',\n",
    "       'SCM_D_FINANCE_CM1_list', 'SCM_D_FINANCE_CM2_sum',\n",
    "       'SCM_D_FINANCE_CM2_list', 'SCM_D_ORIG_FINANCE_ORDER_NET_sum',\n",
    "       'SCM_D_ORIG_FINANCE_ORDER_NET_list', 'OSP_KO_COUNT_NET_list',\n",
    "       'SCM_MASTER_AP_ID_list', 'CZP_ZTQ_ID',\n",
    "       'CZP_START_DATE', 'CZP_EXPIRY_DATE',\n",
    "       'PG3_AGGSALES', 'PG4_AGGSALES',\n",
    "       'BRAND_AGGSALES', 'SP_PURCHASE', 'SP_DISC', 'D28', 'D56', 'D84',\n",
    "       'D252', 'D336']"
   ]
  },
  {
   "cell_type": "code",
   "execution_count": 76,
   "metadata": {
    "ExecuteTime": {
     "end_time": "2018-11-29T14:01:36.016688Z",
     "start_time": "2018-11-29T14:01:35.540688Z"
    },
    "hidden": true
   },
   "outputs": [],
   "source": [
    "customers['O_TIMEDELTAS'] = [[(i - j).days for i, j in list(zip(o_list[1:], o_list[:-1]))] \n",
    "                             for o_list in customers['TDT_T_KEY_ORDER_DATE_list'].values]"
   ]
  },
  {
   "cell_type": "code",
   "execution_count": 77,
   "metadata": {
    "ExecuteTime": {
     "end_time": "2018-11-29T14:01:40.277688Z",
     "start_time": "2018-11-29T14:01:39.555688Z"
    },
    "hidden": true
   },
   "outputs": [],
   "source": [
    "customers['FLAT_PG3_SALES'] = [[k for j in i for k in j] for i in customers['PG3_AGGSALES'].values]"
   ]
  },
  {
   "cell_type": "code",
   "execution_count": 78,
   "metadata": {
    "ExecuteTime": {
     "end_time": "2018-11-29T14:01:44.562688Z",
     "start_time": "2018-11-29T14:01:43.811688Z"
    },
    "hidden": true
   },
   "outputs": [],
   "source": [
    "customers['FLAT_PG4_SALES'] = [[k for j in i for k in j] for i in customers['PG4_AGGSALES'].values]"
   ]
  },
  {
   "cell_type": "code",
   "execution_count": 79,
   "metadata": {
    "ExecuteTime": {
     "end_time": "2018-11-29T14:01:48.808688Z",
     "start_time": "2018-11-29T14:01:48.087688Z"
    },
    "hidden": true
   },
   "outputs": [],
   "source": [
    "customers['FLAT_BRAND_SALES'] = [[k for j in i for k in j] for i in customers['BRAND_AGGSALES'].values]"
   ]
  },
  {
   "cell_type": "code",
   "execution_count": 80,
   "metadata": {
    "ExecuteTime": {
     "end_time": "2018-11-29T14:02:07.636688Z",
     "start_time": "2018-11-29T14:01:57.380688Z"
    },
    "hidden": true
   },
   "outputs": [],
   "source": [
    "customers['TOTAL_PG3_SALES'] = [sorted([(pg3, np.round(sum([sales_ for pg_3_, sales_ in i if pg3==pg_3_\n",
    "                                                        ]), 3)) \n",
    "                                for pg3 in set([pg_3 for pg_3, sales in i])], key= lambda x: x[1], reverse=True) \n",
    "                                for i in customers['FLAT_PG3_SALES']]"
   ]
  },
  {
   "cell_type": "code",
   "execution_count": 81,
   "metadata": {
    "ExecuteTime": {
     "end_time": "2018-11-29T14:02:26.053688Z",
     "start_time": "2018-11-29T14:02:11.340688Z"
    },
    "hidden": true
   },
   "outputs": [],
   "source": [
    "customers['TOTAL_PG4_SALES'] = [sorted([(pg4, np.round(sum([sales_ for pg_4_, sales_ in i if pg4==pg_4_\n",
    "                                                        ]), 3)) \n",
    "                                for pg4 in set([pg_4 for pg_4, sales in i])], key= lambda x: x[1], reverse=True) \n",
    "                                for i in customers['FLAT_PG4_SALES']]"
   ]
  },
  {
   "cell_type": "code",
   "execution_count": 82,
   "metadata": {
    "ExecuteTime": {
     "end_time": "2018-11-29T14:02:45.523688Z",
     "start_time": "2018-11-29T14:02:29.793688Z"
    },
    "hidden": true
   },
   "outputs": [],
   "source": [
    "customers['TOTAL_BRAND_SALES'] = [sorted([(brand_, np.round(sum([sales_ for brand__, sales_ in i if brand_== brand__\n",
    "                                                        ]), 3)) \n",
    "                                for brand_ in set([brand for brand, sales in i])], key= lambda x: x[1], reverse=True) \n",
    "                                for i in customers['FLAT_BRAND_SALES']]"
   ]
  },
  {
   "cell_type": "code",
   "execution_count": 83,
   "metadata": {
    "ExecuteTime": {
     "end_time": "2018-11-29T14:05:20.203453Z",
     "start_time": "2018-11-29T14:03:55.654636Z"
    },
    "hidden": true
   },
   "outputs": [],
   "source": [
    "#customers.to_pickle(\"./customers_es_shop_sp_cross_selling_v2.pkl\")"
   ]
  },
  {
   "cell_type": "code",
   "execution_count": 84,
   "metadata": {
    "ExecuteTime": {
     "end_time": "2018-11-29T14:11:50.680730Z",
     "start_time": "2018-11-29T14:11:50.604722Z"
    },
    "hidden": true
   },
   "outputs": [],
   "source": [
    "del customers['FLAT_PG3_SALES']"
   ]
  },
  {
   "cell_type": "code",
   "execution_count": 85,
   "metadata": {
    "ExecuteTime": {
     "end_time": "2018-11-29T14:11:54.743136Z",
     "start_time": "2018-11-29T14:11:54.676129Z"
    },
    "hidden": true
   },
   "outputs": [],
   "source": [
    "del customers['FLAT_PG4_SALES']"
   ]
  },
  {
   "cell_type": "code",
   "execution_count": 86,
   "metadata": {
    "ExecuteTime": {
     "end_time": "2018-11-29T14:11:58.589521Z",
     "start_time": "2018-11-29T14:11:58.458508Z"
    },
    "hidden": true
   },
   "outputs": [],
   "source": [
    "del customers['FLAT_BRAND_SALES']"
   ]
  },
  {
   "cell_type": "markdown",
   "metadata": {},
   "source": [
    "### Framework"
   ]
  },
  {
   "cell_type": "markdown",
   "metadata": {},
   "source": [
    "***BRAND SPECIFIC SP ANALYSIS***"
   ]
  },
  {
   "cell_type": "code",
   "execution_count": 2,
   "metadata": {
    "ExecuteTime": {
     "end_time": "2018-11-29T15:20:07.516006Z",
     "start_time": "2018-11-29T15:19:49.770006Z"
    }
   },
   "outputs": [],
   "source": [
    "customers = pd.read_pickle(\"./customers_es_shop_sp_cross_selling_v2.pkl\")"
   ]
  },
  {
   "cell_type": "code",
   "execution_count": 3,
   "metadata": {
    "ExecuteTime": {
     "end_time": "2018-11-29T15:20:07.550006Z",
     "start_time": "2018-11-29T15:20:07.517006Z"
    }
   },
   "outputs": [
    {
     "data": {
      "text/html": [
       "<div>\n",
       "<style scoped>\n",
       "    .dataframe tbody tr th:only-of-type {\n",
       "        vertical-align: middle;\n",
       "    }\n",
       "\n",
       "    .dataframe tbody tr th {\n",
       "        vertical-align: top;\n",
       "    }\n",
       "\n",
       "    .dataframe thead th {\n",
       "        text-align: right;\n",
       "    }\n",
       "</style>\n",
       "<table border=\"1\" class=\"dataframe\">\n",
       "  <thead>\n",
       "    <tr style=\"text-align: right;\">\n",
       "      <th></th>\n",
       "      <th>CUS_N_KEY_CUSTOMER</th>\n",
       "      <th>SCM_N_ORDER_NR_len</th>\n",
       "      <th>TDT_T_KEY_ORDER_DATE_list</th>\n",
       "      <th>SCM_SALES_BMF_sum</th>\n",
       "      <th>SCM_SALES_BMF_list</th>\n",
       "      <th>SCM_D_FINANCE_CM1_sum</th>\n",
       "      <th>SCM_D_FINANCE_CM1_list</th>\n",
       "      <th>SCM_D_FINANCE_CM2_sum</th>\n",
       "      <th>SCM_D_FINANCE_CM2_list</th>\n",
       "      <th>SCM_D_ORIG_FINANCE_ORDER_NET_sum</th>\n",
       "      <th>SCM_D_ORIG_FINANCE_ORDER_NET_list</th>\n",
       "    </tr>\n",
       "  </thead>\n",
       "  <tbody>\n",
       "    <tr>\n",
       "      <th>0</th>\n",
       "      <td>1192658</td>\n",
       "      <td>8</td>\n",
       "      <td>[2017-03-21, 2017-03-21, 2017-03-21, 2017-03-2...</td>\n",
       "      <td>115.28</td>\n",
       "      <td>[23.98, 23.98, 21.68, 21.68, 5.99, 5.99, 5.99,...</td>\n",
       "      <td>72.04</td>\n",
       "      <td>[11.28, 11.28, 13.11, 13.11, 5.82, 5.82, 5.82,...</td>\n",
       "      <td>-33.72</td>\n",
       "      <td>[-15.14, -15.14, -13.36, -13.36, 5.82, 5.82, 5...</td>\n",
       "      <td>111.92</td>\n",
       "      <td>[23.28, 23.28, 21.05, 21.05, 5.82, 5.82, 5.82,...</td>\n",
       "    </tr>\n",
       "    <tr>\n",
       "      <th>1</th>\n",
       "      <td>1496305</td>\n",
       "      <td>1</td>\n",
       "      <td>[2016-03-15]</td>\n",
       "      <td>40.98</td>\n",
       "      <td>[40.98]</td>\n",
       "      <td>10.16</td>\n",
       "      <td>[10.16]</td>\n",
       "      <td>2.21</td>\n",
       "      <td>[2.21]</td>\n",
       "      <td>36.92</td>\n",
       "      <td>[36.92]</td>\n",
       "    </tr>\n",
       "    <tr>\n",
       "      <th>2</th>\n",
       "      <td>1515373</td>\n",
       "      <td>1</td>\n",
       "      <td>[2017-01-30]</td>\n",
       "      <td>130.47</td>\n",
       "      <td>[130.47]</td>\n",
       "      <td>24.45</td>\n",
       "      <td>[24.45]</td>\n",
       "      <td>15.92</td>\n",
       "      <td>[15.92]</td>\n",
       "      <td>118.61</td>\n",
       "      <td>[118.61]</td>\n",
       "    </tr>\n",
       "    <tr>\n",
       "      <th>3</th>\n",
       "      <td>1552542</td>\n",
       "      <td>24</td>\n",
       "      <td>[2015-07-02, 2015-08-03, 2015-09-02, 2015-10-0...</td>\n",
       "      <td>4583.40</td>\n",
       "      <td>[92.78, 186.18, 355.24, 54.47, 209.9, 148.14, ...</td>\n",
       "      <td>949.27</td>\n",
       "      <td>[12.53, 25.05, 58.93, 18.85, 30.1, 58.64, 44.7...</td>\n",
       "      <td>400.38</td>\n",
       "      <td>[6.38, 18.9, 46.49, 1.18, 23.47, 14.46, 20.91,...</td>\n",
       "      <td>3756.89</td>\n",
       "      <td>[76.05, 152.61, 291.18, 44.65, 172.05, 121.43,...</td>\n",
       "    </tr>\n",
       "    <tr>\n",
       "      <th>4</th>\n",
       "      <td>1572673</td>\n",
       "      <td>5</td>\n",
       "      <td>[2015-08-26, 2016-11-04, 2017-07-04, 2018-03-2...</td>\n",
       "      <td>264.62</td>\n",
       "      <td>[43.98, 41.76, 94.96, 49.98, 33.94]</td>\n",
       "      <td>92.66</td>\n",
       "      <td>[18.75, 14.05, 30.41, 14.84, 14.61]</td>\n",
       "      <td>50.83</td>\n",
       "      <td>[10.93, 5.59, 20.6, 7.02, 6.7]</td>\n",
       "      <td>240.56</td>\n",
       "      <td>[39.98, 37.96, 86.33, 45.44, 30.85]</td>\n",
       "    </tr>\n",
       "    <tr>\n",
       "      <th>5</th>\n",
       "      <td>1574571</td>\n",
       "      <td>3</td>\n",
       "      <td>[2016-03-04, 2016-04-12, 2016-05-23]</td>\n",
       "      <td>239.65</td>\n",
       "      <td>[62.89, 95.78, 80.98]</td>\n",
       "      <td>53.78</td>\n",
       "      <td>[12.94, 27.29, 13.55]</td>\n",
       "      <td>23.42</td>\n",
       "      <td>[3.98, 18.65, 0.78]</td>\n",
       "      <td>217.86</td>\n",
       "      <td>[57.17, 87.07, 73.62]</td>\n",
       "    </tr>\n",
       "    <tr>\n",
       "      <th>6</th>\n",
       "      <td>1646475</td>\n",
       "      <td>2</td>\n",
       "      <td>[2015-08-28, 2016-01-08]</td>\n",
       "      <td>75.91</td>\n",
       "      <td>[33.96, 41.95]</td>\n",
       "      <td>30.91</td>\n",
       "      <td>[14.19, 16.72]</td>\n",
       "      <td>15.64</td>\n",
       "      <td>[6.88, 8.76]</td>\n",
       "      <td>69.01</td>\n",
       "      <td>[30.87, 38.14]</td>\n",
       "    </tr>\n",
       "    <tr>\n",
       "      <th>7</th>\n",
       "      <td>1652016</td>\n",
       "      <td>1</td>\n",
       "      <td>[2016-08-31]</td>\n",
       "      <td>38.98</td>\n",
       "      <td>[38.98]</td>\n",
       "      <td>18.40</td>\n",
       "      <td>[18.4]</td>\n",
       "      <td>7.27</td>\n",
       "      <td>[7.27]</td>\n",
       "      <td>32.21</td>\n",
       "      <td>[32.21]</td>\n",
       "    </tr>\n",
       "    <tr>\n",
       "      <th>8</th>\n",
       "      <td>1664731</td>\n",
       "      <td>2</td>\n",
       "      <td>[2017-05-10, 2017-06-22]</td>\n",
       "      <td>102.78</td>\n",
       "      <td>[49.89, 52.89]</td>\n",
       "      <td>21.84</td>\n",
       "      <td>[9.46, 12.37]</td>\n",
       "      <td>4.95</td>\n",
       "      <td>[1.02, 3.93]</td>\n",
       "      <td>93.44</td>\n",
       "      <td>[45.35, 48.08]</td>\n",
       "    </tr>\n",
       "    <tr>\n",
       "      <th>9</th>\n",
       "      <td>1692365</td>\n",
       "      <td>1</td>\n",
       "      <td>[2016-05-31]</td>\n",
       "      <td>39.99</td>\n",
       "      <td>[39.99]</td>\n",
       "      <td>17.16</td>\n",
       "      <td>[17.16]</td>\n",
       "      <td>9.17</td>\n",
       "      <td>[9.17]</td>\n",
       "      <td>33.05</td>\n",
       "      <td>[33.05]</td>\n",
       "    </tr>\n",
       "  </tbody>\n",
       "</table>\n",
       "</div>"
      ],
      "text/plain": [
       "   CUS_N_KEY_CUSTOMER  SCM_N_ORDER_NR_len  \\\n",
       "0             1192658                   8   \n",
       "1             1496305                   1   \n",
       "2             1515373                   1   \n",
       "3             1552542                  24   \n",
       "4             1572673                   5   \n",
       "5             1574571                   3   \n",
       "6             1646475                   2   \n",
       "7             1652016                   1   \n",
       "8             1664731                   2   \n",
       "9             1692365                   1   \n",
       "\n",
       "                           TDT_T_KEY_ORDER_DATE_list  SCM_SALES_BMF_sum  \\\n",
       "0  [2017-03-21, 2017-03-21, 2017-03-21, 2017-03-2...             115.28   \n",
       "1                                       [2016-03-15]              40.98   \n",
       "2                                       [2017-01-30]             130.47   \n",
       "3  [2015-07-02, 2015-08-03, 2015-09-02, 2015-10-0...            4583.40   \n",
       "4  [2015-08-26, 2016-11-04, 2017-07-04, 2018-03-2...             264.62   \n",
       "5               [2016-03-04, 2016-04-12, 2016-05-23]             239.65   \n",
       "6                           [2015-08-28, 2016-01-08]              75.91   \n",
       "7                                       [2016-08-31]              38.98   \n",
       "8                           [2017-05-10, 2017-06-22]             102.78   \n",
       "9                                       [2016-05-31]              39.99   \n",
       "\n",
       "                                  SCM_SALES_BMF_list  SCM_D_FINANCE_CM1_sum  \\\n",
       "0  [23.98, 23.98, 21.68, 21.68, 5.99, 5.99, 5.99,...                  72.04   \n",
       "1                                            [40.98]                  10.16   \n",
       "2                                           [130.47]                  24.45   \n",
       "3  [92.78, 186.18, 355.24, 54.47, 209.9, 148.14, ...                 949.27   \n",
       "4                [43.98, 41.76, 94.96, 49.98, 33.94]                  92.66   \n",
       "5                              [62.89, 95.78, 80.98]                  53.78   \n",
       "6                                     [33.96, 41.95]                  30.91   \n",
       "7                                            [38.98]                  18.40   \n",
       "8                                     [49.89, 52.89]                  21.84   \n",
       "9                                            [39.99]                  17.16   \n",
       "\n",
       "                              SCM_D_FINANCE_CM1_list  SCM_D_FINANCE_CM2_sum  \\\n",
       "0  [11.28, 11.28, 13.11, 13.11, 5.82, 5.82, 5.82,...                 -33.72   \n",
       "1                                            [10.16]                   2.21   \n",
       "2                                            [24.45]                  15.92   \n",
       "3  [12.53, 25.05, 58.93, 18.85, 30.1, 58.64, 44.7...                 400.38   \n",
       "4                [18.75, 14.05, 30.41, 14.84, 14.61]                  50.83   \n",
       "5                              [12.94, 27.29, 13.55]                  23.42   \n",
       "6                                     [14.19, 16.72]                  15.64   \n",
       "7                                             [18.4]                   7.27   \n",
       "8                                      [9.46, 12.37]                   4.95   \n",
       "9                                            [17.16]                   9.17   \n",
       "\n",
       "                              SCM_D_FINANCE_CM2_list  \\\n",
       "0  [-15.14, -15.14, -13.36, -13.36, 5.82, 5.82, 5...   \n",
       "1                                             [2.21]   \n",
       "2                                            [15.92]   \n",
       "3  [6.38, 18.9, 46.49, 1.18, 23.47, 14.46, 20.91,...   \n",
       "4                     [10.93, 5.59, 20.6, 7.02, 6.7]   \n",
       "5                                [3.98, 18.65, 0.78]   \n",
       "6                                       [6.88, 8.76]   \n",
       "7                                             [7.27]   \n",
       "8                                       [1.02, 3.93]   \n",
       "9                                             [9.17]   \n",
       "\n",
       "   SCM_D_ORIG_FINANCE_ORDER_NET_sum  \\\n",
       "0                            111.92   \n",
       "1                             36.92   \n",
       "2                            118.61   \n",
       "3                           3756.89   \n",
       "4                            240.56   \n",
       "5                            217.86   \n",
       "6                             69.01   \n",
       "7                             32.21   \n",
       "8                             93.44   \n",
       "9                             33.05   \n",
       "\n",
       "                   SCM_D_ORIG_FINANCE_ORDER_NET_list  \n",
       "0  [23.28, 23.28, 21.05, 21.05, 5.82, 5.82, 5.82,...  \n",
       "1                                            [36.92]  \n",
       "2                                           [118.61]  \n",
       "3  [76.05, 152.61, 291.18, 44.65, 172.05, 121.43,...  \n",
       "4                [39.98, 37.96, 86.33, 45.44, 30.85]  \n",
       "5                              [57.17, 87.07, 73.62]  \n",
       "6                                     [30.87, 38.14]  \n",
       "7                                            [32.21]  \n",
       "8                                     [45.35, 48.08]  \n",
       "9                                            [33.05]  "
      ]
     },
     "execution_count": 3,
     "metadata": {},
     "output_type": "execute_result"
    }
   ],
   "source": [
    "customers.head(10)[customers.columns[:11]]"
   ]
  },
  {
   "cell_type": "code",
   "execution_count": 4,
   "metadata": {
    "ExecuteTime": {
     "end_time": "2018-11-29T15:20:07.696006Z",
     "start_time": "2018-11-29T15:20:07.552006Z"
    }
   },
   "outputs": [
    {
     "data": {
      "text/html": [
       "<div>\n",
       "<style scoped>\n",
       "    .dataframe tbody tr th:only-of-type {\n",
       "        vertical-align: middle;\n",
       "    }\n",
       "\n",
       "    .dataframe tbody tr th {\n",
       "        vertical-align: top;\n",
       "    }\n",
       "\n",
       "    .dataframe thead th {\n",
       "        text-align: right;\n",
       "    }\n",
       "</style>\n",
       "<table border=\"1\" class=\"dataframe\">\n",
       "  <thead>\n",
       "    <tr style=\"text-align: right;\">\n",
       "      <th></th>\n",
       "      <th>OSP_KO_COUNT_NET_list</th>\n",
       "      <th>SCM_MASTER_AP_ID_list</th>\n",
       "      <th>CZP_ZTQ_ID</th>\n",
       "      <th>CZP_START_DATE</th>\n",
       "      <th>CZP_EXPIRY_DATE</th>\n",
       "      <th>PG3_AGGSALES</th>\n",
       "      <th>PG4_AGGSALES</th>\n",
       "      <th>BRAND_AGGSALES</th>\n",
       "      <th>SP_PURCHASE</th>\n",
       "    </tr>\n",
       "  </thead>\n",
       "  <tbody>\n",
       "    <tr>\n",
       "      <th>0</th>\n",
       "      <td>[1, 2, 3, 4, 5, 6, 7, 8]</td>\n",
       "      <td>[[67327, 6168], [67327, 6168], [6168, 24203], ...</td>\n",
       "      <td>[nan, nan, nan, nan, nan, nan, nan, nan]</td>\n",
       "      <td>[nan]</td>\n",
       "      <td>[nan]</td>\n",
       "      <td>[[(2068, 17.99), (0, 5.99)], [(2068, 17.99), (...</td>\n",
       "      <td>[[(3155, 17.99), (0, 5.99)], [(3155, 17.99), (...</td>\n",
       "      <td>[[(Schesir, 17.99), (nan, 0)], [(Schesir, 17.9...</td>\n",
       "      <td>[False, False, False, False, False, False, Fal...</td>\n",
       "    </tr>\n",
       "    <tr>\n",
       "      <th>1</th>\n",
       "      <td>[1]</td>\n",
       "      <td>[[8125, 61046]]</td>\n",
       "      <td>[nan]</td>\n",
       "      <td>[nan]</td>\n",
       "      <td>[nan]</td>\n",
       "      <td>[[(251, 36.99), (29, 3.99)]]</td>\n",
       "      <td>[[(682, 36.99), (118, 3.99)]]</td>\n",
       "      <td>[[(Royal Canin Size, 36.99), (Bürsten &amp; Kämme,...</td>\n",
       "      <td>[False]</td>\n",
       "    </tr>\n",
       "    <tr>\n",
       "      <th>2</th>\n",
       "      <td>[1]</td>\n",
       "      <td>[[6169, 25153, 68753, 71389]]</td>\n",
       "      <td>[nan]</td>\n",
       "      <td>[nan]</td>\n",
       "      <td>[nan]</td>\n",
       "      <td>[[(251, 129.99), (1400, 11.99), (18, 2.99), (0...</td>\n",
       "      <td>[[(31962, 129.99), (1412, 11.99), (394, 2.99),...</td>\n",
       "      <td>[[(Hill's Prescription Diet, 129.99), (Haut &amp; ...</td>\n",
       "      <td>[False]</td>\n",
       "    </tr>\n",
       "    <tr>\n",
       "      <th>3</th>\n",
       "      <td>[1, 2, 3, 4, 5, 6, 7, 8, 9, 10, 11, 13, 13, 14...</td>\n",
       "      <td>[[6169, 42715, 60997, 42225], [42715, 60997], ...</td>\n",
       "      <td>[56.0, 54.0]</td>\n",
       "      <td>[2015-07-02, 2016-07-03]</td>\n",
       "      <td>[2016-07-02, 2019-07-03]</td>\n",
       "      <td>[[(252, 97.9), (48963, 4.9), (0, -10.02)], [(2...</td>\n",
       "      <td>[[(9426, 97.9), (0, -5.12)], [(9426, 195.98), ...</td>\n",
       "      <td>[[(Orijen, 97.9), (unknown, 4.9), (nan, 0)], [...</td>\n",
       "      <td>[True, False, False, False, False, False, Fals...</td>\n",
       "    </tr>\n",
       "    <tr>\n",
       "      <th>4</th>\n",
       "      <td>[1, 2, 3, 4, 5]</td>\n",
       "      <td>[[45955, 22882], [68113, 6169, 62857, 70738, 6...</td>\n",
       "      <td>[nan, nan, nan, nan, nan]</td>\n",
       "      <td>[nan]</td>\n",
       "      <td>[nan]</td>\n",
       "      <td>[[(251, 37.99), (857, 5.99)], [(251, 31.98), (...</td>\n",
       "      <td>[[(2044, 37.99), (14463, 5.99)], [(2051, 24.99...</td>\n",
       "      <td>[[(bosch High Premium Concept, 37.99), (★ Luku...</td>\n",
       "      <td>[False, False, False, False, False]</td>\n",
       "    </tr>\n",
       "    <tr>\n",
       "      <th>5</th>\n",
       "      <td>[1, 2, 3]</td>\n",
       "      <td>[[64673, 64881, 6169], [64673, 6168, 55700], [...</td>\n",
       "      <td>[nan, nan, nan]</td>\n",
       "      <td>[nan]</td>\n",
       "      <td>[nan]</td>\n",
       "      <td>[[(251, 62.89), (0, 0.0), (409, 0.0)], [(251, ...</td>\n",
       "      <td>[[(31962, 62.89), (0, 0.0), (60757, 0.0)], [(3...</td>\n",
       "      <td>[[(Hill's Prescription Diet, 62.89), (nan, 0),...</td>\n",
       "      <td>[False, False, False]</td>\n",
       "    </tr>\n",
       "    <tr>\n",
       "      <th>6</th>\n",
       "      <td>[1, 2]</td>\n",
       "      <td>[[26319, 6168, 38526, 26320], [6168, 38430, 26...</td>\n",
       "      <td>[nan, nan]</td>\n",
       "      <td>[nan]</td>\n",
       "      <td>[nan]</td>\n",
       "      <td>[[(857, 29.97), (0, 3.99)], [(857, 37.96), (0,...</td>\n",
       "      <td>[[(3165, 29.97), (0, 3.99)], [(3165, 37.96), (...</td>\n",
       "      <td>[[(Schesir, 29.97), (nan, 0)], [(Schesir, 37.9...</td>\n",
       "      <td>[False, False]</td>\n",
       "    </tr>\n",
       "    <tr>\n",
       "      <th>7</th>\n",
       "      <td>[1]</td>\n",
       "      <td>[[6168, 65538]]</td>\n",
       "      <td>[nan]</td>\n",
       "      <td>[nan]</td>\n",
       "      <td>[nan]</td>\n",
       "      <td>[[(9, 34.99), (0, 3.99)]]</td>\n",
       "      <td>[[(75, 34.99), (0, 3.99)]]</td>\n",
       "      <td>[[(Hundekissen, 34.99), (nan, 0)]]</td>\n",
       "      <td>[False]</td>\n",
       "    </tr>\n",
       "    <tr>\n",
       "      <th>8</th>\n",
       "      <td>[1, 2]</td>\n",
       "      <td>[[6168, 23378], [23378, 6168]]</td>\n",
       "      <td>[nan, nan]</td>\n",
       "      <td>[nan]</td>\n",
       "      <td>[nan]</td>\n",
       "      <td>[[(251, 46.99), (0, 2.9)], [(251, 49.99), (0, ...</td>\n",
       "      <td>[[(682, 46.99), (0, 2.9)], [(682, 49.99), (0, ...</td>\n",
       "      <td>[[(Royal Canin Size, 46.99), (nan, 0)], [(Roya...</td>\n",
       "      <td>[False, False]</td>\n",
       "    </tr>\n",
       "    <tr>\n",
       "      <th>9</th>\n",
       "      <td>[1]</td>\n",
       "      <td>[[23643]]</td>\n",
       "      <td>[nan]</td>\n",
       "      <td>[nan]</td>\n",
       "      <td>[nan]</td>\n",
       "      <td>[[(2190, 39.99)]]</td>\n",
       "      <td>[[(10623, 39.99)]]</td>\n",
       "      <td>[[(Einstiegshilfe, 39.99)]]</td>\n",
       "      <td>[False]</td>\n",
       "    </tr>\n",
       "  </tbody>\n",
       "</table>\n",
       "</div>"
      ],
      "text/plain": [
       "                               OSP_KO_COUNT_NET_list  \\\n",
       "0                           [1, 2, 3, 4, 5, 6, 7, 8]   \n",
       "1                                                [1]   \n",
       "2                                                [1]   \n",
       "3  [1, 2, 3, 4, 5, 6, 7, 8, 9, 10, 11, 13, 13, 14...   \n",
       "4                                    [1, 2, 3, 4, 5]   \n",
       "5                                          [1, 2, 3]   \n",
       "6                                             [1, 2]   \n",
       "7                                                [1]   \n",
       "8                                             [1, 2]   \n",
       "9                                                [1]   \n",
       "\n",
       "                               SCM_MASTER_AP_ID_list  \\\n",
       "0  [[67327, 6168], [67327, 6168], [6168, 24203], ...   \n",
       "1                                    [[8125, 61046]]   \n",
       "2                      [[6169, 25153, 68753, 71389]]   \n",
       "3  [[6169, 42715, 60997, 42225], [42715, 60997], ...   \n",
       "4  [[45955, 22882], [68113, 6169, 62857, 70738, 6...   \n",
       "5  [[64673, 64881, 6169], [64673, 6168, 55700], [...   \n",
       "6  [[26319, 6168, 38526, 26320], [6168, 38430, 26...   \n",
       "7                                    [[6168, 65538]]   \n",
       "8                     [[6168, 23378], [23378, 6168]]   \n",
       "9                                          [[23643]]   \n",
       "\n",
       "                                 CZP_ZTQ_ID            CZP_START_DATE  \\\n",
       "0  [nan, nan, nan, nan, nan, nan, nan, nan]                     [nan]   \n",
       "1                                     [nan]                     [nan]   \n",
       "2                                     [nan]                     [nan]   \n",
       "3                              [56.0, 54.0]  [2015-07-02, 2016-07-03]   \n",
       "4                 [nan, nan, nan, nan, nan]                     [nan]   \n",
       "5                           [nan, nan, nan]                     [nan]   \n",
       "6                                [nan, nan]                     [nan]   \n",
       "7                                     [nan]                     [nan]   \n",
       "8                                [nan, nan]                     [nan]   \n",
       "9                                     [nan]                     [nan]   \n",
       "\n",
       "            CZP_EXPIRY_DATE  \\\n",
       "0                     [nan]   \n",
       "1                     [nan]   \n",
       "2                     [nan]   \n",
       "3  [2016-07-02, 2019-07-03]   \n",
       "4                     [nan]   \n",
       "5                     [nan]   \n",
       "6                     [nan]   \n",
       "7                     [nan]   \n",
       "8                     [nan]   \n",
       "9                     [nan]   \n",
       "\n",
       "                                        PG3_AGGSALES  \\\n",
       "0  [[(2068, 17.99), (0, 5.99)], [(2068, 17.99), (...   \n",
       "1                       [[(251, 36.99), (29, 3.99)]]   \n",
       "2  [[(251, 129.99), (1400, 11.99), (18, 2.99), (0...   \n",
       "3  [[(252, 97.9), (48963, 4.9), (0, -10.02)], [(2...   \n",
       "4  [[(251, 37.99), (857, 5.99)], [(251, 31.98), (...   \n",
       "5  [[(251, 62.89), (0, 0.0), (409, 0.0)], [(251, ...   \n",
       "6  [[(857, 29.97), (0, 3.99)], [(857, 37.96), (0,...   \n",
       "7                          [[(9, 34.99), (0, 3.99)]]   \n",
       "8  [[(251, 46.99), (0, 2.9)], [(251, 49.99), (0, ...   \n",
       "9                                  [[(2190, 39.99)]]   \n",
       "\n",
       "                                        PG4_AGGSALES  \\\n",
       "0  [[(3155, 17.99), (0, 5.99)], [(3155, 17.99), (...   \n",
       "1                      [[(682, 36.99), (118, 3.99)]]   \n",
       "2  [[(31962, 129.99), (1412, 11.99), (394, 2.99),...   \n",
       "3  [[(9426, 97.9), (0, -5.12)], [(9426, 195.98), ...   \n",
       "4  [[(2044, 37.99), (14463, 5.99)], [(2051, 24.99...   \n",
       "5  [[(31962, 62.89), (0, 0.0), (60757, 0.0)], [(3...   \n",
       "6  [[(3165, 29.97), (0, 3.99)], [(3165, 37.96), (...   \n",
       "7                         [[(75, 34.99), (0, 3.99)]]   \n",
       "8  [[(682, 46.99), (0, 2.9)], [(682, 49.99), (0, ...   \n",
       "9                                 [[(10623, 39.99)]]   \n",
       "\n",
       "                                      BRAND_AGGSALES  \\\n",
       "0  [[(Schesir, 17.99), (nan, 0)], [(Schesir, 17.9...   \n",
       "1  [[(Royal Canin Size, 36.99), (Bürsten & Kämme,...   \n",
       "2  [[(Hill's Prescription Diet, 129.99), (Haut & ...   \n",
       "3  [[(Orijen, 97.9), (unknown, 4.9), (nan, 0)], [...   \n",
       "4  [[(bosch High Premium Concept, 37.99), (★ Luku...   \n",
       "5  [[(Hill's Prescription Diet, 62.89), (nan, 0),...   \n",
       "6  [[(Schesir, 29.97), (nan, 0)], [(Schesir, 37.9...   \n",
       "7                 [[(Hundekissen, 34.99), (nan, 0)]]   \n",
       "8  [[(Royal Canin Size, 46.99), (nan, 0)], [(Roya...   \n",
       "9                        [[(Einstiegshilfe, 39.99)]]   \n",
       "\n",
       "                                         SP_PURCHASE  \n",
       "0  [False, False, False, False, False, False, Fal...  \n",
       "1                                            [False]  \n",
       "2                                            [False]  \n",
       "3  [True, False, False, False, False, False, Fals...  \n",
       "4                [False, False, False, False, False]  \n",
       "5                              [False, False, False]  \n",
       "6                                     [False, False]  \n",
       "7                                            [False]  \n",
       "8                                     [False, False]  \n",
       "9                                            [False]  "
      ]
     },
     "execution_count": 4,
     "metadata": {},
     "output_type": "execute_result"
    }
   ],
   "source": [
    "customers.head(10)[customers.columns[11:20]]"
   ]
  },
  {
   "cell_type": "code",
   "execution_count": 5,
   "metadata": {
    "ExecuteTime": {
     "end_time": "2018-11-29T15:20:07.822006Z",
     "start_time": "2018-11-29T15:20:07.698006Z"
    },
    "scrolled": false
   },
   "outputs": [
    {
     "data": {
      "text/html": [
       "<div>\n",
       "<style scoped>\n",
       "    .dataframe tbody tr th:only-of-type {\n",
       "        vertical-align: middle;\n",
       "    }\n",
       "\n",
       "    .dataframe tbody tr th {\n",
       "        vertical-align: top;\n",
       "    }\n",
       "\n",
       "    .dataframe thead th {\n",
       "        text-align: right;\n",
       "    }\n",
       "</style>\n",
       "<table border=\"1\" class=\"dataframe\">\n",
       "  <thead>\n",
       "    <tr style=\"text-align: right;\">\n",
       "      <th></th>\n",
       "      <th>SP_DISC</th>\n",
       "      <th>D28</th>\n",
       "      <th>D56</th>\n",
       "      <th>D84</th>\n",
       "      <th>D168</th>\n",
       "      <th>D252</th>\n",
       "      <th>D336</th>\n",
       "      <th>O_TIMEDELTAS</th>\n",
       "      <th>FLAT_PG3_SALES</th>\n",
       "      <th>FLAT_PG4_SALES</th>\n",
       "      <th>FLAT_BRAND_SALES</th>\n",
       "      <th>TOTAL_PG3_SALES</th>\n",
       "      <th>TOTAL_PG4_SALES</th>\n",
       "      <th>TOTAL_BRAND_SALES</th>\n",
       "    </tr>\n",
       "  </thead>\n",
       "  <tbody>\n",
       "    <tr>\n",
       "      <th>0</th>\n",
       "      <td>[False, False, False, False, False, False, Fal...</td>\n",
       "      <td>2017-04-18</td>\n",
       "      <td>2017-05-16</td>\n",
       "      <td>2017-06-13</td>\n",
       "      <td>2017-09-05</td>\n",
       "      <td>2017-11-28</td>\n",
       "      <td>2018-02-20</td>\n",
       "      <td>[0, 0, 0, 69, 0, 0, 0]</td>\n",
       "      <td>[(2068, 17.99), (0, 5.99), (2068, 17.99), (0, ...</td>\n",
       "      <td>[(3155, 17.99), (0, 5.99), (3155, 17.99), (0, ...</td>\n",
       "      <td>[(Schesir, 17.99), (nan, 0), (Schesir, 17.99),...</td>\n",
       "      <td>[(0, 47.92), (2068, 35.98), (251, 31.38)]</td>\n",
       "      <td>[(0, 47.92), (3155, 35.98), (528, 31.38)]</td>\n",
       "      <td>[(Schesir, 35.98), (Happy Dog Supreme, 31.38),...</td>\n",
       "    </tr>\n",
       "    <tr>\n",
       "      <th>1</th>\n",
       "      <td>[False]</td>\n",
       "      <td>2016-04-12</td>\n",
       "      <td>2016-05-10</td>\n",
       "      <td>2016-06-07</td>\n",
       "      <td>2016-08-30</td>\n",
       "      <td>2016-11-22</td>\n",
       "      <td>2017-02-14</td>\n",
       "      <td>[]</td>\n",
       "      <td>[(251, 36.99), (29, 3.99)]</td>\n",
       "      <td>[(682, 36.99), (118, 3.99)]</td>\n",
       "      <td>[(Royal Canin Size, 36.99), (Bürsten &amp; Kämme, ...</td>\n",
       "      <td>[(251, 36.99), (29, 3.99)]</td>\n",
       "      <td>[(682, 36.99), (118, 3.99)]</td>\n",
       "      <td>[(Royal Canin Size, 36.99), (Bürsten &amp; Kämme, ...</td>\n",
       "    </tr>\n",
       "    <tr>\n",
       "      <th>2</th>\n",
       "      <td>[False]</td>\n",
       "      <td>2017-02-27</td>\n",
       "      <td>2017-03-27</td>\n",
       "      <td>2017-04-24</td>\n",
       "      <td>2017-07-17</td>\n",
       "      <td>2017-10-09</td>\n",
       "      <td>2018-01-01</td>\n",
       "      <td>[]</td>\n",
       "      <td>[(251, 129.99), (1400, 11.99), (18, 2.99), (0,...</td>\n",
       "      <td>[(31962, 129.99), (1412, 11.99), (394, 2.99), ...</td>\n",
       "      <td>[(Hill's Prescription Diet, 129.99), (Haut &amp; F...</td>\n",
       "      <td>[(251, 129.99), (1400, 11.99), (18, 2.99), (0,...</td>\n",
       "      <td>[(31962, 129.99), (1412, 11.99), (394, 2.99), ...</td>\n",
       "      <td>[(Hill's Prescription Diet, 129.99), (Haut &amp; F...</td>\n",
       "    </tr>\n",
       "    <tr>\n",
       "      <th>3</th>\n",
       "      <td>[True, True, True, True, True, True, True, Tru...</td>\n",
       "      <td>2015-07-30</td>\n",
       "      <td>2015-08-27</td>\n",
       "      <td>2015-09-24</td>\n",
       "      <td>2015-12-17</td>\n",
       "      <td>2016-03-10</td>\n",
       "      <td>2016-06-02</td>\n",
       "      <td>[32, 30, 31, 10, 173, 34, 57, 79, 26, 16, 38, ...</td>\n",
       "      <td>[(252, 97.9), (48963, 4.9), (0, -10.02), (252,...</td>\n",
       "      <td>[(9426, 97.9), (0, -5.12), (9426, 195.98), (0,...</td>\n",
       "      <td>[(Orijen, 97.9), (unknown, 4.9), (nan, 0), (Or...</td>\n",
       "      <td>[(252, 2182.47), (301, 1398.48), (29, 371.74),...</td>\n",
       "      <td>[(39682, 1245.55), (177843, 1087.67), (9426, 7...</td>\n",
       "      <td>[(Sanicat, 1245.55), (Hill's Ideal Balance, 10...</td>\n",
       "    </tr>\n",
       "    <tr>\n",
       "      <th>4</th>\n",
       "      <td>[False, False, False, False, False]</td>\n",
       "      <td>2015-09-23</td>\n",
       "      <td>2015-10-21</td>\n",
       "      <td>2015-11-18</td>\n",
       "      <td>2016-02-10</td>\n",
       "      <td>2016-05-04</td>\n",
       "      <td>2016-07-27</td>\n",
       "      <td>[436, 242, 259, 98]</td>\n",
       "      <td>[(251, 37.99), (857, 5.99), (251, 31.98), (857...</td>\n",
       "      <td>[(2044, 37.99), (14463, 5.99), (2051, 24.99), ...</td>\n",
       "      <td>[(bosch High Premium Concept, 37.99), (★ Lukul...</td>\n",
       "      <td>[(1400, 92.97), (857, 87.9), (251, 81.96), (0,...</td>\n",
       "      <td>[(14463, 75.92), (1413, 59.98), (2044, 49.98),...</td>\n",
       "      <td>[(★ Lukullus Naturkost, 81.91), (Gelenke &amp; Kno...</td>\n",
       "    </tr>\n",
       "    <tr>\n",
       "      <th>5</th>\n",
       "      <td>[False, False, False]</td>\n",
       "      <td>2016-04-01</td>\n",
       "      <td>2016-04-29</td>\n",
       "      <td>2016-05-27</td>\n",
       "      <td>2016-08-19</td>\n",
       "      <td>2016-11-11</td>\n",
       "      <td>2017-02-03</td>\n",
       "      <td>[39, 41]</td>\n",
       "      <td>[(251, 62.89), (0, 0.0), (409, 0.0), (251, 92....</td>\n",
       "      <td>[(31962, 62.89), (0, 0.0), (60757, 0.0), (3196...</td>\n",
       "      <td>[(Hill's Prescription Diet, 62.89), (nan, 0), ...</td>\n",
       "      <td>[(251, 217.76), (207553, 18.99), (0, 2.9), (40...</td>\n",
       "      <td>[(31962, 187.77), (255, 29.99), (207615, 18.99...</td>\n",
       "      <td>[(Hill's Prescription Diet, 187.77), (Eukanuba...</td>\n",
       "    </tr>\n",
       "    <tr>\n",
       "      <th>6</th>\n",
       "      <td>[False, False]</td>\n",
       "      <td>2015-09-25</td>\n",
       "      <td>2015-10-23</td>\n",
       "      <td>2015-11-20</td>\n",
       "      <td>2016-02-12</td>\n",
       "      <td>2016-05-06</td>\n",
       "      <td>2016-07-29</td>\n",
       "      <td>[133]</td>\n",
       "      <td>[(857, 29.97), (0, 3.99), (857, 37.96), (0, 3....</td>\n",
       "      <td>[(3165, 29.97), (0, 3.99), (3165, 37.96), (0, ...</td>\n",
       "      <td>[(Schesir, 29.97), (nan, 0), (Schesir, 37.96),...</td>\n",
       "      <td>[(857, 67.93), (0, 7.98)]</td>\n",
       "      <td>[(3165, 67.93), (0, 7.98)]</td>\n",
       "      <td>[(Schesir, 67.93), (nan, 0)]</td>\n",
       "    </tr>\n",
       "    <tr>\n",
       "      <th>7</th>\n",
       "      <td>[False]</td>\n",
       "      <td>2016-09-28</td>\n",
       "      <td>2016-10-26</td>\n",
       "      <td>2016-11-23</td>\n",
       "      <td>2017-02-15</td>\n",
       "      <td>2017-05-10</td>\n",
       "      <td>2017-08-02</td>\n",
       "      <td>[]</td>\n",
       "      <td>[(9, 34.99), (0, 3.99)]</td>\n",
       "      <td>[(75, 34.99), (0, 3.99)]</td>\n",
       "      <td>[(Hundekissen, 34.99), (nan, 0)]</td>\n",
       "      <td>[(9, 34.99), (0, 3.99)]</td>\n",
       "      <td>[(75, 34.99), (0, 3.99)]</td>\n",
       "      <td>[(Hundekissen, 34.99), (nan, 0)]</td>\n",
       "    </tr>\n",
       "    <tr>\n",
       "      <th>8</th>\n",
       "      <td>[False, False]</td>\n",
       "      <td>2017-06-07</td>\n",
       "      <td>2017-07-05</td>\n",
       "      <td>2017-08-02</td>\n",
       "      <td>2017-10-25</td>\n",
       "      <td>2018-01-17</td>\n",
       "      <td>2018-04-11</td>\n",
       "      <td>[43]</td>\n",
       "      <td>[(251, 46.99), (0, 2.9), (251, 49.99), (0, 2.9)]</td>\n",
       "      <td>[(682, 46.99), (0, 2.9), (682, 49.99), (0, 2.9)]</td>\n",
       "      <td>[(Royal Canin Size, 46.99), (nan, 0), (Royal C...</td>\n",
       "      <td>[(251, 96.98), (0, 5.8)]</td>\n",
       "      <td>[(682, 96.98), (0, 5.8)]</td>\n",
       "      <td>[(Royal Canin Size, 96.98), (nan, 0)]</td>\n",
       "    </tr>\n",
       "    <tr>\n",
       "      <th>9</th>\n",
       "      <td>[False]</td>\n",
       "      <td>2016-06-28</td>\n",
       "      <td>2016-07-26</td>\n",
       "      <td>2016-08-23</td>\n",
       "      <td>2016-11-15</td>\n",
       "      <td>2017-02-07</td>\n",
       "      <td>2017-05-02</td>\n",
       "      <td>[]</td>\n",
       "      <td>[(2190, 39.99)]</td>\n",
       "      <td>[(10623, 39.99)]</td>\n",
       "      <td>[(Einstiegshilfe, 39.99)]</td>\n",
       "      <td>[(2190, 39.99)]</td>\n",
       "      <td>[(10623, 39.99)]</td>\n",
       "      <td>[(Einstiegshilfe, 39.99)]</td>\n",
       "    </tr>\n",
       "  </tbody>\n",
       "</table>\n",
       "</div>"
      ],
      "text/plain": [
       "                                             SP_DISC        D28        D56  \\\n",
       "0  [False, False, False, False, False, False, Fal... 2017-04-18 2017-05-16   \n",
       "1                                            [False] 2016-04-12 2016-05-10   \n",
       "2                                            [False] 2017-02-27 2017-03-27   \n",
       "3  [True, True, True, True, True, True, True, Tru... 2015-07-30 2015-08-27   \n",
       "4                [False, False, False, False, False] 2015-09-23 2015-10-21   \n",
       "5                              [False, False, False] 2016-04-01 2016-04-29   \n",
       "6                                     [False, False] 2015-09-25 2015-10-23   \n",
       "7                                            [False] 2016-09-28 2016-10-26   \n",
       "8                                     [False, False] 2017-06-07 2017-07-05   \n",
       "9                                            [False] 2016-06-28 2016-07-26   \n",
       "\n",
       "         D84       D168       D252       D336  \\\n",
       "0 2017-06-13 2017-09-05 2017-11-28 2018-02-20   \n",
       "1 2016-06-07 2016-08-30 2016-11-22 2017-02-14   \n",
       "2 2017-04-24 2017-07-17 2017-10-09 2018-01-01   \n",
       "3 2015-09-24 2015-12-17 2016-03-10 2016-06-02   \n",
       "4 2015-11-18 2016-02-10 2016-05-04 2016-07-27   \n",
       "5 2016-05-27 2016-08-19 2016-11-11 2017-02-03   \n",
       "6 2015-11-20 2016-02-12 2016-05-06 2016-07-29   \n",
       "7 2016-11-23 2017-02-15 2017-05-10 2017-08-02   \n",
       "8 2017-08-02 2017-10-25 2018-01-17 2018-04-11   \n",
       "9 2016-08-23 2016-11-15 2017-02-07 2017-05-02   \n",
       "\n",
       "                                        O_TIMEDELTAS  \\\n",
       "0                             [0, 0, 0, 69, 0, 0, 0]   \n",
       "1                                                 []   \n",
       "2                                                 []   \n",
       "3  [32, 30, 31, 10, 173, 34, 57, 79, 26, 16, 38, ...   \n",
       "4                                [436, 242, 259, 98]   \n",
       "5                                           [39, 41]   \n",
       "6                                              [133]   \n",
       "7                                                 []   \n",
       "8                                               [43]   \n",
       "9                                                 []   \n",
       "\n",
       "                                      FLAT_PG3_SALES  \\\n",
       "0  [(2068, 17.99), (0, 5.99), (2068, 17.99), (0, ...   \n",
       "1                         [(251, 36.99), (29, 3.99)]   \n",
       "2  [(251, 129.99), (1400, 11.99), (18, 2.99), (0,...   \n",
       "3  [(252, 97.9), (48963, 4.9), (0, -10.02), (252,...   \n",
       "4  [(251, 37.99), (857, 5.99), (251, 31.98), (857...   \n",
       "5  [(251, 62.89), (0, 0.0), (409, 0.0), (251, 92....   \n",
       "6  [(857, 29.97), (0, 3.99), (857, 37.96), (0, 3....   \n",
       "7                            [(9, 34.99), (0, 3.99)]   \n",
       "8   [(251, 46.99), (0, 2.9), (251, 49.99), (0, 2.9)]   \n",
       "9                                    [(2190, 39.99)]   \n",
       "\n",
       "                                      FLAT_PG4_SALES  \\\n",
       "0  [(3155, 17.99), (0, 5.99), (3155, 17.99), (0, ...   \n",
       "1                        [(682, 36.99), (118, 3.99)]   \n",
       "2  [(31962, 129.99), (1412, 11.99), (394, 2.99), ...   \n",
       "3  [(9426, 97.9), (0, -5.12), (9426, 195.98), (0,...   \n",
       "4  [(2044, 37.99), (14463, 5.99), (2051, 24.99), ...   \n",
       "5  [(31962, 62.89), (0, 0.0), (60757, 0.0), (3196...   \n",
       "6  [(3165, 29.97), (0, 3.99), (3165, 37.96), (0, ...   \n",
       "7                           [(75, 34.99), (0, 3.99)]   \n",
       "8   [(682, 46.99), (0, 2.9), (682, 49.99), (0, 2.9)]   \n",
       "9                                   [(10623, 39.99)]   \n",
       "\n",
       "                                    FLAT_BRAND_SALES  \\\n",
       "0  [(Schesir, 17.99), (nan, 0), (Schesir, 17.99),...   \n",
       "1  [(Royal Canin Size, 36.99), (Bürsten & Kämme, ...   \n",
       "2  [(Hill's Prescription Diet, 129.99), (Haut & F...   \n",
       "3  [(Orijen, 97.9), (unknown, 4.9), (nan, 0), (Or...   \n",
       "4  [(bosch High Premium Concept, 37.99), (★ Lukul...   \n",
       "5  [(Hill's Prescription Diet, 62.89), (nan, 0), ...   \n",
       "6  [(Schesir, 29.97), (nan, 0), (Schesir, 37.96),...   \n",
       "7                   [(Hundekissen, 34.99), (nan, 0)]   \n",
       "8  [(Royal Canin Size, 46.99), (nan, 0), (Royal C...   \n",
       "9                          [(Einstiegshilfe, 39.99)]   \n",
       "\n",
       "                                     TOTAL_PG3_SALES  \\\n",
       "0          [(0, 47.92), (2068, 35.98), (251, 31.38)]   \n",
       "1                         [(251, 36.99), (29, 3.99)]   \n",
       "2  [(251, 129.99), (1400, 11.99), (18, 2.99), (0,...   \n",
       "3  [(252, 2182.47), (301, 1398.48), (29, 371.74),...   \n",
       "4  [(1400, 92.97), (857, 87.9), (251, 81.96), (0,...   \n",
       "5  [(251, 217.76), (207553, 18.99), (0, 2.9), (40...   \n",
       "6                          [(857, 67.93), (0, 7.98)]   \n",
       "7                            [(9, 34.99), (0, 3.99)]   \n",
       "8                           [(251, 96.98), (0, 5.8)]   \n",
       "9                                    [(2190, 39.99)]   \n",
       "\n",
       "                                     TOTAL_PG4_SALES  \\\n",
       "0          [(0, 47.92), (3155, 35.98), (528, 31.38)]   \n",
       "1                        [(682, 36.99), (118, 3.99)]   \n",
       "2  [(31962, 129.99), (1412, 11.99), (394, 2.99), ...   \n",
       "3  [(39682, 1245.55), (177843, 1087.67), (9426, 7...   \n",
       "4  [(14463, 75.92), (1413, 59.98), (2044, 49.98),...   \n",
       "5  [(31962, 187.77), (255, 29.99), (207615, 18.99...   \n",
       "6                         [(3165, 67.93), (0, 7.98)]   \n",
       "7                           [(75, 34.99), (0, 3.99)]   \n",
       "8                           [(682, 96.98), (0, 5.8)]   \n",
       "9                                   [(10623, 39.99)]   \n",
       "\n",
       "                                   TOTAL_BRAND_SALES  \n",
       "0  [(Schesir, 35.98), (Happy Dog Supreme, 31.38),...  \n",
       "1  [(Royal Canin Size, 36.99), (Bürsten & Kämme, ...  \n",
       "2  [(Hill's Prescription Diet, 129.99), (Haut & F...  \n",
       "3  [(Sanicat, 1245.55), (Hill's Ideal Balance, 10...  \n",
       "4  [(★ Lukullus Naturkost, 81.91), (Gelenke & Kno...  \n",
       "5  [(Hill's Prescription Diet, 187.77), (Eukanuba...  \n",
       "6                       [(Schesir, 67.93), (nan, 0)]  \n",
       "7                   [(Hundekissen, 34.99), (nan, 0)]  \n",
       "8              [(Royal Canin Size, 96.98), (nan, 0)]  \n",
       "9                          [(Einstiegshilfe, 39.99)]  "
      ]
     },
     "execution_count": 5,
     "metadata": {},
     "output_type": "execute_result"
    }
   ],
   "source": [
    "customers.head(10)[customers.columns[20:]]"
   ]
  },
  {
   "cell_type": "markdown",
   "metadata": {
    "ExecuteTime": {
     "end_time": "2018-11-27T08:24:14.682904Z",
     "start_time": "2018-11-27T08:24:14.677905Z"
    }
   },
   "source": [
    "We locate the N-order in which SP has been bought..."
   ]
  },
  {
   "cell_type": "code",
   "execution_count": 6,
   "metadata": {
    "ExecuteTime": {
     "end_time": "2018-11-29T15:20:10.330006Z",
     "start_time": "2018-11-29T15:20:07.824006Z"
    }
   },
   "outputs": [],
   "source": [
    "customers['SP_PY_POS'] = [np.argwhere(i)[0][0] if len(np.argwhere(i)) >= 1 else 999999\n",
    "                          for i in customers['SP_PURCHASE'].values]"
   ]
  },
  {
   "cell_type": "markdown",
   "metadata": {},
   "source": [
    "And the days between 1st order in our dataset and SP purchase date"
   ]
  },
  {
   "cell_type": "code",
   "execution_count": 7,
   "metadata": {
    "ExecuteTime": {
     "end_time": "2018-11-29T15:20:10.428006Z",
     "start_time": "2018-11-29T15:20:10.331006Z"
    }
   },
   "outputs": [],
   "source": [
    "customers['DAYS_UNTIL_1st_SP'] = [(x[y] - x[0]).days if y != 999999 else None for x, y in list(zip(customers['TDT_T_KEY_ORDER_DATE_list'], \n",
    "                                                                   customers['SP_PY_POS']))]"
   ]
  },
  {
   "cell_type": "code",
   "execution_count": 8,
   "metadata": {
    "ExecuteTime": {
     "end_time": "2018-11-29T15:20:10.450006Z",
     "start_time": "2018-11-29T15:20:10.429006Z"
    }
   },
   "outputs": [
    {
     "data": {
      "text/plain": [
       "count    29847.000000\n",
       "mean       141.512514\n",
       "std        197.343425\n",
       "min          0.000000\n",
       "25%          0.000000\n",
       "50%         53.000000\n",
       "75%        207.000000\n",
       "max       1084.000000\n",
       "Name: DAYS_UNTIL_1st_SP, dtype: float64"
      ]
     },
     "execution_count": 8,
     "metadata": {},
     "output_type": "execute_result"
    }
   ],
   "source": [
    "customers['DAYS_UNTIL_1st_SP'].describe()"
   ]
  },
  {
   "cell_type": "markdown",
   "metadata": {},
   "source": [
    "Quantify the amount of orders having a SP discount or not"
   ]
  },
  {
   "cell_type": "code",
   "execution_count": 9,
   "metadata": {
    "ExecuteTime": {
     "end_time": "2018-11-29T15:20:10.556006Z",
     "start_time": "2018-11-29T15:20:10.451006Z"
    }
   },
   "outputs": [],
   "source": [
    "customers['SP_ORDERS'] = [sum(i) for i in customers['SP_DISC'].values]"
   ]
  },
  {
   "cell_type": "code",
   "execution_count": 10,
   "metadata": {
    "ExecuteTime": {
     "end_time": "2018-11-29T15:20:10.562006Z",
     "start_time": "2018-11-29T15:20:10.557006Z"
    }
   },
   "outputs": [],
   "source": [
    "customers['NO_SP_ORDERS'] = customers['SCM_N_ORDER_NR_len'] - customers['SP_ORDERS']"
   ]
  },
  {
   "cell_type": "code",
   "execution_count": 11,
   "metadata": {
    "ExecuteTime": {
     "end_time": "2018-11-29T15:20:10.577006Z",
     "start_time": "2018-11-29T15:20:10.563006Z"
    }
   },
   "outputs": [
    {
     "data": {
      "text/plain": [
       "datetime.date(2018, 6, 30)"
      ]
     },
     "execution_count": 11,
     "metadata": {},
     "output_type": "execute_result"
    }
   ],
   "source": [
    "last_date_df = datetime.datetime.strptime('30062018', \"%d%m%Y\").date()\n",
    "last_date_df"
   ]
  },
  {
   "cell_type": "markdown",
   "metadata": {},
   "source": [
    "We obtain now, the total days each customer has in our dataframe and the days after 1st SP"
   ]
  },
  {
   "cell_type": "code",
   "execution_count": 12,
   "metadata": {
    "ExecuteTime": {
     "end_time": "2018-11-29T15:20:10.677006Z",
     "start_time": "2018-11-29T15:20:10.578006Z"
    }
   },
   "outputs": [],
   "source": [
    "customers['DAYS_IN_DF'] = [(last_date_df - i[0]).days for i in customers['TDT_T_KEY_ORDER_DATE_list'].values]"
   ]
  },
  {
   "cell_type": "code",
   "execution_count": 13,
   "metadata": {
    "ExecuteTime": {
     "end_time": "2018-11-29T15:20:10.683006Z",
     "start_time": "2018-11-29T15:20:10.678006Z"
    }
   },
   "outputs": [],
   "source": [
    "customers['DAYS_AFTER_1st_SP'] = customers['DAYS_IN_DF'] - customers['DAYS_UNTIL_1st_SP']"
   ]
  },
  {
   "cell_type": "code",
   "execution_count": 14,
   "metadata": {
    "ExecuteTime": {
     "end_time": "2018-11-29T15:20:10.802006Z",
     "start_time": "2018-11-29T15:20:10.685006Z"
    }
   },
   "outputs": [],
   "source": [
    "customers['SP_CUS'] = [(sum(i) >= 1) * 1 for i in customers['SP_DISC'].values]"
   ]
  },
  {
   "cell_type": "code",
   "execution_count": 15,
   "metadata": {
    "ExecuteTime": {
     "end_time": "2018-11-29T15:20:10.811006Z",
     "start_time": "2018-11-29T15:20:10.803006Z"
    }
   },
   "outputs": [
    {
     "data": {
      "text/plain": [
       "0    205787\n",
       "1     31035\n",
       "Name: SP_CUS, dtype: int64"
      ]
     },
     "execution_count": 15,
     "metadata": {},
     "output_type": "execute_result"
    }
   ],
   "source": [
    "customers['SP_CUS'].value_counts()"
   ]
  },
  {
   "cell_type": "code",
   "execution_count": 16,
   "metadata": {
    "ExecuteTime": {
     "end_time": "2018-11-29T15:20:11.105006Z",
     "start_time": "2018-11-29T15:20:10.812006Z"
    }
   },
   "outputs": [],
   "source": [
    "sp_customers = customers[customers['SP_CUS'] == 1].copy()"
   ]
  },
  {
   "cell_type": "code",
   "execution_count": 17,
   "metadata": {
    "ExecuteTime": {
     "end_time": "2018-11-29T15:20:11.109006Z",
     "start_time": "2018-11-29T15:20:11.106006Z"
    }
   },
   "outputs": [
    {
     "data": {
      "text/plain": [
       "31035"
      ]
     },
     "execution_count": 17,
     "metadata": {},
     "output_type": "execute_result"
    }
   ],
   "source": [
    "len(sp_customers)"
   ]
  },
  {
   "cell_type": "code",
   "execution_count": 18,
   "metadata": {
    "ExecuteTime": {
     "end_time": "2018-11-29T15:20:11.166006Z",
     "start_time": "2018-11-29T15:20:11.110006Z"
    }
   },
   "outputs": [
    {
     "data": {
      "text/html": [
       "<div>\n",
       "<style scoped>\n",
       "    .dataframe tbody tr th:only-of-type {\n",
       "        vertical-align: middle;\n",
       "    }\n",
       "\n",
       "    .dataframe tbody tr th {\n",
       "        vertical-align: top;\n",
       "    }\n",
       "\n",
       "    .dataframe thead th {\n",
       "        text-align: right;\n",
       "    }\n",
       "</style>\n",
       "<table border=\"1\" class=\"dataframe\">\n",
       "  <thead>\n",
       "    <tr style=\"text-align: right;\">\n",
       "      <th></th>\n",
       "      <th>CUS_N_KEY_CUSTOMER</th>\n",
       "      <th>SCM_N_ORDER_NR_len</th>\n",
       "      <th>TDT_T_KEY_ORDER_DATE_list</th>\n",
       "      <th>SCM_SALES_BMF_sum</th>\n",
       "      <th>SCM_SALES_BMF_list</th>\n",
       "      <th>SCM_D_FINANCE_CM1_sum</th>\n",
       "      <th>SCM_D_FINANCE_CM1_list</th>\n",
       "      <th>SCM_D_FINANCE_CM2_sum</th>\n",
       "      <th>SCM_D_FINANCE_CM2_list</th>\n",
       "      <th>SCM_D_ORIG_FINANCE_ORDER_NET_sum</th>\n",
       "      <th>...</th>\n",
       "      <th>TOTAL_PG3_SALES</th>\n",
       "      <th>TOTAL_PG4_SALES</th>\n",
       "      <th>TOTAL_BRAND_SALES</th>\n",
       "      <th>SP_PY_POS</th>\n",
       "      <th>DAYS_UNTIL_1st_SP</th>\n",
       "      <th>SP_ORDERS</th>\n",
       "      <th>NO_SP_ORDERS</th>\n",
       "      <th>DAYS_IN_DF</th>\n",
       "      <th>DAYS_AFTER_1st_SP</th>\n",
       "      <th>SP_CUS</th>\n",
       "    </tr>\n",
       "  </thead>\n",
       "  <tbody>\n",
       "    <tr>\n",
       "      <th>192342</th>\n",
       "      <td>16201045</td>\n",
       "      <td>7</td>\n",
       "      <td>[2017-02-23, 2017-03-04, 2017-04-03, 2017-05-1...</td>\n",
       "      <td>363.69</td>\n",
       "      <td>[44.64, 89.45, 45.59, 47.49, 33.82, 59.82, 42.88]</td>\n",
       "      <td>59.37</td>\n",
       "      <td>[4.59, 15.14, 9.19, 5.26, 11.25, 8.6, 5.35]</td>\n",
       "      <td>-8.43</td>\n",
       "      <td>[-3.85, 2.86, 0.27, -5.45, 3.82, -5.31, -0.77]</td>\n",
       "      <td>318.51</td>\n",
       "      <td>...</td>\n",
       "      <td>[(251, 144.97), (207553, 127.94), (15, 41.19),...</td>\n",
       "      <td>[(682, 144.97), (207617, 73.97), (207615, 53.9...</td>\n",
       "      <td>[(Royal Canin Size, 144.97), (Spot-On, 73.97),...</td>\n",
       "      <td>1</td>\n",
       "      <td>9.0</td>\n",
       "      <td>6</td>\n",
       "      <td>1</td>\n",
       "      <td>492</td>\n",
       "      <td>483.0</td>\n",
       "      <td>1</td>\n",
       "    </tr>\n",
       "    <tr>\n",
       "      <th>229156</th>\n",
       "      <td>17017400</td>\n",
       "      <td>3</td>\n",
       "      <td>[2017-06-07, 2017-11-06, 2018-03-22]</td>\n",
       "      <td>202.57</td>\n",
       "      <td>[61.52, 68.33, 72.72]</td>\n",
       "      <td>56.51</td>\n",
       "      <td>[19.74, 18.64, 18.13]</td>\n",
       "      <td>-0.16</td>\n",
       "      <td>[1.08, -0.07, -1.18]</td>\n",
       "      <td>176.19</td>\n",
       "      <td>...</td>\n",
       "      <td>[(301, 88.97), (2068, 62.45), (252, 44.97), (1...</td>\n",
       "      <td>[(818, 88.97), (10728, 39.98), (2071, 22.47), ...</td>\n",
       "      <td>[(Intersand Extreme Classic, 88.97), (Whiskas,...</td>\n",
       "      <td>1</td>\n",
       "      <td>152.0</td>\n",
       "      <td>2</td>\n",
       "      <td>1</td>\n",
       "      <td>388</td>\n",
       "      <td>236.0</td>\n",
       "      <td>1</td>\n",
       "    </tr>\n",
       "    <tr>\n",
       "      <th>176552</th>\n",
       "      <td>15820394</td>\n",
       "      <td>5</td>\n",
       "      <td>[2016-12-26, 2017-02-11, 2017-03-29, 2017-05-0...</td>\n",
       "      <td>314.64</td>\n",
       "      <td>[101.62, 44.45, 47.49, 62.2, 58.88]</td>\n",
       "      <td>43.40</td>\n",
       "      <td>[11.11, 3.33, 5.42, 12.82, 10.72]</td>\n",
       "      <td>-8.98</td>\n",
       "      <td>[-3.74, -5.09, -4.92, 4.4, 0.37]</td>\n",
       "      <td>283.96</td>\n",
       "      <td>...</td>\n",
       "      <td>[(251, 257.95), (207553, 51.99), (409, 11.48),...</td>\n",
       "      <td>[(71709, 203.96), (754, 53.99), (207615, 51.99...</td>\n",
       "      <td>[(Affinity Advance, 203.96), (Nutro, 53.99), (...</td>\n",
       "      <td>0</td>\n",
       "      <td>0.0</td>\n",
       "      <td>5</td>\n",
       "      <td>0</td>\n",
       "      <td>551</td>\n",
       "      <td>551.0</td>\n",
       "      <td>1</td>\n",
       "    </tr>\n",
       "    <tr>\n",
       "      <th>199045</th>\n",
       "      <td>16362283</td>\n",
       "      <td>1</td>\n",
       "      <td>[2017-03-09]</td>\n",
       "      <td>99.72</td>\n",
       "      <td>[99.72]</td>\n",
       "      <td>4.50</td>\n",
       "      <td>[4.5]</td>\n",
       "      <td>-0.50</td>\n",
       "      <td>[-0.5]</td>\n",
       "      <td>90.26</td>\n",
       "      <td>...</td>\n",
       "      <td>[(207553, 99.98), (48963, 4.99), (0, -5.25)]</td>\n",
       "      <td>[(207615, 99.98), (0, -0.26)]</td>\n",
       "      <td>[(Halsband, 99.98), (unknown, 4.99), (nan, 0)]</td>\n",
       "      <td>0</td>\n",
       "      <td>0.0</td>\n",
       "      <td>1</td>\n",
       "      <td>0</td>\n",
       "      <td>478</td>\n",
       "      <td>478.0</td>\n",
       "      <td>1</td>\n",
       "    </tr>\n",
       "    <tr>\n",
       "      <th>131560</th>\n",
       "      <td>14799034</td>\n",
       "      <td>3</td>\n",
       "      <td>[2016-08-14, 2017-03-03, 2017-10-29]</td>\n",
       "      <td>132.43</td>\n",
       "      <td>[44.68, 40.87, 46.88]</td>\n",
       "      <td>51.05</td>\n",
       "      <td>[18.33, 14.14, 18.58]</td>\n",
       "      <td>24.13</td>\n",
       "      <td>[8.62, 5.12, 10.39]</td>\n",
       "      <td>109.61</td>\n",
       "      <td>...</td>\n",
       "      <td>[(301, 125.93), (0, 4.5), (34, 1.99), (2430, 0...</td>\n",
       "      <td>[(10331, 125.93), (0, 4.5), (71978, 1.99), (92...</td>\n",
       "      <td>[(★ Tigerino, 125.93), (Knuspersnacks, 1.99), ...</td>\n",
       "      <td>999999</td>\n",
       "      <td>NaN</td>\n",
       "      <td>2</td>\n",
       "      <td>1</td>\n",
       "      <td>685</td>\n",
       "      <td>NaN</td>\n",
       "      <td>1</td>\n",
       "    </tr>\n",
       "  </tbody>\n",
       "</table>\n",
       "<p>5 rows × 41 columns</p>\n",
       "</div>"
      ],
      "text/plain": [
       "        CUS_N_KEY_CUSTOMER  SCM_N_ORDER_NR_len  \\\n",
       "192342            16201045                   7   \n",
       "229156            17017400                   3   \n",
       "176552            15820394                   5   \n",
       "199045            16362283                   1   \n",
       "131560            14799034                   3   \n",
       "\n",
       "                                TDT_T_KEY_ORDER_DATE_list  SCM_SALES_BMF_sum  \\\n",
       "192342  [2017-02-23, 2017-03-04, 2017-04-03, 2017-05-1...             363.69   \n",
       "229156               [2017-06-07, 2017-11-06, 2018-03-22]             202.57   \n",
       "176552  [2016-12-26, 2017-02-11, 2017-03-29, 2017-05-0...             314.64   \n",
       "199045                                       [2017-03-09]              99.72   \n",
       "131560               [2016-08-14, 2017-03-03, 2017-10-29]             132.43   \n",
       "\n",
       "                                       SCM_SALES_BMF_list  \\\n",
       "192342  [44.64, 89.45, 45.59, 47.49, 33.82, 59.82, 42.88]   \n",
       "229156                              [61.52, 68.33, 72.72]   \n",
       "176552                [101.62, 44.45, 47.49, 62.2, 58.88]   \n",
       "199045                                            [99.72]   \n",
       "131560                              [44.68, 40.87, 46.88]   \n",
       "\n",
       "        SCM_D_FINANCE_CM1_sum                       SCM_D_FINANCE_CM1_list  \\\n",
       "192342                  59.37  [4.59, 15.14, 9.19, 5.26, 11.25, 8.6, 5.35]   \n",
       "229156                  56.51                        [19.74, 18.64, 18.13]   \n",
       "176552                  43.40            [11.11, 3.33, 5.42, 12.82, 10.72]   \n",
       "199045                   4.50                                        [4.5]   \n",
       "131560                  51.05                        [18.33, 14.14, 18.58]   \n",
       "\n",
       "        SCM_D_FINANCE_CM2_sum                          SCM_D_FINANCE_CM2_list  \\\n",
       "192342                  -8.43  [-3.85, 2.86, 0.27, -5.45, 3.82, -5.31, -0.77]   \n",
       "229156                  -0.16                            [1.08, -0.07, -1.18]   \n",
       "176552                  -8.98                [-3.74, -5.09, -4.92, 4.4, 0.37]   \n",
       "199045                  -0.50                                          [-0.5]   \n",
       "131560                  24.13                             [8.62, 5.12, 10.39]   \n",
       "\n",
       "        SCM_D_ORIG_FINANCE_ORDER_NET_sum  ...    \\\n",
       "192342                            318.51  ...     \n",
       "229156                            176.19  ...     \n",
       "176552                            283.96  ...     \n",
       "199045                             90.26  ...     \n",
       "131560                            109.61  ...     \n",
       "\n",
       "                                          TOTAL_PG3_SALES  \\\n",
       "192342  [(251, 144.97), (207553, 127.94), (15, 41.19),...   \n",
       "229156  [(301, 88.97), (2068, 62.45), (252, 44.97), (1...   \n",
       "176552  [(251, 257.95), (207553, 51.99), (409, 11.48),...   \n",
       "199045       [(207553, 99.98), (48963, 4.99), (0, -5.25)]   \n",
       "131560  [(301, 125.93), (0, 4.5), (34, 1.99), (2430, 0...   \n",
       "\n",
       "                                          TOTAL_PG4_SALES  \\\n",
       "192342  [(682, 144.97), (207617, 73.97), (207615, 53.9...   \n",
       "229156  [(818, 88.97), (10728, 39.98), (2071, 22.47), ...   \n",
       "176552  [(71709, 203.96), (754, 53.99), (207615, 51.99...   \n",
       "199045                      [(207615, 99.98), (0, -0.26)]   \n",
       "131560  [(10331, 125.93), (0, 4.5), (71978, 1.99), (92...   \n",
       "\n",
       "                                        TOTAL_BRAND_SALES SP_PY_POS  \\\n",
       "192342  [(Royal Canin Size, 144.97), (Spot-On, 73.97),...         1   \n",
       "229156  [(Intersand Extreme Classic, 88.97), (Whiskas,...         1   \n",
       "176552  [(Affinity Advance, 203.96), (Nutro, 53.99), (...         0   \n",
       "199045     [(Halsband, 99.98), (unknown, 4.99), (nan, 0)]         0   \n",
       "131560  [(★ Tigerino, 125.93), (Knuspersnacks, 1.99), ...    999999   \n",
       "\n",
       "       DAYS_UNTIL_1st_SP SP_ORDERS NO_SP_ORDERS DAYS_IN_DF DAYS_AFTER_1st_SP  \\\n",
       "192342               9.0         6            1        492             483.0   \n",
       "229156             152.0         2            1        388             236.0   \n",
       "176552               0.0         5            0        551             551.0   \n",
       "199045               0.0         1            0        478             478.0   \n",
       "131560               NaN         2            1        685               NaN   \n",
       "\n",
       "       SP_CUS  \n",
       "192342      1  \n",
       "229156      1  \n",
       "176552      1  \n",
       "199045      1  \n",
       "131560      1  \n",
       "\n",
       "[5 rows x 41 columns]"
      ]
     },
     "execution_count": 18,
     "metadata": {},
     "output_type": "execute_result"
    }
   ],
   "source": [
    "sp_customers.sample(5)"
   ]
  },
  {
   "cell_type": "markdown",
   "metadata": {},
   "source": [
    "Let's get those customers having at least 252 days of performance with/without SP "
   ]
  },
  {
   "cell_type": "code",
   "execution_count": 19,
   "metadata": {
    "ExecuteTime": {
     "end_time": "2018-11-29T15:20:11.188006Z",
     "start_time": "2018-11-29T15:20:11.167006Z"
    }
   },
   "outputs": [],
   "source": [
    "sp_customers_252 = sp_customers[(sp_customers['DAYS_UNTIL_1st_SP'] >= 252) & (sp_customers['DAYS_AFTER_1st_SP'] >= 252)].copy()"
   ]
  },
  {
   "cell_type": "code",
   "execution_count": 20,
   "metadata": {
    "ExecuteTime": {
     "end_time": "2018-11-29T15:20:11.198006Z",
     "start_time": "2018-11-29T15:20:11.189006Z"
    }
   },
   "outputs": [
    {
     "data": {
      "text/plain": [
       "3909"
      ]
     },
     "execution_count": 20,
     "metadata": {},
     "output_type": "execute_result"
    }
   ],
   "source": [
    "len(sp_customers_252)"
   ]
  },
  {
   "cell_type": "markdown",
   "metadata": {},
   "source": [
    "+ KPIs: **Sales, CM1, CM2, AOV, Order Frequency** during a **fixed time period**\n",
    "- **Number of PG3s** the customer bought in and **Sales Share** in the according class \n",
    "+ Spend in the classes that he did not buy before but started buying in with Savingsplan (would only work for Scenario b))\n",
    "+ Average Sales Share of Royal Canin products – with/without SP\n",
    "+ Average Sales Share of Hills products – with/without SP"
   ]
  },
  {
   "cell_type": "markdown",
   "metadata": {},
   "source": [
    "Now we need to create a boolean mask that let us obtain only order informations regarding each 252 days period..."
   ]
  },
  {
   "cell_type": "code",
   "execution_count": 21,
   "metadata": {
    "ExecuteTime": {
     "end_time": "2018-11-29T15:20:11.232006Z",
     "start_time": "2018-11-29T15:20:11.201006Z"
    }
   },
   "outputs": [],
   "source": [
    "sp_customers_252['MASK_252_BEF'] = [[(date >= (y[x] - timedelta(days=253))) and (date <= y[x]) \n",
    "                                     for date in y[:x]] for x, y in list(zip(sp_customers_252['SP_PY_POS'], \n",
    "                                                        sp_customers_252['TDT_T_KEY_ORDER_DATE_list']))]"
   ]
  },
  {
   "cell_type": "code",
   "execution_count": 22,
   "metadata": {
    "ExecuteTime": {
     "end_time": "2018-11-29T15:20:11.275006Z",
     "start_time": "2018-11-29T15:20:11.233006Z"
    }
   },
   "outputs": [],
   "source": [
    "sp_customers_252['MASK_252_AFT'] = [[(date >= y[x]) and (date <= (y[x] + timedelta(days=252)))\n",
    "                                    for date in y[x:]] \n",
    "                                    for x, y in list(zip(sp_customers_252['SP_PY_POS'], \n",
    "                                                        sp_customers_252['TDT_T_KEY_ORDER_DATE_list']))]"
   ]
  },
  {
   "cell_type": "markdown",
   "metadata": {},
   "source": [
    "As a request from business, they want as a minimum 1 order placed in the 252 days time window before SP purchasing...son we need at least that the sum osf 'MASK_252_BEF' >= 1, that means at least 1 True value"
   ]
  },
  {
   "cell_type": "code",
   "execution_count": 23,
   "metadata": {
    "ExecuteTime": {
     "end_time": "2018-11-29T15:20:11.290006Z",
     "start_time": "2018-11-29T15:20:11.277006Z"
    }
   },
   "outputs": [],
   "source": [
    "sp_customers_252['ONE_ORDER_BEFORE'] = [(sum(i) >= 1) * 1 for i in sp_customers_252['MASK_252_BEF'].values]"
   ]
  },
  {
   "cell_type": "code",
   "execution_count": 24,
   "metadata": {
    "ExecuteTime": {
     "end_time": "2018-11-29T15:20:11.321006Z",
     "start_time": "2018-11-29T15:20:11.291006Z"
    }
   },
   "outputs": [],
   "source": [
    "sp_customers_252 = sp_customers_252[sp_customers_252['ONE_ORDER_BEFORE'] == 1].copy()"
   ]
  },
  {
   "cell_type": "code",
   "execution_count": 25,
   "metadata": {
    "ExecuteTime": {
     "end_time": "2018-11-29T15:20:11.326006Z",
     "start_time": "2018-11-29T15:20:11.322006Z"
    }
   },
   "outputs": [
    {
     "data": {
      "text/plain": [
       "3281"
      ]
     },
     "execution_count": 25,
     "metadata": {},
     "output_type": "execute_result"
    }
   ],
   "source": [
    "len(sp_customers_252)"
   ]
  },
  {
   "cell_type": "code",
   "execution_count": 26,
   "metadata": {
    "ExecuteTime": {
     "end_time": "2018-11-29T15:20:11.374006Z",
     "start_time": "2018-11-29T15:20:11.327006Z"
    }
   },
   "outputs": [],
   "source": [
    "sp_customers_252['SALES_252_BEF'] = [np.round(sum(list(compress(i, j))), 2) for i, j in list(zip(sp_customers_252['SCM_SALES_BMF_list'], \n",
    "                                                                        sp_customers_252['MASK_252_BEF']))]"
   ]
  },
  {
   "cell_type": "code",
   "execution_count": 27,
   "metadata": {
    "ExecuteTime": {
     "end_time": "2018-11-29T15:20:11.422006Z",
     "start_time": "2018-11-29T15:20:11.375006Z"
    }
   },
   "outputs": [],
   "source": [
    "sp_customers_252['SALES_252_AFT'] = [np.round(sum(list(compress(i, j))), 2) for i, j in list(zip(sp_customers_252['SCM_SALES_BMF_list'], \n",
    "                                                                        sp_customers_252['MASK_252_AFT']))]"
   ]
  },
  {
   "cell_type": "code",
   "execution_count": 28,
   "metadata": {
    "ExecuteTime": {
     "end_time": "2018-11-29T15:20:11.487006Z",
     "start_time": "2018-11-29T15:20:11.423006Z"
    }
   },
   "outputs": [],
   "source": [
    "sp_customers_252['AOV_252_BEF'] = [np.round(np.mean(list(compress(i, j))), 2) for i, j in list(zip(sp_customers_252['SCM_SALES_BMF_list'], \n",
    "                                                                        sp_customers_252['MASK_252_BEF']))]"
   ]
  },
  {
   "cell_type": "code",
   "execution_count": 29,
   "metadata": {
    "ExecuteTime": {
     "end_time": "2018-11-29T15:20:11.556006Z",
     "start_time": "2018-11-29T15:20:11.488006Z"
    }
   },
   "outputs": [],
   "source": [
    "sp_customers_252['AOV_252_AFT'] = [np.round(np.mean(list(compress(i, j))), 2) for i, j in list(zip(sp_customers_252['SCM_SALES_BMF_list'], \n",
    "                                                                        sp_customers_252['MASK_252_AFT']))]"
   ]
  },
  {
   "cell_type": "code",
   "execution_count": 30,
   "metadata": {
    "ExecuteTime": {
     "end_time": "2018-11-29T15:20:11.566006Z",
     "start_time": "2018-11-29T15:20:11.557006Z"
    }
   },
   "outputs": [],
   "source": [
    "sp_customers_252['OF_252_BEF'] = [len(list(compress(i, j))) for i, j in list(zip(sp_customers_252['SCM_SALES_BMF_list'], \n",
    "                                                                        sp_customers_252['MASK_252_BEF']))]"
   ]
  },
  {
   "cell_type": "code",
   "execution_count": 31,
   "metadata": {
    "ExecuteTime": {
     "end_time": "2018-11-29T15:20:11.589006Z",
     "start_time": "2018-11-29T15:20:11.568006Z"
    }
   },
   "outputs": [],
   "source": [
    "sp_customers_252['OF_252_AFT'] = [len(list(compress(i, j))) for i, j in list(zip(sp_customers_252['SCM_SALES_BMF_list'], \n",
    "                                                                        sp_customers_252['MASK_252_AFT']))]"
   ]
  },
  {
   "cell_type": "code",
   "execution_count": 32,
   "metadata": {
    "ExecuteTime": {
     "end_time": "2018-11-29T15:20:11.609006Z",
     "start_time": "2018-11-29T15:20:11.591006Z"
    }
   },
   "outputs": [],
   "source": [
    "sp_customers_252['CM1_252_BEF'] = [list(compress(i, j)) for i, j in list(zip(sp_customers_252['SCM_D_FINANCE_CM1_list'], \n",
    "                                                                        sp_customers_252['MASK_252_BEF']))]"
   ]
  },
  {
   "cell_type": "code",
   "execution_count": 33,
   "metadata": {
    "ExecuteTime": {
     "end_time": "2018-11-29T15:20:11.627006Z",
     "start_time": "2018-11-29T15:20:11.610006Z"
    }
   },
   "outputs": [],
   "source": [
    "sp_customers_252['CM1_252_AFT'] = [list(compress(i, j)) for i, j in list(zip(sp_customers_252['SCM_D_FINANCE_CM1_list'], \n",
    "                                                                        sp_customers_252['MASK_252_AFT']))]"
   ]
  },
  {
   "cell_type": "code",
   "execution_count": 34,
   "metadata": {
    "ExecuteTime": {
     "end_time": "2018-11-29T15:20:11.648006Z",
     "start_time": "2018-11-29T15:20:11.629006Z"
    }
   },
   "outputs": [],
   "source": [
    "sp_customers_252['CM2_252_BEF'] = [list(compress(i, j)) for i, j in list(zip(sp_customers_252['SCM_D_FINANCE_CM2_list'], \n",
    "                                                                        sp_customers_252['MASK_252_BEF']))]"
   ]
  },
  {
   "cell_type": "code",
   "execution_count": 35,
   "metadata": {
    "ExecuteTime": {
     "end_time": "2018-11-29T15:20:11.670006Z",
     "start_time": "2018-11-29T15:20:11.649006Z"
    }
   },
   "outputs": [],
   "source": [
    "sp_customers_252['CM2_252_AFT'] = [list(compress(i, j)) for i, j in list(zip(sp_customers_252['SCM_D_FINANCE_CM2_list'], \n",
    "                                                                        sp_customers_252['MASK_252_AFT']))]"
   ]
  },
  {
   "cell_type": "code",
   "execution_count": 36,
   "metadata": {
    "ExecuteTime": {
     "end_time": "2018-11-29T15:20:11.693006Z",
     "start_time": "2018-11-29T15:20:11.671006Z"
    }
   },
   "outputs": [],
   "source": [
    "sp_customers_252['NET_SALES_252_BEF'] = [list(compress(i, j)) for i, j in list(zip(sp_customers_252['SCM_D_ORIG_FINANCE_ORDER_NET_list'], \n",
    "                                                                        sp_customers_252['MASK_252_BEF']))]"
   ]
  },
  {
   "cell_type": "code",
   "execution_count": 37,
   "metadata": {
    "ExecuteTime": {
     "end_time": "2018-11-29T15:20:11.711006Z",
     "start_time": "2018-11-29T15:20:11.695006Z"
    }
   },
   "outputs": [],
   "source": [
    "sp_customers_252['NET_SALES_252_AFT'] = [list(compress(i, j)) for i, j in list(zip(sp_customers_252['SCM_D_ORIG_FINANCE_ORDER_NET_list'], \n",
    "                                                                        sp_customers_252['MASK_252_AFT']))]"
   ]
  },
  {
   "cell_type": "code",
   "execution_count": 38,
   "metadata": {
    "ExecuteTime": {
     "end_time": "2018-11-29T15:20:11.758006Z",
     "start_time": "2018-11-29T15:20:11.712006Z"
    }
   },
   "outputs": [],
   "source": [
    "sp_customers_252['CM1%_252_BEF'] = [np.round(sum(x) / sum(y) * 100, 2) if sum(y) != 0 else 0 \n",
    "                                    for x, y in list(zip(sp_customers_252['CM1_252_BEF'], \n",
    "                                                        sp_customers_252['NET_SALES_252_BEF']))]"
   ]
  },
  {
   "cell_type": "code",
   "execution_count": 39,
   "metadata": {
    "ExecuteTime": {
     "end_time": "2018-11-29T15:20:11.812006Z",
     "start_time": "2018-11-29T15:20:11.759006Z"
    }
   },
   "outputs": [],
   "source": [
    "sp_customers_252['CM1%_252_AFT'] = [np.round(sum(x) / sum(y) * 100, 2) if sum(y) != 0 else 0 \n",
    "                                    for x, y in list(zip(sp_customers_252['CM1_252_AFT'], \n",
    "                                                        sp_customers_252['NET_SALES_252_AFT']))]"
   ]
  },
  {
   "cell_type": "code",
   "execution_count": 40,
   "metadata": {
    "ExecuteTime": {
     "end_time": "2018-11-29T15:20:11.849006Z",
     "start_time": "2018-11-29T15:20:11.813006Z"
    }
   },
   "outputs": [],
   "source": [
    "sp_customers_252['CM2%_252_BEF'] = [np.round(sum(x) / sum(y) * 100, 2) if sum(y) != 0 else 0 \n",
    "                                    for x, y in list(zip(sp_customers_252['CM2_252_BEF'], \n",
    "                                                        sp_customers_252['NET_SALES_252_BEF']))]"
   ]
  },
  {
   "cell_type": "code",
   "execution_count": 41,
   "metadata": {
    "ExecuteTime": {
     "end_time": "2018-11-29T15:20:11.891006Z",
     "start_time": "2018-11-29T15:20:11.850006Z"
    }
   },
   "outputs": [],
   "source": [
    "sp_customers_252['CM2%_252_AFT'] = [np.round(sum(x) / sum(y) * 100, 2) if sum(y) != 0 else 0 \n",
    "                                    for x, y in list(zip(sp_customers_252['CM2_252_AFT'], \n",
    "                                                        sp_customers_252['NET_SALES_252_AFT']))]"
   ]
  },
  {
   "cell_type": "code",
   "execution_count": 42,
   "metadata": {
    "ExecuteTime": {
     "end_time": "2018-11-29T15:20:11.908006Z",
     "start_time": "2018-11-29T15:20:11.892006Z"
    }
   },
   "outputs": [],
   "source": [
    "sp_customers_252['PG3_252_BEF_AGGSALES'] = [list(compress(i, j)) for i, j in list(zip(sp_customers_252['PG3_AGGSALES'], \n",
    "                                                                               sp_customers_252['MASK_252_BEF']))]"
   ]
  },
  {
   "cell_type": "code",
   "execution_count": 43,
   "metadata": {
    "ExecuteTime": {
     "end_time": "2018-11-29T15:20:11.932006Z",
     "start_time": "2018-11-29T15:20:11.909006Z"
    }
   },
   "outputs": [],
   "source": [
    "sp_customers_252['PG3_252_AFT_AGGSALES'] = [list(compress(i, j)) for i, j in list(zip(sp_customers_252['PG3_AGGSALES'], \n",
    "                                                                               sp_customers_252['MASK_252_AFT']))]"
   ]
  },
  {
   "cell_type": "code",
   "execution_count": 44,
   "metadata": {
    "ExecuteTime": {
     "end_time": "2018-11-29T15:20:11.952006Z",
     "start_time": "2018-11-29T15:20:11.934006Z"
    }
   },
   "outputs": [],
   "source": [
    "sp_customers_252['PG3_252_BEF_FLAT_SALES'] = [[k for j in i for k in j] for i in sp_customers_252['PG3_252_BEF_AGGSALES']]"
   ]
  },
  {
   "cell_type": "code",
   "execution_count": 45,
   "metadata": {
    "ExecuteTime": {
     "end_time": "2018-11-29T15:20:11.973006Z",
     "start_time": "2018-11-29T15:20:11.953006Z"
    }
   },
   "outputs": [],
   "source": [
    "sp_customers_252['PG3_252_AFT_FLAT_SALES'] = [[k for j in i for k in j] for i in sp_customers_252['PG3_252_AFT_AGGSALES']]"
   ]
  },
  {
   "cell_type": "code",
   "execution_count": 46,
   "metadata": {
    "ExecuteTime": {
     "end_time": "2018-11-29T15:20:12.158006Z",
     "start_time": "2018-11-29T15:20:11.974006Z"
    }
   },
   "outputs": [],
   "source": [
    "sp_customers_252['PG3_TOTAL_SALES_252_BEF'] = [sorted([(pg3, np.round(sum([sales_ for pg_3_, sales_ in i if pg3==pg_3_\n",
    "                                                        ]), 3)) \n",
    "                                        for pg3 in set([pg_3 for pg_3, sales in i])], key= lambda x: x[1], reverse=True) \n",
    "                                        for i in sp_customers_252['PG3_252_BEF_FLAT_SALES']]"
   ]
  },
  {
   "cell_type": "code",
   "execution_count": 47,
   "metadata": {
    "ExecuteTime": {
     "end_time": "2018-11-29T15:20:12.373006Z",
     "start_time": "2018-11-29T15:20:12.159006Z"
    }
   },
   "outputs": [],
   "source": [
    "sp_customers_252['PG3_TOTAL_SALES_252_AFT'] = [sorted([(pg3, np.round(sum([sales_ for pg_3_, sales_ in i if pg3==pg_3_\n",
    "                                                        ]), 3)) \n",
    "                                        for pg3 in set([pg_3 for pg_3, sales in i])], key= lambda x: x[1], reverse=True) \n",
    "                                        for i in sp_customers_252['PG3_252_AFT_FLAT_SALES']]"
   ]
  },
  {
   "cell_type": "code",
   "execution_count": 48,
   "metadata": {
    "ExecuteTime": {
     "end_time": "2018-11-29T15:20:12.384006Z",
     "start_time": "2018-11-29T15:20:12.374006Z"
    }
   },
   "outputs": [],
   "source": [
    "sp_customers_252['DICT_PG3_SALES_252_BEF'] = [{j[0]: j[1] for j in i if j[0] != 0} \n",
    "                                               for i in sp_customers_252['PG3_TOTAL_SALES_252_BEF'].values]"
   ]
  },
  {
   "cell_type": "code",
   "execution_count": 49,
   "metadata": {
    "ExecuteTime": {
     "end_time": "2018-11-29T15:20:12.405006Z",
     "start_time": "2018-11-29T15:20:12.386006Z"
    }
   },
   "outputs": [],
   "source": [
    "sp_customers_252['DICT_PG3_SALES_252_AFT'] = [{j[0]: j[1] for j in i if j[0] != 0} \n",
    "                                               for i in sp_customers_252['PG3_TOTAL_SALES_252_AFT'].values]"
   ]
  },
  {
   "cell_type": "code",
   "execution_count": 50,
   "metadata": {
    "ExecuteTime": {
     "end_time": "2018-11-29T15:20:12.556006Z",
     "start_time": "2018-11-29T15:20:12.406006Z"
    }
   },
   "outputs": [],
   "source": [
    "sp_customers_252['DICT_PG3_SHARE_252_BEF'] = [{a: np.round(b/sum(i.values())*100, 2) \n",
    "                                               for a, b in list(zip(i.keys(), i.values()))}\n",
    "                                               for i in sp_customers_252['DICT_PG3_SALES_252_BEF'].values]"
   ]
  },
  {
   "cell_type": "code",
   "execution_count": 51,
   "metadata": {
    "ExecuteTime": {
     "end_time": "2018-11-29T15:20:12.741006Z",
     "start_time": "2018-11-29T15:20:12.557006Z"
    }
   },
   "outputs": [],
   "source": [
    "sp_customers_252['DICT_PG3_SHARE_252_AFT'] = [{a: np.round(b/sum(i.values())*100, 2) \n",
    "                                               for a, b in list(zip(i.keys(), i.values()))}\n",
    "                                               for i in sp_customers_252['DICT_PG3_SALES_252_AFT'].values]"
   ]
  },
  {
   "cell_type": "code",
   "execution_count": 52,
   "metadata": {
    "ExecuteTime": {
     "end_time": "2018-11-29T15:20:12.747006Z",
     "start_time": "2018-11-29T15:20:12.743006Z"
    }
   },
   "outputs": [],
   "source": [
    "sp_customers_252['DIFF_PG3_252_BEF'] = [len(i.keys()) for i in sp_customers_252['DICT_PG3_SHARE_252_BEF']]"
   ]
  },
  {
   "cell_type": "code",
   "execution_count": 53,
   "metadata": {
    "ExecuteTime": {
     "end_time": "2018-11-29T15:20:12.764006Z",
     "start_time": "2018-11-29T15:20:12.749006Z"
    }
   },
   "outputs": [],
   "source": [
    "sp_customers_252['DIFF_PG3_252_AFT'] = [len(i.keys()) for i in sp_customers_252['DICT_PG3_SHARE_252_AFT']]"
   ]
  },
  {
   "cell_type": "markdown",
   "metadata": {},
   "source": [
    "#### Total Sales"
   ]
  },
  {
   "cell_type": "code",
   "execution_count": 54,
   "metadata": {
    "ExecuteTime": {
     "end_time": "2018-11-29T15:20:13.265006Z",
     "start_time": "2018-11-29T15:20:12.766006Z"
    }
   },
   "outputs": [
    {
     "data": {
      "image/png": "[encoded data removed]",
      "text/plain": [
       "<matplotlib.figure.Figure at 0xcf02908>"
      ]
     },
     "metadata": {},
     "output_type": "display_data"
    },
    {
     "data": {
      "text/html": [
       "<div>\n",
       "<style scoped>\n",
       "    .dataframe tbody tr th:only-of-type {\n",
       "        vertical-align: middle;\n",
       "    }\n",
       "\n",
       "    .dataframe tbody tr th {\n",
       "        vertical-align: top;\n",
       "    }\n",
       "\n",
       "    .dataframe thead th {\n",
       "        text-align: right;\n",
       "    }\n",
       "</style>\n",
       "<table border=\"1\" class=\"dataframe\">\n",
       "  <thead>\n",
       "    <tr style=\"text-align: right;\">\n",
       "      <th></th>\n",
       "      <th>252 days before</th>\n",
       "      <th>252 days after</th>\n",
       "    </tr>\n",
       "  </thead>\n",
       "  <tbody>\n",
       "    <tr>\n",
       "      <th>count</th>\n",
       "      <td>3281.00</td>\n",
       "      <td>3281.00</td>\n",
       "    </tr>\n",
       "    <tr>\n",
       "      <th>mean</th>\n",
       "      <td>263.08</td>\n",
       "      <td>359.78</td>\n",
       "    </tr>\n",
       "    <tr>\n",
       "      <th>std</th>\n",
       "      <td>268.72</td>\n",
       "      <td>363.99</td>\n",
       "    </tr>\n",
       "    <tr>\n",
       "      <th>min</th>\n",
       "      <td>2.90</td>\n",
       "      <td>2.39</td>\n",
       "    </tr>\n",
       "    <tr>\n",
       "      <th>25%</th>\n",
       "      <td>108.93</td>\n",
       "      <td>177.88</td>\n",
       "    </tr>\n",
       "    <tr>\n",
       "      <th>50%</th>\n",
       "      <td>201.40</td>\n",
       "      <td>286.61</td>\n",
       "    </tr>\n",
       "    <tr>\n",
       "      <th>75%</th>\n",
       "      <td>332.68</td>\n",
       "      <td>445.26</td>\n",
       "    </tr>\n",
       "    <tr>\n",
       "      <th>max</th>\n",
       "      <td>6912.98</td>\n",
       "      <td>13342.51</td>\n",
       "    </tr>\n",
       "  </tbody>\n",
       "</table>\n",
       "</div>"
      ],
      "text/plain": [
       "       252 days before  252 days after\n",
       "count          3281.00         3281.00\n",
       "mean            263.08          359.78\n",
       "std             268.72          363.99\n",
       "min               2.90            2.39\n",
       "25%             108.93          177.88\n",
       "50%             201.40          286.61\n",
       "75%             332.68          445.26\n",
       "max            6912.98        13342.51"
      ]
     },
     "metadata": {},
     "output_type": "display_data"
    }
   ],
   "source": [
    "concat_df = pd.DataFrame()\n",
    "\n",
    "sns.set()\n",
    "plt.figure(figsize=(12,8))\n",
    "plt.title('Histograms showing total sales per customer in 252 days before/after SP purchasing', fontsize=14)\n",
    "plt.ylabel('Customers')\n",
    "plt.xlabel('Sales')\n",
    "\n",
    "sp_customers_252['SALES_252_BEF'].hist(bins=100, range=(0, 1000), alpha=0.5)\n",
    "sp_customers_252['SALES_252_AFT'].hist(bins=100, range=(0, 1000), alpha=0.5)\n",
    "plt.legend(['252 days before', '252 days after'])\n",
    "concat_df = pd.concat([concat_df,\n",
    "                    pd.DataFrame(sp_customers_252['SALES_252_BEF'].describe().round(2)),\n",
    "                    pd.DataFrame(sp_customers_252['SALES_252_AFT'].describe().round(2)),\n",
    "                        ], axis=1)\n",
    "plt.show() \n",
    "\n",
    "concat_df.columns = ['252 days before', '252 days after']\n",
    "display(concat_df)"
   ]
  },
  {
   "cell_type": "markdown",
   "metadata": {},
   "source": [
    "#### AOV"
   ]
  },
  {
   "cell_type": "code",
   "execution_count": 55,
   "metadata": {
    "ExecuteTime": {
     "end_time": "2018-11-29T15:20:13.585006Z",
     "start_time": "2018-11-29T15:20:13.266006Z"
    }
   },
   "outputs": [
    {
     "data": {
      "image/png": "[encoded data removed]",
      "text/plain": [
       "<matplotlib.figure.Figure at 0xcf7fc50>"
      ]
     },
     "metadata": {},
     "output_type": "display_data"
    },
    {
     "data": {
      "text/html": [
       "<div>\n",
       "<style scoped>\n",
       "    .dataframe tbody tr th:only-of-type {\n",
       "        vertical-align: middle;\n",
       "    }\n",
       "\n",
       "    .dataframe tbody tr th {\n",
       "        vertical-align: top;\n",
       "    }\n",
       "\n",
       "    .dataframe thead th {\n",
       "        text-align: right;\n",
       "    }\n",
       "</style>\n",
       "<table border=\"1\" class=\"dataframe\">\n",
       "  <thead>\n",
       "    <tr style=\"text-align: right;\">\n",
       "      <th></th>\n",
       "      <th>252 days before</th>\n",
       "      <th>252 days after</th>\n",
       "    </tr>\n",
       "  </thead>\n",
       "  <tbody>\n",
       "    <tr>\n",
       "      <th>count</th>\n",
       "      <td>3281.00</td>\n",
       "      <td>3281.00</td>\n",
       "    </tr>\n",
       "    <tr>\n",
       "      <th>mean</th>\n",
       "      <td>70.75</td>\n",
       "      <td>69.44</td>\n",
       "    </tr>\n",
       "    <tr>\n",
       "      <th>std</th>\n",
       "      <td>33.12</td>\n",
       "      <td>30.54</td>\n",
       "    </tr>\n",
       "    <tr>\n",
       "      <th>min</th>\n",
       "      <td>2.90</td>\n",
       "      <td>2.39</td>\n",
       "    </tr>\n",
       "    <tr>\n",
       "      <th>25%</th>\n",
       "      <td>49.81</td>\n",
       "      <td>50.12</td>\n",
       "    </tr>\n",
       "    <tr>\n",
       "      <th>50%</th>\n",
       "      <td>62.52</td>\n",
       "      <td>62.62</td>\n",
       "    </tr>\n",
       "    <tr>\n",
       "      <th>75%</th>\n",
       "      <td>83.88</td>\n",
       "      <td>80.90</td>\n",
       "    </tr>\n",
       "    <tr>\n",
       "      <th>max</th>\n",
       "      <td>356.79</td>\n",
       "      <td>355.46</td>\n",
       "    </tr>\n",
       "  </tbody>\n",
       "</table>\n",
       "</div>"
      ],
      "text/plain": [
       "       252 days before  252 days after\n",
       "count          3281.00         3281.00\n",
       "mean             70.75           69.44\n",
       "std              33.12           30.54\n",
       "min               2.90            2.39\n",
       "25%              49.81           50.12\n",
       "50%              62.52           62.62\n",
       "75%              83.88           80.90\n",
       "max             356.79          355.46"
      ]
     },
     "metadata": {},
     "output_type": "display_data"
    }
   ],
   "source": [
    "concat_df = pd.DataFrame()\n",
    "\n",
    "sns.set()\n",
    "plt.figure(figsize=(12,8))\n",
    "plt.title('Histograms showing AOV per customer in 252 days before/after SP purchasing', fontsize=14)\n",
    "plt.ylabel('Customers')\n",
    "plt.xlabel('AOV')\n",
    "\n",
    "sp_customers_252['AOV_252_BEF'].hist(bins=50, range=(0, 250), alpha=0.5)\n",
    "sp_customers_252['AOV_252_AFT'].hist(bins=50, range=(0, 250), alpha=0.5)\n",
    "plt.legend(['252 days before', '252 days after'])\n",
    "concat_df = pd.concat([concat_df,\n",
    "                    pd.DataFrame(sp_customers_252['AOV_252_BEF'].describe().round(2)),\n",
    "                    pd.DataFrame(sp_customers_252['AOV_252_AFT'].describe().round(2)),\n",
    "                        ], axis=1)\n",
    "plt.show() \n",
    "\n",
    "concat_df.columns = ['252 days before', '252 days after']\n",
    "display(concat_df)"
   ]
  },
  {
   "cell_type": "markdown",
   "metadata": {},
   "source": [
    "#### Order Frequency"
   ]
  },
  {
   "cell_type": "code",
   "execution_count": 56,
   "metadata": {
    "ExecuteTime": {
     "end_time": "2018-11-29T15:20:13.829006Z",
     "start_time": "2018-11-29T15:20:13.587006Z"
    }
   },
   "outputs": [
    {
     "data": {
      "image/png": "[encoded data removed]",
      "text/plain": [
       "<matplotlib.figure.Figure at 0xd46c7f0>"
      ]
     },
     "metadata": {},
     "output_type": "display_data"
    },
    {
     "data": {
      "text/html": [
       "<div>\n",
       "<style scoped>\n",
       "    .dataframe tbody tr th:only-of-type {\n",
       "        vertical-align: middle;\n",
       "    }\n",
       "\n",
       "    .dataframe tbody tr th {\n",
       "        vertical-align: top;\n",
       "    }\n",
       "\n",
       "    .dataframe thead th {\n",
       "        text-align: right;\n",
       "    }\n",
       "</style>\n",
       "<table border=\"1\" class=\"dataframe\">\n",
       "  <thead>\n",
       "    <tr style=\"text-align: right;\">\n",
       "      <th></th>\n",
       "      <th>252 days before</th>\n",
       "      <th>252 days after</th>\n",
       "    </tr>\n",
       "  </thead>\n",
       "  <tbody>\n",
       "    <tr>\n",
       "      <th>count</th>\n",
       "      <td>3281.00</td>\n",
       "      <td>3281.00</td>\n",
       "    </tr>\n",
       "    <tr>\n",
       "      <th>mean</th>\n",
       "      <td>3.72</td>\n",
       "      <td>5.14</td>\n",
       "    </tr>\n",
       "    <tr>\n",
       "      <th>std</th>\n",
       "      <td>2.83</td>\n",
       "      <td>3.74</td>\n",
       "    </tr>\n",
       "    <tr>\n",
       "      <th>min</th>\n",
       "      <td>1.00</td>\n",
       "      <td>1.00</td>\n",
       "    </tr>\n",
       "    <tr>\n",
       "      <th>25%</th>\n",
       "      <td>2.00</td>\n",
       "      <td>3.00</td>\n",
       "    </tr>\n",
       "    <tr>\n",
       "      <th>50%</th>\n",
       "      <td>3.00</td>\n",
       "      <td>4.00</td>\n",
       "    </tr>\n",
       "    <tr>\n",
       "      <th>75%</th>\n",
       "      <td>5.00</td>\n",
       "      <td>6.00</td>\n",
       "    </tr>\n",
       "    <tr>\n",
       "      <th>max</th>\n",
       "      <td>36.00</td>\n",
       "      <td>114.00</td>\n",
       "    </tr>\n",
       "  </tbody>\n",
       "</table>\n",
       "</div>"
      ],
      "text/plain": [
       "       252 days before  252 days after\n",
       "count          3281.00         3281.00\n",
       "mean              3.72            5.14\n",
       "std               2.83            3.74\n",
       "min               1.00            1.00\n",
       "25%               2.00            3.00\n",
       "50%               3.00            4.00\n",
       "75%               5.00            6.00\n",
       "max              36.00          114.00"
      ]
     },
     "metadata": {},
     "output_type": "display_data"
    }
   ],
   "source": [
    "concat_df = pd.DataFrame()\n",
    "\n",
    "sns.set()\n",
    "plt.figure(figsize=(12,8))\n",
    "plt.title('Histograms showing order frequency per customer in 252 days before/after SP purchasing', fontsize=14)\n",
    "plt.ylabel('Customers')\n",
    "plt.xlabel('AOV')\n",
    "\n",
    "sp_customers_252['OF_252_BEF'].hist(bins=20, range=(0, 20), alpha=0.5)\n",
    "sp_customers_252['OF_252_AFT'].hist(bins=20, range=(0, 20), alpha=0.5)\n",
    "plt.legend(['252 days before', '252 days after'])\n",
    "concat_df = pd.concat([concat_df,\n",
    "                    pd.DataFrame(sp_customers_252['OF_252_BEF'].describe().round(2)),\n",
    "                    pd.DataFrame(sp_customers_252['OF_252_AFT'].describe().round(2)),\n",
    "                        ], axis=1)\n",
    "plt.show() \n",
    "\n",
    "concat_df.columns = ['252 days before', '252 days after']\n",
    "display(concat_df)"
   ]
  },
  {
   "cell_type": "markdown",
   "metadata": {},
   "source": [
    "#### CM1% & CM2%"
   ]
  },
  {
   "cell_type": "code",
   "execution_count": 57,
   "metadata": {
    "ExecuteTime": {
     "end_time": "2018-11-29T15:20:14.289006Z",
     "start_time": "2018-11-29T15:20:13.830006Z"
    }
   },
   "outputs": [
    {
     "data": {
      "image/png": "[encoded data removed]",
      "text/plain": [
       "<matplotlib.figure.Figure at 0xdff0fd0>"
      ]
     },
     "metadata": {},
     "output_type": "display_data"
    },
    {
     "data": {
      "text/html": [
       "<div>\n",
       "<style scoped>\n",
       "    .dataframe tbody tr th:only-of-type {\n",
       "        vertical-align: middle;\n",
       "    }\n",
       "\n",
       "    .dataframe tbody tr th {\n",
       "        vertical-align: top;\n",
       "    }\n",
       "\n",
       "    .dataframe thead th {\n",
       "        text-align: right;\n",
       "    }\n",
       "</style>\n",
       "<table border=\"1\" class=\"dataframe\">\n",
       "  <thead>\n",
       "    <tr style=\"text-align: right;\">\n",
       "      <th></th>\n",
       "      <th>252 days before</th>\n",
       "      <th>252 days after</th>\n",
       "    </tr>\n",
       "  </thead>\n",
       "  <tbody>\n",
       "    <tr>\n",
       "      <th>count</th>\n",
       "      <td>3281.00</td>\n",
       "      <td>3281.00</td>\n",
       "    </tr>\n",
       "    <tr>\n",
       "      <th>mean</th>\n",
       "      <td>35.07</td>\n",
       "      <td>35.51</td>\n",
       "    </tr>\n",
       "    <tr>\n",
       "      <th>std</th>\n",
       "      <td>8.55</td>\n",
       "      <td>8.17</td>\n",
       "    </tr>\n",
       "    <tr>\n",
       "      <th>min</th>\n",
       "      <td>-0.53</td>\n",
       "      <td>-19.89</td>\n",
       "    </tr>\n",
       "    <tr>\n",
       "      <th>25%</th>\n",
       "      <td>29.39</td>\n",
       "      <td>29.98</td>\n",
       "    </tr>\n",
       "    <tr>\n",
       "      <th>50%</th>\n",
       "      <td>34.04</td>\n",
       "      <td>34.63</td>\n",
       "    </tr>\n",
       "    <tr>\n",
       "      <th>75%</th>\n",
       "      <td>39.61</td>\n",
       "      <td>39.89</td>\n",
       "    </tr>\n",
       "    <tr>\n",
       "      <th>max</th>\n",
       "      <td>100.00</td>\n",
       "      <td>100.00</td>\n",
       "    </tr>\n",
       "  </tbody>\n",
       "</table>\n",
       "</div>"
      ],
      "text/plain": [
       "       252 days before  252 days after\n",
       "count          3281.00         3281.00\n",
       "mean             35.07           35.51\n",
       "std               8.55            8.17\n",
       "min              -0.53          -19.89\n",
       "25%              29.39           29.98\n",
       "50%              34.04           34.63\n",
       "75%              39.61           39.89\n",
       "max             100.00          100.00"
      ]
     },
     "metadata": {},
     "output_type": "display_data"
    }
   ],
   "source": [
    "concat_df = pd.DataFrame()\n",
    "\n",
    "sns.set()\n",
    "plt.figure(figsize=(12,8))\n",
    "plt.title('Histograms showing CM1% per SP customer in 252 days before/after SP purchasing', fontsize=14)\n",
    "plt.ylabel('Customers')\n",
    "plt.xlabel('CM1%')\n",
    "\n",
    "sp_customers_252['CM1%_252_BEF'].hist(bins=100, range=(-20, 80), alpha=0.5)\n",
    "sp_customers_252['CM1%_252_AFT'].hist(bins=100, range=(-20, 80), alpha=0.5)\n",
    "plt.legend(['252 days before', '252 days after'])\n",
    "concat_df = pd.concat([concat_df,\n",
    "                    pd.DataFrame(sp_customers_252['CM1%_252_BEF'].describe().round(2)),\n",
    "                    pd.DataFrame(sp_customers_252['CM1%_252_AFT'].describe().round(2)),\n",
    "                        ], axis=1)\n",
    "plt.show() \n",
    "\n",
    "concat_df.columns = ['252 days before', '252 days after']\n",
    "display(concat_df)"
   ]
  },
  {
   "cell_type": "code",
   "execution_count": 58,
   "metadata": {
    "ExecuteTime": {
     "end_time": "2018-11-29T15:20:14.746006Z",
     "start_time": "2018-11-29T15:20:14.291006Z"
    }
   },
   "outputs": [
    {
     "data": {
      "image/png": "[encoded data removed]",
      "text/plain": [
       "<matplotlib.figure.Figure at 0xe0407f0>"
      ]
     },
     "metadata": {},
     "output_type": "display_data"
    },
    {
     "data": {
      "text/html": [
       "<div>\n",
       "<style scoped>\n",
       "    .dataframe tbody tr th:only-of-type {\n",
       "        vertical-align: middle;\n",
       "    }\n",
       "\n",
       "    .dataframe tbody tr th {\n",
       "        vertical-align: top;\n",
       "    }\n",
       "\n",
       "    .dataframe thead th {\n",
       "        text-align: right;\n",
       "    }\n",
       "</style>\n",
       "<table border=\"1\" class=\"dataframe\">\n",
       "  <thead>\n",
       "    <tr style=\"text-align: right;\">\n",
       "      <th></th>\n",
       "      <th>252 days before</th>\n",
       "      <th>252 days after</th>\n",
       "    </tr>\n",
       "  </thead>\n",
       "  <tbody>\n",
       "    <tr>\n",
       "      <th>count</th>\n",
       "      <td>3281.00</td>\n",
       "      <td>3281.00</td>\n",
       "    </tr>\n",
       "    <tr>\n",
       "      <th>mean</th>\n",
       "      <td>16.70</td>\n",
       "      <td>16.79</td>\n",
       "    </tr>\n",
       "    <tr>\n",
       "      <th>std</th>\n",
       "      <td>7.23</td>\n",
       "      <td>6.65</td>\n",
       "    </tr>\n",
       "    <tr>\n",
       "      <th>min</th>\n",
       "      <td>-21.45</td>\n",
       "      <td>-27.73</td>\n",
       "    </tr>\n",
       "    <tr>\n",
       "      <th>25%</th>\n",
       "      <td>12.79</td>\n",
       "      <td>12.85</td>\n",
       "    </tr>\n",
       "    <tr>\n",
       "      <th>50%</th>\n",
       "      <td>16.18</td>\n",
       "      <td>15.95</td>\n",
       "    </tr>\n",
       "    <tr>\n",
       "      <th>75%</th>\n",
       "      <td>20.34</td>\n",
       "      <td>20.25</td>\n",
       "    </tr>\n",
       "    <tr>\n",
       "      <th>max</th>\n",
       "      <td>100.00</td>\n",
       "      <td>100.00</td>\n",
       "    </tr>\n",
       "  </tbody>\n",
       "</table>\n",
       "</div>"
      ],
      "text/plain": [
       "       252 days before  252 days after\n",
       "count          3281.00         3281.00\n",
       "mean             16.70           16.79\n",
       "std               7.23            6.65\n",
       "min             -21.45          -27.73\n",
       "25%              12.79           12.85\n",
       "50%              16.18           15.95\n",
       "75%              20.34           20.25\n",
       "max             100.00          100.00"
      ]
     },
     "metadata": {},
     "output_type": "display_data"
    }
   ],
   "source": [
    "concat_df = pd.DataFrame()\n",
    "\n",
    "sns.set()\n",
    "plt.figure(figsize=(12,8))\n",
    "plt.title('Histograms showing CM2% per SP customer in 252 days before/after SP purchasing', fontsize=14)\n",
    "plt.ylabel('Customers')\n",
    "plt.xlabel('CM2%')\n",
    "\n",
    "sp_customers_252['CM2%_252_BEF'].hist(bins=100, range=(-20, 80), alpha=0.5)\n",
    "sp_customers_252['CM2%_252_AFT'].hist(bins=100, range=(-20, 80), alpha=0.5)\n",
    "plt.legend(['252 days before', '252 days after'])\n",
    "concat_df = pd.concat([concat_df,\n",
    "                    pd.DataFrame(sp_customers_252['CM2%_252_BEF'].describe().round(2)),\n",
    "                    pd.DataFrame(sp_customers_252['CM2%_252_AFT'].describe().round(2)),\n",
    "                        ], axis=1)\n",
    "plt.show() \n",
    "\n",
    "concat_df.columns = ['252 days before', '252 days after']\n",
    "display(concat_df)"
   ]
  },
  {
   "cell_type": "markdown",
   "metadata": {},
   "source": [
    "#### Number of PG3s "
   ]
  },
  {
   "cell_type": "code",
   "execution_count": 59,
   "metadata": {
    "ExecuteTime": {
     "end_time": "2018-11-29T15:20:15.008006Z",
     "start_time": "2018-11-29T15:20:14.747006Z"
    }
   },
   "outputs": [
    {
     "data": {
      "image/png": "[encoded data removed]",
      "text/plain": [
       "<matplotlib.figure.Figure at 0xe1b10b8>"
      ]
     },
     "metadata": {},
     "output_type": "display_data"
    },
    {
     "data": {
      "text/html": [
       "<div>\n",
       "<style scoped>\n",
       "    .dataframe tbody tr th:only-of-type {\n",
       "        vertical-align: middle;\n",
       "    }\n",
       "\n",
       "    .dataframe tbody tr th {\n",
       "        vertical-align: top;\n",
       "    }\n",
       "\n",
       "    .dataframe thead th {\n",
       "        text-align: right;\n",
       "    }\n",
       "</style>\n",
       "<table border=\"1\" class=\"dataframe\">\n",
       "  <thead>\n",
       "    <tr style=\"text-align: right;\">\n",
       "      <th></th>\n",
       "      <th>252 days before</th>\n",
       "      <th>252 days after</th>\n",
       "    </tr>\n",
       "  </thead>\n",
       "  <tbody>\n",
       "    <tr>\n",
       "      <th>count</th>\n",
       "      <td>3281.00</td>\n",
       "      <td>3281.00</td>\n",
       "    </tr>\n",
       "    <tr>\n",
       "      <th>mean</th>\n",
       "      <td>5.08</td>\n",
       "      <td>6.47</td>\n",
       "    </tr>\n",
       "    <tr>\n",
       "      <th>std</th>\n",
       "      <td>3.32</td>\n",
       "      <td>4.00</td>\n",
       "    </tr>\n",
       "    <tr>\n",
       "      <th>min</th>\n",
       "      <td>0.00</td>\n",
       "      <td>0.00</td>\n",
       "    </tr>\n",
       "    <tr>\n",
       "      <th>25%</th>\n",
       "      <td>3.00</td>\n",
       "      <td>3.00</td>\n",
       "    </tr>\n",
       "    <tr>\n",
       "      <th>50%</th>\n",
       "      <td>4.00</td>\n",
       "      <td>6.00</td>\n",
       "    </tr>\n",
       "    <tr>\n",
       "      <th>75%</th>\n",
       "      <td>7.00</td>\n",
       "      <td>9.00</td>\n",
       "    </tr>\n",
       "    <tr>\n",
       "      <th>max</th>\n",
       "      <td>25.00</td>\n",
       "      <td>28.00</td>\n",
       "    </tr>\n",
       "  </tbody>\n",
       "</table>\n",
       "</div>"
      ],
      "text/plain": [
       "       252 days before  252 days after\n",
       "count          3281.00         3281.00\n",
       "mean              5.08            6.47\n",
       "std               3.32            4.00\n",
       "min               0.00            0.00\n",
       "25%               3.00            3.00\n",
       "50%               4.00            6.00\n",
       "75%               7.00            9.00\n",
       "max              25.00           28.00"
      ]
     },
     "metadata": {},
     "output_type": "display_data"
    }
   ],
   "source": [
    "concat_df = pd.DataFrame()\n",
    "\n",
    "sns.set()\n",
    "plt.figure(figsize=(12,8))\n",
    "plt.title('Histograms showing different PG3 bougth per customer in 252 days before/after SP purchasing', fontsize=14)\n",
    "plt.ylabel('Customers')\n",
    "plt.xlabel('different PG3 ')\n",
    "\n",
    "sp_customers_252['DIFF_PG3_252_BEF'].hist(bins=30, range=(0, 30), alpha=0.5)\n",
    "sp_customers_252['DIFF_PG3_252_AFT'].hist(bins=30, range=(0, 30), alpha=0.5)\n",
    "plt.legend(['252 days before', '252 days after'])\n",
    "concat_df = pd.concat([concat_df,\n",
    "                    pd.DataFrame(sp_customers_252['DIFF_PG3_252_BEF'].describe().round(2)),\n",
    "                    pd.DataFrame(sp_customers_252['DIFF_PG3_252_AFT'].describe().round(2)),\n",
    "                        ], axis=1)\n",
    "plt.show() \n",
    "\n",
    "concat_df.columns = ['252 days before', '252 days after']\n",
    "display(concat_df)"
   ]
  },
  {
   "cell_type": "markdown",
   "metadata": {},
   "source": [
    "#### PG3 shares and sales in each group"
   ]
  },
  {
   "cell_type": "code",
   "execution_count": 60,
   "metadata": {
    "ExecuteTime": {
     "end_time": "2018-11-29T15:20:15.014006Z",
     "start_time": "2018-11-29T15:20:15.009006Z"
    }
   },
   "outputs": [],
   "source": [
    "no_sp_flat_pg3_sales = [j for i in sp_customers_252['PG3_252_BEF_FLAT_SALES'].values for j in i]"
   ]
  },
  {
   "cell_type": "code",
   "execution_count": 61,
   "metadata": {
    "ExecuteTime": {
     "end_time": "2018-11-29T15:20:15.249006Z",
     "start_time": "2018-11-29T15:20:15.016006Z"
    }
   },
   "outputs": [],
   "source": [
    "no_sp_pg3_sales = sorted([(pg3, np.round(sum([sales_ for pg_3_, sales_ in no_sp_flat_pg3_sales if pg3==pg_3_\n",
    "                                                        ]), 3)) \n",
    "                                for pg3 in set([pg_3 for pg_3, sales in no_sp_flat_pg3_sales])], key= lambda x: x[1], reverse=True)"
   ]
  },
  {
   "cell_type": "code",
   "execution_count": 62,
   "metadata": {
    "ExecuteTime": {
     "end_time": "2018-11-29T15:20:15.254006Z",
     "start_time": "2018-11-29T15:20:15.251006Z"
    }
   },
   "outputs": [],
   "source": [
    "no_sp_pg3_dict_sales_no_disc = {i[0]: i[1] for i in no_sp_pg3_sales if i[0] != 0}"
   ]
  },
  {
   "cell_type": "code",
   "execution_count": 63,
   "metadata": {
    "ExecuteTime": {
     "end_time": "2018-11-29T15:20:15.269006Z",
     "start_time": "2018-11-29T15:20:15.255006Z"
    }
   },
   "outputs": [],
   "source": [
    "no_sp_pg3_dict_sales_share = {a: np.round(b/sum(no_sp_pg3_dict_sales_no_disc.values())*100, 3) \n",
    "                                                     for a, b in list(zip(no_sp_pg3_dict_sales_no_disc.keys(),\n",
    "                                                                          no_sp_pg3_dict_sales_no_disc.values()))}"
   ]
  },
  {
   "cell_type": "code",
   "execution_count": 64,
   "metadata": {
    "ExecuteTime": {
     "end_time": "2018-11-29T15:20:15.283006Z",
     "start_time": "2018-11-29T15:20:15.271006Z"
    }
   },
   "outputs": [],
   "source": [
    "filter_no_sp_pg3_dict_sales_share = {x: y for x, y in list(zip(no_sp_pg3_dict_sales_share.keys(),\n",
    "                                                                no_sp_pg3_dict_sales_share.values()))\n",
    "                                            if y >= 1}"
   ]
  },
  {
   "cell_type": "code",
   "execution_count": 65,
   "metadata": {
    "ExecuteTime": {
     "end_time": "2018-11-29T15:20:15.298006Z",
     "start_time": "2018-11-29T15:20:15.284006Z"
    }
   },
   "outputs": [
    {
     "data": {
      "text/plain": [
       "91.30400000000002"
      ]
     },
     "execution_count": 65,
     "metadata": {},
     "output_type": "execute_result"
    }
   ],
   "source": [
    "sum(filter_no_sp_pg3_dict_sales_share.values())"
   ]
  },
  {
   "cell_type": "code",
   "execution_count": 66,
   "metadata": {
    "ExecuteTime": {
     "end_time": "2018-11-29T15:20:15.314006Z",
     "start_time": "2018-11-29T15:20:15.299006Z"
    }
   },
   "outputs": [],
   "source": [
    "sp_flat_pg3_sales = [j for i in sp_customers_252['PG3_252_AFT_FLAT_SALES'].values for j in i]"
   ]
  },
  {
   "cell_type": "code",
   "execution_count": 67,
   "metadata": {
    "ExecuteTime": {
     "end_time": "2018-11-29T15:20:15.630006Z",
     "start_time": "2018-11-29T15:20:15.315006Z"
    }
   },
   "outputs": [],
   "source": [
    "sp_pg3_sales = sorted([(pg3, np.round(sum([sales_ for pg_3_, sales_ in sp_flat_pg3_sales if pg3==pg_3_\n",
    "                                                        ]), 3)) \n",
    "                                for pg3 in set([pg_3 for pg_3, sales in sp_flat_pg3_sales])], key= lambda x: x[1], reverse=True)"
   ]
  },
  {
   "cell_type": "code",
   "execution_count": 68,
   "metadata": {
    "ExecuteTime": {
     "end_time": "2018-11-29T15:20:15.634006Z",
     "start_time": "2018-11-29T15:20:15.631006Z"
    }
   },
   "outputs": [],
   "source": [
    "sp_pg3_dict_sales_no_disc = {i[0]: i[1] for i in sp_pg3_sales if i[0] != 0}"
   ]
  },
  {
   "cell_type": "code",
   "execution_count": 69,
   "metadata": {
    "ExecuteTime": {
     "end_time": "2018-11-29T15:20:15.651006Z",
     "start_time": "2018-11-29T15:20:15.635006Z"
    }
   },
   "outputs": [],
   "source": [
    "sp_pg3_dict_sales_share = {a: np.round(b/sum(sp_pg3_dict_sales_no_disc.values())*100, 3) \n",
    "                                                     for a, b in list(zip(sp_pg3_dict_sales_no_disc.keys(),\n",
    "                                                                          sp_pg3_dict_sales_no_disc.values()))}"
   ]
  },
  {
   "cell_type": "code",
   "execution_count": 70,
   "metadata": {
    "ExecuteTime": {
     "end_time": "2018-11-29T15:20:15.665006Z",
     "start_time": "2018-11-29T15:20:15.652006Z"
    }
   },
   "outputs": [],
   "source": [
    "filter_sp_pg3_dict_sales_share = {x: y for x, y in list(zip(sp_pg3_dict_sales_share.keys(),\n",
    "                                                                    sp_pg3_dict_sales_share.values()))\n",
    "                                            if y >= 1}"
   ]
  },
  {
   "cell_type": "code",
   "execution_count": 71,
   "metadata": {
    "ExecuteTime": {
     "end_time": "2018-11-29T15:20:15.681006Z",
     "start_time": "2018-11-29T15:20:15.667006Z"
    }
   },
   "outputs": [
    {
     "data": {
      "text/plain": [
       "89.56500000000003"
      ]
     },
     "execution_count": 71,
     "metadata": {},
     "output_type": "execute_result"
    }
   ],
   "source": [
    "sum(filter_sp_pg3_dict_sales_share.values())"
   ]
  },
  {
   "cell_type": "code",
   "execution_count": 72,
   "metadata": {
    "ExecuteTime": {
     "end_time": "2018-11-29T15:20:15.694006Z",
     "start_time": "2018-11-29T15:20:15.682006Z"
    }
   },
   "outputs": [],
   "source": [
    "no_sp_cus_pg3_share_df = pd.DataFrame.from_dict(filter_no_sp_pg3_dict_sales_share, orient='index')\n",
    "sp_cus_pg3_share_df = pd.DataFrame.from_dict(filter_sp_pg3_dict_sales_share, orient='index')"
   ]
  },
  {
   "cell_type": "code",
   "execution_count": 73,
   "metadata": {
    "ExecuteTime": {
     "end_time": "2018-11-29T15:20:15.713006Z",
     "start_time": "2018-11-29T15:20:15.696006Z"
    }
   },
   "outputs": [],
   "source": [
    "pg3_share_comparison = pd.concat([no_sp_cus_pg3_share_df,sp_cus_pg3_share_df], axis=1).fillna(0)\n",
    "pg3_share_comparison.columns = ['NO_SP_ORD', 'SP_ORD']\n",
    "pg3_share_comparison['PG3'] = pg3_share_comparison.index.values\n",
    "#pg3_share_comparison['PG3'] = pg3_share_comparison['PG3'].astype(str)\n",
    "pg3_share_comparison = pg3_share_comparison[['PG3', 'NO_SP_ORD', 'SP_ORD']]"
   ]
  },
  {
   "cell_type": "code",
   "execution_count": 74,
   "metadata": {
    "ExecuteTime": {
     "end_time": "2018-11-29T15:20:15.732006Z",
     "start_time": "2018-11-29T15:20:15.714006Z"
    }
   },
   "outputs": [],
   "source": [
    "pg3_l = list(pg3_share_comparison['PG3'].values)"
   ]
  },
  {
   "cell_type": "code",
   "execution_count": 75,
   "metadata": {
    "ExecuteTime": {
     "end_time": "2018-11-29T15:20:15.752006Z",
     "start_time": "2018-11-29T15:20:15.734006Z"
    }
   },
   "outputs": [],
   "source": [
    "pg3_list = repr(pg3_l).replace('[','(').replace(']',')')"
   ]
  },
  {
   "cell_type": "code",
   "execution_count": 76,
   "metadata": {
    "ExecuteTime": {
     "end_time": "2018-11-29T15:20:15.766006Z",
     "start_time": "2018-11-29T15:20:15.754006Z"
    }
   },
   "outputs": [],
   "source": [
    "query = \"\"\"select pg_id, pg_shortlink from ZOOMAN.PRODUCT_GROUPS\n",
    "where pg_id in %s\"\"\" % pg3_list"
   ]
  },
  {
   "cell_type": "code",
   "execution_count": 77,
   "metadata": {
    "ExecuteTime": {
     "end_time": "2018-11-29T15:20:16.363006Z",
     "start_time": "2018-11-29T15:20:15.768006Z"
    }
   },
   "outputs": [],
   "source": [
    "conn = cx_Oracle.connect('zooor', 'zoo12or', 'zoorep', threaded=True, encoding = \"UTF-8\", nencoding = \"UTF-8\")\n",
    "pg3 = pd.read_sql(query, con = conn)\n",
    "conn.close()"
   ]
  },
  {
   "cell_type": "code",
   "execution_count": 78,
   "metadata": {
    "ExecuteTime": {
     "end_time": "2018-11-29T15:20:16.374006Z",
     "start_time": "2018-11-29T15:20:16.364006Z"
    }
   },
   "outputs": [
    {
     "data": {
      "text/html": [
       "<div>\n",
       "<style scoped>\n",
       "    .dataframe tbody tr th:only-of-type {\n",
       "        vertical-align: middle;\n",
       "    }\n",
       "\n",
       "    .dataframe tbody tr th {\n",
       "        vertical-align: top;\n",
       "    }\n",
       "\n",
       "    .dataframe thead th {\n",
       "        text-align: right;\n",
       "    }\n",
       "</style>\n",
       "<table border=\"1\" class=\"dataframe\">\n",
       "  <thead>\n",
       "    <tr style=\"text-align: right;\">\n",
       "      <th></th>\n",
       "      <th>PG_ID</th>\n",
       "      <th>PG_SHORTLINK</th>\n",
       "    </tr>\n",
       "  </thead>\n",
       "  <tbody>\n",
       "    <tr>\n",
       "      <th>0</th>\n",
       "      <td>9</td>\n",
       "      <td>hundebett</td>\n",
       "    </tr>\n",
       "    <tr>\n",
       "      <th>1</th>\n",
       "      <td>18</td>\n",
       "      <td>hundesnacks</td>\n",
       "    </tr>\n",
       "    <tr>\n",
       "      <th>2</th>\n",
       "      <td>20</td>\n",
       "      <td>hundespielzeug</td>\n",
       "    </tr>\n",
       "    <tr>\n",
       "      <th>3</th>\n",
       "      <td>23</td>\n",
       "      <td>kratzbaum_katzenbaum</td>\n",
       "    </tr>\n",
       "    <tr>\n",
       "      <th>4</th>\n",
       "      <td>29</td>\n",
       "      <td>katzentoilette</td>\n",
       "    </tr>\n",
       "    <tr>\n",
       "      <th>5</th>\n",
       "      <td>33</td>\n",
       "      <td>fressnapf</td>\n",
       "    </tr>\n",
       "    <tr>\n",
       "      <th>6</th>\n",
       "      <td>34</td>\n",
       "      <td>katzensnacks</td>\n",
       "    </tr>\n",
       "    <tr>\n",
       "      <th>7</th>\n",
       "      <td>36</td>\n",
       "      <td>katzenspielzeug</td>\n",
       "    </tr>\n",
       "    <tr>\n",
       "      <th>8</th>\n",
       "      <td>251</td>\n",
       "      <td>hundefutter_trockenfutter</td>\n",
       "    </tr>\n",
       "    <tr>\n",
       "      <th>9</th>\n",
       "      <td>252</td>\n",
       "      <td>katzenfutter_trockenfutter</td>\n",
       "    </tr>\n",
       "    <tr>\n",
       "      <th>10</th>\n",
       "      <td>301</td>\n",
       "      <td>katzenstreu</td>\n",
       "    </tr>\n",
       "    <tr>\n",
       "      <th>11</th>\n",
       "      <td>409</td>\n",
       "      <td>hundepflege</td>\n",
       "    </tr>\n",
       "    <tr>\n",
       "      <th>12</th>\n",
       "      <td>857</td>\n",
       "      <td>hundefutter_nassfutter</td>\n",
       "    </tr>\n",
       "    <tr>\n",
       "      <th>13</th>\n",
       "      <td>2068</td>\n",
       "      <td>katzenfutter_dose</td>\n",
       "    </tr>\n",
       "    <tr>\n",
       "      <th>14</th>\n",
       "      <td>2190</td>\n",
       "      <td>hundetransportbox</td>\n",
       "    </tr>\n",
       "    <tr>\n",
       "      <th>15</th>\n",
       "      <td>207553</td>\n",
       "      <td>ungezieferschutz</td>\n",
       "    </tr>\n",
       "  </tbody>\n",
       "</table>\n",
       "</div>"
      ],
      "text/plain": [
       "     PG_ID                PG_SHORTLINK\n",
       "0        9                   hundebett\n",
       "1       18                 hundesnacks\n",
       "2       20              hundespielzeug\n",
       "3       23        kratzbaum_katzenbaum\n",
       "4       29              katzentoilette\n",
       "5       33                   fressnapf\n",
       "6       34                katzensnacks\n",
       "7       36             katzenspielzeug\n",
       "8      251   hundefutter_trockenfutter\n",
       "9      252  katzenfutter_trockenfutter\n",
       "10     301                 katzenstreu\n",
       "11     409                 hundepflege\n",
       "12     857      hundefutter_nassfutter\n",
       "13    2068           katzenfutter_dose\n",
       "14    2190           hundetransportbox\n",
       "15  207553            ungezieferschutz"
      ]
     },
     "execution_count": 78,
     "metadata": {},
     "output_type": "execute_result"
    }
   ],
   "source": [
    "pg3"
   ]
  },
  {
   "cell_type": "code",
   "execution_count": 79,
   "metadata": {
    "ExecuteTime": {
     "end_time": "2018-11-29T15:20:16.395006Z",
     "start_time": "2018-11-29T15:20:16.376006Z"
    }
   },
   "outputs": [],
   "source": [
    "pg3_dict = {x: y for x, y in list(zip(pg3['PG_ID'].values, pg3['PG_SHORTLINK'].values))}"
   ]
  },
  {
   "cell_type": "code",
   "execution_count": 80,
   "metadata": {
    "ExecuteTime": {
     "end_time": "2018-11-29T15:20:18.243006Z",
     "start_time": "2018-11-29T15:20:16.396006Z"
    }
   },
   "outputs": [],
   "source": [
    "pg3_share_comparison['PG3_NAME'] = [pg3_dict[i] for i in pg3_share_comparison['PG3'].values]"
   ]
  },
  {
   "cell_type": "code",
   "execution_count": 81,
   "metadata": {
    "ExecuteTime": {
     "end_time": "2018-11-29T15:20:18.265006Z",
     "start_time": "2018-11-29T15:20:18.244006Z"
    }
   },
   "outputs": [
    {
     "data": {
      "text/html": [
       "<div>\n",
       "<style scoped>\n",
       "    .dataframe tbody tr th:only-of-type {\n",
       "        vertical-align: middle;\n",
       "    }\n",
       "\n",
       "    .dataframe tbody tr th {\n",
       "        vertical-align: top;\n",
       "    }\n",
       "\n",
       "    .dataframe thead th {\n",
       "        text-align: right;\n",
       "    }\n",
       "</style>\n",
       "<table border=\"1\" class=\"dataframe\">\n",
       "  <thead>\n",
       "    <tr style=\"text-align: right;\">\n",
       "      <th></th>\n",
       "      <th>PG3</th>\n",
       "      <th>NO_SP_ORD</th>\n",
       "      <th>SP_ORD</th>\n",
       "      <th>PG3_NAME</th>\n",
       "    </tr>\n",
       "  </thead>\n",
       "  <tbody>\n",
       "    <tr>\n",
       "      <th>9</th>\n",
       "      <td>9</td>\n",
       "      <td>1.522</td>\n",
       "      <td>1.778</td>\n",
       "      <td>hundebett</td>\n",
       "    </tr>\n",
       "    <tr>\n",
       "      <th>18</th>\n",
       "      <td>18</td>\n",
       "      <td>3.938</td>\n",
       "      <td>3.473</td>\n",
       "      <td>hundesnacks</td>\n",
       "    </tr>\n",
       "    <tr>\n",
       "      <th>20</th>\n",
       "      <td>20</td>\n",
       "      <td>1.150</td>\n",
       "      <td>1.266</td>\n",
       "      <td>hundespielzeug</td>\n",
       "    </tr>\n",
       "    <tr>\n",
       "      <th>23</th>\n",
       "      <td>23</td>\n",
       "      <td>1.888</td>\n",
       "      <td>3.441</td>\n",
       "      <td>kratzbaum_katzenbaum</td>\n",
       "    </tr>\n",
       "    <tr>\n",
       "      <th>29</th>\n",
       "      <td>29</td>\n",
       "      <td>2.121</td>\n",
       "      <td>2.697</td>\n",
       "      <td>katzentoilette</td>\n",
       "    </tr>\n",
       "    <tr>\n",
       "      <th>33</th>\n",
       "      <td>33</td>\n",
       "      <td>1.281</td>\n",
       "      <td>1.653</td>\n",
       "      <td>fressnapf</td>\n",
       "    </tr>\n",
       "    <tr>\n",
       "      <th>34</th>\n",
       "      <td>34</td>\n",
       "      <td>1.579</td>\n",
       "      <td>1.324</td>\n",
       "      <td>katzensnacks</td>\n",
       "    </tr>\n",
       "    <tr>\n",
       "      <th>36</th>\n",
       "      <td>36</td>\n",
       "      <td>1.295</td>\n",
       "      <td>1.527</td>\n",
       "      <td>katzenspielzeug</td>\n",
       "    </tr>\n",
       "    <tr>\n",
       "      <th>251</th>\n",
       "      <td>251</td>\n",
       "      <td>34.223</td>\n",
       "      <td>32.355</td>\n",
       "      <td>hundefutter_trockenfutter</td>\n",
       "    </tr>\n",
       "    <tr>\n",
       "      <th>252</th>\n",
       "      <td>252</td>\n",
       "      <td>17.696</td>\n",
       "      <td>17.174</td>\n",
       "      <td>katzenfutter_trockenfutter</td>\n",
       "    </tr>\n",
       "    <tr>\n",
       "      <th>301</th>\n",
       "      <td>301</td>\n",
       "      <td>6.883</td>\n",
       "      <td>6.086</td>\n",
       "      <td>katzenstreu</td>\n",
       "    </tr>\n",
       "    <tr>\n",
       "      <th>409</th>\n",
       "      <td>409</td>\n",
       "      <td>1.510</td>\n",
       "      <td>1.670</td>\n",
       "      <td>hundepflege</td>\n",
       "    </tr>\n",
       "    <tr>\n",
       "      <th>857</th>\n",
       "      <td>857</td>\n",
       "      <td>3.293</td>\n",
       "      <td>2.406</td>\n",
       "      <td>hundefutter_nassfutter</td>\n",
       "    </tr>\n",
       "    <tr>\n",
       "      <th>2068</th>\n",
       "      <td>2068</td>\n",
       "      <td>10.977</td>\n",
       "      <td>9.316</td>\n",
       "      <td>katzenfutter_dose</td>\n",
       "    </tr>\n",
       "    <tr>\n",
       "      <th>2190</th>\n",
       "      <td>2190</td>\n",
       "      <td>0.000</td>\n",
       "      <td>1.508</td>\n",
       "      <td>hundetransportbox</td>\n",
       "    </tr>\n",
       "    <tr>\n",
       "      <th>207553</th>\n",
       "      <td>207553</td>\n",
       "      <td>1.948</td>\n",
       "      <td>1.891</td>\n",
       "      <td>ungezieferschutz</td>\n",
       "    </tr>\n",
       "  </tbody>\n",
       "</table>\n",
       "</div>"
      ],
      "text/plain": [
       "           PG3  NO_SP_ORD  SP_ORD                    PG3_NAME\n",
       "9            9      1.522   1.778                   hundebett\n",
       "18          18      3.938   3.473                 hundesnacks\n",
       "20          20      1.150   1.266              hundespielzeug\n",
       "23          23      1.888   3.441        kratzbaum_katzenbaum\n",
       "29          29      2.121   2.697              katzentoilette\n",
       "33          33      1.281   1.653                   fressnapf\n",
       "34          34      1.579   1.324                katzensnacks\n",
       "36          36      1.295   1.527             katzenspielzeug\n",
       "251        251     34.223  32.355   hundefutter_trockenfutter\n",
       "252        252     17.696  17.174  katzenfutter_trockenfutter\n",
       "301        301      6.883   6.086                 katzenstreu\n",
       "409        409      1.510   1.670                 hundepflege\n",
       "857        857      3.293   2.406      hundefutter_nassfutter\n",
       "2068      2068     10.977   9.316           katzenfutter_dose\n",
       "2190      2190      0.000   1.508           hundetransportbox\n",
       "207553  207553      1.948   1.891            ungezieferschutz"
      ]
     },
     "execution_count": 81,
     "metadata": {},
     "output_type": "execute_result"
    }
   ],
   "source": [
    "pg3_share_comparison"
   ]
  },
  {
   "cell_type": "code",
   "execution_count": 82,
   "metadata": {
    "ExecuteTime": {
     "end_time": "2018-11-29T15:20:18.565006Z",
     "start_time": "2018-11-29T15:20:18.266006Z"
    }
   },
   "outputs": [
    {
     "data": {
      "image/png": "[encoded data removed]",
      "text/plain": [
       "<matplotlib.figure.Figure at 0xe46a978>"
      ]
     },
     "metadata": {},
     "output_type": "display_data"
    }
   ],
   "source": [
    "plt.figure(figsize=(12, 12))\n",
    "x = pg3_share_comparison['PG3_NAME'].values\n",
    "y = pg3_share_comparison['NO_SP_ORD'].values\n",
    "z = pg3_share_comparison['SP_ORD'].values\n",
    "plt.barh(x, y, color='g')\n",
    "plt.barh(x, z, color='orange', alpha=0.5)\n",
    "plt.title('PG3 share on orders 252 days before/after SP purchasing', fontsize=14)\n",
    "plt.ylabel('PG3')\n",
    "plt.xlabel('Sales share %')\n",
    "plt.legend(['NO SP Orders', 'SP Orders'])\n",
    "plt.show()"
   ]
  },
  {
   "cell_type": "code",
   "execution_count": 83,
   "metadata": {
    "ExecuteTime": {
     "end_time": "2018-11-29T15:20:18.571006Z",
     "start_time": "2018-11-29T15:20:18.566006Z"
    }
   },
   "outputs": [],
   "source": [
    "no_sp_cus_pg3_sales_df = pd.DataFrame.from_dict(no_sp_pg3_dict_sales_no_disc, orient='index')\n",
    "sp_cus_pg3_sales_df = pd.DataFrame.from_dict(sp_pg3_dict_sales_no_disc, orient='index')"
   ]
  },
  {
   "cell_type": "code",
   "execution_count": 84,
   "metadata": {
    "ExecuteTime": {
     "end_time": "2018-11-29T15:20:18.588006Z",
     "start_time": "2018-11-29T15:20:18.573006Z"
    }
   },
   "outputs": [],
   "source": [
    "pg3_sales_comparison = pd.concat([no_sp_cus_pg3_sales_df, sp_cus_pg3_sales_df], axis=1).fillna(0)\n",
    "pg3_sales_comparison.columns = ['NO_SP_ORD', 'SP_ORD']\n",
    "pg3_sales_comparison['PG3'] = pg3_sales_comparison.index.values\n",
    "#pg3_sales_comparison['PG3'] = pg3_sales_comparison['PG3'].astype(str)"
   ]
  },
  {
   "cell_type": "code",
   "execution_count": 85,
   "metadata": {
    "ExecuteTime": {
     "end_time": "2018-11-29T15:20:18.605006Z",
     "start_time": "2018-11-29T15:20:18.590006Z"
    }
   },
   "outputs": [],
   "source": [
    "pg3_lis = list(pg3_sales_comparison['PG3'].values)"
   ]
  },
  {
   "cell_type": "code",
   "execution_count": 86,
   "metadata": {
    "ExecuteTime": {
     "end_time": "2018-11-29T15:20:18.620006Z",
     "start_time": "2018-11-29T15:20:18.607006Z"
    }
   },
   "outputs": [],
   "source": [
    "pg3_lista = repr(pg3_lis).replace('[','(').replace(']',')')"
   ]
  },
  {
   "cell_type": "code",
   "execution_count": 87,
   "metadata": {
    "ExecuteTime": {
     "end_time": "2018-11-29T15:20:18.634006Z",
     "start_time": "2018-11-29T15:20:18.622006Z"
    }
   },
   "outputs": [],
   "source": [
    "query = \"\"\"select pg_id, pg_shortlink from ZOOMAN.PRODUCT_GROUPS\n",
    "where pg_id in %s\"\"\" % pg3_lista"
   ]
  },
  {
   "cell_type": "code",
   "execution_count": 88,
   "metadata": {
    "ExecuteTime": {
     "end_time": "2018-11-29T15:20:19.147006Z",
     "start_time": "2018-11-29T15:20:18.636006Z"
    }
   },
   "outputs": [],
   "source": [
    "conn = cx_Oracle.connect('zooor', 'zoo12or', 'zoorep', threaded=True, encoding = \"UTF-8\", nencoding = \"UTF-8\")\n",
    "pg3 = pd.read_sql(query, con = conn)\n",
    "conn.close()"
   ]
  },
  {
   "cell_type": "code",
   "execution_count": 89,
   "metadata": {
    "ExecuteTime": {
     "end_time": "2018-11-29T15:20:19.152006Z",
     "start_time": "2018-11-29T15:20:19.149006Z"
    }
   },
   "outputs": [],
   "source": [
    "pg3_dict = {x: y for x, y in list(zip(pg3['PG_ID'].values, pg3['PG_SHORTLINK'].values))}"
   ]
  },
  {
   "cell_type": "code",
   "execution_count": 90,
   "metadata": {
    "ExecuteTime": {
     "end_time": "2018-11-29T15:20:19.166006Z",
     "start_time": "2018-11-29T15:20:19.153006Z"
    }
   },
   "outputs": [],
   "source": [
    "pg3_sales_comparison['PG3_NAME'] = [pg3_dict[i] for i in pg3_sales_comparison['PG3'].values]"
   ]
  },
  {
   "cell_type": "code",
   "execution_count": 91,
   "metadata": {
    "ExecuteTime": {
     "end_time": "2018-11-29T15:20:19.183006Z",
     "start_time": "2018-11-29T15:20:19.168006Z"
    }
   },
   "outputs": [],
   "source": [
    "pg3_sales_comparison = pg3_sales_comparison[['PG3', 'PG3_NAME', 'NO_SP_ORD', 'SP_ORD']]\n",
    "pg3_sales_comparison = pg3_sales_comparison[(pg3_sales_comparison['NO_SP_ORD'] >= 1000) | (pg3_sales_comparison['SP_ORD'] >= 1000)]"
   ]
  },
  {
   "cell_type": "code",
   "execution_count": 92,
   "metadata": {
    "ExecuteTime": {
     "end_time": "2018-11-29T15:20:19.732006Z",
     "start_time": "2018-11-29T15:20:19.184006Z"
    }
   },
   "outputs": [
    {
     "data": {
      "image/png": "[encoded data removed]",
      "text/plain": [
       "<matplotlib.figure.Figure at 0xe46ada0>"
      ]
     },
     "metadata": {},
     "output_type": "display_data"
    }
   ],
   "source": [
    "plt.figure(figsize=(12, 12))\n",
    "x = pg3_sales_comparison['PG3_NAME'].values\n",
    "y = pg3_sales_comparison['NO_SP_ORD'].values\n",
    "z = pg3_sales_comparison['SP_ORD'].values\n",
    "plt.barh(x, y, color='g')\n",
    "plt.barh(x, z, color='orange', alpha=0.5)\n",
    "plt.title('PG3 sales on orders 252 days before/after SP purchasing', fontsize=14)\n",
    "plt.ylabel('PG3')\n",
    "plt.xlabel('Sales')\n",
    "plt.legend(['NO SP Orders', 'SP Orders'])\n",
    "plt.show()"
   ]
  },
  {
   "cell_type": "code",
   "execution_count": 93,
   "metadata": {
    "ExecuteTime": {
     "end_time": "2018-11-29T15:20:19.750006Z",
     "start_time": "2018-11-29T15:20:19.734006Z"
    }
   },
   "outputs": [
    {
     "data": {
      "text/html": [
       "<div>\n",
       "<style scoped>\n",
       "    .dataframe tbody tr th:only-of-type {\n",
       "        vertical-align: middle;\n",
       "    }\n",
       "\n",
       "    .dataframe tbody tr th {\n",
       "        vertical-align: top;\n",
       "    }\n",
       "\n",
       "    .dataframe thead th {\n",
       "        text-align: right;\n",
       "    }\n",
       "</style>\n",
       "<table border=\"1\" class=\"dataframe\">\n",
       "  <thead>\n",
       "    <tr style=\"text-align: right;\">\n",
       "      <th></th>\n",
       "      <th>PG3</th>\n",
       "      <th>PG3_NAME</th>\n",
       "      <th>NO_SP_ORD</th>\n",
       "      <th>SP_ORD</th>\n",
       "    </tr>\n",
       "  </thead>\n",
       "  <tbody>\n",
       "    <tr>\n",
       "      <th>9</th>\n",
       "      <td>9</td>\n",
       "      <td>hundebett</td>\n",
       "      <td>13107.94</td>\n",
       "      <td>21152.39</td>\n",
       "    </tr>\n",
       "    <tr>\n",
       "      <th>15</th>\n",
       "      <td>15</td>\n",
       "      <td>hundeleine_hundehalsband</td>\n",
       "      <td>6629.55</td>\n",
       "      <td>11740.76</td>\n",
       "    </tr>\n",
       "    <tr>\n",
       "      <th>16</th>\n",
       "      <td>16</td>\n",
       "      <td>fressnapf</td>\n",
       "      <td>4149.23</td>\n",
       "      <td>7316.03</td>\n",
       "    </tr>\n",
       "    <tr>\n",
       "      <th>18</th>\n",
       "      <td>18</td>\n",
       "      <td>hundesnacks</td>\n",
       "      <td>33918.27</td>\n",
       "      <td>41303.06</td>\n",
       "    </tr>\n",
       "    <tr>\n",
       "      <th>20</th>\n",
       "      <td>20</td>\n",
       "      <td>hundespielzeug</td>\n",
       "      <td>9906.26</td>\n",
       "      <td>15056.46</td>\n",
       "    </tr>\n",
       "    <tr>\n",
       "      <th>23</th>\n",
       "      <td>23</td>\n",
       "      <td>kratzbaum_katzenbaum</td>\n",
       "      <td>16259.94</td>\n",
       "      <td>40926.45</td>\n",
       "    </tr>\n",
       "    <tr>\n",
       "      <th>29</th>\n",
       "      <td>29</td>\n",
       "      <td>katzentoilette</td>\n",
       "      <td>18269.32</td>\n",
       "      <td>32075.61</td>\n",
       "    </tr>\n",
       "    <tr>\n",
       "      <th>33</th>\n",
       "      <td>33</td>\n",
       "      <td>fressnapf</td>\n",
       "      <td>11037.56</td>\n",
       "      <td>19666.99</td>\n",
       "    </tr>\n",
       "    <tr>\n",
       "      <th>34</th>\n",
       "      <td>34</td>\n",
       "      <td>katzensnacks</td>\n",
       "      <td>13598.09</td>\n",
       "      <td>15753.13</td>\n",
       "    </tr>\n",
       "    <tr>\n",
       "      <th>36</th>\n",
       "      <td>36</td>\n",
       "      <td>katzenspielzeug</td>\n",
       "      <td>11156.17</td>\n",
       "      <td>18166.09</td>\n",
       "    </tr>\n",
       "    <tr>\n",
       "      <th>37</th>\n",
       "      <td>37</td>\n",
       "      <td>transport</td>\n",
       "      <td>2266.69</td>\n",
       "      <td>5448.35</td>\n",
       "    </tr>\n",
       "    <tr>\n",
       "      <th>38</th>\n",
       "      <td>38</td>\n",
       "      <td>katzenfutter_ergaenzung</td>\n",
       "      <td>1970.93</td>\n",
       "      <td>3029.60</td>\n",
       "    </tr>\n",
       "    <tr>\n",
       "      <th>42</th>\n",
       "      <td>42</td>\n",
       "      <td>kaefigzubehoer</td>\n",
       "      <td>1092.38</td>\n",
       "      <td>2196.32</td>\n",
       "    </tr>\n",
       "    <tr>\n",
       "      <th>45</th>\n",
       "      <td>45</td>\n",
       "      <td>futter</td>\n",
       "      <td>5283.32</td>\n",
       "      <td>7231.96</td>\n",
       "    </tr>\n",
       "    <tr>\n",
       "      <th>47</th>\n",
       "      <td>47</td>\n",
       "      <td>spielzeug</td>\n",
       "      <td>748.03</td>\n",
       "      <td>1445.86</td>\n",
       "    </tr>\n",
       "    <tr>\n",
       "      <th>62</th>\n",
       "      <td>62</td>\n",
       "      <td>fischfutter</td>\n",
       "      <td>1706.12</td>\n",
       "      <td>2793.35</td>\n",
       "    </tr>\n",
       "    <tr>\n",
       "      <th>67</th>\n",
       "      <td>67</td>\n",
       "      <td>aquarium_pumpen</td>\n",
       "      <td>1505.92</td>\n",
       "      <td>3453.49</td>\n",
       "    </tr>\n",
       "    <tr>\n",
       "      <th>68</th>\n",
       "      <td>68</td>\n",
       "      <td>wasserpflege_aquarium</td>\n",
       "      <td>530.61</td>\n",
       "      <td>1154.34</td>\n",
       "    </tr>\n",
       "    <tr>\n",
       "      <th>221</th>\n",
       "      <td>221</td>\n",
       "      <td>vogelfutter</td>\n",
       "      <td>1177.44</td>\n",
       "      <td>1785.23</td>\n",
       "    </tr>\n",
       "    <tr>\n",
       "      <th>251</th>\n",
       "      <td>251</td>\n",
       "      <td>hundefutter_trockenfutter</td>\n",
       "      <td>294762.67</td>\n",
       "      <td>384836.53</td>\n",
       "    </tr>\n",
       "    <tr>\n",
       "      <th>252</th>\n",
       "      <td>252</td>\n",
       "      <td>katzenfutter_trockenfutter</td>\n",
       "      <td>152417.29</td>\n",
       "      <td>204267.91</td>\n",
       "    </tr>\n",
       "    <tr>\n",
       "      <th>301</th>\n",
       "      <td>301</td>\n",
       "      <td>katzenstreu</td>\n",
       "      <td>59287.68</td>\n",
       "      <td>72384.29</td>\n",
       "    </tr>\n",
       "    <tr>\n",
       "      <th>305</th>\n",
       "      <td>305</td>\n",
       "      <td>heu_streu</td>\n",
       "      <td>4016.30</td>\n",
       "      <td>6064.42</td>\n",
       "    </tr>\n",
       "    <tr>\n",
       "      <th>401</th>\n",
       "      <td>401</td>\n",
       "      <td>futter_ergaenzung</td>\n",
       "      <td>1381.76</td>\n",
       "      <td>1890.10</td>\n",
       "    </tr>\n",
       "    <tr>\n",
       "      <th>409</th>\n",
       "      <td>409</td>\n",
       "      <td>hundepflege</td>\n",
       "      <td>13003.30</td>\n",
       "      <td>19867.26</td>\n",
       "    </tr>\n",
       "    <tr>\n",
       "      <th>741</th>\n",
       "      <td>741</td>\n",
       "      <td>kaefige_freigehege</td>\n",
       "      <td>1237.90</td>\n",
       "      <td>5207.35</td>\n",
       "    </tr>\n",
       "    <tr>\n",
       "      <th>758</th>\n",
       "      <td>758</td>\n",
       "      <td>kaefig</td>\n",
       "      <td>1119.85</td>\n",
       "      <td>2512.57</td>\n",
       "    </tr>\n",
       "    <tr>\n",
       "      <th>857</th>\n",
       "      <td>857</td>\n",
       "      <td>hundefutter_nassfutter</td>\n",
       "      <td>28364.47</td>\n",
       "      <td>28614.49</td>\n",
       "    </tr>\n",
       "    <tr>\n",
       "      <th>1400</th>\n",
       "      <td>1400</td>\n",
       "      <td>hundefutter_ergaenzung</td>\n",
       "      <td>7410.79</td>\n",
       "      <td>9697.49</td>\n",
       "    </tr>\n",
       "    <tr>\n",
       "      <th>1540</th>\n",
       "      <td>1540</td>\n",
       "      <td>katzenbetten_katzenkissen</td>\n",
       "      <td>4787.98</td>\n",
       "      <td>9166.77</td>\n",
       "    </tr>\n",
       "    <tr>\n",
       "      <th>2068</th>\n",
       "      <td>2068</td>\n",
       "      <td>katzenfutter_dose</td>\n",
       "      <td>94548.42</td>\n",
       "      <td>110801.55</td>\n",
       "    </tr>\n",
       "    <tr>\n",
       "      <th>2155</th>\n",
       "      <td>2155</td>\n",
       "      <td>balkon_garten</td>\n",
       "      <td>3497.70</td>\n",
       "      <td>6731.84</td>\n",
       "    </tr>\n",
       "    <tr>\n",
       "      <th>2190</th>\n",
       "      <td>2190</td>\n",
       "      <td>hundetransportbox</td>\n",
       "      <td>8191.11</td>\n",
       "      <td>17935.44</td>\n",
       "    </tr>\n",
       "    <tr>\n",
       "      <th>2192</th>\n",
       "      <td>2192</td>\n",
       "      <td>hundehuette_hundetuer</td>\n",
       "      <td>3758.48</td>\n",
       "      <td>11096.52</td>\n",
       "    </tr>\n",
       "    <tr>\n",
       "      <th>40023</th>\n",
       "      <td>40023</td>\n",
       "      <td>hundebekleidung_hundemantel</td>\n",
       "      <td>2227.42</td>\n",
       "      <td>2680.32</td>\n",
       "    </tr>\n",
       "    <tr>\n",
       "      <th>48963</th>\n",
       "      <td>48963</td>\n",
       "      <td>sparplan</td>\n",
       "      <td>0.00</td>\n",
       "      <td>3298.98</td>\n",
       "    </tr>\n",
       "    <tr>\n",
       "      <th>49828</th>\n",
       "      <td>49828</td>\n",
       "      <td>freigehege</td>\n",
       "      <td>700.82</td>\n",
       "      <td>2403.33</td>\n",
       "    </tr>\n",
       "    <tr>\n",
       "      <th>153317</th>\n",
       "      <td>153317</td>\n",
       "      <td>sport_training</td>\n",
       "      <td>4104.45</td>\n",
       "      <td>6315.10</td>\n",
       "    </tr>\n",
       "    <tr>\n",
       "      <th>207553</th>\n",
       "      <td>207553</td>\n",
       "      <td>ungezieferschutz</td>\n",
       "      <td>16781.71</td>\n",
       "      <td>22496.33</td>\n",
       "    </tr>\n",
       "    <tr>\n",
       "      <th>207624</th>\n",
       "      <td>207624</td>\n",
       "      <td>ungezieferschutz</td>\n",
       "      <td>1754.76</td>\n",
       "      <td>3110.21</td>\n",
       "    </tr>\n",
       "  </tbody>\n",
       "</table>\n",
       "</div>"
      ],
      "text/plain": [
       "           PG3                     PG3_NAME  NO_SP_ORD     SP_ORD\n",
       "9            9                    hundebett   13107.94   21152.39\n",
       "15          15     hundeleine_hundehalsband    6629.55   11740.76\n",
       "16          16                    fressnapf    4149.23    7316.03\n",
       "18          18                  hundesnacks   33918.27   41303.06\n",
       "20          20               hundespielzeug    9906.26   15056.46\n",
       "23          23         kratzbaum_katzenbaum   16259.94   40926.45\n",
       "29          29               katzentoilette   18269.32   32075.61\n",
       "33          33                    fressnapf   11037.56   19666.99\n",
       "34          34                 katzensnacks   13598.09   15753.13\n",
       "36          36              katzenspielzeug   11156.17   18166.09\n",
       "37          37                    transport    2266.69    5448.35\n",
       "38          38      katzenfutter_ergaenzung    1970.93    3029.60\n",
       "42          42               kaefigzubehoer    1092.38    2196.32\n",
       "45          45                       futter    5283.32    7231.96\n",
       "47          47                    spielzeug     748.03    1445.86\n",
       "62          62                  fischfutter    1706.12    2793.35\n",
       "67          67              aquarium_pumpen    1505.92    3453.49\n",
       "68          68        wasserpflege_aquarium     530.61    1154.34\n",
       "221        221                  vogelfutter    1177.44    1785.23\n",
       "251        251    hundefutter_trockenfutter  294762.67  384836.53\n",
       "252        252   katzenfutter_trockenfutter  152417.29  204267.91\n",
       "301        301                  katzenstreu   59287.68   72384.29\n",
       "305        305                    heu_streu    4016.30    6064.42\n",
       "401        401            futter_ergaenzung    1381.76    1890.10\n",
       "409        409                  hundepflege   13003.30   19867.26\n",
       "741        741           kaefige_freigehege    1237.90    5207.35\n",
       "758        758                       kaefig    1119.85    2512.57\n",
       "857        857       hundefutter_nassfutter   28364.47   28614.49\n",
       "1400      1400       hundefutter_ergaenzung    7410.79    9697.49\n",
       "1540      1540    katzenbetten_katzenkissen    4787.98    9166.77\n",
       "2068      2068            katzenfutter_dose   94548.42  110801.55\n",
       "2155      2155                balkon_garten    3497.70    6731.84\n",
       "2190      2190            hundetransportbox    8191.11   17935.44\n",
       "2192      2192        hundehuette_hundetuer    3758.48   11096.52\n",
       "40023    40023  hundebekleidung_hundemantel    2227.42    2680.32\n",
       "48963    48963                     sparplan       0.00    3298.98\n",
       "49828    49828                   freigehege     700.82    2403.33\n",
       "153317  153317               sport_training    4104.45    6315.10\n",
       "207553  207553             ungezieferschutz   16781.71   22496.33\n",
       "207624  207624             ungezieferschutz    1754.76    3110.21"
      ]
     },
     "execution_count": 93,
     "metadata": {},
     "output_type": "execute_result"
    }
   ],
   "source": [
    "pg3_sales_comparison"
   ]
  },
  {
   "cell_type": "markdown",
   "metadata": {},
   "source": [
    "#### Average Sales Share of Royal Canin products – 252 days orders before/after SP purchasing"
   ]
  },
  {
   "cell_type": "code",
   "execution_count": 94,
   "metadata": {
    "ExecuteTime": {
     "end_time": "2018-11-29T15:20:19.771006Z",
     "start_time": "2018-11-29T15:20:19.752006Z"
    }
   },
   "outputs": [],
   "source": [
    "sp_customers_252['BRAND_SALES_252_BEF'] = [list(compress(i, j)) for i, j in list(zip(sp_customers_252['BRAND_AGGSALES'],\n",
    "                                                                                    sp_customers_252['MASK_252_BEF']))]"
   ]
  },
  {
   "cell_type": "code",
   "execution_count": 95,
   "metadata": {
    "ExecuteTime": {
     "end_time": "2018-11-29T15:20:19.802006Z",
     "start_time": "2018-11-29T15:20:19.772006Z"
    }
   },
   "outputs": [],
   "source": [
    "sp_customers_252['BRAND_SALES_252_AFT'] = [list(compress(i, j)) for i, j in list(zip(sp_customers_252['BRAND_AGGSALES'],\n",
    "                                                                                    sp_customers_252['MASK_252_AFT']))]"
   ]
  },
  {
   "cell_type": "code",
   "execution_count": 96,
   "metadata": {
    "ExecuteTime": {
     "end_time": "2018-11-29T15:20:19.821006Z",
     "start_time": "2018-11-29T15:20:19.803006Z"
    }
   },
   "outputs": [],
   "source": [
    "sp_customers_252['BRAND_FLAT_SALES_252_BEF'] = [[k for j in i for k in j] \n",
    "                                                for i in sp_customers_252['BRAND_SALES_252_BEF'].values]"
   ]
  },
  {
   "cell_type": "code",
   "execution_count": 97,
   "metadata": {
    "ExecuteTime": {
     "end_time": "2018-11-29T15:20:19.847006Z",
     "start_time": "2018-11-29T15:20:19.823006Z"
    }
   },
   "outputs": [],
   "source": [
    "sp_customers_252['BRAND_FLAT_SALES_252_AFT'] = [[k for j in i for k in j] \n",
    "                                                for i in sp_customers_252['BRAND_SALES_252_AFT'].values]"
   ]
  },
  {
   "cell_type": "code",
   "execution_count": 98,
   "metadata": {
    "ExecuteTime": {
     "end_time": "2018-11-29T15:20:19.864006Z",
     "start_time": "2018-11-29T15:20:19.848006Z"
    }
   },
   "outputs": [],
   "source": [
    "no_sp_flat_brand_sales = [j for i in sp_customers_252['BRAND_FLAT_SALES_252_BEF'].values for j in i]"
   ]
  },
  {
   "cell_type": "code",
   "execution_count": 99,
   "metadata": {
    "ExecuteTime": {
     "end_time": "2018-11-29T15:20:19.883006Z",
     "start_time": "2018-11-29T15:20:19.866006Z"
    }
   },
   "outputs": [],
   "source": [
    "sp_flat_brand_sales = [j for i in sp_customers_252['BRAND_FLAT_SALES_252_AFT'].values for j in i]"
   ]
  },
  {
   "cell_type": "code",
   "execution_count": 100,
   "metadata": {
    "ExecuteTime": {
     "end_time": "2018-11-29T15:20:34.951006Z",
     "start_time": "2018-11-29T15:20:19.884006Z"
    }
   },
   "outputs": [],
   "source": [
    "no_sp_brand_sales = sorted([(brand_, np.round(sum([sales_ for brand__, sales_ in no_sp_flat_brand_sales if brand_== brand__\n",
    "                                                        ]), 3)) \n",
    "                                for brand_ in set([brand for brand, sales in no_sp_flat_brand_sales])], key= lambda x: x[1], reverse=True) "
   ]
  },
  {
   "cell_type": "code",
   "execution_count": 101,
   "metadata": {
    "ExecuteTime": {
     "end_time": "2018-11-29T15:21:08.004006Z",
     "start_time": "2018-11-29T15:20:34.953006Z"
    }
   },
   "outputs": [],
   "source": [
    "sp_brand_sales = sorted([(brand_, np.round(sum([sales_ for brand__, sales_ in sp_flat_brand_sales if brand_== brand__\n",
    "                                                        ]), 3)) \n",
    "                                for brand_ in set([brand for brand, sales in sp_flat_brand_sales])], key= lambda x: x[1], reverse=True) "
   ]
  },
  {
   "cell_type": "code",
   "execution_count": 102,
   "metadata": {
    "ExecuteTime": {
     "end_time": "2018-11-29T15:21:08.012006Z",
     "start_time": "2018-11-29T15:21:08.006006Z"
    }
   },
   "outputs": [],
   "source": [
    "no_sp_dict_sales_no_disc = {i[0]: i[1] for i in no_sp_brand_sales if str(i[0]) != 'nan'}"
   ]
  },
  {
   "cell_type": "code",
   "execution_count": 103,
   "metadata": {
    "ExecuteTime": {
     "end_time": "2018-11-29T15:21:08.030006Z",
     "start_time": "2018-11-29T15:21:08.014006Z"
    }
   },
   "outputs": [],
   "source": [
    "sp_dict_sales_no_disc = {i[0]: i[1] for i in sp_brand_sales if str(i[0]) != 'nan'}"
   ]
  },
  {
   "cell_type": "code",
   "execution_count": 104,
   "metadata": {
    "ExecuteTime": {
     "end_time": "2018-11-29T15:21:08.081006Z",
     "start_time": "2018-11-29T15:21:08.032006Z"
    }
   },
   "outputs": [],
   "source": [
    "no_sp_dict_sales_share = {a: np.round(b/sum(no_sp_dict_sales_no_disc.values())*100, 3)\n",
    "                         for a, b in list(zip(no_sp_dict_sales_no_disc.keys(),\n",
    "                                             no_sp_dict_sales_no_disc.values()))}"
   ]
  },
  {
   "cell_type": "code",
   "execution_count": 105,
   "metadata": {
    "ExecuteTime": {
     "end_time": "2018-11-29T15:21:08.121006Z",
     "start_time": "2018-11-29T15:21:08.082006Z"
    }
   },
   "outputs": [],
   "source": [
    "sp_dict_sales_share = {a: np.round(b/sum(sp_dict_sales_no_disc.values())*100, 3)\n",
    "                         for a, b in list(zip(sp_dict_sales_no_disc.keys(),\n",
    "                                             sp_dict_sales_no_disc.values()))}"
   ]
  },
  {
   "cell_type": "code",
   "execution_count": 106,
   "metadata": {
    "ExecuteTime": {
     "end_time": "2018-11-29T15:21:08.127006Z",
     "start_time": "2018-11-29T15:21:08.122006Z"
    }
   },
   "outputs": [
    {
     "data": {
      "text/plain": [
       "(99.99300000000022, 100.00000000000001)"
      ]
     },
     "execution_count": 106,
     "metadata": {},
     "output_type": "execute_result"
    }
   ],
   "source": [
    "sum(no_sp_dict_sales_share.values()), sum(sp_dict_sales_share.values())"
   ]
  },
  {
   "cell_type": "code",
   "execution_count": 107,
   "metadata": {
    "ExecuteTime": {
     "end_time": "2018-11-29T15:21:08.144006Z",
     "start_time": "2018-11-29T15:21:08.128006Z"
    }
   },
   "outputs": [],
   "source": [
    "brands = pd.read_csv('pg4_brands.dsv', sep=';', low_memory=False)"
   ]
  },
  {
   "cell_type": "code",
   "execution_count": 108,
   "metadata": {
    "ExecuteTime": {
     "end_time": "2018-11-29T15:21:08.158006Z",
     "start_time": "2018-11-29T15:21:08.145006Z"
    }
   },
   "outputs": [],
   "source": [
    "brands['BRAND'] = [i.split(' - ')[1] if len(i.split('-')) > 1 else 'unknown' for i in brands['PPR_V_LEVEL4_DESC'].values]"
   ]
  },
  {
   "cell_type": "code",
   "execution_count": 109,
   "metadata": {
    "ExecuteTime": {
     "end_time": "2018-11-29T15:21:08.175006Z",
     "start_time": "2018-11-29T15:21:08.159006Z"
    }
   },
   "outputs": [
    {
     "data": {
      "text/html": [
       "<div>\n",
       "<style scoped>\n",
       "    .dataframe tbody tr th:only-of-type {\n",
       "        vertical-align: middle;\n",
       "    }\n",
       "\n",
       "    .dataframe tbody tr th {\n",
       "        vertical-align: top;\n",
       "    }\n",
       "\n",
       "    .dataframe thead th {\n",
       "        text-align: right;\n",
       "    }\n",
       "</style>\n",
       "<table border=\"1\" class=\"dataframe\">\n",
       "  <thead>\n",
       "    <tr style=\"text-align: right;\">\n",
       "      <th></th>\n",
       "      <th>PPR_N_LEVEL4_ID</th>\n",
       "      <th>PPR_V_LEVEL4_DESC</th>\n",
       "      <th>BRAND</th>\n",
       "    </tr>\n",
       "  </thead>\n",
       "  <tbody>\n",
       "    <tr>\n",
       "      <th>0</th>\n",
       "      <td>20745</td>\n",
       "      <td>20745 - Hundesofa</td>\n",
       "      <td>Hundesofa</td>\n",
       "    </tr>\n",
       "    <tr>\n",
       "      <th>1</th>\n",
       "      <td>2</td>\n",
       "      <td>2 - Hund</td>\n",
       "      <td>Hund</td>\n",
       "    </tr>\n",
       "    <tr>\n",
       "      <th>2</th>\n",
       "      <td>1422</td>\n",
       "      <td>1422 - Spielzeug</td>\n",
       "      <td>Spielzeug</td>\n",
       "    </tr>\n",
       "    <tr>\n",
       "      <th>3</th>\n",
       "      <td>75</td>\n",
       "      <td>75 - Hundekissen</td>\n",
       "      <td>Hundekissen</td>\n",
       "    </tr>\n",
       "    <tr>\n",
       "      <th>4</th>\n",
       "      <td>2157</td>\n",
       "      <td>2157 - Alle Katzenklappen</td>\n",
       "      <td>Alle Katzenklappen</td>\n",
       "    </tr>\n",
       "  </tbody>\n",
       "</table>\n",
       "</div>"
      ],
      "text/plain": [
       "   PPR_N_LEVEL4_ID          PPR_V_LEVEL4_DESC               BRAND\n",
       "0            20745          20745 - Hundesofa           Hundesofa\n",
       "1                2                   2 - Hund                Hund\n",
       "2             1422           1422 - Spielzeug           Spielzeug\n",
       "3               75           75 - Hundekissen         Hundekissen\n",
       "4             2157  2157 - Alle Katzenklappen  Alle Katzenklappen"
      ]
     },
     "execution_count": 109,
     "metadata": {},
     "output_type": "execute_result"
    }
   ],
   "source": [
    "brands.head()"
   ]
  },
  {
   "cell_type": "code",
   "execution_count": 110,
   "metadata": {
    "ExecuteTime": {
     "end_time": "2018-11-29T15:21:08.197006Z",
     "start_time": "2018-11-29T15:21:08.176006Z"
    }
   },
   "outputs": [
    {
     "data": {
      "text/html": [
       "<div>\n",
       "<style scoped>\n",
       "    .dataframe tbody tr th:only-of-type {\n",
       "        vertical-align: middle;\n",
       "    }\n",
       "\n",
       "    .dataframe tbody tr th {\n",
       "        vertical-align: top;\n",
       "    }\n",
       "\n",
       "    .dataframe thead th {\n",
       "        text-align: right;\n",
       "    }\n",
       "</style>\n",
       "<table border=\"1\" class=\"dataframe\">\n",
       "  <thead>\n",
       "    <tr style=\"text-align: right;\">\n",
       "      <th></th>\n",
       "      <th>PPR_N_LEVEL4_ID</th>\n",
       "      <th>BRAND</th>\n",
       "    </tr>\n",
       "  </thead>\n",
       "  <tbody>\n",
       "    <tr>\n",
       "      <th>185</th>\n",
       "      <td>126742</td>\n",
       "      <td>Royal Canin Dog</td>\n",
       "    </tr>\n",
       "    <tr>\n",
       "      <th>257</th>\n",
       "      <td>17798</td>\n",
       "      <td>Royal Canin Breed (Rasse)</td>\n",
       "    </tr>\n",
       "    <tr>\n",
       "      <th>274</th>\n",
       "      <td>1308</td>\n",
       "      <td>Royal Canin Club / Selection</td>\n",
       "    </tr>\n",
       "    <tr>\n",
       "      <th>296</th>\n",
       "      <td>9702</td>\n",
       "      <td>Royal Canin Pure Feline</td>\n",
       "    </tr>\n",
       "    <tr>\n",
       "      <th>444</th>\n",
       "      <td>81396</td>\n",
       "      <td>Royal Canin Veterinary Diet</td>\n",
       "    </tr>\n",
       "    <tr>\n",
       "      <th>449</th>\n",
       "      <td>82696</td>\n",
       "      <td>Royal Canin Veterinary Diet</td>\n",
       "    </tr>\n",
       "    <tr>\n",
       "      <th>477</th>\n",
       "      <td>209912</td>\n",
       "      <td>Royal Canin Vet Care Nutrition</td>\n",
       "    </tr>\n",
       "    <tr>\n",
       "      <th>710</th>\n",
       "      <td>127037</td>\n",
       "      <td>Royal Canin Universal</td>\n",
       "    </tr>\n",
       "    <tr>\n",
       "      <th>790</th>\n",
       "      <td>682</td>\n",
       "      <td>Royal Canin Size</td>\n",
       "    </tr>\n",
       "    <tr>\n",
       "      <th>952</th>\n",
       "      <td>94525</td>\n",
       "      <td>Royal Canin</td>\n",
       "    </tr>\n",
       "    <tr>\n",
       "      <th>1284</th>\n",
       "      <td>126744</td>\n",
       "      <td>Royal Canin Cat</td>\n",
       "    </tr>\n",
       "    <tr>\n",
       "      <th>1309</th>\n",
       "      <td>17963</td>\n",
       "      <td>Royal Canin</td>\n",
       "    </tr>\n",
       "    <tr>\n",
       "      <th>1417</th>\n",
       "      <td>81397</td>\n",
       "      <td>Royal Canin Veterinary Diet</td>\n",
       "    </tr>\n",
       "    <tr>\n",
       "      <th>1423</th>\n",
       "      <td>82943</td>\n",
       "      <td>Royal Canin Veterinary Diet</td>\n",
       "    </tr>\n",
       "    <tr>\n",
       "      <th>1656</th>\n",
       "      <td>81431</td>\n",
       "      <td>Royal Canin Vet Care Nutrition</td>\n",
       "    </tr>\n",
       "    <tr>\n",
       "      <th>1659</th>\n",
       "      <td>218624</td>\n",
       "      <td>Royal Canin Veterinary Diet</td>\n",
       "    </tr>\n",
       "    <tr>\n",
       "      <th>1711</th>\n",
       "      <td>219110</td>\n",
       "      <td>Royal Canin Veterinary Diet</td>\n",
       "    </tr>\n",
       "    <tr>\n",
       "      <th>1794</th>\n",
       "      <td>683</td>\n",
       "      <td>Royal Canin</td>\n",
       "    </tr>\n",
       "    <tr>\n",
       "      <th>1799</th>\n",
       "      <td>261925</td>\n",
       "      <td>Royal Canin Rasse (Breed)</td>\n",
       "    </tr>\n",
       "    <tr>\n",
       "      <th>1922</th>\n",
       "      <td>47745</td>\n",
       "      <td>Royal Canin</td>\n",
       "    </tr>\n",
       "    <tr>\n",
       "      <th>1970</th>\n",
       "      <td>167473</td>\n",
       "      <td>Royal Canin Lifestyle</td>\n",
       "    </tr>\n",
       "  </tbody>\n",
       "</table>\n",
       "</div>"
      ],
      "text/plain": [
       "      PPR_N_LEVEL4_ID                           BRAND\n",
       "185            126742                 Royal Canin Dog\n",
       "257             17798       Royal Canin Breed (Rasse)\n",
       "274              1308    Royal Canin Club / Selection\n",
       "296              9702         Royal Canin Pure Feline\n",
       "444             81396     Royal Canin Veterinary Diet\n",
       "449             82696     Royal Canin Veterinary Diet\n",
       "477            209912  Royal Canin Vet Care Nutrition\n",
       "710            127037           Royal Canin Universal\n",
       "790               682                Royal Canin Size\n",
       "952             94525                     Royal Canin\n",
       "1284           126744                 Royal Canin Cat\n",
       "1309            17963                     Royal Canin\n",
       "1417            81397     Royal Canin Veterinary Diet\n",
       "1423            82943     Royal Canin Veterinary Diet\n",
       "1656            81431  Royal Canin Vet Care Nutrition\n",
       "1659           218624     Royal Canin Veterinary Diet\n",
       "1711           219110     Royal Canin Veterinary Diet\n",
       "1794              683                     Royal Canin\n",
       "1799           261925       Royal Canin Rasse (Breed)\n",
       "1922            47745                     Royal Canin\n",
       "1970           167473           Royal Canin Lifestyle"
      ]
     },
     "execution_count": 110,
     "metadata": {},
     "output_type": "execute_result"
    }
   ],
   "source": [
    "RC_brands = brands[brands['BRAND'].str.contains('Royal Canin')][['PPR_N_LEVEL4_ID', 'BRAND']]\n",
    "RC_brands"
   ]
  },
  {
   "cell_type": "code",
   "execution_count": 111,
   "metadata": {
    "ExecuteTime": {
     "end_time": "2018-11-29T15:21:08.209006Z",
     "start_time": "2018-11-29T15:21:08.198006Z"
    }
   },
   "outputs": [],
   "source": [
    "no_sp_rc_share_dict = {a: b for a, b in list(zip(no_sp_dict_sales_share.keys(), \n",
    "                                                 no_sp_dict_sales_share.values()))\n",
    "                      if a in RC_brands['BRAND'].values}"
   ]
  },
  {
   "cell_type": "code",
   "execution_count": 112,
   "metadata": {
    "ExecuteTime": {
     "end_time": "2018-11-29T15:21:08.225006Z",
     "start_time": "2018-11-29T15:21:08.211006Z"
    }
   },
   "outputs": [
    {
     "data": {
      "text/plain": [
       "{'Royal Canin': 6.089,\n",
       " 'Royal Canin Breed (Rasse)': 2.609,\n",
       " 'Royal Canin Club / Selection': 0.194,\n",
       " 'Royal Canin Dog': 0.0,\n",
       " 'Royal Canin Pure Feline': 0.006,\n",
       " 'Royal Canin Rasse (Breed)': 0.576,\n",
       " 'Royal Canin Size': 4.075,\n",
       " 'Royal Canin Vet Care Nutrition': 0.849,\n",
       " 'Royal Canin Veterinary Diet': 3.732}"
      ]
     },
     "execution_count": 112,
     "metadata": {},
     "output_type": "execute_result"
    }
   ],
   "source": [
    "no_sp_rc_share_dict"
   ]
  },
  {
   "cell_type": "code",
   "execution_count": 113,
   "metadata": {
    "ExecuteTime": {
     "end_time": "2018-11-29T15:21:08.245006Z",
     "start_time": "2018-11-29T15:21:08.226006Z"
    }
   },
   "outputs": [],
   "source": [
    "sp_rc_share_dict = {a: b for a, b in list(zip(sp_dict_sales_share.keys(), \n",
    "                                            sp_dict_sales_share.values()))\n",
    "                      if a in RC_brands['BRAND'].values}"
   ]
  },
  {
   "cell_type": "code",
   "execution_count": 114,
   "metadata": {
    "ExecuteTime": {
     "end_time": "2018-11-29T15:21:08.259006Z",
     "start_time": "2018-11-29T15:21:08.247006Z"
    }
   },
   "outputs": [
    {
     "data": {
      "text/plain": [
       "{'Royal Canin': 5.931,\n",
       " 'Royal Canin Breed (Rasse)': 2.576,\n",
       " 'Royal Canin Cat': 0.001,\n",
       " 'Royal Canin Club / Selection': 0.256,\n",
       " 'Royal Canin Dog': 0.0,\n",
       " 'Royal Canin Pure Feline': 0.019,\n",
       " 'Royal Canin Rasse (Breed)': 0.593,\n",
       " 'Royal Canin Size': 4.301,\n",
       " 'Royal Canin Vet Care Nutrition': 0.797,\n",
       " 'Royal Canin Veterinary Diet': 3.837}"
      ]
     },
     "execution_count": 114,
     "metadata": {},
     "output_type": "execute_result"
    }
   ],
   "source": [
    "sp_rc_share_dict"
   ]
  },
  {
   "cell_type": "code",
   "execution_count": 115,
   "metadata": {
    "ExecuteTime": {
     "end_time": "2018-11-29T15:21:08.272006Z",
     "start_time": "2018-11-29T15:21:08.260006Z"
    }
   },
   "outputs": [],
   "source": [
    "no_sp_rc_share_df = pd.DataFrame.from_dict(no_sp_rc_share_dict, orient='index')\n",
    "sp_rc_share_df = pd.DataFrame.from_dict(sp_rc_share_dict, orient='index')"
   ]
  },
  {
   "cell_type": "code",
   "execution_count": 116,
   "metadata": {
    "ExecuteTime": {
     "end_time": "2018-11-29T15:21:08.294006Z",
     "start_time": "2018-11-29T15:21:08.273006Z"
    }
   },
   "outputs": [
    {
     "data": {
      "text/html": [
       "<div>\n",
       "<style scoped>\n",
       "    .dataframe tbody tr th:only-of-type {\n",
       "        vertical-align: middle;\n",
       "    }\n",
       "\n",
       "    .dataframe tbody tr th {\n",
       "        vertical-align: top;\n",
       "    }\n",
       "\n",
       "    .dataframe thead th {\n",
       "        text-align: right;\n",
       "    }\n",
       "</style>\n",
       "<table border=\"1\" class=\"dataframe\">\n",
       "  <thead>\n",
       "    <tr style=\"text-align: right;\">\n",
       "      <th></th>\n",
       "      <th>BRAND</th>\n",
       "      <th>NO_SP_ORD</th>\n",
       "      <th>SP_ORD</th>\n",
       "    </tr>\n",
       "  </thead>\n",
       "  <tbody>\n",
       "    <tr>\n",
       "      <th>Royal Canin</th>\n",
       "      <td>Royal Canin</td>\n",
       "      <td>6.089</td>\n",
       "      <td>5.931</td>\n",
       "    </tr>\n",
       "    <tr>\n",
       "      <th>Royal Canin Breed (Rasse)</th>\n",
       "      <td>Royal Canin Breed (Rasse)</td>\n",
       "      <td>2.609</td>\n",
       "      <td>2.576</td>\n",
       "    </tr>\n",
       "    <tr>\n",
       "      <th>Royal Canin Cat</th>\n",
       "      <td>Royal Canin Cat</td>\n",
       "      <td>0.000</td>\n",
       "      <td>0.001</td>\n",
       "    </tr>\n",
       "    <tr>\n",
       "      <th>Royal Canin Club / Selection</th>\n",
       "      <td>Royal Canin Club / Selection</td>\n",
       "      <td>0.194</td>\n",
       "      <td>0.256</td>\n",
       "    </tr>\n",
       "    <tr>\n",
       "      <th>Royal Canin Dog</th>\n",
       "      <td>Royal Canin Dog</td>\n",
       "      <td>0.000</td>\n",
       "      <td>0.000</td>\n",
       "    </tr>\n",
       "    <tr>\n",
       "      <th>Royal Canin Pure Feline</th>\n",
       "      <td>Royal Canin Pure Feline</td>\n",
       "      <td>0.006</td>\n",
       "      <td>0.019</td>\n",
       "    </tr>\n",
       "    <tr>\n",
       "      <th>Royal Canin Rasse (Breed)</th>\n",
       "      <td>Royal Canin Rasse (Breed)</td>\n",
       "      <td>0.576</td>\n",
       "      <td>0.593</td>\n",
       "    </tr>\n",
       "    <tr>\n",
       "      <th>Royal Canin Size</th>\n",
       "      <td>Royal Canin Size</td>\n",
       "      <td>4.075</td>\n",
       "      <td>4.301</td>\n",
       "    </tr>\n",
       "    <tr>\n",
       "      <th>Royal Canin Vet Care Nutrition</th>\n",
       "      <td>Royal Canin Vet Care Nutrition</td>\n",
       "      <td>0.849</td>\n",
       "      <td>0.797</td>\n",
       "    </tr>\n",
       "    <tr>\n",
       "      <th>Royal Canin Veterinary Diet</th>\n",
       "      <td>Royal Canin Veterinary Diet</td>\n",
       "      <td>3.732</td>\n",
       "      <td>3.837</td>\n",
       "    </tr>\n",
       "  </tbody>\n",
       "</table>\n",
       "</div>"
      ],
      "text/plain": [
       "                                                         BRAND  NO_SP_ORD  \\\n",
       "Royal Canin                                        Royal Canin      6.089   \n",
       "Royal Canin Breed (Rasse)            Royal Canin Breed (Rasse)      2.609   \n",
       "Royal Canin Cat                                Royal Canin Cat      0.000   \n",
       "Royal Canin Club / Selection      Royal Canin Club / Selection      0.194   \n",
       "Royal Canin Dog                                Royal Canin Dog      0.000   \n",
       "Royal Canin Pure Feline                Royal Canin Pure Feline      0.006   \n",
       "Royal Canin Rasse (Breed)            Royal Canin Rasse (Breed)      0.576   \n",
       "Royal Canin Size                              Royal Canin Size      4.075   \n",
       "Royal Canin Vet Care Nutrition  Royal Canin Vet Care Nutrition      0.849   \n",
       "Royal Canin Veterinary Diet        Royal Canin Veterinary Diet      3.732   \n",
       "\n",
       "                                SP_ORD  \n",
       "Royal Canin                      5.931  \n",
       "Royal Canin Breed (Rasse)        2.576  \n",
       "Royal Canin Cat                  0.001  \n",
       "Royal Canin Club / Selection     0.256  \n",
       "Royal Canin Dog                  0.000  \n",
       "Royal Canin Pure Feline          0.019  \n",
       "Royal Canin Rasse (Breed)        0.593  \n",
       "Royal Canin Size                 4.301  \n",
       "Royal Canin Vet Care Nutrition   0.797  \n",
       "Royal Canin Veterinary Diet      3.837  "
      ]
     },
     "execution_count": 116,
     "metadata": {},
     "output_type": "execute_result"
    }
   ],
   "source": [
    "rc_comparison = pd.concat([no_sp_rc_share_df, sp_rc_share_df], axis=1).fillna(0)\n",
    "rc_comparison.columns = ['NO_SP_ORD', 'SP_ORD']\n",
    "rc_comparison['BRAND'] = rc_comparison.index.values\n",
    "rc_comparison = rc_comparison[['BRAND', 'NO_SP_ORD', 'SP_ORD']]\n",
    "rc_comparison"
   ]
  },
  {
   "cell_type": "code",
   "execution_count": 117,
   "metadata": {
    "ExecuteTime": {
     "end_time": "2018-11-29T15:21:08.529006Z",
     "start_time": "2018-11-29T15:21:08.295006Z"
    }
   },
   "outputs": [
    {
     "data": {
      "image/png": "[encoded data removed]",
      "text/plain": [
       "<matplotlib.figure.Figure at 0xe0799e8>"
      ]
     },
     "metadata": {},
     "output_type": "display_data"
    }
   ],
   "source": [
    "plt.figure(figsize=(12, 12))\n",
    "x = rc_comparison['BRAND'].values\n",
    "y = rc_comparison['NO_SP_ORD'].values\n",
    "z = rc_comparison['SP_ORD'].values\n",
    "plt.barh(x, y, color='g')\n",
    "plt.barh(x, z, color='orange', alpha=0.5)\n",
    "plt.title('Royal Canin sales share in 252 days orders before/after SP purchasing', fontsize=14)\n",
    "plt.ylabel('BRAND')\n",
    "plt.xlabel('Sales share %')\n",
    "plt.legend(['NO SP Orders', 'SP Orders'])\n",
    "plt.show()"
   ]
  },
  {
   "cell_type": "markdown",
   "metadata": {},
   "source": [
    "#### Royal Canin sales -  252 days orders before/after SP purchasing"
   ]
  },
  {
   "cell_type": "code",
   "execution_count": 118,
   "metadata": {
    "ExecuteTime": {
     "end_time": "2018-11-29T15:21:08.539006Z",
     "start_time": "2018-11-29T15:21:08.531006Z"
    }
   },
   "outputs": [],
   "source": [
    "no_sp_rc_sales_dict = {a: b for a, b in list(zip(no_sp_dict_sales_no_disc.keys(), \n",
    "                                            no_sp_dict_sales_no_disc.values()))\n",
    "                      if a in RC_brands['BRAND'].values}"
   ]
  },
  {
   "cell_type": "code",
   "execution_count": 119,
   "metadata": {
    "ExecuteTime": {
     "end_time": "2018-11-29T15:21:08.560006Z",
     "start_time": "2018-11-29T15:21:08.541006Z"
    }
   },
   "outputs": [
    {
     "data": {
      "text/plain": [
       "{'Royal Canin': 52443.83,\n",
       " 'Royal Canin Breed (Rasse)': 22474.22,\n",
       " 'Royal Canin Club / Selection': 1674.72,\n",
       " 'Royal Canin Dog': 0.59,\n",
       " 'Royal Canin Pure Feline': 55.46,\n",
       " 'Royal Canin Rasse (Breed)': 4961.8,\n",
       " 'Royal Canin Size': 35099.26,\n",
       " 'Royal Canin Vet Care Nutrition': 7310.67,\n",
       " 'Royal Canin Veterinary Diet': 32140.47}"
      ]
     },
     "execution_count": 119,
     "metadata": {},
     "output_type": "execute_result"
    }
   ],
   "source": [
    "no_sp_rc_sales_dict"
   ]
  },
  {
   "cell_type": "code",
   "execution_count": 120,
   "metadata": {
    "ExecuteTime": {
     "end_time": "2018-11-29T15:21:08.579006Z",
     "start_time": "2018-11-29T15:21:08.562006Z"
    }
   },
   "outputs": [],
   "source": [
    "sp_rc_sales_dict = {a: b for a, b in list(zip(sp_dict_sales_no_disc.keys(), \n",
    "                                            sp_dict_sales_no_disc.values()))\n",
    "                      if a in RC_brands['BRAND'].values}"
   ]
  },
  {
   "cell_type": "code",
   "execution_count": 121,
   "metadata": {
    "ExecuteTime": {
     "end_time": "2018-11-29T15:21:08.595006Z",
     "start_time": "2018-11-29T15:21:08.581006Z"
    }
   },
   "outputs": [
    {
     "data": {
      "text/plain": [
       "{'Royal Canin': 70541.75,\n",
       " 'Royal Canin Breed (Rasse)': 30637.95,\n",
       " 'Royal Canin Cat': 6.1,\n",
       " 'Royal Canin Club / Selection': 3041.87,\n",
       " 'Royal Canin Dog': 0.59,\n",
       " 'Royal Canin Pure Feline': 222.34,\n",
       " 'Royal Canin Rasse (Breed)': 7050.82,\n",
       " 'Royal Canin Size': 51152.55,\n",
       " 'Royal Canin Vet Care Nutrition': 9484.29,\n",
       " 'Royal Canin Veterinary Diet': 45638.79}"
      ]
     },
     "execution_count": 121,
     "metadata": {},
     "output_type": "execute_result"
    }
   ],
   "source": [
    "sp_rc_sales_dict"
   ]
  },
  {
   "cell_type": "code",
   "execution_count": 122,
   "metadata": {
    "ExecuteTime": {
     "end_time": "2018-11-29T15:21:08.610006Z",
     "start_time": "2018-11-29T15:21:08.596006Z"
    }
   },
   "outputs": [],
   "source": [
    "no_sp_rc_sales_df = pd.DataFrame.from_dict(no_sp_rc_sales_dict, orient='index')\n",
    "sp_rc_sales_df = pd.DataFrame.from_dict(sp_rc_sales_dict, orient='index')"
   ]
  },
  {
   "cell_type": "code",
   "execution_count": 123,
   "metadata": {
    "ExecuteTime": {
     "end_time": "2018-11-29T15:21:08.634006Z",
     "start_time": "2018-11-29T15:21:08.612006Z"
    }
   },
   "outputs": [
    {
     "data": {
      "text/html": [
       "<div>\n",
       "<style scoped>\n",
       "    .dataframe tbody tr th:only-of-type {\n",
       "        vertical-align: middle;\n",
       "    }\n",
       "\n",
       "    .dataframe tbody tr th {\n",
       "        vertical-align: top;\n",
       "    }\n",
       "\n",
       "    .dataframe thead th {\n",
       "        text-align: right;\n",
       "    }\n",
       "</style>\n",
       "<table border=\"1\" class=\"dataframe\">\n",
       "  <thead>\n",
       "    <tr style=\"text-align: right;\">\n",
       "      <th></th>\n",
       "      <th>BRAND</th>\n",
       "      <th>NO_SP_ORD</th>\n",
       "      <th>SP_ORD</th>\n",
       "    </tr>\n",
       "  </thead>\n",
       "  <tbody>\n",
       "    <tr>\n",
       "      <th>Royal Canin</th>\n",
       "      <td>Royal Canin</td>\n",
       "      <td>52443.83</td>\n",
       "      <td>70541.75</td>\n",
       "    </tr>\n",
       "    <tr>\n",
       "      <th>Royal Canin Breed (Rasse)</th>\n",
       "      <td>Royal Canin Breed (Rasse)</td>\n",
       "      <td>22474.22</td>\n",
       "      <td>30637.95</td>\n",
       "    </tr>\n",
       "    <tr>\n",
       "      <th>Royal Canin Cat</th>\n",
       "      <td>Royal Canin Cat</td>\n",
       "      <td>0.00</td>\n",
       "      <td>6.10</td>\n",
       "    </tr>\n",
       "    <tr>\n",
       "      <th>Royal Canin Club / Selection</th>\n",
       "      <td>Royal Canin Club / Selection</td>\n",
       "      <td>1674.72</td>\n",
       "      <td>3041.87</td>\n",
       "    </tr>\n",
       "    <tr>\n",
       "      <th>Royal Canin Dog</th>\n",
       "      <td>Royal Canin Dog</td>\n",
       "      <td>0.59</td>\n",
       "      <td>0.59</td>\n",
       "    </tr>\n",
       "    <tr>\n",
       "      <th>Royal Canin Pure Feline</th>\n",
       "      <td>Royal Canin Pure Feline</td>\n",
       "      <td>55.46</td>\n",
       "      <td>222.34</td>\n",
       "    </tr>\n",
       "    <tr>\n",
       "      <th>Royal Canin Rasse (Breed)</th>\n",
       "      <td>Royal Canin Rasse (Breed)</td>\n",
       "      <td>4961.80</td>\n",
       "      <td>7050.82</td>\n",
       "    </tr>\n",
       "    <tr>\n",
       "      <th>Royal Canin Size</th>\n",
       "      <td>Royal Canin Size</td>\n",
       "      <td>35099.26</td>\n",
       "      <td>51152.55</td>\n",
       "    </tr>\n",
       "    <tr>\n",
       "      <th>Royal Canin Vet Care Nutrition</th>\n",
       "      <td>Royal Canin Vet Care Nutrition</td>\n",
       "      <td>7310.67</td>\n",
       "      <td>9484.29</td>\n",
       "    </tr>\n",
       "    <tr>\n",
       "      <th>Royal Canin Veterinary Diet</th>\n",
       "      <td>Royal Canin Veterinary Diet</td>\n",
       "      <td>32140.47</td>\n",
       "      <td>45638.79</td>\n",
       "    </tr>\n",
       "  </tbody>\n",
       "</table>\n",
       "</div>"
      ],
      "text/plain": [
       "                                                         BRAND  NO_SP_ORD  \\\n",
       "Royal Canin                                        Royal Canin   52443.83   \n",
       "Royal Canin Breed (Rasse)            Royal Canin Breed (Rasse)   22474.22   \n",
       "Royal Canin Cat                                Royal Canin Cat       0.00   \n",
       "Royal Canin Club / Selection      Royal Canin Club / Selection    1674.72   \n",
       "Royal Canin Dog                                Royal Canin Dog       0.59   \n",
       "Royal Canin Pure Feline                Royal Canin Pure Feline      55.46   \n",
       "Royal Canin Rasse (Breed)            Royal Canin Rasse (Breed)    4961.80   \n",
       "Royal Canin Size                              Royal Canin Size   35099.26   \n",
       "Royal Canin Vet Care Nutrition  Royal Canin Vet Care Nutrition    7310.67   \n",
       "Royal Canin Veterinary Diet        Royal Canin Veterinary Diet   32140.47   \n",
       "\n",
       "                                  SP_ORD  \n",
       "Royal Canin                     70541.75  \n",
       "Royal Canin Breed (Rasse)       30637.95  \n",
       "Royal Canin Cat                     6.10  \n",
       "Royal Canin Club / Selection     3041.87  \n",
       "Royal Canin Dog                     0.59  \n",
       "Royal Canin Pure Feline           222.34  \n",
       "Royal Canin Rasse (Breed)        7050.82  \n",
       "Royal Canin Size                51152.55  \n",
       "Royal Canin Vet Care Nutrition   9484.29  \n",
       "Royal Canin Veterinary Diet     45638.79  "
      ]
     },
     "execution_count": 123,
     "metadata": {},
     "output_type": "execute_result"
    }
   ],
   "source": [
    "rc_sales_comparison = pd.concat([no_sp_rc_sales_df, sp_rc_sales_df], axis=1).fillna(0)\n",
    "rc_sales_comparison.columns = ['NO_SP_ORD', 'SP_ORD']\n",
    "rc_sales_comparison['BRAND'] = rc_sales_comparison.index.values\n",
    "rc_sales_comparison = rc_sales_comparison[['BRAND', 'NO_SP_ORD', 'SP_ORD']]\n",
    "rc_sales_comparison"
   ]
  },
  {
   "cell_type": "code",
   "execution_count": 124,
   "metadata": {
    "ExecuteTime": {
     "end_time": "2018-11-29T15:21:08.877006Z",
     "start_time": "2018-11-29T15:21:08.635006Z"
    }
   },
   "outputs": [
    {
     "data": {
      "image/png": "[encoded data removed]",
      "text/plain": [
       "<matplotlib.figure.Figure at 0xe0c8a58>"
      ]
     },
     "metadata": {},
     "output_type": "display_data"
    }
   ],
   "source": [
    "plt.figure(figsize=(12, 12))\n",
    "x = rc_sales_comparison['BRAND'].values\n",
    "y = rc_sales_comparison['NO_SP_ORD'].values\n",
    "z = rc_sales_comparison['SP_ORD'].values\n",
    "plt.barh(x, y, color='g')\n",
    "plt.barh(x, z, color='orange', alpha=0.5)\n",
    "plt.title('Royal Canin sales in 252 days orders before/after SP purchasing', fontsize=14)\n",
    "plt.ylabel('BRAND')\n",
    "plt.xlabel('Sales')\n",
    "plt.legend(['NO SP Orders', 'SP Orders'])\n",
    "plt.show()"
   ]
  },
  {
   "cell_type": "markdown",
   "metadata": {},
   "source": [
    "#### Average Sales Share of Hill's products – 252 days orders before/after SP purchasing"
   ]
  },
  {
   "cell_type": "code",
   "execution_count": 125,
   "metadata": {
    "ExecuteTime": {
     "end_time": "2018-11-29T15:21:08.890006Z",
     "start_time": "2018-11-29T15:21:08.878006Z"
    }
   },
   "outputs": [
    {
     "data": {
      "text/html": [
       "<div>\n",
       "<style scoped>\n",
       "    .dataframe tbody tr th:only-of-type {\n",
       "        vertical-align: middle;\n",
       "    }\n",
       "\n",
       "    .dataframe tbody tr th {\n",
       "        vertical-align: top;\n",
       "    }\n",
       "\n",
       "    .dataframe thead th {\n",
       "        text-align: right;\n",
       "    }\n",
       "</style>\n",
       "<table border=\"1\" class=\"dataframe\">\n",
       "  <thead>\n",
       "    <tr style=\"text-align: right;\">\n",
       "      <th></th>\n",
       "      <th>PPR_N_LEVEL4_ID</th>\n",
       "      <th>BRAND</th>\n",
       "    </tr>\n",
       "  </thead>\n",
       "  <tbody>\n",
       "    <tr>\n",
       "      <th>13</th>\n",
       "      <td>719</td>\n",
       "      <td>Hill's Science Plan</td>\n",
       "    </tr>\n",
       "    <tr>\n",
       "      <th>188</th>\n",
       "      <td>84729</td>\n",
       "      <td>Hill's Prescription Diet</td>\n",
       "    </tr>\n",
       "    <tr>\n",
       "      <th>261</th>\n",
       "      <td>1816</td>\n",
       "      <td>Hill's Puppy &amp; Senior</td>\n",
       "    </tr>\n",
       "    <tr>\n",
       "      <th>270</th>\n",
       "      <td>2058</td>\n",
       "      <td>Hill's Natures Best</td>\n",
       "    </tr>\n",
       "    <tr>\n",
       "      <th>295</th>\n",
       "      <td>720</td>\n",
       "      <td>Hill's Science Plan</td>\n",
       "    </tr>\n",
       "    <tr>\n",
       "      <th>472</th>\n",
       "      <td>151599</td>\n",
       "      <td>Hill's Prescription Diet</td>\n",
       "    </tr>\n",
       "    <tr>\n",
       "      <th>735</th>\n",
       "      <td>175240</td>\n",
       "      <td>Hill's Ideal Balance</td>\n",
       "    </tr>\n",
       "    <tr>\n",
       "      <th>736</th>\n",
       "      <td>177843</td>\n",
       "      <td>Hill's Ideal Balance</td>\n",
       "    </tr>\n",
       "    <tr>\n",
       "      <th>1150</th>\n",
       "      <td>31962</td>\n",
       "      <td>Hill's Prescription Diet</td>\n",
       "    </tr>\n",
       "    <tr>\n",
       "      <th>1381</th>\n",
       "      <td>31963</td>\n",
       "      <td>Hill's Prescription Diet</td>\n",
       "    </tr>\n",
       "    <tr>\n",
       "      <th>1530</th>\n",
       "      <td>2057</td>\n",
       "      <td>Nature's Best von Hill's</td>\n",
       "    </tr>\n",
       "    <tr>\n",
       "      <th>1677</th>\n",
       "      <td>127127</td>\n",
       "      <td>Hill's Dog</td>\n",
       "    </tr>\n",
       "    <tr>\n",
       "      <th>1683</th>\n",
       "      <td>96660</td>\n",
       "      <td>Hill's Prescription Diet</td>\n",
       "    </tr>\n",
       "    <tr>\n",
       "      <th>1735</th>\n",
       "      <td>39494</td>\n",
       "      <td>Hill's</td>\n",
       "    </tr>\n",
       "    <tr>\n",
       "      <th>1910</th>\n",
       "      <td>39209</td>\n",
       "      <td>Hill's Prescription Diet</td>\n",
       "    </tr>\n",
       "    <tr>\n",
       "      <th>1958</th>\n",
       "      <td>127247</td>\n",
       "      <td>Hill's Cat</td>\n",
       "    </tr>\n",
       "  </tbody>\n",
       "</table>\n",
       "</div>"
      ],
      "text/plain": [
       "      PPR_N_LEVEL4_ID                     BRAND\n",
       "13                719       Hill's Science Plan\n",
       "188             84729  Hill's Prescription Diet\n",
       "261              1816     Hill's Puppy & Senior\n",
       "270              2058       Hill's Natures Best\n",
       "295               720       Hill's Science Plan\n",
       "472            151599  Hill's Prescription Diet\n",
       "735            175240      Hill's Ideal Balance\n",
       "736            177843      Hill's Ideal Balance\n",
       "1150            31962  Hill's Prescription Diet\n",
       "1381            31963  Hill's Prescription Diet\n",
       "1530             2057  Nature's Best von Hill's\n",
       "1677           127127                Hill's Dog\n",
       "1683            96660  Hill's Prescription Diet\n",
       "1735            39494                    Hill's\n",
       "1910            39209  Hill's Prescription Diet\n",
       "1958           127247                Hill's Cat"
      ]
     },
     "execution_count": 125,
     "metadata": {},
     "output_type": "execute_result"
    }
   ],
   "source": [
    "Hills_brands = brands[brands['BRAND'].str.contains(\"Hill's\")][['PPR_N_LEVEL4_ID', 'BRAND']]\n",
    "Hills_brands"
   ]
  },
  {
   "cell_type": "code",
   "execution_count": 126,
   "metadata": {
    "ExecuteTime": {
     "end_time": "2018-11-29T15:21:08.914006Z",
     "start_time": "2018-11-29T15:21:08.891006Z"
    }
   },
   "outputs": [],
   "source": [
    "no_sp_hills_share_dict = {a: b for a, b in list(zip(no_sp_dict_sales_share.keys(), \n",
    "                                                 no_sp_dict_sales_share.values()))\n",
    "                      if a in Hills_brands['BRAND'].values}"
   ]
  },
  {
   "cell_type": "code",
   "execution_count": 127,
   "metadata": {
    "ExecuteTime": {
     "end_time": "2018-11-29T15:21:08.934006Z",
     "start_time": "2018-11-29T15:21:08.916006Z"
    }
   },
   "outputs": [
    {
     "data": {
      "text/plain": [
       "{\"Hill's Ideal Balance\": 0.13,\n",
       " \"Hill's Natures Best\": 0.085,\n",
       " \"Hill's Prescription Diet\": 8.465,\n",
       " \"Hill's Science Plan\": 2.74,\n",
       " \"Nature's Best von Hill's\": 0.057}"
      ]
     },
     "execution_count": 127,
     "metadata": {},
     "output_type": "execute_result"
    }
   ],
   "source": [
    "no_sp_hills_share_dict"
   ]
  },
  {
   "cell_type": "code",
   "execution_count": 128,
   "metadata": {
    "ExecuteTime": {
     "end_time": "2018-11-29T15:21:08.953006Z",
     "start_time": "2018-11-29T15:21:08.935006Z"
    }
   },
   "outputs": [],
   "source": [
    "sp_hills_share_dict = {a: b for a, b in list(zip(sp_dict_sales_share.keys(), \n",
    "                                                 sp_dict_sales_share.values()))\n",
    "                      if a in Hills_brands['BRAND'].values}"
   ]
  },
  {
   "cell_type": "code",
   "execution_count": 129,
   "metadata": {
    "ExecuteTime": {
     "end_time": "2018-11-29T15:21:08.969006Z",
     "start_time": "2018-11-29T15:21:08.955006Z"
    }
   },
   "outputs": [
    {
     "data": {
      "text/plain": [
       "{\"Hill's Ideal Balance\": 0.093,\n",
       " \"Hill's Natures Best\": 0.103,\n",
       " \"Hill's Prescription Diet\": 7.749,\n",
       " \"Hill's Science Plan\": 2.792,\n",
       " \"Nature's Best von Hill's\": 0.058}"
      ]
     },
     "execution_count": 129,
     "metadata": {},
     "output_type": "execute_result"
    }
   ],
   "source": [
    "sp_hills_share_dict"
   ]
  },
  {
   "cell_type": "code",
   "execution_count": 130,
   "metadata": {
    "ExecuteTime": {
     "end_time": "2018-11-29T15:21:08.984006Z",
     "start_time": "2018-11-29T15:21:08.970006Z"
    }
   },
   "outputs": [],
   "source": [
    "no_sp_hills_share_df = pd.DataFrame.from_dict(no_sp_hills_share_dict, orient='index')\n",
    "sp_hills_share_df = pd.DataFrame.from_dict(sp_hills_share_dict, orient='index')"
   ]
  },
  {
   "cell_type": "code",
   "execution_count": 131,
   "metadata": {
    "ExecuteTime": {
     "end_time": "2018-11-29T15:21:09.005006Z",
     "start_time": "2018-11-29T15:21:08.986006Z"
    }
   },
   "outputs": [
    {
     "data": {
      "text/html": [
       "<div>\n",
       "<style scoped>\n",
       "    .dataframe tbody tr th:only-of-type {\n",
       "        vertical-align: middle;\n",
       "    }\n",
       "\n",
       "    .dataframe tbody tr th {\n",
       "        vertical-align: top;\n",
       "    }\n",
       "\n",
       "    .dataframe thead th {\n",
       "        text-align: right;\n",
       "    }\n",
       "</style>\n",
       "<table border=\"1\" class=\"dataframe\">\n",
       "  <thead>\n",
       "    <tr style=\"text-align: right;\">\n",
       "      <th></th>\n",
       "      <th>BRAND</th>\n",
       "      <th>NO_SP_ORD</th>\n",
       "      <th>SP_ORD</th>\n",
       "    </tr>\n",
       "  </thead>\n",
       "  <tbody>\n",
       "    <tr>\n",
       "      <th>Hill's Ideal Balance</th>\n",
       "      <td>Hill's Ideal Balance</td>\n",
       "      <td>0.130</td>\n",
       "      <td>0.093</td>\n",
       "    </tr>\n",
       "    <tr>\n",
       "      <th>Hill's Natures Best</th>\n",
       "      <td>Hill's Natures Best</td>\n",
       "      <td>0.085</td>\n",
       "      <td>0.103</td>\n",
       "    </tr>\n",
       "    <tr>\n",
       "      <th>Hill's Prescription Diet</th>\n",
       "      <td>Hill's Prescription Diet</td>\n",
       "      <td>8.465</td>\n",
       "      <td>7.749</td>\n",
       "    </tr>\n",
       "    <tr>\n",
       "      <th>Hill's Science Plan</th>\n",
       "      <td>Hill's Science Plan</td>\n",
       "      <td>2.740</td>\n",
       "      <td>2.792</td>\n",
       "    </tr>\n",
       "    <tr>\n",
       "      <th>Nature's Best von Hill's</th>\n",
       "      <td>Nature's Best von Hill's</td>\n",
       "      <td>0.057</td>\n",
       "      <td>0.058</td>\n",
       "    </tr>\n",
       "  </tbody>\n",
       "</table>\n",
       "</div>"
      ],
      "text/plain": [
       "                                             BRAND  NO_SP_ORD  SP_ORD\n",
       "Hill's Ideal Balance          Hill's Ideal Balance      0.130   0.093\n",
       "Hill's Natures Best            Hill's Natures Best      0.085   0.103\n",
       "Hill's Prescription Diet  Hill's Prescription Diet      8.465   7.749\n",
       "Hill's Science Plan            Hill's Science Plan      2.740   2.792\n",
       "Nature's Best von Hill's  Nature's Best von Hill's      0.057   0.058"
      ]
     },
     "execution_count": 131,
     "metadata": {},
     "output_type": "execute_result"
    }
   ],
   "source": [
    "hills_comparison = pd.concat([no_sp_hills_share_df, sp_hills_share_df], axis=1).fillna(0)\n",
    "hills_comparison.columns = ['NO_SP_ORD', 'SP_ORD']\n",
    "hills_comparison['BRAND'] = hills_comparison.index.values\n",
    "hills_comparison = hills_comparison[['BRAND', 'NO_SP_ORD', 'SP_ORD']]\n",
    "hills_comparison"
   ]
  },
  {
   "cell_type": "code",
   "execution_count": 132,
   "metadata": {
    "ExecuteTime": {
     "end_time": "2018-11-29T15:21:09.178006Z",
     "start_time": "2018-11-29T15:21:09.006006Z"
    }
   },
   "outputs": [
    {
     "data": {
      "image/png": "[encoded data removed]",
      "text/plain": [
       "<matplotlib.figure.Figure at 0xe0799b0>"
      ]
     },
     "metadata": {},
     "output_type": "display_data"
    }
   ],
   "source": [
    "plt.figure(figsize=(12, 6))\n",
    "x = hills_comparison['BRAND'].values\n",
    "y = hills_comparison['NO_SP_ORD'].values\n",
    "z = hills_comparison['SP_ORD'].values\n",
    "plt.barh(x, y, color='g')\n",
    "plt.barh(x, z, color='orange', alpha=0.5)\n",
    "plt.title(\"Hill's sales share in 252 days before/after SP purchasing\", fontsize=14)\n",
    "plt.ylabel('BRAND')\n",
    "plt.xlabel('Sales share %')\n",
    "plt.legend(['NO SP Orders', 'SP Orders'])\n",
    "plt.show()"
   ]
  },
  {
   "cell_type": "markdown",
   "metadata": {},
   "source": [
    "#### Hill's sales -  252 days orders before/after SP purchasing"
   ]
  },
  {
   "cell_type": "code",
   "execution_count": 133,
   "metadata": {
    "ExecuteTime": {
     "end_time": "2018-11-29T15:21:09.188006Z",
     "start_time": "2018-11-29T15:21:09.179006Z"
    }
   },
   "outputs": [],
   "source": [
    "no_sp_hills_sales_dict = {a: b for a, b in list(zip(no_sp_dict_sales_no_disc.keys(), \n",
    "                                            no_sp_dict_sales_no_disc.values()))\n",
    "                      if a in Hills_brands['BRAND'].values}"
   ]
  },
  {
   "cell_type": "code",
   "execution_count": 134,
   "metadata": {
    "ExecuteTime": {
     "end_time": "2018-11-29T15:21:09.204006Z",
     "start_time": "2018-11-29T15:21:09.190006Z"
    }
   },
   "outputs": [
    {
     "data": {
      "text/plain": [
       "{\"Hill's Ideal Balance\": 1116.72,\n",
       " \"Hill's Natures Best\": 732.87,\n",
       " \"Hill's Prescription Diet\": 72908.34,\n",
       " \"Hill's Science Plan\": 23601.13,\n",
       " \"Nature's Best von Hill's\": 494.8}"
      ]
     },
     "execution_count": 134,
     "metadata": {},
     "output_type": "execute_result"
    }
   ],
   "source": [
    "no_sp_hills_sales_dict"
   ]
  },
  {
   "cell_type": "code",
   "execution_count": 135,
   "metadata": {
    "ExecuteTime": {
     "end_time": "2018-11-29T15:21:09.224006Z",
     "start_time": "2018-11-29T15:21:09.205006Z"
    }
   },
   "outputs": [],
   "source": [
    "sp_hills_sales_dict = {a: b for a, b in list(zip(sp_dict_sales_no_disc.keys(), \n",
    "                                            sp_dict_sales_no_disc.values()))\n",
    "                      if a in Hills_brands['BRAND'].values}"
   ]
  },
  {
   "cell_type": "code",
   "execution_count": 136,
   "metadata": {
    "ExecuteTime": {
     "end_time": "2018-11-29T15:21:09.246006Z",
     "start_time": "2018-11-29T15:21:09.226006Z"
    }
   },
   "outputs": [
    {
     "data": {
      "text/plain": [
       "{\"Hill's Ideal Balance\": 1100.98,\n",
       " \"Hill's Natures Best\": 1229.47,\n",
       " \"Hill's Prescription Diet\": 92164.42,\n",
       " \"Hill's Science Plan\": 33206.77,\n",
       " \"Nature's Best von Hill's\": 686.76}"
      ]
     },
     "execution_count": 136,
     "metadata": {},
     "output_type": "execute_result"
    }
   ],
   "source": [
    "sp_hills_sales_dict"
   ]
  },
  {
   "cell_type": "code",
   "execution_count": 137,
   "metadata": {
    "ExecuteTime": {
     "end_time": "2018-11-29T15:21:09.263006Z",
     "start_time": "2018-11-29T15:21:09.248006Z"
    }
   },
   "outputs": [],
   "source": [
    "no_sp_hills_sales_df = pd.DataFrame.from_dict(no_sp_hills_sales_dict, orient='index')\n",
    "sp_hills_sales_df = pd.DataFrame.from_dict(sp_hills_sales_dict, orient='index')"
   ]
  },
  {
   "cell_type": "code",
   "execution_count": 138,
   "metadata": {
    "ExecuteTime": {
     "end_time": "2018-11-29T15:21:09.295006Z",
     "start_time": "2018-11-29T15:21:09.265006Z"
    }
   },
   "outputs": [
    {
     "data": {
      "text/html": [
       "<div>\n",
       "<style scoped>\n",
       "    .dataframe tbody tr th:only-of-type {\n",
       "        vertical-align: middle;\n",
       "    }\n",
       "\n",
       "    .dataframe tbody tr th {\n",
       "        vertical-align: top;\n",
       "    }\n",
       "\n",
       "    .dataframe thead th {\n",
       "        text-align: right;\n",
       "    }\n",
       "</style>\n",
       "<table border=\"1\" class=\"dataframe\">\n",
       "  <thead>\n",
       "    <tr style=\"text-align: right;\">\n",
       "      <th></th>\n",
       "      <th>BRAND</th>\n",
       "      <th>NO_SP_ORD</th>\n",
       "      <th>SP_ORD</th>\n",
       "    </tr>\n",
       "  </thead>\n",
       "  <tbody>\n",
       "    <tr>\n",
       "      <th>Hill's Ideal Balance</th>\n",
       "      <td>Hill's Ideal Balance</td>\n",
       "      <td>1116.72</td>\n",
       "      <td>1100.98</td>\n",
       "    </tr>\n",
       "    <tr>\n",
       "      <th>Hill's Natures Best</th>\n",
       "      <td>Hill's Natures Best</td>\n",
       "      <td>732.87</td>\n",
       "      <td>1229.47</td>\n",
       "    </tr>\n",
       "    <tr>\n",
       "      <th>Hill's Prescription Diet</th>\n",
       "      <td>Hill's Prescription Diet</td>\n",
       "      <td>72908.34</td>\n",
       "      <td>92164.42</td>\n",
       "    </tr>\n",
       "    <tr>\n",
       "      <th>Hill's Science Plan</th>\n",
       "      <td>Hill's Science Plan</td>\n",
       "      <td>23601.13</td>\n",
       "      <td>33206.77</td>\n",
       "    </tr>\n",
       "    <tr>\n",
       "      <th>Nature's Best von Hill's</th>\n",
       "      <td>Nature's Best von Hill's</td>\n",
       "      <td>494.80</td>\n",
       "      <td>686.76</td>\n",
       "    </tr>\n",
       "  </tbody>\n",
       "</table>\n",
       "</div>"
      ],
      "text/plain": [
       "                                             BRAND  NO_SP_ORD    SP_ORD\n",
       "Hill's Ideal Balance          Hill's Ideal Balance    1116.72   1100.98\n",
       "Hill's Natures Best            Hill's Natures Best     732.87   1229.47\n",
       "Hill's Prescription Diet  Hill's Prescription Diet   72908.34  92164.42\n",
       "Hill's Science Plan            Hill's Science Plan   23601.13  33206.77\n",
       "Nature's Best von Hill's  Nature's Best von Hill's     494.80    686.76"
      ]
     },
     "execution_count": 138,
     "metadata": {},
     "output_type": "execute_result"
    }
   ],
   "source": [
    "hills_sales_comparison = pd.concat([no_sp_hills_sales_df, sp_hills_sales_df], axis=1).fillna(0)\n",
    "hills_sales_comparison.columns = ['NO_SP_ORD', 'SP_ORD']\n",
    "hills_sales_comparison['BRAND'] = hills_sales_comparison.index.values\n",
    "hills_sales_comparison = hills_sales_comparison[['BRAND', 'NO_SP_ORD', 'SP_ORD']]\n",
    "hills_sales_comparison"
   ]
  },
  {
   "cell_type": "code",
   "execution_count": 139,
   "metadata": {
    "ExecuteTime": {
     "end_time": "2018-11-29T15:21:09.461006Z",
     "start_time": "2018-11-29T15:21:09.297006Z"
    }
   },
   "outputs": [
    {
     "data": {
      "image/png": "[encoded data removed]",
      "text/plain": [
       "<matplotlib.figure.Figure at 0xdfffac8>"
      ]
     },
     "metadata": {},
     "output_type": "display_data"
    }
   ],
   "source": [
    "plt.figure(figsize=(12, 6))\n",
    "x = hills_sales_comparison['BRAND'].values\n",
    "y = hills_sales_comparison['NO_SP_ORD'].values\n",
    "z = hills_sales_comparison['SP_ORD'].values\n",
    "plt.barh(x, y, color='g')\n",
    "plt.barh(x, z, color='orange', alpha=0.5)\n",
    "plt.title('Hills sales in 252 days orders before/after SP purchasing', fontsize=14)\n",
    "plt.ylabel('BRAND')\n",
    "plt.xlabel('Sales')\n",
    "plt.legend(['NO SP Orders', 'SP Orders'])\n",
    "plt.show()"
   ]
  },
  {
   "cell_type": "markdown",
   "metadata": {},
   "source": [
    "##### Timedeltas between orders before/after SP purchasing (every data available for the customer, not only 252 days)"
   ]
  },
  {
   "cell_type": "code",
   "execution_count": 140,
   "metadata": {
    "ExecuteTime": {
     "end_time": "2018-11-29T15:21:09.467006Z",
     "start_time": "2018-11-29T15:21:09.462006Z"
    }
   },
   "outputs": [
    {
     "data": {
      "text/plain": [
       "Index(['CUS_N_KEY_CUSTOMER', 'SCM_N_ORDER_NR_len', 'TDT_T_KEY_ORDER_DATE_list',\n",
       "       'SCM_SALES_BMF_sum', 'SCM_SALES_BMF_list', 'SCM_D_FINANCE_CM1_sum',\n",
       "       'SCM_D_FINANCE_CM1_list', 'SCM_D_FINANCE_CM2_sum',\n",
       "       'SCM_D_FINANCE_CM2_list', 'SCM_D_ORIG_FINANCE_ORDER_NET_sum',\n",
       "       'SCM_D_ORIG_FINANCE_ORDER_NET_list', 'OSP_KO_COUNT_NET_list',\n",
       "       'SCM_MASTER_AP_ID_list', 'CZP_ZTQ_ID', 'CZP_START_DATE',\n",
       "       'CZP_EXPIRY_DATE', 'PG3_AGGSALES', 'PG4_AGGSALES', 'BRAND_AGGSALES',\n",
       "       'SP_PURCHASE', 'SP_DISC', 'D28', 'D56', 'D84', 'D168', 'D252', 'D336',\n",
       "       'O_TIMEDELTAS', 'FLAT_PG3_SALES', 'FLAT_PG4_SALES', 'FLAT_BRAND_SALES',\n",
       "       'TOTAL_PG3_SALES', 'TOTAL_PG4_SALES', 'TOTAL_BRAND_SALES', 'SP_PY_POS',\n",
       "       'DAYS_UNTIL_1st_SP', 'SP_ORDERS', 'NO_SP_ORDERS', 'DAYS_IN_DF',\n",
       "       'DAYS_AFTER_1st_SP', 'SP_CUS', 'MASK_252_BEF', 'MASK_252_AFT',\n",
       "       'ONE_ORDER_BEFORE', 'SALES_252_BEF', 'SALES_252_AFT', 'AOV_252_BEF',\n",
       "       'AOV_252_AFT', 'OF_252_BEF', 'OF_252_AFT', 'CM1_252_BEF', 'CM1_252_AFT',\n",
       "       'CM2_252_BEF', 'CM2_252_AFT', 'NET_SALES_252_BEF', 'NET_SALES_252_AFT',\n",
       "       'CM1%_252_BEF', 'CM1%_252_AFT', 'CM2%_252_BEF', 'CM2%_252_AFT',\n",
       "       'PG3_252_BEF_AGGSALES', 'PG3_252_AFT_AGGSALES',\n",
       "       'PG3_252_BEF_FLAT_SALES', 'PG3_252_AFT_FLAT_SALES',\n",
       "       'PG3_TOTAL_SALES_252_BEF', 'PG3_TOTAL_SALES_252_AFT',\n",
       "       'DICT_PG3_SALES_252_BEF', 'DICT_PG3_SALES_252_AFT',\n",
       "       'DICT_PG3_SHARE_252_BEF', 'DICT_PG3_SHARE_252_AFT', 'DIFF_PG3_252_BEF',\n",
       "       'DIFF_PG3_252_AFT', 'BRAND_SALES_252_BEF', 'BRAND_SALES_252_AFT',\n",
       "       'BRAND_FLAT_SALES_252_BEF', 'BRAND_FLAT_SALES_252_AFT'],\n",
       "      dtype='object')"
      ]
     },
     "execution_count": 140,
     "metadata": {},
     "output_type": "execute_result"
    }
   ],
   "source": [
    "sp_customers_252.columns"
   ]
  },
  {
   "cell_type": "code",
   "execution_count": 141,
   "metadata": {
    "ExecuteTime": {
     "end_time": "2018-11-29T15:21:09.485006Z",
     "start_time": "2018-11-29T15:21:09.469006Z"
    }
   },
   "outputs": [],
   "source": [
    "sp_customers_252['TD_BEFORE_SP'] = [x[:(y-1)] for x, y in list(zip(sp_customers_252['O_TIMEDELTAS'],\n",
    "                                               sp_customers_252['SP_PY_POS']))]"
   ]
  },
  {
   "cell_type": "code",
   "execution_count": 142,
   "metadata": {
    "ExecuteTime": {
     "end_time": "2018-11-29T15:21:09.506006Z",
     "start_time": "2018-11-29T15:21:09.486006Z"
    }
   },
   "outputs": [],
   "source": [
    "sp_customers_252['TD_AFTER_SP'] = [x[(y-1):] for x, y in list(zip(sp_customers_252['O_TIMEDELTAS'],\n",
    "                                               sp_customers_252['SP_PY_POS']))]"
   ]
  },
  {
   "cell_type": "code",
   "execution_count": 143,
   "metadata": {
    "ExecuteTime": {
     "end_time": "2018-11-29T15:21:09.523006Z",
     "start_time": "2018-11-29T15:21:09.507006Z"
    }
   },
   "outputs": [],
   "source": [
    "td_before_sp = [j for i in sp_customers_252['TD_BEFORE_SP'].values for j in i]"
   ]
  },
  {
   "cell_type": "code",
   "execution_count": 144,
   "metadata": {
    "ExecuteTime": {
     "end_time": "2018-11-29T15:21:09.539006Z",
     "start_time": "2018-11-29T15:21:09.525006Z"
    }
   },
   "outputs": [],
   "source": [
    "td_after_sp = [j for i in sp_customers_252['TD_AFTER_SP'].values for j in i]"
   ]
  },
  {
   "cell_type": "code",
   "execution_count": 145,
   "metadata": {
    "ExecuteTime": {
     "end_time": "2018-11-29T15:21:10.313006Z",
     "start_time": "2018-11-29T15:21:09.541006Z"
    }
   },
   "outputs": [
    {
     "data": {
      "image/png": "[encoded data removed]",
      "text/plain": [
       "<matplotlib.figure.Figure at 0xd2d34e0>"
      ]
     },
     "metadata": {},
     "output_type": "display_data"
    },
    {
     "data": {
      "text/html": [
       "<div>\n",
       "<style scoped>\n",
       "    .dataframe tbody tr th:only-of-type {\n",
       "        vertical-align: middle;\n",
       "    }\n",
       "\n",
       "    .dataframe tbody tr th {\n",
       "        vertical-align: top;\n",
       "    }\n",
       "\n",
       "    .dataframe thead th {\n",
       "        text-align: right;\n",
       "    }\n",
       "</style>\n",
       "<table border=\"1\" class=\"dataframe\">\n",
       "  <thead>\n",
       "    <tr style=\"text-align: right;\">\n",
       "      <th></th>\n",
       "      <th>Without SP orders</th>\n",
       "      <th>With SP orders</th>\n",
       "    </tr>\n",
       "  </thead>\n",
       "  <tbody>\n",
       "    <tr>\n",
       "      <th>25%</th>\n",
       "      <td>24.00</td>\n",
       "      <td>24.00</td>\n",
       "    </tr>\n",
       "    <tr>\n",
       "      <th>50%</th>\n",
       "      <td>42.00</td>\n",
       "      <td>41.00</td>\n",
       "    </tr>\n",
       "    <tr>\n",
       "      <th>75%</th>\n",
       "      <td>71.00</td>\n",
       "      <td>67.00</td>\n",
       "    </tr>\n",
       "    <tr>\n",
       "      <th>count</th>\n",
       "      <td>18787.00</td>\n",
       "      <td>27268.00</td>\n",
       "    </tr>\n",
       "    <tr>\n",
       "      <th>max</th>\n",
       "      <td>748.00</td>\n",
       "      <td>560.00</td>\n",
       "    </tr>\n",
       "    <tr>\n",
       "      <th>mean</th>\n",
       "      <td>59.54</td>\n",
       "      <td>51.93</td>\n",
       "    </tr>\n",
       "    <tr>\n",
       "      <th>min</th>\n",
       "      <td>0.00</td>\n",
       "      <td>0.00</td>\n",
       "    </tr>\n",
       "    <tr>\n",
       "      <th>std</th>\n",
       "      <td>63.37</td>\n",
       "      <td>44.85</td>\n",
       "    </tr>\n",
       "  </tbody>\n",
       "</table>\n",
       "</div>"
      ],
      "text/plain": [
       "       Without SP orders  With SP orders\n",
       "25%                24.00           24.00\n",
       "50%                42.00           41.00\n",
       "75%                71.00           67.00\n",
       "count           18787.00        27268.00\n",
       "max               748.00          560.00\n",
       "mean               59.54           51.93\n",
       "min                 0.00            0.00\n",
       "std                63.37           44.85"
      ]
     },
     "metadata": {},
     "output_type": "display_data"
    }
   ],
   "source": [
    "concat_df = pd.DataFrame()\n",
    "\n",
    "plt.figure(figsize=(12, 8))\n",
    "plt.hist(td_before_sp, bins=210, range=(0, 210), color='g', alpha=0.5)\n",
    "plt.hist(td_after_sp, bins=210, range=(0, 210), color='orange', alpha=0.5)\n",
    "plt.title(\"Timedeltas between orders before/after SP purchasing \", fontsize=14)\n",
    "plt.xlabel('Timedeltas')\n",
    "plt.legend(['Without SP orders', 'With SP orders'])\n",
    "plt.show()\n",
    "\n",
    "before_sp_td = pd.DataFrame(np.array(td_before_sp).reshape(len(td_before_sp), 1), columns= ['TD_BEFORE_SP'])\n",
    "after_sp_td = pd.DataFrame(np.array(td_after_sp).reshape(len(td_after_sp), 1), columns= ['TD_AFTER_SP'])\n",
    "\n",
    "concat_df = pd.concat([concat_df,\n",
    "                    before_sp_td['TD_BEFORE_SP'].describe().round(2),\n",
    "                    after_sp_td['TD_AFTER_SP'].describe().round(2),\n",
    "                      ], axis=1)\n",
    "\n",
    "concat_df.columns = ['Without SP orders', 'With SP orders']\n",
    "display(concat_df)"
   ]
  },
  {
   "cell_type": "code",
   "execution_count": null,
   "metadata": {},
   "outputs": [],
   "source": []
  },
  {
   "cell_type": "code",
   "execution_count": null,
   "metadata": {},
   "outputs": [],
   "source": []
  },
  {
   "cell_type": "code",
   "execution_count": null,
   "metadata": {},
   "outputs": [],
   "source": []
  }
 ],
 "metadata": {
  "hide_input": false,
  "kernelspec": {
   "display_name": "Python [conda env:py36]",
   "language": "python",
   "name": "conda-env-py36-py"
  },
  "language_info": {
   "codemirror_mode": {
    "name": "ipython",
    "version": 3
   },
   "file_extension": ".py",
   "mimetype": "text/x-python",
   "name": "python",
   "nbconvert_exporter": "python",
   "pygments_lexer": "ipython3",
   "version": "3.6.4"
  },
  "toc": {
   "base_numbering": 1,
   "nav_menu": {},
   "number_sections": true,
   "sideBar": true,
   "skip_h1_title": false,
   "title_cell": "Table of Contents",
   "title_sidebar": "Contents",
   "toc_cell": false,
   "toc_position": {},
   "toc_section_display": true,
   "toc_window_display": false
  },
  "varInspector": {
   "cols": {
    "lenName": 16,
    "lenType": 16,
    "lenVar": 40
   },
   "kernels_config": {
    "python": {
     "delete_cmd_postfix": "",
     "delete_cmd_prefix": "del ",
     "library": "var_list.py",
     "varRefreshCmd": "print(var_dic_list())"
    },
    "r": {
     "delete_cmd_postfix": ") ",
     "delete_cmd_prefix": "rm(",
     "library": "var_list.r",
     "varRefreshCmd": "cat(var_dic_list()) "
    }
   },
   "types_to_exclude": [
    "module",
    "function",
    "builtin_function_or_method",
    "instance",
    "_Feature"
   ],
   "window_display": false
  }
 },
 "nbformat": 4,
 "nbformat_minor": 2
}
