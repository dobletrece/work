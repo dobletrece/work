{
 "cells": [
  {
   "cell_type": "raw",
   "metadata": {},
   "source": [
    "select\n",
    "scm.scm_n_order_pos_nr, scm.scm_n_order_nr, scm.tdt_t_key_order_date, scm.THR_C_KEY_ORDER_HOUR, scm.SIT_N_KEY_SITE,\n",
    "scm.CUS_N_KEY_CUSTOMER, scm.SCM_SALES_BMF, scm.SCM_SALES_CANCEL_BMF, scm.SCM_D_FINANCE_CM1, scm.SCM_D_FINANCE_CM2,\n",
    "scm.SCM_D_ORIG_FINANCE_ORDER_NET,scm.SCM_AP_ID, scm.SCM_AS_ID, scm.SCM_MASTER_AP_ID, scm.SCM_IS_ZSP_ORDER, \n",
    "scm.SCM_C_ORDER_STATUS, scm.CTP_N_KEY_CUSTOMER_TYPE, scm.SCM_OCI_LAND, scm.SCM_D_FC_ID, scm.SCM_D_PC_DSP, scm.SCM_FC_SPLIT,\n",
    "osp.OSP_KO_COUNT, osp.OSP_KO_COUNT_NET, osp.OSP_3_LEAD_P_PG_ID, osp.OSP_3_LEAD_P_PG_SHARE, osp.OSP_4_LEAD_P_PG_ID, \n",
    "osp.OSP_4_LEAD_P_PG_SHARE\n",
    "from zoocube.ddstf_scm_sales_contrib_margin scm\n",
    "join ZOOMAN.ORDER_SALES_PROFILE osp\n",
    "on osp.OSP_O_ID = scm.SCM_N_ORDER_NR\n",
    "where SIT_N_KEY_SITE = 1\n",
    "and ((TDT_T_KEY_ORDER_DATE >= to_date('01/04/17', 'DD/MM/YY') and TDT_T_KEY_ORDER_DATE <= to_date('30/06/17', 'DD/MM/YY'))\n",
    "or (TDT_T_KEY_ORDER_DATE >= to_date('01/04/18', 'DD/MM/YY') and TDT_T_KEY_ORDER_DATE <= to_date('30/06/18', 'DD/MM/YY')))\n",
    "and (scm.SCM_C_ORDER_STATUS = 'L' OR scm.SCM_C_ORDER_STATUS = 'VK')\n",
    "and osp.OPS_KO_COUNT_NET = 1\n",
    ";"
   ]
  },
  {
   "cell_type": "code",
   "execution_count": 1,
   "metadata": {
    "ExecuteTime": {
     "end_time": "2018-07-12T12:05:06.386837Z",
     "start_time": "2018-07-12T12:05:05.648837Z"
    }
   },
   "outputs": [],
   "source": [
    "import numpy as np\n",
    "import pandas as pd\n",
    "import matplotlib.pyplot as plt\n",
    "%matplotlib inline\n",
    "from IPython.display import display\n",
    "from scipy import stats\n",
    "from datetime import timedelta\n",
    "from collections import Counter\n",
    "#from warnings import filterwarnings\n",
    "#filterwarnings('ignore')"
   ]
  },
  {
   "cell_type": "code",
   "execution_count": 2,
   "metadata": {
    "ExecuteTime": {
     "end_time": "2018-07-12T12:05:10.028837Z",
     "start_time": "2018-07-12T12:05:06.387837Z"
    }
   },
   "outputs": [],
   "source": [
    "data = pd.read_csv('de_first_orders_q2_17_vs_q2_18.dsv', sep=';', low_memory=False)"
   ]
  },
  {
   "cell_type": "code",
   "execution_count": 3,
   "metadata": {
    "ExecuteTime": {
     "end_time": "2018-07-12T12:05:10.839837Z",
     "start_time": "2018-07-12T12:05:10.029837Z"
    }
   },
   "outputs": [
    {
     "name": "stdout",
     "output_type": "stream",
     "text": [
      "<class 'pandas.core.frame.DataFrame'>\n",
      "RangeIndex: 932457 entries, 0 to 932456\n",
      "Data columns (total 27 columns):\n",
      "SCM_N_ORDER_POS_NR              932457 non-null int64\n",
      "SCM_N_ORDER_NR                  932457 non-null int64\n",
      "TDT_T_KEY_ORDER_DATE            932457 non-null object\n",
      "THR_C_KEY_ORDER_HOUR            932457 non-null object\n",
      "SIT_N_KEY_SITE                  932457 non-null int64\n",
      "CUS_N_KEY_CUSTOMER              932457 non-null int64\n",
      "SCM_SALES_BMF                   932457 non-null object\n",
      "SCM_SALES_CANCEL_BMF            932457 non-null object\n",
      "SCM_D_FINANCE_CM1               932457 non-null object\n",
      "SCM_D_FINANCE_CM2               932457 non-null object\n",
      "SCM_D_ORIG_FINANCE_ORDER_NET    932457 non-null object\n",
      "SCM_AP_ID                       932457 non-null int64\n",
      "SCM_AS_ID                       932457 non-null int64\n",
      "SCM_MASTER_AP_ID                932457 non-null int64\n",
      "SCM_IS_ZSP_ORDER                932457 non-null int64\n",
      "SCM_C_ORDER_STATUS              932457 non-null object\n",
      "CTP_N_KEY_CUSTOMER_TYPE         932457 non-null int64\n",
      "SCM_OCI_LAND                    932457 non-null object\n",
      "SCM_D_FC_ID                     932457 non-null int64\n",
      "SCM_D_PC_DSP                    932457 non-null int64\n",
      "SCM_FC_SPLIT                    932457 non-null int64\n",
      "OSP_KO_COUNT                    932457 non-null int64\n",
      "OSP_KO_COUNT_NET                932457 non-null int64\n",
      "OSP_3_LEAD_P_PG_ID              932456 non-null float64\n",
      "OSP_3_LEAD_P_PG_SHARE           932456 non-null object\n",
      "OSP_4_LEAD_P_PG_ID              932456 non-null float64\n",
      "OSP_4_LEAD_P_PG_SHARE           932343 non-null object\n",
      "dtypes: float64(2), int64(14), object(11)\n",
      "memory usage: 192.1+ MB\n"
     ]
    }
   ],
   "source": [
    "data.info()"
   ]
  },
  {
   "cell_type": "code",
   "execution_count": 4,
   "metadata": {
    "ExecuteTime": {
     "end_time": "2018-07-12T12:05:22.054837Z",
     "start_time": "2018-07-12T12:05:10.841837Z"
    }
   },
   "outputs": [],
   "source": [
    "data['TDT_T_KEY_ORDER_DATE'] = pd.to_datetime(data['TDT_T_KEY_ORDER_DATE'], format=\"%d/%m/%y\")\n",
    "data['ORDER_DATETIME'] = data['TDT_T_KEY_ORDER_DATE'].astype(str) + ' ' + data['THR_C_KEY_ORDER_HOUR'].astype(str) + ':00'\n",
    "data['ORDER_DATETIME'] = pd.to_datetime(data['ORDER_DATETIME'], format=\"%Y/%m/%d %H:%M:%S\")\n",
    "\n",
    "lista = [float(str(i).replace(',','.')) for i in data['SCM_SALES_BMF'].values]\n",
    "data['SCM_SALES_BMF'] = lista\n",
    "lista0 = [float(str(i).replace(',','.')) for i in data['SCM_D_ORIG_FINANCE_ORDER_NET'].values]\n",
    "data['SCM_D_ORIG_FINANCE_ORDER_NET'] = lista0\n",
    "lista1 = [float(str(i).replace(',','.')) for i in data['SCM_SALES_CANCEL_BMF'].values]\n",
    "data['SCM_SALES_CANCEL_BMF'] = lista1\n",
    "lista2 = [float(str(i).replace(',','.')) for i in data['SCM_D_FINANCE_CM1'].values]\n",
    "data['SCM_D_FINANCE_CM1'] = lista2\n",
    "lista3 = [float(str(i).replace(',','.')) for i in data['SCM_D_FINANCE_CM2'].values]\n",
    "data['SCM_D_FINANCE_CM2'] = lista3\n",
    "\n",
    "#Convert date to calendar week number and month number\n",
    "data['WEEK_NUMBER'] = data['TDT_T_KEY_ORDER_DATE'].dt.week\n",
    "data['MONTH_NUMBER'] = data['TDT_T_KEY_ORDER_DATE'].dt.month\n",
    "\n",
    "#New variables creation\n",
    "data['FINANCE_ORDER_NET'] = data['SCM_D_ORIG_FINANCE_ORDER_NET'].groupby(data['SCM_N_ORDER_NR']).transform('sum')\n",
    "data['REL_CM1'] = data['SCM_D_FINANCE_CM1'] / data['FINANCE_ORDER_NET'] * 100\n",
    "data['REL_CM2'] = data['SCM_D_FINANCE_CM2'] / data['FINANCE_ORDER_NET'] * 10"
   ]
  },
  {
   "cell_type": "code",
   "execution_count": 5,
   "metadata": {
    "ExecuteTime": {
     "end_time": "2018-07-12T12:05:22.393837Z",
     "start_time": "2018-07-12T12:05:22.055837Z"
    }
   },
   "outputs": [],
   "source": [
    "q2_17 = data[data['TDT_T_KEY_ORDER_DATE'] < '2018-04-01']"
   ]
  },
  {
   "cell_type": "code",
   "execution_count": 6,
   "metadata": {
    "ExecuteTime": {
     "end_time": "2018-07-12T12:05:22.408837Z",
     "start_time": "2018-07-12T12:05:22.394837Z"
    }
   },
   "outputs": [
    {
     "data": {
      "text/plain": [
       "(Timestamp('2017-04-01 00:00:00'), Timestamp('2017-06-30 00:00:00'))"
      ]
     },
     "execution_count": 6,
     "metadata": {},
     "output_type": "execute_result"
    }
   ],
   "source": [
    "q2_17['TDT_T_KEY_ORDER_DATE'].min(), q2_17['TDT_T_KEY_ORDER_DATE'].max()"
   ]
  },
  {
   "cell_type": "code",
   "execution_count": 7,
   "metadata": {
    "ExecuteTime": {
     "end_time": "2018-07-12T12:05:22.500837Z",
     "start_time": "2018-07-12T12:05:22.409837Z"
    }
   },
   "outputs": [],
   "source": [
    "q2_18 = data[data['TDT_T_KEY_ORDER_DATE'] >= '2018-04-01']"
   ]
  },
  {
   "cell_type": "code",
   "execution_count": 8,
   "metadata": {
    "ExecuteTime": {
     "end_time": "2018-07-12T12:05:22.513837Z",
     "start_time": "2018-07-12T12:05:22.501837Z"
    }
   },
   "outputs": [
    {
     "data": {
      "text/plain": [
       "(Timestamp('2018-04-01 00:00:00'), Timestamp('2018-06-30 00:00:00'))"
      ]
     },
     "execution_count": 8,
     "metadata": {},
     "output_type": "execute_result"
    }
   ],
   "source": [
    "q2_18['TDT_T_KEY_ORDER_DATE'].min(), q2_18['TDT_T_KEY_ORDER_DATE'].max()"
   ]
  },
  {
   "cell_type": "code",
   "execution_count": 9,
   "metadata": {
    "ExecuteTime": {
     "end_time": "2018-07-12T12:05:22.520837Z",
     "start_time": "2018-07-12T12:05:22.515837Z"
    }
   },
   "outputs": [],
   "source": [
    "# 1st orders per quarter (17 vs 18)"
   ]
  },
  {
   "cell_type": "code",
   "execution_count": 10,
   "metadata": {
    "ExecuteTime": {
     "end_time": "2018-07-12T12:05:22.546837Z",
     "start_time": "2018-07-12T12:05:22.521837Z"
    }
   },
   "outputs": [
    {
     "data": {
      "text/plain": [
       "108852"
      ]
     },
     "execution_count": 10,
     "metadata": {},
     "output_type": "execute_result"
    }
   ],
   "source": [
    "q2_17['SCM_N_ORDER_NR'].nunique()"
   ]
  },
  {
   "cell_type": "code",
   "execution_count": 11,
   "metadata": {
    "ExecuteTime": {
     "end_time": "2018-07-12T12:05:22.571837Z",
     "start_time": "2018-07-12T12:05:22.547837Z"
    }
   },
   "outputs": [
    {
     "data": {
      "text/plain": [
       "111191"
      ]
     },
     "execution_count": 11,
     "metadata": {},
     "output_type": "execute_result"
    }
   ],
   "source": [
    "q2_18['SCM_N_ORDER_NR'].nunique()"
   ]
  },
  {
   "cell_type": "code",
   "execution_count": 12,
   "metadata": {
    "ExecuteTime": {
     "end_time": "2018-07-12T12:05:22.577837Z",
     "start_time": "2018-07-12T12:05:22.573837Z"
    }
   },
   "outputs": [],
   "source": [
    "allowed_coutries = ['D', 'A', 'CH', 'LU', 'FL']"
   ]
  },
  {
   "cell_type": "code",
   "execution_count": 13,
   "metadata": {
    "ExecuteTime": {
     "end_time": "2018-07-12T12:05:22.596837Z",
     "start_time": "2018-07-12T12:05:22.579837Z"
    }
   },
   "outputs": [],
   "source": [
    "# All SP sold (17 vs 18)"
   ]
  },
  {
   "cell_type": "code",
   "execution_count": 14,
   "metadata": {
    "ExecuteTime": {
     "end_time": "2018-07-12T12:05:22.625837Z",
     "start_time": "2018-07-12T12:05:22.599837Z"
    }
   },
   "outputs": [
    {
     "data": {
      "text/plain": [
       "3798"
      ]
     },
     "execution_count": 14,
     "metadata": {},
     "output_type": "execute_result"
    }
   ],
   "source": [
    "# Q2 17 SP sold\n",
    "q2_17[q2_17['SCM_IS_ZSP_ORDER'] == 1]['SCM_N_ORDER_NR'].nunique()"
   ]
  },
  {
   "cell_type": "code",
   "execution_count": 15,
   "metadata": {
    "ExecuteTime": {
     "end_time": "2018-07-12T12:05:22.647837Z",
     "start_time": "2018-07-12T12:05:22.627837Z"
    }
   },
   "outputs": [
    {
     "data": {
      "text/plain": [
       "219"
      ]
     },
     "execution_count": 15,
     "metadata": {},
     "output_type": "execute_result"
    }
   ],
   "source": [
    "# Q2 17 SP sold in not allowed countries\n",
    "q2_17[(q2_17['SCM_IS_ZSP_ORDER'] == 1) & (~q2_17['SCM_OCI_LAND'].isin(allowed_coutries))]['SCM_N_ORDER_NR'].nunique()"
   ]
  },
  {
   "cell_type": "code",
   "execution_count": 16,
   "metadata": {
    "ExecuteTime": {
     "end_time": "2018-07-12T12:05:22.679837Z",
     "start_time": "2018-07-12T12:05:22.648837Z"
    }
   },
   "outputs": [
    {
     "data": {
      "text/plain": [
       "5396"
      ]
     },
     "execution_count": 16,
     "metadata": {},
     "output_type": "execute_result"
    }
   ],
   "source": [
    "# Q2 18 SP sold\n",
    "q2_18[q2_18['SCM_IS_ZSP_ORDER'] == 1]['SCM_N_ORDER_NR'].nunique()"
   ]
  },
  {
   "cell_type": "code",
   "execution_count": 17,
   "metadata": {
    "ExecuteTime": {
     "end_time": "2018-07-12T12:05:22.694837Z",
     "start_time": "2018-07-12T12:05:22.680837Z"
    }
   },
   "outputs": [
    {
     "data": {
      "text/plain": [
       "0"
      ]
     },
     "execution_count": 17,
     "metadata": {},
     "output_type": "execute_result"
    }
   ],
   "source": [
    "# Q2 18 SP sold in not allowed countries\n",
    "q2_18[(q2_18['SCM_IS_ZSP_ORDER'] == 1) & (~q2_18['SCM_OCI_LAND'].isin(allowed_coutries))]['SCM_N_ORDER_NR'].nunique()"
   ]
  },
  {
   "cell_type": "code",
   "execution_count": 18,
   "metadata": {
    "ExecuteTime": {
     "end_time": "2018-07-12T12:05:22.708837Z",
     "start_time": "2018-07-12T12:05:22.695837Z"
    }
   },
   "outputs": [],
   "source": [
    "# All destinations found per quarter (17 vs 18)"
   ]
  },
  {
   "cell_type": "code",
   "execution_count": 19,
   "metadata": {
    "ExecuteTime": {
     "end_time": "2018-07-12T12:05:22.735837Z",
     "start_time": "2018-07-12T12:05:22.710837Z"
    }
   },
   "outputs": [
    {
     "data": {
      "text/plain": [
       "array(['D', 'A', 'DK', 'CH', 'EE', 'E2', 'F', 'LT', 'I', 'NL', 'LU', 'BE',\n",
       "       'LV', 'HR', 'PL', 'GB', 'E1', 'SL', 'IE', 'FL', 'CZ'], dtype=object)"
      ]
     },
     "execution_count": 19,
     "metadata": {},
     "output_type": "execute_result"
    }
   ],
   "source": [
    "q2_17['SCM_OCI_LAND'].unique()"
   ]
  },
  {
   "cell_type": "code",
   "execution_count": 20,
   "metadata": {
    "ExecuteTime": {
     "end_time": "2018-07-12T12:05:22.754837Z",
     "start_time": "2018-07-12T12:05:22.737837Z"
    }
   },
   "outputs": [
    {
     "data": {
      "text/plain": [
       "array(['D', 'A', 'NL', 'EE', 'SL', 'IE', 'DK', 'LU', 'I', 'CH', 'BE',\n",
       "       'LV', 'F', 'E1', 'CZ', 'E2', 'LT', 'GB', 'FL', 'HR', 'PL'],\n",
       "      dtype=object)"
      ]
     },
     "execution_count": 20,
     "metadata": {},
     "output_type": "execute_result"
    }
   ],
   "source": [
    "q2_18['SCM_OCI_LAND'].unique()"
   ]
  },
  {
   "attachments": {
    "image.png": {
     "image/png": "[encoded data removed]"
    }
   },
   "cell_type": "markdown",
   "metadata": {},
   "source": [
    "<html><head>\n",
    "\n",
    "\n",
    "<!-- Load require.js. Delete this if your page already loads require.js -->\n",
    "<script src=\"https://cdnjs.cloudflare.com/ajax/libs/require.js/2.3.4/require.min.js\" integrity=\"sha256-Ae2Vz/4ePdIu6ZyI/5ZGsYnb+m0JlOmKPjt6XZ9JJkA=\" crossorigin=\"anonymous\"></script>\n",
    "<script src=\"https://unpkg.com/@jupyter-widgets/html-manager@*/dist/embed-amd.js\" crossorigin=\"anonymous\"></script>\n",
    "<script type=\"application/vnd.jupyter.widget-state+json\">\n",
    "{\n",
    "    \"version_major\": 2,\n",
    "    \"version_minor\": 0,\n",
    "    \"state\": {}\n",
    "}\n",
    "</script>\n",
    "</head>\n",
    "<body>\n",
    "\n",
    "\n",
    "</body>\n",
    "</html>\n",
    "![image.png](attachment:image.png)"
   ]
  },
  {
   "cell_type": "code",
   "execution_count": 21,
   "metadata": {
    "ExecuteTime": {
     "end_time": "2018-07-12T12:05:22.762837Z",
     "start_time": "2018-07-12T12:05:22.756837Z"
    }
   },
   "outputs": [],
   "source": [
    "# SCM_OCI_LAND (delivery country), SP sold in 1st orders"
   ]
  },
  {
   "cell_type": "code",
   "execution_count": 22,
   "metadata": {
    "ExecuteTime": {
     "end_time": "2018-07-12T12:05:22.795837Z",
     "start_time": "2018-07-12T12:05:22.764837Z"
    }
   },
   "outputs": [
    {
     "data": {
      "text/plain": [
       "SCM_OCI_LAND\n",
       "A      491\n",
       "BE      30\n",
       "CH      46\n",
       "D     3016\n",
       "DK      26\n",
       "E1       3\n",
       "E2       3\n",
       "EE      47\n",
       "F       19\n",
       "HR       3\n",
       "I       41\n",
       "LT       4\n",
       "LU      26\n",
       "LV      24\n",
       "NL      18\n",
       "PL       1\n",
       "Name: SCM_N_ORDER_NR, dtype: int64"
      ]
     },
     "execution_count": 22,
     "metadata": {},
     "output_type": "execute_result"
    }
   ],
   "source": [
    "# Q2 17\n",
    "q2_17[q2_17['SCM_IS_ZSP_ORDER'] == 1].groupby('SCM_OCI_LAND')['SCM_N_ORDER_NR'].nunique()"
   ]
  },
  {
   "cell_type": "code",
   "execution_count": 23,
   "metadata": {
    "ExecuteTime": {
     "end_time": "2018-07-12T12:05:22.823837Z",
     "start_time": "2018-07-12T12:05:22.796837Z"
    }
   },
   "outputs": [
    {
     "data": {
      "text/plain": [
       "SCM_OCI_LAND\n",
       "A      787\n",
       "CH      33\n",
       "D     4541\n",
       "LU      35\n",
       "Name: SCM_N_ORDER_NR, dtype: int64"
      ]
     },
     "execution_count": 23,
     "metadata": {},
     "output_type": "execute_result"
    }
   ],
   "source": [
    "# Q2 18\n",
    "q2_18[q2_18['SCM_IS_ZSP_ORDER'] == 1].groupby('SCM_OCI_LAND')['SCM_N_ORDER_NR'].nunique()"
   ]
  },
  {
   "cell_type": "code",
   "execution_count": 24,
   "metadata": {
    "ExecuteTime": {
     "end_time": "2018-07-12T12:05:22.827837Z",
     "start_time": "2018-07-12T12:05:22.825837Z"
    }
   },
   "outputs": [],
   "source": [
    "#Query getting all DE orders in Q2 (17 vs 18) where delivery country is a restriction"
   ]
  },
  {
   "cell_type": "raw",
   "metadata": {},
   "source": [
    "select\n",
    "scm.scm_n_order_pos_nr, scm.scm_n_order_nr, scm.tdt_t_key_order_date, scm.THR_C_KEY_ORDER_HOUR, scm.SIT_N_KEY_SITE,\n",
    "scm.CUS_N_KEY_CUSTOMER, scm.SCM_SALES_BMF, scm.SCM_SALES_CANCEL_BMF, scm.SCM_D_FINANCE_CM1, scm.SCM_D_FINANCE_CM2,\n",
    "scm.SCM_D_ORIG_FINANCE_ORDER_NET,scm.SCM_AP_ID, scm.SCM_AS_ID, scm.SCM_MASTER_AP_ID, scm.SCM_IS_ZSP_ORDER, \n",
    "scm.SCM_C_ORDER_STATUS, scm.CTP_N_KEY_CUSTOMER_TYPE, scm.SCM_OCI_LAND, scm.SCM_D_FC_ID, scm.SCM_D_PC_DSP, scm.SCM_FC_SPLIT,\n",
    "osp.OSP_KO_COUNT, osp.OSP_KO_COUNT_NET, osp.OSP_3_LEAD_P_PG_ID, osp.OSP_3_LEAD_P_PG_SHARE, osp.OSP_4_LEAD_P_PG_ID, \n",
    "osp.OSP_4_LEAD_P_PG_SHARE\n",
    "from zoocube.ddstf_scm_sales_contrib_margin scm\n",
    "join ZOOMAN.ORDER_SALES_PROFILE osp\n",
    "on osp.OSP_O_ID = scm.SCM_N_ORDER_NR\n",
    "where SIT_N_KEY_SITE = 1\n",
    "and ((TDT_T_KEY_ORDER_DATE >= to_date('01/04/17', 'DD/MM/YY') and TDT_T_KEY_ORDER_DATE <= to_date('30/06/17', 'DD/MM/YY'))\n",
    "or (TDT_T_KEY_ORDER_DATE >= to_date('01/04/18', 'DD/MM/YY') and TDT_T_KEY_ORDER_DATE <= to_date('30/06/18', 'DD/MM/YY')))\n",
    "and (scm.SCM_C_ORDER_STATUS = 'L' OR scm.SCM_C_ORDER_STATUS = 'VK')\n",
    "and scm.SCM_OCI_LAND NOT IN ('D', 'A', 'CH', 'LU', 'FL')\n",
    ";"
   ]
  },
  {
   "cell_type": "code",
   "execution_count": 25,
   "metadata": {
    "ExecuteTime": {
     "end_time": "2018-07-12T12:05:22.844837Z",
     "start_time": "2018-07-12T12:05:22.830837Z"
    }
   },
   "outputs": [],
   "source": [
    "# We will locate the SP discount applied to those orders before restrictions in 2017 and not applied in this orders due to DCR."
   ]
  },
  {
   "cell_type": "code",
   "execution_count": 26,
   "metadata": {
    "ExecuteTime": {
     "end_time": "2018-07-12T12:05:25.214837Z",
     "start_time": "2018-07-12T12:05:22.845837Z"
    }
   },
   "outputs": [],
   "source": [
    "dcr_sp = pd.read_csv('de_oci_land_sp_q2_17_vs_q2_18.dsv', sep=';', low_memory=False)"
   ]
  },
  {
   "cell_type": "code",
   "execution_count": 27,
   "metadata": {
    "ExecuteTime": {
     "end_time": "2018-07-12T12:05:25.612837Z",
     "start_time": "2018-07-12T12:05:25.216837Z"
    }
   },
   "outputs": [],
   "source": [
    "def clean_n_format(data):\n",
    "#Some data formatting\n",
    "\tdata['TDT_T_KEY_ORDER_DATE'] = pd.to_datetime(data['TDT_T_KEY_ORDER_DATE'], format=\"%d/%m/%y\")\n",
    "\tdata['ORDER_DATETIME'] = data['TDT_T_KEY_ORDER_DATE'].astype(str) + ' ' + data['THR_C_KEY_ORDER_HOUR'].astype(str) + ':00'\n",
    "\tdata['ORDER_DATETIME'] = pd.to_datetime(data['ORDER_DATETIME'], format=\"%Y/%m/%d %H:%M:%S\")\n",
    "\tdata['CZP_START_DATE'] = pd.to_datetime(data['CZP_START_DATE'], format=\"%d/%m/%y\")\n",
    "\tdata['CZP_EXPIRY_DATE'] = pd.to_datetime(data['CZP_EXPIRY_DATE'], format=\"%d/%m/%y\")\n",
    "\n",
    "\tlista = [float(str(i).replace(',','.')) for i in data['SCM_SALES_BMF'].values]\n",
    "\tdata['SCM_SALES_BMF'] = lista\n",
    "\tlista0 = [float(str(i).replace(',','.')) for i in data['SCM_D_ORIG_FINANCE_ORDER_NET'].values]\n",
    "\tdata['SCM_D_ORIG_FINANCE_ORDER_NET'] = lista0\n",
    "\tlista1 = [float(str(i).replace(',','.')) for i in data['SCM_SALES_CANCEL_BMF'].values]\n",
    "\tdata['SCM_SALES_CANCEL_BMF'] = lista1\n",
    "\tlista2 = [float(str(i).replace(',','.')) for i in data['SCM_D_FINANCE_CM1'].values]\n",
    "\tdata['SCM_D_FINANCE_CM1'] = lista2\n",
    "\tlista3 = [float(str(i).replace(',','.')) for i in data['SCM_D_FINANCE_CM2'].values]\n",
    "\tdata['SCM_D_FINANCE_CM2'] = lista3\n",
    "\tlista4 = [float(str(i).replace(',','.')) for i in data['CZP_PRICE'].values]\n",
    "\tdata['CZP_PRICE'] = lista4\n",
    "\n",
    "\t#Convert date to calendar week number and month number\n",
    "\tdata['WEEK_NUMBER'] = data['TDT_T_KEY_ORDER_DATE'].dt.week\n",
    "\tdata['MONTH_NUMBER'] = data['TDT_T_KEY_ORDER_DATE'].dt.month\n",
    "\n",
    "\t#boolean mask with duplicated orders as True\n",
    "\tdupl_mask = [len(i) > 1 for i in data.groupby('SCM_N_ORDER_NR')['CZP_START_DATE'].unique().values]\n",
    "\n",
    "\t#get duplicated order IDs\n",
    "\tdup_orders = data.groupby('SCM_N_ORDER_NR')['CZP_START_DATE'].unique()[dupl_mask].index.values\n",
    "\n",
    "\t#check if there are customers with one order duplicated more than once... (normally not supossed to be)\n",
    "\tcust_2_dup_orders = data[data['SCM_N_ORDER_NR'].isin(dup_orders)].groupby('CUS_N_KEY_CUSTOMER')['SCM_N_ORDER_NR'].nunique()[\\\n",
    "\tdata[data['SCM_N_ORDER_NR'].isin(dup_orders)].groupby('CUS_N_KEY_CUSTOMER')['SCM_N_ORDER_NR'].nunique() > 1].index.values\n",
    "\n",
    "\t#Let's get incorrect duplicated indexes instead of order_id to exclude them and select the correct data subset\n",
    "\tdup_indexes = []\n",
    "\n",
    "\tfor i in dup_orders:\n",
    "\t\to_id = data[data['SCM_N_ORDER_NR'] == i]\n",
    "\t\tif o_id['CUS_N_KEY_CUSTOMER'].unique() not in cust_2_dup_orders:\n",
    "\t\t\tsp_dates = o_id['CZP_START_DATE'].value_counts().index.values\n",
    "\t\t\tmin_date = o_id[o_id['CZP_START_DATE'] < max(sp_dates)]\n",
    "\t\t\tdup_indexes.append(min_date.index.values)\n",
    "\n",
    "\tfor c in cust_2_dup_orders:\n",
    "\t\t#print('Customer', c)\n",
    "\t\tcust_orders = data[(data['CUS_N_KEY_CUSTOMER'] == c) & (data['SCM_N_ORDER_NR'].isin(dup_orders))]\n",
    "\t\tif cust_orders['SCM_IS_ZSP_ORDER'].sum() >= 1:\n",
    "\t\t\t#print('SP Sold')\n",
    "\t\t\tsp_datetime = cust_orders[cust_orders['SCM_MASTER_AP_ID'] == 42225]['ORDER_DATETIME'].unique()[0]\n",
    "\t\t\tif (o_id['ORDER_DATETIME'] < sp_datetime).sum() > 0:\n",
    "\t\t\t\t#print('One order before SP')\n",
    "\t\t\t\tbefore = cust_orders[cust_orders['ORDER_DATETIME'] < sp_datetime]\n",
    "\t\t\t\tsp_dates_b = before['CZP_START_DATE'].value_counts().index.values\n",
    "\t\t\t\tmax_date_b = before[before['CZP_START_DATE'] > min(sp_dates)]\n",
    "\t\t\t\tmax_dates_b = list(max_date_b.index.values)\n",
    "\t\t\t\t\n",
    "\t\t\t\tafter = o_id[o_id['ORDER_DATETIME'] >= sp_datetime]\n",
    "\t\t\t\tsp_dates_a = after['CZP_START_DATE'].value_counts().index.values\n",
    "\t\t\t\tmin_date_a = after[after['CZP_START_DATE'] < max(sp_dates)]\n",
    "\t\t\t\tmin_dates_a = list(min_date_a.index.values)\n",
    "\t\t\t\t\n",
    "\t\t\t\tindexes_date_not_valid = max_dates_b + min_dates_a\n",
    "\t\t\t\tdup_indexes.append(indexes_date_not_valid)\n",
    "\t\t\telif (o_id['ORDER_DATETIME'] < sp_datetime).sum() == 0:\n",
    "\t\t\t\t#print('One order after SP')\n",
    "\t\t\t\tsp_dates = cust_orders['CZP_START_DATE'].value_counts().index.values\n",
    "\t\t\t\tmin_date = cust_orders[cust_orders['CZP_START_DATE'] < max(sp_dates)]\n",
    "\t\t\t\tdup_indexes.append(min_date.index.values)\n",
    "\t\t\telse:\n",
    "\t\t\t\tprint('Something went wrong')\n",
    "\t\telif cust_orders['SCM_IS_ZSP_ORDER'].sum() == 0:\n",
    "\t\t\t#print('No SP Sold')\n",
    "\t\t\tsp_dates = cust_orders['CZP_START_DATE'].value_counts().index.values\n",
    "\t\t\tmin_date = cust_orders[cust_orders['CZP_START_DATE'] < max(sp_dates)]\n",
    "\t\t\tdup_indexes.append(min_date.index.values)\n",
    "\n",
    "\t#Get a flatten list of indexes\n",
    "\tdupl_ind = [i for lista in dup_indexes for i in lista]\n",
    "\tprint('Duplicated rows detected: ', len(dupl_ind))\n",
    "\tprint('Start dropping..')\n",
    "\t#Drop duplicated indexes\n",
    "\tdata.drop(data.index[dupl_ind], inplace=True)\n",
    "\n",
    "\t#0 printed, in order to be sure there are no orders duplicated remaining...\n",
    "\tprint('Number of order IDs having more than one SP_START_DATE now: ', \n",
    "          sum(len(i) > 1 for i in data.groupby('SCM_N_ORDER_NR')['CZP_START_DATE'].unique().values))\n",
    "\n",
    "\t#New variables creation\n",
    "\tdata['FINANCE_ORDER_NET'] = data['SCM_D_ORIG_FINANCE_ORDER_NET'].groupby(data['SCM_N_ORDER_NR']).transform('sum')\n",
    "\tdata['REL_CM1'] = data['SCM_D_FINANCE_CM1'] / data['FINANCE_ORDER_NET'] * 100\n",
    "\tdata['REL_CM2'] = data['SCM_D_FINANCE_CM2'] / data['FINANCE_ORDER_NET'] * 100"
   ]
  },
  {
   "cell_type": "code",
   "execution_count": 28,
   "metadata": {
    "ExecuteTime": {
     "end_time": "2018-07-12T12:05:49.989837Z",
     "start_time": "2018-07-12T12:05:25.614837Z"
    }
   },
   "outputs": [
    {
     "name": "stdout",
     "output_type": "stream",
     "text": [
      "Duplicated rows detected:  471\n",
      "Start dropping..\n",
      "Number of order IDs having more than one SP_START_DATE now:  0\n"
     ]
    }
   ],
   "source": [
    "clean_n_format(dcr_sp)"
   ]
  },
  {
   "cell_type": "code",
   "execution_count": 29,
   "metadata": {
    "ExecuteTime": {
     "end_time": "2018-07-12T12:05:50.503837Z",
     "start_time": "2018-07-12T12:05:49.990837Z"
    }
   },
   "outputs": [
    {
     "name": "stdout",
     "output_type": "stream",
     "text": [
      "<class 'pandas.core.frame.DataFrame'>\n",
      "Int64Index: 542917 entries, 0 to 543387\n",
      "Data columns (total 38 columns):\n",
      "SCM_N_ORDER_POS_NR              542917 non-null int64\n",
      "SCM_N_ORDER_NR                  542917 non-null int64\n",
      "TDT_T_KEY_ORDER_DATE            542917 non-null datetime64[ns]\n",
      "THR_C_KEY_ORDER_HOUR            542917 non-null object\n",
      "SIT_N_KEY_SITE                  542917 non-null int64\n",
      "CUS_N_KEY_CUSTOMER              542917 non-null int64\n",
      "SCM_SALES_BMF                   542917 non-null float64\n",
      "SCM_SALES_CANCEL_BMF            542917 non-null float64\n",
      "SCM_D_FINANCE_CM1               542917 non-null float64\n",
      "SCM_D_FINANCE_CM2               542917 non-null float64\n",
      "SCM_D_ORIG_FINANCE_ORDER_NET    542917 non-null float64\n",
      "SCM_AP_ID                       542917 non-null int64\n",
      "SCM_AS_ID                       542917 non-null int64\n",
      "SCM_MASTER_AP_ID                542917 non-null int64\n",
      "SCM_IS_ZSP_ORDER                542917 non-null int64\n",
      "SCM_C_ORDER_STATUS              542917 non-null object\n",
      "CTP_N_KEY_CUSTOMER_TYPE         542917 non-null int64\n",
      "SCM_OCI_LAND                    542917 non-null object\n",
      "SCM_D_FC_ID                     542917 non-null int64\n",
      "SCM_D_PC_DSP                    542917 non-null int64\n",
      "SCM_FC_SPLIT                    542917 non-null int64\n",
      "OSP_KO_COUNT                    542917 non-null int64\n",
      "OSP_KO_COUNT_NET                542917 non-null int64\n",
      "OSP_3_LEAD_P_PG_ID              542914 non-null float64\n",
      "OSP_3_LEAD_P_PG_SHARE           542914 non-null object\n",
      "OSP_4_LEAD_P_PG_ID              542914 non-null float64\n",
      "OSP_4_LEAD_P_PG_SHARE           542914 non-null object\n",
      "CZP_START_DATE                  275322 non-null datetime64[ns]\n",
      "CZP_EXPIRY_DATE                 275322 non-null datetime64[ns]\n",
      "CZP_ZTQ_ID                      275322 non-null float64\n",
      "CZP_PERCENTAGE                  275322 non-null float64\n",
      "CZP_PRICE                       275322 non-null float64\n",
      "ORDER_DATETIME                  542917 non-null datetime64[ns]\n",
      "WEEK_NUMBER                     542917 non-null int64\n",
      "MONTH_NUMBER                    542917 non-null int64\n",
      "FINANCE_ORDER_NET               542917 non-null float64\n",
      "REL_CM1                         542521 non-null float64\n",
      "REL_CM2                         542525 non-null float64\n",
      "dtypes: datetime64[ns](4), float64(13), int64(16), object(5)\n",
      "memory usage: 181.5+ MB\n"
     ]
    }
   ],
   "source": [
    "dcr_sp.info()"
   ]
  },
  {
   "cell_type": "code",
   "execution_count": 30,
   "metadata": {
    "ExecuteTime": {
     "end_time": "2018-07-12T12:05:50.568837Z",
     "start_time": "2018-07-12T12:05:50.505837Z"
    }
   },
   "outputs": [],
   "source": [
    "dcr_sp_q2_17 = dcr_sp[dcr_sp['TDT_T_KEY_ORDER_DATE'] < '2018-04-01']"
   ]
  },
  {
   "cell_type": "code",
   "execution_count": 31,
   "metadata": {
    "ExecuteTime": {
     "end_time": "2018-07-12T12:05:50.579837Z",
     "start_time": "2018-07-12T12:05:50.569837Z"
    }
   },
   "outputs": [
    {
     "data": {
      "text/plain": [
       "(Timestamp('2017-04-01 00:00:00'), Timestamp('2017-06-30 00:00:00'))"
      ]
     },
     "execution_count": 31,
     "metadata": {},
     "output_type": "execute_result"
    }
   ],
   "source": [
    "dcr_sp_q2_17['TDT_T_KEY_ORDER_DATE'].min(), dcr_sp_q2_17['TDT_T_KEY_ORDER_DATE'].max()"
   ]
  },
  {
   "cell_type": "code",
   "execution_count": 32,
   "metadata": {
    "ExecuteTime": {
     "end_time": "2018-07-12T12:05:50.635837Z",
     "start_time": "2018-07-12T12:05:50.581837Z"
    }
   },
   "outputs": [],
   "source": [
    "dcr_sp_q2_18 = dcr_sp[dcr_sp['TDT_T_KEY_ORDER_DATE'] >= '2018-04-01']"
   ]
  },
  {
   "cell_type": "code",
   "execution_count": 33,
   "metadata": {
    "ExecuteTime": {
     "end_time": "2018-07-12T12:05:50.645837Z",
     "start_time": "2018-07-12T12:05:50.637837Z"
    }
   },
   "outputs": [
    {
     "data": {
      "text/plain": [
       "(Timestamp('2018-04-01 00:00:00'), Timestamp('2018-06-30 00:00:00'))"
      ]
     },
     "execution_count": 33,
     "metadata": {},
     "output_type": "execute_result"
    }
   ],
   "source": [
    "dcr_sp_q2_18['TDT_T_KEY_ORDER_DATE'].min(), dcr_sp_q2_18['TDT_T_KEY_ORDER_DATE'].max()"
   ]
  },
  {
   "cell_type": "code",
   "execution_count": 34,
   "metadata": {
    "ExecuteTime": {
     "end_time": "2018-07-12T12:05:50.667837Z",
     "start_time": "2018-07-12T12:05:50.647837Z"
    }
   },
   "outputs": [
    {
     "data": {
      "text/plain": [
       "30770"
      ]
     },
     "execution_count": 34,
     "metadata": {},
     "output_type": "execute_result"
    }
   ],
   "source": [
    "# Orders delivered in not allowed countries Q2 17\n",
    "dcr_sp_q2_17['SCM_N_ORDER_NR'].nunique()"
   ]
  },
  {
   "cell_type": "code",
   "execution_count": 35,
   "metadata": {
    "ExecuteTime": {
     "end_time": "2018-07-12T12:05:50.681837Z",
     "start_time": "2018-07-12T12:05:50.669837Z"
    }
   },
   "outputs": [
    {
     "data": {
      "text/plain": [
       "24576"
      ]
     },
     "execution_count": 35,
     "metadata": {},
     "output_type": "execute_result"
    }
   ],
   "source": [
    "# Orders delivered in not allowed countries Q2 18\n",
    "dcr_sp_q2_18['SCM_N_ORDER_NR'].nunique()"
   ]
  },
  {
   "cell_type": "code",
   "execution_count": 36,
   "metadata": {
    "ExecuteTime": {
     "end_time": "2018-07-12T12:05:50.726837Z",
     "start_time": "2018-07-12T12:05:50.682837Z"
    }
   },
   "outputs": [
    {
     "data": {
      "text/plain": [
       "10655"
      ]
     },
     "execution_count": 36,
     "metadata": {},
     "output_type": "execute_result"
    }
   ],
   "source": [
    "# Orders delivered in not allowed countries Q2 18 coming from a SP bought before DCR implementation\n",
    "dcr_sp_q2_18[dcr_sp_q2_18['CZP_START_DATE'] <= '2018-03-13']['SCM_N_ORDER_NR'].nunique()"
   ]
  },
  {
   "cell_type": "code",
   "execution_count": 37,
   "metadata": {
    "ExecuteTime": {
     "end_time": "2018-07-12T12:05:50.735837Z",
     "start_time": "2018-07-12T12:05:50.728837Z"
    }
   },
   "outputs": [
    {
     "data": {
      "text/plain": [
       "517"
      ]
     },
     "execution_count": 37,
     "metadata": {},
     "output_type": "execute_result"
    }
   ],
   "source": [
    "# Orders delivered in not allowed countries Q2 18 coming from a SP including DCR feature\n",
    "dcr_sp_q2_18[dcr_sp_q2_18['CZP_START_DATE'] > '2018-03-13']['SCM_N_ORDER_NR'].nunique()"
   ]
  },
  {
   "cell_type": "code",
   "execution_count": 38,
   "metadata": {
    "ExecuteTime": {
     "end_time": "2018-07-12T12:05:50.790837Z",
     "start_time": "2018-07-12T12:05:50.736837Z"
    }
   },
   "outputs": [
    {
     "data": {
      "text/plain": [
       "13404"
      ]
     },
     "execution_count": 38,
     "metadata": {},
     "output_type": "execute_result"
    }
   ],
   "source": [
    "# Orders delivered in not allowed countries Q2 18 w/o SP\n",
    "dcr_sp_q2_18[dcr_sp_q2_18['CZP_START_DATE'].isnull()]['SCM_N_ORDER_NR'].nunique()"
   ]
  },
  {
   "cell_type": "code",
   "execution_count": 39,
   "metadata": {
    "ExecuteTime": {
     "end_time": "2018-07-12T12:05:50.806837Z",
     "start_time": "2018-07-12T12:05:50.791837Z"
    }
   },
   "outputs": [
    {
     "data": {
      "text/plain": [
       "array(['DK', 'E2', 'F', 'NL', 'BE', 'EE', 'I', 'LV', 'IE', 'CZ', 'GB',\n",
       "       'LT', 'E1', 'SL', 'HR', 'PL'], dtype=object)"
      ]
     },
     "execution_count": 39,
     "metadata": {},
     "output_type": "execute_result"
    }
   ],
   "source": [
    "# Different destinations in Q2 17\n",
    "dcr_sp_q2_17['SCM_OCI_LAND'].unique()"
   ]
  },
  {
   "cell_type": "code",
   "execution_count": 40,
   "metadata": {
    "ExecuteTime": {
     "end_time": "2018-07-12T12:05:50.821837Z",
     "start_time": "2018-07-12T12:05:50.808837Z"
    }
   },
   "outputs": [
    {
     "data": {
      "text/plain": [
       "array(['BE', 'SL', 'F', 'DK', 'EE', 'I', 'GB', 'NL', 'LT', 'E1', 'E2',\n",
       "       'LV', 'HR', 'IE', 'PL', 'CZ'], dtype=object)"
      ]
     },
     "execution_count": 40,
     "metadata": {},
     "output_type": "execute_result"
    }
   ],
   "source": [
    "# Different destinations in Q2 18\n",
    "dcr_sp_q2_18['SCM_OCI_LAND'].unique()"
   ]
  },
  {
   "cell_type": "code",
   "execution_count": 41,
   "metadata": {
    "ExecuteTime": {
     "end_time": "2018-07-12T12:05:50.840837Z",
     "start_time": "2018-07-12T12:05:50.822837Z"
    }
   },
   "outputs": [
    {
     "data": {
      "text/plain": [
       "1649"
      ]
     },
     "execution_count": 41,
     "metadata": {},
     "output_type": "execute_result"
    }
   ],
   "source": [
    "# SP sold within those orders in Q2 17\n",
    "dcr_sp_q2_17[dcr_sp_q2_17['SCM_IS_ZSP_ORDER'] == 1]['SCM_N_ORDER_NR'].nunique()"
   ]
  },
  {
   "cell_type": "code",
   "execution_count": 42,
   "metadata": {
    "ExecuteTime": {
     "end_time": "2018-07-12T12:05:50.851837Z",
     "start_time": "2018-07-12T12:05:50.843837Z"
    }
   },
   "outputs": [
    {
     "data": {
      "text/plain": [
       "123"
      ]
     },
     "execution_count": 42,
     "metadata": {},
     "output_type": "execute_result"
    }
   ],
   "source": [
    "# SP sold within those orders in Q2 18 (0 should be the expected value)\n",
    "dcr_sp_q2_18[dcr_sp_q2_18['SCM_IS_ZSP_ORDER'] == 1]['SCM_N_ORDER_NR'].nunique()"
   ]
  },
  {
   "cell_type": "code",
   "execution_count": 43,
   "metadata": {
    "ExecuteTime": {
     "end_time": "2018-07-12T12:05:50.866837Z",
     "start_time": "2018-07-12T12:05:50.852837Z"
    }
   },
   "outputs": [
    {
     "data": {
      "text/plain": [
       "array([ 13,  19,  35,  41,  28,  26,  33,   4,  38,  39,  82,  15,  29,\n",
       "       127,  44,  67,  49,  48,  40,  56,  14,  17,  11,  53,  18,  71,\n",
       "        12,  20,   8,  36, 111,  51, 181,   9,  16,  32,  37,  90,  31,\n",
       "       119,  94, 132, 439, 110,   5,  47,  61, 125, 174,  24,  59,  30,\n",
       "        80, 104, 108,  27,  58,  84,  21,  62, 120,  69,  10,   7,   6,\n",
       "        23, 149,  64, 102,  74, 106,  75,  87], dtype=int64)"
      ]
     },
     "execution_count": 43,
     "metadata": {},
     "output_type": "execute_result"
    }
   ],
   "source": [
    "# At least SP not bought in 1st order...probably related with renewals or similar?\n",
    "dcr_sp_q2_18[dcr_sp_q2_18['SCM_IS_ZSP_ORDER'] == 1]['OSP_KO_COUNT_NET'].unique()"
   ]
  },
  {
   "cell_type": "code",
   "execution_count": 44,
   "metadata": {
    "ExecuteTime": {
     "end_time": "2018-07-12T12:05:50.886837Z",
     "start_time": "2018-07-12T12:05:50.867837Z"
    }
   },
   "outputs": [
    {
     "data": {
      "text/plain": [
       "SCM_OCI_LAND\n",
       "BE    29\n",
       "DK    26\n",
       "E1     5\n",
       "E2     7\n",
       "EE     5\n",
       "F      1\n",
       "HR     1\n",
       "I     39\n",
       "IE     1\n",
       "LT     3\n",
       "LV     1\n",
       "NL     2\n",
       "SL     3\n",
       "Name: SCM_N_ORDER_NR, dtype: int64"
      ]
     },
     "execution_count": 44,
     "metadata": {},
     "output_type": "execute_result"
    }
   ],
   "source": [
    "# How SP sold are spreaded within the delivery countries...\n",
    "dcr_sp_q2_18[dcr_sp_q2_18['SCM_IS_ZSP_ORDER'] == 1].groupby('SCM_OCI_LAND')['SCM_N_ORDER_NR'].nunique()"
   ]
  },
  {
   "cell_type": "code",
   "execution_count": 45,
   "metadata": {
    "ExecuteTime": {
     "end_time": "2018-07-12T12:05:50.898837Z",
     "start_time": "2018-07-12T12:05:50.887837Z"
    }
   },
   "outputs": [
    {
     "data": {
      "text/plain": [
       "SCM_OCI_LAND\n",
       "BE    29\n",
       "DK    26\n",
       "E1     5\n",
       "E2     7\n",
       "EE     5\n",
       "F      1\n",
       "HR     1\n",
       "I     39\n",
       "IE     1\n",
       "LT     3\n",
       "LV     1\n",
       "NL     2\n",
       "SL     3\n",
       "Name: SCM_N_ORDER_NR, dtype: int64"
      ]
     },
     "execution_count": 45,
     "metadata": {},
     "output_type": "execute_result"
    }
   ],
   "source": [
    "# Verify calculations using the Master_AP_ID for the SP Article...exactly matching\n",
    "dcr_sp_q2_18[dcr_sp_q2_18['SCM_MASTER_AP_ID'] == 42225].groupby('SCM_OCI_LAND')['SCM_N_ORDER_NR'].nunique()"
   ]
  },
  {
   "cell_type": "code",
   "execution_count": 46,
   "metadata": {
    "ExecuteTime": {
     "end_time": "2018-07-12T12:05:50.923837Z",
     "start_time": "2018-07-12T12:05:50.899837Z"
    }
   },
   "outputs": [
    {
     "data": {
      "text/plain": [
       "15805"
      ]
     },
     "execution_count": 46,
     "metadata": {},
     "output_type": "execute_result"
    }
   ],
   "source": [
    "# Q2 17. Orders with SP discount\n",
    "dcr_sp_q2_17[dcr_sp_q2_17['SCM_MASTER_AP_ID'] == 42715]['SCM_N_ORDER_NR'].nunique()"
   ]
  },
  {
   "cell_type": "code",
   "execution_count": 47,
   "metadata": {
    "ExecuteTime": {
     "end_time": "2018-07-12T12:05:50.939837Z",
     "start_time": "2018-07-12T12:05:50.924837Z"
    }
   },
   "outputs": [
    {
     "data": {
      "text/plain": [
       "-164315.52"
      ]
     },
     "execution_count": 47,
     "metadata": {},
     "output_type": "execute_result"
    }
   ],
   "source": [
    "# Amount discounted Q2 17\n",
    "dcr_sp_q2_17[dcr_sp_q2_17['SCM_MASTER_AP_ID'] == 42715]['SCM_SALES_BMF'].sum()"
   ]
  },
  {
   "cell_type": "code",
   "execution_count": 48,
   "metadata": {
    "ExecuteTime": {
     "end_time": "2018-07-12T12:05:50.956837Z",
     "start_time": "2018-07-12T12:05:50.941837Z"
    }
   },
   "outputs": [
    {
     "data": {
      "text/plain": [
       "10474"
      ]
     },
     "execution_count": 48,
     "metadata": {},
     "output_type": "execute_result"
    }
   ],
   "source": [
    "# Q2 18. Orders with SP discount\n",
    "dcr_sp_q2_18[dcr_sp_q2_18['SCM_MASTER_AP_ID'] == 42715]['SCM_N_ORDER_NR'].nunique()"
   ]
  },
  {
   "cell_type": "code",
   "execution_count": 49,
   "metadata": {
    "ExecuteTime": {
     "end_time": "2018-07-12T12:05:50.969837Z",
     "start_time": "2018-07-12T12:05:50.957837Z"
    }
   },
   "outputs": [
    {
     "data": {
      "text/plain": [
       "-96279.33"
      ]
     },
     "execution_count": 49,
     "metadata": {},
     "output_type": "execute_result"
    }
   ],
   "source": [
    "# Amount discounted Q2 18\n",
    "dcr_sp_q2_18[dcr_sp_q2_18['SCM_MASTER_AP_ID'] == 42715]['SCM_SALES_BMF'].sum()"
   ]
  },
  {
   "cell_type": "code",
   "execution_count": 50,
   "metadata": {
    "ExecuteTime": {
     "end_time": "2018-07-12T12:05:50.978837Z",
     "start_time": "2018-07-12T12:05:50.970837Z"
    }
   },
   "outputs": [
    {
     "data": {
      "text/plain": [
       "46"
      ]
     },
     "execution_count": 50,
     "metadata": {},
     "output_type": "execute_result"
    }
   ],
   "source": [
    "dcr_sp_q2_18[(dcr_sp_q2_18['SCM_MASTER_AP_ID'] == 42225) & (dcr_sp_q2_18['CZP_START_DATE'] > '2018-03-13')]['SCM_N_ORDER_NR'].nunique()"
   ]
  },
  {
   "cell_type": "code",
   "execution_count": 51,
   "metadata": {
    "ExecuteTime": {
     "end_time": "2018-07-12T12:05:51.034837Z",
     "start_time": "2018-07-12T12:05:50.979837Z"
    },
    "scrolled": false
   },
   "outputs": [
    {
     "data": {
      "text/html": [
       "<div>\n",
       "<style scoped>\n",
       "    .dataframe tbody tr th:only-of-type {\n",
       "        vertical-align: middle;\n",
       "    }\n",
       "\n",
       "    .dataframe tbody tr th {\n",
       "        vertical-align: top;\n",
       "    }\n",
       "\n",
       "    .dataframe thead th {\n",
       "        text-align: right;\n",
       "    }\n",
       "</style>\n",
       "<table border=\"1\" class=\"dataframe\">\n",
       "  <thead>\n",
       "    <tr style=\"text-align: right;\">\n",
       "      <th></th>\n",
       "      <th>SCM_N_ORDER_POS_NR</th>\n",
       "      <th>SCM_N_ORDER_NR</th>\n",
       "      <th>TDT_T_KEY_ORDER_DATE</th>\n",
       "      <th>THR_C_KEY_ORDER_HOUR</th>\n",
       "      <th>SIT_N_KEY_SITE</th>\n",
       "      <th>CUS_N_KEY_CUSTOMER</th>\n",
       "      <th>SCM_SALES_BMF</th>\n",
       "      <th>SCM_SALES_CANCEL_BMF</th>\n",
       "      <th>SCM_D_FINANCE_CM1</th>\n",
       "      <th>SCM_D_FINANCE_CM2</th>\n",
       "      <th>...</th>\n",
       "      <th>CZP_EXPIRY_DATE</th>\n",
       "      <th>CZP_ZTQ_ID</th>\n",
       "      <th>CZP_PERCENTAGE</th>\n",
       "      <th>CZP_PRICE</th>\n",
       "      <th>ORDER_DATETIME</th>\n",
       "      <th>WEEK_NUMBER</th>\n",
       "      <th>MONTH_NUMBER</th>\n",
       "      <th>FINANCE_ORDER_NET</th>\n",
       "      <th>REL_CM1</th>\n",
       "      <th>REL_CM2</th>\n",
       "    </tr>\n",
       "  </thead>\n",
       "  <tbody>\n",
       "    <tr>\n",
       "      <th>312717</th>\n",
       "      <td>459828220</td>\n",
       "      <td>107817012</td>\n",
       "      <td>2018-04-01</td>\n",
       "      <td>17:30</td>\n",
       "      <td>1</td>\n",
       "      <td>13114822</td>\n",
       "      <td>9.99</td>\n",
       "      <td>0.00</td>\n",
       "      <td>8.2562</td>\n",
       "      <td>8.2562</td>\n",
       "      <td>...</td>\n",
       "      <td>2021-04-01</td>\n",
       "      <td>52.0</td>\n",
       "      <td>5.0</td>\n",
       "      <td>9.99</td>\n",
       "      <td>2018-04-01 17:30:00</td>\n",
       "      <td>13</td>\n",
       "      <td>4</td>\n",
       "      <td>42.1075</td>\n",
       "      <td>19.607433</td>\n",
       "      <td>19.607433</td>\n",
       "    </tr>\n",
       "    <tr>\n",
       "      <th>313832</th>\n",
       "      <td>460195902</td>\n",
       "      <td>107902725</td>\n",
       "      <td>2018-04-02</td>\n",
       "      <td>21:42</td>\n",
       "      <td>1</td>\n",
       "      <td>13722079</td>\n",
       "      <td>9.99</td>\n",
       "      <td>0.00</td>\n",
       "      <td>7.9920</td>\n",
       "      <td>7.9920</td>\n",
       "      <td>...</td>\n",
       "      <td>2021-04-02</td>\n",
       "      <td>52.0</td>\n",
       "      <td>5.0</td>\n",
       "      <td>9.99</td>\n",
       "      <td>2018-04-02 21:42:00</td>\n",
       "      <td>14</td>\n",
       "      <td>4</td>\n",
       "      <td>220.6960</td>\n",
       "      <td>3.621271</td>\n",
       "      <td>3.621271</td>\n",
       "    </tr>\n",
       "    <tr>\n",
       "      <th>316015</th>\n",
       "      <td>459717149</td>\n",
       "      <td>107791520</td>\n",
       "      <td>2018-04-01</td>\n",
       "      <td>06:42</td>\n",
       "      <td>1</td>\n",
       "      <td>6965250</td>\n",
       "      <td>4.99</td>\n",
       "      <td>0.00</td>\n",
       "      <td>3.9920</td>\n",
       "      <td>3.9920</td>\n",
       "      <td>...</td>\n",
       "      <td>2019-04-06</td>\n",
       "      <td>51.0</td>\n",
       "      <td>5.0</td>\n",
       "      <td>4.99</td>\n",
       "      <td>2018-04-01 06:42:00</td>\n",
       "      <td>13</td>\n",
       "      <td>4</td>\n",
       "      <td>135.9520</td>\n",
       "      <td>2.936330</td>\n",
       "      <td>2.936330</td>\n",
       "    </tr>\n",
       "    <tr>\n",
       "      <th>316104</th>\n",
       "      <td>460045695</td>\n",
       "      <td>107867507</td>\n",
       "      <td>2018-04-02</td>\n",
       "      <td>14:59</td>\n",
       "      <td>1</td>\n",
       "      <td>4646540</td>\n",
       "      <td>9.99</td>\n",
       "      <td>0.00</td>\n",
       "      <td>8.1885</td>\n",
       "      <td>8.1885</td>\n",
       "      <td>...</td>\n",
       "      <td>2021-04-02</td>\n",
       "      <td>52.0</td>\n",
       "      <td>5.0</td>\n",
       "      <td>9.99</td>\n",
       "      <td>2018-04-02 14:59:00</td>\n",
       "      <td>14</td>\n",
       "      <td>4</td>\n",
       "      <td>351.3378</td>\n",
       "      <td>2.330663</td>\n",
       "      <td>2.330663</td>\n",
       "    </tr>\n",
       "    <tr>\n",
       "      <th>317390</th>\n",
       "      <td>460557242</td>\n",
       "      <td>107993322</td>\n",
       "      <td>2018-04-03</td>\n",
       "      <td>21:54</td>\n",
       "      <td>1</td>\n",
       "      <td>7276456</td>\n",
       "      <td>4.99</td>\n",
       "      <td>0.00</td>\n",
       "      <td>4.0902</td>\n",
       "      <td>4.0902</td>\n",
       "      <td>...</td>\n",
       "      <td>2019-05-07</td>\n",
       "      <td>51.0</td>\n",
       "      <td>5.0</td>\n",
       "      <td>4.99</td>\n",
       "      <td>2018-04-03 21:54:00</td>\n",
       "      <td>14</td>\n",
       "      <td>4</td>\n",
       "      <td>167.1557</td>\n",
       "      <td>2.446940</td>\n",
       "      <td>2.446940</td>\n",
       "    </tr>\n",
       "    <tr>\n",
       "      <th>323394</th>\n",
       "      <td>461849149</td>\n",
       "      <td>108319850</td>\n",
       "      <td>2018-04-09</td>\n",
       "      <td>07:54</td>\n",
       "      <td>1</td>\n",
       "      <td>6635539</td>\n",
       "      <td>9.99</td>\n",
       "      <td>0.00</td>\n",
       "      <td>8.2562</td>\n",
       "      <td>8.2562</td>\n",
       "      <td>...</td>\n",
       "      <td>2021-04-09</td>\n",
       "      <td>52.0</td>\n",
       "      <td>5.0</td>\n",
       "      <td>9.99</td>\n",
       "      <td>2018-04-09 07:54:00</td>\n",
       "      <td>15</td>\n",
       "      <td>4</td>\n",
       "      <td>58.9422</td>\n",
       "      <td>14.007282</td>\n",
       "      <td>14.007282</td>\n",
       "    </tr>\n",
       "    <tr>\n",
       "      <th>323932</th>\n",
       "      <td>461943070</td>\n",
       "      <td>108344587</td>\n",
       "      <td>2018-04-09</td>\n",
       "      <td>12:48</td>\n",
       "      <td>1</td>\n",
       "      <td>7170292</td>\n",
       "      <td>17.99</td>\n",
       "      <td>14.87</td>\n",
       "      <td>14.8678</td>\n",
       "      <td>14.8678</td>\n",
       "      <td>...</td>\n",
       "      <td>2018-05-23</td>\n",
       "      <td>54.0</td>\n",
       "      <td>7.0</td>\n",
       "      <td>17.99</td>\n",
       "      <td>2018-04-09 12:48:00</td>\n",
       "      <td>15</td>\n",
       "      <td>4</td>\n",
       "      <td>69.7769</td>\n",
       "      <td>21.307625</td>\n",
       "      <td>21.307625</td>\n",
       "    </tr>\n",
       "    <tr>\n",
       "      <th>326179</th>\n",
       "      <td>461437277</td>\n",
       "      <td>108217587</td>\n",
       "      <td>2018-04-07</td>\n",
       "      <td>10:56</td>\n",
       "      <td>1</td>\n",
       "      <td>16718310</td>\n",
       "      <td>9.99</td>\n",
       "      <td>0.00</td>\n",
       "      <td>8.2562</td>\n",
       "      <td>8.2562</td>\n",
       "      <td>...</td>\n",
       "      <td>2021-04-07</td>\n",
       "      <td>52.0</td>\n",
       "      <td>5.0</td>\n",
       "      <td>9.99</td>\n",
       "      <td>2018-04-07 10:56:00</td>\n",
       "      <td>14</td>\n",
       "      <td>4</td>\n",
       "      <td>94.1238</td>\n",
       "      <td>8.771639</td>\n",
       "      <td>8.771639</td>\n",
       "    </tr>\n",
       "    <tr>\n",
       "      <th>332941</th>\n",
       "      <td>461000212</td>\n",
       "      <td>108105951</td>\n",
       "      <td>2018-04-05</td>\n",
       "      <td>12:29</td>\n",
       "      <td>1</td>\n",
       "      <td>11394524</td>\n",
       "      <td>7.99</td>\n",
       "      <td>0.00</td>\n",
       "      <td>6.5492</td>\n",
       "      <td>6.5492</td>\n",
       "      <td>...</td>\n",
       "      <td>2019-04-05</td>\n",
       "      <td>53.0</td>\n",
       "      <td>7.0</td>\n",
       "      <td>7.99</td>\n",
       "      <td>2018-04-05 12:29:00</td>\n",
       "      <td>14</td>\n",
       "      <td>4</td>\n",
       "      <td>195.1311</td>\n",
       "      <td>3.356308</td>\n",
       "      <td>3.356308</td>\n",
       "    </tr>\n",
       "    <tr>\n",
       "      <th>338732</th>\n",
       "      <td>460703361</td>\n",
       "      <td>108030432</td>\n",
       "      <td>2018-04-04</td>\n",
       "      <td>12:45</td>\n",
       "      <td>1</td>\n",
       "      <td>8669737</td>\n",
       "      <td>7.99</td>\n",
       "      <td>0.00</td>\n",
       "      <td>6.3920</td>\n",
       "      <td>6.3920</td>\n",
       "      <td>...</td>\n",
       "      <td>2019-05-04</td>\n",
       "      <td>53.0</td>\n",
       "      <td>7.0</td>\n",
       "      <td>7.99</td>\n",
       "      <td>2018-04-04 12:45:00</td>\n",
       "      <td>14</td>\n",
       "      <td>4</td>\n",
       "      <td>187.0960</td>\n",
       "      <td>3.416428</td>\n",
       "      <td>3.416428</td>\n",
       "    </tr>\n",
       "    <tr>\n",
       "      <th>338797</th>\n",
       "      <td>460802926</td>\n",
       "      <td>108055761</td>\n",
       "      <td>2018-04-04</td>\n",
       "      <td>18:32</td>\n",
       "      <td>1</td>\n",
       "      <td>3202952</td>\n",
       "      <td>9.99</td>\n",
       "      <td>0.00</td>\n",
       "      <td>8.1885</td>\n",
       "      <td>8.1885</td>\n",
       "      <td>...</td>\n",
       "      <td>2021-04-04</td>\n",
       "      <td>52.0</td>\n",
       "      <td>5.0</td>\n",
       "      <td>9.99</td>\n",
       "      <td>2018-04-04 18:32:00</td>\n",
       "      <td>14</td>\n",
       "      <td>4</td>\n",
       "      <td>177.6310</td>\n",
       "      <td>4.609837</td>\n",
       "      <td>4.609837</td>\n",
       "    </tr>\n",
       "    <tr>\n",
       "      <th>343979</th>\n",
       "      <td>463181207</td>\n",
       "      <td>108653848</td>\n",
       "      <td>2018-04-13</td>\n",
       "      <td>14:22</td>\n",
       "      <td>1</td>\n",
       "      <td>13892491</td>\n",
       "      <td>4.99</td>\n",
       "      <td>0.00</td>\n",
       "      <td>4.1240</td>\n",
       "      <td>4.1240</td>\n",
       "      <td>...</td>\n",
       "      <td>2018-06-11</td>\n",
       "      <td>51.0</td>\n",
       "      <td>5.0</td>\n",
       "      <td>4.99</td>\n",
       "      <td>2018-04-13 14:22:00</td>\n",
       "      <td>15</td>\n",
       "      <td>4</td>\n",
       "      <td>60.2976</td>\n",
       "      <td>6.839410</td>\n",
       "      <td>6.839410</td>\n",
       "    </tr>\n",
       "    <tr>\n",
       "      <th>349621</th>\n",
       "      <td>461826662</td>\n",
       "      <td>108314473</td>\n",
       "      <td>2018-04-08</td>\n",
       "      <td>23:30</td>\n",
       "      <td>1</td>\n",
       "      <td>11326234</td>\n",
       "      <td>7.99</td>\n",
       "      <td>0.00</td>\n",
       "      <td>6.6033</td>\n",
       "      <td>6.6033</td>\n",
       "      <td>...</td>\n",
       "      <td>2019-04-08</td>\n",
       "      <td>53.0</td>\n",
       "      <td>7.0</td>\n",
       "      <td>7.99</td>\n",
       "      <td>2018-04-08 23:30:00</td>\n",
       "      <td>14</td>\n",
       "      <td>4</td>\n",
       "      <td>336.2233</td>\n",
       "      <td>1.963963</td>\n",
       "      <td>1.963963</td>\n",
       "    </tr>\n",
       "    <tr>\n",
       "      <th>354009</th>\n",
       "      <td>462910870</td>\n",
       "      <td>108586106</td>\n",
       "      <td>2018-04-12</td>\n",
       "      <td>13:47</td>\n",
       "      <td>1</td>\n",
       "      <td>2700425</td>\n",
       "      <td>4.99</td>\n",
       "      <td>0.00</td>\n",
       "      <td>4.0902</td>\n",
       "      <td>4.0902</td>\n",
       "      <td>...</td>\n",
       "      <td>2019-04-17</td>\n",
       "      <td>51.0</td>\n",
       "      <td>5.0</td>\n",
       "      <td>4.99</td>\n",
       "      <td>2018-04-12 13:47:00</td>\n",
       "      <td>15</td>\n",
       "      <td>4</td>\n",
       "      <td>44.3116</td>\n",
       "      <td>9.230540</td>\n",
       "      <td>9.230540</td>\n",
       "    </tr>\n",
       "    <tr>\n",
       "      <th>357872</th>\n",
       "      <td>464144055</td>\n",
       "      <td>108892491</td>\n",
       "      <td>2018-04-17</td>\n",
       "      <td>10:31</td>\n",
       "      <td>1</td>\n",
       "      <td>1074105</td>\n",
       "      <td>7.99</td>\n",
       "      <td>0.00</td>\n",
       "      <td>6.6033</td>\n",
       "      <td>6.6033</td>\n",
       "      <td>...</td>\n",
       "      <td>2019-04-24</td>\n",
       "      <td>53.0</td>\n",
       "      <td>7.0</td>\n",
       "      <td>7.99</td>\n",
       "      <td>2018-04-17 10:31:00</td>\n",
       "      <td>16</td>\n",
       "      <td>4</td>\n",
       "      <td>105.9492</td>\n",
       "      <td>6.232515</td>\n",
       "      <td>6.232515</td>\n",
       "    </tr>\n",
       "    <tr>\n",
       "      <th>358692</th>\n",
       "      <td>464083257</td>\n",
       "      <td>108876789</td>\n",
       "      <td>2018-04-17</td>\n",
       "      <td>01:17</td>\n",
       "      <td>1</td>\n",
       "      <td>8968899</td>\n",
       "      <td>7.99</td>\n",
       "      <td>0.00</td>\n",
       "      <td>6.5492</td>\n",
       "      <td>6.5492</td>\n",
       "      <td>...</td>\n",
       "      <td>2019-04-25</td>\n",
       "      <td>53.0</td>\n",
       "      <td>7.0</td>\n",
       "      <td>7.99</td>\n",
       "      <td>2018-04-17 01:17:00</td>\n",
       "      <td>16</td>\n",
       "      <td>4</td>\n",
       "      <td>31.9262</td>\n",
       "      <td>20.513559</td>\n",
       "      <td>20.513559</td>\n",
       "    </tr>\n",
       "    <tr>\n",
       "      <th>359716</th>\n",
       "      <td>463894843</td>\n",
       "      <td>108829616</td>\n",
       "      <td>2018-04-16</td>\n",
       "      <td>14:01</td>\n",
       "      <td>1</td>\n",
       "      <td>5800459</td>\n",
       "      <td>4.99</td>\n",
       "      <td>0.00</td>\n",
       "      <td>3.9920</td>\n",
       "      <td>3.9920</td>\n",
       "      <td>...</td>\n",
       "      <td>2019-05-12</td>\n",
       "      <td>51.0</td>\n",
       "      <td>5.0</td>\n",
       "      <td>4.99</td>\n",
       "      <td>2018-04-16 14:01:00</td>\n",
       "      <td>16</td>\n",
       "      <td>4</td>\n",
       "      <td>78.3520</td>\n",
       "      <td>5.094956</td>\n",
       "      <td>5.094956</td>\n",
       "    </tr>\n",
       "    <tr>\n",
       "      <th>360307</th>\n",
       "      <td>463916856</td>\n",
       "      <td>108835226</td>\n",
       "      <td>2018-04-16</td>\n",
       "      <td>15:16</td>\n",
       "      <td>1</td>\n",
       "      <td>2754671</td>\n",
       "      <td>4.99</td>\n",
       "      <td>0.00</td>\n",
       "      <td>4.1583</td>\n",
       "      <td>4.1583</td>\n",
       "      <td>...</td>\n",
       "      <td>2019-05-23</td>\n",
       "      <td>51.0</td>\n",
       "      <td>5.0</td>\n",
       "      <td>4.99</td>\n",
       "      <td>2018-04-16 15:16:00</td>\n",
       "      <td>16</td>\n",
       "      <td>4</td>\n",
       "      <td>54.1167</td>\n",
       "      <td>7.683950</td>\n",
       "      <td>7.683950</td>\n",
       "    </tr>\n",
       "    <tr>\n",
       "      <th>368761</th>\n",
       "      <td>464406994</td>\n",
       "      <td>108957326</td>\n",
       "      <td>2018-04-18</td>\n",
       "      <td>09:06</td>\n",
       "      <td>1</td>\n",
       "      <td>4128520</td>\n",
       "      <td>4.99</td>\n",
       "      <td>0.00</td>\n",
       "      <td>4.0902</td>\n",
       "      <td>4.0902</td>\n",
       "      <td>...</td>\n",
       "      <td>2019-04-26</td>\n",
       "      <td>51.0</td>\n",
       "      <td>5.0</td>\n",
       "      <td>4.99</td>\n",
       "      <td>2018-04-18 09:06:00</td>\n",
       "      <td>16</td>\n",
       "      <td>4</td>\n",
       "      <td>192.5739</td>\n",
       "      <td>2.123964</td>\n",
       "      <td>2.123964</td>\n",
       "    </tr>\n",
       "    <tr>\n",
       "      <th>371557</th>\n",
       "      <td>464879105</td>\n",
       "      <td>109074963</td>\n",
       "      <td>2018-04-20</td>\n",
       "      <td>02:41</td>\n",
       "      <td>1</td>\n",
       "      <td>8546606</td>\n",
       "      <td>7.99</td>\n",
       "      <td>6.60</td>\n",
       "      <td>0.0000</td>\n",
       "      <td>0.0000</td>\n",
       "      <td>...</td>\n",
       "      <td>2018-04-23</td>\n",
       "      <td>53.0</td>\n",
       "      <td>7.0</td>\n",
       "      <td>7.99</td>\n",
       "      <td>2018-04-20 02:41:00</td>\n",
       "      <td>16</td>\n",
       "      <td>4</td>\n",
       "      <td>93.4100</td>\n",
       "      <td>0.000000</td>\n",
       "      <td>0.000000</td>\n",
       "    </tr>\n",
       "    <tr>\n",
       "      <th>372441</th>\n",
       "      <td>465184346</td>\n",
       "      <td>109153555</td>\n",
       "      <td>2018-04-21</td>\n",
       "      <td>19:01</td>\n",
       "      <td>1</td>\n",
       "      <td>3054168</td>\n",
       "      <td>7.99</td>\n",
       "      <td>0.00</td>\n",
       "      <td>6.5492</td>\n",
       "      <td>6.5492</td>\n",
       "      <td>...</td>\n",
       "      <td>2019-05-04</td>\n",
       "      <td>53.0</td>\n",
       "      <td>7.0</td>\n",
       "      <td>7.99</td>\n",
       "      <td>2018-04-21 19:01:00</td>\n",
       "      <td>16</td>\n",
       "      <td>4</td>\n",
       "      <td>172.8935</td>\n",
       "      <td>3.787997</td>\n",
       "      <td>3.787997</td>\n",
       "    </tr>\n",
       "    <tr>\n",
       "      <th>375269</th>\n",
       "      <td>465463916</td>\n",
       "      <td>109221456</td>\n",
       "      <td>2018-04-22</td>\n",
       "      <td>22:25</td>\n",
       "      <td>1</td>\n",
       "      <td>8680951</td>\n",
       "      <td>4.99</td>\n",
       "      <td>0.00</td>\n",
       "      <td>3.9920</td>\n",
       "      <td>3.9920</td>\n",
       "      <td>...</td>\n",
       "      <td>2019-04-27</td>\n",
       "      <td>51.0</td>\n",
       "      <td>5.0</td>\n",
       "      <td>4.99</td>\n",
       "      <td>2018-04-22 22:25:00</td>\n",
       "      <td>16</td>\n",
       "      <td>4</td>\n",
       "      <td>80.7600</td>\n",
       "      <td>4.943041</td>\n",
       "      <td>4.943041</td>\n",
       "    </tr>\n",
       "    <tr>\n",
       "      <th>376869</th>\n",
       "      <td>465685338</td>\n",
       "      <td>109277931</td>\n",
       "      <td>2018-04-23</td>\n",
       "      <td>18:05</td>\n",
       "      <td>1</td>\n",
       "      <td>16784733</td>\n",
       "      <td>9.99</td>\n",
       "      <td>0.00</td>\n",
       "      <td>8.3250</td>\n",
       "      <td>8.3250</td>\n",
       "      <td>...</td>\n",
       "      <td>2021-04-23</td>\n",
       "      <td>52.0</td>\n",
       "      <td>5.0</td>\n",
       "      <td>9.99</td>\n",
       "      <td>2018-04-23 18:05:00</td>\n",
       "      <td>17</td>\n",
       "      <td>4</td>\n",
       "      <td>138.7001</td>\n",
       "      <td>6.002159</td>\n",
       "      <td>6.002159</td>\n",
       "    </tr>\n",
       "    <tr>\n",
       "      <th>377708</th>\n",
       "      <td>465487511</td>\n",
       "      <td>109226651</td>\n",
       "      <td>2018-04-23</td>\n",
       "      <td>00:37</td>\n",
       "      <td>1</td>\n",
       "      <td>16745252</td>\n",
       "      <td>4.99</td>\n",
       "      <td>0.00</td>\n",
       "      <td>4.0902</td>\n",
       "      <td>4.0902</td>\n",
       "      <td>...</td>\n",
       "      <td>2019-05-09</td>\n",
       "      <td>51.0</td>\n",
       "      <td>5.0</td>\n",
       "      <td>4.99</td>\n",
       "      <td>2018-04-23 00:37:00</td>\n",
       "      <td>17</td>\n",
       "      <td>4</td>\n",
       "      <td>157.6346</td>\n",
       "      <td>2.594735</td>\n",
       "      <td>2.594735</td>\n",
       "    </tr>\n",
       "    <tr>\n",
       "      <th>380394</th>\n",
       "      <td>465166296</td>\n",
       "      <td>109149090</td>\n",
       "      <td>2018-04-21</td>\n",
       "      <td>16:58</td>\n",
       "      <td>1</td>\n",
       "      <td>10456985</td>\n",
       "      <td>9.99</td>\n",
       "      <td>8.26</td>\n",
       "      <td>8.2562</td>\n",
       "      <td>8.2562</td>\n",
       "      <td>...</td>\n",
       "      <td>2018-05-28</td>\n",
       "      <td>52.0</td>\n",
       "      <td>5.0</td>\n",
       "      <td>9.99</td>\n",
       "      <td>2018-04-21 16:58:00</td>\n",
       "      <td>16</td>\n",
       "      <td>4</td>\n",
       "      <td>342.1654</td>\n",
       "      <td>2.412927</td>\n",
       "      <td>2.412927</td>\n",
       "    </tr>\n",
       "    <tr>\n",
       "      <th>383249</th>\n",
       "      <td>466046907</td>\n",
       "      <td>109368239</td>\n",
       "      <td>2018-04-24</td>\n",
       "      <td>20:03</td>\n",
       "      <td>1</td>\n",
       "      <td>7295210</td>\n",
       "      <td>4.99</td>\n",
       "      <td>0.00</td>\n",
       "      <td>4.0902</td>\n",
       "      <td>4.0902</td>\n",
       "      <td>...</td>\n",
       "      <td>2019-04-26</td>\n",
       "      <td>51.0</td>\n",
       "      <td>5.0</td>\n",
       "      <td>4.99</td>\n",
       "      <td>2018-04-24 20:03:00</td>\n",
       "      <td>17</td>\n",
       "      <td>4</td>\n",
       "      <td>144.1888</td>\n",
       "      <td>2.836697</td>\n",
       "      <td>2.836697</td>\n",
       "    </tr>\n",
       "    <tr>\n",
       "      <th>383570</th>\n",
       "      <td>466032407</td>\n",
       "      <td>109364727</td>\n",
       "      <td>2018-04-24</td>\n",
       "      <td>19:21</td>\n",
       "      <td>1</td>\n",
       "      <td>8138670</td>\n",
       "      <td>7.99</td>\n",
       "      <td>0.00</td>\n",
       "      <td>6.3920</td>\n",
       "      <td>6.3920</td>\n",
       "      <td>...</td>\n",
       "      <td>2019-05-04</td>\n",
       "      <td>53.0</td>\n",
       "      <td>7.0</td>\n",
       "      <td>7.99</td>\n",
       "      <td>2018-04-24 19:21:00</td>\n",
       "      <td>17</td>\n",
       "      <td>4</td>\n",
       "      <td>133.8480</td>\n",
       "      <td>4.775566</td>\n",
       "      <td>4.775566</td>\n",
       "    </tr>\n",
       "    <tr>\n",
       "      <th>383946</th>\n",
       "      <td>466140001</td>\n",
       "      <td>109390659</td>\n",
       "      <td>2018-04-25</td>\n",
       "      <td>07:30</td>\n",
       "      <td>1</td>\n",
       "      <td>7275054</td>\n",
       "      <td>4.99</td>\n",
       "      <td>4.12</td>\n",
       "      <td>4.1240</td>\n",
       "      <td>4.1240</td>\n",
       "      <td>...</td>\n",
       "      <td>2018-05-02</td>\n",
       "      <td>51.0</td>\n",
       "      <td>5.0</td>\n",
       "      <td>4.99</td>\n",
       "      <td>2018-04-25 07:30:00</td>\n",
       "      <td>17</td>\n",
       "      <td>4</td>\n",
       "      <td>98.0659</td>\n",
       "      <td>4.205335</td>\n",
       "      <td>4.205335</td>\n",
       "    </tr>\n",
       "    <tr>\n",
       "      <th>385672</th>\n",
       "      <td>466721972</td>\n",
       "      <td>109539239</td>\n",
       "      <td>2018-04-27</td>\n",
       "      <td>10:08</td>\n",
       "      <td>1</td>\n",
       "      <td>16614824</td>\n",
       "      <td>4.99</td>\n",
       "      <td>0.00</td>\n",
       "      <td>4.0902</td>\n",
       "      <td>4.0902</td>\n",
       "      <td>...</td>\n",
       "      <td>2019-05-27</td>\n",
       "      <td>51.0</td>\n",
       "      <td>5.0</td>\n",
       "      <td>4.99</td>\n",
       "      <td>2018-04-27 10:08:00</td>\n",
       "      <td>17</td>\n",
       "      <td>4</td>\n",
       "      <td>155.7623</td>\n",
       "      <td>2.625924</td>\n",
       "      <td>2.625924</td>\n",
       "    </tr>\n",
       "    <tr>\n",
       "      <th>389427</th>\n",
       "      <td>466173577</td>\n",
       "      <td>109399736</td>\n",
       "      <td>2018-04-25</td>\n",
       "      <td>09:54</td>\n",
       "      <td>1</td>\n",
       "      <td>1727007</td>\n",
       "      <td>4.99</td>\n",
       "      <td>0.00</td>\n",
       "      <td>4.0902</td>\n",
       "      <td>4.0902</td>\n",
       "      <td>...</td>\n",
       "      <td>2019-05-30</td>\n",
       "      <td>51.0</td>\n",
       "      <td>5.0</td>\n",
       "      <td>4.99</td>\n",
       "      <td>2018-04-25 09:54:00</td>\n",
       "      <td>17</td>\n",
       "      <td>4</td>\n",
       "      <td>98.6064</td>\n",
       "      <td>4.148007</td>\n",
       "      <td>4.148007</td>\n",
       "    </tr>\n",
       "    <tr>\n",
       "      <th>390428</th>\n",
       "      <td>466749899</td>\n",
       "      <td>109546249</td>\n",
       "      <td>2018-04-27</td>\n",
       "      <td>11:51</td>\n",
       "      <td>1</td>\n",
       "      <td>3707878</td>\n",
       "      <td>9.99</td>\n",
       "      <td>0.00</td>\n",
       "      <td>8.2562</td>\n",
       "      <td>8.2562</td>\n",
       "      <td>...</td>\n",
       "      <td>2021-04-27</td>\n",
       "      <td>52.0</td>\n",
       "      <td>5.0</td>\n",
       "      <td>9.99</td>\n",
       "      <td>2018-04-27 11:51:00</td>\n",
       "      <td>17</td>\n",
       "      <td>4</td>\n",
       "      <td>79.5436</td>\n",
       "      <td>10.379465</td>\n",
       "      <td>10.379465</td>\n",
       "    </tr>\n",
       "    <tr>\n",
       "      <th>392581</th>\n",
       "      <td>465981744</td>\n",
       "      <td>109352005</td>\n",
       "      <td>2018-04-24</td>\n",
       "      <td>16:23</td>\n",
       "      <td>1</td>\n",
       "      <td>12450704</td>\n",
       "      <td>4.99</td>\n",
       "      <td>0.00</td>\n",
       "      <td>4.0569</td>\n",
       "      <td>4.0569</td>\n",
       "      <td>...</td>\n",
       "      <td>2019-06-03</td>\n",
       "      <td>51.0</td>\n",
       "      <td>5.0</td>\n",
       "      <td>4.99</td>\n",
       "      <td>2018-04-24 16:23:00</td>\n",
       "      <td>17</td>\n",
       "      <td>4</td>\n",
       "      <td>249.5528</td>\n",
       "      <td>1.625668</td>\n",
       "      <td>1.625668</td>\n",
       "    </tr>\n",
       "    <tr>\n",
       "      <th>394577</th>\n",
       "      <td>465742468</td>\n",
       "      <td>109292687</td>\n",
       "      <td>2018-04-23</td>\n",
       "      <td>20:52</td>\n",
       "      <td>1</td>\n",
       "      <td>1132446</td>\n",
       "      <td>9.99</td>\n",
       "      <td>0.00</td>\n",
       "      <td>7.9920</td>\n",
       "      <td>7.9920</td>\n",
       "      <td>...</td>\n",
       "      <td>2021-04-23</td>\n",
       "      <td>52.0</td>\n",
       "      <td>5.0</td>\n",
       "      <td>9.99</td>\n",
       "      <td>2018-04-23 20:52:00</td>\n",
       "      <td>17</td>\n",
       "      <td>4</td>\n",
       "      <td>207.5680</td>\n",
       "      <td>3.850304</td>\n",
       "      <td>3.850304</td>\n",
       "    </tr>\n",
       "    <tr>\n",
       "      <th>395819</th>\n",
       "      <td>467581911</td>\n",
       "      <td>109757680</td>\n",
       "      <td>2018-04-30</td>\n",
       "      <td>21:16</td>\n",
       "      <td>1</td>\n",
       "      <td>2423415</td>\n",
       "      <td>8.99</td>\n",
       "      <td>0.00</td>\n",
       "      <td>7.1920</td>\n",
       "      <td>7.1920</td>\n",
       "      <td>...</td>\n",
       "      <td>2021-04-30</td>\n",
       "      <td>52.0</td>\n",
       "      <td>5.0</td>\n",
       "      <td>8.99</td>\n",
       "      <td>2018-04-30 21:16:00</td>\n",
       "      <td>18</td>\n",
       "      <td>4</td>\n",
       "      <td>71.8880</td>\n",
       "      <td>10.004451</td>\n",
       "      <td>10.004451</td>\n",
       "    </tr>\n",
       "    <tr>\n",
       "      <th>396260</th>\n",
       "      <td>467231388</td>\n",
       "      <td>109668253</td>\n",
       "      <td>2018-04-29</td>\n",
       "      <td>18:17</td>\n",
       "      <td>1</td>\n",
       "      <td>3561653</td>\n",
       "      <td>9.99</td>\n",
       "      <td>0.00</td>\n",
       "      <td>8.2562</td>\n",
       "      <td>8.2562</td>\n",
       "      <td>...</td>\n",
       "      <td>2021-04-29</td>\n",
       "      <td>52.0</td>\n",
       "      <td>5.0</td>\n",
       "      <td>9.99</td>\n",
       "      <td>2018-04-29 18:17:00</td>\n",
       "      <td>17</td>\n",
       "      <td>4</td>\n",
       "      <td>163.1983</td>\n",
       "      <td>5.058999</td>\n",
       "      <td>5.058999</td>\n",
       "    </tr>\n",
       "    <tr>\n",
       "      <th>402739</th>\n",
       "      <td>467661588</td>\n",
       "      <td>109777774</td>\n",
       "      <td>2018-05-01</td>\n",
       "      <td>10:14</td>\n",
       "      <td>1</td>\n",
       "      <td>10181632</td>\n",
       "      <td>7.99</td>\n",
       "      <td>0.00</td>\n",
       "      <td>6.5492</td>\n",
       "      <td>6.5492</td>\n",
       "      <td>...</td>\n",
       "      <td>2019-05-22</td>\n",
       "      <td>53.0</td>\n",
       "      <td>7.0</td>\n",
       "      <td>7.99</td>\n",
       "      <td>2018-05-01 10:14:00</td>\n",
       "      <td>18</td>\n",
       "      <td>5</td>\n",
       "      <td>99.9180</td>\n",
       "      <td>6.554575</td>\n",
       "      <td>6.554575</td>\n",
       "    </tr>\n",
       "    <tr>\n",
       "      <th>404599</th>\n",
       "      <td>467179650</td>\n",
       "      <td>109655590</td>\n",
       "      <td>2018-04-29</td>\n",
       "      <td>14:37</td>\n",
       "      <td>1</td>\n",
       "      <td>15919749</td>\n",
       "      <td>4.99</td>\n",
       "      <td>0.00</td>\n",
       "      <td>4.1240</td>\n",
       "      <td>4.1240</td>\n",
       "      <td>...</td>\n",
       "      <td>2019-05-28</td>\n",
       "      <td>51.0</td>\n",
       "      <td>5.0</td>\n",
       "      <td>4.99</td>\n",
       "      <td>2018-04-29 14:37:00</td>\n",
       "      <td>17</td>\n",
       "      <td>4</td>\n",
       "      <td>143.7438</td>\n",
       "      <td>2.868993</td>\n",
       "      <td>2.868993</td>\n",
       "    </tr>\n",
       "    <tr>\n",
       "      <th>405133</th>\n",
       "      <td>467548430</td>\n",
       "      <td>109748945</td>\n",
       "      <td>2018-04-30</td>\n",
       "      <td>19:15</td>\n",
       "      <td>1</td>\n",
       "      <td>4461507</td>\n",
       "      <td>3.99</td>\n",
       "      <td>0.00</td>\n",
       "      <td>3.2705</td>\n",
       "      <td>3.2705</td>\n",
       "      <td>...</td>\n",
       "      <td>2019-05-13</td>\n",
       "      <td>51.0</td>\n",
       "      <td>5.0</td>\n",
       "      <td>3.99</td>\n",
       "      <td>2018-04-30 19:15:00</td>\n",
       "      <td>18</td>\n",
       "      <td>4</td>\n",
       "      <td>341.1968</td>\n",
       "      <td>0.958538</td>\n",
       "      <td>0.958538</td>\n",
       "    </tr>\n",
       "    <tr>\n",
       "      <th>405583</th>\n",
       "      <td>467394806</td>\n",
       "      <td>109709250</td>\n",
       "      <td>2018-04-30</td>\n",
       "      <td>10:35</td>\n",
       "      <td>1</td>\n",
       "      <td>11948343</td>\n",
       "      <td>4.99</td>\n",
       "      <td>0.00</td>\n",
       "      <td>4.0902</td>\n",
       "      <td>4.0902</td>\n",
       "      <td>...</td>\n",
       "      <td>2019-05-14</td>\n",
       "      <td>51.0</td>\n",
       "      <td>5.0</td>\n",
       "      <td>4.99</td>\n",
       "      <td>2018-04-30 10:35:00</td>\n",
       "      <td>18</td>\n",
       "      <td>4</td>\n",
       "      <td>114.7130</td>\n",
       "      <td>3.565594</td>\n",
       "      <td>3.565594</td>\n",
       "    </tr>\n",
       "    <tr>\n",
       "      <th>407495</th>\n",
       "      <td>468837704</td>\n",
       "      <td>110075463</td>\n",
       "      <td>2018-05-05</td>\n",
       "      <td>17:26</td>\n",
       "      <td>1</td>\n",
       "      <td>5614466</td>\n",
       "      <td>8.99</td>\n",
       "      <td>0.00</td>\n",
       "      <td>7.4298</td>\n",
       "      <td>7.4298</td>\n",
       "      <td>...</td>\n",
       "      <td>2021-05-05</td>\n",
       "      <td>52.0</td>\n",
       "      <td>5.0</td>\n",
       "      <td>8.99</td>\n",
       "      <td>2018-05-05 17:26:00</td>\n",
       "      <td>18</td>\n",
       "      <td>5</td>\n",
       "      <td>119.6612</td>\n",
       "      <td>6.209030</td>\n",
       "      <td>6.209030</td>\n",
       "    </tr>\n",
       "    <tr>\n",
       "      <th>410605</th>\n",
       "      <td>468689062</td>\n",
       "      <td>110037526</td>\n",
       "      <td>2018-05-04</td>\n",
       "      <td>20:54</td>\n",
       "      <td>1</td>\n",
       "      <td>15087163</td>\n",
       "      <td>3.99</td>\n",
       "      <td>0.00</td>\n",
       "      <td>3.2705</td>\n",
       "      <td>3.2705</td>\n",
       "      <td>...</td>\n",
       "      <td>2019-05-06</td>\n",
       "      <td>51.0</td>\n",
       "      <td>5.0</td>\n",
       "      <td>3.99</td>\n",
       "      <td>2018-05-04 20:54:00</td>\n",
       "      <td>18</td>\n",
       "      <td>5</td>\n",
       "      <td>95.8525</td>\n",
       "      <td>3.412013</td>\n",
       "      <td>3.412013</td>\n",
       "    </tr>\n",
       "    <tr>\n",
       "      <th>411826</th>\n",
       "      <td>468903515</td>\n",
       "      <td>110091838</td>\n",
       "      <td>2018-05-06</td>\n",
       "      <td>01:34</td>\n",
       "      <td>1</td>\n",
       "      <td>6689610</td>\n",
       "      <td>7.99</td>\n",
       "      <td>0.00</td>\n",
       "      <td>6.5492</td>\n",
       "      <td>6.5492</td>\n",
       "      <td>...</td>\n",
       "      <td>2019-06-01</td>\n",
       "      <td>53.0</td>\n",
       "      <td>7.0</td>\n",
       "      <td>7.99</td>\n",
       "      <td>2018-05-06 01:34:00</td>\n",
       "      <td>18</td>\n",
       "      <td>5</td>\n",
       "      <td>137.0736</td>\n",
       "      <td>4.777871</td>\n",
       "      <td>4.777871</td>\n",
       "    </tr>\n",
       "    <tr>\n",
       "      <th>414766</th>\n",
       "      <td>468379798</td>\n",
       "      <td>109958213</td>\n",
       "      <td>2018-05-03</td>\n",
       "      <td>16:50</td>\n",
       "      <td>1</td>\n",
       "      <td>14115912</td>\n",
       "      <td>3.99</td>\n",
       "      <td>0.00</td>\n",
       "      <td>3.2705</td>\n",
       "      <td>3.2705</td>\n",
       "      <td>...</td>\n",
       "      <td>2019-05-07</td>\n",
       "      <td>51.0</td>\n",
       "      <td>5.0</td>\n",
       "      <td>3.99</td>\n",
       "      <td>2018-05-03 16:50:00</td>\n",
       "      <td>18</td>\n",
       "      <td>5</td>\n",
       "      <td>60.6229</td>\n",
       "      <td>5.394826</td>\n",
       "      <td>5.394826</td>\n",
       "    </tr>\n",
       "    <tr>\n",
       "      <th>415337</th>\n",
       "      <td>468351900</td>\n",
       "      <td>109951175</td>\n",
       "      <td>2018-05-03</td>\n",
       "      <td>14:44</td>\n",
       "      <td>1</td>\n",
       "      <td>13954054</td>\n",
       "      <td>7.99</td>\n",
       "      <td>0.00</td>\n",
       "      <td>6.6033</td>\n",
       "      <td>6.6033</td>\n",
       "      <td>...</td>\n",
       "      <td>2019-06-01</td>\n",
       "      <td>53.0</td>\n",
       "      <td>7.0</td>\n",
       "      <td>7.99</td>\n",
       "      <td>2018-05-03 14:44:00</td>\n",
       "      <td>18</td>\n",
       "      <td>5</td>\n",
       "      <td>64.0469</td>\n",
       "      <td>10.310101</td>\n",
       "      <td>10.310101</td>\n",
       "    </tr>\n",
       "    <tr>\n",
       "      <th>418971</th>\n",
       "      <td>468977879</td>\n",
       "      <td>110110387</td>\n",
       "      <td>2018-05-06</td>\n",
       "      <td>13:02</td>\n",
       "      <td>1</td>\n",
       "      <td>11696056</td>\n",
       "      <td>7.99</td>\n",
       "      <td>0.00</td>\n",
       "      <td>6.5492</td>\n",
       "      <td>6.5492</td>\n",
       "      <td>...</td>\n",
       "      <td>2019-05-06</td>\n",
       "      <td>53.0</td>\n",
       "      <td>7.0</td>\n",
       "      <td>7.99</td>\n",
       "      <td>2018-05-06 13:02:00</td>\n",
       "      <td>18</td>\n",
       "      <td>5</td>\n",
       "      <td>106.8604</td>\n",
       "      <td>6.128744</td>\n",
       "      <td>6.128744</td>\n",
       "    </tr>\n",
       "    <tr>\n",
       "      <th>420699</th>\n",
       "      <td>468437466</td>\n",
       "      <td>109973278</td>\n",
       "      <td>2018-05-03</td>\n",
       "      <td>20:31</td>\n",
       "      <td>1</td>\n",
       "      <td>7961985</td>\n",
       "      <td>7.99</td>\n",
       "      <td>0.00</td>\n",
       "      <td>6.5492</td>\n",
       "      <td>6.5492</td>\n",
       "      <td>...</td>\n",
       "      <td>2019-05-06</td>\n",
       "      <td>53.0</td>\n",
       "      <td>7.0</td>\n",
       "      <td>7.99</td>\n",
       "      <td>2018-05-03 20:31:00</td>\n",
       "      <td>18</td>\n",
       "      <td>5</td>\n",
       "      <td>95.8751</td>\n",
       "      <td>6.830971</td>\n",
       "      <td>6.830971</td>\n",
       "    </tr>\n",
       "  </tbody>\n",
       "</table>\n",
       "<p>46 rows × 38 columns</p>\n",
       "</div>"
      ],
      "text/plain": [
       "        SCM_N_ORDER_POS_NR  SCM_N_ORDER_NR TDT_T_KEY_ORDER_DATE  \\\n",
       "312717           459828220       107817012           2018-04-01   \n",
       "313832           460195902       107902725           2018-04-02   \n",
       "316015           459717149       107791520           2018-04-01   \n",
       "316104           460045695       107867507           2018-04-02   \n",
       "317390           460557242       107993322           2018-04-03   \n",
       "323394           461849149       108319850           2018-04-09   \n",
       "323932           461943070       108344587           2018-04-09   \n",
       "326179           461437277       108217587           2018-04-07   \n",
       "332941           461000212       108105951           2018-04-05   \n",
       "338732           460703361       108030432           2018-04-04   \n",
       "338797           460802926       108055761           2018-04-04   \n",
       "343979           463181207       108653848           2018-04-13   \n",
       "349621           461826662       108314473           2018-04-08   \n",
       "354009           462910870       108586106           2018-04-12   \n",
       "357872           464144055       108892491           2018-04-17   \n",
       "358692           464083257       108876789           2018-04-17   \n",
       "359716           463894843       108829616           2018-04-16   \n",
       "360307           463916856       108835226           2018-04-16   \n",
       "368761           464406994       108957326           2018-04-18   \n",
       "371557           464879105       109074963           2018-04-20   \n",
       "372441           465184346       109153555           2018-04-21   \n",
       "375269           465463916       109221456           2018-04-22   \n",
       "376869           465685338       109277931           2018-04-23   \n",
       "377708           465487511       109226651           2018-04-23   \n",
       "380394           465166296       109149090           2018-04-21   \n",
       "383249           466046907       109368239           2018-04-24   \n",
       "383570           466032407       109364727           2018-04-24   \n",
       "383946           466140001       109390659           2018-04-25   \n",
       "385672           466721972       109539239           2018-04-27   \n",
       "389427           466173577       109399736           2018-04-25   \n",
       "390428           466749899       109546249           2018-04-27   \n",
       "392581           465981744       109352005           2018-04-24   \n",
       "394577           465742468       109292687           2018-04-23   \n",
       "395819           467581911       109757680           2018-04-30   \n",
       "396260           467231388       109668253           2018-04-29   \n",
       "402739           467661588       109777774           2018-05-01   \n",
       "404599           467179650       109655590           2018-04-29   \n",
       "405133           467548430       109748945           2018-04-30   \n",
       "405583           467394806       109709250           2018-04-30   \n",
       "407495           468837704       110075463           2018-05-05   \n",
       "410605           468689062       110037526           2018-05-04   \n",
       "411826           468903515       110091838           2018-05-06   \n",
       "414766           468379798       109958213           2018-05-03   \n",
       "415337           468351900       109951175           2018-05-03   \n",
       "418971           468977879       110110387           2018-05-06   \n",
       "420699           468437466       109973278           2018-05-03   \n",
       "\n",
       "       THR_C_KEY_ORDER_HOUR  SIT_N_KEY_SITE  CUS_N_KEY_CUSTOMER  \\\n",
       "312717                17:30               1            13114822   \n",
       "313832                21:42               1            13722079   \n",
       "316015                06:42               1             6965250   \n",
       "316104                14:59               1             4646540   \n",
       "317390                21:54               1             7276456   \n",
       "323394                07:54               1             6635539   \n",
       "323932                12:48               1             7170292   \n",
       "326179                10:56               1            16718310   \n",
       "332941                12:29               1            11394524   \n",
       "338732                12:45               1             8669737   \n",
       "338797                18:32               1             3202952   \n",
       "343979                14:22               1            13892491   \n",
       "349621                23:30               1            11326234   \n",
       "354009                13:47               1             2700425   \n",
       "357872                10:31               1             1074105   \n",
       "358692                01:17               1             8968899   \n",
       "359716                14:01               1             5800459   \n",
       "360307                15:16               1             2754671   \n",
       "368761                09:06               1             4128520   \n",
       "371557                02:41               1             8546606   \n",
       "372441                19:01               1             3054168   \n",
       "375269                22:25               1             8680951   \n",
       "376869                18:05               1            16784733   \n",
       "377708                00:37               1            16745252   \n",
       "380394                16:58               1            10456985   \n",
       "383249                20:03               1             7295210   \n",
       "383570                19:21               1             8138670   \n",
       "383946                07:30               1             7275054   \n",
       "385672                10:08               1            16614824   \n",
       "389427                09:54               1             1727007   \n",
       "390428                11:51               1             3707878   \n",
       "392581                16:23               1            12450704   \n",
       "394577                20:52               1             1132446   \n",
       "395819                21:16               1             2423415   \n",
       "396260                18:17               1             3561653   \n",
       "402739                10:14               1            10181632   \n",
       "404599                14:37               1            15919749   \n",
       "405133                19:15               1             4461507   \n",
       "405583                10:35               1            11948343   \n",
       "407495                17:26               1             5614466   \n",
       "410605                20:54               1            15087163   \n",
       "411826                01:34               1             6689610   \n",
       "414766                16:50               1            14115912   \n",
       "415337                14:44               1            13954054   \n",
       "418971                13:02               1            11696056   \n",
       "420699                20:31               1             7961985   \n",
       "\n",
       "        SCM_SALES_BMF  SCM_SALES_CANCEL_BMF  SCM_D_FINANCE_CM1  \\\n",
       "312717           9.99                  0.00             8.2562   \n",
       "313832           9.99                  0.00             7.9920   \n",
       "316015           4.99                  0.00             3.9920   \n",
       "316104           9.99                  0.00             8.1885   \n",
       "317390           4.99                  0.00             4.0902   \n",
       "323394           9.99                  0.00             8.2562   \n",
       "323932          17.99                 14.87            14.8678   \n",
       "326179           9.99                  0.00             8.2562   \n",
       "332941           7.99                  0.00             6.5492   \n",
       "338732           7.99                  0.00             6.3920   \n",
       "338797           9.99                  0.00             8.1885   \n",
       "343979           4.99                  0.00             4.1240   \n",
       "349621           7.99                  0.00             6.6033   \n",
       "354009           4.99                  0.00             4.0902   \n",
       "357872           7.99                  0.00             6.6033   \n",
       "358692           7.99                  0.00             6.5492   \n",
       "359716           4.99                  0.00             3.9920   \n",
       "360307           4.99                  0.00             4.1583   \n",
       "368761           4.99                  0.00             4.0902   \n",
       "371557           7.99                  6.60             0.0000   \n",
       "372441           7.99                  0.00             6.5492   \n",
       "375269           4.99                  0.00             3.9920   \n",
       "376869           9.99                  0.00             8.3250   \n",
       "377708           4.99                  0.00             4.0902   \n",
       "380394           9.99                  8.26             8.2562   \n",
       "383249           4.99                  0.00             4.0902   \n",
       "383570           7.99                  0.00             6.3920   \n",
       "383946           4.99                  4.12             4.1240   \n",
       "385672           4.99                  0.00             4.0902   \n",
       "389427           4.99                  0.00             4.0902   \n",
       "390428           9.99                  0.00             8.2562   \n",
       "392581           4.99                  0.00             4.0569   \n",
       "394577           9.99                  0.00             7.9920   \n",
       "395819           8.99                  0.00             7.1920   \n",
       "396260           9.99                  0.00             8.2562   \n",
       "402739           7.99                  0.00             6.5492   \n",
       "404599           4.99                  0.00             4.1240   \n",
       "405133           3.99                  0.00             3.2705   \n",
       "405583           4.99                  0.00             4.0902   \n",
       "407495           8.99                  0.00             7.4298   \n",
       "410605           3.99                  0.00             3.2705   \n",
       "411826           7.99                  0.00             6.5492   \n",
       "414766           3.99                  0.00             3.2705   \n",
       "415337           7.99                  0.00             6.6033   \n",
       "418971           7.99                  0.00             6.5492   \n",
       "420699           7.99                  0.00             6.5492   \n",
       "\n",
       "        SCM_D_FINANCE_CM2    ...      CZP_EXPIRY_DATE  CZP_ZTQ_ID  \\\n",
       "312717             8.2562    ...           2021-04-01        52.0   \n",
       "313832             7.9920    ...           2021-04-02        52.0   \n",
       "316015             3.9920    ...           2019-04-06        51.0   \n",
       "316104             8.1885    ...           2021-04-02        52.0   \n",
       "317390             4.0902    ...           2019-05-07        51.0   \n",
       "323394             8.2562    ...           2021-04-09        52.0   \n",
       "323932            14.8678    ...           2018-05-23        54.0   \n",
       "326179             8.2562    ...           2021-04-07        52.0   \n",
       "332941             6.5492    ...           2019-04-05        53.0   \n",
       "338732             6.3920    ...           2019-05-04        53.0   \n",
       "338797             8.1885    ...           2021-04-04        52.0   \n",
       "343979             4.1240    ...           2018-06-11        51.0   \n",
       "349621             6.6033    ...           2019-04-08        53.0   \n",
       "354009             4.0902    ...           2019-04-17        51.0   \n",
       "357872             6.6033    ...           2019-04-24        53.0   \n",
       "358692             6.5492    ...           2019-04-25        53.0   \n",
       "359716             3.9920    ...           2019-05-12        51.0   \n",
       "360307             4.1583    ...           2019-05-23        51.0   \n",
       "368761             4.0902    ...           2019-04-26        51.0   \n",
       "371557             0.0000    ...           2018-04-23        53.0   \n",
       "372441             6.5492    ...           2019-05-04        53.0   \n",
       "375269             3.9920    ...           2019-04-27        51.0   \n",
       "376869             8.3250    ...           2021-04-23        52.0   \n",
       "377708             4.0902    ...           2019-05-09        51.0   \n",
       "380394             8.2562    ...           2018-05-28        52.0   \n",
       "383249             4.0902    ...           2019-04-26        51.0   \n",
       "383570             6.3920    ...           2019-05-04        53.0   \n",
       "383946             4.1240    ...           2018-05-02        51.0   \n",
       "385672             4.0902    ...           2019-05-27        51.0   \n",
       "389427             4.0902    ...           2019-05-30        51.0   \n",
       "390428             8.2562    ...           2021-04-27        52.0   \n",
       "392581             4.0569    ...           2019-06-03        51.0   \n",
       "394577             7.9920    ...           2021-04-23        52.0   \n",
       "395819             7.1920    ...           2021-04-30        52.0   \n",
       "396260             8.2562    ...           2021-04-29        52.0   \n",
       "402739             6.5492    ...           2019-05-22        53.0   \n",
       "404599             4.1240    ...           2019-05-28        51.0   \n",
       "405133             3.2705    ...           2019-05-13        51.0   \n",
       "405583             4.0902    ...           2019-05-14        51.0   \n",
       "407495             7.4298    ...           2021-05-05        52.0   \n",
       "410605             3.2705    ...           2019-05-06        51.0   \n",
       "411826             6.5492    ...           2019-06-01        53.0   \n",
       "414766             3.2705    ...           2019-05-07        51.0   \n",
       "415337             6.6033    ...           2019-06-01        53.0   \n",
       "418971             6.5492    ...           2019-05-06        53.0   \n",
       "420699             6.5492    ...           2019-05-06        53.0   \n",
       "\n",
       "        CZP_PERCENTAGE  CZP_PRICE      ORDER_DATETIME WEEK_NUMBER  \\\n",
       "312717             5.0       9.99 2018-04-01 17:30:00          13   \n",
       "313832             5.0       9.99 2018-04-02 21:42:00          14   \n",
       "316015             5.0       4.99 2018-04-01 06:42:00          13   \n",
       "316104             5.0       9.99 2018-04-02 14:59:00          14   \n",
       "317390             5.0       4.99 2018-04-03 21:54:00          14   \n",
       "323394             5.0       9.99 2018-04-09 07:54:00          15   \n",
       "323932             7.0      17.99 2018-04-09 12:48:00          15   \n",
       "326179             5.0       9.99 2018-04-07 10:56:00          14   \n",
       "332941             7.0       7.99 2018-04-05 12:29:00          14   \n",
       "338732             7.0       7.99 2018-04-04 12:45:00          14   \n",
       "338797             5.0       9.99 2018-04-04 18:32:00          14   \n",
       "343979             5.0       4.99 2018-04-13 14:22:00          15   \n",
       "349621             7.0       7.99 2018-04-08 23:30:00          14   \n",
       "354009             5.0       4.99 2018-04-12 13:47:00          15   \n",
       "357872             7.0       7.99 2018-04-17 10:31:00          16   \n",
       "358692             7.0       7.99 2018-04-17 01:17:00          16   \n",
       "359716             5.0       4.99 2018-04-16 14:01:00          16   \n",
       "360307             5.0       4.99 2018-04-16 15:16:00          16   \n",
       "368761             5.0       4.99 2018-04-18 09:06:00          16   \n",
       "371557             7.0       7.99 2018-04-20 02:41:00          16   \n",
       "372441             7.0       7.99 2018-04-21 19:01:00          16   \n",
       "375269             5.0       4.99 2018-04-22 22:25:00          16   \n",
       "376869             5.0       9.99 2018-04-23 18:05:00          17   \n",
       "377708             5.0       4.99 2018-04-23 00:37:00          17   \n",
       "380394             5.0       9.99 2018-04-21 16:58:00          16   \n",
       "383249             5.0       4.99 2018-04-24 20:03:00          17   \n",
       "383570             7.0       7.99 2018-04-24 19:21:00          17   \n",
       "383946             5.0       4.99 2018-04-25 07:30:00          17   \n",
       "385672             5.0       4.99 2018-04-27 10:08:00          17   \n",
       "389427             5.0       4.99 2018-04-25 09:54:00          17   \n",
       "390428             5.0       9.99 2018-04-27 11:51:00          17   \n",
       "392581             5.0       4.99 2018-04-24 16:23:00          17   \n",
       "394577             5.0       9.99 2018-04-23 20:52:00          17   \n",
       "395819             5.0       8.99 2018-04-30 21:16:00          18   \n",
       "396260             5.0       9.99 2018-04-29 18:17:00          17   \n",
       "402739             7.0       7.99 2018-05-01 10:14:00          18   \n",
       "404599             5.0       4.99 2018-04-29 14:37:00          17   \n",
       "405133             5.0       3.99 2018-04-30 19:15:00          18   \n",
       "405583             5.0       4.99 2018-04-30 10:35:00          18   \n",
       "407495             5.0       8.99 2018-05-05 17:26:00          18   \n",
       "410605             5.0       3.99 2018-05-04 20:54:00          18   \n",
       "411826             7.0       7.99 2018-05-06 01:34:00          18   \n",
       "414766             5.0       3.99 2018-05-03 16:50:00          18   \n",
       "415337             7.0       7.99 2018-05-03 14:44:00          18   \n",
       "418971             7.0       7.99 2018-05-06 13:02:00          18   \n",
       "420699             7.0       7.99 2018-05-03 20:31:00          18   \n",
       "\n",
       "        MONTH_NUMBER FINANCE_ORDER_NET    REL_CM1    REL_CM2  \n",
       "312717             4           42.1075  19.607433  19.607433  \n",
       "313832             4          220.6960   3.621271   3.621271  \n",
       "316015             4          135.9520   2.936330   2.936330  \n",
       "316104             4          351.3378   2.330663   2.330663  \n",
       "317390             4          167.1557   2.446940   2.446940  \n",
       "323394             4           58.9422  14.007282  14.007282  \n",
       "323932             4           69.7769  21.307625  21.307625  \n",
       "326179             4           94.1238   8.771639   8.771639  \n",
       "332941             4          195.1311   3.356308   3.356308  \n",
       "338732             4          187.0960   3.416428   3.416428  \n",
       "338797             4          177.6310   4.609837   4.609837  \n",
       "343979             4           60.2976   6.839410   6.839410  \n",
       "349621             4          336.2233   1.963963   1.963963  \n",
       "354009             4           44.3116   9.230540   9.230540  \n",
       "357872             4          105.9492   6.232515   6.232515  \n",
       "358692             4           31.9262  20.513559  20.513559  \n",
       "359716             4           78.3520   5.094956   5.094956  \n",
       "360307             4           54.1167   7.683950   7.683950  \n",
       "368761             4          192.5739   2.123964   2.123964  \n",
       "371557             4           93.4100   0.000000   0.000000  \n",
       "372441             4          172.8935   3.787997   3.787997  \n",
       "375269             4           80.7600   4.943041   4.943041  \n",
       "376869             4          138.7001   6.002159   6.002159  \n",
       "377708             4          157.6346   2.594735   2.594735  \n",
       "380394             4          342.1654   2.412927   2.412927  \n",
       "383249             4          144.1888   2.836697   2.836697  \n",
       "383570             4          133.8480   4.775566   4.775566  \n",
       "383946             4           98.0659   4.205335   4.205335  \n",
       "385672             4          155.7623   2.625924   2.625924  \n",
       "389427             4           98.6064   4.148007   4.148007  \n",
       "390428             4           79.5436  10.379465  10.379465  \n",
       "392581             4          249.5528   1.625668   1.625668  \n",
       "394577             4          207.5680   3.850304   3.850304  \n",
       "395819             4           71.8880  10.004451  10.004451  \n",
       "396260             4          163.1983   5.058999   5.058999  \n",
       "402739             5           99.9180   6.554575   6.554575  \n",
       "404599             4          143.7438   2.868993   2.868993  \n",
       "405133             4          341.1968   0.958538   0.958538  \n",
       "405583             4          114.7130   3.565594   3.565594  \n",
       "407495             5          119.6612   6.209030   6.209030  \n",
       "410605             5           95.8525   3.412013   3.412013  \n",
       "411826             5          137.0736   4.777871   4.777871  \n",
       "414766             5           60.6229   5.394826   5.394826  \n",
       "415337             5           64.0469  10.310101  10.310101  \n",
       "418971             5          106.8604   6.128744   6.128744  \n",
       "420699             5           95.8751   6.830971   6.830971  \n",
       "\n",
       "[46 rows x 38 columns]"
      ]
     },
     "execution_count": 51,
     "metadata": {},
     "output_type": "execute_result"
    }
   ],
   "source": [
    "dcr_sp_q2_18[(dcr_sp_q2_18['SCM_MASTER_AP_ID'] == 42225) & (dcr_sp_q2_18['CZP_START_DATE'] > '2018-03-13')]"
   ]
  },
  {
   "cell_type": "code",
   "execution_count": 52,
   "metadata": {
    "ExecuteTime": {
     "end_time": "2018-07-12T12:05:51.051837Z",
     "start_time": "2018-07-12T12:05:51.035837Z"
    }
   },
   "outputs": [],
   "source": [
    "dcr_sp_q2_18[(dcr_sp_q2_18['SCM_MASTER_AP_ID'] == 42225) &\n",
    "             (dcr_sp_q2_18['CZP_START_DATE'] > '2018-03-13')].to_csv('sp_sold_in_dcr_orders.csv', \n",
    "            sep=';', index=False, encoding='utf-8')"
   ]
  },
  {
   "cell_type": "code",
   "execution_count": 53,
   "metadata": {
    "ExecuteTime": {
     "end_time": "2018-07-12T12:05:51.064837Z",
     "start_time": "2018-07-12T12:05:51.052837Z"
    }
   },
   "outputs": [
    {
     "data": {
      "text/plain": [
       "13"
      ]
     },
     "execution_count": 53,
     "metadata": {},
     "output_type": "execute_result"
    }
   ],
   "source": [
    "# Orders having a SP bought after the DCR implementation applying the discount (discount should not be applying)\n",
    "dcr_sp_q2_18[(dcr_sp_q2_18['SCM_MASTER_AP_ID'] == 42715) & (dcr_sp_q2_18['CZP_START_DATE'] > '2018-03-13')]['SCM_N_ORDER_NR'].nunique()"
   ]
  },
  {
   "cell_type": "code",
   "execution_count": 54,
   "metadata": {
    "ExecuteTime": {
     "end_time": "2018-07-12T12:05:51.100837Z",
     "start_time": "2018-07-12T12:05:51.065837Z"
    }
   },
   "outputs": [
    {
     "data": {
      "text/html": [
       "<div>\n",
       "<style scoped>\n",
       "    .dataframe tbody tr th:only-of-type {\n",
       "        vertical-align: middle;\n",
       "    }\n",
       "\n",
       "    .dataframe tbody tr th {\n",
       "        vertical-align: top;\n",
       "    }\n",
       "\n",
       "    .dataframe thead th {\n",
       "        text-align: right;\n",
       "    }\n",
       "</style>\n",
       "<table border=\"1\" class=\"dataframe\">\n",
       "  <thead>\n",
       "    <tr style=\"text-align: right;\">\n",
       "      <th></th>\n",
       "      <th>SCM_N_ORDER_POS_NR</th>\n",
       "      <th>SCM_N_ORDER_NR</th>\n",
       "      <th>TDT_T_KEY_ORDER_DATE</th>\n",
       "      <th>THR_C_KEY_ORDER_HOUR</th>\n",
       "      <th>SIT_N_KEY_SITE</th>\n",
       "      <th>CUS_N_KEY_CUSTOMER</th>\n",
       "      <th>SCM_SALES_BMF</th>\n",
       "      <th>SCM_SALES_CANCEL_BMF</th>\n",
       "      <th>SCM_D_FINANCE_CM1</th>\n",
       "      <th>SCM_D_FINANCE_CM2</th>\n",
       "      <th>SCM_D_ORIG_FINANCE_ORDER_NET</th>\n",
       "      <th>SCM_AP_ID</th>\n",
       "      <th>SCM_AS_ID</th>\n",
       "      <th>SCM_MASTER_AP_ID</th>\n",
       "      <th>SCM_IS_ZSP_ORDER</th>\n",
       "      <th>SCM_C_ORDER_STATUS</th>\n",
       "      <th>CTP_N_KEY_CUSTOMER_TYPE</th>\n",
       "      <th>SCM_OCI_LAND</th>\n",
       "      <th>SCM_D_FC_ID</th>\n",
       "      <th>SCM_D_PC_DSP</th>\n",
       "    </tr>\n",
       "  </thead>\n",
       "  <tbody>\n",
       "    <tr>\n",
       "      <th>325663</th>\n",
       "      <td>461453099</td>\n",
       "      <td>108221688</td>\n",
       "      <td>2018-04-07</td>\n",
       "      <td>12:10</td>\n",
       "      <td>1</td>\n",
       "      <td>19462723</td>\n",
       "      <td>-6.71</td>\n",
       "      <td>0.0</td>\n",
       "      <td>-5.5000</td>\n",
       "      <td>-5.5000</td>\n",
       "      <td>-5.5000</td>\n",
       "      <td>0</td>\n",
       "      <td>6</td>\n",
       "      <td>42715</td>\n",
       "      <td>0</td>\n",
       "      <td>L</td>\n",
       "      <td>0</td>\n",
       "      <td>I</td>\n",
       "      <td>0</td>\n",
       "      <td>0</td>\n",
       "    </tr>\n",
       "    <tr>\n",
       "      <th>328436</th>\n",
       "      <td>461074620</td>\n",
       "      <td>108124744</td>\n",
       "      <td>2018-04-05</td>\n",
       "      <td>17:18</td>\n",
       "      <td>1</td>\n",
       "      <td>19706275</td>\n",
       "      <td>-23.69</td>\n",
       "      <td>0.0</td>\n",
       "      <td>-18.9520</td>\n",
       "      <td>-18.9520</td>\n",
       "      <td>-18.9520</td>\n",
       "      <td>0</td>\n",
       "      <td>6</td>\n",
       "      <td>42715</td>\n",
       "      <td>0</td>\n",
       "      <td>L</td>\n",
       "      <td>0</td>\n",
       "      <td>HR</td>\n",
       "      <td>0</td>\n",
       "      <td>0</td>\n",
       "    </tr>\n",
       "    <tr>\n",
       "      <th>339647</th>\n",
       "      <td>462972326</td>\n",
       "      <td>108600981</td>\n",
       "      <td>2018-04-12</td>\n",
       "      <td>17:49</td>\n",
       "      <td>1</td>\n",
       "      <td>8815537</td>\n",
       "      <td>-11.90</td>\n",
       "      <td>0.0</td>\n",
       "      <td>-9.8347</td>\n",
       "      <td>-9.8347</td>\n",
       "      <td>-9.8347</td>\n",
       "      <td>0</td>\n",
       "      <td>6</td>\n",
       "      <td>42715</td>\n",
       "      <td>0</td>\n",
       "      <td>L</td>\n",
       "      <td>0</td>\n",
       "      <td>BE</td>\n",
       "      <td>0</td>\n",
       "      <td>0</td>\n",
       "    </tr>\n",
       "    <tr>\n",
       "      <th>347416</th>\n",
       "      <td>462436151</td>\n",
       "      <td>108469204</td>\n",
       "      <td>2018-04-10</td>\n",
       "      <td>21:32</td>\n",
       "      <td>1</td>\n",
       "      <td>6662671</td>\n",
       "      <td>-3.56</td>\n",
       "      <td>0.0</td>\n",
       "      <td>-3.2963</td>\n",
       "      <td>-3.2963</td>\n",
       "      <td>-3.2963</td>\n",
       "      <td>0</td>\n",
       "      <td>6</td>\n",
       "      <td>42715</td>\n",
       "      <td>0</td>\n",
       "      <td>L</td>\n",
       "      <td>0</td>\n",
       "      <td>PL</td>\n",
       "      <td>0</td>\n",
       "      <td>0</td>\n",
       "    </tr>\n",
       "    <tr>\n",
       "      <th>359125</th>\n",
       "      <td>464078728</td>\n",
       "      <td>108875786</td>\n",
       "      <td>2018-04-17</td>\n",
       "      <td>00:05</td>\n",
       "      <td>1</td>\n",
       "      <td>8968899</td>\n",
       "      <td>-1.78</td>\n",
       "      <td>0.0</td>\n",
       "      <td>-1.4590</td>\n",
       "      <td>-1.4590</td>\n",
       "      <td>-1.4590</td>\n",
       "      <td>0</td>\n",
       "      <td>6</td>\n",
       "      <td>42715</td>\n",
       "      <td>0</td>\n",
       "      <td>L</td>\n",
       "      <td>0</td>\n",
       "      <td>I</td>\n",
       "      <td>0</td>\n",
       "      <td>0</td>\n",
       "    </tr>\n",
       "    <tr>\n",
       "      <th>383948</th>\n",
       "      <td>466217627</td>\n",
       "      <td>109390659</td>\n",
       "      <td>2018-04-25</td>\n",
       "      <td>07:30</td>\n",
       "      <td>1</td>\n",
       "      <td>7275054</td>\n",
       "      <td>-6.25</td>\n",
       "      <td>0.0</td>\n",
       "      <td>-5.1653</td>\n",
       "      <td>-5.1653</td>\n",
       "      <td>-5.1653</td>\n",
       "      <td>0</td>\n",
       "      <td>6</td>\n",
       "      <td>42715</td>\n",
       "      <td>1</td>\n",
       "      <td>L</td>\n",
       "      <td>0</td>\n",
       "      <td>BE</td>\n",
       "      <td>0</td>\n",
       "      <td>0</td>\n",
       "    </tr>\n",
       "    <tr>\n",
       "      <th>388286</th>\n",
       "      <td>468547814</td>\n",
       "      <td>109579680</td>\n",
       "      <td>2018-04-27</td>\n",
       "      <td>22:19</td>\n",
       "      <td>1</td>\n",
       "      <td>11326234</td>\n",
       "      <td>-15.81</td>\n",
       "      <td>0.0</td>\n",
       "      <td>-13.0661</td>\n",
       "      <td>-13.0661</td>\n",
       "      <td>-13.0661</td>\n",
       "      <td>0</td>\n",
       "      <td>6</td>\n",
       "      <td>42715</td>\n",
       "      <td>0</td>\n",
       "      <td>L</td>\n",
       "      <td>0</td>\n",
       "      <td>BE</td>\n",
       "      <td>0</td>\n",
       "      <td>0</td>\n",
       "    </tr>\n",
       "    <tr>\n",
       "      <th>398911</th>\n",
       "      <td>468177111</td>\n",
       "      <td>109906981</td>\n",
       "      <td>2018-05-02</td>\n",
       "      <td>21:05</td>\n",
       "      <td>1</td>\n",
       "      <td>6175474</td>\n",
       "      <td>-4.80</td>\n",
       "      <td>0.0</td>\n",
       "      <td>-3.9669</td>\n",
       "      <td>-3.9669</td>\n",
       "      <td>-3.9669</td>\n",
       "      <td>0</td>\n",
       "      <td>6</td>\n",
       "      <td>42715</td>\n",
       "      <td>0</td>\n",
       "      <td>L</td>\n",
       "      <td>0</td>\n",
       "      <td>BE</td>\n",
       "      <td>0</td>\n",
       "      <td>0</td>\n",
       "    </tr>\n",
       "    <tr>\n",
       "      <th>470120</th>\n",
       "      <td>474741546</td>\n",
       "      <td>111548496</td>\n",
       "      <td>2018-05-28</td>\n",
       "      <td>15:04</td>\n",
       "      <td>1</td>\n",
       "      <td>6317107</td>\n",
       "      <td>-3.00</td>\n",
       "      <td>0.0</td>\n",
       "      <td>-2.4000</td>\n",
       "      <td>-2.4000</td>\n",
       "      <td>-2.4000</td>\n",
       "      <td>0</td>\n",
       "      <td>6</td>\n",
       "      <td>42715</td>\n",
       "      <td>0</td>\n",
       "      <td>L</td>\n",
       "      <td>0</td>\n",
       "      <td>HR</td>\n",
       "      <td>0</td>\n",
       "      <td>0</td>\n",
       "    </tr>\n",
       "    <tr>\n",
       "      <th>513325</th>\n",
       "      <td>480471886</td>\n",
       "      <td>112995765</td>\n",
       "      <td>2018-06-18</td>\n",
       "      <td>10:42</td>\n",
       "      <td>1</td>\n",
       "      <td>6812780</td>\n",
       "      <td>-3.05</td>\n",
       "      <td>0.0</td>\n",
       "      <td>-2.5000</td>\n",
       "      <td>-2.5000</td>\n",
       "      <td>-2.5000</td>\n",
       "      <td>0</td>\n",
       "      <td>6</td>\n",
       "      <td>42715</td>\n",
       "      <td>0</td>\n",
       "      <td>L</td>\n",
       "      <td>0</td>\n",
       "      <td>I</td>\n",
       "      <td>0</td>\n",
       "      <td>0</td>\n",
       "    </tr>\n",
       "    <tr>\n",
       "      <th>533047</th>\n",
       "      <td>482812322</td>\n",
       "      <td>113570166</td>\n",
       "      <td>2018-06-26</td>\n",
       "      <td>16:19</td>\n",
       "      <td>1</td>\n",
       "      <td>1525907</td>\n",
       "      <td>-3.15</td>\n",
       "      <td>0.0</td>\n",
       "      <td>-2.5820</td>\n",
       "      <td>-2.5820</td>\n",
       "      <td>-2.5820</td>\n",
       "      <td>0</td>\n",
       "      <td>6</td>\n",
       "      <td>42715</td>\n",
       "      <td>0</td>\n",
       "      <td>L</td>\n",
       "      <td>0</td>\n",
       "      <td>I</td>\n",
       "      <td>0</td>\n",
       "      <td>0</td>\n",
       "    </tr>\n",
       "    <tr>\n",
       "      <th>535156</th>\n",
       "      <td>482719372</td>\n",
       "      <td>113519981</td>\n",
       "      <td>2018-06-25</td>\n",
       "      <td>22:47</td>\n",
       "      <td>1</td>\n",
       "      <td>11326234</td>\n",
       "      <td>-14.48</td>\n",
       "      <td>0.0</td>\n",
       "      <td>-12.0946</td>\n",
       "      <td>-12.0946</td>\n",
       "      <td>-12.0946</td>\n",
       "      <td>0</td>\n",
       "      <td>6</td>\n",
       "      <td>42715</td>\n",
       "      <td>0</td>\n",
       "      <td>L</td>\n",
       "      <td>0</td>\n",
       "      <td>BE</td>\n",
       "      <td>0</td>\n",
       "      <td>0</td>\n",
       "    </tr>\n",
       "    <tr>\n",
       "      <th>542902</th>\n",
       "      <td>483655602</td>\n",
       "      <td>113774632</td>\n",
       "      <td>2018-06-29</td>\n",
       "      <td>11:11</td>\n",
       "      <td>1</td>\n",
       "      <td>14158834</td>\n",
       "      <td>-3.35</td>\n",
       "      <td>0.0</td>\n",
       "      <td>-2.7686</td>\n",
       "      <td>-2.7686</td>\n",
       "      <td>-2.7686</td>\n",
       "      <td>0</td>\n",
       "      <td>6</td>\n",
       "      <td>42715</td>\n",
       "      <td>0</td>\n",
       "      <td>L</td>\n",
       "      <td>0</td>\n",
       "      <td>LV</td>\n",
       "      <td>0</td>\n",
       "      <td>0</td>\n",
       "    </tr>\n",
       "  </tbody>\n",
       "</table>\n",
       "</div>"
      ],
      "text/plain": [
       "        SCM_N_ORDER_POS_NR  SCM_N_ORDER_NR TDT_T_KEY_ORDER_DATE  \\\n",
       "325663           461453099       108221688           2018-04-07   \n",
       "328436           461074620       108124744           2018-04-05   \n",
       "339647           462972326       108600981           2018-04-12   \n",
       "347416           462436151       108469204           2018-04-10   \n",
       "359125           464078728       108875786           2018-04-17   \n",
       "383948           466217627       109390659           2018-04-25   \n",
       "388286           468547814       109579680           2018-04-27   \n",
       "398911           468177111       109906981           2018-05-02   \n",
       "470120           474741546       111548496           2018-05-28   \n",
       "513325           480471886       112995765           2018-06-18   \n",
       "533047           482812322       113570166           2018-06-26   \n",
       "535156           482719372       113519981           2018-06-25   \n",
       "542902           483655602       113774632           2018-06-29   \n",
       "\n",
       "       THR_C_KEY_ORDER_HOUR  SIT_N_KEY_SITE  CUS_N_KEY_CUSTOMER  \\\n",
       "325663                12:10               1            19462723   \n",
       "328436                17:18               1            19706275   \n",
       "339647                17:49               1             8815537   \n",
       "347416                21:32               1             6662671   \n",
       "359125                00:05               1             8968899   \n",
       "383948                07:30               1             7275054   \n",
       "388286                22:19               1            11326234   \n",
       "398911                21:05               1             6175474   \n",
       "470120                15:04               1             6317107   \n",
       "513325                10:42               1             6812780   \n",
       "533047                16:19               1             1525907   \n",
       "535156                22:47               1            11326234   \n",
       "542902                11:11               1            14158834   \n",
       "\n",
       "        SCM_SALES_BMF  SCM_SALES_CANCEL_BMF  SCM_D_FINANCE_CM1  \\\n",
       "325663          -6.71                   0.0            -5.5000   \n",
       "328436         -23.69                   0.0           -18.9520   \n",
       "339647         -11.90                   0.0            -9.8347   \n",
       "347416          -3.56                   0.0            -3.2963   \n",
       "359125          -1.78                   0.0            -1.4590   \n",
       "383948          -6.25                   0.0            -5.1653   \n",
       "388286         -15.81                   0.0           -13.0661   \n",
       "398911          -4.80                   0.0            -3.9669   \n",
       "470120          -3.00                   0.0            -2.4000   \n",
       "513325          -3.05                   0.0            -2.5000   \n",
       "533047          -3.15                   0.0            -2.5820   \n",
       "535156         -14.48                   0.0           -12.0946   \n",
       "542902          -3.35                   0.0            -2.7686   \n",
       "\n",
       "        SCM_D_FINANCE_CM2  SCM_D_ORIG_FINANCE_ORDER_NET  SCM_AP_ID  SCM_AS_ID  \\\n",
       "325663            -5.5000                       -5.5000          0          6   \n",
       "328436           -18.9520                      -18.9520          0          6   \n",
       "339647            -9.8347                       -9.8347          0          6   \n",
       "347416            -3.2963                       -3.2963          0          6   \n",
       "359125            -1.4590                       -1.4590          0          6   \n",
       "383948            -5.1653                       -5.1653          0          6   \n",
       "388286           -13.0661                      -13.0661          0          6   \n",
       "398911            -3.9669                       -3.9669          0          6   \n",
       "470120            -2.4000                       -2.4000          0          6   \n",
       "513325            -2.5000                       -2.5000          0          6   \n",
       "533047            -2.5820                       -2.5820          0          6   \n",
       "535156           -12.0946                      -12.0946          0          6   \n",
       "542902            -2.7686                       -2.7686          0          6   \n",
       "\n",
       "        SCM_MASTER_AP_ID  SCM_IS_ZSP_ORDER SCM_C_ORDER_STATUS  \\\n",
       "325663             42715                 0                  L   \n",
       "328436             42715                 0                  L   \n",
       "339647             42715                 0                  L   \n",
       "347416             42715                 0                  L   \n",
       "359125             42715                 0                  L   \n",
       "383948             42715                 1                  L   \n",
       "388286             42715                 0                  L   \n",
       "398911             42715                 0                  L   \n",
       "470120             42715                 0                  L   \n",
       "513325             42715                 0                  L   \n",
       "533047             42715                 0                  L   \n",
       "535156             42715                 0                  L   \n",
       "542902             42715                 0                  L   \n",
       "\n",
       "        CTP_N_KEY_CUSTOMER_TYPE SCM_OCI_LAND  SCM_D_FC_ID  SCM_D_PC_DSP  \n",
       "325663                        0            I            0             0  \n",
       "328436                        0           HR            0             0  \n",
       "339647                        0           BE            0             0  \n",
       "347416                        0           PL            0             0  \n",
       "359125                        0            I            0             0  \n",
       "383948                        0           BE            0             0  \n",
       "388286                        0           BE            0             0  \n",
       "398911                        0           BE            0             0  \n",
       "470120                        0           HR            0             0  \n",
       "513325                        0            I            0             0  \n",
       "533047                        0            I            0             0  \n",
       "535156                        0           BE            0             0  \n",
       "542902                        0           LV            0             0  "
      ]
     },
     "execution_count": 54,
     "metadata": {},
     "output_type": "execute_result"
    }
   ],
   "source": [
    "dcr_sp_q2_18[(dcr_sp_q2_18['SCM_MASTER_AP_ID'] == 42715) & (dcr_sp_q2_18['CZP_START_DATE'] > '2018-03-13')][dcr_sp_q2_18.columns[:20]]"
   ]
  },
  {
   "cell_type": "code",
   "execution_count": 55,
   "metadata": {
    "ExecuteTime": {
     "end_time": "2018-07-12T12:05:51.109837Z",
     "start_time": "2018-07-12T12:05:51.101837Z"
    }
   },
   "outputs": [],
   "source": [
    "dcr_sp_q2_18[(dcr_sp_q2_18['SCM_MASTER_AP_ID'] == 42715) &\n",
    "             (dcr_sp_q2_18['CZP_START_DATE'] > '2018-03-13')].to_csv('orders_from_sp_sold_after_dcr_implementation_including_discount.csv', \n",
    "            sep=';', index=False, encoding='utf-8')"
   ]
  },
  {
   "cell_type": "code",
   "execution_count": 56,
   "metadata": {
    "ExecuteTime": {
     "end_time": "2018-07-12T12:05:51.127837Z",
     "start_time": "2018-07-12T12:05:51.111837Z"
    }
   },
   "outputs": [
    {
     "data": {
      "text/plain": [
       "-101.53"
      ]
     },
     "execution_count": 56,
     "metadata": {},
     "output_type": "execute_result"
    }
   ],
   "source": [
    "# Money not supossed to be spent\n",
    "dcr_sp_q2_18[(dcr_sp_q2_18['SCM_MASTER_AP_ID'] == 42715) & (dcr_sp_q2_18['CZP_START_DATE'] > '2018-03-13')]['SCM_SALES_BMF'].sum()"
   ]
  },
  {
   "cell_type": "code",
   "execution_count": 57,
   "metadata": {
    "ExecuteTime": {
     "end_time": "2018-07-12T12:05:51.150837Z",
     "start_time": "2018-07-12T12:05:51.128837Z"
    }
   },
   "outputs": [
    {
     "data": {
      "text/plain": [
       "10448"
      ]
     },
     "execution_count": 57,
     "metadata": {},
     "output_type": "execute_result"
    }
   ],
   "source": [
    "# Orders having an old SP bought before the DCR implementation applying the discount\n",
    "dcr_sp_q2_18[(dcr_sp_q2_18['SCM_MASTER_AP_ID'] == 42715) & (dcr_sp_q2_18['CZP_START_DATE'] <= '2018-03-13')]['SCM_N_ORDER_NR'].nunique()"
   ]
  },
  {
   "cell_type": "code",
   "execution_count": 58,
   "metadata": {
    "ExecuteTime": {
     "end_time": "2018-07-12T12:05:51.164837Z",
     "start_time": "2018-07-12T12:05:51.151837Z"
    }
   },
   "outputs": [
    {
     "data": {
      "text/plain": [
       "-96078.05000000002"
      ]
     },
     "execution_count": 58,
     "metadata": {},
     "output_type": "execute_result"
    }
   ],
   "source": [
    "# Discount spent in orders having an old SP bought before the DCR implementation\n",
    "dcr_sp_q2_18[(dcr_sp_q2_18['SCM_MASTER_AP_ID'] == 42715) & (dcr_sp_q2_18['CZP_START_DATE'] <= '2018-03-13')]['SCM_SALES_BMF'].sum()"
   ]
  },
  {
   "cell_type": "code",
   "execution_count": 59,
   "metadata": {
    "ExecuteTime": {
     "end_time": "2018-07-12T12:05:51.178837Z",
     "start_time": "2018-07-12T12:05:51.165837Z"
    }
   },
   "outputs": [
    {
     "data": {
      "text/plain": [
       "13"
      ]
     },
     "execution_count": 59,
     "metadata": {},
     "output_type": "execute_result"
    }
   ],
   "source": [
    "# Orders with SP discount and no SP seems to be active (BUG)\n",
    "dcr_sp_q2_18[(dcr_sp_q2_18['SCM_MASTER_AP_ID'] == 42715) & (dcr_sp_q2_18['CZP_START_DATE'].isnull())]['SCM_N_ORDER_NR'].nunique()"
   ]
  },
  {
   "cell_type": "code",
   "execution_count": 60,
   "metadata": {
    "ExecuteTime": {
     "end_time": "2018-07-12T12:05:51.211837Z",
     "start_time": "2018-07-12T12:05:51.179837Z"
    }
   },
   "outputs": [
    {
     "data": {
      "text/html": [
       "<div>\n",
       "<style scoped>\n",
       "    .dataframe tbody tr th:only-of-type {\n",
       "        vertical-align: middle;\n",
       "    }\n",
       "\n",
       "    .dataframe tbody tr th {\n",
       "        vertical-align: top;\n",
       "    }\n",
       "\n",
       "    .dataframe thead th {\n",
       "        text-align: right;\n",
       "    }\n",
       "</style>\n",
       "<table border=\"1\" class=\"dataframe\">\n",
       "  <thead>\n",
       "    <tr style=\"text-align: right;\">\n",
       "      <th></th>\n",
       "      <th>SCM_N_ORDER_POS_NR</th>\n",
       "      <th>SCM_N_ORDER_NR</th>\n",
       "      <th>TDT_T_KEY_ORDER_DATE</th>\n",
       "      <th>THR_C_KEY_ORDER_HOUR</th>\n",
       "      <th>SIT_N_KEY_SITE</th>\n",
       "      <th>CUS_N_KEY_CUSTOMER</th>\n",
       "      <th>SCM_SALES_BMF</th>\n",
       "      <th>SCM_SALES_CANCEL_BMF</th>\n",
       "      <th>SCM_D_FINANCE_CM1</th>\n",
       "      <th>SCM_D_FINANCE_CM2</th>\n",
       "      <th>SCM_D_ORIG_FINANCE_ORDER_NET</th>\n",
       "      <th>SCM_AP_ID</th>\n",
       "      <th>SCM_AS_ID</th>\n",
       "      <th>SCM_MASTER_AP_ID</th>\n",
       "      <th>SCM_IS_ZSP_ORDER</th>\n",
       "      <th>SCM_C_ORDER_STATUS</th>\n",
       "      <th>CTP_N_KEY_CUSTOMER_TYPE</th>\n",
       "      <th>SCM_OCI_LAND</th>\n",
       "      <th>SCM_D_FC_ID</th>\n",
       "      <th>SCM_D_PC_DSP</th>\n",
       "    </tr>\n",
       "  </thead>\n",
       "  <tbody>\n",
       "    <tr>\n",
       "      <th>329320</th>\n",
       "      <td>461252075</td>\n",
       "      <td>108170011</td>\n",
       "      <td>2018-04-06</td>\n",
       "      <td>11:32</td>\n",
       "      <td>1</td>\n",
       "      <td>7140892</td>\n",
       "      <td>-2.50</td>\n",
       "      <td>0.0</td>\n",
       "      <td>-2.0000</td>\n",
       "      <td>-2.0000</td>\n",
       "      <td>-2.0000</td>\n",
       "      <td>0</td>\n",
       "      <td>6</td>\n",
       "      <td>42715</td>\n",
       "      <td>0</td>\n",
       "      <td>L</td>\n",
       "      <td>0</td>\n",
       "      <td>DK</td>\n",
       "      <td>0</td>\n",
       "      <td>0</td>\n",
       "    </tr>\n",
       "    <tr>\n",
       "      <th>353246</th>\n",
       "      <td>462657995</td>\n",
       "      <td>108523834</td>\n",
       "      <td>2018-04-11</td>\n",
       "      <td>17:11</td>\n",
       "      <td>1</td>\n",
       "      <td>5621569</td>\n",
       "      <td>-29.05</td>\n",
       "      <td>0.0</td>\n",
       "      <td>-25.1461</td>\n",
       "      <td>-25.1461</td>\n",
       "      <td>-25.1461</td>\n",
       "      <td>0</td>\n",
       "      <td>6</td>\n",
       "      <td>42715</td>\n",
       "      <td>0</td>\n",
       "      <td>L</td>\n",
       "      <td>0</td>\n",
       "      <td>E1</td>\n",
       "      <td>0</td>\n",
       "      <td>0</td>\n",
       "    </tr>\n",
       "    <tr>\n",
       "      <th>379657</th>\n",
       "      <td>465290665</td>\n",
       "      <td>109179574</td>\n",
       "      <td>2018-04-22</td>\n",
       "      <td>12:08</td>\n",
       "      <td>1</td>\n",
       "      <td>13943099</td>\n",
       "      <td>-2.07</td>\n",
       "      <td>0.0</td>\n",
       "      <td>-1.7250</td>\n",
       "      <td>-1.7250</td>\n",
       "      <td>-1.7250</td>\n",
       "      <td>0</td>\n",
       "      <td>6</td>\n",
       "      <td>42715</td>\n",
       "      <td>0</td>\n",
       "      <td>L</td>\n",
       "      <td>0</td>\n",
       "      <td>EE</td>\n",
       "      <td>0</td>\n",
       "      <td>0</td>\n",
       "    </tr>\n",
       "    <tr>\n",
       "      <th>407716</th>\n",
       "      <td>468733956</td>\n",
       "      <td>110048695</td>\n",
       "      <td>2018-05-05</td>\n",
       "      <td>07:54</td>\n",
       "      <td>1</td>\n",
       "      <td>1301271</td>\n",
       "      <td>-1.97</td>\n",
       "      <td>0.0</td>\n",
       "      <td>-1.6281</td>\n",
       "      <td>-1.6281</td>\n",
       "      <td>-1.6281</td>\n",
       "      <td>0</td>\n",
       "      <td>6</td>\n",
       "      <td>42715</td>\n",
       "      <td>0</td>\n",
       "      <td>L</td>\n",
       "      <td>0</td>\n",
       "      <td>BE</td>\n",
       "      <td>0</td>\n",
       "      <td>0</td>\n",
       "    </tr>\n",
       "    <tr>\n",
       "      <th>434083</th>\n",
       "      <td>471322566</td>\n",
       "      <td>110700500</td>\n",
       "      <td>2018-05-15</td>\n",
       "      <td>10:36</td>\n",
       "      <td>1</td>\n",
       "      <td>8674356</td>\n",
       "      <td>-8.20</td>\n",
       "      <td>0.0</td>\n",
       "      <td>-6.7213</td>\n",
       "      <td>-6.7213</td>\n",
       "      <td>-6.7213</td>\n",
       "      <td>0</td>\n",
       "      <td>6</td>\n",
       "      <td>42715</td>\n",
       "      <td>0</td>\n",
       "      <td>L</td>\n",
       "      <td>0</td>\n",
       "      <td>I</td>\n",
       "      <td>0</td>\n",
       "      <td>0</td>\n",
       "    </tr>\n",
       "    <tr>\n",
       "      <th>495599</th>\n",
       "      <td>477351933</td>\n",
       "      <td>112204641</td>\n",
       "      <td>2018-06-06</td>\n",
       "      <td>12:15</td>\n",
       "      <td>1</td>\n",
       "      <td>19216051</td>\n",
       "      <td>-3.00</td>\n",
       "      <td>0.0</td>\n",
       "      <td>-2.5065</td>\n",
       "      <td>-2.5065</td>\n",
       "      <td>-2.5065</td>\n",
       "      <td>0</td>\n",
       "      <td>6</td>\n",
       "      <td>42715</td>\n",
       "      <td>0</td>\n",
       "      <td>L</td>\n",
       "      <td>0</td>\n",
       "      <td>E1</td>\n",
       "      <td>0</td>\n",
       "      <td>0</td>\n",
       "    </tr>\n",
       "    <tr>\n",
       "      <th>512509</th>\n",
       "      <td>480522839</td>\n",
       "      <td>113009418</td>\n",
       "      <td>2018-06-18</td>\n",
       "      <td>13:18</td>\n",
       "      <td>1</td>\n",
       "      <td>16850559</td>\n",
       "      <td>-1.33</td>\n",
       "      <td>0.0</td>\n",
       "      <td>-1.1083</td>\n",
       "      <td>-1.1083</td>\n",
       "      <td>-1.1083</td>\n",
       "      <td>0</td>\n",
       "      <td>6</td>\n",
       "      <td>42715</td>\n",
       "      <td>0</td>\n",
       "      <td>L</td>\n",
       "      <td>0</td>\n",
       "      <td>EE</td>\n",
       "      <td>0</td>\n",
       "      <td>0</td>\n",
       "    </tr>\n",
       "    <tr>\n",
       "      <th>516834</th>\n",
       "      <td>480795393</td>\n",
       "      <td>113078804</td>\n",
       "      <td>2018-06-19</td>\n",
       "      <td>11:00</td>\n",
       "      <td>1</td>\n",
       "      <td>10397216</td>\n",
       "      <td>-2.40</td>\n",
       "      <td>0.0</td>\n",
       "      <td>-2.0000</td>\n",
       "      <td>-2.0000</td>\n",
       "      <td>-2.0000</td>\n",
       "      <td>0</td>\n",
       "      <td>6</td>\n",
       "      <td>42715</td>\n",
       "      <td>0</td>\n",
       "      <td>L</td>\n",
       "      <td>0</td>\n",
       "      <td>EE</td>\n",
       "      <td>0</td>\n",
       "      <td>0</td>\n",
       "    </tr>\n",
       "    <tr>\n",
       "      <th>524075</th>\n",
       "      <td>481632761</td>\n",
       "      <td>113284732</td>\n",
       "      <td>2018-06-22</td>\n",
       "      <td>09:24</td>\n",
       "      <td>1</td>\n",
       "      <td>16856365</td>\n",
       "      <td>-0.50</td>\n",
       "      <td>0.0</td>\n",
       "      <td>-0.4132</td>\n",
       "      <td>-0.4132</td>\n",
       "      <td>-0.4132</td>\n",
       "      <td>0</td>\n",
       "      <td>6</td>\n",
       "      <td>42715</td>\n",
       "      <td>0</td>\n",
       "      <td>L</td>\n",
       "      <td>0</td>\n",
       "      <td>LV</td>\n",
       "      <td>0</td>\n",
       "      <td>0</td>\n",
       "    </tr>\n",
       "    <tr>\n",
       "      <th>525310</th>\n",
       "      <td>481131397</td>\n",
       "      <td>113162761</td>\n",
       "      <td>2018-06-20</td>\n",
       "      <td>12:47</td>\n",
       "      <td>1</td>\n",
       "      <td>18418264</td>\n",
       "      <td>-38.13</td>\n",
       "      <td>0.0</td>\n",
       "      <td>-34.6636</td>\n",
       "      <td>-34.6636</td>\n",
       "      <td>-34.6636</td>\n",
       "      <td>0</td>\n",
       "      <td>6</td>\n",
       "      <td>42715</td>\n",
       "      <td>0</td>\n",
       "      <td>L</td>\n",
       "      <td>0</td>\n",
       "      <td>E2</td>\n",
       "      <td>0</td>\n",
       "      <td>0</td>\n",
       "    </tr>\n",
       "    <tr>\n",
       "      <th>525484</th>\n",
       "      <td>481116411</td>\n",
       "      <td>113158936</td>\n",
       "      <td>2018-06-20</td>\n",
       "      <td>11:55</td>\n",
       "      <td>1</td>\n",
       "      <td>19216051</td>\n",
       "      <td>-1.75</td>\n",
       "      <td>0.0</td>\n",
       "      <td>-1.4463</td>\n",
       "      <td>-1.4463</td>\n",
       "      <td>-1.4463</td>\n",
       "      <td>0</td>\n",
       "      <td>6</td>\n",
       "      <td>42715</td>\n",
       "      <td>0</td>\n",
       "      <td>L</td>\n",
       "      <td>0</td>\n",
       "      <td>E1</td>\n",
       "      <td>0</td>\n",
       "      <td>0</td>\n",
       "    </tr>\n",
       "    <tr>\n",
       "      <th>525755</th>\n",
       "      <td>481115834</td>\n",
       "      <td>113159140</td>\n",
       "      <td>2018-06-20</td>\n",
       "      <td>11:57</td>\n",
       "      <td>1</td>\n",
       "      <td>19216051</td>\n",
       "      <td>-1.25</td>\n",
       "      <td>0.0</td>\n",
       "      <td>-1.0602</td>\n",
       "      <td>-1.0602</td>\n",
       "      <td>-1.0602</td>\n",
       "      <td>0</td>\n",
       "      <td>6</td>\n",
       "      <td>42715</td>\n",
       "      <td>0</td>\n",
       "      <td>L</td>\n",
       "      <td>0</td>\n",
       "      <td>E1</td>\n",
       "      <td>0</td>\n",
       "      <td>0</td>\n",
       "    </tr>\n",
       "    <tr>\n",
       "      <th>539508</th>\n",
       "      <td>483620426</td>\n",
       "      <td>113765927</td>\n",
       "      <td>2018-06-29</td>\n",
       "      <td>09:18</td>\n",
       "      <td>1</td>\n",
       "      <td>6838140</td>\n",
       "      <td>-7.60</td>\n",
       "      <td>0.0</td>\n",
       "      <td>-6.0800</td>\n",
       "      <td>-6.0800</td>\n",
       "      <td>-6.0800</td>\n",
       "      <td>0</td>\n",
       "      <td>6</td>\n",
       "      <td>42715</td>\n",
       "      <td>0</td>\n",
       "      <td>L</td>\n",
       "      <td>0</td>\n",
       "      <td>DK</td>\n",
       "      <td>0</td>\n",
       "      <td>0</td>\n",
       "    </tr>\n",
       "  </tbody>\n",
       "</table>\n",
       "</div>"
      ],
      "text/plain": [
       "        SCM_N_ORDER_POS_NR  SCM_N_ORDER_NR TDT_T_KEY_ORDER_DATE  \\\n",
       "329320           461252075       108170011           2018-04-06   \n",
       "353246           462657995       108523834           2018-04-11   \n",
       "379657           465290665       109179574           2018-04-22   \n",
       "407716           468733956       110048695           2018-05-05   \n",
       "434083           471322566       110700500           2018-05-15   \n",
       "495599           477351933       112204641           2018-06-06   \n",
       "512509           480522839       113009418           2018-06-18   \n",
       "516834           480795393       113078804           2018-06-19   \n",
       "524075           481632761       113284732           2018-06-22   \n",
       "525310           481131397       113162761           2018-06-20   \n",
       "525484           481116411       113158936           2018-06-20   \n",
       "525755           481115834       113159140           2018-06-20   \n",
       "539508           483620426       113765927           2018-06-29   \n",
       "\n",
       "       THR_C_KEY_ORDER_HOUR  SIT_N_KEY_SITE  CUS_N_KEY_CUSTOMER  \\\n",
       "329320                11:32               1             7140892   \n",
       "353246                17:11               1             5621569   \n",
       "379657                12:08               1            13943099   \n",
       "407716                07:54               1             1301271   \n",
       "434083                10:36               1             8674356   \n",
       "495599                12:15               1            19216051   \n",
       "512509                13:18               1            16850559   \n",
       "516834                11:00               1            10397216   \n",
       "524075                09:24               1            16856365   \n",
       "525310                12:47               1            18418264   \n",
       "525484                11:55               1            19216051   \n",
       "525755                11:57               1            19216051   \n",
       "539508                09:18               1             6838140   \n",
       "\n",
       "        SCM_SALES_BMF  SCM_SALES_CANCEL_BMF  SCM_D_FINANCE_CM1  \\\n",
       "329320          -2.50                   0.0            -2.0000   \n",
       "353246         -29.05                   0.0           -25.1461   \n",
       "379657          -2.07                   0.0            -1.7250   \n",
       "407716          -1.97                   0.0            -1.6281   \n",
       "434083          -8.20                   0.0            -6.7213   \n",
       "495599          -3.00                   0.0            -2.5065   \n",
       "512509          -1.33                   0.0            -1.1083   \n",
       "516834          -2.40                   0.0            -2.0000   \n",
       "524075          -0.50                   0.0            -0.4132   \n",
       "525310         -38.13                   0.0           -34.6636   \n",
       "525484          -1.75                   0.0            -1.4463   \n",
       "525755          -1.25                   0.0            -1.0602   \n",
       "539508          -7.60                   0.0            -6.0800   \n",
       "\n",
       "        SCM_D_FINANCE_CM2  SCM_D_ORIG_FINANCE_ORDER_NET  SCM_AP_ID  SCM_AS_ID  \\\n",
       "329320            -2.0000                       -2.0000          0          6   \n",
       "353246           -25.1461                      -25.1461          0          6   \n",
       "379657            -1.7250                       -1.7250          0          6   \n",
       "407716            -1.6281                       -1.6281          0          6   \n",
       "434083            -6.7213                       -6.7213          0          6   \n",
       "495599            -2.5065                       -2.5065          0          6   \n",
       "512509            -1.1083                       -1.1083          0          6   \n",
       "516834            -2.0000                       -2.0000          0          6   \n",
       "524075            -0.4132                       -0.4132          0          6   \n",
       "525310           -34.6636                      -34.6636          0          6   \n",
       "525484            -1.4463                       -1.4463          0          6   \n",
       "525755            -1.0602                       -1.0602          0          6   \n",
       "539508            -6.0800                       -6.0800          0          6   \n",
       "\n",
       "        SCM_MASTER_AP_ID  SCM_IS_ZSP_ORDER SCM_C_ORDER_STATUS  \\\n",
       "329320             42715                 0                  L   \n",
       "353246             42715                 0                  L   \n",
       "379657             42715                 0                  L   \n",
       "407716             42715                 0                  L   \n",
       "434083             42715                 0                  L   \n",
       "495599             42715                 0                  L   \n",
       "512509             42715                 0                  L   \n",
       "516834             42715                 0                  L   \n",
       "524075             42715                 0                  L   \n",
       "525310             42715                 0                  L   \n",
       "525484             42715                 0                  L   \n",
       "525755             42715                 0                  L   \n",
       "539508             42715                 0                  L   \n",
       "\n",
       "        CTP_N_KEY_CUSTOMER_TYPE SCM_OCI_LAND  SCM_D_FC_ID  SCM_D_PC_DSP  \n",
       "329320                        0           DK            0             0  \n",
       "353246                        0           E1            0             0  \n",
       "379657                        0           EE            0             0  \n",
       "407716                        0           BE            0             0  \n",
       "434083                        0            I            0             0  \n",
       "495599                        0           E1            0             0  \n",
       "512509                        0           EE            0             0  \n",
       "516834                        0           EE            0             0  \n",
       "524075                        0           LV            0             0  \n",
       "525310                        0           E2            0             0  \n",
       "525484                        0           E1            0             0  \n",
       "525755                        0           E1            0             0  \n",
       "539508                        0           DK            0             0  "
      ]
     },
     "execution_count": 60,
     "metadata": {},
     "output_type": "execute_result"
    }
   ],
   "source": [
    "dcr_sp_q2_18[(dcr_sp_q2_18['SCM_MASTER_AP_ID'] == 42715) & (dcr_sp_q2_18['CZP_START_DATE'].isnull())][dcr_sp_q2_18.columns[:20]]"
   ]
  },
  {
   "cell_type": "code",
   "execution_count": 61,
   "metadata": {
    "ExecuteTime": {
     "end_time": "2018-07-12T12:05:51.222837Z",
     "start_time": "2018-07-12T12:05:51.213837Z"
    }
   },
   "outputs": [],
   "source": [
    "dcr_sp_q2_18[(dcr_sp_q2_18['SCM_MASTER_AP_ID'] == 42715) \n",
    "             & (dcr_sp_q2_18['CZP_START_DATE'].isnull())].to_csv('orders_with_sp_discount_and_no_sp_active.csv', \n",
    "            sep=';', index=False, encoding='utf-8')"
   ]
  },
  {
   "cell_type": "code",
   "execution_count": 62,
   "metadata": {
    "ExecuteTime": {
     "end_time": "2018-07-12T12:05:51.237837Z",
     "start_time": "2018-07-12T12:05:51.224837Z"
    }
   },
   "outputs": [
    {
     "data": {
      "text/plain": [
       "-99.75"
      ]
     },
     "execution_count": 62,
     "metadata": {},
     "output_type": "execute_result"
    }
   ],
   "source": [
    "dcr_sp_q2_18[(dcr_sp_q2_18['SCM_MASTER_AP_ID'] == 42715) & (dcr_sp_q2_18['CZP_START_DATE'].isnull())]['SCM_SALES_BMF'].sum()"
   ]
  },
  {
   "cell_type": "code",
   "execution_count": 63,
   "metadata": {
    "ExecuteTime": {
     "end_time": "2018-07-12T12:05:51.259837Z",
     "start_time": "2018-07-12T12:05:51.239837Z"
    }
   },
   "outputs": [
    {
     "data": {
      "text/plain": [
       "517"
      ]
     },
     "execution_count": 63,
     "metadata": {},
     "output_type": "execute_result"
    }
   ],
   "source": [
    "# Orders having a SP bought after the DCR implementation\n",
    "dcr_sp_q2_18[dcr_sp_q2_18['CZP_START_DATE'] > '2018-03-13']['SCM_N_ORDER_NR'].nunique()"
   ]
  },
  {
   "cell_type": "code",
   "execution_count": 64,
   "metadata": {
    "ExecuteTime": {
     "end_time": "2018-07-12T12:05:51.271837Z",
     "start_time": "2018-07-12T12:05:51.260837Z"
    }
   },
   "outputs": [],
   "source": [
    "# Orders having a SP bought after the DCR implementation with discount appearing in them\n",
    "wrong_orders = dcr_sp_q2_18[(dcr_sp_q2_18['SCM_MASTER_AP_ID'] == 42715) & (dcr_sp_q2_18['CZP_START_DATE'] > '2018-03-13')]['SCM_N_ORDER_NR'].values"
   ]
  },
  {
   "cell_type": "code",
   "execution_count": 65,
   "metadata": {
    "ExecuteTime": {
     "end_time": "2018-07-12T12:05:51.282837Z",
     "start_time": "2018-07-12T12:05:51.272837Z"
    }
   },
   "outputs": [
    {
     "data": {
      "text/plain": [
       "13"
      ]
     },
     "execution_count": 65,
     "metadata": {},
     "output_type": "execute_result"
    }
   ],
   "source": [
    "len(wrong_orders)"
   ]
  },
  {
   "cell_type": "code",
   "execution_count": 66,
   "metadata": {
    "ExecuteTime": {
     "end_time": "2018-07-12T12:05:51.308837Z",
     "start_time": "2018-07-12T12:05:51.284837Z"
    }
   },
   "outputs": [
    {
     "data": {
      "text/plain": [
       "504"
      ]
     },
     "execution_count": 66,
     "metadata": {},
     "output_type": "execute_result"
    }
   ],
   "source": [
    "# Orders having a SP bought after the DCR implementation without any SP discount\n",
    "dcr_sp_q2_18[(dcr_sp_q2_18['CZP_START_DATE'] > '2018-03-13') & (~dcr_sp_q2_18['SCM_N_ORDER_NR'].isin(wrong_orders))]['SCM_N_ORDER_NR'].nunique()"
   ]
  },
  {
   "cell_type": "code",
   "execution_count": 67,
   "metadata": {
    "ExecuteTime": {
     "end_time": "2018-07-12T12:05:51.325837Z",
     "start_time": "2018-07-12T12:05:51.310837Z"
    }
   },
   "outputs": [
    {
     "data": {
      "text/plain": [
       "62060.821"
      ]
     },
     "execution_count": 67,
     "metadata": {},
     "output_type": "execute_result"
    }
   ],
   "source": [
    "# Sales coming from these orders\n",
    "dcr_sp_q2_18[(dcr_sp_q2_18['CZP_START_DATE'] > '2018-03-13') & (~dcr_sp_q2_18['SCM_N_ORDER_NR'].isin(wrong_orders))]['SCM_SALES_BMF'].sum()"
   ]
  },
  {
   "cell_type": "code",
   "execution_count": 68,
   "metadata": {
    "ExecuteTime": {
     "end_time": "2018-07-12T12:05:51.352837Z",
     "start_time": "2018-07-12T12:05:51.326837Z"
    }
   },
   "outputs": [
    {
     "data": {
      "text/plain": [
       "2980.7008619999997"
      ]
     },
     "execution_count": 68,
     "metadata": {},
     "output_type": "execute_result"
    }
   ],
   "source": [
    "# Money saved due to DCR (apply for each order the % discount for the current SP)\n",
    "(dcr_sp_q2_18[(dcr_sp_q2_18['CZP_START_DATE'] > '2018-03-13') &\n",
    "             (~dcr_sp_q2_18['SCM_N_ORDER_NR'].isin(wrong_orders))].groupby('SCM_N_ORDER_NR')['SCM_SALES_BMF'].sum() *\\\n",
    "dcr_sp_q2_18[(dcr_sp_q2_18['CZP_START_DATE'] > '2018-03-13') &\n",
    "             (~dcr_sp_q2_18['SCM_N_ORDER_NR'].isin(wrong_orders))].groupby('SCM_N_ORDER_NR')['CZP_PERCENTAGE'].mean() / 100).sum()"
   ]
  },
  {
   "cell_type": "code",
   "execution_count": null,
   "metadata": {},
   "outputs": [],
   "source": []
  }
 ],
 "metadata": {
  "hide_input": false,
  "kernelspec": {
   "display_name": "Python [default]",
   "language": "python",
   "name": "python3"
  },
  "language_info": {
   "codemirror_mode": {
    "name": "ipython",
    "version": 3
   },
   "file_extension": ".py",
   "mimetype": "text/x-python",
   "name": "python",
   "nbconvert_exporter": "python",
   "pygments_lexer": "ipython3",
   "version": "3.6.4"
  },
  "toc": {
   "base_numbering": 1,
   "nav_menu": {},
   "number_sections": true,
   "sideBar": true,
   "skip_h1_title": false,
   "title_cell": "Table of Contents",
   "title_sidebar": "Contents",
   "toc_cell": false,
   "toc_position": {},
   "toc_section_display": true,
   "toc_window_display": false
  },
  "varInspector": {
   "cols": {
    "lenName": 16,
    "lenType": 16,
    "lenVar": 40
   },
   "kernels_config": {
    "python": {
     "delete_cmd_postfix": "",
     "delete_cmd_prefix": "del ",
     "library": "var_list.py",
     "varRefreshCmd": "print(var_dic_list())"
    },
    "r": {
     "delete_cmd_postfix": ") ",
     "delete_cmd_prefix": "rm(",
     "library": "var_list.r",
     "varRefreshCmd": "cat(var_dic_list()) "
    }
   },
   "types_to_exclude": [
    "module",
    "function",
    "builtin_function_or_method",
    "instance",
    "_Feature"
   ],
   "window_display": false
  }
 },
 "nbformat": 4,
 "nbformat_minor": 2
}
