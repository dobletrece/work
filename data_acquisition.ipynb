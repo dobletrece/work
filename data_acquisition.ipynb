{
 "cells": [
  {
   "cell_type": "markdown",
   "metadata": {},
   "source": [
    "# SavingsPlan - Analysis of Customer Retention [Data Acquisition]"
   ]
  },
  {
   "cell_type": "markdown",
   "metadata": {},
   "source": [
    "## Setup"
   ]
  },
  {
   "cell_type": "markdown",
   "metadata": {},
   "source": [
    "### Libraries"
   ]
  },
  {
   "cell_type": "code",
   "execution_count": null,
   "metadata": {
    "ExecuteTime": {
     "end_time": "2018-08-24T13:13:01.436188Z",
     "start_time": "2018-08-24T13:13:00.302545Z"
    }
   },
   "outputs": [],
   "source": [
    "import psycopg2\n",
    "import numpy as np\n",
    "import pandas as pd\n",
    "import datetime as dt\n",
    "# import cx_Oracle as ora\n",
    "import missingno as msno\n",
    "import scipy.stats as stats\n",
    "import seaborn as sns; sns.set()\n",
    "sns.palplot(sns.light_palette(\"green\"))\n",
    "import matplotlib.pyplot as plt\n",
    "%matplotlib inline\n",
    "from warnings import filterwarnings\n",
    "filterwarnings('ignore')"
   ]
  },
  {
   "cell_type": "markdown",
   "metadata": {},
   "source": [
    "### DB connection"
   ]
  },
  {
   "cell_type": "code",
   "execution_count": null,
   "metadata": {
    "ExecuteTime": {
     "end_time": "2018-08-24T13:13:01.441909Z",
     "start_time": "2018-08-24T13:13:01.438431Z"
    }
   },
   "outputs": [],
   "source": [
    "db_params = {'name': 'zoolake', 'user': 'dsadmin', 'pass': 'yH*3Y4@kqmM', 'port': 5432,\n",
    "             'host':'dna-lake-prod-c-zoolake-cluster.cluster-c90xuwjhoktv.eu-central-1.rds.amazonaws.com'}"
   ]
  },
  {
   "cell_type": "code",
   "execution_count": null,
   "metadata": {
    "ExecuteTime": {
     "end_time": "2018-08-24T13:13:01.551589Z",
     "start_time": "2018-08-24T13:13:01.444358Z"
    }
   },
   "outputs": [],
   "source": [
    "conn_string = \"dbname={dbname} user={user} password={password} host={host} port={port}\" \\\n",
    "              .format(dbname=db_params['name'], user=db_params['user'], password=db_params['pass'], host=db_params['host'], port=db_params['port'])\n",
    "conn = psycopg2.connect(conn_string)"
   ]
  },
  {
   "cell_type": "raw",
   "metadata": {
    "ExecuteTime": {
     "end_time": "2018-08-05T11:34:45.134460Z",
     "start_time": "2018-08-05T11:34:44.709314Z"
    }
   },
   "source": [
    "cfg = {'username': 'readonly', 'password': 'read_123', 'service_name': 'zpmstb'}\n",
    "conn = ora.connect(user=cfg['username'], password=cfg['password'], dsn=cfg['service_name'], threaded=True)"
   ]
  },
  {
   "cell_type": "markdown",
   "metadata": {},
   "source": [
    "## Data Acquisition"
   ]
  },
  {
   "cell_type": "markdown",
   "metadata": {},
   "source": [
    "The analysis will be deployed per **site** and **customer**."
   ]
  },
  {
   "cell_type": "code",
   "execution_count": null,
   "metadata": {
    "ExecuteTime": {
     "end_time": "2018-08-24T13:13:01.556213Z",
     "start_time": "2018-08-24T13:13:01.553627Z"
    }
   },
   "outputs": [],
   "source": [
    "site = 1  # Zooplus Germany (aprox 5000000 orders in 2 years)"
   ]
  },
  {
   "cell_type": "markdown",
   "metadata": {},
   "source": [
    "The eligible customers will be those ones whose **first order** took place in a fixed range of **two years** (mid 2014 to mid 2016)."
   ]
  },
  {
   "cell_type": "code",
   "execution_count": null,
   "metadata": {
    "ExecuteTime": {
     "end_time": "2018-08-24T13:13:01.560799Z",
     "start_time": "2018-08-24T13:13:01.558087Z"
    }
   },
   "outputs": [],
   "source": [
    "s_date = \"to_date('01/07/14', 'DD/MM/YY')\" # Start date\n",
    "e_date = \"to_date('30/06/16', 'DD/MM/YY')\" # End date\n",
    "n_ord = 1   # First orders"
   ]
  },
  {
   "cell_type": "code",
   "execution_count": null,
   "metadata": {
    "ExecuteTime": {
     "end_time": "2018-08-24T13:13:01.565760Z",
     "start_time": "2018-08-24T13:13:01.562647Z"
    },
    "code_folding": []
   },
   "outputs": [],
   "source": [
    "subquery = \"\"\" \n",
    "           SELECT DISTINCT o.o_k_id \n",
    "           FROM zooman.orders o \n",
    "           JOIN zooman.order_sales_profile osp \n",
    "           ON osp.osp_o_id = o.o_id \n",
    "           WHERE o.o_s_id = {site_id} \n",
    "           AND (o.o_datum >= {start_date} and o.o_datum <= {end_date}) \n",
    "           AND osp.OSP_KO_COUNT_NET = {n_order} \n",
    "           \"\"\"\n",
    "subquery = subquery.format(site_id=site, start_date=s_date, end_date=e_date, n_order=n_ord)"
   ]
  },
  {
   "cell_type": "markdown",
   "metadata": {},
   "source": [
    "Now, for previously selected customers, we get all the **valid orders** during a total period of **four years** (mid 2014 to mid 2018)."
   ]
  },
  {
   "cell_type": "code",
   "execution_count": null,
   "metadata": {
    "ExecuteTime": {
     "end_time": "2018-08-24T13:13:01.570164Z",
     "start_time": "2018-08-24T13:13:01.567550Z"
    }
   },
   "outputs": [],
   "source": [
    "o_st_1 = 'L'; o_st_2 = 'VK'  # Valid orders\n",
    "intrvl = '2'   # 2 minutes interval"
   ]
  },
  {
   "cell_type": "code",
   "execution_count": null,
   "metadata": {
    "ExecuteTime": {
     "end_time": "2018-08-24T13:13:01.575663Z",
     "start_time": "2018-08-24T13:13:01.571977Z"
    },
    "code_folding": []
   },
   "outputs": [],
   "source": [
    "query = \"\"\"\n",
    "        SELECT o.O_ID, o.O_K_ID, o.O_DATUM, o.O_GWERT O_SALES_VALUE, o.O_S_ID,\n",
    "        osp.OSP_KO_COUNT_NET, osp.OSP_3_LEAD_P_PG_ID, osp.OSP_3_LEAD_P_PG_SHARE, \n",
    "        osp.OSP_4_LEAD_P_PG_ID, osp.OSP_4_LEAD_P_PG_SHARE,\n",
    "        czp.CZP_START_DATE, czp.CZP_EXPIRY_DATE, czp.CZP_ZTQ_ID, czp.CZP_PERCENTAGE, czp.CZP_PRICE, czp.CZP_DURATION\n",
    "        FROM zooman.orders o\n",
    "        JOIN zooman.order_sales_profile osp\n",
    "        ON osp.OSP_O_ID = o.O_ID\n",
    "        LEFT OUTER JOIN zooman.customers_zooprime_plans czp\n",
    "        ON o.o_k_id = czp.CZP_K_ID\n",
    "        AND czp.CZP_EXPIRY_DATE > O_DATUM\n",
    "        AND czp.CZP_START_DATE <= (O_DATUM + interval '{interval}' minute)\n",
    "        WHERE o.o_s_id = {site_id}\n",
    "        AND (o.o_status = '{o_status_1}' OR o.o_status = '{o_status_2}')\n",
    "        AND o.o_k_id IN ({subquery}) \n",
    "        \"\"\"\n",
    "query = query.format(site_id=site, o_status_1=o_st_1, o_status_2=o_st_2, interval=intrvl, subquery=subquery)"
   ]
  },
  {
   "cell_type": "code",
   "execution_count": null,
   "metadata": {
    "ExecuteTime": {
     "end_time": "2018-08-24T13:40:35.035346Z",
     "start_time": "2018-08-24T13:16:39.547084Z"
    }
   },
   "outputs": [],
   "source": [
    "# Load the data taking into account that certain columns are dates\n",
    "col_dates = ['o_datum', 'czp_start_date', 'czp_expiry_date']\n",
    "df = pd.read_sql(query, con = conn, parse_dates=col_dates)"
   ]
  },
  {
   "cell_type": "code",
   "execution_count": null,
   "metadata": {
    "ExecuteTime": {
     "end_time": "2018-08-24T13:47:05.399860Z",
     "start_time": "2018-08-24T13:47:04.389318Z"
    }
   },
   "outputs": [],
   "source": [
    "# Convert to integers those columns previously loaded as real\n",
    "col_names_with_ids = ['o_id', 'o_k_id', 'o_s_id']\n",
    "df[col_names_with_ids] = df[col_names_with_ids].astype(int)"
   ]
  },
  {
   "cell_type": "code",
   "execution_count": null,
   "metadata": {
    "ExecuteTime": {
     "end_time": "2018-08-24T13:48:43.196883Z",
     "start_time": "2018-08-24T13:48:41.923273Z"
    }
   },
   "outputs": [],
   "source": [
    "df.to_pickle('./data/df_site_1_initial_orders_2014-2018.pkl')"
   ]
  },
  {
   "cell_type": "code",
   "execution_count": null,
   "metadata": {},
   "outputs": [],
   "source": [
    "# input_df = pd.read_pickle(\"./data/df_site_1_initial_orders_2014-2018.pkl\")"
   ]
  }
 ],
 "metadata": {
  "hide_input": false,
  "kernelspec": {
   "display_name": "Python [conda env:py36]",
   "language": "python",
   "name": "conda-env-py36-py"
  },
  "language_info": {
   "codemirror_mode": {
    "name": "ipython",
    "version": 3
   },
   "file_extension": ".py",
   "mimetype": "text/x-python",
   "name": "python",
   "nbconvert_exporter": "python",
   "pygments_lexer": "ipython3",
   "version": "3.6.4"
  },
  "toc": {
   "base_numbering": 1,
   "nav_menu": {},
   "number_sections": true,
   "sideBar": true,
   "skip_h1_title": false,
   "title_cell": "Table of Contents",
   "title_sidebar": "Contents",
   "toc_cell": false,
   "toc_position": {},
   "toc_section_display": true,
   "toc_window_display": false
  },
  "varInspector": {
   "cols": {
    "lenName": 16,
    "lenType": 16,
    "lenVar": 40
   },
   "kernels_config": {
    "python": {
     "delete_cmd_postfix": "",
     "delete_cmd_prefix": "del ",
     "library": "var_list.py",
     "varRefreshCmd": "print(var_dic_list())"
    },
    "r": {
     "delete_cmd_postfix": ") ",
     "delete_cmd_prefix": "rm(",
     "library": "var_list.r",
     "varRefreshCmd": "cat(var_dic_list()) "
    }
   },
   "types_to_exclude": [
    "module",
    "function",
    "builtin_function_or_method",
    "instance",
    "_Feature"
   ],
   "window_display": false
  }
 },
 "nbformat": 4,
 "nbformat_minor": 2
}
