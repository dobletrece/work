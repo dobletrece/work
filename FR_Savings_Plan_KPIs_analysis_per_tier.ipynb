{
 "cells": [
  {
   "cell_type": "code",
   "execution_count": 1,
   "metadata": {
    "ExecuteTime": {
     "end_time": "2018-10-19T09:50:13.893294Z",
     "start_time": "2018-10-19T09:50:12.912294Z"
    }
   },
   "outputs": [],
   "source": [
    "import numpy as np\n",
    "import pandas as pd\n",
    "import dask.dataframe as dd\n",
    "import matplotlib.pyplot as plt\n",
    "%matplotlib inline\n",
    "from IPython.display import display\n",
    "from scipy import stats\n",
    "from statistics import stdev\n",
    "import datetime\n",
    "from datetime import timedelta\n",
    "from collections import Counter\n",
    "#import cx_Oracle\n",
    "import psycopg2\n",
    "import seaborn as sns\n",
    "import json\n",
    "import pickle\n",
    "#from fitter import Fitter\n",
    "from warnings import filterwarnings\n",
    "filterwarnings('ignore')"
   ]
  },
  {
   "cell_type": "code",
   "execution_count": 2,
   "metadata": {
    "ExecuteTime": {
     "end_time": "2018-10-19T09:50:18.630294Z",
     "start_time": "2018-10-19T09:50:13.894294Z"
    }
   },
   "outputs": [],
   "source": [
    "data = pd.read_pickle(\"./fr_sp_orders_from_tiers_51-56.pkl\")"
   ]
  },
  {
   "cell_type": "code",
   "execution_count": 3,
   "metadata": {
    "ExecuteTime": {
     "end_time": "2018-10-19T09:50:18.642294Z",
     "start_time": "2018-10-19T09:50:18.632294Z"
    }
   },
   "outputs": [
    {
     "name": "stdout",
     "output_type": "stream",
     "text": [
      "<class 'pandas.core.frame.DataFrame'>\n",
      "Int64Index: 5204518 entries, 0 to 5271225\n",
      "Data columns (total 26 columns):\n",
      "SCM_N_ORDER_POS_NR              int64\n",
      "SCM_N_ORDER_NR                  int64\n",
      "TDT_T_KEY_ORDER_DATE            datetime64[ns]\n",
      "THR_C_KEY_ORDER_HOUR            object\n",
      "SIT_N_KEY_SITE                  int64\n",
      "CUS_N_KEY_CUSTOMER              int64\n",
      "SCM_SALES_BMF                   float64\n",
      "SCM_D_FINANCE_CM1               float64\n",
      "SCM_D_FINANCE_CM2               float64\n",
      "SCM_D_ORIG_FINANCE_ORDER_NET    float64\n",
      "SCM_AP_ID                       int64\n",
      "SCM_AS_ID                       int64\n",
      "SCM_MASTER_AP_ID                int64\n",
      "OSP_KO_COUNT_NET                int64\n",
      "OSP_3_LEAD_P_PG_ID              int64\n",
      "OSP_3_LEAD_P_PG_SHARE           float64\n",
      "OSP_4_LEAD_P_PG_ID              int64\n",
      "OSP_4_LEAD_P_PG_SHARE           float64\n",
      "CZP_START_DATE                  datetime64[ns]\n",
      "CZP_EXPIRY_DATE                 datetime64[ns]\n",
      "CZP_ZTQ_ID                      int64\n",
      "CZP_PERCENTAGE                  int64\n",
      "CZP_PRICE                       float64\n",
      "ORDER_DATETIME                  datetime64[ns]\n",
      "WEEK_NUMBER                     int64\n",
      "MONTH_NUMBER                    int64\n",
      "dtypes: datetime64[ns](4), float64(7), int64(14), object(1)\n",
      "memory usage: 1.0+ GB\n"
     ]
    }
   ],
   "source": [
    "data.info(verbose=True)"
   ]
  },
  {
   "cell_type": "code",
   "execution_count": 4,
   "metadata": {
    "ExecuteTime": {
     "end_time": "2018-10-19T09:50:18.680294Z",
     "start_time": "2018-10-19T09:50:18.644294Z"
    }
   },
   "outputs": [
    {
     "data": {
      "text/html": [
       "<div>\n",
       "<style scoped>\n",
       "    .dataframe tbody tr th:only-of-type {\n",
       "        vertical-align: middle;\n",
       "    }\n",
       "\n",
       "    .dataframe tbody tr th {\n",
       "        vertical-align: top;\n",
       "    }\n",
       "\n",
       "    .dataframe thead th {\n",
       "        text-align: right;\n",
       "    }\n",
       "</style>\n",
       "<table border=\"1\" class=\"dataframe\">\n",
       "  <thead>\n",
       "    <tr style=\"text-align: right;\">\n",
       "      <th></th>\n",
       "      <th>SCM_N_ORDER_POS_NR</th>\n",
       "      <th>SCM_N_ORDER_NR</th>\n",
       "      <th>TDT_T_KEY_ORDER_DATE</th>\n",
       "      <th>THR_C_KEY_ORDER_HOUR</th>\n",
       "      <th>SIT_N_KEY_SITE</th>\n",
       "      <th>CUS_N_KEY_CUSTOMER</th>\n",
       "      <th>SCM_SALES_BMF</th>\n",
       "      <th>SCM_D_FINANCE_CM1</th>\n",
       "      <th>SCM_D_FINANCE_CM2</th>\n",
       "      <th>SCM_D_ORIG_FINANCE_ORDER_NET</th>\n",
       "      <th>...</th>\n",
       "      <th>OSP_4_LEAD_P_PG_ID</th>\n",
       "      <th>OSP_4_LEAD_P_PG_SHARE</th>\n",
       "      <th>CZP_START_DATE</th>\n",
       "      <th>CZP_EXPIRY_DATE</th>\n",
       "      <th>CZP_ZTQ_ID</th>\n",
       "      <th>CZP_PERCENTAGE</th>\n",
       "      <th>CZP_PRICE</th>\n",
       "      <th>ORDER_DATETIME</th>\n",
       "      <th>WEEK_NUMBER</th>\n",
       "      <th>MONTH_NUMBER</th>\n",
       "    </tr>\n",
       "  </thead>\n",
       "  <tbody>\n",
       "    <tr>\n",
       "      <th>0</th>\n",
       "      <td>407322334</td>\n",
       "      <td>95463604</td>\n",
       "      <td>2017-10-01</td>\n",
       "      <td>18:18</td>\n",
       "      <td>4</td>\n",
       "      <td>17565628</td>\n",
       "      <td>-3.7500</td>\n",
       "      <td>-3.1250</td>\n",
       "      <td>-3.1250</td>\n",
       "      <td>-3.1250</td>\n",
       "      <td>...</td>\n",
       "      <td>17798</td>\n",
       "      <td>1.0000</td>\n",
       "      <td>2017-08-18 01:08:00</td>\n",
       "      <td>2018-08-18 23:59:00</td>\n",
       "      <td>56</td>\n",
       "      <td>5</td>\n",
       "      <td>4.99</td>\n",
       "      <td>2017-10-01 18:18:00</td>\n",
       "      <td>39</td>\n",
       "      <td>10</td>\n",
       "    </tr>\n",
       "    <tr>\n",
       "      <th>1</th>\n",
       "      <td>407322335</td>\n",
       "      <td>95463604</td>\n",
       "      <td>2017-10-01</td>\n",
       "      <td>18:18</td>\n",
       "      <td>4</td>\n",
       "      <td>17565628</td>\n",
       "      <td>4.9900</td>\n",
       "      <td>4.1583</td>\n",
       "      <td>4.1583</td>\n",
       "      <td>4.1583</td>\n",
       "      <td>...</td>\n",
       "      <td>17798</td>\n",
       "      <td>1.0000</td>\n",
       "      <td>2017-08-18 01:08:00</td>\n",
       "      <td>2018-08-18 23:59:00</td>\n",
       "      <td>56</td>\n",
       "      <td>5</td>\n",
       "      <td>4.99</td>\n",
       "      <td>2017-10-01 18:18:00</td>\n",
       "      <td>39</td>\n",
       "      <td>10</td>\n",
       "    </tr>\n",
       "    <tr>\n",
       "      <th>2</th>\n",
       "      <td>407322333</td>\n",
       "      <td>95463604</td>\n",
       "      <td>2017-10-01</td>\n",
       "      <td>18:18</td>\n",
       "      <td>4</td>\n",
       "      <td>17565628</td>\n",
       "      <td>74.9900</td>\n",
       "      <td>18.8717</td>\n",
       "      <td>9.3897</td>\n",
       "      <td>62.4917</td>\n",
       "      <td>...</td>\n",
       "      <td>17798</td>\n",
       "      <td>1.0000</td>\n",
       "      <td>2017-08-18 01:08:00</td>\n",
       "      <td>2018-08-18 23:59:00</td>\n",
       "      <td>56</td>\n",
       "      <td>5</td>\n",
       "      <td>4.99</td>\n",
       "      <td>2017-10-01 18:18:00</td>\n",
       "      <td>39</td>\n",
       "      <td>10</td>\n",
       "    </tr>\n",
       "    <tr>\n",
       "      <th>3</th>\n",
       "      <td>407333343</td>\n",
       "      <td>95466306</td>\n",
       "      <td>2017-10-01</td>\n",
       "      <td>18:49</td>\n",
       "      <td>4</td>\n",
       "      <td>16471394</td>\n",
       "      <td>23.3267</td>\n",
       "      <td>7.7322</td>\n",
       "      <td>1.3954</td>\n",
       "      <td>19.4389</td>\n",
       "      <td>...</td>\n",
       "      <td>17871</td>\n",
       "      <td>0.3523</td>\n",
       "      <td>2017-03-25 19:59:00</td>\n",
       "      <td>2018-03-25 23:59:00</td>\n",
       "      <td>56</td>\n",
       "      <td>5</td>\n",
       "      <td>4.99</td>\n",
       "      <td>2017-10-01 18:49:00</td>\n",
       "      <td>39</td>\n",
       "      <td>10</td>\n",
       "    </tr>\n",
       "    <tr>\n",
       "      <th>4</th>\n",
       "      <td>407333343</td>\n",
       "      <td>95466306</td>\n",
       "      <td>2017-10-01</td>\n",
       "      <td>18:49</td>\n",
       "      <td>4</td>\n",
       "      <td>16471394</td>\n",
       "      <td>23.3267</td>\n",
       "      <td>7.7322</td>\n",
       "      <td>1.3954</td>\n",
       "      <td>19.4389</td>\n",
       "      <td>...</td>\n",
       "      <td>17871</td>\n",
       "      <td>0.3523</td>\n",
       "      <td>2017-03-25 19:59:00</td>\n",
       "      <td>2018-03-25 23:59:00</td>\n",
       "      <td>56</td>\n",
       "      <td>5</td>\n",
       "      <td>4.99</td>\n",
       "      <td>2017-10-01 18:49:00</td>\n",
       "      <td>39</td>\n",
       "      <td>10</td>\n",
       "    </tr>\n",
       "  </tbody>\n",
       "</table>\n",
       "<p>5 rows × 26 columns</p>\n",
       "</div>"
      ],
      "text/plain": [
       "   SCM_N_ORDER_POS_NR  SCM_N_ORDER_NR TDT_T_KEY_ORDER_DATE  \\\n",
       "0           407322334        95463604           2017-10-01   \n",
       "1           407322335        95463604           2017-10-01   \n",
       "2           407322333        95463604           2017-10-01   \n",
       "3           407333343        95466306           2017-10-01   \n",
       "4           407333343        95466306           2017-10-01   \n",
       "\n",
       "  THR_C_KEY_ORDER_HOUR  SIT_N_KEY_SITE  CUS_N_KEY_CUSTOMER  SCM_SALES_BMF  \\\n",
       "0                18:18               4            17565628        -3.7500   \n",
       "1                18:18               4            17565628         4.9900   \n",
       "2                18:18               4            17565628        74.9900   \n",
       "3                18:49               4            16471394        23.3267   \n",
       "4                18:49               4            16471394        23.3267   \n",
       "\n",
       "   SCM_D_FINANCE_CM1  SCM_D_FINANCE_CM2  SCM_D_ORIG_FINANCE_ORDER_NET  \\\n",
       "0            -3.1250            -3.1250                       -3.1250   \n",
       "1             4.1583             4.1583                        4.1583   \n",
       "2            18.8717             9.3897                       62.4917   \n",
       "3             7.7322             1.3954                       19.4389   \n",
       "4             7.7322             1.3954                       19.4389   \n",
       "\n",
       "      ...       OSP_4_LEAD_P_PG_ID  OSP_4_LEAD_P_PG_SHARE      CZP_START_DATE  \\\n",
       "0     ...                    17798                 1.0000 2017-08-18 01:08:00   \n",
       "1     ...                    17798                 1.0000 2017-08-18 01:08:00   \n",
       "2     ...                    17798                 1.0000 2017-08-18 01:08:00   \n",
       "3     ...                    17871                 0.3523 2017-03-25 19:59:00   \n",
       "4     ...                    17871                 0.3523 2017-03-25 19:59:00   \n",
       "\n",
       "      CZP_EXPIRY_DATE  CZP_ZTQ_ID  CZP_PERCENTAGE  CZP_PRICE  \\\n",
       "0 2018-08-18 23:59:00          56               5       4.99   \n",
       "1 2018-08-18 23:59:00          56               5       4.99   \n",
       "2 2018-08-18 23:59:00          56               5       4.99   \n",
       "3 2018-03-25 23:59:00          56               5       4.99   \n",
       "4 2018-03-25 23:59:00          56               5       4.99   \n",
       "\n",
       "       ORDER_DATETIME WEEK_NUMBER MONTH_NUMBER  \n",
       "0 2017-10-01 18:18:00          39           10  \n",
       "1 2017-10-01 18:18:00          39           10  \n",
       "2 2017-10-01 18:18:00          39           10  \n",
       "3 2017-10-01 18:49:00          39           10  \n",
       "4 2017-10-01 18:49:00          39           10  \n",
       "\n",
       "[5 rows x 26 columns]"
      ]
     },
     "execution_count": 4,
     "metadata": {},
     "output_type": "execute_result"
    }
   ],
   "source": [
    "data.head()"
   ]
  },
  {
   "cell_type": "code",
   "execution_count": 5,
   "metadata": {
    "ExecuteTime": {
     "end_time": "2018-10-19T09:50:19.142294Z",
     "start_time": "2018-10-19T09:50:18.683294Z"
    }
   },
   "outputs": [],
   "source": [
    "data['FIRST_O_DATE'] = data['TDT_T_KEY_ORDER_DATE'].groupby(data['CUS_N_KEY_CUSTOMER']).transform('min')"
   ]
  },
  {
   "cell_type": "code",
   "execution_count": 6,
   "metadata": {
    "ExecuteTime": {
     "end_time": "2018-10-19T09:50:19.590294Z",
     "start_time": "2018-10-19T09:50:19.144294Z"
    }
   },
   "outputs": [],
   "source": [
    "data['LAST_O_DATE'] = data['TDT_T_KEY_ORDER_DATE'].groupby(data['CUS_N_KEY_CUSTOMER']).transform('max')"
   ]
  },
  {
   "cell_type": "code",
   "execution_count": 7,
   "metadata": {
    "ExecuteTime": {
     "end_time": "2018-10-19T09:50:20.026294Z",
     "start_time": "2018-10-19T09:50:19.591294Z"
    }
   },
   "outputs": [],
   "source": [
    "data['1ST_O_COUNTER'] = data['OSP_KO_COUNT_NET'].groupby(data['CUS_N_KEY_CUSTOMER']).transform('min')"
   ]
  },
  {
   "cell_type": "code",
   "execution_count": 8,
   "metadata": {
    "ExecuteTime": {
     "end_time": "2018-10-19T09:50:25.242294Z",
     "start_time": "2018-10-19T09:50:20.027294Z"
    }
   },
   "outputs": [],
   "source": [
    "data['D28'] = data['FIRST_O_DATE'] + timedelta(days = 28)\n",
    "data['D56'] = data['FIRST_O_DATE'] + timedelta(days = 56)\n",
    "data['D84'] = data['FIRST_O_DATE'] + timedelta(days = 84)\n",
    "data['D168'] = data['FIRST_O_DATE'] + timedelta(days = 168)\n",
    "data['D252'] = data['FIRST_O_DATE'] + timedelta(days = 252)\n",
    "data['D336'] = data['FIRST_O_DATE'] + timedelta(days = 336)"
   ]
  },
  {
   "cell_type": "code",
   "execution_count": 9,
   "metadata": {
    "ExecuteTime": {
     "end_time": "2018-10-19T09:50:25.248294Z",
     "start_time": "2018-10-19T09:50:25.243294Z"
    }
   },
   "outputs": [
    {
     "data": {
      "text/plain": [
       "Index(['SCM_N_ORDER_POS_NR', 'SCM_N_ORDER_NR', 'TDT_T_KEY_ORDER_DATE',\n",
       "       'THR_C_KEY_ORDER_HOUR', 'SIT_N_KEY_SITE', 'CUS_N_KEY_CUSTOMER',\n",
       "       'SCM_SALES_BMF', 'SCM_D_FINANCE_CM1', 'SCM_D_FINANCE_CM2',\n",
       "       'SCM_D_ORIG_FINANCE_ORDER_NET', 'SCM_AP_ID', 'SCM_AS_ID',\n",
       "       'SCM_MASTER_AP_ID', 'OSP_KO_COUNT_NET', 'OSP_3_LEAD_P_PG_ID',\n",
       "       'OSP_3_LEAD_P_PG_SHARE', 'OSP_4_LEAD_P_PG_ID', 'OSP_4_LEAD_P_PG_SHARE',\n",
       "       'CZP_START_DATE', 'CZP_EXPIRY_DATE', 'CZP_ZTQ_ID', 'CZP_PERCENTAGE',\n",
       "       'CZP_PRICE', 'ORDER_DATETIME', 'WEEK_NUMBER', 'MONTH_NUMBER',\n",
       "       'FIRST_O_DATE', 'LAST_O_DATE', '1ST_O_COUNTER', 'D28', 'D56', 'D84',\n",
       "       'D168', 'D252', 'D336'],\n",
       "      dtype='object')"
      ]
     },
     "execution_count": 9,
     "metadata": {},
     "output_type": "execute_result"
    }
   ],
   "source": [
    "data.columns"
   ]
  },
  {
   "cell_type": "code",
   "execution_count": 10,
   "metadata": {
    "ExecuteTime": {
     "end_time": "2018-10-19T09:50:25.264294Z",
     "start_time": "2018-10-19T09:50:25.250294Z"
    }
   },
   "outputs": [],
   "source": [
    "agg_ops = {'TDT_T_KEY_ORDER_DATE': min,\n",
    "          'CUS_N_KEY_CUSTOMER': min,\n",
    "          'CZP_ZTQ_ID': min, \n",
    "          'SCM_SALES_BMF': sum,\n",
    "          'SCM_D_FINANCE_CM1': sum,\n",
    "          'SCM_D_FINANCE_CM2': sum,\n",
    "          'SCM_D_ORIG_FINANCE_ORDER_NET': sum,\n",
    "          'OSP_KO_COUNT_NET': min,\n",
    "          'CZP_START_DATE': min,\n",
    "          'CZP_EXPIRY_DATE': min,\n",
    "          'ORDER_DATETIME': min,\n",
    "          'FIRST_O_DATE': min,\n",
    "          'LAST_O_DATE': min,\n",
    "          '1ST_O_COUNTER': min,\n",
    "          'D28': min,\n",
    "          'D56': min,\n",
    "          'D84': min,\n",
    "          'D168': min,\n",
    "          'D252': min,\n",
    "          'D336': min\n",
    "          }"
   ]
  },
  {
   "cell_type": "code",
   "execution_count": 11,
   "metadata": {
    "ExecuteTime": {
     "end_time": "2018-10-19T09:50:28.007294Z",
     "start_time": "2018-10-19T09:50:25.266294Z"
    }
   },
   "outputs": [],
   "source": [
    "orders = data.groupby('SCM_N_ORDER_NR', as_index=False).agg(agg_ops)"
   ]
  },
  {
   "cell_type": "code",
   "execution_count": 12,
   "metadata": {
    "ExecuteTime": {
     "end_time": "2018-10-19T09:50:28.134294Z",
     "start_time": "2018-10-19T09:50:28.008294Z"
    }
   },
   "outputs": [
    {
     "data": {
      "text/plain": [
       "(1085176, 1085176)"
      ]
     },
     "execution_count": 12,
     "metadata": {},
     "output_type": "execute_result"
    }
   ],
   "source": [
    "data['SCM_N_ORDER_NR'].nunique(), len(orders)"
   ]
  },
  {
   "cell_type": "code",
   "execution_count": 13,
   "metadata": {
    "ExecuteTime": {
     "end_time": "2018-10-19T09:50:28.159294Z",
     "start_time": "2018-10-19T09:50:28.135294Z"
    }
   },
   "outputs": [
    {
     "data": {
      "text/html": [
       "<div>\n",
       "<style scoped>\n",
       "    .dataframe tbody tr th:only-of-type {\n",
       "        vertical-align: middle;\n",
       "    }\n",
       "\n",
       "    .dataframe tbody tr th {\n",
       "        vertical-align: top;\n",
       "    }\n",
       "\n",
       "    .dataframe thead th {\n",
       "        text-align: right;\n",
       "    }\n",
       "</style>\n",
       "<table border=\"1\" class=\"dataframe\">\n",
       "  <thead>\n",
       "    <tr style=\"text-align: right;\">\n",
       "      <th></th>\n",
       "      <th>SCM_N_ORDER_NR</th>\n",
       "      <th>TDT_T_KEY_ORDER_DATE</th>\n",
       "      <th>CUS_N_KEY_CUSTOMER</th>\n",
       "      <th>CZP_ZTQ_ID</th>\n",
       "      <th>SCM_SALES_BMF</th>\n",
       "      <th>SCM_D_FINANCE_CM1</th>\n",
       "      <th>SCM_D_FINANCE_CM2</th>\n",
       "      <th>SCM_D_ORIG_FINANCE_ORDER_NET</th>\n",
       "      <th>OSP_KO_COUNT_NET</th>\n",
       "      <th>CZP_START_DATE</th>\n",
       "      <th>...</th>\n",
       "      <th>ORDER_DATETIME</th>\n",
       "      <th>FIRST_O_DATE</th>\n",
       "      <th>LAST_O_DATE</th>\n",
       "      <th>1ST_O_COUNTER</th>\n",
       "      <th>D28</th>\n",
       "      <th>D56</th>\n",
       "      <th>D84</th>\n",
       "      <th>D168</th>\n",
       "      <th>D252</th>\n",
       "      <th>D336</th>\n",
       "    </tr>\n",
       "  </thead>\n",
       "  <tbody>\n",
       "    <tr>\n",
       "      <th>1085171</th>\n",
       "      <td>120154306</td>\n",
       "      <td>2018-09-30</td>\n",
       "      <td>18155963</td>\n",
       "      <td>56</td>\n",
       "      <td>61.85</td>\n",
       "      <td>21.1316</td>\n",
       "      <td>6.7418</td>\n",
       "      <td>51.5416</td>\n",
       "      <td>10</td>\n",
       "      <td>2017-11-26 21:08:00</td>\n",
       "      <td>...</td>\n",
       "      <td>2018-09-30 23:58:00</td>\n",
       "      <td>2017-11-26</td>\n",
       "      <td>2018-09-30</td>\n",
       "      <td>2</td>\n",
       "      <td>2017-12-24</td>\n",
       "      <td>2018-01-21</td>\n",
       "      <td>2018-02-18</td>\n",
       "      <td>2018-05-13</td>\n",
       "      <td>2018-08-05</td>\n",
       "      <td>2018-10-28</td>\n",
       "    </tr>\n",
       "    <tr>\n",
       "      <th>1085172</th>\n",
       "      <td>120154314</td>\n",
       "      <td>2018-09-30</td>\n",
       "      <td>18962659</td>\n",
       "      <td>53</td>\n",
       "      <td>89.25</td>\n",
       "      <td>12.0349</td>\n",
       "      <td>-4.7628</td>\n",
       "      <td>74.3749</td>\n",
       "      <td>8</td>\n",
       "      <td>2018-06-16 00:00:00</td>\n",
       "      <td>...</td>\n",
       "      <td>2018-09-30 23:58:00</td>\n",
       "      <td>2018-06-16</td>\n",
       "      <td>2018-09-30</td>\n",
       "      <td>4</td>\n",
       "      <td>2018-07-14</td>\n",
       "      <td>2018-08-11</td>\n",
       "      <td>2018-09-08</td>\n",
       "      <td>2018-12-01</td>\n",
       "      <td>2019-02-23</td>\n",
       "      <td>2019-05-18</td>\n",
       "    </tr>\n",
       "    <tr>\n",
       "      <th>1085173</th>\n",
       "      <td>120154326</td>\n",
       "      <td>2018-09-30</td>\n",
       "      <td>17076627</td>\n",
       "      <td>51</td>\n",
       "      <td>48.42</td>\n",
       "      <td>14.5300</td>\n",
       "      <td>4.9006</td>\n",
       "      <td>40.3500</td>\n",
       "      <td>19</td>\n",
       "      <td>2018-07-03 00:00:00</td>\n",
       "      <td>...</td>\n",
       "      <td>2018-09-30 23:59:00</td>\n",
       "      <td>2018-07-03</td>\n",
       "      <td>2018-09-30</td>\n",
       "      <td>13</td>\n",
       "      <td>2018-07-31</td>\n",
       "      <td>2018-08-28</td>\n",
       "      <td>2018-09-25</td>\n",
       "      <td>2018-12-18</td>\n",
       "      <td>2019-03-12</td>\n",
       "      <td>2019-06-04</td>\n",
       "    </tr>\n",
       "    <tr>\n",
       "      <th>1085174</th>\n",
       "      <td>120154327</td>\n",
       "      <td>2018-09-30</td>\n",
       "      <td>21219419</td>\n",
       "      <td>53</td>\n",
       "      <td>46.98</td>\n",
       "      <td>13.9701</td>\n",
       "      <td>2.3741</td>\n",
       "      <td>39.1500</td>\n",
       "      <td>5</td>\n",
       "      <td>2018-09-30 00:00:00</td>\n",
       "      <td>...</td>\n",
       "      <td>2018-09-30 23:59:00</td>\n",
       "      <td>2018-09-30</td>\n",
       "      <td>2018-09-30</td>\n",
       "      <td>5</td>\n",
       "      <td>2018-10-28</td>\n",
       "      <td>2018-11-25</td>\n",
       "      <td>2018-12-23</td>\n",
       "      <td>2019-03-17</td>\n",
       "      <td>2019-06-09</td>\n",
       "      <td>2019-09-01</td>\n",
       "    </tr>\n",
       "    <tr>\n",
       "      <th>1085175</th>\n",
       "      <td>120154341</td>\n",
       "      <td>2018-09-30</td>\n",
       "      <td>16638809</td>\n",
       "      <td>51</td>\n",
       "      <td>67.89</td>\n",
       "      <td>12.7350</td>\n",
       "      <td>3.9845</td>\n",
       "      <td>56.5750</td>\n",
       "      <td>18</td>\n",
       "      <td>2018-06-30 00:00:00</td>\n",
       "      <td>...</td>\n",
       "      <td>2018-09-30 23:59:00</td>\n",
       "      <td>2017-11-02</td>\n",
       "      <td>2018-09-30</td>\n",
       "      <td>9</td>\n",
       "      <td>2017-11-30</td>\n",
       "      <td>2017-12-28</td>\n",
       "      <td>2018-01-25</td>\n",
       "      <td>2018-04-19</td>\n",
       "      <td>2018-07-12</td>\n",
       "      <td>2018-10-04</td>\n",
       "    </tr>\n",
       "  </tbody>\n",
       "</table>\n",
       "<p>5 rows × 21 columns</p>\n",
       "</div>"
      ],
      "text/plain": [
       "         SCM_N_ORDER_NR TDT_T_KEY_ORDER_DATE  CUS_N_KEY_CUSTOMER  CZP_ZTQ_ID  \\\n",
       "1085171       120154306           2018-09-30            18155963          56   \n",
       "1085172       120154314           2018-09-30            18962659          53   \n",
       "1085173       120154326           2018-09-30            17076627          51   \n",
       "1085174       120154327           2018-09-30            21219419          53   \n",
       "1085175       120154341           2018-09-30            16638809          51   \n",
       "\n",
       "         SCM_SALES_BMF  SCM_D_FINANCE_CM1  SCM_D_FINANCE_CM2  \\\n",
       "1085171          61.85            21.1316             6.7418   \n",
       "1085172          89.25            12.0349            -4.7628   \n",
       "1085173          48.42            14.5300             4.9006   \n",
       "1085174          46.98            13.9701             2.3741   \n",
       "1085175          67.89            12.7350             3.9845   \n",
       "\n",
       "         SCM_D_ORIG_FINANCE_ORDER_NET  OSP_KO_COUNT_NET      CZP_START_DATE  \\\n",
       "1085171                       51.5416                10 2017-11-26 21:08:00   \n",
       "1085172                       74.3749                 8 2018-06-16 00:00:00   \n",
       "1085173                       40.3500                19 2018-07-03 00:00:00   \n",
       "1085174                       39.1500                 5 2018-09-30 00:00:00   \n",
       "1085175                       56.5750                18 2018-06-30 00:00:00   \n",
       "\n",
       "           ...          ORDER_DATETIME FIRST_O_DATE LAST_O_DATE 1ST_O_COUNTER  \\\n",
       "1085171    ...     2018-09-30 23:58:00   2017-11-26  2018-09-30             2   \n",
       "1085172    ...     2018-09-30 23:58:00   2018-06-16  2018-09-30             4   \n",
       "1085173    ...     2018-09-30 23:59:00   2018-07-03  2018-09-30            13   \n",
       "1085174    ...     2018-09-30 23:59:00   2018-09-30  2018-09-30             5   \n",
       "1085175    ...     2018-09-30 23:59:00   2017-11-02  2018-09-30             9   \n",
       "\n",
       "               D28        D56        D84       D168       D252       D336  \n",
       "1085171 2017-12-24 2018-01-21 2018-02-18 2018-05-13 2018-08-05 2018-10-28  \n",
       "1085172 2018-07-14 2018-08-11 2018-09-08 2018-12-01 2019-02-23 2019-05-18  \n",
       "1085173 2018-07-31 2018-08-28 2018-09-25 2018-12-18 2019-03-12 2019-06-04  \n",
       "1085174 2018-10-28 2018-11-25 2018-12-23 2019-03-17 2019-06-09 2019-09-01  \n",
       "1085175 2017-11-30 2017-12-28 2018-01-25 2018-04-19 2018-07-12 2018-10-04  \n",
       "\n",
       "[5 rows x 21 columns]"
      ]
     },
     "execution_count": 13,
     "metadata": {},
     "output_type": "execute_result"
    }
   ],
   "source": [
    "orders.tail()"
   ]
  },
  {
   "cell_type": "code",
   "execution_count": 14,
   "metadata": {
    "ExecuteTime": {
     "end_time": "2018-10-19T09:50:28.244294Z",
     "start_time": "2018-10-19T09:50:28.160294Z"
    }
   },
   "outputs": [],
   "source": [
    "orders['OK_28D'] = (orders['TDT_T_KEY_ORDER_DATE'] <= orders['D28']) * 1\n",
    "orders['OK_56D'] = (orders['TDT_T_KEY_ORDER_DATE'] <= orders['D56']) * 1\n",
    "orders['OK_84D'] = (orders['TDT_T_KEY_ORDER_DATE'] <= orders['D84']) * 1\n",
    "orders['OK_168D'] = (orders['TDT_T_KEY_ORDER_DATE'] <= orders['D168']) * 1\n",
    "orders['OK_252D'] = (orders['TDT_T_KEY_ORDER_DATE'] <= orders['D252']) * 1\n",
    "orders['OK_336D'] = (orders['TDT_T_KEY_ORDER_DATE'] <= orders['D336']) * 1"
   ]
  },
  {
   "cell_type": "code",
   "execution_count": 15,
   "metadata": {
    "ExecuteTime": {
     "end_time": "2018-10-19T09:50:28.307294Z",
     "start_time": "2018-10-19T09:50:28.245294Z"
    }
   },
   "outputs": [],
   "source": [
    "orders['COUNTER_28D'] = orders['OK_28D'] * orders['OSP_KO_COUNT_NET']\n",
    "orders['COUNTER_56D'] = orders['OK_56D'] * orders['OSP_KO_COUNT_NET']\n",
    "orders['COUNTER_84D'] = orders['OK_84D'] * orders['OSP_KO_COUNT_NET']\n",
    "orders['COUNTER_168D'] = orders['OK_168D'] * orders['OSP_KO_COUNT_NET']\n",
    "orders['COUNTER_252D'] = orders['OK_252D'] * orders['OSP_KO_COUNT_NET']\n",
    "orders['COUNTER_336D'] = orders['OK_336D'] * orders['OSP_KO_COUNT_NET']"
   ]
  },
  {
   "cell_type": "code",
   "execution_count": 16,
   "metadata": {
    "ExecuteTime": {
     "end_time": "2018-10-19T09:50:29.205294Z",
     "start_time": "2018-10-19T09:50:28.308294Z"
    }
   },
   "outputs": [],
   "source": [
    "orders['MAX_COUNTER_28D'] = orders['COUNTER_28D'].groupby(orders['CUS_N_KEY_CUSTOMER']).transform('max')\n",
    "orders['MAX_COUNTER_56D'] = orders['COUNTER_56D'].groupby(orders['CUS_N_KEY_CUSTOMER']).transform('max')\n",
    "orders['MAX_COUNTER_84D'] = orders['COUNTER_84D'].groupby(orders['CUS_N_KEY_CUSTOMER']).transform('max')\n",
    "orders['MAX_COUNTER_168D'] = orders['COUNTER_168D'].groupby(orders['CUS_N_KEY_CUSTOMER']).transform('max')\n",
    "orders['MAX_COUNTER_252D'] = orders['COUNTER_252D'].groupby(orders['CUS_N_KEY_CUSTOMER']).transform('max')\n",
    "orders['MAX_COUNTER_336D'] = orders['COUNTER_336D'].groupby(orders['CUS_N_KEY_CUSTOMER']).transform('max')"
   ]
  },
  {
   "cell_type": "code",
   "execution_count": 17,
   "metadata": {
    "ExecuteTime": {
     "end_time": "2018-10-19T09:50:29.262294Z",
     "start_time": "2018-10-19T09:50:29.206294Z"
    }
   },
   "outputs": [],
   "source": [
    "orders['RR_28D'] = (orders['MAX_COUNTER_28D'] > orders['1ST_O_COUNTER']) * 1\n",
    "orders['RR_56D'] = (orders['MAX_COUNTER_56D'] > orders['MAX_COUNTER_28D']) * 1\n",
    "orders['RR_84D'] = (orders['MAX_COUNTER_84D'] > orders['MAX_COUNTER_56D']) * 1 \n",
    "orders['RR_168D'] = (orders['MAX_COUNTER_168D'] > orders['MAX_COUNTER_84D']) * 1\n",
    "orders['RR_252D'] = (orders['MAX_COUNTER_252D'] > orders['MAX_COUNTER_168D']) * 1 \n",
    "orders['RR_336D'] = (orders['MAX_COUNTER_336D'] > orders['MAX_COUNTER_168D']) * 1"
   ]
  },
  {
   "cell_type": "code",
   "execution_count": 18,
   "metadata": {
    "ExecuteTime": {
     "end_time": "2018-10-19T09:50:29.267294Z",
     "start_time": "2018-10-19T09:50:29.263294Z"
    }
   },
   "outputs": [
    {
     "data": {
      "text/plain": [
       "Index(['SCM_N_ORDER_NR', 'TDT_T_KEY_ORDER_DATE', 'CUS_N_KEY_CUSTOMER',\n",
       "       'CZP_ZTQ_ID', 'SCM_SALES_BMF', 'SCM_D_FINANCE_CM1', 'SCM_D_FINANCE_CM2',\n",
       "       'SCM_D_ORIG_FINANCE_ORDER_NET', 'OSP_KO_COUNT_NET', 'CZP_START_DATE',\n",
       "       'CZP_EXPIRY_DATE', 'ORDER_DATETIME', 'FIRST_O_DATE', 'LAST_O_DATE',\n",
       "       '1ST_O_COUNTER', 'D28', 'D56', 'D84', 'D168', 'D252', 'D336', 'OK_28D',\n",
       "       'OK_56D', 'OK_84D', 'OK_168D', 'OK_252D', 'OK_336D', 'COUNTER_28D',\n",
       "       'COUNTER_56D', 'COUNTER_84D', 'COUNTER_168D', 'COUNTER_252D',\n",
       "       'COUNTER_336D', 'MAX_COUNTER_28D', 'MAX_COUNTER_56D', 'MAX_COUNTER_84D',\n",
       "       'MAX_COUNTER_168D', 'MAX_COUNTER_252D', 'MAX_COUNTER_336D', 'RR_28D',\n",
       "       'RR_56D', 'RR_84D', 'RR_168D', 'RR_252D', 'RR_336D'],\n",
       "      dtype='object')"
      ]
     },
     "execution_count": 18,
     "metadata": {},
     "output_type": "execute_result"
    }
   ],
   "source": [
    "orders.columns"
   ]
  },
  {
   "cell_type": "code",
   "execution_count": 19,
   "metadata": {
    "ExecuteTime": {
     "end_time": "2018-10-19T09:50:29.289294Z",
     "start_time": "2018-10-19T09:50:29.268294Z"
    }
   },
   "outputs": [],
   "source": [
    "agg_ord_ops = {'CZP_ZTQ_ID': 'unique',\n",
    "              'SCM_N_ORDER_NR': len,\n",
    "              'SCM_SALES_BMF': [sum, lambda x: list(np.round(x, 2))],\n",
    "              'SCM_D_FINANCE_CM1': [sum, lambda x: list(np.round(x, 2))],\n",
    "              'SCM_D_FINANCE_CM2': [sum, lambda x: list(np.round(x, 2))],\n",
    "              'SCM_D_ORIG_FINANCE_ORDER_NET': [sum, lambda x: list(np.round(x, 2))],\n",
    "              'OSP_KO_COUNT_NET': lambda x: list(x),\n",
    "              'CZP_START_DATE': 'unique',\n",
    "              'CZP_EXPIRY_DATE': 'unique',\n",
    "              'FIRST_O_DATE': min,\n",
    "              'LAST_O_DATE': min,\n",
    "              '1ST_O_COUNTER': min,\n",
    "              'COUNTER_28D': max,\n",
    "              'COUNTER_56D': max,\n",
    "              'COUNTER_84D': max,\n",
    "              'COUNTER_168D': max,\n",
    "              'COUNTER_252D': max,\n",
    "              'COUNTER_336D': max\n",
    "              }"
   ]
  },
  {
   "cell_type": "code",
   "execution_count": 20,
   "metadata": {
    "ExecuteTime": {
     "end_time": "2018-10-19T09:53:05.007294Z",
     "start_time": "2018-10-19T09:50:29.291294Z"
    }
   },
   "outputs": [],
   "source": [
    "customers = orders.groupby('CUS_N_KEY_CUSTOMER', as_index=False).agg(agg_ord_ops).round(2)"
   ]
  },
  {
   "cell_type": "code",
   "execution_count": 21,
   "metadata": {
    "ExecuteTime": {
     "end_time": "2018-10-19T09:53:05.012294Z",
     "start_time": "2018-10-19T09:53:05.009294Z"
    }
   },
   "outputs": [],
   "source": [
    "customers.columns = ['_'.join(tup).rstrip('_') for tup in customers.columns.values]"
   ]
  },
  {
   "cell_type": "code",
   "execution_count": 22,
   "metadata": {
    "ExecuteTime": {
     "end_time": "2018-10-19T09:53:05.052294Z",
     "start_time": "2018-10-19T09:53:05.014294Z"
    }
   },
   "outputs": [
    {
     "data": {
      "text/html": [
       "<div>\n",
       "<style scoped>\n",
       "    .dataframe tbody tr th:only-of-type {\n",
       "        vertical-align: middle;\n",
       "    }\n",
       "\n",
       "    .dataframe tbody tr th {\n",
       "        vertical-align: top;\n",
       "    }\n",
       "\n",
       "    .dataframe thead th {\n",
       "        text-align: right;\n",
       "    }\n",
       "</style>\n",
       "<table border=\"1\" class=\"dataframe\">\n",
       "  <thead>\n",
       "    <tr style=\"text-align: right;\">\n",
       "      <th></th>\n",
       "      <th>CUS_N_KEY_CUSTOMER</th>\n",
       "      <th>CZP_ZTQ_ID_unique</th>\n",
       "      <th>SCM_N_ORDER_NR_len</th>\n",
       "      <th>SCM_SALES_BMF_sum</th>\n",
       "      <th>SCM_SALES_BMF_&lt;lambda&gt;</th>\n",
       "      <th>SCM_D_FINANCE_CM1_sum</th>\n",
       "      <th>SCM_D_FINANCE_CM1_&lt;lambda&gt;</th>\n",
       "      <th>SCM_D_FINANCE_CM2_sum</th>\n",
       "      <th>SCM_D_FINANCE_CM2_&lt;lambda&gt;</th>\n",
       "      <th>SCM_D_ORIG_FINANCE_ORDER_NET_sum</th>\n",
       "      <th>...</th>\n",
       "      <th>CZP_EXPIRY_DATE_unique</th>\n",
       "      <th>FIRST_O_DATE_min</th>\n",
       "      <th>LAST_O_DATE_min</th>\n",
       "      <th>1ST_O_COUNTER_min</th>\n",
       "      <th>COUNTER_28D_max</th>\n",
       "      <th>COUNTER_56D_max</th>\n",
       "      <th>COUNTER_84D_max</th>\n",
       "      <th>COUNTER_168D_max</th>\n",
       "      <th>COUNTER_252D_max</th>\n",
       "      <th>COUNTER_336D_max</th>\n",
       "    </tr>\n",
       "  </thead>\n",
       "  <tbody>\n",
       "    <tr>\n",
       "      <th>0</th>\n",
       "      <td>90143</td>\n",
       "      <td>[52]</td>\n",
       "      <td>6</td>\n",
       "      <td>569.11</td>\n",
       "      <td>[77.56, 155.12, 132.83, 81.44, 61.08, 61.08]</td>\n",
       "      <td>129.54</td>\n",
       "      <td>[17.03, 32.91, 29.73, 20.35, 14.86, 14.66]</td>\n",
       "      <td>76.31</td>\n",
       "      <td>[9.18, 25.26, 14.95, 11.84, 7.06, 8.02]</td>\n",
       "      <td>474.26</td>\n",
       "      <td>...</td>\n",
       "      <td>[2020-01-02T23:59:00.000000000]</td>\n",
       "      <td>2017-10-11</td>\n",
       "      <td>2018-09-19</td>\n",
       "      <td>24</td>\n",
       "      <td>24</td>\n",
       "      <td>24</td>\n",
       "      <td>25</td>\n",
       "      <td>26</td>\n",
       "      <td>27</td>\n",
       "      <td>28</td>\n",
       "    </tr>\n",
       "    <tr>\n",
       "      <th>1</th>\n",
       "      <td>240667</td>\n",
       "      <td>[54]</td>\n",
       "      <td>10</td>\n",
       "      <td>2239.16</td>\n",
       "      <td>[289.47, 68.84, 443.73, 439.02, 97.9, 68.79, 1...</td>\n",
       "      <td>454.45</td>\n",
       "      <td>[37.57, 14.55, 59.7, 53.96, 37.39, 13.74, 41.6...</td>\n",
       "      <td>218.89</td>\n",
       "      <td>[21.25, 6.7, 28.57, 18.44, 9.21, 1.16, 31.94, ...</td>\n",
       "      <td>1867.96</td>\n",
       "      <td>...</td>\n",
       "      <td>[2017-11-02T23:02:00.000000000, 2020-12-08T23:...</td>\n",
       "      <td>2017-10-05</td>\n",
       "      <td>2018-09-12</td>\n",
       "      <td>168</td>\n",
       "      <td>170</td>\n",
       "      <td>170</td>\n",
       "      <td>170</td>\n",
       "      <td>175</td>\n",
       "      <td>178</td>\n",
       "      <td>190</td>\n",
       "    </tr>\n",
       "    <tr>\n",
       "      <th>2</th>\n",
       "      <td>270025</td>\n",
       "      <td>[52]</td>\n",
       "      <td>4</td>\n",
       "      <td>379.25</td>\n",
       "      <td>[129.94, 109.57, 107.64, 32.1]</td>\n",
       "      <td>45.40</td>\n",
       "      <td>[18.28, 8.52, 9.78, 8.82]</td>\n",
       "      <td>18.50</td>\n",
       "      <td>[11.15, 1.07, 2.58, 3.7]</td>\n",
       "      <td>316.04</td>\n",
       "      <td>...</td>\n",
       "      <td>[2020-04-08T23:59:00.000000000]</td>\n",
       "      <td>2017-10-15</td>\n",
       "      <td>2018-05-02</td>\n",
       "      <td>86</td>\n",
       "      <td>86</td>\n",
       "      <td>86</td>\n",
       "      <td>86</td>\n",
       "      <td>89</td>\n",
       "      <td>90</td>\n",
       "      <td>90</td>\n",
       "    </tr>\n",
       "    <tr>\n",
       "      <th>3</th>\n",
       "      <td>281298</td>\n",
       "      <td>[56]</td>\n",
       "      <td>7</td>\n",
       "      <td>447.86</td>\n",
       "      <td>[49.37, 24.87, 42.72, 82.62, 97.34, 102.54, 48.4]</td>\n",
       "      <td>112.78</td>\n",
       "      <td>[17.26, 10.22, 10.09, 3.12, 27.68, 28.39, 16.02]</td>\n",
       "      <td>40.76</td>\n",
       "      <td>[9.21, 4.21, 2.48, -8.76, 10.94, 15.56, 7.13]</td>\n",
       "      <td>373.22</td>\n",
       "      <td>...</td>\n",
       "      <td>[2019-04-18T00:00:00.000000000]</td>\n",
       "      <td>2018-04-18</td>\n",
       "      <td>2018-09-10</td>\n",
       "      <td>207</td>\n",
       "      <td>208</td>\n",
       "      <td>210</td>\n",
       "      <td>211</td>\n",
       "      <td>213</td>\n",
       "      <td>213</td>\n",
       "      <td>213</td>\n",
       "    </tr>\n",
       "    <tr>\n",
       "      <th>4</th>\n",
       "      <td>289618</td>\n",
       "      <td>[51]</td>\n",
       "      <td>1</td>\n",
       "      <td>85.32</td>\n",
       "      <td>[85.32]</td>\n",
       "      <td>31.96</td>\n",
       "      <td>[31.96]</td>\n",
       "      <td>22.25</td>\n",
       "      <td>[22.25]</td>\n",
       "      <td>71.10</td>\n",
       "      <td>...</td>\n",
       "      <td>[2019-07-24T00:00:00.000000000]</td>\n",
       "      <td>2018-07-24</td>\n",
       "      <td>2018-07-24</td>\n",
       "      <td>36</td>\n",
       "      <td>36</td>\n",
       "      <td>36</td>\n",
       "      <td>36</td>\n",
       "      <td>36</td>\n",
       "      <td>36</td>\n",
       "      <td>36</td>\n",
       "    </tr>\n",
       "  </tbody>\n",
       "</table>\n",
       "<p>5 rows × 23 columns</p>\n",
       "</div>"
      ],
      "text/plain": [
       "   CUS_N_KEY_CUSTOMER CZP_ZTQ_ID_unique  SCM_N_ORDER_NR_len  \\\n",
       "0               90143              [52]                   6   \n",
       "1              240667              [54]                  10   \n",
       "2              270025              [52]                   4   \n",
       "3              281298              [56]                   7   \n",
       "4              289618              [51]                   1   \n",
       "\n",
       "   SCM_SALES_BMF_sum                             SCM_SALES_BMF_<lambda>  \\\n",
       "0             569.11       [77.56, 155.12, 132.83, 81.44, 61.08, 61.08]   \n",
       "1            2239.16  [289.47, 68.84, 443.73, 439.02, 97.9, 68.79, 1...   \n",
       "2             379.25                     [129.94, 109.57, 107.64, 32.1]   \n",
       "3             447.86  [49.37, 24.87, 42.72, 82.62, 97.34, 102.54, 48.4]   \n",
       "4              85.32                                            [85.32]   \n",
       "\n",
       "   SCM_D_FINANCE_CM1_sum                         SCM_D_FINANCE_CM1_<lambda>  \\\n",
       "0                 129.54         [17.03, 32.91, 29.73, 20.35, 14.86, 14.66]   \n",
       "1                 454.45  [37.57, 14.55, 59.7, 53.96, 37.39, 13.74, 41.6...   \n",
       "2                  45.40                          [18.28, 8.52, 9.78, 8.82]   \n",
       "3                 112.78   [17.26, 10.22, 10.09, 3.12, 27.68, 28.39, 16.02]   \n",
       "4                  31.96                                            [31.96]   \n",
       "\n",
       "   SCM_D_FINANCE_CM2_sum                         SCM_D_FINANCE_CM2_<lambda>  \\\n",
       "0                  76.31            [9.18, 25.26, 14.95, 11.84, 7.06, 8.02]   \n",
       "1                 218.89  [21.25, 6.7, 28.57, 18.44, 9.21, 1.16, 31.94, ...   \n",
       "2                  18.50                           [11.15, 1.07, 2.58, 3.7]   \n",
       "3                  40.76      [9.21, 4.21, 2.48, -8.76, 10.94, 15.56, 7.13]   \n",
       "4                  22.25                                            [22.25]   \n",
       "\n",
       "   SCM_D_ORIG_FINANCE_ORDER_NET_sum        ...         \\\n",
       "0                            474.26        ...          \n",
       "1                           1867.96        ...          \n",
       "2                            316.04        ...          \n",
       "3                            373.22        ...          \n",
       "4                             71.10        ...          \n",
       "\n",
       "                              CZP_EXPIRY_DATE_unique FIRST_O_DATE_min  \\\n",
       "0                    [2020-01-02T23:59:00.000000000]       2017-10-11   \n",
       "1  [2017-11-02T23:02:00.000000000, 2020-12-08T23:...       2017-10-05   \n",
       "2                    [2020-04-08T23:59:00.000000000]       2017-10-15   \n",
       "3                    [2019-04-18T00:00:00.000000000]       2018-04-18   \n",
       "4                    [2019-07-24T00:00:00.000000000]       2018-07-24   \n",
       "\n",
       "  LAST_O_DATE_min 1ST_O_COUNTER_min COUNTER_28D_max COUNTER_56D_max  \\\n",
       "0      2018-09-19                24              24              24   \n",
       "1      2018-09-12               168             170             170   \n",
       "2      2018-05-02                86              86              86   \n",
       "3      2018-09-10               207             208             210   \n",
       "4      2018-07-24                36              36              36   \n",
       "\n",
       "   COUNTER_84D_max  COUNTER_168D_max  COUNTER_252D_max  COUNTER_336D_max  \n",
       "0               25                26                27                28  \n",
       "1              170               175               178               190  \n",
       "2               86                89                90                90  \n",
       "3              211               213               213               213  \n",
       "4               36                36                36                36  \n",
       "\n",
       "[5 rows x 23 columns]"
      ]
     },
     "execution_count": 22,
     "metadata": {},
     "output_type": "execute_result"
    }
   ],
   "source": [
    "customers.head()"
   ]
  },
  {
   "cell_type": "code",
   "execution_count": 23,
   "metadata": {
    "ExecuteTime": {
     "end_time": "2018-10-19T09:53:06.595294Z",
     "start_time": "2018-10-19T09:53:05.055294Z"
    }
   },
   "outputs": [],
   "source": [
    "customers['DIFF_DAYS'] = (customers['LAST_O_DATE_min'] - customers['FIRST_O_DATE_min']).dt.days"
   ]
  },
  {
   "cell_type": "code",
   "execution_count": 24,
   "metadata": {
    "ExecuteTime": {
     "end_time": "2018-10-19T09:53:06.627294Z",
     "start_time": "2018-10-19T09:53:06.596294Z"
    }
   },
   "outputs": [],
   "source": [
    "customers['SUIT_28D'] = ((customers['LAST_O_DATE_min'].max() - timedelta(days=28)) >= customers['FIRST_O_DATE_min']) * 1\n",
    "customers['SUIT_56D'] = ((customers['LAST_O_DATE_min'].max() - timedelta(days=56)) >= customers['FIRST_O_DATE_min']) * 1\n",
    "customers['SUIT_84D'] = ((customers['LAST_O_DATE_min'].max() - timedelta(days=84)) >= customers['FIRST_O_DATE_min']) * 1\n",
    "customers['SUIT_168D'] = ((customers['LAST_O_DATE_min'].max() - timedelta(days=168)) >= customers['FIRST_O_DATE_min']) * 1\n",
    "customers['SUIT_252D'] = ((customers['LAST_O_DATE_min'].max() - timedelta(days=252)) >= customers['FIRST_O_DATE_min']) * 1\n",
    "customers['SUIT_336D'] = ((customers['LAST_O_DATE_min'].max() - timedelta(days=336)) >= customers['FIRST_O_DATE_min']) * 1"
   ]
  },
  {
   "cell_type": "code",
   "execution_count": 25,
   "metadata": {
    "ExecuteTime": {
     "end_time": "2018-10-19T09:53:06.648294Z",
     "start_time": "2018-10-19T09:53:06.629294Z"
    }
   },
   "outputs": [],
   "source": [
    "customers['R28D'] = (customers['COUNTER_28D_max'] > customers['1ST_O_COUNTER_min']) * 1\n",
    "customers['R56D'] = (customers['COUNTER_56D_max'] > customers['COUNTER_28D_max']) * 1\n",
    "customers['R84D'] = (customers['COUNTER_84D_max'] > customers['COUNTER_56D_max']) * 1\n",
    "customers['R168D'] = (customers['COUNTER_168D_max'] > customers['COUNTER_84D_max']) * 1\n",
    "customers['R252D'] = (customers['COUNTER_252D_max'] > customers['COUNTER_168D_max']) * 1\n",
    "customers['R336D'] = (customers['COUNTER_336D_max'] > customers['COUNTER_252D_max']) * 1"
   ]
  },
  {
   "cell_type": "code",
   "execution_count": 26,
   "metadata": {
    "ExecuteTime": {
     "end_time": "2018-10-19T09:53:06.667294Z",
     "start_time": "2018-10-19T09:53:06.649294Z"
    }
   },
   "outputs": [],
   "source": [
    "customers['RR_28D'] = customers['R28D']\n",
    "customers['RR_56D'] = customers['R56D'] | customers['RR_28D']\n",
    "customers['RR_84D'] = customers['R84D'] | customers['RR_56D']\n",
    "customers['RR_168D'] = customers['R168D'] | customers['RR_84D']\n",
    "customers['RR_252D'] = customers['R252D'] | customers['RR_168D']\n",
    "customers['RR_336D'] = customers['R336D'] | customers['RR_252D']"
   ]
  },
  {
   "cell_type": "code",
   "execution_count": 27,
   "metadata": {
    "ExecuteTime": {
     "end_time": "2018-10-19T09:53:06.685294Z",
     "start_time": "2018-10-19T09:53:06.668294Z"
    }
   },
   "outputs": [],
   "source": [
    "customers['R_28D'] = customers['RR_28D'] * customers['SUIT_28D']\n",
    "customers['R_56D'] = customers['RR_56D'] * customers['SUIT_56D']\n",
    "customers['R_84D'] = customers['RR_84D'] * customers['SUIT_84D']\n",
    "customers['R_168D'] = customers['RR_168D']  * customers['SUIT_168D']\n",
    "customers['R_252D'] = customers['RR_252D'] * customers['SUIT_252D']\n",
    "customers['R_336D'] = customers['RR_336D'] * customers['SUIT_336D']"
   ]
  },
  {
   "cell_type": "code",
   "execution_count": 28,
   "metadata": {
    "ExecuteTime": {
     "end_time": "2018-10-19T09:53:10.281294Z",
     "start_time": "2018-10-19T09:53:06.686294Z"
    }
   },
   "outputs": [],
   "source": [
    "customers.to_pickle(\"./test_local_fr_sp_customers_tiers_51-56.pkl\")"
   ]
  },
  {
   "cell_type": "code",
   "execution_count": 29,
   "metadata": {
    "ExecuteTime": {
     "end_time": "2018-10-19T09:53:10.308294Z",
     "start_time": "2018-10-19T09:53:10.282294Z"
    }
   },
   "outputs": [],
   "source": [
    "mask = [len(i) == 1 for i in customers['CZP_ZTQ_ID_unique'].values]"
   ]
  },
  {
   "cell_type": "code",
   "execution_count": 30,
   "metadata": {
    "ExecuteTime": {
     "end_time": "2018-10-19T09:53:10.405294Z",
     "start_time": "2018-10-19T09:53:10.310294Z"
    }
   },
   "outputs": [],
   "source": [
    "sp_customers = customers[mask]"
   ]
  },
  {
   "cell_type": "code",
   "execution_count": 31,
   "metadata": {
    "ExecuteTime": {
     "end_time": "2018-10-19T09:53:10.411294Z",
     "start_time": "2018-10-19T09:53:10.407294Z"
    }
   },
   "outputs": [],
   "source": [
    "def get_number_from_string(i):\n",
    "    changes = str(i).replace('[', '').replace(']', '')\n",
    "    return int(changes)"
   ]
  },
  {
   "cell_type": "code",
   "execution_count": 32,
   "metadata": {
    "ExecuteTime": {
     "end_time": "2018-10-19T09:53:10.460294Z",
     "start_time": "2018-10-19T09:53:10.413294Z"
    }
   },
   "outputs": [],
   "source": [
    "t_customers = sp_customers.copy()"
   ]
  },
  {
   "cell_type": "code",
   "execution_count": 33,
   "metadata": {
    "ExecuteTime": {
     "end_time": "2018-10-19T09:53:16.502294Z",
     "start_time": "2018-10-19T09:53:10.461294Z"
    }
   },
   "outputs": [],
   "source": [
    "t_customers['CZP_ZTQ_ID_unique'] = t_customers['CZP_ZTQ_ID_unique'].map(get_number_from_string)"
   ]
  },
  {
   "cell_type": "code",
   "execution_count": 34,
   "metadata": {
    "ExecuteTime": {
     "end_time": "2018-10-19T09:53:16.511294Z",
     "start_time": "2018-10-19T09:53:16.503294Z"
    }
   },
   "outputs": [
    {
     "data": {
      "text/plain": [
       "51    56217\n",
       "56    43251\n",
       "52    40288\n",
       "53    29562\n",
       "54    24555\n",
       "55     5759\n",
       "Name: CZP_ZTQ_ID_unique, dtype: int64"
      ]
     },
     "execution_count": 34,
     "metadata": {},
     "output_type": "execute_result"
    }
   ],
   "source": [
    "t_customers['CZP_ZTQ_ID_unique'].value_counts()"
   ]
  },
  {
   "cell_type": "code",
   "execution_count": 35,
   "metadata": {
    "ExecuteTime": {
     "end_time": "2018-10-19T09:53:16.620294Z",
     "start_time": "2018-10-19T09:53:16.512294Z"
    }
   },
   "outputs": [],
   "source": [
    "tier_rr_28d = (t_customers.groupby('CZP_ZTQ_ID_unique')['R_28D'].sum() / t_customers.groupby('CZP_ZTQ_ID_unique')['SUIT_28D'].sum() * 100).round(2)\n",
    "tier_rr_56d = (t_customers.groupby('CZP_ZTQ_ID_unique')['R_56D'].sum() / t_customers.groupby('CZP_ZTQ_ID_unique')['SUIT_56D'].sum() * 100).round(2)\n",
    "tier_rr_84d = (t_customers.groupby('CZP_ZTQ_ID_unique')['R_84D'].sum() / t_customers.groupby('CZP_ZTQ_ID_unique')['SUIT_84D'].sum() * 100).round(2)\n",
    "tier_rr_168d = (t_customers.groupby('CZP_ZTQ_ID_unique')['R_168D'].sum() / t_customers.groupby('CZP_ZTQ_ID_unique')['SUIT_168D'].sum() * 100).round(2)\n",
    "tier_rr_252d = (t_customers.groupby('CZP_ZTQ_ID_unique')['R_252D'].sum() / t_customers.groupby('CZP_ZTQ_ID_unique')['SUIT_252D'].sum() * 100).round(2)\n",
    "tier_rr_336d = (t_customers.groupby('CZP_ZTQ_ID_unique')['R_336D'].sum() / t_customers.groupby('CZP_ZTQ_ID_unique')['SUIT_336D'].sum() * 100).round(2)"
   ]
  },
  {
   "cell_type": "code",
   "execution_count": 36,
   "metadata": {
    "ExecuteTime": {
     "end_time": "2018-10-19T09:53:16.635294Z",
     "start_time": "2018-10-19T09:53:16.621294Z"
    }
   },
   "outputs": [
    {
     "data": {
      "text/html": [
       "<div>\n",
       "<style scoped>\n",
       "    .dataframe tbody tr th:only-of-type {\n",
       "        vertical-align: middle;\n",
       "    }\n",
       "\n",
       "    .dataframe tbody tr th {\n",
       "        vertical-align: top;\n",
       "    }\n",
       "\n",
       "    .dataframe thead th {\n",
       "        text-align: right;\n",
       "    }\n",
       "</style>\n",
       "<table border=\"1\" class=\"dataframe\">\n",
       "  <thead>\n",
       "    <tr style=\"text-align: right;\">\n",
       "      <th></th>\n",
       "      <th>28d</th>\n",
       "      <th>56d</th>\n",
       "      <th>84d</th>\n",
       "      <th>168d</th>\n",
       "      <th>252d</th>\n",
       "      <th>336d</th>\n",
       "    </tr>\n",
       "    <tr>\n",
       "      <th>CZP_ZTQ_ID_unique</th>\n",
       "      <th></th>\n",
       "      <th></th>\n",
       "      <th></th>\n",
       "      <th></th>\n",
       "      <th></th>\n",
       "      <th></th>\n",
       "    </tr>\n",
       "  </thead>\n",
       "  <tbody>\n",
       "    <tr>\n",
       "      <th>51</th>\n",
       "      <td>20.40</td>\n",
       "      <td>48.85</td>\n",
       "      <td>66.51</td>\n",
       "      <td>83.47</td>\n",
       "      <td>88.11</td>\n",
       "      <td>92.17</td>\n",
       "    </tr>\n",
       "    <tr>\n",
       "      <th>52</th>\n",
       "      <td>20.73</td>\n",
       "      <td>46.74</td>\n",
       "      <td>64.92</td>\n",
       "      <td>86.45</td>\n",
       "      <td>92.92</td>\n",
       "      <td>96.33</td>\n",
       "    </tr>\n",
       "    <tr>\n",
       "      <th>53</th>\n",
       "      <td>21.58</td>\n",
       "      <td>48.61</td>\n",
       "      <td>65.85</td>\n",
       "      <td>82.79</td>\n",
       "      <td>87.75</td>\n",
       "      <td>91.96</td>\n",
       "    </tr>\n",
       "    <tr>\n",
       "      <th>54</th>\n",
       "      <td>21.44</td>\n",
       "      <td>46.63</td>\n",
       "      <td>64.91</td>\n",
       "      <td>86.25</td>\n",
       "      <td>92.66</td>\n",
       "      <td>95.99</td>\n",
       "    </tr>\n",
       "    <tr>\n",
       "      <th>55</th>\n",
       "      <td>16.06</td>\n",
       "      <td>38.71</td>\n",
       "      <td>53.19</td>\n",
       "      <td>67.65</td>\n",
       "      <td>70.32</td>\n",
       "      <td>73.15</td>\n",
       "    </tr>\n",
       "    <tr>\n",
       "      <th>56</th>\n",
       "      <td>18.39</td>\n",
       "      <td>43.96</td>\n",
       "      <td>59.55</td>\n",
       "      <td>74.82</td>\n",
       "      <td>77.78</td>\n",
       "      <td>80.59</td>\n",
       "    </tr>\n",
       "  </tbody>\n",
       "</table>\n",
       "</div>"
      ],
      "text/plain": [
       "                     28d    56d    84d   168d   252d   336d\n",
       "CZP_ZTQ_ID_unique                                          \n",
       "51                 20.40  48.85  66.51  83.47  88.11  92.17\n",
       "52                 20.73  46.74  64.92  86.45  92.92  96.33\n",
       "53                 21.58  48.61  65.85  82.79  87.75  91.96\n",
       "54                 21.44  46.63  64.91  86.25  92.66  95.99\n",
       "55                 16.06  38.71  53.19  67.65  70.32  73.15\n",
       "56                 18.39  43.96  59.55  74.82  77.78  80.59"
      ]
     },
     "execution_count": 36,
     "metadata": {},
     "output_type": "execute_result"
    }
   ],
   "source": [
    "rep_rate_tiers = pd.DataFrame([tier_rr_28d, tier_rr_56d, tier_rr_84d, tier_rr_168d, tier_rr_252d, tier_rr_336d]).T\n",
    "rep_rate_tiers.columns = ['28d', '56d', '84d', '168d', '252d', '336d']\n",
    "rep_rate_tiers"
   ]
  },
  {
   "cell_type": "code",
   "execution_count": 37,
   "metadata": {
    "ExecuteTime": {
     "end_time": "2018-10-19T09:53:16.649294Z",
     "start_time": "2018-10-19T09:53:16.636294Z"
    }
   },
   "outputs": [],
   "source": [
    "ztq = [51, 52, 53, 54, 55, 56]"
   ]
  },
  {
   "cell_type": "code",
   "execution_count": 38,
   "metadata": {
    "ExecuteTime": {
     "end_time": "2018-10-19T09:53:17.774294Z",
     "start_time": "2018-10-19T09:53:16.651294Z"
    }
   },
   "outputs": [
    {
     "data": {
      "image/png": "[encoded data removed]",
      "text/plain": [
       "<matplotlib.figure.Figure at 0x69171978>"
      ]
     },
     "metadata": {},
     "output_type": "display_data"
    },
    {
     "data": {
      "text/html": [
       "<div>\n",
       "<style scoped>\n",
       "    .dataframe tbody tr th:only-of-type {\n",
       "        vertical-align: middle;\n",
       "    }\n",
       "\n",
       "    .dataframe tbody tr th {\n",
       "        vertical-align: top;\n",
       "    }\n",
       "\n",
       "    .dataframe thead th {\n",
       "        text-align: right;\n",
       "    }\n",
       "</style>\n",
       "<table border=\"1\" class=\"dataframe\">\n",
       "  <thead>\n",
       "    <tr style=\"text-align: right;\">\n",
       "      <th></th>\n",
       "      <th>Tier 51 ORDERS</th>\n",
       "      <th>Tier 52 ORDERS</th>\n",
       "      <th>Tier 53 ORDERS</th>\n",
       "      <th>Tier 54 ORDERS</th>\n",
       "      <th>Tier 55 ORDERS</th>\n",
       "      <th>Tier 56 ORDERS</th>\n",
       "    </tr>\n",
       "  </thead>\n",
       "  <tbody>\n",
       "    <tr>\n",
       "      <th>count</th>\n",
       "      <td>56217.00</td>\n",
       "      <td>40288.00</td>\n",
       "      <td>29562.00</td>\n",
       "      <td>24555.00</td>\n",
       "      <td>5759.00</td>\n",
       "      <td>43251.00</td>\n",
       "    </tr>\n",
       "    <tr>\n",
       "      <th>mean</th>\n",
       "      <td>4.92</td>\n",
       "      <td>5.77</td>\n",
       "      <td>5.14</td>\n",
       "      <td>5.91</td>\n",
       "      <td>2.94</td>\n",
       "      <td>3.47</td>\n",
       "    </tr>\n",
       "    <tr>\n",
       "      <th>std</th>\n",
       "      <td>4.32</td>\n",
       "      <td>5.58</td>\n",
       "      <td>4.65</td>\n",
       "      <td>5.13</td>\n",
       "      <td>2.52</td>\n",
       "      <td>3.50</td>\n",
       "    </tr>\n",
       "    <tr>\n",
       "      <th>min</th>\n",
       "      <td>1.00</td>\n",
       "      <td>1.00</td>\n",
       "      <td>1.00</td>\n",
       "      <td>1.00</td>\n",
       "      <td>1.00</td>\n",
       "      <td>1.00</td>\n",
       "    </tr>\n",
       "    <tr>\n",
       "      <th>25%</th>\n",
       "      <td>2.00</td>\n",
       "      <td>3.00</td>\n",
       "      <td>2.00</td>\n",
       "      <td>3.00</td>\n",
       "      <td>1.00</td>\n",
       "      <td>1.00</td>\n",
       "    </tr>\n",
       "    <tr>\n",
       "      <th>50%</th>\n",
       "      <td>4.00</td>\n",
       "      <td>5.00</td>\n",
       "      <td>4.00</td>\n",
       "      <td>5.00</td>\n",
       "      <td>2.00</td>\n",
       "      <td>3.00</td>\n",
       "    </tr>\n",
       "    <tr>\n",
       "      <th>75%</th>\n",
       "      <td>7.00</td>\n",
       "      <td>8.00</td>\n",
       "      <td>7.00</td>\n",
       "      <td>8.00</td>\n",
       "      <td>4.00</td>\n",
       "      <td>5.00</td>\n",
       "    </tr>\n",
       "    <tr>\n",
       "      <th>max</th>\n",
       "      <td>79.00</td>\n",
       "      <td>558.00</td>\n",
       "      <td>110.00</td>\n",
       "      <td>136.00</td>\n",
       "      <td>24.00</td>\n",
       "      <td>434.00</td>\n",
       "    </tr>\n",
       "  </tbody>\n",
       "</table>\n",
       "</div>"
      ],
      "text/plain": [
       "       Tier 51 ORDERS  Tier 52 ORDERS  Tier 53 ORDERS  Tier 54 ORDERS  \\\n",
       "count        56217.00        40288.00        29562.00        24555.00   \n",
       "mean             4.92            5.77            5.14            5.91   \n",
       "std              4.32            5.58            4.65            5.13   \n",
       "min              1.00            1.00            1.00            1.00   \n",
       "25%              2.00            3.00            2.00            3.00   \n",
       "50%              4.00            5.00            4.00            5.00   \n",
       "75%              7.00            8.00            7.00            8.00   \n",
       "max             79.00          558.00          110.00          136.00   \n",
       "\n",
       "       Tier 55 ORDERS  Tier 56 ORDERS  \n",
       "count         5759.00        43251.00  \n",
       "mean             2.94            3.47  \n",
       "std              2.52            3.50  \n",
       "min              1.00            1.00  \n",
       "25%              1.00            1.00  \n",
       "50%              2.00            3.00  \n",
       "75%              4.00            5.00  \n",
       "max             24.00          434.00  "
      ]
     },
     "metadata": {},
     "output_type": "display_data"
    }
   ],
   "source": [
    "sns.set()\n",
    "plt.figure(figsize=(16,10))\n",
    "plt.suptitle('Histograms showing orders per customer & tier within 1 year time period', fontsize=14)\n",
    "plt.subplot(321)\n",
    "data_tier_51 = t_customers[t_customers['CZP_ZTQ_ID_unique'] == 51]\n",
    "data_tier_51['SCM_N_ORDER_NR_len'].hist(bins=30, range=(0, 30), color='#0066ff', alpha=0.5)\n",
    "plt.legend([51])\n",
    "plt.subplot(322)\n",
    "data_tier_52 = t_customers[t_customers['CZP_ZTQ_ID_unique'] == 52]\n",
    "data_tier_52['SCM_N_ORDER_NR_len'].hist(bins=30, range=(0, 30), color='#ff9900', alpha=0.5)\n",
    "plt.legend([52])\n",
    "plt.subplot(323)\n",
    "data_tier_53 = t_customers[t_customers['CZP_ZTQ_ID_unique'] == 53]\n",
    "data_tier_53['SCM_N_ORDER_NR_len'].hist(bins=30, range=(0, 30), color='#009900', alpha=0.5)\n",
    "plt.legend([53])\n",
    "plt.subplot(324)\n",
    "data_tier_54 = t_customers[t_customers['CZP_ZTQ_ID_unique'] == 54]\n",
    "data_tier_54['SCM_N_ORDER_NR_len'].hist(bins=30, range=(0, 30), color='#ff0000', alpha=0.5)\n",
    "plt.legend([54])\n",
    "plt.subplot(325)\n",
    "data_tier_55 = t_customers[t_customers['CZP_ZTQ_ID_unique'] == 55]\n",
    "data_tier_55['SCM_N_ORDER_NR_len'].hist(bins=30, range=(0, 30), color='#993399', alpha=0.5)\n",
    "plt.legend([55])\n",
    "plt.subplot(326)\n",
    "data_tier_56 = t_customers[t_customers['CZP_ZTQ_ID_unique'] == 56]\n",
    "data_tier_56['SCM_N_ORDER_NR_len'].hist(bins=30, range=(0, 30), color='#996633', alpha=0.5)\n",
    "plt.legend([56])\n",
    "plt.show() \n",
    "\n",
    "concat_df = pd.DataFrame()\n",
    "for tq in ztq:\n",
    "    data_tier = t_customers[t_customers['CZP_ZTQ_ID_unique'] == tq]\n",
    "    concat_df = pd.concat([concat_df,\n",
    "                           pd.DataFrame(data_tier['SCM_N_ORDER_NR_len'].describe().round(2)),\n",
    "                           ], axis=1)\n",
    "concat_df.columns = ['Tier 51 ORDERS', 'Tier 52 ORDERS', 'Tier 53 ORDERS',\n",
    "                     'Tier 54 ORDERS', 'Tier 55 ORDERS', 'Tier 56 ORDERS']\n",
    "display(concat_df)"
   ]
  },
  {
   "cell_type": "code",
   "execution_count": 39,
   "metadata": {
    "ExecuteTime": {
     "end_time": "2018-10-19T09:53:20.011294Z",
     "start_time": "2018-10-19T09:53:17.776294Z"
    }
   },
   "outputs": [
    {
     "data": {
      "image/png": "[encoded data removed]",
      "text/plain": [
       "<matplotlib.figure.Figure at 0x6a6c29e8>"
      ]
     },
     "metadata": {},
     "output_type": "display_data"
    },
    {
     "data": {
      "text/html": [
       "<div>\n",
       "<style scoped>\n",
       "    .dataframe tbody tr th:only-of-type {\n",
       "        vertical-align: middle;\n",
       "    }\n",
       "\n",
       "    .dataframe tbody tr th {\n",
       "        vertical-align: top;\n",
       "    }\n",
       "\n",
       "    .dataframe thead th {\n",
       "        text-align: right;\n",
       "    }\n",
       "</style>\n",
       "<table border=\"1\" class=\"dataframe\">\n",
       "  <thead>\n",
       "    <tr style=\"text-align: right;\">\n",
       "      <th></th>\n",
       "      <th>Tier 51 Order_Counter</th>\n",
       "      <th>Tier 52 Order_Counter</th>\n",
       "      <th>Tier 53 Order_Counter</th>\n",
       "      <th>Tier 54 Order_Counter</th>\n",
       "      <th>Tier 55 Order_Counter</th>\n",
       "      <th>Tier 56 Order_Counter</th>\n",
       "    </tr>\n",
       "  </thead>\n",
       "  <tbody>\n",
       "    <tr>\n",
       "      <th>count</th>\n",
       "      <td>310864.00</td>\n",
       "      <td>261502.00</td>\n",
       "      <td>164219.00</td>\n",
       "      <td>157635.00</td>\n",
       "      <td>19317.00</td>\n",
       "      <td>171639.00</td>\n",
       "    </tr>\n",
       "    <tr>\n",
       "      <th>mean</th>\n",
       "      <td>29.71</td>\n",
       "      <td>41.98</td>\n",
       "      <td>29.08</td>\n",
       "      <td>40.99</td>\n",
       "      <td>5.01</td>\n",
       "      <td>5.90</td>\n",
       "    </tr>\n",
       "    <tr>\n",
       "      <th>std</th>\n",
       "      <td>30.37</td>\n",
       "      <td>79.03</td>\n",
       "      <td>30.28</td>\n",
       "      <td>63.45</td>\n",
       "      <td>4.55</td>\n",
       "      <td>14.72</td>\n",
       "    </tr>\n",
       "    <tr>\n",
       "      <th>min</th>\n",
       "      <td>1.00</td>\n",
       "      <td>2.00</td>\n",
       "      <td>1.00</td>\n",
       "      <td>1.00</td>\n",
       "      <td>1.00</td>\n",
       "      <td>1.00</td>\n",
       "    </tr>\n",
       "    <tr>\n",
       "      <th>25%</th>\n",
       "      <td>12.00</td>\n",
       "      <td>17.00</td>\n",
       "      <td>12.00</td>\n",
       "      <td>18.00</td>\n",
       "      <td>2.00</td>\n",
       "      <td>3.00</td>\n",
       "    </tr>\n",
       "    <tr>\n",
       "      <th>50%</th>\n",
       "      <td>20.00</td>\n",
       "      <td>29.00</td>\n",
       "      <td>22.00</td>\n",
       "      <td>29.00</td>\n",
       "      <td>4.00</td>\n",
       "      <td>4.00</td>\n",
       "    </tr>\n",
       "    <tr>\n",
       "      <th>75%</th>\n",
       "      <td>37.00</td>\n",
       "      <td>48.00</td>\n",
       "      <td>36.00</td>\n",
       "      <td>46.00</td>\n",
       "      <td>6.00</td>\n",
       "      <td>7.00</td>\n",
       "    </tr>\n",
       "    <tr>\n",
       "      <th>max</th>\n",
       "      <td>491.00</td>\n",
       "      <td>1828.00</td>\n",
       "      <td>738.00</td>\n",
       "      <td>2062.00</td>\n",
       "      <td>118.00</td>\n",
       "      <td>1614.00</td>\n",
       "    </tr>\n",
       "  </tbody>\n",
       "</table>\n",
       "</div>"
      ],
      "text/plain": [
       "       Tier 51 Order_Counter  Tier 52 Order_Counter  Tier 53 Order_Counter  \\\n",
       "count              310864.00              261502.00              164219.00   \n",
       "mean                   29.71                  41.98                  29.08   \n",
       "std                    30.37                  79.03                  30.28   \n",
       "min                     1.00                   2.00                   1.00   \n",
       "25%                    12.00                  17.00                  12.00   \n",
       "50%                    20.00                  29.00                  22.00   \n",
       "75%                    37.00                  48.00                  36.00   \n",
       "max                   491.00                1828.00                 738.00   \n",
       "\n",
       "       Tier 54 Order_Counter  Tier 55 Order_Counter  Tier 56 Order_Counter  \n",
       "count              157635.00               19317.00              171639.00  \n",
       "mean                   40.99                   5.01                   5.90  \n",
       "std                    63.45                   4.55                  14.72  \n",
       "min                     1.00                   1.00                   1.00  \n",
       "25%                    18.00                   2.00                   3.00  \n",
       "50%                    29.00                   4.00                   4.00  \n",
       "75%                    46.00                   6.00                   7.00  \n",
       "max                  2062.00                 118.00                1614.00  "
      ]
     },
     "metadata": {},
     "output_type": "display_data"
    }
   ],
   "source": [
    "concat_df = pd.DataFrame()\n",
    "sns.set()\n",
    "plt.figure(figsize=(16,8))\n",
    "plt.title('Histogram showing order counter per Tier', fontsize=14)\n",
    "\n",
    "for tq in ztq:\n",
    "    data_tier = orders[orders['CZP_ZTQ_ID'] == tq]\n",
    "    order_counter_values = [i for i in data_tier['OSP_KO_COUNT_NET'].values]\n",
    "    plt.hist(order_counter_values, bins=150, range=(0, 150), alpha=0.5)\n",
    "    plt.legend([51, 52, 53, 54, 55, 56])\n",
    "    concat_df = pd.concat([concat_df,\n",
    "                           (pd.DataFrame(order_counter_values).describe().round(2)),\n",
    "                           ], axis=1)\n",
    "plt.show() \n",
    "\n",
    "concat_df.columns = ['Tier 51 Order_Counter', 'Tier 52 Order_Counter', 'Tier 53 Order_Counter',\n",
    "                     'Tier 54 Order_Counter', 'Tier 55 Order_Counter', 'Tier 56 Order_Counter']\n",
    "display(concat_df)"
   ]
  },
  {
   "cell_type": "code",
   "execution_count": 40,
   "metadata": {
    "ExecuteTime": {
     "end_time": "2018-10-19T09:53:21.158294Z",
     "start_time": "2018-10-19T09:53:20.013294Z"
    }
   },
   "outputs": [
    {
     "data": {
      "image/png": "[encoded data removed]",
      "text/plain": [
       "<matplotlib.figure.Figure at 0x2bfe8c88>"
      ]
     },
     "metadata": {},
     "output_type": "display_data"
    },
    {
     "data": {
      "text/html": [
       "<div>\n",
       "<style scoped>\n",
       "    .dataframe tbody tr th:only-of-type {\n",
       "        vertical-align: middle;\n",
       "    }\n",
       "\n",
       "    .dataframe tbody tr th {\n",
       "        vertical-align: top;\n",
       "    }\n",
       "\n",
       "    .dataframe thead th {\n",
       "        text-align: right;\n",
       "    }\n",
       "</style>\n",
       "<table border=\"1\" class=\"dataframe\">\n",
       "  <thead>\n",
       "    <tr style=\"text-align: right;\">\n",
       "      <th></th>\n",
       "      <th>Tier 51 Order_Values</th>\n",
       "      <th>Tier 52 Order_Values</th>\n",
       "      <th>Tier 53 Order_Values</th>\n",
       "      <th>Tier 54 Order_Values</th>\n",
       "      <th>Tier 55 Order_Values</th>\n",
       "      <th>Tier 56 Order_Values</th>\n",
       "    </tr>\n",
       "  </thead>\n",
       "  <tbody>\n",
       "    <tr>\n",
       "      <th>count</th>\n",
       "      <td>310864.00</td>\n",
       "      <td>261502.00</td>\n",
       "      <td>164219.00</td>\n",
       "      <td>157635.00</td>\n",
       "      <td>19317.00</td>\n",
       "      <td>171639.00</td>\n",
       "    </tr>\n",
       "    <tr>\n",
       "      <th>mean</th>\n",
       "      <td>76.32</td>\n",
       "      <td>87.08</td>\n",
       "      <td>80.41</td>\n",
       "      <td>93.53</td>\n",
       "      <td>66.29</td>\n",
       "      <td>78.26</td>\n",
       "    </tr>\n",
       "    <tr>\n",
       "      <th>std</th>\n",
       "      <td>44.35</td>\n",
       "      <td>54.90</td>\n",
       "      <td>50.91</td>\n",
       "      <td>66.45</td>\n",
       "      <td>39.40</td>\n",
       "      <td>47.84</td>\n",
       "    </tr>\n",
       "    <tr>\n",
       "      <th>min</th>\n",
       "      <td>-41.05</td>\n",
       "      <td>-68.24</td>\n",
       "      <td>-50.69</td>\n",
       "      <td>-50.31</td>\n",
       "      <td>-19.59</td>\n",
       "      <td>-35.58</td>\n",
       "    </tr>\n",
       "    <tr>\n",
       "      <th>25%</th>\n",
       "      <td>48.47</td>\n",
       "      <td>51.38</td>\n",
       "      <td>48.50</td>\n",
       "      <td>52.24</td>\n",
       "      <td>44.05</td>\n",
       "      <td>47.89</td>\n",
       "    </tr>\n",
       "    <tr>\n",
       "      <th>50%</th>\n",
       "      <td>63.99</td>\n",
       "      <td>72.74</td>\n",
       "      <td>66.49</td>\n",
       "      <td>78.84</td>\n",
       "      <td>55.79</td>\n",
       "      <td>65.51</td>\n",
       "    </tr>\n",
       "    <tr>\n",
       "      <th>75%</th>\n",
       "      <td>94.04</td>\n",
       "      <td>106.68</td>\n",
       "      <td>98.25</td>\n",
       "      <td>113.54</td>\n",
       "      <td>78.02</td>\n",
       "      <td>94.99</td>\n",
       "    </tr>\n",
       "    <tr>\n",
       "      <th>max</th>\n",
       "      <td>1058.01</td>\n",
       "      <td>1962.27</td>\n",
       "      <td>1487.13</td>\n",
       "      <td>3546.67</td>\n",
       "      <td>999.08</td>\n",
       "      <td>1847.05</td>\n",
       "    </tr>\n",
       "  </tbody>\n",
       "</table>\n",
       "</div>"
      ],
      "text/plain": [
       "       Tier 51 Order_Values  Tier 52 Order_Values  Tier 53 Order_Values  \\\n",
       "count             310864.00             261502.00             164219.00   \n",
       "mean                  76.32                 87.08                 80.41   \n",
       "std                   44.35                 54.90                 50.91   \n",
       "min                  -41.05                -68.24                -50.69   \n",
       "25%                   48.47                 51.38                 48.50   \n",
       "50%                   63.99                 72.74                 66.49   \n",
       "75%                   94.04                106.68                 98.25   \n",
       "max                 1058.01               1962.27               1487.13   \n",
       "\n",
       "       Tier 54 Order_Values  Tier 55 Order_Values  Tier 56 Order_Values  \n",
       "count             157635.00              19317.00             171639.00  \n",
       "mean                  93.53                 66.29                 78.26  \n",
       "std                   66.45                 39.40                 47.84  \n",
       "min                  -50.31                -19.59                -35.58  \n",
       "25%                   52.24                 44.05                 47.89  \n",
       "50%                   78.84                 55.79                 65.51  \n",
       "75%                  113.54                 78.02                 94.99  \n",
       "max                 3546.67                999.08               1847.05  "
      ]
     },
     "metadata": {},
     "output_type": "display_data"
    }
   ],
   "source": [
    "concat_df = pd.DataFrame()\n",
    "sns.set()\n",
    "plt.figure(figsize=(16,8))\n",
    "plt.title('Histogram showing order values per Tier', fontsize=14)\n",
    "\n",
    "for tq in ztq:\n",
    "    data_tier = orders[orders['CZP_ZTQ_ID'] == tq]\n",
    "    order_values = [i for i in data_tier['SCM_SALES_BMF'].values]\n",
    "    plt.hist(order_values, bins=30, range=(0, 300), alpha=0.5)\n",
    "    plt.legend([51, 52, 53, 54, 55, 56])\n",
    "    concat_df = pd.concat([concat_df,\n",
    "                           (pd.DataFrame(order_values).describe().round(2)),\n",
    "                           ], axis=1)\n",
    "plt.show() \n",
    "\n",
    "concat_df.columns = ['Tier 51 Order_Values', 'Tier 52 Order_Values', 'Tier 53 Order_Values',\n",
    "                     'Tier 54 Order_Values', 'Tier 55 Order_Values', 'Tier 56 Order_Values']\n",
    "display(concat_df)"
   ]
  },
  {
   "cell_type": "code",
   "execution_count": 41,
   "metadata": {
    "ExecuteTime": {
     "end_time": "2018-10-19T09:53:23.780294Z",
     "start_time": "2018-10-19T09:53:21.160294Z"
    }
   },
   "outputs": [
    {
     "data": {
      "image/png": "[encoded data removed]",
      "text/plain": [
       "<matplotlib.figure.Figure at 0x6890a320>"
      ]
     },
     "metadata": {},
     "output_type": "display_data"
    },
    {
     "data": {
      "text/html": [
       "<div>\n",
       "<style scoped>\n",
       "    .dataframe tbody tr th:only-of-type {\n",
       "        vertical-align: middle;\n",
       "    }\n",
       "\n",
       "    .dataframe tbody tr th {\n",
       "        vertical-align: top;\n",
       "    }\n",
       "\n",
       "    .dataframe thead th {\n",
       "        text-align: right;\n",
       "    }\n",
       "</style>\n",
       "<table border=\"1\" class=\"dataframe\">\n",
       "  <thead>\n",
       "    <tr style=\"text-align: right;\">\n",
       "      <th></th>\n",
       "      <th>Tier 51 Order_CM1%</th>\n",
       "      <th>Tier 52 Order_CM1%</th>\n",
       "      <th>Tier 53 Order_CM1%</th>\n",
       "      <th>Tier 54 Order_CM1%</th>\n",
       "      <th>Tier 55 Order_CM1%</th>\n",
       "      <th>Tier 56 Order_CM1%</th>\n",
       "    </tr>\n",
       "  </thead>\n",
       "  <tbody>\n",
       "    <tr>\n",
       "      <th>count</th>\n",
       "      <td>310847.00</td>\n",
       "      <td>261485.00</td>\n",
       "      <td>164196.00</td>\n",
       "      <td>157621.00</td>\n",
       "      <td>19315.00</td>\n",
       "      <td>171626.00</td>\n",
       "    </tr>\n",
       "    <tr>\n",
       "      <th>25%</th>\n",
       "      <td>23.34</td>\n",
       "      <td>22.20</td>\n",
       "      <td>22.56</td>\n",
       "      <td>20.26</td>\n",
       "      <td>22.18</td>\n",
       "      <td>19.79</td>\n",
       "    </tr>\n",
       "    <tr>\n",
       "      <th>50%</th>\n",
       "      <td>29.58</td>\n",
       "      <td>28.59</td>\n",
       "      <td>29.92</td>\n",
       "      <td>27.08</td>\n",
       "      <td>28.45</td>\n",
       "      <td>25.91</td>\n",
       "    </tr>\n",
       "    <tr>\n",
       "      <th>75%</th>\n",
       "      <td>37.38</td>\n",
       "      <td>36.62</td>\n",
       "      <td>38.56</td>\n",
       "      <td>35.65</td>\n",
       "      <td>37.05</td>\n",
       "      <td>34.61</td>\n",
       "    </tr>\n",
       "  </tbody>\n",
       "</table>\n",
       "</div>"
      ],
      "text/plain": [
       "       Tier 51 Order_CM1%  Tier 52 Order_CM1%  Tier 53 Order_CM1%  \\\n",
       "count           310847.00           261485.00           164196.00   \n",
       "25%                 23.34               22.20               22.56   \n",
       "50%                 29.58               28.59               29.92   \n",
       "75%                 37.38               36.62               38.56   \n",
       "\n",
       "       Tier 54 Order_CM1%  Tier 55 Order_CM1%  Tier 56 Order_CM1%  \n",
       "count           157621.00            19315.00           171626.00  \n",
       "25%                 20.26               22.18               19.79  \n",
       "50%                 27.08               28.45               25.91  \n",
       "75%                 35.65               37.05               34.61  "
      ]
     },
     "metadata": {},
     "output_type": "display_data"
    }
   ],
   "source": [
    "concat_df = pd.DataFrame()\n",
    "sns.set()\n",
    "plt.figure(figsize=(16,8))\n",
    "plt.title('Histogram showing orders CM1% per Tier', fontsize=14)\n",
    "\n",
    "for tq in ztq:\n",
    "    data_tier = orders[orders['CZP_ZTQ_ID'] == tq]\n",
    "    order_values_cm1 = [i for i in data_tier['SCM_D_FINANCE_CM1'].values]\n",
    "    order_values_net_sales = [i for i in data_tier['SCM_D_ORIG_FINANCE_ORDER_NET'].values]\n",
    "    orders_rel_cm1 = [i/j * 100 for i, j in list(zip(order_values_cm1, order_values_net_sales)) if j != 0]\n",
    "    plt.hist(orders_rel_cm1, bins=100, range=(-25, 75), alpha=0.5)\n",
    "    plt.legend([51, 52, 53, 54, 55, 56])\n",
    "    concat_df = pd.concat([concat_df,\n",
    "                           (pd.DataFrame(orders_rel_cm1).describe().round(2)),\n",
    "                           ], axis=1)\n",
    "\n",
    "plt.legend([51, 52, 53, 54, 55, 56])\n",
    "plt.show() \n",
    "\n",
    "concat_df.columns = ['Tier 51 Order_CM1%', 'Tier 52 Order_CM1%', 'Tier 53 Order_CM1%',\n",
    "                     'Tier 54 Order_CM1%', 'Tier 55 Order_CM1%', 'Tier 56 Order_CM1%']\n",
    "display(concat_df.loc[['count', '25%', '50%', '75%']].astype(float))"
   ]
  },
  {
   "cell_type": "code",
   "execution_count": 42,
   "metadata": {
    "ExecuteTime": {
     "end_time": "2018-10-19T09:53:26.489294Z",
     "start_time": "2018-10-19T09:53:23.782294Z"
    }
   },
   "outputs": [
    {
     "data": {
      "image/png": "[encoded data removed]",
      "text/plain": [
       "<matplotlib.figure.Figure at 0x3426e550>"
      ]
     },
     "metadata": {},
     "output_type": "display_data"
    },
    {
     "data": {
      "text/html": [
       "<div>\n",
       "<style scoped>\n",
       "    .dataframe tbody tr th:only-of-type {\n",
       "        vertical-align: middle;\n",
       "    }\n",
       "\n",
       "    .dataframe tbody tr th {\n",
       "        vertical-align: top;\n",
       "    }\n",
       "\n",
       "    .dataframe thead th {\n",
       "        text-align: right;\n",
       "    }\n",
       "</style>\n",
       "<table border=\"1\" class=\"dataframe\">\n",
       "  <thead>\n",
       "    <tr style=\"text-align: right;\">\n",
       "      <th></th>\n",
       "      <th>Tier 51 Order_CM2%</th>\n",
       "      <th>Tier 52 Order_CM2%</th>\n",
       "      <th>Tier 53 Order_CM2%</th>\n",
       "      <th>Tier 54 Order_CM2%</th>\n",
       "      <th>Tier 55 Order_CM2%</th>\n",
       "      <th>Tier 56 Order_CM2%</th>\n",
       "    </tr>\n",
       "  </thead>\n",
       "  <tbody>\n",
       "    <tr>\n",
       "      <th>count</th>\n",
       "      <td>310847.00</td>\n",
       "      <td>261485.00</td>\n",
       "      <td>164196.00</td>\n",
       "      <td>157621.00</td>\n",
       "      <td>19315.00</td>\n",
       "      <td>171626.00</td>\n",
       "    </tr>\n",
       "    <tr>\n",
       "      <th>25%</th>\n",
       "      <td>6.42</td>\n",
       "      <td>5.72</td>\n",
       "      <td>5.60</td>\n",
       "      <td>3.82</td>\n",
       "      <td>4.82</td>\n",
       "      <td>2.97</td>\n",
       "    </tr>\n",
       "    <tr>\n",
       "      <th>50%</th>\n",
       "      <td>12.26</td>\n",
       "      <td>11.70</td>\n",
       "      <td>12.50</td>\n",
       "      <td>10.33</td>\n",
       "      <td>10.42</td>\n",
       "      <td>9.10</td>\n",
       "    </tr>\n",
       "    <tr>\n",
       "      <th>75%</th>\n",
       "      <td>18.77</td>\n",
       "      <td>18.47</td>\n",
       "      <td>20.06</td>\n",
       "      <td>17.94</td>\n",
       "      <td>17.61</td>\n",
       "      <td>16.67</td>\n",
       "    </tr>\n",
       "  </tbody>\n",
       "</table>\n",
       "</div>"
      ],
      "text/plain": [
       "       Tier 51 Order_CM2%  Tier 52 Order_CM2%  Tier 53 Order_CM2%  \\\n",
       "count           310847.00           261485.00           164196.00   \n",
       "25%                  6.42                5.72                5.60   \n",
       "50%                 12.26               11.70               12.50   \n",
       "75%                 18.77               18.47               20.06   \n",
       "\n",
       "       Tier 54 Order_CM2%  Tier 55 Order_CM2%  Tier 56 Order_CM2%  \n",
       "count           157621.00            19315.00           171626.00  \n",
       "25%                  3.82                4.82                2.97  \n",
       "50%                 10.33               10.42                9.10  \n",
       "75%                 17.94               17.61               16.67  "
      ]
     },
     "metadata": {},
     "output_type": "display_data"
    }
   ],
   "source": [
    "concat_df = pd.DataFrame()\n",
    "sns.set()\n",
    "plt.figure(figsize=(16,8))\n",
    "plt.title('Histogram showing orders CM2% per Tier', fontsize=14)\n",
    "\n",
    "for tq in ztq:\n",
    "    data_tier = orders[orders['CZP_ZTQ_ID'] == tq]\n",
    "    order_values_cm2 = [i for i in data_tier['SCM_D_FINANCE_CM2'].values]\n",
    "    order_values_net_sales = [i for i in data_tier['SCM_D_ORIG_FINANCE_ORDER_NET'].values]\n",
    "    orders_rel_cm2 = [i/j * 100 for i, j in list(zip(order_values_cm2, order_values_net_sales)) if j != 0]\n",
    "    plt.hist(orders_rel_cm2, bins=100, range=(-35, 65), alpha=0.5)\n",
    "    plt.legend([51, 52, 53, 54, 55, 56])\n",
    "    concat_df = pd.concat([concat_df,\n",
    "                           (pd.DataFrame(orders_rel_cm2).describe().round(2)),\n",
    "                           ], axis=1)\n",
    "\n",
    "plt.legend([51, 52, 53, 54, 55, 56])\n",
    "plt.show() \n",
    "\n",
    "concat_df.columns = ['Tier 51 Order_CM2%', 'Tier 52 Order_CM2%', 'Tier 53 Order_CM2%',\n",
    "                     'Tier 54 Order_CM2%', 'Tier 55 Order_CM2%', 'Tier 56 Order_CM2%']\n",
    "display(concat_df.loc[['count', '25%', '50%', '75%']].astype(float))"
   ]
  },
  {
   "cell_type": "code",
   "execution_count": 43,
   "metadata": {
    "ExecuteTime": {
     "end_time": "2018-10-19T09:53:29.866294Z",
     "start_time": "2018-10-19T09:53:26.491294Z"
    }
   },
   "outputs": [
    {
     "data": {
      "text/html": [
       "<div>\n",
       "<style scoped>\n",
       "    .dataframe tbody tr th:only-of-type {\n",
       "        vertical-align: middle;\n",
       "    }\n",
       "\n",
       "    .dataframe tbody tr th {\n",
       "        vertical-align: top;\n",
       "    }\n",
       "\n",
       "    .dataframe thead th {\n",
       "        text-align: right;\n",
       "    }\n",
       "</style>\n",
       "<table border=\"1\" class=\"dataframe\">\n",
       "  <thead>\n",
       "    <tr style=\"text-align: right;\">\n",
       "      <th></th>\n",
       "      <th>ZTQ</th>\n",
       "      <th>active_customers</th>\n",
       "      <th>orders</th>\n",
       "      <th>sales_bmf</th>\n",
       "      <th>net_sales</th>\n",
       "      <th>CM1</th>\n",
       "      <th>CM2</th>\n",
       "      <th>CM1%</th>\n",
       "      <th>CM2%</th>\n",
       "      <th>discount_amount</th>\n",
       "      <th>orders_%_neg_cm1</th>\n",
       "      <th>loss_in_CM1</th>\n",
       "      <th>orders_%_neg_cm2</th>\n",
       "      <th>loss_in_CM2</th>\n",
       "    </tr>\n",
       "  </thead>\n",
       "  <tbody>\n",
       "    <tr>\n",
       "      <th>0</th>\n",
       "      <td>51</td>\n",
       "      <td>65702</td>\n",
       "      <td>310864</td>\n",
       "      <td>23725224.45</td>\n",
       "      <td>19785157.16</td>\n",
       "      <td>5861591.44</td>\n",
       "      <td>2668975.74</td>\n",
       "      <td>29.63</td>\n",
       "      <td>13.49</td>\n",
       "      <td>-741019.12</td>\n",
       "      <td>0.61</td>\n",
       "      <td>-5964.33</td>\n",
       "      <td>8.27</td>\n",
       "      <td>-65876.61</td>\n",
       "    </tr>\n",
       "    <tr>\n",
       "      <th>1</th>\n",
       "      <td>52</td>\n",
       "      <td>47675</td>\n",
       "      <td>261502</td>\n",
       "      <td>22772852.15</td>\n",
       "      <td>18996357.80</td>\n",
       "      <td>5468167.92</td>\n",
       "      <td>2474602.44</td>\n",
       "      <td>28.79</td>\n",
       "      <td>13.03</td>\n",
       "      <td>-748186.71</td>\n",
       "      <td>0.73</td>\n",
       "      <td>-6745.71</td>\n",
       "      <td>9.79</td>\n",
       "      <td>-74622.23</td>\n",
       "    </tr>\n",
       "    <tr>\n",
       "      <th>2</th>\n",
       "      <td>53</td>\n",
       "      <td>32838</td>\n",
       "      <td>164219</td>\n",
       "      <td>13205527.68</td>\n",
       "      <td>11026590.47</td>\n",
       "      <td>3297337.58</td>\n",
       "      <td>1541832.04</td>\n",
       "      <td>29.90</td>\n",
       "      <td>13.98</td>\n",
       "      <td>-699985.86</td>\n",
       "      <td>0.79</td>\n",
       "      <td>-5209.78</td>\n",
       "      <td>10.58</td>\n",
       "      <td>-47626.18</td>\n",
       "    </tr>\n",
       "    <tr>\n",
       "      <th>3</th>\n",
       "      <td>54</td>\n",
       "      <td>27413</td>\n",
       "      <td>157635</td>\n",
       "      <td>14743715.87</td>\n",
       "      <td>12310956.22</td>\n",
       "      <td>3370485.84</td>\n",
       "      <td>1471674.83</td>\n",
       "      <td>27.38</td>\n",
       "      <td>11.95</td>\n",
       "      <td>-815401.19</td>\n",
       "      <td>0.96</td>\n",
       "      <td>-7396.39</td>\n",
       "      <td>14.10</td>\n",
       "      <td>-70169.71</td>\n",
       "    </tr>\n",
       "    <tr>\n",
       "      <th>4</th>\n",
       "      <td>55</td>\n",
       "      <td>6487</td>\n",
       "      <td>19317</td>\n",
       "      <td>1280582.74</td>\n",
       "      <td>1069001.09</td>\n",
       "      <td>308798.32</td>\n",
       "      <td>129377.17</td>\n",
       "      <td>28.89</td>\n",
       "      <td>12.10</td>\n",
       "      <td>-39448.20</td>\n",
       "      <td>0.67</td>\n",
       "      <td>-353.19</td>\n",
       "      <td>10.90</td>\n",
       "      <td>-4565.46</td>\n",
       "    </tr>\n",
       "    <tr>\n",
       "      <th>5</th>\n",
       "      <td>56</td>\n",
       "      <td>49574</td>\n",
       "      <td>171639</td>\n",
       "      <td>13432884.83</td>\n",
       "      <td>11207322.54</td>\n",
       "      <td>2984772.13</td>\n",
       "      <td>1222084.65</td>\n",
       "      <td>26.63</td>\n",
       "      <td>10.90</td>\n",
       "      <td>-705376.76</td>\n",
       "      <td>0.91</td>\n",
       "      <td>-5835.85</td>\n",
       "      <td>15.63</td>\n",
       "      <td>-71391.93</td>\n",
       "    </tr>\n",
       "  </tbody>\n",
       "</table>\n",
       "</div>"
      ],
      "text/plain": [
       "  ZTQ active_customers  orders    sales_bmf    net_sales         CM1  \\\n",
       "0  51            65702  310864  23725224.45  19785157.16  5861591.44   \n",
       "1  52            47675  261502  22772852.15  18996357.80  5468167.92   \n",
       "2  53            32838  164219  13205527.68  11026590.47  3297337.58   \n",
       "3  54            27413  157635  14743715.87  12310956.22  3370485.84   \n",
       "4  55             6487   19317   1280582.74   1069001.09   308798.32   \n",
       "5  56            49574  171639  13432884.83  11207322.54  2984772.13   \n",
       "\n",
       "          CM2   CM1%   CM2%  discount_amount  orders_%_neg_cm1  loss_in_CM1  \\\n",
       "0  2668975.74  29.63  13.49       -741019.12              0.61     -5964.33   \n",
       "1  2474602.44  28.79  13.03       -748186.71              0.73     -6745.71   \n",
       "2  1541832.04  29.90  13.98       -699985.86              0.79     -5209.78   \n",
       "3  1471674.83  27.38  11.95       -815401.19              0.96     -7396.39   \n",
       "4   129377.17  28.89  12.10        -39448.20              0.67      -353.19   \n",
       "5  1222084.65  26.63  10.90       -705376.76              0.91     -5835.85   \n",
       "\n",
       "   orders_%_neg_cm2  loss_in_CM2  \n",
       "0              8.27    -65876.61  \n",
       "1              9.79    -74622.23  \n",
       "2             10.58    -47626.18  \n",
       "3             14.10    -70169.71  \n",
       "4             10.90     -4565.46  \n",
       "5             15.63    -71391.93  "
      ]
     },
     "metadata": {},
     "output_type": "display_data"
    }
   ],
   "source": [
    "metrics_ztq = pd.DataFrame(columns=['ZTQ','active_customers', 'orders', 'sales_bmf', 'net_sales', 'CM1', 'CM2', 'CM1%', 'CM2%',\n",
    "                                   'discount_amount', 'orders_%_neg_cm1', 'loss_in_CM1', 'orders_%_neg_cm2', 'loss_in_CM2'])\n",
    "for tq in ztq:\n",
    "    df_elems = []\n",
    "    data_tier = data[data['CZP_ZTQ_ID'] == tq]\n",
    "    df_elems.append(tq)\n",
    "    df_elems.append(data_tier['CUS_N_KEY_CUSTOMER'].nunique())\n",
    "    df_elems.append(data_tier['SCM_N_ORDER_NR'].nunique())\n",
    "    df_elems.append(data_tier['SCM_SALES_BMF'].sum())\n",
    "    df_elems.append(data_tier['SCM_D_ORIG_FINANCE_ORDER_NET'].sum())\n",
    "    df_elems.append(data_tier['SCM_D_FINANCE_CM1'].sum())\n",
    "    df_elems.append(data_tier['SCM_D_FINANCE_CM2'].sum())\n",
    "    df_elems.append(data_tier['SCM_D_FINANCE_CM1'].sum() / data_tier['SCM_D_ORIG_FINANCE_ORDER_NET'].sum() * 100)\n",
    "    df_elems.append(data_tier['SCM_D_FINANCE_CM2'].sum() / data_tier['SCM_D_ORIG_FINANCE_ORDER_NET'].sum() * 100)\n",
    "    df_elems.append((data_tier[data_tier['SCM_MASTER_AP_ID'] == 42715]['SCM_SALES_BMF']).sum())\n",
    "    \n",
    "    cm1_per_order = data_tier.groupby('SCM_N_ORDER_NR')['SCM_D_FINANCE_CM1'].sum()\n",
    "    orders_neg_cm1 = cm1_per_order[cm1_per_order < 0].index.values\n",
    "    df_elems.append(len(orders_neg_cm1)/data_tier['SCM_N_ORDER_NR'].nunique()*100)\n",
    "    df_elems.append(cm1_per_order[cm1_per_order < 0].sum())\n",
    "    \n",
    "    cm2_per_order = data_tier.groupby('SCM_N_ORDER_NR')['SCM_D_FINANCE_CM2'].sum()\n",
    "    orders_neg_cm2 = cm2_per_order[cm2_per_order < 0].index.values\n",
    "    df_elems.append(len(orders_neg_cm2)/data_tier['SCM_N_ORDER_NR'].nunique()*100)\n",
    "    df_elems.append(cm2_per_order[cm2_per_order < 0].sum())\n",
    "    \n",
    "    new_row = pd.DataFrame.from_records([df_elems], columns=metrics_ztq.columns)\n",
    "    metrics_ztq = metrics_ztq.append(new_row, ignore_index=True)\n",
    "    \n",
    "display(metrics_ztq.round(2))"
   ]
  },
  {
   "cell_type": "code",
   "execution_count": null,
   "metadata": {},
   "outputs": [],
   "source": []
  }
 ],
 "metadata": {
  "hide_input": false,
  "kernelspec": {
   "display_name": "Python [conda env:py36]",
   "language": "python",
   "name": "conda-env-py36-py"
  },
  "language_info": {
   "codemirror_mode": {
    "name": "ipython",
    "version": 3
   },
   "file_extension": ".py",
   "mimetype": "text/x-python",
   "name": "python",
   "nbconvert_exporter": "python",
   "pygments_lexer": "ipython3",
   "version": "3.6.4"
  },
  "toc": {
   "base_numbering": 1,
   "nav_menu": {},
   "number_sections": true,
   "sideBar": true,
   "skip_h1_title": false,
   "title_cell": "Table of Contents",
   "title_sidebar": "Contents",
   "toc_cell": false,
   "toc_position": {},
   "toc_section_display": true,
   "toc_window_display": false
  },
  "varInspector": {
   "cols": {
    "lenName": 16,
    "lenType": 16,
    "lenVar": 40
   },
   "kernels_config": {
    "python": {
     "delete_cmd_postfix": "",
     "delete_cmd_prefix": "del ",
     "library": "var_list.py",
     "varRefreshCmd": "print(var_dic_list())"
    },
    "r": {
     "delete_cmd_postfix": ") ",
     "delete_cmd_prefix": "rm(",
     "library": "var_list.r",
     "varRefreshCmd": "cat(var_dic_list()) "
    }
   },
   "types_to_exclude": [
    "module",
    "function",
    "builtin_function_or_method",
    "instance",
    "_Feature"
   ],
   "window_display": false
  }
 },
 "nbformat": 4,
 "nbformat_minor": 2
}
