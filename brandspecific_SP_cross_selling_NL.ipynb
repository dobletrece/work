{
 "cells": [
  {
   "cell_type": "code",
   "execution_count": 1,
   "metadata": {
    "ExecuteTime": {
     "end_time": "2018-11-26T07:40:28.721864Z",
     "start_time": "2018-11-26T07:40:26.473003Z"
    }
   },
   "outputs": [],
   "source": [
    "import numpy as np\n",
    "import pandas as pd\n",
    "import dask.dataframe as dd\n",
    "import matplotlib.pyplot as plt\n",
    "%matplotlib inline\n",
    "from IPython.display import display\n",
    "from scipy import stats\n",
    "from statistics import stdev\n",
    "import datetime\n",
    "from datetime import timedelta\n",
    "from collections import Counter\n",
    "import cx_Oracle\n",
    "import psycopg2\n",
    "import seaborn as sns\n",
    "import json\n",
    "import pickle\n",
    "#from fitter import Fitter\n",
    "from warnings import filterwarnings\n",
    "from itertools import compress\n",
    "filterwarnings('ignore')"
   ]
  },
  {
   "cell_type": "markdown",
   "metadata": {},
   "source": [
    "NL shop"
   ]
  },
  {
   "cell_type": "raw",
   "metadata": {
    "ExecuteTime": {
     "end_time": "2018-11-23T12:06:24.714626Z",
     "start_time": "2018-11-23T12:06:24.701626Z"
    }
   },
   "source": [
    "\"\"\"select \n",
    "scm.scm_n_order_pos_nr, scm.scm_n_order_nr, scm.tdt_t_key_order_date, scm.THR_C_KEY_ORDER_HOUR, scm.SIT_N_KEY_SITE,\n",
    "scm.CUS_N_KEY_CUSTOMER, scm.SCM_SALES_BMF, scm.SCM_D_FINANCE_CM1, scm.SCM_D_FINANCE_CM2,\n",
    "scm.SCM_D_ORIG_FINANCE_ORDER_NET,scm.SCM_AP_ID, scm.SCM_AS_ID, scm.SCM_MASTER_AP_ID,\n",
    "osp.OSP_KO_COUNT_NET, osp.OSP_3_LEAD_P_PG_ID, osp.OSP_3_LEAD_P_PG_SHARE, osp.OSP_4_LEAD_P_PG_ID, osp.OSP_4_LEAD_P_PG_SHARE,\n",
    "czp.CZP_START_DATE, czp.CZP_EXPIRY_DATE, czp.CZP_ZTQ_ID, czp.CZP_PERCENTAGE, czp.CZP_PRICE\n",
    "from zoocube.ddstf_scm_sales_contrib_margin scm\n",
    "join ZOOMAN.ORDER_SALES_PROFILE osp\n",
    "on osp.OSP_O_ID = scm.SCM_N_ORDER_NR\n",
    "join ZOOMAN.ORDERS o\n",
    "on o.O_ID = scm.SCM_N_ORDER_NR\n",
    "left outer join ZOOMAN.CUSTOMERS_ZOOPRIME_PLANS czp\n",
    "on scm.CUS_N_KEY_CUSTOMER = czp.CZP_K_ID\n",
    "and czp.CZP_EXPIRY_DATE > to_date((to_char(TDT_T_KEY_ORDER_DATE, 'dd/mm/yyyy') ||' '|| THR_C_KEY_ORDER_HOUR), 'dd/mm/yyyy HH24:MI')\n",
    "and czp.CZP_START_DATE <= to_date((to_char(TDT_T_KEY_ORDER_DATE, 'dd/mm/yyyy') ||' '|| THR_C_KEY_ORDER_HOUR), 'dd/mm/yyyy HH24:MI') + interval '2' minute\n",
    "where SIT_N_KEY_SITE = 7\n",
    "and ((TDT_T_KEY_ORDER_DATE >= to_date('01/07/15', 'DD/MM/YY') and TDT_T_KEY_ORDER_DATE <= to_date('30/06/18', 'DD/MM/YY')))\n",
    "and (scm.SCM_C_ORDER_STATUS = 'L' OR scm.SCM_C_ORDER_STATUS = 'VK')\n",
    "and scm.SCM_SALES_CANCEL_BMF = 0\n",
    "and scm.CUS_N_KEY_CUSTOMER IN (\n",
    "select distinct scm.CUS_N_KEY_CUSTOMER\n",
    "from zoocube.ddstf_scm_sales_contrib_margin scm\n",
    "join ZOOMAN.ORDER_SALES_PROFILE osp\n",
    "on osp.OSP_O_ID = scm.SCM_N_ORDER_NR\n",
    "where SIT_N_KEY_SITE = 7\n",
    "and ((TDT_T_KEY_ORDER_DATE >= to_date('01/07/15', 'DD/MM/YY') and TDT_T_KEY_ORDER_DATE <= to_date('30/06/16', 'DD/MM/YY')))\n",
    "and osp.OSP_KO_COUNT_NET = 1\n",
    ")\"\"\""
   ]
  },
  {
   "cell_type": "markdown",
   "metadata": {
    "heading_collapsed": true
   },
   "source": [
    "### Data loading, cleaning & formatting"
   ]
  },
  {
   "cell_type": "code",
   "execution_count": 7,
   "metadata": {
    "ExecuteTime": {
     "end_time": "2018-11-23T13:03:47.436626Z",
     "start_time": "2018-11-23T13:03:27.005626Z"
    },
    "hidden": true
   },
   "outputs": [],
   "source": [
    "data = pd.read_csv('nl_shop_orders_sp_cross_selling.dsv', sep=';', low_memory=False)"
   ]
  },
  {
   "cell_type": "code",
   "execution_count": 8,
   "metadata": {
    "ExecuteTime": {
     "end_time": "2018-11-23T14:19:40.545626Z",
     "start_time": "2018-11-23T14:19:40.284626Z"
    },
    "hidden": true
   },
   "outputs": [
    {
     "data": {
      "text/html": [
       "<div>\n",
       "<style scoped>\n",
       "    .dataframe tbody tr th:only-of-type {\n",
       "        vertical-align: middle;\n",
       "    }\n",
       "\n",
       "    .dataframe tbody tr th {\n",
       "        vertical-align: top;\n",
       "    }\n",
       "\n",
       "    .dataframe thead th {\n",
       "        text-align: right;\n",
       "    }\n",
       "</style>\n",
       "<table border=\"1\" class=\"dataframe\">\n",
       "  <thead>\n",
       "    <tr style=\"text-align: right;\">\n",
       "      <th></th>\n",
       "      <th>SCM_N_ORDER_POS_NR</th>\n",
       "      <th>SCM_N_ORDER_NR</th>\n",
       "      <th>TDT_T_KEY_ORDER_DATE</th>\n",
       "      <th>THR_C_KEY_ORDER_HOUR</th>\n",
       "      <th>SIT_N_KEY_SITE</th>\n",
       "      <th>CUS_N_KEY_CUSTOMER</th>\n",
       "      <th>SCM_SALES_BMF</th>\n",
       "      <th>SCM_D_FINANCE_CM1</th>\n",
       "      <th>SCM_D_FINANCE_CM2</th>\n",
       "      <th>SCM_D_ORIG_FINANCE_ORDER_NET</th>\n",
       "      <th>...</th>\n",
       "      <th>OSP_KO_COUNT_NET</th>\n",
       "      <th>OSP_3_LEAD_P_PG_ID</th>\n",
       "      <th>OSP_3_LEAD_P_PG_SHARE</th>\n",
       "      <th>OSP_4_LEAD_P_PG_ID</th>\n",
       "      <th>OSP_4_LEAD_P_PG_SHARE</th>\n",
       "      <th>CZP_START_DATE</th>\n",
       "      <th>CZP_EXPIRY_DATE</th>\n",
       "      <th>CZP_ZTQ_ID</th>\n",
       "      <th>CZP_PERCENTAGE</th>\n",
       "      <th>CZP_PRICE</th>\n",
       "    </tr>\n",
       "  </thead>\n",
       "  <tbody>\n",
       "    <tr>\n",
       "      <th>1808570</th>\n",
       "      <td>454038939</td>\n",
       "      <td>106483495</td>\n",
       "      <td>12/03/2018 00:00</td>\n",
       "      <td>21:36</td>\n",
       "      <td>7</td>\n",
       "      <td>12078518</td>\n",
       "      <td>45,99</td>\n",
       "      <td>5,2883</td>\n",
       "      <td>0,2383</td>\n",
       "      <td>38,0083</td>\n",
       "      <td>...</td>\n",
       "      <td>10</td>\n",
       "      <td>252.0</td>\n",
       "      <td>1</td>\n",
       "      <td>683.0</td>\n",
       "      <td>1</td>\n",
       "      <td>NaN</td>\n",
       "      <td>NaN</td>\n",
       "      <td>NaN</td>\n",
       "      <td>NaN</td>\n",
       "      <td>NaN</td>\n",
       "    </tr>\n",
       "    <tr>\n",
       "      <th>1882732</th>\n",
       "      <td>469426294</td>\n",
       "      <td>110222910</td>\n",
       "      <td>07/05/2018 00:00</td>\n",
       "      <td>22:20</td>\n",
       "      <td>7</td>\n",
       "      <td>14104380</td>\n",
       "      <td>-0,99</td>\n",
       "      <td>-0,8182</td>\n",
       "      <td>-0,8182</td>\n",
       "      <td>-0,8182</td>\n",
       "      <td>...</td>\n",
       "      <td>35</td>\n",
       "      <td>29.0</td>\n",
       "      <td>1</td>\n",
       "      <td>128.0</td>\n",
       "      <td>0,8487</td>\n",
       "      <td>22/03/2018 00:00</td>\n",
       "      <td>22/03/2019 00:00</td>\n",
       "      <td>51.0</td>\n",
       "      <td>3.0</td>\n",
       "      <td>2,99</td>\n",
       "    </tr>\n",
       "    <tr>\n",
       "      <th>960459</th>\n",
       "      <td>312229940</td>\n",
       "      <td>73624875</td>\n",
       "      <td>28/08/2016 00:00</td>\n",
       "      <td>21:40</td>\n",
       "      <td>7</td>\n",
       "      <td>13410890</td>\n",
       "      <td>57,99</td>\n",
       "      <td>17,5656</td>\n",
       "      <td>14,0862</td>\n",
       "      <td>47,9256</td>\n",
       "      <td>...</td>\n",
       "      <td>8</td>\n",
       "      <td>251.0</td>\n",
       "      <td>0,5919</td>\n",
       "      <td>18245.0</td>\n",
       "      <td>0,5919</td>\n",
       "      <td>10/03/2016 09:20</td>\n",
       "      <td>10/03/2017 23:59</td>\n",
       "      <td>56.0</td>\n",
       "      <td>5.0</td>\n",
       "      <td>4,9</td>\n",
       "    </tr>\n",
       "    <tr>\n",
       "      <th>393635</th>\n",
       "      <td>270504659</td>\n",
       "      <td>63982903</td>\n",
       "      <td>01/02/2016 00:00</td>\n",
       "      <td>10:28</td>\n",
       "      <td>7</td>\n",
       "      <td>13413125</td>\n",
       "      <td>14,99</td>\n",
       "      <td>3,7984</td>\n",
       "      <td>1,3892</td>\n",
       "      <td>12,3884</td>\n",
       "      <td>...</td>\n",
       "      <td>1</td>\n",
       "      <td>252.0</td>\n",
       "      <td>0,5161</td>\n",
       "      <td>683.0</td>\n",
       "      <td>0,5161</td>\n",
       "      <td>NaN</td>\n",
       "      <td>NaN</td>\n",
       "      <td>NaN</td>\n",
       "      <td>NaN</td>\n",
       "      <td>NaN</td>\n",
       "    </tr>\n",
       "    <tr>\n",
       "      <th>2288440</th>\n",
       "      <td>257145328</td>\n",
       "      <td>60942649</td>\n",
       "      <td>26/11/2015 00:00</td>\n",
       "      <td>10:21</td>\n",
       "      <td>7</td>\n",
       "      <td>12455587</td>\n",
       "      <td>-3,57</td>\n",
       "      <td>-2,9504</td>\n",
       "      <td>-2,9504</td>\n",
       "      <td>-2,9504</td>\n",
       "      <td>...</td>\n",
       "      <td>8</td>\n",
       "      <td>301.0</td>\n",
       "      <td>0,481</td>\n",
       "      <td>152946.0</td>\n",
       "      <td>0,481</td>\n",
       "      <td>05/10/2015 03:31</td>\n",
       "      <td>05/10/2016 23:59</td>\n",
       "      <td>56.0</td>\n",
       "      <td>5.0</td>\n",
       "      <td>4,9</td>\n",
       "    </tr>\n",
       "  </tbody>\n",
       "</table>\n",
       "<p>5 rows × 23 columns</p>\n",
       "</div>"
      ],
      "text/plain": [
       "         SCM_N_ORDER_POS_NR  SCM_N_ORDER_NR TDT_T_KEY_ORDER_DATE  \\\n",
       "1808570           454038939       106483495     12/03/2018 00:00   \n",
       "1882732           469426294       110222910     07/05/2018 00:00   \n",
       "960459            312229940        73624875     28/08/2016 00:00   \n",
       "393635            270504659        63982903     01/02/2016 00:00   \n",
       "2288440           257145328        60942649     26/11/2015 00:00   \n",
       "\n",
       "        THR_C_KEY_ORDER_HOUR  SIT_N_KEY_SITE  CUS_N_KEY_CUSTOMER  \\\n",
       "1808570                21:36               7            12078518   \n",
       "1882732                22:20               7            14104380   \n",
       "960459                 21:40               7            13410890   \n",
       "393635                 10:28               7            13413125   \n",
       "2288440                10:21               7            12455587   \n",
       "\n",
       "        SCM_SALES_BMF SCM_D_FINANCE_CM1 SCM_D_FINANCE_CM2  \\\n",
       "1808570         45,99            5,2883            0,2383   \n",
       "1882732         -0,99           -0,8182           -0,8182   \n",
       "960459          57,99           17,5656           14,0862   \n",
       "393635          14,99            3,7984            1,3892   \n",
       "2288440         -3,57           -2,9504           -2,9504   \n",
       "\n",
       "        SCM_D_ORIG_FINANCE_ORDER_NET    ...     OSP_KO_COUNT_NET  \\\n",
       "1808570                      38,0083    ...                   10   \n",
       "1882732                      -0,8182    ...                   35   \n",
       "960459                       47,9256    ...                    8   \n",
       "393635                       12,3884    ...                    1   \n",
       "2288440                      -2,9504    ...                    8   \n",
       "\n",
       "         OSP_3_LEAD_P_PG_ID  OSP_3_LEAD_P_PG_SHARE  OSP_4_LEAD_P_PG_ID  \\\n",
       "1808570               252.0                      1               683.0   \n",
       "1882732                29.0                      1               128.0   \n",
       "960459                251.0                 0,5919             18245.0   \n",
       "393635                252.0                 0,5161               683.0   \n",
       "2288440               301.0                  0,481            152946.0   \n",
       "\n",
       "         OSP_4_LEAD_P_PG_SHARE    CZP_START_DATE   CZP_EXPIRY_DATE CZP_ZTQ_ID  \\\n",
       "1808570                      1               NaN               NaN        NaN   \n",
       "1882732                 0,8487  22/03/2018 00:00  22/03/2019 00:00       51.0   \n",
       "960459                  0,5919  10/03/2016 09:20  10/03/2017 23:59       56.0   \n",
       "393635                  0,5161               NaN               NaN        NaN   \n",
       "2288440                  0,481  05/10/2015 03:31  05/10/2016 23:59       56.0   \n",
       "\n",
       "        CZP_PERCENTAGE CZP_PRICE  \n",
       "1808570            NaN       NaN  \n",
       "1882732            3.0      2,99  \n",
       "960459             5.0       4,9  \n",
       "393635             NaN       NaN  \n",
       "2288440            5.0       4,9  \n",
       "\n",
       "[5 rows x 23 columns]"
      ]
     },
     "execution_count": 8,
     "metadata": {},
     "output_type": "execute_result"
    }
   ],
   "source": [
    "data.sample(5)"
   ]
  },
  {
   "cell_type": "code",
   "execution_count": 9,
   "metadata": {
    "ExecuteTime": {
     "end_time": "2018-11-23T14:19:47.142626Z",
     "start_time": "2018-11-23T14:19:47.136626Z"
    },
    "hidden": true
   },
   "outputs": [
    {
     "name": "stdout",
     "output_type": "stream",
     "text": [
      "<class 'pandas.core.frame.DataFrame'>\n",
      "RangeIndex: 3260104 entries, 0 to 3260103\n",
      "Data columns (total 23 columns):\n",
      "SCM_N_ORDER_POS_NR              int64\n",
      "SCM_N_ORDER_NR                  int64\n",
      "TDT_T_KEY_ORDER_DATE            object\n",
      "THR_C_KEY_ORDER_HOUR            object\n",
      "SIT_N_KEY_SITE                  int64\n",
      "CUS_N_KEY_CUSTOMER              int64\n",
      "SCM_SALES_BMF                   object\n",
      "SCM_D_FINANCE_CM1               object\n",
      "SCM_D_FINANCE_CM2               object\n",
      "SCM_D_ORIG_FINANCE_ORDER_NET    object\n",
      "SCM_AP_ID                       int64\n",
      "SCM_AS_ID                       int64\n",
      "SCM_MASTER_AP_ID                int64\n",
      "OSP_KO_COUNT_NET                int64\n",
      "OSP_3_LEAD_P_PG_ID              float64\n",
      "OSP_3_LEAD_P_PG_SHARE           object\n",
      "OSP_4_LEAD_P_PG_ID              float64\n",
      "OSP_4_LEAD_P_PG_SHARE           object\n",
      "CZP_START_DATE                  object\n",
      "CZP_EXPIRY_DATE                 object\n",
      "CZP_ZTQ_ID                      float64\n",
      "CZP_PERCENTAGE                  float64\n",
      "CZP_PRICE                       object\n",
      "dtypes: float64(4), int64(8), object(11)\n",
      "memory usage: 572.1+ MB\n"
     ]
    }
   ],
   "source": [
    "data.info(verbose=True)"
   ]
  },
  {
   "cell_type": "code",
   "execution_count": 10,
   "metadata": {
    "ExecuteTime": {
     "end_time": "2018-11-23T14:20:18.941626Z",
     "start_time": "2018-11-23T14:20:18.928626Z"
    },
    "hidden": true
   },
   "outputs": [],
   "source": [
    "def get_date(x):\n",
    "    return x.split(' ')[0]"
   ]
  },
  {
   "cell_type": "code",
   "execution_count": 11,
   "metadata": {
    "ExecuteTime": {
     "end_time": "2018-11-23T14:20:31.213626Z",
     "start_time": "2018-11-23T14:20:27.933626Z"
    },
    "hidden": true
   },
   "outputs": [],
   "source": [
    "data['TDT_T_KEY_ORDER_DATE'] = data['TDT_T_KEY_ORDER_DATE'].map(get_date)"
   ]
  },
  {
   "cell_type": "code",
   "execution_count": 12,
   "metadata": {
    "ExecuteTime": {
     "end_time": "2018-11-23T14:20:51.719626Z",
     "start_time": "2018-11-23T14:20:43.246626Z"
    },
    "hidden": true
   },
   "outputs": [],
   "source": [
    "data['TDT_T_KEY_ORDER_DATE'] = pd.to_datetime(data['TDT_T_KEY_ORDER_DATE'], format='%d/%m/%Y')"
   ]
  },
  {
   "cell_type": "code",
   "execution_count": 13,
   "metadata": {
    "ExecuteTime": {
     "end_time": "2018-11-23T14:21:18.196626Z",
     "start_time": "2018-11-23T14:21:00.004626Z"
    },
    "hidden": true
   },
   "outputs": [],
   "source": [
    "data['ORDER_DATETIME'] = data['TDT_T_KEY_ORDER_DATE'].astype(str) + ' ' + data['THR_C_KEY_ORDER_HOUR'].astype(str) + ':00'"
   ]
  },
  {
   "cell_type": "code",
   "execution_count": 14,
   "metadata": {
    "ExecuteTime": {
     "end_time": "2018-11-23T14:21:27.025626Z",
     "start_time": "2018-11-23T14:21:26.137626Z"
    },
    "hidden": true
   },
   "outputs": [],
   "source": [
    "data['ORDER_DATETIME'] = pd.to_datetime(data['ORDER_DATETIME'], format=\"%Y-%m-%d %H:%M:%S\")"
   ]
  },
  {
   "cell_type": "code",
   "execution_count": 15,
   "metadata": {
    "ExecuteTime": {
     "end_time": "2018-11-23T14:21:44.933626Z",
     "start_time": "2018-11-23T14:21:36.062626Z"
    },
    "hidden": true
   },
   "outputs": [],
   "source": [
    "data['CZP_START_DATE'] = pd.to_datetime(data['CZP_START_DATE'], format=\"%d/%m/%Y %H:%M\")\n",
    "data['CZP_EXPIRY_DATE'] = pd.to_datetime(data['CZP_EXPIRY_DATE'], format=\"%d/%m/%Y %H:%M\")"
   ]
  },
  {
   "cell_type": "code",
   "execution_count": 16,
   "metadata": {
    "ExecuteTime": {
     "end_time": "2018-11-23T14:21:58.558626Z",
     "start_time": "2018-11-23T14:21:49.148626Z"
    },
    "hidden": true
   },
   "outputs": [],
   "source": [
    "data['SCM_SALES_BMF'] = [float(str(i).replace(',','.')) for i in data['SCM_SALES_BMF'].values]\n",
    "data['SCM_D_FINANCE_CM1'] = [float(str(i).replace(',','.')) for i in data['SCM_D_FINANCE_CM1'].values]\n",
    "data['SCM_D_FINANCE_CM2'] = [float(str(i).replace(',','.')) for i in data['SCM_D_FINANCE_CM2'].values]\n",
    "data['SCM_D_ORIG_FINANCE_ORDER_NET'] = [float(str(i).replace(',','.')) for i in data['SCM_D_ORIG_FINANCE_ORDER_NET'].values]"
   ]
  },
  {
   "cell_type": "code",
   "execution_count": 17,
   "metadata": {
    "ExecuteTime": {
     "end_time": "2018-11-23T14:22:06.876626Z",
     "start_time": "2018-11-23T14:22:00.251626Z"
    },
    "hidden": true
   },
   "outputs": [],
   "source": [
    "data['CZP_PRICE'] = [float(str(i).replace(',','.')) for i in data['CZP_PRICE'].values]\n",
    "data['OSP_3_LEAD_P_PG_SHARE'] = [float(str(i).replace(',','.')) for i in data['OSP_3_LEAD_P_PG_SHARE'].values]\n",
    "data['OSP_4_LEAD_P_PG_SHARE'] = [float(str(i).replace(',','.')) for i in data['OSP_4_LEAD_P_PG_SHARE'].values]"
   ]
  },
  {
   "cell_type": "code",
   "execution_count": 18,
   "metadata": {
    "ExecuteTime": {
     "end_time": "2018-11-23T14:23:36.334626Z",
     "start_time": "2018-11-23T14:22:14.020626Z"
    },
    "hidden": true
   },
   "outputs": [],
   "source": [
    "#boolean mask with duplicated orders due to SP as True\n",
    "dupl_mask = [len(i) > 1 for i in data.groupby('SCM_N_ORDER_NR')['CZP_START_DATE'].unique().values]"
   ]
  },
  {
   "cell_type": "code",
   "execution_count": 19,
   "metadata": {
    "ExecuteTime": {
     "end_time": "2018-11-23T14:24:59.205626Z",
     "start_time": "2018-11-23T14:23:39.117626Z"
    },
    "hidden": true
   },
   "outputs": [],
   "source": [
    "#get duplicated order IDs\n",
    "dup_orders = data.groupby('SCM_N_ORDER_NR')['CZP_START_DATE'].unique()[dupl_mask].index.values"
   ]
  },
  {
   "cell_type": "code",
   "execution_count": 20,
   "metadata": {
    "ExecuteTime": {
     "end_time": "2018-11-23T14:25:02.077626Z",
     "start_time": "2018-11-23T14:25:02.025626Z"
    },
    "hidden": true
   },
   "outputs": [
    {
     "data": {
      "text/plain": [
       "4971"
      ]
     },
     "execution_count": 20,
     "metadata": {},
     "output_type": "execute_result"
    }
   ],
   "source": [
    "len(dup_orders)"
   ]
  },
  {
   "cell_type": "code",
   "execution_count": 21,
   "metadata": {
    "ExecuteTime": {
     "end_time": "2018-11-23T14:25:27.624626Z",
     "start_time": "2018-11-23T14:25:26.921626Z"
    },
    "hidden": true
   },
   "outputs": [
    {
     "data": {
      "text/plain": [
       "4958"
      ]
     },
     "execution_count": 21,
     "metadata": {},
     "output_type": "execute_result"
    }
   ],
   "source": [
    "sp_acq_dup_orders = list(data[data['SCM_N_ORDER_NR'].isin(dup_orders)][data[data['SCM_N_ORDER_NR'].isin(dup_orders)]['SCM_MASTER_AP_ID'] == 42225]['SCM_N_ORDER_NR'].unique())\n",
    "len(sp_acq_dup_orders)"
   ]
  },
  {
   "cell_type": "code",
   "execution_count": 22,
   "metadata": {
    "ExecuteTime": {
     "end_time": "2018-11-23T14:25:29.782626Z",
     "start_time": "2018-11-23T14:25:29.543626Z"
    },
    "hidden": true
   },
   "outputs": [
    {
     "data": {
      "text/plain": [
       "13"
      ]
     },
     "execution_count": 22,
     "metadata": {},
     "output_type": "execute_result"
    }
   ],
   "source": [
    "no_sp_acq_dup_orders = [i for i in dup_orders if i not in sp_acq_dup_orders]\n",
    "len(no_sp_acq_dup_orders)"
   ]
  },
  {
   "cell_type": "code",
   "execution_count": 23,
   "metadata": {
    "ExecuteTime": {
     "end_time": "2018-11-23T14:26:16.292626Z",
     "start_time": "2018-11-23T14:25:50.479626Z"
    },
    "hidden": true
   },
   "outputs": [],
   "source": [
    "#Let's get incorrect duplicated indexes instead of order_id to exclude them and select the correct data subset\n",
    "dup_indexes = []\n",
    "\n",
    "for i in sp_acq_dup_orders:\n",
    "    o_id = data[data['SCM_N_ORDER_NR'] == i]\n",
    "    old_sp_date = min(o_id['CZP_START_DATE'])\n",
    "    old_sp_index = o_id[o_id['CZP_START_DATE'] == old_sp_date].index.values\n",
    "    dup_indexes.append(old_sp_index)"
   ]
  },
  {
   "cell_type": "code",
   "execution_count": 24,
   "metadata": {
    "ExecuteTime": {
     "end_time": "2018-11-23T14:26:33.233626Z",
     "start_time": "2018-11-23T14:26:33.229626Z"
    },
    "hidden": true
   },
   "outputs": [
    {
     "data": {
      "text/plain": [
       "4958"
      ]
     },
     "execution_count": 24,
     "metadata": {},
     "output_type": "execute_result"
    }
   ],
   "source": [
    "len(dup_indexes)"
   ]
  },
  {
   "cell_type": "code",
   "execution_count": 28,
   "metadata": {
    "ExecuteTime": {
     "end_time": "2018-11-23T14:28:14.322626Z",
     "start_time": "2018-11-23T14:28:14.094626Z"
    },
    "hidden": true
   },
   "outputs": [],
   "source": [
    "for i in no_sp_acq_dup_orders:\n",
    "    c_id = data[data['SCM_N_ORDER_NR'] == i]['CUS_N_KEY_CUSTOMER'].unique()[0]\n",
    "    cust_orders = data[data['CUS_N_KEY_CUSTOMER'] == c_id]\n",
    "    sp_order = cust_orders[cust_orders['SCM_MASTER_AP_ID'] == 42225]['SCM_N_ORDER_NR'].unique()[0]\n",
    "    if i < sp_order:\n",
    "        o_id = data[data['SCM_N_ORDER_NR'] == i]\n",
    "        new_non_valid_sp_date = max(o_id['CZP_START_DATE'])\n",
    "        new_sp_index = o_id[o_id['CZP_START_DATE'] == new_non_valid_sp_date].index.values\n",
    "        dup_indexes.append(new_sp_index)\n",
    "    else:\n",
    "        o_id = data[data['SCM_N_ORDER_NR'] == i]\n",
    "        old_sp_date = min(o_id['CZP_START_DATE'])\n",
    "        old_sp_index = o_id[o_id['CZP_START_DATE'] == old_sp_date].index.values\n",
    "        dup_indexes.append(old_sp_index)"
   ]
  },
  {
   "cell_type": "code",
   "execution_count": 29,
   "metadata": {
    "ExecuteTime": {
     "end_time": "2018-11-23T14:28:23.356626Z",
     "start_time": "2018-11-23T14:28:23.348626Z"
    },
    "hidden": true
   },
   "outputs": [
    {
     "data": {
      "text/plain": [
       "4971"
      ]
     },
     "execution_count": 29,
     "metadata": {},
     "output_type": "execute_result"
    }
   ],
   "source": [
    "len(dup_indexes)"
   ]
  },
  {
   "cell_type": "code",
   "execution_count": 30,
   "metadata": {
    "ExecuteTime": {
     "end_time": "2018-11-23T14:29:59.796626Z",
     "start_time": "2018-11-23T14:28:39.212626Z"
    },
    "hidden": true
   },
   "outputs": [
    {
     "name": "stdout",
     "output_type": "stream",
     "text": [
      "Duplicated rows detected:  31447\n",
      "Start dropping..\n",
      "Number of order IDs having more than one SP_START_DATE now:  0\n"
     ]
    }
   ],
   "source": [
    "#Get a flatten list of indexes\n",
    "dupl_ind = [i for lista in dup_indexes for i in lista]\n",
    "\n",
    "print('Duplicated rows detected: ', len(dupl_ind))\n",
    "print('Start dropping..')\n",
    "\n",
    "#Drop duplicated indexes\n",
    "data.drop(dupl_ind, inplace=True)\n",
    "\n",
    "#0 printed, in order to be sure there are no orders duplicated remaining...\n",
    "print('Number of order IDs having more than one SP_START_DATE now: ',\n",
    "      sum(len(i) > 1 for i in data.groupby('SCM_N_ORDER_NR')['CZP_START_DATE'].unique().values))"
   ]
  },
  {
   "cell_type": "code",
   "execution_count": 31,
   "metadata": {
    "ExecuteTime": {
     "end_time": "2018-11-23T14:30:50.413626Z",
     "start_time": "2018-11-23T14:30:50.150626Z"
    },
    "hidden": true
   },
   "outputs": [],
   "source": [
    "data['FIRST_O_DATE'] = data['TDT_T_KEY_ORDER_DATE'].groupby(data['CUS_N_KEY_CUSTOMER']).transform('min')"
   ]
  },
  {
   "cell_type": "code",
   "execution_count": 32,
   "metadata": {
    "ExecuteTime": {
     "end_time": "2018-11-23T14:30:52.566626Z",
     "start_time": "2018-11-23T14:30:52.319626Z"
    },
    "hidden": true
   },
   "outputs": [],
   "source": [
    "data['LAST_O_DATE'] = data['TDT_T_KEY_ORDER_DATE'].groupby(data['CUS_N_KEY_CUSTOMER']).transform('max')"
   ]
  },
  {
   "cell_type": "code",
   "execution_count": 33,
   "metadata": {
    "ExecuteTime": {
     "end_time": "2018-11-23T14:30:54.695626Z",
     "start_time": "2018-11-23T14:30:54.461626Z"
    },
    "hidden": true
   },
   "outputs": [],
   "source": [
    "data['1ST_O_COUNTER'] = data['OSP_KO_COUNT_NET'].groupby(data['CUS_N_KEY_CUSTOMER']).transform('min')"
   ]
  },
  {
   "cell_type": "code",
   "execution_count": 34,
   "metadata": {
    "ExecuteTime": {
     "end_time": "2018-11-23T14:30:59.292626Z",
     "start_time": "2018-11-23T14:30:58.488626Z"
    },
    "hidden": true
   },
   "outputs": [],
   "source": [
    "data['MAX_SALES_O_POS'] = data['SCM_SALES_BMF'].groupby(data['SCM_N_ORDER_NR']).transform('max')\n",
    "data['IS_LEAD_AS'] = (data['SCM_SALES_BMF'] == data['MAX_SALES_O_POS']) * 1 * data['SCM_AS_ID']\n",
    "data['LEAD_AS_ID'] = data['IS_LEAD_AS'].groupby(data['SCM_N_ORDER_NR']).transform('max')"
   ]
  },
  {
   "cell_type": "code",
   "execution_count": 35,
   "metadata": {
    "ExecuteTime": {
     "end_time": "2018-11-23T14:31:13.992626Z",
     "start_time": "2018-11-23T14:31:10.822626Z"
    },
    "hidden": true
   },
   "outputs": [],
   "source": [
    "data['D28'] = data['FIRST_O_DATE'] + timedelta(days = 28)\n",
    "data['D56'] = data['FIRST_O_DATE'] + timedelta(days = 56)\n",
    "data['D84'] = data['FIRST_O_DATE'] + timedelta(days = 84)\n",
    "data['D168'] = data['FIRST_O_DATE'] + timedelta(days = 168)\n",
    "data['D252'] = data['FIRST_O_DATE'] + timedelta(days = 252)\n",
    "data['D336'] = data['FIRST_O_DATE'] + timedelta(days = 336)"
   ]
  },
  {
   "cell_type": "code",
   "execution_count": 36,
   "metadata": {
    "ExecuteTime": {
     "end_time": "2018-11-23T14:32:29.357626Z",
     "start_time": "2018-11-23T14:32:29.333626Z"
    },
    "hidden": true
   },
   "outputs": [],
   "source": [
    "#Get brands per PG4\n",
    "brands = pd.read_csv('pg4_brands.dsv', sep=';', low_memory=False)"
   ]
  },
  {
   "cell_type": "code",
   "execution_count": 37,
   "metadata": {
    "ExecuteTime": {
     "end_time": "2018-11-23T14:32:31.806626Z",
     "start_time": "2018-11-23T14:32:31.801626Z"
    },
    "hidden": true
   },
   "outputs": [],
   "source": [
    "brands['BRAND'] = [i.split(' - ')[1] if len(i.split('-')) > 1 else 'unknown' for i in brands['PPR_V_LEVEL4_DESC'].values]"
   ]
  },
  {
   "cell_type": "code",
   "execution_count": 38,
   "metadata": {
    "ExecuteTime": {
     "end_time": "2018-11-23T14:32:35.362626Z",
     "start_time": "2018-11-23T14:32:35.346626Z"
    },
    "hidden": true
   },
   "outputs": [
    {
     "name": "stdout",
     "output_type": "stream",
     "text": [
      "<class 'pandas.core.frame.DataFrame'>\n",
      "RangeIndex: 2006 entries, 0 to 2005\n",
      "Data columns (total 3 columns):\n",
      "PPR_N_LEVEL4_ID      2006 non-null int64\n",
      "PPR_V_LEVEL4_DESC    2006 non-null object\n",
      "BRAND                2006 non-null object\n",
      "dtypes: int64(1), object(2)\n",
      "memory usage: 47.1+ KB\n"
     ]
    }
   ],
   "source": [
    "brands.info()"
   ]
  },
  {
   "cell_type": "code",
   "execution_count": 39,
   "metadata": {
    "ExecuteTime": {
     "end_time": "2018-11-23T14:32:37.778626Z",
     "start_time": "2018-11-23T14:32:37.768626Z"
    },
    "hidden": true
   },
   "outputs": [
    {
     "data": {
      "text/html": [
       "<div>\n",
       "<style scoped>\n",
       "    .dataframe tbody tr th:only-of-type {\n",
       "        vertical-align: middle;\n",
       "    }\n",
       "\n",
       "    .dataframe tbody tr th {\n",
       "        vertical-align: top;\n",
       "    }\n",
       "\n",
       "    .dataframe thead th {\n",
       "        text-align: right;\n",
       "    }\n",
       "</style>\n",
       "<table border=\"1\" class=\"dataframe\">\n",
       "  <thead>\n",
       "    <tr style=\"text-align: right;\">\n",
       "      <th></th>\n",
       "      <th>PPR_N_LEVEL4_ID</th>\n",
       "      <th>PPR_V_LEVEL4_DESC</th>\n",
       "      <th>BRAND</th>\n",
       "    </tr>\n",
       "  </thead>\n",
       "  <tbody>\n",
       "    <tr>\n",
       "      <th>455</th>\n",
       "      <td>83300</td>\n",
       "      <td>83300 - Orijen</td>\n",
       "      <td>Orijen</td>\n",
       "    </tr>\n",
       "    <tr>\n",
       "      <th>392</th>\n",
       "      <td>71036</td>\n",
       "      <td>71036 - Hufschutz</td>\n",
       "      <td>Hufschutz</td>\n",
       "    </tr>\n",
       "    <tr>\n",
       "      <th>1710</th>\n",
       "      <td>257388</td>\n",
       "      <td>257388 - Shampoo &amp; Duschgel</td>\n",
       "      <td>Shampoo &amp; Duschgel</td>\n",
       "    </tr>\n",
       "    <tr>\n",
       "      <th>980</th>\n",
       "      <td>225917</td>\n",
       "      <td>225917 - Alpha Spirit</td>\n",
       "      <td>Alpha Spirit</td>\n",
       "    </tr>\n",
       "    <tr>\n",
       "      <th>1943</th>\n",
       "      <td>72013</td>\n",
       "      <td>72013 - mit Milch &amp; Käse</td>\n",
       "      <td>mit Milch &amp; Käse</td>\n",
       "    </tr>\n",
       "    <tr>\n",
       "      <th>1886</th>\n",
       "      <td>65150</td>\n",
       "      <td>65150 - Gebisslose Zäumung</td>\n",
       "      <td>Gebisslose Zäumung</td>\n",
       "    </tr>\n",
       "    <tr>\n",
       "      <th>1110</th>\n",
       "      <td>525</td>\n",
       "      <td>525 - Durchlüfter/-ersatzteile</td>\n",
       "      <td>Durchlüfter/-ersatzteile</td>\n",
       "    </tr>\n",
       "    <tr>\n",
       "      <th>1546</th>\n",
       "      <td>1161</td>\n",
       "      <td>1161 - Aktionen Vogel</td>\n",
       "      <td>Aktionen Vogel</td>\n",
       "    </tr>\n",
       "    <tr>\n",
       "      <th>215</th>\n",
       "      <td>243929</td>\n",
       "      <td>243929 - Monge</td>\n",
       "      <td>Monge</td>\n",
       "    </tr>\n",
       "    <tr>\n",
       "      <th>144</th>\n",
       "      <td>15887</td>\n",
       "      <td>15887 - Marstall</td>\n",
       "      <td>Marstall</td>\n",
       "    </tr>\n",
       "  </tbody>\n",
       "</table>\n",
       "</div>"
      ],
      "text/plain": [
       "      PPR_N_LEVEL4_ID               PPR_V_LEVEL4_DESC  \\\n",
       "455             83300                  83300 - Orijen   \n",
       "392             71036               71036 - Hufschutz   \n",
       "1710           257388     257388 - Shampoo & Duschgel   \n",
       "980            225917           225917 - Alpha Spirit   \n",
       "1943            72013        72013 - mit Milch & Käse   \n",
       "1886            65150      65150 - Gebisslose Zäumung   \n",
       "1110              525  525 - Durchlüfter/-ersatzteile   \n",
       "1546             1161           1161 - Aktionen Vogel   \n",
       "215            243929                  243929 - Monge   \n",
       "144             15887                15887 - Marstall   \n",
       "\n",
       "                         BRAND  \n",
       "455                     Orijen  \n",
       "392                  Hufschutz  \n",
       "1710        Shampoo & Duschgel  \n",
       "980               Alpha Spirit  \n",
       "1943          mit Milch & Käse  \n",
       "1886        Gebisslose Zäumung  \n",
       "1110  Durchlüfter/-ersatzteile  \n",
       "1546            Aktionen Vogel  \n",
       "215                      Monge  \n",
       "144                   Marstall  "
      ]
     },
     "execution_count": 39,
     "metadata": {},
     "output_type": "execute_result"
    }
   ],
   "source": [
    "brands.sample(10)"
   ]
  },
  {
   "cell_type": "code",
   "execution_count": 40,
   "metadata": {
    "ExecuteTime": {
     "end_time": "2018-11-23T14:32:40.357626Z",
     "start_time": "2018-11-23T14:32:40.280626Z"
    },
    "hidden": true
   },
   "outputs": [],
   "source": [
    "#Get physical articles with their PG structure\n",
    "ap_pg = pd.read_csv('vw_ap_pg_link.dsv', sep=';', low_memory=False)"
   ]
  },
  {
   "cell_type": "code",
   "execution_count": 41,
   "metadata": {
    "ExecuteTime": {
     "end_time": "2018-11-23T14:32:42.745626Z",
     "start_time": "2018-11-23T14:32:42.729626Z"
    },
    "hidden": true
   },
   "outputs": [
    {
     "name": "stdout",
     "output_type": "stream",
     "text": [
      "<class 'pandas.core.frame.DataFrame'>\n",
      "RangeIndex: 62994 entries, 0 to 62993\n",
      "Data columns (total 9 columns):\n",
      "AP_ID       62994 non-null int64\n",
      "PP_ID       62994 non-null int64\n",
      "L1_PG_ID    62994 non-null int64\n",
      "L2_PG_ID    62993 non-null float64\n",
      "L3_PG_ID    62537 non-null float64\n",
      "L4_PG_ID    60229 non-null float64\n",
      "L5_PG_ID    29125 non-null float64\n",
      "L6_PG_ID    18 non-null float64\n",
      "L7_PG_ID    0 non-null float64\n",
      "dtypes: float64(6), int64(3)\n",
      "memory usage: 4.3 MB\n"
     ]
    }
   ],
   "source": [
    "ap_pg.info()"
   ]
  },
  {
   "cell_type": "code",
   "execution_count": 42,
   "metadata": {
    "ExecuteTime": {
     "end_time": "2018-11-23T14:32:44.932626Z",
     "start_time": "2018-11-23T14:32:44.926626Z"
    },
    "hidden": true
   },
   "outputs": [],
   "source": [
    "ap_pg = ap_pg[['AP_ID', 'L3_PG_ID', 'L4_PG_ID']].fillna(0).astype(int)"
   ]
  },
  {
   "cell_type": "code",
   "execution_count": 43,
   "metadata": {
    "ExecuteTime": {
     "end_time": "2018-11-23T14:32:51.311626Z",
     "start_time": "2018-11-23T14:32:51.294626Z"
    },
    "hidden": true
   },
   "outputs": [
    {
     "data": {
      "text/html": [
       "<div>\n",
       "<style scoped>\n",
       "    .dataframe tbody tr th:only-of-type {\n",
       "        vertical-align: middle;\n",
       "    }\n",
       "\n",
       "    .dataframe tbody tr th {\n",
       "        vertical-align: top;\n",
       "    }\n",
       "\n",
       "    .dataframe thead th {\n",
       "        text-align: right;\n",
       "    }\n",
       "</style>\n",
       "<table border=\"1\" class=\"dataframe\">\n",
       "  <thead>\n",
       "    <tr style=\"text-align: right;\">\n",
       "      <th></th>\n",
       "      <th>AP_ID</th>\n",
       "      <th>L3_PG_ID</th>\n",
       "      <th>L4_PG_ID</th>\n",
       "    </tr>\n",
       "  </thead>\n",
       "  <tbody>\n",
       "    <tr>\n",
       "      <th>59673</th>\n",
       "      <td>65062</td>\n",
       "      <td>20</td>\n",
       "      <td>108</td>\n",
       "    </tr>\n",
       "    <tr>\n",
       "      <th>3082</th>\n",
       "      <td>24227</td>\n",
       "      <td>18</td>\n",
       "      <td>16330</td>\n",
       "    </tr>\n",
       "    <tr>\n",
       "      <th>26436</th>\n",
       "      <td>21017</td>\n",
       "      <td>68</td>\n",
       "      <td>1657</td>\n",
       "    </tr>\n",
       "    <tr>\n",
       "      <th>4393</th>\n",
       "      <td>41914</td>\n",
       "      <td>48652</td>\n",
       "      <td>0</td>\n",
       "    </tr>\n",
       "    <tr>\n",
       "      <th>59952</th>\n",
       "      <td>62196</td>\n",
       "      <td>9788</td>\n",
       "      <td>9789</td>\n",
       "    </tr>\n",
       "    <tr>\n",
       "      <th>59868</th>\n",
       "      <td>48595</td>\n",
       "      <td>23</td>\n",
       "      <td>2060</td>\n",
       "    </tr>\n",
       "    <tr>\n",
       "      <th>4962</th>\n",
       "      <td>65429</td>\n",
       "      <td>1540</td>\n",
       "      <td>1555</td>\n",
       "    </tr>\n",
       "    <tr>\n",
       "      <th>43406</th>\n",
       "      <td>33629</td>\n",
       "      <td>252</td>\n",
       "      <td>1520</td>\n",
       "    </tr>\n",
       "    <tr>\n",
       "      <th>37534</th>\n",
       "      <td>74716</td>\n",
       "      <td>34</td>\n",
       "      <td>1559</td>\n",
       "    </tr>\n",
       "    <tr>\n",
       "      <th>25271</th>\n",
       "      <td>12318</td>\n",
       "      <td>251</td>\n",
       "      <td>719</td>\n",
       "    </tr>\n",
       "  </tbody>\n",
       "</table>\n",
       "</div>"
      ],
      "text/plain": [
       "       AP_ID  L3_PG_ID  L4_PG_ID\n",
       "59673  65062        20       108\n",
       "3082   24227        18     16330\n",
       "26436  21017        68      1657\n",
       "4393   41914     48652         0\n",
       "59952  62196      9788      9789\n",
       "59868  48595        23      2060\n",
       "4962   65429      1540      1555\n",
       "43406  33629       252      1520\n",
       "37534  74716        34      1559\n",
       "25271  12318       251       719"
      ]
     },
     "execution_count": 43,
     "metadata": {},
     "output_type": "execute_result"
    }
   ],
   "source": [
    "ap_pg.sample(10)"
   ]
  },
  {
   "cell_type": "code",
   "execution_count": 44,
   "metadata": {
    "ExecuteTime": {
     "end_time": "2018-11-23T14:32:57.402626Z",
     "start_time": "2018-11-23T14:32:57.366626Z"
    },
    "hidden": true
   },
   "outputs": [],
   "source": [
    "#Merge both tables to add the brand for each AP_ID\n",
    "ap_pg_brand = pd.merge(ap_pg, brands, how='left', left_on='L4_PG_ID', right_on='PPR_N_LEVEL4_ID')"
   ]
  },
  {
   "cell_type": "code",
   "execution_count": 45,
   "metadata": {
    "ExecuteTime": {
     "end_time": "2018-11-23T14:32:59.847626Z",
     "start_time": "2018-11-23T14:32:59.832626Z"
    },
    "hidden": true
   },
   "outputs": [
    {
     "data": {
      "text/html": [
       "<div>\n",
       "<style scoped>\n",
       "    .dataframe tbody tr th:only-of-type {\n",
       "        vertical-align: middle;\n",
       "    }\n",
       "\n",
       "    .dataframe tbody tr th {\n",
       "        vertical-align: top;\n",
       "    }\n",
       "\n",
       "    .dataframe thead th {\n",
       "        text-align: right;\n",
       "    }\n",
       "</style>\n",
       "<table border=\"1\" class=\"dataframe\">\n",
       "  <thead>\n",
       "    <tr style=\"text-align: right;\">\n",
       "      <th></th>\n",
       "      <th>AP_ID</th>\n",
       "      <th>L3_PG_ID</th>\n",
       "      <th>L4_PG_ID</th>\n",
       "      <th>PPR_N_LEVEL4_ID</th>\n",
       "      <th>PPR_V_LEVEL4_DESC</th>\n",
       "      <th>BRAND</th>\n",
       "    </tr>\n",
       "  </thead>\n",
       "  <tbody>\n",
       "    <tr>\n",
       "      <th>48713</th>\n",
       "      <td>11159</td>\n",
       "      <td>820</td>\n",
       "      <td>823</td>\n",
       "      <td>823</td>\n",
       "      <td>823 - JBL</td>\n",
       "      <td>JBL</td>\n",
       "    </tr>\n",
       "    <tr>\n",
       "      <th>22875</th>\n",
       "      <td>82549</td>\n",
       "      <td>251</td>\n",
       "      <td>128993</td>\n",
       "      <td>128993</td>\n",
       "      <td>128993 - Advance Veterinary Diets</td>\n",
       "      <td>Advance Veterinary Diets</td>\n",
       "    </tr>\n",
       "    <tr>\n",
       "      <th>19680</th>\n",
       "      <td>33326</td>\n",
       "      <td>23</td>\n",
       "      <td>1546</td>\n",
       "      <td>1546</td>\n",
       "      <td>1546 - aus Echt- &amp; Vollholz</td>\n",
       "      <td>aus Echt- &amp; Vollholz</td>\n",
       "    </tr>\n",
       "    <tr>\n",
       "      <th>19750</th>\n",
       "      <td>35652</td>\n",
       "      <td>65</td>\n",
       "      <td>4896</td>\n",
       "      <td>4896</td>\n",
       "      <td>4896 - DENNERLE Pflanzen</td>\n",
       "      <td>DENNERLE Pflanzen</td>\n",
       "    </tr>\n",
       "    <tr>\n",
       "      <th>25898</th>\n",
       "      <td>16961</td>\n",
       "      <td>3156</td>\n",
       "      <td>0</td>\n",
       "      <td>0</td>\n",
       "      <td>*NOT DEFINED</td>\n",
       "      <td>unknown</td>\n",
       "    </tr>\n",
       "    <tr>\n",
       "      <th>33389</th>\n",
       "      <td>13675</td>\n",
       "      <td>221</td>\n",
       "      <td>54</td>\n",
       "      <td>54</td>\n",
       "      <td>54 - Wellensittichfutter</td>\n",
       "      <td>Wellensittichfutter</td>\n",
       "    </tr>\n",
       "    <tr>\n",
       "      <th>56517</th>\n",
       "      <td>10511</td>\n",
       "      <td>29</td>\n",
       "      <td>128</td>\n",
       "      <td>128</td>\n",
       "      <td>128 - Haubentoiletten</td>\n",
       "      <td>Haubentoiletten</td>\n",
       "    </tr>\n",
       "    <tr>\n",
       "      <th>53067</th>\n",
       "      <td>50907</td>\n",
       "      <td>1540</td>\n",
       "      <td>1555</td>\n",
       "      <td>1555</td>\n",
       "      <td>1555 - Katzenhöhlen</td>\n",
       "      <td>Katzenhöhlen</td>\n",
       "    </tr>\n",
       "    <tr>\n",
       "      <th>4146</th>\n",
       "      <td>37892</td>\n",
       "      <td>1603</td>\n",
       "      <td>20749</td>\n",
       "      <td>20749</td>\n",
       "      <td>20749 - Kunststoffspielzeug</td>\n",
       "      <td>Kunststoffspielzeug</td>\n",
       "    </tr>\n",
       "    <tr>\n",
       "      <th>54748</th>\n",
       "      <td>76081</td>\n",
       "      <td>18</td>\n",
       "      <td>201276</td>\n",
       "      <td>201276</td>\n",
       "      <td>201276 - Alle Hundesnacks</td>\n",
       "      <td>Alle Hundesnacks</td>\n",
       "    </tr>\n",
       "    <tr>\n",
       "      <th>45703</th>\n",
       "      <td>82503</td>\n",
       "      <td>257336</td>\n",
       "      <td>257390</td>\n",
       "      <td>257390</td>\n",
       "      <td>257390 - Baby-Windeln</td>\n",
       "      <td>Baby-Windeln</td>\n",
       "    </tr>\n",
       "    <tr>\n",
       "      <th>9626</th>\n",
       "      <td>13466</td>\n",
       "      <td>33</td>\n",
       "      <td>498</td>\n",
       "      <td>498</td>\n",
       "      <td>498 - Napfunterlagen</td>\n",
       "      <td>Napfunterlagen</td>\n",
       "    </tr>\n",
       "    <tr>\n",
       "      <th>30683</th>\n",
       "      <td>78904</td>\n",
       "      <td>857</td>\n",
       "      <td>860</td>\n",
       "      <td>860</td>\n",
       "      <td>860 - Cesar</td>\n",
       "      <td>Cesar</td>\n",
       "    </tr>\n",
       "    <tr>\n",
       "      <th>6347</th>\n",
       "      <td>82201</td>\n",
       "      <td>857</td>\n",
       "      <td>6530</td>\n",
       "      <td>6530</td>\n",
       "      <td>6530 - ★ Rocco</td>\n",
       "      <td>★ Rocco</td>\n",
       "    </tr>\n",
       "    <tr>\n",
       "      <th>56558</th>\n",
       "      <td>10822</td>\n",
       "      <td>9</td>\n",
       "      <td>74</td>\n",
       "      <td>74</td>\n",
       "      <td>74 - Hundedecken</td>\n",
       "      <td>Hundedecken</td>\n",
       "    </tr>\n",
       "    <tr>\n",
       "      <th>29462</th>\n",
       "      <td>68565</td>\n",
       "      <td>2068</td>\n",
       "      <td>55540</td>\n",
       "      <td>55540</td>\n",
       "      <td>55540 - Almo Nature Labels</td>\n",
       "      <td>Almo Nature Labels</td>\n",
       "    </tr>\n",
       "    <tr>\n",
       "      <th>54855</th>\n",
       "      <td>81177</td>\n",
       "      <td>2068</td>\n",
       "      <td>2632</td>\n",
       "      <td>2632</td>\n",
       "      <td>2632 - ★ Cosma</td>\n",
       "      <td>★ Cosma</td>\n",
       "    </tr>\n",
       "    <tr>\n",
       "      <th>15521</th>\n",
       "      <td>81199</td>\n",
       "      <td>257336</td>\n",
       "      <td>257387</td>\n",
       "      <td>257387</td>\n",
       "      <td>257387 - Zahn- &amp; Mundpflege</td>\n",
       "      <td>Zahn- &amp; Mundpflege</td>\n",
       "    </tr>\n",
       "    <tr>\n",
       "      <th>13127</th>\n",
       "      <td>68794</td>\n",
       "      <td>2068</td>\n",
       "      <td>17963</td>\n",
       "      <td>17963</td>\n",
       "      <td>17963 - Royal Canin</td>\n",
       "      <td>Royal Canin</td>\n",
       "    </tr>\n",
       "    <tr>\n",
       "      <th>2293</th>\n",
       "      <td>17941</td>\n",
       "      <td>1346</td>\n",
       "      <td>1356</td>\n",
       "      <td>1356</td>\n",
       "      <td>1356 - Sauerstoffversorgung</td>\n",
       "      <td>Sauerstoffversorgung</td>\n",
       "    </tr>\n",
       "  </tbody>\n",
       "</table>\n",
       "</div>"
      ],
      "text/plain": [
       "       AP_ID  L3_PG_ID  L4_PG_ID  PPR_N_LEVEL4_ID  \\\n",
       "48713  11159       820       823              823   \n",
       "22875  82549       251    128993           128993   \n",
       "19680  33326        23      1546             1546   \n",
       "19750  35652        65      4896             4896   \n",
       "25898  16961      3156         0                0   \n",
       "33389  13675       221        54               54   \n",
       "56517  10511        29       128              128   \n",
       "53067  50907      1540      1555             1555   \n",
       "4146   37892      1603     20749            20749   \n",
       "54748  76081        18    201276           201276   \n",
       "45703  82503    257336    257390           257390   \n",
       "9626   13466        33       498              498   \n",
       "30683  78904       857       860              860   \n",
       "6347   82201       857      6530             6530   \n",
       "56558  10822         9        74               74   \n",
       "29462  68565      2068     55540            55540   \n",
       "54855  81177      2068      2632             2632   \n",
       "15521  81199    257336    257387           257387   \n",
       "13127  68794      2068     17963            17963   \n",
       "2293   17941      1346      1356             1356   \n",
       "\n",
       "                       PPR_V_LEVEL4_DESC                     BRAND  \n",
       "48713                          823 - JBL                       JBL  \n",
       "22875  128993 - Advance Veterinary Diets  Advance Veterinary Diets  \n",
       "19680        1546 - aus Echt- & Vollholz      aus Echt- & Vollholz  \n",
       "19750           4896 - DENNERLE Pflanzen         DENNERLE Pflanzen  \n",
       "25898                       *NOT DEFINED                   unknown  \n",
       "33389           54 - Wellensittichfutter       Wellensittichfutter  \n",
       "56517              128 - Haubentoiletten           Haubentoiletten  \n",
       "53067                1555 - Katzenhöhlen              Katzenhöhlen  \n",
       "4146         20749 - Kunststoffspielzeug       Kunststoffspielzeug  \n",
       "54748          201276 - Alle Hundesnacks          Alle Hundesnacks  \n",
       "45703              257390 - Baby-Windeln              Baby-Windeln  \n",
       "9626                498 - Napfunterlagen            Napfunterlagen  \n",
       "30683                        860 - Cesar                     Cesar  \n",
       "6347                      6530 - ★ Rocco                   ★ Rocco  \n",
       "56558                   74 - Hundedecken               Hundedecken  \n",
       "29462         55540 - Almo Nature Labels        Almo Nature Labels  \n",
       "54855                     2632 - ★ Cosma                   ★ Cosma  \n",
       "15521        257387 - Zahn- & Mundpflege        Zahn- & Mundpflege  \n",
       "13127                17963 - Royal Canin               Royal Canin  \n",
       "2293         1356 - Sauerstoffversorgung      Sauerstoffversorgung  "
      ]
     },
     "execution_count": 45,
     "metadata": {},
     "output_type": "execute_result"
    }
   ],
   "source": [
    "ap_pg_brand.sample(20)"
   ]
  },
  {
   "cell_type": "code",
   "execution_count": 46,
   "metadata": {
    "ExecuteTime": {
     "end_time": "2018-11-23T14:33:05.949626Z",
     "start_time": "2018-11-23T14:33:03.753626Z"
    },
    "hidden": true
   },
   "outputs": [],
   "source": [
    "data = pd.merge(data, ap_pg_brand, how='left', left_on='SCM_AP_ID', right_on='AP_ID')"
   ]
  },
  {
   "cell_type": "code",
   "execution_count": 47,
   "metadata": {
    "ExecuteTime": {
     "end_time": "2018-11-23T14:33:10.201626Z",
     "start_time": "2018-11-23T14:33:08.315626Z"
    },
    "hidden": true
   },
   "outputs": [],
   "source": [
    "data[['AP_ID', 'L3_PG_ID', 'L4_PG_ID', 'PPR_N_LEVEL4_ID']] = data[['AP_ID', 'L3_PG_ID', 'L4_PG_ID', 'PPR_N_LEVEL4_ID']].fillna(0).astype(int)"
   ]
  },
  {
   "cell_type": "code",
   "execution_count": 48,
   "metadata": {
    "ExecuteTime": {
     "end_time": "2018-11-23T14:33:12.211626Z",
     "start_time": "2018-11-23T14:33:12.024626Z"
    },
    "hidden": true
   },
   "outputs": [
    {
     "data": {
      "text/html": [
       "<div>\n",
       "<style scoped>\n",
       "    .dataframe tbody tr th:only-of-type {\n",
       "        vertical-align: middle;\n",
       "    }\n",
       "\n",
       "    .dataframe tbody tr th {\n",
       "        vertical-align: top;\n",
       "    }\n",
       "\n",
       "    .dataframe thead th {\n",
       "        text-align: right;\n",
       "    }\n",
       "</style>\n",
       "<table border=\"1\" class=\"dataframe\">\n",
       "  <thead>\n",
       "    <tr style=\"text-align: right;\">\n",
       "      <th></th>\n",
       "      <th>SCM_N_ORDER_POS_NR</th>\n",
       "      <th>SCM_N_ORDER_NR</th>\n",
       "      <th>TDT_T_KEY_ORDER_DATE</th>\n",
       "      <th>THR_C_KEY_ORDER_HOUR</th>\n",
       "      <th>SIT_N_KEY_SITE</th>\n",
       "      <th>CUS_N_KEY_CUSTOMER</th>\n",
       "      <th>SCM_SALES_BMF</th>\n",
       "      <th>SCM_D_FINANCE_CM1</th>\n",
       "      <th>SCM_D_FINANCE_CM2</th>\n",
       "      <th>SCM_D_ORIG_FINANCE_ORDER_NET</th>\n",
       "      <th>...</th>\n",
       "      <th>D84</th>\n",
       "      <th>D168</th>\n",
       "      <th>D252</th>\n",
       "      <th>D336</th>\n",
       "      <th>AP_ID</th>\n",
       "      <th>L3_PG_ID</th>\n",
       "      <th>L4_PG_ID</th>\n",
       "      <th>PPR_N_LEVEL4_ID</th>\n",
       "      <th>PPR_V_LEVEL4_DESC</th>\n",
       "      <th>BRAND</th>\n",
       "    </tr>\n",
       "  </thead>\n",
       "  <tbody>\n",
       "    <tr>\n",
       "      <th>1181561</th>\n",
       "      <td>343106047</td>\n",
       "      <td>80646990</td>\n",
       "      <td>2017-01-11</td>\n",
       "      <td>11:32</td>\n",
       "      <td>7</td>\n",
       "      <td>12015131</td>\n",
       "      <td>7.99</td>\n",
       "      <td>2.3133</td>\n",
       "      <td>1.6988</td>\n",
       "      <td>6.6033</td>\n",
       "      <td>...</td>\n",
       "      <td>2015-10-07</td>\n",
       "      <td>2015-12-30</td>\n",
       "      <td>2016-03-23</td>\n",
       "      <td>2016-06-15</td>\n",
       "      <td>63098</td>\n",
       "      <td>18</td>\n",
       "      <td>101</td>\n",
       "      <td>101</td>\n",
       "      <td>101 - Kauknochen &amp; Kaurollen</td>\n",
       "      <td>Kauknochen &amp; Kaurollen</td>\n",
       "    </tr>\n",
       "    <tr>\n",
       "      <th>1518807</th>\n",
       "      <td>393865989</td>\n",
       "      <td>92245748</td>\n",
       "      <td>2017-08-09</td>\n",
       "      <td>12:45</td>\n",
       "      <td>7</td>\n",
       "      <td>12138696</td>\n",
       "      <td>1.99</td>\n",
       "      <td>1.2446</td>\n",
       "      <td>-3.2747</td>\n",
       "      <td>1.6446</td>\n",
       "      <td>...</td>\n",
       "      <td>2015-10-27</td>\n",
       "      <td>2016-01-19</td>\n",
       "      <td>2016-04-12</td>\n",
       "      <td>2016-07-05</td>\n",
       "      <td>17488</td>\n",
       "      <td>29</td>\n",
       "      <td>118</td>\n",
       "      <td>118</td>\n",
       "      <td>118 - Bürsten &amp; Kämme</td>\n",
       "      <td>Bürsten &amp; Kämme</td>\n",
       "    </tr>\n",
       "    <tr>\n",
       "      <th>2846744</th>\n",
       "      <td>286710168</td>\n",
       "      <td>67747848</td>\n",
       "      <td>2016-04-24</td>\n",
       "      <td>13:11</td>\n",
       "      <td>7</td>\n",
       "      <td>13036454</td>\n",
       "      <td>17.98</td>\n",
       "      <td>6.6995</td>\n",
       "      <td>2.0111</td>\n",
       "      <td>14.8595</td>\n",
       "      <td>...</td>\n",
       "      <td>2016-03-06</td>\n",
       "      <td>2016-05-29</td>\n",
       "      <td>2016-08-21</td>\n",
       "      <td>2016-11-13</td>\n",
       "      <td>6597</td>\n",
       "      <td>301</td>\n",
       "      <td>304</td>\n",
       "      <td>304</td>\n",
       "      <td>304 - Cat's Best</td>\n",
       "      <td>Cat's Best</td>\n",
       "    </tr>\n",
       "    <tr>\n",
       "      <th>1679739</th>\n",
       "      <td>425237701</td>\n",
       "      <td>99689601</td>\n",
       "      <td>2017-12-03</td>\n",
       "      <td>13:28</td>\n",
       "      <td>7</td>\n",
       "      <td>14161938</td>\n",
       "      <td>35.98</td>\n",
       "      <td>7.6555</td>\n",
       "      <td>3.0389</td>\n",
       "      <td>29.7355</td>\n",
       "      <td>...</td>\n",
       "      <td>2016-08-01</td>\n",
       "      <td>2016-10-24</td>\n",
       "      <td>2017-01-16</td>\n",
       "      <td>2017-04-10</td>\n",
       "      <td>61268</td>\n",
       "      <td>2068</td>\n",
       "      <td>17963</td>\n",
       "      <td>17963</td>\n",
       "      <td>17963 - Royal Canin</td>\n",
       "      <td>Royal Canin</td>\n",
       "    </tr>\n",
       "    <tr>\n",
       "      <th>2903175</th>\n",
       "      <td>289615766</td>\n",
       "      <td>68421290</td>\n",
       "      <td>2016-05-09</td>\n",
       "      <td>00:47</td>\n",
       "      <td>7</td>\n",
       "      <td>14111701</td>\n",
       "      <td>51.99</td>\n",
       "      <td>7.8469</td>\n",
       "      <td>3.1442</td>\n",
       "      <td>42.9669</td>\n",
       "      <td>...</td>\n",
       "      <td>2016-07-25</td>\n",
       "      <td>2016-10-17</td>\n",
       "      <td>2017-01-09</td>\n",
       "      <td>2017-04-03</td>\n",
       "      <td>61312</td>\n",
       "      <td>252</td>\n",
       "      <td>261925</td>\n",
       "      <td>261925</td>\n",
       "      <td>261925 - Royal Canin Rasse (Breed)</td>\n",
       "      <td>Royal Canin Rasse (Breed)</td>\n",
       "    </tr>\n",
       "    <tr>\n",
       "      <th>2983503</th>\n",
       "      <td>377294938</td>\n",
       "      <td>88441597</td>\n",
       "      <td>2017-06-05</td>\n",
       "      <td>11:53</td>\n",
       "      <td>7</td>\n",
       "      <td>13354296</td>\n",
       "      <td>16.99</td>\n",
       "      <td>5.3013</td>\n",
       "      <td>4.2226</td>\n",
       "      <td>14.0413</td>\n",
       "      <td>...</td>\n",
       "      <td>2016-04-17</td>\n",
       "      <td>2016-07-10</td>\n",
       "      <td>2016-10-02</td>\n",
       "      <td>2016-12-25</td>\n",
       "      <td>26664</td>\n",
       "      <td>252</td>\n",
       "      <td>23302</td>\n",
       "      <td>23302</td>\n",
       "      <td>23302 - Applaws</td>\n",
       "      <td>Applaws</td>\n",
       "    </tr>\n",
       "    <tr>\n",
       "      <th>2415739</th>\n",
       "      <td>367317462</td>\n",
       "      <td>86137549</td>\n",
       "      <td>2017-04-24</td>\n",
       "      <td>09:27</td>\n",
       "      <td>7</td>\n",
       "      <td>14210644</td>\n",
       "      <td>-2.46</td>\n",
       "      <td>-2.0331</td>\n",
       "      <td>-2.0331</td>\n",
       "      <td>-2.0331</td>\n",
       "      <td>...</td>\n",
       "      <td>2016-08-07</td>\n",
       "      <td>2016-10-30</td>\n",
       "      <td>2017-01-22</td>\n",
       "      <td>2017-04-16</td>\n",
       "      <td>0</td>\n",
       "      <td>0</td>\n",
       "      <td>0</td>\n",
       "      <td>0</td>\n",
       "      <td>NaN</td>\n",
       "      <td>NaN</td>\n",
       "    </tr>\n",
       "    <tr>\n",
       "      <th>2387994</th>\n",
       "      <td>263198200</td>\n",
       "      <td>62276704</td>\n",
       "      <td>2015-12-23</td>\n",
       "      <td>18:36</td>\n",
       "      <td>7</td>\n",
       "      <td>12242958</td>\n",
       "      <td>5.99</td>\n",
       "      <td>1.9304</td>\n",
       "      <td>1.4553</td>\n",
       "      <td>4.9504</td>\n",
       "      <td>...</td>\n",
       "      <td>2015-11-14</td>\n",
       "      <td>2016-02-06</td>\n",
       "      <td>2016-04-30</td>\n",
       "      <td>2016-07-23</td>\n",
       "      <td>53903</td>\n",
       "      <td>20</td>\n",
       "      <td>465</td>\n",
       "      <td>465</td>\n",
       "      <td>465 - KONG</td>\n",
       "      <td>KONG</td>\n",
       "    </tr>\n",
       "    <tr>\n",
       "      <th>3091804</th>\n",
       "      <td>353041088</td>\n",
       "      <td>82921225</td>\n",
       "      <td>2017-02-22</td>\n",
       "      <td>18:26</td>\n",
       "      <td>7</td>\n",
       "      <td>13482681</td>\n",
       "      <td>0.00</td>\n",
       "      <td>0.0000</td>\n",
       "      <td>0.0000</td>\n",
       "      <td>0.0000</td>\n",
       "      <td>...</td>\n",
       "      <td>2016-05-03</td>\n",
       "      <td>2016-07-26</td>\n",
       "      <td>2016-10-18</td>\n",
       "      <td>2017-01-10</td>\n",
       "      <td>0</td>\n",
       "      <td>0</td>\n",
       "      <td>0</td>\n",
       "      <td>0</td>\n",
       "      <td>NaN</td>\n",
       "      <td>NaN</td>\n",
       "    </tr>\n",
       "    <tr>\n",
       "      <th>2711040</th>\n",
       "      <td>419004093</td>\n",
       "      <td>98229749</td>\n",
       "      <td>2017-11-12</td>\n",
       "      <td>17:48</td>\n",
       "      <td>7</td>\n",
       "      <td>12666065</td>\n",
       "      <td>-13.00</td>\n",
       "      <td>-10.7438</td>\n",
       "      <td>-10.7438</td>\n",
       "      <td>-10.7438</td>\n",
       "      <td>...</td>\n",
       "      <td>2016-01-26</td>\n",
       "      <td>2016-04-19</td>\n",
       "      <td>2016-07-12</td>\n",
       "      <td>2016-10-04</td>\n",
       "      <td>0</td>\n",
       "      <td>0</td>\n",
       "      <td>0</td>\n",
       "      <td>0</td>\n",
       "      <td>NaN</td>\n",
       "      <td>NaN</td>\n",
       "    </tr>\n",
       "  </tbody>\n",
       "</table>\n",
       "<p>10 rows × 42 columns</p>\n",
       "</div>"
      ],
      "text/plain": [
       "         SCM_N_ORDER_POS_NR  SCM_N_ORDER_NR TDT_T_KEY_ORDER_DATE  \\\n",
       "1181561           343106047        80646990           2017-01-11   \n",
       "1518807           393865989        92245748           2017-08-09   \n",
       "2846744           286710168        67747848           2016-04-24   \n",
       "1679739           425237701        99689601           2017-12-03   \n",
       "2903175           289615766        68421290           2016-05-09   \n",
       "2983503           377294938        88441597           2017-06-05   \n",
       "2415739           367317462        86137549           2017-04-24   \n",
       "2387994           263198200        62276704           2015-12-23   \n",
       "3091804           353041088        82921225           2017-02-22   \n",
       "2711040           419004093        98229749           2017-11-12   \n",
       "\n",
       "        THR_C_KEY_ORDER_HOUR  SIT_N_KEY_SITE  CUS_N_KEY_CUSTOMER  \\\n",
       "1181561                11:32               7            12015131   \n",
       "1518807                12:45               7            12138696   \n",
       "2846744                13:11               7            13036454   \n",
       "1679739                13:28               7            14161938   \n",
       "2903175                00:47               7            14111701   \n",
       "2983503                11:53               7            13354296   \n",
       "2415739                09:27               7            14210644   \n",
       "2387994                18:36               7            12242958   \n",
       "3091804                18:26               7            13482681   \n",
       "2711040                17:48               7            12666065   \n",
       "\n",
       "         SCM_SALES_BMF  SCM_D_FINANCE_CM1  SCM_D_FINANCE_CM2  \\\n",
       "1181561           7.99             2.3133             1.6988   \n",
       "1518807           1.99             1.2446            -3.2747   \n",
       "2846744          17.98             6.6995             2.0111   \n",
       "1679739          35.98             7.6555             3.0389   \n",
       "2903175          51.99             7.8469             3.1442   \n",
       "2983503          16.99             5.3013             4.2226   \n",
       "2415739          -2.46            -2.0331            -2.0331   \n",
       "2387994           5.99             1.9304             1.4553   \n",
       "3091804           0.00             0.0000             0.0000   \n",
       "2711040         -13.00           -10.7438           -10.7438   \n",
       "\n",
       "         SCM_D_ORIG_FINANCE_ORDER_NET            ...                    D84  \\\n",
       "1181561                        6.6033            ...             2015-10-07   \n",
       "1518807                        1.6446            ...             2015-10-27   \n",
       "2846744                       14.8595            ...             2016-03-06   \n",
       "1679739                       29.7355            ...             2016-08-01   \n",
       "2903175                       42.9669            ...             2016-07-25   \n",
       "2983503                       14.0413            ...             2016-04-17   \n",
       "2415739                       -2.0331            ...             2016-08-07   \n",
       "2387994                        4.9504            ...             2015-11-14   \n",
       "3091804                        0.0000            ...             2016-05-03   \n",
       "2711040                      -10.7438            ...             2016-01-26   \n",
       "\n",
       "              D168       D252       D336  AP_ID  L3_PG_ID  L4_PG_ID  \\\n",
       "1181561 2015-12-30 2016-03-23 2016-06-15  63098        18       101   \n",
       "1518807 2016-01-19 2016-04-12 2016-07-05  17488        29       118   \n",
       "2846744 2016-05-29 2016-08-21 2016-11-13   6597       301       304   \n",
       "1679739 2016-10-24 2017-01-16 2017-04-10  61268      2068     17963   \n",
       "2903175 2016-10-17 2017-01-09 2017-04-03  61312       252    261925   \n",
       "2983503 2016-07-10 2016-10-02 2016-12-25  26664       252     23302   \n",
       "2415739 2016-10-30 2017-01-22 2017-04-16      0         0         0   \n",
       "2387994 2016-02-06 2016-04-30 2016-07-23  53903        20       465   \n",
       "3091804 2016-07-26 2016-10-18 2017-01-10      0         0         0   \n",
       "2711040 2016-04-19 2016-07-12 2016-10-04      0         0         0   \n",
       "\n",
       "         PPR_N_LEVEL4_ID                   PPR_V_LEVEL4_DESC  \\\n",
       "1181561              101        101 - Kauknochen & Kaurollen   \n",
       "1518807              118               118 - Bürsten & Kämme   \n",
       "2846744              304                    304 - Cat's Best   \n",
       "1679739            17963                 17963 - Royal Canin   \n",
       "2903175           261925  261925 - Royal Canin Rasse (Breed)   \n",
       "2983503            23302                     23302 - Applaws   \n",
       "2415739                0                                 NaN   \n",
       "2387994              465                          465 - KONG   \n",
       "3091804                0                                 NaN   \n",
       "2711040                0                                 NaN   \n",
       "\n",
       "                             BRAND  \n",
       "1181561     Kauknochen & Kaurollen  \n",
       "1518807            Bürsten & Kämme  \n",
       "2846744                 Cat's Best  \n",
       "1679739                Royal Canin  \n",
       "2903175  Royal Canin Rasse (Breed)  \n",
       "2983503                    Applaws  \n",
       "2415739                        NaN  \n",
       "2387994                       KONG  \n",
       "3091804                        NaN  \n",
       "2711040                        NaN  \n",
       "\n",
       "[10 rows x 42 columns]"
      ]
     },
     "execution_count": 48,
     "metadata": {},
     "output_type": "execute_result"
    }
   ],
   "source": [
    "data.sample(10)"
   ]
  },
  {
   "cell_type": "code",
   "execution_count": 49,
   "metadata": {
    "ExecuteTime": {
     "end_time": "2018-11-23T14:33:21.159626Z",
     "start_time": "2018-11-23T14:33:21.042626Z"
    },
    "hidden": true
   },
   "outputs": [
    {
     "data": {
      "text/plain": [
       "SCM_N_ORDER_POS_NR                           362622352\n",
       "SCM_N_ORDER_NR                                85093600\n",
       "TDT_T_KEY_ORDER_DATE               2017-04-03 00:00:00\n",
       "THR_C_KEY_ORDER_HOUR                             21:59\n",
       "SIT_N_KEY_SITE                                       7\n",
       "CUS_N_KEY_CUSTOMER                             8642630\n",
       "SCM_SALES_BMF                                        0\n",
       "SCM_D_FINANCE_CM1                                -0.76\n",
       "SCM_D_FINANCE_CM2                              -1.1033\n",
       "SCM_D_ORIG_FINANCE_ORDER_NET                         0\n",
       "SCM_AP_ID                                        23797\n",
       "SCM_AS_ID                                       464733\n",
       "SCM_MASTER_AP_ID                                 23797\n",
       "OSP_KO_COUNT_NET                                    11\n",
       "OSP_3_LEAD_P_PG_ID                                 252\n",
       "OSP_3_LEAD_P_PG_SHARE                            0.838\n",
       "OSP_4_LEAD_P_PG_ID                              261925\n",
       "OSP_4_LEAD_P_PG_SHARE                            0.838\n",
       "CZP_START_DATE                                     NaT\n",
       "CZP_EXPIRY_DATE                                    NaT\n",
       "CZP_ZTQ_ID                                         NaN\n",
       "CZP_PERCENTAGE                                     NaN\n",
       "CZP_PRICE                                          NaN\n",
       "ORDER_DATETIME                     2017-04-03 21:59:00\n",
       "FIRST_O_DATE                       2015-07-29 00:00:00\n",
       "LAST_O_DATE                        2018-06-20 00:00:00\n",
       "1ST_O_COUNTER                                        1\n",
       "MAX_SALES_O_POS                                  97.99\n",
       "IS_LEAD_AS                                           0\n",
       "LEAD_AS_ID                                     1318672\n",
       "D28                                2015-08-26 00:00:00\n",
       "D56                                2015-09-23 00:00:00\n",
       "D84                                2015-10-21 00:00:00\n",
       "D168                               2016-01-13 00:00:00\n",
       "D252                               2016-04-06 00:00:00\n",
       "D336                               2016-06-29 00:00:00\n",
       "AP_ID                                            23797\n",
       "L3_PG_ID                                           409\n",
       "L4_PG_ID                                         99055\n",
       "PPR_N_LEVEL4_ID                                  99055\n",
       "PPR_V_LEVEL4_DESC               99055 - Bürste &  Kamm\n",
       "BRAND                                   Bürste &  Kamm\n",
       "Name: 2359877, dtype: object"
      ]
     },
     "execution_count": 49,
     "metadata": {},
     "output_type": "execute_result"
    }
   ],
   "source": [
    "data.loc[2359877]"
   ]
  },
  {
   "cell_type": "code",
   "execution_count": 50,
   "metadata": {
    "ExecuteTime": {
     "end_time": "2018-11-23T14:33:51.567626Z",
     "start_time": "2018-11-23T14:33:51.559626Z"
    },
    "hidden": true
   },
   "outputs": [
    {
     "data": {
      "text/plain": [
       "Index(['SCM_N_ORDER_POS_NR', 'SCM_N_ORDER_NR', 'TDT_T_KEY_ORDER_DATE',\n",
       "       'THR_C_KEY_ORDER_HOUR', 'SIT_N_KEY_SITE', 'CUS_N_KEY_CUSTOMER',\n",
       "       'SCM_SALES_BMF', 'SCM_D_FINANCE_CM1', 'SCM_D_FINANCE_CM2',\n",
       "       'SCM_D_ORIG_FINANCE_ORDER_NET', 'SCM_AP_ID', 'SCM_AS_ID',\n",
       "       'SCM_MASTER_AP_ID', 'OSP_KO_COUNT_NET', 'OSP_3_LEAD_P_PG_ID',\n",
       "       'OSP_3_LEAD_P_PG_SHARE', 'OSP_4_LEAD_P_PG_ID', 'OSP_4_LEAD_P_PG_SHARE',\n",
       "       'CZP_START_DATE', 'CZP_EXPIRY_DATE', 'CZP_ZTQ_ID', 'CZP_PERCENTAGE',\n",
       "       'CZP_PRICE', 'ORDER_DATETIME', 'FIRST_O_DATE', 'LAST_O_DATE',\n",
       "       '1ST_O_COUNTER', 'MAX_SALES_O_POS', 'IS_LEAD_AS', 'LEAD_AS_ID', 'D28',\n",
       "       'D56', 'D84', 'D168', 'D252', 'D336', 'AP_ID', 'L3_PG_ID', 'L4_PG_ID',\n",
       "       'PPR_N_LEVEL4_ID', 'PPR_V_LEVEL4_DESC', 'BRAND'],\n",
       "      dtype='object')"
      ]
     },
     "execution_count": 50,
     "metadata": {},
     "output_type": "execute_result"
    }
   ],
   "source": [
    "data.columns"
   ]
  },
  {
   "cell_type": "code",
   "execution_count": 51,
   "metadata": {
    "ExecuteTime": {
     "end_time": "2018-11-23T14:34:19.553626Z",
     "start_time": "2018-11-23T14:34:12.487626Z"
    },
    "hidden": true
   },
   "outputs": [],
   "source": [
    "#data.to_pickle(\"./orders_nl_shop_sp_cross_selling.pkl\")"
   ]
  },
  {
   "cell_type": "markdown",
   "metadata": {
    "heading_collapsed": true
   },
   "source": [
    "### Order level"
   ]
  },
  {
   "cell_type": "code",
   "execution_count": 2,
   "metadata": {
    "ExecuteTime": {
     "end_time": "2018-11-16T16:12:21.399781Z",
     "start_time": "2018-11-16T16:12:14.636781Z"
    },
    "hidden": true
   },
   "outputs": [],
   "source": [
    "data = pd.read_pickle(\"./orders_nl_shop_sp_cross_selling.pkl\")"
   ]
  },
  {
   "cell_type": "code",
   "execution_count": 52,
   "metadata": {
    "ExecuteTime": {
     "end_time": "2018-11-23T14:35:56.701626Z",
     "start_time": "2018-11-23T14:35:56.669626Z"
    },
    "hidden": true
   },
   "outputs": [],
   "source": [
    "agg_ops = {'TDT_T_KEY_ORDER_DATE': min,\n",
    "          'CUS_N_KEY_CUSTOMER': min,\n",
    "          'SCM_SALES_BMF': [sum, lambda x: list(np.round(x, 2))],\n",
    "          'SCM_D_FINANCE_CM1': sum,\n",
    "          'SCM_D_FINANCE_CM2': sum,\n",
    "          'SCM_D_ORIG_FINANCE_ORDER_NET': sum,\n",
    "          'OSP_KO_COUNT_NET': min,\n",
    "          'SCM_AP_ID': lambda x: list(x),\n",
    "          'L4_PG_ID': lambda x: list(x),\n",
    "          'BRAND': lambda x: list(x),\n",
    "          'PPR_V_LEVEL4_DESC': lambda x: list(x),\n",
    "          'L3_PG_ID': lambda x: list(x),\n",
    "          'SCM_AS_ID': lambda x: list(x),\n",
    "          'LEAD_AS_ID': max,\n",
    "          'SCM_MASTER_AP_ID': lambda x: list(x),\n",
    "          'CZP_ZTQ_ID': min, \n",
    "          'CZP_START_DATE': min,\n",
    "          'CZP_EXPIRY_DATE': min,\n",
    "          'ORDER_DATETIME': min,\n",
    "          'FIRST_O_DATE': min,\n",
    "          'LAST_O_DATE': min,\n",
    "          '1ST_O_COUNTER': min,\n",
    "          'D28': min,\n",
    "          'D56': min,\n",
    "          'D84': min,\n",
    "          'D168': min,\n",
    "          'D252': min,\n",
    "          'D336': min\n",
    "          }"
   ]
  },
  {
   "cell_type": "code",
   "execution_count": 53,
   "metadata": {
    "ExecuteTime": {
     "end_time": "2018-11-23T14:41:49.234626Z",
     "start_time": "2018-11-23T14:35:58.609626Z"
    },
    "hidden": true
   },
   "outputs": [],
   "source": [
    "orders = data.groupby('SCM_N_ORDER_NR', as_index=False).agg(agg_ops)"
   ]
  },
  {
   "cell_type": "code",
   "execution_count": 54,
   "metadata": {
    "ExecuteTime": {
     "end_time": "2018-11-23T14:41:51.275626Z",
     "start_time": "2018-11-23T14:41:51.272626Z"
    },
    "hidden": true
   },
   "outputs": [],
   "source": [
    "orders.columns = ['_'.join(tup).rstrip('_') for tup in orders.columns.values]"
   ]
  },
  {
   "cell_type": "code",
   "execution_count": 55,
   "metadata": {
    "ExecuteTime": {
     "end_time": "2018-11-23T14:41:53.322626Z",
     "start_time": "2018-11-23T14:41:53.316626Z"
    },
    "hidden": true
   },
   "outputs": [],
   "source": [
    "orders.columns = ['SCM_N_ORDER_NR', 'TDT_T_KEY_ORDER_DATE', 'CUS_N_KEY_CUSTOMER',\n",
    "       'SCM_SALES_BMF_sum', 'SCM_SALES_BMF_list', 'SCM_D_FINANCE_CM1',\n",
    "       'SCM_D_FINANCE_CM2', 'SCM_D_ORIG_FINANCE_ORDER_NET',\n",
    "       'OSP_KO_COUNT_NET', 'SCM_AP_ID_list', 'L4_PG_ID_list',\n",
    "       'BRAND_list', 'PPR_V_LEVEL4_DESC_list', 'L3_PG_ID_list',\n",
    "       'SCM_AS_ID_list', 'LEAD_AS_ID', 'SCM_MASTER_AP_ID_list',\n",
    "       'CZP_ZTQ_ID', 'CZP_START_DATE', 'CZP_EXPIRY_DATE',\n",
    "       'ORDER_DATETIME', 'FIRST_O_DATE', 'LAST_O_DATE',\n",
    "       '1ST_O_COUNTER', 'D28', 'D56', 'D84', 'D168',\n",
    "       'D252', 'D336']"
   ]
  },
  {
   "cell_type": "code",
   "execution_count": 73,
   "metadata": {
    "ExecuteTime": {
     "end_time": "2018-11-23T14:50:59.519626Z",
     "start_time": "2018-11-23T14:50:59.351626Z"
    },
    "hidden": true
   },
   "outputs": [],
   "source": [
    "orders['SP_PURCHASE'] = [42225 in i for i in orders['SCM_MASTER_AP_ID_list'].values]"
   ]
  },
  {
   "cell_type": "code",
   "execution_count": 74,
   "metadata": {
    "ExecuteTime": {
     "end_time": "2018-11-23T14:51:02.373626Z",
     "start_time": "2018-11-23T14:51:02.356626Z"
    },
    "hidden": true
   },
   "outputs": [
    {
     "data": {
      "text/plain": [
       "False    796816\n",
       "True      44255\n",
       "Name: SP_PURCHASE, dtype: int64"
      ]
     },
     "execution_count": 74,
     "metadata": {},
     "output_type": "execute_result"
    }
   ],
   "source": [
    "orders['SP_PURCHASE'].value_counts()"
   ]
  },
  {
   "cell_type": "code",
   "execution_count": 75,
   "metadata": {
    "ExecuteTime": {
     "end_time": "2018-11-23T14:51:05.249626Z",
     "start_time": "2018-11-23T14:51:05.104626Z"
    },
    "hidden": true
   },
   "outputs": [],
   "source": [
    "orders['SP_DISC'] = [42715 in i for i in orders['SCM_MASTER_AP_ID_list'].values]"
   ]
  },
  {
   "cell_type": "code",
   "execution_count": 76,
   "metadata": {
    "ExecuteTime": {
     "end_time": "2018-11-23T14:51:07.976626Z",
     "start_time": "2018-11-23T14:51:07.958626Z"
    },
    "hidden": true
   },
   "outputs": [
    {
     "data": {
      "text/plain": [
       "False    583114\n",
       "True     257957\n",
       "Name: SP_DISC, dtype: int64"
      ]
     },
     "execution_count": 76,
     "metadata": {},
     "output_type": "execute_result"
    }
   ],
   "source": [
    "orders['SP_DISC'].value_counts()"
   ]
  },
  {
   "cell_type": "markdown",
   "metadata": {
    "hidden": true
   },
   "source": [
    "We need to calculate, for each order, sales per PG3/PG4/BRAND... "
   ]
  },
  {
   "cell_type": "code",
   "execution_count": 77,
   "metadata": {
    "ExecuteTime": {
     "end_time": "2018-11-23T14:51:12.486626Z",
     "start_time": "2018-11-23T14:51:10.714626Z"
    },
    "hidden": true
   },
   "outputs": [],
   "source": [
    "orders['PG3_SALES'] = [[(a, b) for a, b in list(zip(i, j))] for i, j in list(zip(orders['L3_PG_ID_list'], \n",
    "                                                                                 orders['SCM_SALES_BMF_list']))]"
   ]
  },
  {
   "cell_type": "code",
   "execution_count": 78,
   "metadata": {
    "ExecuteTime": {
     "end_time": "2018-11-23T14:51:19.075626Z",
     "start_time": "2018-11-23T14:51:15.304626Z"
    },
    "hidden": true
   },
   "outputs": [],
   "source": [
    "orders['PG4_SALES'] = [[(a, b) for a, b in list(zip(i, j))] for i, j in list(zip(orders['L4_PG_ID_list'], \n",
    "                                                                                 orders['SCM_SALES_BMF_list']))]"
   ]
  },
  {
   "cell_type": "code",
   "execution_count": 79,
   "metadata": {
    "ExecuteTime": {
     "end_time": "2018-11-23T14:51:23.505626Z",
     "start_time": "2018-11-23T14:51:21.850626Z"
    },
    "hidden": true
   },
   "outputs": [],
   "source": [
    "orders['BRAND_SALES'] = [[(a, b) for a, b in list(zip(i, j))] for i, j in list(zip(orders['BRAND_list'], \n",
    "                                                                                   orders['SCM_SALES_BMF_list']))]"
   ]
  },
  {
   "cell_type": "code",
   "execution_count": 80,
   "metadata": {
    "ExecuteTime": {
     "end_time": "2018-11-23T14:51:50.357626Z",
     "start_time": "2018-11-23T14:51:26.244626Z"
    },
    "hidden": true
   },
   "outputs": [],
   "source": [
    "orders['PG3_AGGSALES'] = [sorted([(pg3, np.round(sum([sales_ for pg_3_, sales_ in i if pg3==pg_3_\n",
    "                                                        ]), 3)) \n",
    "                        for pg3 in set([pg_3 for pg_3, sales in i])], key= lambda x: x[1], reverse=True) \n",
    "                        for i in orders['PG3_SALES']]"
   ]
  },
  {
   "cell_type": "code",
   "execution_count": 81,
   "metadata": {
    "ExecuteTime": {
     "end_time": "2018-11-23T14:52:18.134626Z",
     "start_time": "2018-11-23T14:51:53.083626Z"
    },
    "hidden": true
   },
   "outputs": [],
   "source": [
    "orders['PG4_AGGSALES'] = [sorted([(pg4, np.round(sum([sales_ for pg_4_, sales_ in i if pg4==pg_4_\n",
    "                                                        ]), 3)) \n",
    "                        for pg4 in set([pg_4 for pg_4, sales in i])], key= lambda x: x[1], reverse=True) \n",
    "                        for i in orders['PG4_SALES']]"
   ]
  },
  {
   "cell_type": "code",
   "execution_count": 82,
   "metadata": {
    "ExecuteTime": {
     "end_time": "2018-11-23T14:52:46.647626Z",
     "start_time": "2018-11-23T14:52:20.898626Z"
    },
    "hidden": true
   },
   "outputs": [],
   "source": [
    "orders['BRAND_AGGSALES'] = [sorted([(brand_, np.round(sum([sales_ for brand__, sales_ in i if brand_== brand__\n",
    "                                                        ]), 3)) \n",
    "                        for brand_ in set([brand for brand, sales in i])], key= lambda x: x[1], reverse=True) \n",
    "                        for i in orders['BRAND_SALES']]"
   ]
  },
  {
   "cell_type": "code",
   "execution_count": 83,
   "metadata": {
    "ExecuteTime": {
     "end_time": "2018-11-23T14:52:49.483626Z",
     "start_time": "2018-11-23T14:52:49.390626Z"
    },
    "hidden": true
   },
   "outputs": [
    {
     "data": {
      "text/html": [
       "<div>\n",
       "<style scoped>\n",
       "    .dataframe tbody tr th:only-of-type {\n",
       "        vertical-align: middle;\n",
       "    }\n",
       "\n",
       "    .dataframe tbody tr th {\n",
       "        vertical-align: top;\n",
       "    }\n",
       "\n",
       "    .dataframe thead th {\n",
       "        text-align: right;\n",
       "    }\n",
       "</style>\n",
       "<table border=\"1\" class=\"dataframe\">\n",
       "  <thead>\n",
       "    <tr style=\"text-align: right;\">\n",
       "      <th></th>\n",
       "      <th>SCM_SALES_BMF_list</th>\n",
       "      <th>SCM_AP_ID_list</th>\n",
       "      <th>SP_DISC</th>\n",
       "      <th>L3_PG_ID_list</th>\n",
       "      <th>PG3_SALES</th>\n",
       "      <th>PG3_AGGSALES</th>\n",
       "      <th>L4_PG_ID_list</th>\n",
       "      <th>PG4_SALES</th>\n",
       "      <th>PG4_AGGSALES</th>\n",
       "      <th>BRAND_list</th>\n",
       "      <th>BRAND_SALES</th>\n",
       "      <th>BRAND_AGGSALES</th>\n",
       "    </tr>\n",
       "  </thead>\n",
       "  <tbody>\n",
       "    <tr>\n",
       "      <th>312195</th>\n",
       "      <td>[41.49, -3.87, 1.99, 33.98]</td>\n",
       "      <td>[52564, 0, 64698, 61272]</td>\n",
       "      <td>True</td>\n",
       "      <td>[252, 0, 36, 2068]</td>\n",
       "      <td>[(252, 41.49), (0, -3.87), (36, 1.99), (2068, ...</td>\n",
       "      <td>[(252, 41.49), (2068, 33.98), (36, 1.99), (0, ...</td>\n",
       "      <td>[81397, 0, 679, 17963]</td>\n",
       "      <td>[(81397, 41.49), (0, -3.87), (679, 1.99), (179...</td>\n",
       "      <td>[(81397, 41.49), (17963, 33.98), (679, 1.99), ...</td>\n",
       "      <td>[Royal Canin Veterinary Diet, nan, Mäuse &amp; Bäl...</td>\n",
       "      <td>[(Royal Canin Veterinary Diet, 41.49), (nan, -...</td>\n",
       "      <td>[(Royal Canin Veterinary Diet, 41.49), (Royal ...</td>\n",
       "    </tr>\n",
       "    <tr>\n",
       "      <th>835519</th>\n",
       "      <td>[-1.77, 0.0, 34.99, 0.0, 6.02, 5.79, 6.3, 5.88]</td>\n",
       "      <td>[0, 52417, 71113, 37447, 24985, 26231, 33650, ...</td>\n",
       "      <td>True</td>\n",
       "      <td>[0, 34, 252, 18, 857, 857, 857, 857]</td>\n",
       "      <td>[(0, -1.77), (34, 0.0), (252, 34.99), (18, 0.0...</td>\n",
       "      <td>[(252, 34.99), (857, 23.99), (34, 0.0), (18, 0...</td>\n",
       "      <td>[0, 71978, 42545, 104, 17198, 17198, 17198, 17...</td>\n",
       "      <td>[(0, -1.77), (71978, 0.0), (42545, 34.99), (10...</td>\n",
       "      <td>[(42545, 34.99), (17198, 23.99), (104, 0.0), (...</td>\n",
       "      <td>[nan, Knuspersnacks, Purina ONE, vom Rind, Her...</td>\n",
       "      <td>[(nan, -1.77), (Knuspersnacks, 0.0), (Purina O...</td>\n",
       "      <td>[(Purina ONE, 34.99), (Herrmann's, 23.99), (na...</td>\n",
       "    </tr>\n",
       "    <tr>\n",
       "      <th>251509</th>\n",
       "      <td>[9.15, 45.99, -5.51]</td>\n",
       "      <td>[64487, 61197, 0]</td>\n",
       "      <td>False</td>\n",
       "      <td>[2068, 252, 0]</td>\n",
       "      <td>[(2068, 9.15), (252, 45.99), (0, -5.51)]</td>\n",
       "      <td>[(252, 45.99), (2068, 9.15), (0, -5.51)]</td>\n",
       "      <td>[2127, 683, 0]</td>\n",
       "      <td>[(2127, 9.15), (683, 45.99), (0, -5.51)]</td>\n",
       "      <td>[(683, 45.99), (2127, 9.15), (0, -5.51)]</td>\n",
       "      <td>[Almo Nature, Royal Canin, nan]</td>\n",
       "      <td>[(Almo Nature, 9.15), (Royal Canin, 45.99), (n...</td>\n",
       "      <td>[(Royal Canin, 45.99), (Almo Nature, 9.15), (n...</td>\n",
       "    </tr>\n",
       "    <tr>\n",
       "      <th>522346</th>\n",
       "      <td>[28.99, 49.99, 33.49, 0.0]</td>\n",
       "      <td>[33729, 38566, 57452, 69730]</td>\n",
       "      <td>False</td>\n",
       "      <td>[252, 251, 252, 252]</td>\n",
       "      <td>[(252, 28.99), (251, 49.99), (252, 33.49), (25...</td>\n",
       "      <td>[(252, 62.48), (251, 49.99)]</td>\n",
       "      <td>[720, 17798, 81397, 201878]</td>\n",
       "      <td>[(720, 28.99), (17798, 49.99), (81397, 33.49),...</td>\n",
       "      <td>[(17798, 49.99), (81397, 33.49), (720, 28.99),...</td>\n",
       "      <td>[Hill's Science Plan, Royal Canin Breed (Rasse...</td>\n",
       "      <td>[(Hill's Science Plan, 28.99), (Royal Canin Br...</td>\n",
       "      <td>[(Royal Canin Breed (Rasse), 49.99), (Royal Ca...</td>\n",
       "    </tr>\n",
       "    <tr>\n",
       "      <th>588789</th>\n",
       "      <td>[52.0, 52.0, -3.12]</td>\n",
       "      <td>[74727, 74727, 0]</td>\n",
       "      <td>True</td>\n",
       "      <td>[251, 251, 0]</td>\n",
       "      <td>[(251, 52.0), (251, 52.0), (0, -3.12)]</td>\n",
       "      <td>[(251, 104.0), (0, -3.12)]</td>\n",
       "      <td>[754, 754, 0]</td>\n",
       "      <td>[(754, 52.0), (754, 52.0), (0, -3.12)]</td>\n",
       "      <td>[(754, 104.0), (0, -3.12)]</td>\n",
       "      <td>[Nutro, Nutro, nan]</td>\n",
       "      <td>[(Nutro, 52.0), (Nutro, 52.0), (nan, -3.12)]</td>\n",
       "      <td>[(Nutro, 104.0), (nan, 0)]</td>\n",
       "    </tr>\n",
       "    <tr>\n",
       "      <th>528579</th>\n",
       "      <td>[24.99, 20.99, 5.99, 81.99]</td>\n",
       "      <td>[68059, 37446, 63782, 61383]</td>\n",
       "      <td>False</td>\n",
       "      <td>[2068, 18, 18, 251]</td>\n",
       "      <td>[(2068, 24.99), (18, 20.99), (18, 5.99), (251,...</td>\n",
       "      <td>[(251, 81.99), (18, 26.98), (2068, 24.99)]</td>\n",
       "      <td>[2071, 104, 1438, 255]</td>\n",
       "      <td>[(2071, 24.99), (104, 20.99), (1438, 5.99), (2...</td>\n",
       "      <td>[(255, 81.99), (2071, 24.99), (104, 20.99), (1...</td>\n",
       "      <td>[Felix, vom Rind, vom Lamm, Eukanuba]</td>\n",
       "      <td>[(Felix, 24.99), (vom Rind, 20.99), (vom Lamm,...</td>\n",
       "      <td>[(Eukanuba, 81.99), (Felix, 24.99), (vom Rind,...</td>\n",
       "    </tr>\n",
       "    <tr>\n",
       "      <th>483098</th>\n",
       "      <td>[9.99, 5.59, 5.99, 5.99, 5.59, 5.0, 5.0, 4.49,...</td>\n",
       "      <td>[50892, 50302, 57006, 57007, 50303, 69003, 689...</td>\n",
       "      <td>False</td>\n",
       "      <td>[2068, 2068, 2068, 2068, 2068, 2068, 2068, 252...</td>\n",
       "      <td>[(2068, 9.99), (2068, 5.59), (2068, 5.99), (20...</td>\n",
       "      <td>[(2068, 43.15), (252, 10.59)]</td>\n",
       "      <td>[2072, 2072, 11751, 11751, 2072, 2072, 2072, 6...</td>\n",
       "      <td>[(2072, 9.99), (2072, 5.59), (11751, 5.99), (1...</td>\n",
       "      <td>[(2072, 31.17), (11751, 11.98), (42545, 6.1), ...</td>\n",
       "      <td>[Gourmet Gold, Gourmet Gold, Applaws, Applaws,...</td>\n",
       "      <td>[(Gourmet Gold, 9.99), (Gourmet Gold, 5.59), (...</td>\n",
       "      <td>[(Gourmet Gold, 31.17), (Applaws, 11.98), (Pur...</td>\n",
       "    </tr>\n",
       "    <tr>\n",
       "      <th>334490</th>\n",
       "      <td>[33.98, 9.99, 49.99]</td>\n",
       "      <td>[61276, 60801, 67374]</td>\n",
       "      <td>False</td>\n",
       "      <td>[2068, 2068, 252]</td>\n",
       "      <td>[(2068, 33.98), (2068, 9.99), (252, 49.99)]</td>\n",
       "      <td>[(252, 49.99), (2068, 43.97)]</td>\n",
       "      <td>[17963, 17963, 81397]</td>\n",
       "      <td>[(17963, 33.98), (17963, 9.99), (81397, 49.99)]</td>\n",
       "      <td>[(81397, 49.99), (17963, 43.97)]</td>\n",
       "      <td>[Royal Canin, Royal Canin, Royal Canin Veterin...</td>\n",
       "      <td>[(Royal Canin, 33.98), (Royal Canin, 9.99), (R...</td>\n",
       "      <td>[(Royal Canin Veterinary Diet, 49.99), (Royal ...</td>\n",
       "    </tr>\n",
       "    <tr>\n",
       "      <th>362311</th>\n",
       "      <td>[-1.5, 29.99, 2.99]</td>\n",
       "      <td>[0, 67610, 0]</td>\n",
       "      <td>True</td>\n",
       "      <td>[0, 29, 0]</td>\n",
       "      <td>[(0, -1.5), (29, 29.99), (0, 2.99)]</td>\n",
       "      <td>[(29, 29.99), (0, 1.49)]</td>\n",
       "      <td>[0, 35032, 0]</td>\n",
       "      <td>[(0, -1.5), (35032, 29.99), (0, 2.99)]</td>\n",
       "      <td>[(35032, 29.99), (0, 1.49)]</td>\n",
       "      <td>[nan, Feliway, nan]</td>\n",
       "      <td>[(nan, -1.5), (Feliway, 29.99), (nan, 2.99)]</td>\n",
       "      <td>[(Feliway, 29.99), (nan, 0)]</td>\n",
       "    </tr>\n",
       "    <tr>\n",
       "      <th>591757</th>\n",
       "      <td>[0.0, 45.99, -2.56, 2.99, 2.29, 0.0]</td>\n",
       "      <td>[36642, 67694, 0, 72967, 72941, 36979]</td>\n",
       "      <td>True</td>\n",
       "      <td>[18, 251, 0, 18, 18, 18]</td>\n",
       "      <td>[(18, 0.0), (251, 45.99), (0, -2.56), (18, 2.9...</td>\n",
       "      <td>[(251, 45.99), (18, 5.28), (0, -2.56)]</td>\n",
       "      <td>[393, 283, 0, 201276, 201276, 2193]</td>\n",
       "      <td>[(393, 0.0), (283, 45.99), (0, -2.56), (201276...</td>\n",
       "      <td>[(283, 45.99), (201276, 5.28), (393, 0.0), (21...</td>\n",
       "      <td>[Hundekekse &amp; Hundekuchen, Pro Plan, nan, Alle...</td>\n",
       "      <td>[(Hundekekse &amp; Hundekuchen, 0.0), (Pro Plan, 4...</td>\n",
       "      <td>[(Pro Plan, 45.99), (Alle Hundesnacks, 5.28), ...</td>\n",
       "    </tr>\n",
       "  </tbody>\n",
       "</table>\n",
       "</div>"
      ],
      "text/plain": [
       "                                       SCM_SALES_BMF_list  \\\n",
       "312195                        [41.49, -3.87, 1.99, 33.98]   \n",
       "835519    [-1.77, 0.0, 34.99, 0.0, 6.02, 5.79, 6.3, 5.88]   \n",
       "251509                               [9.15, 45.99, -5.51]   \n",
       "522346                         [28.99, 49.99, 33.49, 0.0]   \n",
       "588789                                [52.0, 52.0, -3.12]   \n",
       "528579                        [24.99, 20.99, 5.99, 81.99]   \n",
       "483098  [9.99, 5.59, 5.99, 5.99, 5.59, 5.0, 5.0, 4.49,...   \n",
       "334490                               [33.98, 9.99, 49.99]   \n",
       "362311                                [-1.5, 29.99, 2.99]   \n",
       "591757               [0.0, 45.99, -2.56, 2.99, 2.29, 0.0]   \n",
       "\n",
       "                                           SCM_AP_ID_list  SP_DISC  \\\n",
       "312195                           [52564, 0, 64698, 61272]     True   \n",
       "835519  [0, 52417, 71113, 37447, 24985, 26231, 33650, ...     True   \n",
       "251509                                  [64487, 61197, 0]    False   \n",
       "522346                       [33729, 38566, 57452, 69730]    False   \n",
       "588789                                  [74727, 74727, 0]     True   \n",
       "528579                       [68059, 37446, 63782, 61383]    False   \n",
       "483098  [50892, 50302, 57006, 57007, 50303, 69003, 689...    False   \n",
       "334490                              [61276, 60801, 67374]    False   \n",
       "362311                                      [0, 67610, 0]     True   \n",
       "591757             [36642, 67694, 0, 72967, 72941, 36979]     True   \n",
       "\n",
       "                                            L3_PG_ID_list  \\\n",
       "312195                                 [252, 0, 36, 2068]   \n",
       "835519               [0, 34, 252, 18, 857, 857, 857, 857]   \n",
       "251509                                     [2068, 252, 0]   \n",
       "522346                               [252, 251, 252, 252]   \n",
       "588789                                      [251, 251, 0]   \n",
       "528579                                [2068, 18, 18, 251]   \n",
       "483098  [2068, 2068, 2068, 2068, 2068, 2068, 2068, 252...   \n",
       "334490                                  [2068, 2068, 252]   \n",
       "362311                                         [0, 29, 0]   \n",
       "591757                           [18, 251, 0, 18, 18, 18]   \n",
       "\n",
       "                                                PG3_SALES  \\\n",
       "312195  [(252, 41.49), (0, -3.87), (36, 1.99), (2068, ...   \n",
       "835519  [(0, -1.77), (34, 0.0), (252, 34.99), (18, 0.0...   \n",
       "251509           [(2068, 9.15), (252, 45.99), (0, -5.51)]   \n",
       "522346  [(252, 28.99), (251, 49.99), (252, 33.49), (25...   \n",
       "588789             [(251, 52.0), (251, 52.0), (0, -3.12)]   \n",
       "528579  [(2068, 24.99), (18, 20.99), (18, 5.99), (251,...   \n",
       "483098  [(2068, 9.99), (2068, 5.59), (2068, 5.99), (20...   \n",
       "334490        [(2068, 33.98), (2068, 9.99), (252, 49.99)]   \n",
       "362311                [(0, -1.5), (29, 29.99), (0, 2.99)]   \n",
       "591757  [(18, 0.0), (251, 45.99), (0, -2.56), (18, 2.9...   \n",
       "\n",
       "                                             PG3_AGGSALES  \\\n",
       "312195  [(252, 41.49), (2068, 33.98), (36, 1.99), (0, ...   \n",
       "835519  [(252, 34.99), (857, 23.99), (34, 0.0), (18, 0...   \n",
       "251509           [(252, 45.99), (2068, 9.15), (0, -5.51)]   \n",
       "522346                       [(252, 62.48), (251, 49.99)]   \n",
       "588789                         [(251, 104.0), (0, -3.12)]   \n",
       "528579         [(251, 81.99), (18, 26.98), (2068, 24.99)]   \n",
       "483098                      [(2068, 43.15), (252, 10.59)]   \n",
       "334490                      [(252, 49.99), (2068, 43.97)]   \n",
       "362311                           [(29, 29.99), (0, 1.49)]   \n",
       "591757             [(251, 45.99), (18, 5.28), (0, -2.56)]   \n",
       "\n",
       "                                            L4_PG_ID_list  \\\n",
       "312195                             [81397, 0, 679, 17963]   \n",
       "835519  [0, 71978, 42545, 104, 17198, 17198, 17198, 17...   \n",
       "251509                                     [2127, 683, 0]   \n",
       "522346                        [720, 17798, 81397, 201878]   \n",
       "588789                                      [754, 754, 0]   \n",
       "528579                             [2071, 104, 1438, 255]   \n",
       "483098  [2072, 2072, 11751, 11751, 2072, 2072, 2072, 6...   \n",
       "334490                              [17963, 17963, 81397]   \n",
       "362311                                      [0, 35032, 0]   \n",
       "591757                [393, 283, 0, 201276, 201276, 2193]   \n",
       "\n",
       "                                                PG4_SALES  \\\n",
       "312195  [(81397, 41.49), (0, -3.87), (679, 1.99), (179...   \n",
       "835519  [(0, -1.77), (71978, 0.0), (42545, 34.99), (10...   \n",
       "251509           [(2127, 9.15), (683, 45.99), (0, -5.51)]   \n",
       "522346  [(720, 28.99), (17798, 49.99), (81397, 33.49),...   \n",
       "588789             [(754, 52.0), (754, 52.0), (0, -3.12)]   \n",
       "528579  [(2071, 24.99), (104, 20.99), (1438, 5.99), (2...   \n",
       "483098  [(2072, 9.99), (2072, 5.59), (11751, 5.99), (1...   \n",
       "334490    [(17963, 33.98), (17963, 9.99), (81397, 49.99)]   \n",
       "362311             [(0, -1.5), (35032, 29.99), (0, 2.99)]   \n",
       "591757  [(393, 0.0), (283, 45.99), (0, -2.56), (201276...   \n",
       "\n",
       "                                             PG4_AGGSALES  \\\n",
       "312195  [(81397, 41.49), (17963, 33.98), (679, 1.99), ...   \n",
       "835519  [(42545, 34.99), (17198, 23.99), (104, 0.0), (...   \n",
       "251509           [(683, 45.99), (2127, 9.15), (0, -5.51)]   \n",
       "522346  [(17798, 49.99), (81397, 33.49), (720, 28.99),...   \n",
       "588789                         [(754, 104.0), (0, -3.12)]   \n",
       "528579  [(255, 81.99), (2071, 24.99), (104, 20.99), (1...   \n",
       "483098  [(2072, 31.17), (11751, 11.98), (42545, 6.1), ...   \n",
       "334490                   [(81397, 49.99), (17963, 43.97)]   \n",
       "362311                        [(35032, 29.99), (0, 1.49)]   \n",
       "591757  [(283, 45.99), (201276, 5.28), (393, 0.0), (21...   \n",
       "\n",
       "                                               BRAND_list  \\\n",
       "312195  [Royal Canin Veterinary Diet, nan, Mäuse & Bäl...   \n",
       "835519  [nan, Knuspersnacks, Purina ONE, vom Rind, Her...   \n",
       "251509                    [Almo Nature, Royal Canin, nan]   \n",
       "522346  [Hill's Science Plan, Royal Canin Breed (Rasse...   \n",
       "588789                                [Nutro, Nutro, nan]   \n",
       "528579              [Felix, vom Rind, vom Lamm, Eukanuba]   \n",
       "483098  [Gourmet Gold, Gourmet Gold, Applaws, Applaws,...   \n",
       "334490  [Royal Canin, Royal Canin, Royal Canin Veterin...   \n",
       "362311                                [nan, Feliway, nan]   \n",
       "591757  [Hundekekse & Hundekuchen, Pro Plan, nan, Alle...   \n",
       "\n",
       "                                              BRAND_SALES  \\\n",
       "312195  [(Royal Canin Veterinary Diet, 41.49), (nan, -...   \n",
       "835519  [(nan, -1.77), (Knuspersnacks, 0.0), (Purina O...   \n",
       "251509  [(Almo Nature, 9.15), (Royal Canin, 45.99), (n...   \n",
       "522346  [(Hill's Science Plan, 28.99), (Royal Canin Br...   \n",
       "588789       [(Nutro, 52.0), (Nutro, 52.0), (nan, -3.12)]   \n",
       "528579  [(Felix, 24.99), (vom Rind, 20.99), (vom Lamm,...   \n",
       "483098  [(Gourmet Gold, 9.99), (Gourmet Gold, 5.59), (...   \n",
       "334490  [(Royal Canin, 33.98), (Royal Canin, 9.99), (R...   \n",
       "362311       [(nan, -1.5), (Feliway, 29.99), (nan, 2.99)]   \n",
       "591757  [(Hundekekse & Hundekuchen, 0.0), (Pro Plan, 4...   \n",
       "\n",
       "                                           BRAND_AGGSALES  \n",
       "312195  [(Royal Canin Veterinary Diet, 41.49), (Royal ...  \n",
       "835519  [(Purina ONE, 34.99), (Herrmann's, 23.99), (na...  \n",
       "251509  [(Royal Canin, 45.99), (Almo Nature, 9.15), (n...  \n",
       "522346  [(Royal Canin Breed (Rasse), 49.99), (Royal Ca...  \n",
       "588789                         [(Nutro, 104.0), (nan, 0)]  \n",
       "528579  [(Eukanuba, 81.99), (Felix, 24.99), (vom Rind,...  \n",
       "483098  [(Gourmet Gold, 31.17), (Applaws, 11.98), (Pur...  \n",
       "334490  [(Royal Canin Veterinary Diet, 49.99), (Royal ...  \n",
       "362311                       [(Feliway, 29.99), (nan, 0)]  \n",
       "591757  [(Pro Plan, 45.99), (Alle Hundesnacks, 5.28), ...  "
      ]
     },
     "execution_count": 83,
     "metadata": {},
     "output_type": "execute_result"
    }
   ],
   "source": [
    "orders.sample(10)[['SCM_SALES_BMF_list', 'SCM_AP_ID_list', 'SP_DISC', 'L3_PG_ID_list', 'PG3_SALES', 'PG3_AGGSALES', \n",
    "                   'L4_PG_ID_list', 'PG4_SALES', 'PG4_AGGSALES', 'BRAND_list', 'BRAND_SALES', 'BRAND_AGGSALES']]"
   ]
  },
  {
   "cell_type": "code",
   "execution_count": 84,
   "metadata": {
    "ExecuteTime": {
     "end_time": "2018-11-23T14:53:27.685626Z",
     "start_time": "2018-11-23T14:52:52.196626Z"
    },
    "hidden": true
   },
   "outputs": [],
   "source": [
    "#orders.to_pickle(\"./one_year_aggregated_orders_nl_shop_sp_cross_selling.pkl\")"
   ]
  },
  {
   "cell_type": "markdown",
   "metadata": {
    "heading_collapsed": true
   },
   "source": [
    "### Customer level"
   ]
  },
  {
   "cell_type": "code",
   "execution_count": null,
   "metadata": {
    "hidden": true
   },
   "outputs": [],
   "source": [
    "orders = pd.read_pickle(\"./one_year_aggregated_orders_nl_shop_sp_cross_selling.pkl\")"
   ]
  },
  {
   "cell_type": "code",
   "execution_count": 85,
   "metadata": {
    "ExecuteTime": {
     "end_time": "2018-11-23T14:53:54.943626Z",
     "start_time": "2018-11-23T14:53:54.939626Z"
    },
    "hidden": true
   },
   "outputs": [
    {
     "data": {
      "text/plain": [
       "Index(['SCM_N_ORDER_NR', 'TDT_T_KEY_ORDER_DATE', 'CUS_N_KEY_CUSTOMER',\n",
       "       'SCM_SALES_BMF_sum', 'SCM_SALES_BMF_list', 'SCM_D_FINANCE_CM1',\n",
       "       'SCM_D_FINANCE_CM2', 'SCM_D_ORIG_FINANCE_ORDER_NET', 'OSP_KO_COUNT_NET',\n",
       "       'SCM_AP_ID_list', 'L4_PG_ID_list', 'BRAND_list',\n",
       "       'PPR_V_LEVEL4_DESC_list', 'L3_PG_ID_list', 'SCM_AS_ID_list',\n",
       "       'LEAD_AS_ID', 'SCM_MASTER_AP_ID_list', 'CZP_ZTQ_ID', 'CZP_START_DATE',\n",
       "       'CZP_EXPIRY_DATE', 'ORDER_DATETIME', 'FIRST_O_DATE', 'LAST_O_DATE',\n",
       "       '1ST_O_COUNTER', 'D28', 'D56', 'D84', 'D168', 'D252', 'D336',\n",
       "       'SP_PURCHASE', 'SP_DISC', 'PG3_SALES', 'PG4_SALES', 'BRAND_SALES',\n",
       "       'PG3_AGGSALES', 'PG4_AGGSALES', 'BRAND_AGGSALES'],\n",
       "      dtype='object')"
      ]
     },
     "execution_count": 85,
     "metadata": {},
     "output_type": "execute_result"
    }
   ],
   "source": [
    "orders.columns"
   ]
  },
  {
   "cell_type": "code",
   "execution_count": 86,
   "metadata": {
    "ExecuteTime": {
     "end_time": "2018-11-23T14:54:37.611626Z",
     "start_time": "2018-11-23T14:54:37.580626Z"
    },
    "hidden": true
   },
   "outputs": [],
   "source": [
    "agg_ord_ops = {\n",
    "              'SCM_N_ORDER_NR': len,\n",
    "              'TDT_T_KEY_ORDER_DATE': lambda x: list(x.dt.date),\n",
    "              'SCM_SALES_BMF_sum': [sum, lambda x: list(np.round(x, 2))],\n",
    "              'SCM_D_FINANCE_CM1': [sum, lambda x: list(np.round(x, 2))],\n",
    "              'SCM_D_FINANCE_CM2': [sum, lambda x: list(np.round(x, 2))],\n",
    "              'SCM_D_ORIG_FINANCE_ORDER_NET': [sum, lambda x: list(np.round(x, 2))],\n",
    "              'OSP_KO_COUNT_NET': lambda x: list(x),\n",
    "              'SCM_MASTER_AP_ID_list': lambda x: list(x),\n",
    "              'CZP_ZTQ_ID': lambda x: list(set(list(x))),\n",
    "              'CZP_START_DATE': lambda x: list(set(list(x.dt.date))),\n",
    "              'CZP_EXPIRY_DATE': lambda x: list(set(list(x.dt.date))),\n",
    "              'PG3_AGGSALES': lambda x: list(x),\n",
    "              'PG4_AGGSALES': lambda x: list(x),\n",
    "              'BRAND_AGGSALES': lambda x: list(x),\n",
    "              'SP_PURCHASE': lambda x: list(x),\n",
    "              'SP_DISC': lambda x: list(x),\n",
    "              'D28': max,\n",
    "              'D56': max,\n",
    "              'D84': max,\n",
    "              'D168': max,\n",
    "              'D252': max,\n",
    "              'D336': max\n",
    "              }"
   ]
  },
  {
   "cell_type": "code",
   "execution_count": 87,
   "metadata": {
    "ExecuteTime": {
     "end_time": "2018-11-23T15:00:30.102126Z",
     "start_time": "2018-11-23T14:54:40.598626Z"
    },
    "hidden": true
   },
   "outputs": [],
   "source": [
    "customers = orders.groupby('CUS_N_KEY_CUSTOMER', as_index=False).agg(agg_ord_ops).round(2)"
   ]
  },
  {
   "cell_type": "code",
   "execution_count": 88,
   "metadata": {
    "ExecuteTime": {
     "end_time": "2018-11-23T15:00:33.407126Z",
     "start_time": "2018-11-23T15:00:33.399626Z"
    },
    "hidden": true
   },
   "outputs": [],
   "source": [
    "customers.columns = ['_'.join(tup).rstrip('_') for tup in customers.columns.values]"
   ]
  },
  {
   "cell_type": "code",
   "execution_count": 89,
   "metadata": {
    "ExecuteTime": {
     "end_time": "2018-11-23T15:00:36.634626Z",
     "start_time": "2018-11-23T15:00:36.624626Z"
    },
    "hidden": true
   },
   "outputs": [],
   "source": [
    "customers.columns = ['CUS_N_KEY_CUSTOMER', 'SCM_N_ORDER_NR_len',\n",
    "       'TDT_T_KEY_ORDER_DATE_list', 'SCM_SALES_BMF_sum',\n",
    "       'SCM_SALES_BMF_list', 'SCM_D_FINANCE_CM1_sum',\n",
    "       'SCM_D_FINANCE_CM1_list', 'SCM_D_FINANCE_CM2_sum',\n",
    "       'SCM_D_FINANCE_CM2_list', 'SCM_D_ORIG_FINANCE_ORDER_NET_sum',\n",
    "       'SCM_D_ORIG_FINANCE_ORDER_NET_list', 'OSP_KO_COUNT_NET_list',\n",
    "       'SCM_MASTER_AP_ID_list', 'CZP_ZTQ_ID',\n",
    "       'CZP_START_DATE', 'CZP_EXPIRY_DATE',\n",
    "       'PG3_AGGSALES', 'PG4_AGGSALES',\n",
    "       'BRAND_AGGSALES', 'SP_PURCHASE', 'SP_DISC', 'D28', 'D56', 'D84', 'D168',\n",
    "       'D252', 'D336']"
   ]
  },
  {
   "cell_type": "code",
   "execution_count": 90,
   "metadata": {
    "ExecuteTime": {
     "end_time": "2018-11-23T15:00:40.182126Z",
     "start_time": "2018-11-23T15:00:39.814626Z"
    },
    "hidden": true
   },
   "outputs": [],
   "source": [
    "customers['O_TIMEDELTAS'] = [[(i - j).days for i, j in list(zip(o_list[1:], o_list[:-1]))] \n",
    "                             for o_list in customers['TDT_T_KEY_ORDER_DATE_list'].values]"
   ]
  },
  {
   "cell_type": "code",
   "execution_count": 91,
   "metadata": {
    "ExecuteTime": {
     "end_time": "2018-11-23T15:00:43.772126Z",
     "start_time": "2018-11-23T15:00:43.214626Z"
    },
    "hidden": true
   },
   "outputs": [],
   "source": [
    "customers['FLAT_PG3_SALES'] = [[k for j in i for k in j] for i in customers['PG3_AGGSALES'].values]"
   ]
  },
  {
   "cell_type": "code",
   "execution_count": 92,
   "metadata": {
    "ExecuteTime": {
     "end_time": "2018-11-23T15:00:47.307126Z",
     "start_time": "2018-11-23T15:00:46.734626Z"
    },
    "hidden": true
   },
   "outputs": [],
   "source": [
    "customers['FLAT_PG4_SALES'] = [[k for j in i for k in j] for i in customers['PG4_AGGSALES'].values]"
   ]
  },
  {
   "cell_type": "code",
   "execution_count": 93,
   "metadata": {
    "ExecuteTime": {
     "end_time": "2018-11-23T15:00:51.059626Z",
     "start_time": "2018-11-23T15:00:50.477126Z"
    },
    "hidden": true
   },
   "outputs": [],
   "source": [
    "customers['FLAT_BRAND_SALES'] = [[k for j in i for k in j] for i in customers['BRAND_AGGSALES'].values]"
   ]
  },
  {
   "cell_type": "code",
   "execution_count": 94,
   "metadata": {
    "ExecuteTime": {
     "end_time": "2018-11-23T15:01:00.949626Z",
     "start_time": "2018-11-23T15:00:54.389626Z"
    },
    "hidden": true
   },
   "outputs": [],
   "source": [
    "customers['TOTAL_PG3_SALES'] = [sorted([(pg3, np.round(sum([sales_ for pg_3_, sales_ in i if pg3==pg_3_\n",
    "                                                        ]), 3)) \n",
    "                                for pg3 in set([pg_3 for pg_3, sales in i])], key= lambda x: x[1], reverse=True) \n",
    "                                for i in customers['FLAT_PG3_SALES']]"
   ]
  },
  {
   "cell_type": "code",
   "execution_count": 95,
   "metadata": {
    "ExecuteTime": {
     "end_time": "2018-11-23T15:01:13.494626Z",
     "start_time": "2018-11-23T15:01:04.242126Z"
    },
    "hidden": true
   },
   "outputs": [],
   "source": [
    "customers['TOTAL_PG4_SALES'] = [sorted([(pg4, np.round(sum([sales_ for pg_4_, sales_ in i if pg4==pg_4_\n",
    "                                                        ]), 3)) \n",
    "                                for pg4 in set([pg_4 for pg_4, sales in i])], key= lambda x: x[1], reverse=True) \n",
    "                                for i in customers['FLAT_PG4_SALES']]"
   ]
  },
  {
   "cell_type": "code",
   "execution_count": 96,
   "metadata": {
    "ExecuteTime": {
     "end_time": "2018-11-23T15:01:26.764626Z",
     "start_time": "2018-11-23T15:01:16.897126Z"
    },
    "hidden": true
   },
   "outputs": [],
   "source": [
    "customers['TOTAL_BRAND_SALES'] = [sorted([(brand_, np.round(sum([sales_ for brand__, sales_ in i if brand_== brand__\n",
    "                                                        ]), 3)) \n",
    "                                for brand_ in set([brand for brand, sales in i])], key= lambda x: x[1], reverse=True) \n",
    "                                for i in customers['FLAT_BRAND_SALES']]"
   ]
  },
  {
   "cell_type": "code",
   "execution_count": 97,
   "metadata": {
    "ExecuteTime": {
     "end_time": "2018-11-23T15:02:15.905626Z",
     "start_time": "2018-11-23T15:01:30.219626Z"
    },
    "hidden": true
   },
   "outputs": [],
   "source": [
    "#customers.to_pickle(\"./customers_nl_shop_sp_cross_selling.pkl\")"
   ]
  },
  {
   "cell_type": "code",
   "execution_count": 98,
   "metadata": {
    "ExecuteTime": {
     "end_time": "2018-11-23T15:02:23.753126Z",
     "start_time": "2018-11-23T15:02:23.678126Z"
    },
    "hidden": true
   },
   "outputs": [],
   "source": [
    "del customers['FLAT_PG3_SALES']"
   ]
  },
  {
   "cell_type": "code",
   "execution_count": 99,
   "metadata": {
    "ExecuteTime": {
     "end_time": "2018-11-23T15:02:27.568126Z",
     "start_time": "2018-11-23T15:02:27.515626Z"
    },
    "hidden": true
   },
   "outputs": [],
   "source": [
    "del customers['FLAT_PG4_SALES']"
   ]
  },
  {
   "cell_type": "code",
   "execution_count": 100,
   "metadata": {
    "ExecuteTime": {
     "end_time": "2018-11-23T15:02:31.125626Z",
     "start_time": "2018-11-23T15:02:31.068126Z"
    },
    "hidden": true
   },
   "outputs": [],
   "source": [
    "del customers['FLAT_BRAND_SALES']"
   ]
  },
  {
   "cell_type": "markdown",
   "metadata": {},
   "source": [
    "### Framework"
   ]
  },
  {
   "cell_type": "markdown",
   "metadata": {},
   "source": [
    "***BRAND SPECIFIC SP ANALYSIS***"
   ]
  },
  {
   "cell_type": "code",
   "execution_count": 2,
   "metadata": {
    "ExecuteTime": {
     "end_time": "2018-11-26T07:40:47.479198Z",
     "start_time": "2018-11-26T07:40:34.335023Z"
    }
   },
   "outputs": [],
   "source": [
    "customers = pd.read_pickle(\"./customers_nl_shop_sp_cross_selling.pkl\")"
   ]
  },
  {
   "cell_type": "code",
   "execution_count": 3,
   "metadata": {
    "ExecuteTime": {
     "end_time": "2018-11-26T07:40:59.900783Z",
     "start_time": "2018-11-26T07:40:59.825820Z"
    }
   },
   "outputs": [
    {
     "data": {
      "text/html": [
       "<div>\n",
       "<style scoped>\n",
       "    .dataframe tbody tr th:only-of-type {\n",
       "        vertical-align: middle;\n",
       "    }\n",
       "\n",
       "    .dataframe tbody tr th {\n",
       "        vertical-align: top;\n",
       "    }\n",
       "\n",
       "    .dataframe thead th {\n",
       "        text-align: right;\n",
       "    }\n",
       "</style>\n",
       "<table border=\"1\" class=\"dataframe\">\n",
       "  <thead>\n",
       "    <tr style=\"text-align: right;\">\n",
       "      <th></th>\n",
       "      <th>CUS_N_KEY_CUSTOMER</th>\n",
       "      <th>SCM_N_ORDER_NR_len</th>\n",
       "      <th>TDT_T_KEY_ORDER_DATE_list</th>\n",
       "      <th>SCM_SALES_BMF_sum</th>\n",
       "      <th>SCM_SALES_BMF_list</th>\n",
       "      <th>SCM_D_FINANCE_CM1_sum</th>\n",
       "      <th>SCM_D_FINANCE_CM1_list</th>\n",
       "      <th>SCM_D_FINANCE_CM2_sum</th>\n",
       "      <th>SCM_D_FINANCE_CM2_list</th>\n",
       "      <th>SCM_D_ORIG_FINANCE_ORDER_NET_sum</th>\n",
       "      <th>SCM_D_ORIG_FINANCE_ORDER_NET_list</th>\n",
       "    </tr>\n",
       "  </thead>\n",
       "  <tbody>\n",
       "    <tr>\n",
       "      <th>0</th>\n",
       "      <td>1024867</td>\n",
       "      <td>8</td>\n",
       "      <td>[2017-04-12, 2017-05-13, 2017-06-09, 2017-08-1...</td>\n",
       "      <td>525.76</td>\n",
       "      <td>[121.09, 51.97, 69.87, 63.26, 55.07, 45.98, 68...</td>\n",
       "      <td>162.18</td>\n",
       "      <td>[39.8, 20.13, 23.27, 19.58, 13.47, 12.66, 18.2...</td>\n",
       "      <td>111.47</td>\n",
       "      <td>[28.36, 14.74, 17.65, 14.26, 8.28, 5.76, 13.41...</td>\n",
       "      <td>434.51</td>\n",
       "      <td>[100.07, 42.95, 57.74, 52.28, 45.51, 38.0, 56....</td>\n",
       "    </tr>\n",
       "    <tr>\n",
       "      <th>1</th>\n",
       "      <td>1119747</td>\n",
       "      <td>2</td>\n",
       "      <td>[2015-10-08, 2016-05-24]</td>\n",
       "      <td>76.92</td>\n",
       "      <td>[37.95, 38.97]</td>\n",
       "      <td>29.55</td>\n",
       "      <td>[15.47, 14.08]</td>\n",
       "      <td>18.89</td>\n",
       "      <td>[9.99, 8.9]</td>\n",
       "      <td>63.57</td>\n",
       "      <td>[31.36, 32.21]</td>\n",
       "    </tr>\n",
       "    <tr>\n",
       "      <th>2</th>\n",
       "      <td>1139016</td>\n",
       "      <td>5</td>\n",
       "      <td>[2016-06-14, 2017-04-19, 2017-05-18, 2017-09-2...</td>\n",
       "      <td>580.50</td>\n",
       "      <td>[161.43, 116.13, 97.98, 169.97, 34.99]</td>\n",
       "      <td>192.00</td>\n",
       "      <td>[56.49, 38.07, 41.67, 44.94, 10.84]</td>\n",
       "      <td>144.80</td>\n",
       "      <td>[42.39, 26.14, 36.04, 34.26, 5.97]</td>\n",
       "      <td>479.75</td>\n",
       "      <td>[133.41, 95.98, 80.98, 140.47, 28.92]</td>\n",
       "    </tr>\n",
       "    <tr>\n",
       "      <th>3</th>\n",
       "      <td>1158470</td>\n",
       "      <td>3</td>\n",
       "      <td>[2016-02-14, 2016-10-01, 2017-01-22]</td>\n",
       "      <td>119.14</td>\n",
       "      <td>[56.16, 40.0, 22.98]</td>\n",
       "      <td>41.26</td>\n",
       "      <td>[15.55, 14.03, 11.68]</td>\n",
       "      <td>23.21</td>\n",
       "      <td>[8.34, 8.15, 6.72]</td>\n",
       "      <td>98.46</td>\n",
       "      <td>[46.41, 33.06, 18.99]</td>\n",
       "    </tr>\n",
       "    <tr>\n",
       "      <th>4</th>\n",
       "      <td>1170395</td>\n",
       "      <td>2</td>\n",
       "      <td>[2016-04-06, 2016-05-12]</td>\n",
       "      <td>72.97</td>\n",
       "      <td>[22.98, 49.99]</td>\n",
       "      <td>29.36</td>\n",
       "      <td>[10.17, 19.18]</td>\n",
       "      <td>17.52</td>\n",
       "      <td>[5.01, 12.5]</td>\n",
       "      <td>60.31</td>\n",
       "      <td>[18.99, 41.31]</td>\n",
       "    </tr>\n",
       "    <tr>\n",
       "      <th>5</th>\n",
       "      <td>1170897</td>\n",
       "      <td>5</td>\n",
       "      <td>[2016-06-15, 2016-09-12, 2017-01-30, 2017-08-1...</td>\n",
       "      <td>171.34</td>\n",
       "      <td>[19.42, 37.98, 37.98, 37.98, 37.98]</td>\n",
       "      <td>40.70</td>\n",
       "      <td>[4.47, 8.19, 8.23, 9.91, 9.91]</td>\n",
       "      <td>-7.32</td>\n",
       "      <td>[-1.1, -2.95, -2.21, -0.53, -0.53]</td>\n",
       "      <td>141.60</td>\n",
       "      <td>[16.05, 31.39, 31.39, 31.39, 31.39]</td>\n",
       "    </tr>\n",
       "    <tr>\n",
       "      <th>6</th>\n",
       "      <td>1218191</td>\n",
       "      <td>1</td>\n",
       "      <td>[2016-03-15]</td>\n",
       "      <td>17.47</td>\n",
       "      <td>[17.47]</td>\n",
       "      <td>8.70</td>\n",
       "      <td>[8.7]</td>\n",
       "      <td>3.63</td>\n",
       "      <td>[3.63]</td>\n",
       "      <td>14.44</td>\n",
       "      <td>[14.44]</td>\n",
       "    </tr>\n",
       "    <tr>\n",
       "      <th>7</th>\n",
       "      <td>1262239</td>\n",
       "      <td>14</td>\n",
       "      <td>[2016-03-02, 2016-04-20, 2016-07-24, 2016-11-2...</td>\n",
       "      <td>841.81</td>\n",
       "      <td>[62.15, 103.78, 103.78, 56.25, 54.3, 51.4, 53....</td>\n",
       "      <td>159.80</td>\n",
       "      <td>[15.76, 18.19, 18.61, 14.3, 11.95, 8.71, 7.01,...</td>\n",
       "      <td>60.85</td>\n",
       "      <td>[8.87, 5.59, 6.01, 8.0, 5.36, 2.13, -0.36, 3.3...</td>\n",
       "      <td>695.71</td>\n",
       "      <td>[51.36, 85.77, 85.77, 46.49, 44.88, 42.48, 44....</td>\n",
       "    </tr>\n",
       "    <tr>\n",
       "      <th>8</th>\n",
       "      <td>1361081</td>\n",
       "      <td>2</td>\n",
       "      <td>[2015-12-14, 2016-01-29]</td>\n",
       "      <td>99.68</td>\n",
       "      <td>[49.89, 49.79]</td>\n",
       "      <td>12.92</td>\n",
       "      <td>[8.2, 4.72]</td>\n",
       "      <td>1.25</td>\n",
       "      <td>[2.11, -0.86]</td>\n",
       "      <td>82.38</td>\n",
       "      <td>[41.23, 41.15]</td>\n",
       "    </tr>\n",
       "    <tr>\n",
       "      <th>9</th>\n",
       "      <td>1372538</td>\n",
       "      <td>7</td>\n",
       "      <td>[2016-02-15, 2016-02-29, 2016-05-25, 2016-07-2...</td>\n",
       "      <td>212.25</td>\n",
       "      <td>[18.98, 32.98, 18.98, 35.97, 32.98, 32.98, 39.38]</td>\n",
       "      <td>64.13</td>\n",
       "      <td>[6.56, 9.0, 6.58, 9.48, 9.14, 9.14, 14.26]</td>\n",
       "      <td>25.72</td>\n",
       "      <td>[1.49, 3.88, -0.25, 4.01, 4.01, 4.01, 8.56]</td>\n",
       "      <td>175.41</td>\n",
       "      <td>[15.69, 27.26, 15.69, 29.73, 27.26, 27.26, 32.55]</td>\n",
       "    </tr>\n",
       "  </tbody>\n",
       "</table>\n",
       "</div>"
      ],
      "text/plain": [
       "   CUS_N_KEY_CUSTOMER  SCM_N_ORDER_NR_len  \\\n",
       "0             1024867                   8   \n",
       "1             1119747                   2   \n",
       "2             1139016                   5   \n",
       "3             1158470                   3   \n",
       "4             1170395                   2   \n",
       "5             1170897                   5   \n",
       "6             1218191                   1   \n",
       "7             1262239                  14   \n",
       "8             1361081                   2   \n",
       "9             1372538                   7   \n",
       "\n",
       "                           TDT_T_KEY_ORDER_DATE_list  SCM_SALES_BMF_sum  \\\n",
       "0  [2017-04-12, 2017-05-13, 2017-06-09, 2017-08-1...             525.76   \n",
       "1                           [2015-10-08, 2016-05-24]              76.92   \n",
       "2  [2016-06-14, 2017-04-19, 2017-05-18, 2017-09-2...             580.50   \n",
       "3               [2016-02-14, 2016-10-01, 2017-01-22]             119.14   \n",
       "4                           [2016-04-06, 2016-05-12]              72.97   \n",
       "5  [2016-06-15, 2016-09-12, 2017-01-30, 2017-08-1...             171.34   \n",
       "6                                       [2016-03-15]              17.47   \n",
       "7  [2016-03-02, 2016-04-20, 2016-07-24, 2016-11-2...             841.81   \n",
       "8                           [2015-12-14, 2016-01-29]              99.68   \n",
       "9  [2016-02-15, 2016-02-29, 2016-05-25, 2016-07-2...             212.25   \n",
       "\n",
       "                                  SCM_SALES_BMF_list  SCM_D_FINANCE_CM1_sum  \\\n",
       "0  [121.09, 51.97, 69.87, 63.26, 55.07, 45.98, 68...                 162.18   \n",
       "1                                     [37.95, 38.97]                  29.55   \n",
       "2             [161.43, 116.13, 97.98, 169.97, 34.99]                 192.00   \n",
       "3                               [56.16, 40.0, 22.98]                  41.26   \n",
       "4                                     [22.98, 49.99]                  29.36   \n",
       "5                [19.42, 37.98, 37.98, 37.98, 37.98]                  40.70   \n",
       "6                                            [17.47]                   8.70   \n",
       "7  [62.15, 103.78, 103.78, 56.25, 54.3, 51.4, 53....                 159.80   \n",
       "8                                     [49.89, 49.79]                  12.92   \n",
       "9  [18.98, 32.98, 18.98, 35.97, 32.98, 32.98, 39.38]                  64.13   \n",
       "\n",
       "                              SCM_D_FINANCE_CM1_list  SCM_D_FINANCE_CM2_sum  \\\n",
       "0  [39.8, 20.13, 23.27, 19.58, 13.47, 12.66, 18.2...                 111.47   \n",
       "1                                     [15.47, 14.08]                  18.89   \n",
       "2                [56.49, 38.07, 41.67, 44.94, 10.84]                 144.80   \n",
       "3                              [15.55, 14.03, 11.68]                  23.21   \n",
       "4                                     [10.17, 19.18]                  17.52   \n",
       "5                     [4.47, 8.19, 8.23, 9.91, 9.91]                  -7.32   \n",
       "6                                              [8.7]                   3.63   \n",
       "7  [15.76, 18.19, 18.61, 14.3, 11.95, 8.71, 7.01,...                  60.85   \n",
       "8                                        [8.2, 4.72]                   1.25   \n",
       "9         [6.56, 9.0, 6.58, 9.48, 9.14, 9.14, 14.26]                  25.72   \n",
       "\n",
       "                              SCM_D_FINANCE_CM2_list  \\\n",
       "0  [28.36, 14.74, 17.65, 14.26, 8.28, 5.76, 13.41...   \n",
       "1                                        [9.99, 8.9]   \n",
       "2                 [42.39, 26.14, 36.04, 34.26, 5.97]   \n",
       "3                                 [8.34, 8.15, 6.72]   \n",
       "4                                       [5.01, 12.5]   \n",
       "5                 [-1.1, -2.95, -2.21, -0.53, -0.53]   \n",
       "6                                             [3.63]   \n",
       "7  [8.87, 5.59, 6.01, 8.0, 5.36, 2.13, -0.36, 3.3...   \n",
       "8                                      [2.11, -0.86]   \n",
       "9        [1.49, 3.88, -0.25, 4.01, 4.01, 4.01, 8.56]   \n",
       "\n",
       "   SCM_D_ORIG_FINANCE_ORDER_NET_sum  \\\n",
       "0                            434.51   \n",
       "1                             63.57   \n",
       "2                            479.75   \n",
       "3                             98.46   \n",
       "4                             60.31   \n",
       "5                            141.60   \n",
       "6                             14.44   \n",
       "7                            695.71   \n",
       "8                             82.38   \n",
       "9                            175.41   \n",
       "\n",
       "                   SCM_D_ORIG_FINANCE_ORDER_NET_list  \n",
       "0  [100.07, 42.95, 57.74, 52.28, 45.51, 38.0, 56....  \n",
       "1                                     [31.36, 32.21]  \n",
       "2              [133.41, 95.98, 80.98, 140.47, 28.92]  \n",
       "3                              [46.41, 33.06, 18.99]  \n",
       "4                                     [18.99, 41.31]  \n",
       "5                [16.05, 31.39, 31.39, 31.39, 31.39]  \n",
       "6                                            [14.44]  \n",
       "7  [51.36, 85.77, 85.77, 46.49, 44.88, 42.48, 44....  \n",
       "8                                     [41.23, 41.15]  \n",
       "9  [15.69, 27.26, 15.69, 29.73, 27.26, 27.26, 32.55]  "
      ]
     },
     "execution_count": 3,
     "metadata": {},
     "output_type": "execute_result"
    }
   ],
   "source": [
    "customers.head(10)[customers.columns[:11]]"
   ]
  },
  {
   "cell_type": "code",
   "execution_count": 4,
   "metadata": {
    "ExecuteTime": {
     "end_time": "2018-11-26T07:41:01.447998Z",
     "start_time": "2018-11-26T07:41:01.312066Z"
    }
   },
   "outputs": [
    {
     "data": {
      "text/html": [
       "<div>\n",
       "<style scoped>\n",
       "    .dataframe tbody tr th:only-of-type {\n",
       "        vertical-align: middle;\n",
       "    }\n",
       "\n",
       "    .dataframe tbody tr th {\n",
       "        vertical-align: top;\n",
       "    }\n",
       "\n",
       "    .dataframe thead th {\n",
       "        text-align: right;\n",
       "    }\n",
       "</style>\n",
       "<table border=\"1\" class=\"dataframe\">\n",
       "  <thead>\n",
       "    <tr style=\"text-align: right;\">\n",
       "      <th></th>\n",
       "      <th>OSP_KO_COUNT_NET_list</th>\n",
       "      <th>SCM_MASTER_AP_ID_list</th>\n",
       "      <th>CZP_ZTQ_ID</th>\n",
       "      <th>CZP_START_DATE</th>\n",
       "      <th>CZP_EXPIRY_DATE</th>\n",
       "      <th>PG3_AGGSALES</th>\n",
       "      <th>PG4_AGGSALES</th>\n",
       "      <th>BRAND_AGGSALES</th>\n",
       "      <th>SP_PURCHASE</th>\n",
       "    </tr>\n",
       "  </thead>\n",
       "  <tbody>\n",
       "    <tr>\n",
       "      <th>0</th>\n",
       "      <td>[1, 2, 3, 4, 5, 6, 7, 8]</td>\n",
       "      <td>[[60605, 45361, 68204, 65466, 65466, 71502, 52...</td>\n",
       "      <td>[nan, nan, 53.0, nan]</td>\n",
       "      <td>[nan, 2017-08-10]</td>\n",
       "      <td>[nan, 2018-08-10]</td>\n",
       "      <td>[[(23, 75.99), (2068, 41.99), (252, 3.11)], [(...</td>\n",
       "      <td>[[(49727, 75.99), (2632, 18.86), (2074, 16.14)...</td>\n",
       "      <td>[[(Kratztonnen, 75.99), (★ Cosma, 18.86), (Iam...</td>\n",
       "      <td>[False, False, False, True, False, False, Fals...</td>\n",
       "    </tr>\n",
       "    <tr>\n",
       "      <th>1</th>\n",
       "      <td>[1, 2]</td>\n",
       "      <td>[[15149, 66279, 53903, 35837, 51227], [67420, ...</td>\n",
       "      <td>[nan, nan]</td>\n",
       "      <td>[nan]</td>\n",
       "      <td>[nan]</td>\n",
       "      <td>[[(20, 19.96), (15, 17.99)], [(15, 29.99), (20...</td>\n",
       "      <td>[[(16637, 17.99), (465, 13.98), (96500, 3.49),...</td>\n",
       "      <td>[[(Schleppleine &amp; Feldleine, 17.99), (KONG, 13...</td>\n",
       "      <td>[False, False]</td>\n",
       "    </tr>\n",
       "    <tr>\n",
       "      <th>2</th>\n",
       "      <td>[1, 2, 3, 4, 5]</td>\n",
       "      <td>[[62058, 54201, 64916, 19608, 62710, 68333], [...</td>\n",
       "      <td>[nan, nan, nan, nan, nan]</td>\n",
       "      <td>[nan]</td>\n",
       "      <td>[nan]</td>\n",
       "      <td>[[(252, 84.99), (36, 37.46), (221, 28.99), (98...</td>\n",
       "      <td>[[(35824, 84.99), (1343, 28.99), (136, 21.47),...</td>\n",
       "      <td>[[(Taste of the Wild, 84.99), (Papageienfutter...</td>\n",
       "      <td>[False, False, False, False, False]</td>\n",
       "    </tr>\n",
       "    <tr>\n",
       "      <th>3</th>\n",
       "      <td>[1, 2, 3]</td>\n",
       "      <td>[[27430, 6169, 28021, 37549], [28066, 28026, 2...</td>\n",
       "      <td>[nan, nan, nan]</td>\n",
       "      <td>[nan]</td>\n",
       "      <td>[nan]</td>\n",
       "      <td>[[(9, 34.99), (857, 21.64), (18, 2.49), (0, -2...</td>\n",
       "      <td>[[(30936, 34.99), (6530, 21.64), (104, 2.49), ...</td>\n",
       "      <td>[[(Gesundheitsbetten, 34.99), (★ Rocco, 21.64)...</td>\n",
       "      <td>[False, False, False]</td>\n",
       "    </tr>\n",
       "    <tr>\n",
       "      <th>4</th>\n",
       "      <td>[1, 2]</td>\n",
       "      <td>[[6168, 64466], [68240]]</td>\n",
       "      <td>[nan, nan]</td>\n",
       "      <td>[nan]</td>\n",
       "      <td>[nan]</td>\n",
       "      <td>[[(9, 19.99), (0, 2.99)], [(23, 49.99)]]</td>\n",
       "      <td>[[(97768, 19.99), (0, 2.99)], [(49727, 49.99)]]</td>\n",
       "      <td>[[(Hundebetten, 19.99), (nan, 0)], [(Kratztonn...</td>\n",
       "      <td>[False, False]</td>\n",
       "    </tr>\n",
       "    <tr>\n",
       "      <th>5</th>\n",
       "      <td>[1, 2, 3, 4, 5]</td>\n",
       "      <td>[[6168, 6169, 67186], [67186, 67186], [67186, ...</td>\n",
       "      <td>[nan, nan, nan, nan, nan]</td>\n",
       "      <td>[nan]</td>\n",
       "      <td>[nan]</td>\n",
       "      <td>[[(301, 17.29), (0, 2.13)], [(301, 37.98)], [(...</td>\n",
       "      <td>[[(302, 17.29), (0, 2.13)], [(302, 37.98)], [(...</td>\n",
       "      <td>[[(Catsan, 17.29), (nan, 0)], [(Catsan, 37.98)...</td>\n",
       "      <td>[False, False, False, False, False]</td>\n",
       "    </tr>\n",
       "    <tr>\n",
       "      <th>6</th>\n",
       "      <td>[1]</td>\n",
       "      <td>[[37868, 12458, 6168]]</td>\n",
       "      <td>[nan]</td>\n",
       "      <td>[nan]</td>\n",
       "      <td>[nan]</td>\n",
       "      <td>[[(409, 7.99), (401, 6.49), (0, 2.99)]]</td>\n",
       "      <td>[[(2230, 7.99), (1084, 6.49), (0, 2.99)]]</td>\n",
       "      <td>[[(Schermaschinen, 7.99), (Kräcker &amp;  Gebacken...</td>\n",
       "      <td>[False]</td>\n",
       "    </tr>\n",
       "    <tr>\n",
       "      <th>7</th>\n",
       "      <td>[1, 2, 3, 4, 5, 6, 7, 8, 9, 10, 11, 12, 13, 14]</td>\n",
       "      <td>[[61100, 5482, 42715, 42225, 26911], [42715, 6...</td>\n",
       "      <td>[51.0, 55.0]</td>\n",
       "      <td>[2017-01-23, 2018-04-03, 2016-03-02]</td>\n",
       "      <td>[2018-03-02, 2017-01-23, 2019-04-03]</td>\n",
       "      <td>[[(251, 57.99), (18, 4.49), (48963, 2.9), (0, ...</td>\n",
       "      <td>[[(682, 57.99), (1441, 4.49), (0, -0.33)], [(6...</td>\n",
       "      <td>[[(Royal Canin Size, 57.99), (Fleischstreifen ...</td>\n",
       "      <td>[True, False, False, False, True, False, False...</td>\n",
       "    </tr>\n",
       "    <tr>\n",
       "      <th>8</th>\n",
       "      <td>[1, 2]</td>\n",
       "      <td>[[30306], [61072, 61072]]</td>\n",
       "      <td>[nan, nan]</td>\n",
       "      <td>[nan]</td>\n",
       "      <td>[nan]</td>\n",
       "      <td>[[(251, 49.89)], [(251, 47.93), (9, 1.86)]]</td>\n",
       "      <td>[[(682, 49.89)], [(682, 47.93), (74, 1.86)]]</td>\n",
       "      <td>[[(Royal Canin Size, 49.89)], [(Royal Canin Si...</td>\n",
       "      <td>[False, False]</td>\n",
       "    </tr>\n",
       "    <tr>\n",
       "      <th>9</th>\n",
       "      <td>[1, 2, 3, 4, 5, 6, 7]</td>\n",
       "      <td>[[66053, 6168], [6168, 66053], [66053, 6168], ...</td>\n",
       "      <td>[nan, nan, nan, nan, nan, nan, 53.0]</td>\n",
       "      <td>[nan, 2016-10-12]</td>\n",
       "      <td>[nan, 2017-10-12]</td>\n",
       "      <td>[[(251, 15.99), (0, 2.99)], [(251, 29.99), (0,...</td>\n",
       "      <td>[[(283, 15.99), (0, 2.99)], [(283, 29.99), (0,...</td>\n",
       "      <td>[[(Pro Plan, 15.99), (nan, 0)], [(Pro Plan, 29...</td>\n",
       "      <td>[False, False, False, False, False, False, True]</td>\n",
       "    </tr>\n",
       "  </tbody>\n",
       "</table>\n",
       "</div>"
      ],
      "text/plain": [
       "                             OSP_KO_COUNT_NET_list  \\\n",
       "0                         [1, 2, 3, 4, 5, 6, 7, 8]   \n",
       "1                                           [1, 2]   \n",
       "2                                  [1, 2, 3, 4, 5]   \n",
       "3                                        [1, 2, 3]   \n",
       "4                                           [1, 2]   \n",
       "5                                  [1, 2, 3, 4, 5]   \n",
       "6                                              [1]   \n",
       "7  [1, 2, 3, 4, 5, 6, 7, 8, 9, 10, 11, 12, 13, 14]   \n",
       "8                                           [1, 2]   \n",
       "9                            [1, 2, 3, 4, 5, 6, 7]   \n",
       "\n",
       "                               SCM_MASTER_AP_ID_list  \\\n",
       "0  [[60605, 45361, 68204, 65466, 65466, 71502, 52...   \n",
       "1  [[15149, 66279, 53903, 35837, 51227], [67420, ...   \n",
       "2  [[62058, 54201, 64916, 19608, 62710, 68333], [...   \n",
       "3  [[27430, 6169, 28021, 37549], [28066, 28026, 2...   \n",
       "4                           [[6168, 64466], [68240]]   \n",
       "5  [[6168, 6169, 67186], [67186, 67186], [67186, ...   \n",
       "6                             [[37868, 12458, 6168]]   \n",
       "7  [[61100, 5482, 42715, 42225, 26911], [42715, 6...   \n",
       "8                          [[30306], [61072, 61072]]   \n",
       "9  [[66053, 6168], [6168, 66053], [66053, 6168], ...   \n",
       "\n",
       "                             CZP_ZTQ_ID                        CZP_START_DATE  \\\n",
       "0                 [nan, nan, 53.0, nan]                     [nan, 2017-08-10]   \n",
       "1                            [nan, nan]                                 [nan]   \n",
       "2             [nan, nan, nan, nan, nan]                                 [nan]   \n",
       "3                       [nan, nan, nan]                                 [nan]   \n",
       "4                            [nan, nan]                                 [nan]   \n",
       "5             [nan, nan, nan, nan, nan]                                 [nan]   \n",
       "6                                 [nan]                                 [nan]   \n",
       "7                          [51.0, 55.0]  [2017-01-23, 2018-04-03, 2016-03-02]   \n",
       "8                            [nan, nan]                                 [nan]   \n",
       "9  [nan, nan, nan, nan, nan, nan, 53.0]                     [nan, 2016-10-12]   \n",
       "\n",
       "                        CZP_EXPIRY_DATE  \\\n",
       "0                     [nan, 2018-08-10]   \n",
       "1                                 [nan]   \n",
       "2                                 [nan]   \n",
       "3                                 [nan]   \n",
       "4                                 [nan]   \n",
       "5                                 [nan]   \n",
       "6                                 [nan]   \n",
       "7  [2018-03-02, 2017-01-23, 2019-04-03]   \n",
       "8                                 [nan]   \n",
       "9                     [nan, 2017-10-12]   \n",
       "\n",
       "                                        PG3_AGGSALES  \\\n",
       "0  [[(23, 75.99), (2068, 41.99), (252, 3.11)], [(...   \n",
       "1  [[(20, 19.96), (15, 17.99)], [(15, 29.99), (20...   \n",
       "2  [[(252, 84.99), (36, 37.46), (221, 28.99), (98...   \n",
       "3  [[(9, 34.99), (857, 21.64), (18, 2.49), (0, -2...   \n",
       "4           [[(9, 19.99), (0, 2.99)], [(23, 49.99)]]   \n",
       "5  [[(301, 17.29), (0, 2.13)], [(301, 37.98)], [(...   \n",
       "6            [[(409, 7.99), (401, 6.49), (0, 2.99)]]   \n",
       "7  [[(251, 57.99), (18, 4.49), (48963, 2.9), (0, ...   \n",
       "8        [[(251, 49.89)], [(251, 47.93), (9, 1.86)]]   \n",
       "9  [[(251, 15.99), (0, 2.99)], [(251, 29.99), (0,...   \n",
       "\n",
       "                                        PG4_AGGSALES  \\\n",
       "0  [[(49727, 75.99), (2632, 18.86), (2074, 16.14)...   \n",
       "1  [[(16637, 17.99), (465, 13.98), (96500, 3.49),...   \n",
       "2  [[(35824, 84.99), (1343, 28.99), (136, 21.47),...   \n",
       "3  [[(30936, 34.99), (6530, 21.64), (104, 2.49), ...   \n",
       "4    [[(97768, 19.99), (0, 2.99)], [(49727, 49.99)]]   \n",
       "5  [[(302, 17.29), (0, 2.13)], [(302, 37.98)], [(...   \n",
       "6          [[(2230, 7.99), (1084, 6.49), (0, 2.99)]]   \n",
       "7  [[(682, 57.99), (1441, 4.49), (0, -0.33)], [(6...   \n",
       "8       [[(682, 49.89)], [(682, 47.93), (74, 1.86)]]   \n",
       "9  [[(283, 15.99), (0, 2.99)], [(283, 29.99), (0,...   \n",
       "\n",
       "                                      BRAND_AGGSALES  \\\n",
       "0  [[(Kratztonnen, 75.99), (★ Cosma, 18.86), (Iam...   \n",
       "1  [[(Schleppleine & Feldleine, 17.99), (KONG, 13...   \n",
       "2  [[(Taste of the Wild, 84.99), (Papageienfutter...   \n",
       "3  [[(Gesundheitsbetten, 34.99), (★ Rocco, 21.64)...   \n",
       "4  [[(Hundebetten, 19.99), (nan, 0)], [(Kratztonn...   \n",
       "5  [[(Catsan, 17.29), (nan, 0)], [(Catsan, 37.98)...   \n",
       "6  [[(Schermaschinen, 7.99), (Kräcker &  Gebacken...   \n",
       "7  [[(Royal Canin Size, 57.99), (Fleischstreifen ...   \n",
       "8  [[(Royal Canin Size, 49.89)], [(Royal Canin Si...   \n",
       "9  [[(Pro Plan, 15.99), (nan, 0)], [(Pro Plan, 29...   \n",
       "\n",
       "                                         SP_PURCHASE  \n",
       "0  [False, False, False, True, False, False, Fals...  \n",
       "1                                     [False, False]  \n",
       "2                [False, False, False, False, False]  \n",
       "3                              [False, False, False]  \n",
       "4                                     [False, False]  \n",
       "5                [False, False, False, False, False]  \n",
       "6                                            [False]  \n",
       "7  [True, False, False, False, True, False, False...  \n",
       "8                                     [False, False]  \n",
       "9   [False, False, False, False, False, False, True]  "
      ]
     },
     "execution_count": 4,
     "metadata": {},
     "output_type": "execute_result"
    }
   ],
   "source": [
    "customers.head(10)[customers.columns[11:20]]"
   ]
  },
  {
   "cell_type": "code",
   "execution_count": 5,
   "metadata": {
    "ExecuteTime": {
     "end_time": "2018-11-26T07:41:03.132141Z",
     "start_time": "2018-11-26T07:41:03.015200Z"
    },
    "scrolled": false
   },
   "outputs": [
    {
     "data": {
      "text/html": [
       "<div>\n",
       "<style scoped>\n",
       "    .dataframe tbody tr th:only-of-type {\n",
       "        vertical-align: middle;\n",
       "    }\n",
       "\n",
       "    .dataframe tbody tr th {\n",
       "        vertical-align: top;\n",
       "    }\n",
       "\n",
       "    .dataframe thead th {\n",
       "        text-align: right;\n",
       "    }\n",
       "</style>\n",
       "<table border=\"1\" class=\"dataframe\">\n",
       "  <thead>\n",
       "    <tr style=\"text-align: right;\">\n",
       "      <th></th>\n",
       "      <th>SP_DISC</th>\n",
       "      <th>D28</th>\n",
       "      <th>D56</th>\n",
       "      <th>D84</th>\n",
       "      <th>D168</th>\n",
       "      <th>D252</th>\n",
       "      <th>D336</th>\n",
       "      <th>O_TIMEDELTAS</th>\n",
       "      <th>FLAT_PG3_SALES</th>\n",
       "      <th>FLAT_PG4_SALES</th>\n",
       "      <th>FLAT_BRAND_SALES</th>\n",
       "      <th>TOTAL_PG3_SALES</th>\n",
       "      <th>TOTAL_PG4_SALES</th>\n",
       "      <th>TOTAL_BRAND_SALES</th>\n",
       "    </tr>\n",
       "  </thead>\n",
       "  <tbody>\n",
       "    <tr>\n",
       "      <th>0</th>\n",
       "      <td>[False, False, False, True, True, True, True, ...</td>\n",
       "      <td>2017-05-10</td>\n",
       "      <td>2017-06-07</td>\n",
       "      <td>2017-07-05</td>\n",
       "      <td>2017-09-27</td>\n",
       "      <td>2017-12-20</td>\n",
       "      <td>2018-03-14</td>\n",
       "      <td>[31, 27, 62, 80, 50, 60, 67]</td>\n",
       "      <td>[(23, 75.99), (2068, 41.99), (252, 3.11), (206...</td>\n",
       "      <td>[(49727, 75.99), (2632, 18.86), (2074, 16.14),...</td>\n",
       "      <td>[(Kratztonnen, 75.99), (★ Cosma, 18.86), (Iams...</td>\n",
       "      <td>[(2068, 450.47), (23, 75.99), (34, 7.45), (489...</td>\n",
       "      <td>[(2632, 352.94), (49727, 75.99), (2074, 50.1),...</td>\n",
       "      <td>[(★ Cosma, 352.94), (Kratztonnen, 75.99), (Iam...</td>\n",
       "    </tr>\n",
       "    <tr>\n",
       "      <th>1</th>\n",
       "      <td>[False, False]</td>\n",
       "      <td>2015-11-05</td>\n",
       "      <td>2015-12-03</td>\n",
       "      <td>2015-12-31</td>\n",
       "      <td>2016-03-24</td>\n",
       "      <td>2016-06-16</td>\n",
       "      <td>2016-09-08</td>\n",
       "      <td>[229]</td>\n",
       "      <td>[(20, 19.96), (15, 17.99), (15, 29.99), (20, 8...</td>\n",
       "      <td>[(16637, 17.99), (465, 13.98), (96500, 3.49), ...</td>\n",
       "      <td>[(Schleppleine &amp; Feldleine, 17.99), (KONG, 13....</td>\n",
       "      <td>[(15, 47.98), (20, 28.94)]</td>\n",
       "      <td>[(16637, 47.98), (465, 13.98), (96500, 12.47),...</td>\n",
       "      <td>[(Schleppleine &amp; Feldleine, 47.98), (KONG, 13....</td>\n",
       "    </tr>\n",
       "    <tr>\n",
       "      <th>2</th>\n",
       "      <td>[False, False, False, False, False]</td>\n",
       "      <td>2016-07-12</td>\n",
       "      <td>2016-08-09</td>\n",
       "      <td>2016-09-06</td>\n",
       "      <td>2016-11-29</td>\n",
       "      <td>2017-02-21</td>\n",
       "      <td>2017-05-16</td>\n",
       "      <td>[309, 29, 131, 225]</td>\n",
       "      <td>[(252, 84.99), (36, 37.46), (221, 28.99), (988...</td>\n",
       "      <td>[(35824, 84.99), (1343, 28.99), (136, 21.47), ...</td>\n",
       "      <td>[(Taste of the Wild, 84.99), (Papageienfutter,...</td>\n",
       "      <td>[(252, 204.97), (251, 198.51), (221, 63.98), (...</td>\n",
       "      <td>[(180361, 198.51), (35824, 84.99), (256, 69.99...</td>\n",
       "      <td>[(★ Wolf of Wilderness, 207.96), (Taste of the...</td>\n",
       "    </tr>\n",
       "    <tr>\n",
       "      <th>3</th>\n",
       "      <td>[False, False, False]</td>\n",
       "      <td>2016-03-13</td>\n",
       "      <td>2016-04-10</td>\n",
       "      <td>2016-05-08</td>\n",
       "      <td>2016-07-31</td>\n",
       "      <td>2016-10-23</td>\n",
       "      <td>2017-01-15</td>\n",
       "      <td>[230, 113]</td>\n",
       "      <td>[(9, 34.99), (857, 21.64), (18, 2.49), (0, -2....</td>\n",
       "      <td>[(30936, 34.99), (6530, 21.64), (104, 2.49), (...</td>\n",
       "      <td>[(Gesundheitsbetten, 34.99), (★ Rocco, 21.64),...</td>\n",
       "      <td>[(9, 56.47), (857, 37.87), (40023, 19.99), (18...</td>\n",
       "      <td>[(6530, 37.87), (30936, 34.99), (43280, 19.99)...</td>\n",
       "      <td>[(★ Rocco, 37.87), (Gesundheitsbetten, 34.99),...</td>\n",
       "    </tr>\n",
       "    <tr>\n",
       "      <th>4</th>\n",
       "      <td>[False, False]</td>\n",
       "      <td>2016-05-04</td>\n",
       "      <td>2016-06-01</td>\n",
       "      <td>2016-06-29</td>\n",
       "      <td>2016-09-21</td>\n",
       "      <td>2016-12-14</td>\n",
       "      <td>2017-03-08</td>\n",
       "      <td>[36]</td>\n",
       "      <td>[(9, 19.99), (0, 2.99), (23, 49.99)]</td>\n",
       "      <td>[(97768, 19.99), (0, 2.99), (49727, 49.99)]</td>\n",
       "      <td>[(Hundebetten, 19.99), (nan, 0), (Kratztonnen,...</td>\n",
       "      <td>[(23, 49.99), (9, 19.99), (0, 2.99)]</td>\n",
       "      <td>[(49727, 49.99), (97768, 19.99), (0, 2.99)]</td>\n",
       "      <td>[(Kratztonnen, 49.99), (Hundebetten, 19.99), (...</td>\n",
       "    </tr>\n",
       "    <tr>\n",
       "      <th>5</th>\n",
       "      <td>[False, False, False, False, False]</td>\n",
       "      <td>2016-07-13</td>\n",
       "      <td>2016-08-10</td>\n",
       "      <td>2016-09-07</td>\n",
       "      <td>2016-11-30</td>\n",
       "      <td>2017-02-22</td>\n",
       "      <td>2017-05-17</td>\n",
       "      <td>[89, 140, 193, 121]</td>\n",
       "      <td>[(301, 17.29), (0, 2.13), (301, 37.98), (301, ...</td>\n",
       "      <td>[(302, 17.29), (0, 2.13), (302, 37.98), (302, ...</td>\n",
       "      <td>[(Catsan, 17.29), (nan, 0), (Catsan, 37.98), (...</td>\n",
       "      <td>[(301, 169.21), (0, 2.13)]</td>\n",
       "      <td>[(302, 169.21), (0, 2.13)]</td>\n",
       "      <td>[(Catsan, 169.21), (nan, 0)]</td>\n",
       "    </tr>\n",
       "    <tr>\n",
       "      <th>6</th>\n",
       "      <td>[False]</td>\n",
       "      <td>2016-04-12</td>\n",
       "      <td>2016-05-10</td>\n",
       "      <td>2016-06-07</td>\n",
       "      <td>2016-08-30</td>\n",
       "      <td>2016-11-22</td>\n",
       "      <td>2017-02-14</td>\n",
       "      <td>[]</td>\n",
       "      <td>[(409, 7.99), (401, 6.49), (0, 2.99)]</td>\n",
       "      <td>[(2230, 7.99), (1084, 6.49), (0, 2.99)]</td>\n",
       "      <td>[(Schermaschinen, 7.99), (Kräcker &amp;  Gebackene...</td>\n",
       "      <td>[(409, 7.99), (401, 6.49), (0, 2.99)]</td>\n",
       "      <td>[(2230, 7.99), (1084, 6.49), (0, 2.99)]</td>\n",
       "      <td>[(Schermaschinen, 7.99), (Kräcker &amp;  Gebackene...</td>\n",
       "    </tr>\n",
       "    <tr>\n",
       "      <th>7</th>\n",
       "      <td>[True, True, True, True, True, True, True, Tru...</td>\n",
       "      <td>2016-03-30</td>\n",
       "      <td>2016-04-27</td>\n",
       "      <td>2016-05-25</td>\n",
       "      <td>2016-08-17</td>\n",
       "      <td>2016-11-09</td>\n",
       "      <td>2017-02-01</td>\n",
       "      <td>[49, 95, 127, 56, 40, 115, 77, 53, 54, 14, 31,...</td>\n",
       "      <td>[(251, 57.99), (18, 4.49), (48963, 2.9), (0, -...</td>\n",
       "      <td>[(682, 57.99), (1441, 4.49), (0, -0.33), (682,...</td>\n",
       "      <td>[(Royal Canin Size, 57.99), (Fleischstreifen &amp;...</td>\n",
       "      <td>[(251, 816.89), (18, 43.41), (48963, 8.88), (0...</td>\n",
       "      <td>[(682, 710.91), (17798, 105.98), (104, 29.95),...</td>\n",
       "      <td>[(Royal Canin Size, 710.91), (Royal Canin Bree...</td>\n",
       "    </tr>\n",
       "    <tr>\n",
       "      <th>8</th>\n",
       "      <td>[False, False]</td>\n",
       "      <td>2016-01-11</td>\n",
       "      <td>2016-02-08</td>\n",
       "      <td>2016-03-07</td>\n",
       "      <td>2016-05-30</td>\n",
       "      <td>2016-08-22</td>\n",
       "      <td>2016-11-14</td>\n",
       "      <td>[46]</td>\n",
       "      <td>[(251, 49.89), (251, 47.93), (9, 1.86)]</td>\n",
       "      <td>[(682, 49.89), (682, 47.93), (74, 1.86)]</td>\n",
       "      <td>[(Royal Canin Size, 49.89), (Royal Canin Size,...</td>\n",
       "      <td>[(251, 97.82), (9, 1.86)]</td>\n",
       "      <td>[(682, 97.82), (74, 1.86)]</td>\n",
       "      <td>[(Royal Canin Size, 97.82), (Hundedecken, 1.86)]</td>\n",
       "    </tr>\n",
       "    <tr>\n",
       "      <th>9</th>\n",
       "      <td>[False, False, False, False, False, False, True]</td>\n",
       "      <td>2016-03-14</td>\n",
       "      <td>2016-04-11</td>\n",
       "      <td>2016-05-09</td>\n",
       "      <td>2016-08-01</td>\n",
       "      <td>2016-10-24</td>\n",
       "      <td>2017-01-16</td>\n",
       "      <td>[14, 86, 59, 44, 37, 0]</td>\n",
       "      <td>[(251, 15.99), (0, 2.99), (251, 29.99), (0, 2....</td>\n",
       "      <td>[(283, 15.99), (0, 2.99), (283, 29.99), (0, 2....</td>\n",
       "      <td>[(Pro Plan, 15.99), (nan, 0), (Pro Plan, 29.99...</td>\n",
       "      <td>[(251, 154.93), (18, 32.48), (0, 15.87), (4896...</td>\n",
       "      <td>[(283, 154.93), (0, 20.86), (101, 17.49), (250...</td>\n",
       "      <td>[(Pro Plan, 154.93), (Kauknochen &amp; Kaurollen, ...</td>\n",
       "    </tr>\n",
       "  </tbody>\n",
       "</table>\n",
       "</div>"
      ],
      "text/plain": [
       "                                             SP_DISC        D28        D56  \\\n",
       "0  [False, False, False, True, True, True, True, ... 2017-05-10 2017-06-07   \n",
       "1                                     [False, False] 2015-11-05 2015-12-03   \n",
       "2                [False, False, False, False, False] 2016-07-12 2016-08-09   \n",
       "3                              [False, False, False] 2016-03-13 2016-04-10   \n",
       "4                                     [False, False] 2016-05-04 2016-06-01   \n",
       "5                [False, False, False, False, False] 2016-07-13 2016-08-10   \n",
       "6                                            [False] 2016-04-12 2016-05-10   \n",
       "7  [True, True, True, True, True, True, True, Tru... 2016-03-30 2016-04-27   \n",
       "8                                     [False, False] 2016-01-11 2016-02-08   \n",
       "9   [False, False, False, False, False, False, True] 2016-03-14 2016-04-11   \n",
       "\n",
       "         D84       D168       D252       D336  \\\n",
       "0 2017-07-05 2017-09-27 2017-12-20 2018-03-14   \n",
       "1 2015-12-31 2016-03-24 2016-06-16 2016-09-08   \n",
       "2 2016-09-06 2016-11-29 2017-02-21 2017-05-16   \n",
       "3 2016-05-08 2016-07-31 2016-10-23 2017-01-15   \n",
       "4 2016-06-29 2016-09-21 2016-12-14 2017-03-08   \n",
       "5 2016-09-07 2016-11-30 2017-02-22 2017-05-17   \n",
       "6 2016-06-07 2016-08-30 2016-11-22 2017-02-14   \n",
       "7 2016-05-25 2016-08-17 2016-11-09 2017-02-01   \n",
       "8 2016-03-07 2016-05-30 2016-08-22 2016-11-14   \n",
       "9 2016-05-09 2016-08-01 2016-10-24 2017-01-16   \n",
       "\n",
       "                                        O_TIMEDELTAS  \\\n",
       "0                       [31, 27, 62, 80, 50, 60, 67]   \n",
       "1                                              [229]   \n",
       "2                                [309, 29, 131, 225]   \n",
       "3                                         [230, 113]   \n",
       "4                                               [36]   \n",
       "5                                [89, 140, 193, 121]   \n",
       "6                                                 []   \n",
       "7  [49, 95, 127, 56, 40, 115, 77, 53, 54, 14, 31,...   \n",
       "8                                               [46]   \n",
       "9                            [14, 86, 59, 44, 37, 0]   \n",
       "\n",
       "                                      FLAT_PG3_SALES  \\\n",
       "0  [(23, 75.99), (2068, 41.99), (252, 3.11), (206...   \n",
       "1  [(20, 19.96), (15, 17.99), (15, 29.99), (20, 8...   \n",
       "2  [(252, 84.99), (36, 37.46), (221, 28.99), (988...   \n",
       "3  [(9, 34.99), (857, 21.64), (18, 2.49), (0, -2....   \n",
       "4               [(9, 19.99), (0, 2.99), (23, 49.99)]   \n",
       "5  [(301, 17.29), (0, 2.13), (301, 37.98), (301, ...   \n",
       "6              [(409, 7.99), (401, 6.49), (0, 2.99)]   \n",
       "7  [(251, 57.99), (18, 4.49), (48963, 2.9), (0, -...   \n",
       "8            [(251, 49.89), (251, 47.93), (9, 1.86)]   \n",
       "9  [(251, 15.99), (0, 2.99), (251, 29.99), (0, 2....   \n",
       "\n",
       "                                      FLAT_PG4_SALES  \\\n",
       "0  [(49727, 75.99), (2632, 18.86), (2074, 16.14),...   \n",
       "1  [(16637, 17.99), (465, 13.98), (96500, 3.49), ...   \n",
       "2  [(35824, 84.99), (1343, 28.99), (136, 21.47), ...   \n",
       "3  [(30936, 34.99), (6530, 21.64), (104, 2.49), (...   \n",
       "4        [(97768, 19.99), (0, 2.99), (49727, 49.99)]   \n",
       "5  [(302, 17.29), (0, 2.13), (302, 37.98), (302, ...   \n",
       "6            [(2230, 7.99), (1084, 6.49), (0, 2.99)]   \n",
       "7  [(682, 57.99), (1441, 4.49), (0, -0.33), (682,...   \n",
       "8           [(682, 49.89), (682, 47.93), (74, 1.86)]   \n",
       "9  [(283, 15.99), (0, 2.99), (283, 29.99), (0, 2....   \n",
       "\n",
       "                                    FLAT_BRAND_SALES  \\\n",
       "0  [(Kratztonnen, 75.99), (★ Cosma, 18.86), (Iams...   \n",
       "1  [(Schleppleine & Feldleine, 17.99), (KONG, 13....   \n",
       "2  [(Taste of the Wild, 84.99), (Papageienfutter,...   \n",
       "3  [(Gesundheitsbetten, 34.99), (★ Rocco, 21.64),...   \n",
       "4  [(Hundebetten, 19.99), (nan, 0), (Kratztonnen,...   \n",
       "5  [(Catsan, 17.29), (nan, 0), (Catsan, 37.98), (...   \n",
       "6  [(Schermaschinen, 7.99), (Kräcker &  Gebackene...   \n",
       "7  [(Royal Canin Size, 57.99), (Fleischstreifen &...   \n",
       "8  [(Royal Canin Size, 49.89), (Royal Canin Size,...   \n",
       "9  [(Pro Plan, 15.99), (nan, 0), (Pro Plan, 29.99...   \n",
       "\n",
       "                                     TOTAL_PG3_SALES  \\\n",
       "0  [(2068, 450.47), (23, 75.99), (34, 7.45), (489...   \n",
       "1                         [(15, 47.98), (20, 28.94)]   \n",
       "2  [(252, 204.97), (251, 198.51), (221, 63.98), (...   \n",
       "3  [(9, 56.47), (857, 37.87), (40023, 19.99), (18...   \n",
       "4               [(23, 49.99), (9, 19.99), (0, 2.99)]   \n",
       "5                         [(301, 169.21), (0, 2.13)]   \n",
       "6              [(409, 7.99), (401, 6.49), (0, 2.99)]   \n",
       "7  [(251, 816.89), (18, 43.41), (48963, 8.88), (0...   \n",
       "8                          [(251, 97.82), (9, 1.86)]   \n",
       "9  [(251, 154.93), (18, 32.48), (0, 15.87), (4896...   \n",
       "\n",
       "                                     TOTAL_PG4_SALES  \\\n",
       "0  [(2632, 352.94), (49727, 75.99), (2074, 50.1),...   \n",
       "1  [(16637, 47.98), (465, 13.98), (96500, 12.47),...   \n",
       "2  [(180361, 198.51), (35824, 84.99), (256, 69.99...   \n",
       "3  [(6530, 37.87), (30936, 34.99), (43280, 19.99)...   \n",
       "4        [(49727, 49.99), (97768, 19.99), (0, 2.99)]   \n",
       "5                         [(302, 169.21), (0, 2.13)]   \n",
       "6            [(2230, 7.99), (1084, 6.49), (0, 2.99)]   \n",
       "7  [(682, 710.91), (17798, 105.98), (104, 29.95),...   \n",
       "8                         [(682, 97.82), (74, 1.86)]   \n",
       "9  [(283, 154.93), (0, 20.86), (101, 17.49), (250...   \n",
       "\n",
       "                                   TOTAL_BRAND_SALES  \n",
       "0  [(★ Cosma, 352.94), (Kratztonnen, 75.99), (Iam...  \n",
       "1  [(Schleppleine & Feldleine, 47.98), (KONG, 13....  \n",
       "2  [(★ Wolf of Wilderness, 207.96), (Taste of the...  \n",
       "3  [(★ Rocco, 37.87), (Gesundheitsbetten, 34.99),...  \n",
       "4  [(Kratztonnen, 49.99), (Hundebetten, 19.99), (...  \n",
       "5                       [(Catsan, 169.21), (nan, 0)]  \n",
       "6  [(Schermaschinen, 7.99), (Kräcker &  Gebackene...  \n",
       "7  [(Royal Canin Size, 710.91), (Royal Canin Bree...  \n",
       "8   [(Royal Canin Size, 97.82), (Hundedecken, 1.86)]  \n",
       "9  [(Pro Plan, 154.93), (Kauknochen & Kaurollen, ...  "
      ]
     },
     "execution_count": 5,
     "metadata": {},
     "output_type": "execute_result"
    }
   ],
   "source": [
    "customers.head(10)[customers.columns[20:]]"
   ]
  },
  {
   "cell_type": "code",
   "execution_count": 6,
   "metadata": {
    "ExecuteTime": {
     "end_time": "2018-11-26T07:41:23.876591Z",
     "start_time": "2018-11-26T07:41:22.174470Z"
    }
   },
   "outputs": [],
   "source": [
    "customers['SP_PY_POS'] = [np.argwhere(i)[0][0] if len(np.argwhere(i)) >= 1 else 999999\n",
    "                          for i in customers['SP_PURCHASE'].values]"
   ]
  },
  {
   "cell_type": "code",
   "execution_count": 7,
   "metadata": {
    "ExecuteTime": {
     "end_time": "2018-11-26T07:41:25.255893Z",
     "start_time": "2018-11-26T07:41:25.129956Z"
    }
   },
   "outputs": [],
   "source": [
    "customers['DAYS_UNTIL_1st_SP'] = [(x[y] - x[0]).days if y != 999999 else None for x, y in list(zip(customers['TDT_T_KEY_ORDER_DATE_list'], \n",
    "                                                                   customers['SP_PY_POS']))]"
   ]
  },
  {
   "cell_type": "code",
   "execution_count": 8,
   "metadata": {
    "ExecuteTime": {
     "end_time": "2018-11-26T07:41:27.295853Z",
     "start_time": "2018-11-26T07:41:27.274864Z"
    }
   },
   "outputs": [
    {
     "data": {
      "text/plain": [
       "count    29135.000000\n",
       "mean       196.786168\n",
       "std        247.885786\n",
       "min          0.000000\n",
       "25%          0.000000\n",
       "50%         75.000000\n",
       "75%        335.000000\n",
       "max       1093.000000\n",
       "Name: DAYS_UNTIL_1st_SP, dtype: float64"
      ]
     },
     "execution_count": 8,
     "metadata": {},
     "output_type": "execute_result"
    }
   ],
   "source": [
    "customers['DAYS_UNTIL_1st_SP'].describe()"
   ]
  },
  {
   "cell_type": "code",
   "execution_count": 9,
   "metadata": {
    "ExecuteTime": {
     "end_time": "2018-11-26T07:41:39.671560Z",
     "start_time": "2018-11-26T07:41:39.581605Z"
    }
   },
   "outputs": [],
   "source": [
    "customers['SP_ORDERS'] = [sum(i) for i in customers['SP_DISC'].values]"
   ]
  },
  {
   "cell_type": "code",
   "execution_count": 10,
   "metadata": {
    "ExecuteTime": {
     "end_time": "2018-11-26T07:41:41.450652Z",
     "start_time": "2018-11-26T07:41:41.448653Z"
    }
   },
   "outputs": [],
   "source": [
    "customers['NO_SP_ORDERS'] = customers['SCM_N_ORDER_NR_len'] - customers['SP_ORDERS']"
   ]
  },
  {
   "cell_type": "code",
   "execution_count": 11,
   "metadata": {
    "ExecuteTime": {
     "end_time": "2018-11-26T07:41:43.282715Z",
     "start_time": "2018-11-26T07:41:43.281715Z"
    }
   },
   "outputs": [
    {
     "data": {
      "text/plain": [
       "datetime.date(2018, 6, 30)"
      ]
     },
     "execution_count": 11,
     "metadata": {},
     "output_type": "execute_result"
    }
   ],
   "source": [
    "last_date_df = datetime.datetime.strptime('30062018', \"%d%m%Y\").date()\n",
    "last_date_df"
   ]
  },
  {
   "cell_type": "code",
   "execution_count": 12,
   "metadata": {
    "ExecuteTime": {
     "end_time": "2018-11-26T07:41:52.933781Z",
     "start_time": "2018-11-26T07:41:52.848824Z"
    }
   },
   "outputs": [],
   "source": [
    "customers['DAYS_IN_DF'] = [(last_date_df - i[0]).days for i in customers['TDT_T_KEY_ORDER_DATE_list'].values]"
   ]
  },
  {
   "cell_type": "code",
   "execution_count": 13,
   "metadata": {
    "ExecuteTime": {
     "end_time": "2018-11-26T07:41:54.246114Z",
     "start_time": "2018-11-26T07:41:54.243115Z"
    }
   },
   "outputs": [],
   "source": [
    "customers['DAYS_AFTER_1st_SP'] = customers['DAYS_IN_DF'] - customers['DAYS_UNTIL_1st_SP']"
   ]
  },
  {
   "cell_type": "code",
   "execution_count": 14,
   "metadata": {
    "ExecuteTime": {
     "end_time": "2018-11-26T07:41:55.872288Z",
     "start_time": "2018-11-26T07:41:55.632408Z"
    }
   },
   "outputs": [
    {
     "data": {
      "text/html": [
       "<div>\n",
       "<style scoped>\n",
       "    .dataframe tbody tr th:only-of-type {\n",
       "        vertical-align: middle;\n",
       "    }\n",
       "\n",
       "    .dataframe tbody tr th {\n",
       "        vertical-align: top;\n",
       "    }\n",
       "\n",
       "    .dataframe thead th {\n",
       "        text-align: right;\n",
       "    }\n",
       "</style>\n",
       "<table border=\"1\" class=\"dataframe\">\n",
       "  <thead>\n",
       "    <tr style=\"text-align: right;\">\n",
       "      <th></th>\n",
       "      <th>CUS_N_KEY_CUSTOMER</th>\n",
       "      <th>SCM_N_ORDER_NR_len</th>\n",
       "      <th>TDT_T_KEY_ORDER_DATE_list</th>\n",
       "      <th>SCM_SALES_BMF_sum</th>\n",
       "      <th>SCM_SALES_BMF_list</th>\n",
       "      <th>SCM_D_FINANCE_CM1_sum</th>\n",
       "      <th>SCM_D_FINANCE_CM1_list</th>\n",
       "      <th>SCM_D_FINANCE_CM2_sum</th>\n",
       "      <th>SCM_D_FINANCE_CM2_list</th>\n",
       "      <th>SCM_D_ORIG_FINANCE_ORDER_NET_sum</th>\n",
       "      <th>...</th>\n",
       "      <th>FLAT_BRAND_SALES</th>\n",
       "      <th>TOTAL_PG3_SALES</th>\n",
       "      <th>TOTAL_PG4_SALES</th>\n",
       "      <th>TOTAL_BRAND_SALES</th>\n",
       "      <th>SP_PY_POS</th>\n",
       "      <th>DAYS_UNTIL_1st_SP</th>\n",
       "      <th>SP_ORDERS</th>\n",
       "      <th>NO_SP_ORDERS</th>\n",
       "      <th>DAYS_IN_DF</th>\n",
       "      <th>DAYS_AFTER_1st_SP</th>\n",
       "    </tr>\n",
       "  </thead>\n",
       "  <tbody>\n",
       "    <tr>\n",
       "      <th>72910</th>\n",
       "      <td>12923221</td>\n",
       "      <td>9</td>\n",
       "      <td>[2015-11-29, 2016-04-01, 2016-10-22, 2017-02-0...</td>\n",
       "      <td>520.25</td>\n",
       "      <td>[66.99, 65.69, 64.99, 64.99, 63.99, 64.62, 60....</td>\n",
       "      <td>117.39</td>\n",
       "      <td>[17.12, 15.91, 15.79, 15.85, 14.52, 15.18, 11....</td>\n",
       "      <td>71.36</td>\n",
       "      <td>[11.77, 10.55, 10.43, 10.74, 9.41, 10.07, 6.61...</td>\n",
       "      <td>429.96</td>\n",
       "      <td>...</td>\n",
       "      <td>[(Royal Canin Veterinary Diet, 66.99), (Royal ...</td>\n",
       "      <td>[(252, 521.61), (48963, 5.99), (0, -7.35)]</td>\n",
       "      <td>[(81397, 521.61), (0, -1.36)]</td>\n",
       "      <td>[(Royal Canin Veterinary Diet, 521.61), (unkno...</td>\n",
       "      <td>5</td>\n",
       "      <td>664.0</td>\n",
       "      <td>4</td>\n",
       "      <td>5</td>\n",
       "      <td>944</td>\n",
       "      <td>280.0</td>\n",
       "    </tr>\n",
       "    <tr>\n",
       "      <th>180897</th>\n",
       "      <td>14518103</td>\n",
       "      <td>14</td>\n",
       "      <td>[2016-06-25, 2016-09-14, 2016-10-27, 2016-12-2...</td>\n",
       "      <td>756.43</td>\n",
       "      <td>[35.14, 36.99, 36.99, 76.98, 39.92, 61.94, 35....</td>\n",
       "      <td>163.58</td>\n",
       "      <td>[6.57, 8.17, 9.5, 17.18, 10.11, 14.19, 9.06, 7...</td>\n",
       "      <td>82.40</td>\n",
       "      <td>[1.16, 2.76, 4.09, 11.51, 4.57, 8.41, 3.55, 2....</td>\n",
       "      <td>625.15</td>\n",
       "      <td>...</td>\n",
       "      <td>[(Royal Canin Veterinary Diet, 36.99), (nan, 0...</td>\n",
       "      <td>[(252, 421.91), (2068, 336.37), (0, -1.85)]</td>\n",
       "      <td>[(81397, 421.91), (18148, 336.37), (0, -1.85)]</td>\n",
       "      <td>[(Royal Canin Veterinary Diet, 421.91), (beaph...</td>\n",
       "      <td>999999</td>\n",
       "      <td>NaN</td>\n",
       "      <td>0</td>\n",
       "      <td>14</td>\n",
       "      <td>735</td>\n",
       "      <td>NaN</td>\n",
       "    </tr>\n",
       "    <tr>\n",
       "      <th>65794</th>\n",
       "      <td>12825474</td>\n",
       "      <td>1</td>\n",
       "      <td>[2015-11-16]</td>\n",
       "      <td>51.09</td>\n",
       "      <td>[51.09]</td>\n",
       "      <td>13.20</td>\n",
       "      <td>[13.2]</td>\n",
       "      <td>6.32</td>\n",
       "      <td>[6.32]</td>\n",
       "      <td>42.22</td>\n",
       "      <td>...</td>\n",
       "      <td>[(Zahnpflege Snacks, 33.97), (Bälle, Taue &amp; Ri...</td>\n",
       "      <td>[(18, 33.97), (20, 17.12)]</td>\n",
       "      <td>[(394, 33.97), (108, 11.14), (48299, 5.98)]</td>\n",
       "      <td>[(Zahnpflege Snacks, 33.97), (Bälle, Taue &amp; Ri...</td>\n",
       "      <td>999999</td>\n",
       "      <td>NaN</td>\n",
       "      <td>0</td>\n",
       "      <td>1</td>\n",
       "      <td>957</td>\n",
       "      <td>NaN</td>\n",
       "    </tr>\n",
       "    <tr>\n",
       "      <th>22214</th>\n",
       "      <td>12216243</td>\n",
       "      <td>3</td>\n",
       "      <td>[2015-08-17, 2015-09-24, 2017-03-09]</td>\n",
       "      <td>150.26</td>\n",
       "      <td>[88.32, 22.97, 38.97]</td>\n",
       "      <td>34.17</td>\n",
       "      <td>[13.59, 9.95, 10.63]</td>\n",
       "      <td>17.55</td>\n",
       "      <td>[7.71, 4.59, 5.26]</td>\n",
       "      <td>124.18</td>\n",
       "      <td>...</td>\n",
       "      <td>[(Royal Canin, 55.99), (Royal Canin Size, 36.9...</td>\n",
       "      <td>[(251, 75.95), (252, 55.99), (9, 11.99), (18, ...</td>\n",
       "      <td>[(682, 75.95), (683, 55.99), (97768, 11.99), (...</td>\n",
       "      <td>[(Royal Canin Size, 75.95), (Royal Canin, 55.9...</td>\n",
       "      <td>999999</td>\n",
       "      <td>NaN</td>\n",
       "      <td>0</td>\n",
       "      <td>3</td>\n",
       "      <td>1048</td>\n",
       "      <td>NaN</td>\n",
       "    </tr>\n",
       "    <tr>\n",
       "      <th>42939</th>\n",
       "      <td>12496116</td>\n",
       "      <td>1</td>\n",
       "      <td>[2015-09-30]</td>\n",
       "      <td>47.99</td>\n",
       "      <td>[47.99]</td>\n",
       "      <td>6.19</td>\n",
       "      <td>[6.19]</td>\n",
       "      <td>0.13</td>\n",
       "      <td>[0.13]</td>\n",
       "      <td>39.66</td>\n",
       "      <td>...</td>\n",
       "      <td>[(Royal Canin, 47.99)]</td>\n",
       "      <td>[(252, 47.99)]</td>\n",
       "      <td>[(683, 47.99)]</td>\n",
       "      <td>[(Royal Canin, 47.99)]</td>\n",
       "      <td>999999</td>\n",
       "      <td>NaN</td>\n",
       "      <td>0</td>\n",
       "      <td>1</td>\n",
       "      <td>1004</td>\n",
       "      <td>NaN</td>\n",
       "    </tr>\n",
       "  </tbody>\n",
       "</table>\n",
       "<p>5 rows × 40 columns</p>\n",
       "</div>"
      ],
      "text/plain": [
       "        CUS_N_KEY_CUSTOMER  SCM_N_ORDER_NR_len  \\\n",
       "72910             12923221                   9   \n",
       "180897            14518103                  14   \n",
       "65794             12825474                   1   \n",
       "22214             12216243                   3   \n",
       "42939             12496116                   1   \n",
       "\n",
       "                                TDT_T_KEY_ORDER_DATE_list  SCM_SALES_BMF_sum  \\\n",
       "72910   [2015-11-29, 2016-04-01, 2016-10-22, 2017-02-0...             520.25   \n",
       "180897  [2016-06-25, 2016-09-14, 2016-10-27, 2016-12-2...             756.43   \n",
       "65794                                        [2015-11-16]              51.09   \n",
       "22214                [2015-08-17, 2015-09-24, 2017-03-09]             150.26   \n",
       "42939                                        [2015-09-30]              47.99   \n",
       "\n",
       "                                       SCM_SALES_BMF_list  \\\n",
       "72910   [66.99, 65.69, 64.99, 64.99, 63.99, 64.62, 60....   \n",
       "180897  [35.14, 36.99, 36.99, 76.98, 39.92, 61.94, 35....   \n",
       "65794                                             [51.09]   \n",
       "22214                               [88.32, 22.97, 38.97]   \n",
       "42939                                             [47.99]   \n",
       "\n",
       "        SCM_D_FINANCE_CM1_sum  \\\n",
       "72910                  117.39   \n",
       "180897                 163.58   \n",
       "65794                   13.20   \n",
       "22214                   34.17   \n",
       "42939                    6.19   \n",
       "\n",
       "                                   SCM_D_FINANCE_CM1_list  \\\n",
       "72910   [17.12, 15.91, 15.79, 15.85, 14.52, 15.18, 11....   \n",
       "180897  [6.57, 8.17, 9.5, 17.18, 10.11, 14.19, 9.06, 7...   \n",
       "65794                                              [13.2]   \n",
       "22214                                [13.59, 9.95, 10.63]   \n",
       "42939                                              [6.19]   \n",
       "\n",
       "        SCM_D_FINANCE_CM2_sum  \\\n",
       "72910                   71.36   \n",
       "180897                  82.40   \n",
       "65794                    6.32   \n",
       "22214                   17.55   \n",
       "42939                    0.13   \n",
       "\n",
       "                                   SCM_D_FINANCE_CM2_list  \\\n",
       "72910   [11.77, 10.55, 10.43, 10.74, 9.41, 10.07, 6.61...   \n",
       "180897  [1.16, 2.76, 4.09, 11.51, 4.57, 8.41, 3.55, 2....   \n",
       "65794                                              [6.32]   \n",
       "22214                                  [7.71, 4.59, 5.26]   \n",
       "42939                                              [0.13]   \n",
       "\n",
       "        SCM_D_ORIG_FINANCE_ORDER_NET_sum        ...         \\\n",
       "72910                             429.96        ...          \n",
       "180897                            625.15        ...          \n",
       "65794                              42.22        ...          \n",
       "22214                             124.18        ...          \n",
       "42939                              39.66        ...          \n",
       "\n",
       "                                         FLAT_BRAND_SALES  \\\n",
       "72910   [(Royal Canin Veterinary Diet, 66.99), (Royal ...   \n",
       "180897  [(Royal Canin Veterinary Diet, 36.99), (nan, 0...   \n",
       "65794   [(Zahnpflege Snacks, 33.97), (Bälle, Taue & Ri...   \n",
       "22214   [(Royal Canin, 55.99), (Royal Canin Size, 36.9...   \n",
       "42939                              [(Royal Canin, 47.99)]   \n",
       "\n",
       "                                          TOTAL_PG3_SALES  \\\n",
       "72910          [(252, 521.61), (48963, 5.99), (0, -7.35)]   \n",
       "180897        [(252, 421.91), (2068, 336.37), (0, -1.85)]   \n",
       "65794                          [(18, 33.97), (20, 17.12)]   \n",
       "22214   [(251, 75.95), (252, 55.99), (9, 11.99), (18, ...   \n",
       "42939                                      [(252, 47.99)]   \n",
       "\n",
       "                                          TOTAL_PG4_SALES  \\\n",
       "72910                       [(81397, 521.61), (0, -1.36)]   \n",
       "180897     [(81397, 421.91), (18148, 336.37), (0, -1.85)]   \n",
       "65794         [(394, 33.97), (108, 11.14), (48299, 5.98)]   \n",
       "22214   [(682, 75.95), (683, 55.99), (97768, 11.99), (...   \n",
       "42939                                      [(683, 47.99)]   \n",
       "\n",
       "                                        TOTAL_BRAND_SALES SP_PY_POS  \\\n",
       "72910   [(Royal Canin Veterinary Diet, 521.61), (unkno...         5   \n",
       "180897  [(Royal Canin Veterinary Diet, 421.91), (beaph...    999999   \n",
       "65794   [(Zahnpflege Snacks, 33.97), (Bälle, Taue & Ri...    999999   \n",
       "22214   [(Royal Canin Size, 75.95), (Royal Canin, 55.9...    999999   \n",
       "42939                              [(Royal Canin, 47.99)]    999999   \n",
       "\n",
       "       DAYS_UNTIL_1st_SP SP_ORDERS NO_SP_ORDERS DAYS_IN_DF DAYS_AFTER_1st_SP  \n",
       "72910              664.0         4            5        944             280.0  \n",
       "180897               NaN         0           14        735               NaN  \n",
       "65794                NaN         0            1        957               NaN  \n",
       "22214                NaN         0            3       1048               NaN  \n",
       "42939                NaN         0            1       1004               NaN  \n",
       "\n",
       "[5 rows x 40 columns]"
      ]
     },
     "execution_count": 14,
     "metadata": {},
     "output_type": "execute_result"
    }
   ],
   "source": [
    "customers.sample(5)"
   ]
  },
  {
   "cell_type": "code",
   "execution_count": 15,
   "metadata": {
    "ExecuteTime": {
     "end_time": "2018-11-26T07:42:34.035584Z",
     "start_time": "2018-11-26T07:42:33.938633Z"
    }
   },
   "outputs": [],
   "source": [
    "customers['SP_CUS'] = [(sum(i) >= 1) * 1 for i in customers['SP_DISC'].values]"
   ]
  },
  {
   "cell_type": "code",
   "execution_count": 16,
   "metadata": {
    "ExecuteTime": {
     "end_time": "2018-11-26T07:42:37.462814Z",
     "start_time": "2018-11-26T07:42:37.454818Z"
    }
   },
   "outputs": [
    {
     "data": {
      "text/plain": [
       "0    154343\n",
       "1     30059\n",
       "Name: SP_CUS, dtype: int64"
      ]
     },
     "execution_count": 16,
     "metadata": {},
     "output_type": "execute_result"
    }
   ],
   "source": [
    "customers['SP_CUS'].value_counts()"
   ]
  },
  {
   "cell_type": "code",
   "execution_count": 17,
   "metadata": {
    "ExecuteTime": {
     "end_time": "2018-11-26T07:42:49.167859Z",
     "start_time": "2018-11-26T07:42:49.096895Z"
    }
   },
   "outputs": [],
   "source": [
    "sp_customers = customers[customers['SP_CUS'] == 1].copy()"
   ]
  },
  {
   "cell_type": "code",
   "execution_count": 18,
   "metadata": {
    "ExecuteTime": {
     "end_time": "2018-11-26T07:42:50.316277Z",
     "start_time": "2018-11-26T07:42:50.253310Z"
    }
   },
   "outputs": [
    {
     "data": {
      "text/html": [
       "<div>\n",
       "<style scoped>\n",
       "    .dataframe tbody tr th:only-of-type {\n",
       "        vertical-align: middle;\n",
       "    }\n",
       "\n",
       "    .dataframe tbody tr th {\n",
       "        vertical-align: top;\n",
       "    }\n",
       "\n",
       "    .dataframe thead th {\n",
       "        text-align: right;\n",
       "    }\n",
       "</style>\n",
       "<table border=\"1\" class=\"dataframe\">\n",
       "  <thead>\n",
       "    <tr style=\"text-align: right;\">\n",
       "      <th></th>\n",
       "      <th>CUS_N_KEY_CUSTOMER</th>\n",
       "      <th>SCM_N_ORDER_NR_len</th>\n",
       "      <th>TDT_T_KEY_ORDER_DATE_list</th>\n",
       "      <th>SCM_SALES_BMF_sum</th>\n",
       "      <th>SCM_SALES_BMF_list</th>\n",
       "      <th>SCM_D_FINANCE_CM1_sum</th>\n",
       "      <th>SCM_D_FINANCE_CM1_list</th>\n",
       "      <th>SCM_D_FINANCE_CM2_sum</th>\n",
       "      <th>SCM_D_FINANCE_CM2_list</th>\n",
       "      <th>SCM_D_ORIG_FINANCE_ORDER_NET_sum</th>\n",
       "      <th>...</th>\n",
       "      <th>TOTAL_PG3_SALES</th>\n",
       "      <th>TOTAL_PG4_SALES</th>\n",
       "      <th>TOTAL_BRAND_SALES</th>\n",
       "      <th>SP_PY_POS</th>\n",
       "      <th>DAYS_UNTIL_1st_SP</th>\n",
       "      <th>SP_ORDERS</th>\n",
       "      <th>NO_SP_ORDERS</th>\n",
       "      <th>DAYS_IN_DF</th>\n",
       "      <th>DAYS_AFTER_1st_SP</th>\n",
       "      <th>SP_CUS</th>\n",
       "    </tr>\n",
       "  </thead>\n",
       "  <tbody>\n",
       "    <tr>\n",
       "      <th>175774</th>\n",
       "      <td>14451594</td>\n",
       "      <td>3</td>\n",
       "      <td>[2016-06-15, 2016-08-01, 2016-09-11]</td>\n",
       "      <td>307.12</td>\n",
       "      <td>[162.71, 21.41, 123.0]</td>\n",
       "      <td>102.98</td>\n",
       "      <td>[48.45, 7.74, 46.78]</td>\n",
       "      <td>74.33</td>\n",
       "      <td>[35.37, 2.27, 36.69]</td>\n",
       "      <td>253.82</td>\n",
       "      <td>...</td>\n",
       "      <td>[(2190, 159.99), (20, 71.55), (18, 67.4), (140...</td>\n",
       "      <td>[(281617, 159.99), (108, 37.61), (948, 32.97),...</td>\n",
       "      <td>[(Aluminium Transportboxen, 159.99), (Bälle, T...</td>\n",
       "      <td>2</td>\n",
       "      <td>88.0</td>\n",
       "      <td>1</td>\n",
       "      <td>2</td>\n",
       "      <td>745</td>\n",
       "      <td>657.0</td>\n",
       "      <td>1</td>\n",
       "    </tr>\n",
       "    <tr>\n",
       "      <th>147037</th>\n",
       "      <td>14035939</td>\n",
       "      <td>62</td>\n",
       "      <td>[2016-04-22, 2016-05-06, 2016-06-14, 2016-07-0...</td>\n",
       "      <td>6651.44</td>\n",
       "      <td>[54.26, 42.73, 48.73, 151.44, 57.91, 58.87, 61...</td>\n",
       "      <td>1565.72</td>\n",
       "      <td>[10.13, 11.52, 5.73, 44.09, 9.99, 8.39, 11.11,...</td>\n",
       "      <td>923.28</td>\n",
       "      <td>[2.14, 5.52, 0.47, 33.51, -0.94, 1.45, 5.69, 1...</td>\n",
       "      <td>5497.06</td>\n",
       "      <td>...</td>\n",
       "      <td>[(252, 2048.78), (2068, 1846.59), (23, 799.86)...</td>\n",
       "      <td>[(683, 1476.92), (2632, 999.88), (17963, 580.2...</td>\n",
       "      <td>[(Royal Canin, 2057.19), (★ Cosma, 999.88), (R...</td>\n",
       "      <td>0</td>\n",
       "      <td>0.0</td>\n",
       "      <td>62</td>\n",
       "      <td>0</td>\n",
       "      <td>799</td>\n",
       "      <td>799.0</td>\n",
       "      <td>1</td>\n",
       "    </tr>\n",
       "    <tr>\n",
       "      <th>9228</th>\n",
       "      <td>12038743</td>\n",
       "      <td>16</td>\n",
       "      <td>[2015-07-19, 2015-07-30, 2015-12-03, 2016-02-0...</td>\n",
       "      <td>744.82</td>\n",
       "      <td>[23.97, 20.98, 51.48, 48.97, 46.95, 62.92, 26....</td>\n",
       "      <td>185.06</td>\n",
       "      <td>[10.81, 8.34, 12.15, 13.4, 13.0, 17.8, 8.65, 8...</td>\n",
       "      <td>83.58</td>\n",
       "      <td>[4.4, 1.92, 6.48, 7.11, 6.9, 8.96, 3.54, 2.99,...</td>\n",
       "      <td>615.55</td>\n",
       "      <td>...</td>\n",
       "      <td>[(252, 426.54), (301, 223.09), (2068, 38.47), ...</td>\n",
       "      <td>[(81397, 338.4), (10331, 223.09), (683, 86.97)...</td>\n",
       "      <td>[(Royal Canin Veterinary Diet, 376.87), (★ Tig...</td>\n",
       "      <td>12</td>\n",
       "      <td>863.0</td>\n",
       "      <td>4</td>\n",
       "      <td>12</td>\n",
       "      <td>1077</td>\n",
       "      <td>214.0</td>\n",
       "      <td>1</td>\n",
       "    </tr>\n",
       "    <tr>\n",
       "      <th>110690</th>\n",
       "      <td>13479931</td>\n",
       "      <td>8</td>\n",
       "      <td>[2016-02-09, 2017-08-09, 2017-10-25, 2018-01-1...</td>\n",
       "      <td>511.24</td>\n",
       "      <td>[21.46, 96.68, 125.08, 51.77, 48.49, 67.87, 48...</td>\n",
       "      <td>111.80</td>\n",
       "      <td>[9.66, 19.71, 28.32, 11.32, 10.3, 13.64, 9.75,...</td>\n",
       "      <td>63.09</td>\n",
       "      <td>[3.94, 12.99, 20.46, 5.48, 4.9, 7.32, 4.35, 3.64]</td>\n",
       "      <td>422.51</td>\n",
       "      <td>...</td>\n",
       "      <td>[(251, 442.93), (45, 31.98), (401, 23.53), (42...</td>\n",
       "      <td>[(17798, 389.94), (682, 52.99), (153, 31.98), ...</td>\n",
       "      <td>[(Royal Canin Breed (Rasse), 389.94), (Royal C...</td>\n",
       "      <td>2</td>\n",
       "      <td>624.0</td>\n",
       "      <td>6</td>\n",
       "      <td>2</td>\n",
       "      <td>872</td>\n",
       "      <td>248.0</td>\n",
       "      <td>1</td>\n",
       "    </tr>\n",
       "    <tr>\n",
       "      <th>5525</th>\n",
       "      <td>11989406</td>\n",
       "      <td>12</td>\n",
       "      <td>[2015-07-11, 2015-07-22, 2015-08-11, 2015-09-1...</td>\n",
       "      <td>884.89</td>\n",
       "      <td>[69.88, 57.93, 63.76, 56.85, 52.12, 107.21, 58...</td>\n",
       "      <td>331.45</td>\n",
       "      <td>[27.33, 24.91, 14.98, 21.8, 22.29, 44.28, 22.3...</td>\n",
       "      <td>113.10</td>\n",
       "      <td>[14.31, 8.17, 6.22, 7.59, 6.33, 16.48, 1.92, 6...</td>\n",
       "      <td>731.31</td>\n",
       "      <td>...</td>\n",
       "      <td>[(305, 347.78), (401, 223.19), (45, 116.59), (...</td>\n",
       "      <td>[(1588, 312.81), (1084, 158.6), (153, 116.59),...</td>\n",
       "      <td>[(Strohstreu, 312.81), (Kräcker &amp;  Gebackenes,...</td>\n",
       "      <td>3</td>\n",
       "      <td>67.0</td>\n",
       "      <td>9</td>\n",
       "      <td>3</td>\n",
       "      <td>1085</td>\n",
       "      <td>1018.0</td>\n",
       "      <td>1</td>\n",
       "    </tr>\n",
       "  </tbody>\n",
       "</table>\n",
       "<p>5 rows × 41 columns</p>\n",
       "</div>"
      ],
      "text/plain": [
       "        CUS_N_KEY_CUSTOMER  SCM_N_ORDER_NR_len  \\\n",
       "175774            14451594                   3   \n",
       "147037            14035939                  62   \n",
       "9228              12038743                  16   \n",
       "110690            13479931                   8   \n",
       "5525              11989406                  12   \n",
       "\n",
       "                                TDT_T_KEY_ORDER_DATE_list  SCM_SALES_BMF_sum  \\\n",
       "175774               [2016-06-15, 2016-08-01, 2016-09-11]             307.12   \n",
       "147037  [2016-04-22, 2016-05-06, 2016-06-14, 2016-07-0...            6651.44   \n",
       "9228    [2015-07-19, 2015-07-30, 2015-12-03, 2016-02-0...             744.82   \n",
       "110690  [2016-02-09, 2017-08-09, 2017-10-25, 2018-01-1...             511.24   \n",
       "5525    [2015-07-11, 2015-07-22, 2015-08-11, 2015-09-1...             884.89   \n",
       "\n",
       "                                       SCM_SALES_BMF_list  \\\n",
       "175774                             [162.71, 21.41, 123.0]   \n",
       "147037  [54.26, 42.73, 48.73, 151.44, 57.91, 58.87, 61...   \n",
       "9228    [23.97, 20.98, 51.48, 48.97, 46.95, 62.92, 26....   \n",
       "110690  [21.46, 96.68, 125.08, 51.77, 48.49, 67.87, 48...   \n",
       "5525    [69.88, 57.93, 63.76, 56.85, 52.12, 107.21, 58...   \n",
       "\n",
       "        SCM_D_FINANCE_CM1_sum  \\\n",
       "175774                 102.98   \n",
       "147037                1565.72   \n",
       "9228                   185.06   \n",
       "110690                 111.80   \n",
       "5525                   331.45   \n",
       "\n",
       "                                   SCM_D_FINANCE_CM1_list  \\\n",
       "175774                               [48.45, 7.74, 46.78]   \n",
       "147037  [10.13, 11.52, 5.73, 44.09, 9.99, 8.39, 11.11,...   \n",
       "9228    [10.81, 8.34, 12.15, 13.4, 13.0, 17.8, 8.65, 8...   \n",
       "110690  [9.66, 19.71, 28.32, 11.32, 10.3, 13.64, 9.75,...   \n",
       "5525    [27.33, 24.91, 14.98, 21.8, 22.29, 44.28, 22.3...   \n",
       "\n",
       "        SCM_D_FINANCE_CM2_sum  \\\n",
       "175774                  74.33   \n",
       "147037                 923.28   \n",
       "9228                    83.58   \n",
       "110690                  63.09   \n",
       "5525                   113.10   \n",
       "\n",
       "                                   SCM_D_FINANCE_CM2_list  \\\n",
       "175774                               [35.37, 2.27, 36.69]   \n",
       "147037  [2.14, 5.52, 0.47, 33.51, -0.94, 1.45, 5.69, 1...   \n",
       "9228    [4.4, 1.92, 6.48, 7.11, 6.9, 8.96, 3.54, 2.99,...   \n",
       "110690  [3.94, 12.99, 20.46, 5.48, 4.9, 7.32, 4.35, 3.64]   \n",
       "5525    [14.31, 8.17, 6.22, 7.59, 6.33, 16.48, 1.92, 6...   \n",
       "\n",
       "        SCM_D_ORIG_FINANCE_ORDER_NET_sum  ...    \\\n",
       "175774                            253.82  ...     \n",
       "147037                           5497.06  ...     \n",
       "9228                              615.55  ...     \n",
       "110690                            422.51  ...     \n",
       "5525                              731.31  ...     \n",
       "\n",
       "                                          TOTAL_PG3_SALES  \\\n",
       "175774  [(2190, 159.99), (20, 71.55), (18, 67.4), (140...   \n",
       "147037  [(252, 2048.78), (2068, 1846.59), (23, 799.86)...   \n",
       "9228    [(252, 426.54), (301, 223.09), (2068, 38.47), ...   \n",
       "110690  [(251, 442.93), (45, 31.98), (401, 23.53), (42...   \n",
       "5525    [(305, 347.78), (401, 223.19), (45, 116.59), (...   \n",
       "\n",
       "                                          TOTAL_PG4_SALES  \\\n",
       "175774  [(281617, 159.99), (108, 37.61), (948, 32.97),...   \n",
       "147037  [(683, 1476.92), (2632, 999.88), (17963, 580.2...   \n",
       "9228    [(81397, 338.4), (10331, 223.09), (683, 86.97)...   \n",
       "110690  [(17798, 389.94), (682, 52.99), (153, 31.98), ...   \n",
       "5525    [(1588, 312.81), (1084, 158.6), (153, 116.59),...   \n",
       "\n",
       "                                        TOTAL_BRAND_SALES SP_PY_POS  \\\n",
       "175774  [(Aluminium Transportboxen, 159.99), (Bälle, T...         2   \n",
       "147037  [(Royal Canin, 2057.19), (★ Cosma, 999.88), (R...         0   \n",
       "9228    [(Royal Canin Veterinary Diet, 376.87), (★ Tig...        12   \n",
       "110690  [(Royal Canin Breed (Rasse), 389.94), (Royal C...         2   \n",
       "5525    [(Strohstreu, 312.81), (Kräcker &  Gebackenes,...         3   \n",
       "\n",
       "       DAYS_UNTIL_1st_SP SP_ORDERS NO_SP_ORDERS DAYS_IN_DF DAYS_AFTER_1st_SP  \\\n",
       "175774              88.0         1            2        745             657.0   \n",
       "147037               0.0        62            0        799             799.0   \n",
       "9228               863.0         4           12       1077             214.0   \n",
       "110690             624.0         6            2        872             248.0   \n",
       "5525                67.0         9            3       1085            1018.0   \n",
       "\n",
       "       SP_CUS  \n",
       "175774      1  \n",
       "147037      1  \n",
       "9228        1  \n",
       "110690      1  \n",
       "5525        1  \n",
       "\n",
       "[5 rows x 41 columns]"
      ]
     },
     "execution_count": 18,
     "metadata": {},
     "output_type": "execute_result"
    }
   ],
   "source": [
    "sp_customers.sample(5)"
   ]
  },
  {
   "cell_type": "markdown",
   "metadata": {},
   "source": [
    "Let's get those customers having at least 168 days of performance with/without SP "
   ]
  },
  {
   "cell_type": "code",
   "execution_count": 20,
   "metadata": {
    "ExecuteTime": {
     "end_time": "2018-11-26T07:43:53.245235Z",
     "start_time": "2018-11-26T07:43:53.225245Z"
    }
   },
   "outputs": [],
   "source": [
    "sp_customers_168 = sp_customers[(sp_customers['DAYS_UNTIL_1st_SP'] >= 168) & (sp_customers['DAYS_AFTER_1st_SP'] >= 168)].copy()"
   ]
  },
  {
   "cell_type": "code",
   "execution_count": 21,
   "metadata": {
    "ExecuteTime": {
     "end_time": "2018-11-26T07:44:19.438953Z",
     "start_time": "2018-11-26T07:44:19.436954Z"
    }
   },
   "outputs": [
    {
     "data": {
      "text/plain": [
       "9657"
      ]
     },
     "execution_count": 21,
     "metadata": {},
     "output_type": "execute_result"
    }
   ],
   "source": [
    "len(sp_customers_168)"
   ]
  },
  {
   "cell_type": "markdown",
   "metadata": {},
   "source": [
    "+ KPIs: **Sales, CM1, CM2, AOV, Order Frequency** during a **fixed time period**\n",
    "- **Number of PG3s** the customer bought in and **Sales Share** in the according class \n",
    "+ Spend in the classes that he did not buy before but started buying in with Savingsplan (would only work for Scenario b))\n",
    "+ Average Sales Share of Royal Canin products – with/without SP\n",
    "+ Average Sales Share of Hills products – with/without SP"
   ]
  },
  {
   "cell_type": "markdown",
   "metadata": {},
   "source": [
    "Now we need to create a boolean mask that let us obtain only order informations regarding each 168 days period..."
   ]
  },
  {
   "cell_type": "code",
   "execution_count": 43,
   "metadata": {
    "ExecuteTime": {
     "end_time": "2018-11-26T08:34:27.753959Z",
     "start_time": "2018-11-26T08:34:27.666951Z"
    }
   },
   "outputs": [],
   "source": [
    "sp_customers_168['MASK_168_BEF'] = [[(date >= (y[x] - timedelta(days=169))) and (date <= y[x]) \n",
    "                                     for date in y[:x]] for x, y in list(zip(sp_customers_168['SP_PY_POS'], \n",
    "                                                        sp_customers_168['TDT_T_KEY_ORDER_DATE_list']))]"
   ]
  },
  {
   "cell_type": "code",
   "execution_count": 44,
   "metadata": {
    "ExecuteTime": {
     "end_time": "2018-11-26T08:34:29.216090Z",
     "start_time": "2018-11-26T08:34:29.124081Z"
    }
   },
   "outputs": [],
   "source": [
    "sp_customers_168['MASK_168_AFT'] = [[(date >= y[x]) and (date <= (y[x] + timedelta(days=168)))\n",
    "                                    for date in y[x:]] \n",
    "                                    for x, y in list(zip(sp_customers_168['SP_PY_POS'], \n",
    "                                                        sp_customers_168['TDT_T_KEY_ORDER_DATE_list']))]"
   ]
  },
  {
   "cell_type": "code",
   "execution_count": 59,
   "metadata": {
    "ExecuteTime": {
     "end_time": "2018-11-26T08:41:22.343415Z",
     "start_time": "2018-11-26T08:41:22.217415Z"
    }
   },
   "outputs": [],
   "source": [
    "sp_customers_168['SALES_168_BEF'] = [np.round(sum(list(compress(i, j))), 2) for i, j in list(zip(sp_customers_168['SCM_SALES_BMF_list'], \n",
    "                                                                        sp_customers_168['MASK_168_BEF']))]"
   ]
  },
  {
   "cell_type": "code",
   "execution_count": 60,
   "metadata": {
    "ExecuteTime": {
     "end_time": "2018-11-26T08:41:23.702415Z",
     "start_time": "2018-11-26T08:41:23.592415Z"
    }
   },
   "outputs": [],
   "source": [
    "sp_customers_168['SALES_168_AFT'] = [np.round(sum(list(compress(i, j))), 2) for i, j in list(zip(sp_customers_168['SCM_SALES_BMF_list'], \n",
    "                                                                        sp_customers_168['MASK_168_AFT']))]"
   ]
  },
  {
   "cell_type": "code",
   "execution_count": 62,
   "metadata": {
    "ExecuteTime": {
     "end_time": "2018-11-26T08:43:02.379415Z",
     "start_time": "2018-11-26T08:43:02.188415Z"
    }
   },
   "outputs": [],
   "source": [
    "sp_customers_168['AOV_168_BEF'] = [np.round(np.mean(list(compress(i, j))), 2) for i, j in list(zip(sp_customers_168['SCM_SALES_BMF_list'], \n",
    "                                                                        sp_customers_168['MASK_168_BEF']))]"
   ]
  },
  {
   "cell_type": "code",
   "execution_count": 63,
   "metadata": {
    "ExecuteTime": {
     "end_time": "2018-11-26T08:43:03.796415Z",
     "start_time": "2018-11-26T08:43:03.598415Z"
    }
   },
   "outputs": [],
   "source": [
    "sp_customers_168['AOV_168_AFT'] = [np.round(np.mean(list(compress(i, j))), 2) for i, j in list(zip(sp_customers_168['SCM_SALES_BMF_list'], \n",
    "                                                                        sp_customers_168['MASK_168_AFT']))]"
   ]
  },
  {
   "cell_type": "code",
   "execution_count": 64,
   "metadata": {
    "ExecuteTime": {
     "end_time": "2018-11-26T08:44:24.860415Z",
     "start_time": "2018-11-26T08:44:24.822415Z"
    }
   },
   "outputs": [],
   "source": [
    "sp_customers_168['OF_168_BEF'] = [len(list(compress(i, j))) for i, j in list(zip(sp_customers_168['SCM_SALES_BMF_list'], \n",
    "                                                                        sp_customers_168['MASK_168_BEF']))]"
   ]
  },
  {
   "cell_type": "code",
   "execution_count": 65,
   "metadata": {
    "ExecuteTime": {
     "end_time": "2018-11-26T08:44:26.330415Z",
     "start_time": "2018-11-26T08:44:26.313415Z"
    }
   },
   "outputs": [],
   "source": [
    "sp_customers_168['OF_168_AFT'] = [len(list(compress(i, j))) for i, j in list(zip(sp_customers_168['SCM_SALES_BMF_list'], \n",
    "                                                                        sp_customers_168['MASK_168_AFT']))]"
   ]
  },
  {
   "cell_type": "code",
   "execution_count": 47,
   "metadata": {
    "ExecuteTime": {
     "end_time": "2018-11-26T08:34:37.797770Z",
     "start_time": "2018-11-26T08:34:37.759767Z"
    }
   },
   "outputs": [],
   "source": [
    "sp_customers_168['CM1_168_BEF'] = [list(compress(i, j)) for i, j in list(zip(sp_customers_168['SCM_D_FINANCE_CM1_list'], \n",
    "                                                                        sp_customers_168['MASK_168_BEF']))]"
   ]
  },
  {
   "cell_type": "code",
   "execution_count": 48,
   "metadata": {
    "ExecuteTime": {
     "end_time": "2018-11-26T08:34:39.116888Z",
     "start_time": "2018-11-26T08:34:39.085885Z"
    }
   },
   "outputs": [],
   "source": [
    "sp_customers_168['CM1_168_AFT'] = [list(compress(i, j)) for i, j in list(zip(sp_customers_168['SCM_D_FINANCE_CM1_list'], \n",
    "                                                                        sp_customers_168['MASK_168_AFT']))]"
   ]
  },
  {
   "cell_type": "code",
   "execution_count": 49,
   "metadata": {
    "ExecuteTime": {
     "end_time": "2018-11-26T08:34:40.302995Z",
     "start_time": "2018-11-26T08:34:40.265991Z"
    }
   },
   "outputs": [],
   "source": [
    "sp_customers_168['CM2_168_BEF'] = [list(compress(i, j)) for i, j in list(zip(sp_customers_168['SCM_D_FINANCE_CM2_list'], \n",
    "                                                                        sp_customers_168['MASK_168_BEF']))]"
   ]
  },
  {
   "cell_type": "code",
   "execution_count": 50,
   "metadata": {
    "ExecuteTime": {
     "end_time": "2018-11-26T08:34:41.495100Z",
     "start_time": "2018-11-26T08:34:41.462097Z"
    }
   },
   "outputs": [],
   "source": [
    "sp_customers_168['CM2_168_AFT'] = [list(compress(i, j)) for i, j in list(zip(sp_customers_168['SCM_D_FINANCE_CM2_list'], \n",
    "                                                                        sp_customers_168['MASK_168_AFT']))]"
   ]
  },
  {
   "cell_type": "code",
   "execution_count": 51,
   "metadata": {
    "ExecuteTime": {
     "end_time": "2018-11-26T08:34:42.681206Z",
     "start_time": "2018-11-26T08:34:42.642202Z"
    }
   },
   "outputs": [],
   "source": [
    "sp_customers_168['NET_SALES_168_BEF'] = [list(compress(i, j)) for i, j in list(zip(sp_customers_168['SCM_D_ORIG_FINANCE_ORDER_NET_list'], \n",
    "                                                                        sp_customers_168['MASK_168_BEF']))]"
   ]
  },
  {
   "cell_type": "code",
   "execution_count": 52,
   "metadata": {
    "ExecuteTime": {
     "end_time": "2018-11-26T08:34:43.857312Z",
     "start_time": "2018-11-26T08:34:43.818308Z"
    }
   },
   "outputs": [],
   "source": [
    "sp_customers_168['NET_SALES_168_AFT'] = [list(compress(i, j)) for i, j in list(zip(sp_customers_168['SCM_D_ORIG_FINANCE_ORDER_NET_list'], \n",
    "                                                                        sp_customers_168['MASK_168_AFT']))]"
   ]
  },
  {
   "cell_type": "code",
   "execution_count": 55,
   "metadata": {
    "ExecuteTime": {
     "end_time": "2018-11-26T08:38:58.260639Z",
     "start_time": "2018-11-26T08:38:58.167630Z"
    }
   },
   "outputs": [],
   "source": [
    "sp_customers_168['CM1%_168_BEF'] = [np.round(sum(x) / sum(y) * 100, 2) if sum(y) != 0 else 0 \n",
    "                                    for x, y in list(zip(sp_customers_168['CM1_168_BEF'], \n",
    "                                                        sp_customers_168['NET_SALES_168_BEF']))]"
   ]
  },
  {
   "cell_type": "code",
   "execution_count": 56,
   "metadata": {
    "ExecuteTime": {
     "end_time": "2018-11-26T08:39:31.383897Z",
     "start_time": "2018-11-26T08:39:31.259884Z"
    }
   },
   "outputs": [],
   "source": [
    "sp_customers_168['CM1%_168_AFT'] = [np.round(sum(x) / sum(y) * 100, 2) if sum(y) != 0 else 0 \n",
    "                                    for x, y in list(zip(sp_customers_168['CM1_168_AFT'], \n",
    "                                                        sp_customers_168['NET_SALES_168_AFT']))]"
   ]
  },
  {
   "cell_type": "code",
   "execution_count": 57,
   "metadata": {
    "ExecuteTime": {
     "end_time": "2018-11-26T08:39:47.532046Z",
     "start_time": "2018-11-26T08:39:47.440037Z"
    }
   },
   "outputs": [],
   "source": [
    "sp_customers_168['CM2%_168_BEF'] = [np.round(sum(x) / sum(y) * 100, 2) if sum(y) != 0 else 0 \n",
    "                                    for x, y in list(zip(sp_customers_168['CM2_168_BEF'], \n",
    "                                                        sp_customers_168['NET_SALES_168_BEF']))]"
   ]
  },
  {
   "cell_type": "code",
   "execution_count": 58,
   "metadata": {
    "ExecuteTime": {
     "end_time": "2018-11-26T08:40:10.528666Z",
     "start_time": "2018-11-26T08:40:10.408654Z"
    }
   },
   "outputs": [],
   "source": [
    "sp_customers_168['CM2%_168_AFT'] = [np.round(sum(x) / sum(y) * 100, 2) if sum(y) != 0 else 0 \n",
    "                                    for x, y in list(zip(sp_customers_168['CM2_168_AFT'], \n",
    "                                                        sp_customers_168['NET_SALES_168_AFT']))]"
   ]
  },
  {
   "cell_type": "code",
   "execution_count": 68,
   "metadata": {
    "ExecuteTime": {
     "end_time": "2018-11-26T08:49:22.623162Z",
     "start_time": "2018-11-26T08:49:22.561162Z"
    }
   },
   "outputs": [],
   "source": [
    "sp_customers_168['PG3_168_BEF_AGGSALES'] = [list(compress(i, j)) for i, j in list(zip(sp_customers_168['PG3_AGGSALES'], \n",
    "                                                                               sp_customers_168['MASK_168_BEF']))]"
   ]
  },
  {
   "cell_type": "code",
   "execution_count": 69,
   "metadata": {
    "ExecuteTime": {
     "end_time": "2018-11-26T08:49:40.472162Z",
     "start_time": "2018-11-26T08:49:40.451162Z"
    }
   },
   "outputs": [],
   "source": [
    "sp_customers_168['PG3_168_AFT_AGGSALES'] = [list(compress(i, j)) for i, j in list(zip(sp_customers_168['PG3_AGGSALES'], \n",
    "                                                                               sp_customers_168['MASK_168_AFT']))]"
   ]
  },
  {
   "cell_type": "code",
   "execution_count": 70,
   "metadata": {
    "ExecuteTime": {
     "end_time": "2018-11-26T08:51:27.651162Z",
     "start_time": "2018-11-26T08:51:27.628162Z"
    }
   },
   "outputs": [],
   "source": [
    "sp_customers_168['PG3_168_BEF_FLAT_SALES'] = [[k for j in i for k in j] for i in sp_customers_168['PG3_168_BEF_AGGSALES']]"
   ]
  },
  {
   "cell_type": "code",
   "execution_count": 71,
   "metadata": {
    "ExecuteTime": {
     "end_time": "2018-11-26T08:51:42.432162Z",
     "start_time": "2018-11-26T08:51:42.409162Z"
    }
   },
   "outputs": [],
   "source": [
    "sp_customers_168['PG3_168_AFT_FLAT_SALES'] = [[k for j in i for k in j] for i in sp_customers_168['PG3_168_AFT_AGGSALES']]"
   ]
  },
  {
   "cell_type": "code",
   "execution_count": 72,
   "metadata": {
    "ExecuteTime": {
     "end_time": "2018-11-26T08:53:01.846162Z",
     "start_time": "2018-11-26T08:53:01.597162Z"
    }
   },
   "outputs": [],
   "source": [
    "sp_customers_168['PG3_TOTAL_SALES_168_BEF'] = [sorted([(pg3, np.round(sum([sales_ for pg_3_, sales_ in i if pg3==pg_3_\n",
    "                                                        ]), 3)) \n",
    "                                        for pg3 in set([pg_3 for pg_3, sales in i])], key= lambda x: x[1], reverse=True) \n",
    "                                        for i in sp_customers_168['PG3_168_BEF_FLAT_SALES']]"
   ]
  },
  {
   "cell_type": "code",
   "execution_count": 73,
   "metadata": {
    "ExecuteTime": {
     "end_time": "2018-11-26T08:53:27.067162Z",
     "start_time": "2018-11-26T08:53:26.659162Z"
    }
   },
   "outputs": [],
   "source": [
    "sp_customers_168['PG3_TOTAL_SALES_168_AFT'] = [sorted([(pg3, np.round(sum([sales_ for pg_3_, sales_ in i if pg3==pg_3_\n",
    "                                                        ]), 3)) \n",
    "                                        for pg3 in set([pg_3 for pg_3, sales in i])], key= lambda x: x[1], reverse=True) \n",
    "                                        for i in sp_customers_168['PG3_168_AFT_FLAT_SALES']]"
   ]
  },
  {
   "cell_type": "code",
   "execution_count": 74,
   "metadata": {
    "ExecuteTime": {
     "end_time": "2018-11-26T08:59:07.000162Z",
     "start_time": "2018-11-26T08:59:06.970162Z"
    }
   },
   "outputs": [],
   "source": [
    "sp_customers_168['DICT_PG3_SALES_168_BEF'] = [{j[0]: j[1] for j in i if j[0] != 0} \n",
    "                                               for i in sp_customers_168['PG3_TOTAL_SALES_168_BEF'].values]"
   ]
  },
  {
   "cell_type": "code",
   "execution_count": 75,
   "metadata": {
    "ExecuteTime": {
     "end_time": "2018-11-26T08:59:08.715162Z",
     "start_time": "2018-11-26T08:59:08.695162Z"
    }
   },
   "outputs": [],
   "source": [
    "sp_customers_168['DICT_PG3_SALES_168_AFT'] = [{j[0]: j[1] for j in i if j[0] != 0} \n",
    "                                               for i in sp_customers_168['PG3_TOTAL_SALES_168_AFT'].values]"
   ]
  },
  {
   "cell_type": "code",
   "execution_count": 76,
   "metadata": {
    "ExecuteTime": {
     "end_time": "2018-11-26T09:01:11.974162Z",
     "start_time": "2018-11-26T09:01:11.779162Z"
    }
   },
   "outputs": [],
   "source": [
    "sp_customers_168['DICT_PG3_SHARE_168_BEF'] = [{a: np.round(b/sum(i.values())*100, 2) \n",
    "                                               for a, b in list(zip(i.keys(), i.values()))}\n",
    "                                               for i in sp_customers_168['DICT_PG3_SALES_168_BEF'].values]"
   ]
  },
  {
   "cell_type": "code",
   "execution_count": 77,
   "metadata": {
    "ExecuteTime": {
     "end_time": "2018-11-26T09:01:13.837162Z",
     "start_time": "2018-11-26T09:01:13.536162Z"
    }
   },
   "outputs": [],
   "source": [
    "sp_customers_168['DICT_PG3_SHARE_168_AFT'] = [{a: np.round(b/sum(i.values())*100, 2) \n",
    "                                               for a, b in list(zip(i.keys(), i.values()))}\n",
    "                                               for i in sp_customers_168['DICT_PG3_SALES_168_AFT'].values]"
   ]
  },
  {
   "cell_type": "code",
   "execution_count": 89,
   "metadata": {
    "ExecuteTime": {
     "end_time": "2018-11-26T09:25:03.586162Z",
     "start_time": "2018-11-26T09:25:03.574162Z"
    }
   },
   "outputs": [],
   "source": [
    "sp_customers_168['DIFF_PG3_168_BEF'] = [len(i.keys()) for i in sp_customers_168['DICT_PG3_SHARE_168_BEF']]"
   ]
  },
  {
   "cell_type": "code",
   "execution_count": 90,
   "metadata": {
    "ExecuteTime": {
     "end_time": "2018-11-26T09:25:05.246162Z",
     "start_time": "2018-11-26T09:25:05.239162Z"
    }
   },
   "outputs": [],
   "source": [
    "sp_customers_168['DIFF_PG3_168_AFT'] = [len(i.keys()) for i in sp_customers_168['DICT_PG3_SHARE_168_AFT']]"
   ]
  },
  {
   "cell_type": "markdown",
   "metadata": {
    "heading_collapsed": true
   },
   "source": [
    "#### Total Sales"
   ]
  },
  {
   "cell_type": "code",
   "execution_count": 80,
   "metadata": {
    "ExecuteTime": {
     "end_time": "2018-11-26T09:09:36.636162Z",
     "start_time": "2018-11-26T09:09:36.208162Z"
    },
    "hidden": true
   },
   "outputs": [
    {
     "data": {
      "image/png": "[encoded data removed]",
      "text/plain": [
       "<matplotlib.figure.Figure at 0xf0fb5c0>"
      ]
     },
     "metadata": {},
     "output_type": "display_data"
    },
    {
     "data": {
      "text/html": [
       "<div>\n",
       "<style scoped>\n",
       "    .dataframe tbody tr th:only-of-type {\n",
       "        vertical-align: middle;\n",
       "    }\n",
       "\n",
       "    .dataframe tbody tr th {\n",
       "        vertical-align: top;\n",
       "    }\n",
       "\n",
       "    .dataframe thead th {\n",
       "        text-align: right;\n",
       "    }\n",
       "</style>\n",
       "<table border=\"1\" class=\"dataframe\">\n",
       "  <thead>\n",
       "    <tr style=\"text-align: right;\">\n",
       "      <th></th>\n",
       "      <th>168 days before</th>\n",
       "      <th>168 days after</th>\n",
       "    </tr>\n",
       "  </thead>\n",
       "  <tbody>\n",
       "    <tr>\n",
       "      <th>count</th>\n",
       "      <td>9657.00</td>\n",
       "      <td>9657.00</td>\n",
       "    </tr>\n",
       "    <tr>\n",
       "      <th>mean</th>\n",
       "      <td>107.71</td>\n",
       "      <td>203.84</td>\n",
       "    </tr>\n",
       "    <tr>\n",
       "      <th>std</th>\n",
       "      <td>135.50</td>\n",
       "      <td>174.99</td>\n",
       "    </tr>\n",
       "    <tr>\n",
       "      <th>min</th>\n",
       "      <td>-2.50</td>\n",
       "      <td>-5.42</td>\n",
       "    </tr>\n",
       "    <tr>\n",
       "      <th>25%</th>\n",
       "      <td>0.00</td>\n",
       "      <td>93.11</td>\n",
       "    </tr>\n",
       "    <tr>\n",
       "      <th>50%</th>\n",
       "      <td>69.54</td>\n",
       "      <td>156.43</td>\n",
       "    </tr>\n",
       "    <tr>\n",
       "      <th>75%</th>\n",
       "      <td>148.95</td>\n",
       "      <td>262.61</td>\n",
       "    </tr>\n",
       "    <tr>\n",
       "      <th>max</th>\n",
       "      <td>1986.59</td>\n",
       "      <td>2845.53</td>\n",
       "    </tr>\n",
       "  </tbody>\n",
       "</table>\n",
       "</div>"
      ],
      "text/plain": [
       "       168 days before  168 days after\n",
       "count          9657.00         9657.00\n",
       "mean            107.71          203.84\n",
       "std             135.50          174.99\n",
       "min              -2.50           -5.42\n",
       "25%               0.00           93.11\n",
       "50%              69.54          156.43\n",
       "75%             148.95          262.61\n",
       "max            1986.59         2845.53"
      ]
     },
     "metadata": {},
     "output_type": "display_data"
    }
   ],
   "source": [
    "concat_df = pd.DataFrame()\n",
    "\n",
    "sns.set()\n",
    "plt.figure(figsize=(12,8))\n",
    "plt.title('Histograms showing total sales per customer in 168 days before/after SP purchasing', fontsize=14)\n",
    "plt.ylabel('Customers')\n",
    "plt.xlabel('Sales')\n",
    "\n",
    "sp_customers_168['SALES_168_BEF'].hist(bins=80, range=(0, 800), alpha=0.5)\n",
    "sp_customers_168['SALES_168_AFT'].hist(bins=80, range=(0, 800), alpha=0.5)\n",
    "plt.legend(['168 days before', '168 days after'])\n",
    "concat_df = pd.concat([concat_df,\n",
    "                    pd.DataFrame(sp_customers_168['SALES_168_BEF'].describe().round(2)),\n",
    "                    pd.DataFrame(sp_customers_168['SALES_168_AFT'].describe().round(2)),\n",
    "                        ], axis=1)\n",
    "plt.show() \n",
    "\n",
    "concat_df.columns = ['168 days before', '168 days after']\n",
    "display(concat_df)"
   ]
  },
  {
   "cell_type": "markdown",
   "metadata": {
    "heading_collapsed": true
   },
   "source": [
    "#### AOV"
   ]
  },
  {
   "cell_type": "code",
   "execution_count": 83,
   "metadata": {
    "ExecuteTime": {
     "end_time": "2018-11-26T09:13:36.730162Z",
     "start_time": "2018-11-26T09:13:36.376162Z"
    },
    "hidden": true
   },
   "outputs": [
    {
     "data": {
      "image/png": "[encoded data removed]",
      "text/plain": [
       "<matplotlib.figure.Figure at 0xf331780>"
      ]
     },
     "metadata": {},
     "output_type": "display_data"
    },
    {
     "data": {
      "text/html": [
       "<div>\n",
       "<style scoped>\n",
       "    .dataframe tbody tr th:only-of-type {\n",
       "        vertical-align: middle;\n",
       "    }\n",
       "\n",
       "    .dataframe tbody tr th {\n",
       "        vertical-align: top;\n",
       "    }\n",
       "\n",
       "    .dataframe thead th {\n",
       "        text-align: right;\n",
       "    }\n",
       "</style>\n",
       "<table border=\"1\" class=\"dataframe\">\n",
       "  <thead>\n",
       "    <tr style=\"text-align: right;\">\n",
       "      <th></th>\n",
       "      <th>168 days before</th>\n",
       "      <th>168 days after</th>\n",
       "    </tr>\n",
       "  </thead>\n",
       "  <tbody>\n",
       "    <tr>\n",
       "      <th>count</th>\n",
       "      <td>6928.00</td>\n",
       "      <td>9657.00</td>\n",
       "    </tr>\n",
       "    <tr>\n",
       "      <th>mean</th>\n",
       "      <td>65.99</td>\n",
       "      <td>64.52</td>\n",
       "    </tr>\n",
       "    <tr>\n",
       "      <th>std</th>\n",
       "      <td>35.43</td>\n",
       "      <td>33.02</td>\n",
       "    </tr>\n",
       "    <tr>\n",
       "      <th>min</th>\n",
       "      <td>-2.50</td>\n",
       "      <td>-5.42</td>\n",
       "    </tr>\n",
       "    <tr>\n",
       "      <th>25%</th>\n",
       "      <td>42.99</td>\n",
       "      <td>43.74</td>\n",
       "    </tr>\n",
       "    <tr>\n",
       "      <th>50%</th>\n",
       "      <td>57.06</td>\n",
       "      <td>56.19</td>\n",
       "    </tr>\n",
       "    <tr>\n",
       "      <th>75%</th>\n",
       "      <td>78.92</td>\n",
       "      <td>76.20</td>\n",
       "    </tr>\n",
       "    <tr>\n",
       "      <th>max</th>\n",
       "      <td>391.96</td>\n",
       "      <td>427.94</td>\n",
       "    </tr>\n",
       "  </tbody>\n",
       "</table>\n",
       "</div>"
      ],
      "text/plain": [
       "       168 days before  168 days after\n",
       "count          6928.00         9657.00\n",
       "mean             65.99           64.52\n",
       "std              35.43           33.02\n",
       "min              -2.50           -5.42\n",
       "25%              42.99           43.74\n",
       "50%              57.06           56.19\n",
       "75%              78.92           76.20\n",
       "max             391.96          427.94"
      ]
     },
     "metadata": {},
     "output_type": "display_data"
    }
   ],
   "source": [
    "concat_df = pd.DataFrame()\n",
    "\n",
    "sns.set()\n",
    "plt.figure(figsize=(12,8))\n",
    "plt.title('Histograms showing total AOV per customer in 168 days before/after SP purchasing', fontsize=14)\n",
    "plt.ylabel('Customers')\n",
    "plt.xlabel('AOV')\n",
    "\n",
    "sp_customers_168['AOV_168_BEF'].hist(bins=50, range=(0, 250), alpha=0.5)\n",
    "sp_customers_168['AOV_168_AFT'].hist(bins=50, range=(0, 250), alpha=0.5)\n",
    "plt.legend(['168 days before', '168 days after'])\n",
    "concat_df = pd.concat([concat_df,\n",
    "                    pd.DataFrame(sp_customers_168['AOV_168_BEF'].describe().round(2)),\n",
    "                    pd.DataFrame(sp_customers_168['AOV_168_AFT'].describe().round(2)),\n",
    "                        ], axis=1)\n",
    "plt.show() \n",
    "\n",
    "concat_df.columns = ['168 days before', '168 days after']\n",
    "display(concat_df)"
   ]
  },
  {
   "cell_type": "markdown",
   "metadata": {
    "heading_collapsed": true
   },
   "source": [
    "#### Order Frequency"
   ]
  },
  {
   "cell_type": "code",
   "execution_count": 187,
   "metadata": {
    "ExecuteTime": {
     "end_time": "2018-11-26T10:18:31.282008Z",
     "start_time": "2018-11-26T10:18:31.021008Z"
    },
    "hidden": true
   },
   "outputs": [
    {
     "data": {
      "image/png": "[encoded data removed]",
      "text/plain": [
       "<matplotlib.figure.Figure at 0xcdbde48>"
      ]
     },
     "metadata": {},
     "output_type": "display_data"
    },
    {
     "data": {
      "text/html": [
       "<div>\n",
       "<style scoped>\n",
       "    .dataframe tbody tr th:only-of-type {\n",
       "        vertical-align: middle;\n",
       "    }\n",
       "\n",
       "    .dataframe tbody tr th {\n",
       "        vertical-align: top;\n",
       "    }\n",
       "\n",
       "    .dataframe thead th {\n",
       "        text-align: right;\n",
       "    }\n",
       "</style>\n",
       "<table border=\"1\" class=\"dataframe\">\n",
       "  <thead>\n",
       "    <tr style=\"text-align: right;\">\n",
       "      <th></th>\n",
       "      <th>168 days before</th>\n",
       "      <th>168 days after</th>\n",
       "    </tr>\n",
       "  </thead>\n",
       "  <tbody>\n",
       "    <tr>\n",
       "      <th>count</th>\n",
       "      <td>9657.00</td>\n",
       "      <td>9657.00</td>\n",
       "    </tr>\n",
       "    <tr>\n",
       "      <th>mean</th>\n",
       "      <td>1.65</td>\n",
       "      <td>3.18</td>\n",
       "    </tr>\n",
       "    <tr>\n",
       "      <th>std</th>\n",
       "      <td>1.78</td>\n",
       "      <td>2.14</td>\n",
       "    </tr>\n",
       "    <tr>\n",
       "      <th>min</th>\n",
       "      <td>0.00</td>\n",
       "      <td>1.00</td>\n",
       "    </tr>\n",
       "    <tr>\n",
       "      <th>25%</th>\n",
       "      <td>0.00</td>\n",
       "      <td>2.00</td>\n",
       "    </tr>\n",
       "    <tr>\n",
       "      <th>50%</th>\n",
       "      <td>1.00</td>\n",
       "      <td>3.00</td>\n",
       "    </tr>\n",
       "    <tr>\n",
       "      <th>75%</th>\n",
       "      <td>2.00</td>\n",
       "      <td>4.00</td>\n",
       "    </tr>\n",
       "    <tr>\n",
       "      <th>max</th>\n",
       "      <td>22.00</td>\n",
       "      <td>31.00</td>\n",
       "    </tr>\n",
       "  </tbody>\n",
       "</table>\n",
       "</div>"
      ],
      "text/plain": [
       "       168 days before  168 days after\n",
       "count          9657.00         9657.00\n",
       "mean              1.65            3.18\n",
       "std               1.78            2.14\n",
       "min               0.00            1.00\n",
       "25%               0.00            2.00\n",
       "50%               1.00            3.00\n",
       "75%               2.00            4.00\n",
       "max              22.00           31.00"
      ]
     },
     "metadata": {},
     "output_type": "display_data"
    }
   ],
   "source": [
    "concat_df = pd.DataFrame()\n",
    "\n",
    "sns.set()\n",
    "plt.figure(figsize=(12,8))\n",
    "plt.title('Histograms showing order frequency per customer in 168 days before/after SP purchasing', fontsize=14)\n",
    "plt.ylabel('Customers')\n",
    "plt.xlabel('AOV')\n",
    "\n",
    "sp_customers_168['OF_168_BEF'].hist(bins=20, range=(0, 20), alpha=0.5)\n",
    "sp_customers_168['OF_168_AFT'].hist(bins=20, range=(0, 20), alpha=0.5)\n",
    "plt.legend(['168 days before', '168 days after'])\n",
    "concat_df = pd.concat([concat_df,\n",
    "                    pd.DataFrame(sp_customers_168['OF_168_BEF'].describe().round(2)),\n",
    "                    pd.DataFrame(sp_customers_168['OF_168_AFT'].describe().round(2)),\n",
    "                        ], axis=1)\n",
    "plt.show() \n",
    "\n",
    "concat_df.columns = ['168 days before', '168 days after']\n",
    "display(concat_df)"
   ]
  },
  {
   "cell_type": "markdown",
   "metadata": {
    "heading_collapsed": true
   },
   "source": [
    "#### CM1% & CM2%"
   ]
  },
  {
   "cell_type": "code",
   "execution_count": 87,
   "metadata": {
    "ExecuteTime": {
     "end_time": "2018-11-26T09:18:06.032162Z",
     "start_time": "2018-11-26T09:18:05.575162Z"
    },
    "hidden": true
   },
   "outputs": [
    {
     "data": {
      "image/png": "[encoded data removed]",
      "text/plain": [
       "<matplotlib.figure.Figure at 0x1077ac18>"
      ]
     },
     "metadata": {},
     "output_type": "display_data"
    },
    {
     "data": {
      "text/html": [
       "<div>\n",
       "<style scoped>\n",
       "    .dataframe tbody tr th:only-of-type {\n",
       "        vertical-align: middle;\n",
       "    }\n",
       "\n",
       "    .dataframe tbody tr th {\n",
       "        vertical-align: top;\n",
       "    }\n",
       "\n",
       "    .dataframe thead th {\n",
       "        text-align: right;\n",
       "    }\n",
       "</style>\n",
       "<table border=\"1\" class=\"dataframe\">\n",
       "  <thead>\n",
       "    <tr style=\"text-align: right;\">\n",
       "      <th></th>\n",
       "      <th>168 days before</th>\n",
       "      <th>168 days after</th>\n",
       "    </tr>\n",
       "  </thead>\n",
       "  <tbody>\n",
       "    <tr>\n",
       "      <th>count</th>\n",
       "      <td>9657.00</td>\n",
       "      <td>9657.00</td>\n",
       "    </tr>\n",
       "    <tr>\n",
       "      <th>mean</th>\n",
       "      <td>22.16</td>\n",
       "      <td>30.68</td>\n",
       "    </tr>\n",
       "    <tr>\n",
       "      <th>std</th>\n",
       "      <td>16.09</td>\n",
       "      <td>9.55</td>\n",
       "    </tr>\n",
       "    <tr>\n",
       "      <th>min</th>\n",
       "      <td>-4.64</td>\n",
       "      <td>-36.11</td>\n",
       "    </tr>\n",
       "    <tr>\n",
       "      <th>25%</th>\n",
       "      <td>0.00</td>\n",
       "      <td>23.90</td>\n",
       "    </tr>\n",
       "    <tr>\n",
       "      <th>50%</th>\n",
       "      <td>25.49</td>\n",
       "      <td>29.64</td>\n",
       "    </tr>\n",
       "    <tr>\n",
       "      <th>75%</th>\n",
       "      <td>33.59</td>\n",
       "      <td>36.35</td>\n",
       "    </tr>\n",
       "    <tr>\n",
       "      <th>max</th>\n",
       "      <td>100.00</td>\n",
       "      <td>111.16</td>\n",
       "    </tr>\n",
       "  </tbody>\n",
       "</table>\n",
       "</div>"
      ],
      "text/plain": [
       "       168 days before  168 days after\n",
       "count          9657.00         9657.00\n",
       "mean             22.16           30.68\n",
       "std              16.09            9.55\n",
       "min              -4.64          -36.11\n",
       "25%               0.00           23.90\n",
       "50%              25.49           29.64\n",
       "75%              33.59           36.35\n",
       "max             100.00          111.16"
      ]
     },
     "metadata": {},
     "output_type": "display_data"
    }
   ],
   "source": [
    "concat_df = pd.DataFrame()\n",
    "\n",
    "sns.set()\n",
    "plt.figure(figsize=(12,8))\n",
    "plt.title('Histograms showing CM1% per SP customer in 168 days before/after SP purchasing', fontsize=14)\n",
    "plt.ylabel('Customers')\n",
    "plt.xlabel('CM1%')\n",
    "\n",
    "sp_customers_168['CM1%_168_BEF'].hist(bins=100, range=(-20, 80), alpha=0.5)\n",
    "sp_customers_168['CM1%_168_AFT'].hist(bins=100, range=(-20, 80), alpha=0.5)\n",
    "plt.legend(['168 days before', '168 days after'])\n",
    "concat_df = pd.concat([concat_df,\n",
    "                    pd.DataFrame(sp_customers_168['CM1%_168_BEF'].describe().round(2)),\n",
    "                    pd.DataFrame(sp_customers_168['CM1%_168_AFT'].describe().round(2)),\n",
    "                        ], axis=1)\n",
    "plt.show() \n",
    "\n",
    "concat_df.columns = ['168 days before', '168 days after']\n",
    "display(concat_df)"
   ]
  },
  {
   "cell_type": "code",
   "execution_count": 88,
   "metadata": {
    "ExecuteTime": {
     "end_time": "2018-11-26T09:19:16.222162Z",
     "start_time": "2018-11-26T09:19:15.549162Z"
    },
    "hidden": true
   },
   "outputs": [
    {
     "data": {
      "image/png": "[encoded data removed]",
      "text/plain": [
       "<matplotlib.figure.Figure at 0xe368be0>"
      ]
     },
     "metadata": {},
     "output_type": "display_data"
    },
    {
     "data": {
      "text/html": [
       "<div>\n",
       "<style scoped>\n",
       "    .dataframe tbody tr th:only-of-type {\n",
       "        vertical-align: middle;\n",
       "    }\n",
       "\n",
       "    .dataframe tbody tr th {\n",
       "        vertical-align: top;\n",
       "    }\n",
       "\n",
       "    .dataframe thead th {\n",
       "        text-align: right;\n",
       "    }\n",
       "</style>\n",
       "<table border=\"1\" class=\"dataframe\">\n",
       "  <thead>\n",
       "    <tr style=\"text-align: right;\">\n",
       "      <th></th>\n",
       "      <th>168 days before</th>\n",
       "      <th>168 days after</th>\n",
       "    </tr>\n",
       "  </thead>\n",
       "  <tbody>\n",
       "    <tr>\n",
       "      <th>count</th>\n",
       "      <td>9657.00</td>\n",
       "      <td>9657.00</td>\n",
       "    </tr>\n",
       "    <tr>\n",
       "      <th>mean</th>\n",
       "      <td>11.42</td>\n",
       "      <td>15.65</td>\n",
       "    </tr>\n",
       "    <tr>\n",
       "      <th>std</th>\n",
       "      <td>10.04</td>\n",
       "      <td>8.32</td>\n",
       "    </tr>\n",
       "    <tr>\n",
       "      <th>min</th>\n",
       "      <td>-50.87</td>\n",
       "      <td>-77.79</td>\n",
       "    </tr>\n",
       "    <tr>\n",
       "      <th>25%</th>\n",
       "      <td>0.00</td>\n",
       "      <td>10.28</td>\n",
       "    </tr>\n",
       "    <tr>\n",
       "      <th>50%</th>\n",
       "      <td>12.09</td>\n",
       "      <td>15.13</td>\n",
       "    </tr>\n",
       "    <tr>\n",
       "      <th>75%</th>\n",
       "      <td>18.39</td>\n",
       "      <td>20.73</td>\n",
       "    </tr>\n",
       "    <tr>\n",
       "      <th>max</th>\n",
       "      <td>100.00</td>\n",
       "      <td>118.08</td>\n",
       "    </tr>\n",
       "  </tbody>\n",
       "</table>\n",
       "</div>"
      ],
      "text/plain": [
       "       168 days before  168 days after\n",
       "count          9657.00         9657.00\n",
       "mean             11.42           15.65\n",
       "std              10.04            8.32\n",
       "min             -50.87          -77.79\n",
       "25%               0.00           10.28\n",
       "50%              12.09           15.13\n",
       "75%              18.39           20.73\n",
       "max             100.00          118.08"
      ]
     },
     "metadata": {},
     "output_type": "display_data"
    }
   ],
   "source": [
    "concat_df = pd.DataFrame()\n",
    "\n",
    "sns.set()\n",
    "plt.figure(figsize=(12,8))\n",
    "plt.title('Histograms showing CM2% per SP customer in 168 days before/after SP purchasing', fontsize=14)\n",
    "plt.ylabel('Customers')\n",
    "plt.xlabel('CM2%')\n",
    "\n",
    "sp_customers_168['CM2%_168_BEF'].hist(bins=100, range=(-20, 80), alpha=0.5)\n",
    "sp_customers_168['CM2%_168_AFT'].hist(bins=100, range=(-20, 80), alpha=0.5)\n",
    "plt.legend(['168 days before', '168 days after'])\n",
    "concat_df = pd.concat([concat_df,\n",
    "                    pd.DataFrame(sp_customers_168['CM2%_168_BEF'].describe().round(2)),\n",
    "                    pd.DataFrame(sp_customers_168['CM2%_168_AFT'].describe().round(2)),\n",
    "                        ], axis=1)\n",
    "plt.show() \n",
    "\n",
    "concat_df.columns = ['168 days before', '168 days after']\n",
    "display(concat_df)"
   ]
  },
  {
   "cell_type": "markdown",
   "metadata": {
    "heading_collapsed": true
   },
   "source": [
    "#### Number of PG3s "
   ]
  },
  {
   "cell_type": "code",
   "execution_count": 92,
   "metadata": {
    "ExecuteTime": {
     "end_time": "2018-11-26T09:26:43.996162Z",
     "start_time": "2018-11-26T09:26:43.719162Z"
    },
    "hidden": true
   },
   "outputs": [
    {
     "data": {
      "image/png": "[encoded data removed]",
      "text/plain": [
       "<matplotlib.figure.Figure at 0x10950cf8>"
      ]
     },
     "metadata": {},
     "output_type": "display_data"
    },
    {
     "data": {
      "text/html": [
       "<div>\n",
       "<style scoped>\n",
       "    .dataframe tbody tr th:only-of-type {\n",
       "        vertical-align: middle;\n",
       "    }\n",
       "\n",
       "    .dataframe tbody tr th {\n",
       "        vertical-align: top;\n",
       "    }\n",
       "\n",
       "    .dataframe thead th {\n",
       "        text-align: right;\n",
       "    }\n",
       "</style>\n",
       "<table border=\"1\" class=\"dataframe\">\n",
       "  <thead>\n",
       "    <tr style=\"text-align: right;\">\n",
       "      <th></th>\n",
       "      <th>168 days before</th>\n",
       "      <th>168 days after</th>\n",
       "    </tr>\n",
       "  </thead>\n",
       "  <tbody>\n",
       "    <tr>\n",
       "      <th>count</th>\n",
       "      <td>9657.00</td>\n",
       "      <td>9657.00</td>\n",
       "    </tr>\n",
       "    <tr>\n",
       "      <th>mean</th>\n",
       "      <td>2.31</td>\n",
       "      <td>4.12</td>\n",
       "    </tr>\n",
       "    <tr>\n",
       "      <th>std</th>\n",
       "      <td>2.44</td>\n",
       "      <td>2.91</td>\n",
       "    </tr>\n",
       "    <tr>\n",
       "      <th>min</th>\n",
       "      <td>0.00</td>\n",
       "      <td>0.00</td>\n",
       "    </tr>\n",
       "    <tr>\n",
       "      <th>25%</th>\n",
       "      <td>0.00</td>\n",
       "      <td>2.00</td>\n",
       "    </tr>\n",
       "    <tr>\n",
       "      <th>50%</th>\n",
       "      <td>2.00</td>\n",
       "      <td>3.00</td>\n",
       "    </tr>\n",
       "    <tr>\n",
       "      <th>75%</th>\n",
       "      <td>3.00</td>\n",
       "      <td>6.00</td>\n",
       "    </tr>\n",
       "    <tr>\n",
       "      <th>max</th>\n",
       "      <td>25.00</td>\n",
       "      <td>23.00</td>\n",
       "    </tr>\n",
       "  </tbody>\n",
       "</table>\n",
       "</div>"
      ],
      "text/plain": [
       "       168 days before  168 days after\n",
       "count          9657.00         9657.00\n",
       "mean              2.31            4.12\n",
       "std               2.44            2.91\n",
       "min               0.00            0.00\n",
       "25%               0.00            2.00\n",
       "50%               2.00            3.00\n",
       "75%               3.00            6.00\n",
       "max              25.00           23.00"
      ]
     },
     "metadata": {},
     "output_type": "display_data"
    }
   ],
   "source": [
    "concat_df = pd.DataFrame()\n",
    "\n",
    "sns.set()\n",
    "plt.figure(figsize=(12,8))\n",
    "plt.title('Histograms showing different PG3 bougth per customer in 168 days before/after SP purchasing', fontsize=14)\n",
    "plt.ylabel('Customers')\n",
    "plt.xlabel('different PG3 ')\n",
    "\n",
    "sp_customers_168['DIFF_PG3_168_BEF'].hist(bins=30, range=(0, 30), alpha=0.5)\n",
    "sp_customers_168['DIFF_PG3_168_AFT'].hist(bins=30, range=(0, 30), alpha=0.5)\n",
    "plt.legend(['168 days before', '168 days after'])\n",
    "concat_df = pd.concat([concat_df,\n",
    "                    pd.DataFrame(sp_customers_168['DIFF_PG3_168_BEF'].describe().round(2)),\n",
    "                    pd.DataFrame(sp_customers_168['DIFF_PG3_168_AFT'].describe().round(2)),\n",
    "                        ], axis=1)\n",
    "plt.show() \n",
    "\n",
    "concat_df.columns = ['168 days before', '168 days after']\n",
    "display(concat_df)"
   ]
  },
  {
   "cell_type": "markdown",
   "metadata": {
    "heading_collapsed": true
   },
   "source": [
    "#### PG3 shares and sales in each group"
   ]
  },
  {
   "cell_type": "code",
   "execution_count": 93,
   "metadata": {
    "ExecuteTime": {
     "end_time": "2018-11-26T09:29:24.260162Z",
     "start_time": "2018-11-26T09:29:24.251162Z"
    },
    "hidden": true
   },
   "outputs": [],
   "source": [
    "no_sp_flat_pg3_sales = [j for i in sp_customers_168['PG3_168_BEF_FLAT_SALES'].values for j in i]"
   ]
  },
  {
   "cell_type": "code",
   "execution_count": 94,
   "metadata": {
    "ExecuteTime": {
     "end_time": "2018-11-26T09:29:26.038162Z",
     "start_time": "2018-11-26T09:29:25.821162Z"
    },
    "hidden": true
   },
   "outputs": [],
   "source": [
    "no_sp_pg3_sales = sorted([(pg3, np.round(sum([sales_ for pg_3_, sales_ in no_sp_flat_pg3_sales if pg3==pg_3_\n",
    "                                                        ]), 3)) \n",
    "                                for pg3 in set([pg_3 for pg_3, sales in no_sp_flat_pg3_sales])], key= lambda x: x[1], reverse=True)"
   ]
  },
  {
   "cell_type": "code",
   "execution_count": 95,
   "metadata": {
    "ExecuteTime": {
     "end_time": "2018-11-26T09:29:27.705162Z",
     "start_time": "2018-11-26T09:29:27.699162Z"
    },
    "hidden": true
   },
   "outputs": [],
   "source": [
    "no_sp_pg3_dict_sales_no_disc = {i[0]: i[1] for i in no_sp_pg3_sales if i[0] != 0}"
   ]
  },
  {
   "cell_type": "code",
   "execution_count": 96,
   "metadata": {
    "ExecuteTime": {
     "end_time": "2018-11-26T09:29:29.176162Z",
     "start_time": "2018-11-26T09:29:29.171162Z"
    },
    "hidden": true
   },
   "outputs": [],
   "source": [
    "no_sp_pg3_dict_sales_share = {a: np.round(b/sum(no_sp_pg3_dict_sales_no_disc.values())*100, 3) \n",
    "                                                     for a, b in list(zip(no_sp_pg3_dict_sales_no_disc.keys(),\n",
    "                                                                          no_sp_pg3_dict_sales_no_disc.values()))}"
   ]
  },
  {
   "cell_type": "code",
   "execution_count": 97,
   "metadata": {
    "ExecuteTime": {
     "end_time": "2018-11-26T09:29:30.883162Z",
     "start_time": "2018-11-26T09:29:30.879162Z"
    },
    "hidden": true
   },
   "outputs": [],
   "source": [
    "filter_no_sp_pg3_dict_sales_share = {x: y for x, y in list(zip(no_sp_pg3_dict_sales_share.keys(),\n",
    "                                                                no_sp_pg3_dict_sales_share.values()))\n",
    "                                            if y >= 1}"
   ]
  },
  {
   "cell_type": "code",
   "execution_count": 98,
   "metadata": {
    "ExecuteTime": {
     "end_time": "2018-11-26T09:29:32.379162Z",
     "start_time": "2018-11-26T09:29:32.374162Z"
    },
    "hidden": true
   },
   "outputs": [
    {
     "data": {
      "text/plain": [
       "91.39899999999999"
      ]
     },
     "execution_count": 98,
     "metadata": {},
     "output_type": "execute_result"
    }
   ],
   "source": [
    "sum(filter_no_sp_pg3_dict_sales_share.values())"
   ]
  },
  {
   "cell_type": "code",
   "execution_count": 99,
   "metadata": {
    "ExecuteTime": {
     "end_time": "2018-11-26T09:29:34.706162Z",
     "start_time": "2018-11-26T09:29:34.692162Z"
    },
    "hidden": true
   },
   "outputs": [],
   "source": [
    "sp_flat_pg3_sales = [j for i in sp_customers_168['PG3_168_AFT_FLAT_SALES'].values for j in i]"
   ]
  },
  {
   "cell_type": "code",
   "execution_count": 100,
   "metadata": {
    "ExecuteTime": {
     "end_time": "2018-11-26T09:29:37.766162Z",
     "start_time": "2018-11-26T09:29:37.309162Z"
    },
    "hidden": true
   },
   "outputs": [],
   "source": [
    "sp_pg3_sales = sorted([(pg3, np.round(sum([sales_ for pg_3_, sales_ in sp_flat_pg3_sales if pg3==pg_3_\n",
    "                                                        ]), 3)) \n",
    "                                for pg3 in set([pg_3 for pg_3, sales in sp_flat_pg3_sales])], key= lambda x: x[1], reverse=True)"
   ]
  },
  {
   "cell_type": "code",
   "execution_count": 101,
   "metadata": {
    "ExecuteTime": {
     "end_time": "2018-11-26T09:29:39.419162Z",
     "start_time": "2018-11-26T09:29:39.412162Z"
    },
    "hidden": true
   },
   "outputs": [],
   "source": [
    "sp_pg3_dict_sales_no_disc = {i[0]: i[1] for i in sp_pg3_sales if i[0] != 0}"
   ]
  },
  {
   "cell_type": "code",
   "execution_count": 102,
   "metadata": {
    "ExecuteTime": {
     "end_time": "2018-11-26T09:29:47.289162Z",
     "start_time": "2018-11-26T09:29:47.276162Z"
    },
    "hidden": true
   },
   "outputs": [],
   "source": [
    "sp_pg3_dict_sales_share = {a: np.round(b/sum(sp_pg3_dict_sales_no_disc.values())*100, 3) \n",
    "                                                     for a, b in list(zip(sp_pg3_dict_sales_no_disc.keys(),\n",
    "                                                                          sp_pg3_dict_sales_no_disc.values()))}"
   ]
  },
  {
   "cell_type": "code",
   "execution_count": 103,
   "metadata": {
    "ExecuteTime": {
     "end_time": "2018-11-26T09:29:49.092162Z",
     "start_time": "2018-11-26T09:29:49.087162Z"
    },
    "hidden": true
   },
   "outputs": [],
   "source": [
    "filter_sp_pg3_dict_sales_share = {x: y for x, y in list(zip(sp_pg3_dict_sales_share.keys(),\n",
    "                                                                    sp_pg3_dict_sales_share.values()))\n",
    "                                            if y >= 1}"
   ]
  },
  {
   "cell_type": "code",
   "execution_count": 104,
   "metadata": {
    "ExecuteTime": {
     "end_time": "2018-11-26T09:29:50.657162Z",
     "start_time": "2018-11-26T09:29:50.652162Z"
    },
    "hidden": true
   },
   "outputs": [
    {
     "data": {
      "text/plain": [
       "91.182"
      ]
     },
     "execution_count": 104,
     "metadata": {},
     "output_type": "execute_result"
    }
   ],
   "source": [
    "sum(filter_sp_pg3_dict_sales_share.values())"
   ]
  },
  {
   "cell_type": "code",
   "execution_count": 105,
   "metadata": {
    "ExecuteTime": {
     "end_time": "2018-11-26T09:29:55.671162Z",
     "start_time": "2018-11-26T09:29:55.660162Z"
    },
    "hidden": true
   },
   "outputs": [],
   "source": [
    "no_sp_cus_pg3_share_df = pd.DataFrame.from_dict(filter_no_sp_pg3_dict_sales_share, orient='index')\n",
    "sp_cus_pg3_share_df = pd.DataFrame.from_dict(filter_sp_pg3_dict_sales_share, orient='index')"
   ]
  },
  {
   "cell_type": "code",
   "execution_count": 106,
   "metadata": {
    "ExecuteTime": {
     "end_time": "2018-11-26T09:29:59.380162Z",
     "start_time": "2018-11-26T09:29:59.358162Z"
    },
    "hidden": true
   },
   "outputs": [],
   "source": [
    "pg3_share_comparison = pd.concat([no_sp_cus_pg3_share_df,sp_cus_pg3_share_df], axis=1).fillna(0)\n",
    "pg3_share_comparison.columns = ['NO_SP_ORD', 'SP_ORD']\n",
    "pg3_share_comparison['PG3'] = pg3_share_comparison.index.values\n",
    "#pg3_share_comparison['PG3'] = pg3_share_comparison['PG3'].astype(str)\n",
    "pg3_share_comparison = pg3_share_comparison[['PG3', 'NO_SP_ORD', 'SP_ORD']]"
   ]
  },
  {
   "cell_type": "code",
   "execution_count": 107,
   "metadata": {
    "ExecuteTime": {
     "end_time": "2018-11-26T09:30:02.231162Z",
     "start_time": "2018-11-26T09:30:02.227162Z"
    },
    "hidden": true
   },
   "outputs": [],
   "source": [
    "pg3_l = list(pg3_share_comparison['PG3'].values)"
   ]
  },
  {
   "cell_type": "code",
   "execution_count": 108,
   "metadata": {
    "ExecuteTime": {
     "end_time": "2018-11-26T09:30:03.835162Z",
     "start_time": "2018-11-26T09:30:03.832162Z"
    },
    "hidden": true
   },
   "outputs": [],
   "source": [
    "pg3_list = repr(pg3_l).replace('[','(').replace(']',')')"
   ]
  },
  {
   "cell_type": "code",
   "execution_count": 109,
   "metadata": {
    "ExecuteTime": {
     "end_time": "2018-11-26T09:30:05.339162Z",
     "start_time": "2018-11-26T09:30:05.336162Z"
    },
    "hidden": true
   },
   "outputs": [],
   "source": [
    "query = \"\"\"select pg_id, pg_shortlink from ZOOMAN.PRODUCT_GROUPS\n",
    "where pg_id in %s\"\"\" % pg3_list"
   ]
  },
  {
   "cell_type": "code",
   "execution_count": 110,
   "metadata": {
    "ExecuteTime": {
     "end_time": "2018-11-26T09:30:08.115162Z",
     "start_time": "2018-11-26T09:30:06.893162Z"
    },
    "hidden": true
   },
   "outputs": [],
   "source": [
    "conn = cx_Oracle.connect('zooor', 'zoo12or', 'zoorep', threaded=True, encoding = \"UTF-8\", nencoding = \"UTF-8\")\n",
    "pg3 = pd.read_sql(query, con = conn)\n",
    "conn.close()"
   ]
  },
  {
   "cell_type": "code",
   "execution_count": 111,
   "metadata": {
    "ExecuteTime": {
     "end_time": "2018-11-26T09:30:10.303162Z",
     "start_time": "2018-11-26T09:30:10.287162Z"
    },
    "hidden": true
   },
   "outputs": [
    {
     "data": {
      "text/html": [
       "<div>\n",
       "<style scoped>\n",
       "    .dataframe tbody tr th:only-of-type {\n",
       "        vertical-align: middle;\n",
       "    }\n",
       "\n",
       "    .dataframe tbody tr th {\n",
       "        vertical-align: top;\n",
       "    }\n",
       "\n",
       "    .dataframe thead th {\n",
       "        text-align: right;\n",
       "    }\n",
       "</style>\n",
       "<table border=\"1\" class=\"dataframe\">\n",
       "  <thead>\n",
       "    <tr style=\"text-align: right;\">\n",
       "      <th></th>\n",
       "      <th>PG_ID</th>\n",
       "      <th>PG_SHORTLINK</th>\n",
       "    </tr>\n",
       "  </thead>\n",
       "  <tbody>\n",
       "    <tr>\n",
       "      <th>0</th>\n",
       "      <td>9</td>\n",
       "      <td>hundebett</td>\n",
       "    </tr>\n",
       "    <tr>\n",
       "      <th>1</th>\n",
       "      <td>15</td>\n",
       "      <td>hundeleine_hundehalsband</td>\n",
       "    </tr>\n",
       "    <tr>\n",
       "      <th>2</th>\n",
       "      <td>18</td>\n",
       "      <td>hundesnacks</td>\n",
       "    </tr>\n",
       "    <tr>\n",
       "      <th>3</th>\n",
       "      <td>20</td>\n",
       "      <td>hundespielzeug</td>\n",
       "    </tr>\n",
       "    <tr>\n",
       "      <th>4</th>\n",
       "      <td>23</td>\n",
       "      <td>kratzbaum_katzenbaum</td>\n",
       "    </tr>\n",
       "    <tr>\n",
       "      <th>5</th>\n",
       "      <td>29</td>\n",
       "      <td>katzentoilette</td>\n",
       "    </tr>\n",
       "    <tr>\n",
       "      <th>6</th>\n",
       "      <td>33</td>\n",
       "      <td>fressnapf</td>\n",
       "    </tr>\n",
       "    <tr>\n",
       "      <th>7</th>\n",
       "      <td>34</td>\n",
       "      <td>katzensnacks</td>\n",
       "    </tr>\n",
       "    <tr>\n",
       "      <th>8</th>\n",
       "      <td>36</td>\n",
       "      <td>katzenspielzeug</td>\n",
       "    </tr>\n",
       "    <tr>\n",
       "      <th>9</th>\n",
       "      <td>251</td>\n",
       "      <td>hundefutter_trockenfutter</td>\n",
       "    </tr>\n",
       "    <tr>\n",
       "      <th>10</th>\n",
       "      <td>252</td>\n",
       "      <td>katzenfutter_trockenfutter</td>\n",
       "    </tr>\n",
       "    <tr>\n",
       "      <th>11</th>\n",
       "      <td>301</td>\n",
       "      <td>katzenstreu</td>\n",
       "    </tr>\n",
       "    <tr>\n",
       "      <th>12</th>\n",
       "      <td>409</td>\n",
       "      <td>hundepflege</td>\n",
       "    </tr>\n",
       "    <tr>\n",
       "      <th>13</th>\n",
       "      <td>857</td>\n",
       "      <td>hundefutter_nassfutter</td>\n",
       "    </tr>\n",
       "    <tr>\n",
       "      <th>14</th>\n",
       "      <td>2068</td>\n",
       "      <td>katzenfutter_dose</td>\n",
       "    </tr>\n",
       "    <tr>\n",
       "      <th>15</th>\n",
       "      <td>2155</td>\n",
       "      <td>balkon_garten</td>\n",
       "    </tr>\n",
       "    <tr>\n",
       "      <th>16</th>\n",
       "      <td>2190</td>\n",
       "      <td>hundetransportbox</td>\n",
       "    </tr>\n",
       "  </tbody>\n",
       "</table>\n",
       "</div>"
      ],
      "text/plain": [
       "    PG_ID                PG_SHORTLINK\n",
       "0       9                   hundebett\n",
       "1      15    hundeleine_hundehalsband\n",
       "2      18                 hundesnacks\n",
       "3      20              hundespielzeug\n",
       "4      23        kratzbaum_katzenbaum\n",
       "5      29              katzentoilette\n",
       "6      33                   fressnapf\n",
       "7      34                katzensnacks\n",
       "8      36             katzenspielzeug\n",
       "9     251   hundefutter_trockenfutter\n",
       "10    252  katzenfutter_trockenfutter\n",
       "11    301                 katzenstreu\n",
       "12    409                 hundepflege\n",
       "13    857      hundefutter_nassfutter\n",
       "14   2068           katzenfutter_dose\n",
       "15   2155               balkon_garten\n",
       "16   2190           hundetransportbox"
      ]
     },
     "execution_count": 111,
     "metadata": {},
     "output_type": "execute_result"
    }
   ],
   "source": [
    "pg3"
   ]
  },
  {
   "cell_type": "code",
   "execution_count": 112,
   "metadata": {
    "ExecuteTime": {
     "end_time": "2018-11-26T09:30:15.046162Z",
     "start_time": "2018-11-26T09:30:15.041162Z"
    },
    "hidden": true
   },
   "outputs": [],
   "source": [
    "pg3_dict = {x: y for x, y in list(zip(pg3['PG_ID'].values, pg3['PG_SHORTLINK'].values))}"
   ]
  },
  {
   "cell_type": "code",
   "execution_count": 113,
   "metadata": {
    "ExecuteTime": {
     "end_time": "2018-11-26T09:30:18.201162Z",
     "start_time": "2018-11-26T09:30:16.682162Z"
    },
    "hidden": true
   },
   "outputs": [],
   "source": [
    "pg3_share_comparison['PG3_NAME'] = [pg3_dict[i] for i in pg3_share_comparison['PG3'].values]"
   ]
  },
  {
   "cell_type": "code",
   "execution_count": 114,
   "metadata": {
    "ExecuteTime": {
     "end_time": "2018-11-26T09:30:19.717162Z",
     "start_time": "2018-11-26T09:30:19.706162Z"
    },
    "hidden": true
   },
   "outputs": [
    {
     "data": {
      "text/html": [
       "<div>\n",
       "<style scoped>\n",
       "    .dataframe tbody tr th:only-of-type {\n",
       "        vertical-align: middle;\n",
       "    }\n",
       "\n",
       "    .dataframe tbody tr th {\n",
       "        vertical-align: top;\n",
       "    }\n",
       "\n",
       "    .dataframe thead th {\n",
       "        text-align: right;\n",
       "    }\n",
       "</style>\n",
       "<table border=\"1\" class=\"dataframe\">\n",
       "  <thead>\n",
       "    <tr style=\"text-align: right;\">\n",
       "      <th></th>\n",
       "      <th>PG3</th>\n",
       "      <th>NO_SP_ORD</th>\n",
       "      <th>SP_ORD</th>\n",
       "      <th>PG3_NAME</th>\n",
       "    </tr>\n",
       "  </thead>\n",
       "  <tbody>\n",
       "    <tr>\n",
       "      <th>9</th>\n",
       "      <td>9</td>\n",
       "      <td>1.745</td>\n",
       "      <td>2.215</td>\n",
       "      <td>hundebett</td>\n",
       "    </tr>\n",
       "    <tr>\n",
       "      <th>15</th>\n",
       "      <td>15</td>\n",
       "      <td>1.158</td>\n",
       "      <td>1.437</td>\n",
       "      <td>hundeleine_hundehalsband</td>\n",
       "    </tr>\n",
       "    <tr>\n",
       "      <th>18</th>\n",
       "      <td>18</td>\n",
       "      <td>3.919</td>\n",
       "      <td>2.842</td>\n",
       "      <td>hundesnacks</td>\n",
       "    </tr>\n",
       "    <tr>\n",
       "      <th>20</th>\n",
       "      <td>20</td>\n",
       "      <td>1.211</td>\n",
       "      <td>1.275</td>\n",
       "      <td>hundespielzeug</td>\n",
       "    </tr>\n",
       "    <tr>\n",
       "      <th>23</th>\n",
       "      <td>23</td>\n",
       "      <td>2.905</td>\n",
       "      <td>5.409</td>\n",
       "      <td>kratzbaum_katzenbaum</td>\n",
       "    </tr>\n",
       "    <tr>\n",
       "      <th>29</th>\n",
       "      <td>29</td>\n",
       "      <td>1.838</td>\n",
       "      <td>2.225</td>\n",
       "      <td>katzentoilette</td>\n",
       "    </tr>\n",
       "    <tr>\n",
       "      <th>33</th>\n",
       "      <td>33</td>\n",
       "      <td>1.195</td>\n",
       "      <td>1.592</td>\n",
       "      <td>fressnapf</td>\n",
       "    </tr>\n",
       "    <tr>\n",
       "      <th>34</th>\n",
       "      <td>34</td>\n",
       "      <td>1.323</td>\n",
       "      <td>1.002</td>\n",
       "      <td>katzensnacks</td>\n",
       "    </tr>\n",
       "    <tr>\n",
       "      <th>36</th>\n",
       "      <td>36</td>\n",
       "      <td>1.496</td>\n",
       "      <td>1.981</td>\n",
       "      <td>katzenspielzeug</td>\n",
       "    </tr>\n",
       "    <tr>\n",
       "      <th>251</th>\n",
       "      <td>251</td>\n",
       "      <td>25.540</td>\n",
       "      <td>21.719</td>\n",
       "      <td>hundefutter_trockenfutter</td>\n",
       "    </tr>\n",
       "    <tr>\n",
       "      <th>252</th>\n",
       "      <td>252</td>\n",
       "      <td>28.975</td>\n",
       "      <td>29.770</td>\n",
       "      <td>katzenfutter_trockenfutter</td>\n",
       "    </tr>\n",
       "    <tr>\n",
       "      <th>301</th>\n",
       "      <td>301</td>\n",
       "      <td>5.488</td>\n",
       "      <td>4.847</td>\n",
       "      <td>katzenstreu</td>\n",
       "    </tr>\n",
       "    <tr>\n",
       "      <th>409</th>\n",
       "      <td>409</td>\n",
       "      <td>0.000</td>\n",
       "      <td>1.058</td>\n",
       "      <td>hundepflege</td>\n",
       "    </tr>\n",
       "    <tr>\n",
       "      <th>857</th>\n",
       "      <td>857</td>\n",
       "      <td>2.427</td>\n",
       "      <td>1.786</td>\n",
       "      <td>hundefutter_nassfutter</td>\n",
       "    </tr>\n",
       "    <tr>\n",
       "      <th>2068</th>\n",
       "      <td>2068</td>\n",
       "      <td>11.065</td>\n",
       "      <td>8.820</td>\n",
       "      <td>katzenfutter_dose</td>\n",
       "    </tr>\n",
       "    <tr>\n",
       "      <th>2155</th>\n",
       "      <td>2155</td>\n",
       "      <td>0.000</td>\n",
       "      <td>1.218</td>\n",
       "      <td>balkon_garten</td>\n",
       "    </tr>\n",
       "    <tr>\n",
       "      <th>2190</th>\n",
       "      <td>2190</td>\n",
       "      <td>1.114</td>\n",
       "      <td>1.986</td>\n",
       "      <td>hundetransportbox</td>\n",
       "    </tr>\n",
       "  </tbody>\n",
       "</table>\n",
       "</div>"
      ],
      "text/plain": [
       "       PG3  NO_SP_ORD  SP_ORD                    PG3_NAME\n",
       "9        9      1.745   2.215                   hundebett\n",
       "15      15      1.158   1.437    hundeleine_hundehalsband\n",
       "18      18      3.919   2.842                 hundesnacks\n",
       "20      20      1.211   1.275              hundespielzeug\n",
       "23      23      2.905   5.409        kratzbaum_katzenbaum\n",
       "29      29      1.838   2.225              katzentoilette\n",
       "33      33      1.195   1.592                   fressnapf\n",
       "34      34      1.323   1.002                katzensnacks\n",
       "36      36      1.496   1.981             katzenspielzeug\n",
       "251    251     25.540  21.719   hundefutter_trockenfutter\n",
       "252    252     28.975  29.770  katzenfutter_trockenfutter\n",
       "301    301      5.488   4.847                 katzenstreu\n",
       "409    409      0.000   1.058                 hundepflege\n",
       "857    857      2.427   1.786      hundefutter_nassfutter\n",
       "2068  2068     11.065   8.820           katzenfutter_dose\n",
       "2155  2155      0.000   1.218               balkon_garten\n",
       "2190  2190      1.114   1.986           hundetransportbox"
      ]
     },
     "execution_count": 114,
     "metadata": {},
     "output_type": "execute_result"
    }
   ],
   "source": [
    "pg3_share_comparison"
   ]
  },
  {
   "cell_type": "code",
   "execution_count": 130,
   "metadata": {
    "ExecuteTime": {
     "end_time": "2018-11-26T09:38:07.266162Z",
     "start_time": "2018-11-26T09:38:06.951162Z"
    },
    "hidden": true
   },
   "outputs": [
    {
     "data": {
      "image/png": "[encoded data removed]",
      "text/plain": [
       "<matplotlib.figure.Figure at 0x107dfbe0>"
      ]
     },
     "metadata": {},
     "output_type": "display_data"
    }
   ],
   "source": [
    "plt.figure(figsize=(12, 12))\n",
    "x = pg3_share_comparison['PG3_NAME'].values\n",
    "y = pg3_share_comparison['NO_SP_ORD'].values\n",
    "z = pg3_share_comparison['SP_ORD'].values\n",
    "plt.barh(x, y, color='g')\n",
    "plt.barh(x, z, color='orange', alpha=0.5)\n",
    "plt.title('PG3 share on orders 168 days before/after SP purchasing', fontsize=14)\n",
    "plt.ylabel('PG3')\n",
    "plt.xlabel('Sales share %')\n",
    "plt.legend(['NO SP Orders', 'SP Orders'])\n",
    "plt.show()"
   ]
  },
  {
   "cell_type": "code",
   "execution_count": 116,
   "metadata": {
    "ExecuteTime": {
     "end_time": "2018-11-26T09:32:09.296162Z",
     "start_time": "2018-11-26T09:32:09.283162Z"
    },
    "hidden": true
   },
   "outputs": [],
   "source": [
    "no_sp_cus_pg3_sales_df = pd.DataFrame.from_dict(no_sp_pg3_dict_sales_no_disc, orient='index')\n",
    "sp_cus_pg3_sales_df = pd.DataFrame.from_dict(sp_pg3_dict_sales_no_disc, orient='index')"
   ]
  },
  {
   "cell_type": "code",
   "execution_count": 117,
   "metadata": {
    "ExecuteTime": {
     "end_time": "2018-11-26T09:32:27.011162Z",
     "start_time": "2018-11-26T09:32:26.996162Z"
    },
    "hidden": true
   },
   "outputs": [],
   "source": [
    "pg3_sales_comparison = pd.concat([no_sp_cus_pg3_sales_df, sp_cus_pg3_sales_df], axis=1).fillna(0)\n",
    "pg3_sales_comparison.columns = ['NO_SP_ORD', 'SP_ORD']\n",
    "pg3_sales_comparison['PG3'] = pg3_sales_comparison.index.values\n",
    "#pg3_sales_comparison['PG3'] = pg3_sales_comparison['PG3'].astype(str)"
   ]
  },
  {
   "cell_type": "code",
   "execution_count": 118,
   "metadata": {
    "ExecuteTime": {
     "end_time": "2018-11-26T09:32:28.674162Z",
     "start_time": "2018-11-26T09:32:28.671162Z"
    },
    "hidden": true
   },
   "outputs": [],
   "source": [
    "pg3_lis = list(pg3_sales_comparison['PG3'].values)"
   ]
  },
  {
   "cell_type": "code",
   "execution_count": 119,
   "metadata": {
    "ExecuteTime": {
     "end_time": "2018-11-26T09:32:30.186162Z",
     "start_time": "2018-11-26T09:32:30.183162Z"
    },
    "hidden": true
   },
   "outputs": [],
   "source": [
    "pg3_lista = repr(pg3_lis).replace('[','(').replace(']',')')"
   ]
  },
  {
   "cell_type": "code",
   "execution_count": 120,
   "metadata": {
    "ExecuteTime": {
     "end_time": "2018-11-26T09:32:31.673162Z",
     "start_time": "2018-11-26T09:32:31.669162Z"
    },
    "hidden": true
   },
   "outputs": [],
   "source": [
    "query = \"\"\"select pg_id, pg_shortlink from ZOOMAN.PRODUCT_GROUPS\n",
    "where pg_id in %s\"\"\" % pg3_lista"
   ]
  },
  {
   "cell_type": "code",
   "execution_count": 121,
   "metadata": {
    "ExecuteTime": {
     "end_time": "2018-11-26T09:32:34.217162Z",
     "start_time": "2018-11-26T09:32:33.193162Z"
    },
    "hidden": true
   },
   "outputs": [],
   "source": [
    "conn = cx_Oracle.connect('zooor', 'zoo12or', 'zoorep', threaded=True, encoding = \"UTF-8\", nencoding = \"UTF-8\")\n",
    "pg3 = pd.read_sql(query, con = conn)\n",
    "conn.close()"
   ]
  },
  {
   "cell_type": "code",
   "execution_count": 122,
   "metadata": {
    "ExecuteTime": {
     "end_time": "2018-11-26T09:32:35.780162Z",
     "start_time": "2018-11-26T09:32:35.777162Z"
    },
    "hidden": true
   },
   "outputs": [],
   "source": [
    "pg3_dict = {x: y for x, y in list(zip(pg3['PG_ID'].values, pg3['PG_SHORTLINK'].values))}"
   ]
  },
  {
   "cell_type": "code",
   "execution_count": 123,
   "metadata": {
    "ExecuteTime": {
     "end_time": "2018-11-26T09:32:37.328162Z",
     "start_time": "2018-11-26T09:32:37.324162Z"
    },
    "hidden": true
   },
   "outputs": [],
   "source": [
    "pg3_sales_comparison['PG3_NAME'] = [pg3_dict[i] for i in pg3_sales_comparison['PG3'].values]"
   ]
  },
  {
   "cell_type": "code",
   "execution_count": 128,
   "metadata": {
    "ExecuteTime": {
     "end_time": "2018-11-26T09:37:39.500162Z",
     "start_time": "2018-11-26T09:37:39.491162Z"
    },
    "hidden": true
   },
   "outputs": [],
   "source": [
    "pg3_sales_comparison = pg3_sales_comparison[['PG3', 'PG3_NAME', 'NO_SP_ORD', 'SP_ORD']]\n",
    "pg3_sales_comparison = pg3_sales_comparison[(pg3_sales_comparison['NO_SP_ORD'] >= 1000) | (pg3_sales_comparison['SP_ORD'] >= 1000)]"
   ]
  },
  {
   "cell_type": "code",
   "execution_count": 131,
   "metadata": {
    "ExecuteTime": {
     "end_time": "2018-11-26T09:38:18.146162Z",
     "start_time": "2018-11-26T09:38:17.539162Z"
    },
    "hidden": true
   },
   "outputs": [
    {
     "data": {
      "image/png": "[encoded data removed]",
      "text/plain": [
       "<matplotlib.figure.Figure at 0x1084e5c0>"
      ]
     },
     "metadata": {},
     "output_type": "display_data"
    }
   ],
   "source": [
    "plt.figure(figsize=(12, 12))\n",
    "x = pg3_sales_comparison['PG3_NAME'].values\n",
    "y = pg3_sales_comparison['NO_SP_ORD'].values\n",
    "z = pg3_sales_comparison['SP_ORD'].values\n",
    "plt.barh(x, y, color='g')\n",
    "plt.barh(x, z, color='orange', alpha=0.5)\n",
    "plt.title('PG3 sales on orders 168 days before/after SP purchasing', fontsize=14)\n",
    "plt.ylabel('PG3')\n",
    "plt.xlabel('Sales')\n",
    "plt.legend(['NO SP Orders', 'SP Orders'])\n",
    "plt.show()"
   ]
  },
  {
   "cell_type": "code",
   "execution_count": 132,
   "metadata": {
    "ExecuteTime": {
     "end_time": "2018-11-26T09:39:27.682162Z",
     "start_time": "2018-11-26T09:39:27.653162Z"
    },
    "hidden": true
   },
   "outputs": [
    {
     "data": {
      "text/html": [
       "<div>\n",
       "<style scoped>\n",
       "    .dataframe tbody tr th:only-of-type {\n",
       "        vertical-align: middle;\n",
       "    }\n",
       "\n",
       "    .dataframe tbody tr th {\n",
       "        vertical-align: top;\n",
       "    }\n",
       "\n",
       "    .dataframe thead th {\n",
       "        text-align: right;\n",
       "    }\n",
       "</style>\n",
       "<table border=\"1\" class=\"dataframe\">\n",
       "  <thead>\n",
       "    <tr style=\"text-align: right;\">\n",
       "      <th></th>\n",
       "      <th>PG3</th>\n",
       "      <th>PG3_NAME</th>\n",
       "      <th>NO_SP_ORD</th>\n",
       "      <th>SP_ORD</th>\n",
       "    </tr>\n",
       "  </thead>\n",
       "  <tbody>\n",
       "    <tr>\n",
       "      <th>9</th>\n",
       "      <td>9</td>\n",
       "      <td>hundebett</td>\n",
       "      <td>18196.63</td>\n",
       "      <td>44470.81</td>\n",
       "    </tr>\n",
       "    <tr>\n",
       "      <th>15</th>\n",
       "      <td>15</td>\n",
       "      <td>hundeleine_hundehalsband</td>\n",
       "      <td>12074.16</td>\n",
       "      <td>28850.96</td>\n",
       "    </tr>\n",
       "    <tr>\n",
       "      <th>16</th>\n",
       "      <td>16</td>\n",
       "      <td>fressnapf</td>\n",
       "      <td>3056.15</td>\n",
       "      <td>8302.98</td>\n",
       "    </tr>\n",
       "    <tr>\n",
       "      <th>18</th>\n",
       "      <td>18</td>\n",
       "      <td>hundesnacks</td>\n",
       "      <td>40862.38</td>\n",
       "      <td>57057.67</td>\n",
       "    </tr>\n",
       "    <tr>\n",
       "      <th>20</th>\n",
       "      <td>20</td>\n",
       "      <td>hundespielzeug</td>\n",
       "      <td>12627.17</td>\n",
       "      <td>25600.23</td>\n",
       "    </tr>\n",
       "    <tr>\n",
       "      <th>23</th>\n",
       "      <td>23</td>\n",
       "      <td>kratzbaum_katzenbaum</td>\n",
       "      <td>30292.22</td>\n",
       "      <td>108588.04</td>\n",
       "    </tr>\n",
       "    <tr>\n",
       "      <th>29</th>\n",
       "      <td>29</td>\n",
       "      <td>katzentoilette</td>\n",
       "      <td>19158.97</td>\n",
       "      <td>44677.28</td>\n",
       "    </tr>\n",
       "    <tr>\n",
       "      <th>33</th>\n",
       "      <td>33</td>\n",
       "      <td>fressnapf</td>\n",
       "      <td>12461.40</td>\n",
       "      <td>31959.26</td>\n",
       "    </tr>\n",
       "    <tr>\n",
       "      <th>34</th>\n",
       "      <td>34</td>\n",
       "      <td>katzensnacks</td>\n",
       "      <td>13789.66</td>\n",
       "      <td>20117.90</td>\n",
       "    </tr>\n",
       "    <tr>\n",
       "      <th>36</th>\n",
       "      <td>36</td>\n",
       "      <td>katzenspielzeug</td>\n",
       "      <td>15595.46</td>\n",
       "      <td>39766.53</td>\n",
       "    </tr>\n",
       "    <tr>\n",
       "      <th>37</th>\n",
       "      <td>37</td>\n",
       "      <td>transport</td>\n",
       "      <td>3329.03</td>\n",
       "      <td>11574.69</td>\n",
       "    </tr>\n",
       "    <tr>\n",
       "      <th>38</th>\n",
       "      <td>38</td>\n",
       "      <td>katzenfutter_ergaenzung</td>\n",
       "      <td>2153.47</td>\n",
       "      <td>4225.17</td>\n",
       "    </tr>\n",
       "    <tr>\n",
       "      <th>42</th>\n",
       "      <td>42</td>\n",
       "      <td>kaefigzubehoer</td>\n",
       "      <td>2308.93</td>\n",
       "      <td>5247.09</td>\n",
       "    </tr>\n",
       "    <tr>\n",
       "      <th>45</th>\n",
       "      <td>45</td>\n",
       "      <td>futter</td>\n",
       "      <td>5382.36</td>\n",
       "      <td>9002.00</td>\n",
       "    </tr>\n",
       "    <tr>\n",
       "      <th>47</th>\n",
       "      <td>47</td>\n",
       "      <td>spielzeug</td>\n",
       "      <td>705.79</td>\n",
       "      <td>1790.48</td>\n",
       "    </tr>\n",
       "    <tr>\n",
       "      <th>48</th>\n",
       "      <td>48</td>\n",
       "      <td>pflege</td>\n",
       "      <td>389.38</td>\n",
       "      <td>1009.61</td>\n",
       "    </tr>\n",
       "    <tr>\n",
       "      <th>62</th>\n",
       "      <td>62</td>\n",
       "      <td>fischfutter</td>\n",
       "      <td>2514.56</td>\n",
       "      <td>4155.68</td>\n",
       "    </tr>\n",
       "    <tr>\n",
       "      <th>65</th>\n",
       "      <td>65</td>\n",
       "      <td>aquarium_pflanzen</td>\n",
       "      <td>1247.56</td>\n",
       "      <td>3252.47</td>\n",
       "    </tr>\n",
       "    <tr>\n",
       "      <th>67</th>\n",
       "      <td>67</td>\n",
       "      <td>aquarium_pumpen</td>\n",
       "      <td>1545.44</td>\n",
       "      <td>5588.50</td>\n",
       "    </tr>\n",
       "    <tr>\n",
       "      <th>68</th>\n",
       "      <td>68</td>\n",
       "      <td>wasserpflege_aquarium</td>\n",
       "      <td>1907.86</td>\n",
       "      <td>4535.18</td>\n",
       "    </tr>\n",
       "    <tr>\n",
       "      <th>221</th>\n",
       "      <td>221</td>\n",
       "      <td>vogelfutter</td>\n",
       "      <td>2923.06</td>\n",
       "      <td>4140.20</td>\n",
       "    </tr>\n",
       "    <tr>\n",
       "      <th>251</th>\n",
       "      <td>251</td>\n",
       "      <td>hundefutter_trockenfutter</td>\n",
       "      <td>266293.37</td>\n",
       "      <td>436006.93</td>\n",
       "    </tr>\n",
       "    <tr>\n",
       "      <th>252</th>\n",
       "      <td>252</td>\n",
       "      <td>katzenfutter_trockenfutter</td>\n",
       "      <td>302109.19</td>\n",
       "      <td>597643.00</td>\n",
       "    </tr>\n",
       "    <tr>\n",
       "      <th>274</th>\n",
       "      <td>274</td>\n",
       "      <td>snack_und_knabberstangen</td>\n",
       "      <td>892.56</td>\n",
       "      <td>1271.89</td>\n",
       "    </tr>\n",
       "    <tr>\n",
       "      <th>301</th>\n",
       "      <td>301</td>\n",
       "      <td>katzenstreu</td>\n",
       "      <td>57221.13</td>\n",
       "      <td>97307.18</td>\n",
       "    </tr>\n",
       "    <tr>\n",
       "      <th>305</th>\n",
       "      <td>305</td>\n",
       "      <td>heu_streu</td>\n",
       "      <td>3587.25</td>\n",
       "      <td>5469.95</td>\n",
       "    </tr>\n",
       "    <tr>\n",
       "      <th>401</th>\n",
       "      <td>401</td>\n",
       "      <td>futter_ergaenzung</td>\n",
       "      <td>1716.18</td>\n",
       "      <td>2756.33</td>\n",
       "    </tr>\n",
       "    <tr>\n",
       "      <th>409</th>\n",
       "      <td>409</td>\n",
       "      <td>hundepflege</td>\n",
       "      <td>9480.72</td>\n",
       "      <td>21234.18</td>\n",
       "    </tr>\n",
       "    <tr>\n",
       "      <th>484</th>\n",
       "      <td>484</td>\n",
       "      <td>aquarium_dekoration</td>\n",
       "      <td>256.44</td>\n",
       "      <td>1222.25</td>\n",
       "    </tr>\n",
       "    <tr>\n",
       "      <th>486</th>\n",
       "      <td>486</td>\n",
       "      <td>beleuchtung</td>\n",
       "      <td>77.95</td>\n",
       "      <td>1856.58</td>\n",
       "    </tr>\n",
       "    <tr>\n",
       "      <th>741</th>\n",
       "      <td>741</td>\n",
       "      <td>kaefige_freigehege</td>\n",
       "      <td>1799.77</td>\n",
       "      <td>8532.77</td>\n",
       "    </tr>\n",
       "    <tr>\n",
       "      <th>758</th>\n",
       "      <td>758</td>\n",
       "      <td>kaefig</td>\n",
       "      <td>1474.87</td>\n",
       "      <td>3674.09</td>\n",
       "    </tr>\n",
       "    <tr>\n",
       "      <th>857</th>\n",
       "      <td>857</td>\n",
       "      <td>hundefutter_nassfutter</td>\n",
       "      <td>25304.13</td>\n",
       "      <td>35853.76</td>\n",
       "    </tr>\n",
       "    <tr>\n",
       "      <th>1400</th>\n",
       "      <td>1400</td>\n",
       "      <td>hundefutter_ergaenzung</td>\n",
       "      <td>2803.68</td>\n",
       "      <td>5540.24</td>\n",
       "    </tr>\n",
       "    <tr>\n",
       "      <th>1540</th>\n",
       "      <td>1540</td>\n",
       "      <td>katzenbetten_katzenkissen</td>\n",
       "      <td>6144.94</td>\n",
       "      <td>18049.09</td>\n",
       "    </tr>\n",
       "    <tr>\n",
       "      <th>1635</th>\n",
       "      <td>1635</td>\n",
       "      <td>aquarium_zubehoer</td>\n",
       "      <td>610.76</td>\n",
       "      <td>1587.60</td>\n",
       "    </tr>\n",
       "    <tr>\n",
       "      <th>2068</th>\n",
       "      <td>2068</td>\n",
       "      <td>katzenfutter_dose</td>\n",
       "      <td>115367.78</td>\n",
       "      <td>177059.28</td>\n",
       "    </tr>\n",
       "    <tr>\n",
       "      <th>2155</th>\n",
       "      <td>2155</td>\n",
       "      <td>balkon_garten</td>\n",
       "      <td>8762.45</td>\n",
       "      <td>24446.73</td>\n",
       "    </tr>\n",
       "    <tr>\n",
       "      <th>2190</th>\n",
       "      <td>2190</td>\n",
       "      <td>hundetransportbox</td>\n",
       "      <td>11610.70</td>\n",
       "      <td>39870.73</td>\n",
       "    </tr>\n",
       "    <tr>\n",
       "      <th>2192</th>\n",
       "      <td>2192</td>\n",
       "      <td>hundehuette_hundetuer</td>\n",
       "      <td>3173.98</td>\n",
       "      <td>9497.73</td>\n",
       "    </tr>\n",
       "    <tr>\n",
       "      <th>2471</th>\n",
       "      <td>2471</td>\n",
       "      <td>aquarium</td>\n",
       "      <td>648.23</td>\n",
       "      <td>2862.13</td>\n",
       "    </tr>\n",
       "    <tr>\n",
       "      <th>40023</th>\n",
       "      <td>40023</td>\n",
       "      <td>hundebekleidung_hundemantel</td>\n",
       "      <td>1499.43</td>\n",
       "      <td>2948.39</td>\n",
       "    </tr>\n",
       "    <tr>\n",
       "      <th>48963</th>\n",
       "      <td>48963</td>\n",
       "      <td>sparplan</td>\n",
       "      <td>0.00</td>\n",
       "      <td>7611.68</td>\n",
       "    </tr>\n",
       "    <tr>\n",
       "      <th>49821</th>\n",
       "      <td>49821</td>\n",
       "      <td>kaninchenstaelle</td>\n",
       "      <td>619.96</td>\n",
       "      <td>1358.94</td>\n",
       "    </tr>\n",
       "    <tr>\n",
       "      <th>49828</th>\n",
       "      <td>49828</td>\n",
       "      <td>freigehege</td>\n",
       "      <td>1219.70</td>\n",
       "      <td>4738.68</td>\n",
       "    </tr>\n",
       "    <tr>\n",
       "      <th>153317</th>\n",
       "      <td>153317</td>\n",
       "      <td>sport_training</td>\n",
       "      <td>7151.82</td>\n",
       "      <td>16067.99</td>\n",
       "    </tr>\n",
       "    <tr>\n",
       "      <th>183134</th>\n",
       "      <td>183134</td>\n",
       "      <td>barf</td>\n",
       "      <td>914.78</td>\n",
       "      <td>1453.54</td>\n",
       "    </tr>\n",
       "    <tr>\n",
       "      <th>207553</th>\n",
       "      <td>207553</td>\n",
       "      <td>ungezieferschutz</td>\n",
       "      <td>3100.62</td>\n",
       "      <td>6356.23</td>\n",
       "    </tr>\n",
       "    <tr>\n",
       "      <th>207624</th>\n",
       "      <td>207624</td>\n",
       "      <td>ungezieferschutz</td>\n",
       "      <td>3900.00</td>\n",
       "      <td>7447.59</td>\n",
       "    </tr>\n",
       "  </tbody>\n",
       "</table>\n",
       "</div>"
      ],
      "text/plain": [
       "           PG3                     PG3_NAME  NO_SP_ORD     SP_ORD\n",
       "9            9                    hundebett   18196.63   44470.81\n",
       "15          15     hundeleine_hundehalsband   12074.16   28850.96\n",
       "16          16                    fressnapf    3056.15    8302.98\n",
       "18          18                  hundesnacks   40862.38   57057.67\n",
       "20          20               hundespielzeug   12627.17   25600.23\n",
       "23          23         kratzbaum_katzenbaum   30292.22  108588.04\n",
       "29          29               katzentoilette   19158.97   44677.28\n",
       "33          33                    fressnapf   12461.40   31959.26\n",
       "34          34                 katzensnacks   13789.66   20117.90\n",
       "36          36              katzenspielzeug   15595.46   39766.53\n",
       "37          37                    transport    3329.03   11574.69\n",
       "38          38      katzenfutter_ergaenzung    2153.47    4225.17\n",
       "42          42               kaefigzubehoer    2308.93    5247.09\n",
       "45          45                       futter    5382.36    9002.00\n",
       "47          47                    spielzeug     705.79    1790.48\n",
       "48          48                       pflege     389.38    1009.61\n",
       "62          62                  fischfutter    2514.56    4155.68\n",
       "65          65            aquarium_pflanzen    1247.56    3252.47\n",
       "67          67              aquarium_pumpen    1545.44    5588.50\n",
       "68          68        wasserpflege_aquarium    1907.86    4535.18\n",
       "221        221                  vogelfutter    2923.06    4140.20\n",
       "251        251    hundefutter_trockenfutter  266293.37  436006.93\n",
       "252        252   katzenfutter_trockenfutter  302109.19  597643.00\n",
       "274        274     snack_und_knabberstangen     892.56    1271.89\n",
       "301        301                  katzenstreu   57221.13   97307.18\n",
       "305        305                    heu_streu    3587.25    5469.95\n",
       "401        401            futter_ergaenzung    1716.18    2756.33\n",
       "409        409                  hundepflege    9480.72   21234.18\n",
       "484        484          aquarium_dekoration     256.44    1222.25\n",
       "486        486                  beleuchtung      77.95    1856.58\n",
       "741        741           kaefige_freigehege    1799.77    8532.77\n",
       "758        758                       kaefig    1474.87    3674.09\n",
       "857        857       hundefutter_nassfutter   25304.13   35853.76\n",
       "1400      1400       hundefutter_ergaenzung    2803.68    5540.24\n",
       "1540      1540    katzenbetten_katzenkissen    6144.94   18049.09\n",
       "1635      1635            aquarium_zubehoer     610.76    1587.60\n",
       "2068      2068            katzenfutter_dose  115367.78  177059.28\n",
       "2155      2155                balkon_garten    8762.45   24446.73\n",
       "2190      2190            hundetransportbox   11610.70   39870.73\n",
       "2192      2192        hundehuette_hundetuer    3173.98    9497.73\n",
       "2471      2471                     aquarium     648.23    2862.13\n",
       "40023    40023  hundebekleidung_hundemantel    1499.43    2948.39\n",
       "48963    48963                     sparplan       0.00    7611.68\n",
       "49821    49821             kaninchenstaelle     619.96    1358.94\n",
       "49828    49828                   freigehege    1219.70    4738.68\n",
       "153317  153317               sport_training    7151.82   16067.99\n",
       "183134  183134                         barf     914.78    1453.54\n",
       "207553  207553             ungezieferschutz    3100.62    6356.23\n",
       "207624  207624             ungezieferschutz    3900.00    7447.59"
      ]
     },
     "execution_count": 132,
     "metadata": {},
     "output_type": "execute_result"
    }
   ],
   "source": [
    "pg3_sales_comparison"
   ]
  },
  {
   "cell_type": "markdown",
   "metadata": {
    "heading_collapsed": true
   },
   "source": [
    "#### Average Sales Share of Royal Canin products – 168 days orders before/after SP purchasing"
   ]
  },
  {
   "cell_type": "code",
   "execution_count": 133,
   "metadata": {
    "ExecuteTime": {
     "end_time": "2018-11-26T09:47:39.794448Z",
     "start_time": "2018-11-26T09:47:39.741448Z"
    },
    "hidden": true
   },
   "outputs": [],
   "source": [
    "sp_customers_168['BRAND_SALES_168_BEF'] = [list(compress(i, j)) for i, j in list(zip(sp_customers_168['BRAND_AGGSALES'],\n",
    "                                                                                    sp_customers_168['MASK_168_BEF']))]"
   ]
  },
  {
   "cell_type": "code",
   "execution_count": 134,
   "metadata": {
    "ExecuteTime": {
     "end_time": "2018-11-26T09:47:59.850448Z",
     "start_time": "2018-11-26T09:47:59.807448Z"
    },
    "hidden": true
   },
   "outputs": [],
   "source": [
    "sp_customers_168['BRAND_SALES_168_AFT'] = [list(compress(i, j)) for i, j in list(zip(sp_customers_168['BRAND_AGGSALES'],\n",
    "                                                                                    sp_customers_168['MASK_168_AFT']))]"
   ]
  },
  {
   "cell_type": "code",
   "execution_count": 135,
   "metadata": {
    "ExecuteTime": {
     "end_time": "2018-11-26T09:49:27.865013Z",
     "start_time": "2018-11-26T09:49:27.841013Z"
    },
    "hidden": true
   },
   "outputs": [],
   "source": [
    "sp_customers_168['BRAND_FLAT_SALES_168_BEF'] = [[k for j in i for k in j] \n",
    "                                                for i in sp_customers_168['BRAND_SALES_168_BEF'].values]"
   ]
  },
  {
   "cell_type": "code",
   "execution_count": 136,
   "metadata": {
    "ExecuteTime": {
     "end_time": "2018-11-26T09:49:29.613008Z",
     "start_time": "2018-11-26T09:49:29.575008Z"
    },
    "hidden": true
   },
   "outputs": [],
   "source": [
    "sp_customers_168['BRAND_FLAT_SALES_168_AFT'] = [[k for j in i for k in j] \n",
    "                                                for i in sp_customers_168['BRAND_SALES_168_AFT'].values]"
   ]
  },
  {
   "cell_type": "code",
   "execution_count": 137,
   "metadata": {
    "ExecuteTime": {
     "end_time": "2018-11-26T09:50:40.756008Z",
     "start_time": "2018-11-26T09:50:40.747008Z"
    },
    "hidden": true
   },
   "outputs": [],
   "source": [
    "no_sp_flat_brand_sales = [j for i in sp_customers_168['BRAND_FLAT_SALES_168_BEF'].values for j in i]"
   ]
  },
  {
   "cell_type": "code",
   "execution_count": 138,
   "metadata": {
    "ExecuteTime": {
     "end_time": "2018-11-26T09:50:42.640008Z",
     "start_time": "2018-11-26T09:50:42.632008Z"
    },
    "hidden": true
   },
   "outputs": [],
   "source": [
    "sp_flat_brand_sales = [j for i in sp_customers_168['BRAND_FLAT_SALES_168_AFT'].values for j in i]"
   ]
  },
  {
   "cell_type": "code",
   "execution_count": 139,
   "metadata": {
    "ExecuteTime": {
     "end_time": "2018-11-26T09:51:23.959008Z",
     "start_time": "2018-11-26T09:51:02.907008Z"
    },
    "hidden": true
   },
   "outputs": [],
   "source": [
    "no_sp_brand_sales = sorted([(brand_, np.round(sum([sales_ for brand__, sales_ in no_sp_flat_brand_sales if brand_== brand__\n",
    "                                                        ]), 3)) \n",
    "                                for brand_ in set([brand for brand, sales in no_sp_flat_brand_sales])], key= lambda x: x[1], reverse=True) "
   ]
  },
  {
   "cell_type": "code",
   "execution_count": 140,
   "metadata": {
    "ExecuteTime": {
     "end_time": "2018-11-26T09:53:36.478008Z",
     "start_time": "2018-11-26T09:51:27.264008Z"
    },
    "hidden": true
   },
   "outputs": [],
   "source": [
    "sp_brand_sales = sorted([(brand_, np.round(sum([sales_ for brand__, sales_ in sp_flat_brand_sales if brand_== brand__\n",
    "                                                        ]), 3)) \n",
    "                                for brand_ in set([brand for brand, sales in sp_flat_brand_sales])], key= lambda x: x[1], reverse=True) "
   ]
  },
  {
   "cell_type": "code",
   "execution_count": 141,
   "metadata": {
    "ExecuteTime": {
     "end_time": "2018-11-26T09:53:47.039008Z",
     "start_time": "2018-11-26T09:53:47.026008Z"
    },
    "hidden": true
   },
   "outputs": [],
   "source": [
    "no_sp_dict_sales_no_disc = {i[0]: i[1] for i in no_sp_brand_sales if str(i[0]) != 'nan'}"
   ]
  },
  {
   "cell_type": "code",
   "execution_count": 142,
   "metadata": {
    "ExecuteTime": {
     "end_time": "2018-11-26T09:53:49.097008Z",
     "start_time": "2018-11-26T09:53:49.087008Z"
    },
    "hidden": true
   },
   "outputs": [],
   "source": [
    "sp_dict_sales_no_disc = {i[0]: i[1] for i in sp_brand_sales if str(i[0]) != 'nan'}"
   ]
  },
  {
   "cell_type": "code",
   "execution_count": 143,
   "metadata": {
    "ExecuteTime": {
     "end_time": "2018-11-26T09:53:53.929008Z",
     "start_time": "2018-11-26T09:53:53.862008Z"
    },
    "hidden": true
   },
   "outputs": [],
   "source": [
    "no_sp_dict_sales_share = {a: np.round(b/sum(no_sp_dict_sales_no_disc.values())*100, 3)\n",
    "                         for a, b in list(zip(no_sp_dict_sales_no_disc.keys(),\n",
    "                                             no_sp_dict_sales_no_disc.values()))}"
   ]
  },
  {
   "cell_type": "code",
   "execution_count": 144,
   "metadata": {
    "ExecuteTime": {
     "end_time": "2018-11-26T09:53:55.931008Z",
     "start_time": "2018-11-26T09:53:55.886008Z"
    },
    "hidden": true
   },
   "outputs": [],
   "source": [
    "sp_dict_sales_share = {a: np.round(b/sum(sp_dict_sales_no_disc.values())*100, 3)\n",
    "                         for a, b in list(zip(sp_dict_sales_no_disc.keys(),\n",
    "                                             sp_dict_sales_no_disc.values()))}"
   ]
  },
  {
   "cell_type": "code",
   "execution_count": 145,
   "metadata": {
    "ExecuteTime": {
     "end_time": "2018-11-26T09:53:57.820008Z",
     "start_time": "2018-11-26T09:53:57.815008Z"
    },
    "hidden": true
   },
   "outputs": [
    {
     "data": {
      "text/plain": [
       "(99.98100000000014, 100.00600000000031)"
      ]
     },
     "execution_count": 145,
     "metadata": {},
     "output_type": "execute_result"
    }
   ],
   "source": [
    "sum(no_sp_dict_sales_share.values()), sum(sp_dict_sales_share.values())"
   ]
  },
  {
   "cell_type": "code",
   "execution_count": 146,
   "metadata": {
    "ExecuteTime": {
     "end_time": "2018-11-26T09:54:09.994008Z",
     "start_time": "2018-11-26T09:54:09.961008Z"
    },
    "hidden": true
   },
   "outputs": [],
   "source": [
    "brands = pd.read_csv('pg4_brands.dsv', sep=';', low_memory=False)"
   ]
  },
  {
   "cell_type": "code",
   "execution_count": 147,
   "metadata": {
    "ExecuteTime": {
     "end_time": "2018-11-26T09:54:11.996008Z",
     "start_time": "2018-11-26T09:54:11.990008Z"
    },
    "hidden": true
   },
   "outputs": [],
   "source": [
    "brands['BRAND'] = [i.split(' - ')[1] if len(i.split('-')) > 1 else 'unknown' for i in brands['PPR_V_LEVEL4_DESC'].values]"
   ]
  },
  {
   "cell_type": "code",
   "execution_count": 148,
   "metadata": {
    "ExecuteTime": {
     "end_time": "2018-11-26T09:54:13.873008Z",
     "start_time": "2018-11-26T09:54:13.864008Z"
    },
    "hidden": true
   },
   "outputs": [
    {
     "data": {
      "text/html": [
       "<div>\n",
       "<style scoped>\n",
       "    .dataframe tbody tr th:only-of-type {\n",
       "        vertical-align: middle;\n",
       "    }\n",
       "\n",
       "    .dataframe tbody tr th {\n",
       "        vertical-align: top;\n",
       "    }\n",
       "\n",
       "    .dataframe thead th {\n",
       "        text-align: right;\n",
       "    }\n",
       "</style>\n",
       "<table border=\"1\" class=\"dataframe\">\n",
       "  <thead>\n",
       "    <tr style=\"text-align: right;\">\n",
       "      <th></th>\n",
       "      <th>PPR_N_LEVEL4_ID</th>\n",
       "      <th>PPR_V_LEVEL4_DESC</th>\n",
       "      <th>BRAND</th>\n",
       "    </tr>\n",
       "  </thead>\n",
       "  <tbody>\n",
       "    <tr>\n",
       "      <th>0</th>\n",
       "      <td>20745</td>\n",
       "      <td>20745 - Hundesofa</td>\n",
       "      <td>Hundesofa</td>\n",
       "    </tr>\n",
       "    <tr>\n",
       "      <th>1</th>\n",
       "      <td>2</td>\n",
       "      <td>2 - Hund</td>\n",
       "      <td>Hund</td>\n",
       "    </tr>\n",
       "    <tr>\n",
       "      <th>2</th>\n",
       "      <td>1422</td>\n",
       "      <td>1422 - Spielzeug</td>\n",
       "      <td>Spielzeug</td>\n",
       "    </tr>\n",
       "    <tr>\n",
       "      <th>3</th>\n",
       "      <td>75</td>\n",
       "      <td>75 - Hundekissen</td>\n",
       "      <td>Hundekissen</td>\n",
       "    </tr>\n",
       "    <tr>\n",
       "      <th>4</th>\n",
       "      <td>2157</td>\n",
       "      <td>2157 - Alle Katzenklappen</td>\n",
       "      <td>Alle Katzenklappen</td>\n",
       "    </tr>\n",
       "  </tbody>\n",
       "</table>\n",
       "</div>"
      ],
      "text/plain": [
       "   PPR_N_LEVEL4_ID          PPR_V_LEVEL4_DESC               BRAND\n",
       "0            20745          20745 - Hundesofa           Hundesofa\n",
       "1                2                   2 - Hund                Hund\n",
       "2             1422           1422 - Spielzeug           Spielzeug\n",
       "3               75           75 - Hundekissen         Hundekissen\n",
       "4             2157  2157 - Alle Katzenklappen  Alle Katzenklappen"
      ]
     },
     "execution_count": 148,
     "metadata": {},
     "output_type": "execute_result"
    }
   ],
   "source": [
    "brands.head()"
   ]
  },
  {
   "cell_type": "code",
   "execution_count": 149,
   "metadata": {
    "ExecuteTime": {
     "end_time": "2018-11-26T09:54:15.808008Z",
     "start_time": "2018-11-26T09:54:15.795008Z"
    },
    "hidden": true
   },
   "outputs": [
    {
     "data": {
      "text/html": [
       "<div>\n",
       "<style scoped>\n",
       "    .dataframe tbody tr th:only-of-type {\n",
       "        vertical-align: middle;\n",
       "    }\n",
       "\n",
       "    .dataframe tbody tr th {\n",
       "        vertical-align: top;\n",
       "    }\n",
       "\n",
       "    .dataframe thead th {\n",
       "        text-align: right;\n",
       "    }\n",
       "</style>\n",
       "<table border=\"1\" class=\"dataframe\">\n",
       "  <thead>\n",
       "    <tr style=\"text-align: right;\">\n",
       "      <th></th>\n",
       "      <th>PPR_N_LEVEL4_ID</th>\n",
       "      <th>BRAND</th>\n",
       "    </tr>\n",
       "  </thead>\n",
       "  <tbody>\n",
       "    <tr>\n",
       "      <th>185</th>\n",
       "      <td>126742</td>\n",
       "      <td>Royal Canin Dog</td>\n",
       "    </tr>\n",
       "    <tr>\n",
       "      <th>257</th>\n",
       "      <td>17798</td>\n",
       "      <td>Royal Canin Breed (Rasse)</td>\n",
       "    </tr>\n",
       "    <tr>\n",
       "      <th>274</th>\n",
       "      <td>1308</td>\n",
       "      <td>Royal Canin Club / Selection</td>\n",
       "    </tr>\n",
       "    <tr>\n",
       "      <th>296</th>\n",
       "      <td>9702</td>\n",
       "      <td>Royal Canin Pure Feline</td>\n",
       "    </tr>\n",
       "    <tr>\n",
       "      <th>444</th>\n",
       "      <td>81396</td>\n",
       "      <td>Royal Canin Veterinary Diet</td>\n",
       "    </tr>\n",
       "    <tr>\n",
       "      <th>449</th>\n",
       "      <td>82696</td>\n",
       "      <td>Royal Canin Veterinary Diet</td>\n",
       "    </tr>\n",
       "    <tr>\n",
       "      <th>477</th>\n",
       "      <td>209912</td>\n",
       "      <td>Royal Canin Vet Care Nutrition</td>\n",
       "    </tr>\n",
       "    <tr>\n",
       "      <th>710</th>\n",
       "      <td>127037</td>\n",
       "      <td>Royal Canin Universal</td>\n",
       "    </tr>\n",
       "    <tr>\n",
       "      <th>790</th>\n",
       "      <td>682</td>\n",
       "      <td>Royal Canin Size</td>\n",
       "    </tr>\n",
       "    <tr>\n",
       "      <th>952</th>\n",
       "      <td>94525</td>\n",
       "      <td>Royal Canin</td>\n",
       "    </tr>\n",
       "    <tr>\n",
       "      <th>1284</th>\n",
       "      <td>126744</td>\n",
       "      <td>Royal Canin Cat</td>\n",
       "    </tr>\n",
       "    <tr>\n",
       "      <th>1309</th>\n",
       "      <td>17963</td>\n",
       "      <td>Royal Canin</td>\n",
       "    </tr>\n",
       "    <tr>\n",
       "      <th>1417</th>\n",
       "      <td>81397</td>\n",
       "      <td>Royal Canin Veterinary Diet</td>\n",
       "    </tr>\n",
       "    <tr>\n",
       "      <th>1423</th>\n",
       "      <td>82943</td>\n",
       "      <td>Royal Canin Veterinary Diet</td>\n",
       "    </tr>\n",
       "    <tr>\n",
       "      <th>1656</th>\n",
       "      <td>81431</td>\n",
       "      <td>Royal Canin Vet Care Nutrition</td>\n",
       "    </tr>\n",
       "    <tr>\n",
       "      <th>1659</th>\n",
       "      <td>218624</td>\n",
       "      <td>Royal Canin Veterinary Diet</td>\n",
       "    </tr>\n",
       "    <tr>\n",
       "      <th>1711</th>\n",
       "      <td>219110</td>\n",
       "      <td>Royal Canin Veterinary Diet</td>\n",
       "    </tr>\n",
       "    <tr>\n",
       "      <th>1794</th>\n",
       "      <td>683</td>\n",
       "      <td>Royal Canin</td>\n",
       "    </tr>\n",
       "    <tr>\n",
       "      <th>1799</th>\n",
       "      <td>261925</td>\n",
       "      <td>Royal Canin Rasse (Breed)</td>\n",
       "    </tr>\n",
       "    <tr>\n",
       "      <th>1922</th>\n",
       "      <td>47745</td>\n",
       "      <td>Royal Canin</td>\n",
       "    </tr>\n",
       "    <tr>\n",
       "      <th>1970</th>\n",
       "      <td>167473</td>\n",
       "      <td>Royal Canin Lifestyle</td>\n",
       "    </tr>\n",
       "  </tbody>\n",
       "</table>\n",
       "</div>"
      ],
      "text/plain": [
       "      PPR_N_LEVEL4_ID                           BRAND\n",
       "185            126742                 Royal Canin Dog\n",
       "257             17798       Royal Canin Breed (Rasse)\n",
       "274              1308    Royal Canin Club / Selection\n",
       "296              9702         Royal Canin Pure Feline\n",
       "444             81396     Royal Canin Veterinary Diet\n",
       "449             82696     Royal Canin Veterinary Diet\n",
       "477            209912  Royal Canin Vet Care Nutrition\n",
       "710            127037           Royal Canin Universal\n",
       "790               682                Royal Canin Size\n",
       "952             94525                     Royal Canin\n",
       "1284           126744                 Royal Canin Cat\n",
       "1309            17963                     Royal Canin\n",
       "1417            81397     Royal Canin Veterinary Diet\n",
       "1423            82943     Royal Canin Veterinary Diet\n",
       "1656            81431  Royal Canin Vet Care Nutrition\n",
       "1659           218624     Royal Canin Veterinary Diet\n",
       "1711           219110     Royal Canin Veterinary Diet\n",
       "1794              683                     Royal Canin\n",
       "1799           261925       Royal Canin Rasse (Breed)\n",
       "1922            47745                     Royal Canin\n",
       "1970           167473           Royal Canin Lifestyle"
      ]
     },
     "execution_count": 149,
     "metadata": {},
     "output_type": "execute_result"
    }
   ],
   "source": [
    "RC_brands = brands[brands['BRAND'].str.contains('Royal Canin')][['PPR_N_LEVEL4_ID', 'BRAND']]\n",
    "RC_brands"
   ]
  },
  {
   "cell_type": "code",
   "execution_count": 150,
   "metadata": {
    "ExecuteTime": {
     "end_time": "2018-11-26T09:54:30.636008Z",
     "start_time": "2018-11-26T09:54:30.609008Z"
    },
    "hidden": true
   },
   "outputs": [],
   "source": [
    "no_sp_rc_share_dict = {a: b for a, b in list(zip(no_sp_dict_sales_share.keys(), \n",
    "                                                 no_sp_dict_sales_share.values()))\n",
    "                      if a in RC_brands['BRAND'].values}"
   ]
  },
  {
   "cell_type": "code",
   "execution_count": 151,
   "metadata": {
    "ExecuteTime": {
     "end_time": "2018-11-26T09:54:33.235008Z",
     "start_time": "2018-11-26T09:54:33.230008Z"
    },
    "hidden": true
   },
   "outputs": [
    {
     "data": {
      "text/plain": [
       "{'Royal Canin': 13.11,\n",
       " 'Royal Canin Breed (Rasse)': 3.011,\n",
       " 'Royal Canin Cat': 0.0,\n",
       " 'Royal Canin Club / Selection': 0.184,\n",
       " 'Royal Canin Dog': 0.003,\n",
       " 'Royal Canin Pure Feline': 0.073,\n",
       " 'Royal Canin Rasse (Breed)': 3.581,\n",
       " 'Royal Canin Size': 3.736,\n",
       " 'Royal Canin Vet Care Nutrition': 0.544,\n",
       " 'Royal Canin Veterinary Diet': 8.014}"
      ]
     },
     "execution_count": 151,
     "metadata": {},
     "output_type": "execute_result"
    }
   ],
   "source": [
    "no_sp_rc_share_dict"
   ]
  },
  {
   "cell_type": "code",
   "execution_count": 152,
   "metadata": {
    "ExecuteTime": {
     "end_time": "2018-11-26T09:54:37.864008Z",
     "start_time": "2018-11-26T09:54:37.841008Z"
    },
    "hidden": true
   },
   "outputs": [],
   "source": [
    "sp_rc_share_dict = {a: b for a, b in list(zip(sp_dict_sales_share.keys(), \n",
    "                                            sp_dict_sales_share.values()))\n",
    "                      if a in RC_brands['BRAND'].values}"
   ]
  },
  {
   "cell_type": "code",
   "execution_count": 153,
   "metadata": {
    "ExecuteTime": {
     "end_time": "2018-11-26T09:54:39.967008Z",
     "start_time": "2018-11-26T09:54:39.963008Z"
    },
    "hidden": true
   },
   "outputs": [
    {
     "data": {
      "text/plain": [
       "{'Royal Canin': 14.894,\n",
       " 'Royal Canin Breed (Rasse)': 2.588,\n",
       " 'Royal Canin Cat': 0.003,\n",
       " 'Royal Canin Club / Selection': 0.16,\n",
       " 'Royal Canin Dog': 0.002,\n",
       " 'Royal Canin Pure Feline': 0.074,\n",
       " 'Royal Canin Rasse (Breed)': 3.84,\n",
       " 'Royal Canin Size': 3.642,\n",
       " 'Royal Canin Vet Care Nutrition': 0.401,\n",
       " 'Royal Canin Veterinary Diet': 7.184}"
      ]
     },
     "execution_count": 153,
     "metadata": {},
     "output_type": "execute_result"
    }
   ],
   "source": [
    "sp_rc_share_dict"
   ]
  },
  {
   "cell_type": "code",
   "execution_count": 154,
   "metadata": {
    "ExecuteTime": {
     "end_time": "2018-11-26T09:54:44.222008Z",
     "start_time": "2018-11-26T09:54:44.211008Z"
    },
    "hidden": true
   },
   "outputs": [],
   "source": [
    "no_sp_rc_share_df = pd.DataFrame.from_dict(no_sp_rc_share_dict, orient='index')\n",
    "sp_rc_share_df = pd.DataFrame.from_dict(sp_rc_share_dict, orient='index')"
   ]
  },
  {
   "cell_type": "code",
   "execution_count": 155,
   "metadata": {
    "ExecuteTime": {
     "end_time": "2018-11-26T09:54:46.337008Z",
     "start_time": "2018-11-26T09:54:46.322008Z"
    },
    "hidden": true
   },
   "outputs": [
    {
     "data": {
      "text/html": [
       "<div>\n",
       "<style scoped>\n",
       "    .dataframe tbody tr th:only-of-type {\n",
       "        vertical-align: middle;\n",
       "    }\n",
       "\n",
       "    .dataframe tbody tr th {\n",
       "        vertical-align: top;\n",
       "    }\n",
       "\n",
       "    .dataframe thead th {\n",
       "        text-align: right;\n",
       "    }\n",
       "</style>\n",
       "<table border=\"1\" class=\"dataframe\">\n",
       "  <thead>\n",
       "    <tr style=\"text-align: right;\">\n",
       "      <th></th>\n",
       "      <th>BRAND</th>\n",
       "      <th>NO_SP_ORD</th>\n",
       "      <th>SP_ORD</th>\n",
       "    </tr>\n",
       "  </thead>\n",
       "  <tbody>\n",
       "    <tr>\n",
       "      <th>Royal Canin</th>\n",
       "      <td>Royal Canin</td>\n",
       "      <td>13.110</td>\n",
       "      <td>14.894</td>\n",
       "    </tr>\n",
       "    <tr>\n",
       "      <th>Royal Canin Breed (Rasse)</th>\n",
       "      <td>Royal Canin Breed (Rasse)</td>\n",
       "      <td>3.011</td>\n",
       "      <td>2.588</td>\n",
       "    </tr>\n",
       "    <tr>\n",
       "      <th>Royal Canin Cat</th>\n",
       "      <td>Royal Canin Cat</td>\n",
       "      <td>0.000</td>\n",
       "      <td>0.003</td>\n",
       "    </tr>\n",
       "    <tr>\n",
       "      <th>Royal Canin Club / Selection</th>\n",
       "      <td>Royal Canin Club / Selection</td>\n",
       "      <td>0.184</td>\n",
       "      <td>0.160</td>\n",
       "    </tr>\n",
       "    <tr>\n",
       "      <th>Royal Canin Dog</th>\n",
       "      <td>Royal Canin Dog</td>\n",
       "      <td>0.003</td>\n",
       "      <td>0.002</td>\n",
       "    </tr>\n",
       "    <tr>\n",
       "      <th>Royal Canin Pure Feline</th>\n",
       "      <td>Royal Canin Pure Feline</td>\n",
       "      <td>0.073</td>\n",
       "      <td>0.074</td>\n",
       "    </tr>\n",
       "    <tr>\n",
       "      <th>Royal Canin Rasse (Breed)</th>\n",
       "      <td>Royal Canin Rasse (Breed)</td>\n",
       "      <td>3.581</td>\n",
       "      <td>3.840</td>\n",
       "    </tr>\n",
       "    <tr>\n",
       "      <th>Royal Canin Size</th>\n",
       "      <td>Royal Canin Size</td>\n",
       "      <td>3.736</td>\n",
       "      <td>3.642</td>\n",
       "    </tr>\n",
       "    <tr>\n",
       "      <th>Royal Canin Vet Care Nutrition</th>\n",
       "      <td>Royal Canin Vet Care Nutrition</td>\n",
       "      <td>0.544</td>\n",
       "      <td>0.401</td>\n",
       "    </tr>\n",
       "    <tr>\n",
       "      <th>Royal Canin Veterinary Diet</th>\n",
       "      <td>Royal Canin Veterinary Diet</td>\n",
       "      <td>8.014</td>\n",
       "      <td>7.184</td>\n",
       "    </tr>\n",
       "  </tbody>\n",
       "</table>\n",
       "</div>"
      ],
      "text/plain": [
       "                                                         BRAND  NO_SP_ORD  \\\n",
       "Royal Canin                                        Royal Canin     13.110   \n",
       "Royal Canin Breed (Rasse)            Royal Canin Breed (Rasse)      3.011   \n",
       "Royal Canin Cat                                Royal Canin Cat      0.000   \n",
       "Royal Canin Club / Selection      Royal Canin Club / Selection      0.184   \n",
       "Royal Canin Dog                                Royal Canin Dog      0.003   \n",
       "Royal Canin Pure Feline                Royal Canin Pure Feline      0.073   \n",
       "Royal Canin Rasse (Breed)            Royal Canin Rasse (Breed)      3.581   \n",
       "Royal Canin Size                              Royal Canin Size      3.736   \n",
       "Royal Canin Vet Care Nutrition  Royal Canin Vet Care Nutrition      0.544   \n",
       "Royal Canin Veterinary Diet        Royal Canin Veterinary Diet      8.014   \n",
       "\n",
       "                                SP_ORD  \n",
       "Royal Canin                     14.894  \n",
       "Royal Canin Breed (Rasse)        2.588  \n",
       "Royal Canin Cat                  0.003  \n",
       "Royal Canin Club / Selection     0.160  \n",
       "Royal Canin Dog                  0.002  \n",
       "Royal Canin Pure Feline          0.074  \n",
       "Royal Canin Rasse (Breed)        3.840  \n",
       "Royal Canin Size                 3.642  \n",
       "Royal Canin Vet Care Nutrition   0.401  \n",
       "Royal Canin Veterinary Diet      7.184  "
      ]
     },
     "execution_count": 155,
     "metadata": {},
     "output_type": "execute_result"
    }
   ],
   "source": [
    "rc_comparison = pd.concat([no_sp_rc_share_df, sp_rc_share_df], axis=1).fillna(0)\n",
    "rc_comparison.columns = ['NO_SP_ORD', 'SP_ORD']\n",
    "rc_comparison['BRAND'] = rc_comparison.index.values\n",
    "rc_comparison = rc_comparison[['BRAND', 'NO_SP_ORD', 'SP_ORD']]\n",
    "rc_comparison"
   ]
  },
  {
   "cell_type": "code",
   "execution_count": 157,
   "metadata": {
    "ExecuteTime": {
     "end_time": "2018-11-26T09:55:27.754008Z",
     "start_time": "2018-11-26T09:55:27.494008Z"
    },
    "hidden": true
   },
   "outputs": [
    {
     "data": {
      "image/png": "[encoded data removed]",
      "text/plain": [
       "<matplotlib.figure.Figure at 0xf39feb8>"
      ]
     },
     "metadata": {},
     "output_type": "display_data"
    }
   ],
   "source": [
    "plt.figure(figsize=(12, 12))\n",
    "x = rc_comparison['BRAND'].values\n",
    "y = rc_comparison['NO_SP_ORD'].values\n",
    "z = rc_comparison['SP_ORD'].values\n",
    "plt.barh(x, y, color='g')\n",
    "plt.barh(x, z, color='orange', alpha=0.5)\n",
    "plt.title('Royal Canin sales share in 168 days orders before/after SP purchasing', fontsize=14)\n",
    "plt.ylabel('BRAND')\n",
    "plt.xlabel('Sales share %')\n",
    "plt.legend(['NO SP Orders', 'SP Orders'])\n",
    "plt.show()"
   ]
  },
  {
   "cell_type": "markdown",
   "metadata": {
    "heading_collapsed": true
   },
   "source": [
    "#### Average Sales Share of Hill's products – 168 days orders before/after SP purchasing"
   ]
  },
  {
   "cell_type": "code",
   "execution_count": 158,
   "metadata": {
    "ExecuteTime": {
     "end_time": "2018-11-26T09:55:38.651008Z",
     "start_time": "2018-11-26T09:55:38.621008Z"
    },
    "hidden": true
   },
   "outputs": [
    {
     "data": {
      "text/html": [
       "<div>\n",
       "<style scoped>\n",
       "    .dataframe tbody tr th:only-of-type {\n",
       "        vertical-align: middle;\n",
       "    }\n",
       "\n",
       "    .dataframe tbody tr th {\n",
       "        vertical-align: top;\n",
       "    }\n",
       "\n",
       "    .dataframe thead th {\n",
       "        text-align: right;\n",
       "    }\n",
       "</style>\n",
       "<table border=\"1\" class=\"dataframe\">\n",
       "  <thead>\n",
       "    <tr style=\"text-align: right;\">\n",
       "      <th></th>\n",
       "      <th>PPR_N_LEVEL4_ID</th>\n",
       "      <th>BRAND</th>\n",
       "    </tr>\n",
       "  </thead>\n",
       "  <tbody>\n",
       "    <tr>\n",
       "      <th>13</th>\n",
       "      <td>719</td>\n",
       "      <td>Hill's Science Plan</td>\n",
       "    </tr>\n",
       "    <tr>\n",
       "      <th>188</th>\n",
       "      <td>84729</td>\n",
       "      <td>Hill's Prescription Diet</td>\n",
       "    </tr>\n",
       "    <tr>\n",
       "      <th>261</th>\n",
       "      <td>1816</td>\n",
       "      <td>Hill's Puppy &amp; Senior</td>\n",
       "    </tr>\n",
       "    <tr>\n",
       "      <th>270</th>\n",
       "      <td>2058</td>\n",
       "      <td>Hill's Natures Best</td>\n",
       "    </tr>\n",
       "    <tr>\n",
       "      <th>295</th>\n",
       "      <td>720</td>\n",
       "      <td>Hill's Science Plan</td>\n",
       "    </tr>\n",
       "    <tr>\n",
       "      <th>472</th>\n",
       "      <td>151599</td>\n",
       "      <td>Hill's Prescription Diet</td>\n",
       "    </tr>\n",
       "    <tr>\n",
       "      <th>735</th>\n",
       "      <td>175240</td>\n",
       "      <td>Hill's Ideal Balance</td>\n",
       "    </tr>\n",
       "    <tr>\n",
       "      <th>736</th>\n",
       "      <td>177843</td>\n",
       "      <td>Hill's Ideal Balance</td>\n",
       "    </tr>\n",
       "    <tr>\n",
       "      <th>1150</th>\n",
       "      <td>31962</td>\n",
       "      <td>Hill's Prescription Diet</td>\n",
       "    </tr>\n",
       "    <tr>\n",
       "      <th>1381</th>\n",
       "      <td>31963</td>\n",
       "      <td>Hill's Prescription Diet</td>\n",
       "    </tr>\n",
       "    <tr>\n",
       "      <th>1530</th>\n",
       "      <td>2057</td>\n",
       "      <td>Nature's Best von Hill's</td>\n",
       "    </tr>\n",
       "    <tr>\n",
       "      <th>1677</th>\n",
       "      <td>127127</td>\n",
       "      <td>Hill's Dog</td>\n",
       "    </tr>\n",
       "    <tr>\n",
       "      <th>1683</th>\n",
       "      <td>96660</td>\n",
       "      <td>Hill's Prescription Diet</td>\n",
       "    </tr>\n",
       "    <tr>\n",
       "      <th>1735</th>\n",
       "      <td>39494</td>\n",
       "      <td>Hill's</td>\n",
       "    </tr>\n",
       "    <tr>\n",
       "      <th>1910</th>\n",
       "      <td>39209</td>\n",
       "      <td>Hill's Prescription Diet</td>\n",
       "    </tr>\n",
       "    <tr>\n",
       "      <th>1958</th>\n",
       "      <td>127247</td>\n",
       "      <td>Hill's Cat</td>\n",
       "    </tr>\n",
       "  </tbody>\n",
       "</table>\n",
       "</div>"
      ],
      "text/plain": [
       "      PPR_N_LEVEL4_ID                     BRAND\n",
       "13                719       Hill's Science Plan\n",
       "188             84729  Hill's Prescription Diet\n",
       "261              1816     Hill's Puppy & Senior\n",
       "270              2058       Hill's Natures Best\n",
       "295               720       Hill's Science Plan\n",
       "472            151599  Hill's Prescription Diet\n",
       "735            175240      Hill's Ideal Balance\n",
       "736            177843      Hill's Ideal Balance\n",
       "1150            31962  Hill's Prescription Diet\n",
       "1381            31963  Hill's Prescription Diet\n",
       "1530             2057  Nature's Best von Hill's\n",
       "1677           127127                Hill's Dog\n",
       "1683            96660  Hill's Prescription Diet\n",
       "1735            39494                    Hill's\n",
       "1910            39209  Hill's Prescription Diet\n",
       "1958           127247                Hill's Cat"
      ]
     },
     "execution_count": 158,
     "metadata": {},
     "output_type": "execute_result"
    }
   ],
   "source": [
    "Hills_brands = brands[brands['BRAND'].str.contains(\"Hill's\")][['PPR_N_LEVEL4_ID', 'BRAND']]\n",
    "Hills_brands"
   ]
  },
  {
   "cell_type": "code",
   "execution_count": 159,
   "metadata": {
    "ExecuteTime": {
     "end_time": "2018-11-26T09:55:42.133008Z",
     "start_time": "2018-11-26T09:55:42.116008Z"
    },
    "hidden": true
   },
   "outputs": [],
   "source": [
    "no_sp_hills_share_dict = {a: b for a, b in list(zip(no_sp_dict_sales_share.keys(), \n",
    "                                                 no_sp_dict_sales_share.values()))\n",
    "                      if a in Hills_brands['BRAND'].values}"
   ]
  },
  {
   "cell_type": "code",
   "execution_count": 160,
   "metadata": {
    "ExecuteTime": {
     "end_time": "2018-11-26T09:55:44.140008Z",
     "start_time": "2018-11-26T09:55:44.136008Z"
    },
    "hidden": true
   },
   "outputs": [
    {
     "data": {
      "text/plain": [
       "{\"Hill's Ideal Balance\": 0.185,\n",
       " \"Hill's Natures Best\": 0.106,\n",
       " \"Hill's Prescription Diet\": 6.294,\n",
       " \"Hill's Science Plan\": 3.983,\n",
       " \"Nature's Best von Hill's\": 0.039}"
      ]
     },
     "execution_count": 160,
     "metadata": {},
     "output_type": "execute_result"
    }
   ],
   "source": [
    "no_sp_hills_share_dict"
   ]
  },
  {
   "cell_type": "code",
   "execution_count": 161,
   "metadata": {
    "ExecuteTime": {
     "end_time": "2018-11-26T09:55:46.067008Z",
     "start_time": "2018-11-26T09:55:46.057008Z"
    },
    "hidden": true
   },
   "outputs": [],
   "source": [
    "sp_hills_share_dict = {a: b for a, b in list(zip(sp_dict_sales_share.keys(), \n",
    "                                                 sp_dict_sales_share.values()))\n",
    "                      if a in Hills_brands['BRAND'].values}"
   ]
  },
  {
   "cell_type": "code",
   "execution_count": 162,
   "metadata": {
    "ExecuteTime": {
     "end_time": "2018-11-26T09:55:47.982008Z",
     "start_time": "2018-11-26T09:55:47.977008Z"
    },
    "hidden": true
   },
   "outputs": [
    {
     "data": {
      "text/plain": [
       "{\"Hill's Ideal Balance\": 0.134,\n",
       " \"Hill's Natures Best\": 0.106,\n",
       " \"Hill's Prescription Diet\": 5.26,\n",
       " \"Hill's Science Plan\": 3.628,\n",
       " \"Nature's Best von Hill's\": 0.038}"
      ]
     },
     "execution_count": 162,
     "metadata": {},
     "output_type": "execute_result"
    }
   ],
   "source": [
    "sp_hills_share_dict"
   ]
  },
  {
   "cell_type": "code",
   "execution_count": 163,
   "metadata": {
    "ExecuteTime": {
     "end_time": "2018-11-26T09:55:50.678008Z",
     "start_time": "2018-11-26T09:55:50.668008Z"
    },
    "hidden": true
   },
   "outputs": [],
   "source": [
    "no_sp_hills_share_df = pd.DataFrame.from_dict(no_sp_hills_share_dict, orient='index')\n",
    "sp_hills_share_df = pd.DataFrame.from_dict(sp_hills_share_dict, orient='index')"
   ]
  },
  {
   "cell_type": "code",
   "execution_count": 164,
   "metadata": {
    "ExecuteTime": {
     "end_time": "2018-11-26T09:55:52.686008Z",
     "start_time": "2018-11-26T09:55:52.672008Z"
    },
    "hidden": true
   },
   "outputs": [
    {
     "data": {
      "text/html": [
       "<div>\n",
       "<style scoped>\n",
       "    .dataframe tbody tr th:only-of-type {\n",
       "        vertical-align: middle;\n",
       "    }\n",
       "\n",
       "    .dataframe tbody tr th {\n",
       "        vertical-align: top;\n",
       "    }\n",
       "\n",
       "    .dataframe thead th {\n",
       "        text-align: right;\n",
       "    }\n",
       "</style>\n",
       "<table border=\"1\" class=\"dataframe\">\n",
       "  <thead>\n",
       "    <tr style=\"text-align: right;\">\n",
       "      <th></th>\n",
       "      <th>BRAND</th>\n",
       "      <th>NO_SP_ORD</th>\n",
       "      <th>SP_ORD</th>\n",
       "    </tr>\n",
       "  </thead>\n",
       "  <tbody>\n",
       "    <tr>\n",
       "      <th>Hill's Prescription Diet</th>\n",
       "      <td>Hill's Prescription Diet</td>\n",
       "      <td>6.294</td>\n",
       "      <td>5.260</td>\n",
       "    </tr>\n",
       "    <tr>\n",
       "      <th>Hill's Science Plan</th>\n",
       "      <td>Hill's Science Plan</td>\n",
       "      <td>3.983</td>\n",
       "      <td>3.628</td>\n",
       "    </tr>\n",
       "    <tr>\n",
       "      <th>Hill's Ideal Balance</th>\n",
       "      <td>Hill's Ideal Balance</td>\n",
       "      <td>0.185</td>\n",
       "      <td>0.134</td>\n",
       "    </tr>\n",
       "    <tr>\n",
       "      <th>Hill's Natures Best</th>\n",
       "      <td>Hill's Natures Best</td>\n",
       "      <td>0.106</td>\n",
       "      <td>0.106</td>\n",
       "    </tr>\n",
       "    <tr>\n",
       "      <th>Nature's Best von Hill's</th>\n",
       "      <td>Nature's Best von Hill's</td>\n",
       "      <td>0.039</td>\n",
       "      <td>0.038</td>\n",
       "    </tr>\n",
       "  </tbody>\n",
       "</table>\n",
       "</div>"
      ],
      "text/plain": [
       "                                             BRAND  NO_SP_ORD  SP_ORD\n",
       "Hill's Prescription Diet  Hill's Prescription Diet      6.294   5.260\n",
       "Hill's Science Plan            Hill's Science Plan      3.983   3.628\n",
       "Hill's Ideal Balance          Hill's Ideal Balance      0.185   0.134\n",
       "Hill's Natures Best            Hill's Natures Best      0.106   0.106\n",
       "Nature's Best von Hill's  Nature's Best von Hill's      0.039   0.038"
      ]
     },
     "execution_count": 164,
     "metadata": {},
     "output_type": "execute_result"
    }
   ],
   "source": [
    "hills_comparison = pd.concat([no_sp_hills_share_df, sp_hills_share_df], axis=1).fillna(0)\n",
    "hills_comparison.columns = ['NO_SP_ORD', 'SP_ORD']\n",
    "hills_comparison['BRAND'] = hills_comparison.index.values\n",
    "hills_comparison = hills_comparison[['BRAND', 'NO_SP_ORD', 'SP_ORD']]\n",
    "hills_comparison"
   ]
  },
  {
   "cell_type": "code",
   "execution_count": 168,
   "metadata": {
    "ExecuteTime": {
     "end_time": "2018-11-26T09:59:37.867008Z",
     "start_time": "2018-11-26T09:59:37.684008Z"
    },
    "hidden": true
   },
   "outputs": [
    {
     "data": {
      "image/png": "[encoded data removed]",
      "text/plain": [
       "<matplotlib.figure.Figure at 0xf1e54e0>"
      ]
     },
     "metadata": {},
     "output_type": "display_data"
    }
   ],
   "source": [
    "plt.figure(figsize=(12, 6))\n",
    "x = hills_comparison['BRAND'].values\n",
    "y = hills_comparison['NO_SP_ORD'].values\n",
    "z = hills_comparison['SP_ORD'].values\n",
    "plt.barh(x, y, color='g')\n",
    "plt.barh(x, z, color='orange', alpha=0.5)\n",
    "plt.title(\"Hill's sales share in 168 days before/after SP purchasing\", fontsize=14)\n",
    "plt.ylabel('BRAND')\n",
    "plt.xlabel('Sales share %')\n",
    "plt.legend(['NO SP Orders', 'SP Orders'])\n",
    "plt.show()"
   ]
  },
  {
   "cell_type": "markdown",
   "metadata": {
    "hidden": true
   },
   "source": [
    "##### Timedeltas"
   ]
  },
  {
   "cell_type": "code",
   "execution_count": 167,
   "metadata": {
    "ExecuteTime": {
     "end_time": "2018-11-26T09:56:43.112008Z",
     "start_time": "2018-11-26T09:56:43.105008Z"
    },
    "hidden": true
   },
   "outputs": [
    {
     "data": {
      "text/plain": [
       "Index(['CUS_N_KEY_CUSTOMER', 'SCM_N_ORDER_NR_len', 'TDT_T_KEY_ORDER_DATE_list',\n",
       "       'SCM_SALES_BMF_sum', 'SCM_SALES_BMF_list', 'SCM_D_FINANCE_CM1_sum',\n",
       "       'SCM_D_FINANCE_CM1_list', 'SCM_D_FINANCE_CM2_sum',\n",
       "       'SCM_D_FINANCE_CM2_list', 'SCM_D_ORIG_FINANCE_ORDER_NET_sum',\n",
       "       'SCM_D_ORIG_FINANCE_ORDER_NET_list', 'OSP_KO_COUNT_NET_list',\n",
       "       'SCM_MASTER_AP_ID_list', 'CZP_ZTQ_ID', 'CZP_START_DATE',\n",
       "       'CZP_EXPIRY_DATE', 'PG3_AGGSALES', 'PG4_AGGSALES', 'BRAND_AGGSALES',\n",
       "       'SP_PURCHASE', 'SP_DISC', 'D28', 'D56', 'D84', 'D168', 'D252', 'D336',\n",
       "       'O_TIMEDELTAS', 'FLAT_PG3_SALES', 'FLAT_PG4_SALES', 'FLAT_BRAND_SALES',\n",
       "       'TOTAL_PG3_SALES', 'TOTAL_PG4_SALES', 'TOTAL_BRAND_SALES', 'SP_PY_POS',\n",
       "       'DAYS_UNTIL_1st_SP', 'SP_ORDERS', 'NO_SP_ORDERS', 'DAYS_IN_DF',\n",
       "       'DAYS_AFTER_1st_SP', 'SP_CUS', 'MASK_168_BEF', 'MASK_168_AFT',\n",
       "       'SALES_168_BEF', 'SALES_168_AFT', 'CM1_168_BEF', 'CM1_168_AFT',\n",
       "       'CM2_168_BEF', 'CM2_168_AFT', 'NET_SALES_168_BEF', 'NET_SALES_168_AFT',\n",
       "       'CM1%_168_BEF', 'CM1%_168_AFT', 'CM2%_168_BEF', 'CM2%_168_AFT',\n",
       "       'AOV_168_BEF', 'AOV_168_AFT', 'OF_168_BEF', 'OF_168_AFT',\n",
       "       'PG3_168_BEF_AGGSALES', 'PG3_168_AFT_AGGSALES',\n",
       "       'PG3_168_BEF_FLAT_SALES', 'PG3_168_AFT_FLAT_SALES',\n",
       "       'PG3_TOTAL_SALES_168_BEF', 'PG3_TOTAL_SALES_168_AFT',\n",
       "       'DICT_PG3_SALES_168_BEF', 'DICT_PG3_SALES_168_AFT',\n",
       "       'DICT_PG3_SHARE_168_BEF', 'DICT_PG3_SHARE_168_AFT', 'DIFF_PG3_168_BEF',\n",
       "       'DIFF_PG3_168_AFT', 'BRAND_SALES_168_BEF', 'BRAND_SALES_168_AFT',\n",
       "       'BRAND_FLAT_SALES_168_BEF', 'BRAND_FLAT_SALES_168_AFT'],\n",
       "      dtype='object')"
      ]
     },
     "execution_count": 167,
     "metadata": {},
     "output_type": "execute_result"
    }
   ],
   "source": [
    "sp_customers_168.columns"
   ]
  },
  {
   "cell_type": "code",
   "execution_count": 175,
   "metadata": {
    "ExecuteTime": {
     "end_time": "2018-11-26T10:06:20.682008Z",
     "start_time": "2018-11-26T10:06:20.676008Z"
    },
    "hidden": true
   },
   "outputs": [
    {
     "data": {
      "text/plain": [
       "SP_PY_POS                                  4\n",
       "O_TIMEDELTAS    [122, 88, 179, 183, 58, 222]\n",
       "Name: 17, dtype: object"
      ]
     },
     "execution_count": 175,
     "metadata": {},
     "output_type": "execute_result"
    }
   ],
   "source": [
    "sp_customers_168.loc[17][['SP_PY_POS', 'O_TIMEDELTAS']]"
   ]
  },
  {
   "cell_type": "code",
   "execution_count": 177,
   "metadata": {
    "ExecuteTime": {
     "end_time": "2018-11-26T10:09:15.044008Z",
     "start_time": "2018-11-26T10:09:15.038008Z"
    },
    "hidden": true
   },
   "outputs": [
    {
     "data": {
      "text/plain": [
       "[183, 58, 222]"
      ]
     },
     "execution_count": 177,
     "metadata": {},
     "output_type": "execute_result"
    }
   ],
   "source": [
    "[122, 88, 179, 183, 58, 222][3:]"
   ]
  },
  {
   "cell_type": "code",
   "execution_count": 178,
   "metadata": {
    "ExecuteTime": {
     "end_time": "2018-11-26T10:09:26.035008Z",
     "start_time": "2018-11-26T10:09:26.002008Z"
    },
    "hidden": true
   },
   "outputs": [],
   "source": [
    "sp_customers_168['TD_BEFORE_SP'] = [x[:(y-1)] for x, y in list(zip(sp_customers_168['O_TIMEDELTAS'],\n",
    "                                               sp_customers_168['SP_PY_POS']))]"
   ]
  },
  {
   "cell_type": "code",
   "execution_count": 179,
   "metadata": {
    "ExecuteTime": {
     "end_time": "2018-11-26T10:09:28.108008Z",
     "start_time": "2018-11-26T10:09:28.078008Z"
    },
    "hidden": true
   },
   "outputs": [],
   "source": [
    "sp_customers_168['TD_AFTER_SP'] = [x[(y-1):] for x, y in list(zip(sp_customers_168['O_TIMEDELTAS'],\n",
    "                                               sp_customers_168['SP_PY_POS']))]"
   ]
  },
  {
   "cell_type": "code",
   "execution_count": 180,
   "metadata": {
    "ExecuteTime": {
     "end_time": "2018-11-26T10:09:50.268008Z",
     "start_time": "2018-11-26T10:09:50.262008Z"
    },
    "hidden": true
   },
   "outputs": [],
   "source": [
    "td_before_sp = [j for i in sp_customers_168['TD_BEFORE_SP'].values for j in i]"
   ]
  },
  {
   "cell_type": "code",
   "execution_count": 181,
   "metadata": {
    "ExecuteTime": {
     "end_time": "2018-11-26T10:09:52.373008Z",
     "start_time": "2018-11-26T10:09:52.368008Z"
    },
    "hidden": true
   },
   "outputs": [],
   "source": [
    "td_after_sp = [j for i in sp_customers_168['TD_AFTER_SP'].values for j in i]"
   ]
  },
  {
   "cell_type": "code",
   "execution_count": 184,
   "metadata": {
    "ExecuteTime": {
     "end_time": "2018-11-26T10:12:31.092008Z",
     "start_time": "2018-11-26T10:12:30.675008Z"
    },
    "hidden": true
   },
   "outputs": [
    {
     "data": {
      "image/png": "[encoded data removed]",
      "text/plain": [
       "<matplotlib.figure.Figure at 0xf983e80>"
      ]
     },
     "metadata": {},
     "output_type": "display_data"
    },
    {
     "data": {
      "text/html": [
       "<div>\n",
       "<style scoped>\n",
       "    .dataframe tbody tr th:only-of-type {\n",
       "        vertical-align: middle;\n",
       "    }\n",
       "\n",
       "    .dataframe tbody tr th {\n",
       "        vertical-align: top;\n",
       "    }\n",
       "\n",
       "    .dataframe thead th {\n",
       "        text-align: right;\n",
       "    }\n",
       "</style>\n",
       "<table border=\"1\" class=\"dataframe\">\n",
       "  <thead>\n",
       "    <tr style=\"text-align: right;\">\n",
       "      <th></th>\n",
       "      <th>Without SP orders</th>\n",
       "      <th>With SP orders</th>\n",
       "    </tr>\n",
       "  </thead>\n",
       "  <tbody>\n",
       "    <tr>\n",
       "      <th>25%</th>\n",
       "      <td>26.00</td>\n",
       "      <td>26.00</td>\n",
       "    </tr>\n",
       "    <tr>\n",
       "      <th>50%</th>\n",
       "      <td>48.00</td>\n",
       "      <td>47.00</td>\n",
       "    </tr>\n",
       "    <tr>\n",
       "      <th>75%</th>\n",
       "      <td>85.00</td>\n",
       "      <td>82.75</td>\n",
       "    </tr>\n",
       "    <tr>\n",
       "      <th>count</th>\n",
       "      <td>37441.00</td>\n",
       "      <td>71578.00</td>\n",
       "    </tr>\n",
       "    <tr>\n",
       "      <th>max</th>\n",
       "      <td>861.00</td>\n",
       "      <td>904.00</td>\n",
       "    </tr>\n",
       "    <tr>\n",
       "      <th>mean</th>\n",
       "      <td>70.21</td>\n",
       "      <td>69.07</td>\n",
       "    </tr>\n",
       "    <tr>\n",
       "      <th>min</th>\n",
       "      <td>0.00</td>\n",
       "      <td>0.00</td>\n",
       "    </tr>\n",
       "    <tr>\n",
       "      <th>std</th>\n",
       "      <td>78.07</td>\n",
       "      <td>78.97</td>\n",
       "    </tr>\n",
       "  </tbody>\n",
       "</table>\n",
       "</div>"
      ],
      "text/plain": [
       "       Without SP orders  With SP orders\n",
       "25%                26.00           26.00\n",
       "50%                48.00           47.00\n",
       "75%                85.00           82.75\n",
       "count           37441.00        71578.00\n",
       "max               861.00          904.00\n",
       "mean               70.21           69.07\n",
       "min                 0.00            0.00\n",
       "std                78.07           78.97"
      ]
     },
     "metadata": {},
     "output_type": "display_data"
    }
   ],
   "source": [
    "concat_df = pd.DataFrame()\n",
    "\n",
    "plt.figure(figsize=(12, 8))\n",
    "plt.hist(td_before_sp, bins=70, range=(0, 210), color='g', alpha=0.5)\n",
    "plt.hist(td_after_sp, bins=70, range=(0, 210), color='orange', alpha=0.5)\n",
    "plt.title(\"Timedeltas between orders before/after SP purchasing \", fontsize=14)\n",
    "plt.xlabel('Timedeltas')\n",
    "plt.legend(['Without SP orders', 'With SP orders'])\n",
    "plt.show()\n",
    "\n",
    "before_sp_td = pd.DataFrame(np.array(td_before_sp).reshape(len(td_before_sp), 1), columns= ['TD_BEFORE_SP'])\n",
    "after_sp_td = pd.DataFrame(np.array(td_after_sp).reshape(len(td_after_sp), 1), columns= ['TD_AFTER_SP'])\n",
    "\n",
    "concat_df = pd.concat([concat_df,\n",
    "                    before_sp_td['TD_BEFORE_SP'].describe().round(2),\n",
    "                    after_sp_td['TD_AFTER_SP'].describe().round(2),\n",
    "                      ], axis=1)\n",
    "\n",
    "concat_df.columns = ['Without SP orders', 'With SP orders']\n",
    "display(concat_df)"
   ]
  },
  {
   "cell_type": "code",
   "execution_count": null,
   "metadata": {
    "hidden": true
   },
   "outputs": [],
   "source": []
  },
  {
   "cell_type": "code",
   "execution_count": null,
   "metadata": {
    "hidden": true
   },
   "outputs": [],
   "source": []
  }
 ],
 "metadata": {
  "hide_input": false,
  "kernelspec": {
   "display_name": "Python [conda env:py36]",
   "language": "python",
   "name": "conda-env-py36-py"
  },
  "language_info": {
   "codemirror_mode": {
    "name": "ipython",
    "version": 3
   },
   "file_extension": ".py",
   "mimetype": "text/x-python",
   "name": "python",
   "nbconvert_exporter": "python",
   "pygments_lexer": "ipython3",
   "version": "3.6.4"
  },
  "toc": {
   "base_numbering": 1,
   "nav_menu": {},
   "number_sections": true,
   "sideBar": true,
   "skip_h1_title": false,
   "title_cell": "Table of Contents",
   "title_sidebar": "Contents",
   "toc_cell": false,
   "toc_position": {},
   "toc_section_display": true,
   "toc_window_display": false
  },
  "varInspector": {
   "cols": {
    "lenName": 16,
    "lenType": 16,
    "lenVar": 40
   },
   "kernels_config": {
    "python": {
     "delete_cmd_postfix": "",
     "delete_cmd_prefix": "del ",
     "library": "var_list.py",
     "varRefreshCmd": "print(var_dic_list())"
    },
    "r": {
     "delete_cmd_postfix": ") ",
     "delete_cmd_prefix": "rm(",
     "library": "var_list.r",
     "varRefreshCmd": "cat(var_dic_list()) "
    }
   },
   "types_to_exclude": [
    "module",
    "function",
    "builtin_function_or_method",
    "instance",
    "_Feature"
   ],
   "window_display": false
  }
 },
 "nbformat": 4,
 "nbformat_minor": 2
}
