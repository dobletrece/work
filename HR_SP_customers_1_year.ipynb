{
 "cells": [
  {
   "cell_type": "raw",
   "metadata": {},
   "source": [
    "select CUS_N_KEY_CUSTOMER as CUSTOMER_ID, count (distinct SCM_N_ORDER_NR) as ORDERS,\n",
    "min(TDT_T_KEY_ORDER_DATE) as FIRST_ORDER_DATE, max(TDT_T_KEY_ORDER_DATE) as LAST_ORDER_DATE,\n",
    "sum(SCM_D_FINANCE_CM2) as TOTAL_CM2, sum(SCM_D_ORIG_FINANCE_ORDER_NET) as NET_SALES,\n",
    "case when sum(SCM_D_ORIG_FINANCE_ORDER_NET) = 0 then 0\n",
    "else ROUND(sum(SCM_D_FINANCE_CM2) / sum(SCM_D_ORIG_FINANCE_ORDER_NET) * 100, 2)  \n",
    "end as CM2_REL, avg(CZP_ZTQ_ID) as ZTQ_ID, max(CZP_START_DATE) as START_DATE, max(CZP_EXPIRY_DATE) as EXPIRY_DATE\n",
    "from \n",
    "(\n",
    "select \n",
    "scm.scm_n_order_pos_nr, scm.scm_n_order_nr, scm.tdt_t_key_order_date, scm.THR_C_KEY_ORDER_HOUR, scm.SIT_N_KEY_SITE,\n",
    "scm.CUS_N_KEY_CUSTOMER, scm.SCM_SALES_BMF, scm.SCM_SALES_CANCEL_BMF, scm.SCM_D_FINANCE_CM1, scm.SCM_D_FINANCE_CM2,\n",
    "scm.SCM_D_ORIG_FINANCE_ORDER_NET,scm.SCM_AP_ID, scm.SCM_AS_ID, scm.SCM_MASTER_AP_ID, scm.SCM_IS_ZSP_ORDER, \n",
    "scm.SCM_C_ORDER_STATUS, scm.CTP_N_KEY_CUSTOMER_TYPE, scm.SCM_OCI_LAND, scm.SCM_D_FC_ID, scm.SCM_D_PC_DSP, scm.SCM_FC_SPLIT,\n",
    "czp.CZP_START_DATE, czp.CZP_EXPIRY_DATE, czp.CZP_ZTQ_ID, czp.CZP_PERCENTAGE, czp.CZP_PRICE\n",
    "from zoocube.ddstf_scm_sales_contrib_margin scm\n",
    "left outer join ZOOMAN.CUSTOMERS_ZOOPRIME_PLANS czp\n",
    "on scm.CUS_N_KEY_CUSTOMER = czp.CZP_K_ID \n",
    "and czp.CZP_EXPIRY_DATE > to_date((to_char(TDT_T_KEY_ORDER_DATE, 'dd/mm/yyyy') ||' '|| THR_C_KEY_ORDER_HOUR), 'dd/mm/yyyy HH24:MI')\n",
    "and czp.CZP_START_DATE <= to_date((to_char(TDT_T_KEY_ORDER_DATE, 'dd/mm/yyyy') ||' '|| THR_C_KEY_ORDER_HOUR), 'dd/mm/yyyy HH24:MI')\n",
    "where ((TDT_T_KEY_ORDER_DATE >= to_date('01/06/17', 'DD/MM/YY') and TDT_T_KEY_ORDER_DATE <= to_date('31/05/18', 'DD/MM/YY')))\n",
    "and SIT_N_KEY_SITE = 29 \n",
    "and (scm.SCM_C_ORDER_STATUS = 'L' OR scm.SCM_C_ORDER_STATUS = 'VK')\n",
    ")\n",
    "--where SIT_N_KEY_SITE = 15\n",
    "--and (SCM_C_ORDER_STATUS = 'L' or SCM_C_ORDER_STATUS = 'VK')\n",
    "--and TDT_T_KEY_ORDER_DATE >= to_date('01/06/17', 'DD/MM/YY') and (TDT_T_KEY_ORDER_DATE <= to_date('01/06/17', 'DD/MM/YY'))\n",
    "group by CUS_N_KEY_CUSTOMER\n",
    "having avg(CZP_ZTQ_ID) IN (51, 52, 53, 54, 55, 56)\n",
    ";"
   ]
  },
  {
   "cell_type": "code",
   "execution_count": 1,
   "metadata": {
    "ExecuteTime": {
     "end_time": "2018-06-22T10:42:10.706057Z",
     "start_time": "2018-06-22T10:42:10.083433Z"
    }
   },
   "outputs": [],
   "source": [
    "import numpy as np\n",
    "import pandas as pd\n",
    "import matplotlib.pyplot as plt\n",
    "%matplotlib inline\n",
    "from IPython.display import display\n",
    "from scipy import stats"
   ]
  },
  {
   "cell_type": "code",
   "execution_count": 2,
   "metadata": {
    "ExecuteTime": {
     "end_time": "2018-06-22T10:42:10.727059Z",
     "start_time": "2018-06-22T10:42:10.708058Z"
    }
   },
   "outputs": [],
   "source": [
    "data = pd.read_csv('hr_sp_customers_1_year.dsv', sep=';', low_memory=False)"
   ]
  },
  {
   "cell_type": "code",
   "execution_count": 3,
   "metadata": {
    "ExecuteTime": {
     "end_time": "2018-06-22T10:42:10.740061Z",
     "start_time": "2018-06-22T10:42:10.729060Z"
    }
   },
   "outputs": [
    {
     "name": "stdout",
     "output_type": "stream",
     "text": [
      "<class 'pandas.core.frame.DataFrame'>\n",
      "RangeIndex: 2765 entries, 0 to 2764\n",
      "Data columns (total 10 columns):\n",
      "CUSTOMER_ID         2765 non-null int64\n",
      "ORDERS              2765 non-null int64\n",
      "FIRST_ORDER_DATE    2765 non-null object\n",
      "LAST_ORDER_DATE     2765 non-null object\n",
      "TOTAL_CM2           2765 non-null object\n",
      "NET_SALES           2765 non-null object\n",
      "CM2_REL             2765 non-null object\n",
      "ZTQ_ID              2765 non-null int64\n",
      "START_DATE          2765 non-null object\n",
      "EXPIRY_DATE         2765 non-null object\n",
      "dtypes: int64(3), object(7)\n",
      "memory usage: 216.1+ KB\n"
     ]
    }
   ],
   "source": [
    "data.info()"
   ]
  },
  {
   "cell_type": "code",
   "execution_count": 4,
   "metadata": {
    "ExecuteTime": {
     "end_time": "2018-06-22T10:42:10.761063Z",
     "start_time": "2018-06-22T10:42:10.742061Z"
    }
   },
   "outputs": [],
   "source": [
    "data['CM2_REL'] = [i.replace(',', '.') for i in data['CM2_REL']]\n",
    "data['NET_SALES'] = [i.replace(',', '.') for i in data['NET_SALES']]\n",
    "data['TOTAL_CM2'] = [i.replace(',', '.') for i in data['TOTAL_CM2']]"
   ]
  },
  {
   "cell_type": "code",
   "execution_count": 5,
   "metadata": {
    "ExecuteTime": {
     "end_time": "2018-06-22T10:42:10.780065Z",
     "start_time": "2018-06-22T10:42:10.762063Z"
    }
   },
   "outputs": [],
   "source": [
    "data[['TOTAL_CM2', 'NET_SALES', 'CM2_REL']] = data[['TOTAL_CM2', 'NET_SALES', 'CM2_REL']].astype(float)"
   ]
  },
  {
   "cell_type": "code",
   "execution_count": 6,
   "metadata": {
    "ExecuteTime": {
     "end_time": "2018-06-22T10:42:10.803067Z",
     "start_time": "2018-06-22T10:42:10.781065Z"
    }
   },
   "outputs": [],
   "source": [
    "data['FIRST_ORDER_DATE'] = pd.to_datetime(data['FIRST_ORDER_DATE'], format='%d/%m/%y')"
   ]
  },
  {
   "cell_type": "code",
   "execution_count": 7,
   "metadata": {
    "ExecuteTime": {
     "end_time": "2018-06-22T10:42:10.825069Z",
     "start_time": "2018-06-22T10:42:10.804067Z"
    }
   },
   "outputs": [],
   "source": [
    "data['LAST_ORDER_DATE'] = pd.to_datetime(data['LAST_ORDER_DATE'], format='%d/%m/%y')"
   ]
  },
  {
   "cell_type": "code",
   "execution_count": 8,
   "metadata": {
    "ExecuteTime": {
     "end_time": "2018-06-22T10:42:10.847071Z",
     "start_time": "2018-06-22T10:42:10.826069Z"
    }
   },
   "outputs": [],
   "source": [
    "data['START_DATE'] = pd.to_datetime(data['START_DATE'], format='%d/%m/%y')"
   ]
  },
  {
   "cell_type": "code",
   "execution_count": 9,
   "metadata": {
    "ExecuteTime": {
     "end_time": "2018-06-22T10:42:10.871074Z",
     "start_time": "2018-06-22T10:42:10.848072Z"
    }
   },
   "outputs": [],
   "source": [
    "data['EXPIRY_DATE'] = pd.to_datetime(data['EXPIRY_DATE'], format='%d/%m/%y')"
   ]
  },
  {
   "cell_type": "code",
   "execution_count": 10,
   "metadata": {
    "ExecuteTime": {
     "end_time": "2018-06-22T10:42:10.898077Z",
     "start_time": "2018-06-22T10:42:10.872074Z"
    }
   },
   "outputs": [
    {
     "data": {
      "text/html": [
       "<div>\n",
       "<style scoped>\n",
       "    .dataframe tbody tr th:only-of-type {\n",
       "        vertical-align: middle;\n",
       "    }\n",
       "\n",
       "    .dataframe tbody tr th {\n",
       "        vertical-align: top;\n",
       "    }\n",
       "\n",
       "    .dataframe thead th {\n",
       "        text-align: right;\n",
       "    }\n",
       "</style>\n",
       "<table border=\"1\" class=\"dataframe\">\n",
       "  <thead>\n",
       "    <tr style=\"text-align: right;\">\n",
       "      <th></th>\n",
       "      <th>CUSTOMER_ID</th>\n",
       "      <th>ORDERS</th>\n",
       "      <th>FIRST_ORDER_DATE</th>\n",
       "      <th>LAST_ORDER_DATE</th>\n",
       "      <th>TOTAL_CM2</th>\n",
       "      <th>NET_SALES</th>\n",
       "      <th>CM2_REL</th>\n",
       "      <th>ZTQ_ID</th>\n",
       "      <th>START_DATE</th>\n",
       "      <th>EXPIRY_DATE</th>\n",
       "    </tr>\n",
       "  </thead>\n",
       "  <tbody>\n",
       "    <tr>\n",
       "      <th>0</th>\n",
       "      <td>10210235</td>\n",
       "      <td>7</td>\n",
       "      <td>2017-07-23</td>\n",
       "      <td>2018-05-31</td>\n",
       "      <td>46.4410</td>\n",
       "      <td>411.3752</td>\n",
       "      <td>11.29</td>\n",
       "      <td>54</td>\n",
       "      <td>2015-11-22</td>\n",
       "      <td>2018-11-22</td>\n",
       "    </tr>\n",
       "    <tr>\n",
       "      <th>1</th>\n",
       "      <td>11419504</td>\n",
       "      <td>20</td>\n",
       "      <td>2017-06-04</td>\n",
       "      <td>2018-05-23</td>\n",
       "      <td>135.5395</td>\n",
       "      <td>1290.0137</td>\n",
       "      <td>10.51</td>\n",
       "      <td>52</td>\n",
       "      <td>2016-06-17</td>\n",
       "      <td>2019-06-17</td>\n",
       "    </tr>\n",
       "    <tr>\n",
       "      <th>2</th>\n",
       "      <td>9718221</td>\n",
       "      <td>25</td>\n",
       "      <td>2017-06-11</td>\n",
       "      <td>2018-05-23</td>\n",
       "      <td>77.1422</td>\n",
       "      <td>1043.8039</td>\n",
       "      <td>7.39</td>\n",
       "      <td>52</td>\n",
       "      <td>2016-06-24</td>\n",
       "      <td>2019-06-24</td>\n",
       "    </tr>\n",
       "    <tr>\n",
       "      <th>3</th>\n",
       "      <td>10498721</td>\n",
       "      <td>8</td>\n",
       "      <td>2017-07-25</td>\n",
       "      <td>2018-05-29</td>\n",
       "      <td>48.6802</td>\n",
       "      <td>410.0065</td>\n",
       "      <td>11.87</td>\n",
       "      <td>52</td>\n",
       "      <td>2016-07-08</td>\n",
       "      <td>2019-07-08</td>\n",
       "    </tr>\n",
       "    <tr>\n",
       "      <th>4</th>\n",
       "      <td>11810097</td>\n",
       "      <td>4</td>\n",
       "      <td>2017-06-23</td>\n",
       "      <td>2018-03-27</td>\n",
       "      <td>68.8578</td>\n",
       "      <td>487.5667</td>\n",
       "      <td>14.12</td>\n",
       "      <td>54</td>\n",
       "      <td>2016-08-21</td>\n",
       "      <td>2019-08-21</td>\n",
       "    </tr>\n",
       "  </tbody>\n",
       "</table>\n",
       "</div>"
      ],
      "text/plain": [
       "   CUSTOMER_ID  ORDERS FIRST_ORDER_DATE LAST_ORDER_DATE  TOTAL_CM2  NET_SALES  \\\n",
       "0     10210235       7       2017-07-23      2018-05-31    46.4410   411.3752   \n",
       "1     11419504      20       2017-06-04      2018-05-23   135.5395  1290.0137   \n",
       "2      9718221      25       2017-06-11      2018-05-23    77.1422  1043.8039   \n",
       "3     10498721       8       2017-07-25      2018-05-29    48.6802   410.0065   \n",
       "4     11810097       4       2017-06-23      2018-03-27    68.8578   487.5667   \n",
       "\n",
       "   CM2_REL  ZTQ_ID START_DATE EXPIRY_DATE  \n",
       "0    11.29      54 2015-11-22  2018-11-22  \n",
       "1    10.51      52 2016-06-17  2019-06-17  \n",
       "2     7.39      52 2016-06-24  2019-06-24  \n",
       "3    11.87      52 2016-07-08  2019-07-08  \n",
       "4    14.12      54 2016-08-21  2019-08-21  "
      ]
     },
     "execution_count": 10,
     "metadata": {},
     "output_type": "execute_result"
    }
   ],
   "source": [
    "data.head()"
   ]
  },
  {
   "cell_type": "code",
   "execution_count": 11,
   "metadata": {
    "ExecuteTime": {
     "end_time": "2018-06-22T10:42:10.909078Z",
     "start_time": "2018-06-22T10:42:10.899077Z"
    }
   },
   "outputs": [],
   "source": [
    "tiers = [51, 52, 53, 54, 55, 56]"
   ]
  },
  {
   "cell_type": "code",
   "execution_count": 12,
   "metadata": {
    "ExecuteTime": {
     "end_time": "2018-06-22T10:42:13.305273Z",
     "start_time": "2018-06-22T10:42:10.911078Z"
    },
    "scrolled": false
   },
   "outputs": [
    {
     "name": "stdout",
     "output_type": "stream",
     "text": [
      "...........................................................TIER  51 ..........................................................\n"
     ]
    },
    {
     "data": {
      "image/png": "[encoded data removed]",
      "text/plain": [
       "<matplotlib.figure.Figure at 0xb248860>"
      ]
     },
     "metadata": {},
     "output_type": "display_data"
    },
    {
     "data": {
      "text/html": [
       "<div>\n",
       "<style scoped>\n",
       "    .dataframe tbody tr th:only-of-type {\n",
       "        vertical-align: middle;\n",
       "    }\n",
       "\n",
       "    .dataframe tbody tr th {\n",
       "        vertical-align: top;\n",
       "    }\n",
       "\n",
       "    .dataframe thead th {\n",
       "        text-align: right;\n",
       "    }\n",
       "</style>\n",
       "<table border=\"1\" class=\"dataframe\">\n",
       "  <thead>\n",
       "    <tr style=\"text-align: right;\">\n",
       "      <th></th>\n",
       "      <th>CM2_REL</th>\n",
       "    </tr>\n",
       "  </thead>\n",
       "  <tbody>\n",
       "    <tr>\n",
       "      <th>count</th>\n",
       "      <td>756.00</td>\n",
       "    </tr>\n",
       "    <tr>\n",
       "      <th>mean</th>\n",
       "      <td>13.03</td>\n",
       "    </tr>\n",
       "    <tr>\n",
       "      <th>std</th>\n",
       "      <td>6.99</td>\n",
       "    </tr>\n",
       "    <tr>\n",
       "      <th>min</th>\n",
       "      <td>-8.57</td>\n",
       "    </tr>\n",
       "    <tr>\n",
       "      <th>25%</th>\n",
       "      <td>8.28</td>\n",
       "    </tr>\n",
       "    <tr>\n",
       "      <th>50%</th>\n",
       "      <td>12.62</td>\n",
       "    </tr>\n",
       "    <tr>\n",
       "      <th>75%</th>\n",
       "      <td>17.40</td>\n",
       "    </tr>\n",
       "    <tr>\n",
       "      <th>max</th>\n",
       "      <td>49.94</td>\n",
       "    </tr>\n",
       "  </tbody>\n",
       "</table>\n",
       "</div>"
      ],
      "text/plain": [
       "       CM2_REL\n",
       "count   756.00\n",
       "mean     13.03\n",
       "std       6.99\n",
       "min      -8.57\n",
       "25%       8.28\n",
       "50%      12.62\n",
       "75%      17.40\n",
       "max      49.94"
      ]
     },
     "metadata": {},
     "output_type": "display_data"
    },
    {
     "name": "stdout",
     "output_type": "stream",
     "text": [
      "CM2% threshold >= 5  is the percentile 10.85\n",
      "CM2% threshold >= 7  is the percentile 18.25\n",
      "CM2% threshold >=  9.54  is the percentile 30 allowing us to stay with the 70% of our sample\n"
     ]
    },
    {
     "data": {
      "image/png": "[encoded data removed]",
      "text/plain": [
       "<matplotlib.figure.Figure at 0xb6dc630>"
      ]
     },
     "metadata": {},
     "output_type": "display_data"
    },
    {
     "data": {
      "text/html": [
       "<div>\n",
       "<style scoped>\n",
       "    .dataframe tbody tr th:only-of-type {\n",
       "        vertical-align: middle;\n",
       "    }\n",
       "\n",
       "    .dataframe tbody tr th {\n",
       "        vertical-align: top;\n",
       "    }\n",
       "\n",
       "    .dataframe thead th {\n",
       "        text-align: right;\n",
       "    }\n",
       "</style>\n",
       "<table border=\"1\" class=\"dataframe\">\n",
       "  <thead>\n",
       "    <tr style=\"text-align: right;\">\n",
       "      <th></th>\n",
       "      <th>ORDERS</th>\n",
       "    </tr>\n",
       "  </thead>\n",
       "  <tbody>\n",
       "    <tr>\n",
       "      <th>count</th>\n",
       "      <td>756.00</td>\n",
       "    </tr>\n",
       "    <tr>\n",
       "      <th>mean</th>\n",
       "      <td>6.54</td>\n",
       "    </tr>\n",
       "    <tr>\n",
       "      <th>std</th>\n",
       "      <td>4.35</td>\n",
       "    </tr>\n",
       "    <tr>\n",
       "      <th>min</th>\n",
       "      <td>1.00</td>\n",
       "    </tr>\n",
       "    <tr>\n",
       "      <th>25%</th>\n",
       "      <td>4.00</td>\n",
       "    </tr>\n",
       "    <tr>\n",
       "      <th>50%</th>\n",
       "      <td>6.00</td>\n",
       "    </tr>\n",
       "    <tr>\n",
       "      <th>75%</th>\n",
       "      <td>8.00</td>\n",
       "    </tr>\n",
       "    <tr>\n",
       "      <th>max</th>\n",
       "      <td>49.00</td>\n",
       "    </tr>\n",
       "  </tbody>\n",
       "</table>\n",
       "</div>"
      ],
      "text/plain": [
       "       ORDERS\n",
       "count  756.00\n",
       "mean     6.54\n",
       "std      4.35\n",
       "min      1.00\n",
       "25%      4.00\n",
       "50%      6.00\n",
       "75%      8.00\n",
       "max     49.00"
      ]
     },
     "metadata": {},
     "output_type": "display_data"
    },
    {
     "name": "stdout",
     "output_type": "stream",
     "text": [
      "4.0  is the percentile 30 allowing us to stay with the 70% of our sample\n",
      "                                                                                                                    \n",
      "With CM2% threshold >= 5 and Orders >=  4.0  we keep eligible a  70.24  % from our customers\n",
      "With CM2% threshold >= 7 and Orders >=  4.0  we keep eligible a  64.42  % from our customers\n",
      "With CM2% threshold >=  9.54  and Orders >=  4.0  we keep eligible a  55.29  % from our customers\n",
      "                                                                                                                    \n",
      "                                                                                                                    \n",
      "...........................................................TIER  52 ..........................................................\n"
     ]
    },
    {
     "data": {
      "image/png": "[encoded data removed]",
      "text/plain": [
       "<matplotlib.figure.Figure at 0xb72e2b0>"
      ]
     },
     "metadata": {},
     "output_type": "display_data"
    },
    {
     "data": {
      "text/html": [
       "<div>\n",
       "<style scoped>\n",
       "    .dataframe tbody tr th:only-of-type {\n",
       "        vertical-align: middle;\n",
       "    }\n",
       "\n",
       "    .dataframe tbody tr th {\n",
       "        vertical-align: top;\n",
       "    }\n",
       "\n",
       "    .dataframe thead th {\n",
       "        text-align: right;\n",
       "    }\n",
       "</style>\n",
       "<table border=\"1\" class=\"dataframe\">\n",
       "  <thead>\n",
       "    <tr style=\"text-align: right;\">\n",
       "      <th></th>\n",
       "      <th>CM2_REL</th>\n",
       "    </tr>\n",
       "  </thead>\n",
       "  <tbody>\n",
       "    <tr>\n",
       "      <th>count</th>\n",
       "      <td>357.00</td>\n",
       "    </tr>\n",
       "    <tr>\n",
       "      <th>mean</th>\n",
       "      <td>11.45</td>\n",
       "    </tr>\n",
       "    <tr>\n",
       "      <th>std</th>\n",
       "      <td>21.87</td>\n",
       "    </tr>\n",
       "    <tr>\n",
       "      <th>min</th>\n",
       "      <td>-375.71</td>\n",
       "    </tr>\n",
       "    <tr>\n",
       "      <th>25%</th>\n",
       "      <td>7.30</td>\n",
       "    </tr>\n",
       "    <tr>\n",
       "      <th>50%</th>\n",
       "      <td>12.36</td>\n",
       "    </tr>\n",
       "    <tr>\n",
       "      <th>75%</th>\n",
       "      <td>17.13</td>\n",
       "    </tr>\n",
       "    <tr>\n",
       "      <th>max</th>\n",
       "      <td>42.64</td>\n",
       "    </tr>\n",
       "  </tbody>\n",
       "</table>\n",
       "</div>"
      ],
      "text/plain": [
       "       CM2_REL\n",
       "count   357.00\n",
       "mean     11.45\n",
       "std      21.87\n",
       "min    -375.71\n",
       "25%       7.30\n",
       "50%      12.36\n",
       "75%      17.13\n",
       "max      42.64"
      ]
     },
     "metadata": {},
     "output_type": "display_data"
    },
    {
     "name": "stdout",
     "output_type": "stream",
     "text": [
      "CM2% threshold >= 5  is the percentile 12.61\n",
      "CM2% threshold >= 7  is the percentile 23.25\n",
      "CM2% threshold >=  8.068  is the percentile 30 allowing us to stay with the 70% of our sample\n"
     ]
    },
    {
     "data": {
      "image/png": "[encoded data removed]",
      "text/plain": [
       "<matplotlib.figure.Figure at 0xb784320>"
      ]
     },
     "metadata": {},
     "output_type": "display_data"
    },
    {
     "data": {
      "text/html": [
       "<div>\n",
       "<style scoped>\n",
       "    .dataframe tbody tr th:only-of-type {\n",
       "        vertical-align: middle;\n",
       "    }\n",
       "\n",
       "    .dataframe tbody tr th {\n",
       "        vertical-align: top;\n",
       "    }\n",
       "\n",
       "    .dataframe thead th {\n",
       "        text-align: right;\n",
       "    }\n",
       "</style>\n",
       "<table border=\"1\" class=\"dataframe\">\n",
       "  <thead>\n",
       "    <tr style=\"text-align: right;\">\n",
       "      <th></th>\n",
       "      <th>ORDERS</th>\n",
       "    </tr>\n",
       "  </thead>\n",
       "  <tbody>\n",
       "    <tr>\n",
       "      <th>count</th>\n",
       "      <td>357.00</td>\n",
       "    </tr>\n",
       "    <tr>\n",
       "      <th>mean</th>\n",
       "      <td>6.69</td>\n",
       "    </tr>\n",
       "    <tr>\n",
       "      <th>std</th>\n",
       "      <td>5.28</td>\n",
       "    </tr>\n",
       "    <tr>\n",
       "      <th>min</th>\n",
       "      <td>1.00</td>\n",
       "    </tr>\n",
       "    <tr>\n",
       "      <th>25%</th>\n",
       "      <td>3.00</td>\n",
       "    </tr>\n",
       "    <tr>\n",
       "      <th>50%</th>\n",
       "      <td>6.00</td>\n",
       "    </tr>\n",
       "    <tr>\n",
       "      <th>75%</th>\n",
       "      <td>9.00</td>\n",
       "    </tr>\n",
       "    <tr>\n",
       "      <th>max</th>\n",
       "      <td>40.00</td>\n",
       "    </tr>\n",
       "  </tbody>\n",
       "</table>\n",
       "</div>"
      ],
      "text/plain": [
       "       ORDERS\n",
       "count  357.00\n",
       "mean     6.69\n",
       "std      5.28\n",
       "min      1.00\n",
       "25%      3.00\n",
       "50%      6.00\n",
       "75%      9.00\n",
       "max     40.00"
      ]
     },
     "metadata": {},
     "output_type": "display_data"
    },
    {
     "name": "stdout",
     "output_type": "stream",
     "text": [
      "4.0  is the percentile 30 allowing us to stay with the 70% of our sample\n",
      "                                                                                                                    \n",
      "With CM2% threshold >= 5 and Orders >=  4.0  we keep eligible a  64.99  % from our customers\n",
      "With CM2% threshold >= 7 and Orders >=  4.0  we keep eligible a  56.86  % from our customers\n",
      "With CM2% threshold >=  8.068  and Orders >=  4.0  we keep eligible a  51.54  % from our customers\n",
      "                                                                                                                    \n",
      "                                                                                                                    \n",
      "...........................................................TIER  53 ..........................................................\n"
     ]
    },
    {
     "data": {
      "image/png": "[encoded data removed]",
      "text/plain": [
       "<matplotlib.figure.Figure at 0xb77dd30>"
      ]
     },
     "metadata": {},
     "output_type": "display_data"
    },
    {
     "data": {
      "text/html": [
       "<div>\n",
       "<style scoped>\n",
       "    .dataframe tbody tr th:only-of-type {\n",
       "        vertical-align: middle;\n",
       "    }\n",
       "\n",
       "    .dataframe tbody tr th {\n",
       "        vertical-align: top;\n",
       "    }\n",
       "\n",
       "    .dataframe thead th {\n",
       "        text-align: right;\n",
       "    }\n",
       "</style>\n",
       "<table border=\"1\" class=\"dataframe\">\n",
       "  <thead>\n",
       "    <tr style=\"text-align: right;\">\n",
       "      <th></th>\n",
       "      <th>CM2_REL</th>\n",
       "    </tr>\n",
       "  </thead>\n",
       "  <tbody>\n",
       "    <tr>\n",
       "      <th>count</th>\n",
       "      <td>354.00</td>\n",
       "    </tr>\n",
       "    <tr>\n",
       "      <th>mean</th>\n",
       "      <td>15.30</td>\n",
       "    </tr>\n",
       "    <tr>\n",
       "      <th>std</th>\n",
       "      <td>7.99</td>\n",
       "    </tr>\n",
       "    <tr>\n",
       "      <th>min</th>\n",
       "      <td>-6.33</td>\n",
       "    </tr>\n",
       "    <tr>\n",
       "      <th>25%</th>\n",
       "      <td>10.12</td>\n",
       "    </tr>\n",
       "    <tr>\n",
       "      <th>50%</th>\n",
       "      <td>15.57</td>\n",
       "    </tr>\n",
       "    <tr>\n",
       "      <th>75%</th>\n",
       "      <td>21.39</td>\n",
       "    </tr>\n",
       "    <tr>\n",
       "      <th>max</th>\n",
       "      <td>36.46</td>\n",
       "    </tr>\n",
       "  </tbody>\n",
       "</table>\n",
       "</div>"
      ],
      "text/plain": [
       "       CM2_REL\n",
       "count   354.00\n",
       "mean     15.30\n",
       "std       7.99\n",
       "min      -6.33\n",
       "25%      10.12\n",
       "50%      15.57\n",
       "75%      21.39\n",
       "max      36.46"
      ]
     },
     "metadata": {},
     "output_type": "display_data"
    },
    {
     "name": "stdout",
     "output_type": "stream",
     "text": [
      "CM2% threshold >= 5  is the percentile 11.02\n",
      "CM2% threshold >= 7  is the percentile 16.38\n",
      "CM2% threshold >=  11.316999999999998  is the percentile 30 allowing us to stay with the 70% of our sample\n"
     ]
    },
    {
     "data": {
      "image/png": "[encoded data removed]",
      "text/plain": [
       "<matplotlib.figure.Figure at 0xb8a1898>"
      ]
     },
     "metadata": {},
     "output_type": "display_data"
    },
    {
     "data": {
      "text/html": [
       "<div>\n",
       "<style scoped>\n",
       "    .dataframe tbody tr th:only-of-type {\n",
       "        vertical-align: middle;\n",
       "    }\n",
       "\n",
       "    .dataframe tbody tr th {\n",
       "        vertical-align: top;\n",
       "    }\n",
       "\n",
       "    .dataframe thead th {\n",
       "        text-align: right;\n",
       "    }\n",
       "</style>\n",
       "<table border=\"1\" class=\"dataframe\">\n",
       "  <thead>\n",
       "    <tr style=\"text-align: right;\">\n",
       "      <th></th>\n",
       "      <th>ORDERS</th>\n",
       "    </tr>\n",
       "  </thead>\n",
       "  <tbody>\n",
       "    <tr>\n",
       "      <th>count</th>\n",
       "      <td>354.00</td>\n",
       "    </tr>\n",
       "    <tr>\n",
       "      <th>mean</th>\n",
       "      <td>6.48</td>\n",
       "    </tr>\n",
       "    <tr>\n",
       "      <th>std</th>\n",
       "      <td>3.91</td>\n",
       "    </tr>\n",
       "    <tr>\n",
       "      <th>min</th>\n",
       "      <td>1.00</td>\n",
       "    </tr>\n",
       "    <tr>\n",
       "      <th>25%</th>\n",
       "      <td>4.00</td>\n",
       "    </tr>\n",
       "    <tr>\n",
       "      <th>50%</th>\n",
       "      <td>6.00</td>\n",
       "    </tr>\n",
       "    <tr>\n",
       "      <th>75%</th>\n",
       "      <td>8.00</td>\n",
       "    </tr>\n",
       "    <tr>\n",
       "      <th>max</th>\n",
       "      <td>32.00</td>\n",
       "    </tr>\n",
       "  </tbody>\n",
       "</table>\n",
       "</div>"
      ],
      "text/plain": [
       "       ORDERS\n",
       "count  354.00\n",
       "mean     6.48\n",
       "std      3.91\n",
       "min      1.00\n",
       "25%      4.00\n",
       "50%      6.00\n",
       "75%      8.00\n",
       "max     32.00"
      ]
     },
     "metadata": {},
     "output_type": "display_data"
    },
    {
     "name": "stdout",
     "output_type": "stream",
     "text": [
      "4.0  is the percentile 30 allowing us to stay with the 70% of our sample\n",
      "                                                                                                                    \n",
      "With CM2% threshold >= 5 and Orders >=  4.0  we keep eligible a  69.49  % from our customers\n",
      "With CM2% threshold >= 7 and Orders >=  4.0  we keep eligible a  64.97  % from our customers\n",
      "With CM2% threshold >=  11.316999999999998  and Orders >=  4.0  we keep eligible a  55.08  % from our customers\n",
      "                                                                                                                    \n",
      "                                                                                                                    \n",
      "...........................................................TIER  54 ..........................................................\n"
     ]
    },
    {
     "data": {
      "image/png": "[encoded data removed]",
      "text/plain": [
       "<matplotlib.figure.Figure at 0xb9e6ef0>"
      ]
     },
     "metadata": {},
     "output_type": "display_data"
    },
    {
     "data": {
      "text/html": [
       "<div>\n",
       "<style scoped>\n",
       "    .dataframe tbody tr th:only-of-type {\n",
       "        vertical-align: middle;\n",
       "    }\n",
       "\n",
       "    .dataframe tbody tr th {\n",
       "        vertical-align: top;\n",
       "    }\n",
       "\n",
       "    .dataframe thead th {\n",
       "        text-align: right;\n",
       "    }\n",
       "</style>\n",
       "<table border=\"1\" class=\"dataframe\">\n",
       "  <thead>\n",
       "    <tr style=\"text-align: right;\">\n",
       "      <th></th>\n",
       "      <th>CM2_REL</th>\n",
       "    </tr>\n",
       "  </thead>\n",
       "  <tbody>\n",
       "    <tr>\n",
       "      <th>count</th>\n",
       "      <td>120.00</td>\n",
       "    </tr>\n",
       "    <tr>\n",
       "      <th>mean</th>\n",
       "      <td>12.41</td>\n",
       "    </tr>\n",
       "    <tr>\n",
       "      <th>std</th>\n",
       "      <td>9.35</td>\n",
       "    </tr>\n",
       "    <tr>\n",
       "      <th>min</th>\n",
       "      <td>-32.77</td>\n",
       "    </tr>\n",
       "    <tr>\n",
       "      <th>25%</th>\n",
       "      <td>6.97</td>\n",
       "    </tr>\n",
       "    <tr>\n",
       "      <th>50%</th>\n",
       "      <td>13.09</td>\n",
       "    </tr>\n",
       "    <tr>\n",
       "      <th>75%</th>\n",
       "      <td>18.31</td>\n",
       "    </tr>\n",
       "    <tr>\n",
       "      <th>max</th>\n",
       "      <td>34.57</td>\n",
       "    </tr>\n",
       "  </tbody>\n",
       "</table>\n",
       "</div>"
      ],
      "text/plain": [
       "       CM2_REL\n",
       "count   120.00\n",
       "mean     12.41\n",
       "std       9.35\n",
       "min     -32.77\n",
       "25%       6.97\n",
       "50%      13.09\n",
       "75%      18.31\n",
       "max      34.57"
      ]
     },
     "metadata": {},
     "output_type": "display_data"
    },
    {
     "name": "stdout",
     "output_type": "stream",
     "text": [
      "CM2% threshold >= 5  is the percentile 18.33\n",
      "CM2% threshold >= 7  is the percentile 25.83\n",
      "CM2% threshold >=  8.972999999999997  is the percentile 30 allowing us to stay with the 70% of our sample\n"
     ]
    },
    {
     "data": {
      "image/png": "[encoded data removed]",
      "text/plain": [
       "<matplotlib.figure.Figure at 0xba8ef28>"
      ]
     },
     "metadata": {},
     "output_type": "display_data"
    },
    {
     "data": {
      "text/html": [
       "<div>\n",
       "<style scoped>\n",
       "    .dataframe tbody tr th:only-of-type {\n",
       "        vertical-align: middle;\n",
       "    }\n",
       "\n",
       "    .dataframe tbody tr th {\n",
       "        vertical-align: top;\n",
       "    }\n",
       "\n",
       "    .dataframe thead th {\n",
       "        text-align: right;\n",
       "    }\n",
       "</style>\n",
       "<table border=\"1\" class=\"dataframe\">\n",
       "  <thead>\n",
       "    <tr style=\"text-align: right;\">\n",
       "      <th></th>\n",
       "      <th>ORDERS</th>\n",
       "    </tr>\n",
       "  </thead>\n",
       "  <tbody>\n",
       "    <tr>\n",
       "      <th>count</th>\n",
       "      <td>120.00</td>\n",
       "    </tr>\n",
       "    <tr>\n",
       "      <th>mean</th>\n",
       "      <td>6.61</td>\n",
       "    </tr>\n",
       "    <tr>\n",
       "      <th>std</th>\n",
       "      <td>5.94</td>\n",
       "    </tr>\n",
       "    <tr>\n",
       "      <th>min</th>\n",
       "      <td>1.00</td>\n",
       "    </tr>\n",
       "    <tr>\n",
       "      <th>25%</th>\n",
       "      <td>3.00</td>\n",
       "    </tr>\n",
       "    <tr>\n",
       "      <th>50%</th>\n",
       "      <td>5.00</td>\n",
       "    </tr>\n",
       "    <tr>\n",
       "      <th>75%</th>\n",
       "      <td>9.00</td>\n",
       "    </tr>\n",
       "    <tr>\n",
       "      <th>max</th>\n",
       "      <td>44.00</td>\n",
       "    </tr>\n",
       "  </tbody>\n",
       "</table>\n",
       "</div>"
      ],
      "text/plain": [
       "       ORDERS\n",
       "count  120.00\n",
       "mean     6.61\n",
       "std      5.94\n",
       "min      1.00\n",
       "25%      3.00\n",
       "50%      5.00\n",
       "75%      9.00\n",
       "max     44.00"
      ]
     },
     "metadata": {},
     "output_type": "display_data"
    },
    {
     "name": "stdout",
     "output_type": "stream",
     "text": [
      "3.6999999999999957  is the percentile 30 allowing us to stay with the 70% of our sample\n",
      "                                                                                                                    \n",
      "With CM2% threshold >= 5 and Orders >=  3.6999999999999957  we keep eligible a  57.5  % from our customers\n",
      "With CM2% threshold >= 7 and Orders >=  3.6999999999999957  we keep eligible a  52.5  % from our customers\n",
      "With CM2% threshold >=  8.972999999999997  and Orders >=  3.6999999999999957  we keep eligible a  50.0  % from our customers\n",
      "                                                                                                                    \n",
      "                                                                                                                    \n",
      "...........................................................TIER  55 ..........................................................\n"
     ]
    },
    {
     "data": {
      "image/png": "[encoded data removed]",
      "text/plain": [
       "<matplotlib.figure.Figure at 0xbb7aa20>"
      ]
     },
     "metadata": {},
     "output_type": "display_data"
    },
    {
     "data": {
      "text/html": [
       "<div>\n",
       "<style scoped>\n",
       "    .dataframe tbody tr th:only-of-type {\n",
       "        vertical-align: middle;\n",
       "    }\n",
       "\n",
       "    .dataframe tbody tr th {\n",
       "        vertical-align: top;\n",
       "    }\n",
       "\n",
       "    .dataframe thead th {\n",
       "        text-align: right;\n",
       "    }\n",
       "</style>\n",
       "<table border=\"1\" class=\"dataframe\">\n",
       "  <thead>\n",
       "    <tr style=\"text-align: right;\">\n",
       "      <th></th>\n",
       "      <th>CM2_REL</th>\n",
       "    </tr>\n",
       "  </thead>\n",
       "  <tbody>\n",
       "    <tr>\n",
       "      <th>count</th>\n",
       "      <td>104.00</td>\n",
       "    </tr>\n",
       "    <tr>\n",
       "      <th>mean</th>\n",
       "      <td>9.99</td>\n",
       "    </tr>\n",
       "    <tr>\n",
       "      <th>std</th>\n",
       "      <td>7.87</td>\n",
       "    </tr>\n",
       "    <tr>\n",
       "      <th>min</th>\n",
       "      <td>-6.23</td>\n",
       "    </tr>\n",
       "    <tr>\n",
       "      <th>25%</th>\n",
       "      <td>3.97</td>\n",
       "    </tr>\n",
       "    <tr>\n",
       "      <th>50%</th>\n",
       "      <td>9.83</td>\n",
       "    </tr>\n",
       "    <tr>\n",
       "      <th>75%</th>\n",
       "      <td>16.22</td>\n",
       "    </tr>\n",
       "    <tr>\n",
       "      <th>max</th>\n",
       "      <td>40.63</td>\n",
       "    </tr>\n",
       "  </tbody>\n",
       "</table>\n",
       "</div>"
      ],
      "text/plain": [
       "       CM2_REL\n",
       "count   104.00\n",
       "mean      9.99\n",
       "std       7.87\n",
       "min      -6.23\n",
       "25%       3.97\n",
       "50%       9.83\n",
       "75%      16.22\n",
       "max      40.63"
      ]
     },
     "metadata": {},
     "output_type": "display_data"
    },
    {
     "name": "stdout",
     "output_type": "stream",
     "text": [
      "CM2% threshold >= 5  is the percentile 25.96\n",
      "CM2% threshold >= 7  is the percentile 32.69\n",
      "CM2% threshold >=  5.224  is the percentile 30 allowing us to stay with the 70% of our sample\n"
     ]
    },
    {
     "data": {
      "image/png": "[encoded data removed]",
      "text/plain": [
       "<matplotlib.figure.Figure at 0xbcabef0>"
      ]
     },
     "metadata": {},
     "output_type": "display_data"
    },
    {
     "data": {
      "text/html": [
       "<div>\n",
       "<style scoped>\n",
       "    .dataframe tbody tr th:only-of-type {\n",
       "        vertical-align: middle;\n",
       "    }\n",
       "\n",
       "    .dataframe tbody tr th {\n",
       "        vertical-align: top;\n",
       "    }\n",
       "\n",
       "    .dataframe thead th {\n",
       "        text-align: right;\n",
       "    }\n",
       "</style>\n",
       "<table border=\"1\" class=\"dataframe\">\n",
       "  <thead>\n",
       "    <tr style=\"text-align: right;\">\n",
       "      <th></th>\n",
       "      <th>ORDERS</th>\n",
       "    </tr>\n",
       "  </thead>\n",
       "  <tbody>\n",
       "    <tr>\n",
       "      <th>count</th>\n",
       "      <td>104.00</td>\n",
       "    </tr>\n",
       "    <tr>\n",
       "      <th>mean</th>\n",
       "      <td>3.63</td>\n",
       "    </tr>\n",
       "    <tr>\n",
       "      <th>std</th>\n",
       "      <td>2.42</td>\n",
       "    </tr>\n",
       "    <tr>\n",
       "      <th>min</th>\n",
       "      <td>1.00</td>\n",
       "    </tr>\n",
       "    <tr>\n",
       "      <th>25%</th>\n",
       "      <td>2.00</td>\n",
       "    </tr>\n",
       "    <tr>\n",
       "      <th>50%</th>\n",
       "      <td>3.00</td>\n",
       "    </tr>\n",
       "    <tr>\n",
       "      <th>75%</th>\n",
       "      <td>5.00</td>\n",
       "    </tr>\n",
       "    <tr>\n",
       "      <th>max</th>\n",
       "      <td>11.00</td>\n",
       "    </tr>\n",
       "  </tbody>\n",
       "</table>\n",
       "</div>"
      ],
      "text/plain": [
       "       ORDERS\n",
       "count  104.00\n",
       "mean     3.63\n",
       "std      2.42\n",
       "min      1.00\n",
       "25%      2.00\n",
       "50%      3.00\n",
       "75%      5.00\n",
       "max     11.00"
      ]
     },
     "metadata": {},
     "output_type": "display_data"
    },
    {
     "name": "stdout",
     "output_type": "stream",
     "text": [
      "2.0  is the percentile 30 allowing us to stay with the 70% of our sample\n",
      "                                                                                                                    \n",
      "With CM2% threshold >= 5 and Orders >=  2.0  we keep eligible a  58.65  % from our customers\n",
      "With CM2% threshold >= 7 and Orders >=  2.0  we keep eligible a  53.85  % from our customers\n",
      "With CM2% threshold >=  5.224  and Orders >=  2.0  we keep eligible a  55.77  % from our customers\n",
      "                                                                                                                    \n",
      "                                                                                                                    \n",
      "...........................................................TIER  56 ..........................................................\n"
     ]
    },
    {
     "data": {
      "image/png": "[encoded data removed]",
      "text/plain": [
       "<matplotlib.figure.Figure at 0xbc96d30>"
      ]
     },
     "metadata": {},
     "output_type": "display_data"
    },
    {
     "data": {
      "text/html": [
       "<div>\n",
       "<style scoped>\n",
       "    .dataframe tbody tr th:only-of-type {\n",
       "        vertical-align: middle;\n",
       "    }\n",
       "\n",
       "    .dataframe tbody tr th {\n",
       "        vertical-align: top;\n",
       "    }\n",
       "\n",
       "    .dataframe thead th {\n",
       "        text-align: right;\n",
       "    }\n",
       "</style>\n",
       "<table border=\"1\" class=\"dataframe\">\n",
       "  <thead>\n",
       "    <tr style=\"text-align: right;\">\n",
       "      <th></th>\n",
       "      <th>CM2_REL</th>\n",
       "    </tr>\n",
       "  </thead>\n",
       "  <tbody>\n",
       "    <tr>\n",
       "      <th>count</th>\n",
       "      <td>1074.00</td>\n",
       "    </tr>\n",
       "    <tr>\n",
       "      <th>mean</th>\n",
       "      <td>9.86</td>\n",
       "    </tr>\n",
       "    <tr>\n",
       "      <th>std</th>\n",
       "      <td>8.25</td>\n",
       "    </tr>\n",
       "    <tr>\n",
       "      <th>min</th>\n",
       "      <td>-12.65</td>\n",
       "    </tr>\n",
       "    <tr>\n",
       "      <th>25%</th>\n",
       "      <td>3.74</td>\n",
       "    </tr>\n",
       "    <tr>\n",
       "      <th>50%</th>\n",
       "      <td>9.74</td>\n",
       "    </tr>\n",
       "    <tr>\n",
       "      <th>75%</th>\n",
       "      <td>15.13</td>\n",
       "    </tr>\n",
       "    <tr>\n",
       "      <th>max</th>\n",
       "      <td>40.45</td>\n",
       "    </tr>\n",
       "  </tbody>\n",
       "</table>\n",
       "</div>"
      ],
      "text/plain": [
       "       CM2_REL\n",
       "count  1074.00\n",
       "mean      9.86\n",
       "std       8.25\n",
       "min     -12.65\n",
       "25%       3.74\n",
       "50%       9.74\n",
       "75%      15.13\n",
       "max      40.45"
      ]
     },
     "metadata": {},
     "output_type": "display_data"
    },
    {
     "name": "stdout",
     "output_type": "stream",
     "text": [
      "CM2% threshold >= 5  is the percentile 29.7\n",
      "CM2% threshold >= 7  is the percentile 37.9\n",
      "CM2% threshold >=  5.137  is the percentile 30 allowing us to stay with the 70% of our sample\n"
     ]
    },
    {
     "data": {
      "image/png": "[encoded data removed]",
      "text/plain": [
       "<matplotlib.figure.Figure at 0xb742a90>"
      ]
     },
     "metadata": {},
     "output_type": "display_data"
    },
    {
     "data": {
      "text/html": [
       "<div>\n",
       "<style scoped>\n",
       "    .dataframe tbody tr th:only-of-type {\n",
       "        vertical-align: middle;\n",
       "    }\n",
       "\n",
       "    .dataframe tbody tr th {\n",
       "        vertical-align: top;\n",
       "    }\n",
       "\n",
       "    .dataframe thead th {\n",
       "        text-align: right;\n",
       "    }\n",
       "</style>\n",
       "<table border=\"1\" class=\"dataframe\">\n",
       "  <thead>\n",
       "    <tr style=\"text-align: right;\">\n",
       "      <th></th>\n",
       "      <th>ORDERS</th>\n",
       "    </tr>\n",
       "  </thead>\n",
       "  <tbody>\n",
       "    <tr>\n",
       "      <th>count</th>\n",
       "      <td>1074.00</td>\n",
       "    </tr>\n",
       "    <tr>\n",
       "      <th>mean</th>\n",
       "      <td>4.34</td>\n",
       "    </tr>\n",
       "    <tr>\n",
       "      <th>std</th>\n",
       "      <td>3.12</td>\n",
       "    </tr>\n",
       "    <tr>\n",
       "      <th>min</th>\n",
       "      <td>1.00</td>\n",
       "    </tr>\n",
       "    <tr>\n",
       "      <th>25%</th>\n",
       "      <td>2.00</td>\n",
       "    </tr>\n",
       "    <tr>\n",
       "      <th>50%</th>\n",
       "      <td>3.00</td>\n",
       "    </tr>\n",
       "    <tr>\n",
       "      <th>75%</th>\n",
       "      <td>6.00</td>\n",
       "    </tr>\n",
       "    <tr>\n",
       "      <th>max</th>\n",
       "      <td>37.00</td>\n",
       "    </tr>\n",
       "  </tbody>\n",
       "</table>\n",
       "</div>"
      ],
      "text/plain": [
       "        ORDERS\n",
       "count  1074.00\n",
       "mean      4.34\n",
       "std       3.12\n",
       "min       1.00\n",
       "25%       2.00\n",
       "50%       3.00\n",
       "75%       6.00\n",
       "max      37.00"
      ]
     },
     "metadata": {},
     "output_type": "display_data"
    },
    {
     "name": "stdout",
     "output_type": "stream",
     "text": [
      "3.0  is the percentile 30 allowing us to stay with the 70% of our sample\n",
      "                                                                                                                    \n",
      "With CM2% threshold >= 5 and Orders >=  3.0  we keep eligible a  50.19  % from our customers\n",
      "With CM2% threshold >= 7 and Orders >=  3.0  we keep eligible a  44.04  % from our customers\n",
      "With CM2% threshold >=  5.137  and Orders >=  3.0  we keep eligible a  49.91  % from our customers\n",
      "                                                                                                                    \n",
      "                                                                                                                    \n"
     ]
    }
   ],
   "source": [
    "for tq in tiers:\n",
    "    data_tier = data[data['ZTQ_ID'] == tq]\n",
    "    print('...........................................................TIER ', tq, '..........................................................')\n",
    "    # CM2% per customer\n",
    "    plt.figure(figsize=(16,4))\n",
    "    data_tier['CM2_REL'].hist(bins=100, range=(-50, 50))\n",
    "    title = 'Tier ' + str(tq) + '  Relative CM2 % per customer histogram'\n",
    "    plt.title(title)\n",
    "    plt.show()\n",
    "    display(pd.DataFrame(data_tier['CM2_REL'].fillna(0).describe().round(2)))\n",
    "    perc_30_cm2_rel = data_tier['CM2_REL'].fillna(0).quantile(.3)\n",
    "    print('CM2% threshold >= 5  is the percentile', stats.percentileofscore(data_tier['CM2_REL'], 5, kind='strict').round(2))\n",
    "    print('CM2% threshold >= 7  is the percentile', stats.percentileofscore(data_tier['CM2_REL'], 7, kind='strict').round(2))\n",
    "    print('CM2% threshold >= ', perc_30_cm2_rel, ' is the percentile 30 allowing us to stay with the 70% of our sample')\n",
    "    # CM2 € per customer\n",
    "    #plt.figure(figsize=(16,4))\n",
    "    #data_tier['TOTAL_CM2'].hist(bins=200, range=(-50, 150))\n",
    "    #title = 'Tier ' + str(tq) + ' Absolute CM2 per customer histogram'\n",
    "    #plt.title(title)\n",
    "    #plt.show()\n",
    "    #display(pd.DataFrame(data_tier['TOTAL_CM2'].describe().round(2)))\n",
    "    #perc_30_cm2_abs = data_tier['TOTAL_CM2'].fillna(0).quantile(.3)\n",
    "    #val1 = float(data_tier[(data_tier['CM2_REL'] >= 5) & (data_tier['TOTAL_CM2'] >= perc_30_cm2_abs)]['CUSTOMER_ID'].nunique()) / data_tier['CUSTOMER_ID'].nunique() * 100\n",
    "    #val2 = float(data_tier[(data_tier['CM2_REL'] >= 7) & (data_tier['TOTAL_CM2'] >= perc_30_cm2_abs)]['CUSTOMER_ID'].nunique()) / data_tier['CUSTOMER_ID'].nunique() * 100\n",
    "    #val3 = float(data_tier[(data_tier['CM2_REL'] >= perc_30_cm2_rel) & (data_tier['TOTAL_CM2'] >= perc_30_cm2_abs)]['CUSTOMER_ID'].nunique()) / data_tier['CUSTOMER_ID'].nunique() * 100\n",
    "    #print(perc_30_cm2_abs, ' is the percentile 30 allowing us to stay with the 70% of our sample')\n",
    "    #print('                                                                                                                    ')\n",
    "    #print('With CM2% threshold >= 5 and CM2 >= ', perc_30_cm2_abs, ' we keep eligible a ', np.round(val1, 2), ' % from our customers')\n",
    "    #print('With CM2% threshold >= 7 and CM2 >= ', perc_30_cm2_abs, ' we keep eligible a ', np.round(val2, 2), ' % from our customers')\n",
    "    #print('With CM2% threshold >= ', perc_30_cm2_rel, ' and CM2 >= ', perc_30_cm2_abs, ' we keep eligible a ', np.round(val3, 2), ' % from our customers')\n",
    "    # Orders per customer\n",
    "    plt.figure(figsize=(16,4))\n",
    "    data_tier['ORDERS'].hist(bins=30, range=(0, 30))\n",
    "    title = 'Tier ' + str(tq) + ' Orders per customer histogram'\n",
    "    plt.title(title)\n",
    "    plt.show()\n",
    "    display(pd.DataFrame(data_tier['ORDERS'].describe().round(2)))\n",
    "    perc_30_orders = data_tier['ORDERS'].quantile(.3)\n",
    "    val4 = float(data_tier[(data_tier['CM2_REL'] >= 5) & (data_tier['ORDERS'] >= perc_30_orders)]['CUSTOMER_ID'].nunique()) / data_tier['CUSTOMER_ID'].nunique() * 100\n",
    "    val5 = float(data_tier[(data_tier['CM2_REL'] >= 7) & (data_tier['ORDERS'] >= perc_30_orders)]['CUSTOMER_ID'].nunique()) / data_tier['CUSTOMER_ID'].nunique() * 100\n",
    "    val6 = float(data_tier[(data_tier['CM2_REL'] >= perc_30_cm2_rel) & (data_tier['ORDERS'] >= perc_30_orders)]['CUSTOMER_ID'].nunique()) / data_tier['CUSTOMER_ID'].nunique() * 100\n",
    "    print(perc_30_orders, ' is the percentile 30 allowing us to stay with the 70% of our sample')\n",
    "    print('                                                                                                                    ')\n",
    "    print('With CM2% threshold >= 5 and Orders >= ', perc_30_orders, ' we keep eligible a ', np.round(val4, 2), ' % from our customers')\n",
    "    print('With CM2% threshold >= 7 and Orders >= ', perc_30_orders, ' we keep eligible a ', np.round(val5, 2), ' % from our customers')\n",
    "    print('With CM2% threshold >= ', perc_30_cm2_rel, ' and Orders >= ', perc_30_orders, ' we keep eligible a ', np.round(val6, 2), ' % from our customers')\n",
    "    print('                                                                                                                    ')\n",
    "    print('                                                                                                                    ')"
   ]
  },
  {
   "cell_type": "code",
   "execution_count": 13,
   "metadata": {
    "ExecuteTime": {
     "end_time": "2018-06-22T10:42:13.323275Z",
     "start_time": "2018-06-22T10:42:13.306274Z"
    }
   },
   "outputs": [],
   "source": [
    "data['NET_BASKET_VALUE'] = data['NET_SALES'] / data['ORDERS']"
   ]
  },
  {
   "cell_type": "code",
   "execution_count": 14,
   "metadata": {
    "ExecuteTime": {
     "end_time": "2018-06-22T10:42:13.351278Z",
     "start_time": "2018-06-22T10:42:13.326276Z"
    }
   },
   "outputs": [
    {
     "data": {
      "text/html": [
       "<div>\n",
       "<style scoped>\n",
       "    .dataframe tbody tr th:only-of-type {\n",
       "        vertical-align: middle;\n",
       "    }\n",
       "\n",
       "    .dataframe tbody tr th {\n",
       "        vertical-align: top;\n",
       "    }\n",
       "\n",
       "    .dataframe thead th {\n",
       "        text-align: right;\n",
       "    }\n",
       "</style>\n",
       "<table border=\"1\" class=\"dataframe\">\n",
       "  <thead>\n",
       "    <tr style=\"text-align: right;\">\n",
       "      <th></th>\n",
       "      <th>count</th>\n",
       "      <th>mean</th>\n",
       "      <th>std</th>\n",
       "      <th>min</th>\n",
       "      <th>25%</th>\n",
       "      <th>50%</th>\n",
       "      <th>75%</th>\n",
       "      <th>max</th>\n",
       "    </tr>\n",
       "    <tr>\n",
       "      <th>ZTQ_ID</th>\n",
       "      <th></th>\n",
       "      <th></th>\n",
       "      <th></th>\n",
       "      <th></th>\n",
       "      <th></th>\n",
       "      <th></th>\n",
       "      <th></th>\n",
       "      <th></th>\n",
       "    </tr>\n",
       "  </thead>\n",
       "  <tbody>\n",
       "    <tr>\n",
       "      <th>51</th>\n",
       "      <td>481.0</td>\n",
       "      <td>56.719542</td>\n",
       "      <td>22.701085</td>\n",
       "      <td>21.213100</td>\n",
       "      <td>41.413537</td>\n",
       "      <td>51.446643</td>\n",
       "      <td>66.496443</td>\n",
       "      <td>207.143467</td>\n",
       "    </tr>\n",
       "    <tr>\n",
       "      <th>52</th>\n",
       "      <td>202.0</td>\n",
       "      <td>68.660720</td>\n",
       "      <td>31.577408</td>\n",
       "      <td>22.297625</td>\n",
       "      <td>46.658023</td>\n",
       "      <td>59.834970</td>\n",
       "      <td>80.968375</td>\n",
       "      <td>217.591580</td>\n",
       "    </tr>\n",
       "    <tr>\n",
       "      <th>53</th>\n",
       "      <td>225.0</td>\n",
       "      <td>60.665325</td>\n",
       "      <td>28.829514</td>\n",
       "      <td>25.886440</td>\n",
       "      <td>42.319200</td>\n",
       "      <td>54.925175</td>\n",
       "      <td>70.164237</td>\n",
       "      <td>284.590629</td>\n",
       "    </tr>\n",
       "    <tr>\n",
       "      <th>54</th>\n",
       "      <td>68.0</td>\n",
       "      <td>70.356260</td>\n",
       "      <td>35.049977</td>\n",
       "      <td>34.694925</td>\n",
       "      <td>46.191145</td>\n",
       "      <td>58.729680</td>\n",
       "      <td>82.188547</td>\n",
       "      <td>224.519117</td>\n",
       "    </tr>\n",
       "    <tr>\n",
       "      <th>55</th>\n",
       "      <td>44.0</td>\n",
       "      <td>49.680395</td>\n",
       "      <td>16.450207</td>\n",
       "      <td>24.825617</td>\n",
       "      <td>36.957390</td>\n",
       "      <td>44.423484</td>\n",
       "      <td>56.796680</td>\n",
       "      <td>93.503300</td>\n",
       "    </tr>\n",
       "    <tr>\n",
       "      <th>56</th>\n",
       "      <td>478.0</td>\n",
       "      <td>54.130132</td>\n",
       "      <td>23.025653</td>\n",
       "      <td>19.724725</td>\n",
       "      <td>39.572092</td>\n",
       "      <td>48.298907</td>\n",
       "      <td>62.169543</td>\n",
       "      <td>185.385617</td>\n",
       "    </tr>\n",
       "  </tbody>\n",
       "</table>\n",
       "</div>"
      ],
      "text/plain": [
       "        count       mean        std        min        25%        50%  \\\n",
       "ZTQ_ID                                                                 \n",
       "51      481.0  56.719542  22.701085  21.213100  41.413537  51.446643   \n",
       "52      202.0  68.660720  31.577408  22.297625  46.658023  59.834970   \n",
       "53      225.0  60.665325  28.829514  25.886440  42.319200  54.925175   \n",
       "54       68.0  70.356260  35.049977  34.694925  46.191145  58.729680   \n",
       "55       44.0  49.680395  16.450207  24.825617  36.957390  44.423484   \n",
       "56      478.0  54.130132  23.025653  19.724725  39.572092  48.298907   \n",
       "\n",
       "              75%         max  \n",
       "ZTQ_ID                         \n",
       "51      66.496443  207.143467  \n",
       "52      80.968375  217.591580  \n",
       "53      70.164237  284.590629  \n",
       "54      82.188547  224.519117  \n",
       "55      56.796680   93.503300  \n",
       "56      62.169543  185.385617  "
      ]
     },
     "execution_count": 14,
     "metadata": {},
     "output_type": "execute_result"
    }
   ],
   "source": [
    "data[(data['ORDERS'] >= 4) & (data['ORDERS'] <= 10)].groupby('ZTQ_ID')['NET_BASKET_VALUE'].describe()"
   ]
  },
  {
   "cell_type": "code",
   "execution_count": 15,
   "metadata": {
    "ExecuteTime": {
     "end_time": "2018-06-22T10:42:13.381281Z",
     "start_time": "2018-06-22T10:42:13.353278Z"
    }
   },
   "outputs": [
    {
     "data": {
      "text/html": [
       "<div>\n",
       "<style scoped>\n",
       "    .dataframe tbody tr th:only-of-type {\n",
       "        vertical-align: middle;\n",
       "    }\n",
       "\n",
       "    .dataframe tbody tr th {\n",
       "        vertical-align: top;\n",
       "    }\n",
       "\n",
       "    .dataframe thead th {\n",
       "        text-align: right;\n",
       "    }\n",
       "</style>\n",
       "<table border=\"1\" class=\"dataframe\">\n",
       "  <thead>\n",
       "    <tr style=\"text-align: right;\">\n",
       "      <th></th>\n",
       "      <th>count</th>\n",
       "      <th>mean</th>\n",
       "      <th>std</th>\n",
       "      <th>min</th>\n",
       "      <th>25%</th>\n",
       "      <th>50%</th>\n",
       "      <th>75%</th>\n",
       "      <th>max</th>\n",
       "    </tr>\n",
       "    <tr>\n",
       "      <th>ZTQ_ID</th>\n",
       "      <th></th>\n",
       "      <th></th>\n",
       "      <th></th>\n",
       "      <th></th>\n",
       "      <th></th>\n",
       "      <th></th>\n",
       "      <th></th>\n",
       "      <th></th>\n",
       "    </tr>\n",
       "  </thead>\n",
       "  <tbody>\n",
       "    <tr>\n",
       "      <th>51</th>\n",
       "      <td>481.0</td>\n",
       "      <td>13.097131</td>\n",
       "      <td>6.811040</td>\n",
       "      <td>-5.02</td>\n",
       "      <td>8.6600</td>\n",
       "      <td>12.940</td>\n",
       "      <td>17.1200</td>\n",
       "      <td>45.09</td>\n",
       "    </tr>\n",
       "    <tr>\n",
       "      <th>52</th>\n",
       "      <td>202.0</td>\n",
       "      <td>12.997921</td>\n",
       "      <td>7.381188</td>\n",
       "      <td>-6.39</td>\n",
       "      <td>7.6550</td>\n",
       "      <td>12.375</td>\n",
       "      <td>17.3725</td>\n",
       "      <td>42.64</td>\n",
       "    </tr>\n",
       "    <tr>\n",
       "      <th>53</th>\n",
       "      <td>225.0</td>\n",
       "      <td>16.197156</td>\n",
       "      <td>7.202768</td>\n",
       "      <td>-6.33</td>\n",
       "      <td>11.3300</td>\n",
       "      <td>16.190</td>\n",
       "      <td>21.3800</td>\n",
       "      <td>36.46</td>\n",
       "    </tr>\n",
       "    <tr>\n",
       "      <th>54</th>\n",
       "      <td>68.0</td>\n",
       "      <td>13.300294</td>\n",
       "      <td>7.650218</td>\n",
       "      <td>-10.06</td>\n",
       "      <td>9.2275</td>\n",
       "      <td>14.590</td>\n",
       "      <td>18.1650</td>\n",
       "      <td>29.84</td>\n",
       "    </tr>\n",
       "    <tr>\n",
       "      <th>55</th>\n",
       "      <td>44.0</td>\n",
       "      <td>10.282045</td>\n",
       "      <td>6.194849</td>\n",
       "      <td>-2.70</td>\n",
       "      <td>5.2150</td>\n",
       "      <td>10.180</td>\n",
       "      <td>15.7700</td>\n",
       "      <td>21.62</td>\n",
       "    </tr>\n",
       "    <tr>\n",
       "      <th>56</th>\n",
       "      <td>478.0</td>\n",
       "      <td>9.960983</td>\n",
       "      <td>7.627469</td>\n",
       "      <td>-7.37</td>\n",
       "      <td>3.8925</td>\n",
       "      <td>10.045</td>\n",
       "      <td>15.0800</td>\n",
       "      <td>32.84</td>\n",
       "    </tr>\n",
       "  </tbody>\n",
       "</table>\n",
       "</div>"
      ],
      "text/plain": [
       "        count       mean       std    min      25%     50%      75%    max\n",
       "ZTQ_ID                                                                    \n",
       "51      481.0  13.097131  6.811040  -5.02   8.6600  12.940  17.1200  45.09\n",
       "52      202.0  12.997921  7.381188  -6.39   7.6550  12.375  17.3725  42.64\n",
       "53      225.0  16.197156  7.202768  -6.33  11.3300  16.190  21.3800  36.46\n",
       "54       68.0  13.300294  7.650218 -10.06   9.2275  14.590  18.1650  29.84\n",
       "55       44.0  10.282045  6.194849  -2.70   5.2150  10.180  15.7700  21.62\n",
       "56      478.0   9.960983  7.627469  -7.37   3.8925  10.045  15.0800  32.84"
      ]
     },
     "execution_count": 15,
     "metadata": {},
     "output_type": "execute_result"
    }
   ],
   "source": [
    "data[(data['ORDERS'] >= 4) & (data['ORDERS'] <= 10)].groupby('ZTQ_ID')['CM2_REL'].describe()"
   ]
  },
  {
   "cell_type": "code",
   "execution_count": 16,
   "metadata": {
    "ExecuteTime": {
     "end_time": "2018-06-22T10:42:13.687312Z",
     "start_time": "2018-06-22T10:42:13.382281Z"
    }
   },
   "outputs": [
    {
     "data": {
      "image/png": "[encoded data removed]",
      "text/plain": [
       "<matplotlib.figure.Figure at 0xbb83d30>"
      ]
     },
     "metadata": {},
     "output_type": "display_data"
    },
    {
     "data": {
      "text/html": [
       "<div>\n",
       "<style scoped>\n",
       "    .dataframe tbody tr th:only-of-type {\n",
       "        vertical-align: middle;\n",
       "    }\n",
       "\n",
       "    .dataframe tbody tr th {\n",
       "        vertical-align: top;\n",
       "    }\n",
       "\n",
       "    .dataframe thead th {\n",
       "        text-align: right;\n",
       "    }\n",
       "</style>\n",
       "<table border=\"1\" class=\"dataframe\">\n",
       "  <thead>\n",
       "    <tr style=\"text-align: right;\">\n",
       "      <th></th>\n",
       "      <th>CM2_REL</th>\n",
       "    </tr>\n",
       "  </thead>\n",
       "  <tbody>\n",
       "    <tr>\n",
       "      <th>count</th>\n",
       "      <td>2765.00</td>\n",
       "    </tr>\n",
       "    <tr>\n",
       "      <th>mean</th>\n",
       "      <td>11.75</td>\n",
       "    </tr>\n",
       "    <tr>\n",
       "      <th>std</th>\n",
       "      <td>10.92</td>\n",
       "    </tr>\n",
       "    <tr>\n",
       "      <th>min</th>\n",
       "      <td>-375.71</td>\n",
       "    </tr>\n",
       "    <tr>\n",
       "      <th>25%</th>\n",
       "      <td>6.48</td>\n",
       "    </tr>\n",
       "    <tr>\n",
       "      <th>50%</th>\n",
       "      <td>11.67</td>\n",
       "    </tr>\n",
       "    <tr>\n",
       "      <th>75%</th>\n",
       "      <td>17.11</td>\n",
       "    </tr>\n",
       "    <tr>\n",
       "      <th>max</th>\n",
       "      <td>49.94</td>\n",
       "    </tr>\n",
       "  </tbody>\n",
       "</table>\n",
       "</div>"
      ],
      "text/plain": [
       "       CM2_REL\n",
       "count  2765.00\n",
       "mean     11.75\n",
       "std      10.92\n",
       "min    -375.71\n",
       "25%       6.48\n",
       "50%      11.67\n",
       "75%      17.11\n",
       "max      49.94"
      ]
     },
     "metadata": {},
     "output_type": "display_data"
    },
    {
     "name": "stdout",
     "output_type": "stream",
     "text": [
      "CM2% threshold >= 5  is the percentile 19.31\n",
      "CM2% threshold >= 6  is the percentile 22.6\n",
      "CM2% threshold >= 7  is the percentile 27.16\n",
      "CM2% threshold >= 8  is the percentile 31.57\n",
      "CM2% threshold >= 9  is the percentile 35.62\n",
      "CM2% threshold >= 10  is the percentile 40.58\n",
      "CM2% threshold >=  7.671999999999999  is the percentile 30 allowing us to stay with the 70% of our sample\n"
     ]
    }
   ],
   "source": [
    "# CM2% per customer\n",
    "plt.figure(figsize=(16,4))\n",
    "data['CM2_REL'].hist(bins=100, range=(-50, 50))\n",
    "title = 'Relative CM2 % per customer histogram'\n",
    "plt.title(title)\n",
    "plt.show()\n",
    "display(pd.DataFrame(data['CM2_REL'].fillna(0).describe().round(2)))\n",
    "perc_30_cm2_rel = data['CM2_REL'].fillna(0).quantile(.3)\n",
    "print('CM2% threshold >= 5  is the percentile', stats.percentileofscore(data['CM2_REL'], 5, kind='strict').round(2))\n",
    "print('CM2% threshold >= 6  is the percentile', stats.percentileofscore(data['CM2_REL'], 6, kind='strict').round(2))\n",
    "print('CM2% threshold >= 7  is the percentile', stats.percentileofscore(data['CM2_REL'], 7, kind='strict').round(2))\n",
    "print('CM2% threshold >= 8  is the percentile', stats.percentileofscore(data['CM2_REL'], 8, kind='strict').round(2))\n",
    "print('CM2% threshold >= 9  is the percentile', stats.percentileofscore(data['CM2_REL'], 9, kind='strict').round(2))\n",
    "print('CM2% threshold >= 10  is the percentile', stats.percentileofscore(data['CM2_REL'], 10, kind='strict').round(2))\n",
    "print('CM2% threshold >= ', perc_30_cm2_rel, ' is the percentile 30 allowing us to stay with the 70% of our sample')\n",
    "# CM2 € per customer\n",
    "#plt.figure(figsize=(16,4))\n",
    "#data['TOTAL_CM2'].hist(bins=200, range=(-50, 150))\n",
    "#title = 'Tier ' + str(tq) + ' Absolute CM2 per customer histogram'\n",
    "#plt.title(title)\n",
    "#plt.show()\n",
    "#display(pd.DataFrame(data['TOTAL_CM2'].describe().round(2)))\n",
    "#perc_30_cm2_abs = data['TOTAL_CM2'].fillna(0).quantile(.3)\n",
    "#val1 = float(data[(data['CM2_REL'] >= 5) & (data['TOTAL_CM2'] >= perc_30_cm2_abs)]['CUSTOMER_ID'].nunique()) / data['CUSTOMER_ID'].nunique() * 100\n",
    "#val2 = float(data[(data['CM2_REL'] >= 7) & (data['TOTAL_CM2'] >= perc_30_cm2_abs)]['CUSTOMER_ID'].nunique()) / data['CUSTOMER_ID'].nunique() * 100\n",
    "#val3 = float(data[(data['CM2_REL'] >= perc_30_cm2_rel) & (data['TOTAL_CM2'] >= perc_30_cm2_abs)]['CUSTOMER_ID'].nunique()) / data['CUSTOMER_ID'].nunique() * 100\n",
    "#print(perc_30_cm2_abs, ' is the percentile 30 allowing us to stay with the 70% of our sample')\n",
    "#print('                                                                                                                    ')\n",
    "#print('With CM2% threshold >= 5 and CM2 >= ', perc_30_cm2_abs, ' we keep eligible a ', np.round(val1, 2), ' % from our customers')\n",
    "#print('With CM2% threshold >= 7 and CM2 >= ', perc_30_cm2_abs, ' we keep eligible a ', np.round(val2, 2), ' % from our customers')\n",
    "#print('With CM2% threshold >= ', perc_30_cm2_rel, ' and CM2 >= ', perc_30_cm2_abs, ' we keep eligible a ', np.round(val3, 2), ' % from our customers')\n",
    "# Orders per customer\n",
    "#plt.figure(figsize=(16,4))\n",
    "#data['ORDERS'].hist(bins=30, range=(0, 30))\n",
    "#title = 'Tier ' + str(tq) + ' Orders per customer histogram'\n",
    "#plt.title(title)\n",
    "#plt.show()\n",
    "#display(pd.DataFrame(data['ORDERS'].describe().round(2)))\n",
    "#perc_30_orders = data['ORDERS'].quantile(.3)\n",
    "#val4 = float(data[(data['CM2_REL'] >= 5) & (data['ORDERS'] >= perc_30_orders)]['CUSTOMER_ID'].nunique()) / data['CUSTOMER_ID'].nunique() * 100\n",
    "#val5 = float(data[(data['CM2_REL'] >= 7) & (data['ORDERS'] >= perc_30_orders)]['CUSTOMER_ID'].nunique()) / data['CUSTOMER_ID'].nunique() * 100\n",
    "#val6 = float(data[(data['CM2_REL'] >= perc_30_cm2_rel) & (data['ORDERS'] >= perc_30_orders)]['CUSTOMER_ID'].nunique()) / data['CUSTOMER_ID'].nunique() * 100\n",
    "#print(perc_30_orders, ' is the percentile 30 allowing us to stay with the 70% of our sample')\n",
    "#print('                                                                                                                    ')\n",
    "#print('With CM2% threshold >= 5 and Orders >= ', perc_30_orders, ' we keep eligible a ', np.round(val4, 2), ' % from our customers')\n",
    "#print('With CM2% threshold >= 7 and Orders >= ', perc_30_orders, ' we keep eligible a ', np.round(val5, 2), ' % from our customers')\n",
    "#print('With CM2% threshold >= ', perc_30_cm2_rel, ' and Orders >= ', perc_30_orders, ' we keep eligible a ', np.round(val6, 2), ' % from our customers')\n",
    "#print('                                                                                                                    ')\n",
    "#print('                                                                                                                    ')"
   ]
  },
  {
   "cell_type": "code",
   "execution_count": 17,
   "metadata": {
    "ExecuteTime": {
     "end_time": "2018-06-22T10:42:14.582562Z",
     "start_time": "2018-06-22T10:42:13.689312Z"
    }
   },
   "outputs": [
    {
     "data": {
      "image/png": "[encoded data removed]",
      "text/plain": [
       "<matplotlib.figure.Figure at 0x57ad9e8>"
      ]
     },
     "metadata": {},
     "output_type": "display_data"
    }
   ],
   "source": [
    "plt.figure(figsize=(16,4))\n",
    "for tq in tiers:\n",
    "    data_tier = data[data['ZTQ_ID'] == tq]\n",
    "    #print('...........................................................TIER ', tq, '..........................................................')\n",
    "    # CM2% per customer\n",
    "    data_tier['CM2_REL'].hist(bins=100, range=(-50, 50), alpha=0.5)\n",
    "    plt.legend([51, 52, 53, 54, 55, 56])\n",
    "plt.show()   "
   ]
  }
 ],
 "metadata": {
  "hide_input": false,
  "kernelspec": {
   "display_name": "Python [default]",
   "language": "python",
   "name": "python3"
  },
  "language_info": {
   "codemirror_mode": {
    "name": "ipython",
    "version": 3
   },
   "file_extension": ".py",
   "mimetype": "text/x-python",
   "name": "python",
   "nbconvert_exporter": "python",
   "pygments_lexer": "ipython3",
   "version": "3.6.4"
  },
  "toc": {
   "base_numbering": 1,
   "nav_menu": {},
   "number_sections": true,
   "sideBar": true,
   "skip_h1_title": false,
   "title_cell": "Table of Contents",
   "title_sidebar": "Contents",
   "toc_cell": false,
   "toc_position": {},
   "toc_section_display": true,
   "toc_window_display": false
  },
  "varInspector": {
   "cols": {
    "lenName": 16,
    "lenType": 16,
    "lenVar": 40
   },
   "kernels_config": {
    "python": {
     "delete_cmd_postfix": "",
     "delete_cmd_prefix": "del ",
     "library": "var_list.py",
     "varRefreshCmd": "print(var_dic_list())"
    },
    "r": {
     "delete_cmd_postfix": ") ",
     "delete_cmd_prefix": "rm(",
     "library": "var_list.r",
     "varRefreshCmd": "cat(var_dic_list()) "
    }
   },
   "types_to_exclude": [
    "module",
    "function",
    "builtin_function_or_method",
    "instance",
    "_Feature"
   ],
   "window_display": false
  }
 },
 "nbformat": 4,
 "nbformat_minor": 2
}
