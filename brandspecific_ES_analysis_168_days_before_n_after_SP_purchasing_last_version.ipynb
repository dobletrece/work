{
 "cells": [
  {
   "cell_type": "code",
   "execution_count": 1,
   "metadata": {
    "ExecuteTime": {
     "end_time": "2018-11-29T14:46:43.420006Z",
     "start_time": "2018-11-29T14:46:41.376006Z"
    }
   },
   "outputs": [],
   "source": [
    "import numpy as np\n",
    "import pandas as pd\n",
    "import dask.dataframe as dd\n",
    "import matplotlib.pyplot as plt\n",
    "%matplotlib inline\n",
    "from IPython.display import display\n",
    "from scipy import stats\n",
    "from statistics import stdev\n",
    "import datetime\n",
    "from datetime import timedelta\n",
    "from collections import Counter\n",
    "import cx_Oracle\n",
    "import psycopg2\n",
    "import seaborn as sns\n",
    "import json\n",
    "import pickle\n",
    "#from fitter import Fitter\n",
    "from warnings import filterwarnings\n",
    "from itertools import compress\n",
    "filterwarnings('ignore')"
   ]
  },
  {
   "cell_type": "markdown",
   "metadata": {},
   "source": [
    "ES shop: for every customer having placed his 1st order between 01/07/15 and 30/06/17, get all their orders until 30/06/18"
   ]
  },
  {
   "cell_type": "raw",
   "metadata": {
    "ExecuteTime": {
     "end_time": "2018-11-23T12:06:24.714626Z",
     "start_time": "2018-11-23T12:06:24.701626Z"
    }
   },
   "source": [
    "\"\"\"select \n",
    "scm.scm_n_order_pos_nr, scm.scm_n_order_nr, scm.tdt_t_key_order_date, scm.THR_C_KEY_ORDER_HOUR, scm.SIT_N_KEY_SITE,\n",
    "scm.CUS_N_KEY_CUSTOMER, scm.SCM_SALES_BMF, scm.SCM_D_FINANCE_CM1, scm.SCM_D_FINANCE_CM2,\n",
    "scm.SCM_D_ORIG_FINANCE_ORDER_NET,scm.SCM_AP_ID, scm.SCM_AS_ID, scm.SCM_MASTER_AP_ID,\n",
    "osp.OSP_KO_COUNT_NET, osp.OSP_3_LEAD_P_PG_ID, osp.OSP_3_LEAD_P_PG_SHARE, osp.OSP_4_LEAD_P_PG_ID, osp.OSP_4_LEAD_P_PG_SHARE,\n",
    "czp.CZP_START_DATE, czp.CZP_EXPIRY_DATE, czp.CZP_ZTQ_ID, czp.CZP_PERCENTAGE, czp.CZP_PRICE\n",
    "from zoocube.ddstf_scm_sales_contrib_margin scm\n",
    "join ZOOMAN.ORDER_SALES_PROFILE osp\n",
    "on osp.OSP_O_ID = scm.SCM_N_ORDER_NR\n",
    "join ZOOMAN.ORDERS o\n",
    "on o.O_ID = scm.SCM_N_ORDER_NR\n",
    "left outer join ZOOMAN.CUSTOMERS_ZOOPRIME_PLANS czp\n",
    "on scm.CUS_N_KEY_CUSTOMER = czp.CZP_K_ID\n",
    "and czp.CZP_EXPIRY_DATE > to_date((to_char(TDT_T_KEY_ORDER_DATE, 'dd/mm/yyyy') ||' '|| THR_C_KEY_ORDER_HOUR), 'dd/mm/yyyy HH24:MI')\n",
    "and czp.CZP_START_DATE <= to_date((to_char(TDT_T_KEY_ORDER_DATE, 'dd/mm/yyyy') ||' '|| THR_C_KEY_ORDER_HOUR), 'dd/mm/yyyy HH24:MI') + interval '2' minute\n",
    "where SIT_N_KEY_SITE = 15\n",
    "and ((TDT_T_KEY_ORDER_DATE >= to_date('01/07/15', 'DD/MM/YY') and TDT_T_KEY_ORDER_DATE <= to_date('30/06/18', 'DD/MM/YY')))\n",
    "and (scm.SCM_C_ORDER_STATUS = 'L' OR scm.SCM_C_ORDER_STATUS = 'VK')\n",
    "and scm.SCM_SALES_CANCEL_BMF = 0\n",
    "and scm.CUS_N_KEY_CUSTOMER IN (\n",
    "select distinct scm.CUS_N_KEY_CUSTOMER\n",
    "from zoocube.ddstf_scm_sales_contrib_margin scm\n",
    "join ZOOMAN.ORDER_SALES_PROFILE osp\n",
    "on osp.OSP_O_ID = scm.SCM_N_ORDER_NR\n",
    "where SIT_N_KEY_SITE = 15\n",
    "and ((TDT_T_KEY_ORDER_DATE >= to_date('01/07/15', 'DD/MM/YY') and TDT_T_KEY_ORDER_DATE <= to_date('30/06/17', 'DD/MM/YY')))\n",
    "and osp.OSP_KO_COUNT_NET = 1\n",
    ")\"\"\""
   ]
  },
  {
   "cell_type": "markdown",
   "metadata": {},
   "source": [
    "### Data loading, cleaning & formatting"
   ]
  },
  {
   "cell_type": "code",
   "execution_count": 2,
   "metadata": {
    "ExecuteTime": {
     "end_time": "2018-11-29T14:46:56.684006Z",
     "start_time": "2018-11-29T14:46:43.421006Z"
    }
   },
   "outputs": [],
   "source": [
    "data = pd.read_csv('es_shop_orders_sp_cross_selling_v2.dsv', sep=';', low_memory=False)"
   ]
  },
  {
   "cell_type": "code",
   "execution_count": 3,
   "metadata": {
    "ExecuteTime": {
     "end_time": "2018-11-29T14:46:56.884006Z",
     "start_time": "2018-11-29T14:46:56.685006Z"
    }
   },
   "outputs": [
    {
     "data": {
      "text/html": [
       "<div>\n",
       "<style scoped>\n",
       "    .dataframe tbody tr th:only-of-type {\n",
       "        vertical-align: middle;\n",
       "    }\n",
       "\n",
       "    .dataframe tbody tr th {\n",
       "        vertical-align: top;\n",
       "    }\n",
       "\n",
       "    .dataframe thead th {\n",
       "        text-align: right;\n",
       "    }\n",
       "</style>\n",
       "<table border=\"1\" class=\"dataframe\">\n",
       "  <thead>\n",
       "    <tr style=\"text-align: right;\">\n",
       "      <th></th>\n",
       "      <th>SCM_N_ORDER_POS_NR</th>\n",
       "      <th>SCM_N_ORDER_NR</th>\n",
       "      <th>TDT_T_KEY_ORDER_DATE</th>\n",
       "      <th>THR_C_KEY_ORDER_HOUR</th>\n",
       "      <th>SIT_N_KEY_SITE</th>\n",
       "      <th>CUS_N_KEY_CUSTOMER</th>\n",
       "      <th>SCM_SALES_BMF</th>\n",
       "      <th>SCM_D_FINANCE_CM1</th>\n",
       "      <th>SCM_D_FINANCE_CM2</th>\n",
       "      <th>SCM_D_ORIG_FINANCE_ORDER_NET</th>\n",
       "      <th>...</th>\n",
       "      <th>OSP_KO_COUNT_NET</th>\n",
       "      <th>OSP_3_LEAD_P_PG_ID</th>\n",
       "      <th>OSP_3_LEAD_P_PG_SHARE</th>\n",
       "      <th>OSP_4_LEAD_P_PG_ID</th>\n",
       "      <th>OSP_4_LEAD_P_PG_SHARE</th>\n",
       "      <th>CZP_START_DATE</th>\n",
       "      <th>CZP_EXPIRY_DATE</th>\n",
       "      <th>CZP_ZTQ_ID</th>\n",
       "      <th>CZP_PERCENTAGE</th>\n",
       "      <th>CZP_PRICE</th>\n",
       "    </tr>\n",
       "  </thead>\n",
       "  <tbody>\n",
       "    <tr>\n",
       "      <th>1362282</th>\n",
       "      <td>477548436</td>\n",
       "      <td>112255058</td>\n",
       "      <td>07/06/2018 00:00</td>\n",
       "      <td>00:26</td>\n",
       "      <td>15</td>\n",
       "      <td>16540561</td>\n",
       "      <td>0</td>\n",
       "      <td>-0,24</td>\n",
       "      <td>-0,7242</td>\n",
       "      <td>0</td>\n",
       "      <td>...</td>\n",
       "      <td>3</td>\n",
       "      <td>305</td>\n",
       "      <td>0,3442</td>\n",
       "      <td>1590</td>\n",
       "      <td>0,3442</td>\n",
       "      <td>NaN</td>\n",
       "      <td>NaN</td>\n",
       "      <td>NaN</td>\n",
       "      <td>NaN</td>\n",
       "      <td>NaN</td>\n",
       "    </tr>\n",
       "    <tr>\n",
       "      <th>3249289</th>\n",
       "      <td>467737302</td>\n",
       "      <td>109796125</td>\n",
       "      <td>01/05/2018 00:00</td>\n",
       "      <td>14:05</td>\n",
       "      <td>15</td>\n",
       "      <td>13619808</td>\n",
       "      <td>5,99</td>\n",
       "      <td>2,1055</td>\n",
       "      <td>1,3241</td>\n",
       "      <td>5,4455</td>\n",
       "      <td>...</td>\n",
       "      <td>3</td>\n",
       "      <td>301</td>\n",
       "      <td>0,3373</td>\n",
       "      <td>10331</td>\n",
       "      <td>0,3373</td>\n",
       "      <td>NaN</td>\n",
       "      <td>NaN</td>\n",
       "      <td>NaN</td>\n",
       "      <td>NaN</td>\n",
       "      <td>NaN</td>\n",
       "    </tr>\n",
       "    <tr>\n",
       "      <th>828807</th>\n",
       "      <td>399983456</td>\n",
       "      <td>93717305</td>\n",
       "      <td>04/09/2017 00:00</td>\n",
       "      <td>00:54</td>\n",
       "      <td>15</td>\n",
       "      <td>16495617</td>\n",
       "      <td>-3</td>\n",
       "      <td>-2,7273</td>\n",
       "      <td>-2,7273</td>\n",
       "      <td>-2,7273</td>\n",
       "      <td>...</td>\n",
       "      <td>5</td>\n",
       "      <td>252</td>\n",
       "      <td>1</td>\n",
       "      <td>81397</td>\n",
       "      <td>1</td>\n",
       "      <td>29/03/2017 00:23</td>\n",
       "      <td>29/03/2018 23:59</td>\n",
       "      <td>56.0</td>\n",
       "      <td>5.0</td>\n",
       "      <td>4,99</td>\n",
       "    </tr>\n",
       "    <tr>\n",
       "      <th>2190905</th>\n",
       "      <td>249264136</td>\n",
       "      <td>59137169</td>\n",
       "      <td>15/10/2015 00:00</td>\n",
       "      <td>00:25</td>\n",
       "      <td>15</td>\n",
       "      <td>12604004</td>\n",
       "      <td>27,99</td>\n",
       "      <td>13,9122</td>\n",
       "      <td>5,5672</td>\n",
       "      <td>23,1322</td>\n",
       "      <td>...</td>\n",
       "      <td>1</td>\n",
       "      <td>2190</td>\n",
       "      <td>1</td>\n",
       "      <td>10623</td>\n",
       "      <td>1</td>\n",
       "      <td>NaN</td>\n",
       "      <td>NaN</td>\n",
       "      <td>NaN</td>\n",
       "      <td>NaN</td>\n",
       "      <td>NaN</td>\n",
       "    </tr>\n",
       "    <tr>\n",
       "      <th>1256095</th>\n",
       "      <td>478863409</td>\n",
       "      <td>112589349</td>\n",
       "      <td>12/06/2018 00:00</td>\n",
       "      <td>06:56</td>\n",
       "      <td>15</td>\n",
       "      <td>15003389</td>\n",
       "      <td>0</td>\n",
       "      <td>-1,03</td>\n",
       "      <td>-1,434</td>\n",
       "      <td>0</td>\n",
       "      <td>...</td>\n",
       "      <td>8</td>\n",
       "      <td>252</td>\n",
       "      <td>1</td>\n",
       "      <td>31963</td>\n",
       "      <td>1</td>\n",
       "      <td>11/02/2018 16:30</td>\n",
       "      <td>11/02/2019 23:59</td>\n",
       "      <td>51.0</td>\n",
       "      <td>3.0</td>\n",
       "      <td>2,99</td>\n",
       "    </tr>\n",
       "  </tbody>\n",
       "</table>\n",
       "<p>5 rows × 23 columns</p>\n",
       "</div>"
      ],
      "text/plain": [
       "         SCM_N_ORDER_POS_NR  SCM_N_ORDER_NR TDT_T_KEY_ORDER_DATE  \\\n",
       "1362282           477548436       112255058     07/06/2018 00:00   \n",
       "3249289           467737302       109796125     01/05/2018 00:00   \n",
       "828807            399983456        93717305     04/09/2017 00:00   \n",
       "2190905           249264136        59137169     15/10/2015 00:00   \n",
       "1256095           478863409       112589349     12/06/2018 00:00   \n",
       "\n",
       "        THR_C_KEY_ORDER_HOUR  SIT_N_KEY_SITE  CUS_N_KEY_CUSTOMER  \\\n",
       "1362282                00:26              15            16540561   \n",
       "3249289                14:05              15            13619808   \n",
       "828807                 00:54              15            16495617   \n",
       "2190905                00:25              15            12604004   \n",
       "1256095                06:56              15            15003389   \n",
       "\n",
       "        SCM_SALES_BMF SCM_D_FINANCE_CM1 SCM_D_FINANCE_CM2  \\\n",
       "1362282             0             -0,24           -0,7242   \n",
       "3249289          5,99            2,1055            1,3241   \n",
       "828807             -3           -2,7273           -2,7273   \n",
       "2190905         27,99           13,9122            5,5672   \n",
       "1256095             0             -1,03            -1,434   \n",
       "\n",
       "        SCM_D_ORIG_FINANCE_ORDER_NET    ...     OSP_KO_COUNT_NET  \\\n",
       "1362282                            0    ...                    3   \n",
       "3249289                       5,4455    ...                    3   \n",
       "828807                       -2,7273    ...                    5   \n",
       "2190905                      23,1322    ...                    1   \n",
       "1256095                            0    ...                    8   \n",
       "\n",
       "         OSP_3_LEAD_P_PG_ID  OSP_3_LEAD_P_PG_SHARE  OSP_4_LEAD_P_PG_ID  \\\n",
       "1362282                 305                 0,3442                1590   \n",
       "3249289                 301                 0,3373               10331   \n",
       "828807                  252                      1               81397   \n",
       "2190905                2190                      1               10623   \n",
       "1256095                 252                      1               31963   \n",
       "\n",
       "         OSP_4_LEAD_P_PG_SHARE    CZP_START_DATE   CZP_EXPIRY_DATE CZP_ZTQ_ID  \\\n",
       "1362282                 0,3442               NaN               NaN        NaN   \n",
       "3249289                 0,3373               NaN               NaN        NaN   \n",
       "828807                       1  29/03/2017 00:23  29/03/2018 23:59       56.0   \n",
       "2190905                      1               NaN               NaN        NaN   \n",
       "1256095                      1  11/02/2018 16:30  11/02/2019 23:59       51.0   \n",
       "\n",
       "        CZP_PERCENTAGE CZP_PRICE  \n",
       "1362282            NaN       NaN  \n",
       "3249289            NaN       NaN  \n",
       "828807             5.0      4,99  \n",
       "2190905            NaN       NaN  \n",
       "1256095            3.0      2,99  \n",
       "\n",
       "[5 rows x 23 columns]"
      ]
     },
     "execution_count": 3,
     "metadata": {},
     "output_type": "execute_result"
    }
   ],
   "source": [
    "data.sample(5)"
   ]
  },
  {
   "cell_type": "code",
   "execution_count": 4,
   "metadata": {
    "ExecuteTime": {
     "end_time": "2018-11-29T14:46:56.894006Z",
     "start_time": "2018-11-29T14:46:56.885006Z"
    }
   },
   "outputs": [
    {
     "name": "stdout",
     "output_type": "stream",
     "text": [
      "<class 'pandas.core.frame.DataFrame'>\n",
      "RangeIndex: 4074789 entries, 0 to 4074788\n",
      "Data columns (total 23 columns):\n",
      "SCM_N_ORDER_POS_NR              int64\n",
      "SCM_N_ORDER_NR                  int64\n",
      "TDT_T_KEY_ORDER_DATE            object\n",
      "THR_C_KEY_ORDER_HOUR            object\n",
      "SIT_N_KEY_SITE                  int64\n",
      "CUS_N_KEY_CUSTOMER              int64\n",
      "SCM_SALES_BMF                   object\n",
      "SCM_D_FINANCE_CM1               object\n",
      "SCM_D_FINANCE_CM2               object\n",
      "SCM_D_ORIG_FINANCE_ORDER_NET    object\n",
      "SCM_AP_ID                       int64\n",
      "SCM_AS_ID                       int64\n",
      "SCM_MASTER_AP_ID                int64\n",
      "OSP_KO_COUNT_NET                int64\n",
      "OSP_3_LEAD_P_PG_ID              int64\n",
      "OSP_3_LEAD_P_PG_SHARE           object\n",
      "OSP_4_LEAD_P_PG_ID              int64\n",
      "OSP_4_LEAD_P_PG_SHARE           object\n",
      "CZP_START_DATE                  object\n",
      "CZP_EXPIRY_DATE                 object\n",
      "CZP_ZTQ_ID                      float64\n",
      "CZP_PERCENTAGE                  float64\n",
      "CZP_PRICE                       object\n",
      "dtypes: float64(2), int64(10), object(11)\n",
      "memory usage: 715.0+ MB\n"
     ]
    }
   ],
   "source": [
    "data.info(verbose=True)"
   ]
  },
  {
   "cell_type": "code",
   "execution_count": 5,
   "metadata": {
    "ExecuteTime": {
     "end_time": "2018-11-29T14:46:56.913006Z",
     "start_time": "2018-11-29T14:46:56.895006Z"
    }
   },
   "outputs": [],
   "source": [
    "def get_date(x):\n",
    "    return x.split(' ')[0]"
   ]
  },
  {
   "cell_type": "code",
   "execution_count": 6,
   "metadata": {
    "ExecuteTime": {
     "end_time": "2018-11-29T14:46:58.536006Z",
     "start_time": "2018-11-29T14:46:56.915006Z"
    }
   },
   "outputs": [],
   "source": [
    "data['TDT_T_KEY_ORDER_DATE'] = data['TDT_T_KEY_ORDER_DATE'].map(get_date)"
   ]
  },
  {
   "cell_type": "code",
   "execution_count": 7,
   "metadata": {
    "ExecuteTime": {
     "end_time": "2018-11-29T14:47:08.186006Z",
     "start_time": "2018-11-29T14:46:58.537006Z"
    }
   },
   "outputs": [],
   "source": [
    "data['TDT_T_KEY_ORDER_DATE'] = pd.to_datetime(data['TDT_T_KEY_ORDER_DATE'], format='%d/%m/%Y')"
   ]
  },
  {
   "cell_type": "code",
   "execution_count": 8,
   "metadata": {
    "ExecuteTime": {
     "end_time": "2018-11-29T14:47:28.027006Z",
     "start_time": "2018-11-29T14:47:08.187006Z"
    }
   },
   "outputs": [],
   "source": [
    "data['ORDER_DATETIME'] = data['TDT_T_KEY_ORDER_DATE'].astype(str) + ' ' + data['THR_C_KEY_ORDER_HOUR'].astype(str) + ':00'"
   ]
  },
  {
   "cell_type": "code",
   "execution_count": 9,
   "metadata": {
    "ExecuteTime": {
     "end_time": "2018-11-29T14:47:29.096006Z",
     "start_time": "2018-11-29T14:47:28.028006Z"
    }
   },
   "outputs": [],
   "source": [
    "data['ORDER_DATETIME'] = pd.to_datetime(data['ORDER_DATETIME'], format=\"%Y-%m-%d %H:%M:%S\")"
   ]
  },
  {
   "cell_type": "code",
   "execution_count": 10,
   "metadata": {
    "ExecuteTime": {
     "end_time": "2018-11-29T14:47:37.195006Z",
     "start_time": "2018-11-29T14:47:29.097006Z"
    }
   },
   "outputs": [],
   "source": [
    "data['CZP_START_DATE'] = pd.to_datetime(data['CZP_START_DATE'], format=\"%d/%m/%Y %H:%M\")\n",
    "data['CZP_EXPIRY_DATE'] = pd.to_datetime(data['CZP_EXPIRY_DATE'], format=\"%d/%m/%Y %H:%M\")"
   ]
  },
  {
   "cell_type": "code",
   "execution_count": 11,
   "metadata": {
    "ExecuteTime": {
     "end_time": "2018-11-29T14:47:48.811006Z",
     "start_time": "2018-11-29T14:47:37.197006Z"
    }
   },
   "outputs": [],
   "source": [
    "data['SCM_SALES_BMF'] = [float(str(i).replace(',','.')) for i in data['SCM_SALES_BMF'].values]\n",
    "data['SCM_D_FINANCE_CM1'] = [float(str(i).replace(',','.')) for i in data['SCM_D_FINANCE_CM1'].values]\n",
    "data['SCM_D_FINANCE_CM2'] = [float(str(i).replace(',','.')) for i in data['SCM_D_FINANCE_CM2'].values]\n",
    "data['SCM_D_ORIG_FINANCE_ORDER_NET'] = [float(str(i).replace(',','.')) for i in data['SCM_D_ORIG_FINANCE_ORDER_NET'].values]"
   ]
  },
  {
   "cell_type": "code",
   "execution_count": 12,
   "metadata": {
    "ExecuteTime": {
     "end_time": "2018-11-29T14:47:56.941006Z",
     "start_time": "2018-11-29T14:47:48.813006Z"
    }
   },
   "outputs": [],
   "source": [
    "data['CZP_PRICE'] = [float(str(i).replace(',','.')) for i in data['CZP_PRICE'].values]\n",
    "data['OSP_3_LEAD_P_PG_SHARE'] = [float(str(i).replace(',','.')) for i in data['OSP_3_LEAD_P_PG_SHARE'].values]\n",
    "data['OSP_4_LEAD_P_PG_SHARE'] = [float(str(i).replace(',','.')) for i in data['OSP_4_LEAD_P_PG_SHARE'].values]"
   ]
  },
  {
   "cell_type": "code",
   "execution_count": 13,
   "metadata": {
    "ExecuteTime": {
     "end_time": "2018-11-29T14:49:33.348006Z",
     "start_time": "2018-11-29T14:47:56.942006Z"
    }
   },
   "outputs": [],
   "source": [
    "#boolean mask with duplicated orders due to SP as True\n",
    "dupl_mask = [len(i) > 1 for i in data.groupby('SCM_N_ORDER_NR')['CZP_START_DATE'].unique().values]"
   ]
  },
  {
   "cell_type": "code",
   "execution_count": 14,
   "metadata": {
    "ExecuteTime": {
     "end_time": "2018-11-29T14:51:08.945006Z",
     "start_time": "2018-11-29T14:49:33.349006Z"
    }
   },
   "outputs": [],
   "source": [
    "#get duplicated order IDs\n",
    "dup_orders = data.groupby('SCM_N_ORDER_NR')['CZP_START_DATE'].unique()[dupl_mask].index.values"
   ]
  },
  {
   "cell_type": "code",
   "execution_count": 15,
   "metadata": {
    "ExecuteTime": {
     "end_time": "2018-11-29T14:51:08.949006Z",
     "start_time": "2018-11-29T14:51:08.946006Z"
    }
   },
   "outputs": [
    {
     "data": {
      "text/plain": [
       "2855"
      ]
     },
     "execution_count": 15,
     "metadata": {},
     "output_type": "execute_result"
    }
   ],
   "source": [
    "len(dup_orders)"
   ]
  },
  {
   "cell_type": "code",
   "execution_count": 16,
   "metadata": {
    "ExecuteTime": {
     "end_time": "2018-11-29T14:51:10.185006Z",
     "start_time": "2018-11-29T14:51:08.950006Z"
    }
   },
   "outputs": [
    {
     "data": {
      "text/plain": [
       "2845"
      ]
     },
     "execution_count": 16,
     "metadata": {},
     "output_type": "execute_result"
    }
   ],
   "source": [
    "sp_acq_dup_orders = list(data[data['SCM_N_ORDER_NR'].isin(dup_orders)][data[data['SCM_N_ORDER_NR'].isin(dup_orders)]['SCM_MASTER_AP_ID'] == 42225]['SCM_N_ORDER_NR'].unique())\n",
    "len(sp_acq_dup_orders)"
   ]
  },
  {
   "cell_type": "code",
   "execution_count": 17,
   "metadata": {
    "ExecuteTime": {
     "end_time": "2018-11-29T14:51:10.260006Z",
     "start_time": "2018-11-29T14:51:10.187006Z"
    }
   },
   "outputs": [
    {
     "data": {
      "text/plain": [
       "10"
      ]
     },
     "execution_count": 17,
     "metadata": {},
     "output_type": "execute_result"
    }
   ],
   "source": [
    "no_sp_acq_dup_orders = [i for i in dup_orders if i not in sp_acq_dup_orders]\n",
    "len(no_sp_acq_dup_orders)"
   ]
  },
  {
   "cell_type": "code",
   "execution_count": 18,
   "metadata": {
    "ExecuteTime": {
     "end_time": "2018-11-29T14:51:28.091006Z",
     "start_time": "2018-11-29T14:51:10.261006Z"
    }
   },
   "outputs": [],
   "source": [
    "#Let's get incorrect duplicated indexes instead of order_id to exclude them and select the correct data subset\n",
    "dup_indexes = []\n",
    "\n",
    "for i in sp_acq_dup_orders:\n",
    "    o_id = data[data['SCM_N_ORDER_NR'] == i]\n",
    "    old_sp_date = min(o_id['CZP_START_DATE'])\n",
    "    old_sp_index = o_id[o_id['CZP_START_DATE'] == old_sp_date].index.values\n",
    "    dup_indexes.append(old_sp_index)"
   ]
  },
  {
   "cell_type": "code",
   "execution_count": 19,
   "metadata": {
    "ExecuteTime": {
     "end_time": "2018-11-29T14:51:28.096006Z",
     "start_time": "2018-11-29T14:51:28.093006Z"
    }
   },
   "outputs": [
    {
     "data": {
      "text/plain": [
       "2845"
      ]
     },
     "execution_count": 19,
     "metadata": {},
     "output_type": "execute_result"
    }
   ],
   "source": [
    "len(dup_indexes)"
   ]
  },
  {
   "cell_type": "code",
   "execution_count": 20,
   "metadata": {
    "ExecuteTime": {
     "end_time": "2018-11-29T14:51:28.300006Z",
     "start_time": "2018-11-29T14:51:28.097006Z"
    }
   },
   "outputs": [],
   "source": [
    "for i in no_sp_acq_dup_orders:\n",
    "    c_id = data[data['SCM_N_ORDER_NR'] == i]['CUS_N_KEY_CUSTOMER'].unique()[0]\n",
    "    cust_orders = data[data['CUS_N_KEY_CUSTOMER'] == c_id]\n",
    "    sp_order = cust_orders[cust_orders['SCM_MASTER_AP_ID'] == 42225]['SCM_N_ORDER_NR'].unique()[0]\n",
    "    if i < sp_order:\n",
    "        o_id = data[data['SCM_N_ORDER_NR'] == i]\n",
    "        new_non_valid_sp_date = max(o_id['CZP_START_DATE'])\n",
    "        new_sp_index = o_id[o_id['CZP_START_DATE'] == new_non_valid_sp_date].index.values\n",
    "        dup_indexes.append(new_sp_index)\n",
    "    else:\n",
    "        o_id = data[data['SCM_N_ORDER_NR'] == i]\n",
    "        old_sp_date = min(o_id['CZP_START_DATE'])\n",
    "        old_sp_index = o_id[o_id['CZP_START_DATE'] == old_sp_date].index.values\n",
    "        dup_indexes.append(old_sp_index)"
   ]
  },
  {
   "cell_type": "code",
   "execution_count": 21,
   "metadata": {
    "ExecuteTime": {
     "end_time": "2018-11-29T14:51:28.305006Z",
     "start_time": "2018-11-29T14:51:28.301006Z"
    }
   },
   "outputs": [
    {
     "data": {
      "text/plain": [
       "2855"
      ]
     },
     "execution_count": 21,
     "metadata": {},
     "output_type": "execute_result"
    }
   ],
   "source": [
    "len(dup_indexes)"
   ]
  },
  {
   "cell_type": "code",
   "execution_count": 22,
   "metadata": {
    "ExecuteTime": {
     "end_time": "2018-11-29T14:53:05.573006Z",
     "start_time": "2018-11-29T14:51:28.306006Z"
    }
   },
   "outputs": [
    {
     "name": "stdout",
     "output_type": "stream",
     "text": [
      "Duplicated rows detected:  19526\n",
      "Start dropping..\n",
      "Number of order IDs having more than one SP_START_DATE now:  0\n"
     ]
    }
   ],
   "source": [
    "#Get a flatten list of indexes\n",
    "dupl_ind = [i for lista in dup_indexes for i in lista]\n",
    "\n",
    "print('Duplicated rows detected: ', len(dupl_ind))\n",
    "print('Start dropping..')\n",
    "\n",
    "#Drop duplicated indexes\n",
    "data.drop(dupl_ind, inplace=True)\n",
    "\n",
    "#0 printed, in order to be sure there are no orders duplicated remaining...\n",
    "print('Number of order IDs having more than one SP_START_DATE now: ',\n",
    "      sum(len(i) > 1 for i in data.groupby('SCM_N_ORDER_NR')['CZP_START_DATE'].unique().values))"
   ]
  },
  {
   "cell_type": "code",
   "execution_count": 23,
   "metadata": {
    "ExecuteTime": {
     "end_time": "2018-11-29T14:53:05.859006Z",
     "start_time": "2018-11-29T14:53:05.574006Z"
    }
   },
   "outputs": [],
   "source": [
    "data['FIRST_O_DATE'] = data['TDT_T_KEY_ORDER_DATE'].groupby(data['CUS_N_KEY_CUSTOMER']).transform('min')"
   ]
  },
  {
   "cell_type": "code",
   "execution_count": 24,
   "metadata": {
    "ExecuteTime": {
     "end_time": "2018-11-29T14:53:06.145006Z",
     "start_time": "2018-11-29T14:53:05.860006Z"
    }
   },
   "outputs": [],
   "source": [
    "data['LAST_O_DATE'] = data['TDT_T_KEY_ORDER_DATE'].groupby(data['CUS_N_KEY_CUSTOMER']).transform('max')"
   ]
  },
  {
   "cell_type": "code",
   "execution_count": 25,
   "metadata": {
    "ExecuteTime": {
     "end_time": "2018-11-29T14:53:06.438006Z",
     "start_time": "2018-11-29T14:53:06.146006Z"
    }
   },
   "outputs": [],
   "source": [
    "data['1ST_O_COUNTER'] = data['OSP_KO_COUNT_NET'].groupby(data['CUS_N_KEY_CUSTOMER']).transform('min')"
   ]
  },
  {
   "cell_type": "code",
   "execution_count": 26,
   "metadata": {
    "ExecuteTime": {
     "end_time": "2018-11-29T14:53:07.730006Z",
     "start_time": "2018-11-29T14:53:06.439006Z"
    }
   },
   "outputs": [],
   "source": [
    "data['MAX_SALES_O_POS'] = data['SCM_SALES_BMF'].groupby(data['SCM_N_ORDER_NR']).transform('max')\n",
    "data['IS_LEAD_AS'] = (data['SCM_SALES_BMF'] == data['MAX_SALES_O_POS']) * 1 * data['SCM_AS_ID']\n",
    "data['LEAD_AS_ID'] = data['IS_LEAD_AS'].groupby(data['SCM_N_ORDER_NR']).transform('max')"
   ]
  },
  {
   "cell_type": "code",
   "execution_count": 27,
   "metadata": {
    "ExecuteTime": {
     "end_time": "2018-11-29T14:53:11.895006Z",
     "start_time": "2018-11-29T14:53:07.731006Z"
    }
   },
   "outputs": [],
   "source": [
    "data['D28'] = data['FIRST_O_DATE'] + timedelta(days = 28)\n",
    "data['D56'] = data['FIRST_O_DATE'] + timedelta(days = 56)\n",
    "data['D84'] = data['FIRST_O_DATE'] + timedelta(days = 84)\n",
    "data['D168'] = data['FIRST_O_DATE'] + timedelta(days = 168)\n",
    "data['D252'] = data['FIRST_O_DATE'] + timedelta(days = 252)\n",
    "data['D336'] = data['FIRST_O_DATE'] + timedelta(days = 336)"
   ]
  },
  {
   "cell_type": "code",
   "execution_count": 28,
   "metadata": {
    "ExecuteTime": {
     "end_time": "2018-11-29T14:53:11.902006Z",
     "start_time": "2018-11-29T14:53:11.896006Z"
    }
   },
   "outputs": [],
   "source": [
    "#Get brands per PG4\n",
    "brands = pd.read_csv('pg4_brands.dsv', sep=';', low_memory=False)"
   ]
  },
  {
   "cell_type": "code",
   "execution_count": 29,
   "metadata": {
    "ExecuteTime": {
     "end_time": "2018-11-29T14:53:11.919006Z",
     "start_time": "2018-11-29T14:53:11.903006Z"
    }
   },
   "outputs": [],
   "source": [
    "brands['BRAND'] = [i.split(' - ')[1] if len(i.split('-')) > 1 else 'unknown' for i in brands['PPR_V_LEVEL4_DESC'].values]"
   ]
  },
  {
   "cell_type": "code",
   "execution_count": 30,
   "metadata": {
    "ExecuteTime": {
     "end_time": "2018-11-29T14:53:11.937006Z",
     "start_time": "2018-11-29T14:53:11.921006Z"
    }
   },
   "outputs": [
    {
     "name": "stdout",
     "output_type": "stream",
     "text": [
      "<class 'pandas.core.frame.DataFrame'>\n",
      "RangeIndex: 2006 entries, 0 to 2005\n",
      "Data columns (total 3 columns):\n",
      "PPR_N_LEVEL4_ID      2006 non-null int64\n",
      "PPR_V_LEVEL4_DESC    2006 non-null object\n",
      "BRAND                2006 non-null object\n",
      "dtypes: int64(1), object(2)\n",
      "memory usage: 47.1+ KB\n"
     ]
    }
   ],
   "source": [
    "brands.info()"
   ]
  },
  {
   "cell_type": "code",
   "execution_count": 31,
   "metadata": {
    "ExecuteTime": {
     "end_time": "2018-11-29T14:53:11.957006Z",
     "start_time": "2018-11-29T14:53:11.939006Z"
    }
   },
   "outputs": [
    {
     "data": {
      "text/html": [
       "<div>\n",
       "<style scoped>\n",
       "    .dataframe tbody tr th:only-of-type {\n",
       "        vertical-align: middle;\n",
       "    }\n",
       "\n",
       "    .dataframe tbody tr th {\n",
       "        vertical-align: top;\n",
       "    }\n",
       "\n",
       "    .dataframe thead th {\n",
       "        text-align: right;\n",
       "    }\n",
       "</style>\n",
       "<table border=\"1\" class=\"dataframe\">\n",
       "  <thead>\n",
       "    <tr style=\"text-align: right;\">\n",
       "      <th></th>\n",
       "      <th>PPR_N_LEVEL4_ID</th>\n",
       "      <th>PPR_V_LEVEL4_DESC</th>\n",
       "      <th>BRAND</th>\n",
       "    </tr>\n",
       "  </thead>\n",
       "  <tbody>\n",
       "    <tr>\n",
       "      <th>1249</th>\n",
       "      <td>153275</td>\n",
       "      <td>153275 - Maulkorb &amp; Leinenführigkeit</td>\n",
       "      <td>Maulkorb &amp; Leinenführigkeit</td>\n",
       "    </tr>\n",
       "    <tr>\n",
       "      <th>463</th>\n",
       "      <td>129147</td>\n",
       "      <td>129147 - Belcando</td>\n",
       "      <td>Belcando</td>\n",
       "    </tr>\n",
       "    <tr>\n",
       "      <th>408</th>\n",
       "      <td>8131</td>\n",
       "      <td>8131 - Kartonage</td>\n",
       "      <td>Kartonage</td>\n",
       "    </tr>\n",
       "    <tr>\n",
       "      <th>914</th>\n",
       "      <td>126733</td>\n",
       "      <td>126733 - Happy Cat</td>\n",
       "      <td>Happy Cat</td>\n",
       "    </tr>\n",
       "    <tr>\n",
       "      <th>1517</th>\n",
       "      <td>2183</td>\n",
       "      <td>2183 - Flockenfutter</td>\n",
       "      <td>Flockenfutter</td>\n",
       "    </tr>\n",
       "    <tr>\n",
       "      <th>709</th>\n",
       "      <td>22746</td>\n",
       "      <td>22746 - Bozita Hundesnacks</td>\n",
       "      <td>Bozita Hundesnacks</td>\n",
       "    </tr>\n",
       "    <tr>\n",
       "      <th>137</th>\n",
       "      <td>1396</td>\n",
       "      <td>1396 - Bad-Ideen</td>\n",
       "      <td>Bad-Ideen</td>\n",
       "    </tr>\n",
       "    <tr>\n",
       "      <th>290</th>\n",
       "      <td>71978</td>\n",
       "      <td>71978 - Knuspersnacks</td>\n",
       "      <td>Knuspersnacks</td>\n",
       "    </tr>\n",
       "    <tr>\n",
       "      <th>1692</th>\n",
       "      <td>154529</td>\n",
       "      <td>154529 - O´Canis for Cats</td>\n",
       "      <td>O´Canis for Cats</td>\n",
       "    </tr>\n",
       "    <tr>\n",
       "      <th>1184</th>\n",
       "      <td>207178</td>\n",
       "      <td>207178 - Catsan</td>\n",
       "      <td>Catsan</td>\n",
       "    </tr>\n",
       "  </tbody>\n",
       "</table>\n",
       "</div>"
      ],
      "text/plain": [
       "      PPR_N_LEVEL4_ID                     PPR_V_LEVEL4_DESC  \\\n",
       "1249           153275  153275 - Maulkorb & Leinenführigkeit   \n",
       "463            129147                     129147 - Belcando   \n",
       "408              8131                      8131 - Kartonage   \n",
       "914            126733                    126733 - Happy Cat   \n",
       "1517             2183                  2183 - Flockenfutter   \n",
       "709             22746            22746 - Bozita Hundesnacks   \n",
       "137              1396                      1396 - Bad-Ideen   \n",
       "290             71978                 71978 - Knuspersnacks   \n",
       "1692           154529             154529 - O´Canis for Cats   \n",
       "1184           207178                       207178 - Catsan   \n",
       "\n",
       "                            BRAND  \n",
       "1249  Maulkorb & Leinenführigkeit  \n",
       "463                      Belcando  \n",
       "408                     Kartonage  \n",
       "914                     Happy Cat  \n",
       "1517                Flockenfutter  \n",
       "709            Bozita Hundesnacks  \n",
       "137                     Bad-Ideen  \n",
       "290                 Knuspersnacks  \n",
       "1692             O´Canis for Cats  \n",
       "1184                       Catsan  "
      ]
     },
     "execution_count": 31,
     "metadata": {},
     "output_type": "execute_result"
    }
   ],
   "source": [
    "brands.sample(10)"
   ]
  },
  {
   "cell_type": "code",
   "execution_count": 32,
   "metadata": {
    "ExecuteTime": {
     "end_time": "2018-11-29T14:53:12.023006Z",
     "start_time": "2018-11-29T14:53:11.958006Z"
    }
   },
   "outputs": [],
   "source": [
    "#Get physical articles with their PG structure\n",
    "ap_pg = pd.read_csv('vw_ap_pg_link.dsv', sep=';', low_memory=False)"
   ]
  },
  {
   "cell_type": "code",
   "execution_count": 33,
   "metadata": {
    "ExecuteTime": {
     "end_time": "2018-11-29T14:53:12.038006Z",
     "start_time": "2018-11-29T14:53:12.024006Z"
    }
   },
   "outputs": [
    {
     "name": "stdout",
     "output_type": "stream",
     "text": [
      "<class 'pandas.core.frame.DataFrame'>\n",
      "RangeIndex: 62994 entries, 0 to 62993\n",
      "Data columns (total 9 columns):\n",
      "AP_ID       62994 non-null int64\n",
      "PP_ID       62994 non-null int64\n",
      "L1_PG_ID    62994 non-null int64\n",
      "L2_PG_ID    62993 non-null float64\n",
      "L3_PG_ID    62537 non-null float64\n",
      "L4_PG_ID    60229 non-null float64\n",
      "L5_PG_ID    29125 non-null float64\n",
      "L6_PG_ID    18 non-null float64\n",
      "L7_PG_ID    0 non-null float64\n",
      "dtypes: float64(6), int64(3)\n",
      "memory usage: 4.3 MB\n"
     ]
    }
   ],
   "source": [
    "ap_pg.info()"
   ]
  },
  {
   "cell_type": "code",
   "execution_count": 34,
   "metadata": {
    "ExecuteTime": {
     "end_time": "2018-11-29T14:53:12.046006Z",
     "start_time": "2018-11-29T14:53:12.040006Z"
    }
   },
   "outputs": [],
   "source": [
    "ap_pg = ap_pg[['AP_ID', 'L3_PG_ID', 'L4_PG_ID']].fillna(0).astype(int)"
   ]
  },
  {
   "cell_type": "code",
   "execution_count": 35,
   "metadata": {
    "ExecuteTime": {
     "end_time": "2018-11-29T14:53:12.070006Z",
     "start_time": "2018-11-29T14:53:12.048006Z"
    }
   },
   "outputs": [
    {
     "data": {
      "text/html": [
       "<div>\n",
       "<style scoped>\n",
       "    .dataframe tbody tr th:only-of-type {\n",
       "        vertical-align: middle;\n",
       "    }\n",
       "\n",
       "    .dataframe tbody tr th {\n",
       "        vertical-align: top;\n",
       "    }\n",
       "\n",
       "    .dataframe thead th {\n",
       "        text-align: right;\n",
       "    }\n",
       "</style>\n",
       "<table border=\"1\" class=\"dataframe\">\n",
       "  <thead>\n",
       "    <tr style=\"text-align: right;\">\n",
       "      <th></th>\n",
       "      <th>AP_ID</th>\n",
       "      <th>L3_PG_ID</th>\n",
       "      <th>L4_PG_ID</th>\n",
       "    </tr>\n",
       "  </thead>\n",
       "  <tbody>\n",
       "    <tr>\n",
       "      <th>56913</th>\n",
       "      <td>13879</td>\n",
       "      <td>857</td>\n",
       "      <td>858</td>\n",
       "    </tr>\n",
       "    <tr>\n",
       "      <th>39021</th>\n",
       "      <td>52718</td>\n",
       "      <td>65830</td>\n",
       "      <td>30667</td>\n",
       "    </tr>\n",
       "    <tr>\n",
       "      <th>60375</th>\n",
       "      <td>45538</td>\n",
       "      <td>65830</td>\n",
       "      <td>30499</td>\n",
       "    </tr>\n",
       "    <tr>\n",
       "      <th>45175</th>\n",
       "      <td>50937</td>\n",
       "      <td>251</td>\n",
       "      <td>1335</td>\n",
       "    </tr>\n",
       "    <tr>\n",
       "      <th>34818</th>\n",
       "      <td>25695</td>\n",
       "      <td>252</td>\n",
       "      <td>1520</td>\n",
       "    </tr>\n",
       "    <tr>\n",
       "      <th>59187</th>\n",
       "      <td>37453</td>\n",
       "      <td>20</td>\n",
       "      <td>1426</td>\n",
       "    </tr>\n",
       "    <tr>\n",
       "      <th>38587</th>\n",
       "      <td>82632</td>\n",
       "      <td>257304</td>\n",
       "      <td>257327</td>\n",
       "    </tr>\n",
       "    <tr>\n",
       "      <th>3065</th>\n",
       "      <td>24104</td>\n",
       "      <td>2155</td>\n",
       "      <td>2157</td>\n",
       "    </tr>\n",
       "    <tr>\n",
       "      <th>59133</th>\n",
       "      <td>35774</td>\n",
       "      <td>15</td>\n",
       "      <td>92</td>\n",
       "    </tr>\n",
       "    <tr>\n",
       "      <th>15387</th>\n",
       "      <td>52613</td>\n",
       "      <td>9857</td>\n",
       "      <td>65102</td>\n",
       "    </tr>\n",
       "  </tbody>\n",
       "</table>\n",
       "</div>"
      ],
      "text/plain": [
       "       AP_ID  L3_PG_ID  L4_PG_ID\n",
       "56913  13879       857       858\n",
       "39021  52718     65830     30667\n",
       "60375  45538     65830     30499\n",
       "45175  50937       251      1335\n",
       "34818  25695       252      1520\n",
       "59187  37453        20      1426\n",
       "38587  82632    257304    257327\n",
       "3065   24104      2155      2157\n",
       "59133  35774        15        92\n",
       "15387  52613      9857     65102"
      ]
     },
     "execution_count": 35,
     "metadata": {},
     "output_type": "execute_result"
    }
   ],
   "source": [
    "ap_pg.sample(10)"
   ]
  },
  {
   "cell_type": "code",
   "execution_count": 36,
   "metadata": {
    "ExecuteTime": {
     "end_time": "2018-11-29T14:53:12.092006Z",
     "start_time": "2018-11-29T14:53:12.072006Z"
    }
   },
   "outputs": [],
   "source": [
    "#Merge both tables to add the brand for each AP_ID\n",
    "ap_pg_brand = pd.merge(ap_pg, brands, how='left', left_on='L4_PG_ID', right_on='PPR_N_LEVEL4_ID')"
   ]
  },
  {
   "cell_type": "code",
   "execution_count": 37,
   "metadata": {
    "ExecuteTime": {
     "end_time": "2018-11-29T14:53:12.108006Z",
     "start_time": "2018-11-29T14:53:12.093006Z"
    }
   },
   "outputs": [
    {
     "data": {
      "text/html": [
       "<div>\n",
       "<style scoped>\n",
       "    .dataframe tbody tr th:only-of-type {\n",
       "        vertical-align: middle;\n",
       "    }\n",
       "\n",
       "    .dataframe tbody tr th {\n",
       "        vertical-align: top;\n",
       "    }\n",
       "\n",
       "    .dataframe thead th {\n",
       "        text-align: right;\n",
       "    }\n",
       "</style>\n",
       "<table border=\"1\" class=\"dataframe\">\n",
       "  <thead>\n",
       "    <tr style=\"text-align: right;\">\n",
       "      <th></th>\n",
       "      <th>AP_ID</th>\n",
       "      <th>L3_PG_ID</th>\n",
       "      <th>L4_PG_ID</th>\n",
       "      <th>PPR_N_LEVEL4_ID</th>\n",
       "      <th>PPR_V_LEVEL4_DESC</th>\n",
       "      <th>BRAND</th>\n",
       "    </tr>\n",
       "  </thead>\n",
       "  <tbody>\n",
       "    <tr>\n",
       "      <th>5650</th>\n",
       "      <td>70138</td>\n",
       "      <td>257304</td>\n",
       "      <td>257374</td>\n",
       "      <td>257374</td>\n",
       "      <td>257374 - Frühstücksartikel</td>\n",
       "      <td>Frühstücksartikel</td>\n",
       "    </tr>\n",
       "    <tr>\n",
       "      <th>25621</th>\n",
       "      <td>14765</td>\n",
       "      <td>68</td>\n",
       "      <td>2568</td>\n",
       "      <td>2568</td>\n",
       "      <td>2568 - Algenbekämpfung</td>\n",
       "      <td>Algenbekämpfung</td>\n",
       "    </tr>\n",
       "    <tr>\n",
       "      <th>42415</th>\n",
       "      <td>23786</td>\n",
       "      <td>20</td>\n",
       "      <td>1426</td>\n",
       "      <td>1426</td>\n",
       "      <td>1426 - Quietscher</td>\n",
       "      <td>Quietscher</td>\n",
       "    </tr>\n",
       "    <tr>\n",
       "      <th>14228</th>\n",
       "      <td>54603</td>\n",
       "      <td>1400</td>\n",
       "      <td>1412</td>\n",
       "      <td>1412</td>\n",
       "      <td>1412 - Haut &amp; Fell</td>\n",
       "      <td>Haut &amp; Fell</td>\n",
       "    </tr>\n",
       "    <tr>\n",
       "      <th>28346</th>\n",
       "      <td>74398</td>\n",
       "      <td>29</td>\n",
       "      <td>128</td>\n",
       "      <td>128</td>\n",
       "      <td>128 - Haubentoiletten</td>\n",
       "      <td>Haubentoiletten</td>\n",
       "    </tr>\n",
       "    <tr>\n",
       "      <th>43955</th>\n",
       "      <td>56254</td>\n",
       "      <td>47</td>\n",
       "      <td>910</td>\n",
       "      <td>910</td>\n",
       "      <td>910 - Zwergkaninchen</td>\n",
       "      <td>Zwergkaninchen</td>\n",
       "    </tr>\n",
       "    <tr>\n",
       "      <th>37341</th>\n",
       "      <td>51170</td>\n",
       "      <td>1400</td>\n",
       "      <td>1411</td>\n",
       "      <td>1411</td>\n",
       "      <td>1411 - Vitamine und Mineralstoffe</td>\n",
       "      <td>Vitamine und Mineralstoffe</td>\n",
       "    </tr>\n",
       "    <tr>\n",
       "      <th>56755</th>\n",
       "      <td>12429</td>\n",
       "      <td>67</td>\n",
       "      <td>1662</td>\n",
       "      <td>1662</td>\n",
       "      <td>1662 - Filtermaterial</td>\n",
       "      <td>Filtermaterial</td>\n",
       "    </tr>\n",
       "    <tr>\n",
       "      <th>19733</th>\n",
       "      <td>35299</td>\n",
       "      <td>2068</td>\n",
       "      <td>2071</td>\n",
       "      <td>2071</td>\n",
       "      <td>2071 - Felix</td>\n",
       "      <td>Felix</td>\n",
       "    </tr>\n",
       "    <tr>\n",
       "      <th>50602</th>\n",
       "      <td>26258</td>\n",
       "      <td>42</td>\n",
       "      <td>905</td>\n",
       "      <td>905</td>\n",
       "      <td>905 - Hängematten</td>\n",
       "      <td>Hängematten</td>\n",
       "    </tr>\n",
       "    <tr>\n",
       "      <th>44560</th>\n",
       "      <td>67748</td>\n",
       "      <td>251</td>\n",
       "      <td>283</td>\n",
       "      <td>283</td>\n",
       "      <td>283 - Pro Plan</td>\n",
       "      <td>Pro Plan</td>\n",
       "    </tr>\n",
       "    <tr>\n",
       "      <th>55761</th>\n",
       "      <td>4538</td>\n",
       "      <td>401</td>\n",
       "      <td>1593</td>\n",
       "      <td>1593</td>\n",
       "      <td>1593 - Lecksteine &amp;  Mineralien</td>\n",
       "      <td>Lecksteine &amp;  Mineralien</td>\n",
       "    </tr>\n",
       "    <tr>\n",
       "      <th>21597</th>\n",
       "      <td>68617</td>\n",
       "      <td>257304</td>\n",
       "      <td>257323</td>\n",
       "      <td>257323</td>\n",
       "      <td>257323 - Kaffee Kapseln &amp; Pads</td>\n",
       "      <td>Kaffee Kapseln &amp; Pads</td>\n",
       "    </tr>\n",
       "    <tr>\n",
       "      <th>47363</th>\n",
       "      <td>489</td>\n",
       "      <td>1345</td>\n",
       "      <td>0</td>\n",
       "      <td>0</td>\n",
       "      <td>*NOT DEFINED</td>\n",
       "      <td>unknown</td>\n",
       "    </tr>\n",
       "    <tr>\n",
       "      <th>13113</th>\n",
       "      <td>67944</td>\n",
       "      <td>16</td>\n",
       "      <td>96</td>\n",
       "      <td>96</td>\n",
       "      <td>96 - Fressnapf aus Kunststoff</td>\n",
       "      <td>Fressnapf aus Kunststoff</td>\n",
       "    </tr>\n",
       "    <tr>\n",
       "      <th>26483</th>\n",
       "      <td>21516</td>\n",
       "      <td>252</td>\n",
       "      <td>683</td>\n",
       "      <td>683</td>\n",
       "      <td>683 - Royal Canin</td>\n",
       "      <td>Royal Canin</td>\n",
       "    </tr>\n",
       "    <tr>\n",
       "      <th>17459</th>\n",
       "      <td>12952</td>\n",
       "      <td>18</td>\n",
       "      <td>104</td>\n",
       "      <td>104</td>\n",
       "      <td>104 - vom Rind</td>\n",
       "      <td>vom Rind</td>\n",
       "    </tr>\n",
       "    <tr>\n",
       "      <th>47812</th>\n",
       "      <td>4175</td>\n",
       "      <td>1400</td>\n",
       "      <td>1411</td>\n",
       "      <td>1411</td>\n",
       "      <td>1411 - Vitamine und Mineralstoffe</td>\n",
       "      <td>Vitamine und Mineralstoffe</td>\n",
       "    </tr>\n",
       "    <tr>\n",
       "      <th>60726</th>\n",
       "      <td>71293</td>\n",
       "      <td>257304</td>\n",
       "      <td>257323</td>\n",
       "      <td>257323</td>\n",
       "      <td>257323 - Kaffee Kapseln &amp; Pads</td>\n",
       "      <td>Kaffee Kapseln &amp; Pads</td>\n",
       "    </tr>\n",
       "    <tr>\n",
       "      <th>39299</th>\n",
       "      <td>72477</td>\n",
       "      <td>2068</td>\n",
       "      <td>10728</td>\n",
       "      <td>10728</td>\n",
       "      <td>10728 - Whiskas</td>\n",
       "      <td>Whiskas</td>\n",
       "    </tr>\n",
       "  </tbody>\n",
       "</table>\n",
       "</div>"
      ],
      "text/plain": [
       "       AP_ID  L3_PG_ID  L4_PG_ID  PPR_N_LEVEL4_ID  \\\n",
       "5650   70138    257304    257374           257374   \n",
       "25621  14765        68      2568             2568   \n",
       "42415  23786        20      1426             1426   \n",
       "14228  54603      1400      1412             1412   \n",
       "28346  74398        29       128              128   \n",
       "43955  56254        47       910              910   \n",
       "37341  51170      1400      1411             1411   \n",
       "56755  12429        67      1662             1662   \n",
       "19733  35299      2068      2071             2071   \n",
       "50602  26258        42       905              905   \n",
       "44560  67748       251       283              283   \n",
       "55761   4538       401      1593             1593   \n",
       "21597  68617    257304    257323           257323   \n",
       "47363    489      1345         0                0   \n",
       "13113  67944        16        96               96   \n",
       "26483  21516       252       683              683   \n",
       "17459  12952        18       104              104   \n",
       "47812   4175      1400      1411             1411   \n",
       "60726  71293    257304    257323           257323   \n",
       "39299  72477      2068     10728            10728   \n",
       "\n",
       "                       PPR_V_LEVEL4_DESC                       BRAND  \n",
       "5650          257374 - Frühstücksartikel           Frühstücksartikel  \n",
       "25621             2568 - Algenbekämpfung             Algenbekämpfung  \n",
       "42415                  1426 - Quietscher                  Quietscher  \n",
       "14228                 1412 - Haut & Fell                 Haut & Fell  \n",
       "28346              128 - Haubentoiletten             Haubentoiletten  \n",
       "43955               910 - Zwergkaninchen              Zwergkaninchen  \n",
       "37341  1411 - Vitamine und Mineralstoffe  Vitamine und Mineralstoffe  \n",
       "56755              1662 - Filtermaterial              Filtermaterial  \n",
       "19733                       2071 - Felix                       Felix  \n",
       "50602                  905 - Hängematten                 Hängematten  \n",
       "44560                     283 - Pro Plan                    Pro Plan  \n",
       "55761    1593 - Lecksteine &  Mineralien    Lecksteine &  Mineralien  \n",
       "21597     257323 - Kaffee Kapseln & Pads       Kaffee Kapseln & Pads  \n",
       "47363                       *NOT DEFINED                     unknown  \n",
       "13113      96 - Fressnapf aus Kunststoff    Fressnapf aus Kunststoff  \n",
       "26483                  683 - Royal Canin                 Royal Canin  \n",
       "17459                     104 - vom Rind                    vom Rind  \n",
       "47812  1411 - Vitamine und Mineralstoffe  Vitamine und Mineralstoffe  \n",
       "60726     257323 - Kaffee Kapseln & Pads       Kaffee Kapseln & Pads  \n",
       "39299                    10728 - Whiskas                     Whiskas  "
      ]
     },
     "execution_count": 37,
     "metadata": {},
     "output_type": "execute_result"
    }
   ],
   "source": [
    "ap_pg_brand.sample(20)"
   ]
  },
  {
   "cell_type": "code",
   "execution_count": 38,
   "metadata": {
    "ExecuteTime": {
     "end_time": "2018-11-29T14:53:15.428006Z",
     "start_time": "2018-11-29T14:53:12.109006Z"
    }
   },
   "outputs": [],
   "source": [
    "data = pd.merge(data, ap_pg_brand, how='left', left_on='SCM_AP_ID', right_on='AP_ID')"
   ]
  },
  {
   "cell_type": "code",
   "execution_count": 39,
   "metadata": {
    "ExecuteTime": {
     "end_time": "2018-11-29T14:53:17.808006Z",
     "start_time": "2018-11-29T14:53:15.429006Z"
    }
   },
   "outputs": [],
   "source": [
    "data[['AP_ID', 'L3_PG_ID', 'L4_PG_ID', 'PPR_N_LEVEL4_ID']] = data[['AP_ID', 'L3_PG_ID', 'L4_PG_ID', 'PPR_N_LEVEL4_ID']].fillna(0).astype(int)"
   ]
  },
  {
   "cell_type": "code",
   "execution_count": 40,
   "metadata": {
    "ExecuteTime": {
     "end_time": "2018-11-29T14:53:18.048006Z",
     "start_time": "2018-11-29T14:53:17.810006Z"
    }
   },
   "outputs": [
    {
     "data": {
      "text/html": [
       "<div>\n",
       "<style scoped>\n",
       "    .dataframe tbody tr th:only-of-type {\n",
       "        vertical-align: middle;\n",
       "    }\n",
       "\n",
       "    .dataframe tbody tr th {\n",
       "        vertical-align: top;\n",
       "    }\n",
       "\n",
       "    .dataframe thead th {\n",
       "        text-align: right;\n",
       "    }\n",
       "</style>\n",
       "<table border=\"1\" class=\"dataframe\">\n",
       "  <thead>\n",
       "    <tr style=\"text-align: right;\">\n",
       "      <th></th>\n",
       "      <th>SCM_N_ORDER_POS_NR</th>\n",
       "      <th>SCM_N_ORDER_NR</th>\n",
       "      <th>TDT_T_KEY_ORDER_DATE</th>\n",
       "      <th>THR_C_KEY_ORDER_HOUR</th>\n",
       "      <th>SIT_N_KEY_SITE</th>\n",
       "      <th>CUS_N_KEY_CUSTOMER</th>\n",
       "      <th>SCM_SALES_BMF</th>\n",
       "      <th>SCM_D_FINANCE_CM1</th>\n",
       "      <th>SCM_D_FINANCE_CM2</th>\n",
       "      <th>SCM_D_ORIG_FINANCE_ORDER_NET</th>\n",
       "      <th>...</th>\n",
       "      <th>D84</th>\n",
       "      <th>D168</th>\n",
       "      <th>D252</th>\n",
       "      <th>D336</th>\n",
       "      <th>AP_ID</th>\n",
       "      <th>L3_PG_ID</th>\n",
       "      <th>L4_PG_ID</th>\n",
       "      <th>PPR_N_LEVEL4_ID</th>\n",
       "      <th>PPR_V_LEVEL4_DESC</th>\n",
       "      <th>BRAND</th>\n",
       "    </tr>\n",
       "  </thead>\n",
       "  <tbody>\n",
       "    <tr>\n",
       "      <th>3000903</th>\n",
       "      <td>394929522</td>\n",
       "      <td>92504421</td>\n",
       "      <td>2017-08-14</td>\n",
       "      <td>13:55</td>\n",
       "      <td>15</td>\n",
       "      <td>12900062</td>\n",
       "      <td>5.99</td>\n",
       "      <td>2.0255</td>\n",
       "      <td>1.2293</td>\n",
       "      <td>5.4455</td>\n",
       "      <td>...</td>\n",
       "      <td>2016-02-18</td>\n",
       "      <td>2016-05-12</td>\n",
       "      <td>2016-08-04</td>\n",
       "      <td>2016-10-27</td>\n",
       "      <td>65217</td>\n",
       "      <td>251</td>\n",
       "      <td>180361</td>\n",
       "      <td>180361</td>\n",
       "      <td>180361 - ★ Wolf of Wilderness</td>\n",
       "      <td>★ Wolf of Wilderness</td>\n",
       "    </tr>\n",
       "    <tr>\n",
       "      <th>2466364</th>\n",
       "      <td>381670290</td>\n",
       "      <td>89425511</td>\n",
       "      <td>2017-06-22</td>\n",
       "      <td>16:23</td>\n",
       "      <td>15</td>\n",
       "      <td>17130952</td>\n",
       "      <td>46.99</td>\n",
       "      <td>7.0182</td>\n",
       "      <td>-1.4256</td>\n",
       "      <td>42.7182</td>\n",
       "      <td>...</td>\n",
       "      <td>2017-09-14</td>\n",
       "      <td>2017-12-07</td>\n",
       "      <td>2018-03-01</td>\n",
       "      <td>2018-05-24</td>\n",
       "      <td>56365</td>\n",
       "      <td>251</td>\n",
       "      <td>682</td>\n",
       "      <td>682</td>\n",
       "      <td>682 - Royal Canin Size</td>\n",
       "      <td>Royal Canin Size</td>\n",
       "    </tr>\n",
       "    <tr>\n",
       "      <th>840083</th>\n",
       "      <td>390407963</td>\n",
       "      <td>91459143</td>\n",
       "      <td>2017-07-27</td>\n",
       "      <td>09:21</td>\n",
       "      <td>15</td>\n",
       "      <td>13620696</td>\n",
       "      <td>-4.79</td>\n",
       "      <td>-4.3545</td>\n",
       "      <td>-4.3545</td>\n",
       "      <td>-4.3545</td>\n",
       "      <td>...</td>\n",
       "      <td>2016-05-30</td>\n",
       "      <td>2016-08-22</td>\n",
       "      <td>2016-11-14</td>\n",
       "      <td>2017-02-06</td>\n",
       "      <td>0</td>\n",
       "      <td>0</td>\n",
       "      <td>0</td>\n",
       "      <td>0</td>\n",
       "      <td>NaN</td>\n",
       "      <td>NaN</td>\n",
       "    </tr>\n",
       "    <tr>\n",
       "      <th>3593188</th>\n",
       "      <td>257886954</td>\n",
       "      <td>61099524</td>\n",
       "      <td>2015-11-29</td>\n",
       "      <td>18:09</td>\n",
       "      <td>15</td>\n",
       "      <td>12924510</td>\n",
       "      <td>3.99</td>\n",
       "      <td>3.6273</td>\n",
       "      <td>3.6273</td>\n",
       "      <td>3.6273</td>\n",
       "      <td>...</td>\n",
       "      <td>2016-02-21</td>\n",
       "      <td>2016-05-15</td>\n",
       "      <td>2016-08-07</td>\n",
       "      <td>2016-10-30</td>\n",
       "      <td>0</td>\n",
       "      <td>0</td>\n",
       "      <td>0</td>\n",
       "      <td>0</td>\n",
       "      <td>NaN</td>\n",
       "      <td>NaN</td>\n",
       "    </tr>\n",
       "    <tr>\n",
       "      <th>3712433</th>\n",
       "      <td>461081202</td>\n",
       "      <td>108126578</td>\n",
       "      <td>2018-04-05</td>\n",
       "      <td>17:44</td>\n",
       "      <td>15</td>\n",
       "      <td>12677077</td>\n",
       "      <td>23.99</td>\n",
       "      <td>4.7691</td>\n",
       "      <td>2.8700</td>\n",
       "      <td>21.8091</td>\n",
       "      <td>...</td>\n",
       "      <td>2016-01-17</td>\n",
       "      <td>2016-04-10</td>\n",
       "      <td>2016-07-03</td>\n",
       "      <td>2016-09-25</td>\n",
       "      <td>61311</td>\n",
       "      <td>252</td>\n",
       "      <td>261925</td>\n",
       "      <td>261925</td>\n",
       "      <td>261925 - Royal Canin Rasse (Breed)</td>\n",
       "      <td>Royal Canin Rasse (Breed)</td>\n",
       "    </tr>\n",
       "    <tr>\n",
       "      <th>716662</th>\n",
       "      <td>438987685</td>\n",
       "      <td>102928132</td>\n",
       "      <td>2018-01-20</td>\n",
       "      <td>19:21</td>\n",
       "      <td>15</td>\n",
       "      <td>16070954</td>\n",
       "      <td>34.99</td>\n",
       "      <td>8.7891</td>\n",
       "      <td>5.1469</td>\n",
       "      <td>31.8091</td>\n",
       "      <td>...</td>\n",
       "      <td>2017-04-23</td>\n",
       "      <td>2017-07-16</td>\n",
       "      <td>2017-10-08</td>\n",
       "      <td>2017-12-31</td>\n",
       "      <td>70885</td>\n",
       "      <td>252</td>\n",
       "      <td>31963</td>\n",
       "      <td>31963</td>\n",
       "      <td>31963 - Hill's Prescription Diet</td>\n",
       "      <td>Hill's Prescription Diet</td>\n",
       "    </tr>\n",
       "    <tr>\n",
       "      <th>2332851</th>\n",
       "      <td>413946065</td>\n",
       "      <td>97032669</td>\n",
       "      <td>2017-10-25</td>\n",
       "      <td>14:33</td>\n",
       "      <td>15</td>\n",
       "      <td>16552095</td>\n",
       "      <td>43.99</td>\n",
       "      <td>7.8509</td>\n",
       "      <td>-0.2480</td>\n",
       "      <td>39.9909</td>\n",
       "      <td>...</td>\n",
       "      <td>2017-06-28</td>\n",
       "      <td>2017-09-20</td>\n",
       "      <td>2017-12-13</td>\n",
       "      <td>2018-03-07</td>\n",
       "      <td>67042</td>\n",
       "      <td>251</td>\n",
       "      <td>283</td>\n",
       "      <td>283</td>\n",
       "      <td>283 - Pro Plan</td>\n",
       "      <td>Pro Plan</td>\n",
       "    </tr>\n",
       "    <tr>\n",
       "      <th>3559666</th>\n",
       "      <td>466527543</td>\n",
       "      <td>109489740</td>\n",
       "      <td>2018-04-26</td>\n",
       "      <td>13:51</td>\n",
       "      <td>15</td>\n",
       "      <td>14754643</td>\n",
       "      <td>21.99</td>\n",
       "      <td>4.6514</td>\n",
       "      <td>1.0289</td>\n",
       "      <td>20.5514</td>\n",
       "      <td>...</td>\n",
       "      <td>2016-10-20</td>\n",
       "      <td>2017-01-12</td>\n",
       "      <td>2017-04-06</td>\n",
       "      <td>2017-06-29</td>\n",
       "      <td>61200</td>\n",
       "      <td>252</td>\n",
       "      <td>683</td>\n",
       "      <td>683</td>\n",
       "      <td>683 - Royal Canin</td>\n",
       "      <td>Royal Canin</td>\n",
       "    </tr>\n",
       "    <tr>\n",
       "      <th>2045176</th>\n",
       "      <td>283468719</td>\n",
       "      <td>66982690</td>\n",
       "      <td>2016-04-06</td>\n",
       "      <td>18:25</td>\n",
       "      <td>15</td>\n",
       "      <td>13561678</td>\n",
       "      <td>14.99</td>\n",
       "      <td>4.2573</td>\n",
       "      <td>2.8025</td>\n",
       "      <td>13.6273</td>\n",
       "      <td>...</td>\n",
       "      <td>2016-05-14</td>\n",
       "      <td>2016-08-06</td>\n",
       "      <td>2016-10-29</td>\n",
       "      <td>2017-01-21</td>\n",
       "      <td>68119</td>\n",
       "      <td>252</td>\n",
       "      <td>23302</td>\n",
       "      <td>23302</td>\n",
       "      <td>23302 - Applaws</td>\n",
       "      <td>Applaws</td>\n",
       "    </tr>\n",
       "    <tr>\n",
       "      <th>33148</th>\n",
       "      <td>248706711</td>\n",
       "      <td>59005385</td>\n",
       "      <td>2015-10-12</td>\n",
       "      <td>11:01</td>\n",
       "      <td>15</td>\n",
       "      <td>12461791</td>\n",
       "      <td>11.99</td>\n",
       "      <td>5.7191</td>\n",
       "      <td>4.4925</td>\n",
       "      <td>9.9091</td>\n",
       "      <td>...</td>\n",
       "      <td>2015-12-17</td>\n",
       "      <td>2016-03-10</td>\n",
       "      <td>2016-06-02</td>\n",
       "      <td>2016-08-25</td>\n",
       "      <td>37211</td>\n",
       "      <td>40023</td>\n",
       "      <td>43419</td>\n",
       "      <td>43419</td>\n",
       "      <td>43419 - Hundepullover &amp; Mode</td>\n",
       "      <td>Hundepullover &amp; Mode</td>\n",
       "    </tr>\n",
       "  </tbody>\n",
       "</table>\n",
       "<p>10 rows × 42 columns</p>\n",
       "</div>"
      ],
      "text/plain": [
       "         SCM_N_ORDER_POS_NR  SCM_N_ORDER_NR TDT_T_KEY_ORDER_DATE  \\\n",
       "3000903           394929522        92504421           2017-08-14   \n",
       "2466364           381670290        89425511           2017-06-22   \n",
       "840083            390407963        91459143           2017-07-27   \n",
       "3593188           257886954        61099524           2015-11-29   \n",
       "3712433           461081202       108126578           2018-04-05   \n",
       "716662            438987685       102928132           2018-01-20   \n",
       "2332851           413946065        97032669           2017-10-25   \n",
       "3559666           466527543       109489740           2018-04-26   \n",
       "2045176           283468719        66982690           2016-04-06   \n",
       "33148             248706711        59005385           2015-10-12   \n",
       "\n",
       "        THR_C_KEY_ORDER_HOUR  SIT_N_KEY_SITE  CUS_N_KEY_CUSTOMER  \\\n",
       "3000903                13:55              15            12900062   \n",
       "2466364                16:23              15            17130952   \n",
       "840083                 09:21              15            13620696   \n",
       "3593188                18:09              15            12924510   \n",
       "3712433                17:44              15            12677077   \n",
       "716662                 19:21              15            16070954   \n",
       "2332851                14:33              15            16552095   \n",
       "3559666                13:51              15            14754643   \n",
       "2045176                18:25              15            13561678   \n",
       "33148                  11:01              15            12461791   \n",
       "\n",
       "         SCM_SALES_BMF  SCM_D_FINANCE_CM1  SCM_D_FINANCE_CM2  \\\n",
       "3000903           5.99             2.0255             1.2293   \n",
       "2466364          46.99             7.0182            -1.4256   \n",
       "840083           -4.79            -4.3545            -4.3545   \n",
       "3593188           3.99             3.6273             3.6273   \n",
       "3712433          23.99             4.7691             2.8700   \n",
       "716662           34.99             8.7891             5.1469   \n",
       "2332851          43.99             7.8509            -0.2480   \n",
       "3559666          21.99             4.6514             1.0289   \n",
       "2045176          14.99             4.2573             2.8025   \n",
       "33148            11.99             5.7191             4.4925   \n",
       "\n",
       "         SCM_D_ORIG_FINANCE_ORDER_NET            ...                    D84  \\\n",
       "3000903                        5.4455            ...             2016-02-18   \n",
       "2466364                       42.7182            ...             2017-09-14   \n",
       "840083                        -4.3545            ...             2016-05-30   \n",
       "3593188                        3.6273            ...             2016-02-21   \n",
       "3712433                       21.8091            ...             2016-01-17   \n",
       "716662                        31.8091            ...             2017-04-23   \n",
       "2332851                       39.9909            ...             2017-06-28   \n",
       "3559666                       20.5514            ...             2016-10-20   \n",
       "2045176                       13.6273            ...             2016-05-14   \n",
       "33148                          9.9091            ...             2015-12-17   \n",
       "\n",
       "              D168       D252       D336  AP_ID  L3_PG_ID  L4_PG_ID  \\\n",
       "3000903 2016-05-12 2016-08-04 2016-10-27  65217       251    180361   \n",
       "2466364 2017-12-07 2018-03-01 2018-05-24  56365       251       682   \n",
       "840083  2016-08-22 2016-11-14 2017-02-06      0         0         0   \n",
       "3593188 2016-05-15 2016-08-07 2016-10-30      0         0         0   \n",
       "3712433 2016-04-10 2016-07-03 2016-09-25  61311       252    261925   \n",
       "716662  2017-07-16 2017-10-08 2017-12-31  70885       252     31963   \n",
       "2332851 2017-09-20 2017-12-13 2018-03-07  67042       251       283   \n",
       "3559666 2017-01-12 2017-04-06 2017-06-29  61200       252       683   \n",
       "2045176 2016-08-06 2016-10-29 2017-01-21  68119       252     23302   \n",
       "33148   2016-03-10 2016-06-02 2016-08-25  37211     40023     43419   \n",
       "\n",
       "         PPR_N_LEVEL4_ID                   PPR_V_LEVEL4_DESC  \\\n",
       "3000903           180361       180361 - ★ Wolf of Wilderness   \n",
       "2466364              682              682 - Royal Canin Size   \n",
       "840083                 0                                 NaN   \n",
       "3593188                0                                 NaN   \n",
       "3712433           261925  261925 - Royal Canin Rasse (Breed)   \n",
       "716662             31963    31963 - Hill's Prescription Diet   \n",
       "2332851              283                      283 - Pro Plan   \n",
       "3559666              683                   683 - Royal Canin   \n",
       "2045176            23302                     23302 - Applaws   \n",
       "33148              43419        43419 - Hundepullover & Mode   \n",
       "\n",
       "                             BRAND  \n",
       "3000903       ★ Wolf of Wilderness  \n",
       "2466364           Royal Canin Size  \n",
       "840083                         NaN  \n",
       "3593188                        NaN  \n",
       "3712433  Royal Canin Rasse (Breed)  \n",
       "716662    Hill's Prescription Diet  \n",
       "2332851                   Pro Plan  \n",
       "3559666                Royal Canin  \n",
       "2045176                    Applaws  \n",
       "33148         Hundepullover & Mode  \n",
       "\n",
       "[10 rows x 42 columns]"
      ]
     },
     "execution_count": 40,
     "metadata": {},
     "output_type": "execute_result"
    }
   ],
   "source": [
    "data.sample(10)"
   ]
  },
  {
   "cell_type": "code",
   "execution_count": 41,
   "metadata": {
    "ExecuteTime": {
     "end_time": "2018-11-29T14:53:18.251006Z",
     "start_time": "2018-11-29T14:53:18.049006Z"
    }
   },
   "outputs": [
    {
     "data": {
      "text/plain": [
       "SCM_N_ORDER_POS_NR                              432883869\n",
       "SCM_N_ORDER_NR                                  101465763\n",
       "TDT_T_KEY_ORDER_DATE                  2017-12-29 00:00:00\n",
       "THR_C_KEY_ORDER_HOUR                                21:51\n",
       "SIT_N_KEY_SITE                                         15\n",
       "CUS_N_KEY_CUSTOMER                               16405844\n",
       "SCM_SALES_BMF                                      5.4282\n",
       "SCM_D_FINANCE_CM1                                  1.5764\n",
       "SCM_D_FINANCE_CM2                                  0.3982\n",
       "SCM_D_ORIG_FINANCE_ORDER_NET                       4.9348\n",
       "SCM_AP_ID                                           68397\n",
       "SCM_AS_ID                                         2301001\n",
       "SCM_MASTER_AP_ID                                    68325\n",
       "OSP_KO_COUNT_NET                                        1\n",
       "OSP_3_LEAD_P_PG_ID                                    251\n",
       "OSP_3_LEAD_P_PG_SHARE                               0.778\n",
       "OSP_4_LEAD_P_PG_ID                                  35825\n",
       "OSP_4_LEAD_P_PG_SHARE                               0.778\n",
       "CZP_START_DATE                                        NaT\n",
       "CZP_EXPIRY_DATE                                       NaT\n",
       "CZP_ZTQ_ID                                            NaN\n",
       "CZP_PERCENTAGE                                        NaN\n",
       "CZP_PRICE                                             NaN\n",
       "ORDER_DATETIME                        2017-12-29 21:51:00\n",
       "FIRST_O_DATE                          2017-12-29 00:00:00\n",
       "LAST_O_DATE                           2017-12-29 00:00:00\n",
       "1ST_O_COUNTER                                           1\n",
       "MAX_SALES_O_POS                                   50.5618\n",
       "IS_LEAD_AS                                              0\n",
       "LEAD_AS_ID                                        2301001\n",
       "D28                                   2018-01-26 00:00:00\n",
       "D56                                   2018-02-23 00:00:00\n",
       "D84                                   2018-03-23 00:00:00\n",
       "D168                                  2018-06-15 00:00:00\n",
       "D252                                  2018-09-07 00:00:00\n",
       "D336                                  2018-11-30 00:00:00\n",
       "AP_ID                                               68397\n",
       "L3_PG_ID                                              251\n",
       "L4_PG_ID                                            35825\n",
       "PPR_N_LEVEL4_ID                                     35825\n",
       "PPR_V_LEVEL4_DESC               35825 - Taste of the Wild\n",
       "BRAND                                   Taste of the Wild\n",
       "Name: 2359877, dtype: object"
      ]
     },
     "execution_count": 41,
     "metadata": {},
     "output_type": "execute_result"
    }
   ],
   "source": [
    "data.loc[2359877]"
   ]
  },
  {
   "cell_type": "code",
   "execution_count": 42,
   "metadata": {
    "ExecuteTime": {
     "end_time": "2018-11-29T14:53:18.256006Z",
     "start_time": "2018-11-29T14:53:18.253006Z"
    }
   },
   "outputs": [
    {
     "data": {
      "text/plain": [
       "Index(['SCM_N_ORDER_POS_NR', 'SCM_N_ORDER_NR', 'TDT_T_KEY_ORDER_DATE',\n",
       "       'THR_C_KEY_ORDER_HOUR', 'SIT_N_KEY_SITE', 'CUS_N_KEY_CUSTOMER',\n",
       "       'SCM_SALES_BMF', 'SCM_D_FINANCE_CM1', 'SCM_D_FINANCE_CM2',\n",
       "       'SCM_D_ORIG_FINANCE_ORDER_NET', 'SCM_AP_ID', 'SCM_AS_ID',\n",
       "       'SCM_MASTER_AP_ID', 'OSP_KO_COUNT_NET', 'OSP_3_LEAD_P_PG_ID',\n",
       "       'OSP_3_LEAD_P_PG_SHARE', 'OSP_4_LEAD_P_PG_ID', 'OSP_4_LEAD_P_PG_SHARE',\n",
       "       'CZP_START_DATE', 'CZP_EXPIRY_DATE', 'CZP_ZTQ_ID', 'CZP_PERCENTAGE',\n",
       "       'CZP_PRICE', 'ORDER_DATETIME', 'FIRST_O_DATE', 'LAST_O_DATE',\n",
       "       '1ST_O_COUNTER', 'MAX_SALES_O_POS', 'IS_LEAD_AS', 'LEAD_AS_ID', 'D28',\n",
       "       'D56', 'D84', 'D168', 'D252', 'D336', 'AP_ID', 'L3_PG_ID', 'L4_PG_ID',\n",
       "       'PPR_N_LEVEL4_ID', 'PPR_V_LEVEL4_DESC', 'BRAND'],\n",
       "      dtype='object')"
      ]
     },
     "execution_count": 42,
     "metadata": {},
     "output_type": "execute_result"
    }
   ],
   "source": [
    "data.columns"
   ]
  },
  {
   "cell_type": "code",
   "execution_count": 43,
   "metadata": {
    "ExecuteTime": {
     "end_time": "2018-11-29T14:53:29.882006Z",
     "start_time": "2018-11-29T14:53:18.257006Z"
    }
   },
   "outputs": [],
   "source": [
    "#data.to_pickle(\"./orders_es_shop_sp_cross_selling_v2.pkl\")"
   ]
  },
  {
   "cell_type": "markdown",
   "metadata": {},
   "source": [
    "### Order level"
   ]
  },
  {
   "cell_type": "code",
   "execution_count": 44,
   "metadata": {
    "ExecuteTime": {
     "end_time": "2018-11-29T14:53:29.886006Z",
     "start_time": "2018-11-29T14:53:29.883006Z"
    }
   },
   "outputs": [],
   "source": [
    "data = pd.read_pickle(\"./orders_es_shop_sp_cross_selling_v2.pkl\")"
   ]
  },
  {
   "cell_type": "code",
   "execution_count": 45,
   "metadata": {
    "ExecuteTime": {
     "end_time": "2018-11-29T14:53:29.907006Z",
     "start_time": "2018-11-29T14:53:29.889006Z"
    }
   },
   "outputs": [],
   "source": [
    "agg_ops = {'TDT_T_KEY_ORDER_DATE': min,\n",
    "          'CUS_N_KEY_CUSTOMER': min,\n",
    "          'SCM_SALES_BMF': [sum, lambda x: list(np.round(x, 2))],\n",
    "          'SCM_D_FINANCE_CM1': sum,\n",
    "          'SCM_D_FINANCE_CM2': sum,\n",
    "          'SCM_D_ORIG_FINANCE_ORDER_NET': sum,\n",
    "          'OSP_KO_COUNT_NET': min,\n",
    "          'SCM_AP_ID': lambda x: list(x),\n",
    "          'L4_PG_ID': lambda x: list(x),\n",
    "          'BRAND': lambda x: list(x),\n",
    "          'PPR_V_LEVEL4_DESC': lambda x: list(x),\n",
    "          'L3_PG_ID': lambda x: list(x),\n",
    "          'SCM_AS_ID': lambda x: list(x),\n",
    "          'LEAD_AS_ID': max,\n",
    "          'SCM_MASTER_AP_ID': lambda x: list(x),\n",
    "          'CZP_ZTQ_ID': min, \n",
    "          'CZP_START_DATE': min,\n",
    "          'CZP_EXPIRY_DATE': min,\n",
    "          'ORDER_DATETIME': min,\n",
    "          'FIRST_O_DATE': min,\n",
    "          'LAST_O_DATE': min,\n",
    "          '1ST_O_COUNTER': min,\n",
    "          'D28': min,\n",
    "          'D56': min,\n",
    "          'D84': min,\n",
    "          'D168': min,\n",
    "          'D252': min,\n",
    "          'D336': min\n",
    "          }"
   ]
  },
  {
   "cell_type": "code",
   "execution_count": 46,
   "metadata": {
    "ExecuteTime": {
     "end_time": "2018-11-29T15:01:00.062006Z",
     "start_time": "2018-11-29T14:53:29.909006Z"
    }
   },
   "outputs": [],
   "source": [
    "orders = data.groupby('SCM_N_ORDER_NR', as_index=False).agg(agg_ops)"
   ]
  },
  {
   "cell_type": "code",
   "execution_count": 47,
   "metadata": {
    "ExecuteTime": {
     "end_time": "2018-11-29T15:01:00.067006Z",
     "start_time": "2018-11-29T15:01:00.063006Z"
    }
   },
   "outputs": [],
   "source": [
    "orders.columns = ['_'.join(tup).rstrip('_') for tup in orders.columns.values]"
   ]
  },
  {
   "cell_type": "code",
   "execution_count": 48,
   "metadata": {
    "ExecuteTime": {
     "end_time": "2018-11-29T15:01:00.085006Z",
     "start_time": "2018-11-29T15:01:00.069006Z"
    }
   },
   "outputs": [],
   "source": [
    "orders.columns = ['SCM_N_ORDER_NR', 'TDT_T_KEY_ORDER_DATE', 'CUS_N_KEY_CUSTOMER',\n",
    "       'SCM_SALES_BMF_sum', 'SCM_SALES_BMF_list', 'SCM_D_FINANCE_CM1',\n",
    "       'SCM_D_FINANCE_CM2', 'SCM_D_ORIG_FINANCE_ORDER_NET',\n",
    "       'OSP_KO_COUNT_NET', 'SCM_AP_ID_list', 'L4_PG_ID_list',\n",
    "       'BRAND_list', 'PPR_V_LEVEL4_DESC_list', 'L3_PG_ID_list',\n",
    "       'SCM_AS_ID_list', 'LEAD_AS_ID', 'SCM_MASTER_AP_ID_list',\n",
    "       'CZP_ZTQ_ID', 'CZP_START_DATE', 'CZP_EXPIRY_DATE',\n",
    "       'ORDER_DATETIME', 'FIRST_O_DATE', 'LAST_O_DATE',\n",
    "       '1ST_O_COUNTER', 'D28', 'D56', 'D84', 'D168',\n",
    "       'D252', 'D336']"
   ]
  },
  {
   "cell_type": "code",
   "execution_count": 49,
   "metadata": {
    "ExecuteTime": {
     "end_time": "2018-11-29T15:01:00.290006Z",
     "start_time": "2018-11-29T15:01:00.086006Z"
    }
   },
   "outputs": [],
   "source": [
    "orders['SP_PURCHASE'] = [42225 in i for i in orders['SCM_MASTER_AP_ID_list'].values]"
   ]
  },
  {
   "cell_type": "code",
   "execution_count": 50,
   "metadata": {
    "ExecuteTime": {
     "end_time": "2018-11-29T15:01:00.311006Z",
     "start_time": "2018-11-29T15:01:00.291006Z"
    }
   },
   "outputs": [
    {
     "data": {
      "text/plain": [
       "False    974656\n",
       "True      40493\n",
       "Name: SP_PURCHASE, dtype: int64"
      ]
     },
     "execution_count": 50,
     "metadata": {},
     "output_type": "execute_result"
    }
   ],
   "source": [
    "orders['SP_PURCHASE'].value_counts()"
   ]
  },
  {
   "cell_type": "code",
   "execution_count": 51,
   "metadata": {
    "ExecuteTime": {
     "end_time": "2018-11-29T15:01:00.500006Z",
     "start_time": "2018-11-29T15:01:00.313006Z"
    }
   },
   "outputs": [],
   "source": [
    "orders['SP_DISC'] = [42715 in i for i in orders['SCM_MASTER_AP_ID_list'].values]"
   ]
  },
  {
   "cell_type": "code",
   "execution_count": 52,
   "metadata": {
    "ExecuteTime": {
     "end_time": "2018-11-29T15:01:00.521006Z",
     "start_time": "2018-11-29T15:01:00.501006Z"
    }
   },
   "outputs": [
    {
     "data": {
      "text/plain": [
       "False    783394\n",
       "True     231755\n",
       "Name: SP_DISC, dtype: int64"
      ]
     },
     "execution_count": 52,
     "metadata": {},
     "output_type": "execute_result"
    }
   ],
   "source": [
    "orders['SP_DISC'].value_counts()"
   ]
  },
  {
   "cell_type": "markdown",
   "metadata": {},
   "source": [
    "We need to calculate, for each order, sales per PG3/PG4/BRAND... "
   ]
  },
  {
   "cell_type": "code",
   "execution_count": 53,
   "metadata": {
    "ExecuteTime": {
     "end_time": "2018-11-29T15:01:03.180006Z",
     "start_time": "2018-11-29T15:01:00.523006Z"
    }
   },
   "outputs": [],
   "source": [
    "orders['PG3_SALES'] = [[(a, b) for a, b in list(zip(i, j))] for i, j in list(zip(orders['L3_PG_ID_list'], \n",
    "                                                                                 orders['SCM_SALES_BMF_list']))]"
   ]
  },
  {
   "cell_type": "code",
   "execution_count": 54,
   "metadata": {
    "ExecuteTime": {
     "end_time": "2018-11-29T15:01:04.888006Z",
     "start_time": "2018-11-29T15:01:03.182006Z"
    }
   },
   "outputs": [],
   "source": [
    "orders['PG4_SALES'] = [[(a, b) for a, b in list(zip(i, j))] for i, j in list(zip(orders['L4_PG_ID_list'], \n",
    "                                                                                 orders['SCM_SALES_BMF_list']))]"
   ]
  },
  {
   "cell_type": "code",
   "execution_count": 55,
   "metadata": {
    "ExecuteTime": {
     "end_time": "2018-11-29T15:01:07.773006Z",
     "start_time": "2018-11-29T15:01:04.890006Z"
    }
   },
   "outputs": [],
   "source": [
    "orders['BRAND_SALES'] = [[(a, b) for a, b in list(zip(i, j))] for i, j in list(zip(orders['BRAND_list'], \n",
    "                                                                                   orders['SCM_SALES_BMF_list']))]"
   ]
  },
  {
   "cell_type": "code",
   "execution_count": 56,
   "metadata": {
    "ExecuteTime": {
     "end_time": "2018-11-29T15:01:38.572006Z",
     "start_time": "2018-11-29T15:01:07.774006Z"
    }
   },
   "outputs": [],
   "source": [
    "orders['PG3_AGGSALES'] = [sorted([(pg3, np.round(sum([sales_ for pg_3_, sales_ in i if pg3==pg_3_\n",
    "                                                        ]), 3)) \n",
    "                        for pg3 in set([pg_3 for pg_3, sales in i])], key= lambda x: x[1], reverse=True) \n",
    "                        for i in orders['PG3_SALES']]"
   ]
  },
  {
   "cell_type": "code",
   "execution_count": 57,
   "metadata": {
    "ExecuteTime": {
     "end_time": "2018-11-29T15:02:11.496006Z",
     "start_time": "2018-11-29T15:01:38.573006Z"
    }
   },
   "outputs": [],
   "source": [
    "orders['PG4_AGGSALES'] = [sorted([(pg4, np.round(sum([sales_ for pg_4_, sales_ in i if pg4==pg_4_\n",
    "                                                        ]), 3)) \n",
    "                        for pg4 in set([pg_4 for pg_4, sales in i])], key= lambda x: x[1], reverse=True) \n",
    "                        for i in orders['PG4_SALES']]"
   ]
  },
  {
   "cell_type": "code",
   "execution_count": 58,
   "metadata": {
    "ExecuteTime": {
     "end_time": "2018-11-29T15:02:45.343006Z",
     "start_time": "2018-11-29T15:02:11.497006Z"
    }
   },
   "outputs": [],
   "source": [
    "orders['BRAND_AGGSALES'] = [sorted([(brand_, np.round(sum([sales_ for brand__, sales_ in i if brand_== brand__\n",
    "                                                        ]), 3)) \n",
    "                        for brand_ in set([brand for brand, sales in i])], key= lambda x: x[1], reverse=True) \n",
    "                        for i in orders['BRAND_SALES']]"
   ]
  },
  {
   "cell_type": "code",
   "execution_count": 59,
   "metadata": {
    "ExecuteTime": {
     "end_time": "2018-11-29T15:02:45.991006Z",
     "start_time": "2018-11-29T15:02:45.344006Z"
    }
   },
   "outputs": [
    {
     "data": {
      "text/html": [
       "<div>\n",
       "<style scoped>\n",
       "    .dataframe tbody tr th:only-of-type {\n",
       "        vertical-align: middle;\n",
       "    }\n",
       "\n",
       "    .dataframe tbody tr th {\n",
       "        vertical-align: top;\n",
       "    }\n",
       "\n",
       "    .dataframe thead th {\n",
       "        text-align: right;\n",
       "    }\n",
       "</style>\n",
       "<table border=\"1\" class=\"dataframe\">\n",
       "  <thead>\n",
       "    <tr style=\"text-align: right;\">\n",
       "      <th></th>\n",
       "      <th>SCM_SALES_BMF_list</th>\n",
       "      <th>SCM_AP_ID_list</th>\n",
       "      <th>SP_DISC</th>\n",
       "      <th>L3_PG_ID_list</th>\n",
       "      <th>PG3_SALES</th>\n",
       "      <th>PG3_AGGSALES</th>\n",
       "      <th>L4_PG_ID_list</th>\n",
       "      <th>PG4_SALES</th>\n",
       "      <th>PG4_AGGSALES</th>\n",
       "      <th>BRAND_list</th>\n",
       "      <th>BRAND_SALES</th>\n",
       "      <th>BRAND_AGGSALES</th>\n",
       "    </tr>\n",
       "  </thead>\n",
       "  <tbody>\n",
       "    <tr>\n",
       "      <th>279126</th>\n",
       "      <td>[7.49, -7.02, 112.99, 1.99, 17.99]</td>\n",
       "      <td>[50858, 0, 68571, 54350, 23805]</td>\n",
       "      <td>False</td>\n",
       "      <td>[18, 0, 251, 409, 2190]</td>\n",
       "      <td>[(18, 7.49), (0, -7.02), (251, 112.99), (409, ...</td>\n",
       "      <td>[(251, 112.99), (2190, 17.99), (18, 7.49), (40...</td>\n",
       "      <td>[1441, 0, 81396, 2613, 443]</td>\n",
       "      <td>[(1441, 7.49), (0, -7.02), (81396, 112.99), (2...</td>\n",
       "      <td>[(81396, 112.99), (443, 17.99), (1441, 7.49), ...</td>\n",
       "      <td>[Fleischstreifen &amp; Fleischsticks, nan, Royal C...</td>\n",
       "      <td>[(Fleischstreifen &amp; Fleischsticks, 7.49), (nan...</td>\n",
       "      <td>[(Royal Canin Veterinary Diet, 112.99), (Autos...</td>\n",
       "    </tr>\n",
       "    <tr>\n",
       "      <th>393530</th>\n",
       "      <td>[1.99, 19.99, 27.99]</td>\n",
       "      <td>[65409, 58898, 64674]</td>\n",
       "      <td>False</td>\n",
       "      <td>[34, 252, 857]</td>\n",
       "      <td>[(34, 1.99), (252, 19.99), (857, 27.99)]</td>\n",
       "      <td>[(857, 27.99), (252, 19.99), (34, 1.99)]</td>\n",
       "      <td>[1559, 286, 151599]</td>\n",
       "      <td>[(1559, 1.99), (286, 19.99), (151599, 27.99)]</td>\n",
       "      <td>[(151599, 27.99), (286, 19.99), (1559, 1.99)]</td>\n",
       "      <td>[Pasten &amp; Cremes, Pro Plan, Hill's Prescriptio...</td>\n",
       "      <td>[(Pasten &amp; Cremes, 1.99), (Pro Plan, 19.99), (...</td>\n",
       "      <td>[(Hill's Prescription Diet, 27.99), (Pro Plan,...</td>\n",
       "    </tr>\n",
       "    <tr>\n",
       "      <th>177602</th>\n",
       "      <td>[15.99, 8.99, 14.89]</td>\n",
       "      <td>[19045, 56963, 61246]</td>\n",
       "      <td>False</td>\n",
       "      <td>[1540, 2068, 252]</td>\n",
       "      <td>[(1540, 15.99), (2068, 8.99), (252, 14.89)]</td>\n",
       "      <td>[(1540, 15.99), (252, 14.89), (2068, 8.99)]</td>\n",
       "      <td>[1555, 2072, 683]</td>\n",
       "      <td>[(1555, 15.99), (2072, 8.99), (683, 14.89)]</td>\n",
       "      <td>[(1555, 15.99), (683, 14.89), (2072, 8.99)]</td>\n",
       "      <td>[Katzenhöhlen, Gourmet Gold, Royal Canin]</td>\n",
       "      <td>[(Katzenhöhlen, 15.99), (Gourmet Gold, 8.99), ...</td>\n",
       "      <td>[(Katzenhöhlen, 15.99), (Royal Canin, 14.89), ...</td>\n",
       "    </tr>\n",
       "    <tr>\n",
       "      <th>1005865</th>\n",
       "      <td>[0.0, 0.0, 74.99]</td>\n",
       "      <td>[9795, 60527, 57805]</td>\n",
       "      <td>False</td>\n",
       "      <td>[3156, 15, 252]</td>\n",
       "      <td>[(3156, 0.0), (15, 0.0), (252, 74.99)]</td>\n",
       "      <td>[(252, 74.99), (3156, 0.0), (15, 0.0)]</td>\n",
       "      <td>[3880, 2224, 31963]</td>\n",
       "      <td>[(3880, 0.0), (2224, 0.0), (31963, 74.99)]</td>\n",
       "      <td>[(31963, 74.99), (3880, 0.0), (2224, 0.0)]</td>\n",
       "      <td>[alte Praemien, Hundehalsband-Anhänger, Hill's...</td>\n",
       "      <td>[(alte Praemien, 0.0), (Hundehalsband-Anhänger...</td>\n",
       "      <td>[(Hill's Prescription Diet, 74.99), (Hundehals...</td>\n",
       "    </tr>\n",
       "    <tr>\n",
       "      <th>384640</th>\n",
       "      <td>[4.99, 55.99, -3.05, 2.9]</td>\n",
       "      <td>[42225, 68336, 0, 0]</td>\n",
       "      <td>True</td>\n",
       "      <td>[48963, 251, 0, 0]</td>\n",
       "      <td>[(48963, 4.99), (251, 55.99), (0, -3.05), (0, ...</td>\n",
       "      <td>[(251, 55.99), (48963, 4.99), (0, -0.15)]</td>\n",
       "      <td>[0, 35825, 0, 0]</td>\n",
       "      <td>[(0, 4.99), (35825, 55.99), (0, -3.05), (0, 2.9)]</td>\n",
       "      <td>[(35825, 55.99), (0, 4.84)]</td>\n",
       "      <td>[unknown, Taste of the Wild, nan, nan]</td>\n",
       "      <td>[(unknown, 4.99), (Taste of the Wild, 55.99), ...</td>\n",
       "      <td>[(Taste of the Wild, 55.99), (unknown, 4.99), ...</td>\n",
       "    </tr>\n",
       "    <tr>\n",
       "      <th>774895</th>\n",
       "      <td>[38.99, 37.98]</td>\n",
       "      <td>[75031, 67609]</td>\n",
       "      <td>False</td>\n",
       "      <td>[29, 29]</td>\n",
       "      <td>[(29, 38.99), (29, 37.98)]</td>\n",
       "      <td>[(29, 76.97)]</td>\n",
       "      <td>[35032, 35032]</td>\n",
       "      <td>[(35032, 38.99), (35032, 37.98)]</td>\n",
       "      <td>[(35032, 76.97)]</td>\n",
       "      <td>[Feliway, Feliway]</td>\n",
       "      <td>[(Feliway, 38.99), (Feliway, 37.98)]</td>\n",
       "      <td>[(Feliway, 76.97)]</td>\n",
       "    </tr>\n",
       "    <tr>\n",
       "      <th>745694</th>\n",
       "      <td>[1.99, 11.98, 2.49, 29.99, 0.99]</td>\n",
       "      <td>[10048, 65486, 35795, 48719, 57422]</td>\n",
       "      <td>False</td>\n",
       "      <td>[18, 23, 34, 251, 36]</td>\n",
       "      <td>[(18, 1.99), (23, 11.98), (34, 2.49), (251, 29...</td>\n",
       "      <td>[(251, 29.99), (23, 11.98), (34, 2.49), (18, 1...</td>\n",
       "      <td>[394, 50014, 71978, 757, 679]</td>\n",
       "      <td>[(394, 1.99), (50014, 11.98), (71978, 2.49), (...</td>\n",
       "      <td>[(757, 29.99), (50014, 11.98), (71978, 2.49), ...</td>\n",
       "      <td>[Zahnpflege Snacks, aus Wellpappe, Knuspersnac...</td>\n",
       "      <td>[(Zahnpflege Snacks, 1.99), (aus Wellpappe, 11...</td>\n",
       "      <td>[(Meradog, 29.99), (aus Wellpappe, 11.98), (Kn...</td>\n",
       "    </tr>\n",
       "    <tr>\n",
       "      <th>406256</th>\n",
       "      <td>[3.5, 3.49, 43.99, 9.99, 6.99, 2.99, 1.99]</td>\n",
       "      <td>[67738, 67301, 61197, 26186, 35795, 4975, 6971]</td>\n",
       "      <td>False</td>\n",
       "      <td>[2068, 2068, 252, 36, 34, 409, 29]</td>\n",
       "      <td>[(2068, 3.5), (2068, 3.49), (252, 43.99), (36,...</td>\n",
       "      <td>[(252, 43.99), (36, 9.99), (34, 6.99), (2068, ...</td>\n",
       "      <td>[10728, 10728, 683, 17752, 71978, 954, 118]</td>\n",
       "      <td>[(10728, 3.5), (10728, 3.49), (683, 43.99), (1...</td>\n",
       "      <td>[(683, 43.99), (17752, 9.99), (10728, 6.99), (...</td>\n",
       "      <td>[Whiskas, Whiskas, Royal Canin, Beschäftigung,...</td>\n",
       "      <td>[(Whiskas, 3.5), (Whiskas, 3.49), (Royal Canin...</td>\n",
       "      <td>[(Royal Canin, 43.99), (Beschäftigung, 9.99), ...</td>\n",
       "    </tr>\n",
       "    <tr>\n",
       "      <th>176021</th>\n",
       "      <td>[9.99, 16.79, 3.99]</td>\n",
       "      <td>[57311, 68384, 0]</td>\n",
       "      <td>False</td>\n",
       "      <td>[18, 207553, 0]</td>\n",
       "      <td>[(18, 9.99), (207553, 16.79), (0, 3.99)]</td>\n",
       "      <td>[(207553, 16.79), (18, 9.99), (0, 3.99)]</td>\n",
       "      <td>[948, 207615, 0]</td>\n",
       "      <td>[(948, 9.99), (207615, 16.79), (0, 3.99)]</td>\n",
       "      <td>[(207615, 16.79), (948, 9.99), (0, 3.99)]</td>\n",
       "      <td>[Kaurolle &amp; Kaustange, Halsband, nan]</td>\n",
       "      <td>[(Kaurolle &amp; Kaustange, 9.99), (Halsband, 16.7...</td>\n",
       "      <td>[(Halsband, 16.79), (Kaurolle &amp; Kaustange, 9.9...</td>\n",
       "    </tr>\n",
       "    <tr>\n",
       "      <th>501268</th>\n",
       "      <td>[49.99, 49.99, -14.67, 157.99, 8.99, 36.99, 21...</td>\n",
       "      <td>[71155, 71155, 0, 69771, 64222, 68470, 70927, 0]</td>\n",
       "      <td>True</td>\n",
       "      <td>[251, 251, 0, 1400, 18, 207553, 857, 0]</td>\n",
       "      <td>[(251, 49.99), (251, 49.99), (0, -14.67), (140...</td>\n",
       "      <td>[(1400, 157.99), (251, 99.98), (207553, 36.99)...</td>\n",
       "      <td>[71709, 71709, 0, 1413, 1305, 207615, 151599, 0]</td>\n",
       "      <td>[(71709, 49.99), (71709, 49.99), (0, -14.67), ...</td>\n",
       "      <td>[(1413, 157.99), (71709, 99.98), (207615, 36.9...</td>\n",
       "      <td>[Affinity Advance, Affinity Advance, nan, Gele...</td>\n",
       "      <td>[(Affinity Advance, 49.99), (Affinity Advance,...</td>\n",
       "      <td>[(Gelenke &amp; Knochen, 157.99), (Affinity Advanc...</td>\n",
       "    </tr>\n",
       "  </tbody>\n",
       "</table>\n",
       "</div>"
      ],
      "text/plain": [
       "                                        SCM_SALES_BMF_list  \\\n",
       "279126                  [7.49, -7.02, 112.99, 1.99, 17.99]   \n",
       "393530                                [1.99, 19.99, 27.99]   \n",
       "177602                                [15.99, 8.99, 14.89]   \n",
       "1005865                                  [0.0, 0.0, 74.99]   \n",
       "384640                           [4.99, 55.99, -3.05, 2.9]   \n",
       "774895                                      [38.99, 37.98]   \n",
       "745694                    [1.99, 11.98, 2.49, 29.99, 0.99]   \n",
       "406256          [3.5, 3.49, 43.99, 9.99, 6.99, 2.99, 1.99]   \n",
       "176021                                 [9.99, 16.79, 3.99]   \n",
       "501268   [49.99, 49.99, -14.67, 157.99, 8.99, 36.99, 21...   \n",
       "\n",
       "                                           SCM_AP_ID_list  SP_DISC  \\\n",
       "279126                    [50858, 0, 68571, 54350, 23805]    False   \n",
       "393530                              [65409, 58898, 64674]    False   \n",
       "177602                              [19045, 56963, 61246]    False   \n",
       "1005865                              [9795, 60527, 57805]    False   \n",
       "384640                               [42225, 68336, 0, 0]     True   \n",
       "774895                                     [75031, 67609]    False   \n",
       "745694                [10048, 65486, 35795, 48719, 57422]    False   \n",
       "406256    [67738, 67301, 61197, 26186, 35795, 4975, 6971]    False   \n",
       "176021                                  [57311, 68384, 0]    False   \n",
       "501268   [71155, 71155, 0, 69771, 64222, 68470, 70927, 0]     True   \n",
       "\n",
       "                                   L3_PG_ID_list  \\\n",
       "279126                   [18, 0, 251, 409, 2190]   \n",
       "393530                            [34, 252, 857]   \n",
       "177602                         [1540, 2068, 252]   \n",
       "1005865                          [3156, 15, 252]   \n",
       "384640                        [48963, 251, 0, 0]   \n",
       "774895                                  [29, 29]   \n",
       "745694                     [18, 23, 34, 251, 36]   \n",
       "406256        [2068, 2068, 252, 36, 34, 409, 29]   \n",
       "176021                           [18, 207553, 0]   \n",
       "501268   [251, 251, 0, 1400, 18, 207553, 857, 0]   \n",
       "\n",
       "                                                 PG3_SALES  \\\n",
       "279126   [(18, 7.49), (0, -7.02), (251, 112.99), (409, ...   \n",
       "393530            [(34, 1.99), (252, 19.99), (857, 27.99)]   \n",
       "177602         [(1540, 15.99), (2068, 8.99), (252, 14.89)]   \n",
       "1005865             [(3156, 0.0), (15, 0.0), (252, 74.99)]   \n",
       "384640   [(48963, 4.99), (251, 55.99), (0, -3.05), (0, ...   \n",
       "774895                          [(29, 38.99), (29, 37.98)]   \n",
       "745694   [(18, 1.99), (23, 11.98), (34, 2.49), (251, 29...   \n",
       "406256   [(2068, 3.5), (2068, 3.49), (252, 43.99), (36,...   \n",
       "176021            [(18, 9.99), (207553, 16.79), (0, 3.99)]   \n",
       "501268   [(251, 49.99), (251, 49.99), (0, -14.67), (140...   \n",
       "\n",
       "                                              PG3_AGGSALES  \\\n",
       "279126   [(251, 112.99), (2190, 17.99), (18, 7.49), (40...   \n",
       "393530            [(857, 27.99), (252, 19.99), (34, 1.99)]   \n",
       "177602         [(1540, 15.99), (252, 14.89), (2068, 8.99)]   \n",
       "1005865             [(252, 74.99), (3156, 0.0), (15, 0.0)]   \n",
       "384640           [(251, 55.99), (48963, 4.99), (0, -0.15)]   \n",
       "774895                                       [(29, 76.97)]   \n",
       "745694   [(251, 29.99), (23, 11.98), (34, 2.49), (18, 1...   \n",
       "406256   [(252, 43.99), (36, 9.99), (34, 6.99), (2068, ...   \n",
       "176021            [(207553, 16.79), (18, 9.99), (0, 3.99)]   \n",
       "501268   [(1400, 157.99), (251, 99.98), (207553, 36.99)...   \n",
       "\n",
       "                                            L4_PG_ID_list  \\\n",
       "279126                        [1441, 0, 81396, 2613, 443]   \n",
       "393530                                [1559, 286, 151599]   \n",
       "177602                                  [1555, 2072, 683]   \n",
       "1005865                               [3880, 2224, 31963]   \n",
       "384640                                   [0, 35825, 0, 0]   \n",
       "774895                                     [35032, 35032]   \n",
       "745694                      [394, 50014, 71978, 757, 679]   \n",
       "406256        [10728, 10728, 683, 17752, 71978, 954, 118]   \n",
       "176021                                   [948, 207615, 0]   \n",
       "501268   [71709, 71709, 0, 1413, 1305, 207615, 151599, 0]   \n",
       "\n",
       "                                                 PG4_SALES  \\\n",
       "279126   [(1441, 7.49), (0, -7.02), (81396, 112.99), (2...   \n",
       "393530       [(1559, 1.99), (286, 19.99), (151599, 27.99)]   \n",
       "177602         [(1555, 15.99), (2072, 8.99), (683, 14.89)]   \n",
       "1005865         [(3880, 0.0), (2224, 0.0), (31963, 74.99)]   \n",
       "384640   [(0, 4.99), (35825, 55.99), (0, -3.05), (0, 2.9)]   \n",
       "774895                    [(35032, 38.99), (35032, 37.98)]   \n",
       "745694   [(394, 1.99), (50014, 11.98), (71978, 2.49), (...   \n",
       "406256   [(10728, 3.5), (10728, 3.49), (683, 43.99), (1...   \n",
       "176021           [(948, 9.99), (207615, 16.79), (0, 3.99)]   \n",
       "501268   [(71709, 49.99), (71709, 49.99), (0, -14.67), ...   \n",
       "\n",
       "                                              PG4_AGGSALES  \\\n",
       "279126   [(81396, 112.99), (443, 17.99), (1441, 7.49), ...   \n",
       "393530       [(151599, 27.99), (286, 19.99), (1559, 1.99)]   \n",
       "177602         [(1555, 15.99), (683, 14.89), (2072, 8.99)]   \n",
       "1005865         [(31963, 74.99), (3880, 0.0), (2224, 0.0)]   \n",
       "384640                         [(35825, 55.99), (0, 4.84)]   \n",
       "774895                                    [(35032, 76.97)]   \n",
       "745694   [(757, 29.99), (50014, 11.98), (71978, 2.49), ...   \n",
       "406256   [(683, 43.99), (17752, 9.99), (10728, 6.99), (...   \n",
       "176021           [(207615, 16.79), (948, 9.99), (0, 3.99)]   \n",
       "501268   [(1413, 157.99), (71709, 99.98), (207615, 36.9...   \n",
       "\n",
       "                                                BRAND_list  \\\n",
       "279126   [Fleischstreifen & Fleischsticks, nan, Royal C...   \n",
       "393530   [Pasten & Cremes, Pro Plan, Hill's Prescriptio...   \n",
       "177602           [Katzenhöhlen, Gourmet Gold, Royal Canin]   \n",
       "1005865  [alte Praemien, Hundehalsband-Anhänger, Hill's...   \n",
       "384640              [unknown, Taste of the Wild, nan, nan]   \n",
       "774895                                  [Feliway, Feliway]   \n",
       "745694   [Zahnpflege Snacks, aus Wellpappe, Knuspersnac...   \n",
       "406256   [Whiskas, Whiskas, Royal Canin, Beschäftigung,...   \n",
       "176021               [Kaurolle & Kaustange, Halsband, nan]   \n",
       "501268   [Affinity Advance, Affinity Advance, nan, Gele...   \n",
       "\n",
       "                                               BRAND_SALES  \\\n",
       "279126   [(Fleischstreifen & Fleischsticks, 7.49), (nan...   \n",
       "393530   [(Pasten & Cremes, 1.99), (Pro Plan, 19.99), (...   \n",
       "177602   [(Katzenhöhlen, 15.99), (Gourmet Gold, 8.99), ...   \n",
       "1005865  [(alte Praemien, 0.0), (Hundehalsband-Anhänger...   \n",
       "384640   [(unknown, 4.99), (Taste of the Wild, 55.99), ...   \n",
       "774895                [(Feliway, 38.99), (Feliway, 37.98)]   \n",
       "745694   [(Zahnpflege Snacks, 1.99), (aus Wellpappe, 11...   \n",
       "406256   [(Whiskas, 3.5), (Whiskas, 3.49), (Royal Canin...   \n",
       "176021   [(Kaurolle & Kaustange, 9.99), (Halsband, 16.7...   \n",
       "501268   [(Affinity Advance, 49.99), (Affinity Advance,...   \n",
       "\n",
       "                                            BRAND_AGGSALES  \n",
       "279126   [(Royal Canin Veterinary Diet, 112.99), (Autos...  \n",
       "393530   [(Hill's Prescription Diet, 27.99), (Pro Plan,...  \n",
       "177602   [(Katzenhöhlen, 15.99), (Royal Canin, 14.89), ...  \n",
       "1005865  [(Hill's Prescription Diet, 74.99), (Hundehals...  \n",
       "384640   [(Taste of the Wild, 55.99), (unknown, 4.99), ...  \n",
       "774895                                  [(Feliway, 76.97)]  \n",
       "745694   [(Meradog, 29.99), (aus Wellpappe, 11.98), (Kn...  \n",
       "406256   [(Royal Canin, 43.99), (Beschäftigung, 9.99), ...  \n",
       "176021   [(Halsband, 16.79), (Kaurolle & Kaustange, 9.9...  \n",
       "501268   [(Gelenke & Knochen, 157.99), (Affinity Advanc...  "
      ]
     },
     "execution_count": 59,
     "metadata": {},
     "output_type": "execute_result"
    }
   ],
   "source": [
    "orders.sample(10)[['SCM_SALES_BMF_list', 'SCM_AP_ID_list', 'SP_DISC', 'L3_PG_ID_list', 'PG3_SALES', 'PG3_AGGSALES', \n",
    "                   'L4_PG_ID_list', 'PG4_SALES', 'PG4_AGGSALES', 'BRAND_list', 'BRAND_SALES', 'BRAND_AGGSALES']]"
   ]
  },
  {
   "cell_type": "code",
   "execution_count": 60,
   "metadata": {
    "ExecuteTime": {
     "end_time": "2018-11-29T15:03:28.368006Z",
     "start_time": "2018-11-29T15:02:45.993006Z"
    }
   },
   "outputs": [],
   "source": [
    "#orders.to_pickle(\"./one_year_aggregated_orders_es_shop_sp_cross_selling_v2.pkl\")"
   ]
  },
  {
   "cell_type": "markdown",
   "metadata": {},
   "source": [
    "### Customer level"
   ]
  },
  {
   "cell_type": "code",
   "execution_count": 61,
   "metadata": {
    "ExecuteTime": {
     "end_time": "2018-11-29T15:03:28.374006Z",
     "start_time": "2018-11-29T15:03:28.369006Z"
    }
   },
   "outputs": [],
   "source": [
    "orders = pd.read_pickle(\"./one_year_aggregated_orders_es_shop_sp_cross_selling_v2.pkl\")"
   ]
  },
  {
   "cell_type": "code",
   "execution_count": 62,
   "metadata": {
    "ExecuteTime": {
     "end_time": "2018-11-29T15:03:28.397006Z",
     "start_time": "2018-11-29T15:03:28.376006Z"
    }
   },
   "outputs": [
    {
     "data": {
      "text/plain": [
       "Index(['SCM_N_ORDER_NR', 'TDT_T_KEY_ORDER_DATE', 'CUS_N_KEY_CUSTOMER',\n",
       "       'SCM_SALES_BMF_sum', 'SCM_SALES_BMF_list', 'SCM_D_FINANCE_CM1',\n",
       "       'SCM_D_FINANCE_CM2', 'SCM_D_ORIG_FINANCE_ORDER_NET', 'OSP_KO_COUNT_NET',\n",
       "       'SCM_AP_ID_list', 'L4_PG_ID_list', 'BRAND_list',\n",
       "       'PPR_V_LEVEL4_DESC_list', 'L3_PG_ID_list', 'SCM_AS_ID_list',\n",
       "       'LEAD_AS_ID', 'SCM_MASTER_AP_ID_list', 'CZP_ZTQ_ID', 'CZP_START_DATE',\n",
       "       'CZP_EXPIRY_DATE', 'ORDER_DATETIME', 'FIRST_O_DATE', 'LAST_O_DATE',\n",
       "       '1ST_O_COUNTER', 'D28', 'D56', 'D84', 'D168', 'D252', 'D336',\n",
       "       'SP_PURCHASE', 'SP_DISC', 'PG3_SALES', 'PG4_SALES', 'BRAND_SALES',\n",
       "       'PG3_AGGSALES', 'PG4_AGGSALES', 'BRAND_AGGSALES'],\n",
       "      dtype='object')"
      ]
     },
     "execution_count": 62,
     "metadata": {},
     "output_type": "execute_result"
    }
   ],
   "source": [
    "orders.columns"
   ]
  },
  {
   "cell_type": "code",
   "execution_count": 63,
   "metadata": {
    "ExecuteTime": {
     "end_time": "2018-11-29T15:03:28.421006Z",
     "start_time": "2018-11-29T15:03:28.398006Z"
    }
   },
   "outputs": [],
   "source": [
    "agg_ord_ops = {\n",
    "              'SCM_N_ORDER_NR': len,\n",
    "              'TDT_T_KEY_ORDER_DATE': lambda x: list(x.dt.date),\n",
    "              'SCM_SALES_BMF_sum': [sum, lambda x: list(np.round(x, 2))],\n",
    "              'SCM_D_FINANCE_CM1': [sum, lambda x: list(np.round(x, 2))],\n",
    "              'SCM_D_FINANCE_CM2': [sum, lambda x: list(np.round(x, 2))],\n",
    "              'SCM_D_ORIG_FINANCE_ORDER_NET': [sum, lambda x: list(np.round(x, 2))],\n",
    "              'OSP_KO_COUNT_NET': lambda x: list(x),\n",
    "              'SCM_MASTER_AP_ID_list': lambda x: list(x),\n",
    "              'CZP_ZTQ_ID': lambda x: list(set(list(x))),\n",
    "              'CZP_START_DATE': lambda x: list(set(list(x.dt.date))),\n",
    "              'CZP_EXPIRY_DATE': lambda x: list(set(list(x.dt.date))),\n",
    "              'PG3_AGGSALES': lambda x: list(x),\n",
    "              'PG4_AGGSALES': lambda x: list(x),\n",
    "              'BRAND_AGGSALES': lambda x: list(x),\n",
    "              'SP_PURCHASE': lambda x: list(x),\n",
    "              'SP_DISC': lambda x: list(x),\n",
    "              'D28': max,\n",
    "              'D56': max,\n",
    "              'D84': max,\n",
    "              'D168': max,\n",
    "              'D252': max,\n",
    "              'D336': max\n",
    "              }"
   ]
  },
  {
   "cell_type": "code",
   "execution_count": 64,
   "metadata": {
    "ExecuteTime": {
     "end_time": "2018-11-29T15:11:43.967006Z",
     "start_time": "2018-11-29T15:03:28.423006Z"
    }
   },
   "outputs": [],
   "source": [
    "customers = orders.groupby('CUS_N_KEY_CUSTOMER', as_index=False).agg(agg_ord_ops).round(2)"
   ]
  },
  {
   "cell_type": "code",
   "execution_count": 65,
   "metadata": {
    "ExecuteTime": {
     "end_time": "2018-11-29T15:11:43.972006Z",
     "start_time": "2018-11-29T15:11:43.968006Z"
    }
   },
   "outputs": [],
   "source": [
    "customers.columns = ['_'.join(tup).rstrip('_') for tup in customers.columns.values]"
   ]
  },
  {
   "cell_type": "code",
   "execution_count": 66,
   "metadata": {
    "ExecuteTime": {
     "end_time": "2018-11-29T15:11:43.991006Z",
     "start_time": "2018-11-29T15:11:43.974006Z"
    }
   },
   "outputs": [],
   "source": [
    "customers.columns = ['CUS_N_KEY_CUSTOMER', 'SCM_N_ORDER_NR_len',\n",
    "       'TDT_T_KEY_ORDER_DATE_list', 'SCM_SALES_BMF_sum',\n",
    "       'SCM_SALES_BMF_list', 'SCM_D_FINANCE_CM1_sum',\n",
    "       'SCM_D_FINANCE_CM1_list', 'SCM_D_FINANCE_CM2_sum',\n",
    "       'SCM_D_FINANCE_CM2_list', 'SCM_D_ORIG_FINANCE_ORDER_NET_sum',\n",
    "       'SCM_D_ORIG_FINANCE_ORDER_NET_list', 'OSP_KO_COUNT_NET_list',\n",
    "       'SCM_MASTER_AP_ID_list', 'CZP_ZTQ_ID',\n",
    "       'CZP_START_DATE', 'CZP_EXPIRY_DATE',\n",
    "       'PG3_AGGSALES', 'PG4_AGGSALES',\n",
    "       'BRAND_AGGSALES', 'SP_PURCHASE', 'SP_DISC', 'D28', 'D56', 'D84', 'D168',\n",
    "       'D252', 'D336']"
   ]
  },
  {
   "cell_type": "code",
   "execution_count": 67,
   "metadata": {
    "ExecuteTime": {
     "end_time": "2018-11-29T15:11:44.409006Z",
     "start_time": "2018-11-29T15:11:43.993006Z"
    }
   },
   "outputs": [],
   "source": [
    "customers['O_TIMEDELTAS'] = [[(i - j).days for i, j in list(zip(o_list[1:], o_list[:-1]))] \n",
    "                             for o_list in customers['TDT_T_KEY_ORDER_DATE_list'].values]"
   ]
  },
  {
   "cell_type": "code",
   "execution_count": 68,
   "metadata": {
    "ExecuteTime": {
     "end_time": "2018-11-29T15:11:45.135006Z",
     "start_time": "2018-11-29T15:11:44.410006Z"
    }
   },
   "outputs": [],
   "source": [
    "customers['FLAT_PG3_SALES'] = [[k for j in i for k in j] for i in customers['PG3_AGGSALES'].values]"
   ]
  },
  {
   "cell_type": "code",
   "execution_count": 69,
   "metadata": {
    "ExecuteTime": {
     "end_time": "2018-11-29T15:11:45.807006Z",
     "start_time": "2018-11-29T15:11:45.136006Z"
    }
   },
   "outputs": [],
   "source": [
    "customers['FLAT_PG4_SALES'] = [[k for j in i for k in j] for i in customers['PG4_AGGSALES'].values]"
   ]
  },
  {
   "cell_type": "code",
   "execution_count": 70,
   "metadata": {
    "ExecuteTime": {
     "end_time": "2018-11-29T15:11:46.461006Z",
     "start_time": "2018-11-29T15:11:45.809006Z"
    }
   },
   "outputs": [],
   "source": [
    "customers['FLAT_BRAND_SALES'] = [[k for j in i for k in j] for i in customers['BRAND_AGGSALES'].values]"
   ]
  },
  {
   "cell_type": "code",
   "execution_count": 71,
   "metadata": {
    "ExecuteTime": {
     "end_time": "2018-11-29T15:11:58.966006Z",
     "start_time": "2018-11-29T15:11:46.462006Z"
    }
   },
   "outputs": [],
   "source": [
    "customers['TOTAL_PG3_SALES'] = [sorted([(pg3, np.round(sum([sales_ for pg_3_, sales_ in i if pg3==pg_3_\n",
    "                                                        ]), 3)) \n",
    "                                for pg3 in set([pg_3 for pg_3, sales in i])], key= lambda x: x[1], reverse=True) \n",
    "                                for i in customers['FLAT_PG3_SALES']]"
   ]
  },
  {
   "cell_type": "code",
   "execution_count": 72,
   "metadata": {
    "ExecuteTime": {
     "end_time": "2018-11-29T15:12:13.896006Z",
     "start_time": "2018-11-29T15:11:58.967006Z"
    }
   },
   "outputs": [],
   "source": [
    "customers['TOTAL_PG4_SALES'] = [sorted([(pg4, np.round(sum([sales_ for pg_4_, sales_ in i if pg4==pg_4_\n",
    "                                                        ]), 3)) \n",
    "                                for pg4 in set([pg_4 for pg_4, sales in i])], key= lambda x: x[1], reverse=True) \n",
    "                                for i in customers['FLAT_PG4_SALES']]"
   ]
  },
  {
   "cell_type": "code",
   "execution_count": 73,
   "metadata": {
    "ExecuteTime": {
     "end_time": "2018-11-29T15:12:29.692006Z",
     "start_time": "2018-11-29T15:12:13.898006Z"
    }
   },
   "outputs": [],
   "source": [
    "customers['TOTAL_BRAND_SALES'] = [sorted([(brand_, np.round(sum([sales_ for brand__, sales_ in i if brand_== brand__\n",
    "                                                        ]), 3)) \n",
    "                                for brand_ in set([brand for brand, sales in i])], key= lambda x: x[1], reverse=True) \n",
    "                                for i in customers['FLAT_BRAND_SALES']]"
   ]
  },
  {
   "cell_type": "code",
   "execution_count": 74,
   "metadata": {
    "ExecuteTime": {
     "end_time": "2018-11-29T15:13:21.183006Z",
     "start_time": "2018-11-29T15:12:29.693006Z"
    }
   },
   "outputs": [],
   "source": [
    "#customers.to_pickle(\"./customers_es_shop_sp_cross_selling_v2.pkl\")"
   ]
  },
  {
   "cell_type": "code",
   "execution_count": 75,
   "metadata": {
    "ExecuteTime": {
     "end_time": "2018-11-29T15:13:21.268006Z",
     "start_time": "2018-11-29T15:13:21.184006Z"
    }
   },
   "outputs": [],
   "source": [
    "del customers['FLAT_PG3_SALES']"
   ]
  },
  {
   "cell_type": "code",
   "execution_count": 76,
   "metadata": {
    "ExecuteTime": {
     "end_time": "2018-11-29T15:13:21.350006Z",
     "start_time": "2018-11-29T15:13:21.269006Z"
    }
   },
   "outputs": [],
   "source": [
    "del customers['FLAT_PG4_SALES']"
   ]
  },
  {
   "cell_type": "code",
   "execution_count": 77,
   "metadata": {
    "ExecuteTime": {
     "end_time": "2018-11-29T15:13:21.431006Z",
     "start_time": "2018-11-29T15:13:21.351006Z"
    }
   },
   "outputs": [],
   "source": [
    "del customers['FLAT_BRAND_SALES']"
   ]
  },
  {
   "cell_type": "markdown",
   "metadata": {},
   "source": [
    "### Framework"
   ]
  },
  {
   "cell_type": "markdown",
   "metadata": {},
   "source": [
    "***BRAND SPECIFIC SP ANALYSIS***"
   ]
  },
  {
   "cell_type": "code",
   "execution_count": 78,
   "metadata": {
    "ExecuteTime": {
     "end_time": "2018-11-29T15:13:21.457006Z",
     "start_time": "2018-11-29T15:13:21.432006Z"
    }
   },
   "outputs": [],
   "source": [
    "customers = pd.read_pickle(\"./customers_es_shop_sp_cross_selling_v2.pkl\")"
   ]
  },
  {
   "cell_type": "code",
   "execution_count": 79,
   "metadata": {
    "ExecuteTime": {
     "end_time": "2018-11-29T15:13:21.502006Z",
     "start_time": "2018-11-29T15:13:21.458006Z"
    }
   },
   "outputs": [
    {
     "data": {
      "text/html": [
       "<div>\n",
       "<style scoped>\n",
       "    .dataframe tbody tr th:only-of-type {\n",
       "        vertical-align: middle;\n",
       "    }\n",
       "\n",
       "    .dataframe tbody tr th {\n",
       "        vertical-align: top;\n",
       "    }\n",
       "\n",
       "    .dataframe thead th {\n",
       "        text-align: right;\n",
       "    }\n",
       "</style>\n",
       "<table border=\"1\" class=\"dataframe\">\n",
       "  <thead>\n",
       "    <tr style=\"text-align: right;\">\n",
       "      <th></th>\n",
       "      <th>CUS_N_KEY_CUSTOMER</th>\n",
       "      <th>SCM_N_ORDER_NR_len</th>\n",
       "      <th>TDT_T_KEY_ORDER_DATE_list</th>\n",
       "      <th>SCM_SALES_BMF_sum</th>\n",
       "      <th>SCM_SALES_BMF_list</th>\n",
       "      <th>SCM_D_FINANCE_CM1_sum</th>\n",
       "      <th>SCM_D_FINANCE_CM1_list</th>\n",
       "      <th>SCM_D_FINANCE_CM2_sum</th>\n",
       "      <th>SCM_D_FINANCE_CM2_list</th>\n",
       "      <th>SCM_D_ORIG_FINANCE_ORDER_NET_sum</th>\n",
       "      <th>SCM_D_ORIG_FINANCE_ORDER_NET_list</th>\n",
       "    </tr>\n",
       "  </thead>\n",
       "  <tbody>\n",
       "    <tr>\n",
       "      <th>0</th>\n",
       "      <td>1192658</td>\n",
       "      <td>8</td>\n",
       "      <td>[2017-03-21, 2017-03-21, 2017-03-21, 2017-03-2...</td>\n",
       "      <td>115.28</td>\n",
       "      <td>[23.98, 23.98, 21.68, 21.68, 5.99, 5.99, 5.99,...</td>\n",
       "      <td>72.04</td>\n",
       "      <td>[11.28, 11.28, 13.11, 13.11, 5.82, 5.82, 5.82,...</td>\n",
       "      <td>-33.72</td>\n",
       "      <td>[-15.14, -15.14, -13.36, -13.36, 5.82, 5.82, 5...</td>\n",
       "      <td>111.92</td>\n",
       "      <td>[23.28, 23.28, 21.05, 21.05, 5.82, 5.82, 5.82,...</td>\n",
       "    </tr>\n",
       "    <tr>\n",
       "      <th>1</th>\n",
       "      <td>1496305</td>\n",
       "      <td>1</td>\n",
       "      <td>[2016-03-15]</td>\n",
       "      <td>40.98</td>\n",
       "      <td>[40.98]</td>\n",
       "      <td>10.16</td>\n",
       "      <td>[10.16]</td>\n",
       "      <td>2.21</td>\n",
       "      <td>[2.21]</td>\n",
       "      <td>36.92</td>\n",
       "      <td>[36.92]</td>\n",
       "    </tr>\n",
       "    <tr>\n",
       "      <th>2</th>\n",
       "      <td>1515373</td>\n",
       "      <td>1</td>\n",
       "      <td>[2017-01-30]</td>\n",
       "      <td>130.47</td>\n",
       "      <td>[130.47]</td>\n",
       "      <td>24.45</td>\n",
       "      <td>[24.45]</td>\n",
       "      <td>15.92</td>\n",
       "      <td>[15.92]</td>\n",
       "      <td>118.61</td>\n",
       "      <td>[118.61]</td>\n",
       "    </tr>\n",
       "    <tr>\n",
       "      <th>3</th>\n",
       "      <td>1552542</td>\n",
       "      <td>24</td>\n",
       "      <td>[2015-07-02, 2015-08-03, 2015-09-02, 2015-10-0...</td>\n",
       "      <td>4583.40</td>\n",
       "      <td>[92.78, 186.18, 355.24, 54.47, 209.9, 148.14, ...</td>\n",
       "      <td>949.27</td>\n",
       "      <td>[12.53, 25.05, 58.93, 18.85, 30.1, 58.64, 44.7...</td>\n",
       "      <td>400.38</td>\n",
       "      <td>[6.38, 18.9, 46.49, 1.18, 23.47, 14.46, 20.91,...</td>\n",
       "      <td>3756.89</td>\n",
       "      <td>[76.05, 152.61, 291.18, 44.65, 172.05, 121.43,...</td>\n",
       "    </tr>\n",
       "    <tr>\n",
       "      <th>4</th>\n",
       "      <td>1572673</td>\n",
       "      <td>5</td>\n",
       "      <td>[2015-08-26, 2016-11-04, 2017-07-04, 2018-03-2...</td>\n",
       "      <td>264.62</td>\n",
       "      <td>[43.98, 41.76, 94.96, 49.98, 33.94]</td>\n",
       "      <td>92.66</td>\n",
       "      <td>[18.75, 14.05, 30.41, 14.84, 14.61]</td>\n",
       "      <td>50.83</td>\n",
       "      <td>[10.93, 5.59, 20.6, 7.02, 6.7]</td>\n",
       "      <td>240.56</td>\n",
       "      <td>[39.98, 37.96, 86.33, 45.44, 30.85]</td>\n",
       "    </tr>\n",
       "    <tr>\n",
       "      <th>5</th>\n",
       "      <td>1574571</td>\n",
       "      <td>3</td>\n",
       "      <td>[2016-03-04, 2016-04-12, 2016-05-23]</td>\n",
       "      <td>239.65</td>\n",
       "      <td>[62.89, 95.78, 80.98]</td>\n",
       "      <td>53.78</td>\n",
       "      <td>[12.94, 27.29, 13.55]</td>\n",
       "      <td>23.42</td>\n",
       "      <td>[3.98, 18.65, 0.78]</td>\n",
       "      <td>217.86</td>\n",
       "      <td>[57.17, 87.07, 73.62]</td>\n",
       "    </tr>\n",
       "    <tr>\n",
       "      <th>6</th>\n",
       "      <td>1646475</td>\n",
       "      <td>2</td>\n",
       "      <td>[2015-08-28, 2016-01-08]</td>\n",
       "      <td>75.91</td>\n",
       "      <td>[33.96, 41.95]</td>\n",
       "      <td>30.91</td>\n",
       "      <td>[14.19, 16.72]</td>\n",
       "      <td>15.64</td>\n",
       "      <td>[6.88, 8.76]</td>\n",
       "      <td>69.01</td>\n",
       "      <td>[30.87, 38.14]</td>\n",
       "    </tr>\n",
       "    <tr>\n",
       "      <th>7</th>\n",
       "      <td>1652016</td>\n",
       "      <td>1</td>\n",
       "      <td>[2016-08-31]</td>\n",
       "      <td>38.98</td>\n",
       "      <td>[38.98]</td>\n",
       "      <td>18.40</td>\n",
       "      <td>[18.4]</td>\n",
       "      <td>7.27</td>\n",
       "      <td>[7.27]</td>\n",
       "      <td>32.21</td>\n",
       "      <td>[32.21]</td>\n",
       "    </tr>\n",
       "    <tr>\n",
       "      <th>8</th>\n",
       "      <td>1664731</td>\n",
       "      <td>2</td>\n",
       "      <td>[2017-05-10, 2017-06-22]</td>\n",
       "      <td>102.78</td>\n",
       "      <td>[49.89, 52.89]</td>\n",
       "      <td>21.84</td>\n",
       "      <td>[9.46, 12.37]</td>\n",
       "      <td>4.95</td>\n",
       "      <td>[1.02, 3.93]</td>\n",
       "      <td>93.44</td>\n",
       "      <td>[45.35, 48.08]</td>\n",
       "    </tr>\n",
       "    <tr>\n",
       "      <th>9</th>\n",
       "      <td>1692365</td>\n",
       "      <td>1</td>\n",
       "      <td>[2016-05-31]</td>\n",
       "      <td>39.99</td>\n",
       "      <td>[39.99]</td>\n",
       "      <td>17.16</td>\n",
       "      <td>[17.16]</td>\n",
       "      <td>9.17</td>\n",
       "      <td>[9.17]</td>\n",
       "      <td>33.05</td>\n",
       "      <td>[33.05]</td>\n",
       "    </tr>\n",
       "  </tbody>\n",
       "</table>\n",
       "</div>"
      ],
      "text/plain": [
       "   CUS_N_KEY_CUSTOMER  SCM_N_ORDER_NR_len  \\\n",
       "0             1192658                   8   \n",
       "1             1496305                   1   \n",
       "2             1515373                   1   \n",
       "3             1552542                  24   \n",
       "4             1572673                   5   \n",
       "5             1574571                   3   \n",
       "6             1646475                   2   \n",
       "7             1652016                   1   \n",
       "8             1664731                   2   \n",
       "9             1692365                   1   \n",
       "\n",
       "                           TDT_T_KEY_ORDER_DATE_list  SCM_SALES_BMF_sum  \\\n",
       "0  [2017-03-21, 2017-03-21, 2017-03-21, 2017-03-2...             115.28   \n",
       "1                                       [2016-03-15]              40.98   \n",
       "2                                       [2017-01-30]             130.47   \n",
       "3  [2015-07-02, 2015-08-03, 2015-09-02, 2015-10-0...            4583.40   \n",
       "4  [2015-08-26, 2016-11-04, 2017-07-04, 2018-03-2...             264.62   \n",
       "5               [2016-03-04, 2016-04-12, 2016-05-23]             239.65   \n",
       "6                           [2015-08-28, 2016-01-08]              75.91   \n",
       "7                                       [2016-08-31]              38.98   \n",
       "8                           [2017-05-10, 2017-06-22]             102.78   \n",
       "9                                       [2016-05-31]              39.99   \n",
       "\n",
       "                                  SCM_SALES_BMF_list  SCM_D_FINANCE_CM1_sum  \\\n",
       "0  [23.98, 23.98, 21.68, 21.68, 5.99, 5.99, 5.99,...                  72.04   \n",
       "1                                            [40.98]                  10.16   \n",
       "2                                           [130.47]                  24.45   \n",
       "3  [92.78, 186.18, 355.24, 54.47, 209.9, 148.14, ...                 949.27   \n",
       "4                [43.98, 41.76, 94.96, 49.98, 33.94]                  92.66   \n",
       "5                              [62.89, 95.78, 80.98]                  53.78   \n",
       "6                                     [33.96, 41.95]                  30.91   \n",
       "7                                            [38.98]                  18.40   \n",
       "8                                     [49.89, 52.89]                  21.84   \n",
       "9                                            [39.99]                  17.16   \n",
       "\n",
       "                              SCM_D_FINANCE_CM1_list  SCM_D_FINANCE_CM2_sum  \\\n",
       "0  [11.28, 11.28, 13.11, 13.11, 5.82, 5.82, 5.82,...                 -33.72   \n",
       "1                                            [10.16]                   2.21   \n",
       "2                                            [24.45]                  15.92   \n",
       "3  [12.53, 25.05, 58.93, 18.85, 30.1, 58.64, 44.7...                 400.38   \n",
       "4                [18.75, 14.05, 30.41, 14.84, 14.61]                  50.83   \n",
       "5                              [12.94, 27.29, 13.55]                  23.42   \n",
       "6                                     [14.19, 16.72]                  15.64   \n",
       "7                                             [18.4]                   7.27   \n",
       "8                                      [9.46, 12.37]                   4.95   \n",
       "9                                            [17.16]                   9.17   \n",
       "\n",
       "                              SCM_D_FINANCE_CM2_list  \\\n",
       "0  [-15.14, -15.14, -13.36, -13.36, 5.82, 5.82, 5...   \n",
       "1                                             [2.21]   \n",
       "2                                            [15.92]   \n",
       "3  [6.38, 18.9, 46.49, 1.18, 23.47, 14.46, 20.91,...   \n",
       "4                     [10.93, 5.59, 20.6, 7.02, 6.7]   \n",
       "5                                [3.98, 18.65, 0.78]   \n",
       "6                                       [6.88, 8.76]   \n",
       "7                                             [7.27]   \n",
       "8                                       [1.02, 3.93]   \n",
       "9                                             [9.17]   \n",
       "\n",
       "   SCM_D_ORIG_FINANCE_ORDER_NET_sum  \\\n",
       "0                            111.92   \n",
       "1                             36.92   \n",
       "2                            118.61   \n",
       "3                           3756.89   \n",
       "4                            240.56   \n",
       "5                            217.86   \n",
       "6                             69.01   \n",
       "7                             32.21   \n",
       "8                             93.44   \n",
       "9                             33.05   \n",
       "\n",
       "                   SCM_D_ORIG_FINANCE_ORDER_NET_list  \n",
       "0  [23.28, 23.28, 21.05, 21.05, 5.82, 5.82, 5.82,...  \n",
       "1                                            [36.92]  \n",
       "2                                           [118.61]  \n",
       "3  [76.05, 152.61, 291.18, 44.65, 172.05, 121.43,...  \n",
       "4                [39.98, 37.96, 86.33, 45.44, 30.85]  \n",
       "5                              [57.17, 87.07, 73.62]  \n",
       "6                                     [30.87, 38.14]  \n",
       "7                                            [32.21]  \n",
       "8                                     [45.35, 48.08]  \n",
       "9                                            [33.05]  "
      ]
     },
     "execution_count": 79,
     "metadata": {},
     "output_type": "execute_result"
    }
   ],
   "source": [
    "customers.head(10)[customers.columns[:11]]"
   ]
  },
  {
   "cell_type": "code",
   "execution_count": 80,
   "metadata": {
    "ExecuteTime": {
     "end_time": "2018-11-29T15:13:21.644006Z",
     "start_time": "2018-11-29T15:13:21.503006Z"
    }
   },
   "outputs": [
    {
     "data": {
      "text/html": [
       "<div>\n",
       "<style scoped>\n",
       "    .dataframe tbody tr th:only-of-type {\n",
       "        vertical-align: middle;\n",
       "    }\n",
       "\n",
       "    .dataframe tbody tr th {\n",
       "        vertical-align: top;\n",
       "    }\n",
       "\n",
       "    .dataframe thead th {\n",
       "        text-align: right;\n",
       "    }\n",
       "</style>\n",
       "<table border=\"1\" class=\"dataframe\">\n",
       "  <thead>\n",
       "    <tr style=\"text-align: right;\">\n",
       "      <th></th>\n",
       "      <th>OSP_KO_COUNT_NET_list</th>\n",
       "      <th>SCM_MASTER_AP_ID_list</th>\n",
       "      <th>CZP_ZTQ_ID</th>\n",
       "      <th>CZP_START_DATE</th>\n",
       "      <th>CZP_EXPIRY_DATE</th>\n",
       "      <th>PG3_AGGSALES</th>\n",
       "      <th>PG4_AGGSALES</th>\n",
       "      <th>BRAND_AGGSALES</th>\n",
       "      <th>SP_PURCHASE</th>\n",
       "    </tr>\n",
       "  </thead>\n",
       "  <tbody>\n",
       "    <tr>\n",
       "      <th>0</th>\n",
       "      <td>[1, 2, 3, 4, 5, 6, 7, 8]</td>\n",
       "      <td>[[67327, 6168], [67327, 6168], [6168, 24203], ...</td>\n",
       "      <td>[nan, nan, nan, nan, nan, nan, nan, nan]</td>\n",
       "      <td>[nan]</td>\n",
       "      <td>[nan]</td>\n",
       "      <td>[[(2068, 17.99), (0, 5.99)], [(2068, 17.99), (...</td>\n",
       "      <td>[[(3155, 17.99), (0, 5.99)], [(3155, 17.99), (...</td>\n",
       "      <td>[[(Schesir, 17.99), (nan, 0)], [(Schesir, 17.9...</td>\n",
       "      <td>[False, False, False, False, False, False, Fal...</td>\n",
       "    </tr>\n",
       "    <tr>\n",
       "      <th>1</th>\n",
       "      <td>[1]</td>\n",
       "      <td>[[8125, 61046]]</td>\n",
       "      <td>[nan]</td>\n",
       "      <td>[nan]</td>\n",
       "      <td>[nan]</td>\n",
       "      <td>[[(251, 36.99), (29, 3.99)]]</td>\n",
       "      <td>[[(682, 36.99), (118, 3.99)]]</td>\n",
       "      <td>[[(Royal Canin Size, 36.99), (Bürsten &amp; Kämme,...</td>\n",
       "      <td>[False]</td>\n",
       "    </tr>\n",
       "    <tr>\n",
       "      <th>2</th>\n",
       "      <td>[1]</td>\n",
       "      <td>[[6169, 25153, 68753, 71389]]</td>\n",
       "      <td>[nan]</td>\n",
       "      <td>[nan]</td>\n",
       "      <td>[nan]</td>\n",
       "      <td>[[(251, 129.99), (1400, 11.99), (18, 2.99), (0...</td>\n",
       "      <td>[[(31962, 129.99), (1412, 11.99), (394, 2.99),...</td>\n",
       "      <td>[[(Hill's Prescription Diet, 129.99), (Haut &amp; ...</td>\n",
       "      <td>[False]</td>\n",
       "    </tr>\n",
       "    <tr>\n",
       "      <th>3</th>\n",
       "      <td>[1, 2, 3, 4, 5, 6, 7, 8, 9, 10, 11, 13, 13, 14...</td>\n",
       "      <td>[[6169, 42715, 60997, 42225], [42715, 60997], ...</td>\n",
       "      <td>[56.0, 54.0]</td>\n",
       "      <td>[2015-07-02, 2016-07-03]</td>\n",
       "      <td>[2016-07-02, 2019-07-03]</td>\n",
       "      <td>[[(252, 97.9), (48963, 4.9), (0, -10.02)], [(2...</td>\n",
       "      <td>[[(9426, 97.9), (0, -5.12)], [(9426, 195.98), ...</td>\n",
       "      <td>[[(Orijen, 97.9), (unknown, 4.9), (nan, 0)], [...</td>\n",
       "      <td>[True, False, False, False, False, False, Fals...</td>\n",
       "    </tr>\n",
       "    <tr>\n",
       "      <th>4</th>\n",
       "      <td>[1, 2, 3, 4, 5]</td>\n",
       "      <td>[[45955, 22882], [68113, 6169, 62857, 70738, 6...</td>\n",
       "      <td>[nan, nan, nan, nan, nan]</td>\n",
       "      <td>[nan]</td>\n",
       "      <td>[nan]</td>\n",
       "      <td>[[(251, 37.99), (857, 5.99)], [(251, 31.98), (...</td>\n",
       "      <td>[[(2044, 37.99), (14463, 5.99)], [(2051, 24.99...</td>\n",
       "      <td>[[(bosch High Premium Concept, 37.99), (★ Luku...</td>\n",
       "      <td>[False, False, False, False, False]</td>\n",
       "    </tr>\n",
       "    <tr>\n",
       "      <th>5</th>\n",
       "      <td>[1, 2, 3]</td>\n",
       "      <td>[[64673, 64881, 6169], [64673, 6168, 55700], [...</td>\n",
       "      <td>[nan, nan, nan]</td>\n",
       "      <td>[nan]</td>\n",
       "      <td>[nan]</td>\n",
       "      <td>[[(251, 62.89), (0, 0.0), (409, 0.0)], [(251, ...</td>\n",
       "      <td>[[(31962, 62.89), (0, 0.0), (60757, 0.0)], [(3...</td>\n",
       "      <td>[[(Hill's Prescription Diet, 62.89), (nan, 0),...</td>\n",
       "      <td>[False, False, False]</td>\n",
       "    </tr>\n",
       "    <tr>\n",
       "      <th>6</th>\n",
       "      <td>[1, 2]</td>\n",
       "      <td>[[26319, 6168, 38526, 26320], [6168, 38430, 26...</td>\n",
       "      <td>[nan, nan]</td>\n",
       "      <td>[nan]</td>\n",
       "      <td>[nan]</td>\n",
       "      <td>[[(857, 29.97), (0, 3.99)], [(857, 37.96), (0,...</td>\n",
       "      <td>[[(3165, 29.97), (0, 3.99)], [(3165, 37.96), (...</td>\n",
       "      <td>[[(Schesir, 29.97), (nan, 0)], [(Schesir, 37.9...</td>\n",
       "      <td>[False, False]</td>\n",
       "    </tr>\n",
       "    <tr>\n",
       "      <th>7</th>\n",
       "      <td>[1]</td>\n",
       "      <td>[[6168, 65538]]</td>\n",
       "      <td>[nan]</td>\n",
       "      <td>[nan]</td>\n",
       "      <td>[nan]</td>\n",
       "      <td>[[(9, 34.99), (0, 3.99)]]</td>\n",
       "      <td>[[(75, 34.99), (0, 3.99)]]</td>\n",
       "      <td>[[(Hundekissen, 34.99), (nan, 0)]]</td>\n",
       "      <td>[False]</td>\n",
       "    </tr>\n",
       "    <tr>\n",
       "      <th>8</th>\n",
       "      <td>[1, 2]</td>\n",
       "      <td>[[6168, 23378], [23378, 6168]]</td>\n",
       "      <td>[nan, nan]</td>\n",
       "      <td>[nan]</td>\n",
       "      <td>[nan]</td>\n",
       "      <td>[[(251, 46.99), (0, 2.9)], [(251, 49.99), (0, ...</td>\n",
       "      <td>[[(682, 46.99), (0, 2.9)], [(682, 49.99), (0, ...</td>\n",
       "      <td>[[(Royal Canin Size, 46.99), (nan, 0)], [(Roya...</td>\n",
       "      <td>[False, False]</td>\n",
       "    </tr>\n",
       "    <tr>\n",
       "      <th>9</th>\n",
       "      <td>[1]</td>\n",
       "      <td>[[23643]]</td>\n",
       "      <td>[nan]</td>\n",
       "      <td>[nan]</td>\n",
       "      <td>[nan]</td>\n",
       "      <td>[[(2190, 39.99)]]</td>\n",
       "      <td>[[(10623, 39.99)]]</td>\n",
       "      <td>[[(Einstiegshilfe, 39.99)]]</td>\n",
       "      <td>[False]</td>\n",
       "    </tr>\n",
       "  </tbody>\n",
       "</table>\n",
       "</div>"
      ],
      "text/plain": [
       "                               OSP_KO_COUNT_NET_list  \\\n",
       "0                           [1, 2, 3, 4, 5, 6, 7, 8]   \n",
       "1                                                [1]   \n",
       "2                                                [1]   \n",
       "3  [1, 2, 3, 4, 5, 6, 7, 8, 9, 10, 11, 13, 13, 14...   \n",
       "4                                    [1, 2, 3, 4, 5]   \n",
       "5                                          [1, 2, 3]   \n",
       "6                                             [1, 2]   \n",
       "7                                                [1]   \n",
       "8                                             [1, 2]   \n",
       "9                                                [1]   \n",
       "\n",
       "                               SCM_MASTER_AP_ID_list  \\\n",
       "0  [[67327, 6168], [67327, 6168], [6168, 24203], ...   \n",
       "1                                    [[8125, 61046]]   \n",
       "2                      [[6169, 25153, 68753, 71389]]   \n",
       "3  [[6169, 42715, 60997, 42225], [42715, 60997], ...   \n",
       "4  [[45955, 22882], [68113, 6169, 62857, 70738, 6...   \n",
       "5  [[64673, 64881, 6169], [64673, 6168, 55700], [...   \n",
       "6  [[26319, 6168, 38526, 26320], [6168, 38430, 26...   \n",
       "7                                    [[6168, 65538]]   \n",
       "8                     [[6168, 23378], [23378, 6168]]   \n",
       "9                                          [[23643]]   \n",
       "\n",
       "                                 CZP_ZTQ_ID            CZP_START_DATE  \\\n",
       "0  [nan, nan, nan, nan, nan, nan, nan, nan]                     [nan]   \n",
       "1                                     [nan]                     [nan]   \n",
       "2                                     [nan]                     [nan]   \n",
       "3                              [56.0, 54.0]  [2015-07-02, 2016-07-03]   \n",
       "4                 [nan, nan, nan, nan, nan]                     [nan]   \n",
       "5                           [nan, nan, nan]                     [nan]   \n",
       "6                                [nan, nan]                     [nan]   \n",
       "7                                     [nan]                     [nan]   \n",
       "8                                [nan, nan]                     [nan]   \n",
       "9                                     [nan]                     [nan]   \n",
       "\n",
       "            CZP_EXPIRY_DATE  \\\n",
       "0                     [nan]   \n",
       "1                     [nan]   \n",
       "2                     [nan]   \n",
       "3  [2016-07-02, 2019-07-03]   \n",
       "4                     [nan]   \n",
       "5                     [nan]   \n",
       "6                     [nan]   \n",
       "7                     [nan]   \n",
       "8                     [nan]   \n",
       "9                     [nan]   \n",
       "\n",
       "                                        PG3_AGGSALES  \\\n",
       "0  [[(2068, 17.99), (0, 5.99)], [(2068, 17.99), (...   \n",
       "1                       [[(251, 36.99), (29, 3.99)]]   \n",
       "2  [[(251, 129.99), (1400, 11.99), (18, 2.99), (0...   \n",
       "3  [[(252, 97.9), (48963, 4.9), (0, -10.02)], [(2...   \n",
       "4  [[(251, 37.99), (857, 5.99)], [(251, 31.98), (...   \n",
       "5  [[(251, 62.89), (0, 0.0), (409, 0.0)], [(251, ...   \n",
       "6  [[(857, 29.97), (0, 3.99)], [(857, 37.96), (0,...   \n",
       "7                          [[(9, 34.99), (0, 3.99)]]   \n",
       "8  [[(251, 46.99), (0, 2.9)], [(251, 49.99), (0, ...   \n",
       "9                                  [[(2190, 39.99)]]   \n",
       "\n",
       "                                        PG4_AGGSALES  \\\n",
       "0  [[(3155, 17.99), (0, 5.99)], [(3155, 17.99), (...   \n",
       "1                      [[(682, 36.99), (118, 3.99)]]   \n",
       "2  [[(31962, 129.99), (1412, 11.99), (394, 2.99),...   \n",
       "3  [[(9426, 97.9), (0, -5.12)], [(9426, 195.98), ...   \n",
       "4  [[(2044, 37.99), (14463, 5.99)], [(2051, 24.99...   \n",
       "5  [[(31962, 62.89), (0, 0.0), (60757, 0.0)], [(3...   \n",
       "6  [[(3165, 29.97), (0, 3.99)], [(3165, 37.96), (...   \n",
       "7                         [[(75, 34.99), (0, 3.99)]]   \n",
       "8  [[(682, 46.99), (0, 2.9)], [(682, 49.99), (0, ...   \n",
       "9                                 [[(10623, 39.99)]]   \n",
       "\n",
       "                                      BRAND_AGGSALES  \\\n",
       "0  [[(Schesir, 17.99), (nan, 0)], [(Schesir, 17.9...   \n",
       "1  [[(Royal Canin Size, 36.99), (Bürsten & Kämme,...   \n",
       "2  [[(Hill's Prescription Diet, 129.99), (Haut & ...   \n",
       "3  [[(Orijen, 97.9), (unknown, 4.9), (nan, 0)], [...   \n",
       "4  [[(bosch High Premium Concept, 37.99), (★ Luku...   \n",
       "5  [[(Hill's Prescription Diet, 62.89), (nan, 0),...   \n",
       "6  [[(Schesir, 29.97), (nan, 0)], [(Schesir, 37.9...   \n",
       "7                 [[(Hundekissen, 34.99), (nan, 0)]]   \n",
       "8  [[(Royal Canin Size, 46.99), (nan, 0)], [(Roya...   \n",
       "9                        [[(Einstiegshilfe, 39.99)]]   \n",
       "\n",
       "                                         SP_PURCHASE  \n",
       "0  [False, False, False, False, False, False, Fal...  \n",
       "1                                            [False]  \n",
       "2                                            [False]  \n",
       "3  [True, False, False, False, False, False, Fals...  \n",
       "4                [False, False, False, False, False]  \n",
       "5                              [False, False, False]  \n",
       "6                                     [False, False]  \n",
       "7                                            [False]  \n",
       "8                                     [False, False]  \n",
       "9                                            [False]  "
      ]
     },
     "execution_count": 80,
     "metadata": {},
     "output_type": "execute_result"
    }
   ],
   "source": [
    "customers.head(10)[customers.columns[11:20]]"
   ]
  },
  {
   "cell_type": "code",
   "execution_count": 81,
   "metadata": {
    "ExecuteTime": {
     "end_time": "2018-11-29T15:13:21.694006Z",
     "start_time": "2018-11-29T15:13:21.645006Z"
    },
    "scrolled": false
   },
   "outputs": [
    {
     "data": {
      "text/html": [
       "<div>\n",
       "<style scoped>\n",
       "    .dataframe tbody tr th:only-of-type {\n",
       "        vertical-align: middle;\n",
       "    }\n",
       "\n",
       "    .dataframe tbody tr th {\n",
       "        vertical-align: top;\n",
       "    }\n",
       "\n",
       "    .dataframe thead th {\n",
       "        text-align: right;\n",
       "    }\n",
       "</style>\n",
       "<table border=\"1\" class=\"dataframe\">\n",
       "  <thead>\n",
       "    <tr style=\"text-align: right;\">\n",
       "      <th></th>\n",
       "      <th>SP_DISC</th>\n",
       "      <th>D28</th>\n",
       "      <th>D56</th>\n",
       "      <th>D84</th>\n",
       "      <th>D168</th>\n",
       "      <th>D252</th>\n",
       "      <th>D336</th>\n",
       "      <th>O_TIMEDELTAS</th>\n",
       "      <th>TOTAL_PG3_SALES</th>\n",
       "      <th>TOTAL_PG4_SALES</th>\n",
       "      <th>TOTAL_BRAND_SALES</th>\n",
       "    </tr>\n",
       "  </thead>\n",
       "  <tbody>\n",
       "    <tr>\n",
       "      <th>0</th>\n",
       "      <td>[False, False, False, False, False, False, Fal...</td>\n",
       "      <td>2017-04-18</td>\n",
       "      <td>2017-05-16</td>\n",
       "      <td>2017-06-13</td>\n",
       "      <td>2017-09-05</td>\n",
       "      <td>2017-11-28</td>\n",
       "      <td>2018-02-20</td>\n",
       "      <td>[0, 0, 0, 69, 0, 0, 0]</td>\n",
       "      <td>[(0, 47.92), (2068, 35.98), (251, 31.38)]</td>\n",
       "      <td>[(0, 47.92), (3155, 35.98), (528, 31.38)]</td>\n",
       "      <td>[(Schesir, 35.98), (Happy Dog Supreme, 31.38),...</td>\n",
       "    </tr>\n",
       "    <tr>\n",
       "      <th>1</th>\n",
       "      <td>[False]</td>\n",
       "      <td>2016-04-12</td>\n",
       "      <td>2016-05-10</td>\n",
       "      <td>2016-06-07</td>\n",
       "      <td>2016-08-30</td>\n",
       "      <td>2016-11-22</td>\n",
       "      <td>2017-02-14</td>\n",
       "      <td>[]</td>\n",
       "      <td>[(251, 36.99), (29, 3.99)]</td>\n",
       "      <td>[(682, 36.99), (118, 3.99)]</td>\n",
       "      <td>[(Royal Canin Size, 36.99), (Bürsten &amp; Kämme, ...</td>\n",
       "    </tr>\n",
       "    <tr>\n",
       "      <th>2</th>\n",
       "      <td>[False]</td>\n",
       "      <td>2017-02-27</td>\n",
       "      <td>2017-03-27</td>\n",
       "      <td>2017-04-24</td>\n",
       "      <td>2017-07-17</td>\n",
       "      <td>2017-10-09</td>\n",
       "      <td>2018-01-01</td>\n",
       "      <td>[]</td>\n",
       "      <td>[(251, 129.99), (1400, 11.99), (18, 2.99), (0,...</td>\n",
       "      <td>[(31962, 129.99), (1412, 11.99), (394, 2.99), ...</td>\n",
       "      <td>[(Hill's Prescription Diet, 129.99), (Haut &amp; F...</td>\n",
       "    </tr>\n",
       "    <tr>\n",
       "      <th>3</th>\n",
       "      <td>[True, True, True, True, True, True, True, Tru...</td>\n",
       "      <td>2015-07-30</td>\n",
       "      <td>2015-08-27</td>\n",
       "      <td>2015-09-24</td>\n",
       "      <td>2015-12-17</td>\n",
       "      <td>2016-03-10</td>\n",
       "      <td>2016-06-02</td>\n",
       "      <td>[32, 30, 31, 10, 173, 34, 57, 79, 26, 16, 38, ...</td>\n",
       "      <td>[(252, 2182.47), (301, 1398.48), (29, 371.74),...</td>\n",
       "      <td>[(39682, 1245.55), (177843, 1087.67), (9426, 7...</td>\n",
       "      <td>[(Sanicat, 1245.55), (Hill's Ideal Balance, 10...</td>\n",
       "    </tr>\n",
       "    <tr>\n",
       "      <th>4</th>\n",
       "      <td>[False, False, False, False, False]</td>\n",
       "      <td>2015-09-23</td>\n",
       "      <td>2015-10-21</td>\n",
       "      <td>2015-11-18</td>\n",
       "      <td>2016-02-10</td>\n",
       "      <td>2016-05-04</td>\n",
       "      <td>2016-07-27</td>\n",
       "      <td>[436, 242, 259, 98]</td>\n",
       "      <td>[(1400, 92.97), (857, 87.9), (251, 81.96), (0,...</td>\n",
       "      <td>[(14463, 75.92), (1413, 59.98), (2044, 49.98),...</td>\n",
       "      <td>[(★ Lukullus Naturkost, 81.91), (Gelenke &amp; Kno...</td>\n",
       "    </tr>\n",
       "    <tr>\n",
       "      <th>5</th>\n",
       "      <td>[False, False, False]</td>\n",
       "      <td>2016-04-01</td>\n",
       "      <td>2016-04-29</td>\n",
       "      <td>2016-05-27</td>\n",
       "      <td>2016-08-19</td>\n",
       "      <td>2016-11-11</td>\n",
       "      <td>2017-02-03</td>\n",
       "      <td>[39, 41]</td>\n",
       "      <td>[(251, 217.76), (207553, 18.99), (0, 2.9), (40...</td>\n",
       "      <td>[(31962, 187.77), (255, 29.99), (207615, 18.99...</td>\n",
       "      <td>[(Hill's Prescription Diet, 187.77), (Eukanuba...</td>\n",
       "    </tr>\n",
       "    <tr>\n",
       "      <th>6</th>\n",
       "      <td>[False, False]</td>\n",
       "      <td>2015-09-25</td>\n",
       "      <td>2015-10-23</td>\n",
       "      <td>2015-11-20</td>\n",
       "      <td>2016-02-12</td>\n",
       "      <td>2016-05-06</td>\n",
       "      <td>2016-07-29</td>\n",
       "      <td>[133]</td>\n",
       "      <td>[(857, 67.93), (0, 7.98)]</td>\n",
       "      <td>[(3165, 67.93), (0, 7.98)]</td>\n",
       "      <td>[(Schesir, 67.93), (nan, 0)]</td>\n",
       "    </tr>\n",
       "    <tr>\n",
       "      <th>7</th>\n",
       "      <td>[False]</td>\n",
       "      <td>2016-09-28</td>\n",
       "      <td>2016-10-26</td>\n",
       "      <td>2016-11-23</td>\n",
       "      <td>2017-02-15</td>\n",
       "      <td>2017-05-10</td>\n",
       "      <td>2017-08-02</td>\n",
       "      <td>[]</td>\n",
       "      <td>[(9, 34.99), (0, 3.99)]</td>\n",
       "      <td>[(75, 34.99), (0, 3.99)]</td>\n",
       "      <td>[(Hundekissen, 34.99), (nan, 0)]</td>\n",
       "    </tr>\n",
       "    <tr>\n",
       "      <th>8</th>\n",
       "      <td>[False, False]</td>\n",
       "      <td>2017-06-07</td>\n",
       "      <td>2017-07-05</td>\n",
       "      <td>2017-08-02</td>\n",
       "      <td>2017-10-25</td>\n",
       "      <td>2018-01-17</td>\n",
       "      <td>2018-04-11</td>\n",
       "      <td>[43]</td>\n",
       "      <td>[(251, 96.98), (0, 5.8)]</td>\n",
       "      <td>[(682, 96.98), (0, 5.8)]</td>\n",
       "      <td>[(Royal Canin Size, 96.98), (nan, 0)]</td>\n",
       "    </tr>\n",
       "    <tr>\n",
       "      <th>9</th>\n",
       "      <td>[False]</td>\n",
       "      <td>2016-06-28</td>\n",
       "      <td>2016-07-26</td>\n",
       "      <td>2016-08-23</td>\n",
       "      <td>2016-11-15</td>\n",
       "      <td>2017-02-07</td>\n",
       "      <td>2017-05-02</td>\n",
       "      <td>[]</td>\n",
       "      <td>[(2190, 39.99)]</td>\n",
       "      <td>[(10623, 39.99)]</td>\n",
       "      <td>[(Einstiegshilfe, 39.99)]</td>\n",
       "    </tr>\n",
       "  </tbody>\n",
       "</table>\n",
       "</div>"
      ],
      "text/plain": [
       "                                             SP_DISC        D28        D56  \\\n",
       "0  [False, False, False, False, False, False, Fal... 2017-04-18 2017-05-16   \n",
       "1                                            [False] 2016-04-12 2016-05-10   \n",
       "2                                            [False] 2017-02-27 2017-03-27   \n",
       "3  [True, True, True, True, True, True, True, Tru... 2015-07-30 2015-08-27   \n",
       "4                [False, False, False, False, False] 2015-09-23 2015-10-21   \n",
       "5                              [False, False, False] 2016-04-01 2016-04-29   \n",
       "6                                     [False, False] 2015-09-25 2015-10-23   \n",
       "7                                            [False] 2016-09-28 2016-10-26   \n",
       "8                                     [False, False] 2017-06-07 2017-07-05   \n",
       "9                                            [False] 2016-06-28 2016-07-26   \n",
       "\n",
       "         D84       D168       D252       D336  \\\n",
       "0 2017-06-13 2017-09-05 2017-11-28 2018-02-20   \n",
       "1 2016-06-07 2016-08-30 2016-11-22 2017-02-14   \n",
       "2 2017-04-24 2017-07-17 2017-10-09 2018-01-01   \n",
       "3 2015-09-24 2015-12-17 2016-03-10 2016-06-02   \n",
       "4 2015-11-18 2016-02-10 2016-05-04 2016-07-27   \n",
       "5 2016-05-27 2016-08-19 2016-11-11 2017-02-03   \n",
       "6 2015-11-20 2016-02-12 2016-05-06 2016-07-29   \n",
       "7 2016-11-23 2017-02-15 2017-05-10 2017-08-02   \n",
       "8 2017-08-02 2017-10-25 2018-01-17 2018-04-11   \n",
       "9 2016-08-23 2016-11-15 2017-02-07 2017-05-02   \n",
       "\n",
       "                                        O_TIMEDELTAS  \\\n",
       "0                             [0, 0, 0, 69, 0, 0, 0]   \n",
       "1                                                 []   \n",
       "2                                                 []   \n",
       "3  [32, 30, 31, 10, 173, 34, 57, 79, 26, 16, 38, ...   \n",
       "4                                [436, 242, 259, 98]   \n",
       "5                                           [39, 41]   \n",
       "6                                              [133]   \n",
       "7                                                 []   \n",
       "8                                               [43]   \n",
       "9                                                 []   \n",
       "\n",
       "                                     TOTAL_PG3_SALES  \\\n",
       "0          [(0, 47.92), (2068, 35.98), (251, 31.38)]   \n",
       "1                         [(251, 36.99), (29, 3.99)]   \n",
       "2  [(251, 129.99), (1400, 11.99), (18, 2.99), (0,...   \n",
       "3  [(252, 2182.47), (301, 1398.48), (29, 371.74),...   \n",
       "4  [(1400, 92.97), (857, 87.9), (251, 81.96), (0,...   \n",
       "5  [(251, 217.76), (207553, 18.99), (0, 2.9), (40...   \n",
       "6                          [(857, 67.93), (0, 7.98)]   \n",
       "7                            [(9, 34.99), (0, 3.99)]   \n",
       "8                           [(251, 96.98), (0, 5.8)]   \n",
       "9                                    [(2190, 39.99)]   \n",
       "\n",
       "                                     TOTAL_PG4_SALES  \\\n",
       "0          [(0, 47.92), (3155, 35.98), (528, 31.38)]   \n",
       "1                        [(682, 36.99), (118, 3.99)]   \n",
       "2  [(31962, 129.99), (1412, 11.99), (394, 2.99), ...   \n",
       "3  [(39682, 1245.55), (177843, 1087.67), (9426, 7...   \n",
       "4  [(14463, 75.92), (1413, 59.98), (2044, 49.98),...   \n",
       "5  [(31962, 187.77), (255, 29.99), (207615, 18.99...   \n",
       "6                         [(3165, 67.93), (0, 7.98)]   \n",
       "7                           [(75, 34.99), (0, 3.99)]   \n",
       "8                           [(682, 96.98), (0, 5.8)]   \n",
       "9                                   [(10623, 39.99)]   \n",
       "\n",
       "                                   TOTAL_BRAND_SALES  \n",
       "0  [(Schesir, 35.98), (Happy Dog Supreme, 31.38),...  \n",
       "1  [(Royal Canin Size, 36.99), (Bürsten & Kämme, ...  \n",
       "2  [(Hill's Prescription Diet, 129.99), (Haut & F...  \n",
       "3  [(Sanicat, 1245.55), (Hill's Ideal Balance, 10...  \n",
       "4  [(★ Lukullus Naturkost, 81.91), (Gelenke & Kno...  \n",
       "5  [(Hill's Prescription Diet, 187.77), (Eukanuba...  \n",
       "6                       [(Schesir, 67.93), (nan, 0)]  \n",
       "7                   [(Hundekissen, 34.99), (nan, 0)]  \n",
       "8              [(Royal Canin Size, 96.98), (nan, 0)]  \n",
       "9                          [(Einstiegshilfe, 39.99)]  "
      ]
     },
     "execution_count": 81,
     "metadata": {},
     "output_type": "execute_result"
    }
   ],
   "source": [
    "customers.head(10)[customers.columns[20:]]"
   ]
  },
  {
   "cell_type": "markdown",
   "metadata": {},
   "source": [
    "We locate the N-order in which SP has been bought..."
   ]
  },
  {
   "cell_type": "code",
   "execution_count": 82,
   "metadata": {
    "ExecuteTime": {
     "end_time": "2018-11-29T15:13:24.293006Z",
     "start_time": "2018-11-29T15:13:21.695006Z"
    }
   },
   "outputs": [],
   "source": [
    "customers['SP_PY_POS'] = [np.argwhere(i)[0][0] if len(np.argwhere(i)) >= 1 else 999999\n",
    "                          for i in customers['SP_PURCHASE'].values]"
   ]
  },
  {
   "cell_type": "markdown",
   "metadata": {},
   "source": [
    "And the days between 1st order in our dataset and SP purchase date"
   ]
  },
  {
   "cell_type": "code",
   "execution_count": 83,
   "metadata": {
    "ExecuteTime": {
     "end_time": "2018-11-29T15:13:24.401006Z",
     "start_time": "2018-11-29T15:13:24.294006Z"
    }
   },
   "outputs": [],
   "source": [
    "customers['DAYS_UNTIL_1st_SP'] = [(x[y] - x[0]).days if y != 999999 else None for x, y in list(zip(customers['TDT_T_KEY_ORDER_DATE_list'], \n",
    "                                                                   customers['SP_PY_POS']))]"
   ]
  },
  {
   "cell_type": "code",
   "execution_count": 84,
   "metadata": {
    "ExecuteTime": {
     "end_time": "2018-11-29T15:13:24.433006Z",
     "start_time": "2018-11-29T15:13:24.402006Z"
    }
   },
   "outputs": [
    {
     "data": {
      "text/plain": [
       "count    29847.000000\n",
       "mean       141.512514\n",
       "std        197.343425\n",
       "min          0.000000\n",
       "25%          0.000000\n",
       "50%         53.000000\n",
       "75%        207.000000\n",
       "max       1084.000000\n",
       "Name: DAYS_UNTIL_1st_SP, dtype: float64"
      ]
     },
     "execution_count": 84,
     "metadata": {},
     "output_type": "execute_result"
    }
   ],
   "source": [
    "customers['DAYS_UNTIL_1st_SP'].describe()"
   ]
  },
  {
   "cell_type": "markdown",
   "metadata": {},
   "source": [
    "Quantify the amount of orders having a SP discount or not"
   ]
  },
  {
   "cell_type": "code",
   "execution_count": 85,
   "metadata": {
    "ExecuteTime": {
     "end_time": "2018-11-29T15:13:24.542006Z",
     "start_time": "2018-11-29T15:13:24.434006Z"
    }
   },
   "outputs": [],
   "source": [
    "customers['SP_ORDERS'] = [sum(i) for i in customers['SP_DISC'].values]"
   ]
  },
  {
   "cell_type": "code",
   "execution_count": 86,
   "metadata": {
    "ExecuteTime": {
     "end_time": "2018-11-29T15:13:24.548006Z",
     "start_time": "2018-11-29T15:13:24.543006Z"
    }
   },
   "outputs": [],
   "source": [
    "customers['NO_SP_ORDERS'] = customers['SCM_N_ORDER_NR_len'] - customers['SP_ORDERS']"
   ]
  },
  {
   "cell_type": "code",
   "execution_count": 87,
   "metadata": {
    "ExecuteTime": {
     "end_time": "2018-11-29T15:13:24.563006Z",
     "start_time": "2018-11-29T15:13:24.549006Z"
    }
   },
   "outputs": [
    {
     "data": {
      "text/plain": [
       "datetime.date(2018, 6, 30)"
      ]
     },
     "execution_count": 87,
     "metadata": {},
     "output_type": "execute_result"
    }
   ],
   "source": [
    "last_date_df = datetime.datetime.strptime('30062018', \"%d%m%Y\").date()\n",
    "last_date_df"
   ]
  },
  {
   "cell_type": "markdown",
   "metadata": {},
   "source": [
    "We obtain now, the total days each customer has in our dataframe and the days after 1st SP"
   ]
  },
  {
   "cell_type": "code",
   "execution_count": 88,
   "metadata": {
    "ExecuteTime": {
     "end_time": "2018-11-29T15:13:24.673006Z",
     "start_time": "2018-11-29T15:13:24.564006Z"
    }
   },
   "outputs": [],
   "source": [
    "customers['DAYS_IN_DF'] = [(last_date_df - i[0]).days for i in customers['TDT_T_KEY_ORDER_DATE_list'].values]"
   ]
  },
  {
   "cell_type": "code",
   "execution_count": 89,
   "metadata": {
    "ExecuteTime": {
     "end_time": "2018-11-29T15:13:24.680006Z",
     "start_time": "2018-11-29T15:13:24.675006Z"
    }
   },
   "outputs": [],
   "source": [
    "customers['DAYS_AFTER_1st_SP'] = customers['DAYS_IN_DF'] - customers['DAYS_UNTIL_1st_SP']"
   ]
  },
  {
   "cell_type": "code",
   "execution_count": 90,
   "metadata": {
    "ExecuteTime": {
     "end_time": "2018-11-29T15:13:24.798006Z",
     "start_time": "2018-11-29T15:13:24.681006Z"
    }
   },
   "outputs": [],
   "source": [
    "customers['SP_CUS'] = [(sum(i) >= 1) * 1 for i in customers['SP_DISC'].values]"
   ]
  },
  {
   "cell_type": "code",
   "execution_count": 91,
   "metadata": {
    "ExecuteTime": {
     "end_time": "2018-11-29T15:13:24.810006Z",
     "start_time": "2018-11-29T15:13:24.799006Z"
    }
   },
   "outputs": [
    {
     "data": {
      "text/plain": [
       "0    205787\n",
       "1     31035\n",
       "Name: SP_CUS, dtype: int64"
      ]
     },
     "execution_count": 91,
     "metadata": {},
     "output_type": "execute_result"
    }
   ],
   "source": [
    "customers['SP_CUS'].value_counts()"
   ]
  },
  {
   "cell_type": "code",
   "execution_count": 92,
   "metadata": {
    "ExecuteTime": {
     "end_time": "2018-11-29T15:13:25.033006Z",
     "start_time": "2018-11-29T15:13:24.811006Z"
    }
   },
   "outputs": [],
   "source": [
    "sp_customers = customers[customers['SP_CUS'] == 1].copy()"
   ]
  },
  {
   "cell_type": "code",
   "execution_count": 93,
   "metadata": {
    "ExecuteTime": {
     "end_time": "2018-11-29T15:13:25.089006Z",
     "start_time": "2018-11-29T15:13:25.034006Z"
    }
   },
   "outputs": [
    {
     "data": {
      "text/html": [
       "<div>\n",
       "<style scoped>\n",
       "    .dataframe tbody tr th:only-of-type {\n",
       "        vertical-align: middle;\n",
       "    }\n",
       "\n",
       "    .dataframe tbody tr th {\n",
       "        vertical-align: top;\n",
       "    }\n",
       "\n",
       "    .dataframe thead th {\n",
       "        text-align: right;\n",
       "    }\n",
       "</style>\n",
       "<table border=\"1\" class=\"dataframe\">\n",
       "  <thead>\n",
       "    <tr style=\"text-align: right;\">\n",
       "      <th></th>\n",
       "      <th>CUS_N_KEY_CUSTOMER</th>\n",
       "      <th>SCM_N_ORDER_NR_len</th>\n",
       "      <th>TDT_T_KEY_ORDER_DATE_list</th>\n",
       "      <th>SCM_SALES_BMF_sum</th>\n",
       "      <th>SCM_SALES_BMF_list</th>\n",
       "      <th>SCM_D_FINANCE_CM1_sum</th>\n",
       "      <th>SCM_D_FINANCE_CM1_list</th>\n",
       "      <th>SCM_D_FINANCE_CM2_sum</th>\n",
       "      <th>SCM_D_FINANCE_CM2_list</th>\n",
       "      <th>SCM_D_ORIG_FINANCE_ORDER_NET_sum</th>\n",
       "      <th>...</th>\n",
       "      <th>TOTAL_PG3_SALES</th>\n",
       "      <th>TOTAL_PG4_SALES</th>\n",
       "      <th>TOTAL_BRAND_SALES</th>\n",
       "      <th>SP_PY_POS</th>\n",
       "      <th>DAYS_UNTIL_1st_SP</th>\n",
       "      <th>SP_ORDERS</th>\n",
       "      <th>NO_SP_ORDERS</th>\n",
       "      <th>DAYS_IN_DF</th>\n",
       "      <th>DAYS_AFTER_1st_SP</th>\n",
       "      <th>SP_CUS</th>\n",
       "    </tr>\n",
       "  </thead>\n",
       "  <tbody>\n",
       "    <tr>\n",
       "      <th>131850</th>\n",
       "      <td>14806798</td>\n",
       "      <td>1</td>\n",
       "      <td>[2016-08-03]</td>\n",
       "      <td>48.38</td>\n",
       "      <td>[48.38]</td>\n",
       "      <td>13.01</td>\n",
       "      <td>[13.01]</td>\n",
       "      <td>4.87</td>\n",
       "      <td>[4.87]</td>\n",
       "      <td>43.73</td>\n",
       "      <td>...</td>\n",
       "      <td>[(251, 43.99), (48963, 2.9), (0, 1.49)]</td>\n",
       "      <td>[(81396, 43.99), (0, 4.39)]</td>\n",
       "      <td>[(Royal Canin Veterinary Diet, 43.99), (unknow...</td>\n",
       "      <td>0</td>\n",
       "      <td>0.0</td>\n",
       "      <td>1</td>\n",
       "      <td>0</td>\n",
       "      <td>696</td>\n",
       "      <td>696.0</td>\n",
       "      <td>1</td>\n",
       "    </tr>\n",
       "    <tr>\n",
       "      <th>98363</th>\n",
       "      <td>14091278</td>\n",
       "      <td>1</td>\n",
       "      <td>[2016-04-29]</td>\n",
       "      <td>39.80</td>\n",
       "      <td>[39.8]</td>\n",
       "      <td>-4.30</td>\n",
       "      <td>[-4.3]</td>\n",
       "      <td>-9.30</td>\n",
       "      <td>[-9.3]</td>\n",
       "      <td>35.80</td>\n",
       "      <td>...</td>\n",
       "      <td>[(207553, 36.99), (48963, 4.9), (0, -2.09)]</td>\n",
       "      <td>[(207615, 36.99), (0, 2.81)]</td>\n",
       "      <td>[(Halsband, 36.99), (unknown, 4.9), (nan, 0)]</td>\n",
       "      <td>0</td>\n",
       "      <td>0.0</td>\n",
       "      <td>1</td>\n",
       "      <td>0</td>\n",
       "      <td>792</td>\n",
       "      <td>792.0</td>\n",
       "      <td>1</td>\n",
       "    </tr>\n",
       "    <tr>\n",
       "      <th>110834</th>\n",
       "      <td>14332936</td>\n",
       "      <td>8</td>\n",
       "      <td>[2016-05-31, 2016-06-13, 2016-09-14, 2017-05-0...</td>\n",
       "      <td>374.60</td>\n",
       "      <td>[38.89, 29.67, 46.53, 42.43, 57.18, 47.48, 39....</td>\n",
       "      <td>126.40</td>\n",
       "      <td>[14.84, 13.3, 16.82, 13.64, 22.42, 13.44, 12.2...</td>\n",
       "      <td>59.70</td>\n",
       "      <td>[6.73, 5.09, 8.68, 6.31, 14.9, 5.76, 3.53, 8.7]</td>\n",
       "      <td>320.62</td>\n",
       "      <td>...</td>\n",
       "      <td>[(252, 100.93), (301, 94.9), (34, 68.92), (47,...</td>\n",
       "      <td>[(10331, 94.9), (72002, 61.94), (683, 39.97), ...</td>\n",
       "      <td>[(★ Tigerino, 94.9), (Getrocknet &amp; natürlich, ...</td>\n",
       "      <td>1</td>\n",
       "      <td>13.0</td>\n",
       "      <td>7</td>\n",
       "      <td>1</td>\n",
       "      <td>760</td>\n",
       "      <td>747.0</td>\n",
       "      <td>1</td>\n",
       "    </tr>\n",
       "    <tr>\n",
       "      <th>201928</th>\n",
       "      <td>16432261</td>\n",
       "      <td>11</td>\n",
       "      <td>[2017-03-20, 2017-04-25, 2017-05-30, 2017-07-0...</td>\n",
       "      <td>800.68</td>\n",
       "      <td>[108.71, 89.9, 48.49, 79.52, 43.64, 103.58, 71...</td>\n",
       "      <td>217.92</td>\n",
       "      <td>[14.75, 20.31, 15.02, 23.6, 17.07, 30.09, 21.2...</td>\n",
       "      <td>103.84</td>\n",
       "      <td>[1.31, 12.52, 6.74, 15.96, 8.63, 11.73, 12.25,...</td>\n",
       "      <td>725.94</td>\n",
       "      <td>...</td>\n",
       "      <td>[(251, 723.62), (207553, 49.99), (857, 49.25),...</td>\n",
       "      <td>[(2051, 296.54), (35825, 204.55), (180361, 177...</td>\n",
       "      <td>[(Markus Mühle, 296.54), (★ Wolf of Wilderness...</td>\n",
       "      <td>0</td>\n",
       "      <td>0.0</td>\n",
       "      <td>11</td>\n",
       "      <td>0</td>\n",
       "      <td>467</td>\n",
       "      <td>467.0</td>\n",
       "      <td>1</td>\n",
       "    </tr>\n",
       "    <tr>\n",
       "      <th>133152</th>\n",
       "      <td>14838891</td>\n",
       "      <td>14</td>\n",
       "      <td>[2016-08-08, 2016-09-28, 2016-11-24, 2017-01-1...</td>\n",
       "      <td>827.60</td>\n",
       "      <td>[62.99, 61.35, 58.89, 56.99, 56.99, 56.99, 56....</td>\n",
       "      <td>125.40</td>\n",
       "      <td>[12.18, 10.48, 8.68, 6.98, 7.0, 6.64, 6.62, 6....</td>\n",
       "      <td>3.74</td>\n",
       "      <td>[2.69, 0.99, 0.26, -1.44, -1.42, -3.71, -1.32,...</td>\n",
       "      <td>748.44</td>\n",
       "      <td>...</td>\n",
       "      <td>[(251, 785.87), (15, 42.98), (207553, 18.49), ...</td>\n",
       "      <td>[(81396, 785.87), (92, 29.99), (207615, 18.49)...</td>\n",
       "      <td>[(Royal Canin Veterinary Diet, 785.87), (Hunde...</td>\n",
       "      <td>1</td>\n",
       "      <td>51.0</td>\n",
       "      <td>7</td>\n",
       "      <td>7</td>\n",
       "      <td>691</td>\n",
       "      <td>640.0</td>\n",
       "      <td>1</td>\n",
       "    </tr>\n",
       "  </tbody>\n",
       "</table>\n",
       "<p>5 rows × 38 columns</p>\n",
       "</div>"
      ],
      "text/plain": [
       "        CUS_N_KEY_CUSTOMER  SCM_N_ORDER_NR_len  \\\n",
       "131850            14806798                   1   \n",
       "98363             14091278                   1   \n",
       "110834            14332936                   8   \n",
       "201928            16432261                  11   \n",
       "133152            14838891                  14   \n",
       "\n",
       "                                TDT_T_KEY_ORDER_DATE_list  SCM_SALES_BMF_sum  \\\n",
       "131850                                       [2016-08-03]              48.38   \n",
       "98363                                        [2016-04-29]              39.80   \n",
       "110834  [2016-05-31, 2016-06-13, 2016-09-14, 2017-05-0...             374.60   \n",
       "201928  [2017-03-20, 2017-04-25, 2017-05-30, 2017-07-0...             800.68   \n",
       "133152  [2016-08-08, 2016-09-28, 2016-11-24, 2017-01-1...             827.60   \n",
       "\n",
       "                                       SCM_SALES_BMF_list  \\\n",
       "131850                                            [48.38]   \n",
       "98363                                              [39.8]   \n",
       "110834  [38.89, 29.67, 46.53, 42.43, 57.18, 47.48, 39....   \n",
       "201928  [108.71, 89.9, 48.49, 79.52, 43.64, 103.58, 71...   \n",
       "133152  [62.99, 61.35, 58.89, 56.99, 56.99, 56.99, 56....   \n",
       "\n",
       "        SCM_D_FINANCE_CM1_sum  \\\n",
       "131850                  13.01   \n",
       "98363                   -4.30   \n",
       "110834                 126.40   \n",
       "201928                 217.92   \n",
       "133152                 125.40   \n",
       "\n",
       "                                   SCM_D_FINANCE_CM1_list  \\\n",
       "131850                                            [13.01]   \n",
       "98363                                              [-4.3]   \n",
       "110834  [14.84, 13.3, 16.82, 13.64, 22.42, 13.44, 12.2...   \n",
       "201928  [14.75, 20.31, 15.02, 23.6, 17.07, 30.09, 21.2...   \n",
       "133152  [12.18, 10.48, 8.68, 6.98, 7.0, 6.64, 6.62, 6....   \n",
       "\n",
       "        SCM_D_FINANCE_CM2_sum  \\\n",
       "131850                   4.87   \n",
       "98363                   -9.30   \n",
       "110834                  59.70   \n",
       "201928                 103.84   \n",
       "133152                   3.74   \n",
       "\n",
       "                                   SCM_D_FINANCE_CM2_list  \\\n",
       "131850                                             [4.87]   \n",
       "98363                                              [-9.3]   \n",
       "110834    [6.73, 5.09, 8.68, 6.31, 14.9, 5.76, 3.53, 8.7]   \n",
       "201928  [1.31, 12.52, 6.74, 15.96, 8.63, 11.73, 12.25,...   \n",
       "133152  [2.69, 0.99, 0.26, -1.44, -1.42, -3.71, -1.32,...   \n",
       "\n",
       "        SCM_D_ORIG_FINANCE_ORDER_NET_sum  ...    \\\n",
       "131850                             43.73  ...     \n",
       "98363                              35.80  ...     \n",
       "110834                            320.62  ...     \n",
       "201928                            725.94  ...     \n",
       "133152                            748.44  ...     \n",
       "\n",
       "                                          TOTAL_PG3_SALES  \\\n",
       "131850            [(251, 43.99), (48963, 2.9), (0, 1.49)]   \n",
       "98363         [(207553, 36.99), (48963, 4.9), (0, -2.09)]   \n",
       "110834  [(252, 100.93), (301, 94.9), (34, 68.92), (47,...   \n",
       "201928  [(251, 723.62), (207553, 49.99), (857, 49.25),...   \n",
       "133152  [(251, 785.87), (15, 42.98), (207553, 18.49), ...   \n",
       "\n",
       "                                          TOTAL_PG4_SALES  \\\n",
       "131850                        [(81396, 43.99), (0, 4.39)]   \n",
       "98363                        [(207615, 36.99), (0, 2.81)]   \n",
       "110834  [(10331, 94.9), (72002, 61.94), (683, 39.97), ...   \n",
       "201928  [(2051, 296.54), (35825, 204.55), (180361, 177...   \n",
       "133152  [(81396, 785.87), (92, 29.99), (207615, 18.49)...   \n",
       "\n",
       "                                        TOTAL_BRAND_SALES SP_PY_POS  \\\n",
       "131850  [(Royal Canin Veterinary Diet, 43.99), (unknow...         0   \n",
       "98363       [(Halsband, 36.99), (unknown, 4.9), (nan, 0)]         0   \n",
       "110834  [(★ Tigerino, 94.9), (Getrocknet & natürlich, ...         1   \n",
       "201928  [(Markus Mühle, 296.54), (★ Wolf of Wilderness...         0   \n",
       "133152  [(Royal Canin Veterinary Diet, 785.87), (Hunde...         1   \n",
       "\n",
       "       DAYS_UNTIL_1st_SP SP_ORDERS NO_SP_ORDERS DAYS_IN_DF DAYS_AFTER_1st_SP  \\\n",
       "131850               0.0         1            0        696             696.0   \n",
       "98363                0.0         1            0        792             792.0   \n",
       "110834              13.0         7            1        760             747.0   \n",
       "201928               0.0        11            0        467             467.0   \n",
       "133152              51.0         7            7        691             640.0   \n",
       "\n",
       "       SP_CUS  \n",
       "131850      1  \n",
       "98363       1  \n",
       "110834      1  \n",
       "201928      1  \n",
       "133152      1  \n",
       "\n",
       "[5 rows x 38 columns]"
      ]
     },
     "execution_count": 93,
     "metadata": {},
     "output_type": "execute_result"
    }
   ],
   "source": [
    "sp_customers.sample(5)"
   ]
  },
  {
   "cell_type": "markdown",
   "metadata": {},
   "source": [
    "Let's get those customers having at least 168 days of performance with/without SP "
   ]
  },
  {
   "cell_type": "code",
   "execution_count": 94,
   "metadata": {
    "ExecuteTime": {
     "end_time": "2018-11-29T15:13:25.105006Z",
     "start_time": "2018-11-29T15:13:25.090006Z"
    }
   },
   "outputs": [],
   "source": [
    "sp_customers_168 = sp_customers[(sp_customers['DAYS_UNTIL_1st_SP'] >= 168) & (sp_customers['DAYS_AFTER_1st_SP'] >= 168)].copy()"
   ]
  },
  {
   "cell_type": "code",
   "execution_count": 95,
   "metadata": {
    "ExecuteTime": {
     "end_time": "2018-11-29T15:13:25.111006Z",
     "start_time": "2018-11-29T15:13:25.106006Z"
    }
   },
   "outputs": [
    {
     "data": {
      "text/plain": [
       "7003"
      ]
     },
     "execution_count": 95,
     "metadata": {},
     "output_type": "execute_result"
    }
   ],
   "source": [
    "len(sp_customers_168)"
   ]
  },
  {
   "cell_type": "markdown",
   "metadata": {},
   "source": [
    "+ KPIs: **Sales, CM1, CM2, AOV, Order Frequency** during a **fixed time period**\n",
    "- **Number of PG3s** the customer bought in and **Sales Share** in the according class \n",
    "+ Spend in the classes that he did not buy before but started buying in with Savingsplan (would only work for Scenario b))\n",
    "+ Average Sales Share of Royal Canin products – with/without SP\n",
    "+ Average Sales Share of Hills products – with/without SP"
   ]
  },
  {
   "cell_type": "markdown",
   "metadata": {},
   "source": [
    "Now we need to create a boolean mask that let us obtain only order informations regarding each 168 days period..."
   ]
  },
  {
   "cell_type": "code",
   "execution_count": 96,
   "metadata": {
    "ExecuteTime": {
     "end_time": "2018-11-29T15:13:25.161006Z",
     "start_time": "2018-11-29T15:13:25.112006Z"
    }
   },
   "outputs": [],
   "source": [
    "sp_customers_168['MASK_168_BEF'] = [[(date >= (y[x] - timedelta(days=169))) and (date <= y[x]) \n",
    "                                     for date in y[:x]] for x, y in list(zip(sp_customers_168['SP_PY_POS'], \n",
    "                                                        sp_customers_168['TDT_T_KEY_ORDER_DATE_list']))]"
   ]
  },
  {
   "cell_type": "code",
   "execution_count": 97,
   "metadata": {
    "ExecuteTime": {
     "end_time": "2018-11-29T15:13:25.215006Z",
     "start_time": "2018-11-29T15:13:25.162006Z"
    }
   },
   "outputs": [],
   "source": [
    "sp_customers_168['MASK_168_AFT'] = [[(date >= y[x]) and (date <= (y[x] + timedelta(days=168)))\n",
    "                                    for date in y[x:]] \n",
    "                                    for x, y in list(zip(sp_customers_168['SP_PY_POS'], \n",
    "                                                        sp_customers_168['TDT_T_KEY_ORDER_DATE_list']))]"
   ]
  },
  {
   "cell_type": "markdown",
   "metadata": {},
   "source": [
    "As a request from business, they want as a minimum 1 order placed in the 168 days time window before SP purchasing...son we need at least that the sum osf 'MASK_252_BEF' >= 1, that means at least 1 True value"
   ]
  },
  {
   "cell_type": "code",
   "execution_count": 98,
   "metadata": {
    "ExecuteTime": {
     "end_time": "2018-11-29T15:13:25.223006Z",
     "start_time": "2018-11-29T15:13:25.216006Z"
    }
   },
   "outputs": [],
   "source": [
    "sp_customers_168['ONE_ORDER_BEFORE'] = [(sum(i) >= 1) * 1 for i in sp_customers_168['MASK_168_BEF'].values]"
   ]
  },
  {
   "cell_type": "code",
   "execution_count": 99,
   "metadata": {
    "ExecuteTime": {
     "end_time": "2018-11-29T15:13:25.265006Z",
     "start_time": "2018-11-29T15:13:25.225006Z"
    }
   },
   "outputs": [],
   "source": [
    "sp_customers_168 = sp_customers_168[sp_customers_168['ONE_ORDER_BEFORE'] == 1].copy()"
   ]
  },
  {
   "cell_type": "code",
   "execution_count": 100,
   "metadata": {
    "ExecuteTime": {
     "end_time": "2018-11-29T15:13:25.332006Z",
     "start_time": "2018-11-29T15:13:25.266006Z"
    }
   },
   "outputs": [],
   "source": [
    "sp_customers_168['SALES_168_BEF'] = [np.round(sum(list(compress(i, j))), 2) for i, j in list(zip(sp_customers_168['SCM_SALES_BMF_list'], \n",
    "                                                                        sp_customers_168['MASK_168_BEF']))]"
   ]
  },
  {
   "cell_type": "code",
   "execution_count": 101,
   "metadata": {
    "ExecuteTime": {
     "end_time": "2018-11-29T15:13:25.394006Z",
     "start_time": "2018-11-29T15:13:25.333006Z"
    }
   },
   "outputs": [],
   "source": [
    "sp_customers_168['SALES_168_AFT'] = [np.round(sum(list(compress(i, j))), 2) for i, j in list(zip(sp_customers_168['SCM_SALES_BMF_list'], \n",
    "                                                                        sp_customers_168['MASK_168_AFT']))]"
   ]
  },
  {
   "cell_type": "code",
   "execution_count": 102,
   "metadata": {
    "ExecuteTime": {
     "end_time": "2018-11-29T15:13:25.504006Z",
     "start_time": "2018-11-29T15:13:25.395006Z"
    }
   },
   "outputs": [],
   "source": [
    "sp_customers_168['AOV_168_BEF'] = [np.round(np.mean(list(compress(i, j))), 2) for i, j in list(zip(sp_customers_168['SCM_SALES_BMF_list'], \n",
    "                                                                        sp_customers_168['MASK_168_BEF']))]"
   ]
  },
  {
   "cell_type": "code",
   "execution_count": 103,
   "metadata": {
    "ExecuteTime": {
     "end_time": "2018-11-29T15:13:25.618006Z",
     "start_time": "2018-11-29T15:13:25.505006Z"
    }
   },
   "outputs": [],
   "source": [
    "sp_customers_168['AOV_168_AFT'] = [np.round(np.mean(list(compress(i, j))), 2) for i, j in list(zip(sp_customers_168['SCM_SALES_BMF_list'], \n",
    "                                                                        sp_customers_168['MASK_168_AFT']))]"
   ]
  },
  {
   "cell_type": "code",
   "execution_count": 104,
   "metadata": {
    "ExecuteTime": {
     "end_time": "2018-11-29T15:13:25.630006Z",
     "start_time": "2018-11-29T15:13:25.619006Z"
    }
   },
   "outputs": [],
   "source": [
    "sp_customers_168['OF_168_BEF'] = [len(list(compress(i, j))) for i, j in list(zip(sp_customers_168['SCM_SALES_BMF_list'], \n",
    "                                                                        sp_customers_168['MASK_168_BEF']))]"
   ]
  },
  {
   "cell_type": "code",
   "execution_count": 105,
   "metadata": {
    "ExecuteTime": {
     "end_time": "2018-11-29T15:13:25.657006Z",
     "start_time": "2018-11-29T15:13:25.632006Z"
    }
   },
   "outputs": [],
   "source": [
    "sp_customers_168['OF_168_AFT'] = [len(list(compress(i, j))) for i, j in list(zip(sp_customers_168['SCM_SALES_BMF_list'], \n",
    "                                                                        sp_customers_168['MASK_168_AFT']))]"
   ]
  },
  {
   "cell_type": "code",
   "execution_count": 106,
   "metadata": {
    "ExecuteTime": {
     "end_time": "2018-11-29T15:13:25.682006Z",
     "start_time": "2018-11-29T15:13:25.659006Z"
    }
   },
   "outputs": [],
   "source": [
    "sp_customers_168['CM1_168_BEF'] = [list(compress(i, j)) for i, j in list(zip(sp_customers_168['SCM_D_FINANCE_CM1_list'], \n",
    "                                                                        sp_customers_168['MASK_168_BEF']))]"
   ]
  },
  {
   "cell_type": "code",
   "execution_count": 107,
   "metadata": {
    "ExecuteTime": {
     "end_time": "2018-11-29T15:13:25.710006Z",
     "start_time": "2018-11-29T15:13:25.684006Z"
    }
   },
   "outputs": [],
   "source": [
    "sp_customers_168['CM1_168_AFT'] = [list(compress(i, j)) for i, j in list(zip(sp_customers_168['SCM_D_FINANCE_CM1_list'], \n",
    "                                                                        sp_customers_168['MASK_168_AFT']))]"
   ]
  },
  {
   "cell_type": "code",
   "execution_count": 108,
   "metadata": {
    "ExecuteTime": {
     "end_time": "2018-11-29T15:13:25.734006Z",
     "start_time": "2018-11-29T15:13:25.712006Z"
    }
   },
   "outputs": [],
   "source": [
    "sp_customers_168['CM2_168_BEF'] = [list(compress(i, j)) for i, j in list(zip(sp_customers_168['SCM_D_FINANCE_CM2_list'], \n",
    "                                                                        sp_customers_168['MASK_168_BEF']))]"
   ]
  },
  {
   "cell_type": "code",
   "execution_count": 109,
   "metadata": {
    "ExecuteTime": {
     "end_time": "2018-11-29T15:13:25.767006Z",
     "start_time": "2018-11-29T15:13:25.736006Z"
    }
   },
   "outputs": [],
   "source": [
    "sp_customers_168['CM2_168_AFT'] = [list(compress(i, j)) for i, j in list(zip(sp_customers_168['SCM_D_FINANCE_CM2_list'], \n",
    "                                                                        sp_customers_168['MASK_168_AFT']))]"
   ]
  },
  {
   "cell_type": "code",
   "execution_count": 110,
   "metadata": {
    "ExecuteTime": {
     "end_time": "2018-11-29T15:13:25.793006Z",
     "start_time": "2018-11-29T15:13:25.769006Z"
    }
   },
   "outputs": [],
   "source": [
    "sp_customers_168['NET_SALES_168_BEF'] = [list(compress(i, j)) for i, j in list(zip(sp_customers_168['SCM_D_ORIG_FINANCE_ORDER_NET_list'], \n",
    "                                                                        sp_customers_168['MASK_168_BEF']))]"
   ]
  },
  {
   "cell_type": "code",
   "execution_count": 111,
   "metadata": {
    "ExecuteTime": {
     "end_time": "2018-11-29T15:13:25.820006Z",
     "start_time": "2018-11-29T15:13:25.795006Z"
    }
   },
   "outputs": [],
   "source": [
    "sp_customers_168['NET_SALES_168_AFT'] = [list(compress(i, j)) for i, j in list(zip(sp_customers_168['SCM_D_ORIG_FINANCE_ORDER_NET_list'], \n",
    "                                                                        sp_customers_168['MASK_168_AFT']))]"
   ]
  },
  {
   "cell_type": "code",
   "execution_count": 112,
   "metadata": {
    "ExecuteTime": {
     "end_time": "2018-11-29T15:13:25.893006Z",
     "start_time": "2018-11-29T15:13:25.821006Z"
    }
   },
   "outputs": [],
   "source": [
    "sp_customers_168['CM1%_168_BEF'] = [np.round(sum(x) / sum(y) * 100, 2) if sum(y) != 0 else 0 \n",
    "                                    for x, y in list(zip(sp_customers_168['CM1_168_BEF'], \n",
    "                                                        sp_customers_168['NET_SALES_168_BEF']))]"
   ]
  },
  {
   "cell_type": "code",
   "execution_count": 113,
   "metadata": {
    "ExecuteTime": {
     "end_time": "2018-11-29T15:13:25.960006Z",
     "start_time": "2018-11-29T15:13:25.895006Z"
    }
   },
   "outputs": [],
   "source": [
    "sp_customers_168['CM1%_168_AFT'] = [np.round(sum(x) / sum(y) * 100, 2) if sum(y) != 0 else 0 \n",
    "                                    for x, y in list(zip(sp_customers_168['CM1_168_AFT'], \n",
    "                                                        sp_customers_168['NET_SALES_168_AFT']))]"
   ]
  },
  {
   "cell_type": "code",
   "execution_count": 114,
   "metadata": {
    "ExecuteTime": {
     "end_time": "2018-11-29T15:13:26.027006Z",
     "start_time": "2018-11-29T15:13:25.961006Z"
    }
   },
   "outputs": [],
   "source": [
    "sp_customers_168['CM2%_168_BEF'] = [np.round(sum(x) / sum(y) * 100, 2) if sum(y) != 0 else 0 \n",
    "                                    for x, y in list(zip(sp_customers_168['CM2_168_BEF'], \n",
    "                                                        sp_customers_168['NET_SALES_168_BEF']))]"
   ]
  },
  {
   "cell_type": "code",
   "execution_count": 115,
   "metadata": {
    "ExecuteTime": {
     "end_time": "2018-11-29T15:13:26.097006Z",
     "start_time": "2018-11-29T15:13:26.029006Z"
    }
   },
   "outputs": [],
   "source": [
    "sp_customers_168['CM2%_168_AFT'] = [np.round(sum(x) / sum(y) * 100, 2) if sum(y) != 0 else 0 \n",
    "                                    for x, y in list(zip(sp_customers_168['CM2_168_AFT'], \n",
    "                                                        sp_customers_168['NET_SALES_168_AFT']))]"
   ]
  },
  {
   "cell_type": "code",
   "execution_count": 116,
   "metadata": {
    "ExecuteTime": {
     "end_time": "2018-11-29T15:13:26.115006Z",
     "start_time": "2018-11-29T15:13:26.098006Z"
    }
   },
   "outputs": [],
   "source": [
    "sp_customers_168['PG3_168_BEF_AGGSALES'] = [list(compress(i, j)) for i, j in list(zip(sp_customers_168['PG3_AGGSALES'], \n",
    "                                                                               sp_customers_168['MASK_168_BEF']))]"
   ]
  },
  {
   "cell_type": "code",
   "execution_count": 117,
   "metadata": {
    "ExecuteTime": {
     "end_time": "2018-11-29T15:13:26.141006Z",
     "start_time": "2018-11-29T15:13:26.116006Z"
    }
   },
   "outputs": [],
   "source": [
    "sp_customers_168['PG3_168_AFT_AGGSALES'] = [list(compress(i, j)) for i, j in list(zip(sp_customers_168['PG3_AGGSALES'], \n",
    "                                                                               sp_customers_168['MASK_168_AFT']))]"
   ]
  },
  {
   "cell_type": "code",
   "execution_count": 118,
   "metadata": {
    "ExecuteTime": {
     "end_time": "2018-11-29T15:13:26.171006Z",
     "start_time": "2018-11-29T15:13:26.143006Z"
    }
   },
   "outputs": [],
   "source": [
    "sp_customers_168['PG3_168_BEF_FLAT_SALES'] = [[k for j in i for k in j] for i in sp_customers_168['PG3_168_BEF_AGGSALES']]"
   ]
  },
  {
   "cell_type": "code",
   "execution_count": 119,
   "metadata": {
    "ExecuteTime": {
     "end_time": "2018-11-29T15:13:26.200006Z",
     "start_time": "2018-11-29T15:13:26.173006Z"
    }
   },
   "outputs": [],
   "source": [
    "sp_customers_168['PG3_168_AFT_FLAT_SALES'] = [[k for j in i for k in j] for i in sp_customers_168['PG3_168_AFT_AGGSALES']]"
   ]
  },
  {
   "cell_type": "code",
   "execution_count": 120,
   "metadata": {
    "ExecuteTime": {
     "end_time": "2018-11-29T15:13:26.475006Z",
     "start_time": "2018-11-29T15:13:26.201006Z"
    }
   },
   "outputs": [],
   "source": [
    "sp_customers_168['PG3_TOTAL_SALES_168_BEF'] = [sorted([(pg3, np.round(sum([sales_ for pg_3_, sales_ in i if pg3==pg_3_\n",
    "                                                        ]), 3)) \n",
    "                                        for pg3 in set([pg_3 for pg_3, sales in i])], key= lambda x: x[1], reverse=True) \n",
    "                                        for i in sp_customers_168['PG3_168_BEF_FLAT_SALES']]"
   ]
  },
  {
   "cell_type": "code",
   "execution_count": 121,
   "metadata": {
    "ExecuteTime": {
     "end_time": "2018-11-29T15:13:26.809006Z",
     "start_time": "2018-11-29T15:13:26.477006Z"
    }
   },
   "outputs": [],
   "source": [
    "sp_customers_168['PG3_TOTAL_SALES_168_AFT'] = [sorted([(pg3, np.round(sum([sales_ for pg_3_, sales_ in i if pg3==pg_3_\n",
    "                                                        ]), 3)) \n",
    "                                        for pg3 in set([pg_3 for pg_3, sales in i])], key= lambda x: x[1], reverse=True) \n",
    "                                        for i in sp_customers_168['PG3_168_AFT_FLAT_SALES']]"
   ]
  },
  {
   "cell_type": "code",
   "execution_count": 122,
   "metadata": {
    "ExecuteTime": {
     "end_time": "2018-11-29T15:13:26.821006Z",
     "start_time": "2018-11-29T15:13:26.810006Z"
    }
   },
   "outputs": [],
   "source": [
    "sp_customers_168['DICT_PG3_SALES_168_BEF'] = [{j[0]: j[1] for j in i if j[0] != 0} \n",
    "                                               for i in sp_customers_168['PG3_TOTAL_SALES_168_BEF'].values]"
   ]
  },
  {
   "cell_type": "code",
   "execution_count": 123,
   "metadata": {
    "ExecuteTime": {
     "end_time": "2018-11-29T15:13:26.843006Z",
     "start_time": "2018-11-29T15:13:26.822006Z"
    }
   },
   "outputs": [],
   "source": [
    "sp_customers_168['DICT_PG3_SALES_168_AFT'] = [{j[0]: j[1] for j in i if j[0] != 0} \n",
    "                                               for i in sp_customers_168['PG3_TOTAL_SALES_168_AFT'].values]"
   ]
  },
  {
   "cell_type": "code",
   "execution_count": 124,
   "metadata": {
    "ExecuteTime": {
     "end_time": "2018-11-29T15:13:27.053006Z",
     "start_time": "2018-11-29T15:13:26.845006Z"
    }
   },
   "outputs": [],
   "source": [
    "sp_customers_168['DICT_PG3_SHARE_168_BEF'] = [{a: np.round(b/sum(i.values())*100, 2) \n",
    "                                               for a, b in list(zip(i.keys(), i.values()))}\n",
    "                                               for i in sp_customers_168['DICT_PG3_SALES_168_BEF'].values]"
   ]
  },
  {
   "cell_type": "code",
   "execution_count": 125,
   "metadata": {
    "ExecuteTime": {
     "end_time": "2018-11-29T15:13:27.322006Z",
     "start_time": "2018-11-29T15:13:27.054006Z"
    }
   },
   "outputs": [],
   "source": [
    "sp_customers_168['DICT_PG3_SHARE_168_AFT'] = [{a: np.round(b/sum(i.values())*100, 2) \n",
    "                                               for a, b in list(zip(i.keys(), i.values()))}\n",
    "                                               for i in sp_customers_168['DICT_PG3_SALES_168_AFT'].values]"
   ]
  },
  {
   "cell_type": "code",
   "execution_count": 126,
   "metadata": {
    "ExecuteTime": {
     "end_time": "2018-11-29T15:13:27.329006Z",
     "start_time": "2018-11-29T15:13:27.323006Z"
    }
   },
   "outputs": [],
   "source": [
    "sp_customers_168['DIFF_PG3_168_BEF'] = [len(i.keys()) for i in sp_customers_168['DICT_PG3_SHARE_168_BEF']]"
   ]
  },
  {
   "cell_type": "code",
   "execution_count": 127,
   "metadata": {
    "ExecuteTime": {
     "end_time": "2018-11-29T15:13:27.352006Z",
     "start_time": "2018-11-29T15:13:27.330006Z"
    }
   },
   "outputs": [],
   "source": [
    "sp_customers_168['DIFF_PG3_168_AFT'] = [len(i.keys()) for i in sp_customers_168['DICT_PG3_SHARE_168_AFT']]"
   ]
  },
  {
   "cell_type": "markdown",
   "metadata": {},
   "source": [
    "#### Total Sales"
   ]
  },
  {
   "cell_type": "code",
   "execution_count": 128,
   "metadata": {
    "ExecuteTime": {
     "end_time": "2018-11-29T15:13:27.924006Z",
     "start_time": "2018-11-29T15:13:27.353006Z"
    }
   },
   "outputs": [
    {
     "data": {
      "image/png": "[encoded data removed]",
      "text/plain": [
       "<matplotlib.figure.Figure at 0x1b7019cf8>"
      ]
     },
     "metadata": {},
     "output_type": "display_data"
    },
    {
     "data": {
      "text/html": [
       "<div>\n",
       "<style scoped>\n",
       "    .dataframe tbody tr th:only-of-type {\n",
       "        vertical-align: middle;\n",
       "    }\n",
       "\n",
       "    .dataframe tbody tr th {\n",
       "        vertical-align: top;\n",
       "    }\n",
       "\n",
       "    .dataframe thead th {\n",
       "        text-align: right;\n",
       "    }\n",
       "</style>\n",
       "<table border=\"1\" class=\"dataframe\">\n",
       "  <thead>\n",
       "    <tr style=\"text-align: right;\">\n",
       "      <th></th>\n",
       "      <th>168 days before</th>\n",
       "      <th>168 days after</th>\n",
       "    </tr>\n",
       "  </thead>\n",
       "  <tbody>\n",
       "    <tr>\n",
       "      <th>count</th>\n",
       "      <td>5387.00</td>\n",
       "      <td>5387.00</td>\n",
       "    </tr>\n",
       "    <tr>\n",
       "      <th>mean</th>\n",
       "      <td>187.26</td>\n",
       "      <td>263.58</td>\n",
       "    </tr>\n",
       "    <tr>\n",
       "      <th>std</th>\n",
       "      <td>173.90</td>\n",
       "      <td>241.91</td>\n",
       "    </tr>\n",
       "    <tr>\n",
       "      <th>min</th>\n",
       "      <td>2.90</td>\n",
       "      <td>2.90</td>\n",
       "    </tr>\n",
       "    <tr>\n",
       "      <th>25%</th>\n",
       "      <td>82.41</td>\n",
       "      <td>131.28</td>\n",
       "    </tr>\n",
       "    <tr>\n",
       "      <th>50%</th>\n",
       "      <td>142.92</td>\n",
       "      <td>211.67</td>\n",
       "    </tr>\n",
       "    <tr>\n",
       "      <th>75%</th>\n",
       "      <td>238.90</td>\n",
       "      <td>331.46</td>\n",
       "    </tr>\n",
       "    <tr>\n",
       "      <th>max</th>\n",
       "      <td>4086.60</td>\n",
       "      <td>9734.06</td>\n",
       "    </tr>\n",
       "  </tbody>\n",
       "</table>\n",
       "</div>"
      ],
      "text/plain": [
       "       168 days before  168 days after\n",
       "count          5387.00         5387.00\n",
       "mean            187.26          263.58\n",
       "std             173.90          241.91\n",
       "min               2.90            2.90\n",
       "25%              82.41          131.28\n",
       "50%             142.92          211.67\n",
       "75%             238.90          331.46\n",
       "max            4086.60         9734.06"
      ]
     },
     "metadata": {},
     "output_type": "display_data"
    }
   ],
   "source": [
    "concat_df = pd.DataFrame()\n",
    "\n",
    "sns.set()\n",
    "plt.figure(figsize=(12,8))\n",
    "plt.title('Histograms showing total sales per customer in 168 days before/after SP purchasing', fontsize=14)\n",
    "plt.ylabel('Customers')\n",
    "plt.xlabel('Sales')\n",
    "\n",
    "sp_customers_168['SALES_168_BEF'].hist(bins=80, range=(0, 800), alpha=0.5)\n",
    "sp_customers_168['SALES_168_AFT'].hist(bins=80, range=(0, 800), alpha=0.5)\n",
    "plt.legend(['168 days before', '168 days after'])\n",
    "concat_df = pd.concat([concat_df,\n",
    "                    pd.DataFrame(sp_customers_168['SALES_168_BEF'].describe().round(2)),\n",
    "                    pd.DataFrame(sp_customers_168['SALES_168_AFT'].describe().round(2)),\n",
    "                        ], axis=1)\n",
    "plt.show() \n",
    "\n",
    "concat_df.columns = ['168 days before', '168 days after']\n",
    "display(concat_df)"
   ]
  },
  {
   "cell_type": "markdown",
   "metadata": {},
   "source": [
    "#### AOV"
   ]
  },
  {
   "cell_type": "code",
   "execution_count": 129,
   "metadata": {
    "ExecuteTime": {
     "end_time": "2018-11-29T15:13:28.245006Z",
     "start_time": "2018-11-29T15:13:27.925006Z"
    }
   },
   "outputs": [
    {
     "data": {
      "image/png": "[encoded data removed]",
      "text/plain": [
       "<matplotlib.figure.Figure at 0x1bad79e10>"
      ]
     },
     "metadata": {},
     "output_type": "display_data"
    },
    {
     "data": {
      "text/html": [
       "<div>\n",
       "<style scoped>\n",
       "    .dataframe tbody tr th:only-of-type {\n",
       "        vertical-align: middle;\n",
       "    }\n",
       "\n",
       "    .dataframe tbody tr th {\n",
       "        vertical-align: top;\n",
       "    }\n",
       "\n",
       "    .dataframe thead th {\n",
       "        text-align: right;\n",
       "    }\n",
       "</style>\n",
       "<table border=\"1\" class=\"dataframe\">\n",
       "  <thead>\n",
       "    <tr style=\"text-align: right;\">\n",
       "      <th></th>\n",
       "      <th>168 days before</th>\n",
       "      <th>168 days after</th>\n",
       "    </tr>\n",
       "  </thead>\n",
       "  <tbody>\n",
       "    <tr>\n",
       "      <th>count</th>\n",
       "      <td>5387.00</td>\n",
       "      <td>5387.00</td>\n",
       "    </tr>\n",
       "    <tr>\n",
       "      <th>mean</th>\n",
       "      <td>71.22</td>\n",
       "      <td>69.06</td>\n",
       "    </tr>\n",
       "    <tr>\n",
       "      <th>std</th>\n",
       "      <td>35.62</td>\n",
       "      <td>32.46</td>\n",
       "    </tr>\n",
       "    <tr>\n",
       "      <th>min</th>\n",
       "      <td>2.90</td>\n",
       "      <td>2.90</td>\n",
       "    </tr>\n",
       "    <tr>\n",
       "      <th>25%</th>\n",
       "      <td>48.64</td>\n",
       "      <td>48.68</td>\n",
       "    </tr>\n",
       "    <tr>\n",
       "      <th>50%</th>\n",
       "      <td>62.92</td>\n",
       "      <td>61.59</td>\n",
       "    </tr>\n",
       "    <tr>\n",
       "      <th>75%</th>\n",
       "      <td>84.46</td>\n",
       "      <td>81.28</td>\n",
       "    </tr>\n",
       "    <tr>\n",
       "      <th>max</th>\n",
       "      <td>364.73</td>\n",
       "      <td>413.90</td>\n",
       "    </tr>\n",
       "  </tbody>\n",
       "</table>\n",
       "</div>"
      ],
      "text/plain": [
       "       168 days before  168 days after\n",
       "count          5387.00         5387.00\n",
       "mean             71.22           69.06\n",
       "std              35.62           32.46\n",
       "min               2.90            2.90\n",
       "25%              48.64           48.68\n",
       "50%              62.92           61.59\n",
       "75%              84.46           81.28\n",
       "max             364.73          413.90"
      ]
     },
     "metadata": {},
     "output_type": "display_data"
    }
   ],
   "source": [
    "concat_df = pd.DataFrame()\n",
    "\n",
    "sns.set()\n",
    "plt.figure(figsize=(12,8))\n",
    "plt.title('Histograms showing AOV per customer in 168 days before/after SP purchasing', fontsize=14)\n",
    "plt.ylabel('Customers')\n",
    "plt.xlabel('AOV')\n",
    "\n",
    "sp_customers_168['AOV_168_BEF'].hist(bins=50, range=(0, 250), alpha=0.5)\n",
    "sp_customers_168['AOV_168_AFT'].hist(bins=50, range=(0, 250), alpha=0.5)\n",
    "plt.legend(['168 days before', '168 days after'])\n",
    "concat_df = pd.concat([concat_df,\n",
    "                    pd.DataFrame(sp_customers_168['AOV_168_BEF'].describe().round(2)),\n",
    "                    pd.DataFrame(sp_customers_168['AOV_168_AFT'].describe().round(2)),\n",
    "                        ], axis=1)\n",
    "plt.show() \n",
    "\n",
    "concat_df.columns = ['168 days before', '168 days after']\n",
    "display(concat_df)"
   ]
  },
  {
   "cell_type": "markdown",
   "metadata": {},
   "source": [
    "#### Order Frequency"
   ]
  },
  {
   "cell_type": "code",
   "execution_count": 130,
   "metadata": {
    "ExecuteTime": {
     "end_time": "2018-11-29T15:13:28.497006Z",
     "start_time": "2018-11-29T15:13:28.247006Z"
    }
   },
   "outputs": [
    {
     "data": {
      "image/png": "[encoded data removed]",
      "text/plain": [
       "<matplotlib.figure.Figure at 0x1b5483ef0>"
      ]
     },
     "metadata": {},
     "output_type": "display_data"
    },
    {
     "data": {
      "text/html": [
       "<div>\n",
       "<style scoped>\n",
       "    .dataframe tbody tr th:only-of-type {\n",
       "        vertical-align: middle;\n",
       "    }\n",
       "\n",
       "    .dataframe tbody tr th {\n",
       "        vertical-align: top;\n",
       "    }\n",
       "\n",
       "    .dataframe thead th {\n",
       "        text-align: right;\n",
       "    }\n",
       "</style>\n",
       "<table border=\"1\" class=\"dataframe\">\n",
       "  <thead>\n",
       "    <tr style=\"text-align: right;\">\n",
       "      <th></th>\n",
       "      <th>168 days before</th>\n",
       "      <th>168 days after</th>\n",
       "    </tr>\n",
       "  </thead>\n",
       "  <tbody>\n",
       "    <tr>\n",
       "      <th>count</th>\n",
       "      <td>5387.00</td>\n",
       "      <td>5387.00</td>\n",
       "    </tr>\n",
       "    <tr>\n",
       "      <th>mean</th>\n",
       "      <td>2.66</td>\n",
       "      <td>3.80</td>\n",
       "    </tr>\n",
       "    <tr>\n",
       "      <th>std</th>\n",
       "      <td>1.90</td>\n",
       "      <td>2.44</td>\n",
       "    </tr>\n",
       "    <tr>\n",
       "      <th>min</th>\n",
       "      <td>1.00</td>\n",
       "      <td>1.00</td>\n",
       "    </tr>\n",
       "    <tr>\n",
       "      <th>25%</th>\n",
       "      <td>1.00</td>\n",
       "      <td>2.00</td>\n",
       "    </tr>\n",
       "    <tr>\n",
       "      <th>50%</th>\n",
       "      <td>2.00</td>\n",
       "      <td>3.00</td>\n",
       "    </tr>\n",
       "    <tr>\n",
       "      <th>75%</th>\n",
       "      <td>3.00</td>\n",
       "      <td>5.00</td>\n",
       "    </tr>\n",
       "    <tr>\n",
       "      <th>max</th>\n",
       "      <td>29.00</td>\n",
       "      <td>72.00</td>\n",
       "    </tr>\n",
       "  </tbody>\n",
       "</table>\n",
       "</div>"
      ],
      "text/plain": [
       "       168 days before  168 days after\n",
       "count          5387.00         5387.00\n",
       "mean              2.66            3.80\n",
       "std               1.90            2.44\n",
       "min               1.00            1.00\n",
       "25%               1.00            2.00\n",
       "50%               2.00            3.00\n",
       "75%               3.00            5.00\n",
       "max              29.00           72.00"
      ]
     },
     "metadata": {},
     "output_type": "display_data"
    }
   ],
   "source": [
    "concat_df = pd.DataFrame()\n",
    "\n",
    "sns.set()\n",
    "plt.figure(figsize=(12,8))\n",
    "plt.title('Histograms showing order frequency per customer in 168 days before/after SP purchasing', fontsize=14)\n",
    "plt.ylabel('Customers')\n",
    "plt.xlabel('AOV')\n",
    "\n",
    "sp_customers_168['OF_168_BEF'].hist(bins=20, range=(0, 20), alpha=0.5)\n",
    "sp_customers_168['OF_168_AFT'].hist(bins=20, range=(0, 20), alpha=0.5)\n",
    "plt.legend(['168 days before', '168 days after'])\n",
    "concat_df = pd.concat([concat_df,\n",
    "                    pd.DataFrame(sp_customers_168['OF_168_BEF'].describe().round(2)),\n",
    "                    pd.DataFrame(sp_customers_168['OF_168_AFT'].describe().round(2)),\n",
    "                        ], axis=1)\n",
    "plt.show() \n",
    "\n",
    "concat_df.columns = ['168 days before', '168 days after']\n",
    "display(concat_df)"
   ]
  },
  {
   "cell_type": "markdown",
   "metadata": {},
   "source": [
    "#### CM1% & CM2%"
   ]
  },
  {
   "cell_type": "code",
   "execution_count": 131,
   "metadata": {
    "ExecuteTime": {
     "end_time": "2018-11-29T15:13:28.942006Z",
     "start_time": "2018-11-29T15:13:28.498006Z"
    }
   },
   "outputs": [
    {
     "data": {
      "image/png": "[encoded data removed]",
      "text/plain": [
       "<matplotlib.figure.Figure at 0x1bda7b7f0>"
      ]
     },
     "metadata": {},
     "output_type": "display_data"
    },
    {
     "data": {
      "text/html": [
       "<div>\n",
       "<style scoped>\n",
       "    .dataframe tbody tr th:only-of-type {\n",
       "        vertical-align: middle;\n",
       "    }\n",
       "\n",
       "    .dataframe tbody tr th {\n",
       "        vertical-align: top;\n",
       "    }\n",
       "\n",
       "    .dataframe thead th {\n",
       "        text-align: right;\n",
       "    }\n",
       "</style>\n",
       "<table border=\"1\" class=\"dataframe\">\n",
       "  <thead>\n",
       "    <tr style=\"text-align: right;\">\n",
       "      <th></th>\n",
       "      <th>168 days before</th>\n",
       "      <th>168 days after</th>\n",
       "    </tr>\n",
       "  </thead>\n",
       "  <tbody>\n",
       "    <tr>\n",
       "      <th>count</th>\n",
       "      <td>5387.00</td>\n",
       "      <td>5387.00</td>\n",
       "    </tr>\n",
       "    <tr>\n",
       "      <th>mean</th>\n",
       "      <td>35.15</td>\n",
       "      <td>36.20</td>\n",
       "    </tr>\n",
       "    <tr>\n",
       "      <th>std</th>\n",
       "      <td>9.05</td>\n",
       "      <td>8.55</td>\n",
       "    </tr>\n",
       "    <tr>\n",
       "      <th>min</th>\n",
       "      <td>-0.53</td>\n",
       "      <td>-19.89</td>\n",
       "    </tr>\n",
       "    <tr>\n",
       "      <th>25%</th>\n",
       "      <td>29.08</td>\n",
       "      <td>30.27</td>\n",
       "    </tr>\n",
       "    <tr>\n",
       "      <th>50%</th>\n",
       "      <td>34.16</td>\n",
       "      <td>35.35</td>\n",
       "    </tr>\n",
       "    <tr>\n",
       "      <th>75%</th>\n",
       "      <td>40.03</td>\n",
       "      <td>41.13</td>\n",
       "    </tr>\n",
       "    <tr>\n",
       "      <th>max</th>\n",
       "      <td>100.00</td>\n",
       "      <td>100.00</td>\n",
       "    </tr>\n",
       "  </tbody>\n",
       "</table>\n",
       "</div>"
      ],
      "text/plain": [
       "       168 days before  168 days after\n",
       "count          5387.00         5387.00\n",
       "mean             35.15           36.20\n",
       "std               9.05            8.55\n",
       "min              -0.53          -19.89\n",
       "25%              29.08           30.27\n",
       "50%              34.16           35.35\n",
       "75%              40.03           41.13\n",
       "max             100.00          100.00"
      ]
     },
     "metadata": {},
     "output_type": "display_data"
    }
   ],
   "source": [
    "concat_df = pd.DataFrame()\n",
    "\n",
    "sns.set()\n",
    "plt.figure(figsize=(12,8))\n",
    "plt.title('Histograms showing CM1% per SP customer in 168 days before/after SP purchasing', fontsize=14)\n",
    "plt.ylabel('Customers')\n",
    "plt.xlabel('CM1%')\n",
    "\n",
    "sp_customers_168['CM1%_168_BEF'].hist(bins=100, range=(-20, 80), alpha=0.5)\n",
    "sp_customers_168['CM1%_168_AFT'].hist(bins=100, range=(-20, 80), alpha=0.5)\n",
    "plt.legend(['168 days before', '168 days after'])\n",
    "concat_df = pd.concat([concat_df,\n",
    "                    pd.DataFrame(sp_customers_168['CM1%_168_BEF'].describe().round(2)),\n",
    "                    pd.DataFrame(sp_customers_168['CM1%_168_AFT'].describe().round(2)),\n",
    "                        ], axis=1)\n",
    "plt.show() \n",
    "\n",
    "concat_df.columns = ['168 days before', '168 days after']\n",
    "display(concat_df)"
   ]
  },
  {
   "cell_type": "code",
   "execution_count": 132,
   "metadata": {
    "ExecuteTime": {
     "end_time": "2018-11-29T15:13:29.420006Z",
     "start_time": "2018-11-29T15:13:28.944006Z"
    }
   },
   "outputs": [
    {
     "data": {
      "image/png": "[encoded data removed]",
      "text/plain": [
       "<matplotlib.figure.Figure at 0x1bdd33eb8>"
      ]
     },
     "metadata": {},
     "output_type": "display_data"
    },
    {
     "data": {
      "text/html": [
       "<div>\n",
       "<style scoped>\n",
       "    .dataframe tbody tr th:only-of-type {\n",
       "        vertical-align: middle;\n",
       "    }\n",
       "\n",
       "    .dataframe tbody tr th {\n",
       "        vertical-align: top;\n",
       "    }\n",
       "\n",
       "    .dataframe thead th {\n",
       "        text-align: right;\n",
       "    }\n",
       "</style>\n",
       "<table border=\"1\" class=\"dataframe\">\n",
       "  <thead>\n",
       "    <tr style=\"text-align: right;\">\n",
       "      <th></th>\n",
       "      <th>168 days before</th>\n",
       "      <th>168 days after</th>\n",
       "    </tr>\n",
       "  </thead>\n",
       "  <tbody>\n",
       "    <tr>\n",
       "      <th>count</th>\n",
       "      <td>5387.00</td>\n",
       "      <td>5387.00</td>\n",
       "    </tr>\n",
       "    <tr>\n",
       "      <th>mean</th>\n",
       "      <td>16.54</td>\n",
       "      <td>17.18</td>\n",
       "    </tr>\n",
       "    <tr>\n",
       "      <th>std</th>\n",
       "      <td>7.92</td>\n",
       "      <td>6.92</td>\n",
       "    </tr>\n",
       "    <tr>\n",
       "      <th>min</th>\n",
       "      <td>-62.12</td>\n",
       "      <td>-27.95</td>\n",
       "    </tr>\n",
       "    <tr>\n",
       "      <th>25%</th>\n",
       "      <td>12.43</td>\n",
       "      <td>12.97</td>\n",
       "    </tr>\n",
       "    <tr>\n",
       "      <th>50%</th>\n",
       "      <td>16.29</td>\n",
       "      <td>16.56</td>\n",
       "    </tr>\n",
       "    <tr>\n",
       "      <th>75%</th>\n",
       "      <td>20.77</td>\n",
       "      <td>21.04</td>\n",
       "    </tr>\n",
       "    <tr>\n",
       "      <th>max</th>\n",
       "      <td>100.00</td>\n",
       "      <td>100.00</td>\n",
       "    </tr>\n",
       "  </tbody>\n",
       "</table>\n",
       "</div>"
      ],
      "text/plain": [
       "       168 days before  168 days after\n",
       "count          5387.00         5387.00\n",
       "mean             16.54           17.18\n",
       "std               7.92            6.92\n",
       "min             -62.12          -27.95\n",
       "25%              12.43           12.97\n",
       "50%              16.29           16.56\n",
       "75%              20.77           21.04\n",
       "max             100.00          100.00"
      ]
     },
     "metadata": {},
     "output_type": "display_data"
    }
   ],
   "source": [
    "concat_df = pd.DataFrame()\n",
    "\n",
    "sns.set()\n",
    "plt.figure(figsize=(12,8))\n",
    "plt.title('Histograms showing CM2% per SP customer in 168 days before/after SP purchasing', fontsize=14)\n",
    "plt.ylabel('Customers')\n",
    "plt.xlabel('CM2%')\n",
    "\n",
    "sp_customers_168['CM2%_168_BEF'].hist(bins=100, range=(-20, 80), alpha=0.5)\n",
    "sp_customers_168['CM2%_168_AFT'].hist(bins=100, range=(-20, 80), alpha=0.5)\n",
    "plt.legend(['168 days before', '168 days after'])\n",
    "concat_df = pd.concat([concat_df,\n",
    "                    pd.DataFrame(sp_customers_168['CM2%_168_BEF'].describe().round(2)),\n",
    "                    pd.DataFrame(sp_customers_168['CM2%_168_AFT'].describe().round(2)),\n",
    "                        ], axis=1)\n",
    "plt.show() \n",
    "\n",
    "concat_df.columns = ['168 days before', '168 days after']\n",
    "display(concat_df)"
   ]
  },
  {
   "cell_type": "markdown",
   "metadata": {},
   "source": [
    "#### Number of PG3s "
   ]
  },
  {
   "cell_type": "code",
   "execution_count": 133,
   "metadata": {
    "ExecuteTime": {
     "end_time": "2018-11-29T15:13:29.706006Z",
     "start_time": "2018-11-29T15:13:29.421006Z"
    }
   },
   "outputs": [
    {
     "data": {
      "image/png": "[encoded data removed]",
      "text/plain": [
       "<matplotlib.figure.Figure at 0x1b54c8c88>"
      ]
     },
     "metadata": {},
     "output_type": "display_data"
    },
    {
     "data": {
      "text/html": [
       "<div>\n",
       "<style scoped>\n",
       "    .dataframe tbody tr th:only-of-type {\n",
       "        vertical-align: middle;\n",
       "    }\n",
       "\n",
       "    .dataframe tbody tr th {\n",
       "        vertical-align: top;\n",
       "    }\n",
       "\n",
       "    .dataframe thead th {\n",
       "        text-align: right;\n",
       "    }\n",
       "</style>\n",
       "<table border=\"1\" class=\"dataframe\">\n",
       "  <thead>\n",
       "    <tr style=\"text-align: right;\">\n",
       "      <th></th>\n",
       "      <th>168 days before</th>\n",
       "      <th>168 days after</th>\n",
       "    </tr>\n",
       "  </thead>\n",
       "  <tbody>\n",
       "    <tr>\n",
       "      <th>count</th>\n",
       "      <td>5387.00</td>\n",
       "      <td>5387.00</td>\n",
       "    </tr>\n",
       "    <tr>\n",
       "      <th>mean</th>\n",
       "      <td>4.40</td>\n",
       "      <td>5.60</td>\n",
       "    </tr>\n",
       "    <tr>\n",
       "      <th>std</th>\n",
       "      <td>2.86</td>\n",
       "      <td>3.52</td>\n",
       "    </tr>\n",
       "    <tr>\n",
       "      <th>min</th>\n",
       "      <td>0.00</td>\n",
       "      <td>0.00</td>\n",
       "    </tr>\n",
       "    <tr>\n",
       "      <th>25%</th>\n",
       "      <td>2.00</td>\n",
       "      <td>3.00</td>\n",
       "    </tr>\n",
       "    <tr>\n",
       "      <th>50%</th>\n",
       "      <td>4.00</td>\n",
       "      <td>5.00</td>\n",
       "    </tr>\n",
       "    <tr>\n",
       "      <th>75%</th>\n",
       "      <td>6.00</td>\n",
       "      <td>8.00</td>\n",
       "    </tr>\n",
       "    <tr>\n",
       "      <th>max</th>\n",
       "      <td>24.00</td>\n",
       "      <td>27.00</td>\n",
       "    </tr>\n",
       "  </tbody>\n",
       "</table>\n",
       "</div>"
      ],
      "text/plain": [
       "       168 days before  168 days after\n",
       "count          5387.00         5387.00\n",
       "mean              4.40            5.60\n",
       "std               2.86            3.52\n",
       "min               0.00            0.00\n",
       "25%               2.00            3.00\n",
       "50%               4.00            5.00\n",
       "75%               6.00            8.00\n",
       "max              24.00           27.00"
      ]
     },
     "metadata": {},
     "output_type": "display_data"
    }
   ],
   "source": [
    "concat_df = pd.DataFrame()\n",
    "\n",
    "sns.set()\n",
    "plt.figure(figsize=(12,8))\n",
    "plt.title('Histograms showing different PG3 bougth per customer in 168 days before/after SP purchasing', fontsize=14)\n",
    "plt.ylabel('Customers')\n",
    "plt.xlabel('different PG3 ')\n",
    "\n",
    "sp_customers_168['DIFF_PG3_168_BEF'].hist(bins=30, range=(0, 30), alpha=0.5)\n",
    "sp_customers_168['DIFF_PG3_168_AFT'].hist(bins=30, range=(0, 30), alpha=0.5)\n",
    "plt.legend(['168 days before', '168 days after'])\n",
    "concat_df = pd.concat([concat_df,\n",
    "                    pd.DataFrame(sp_customers_168['DIFF_PG3_168_BEF'].describe().round(2)),\n",
    "                    pd.DataFrame(sp_customers_168['DIFF_PG3_168_AFT'].describe().round(2)),\n",
    "                        ], axis=1)\n",
    "plt.show() \n",
    "\n",
    "concat_df.columns = ['168 days before', '168 days after']\n",
    "display(concat_df)"
   ]
  },
  {
   "cell_type": "markdown",
   "metadata": {},
   "source": [
    "#### PG3 shares and sales in each group"
   ]
  },
  {
   "cell_type": "code",
   "execution_count": 134,
   "metadata": {
    "ExecuteTime": {
     "end_time": "2018-11-29T15:13:29.714006Z",
     "start_time": "2018-11-29T15:13:29.707006Z"
    }
   },
   "outputs": [],
   "source": [
    "no_sp_flat_pg3_sales = [j for i in sp_customers_168['PG3_168_BEF_FLAT_SALES'].values for j in i]"
   ]
  },
  {
   "cell_type": "code",
   "execution_count": 135,
   "metadata": {
    "ExecuteTime": {
     "end_time": "2018-11-29T15:13:30.246006Z",
     "start_time": "2018-11-29T15:13:29.716006Z"
    }
   },
   "outputs": [],
   "source": [
    "no_sp_pg3_sales = sorted([(pg3, np.round(sum([sales_ for pg_3_, sales_ in no_sp_flat_pg3_sales if pg3==pg_3_\n",
    "                                                        ]), 3)) \n",
    "                                for pg3 in set([pg_3 for pg_3, sales in no_sp_flat_pg3_sales])], key= lambda x: x[1], reverse=True)"
   ]
  },
  {
   "cell_type": "code",
   "execution_count": 136,
   "metadata": {
    "ExecuteTime": {
     "end_time": "2018-11-29T15:13:30.250006Z",
     "start_time": "2018-11-29T15:13:30.247006Z"
    }
   },
   "outputs": [],
   "source": [
    "no_sp_pg3_dict_sales_no_disc = {i[0]: i[1] for i in no_sp_pg3_sales if i[0] != 0}"
   ]
  },
  {
   "cell_type": "code",
   "execution_count": 137,
   "metadata": {
    "ExecuteTime": {
     "end_time": "2018-11-29T15:13:30.267006Z",
     "start_time": "2018-11-29T15:13:30.252006Z"
    }
   },
   "outputs": [],
   "source": [
    "no_sp_pg3_dict_sales_share = {a: np.round(b/sum(no_sp_pg3_dict_sales_no_disc.values())*100, 3) \n",
    "                                                     for a, b in list(zip(no_sp_pg3_dict_sales_no_disc.keys(),\n",
    "                                                                          no_sp_pg3_dict_sales_no_disc.values()))}"
   ]
  },
  {
   "cell_type": "code",
   "execution_count": 138,
   "metadata": {
    "ExecuteTime": {
     "end_time": "2018-11-29T15:13:30.283006Z",
     "start_time": "2018-11-29T15:13:30.268006Z"
    }
   },
   "outputs": [],
   "source": [
    "filter_no_sp_pg3_dict_sales_share = {x: y for x, y in list(zip(no_sp_pg3_dict_sales_share.keys(),\n",
    "                                                                no_sp_pg3_dict_sales_share.values()))\n",
    "                                            if y >= 1}"
   ]
  },
  {
   "cell_type": "code",
   "execution_count": 139,
   "metadata": {
    "ExecuteTime": {
     "end_time": "2018-11-29T15:13:30.298006Z",
     "start_time": "2018-11-29T15:13:30.285006Z"
    }
   },
   "outputs": [
    {
     "data": {
      "text/plain": [
       "90.716"
      ]
     },
     "execution_count": 139,
     "metadata": {},
     "output_type": "execute_result"
    }
   ],
   "source": [
    "sum(filter_no_sp_pg3_dict_sales_share.values())"
   ]
  },
  {
   "cell_type": "code",
   "execution_count": 140,
   "metadata": {
    "ExecuteTime": {
     "end_time": "2018-11-29T15:13:30.317006Z",
     "start_time": "2018-11-29T15:13:30.299006Z"
    }
   },
   "outputs": [],
   "source": [
    "sp_flat_pg3_sales = [j for i in sp_customers_168['PG3_168_AFT_FLAT_SALES'].values for j in i]"
   ]
  },
  {
   "cell_type": "code",
   "execution_count": 141,
   "metadata": {
    "ExecuteTime": {
     "end_time": "2018-11-29T15:13:31.078006Z",
     "start_time": "2018-11-29T15:13:30.318006Z"
    }
   },
   "outputs": [],
   "source": [
    "sp_pg3_sales = sorted([(pg3, np.round(sum([sales_ for pg_3_, sales_ in sp_flat_pg3_sales if pg3==pg_3_\n",
    "                                                        ]), 3)) \n",
    "                                for pg3 in set([pg_3 for pg_3, sales in sp_flat_pg3_sales])], key= lambda x: x[1], reverse=True)"
   ]
  },
  {
   "cell_type": "code",
   "execution_count": 142,
   "metadata": {
    "ExecuteTime": {
     "end_time": "2018-11-29T15:13:31.084006Z",
     "start_time": "2018-11-29T15:13:31.080006Z"
    }
   },
   "outputs": [],
   "source": [
    "sp_pg3_dict_sales_no_disc = {i[0]: i[1] for i in sp_pg3_sales if i[0] != 0}"
   ]
  },
  {
   "cell_type": "code",
   "execution_count": 143,
   "metadata": {
    "ExecuteTime": {
     "end_time": "2018-11-29T15:13:31.104006Z",
     "start_time": "2018-11-29T15:13:31.086006Z"
    }
   },
   "outputs": [],
   "source": [
    "sp_pg3_dict_sales_share = {a: np.round(b/sum(sp_pg3_dict_sales_no_disc.values())*100, 3) \n",
    "                                                     for a, b in list(zip(sp_pg3_dict_sales_no_disc.keys(),\n",
    "                                                                          sp_pg3_dict_sales_no_disc.values()))}"
   ]
  },
  {
   "cell_type": "code",
   "execution_count": 144,
   "metadata": {
    "ExecuteTime": {
     "end_time": "2018-11-29T15:13:31.119006Z",
     "start_time": "2018-11-29T15:13:31.105006Z"
    }
   },
   "outputs": [],
   "source": [
    "filter_sp_pg3_dict_sales_share = {x: y for x, y in list(zip(sp_pg3_dict_sales_share.keys(),\n",
    "                                                                    sp_pg3_dict_sales_share.values()))\n",
    "                                            if y >= 1}"
   ]
  },
  {
   "cell_type": "code",
   "execution_count": 145,
   "metadata": {
    "ExecuteTime": {
     "end_time": "2018-11-29T15:13:31.137006Z",
     "start_time": "2018-11-29T15:13:31.121006Z"
    }
   },
   "outputs": [
    {
     "data": {
      "text/plain": [
       "90.807"
      ]
     },
     "execution_count": 145,
     "metadata": {},
     "output_type": "execute_result"
    }
   ],
   "source": [
    "sum(filter_sp_pg3_dict_sales_share.values())"
   ]
  },
  {
   "cell_type": "code",
   "execution_count": 146,
   "metadata": {
    "ExecuteTime": {
     "end_time": "2018-11-29T15:13:31.154006Z",
     "start_time": "2018-11-29T15:13:31.138006Z"
    }
   },
   "outputs": [],
   "source": [
    "no_sp_cus_pg3_share_df = pd.DataFrame.from_dict(filter_no_sp_pg3_dict_sales_share, orient='index')\n",
    "sp_cus_pg3_share_df = pd.DataFrame.from_dict(filter_sp_pg3_dict_sales_share, orient='index')"
   ]
  },
  {
   "cell_type": "code",
   "execution_count": 147,
   "metadata": {
    "ExecuteTime": {
     "end_time": "2018-11-29T15:13:31.178006Z",
     "start_time": "2018-11-29T15:13:31.156006Z"
    }
   },
   "outputs": [],
   "source": [
    "pg3_share_comparison = pd.concat([no_sp_cus_pg3_share_df,sp_cus_pg3_share_df], axis=1).fillna(0)\n",
    "pg3_share_comparison.columns = ['NO_SP_ORD', 'SP_ORD']\n",
    "pg3_share_comparison['PG3'] = pg3_share_comparison.index.values\n",
    "#pg3_share_comparison['PG3'] = pg3_share_comparison['PG3'].astype(str)\n",
    "pg3_share_comparison = pg3_share_comparison[['PG3', 'NO_SP_ORD', 'SP_ORD']]"
   ]
  },
  {
   "cell_type": "code",
   "execution_count": 148,
   "metadata": {
    "ExecuteTime": {
     "end_time": "2018-11-29T15:13:31.193006Z",
     "start_time": "2018-11-29T15:13:31.180006Z"
    }
   },
   "outputs": [],
   "source": [
    "pg3_l = list(pg3_share_comparison['PG3'].values)"
   ]
  },
  {
   "cell_type": "code",
   "execution_count": 149,
   "metadata": {
    "ExecuteTime": {
     "end_time": "2018-11-29T15:13:31.206006Z",
     "start_time": "2018-11-29T15:13:31.194006Z"
    }
   },
   "outputs": [],
   "source": [
    "pg3_list = repr(pg3_l).replace('[','(').replace(']',')')"
   ]
  },
  {
   "cell_type": "code",
   "execution_count": 150,
   "metadata": {
    "ExecuteTime": {
     "end_time": "2018-11-29T15:13:31.220006Z",
     "start_time": "2018-11-29T15:13:31.207006Z"
    }
   },
   "outputs": [],
   "source": [
    "query = \"\"\"select pg_id, pg_shortlink from ZOOMAN.PRODUCT_GROUPS\n",
    "where pg_id in %s\"\"\" % pg3_list"
   ]
  },
  {
   "cell_type": "code",
   "execution_count": 151,
   "metadata": {
    "ExecuteTime": {
     "end_time": "2018-11-29T15:13:32.225006Z",
     "start_time": "2018-11-29T15:13:31.221006Z"
    }
   },
   "outputs": [],
   "source": [
    "conn = cx_Oracle.connect('zooor', 'zoo12or', 'zoorep', threaded=True, encoding = \"UTF-8\", nencoding = \"UTF-8\")\n",
    "pg3 = pd.read_sql(query, con = conn)\n",
    "conn.close()"
   ]
  },
  {
   "cell_type": "code",
   "execution_count": 152,
   "metadata": {
    "ExecuteTime": {
     "end_time": "2018-11-29T15:13:32.238006Z",
     "start_time": "2018-11-29T15:13:32.227006Z"
    }
   },
   "outputs": [
    {
     "data": {
      "text/html": [
       "<div>\n",
       "<style scoped>\n",
       "    .dataframe tbody tr th:only-of-type {\n",
       "        vertical-align: middle;\n",
       "    }\n",
       "\n",
       "    .dataframe tbody tr th {\n",
       "        vertical-align: top;\n",
       "    }\n",
       "\n",
       "    .dataframe thead th {\n",
       "        text-align: right;\n",
       "    }\n",
       "</style>\n",
       "<table border=\"1\" class=\"dataframe\">\n",
       "  <thead>\n",
       "    <tr style=\"text-align: right;\">\n",
       "      <th></th>\n",
       "      <th>PG_ID</th>\n",
       "      <th>PG_SHORTLINK</th>\n",
       "    </tr>\n",
       "  </thead>\n",
       "  <tbody>\n",
       "    <tr>\n",
       "      <th>0</th>\n",
       "      <td>9</td>\n",
       "      <td>hundebett</td>\n",
       "    </tr>\n",
       "    <tr>\n",
       "      <th>1</th>\n",
       "      <td>15</td>\n",
       "      <td>hundeleine_hundehalsband</td>\n",
       "    </tr>\n",
       "    <tr>\n",
       "      <th>2</th>\n",
       "      <td>18</td>\n",
       "      <td>hundesnacks</td>\n",
       "    </tr>\n",
       "    <tr>\n",
       "      <th>3</th>\n",
       "      <td>20</td>\n",
       "      <td>hundespielzeug</td>\n",
       "    </tr>\n",
       "    <tr>\n",
       "      <th>4</th>\n",
       "      <td>23</td>\n",
       "      <td>kratzbaum_katzenbaum</td>\n",
       "    </tr>\n",
       "    <tr>\n",
       "      <th>5</th>\n",
       "      <td>29</td>\n",
       "      <td>katzentoilette</td>\n",
       "    </tr>\n",
       "    <tr>\n",
       "      <th>6</th>\n",
       "      <td>33</td>\n",
       "      <td>fressnapf</td>\n",
       "    </tr>\n",
       "    <tr>\n",
       "      <th>7</th>\n",
       "      <td>34</td>\n",
       "      <td>katzensnacks</td>\n",
       "    </tr>\n",
       "    <tr>\n",
       "      <th>8</th>\n",
       "      <td>36</td>\n",
       "      <td>katzenspielzeug</td>\n",
       "    </tr>\n",
       "    <tr>\n",
       "      <th>9</th>\n",
       "      <td>251</td>\n",
       "      <td>hundefutter_trockenfutter</td>\n",
       "    </tr>\n",
       "    <tr>\n",
       "      <th>10</th>\n",
       "      <td>252</td>\n",
       "      <td>katzenfutter_trockenfutter</td>\n",
       "    </tr>\n",
       "    <tr>\n",
       "      <th>11</th>\n",
       "      <td>301</td>\n",
       "      <td>katzenstreu</td>\n",
       "    </tr>\n",
       "    <tr>\n",
       "      <th>12</th>\n",
       "      <td>409</td>\n",
       "      <td>hundepflege</td>\n",
       "    </tr>\n",
       "    <tr>\n",
       "      <th>13</th>\n",
       "      <td>857</td>\n",
       "      <td>hundefutter_nassfutter</td>\n",
       "    </tr>\n",
       "    <tr>\n",
       "      <th>14</th>\n",
       "      <td>2068</td>\n",
       "      <td>katzenfutter_dose</td>\n",
       "    </tr>\n",
       "    <tr>\n",
       "      <th>15</th>\n",
       "      <td>2190</td>\n",
       "      <td>hundetransportbox</td>\n",
       "    </tr>\n",
       "    <tr>\n",
       "      <th>16</th>\n",
       "      <td>2192</td>\n",
       "      <td>hundehuette_hundetuer</td>\n",
       "    </tr>\n",
       "    <tr>\n",
       "      <th>17</th>\n",
       "      <td>207553</td>\n",
       "      <td>ungezieferschutz</td>\n",
       "    </tr>\n",
       "  </tbody>\n",
       "</table>\n",
       "</div>"
      ],
      "text/plain": [
       "     PG_ID                PG_SHORTLINK\n",
       "0        9                   hundebett\n",
       "1       15    hundeleine_hundehalsband\n",
       "2       18                 hundesnacks\n",
       "3       20              hundespielzeug\n",
       "4       23        kratzbaum_katzenbaum\n",
       "5       29              katzentoilette\n",
       "6       33                   fressnapf\n",
       "7       34                katzensnacks\n",
       "8       36             katzenspielzeug\n",
       "9      251   hundefutter_trockenfutter\n",
       "10     252  katzenfutter_trockenfutter\n",
       "11     301                 katzenstreu\n",
       "12     409                 hundepflege\n",
       "13     857      hundefutter_nassfutter\n",
       "14    2068           katzenfutter_dose\n",
       "15    2190           hundetransportbox\n",
       "16    2192       hundehuette_hundetuer\n",
       "17  207553            ungezieferschutz"
      ]
     },
     "execution_count": 152,
     "metadata": {},
     "output_type": "execute_result"
    }
   ],
   "source": [
    "pg3"
   ]
  },
  {
   "cell_type": "code",
   "execution_count": 153,
   "metadata": {
    "ExecuteTime": {
     "end_time": "2018-11-29T15:13:32.253006Z",
     "start_time": "2018-11-29T15:13:32.240006Z"
    }
   },
   "outputs": [],
   "source": [
    "pg3_dict = {x: y for x, y in list(zip(pg3['PG_ID'].values, pg3['PG_SHORTLINK'].values))}"
   ]
  },
  {
   "cell_type": "code",
   "execution_count": 154,
   "metadata": {
    "ExecuteTime": {
     "end_time": "2018-11-29T15:13:34.706006Z",
     "start_time": "2018-11-29T15:13:32.255006Z"
    }
   },
   "outputs": [],
   "source": [
    "pg3_share_comparison['PG3_NAME'] = [pg3_dict[i] for i in pg3_share_comparison['PG3'].values]"
   ]
  },
  {
   "cell_type": "code",
   "execution_count": 155,
   "metadata": {
    "ExecuteTime": {
     "end_time": "2018-11-29T15:13:34.728006Z",
     "start_time": "2018-11-29T15:13:34.707006Z"
    }
   },
   "outputs": [
    {
     "data": {
      "text/html": [
       "<div>\n",
       "<style scoped>\n",
       "    .dataframe tbody tr th:only-of-type {\n",
       "        vertical-align: middle;\n",
       "    }\n",
       "\n",
       "    .dataframe tbody tr th {\n",
       "        vertical-align: top;\n",
       "    }\n",
       "\n",
       "    .dataframe thead th {\n",
       "        text-align: right;\n",
       "    }\n",
       "</style>\n",
       "<table border=\"1\" class=\"dataframe\">\n",
       "  <thead>\n",
       "    <tr style=\"text-align: right;\">\n",
       "      <th></th>\n",
       "      <th>PG3</th>\n",
       "      <th>NO_SP_ORD</th>\n",
       "      <th>SP_ORD</th>\n",
       "      <th>PG3_NAME</th>\n",
       "    </tr>\n",
       "  </thead>\n",
       "  <tbody>\n",
       "    <tr>\n",
       "      <th>9</th>\n",
       "      <td>9</td>\n",
       "      <td>1.684</td>\n",
       "      <td>1.982</td>\n",
       "      <td>hundebett</td>\n",
       "    </tr>\n",
       "    <tr>\n",
       "      <th>15</th>\n",
       "      <td>15</td>\n",
       "      <td>0.000</td>\n",
       "      <td>1.094</td>\n",
       "      <td>hundeleine_hundehalsband</td>\n",
       "    </tr>\n",
       "    <tr>\n",
       "      <th>18</th>\n",
       "      <td>18</td>\n",
       "      <td>3.932</td>\n",
       "      <td>3.313</td>\n",
       "      <td>hundesnacks</td>\n",
       "    </tr>\n",
       "    <tr>\n",
       "      <th>20</th>\n",
       "      <td>20</td>\n",
       "      <td>1.212</td>\n",
       "      <td>1.313</td>\n",
       "      <td>hundespielzeug</td>\n",
       "    </tr>\n",
       "    <tr>\n",
       "      <th>23</th>\n",
       "      <td>23</td>\n",
       "      <td>2.091</td>\n",
       "      <td>3.850</td>\n",
       "      <td>kratzbaum_katzenbaum</td>\n",
       "    </tr>\n",
       "    <tr>\n",
       "      <th>29</th>\n",
       "      <td>29</td>\n",
       "      <td>2.287</td>\n",
       "      <td>2.989</td>\n",
       "      <td>katzentoilette</td>\n",
       "    </tr>\n",
       "    <tr>\n",
       "      <th>33</th>\n",
       "      <td>33</td>\n",
       "      <td>1.366</td>\n",
       "      <td>1.827</td>\n",
       "      <td>fressnapf</td>\n",
       "    </tr>\n",
       "    <tr>\n",
       "      <th>34</th>\n",
       "      <td>34</td>\n",
       "      <td>1.565</td>\n",
       "      <td>1.334</td>\n",
       "      <td>katzensnacks</td>\n",
       "    </tr>\n",
       "    <tr>\n",
       "      <th>36</th>\n",
       "      <td>36</td>\n",
       "      <td>1.309</td>\n",
       "      <td>1.691</td>\n",
       "      <td>katzenspielzeug</td>\n",
       "    </tr>\n",
       "    <tr>\n",
       "      <th>251</th>\n",
       "      <td>251</td>\n",
       "      <td>33.914</td>\n",
       "      <td>31.676</td>\n",
       "      <td>hundefutter_trockenfutter</td>\n",
       "    </tr>\n",
       "    <tr>\n",
       "      <th>252</th>\n",
       "      <td>252</td>\n",
       "      <td>16.704</td>\n",
       "      <td>15.785</td>\n",
       "      <td>katzenfutter_trockenfutter</td>\n",
       "    </tr>\n",
       "    <tr>\n",
       "      <th>301</th>\n",
       "      <td>301</td>\n",
       "      <td>6.718</td>\n",
       "      <td>5.807</td>\n",
       "      <td>katzenstreu</td>\n",
       "    </tr>\n",
       "    <tr>\n",
       "      <th>409</th>\n",
       "      <td>409</td>\n",
       "      <td>1.472</td>\n",
       "      <td>1.785</td>\n",
       "      <td>hundepflege</td>\n",
       "    </tr>\n",
       "    <tr>\n",
       "      <th>857</th>\n",
       "      <td>857</td>\n",
       "      <td>3.302</td>\n",
       "      <td>2.341</td>\n",
       "      <td>hundefutter_nassfutter</td>\n",
       "    </tr>\n",
       "    <tr>\n",
       "      <th>2068</th>\n",
       "      <td>2068</td>\n",
       "      <td>11.309</td>\n",
       "      <td>9.144</td>\n",
       "      <td>katzenfutter_dose</td>\n",
       "    </tr>\n",
       "    <tr>\n",
       "      <th>2190</th>\n",
       "      <td>2190</td>\n",
       "      <td>0.000</td>\n",
       "      <td>1.881</td>\n",
       "      <td>hundetransportbox</td>\n",
       "    </tr>\n",
       "    <tr>\n",
       "      <th>2192</th>\n",
       "      <td>2192</td>\n",
       "      <td>0.000</td>\n",
       "      <td>1.257</td>\n",
       "      <td>hundehuette_hundetuer</td>\n",
       "    </tr>\n",
       "    <tr>\n",
       "      <th>207553</th>\n",
       "      <td>207553</td>\n",
       "      <td>1.851</td>\n",
       "      <td>1.738</td>\n",
       "      <td>ungezieferschutz</td>\n",
       "    </tr>\n",
       "  </tbody>\n",
       "</table>\n",
       "</div>"
      ],
      "text/plain": [
       "           PG3  NO_SP_ORD  SP_ORD                    PG3_NAME\n",
       "9            9      1.684   1.982                   hundebett\n",
       "15          15      0.000   1.094    hundeleine_hundehalsband\n",
       "18          18      3.932   3.313                 hundesnacks\n",
       "20          20      1.212   1.313              hundespielzeug\n",
       "23          23      2.091   3.850        kratzbaum_katzenbaum\n",
       "29          29      2.287   2.989              katzentoilette\n",
       "33          33      1.366   1.827                   fressnapf\n",
       "34          34      1.565   1.334                katzensnacks\n",
       "36          36      1.309   1.691             katzenspielzeug\n",
       "251        251     33.914  31.676   hundefutter_trockenfutter\n",
       "252        252     16.704  15.785  katzenfutter_trockenfutter\n",
       "301        301      6.718   5.807                 katzenstreu\n",
       "409        409      1.472   1.785                 hundepflege\n",
       "857        857      3.302   2.341      hundefutter_nassfutter\n",
       "2068      2068     11.309   9.144           katzenfutter_dose\n",
       "2190      2190      0.000   1.881           hundetransportbox\n",
       "2192      2192      0.000   1.257       hundehuette_hundetuer\n",
       "207553  207553      1.851   1.738            ungezieferschutz"
      ]
     },
     "execution_count": 155,
     "metadata": {},
     "output_type": "execute_result"
    }
   ],
   "source": [
    "pg3_share_comparison"
   ]
  },
  {
   "cell_type": "code",
   "execution_count": 156,
   "metadata": {
    "ExecuteTime": {
     "end_time": "2018-11-29T15:13:35.039006Z",
     "start_time": "2018-11-29T15:13:34.729006Z"
    }
   },
   "outputs": [
    {
     "data": {
      "image/png": "[encoded data removed]",
      "text/plain": [
       "<matplotlib.figure.Figure at 0x1b6ffa0f0>"
      ]
     },
     "metadata": {},
     "output_type": "display_data"
    }
   ],
   "source": [
    "plt.figure(figsize=(12, 12))\n",
    "x = pg3_share_comparison['PG3_NAME'].values\n",
    "y = pg3_share_comparison['NO_SP_ORD'].values\n",
    "z = pg3_share_comparison['SP_ORD'].values\n",
    "plt.barh(x, y, color='g')\n",
    "plt.barh(x, z, color='orange', alpha=0.5)\n",
    "plt.title('PG3 share on orders 168 days before/after SP purchasing', fontsize=14)\n",
    "plt.ylabel('PG3')\n",
    "plt.xlabel('Sales share %')\n",
    "plt.legend(['NO SP Orders', 'SP Orders'])\n",
    "plt.show()"
   ]
  },
  {
   "cell_type": "code",
   "execution_count": 157,
   "metadata": {
    "ExecuteTime": {
     "end_time": "2018-11-29T15:13:35.048006Z",
     "start_time": "2018-11-29T15:13:35.040006Z"
    }
   },
   "outputs": [],
   "source": [
    "no_sp_cus_pg3_sales_df = pd.DataFrame.from_dict(no_sp_pg3_dict_sales_no_disc, orient='index')\n",
    "sp_cus_pg3_sales_df = pd.DataFrame.from_dict(sp_pg3_dict_sales_no_disc, orient='index')"
   ]
  },
  {
   "cell_type": "code",
   "execution_count": 158,
   "metadata": {
    "ExecuteTime": {
     "end_time": "2018-11-29T15:13:35.063006Z",
     "start_time": "2018-11-29T15:13:35.049006Z"
    }
   },
   "outputs": [],
   "source": [
    "pg3_sales_comparison = pd.concat([no_sp_cus_pg3_sales_df, sp_cus_pg3_sales_df], axis=1).fillna(0)\n",
    "pg3_sales_comparison.columns = ['NO_SP_ORD', 'SP_ORD']\n",
    "pg3_sales_comparison['PG3'] = pg3_sales_comparison.index.values\n",
    "#pg3_sales_comparison['PG3'] = pg3_sales_comparison['PG3'].astype(str)"
   ]
  },
  {
   "cell_type": "code",
   "execution_count": 159,
   "metadata": {
    "ExecuteTime": {
     "end_time": "2018-11-29T15:13:35.080006Z",
     "start_time": "2018-11-29T15:13:35.066006Z"
    }
   },
   "outputs": [],
   "source": [
    "pg3_lis = list(pg3_sales_comparison['PG3'].values)"
   ]
  },
  {
   "cell_type": "code",
   "execution_count": 160,
   "metadata": {
    "ExecuteTime": {
     "end_time": "2018-11-29T15:13:35.095006Z",
     "start_time": "2018-11-29T15:13:35.082006Z"
    }
   },
   "outputs": [],
   "source": [
    "pg3_lista = repr(pg3_lis).replace('[','(').replace(']',')')"
   ]
  },
  {
   "cell_type": "code",
   "execution_count": 161,
   "metadata": {
    "ExecuteTime": {
     "end_time": "2018-11-29T15:13:35.111006Z",
     "start_time": "2018-11-29T15:13:35.096006Z"
    }
   },
   "outputs": [],
   "source": [
    "query = \"\"\"select pg_id, pg_shortlink from ZOOMAN.PRODUCT_GROUPS\n",
    "where pg_id in %s\"\"\" % pg3_lista"
   ]
  },
  {
   "cell_type": "code",
   "execution_count": 162,
   "metadata": {
    "ExecuteTime": {
     "end_time": "2018-11-29T15:13:35.614006Z",
     "start_time": "2018-11-29T15:13:35.112006Z"
    }
   },
   "outputs": [],
   "source": [
    "conn = cx_Oracle.connect('zooor', 'zoo12or', 'zoorep', threaded=True, encoding = \"UTF-8\", nencoding = \"UTF-8\")\n",
    "pg3 = pd.read_sql(query, con = conn)\n",
    "conn.close()"
   ]
  },
  {
   "cell_type": "code",
   "execution_count": 163,
   "metadata": {
    "ExecuteTime": {
     "end_time": "2018-11-29T15:13:35.628006Z",
     "start_time": "2018-11-29T15:13:35.620006Z"
    }
   },
   "outputs": [],
   "source": [
    "pg3_dict = {x: y for x, y in list(zip(pg3['PG_ID'].values, pg3['PG_SHORTLINK'].values))}"
   ]
  },
  {
   "cell_type": "code",
   "execution_count": 164,
   "metadata": {
    "ExecuteTime": {
     "end_time": "2018-11-29T15:13:35.647006Z",
     "start_time": "2018-11-29T15:13:35.634006Z"
    }
   },
   "outputs": [],
   "source": [
    "pg3_sales_comparison['PG3_NAME'] = [pg3_dict[i] for i in pg3_sales_comparison['PG3'].values]"
   ]
  },
  {
   "cell_type": "code",
   "execution_count": 165,
   "metadata": {
    "ExecuteTime": {
     "end_time": "2018-11-29T15:13:35.669006Z",
     "start_time": "2018-11-29T15:13:35.650006Z"
    }
   },
   "outputs": [],
   "source": [
    "pg3_sales_comparison = pg3_sales_comparison[['PG3', 'PG3_NAME', 'NO_SP_ORD', 'SP_ORD']]\n",
    "pg3_sales_comparison = pg3_sales_comparison[(pg3_sales_comparison['NO_SP_ORD'] >= 1000) | (pg3_sales_comparison['SP_ORD'] >= 1000)]"
   ]
  },
  {
   "cell_type": "code",
   "execution_count": 166,
   "metadata": {
    "ExecuteTime": {
     "end_time": "2018-11-29T15:13:36.196006Z",
     "start_time": "2018-11-29T15:13:35.670006Z"
    }
   },
   "outputs": [
    {
     "data": {
      "image/png": "[encoded data removed]",
      "text/plain": [
       "<matplotlib.figure.Figure at 0x169f15128>"
      ]
     },
     "metadata": {},
     "output_type": "display_data"
    }
   ],
   "source": [
    "plt.figure(figsize=(12, 12))\n",
    "x = pg3_sales_comparison['PG3_NAME'].values\n",
    "y = pg3_sales_comparison['NO_SP_ORD'].values\n",
    "z = pg3_sales_comparison['SP_ORD'].values\n",
    "plt.barh(x, y, color='g')\n",
    "plt.barh(x, z, color='orange', alpha=0.5)\n",
    "plt.title('PG3 sales on orders 168 days before/after SP purchasing', fontsize=14)\n",
    "plt.ylabel('PG3')\n",
    "plt.xlabel('Sales')\n",
    "plt.legend(['NO SP Orders', 'SP Orders'])\n",
    "plt.show()"
   ]
  },
  {
   "cell_type": "code",
   "execution_count": 167,
   "metadata": {
    "ExecuteTime": {
     "end_time": "2018-11-29T15:13:36.215006Z",
     "start_time": "2018-11-29T15:13:36.197006Z"
    }
   },
   "outputs": [
    {
     "data": {
      "text/html": [
       "<div>\n",
       "<style scoped>\n",
       "    .dataframe tbody tr th:only-of-type {\n",
       "        vertical-align: middle;\n",
       "    }\n",
       "\n",
       "    .dataframe tbody tr th {\n",
       "        vertical-align: top;\n",
       "    }\n",
       "\n",
       "    .dataframe thead th {\n",
       "        text-align: right;\n",
       "    }\n",
       "</style>\n",
       "<table border=\"1\" class=\"dataframe\">\n",
       "  <thead>\n",
       "    <tr style=\"text-align: right;\">\n",
       "      <th></th>\n",
       "      <th>PG3</th>\n",
       "      <th>PG3_NAME</th>\n",
       "      <th>NO_SP_ORD</th>\n",
       "      <th>SP_ORD</th>\n",
       "    </tr>\n",
       "  </thead>\n",
       "  <tbody>\n",
       "    <tr>\n",
       "      <th>9</th>\n",
       "      <td>9</td>\n",
       "      <td>hundebett</td>\n",
       "      <td>16963.34</td>\n",
       "      <td>28360.52</td>\n",
       "    </tr>\n",
       "    <tr>\n",
       "      <th>15</th>\n",
       "      <td>15</td>\n",
       "      <td>hundeleine_hundehalsband</td>\n",
       "      <td>9356.20</td>\n",
       "      <td>15659.49</td>\n",
       "    </tr>\n",
       "    <tr>\n",
       "      <th>16</th>\n",
       "      <td>16</td>\n",
       "      <td>fressnapf</td>\n",
       "      <td>5490.24</td>\n",
       "      <td>10058.94</td>\n",
       "    </tr>\n",
       "    <tr>\n",
       "      <th>18</th>\n",
       "      <td>18</td>\n",
       "      <td>hundesnacks</td>\n",
       "      <td>39604.24</td>\n",
       "      <td>47408.06</td>\n",
       "    </tr>\n",
       "    <tr>\n",
       "      <th>20</th>\n",
       "      <td>20</td>\n",
       "      <td>hundespielzeug</td>\n",
       "      <td>12212.27</td>\n",
       "      <td>18795.23</td>\n",
       "    </tr>\n",
       "    <tr>\n",
       "      <th>23</th>\n",
       "      <td>23</td>\n",
       "      <td>kratzbaum_katzenbaum</td>\n",
       "      <td>21068.35</td>\n",
       "      <td>55098.23</td>\n",
       "    </tr>\n",
       "    <tr>\n",
       "      <th>29</th>\n",
       "      <td>29</td>\n",
       "      <td>katzentoilette</td>\n",
       "      <td>23037.86</td>\n",
       "      <td>42774.88</td>\n",
       "    </tr>\n",
       "    <tr>\n",
       "      <th>33</th>\n",
       "      <td>33</td>\n",
       "      <td>fressnapf</td>\n",
       "      <td>13764.91</td>\n",
       "      <td>26142.86</td>\n",
       "    </tr>\n",
       "    <tr>\n",
       "      <th>34</th>\n",
       "      <td>34</td>\n",
       "      <td>katzensnacks</td>\n",
       "      <td>15761.30</td>\n",
       "      <td>19092.90</td>\n",
       "    </tr>\n",
       "    <tr>\n",
       "      <th>36</th>\n",
       "      <td>36</td>\n",
       "      <td>katzenspielzeug</td>\n",
       "      <td>13184.88</td>\n",
       "      <td>24202.11</td>\n",
       "    </tr>\n",
       "    <tr>\n",
       "      <th>37</th>\n",
       "      <td>37</td>\n",
       "      <td>transport</td>\n",
       "      <td>2533.69</td>\n",
       "      <td>7309.74</td>\n",
       "    </tr>\n",
       "    <tr>\n",
       "      <th>38</th>\n",
       "      <td>38</td>\n",
       "      <td>katzenfutter_ergaenzung</td>\n",
       "      <td>2397.83</td>\n",
       "      <td>3811.58</td>\n",
       "    </tr>\n",
       "    <tr>\n",
       "      <th>42</th>\n",
       "      <td>42</td>\n",
       "      <td>kaefigzubehoer</td>\n",
       "      <td>1452.15</td>\n",
       "      <td>2973.40</td>\n",
       "    </tr>\n",
       "    <tr>\n",
       "      <th>45</th>\n",
       "      <td>45</td>\n",
       "      <td>futter</td>\n",
       "      <td>6410.79</td>\n",
       "      <td>9226.96</td>\n",
       "    </tr>\n",
       "    <tr>\n",
       "      <th>47</th>\n",
       "      <td>47</td>\n",
       "      <td>spielzeug</td>\n",
       "      <td>741.48</td>\n",
       "      <td>1703.74</td>\n",
       "    </tr>\n",
       "    <tr>\n",
       "      <th>48</th>\n",
       "      <td>48</td>\n",
       "      <td>pflege</td>\n",
       "      <td>587.21</td>\n",
       "      <td>1099.58</td>\n",
       "    </tr>\n",
       "    <tr>\n",
       "      <th>62</th>\n",
       "      <td>62</td>\n",
       "      <td>fischfutter</td>\n",
       "      <td>1737.19</td>\n",
       "      <td>3022.79</td>\n",
       "    </tr>\n",
       "    <tr>\n",
       "      <th>67</th>\n",
       "      <td>67</td>\n",
       "      <td>aquarium_pumpen</td>\n",
       "      <td>1254.97</td>\n",
       "      <td>4502.32</td>\n",
       "    </tr>\n",
       "    <tr>\n",
       "      <th>68</th>\n",
       "      <td>68</td>\n",
       "      <td>wasserpflege_aquarium</td>\n",
       "      <td>735.96</td>\n",
       "      <td>1226.81</td>\n",
       "    </tr>\n",
       "    <tr>\n",
       "      <th>221</th>\n",
       "      <td>221</td>\n",
       "      <td>vogelfutter</td>\n",
       "      <td>1603.17</td>\n",
       "      <td>2311.57</td>\n",
       "    </tr>\n",
       "    <tr>\n",
       "      <th>251</th>\n",
       "      <td>251</td>\n",
       "      <td>hundefutter_trockenfutter</td>\n",
       "      <td>341638.82</td>\n",
       "      <td>453332.80</td>\n",
       "    </tr>\n",
       "    <tr>\n",
       "      <th>252</th>\n",
       "      <td>252</td>\n",
       "      <td>katzenfutter_trockenfutter</td>\n",
       "      <td>168267.81</td>\n",
       "      <td>225911.70</td>\n",
       "    </tr>\n",
       "    <tr>\n",
       "      <th>301</th>\n",
       "      <td>301</td>\n",
       "      <td>katzenstreu</td>\n",
       "      <td>67672.15</td>\n",
       "      <td>83111.53</td>\n",
       "    </tr>\n",
       "    <tr>\n",
       "      <th>305</th>\n",
       "      <td>305</td>\n",
       "      <td>heu_streu</td>\n",
       "      <td>5332.88</td>\n",
       "      <td>7363.64</td>\n",
       "    </tr>\n",
       "    <tr>\n",
       "      <th>401</th>\n",
       "      <td>401</td>\n",
       "      <td>futter_ergaenzung</td>\n",
       "      <td>1600.74</td>\n",
       "      <td>2038.47</td>\n",
       "    </tr>\n",
       "    <tr>\n",
       "      <th>409</th>\n",
       "      <td>409</td>\n",
       "      <td>hundepflege</td>\n",
       "      <td>14831.44</td>\n",
       "      <td>25547.68</td>\n",
       "    </tr>\n",
       "    <tr>\n",
       "      <th>741</th>\n",
       "      <td>741</td>\n",
       "      <td>kaefige_freigehege</td>\n",
       "      <td>1493.84</td>\n",
       "      <td>7242.03</td>\n",
       "    </tr>\n",
       "    <tr>\n",
       "      <th>758</th>\n",
       "      <td>758</td>\n",
       "      <td>kaefig</td>\n",
       "      <td>1276.78</td>\n",
       "      <td>4016.35</td>\n",
       "    </tr>\n",
       "    <tr>\n",
       "      <th>857</th>\n",
       "      <td>857</td>\n",
       "      <td>hundefutter_nassfutter</td>\n",
       "      <td>33263.77</td>\n",
       "      <td>33502.32</td>\n",
       "    </tr>\n",
       "    <tr>\n",
       "      <th>1400</th>\n",
       "      <td>1400</td>\n",
       "      <td>hundefutter_ergaenzung</td>\n",
       "      <td>8709.15</td>\n",
       "      <td>12558.49</td>\n",
       "    </tr>\n",
       "    <tr>\n",
       "      <th>1540</th>\n",
       "      <td>1540</td>\n",
       "      <td>katzenbetten_katzenkissen</td>\n",
       "      <td>5951.94</td>\n",
       "      <td>12179.31</td>\n",
       "    </tr>\n",
       "    <tr>\n",
       "      <th>2068</th>\n",
       "      <td>2068</td>\n",
       "      <td>katzenfutter_dose</td>\n",
       "      <td>113917.39</td>\n",
       "      <td>130865.44</td>\n",
       "    </tr>\n",
       "    <tr>\n",
       "      <th>2155</th>\n",
       "      <td>2155</td>\n",
       "      <td>balkon_garten</td>\n",
       "      <td>5324.99</td>\n",
       "      <td>10207.90</td>\n",
       "    </tr>\n",
       "    <tr>\n",
       "      <th>2190</th>\n",
       "      <td>2190</td>\n",
       "      <td>hundetransportbox</td>\n",
       "      <td>9870.44</td>\n",
       "      <td>26923.79</td>\n",
       "    </tr>\n",
       "    <tr>\n",
       "      <th>2192</th>\n",
       "      <td>2192</td>\n",
       "      <td>hundehuette_hundetuer</td>\n",
       "      <td>6588.01</td>\n",
       "      <td>17987.54</td>\n",
       "    </tr>\n",
       "    <tr>\n",
       "      <th>2471</th>\n",
       "      <td>2471</td>\n",
       "      <td>aquarium</td>\n",
       "      <td>208.88</td>\n",
       "      <td>1409.68</td>\n",
       "    </tr>\n",
       "    <tr>\n",
       "      <th>40023</th>\n",
       "      <td>40023</td>\n",
       "      <td>hundebekleidung_hundemantel</td>\n",
       "      <td>2388.45</td>\n",
       "      <td>3334.01</td>\n",
       "    </tr>\n",
       "    <tr>\n",
       "      <th>48963</th>\n",
       "      <td>48963</td>\n",
       "      <td>sparplan</td>\n",
       "      <td>0.00</td>\n",
       "      <td>3716.35</td>\n",
       "    </tr>\n",
       "    <tr>\n",
       "      <th>49821</th>\n",
       "      <td>49821</td>\n",
       "      <td>kaninchenstaelle</td>\n",
       "      <td>469.96</td>\n",
       "      <td>1282.90</td>\n",
       "    </tr>\n",
       "    <tr>\n",
       "      <th>49828</th>\n",
       "      <td>49828</td>\n",
       "      <td>freigehege</td>\n",
       "      <td>1023.74</td>\n",
       "      <td>3075.17</td>\n",
       "    </tr>\n",
       "    <tr>\n",
       "      <th>153317</th>\n",
       "      <td>153317</td>\n",
       "      <td>sport_training</td>\n",
       "      <td>4393.07</td>\n",
       "      <td>8093.67</td>\n",
       "    </tr>\n",
       "    <tr>\n",
       "      <th>207553</th>\n",
       "      <td>207553</td>\n",
       "      <td>ungezieferschutz</td>\n",
       "      <td>18641.33</td>\n",
       "      <td>24872.84</td>\n",
       "    </tr>\n",
       "    <tr>\n",
       "      <th>207624</th>\n",
       "      <td>207624</td>\n",
       "      <td>ungezieferschutz</td>\n",
       "      <td>1812.23</td>\n",
       "      <td>2712.91</td>\n",
       "    </tr>\n",
       "  </tbody>\n",
       "</table>\n",
       "</div>"
      ],
      "text/plain": [
       "           PG3                     PG3_NAME  NO_SP_ORD     SP_ORD\n",
       "9            9                    hundebett   16963.34   28360.52\n",
       "15          15     hundeleine_hundehalsband    9356.20   15659.49\n",
       "16          16                    fressnapf    5490.24   10058.94\n",
       "18          18                  hundesnacks   39604.24   47408.06\n",
       "20          20               hundespielzeug   12212.27   18795.23\n",
       "23          23         kratzbaum_katzenbaum   21068.35   55098.23\n",
       "29          29               katzentoilette   23037.86   42774.88\n",
       "33          33                    fressnapf   13764.91   26142.86\n",
       "34          34                 katzensnacks   15761.30   19092.90\n",
       "36          36              katzenspielzeug   13184.88   24202.11\n",
       "37          37                    transport    2533.69    7309.74\n",
       "38          38      katzenfutter_ergaenzung    2397.83    3811.58\n",
       "42          42               kaefigzubehoer    1452.15    2973.40\n",
       "45          45                       futter    6410.79    9226.96\n",
       "47          47                    spielzeug     741.48    1703.74\n",
       "48          48                       pflege     587.21    1099.58\n",
       "62          62                  fischfutter    1737.19    3022.79\n",
       "67          67              aquarium_pumpen    1254.97    4502.32\n",
       "68          68        wasserpflege_aquarium     735.96    1226.81\n",
       "221        221                  vogelfutter    1603.17    2311.57\n",
       "251        251    hundefutter_trockenfutter  341638.82  453332.80\n",
       "252        252   katzenfutter_trockenfutter  168267.81  225911.70\n",
       "301        301                  katzenstreu   67672.15   83111.53\n",
       "305        305                    heu_streu    5332.88    7363.64\n",
       "401        401            futter_ergaenzung    1600.74    2038.47\n",
       "409        409                  hundepflege   14831.44   25547.68\n",
       "741        741           kaefige_freigehege    1493.84    7242.03\n",
       "758        758                       kaefig    1276.78    4016.35\n",
       "857        857       hundefutter_nassfutter   33263.77   33502.32\n",
       "1400      1400       hundefutter_ergaenzung    8709.15   12558.49\n",
       "1540      1540    katzenbetten_katzenkissen    5951.94   12179.31\n",
       "2068      2068            katzenfutter_dose  113917.39  130865.44\n",
       "2155      2155                balkon_garten    5324.99   10207.90\n",
       "2190      2190            hundetransportbox    9870.44   26923.79\n",
       "2192      2192        hundehuette_hundetuer    6588.01   17987.54\n",
       "2471      2471                     aquarium     208.88    1409.68\n",
       "40023    40023  hundebekleidung_hundemantel    2388.45    3334.01\n",
       "48963    48963                     sparplan       0.00    3716.35\n",
       "49821    49821             kaninchenstaelle     469.96    1282.90\n",
       "49828    49828                   freigehege    1023.74    3075.17\n",
       "153317  153317               sport_training    4393.07    8093.67\n",
       "207553  207553             ungezieferschutz   18641.33   24872.84\n",
       "207624  207624             ungezieferschutz    1812.23    2712.91"
      ]
     },
     "execution_count": 167,
     "metadata": {},
     "output_type": "execute_result"
    }
   ],
   "source": [
    "pg3_sales_comparison"
   ]
  },
  {
   "cell_type": "markdown",
   "metadata": {},
   "source": [
    "#### Average Sales Share of Royal Canin products – 168 days orders before/after SP purchasing"
   ]
  },
  {
   "cell_type": "code",
   "execution_count": 168,
   "metadata": {
    "ExecuteTime": {
     "end_time": "2018-11-29T15:13:36.239006Z",
     "start_time": "2018-11-29T15:13:36.217006Z"
    }
   },
   "outputs": [],
   "source": [
    "sp_customers_168['BRAND_SALES_168_BEF'] = [list(compress(i, j)) for i, j in list(zip(sp_customers_168['BRAND_AGGSALES'],\n",
    "                                                                                    sp_customers_168['MASK_168_BEF']))]"
   ]
  },
  {
   "cell_type": "code",
   "execution_count": 169,
   "metadata": {
    "ExecuteTime": {
     "end_time": "2018-11-29T15:13:36.289006Z",
     "start_time": "2018-11-29T15:13:36.240006Z"
    }
   },
   "outputs": [],
   "source": [
    "sp_customers_168['BRAND_SALES_168_AFT'] = [list(compress(i, j)) for i, j in list(zip(sp_customers_168['BRAND_AGGSALES'],\n",
    "                                                                                    sp_customers_168['MASK_168_AFT']))]"
   ]
  },
  {
   "cell_type": "code",
   "execution_count": 170,
   "metadata": {
    "ExecuteTime": {
     "end_time": "2018-11-29T15:13:36.323006Z",
     "start_time": "2018-11-29T15:13:36.290006Z"
    }
   },
   "outputs": [],
   "source": [
    "sp_customers_168['BRAND_FLAT_SALES_168_BEF'] = [[k for j in i for k in j] \n",
    "                                                for i in sp_customers_168['BRAND_SALES_168_BEF'].values]"
   ]
  },
  {
   "cell_type": "code",
   "execution_count": 171,
   "metadata": {
    "ExecuteTime": {
     "end_time": "2018-11-29T15:13:36.355006Z",
     "start_time": "2018-11-29T15:13:36.325006Z"
    }
   },
   "outputs": [],
   "source": [
    "sp_customers_168['BRAND_FLAT_SALES_168_AFT'] = [[k for j in i for k in j] \n",
    "                                                for i in sp_customers_168['BRAND_SALES_168_AFT'].values]"
   ]
  },
  {
   "cell_type": "code",
   "execution_count": 172,
   "metadata": {
    "ExecuteTime": {
     "end_time": "2018-11-29T15:13:36.371006Z",
     "start_time": "2018-11-29T15:13:36.356006Z"
    }
   },
   "outputs": [],
   "source": [
    "no_sp_flat_brand_sales = [j for i in sp_customers_168['BRAND_FLAT_SALES_168_BEF'].values for j in i]"
   ]
  },
  {
   "cell_type": "code",
   "execution_count": 173,
   "metadata": {
    "ExecuteTime": {
     "end_time": "2018-11-29T15:13:36.389006Z",
     "start_time": "2018-11-29T15:13:36.372006Z"
    }
   },
   "outputs": [],
   "source": [
    "sp_flat_brand_sales = [j for i in sp_customers_168['BRAND_FLAT_SALES_168_AFT'].values for j in i]"
   ]
  },
  {
   "cell_type": "code",
   "execution_count": 174,
   "metadata": {
    "ExecuteTime": {
     "end_time": "2018-11-29T15:13:39.276006Z",
     "start_time": "2018-11-29T15:13:36.390006Z"
    }
   },
   "outputs": [],
   "source": [
    "no_sp_brand_sales = sorted([(brand_, np.round(sum([sales_ for brand__, sales_ in no_sp_flat_brand_sales if brand_== brand__\n",
    "                                                        ]), 3)) \n",
    "                                for brand_ in set([brand for brand, sales in no_sp_flat_brand_sales])], key= lambda x: x[1], reverse=True) "
   ]
  },
  {
   "cell_type": "code",
   "execution_count": 175,
   "metadata": {
    "ExecuteTime": {
     "end_time": "2018-11-29T15:13:43.172006Z",
     "start_time": "2018-11-29T15:13:39.278006Z"
    }
   },
   "outputs": [],
   "source": [
    "sp_brand_sales = sorted([(brand_, np.round(sum([sales_ for brand__, sales_ in sp_flat_brand_sales if brand_== brand__\n",
    "                                                        ]), 3)) \n",
    "                                for brand_ in set([brand for brand, sales in sp_flat_brand_sales])], key= lambda x: x[1], reverse=True) "
   ]
  },
  {
   "cell_type": "code",
   "execution_count": 176,
   "metadata": {
    "ExecuteTime": {
     "end_time": "2018-11-29T15:13:43.178006Z",
     "start_time": "2018-11-29T15:13:43.174006Z"
    }
   },
   "outputs": [],
   "source": [
    "no_sp_dict_sales_no_disc = {i[0]: i[1] for i in no_sp_brand_sales if str(i[0]) != 'nan'}"
   ]
  },
  {
   "cell_type": "code",
   "execution_count": 177,
   "metadata": {
    "ExecuteTime": {
     "end_time": "2018-11-29T15:13:43.193006Z",
     "start_time": "2018-11-29T15:13:43.180006Z"
    }
   },
   "outputs": [],
   "source": [
    "sp_dict_sales_no_disc = {i[0]: i[1] for i in sp_brand_sales if str(i[0]) != 'nan'}"
   ]
  },
  {
   "cell_type": "code",
   "execution_count": 178,
   "metadata": {
    "ExecuteTime": {
     "end_time": "2018-11-29T15:13:43.264006Z",
     "start_time": "2018-11-29T15:13:43.195006Z"
    }
   },
   "outputs": [],
   "source": [
    "no_sp_dict_sales_share = {a: np.round(b/sum(no_sp_dict_sales_no_disc.values())*100, 3)\n",
    "                         for a, b in list(zip(no_sp_dict_sales_no_disc.keys(),\n",
    "                                             no_sp_dict_sales_no_disc.values()))}"
   ]
  },
  {
   "cell_type": "code",
   "execution_count": 179,
   "metadata": {
    "ExecuteTime": {
     "end_time": "2018-11-29T15:13:43.326006Z",
     "start_time": "2018-11-29T15:13:43.265006Z"
    }
   },
   "outputs": [],
   "source": [
    "sp_dict_sales_share = {a: np.round(b/sum(sp_dict_sales_no_disc.values())*100, 3)\n",
    "                         for a, b in list(zip(sp_dict_sales_no_disc.keys(),\n",
    "                                             sp_dict_sales_no_disc.values()))}"
   ]
  },
  {
   "cell_type": "code",
   "execution_count": 180,
   "metadata": {
    "ExecuteTime": {
     "end_time": "2018-11-29T15:13:43.347006Z",
     "start_time": "2018-11-29T15:13:43.328006Z"
    }
   },
   "outputs": [
    {
     "data": {
      "text/plain": [
       "(100.00300000000018, 100.00200000000012)"
      ]
     },
     "execution_count": 180,
     "metadata": {},
     "output_type": "execute_result"
    }
   ],
   "source": [
    "sum(no_sp_dict_sales_share.values()), sum(sp_dict_sales_share.values())"
   ]
  },
  {
   "cell_type": "code",
   "execution_count": 181,
   "metadata": {
    "ExecuteTime": {
     "end_time": "2018-11-29T15:13:43.379006Z",
     "start_time": "2018-11-29T15:13:43.349006Z"
    }
   },
   "outputs": [],
   "source": [
    "brands = pd.read_csv('pg4_brands.dsv', sep=';', low_memory=False)"
   ]
  },
  {
   "cell_type": "code",
   "execution_count": 182,
   "metadata": {
    "ExecuteTime": {
     "end_time": "2018-11-29T15:13:43.396006Z",
     "start_time": "2018-11-29T15:13:43.381006Z"
    }
   },
   "outputs": [],
   "source": [
    "brands['BRAND'] = [i.split(' - ')[1] if len(i.split('-')) > 1 else 'unknown' for i in brands['PPR_V_LEVEL4_DESC'].values]"
   ]
  },
  {
   "cell_type": "code",
   "execution_count": 183,
   "metadata": {
    "ExecuteTime": {
     "end_time": "2018-11-29T15:13:43.415006Z",
     "start_time": "2018-11-29T15:13:43.398006Z"
    }
   },
   "outputs": [
    {
     "data": {
      "text/html": [
       "<div>\n",
       "<style scoped>\n",
       "    .dataframe tbody tr th:only-of-type {\n",
       "        vertical-align: middle;\n",
       "    }\n",
       "\n",
       "    .dataframe tbody tr th {\n",
       "        vertical-align: top;\n",
       "    }\n",
       "\n",
       "    .dataframe thead th {\n",
       "        text-align: right;\n",
       "    }\n",
       "</style>\n",
       "<table border=\"1\" class=\"dataframe\">\n",
       "  <thead>\n",
       "    <tr style=\"text-align: right;\">\n",
       "      <th></th>\n",
       "      <th>PPR_N_LEVEL4_ID</th>\n",
       "      <th>PPR_V_LEVEL4_DESC</th>\n",
       "      <th>BRAND</th>\n",
       "    </tr>\n",
       "  </thead>\n",
       "  <tbody>\n",
       "    <tr>\n",
       "      <th>0</th>\n",
       "      <td>20745</td>\n",
       "      <td>20745 - Hundesofa</td>\n",
       "      <td>Hundesofa</td>\n",
       "    </tr>\n",
       "    <tr>\n",
       "      <th>1</th>\n",
       "      <td>2</td>\n",
       "      <td>2 - Hund</td>\n",
       "      <td>Hund</td>\n",
       "    </tr>\n",
       "    <tr>\n",
       "      <th>2</th>\n",
       "      <td>1422</td>\n",
       "      <td>1422 - Spielzeug</td>\n",
       "      <td>Spielzeug</td>\n",
       "    </tr>\n",
       "    <tr>\n",
       "      <th>3</th>\n",
       "      <td>75</td>\n",
       "      <td>75 - Hundekissen</td>\n",
       "      <td>Hundekissen</td>\n",
       "    </tr>\n",
       "    <tr>\n",
       "      <th>4</th>\n",
       "      <td>2157</td>\n",
       "      <td>2157 - Alle Katzenklappen</td>\n",
       "      <td>Alle Katzenklappen</td>\n",
       "    </tr>\n",
       "  </tbody>\n",
       "</table>\n",
       "</div>"
      ],
      "text/plain": [
       "   PPR_N_LEVEL4_ID          PPR_V_LEVEL4_DESC               BRAND\n",
       "0            20745          20745 - Hundesofa           Hundesofa\n",
       "1                2                   2 - Hund                Hund\n",
       "2             1422           1422 - Spielzeug           Spielzeug\n",
       "3               75           75 - Hundekissen         Hundekissen\n",
       "4             2157  2157 - Alle Katzenklappen  Alle Katzenklappen"
      ]
     },
     "execution_count": 183,
     "metadata": {},
     "output_type": "execute_result"
    }
   ],
   "source": [
    "brands.head()"
   ]
  },
  {
   "cell_type": "code",
   "execution_count": 184,
   "metadata": {
    "ExecuteTime": {
     "end_time": "2018-11-29T15:13:43.442006Z",
     "start_time": "2018-11-29T15:13:43.416006Z"
    }
   },
   "outputs": [
    {
     "data": {
      "text/html": [
       "<div>\n",
       "<style scoped>\n",
       "    .dataframe tbody tr th:only-of-type {\n",
       "        vertical-align: middle;\n",
       "    }\n",
       "\n",
       "    .dataframe tbody tr th {\n",
       "        vertical-align: top;\n",
       "    }\n",
       "\n",
       "    .dataframe thead th {\n",
       "        text-align: right;\n",
       "    }\n",
       "</style>\n",
       "<table border=\"1\" class=\"dataframe\">\n",
       "  <thead>\n",
       "    <tr style=\"text-align: right;\">\n",
       "      <th></th>\n",
       "      <th>PPR_N_LEVEL4_ID</th>\n",
       "      <th>BRAND</th>\n",
       "    </tr>\n",
       "  </thead>\n",
       "  <tbody>\n",
       "    <tr>\n",
       "      <th>185</th>\n",
       "      <td>126742</td>\n",
       "      <td>Royal Canin Dog</td>\n",
       "    </tr>\n",
       "    <tr>\n",
       "      <th>257</th>\n",
       "      <td>17798</td>\n",
       "      <td>Royal Canin Breed (Rasse)</td>\n",
       "    </tr>\n",
       "    <tr>\n",
       "      <th>274</th>\n",
       "      <td>1308</td>\n",
       "      <td>Royal Canin Club / Selection</td>\n",
       "    </tr>\n",
       "    <tr>\n",
       "      <th>296</th>\n",
       "      <td>9702</td>\n",
       "      <td>Royal Canin Pure Feline</td>\n",
       "    </tr>\n",
       "    <tr>\n",
       "      <th>444</th>\n",
       "      <td>81396</td>\n",
       "      <td>Royal Canin Veterinary Diet</td>\n",
       "    </tr>\n",
       "    <tr>\n",
       "      <th>449</th>\n",
       "      <td>82696</td>\n",
       "      <td>Royal Canin Veterinary Diet</td>\n",
       "    </tr>\n",
       "    <tr>\n",
       "      <th>477</th>\n",
       "      <td>209912</td>\n",
       "      <td>Royal Canin Vet Care Nutrition</td>\n",
       "    </tr>\n",
       "    <tr>\n",
       "      <th>710</th>\n",
       "      <td>127037</td>\n",
       "      <td>Royal Canin Universal</td>\n",
       "    </tr>\n",
       "    <tr>\n",
       "      <th>790</th>\n",
       "      <td>682</td>\n",
       "      <td>Royal Canin Size</td>\n",
       "    </tr>\n",
       "    <tr>\n",
       "      <th>952</th>\n",
       "      <td>94525</td>\n",
       "      <td>Royal Canin</td>\n",
       "    </tr>\n",
       "    <tr>\n",
       "      <th>1284</th>\n",
       "      <td>126744</td>\n",
       "      <td>Royal Canin Cat</td>\n",
       "    </tr>\n",
       "    <tr>\n",
       "      <th>1309</th>\n",
       "      <td>17963</td>\n",
       "      <td>Royal Canin</td>\n",
       "    </tr>\n",
       "    <tr>\n",
       "      <th>1417</th>\n",
       "      <td>81397</td>\n",
       "      <td>Royal Canin Veterinary Diet</td>\n",
       "    </tr>\n",
       "    <tr>\n",
       "      <th>1423</th>\n",
       "      <td>82943</td>\n",
       "      <td>Royal Canin Veterinary Diet</td>\n",
       "    </tr>\n",
       "    <tr>\n",
       "      <th>1656</th>\n",
       "      <td>81431</td>\n",
       "      <td>Royal Canin Vet Care Nutrition</td>\n",
       "    </tr>\n",
       "    <tr>\n",
       "      <th>1659</th>\n",
       "      <td>218624</td>\n",
       "      <td>Royal Canin Veterinary Diet</td>\n",
       "    </tr>\n",
       "    <tr>\n",
       "      <th>1711</th>\n",
       "      <td>219110</td>\n",
       "      <td>Royal Canin Veterinary Diet</td>\n",
       "    </tr>\n",
       "    <tr>\n",
       "      <th>1794</th>\n",
       "      <td>683</td>\n",
       "      <td>Royal Canin</td>\n",
       "    </tr>\n",
       "    <tr>\n",
       "      <th>1799</th>\n",
       "      <td>261925</td>\n",
       "      <td>Royal Canin Rasse (Breed)</td>\n",
       "    </tr>\n",
       "    <tr>\n",
       "      <th>1922</th>\n",
       "      <td>47745</td>\n",
       "      <td>Royal Canin</td>\n",
       "    </tr>\n",
       "    <tr>\n",
       "      <th>1970</th>\n",
       "      <td>167473</td>\n",
       "      <td>Royal Canin Lifestyle</td>\n",
       "    </tr>\n",
       "  </tbody>\n",
       "</table>\n",
       "</div>"
      ],
      "text/plain": [
       "      PPR_N_LEVEL4_ID                           BRAND\n",
       "185            126742                 Royal Canin Dog\n",
       "257             17798       Royal Canin Breed (Rasse)\n",
       "274              1308    Royal Canin Club / Selection\n",
       "296              9702         Royal Canin Pure Feline\n",
       "444             81396     Royal Canin Veterinary Diet\n",
       "449             82696     Royal Canin Veterinary Diet\n",
       "477            209912  Royal Canin Vet Care Nutrition\n",
       "710            127037           Royal Canin Universal\n",
       "790               682                Royal Canin Size\n",
       "952             94525                     Royal Canin\n",
       "1284           126744                 Royal Canin Cat\n",
       "1309            17963                     Royal Canin\n",
       "1417            81397     Royal Canin Veterinary Diet\n",
       "1423            82943     Royal Canin Veterinary Diet\n",
       "1656            81431  Royal Canin Vet Care Nutrition\n",
       "1659           218624     Royal Canin Veterinary Diet\n",
       "1711           219110     Royal Canin Veterinary Diet\n",
       "1794              683                     Royal Canin\n",
       "1799           261925       Royal Canin Rasse (Breed)\n",
       "1922            47745                     Royal Canin\n",
       "1970           167473           Royal Canin Lifestyle"
      ]
     },
     "execution_count": 184,
     "metadata": {},
     "output_type": "execute_result"
    }
   ],
   "source": [
    "RC_brands = brands[brands['BRAND'].str.contains('Royal Canin')][['PPR_N_LEVEL4_ID', 'BRAND']]\n",
    "RC_brands"
   ]
  },
  {
   "cell_type": "code",
   "execution_count": 185,
   "metadata": {
    "ExecuteTime": {
     "end_time": "2018-11-29T15:13:43.463006Z",
     "start_time": "2018-11-29T15:13:43.444006Z"
    }
   },
   "outputs": [],
   "source": [
    "no_sp_rc_share_dict = {a: b for a, b in list(zip(no_sp_dict_sales_share.keys(), \n",
    "                                                 no_sp_dict_sales_share.values()))\n",
    "                      if a in RC_brands['BRAND'].values}"
   ]
  },
  {
   "cell_type": "code",
   "execution_count": 186,
   "metadata": {
    "ExecuteTime": {
     "end_time": "2018-11-29T15:13:43.479006Z",
     "start_time": "2018-11-29T15:13:43.465006Z"
    }
   },
   "outputs": [
    {
     "data": {
      "text/plain": [
       "{'Royal Canin': 5.754,\n",
       " 'Royal Canin Breed (Rasse)': 2.577,\n",
       " 'Royal Canin Club / Selection': 0.213,\n",
       " 'Royal Canin Dog': 0.0,\n",
       " 'Royal Canin Pure Feline': 0.008,\n",
       " 'Royal Canin Rasse (Breed)': 0.566,\n",
       " 'Royal Canin Size': 3.674,\n",
       " 'Royal Canin Vet Care Nutrition': 0.651,\n",
       " 'Royal Canin Veterinary Diet': 3.339}"
      ]
     },
     "execution_count": 186,
     "metadata": {},
     "output_type": "execute_result"
    }
   ],
   "source": [
    "no_sp_rc_share_dict"
   ]
  },
  {
   "cell_type": "code",
   "execution_count": 187,
   "metadata": {
    "ExecuteTime": {
     "end_time": "2018-11-29T15:13:43.499006Z",
     "start_time": "2018-11-29T15:13:43.480006Z"
    }
   },
   "outputs": [],
   "source": [
    "sp_rc_share_dict = {a: b for a, b in list(zip(sp_dict_sales_share.keys(), \n",
    "                                            sp_dict_sales_share.values()))\n",
    "                      if a in RC_brands['BRAND'].values}"
   ]
  },
  {
   "cell_type": "code",
   "execution_count": 188,
   "metadata": {
    "ExecuteTime": {
     "end_time": "2018-11-29T15:13:43.513006Z",
     "start_time": "2018-11-29T15:13:43.500006Z"
    }
   },
   "outputs": [
    {
     "data": {
      "text/plain": [
       "{'Royal Canin': 5.52,\n",
       " 'Royal Canin Breed (Rasse)': 2.456,\n",
       " 'Royal Canin Cat': 0.001,\n",
       " 'Royal Canin Club / Selection': 0.261,\n",
       " 'Royal Canin Dog': 0.0,\n",
       " 'Royal Canin Pure Feline': 0.015,\n",
       " 'Royal Canin Rasse (Breed)': 0.551,\n",
       " 'Royal Canin Size': 4.102,\n",
       " 'Royal Canin Vet Care Nutrition': 0.588,\n",
       " 'Royal Canin Veterinary Diet': 3.333}"
      ]
     },
     "execution_count": 188,
     "metadata": {},
     "output_type": "execute_result"
    }
   ],
   "source": [
    "sp_rc_share_dict"
   ]
  },
  {
   "cell_type": "code",
   "execution_count": 189,
   "metadata": {
    "ExecuteTime": {
     "end_time": "2018-11-29T15:13:43.764006Z",
     "start_time": "2018-11-29T15:13:43.515006Z"
    }
   },
   "outputs": [],
   "source": [
    "no_sp_rc_share_df = pd.DataFrame.from_dict(no_sp_rc_share_dict, orient='index')\n",
    "sp_rc_share_df = pd.DataFrame.from_dict(sp_rc_share_dict, orient='index')"
   ]
  },
  {
   "cell_type": "code",
   "execution_count": 190,
   "metadata": {
    "ExecuteTime": {
     "end_time": "2018-11-29T15:13:43.796006Z",
     "start_time": "2018-11-29T15:13:43.766006Z"
    }
   },
   "outputs": [
    {
     "data": {
      "text/html": [
       "<div>\n",
       "<style scoped>\n",
       "    .dataframe tbody tr th:only-of-type {\n",
       "        vertical-align: middle;\n",
       "    }\n",
       "\n",
       "    .dataframe tbody tr th {\n",
       "        vertical-align: top;\n",
       "    }\n",
       "\n",
       "    .dataframe thead th {\n",
       "        text-align: right;\n",
       "    }\n",
       "</style>\n",
       "<table border=\"1\" class=\"dataframe\">\n",
       "  <thead>\n",
       "    <tr style=\"text-align: right;\">\n",
       "      <th></th>\n",
       "      <th>BRAND</th>\n",
       "      <th>NO_SP_ORD</th>\n",
       "      <th>SP_ORD</th>\n",
       "    </tr>\n",
       "  </thead>\n",
       "  <tbody>\n",
       "    <tr>\n",
       "      <th>Royal Canin</th>\n",
       "      <td>Royal Canin</td>\n",
       "      <td>5.754</td>\n",
       "      <td>5.520</td>\n",
       "    </tr>\n",
       "    <tr>\n",
       "      <th>Royal Canin Breed (Rasse)</th>\n",
       "      <td>Royal Canin Breed (Rasse)</td>\n",
       "      <td>2.577</td>\n",
       "      <td>2.456</td>\n",
       "    </tr>\n",
       "    <tr>\n",
       "      <th>Royal Canin Cat</th>\n",
       "      <td>Royal Canin Cat</td>\n",
       "      <td>0.000</td>\n",
       "      <td>0.001</td>\n",
       "    </tr>\n",
       "    <tr>\n",
       "      <th>Royal Canin Club / Selection</th>\n",
       "      <td>Royal Canin Club / Selection</td>\n",
       "      <td>0.213</td>\n",
       "      <td>0.261</td>\n",
       "    </tr>\n",
       "    <tr>\n",
       "      <th>Royal Canin Dog</th>\n",
       "      <td>Royal Canin Dog</td>\n",
       "      <td>0.000</td>\n",
       "      <td>0.000</td>\n",
       "    </tr>\n",
       "    <tr>\n",
       "      <th>Royal Canin Pure Feline</th>\n",
       "      <td>Royal Canin Pure Feline</td>\n",
       "      <td>0.008</td>\n",
       "      <td>0.015</td>\n",
       "    </tr>\n",
       "    <tr>\n",
       "      <th>Royal Canin Rasse (Breed)</th>\n",
       "      <td>Royal Canin Rasse (Breed)</td>\n",
       "      <td>0.566</td>\n",
       "      <td>0.551</td>\n",
       "    </tr>\n",
       "    <tr>\n",
       "      <th>Royal Canin Size</th>\n",
       "      <td>Royal Canin Size</td>\n",
       "      <td>3.674</td>\n",
       "      <td>4.102</td>\n",
       "    </tr>\n",
       "    <tr>\n",
       "      <th>Royal Canin Vet Care Nutrition</th>\n",
       "      <td>Royal Canin Vet Care Nutrition</td>\n",
       "      <td>0.651</td>\n",
       "      <td>0.588</td>\n",
       "    </tr>\n",
       "    <tr>\n",
       "      <th>Royal Canin Veterinary Diet</th>\n",
       "      <td>Royal Canin Veterinary Diet</td>\n",
       "      <td>3.339</td>\n",
       "      <td>3.333</td>\n",
       "    </tr>\n",
       "  </tbody>\n",
       "</table>\n",
       "</div>"
      ],
      "text/plain": [
       "                                                         BRAND  NO_SP_ORD  \\\n",
       "Royal Canin                                        Royal Canin      5.754   \n",
       "Royal Canin Breed (Rasse)            Royal Canin Breed (Rasse)      2.577   \n",
       "Royal Canin Cat                                Royal Canin Cat      0.000   \n",
       "Royal Canin Club / Selection      Royal Canin Club / Selection      0.213   \n",
       "Royal Canin Dog                                Royal Canin Dog      0.000   \n",
       "Royal Canin Pure Feline                Royal Canin Pure Feline      0.008   \n",
       "Royal Canin Rasse (Breed)            Royal Canin Rasse (Breed)      0.566   \n",
       "Royal Canin Size                              Royal Canin Size      3.674   \n",
       "Royal Canin Vet Care Nutrition  Royal Canin Vet Care Nutrition      0.651   \n",
       "Royal Canin Veterinary Diet        Royal Canin Veterinary Diet      3.339   \n",
       "\n",
       "                                SP_ORD  \n",
       "Royal Canin                      5.520  \n",
       "Royal Canin Breed (Rasse)        2.456  \n",
       "Royal Canin Cat                  0.001  \n",
       "Royal Canin Club / Selection     0.261  \n",
       "Royal Canin Dog                  0.000  \n",
       "Royal Canin Pure Feline          0.015  \n",
       "Royal Canin Rasse (Breed)        0.551  \n",
       "Royal Canin Size                 4.102  \n",
       "Royal Canin Vet Care Nutrition   0.588  \n",
       "Royal Canin Veterinary Diet      3.333  "
      ]
     },
     "execution_count": 190,
     "metadata": {},
     "output_type": "execute_result"
    }
   ],
   "source": [
    "rc_comparison = pd.concat([no_sp_rc_share_df, sp_rc_share_df], axis=1).fillna(0)\n",
    "rc_comparison.columns = ['NO_SP_ORD', 'SP_ORD']\n",
    "rc_comparison['BRAND'] = rc_comparison.index.values\n",
    "rc_comparison = rc_comparison[['BRAND', 'NO_SP_ORD', 'SP_ORD']]\n",
    "rc_comparison"
   ]
  },
  {
   "cell_type": "code",
   "execution_count": 191,
   "metadata": {
    "ExecuteTime": {
     "end_time": "2018-11-29T15:13:44.027006Z",
     "start_time": "2018-11-29T15:13:43.797006Z"
    }
   },
   "outputs": [
    {
     "data": {
      "image/png": "[encoded data removed]",
      "text/plain": [
       "<matplotlib.figure.Figure at 0x1b4dfe9b0>"
      ]
     },
     "metadata": {},
     "output_type": "display_data"
    }
   ],
   "source": [
    "plt.figure(figsize=(12, 12))\n",
    "x = rc_comparison['BRAND'].values\n",
    "y = rc_comparison['NO_SP_ORD'].values\n",
    "z = rc_comparison['SP_ORD'].values\n",
    "plt.barh(x, y, color='g')\n",
    "plt.barh(x, z, color='orange', alpha=0.5)\n",
    "plt.title('Royal Canin sales share in 168 days orders before/after SP purchasing', fontsize=14)\n",
    "plt.ylabel('BRAND')\n",
    "plt.xlabel('Sales share %')\n",
    "plt.legend(['NO SP Orders', 'SP Orders'])\n",
    "plt.show()"
   ]
  },
  {
   "cell_type": "markdown",
   "metadata": {
    "ExecuteTime": {
     "end_time": "2018-11-27T14:58:42.294567Z",
     "start_time": "2018-11-27T14:58:42.270567Z"
    }
   },
   "source": [
    "#### Royal Canin sales -  168 days orders before/after SP purchasing"
   ]
  },
  {
   "cell_type": "code",
   "execution_count": 192,
   "metadata": {
    "ExecuteTime": {
     "end_time": "2018-11-29T15:13:44.038006Z",
     "start_time": "2018-11-29T15:13:44.029006Z"
    }
   },
   "outputs": [],
   "source": [
    "no_sp_rc_sales_dict = {a: b for a, b in list(zip(no_sp_dict_sales_no_disc.keys(), \n",
    "                                            no_sp_dict_sales_no_disc.values()))\n",
    "                      if a in RC_brands['BRAND'].values}"
   ]
  },
  {
   "cell_type": "code",
   "execution_count": 193,
   "metadata": {
    "ExecuteTime": {
     "end_time": "2018-11-29T15:13:44.055006Z",
     "start_time": "2018-11-29T15:13:44.040006Z"
    }
   },
   "outputs": [
    {
     "data": {
      "text/plain": [
       "{'Royal Canin': 57964.44,\n",
       " 'Royal Canin Breed (Rasse)': 25955.52,\n",
       " 'Royal Canin Club / Selection': 2149.61,\n",
       " 'Royal Canin Dog': 1.68,\n",
       " 'Royal Canin Pure Feline': 78.45,\n",
       " 'Royal Canin Rasse (Breed)': 5696.96,\n",
       " 'Royal Canin Size': 37014.37,\n",
       " 'Royal Canin Vet Care Nutrition': 6556.85,\n",
       " 'Royal Canin Veterinary Diet': 33637.43}"
      ]
     },
     "execution_count": 193,
     "metadata": {},
     "output_type": "execute_result"
    }
   ],
   "source": [
    "no_sp_rc_sales_dict"
   ]
  },
  {
   "cell_type": "code",
   "execution_count": 194,
   "metadata": {
    "ExecuteTime": {
     "end_time": "2018-11-29T15:13:44.077006Z",
     "start_time": "2018-11-29T15:13:44.057006Z"
    }
   },
   "outputs": [],
   "source": [
    "sp_rc_sales_dict = {a: b for a, b in list(zip(sp_dict_sales_no_disc.keys(), \n",
    "                                            sp_dict_sales_no_disc.values()))\n",
    "                      if a in RC_brands['BRAND'].values}"
   ]
  },
  {
   "cell_type": "code",
   "execution_count": 195,
   "metadata": {
    "ExecuteTime": {
     "end_time": "2018-11-29T15:13:44.094006Z",
     "start_time": "2018-11-29T15:13:44.079006Z"
    }
   },
   "outputs": [
    {
     "data": {
      "text/plain": [
       "{'Royal Canin': 78997.05,\n",
       " 'Royal Canin Breed (Rasse)': 35147.69,\n",
       " 'Royal Canin Cat': 9.11,\n",
       " 'Royal Canin Club / Selection': 3729.06,\n",
       " 'Royal Canin Dog': 1.68,\n",
       " 'Royal Canin Pure Feline': 219.88,\n",
       " 'Royal Canin Rasse (Breed)': 7890.18,\n",
       " 'Royal Canin Size': 58710.58,\n",
       " 'Royal Canin Vet Care Nutrition': 8408.92,\n",
       " 'Royal Canin Veterinary Diet': 47700.52}"
      ]
     },
     "execution_count": 195,
     "metadata": {},
     "output_type": "execute_result"
    }
   ],
   "source": [
    "sp_rc_sales_dict"
   ]
  },
  {
   "cell_type": "code",
   "execution_count": 196,
   "metadata": {
    "ExecuteTime": {
     "end_time": "2018-11-29T15:13:44.109006Z",
     "start_time": "2018-11-29T15:13:44.096006Z"
    }
   },
   "outputs": [],
   "source": [
    "no_sp_rc_sales_df = pd.DataFrame.from_dict(no_sp_rc_sales_dict, orient='index')\n",
    "sp_rc_sales_df = pd.DataFrame.from_dict(sp_rc_sales_dict, orient='index')"
   ]
  },
  {
   "cell_type": "code",
   "execution_count": 197,
   "metadata": {
    "ExecuteTime": {
     "end_time": "2018-11-29T15:13:44.131006Z",
     "start_time": "2018-11-29T15:13:44.111006Z"
    }
   },
   "outputs": [
    {
     "data": {
      "text/html": [
       "<div>\n",
       "<style scoped>\n",
       "    .dataframe tbody tr th:only-of-type {\n",
       "        vertical-align: middle;\n",
       "    }\n",
       "\n",
       "    .dataframe tbody tr th {\n",
       "        vertical-align: top;\n",
       "    }\n",
       "\n",
       "    .dataframe thead th {\n",
       "        text-align: right;\n",
       "    }\n",
       "</style>\n",
       "<table border=\"1\" class=\"dataframe\">\n",
       "  <thead>\n",
       "    <tr style=\"text-align: right;\">\n",
       "      <th></th>\n",
       "      <th>BRAND</th>\n",
       "      <th>NO_SP_ORD</th>\n",
       "      <th>SP_ORD</th>\n",
       "    </tr>\n",
       "  </thead>\n",
       "  <tbody>\n",
       "    <tr>\n",
       "      <th>Royal Canin</th>\n",
       "      <td>Royal Canin</td>\n",
       "      <td>57964.44</td>\n",
       "      <td>78997.05</td>\n",
       "    </tr>\n",
       "    <tr>\n",
       "      <th>Royal Canin Breed (Rasse)</th>\n",
       "      <td>Royal Canin Breed (Rasse)</td>\n",
       "      <td>25955.52</td>\n",
       "      <td>35147.69</td>\n",
       "    </tr>\n",
       "    <tr>\n",
       "      <th>Royal Canin Cat</th>\n",
       "      <td>Royal Canin Cat</td>\n",
       "      <td>0.00</td>\n",
       "      <td>9.11</td>\n",
       "    </tr>\n",
       "    <tr>\n",
       "      <th>Royal Canin Club / Selection</th>\n",
       "      <td>Royal Canin Club / Selection</td>\n",
       "      <td>2149.61</td>\n",
       "      <td>3729.06</td>\n",
       "    </tr>\n",
       "    <tr>\n",
       "      <th>Royal Canin Dog</th>\n",
       "      <td>Royal Canin Dog</td>\n",
       "      <td>1.68</td>\n",
       "      <td>1.68</td>\n",
       "    </tr>\n",
       "    <tr>\n",
       "      <th>Royal Canin Pure Feline</th>\n",
       "      <td>Royal Canin Pure Feline</td>\n",
       "      <td>78.45</td>\n",
       "      <td>219.88</td>\n",
       "    </tr>\n",
       "    <tr>\n",
       "      <th>Royal Canin Rasse (Breed)</th>\n",
       "      <td>Royal Canin Rasse (Breed)</td>\n",
       "      <td>5696.96</td>\n",
       "      <td>7890.18</td>\n",
       "    </tr>\n",
       "    <tr>\n",
       "      <th>Royal Canin Size</th>\n",
       "      <td>Royal Canin Size</td>\n",
       "      <td>37014.37</td>\n",
       "      <td>58710.58</td>\n",
       "    </tr>\n",
       "    <tr>\n",
       "      <th>Royal Canin Vet Care Nutrition</th>\n",
       "      <td>Royal Canin Vet Care Nutrition</td>\n",
       "      <td>6556.85</td>\n",
       "      <td>8408.92</td>\n",
       "    </tr>\n",
       "    <tr>\n",
       "      <th>Royal Canin Veterinary Diet</th>\n",
       "      <td>Royal Canin Veterinary Diet</td>\n",
       "      <td>33637.43</td>\n",
       "      <td>47700.52</td>\n",
       "    </tr>\n",
       "  </tbody>\n",
       "</table>\n",
       "</div>"
      ],
      "text/plain": [
       "                                                         BRAND  NO_SP_ORD  \\\n",
       "Royal Canin                                        Royal Canin   57964.44   \n",
       "Royal Canin Breed (Rasse)            Royal Canin Breed (Rasse)   25955.52   \n",
       "Royal Canin Cat                                Royal Canin Cat       0.00   \n",
       "Royal Canin Club / Selection      Royal Canin Club / Selection    2149.61   \n",
       "Royal Canin Dog                                Royal Canin Dog       1.68   \n",
       "Royal Canin Pure Feline                Royal Canin Pure Feline      78.45   \n",
       "Royal Canin Rasse (Breed)            Royal Canin Rasse (Breed)    5696.96   \n",
       "Royal Canin Size                              Royal Canin Size   37014.37   \n",
       "Royal Canin Vet Care Nutrition  Royal Canin Vet Care Nutrition    6556.85   \n",
       "Royal Canin Veterinary Diet        Royal Canin Veterinary Diet   33637.43   \n",
       "\n",
       "                                  SP_ORD  \n",
       "Royal Canin                     78997.05  \n",
       "Royal Canin Breed (Rasse)       35147.69  \n",
       "Royal Canin Cat                     9.11  \n",
       "Royal Canin Club / Selection     3729.06  \n",
       "Royal Canin Dog                     1.68  \n",
       "Royal Canin Pure Feline           219.88  \n",
       "Royal Canin Rasse (Breed)        7890.18  \n",
       "Royal Canin Size                58710.58  \n",
       "Royal Canin Vet Care Nutrition   8408.92  \n",
       "Royal Canin Veterinary Diet     47700.52  "
      ]
     },
     "execution_count": 197,
     "metadata": {},
     "output_type": "execute_result"
    }
   ],
   "source": [
    "rc_sales_comparison = pd.concat([no_sp_rc_sales_df, sp_rc_sales_df], axis=1).fillna(0)\n",
    "rc_sales_comparison.columns = ['NO_SP_ORD', 'SP_ORD']\n",
    "rc_sales_comparison['BRAND'] = rc_sales_comparison.index.values\n",
    "rc_sales_comparison = rc_sales_comparison[['BRAND', 'NO_SP_ORD', 'SP_ORD']]\n",
    "rc_sales_comparison"
   ]
  },
  {
   "cell_type": "code",
   "execution_count": 198,
   "metadata": {
    "ExecuteTime": {
     "end_time": "2018-11-29T15:13:44.388006Z",
     "start_time": "2018-11-29T15:13:44.133006Z"
    }
   },
   "outputs": [
    {
     "data": {
      "image/png": "[encoded data removed]",
      "text/plain": [
       "<matplotlib.figure.Figure at 0x1bb43c5f8>"
      ]
     },
     "metadata": {},
     "output_type": "display_data"
    }
   ],
   "source": [
    "plt.figure(figsize=(12, 12))\n",
    "x = rc_sales_comparison['BRAND'].values\n",
    "y = rc_sales_comparison['NO_SP_ORD'].values\n",
    "z = rc_sales_comparison['SP_ORD'].values\n",
    "plt.barh(x, y, color='g')\n",
    "plt.barh(x, z, color='orange', alpha=0.5)\n",
    "plt.title('Royal Canin sales in 168 days orders before/after SP purchasing', fontsize=14)\n",
    "plt.ylabel('BRAND')\n",
    "plt.xlabel('Sales')\n",
    "plt.legend(['NO SP Orders', 'SP Orders'])\n",
    "plt.show()"
   ]
  },
  {
   "cell_type": "markdown",
   "metadata": {},
   "source": [
    "#### Average Sales Share of Hill's products – 168 days orders before/after SP purchasing"
   ]
  },
  {
   "cell_type": "code",
   "execution_count": 199,
   "metadata": {
    "ExecuteTime": {
     "end_time": "2018-11-29T15:13:44.402006Z",
     "start_time": "2018-11-29T15:13:44.390006Z"
    }
   },
   "outputs": [
    {
     "data": {
      "text/html": [
       "<div>\n",
       "<style scoped>\n",
       "    .dataframe tbody tr th:only-of-type {\n",
       "        vertical-align: middle;\n",
       "    }\n",
       "\n",
       "    .dataframe tbody tr th {\n",
       "        vertical-align: top;\n",
       "    }\n",
       "\n",
       "    .dataframe thead th {\n",
       "        text-align: right;\n",
       "    }\n",
       "</style>\n",
       "<table border=\"1\" class=\"dataframe\">\n",
       "  <thead>\n",
       "    <tr style=\"text-align: right;\">\n",
       "      <th></th>\n",
       "      <th>PPR_N_LEVEL4_ID</th>\n",
       "      <th>BRAND</th>\n",
       "    </tr>\n",
       "  </thead>\n",
       "  <tbody>\n",
       "    <tr>\n",
       "      <th>13</th>\n",
       "      <td>719</td>\n",
       "      <td>Hill's Science Plan</td>\n",
       "    </tr>\n",
       "    <tr>\n",
       "      <th>188</th>\n",
       "      <td>84729</td>\n",
       "      <td>Hill's Prescription Diet</td>\n",
       "    </tr>\n",
       "    <tr>\n",
       "      <th>261</th>\n",
       "      <td>1816</td>\n",
       "      <td>Hill's Puppy &amp; Senior</td>\n",
       "    </tr>\n",
       "    <tr>\n",
       "      <th>270</th>\n",
       "      <td>2058</td>\n",
       "      <td>Hill's Natures Best</td>\n",
       "    </tr>\n",
       "    <tr>\n",
       "      <th>295</th>\n",
       "      <td>720</td>\n",
       "      <td>Hill's Science Plan</td>\n",
       "    </tr>\n",
       "    <tr>\n",
       "      <th>472</th>\n",
       "      <td>151599</td>\n",
       "      <td>Hill's Prescription Diet</td>\n",
       "    </tr>\n",
       "    <tr>\n",
       "      <th>735</th>\n",
       "      <td>175240</td>\n",
       "      <td>Hill's Ideal Balance</td>\n",
       "    </tr>\n",
       "    <tr>\n",
       "      <th>736</th>\n",
       "      <td>177843</td>\n",
       "      <td>Hill's Ideal Balance</td>\n",
       "    </tr>\n",
       "    <tr>\n",
       "      <th>1150</th>\n",
       "      <td>31962</td>\n",
       "      <td>Hill's Prescription Diet</td>\n",
       "    </tr>\n",
       "    <tr>\n",
       "      <th>1381</th>\n",
       "      <td>31963</td>\n",
       "      <td>Hill's Prescription Diet</td>\n",
       "    </tr>\n",
       "    <tr>\n",
       "      <th>1530</th>\n",
       "      <td>2057</td>\n",
       "      <td>Nature's Best von Hill's</td>\n",
       "    </tr>\n",
       "    <tr>\n",
       "      <th>1677</th>\n",
       "      <td>127127</td>\n",
       "      <td>Hill's Dog</td>\n",
       "    </tr>\n",
       "    <tr>\n",
       "      <th>1683</th>\n",
       "      <td>96660</td>\n",
       "      <td>Hill's Prescription Diet</td>\n",
       "    </tr>\n",
       "    <tr>\n",
       "      <th>1735</th>\n",
       "      <td>39494</td>\n",
       "      <td>Hill's</td>\n",
       "    </tr>\n",
       "    <tr>\n",
       "      <th>1910</th>\n",
       "      <td>39209</td>\n",
       "      <td>Hill's Prescription Diet</td>\n",
       "    </tr>\n",
       "    <tr>\n",
       "      <th>1958</th>\n",
       "      <td>127247</td>\n",
       "      <td>Hill's Cat</td>\n",
       "    </tr>\n",
       "  </tbody>\n",
       "</table>\n",
       "</div>"
      ],
      "text/plain": [
       "      PPR_N_LEVEL4_ID                     BRAND\n",
       "13                719       Hill's Science Plan\n",
       "188             84729  Hill's Prescription Diet\n",
       "261              1816     Hill's Puppy & Senior\n",
       "270              2058       Hill's Natures Best\n",
       "295               720       Hill's Science Plan\n",
       "472            151599  Hill's Prescription Diet\n",
       "735            175240      Hill's Ideal Balance\n",
       "736            177843      Hill's Ideal Balance\n",
       "1150            31962  Hill's Prescription Diet\n",
       "1381            31963  Hill's Prescription Diet\n",
       "1530             2057  Nature's Best von Hill's\n",
       "1677           127127                Hill's Dog\n",
       "1683            96660  Hill's Prescription Diet\n",
       "1735            39494                    Hill's\n",
       "1910            39209  Hill's Prescription Diet\n",
       "1958           127247                Hill's Cat"
      ]
     },
     "execution_count": 199,
     "metadata": {},
     "output_type": "execute_result"
    }
   ],
   "source": [
    "Hills_brands = brands[brands['BRAND'].str.contains(\"Hill's\")][['PPR_N_LEVEL4_ID', 'BRAND']]\n",
    "Hills_brands"
   ]
  },
  {
   "cell_type": "code",
   "execution_count": 200,
   "metadata": {
    "ExecuteTime": {
     "end_time": "2018-11-29T15:13:44.422006Z",
     "start_time": "2018-11-29T15:13:44.404006Z"
    }
   },
   "outputs": [],
   "source": [
    "no_sp_hills_share_dict = {a: b for a, b in list(zip(no_sp_dict_sales_share.keys(), \n",
    "                                                 no_sp_dict_sales_share.values()))\n",
    "                      if a in Hills_brands['BRAND'].values}"
   ]
  },
  {
   "cell_type": "code",
   "execution_count": 201,
   "metadata": {
    "ExecuteTime": {
     "end_time": "2018-11-29T15:13:44.441006Z",
     "start_time": "2018-11-29T15:13:44.423006Z"
    }
   },
   "outputs": [
    {
     "data": {
      "text/plain": [
       "{\"Hill's Ideal Balance\": 0.166,\n",
       " \"Hill's Natures Best\": 0.04,\n",
       " \"Hill's Prescription Diet\": 8.169,\n",
       " \"Hill's Science Plan\": 2.692,\n",
       " \"Nature's Best von Hill's\": 0.038}"
      ]
     },
     "execution_count": 201,
     "metadata": {},
     "output_type": "execute_result"
    }
   ],
   "source": [
    "no_sp_hills_share_dict"
   ]
  },
  {
   "cell_type": "code",
   "execution_count": 202,
   "metadata": {
    "ExecuteTime": {
     "end_time": "2018-11-29T15:13:44.464006Z",
     "start_time": "2018-11-29T15:13:44.443006Z"
    }
   },
   "outputs": [],
   "source": [
    "sp_hills_share_dict = {a: b for a, b in list(zip(sp_dict_sales_share.keys(), \n",
    "                                                 sp_dict_sales_share.values()))\n",
    "                      if a in Hills_brands['BRAND'].values}"
   ]
  },
  {
   "cell_type": "code",
   "execution_count": 203,
   "metadata": {
    "ExecuteTime": {
     "end_time": "2018-11-29T15:13:44.483006Z",
     "start_time": "2018-11-29T15:13:44.466006Z"
    }
   },
   "outputs": [
    {
     "data": {
      "text/plain": [
       "{\"Hill's Ideal Balance\": 0.116,\n",
       " \"Hill's Natures Best\": 0.054,\n",
       " \"Hill's Prescription Diet\": 7.626,\n",
       " \"Hill's Science Plan\": 2.654,\n",
       " \"Nature's Best von Hill's\": 0.038}"
      ]
     },
     "execution_count": 203,
     "metadata": {},
     "output_type": "execute_result"
    }
   ],
   "source": [
    "sp_hills_share_dict"
   ]
  },
  {
   "cell_type": "code",
   "execution_count": 204,
   "metadata": {
    "ExecuteTime": {
     "end_time": "2018-11-29T15:13:44.499006Z",
     "start_time": "2018-11-29T15:13:44.484006Z"
    }
   },
   "outputs": [],
   "source": [
    "no_sp_hills_share_df = pd.DataFrame.from_dict(no_sp_hills_share_dict, orient='index')\n",
    "sp_hills_share_df = pd.DataFrame.from_dict(sp_hills_share_dict, orient='index')"
   ]
  },
  {
   "cell_type": "code",
   "execution_count": 205,
   "metadata": {
    "ExecuteTime": {
     "end_time": "2018-11-29T15:13:44.529006Z",
     "start_time": "2018-11-29T15:13:44.500006Z"
    }
   },
   "outputs": [
    {
     "data": {
      "text/html": [
       "<div>\n",
       "<style scoped>\n",
       "    .dataframe tbody tr th:only-of-type {\n",
       "        vertical-align: middle;\n",
       "    }\n",
       "\n",
       "    .dataframe tbody tr th {\n",
       "        vertical-align: top;\n",
       "    }\n",
       "\n",
       "    .dataframe thead th {\n",
       "        text-align: right;\n",
       "    }\n",
       "</style>\n",
       "<table border=\"1\" class=\"dataframe\">\n",
       "  <thead>\n",
       "    <tr style=\"text-align: right;\">\n",
       "      <th></th>\n",
       "      <th>BRAND</th>\n",
       "      <th>NO_SP_ORD</th>\n",
       "      <th>SP_ORD</th>\n",
       "    </tr>\n",
       "  </thead>\n",
       "  <tbody>\n",
       "    <tr>\n",
       "      <th>Hill's Prescription Diet</th>\n",
       "      <td>Hill's Prescription Diet</td>\n",
       "      <td>8.169</td>\n",
       "      <td>7.626</td>\n",
       "    </tr>\n",
       "    <tr>\n",
       "      <th>Hill's Science Plan</th>\n",
       "      <td>Hill's Science Plan</td>\n",
       "      <td>2.692</td>\n",
       "      <td>2.654</td>\n",
       "    </tr>\n",
       "    <tr>\n",
       "      <th>Hill's Ideal Balance</th>\n",
       "      <td>Hill's Ideal Balance</td>\n",
       "      <td>0.166</td>\n",
       "      <td>0.116</td>\n",
       "    </tr>\n",
       "    <tr>\n",
       "      <th>Hill's Natures Best</th>\n",
       "      <td>Hill's Natures Best</td>\n",
       "      <td>0.040</td>\n",
       "      <td>0.054</td>\n",
       "    </tr>\n",
       "    <tr>\n",
       "      <th>Nature's Best von Hill's</th>\n",
       "      <td>Nature's Best von Hill's</td>\n",
       "      <td>0.038</td>\n",
       "      <td>0.038</td>\n",
       "    </tr>\n",
       "  </tbody>\n",
       "</table>\n",
       "</div>"
      ],
      "text/plain": [
       "                                             BRAND  NO_SP_ORD  SP_ORD\n",
       "Hill's Prescription Diet  Hill's Prescription Diet      8.169   7.626\n",
       "Hill's Science Plan            Hill's Science Plan      2.692   2.654\n",
       "Hill's Ideal Balance          Hill's Ideal Balance      0.166   0.116\n",
       "Hill's Natures Best            Hill's Natures Best      0.040   0.054\n",
       "Nature's Best von Hill's  Nature's Best von Hill's      0.038   0.038"
      ]
     },
     "execution_count": 205,
     "metadata": {},
     "output_type": "execute_result"
    }
   ],
   "source": [
    "hills_comparison = pd.concat([no_sp_hills_share_df, sp_hills_share_df], axis=1).fillna(0)\n",
    "hills_comparison.columns = ['NO_SP_ORD', 'SP_ORD']\n",
    "hills_comparison['BRAND'] = hills_comparison.index.values\n",
    "hills_comparison = hills_comparison[['BRAND', 'NO_SP_ORD', 'SP_ORD']]\n",
    "hills_comparison"
   ]
  },
  {
   "cell_type": "code",
   "execution_count": 206,
   "metadata": {
    "ExecuteTime": {
     "end_time": "2018-11-29T15:13:44.702006Z",
     "start_time": "2018-11-29T15:13:44.530006Z"
    }
   },
   "outputs": [
    {
     "data": {
      "image/png": "[encoded data removed]",
      "text/plain": [
       "<matplotlib.figure.Figure at 0x1bb4432e8>"
      ]
     },
     "metadata": {},
     "output_type": "display_data"
    }
   ],
   "source": [
    "plt.figure(figsize=(12, 6))\n",
    "x = hills_comparison['BRAND'].values\n",
    "y = hills_comparison['NO_SP_ORD'].values\n",
    "z = hills_comparison['SP_ORD'].values\n",
    "plt.barh(x, y, color='g')\n",
    "plt.barh(x, z, color='orange', alpha=0.5)\n",
    "plt.title(\"Hill's sales share in 168 days before/after SP purchasing\", fontsize=14)\n",
    "plt.ylabel('BRAND')\n",
    "plt.xlabel('Sales share %')\n",
    "plt.legend(['NO SP Orders', 'SP Orders'])\n",
    "plt.show()"
   ]
  },
  {
   "cell_type": "markdown",
   "metadata": {},
   "source": [
    "#### Hill's sales -  168 days orders before/after SP purchasing"
   ]
  },
  {
   "cell_type": "code",
   "execution_count": 207,
   "metadata": {
    "ExecuteTime": {
     "end_time": "2018-11-29T15:13:44.713006Z",
     "start_time": "2018-11-29T15:13:44.703006Z"
    }
   },
   "outputs": [],
   "source": [
    "no_sp_hills_sales_dict = {a: b for a, b in list(zip(no_sp_dict_sales_no_disc.keys(), \n",
    "                                            no_sp_dict_sales_no_disc.values()))\n",
    "                      if a in Hills_brands['BRAND'].values}"
   ]
  },
  {
   "cell_type": "code",
   "execution_count": 208,
   "metadata": {
    "ExecuteTime": {
     "end_time": "2018-11-29T15:13:44.731006Z",
     "start_time": "2018-11-29T15:13:44.715006Z"
    }
   },
   "outputs": [
    {
     "data": {
      "text/plain": [
       "{\"Hill's Ideal Balance\": 1671.76,\n",
       " \"Hill's Natures Best\": 407.93,\n",
       " \"Hill's Prescription Diet\": 82294.65,\n",
       " \"Hill's Science Plan\": 27114.88,\n",
       " \"Nature's Best von Hill's\": 383.83}"
      ]
     },
     "execution_count": 208,
     "metadata": {},
     "output_type": "execute_result"
    }
   ],
   "source": [
    "no_sp_hills_sales_dict"
   ]
  },
  {
   "cell_type": "code",
   "execution_count": 209,
   "metadata": {
    "ExecuteTime": {
     "end_time": "2018-11-29T15:13:44.749006Z",
     "start_time": "2018-11-29T15:13:44.733006Z"
    }
   },
   "outputs": [],
   "source": [
    "sp_hills_sales_dict = {a: b for a, b in list(zip(sp_dict_sales_no_disc.keys(), \n",
    "                                            sp_dict_sales_no_disc.values()))\n",
    "                      if a in Hills_brands['BRAND'].values}"
   ]
  },
  {
   "cell_type": "code",
   "execution_count": 210,
   "metadata": {
    "ExecuteTime": {
     "end_time": "2018-11-29T15:13:44.764006Z",
     "start_time": "2018-11-29T15:13:44.751006Z"
    }
   },
   "outputs": [
    {
     "data": {
      "text/plain": [
       "{\"Hill's Ideal Balance\": 1667.02,\n",
       " \"Hill's Natures Best\": 776.54,\n",
       " \"Hill's Prescription Diet\": 109141.83,\n",
       " \"Hill's Science Plan\": 37978.76,\n",
       " \"Nature's Best von Hill's\": 545.82}"
      ]
     },
     "execution_count": 210,
     "metadata": {},
     "output_type": "execute_result"
    }
   ],
   "source": [
    "sp_hills_sales_dict"
   ]
  },
  {
   "cell_type": "code",
   "execution_count": 211,
   "metadata": {
    "ExecuteTime": {
     "end_time": "2018-11-29T15:13:44.778006Z",
     "start_time": "2018-11-29T15:13:44.765006Z"
    }
   },
   "outputs": [],
   "source": [
    "no_sp_hills_sales_df = pd.DataFrame.from_dict(no_sp_hills_sales_dict, orient='index')\n",
    "sp_hills_sales_df = pd.DataFrame.from_dict(sp_hills_sales_dict, orient='index')"
   ]
  },
  {
   "cell_type": "code",
   "execution_count": 212,
   "metadata": {
    "ExecuteTime": {
     "end_time": "2018-11-29T15:13:44.803006Z",
     "start_time": "2018-11-29T15:13:44.779006Z"
    }
   },
   "outputs": [
    {
     "data": {
      "text/html": [
       "<div>\n",
       "<style scoped>\n",
       "    .dataframe tbody tr th:only-of-type {\n",
       "        vertical-align: middle;\n",
       "    }\n",
       "\n",
       "    .dataframe tbody tr th {\n",
       "        vertical-align: top;\n",
       "    }\n",
       "\n",
       "    .dataframe thead th {\n",
       "        text-align: right;\n",
       "    }\n",
       "</style>\n",
       "<table border=\"1\" class=\"dataframe\">\n",
       "  <thead>\n",
       "    <tr style=\"text-align: right;\">\n",
       "      <th></th>\n",
       "      <th>BRAND</th>\n",
       "      <th>NO_SP_ORD</th>\n",
       "      <th>SP_ORD</th>\n",
       "    </tr>\n",
       "  </thead>\n",
       "  <tbody>\n",
       "    <tr>\n",
       "      <th>Hill's Prescription Diet</th>\n",
       "      <td>Hill's Prescription Diet</td>\n",
       "      <td>82294.65</td>\n",
       "      <td>109141.83</td>\n",
       "    </tr>\n",
       "    <tr>\n",
       "      <th>Hill's Science Plan</th>\n",
       "      <td>Hill's Science Plan</td>\n",
       "      <td>27114.88</td>\n",
       "      <td>37978.76</td>\n",
       "    </tr>\n",
       "    <tr>\n",
       "      <th>Hill's Ideal Balance</th>\n",
       "      <td>Hill's Ideal Balance</td>\n",
       "      <td>1671.76</td>\n",
       "      <td>1667.02</td>\n",
       "    </tr>\n",
       "    <tr>\n",
       "      <th>Hill's Natures Best</th>\n",
       "      <td>Hill's Natures Best</td>\n",
       "      <td>407.93</td>\n",
       "      <td>776.54</td>\n",
       "    </tr>\n",
       "    <tr>\n",
       "      <th>Nature's Best von Hill's</th>\n",
       "      <td>Nature's Best von Hill's</td>\n",
       "      <td>383.83</td>\n",
       "      <td>545.82</td>\n",
       "    </tr>\n",
       "  </tbody>\n",
       "</table>\n",
       "</div>"
      ],
      "text/plain": [
       "                                             BRAND  NO_SP_ORD     SP_ORD\n",
       "Hill's Prescription Diet  Hill's Prescription Diet   82294.65  109141.83\n",
       "Hill's Science Plan            Hill's Science Plan   27114.88   37978.76\n",
       "Hill's Ideal Balance          Hill's Ideal Balance    1671.76    1667.02\n",
       "Hill's Natures Best            Hill's Natures Best     407.93     776.54\n",
       "Nature's Best von Hill's  Nature's Best von Hill's     383.83     545.82"
      ]
     },
     "execution_count": 212,
     "metadata": {},
     "output_type": "execute_result"
    }
   ],
   "source": [
    "hills_sales_comparison = pd.concat([no_sp_hills_sales_df, sp_hills_sales_df], axis=1).fillna(0)\n",
    "hills_sales_comparison.columns = ['NO_SP_ORD', 'SP_ORD']\n",
    "hills_sales_comparison['BRAND'] = hills_sales_comparison.index.values\n",
    "hills_sales_comparison = hills_sales_comparison[['BRAND', 'NO_SP_ORD', 'SP_ORD']]\n",
    "hills_sales_comparison"
   ]
  },
  {
   "cell_type": "code",
   "execution_count": 213,
   "metadata": {
    "ExecuteTime": {
     "end_time": "2018-11-29T15:13:44.957006Z",
     "start_time": "2018-11-29T15:13:44.804006Z"
    }
   },
   "outputs": [
    {
     "data": {
      "image/png": "[encoded data removed]",
      "text/plain": [
       "<matplotlib.figure.Figure at 0x1c2162668>"
      ]
     },
     "metadata": {},
     "output_type": "display_data"
    }
   ],
   "source": [
    "plt.figure(figsize=(12, 6))\n",
    "x = hills_sales_comparison['BRAND'].values\n",
    "y = hills_sales_comparison['NO_SP_ORD'].values\n",
    "z = hills_sales_comparison['SP_ORD'].values\n",
    "plt.barh(x, y, color='g')\n",
    "plt.barh(x, z, color='orange', alpha=0.5)\n",
    "plt.title('Hills sales in 168 days orders before/after SP purchasing', fontsize=14)\n",
    "plt.ylabel('BRAND')\n",
    "plt.xlabel('Sales')\n",
    "plt.legend(['NO SP Orders', 'SP Orders'])\n",
    "plt.show()"
   ]
  },
  {
   "cell_type": "markdown",
   "metadata": {},
   "source": [
    "##### Timedeltas between orders before/after SP purchasing (every data available for the customer, not only 168 days)"
   ]
  },
  {
   "cell_type": "code",
   "execution_count": 214,
   "metadata": {
    "ExecuteTime": {
     "end_time": "2018-11-29T15:13:44.964006Z",
     "start_time": "2018-11-29T15:13:44.959006Z"
    }
   },
   "outputs": [
    {
     "data": {
      "text/plain": [
       "Index(['CUS_N_KEY_CUSTOMER', 'SCM_N_ORDER_NR_len', 'TDT_T_KEY_ORDER_DATE_list',\n",
       "       'SCM_SALES_BMF_sum', 'SCM_SALES_BMF_list', 'SCM_D_FINANCE_CM1_sum',\n",
       "       'SCM_D_FINANCE_CM1_list', 'SCM_D_FINANCE_CM2_sum',\n",
       "       'SCM_D_FINANCE_CM2_list', 'SCM_D_ORIG_FINANCE_ORDER_NET_sum',\n",
       "       'SCM_D_ORIG_FINANCE_ORDER_NET_list', 'OSP_KO_COUNT_NET_list',\n",
       "       'SCM_MASTER_AP_ID_list', 'CZP_ZTQ_ID', 'CZP_START_DATE',\n",
       "       'CZP_EXPIRY_DATE', 'PG3_AGGSALES', 'PG4_AGGSALES', 'BRAND_AGGSALES',\n",
       "       'SP_PURCHASE', 'SP_DISC', 'D28', 'D56', 'D84', 'D168', 'D252', 'D336',\n",
       "       'O_TIMEDELTAS', 'TOTAL_PG3_SALES', 'TOTAL_PG4_SALES',\n",
       "       'TOTAL_BRAND_SALES', 'SP_PY_POS', 'DAYS_UNTIL_1st_SP', 'SP_ORDERS',\n",
       "       'NO_SP_ORDERS', 'DAYS_IN_DF', 'DAYS_AFTER_1st_SP', 'SP_CUS',\n",
       "       'MASK_168_BEF', 'MASK_168_AFT', 'ONE_ORDER_BEFORE', 'SALES_168_BEF',\n",
       "       'SALES_168_AFT', 'AOV_168_BEF', 'AOV_168_AFT', 'OF_168_BEF',\n",
       "       'OF_168_AFT', 'CM1_168_BEF', 'CM1_168_AFT', 'CM2_168_BEF',\n",
       "       'CM2_168_AFT', 'NET_SALES_168_BEF', 'NET_SALES_168_AFT', 'CM1%_168_BEF',\n",
       "       'CM1%_168_AFT', 'CM2%_168_BEF', 'CM2%_168_AFT', 'PG3_168_BEF_AGGSALES',\n",
       "       'PG3_168_AFT_AGGSALES', 'PG3_168_BEF_FLAT_SALES',\n",
       "       'PG3_168_AFT_FLAT_SALES', 'PG3_TOTAL_SALES_168_BEF',\n",
       "       'PG3_TOTAL_SALES_168_AFT', 'DICT_PG3_SALES_168_BEF',\n",
       "       'DICT_PG3_SALES_168_AFT', 'DICT_PG3_SHARE_168_BEF',\n",
       "       'DICT_PG3_SHARE_168_AFT', 'DIFF_PG3_168_BEF', 'DIFF_PG3_168_AFT',\n",
       "       'BRAND_SALES_168_BEF', 'BRAND_SALES_168_AFT',\n",
       "       'BRAND_FLAT_SALES_168_BEF', 'BRAND_FLAT_SALES_168_AFT'],\n",
       "      dtype='object')"
      ]
     },
     "execution_count": 214,
     "metadata": {},
     "output_type": "execute_result"
    }
   ],
   "source": [
    "sp_customers_168.columns"
   ]
  },
  {
   "cell_type": "code",
   "execution_count": 215,
   "metadata": {
    "ExecuteTime": {
     "end_time": "2018-11-29T15:13:44.982006Z",
     "start_time": "2018-11-29T15:13:44.965006Z"
    }
   },
   "outputs": [],
   "source": [
    "sp_customers_168['TD_BEFORE_SP'] = [x[:(y-1)] for x, y in list(zip(sp_customers_168['O_TIMEDELTAS'],\n",
    "                                               sp_customers_168['SP_PY_POS']))]"
   ]
  },
  {
   "cell_type": "code",
   "execution_count": 216,
   "metadata": {
    "ExecuteTime": {
     "end_time": "2018-11-29T15:13:44.999006Z",
     "start_time": "2018-11-29T15:13:44.984006Z"
    }
   },
   "outputs": [],
   "source": [
    "sp_customers_168['TD_AFTER_SP'] = [x[(y-1):] for x, y in list(zip(sp_customers_168['O_TIMEDELTAS'],\n",
    "                                               sp_customers_168['SP_PY_POS']))]"
   ]
  },
  {
   "cell_type": "code",
   "execution_count": 217,
   "metadata": {
    "ExecuteTime": {
     "end_time": "2018-11-29T15:13:45.014006Z",
     "start_time": "2018-11-29T15:13:45.000006Z"
    }
   },
   "outputs": [],
   "source": [
    "td_before_sp = [j for i in sp_customers_168['TD_BEFORE_SP'].values for j in i]"
   ]
  },
  {
   "cell_type": "code",
   "execution_count": 218,
   "metadata": {
    "ExecuteTime": {
     "end_time": "2018-11-29T15:13:45.031006Z",
     "start_time": "2018-11-29T15:13:45.016006Z"
    }
   },
   "outputs": [],
   "source": [
    "td_after_sp = [j for i in sp_customers_168['TD_AFTER_SP'].values for j in i]"
   ]
  },
  {
   "cell_type": "code",
   "execution_count": 219,
   "metadata": {
    "ExecuteTime": {
     "end_time": "2018-11-29T15:13:45.795006Z",
     "start_time": "2018-11-29T15:13:45.032006Z"
    }
   },
   "outputs": [
    {
     "data": {
      "image/png": "[encoded data removed]",
      "text/plain": [
       "<matplotlib.figure.Figure at 0x11b62c278>"
      ]
     },
     "metadata": {},
     "output_type": "display_data"
    },
    {
     "data": {
      "text/html": [
       "<div>\n",
       "<style scoped>\n",
       "    .dataframe tbody tr th:only-of-type {\n",
       "        vertical-align: middle;\n",
       "    }\n",
       "\n",
       "    .dataframe tbody tr th {\n",
       "        vertical-align: top;\n",
       "    }\n",
       "\n",
       "    .dataframe thead th {\n",
       "        text-align: right;\n",
       "    }\n",
       "</style>\n",
       "<table border=\"1\" class=\"dataframe\">\n",
       "  <thead>\n",
       "    <tr style=\"text-align: right;\">\n",
       "      <th></th>\n",
       "      <th>Without SP orders</th>\n",
       "      <th>With SP orders</th>\n",
       "    </tr>\n",
       "  </thead>\n",
       "  <tbody>\n",
       "    <tr>\n",
       "      <th>25%</th>\n",
       "      <td>24.00</td>\n",
       "      <td>23.00</td>\n",
       "    </tr>\n",
       "    <tr>\n",
       "      <th>50%</th>\n",
       "      <td>41.00</td>\n",
       "      <td>40.00</td>\n",
       "    </tr>\n",
       "    <tr>\n",
       "      <th>75%</th>\n",
       "      <td>69.00</td>\n",
       "      <td>65.00</td>\n",
       "    </tr>\n",
       "    <tr>\n",
       "      <th>count</th>\n",
       "      <td>28132.00</td>\n",
       "      <td>44476.00</td>\n",
       "    </tr>\n",
       "    <tr>\n",
       "      <th>max</th>\n",
       "      <td>813.00</td>\n",
       "      <td>745.00</td>\n",
       "    </tr>\n",
       "    <tr>\n",
       "      <th>mean</th>\n",
       "      <td>57.50</td>\n",
       "      <td>49.92</td>\n",
       "    </tr>\n",
       "    <tr>\n",
       "      <th>min</th>\n",
       "      <td>0.00</td>\n",
       "      <td>0.00</td>\n",
       "    </tr>\n",
       "    <tr>\n",
       "      <th>std</th>\n",
       "      <td>61.57</td>\n",
       "      <td>42.38</td>\n",
       "    </tr>\n",
       "  </tbody>\n",
       "</table>\n",
       "</div>"
      ],
      "text/plain": [
       "       Without SP orders  With SP orders\n",
       "25%                24.00           23.00\n",
       "50%                41.00           40.00\n",
       "75%                69.00           65.00\n",
       "count           28132.00        44476.00\n",
       "max               813.00          745.00\n",
       "mean               57.50           49.92\n",
       "min                 0.00            0.00\n",
       "std                61.57           42.38"
      ]
     },
     "metadata": {},
     "output_type": "display_data"
    }
   ],
   "source": [
    "concat_df = pd.DataFrame()\n",
    "\n",
    "plt.figure(figsize=(12, 8))\n",
    "plt.hist(td_before_sp, bins=210, range=(0, 210), color='g', alpha=0.5)\n",
    "plt.hist(td_after_sp, bins=210, range=(0, 210), color='orange', alpha=0.5)\n",
    "plt.title(\"Timedeltas between orders before/after SP purchasing \", fontsize=14)\n",
    "plt.xlabel('Timedeltas')\n",
    "plt.legend(['Without SP orders', 'With SP orders'])\n",
    "plt.show()\n",
    "\n",
    "before_sp_td = pd.DataFrame(np.array(td_before_sp).reshape(len(td_before_sp), 1), columns= ['TD_BEFORE_SP'])\n",
    "after_sp_td = pd.DataFrame(np.array(td_after_sp).reshape(len(td_after_sp), 1), columns= ['TD_AFTER_SP'])\n",
    "\n",
    "concat_df = pd.concat([concat_df,\n",
    "                    before_sp_td['TD_BEFORE_SP'].describe().round(2),\n",
    "                    after_sp_td['TD_AFTER_SP'].describe().round(2),\n",
    "                      ], axis=1)\n",
    "\n",
    "concat_df.columns = ['Without SP orders', 'With SP orders']\n",
    "display(concat_df)"
   ]
  },
  {
   "cell_type": "code",
   "execution_count": null,
   "metadata": {},
   "outputs": [],
   "source": []
  },
  {
   "cell_type": "code",
   "execution_count": null,
   "metadata": {},
   "outputs": [],
   "source": []
  }
 ],
 "metadata": {
  "hide_input": false,
  "kernelspec": {
   "display_name": "Python [conda env:py36]",
   "language": "python",
   "name": "conda-env-py36-py"
  },
  "language_info": {
   "codemirror_mode": {
    "name": "ipython",
    "version": 3
   },
   "file_extension": ".py",
   "mimetype": "text/x-python",
   "name": "python",
   "nbconvert_exporter": "python",
   "pygments_lexer": "ipython3",
   "version": "3.6.4"
  },
  "toc": {
   "base_numbering": 1,
   "nav_menu": {},
   "number_sections": true,
   "sideBar": true,
   "skip_h1_title": false,
   "title_cell": "Table of Contents",
   "title_sidebar": "Contents",
   "toc_cell": false,
   "toc_position": {},
   "toc_section_display": true,
   "toc_window_display": false
  },
  "varInspector": {
   "cols": {
    "lenName": 16,
    "lenType": 16,
    "lenVar": 40
   },
   "kernels_config": {
    "python": {
     "delete_cmd_postfix": "",
     "delete_cmd_prefix": "del ",
     "library": "var_list.py",
     "varRefreshCmd": "print(var_dic_list())"
    },
    "r": {
     "delete_cmd_postfix": ") ",
     "delete_cmd_prefix": "rm(",
     "library": "var_list.r",
     "varRefreshCmd": "cat(var_dic_list()) "
    }
   },
   "types_to_exclude": [
    "module",
    "function",
    "builtin_function_or_method",
    "instance",
    "_Feature"
   ],
   "window_display": false
  }
 },
 "nbformat": 4,
 "nbformat_minor": 2
}
