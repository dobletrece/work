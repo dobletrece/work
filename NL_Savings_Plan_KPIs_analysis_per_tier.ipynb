{
 "cells": [
  {
   "cell_type": "code",
   "execution_count": 1,
   "metadata": {
    "ExecuteTime": {
     "end_time": "2018-10-19T09:40:16.649294Z",
     "start_time": "2018-10-19T09:40:15.644294Z"
    }
   },
   "outputs": [],
   "source": [
    "import numpy as np\n",
    "import pandas as pd\n",
    "import dask.dataframe as dd\n",
    "import matplotlib.pyplot as plt\n",
    "%matplotlib inline\n",
    "from IPython.display import display\n",
    "from scipy import stats\n",
    "from statistics import stdev\n",
    "import datetime\n",
    "from datetime import timedelta\n",
    "from collections import Counter\n",
    "#import cx_Oracle\n",
    "import psycopg2\n",
    "import seaborn as sns\n",
    "import json\n",
    "import pickle\n",
    "#from fitter import Fitter\n",
    "from warnings import filterwarnings\n",
    "filterwarnings('ignore')"
   ]
  },
  {
   "cell_type": "code",
   "execution_count": 2,
   "metadata": {
    "ExecuteTime": {
     "end_time": "2018-10-19T09:40:20.409294Z",
     "start_time": "2018-10-19T09:40:16.650294Z"
    }
   },
   "outputs": [],
   "source": [
    "data = pd.read_pickle(\"./nl_sp_orders_from_tiers_51-56.pkl\")"
   ]
  },
  {
   "cell_type": "code",
   "execution_count": 3,
   "metadata": {
    "ExecuteTime": {
     "end_time": "2018-10-19T09:40:20.421294Z",
     "start_time": "2018-10-19T09:40:20.410294Z"
    }
   },
   "outputs": [
    {
     "name": "stdout",
     "output_type": "stream",
     "text": [
      "<class 'pandas.core.frame.DataFrame'>\n",
      "Int64Index: 4097787 entries, 0 to 4162692\n",
      "Data columns (total 26 columns):\n",
      "SCM_N_ORDER_POS_NR              int64\n",
      "SCM_N_ORDER_NR                  int64\n",
      "TDT_T_KEY_ORDER_DATE            datetime64[ns]\n",
      "THR_C_KEY_ORDER_HOUR            object\n",
      "SIT_N_KEY_SITE                  int64\n",
      "CUS_N_KEY_CUSTOMER              int64\n",
      "SCM_SALES_BMF                   float64\n",
      "SCM_D_FINANCE_CM1               float64\n",
      "SCM_D_FINANCE_CM2               float64\n",
      "SCM_D_ORIG_FINANCE_ORDER_NET    float64\n",
      "SCM_AP_ID                       int64\n",
      "SCM_AS_ID                       int64\n",
      "SCM_MASTER_AP_ID                int64\n",
      "OSP_KO_COUNT_NET                int64\n",
      "OSP_3_LEAD_P_PG_ID              float64\n",
      "OSP_3_LEAD_P_PG_SHARE           float64\n",
      "OSP_4_LEAD_P_PG_ID              float64\n",
      "OSP_4_LEAD_P_PG_SHARE           float64\n",
      "CZP_START_DATE                  datetime64[ns]\n",
      "CZP_EXPIRY_DATE                 datetime64[ns]\n",
      "CZP_ZTQ_ID                      int64\n",
      "CZP_PERCENTAGE                  int64\n",
      "CZP_PRICE                       float64\n",
      "ORDER_DATETIME                  datetime64[ns]\n",
      "WEEK_NUMBER                     int64\n",
      "MONTH_NUMBER                    int64\n",
      "dtypes: datetime64[ns](4), float64(9), int64(12), object(1)\n",
      "memory usage: 844.1+ MB\n"
     ]
    }
   ],
   "source": [
    "data.info(verbose=True)"
   ]
  },
  {
   "cell_type": "code",
   "execution_count": 4,
   "metadata": {
    "ExecuteTime": {
     "end_time": "2018-10-19T09:40:20.454294Z",
     "start_time": "2018-10-19T09:40:20.422294Z"
    }
   },
   "outputs": [
    {
     "data": {
      "text/html": [
       "<div>\n",
       "<style scoped>\n",
       "    .dataframe tbody tr th:only-of-type {\n",
       "        vertical-align: middle;\n",
       "    }\n",
       "\n",
       "    .dataframe tbody tr th {\n",
       "        vertical-align: top;\n",
       "    }\n",
       "\n",
       "    .dataframe thead th {\n",
       "        text-align: right;\n",
       "    }\n",
       "</style>\n",
       "<table border=\"1\" class=\"dataframe\">\n",
       "  <thead>\n",
       "    <tr style=\"text-align: right;\">\n",
       "      <th></th>\n",
       "      <th>SCM_N_ORDER_POS_NR</th>\n",
       "      <th>SCM_N_ORDER_NR</th>\n",
       "      <th>TDT_T_KEY_ORDER_DATE</th>\n",
       "      <th>THR_C_KEY_ORDER_HOUR</th>\n",
       "      <th>SIT_N_KEY_SITE</th>\n",
       "      <th>CUS_N_KEY_CUSTOMER</th>\n",
       "      <th>SCM_SALES_BMF</th>\n",
       "      <th>SCM_D_FINANCE_CM1</th>\n",
       "      <th>SCM_D_FINANCE_CM2</th>\n",
       "      <th>SCM_D_ORIG_FINANCE_ORDER_NET</th>\n",
       "      <th>...</th>\n",
       "      <th>OSP_4_LEAD_P_PG_ID</th>\n",
       "      <th>OSP_4_LEAD_P_PG_SHARE</th>\n",
       "      <th>CZP_START_DATE</th>\n",
       "      <th>CZP_EXPIRY_DATE</th>\n",
       "      <th>CZP_ZTQ_ID</th>\n",
       "      <th>CZP_PERCENTAGE</th>\n",
       "      <th>CZP_PRICE</th>\n",
       "      <th>ORDER_DATETIME</th>\n",
       "      <th>WEEK_NUMBER</th>\n",
       "      <th>MONTH_NUMBER</th>\n",
       "    </tr>\n",
       "  </thead>\n",
       "  <tbody>\n",
       "    <tr>\n",
       "      <th>0</th>\n",
       "      <td>407357158</td>\n",
       "      <td>95471919</td>\n",
       "      <td>2017-10-01</td>\n",
       "      <td>19:51</td>\n",
       "      <td>7</td>\n",
       "      <td>15503176</td>\n",
       "      <td>2.490</td>\n",
       "      <td>1.2479</td>\n",
       "      <td>1.0368</td>\n",
       "      <td>2.0579</td>\n",
       "      <td>...</td>\n",
       "      <td>152.0</td>\n",
       "      <td>0.9476</td>\n",
       "      <td>2016-11-12 18:33:00</td>\n",
       "      <td>2017-10-31 18:16:00</td>\n",
       "      <td>56</td>\n",
       "      <td>5</td>\n",
       "      <td>4.99</td>\n",
       "      <td>2017-10-01 19:51:00</td>\n",
       "      <td>39</td>\n",
       "      <td>10</td>\n",
       "    </tr>\n",
       "    <tr>\n",
       "      <th>1</th>\n",
       "      <td>407287233</td>\n",
       "      <td>95455387</td>\n",
       "      <td>2017-10-01</td>\n",
       "      <td>16:28</td>\n",
       "      <td>7</td>\n",
       "      <td>16732336</td>\n",
       "      <td>4.995</td>\n",
       "      <td>0.8281</td>\n",
       "      <td>-0.5538</td>\n",
       "      <td>4.1281</td>\n",
       "      <td>...</td>\n",
       "      <td>80138.0</td>\n",
       "      <td>0.3038</td>\n",
       "      <td>2017-04-30 14:00:00</td>\n",
       "      <td>2018-04-30 23:59:00</td>\n",
       "      <td>56</td>\n",
       "      <td>5</td>\n",
       "      <td>4.99</td>\n",
       "      <td>2017-10-01 16:28:00</td>\n",
       "      <td>39</td>\n",
       "      <td>10</td>\n",
       "    </tr>\n",
       "    <tr>\n",
       "      <th>2</th>\n",
       "      <td>407287233</td>\n",
       "      <td>95455387</td>\n",
       "      <td>2017-10-01</td>\n",
       "      <td>16:28</td>\n",
       "      <td>7</td>\n",
       "      <td>16732336</td>\n",
       "      <td>4.995</td>\n",
       "      <td>0.8281</td>\n",
       "      <td>-0.5538</td>\n",
       "      <td>4.1281</td>\n",
       "      <td>...</td>\n",
       "      <td>80138.0</td>\n",
       "      <td>0.3038</td>\n",
       "      <td>2017-04-30 14:00:00</td>\n",
       "      <td>2018-04-30 23:59:00</td>\n",
       "      <td>56</td>\n",
       "      <td>5</td>\n",
       "      <td>4.99</td>\n",
       "      <td>2017-10-01 16:28:00</td>\n",
       "      <td>39</td>\n",
       "      <td>10</td>\n",
       "    </tr>\n",
       "    <tr>\n",
       "      <th>3</th>\n",
       "      <td>407287229</td>\n",
       "      <td>95455387</td>\n",
       "      <td>2017-10-01</td>\n",
       "      <td>16:28</td>\n",
       "      <td>7</td>\n",
       "      <td>16732336</td>\n",
       "      <td>17.990</td>\n",
       "      <td>5.4878</td>\n",
       "      <td>1.6370</td>\n",
       "      <td>14.8678</td>\n",
       "      <td>...</td>\n",
       "      <td>80138.0</td>\n",
       "      <td>0.3038</td>\n",
       "      <td>2017-04-30 14:00:00</td>\n",
       "      <td>2018-04-30 23:59:00</td>\n",
       "      <td>56</td>\n",
       "      <td>5</td>\n",
       "      <td>4.99</td>\n",
       "      <td>2017-10-01 16:28:00</td>\n",
       "      <td>39</td>\n",
       "      <td>10</td>\n",
       "    </tr>\n",
       "    <tr>\n",
       "      <th>4</th>\n",
       "      <td>407287232</td>\n",
       "      <td>95455387</td>\n",
       "      <td>2017-10-01</td>\n",
       "      <td>16:28</td>\n",
       "      <td>7</td>\n",
       "      <td>16732336</td>\n",
       "      <td>9.990</td>\n",
       "      <td>2.8662</td>\n",
       "      <td>0.4192</td>\n",
       "      <td>8.2562</td>\n",
       "      <td>...</td>\n",
       "      <td>80138.0</td>\n",
       "      <td>0.3038</td>\n",
       "      <td>2017-04-30 14:00:00</td>\n",
       "      <td>2018-04-30 23:59:00</td>\n",
       "      <td>56</td>\n",
       "      <td>5</td>\n",
       "      <td>4.99</td>\n",
       "      <td>2017-10-01 16:28:00</td>\n",
       "      <td>39</td>\n",
       "      <td>10</td>\n",
       "    </tr>\n",
       "  </tbody>\n",
       "</table>\n",
       "<p>5 rows × 26 columns</p>\n",
       "</div>"
      ],
      "text/plain": [
       "   SCM_N_ORDER_POS_NR  SCM_N_ORDER_NR TDT_T_KEY_ORDER_DATE  \\\n",
       "0           407357158        95471919           2017-10-01   \n",
       "1           407287233        95455387           2017-10-01   \n",
       "2           407287233        95455387           2017-10-01   \n",
       "3           407287229        95455387           2017-10-01   \n",
       "4           407287232        95455387           2017-10-01   \n",
       "\n",
       "  THR_C_KEY_ORDER_HOUR  SIT_N_KEY_SITE  CUS_N_KEY_CUSTOMER  SCM_SALES_BMF  \\\n",
       "0                19:51               7            15503176          2.490   \n",
       "1                16:28               7            16732336          4.995   \n",
       "2                16:28               7            16732336          4.995   \n",
       "3                16:28               7            16732336         17.990   \n",
       "4                16:28               7            16732336          9.990   \n",
       "\n",
       "   SCM_D_FINANCE_CM1  SCM_D_FINANCE_CM2  SCM_D_ORIG_FINANCE_ORDER_NET  \\\n",
       "0             1.2479             1.0368                        2.0579   \n",
       "1             0.8281            -0.5538                        4.1281   \n",
       "2             0.8281            -0.5538                        4.1281   \n",
       "3             5.4878             1.6370                       14.8678   \n",
       "4             2.8662             0.4192                        8.2562   \n",
       "\n",
       "      ...       OSP_4_LEAD_P_PG_ID  OSP_4_LEAD_P_PG_SHARE      CZP_START_DATE  \\\n",
       "0     ...                    152.0                 0.9476 2016-11-12 18:33:00   \n",
       "1     ...                  80138.0                 0.3038 2017-04-30 14:00:00   \n",
       "2     ...                  80138.0                 0.3038 2017-04-30 14:00:00   \n",
       "3     ...                  80138.0                 0.3038 2017-04-30 14:00:00   \n",
       "4     ...                  80138.0                 0.3038 2017-04-30 14:00:00   \n",
       "\n",
       "      CZP_EXPIRY_DATE  CZP_ZTQ_ID  CZP_PERCENTAGE  CZP_PRICE  \\\n",
       "0 2017-10-31 18:16:00          56               5       4.99   \n",
       "1 2018-04-30 23:59:00          56               5       4.99   \n",
       "2 2018-04-30 23:59:00          56               5       4.99   \n",
       "3 2018-04-30 23:59:00          56               5       4.99   \n",
       "4 2018-04-30 23:59:00          56               5       4.99   \n",
       "\n",
       "       ORDER_DATETIME WEEK_NUMBER MONTH_NUMBER  \n",
       "0 2017-10-01 19:51:00          39           10  \n",
       "1 2017-10-01 16:28:00          39           10  \n",
       "2 2017-10-01 16:28:00          39           10  \n",
       "3 2017-10-01 16:28:00          39           10  \n",
       "4 2017-10-01 16:28:00          39           10  \n",
       "\n",
       "[5 rows x 26 columns]"
      ]
     },
     "execution_count": 4,
     "metadata": {},
     "output_type": "execute_result"
    }
   ],
   "source": [
    "data.head()"
   ]
  },
  {
   "cell_type": "code",
   "execution_count": 5,
   "metadata": {
    "ExecuteTime": {
     "end_time": "2018-10-19T09:40:20.781294Z",
     "start_time": "2018-10-19T09:40:20.455294Z"
    }
   },
   "outputs": [],
   "source": [
    "data['FIRST_O_DATE'] = data['TDT_T_KEY_ORDER_DATE'].groupby(data['CUS_N_KEY_CUSTOMER']).transform('min')"
   ]
  },
  {
   "cell_type": "code",
   "execution_count": 6,
   "metadata": {
    "ExecuteTime": {
     "end_time": "2018-10-19T09:40:21.086294Z",
     "start_time": "2018-10-19T09:40:20.783294Z"
    }
   },
   "outputs": [],
   "source": [
    "data['LAST_O_DATE'] = data['TDT_T_KEY_ORDER_DATE'].groupby(data['CUS_N_KEY_CUSTOMER']).transform('max')"
   ]
  },
  {
   "cell_type": "code",
   "execution_count": 7,
   "metadata": {
    "ExecuteTime": {
     "end_time": "2018-10-19T09:40:21.395294Z",
     "start_time": "2018-10-19T09:40:21.087294Z"
    }
   },
   "outputs": [],
   "source": [
    "data['1ST_O_COUNTER'] = data['OSP_KO_COUNT_NET'].groupby(data['CUS_N_KEY_CUSTOMER']).transform('min')"
   ]
  },
  {
   "cell_type": "code",
   "execution_count": 8,
   "metadata": {
    "ExecuteTime": {
     "end_time": "2018-10-19T09:40:25.360294Z",
     "start_time": "2018-10-19T09:40:21.396294Z"
    }
   },
   "outputs": [],
   "source": [
    "data['D28'] = data['FIRST_O_DATE'] + timedelta(days = 28)\n",
    "data['D56'] = data['FIRST_O_DATE'] + timedelta(days = 56)\n",
    "data['D84'] = data['FIRST_O_DATE'] + timedelta(days = 84)\n",
    "data['D168'] = data['FIRST_O_DATE'] + timedelta(days = 168)\n",
    "data['D252'] = data['FIRST_O_DATE'] + timedelta(days = 252)\n",
    "data['D336'] = data['FIRST_O_DATE'] + timedelta(days = 336)"
   ]
  },
  {
   "cell_type": "code",
   "execution_count": 9,
   "metadata": {
    "ExecuteTime": {
     "end_time": "2018-10-19T09:40:25.366294Z",
     "start_time": "2018-10-19T09:40:25.361294Z"
    }
   },
   "outputs": [
    {
     "data": {
      "text/plain": [
       "Index(['SCM_N_ORDER_POS_NR', 'SCM_N_ORDER_NR', 'TDT_T_KEY_ORDER_DATE',\n",
       "       'THR_C_KEY_ORDER_HOUR', 'SIT_N_KEY_SITE', 'CUS_N_KEY_CUSTOMER',\n",
       "       'SCM_SALES_BMF', 'SCM_D_FINANCE_CM1', 'SCM_D_FINANCE_CM2',\n",
       "       'SCM_D_ORIG_FINANCE_ORDER_NET', 'SCM_AP_ID', 'SCM_AS_ID',\n",
       "       'SCM_MASTER_AP_ID', 'OSP_KO_COUNT_NET', 'OSP_3_LEAD_P_PG_ID',\n",
       "       'OSP_3_LEAD_P_PG_SHARE', 'OSP_4_LEAD_P_PG_ID', 'OSP_4_LEAD_P_PG_SHARE',\n",
       "       'CZP_START_DATE', 'CZP_EXPIRY_DATE', 'CZP_ZTQ_ID', 'CZP_PERCENTAGE',\n",
       "       'CZP_PRICE', 'ORDER_DATETIME', 'WEEK_NUMBER', 'MONTH_NUMBER',\n",
       "       'FIRST_O_DATE', 'LAST_O_DATE', '1ST_O_COUNTER', 'D28', 'D56', 'D84',\n",
       "       'D168', 'D252', 'D336'],\n",
       "      dtype='object')"
      ]
     },
     "execution_count": 9,
     "metadata": {},
     "output_type": "execute_result"
    }
   ],
   "source": [
    "data.columns"
   ]
  },
  {
   "cell_type": "code",
   "execution_count": 10,
   "metadata": {
    "ExecuteTime": {
     "end_time": "2018-10-19T09:40:25.380294Z",
     "start_time": "2018-10-19T09:40:25.368294Z"
    }
   },
   "outputs": [],
   "source": [
    "agg_ops = {'TDT_T_KEY_ORDER_DATE': min,\n",
    "          'CUS_N_KEY_CUSTOMER': min,\n",
    "          'CZP_ZTQ_ID': min, \n",
    "          'SCM_SALES_BMF': sum,\n",
    "          'SCM_D_FINANCE_CM1': sum,\n",
    "          'SCM_D_FINANCE_CM2': sum,\n",
    "          'SCM_D_ORIG_FINANCE_ORDER_NET': sum,\n",
    "          'OSP_KO_COUNT_NET': min,\n",
    "          'CZP_START_DATE': min,\n",
    "          'CZP_EXPIRY_DATE': min,\n",
    "          'ORDER_DATETIME': min,\n",
    "          'FIRST_O_DATE': min,\n",
    "          'LAST_O_DATE': min,\n",
    "          '1ST_O_COUNTER': min,\n",
    "          'D28': min,\n",
    "          'D56': min,\n",
    "          'D84': min,\n",
    "          'D168': min,\n",
    "          'D252': min,\n",
    "          'D336': min\n",
    "          }"
   ]
  },
  {
   "cell_type": "code",
   "execution_count": 11,
   "metadata": {
    "ExecuteTime": {
     "end_time": "2018-10-19T09:40:27.350294Z",
     "start_time": "2018-10-19T09:40:25.381294Z"
    }
   },
   "outputs": [],
   "source": [
    "orders = data.groupby('SCM_N_ORDER_NR', as_index=False).agg(agg_ops)"
   ]
  },
  {
   "cell_type": "code",
   "execution_count": 12,
   "metadata": {
    "ExecuteTime": {
     "end_time": "2018-10-19T09:40:27.442294Z",
     "start_time": "2018-10-19T09:40:27.351294Z"
    }
   },
   "outputs": [
    {
     "data": {
      "text/plain": [
       "(802723, 802723)"
      ]
     },
     "execution_count": 12,
     "metadata": {},
     "output_type": "execute_result"
    }
   ],
   "source": [
    "data['SCM_N_ORDER_NR'].nunique(), len(orders)"
   ]
  },
  {
   "cell_type": "code",
   "execution_count": 13,
   "metadata": {
    "ExecuteTime": {
     "end_time": "2018-10-19T09:40:27.466294Z",
     "start_time": "2018-10-19T09:40:27.443294Z"
    }
   },
   "outputs": [
    {
     "data": {
      "text/html": [
       "<div>\n",
       "<style scoped>\n",
       "    .dataframe tbody tr th:only-of-type {\n",
       "        vertical-align: middle;\n",
       "    }\n",
       "\n",
       "    .dataframe tbody tr th {\n",
       "        vertical-align: top;\n",
       "    }\n",
       "\n",
       "    .dataframe thead th {\n",
       "        text-align: right;\n",
       "    }\n",
       "</style>\n",
       "<table border=\"1\" class=\"dataframe\">\n",
       "  <thead>\n",
       "    <tr style=\"text-align: right;\">\n",
       "      <th></th>\n",
       "      <th>SCM_N_ORDER_NR</th>\n",
       "      <th>TDT_T_KEY_ORDER_DATE</th>\n",
       "      <th>CUS_N_KEY_CUSTOMER</th>\n",
       "      <th>CZP_ZTQ_ID</th>\n",
       "      <th>SCM_SALES_BMF</th>\n",
       "      <th>SCM_D_FINANCE_CM1</th>\n",
       "      <th>SCM_D_FINANCE_CM2</th>\n",
       "      <th>SCM_D_ORIG_FINANCE_ORDER_NET</th>\n",
       "      <th>OSP_KO_COUNT_NET</th>\n",
       "      <th>CZP_START_DATE</th>\n",
       "      <th>...</th>\n",
       "      <th>ORDER_DATETIME</th>\n",
       "      <th>FIRST_O_DATE</th>\n",
       "      <th>LAST_O_DATE</th>\n",
       "      <th>1ST_O_COUNTER</th>\n",
       "      <th>D28</th>\n",
       "      <th>D56</th>\n",
       "      <th>D84</th>\n",
       "      <th>D168</th>\n",
       "      <th>D252</th>\n",
       "      <th>D336</th>\n",
       "    </tr>\n",
       "  </thead>\n",
       "  <tbody>\n",
       "    <tr>\n",
       "      <th>802718</th>\n",
       "      <td>120154226</td>\n",
       "      <td>2018-09-30</td>\n",
       "      <td>7348713</td>\n",
       "      <td>54</td>\n",
       "      <td>85.49</td>\n",
       "      <td>10.9729</td>\n",
       "      <td>5.5629</td>\n",
       "      <td>70.6529</td>\n",
       "      <td>17</td>\n",
       "      <td>2018-08-11 00:00:00</td>\n",
       "      <td>...</td>\n",
       "      <td>2018-09-30 23:54:00</td>\n",
       "      <td>2017-11-24</td>\n",
       "      <td>2018-09-30</td>\n",
       "      <td>13</td>\n",
       "      <td>2017-12-22</td>\n",
       "      <td>2018-01-19</td>\n",
       "      <td>2018-02-16</td>\n",
       "      <td>2018-05-11</td>\n",
       "      <td>2018-08-03</td>\n",
       "      <td>2018-10-26</td>\n",
       "    </tr>\n",
       "    <tr>\n",
       "      <th>802719</th>\n",
       "      <td>120154253</td>\n",
       "      <td>2018-09-30</td>\n",
       "      <td>15101923</td>\n",
       "      <td>51</td>\n",
       "      <td>46.53</td>\n",
       "      <td>7.8245</td>\n",
       "      <td>2.0715</td>\n",
       "      <td>38.4545</td>\n",
       "      <td>11</td>\n",
       "      <td>2017-10-15 01:06:00</td>\n",
       "      <td>...</td>\n",
       "      <td>2018-09-30 23:56:00</td>\n",
       "      <td>2017-10-15</td>\n",
       "      <td>2018-09-30</td>\n",
       "      <td>7</td>\n",
       "      <td>2017-11-12</td>\n",
       "      <td>2017-12-10</td>\n",
       "      <td>2018-01-07</td>\n",
       "      <td>2018-04-01</td>\n",
       "      <td>2018-06-24</td>\n",
       "      <td>2018-09-16</td>\n",
       "    </tr>\n",
       "    <tr>\n",
       "      <th>802720</th>\n",
       "      <td>120154288</td>\n",
       "      <td>2018-09-30</td>\n",
       "      <td>12264109</td>\n",
       "      <td>52</td>\n",
       "      <td>34.89</td>\n",
       "      <td>6.0847</td>\n",
       "      <td>-0.7633</td>\n",
       "      <td>28.8347</td>\n",
       "      <td>29</td>\n",
       "      <td>2017-07-28 21:20:00</td>\n",
       "      <td>...</td>\n",
       "      <td>2018-09-30 23:57:00</td>\n",
       "      <td>2017-11-12</td>\n",
       "      <td>2018-09-30</td>\n",
       "      <td>25</td>\n",
       "      <td>2017-12-10</td>\n",
       "      <td>2018-01-07</td>\n",
       "      <td>2018-02-04</td>\n",
       "      <td>2018-04-29</td>\n",
       "      <td>2018-07-22</td>\n",
       "      <td>2018-10-14</td>\n",
       "    </tr>\n",
       "    <tr>\n",
       "      <th>802721</th>\n",
       "      <td>120154304</td>\n",
       "      <td>2018-09-30</td>\n",
       "      <td>10222601</td>\n",
       "      <td>54</td>\n",
       "      <td>47.49</td>\n",
       "      <td>10.6379</td>\n",
       "      <td>3.6999</td>\n",
       "      <td>39.2479</td>\n",
       "      <td>12</td>\n",
       "      <td>2017-12-27 19:43:00</td>\n",
       "      <td>...</td>\n",
       "      <td>2018-09-30 23:58:00</td>\n",
       "      <td>2017-10-26</td>\n",
       "      <td>2018-09-30</td>\n",
       "      <td>10</td>\n",
       "      <td>2017-11-23</td>\n",
       "      <td>2017-12-21</td>\n",
       "      <td>2018-01-18</td>\n",
       "      <td>2018-04-12</td>\n",
       "      <td>2018-07-05</td>\n",
       "      <td>2018-09-27</td>\n",
       "    </tr>\n",
       "    <tr>\n",
       "      <th>802722</th>\n",
       "      <td>120154378</td>\n",
       "      <td>2018-09-30</td>\n",
       "      <td>18919111</td>\n",
       "      <td>56</td>\n",
       "      <td>93.05</td>\n",
       "      <td>18.8509</td>\n",
       "      <td>9.0108</td>\n",
       "      <td>76.9009</td>\n",
       "      <td>6</td>\n",
       "      <td>2017-12-23 09:28:00</td>\n",
       "      <td>...</td>\n",
       "      <td>2018-09-30 23:59:00</td>\n",
       "      <td>2017-12-23</td>\n",
       "      <td>2018-09-30</td>\n",
       "      <td>1</td>\n",
       "      <td>2018-01-20</td>\n",
       "      <td>2018-02-17</td>\n",
       "      <td>2018-03-17</td>\n",
       "      <td>2018-06-09</td>\n",
       "      <td>2018-09-01</td>\n",
       "      <td>2018-11-24</td>\n",
       "    </tr>\n",
       "  </tbody>\n",
       "</table>\n",
       "<p>5 rows × 21 columns</p>\n",
       "</div>"
      ],
      "text/plain": [
       "        SCM_N_ORDER_NR TDT_T_KEY_ORDER_DATE  CUS_N_KEY_CUSTOMER  CZP_ZTQ_ID  \\\n",
       "802718       120154226           2018-09-30             7348713          54   \n",
       "802719       120154253           2018-09-30            15101923          51   \n",
       "802720       120154288           2018-09-30            12264109          52   \n",
       "802721       120154304           2018-09-30            10222601          54   \n",
       "802722       120154378           2018-09-30            18919111          56   \n",
       "\n",
       "        SCM_SALES_BMF  SCM_D_FINANCE_CM1  SCM_D_FINANCE_CM2  \\\n",
       "802718          85.49            10.9729             5.5629   \n",
       "802719          46.53             7.8245             2.0715   \n",
       "802720          34.89             6.0847            -0.7633   \n",
       "802721          47.49            10.6379             3.6999   \n",
       "802722          93.05            18.8509             9.0108   \n",
       "\n",
       "        SCM_D_ORIG_FINANCE_ORDER_NET  OSP_KO_COUNT_NET      CZP_START_DATE  \\\n",
       "802718                       70.6529                17 2018-08-11 00:00:00   \n",
       "802719                       38.4545                11 2017-10-15 01:06:00   \n",
       "802720                       28.8347                29 2017-07-28 21:20:00   \n",
       "802721                       39.2479                12 2017-12-27 19:43:00   \n",
       "802722                       76.9009                 6 2017-12-23 09:28:00   \n",
       "\n",
       "          ...          ORDER_DATETIME FIRST_O_DATE LAST_O_DATE 1ST_O_COUNTER  \\\n",
       "802718    ...     2018-09-30 23:54:00   2017-11-24  2018-09-30            13   \n",
       "802719    ...     2018-09-30 23:56:00   2017-10-15  2018-09-30             7   \n",
       "802720    ...     2018-09-30 23:57:00   2017-11-12  2018-09-30            25   \n",
       "802721    ...     2018-09-30 23:58:00   2017-10-26  2018-09-30            10   \n",
       "802722    ...     2018-09-30 23:59:00   2017-12-23  2018-09-30             1   \n",
       "\n",
       "              D28        D56        D84       D168       D252       D336  \n",
       "802718 2017-12-22 2018-01-19 2018-02-16 2018-05-11 2018-08-03 2018-10-26  \n",
       "802719 2017-11-12 2017-12-10 2018-01-07 2018-04-01 2018-06-24 2018-09-16  \n",
       "802720 2017-12-10 2018-01-07 2018-02-04 2018-04-29 2018-07-22 2018-10-14  \n",
       "802721 2017-11-23 2017-12-21 2018-01-18 2018-04-12 2018-07-05 2018-09-27  \n",
       "802722 2018-01-20 2018-02-17 2018-03-17 2018-06-09 2018-09-01 2018-11-24  \n",
       "\n",
       "[5 rows x 21 columns]"
      ]
     },
     "execution_count": 13,
     "metadata": {},
     "output_type": "execute_result"
    }
   ],
   "source": [
    "orders.tail()"
   ]
  },
  {
   "cell_type": "code",
   "execution_count": 14,
   "metadata": {
    "ExecuteTime": {
     "end_time": "2018-10-19T09:40:27.530294Z",
     "start_time": "2018-10-19T09:40:27.467294Z"
    }
   },
   "outputs": [],
   "source": [
    "orders['OK_28D'] = (orders['TDT_T_KEY_ORDER_DATE'] <= orders['D28']) * 1\n",
    "orders['OK_56D'] = (orders['TDT_T_KEY_ORDER_DATE'] <= orders['D56']) * 1\n",
    "orders['OK_84D'] = (orders['TDT_T_KEY_ORDER_DATE'] <= orders['D84']) * 1\n",
    "orders['OK_168D'] = (orders['TDT_T_KEY_ORDER_DATE'] <= orders['D168']) * 1\n",
    "orders['OK_252D'] = (orders['TDT_T_KEY_ORDER_DATE'] <= orders['D252']) * 1\n",
    "orders['OK_336D'] = (orders['TDT_T_KEY_ORDER_DATE'] <= orders['D336']) * 1"
   ]
  },
  {
   "cell_type": "code",
   "execution_count": 15,
   "metadata": {
    "ExecuteTime": {
     "end_time": "2018-10-19T09:40:27.581294Z",
     "start_time": "2018-10-19T09:40:27.532294Z"
    }
   },
   "outputs": [],
   "source": [
    "orders['COUNTER_28D'] = orders['OK_28D'] * orders['OSP_KO_COUNT_NET']\n",
    "orders['COUNTER_56D'] = orders['OK_56D'] * orders['OSP_KO_COUNT_NET']\n",
    "orders['COUNTER_84D'] = orders['OK_84D'] * orders['OSP_KO_COUNT_NET']\n",
    "orders['COUNTER_168D'] = orders['OK_168D'] * orders['OSP_KO_COUNT_NET']\n",
    "orders['COUNTER_252D'] = orders['OK_252D'] * orders['OSP_KO_COUNT_NET']\n",
    "orders['COUNTER_336D'] = orders['OK_336D'] * orders['OSP_KO_COUNT_NET']"
   ]
  },
  {
   "cell_type": "code",
   "execution_count": 16,
   "metadata": {
    "ExecuteTime": {
     "end_time": "2018-10-19T09:40:28.181294Z",
     "start_time": "2018-10-19T09:40:27.582294Z"
    }
   },
   "outputs": [],
   "source": [
    "orders['MAX_COUNTER_28D'] = orders['COUNTER_28D'].groupby(orders['CUS_N_KEY_CUSTOMER']).transform('max')\n",
    "orders['MAX_COUNTER_56D'] = orders['COUNTER_56D'].groupby(orders['CUS_N_KEY_CUSTOMER']).transform('max')\n",
    "orders['MAX_COUNTER_84D'] = orders['COUNTER_84D'].groupby(orders['CUS_N_KEY_CUSTOMER']).transform('max')\n",
    "orders['MAX_COUNTER_168D'] = orders['COUNTER_168D'].groupby(orders['CUS_N_KEY_CUSTOMER']).transform('max')\n",
    "orders['MAX_COUNTER_252D'] = orders['COUNTER_252D'].groupby(orders['CUS_N_KEY_CUSTOMER']).transform('max')\n",
    "orders['MAX_COUNTER_336D'] = orders['COUNTER_336D'].groupby(orders['CUS_N_KEY_CUSTOMER']).transform('max')"
   ]
  },
  {
   "cell_type": "code",
   "execution_count": 17,
   "metadata": {
    "ExecuteTime": {
     "end_time": "2018-10-19T09:40:28.225294Z",
     "start_time": "2018-10-19T09:40:28.183294Z"
    }
   },
   "outputs": [],
   "source": [
    "orders['RR_28D'] = (orders['MAX_COUNTER_28D'] > orders['1ST_O_COUNTER']) * 1\n",
    "orders['RR_56D'] = (orders['MAX_COUNTER_56D'] > orders['MAX_COUNTER_28D']) * 1\n",
    "orders['RR_84D'] = (orders['MAX_COUNTER_84D'] > orders['MAX_COUNTER_56D']) * 1 \n",
    "orders['RR_168D'] = (orders['MAX_COUNTER_168D'] > orders['MAX_COUNTER_84D']) * 1\n",
    "orders['RR_252D'] = (orders['MAX_COUNTER_252D'] > orders['MAX_COUNTER_168D']) * 1 \n",
    "orders['RR_336D'] = (orders['MAX_COUNTER_336D'] > orders['MAX_COUNTER_168D']) * 1"
   ]
  },
  {
   "cell_type": "code",
   "execution_count": 18,
   "metadata": {
    "ExecuteTime": {
     "end_time": "2018-10-19T09:40:28.231294Z",
     "start_time": "2018-10-19T09:40:28.227294Z"
    }
   },
   "outputs": [
    {
     "data": {
      "text/plain": [
       "Index(['SCM_N_ORDER_NR', 'TDT_T_KEY_ORDER_DATE', 'CUS_N_KEY_CUSTOMER',\n",
       "       'CZP_ZTQ_ID', 'SCM_SALES_BMF', 'SCM_D_FINANCE_CM1', 'SCM_D_FINANCE_CM2',\n",
       "       'SCM_D_ORIG_FINANCE_ORDER_NET', 'OSP_KO_COUNT_NET', 'CZP_START_DATE',\n",
       "       'CZP_EXPIRY_DATE', 'ORDER_DATETIME', 'FIRST_O_DATE', 'LAST_O_DATE',\n",
       "       '1ST_O_COUNTER', 'D28', 'D56', 'D84', 'D168', 'D252', 'D336', 'OK_28D',\n",
       "       'OK_56D', 'OK_84D', 'OK_168D', 'OK_252D', 'OK_336D', 'COUNTER_28D',\n",
       "       'COUNTER_56D', 'COUNTER_84D', 'COUNTER_168D', 'COUNTER_252D',\n",
       "       'COUNTER_336D', 'MAX_COUNTER_28D', 'MAX_COUNTER_56D', 'MAX_COUNTER_84D',\n",
       "       'MAX_COUNTER_168D', 'MAX_COUNTER_252D', 'MAX_COUNTER_336D', 'RR_28D',\n",
       "       'RR_56D', 'RR_84D', 'RR_168D', 'RR_252D', 'RR_336D'],\n",
       "      dtype='object')"
      ]
     },
     "execution_count": 18,
     "metadata": {},
     "output_type": "execute_result"
    }
   ],
   "source": [
    "orders.columns"
   ]
  },
  {
   "cell_type": "code",
   "execution_count": 19,
   "metadata": {
    "ExecuteTime": {
     "end_time": "2018-10-19T09:40:28.251294Z",
     "start_time": "2018-10-19T09:40:28.232294Z"
    }
   },
   "outputs": [],
   "source": [
    "agg_ord_ops = {'CZP_ZTQ_ID': 'unique',\n",
    "              'SCM_N_ORDER_NR': len,\n",
    "              'SCM_SALES_BMF': [sum, lambda x: list(np.round(x, 2))],\n",
    "              'SCM_D_FINANCE_CM1': [sum, lambda x: list(np.round(x, 2))],\n",
    "              'SCM_D_FINANCE_CM2': [sum, lambda x: list(np.round(x, 2))],\n",
    "              'SCM_D_ORIG_FINANCE_ORDER_NET': [sum, lambda x: list(np.round(x, 2))],\n",
    "              'OSP_KO_COUNT_NET': lambda x: list(x),\n",
    "              'CZP_START_DATE': 'unique',\n",
    "              'CZP_EXPIRY_DATE': 'unique',\n",
    "              'FIRST_O_DATE': min,\n",
    "              'LAST_O_DATE': min,\n",
    "              '1ST_O_COUNTER': min,\n",
    "              'COUNTER_28D': max,\n",
    "              'COUNTER_56D': max,\n",
    "              'COUNTER_84D': max,\n",
    "              'COUNTER_168D': max,\n",
    "              'COUNTER_252D': max,\n",
    "              'COUNTER_336D': max\n",
    "              }"
   ]
  },
  {
   "cell_type": "code",
   "execution_count": 20,
   "metadata": {
    "ExecuteTime": {
     "end_time": "2018-10-19T09:42:09.238294Z",
     "start_time": "2018-10-19T09:40:28.253294Z"
    }
   },
   "outputs": [],
   "source": [
    "customers = orders.groupby('CUS_N_KEY_CUSTOMER', as_index=False).agg(agg_ord_ops).round(2)"
   ]
  },
  {
   "cell_type": "code",
   "execution_count": 21,
   "metadata": {
    "ExecuteTime": {
     "end_time": "2018-10-19T09:42:09.243294Z",
     "start_time": "2018-10-19T09:42:09.239294Z"
    }
   },
   "outputs": [],
   "source": [
    "customers.columns = ['_'.join(tup).rstrip('_') for tup in customers.columns.values]"
   ]
  },
  {
   "cell_type": "code",
   "execution_count": 22,
   "metadata": {
    "ExecuteTime": {
     "end_time": "2018-10-19T09:42:09.288294Z",
     "start_time": "2018-10-19T09:42:09.245294Z"
    }
   },
   "outputs": [
    {
     "data": {
      "text/html": [
       "<div>\n",
       "<style scoped>\n",
       "    .dataframe tbody tr th:only-of-type {\n",
       "        vertical-align: middle;\n",
       "    }\n",
       "\n",
       "    .dataframe tbody tr th {\n",
       "        vertical-align: top;\n",
       "    }\n",
       "\n",
       "    .dataframe thead th {\n",
       "        text-align: right;\n",
       "    }\n",
       "</style>\n",
       "<table border=\"1\" class=\"dataframe\">\n",
       "  <thead>\n",
       "    <tr style=\"text-align: right;\">\n",
       "      <th></th>\n",
       "      <th>CUS_N_KEY_CUSTOMER</th>\n",
       "      <th>CZP_ZTQ_ID_unique</th>\n",
       "      <th>SCM_N_ORDER_NR_len</th>\n",
       "      <th>SCM_SALES_BMF_sum</th>\n",
       "      <th>SCM_SALES_BMF_&lt;lambda&gt;</th>\n",
       "      <th>SCM_D_FINANCE_CM1_sum</th>\n",
       "      <th>SCM_D_FINANCE_CM1_&lt;lambda&gt;</th>\n",
       "      <th>SCM_D_FINANCE_CM2_sum</th>\n",
       "      <th>SCM_D_FINANCE_CM2_&lt;lambda&gt;</th>\n",
       "      <th>SCM_D_ORIG_FINANCE_ORDER_NET_sum</th>\n",
       "      <th>...</th>\n",
       "      <th>CZP_EXPIRY_DATE_unique</th>\n",
       "      <th>FIRST_O_DATE_min</th>\n",
       "      <th>LAST_O_DATE_min</th>\n",
       "      <th>1ST_O_COUNTER_min</th>\n",
       "      <th>COUNTER_28D_max</th>\n",
       "      <th>COUNTER_56D_max</th>\n",
       "      <th>COUNTER_84D_max</th>\n",
       "      <th>COUNTER_168D_max</th>\n",
       "      <th>COUNTER_252D_max</th>\n",
       "      <th>COUNTER_336D_max</th>\n",
       "    </tr>\n",
       "  </thead>\n",
       "  <tbody>\n",
       "    <tr>\n",
       "      <th>0</th>\n",
       "      <td>15070</td>\n",
       "      <td>[52]</td>\n",
       "      <td>1</td>\n",
       "      <td>106.34</td>\n",
       "      <td>[106.34]</td>\n",
       "      <td>20.80</td>\n",
       "      <td>[20.8]</td>\n",
       "      <td>12.98</td>\n",
       "      <td>[12.98]</td>\n",
       "      <td>87.88</td>\n",
       "      <td>...</td>\n",
       "      <td>[2018-05-14T23:59:00.000000000]</td>\n",
       "      <td>2017-10-03</td>\n",
       "      <td>2017-10-03</td>\n",
       "      <td>95</td>\n",
       "      <td>95</td>\n",
       "      <td>95</td>\n",
       "      <td>95</td>\n",
       "      <td>95</td>\n",
       "      <td>95</td>\n",
       "      <td>95</td>\n",
       "    </tr>\n",
       "    <tr>\n",
       "      <th>1</th>\n",
       "      <td>95788</td>\n",
       "      <td>[54, 53]</td>\n",
       "      <td>3</td>\n",
       "      <td>286.35</td>\n",
       "      <td>[86.42, 37.99, 161.94]</td>\n",
       "      <td>59.67</td>\n",
       "      <td>[15.28, 9.8, 34.59]</td>\n",
       "      <td>34.25</td>\n",
       "      <td>[4.47, 4.53, 25.26]</td>\n",
       "      <td>236.65</td>\n",
       "      <td>...</td>\n",
       "      <td>[2018-04-12T23:59:00.000000000, 2019-08-31T00:...</td>\n",
       "      <td>2017-12-15</td>\n",
       "      <td>2018-08-31</td>\n",
       "      <td>14</td>\n",
       "      <td>14</td>\n",
       "      <td>14</td>\n",
       "      <td>14</td>\n",
       "      <td>15</td>\n",
       "      <td>15</td>\n",
       "      <td>16</td>\n",
       "    </tr>\n",
       "    <tr>\n",
       "      <th>2</th>\n",
       "      <td>176665</td>\n",
       "      <td>[53]</td>\n",
       "      <td>2</td>\n",
       "      <td>78.91</td>\n",
       "      <td>[31.55, 47.36]</td>\n",
       "      <td>27.29</td>\n",
       "      <td>[13.79, 13.5]</td>\n",
       "      <td>13.31</td>\n",
       "      <td>[7.4, 5.91]</td>\n",
       "      <td>65.91</td>\n",
       "      <td>...</td>\n",
       "      <td>[2018-11-26T23:59:00.000000000]</td>\n",
       "      <td>2017-11-26</td>\n",
       "      <td>2018-02-18</td>\n",
       "      <td>19</td>\n",
       "      <td>19</td>\n",
       "      <td>19</td>\n",
       "      <td>20</td>\n",
       "      <td>20</td>\n",
       "      <td>20</td>\n",
       "      <td>20</td>\n",
       "    </tr>\n",
       "    <tr>\n",
       "      <th>3</th>\n",
       "      <td>192945</td>\n",
       "      <td>[53, 54]</td>\n",
       "      <td>3</td>\n",
       "      <td>349.02</td>\n",
       "      <td>[239.86, 63.58, 45.58]</td>\n",
       "      <td>58.65</td>\n",
       "      <td>[33.43, 18.71, 6.51]</td>\n",
       "      <td>20.45</td>\n",
       "      <td>[12.66, 11.35, -3.56]</td>\n",
       "      <td>294.11</td>\n",
       "      <td>...</td>\n",
       "      <td>[2018-04-29T23:59:00.000000000, 2020-06-06T00:...</td>\n",
       "      <td>2017-11-07</td>\n",
       "      <td>2018-09-07</td>\n",
       "      <td>24</td>\n",
       "      <td>24</td>\n",
       "      <td>24</td>\n",
       "      <td>24</td>\n",
       "      <td>24</td>\n",
       "      <td>25</td>\n",
       "      <td>26</td>\n",
       "    </tr>\n",
       "    <tr>\n",
       "      <th>4</th>\n",
       "      <td>265628</td>\n",
       "      <td>[52]</td>\n",
       "      <td>6</td>\n",
       "      <td>563.63</td>\n",
       "      <td>[99.32, 85.34, 96.39, 80.49, 102.21, 99.88]</td>\n",
       "      <td>131.71</td>\n",
       "      <td>[23.3, 19.53, 18.64, 19.18, 20.97, 30.09]</td>\n",
       "      <td>88.26</td>\n",
       "      <td>[16.77, 12.9, 11.79, 12.31, 12.26, 22.24]</td>\n",
       "      <td>465.81</td>\n",
       "      <td>...</td>\n",
       "      <td>[2019-11-06T23:59:00.000000000]</td>\n",
       "      <td>2017-11-10</td>\n",
       "      <td>2018-07-31</td>\n",
       "      <td>69</td>\n",
       "      <td>69</td>\n",
       "      <td>69</td>\n",
       "      <td>70</td>\n",
       "      <td>72</td>\n",
       "      <td>73</td>\n",
       "      <td>74</td>\n",
       "    </tr>\n",
       "  </tbody>\n",
       "</table>\n",
       "<p>5 rows × 23 columns</p>\n",
       "</div>"
      ],
      "text/plain": [
       "   CUS_N_KEY_CUSTOMER CZP_ZTQ_ID_unique  SCM_N_ORDER_NR_len  \\\n",
       "0               15070              [52]                   1   \n",
       "1               95788          [54, 53]                   3   \n",
       "2              176665              [53]                   2   \n",
       "3              192945          [53, 54]                   3   \n",
       "4              265628              [52]                   6   \n",
       "\n",
       "   SCM_SALES_BMF_sum                       SCM_SALES_BMF_<lambda>  \\\n",
       "0             106.34                                     [106.34]   \n",
       "1             286.35                       [86.42, 37.99, 161.94]   \n",
       "2              78.91                               [31.55, 47.36]   \n",
       "3             349.02                       [239.86, 63.58, 45.58]   \n",
       "4             563.63  [99.32, 85.34, 96.39, 80.49, 102.21, 99.88]   \n",
       "\n",
       "   SCM_D_FINANCE_CM1_sum                 SCM_D_FINANCE_CM1_<lambda>  \\\n",
       "0                  20.80                                     [20.8]   \n",
       "1                  59.67                        [15.28, 9.8, 34.59]   \n",
       "2                  27.29                              [13.79, 13.5]   \n",
       "3                  58.65                       [33.43, 18.71, 6.51]   \n",
       "4                 131.71  [23.3, 19.53, 18.64, 19.18, 20.97, 30.09]   \n",
       "\n",
       "   SCM_D_FINANCE_CM2_sum                 SCM_D_FINANCE_CM2_<lambda>  \\\n",
       "0                  12.98                                    [12.98]   \n",
       "1                  34.25                        [4.47, 4.53, 25.26]   \n",
       "2                  13.31                                [7.4, 5.91]   \n",
       "3                  20.45                      [12.66, 11.35, -3.56]   \n",
       "4                  88.26  [16.77, 12.9, 11.79, 12.31, 12.26, 22.24]   \n",
       "\n",
       "   SCM_D_ORIG_FINANCE_ORDER_NET_sum        ...         \\\n",
       "0                             87.88        ...          \n",
       "1                            236.65        ...          \n",
       "2                             65.91        ...          \n",
       "3                            294.11        ...          \n",
       "4                            465.81        ...          \n",
       "\n",
       "                              CZP_EXPIRY_DATE_unique FIRST_O_DATE_min  \\\n",
       "0                    [2018-05-14T23:59:00.000000000]       2017-10-03   \n",
       "1  [2018-04-12T23:59:00.000000000, 2019-08-31T00:...       2017-12-15   \n",
       "2                    [2018-11-26T23:59:00.000000000]       2017-11-26   \n",
       "3  [2018-04-29T23:59:00.000000000, 2020-06-06T00:...       2017-11-07   \n",
       "4                    [2019-11-06T23:59:00.000000000]       2017-11-10   \n",
       "\n",
       "  LAST_O_DATE_min 1ST_O_COUNTER_min COUNTER_28D_max COUNTER_56D_max  \\\n",
       "0      2017-10-03                95              95              95   \n",
       "1      2018-08-31                14              14              14   \n",
       "2      2018-02-18                19              19              19   \n",
       "3      2018-09-07                24              24              24   \n",
       "4      2018-07-31                69              69              69   \n",
       "\n",
       "   COUNTER_84D_max  COUNTER_168D_max  COUNTER_252D_max  COUNTER_336D_max  \n",
       "0               95                95                95                95  \n",
       "1               14                15                15                16  \n",
       "2               20                20                20                20  \n",
       "3               24                24                25                26  \n",
       "4               70                72                73                74  \n",
       "\n",
       "[5 rows x 23 columns]"
      ]
     },
     "execution_count": 22,
     "metadata": {},
     "output_type": "execute_result"
    }
   ],
   "source": [
    "customers.head()"
   ]
  },
  {
   "cell_type": "code",
   "execution_count": 23,
   "metadata": {
    "ExecuteTime": {
     "end_time": "2018-10-19T09:42:10.321294Z",
     "start_time": "2018-10-19T09:42:09.290294Z"
    }
   },
   "outputs": [],
   "source": [
    "customers['DIFF_DAYS'] = (customers['LAST_O_DATE_min'] - customers['FIRST_O_DATE_min']).dt.days"
   ]
  },
  {
   "cell_type": "code",
   "execution_count": 24,
   "metadata": {
    "ExecuteTime": {
     "end_time": "2018-10-19T09:42:10.347294Z",
     "start_time": "2018-10-19T09:42:10.322294Z"
    }
   },
   "outputs": [],
   "source": [
    "customers['SUIT_28D'] = ((customers['LAST_O_DATE_min'].max() - timedelta(days=28)) >= customers['FIRST_O_DATE_min']) * 1\n",
    "customers['SUIT_56D'] = ((customers['LAST_O_DATE_min'].max() - timedelta(days=56)) >= customers['FIRST_O_DATE_min']) * 1\n",
    "customers['SUIT_84D'] = ((customers['LAST_O_DATE_min'].max() - timedelta(days=84)) >= customers['FIRST_O_DATE_min']) * 1\n",
    "customers['SUIT_168D'] = ((customers['LAST_O_DATE_min'].max() - timedelta(days=168)) >= customers['FIRST_O_DATE_min']) * 1\n",
    "customers['SUIT_252D'] = ((customers['LAST_O_DATE_min'].max() - timedelta(days=252)) >= customers['FIRST_O_DATE_min']) * 1\n",
    "customers['SUIT_336D'] = ((customers['LAST_O_DATE_min'].max() - timedelta(days=336)) >= customers['FIRST_O_DATE_min']) * 1"
   ]
  },
  {
   "cell_type": "code",
   "execution_count": 25,
   "metadata": {
    "ExecuteTime": {
     "end_time": "2018-10-19T09:42:10.367294Z",
     "start_time": "2018-10-19T09:42:10.348294Z"
    }
   },
   "outputs": [],
   "source": [
    "customers['R28D'] = (customers['COUNTER_28D_max'] > customers['1ST_O_COUNTER_min']) * 1\n",
    "customers['R56D'] = (customers['COUNTER_56D_max'] > customers['COUNTER_28D_max']) * 1\n",
    "customers['R84D'] = (customers['COUNTER_84D_max'] > customers['COUNTER_56D_max']) * 1\n",
    "customers['R168D'] = (customers['COUNTER_168D_max'] > customers['COUNTER_84D_max']) * 1\n",
    "customers['R252D'] = (customers['COUNTER_252D_max'] > customers['COUNTER_168D_max']) * 1\n",
    "customers['R336D'] = (customers['COUNTER_336D_max'] > customers['COUNTER_252D_max']) * 1"
   ]
  },
  {
   "cell_type": "code",
   "execution_count": 26,
   "metadata": {
    "ExecuteTime": {
     "end_time": "2018-10-19T09:42:10.382294Z",
     "start_time": "2018-10-19T09:42:10.369294Z"
    }
   },
   "outputs": [],
   "source": [
    "customers['RR_28D'] = customers['R28D']\n",
    "customers['RR_56D'] = customers['R56D'] | customers['RR_28D']\n",
    "customers['RR_84D'] = customers['R84D'] | customers['RR_56D']\n",
    "customers['RR_168D'] = customers['R168D'] | customers['RR_84D']\n",
    "customers['RR_252D'] = customers['R252D'] | customers['RR_168D']\n",
    "customers['RR_336D'] = customers['R336D'] | customers['RR_252D']"
   ]
  },
  {
   "cell_type": "code",
   "execution_count": 27,
   "metadata": {
    "ExecuteTime": {
     "end_time": "2018-10-19T09:42:10.399294Z",
     "start_time": "2018-10-19T09:42:10.383294Z"
    }
   },
   "outputs": [],
   "source": [
    "customers['R_28D'] = customers['RR_28D'] * customers['SUIT_28D']\n",
    "customers['R_56D'] = customers['RR_56D'] * customers['SUIT_56D']\n",
    "customers['R_84D'] = customers['RR_84D'] * customers['SUIT_84D']\n",
    "customers['R_168D'] = customers['RR_168D']  * customers['SUIT_168D']\n",
    "customers['R_252D'] = customers['RR_252D'] * customers['SUIT_252D']\n",
    "customers['R_336D'] = customers['RR_336D'] * customers['SUIT_336D']"
   ]
  },
  {
   "cell_type": "code",
   "execution_count": 28,
   "metadata": {
    "ExecuteTime": {
     "end_time": "2018-10-19T09:42:12.942294Z",
     "start_time": "2018-10-19T09:42:10.400294Z"
    }
   },
   "outputs": [],
   "source": [
    "customers.to_pickle(\"./test_local_nl_sp_customers_tiers_51-56.pkl\")"
   ]
  },
  {
   "cell_type": "code",
   "execution_count": 29,
   "metadata": {
    "ExecuteTime": {
     "end_time": "2018-10-19T09:42:12.960294Z",
     "start_time": "2018-10-19T09:42:12.943294Z"
    }
   },
   "outputs": [],
   "source": [
    "mask = [len(i) == 1 for i in customers['CZP_ZTQ_ID_unique'].values]"
   ]
  },
  {
   "cell_type": "code",
   "execution_count": 30,
   "metadata": {
    "ExecuteTime": {
     "end_time": "2018-10-19T09:42:13.026294Z",
     "start_time": "2018-10-19T09:42:12.962294Z"
    }
   },
   "outputs": [],
   "source": [
    "sp_customers = customers[mask]"
   ]
  },
  {
   "cell_type": "code",
   "execution_count": 31,
   "metadata": {
    "ExecuteTime": {
     "end_time": "2018-10-19T09:42:13.031294Z",
     "start_time": "2018-10-19T09:42:13.027294Z"
    }
   },
   "outputs": [],
   "source": [
    "def get_number_from_string(i):\n",
    "    changes = str(i).replace('[', '').replace(']', '')\n",
    "    return int(changes)"
   ]
  },
  {
   "cell_type": "code",
   "execution_count": 32,
   "metadata": {
    "ExecuteTime": {
     "end_time": "2018-10-19T09:42:13.096294Z",
     "start_time": "2018-10-19T09:42:13.032294Z"
    }
   },
   "outputs": [],
   "source": [
    "t_customers = sp_customers.copy()"
   ]
  },
  {
   "cell_type": "code",
   "execution_count": 33,
   "metadata": {
    "ExecuteTime": {
     "end_time": "2018-10-19T09:42:17.035294Z",
     "start_time": "2018-10-19T09:42:13.097294Z"
    }
   },
   "outputs": [],
   "source": [
    "t_customers['CZP_ZTQ_ID_unique'] = t_customers['CZP_ZTQ_ID_unique'].map(get_number_from_string)"
   ]
  },
  {
   "cell_type": "code",
   "execution_count": 34,
   "metadata": {
    "ExecuteTime": {
     "end_time": "2018-10-19T09:42:17.044294Z",
     "start_time": "2018-10-19T09:42:17.037294Z"
    }
   },
   "outputs": [
    {
     "data": {
      "text/plain": [
       "51    38241\n",
       "52    35167\n",
       "56    19594\n",
       "54    18656\n",
       "53    17466\n",
       "55     3235\n",
       "Name: CZP_ZTQ_ID_unique, dtype: int64"
      ]
     },
     "execution_count": 34,
     "metadata": {},
     "output_type": "execute_result"
    }
   ],
   "source": [
    "t_customers['CZP_ZTQ_ID_unique'].value_counts()"
   ]
  },
  {
   "cell_type": "code",
   "execution_count": 35,
   "metadata": {
    "ExecuteTime": {
     "end_time": "2018-10-19T09:42:17.130294Z",
     "start_time": "2018-10-19T09:42:17.046294Z"
    }
   },
   "outputs": [],
   "source": [
    "tier_rr_28d = (t_customers.groupby('CZP_ZTQ_ID_unique')['R_28D'].sum() / t_customers.groupby('CZP_ZTQ_ID_unique')['SUIT_28D'].sum() * 100).round(2)\n",
    "tier_rr_56d = (t_customers.groupby('CZP_ZTQ_ID_unique')['R_56D'].sum() / t_customers.groupby('CZP_ZTQ_ID_unique')['SUIT_56D'].sum() * 100).round(2)\n",
    "tier_rr_84d = (t_customers.groupby('CZP_ZTQ_ID_unique')['R_84D'].sum() / t_customers.groupby('CZP_ZTQ_ID_unique')['SUIT_84D'].sum() * 100).round(2)\n",
    "tier_rr_168d = (t_customers.groupby('CZP_ZTQ_ID_unique')['R_168D'].sum() / t_customers.groupby('CZP_ZTQ_ID_unique')['SUIT_168D'].sum() * 100).round(2)\n",
    "tier_rr_252d = (t_customers.groupby('CZP_ZTQ_ID_unique')['R_252D'].sum() / t_customers.groupby('CZP_ZTQ_ID_unique')['SUIT_252D'].sum() * 100).round(2)\n",
    "tier_rr_336d = (t_customers.groupby('CZP_ZTQ_ID_unique')['R_336D'].sum() / t_customers.groupby('CZP_ZTQ_ID_unique')['SUIT_336D'].sum() * 100).round(2)"
   ]
  },
  {
   "cell_type": "code",
   "execution_count": 36,
   "metadata": {
    "ExecuteTime": {
     "end_time": "2018-10-19T09:42:17.144294Z",
     "start_time": "2018-10-19T09:42:17.131294Z"
    }
   },
   "outputs": [
    {
     "data": {
      "text/html": [
       "<div>\n",
       "<style scoped>\n",
       "    .dataframe tbody tr th:only-of-type {\n",
       "        vertical-align: middle;\n",
       "    }\n",
       "\n",
       "    .dataframe tbody tr th {\n",
       "        vertical-align: top;\n",
       "    }\n",
       "\n",
       "    .dataframe thead th {\n",
       "        text-align: right;\n",
       "    }\n",
       "</style>\n",
       "<table border=\"1\" class=\"dataframe\">\n",
       "  <thead>\n",
       "    <tr style=\"text-align: right;\">\n",
       "      <th></th>\n",
       "      <th>28d</th>\n",
       "      <th>56d</th>\n",
       "      <th>84d</th>\n",
       "      <th>168d</th>\n",
       "      <th>252d</th>\n",
       "      <th>336d</th>\n",
       "    </tr>\n",
       "    <tr>\n",
       "      <th>CZP_ZTQ_ID_unique</th>\n",
       "      <th></th>\n",
       "      <th></th>\n",
       "      <th></th>\n",
       "      <th></th>\n",
       "      <th></th>\n",
       "      <th></th>\n",
       "    </tr>\n",
       "  </thead>\n",
       "  <tbody>\n",
       "    <tr>\n",
       "      <th>51</th>\n",
       "      <td>22.56</td>\n",
       "      <td>51.20</td>\n",
       "      <td>69.13</td>\n",
       "      <td>86.46</td>\n",
       "      <td>90.88</td>\n",
       "      <td>94.48</td>\n",
       "    </tr>\n",
       "    <tr>\n",
       "      <th>52</th>\n",
       "      <td>22.68</td>\n",
       "      <td>49.54</td>\n",
       "      <td>68.03</td>\n",
       "      <td>88.92</td>\n",
       "      <td>94.53</td>\n",
       "      <td>97.17</td>\n",
       "    </tr>\n",
       "    <tr>\n",
       "      <th>53</th>\n",
       "      <td>23.68</td>\n",
       "      <td>50.86</td>\n",
       "      <td>67.80</td>\n",
       "      <td>84.84</td>\n",
       "      <td>89.47</td>\n",
       "      <td>93.41</td>\n",
       "    </tr>\n",
       "    <tr>\n",
       "      <th>54</th>\n",
       "      <td>23.51</td>\n",
       "      <td>49.68</td>\n",
       "      <td>68.07</td>\n",
       "      <td>88.86</td>\n",
       "      <td>94.41</td>\n",
       "      <td>97.15</td>\n",
       "    </tr>\n",
       "    <tr>\n",
       "      <th>55</th>\n",
       "      <td>19.61</td>\n",
       "      <td>42.42</td>\n",
       "      <td>55.26</td>\n",
       "      <td>69.94</td>\n",
       "      <td>73.05</td>\n",
       "      <td>76.99</td>\n",
       "    </tr>\n",
       "    <tr>\n",
       "      <th>56</th>\n",
       "      <td>23.03</td>\n",
       "      <td>47.21</td>\n",
       "      <td>61.74</td>\n",
       "      <td>75.95</td>\n",
       "      <td>79.28</td>\n",
       "      <td>82.90</td>\n",
       "    </tr>\n",
       "  </tbody>\n",
       "</table>\n",
       "</div>"
      ],
      "text/plain": [
       "                     28d    56d    84d   168d   252d   336d\n",
       "CZP_ZTQ_ID_unique                                          \n",
       "51                 22.56  51.20  69.13  86.46  90.88  94.48\n",
       "52                 22.68  49.54  68.03  88.92  94.53  97.17\n",
       "53                 23.68  50.86  67.80  84.84  89.47  93.41\n",
       "54                 23.51  49.68  68.07  88.86  94.41  97.15\n",
       "55                 19.61  42.42  55.26  69.94  73.05  76.99\n",
       "56                 23.03  47.21  61.74  75.95  79.28  82.90"
      ]
     },
     "execution_count": 36,
     "metadata": {},
     "output_type": "execute_result"
    }
   ],
   "source": [
    "rep_rate_tiers = pd.DataFrame([tier_rr_28d, tier_rr_56d, tier_rr_84d, tier_rr_168d, tier_rr_252d, tier_rr_336d]).T\n",
    "rep_rate_tiers.columns = ['28d', '56d', '84d', '168d', '252d', '336d']\n",
    "rep_rate_tiers"
   ]
  },
  {
   "cell_type": "code",
   "execution_count": 37,
   "metadata": {
    "ExecuteTime": {
     "end_time": "2018-10-19T09:42:17.159294Z",
     "start_time": "2018-10-19T09:42:17.146294Z"
    }
   },
   "outputs": [],
   "source": [
    "ztq = [51, 52, 53, 54, 55, 56]"
   ]
  },
  {
   "cell_type": "code",
   "execution_count": 38,
   "metadata": {
    "ExecuteTime": {
     "end_time": "2018-10-19T09:42:18.120294Z",
     "start_time": "2018-10-19T09:42:17.161294Z"
    }
   },
   "outputs": [
    {
     "data": {
      "image/png": "[encoded data removed]",
      "text/plain": [
       "<matplotlib.figure.Figure at 0x18aa7438>"
      ]
     },
     "metadata": {},
     "output_type": "display_data"
    },
    {
     "data": {
      "text/html": [
       "<div>\n",
       "<style scoped>\n",
       "    .dataframe tbody tr th:only-of-type {\n",
       "        vertical-align: middle;\n",
       "    }\n",
       "\n",
       "    .dataframe tbody tr th {\n",
       "        vertical-align: top;\n",
       "    }\n",
       "\n",
       "    .dataframe thead th {\n",
       "        text-align: right;\n",
       "    }\n",
       "</style>\n",
       "<table border=\"1\" class=\"dataframe\">\n",
       "  <thead>\n",
       "    <tr style=\"text-align: right;\">\n",
       "      <th></th>\n",
       "      <th>Tier 51 ORDERS</th>\n",
       "      <th>Tier 52 ORDERS</th>\n",
       "      <th>Tier 53 ORDERS</th>\n",
       "      <th>Tier 54 ORDERS</th>\n",
       "      <th>Tier 55 ORDERS</th>\n",
       "      <th>Tier 56 ORDERS</th>\n",
       "    </tr>\n",
       "  </thead>\n",
       "  <tbody>\n",
       "    <tr>\n",
       "      <th>count</th>\n",
       "      <td>38241.00</td>\n",
       "      <td>35167.00</td>\n",
       "      <td>17466.00</td>\n",
       "      <td>18656.00</td>\n",
       "      <td>3235.00</td>\n",
       "      <td>19594.00</td>\n",
       "    </tr>\n",
       "    <tr>\n",
       "      <th>mean</th>\n",
       "      <td>5.35</td>\n",
       "      <td>6.17</td>\n",
       "      <td>5.33</td>\n",
       "      <td>6.42</td>\n",
       "      <td>2.99</td>\n",
       "      <td>3.64</td>\n",
       "    </tr>\n",
       "    <tr>\n",
       "      <th>std</th>\n",
       "      <td>4.60</td>\n",
       "      <td>5.21</td>\n",
       "      <td>4.61</td>\n",
       "      <td>5.33</td>\n",
       "      <td>2.67</td>\n",
       "      <td>3.30</td>\n",
       "    </tr>\n",
       "    <tr>\n",
       "      <th>min</th>\n",
       "      <td>1.00</td>\n",
       "      <td>1.00</td>\n",
       "      <td>1.00</td>\n",
       "      <td>1.00</td>\n",
       "      <td>1.00</td>\n",
       "      <td>1.00</td>\n",
       "    </tr>\n",
       "    <tr>\n",
       "      <th>25%</th>\n",
       "      <td>2.00</td>\n",
       "      <td>3.00</td>\n",
       "      <td>2.00</td>\n",
       "      <td>3.00</td>\n",
       "      <td>1.00</td>\n",
       "      <td>1.00</td>\n",
       "    </tr>\n",
       "    <tr>\n",
       "      <th>50%</th>\n",
       "      <td>4.00</td>\n",
       "      <td>5.00</td>\n",
       "      <td>4.00</td>\n",
       "      <td>5.00</td>\n",
       "      <td>2.00</td>\n",
       "      <td>3.00</td>\n",
       "    </tr>\n",
       "    <tr>\n",
       "      <th>75%</th>\n",
       "      <td>7.00</td>\n",
       "      <td>8.00</td>\n",
       "      <td>7.00</td>\n",
       "      <td>8.00</td>\n",
       "      <td>4.00</td>\n",
       "      <td>5.00</td>\n",
       "    </tr>\n",
       "    <tr>\n",
       "      <th>max</th>\n",
       "      <td>90.00</td>\n",
       "      <td>187.00</td>\n",
       "      <td>102.00</td>\n",
       "      <td>90.00</td>\n",
       "      <td>28.00</td>\n",
       "      <td>188.00</td>\n",
       "    </tr>\n",
       "  </tbody>\n",
       "</table>\n",
       "</div>"
      ],
      "text/plain": [
       "       Tier 51 ORDERS  Tier 52 ORDERS  Tier 53 ORDERS  Tier 54 ORDERS  \\\n",
       "count        38241.00        35167.00        17466.00        18656.00   \n",
       "mean             5.35            6.17            5.33            6.42   \n",
       "std              4.60            5.21            4.61            5.33   \n",
       "min              1.00            1.00            1.00            1.00   \n",
       "25%              2.00            3.00            2.00            3.00   \n",
       "50%              4.00            5.00            4.00            5.00   \n",
       "75%              7.00            8.00            7.00            8.00   \n",
       "max             90.00          187.00          102.00           90.00   \n",
       "\n",
       "       Tier 55 ORDERS  Tier 56 ORDERS  \n",
       "count         3235.00        19594.00  \n",
       "mean             2.99            3.64  \n",
       "std              2.67            3.30  \n",
       "min              1.00            1.00  \n",
       "25%              1.00            1.00  \n",
       "50%              2.00            3.00  \n",
       "75%              4.00            5.00  \n",
       "max             28.00          188.00  "
      ]
     },
     "metadata": {},
     "output_type": "display_data"
    }
   ],
   "source": [
    "sns.set()\n",
    "plt.figure(figsize=(16,10))\n",
    "plt.suptitle('Histograms showing orders per customer & tier within 1 year time period', fontsize=14)\n",
    "plt.subplot(321)\n",
    "data_tier_51 = t_customers[t_customers['CZP_ZTQ_ID_unique'] == 51]\n",
    "data_tier_51['SCM_N_ORDER_NR_len'].hist(bins=30, range=(0, 30), color='#0066ff', alpha=0.5)\n",
    "plt.legend([51])\n",
    "plt.subplot(322)\n",
    "data_tier_52 = t_customers[t_customers['CZP_ZTQ_ID_unique'] == 52]\n",
    "data_tier_52['SCM_N_ORDER_NR_len'].hist(bins=30, range=(0, 30), color='#ff9900', alpha=0.5)\n",
    "plt.legend([52])\n",
    "plt.subplot(323)\n",
    "data_tier_53 = t_customers[t_customers['CZP_ZTQ_ID_unique'] == 53]\n",
    "data_tier_53['SCM_N_ORDER_NR_len'].hist(bins=30, range=(0, 30), color='#009900', alpha=0.5)\n",
    "plt.legend([53])\n",
    "plt.subplot(324)\n",
    "data_tier_54 = t_customers[t_customers['CZP_ZTQ_ID_unique'] == 54]\n",
    "data_tier_54['SCM_N_ORDER_NR_len'].hist(bins=30, range=(0, 30), color='#ff0000', alpha=0.5)\n",
    "plt.legend([54])\n",
    "plt.subplot(325)\n",
    "data_tier_55 = t_customers[t_customers['CZP_ZTQ_ID_unique'] == 55]\n",
    "data_tier_55['SCM_N_ORDER_NR_len'].hist(bins=30, range=(0, 30), color='#993399', alpha=0.5)\n",
    "plt.legend([55])\n",
    "plt.subplot(326)\n",
    "data_tier_56 = t_customers[t_customers['CZP_ZTQ_ID_unique'] == 56]\n",
    "data_tier_56['SCM_N_ORDER_NR_len'].hist(bins=30, range=(0, 30), color='#996633', alpha=0.5)\n",
    "plt.legend([56])\n",
    "plt.show() \n",
    "\n",
    "concat_df = pd.DataFrame()\n",
    "for tq in ztq:\n",
    "    data_tier = t_customers[t_customers['CZP_ZTQ_ID_unique'] == tq]\n",
    "    concat_df = pd.concat([concat_df,\n",
    "                           pd.DataFrame(data_tier['SCM_N_ORDER_NR_len'].describe().round(2)),\n",
    "                           ], axis=1)\n",
    "concat_df.columns = ['Tier 51 ORDERS', 'Tier 52 ORDERS', 'Tier 53 ORDERS',\n",
    "                     'Tier 54 ORDERS', 'Tier 55 ORDERS', 'Tier 56 ORDERS']\n",
    "display(concat_df)"
   ]
  },
  {
   "cell_type": "code",
   "execution_count": 39,
   "metadata": {
    "ExecuteTime": {
     "end_time": "2018-10-19T09:42:20.187294Z",
     "start_time": "2018-10-19T09:42:18.121294Z"
    }
   },
   "outputs": [
    {
     "data": {
      "image/png": "[encoded data removed]",
      "text/plain": [
       "<matplotlib.figure.Figure at 0x18a9d7f0>"
      ]
     },
     "metadata": {},
     "output_type": "display_data"
    },
    {
     "data": {
      "text/html": [
       "<div>\n",
       "<style scoped>\n",
       "    .dataframe tbody tr th:only-of-type {\n",
       "        vertical-align: middle;\n",
       "    }\n",
       "\n",
       "    .dataframe tbody tr th {\n",
       "        vertical-align: top;\n",
       "    }\n",
       "\n",
       "    .dataframe thead th {\n",
       "        text-align: right;\n",
       "    }\n",
       "</style>\n",
       "<table border=\"1\" class=\"dataframe\">\n",
       "  <thead>\n",
       "    <tr style=\"text-align: right;\">\n",
       "      <th></th>\n",
       "      <th>Tier 51 Order_Counter</th>\n",
       "      <th>Tier 52 Order_Counter</th>\n",
       "      <th>Tier 53 Order_Counter</th>\n",
       "      <th>Tier 54 Order_Counter</th>\n",
       "      <th>Tier 55 Order_Counter</th>\n",
       "      <th>Tier 56 Order_Counter</th>\n",
       "    </tr>\n",
       "  </thead>\n",
       "  <tbody>\n",
       "    <tr>\n",
       "      <th>count</th>\n",
       "      <td>230129.00</td>\n",
       "      <td>242631.00</td>\n",
       "      <td>102117.00</td>\n",
       "      <td>130365.00</td>\n",
       "      <td>11438.00</td>\n",
       "      <td>86043.00</td>\n",
       "    </tr>\n",
       "    <tr>\n",
       "      <th>mean</th>\n",
       "      <td>33.84</td>\n",
       "      <td>42.60</td>\n",
       "      <td>30.10</td>\n",
       "      <td>44.94</td>\n",
       "      <td>5.17</td>\n",
       "      <td>6.33</td>\n",
       "    </tr>\n",
       "    <tr>\n",
       "      <th>std</th>\n",
       "      <td>32.34</td>\n",
       "      <td>37.68</td>\n",
       "      <td>34.03</td>\n",
       "      <td>50.14</td>\n",
       "      <td>4.39</td>\n",
       "      <td>12.02</td>\n",
       "    </tr>\n",
       "    <tr>\n",
       "      <th>min</th>\n",
       "      <td>2.00</td>\n",
       "      <td>2.00</td>\n",
       "      <td>2.00</td>\n",
       "      <td>1.00</td>\n",
       "      <td>1.00</td>\n",
       "      <td>1.00</td>\n",
       "    </tr>\n",
       "    <tr>\n",
       "      <th>25%</th>\n",
       "      <td>13.00</td>\n",
       "      <td>19.00</td>\n",
       "      <td>12.00</td>\n",
       "      <td>20.00</td>\n",
       "      <td>2.00</td>\n",
       "      <td>3.00</td>\n",
       "    </tr>\n",
       "    <tr>\n",
       "      <th>50%</th>\n",
       "      <td>24.00</td>\n",
       "      <td>33.00</td>\n",
       "      <td>23.00</td>\n",
       "      <td>32.00</td>\n",
       "      <td>4.00</td>\n",
       "      <td>5.00</td>\n",
       "    </tr>\n",
       "    <tr>\n",
       "      <th>75%</th>\n",
       "      <td>44.00</td>\n",
       "      <td>54.00</td>\n",
       "      <td>37.00</td>\n",
       "      <td>52.00</td>\n",
       "      <td>7.00</td>\n",
       "      <td>7.00</td>\n",
       "    </tr>\n",
       "    <tr>\n",
       "      <th>max</th>\n",
       "      <td>404.00</td>\n",
       "      <td>570.00</td>\n",
       "      <td>921.00</td>\n",
       "      <td>3246.00</td>\n",
       "      <td>61.00</td>\n",
       "      <td>423.00</td>\n",
       "    </tr>\n",
       "  </tbody>\n",
       "</table>\n",
       "</div>"
      ],
      "text/plain": [
       "       Tier 51 Order_Counter  Tier 52 Order_Counter  Tier 53 Order_Counter  \\\n",
       "count              230129.00              242631.00              102117.00   \n",
       "mean                   33.84                  42.60                  30.10   \n",
       "std                    32.34                  37.68                  34.03   \n",
       "min                     2.00                   2.00                   2.00   \n",
       "25%                    13.00                  19.00                  12.00   \n",
       "50%                    24.00                  33.00                  23.00   \n",
       "75%                    44.00                  54.00                  37.00   \n",
       "max                   404.00                 570.00                 921.00   \n",
       "\n",
       "       Tier 54 Order_Counter  Tier 55 Order_Counter  Tier 56 Order_Counter  \n",
       "count              130365.00               11438.00               86043.00  \n",
       "mean                   44.94                   5.17                   6.33  \n",
       "std                    50.14                   4.39                  12.02  \n",
       "min                     1.00                   1.00                   1.00  \n",
       "25%                    20.00                   2.00                   3.00  \n",
       "50%                    32.00                   4.00                   5.00  \n",
       "75%                    52.00                   7.00                   7.00  \n",
       "max                  3246.00                  61.00                 423.00  "
      ]
     },
     "metadata": {},
     "output_type": "display_data"
    }
   ],
   "source": [
    "concat_df = pd.DataFrame()\n",
    "sns.set()\n",
    "plt.figure(figsize=(16,8))\n",
    "plt.title('Histogram showing order counter per Tier', fontsize=14)\n",
    "\n",
    "for tq in ztq:\n",
    "    data_tier = orders[orders['CZP_ZTQ_ID'] == tq]\n",
    "    order_counter_values = [i for i in data_tier['OSP_KO_COUNT_NET'].values]\n",
    "    plt.hist(order_counter_values, bins=150, range=(0, 150), alpha=0.5)\n",
    "    plt.legend([51, 52, 53, 54, 55, 56])\n",
    "    concat_df = pd.concat([concat_df,\n",
    "                           (pd.DataFrame(order_counter_values).describe().round(2)),\n",
    "                           ], axis=1)\n",
    "plt.show() \n",
    "\n",
    "concat_df.columns = ['Tier 51 Order_Counter', 'Tier 52 Order_Counter', 'Tier 53 Order_Counter',\n",
    "                     'Tier 54 Order_Counter', 'Tier 55 Order_Counter', 'Tier 56 Order_Counter']\n",
    "display(concat_df)"
   ]
  },
  {
   "cell_type": "code",
   "execution_count": 40,
   "metadata": {
    "ExecuteTime": {
     "end_time": "2018-10-19T09:42:21.329294Z",
     "start_time": "2018-10-19T09:42:20.189294Z"
    }
   },
   "outputs": [
    {
     "data": {
      "image/png": "[encoded data removed]",
      "text/plain": [
       "<matplotlib.figure.Figure at 0x55616d30>"
      ]
     },
     "metadata": {},
     "output_type": "display_data"
    },
    {
     "data": {
      "text/html": [
       "<div>\n",
       "<style scoped>\n",
       "    .dataframe tbody tr th:only-of-type {\n",
       "        vertical-align: middle;\n",
       "    }\n",
       "\n",
       "    .dataframe tbody tr th {\n",
       "        vertical-align: top;\n",
       "    }\n",
       "\n",
       "    .dataframe thead th {\n",
       "        text-align: right;\n",
       "    }\n",
       "</style>\n",
       "<table border=\"1\" class=\"dataframe\">\n",
       "  <thead>\n",
       "    <tr style=\"text-align: right;\">\n",
       "      <th></th>\n",
       "      <th>Tier 51 Order_Values</th>\n",
       "      <th>Tier 52 Order_Values</th>\n",
       "      <th>Tier 53 Order_Values</th>\n",
       "      <th>Tier 54 Order_Values</th>\n",
       "      <th>Tier 55 Order_Values</th>\n",
       "      <th>Tier 56 Order_Values</th>\n",
       "    </tr>\n",
       "  </thead>\n",
       "  <tbody>\n",
       "    <tr>\n",
       "      <th>count</th>\n",
       "      <td>230129.00</td>\n",
       "      <td>242631.00</td>\n",
       "      <td>102117.00</td>\n",
       "      <td>130365.00</td>\n",
       "      <td>11438.00</td>\n",
       "      <td>86043.00</td>\n",
       "    </tr>\n",
       "    <tr>\n",
       "      <th>mean</th>\n",
       "      <td>66.34</td>\n",
       "      <td>74.20</td>\n",
       "      <td>68.99</td>\n",
       "      <td>80.23</td>\n",
       "      <td>60.29</td>\n",
       "      <td>71.24</td>\n",
       "    </tr>\n",
       "    <tr>\n",
       "      <th>std</th>\n",
       "      <td>42.52</td>\n",
       "      <td>49.37</td>\n",
       "      <td>43.43</td>\n",
       "      <td>57.64</td>\n",
       "      <td>36.03</td>\n",
       "      <td>51.11</td>\n",
       "    </tr>\n",
       "    <tr>\n",
       "      <th>min</th>\n",
       "      <td>-40.03</td>\n",
       "      <td>-105.57</td>\n",
       "      <td>-22.25</td>\n",
       "      <td>-62.01</td>\n",
       "      <td>-12.70</td>\n",
       "      <td>-26.50</td>\n",
       "    </tr>\n",
       "    <tr>\n",
       "      <th>25%</th>\n",
       "      <td>39.74</td>\n",
       "      <td>42.67</td>\n",
       "      <td>40.82</td>\n",
       "      <td>45.12</td>\n",
       "      <td>36.15</td>\n",
       "      <td>41.79</td>\n",
       "    </tr>\n",
       "    <tr>\n",
       "      <th>50%</th>\n",
       "      <td>56.19</td>\n",
       "      <td>61.10</td>\n",
       "      <td>56.99</td>\n",
       "      <td>65.68</td>\n",
       "      <td>50.41</td>\n",
       "      <td>57.93</td>\n",
       "    </tr>\n",
       "    <tr>\n",
       "      <th>75%</th>\n",
       "      <td>80.96</td>\n",
       "      <td>92.14</td>\n",
       "      <td>85.49</td>\n",
       "      <td>99.20</td>\n",
       "      <td>72.71</td>\n",
       "      <td>87.35</td>\n",
       "    </tr>\n",
       "    <tr>\n",
       "      <th>max</th>\n",
       "      <td>2470.95</td>\n",
       "      <td>6220.70</td>\n",
       "      <td>1626.05</td>\n",
       "      <td>2778.62</td>\n",
       "      <td>479.13</td>\n",
       "      <td>2162.91</td>\n",
       "    </tr>\n",
       "  </tbody>\n",
       "</table>\n",
       "</div>"
      ],
      "text/plain": [
       "       Tier 51 Order_Values  Tier 52 Order_Values  Tier 53 Order_Values  \\\n",
       "count             230129.00             242631.00             102117.00   \n",
       "mean                  66.34                 74.20                 68.99   \n",
       "std                   42.52                 49.37                 43.43   \n",
       "min                  -40.03               -105.57                -22.25   \n",
       "25%                   39.74                 42.67                 40.82   \n",
       "50%                   56.19                 61.10                 56.99   \n",
       "75%                   80.96                 92.14                 85.49   \n",
       "max                 2470.95               6220.70               1626.05   \n",
       "\n",
       "       Tier 54 Order_Values  Tier 55 Order_Values  Tier 56 Order_Values  \n",
       "count             130365.00              11438.00              86043.00  \n",
       "mean                  80.23                 60.29                 71.24  \n",
       "std                   57.64                 36.03                 51.11  \n",
       "min                  -62.01                -12.70                -26.50  \n",
       "25%                   45.12                 36.15                 41.79  \n",
       "50%                   65.68                 50.41                 57.93  \n",
       "75%                   99.20                 72.71                 87.35  \n",
       "max                 2778.62                479.13               2162.91  "
      ]
     },
     "metadata": {},
     "output_type": "display_data"
    }
   ],
   "source": [
    "concat_df = pd.DataFrame()\n",
    "sns.set()\n",
    "plt.figure(figsize=(16,8))\n",
    "plt.title('Histogram showing order values per Tier', fontsize=14)\n",
    "\n",
    "for tq in ztq:\n",
    "    data_tier = orders[orders['CZP_ZTQ_ID'] == tq]\n",
    "    order_values = [i for i in data_tier['SCM_SALES_BMF'].values]\n",
    "    plt.hist(order_values, bins=30, range=(0, 300), alpha=0.5)\n",
    "    plt.legend([51, 52, 53, 54, 55, 56])\n",
    "    concat_df = pd.concat([concat_df,\n",
    "                           (pd.DataFrame(order_values).describe().round(2)),\n",
    "                           ], axis=1)\n",
    "plt.show() \n",
    "\n",
    "concat_df.columns = ['Tier 51 Order_Values', 'Tier 52 Order_Values', 'Tier 53 Order_Values',\n",
    "                     'Tier 54 Order_Values', 'Tier 55 Order_Values', 'Tier 56 Order_Values']\n",
    "display(concat_df)"
   ]
  },
  {
   "cell_type": "code",
   "execution_count": 41,
   "metadata": {
    "ExecuteTime": {
     "end_time": "2018-10-19T09:42:23.556294Z",
     "start_time": "2018-10-19T09:42:21.331294Z"
    }
   },
   "outputs": [
    {
     "data": {
      "image/png": "[encoded data removed]",
      "text/plain": [
       "<matplotlib.figure.Figure at 0x1aa39f60>"
      ]
     },
     "metadata": {},
     "output_type": "display_data"
    },
    {
     "data": {
      "text/html": [
       "<div>\n",
       "<style scoped>\n",
       "    .dataframe tbody tr th:only-of-type {\n",
       "        vertical-align: middle;\n",
       "    }\n",
       "\n",
       "    .dataframe tbody tr th {\n",
       "        vertical-align: top;\n",
       "    }\n",
       "\n",
       "    .dataframe thead th {\n",
       "        text-align: right;\n",
       "    }\n",
       "</style>\n",
       "<table border=\"1\" class=\"dataframe\">\n",
       "  <thead>\n",
       "    <tr style=\"text-align: right;\">\n",
       "      <th></th>\n",
       "      <th>Tier 51 Order_CM1%</th>\n",
       "      <th>Tier 52 Order_CM1%</th>\n",
       "      <th>Tier 53 Order_CM1%</th>\n",
       "      <th>Tier 54 Order_CM1%</th>\n",
       "      <th>Tier 55 Order_CM1%</th>\n",
       "      <th>Tier 56 Order_CM1%</th>\n",
       "    </tr>\n",
       "  </thead>\n",
       "  <tbody>\n",
       "    <tr>\n",
       "      <th>count</th>\n",
       "      <td>230103.00</td>\n",
       "      <td>242606.00</td>\n",
       "      <td>102105.00</td>\n",
       "      <td>130349.00</td>\n",
       "      <td>11434.00</td>\n",
       "      <td>86026.00</td>\n",
       "    </tr>\n",
       "    <tr>\n",
       "      <th>25%</th>\n",
       "      <td>21.14</td>\n",
       "      <td>20.26</td>\n",
       "      <td>20.43</td>\n",
       "      <td>18.19</td>\n",
       "      <td>20.81</td>\n",
       "      <td>17.93</td>\n",
       "    </tr>\n",
       "    <tr>\n",
       "      <th>50%</th>\n",
       "      <td>27.29</td>\n",
       "      <td>26.59</td>\n",
       "      <td>27.75</td>\n",
       "      <td>25.10</td>\n",
       "      <td>27.34</td>\n",
       "      <td>24.42</td>\n",
       "    </tr>\n",
       "    <tr>\n",
       "      <th>75%</th>\n",
       "      <td>34.62</td>\n",
       "      <td>34.10</td>\n",
       "      <td>36.02</td>\n",
       "      <td>33.14</td>\n",
       "      <td>35.58</td>\n",
       "      <td>32.72</td>\n",
       "    </tr>\n",
       "  </tbody>\n",
       "</table>\n",
       "</div>"
      ],
      "text/plain": [
       "       Tier 51 Order_CM1%  Tier 52 Order_CM1%  Tier 53 Order_CM1%  \\\n",
       "count           230103.00           242606.00           102105.00   \n",
       "25%                 21.14               20.26               20.43   \n",
       "50%                 27.29               26.59               27.75   \n",
       "75%                 34.62               34.10               36.02   \n",
       "\n",
       "       Tier 54 Order_CM1%  Tier 55 Order_CM1%  Tier 56 Order_CM1%  \n",
       "count           130349.00            11434.00            86026.00  \n",
       "25%                 18.19               20.81               17.93  \n",
       "50%                 25.10               27.34               24.42  \n",
       "75%                 33.14               35.58               32.72  "
      ]
     },
     "metadata": {},
     "output_type": "display_data"
    }
   ],
   "source": [
    "concat_df = pd.DataFrame()\n",
    "sns.set()\n",
    "plt.figure(figsize=(16,8))\n",
    "plt.title('Histogram showing orders CM1% per Tier', fontsize=14)\n",
    "\n",
    "for tq in ztq:\n",
    "    data_tier = orders[orders['CZP_ZTQ_ID'] == tq]\n",
    "    order_values_cm1 = [i for i in data_tier['SCM_D_FINANCE_CM1'].values]\n",
    "    order_values_net_sales = [i for i in data_tier['SCM_D_ORIG_FINANCE_ORDER_NET'].values]\n",
    "    orders_rel_cm1 = [i/j * 100 for i, j in list(zip(order_values_cm1, order_values_net_sales)) if j != 0]\n",
    "    plt.hist(orders_rel_cm1, bins=100, range=(-25, 75), alpha=0.5)\n",
    "    plt.legend([51, 52, 53, 54, 55, 56])\n",
    "    concat_df = pd.concat([concat_df,\n",
    "                           (pd.DataFrame(orders_rel_cm1).describe().round(2)),\n",
    "                           ], axis=1)\n",
    "\n",
    "plt.legend([51, 52, 53, 54, 55, 56])\n",
    "plt.show() \n",
    "\n",
    "concat_df.columns = ['Tier 51 Order_CM1%', 'Tier 52 Order_CM1%', 'Tier 53 Order_CM1%',\n",
    "                     'Tier 54 Order_CM1%', 'Tier 55 Order_CM1%', 'Tier 56 Order_CM1%']\n",
    "display(concat_df.loc[['count', '25%', '50%', '75%']].astype(float))"
   ]
  },
  {
   "cell_type": "code",
   "execution_count": 42,
   "metadata": {
    "ExecuteTime": {
     "end_time": "2018-10-19T09:42:25.765294Z",
     "start_time": "2018-10-19T09:42:23.557294Z"
    }
   },
   "outputs": [
    {
     "data": {
      "image/png": "[encoded data removed]",
      "text/plain": [
       "<matplotlib.figure.Figure at 0x33279240>"
      ]
     },
     "metadata": {},
     "output_type": "display_data"
    },
    {
     "data": {
      "text/html": [
       "<div>\n",
       "<style scoped>\n",
       "    .dataframe tbody tr th:only-of-type {\n",
       "        vertical-align: middle;\n",
       "    }\n",
       "\n",
       "    .dataframe tbody tr th {\n",
       "        vertical-align: top;\n",
       "    }\n",
       "\n",
       "    .dataframe thead th {\n",
       "        text-align: right;\n",
       "    }\n",
       "</style>\n",
       "<table border=\"1\" class=\"dataframe\">\n",
       "  <thead>\n",
       "    <tr style=\"text-align: right;\">\n",
       "      <th></th>\n",
       "      <th>Tier 51 Order_CM2%</th>\n",
       "      <th>Tier 52 Order_CM2%</th>\n",
       "      <th>Tier 53 Order_CM2%</th>\n",
       "      <th>Tier 54 Order_CM2%</th>\n",
       "      <th>Tier 55 Order_CM2%</th>\n",
       "      <th>Tier 56 Order_CM2%</th>\n",
       "    </tr>\n",
       "  </thead>\n",
       "  <tbody>\n",
       "    <tr>\n",
       "      <th>count</th>\n",
       "      <td>230103.00</td>\n",
       "      <td>242606.00</td>\n",
       "      <td>102105.00</td>\n",
       "      <td>130349.00</td>\n",
       "      <td>11434.00</td>\n",
       "      <td>86026.00</td>\n",
       "    </tr>\n",
       "    <tr>\n",
       "      <th>25%</th>\n",
       "      <td>6.28</td>\n",
       "      <td>5.74</td>\n",
       "      <td>5.64</td>\n",
       "      <td>3.89</td>\n",
       "      <td>5.55</td>\n",
       "      <td>3.35</td>\n",
       "    </tr>\n",
       "    <tr>\n",
       "      <th>50%</th>\n",
       "      <td>12.20</td>\n",
       "      <td>11.97</td>\n",
       "      <td>12.56</td>\n",
       "      <td>10.64</td>\n",
       "      <td>11.59</td>\n",
       "      <td>9.71</td>\n",
       "    </tr>\n",
       "    <tr>\n",
       "      <th>75%</th>\n",
       "      <td>18.36</td>\n",
       "      <td>18.36</td>\n",
       "      <td>20.17</td>\n",
       "      <td>17.84</td>\n",
       "      <td>18.33</td>\n",
       "      <td>16.95</td>\n",
       "    </tr>\n",
       "  </tbody>\n",
       "</table>\n",
       "</div>"
      ],
      "text/plain": [
       "       Tier 51 Order_CM2%  Tier 52 Order_CM2%  Tier 53 Order_CM2%  \\\n",
       "count           230103.00           242606.00           102105.00   \n",
       "25%                  6.28                5.74                5.64   \n",
       "50%                 12.20               11.97               12.56   \n",
       "75%                 18.36               18.36               20.17   \n",
       "\n",
       "       Tier 54 Order_CM2%  Tier 55 Order_CM2%  Tier 56 Order_CM2%  \n",
       "count           130349.00            11434.00            86026.00  \n",
       "25%                  3.89                5.55                3.35  \n",
       "50%                 10.64               11.59                9.71  \n",
       "75%                 17.84               18.33               16.95  "
      ]
     },
     "metadata": {},
     "output_type": "display_data"
    }
   ],
   "source": [
    "concat_df = pd.DataFrame()\n",
    "sns.set()\n",
    "plt.figure(figsize=(16,8))\n",
    "plt.title('Histogram showing orders CM2% per Tier', fontsize=14)\n",
    "\n",
    "for tq in ztq:\n",
    "    data_tier = orders[orders['CZP_ZTQ_ID'] == tq]\n",
    "    order_values_cm2 = [i for i in data_tier['SCM_D_FINANCE_CM2'].values]\n",
    "    order_values_net_sales = [i for i in data_tier['SCM_D_ORIG_FINANCE_ORDER_NET'].values]\n",
    "    orders_rel_cm2 = [i/j * 100 for i, j in list(zip(order_values_cm2, order_values_net_sales)) if j != 0]\n",
    "    plt.hist(orders_rel_cm2, bins=100, range=(-35, 65), alpha=0.5)\n",
    "    plt.legend([51, 52, 53, 54, 55, 56])\n",
    "    concat_df = pd.concat([concat_df,\n",
    "                           (pd.DataFrame(orders_rel_cm2).describe().round(2)),\n",
    "                           ], axis=1)\n",
    "\n",
    "plt.legend([51, 52, 53, 54, 55, 56])\n",
    "plt.show() \n",
    "\n",
    "concat_df.columns = ['Tier 51 Order_CM2%', 'Tier 52 Order_CM2%', 'Tier 53 Order_CM2%',\n",
    "                     'Tier 54 Order_CM2%', 'Tier 55 Order_CM2%', 'Tier 56 Order_CM2%']\n",
    "display(concat_df.loc[['count', '25%', '50%', '75%']].astype(float))"
   ]
  },
  {
   "cell_type": "code",
   "execution_count": 43,
   "metadata": {
    "ExecuteTime": {
     "end_time": "2018-10-19T09:42:28.294294Z",
     "start_time": "2018-10-19T09:42:25.766294Z"
    }
   },
   "outputs": [
    {
     "data": {
      "text/html": [
       "<div>\n",
       "<style scoped>\n",
       "    .dataframe tbody tr th:only-of-type {\n",
       "        vertical-align: middle;\n",
       "    }\n",
       "\n",
       "    .dataframe tbody tr th {\n",
       "        vertical-align: top;\n",
       "    }\n",
       "\n",
       "    .dataframe thead th {\n",
       "        text-align: right;\n",
       "    }\n",
       "</style>\n",
       "<table border=\"1\" class=\"dataframe\">\n",
       "  <thead>\n",
       "    <tr style=\"text-align: right;\">\n",
       "      <th></th>\n",
       "      <th>ZTQ</th>\n",
       "      <th>active_customers</th>\n",
       "      <th>orders</th>\n",
       "      <th>sales_bmf</th>\n",
       "      <th>net_sales</th>\n",
       "      <th>CM1</th>\n",
       "      <th>CM2</th>\n",
       "      <th>CM1%</th>\n",
       "      <th>CM2%</th>\n",
       "      <th>discount_amount</th>\n",
       "      <th>orders_%_neg_cm1</th>\n",
       "      <th>loss_in_CM1</th>\n",
       "      <th>orders_%_neg_cm2</th>\n",
       "      <th>loss_in_CM2</th>\n",
       "    </tr>\n",
       "  </thead>\n",
       "  <tbody>\n",
       "    <tr>\n",
       "      <th>0</th>\n",
       "      <td>51</td>\n",
       "      <td>45056</td>\n",
       "      <td>230129</td>\n",
       "      <td>15266991.29</td>\n",
       "      <td>12644813.95</td>\n",
       "      <td>3429050.04</td>\n",
       "      <td>1691971.07</td>\n",
       "      <td>27.12</td>\n",
       "      <td>13.38</td>\n",
       "      <td>-469879.21</td>\n",
       "      <td>0.55</td>\n",
       "      <td>-3279.01</td>\n",
       "      <td>9.42</td>\n",
       "      <td>-51780.65</td>\n",
       "    </tr>\n",
       "    <tr>\n",
       "      <th>1</th>\n",
       "      <td>52</td>\n",
       "      <td>41066</td>\n",
       "      <td>242631</td>\n",
       "      <td>18004078.47</td>\n",
       "      <td>14913963.31</td>\n",
       "      <td>3939890.54</td>\n",
       "      <td>1957020.92</td>\n",
       "      <td>26.42</td>\n",
       "      <td>13.12</td>\n",
       "      <td>-557556.61</td>\n",
       "      <td>0.75</td>\n",
       "      <td>-5174.62</td>\n",
       "      <td>10.69</td>\n",
       "      <td>-69464.33</td>\n",
       "    </tr>\n",
       "    <tr>\n",
       "      <th>2</th>\n",
       "      <td>53</td>\n",
       "      <td>19872</td>\n",
       "      <td>102117</td>\n",
       "      <td>7044947.68</td>\n",
       "      <td>5835442.09</td>\n",
       "      <td>1599334.50</td>\n",
       "      <td>819654.06</td>\n",
       "      <td>27.41</td>\n",
       "      <td>14.05</td>\n",
       "      <td>-369324.47</td>\n",
       "      <td>0.69</td>\n",
       "      <td>-2051.59</td>\n",
       "      <td>11.28</td>\n",
       "      <td>-28522.03</td>\n",
       "    </tr>\n",
       "    <tr>\n",
       "      <th>3</th>\n",
       "      <td>54</td>\n",
       "      <td>20880</td>\n",
       "      <td>130365</td>\n",
       "      <td>10458822.15</td>\n",
       "      <td>8663114.58</td>\n",
       "      <td>2164142.01</td>\n",
       "      <td>1046000.23</td>\n",
       "      <td>24.98</td>\n",
       "      <td>12.07</td>\n",
       "      <td>-552145.31</td>\n",
       "      <td>1.05</td>\n",
       "      <td>-4497.74</td>\n",
       "      <td>14.69</td>\n",
       "      <td>-56276.57</td>\n",
       "    </tr>\n",
       "    <tr>\n",
       "      <th>4</th>\n",
       "      <td>55</td>\n",
       "      <td>3695</td>\n",
       "      <td>11438</td>\n",
       "      <td>689636.80</td>\n",
       "      <td>570765.14</td>\n",
       "      <td>156367.87</td>\n",
       "      <td>74581.42</td>\n",
       "      <td>27.40</td>\n",
       "      <td>13.07</td>\n",
       "      <td>-21100.59</td>\n",
       "      <td>0.49</td>\n",
       "      <td>-166.34</td>\n",
       "      <td>10.47</td>\n",
       "      <td>-2578.11</td>\n",
       "    </tr>\n",
       "    <tr>\n",
       "      <th>5</th>\n",
       "      <td>56</td>\n",
       "      <td>23422</td>\n",
       "      <td>86043</td>\n",
       "      <td>6129639.67</td>\n",
       "      <td>5074462.51</td>\n",
       "      <td>1246422.67</td>\n",
       "      <td>572564.13</td>\n",
       "      <td>24.56</td>\n",
       "      <td>11.28</td>\n",
       "      <td>-320216.23</td>\n",
       "      <td>0.80</td>\n",
       "      <td>-1982.50</td>\n",
       "      <td>15.51</td>\n",
       "      <td>-34807.35</td>\n",
       "    </tr>\n",
       "  </tbody>\n",
       "</table>\n",
       "</div>"
      ],
      "text/plain": [
       "  ZTQ active_customers  orders    sales_bmf    net_sales         CM1  \\\n",
       "0  51            45056  230129  15266991.29  12644813.95  3429050.04   \n",
       "1  52            41066  242631  18004078.47  14913963.31  3939890.54   \n",
       "2  53            19872  102117   7044947.68   5835442.09  1599334.50   \n",
       "3  54            20880  130365  10458822.15   8663114.58  2164142.01   \n",
       "4  55             3695   11438    689636.80    570765.14   156367.87   \n",
       "5  56            23422   86043   6129639.67   5074462.51  1246422.67   \n",
       "\n",
       "          CM2   CM1%   CM2%  discount_amount  orders_%_neg_cm1  loss_in_CM1  \\\n",
       "0  1691971.07  27.12  13.38       -469879.21              0.55     -3279.01   \n",
       "1  1957020.92  26.42  13.12       -557556.61              0.75     -5174.62   \n",
       "2   819654.06  27.41  14.05       -369324.47              0.69     -2051.59   \n",
       "3  1046000.23  24.98  12.07       -552145.31              1.05     -4497.74   \n",
       "4    74581.42  27.40  13.07        -21100.59              0.49      -166.34   \n",
       "5   572564.13  24.56  11.28       -320216.23              0.80     -1982.50   \n",
       "\n",
       "   orders_%_neg_cm2  loss_in_CM2  \n",
       "0              9.42    -51780.65  \n",
       "1             10.69    -69464.33  \n",
       "2             11.28    -28522.03  \n",
       "3             14.69    -56276.57  \n",
       "4             10.47     -2578.11  \n",
       "5             15.51    -34807.35  "
      ]
     },
     "metadata": {},
     "output_type": "display_data"
    }
   ],
   "source": [
    "metrics_ztq = pd.DataFrame(columns=['ZTQ','active_customers', 'orders', 'sales_bmf', 'net_sales', 'CM1', 'CM2', 'CM1%', 'CM2%',\n",
    "                                   'discount_amount', 'orders_%_neg_cm1', 'loss_in_CM1', 'orders_%_neg_cm2', 'loss_in_CM2'])\n",
    "for tq in ztq:\n",
    "    df_elems = []\n",
    "    data_tier = data[data['CZP_ZTQ_ID'] == tq]\n",
    "    df_elems.append(tq)\n",
    "    df_elems.append(data_tier['CUS_N_KEY_CUSTOMER'].nunique())\n",
    "    df_elems.append(data_tier['SCM_N_ORDER_NR'].nunique())\n",
    "    df_elems.append(data_tier['SCM_SALES_BMF'].sum())\n",
    "    df_elems.append(data_tier['SCM_D_ORIG_FINANCE_ORDER_NET'].sum())\n",
    "    df_elems.append(data_tier['SCM_D_FINANCE_CM1'].sum())\n",
    "    df_elems.append(data_tier['SCM_D_FINANCE_CM2'].sum())\n",
    "    df_elems.append(data_tier['SCM_D_FINANCE_CM1'].sum() / data_tier['SCM_D_ORIG_FINANCE_ORDER_NET'].sum() * 100)\n",
    "    df_elems.append(data_tier['SCM_D_FINANCE_CM2'].sum() / data_tier['SCM_D_ORIG_FINANCE_ORDER_NET'].sum() * 100)\n",
    "    df_elems.append((data_tier[data_tier['SCM_MASTER_AP_ID'] == 42715]['SCM_SALES_BMF']).sum())\n",
    "    \n",
    "    cm1_per_order = data_tier.groupby('SCM_N_ORDER_NR')['SCM_D_FINANCE_CM1'].sum()\n",
    "    orders_neg_cm1 = cm1_per_order[cm1_per_order < 0].index.values\n",
    "    df_elems.append(len(orders_neg_cm1)/data_tier['SCM_N_ORDER_NR'].nunique()*100)\n",
    "    df_elems.append(cm1_per_order[cm1_per_order < 0].sum())\n",
    "    \n",
    "    cm2_per_order = data_tier.groupby('SCM_N_ORDER_NR')['SCM_D_FINANCE_CM2'].sum()\n",
    "    orders_neg_cm2 = cm2_per_order[cm2_per_order < 0].index.values\n",
    "    df_elems.append(len(orders_neg_cm2)/data_tier['SCM_N_ORDER_NR'].nunique()*100)\n",
    "    df_elems.append(cm2_per_order[cm2_per_order < 0].sum())\n",
    "    \n",
    "    new_row = pd.DataFrame.from_records([df_elems], columns=metrics_ztq.columns)\n",
    "    metrics_ztq = metrics_ztq.append(new_row, ignore_index=True)\n",
    "    \n",
    "display(metrics_ztq.round(2))"
   ]
  },
  {
   "cell_type": "code",
   "execution_count": null,
   "metadata": {},
   "outputs": [],
   "source": []
  }
 ],
 "metadata": {
  "hide_input": false,
  "kernelspec": {
   "display_name": "Python [conda env:py36]",
   "language": "python",
   "name": "conda-env-py36-py"
  },
  "language_info": {
   "codemirror_mode": {
    "name": "ipython",
    "version": 3
   },
   "file_extension": ".py",
   "mimetype": "text/x-python",
   "name": "python",
   "nbconvert_exporter": "python",
   "pygments_lexer": "ipython3",
   "version": "3.6.4"
  },
  "toc": {
   "base_numbering": 1,
   "nav_menu": {},
   "number_sections": true,
   "sideBar": true,
   "skip_h1_title": false,
   "title_cell": "Table of Contents",
   "title_sidebar": "Contents",
   "toc_cell": false,
   "toc_position": {},
   "toc_section_display": true,
   "toc_window_display": false
  },
  "varInspector": {
   "cols": {
    "lenName": 16,
    "lenType": 16,
    "lenVar": 40
   },
   "kernels_config": {
    "python": {
     "delete_cmd_postfix": "",
     "delete_cmd_prefix": "del ",
     "library": "var_list.py",
     "varRefreshCmd": "print(var_dic_list())"
    },
    "r": {
     "delete_cmd_postfix": ") ",
     "delete_cmd_prefix": "rm(",
     "library": "var_list.r",
     "varRefreshCmd": "cat(var_dic_list()) "
    }
   },
   "types_to_exclude": [
    "module",
    "function",
    "builtin_function_or_method",
    "instance",
    "_Feature"
   ],
   "window_display": false
  }
 },
 "nbformat": 4,
 "nbformat_minor": 2
}
