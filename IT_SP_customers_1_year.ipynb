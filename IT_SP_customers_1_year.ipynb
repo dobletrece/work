{
 "cells": [
  {
   "cell_type": "raw",
   "metadata": {},
   "source": [
    "select CUS_N_KEY_CUSTOMER as CUSTOMER_ID, count (distinct SCM_N_ORDER_NR) as ORDERS,\n",
    "min(TDT_T_KEY_ORDER_DATE) as FIRST_ORDER_DATE, max(TDT_T_KEY_ORDER_DATE) as LAST_ORDER_DATE,\n",
    "sum(SCM_D_FINANCE_CM2) as TOTAL_CM2, sum(SCM_D_ORIG_FINANCE_ORDER_NET) as NET_SALES,\n",
    "case when sum(SCM_D_ORIG_FINANCE_ORDER_NET) = 0 then 0\n",
    "else ROUND(sum(SCM_D_FINANCE_CM2) / sum(SCM_D_ORIG_FINANCE_ORDER_NET) * 100, 2)  \n",
    "end as CM2_REL, avg(CZP_ZTQ_ID) as ZTQ_ID, max(CZP_START_DATE) as START_DATE, max(CZP_EXPIRY_DATE) as EXPIRY_DATE\n",
    "from \n",
    "(\n",
    "select \n",
    "scm.scm_n_order_pos_nr, scm.scm_n_order_nr, scm.tdt_t_key_order_date, scm.THR_C_KEY_ORDER_HOUR, scm.SIT_N_KEY_SITE,\n",
    "scm.CUS_N_KEY_CUSTOMER, scm.SCM_SALES_BMF, scm.SCM_SALES_CANCEL_BMF, scm.SCM_D_FINANCE_CM1, scm.SCM_D_FINANCE_CM2,\n",
    "scm.SCM_D_ORIG_FINANCE_ORDER_NET,scm.SCM_AP_ID, scm.SCM_AS_ID, scm.SCM_MASTER_AP_ID, scm.SCM_IS_ZSP_ORDER, \n",
    "scm.SCM_C_ORDER_STATUS, scm.CTP_N_KEY_CUSTOMER_TYPE, scm.SCM_OCI_LAND, scm.SCM_D_FC_ID, scm.SCM_D_PC_DSP, scm.SCM_FC_SPLIT,\n",
    "czp.CZP_START_DATE, czp.CZP_EXPIRY_DATE, czp.CZP_ZTQ_ID, czp.CZP_PERCENTAGE, czp.CZP_PRICE\n",
    "from zoocube.ddstf_scm_sales_contrib_margin scm\n",
    "left outer join ZOOMAN.CUSTOMERS_ZOOPRIME_PLANS czp\n",
    "on scm.CUS_N_KEY_CUSTOMER = czp.CZP_K_ID \n",
    "and czp.CZP_EXPIRY_DATE > to_date((to_char(TDT_T_KEY_ORDER_DATE, 'dd/mm/yyyy') ||' '|| THR_C_KEY_ORDER_HOUR), 'dd/mm/yyyy HH24:MI')\n",
    "and czp.CZP_START_DATE <= to_date((to_char(TDT_T_KEY_ORDER_DATE, 'dd/mm/yyyy') ||' '|| THR_C_KEY_ORDER_HOUR), 'dd/mm/yyyy HH24:MI')\n",
    "where ((TDT_T_KEY_ORDER_DATE >= to_date('01/06/17', 'DD/MM/YY') and TDT_T_KEY_ORDER_DATE <= to_date('31/05/18', 'DD/MM/YY')))\n",
    "and SIT_N_KEY_SITE = 12 \n",
    "and (scm.SCM_C_ORDER_STATUS = 'L' OR scm.SCM_C_ORDER_STATUS = 'VK')\n",
    ")\n",
    "--where SIT_N_KEY_SITE = 15\n",
    "--and (SCM_C_ORDER_STATUS = 'L' or SCM_C_ORDER_STATUS = 'VK')\n",
    "--and TDT_T_KEY_ORDER_DATE >= to_date('01/06/17', 'DD/MM/YY') and (TDT_T_KEY_ORDER_DATE <= to_date('01/06/17', 'DD/MM/YY'))\n",
    "group by CUS_N_KEY_CUSTOMER\n",
    "having avg(CZP_ZTQ_ID) IN (51, 52, 53, 54, 55, 56)\n",
    ";"
   ]
  },
  {
   "cell_type": "code",
   "execution_count": 1,
   "metadata": {
    "ExecuteTime": {
     "end_time": "2018-06-22T10:40:48.823490Z",
     "start_time": "2018-06-22T10:40:48.155044Z"
    }
   },
   "outputs": [],
   "source": [
    "import numpy as np\n",
    "import pandas as pd\n",
    "import matplotlib.pyplot as plt\n",
    "%matplotlib inline\n",
    "from IPython.display import display\n",
    "from scipy import stats"
   ]
  },
  {
   "cell_type": "code",
   "execution_count": 2,
   "metadata": {
    "ExecuteTime": {
     "end_time": "2018-06-22T10:40:49.014298Z",
     "start_time": "2018-06-22T10:40:48.823490Z"
    }
   },
   "outputs": [],
   "source": [
    "data = pd.read_csv('it_sp_customers_1_year.dsv', sep=';', low_memory=False)"
   ]
  },
  {
   "cell_type": "code",
   "execution_count": 3,
   "metadata": {
    "ExecuteTime": {
     "end_time": "2018-06-22T10:40:49.037300Z",
     "start_time": "2018-06-22T10:40:49.014298Z"
    }
   },
   "outputs": [
    {
     "name": "stdout",
     "output_type": "stream",
     "text": [
      "<class 'pandas.core.frame.DataFrame'>\n",
      "RangeIndex: 100750 entries, 0 to 100749\n",
      "Data columns (total 10 columns):\n",
      "CUSTOMER_ID         100750 non-null int64\n",
      "ORDERS              100750 non-null int64\n",
      "FIRST_ORDER_DATE    100750 non-null object\n",
      "LAST_ORDER_DATE     100750 non-null object\n",
      "TOTAL_CM2           100750 non-null object\n",
      "NET_SALES           100750 non-null object\n",
      "CM2_REL             100750 non-null object\n",
      "ZTQ_ID              100750 non-null int64\n",
      "START_DATE          100750 non-null object\n",
      "EXPIRY_DATE         100750 non-null object\n",
      "dtypes: int64(3), object(7)\n",
      "memory usage: 7.7+ MB\n"
     ]
    }
   ],
   "source": [
    "data.info()"
   ]
  },
  {
   "cell_type": "code",
   "execution_count": 4,
   "metadata": {
    "ExecuteTime": {
     "end_time": "2018-06-22T10:40:49.117308Z",
     "start_time": "2018-06-22T10:40:49.038300Z"
    }
   },
   "outputs": [],
   "source": [
    "data['CM2_REL'] = [i.replace(',', '.') for i in data['CM2_REL']]\n",
    "data['NET_SALES'] = [i.replace(',', '.') for i in data['NET_SALES']]\n",
    "data['TOTAL_CM2'] = [i.replace(',', '.') for i in data['TOTAL_CM2']]"
   ]
  },
  {
   "cell_type": "code",
   "execution_count": 5,
   "metadata": {
    "ExecuteTime": {
     "end_time": "2018-06-22T10:40:49.195316Z",
     "start_time": "2018-06-22T10:40:49.118308Z"
    }
   },
   "outputs": [],
   "source": [
    "data[['TOTAL_CM2', 'NET_SALES', 'CM2_REL']] = data[['TOTAL_CM2', 'NET_SALES', 'CM2_REL']].astype(float)"
   ]
  },
  {
   "cell_type": "code",
   "execution_count": 6,
   "metadata": {
    "ExecuteTime": {
     "end_time": "2018-06-22T10:40:49.438340Z",
     "start_time": "2018-06-22T10:40:49.196316Z"
    }
   },
   "outputs": [],
   "source": [
    "data['FIRST_ORDER_DATE'] = pd.to_datetime(data['FIRST_ORDER_DATE'], format='%d/%m/%y')"
   ]
  },
  {
   "cell_type": "code",
   "execution_count": 7,
   "metadata": {
    "ExecuteTime": {
     "end_time": "2018-06-22T10:40:49.683365Z",
     "start_time": "2018-06-22T10:40:49.440340Z"
    }
   },
   "outputs": [],
   "source": [
    "data['LAST_ORDER_DATE'] = pd.to_datetime(data['LAST_ORDER_DATE'], format='%d/%m/%y')"
   ]
  },
  {
   "cell_type": "code",
   "execution_count": 8,
   "metadata": {
    "ExecuteTime": {
     "end_time": "2018-06-22T10:40:49.935390Z",
     "start_time": "2018-06-22T10:40:49.685365Z"
    }
   },
   "outputs": [],
   "source": [
    "data['START_DATE'] = pd.to_datetime(data['START_DATE'], format='%d/%m/%y')"
   ]
  },
  {
   "cell_type": "code",
   "execution_count": 9,
   "metadata": {
    "ExecuteTime": {
     "end_time": "2018-06-22T10:40:50.187415Z",
     "start_time": "2018-06-22T10:40:49.937390Z"
    }
   },
   "outputs": [],
   "source": [
    "data['EXPIRY_DATE'] = pd.to_datetime(data['EXPIRY_DATE'], format='%d/%m/%y')"
   ]
  },
  {
   "cell_type": "code",
   "execution_count": 10,
   "metadata": {
    "ExecuteTime": {
     "end_time": "2018-06-22T10:40:50.213418Z",
     "start_time": "2018-06-22T10:40:50.189415Z"
    }
   },
   "outputs": [
    {
     "data": {
      "text/html": [
       "<div>\n",
       "<style scoped>\n",
       "    .dataframe tbody tr th:only-of-type {\n",
       "        vertical-align: middle;\n",
       "    }\n",
       "\n",
       "    .dataframe tbody tr th {\n",
       "        vertical-align: top;\n",
       "    }\n",
       "\n",
       "    .dataframe thead th {\n",
       "        text-align: right;\n",
       "    }\n",
       "</style>\n",
       "<table border=\"1\" class=\"dataframe\">\n",
       "  <thead>\n",
       "    <tr style=\"text-align: right;\">\n",
       "      <th></th>\n",
       "      <th>CUSTOMER_ID</th>\n",
       "      <th>ORDERS</th>\n",
       "      <th>FIRST_ORDER_DATE</th>\n",
       "      <th>LAST_ORDER_DATE</th>\n",
       "      <th>TOTAL_CM2</th>\n",
       "      <th>NET_SALES</th>\n",
       "      <th>CM2_REL</th>\n",
       "      <th>ZTQ_ID</th>\n",
       "      <th>START_DATE</th>\n",
       "      <th>EXPIRY_DATE</th>\n",
       "    </tr>\n",
       "  </thead>\n",
       "  <tbody>\n",
       "    <tr>\n",
       "      <th>0</th>\n",
       "      <td>11551623</td>\n",
       "      <td>10</td>\n",
       "      <td>2017-06-01</td>\n",
       "      <td>2018-04-30</td>\n",
       "      <td>110.4405</td>\n",
       "      <td>707.4836</td>\n",
       "      <td>15.61</td>\n",
       "      <td>51</td>\n",
       "      <td>2018-04-30</td>\n",
       "      <td>2018-05-02</td>\n",
       "    </tr>\n",
       "    <tr>\n",
       "      <th>1</th>\n",
       "      <td>12044077</td>\n",
       "      <td>14</td>\n",
       "      <td>2017-06-01</td>\n",
       "      <td>2018-05-13</td>\n",
       "      <td>25.8788</td>\n",
       "      <td>625.4101</td>\n",
       "      <td>4.14</td>\n",
       "      <td>54</td>\n",
       "      <td>2016-08-02</td>\n",
       "      <td>2019-08-02</td>\n",
       "    </tr>\n",
       "    <tr>\n",
       "      <th>2</th>\n",
       "      <td>8580503</td>\n",
       "      <td>8</td>\n",
       "      <td>2017-06-01</td>\n",
       "      <td>2018-03-26</td>\n",
       "      <td>26.7832</td>\n",
       "      <td>242.1761</td>\n",
       "      <td>11.06</td>\n",
       "      <td>51</td>\n",
       "      <td>2017-06-30</td>\n",
       "      <td>2018-06-30</td>\n",
       "    </tr>\n",
       "    <tr>\n",
       "      <th>3</th>\n",
       "      <td>15052208</td>\n",
       "      <td>5</td>\n",
       "      <td>2017-06-01</td>\n",
       "      <td>2017-12-16</td>\n",
       "      <td>17.7596</td>\n",
       "      <td>190.3772</td>\n",
       "      <td>9.33</td>\n",
       "      <td>51</td>\n",
       "      <td>2017-01-21</td>\n",
       "      <td>2018-01-21</td>\n",
       "    </tr>\n",
       "    <tr>\n",
       "      <th>4</th>\n",
       "      <td>12787699</td>\n",
       "      <td>10</td>\n",
       "      <td>2017-06-01</td>\n",
       "      <td>2018-05-07</td>\n",
       "      <td>41.9864</td>\n",
       "      <td>454.7461</td>\n",
       "      <td>9.23</td>\n",
       "      <td>53</td>\n",
       "      <td>2017-11-01</td>\n",
       "      <td>2018-11-27</td>\n",
       "    </tr>\n",
       "  </tbody>\n",
       "</table>\n",
       "</div>"
      ],
      "text/plain": [
       "   CUSTOMER_ID  ORDERS FIRST_ORDER_DATE LAST_ORDER_DATE  TOTAL_CM2  NET_SALES  \\\n",
       "0     11551623      10       2017-06-01      2018-04-30   110.4405   707.4836   \n",
       "1     12044077      14       2017-06-01      2018-05-13    25.8788   625.4101   \n",
       "2      8580503       8       2017-06-01      2018-03-26    26.7832   242.1761   \n",
       "3     15052208       5       2017-06-01      2017-12-16    17.7596   190.3772   \n",
       "4     12787699      10       2017-06-01      2018-05-07    41.9864   454.7461   \n",
       "\n",
       "   CM2_REL  ZTQ_ID START_DATE EXPIRY_DATE  \n",
       "0    15.61      51 2018-04-30  2018-05-02  \n",
       "1     4.14      54 2016-08-02  2019-08-02  \n",
       "2    11.06      51 2017-06-30  2018-06-30  \n",
       "3     9.33      51 2017-01-21  2018-01-21  \n",
       "4     9.23      53 2017-11-01  2018-11-27  "
      ]
     },
     "execution_count": 10,
     "metadata": {},
     "output_type": "execute_result"
    }
   ],
   "source": [
    "data.head()"
   ]
  },
  {
   "cell_type": "code",
   "execution_count": 11,
   "metadata": {
    "ExecuteTime": {
     "end_time": "2018-06-22T10:40:50.228419Z",
     "start_time": "2018-06-22T10:40:50.214418Z"
    }
   },
   "outputs": [],
   "source": [
    "tiers = [51, 52, 53, 54, 55, 56]"
   ]
  },
  {
   "cell_type": "code",
   "execution_count": 12,
   "metadata": {
    "ExecuteTime": {
     "end_time": "2018-06-22T10:40:52.761840Z",
     "start_time": "2018-06-22T10:40:50.229419Z"
    },
    "scrolled": false
   },
   "outputs": [
    {
     "name": "stdout",
     "output_type": "stream",
     "text": [
      "...........................................................TIER  51 ..........................................................\n"
     ]
    },
    {
     "data": {
      "image/png": "[encoded data removed]",
      "text/plain": [
       "<matplotlib.figure.Figure at 0xb252828>"
      ]
     },
     "metadata": {},
     "output_type": "display_data"
    },
    {
     "data": {
      "text/html": [
       "<div>\n",
       "<style scoped>\n",
       "    .dataframe tbody tr th:only-of-type {\n",
       "        vertical-align: middle;\n",
       "    }\n",
       "\n",
       "    .dataframe tbody tr th {\n",
       "        vertical-align: top;\n",
       "    }\n",
       "\n",
       "    .dataframe thead th {\n",
       "        text-align: right;\n",
       "    }\n",
       "</style>\n",
       "<table border=\"1\" class=\"dataframe\">\n",
       "  <thead>\n",
       "    <tr style=\"text-align: right;\">\n",
       "      <th></th>\n",
       "      <th>CM2_REL</th>\n",
       "    </tr>\n",
       "  </thead>\n",
       "  <tbody>\n",
       "    <tr>\n",
       "      <th>count</th>\n",
       "      <td>29434.00</td>\n",
       "    </tr>\n",
       "    <tr>\n",
       "      <th>mean</th>\n",
       "      <td>13.03</td>\n",
       "    </tr>\n",
       "    <tr>\n",
       "      <th>std</th>\n",
       "      <td>10.92</td>\n",
       "    </tr>\n",
       "    <tr>\n",
       "      <th>min</th>\n",
       "      <td>-985.86</td>\n",
       "    </tr>\n",
       "    <tr>\n",
       "      <th>25%</th>\n",
       "      <td>8.81</td>\n",
       "    </tr>\n",
       "    <tr>\n",
       "      <th>50%</th>\n",
       "      <td>13.41</td>\n",
       "    </tr>\n",
       "    <tr>\n",
       "      <th>75%</th>\n",
       "      <td>17.75</td>\n",
       "    </tr>\n",
       "    <tr>\n",
       "      <th>max</th>\n",
       "      <td>66.92</td>\n",
       "    </tr>\n",
       "  </tbody>\n",
       "</table>\n",
       "</div>"
      ],
      "text/plain": [
       "        CM2_REL\n",
       "count  29434.00\n",
       "mean      13.03\n",
       "std       10.92\n",
       "min     -985.86\n",
       "25%        8.81\n",
       "50%       13.41\n",
       "75%       17.75\n",
       "max       66.92"
      ]
     },
     "metadata": {},
     "output_type": "display_data"
    },
    {
     "name": "stdout",
     "output_type": "stream",
     "text": [
      "CM2% threshold >= 5  is the percentile 11.26\n",
      "CM2% threshold >= 7  is the percentile 17.39\n",
      "CM2% threshold >=  9.86  is the percentile 30 allowing us to stay with the 70% of our sample\n"
     ]
    },
    {
     "data": {
      "image/png": "[encoded data removed]",
      "text/plain": [
       "<matplotlib.figure.Figure at 0xb9b72b0>"
      ]
     },
     "metadata": {},
     "output_type": "display_data"
    },
    {
     "data": {
      "text/html": [
       "<div>\n",
       "<style scoped>\n",
       "    .dataframe tbody tr th:only-of-type {\n",
       "        vertical-align: middle;\n",
       "    }\n",
       "\n",
       "    .dataframe tbody tr th {\n",
       "        vertical-align: top;\n",
       "    }\n",
       "\n",
       "    .dataframe thead th {\n",
       "        text-align: right;\n",
       "    }\n",
       "</style>\n",
       "<table border=\"1\" class=\"dataframe\">\n",
       "  <thead>\n",
       "    <tr style=\"text-align: right;\">\n",
       "      <th></th>\n",
       "      <th>ORDERS</th>\n",
       "    </tr>\n",
       "  </thead>\n",
       "  <tbody>\n",
       "    <tr>\n",
       "      <th>count</th>\n",
       "      <td>29434.00</td>\n",
       "    </tr>\n",
       "    <tr>\n",
       "      <th>mean</th>\n",
       "      <td>6.56</td>\n",
       "    </tr>\n",
       "    <tr>\n",
       "      <th>std</th>\n",
       "      <td>5.03</td>\n",
       "    </tr>\n",
       "    <tr>\n",
       "      <th>min</th>\n",
       "      <td>1.00</td>\n",
       "    </tr>\n",
       "    <tr>\n",
       "      <th>25%</th>\n",
       "      <td>3.00</td>\n",
       "    </tr>\n",
       "    <tr>\n",
       "      <th>50%</th>\n",
       "      <td>5.00</td>\n",
       "    </tr>\n",
       "    <tr>\n",
       "      <th>75%</th>\n",
       "      <td>8.00</td>\n",
       "    </tr>\n",
       "    <tr>\n",
       "      <th>max</th>\n",
       "      <td>105.00</td>\n",
       "    </tr>\n",
       "  </tbody>\n",
       "</table>\n",
       "</div>"
      ],
      "text/plain": [
       "         ORDERS\n",
       "count  29434.00\n",
       "mean       6.56\n",
       "std        5.03\n",
       "min        1.00\n",
       "25%        3.00\n",
       "50%        5.00\n",
       "75%        8.00\n",
       "max      105.00"
      ]
     },
     "metadata": {},
     "output_type": "display_data"
    },
    {
     "name": "stdout",
     "output_type": "stream",
     "text": [
      "4.0  is the percentile 30 allowing us to stay with the 70% of our sample\n",
      "                                                                                                                    \n",
      "With CM2% threshold >= 5 and Orders >=  4.0  we keep eligible a  66.18  % from our customers\n",
      "With CM2% threshold >= 7 and Orders >=  4.0  we keep eligible a  61.71  % from our customers\n",
      "With CM2% threshold >=  9.86  and Orders >=  4.0  we keep eligible a  52.3  % from our customers\n",
      "                                                                                                                    \n",
      "                                                                                                                    \n",
      "...........................................................TIER  52 ..........................................................\n"
     ]
    },
    {
     "data": {
      "image/png": "[encoded data removed]",
      "text/plain": [
       "<matplotlib.figure.Figure at 0xd0e9828>"
      ]
     },
     "metadata": {},
     "output_type": "display_data"
    },
    {
     "data": {
      "text/html": [
       "<div>\n",
       "<style scoped>\n",
       "    .dataframe tbody tr th:only-of-type {\n",
       "        vertical-align: middle;\n",
       "    }\n",
       "\n",
       "    .dataframe tbody tr th {\n",
       "        vertical-align: top;\n",
       "    }\n",
       "\n",
       "    .dataframe thead th {\n",
       "        text-align: right;\n",
       "    }\n",
       "</style>\n",
       "<table border=\"1\" class=\"dataframe\">\n",
       "  <thead>\n",
       "    <tr style=\"text-align: right;\">\n",
       "      <th></th>\n",
       "      <th>CM2_REL</th>\n",
       "    </tr>\n",
       "  </thead>\n",
       "  <tbody>\n",
       "    <tr>\n",
       "      <th>count</th>\n",
       "      <td>16088.00</td>\n",
       "    </tr>\n",
       "    <tr>\n",
       "      <th>mean</th>\n",
       "      <td>12.16</td>\n",
       "    </tr>\n",
       "    <tr>\n",
       "      <th>std</th>\n",
       "      <td>34.09</td>\n",
       "    </tr>\n",
       "    <tr>\n",
       "      <th>min</th>\n",
       "      <td>-4153.61</td>\n",
       "    </tr>\n",
       "    <tr>\n",
       "      <th>25%</th>\n",
       "      <td>7.94</td>\n",
       "    </tr>\n",
       "    <tr>\n",
       "      <th>50%</th>\n",
       "      <td>12.67</td>\n",
       "    </tr>\n",
       "    <tr>\n",
       "      <th>75%</th>\n",
       "      <td>17.31</td>\n",
       "    </tr>\n",
       "    <tr>\n",
       "      <th>max</th>\n",
       "      <td>64.59</td>\n",
       "    </tr>\n",
       "  </tbody>\n",
       "</table>\n",
       "</div>"
      ],
      "text/plain": [
       "        CM2_REL\n",
       "count  16088.00\n",
       "mean      12.16\n",
       "std       34.09\n",
       "min    -4153.61\n",
       "25%        7.94\n",
       "50%       12.67\n",
       "75%       17.31\n",
       "max       64.59"
      ]
     },
     "metadata": {},
     "output_type": "display_data"
    },
    {
     "name": "stdout",
     "output_type": "stream",
     "text": [
      "CM2% threshold >= 5  is the percentile 13.87\n",
      "CM2% threshold >= 7  is the percentile 21.01\n",
      "CM2% threshold >=  9.0  is the percentile 30 allowing us to stay with the 70% of our sample\n"
     ]
    },
    {
     "data": {
      "image/png": "[encoded data removed]",
      "text/plain": [
       "<matplotlib.figure.Figure at 0xbb08cf8>"
      ]
     },
     "metadata": {},
     "output_type": "display_data"
    },
    {
     "data": {
      "text/html": [
       "<div>\n",
       "<style scoped>\n",
       "    .dataframe tbody tr th:only-of-type {\n",
       "        vertical-align: middle;\n",
       "    }\n",
       "\n",
       "    .dataframe tbody tr th {\n",
       "        vertical-align: top;\n",
       "    }\n",
       "\n",
       "    .dataframe thead th {\n",
       "        text-align: right;\n",
       "    }\n",
       "</style>\n",
       "<table border=\"1\" class=\"dataframe\">\n",
       "  <thead>\n",
       "    <tr style=\"text-align: right;\">\n",
       "      <th></th>\n",
       "      <th>ORDERS</th>\n",
       "    </tr>\n",
       "  </thead>\n",
       "  <tbody>\n",
       "    <tr>\n",
       "      <th>count</th>\n",
       "      <td>16088.00</td>\n",
       "    </tr>\n",
       "    <tr>\n",
       "      <th>mean</th>\n",
       "      <td>6.50</td>\n",
       "    </tr>\n",
       "    <tr>\n",
       "      <th>std</th>\n",
       "      <td>5.19</td>\n",
       "    </tr>\n",
       "    <tr>\n",
       "      <th>min</th>\n",
       "      <td>1.00</td>\n",
       "    </tr>\n",
       "    <tr>\n",
       "      <th>25%</th>\n",
       "      <td>3.00</td>\n",
       "    </tr>\n",
       "    <tr>\n",
       "      <th>50%</th>\n",
       "      <td>5.00</td>\n",
       "    </tr>\n",
       "    <tr>\n",
       "      <th>75%</th>\n",
       "      <td>8.00</td>\n",
       "    </tr>\n",
       "    <tr>\n",
       "      <th>max</th>\n",
       "      <td>110.00</td>\n",
       "    </tr>\n",
       "  </tbody>\n",
       "</table>\n",
       "</div>"
      ],
      "text/plain": [
       "         ORDERS\n",
       "count  16088.00\n",
       "mean       6.50\n",
       "std        5.19\n",
       "min        1.00\n",
       "25%        3.00\n",
       "50%        5.00\n",
       "75%        8.00\n",
       "max      110.00"
      ]
     },
     "metadata": {},
     "output_type": "display_data"
    },
    {
     "name": "stdout",
     "output_type": "stream",
     "text": [
      "4.0  is the percentile 30 allowing us to stay with the 70% of our sample\n",
      "                                                                                                                    \n",
      "With CM2% threshold >= 5 and Orders >=  4.0  we keep eligible a  61.59  % from our customers\n",
      "With CM2% threshold >= 7 and Orders >=  4.0  we keep eligible a  56.42  % from our customers\n",
      "With CM2% threshold >=  9.0  and Orders >=  4.0  we keep eligible a  49.63  % from our customers\n",
      "                                                                                                                    \n",
      "                                                                                                                    \n",
      "...........................................................TIER  53 ..........................................................\n"
     ]
    },
    {
     "data": {
      "image/png": "[encoded data removed]",
      "text/plain": [
       "<matplotlib.figure.Figure at 0xc142588>"
      ]
     },
     "metadata": {},
     "output_type": "display_data"
    },
    {
     "data": {
      "text/html": [
       "<div>\n",
       "<style scoped>\n",
       "    .dataframe tbody tr th:only-of-type {\n",
       "        vertical-align: middle;\n",
       "    }\n",
       "\n",
       "    .dataframe tbody tr th {\n",
       "        vertical-align: top;\n",
       "    }\n",
       "\n",
       "    .dataframe thead th {\n",
       "        text-align: right;\n",
       "    }\n",
       "</style>\n",
       "<table border=\"1\" class=\"dataframe\">\n",
       "  <thead>\n",
       "    <tr style=\"text-align: right;\">\n",
       "      <th></th>\n",
       "      <th>CM2_REL</th>\n",
       "    </tr>\n",
       "  </thead>\n",
       "  <tbody>\n",
       "    <tr>\n",
       "      <th>count</th>\n",
       "      <td>15992.00</td>\n",
       "    </tr>\n",
       "    <tr>\n",
       "      <th>mean</th>\n",
       "      <td>12.65</td>\n",
       "    </tr>\n",
       "    <tr>\n",
       "      <th>std</th>\n",
       "      <td>62.93</td>\n",
       "    </tr>\n",
       "    <tr>\n",
       "      <th>min</th>\n",
       "      <td>-7822.45</td>\n",
       "    </tr>\n",
       "    <tr>\n",
       "      <th>25%</th>\n",
       "      <td>7.66</td>\n",
       "    </tr>\n",
       "    <tr>\n",
       "      <th>50%</th>\n",
       "      <td>13.12</td>\n",
       "    </tr>\n",
       "    <tr>\n",
       "      <th>75%</th>\n",
       "      <td>18.87</td>\n",
       "    </tr>\n",
       "    <tr>\n",
       "      <th>max</th>\n",
       "      <td>74.37</td>\n",
       "    </tr>\n",
       "  </tbody>\n",
       "</table>\n",
       "</div>"
      ],
      "text/plain": [
       "        CM2_REL\n",
       "count  15992.00\n",
       "mean      12.65\n",
       "std       62.93\n",
       "min    -7822.45\n",
       "25%        7.66\n",
       "50%       13.12\n",
       "75%       18.87\n",
       "max       74.37"
      ]
     },
     "metadata": {},
     "output_type": "display_data"
    },
    {
     "name": "stdout",
     "output_type": "stream",
     "text": [
      "CM2% threshold >= 5  is the percentile 15.61\n",
      "CM2% threshold >= 7  is the percentile 22.19\n",
      "CM2% threshold >=  8.9  is the percentile 30 allowing us to stay with the 70% of our sample\n"
     ]
    },
    {
     "data": {
      "image/png": "[encoded data removed]",
      "text/plain": [
       "<matplotlib.figure.Figure at 0xb5639e8>"
      ]
     },
     "metadata": {},
     "output_type": "display_data"
    },
    {
     "data": {
      "text/html": [
       "<div>\n",
       "<style scoped>\n",
       "    .dataframe tbody tr th:only-of-type {\n",
       "        vertical-align: middle;\n",
       "    }\n",
       "\n",
       "    .dataframe tbody tr th {\n",
       "        vertical-align: top;\n",
       "    }\n",
       "\n",
       "    .dataframe thead th {\n",
       "        text-align: right;\n",
       "    }\n",
       "</style>\n",
       "<table border=\"1\" class=\"dataframe\">\n",
       "  <thead>\n",
       "    <tr style=\"text-align: right;\">\n",
       "      <th></th>\n",
       "      <th>ORDERS</th>\n",
       "    </tr>\n",
       "  </thead>\n",
       "  <tbody>\n",
       "    <tr>\n",
       "      <th>count</th>\n",
       "      <td>15992.00</td>\n",
       "    </tr>\n",
       "    <tr>\n",
       "      <th>mean</th>\n",
       "      <td>6.33</td>\n",
       "    </tr>\n",
       "    <tr>\n",
       "      <th>std</th>\n",
       "      <td>7.36</td>\n",
       "    </tr>\n",
       "    <tr>\n",
       "      <th>min</th>\n",
       "      <td>1.00</td>\n",
       "    </tr>\n",
       "    <tr>\n",
       "      <th>25%</th>\n",
       "      <td>3.00</td>\n",
       "    </tr>\n",
       "    <tr>\n",
       "      <th>50%</th>\n",
       "      <td>5.00</td>\n",
       "    </tr>\n",
       "    <tr>\n",
       "      <th>75%</th>\n",
       "      <td>8.00</td>\n",
       "    </tr>\n",
       "    <tr>\n",
       "      <th>max</th>\n",
       "      <td>717.00</td>\n",
       "    </tr>\n",
       "  </tbody>\n",
       "</table>\n",
       "</div>"
      ],
      "text/plain": [
       "         ORDERS\n",
       "count  15992.00\n",
       "mean       6.33\n",
       "std        7.36\n",
       "min        1.00\n",
       "25%        3.00\n",
       "50%        5.00\n",
       "75%        8.00\n",
       "max      717.00"
      ]
     },
     "metadata": {},
     "output_type": "display_data"
    },
    {
     "name": "stdout",
     "output_type": "stream",
     "text": [
      "3.0  is the percentile 30 allowing us to stay with the 70% of our sample\n",
      "                                                                                                                    \n",
      "With CM2% threshold >= 5 and Orders >=  3.0  we keep eligible a  69.88  % from our customers\n",
      "With CM2% threshold >= 7 and Orders >=  3.0  we keep eligible a  64.25  % from our customers\n",
      "With CM2% threshold >=  8.9  and Orders >=  3.0  we keep eligible a  57.59  % from our customers\n",
      "                                                                                                                    \n",
      "                                                                                                                    \n",
      "...........................................................TIER  54 ..........................................................\n"
     ]
    },
    {
     "data": {
      "image/png": "[encoded data removed]",
      "text/plain": [
       "<matplotlib.figure.Figure at 0xba788d0>"
      ]
     },
     "metadata": {},
     "output_type": "display_data"
    },
    {
     "data": {
      "text/html": [
       "<div>\n",
       "<style scoped>\n",
       "    .dataframe tbody tr th:only-of-type {\n",
       "        vertical-align: middle;\n",
       "    }\n",
       "\n",
       "    .dataframe tbody tr th {\n",
       "        vertical-align: top;\n",
       "    }\n",
       "\n",
       "    .dataframe thead th {\n",
       "        text-align: right;\n",
       "    }\n",
       "</style>\n",
       "<table border=\"1\" class=\"dataframe\">\n",
       "  <thead>\n",
       "    <tr style=\"text-align: right;\">\n",
       "      <th></th>\n",
       "      <th>CM2_REL</th>\n",
       "    </tr>\n",
       "  </thead>\n",
       "  <tbody>\n",
       "    <tr>\n",
       "      <th>count</th>\n",
       "      <td>13023.00</td>\n",
       "    </tr>\n",
       "    <tr>\n",
       "      <th>mean</th>\n",
       "      <td>10.38</td>\n",
       "    </tr>\n",
       "    <tr>\n",
       "      <th>std</th>\n",
       "      <td>28.42</td>\n",
       "    </tr>\n",
       "    <tr>\n",
       "      <th>min</th>\n",
       "      <td>-2457.01</td>\n",
       "    </tr>\n",
       "    <tr>\n",
       "      <th>25%</th>\n",
       "      <td>5.79</td>\n",
       "    </tr>\n",
       "    <tr>\n",
       "      <th>50%</th>\n",
       "      <td>10.88</td>\n",
       "    </tr>\n",
       "    <tr>\n",
       "      <th>75%</th>\n",
       "      <td>16.20</td>\n",
       "    </tr>\n",
       "    <tr>\n",
       "      <th>max</th>\n",
       "      <td>64.82</td>\n",
       "    </tr>\n",
       "  </tbody>\n",
       "</table>\n",
       "</div>"
      ],
      "text/plain": [
       "        CM2_REL\n",
       "count  13023.00\n",
       "mean      10.38\n",
       "std       28.42\n",
       "min    -2457.01\n",
       "25%        5.79\n",
       "50%       10.88\n",
       "75%       16.20\n",
       "max       64.82"
      ]
     },
     "metadata": {},
     "output_type": "display_data"
    },
    {
     "name": "stdout",
     "output_type": "stream",
     "text": [
      "CM2% threshold >= 5  is the percentile 21.68\n",
      "CM2% threshold >= 7  is the percentile 30.01\n",
      "CM2% threshold >=  6.99  is the percentile 30 allowing us to stay with the 70% of our sample\n"
     ]
    },
    {
     "data": {
      "image/png": "[encoded data removed]",
      "text/plain": [
       "<matplotlib.figure.Figure at 0xbfb0be0>"
      ]
     },
     "metadata": {},
     "output_type": "display_data"
    },
    {
     "data": {
      "text/html": [
       "<div>\n",
       "<style scoped>\n",
       "    .dataframe tbody tr th:only-of-type {\n",
       "        vertical-align: middle;\n",
       "    }\n",
       "\n",
       "    .dataframe tbody tr th {\n",
       "        vertical-align: top;\n",
       "    }\n",
       "\n",
       "    .dataframe thead th {\n",
       "        text-align: right;\n",
       "    }\n",
       "</style>\n",
       "<table border=\"1\" class=\"dataframe\">\n",
       "  <thead>\n",
       "    <tr style=\"text-align: right;\">\n",
       "      <th></th>\n",
       "      <th>ORDERS</th>\n",
       "    </tr>\n",
       "  </thead>\n",
       "  <tbody>\n",
       "    <tr>\n",
       "      <th>count</th>\n",
       "      <td>13023.00</td>\n",
       "    </tr>\n",
       "    <tr>\n",
       "      <th>mean</th>\n",
       "      <td>6.80</td>\n",
       "    </tr>\n",
       "    <tr>\n",
       "      <th>std</th>\n",
       "      <td>8.01</td>\n",
       "    </tr>\n",
       "    <tr>\n",
       "      <th>min</th>\n",
       "      <td>1.00</td>\n",
       "    </tr>\n",
       "    <tr>\n",
       "      <th>25%</th>\n",
       "      <td>3.00</td>\n",
       "    </tr>\n",
       "    <tr>\n",
       "      <th>50%</th>\n",
       "      <td>5.00</td>\n",
       "    </tr>\n",
       "    <tr>\n",
       "      <th>75%</th>\n",
       "      <td>9.00</td>\n",
       "    </tr>\n",
       "    <tr>\n",
       "      <th>max</th>\n",
       "      <td>466.00</td>\n",
       "    </tr>\n",
       "  </tbody>\n",
       "</table>\n",
       "</div>"
      ],
      "text/plain": [
       "         ORDERS\n",
       "count  13023.00\n",
       "mean       6.80\n",
       "std        8.01\n",
       "min        1.00\n",
       "25%        3.00\n",
       "50%        5.00\n",
       "75%        9.00\n",
       "max      466.00"
      ]
     },
     "metadata": {},
     "output_type": "display_data"
    },
    {
     "name": "stdout",
     "output_type": "stream",
     "text": [
      "4.0  is the percentile 30 allowing us to stay with the 70% of our sample\n",
      "                                                                                                                    \n",
      "With CM2% threshold >= 5 and Orders >=  4.0  we keep eligible a  55.86  % from our customers\n",
      "With CM2% threshold >= 7 and Orders >=  4.0  we keep eligible a  49.52  % from our customers\n",
      "With CM2% threshold >=  6.99  and Orders >=  4.0  we keep eligible a  49.53  % from our customers\n",
      "                                                                                                                    \n",
      "                                                                                                                    \n",
      "...........................................................TIER  55 ..........................................................\n"
     ]
    },
    {
     "data": {
      "image/png": "[encoded data removed]",
      "text/plain": [
       "<matplotlib.figure.Figure at 0xc0fc978>"
      ]
     },
     "metadata": {},
     "output_type": "display_data"
    },
    {
     "data": {
      "text/html": [
       "<div>\n",
       "<style scoped>\n",
       "    .dataframe tbody tr th:only-of-type {\n",
       "        vertical-align: middle;\n",
       "    }\n",
       "\n",
       "    .dataframe tbody tr th {\n",
       "        vertical-align: top;\n",
       "    }\n",
       "\n",
       "    .dataframe thead th {\n",
       "        text-align: right;\n",
       "    }\n",
       "</style>\n",
       "<table border=\"1\" class=\"dataframe\">\n",
       "  <thead>\n",
       "    <tr style=\"text-align: right;\">\n",
       "      <th></th>\n",
       "      <th>CM2_REL</th>\n",
       "    </tr>\n",
       "  </thead>\n",
       "  <tbody>\n",
       "    <tr>\n",
       "      <th>count</th>\n",
       "      <td>2934.00</td>\n",
       "    </tr>\n",
       "    <tr>\n",
       "      <th>mean</th>\n",
       "      <td>11.30</td>\n",
       "    </tr>\n",
       "    <tr>\n",
       "      <th>std</th>\n",
       "      <td>9.83</td>\n",
       "    </tr>\n",
       "    <tr>\n",
       "      <th>min</th>\n",
       "      <td>-153.95</td>\n",
       "    </tr>\n",
       "    <tr>\n",
       "      <th>25%</th>\n",
       "      <td>6.02</td>\n",
       "    </tr>\n",
       "    <tr>\n",
       "      <th>50%</th>\n",
       "      <td>11.54</td>\n",
       "    </tr>\n",
       "    <tr>\n",
       "      <th>75%</th>\n",
       "      <td>16.84</td>\n",
       "    </tr>\n",
       "    <tr>\n",
       "      <th>max</th>\n",
       "      <td>43.21</td>\n",
       "    </tr>\n",
       "  </tbody>\n",
       "</table>\n",
       "</div>"
      ],
      "text/plain": [
       "       CM2_REL\n",
       "count  2934.00\n",
       "mean     11.30\n",
       "std       9.83\n",
       "min    -153.95\n",
       "25%       6.02\n",
       "50%      11.54\n",
       "75%      16.84\n",
       "max      43.21"
      ]
     },
     "metadata": {},
     "output_type": "display_data"
    },
    {
     "name": "stdout",
     "output_type": "stream",
     "text": [
      "CM2% threshold >= 5  is the percentile 21.1\n",
      "CM2% threshold >= 7  is the percentile 29.21\n",
      "CM2% threshold >=  7.13  is the percentile 30 allowing us to stay with the 70% of our sample\n"
     ]
    },
    {
     "data": {
      "image/png": "[encoded data removed]",
      "text/plain": [
       "<matplotlib.figure.Figure at 0xc210278>"
      ]
     },
     "metadata": {},
     "output_type": "display_data"
    },
    {
     "data": {
      "text/html": [
       "<div>\n",
       "<style scoped>\n",
       "    .dataframe tbody tr th:only-of-type {\n",
       "        vertical-align: middle;\n",
       "    }\n",
       "\n",
       "    .dataframe tbody tr th {\n",
       "        vertical-align: top;\n",
       "    }\n",
       "\n",
       "    .dataframe thead th {\n",
       "        text-align: right;\n",
       "    }\n",
       "</style>\n",
       "<table border=\"1\" class=\"dataframe\">\n",
       "  <thead>\n",
       "    <tr style=\"text-align: right;\">\n",
       "      <th></th>\n",
       "      <th>ORDERS</th>\n",
       "    </tr>\n",
       "  </thead>\n",
       "  <tbody>\n",
       "    <tr>\n",
       "      <th>count</th>\n",
       "      <td>2934.00</td>\n",
       "    </tr>\n",
       "    <tr>\n",
       "      <th>mean</th>\n",
       "      <td>3.88</td>\n",
       "    </tr>\n",
       "    <tr>\n",
       "      <th>std</th>\n",
       "      <td>2.92</td>\n",
       "    </tr>\n",
       "    <tr>\n",
       "      <th>min</th>\n",
       "      <td>1.00</td>\n",
       "    </tr>\n",
       "    <tr>\n",
       "      <th>25%</th>\n",
       "      <td>2.00</td>\n",
       "    </tr>\n",
       "    <tr>\n",
       "      <th>50%</th>\n",
       "      <td>3.00</td>\n",
       "    </tr>\n",
       "    <tr>\n",
       "      <th>75%</th>\n",
       "      <td>5.00</td>\n",
       "    </tr>\n",
       "    <tr>\n",
       "      <th>max</th>\n",
       "      <td>32.00</td>\n",
       "    </tr>\n",
       "  </tbody>\n",
       "</table>\n",
       "</div>"
      ],
      "text/plain": [
       "        ORDERS\n",
       "count  2934.00\n",
       "mean      3.88\n",
       "std       2.92\n",
       "min       1.00\n",
       "25%       2.00\n",
       "50%       3.00\n",
       "75%       5.00\n",
       "max      32.00"
      ]
     },
     "metadata": {},
     "output_type": "display_data"
    },
    {
     "name": "stdout",
     "output_type": "stream",
     "text": [
      "2.0  is the percentile 30 allowing us to stay with the 70% of our sample\n",
      "                                                                                                                    \n",
      "With CM2% threshold >= 5 and Orders >=  2.0  we keep eligible a  66.05  % from our customers\n",
      "With CM2% threshold >= 7 and Orders >=  2.0  we keep eligible a  59.1  % from our customers\n",
      "With CM2% threshold >=  7.13  and Orders >=  2.0  we keep eligible a  58.49  % from our customers\n",
      "                                                                                                                    \n",
      "                                                                                                                    \n",
      "...........................................................TIER  56 ..........................................................\n"
     ]
    },
    {
     "data": {
      "image/png": "[encoded data removed]",
      "text/plain": [
       "<matplotlib.figure.Figure at 0xc257eb8>"
      ]
     },
     "metadata": {},
     "output_type": "display_data"
    },
    {
     "data": {
      "text/html": [
       "<div>\n",
       "<style scoped>\n",
       "    .dataframe tbody tr th:only-of-type {\n",
       "        vertical-align: middle;\n",
       "    }\n",
       "\n",
       "    .dataframe tbody tr th {\n",
       "        vertical-align: top;\n",
       "    }\n",
       "\n",
       "    .dataframe thead th {\n",
       "        text-align: right;\n",
       "    }\n",
       "</style>\n",
       "<table border=\"1\" class=\"dataframe\">\n",
       "  <thead>\n",
       "    <tr style=\"text-align: right;\">\n",
       "      <th></th>\n",
       "      <th>CM2_REL</th>\n",
       "    </tr>\n",
       "  </thead>\n",
       "  <tbody>\n",
       "    <tr>\n",
       "      <th>count</th>\n",
       "      <td>23279.00</td>\n",
       "    </tr>\n",
       "    <tr>\n",
       "      <th>mean</th>\n",
       "      <td>9.72</td>\n",
       "    </tr>\n",
       "    <tr>\n",
       "      <th>std</th>\n",
       "      <td>11.67</td>\n",
       "    </tr>\n",
       "    <tr>\n",
       "      <th>min</th>\n",
       "      <td>-652.44</td>\n",
       "    </tr>\n",
       "    <tr>\n",
       "      <th>25%</th>\n",
       "      <td>4.66</td>\n",
       "    </tr>\n",
       "    <tr>\n",
       "      <th>50%</th>\n",
       "      <td>9.97</td>\n",
       "    </tr>\n",
       "    <tr>\n",
       "      <th>75%</th>\n",
       "      <td>15.28</td>\n",
       "    </tr>\n",
       "    <tr>\n",
       "      <th>max</th>\n",
       "      <td>51.60</td>\n",
       "    </tr>\n",
       "  </tbody>\n",
       "</table>\n",
       "</div>"
      ],
      "text/plain": [
       "        CM2_REL\n",
       "count  23279.00\n",
       "mean       9.72\n",
       "std       11.67\n",
       "min     -652.44\n",
       "25%        4.66\n",
       "50%        9.97\n",
       "75%       15.28\n",
       "max       51.60"
      ]
     },
     "metadata": {},
     "output_type": "display_data"
    },
    {
     "name": "stdout",
     "output_type": "stream",
     "text": [
      "CM2% threshold >= 5  is the percentile 26.38\n",
      "CM2% threshold >= 7  is the percentile 35.17\n",
      "CM2% threshold >=  5.82  is the percentile 30 allowing us to stay with the 70% of our sample\n"
     ]
    },
    {
     "data": {
      "image/png": "[encoded data removed]",
      "text/plain": [
       "<matplotlib.figure.Figure at 0xb239860>"
      ]
     },
     "metadata": {},
     "output_type": "display_data"
    },
    {
     "data": {
      "text/html": [
       "<div>\n",
       "<style scoped>\n",
       "    .dataframe tbody tr th:only-of-type {\n",
       "        vertical-align: middle;\n",
       "    }\n",
       "\n",
       "    .dataframe tbody tr th {\n",
       "        vertical-align: top;\n",
       "    }\n",
       "\n",
       "    .dataframe thead th {\n",
       "        text-align: right;\n",
       "    }\n",
       "</style>\n",
       "<table border=\"1\" class=\"dataframe\">\n",
       "  <thead>\n",
       "    <tr style=\"text-align: right;\">\n",
       "      <th></th>\n",
       "      <th>ORDERS</th>\n",
       "    </tr>\n",
       "  </thead>\n",
       "  <tbody>\n",
       "    <tr>\n",
       "      <th>count</th>\n",
       "      <td>23279.00</td>\n",
       "    </tr>\n",
       "    <tr>\n",
       "      <th>mean</th>\n",
       "      <td>4.59</td>\n",
       "    </tr>\n",
       "    <tr>\n",
       "      <th>std</th>\n",
       "      <td>5.82</td>\n",
       "    </tr>\n",
       "    <tr>\n",
       "      <th>min</th>\n",
       "      <td>1.00</td>\n",
       "    </tr>\n",
       "    <tr>\n",
       "      <th>25%</th>\n",
       "      <td>2.00</td>\n",
       "    </tr>\n",
       "    <tr>\n",
       "      <th>50%</th>\n",
       "      <td>4.00</td>\n",
       "    </tr>\n",
       "    <tr>\n",
       "      <th>75%</th>\n",
       "      <td>6.00</td>\n",
       "    </tr>\n",
       "    <tr>\n",
       "      <th>max</th>\n",
       "      <td>687.00</td>\n",
       "    </tr>\n",
       "  </tbody>\n",
       "</table>\n",
       "</div>"
      ],
      "text/plain": [
       "         ORDERS\n",
       "count  23279.00\n",
       "mean       4.59\n",
       "std        5.82\n",
       "min        1.00\n",
       "25%        2.00\n",
       "50%        4.00\n",
       "75%        6.00\n",
       "max      687.00"
      ]
     },
     "metadata": {},
     "output_type": "display_data"
    },
    {
     "name": "stdout",
     "output_type": "stream",
     "text": [
      "3.0  is the percentile 30 allowing us to stay with the 70% of our sample\n",
      "                                                                                                                    \n",
      "With CM2% threshold >= 5 and Orders >=  3.0  we keep eligible a  52.26  % from our customers\n",
      "With CM2% threshold >= 7 and Orders >=  3.0  we keep eligible a  45.55  % from our customers\n",
      "With CM2% threshold >=  5.82  and Orders >=  3.0  we keep eligible a  49.48  % from our customers\n",
      "                                                                                                                    \n",
      "                                                                                                                    \n"
     ]
    }
   ],
   "source": [
    "for tq in tiers:\n",
    "    data_tier = data[data['ZTQ_ID'] == tq]\n",
    "    print('...........................................................TIER ', tq, '..........................................................')\n",
    "    # CM2% per customer\n",
    "    plt.figure(figsize=(16,4))\n",
    "    data_tier['CM2_REL'].hist(bins=100, range=(-50, 50))\n",
    "    title = 'Tier ' + str(tq) + '  Relative CM2 % per customer histogram'\n",
    "    plt.title(title)\n",
    "    plt.show()\n",
    "    display(pd.DataFrame(data_tier['CM2_REL'].fillna(0).describe().round(2)))\n",
    "    perc_30_cm2_rel = data_tier['CM2_REL'].fillna(0).quantile(.3)\n",
    "    print('CM2% threshold >= 5  is the percentile', stats.percentileofscore(data_tier['CM2_REL'], 5, kind='strict').round(2))\n",
    "    print('CM2% threshold >= 7  is the percentile', stats.percentileofscore(data_tier['CM2_REL'], 7, kind='strict').round(2))\n",
    "    print('CM2% threshold >= ', perc_30_cm2_rel, ' is the percentile 30 allowing us to stay with the 70% of our sample')\n",
    "    # CM2 € per customer\n",
    "    #plt.figure(figsize=(16,4))\n",
    "    #data_tier['TOTAL_CM2'].hist(bins=200, range=(-50, 150))\n",
    "    #title = 'Tier ' + str(tq) + ' Absolute CM2 per customer histogram'\n",
    "    #plt.title(title)\n",
    "    #plt.show()\n",
    "    #display(pd.DataFrame(data_tier['TOTAL_CM2'].describe().round(2)))\n",
    "    #perc_30_cm2_abs = data_tier['TOTAL_CM2'].fillna(0).quantile(.3)\n",
    "    #val1 = float(data_tier[(data_tier['CM2_REL'] >= 5) & (data_tier['TOTAL_CM2'] >= perc_30_cm2_abs)]['CUSTOMER_ID'].nunique()) / data_tier['CUSTOMER_ID'].nunique() * 100\n",
    "    #val2 = float(data_tier[(data_tier['CM2_REL'] >= 7) & (data_tier['TOTAL_CM2'] >= perc_30_cm2_abs)]['CUSTOMER_ID'].nunique()) / data_tier['CUSTOMER_ID'].nunique() * 100\n",
    "    #val3 = float(data_tier[(data_tier['CM2_REL'] >= perc_30_cm2_rel) & (data_tier['TOTAL_CM2'] >= perc_30_cm2_abs)]['CUSTOMER_ID'].nunique()) / data_tier['CUSTOMER_ID'].nunique() * 100\n",
    "    #print(perc_30_cm2_abs, ' is the percentile 30 allowing us to stay with the 70% of our sample')\n",
    "    #print('                                                                                                                    ')\n",
    "    #print('With CM2% threshold >= 5 and CM2 >= ', perc_30_cm2_abs, ' we keep eligible a ', np.round(val1, 2), ' % from our customers')\n",
    "    #print('With CM2% threshold >= 7 and CM2 >= ', perc_30_cm2_abs, ' we keep eligible a ', np.round(val2, 2), ' % from our customers')\n",
    "    #print('With CM2% threshold >= ', perc_30_cm2_rel, ' and CM2 >= ', perc_30_cm2_abs, ' we keep eligible a ', np.round(val3, 2), ' % from our customers')\n",
    "    # Orders per customer\n",
    "    plt.figure(figsize=(16,4))\n",
    "    data_tier['ORDERS'].hist(bins=30, range=(0, 30))\n",
    "    title = 'Tier ' + str(tq) + ' Orders per customer histogram'\n",
    "    plt.title(title)\n",
    "    plt.show()\n",
    "    display(pd.DataFrame(data_tier['ORDERS'].describe().round(2)))\n",
    "    perc_30_orders = data_tier['ORDERS'].quantile(.3)\n",
    "    val4 = float(data_tier[(data_tier['CM2_REL'] >= 5) & (data_tier['ORDERS'] >= perc_30_orders)]['CUSTOMER_ID'].nunique()) / data_tier['CUSTOMER_ID'].nunique() * 100\n",
    "    val5 = float(data_tier[(data_tier['CM2_REL'] >= 7) & (data_tier['ORDERS'] >= perc_30_orders)]['CUSTOMER_ID'].nunique()) / data_tier['CUSTOMER_ID'].nunique() * 100\n",
    "    val6 = float(data_tier[(data_tier['CM2_REL'] >= perc_30_cm2_rel) & (data_tier['ORDERS'] >= perc_30_orders)]['CUSTOMER_ID'].nunique()) / data_tier['CUSTOMER_ID'].nunique() * 100\n",
    "    print(perc_30_orders, ' is the percentile 30 allowing us to stay with the 70% of our sample')\n",
    "    print('                                                                                                                    ')\n",
    "    print('With CM2% threshold >= 5 and Orders >= ', perc_30_orders, ' we keep eligible a ', np.round(val4, 2), ' % from our customers')\n",
    "    print('With CM2% threshold >= 7 and Orders >= ', perc_30_orders, ' we keep eligible a ', np.round(val5, 2), ' % from our customers')\n",
    "    print('With CM2% threshold >= ', perc_30_cm2_rel, ' and Orders >= ', perc_30_orders, ' we keep eligible a ', np.round(val6, 2), ' % from our customers')\n",
    "    print('                                                                                                                    ')\n",
    "    print('                                                                                                                    ')"
   ]
  },
  {
   "cell_type": "code",
   "execution_count": 13,
   "metadata": {
    "ExecuteTime": {
     "end_time": "2018-06-22T10:40:52.780842Z",
     "start_time": "2018-06-22T10:40:52.762840Z"
    }
   },
   "outputs": [],
   "source": [
    "data['NET_BASKET_VALUE'] = data['NET_SALES'] / data['ORDERS']"
   ]
  },
  {
   "cell_type": "code",
   "execution_count": 14,
   "metadata": {
    "ExecuteTime": {
     "end_time": "2018-06-22T10:40:52.821846Z",
     "start_time": "2018-06-22T10:40:52.781842Z"
    }
   },
   "outputs": [
    {
     "data": {
      "text/html": [
       "<div>\n",
       "<style scoped>\n",
       "    .dataframe tbody tr th:only-of-type {\n",
       "        vertical-align: middle;\n",
       "    }\n",
       "\n",
       "    .dataframe tbody tr th {\n",
       "        vertical-align: top;\n",
       "    }\n",
       "\n",
       "    .dataframe thead th {\n",
       "        text-align: right;\n",
       "    }\n",
       "</style>\n",
       "<table border=\"1\" class=\"dataframe\">\n",
       "  <thead>\n",
       "    <tr style=\"text-align: right;\">\n",
       "      <th></th>\n",
       "      <th>count</th>\n",
       "      <th>mean</th>\n",
       "      <th>std</th>\n",
       "      <th>min</th>\n",
       "      <th>25%</th>\n",
       "      <th>50%</th>\n",
       "      <th>75%</th>\n",
       "      <th>max</th>\n",
       "    </tr>\n",
       "    <tr>\n",
       "      <th>ZTQ_ID</th>\n",
       "      <th></th>\n",
       "      <th></th>\n",
       "      <th></th>\n",
       "      <th></th>\n",
       "      <th></th>\n",
       "      <th></th>\n",
       "      <th></th>\n",
       "      <th></th>\n",
       "    </tr>\n",
       "  </thead>\n",
       "  <tbody>\n",
       "    <tr>\n",
       "      <th>51</th>\n",
       "      <td>17136.0</td>\n",
       "      <td>63.252403</td>\n",
       "      <td>29.989926</td>\n",
       "      <td>3.774587</td>\n",
       "      <td>44.148561</td>\n",
       "      <td>56.341400</td>\n",
       "      <td>73.930771</td>\n",
       "      <td>1059.337900</td>\n",
       "    </tr>\n",
       "    <tr>\n",
       "      <th>52</th>\n",
       "      <td>8833.0</td>\n",
       "      <td>72.502470</td>\n",
       "      <td>36.029840</td>\n",
       "      <td>6.797125</td>\n",
       "      <td>48.873033</td>\n",
       "      <td>63.929500</td>\n",
       "      <td>85.885175</td>\n",
       "      <td>495.047962</td>\n",
       "    </tr>\n",
       "    <tr>\n",
       "      <th>53</th>\n",
       "      <td>8875.0</td>\n",
       "      <td>66.296258</td>\n",
       "      <td>31.522197</td>\n",
       "      <td>8.782200</td>\n",
       "      <td>45.793595</td>\n",
       "      <td>59.469200</td>\n",
       "      <td>77.504458</td>\n",
       "      <td>442.744160</td>\n",
       "    </tr>\n",
       "    <tr>\n",
       "      <th>54</th>\n",
       "      <td>6923.0</td>\n",
       "      <td>78.154744</td>\n",
       "      <td>41.800664</td>\n",
       "      <td>14.387325</td>\n",
       "      <td>51.771330</td>\n",
       "      <td>68.431667</td>\n",
       "      <td>92.661691</td>\n",
       "      <td>735.204850</td>\n",
       "    </tr>\n",
       "    <tr>\n",
       "      <th>55</th>\n",
       "      <td>1185.0</td>\n",
       "      <td>54.229848</td>\n",
       "      <td>22.941046</td>\n",
       "      <td>17.983600</td>\n",
       "      <td>38.841500</td>\n",
       "      <td>48.985575</td>\n",
       "      <td>63.312629</td>\n",
       "      <td>282.971300</td>\n",
       "    </tr>\n",
       "    <tr>\n",
       "      <th>56</th>\n",
       "      <td>11209.0</td>\n",
       "      <td>61.695859</td>\n",
       "      <td>28.465423</td>\n",
       "      <td>10.603260</td>\n",
       "      <td>42.868825</td>\n",
       "      <td>54.700775</td>\n",
       "      <td>72.334050</td>\n",
       "      <td>377.702586</td>\n",
       "    </tr>\n",
       "  </tbody>\n",
       "</table>\n",
       "</div>"
      ],
      "text/plain": [
       "          count       mean        std        min        25%        50%  \\\n",
       "ZTQ_ID                                                                   \n",
       "51      17136.0  63.252403  29.989926   3.774587  44.148561  56.341400   \n",
       "52       8833.0  72.502470  36.029840   6.797125  48.873033  63.929500   \n",
       "53       8875.0  66.296258  31.522197   8.782200  45.793595  59.469200   \n",
       "54       6923.0  78.154744  41.800664  14.387325  51.771330  68.431667   \n",
       "55       1185.0  54.229848  22.941046  17.983600  38.841500  48.985575   \n",
       "56      11209.0  61.695859  28.465423  10.603260  42.868825  54.700775   \n",
       "\n",
       "              75%          max  \n",
       "ZTQ_ID                          \n",
       "51      73.930771  1059.337900  \n",
       "52      85.885175   495.047962  \n",
       "53      77.504458   442.744160  \n",
       "54      92.661691   735.204850  \n",
       "55      63.312629   282.971300  \n",
       "56      72.334050   377.702586  "
      ]
     },
     "execution_count": 14,
     "metadata": {},
     "output_type": "execute_result"
    }
   ],
   "source": [
    "data[(data['ORDERS'] >= 4) & (data['ORDERS'] <= 10)].groupby('ZTQ_ID')['NET_BASKET_VALUE'].describe()"
   ]
  },
  {
   "cell_type": "code",
   "execution_count": 15,
   "metadata": {
    "ExecuteTime": {
     "end_time": "2018-06-22T10:40:52.857850Z",
     "start_time": "2018-06-22T10:40:52.823847Z"
    }
   },
   "outputs": [
    {
     "data": {
      "text/html": [
       "<div>\n",
       "<style scoped>\n",
       "    .dataframe tbody tr th:only-of-type {\n",
       "        vertical-align: middle;\n",
       "    }\n",
       "\n",
       "    .dataframe tbody tr th {\n",
       "        vertical-align: top;\n",
       "    }\n",
       "\n",
       "    .dataframe thead th {\n",
       "        text-align: right;\n",
       "    }\n",
       "</style>\n",
       "<table border=\"1\" class=\"dataframe\">\n",
       "  <thead>\n",
       "    <tr style=\"text-align: right;\">\n",
       "      <th></th>\n",
       "      <th>count</th>\n",
       "      <th>mean</th>\n",
       "      <th>std</th>\n",
       "      <th>min</th>\n",
       "      <th>25%</th>\n",
       "      <th>50%</th>\n",
       "      <th>75%</th>\n",
       "      <th>max</th>\n",
       "    </tr>\n",
       "    <tr>\n",
       "      <th>ZTQ_ID</th>\n",
       "      <th></th>\n",
       "      <th></th>\n",
       "      <th></th>\n",
       "      <th></th>\n",
       "      <th></th>\n",
       "      <th></th>\n",
       "      <th></th>\n",
       "      <th></th>\n",
       "    </tr>\n",
       "  </thead>\n",
       "  <tbody>\n",
       "    <tr>\n",
       "      <th>51</th>\n",
       "      <td>17136.0</td>\n",
       "      <td>13.146545</td>\n",
       "      <td>9.481024</td>\n",
       "      <td>-775.22</td>\n",
       "      <td>9.090</td>\n",
       "      <td>13.49</td>\n",
       "      <td>17.630</td>\n",
       "      <td>45.26</td>\n",
       "    </tr>\n",
       "    <tr>\n",
       "      <th>52</th>\n",
       "      <td>8833.0</td>\n",
       "      <td>12.343600</td>\n",
       "      <td>9.286780</td>\n",
       "      <td>-375.31</td>\n",
       "      <td>8.180</td>\n",
       "      <td>12.66</td>\n",
       "      <td>17.100</td>\n",
       "      <td>39.51</td>\n",
       "    </tr>\n",
       "    <tr>\n",
       "      <th>53</th>\n",
       "      <td>8875.0</td>\n",
       "      <td>13.062873</td>\n",
       "      <td>10.249004</td>\n",
       "      <td>-419.19</td>\n",
       "      <td>7.735</td>\n",
       "      <td>13.00</td>\n",
       "      <td>18.455</td>\n",
       "      <td>57.03</td>\n",
       "    </tr>\n",
       "    <tr>\n",
       "      <th>54</th>\n",
       "      <td>6923.0</td>\n",
       "      <td>10.981856</td>\n",
       "      <td>8.551689</td>\n",
       "      <td>-163.26</td>\n",
       "      <td>6.120</td>\n",
       "      <td>10.90</td>\n",
       "      <td>15.985</td>\n",
       "      <td>41.96</td>\n",
       "    </tr>\n",
       "    <tr>\n",
       "      <th>55</th>\n",
       "      <td>1185.0</td>\n",
       "      <td>10.457013</td>\n",
       "      <td>10.690449</td>\n",
       "      <td>-153.95</td>\n",
       "      <td>5.710</td>\n",
       "      <td>11.24</td>\n",
       "      <td>15.720</td>\n",
       "      <td>41.04</td>\n",
       "    </tr>\n",
       "    <tr>\n",
       "      <th>56</th>\n",
       "      <td>11209.0</td>\n",
       "      <td>9.198747</td>\n",
       "      <td>9.399022</td>\n",
       "      <td>-267.09</td>\n",
       "      <td>4.500</td>\n",
       "      <td>9.42</td>\n",
       "      <td>14.390</td>\n",
       "      <td>43.86</td>\n",
       "    </tr>\n",
       "  </tbody>\n",
       "</table>\n",
       "</div>"
      ],
      "text/plain": [
       "          count       mean        std     min    25%    50%     75%    max\n",
       "ZTQ_ID                                                                    \n",
       "51      17136.0  13.146545   9.481024 -775.22  9.090  13.49  17.630  45.26\n",
       "52       8833.0  12.343600   9.286780 -375.31  8.180  12.66  17.100  39.51\n",
       "53       8875.0  13.062873  10.249004 -419.19  7.735  13.00  18.455  57.03\n",
       "54       6923.0  10.981856   8.551689 -163.26  6.120  10.90  15.985  41.96\n",
       "55       1185.0  10.457013  10.690449 -153.95  5.710  11.24  15.720  41.04\n",
       "56      11209.0   9.198747   9.399022 -267.09  4.500   9.42  14.390  43.86"
      ]
     },
     "execution_count": 15,
     "metadata": {},
     "output_type": "execute_result"
    }
   ],
   "source": [
    "data[(data['ORDERS'] >= 4) & (data['ORDERS'] <= 10)].groupby('ZTQ_ID')['CM2_REL'].describe()"
   ]
  },
  {
   "cell_type": "code",
   "execution_count": 16,
   "metadata": {
    "ExecuteTime": {
     "end_time": "2018-06-22T10:40:53.173882Z",
     "start_time": "2018-06-22T10:40:52.858850Z"
    }
   },
   "outputs": [
    {
     "data": {
      "image/png": "[encoded data removed]",
      "text/plain": [
       "<matplotlib.figure.Figure at 0xc08f438>"
      ]
     },
     "metadata": {},
     "output_type": "display_data"
    },
    {
     "data": {
      "text/html": [
       "<div>\n",
       "<style scoped>\n",
       "    .dataframe tbody tr th:only-of-type {\n",
       "        vertical-align: middle;\n",
       "    }\n",
       "\n",
       "    .dataframe tbody tr th {\n",
       "        vertical-align: top;\n",
       "    }\n",
       "\n",
       "    .dataframe thead th {\n",
       "        text-align: right;\n",
       "    }\n",
       "</style>\n",
       "<table border=\"1\" class=\"dataframe\">\n",
       "  <thead>\n",
       "    <tr style=\"text-align: right;\">\n",
       "      <th></th>\n",
       "      <th>CM2_REL</th>\n",
       "    </tr>\n",
       "  </thead>\n",
       "  <tbody>\n",
       "    <tr>\n",
       "      <th>count</th>\n",
       "      <td>100750.00</td>\n",
       "    </tr>\n",
       "    <tr>\n",
       "      <th>mean</th>\n",
       "      <td>11.67</td>\n",
       "    </tr>\n",
       "    <tr>\n",
       "      <th>std</th>\n",
       "      <td>31.46</td>\n",
       "    </tr>\n",
       "    <tr>\n",
       "      <th>min</th>\n",
       "      <td>-7822.45</td>\n",
       "    </tr>\n",
       "    <tr>\n",
       "      <th>25%</th>\n",
       "      <td>7.04</td>\n",
       "    </tr>\n",
       "    <tr>\n",
       "      <th>50%</th>\n",
       "      <td>12.14</td>\n",
       "    </tr>\n",
       "    <tr>\n",
       "      <th>75%</th>\n",
       "      <td>17.17</td>\n",
       "    </tr>\n",
       "    <tr>\n",
       "      <th>max</th>\n",
       "      <td>74.37</td>\n",
       "    </tr>\n",
       "  </tbody>\n",
       "</table>\n",
       "</div>"
      ],
      "text/plain": [
       "         CM2_REL\n",
       "count  100750.00\n",
       "mean       11.67\n",
       "std        31.46\n",
       "min     -7822.45\n",
       "25%         7.04\n",
       "50%        12.14\n",
       "75%        17.17\n",
       "max        74.37"
      ]
     },
     "metadata": {},
     "output_type": "display_data"
    },
    {
     "name": "stdout",
     "output_type": "stream",
     "text": [
      "CM2% threshold >= 5  is the percentile 17.49\n",
      "CM2% threshold >= 6  is the percentile 20.95\n",
      "CM2% threshold >= 7  is the percentile 24.81\n",
      "CM2% threshold >= 8  is the percentile 29.17\n",
      "CM2% threshold >= 9  is the percentile 33.84\n",
      "CM2% threshold >= 10  is the percentile 38.83\n",
      "CM2% threshold >=  8.176999999999971  is the percentile 30 allowing us to stay with the 70% of our sample\n"
     ]
    }
   ],
   "source": [
    "# CM2% per customer\n",
    "plt.figure(figsize=(16,4))\n",
    "data['CM2_REL'].hist(bins=100, range=(-50, 50))\n",
    "title = 'Relative CM2 % per customer histogram'\n",
    "plt.title(title)\n",
    "plt.show()\n",
    "display(pd.DataFrame(data['CM2_REL'].fillna(0).describe().round(2)))\n",
    "perc_30_cm2_rel = data['CM2_REL'].fillna(0).quantile(.3)\n",
    "print('CM2% threshold >= 5  is the percentile', stats.percentileofscore(data['CM2_REL'], 5, kind='strict').round(2))\n",
    "print('CM2% threshold >= 6  is the percentile', stats.percentileofscore(data['CM2_REL'], 6, kind='strict').round(2))\n",
    "print('CM2% threshold >= 7  is the percentile', stats.percentileofscore(data['CM2_REL'], 7, kind='strict').round(2))\n",
    "print('CM2% threshold >= 8  is the percentile', stats.percentileofscore(data['CM2_REL'], 8, kind='strict').round(2))\n",
    "print('CM2% threshold >= 9  is the percentile', stats.percentileofscore(data['CM2_REL'], 9, kind='strict').round(2))\n",
    "print('CM2% threshold >= 10  is the percentile', stats.percentileofscore(data['CM2_REL'], 10, kind='strict').round(2))\n",
    "print('CM2% threshold >= ', perc_30_cm2_rel, ' is the percentile 30 allowing us to stay with the 70% of our sample')\n",
    "# CM2 € per customer\n",
    "#plt.figure(figsize=(16,4))\n",
    "#data['TOTAL_CM2'].hist(bins=200, range=(-50, 150))\n",
    "#title = 'Tier ' + str(tq) + ' Absolute CM2 per customer histogram'\n",
    "#plt.title(title)\n",
    "#plt.show()\n",
    "#display(pd.DataFrame(data['TOTAL_CM2'].describe().round(2)))\n",
    "#perc_30_cm2_abs = data['TOTAL_CM2'].fillna(0).quantile(.3)\n",
    "#val1 = float(data[(data['CM2_REL'] >= 5) & (data['TOTAL_CM2'] >= perc_30_cm2_abs)]['CUSTOMER_ID'].nunique()) / data['CUSTOMER_ID'].nunique() * 100\n",
    "#val2 = float(data[(data['CM2_REL'] >= 7) & (data['TOTAL_CM2'] >= perc_30_cm2_abs)]['CUSTOMER_ID'].nunique()) / data['CUSTOMER_ID'].nunique() * 100\n",
    "#val3 = float(data[(data['CM2_REL'] >= perc_30_cm2_rel) & (data['TOTAL_CM2'] >= perc_30_cm2_abs)]['CUSTOMER_ID'].nunique()) / data['CUSTOMER_ID'].nunique() * 100\n",
    "#print(perc_30_cm2_abs, ' is the percentile 30 allowing us to stay with the 70% of our sample')\n",
    "#print('                                                                                                                    ')\n",
    "#print('With CM2% threshold >= 5 and CM2 >= ', perc_30_cm2_abs, ' we keep eligible a ', np.round(val1, 2), ' % from our customers')\n",
    "#print('With CM2% threshold >= 7 and CM2 >= ', perc_30_cm2_abs, ' we keep eligible a ', np.round(val2, 2), ' % from our customers')\n",
    "#print('With CM2% threshold >= ', perc_30_cm2_rel, ' and CM2 >= ', perc_30_cm2_abs, ' we keep eligible a ', np.round(val3, 2), ' % from our customers')\n",
    "# Orders per customer\n",
    "#plt.figure(figsize=(16,4))\n",
    "#data['ORDERS'].hist(bins=30, range=(0, 30))\n",
    "#title = 'Tier ' + str(tq) + ' Orders per customer histogram'\n",
    "#plt.title(title)\n",
    "#plt.show()\n",
    "#display(pd.DataFrame(data['ORDERS'].describe().round(2)))\n",
    "#perc_30_orders = data['ORDERS'].quantile(.3)\n",
    "#val4 = float(data[(data['CM2_REL'] >= 5) & (data['ORDERS'] >= perc_30_orders)]['CUSTOMER_ID'].nunique()) / data['CUSTOMER_ID'].nunique() * 100\n",
    "#val5 = float(data[(data['CM2_REL'] >= 7) & (data['ORDERS'] >= perc_30_orders)]['CUSTOMER_ID'].nunique()) / data['CUSTOMER_ID'].nunique() * 100\n",
    "#val6 = float(data[(data['CM2_REL'] >= perc_30_cm2_rel) & (data['ORDERS'] >= perc_30_orders)]['CUSTOMER_ID'].nunique()) / data['CUSTOMER_ID'].nunique() * 100\n",
    "#print(perc_30_orders, ' is the percentile 30 allowing us to stay with the 70% of our sample')\n",
    "#print('                                                                                                                    ')\n",
    "#print('With CM2% threshold >= 5 and Orders >= ', perc_30_orders, ' we keep eligible a ', np.round(val4, 2), ' % from our customers')\n",
    "#print('With CM2% threshold >= 7 and Orders >= ', perc_30_orders, ' we keep eligible a ', np.round(val5, 2), ' % from our customers')\n",
    "#print('With CM2% threshold >= ', perc_30_cm2_rel, ' and Orders >= ', perc_30_orders, ' we keep eligible a ', np.round(val6, 2), ' % from our customers')\n",
    "#print('                                                                                                                    ')\n",
    "#print('                                                                                                                    ')"
   ]
  },
  {
   "cell_type": "code",
   "execution_count": 17,
   "metadata": {
    "ExecuteTime": {
     "end_time": "2018-06-22T10:40:54.117531Z",
     "start_time": "2018-06-22T10:40:53.174882Z"
    }
   },
   "outputs": [
    {
     "data": {
      "image/png": "[encoded data removed]",
      "text/plain": [
       "<matplotlib.figure.Figure at 0xc2fdcc0>"
      ]
     },
     "metadata": {},
     "output_type": "display_data"
    }
   ],
   "source": [
    "plt.figure(figsize=(16,4))\n",
    "for tq in tiers:\n",
    "    data_tier = data[data['ZTQ_ID'] == tq]\n",
    "    #print('...........................................................TIER ', tq, '..........................................................')\n",
    "    # CM2% per customer\n",
    "    data_tier['CM2_REL'].hist(bins=100, range=(-50, 50), alpha=0.5)\n",
    "    plt.legend([51, 52, 53, 54, 55, 56])\n",
    "plt.show()   "
   ]
  }
 ],
 "metadata": {
  "hide_input": false,
  "kernelspec": {
   "display_name": "Python [default]",
   "language": "python",
   "name": "python3"
  },
  "language_info": {
   "codemirror_mode": {
    "name": "ipython",
    "version": 3
   },
   "file_extension": ".py",
   "mimetype": "text/x-python",
   "name": "python",
   "nbconvert_exporter": "python",
   "pygments_lexer": "ipython3",
   "version": "3.6.4"
  },
  "toc": {
   "base_numbering": 1,
   "nav_menu": {},
   "number_sections": true,
   "sideBar": true,
   "skip_h1_title": false,
   "title_cell": "Table of Contents",
   "title_sidebar": "Contents",
   "toc_cell": false,
   "toc_position": {},
   "toc_section_display": true,
   "toc_window_display": false
  },
  "varInspector": {
   "cols": {
    "lenName": 16,
    "lenType": 16,
    "lenVar": 40
   },
   "kernels_config": {
    "python": {
     "delete_cmd_postfix": "",
     "delete_cmd_prefix": "del ",
     "library": "var_list.py",
     "varRefreshCmd": "print(var_dic_list())"
    },
    "r": {
     "delete_cmd_postfix": ") ",
     "delete_cmd_prefix": "rm(",
     "library": "var_list.r",
     "varRefreshCmd": "cat(var_dic_list()) "
    }
   },
   "types_to_exclude": [
    "module",
    "function",
    "builtin_function_or_method",
    "instance",
    "_Feature"
   ],
   "window_display": false
  }
 },
 "nbformat": 4,
 "nbformat_minor": 2
}
