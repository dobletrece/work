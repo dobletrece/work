{
 "cells": [
  {
   "cell_type": "code",
   "execution_count": 1,
   "metadata": {},
   "outputs": [],
   "source": [
    "#select\n",
    "#scm.*, czp.czp_id, czp.czp_op_id, czp.CZP_START_DATE, \n",
    "#czp.CZP_EXPIRY_DATE, czp.CZP_PERCENTAGE, czp.CZP_PRICE, \n",
    "#czp.CZP_DURATION, czp.CZP_ZTQ_ID, k.K_REGISTER, osp.*\n",
    "#from zoocube.ddstf_scm_sales_contrib_margin scm\n",
    "#join ZOOMAN.KUNDEN k\n",
    "#on scm.CUS_N_KEY_CUSTOMER = k.K_ID \n",
    "#and k.K_REGISTER = 1\n",
    "#join ZOOMAN.ORDER_SALES_PROFILE osp\n",
    "#on osp.OSP_O_ID = scm.SCM_N_ORDER_NR\n",
    "#left outer join ZOOMAN.CUSTOMERS_ZOOPRIME_PLANS czp\n",
    "#on scm.CUS_N_KEY_CUSTOMER = czp.CZP_K_ID \n",
    "#and czp.CZP_EXPIRY_DATE > to_date((to_char(TDT_T_KEY_ORDER_DATE, 'dd/mm/yyyy') ||' '|| THR_C_KEY_ORDER_HOUR), 'dd/mm/yyyy HH24:MI')\n",
    "#and czp.CZP_START_DATE <= to_date((to_char(TDT_T_KEY_ORDER_DATE, 'dd/mm/yyyy') ||' '|| THR_C_KEY_ORDER_HOUR), 'dd/mm/yyyy HH24:MI')\n",
    "#where SIT_N_KEY_SITE = 15\n",
    "#and TDT_T_KEY_ORDER_DATE >= to_date('01/01/18', 'DD/MM/YY')\n",
    "#and TDT_T_KEY_ORDER_DATE <= to_date('15/04/18', 'DD/MM/YY')\n",
    "#and (scm.SCM_C_ORDER_STATUS = 'L' OR scm.SCM_C_ORDER_STATUS = 'VK')\n",
    "#and osp.OSP_KO_COUNT_NET IN (1,2)\n",
    "#;"
   ]
  },
  {
   "cell_type": "code",
   "execution_count": 1,
   "metadata": {},
   "outputs": [],
   "source": [
    "import numpy as np\n",
    "import pandas as pd\n",
    "import matplotlib.pyplot as plt\n",
    "import matplotlib.patches as mpatches\n",
    "%matplotlib inline"
   ]
  },
  {
   "cell_type": "code",
   "execution_count": 2,
   "metadata": {},
   "outputs": [],
   "source": [
    "data = pd.read_csv('es_shop_new_customers_2.dsv', sep = ';', low_memory=False)"
   ]
  },
  {
   "cell_type": "code",
   "execution_count": 7,
   "metadata": {},
   "outputs": [
    {
     "data": {
      "text/plain": [
       "Index(['SCM_SB_RANK', 'SCM_SHOP_SOURCE', 'SCM_POSITION_WEIGHT',\n",
       "       'SCM_IS_BONUS_ARTICLE', 'SCM_VOLUME', 'SCM_DSPT_ID', 'SCM_FC_SPLIT',\n",
       "       'SCM_PARCEL_SPLIT', 'SCM_VOLUME_PARCEL_PART',\n",
       "       'SCM_PURCHASE_EXTRA_COSTS', 'SCM_LINEHOLD_COSTS',\n",
       "       'SCM_CM2_BMF_INCL_EXTRA_COSTS', 'SCM_CM1_BMF_INCL_PU_EX',\n",
       "       'SCM_LINEHOLD_COSTS_PHY_ART', 'SCM_CM1_BMF_PC_EX_VOL',\n",
       "       'SCM_CM2_BMF_REAL_VOL', 'SCM_PAYMENT_PROVIDER',\n",
       "       'SCM_IS_SINGLE_CATEGORY', 'SCM_FC_ANALYSIS', 'SCM_IS_ZSP_ORDER',\n",
       "       'SCM_CM1_CP', 'SCM_CM2_CP', 'SCM_CM3_CP', 'SCM_CM4_CP',\n",
       "       'SCM_CM1_BMF_CP', 'SCM_CM2_BMF_CP', 'SCM_CM3_BMF_CP', 'SCM_CM4_BMF_CP',\n",
       "       'SCM_NETSALES_CP', 'SCM_NETSALES_BMF_CP', 'SCM_ORDER_HOUR',\n",
       "       'SCM_FC_HOUR', 'SCM_SHIPPING_HOUR', 'SCM_DELIVERY_DATE',\n",
       "       'SCM_DELIVERY_HOUR', 'SCM_DELIVERY_TIME', 'SCM_WAREHOUSE_TIME',\n",
       "       'SCM_TOTAL_ORDER_TIME', 'SCM_POSTOFFICE_DATE', 'SCM_POSTOFFICE_HOUR',\n",
       "       'SCM_TO_POSTOFFICE_TIME', 'SCM_FROM_POSTOFFICE_HOUR',\n",
       "       'SCM_FIRST_ORDER_CT_ID', 'SCM_FIRST_ORDER_DATE', 'SCM_ORDER_DAY',\n",
       "       'SCM_FC_DAY', 'SCM_SHIPPING_DAY', 'SCM_POSTOFFICE_DAY',\n",
       "       'SCM_DELIVERY_DAY', 'SCM_NUMBER_DEV_TRY', 'SCM_PARCEL_IS_UNDELIVERABLE',\n",
       "       'SCM_MAIN_CATEGORY', 'SCM_SALES_BMF', 'SCM_NETSALES_BMF',\n",
       "       'SCM_RETURNS_BMF', 'SCM_SALES_CANCEL_BMF', 'SCM_SB_CLASS', 'CZP_ID',\n",
       "       'CZP_OP_ID', 'CZP_START_DATE', 'CZP_EXPIRY_DATE', 'CZP_PERCENTAGE',\n",
       "       'CZP_PRICE', 'CZP_DURATION', 'CZP_ZTQ_ID', 'K_REGISTER', 'OSP_ID',\n",
       "       'OSP_O_ID', 'OSP_KO_COUNT', 'OSP_KO_COUNT_NET', 'OSP_DURABLES_SHARE',\n",
       "       'OSP_2_LEAD_P_PG_ID', 'OSP_2_LEAD_P_PG_SHARE', 'OSP_3_LEAD_P_PG_ID',\n",
       "       'OSP_3_LEAD_P_PG_SHARE', 'OSP_4_LEAD_P_PG_ID', 'OSP_4_LEAD_P_PG_SHARE',\n",
       "       'OSP_SYS_CREATED_ON', 'OSP_SYS_CREATED_BY', 'OSP_SYS_UPDATED_ON',\n",
       "       'OSP_SYS_UPDATED_BY', 'OSP_CM1', 'OSP_CM2', 'OSP_CM3', 'OSP_CM4',\n",
       "       'OSP_NET_VALUE', 'OSP_CZP_PERCENTAGE', 'OSP_CZP_START_DATE',\n",
       "       'OSP_CZP_DURATION', 'OSP_LEAD_PS_ID', 'OSP_EUR_VALUE'],\n",
       "      dtype='object')"
      ]
     },
     "execution_count": 7,
     "metadata": {},
     "output_type": "execute_result"
    }
   ],
   "source": [
    "data.columns[100:]"
   ]
  },
  {
   "cell_type": "code",
   "execution_count": 4,
   "metadata": {},
   "outputs": [
    {
     "name": "stdout",
     "output_type": "stream",
     "text": [
      "<class 'pandas.core.frame.DataFrame'>\n",
      "RangeIndex: 229456 entries, 0 to 229455\n",
      "Columns: 191 entries, SCM_N_ORDER_POS_NR to OSP_EUR_VALUE\n",
      "dtypes: float64(31), int64(86), object(74)\n",
      "memory usage: 334.4+ MB\n"
     ]
    }
   ],
   "source": [
    "data.info()"
   ]
  },
  {
   "cell_type": "code",
   "execution_count": 5,
   "metadata": {},
   "outputs": [],
   "source": [
    "#after some exploration\n",
    "not_used_cols = ['SCM_D_LIST_PRICE_UNIT', 'SCM_D_LIST_PRICE',\n",
    "       'SCM_D_LIST_PRICE_UNIT_DISCOUNT', 'SCM_D_LIST_PRICE_DISCOUNT',\n",
    "       'SCM_D_REC_PRICE_UNIT', 'SCM_D_REC_PRICE',\n",
    "       'SCM_D_REC_PRICE_UNIT_DISCOUNT', 'SCM_D_REC_PRICE_DISCOUNT',\n",
    "       'AUD_N_KEY_INS', 'AUD_N_KEY_UPD', 'SCM_T_SYS_CREATED_ON',\n",
    "       'SCM_C_SYS_CREATED_BY', 'SCM_T_SYS_UPDATED_ON',\n",
    "       'SCM_C_SYS_UPDATED_BY', 'SCM_D_ORDER_PROB',\n",
    "       'SCM_DHL_RETURN_REASON',\n",
    "       'SCM_DHL_REAL_RETURN', 'SCM_D_RETURNED_VAL_NET',\n",
    "       'SCM_D_EXCHANGE_RATE', 'SCM_D_CURRENCY', 'SCM_D_CURRENCY_ORIG',\n",
    "       'SCM_D_EXCHANGE_RATE_REAL', 'SCM_D_RETURN_POSTAGE_COSTS',\n",
    "       'SCM_D_RETURN_REASON', 'SCM_D_SALES_CANCEL_QTY',\n",
    "       'SCM_D_SALES_CANCEL_VAL', 'SCM_D_SALES_CANCEL_VAL_NET',\n",
    "       'SCM_D_MST_PHY_ART_QTY', 'SCM_D_WRONG_RETURN_BOOKING',\n",
    "       'SCM_D_IS_SHIPPED', 'SCM_D_EXCHANGE_RATE_FINANCE',\n",
    "       'SCM_D_ORIG_ORDER_VALUE', 'SCM_D_ORIG_FINANCE_ORDER_VALUE',\n",
    "       'SCM_D_ORIG_REAL_ORDER_VALUE', 'SCM_D_PAID', 'SCM_D_MISSING_ITEM_IN_PARCEL',\n",
    "       'SCM_DATE_FULFILLMENT', 'SCM_D_PC_ID', 'SCM_D_PCB_ID',\n",
    "       'SCM_D_PC_DSP', 'SCM_D_PC_ID_RET',\n",
    "       'SCM_D_PC_ID_SALC', 'SCM_ID', 'SCM_RETURN_REASON_ID',\n",
    "       'SCM_RETURN_REACTION_TIME', 'SCM_EXCHANGE_RETURN',\n",
    "       'SCM_RETURN_IS_OK', 'SCM_CM2_BMF_INCL_EXTRA_COSTS', 'SCM_CM1_BMF_INCL_PU_EX',\n",
    "       'SCM_LINEHOLD_COSTS_PHY_ART', 'SCM_CM1_BMF_PC_EX_VOL',\n",
    "       'SCM_CM2_BMF_REAL_VOL', 'SCM_PAYMENT_PROVIDER', 'SCM_CM1_CP', 'SCM_CM2_CP', 'SCM_CM3_CP', 'SCM_CM4_CP',\n",
    "       'SCM_CM1_BMF_CP', 'SCM_CM2_BMF_CP', 'SCM_CM3_BMF_CP',\n",
    "       'SCM_CM4_BMF_CP', 'SCM_NETSALES_CP', 'SCM_NETSALES_BMF_CP', 'SCM_ORDER_HOUR', 'SCM_FC_HOUR', 'SCM_SHIPPING_HOUR',\n",
    "                 'SCM_DELIVERY_TIME',\n",
    "       'SCM_WAREHOUSE_TIME', 'SCM_TOTAL_ORDER_TIME',\n",
    "       'SCM_POSTOFFICE_DATE', 'SCM_POSTOFFICE_HOUR',\n",
    "       'SCM_TO_POSTOFFICE_TIME', 'SCM_FROM_POSTOFFICE_HOUR',\n",
    "       'SCM_FIRST_ORDER_CT_ID', 'SCM_FIRST_ORDER_DATE', 'SCM_ORDER_DAY',\n",
    "       'SCM_FC_DAY', 'SCM_SHIPPING_DAY', 'SCM_POSTOFFICE_DAY',\n",
    "       'SCM_DELIVERY_DAY', 'SCM_NUMBER_DEV_TRY',\n",
    "       'SCM_PARCEL_IS_UNDELIVERABLE', 'SCM_MAIN_CATEGORY',\n",
    "        'SCM_RETURNS_BMF',\n",
    "       'SCM_SALES_CANCEL_BMF', 'SCM_SB_CLASS']"
   ]
  },
  {
   "cell_type": "code",
   "execution_count": 6,
   "metadata": {},
   "outputs": [],
   "source": [
    "cols = [i for i in data.columns.values if i not in not_used_cols]"
   ]
  },
  {
   "cell_type": "code",
   "execution_count": 7,
   "metadata": {},
   "outputs": [
    {
     "data": {
      "text/plain": [
       "105"
      ]
     },
     "execution_count": 7,
     "metadata": {},
     "output_type": "execute_result"
    }
   ],
   "source": [
    "len(cols)"
   ]
  },
  {
   "cell_type": "code",
   "execution_count": 8,
   "metadata": {},
   "outputs": [],
   "source": [
    "nc_es = data[cols]"
   ]
  },
  {
   "cell_type": "code",
   "execution_count": 9,
   "metadata": {},
   "outputs": [
    {
     "data": {
      "text/plain": [
       "57976"
      ]
     },
     "execution_count": 9,
     "metadata": {},
     "output_type": "execute_result"
    }
   ],
   "source": [
    "#Total orders\n",
    "nc_es['SCM_N_ORDER_NR'].nunique()"
   ]
  },
  {
   "cell_type": "code",
   "execution_count": 10,
   "metadata": {},
   "outputs": [],
   "source": [
    "import warnings\n",
    "warnings.filterwarnings(\"ignore\")"
   ]
  },
  {
   "cell_type": "code",
   "execution_count": 11,
   "metadata": {},
   "outputs": [],
   "source": [
    "nc_es['TDT_T_KEY_ORDER_DATE'] = pd.to_datetime(nc_es['TDT_T_KEY_ORDER_DATE'], format=\"%d/%m/%y\")"
   ]
  },
  {
   "cell_type": "code",
   "execution_count": 12,
   "metadata": {},
   "outputs": [],
   "source": [
    "lista = [float(i.replace(',','.')) for i in nc_es['SCM_D_SALES_VALUE']]\n",
    "nc_es['SCM_D_SALES_VALUE'] = lista"
   ]
  },
  {
   "cell_type": "code",
   "execution_count": 13,
   "metadata": {},
   "outputs": [],
   "source": [
    "lista1 = [float(str(i).replace(',','.')) for i in nc_es['SCM_SALES_BMF']]\n",
    "nc_es['SCM_SALES_BMF'] = lista1"
   ]
  },
  {
   "cell_type": "code",
   "execution_count": 14,
   "metadata": {},
   "outputs": [],
   "source": [
    "lista2 = [float(i.replace(',','.')) for i in nc_es['SCM_D_FINANCE_CM1']]\n",
    "nc_es['SCM_D_FINANCE_CM1'] = lista2"
   ]
  },
  {
   "cell_type": "code",
   "execution_count": 15,
   "metadata": {},
   "outputs": [],
   "source": [
    "lista3 = [float(i.replace(',','.')) for i in nc_es['SCM_D_FINANCE_CM2']]\n",
    "nc_es['SCM_D_FINANCE_CM2'] = lista3"
   ]
  },
  {
   "cell_type": "code",
   "execution_count": 16,
   "metadata": {},
   "outputs": [],
   "source": [
    "nc_es['CZP_START_DATE'] = pd.to_datetime(nc_es['CZP_START_DATE'], format=\"%d/%m/%y\")\n",
    "nc_es['CZP_EXPIRY_DATE'] = pd.to_datetime(nc_es['CZP_EXPIRY_DATE'], format=\"%d/%m/%y\")"
   ]
  },
  {
   "cell_type": "code",
   "execution_count": 17,
   "metadata": {},
   "outputs": [
    {
     "data": {
      "text/plain": [
       "array([array(['NaT'], dtype='datetime64[ns]'),\n",
       "       array(['NaT'], dtype='datetime64[ns]'),\n",
       "       array(['NaT'], dtype='datetime64[ns]'), ...,\n",
       "       array(['NaT'], dtype='datetime64[ns]'),\n",
       "       array(['NaT'], dtype='datetime64[ns]'),\n",
       "       array(['NaT'], dtype='datetime64[ns]')], dtype=object)"
      ]
     },
     "execution_count": 17,
     "metadata": {},
     "output_type": "execute_result"
    }
   ],
   "source": [
    "#Check if, due to start/expiry/order date some data has been duplicated... \n",
    "nc_es.groupby('SCM_N_ORDER_NR')['CZP_START_DATE'].unique().values"
   ]
  },
  {
   "cell_type": "code",
   "execution_count": 18,
   "metadata": {},
   "outputs": [],
   "source": [
    "dupl_mask = [len(i) > 1 for i in nc_es.groupby('SCM_N_ORDER_NR')['CZP_START_DATE'].unique().values]"
   ]
  },
  {
   "cell_type": "code",
   "execution_count": 19,
   "metadata": {},
   "outputs": [
    {
     "data": {
      "text/plain": [
       "57976"
      ]
     },
     "execution_count": 19,
     "metadata": {},
     "output_type": "execute_result"
    }
   ],
   "source": [
    "len(dupl_mask)"
   ]
  },
  {
   "cell_type": "code",
   "execution_count": 20,
   "metadata": {},
   "outputs": [
    {
     "data": {
      "text/plain": [
       "1"
      ]
     },
     "execution_count": 20,
     "metadata": {},
     "output_type": "execute_result"
    }
   ],
   "source": [
    "sum(dupl_mask)"
   ]
  },
  {
   "cell_type": "code",
   "execution_count": 21,
   "metadata": {},
   "outputs": [],
   "source": [
    "dup_orders = nc_es.groupby('SCM_N_ORDER_NR')['CZP_START_DATE'].unique()[dupl_mask].index.values"
   ]
  },
  {
   "cell_type": "code",
   "execution_count": 22,
   "metadata": {},
   "outputs": [
    {
     "data": {
      "text/plain": [
       "array([107967252], dtype=int64)"
      ]
     },
     "execution_count": 22,
     "metadata": {},
     "output_type": "execute_result"
    }
   ],
   "source": [
    "dup_orders"
   ]
  },
  {
   "cell_type": "code",
   "execution_count": 23,
   "metadata": {},
   "outputs": [
    {
     "data": {
      "text/html": [
       "<div>\n",
       "<style scoped>\n",
       "    .dataframe tbody tr th:only-of-type {\n",
       "        vertical-align: middle;\n",
       "    }\n",
       "\n",
       "    .dataframe tbody tr th {\n",
       "        vertical-align: top;\n",
       "    }\n",
       "\n",
       "    .dataframe thead th {\n",
       "        text-align: right;\n",
       "    }\n",
       "</style>\n",
       "<table border=\"1\" class=\"dataframe\">\n",
       "  <thead>\n",
       "    <tr style=\"text-align: right;\">\n",
       "      <th></th>\n",
       "      <th>SCM_PARCEL_SPLIT</th>\n",
       "      <th>SCM_VOLUME_PARCEL_PART</th>\n",
       "      <th>SCM_PURCHASE_EXTRA_COSTS</th>\n",
       "      <th>SCM_LINEHOLD_COSTS</th>\n",
       "      <th>SCM_IS_SINGLE_CATEGORY</th>\n",
       "      <th>SCM_FC_ANALYSIS</th>\n",
       "      <th>SCM_IS_ZSP_ORDER</th>\n",
       "      <th>SCM_DELIVERY_DATE</th>\n",
       "      <th>SCM_DELIVERY_HOUR</th>\n",
       "      <th>SCM_SALES_BMF</th>\n",
       "      <th>SCM_NETSALES_BMF</th>\n",
       "      <th>CZP_ID</th>\n",
       "      <th>CZP_OP_ID</th>\n",
       "      <th>CZP_START_DATE</th>\n",
       "      <th>CZP_EXPIRY_DATE</th>\n",
       "      <th>CZP_PERCENTAGE</th>\n",
       "      <th>CZP_PRICE</th>\n",
       "      <th>CZP_DURATION</th>\n",
       "      <th>CZP_ZTQ_ID</th>\n",
       "      <th>K_REGISTER</th>\n",
       "    </tr>\n",
       "  </thead>\n",
       "  <tbody>\n",
       "    <tr>\n",
       "      <th>8281</th>\n",
       "      <td>0</td>\n",
       "      <td>0</td>\n",
       "      <td>0</td>\n",
       "      <td>0</td>\n",
       "      <td>multi category order</td>\n",
       "      <td>multible z+ fc</td>\n",
       "      <td>1</td>\n",
       "      <td>NaN</td>\n",
       "      <td>NaN</td>\n",
       "      <td>5.99</td>\n",
       "      <td>4,9504</td>\n",
       "      <td>2678681.0</td>\n",
       "      <td>367800230.0</td>\n",
       "      <td>2017-04-25</td>\n",
       "      <td>2018-04-03</td>\n",
       "      <td>5.0</td>\n",
       "      <td>4,99</td>\n",
       "      <td>1.0</td>\n",
       "      <td>56.0</td>\n",
       "      <td>1</td>\n",
       "    </tr>\n",
       "    <tr>\n",
       "      <th>8282</th>\n",
       "      <td>0</td>\n",
       "      <td>0</td>\n",
       "      <td>0</td>\n",
       "      <td>0</td>\n",
       "      <td>multi category order</td>\n",
       "      <td>multible z+ fc</td>\n",
       "      <td>1</td>\n",
       "      <td>NaN</td>\n",
       "      <td>NaN</td>\n",
       "      <td>5.99</td>\n",
       "      <td>4,9504</td>\n",
       "      <td>3571772.0</td>\n",
       "      <td>460456149.0</td>\n",
       "      <td>2018-04-03</td>\n",
       "      <td>2019-04-03</td>\n",
       "      <td>5.0</td>\n",
       "      <td>5,99</td>\n",
       "      <td>1.0</td>\n",
       "      <td>56.0</td>\n",
       "      <td>1</td>\n",
       "    </tr>\n",
       "    <tr>\n",
       "      <th>8283</th>\n",
       "      <td>0</td>\n",
       "      <td>2,331</td>\n",
       "      <td>0,01</td>\n",
       "      <td>0,049</td>\n",
       "      <td>multi category order</td>\n",
       "      <td>multible z+ fc</td>\n",
       "      <td>1</td>\n",
       "      <td>NaN</td>\n",
       "      <td>NaN</td>\n",
       "      <td>24.99</td>\n",
       "      <td>22,7182</td>\n",
       "      <td>2678681.0</td>\n",
       "      <td>367800230.0</td>\n",
       "      <td>2017-04-25</td>\n",
       "      <td>2018-04-03</td>\n",
       "      <td>5.0</td>\n",
       "      <td>4,99</td>\n",
       "      <td>1.0</td>\n",
       "      <td>56.0</td>\n",
       "      <td>1</td>\n",
       "    </tr>\n",
       "    <tr>\n",
       "      <th>8284</th>\n",
       "      <td>0</td>\n",
       "      <td>2,331</td>\n",
       "      <td>0,01</td>\n",
       "      <td>0,049</td>\n",
       "      <td>multi category order</td>\n",
       "      <td>multible z+ fc</td>\n",
       "      <td>1</td>\n",
       "      <td>NaN</td>\n",
       "      <td>NaN</td>\n",
       "      <td>24.99</td>\n",
       "      <td>22,7182</td>\n",
       "      <td>3571772.0</td>\n",
       "      <td>460456149.0</td>\n",
       "      <td>2018-04-03</td>\n",
       "      <td>2019-04-03</td>\n",
       "      <td>5.0</td>\n",
       "      <td>5,99</td>\n",
       "      <td>1.0</td>\n",
       "      <td>56.0</td>\n",
       "      <td>1</td>\n",
       "    </tr>\n",
       "    <tr>\n",
       "      <th>8285</th>\n",
       "      <td>0</td>\n",
       "      <td>0</td>\n",
       "      <td>0</td>\n",
       "      <td>0</td>\n",
       "      <td>multi category order</td>\n",
       "      <td>multible z+ fc</td>\n",
       "      <td>1</td>\n",
       "      <td>NaN</td>\n",
       "      <td>NaN</td>\n",
       "      <td>-4.35</td>\n",
       "      <td>-3,9298</td>\n",
       "      <td>2678681.0</td>\n",
       "      <td>367800230.0</td>\n",
       "      <td>2017-04-25</td>\n",
       "      <td>2018-04-03</td>\n",
       "      <td>5.0</td>\n",
       "      <td>4,99</td>\n",
       "      <td>1.0</td>\n",
       "      <td>56.0</td>\n",
       "      <td>1</td>\n",
       "    </tr>\n",
       "    <tr>\n",
       "      <th>8286</th>\n",
       "      <td>0</td>\n",
       "      <td>0</td>\n",
       "      <td>0</td>\n",
       "      <td>0</td>\n",
       "      <td>multi category order</td>\n",
       "      <td>multible z+ fc</td>\n",
       "      <td>1</td>\n",
       "      <td>NaN</td>\n",
       "      <td>NaN</td>\n",
       "      <td>-4.35</td>\n",
       "      <td>-3,9298</td>\n",
       "      <td>3571772.0</td>\n",
       "      <td>460456149.0</td>\n",
       "      <td>2018-04-03</td>\n",
       "      <td>2019-04-03</td>\n",
       "      <td>5.0</td>\n",
       "      <td>5,99</td>\n",
       "      <td>1.0</td>\n",
       "      <td>56.0</td>\n",
       "      <td>1</td>\n",
       "    </tr>\n",
       "    <tr>\n",
       "      <th>8287</th>\n",
       "      <td>0</td>\n",
       "      <td>38,779</td>\n",
       "      <td>0,24</td>\n",
       "      <td>0</td>\n",
       "      <td>multi category order</td>\n",
       "      <td>multible z+ fc</td>\n",
       "      <td>1</td>\n",
       "      <td>NaN</td>\n",
       "      <td>NaN</td>\n",
       "      <td>55.99</td>\n",
       "      <td>50,9</td>\n",
       "      <td>2678681.0</td>\n",
       "      <td>367800230.0</td>\n",
       "      <td>2017-04-25</td>\n",
       "      <td>2018-04-03</td>\n",
       "      <td>5.0</td>\n",
       "      <td>4,99</td>\n",
       "      <td>1.0</td>\n",
       "      <td>56.0</td>\n",
       "      <td>1</td>\n",
       "    </tr>\n",
       "    <tr>\n",
       "      <th>8288</th>\n",
       "      <td>0</td>\n",
       "      <td>38,779</td>\n",
       "      <td>0,24</td>\n",
       "      <td>0</td>\n",
       "      <td>multi category order</td>\n",
       "      <td>multible z+ fc</td>\n",
       "      <td>1</td>\n",
       "      <td>NaN</td>\n",
       "      <td>NaN</td>\n",
       "      <td>55.99</td>\n",
       "      <td>50,9</td>\n",
       "      <td>3571772.0</td>\n",
       "      <td>460456149.0</td>\n",
       "      <td>2018-04-03</td>\n",
       "      <td>2019-04-03</td>\n",
       "      <td>5.0</td>\n",
       "      <td>5,99</td>\n",
       "      <td>1.0</td>\n",
       "      <td>56.0</td>\n",
       "      <td>1</td>\n",
       "    </tr>\n",
       "  </tbody>\n",
       "</table>\n",
       "</div>"
      ],
      "text/plain": [
       "      SCM_PARCEL_SPLIT SCM_VOLUME_PARCEL_PART SCM_PURCHASE_EXTRA_COSTS  \\\n",
       "8281                 0                      0                        0   \n",
       "8282                 0                      0                        0   \n",
       "8283                 0                  2,331                     0,01   \n",
       "8284                 0                  2,331                     0,01   \n",
       "8285                 0                      0                        0   \n",
       "8286                 0                      0                        0   \n",
       "8287                 0                 38,779                     0,24   \n",
       "8288                 0                 38,779                     0,24   \n",
       "\n",
       "     SCM_LINEHOLD_COSTS SCM_IS_SINGLE_CATEGORY SCM_FC_ANALYSIS  \\\n",
       "8281                  0   multi category order  multible z+ fc   \n",
       "8282                  0   multi category order  multible z+ fc   \n",
       "8283              0,049   multi category order  multible z+ fc   \n",
       "8284              0,049   multi category order  multible z+ fc   \n",
       "8285                  0   multi category order  multible z+ fc   \n",
       "8286                  0   multi category order  multible z+ fc   \n",
       "8287                  0   multi category order  multible z+ fc   \n",
       "8288                  0   multi category order  multible z+ fc   \n",
       "\n",
       "      SCM_IS_ZSP_ORDER  SCM_DELIVERY_DATE  SCM_DELIVERY_HOUR  SCM_SALES_BMF  \\\n",
       "8281                 1                NaN                NaN           5.99   \n",
       "8282                 1                NaN                NaN           5.99   \n",
       "8283                 1                NaN                NaN          24.99   \n",
       "8284                 1                NaN                NaN          24.99   \n",
       "8285                 1                NaN                NaN          -4.35   \n",
       "8286                 1                NaN                NaN          -4.35   \n",
       "8287                 1                NaN                NaN          55.99   \n",
       "8288                 1                NaN                NaN          55.99   \n",
       "\n",
       "     SCM_NETSALES_BMF     CZP_ID    CZP_OP_ID CZP_START_DATE CZP_EXPIRY_DATE  \\\n",
       "8281           4,9504  2678681.0  367800230.0     2017-04-25      2018-04-03   \n",
       "8282           4,9504  3571772.0  460456149.0     2018-04-03      2019-04-03   \n",
       "8283          22,7182  2678681.0  367800230.0     2017-04-25      2018-04-03   \n",
       "8284          22,7182  3571772.0  460456149.0     2018-04-03      2019-04-03   \n",
       "8285          -3,9298  2678681.0  367800230.0     2017-04-25      2018-04-03   \n",
       "8286          -3,9298  3571772.0  460456149.0     2018-04-03      2019-04-03   \n",
       "8287             50,9  2678681.0  367800230.0     2017-04-25      2018-04-03   \n",
       "8288             50,9  3571772.0  460456149.0     2018-04-03      2019-04-03   \n",
       "\n",
       "      CZP_PERCENTAGE CZP_PRICE  CZP_DURATION  CZP_ZTQ_ID  K_REGISTER  \n",
       "8281             5.0      4,99           1.0        56.0           1  \n",
       "8282             5.0      5,99           1.0        56.0           1  \n",
       "8283             5.0      4,99           1.0        56.0           1  \n",
       "8284             5.0      5,99           1.0        56.0           1  \n",
       "8285             5.0      4,99           1.0        56.0           1  \n",
       "8286             5.0      5,99           1.0        56.0           1  \n",
       "8287             5.0      4,99           1.0        56.0           1  \n",
       "8288             5.0      5,99           1.0        56.0           1  "
      ]
     },
     "execution_count": 23,
     "metadata": {},
     "output_type": "execute_result"
    }
   ],
   "source": [
    "nc_es[nc_es['SCM_N_ORDER_NR'] == 107967252][nc_es.columns[60:80]]"
   ]
  },
  {
   "cell_type": "code",
   "execution_count": 24,
   "metadata": {},
   "outputs": [],
   "source": [
    "#Let's get incorrect duplicated indexes instead of order_id to exclude them and select de correct data subset\n",
    "dup_indexes = []\n",
    "\n",
    "for i in dup_orders:\n",
    "    o_id = nc_es[nc_es['SCM_N_ORDER_NR'] == i]\n",
    "    sp_dates = o_id['CZP_START_DATE'].value_counts().index.values\n",
    "    min_date = o_id[o_id['CZP_START_DATE'] < max(sp_dates)]\n",
    "    dup_indexes.append(min_date.index.values)"
   ]
  },
  {
   "cell_type": "code",
   "execution_count": 25,
   "metadata": {},
   "outputs": [],
   "source": [
    "#Get a flatten list of indexes\n",
    "dupl_ind = [i for lista in dup_indexes for i in lista]"
   ]
  },
  {
   "cell_type": "code",
   "execution_count": 26,
   "metadata": {},
   "outputs": [
    {
     "data": {
      "text/plain": [
       "4"
      ]
     },
     "execution_count": 26,
     "metadata": {},
     "output_type": "execute_result"
    }
   ],
   "source": [
    "len(dupl_ind)"
   ]
  },
  {
   "cell_type": "code",
   "execution_count": 27,
   "metadata": {},
   "outputs": [],
   "source": [
    "exclude_data = nc_es.index.isin(dupl_ind)"
   ]
  },
  {
   "cell_type": "code",
   "execution_count": 28,
   "metadata": {},
   "outputs": [
    {
     "data": {
      "text/plain": [
       "(229456, 4)"
      ]
     },
     "execution_count": 28,
     "metadata": {},
     "output_type": "execute_result"
    }
   ],
   "source": [
    "len(exclude_data), sum(exclude_data)"
   ]
  },
  {
   "cell_type": "code",
   "execution_count": 29,
   "metadata": {},
   "outputs": [],
   "source": [
    "#Clean subset selection\n",
    "nc_es = nc_es[~exclude_data]"
   ]
  },
  {
   "cell_type": "code",
   "execution_count": 30,
   "metadata": {},
   "outputs": [
    {
     "data": {
      "text/plain": [
       "229452"
      ]
     },
     "execution_count": 30,
     "metadata": {},
     "output_type": "execute_result"
    }
   ],
   "source": [
    "len(nc_es)"
   ]
  },
  {
   "cell_type": "code",
   "execution_count": 31,
   "metadata": {},
   "outputs": [
    {
     "data": {
      "text/html": [
       "<div>\n",
       "<style scoped>\n",
       "    .dataframe tbody tr th:only-of-type {\n",
       "        vertical-align: middle;\n",
       "    }\n",
       "\n",
       "    .dataframe tbody tr th {\n",
       "        vertical-align: top;\n",
       "    }\n",
       "\n",
       "    .dataframe thead th {\n",
       "        text-align: right;\n",
       "    }\n",
       "</style>\n",
       "<table border=\"1\" class=\"dataframe\">\n",
       "  <thead>\n",
       "    <tr style=\"text-align: right;\">\n",
       "      <th></th>\n",
       "      <th>SCM_PARCEL_SPLIT</th>\n",
       "      <th>SCM_VOLUME_PARCEL_PART</th>\n",
       "      <th>SCM_PURCHASE_EXTRA_COSTS</th>\n",
       "      <th>SCM_LINEHOLD_COSTS</th>\n",
       "      <th>SCM_IS_SINGLE_CATEGORY</th>\n",
       "      <th>SCM_FC_ANALYSIS</th>\n",
       "      <th>SCM_IS_ZSP_ORDER</th>\n",
       "      <th>SCM_DELIVERY_DATE</th>\n",
       "      <th>SCM_DELIVERY_HOUR</th>\n",
       "      <th>SCM_SALES_BMF</th>\n",
       "      <th>SCM_NETSALES_BMF</th>\n",
       "      <th>CZP_ID</th>\n",
       "      <th>CZP_OP_ID</th>\n",
       "      <th>CZP_START_DATE</th>\n",
       "      <th>CZP_EXPIRY_DATE</th>\n",
       "      <th>CZP_PERCENTAGE</th>\n",
       "      <th>CZP_PRICE</th>\n",
       "      <th>CZP_DURATION</th>\n",
       "      <th>CZP_ZTQ_ID</th>\n",
       "      <th>K_REGISTER</th>\n",
       "    </tr>\n",
       "  </thead>\n",
       "  <tbody>\n",
       "    <tr>\n",
       "      <th>8282</th>\n",
       "      <td>0</td>\n",
       "      <td>0</td>\n",
       "      <td>0</td>\n",
       "      <td>0</td>\n",
       "      <td>multi category order</td>\n",
       "      <td>multible z+ fc</td>\n",
       "      <td>1</td>\n",
       "      <td>NaN</td>\n",
       "      <td>NaN</td>\n",
       "      <td>5.99</td>\n",
       "      <td>4,9504</td>\n",
       "      <td>3571772.0</td>\n",
       "      <td>460456149.0</td>\n",
       "      <td>2018-04-03</td>\n",
       "      <td>2019-04-03</td>\n",
       "      <td>5.0</td>\n",
       "      <td>5,99</td>\n",
       "      <td>1.0</td>\n",
       "      <td>56.0</td>\n",
       "      <td>1</td>\n",
       "    </tr>\n",
       "    <tr>\n",
       "      <th>8284</th>\n",
       "      <td>0</td>\n",
       "      <td>2,331</td>\n",
       "      <td>0,01</td>\n",
       "      <td>0,049</td>\n",
       "      <td>multi category order</td>\n",
       "      <td>multible z+ fc</td>\n",
       "      <td>1</td>\n",
       "      <td>NaN</td>\n",
       "      <td>NaN</td>\n",
       "      <td>24.99</td>\n",
       "      <td>22,7182</td>\n",
       "      <td>3571772.0</td>\n",
       "      <td>460456149.0</td>\n",
       "      <td>2018-04-03</td>\n",
       "      <td>2019-04-03</td>\n",
       "      <td>5.0</td>\n",
       "      <td>5,99</td>\n",
       "      <td>1.0</td>\n",
       "      <td>56.0</td>\n",
       "      <td>1</td>\n",
       "    </tr>\n",
       "    <tr>\n",
       "      <th>8286</th>\n",
       "      <td>0</td>\n",
       "      <td>0</td>\n",
       "      <td>0</td>\n",
       "      <td>0</td>\n",
       "      <td>multi category order</td>\n",
       "      <td>multible z+ fc</td>\n",
       "      <td>1</td>\n",
       "      <td>NaN</td>\n",
       "      <td>NaN</td>\n",
       "      <td>-4.35</td>\n",
       "      <td>-3,9298</td>\n",
       "      <td>3571772.0</td>\n",
       "      <td>460456149.0</td>\n",
       "      <td>2018-04-03</td>\n",
       "      <td>2019-04-03</td>\n",
       "      <td>5.0</td>\n",
       "      <td>5,99</td>\n",
       "      <td>1.0</td>\n",
       "      <td>56.0</td>\n",
       "      <td>1</td>\n",
       "    </tr>\n",
       "    <tr>\n",
       "      <th>8288</th>\n",
       "      <td>0</td>\n",
       "      <td>38,779</td>\n",
       "      <td>0,24</td>\n",
       "      <td>0</td>\n",
       "      <td>multi category order</td>\n",
       "      <td>multible z+ fc</td>\n",
       "      <td>1</td>\n",
       "      <td>NaN</td>\n",
       "      <td>NaN</td>\n",
       "      <td>55.99</td>\n",
       "      <td>50,9</td>\n",
       "      <td>3571772.0</td>\n",
       "      <td>460456149.0</td>\n",
       "      <td>2018-04-03</td>\n",
       "      <td>2019-04-03</td>\n",
       "      <td>5.0</td>\n",
       "      <td>5,99</td>\n",
       "      <td>1.0</td>\n",
       "      <td>56.0</td>\n",
       "      <td>1</td>\n",
       "    </tr>\n",
       "  </tbody>\n",
       "</table>\n",
       "</div>"
      ],
      "text/plain": [
       "      SCM_PARCEL_SPLIT SCM_VOLUME_PARCEL_PART SCM_PURCHASE_EXTRA_COSTS  \\\n",
       "8282                 0                      0                        0   \n",
       "8284                 0                  2,331                     0,01   \n",
       "8286                 0                      0                        0   \n",
       "8288                 0                 38,779                     0,24   \n",
       "\n",
       "     SCM_LINEHOLD_COSTS SCM_IS_SINGLE_CATEGORY SCM_FC_ANALYSIS  \\\n",
       "8282                  0   multi category order  multible z+ fc   \n",
       "8284              0,049   multi category order  multible z+ fc   \n",
       "8286                  0   multi category order  multible z+ fc   \n",
       "8288                  0   multi category order  multible z+ fc   \n",
       "\n",
       "      SCM_IS_ZSP_ORDER  SCM_DELIVERY_DATE  SCM_DELIVERY_HOUR  SCM_SALES_BMF  \\\n",
       "8282                 1                NaN                NaN           5.99   \n",
       "8284                 1                NaN                NaN          24.99   \n",
       "8286                 1                NaN                NaN          -4.35   \n",
       "8288                 1                NaN                NaN          55.99   \n",
       "\n",
       "     SCM_NETSALES_BMF     CZP_ID    CZP_OP_ID CZP_START_DATE CZP_EXPIRY_DATE  \\\n",
       "8282           4,9504  3571772.0  460456149.0     2018-04-03      2019-04-03   \n",
       "8284          22,7182  3571772.0  460456149.0     2018-04-03      2019-04-03   \n",
       "8286          -3,9298  3571772.0  460456149.0     2018-04-03      2019-04-03   \n",
       "8288             50,9  3571772.0  460456149.0     2018-04-03      2019-04-03   \n",
       "\n",
       "      CZP_PERCENTAGE CZP_PRICE  CZP_DURATION  CZP_ZTQ_ID  K_REGISTER  \n",
       "8282             5.0      5,99           1.0        56.0           1  \n",
       "8284             5.0      5,99           1.0        56.0           1  \n",
       "8286             5.0      5,99           1.0        56.0           1  \n",
       "8288             5.0      5,99           1.0        56.0           1  "
      ]
     },
     "execution_count": 31,
     "metadata": {},
     "output_type": "execute_result"
    }
   ],
   "source": [
    "nc_es[nc_es['SCM_N_ORDER_NR'] == 107967252][nc_es.columns[60:80]]"
   ]
  },
  {
   "cell_type": "markdown",
   "metadata": {},
   "source": [
    "## Changes : PG4 Restrictions, DCR and Prices"
   ]
  },
  {
   "cell_type": "code",
   "execution_count": 32,
   "metadata": {},
   "outputs": [],
   "source": [
    "#Let`s quantify orders buying savings plan\n",
    "sp_daily = nc_es[nc_es['SCM_MASTER_AP_ID'] == 42225].groupby('TDT_T_KEY_ORDER_DATE')['SCM_MASTER_AP_ID'].count()"
   ]
  },
  {
   "cell_type": "code",
   "execution_count": 33,
   "metadata": {},
   "outputs": [
    {
     "data": {
      "image/png": "[encoded data removed]",
      "text/plain": [
       "<matplotlib.figure.Figure at 0x919f9e8>"
      ]
     },
     "metadata": {},
     "output_type": "display_data"
    }
   ],
   "source": [
    "plt.figure(figsize=(16,10))\n",
    "(sp_daily).plot()\n",
    "plt.ylabel('No. of SP sold to NC')\n",
    "plt.xlabel('Order Date')\n",
    "plt.title('Evolution of NC Savings Plan Sold in ES Shop')\n",
    "\n",
    "plt.axvline(x='2018-03-14', color='red')\n",
    "plt.text('2018-03-14', 30, 'brand restrictions & DCR 14 Mar', rotation=90)\n",
    "plt.axvline(x='2018-03-12', color='yellow')\n",
    "plt.text('2018-03-11', 30, 'price_changes week 12-16 Mar', rotation=90)\n",
    "\n",
    "ax = plt.gca()\n",
    "for i, txt in enumerate(sp_daily):\n",
    "    ax.annotate(txt, (sp_daily.index[i],sp_daily.values[i]))"
   ]
  },
  {
   "cell_type": "code",
   "execution_count": 34,
   "metadata": {},
   "outputs": [
    {
     "data": {
      "text/plain": [
       "37.486111111111114"
      ]
     },
     "execution_count": 34,
     "metadata": {},
     "output_type": "execute_result"
    }
   ],
   "source": [
    "sp_daily[sp_daily.index < '2018-03-14'].mean()"
   ]
  },
  {
   "cell_type": "code",
   "execution_count": 35,
   "metadata": {},
   "outputs": [
    {
     "data": {
      "text/plain": [
       "30.757575757575758"
      ]
     },
     "execution_count": 35,
     "metadata": {},
     "output_type": "execute_result"
    }
   ],
   "source": [
    "sp_daily[sp_daily.index >= '2018-03-14'].mean()"
   ]
  },
  {
   "cell_type": "markdown",
   "metadata": {},
   "source": [
    "A two-sample t-test investigates whether the means of two independent data samples differ from one another. In a two-sample test, the null hypothesis is that the means of both groups are the same. "
   ]
  },
  {
   "cell_type": "code",
   "execution_count": 36,
   "metadata": {},
   "outputs": [
    {
     "data": {
      "text/plain": [
       "Ttest_indResult(statistic=3.200607657855827, pvalue=0.0022434946789035826)"
      ]
     },
     "execution_count": 36,
     "metadata": {},
     "output_type": "execute_result"
    }
   ],
   "source": [
    "import scipy.stats as stats\n",
    "stats.ttest_ind(sp_daily[sp_daily.index < '2018-03-14'],\n",
    "                sp_daily[sp_daily.index >= '2018-03-14'],\n",
    "                equal_var=False) "
   ]
  },
  {
   "cell_type": "markdown",
   "metadata": {},
   "source": [
    "Due to p-value < 0.05 we can now reject the null hypothesis stating equality of mean in both groups and go for the alternative one (non equal)."
   ]
  },
  {
   "cell_type": "code",
   "execution_count": 37,
   "metadata": {},
   "outputs": [],
   "source": [
    "lista4 = [float(str(i).replace(',','.')) for i in nc_es['CZP_PRICE']]\n",
    "nc_es['CZP_PRICE'] = lista4"
   ]
  },
  {
   "cell_type": "code",
   "execution_count": 38,
   "metadata": {},
   "outputs": [],
   "source": [
    "buy_sp_orders = nc_es[nc_es['SCM_MASTER_AP_ID'] == 42225]['SCM_N_ORDER_NR'].unique()"
   ]
  },
  {
   "cell_type": "code",
   "execution_count": 39,
   "metadata": {},
   "outputs": [],
   "source": [
    "#Let`s quantify sales related to savings plan price\n",
    "sp_sales_daily = nc_es[nc_es['SCM_MASTER_AP_ID'] == 42225].groupby('TDT_T_KEY_ORDER_DATE')['SCM_SALES_BMF'].sum()"
   ]
  },
  {
   "cell_type": "code",
   "execution_count": 40,
   "metadata": {},
   "outputs": [
    {
     "data": {
      "image/png": "[encoded data removed]",
      "text/plain": [
       "<matplotlib.figure.Figure at 0x161c0710>"
      ]
     },
     "metadata": {},
     "output_type": "display_data"
    }
   ],
   "source": [
    "plt.figure(figsize=(16,10))\n",
    "(sp_sales_daily).plot()\n",
    "plt.ylabel('NC SP sales')\n",
    "plt.xlabel('Order Date')\n",
    "plt.title('Evolution of NC Savings Plan Sales in ES Shop')\n",
    "plt.legend()\n",
    "\n",
    "plt.axvline(x='2018-03-14', color='red')\n",
    "plt.text('2018-03-14', 150, 'brand restrictions & DCR 14 Mar', rotation=90)\n",
    "plt.axvline(x='2018-03-12', color='yellow')\n",
    "plt.text('2018-03-11', 150, 'price_changes week 12-16 Mar', rotation=90)\n",
    "\n",
    "ax = plt.gca()\n",
    "for i, txt in enumerate(sp_sales_daily):\n",
    "    ax.annotate(txt, (sp_sales_daily.index[i],sp_sales_daily.values[i]))"
   ]
  },
  {
   "cell_type": "code",
   "execution_count": 41,
   "metadata": {},
   "outputs": [
    {
     "data": {
      "text/plain": [
       "176.65291666666667"
      ]
     },
     "execution_count": 41,
     "metadata": {},
     "output_type": "execute_result"
    }
   ],
   "source": [
    "sp_sales_daily[sp_sales_daily.index < '2018-03-14'].mean()"
   ]
  },
  {
   "cell_type": "code",
   "execution_count": 42,
   "metadata": {},
   "outputs": [
    {
     "data": {
      "text/plain": [
       "161.45000000000005"
      ]
     },
     "execution_count": 42,
     "metadata": {},
     "output_type": "execute_result"
    }
   ],
   "source": [
    "sp_sales_daily[sp_sales_daily.index >= '2018-03-14'].mean()"
   ]
  },
  {
   "cell_type": "code",
   "execution_count": 43,
   "metadata": {},
   "outputs": [
    {
     "data": {
      "text/plain": [
       "Ttest_indResult(statistic=1.3945670612186059, pvalue=0.16909990212044404)"
      ]
     },
     "execution_count": 43,
     "metadata": {},
     "output_type": "execute_result"
    }
   ],
   "source": [
    "stats.ttest_ind(sp_sales_daily[sp_sales_daily.index < '2018-03-14'],\n",
    "                sp_sales_daily[sp_sales_daily.index >= '2018-03-14'],\n",
    "                equal_var=False) "
   ]
  },
  {
   "cell_type": "markdown",
   "metadata": {},
   "source": [
    "There is no statistical evidence enough (p-value > 0.05) to reject the null hypothesis stating mean equality."
   ]
  },
  {
   "cell_type": "code",
   "execution_count": 44,
   "metadata": {},
   "outputs": [],
   "source": [
    "# And now absolute cm1 and cm2 (mean) per order per day \n",
    "sp_cm1_daily = nc_es[nc_es['SCM_N_ORDER_NR'].isin(buy_sp_orders)].groupby('TDT_T_KEY_ORDER_DATE')['SCM_D_FINANCE_CM1'].sum()/\\\n",
    "               nc_es[nc_es['SCM_N_ORDER_NR'].isin(buy_sp_orders)].groupby('TDT_T_KEY_ORDER_DATE')['SCM_N_ORDER_NR'].nunique()\n",
    "sp_cm2_daily = nc_es[nc_es['SCM_N_ORDER_NR'].isin(buy_sp_orders)].groupby('TDT_T_KEY_ORDER_DATE')['SCM_D_FINANCE_CM2'].sum()/\\\n",
    "               nc_es[nc_es['SCM_N_ORDER_NR'].isin(buy_sp_orders)].groupby('TDT_T_KEY_ORDER_DATE')['SCM_N_ORDER_NR'].nunique()"
   ]
  },
  {
   "cell_type": "code",
   "execution_count": 45,
   "metadata": {},
   "outputs": [
    {
     "data": {
      "image/png": "[encoded data removed]",
      "text/plain": [
       "<matplotlib.figure.Figure at 0xec14f28>"
      ]
     },
     "metadata": {},
     "output_type": "display_data"
    }
   ],
   "source": [
    "plt.figure(figsize=(16,10))\n",
    "(sp_cm1_daily).plot()\n",
    "(sp_cm2_daily).plot()\n",
    "plt.ylabel('NC SP CM1 and CM2')\n",
    "plt.xlabel('Order Date')\n",
    "plt.title('Evolution of NC Savings Plan CM1 & CM2 per order (daily) in ES Shop')\n",
    "\n",
    "blue_patch = mpatches.Patch(color='blue', label='CM1')\n",
    "og_patch = mpatches.Patch(color='orange', label='CM2')\n",
    "plt.legend(handles=[blue_patch, og_patch])\n",
    "\n",
    "plt.axvline(x='2018-03-14', color='red')\n",
    "plt.text('2018-03-14', 30, 'brand restrictions & DCR 14 Mar', rotation=90)\n",
    "plt.axvline(x='2018-03-12', color='yellow')\n",
    "plt.text('2018-03-11', 30, 'price_changes week 12-16 Mar', rotation=90)\n",
    "\n",
    "ax = plt.gca()"
   ]
  },
  {
   "cell_type": "markdown",
   "metadata": {},
   "source": [
    "**Absolute CM1**"
   ]
  },
  {
   "cell_type": "code",
   "execution_count": 46,
   "metadata": {},
   "outputs": [
    {
     "data": {
      "text/plain": [
       "16.76677080400148"
      ]
     },
     "execution_count": 46,
     "metadata": {},
     "output_type": "execute_result"
    }
   ],
   "source": [
    "#Mean CM1 per order before 14 Mar\n",
    "nc_es[(nc_es['SCM_N_ORDER_NR'].isin(buy_sp_orders)) & (nc_es['TDT_T_KEY_ORDER_DATE'] < '2018-03-14')]['SCM_D_FINANCE_CM1'].sum()/\\\n",
    "nc_es[(nc_es['SCM_N_ORDER_NR'].isin(buy_sp_orders)) & (nc_es['TDT_T_KEY_ORDER_DATE'] < '2018-03-14')]['SCM_N_ORDER_NR'].nunique()"
   ]
  },
  {
   "cell_type": "code",
   "execution_count": 47,
   "metadata": {},
   "outputs": [],
   "source": [
    "#CM1 per order before 14 Mar\n",
    "cm1_per_order_bef = nc_es[(nc_es['SCM_N_ORDER_NR'].isin(buy_sp_orders)) & (nc_es['TDT_T_KEY_ORDER_DATE'] < '2018-03-14')]\\\n",
    ".groupby('SCM_N_ORDER_NR')['SCM_D_FINANCE_CM1'].sum()"
   ]
  },
  {
   "cell_type": "code",
   "execution_count": 48,
   "metadata": {},
   "outputs": [
    {
     "data": {
      "text/plain": [
       "20.04197684729064"
      ]
     },
     "execution_count": 48,
     "metadata": {},
     "output_type": "execute_result"
    }
   ],
   "source": [
    "#Mean CM1 per order from 14 Mar on\n",
    "nc_es[(nc_es['SCM_N_ORDER_NR'].isin(buy_sp_orders)) & (nc_es['TDT_T_KEY_ORDER_DATE'] >= '2018-03-14')]['SCM_D_FINANCE_CM1'].sum()/\\\n",
    "nc_es[(nc_es['SCM_N_ORDER_NR'].isin(buy_sp_orders)) & (nc_es['TDT_T_KEY_ORDER_DATE'] >= '2018-03-14')]['SCM_N_ORDER_NR'].nunique()"
   ]
  },
  {
   "cell_type": "code",
   "execution_count": 49,
   "metadata": {},
   "outputs": [],
   "source": [
    "#CM1 per order from 14 Mar on\n",
    "cm1_per_order_aft = nc_es[(nc_es['SCM_N_ORDER_NR'].isin(buy_sp_orders)) & (nc_es['TDT_T_KEY_ORDER_DATE'] >= '2018-03-14')]\\\n",
    ".groupby('SCM_N_ORDER_NR')['SCM_D_FINANCE_CM1'].sum()"
   ]
  },
  {
   "cell_type": "code",
   "execution_count": 50,
   "metadata": {},
   "outputs": [
    {
     "data": {
      "text/plain": [
       "Ttest_indResult(statistic=-6.958150501757947, pvalue=4.925813066734834e-12)"
      ]
     },
     "execution_count": 50,
     "metadata": {},
     "output_type": "execute_result"
    }
   ],
   "source": [
    "stats.ttest_ind(cm1_per_order_bef,\n",
    "                cm1_per_order_aft,\n",
    "                equal_var=False) "
   ]
  },
  {
   "cell_type": "markdown",
   "metadata": {},
   "source": [
    "Due to p-value < 0.05 we can now reject the null hypothesis stating equality of mean in both groups and go for the alternative one (non equal)."
   ]
  },
  {
   "cell_type": "markdown",
   "metadata": {},
   "source": [
    "**Absolute CM2**"
   ]
  },
  {
   "cell_type": "code",
   "execution_count": 51,
   "metadata": {},
   "outputs": [
    {
     "data": {
      "text/plain": [
       "5.497255353834753"
      ]
     },
     "execution_count": 51,
     "metadata": {},
     "output_type": "execute_result"
    }
   ],
   "source": [
    "#Daily mean CM2 per order before 14 Mar\n",
    "nc_es[(nc_es['SCM_N_ORDER_NR'].isin(buy_sp_orders)) & (nc_es['TDT_T_KEY_ORDER_DATE'] < '2018-03-14')]['SCM_D_FINANCE_CM2'].sum()/\\\n",
    "nc_es[(nc_es['SCM_N_ORDER_NR'].isin(buy_sp_orders)) & (nc_es['TDT_T_KEY_ORDER_DATE'] < '2018-03-14')]['SCM_N_ORDER_NR'].nunique()"
   ]
  },
  {
   "cell_type": "code",
   "execution_count": 52,
   "metadata": {},
   "outputs": [],
   "source": [
    "cm2_per_order_bef = nc_es[(nc_es['SCM_N_ORDER_NR'].isin(buy_sp_orders)) & (nc_es['TDT_T_KEY_ORDER_DATE'] < '2018-03-14')]\\\n",
    ".groupby('SCM_N_ORDER_NR')['SCM_D_FINANCE_CM2'].sum()"
   ]
  },
  {
   "cell_type": "code",
   "execution_count": 53,
   "metadata": {},
   "outputs": [
    {
     "data": {
      "text/plain": [
       "7.9992380295566505"
      ]
     },
     "execution_count": 53,
     "metadata": {},
     "output_type": "execute_result"
    }
   ],
   "source": [
    "#Daily mean CM2 per order from 14 Mar on\n",
    "nc_es[(nc_es['SCM_N_ORDER_NR'].isin(buy_sp_orders)) & (nc_es['TDT_T_KEY_ORDER_DATE'] >= '2018-03-14')]['SCM_D_FINANCE_CM2'].sum()/\\\n",
    "nc_es[(nc_es['SCM_N_ORDER_NR'].isin(buy_sp_orders)) & (nc_es['TDT_T_KEY_ORDER_DATE'] >= '2018-03-14')]['SCM_N_ORDER_NR'].nunique()"
   ]
  },
  {
   "cell_type": "code",
   "execution_count": 54,
   "metadata": {},
   "outputs": [],
   "source": [
    "cm2_per_order_aft = nc_es[(nc_es['SCM_N_ORDER_NR'].isin(buy_sp_orders)) & (nc_es['TDT_T_KEY_ORDER_DATE'] >= '2018-03-14')]\\\n",
    ".groupby('SCM_N_ORDER_NR')['SCM_D_FINANCE_CM2'].sum()"
   ]
  },
  {
   "cell_type": "code",
   "execution_count": 55,
   "metadata": {},
   "outputs": [
    {
     "data": {
      "text/plain": [
       "Ttest_indResult(statistic=-6.8754802560925565, pvalue=8.22087493612799e-12)"
      ]
     },
     "execution_count": 55,
     "metadata": {},
     "output_type": "execute_result"
    }
   ],
   "source": [
    "stats.ttest_ind(cm2_per_order_bef,\n",
    "                cm2_per_order_aft,\n",
    "                equal_var=False) "
   ]
  },
  {
   "cell_type": "markdown",
   "metadata": {},
   "source": [
    "Due to p-value < 0.05 we can now reject the null hypothesis stating equality of mean in both groups and go for the alternative one (non equal)."
   ]
  },
  {
   "cell_type": "code",
   "execution_count": 56,
   "metadata": {},
   "outputs": [],
   "source": [
    "lista5 = [float(str(i).replace(',','.')) for i in nc_es['OSP_NET_VALUE']]\n",
    "nc_es['OSP_NET_VALUE'] = lista5"
   ]
  },
  {
   "cell_type": "code",
   "execution_count": 57,
   "metadata": {},
   "outputs": [],
   "source": [
    "nc_es['REL_%_CM1'] = nc_es['SCM_D_FINANCE_CM1'] / nc_es['OSP_NET_VALUE'] * 100"
   ]
  },
  {
   "cell_type": "code",
   "execution_count": 58,
   "metadata": {},
   "outputs": [],
   "source": [
    "nc_es['REL_%_CM2'] = nc_es['SCM_D_FINANCE_CM2'] / nc_es['OSP_NET_VALUE'] * 100"
   ]
  },
  {
   "cell_type": "code",
   "execution_count": 59,
   "metadata": {},
   "outputs": [],
   "source": [
    "#Relative % cm1 and cm2 (mean) per order per day \n",
    "rel_cm1_per_order = nc_es[nc_es['SCM_N_ORDER_NR'].isin(buy_sp_orders)]\\\n",
    ".groupby(['TDT_T_KEY_ORDER_DATE','SCM_N_ORDER_NR'],  as_index=False)['REL_%_CM1'].sum()\n",
    "\n",
    "rel_cm1_per_order_by_day = rel_cm1_per_order.groupby('TDT_T_KEY_ORDER_DATE')['REL_%_CM1'].mean()\n",
    "\n",
    "rel_cm2_per_order = nc_es[nc_es['SCM_N_ORDER_NR'].isin(buy_sp_orders)]\\\n",
    ".groupby(['TDT_T_KEY_ORDER_DATE','SCM_N_ORDER_NR'],  as_index=False)['REL_%_CM2'].sum()\n",
    "\n",
    "rel_cm2_per_order_by_day = rel_cm2_per_order.groupby('TDT_T_KEY_ORDER_DATE')['REL_%_CM2'].mean()"
   ]
  },
  {
   "cell_type": "code",
   "execution_count": 60,
   "metadata": {},
   "outputs": [
    {
     "data": {
      "image/png": "[encoded data removed]",
      "text/plain": [
       "<matplotlib.figure.Figure at 0x16541c50>"
      ]
     },
     "metadata": {},
     "output_type": "display_data"
    }
   ],
   "source": [
    "plt.figure(figsize=(16,10))\n",
    "(rel_cm1_per_order_by_day).plot()\n",
    "(rel_cm2_per_order_by_day).plot()\n",
    "plt.ylabel('NC SP %CM1 and %CM2')\n",
    "plt.xlabel('Order Date')\n",
    "plt.title('Evolution of NC Savings Plan Relative % CM1 & CM2 per order (daily) in ES Shop')\n",
    "\n",
    "blue_patch = mpatches.Patch(color='blue', label='% CM1')\n",
    "og_patch = mpatches.Patch(color='orange', label='% CM2')\n",
    "plt.legend(handles=[blue_patch, og_patch])\n",
    "\n",
    "plt.axvline(x='2018-03-14', color='red')\n",
    "plt.text('2018-03-14', 22, 'brand restrictions & DCR 14 Mar', rotation=90)\n",
    "plt.axvline(x='2018-03-12', color='yellow')\n",
    "plt.text('2018-03-11', 22, 'price_changes week 12-16 Mar', rotation=90)\n",
    "\n",
    "ax = plt.gca()"
   ]
  },
  {
   "cell_type": "markdown",
   "metadata": {},
   "source": [
    "**Relative CM1**"
   ]
  },
  {
   "cell_type": "code",
   "execution_count": 61,
   "metadata": {},
   "outputs": [
    {
     "data": {
      "text/plain": [
       "26.26119307146302"
      ]
     },
     "execution_count": 61,
     "metadata": {},
     "output_type": "execute_result"
    }
   ],
   "source": [
    "#Mean relative CM1 % per order before 14 Mar\n",
    "nc_es[(nc_es['SCM_N_ORDER_NR'].isin(buy_sp_orders)) & (nc_es['TDT_T_KEY_ORDER_DATE'] < '2018-03-14')]\\\n",
    ".groupby('SCM_N_ORDER_NR')['REL_%_CM1'].sum().mean()"
   ]
  },
  {
   "cell_type": "code",
   "execution_count": 62,
   "metadata": {},
   "outputs": [],
   "source": [
    "#Relative CM1 % per order before 14 Mar\n",
    "rel_cm1_per_order_bef = nc_es[(nc_es['SCM_N_ORDER_NR'].isin(buy_sp_orders)) & (nc_es['TDT_T_KEY_ORDER_DATE'] < '2018-03-14')]\\\n",
    ".groupby('SCM_N_ORDER_NR')['REL_%_CM1'].sum()"
   ]
  },
  {
   "cell_type": "code",
   "execution_count": 63,
   "metadata": {},
   "outputs": [
    {
     "data": {
      "text/plain": [
       "28.194254691551052"
      ]
     },
     "execution_count": 63,
     "metadata": {},
     "output_type": "execute_result"
    }
   ],
   "source": [
    "#Mean relative CM1 % per order from 14 Mar on\n",
    "nc_es[(nc_es['SCM_N_ORDER_NR'].isin(buy_sp_orders)) & (nc_es['TDT_T_KEY_ORDER_DATE'] >= '2018-03-14')]\\\n",
    ".groupby('SCM_N_ORDER_NR')['REL_%_CM1'].sum().mean()"
   ]
  },
  {
   "cell_type": "code",
   "execution_count": 64,
   "metadata": {},
   "outputs": [],
   "source": [
    "#Relative CM1 % per order from 14 Mar on\n",
    "rel_cm1_per_order_aft = nc_es[(nc_es['SCM_N_ORDER_NR'].isin(buy_sp_orders)) & (nc_es['TDT_T_KEY_ORDER_DATE'] < '2018-03-14')]\\\n",
    ".groupby('SCM_N_ORDER_NR')['REL_%_CM1'].sum()"
   ]
  },
  {
   "cell_type": "markdown",
   "metadata": {},
   "source": [
    "**Relative CM2**"
   ]
  },
  {
   "cell_type": "code",
   "execution_count": 65,
   "metadata": {},
   "outputs": [
    {
     "data": {
      "text/plain": [
       "8.153597758177105"
      ]
     },
     "execution_count": 65,
     "metadata": {},
     "output_type": "execute_result"
    }
   ],
   "source": [
    "nc_es[(nc_es['SCM_N_ORDER_NR'].isin(buy_sp_orders)) & (nc_es['TDT_T_KEY_ORDER_DATE'] < '2018-03-14')]\\\n",
    ".groupby('SCM_N_ORDER_NR')['REL_%_CM2'].sum().mean()"
   ]
  },
  {
   "cell_type": "code",
   "execution_count": 66,
   "metadata": {},
   "outputs": [],
   "source": [
    "rel_cm2_per_order_bef = nc_es[(nc_es['SCM_N_ORDER_NR'].isin(buy_sp_orders)) & (nc_es['TDT_T_KEY_ORDER_DATE'] < '2018-03-14')]\\\n",
    ".groupby('SCM_N_ORDER_NR')['REL_%_CM2'].sum()"
   ]
  },
  {
   "cell_type": "code",
   "execution_count": 67,
   "metadata": {},
   "outputs": [
    {
     "data": {
      "text/plain": [
       "10.446541378666847"
      ]
     },
     "execution_count": 67,
     "metadata": {},
     "output_type": "execute_result"
    }
   ],
   "source": [
    "nc_es[(nc_es['SCM_N_ORDER_NR'].isin(buy_sp_orders)) & (nc_es['TDT_T_KEY_ORDER_DATE'] >= '2018-03-14')]\\\n",
    ".groupby('SCM_N_ORDER_NR')['REL_%_CM2'].sum().mean()"
   ]
  },
  {
   "cell_type": "code",
   "execution_count": 68,
   "metadata": {},
   "outputs": [],
   "source": [
    "rel_cm2_per_order_aft = nc_es[(nc_es['SCM_N_ORDER_NR'].isin(buy_sp_orders)) & (nc_es['TDT_T_KEY_ORDER_DATE'] < '2018-03-14')]\\\n",
    ".groupby('SCM_N_ORDER_NR')['REL_%_CM2'].sum()"
   ]
  },
  {
   "cell_type": "markdown",
   "metadata": {},
   "source": [
    "***SUMMARY***"
   ]
  },
  {
   "cell_type": "markdown",
   "metadata": {},
   "source": [
    "| Date        | No. NC SP Sold per day| Sales NC SP Sold per day | CM1 per order (daily) | CM2 per order (daily)  | CM1% per order (daily) | CM2% per order (daily)  |\n",
    "| ------------- |:-------------:| -----:|:-------------:| -----:||:-------------:| -----:|\n",
    "| Before 14 Mar      | 37.49 | 176.65 | 16.77 | 5.50 | 26.26% | 8.15% |\n",
    "| From 14 Mar on     | 30.76     |   161.45 | 20.04 | 8.00 | 28.19% | 10.45% |"
   ]
  },
  {
   "cell_type": "markdown",
   "metadata": {},
   "source": [
    "..........................................................................................................................................................................................................................................."
   ]
  },
  {
   "attachments": {
    "image.png": {
     "image/png": "[encoded data removed]"
    }
   },
   "cell_type": "markdown",
   "metadata": {},
   "source": [
    "<html><head>\n",
    "\n",
    "\n",
    "<!-- Load require.js. Delete this if your page already loads require.js -->\n",
    "<script src=\"https://cdnjs.cloudflare.com/ajax/libs/require.js/2.3.4/require.min.js\" integrity=\"sha256-Ae2Vz/4ePdIu6ZyI/5ZGsYnb+m0JlOmKPjt6XZ9JJkA=\" crossorigin=\"anonymous\"></script>\n",
    "<script src=\"https://unpkg.com/@jupyter-widgets/html-manager@*/dist/embed-amd.js\" crossorigin=\"anonymous\"></script>\n",
    "<script type=\"application/vnd.jupyter.widget-state+json\">\n",
    "{\n",
    "    \"version_major\": 2,\n",
    "    \"version_minor\": 0,\n",
    "    \"state\": {}\n",
    "}\n",
    "</script>\n",
    "</head>\n",
    "<body>\n",
    "\n",
    "\n",
    "</body>\n",
    "</html>\n",
    "![image.png](attachment:image.png)"
   ]
  },
  {
   "cell_type": "code",
   "execution_count": 69,
   "metadata": {},
   "outputs": [
    {
     "data": {
      "text/plain": [
       "56.0    822\n",
       "55.0    207\n",
       "Name: CZP_ZTQ_ID, dtype: int64"
      ]
     },
     "execution_count": 69,
     "metadata": {},
     "output_type": "execute_result"
    }
   ],
   "source": [
    "#Type & number of different Savings Plan bought\n",
    "nc_es[nc_es['SCM_MASTER_AP_ID'] == 42225]['CZP_ZTQ_ID'].value_counts()"
   ]
  },
  {
   "cell_type": "code",
   "execution_count": 70,
   "metadata": {},
   "outputs": [
    {
     "data": {
      "text/plain": [
       "1    35056\n",
       "2    22920\n",
       "Name: OSP_KO_COUNT_NET, dtype: int64"
      ]
     },
     "execution_count": 70,
     "metadata": {},
     "output_type": "execute_result"
    }
   ],
   "source": [
    "#Number of 1st and 2nd orders in our dataset\n",
    "nc_es.groupby('SCM_N_ORDER_NR')['OSP_KO_COUNT_NET'].mean().value_counts()"
   ]
  },
  {
   "cell_type": "code",
   "execution_count": 71,
   "metadata": {},
   "outputs": [],
   "source": [
    "#Let's list new lead PG4 restrictions for ES SHOP\n",
    "pg4_excluded = [154815, 519, 47690, 140720, 172210, 282, 71977, 23302, 42545, 286, 242694, 172217, 2712, 46071, 9702, \n",
    "               314, 4891, 177843, 10850, 192127, 154814, 2078, 242705]"
   ]
  },
  {
   "cell_type": "code",
   "execution_count": 72,
   "metadata": {},
   "outputs": [
    {
     "data": {
      "text/plain": [
       "23"
      ]
     },
     "execution_count": 72,
     "metadata": {},
     "output_type": "execute_result"
    }
   ],
   "source": [
    "len(pg4_excluded)"
   ]
  },
  {
   "cell_type": "code",
   "execution_count": 73,
   "metadata": {},
   "outputs": [],
   "source": [
    "#HCLV PG3 old\n",
    "pg3_hclv_old = [857, 251, 2068, 252, 18, 301, 23, 29, 34, 38]"
   ]
  },
  {
   "cell_type": "code",
   "execution_count": 74,
   "metadata": {},
   "outputs": [],
   "source": [
    "#HCLV PG3 new set up\n",
    "pg3_hclv_new = [23, 38, 251, 252, 857, 2068]"
   ]
  },
  {
   "cell_type": "code",
   "execution_count": 75,
   "metadata": {},
   "outputs": [],
   "source": [
    "#Split dataset using 13/03/2018 as inflection point...\n",
    "bef = nc_es[nc_es['TDT_T_KEY_ORDER_DATE'] < '2018-03-14']\n",
    "aft = nc_es[nc_es['TDT_T_KEY_ORDER_DATE'] >= '2018-03-14']"
   ]
  },
  {
   "cell_type": "code",
   "execution_count": 76,
   "metadata": {},
   "outputs": [
    {
     "data": {
      "text/plain": [
       "(40585, 17391)"
      ]
     },
     "execution_count": 76,
     "metadata": {},
     "output_type": "execute_result"
    }
   ],
   "source": [
    "bef['SCM_N_ORDER_NR'].nunique(), aft['SCM_N_ORDER_NR'].nunique()"
   ]
  },
  {
   "cell_type": "markdown",
   "metadata": {},
   "source": [
    "**Conversion before 14 Mar Period**"
   ]
  },
  {
   "cell_type": "markdown",
   "metadata": {},
   "source": [
    "Let's evaluate NC SP conversion in first orders (before 14 Mar) dividing total SP sold in first order (having HCLV PG3 old set up and AP_ID == 42225) by total 1st orders placed having the suitable HCLV PG3 (old set up):"
   ]
  },
  {
   "cell_type": "code",
   "execution_count": 77,
   "metadata": {},
   "outputs": [],
   "source": [
    "#All eligible customers in 1st orders having HCLV PG3 (old set up)\n",
    "all_elig_1st = bef[(bef['OSP_KO_COUNT_NET'] == 1) & (bef['OSP_3_LEAD_P_PG_ID'].isin(pg3_hclv_old))]['CUS_N_KEY_CUSTOMER'].unique()"
   ]
  },
  {
   "cell_type": "code",
   "execution_count": 78,
   "metadata": {},
   "outputs": [],
   "source": [
    "#Those eligible in 1st order who also bought it\n",
    "buy_in_1st = bef[(bef['OSP_KO_COUNT_NET'] == 1) & (bef['OSP_3_LEAD_P_PG_ID'].isin(pg3_hclv_old)) & (bef['SCM_MASTER_AP_ID'] == 42225)]\\\n",
    "['CUS_N_KEY_CUSTOMER'].unique()"
   ]
  },
  {
   "cell_type": "code",
   "execution_count": 79,
   "metadata": {},
   "outputs": [
    {
     "data": {
      "text/plain": [
       "1338"
      ]
     },
     "execution_count": 79,
     "metadata": {},
     "output_type": "execute_result"
    }
   ],
   "source": [
    "len(buy_in_1st)"
   ]
  },
  {
   "cell_type": "code",
   "execution_count": 80,
   "metadata": {},
   "outputs": [
    {
     "data": {
      "text/plain": [
       "16105"
      ]
     },
     "execution_count": 80,
     "metadata": {},
     "output_type": "execute_result"
    }
   ],
   "source": [
    "len(all_elig_1st)"
   ]
  },
  {
   "cell_type": "markdown",
   "metadata": {},
   "source": [
    "% Conversion rate in 1st orders"
   ]
  },
  {
   "cell_type": "code",
   "execution_count": 81,
   "metadata": {},
   "outputs": [
    {
     "data": {
      "text/plain": [
       "8.30797888854393"
      ]
     },
     "execution_count": 81,
     "metadata": {},
     "output_type": "execute_result"
    }
   ],
   "source": [
    "float(len(buy_in_1st)) / len(all_elig_1st) * 100"
   ]
  },
  {
   "cell_type": "markdown",
   "metadata": {},
   "source": [
    "Let's go through 2nd orders conversion using set operations. Due to time window, we are going to use only data from customer having both, 1st and 2nd orders in the dataset."
   ]
  },
  {
   "cell_type": "code",
   "execution_count": 82,
   "metadata": {},
   "outputs": [],
   "source": [
    "#Total customers id in 1st orders\n",
    "cus_1st = bef[bef['OSP_KO_COUNT_NET'] == 1]['CUS_N_KEY_CUSTOMER'].unique()"
   ]
  },
  {
   "cell_type": "code",
   "execution_count": 83,
   "metadata": {},
   "outputs": [],
   "source": [
    "#Total 2nd orders\n",
    "cus_2nd = bef[bef['OSP_KO_COUNT_NET'] == 2]['CUS_N_KEY_CUSTOMER'].unique()"
   ]
  },
  {
   "cell_type": "code",
   "execution_count": 84,
   "metadata": {},
   "outputs": [],
   "source": [
    "cus_sample = [i for i in cus_1st if i in cus_2nd]"
   ]
  },
  {
   "cell_type": "code",
   "execution_count": 85,
   "metadata": {},
   "outputs": [],
   "source": [
    "#1st orders in cus_sample\n",
    "cus_1_st = bef[(bef['OSP_KO_COUNT_NET'] == 1) &\n",
    "           bef['CUS_N_KEY_CUSTOMER'].isin(cus_sample)]['CUS_N_KEY_CUSTOMER'].unique()"
   ]
  },
  {
   "cell_type": "code",
   "execution_count": 86,
   "metadata": {},
   "outputs": [],
   "source": [
    "#2nd orders in cus_sample\n",
    "cus_2_nd = bef[(bef['OSP_KO_COUNT_NET'] == 2) &\n",
    "           bef['CUS_N_KEY_CUSTOMER'].isin(cus_sample)]['CUS_N_KEY_CUSTOMER'].unique()"
   ]
  },
  {
   "cell_type": "code",
   "execution_count": 87,
   "metadata": {},
   "outputs": [
    {
     "data": {
      "text/plain": [
       "(4458, 4458, 4458)"
      ]
     },
     "execution_count": 87,
     "metadata": {},
     "output_type": "execute_result"
    }
   ],
   "source": [
    "len(cus_sample), len(cus_1_st), len(cus_2_nd)"
   ]
  },
  {
   "cell_type": "code",
   "execution_count": 88,
   "metadata": {},
   "outputs": [],
   "source": [
    "#Eligible customer ids in 1st order\n",
    "cus_elig_1st = bef[(bef['OSP_KO_COUNT_NET'] == 1) & (bef['OSP_3_LEAD_P_PG_ID'].isin(pg3_hclv_old)) &\n",
    "                  (bef['CUS_N_KEY_CUSTOMER'].isin(cus_sample))]['CUS_N_KEY_CUSTOMER'].unique()"
   ]
  },
  {
   "cell_type": "code",
   "execution_count": 89,
   "metadata": {},
   "outputs": [
    {
     "data": {
      "text/plain": [
       "3238"
      ]
     },
     "execution_count": 89,
     "metadata": {},
     "output_type": "execute_result"
    }
   ],
   "source": [
    "len(cus_elig_1st)"
   ]
  },
  {
   "cell_type": "code",
   "execution_count": 90,
   "metadata": {},
   "outputs": [],
   "source": [
    "#Non-eligible customer ids in 1st order\n",
    "cus_not_elig_1st = [i for i in cus_1_st if i not in cus_elig_1st]"
   ]
  },
  {
   "cell_type": "code",
   "execution_count": 91,
   "metadata": {},
   "outputs": [
    {
     "data": {
      "text/plain": [
       "1220"
      ]
     },
     "execution_count": 91,
     "metadata": {},
     "output_type": "execute_result"
    }
   ],
   "source": [
    "len(cus_not_elig_1st)"
   ]
  },
  {
   "cell_type": "code",
   "execution_count": 92,
   "metadata": {},
   "outputs": [
    {
     "data": {
      "text/plain": [
       "True"
      ]
     },
     "execution_count": 92,
     "metadata": {},
     "output_type": "execute_result"
    }
   ],
   "source": [
    "len(cus_elig_1st) + len(cus_not_elig_1st) == len(cus_1_st)"
   ]
  },
  {
   "cell_type": "code",
   "execution_count": 93,
   "metadata": {},
   "outputs": [],
   "source": [
    "#Customer ids elegible in 1st and buying SP in 1st\n",
    "cus_buy_in_1st = bef[(bef['OSP_KO_COUNT_NET'] == 1) & (bef['OSP_3_LEAD_P_PG_ID'].isin(pg3_hclv_old)) &\n",
    "                (bef['SCM_MASTER_AP_ID'] == 42225) & (bef['CUS_N_KEY_CUSTOMER'].isin(cus_sample))]\\\n",
    "                ['CUS_N_KEY_CUSTOMER'].unique()"
   ]
  },
  {
   "cell_type": "code",
   "execution_count": 94,
   "metadata": {},
   "outputs": [
    {
     "data": {
      "text/plain": [
       "351"
      ]
     },
     "execution_count": 94,
     "metadata": {},
     "output_type": "execute_result"
    }
   ],
   "source": [
    "len(cus_buy_in_1st)"
   ]
  },
  {
   "cell_type": "markdown",
   "metadata": {},
   "source": [
    "% Conversion rate in 1st orders for our sample (higher...due to a more buying frequency?)"
   ]
  },
  {
   "cell_type": "code",
   "execution_count": 95,
   "metadata": {},
   "outputs": [
    {
     "data": {
      "text/plain": [
       "10.840024706609018"
      ]
     },
     "execution_count": 95,
     "metadata": {},
     "output_type": "execute_result"
    }
   ],
   "source": [
    "float(len(cus_buy_in_1st)) / len(cus_elig_1st) * 100"
   ]
  },
  {
   "cell_type": "code",
   "execution_count": 96,
   "metadata": {},
   "outputs": [],
   "source": [
    "#Customer ids elegible in 1st but not buying SP \n",
    "cus_elig_1st_not_buy = [i for i in cus_elig_1st if i not in cus_buy_in_1st]"
   ]
  },
  {
   "cell_type": "code",
   "execution_count": 97,
   "metadata": {},
   "outputs": [
    {
     "data": {
      "text/plain": [
       "2887"
      ]
     },
     "execution_count": 97,
     "metadata": {},
     "output_type": "execute_result"
    }
   ],
   "source": [
    "len(cus_elig_1st_not_buy)"
   ]
  },
  {
   "cell_type": "code",
   "execution_count": 98,
   "metadata": {},
   "outputs": [
    {
     "data": {
      "text/plain": [
       "True"
      ]
     },
     "execution_count": 98,
     "metadata": {},
     "output_type": "execute_result"
    }
   ],
   "source": [
    "len(cus_buy_in_1st) + len(cus_elig_1st_not_buy) == len(cus_elig_1st)"
   ]
  },
  {
   "cell_type": "code",
   "execution_count": 99,
   "metadata": {},
   "outputs": [],
   "source": [
    "#Customer ids with suitable 2nd orders to offer SP looking at lead PG3 (fake)\n",
    "cus_elig_2nd = bef[(bef['OSP_KO_COUNT_NET'] == 2) & (bef['OSP_3_LEAD_P_PG_ID'].isin(pg3_hclv_old)) &\n",
    "                  (bef['CUS_N_KEY_CUSTOMER'].isin(cus_sample))]['CUS_N_KEY_CUSTOMER'].unique()"
   ]
  },
  {
   "cell_type": "code",
   "execution_count": 100,
   "metadata": {},
   "outputs": [
    {
     "data": {
      "text/plain": [
       "3267"
      ]
     },
     "execution_count": 100,
     "metadata": {},
     "output_type": "execute_result"
    }
   ],
   "source": [
    "len(cus_elig_2nd)"
   ]
  },
  {
   "cell_type": "code",
   "execution_count": 101,
   "metadata": {},
   "outputs": [],
   "source": [
    "#Customer ids with no suitable 2nd orders to offer SP looking at lead PG3 (fake)\n",
    "cus_not_elig_2nd = [i for i in cus_2_nd if i not in cus_elig_2nd]"
   ]
  },
  {
   "cell_type": "code",
   "execution_count": 102,
   "metadata": {},
   "outputs": [
    {
     "data": {
      "text/plain": [
       "1191"
      ]
     },
     "execution_count": 102,
     "metadata": {},
     "output_type": "execute_result"
    }
   ],
   "source": [
    "len(cus_not_elig_2nd)"
   ]
  },
  {
   "cell_type": "code",
   "execution_count": 103,
   "metadata": {},
   "outputs": [],
   "source": [
    "#Total SP bought in 2nd order\n",
    "cus_buy_in_2nd = bef[(bef['OSP_KO_COUNT_NET'] == 2) & (bef['SCM_MASTER_AP_ID'] == 42225) &\n",
    "                   (bef['CUS_N_KEY_CUSTOMER'].isin(cus_sample))]['CUS_N_KEY_CUSTOMER'].unique()"
   ]
  },
  {
   "cell_type": "code",
   "execution_count": 104,
   "metadata": {},
   "outputs": [
    {
     "data": {
      "text/plain": [
       "405"
      ]
     },
     "execution_count": 104,
     "metadata": {},
     "output_type": "execute_result"
    }
   ],
   "source": [
    "len(cus_buy_in_2nd)"
   ]
  },
  {
   "cell_type": "code",
   "execution_count": 105,
   "metadata": {},
   "outputs": [],
   "source": [
    "#Eligible in 1st order customer ids making a 2nd order but not buying \n",
    "cus_elig_1st_2nd = [i for i in cus_elig_1st_not_buy if i in cus_2_nd and i not in cus_buy_in_2nd]"
   ]
  },
  {
   "cell_type": "code",
   "execution_count": 106,
   "metadata": {},
   "outputs": [
    {
     "data": {
      "text/plain": [
       "2543"
      ]
     },
     "execution_count": 106,
     "metadata": {},
     "output_type": "execute_result"
    }
   ],
   "source": [
    "len(cus_elig_1st_2nd)"
   ]
  },
  {
   "cell_type": "code",
   "execution_count": 107,
   "metadata": {},
   "outputs": [],
   "source": [
    "#Eligible in 1st order customer ids making a 2nd order where SP is bought \n",
    "cus_elig_1st_buy_2nd = [i for i in cus_elig_1st_not_buy if i in cus_buy_in_2nd]"
   ]
  },
  {
   "cell_type": "code",
   "execution_count": 108,
   "metadata": {},
   "outputs": [
    {
     "data": {
      "text/plain": [
       "344"
      ]
     },
     "execution_count": 108,
     "metadata": {},
     "output_type": "execute_result"
    }
   ],
   "source": [
    "len(cus_elig_1st_buy_2nd)"
   ]
  },
  {
   "cell_type": "code",
   "execution_count": 109,
   "metadata": {},
   "outputs": [
    {
     "data": {
      "text/plain": [
       "True"
      ]
     },
     "execution_count": 109,
     "metadata": {},
     "output_type": "execute_result"
    }
   ],
   "source": [
    "len(cus_elig_1st_2nd) + len(cus_elig_1st_buy_2nd) == len(cus_elig_1st_not_buy)"
   ]
  },
  {
   "cell_type": "code",
   "execution_count": 110,
   "metadata": {},
   "outputs": [],
   "source": [
    "#Customers ids non eligible in 1st, eligible during 2nd and not buying SP\n",
    "cus_not_elig_1st_2nd = [i for i in cus_not_elig_1st if i in cus_elig_2nd and i not in cus_buy_in_2nd]"
   ]
  },
  {
   "cell_type": "code",
   "execution_count": 111,
   "metadata": {},
   "outputs": [
    {
     "data": {
      "text/plain": [
       "472"
      ]
     },
     "execution_count": 111,
     "metadata": {},
     "output_type": "execute_result"
    }
   ],
   "source": [
    "len(cus_not_elig_1st_2nd)"
   ]
  },
  {
   "cell_type": "code",
   "execution_count": 112,
   "metadata": {},
   "outputs": [],
   "source": [
    "#Customers ids non eligible in 1st, eligible during 2nd and buying SP\n",
    "cus_not_elig_1st_buy_2nd = [i for i in cus_not_elig_1st if i in cus_buy_in_2nd]"
   ]
  },
  {
   "cell_type": "code",
   "execution_count": 113,
   "metadata": {},
   "outputs": [
    {
     "data": {
      "text/plain": [
       "61"
      ]
     },
     "execution_count": 113,
     "metadata": {},
     "output_type": "execute_result"
    }
   ],
   "source": [
    "len(cus_not_elig_1st_buy_2nd)"
   ]
  },
  {
   "cell_type": "code",
   "execution_count": 114,
   "metadata": {},
   "outputs": [
    {
     "data": {
      "text/plain": [
       "405"
      ]
     },
     "execution_count": 114,
     "metadata": {},
     "output_type": "execute_result"
    }
   ],
   "source": [
    "#eligible and non eligible customer ids in 1st order, eligible in 2nd and buying SP\n",
    "len(cus_elig_1st_buy_2nd) + len(cus_not_elig_1st_buy_2nd)"
   ]
  },
  {
   "cell_type": "code",
   "execution_count": 115,
   "metadata": {},
   "outputs": [
    {
     "data": {
      "text/plain": [
       "3420"
      ]
     },
     "execution_count": 115,
     "metadata": {},
     "output_type": "execute_result"
    }
   ],
   "source": [
    "#Total eligible customer ids in 2nd order\n",
    "len(cus_elig_1st_2nd) + len(cus_elig_1st_buy_2nd) + len(cus_not_elig_1st_2nd) + len(cus_not_elig_1st_buy_2nd)"
   ]
  },
  {
   "cell_type": "markdown",
   "metadata": {},
   "source": [
    "% Conversion rate in 2nd order"
   ]
  },
  {
   "cell_type": "code",
   "execution_count": 116,
   "metadata": {},
   "outputs": [
    {
     "data": {
      "text/plain": [
       "11.842105263157894"
      ]
     },
     "execution_count": 116,
     "metadata": {},
     "output_type": "execute_result"
    }
   ],
   "source": [
    "float(len(cus_elig_1st_buy_2nd) + len(cus_not_elig_1st_buy_2nd))/\\\n",
    "(len(cus_elig_1st_2nd) + len(cus_elig_1st_buy_2nd) + len(cus_not_elig_1st_2nd) + len(cus_not_elig_1st_buy_2nd)) * 100"
   ]
  },
  {
   "cell_type": "markdown",
   "metadata": {},
   "source": [
    "**Conversion from 14 Mar Period**"
   ]
  },
  {
   "cell_type": "code",
   "execution_count": 117,
   "metadata": {},
   "outputs": [],
   "source": [
    "#Number of 1st and 2nd orders from 14 Mar on\n",
    "aft_1st = aft.groupby('SCM_N_ORDER_NR')['OSP_KO_COUNT_NET'].mean()[aft.groupby('SCM_N_ORDER_NR')['OSP_KO_COUNT_NET'].mean() == 1].index.values\n",
    "aft_2nd = aft.groupby('SCM_N_ORDER_NR')['OSP_KO_COUNT_NET'].mean()[aft.groupby('SCM_N_ORDER_NR')['OSP_KO_COUNT_NET'].mean() == 2].index.values"
   ]
  },
  {
   "cell_type": "code",
   "execution_count": 118,
   "metadata": {},
   "outputs": [],
   "source": [
    "#All eligible customers in 1st orders having HCLV PG3 (new set up) and not having excluding PG4\n",
    "all_elig_1st_a = aft[(aft['OSP_KO_COUNT_NET'] == 1) & (aft['OSP_3_LEAD_P_PG_ID'].isin(pg3_hclv_new))\n",
    "                    & (~aft['OSP_4_LEAD_P_PG_ID'].isin(pg4_excluded))]['CUS_N_KEY_CUSTOMER'].unique()"
   ]
  },
  {
   "cell_type": "code",
   "execution_count": 119,
   "metadata": {},
   "outputs": [],
   "source": [
    "#Those eligible in 1st order who also bought it\n",
    "buy_in_1st_a = aft[(aft['OSP_KO_COUNT_NET'] == 1) & (aft['OSP_3_LEAD_P_PG_ID'].isin(pg3_hclv_new)) &\n",
    "                   (~aft['OSP_4_LEAD_P_PG_ID'].isin(pg4_excluded)) & (aft['SCM_MASTER_AP_ID'] == 42225)]\\\n",
    "                    ['CUS_N_KEY_CUSTOMER'].unique()"
   ]
  },
  {
   "cell_type": "code",
   "execution_count": 120,
   "metadata": {},
   "outputs": [
    {
     "data": {
      "text/plain": [
       "559"
      ]
     },
     "execution_count": 120,
     "metadata": {},
     "output_type": "execute_result"
    }
   ],
   "source": [
    "len(buy_in_1st_a)"
   ]
  },
  {
   "cell_type": "code",
   "execution_count": 121,
   "metadata": {},
   "outputs": [
    {
     "data": {
      "text/plain": [
       "5465"
      ]
     },
     "execution_count": 121,
     "metadata": {},
     "output_type": "execute_result"
    }
   ],
   "source": [
    "len(all_elig_1st_a)"
   ]
  },
  {
   "cell_type": "markdown",
   "metadata": {},
   "source": [
    "% Conversion rate in 1st orders"
   ]
  },
  {
   "cell_type": "code",
   "execution_count": 122,
   "metadata": {},
   "outputs": [
    {
     "data": {
      "text/plain": [
       "10.228728270814273"
      ]
     },
     "execution_count": 122,
     "metadata": {},
     "output_type": "execute_result"
    }
   ],
   "source": [
    "float(len(buy_in_1st_a)) / len(all_elig_1st_a) * 100"
   ]
  },
  {
   "cell_type": "markdown",
   "metadata": {},
   "source": [
    "Let's go through 2nd orders conversion using set operations. Due to time window, we are going to use only data from customer having both, 1st and 2nd orders in the dataset."
   ]
  },
  {
   "cell_type": "code",
   "execution_count": 123,
   "metadata": {},
   "outputs": [],
   "source": [
    "#Total customers id in 1st orders\n",
    "cus_1st_a = aft[aft['OSP_KO_COUNT_NET'] == 1]['CUS_N_KEY_CUSTOMER'].unique()"
   ]
  },
  {
   "cell_type": "code",
   "execution_count": 124,
   "metadata": {},
   "outputs": [],
   "source": [
    "#Total 2nd orders\n",
    "cus_2nd_a = aft[aft['OSP_KO_COUNT_NET'] == 2]['CUS_N_KEY_CUSTOMER'].unique()"
   ]
  },
  {
   "cell_type": "code",
   "execution_count": 125,
   "metadata": {},
   "outputs": [],
   "source": [
    "cus_sample_a = [i for i in cus_1st_a if i in cus_2nd_a]"
   ]
  },
  {
   "cell_type": "code",
   "execution_count": 126,
   "metadata": {},
   "outputs": [],
   "source": [
    "cus_1_st_a = aft[(aft['OSP_KO_COUNT_NET'] == 1) &\n",
    "           aft['CUS_N_KEY_CUSTOMER'].isin(cus_sample_a)]['CUS_N_KEY_CUSTOMER'].unique()"
   ]
  },
  {
   "cell_type": "code",
   "execution_count": 127,
   "metadata": {},
   "outputs": [],
   "source": [
    "cus_2_nd_a = aft[(aft['OSP_KO_COUNT_NET'] == 2) &\n",
    "           aft['CUS_N_KEY_CUSTOMER'].isin(cus_sample_a)]['CUS_N_KEY_CUSTOMER'].unique()"
   ]
  },
  {
   "cell_type": "code",
   "execution_count": 128,
   "metadata": {},
   "outputs": [
    {
     "data": {
      "text/plain": [
       "(702, 702, 702)"
      ]
     },
     "execution_count": 128,
     "metadata": {},
     "output_type": "execute_result"
    }
   ],
   "source": [
    "len(cus_sample_a), len(cus_1_st_a), len(cus_2_nd_a)"
   ]
  },
  {
   "cell_type": "code",
   "execution_count": 129,
   "metadata": {},
   "outputs": [],
   "source": [
    "#Eligible customer ids in 1st order\n",
    "cus_elig_1st_a = aft[(aft['OSP_KO_COUNT_NET'] == 1) & (aft['OSP_3_LEAD_P_PG_ID'].isin(pg3_hclv_new)) &\n",
    "                (~aft['OSP_4_LEAD_P_PG_ID'].isin(pg4_excluded)) & (aft['CUS_N_KEY_CUSTOMER'].isin(cus_sample_a))]\\\n",
    "                ['CUS_N_KEY_CUSTOMER'].unique()"
   ]
  },
  {
   "cell_type": "code",
   "execution_count": 130,
   "metadata": {},
   "outputs": [
    {
     "data": {
      "text/plain": [
       "357"
      ]
     },
     "execution_count": 130,
     "metadata": {},
     "output_type": "execute_result"
    }
   ],
   "source": [
    "len(cus_elig_1st_a)"
   ]
  },
  {
   "cell_type": "code",
   "execution_count": 131,
   "metadata": {},
   "outputs": [],
   "source": [
    "#Non-eligible customer ids in 1st order\n",
    "cus_not_elig_1st_a = [i for i in cus_1_st_a if i not in cus_elig_1st_a]"
   ]
  },
  {
   "cell_type": "code",
   "execution_count": 132,
   "metadata": {},
   "outputs": [
    {
     "data": {
      "text/plain": [
       "345"
      ]
     },
     "execution_count": 132,
     "metadata": {},
     "output_type": "execute_result"
    }
   ],
   "source": [
    "len(cus_not_elig_1st_a)"
   ]
  },
  {
   "cell_type": "code",
   "execution_count": 133,
   "metadata": {},
   "outputs": [
    {
     "data": {
      "text/plain": [
       "True"
      ]
     },
     "execution_count": 133,
     "metadata": {},
     "output_type": "execute_result"
    }
   ],
   "source": [
    "len(cus_elig_1st_a) + len(cus_not_elig_1st_a) == len(cus_1_st_a)"
   ]
  },
  {
   "cell_type": "code",
   "execution_count": 134,
   "metadata": {},
   "outputs": [],
   "source": [
    "#Customer ids elegible in 1st and buying SP in 1st\n",
    "cus_buy_in_1st_a = aft[(aft['OSP_KO_COUNT_NET'] == 1) & (aft['OSP_3_LEAD_P_PG_ID'].isin(pg3_hclv_new)) &\n",
    "                    (~aft['OSP_4_LEAD_P_PG_ID'].isin(pg4_excluded)) &\n",
    "                    (aft['SCM_MASTER_AP_ID'] == 42225) & (aft['CUS_N_KEY_CUSTOMER'].isin(cus_sample_a))]\\\n",
    "                    ['CUS_N_KEY_CUSTOMER'].unique()"
   ]
  },
  {
   "cell_type": "code",
   "execution_count": 135,
   "metadata": {},
   "outputs": [
    {
     "data": {
      "text/plain": [
       "71"
      ]
     },
     "execution_count": 135,
     "metadata": {},
     "output_type": "execute_result"
    }
   ],
   "source": [
    "len(cus_buy_in_1st_a)"
   ]
  },
  {
   "cell_type": "markdown",
   "metadata": {},
   "source": [
    "% Conversion rate in 1st orders for our sample (higher...due to a more buying frequency?)"
   ]
  },
  {
   "cell_type": "code",
   "execution_count": 136,
   "metadata": {},
   "outputs": [
    {
     "data": {
      "text/plain": [
       "19.88795518207283"
      ]
     },
     "execution_count": 136,
     "metadata": {},
     "output_type": "execute_result"
    }
   ],
   "source": [
    "float(len(cus_buy_in_1st_a)) / len(cus_elig_1st_a) * 100"
   ]
  },
  {
   "cell_type": "code",
   "execution_count": 137,
   "metadata": {},
   "outputs": [],
   "source": [
    "#Customer ids elegible in 1st but not buying SP \n",
    "cus_elig_1st_not_buy_a = [i for i in cus_elig_1st_a if i not in cus_buy_in_1st_a]"
   ]
  },
  {
   "cell_type": "code",
   "execution_count": 138,
   "metadata": {},
   "outputs": [
    {
     "data": {
      "text/plain": [
       "286"
      ]
     },
     "execution_count": 138,
     "metadata": {},
     "output_type": "execute_result"
    }
   ],
   "source": [
    "len(cus_elig_1st_not_buy_a)"
   ]
  },
  {
   "cell_type": "code",
   "execution_count": 139,
   "metadata": {},
   "outputs": [
    {
     "data": {
      "text/plain": [
       "True"
      ]
     },
     "execution_count": 139,
     "metadata": {},
     "output_type": "execute_result"
    }
   ],
   "source": [
    "len(cus_buy_in_1st_a) + len(cus_elig_1st_not_buy_a) == len(cus_elig_1st_a)"
   ]
  },
  {
   "cell_type": "code",
   "execution_count": 140,
   "metadata": {},
   "outputs": [],
   "source": [
    "#Customer ids with suitable 2nd orders to offer SP looking at lead PG3 (fake)\n",
    "cus_elig_2nd_a = aft[(aft['OSP_KO_COUNT_NET'] == 2) & (aft['OSP_3_LEAD_P_PG_ID'].isin(pg3_hclv_new)) &\n",
    "                   (~aft['OSP_4_LEAD_P_PG_ID'].isin(pg4_excluded)) &\n",
    "                  (aft['CUS_N_KEY_CUSTOMER'].isin(cus_sample_a))]['CUS_N_KEY_CUSTOMER'].unique()"
   ]
  },
  {
   "cell_type": "code",
   "execution_count": 141,
   "metadata": {},
   "outputs": [
    {
     "data": {
      "text/plain": [
       "313"
      ]
     },
     "execution_count": 141,
     "metadata": {},
     "output_type": "execute_result"
    }
   ],
   "source": [
    "len(cus_elig_2nd_a)"
   ]
  },
  {
   "cell_type": "code",
   "execution_count": 142,
   "metadata": {},
   "outputs": [],
   "source": [
    "#Customer ids with no suitable 2nd orders to offer SP looking at lead PG3 (fake)\n",
    "cus_not_elig_2nd_a = [i for i in cus_2_nd_a if i not in cus_elig_2nd_a]"
   ]
  },
  {
   "cell_type": "code",
   "execution_count": 143,
   "metadata": {},
   "outputs": [
    {
     "data": {
      "text/plain": [
       "389"
      ]
     },
     "execution_count": 143,
     "metadata": {},
     "output_type": "execute_result"
    }
   ],
   "source": [
    "len(cus_not_elig_2nd_a)"
   ]
  },
  {
   "cell_type": "code",
   "execution_count": 144,
   "metadata": {},
   "outputs": [],
   "source": [
    "#Total SP bought in 2nd order\n",
    "cus_buy_in_2nd_a = aft[(aft['OSP_KO_COUNT_NET'] == 2) & (aft['SCM_MASTER_AP_ID'] == 42225) &\n",
    "                   (aft['CUS_N_KEY_CUSTOMER'].isin(cus_sample_a))]['CUS_N_KEY_CUSTOMER'].unique()"
   ]
  },
  {
   "cell_type": "code",
   "execution_count": 145,
   "metadata": {},
   "outputs": [
    {
     "data": {
      "text/plain": [
       "43"
      ]
     },
     "execution_count": 145,
     "metadata": {},
     "output_type": "execute_result"
    }
   ],
   "source": [
    "len(cus_buy_in_2nd_a)"
   ]
  },
  {
   "cell_type": "code",
   "execution_count": 146,
   "metadata": {},
   "outputs": [],
   "source": [
    "#Eligible in 1st order (not buying) customer ids making a 2nd order but not buying \n",
    "cus_elig_1st_2nd_a = [i for i in cus_elig_1st_not_buy_a if i in cus_2_nd_a and i not in cus_buy_in_2nd_a]"
   ]
  },
  {
   "cell_type": "code",
   "execution_count": 147,
   "metadata": {},
   "outputs": [
    {
     "data": {
      "text/plain": [
       "265"
      ]
     },
     "execution_count": 147,
     "metadata": {},
     "output_type": "execute_result"
    }
   ],
   "source": [
    "len(cus_elig_1st_2nd_a)"
   ]
  },
  {
   "cell_type": "code",
   "execution_count": 148,
   "metadata": {},
   "outputs": [],
   "source": [
    "#Eligible in 1st order customer ids making a 2nd order where SP is bought \n",
    "cus_elig_1st_buy_2nd_a = [i for i in cus_elig_1st_not_buy_a if i in cus_buy_in_2nd_a]"
   ]
  },
  {
   "cell_type": "code",
   "execution_count": 149,
   "metadata": {},
   "outputs": [
    {
     "data": {
      "text/plain": [
       "21"
      ]
     },
     "execution_count": 149,
     "metadata": {},
     "output_type": "execute_result"
    }
   ],
   "source": [
    "len(cus_elig_1st_buy_2nd_a)"
   ]
  },
  {
   "cell_type": "code",
   "execution_count": 150,
   "metadata": {},
   "outputs": [
    {
     "data": {
      "text/plain": [
       "True"
      ]
     },
     "execution_count": 150,
     "metadata": {},
     "output_type": "execute_result"
    }
   ],
   "source": [
    "len(cus_elig_1st_2nd_a) + len(cus_elig_1st_buy_2nd_a) == len(cus_elig_1st_not_buy_a)"
   ]
  },
  {
   "cell_type": "code",
   "execution_count": 151,
   "metadata": {},
   "outputs": [],
   "source": [
    "#Customer ids non-eligible in 1st, eligible during 2nd and not buying\n",
    "cus_not_elig_1st_2nd_a = [i for i in cus_not_elig_1st_a if i in cus_elig_2nd_a and i not in cus_buy_in_2nd_a]"
   ]
  },
  {
   "cell_type": "code",
   "execution_count": 152,
   "metadata": {},
   "outputs": [
    {
     "data": {
      "text/plain": [
       "72"
      ]
     },
     "execution_count": 152,
     "metadata": {},
     "output_type": "execute_result"
    }
   ],
   "source": [
    "len(cus_not_elig_1st_2nd_a)"
   ]
  },
  {
   "cell_type": "code",
   "execution_count": 153,
   "metadata": {},
   "outputs": [],
   "source": [
    "#Customer ids non-eligible in 1st, eligible during 2nd and buying SP\n",
    "cus_not_elig_1st_buy_2nd_a = [i for i in cus_not_elig_1st_a if i in cus_buy_in_2nd_a]"
   ]
  },
  {
   "cell_type": "code",
   "execution_count": 154,
   "metadata": {},
   "outputs": [
    {
     "data": {
      "text/plain": [
       "22"
      ]
     },
     "execution_count": 154,
     "metadata": {},
     "output_type": "execute_result"
    }
   ],
   "source": [
    "len(cus_not_elig_1st_buy_2nd_a)"
   ]
  },
  {
   "cell_type": "code",
   "execution_count": 155,
   "metadata": {},
   "outputs": [
    {
     "data": {
      "text/plain": [
       "43"
      ]
     },
     "execution_count": 155,
     "metadata": {},
     "output_type": "execute_result"
    }
   ],
   "source": [
    "#eligible and non-eligible customer ids in 1st order, eligible in 2nd and buying SP\n",
    "len(cus_elig_1st_buy_2nd_a) + len(cus_not_elig_1st_buy_2nd_a)"
   ]
  },
  {
   "cell_type": "code",
   "execution_count": 156,
   "metadata": {},
   "outputs": [
    {
     "data": {
      "text/plain": [
       "380"
      ]
     },
     "execution_count": 156,
     "metadata": {},
     "output_type": "execute_result"
    }
   ],
   "source": [
    "#Total eligible customer ids in 2nd order\n",
    "len(cus_elig_1st_2nd_a) + len(cus_elig_1st_buy_2nd_a) + len(cus_not_elig_1st_2nd_a) + len(cus_not_elig_1st_buy_2nd_a)"
   ]
  },
  {
   "cell_type": "markdown",
   "metadata": {},
   "source": [
    "% Conversion rate in 2nd order"
   ]
  },
  {
   "cell_type": "code",
   "execution_count": 157,
   "metadata": {},
   "outputs": [
    {
     "data": {
      "text/plain": [
       "11.31578947368421"
      ]
     },
     "execution_count": 157,
     "metadata": {},
     "output_type": "execute_result"
    }
   ],
   "source": [
    "float(len(cus_elig_1st_buy_2nd_a) + len(cus_not_elig_1st_buy_2nd_a))/\\\n",
    "(len(cus_elig_1st_2nd_a) + len(cus_elig_1st_buy_2nd_a) + len(cus_not_elig_1st_2nd_a) + len(cus_not_elig_1st_buy_2nd_a)) * 100"
   ]
  },
  {
   "cell_type": "markdown",
   "metadata": {},
   "source": [
    ".............................................................................................................................................................................................................................................................."
   ]
  },
  {
   "cell_type": "markdown",
   "metadata": {},
   "source": [
    "| Date        | 1st order conversion %           | (sample) 2nd order conversion % |\n",
    "| ------------- |:-------------:| -----:|\n",
    "| Before 14 Mar      | 8.31 | 11.84 |\n",
    "| From 14 Mar on     | 10.23     |  11.32 |\n"
   ]
  },
  {
   "cell_type": "markdown",
   "metadata": {},
   "source": [
    "2nd order conversion is a bit tricky, we have for first period a 3 month time window (time enough for replenishment and repurchase) instead of a 1 month time window for the period after the changes. For calculations, we have selected in each time window only customers having placed 1st and 2nd order."
   ]
  },
  {
   "cell_type": "markdown",
   "metadata": {},
   "source": [
    "DCR?"
   ]
  },
  {
   "attachments": {
    "image.png": {
     "image/png": "[encoded data removed]"
    }
   },
   "cell_type": "markdown",
   "metadata": {},
   "source": [
    "<html><head>\n",
    "\n",
    "\n",
    "<!-- Load require.js. Delete this if your page already loads require.js -->\n",
    "<script src=\"https://cdnjs.cloudflare.com/ajax/libs/require.js/2.3.4/require.min.js\" integrity=\"sha256-Ae2Vz/4ePdIu6ZyI/5ZGsYnb+m0JlOmKPjt6XZ9JJkA=\" crossorigin=\"anonymous\"></script>\n",
    "<script src=\"https://unpkg.com/@jupyter-widgets/html-manager@*/dist/embed-amd.js\" crossorigin=\"anonymous\"></script>\n",
    "<script type=\"application/vnd.jupyter.widget-state+json\">\n",
    "{\n",
    "    \"version_major\": 2,\n",
    "    \"version_minor\": 0,\n",
    "    \"state\": {}\n",
    "}\n",
    "</script>\n",
    "</head>\n",
    "<body>\n",
    "\n",
    "\n",
    "</body>\n",
    "</html>\n",
    "![image.png](attachment:image.png)"
   ]
  },
  {
   "cell_type": "code",
   "execution_count": 158,
   "metadata": {},
   "outputs": [
    {
     "data": {
      "text/plain": [
       "array(['E2', 'E3', 'D', 'E1', 'F', 'PT', 'I', 'GB', 'A', 'NL'],\n",
       "      dtype=object)"
      ]
     },
     "execution_count": 158,
     "metadata": {},
     "output_type": "execute_result"
    }
   ],
   "source": [
    "nc_es[nc_es['TDT_T_KEY_ORDER_DATE'] >= ' 2018-03-14']['SCM_OCI_LAND'].unique()"
   ]
  },
  {
   "cell_type": "code",
   "execution_count": 159,
   "metadata": {},
   "outputs": [],
   "source": [
    "allowed_c = ['E1', 'E2', 'E3']"
   ]
  },
  {
   "cell_type": "code",
   "execution_count": 160,
   "metadata": {},
   "outputs": [],
   "source": [
    "dcr = nc_es[(nc_es['TDT_T_KEY_ORDER_DATE'] >= ' 2018-03-14') & (~nc_es['SCM_OCI_LAND'].isin(allowed_c))]"
   ]
  },
  {
   "cell_type": "code",
   "execution_count": 161,
   "metadata": {},
   "outputs": [
    {
     "data": {
      "text/plain": [
       "130"
      ]
     },
     "execution_count": 161,
     "metadata": {},
     "output_type": "execute_result"
    }
   ],
   "source": [
    "len(dcr['SCM_N_ORDER_NR'].unique())"
   ]
  },
  {
   "cell_type": "code",
   "execution_count": 162,
   "metadata": {},
   "outputs": [
    {
     "data": {
      "text/plain": [
       "0"
      ]
     },
     "execution_count": 162,
     "metadata": {},
     "output_type": "execute_result"
    }
   ],
   "source": [
    "#No SP sold\n",
    "(dcr['SCM_MASTER_AP_ID'] == 42225).sum()"
   ]
  },
  {
   "cell_type": "code",
   "execution_count": 163,
   "metadata": {},
   "outputs": [
    {
     "data": {
      "text/plain": [
       "4"
      ]
     },
     "execution_count": 163,
     "metadata": {},
     "output_type": "execute_result"
    }
   ],
   "source": [
    "#No SP discount applying neither\n",
    "(dcr['SCM_MASTER_AP_ID'] == 42715).sum()"
   ]
  },
  {
   "cell_type": "code",
   "execution_count": 164,
   "metadata": {},
   "outputs": [
    {
     "data": {
      "text/plain": [
       "93"
      ]
     },
     "execution_count": 164,
     "metadata": {},
     "output_type": "execute_result"
    }
   ],
   "source": [
    "#Criteria\n",
    "len(dcr[(dcr['OSP_3_LEAD_P_PG_ID'].isin(pg3_hclv_new)) & (~dcr['OSP_4_LEAD_P_PG_ID'].isin(pg4_excluded))]['SCM_N_ORDER_NR'].unique())"
   ]
  },
  {
   "cell_type": "markdown",
   "metadata": {},
   "source": [
    "% Orders (looking at PG3 and PG4 set up) suitable for being offered SP but exclude due to DCR"
   ]
  },
  {
   "cell_type": "code",
   "execution_count": 165,
   "metadata": {},
   "outputs": [
    {
     "data": {
      "text/plain": [
       "71.53846153846153"
      ]
     },
     "execution_count": 165,
     "metadata": {},
     "output_type": "execute_result"
    }
   ],
   "source": [
    "float(len(dcr[(dcr['OSP_3_LEAD_P_PG_ID'].isin(pg3_hclv_new)) & \n",
    "              (~dcr['OSP_4_LEAD_P_PG_ID'].isin(pg4_excluded))]['SCM_N_ORDER_NR'].unique())) / \\\n",
    "                len(dcr['SCM_N_ORDER_NR'].unique()) * 100"
   ]
  },
  {
   "cell_type": "code",
   "execution_count": null,
   "metadata": {},
   "outputs": [],
   "source": []
  }
 ],
 "metadata": {
  "kernelspec": {
   "display_name": "Python 3",
   "language": "python",
   "name": "python3"
  },
  "language_info": {
   "codemirror_mode": {
    "name": "ipython",
    "version": 3
   },
   "file_extension": ".py",
   "mimetype": "text/x-python",
   "name": "python",
   "nbconvert_exporter": "python",
   "pygments_lexer": "ipython3",
   "version": "3.6.4"
  }
 },
 "nbformat": 4,
 "nbformat_minor": 2
}
