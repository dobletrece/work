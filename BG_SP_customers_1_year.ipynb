{
 "cells": [
  {
   "cell_type": "raw",
   "metadata": {},
   "source": [
    "select CUS_N_KEY_CUSTOMER as CUSTOMER_ID, count (distinct SCM_N_ORDER_NR) as ORDERS,\n",
    "min(TDT_T_KEY_ORDER_DATE) as FIRST_ORDER_DATE, max(TDT_T_KEY_ORDER_DATE) as LAST_ORDER_DATE,\n",
    "sum(SCM_D_FINANCE_CM2) as TOTAL_CM2, sum(SCM_D_ORIG_FINANCE_ORDER_NET) as NET_SALES,\n",
    "case when sum(SCM_D_ORIG_FINANCE_ORDER_NET) = 0 then 0\n",
    "else ROUND(sum(SCM_D_FINANCE_CM2) / sum(SCM_D_ORIG_FINANCE_ORDER_NET) * 100, 2)  \n",
    "end as CM2_REL, avg(CZP_ZTQ_ID) as ZTQ_ID, max(CZP_START_DATE) as START_DATE, max(CZP_EXPIRY_DATE) as EXPIRY_DATE\n",
    "from \n",
    "(\n",
    "select \n",
    "scm.scm_n_order_pos_nr, scm.scm_n_order_nr, scm.tdt_t_key_order_date, scm.THR_C_KEY_ORDER_HOUR, scm.SIT_N_KEY_SITE,\n",
    "scm.CUS_N_KEY_CUSTOMER, scm.SCM_SALES_BMF, scm.SCM_SALES_CANCEL_BMF, scm.SCM_D_FINANCE_CM1, scm.SCM_D_FINANCE_CM2,\n",
    "scm.SCM_D_ORIG_FINANCE_ORDER_NET,scm.SCM_AP_ID, scm.SCM_AS_ID, scm.SCM_MASTER_AP_ID, scm.SCM_IS_ZSP_ORDER, \n",
    "scm.SCM_C_ORDER_STATUS, scm.CTP_N_KEY_CUSTOMER_TYPE, scm.SCM_OCI_LAND, scm.SCM_D_FC_ID, scm.SCM_D_PC_DSP, scm.SCM_FC_SPLIT,\n",
    "czp.CZP_START_DATE, czp.CZP_EXPIRY_DATE, czp.CZP_ZTQ_ID, czp.CZP_PERCENTAGE, czp.CZP_PRICE\n",
    "from zoocube.ddstf_scm_sales_contrib_margin scm\n",
    "left outer join ZOOMAN.CUSTOMERS_ZOOPRIME_PLANS czp\n",
    "on scm.CUS_N_KEY_CUSTOMER = czp.CZP_K_ID \n",
    "and czp.CZP_EXPIRY_DATE > to_date((to_char(TDT_T_KEY_ORDER_DATE, 'dd/mm/yyyy') ||' '|| THR_C_KEY_ORDER_HOUR), 'dd/mm/yyyy HH24:MI')\n",
    "and czp.CZP_START_DATE <= to_date((to_char(TDT_T_KEY_ORDER_DATE, 'dd/mm/yyyy') ||' '|| THR_C_KEY_ORDER_HOUR), 'dd/mm/yyyy HH24:MI')\n",
    "where ((TDT_T_KEY_ORDER_DATE >= to_date('01/06/17', 'DD/MM/YY') and TDT_T_KEY_ORDER_DATE <= to_date('31/05/18', 'DD/MM/YY')))\n",
    "and SIT_N_KEY_SITE = 30 \n",
    "and (scm.SCM_C_ORDER_STATUS = 'L' OR scm.SCM_C_ORDER_STATUS = 'VK')\n",
    ")\n",
    "--where SIT_N_KEY_SITE = 15\n",
    "--and (SCM_C_ORDER_STATUS = 'L' or SCM_C_ORDER_STATUS = 'VK')\n",
    "--and TDT_T_KEY_ORDER_DATE >= to_date('01/06/17', 'DD/MM/YY') and (TDT_T_KEY_ORDER_DATE <= to_date('01/06/17', 'DD/MM/YY'))\n",
    "group by CUS_N_KEY_CUSTOMER\n",
    "having avg(CZP_ZTQ_ID) IN (51, 52, 53, 54, 55, 56)\n",
    ";"
   ]
  },
  {
   "cell_type": "code",
   "execution_count": 1,
   "metadata": {
    "ExecuteTime": {
     "end_time": "2018-06-22T10:48:53.150794Z",
     "start_time": "2018-06-22T10:48:52.493594Z"
    }
   },
   "outputs": [],
   "source": [
    "import numpy as np\n",
    "import pandas as pd\n",
    "import matplotlib.pyplot as plt\n",
    "%matplotlib inline\n",
    "from IPython.display import display\n",
    "from scipy import stats"
   ]
  },
  {
   "cell_type": "code",
   "execution_count": 2,
   "metadata": {
    "ExecuteTime": {
     "end_time": "2018-06-22T10:48:53.151794Z",
     "start_time": "2018-06-22T10:48:53.150794Z"
    }
   },
   "outputs": [],
   "source": [
    "data = pd.read_csv('bg_sp_customers_1_year.dsv', sep=';', low_memory=False)"
   ]
  },
  {
   "cell_type": "code",
   "execution_count": 3,
   "metadata": {
    "ExecuteTime": {
     "end_time": "2018-06-22T10:48:53.153794Z",
     "start_time": "2018-06-22T10:48:53.151794Z"
    }
   },
   "outputs": [
    {
     "name": "stdout",
     "output_type": "stream",
     "text": [
      "<class 'pandas.core.frame.DataFrame'>\n",
      "RangeIndex: 1754 entries, 0 to 1753\n",
      "Data columns (total 10 columns):\n",
      "CUSTOMER_ID         1754 non-null int64\n",
      "ORDERS              1754 non-null int64\n",
      "FIRST_ORDER_DATE    1754 non-null object\n",
      "LAST_ORDER_DATE     1754 non-null object\n",
      "TOTAL_CM2           1754 non-null object\n",
      "NET_SALES           1754 non-null object\n",
      "CM2_REL             1754 non-null object\n",
      "ZTQ_ID              1754 non-null int64\n",
      "START_DATE          1754 non-null object\n",
      "EXPIRY_DATE         1754 non-null object\n",
      "dtypes: int64(3), object(7)\n",
      "memory usage: 137.1+ KB\n"
     ]
    }
   ],
   "source": [
    "data.info()"
   ]
  },
  {
   "cell_type": "code",
   "execution_count": 4,
   "metadata": {
    "ExecuteTime": {
     "end_time": "2018-06-22T10:48:53.167794Z",
     "start_time": "2018-06-22T10:48:53.155794Z"
    }
   },
   "outputs": [],
   "source": [
    "data['CM2_REL'] = [i.replace(',', '.') for i in data['CM2_REL']]\n",
    "data['NET_SALES'] = [i.replace(',', '.') for i in data['NET_SALES']]\n",
    "data['TOTAL_CM2'] = [i.replace(',', '.') for i in data['TOTAL_CM2']]"
   ]
  },
  {
   "cell_type": "code",
   "execution_count": 5,
   "metadata": {
    "ExecuteTime": {
     "end_time": "2018-06-22T10:48:53.186794Z",
     "start_time": "2018-06-22T10:48:53.169794Z"
    }
   },
   "outputs": [],
   "source": [
    "data[['TOTAL_CM2', 'NET_SALES', 'CM2_REL']] = data[['TOTAL_CM2', 'NET_SALES', 'CM2_REL']].astype(float)"
   ]
  },
  {
   "cell_type": "code",
   "execution_count": 6,
   "metadata": {
    "ExecuteTime": {
     "end_time": "2018-06-22T10:48:53.205794Z",
     "start_time": "2018-06-22T10:48:53.187794Z"
    }
   },
   "outputs": [],
   "source": [
    "data['FIRST_ORDER_DATE'] = pd.to_datetime(data['FIRST_ORDER_DATE'], format='%d/%m/%y')"
   ]
  },
  {
   "cell_type": "code",
   "execution_count": 7,
   "metadata": {
    "ExecuteTime": {
     "end_time": "2018-06-22T10:48:53.225794Z",
     "start_time": "2018-06-22T10:48:53.206794Z"
    }
   },
   "outputs": [],
   "source": [
    "data['LAST_ORDER_DATE'] = pd.to_datetime(data['LAST_ORDER_DATE'], format='%d/%m/%y')"
   ]
  },
  {
   "cell_type": "code",
   "execution_count": 8,
   "metadata": {
    "ExecuteTime": {
     "end_time": "2018-06-22T10:48:53.243794Z",
     "start_time": "2018-06-22T10:48:53.226794Z"
    }
   },
   "outputs": [],
   "source": [
    "data['START_DATE'] = pd.to_datetime(data['START_DATE'], format='%d/%m/%y')"
   ]
  },
  {
   "cell_type": "code",
   "execution_count": 9,
   "metadata": {
    "ExecuteTime": {
     "end_time": "2018-06-22T10:48:53.263794Z",
     "start_time": "2018-06-22T10:48:53.245794Z"
    }
   },
   "outputs": [],
   "source": [
    "data['EXPIRY_DATE'] = pd.to_datetime(data['EXPIRY_DATE'], format='%d/%m/%y')"
   ]
  },
  {
   "cell_type": "code",
   "execution_count": 10,
   "metadata": {
    "ExecuteTime": {
     "end_time": "2018-06-22T10:48:53.289794Z",
     "start_time": "2018-06-22T10:48:53.264794Z"
    }
   },
   "outputs": [
    {
     "data": {
      "text/html": [
       "<div>\n",
       "<style scoped>\n",
       "    .dataframe tbody tr th:only-of-type {\n",
       "        vertical-align: middle;\n",
       "    }\n",
       "\n",
       "    .dataframe tbody tr th {\n",
       "        vertical-align: top;\n",
       "    }\n",
       "\n",
       "    .dataframe thead th {\n",
       "        text-align: right;\n",
       "    }\n",
       "</style>\n",
       "<table border=\"1\" class=\"dataframe\">\n",
       "  <thead>\n",
       "    <tr style=\"text-align: right;\">\n",
       "      <th></th>\n",
       "      <th>CUSTOMER_ID</th>\n",
       "      <th>ORDERS</th>\n",
       "      <th>FIRST_ORDER_DATE</th>\n",
       "      <th>LAST_ORDER_DATE</th>\n",
       "      <th>TOTAL_CM2</th>\n",
       "      <th>NET_SALES</th>\n",
       "      <th>CM2_REL</th>\n",
       "      <th>ZTQ_ID</th>\n",
       "      <th>START_DATE</th>\n",
       "      <th>EXPIRY_DATE</th>\n",
       "    </tr>\n",
       "  </thead>\n",
       "  <tbody>\n",
       "    <tr>\n",
       "      <th>0</th>\n",
       "      <td>10451707</td>\n",
       "      <td>23</td>\n",
       "      <td>2017-06-01</td>\n",
       "      <td>2018-05-24</td>\n",
       "      <td>154.9437</td>\n",
       "      <td>3305.1853</td>\n",
       "      <td>4.69</td>\n",
       "      <td>52</td>\n",
       "      <td>2016-02-20</td>\n",
       "      <td>2019-02-20</td>\n",
       "    </tr>\n",
       "    <tr>\n",
       "      <th>1</th>\n",
       "      <td>11416088</td>\n",
       "      <td>2</td>\n",
       "      <td>2017-10-23</td>\n",
       "      <td>2018-04-03</td>\n",
       "      <td>8.4773</td>\n",
       "      <td>120.0958</td>\n",
       "      <td>7.06</td>\n",
       "      <td>54</td>\n",
       "      <td>2016-05-02</td>\n",
       "      <td>2019-05-02</td>\n",
       "    </tr>\n",
       "    <tr>\n",
       "      <th>2</th>\n",
       "      <td>10868358</td>\n",
       "      <td>16</td>\n",
       "      <td>2017-06-14</td>\n",
       "      <td>2018-05-26</td>\n",
       "      <td>30.6170</td>\n",
       "      <td>842.5195</td>\n",
       "      <td>3.63</td>\n",
       "      <td>54</td>\n",
       "      <td>2016-06-11</td>\n",
       "      <td>2019-06-11</td>\n",
       "    </tr>\n",
       "    <tr>\n",
       "      <th>3</th>\n",
       "      <td>5069205</td>\n",
       "      <td>8</td>\n",
       "      <td>2017-07-03</td>\n",
       "      <td>2018-05-07</td>\n",
       "      <td>107.6102</td>\n",
       "      <td>1068.2507</td>\n",
       "      <td>10.07</td>\n",
       "      <td>53</td>\n",
       "      <td>2017-07-03</td>\n",
       "      <td>2018-08-09</td>\n",
       "    </tr>\n",
       "    <tr>\n",
       "      <th>4</th>\n",
       "      <td>13416380</td>\n",
       "      <td>9</td>\n",
       "      <td>2017-07-06</td>\n",
       "      <td>2018-05-12</td>\n",
       "      <td>193.2824</td>\n",
       "      <td>776.5280</td>\n",
       "      <td>24.89</td>\n",
       "      <td>51</td>\n",
       "      <td>2017-07-06</td>\n",
       "      <td>2018-08-13</td>\n",
       "    </tr>\n",
       "  </tbody>\n",
       "</table>\n",
       "</div>"
      ],
      "text/plain": [
       "   CUSTOMER_ID  ORDERS FIRST_ORDER_DATE LAST_ORDER_DATE  TOTAL_CM2  NET_SALES  \\\n",
       "0     10451707      23       2017-06-01      2018-05-24   154.9437  3305.1853   \n",
       "1     11416088       2       2017-10-23      2018-04-03     8.4773   120.0958   \n",
       "2     10868358      16       2017-06-14      2018-05-26    30.6170   842.5195   \n",
       "3      5069205       8       2017-07-03      2018-05-07   107.6102  1068.2507   \n",
       "4     13416380       9       2017-07-06      2018-05-12   193.2824   776.5280   \n",
       "\n",
       "   CM2_REL  ZTQ_ID START_DATE EXPIRY_DATE  \n",
       "0     4.69      52 2016-02-20  2019-02-20  \n",
       "1     7.06      54 2016-05-02  2019-05-02  \n",
       "2     3.63      54 2016-06-11  2019-06-11  \n",
       "3    10.07      53 2017-07-03  2018-08-09  \n",
       "4    24.89      51 2017-07-06  2018-08-13  "
      ]
     },
     "execution_count": 10,
     "metadata": {},
     "output_type": "execute_result"
    }
   ],
   "source": [
    "data.head()"
   ]
  },
  {
   "cell_type": "code",
   "execution_count": 11,
   "metadata": {
    "ExecuteTime": {
     "end_time": "2018-06-22T10:48:53.305794Z",
     "start_time": "2018-06-22T10:48:53.290794Z"
    }
   },
   "outputs": [],
   "source": [
    "tiers = [51, 52, 53, 54, 55, 56]"
   ]
  },
  {
   "cell_type": "code",
   "execution_count": 12,
   "metadata": {
    "ExecuteTime": {
     "end_time": "2018-06-22T10:48:55.682394Z",
     "start_time": "2018-06-22T10:48:53.307794Z"
    },
    "scrolled": false
   },
   "outputs": [
    {
     "name": "stdout",
     "output_type": "stream",
     "text": [
      "...........................................................TIER  51 ..........................................................\n"
     ]
    },
    {
     "data": {
      "image/png": "[encoded data removed]",
      "text/plain": [
       "<matplotlib.figure.Figure at 0xb2497b8>"
      ]
     },
     "metadata": {},
     "output_type": "display_data"
    },
    {
     "data": {
      "text/html": [
       "<div>\n",
       "<style scoped>\n",
       "    .dataframe tbody tr th:only-of-type {\n",
       "        vertical-align: middle;\n",
       "    }\n",
       "\n",
       "    .dataframe tbody tr th {\n",
       "        vertical-align: top;\n",
       "    }\n",
       "\n",
       "    .dataframe thead th {\n",
       "        text-align: right;\n",
       "    }\n",
       "</style>\n",
       "<table border=\"1\" class=\"dataframe\">\n",
       "  <thead>\n",
       "    <tr style=\"text-align: right;\">\n",
       "      <th></th>\n",
       "      <th>CM2_REL</th>\n",
       "    </tr>\n",
       "  </thead>\n",
       "  <tbody>\n",
       "    <tr>\n",
       "      <th>count</th>\n",
       "      <td>479.00</td>\n",
       "    </tr>\n",
       "    <tr>\n",
       "      <th>mean</th>\n",
       "      <td>13.00</td>\n",
       "    </tr>\n",
       "    <tr>\n",
       "      <th>std</th>\n",
       "      <td>7.04</td>\n",
       "    </tr>\n",
       "    <tr>\n",
       "      <th>min</th>\n",
       "      <td>-51.45</td>\n",
       "    </tr>\n",
       "    <tr>\n",
       "      <th>25%</th>\n",
       "      <td>9.38</td>\n",
       "    </tr>\n",
       "    <tr>\n",
       "      <th>50%</th>\n",
       "      <td>13.10</td>\n",
       "    </tr>\n",
       "    <tr>\n",
       "      <th>75%</th>\n",
       "      <td>17.10</td>\n",
       "    </tr>\n",
       "    <tr>\n",
       "      <th>max</th>\n",
       "      <td>35.87</td>\n",
       "    </tr>\n",
       "  </tbody>\n",
       "</table>\n",
       "</div>"
      ],
      "text/plain": [
       "       CM2_REL\n",
       "count   479.00\n",
       "mean     13.00\n",
       "std       7.04\n",
       "min     -51.45\n",
       "25%       9.38\n",
       "50%      13.10\n",
       "75%      17.10\n",
       "max      35.87"
      ]
     },
     "metadata": {},
     "output_type": "display_data"
    },
    {
     "name": "stdout",
     "output_type": "stream",
     "text": [
      "CM2% threshold >= 5  is the percentile 8.98\n",
      "CM2% threshold >= 7  is the percentile 14.41\n",
      "CM2% threshold >=  10.232  is the percentile 30 allowing us to stay with the 70% of our sample\n"
     ]
    },
    {
     "data": {
      "image/png": "[encoded data removed]",
      "text/plain": [
       "<matplotlib.figure.Figure at 0xb67acf8>"
      ]
     },
     "metadata": {},
     "output_type": "display_data"
    },
    {
     "data": {
      "text/html": [
       "<div>\n",
       "<style scoped>\n",
       "    .dataframe tbody tr th:only-of-type {\n",
       "        vertical-align: middle;\n",
       "    }\n",
       "\n",
       "    .dataframe tbody tr th {\n",
       "        vertical-align: top;\n",
       "    }\n",
       "\n",
       "    .dataframe thead th {\n",
       "        text-align: right;\n",
       "    }\n",
       "</style>\n",
       "<table border=\"1\" class=\"dataframe\">\n",
       "  <thead>\n",
       "    <tr style=\"text-align: right;\">\n",
       "      <th></th>\n",
       "      <th>ORDERS</th>\n",
       "    </tr>\n",
       "  </thead>\n",
       "  <tbody>\n",
       "    <tr>\n",
       "      <th>count</th>\n",
       "      <td>479.00</td>\n",
       "    </tr>\n",
       "    <tr>\n",
       "      <th>mean</th>\n",
       "      <td>6.78</td>\n",
       "    </tr>\n",
       "    <tr>\n",
       "      <th>std</th>\n",
       "      <td>4.79</td>\n",
       "    </tr>\n",
       "    <tr>\n",
       "      <th>min</th>\n",
       "      <td>1.00</td>\n",
       "    </tr>\n",
       "    <tr>\n",
       "      <th>25%</th>\n",
       "      <td>4.00</td>\n",
       "    </tr>\n",
       "    <tr>\n",
       "      <th>50%</th>\n",
       "      <td>6.00</td>\n",
       "    </tr>\n",
       "    <tr>\n",
       "      <th>75%</th>\n",
       "      <td>8.00</td>\n",
       "    </tr>\n",
       "    <tr>\n",
       "      <th>max</th>\n",
       "      <td>58.00</td>\n",
       "    </tr>\n",
       "  </tbody>\n",
       "</table>\n",
       "</div>"
      ],
      "text/plain": [
       "       ORDERS\n",
       "count  479.00\n",
       "mean     6.78\n",
       "std      4.79\n",
       "min      1.00\n",
       "25%      4.00\n",
       "50%      6.00\n",
       "75%      8.00\n",
       "max     58.00"
      ]
     },
     "metadata": {},
     "output_type": "display_data"
    },
    {
     "name": "stdout",
     "output_type": "stream",
     "text": [
      "4.0  is the percentile 30 allowing us to stay with the 70% of our sample\n",
      "                                                                                                                    \n",
      "With CM2% threshold >= 5 and Orders >=  4.0  we keep eligible a  71.82  % from our customers\n",
      "With CM2% threshold >= 7 and Orders >=  4.0  we keep eligible a  67.43  % from our customers\n",
      "With CM2% threshold >=  10.232  and Orders >=  4.0  we keep eligible a  53.03  % from our customers\n",
      "                                                                                                                    \n",
      "                                                                                                                    \n",
      "...........................................................TIER  52 ..........................................................\n"
     ]
    },
    {
     "data": {
      "image/png": "[encoded data removed]",
      "text/plain": [
       "<matplotlib.figure.Figure at 0xb69a438>"
      ]
     },
     "metadata": {},
     "output_type": "display_data"
    },
    {
     "data": {
      "text/html": [
       "<div>\n",
       "<style scoped>\n",
       "    .dataframe tbody tr th:only-of-type {\n",
       "        vertical-align: middle;\n",
       "    }\n",
       "\n",
       "    .dataframe tbody tr th {\n",
       "        vertical-align: top;\n",
       "    }\n",
       "\n",
       "    .dataframe thead th {\n",
       "        text-align: right;\n",
       "    }\n",
       "</style>\n",
       "<table border=\"1\" class=\"dataframe\">\n",
       "  <thead>\n",
       "    <tr style=\"text-align: right;\">\n",
       "      <th></th>\n",
       "      <th>CM2_REL</th>\n",
       "    </tr>\n",
       "  </thead>\n",
       "  <tbody>\n",
       "    <tr>\n",
       "      <th>count</th>\n",
       "      <td>126.00</td>\n",
       "    </tr>\n",
       "    <tr>\n",
       "      <th>mean</th>\n",
       "      <td>13.58</td>\n",
       "    </tr>\n",
       "    <tr>\n",
       "      <th>std</th>\n",
       "      <td>6.51</td>\n",
       "    </tr>\n",
       "    <tr>\n",
       "      <th>min</th>\n",
       "      <td>-6.93</td>\n",
       "    </tr>\n",
       "    <tr>\n",
       "      <th>25%</th>\n",
       "      <td>9.24</td>\n",
       "    </tr>\n",
       "    <tr>\n",
       "      <th>50%</th>\n",
       "      <td>13.66</td>\n",
       "    </tr>\n",
       "    <tr>\n",
       "      <th>75%</th>\n",
       "      <td>17.41</td>\n",
       "    </tr>\n",
       "    <tr>\n",
       "      <th>max</th>\n",
       "      <td>31.24</td>\n",
       "    </tr>\n",
       "  </tbody>\n",
       "</table>\n",
       "</div>"
      ],
      "text/plain": [
       "       CM2_REL\n",
       "count   126.00\n",
       "mean     13.58\n",
       "std       6.51\n",
       "min      -6.93\n",
       "25%       9.24\n",
       "50%      13.66\n",
       "75%      17.41\n",
       "max      31.24"
      ]
     },
     "metadata": {},
     "output_type": "display_data"
    },
    {
     "name": "stdout",
     "output_type": "stream",
     "text": [
      "CM2% threshold >= 5  is the percentile 10.32\n",
      "CM2% threshold >= 7  is the percentile 15.87\n",
      "CM2% threshold >=  10.155000000000001  is the percentile 30 allowing us to stay with the 70% of our sample\n"
     ]
    },
    {
     "data": {
      "image/png": "[encoded data removed]",
      "text/plain": [
       "<matplotlib.figure.Figure at 0xb750e80>"
      ]
     },
     "metadata": {},
     "output_type": "display_data"
    },
    {
     "data": {
      "text/html": [
       "<div>\n",
       "<style scoped>\n",
       "    .dataframe tbody tr th:only-of-type {\n",
       "        vertical-align: middle;\n",
       "    }\n",
       "\n",
       "    .dataframe tbody tr th {\n",
       "        vertical-align: top;\n",
       "    }\n",
       "\n",
       "    .dataframe thead th {\n",
       "        text-align: right;\n",
       "    }\n",
       "</style>\n",
       "<table border=\"1\" class=\"dataframe\">\n",
       "  <thead>\n",
       "    <tr style=\"text-align: right;\">\n",
       "      <th></th>\n",
       "      <th>ORDERS</th>\n",
       "    </tr>\n",
       "  </thead>\n",
       "  <tbody>\n",
       "    <tr>\n",
       "      <th>count</th>\n",
       "      <td>126.00</td>\n",
       "    </tr>\n",
       "    <tr>\n",
       "      <th>mean</th>\n",
       "      <td>7.07</td>\n",
       "    </tr>\n",
       "    <tr>\n",
       "      <th>std</th>\n",
       "      <td>5.51</td>\n",
       "    </tr>\n",
       "    <tr>\n",
       "      <th>min</th>\n",
       "      <td>1.00</td>\n",
       "    </tr>\n",
       "    <tr>\n",
       "      <th>25%</th>\n",
       "      <td>3.00</td>\n",
       "    </tr>\n",
       "    <tr>\n",
       "      <th>50%</th>\n",
       "      <td>5.00</td>\n",
       "    </tr>\n",
       "    <tr>\n",
       "      <th>75%</th>\n",
       "      <td>9.75</td>\n",
       "    </tr>\n",
       "    <tr>\n",
       "      <th>max</th>\n",
       "      <td>35.00</td>\n",
       "    </tr>\n",
       "  </tbody>\n",
       "</table>\n",
       "</div>"
      ],
      "text/plain": [
       "       ORDERS\n",
       "count  126.00\n",
       "mean     7.07\n",
       "std      5.51\n",
       "min      1.00\n",
       "25%      3.00\n",
       "50%      5.00\n",
       "75%      9.75\n",
       "max     35.00"
      ]
     },
     "metadata": {},
     "output_type": "display_data"
    },
    {
     "name": "stdout",
     "output_type": "stream",
     "text": [
      "3.5  is the percentile 30 allowing us to stay with the 70% of our sample\n",
      "                                                                                                                    \n",
      "With CM2% threshold >= 5 and Orders >=  3.5  we keep eligible a  64.29  % from our customers\n",
      "With CM2% threshold >= 7 and Orders >=  3.5  we keep eligible a  59.52  % from our customers\n",
      "With CM2% threshold >=  10.155000000000001  and Orders >=  3.5  we keep eligible a  46.03  % from our customers\n",
      "                                                                                                                    \n",
      "                                                                                                                    \n",
      "...........................................................TIER  53 ..........................................................\n"
     ]
    },
    {
     "data": {
      "image/png": "[encoded data removed]",
      "text/plain": [
       "<matplotlib.figure.Figure at 0xb665be0>"
      ]
     },
     "metadata": {},
     "output_type": "display_data"
    },
    {
     "data": {
      "text/html": [
       "<div>\n",
       "<style scoped>\n",
       "    .dataframe tbody tr th:only-of-type {\n",
       "        vertical-align: middle;\n",
       "    }\n",
       "\n",
       "    .dataframe tbody tr th {\n",
       "        vertical-align: top;\n",
       "    }\n",
       "\n",
       "    .dataframe thead th {\n",
       "        text-align: right;\n",
       "    }\n",
       "</style>\n",
       "<table border=\"1\" class=\"dataframe\">\n",
       "  <thead>\n",
       "    <tr style=\"text-align: right;\">\n",
       "      <th></th>\n",
       "      <th>CM2_REL</th>\n",
       "    </tr>\n",
       "  </thead>\n",
       "  <tbody>\n",
       "    <tr>\n",
       "      <th>count</th>\n",
       "      <td>243.00</td>\n",
       "    </tr>\n",
       "    <tr>\n",
       "      <th>mean</th>\n",
       "      <td>14.09</td>\n",
       "    </tr>\n",
       "    <tr>\n",
       "      <th>std</th>\n",
       "      <td>9.40</td>\n",
       "    </tr>\n",
       "    <tr>\n",
       "      <th>min</th>\n",
       "      <td>-31.73</td>\n",
       "    </tr>\n",
       "    <tr>\n",
       "      <th>25%</th>\n",
       "      <td>7.68</td>\n",
       "    </tr>\n",
       "    <tr>\n",
       "      <th>50%</th>\n",
       "      <td>14.67</td>\n",
       "    </tr>\n",
       "    <tr>\n",
       "      <th>75%</th>\n",
       "      <td>20.24</td>\n",
       "    </tr>\n",
       "    <tr>\n",
       "      <th>max</th>\n",
       "      <td>41.51</td>\n",
       "    </tr>\n",
       "  </tbody>\n",
       "</table>\n",
       "</div>"
      ],
      "text/plain": [
       "       CM2_REL\n",
       "count   243.00\n",
       "mean     14.09\n",
       "std       9.40\n",
       "min     -31.73\n",
       "25%       7.68\n",
       "50%      14.67\n",
       "75%      20.24\n",
       "max      41.51"
      ]
     },
     "metadata": {},
     "output_type": "display_data"
    },
    {
     "name": "stdout",
     "output_type": "stream",
     "text": [
      "CM2% threshold >= 5  is the percentile 13.17\n",
      "CM2% threshold >= 7  is the percentile 23.05\n",
      "CM2% threshold >=  9.812000000000001  is the percentile 30 allowing us to stay with the 70% of our sample\n"
     ]
    },
    {
     "data": {
      "image/png": "[encoded data removed]",
      "text/plain": [
       "<matplotlib.figure.Figure at 0xb75b7b8>"
      ]
     },
     "metadata": {},
     "output_type": "display_data"
    },
    {
     "data": {
      "text/html": [
       "<div>\n",
       "<style scoped>\n",
       "    .dataframe tbody tr th:only-of-type {\n",
       "        vertical-align: middle;\n",
       "    }\n",
       "\n",
       "    .dataframe tbody tr th {\n",
       "        vertical-align: top;\n",
       "    }\n",
       "\n",
       "    .dataframe thead th {\n",
       "        text-align: right;\n",
       "    }\n",
       "</style>\n",
       "<table border=\"1\" class=\"dataframe\">\n",
       "  <thead>\n",
       "    <tr style=\"text-align: right;\">\n",
       "      <th></th>\n",
       "      <th>ORDERS</th>\n",
       "    </tr>\n",
       "  </thead>\n",
       "  <tbody>\n",
       "    <tr>\n",
       "      <th>count</th>\n",
       "      <td>243.00</td>\n",
       "    </tr>\n",
       "    <tr>\n",
       "      <th>mean</th>\n",
       "      <td>7.93</td>\n",
       "    </tr>\n",
       "    <tr>\n",
       "      <th>std</th>\n",
       "      <td>10.82</td>\n",
       "    </tr>\n",
       "    <tr>\n",
       "      <th>min</th>\n",
       "      <td>1.00</td>\n",
       "    </tr>\n",
       "    <tr>\n",
       "      <th>25%</th>\n",
       "      <td>3.50</td>\n",
       "    </tr>\n",
       "    <tr>\n",
       "      <th>50%</th>\n",
       "      <td>6.00</td>\n",
       "    </tr>\n",
       "    <tr>\n",
       "      <th>75%</th>\n",
       "      <td>9.00</td>\n",
       "    </tr>\n",
       "    <tr>\n",
       "      <th>max</th>\n",
       "      <td>146.00</td>\n",
       "    </tr>\n",
       "  </tbody>\n",
       "</table>\n",
       "</div>"
      ],
      "text/plain": [
       "       ORDERS\n",
       "count  243.00\n",
       "mean     7.93\n",
       "std     10.82\n",
       "min      1.00\n",
       "25%      3.50\n",
       "50%      6.00\n",
       "75%      9.00\n",
       "max    146.00"
      ]
     },
     "metadata": {},
     "output_type": "display_data"
    },
    {
     "name": "stdout",
     "output_type": "stream",
     "text": [
      "4.0  is the percentile 30 allowing us to stay with the 70% of our sample\n",
      "                                                                                                                    \n",
      "With CM2% threshold >= 5 and Orders >=  4.0  we keep eligible a  66.67  % from our customers\n",
      "With CM2% threshold >= 7 and Orders >=  4.0  we keep eligible a  59.26  % from our customers\n",
      "With CM2% threshold >=  9.812000000000001  and Orders >=  4.0  we keep eligible a  53.5  % from our customers\n",
      "                                                                                                                    \n",
      "                                                                                                                    \n",
      "...........................................................TIER  54 ..........................................................\n"
     ]
    },
    {
     "data": {
      "image/png": "[encoded data removed]",
      "text/plain": [
       "<matplotlib.figure.Figure at 0xba14e10>"
      ]
     },
     "metadata": {},
     "output_type": "display_data"
    },
    {
     "data": {
      "text/html": [
       "<div>\n",
       "<style scoped>\n",
       "    .dataframe tbody tr th:only-of-type {\n",
       "        vertical-align: middle;\n",
       "    }\n",
       "\n",
       "    .dataframe tbody tr th {\n",
       "        vertical-align: top;\n",
       "    }\n",
       "\n",
       "    .dataframe thead th {\n",
       "        text-align: right;\n",
       "    }\n",
       "</style>\n",
       "<table border=\"1\" class=\"dataframe\">\n",
       "  <thead>\n",
       "    <tr style=\"text-align: right;\">\n",
       "      <th></th>\n",
       "      <th>CM2_REL</th>\n",
       "    </tr>\n",
       "  </thead>\n",
       "  <tbody>\n",
       "    <tr>\n",
       "      <th>count</th>\n",
       "      <td>89.00</td>\n",
       "    </tr>\n",
       "    <tr>\n",
       "      <th>mean</th>\n",
       "      <td>11.56</td>\n",
       "    </tr>\n",
       "    <tr>\n",
       "      <th>std</th>\n",
       "      <td>7.94</td>\n",
       "    </tr>\n",
       "    <tr>\n",
       "      <th>min</th>\n",
       "      <td>-13.52</td>\n",
       "    </tr>\n",
       "    <tr>\n",
       "      <th>25%</th>\n",
       "      <td>6.23</td>\n",
       "    </tr>\n",
       "    <tr>\n",
       "      <th>50%</th>\n",
       "      <td>11.74</td>\n",
       "    </tr>\n",
       "    <tr>\n",
       "      <th>75%</th>\n",
       "      <td>17.98</td>\n",
       "    </tr>\n",
       "    <tr>\n",
       "      <th>max</th>\n",
       "      <td>25.73</td>\n",
       "    </tr>\n",
       "  </tbody>\n",
       "</table>\n",
       "</div>"
      ],
      "text/plain": [
       "       CM2_REL\n",
       "count    89.00\n",
       "mean     11.56\n",
       "std       7.94\n",
       "min     -13.52\n",
       "25%       6.23\n",
       "50%      11.74\n",
       "75%      17.98\n",
       "max      25.73"
      ]
     },
     "metadata": {},
     "output_type": "display_data"
    },
    {
     "name": "stdout",
     "output_type": "stream",
     "text": [
      "CM2% threshold >= 5  is the percentile 21.35\n",
      "CM2% threshold >= 7  is the percentile 26.97\n",
      "CM2% threshold >=  7.671999999999999  is the percentile 30 allowing us to stay with the 70% of our sample\n"
     ]
    },
    {
     "data": {
      "image/png": "[encoded data removed]",
      "text/plain": [
       "<matplotlib.figure.Figure at 0xba36c18>"
      ]
     },
     "metadata": {},
     "output_type": "display_data"
    },
    {
     "data": {
      "text/html": [
       "<div>\n",
       "<style scoped>\n",
       "    .dataframe tbody tr th:only-of-type {\n",
       "        vertical-align: middle;\n",
       "    }\n",
       "\n",
       "    .dataframe tbody tr th {\n",
       "        vertical-align: top;\n",
       "    }\n",
       "\n",
       "    .dataframe thead th {\n",
       "        text-align: right;\n",
       "    }\n",
       "</style>\n",
       "<table border=\"1\" class=\"dataframe\">\n",
       "  <thead>\n",
       "    <tr style=\"text-align: right;\">\n",
       "      <th></th>\n",
       "      <th>ORDERS</th>\n",
       "    </tr>\n",
       "  </thead>\n",
       "  <tbody>\n",
       "    <tr>\n",
       "      <th>count</th>\n",
       "      <td>89.00</td>\n",
       "    </tr>\n",
       "    <tr>\n",
       "      <th>mean</th>\n",
       "      <td>8.63</td>\n",
       "    </tr>\n",
       "    <tr>\n",
       "      <th>std</th>\n",
       "      <td>9.33</td>\n",
       "    </tr>\n",
       "    <tr>\n",
       "      <th>min</th>\n",
       "      <td>1.00</td>\n",
       "    </tr>\n",
       "    <tr>\n",
       "      <th>25%</th>\n",
       "      <td>4.00</td>\n",
       "    </tr>\n",
       "    <tr>\n",
       "      <th>50%</th>\n",
       "      <td>6.00</td>\n",
       "    </tr>\n",
       "    <tr>\n",
       "      <th>75%</th>\n",
       "      <td>10.00</td>\n",
       "    </tr>\n",
       "    <tr>\n",
       "      <th>max</th>\n",
       "      <td>69.00</td>\n",
       "    </tr>\n",
       "  </tbody>\n",
       "</table>\n",
       "</div>"
      ],
      "text/plain": [
       "       ORDERS\n",
       "count   89.00\n",
       "mean     8.63\n",
       "std      9.33\n",
       "min      1.00\n",
       "25%      4.00\n",
       "50%      6.00\n",
       "75%     10.00\n",
       "max     69.00"
      ]
     },
     "metadata": {},
     "output_type": "display_data"
    },
    {
     "name": "stdout",
     "output_type": "stream",
     "text": [
      "4.0  is the percentile 30 allowing us to stay with the 70% of our sample\n",
      "                                                                                                                    \n",
      "With CM2% threshold >= 5 and Orders >=  4.0  we keep eligible a  62.92  % from our customers\n",
      "With CM2% threshold >= 7 and Orders >=  4.0  we keep eligible a  57.3  % from our customers\n",
      "With CM2% threshold >=  7.671999999999999  and Orders >=  4.0  we keep eligible a  56.18  % from our customers\n",
      "                                                                                                                    \n",
      "                                                                                                                    \n",
      "...........................................................TIER  55 ..........................................................\n"
     ]
    },
    {
     "data": {
      "image/png": "[encoded data removed]",
      "text/plain": [
       "<matplotlib.figure.Figure at 0xbc130b8>"
      ]
     },
     "metadata": {},
     "output_type": "display_data"
    },
    {
     "data": {
      "text/html": [
       "<div>\n",
       "<style scoped>\n",
       "    .dataframe tbody tr th:only-of-type {\n",
       "        vertical-align: middle;\n",
       "    }\n",
       "\n",
       "    .dataframe tbody tr th {\n",
       "        vertical-align: top;\n",
       "    }\n",
       "\n",
       "    .dataframe thead th {\n",
       "        text-align: right;\n",
       "    }\n",
       "</style>\n",
       "<table border=\"1\" class=\"dataframe\">\n",
       "  <thead>\n",
       "    <tr style=\"text-align: right;\">\n",
       "      <th></th>\n",
       "      <th>CM2_REL</th>\n",
       "    </tr>\n",
       "  </thead>\n",
       "  <tbody>\n",
       "    <tr>\n",
       "      <th>count</th>\n",
       "      <td>77.00</td>\n",
       "    </tr>\n",
       "    <tr>\n",
       "      <th>mean</th>\n",
       "      <td>10.79</td>\n",
       "    </tr>\n",
       "    <tr>\n",
       "      <th>std</th>\n",
       "      <td>9.03</td>\n",
       "    </tr>\n",
       "    <tr>\n",
       "      <th>min</th>\n",
       "      <td>-12.84</td>\n",
       "    </tr>\n",
       "    <tr>\n",
       "      <th>25%</th>\n",
       "      <td>5.97</td>\n",
       "    </tr>\n",
       "    <tr>\n",
       "      <th>50%</th>\n",
       "      <td>10.52</td>\n",
       "    </tr>\n",
       "    <tr>\n",
       "      <th>75%</th>\n",
       "      <td>15.86</td>\n",
       "    </tr>\n",
       "    <tr>\n",
       "      <th>max</th>\n",
       "      <td>38.89</td>\n",
       "    </tr>\n",
       "  </tbody>\n",
       "</table>\n",
       "</div>"
      ],
      "text/plain": [
       "       CM2_REL\n",
       "count    77.00\n",
       "mean     10.79\n",
       "std       9.03\n",
       "min     -12.84\n",
       "25%       5.97\n",
       "50%      10.52\n",
       "75%      15.86\n",
       "max      38.89"
      ]
     },
     "metadata": {},
     "output_type": "display_data"
    },
    {
     "name": "stdout",
     "output_type": "stream",
     "text": [
      "CM2% threshold >= 5  is the percentile 23.38\n",
      "CM2% threshold >= 7  is the percentile 31.17\n",
      "CM2% threshold >=  6.758  is the percentile 30 allowing us to stay with the 70% of our sample\n"
     ]
    },
    {
     "data": {
      "image/png": "[encoded data removed]",
      "text/plain": [
       "<matplotlib.figure.Figure at 0xbcd0d30>"
      ]
     },
     "metadata": {},
     "output_type": "display_data"
    },
    {
     "data": {
      "text/html": [
       "<div>\n",
       "<style scoped>\n",
       "    .dataframe tbody tr th:only-of-type {\n",
       "        vertical-align: middle;\n",
       "    }\n",
       "\n",
       "    .dataframe tbody tr th {\n",
       "        vertical-align: top;\n",
       "    }\n",
       "\n",
       "    .dataframe thead th {\n",
       "        text-align: right;\n",
       "    }\n",
       "</style>\n",
       "<table border=\"1\" class=\"dataframe\">\n",
       "  <thead>\n",
       "    <tr style=\"text-align: right;\">\n",
       "      <th></th>\n",
       "      <th>ORDERS</th>\n",
       "    </tr>\n",
       "  </thead>\n",
       "  <tbody>\n",
       "    <tr>\n",
       "      <th>count</th>\n",
       "      <td>77.00</td>\n",
       "    </tr>\n",
       "    <tr>\n",
       "      <th>mean</th>\n",
       "      <td>3.13</td>\n",
       "    </tr>\n",
       "    <tr>\n",
       "      <th>std</th>\n",
       "      <td>1.91</td>\n",
       "    </tr>\n",
       "    <tr>\n",
       "      <th>min</th>\n",
       "      <td>1.00</td>\n",
       "    </tr>\n",
       "    <tr>\n",
       "      <th>25%</th>\n",
       "      <td>2.00</td>\n",
       "    </tr>\n",
       "    <tr>\n",
       "      <th>50%</th>\n",
       "      <td>3.00</td>\n",
       "    </tr>\n",
       "    <tr>\n",
       "      <th>75%</th>\n",
       "      <td>4.00</td>\n",
       "    </tr>\n",
       "    <tr>\n",
       "      <th>max</th>\n",
       "      <td>9.00</td>\n",
       "    </tr>\n",
       "  </tbody>\n",
       "</table>\n",
       "</div>"
      ],
      "text/plain": [
       "       ORDERS\n",
       "count   77.00\n",
       "mean     3.13\n",
       "std      1.91\n",
       "min      1.00\n",
       "25%      2.00\n",
       "50%      3.00\n",
       "75%      4.00\n",
       "max      9.00"
      ]
     },
     "metadata": {},
     "output_type": "display_data"
    },
    {
     "name": "stdout",
     "output_type": "stream",
     "text": [
      "2.0  is the percentile 30 allowing us to stay with the 70% of our sample\n",
      "                                                                                                                    \n",
      "With CM2% threshold >= 5 and Orders >=  2.0  we keep eligible a  59.74  % from our customers\n",
      "With CM2% threshold >= 7 and Orders >=  2.0  we keep eligible a  55.84  % from our customers\n",
      "With CM2% threshold >=  6.758  and Orders >=  2.0  we keep eligible a  55.84  % from our customers\n",
      "                                                                                                                    \n",
      "                                                                                                                    \n",
      "...........................................................TIER  56 ..........................................................\n"
     ]
    },
    {
     "data": {
      "image/png": "[encoded data removed]",
      "text/plain": [
       "<matplotlib.figure.Figure at 0xbd98eb8>"
      ]
     },
     "metadata": {},
     "output_type": "display_data"
    },
    {
     "data": {
      "text/html": [
       "<div>\n",
       "<style scoped>\n",
       "    .dataframe tbody tr th:only-of-type {\n",
       "        vertical-align: middle;\n",
       "    }\n",
       "\n",
       "    .dataframe tbody tr th {\n",
       "        vertical-align: top;\n",
       "    }\n",
       "\n",
       "    .dataframe thead th {\n",
       "        text-align: right;\n",
       "    }\n",
       "</style>\n",
       "<table border=\"1\" class=\"dataframe\">\n",
       "  <thead>\n",
       "    <tr style=\"text-align: right;\">\n",
       "      <th></th>\n",
       "      <th>CM2_REL</th>\n",
       "    </tr>\n",
       "  </thead>\n",
       "  <tbody>\n",
       "    <tr>\n",
       "      <th>count</th>\n",
       "      <td>740.00</td>\n",
       "    </tr>\n",
       "    <tr>\n",
       "      <th>mean</th>\n",
       "      <td>9.75</td>\n",
       "    </tr>\n",
       "    <tr>\n",
       "      <th>std</th>\n",
       "      <td>8.21</td>\n",
       "    </tr>\n",
       "    <tr>\n",
       "      <th>min</th>\n",
       "      <td>-27.74</td>\n",
       "    </tr>\n",
       "    <tr>\n",
       "      <th>25%</th>\n",
       "      <td>4.96</td>\n",
       "    </tr>\n",
       "    <tr>\n",
       "      <th>50%</th>\n",
       "      <td>9.40</td>\n",
       "    </tr>\n",
       "    <tr>\n",
       "      <th>75%</th>\n",
       "      <td>14.72</td>\n",
       "    </tr>\n",
       "    <tr>\n",
       "      <th>max</th>\n",
       "      <td>55.81</td>\n",
       "    </tr>\n",
       "  </tbody>\n",
       "</table>\n",
       "</div>"
      ],
      "text/plain": [
       "       CM2_REL\n",
       "count   740.00\n",
       "mean      9.75\n",
       "std       8.21\n",
       "min     -27.74\n",
       "25%       4.96\n",
       "50%       9.40\n",
       "75%      14.72\n",
       "max      55.81"
      ]
     },
     "metadata": {},
     "output_type": "display_data"
    },
    {
     "name": "stdout",
     "output_type": "stream",
     "text": [
      "CM2% threshold >= 5  is the percentile 25.27\n",
      "CM2% threshold >= 7  is the percentile 35.68\n",
      "CM2% threshold >=  5.937  is the percentile 30 allowing us to stay with the 70% of our sample\n"
     ]
    },
    {
     "data": {
      "image/png": "[encoded data removed]",
      "text/plain": [
       "<matplotlib.figure.Figure at 0xb243a20>"
      ]
     },
     "metadata": {},
     "output_type": "display_data"
    },
    {
     "data": {
      "text/html": [
       "<div>\n",
       "<style scoped>\n",
       "    .dataframe tbody tr th:only-of-type {\n",
       "        vertical-align: middle;\n",
       "    }\n",
       "\n",
       "    .dataframe tbody tr th {\n",
       "        vertical-align: top;\n",
       "    }\n",
       "\n",
       "    .dataframe thead th {\n",
       "        text-align: right;\n",
       "    }\n",
       "</style>\n",
       "<table border=\"1\" class=\"dataframe\">\n",
       "  <thead>\n",
       "    <tr style=\"text-align: right;\">\n",
       "      <th></th>\n",
       "      <th>ORDERS</th>\n",
       "    </tr>\n",
       "  </thead>\n",
       "  <tbody>\n",
       "    <tr>\n",
       "      <th>count</th>\n",
       "      <td>740.00</td>\n",
       "    </tr>\n",
       "    <tr>\n",
       "      <th>mean</th>\n",
       "      <td>4.44</td>\n",
       "    </tr>\n",
       "    <tr>\n",
       "      <th>std</th>\n",
       "      <td>3.85</td>\n",
       "    </tr>\n",
       "    <tr>\n",
       "      <th>min</th>\n",
       "      <td>1.00</td>\n",
       "    </tr>\n",
       "    <tr>\n",
       "      <th>25%</th>\n",
       "      <td>2.00</td>\n",
       "    </tr>\n",
       "    <tr>\n",
       "      <th>50%</th>\n",
       "      <td>4.00</td>\n",
       "    </tr>\n",
       "    <tr>\n",
       "      <th>75%</th>\n",
       "      <td>6.00</td>\n",
       "    </tr>\n",
       "    <tr>\n",
       "      <th>max</th>\n",
       "      <td>59.00</td>\n",
       "    </tr>\n",
       "  </tbody>\n",
       "</table>\n",
       "</div>"
      ],
      "text/plain": [
       "       ORDERS\n",
       "count  740.00\n",
       "mean     4.44\n",
       "std      3.85\n",
       "min      1.00\n",
       "25%      2.00\n",
       "50%      4.00\n",
       "75%      6.00\n",
       "max     59.00"
      ]
     },
     "metadata": {},
     "output_type": "display_data"
    },
    {
     "name": "stdout",
     "output_type": "stream",
     "text": [
      "2.0  is the percentile 30 allowing us to stay with the 70% of our sample\n",
      "                                                                                                                    \n",
      "With CM2% threshold >= 5 and Orders >=  2.0  we keep eligible a  68.24  % from our customers\n",
      "With CM2% threshold >= 7 and Orders >=  2.0  we keep eligible a  58.78  % from our customers\n",
      "With CM2% threshold >=  5.937  and Orders >=  2.0  we keep eligible a  64.05  % from our customers\n",
      "                                                                                                                    \n",
      "                                                                                                                    \n"
     ]
    }
   ],
   "source": [
    "for tq in tiers:\n",
    "    data_tier = data[data['ZTQ_ID'] == tq]\n",
    "    print('...........................................................TIER ', tq, '..........................................................')\n",
    "    # CM2% per customer\n",
    "    plt.figure(figsize=(16,4))\n",
    "    data_tier['CM2_REL'].hist(bins=100, range=(-50, 50))\n",
    "    title = 'Tier ' + str(tq) + '  Relative CM2 % per customer histogram'\n",
    "    plt.title(title)\n",
    "    plt.show()\n",
    "    display(pd.DataFrame(data_tier['CM2_REL'].fillna(0).describe().round(2)))\n",
    "    perc_30_cm2_rel = data_tier['CM2_REL'].fillna(0).quantile(.3)\n",
    "    print('CM2% threshold >= 5  is the percentile', stats.percentileofscore(data_tier['CM2_REL'], 5, kind='strict').round(2))\n",
    "    print('CM2% threshold >= 7  is the percentile', stats.percentileofscore(data_tier['CM2_REL'], 7, kind='strict').round(2))\n",
    "    print('CM2% threshold >= ', perc_30_cm2_rel, ' is the percentile 30 allowing us to stay with the 70% of our sample')\n",
    "    # CM2 € per customer\n",
    "    #plt.figure(figsize=(16,4))\n",
    "    #data_tier['TOTAL_CM2'].hist(bins=200, range=(-50, 150))\n",
    "    #title = 'Tier ' + str(tq) + ' Absolute CM2 per customer histogram'\n",
    "    #plt.title(title)\n",
    "    #plt.show()\n",
    "    #display(pd.DataFrame(data_tier['TOTAL_CM2'].describe().round(2)))\n",
    "    #perc_30_cm2_abs = data_tier['TOTAL_CM2'].fillna(0).quantile(.3)\n",
    "    #val1 = float(data_tier[(data_tier['CM2_REL'] >= 5) & (data_tier['TOTAL_CM2'] >= perc_30_cm2_abs)]['CUSTOMER_ID'].nunique()) / data_tier['CUSTOMER_ID'].nunique() * 100\n",
    "    #val2 = float(data_tier[(data_tier['CM2_REL'] >= 7) & (data_tier['TOTAL_CM2'] >= perc_30_cm2_abs)]['CUSTOMER_ID'].nunique()) / data_tier['CUSTOMER_ID'].nunique() * 100\n",
    "    #val3 = float(data_tier[(data_tier['CM2_REL'] >= perc_30_cm2_rel) & (data_tier['TOTAL_CM2'] >= perc_30_cm2_abs)]['CUSTOMER_ID'].nunique()) / data_tier['CUSTOMER_ID'].nunique() * 100\n",
    "    #print(perc_30_cm2_abs, ' is the percentile 30 allowing us to stay with the 70% of our sample')\n",
    "    #print('                                                                                                                    ')\n",
    "    #print('With CM2% threshold >= 5 and CM2 >= ', perc_30_cm2_abs, ' we keep eligible a ', np.round(val1, 2), ' % from our customers')\n",
    "    #print('With CM2% threshold >= 7 and CM2 >= ', perc_30_cm2_abs, ' we keep eligible a ', np.round(val2, 2), ' % from our customers')\n",
    "    #print('With CM2% threshold >= ', perc_30_cm2_rel, ' and CM2 >= ', perc_30_cm2_abs, ' we keep eligible a ', np.round(val3, 2), ' % from our customers')\n",
    "    # Orders per customer\n",
    "    plt.figure(figsize=(16,4))\n",
    "    data_tier['ORDERS'].hist(bins=30, range=(0, 30))\n",
    "    title = 'Tier ' + str(tq) + ' Orders per customer histogram'\n",
    "    plt.title(title)\n",
    "    plt.show()\n",
    "    display(pd.DataFrame(data_tier['ORDERS'].describe().round(2)))\n",
    "    perc_30_orders = data_tier['ORDERS'].quantile(.3)\n",
    "    val4 = float(data_tier[(data_tier['CM2_REL'] >= 5) & (data_tier['ORDERS'] >= perc_30_orders)]['CUSTOMER_ID'].nunique()) / data_tier['CUSTOMER_ID'].nunique() * 100\n",
    "    val5 = float(data_tier[(data_tier['CM2_REL'] >= 7) & (data_tier['ORDERS'] >= perc_30_orders)]['CUSTOMER_ID'].nunique()) / data_tier['CUSTOMER_ID'].nunique() * 100\n",
    "    val6 = float(data_tier[(data_tier['CM2_REL'] >= perc_30_cm2_rel) & (data_tier['ORDERS'] >= perc_30_orders)]['CUSTOMER_ID'].nunique()) / data_tier['CUSTOMER_ID'].nunique() * 100\n",
    "    print(perc_30_orders, ' is the percentile 30 allowing us to stay with the 70% of our sample')\n",
    "    print('                                                                                                                    ')\n",
    "    print('With CM2% threshold >= 5 and Orders >= ', perc_30_orders, ' we keep eligible a ', np.round(val4, 2), ' % from our customers')\n",
    "    print('With CM2% threshold >= 7 and Orders >= ', perc_30_orders, ' we keep eligible a ', np.round(val5, 2), ' % from our customers')\n",
    "    print('With CM2% threshold >= ', perc_30_cm2_rel, ' and Orders >= ', perc_30_orders, ' we keep eligible a ', np.round(val6, 2), ' % from our customers')\n",
    "    print('                                                                                                                    ')\n",
    "    print('                                                                                                                    ')"
   ]
  },
  {
   "cell_type": "code",
   "execution_count": 13,
   "metadata": {
    "ExecuteTime": {
     "end_time": "2018-06-22T10:48:55.700394Z",
     "start_time": "2018-06-22T10:48:55.684394Z"
    }
   },
   "outputs": [],
   "source": [
    "data['NET_BASKET_VALUE'] = data['NET_SALES'] / data['ORDERS']"
   ]
  },
  {
   "cell_type": "code",
   "execution_count": 14,
   "metadata": {
    "ExecuteTime": {
     "end_time": "2018-06-22T10:48:55.728394Z",
     "start_time": "2018-06-22T10:48:55.701394Z"
    }
   },
   "outputs": [
    {
     "data": {
      "text/html": [
       "<div>\n",
       "<style scoped>\n",
       "    .dataframe tbody tr th:only-of-type {\n",
       "        vertical-align: middle;\n",
       "    }\n",
       "\n",
       "    .dataframe tbody tr th {\n",
       "        vertical-align: top;\n",
       "    }\n",
       "\n",
       "    .dataframe thead th {\n",
       "        text-align: right;\n",
       "    }\n",
       "</style>\n",
       "<table border=\"1\" class=\"dataframe\">\n",
       "  <thead>\n",
       "    <tr style=\"text-align: right;\">\n",
       "      <th></th>\n",
       "      <th>count</th>\n",
       "      <th>mean</th>\n",
       "      <th>std</th>\n",
       "      <th>min</th>\n",
       "      <th>25%</th>\n",
       "      <th>50%</th>\n",
       "      <th>75%</th>\n",
       "      <th>max</th>\n",
       "    </tr>\n",
       "    <tr>\n",
       "      <th>ZTQ_ID</th>\n",
       "      <th></th>\n",
       "      <th></th>\n",
       "      <th></th>\n",
       "      <th></th>\n",
       "      <th></th>\n",
       "      <th></th>\n",
       "      <th></th>\n",
       "      <th></th>\n",
       "    </tr>\n",
       "  </thead>\n",
       "  <tbody>\n",
       "    <tr>\n",
       "      <th>51</th>\n",
       "      <td>306.0</td>\n",
       "      <td>60.717594</td>\n",
       "      <td>24.317553</td>\n",
       "      <td>29.088700</td>\n",
       "      <td>45.371446</td>\n",
       "      <td>55.298616</td>\n",
       "      <td>69.754728</td>\n",
       "      <td>237.381344</td>\n",
       "    </tr>\n",
       "    <tr>\n",
       "      <th>52</th>\n",
       "      <td>60.0</td>\n",
       "      <td>80.620908</td>\n",
       "      <td>52.054401</td>\n",
       "      <td>32.896086</td>\n",
       "      <td>51.196720</td>\n",
       "      <td>64.128713</td>\n",
       "      <td>85.726561</td>\n",
       "      <td>297.029889</td>\n",
       "    </tr>\n",
       "    <tr>\n",
       "      <th>53</th>\n",
       "      <td>137.0</td>\n",
       "      <td>69.621238</td>\n",
       "      <td>32.452206</td>\n",
       "      <td>30.903775</td>\n",
       "      <td>47.966014</td>\n",
       "      <td>59.234086</td>\n",
       "      <td>80.300800</td>\n",
       "      <td>238.387983</td>\n",
       "    </tr>\n",
       "    <tr>\n",
       "      <th>54</th>\n",
       "      <td>55.0</td>\n",
       "      <td>89.165706</td>\n",
       "      <td>60.747391</td>\n",
       "      <td>30.710871</td>\n",
       "      <td>54.808499</td>\n",
       "      <td>79.639200</td>\n",
       "      <td>103.334042</td>\n",
       "      <td>432.694643</td>\n",
       "    </tr>\n",
       "    <tr>\n",
       "      <th>55</th>\n",
       "      <td>28.0</td>\n",
       "      <td>54.391476</td>\n",
       "      <td>16.656472</td>\n",
       "      <td>35.614175</td>\n",
       "      <td>43.913341</td>\n",
       "      <td>46.563210</td>\n",
       "      <td>63.586765</td>\n",
       "      <td>93.049300</td>\n",
       "    </tr>\n",
       "    <tr>\n",
       "      <th>56</th>\n",
       "      <td>348.0</td>\n",
       "      <td>68.242861</td>\n",
       "      <td>45.096959</td>\n",
       "      <td>31.353300</td>\n",
       "      <td>45.672290</td>\n",
       "      <td>56.373642</td>\n",
       "      <td>76.731566</td>\n",
       "      <td>628.105725</td>\n",
       "    </tr>\n",
       "  </tbody>\n",
       "</table>\n",
       "</div>"
      ],
      "text/plain": [
       "        count       mean        std        min        25%        50%  \\\n",
       "ZTQ_ID                                                                 \n",
       "51      306.0  60.717594  24.317553  29.088700  45.371446  55.298616   \n",
       "52       60.0  80.620908  52.054401  32.896086  51.196720  64.128713   \n",
       "53      137.0  69.621238  32.452206  30.903775  47.966014  59.234086   \n",
       "54       55.0  89.165706  60.747391  30.710871  54.808499  79.639200   \n",
       "55       28.0  54.391476  16.656472  35.614175  43.913341  46.563210   \n",
       "56      348.0  68.242861  45.096959  31.353300  45.672290  56.373642   \n",
       "\n",
       "               75%         max  \n",
       "ZTQ_ID                          \n",
       "51       69.754728  237.381344  \n",
       "52       85.726561  297.029889  \n",
       "53       80.300800  238.387983  \n",
       "54      103.334042  432.694643  \n",
       "55       63.586765   93.049300  \n",
       "56       76.731566  628.105725  "
      ]
     },
     "execution_count": 14,
     "metadata": {},
     "output_type": "execute_result"
    }
   ],
   "source": [
    "data[(data['ORDERS'] >= 4) & (data['ORDERS'] <= 10)].groupby('ZTQ_ID')['NET_BASKET_VALUE'].describe()"
   ]
  },
  {
   "cell_type": "code",
   "execution_count": 15,
   "metadata": {
    "ExecuteTime": {
     "end_time": "2018-06-22T10:48:55.755394Z",
     "start_time": "2018-06-22T10:48:55.730394Z"
    }
   },
   "outputs": [
    {
     "data": {
      "text/html": [
       "<div>\n",
       "<style scoped>\n",
       "    .dataframe tbody tr th:only-of-type {\n",
       "        vertical-align: middle;\n",
       "    }\n",
       "\n",
       "    .dataframe tbody tr th {\n",
       "        vertical-align: top;\n",
       "    }\n",
       "\n",
       "    .dataframe thead th {\n",
       "        text-align: right;\n",
       "    }\n",
       "</style>\n",
       "<table border=\"1\" class=\"dataframe\">\n",
       "  <thead>\n",
       "    <tr style=\"text-align: right;\">\n",
       "      <th></th>\n",
       "      <th>count</th>\n",
       "      <th>mean</th>\n",
       "      <th>std</th>\n",
       "      <th>min</th>\n",
       "      <th>25%</th>\n",
       "      <th>50%</th>\n",
       "      <th>75%</th>\n",
       "      <th>max</th>\n",
       "    </tr>\n",
       "    <tr>\n",
       "      <th>ZTQ_ID</th>\n",
       "      <th></th>\n",
       "      <th></th>\n",
       "      <th></th>\n",
       "      <th></th>\n",
       "      <th></th>\n",
       "      <th></th>\n",
       "      <th></th>\n",
       "      <th></th>\n",
       "    </tr>\n",
       "  </thead>\n",
       "  <tbody>\n",
       "    <tr>\n",
       "      <th>51</th>\n",
       "      <td>306.0</td>\n",
       "      <td>12.991699</td>\n",
       "      <td>5.943904</td>\n",
       "      <td>-8.00</td>\n",
       "      <td>9.1500</td>\n",
       "      <td>12.815</td>\n",
       "      <td>16.7075</td>\n",
       "      <td>35.53</td>\n",
       "    </tr>\n",
       "    <tr>\n",
       "      <th>52</th>\n",
       "      <td>60.0</td>\n",
       "      <td>13.435167</td>\n",
       "      <td>5.802486</td>\n",
       "      <td>3.01</td>\n",
       "      <td>9.2550</td>\n",
       "      <td>13.310</td>\n",
       "      <td>17.3675</td>\n",
       "      <td>28.43</td>\n",
       "    </tr>\n",
       "    <tr>\n",
       "      <th>53</th>\n",
       "      <td>137.0</td>\n",
       "      <td>15.834015</td>\n",
       "      <td>8.691878</td>\n",
       "      <td>-17.13</td>\n",
       "      <td>10.6800</td>\n",
       "      <td>15.560</td>\n",
       "      <td>20.9200</td>\n",
       "      <td>41.51</td>\n",
       "    </tr>\n",
       "    <tr>\n",
       "      <th>54</th>\n",
       "      <td>55.0</td>\n",
       "      <td>13.136727</td>\n",
       "      <td>7.402589</td>\n",
       "      <td>-5.27</td>\n",
       "      <td>8.6700</td>\n",
       "      <td>14.350</td>\n",
       "      <td>18.3200</td>\n",
       "      <td>25.73</td>\n",
       "    </tr>\n",
       "    <tr>\n",
       "      <th>55</th>\n",
       "      <td>28.0</td>\n",
       "      <td>12.803929</td>\n",
       "      <td>8.395162</td>\n",
       "      <td>-4.22</td>\n",
       "      <td>7.7200</td>\n",
       "      <td>10.980</td>\n",
       "      <td>20.0975</td>\n",
       "      <td>27.89</td>\n",
       "    </tr>\n",
       "    <tr>\n",
       "      <th>56</th>\n",
       "      <td>348.0</td>\n",
       "      <td>9.463103</td>\n",
       "      <td>7.154689</td>\n",
       "      <td>-11.47</td>\n",
       "      <td>4.9825</td>\n",
       "      <td>8.980</td>\n",
       "      <td>14.2600</td>\n",
       "      <td>27.12</td>\n",
       "    </tr>\n",
       "  </tbody>\n",
       "</table>\n",
       "</div>"
      ],
      "text/plain": [
       "        count       mean       std    min      25%     50%      75%    max\n",
       "ZTQ_ID                                                                    \n",
       "51      306.0  12.991699  5.943904  -8.00   9.1500  12.815  16.7075  35.53\n",
       "52       60.0  13.435167  5.802486   3.01   9.2550  13.310  17.3675  28.43\n",
       "53      137.0  15.834015  8.691878 -17.13  10.6800  15.560  20.9200  41.51\n",
       "54       55.0  13.136727  7.402589  -5.27   8.6700  14.350  18.3200  25.73\n",
       "55       28.0  12.803929  8.395162  -4.22   7.7200  10.980  20.0975  27.89\n",
       "56      348.0   9.463103  7.154689 -11.47   4.9825   8.980  14.2600  27.12"
      ]
     },
     "execution_count": 15,
     "metadata": {},
     "output_type": "execute_result"
    }
   ],
   "source": [
    "data[(data['ORDERS'] >= 4) & (data['ORDERS'] <= 10)].groupby('ZTQ_ID')['CM2_REL'].describe()"
   ]
  },
  {
   "cell_type": "code",
   "execution_count": 16,
   "metadata": {
    "ExecuteTime": {
     "end_time": "2018-06-22T10:48:56.053394Z",
     "start_time": "2018-06-22T10:48:55.756394Z"
    }
   },
   "outputs": [
    {
     "data": {
      "image/png": "[encoded data removed]",
      "text/plain": [
       "<matplotlib.figure.Figure at 0xbd0fc88>"
      ]
     },
     "metadata": {},
     "output_type": "display_data"
    },
    {
     "data": {
      "text/html": [
       "<div>\n",
       "<style scoped>\n",
       "    .dataframe tbody tr th:only-of-type {\n",
       "        vertical-align: middle;\n",
       "    }\n",
       "\n",
       "    .dataframe tbody tr th {\n",
       "        vertical-align: top;\n",
       "    }\n",
       "\n",
       "    .dataframe thead th {\n",
       "        text-align: right;\n",
       "    }\n",
       "</style>\n",
       "<table border=\"1\" class=\"dataframe\">\n",
       "  <thead>\n",
       "    <tr style=\"text-align: right;\">\n",
       "      <th></th>\n",
       "      <th>CM2_REL</th>\n",
       "    </tr>\n",
       "  </thead>\n",
       "  <tbody>\n",
       "    <tr>\n",
       "      <th>count</th>\n",
       "      <td>1754.00</td>\n",
       "    </tr>\n",
       "    <tr>\n",
       "      <th>mean</th>\n",
       "      <td>11.65</td>\n",
       "    </tr>\n",
       "    <tr>\n",
       "      <th>std</th>\n",
       "      <td>8.19</td>\n",
       "    </tr>\n",
       "    <tr>\n",
       "      <th>min</th>\n",
       "      <td>-51.45</td>\n",
       "    </tr>\n",
       "    <tr>\n",
       "      <th>25%</th>\n",
       "      <td>6.79</td>\n",
       "    </tr>\n",
       "    <tr>\n",
       "      <th>50%</th>\n",
       "      <td>11.75</td>\n",
       "    </tr>\n",
       "    <tr>\n",
       "      <th>75%</th>\n",
       "      <td>16.74</td>\n",
       "    </tr>\n",
       "    <tr>\n",
       "      <th>max</th>\n",
       "      <td>55.81</td>\n",
       "    </tr>\n",
       "  </tbody>\n",
       "</table>\n",
       "</div>"
      ],
      "text/plain": [
       "       CM2_REL\n",
       "count  1754.00\n",
       "mean     11.65\n",
       "std       8.19\n",
       "min     -51.45\n",
       "25%       6.79\n",
       "50%      11.75\n",
       "75%      16.74\n",
       "max      55.81"
      ]
     },
     "metadata": {},
     "output_type": "display_data"
    },
    {
     "name": "stdout",
     "output_type": "stream",
     "text": [
      "CM2% threshold >= 5  is the percentile 17.79\n",
      "CM2% threshold >= 6  is the percentile 21.61\n",
      "CM2% threshold >= 7  is the percentile 26.05\n",
      "CM2% threshold >= 8  is the percentile 30.56\n",
      "CM2% threshold >= 9  is the percentile 35.4\n",
      "CM2% threshold >= 10  is the percentile 40.82\n",
      "CM2% threshold >=  7.877  is the percentile 30 allowing us to stay with the 70% of our sample\n"
     ]
    }
   ],
   "source": [
    "# CM2% per customer\n",
    "plt.figure(figsize=(16,4))\n",
    "data['CM2_REL'].hist(bins=100, range=(-50, 50))\n",
    "title = 'Relative CM2 % per customer histogram'\n",
    "plt.title(title)\n",
    "plt.show()\n",
    "display(pd.DataFrame(data['CM2_REL'].fillna(0).describe().round(2)))\n",
    "perc_30_cm2_rel = data['CM2_REL'].fillna(0).quantile(.3)\n",
    "print('CM2% threshold >= 5  is the percentile', stats.percentileofscore(data['CM2_REL'], 5, kind='strict').round(2))\n",
    "print('CM2% threshold >= 6  is the percentile', stats.percentileofscore(data['CM2_REL'], 6, kind='strict').round(2))\n",
    "print('CM2% threshold >= 7  is the percentile', stats.percentileofscore(data['CM2_REL'], 7, kind='strict').round(2))\n",
    "print('CM2% threshold >= 8  is the percentile', stats.percentileofscore(data['CM2_REL'], 8, kind='strict').round(2))\n",
    "print('CM2% threshold >= 9  is the percentile', stats.percentileofscore(data['CM2_REL'], 9, kind='strict').round(2))\n",
    "print('CM2% threshold >= 10  is the percentile', stats.percentileofscore(data['CM2_REL'], 10, kind='strict').round(2))\n",
    "print('CM2% threshold >= ', perc_30_cm2_rel, ' is the percentile 30 allowing us to stay with the 70% of our sample')\n",
    "# CM2 € per customer\n",
    "#plt.figure(figsize=(16,4))\n",
    "#data['TOTAL_CM2'].hist(bins=200, range=(-50, 150))\n",
    "#title = 'Tier ' + str(tq) + ' Absolute CM2 per customer histogram'\n",
    "#plt.title(title)\n",
    "#plt.show()\n",
    "#display(pd.DataFrame(data['TOTAL_CM2'].describe().round(2)))\n",
    "#perc_30_cm2_abs = data['TOTAL_CM2'].fillna(0).quantile(.3)\n",
    "#val1 = float(data[(data['CM2_REL'] >= 5) & (data['TOTAL_CM2'] >= perc_30_cm2_abs)]['CUSTOMER_ID'].nunique()) / data['CUSTOMER_ID'].nunique() * 100\n",
    "#val2 = float(data[(data['CM2_REL'] >= 7) & (data['TOTAL_CM2'] >= perc_30_cm2_abs)]['CUSTOMER_ID'].nunique()) / data['CUSTOMER_ID'].nunique() * 100\n",
    "#val3 = float(data[(data['CM2_REL'] >= perc_30_cm2_rel) & (data['TOTAL_CM2'] >= perc_30_cm2_abs)]['CUSTOMER_ID'].nunique()) / data['CUSTOMER_ID'].nunique() * 100\n",
    "#print(perc_30_cm2_abs, ' is the percentile 30 allowing us to stay with the 70% of our sample')\n",
    "#print('                                                                                                                    ')\n",
    "#print('With CM2% threshold >= 5 and CM2 >= ', perc_30_cm2_abs, ' we keep eligible a ', np.round(val1, 2), ' % from our customers')\n",
    "#print('With CM2% threshold >= 7 and CM2 >= ', perc_30_cm2_abs, ' we keep eligible a ', np.round(val2, 2), ' % from our customers')\n",
    "#print('With CM2% threshold >= ', perc_30_cm2_rel, ' and CM2 >= ', perc_30_cm2_abs, ' we keep eligible a ', np.round(val3, 2), ' % from our customers')\n",
    "# Orders per customer\n",
    "#plt.figure(figsize=(16,4))\n",
    "#data['ORDERS'].hist(bins=30, range=(0, 30))\n",
    "#title = 'Tier ' + str(tq) + ' Orders per customer histogram'\n",
    "#plt.title(title)\n",
    "#plt.show()\n",
    "#display(pd.DataFrame(data['ORDERS'].describe().round(2)))\n",
    "#perc_30_orders = data['ORDERS'].quantile(.3)\n",
    "#val4 = float(data[(data['CM2_REL'] >= 5) & (data['ORDERS'] >= perc_30_orders)]['CUSTOMER_ID'].nunique()) / data['CUSTOMER_ID'].nunique() * 100\n",
    "#val5 = float(data[(data['CM2_REL'] >= 7) & (data['ORDERS'] >= perc_30_orders)]['CUSTOMER_ID'].nunique()) / data['CUSTOMER_ID'].nunique() * 100\n",
    "#val6 = float(data[(data['CM2_REL'] >= perc_30_cm2_rel) & (data['ORDERS'] >= perc_30_orders)]['CUSTOMER_ID'].nunique()) / data['CUSTOMER_ID'].nunique() * 100\n",
    "#print(perc_30_orders, ' is the percentile 30 allowing us to stay with the 70% of our sample')\n",
    "#print('                                                                                                                    ')\n",
    "#print('With CM2% threshold >= 5 and Orders >= ', perc_30_orders, ' we keep eligible a ', np.round(val4, 2), ' % from our customers')\n",
    "#print('With CM2% threshold >= 7 and Orders >= ', perc_30_orders, ' we keep eligible a ', np.round(val5, 2), ' % from our customers')\n",
    "#print('With CM2% threshold >= ', perc_30_cm2_rel, ' and Orders >= ', perc_30_orders, ' we keep eligible a ', np.round(val6, 2), ' % from our customers')\n",
    "#print('                                                                                                                    ')\n",
    "#print('                                                                                                                    ')"
   ]
  },
  {
   "cell_type": "code",
   "execution_count": 17,
   "metadata": {
    "ExecuteTime": {
     "end_time": "2018-06-22T10:48:56.975794Z",
     "start_time": "2018-06-22T10:48:56.054394Z"
    }
   },
   "outputs": [
    {
     "data": {
      "image/png": "[encoded data removed]",
      "text/plain": [
       "<matplotlib.figure.Figure at 0x7bb2128>"
      ]
     },
     "metadata": {},
     "output_type": "display_data"
    }
   ],
   "source": [
    "plt.figure(figsize=(16,4))\n",
    "for tq in tiers:\n",
    "    data_tier = data[data['ZTQ_ID'] == tq]\n",
    "    #print('...........................................................TIER ', tq, '..........................................................')\n",
    "    # CM2% per customer\n",
    "    data_tier['CM2_REL'].hist(bins=100, range=(-50, 50), alpha=0.5)\n",
    "    plt.legend([51, 52, 53, 54, 55, 56])\n",
    "plt.show()   "
   ]
  }
 ],
 "metadata": {
  "hide_input": false,
  "kernelspec": {
   "display_name": "Python [default]",
   "language": "python",
   "name": "python3"
  },
  "language_info": {
   "codemirror_mode": {
    "name": "ipython",
    "version": 3
   },
   "file_extension": ".py",
   "mimetype": "text/x-python",
   "name": "python",
   "nbconvert_exporter": "python",
   "pygments_lexer": "ipython3",
   "version": "3.6.4"
  },
  "toc": {
   "base_numbering": 1,
   "nav_menu": {},
   "number_sections": true,
   "sideBar": true,
   "skip_h1_title": false,
   "title_cell": "Table of Contents",
   "title_sidebar": "Contents",
   "toc_cell": false,
   "toc_position": {},
   "toc_section_display": true,
   "toc_window_display": false
  },
  "varInspector": {
   "cols": {
    "lenName": 16,
    "lenType": 16,
    "lenVar": 40
   },
   "kernels_config": {
    "python": {
     "delete_cmd_postfix": "",
     "delete_cmd_prefix": "del ",
     "library": "var_list.py",
     "varRefreshCmd": "print(var_dic_list())"
    },
    "r": {
     "delete_cmd_postfix": ") ",
     "delete_cmd_prefix": "rm(",
     "library": "var_list.r",
     "varRefreshCmd": "cat(var_dic_list()) "
    }
   },
   "types_to_exclude": [
    "module",
    "function",
    "builtin_function_or_method",
    "instance",
    "_Feature"
   ],
   "window_display": false
  }
 },
 "nbformat": 4,
 "nbformat_minor": 2
}
