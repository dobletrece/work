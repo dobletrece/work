{
 "cells": [
  {
   "cell_type": "markdown",
   "metadata": {},
   "source": [
    "Whatever it is the kind of SP designed, as a loyalty tool, we need to focus the good performance of our SP on the following topics per customer:\n",
    "\n",
    "+ Increase **purchasing frequency**\n",
    "+ Increase **basket average**\n",
    "+ Increase **retention** in the mid-long term\n",
    "+ Increase **CLV**\n",
    "+ Not damage the margin despite of the discount provided"
   ]
  },
  {
   "cell_type": "code",
   "execution_count": 1,
   "metadata": {
    "ExecuteTime": {
     "end_time": "2018-09-26T08:06:24.622724Z",
     "start_time": "2018-09-26T08:06:22.465449Z"
    }
   },
   "outputs": [],
   "source": [
    "import numpy as np\n",
    "import pandas as pd\n",
    "import matplotlib.pyplot as plt\n",
    "%matplotlib inline\n",
    "from IPython.display import display\n",
    "from scipy import stats\n",
    "from statistics import stdev\n",
    "import datetime\n",
    "from datetime import timedelta\n",
    "from collections import Counter\n",
    "import cx_Oracle\n",
    "import psycopg2\n",
    "import seaborn as sns\n",
    "import json\n",
    "import pickle\n",
    "from warnings import filterwarnings\n",
    "filterwarnings('ignore')"
   ]
  },
  {
   "cell_type": "markdown",
   "metadata": {
    "heading_collapsed": true
   },
   "source": [
    "#### Customer data extraction and processing"
   ]
  },
  {
   "cell_type": "markdown",
   "metadata": {
    "hidden": true
   },
   "source": [
    "Let's do the connection set up to Postgres DB and check the tables we can use to support our new eligibility policy"
   ]
  },
  {
   "cell_type": "markdown",
   "metadata": {
    "hidden": true
   },
   "source": [
    "First we will try with a toy example getting data back from only one shop: ES customers & orders"
   ]
  },
  {
   "cell_type": "raw",
   "metadata": {
    "ExecuteTime": {
     "end_time": "2018-09-19T15:26:27.690538Z",
     "start_time": "2018-09-19T15:26:27.684538Z"
    },
    "hidden": true
   },
   "source": [
    "query = \"\"\"SELECT cop.cop_c_id, cop.cop_pref_o_ext_s_id, cop.cop_g_order_count,\n",
    "cop.cop_g_net_total, cop.cop_g_cm2, c.c_registration_ext_s_id, c.c_registration_date\n",
    "FROM public.customer_order_profile cop\n",
    "JOIN public.customers c\n",
    "ON cop.cop_c_id = c.c_id\n",
    "where cop.cop_g_cm2 is not null\n",
    "and c.c_registered_account = true\n",
    "and c.c_registration_ext_s_id = 15\n",
    "\"\"\""
   ]
  },
  {
   "cell_type": "raw",
   "metadata": {
    "ExecuteTime": {
     "end_time": "2018-09-19T15:27:44.392538Z",
     "start_time": "2018-09-19T15:27:13.260538Z"
    },
    "hidden": true
   },
   "source": [
    "conn = psycopg2.connect(\"dbname='savings_plan_db' user='dba' host='savings-plan-prod-c-savings-plan-db-readonly.ccsod6gcmvcs.eu-central-1.rds.amazonaws.com' password='m4d_l0y_db4?'\")\n",
    "es_customers = pd.read_sql(query, con = conn)\n",
    "conn.close()"
   ]
  },
  {
   "cell_type": "code",
   "execution_count": null,
   "metadata": {
    "ExecuteTime": {
     "end_time": "2018-09-19T13:55:29.300538Z",
     "start_time": "2018-09-19T13:55:05.599Z"
    },
    "hidden": true
   },
   "outputs": [],
   "source": [
    "# We don´t have the data corresponding to a PG Share in the basket...can get it back from Oracle if required"
   ]
  },
  {
   "cell_type": "code",
   "execution_count": null,
   "metadata": {
    "hidden": true
   },
   "outputs": [],
   "source": [
    "# Need to compute somehow the purchasing frequency - quarterly? -"
   ]
  },
  {
   "cell_type": "code",
   "execution_count": 59,
   "metadata": {
    "ExecuteTime": {
     "end_time": "2018-09-19T13:54:20.578538Z",
     "start_time": "2018-09-19T13:54:20.458538Z"
    },
    "hidden": true
   },
   "outputs": [
    {
     "name": "stdout",
     "output_type": "stream",
     "text": [
      "<class 'pandas.core.frame.DataFrame'>\n",
      "Int64Index: 482767 entries, 0 to 487977\n",
      "Data columns (total 9 columns):\n",
      "cop_c_id                   482767 non-null int64\n",
      "cop_pref_o_ext_s_id        482767 non-null int64\n",
      "cop_g_order_count          482767 non-null int64\n",
      "cop_g_net_total            482767 non-null float64\n",
      "cop_g_cm2                  482767 non-null float64\n",
      "c_registration_ext_s_id    482767 non-null int64\n",
      "c_registration_date        482767 non-null datetime64[ns]\n",
      "basket_avg                 482767 non-null float64\n",
      "cm2%                       482767 non-null float64\n",
      "dtypes: datetime64[ns](1), float64(4), int64(4)\n",
      "memory usage: 36.8 MB\n"
     ]
    }
   ],
   "source": [
    "#Around half million customers\n",
    "es_customers.info(verbose=True)"
   ]
  },
  {
   "cell_type": "code",
   "execution_count": 10,
   "metadata": {
    "ExecuteTime": {
     "end_time": "2018-09-19T12:02:37.695992Z",
     "start_time": "2018-09-19T12:02:37.675992Z"
    },
    "hidden": true
   },
   "outputs": [
    {
     "data": {
      "text/plain": [
       "cop_pref_o_ext_s_id\n",
       "15    1547982\n",
       "28       7782\n",
       "1        4181\n",
       "4        2643\n",
       "3        2484\n",
       "12       1843\n",
       "7         810\n",
       "2         621\n",
       "25        434\n",
       "14        309\n",
       "11        304\n",
       "8         270\n",
       "26        262\n",
       "21        162\n",
       "18         73\n",
       "24         55\n",
       "22         54\n",
       "31         50\n",
       "19         47\n",
       "16         42\n",
       "30         41\n",
       "20         11\n",
       "29          6\n",
       "23          1\n",
       "Name: cop_g_order_count, dtype: int64"
      ]
     },
     "execution_count": 10,
     "metadata": {},
     "output_type": "execute_result"
    }
   ],
   "source": [
    "# Number of orders grouped by preferred site of the customer\n",
    "es_customers.groupby('cop_pref_o_ext_s_id')['cop_g_order_count'].sum().sort_values(ascending=False)"
   ]
  },
  {
   "cell_type": "code",
   "execution_count": 11,
   "metadata": {
    "ExecuteTime": {
     "end_time": "2018-09-19T12:02:37.722992Z",
     "start_time": "2018-09-19T12:02:37.697992Z"
    },
    "hidden": true
   },
   "outputs": [],
   "source": [
    "# Let's get for the calculations all ES customers whose preferred site is also ES Shop\n",
    "es_customers = es_customers[es_customers['cop_pref_o_ext_s_id'] == 15]"
   ]
  },
  {
   "cell_type": "code",
   "execution_count": 54,
   "metadata": {
    "ExecuteTime": {
     "end_time": "2018-09-19T12:59:44.005992Z",
     "start_time": "2018-09-19T12:59:37.995992Z"
    },
    "hidden": true
   },
   "outputs": [],
   "source": [
    "#es_customers.to_csv('es_cust_reg_pref.csv', sep=';', index=False, encoding='utf-8')"
   ]
  },
  {
   "cell_type": "markdown",
   "metadata": {
    "heading_collapsed": true
   },
   "source": [
    "#### Customer data"
   ]
  },
  {
   "cell_type": "code",
   "execution_count": 2,
   "metadata": {
    "ExecuteTime": {
     "end_time": "2018-09-21T12:57:06.630823Z",
     "start_time": "2018-09-21T12:57:06.216823Z"
    },
    "hidden": true
   },
   "outputs": [],
   "source": [
    "es_customers = pd.read_csv('es_cust_reg_pref.csv', sep=';')"
   ]
  },
  {
   "cell_type": "code",
   "execution_count": 3,
   "metadata": {
    "ExecuteTime": {
     "end_time": "2018-09-21T12:57:07.163823Z",
     "start_time": "2018-09-21T12:57:07.060823Z"
    },
    "hidden": true
   },
   "outputs": [],
   "source": [
    "es_customers['c_registration_date'] = pd.to_datetime(es_customers['c_registration_date'], format='%Y-%m-%d')"
   ]
  },
  {
   "cell_type": "code",
   "execution_count": 4,
   "metadata": {
    "ExecuteTime": {
     "end_time": "2018-09-21T12:57:07.672823Z",
     "start_time": "2018-09-21T12:57:07.629823Z"
    },
    "hidden": true
   },
   "outputs": [],
   "source": [
    "# Get CM2% per customer\n",
    "es_customers['cm2%'] = es_customers['cop_g_cm2'] / es_customers['cop_g_net_total'] * 100"
   ]
  },
  {
   "cell_type": "code",
   "execution_count": 5,
   "metadata": {
    "ExecuteTime": {
     "end_time": "2018-09-21T12:57:08.088823Z",
     "start_time": "2018-09-21T12:57:08.071823Z"
    },
    "hidden": true
   },
   "outputs": [],
   "source": [
    "es_customers['cm2%'] = es_customers['cm2%'].replace(-np.inf, 0)"
   ]
  },
  {
   "cell_type": "code",
   "execution_count": 6,
   "metadata": {
    "ExecuteTime": {
     "end_time": "2018-09-21T12:57:08.536823Z",
     "start_time": "2018-09-21T12:57:08.504823Z"
    },
    "hidden": true
   },
   "outputs": [
    {
     "data": {
      "text/html": [
       "<div>\n",
       "<style scoped>\n",
       "    .dataframe tbody tr th:only-of-type {\n",
       "        vertical-align: middle;\n",
       "    }\n",
       "\n",
       "    .dataframe tbody tr th {\n",
       "        vertical-align: top;\n",
       "    }\n",
       "\n",
       "    .dataframe thead th {\n",
       "        text-align: right;\n",
       "    }\n",
       "</style>\n",
       "<table border=\"1\" class=\"dataframe\">\n",
       "  <thead>\n",
       "    <tr style=\"text-align: right;\">\n",
       "      <th></th>\n",
       "      <th>cop_c_id</th>\n",
       "      <th>cop_pref_o_ext_s_id</th>\n",
       "      <th>cop_g_order_count</th>\n",
       "      <th>cop_g_net_total</th>\n",
       "      <th>cop_g_cm2</th>\n",
       "      <th>c_registration_ext_s_id</th>\n",
       "      <th>c_registration_date</th>\n",
       "      <th>cm2%</th>\n",
       "    </tr>\n",
       "  </thead>\n",
       "  <tbody>\n",
       "    <tr>\n",
       "      <th>37817</th>\n",
       "      <td>19725836</td>\n",
       "      <td>15</td>\n",
       "      <td>4</td>\n",
       "      <td>0.063636</td>\n",
       "      <td>-109.237586</td>\n",
       "      <td>15</td>\n",
       "      <td>2018-03-17</td>\n",
       "      <td>-171660.044629</td>\n",
       "    </tr>\n",
       "  </tbody>\n",
       "</table>\n",
       "</div>"
      ],
      "text/plain": [
       "       cop_c_id  cop_pref_o_ext_s_id  cop_g_order_count  cop_g_net_total  \\\n",
       "37817  19725836                   15                  4         0.063636   \n",
       "\n",
       "        cop_g_cm2  c_registration_ext_s_id c_registration_date           cm2%  \n",
       "37817 -109.237586                       15          2018-03-17 -171660.044629  "
      ]
     },
     "execution_count": 6,
     "metadata": {},
     "output_type": "execute_result"
    }
   ],
   "source": [
    "es_customers[es_customers['cm2%'] == es_customers['cm2%'].min()]"
   ]
  },
  {
   "cell_type": "code",
   "execution_count": 7,
   "metadata": {
    "ExecuteTime": {
     "end_time": "2018-09-21T12:57:08.989823Z",
     "start_time": "2018-09-21T12:57:08.932823Z"
    },
    "hidden": true
   },
   "outputs": [],
   "source": [
    "es_customers = es_customers.drop(es_customers.index[37817])"
   ]
  },
  {
   "cell_type": "code",
   "execution_count": 8,
   "metadata": {
    "ExecuteTime": {
     "end_time": "2018-09-21T12:57:09.368823Z",
     "start_time": "2018-09-21T12:57:09.356823Z"
    },
    "hidden": true
   },
   "outputs": [],
   "source": [
    "# And basket average\n",
    "es_customers['net_basket_avg'] = es_customers['cop_g_net_total'] / es_customers['cop_g_order_count']"
   ]
  },
  {
   "cell_type": "code",
   "execution_count": 9,
   "metadata": {
    "ExecuteTime": {
     "end_time": "2018-09-21T12:57:10.166823Z",
     "start_time": "2018-09-21T12:57:10.064823Z"
    },
    "hidden": true
   },
   "outputs": [
    {
     "name": "stdout",
     "output_type": "stream",
     "text": [
      "<class 'pandas.core.frame.DataFrame'>\n",
      "Int64Index: 482766 entries, 0 to 482766\n",
      "Data columns (total 9 columns):\n",
      "cop_c_id                   482766 non-null int64\n",
      "cop_pref_o_ext_s_id        482766 non-null int64\n",
      "cop_g_order_count          482766 non-null int64\n",
      "cop_g_net_total            482766 non-null float64\n",
      "cop_g_cm2                  482766 non-null float64\n",
      "c_registration_ext_s_id    482766 non-null int64\n",
      "c_registration_date        482766 non-null datetime64[ns]\n",
      "cm2%                       482766 non-null float64\n",
      "net_basket_avg             482766 non-null float64\n",
      "dtypes: datetime64[ns](1), float64(4), int64(4)\n",
      "memory usage: 36.8 MB\n"
     ]
    }
   ],
   "source": [
    "es_customers.info(verbose=True)"
   ]
  },
  {
   "cell_type": "code",
   "execution_count": 10,
   "metadata": {
    "ExecuteTime": {
     "end_time": "2018-09-21T12:57:10.925823Z",
     "start_time": "2018-09-21T12:57:10.909823Z"
    },
    "hidden": true
   },
   "outputs": [
    {
     "data": {
      "text/html": [
       "<div>\n",
       "<style scoped>\n",
       "    .dataframe tbody tr th:only-of-type {\n",
       "        vertical-align: middle;\n",
       "    }\n",
       "\n",
       "    .dataframe tbody tr th {\n",
       "        vertical-align: top;\n",
       "    }\n",
       "\n",
       "    .dataframe thead th {\n",
       "        text-align: right;\n",
       "    }\n",
       "</style>\n",
       "<table border=\"1\" class=\"dataframe\">\n",
       "  <thead>\n",
       "    <tr style=\"text-align: right;\">\n",
       "      <th></th>\n",
       "      <th>cop_c_id</th>\n",
       "      <th>cop_pref_o_ext_s_id</th>\n",
       "      <th>cop_g_order_count</th>\n",
       "      <th>cop_g_net_total</th>\n",
       "      <th>cop_g_cm2</th>\n",
       "      <th>c_registration_ext_s_id</th>\n",
       "      <th>c_registration_date</th>\n",
       "      <th>cm2%</th>\n",
       "      <th>net_basket_avg</th>\n",
       "    </tr>\n",
       "  </thead>\n",
       "  <tbody>\n",
       "    <tr>\n",
       "      <th>405981</th>\n",
       "      <td>1496305</td>\n",
       "      <td>15</td>\n",
       "      <td>1</td>\n",
       "      <td>36.924793</td>\n",
       "      <td>2.21111</td>\n",
       "      <td>15</td>\n",
       "      <td>2008-04-15</td>\n",
       "      <td>5.988145</td>\n",
       "      <td>36.924793</td>\n",
       "    </tr>\n",
       "  </tbody>\n",
       "</table>\n",
       "</div>"
      ],
      "text/plain": [
       "        cop_c_id  cop_pref_o_ext_s_id  cop_g_order_count  cop_g_net_total  \\\n",
       "405981   1496305                   15                  1        36.924793   \n",
       "\n",
       "        cop_g_cm2  c_registration_ext_s_id c_registration_date      cm2%  \\\n",
       "405981    2.21111                       15          2008-04-15  5.988145   \n",
       "\n",
       "        net_basket_avg  \n",
       "405981       36.924793  "
      ]
     },
     "execution_count": 10,
     "metadata": {},
     "output_type": "execute_result"
    }
   ],
   "source": [
    "es_customers[es_customers['c_registration_date'] == es_customers['c_registration_date'].min()]"
   ]
  },
  {
   "cell_type": "code",
   "execution_count": 11,
   "metadata": {
    "ExecuteTime": {
     "end_time": "2018-09-21T12:57:11.571823Z",
     "start_time": "2018-09-21T12:57:11.518823Z"
    },
    "hidden": true
   },
   "outputs": [
    {
     "data": {
      "text/plain": [
       "c_registration_date\n",
       "2008      1978\n",
       "2009      6516\n",
       "2010     13503\n",
       "2011     17690\n",
       "2012     22673\n",
       "2013     26461\n",
       "2014     35507\n",
       "2015     61304\n",
       "2016    102984\n",
       "2017    117498\n",
       "2018     76652\n",
       "Name: cop_c_id, dtype: int64"
      ]
     },
     "execution_count": 11,
     "metadata": {},
     "output_type": "execute_result"
    }
   ],
   "source": [
    "es_customers.groupby(es_customers['c_registration_date'].dt.year)['cop_c_id'].count()"
   ]
  },
  {
   "cell_type": "code",
   "execution_count": 12,
   "metadata": {
    "ExecuteTime": {
     "end_time": "2018-09-21T12:57:12.141823Z",
     "start_time": "2018-09-21T12:57:12.088823Z"
    },
    "hidden": true
   },
   "outputs": [],
   "source": [
    "es_customers = es_customers[es_customers['c_registration_date'].dt.year >= 2015]"
   ]
  },
  {
   "cell_type": "code",
   "execution_count": 13,
   "metadata": {
    "ExecuteTime": {
     "end_time": "2018-09-21T12:57:12.463823Z",
     "start_time": "2018-09-21T12:57:12.418823Z"
    },
    "hidden": true
   },
   "outputs": [
    {
     "data": {
      "text/plain": [
       "c_registration_date\n",
       "2015     61304\n",
       "2016    102984\n",
       "2017    117498\n",
       "2018     76652\n",
       "Name: cop_c_id, dtype: int64"
      ]
     },
     "execution_count": 13,
     "metadata": {},
     "output_type": "execute_result"
    }
   ],
   "source": [
    "es_customers.groupby(es_customers['c_registration_date'].dt.year)['cop_c_id'].count()"
   ]
  },
  {
   "cell_type": "code",
   "execution_count": 14,
   "metadata": {
    "ExecuteTime": {
     "end_time": "2018-09-21T12:57:13.056823Z",
     "start_time": "2018-09-21T12:57:13.013823Z"
    },
    "hidden": true
   },
   "outputs": [
    {
     "data": {
      "text/plain": [
       "count    358438.000000\n",
       "mean         52.782606\n",
       "std          31.354045\n",
       "min           0.000000\n",
       "25%          35.990909\n",
       "50%          46.179957\n",
       "75%          61.809091\n",
       "max        2625.311157\n",
       "Name: net_basket_avg, dtype: float64"
      ]
     },
     "execution_count": 14,
     "metadata": {},
     "output_type": "execute_result"
    }
   ],
   "source": [
    "es_customers['net_basket_avg'].describe()"
   ]
  },
  {
   "cell_type": "code",
   "execution_count": 15,
   "metadata": {
    "ExecuteTime": {
     "end_time": "2018-09-21T12:57:14.028823Z",
     "start_time": "2018-09-21T12:57:13.808823Z"
    },
    "hidden": true
   },
   "outputs": [
    {
     "data": {
      "image/png": "[encoded data removed]",
      "text/plain": [
       "<matplotlib.figure.Figure at 0xd2e44a8>"
      ]
     },
     "metadata": {},
     "output_type": "display_data"
    }
   ],
   "source": [
    "# Each bin has a width of 10€\n",
    "sns.set()\n",
    "plt.figure(figsize=(12, 8))\n",
    "es_customers['net_basket_avg'].hist(bins=25, range=(0, 250))\n",
    "plt.grid(True)\n",
    "plt.title('Histogram showing net basket average per customer in ES Shop')\n",
    "plt.xlabel('net basket avg')\n",
    "plt.ylabel('Customers')\n",
    "plt.show()"
   ]
  },
  {
   "cell_type": "code",
   "execution_count": 16,
   "metadata": {
    "ExecuteTime": {
     "end_time": "2018-09-21T12:57:14.322823Z",
     "start_time": "2018-09-21T12:57:14.279823Z"
    },
    "hidden": true
   },
   "outputs": [
    {
     "data": {
      "text/plain": [
       "count    358438.000000\n",
       "mean         10.683292\n",
       "std          15.097932\n",
       "min       -4336.175889\n",
       "25%           3.860450\n",
       "50%          10.797188\n",
       "75%          17.997210\n",
       "max         100.000000\n",
       "Name: cm2%, dtype: float64"
      ]
     },
     "execution_count": 16,
     "metadata": {},
     "output_type": "execute_result"
    }
   ],
   "source": [
    "es_customers['cm2%'].describe()"
   ]
  },
  {
   "cell_type": "code",
   "execution_count": 17,
   "metadata": {
    "ExecuteTime": {
     "end_time": "2018-09-21T12:57:14.986823Z",
     "start_time": "2018-09-21T12:57:14.713823Z"
    },
    "hidden": true
   },
   "outputs": [
    {
     "data": {
      "image/png": "[encoded data removed]",
      "text/plain": [
       "<matplotlib.figure.Figure at 0xba9e668>"
      ]
     },
     "metadata": {},
     "output_type": "display_data"
    }
   ],
   "source": [
    "# Each bin has a width of 1% in terms of CM2%\n",
    "sns.set()\n",
    "plt.figure(figsize=(12, 8))\n",
    "es_customers['cm2%'].hist(bins=100, range=(-50, 50))\n",
    "plt.grid(True)\n",
    "plt.title('CM2% histogram per customer in ES Shop')\n",
    "plt.xlabel('CM2%')\n",
    "plt.ylabel('Customers')\n",
    "plt.show()"
   ]
  },
  {
   "cell_type": "code",
   "execution_count": 18,
   "metadata": {
    "ExecuteTime": {
     "end_time": "2018-09-21T12:57:17.679823Z",
     "start_time": "2018-09-21T12:57:15.213823Z"
    },
    "hidden": true
   },
   "outputs": [
    {
     "data": {
      "image/png": "[encoded data removed]",
      "text/plain": [
       "<matplotlib.figure.Figure at 0xba99e48>"
      ]
     },
     "metadata": {},
     "output_type": "display_data"
    }
   ],
   "source": [
    "sns.set()\n",
    "plt.figure(figsize=(12, 8))\n",
    "plt.scatter(es_customers['cm2%'], es_customers['net_basket_avg'])\n",
    "plt.xlim(-50, 50)\n",
    "plt.ylim(0, 500)\n",
    "plt.grid(True)\n",
    "plt.title('Scatter plot: CM2% vs Net basket avg per Customer in ES Shop')\n",
    "plt.xlabel('CM2%')\n",
    "plt.ylabel('Net basket avg')\n",
    "plt.show()"
   ]
  },
  {
   "cell_type": "code",
   "execution_count": 19,
   "metadata": {
    "ExecuteTime": {
     "end_time": "2018-09-21T12:57:17.712823Z",
     "start_time": "2018-09-21T12:57:17.700823Z"
    },
    "hidden": true
   },
   "outputs": [
    {
     "data": {
      "text/plain": [
       "array([[1.        , 0.06814384],\n",
       "       [0.06814384, 1.        ]])"
      ]
     },
     "execution_count": 19,
     "metadata": {},
     "output_type": "execute_result"
    }
   ],
   "source": [
    "np.corrcoef(es_customers['cm2%'], es_customers['net_basket_avg'])"
   ]
  },
  {
   "cell_type": "markdown",
   "metadata": {
    "heading_collapsed": true
   },
   "source": [
    "#### Orders data extraction and processing"
   ]
  },
  {
   "cell_type": "markdown",
   "metadata": {
    "hidden": true
   },
   "source": [
    "Now, from the selected customers we want to collect their orders data (id, date, net_sales, cm2, lead_pg3, lead_pg4...)"
   ]
  },
  {
   "cell_type": "code",
   "execution_count": 13,
   "metadata": {
    "ExecuteTime": {
     "end_time": "2018-09-19T12:02:37.808992Z",
     "start_time": "2018-09-19T12:02:37.795992Z"
    },
    "hidden": true
   },
   "outputs": [],
   "source": [
    "# 1st approach generating a string from the list of customers and passing it through the IN clause"
   ]
  },
  {
   "cell_type": "raw",
   "metadata": {
    "ExecuteTime": {
     "end_time": "2018-09-19T10:43:28.713992Z",
     "start_time": "2018-09-19T10:43:28.708992Z"
    },
    "hidden": true
   },
   "source": [
    "query = \"\"\"SELECT o.o_id, o.o_c_id, o.o_ext_s_id, o.o_date, o.o_delivery_ext_c_id,\n",
    "ocm.ocm_net_total, ocm.ocm_cm2,\n",
    "olpg.olpg_l3_ext_pg_id, olpg.olpg_l4_ext_pg_id\n",
    "FROM public.orders o\n",
    "JOIN public.order_lead_pgs olpg\n",
    "ON o.o_id = olpg.olpg_o_id\n",
    "JOIN public.order_contribution_margins ocm\n",
    "ON o.o_id = ocm.ocm_o_id\n",
    "where o.o_c_id in %s\"\"\" % cust_es_list"
   ]
  },
  {
   "cell_type": "raw",
   "metadata": {
    "hidden": true
   },
   "source": [
    "conn = psycopg2.connect(\"dbname='savings_plan_db' user='dba' host='savings-plan-prod-c-savings-plan-db-readonly.ccsod6gcmvcs.eu-central-1.rds.amazonaws.com' password='m4d_l0y_db4?'\")\n",
    "es_orders = pd.read_sql(query, con = conn)\n",
    "conn.close()"
   ]
  },
  {
   "cell_type": "code",
   "execution_count": 15,
   "metadata": {
    "ExecuteTime": {
     "end_time": "2018-09-19T12:02:37.849992Z",
     "start_time": "2018-09-19T12:02:37.827992Z"
    },
    "hidden": true
   },
   "outputs": [],
   "source": [
    "# 2nd approach: use cursor and chunksize from pd.read_sql"
   ]
  },
  {
   "cell_type": "raw",
   "metadata": {
    "ExecuteTime": {
     "end_time": "2018-09-19T12:02:37.868992Z",
     "start_time": "2018-09-19T12:02:37.851992Z"
    },
    "hidden": true
   },
   "source": [
    "query = \"\"\"SELECT o.o_id, o.o_c_id, o.o_ext_s_id, o.o_date, o.o_delivery_ext_c_id,\n",
    "ocm.ocm_net_total, ocm.ocm_cm2,\n",
    "olpg.olpg_l3_ext_pg_id, olpg.olpg_l4_ext_pg_id\n",
    "FROM public.orders o\n",
    "JOIN public.order_lead_pgs olpg\n",
    "ON o.o_id = olpg.olpg_o_id\n",
    "JOIN public.order_contribution_margins ocm\n",
    "ON o.o_id = ocm.ocm_o_id\n",
    "JOIN (\n",
    "SELECT c.c_id\n",
    "FROM public.customer_order_profile cop\n",
    "JOIN public.customers c\n",
    "ON cop.cop_c_id = c.c_id\n",
    "where cop.cop_g_cm2 is not null\n",
    "and c.c_registered_account = true\n",
    "and c.c_registration_ext_s_id = 15\n",
    "and cop.cop_pref_o_ext_s_id = 15\n",
    ") es_cust_table\n",
    "ON es_cust_table.c_id = o.o_c_id\n",
    "\"\"\""
   ]
  },
  {
   "cell_type": "raw",
   "metadata": {
    "ExecuteTime": {
     "end_time": "2018-09-19T12:02:37.890992Z",
     "start_time": "2018-09-19T12:02:37.870992Z"
    },
    "hidden": true
   },
   "source": [
    "df = pd.DataFrame(columns=['o_id', 'o_c_id', 'o_ext_s_id', 'o_date', 'o_delivery_ext_c_id',\n",
    "'ocm_net_total', 'ocm_cm2', 'olpg_l3_ext_pg_id', 'olpg_l3_ext_pg_id'])\n",
    "\n",
    "df.to_csv('es_reg_and_pref_cust_orders.csv', sep=';', header=True, index=False, encoding='utf-8')"
   ]
  },
  {
   "cell_type": "raw",
   "metadata": {
    "ExecuteTime": {
     "end_time": "2018-09-19T12:05:56.681992Z",
     "start_time": "2018-09-19T12:02:37.891992Z"
    },
    "hidden": true
   },
   "source": [
    "conn = psycopg2.connect(\"dbname='savings_plan_db' user='dba' host='savings-plan-prod-c-savings-plan-db-readonly.ccsod6gcmvcs.eu-central-1.rds.amazonaws.com' password='m4d_l0y_db4?'\")\n",
    "for chunk in pd.read_sql(query, con = conn, chunksize= 50000):\n",
    "    chunk.to_csv('es_reg_and_pref_cust_orders.csv', sep=';', header=False, index_label=False, mode='a', encoding='utf-8')\n",
    "conn.close()"
   ]
  },
  {
   "cell_type": "code",
   "execution_count": 14,
   "metadata": {
    "ExecuteTime": {
     "end_time": "2018-09-19T12:02:37.826992Z",
     "start_time": "2018-09-19T12:02:37.810992Z"
    },
    "hidden": true
   },
   "outputs": [],
   "source": [
    "# 3rd approach: join on customer ID with the previous table"
   ]
  },
  {
   "cell_type": "raw",
   "metadata": {
    "ExecuteTime": {
     "end_time": "2018-09-19T12:18:03.927992Z",
     "start_time": "2018-09-19T12:18:03.923992Z"
    },
    "hidden": true
   },
   "source": [
    "query = \"\"\"SELECT o.o_id, o.o_c_id, o.o_ext_s_id, o.o_date, o.o_delivery_ext_c_id,\n",
    "ocm.ocm_net_total, ocm.ocm_cm2,\n",
    "olpg.olpg_l3_ext_pg_id, olpg.olpg_l4_ext_pg_id\n",
    "FROM public.orders o\n",
    "JOIN public.order_lead_pgs olpg\n",
    "ON o.o_id = olpg.olpg_o_id\n",
    "JOIN public.order_contribution_margins ocm\n",
    "ON o.o_id = ocm.ocm_o_id\n",
    "JOIN (\n",
    "SELECT c.c_id\n",
    "FROM public.customer_order_profile cop\n",
    "JOIN public.customers c\n",
    "ON cop.cop_c_id = c.c_id\n",
    "where cop.cop_g_cm2 is not null\n",
    "and c.c_registered_account = true\n",
    "and c.c_registration_ext_s_id = 15\n",
    "and cop.cop_pref_o_ext_s_id = 15\n",
    ") es_cust_table\n",
    "ON es_cust_table.c_id = o.o_c_id\n",
    "\"\"\""
   ]
  },
  {
   "cell_type": "raw",
   "metadata": {
    "ExecuteTime": {
     "end_time": "2018-09-19T12:18:43.426992Z",
     "start_time": "2018-09-19T12:18:04.251992Z"
    },
    "hidden": true
   },
   "source": [
    "conn = psycopg2.connect(\"dbname='savings_plan_db' user='dba' host='savings-plan-prod-c-savings-plan-db-readonly.ccsod6gcmvcs.eu-central-1.rds.amazonaws.com' password='m4d_l0y_db4?'\")\n",
    "es_orders = pd.read_sql(query, con = conn)\n",
    "conn.close()"
   ]
  },
  {
   "cell_type": "code",
   "execution_count": null,
   "metadata": {
    "hidden": true
   },
   "outputs": [],
   "source": [
    "#4th approximation: get orders placed in ES Shop"
   ]
  },
  {
   "cell_type": "code",
   "execution_count": 40,
   "metadata": {
    "ExecuteTime": {
     "end_time": "2018-09-19T12:37:00.031992Z",
     "start_time": "2018-09-19T12:37:00.028992Z"
    },
    "hidden": true
   },
   "outputs": [],
   "source": [
    "query = \"\"\"SELECT o.o_id, o.o_c_id, o.o_ext_s_id, o.o_date, o.o_delivery_ext_c_id,\n",
    "ocm.ocm_net_total, ocm.ocm_cm2,\n",
    "olpg.olpg_l3_ext_pg_id, olpg.olpg_l4_ext_pg_id\n",
    "FROM public.orders o\n",
    "JOIN public.order_lead_pgs olpg\n",
    "ON o.o_id = olpg.olpg_o_id\n",
    "JOIN public.order_contribution_margins ocm\n",
    "ON o.o_id = ocm.ocm_o_id\n",
    "where o.o_ext_s_id = 15\n",
    "and date_trunc('day', o.o_date) < date_trunc('day', current_timestamp)\n",
    "\"\"\""
   ]
  },
  {
   "cell_type": "code",
   "execution_count": 42,
   "metadata": {
    "ExecuteTime": {
     "end_time": "2018-09-19T12:46:15.965992Z",
     "start_time": "2018-09-19T12:39:27.021992Z"
    },
    "hidden": true
   },
   "outputs": [],
   "source": [
    "conn = psycopg2.connect(\"dbname='savings_plan_db' user='dba' host='savings-plan-prod-c-savings-plan-db-readonly.ccsod6gcmvcs.eu-central-1.rds.amazonaws.com' password='m4d_l0y_db4?'\")\n",
    "es_orders = pd.read_sql(query, con = conn)\n",
    "conn.close()"
   ]
  },
  {
   "cell_type": "code",
   "execution_count": 43,
   "metadata": {
    "ExecuteTime": {
     "end_time": "2018-09-19T12:46:29.209992Z",
     "start_time": "2018-09-19T12:46:29.195992Z"
    },
    "hidden": true
   },
   "outputs": [
    {
     "data": {
      "text/html": [
       "<div>\n",
       "<style scoped>\n",
       "    .dataframe tbody tr th:only-of-type {\n",
       "        vertical-align: middle;\n",
       "    }\n",
       "\n",
       "    .dataframe tbody tr th {\n",
       "        vertical-align: top;\n",
       "    }\n",
       "\n",
       "    .dataframe thead th {\n",
       "        text-align: right;\n",
       "    }\n",
       "</style>\n",
       "<table border=\"1\" class=\"dataframe\">\n",
       "  <thead>\n",
       "    <tr style=\"text-align: right;\">\n",
       "      <th></th>\n",
       "      <th>o_id</th>\n",
       "      <th>o_c_id</th>\n",
       "      <th>o_ext_s_id</th>\n",
       "      <th>o_date</th>\n",
       "      <th>o_delivery_ext_c_id</th>\n",
       "      <th>ocm_net_total</th>\n",
       "      <th>ocm_cm2</th>\n",
       "      <th>olpg_l3_ext_pg_id</th>\n",
       "      <th>olpg_l4_ext_pg_id</th>\n",
       "    </tr>\n",
       "  </thead>\n",
       "  <tbody>\n",
       "    <tr>\n",
       "      <th>0</th>\n",
       "      <td>113316547</td>\n",
       "      <td>12270625</td>\n",
       "      <td>15</td>\n",
       "      <td>2018-06-22</td>\n",
       "      <td>48</td>\n",
       "      <td>60.70</td>\n",
       "      <td>11.21</td>\n",
       "      <td>252</td>\n",
       "      <td>95904</td>\n",
       "    </tr>\n",
       "    <tr>\n",
       "      <th>1</th>\n",
       "      <td>113323236</td>\n",
       "      <td>9912290</td>\n",
       "      <td>15</td>\n",
       "      <td>2018-06-22</td>\n",
       "      <td>49</td>\n",
       "      <td>49.25</td>\n",
       "      <td>8.15</td>\n",
       "      <td>251</td>\n",
       "      <td>118221</td>\n",
       "    </tr>\n",
       "    <tr>\n",
       "      <th>2</th>\n",
       "      <td>113876028</td>\n",
       "      <td>14115278</td>\n",
       "      <td>15</td>\n",
       "      <td>2018-07-01</td>\n",
       "      <td>49</td>\n",
       "      <td>107.95</td>\n",
       "      <td>16.82</td>\n",
       "      <td>251</td>\n",
       "      <td>31962</td>\n",
       "    </tr>\n",
       "    <tr>\n",
       "      <th>3</th>\n",
       "      <td>113342462</td>\n",
       "      <td>6737523</td>\n",
       "      <td>15</td>\n",
       "      <td>2018-06-23</td>\n",
       "      <td>49</td>\n",
       "      <td>62.71</td>\n",
       "      <td>1.81</td>\n",
       "      <td>252</td>\n",
       "      <td>683</td>\n",
       "    </tr>\n",
       "    <tr>\n",
       "      <th>4</th>\n",
       "      <td>113346916</td>\n",
       "      <td>19415739</td>\n",
       "      <td>15</td>\n",
       "      <td>2018-06-23</td>\n",
       "      <td>49</td>\n",
       "      <td>57.26</td>\n",
       "      <td>1.66</td>\n",
       "      <td>251</td>\n",
       "      <td>81396</td>\n",
       "    </tr>\n",
       "  </tbody>\n",
       "</table>\n",
       "</div>"
      ],
      "text/plain": [
       "        o_id    o_c_id  o_ext_s_id      o_date  o_delivery_ext_c_id  \\\n",
       "0  113316547  12270625          15  2018-06-22                   48   \n",
       "1  113323236   9912290          15  2018-06-22                   49   \n",
       "2  113876028  14115278          15  2018-07-01                   49   \n",
       "3  113342462   6737523          15  2018-06-23                   49   \n",
       "4  113346916  19415739          15  2018-06-23                   49   \n",
       "\n",
       "   ocm_net_total  ocm_cm2  olpg_l3_ext_pg_id  olpg_l4_ext_pg_id  \n",
       "0          60.70    11.21                252              95904  \n",
       "1          49.25     8.15                251             118221  \n",
       "2         107.95    16.82                251              31962  \n",
       "3          62.71     1.81                252                683  \n",
       "4          57.26     1.66                251              81396  "
      ]
     },
     "execution_count": 43,
     "metadata": {},
     "output_type": "execute_result"
    }
   ],
   "source": [
    "es_orders.head().round(2)"
   ]
  },
  {
   "cell_type": "code",
   "execution_count": 45,
   "metadata": {
    "ExecuteTime": {
     "end_time": "2018-09-19T12:49:21.419992Z",
     "start_time": "2018-09-19T12:48:54.761992Z"
    },
    "hidden": true
   },
   "outputs": [],
   "source": [
    "es_orders.to_csv('es_shop_orders_from_postgres.csv', sep=';', index=False, encoding='utf-8')"
   ]
  },
  {
   "cell_type": "markdown",
   "metadata": {
    "heading_collapsed": true
   },
   "source": [
    "#### Orders data"
   ]
  },
  {
   "cell_type": "code",
   "execution_count": 20,
   "metadata": {
    "ExecuteTime": {
     "end_time": "2018-09-21T12:57:25.225823Z",
     "start_time": "2018-09-21T12:57:21.965823Z"
    },
    "hidden": true
   },
   "outputs": [],
   "source": [
    "es_orders = pd.read_csv('es_shop_orders_from_postgres.csv', sep=';', low_memory=False)"
   ]
  },
  {
   "cell_type": "code",
   "execution_count": 21,
   "metadata": {
    "ExecuteTime": {
     "end_time": "2018-09-21T12:57:25.804823Z",
     "start_time": "2018-09-21T12:57:25.254823Z"
    },
    "hidden": true
   },
   "outputs": [],
   "source": [
    "es_orders['o_date'] = pd.to_datetime(es_orders['o_date'], format='%Y-%m-%d')"
   ]
  },
  {
   "cell_type": "code",
   "execution_count": 22,
   "metadata": {
    "ExecuteTime": {
     "end_time": "2018-09-21T12:57:25.865823Z",
     "start_time": "2018-09-21T12:57:25.834823Z"
    },
    "hidden": true
   },
   "outputs": [],
   "source": [
    "es_orders['o_cm2%'] = es_orders['ocm_cm2'] / es_orders['ocm_net_total'] * 100"
   ]
  },
  {
   "cell_type": "code",
   "execution_count": 23,
   "metadata": {
    "ExecuteTime": {
     "end_time": "2018-09-21T12:57:25.942823Z",
     "start_time": "2018-09-21T12:57:25.895823Z"
    },
    "hidden": true
   },
   "outputs": [],
   "source": [
    "es_orders['o_cm2%'] = es_orders['o_cm2%'].replace(-np.inf, 0)"
   ]
  },
  {
   "cell_type": "code",
   "execution_count": 24,
   "metadata": {
    "ExecuteTime": {
     "end_time": "2018-09-21T12:57:26.185823Z",
     "start_time": "2018-09-21T12:57:25.972823Z"
    },
    "hidden": true
   },
   "outputs": [
    {
     "data": {
      "text/plain": [
       "count    2785074.00\n",
       "mean          10.16\n",
       "std           86.93\n",
       "min      -110500.27\n",
       "25%            3.28\n",
       "50%           10.79\n",
       "75%           18.18\n",
       "max          100.00\n",
       "Name: o_cm2%, dtype: float64"
      ]
     },
     "execution_count": 24,
     "metadata": {},
     "output_type": "execute_result"
    }
   ],
   "source": [
    "es_orders['o_cm2%'].describe().round(2)"
   ]
  },
  {
   "cell_type": "code",
   "execution_count": 25,
   "metadata": {
    "ExecuteTime": {
     "end_time": "2018-09-21T12:57:26.326823Z",
     "start_time": "2018-09-21T12:57:26.216823Z"
    },
    "hidden": true
   },
   "outputs": [
    {
     "data": {
      "text/html": [
       "<div>\n",
       "<style scoped>\n",
       "    .dataframe tbody tr th:only-of-type {\n",
       "        vertical-align: middle;\n",
       "    }\n",
       "\n",
       "    .dataframe tbody tr th {\n",
       "        vertical-align: top;\n",
       "    }\n",
       "\n",
       "    .dataframe thead th {\n",
       "        text-align: right;\n",
       "    }\n",
       "</style>\n",
       "<table border=\"1\" class=\"dataframe\">\n",
       "  <thead>\n",
       "    <tr style=\"text-align: right;\">\n",
       "      <th></th>\n",
       "      <th>o_id</th>\n",
       "      <th>o_c_id</th>\n",
       "      <th>o_ext_s_id</th>\n",
       "      <th>o_date</th>\n",
       "      <th>o_delivery_ext_c_id</th>\n",
       "      <th>ocm_net_total</th>\n",
       "      <th>ocm_cm2</th>\n",
       "      <th>olpg_l3_ext_pg_id</th>\n",
       "      <th>olpg_l4_ext_pg_id</th>\n",
       "      <th>o_cm2%</th>\n",
       "    </tr>\n",
       "  </thead>\n",
       "  <tbody>\n",
       "    <tr>\n",
       "      <th>2770001</th>\n",
       "      <td>76683750</td>\n",
       "      <td>5706005</td>\n",
       "      <td>15</td>\n",
       "      <td>2016-10-29</td>\n",
       "      <td>15</td>\n",
       "      <td>0.036364</td>\n",
       "      <td>-40.18232</td>\n",
       "      <td>252</td>\n",
       "      <td>15418</td>\n",
       "      <td>-110500.274997</td>\n",
       "    </tr>\n",
       "  </tbody>\n",
       "</table>\n",
       "</div>"
      ],
      "text/plain": [
       "             o_id   o_c_id  o_ext_s_id     o_date  o_delivery_ext_c_id  \\\n",
       "2770001  76683750  5706005          15 2016-10-29                   15   \n",
       "\n",
       "         ocm_net_total   ocm_cm2  olpg_l3_ext_pg_id  olpg_l4_ext_pg_id  \\\n",
       "2770001       0.036364 -40.18232                252              15418   \n",
       "\n",
       "                o_cm2%  \n",
       "2770001 -110500.274997  "
      ]
     },
     "execution_count": 25,
     "metadata": {},
     "output_type": "execute_result"
    }
   ],
   "source": [
    "es_orders[es_orders['o_cm2%'] == es_orders['o_cm2%'].min()]"
   ]
  },
  {
   "cell_type": "code",
   "execution_count": 26,
   "metadata": {
    "ExecuteTime": {
     "end_time": "2018-09-21T12:57:26.646823Z",
     "start_time": "2018-09-21T12:57:26.365823Z"
    },
    "hidden": true
   },
   "outputs": [],
   "source": [
    "es_orders = es_orders.drop(es_orders.index[2770001])"
   ]
  },
  {
   "cell_type": "code",
   "execution_count": 27,
   "metadata": {
    "ExecuteTime": {
     "end_time": "2018-09-21T12:57:26.993823Z",
     "start_time": "2018-09-21T12:57:26.984823Z"
    },
    "hidden": true
   },
   "outputs": [
    {
     "name": "stdout",
     "output_type": "stream",
     "text": [
      "<class 'pandas.core.frame.DataFrame'>\n",
      "Int64Index: 2785073 entries, 0 to 2785073\n",
      "Data columns (total 10 columns):\n",
      "o_id                   int64\n",
      "o_c_id                 int64\n",
      "o_ext_s_id             int64\n",
      "o_date                 datetime64[ns]\n",
      "o_delivery_ext_c_id    int64\n",
      "ocm_net_total          float64\n",
      "ocm_cm2                float64\n",
      "olpg_l3_ext_pg_id      int64\n",
      "olpg_l4_ext_pg_id      int64\n",
      "o_cm2%                 float64\n",
      "dtypes: datetime64[ns](1), float64(3), int64(6)\n",
      "memory usage: 233.7 MB\n"
     ]
    }
   ],
   "source": [
    "es_orders.info(verbose=True)"
   ]
  },
  {
   "cell_type": "code",
   "execution_count": 28,
   "metadata": {
    "ExecuteTime": {
     "end_time": "2018-09-21T12:57:27.829823Z",
     "start_time": "2018-09-21T12:57:27.605823Z"
    },
    "hidden": true
   },
   "outputs": [
    {
     "data": {
      "text/plain": [
       "count    2785073.00\n",
       "mean          10.20\n",
       "std           56.32\n",
       "min       -41269.89\n",
       "25%            3.28\n",
       "50%           10.79\n",
       "75%           18.18\n",
       "max          100.00\n",
       "Name: o_cm2%, dtype: float64"
      ]
     },
     "execution_count": 28,
     "metadata": {},
     "output_type": "execute_result"
    }
   ],
   "source": [
    "es_orders['o_cm2%'].describe().round(2)"
   ]
  },
  {
   "cell_type": "code",
   "execution_count": 29,
   "metadata": {
    "ExecuteTime": {
     "end_time": "2018-09-21T12:57:28.321823Z",
     "start_time": "2018-09-21T12:57:28.258823Z"
    },
    "hidden": true
   },
   "outputs": [
    {
     "name": "stdout",
     "output_type": "stream",
     "text": [
      "<class 'pandas.core.frame.DataFrame'>\n",
      "Int64Index: 358438 entries, 0 to 482766\n",
      "Data columns (total 9 columns):\n",
      "cop_c_id                   358438 non-null int64\n",
      "cop_pref_o_ext_s_id        358438 non-null int64\n",
      "cop_g_order_count          358438 non-null int64\n",
      "cop_g_net_total            358438 non-null float64\n",
      "cop_g_cm2                  358438 non-null float64\n",
      "c_registration_ext_s_id    358438 non-null int64\n",
      "c_registration_date        358438 non-null datetime64[ns]\n",
      "cm2%                       358438 non-null float64\n",
      "net_basket_avg             358438 non-null float64\n",
      "dtypes: datetime64[ns](1), float64(4), int64(4)\n",
      "memory usage: 37.3 MB\n"
     ]
    }
   ],
   "source": [
    "es_customers.info(verbose=True)"
   ]
  },
  {
   "cell_type": "code",
   "execution_count": 30,
   "metadata": {
    "ExecuteTime": {
     "end_time": "2018-09-21T12:57:28.924823Z",
     "start_time": "2018-09-21T12:57:28.886823Z"
    },
    "hidden": true
   },
   "outputs": [
    {
     "data": {
      "text/plain": [
       "Timestamp('2011-07-21 00:00:00')"
      ]
     },
     "execution_count": 30,
     "metadata": {},
     "output_type": "execute_result"
    }
   ],
   "source": [
    "es_orders['o_date'].min()"
   ]
  },
  {
   "cell_type": "code",
   "execution_count": 31,
   "metadata": {
    "ExecuteTime": {
     "end_time": "2018-09-21T12:57:29.727823Z",
     "start_time": "2018-09-21T12:57:29.454823Z"
    },
    "hidden": true
   },
   "outputs": [
    {
     "data": {
      "text/plain": [
       "o_date\n",
       "2011     41844\n",
       "2012     23288\n",
       "2015    296827\n",
       "2016    717938\n",
       "2017    936172\n",
       "2018    769004\n",
       "Name: o_id, dtype: int64"
      ]
     },
     "execution_count": 31,
     "metadata": {},
     "output_type": "execute_result"
    }
   ],
   "source": [
    "es_orders.groupby(es_orders['o_date'].dt.year)['o_id'].count()"
   ]
  },
  {
   "cell_type": "code",
   "execution_count": 32,
   "metadata": {
    "ExecuteTime": {
     "end_time": "2018-09-21T12:57:30.338823Z",
     "start_time": "2018-09-21T12:57:29.999823Z"
    },
    "hidden": true
   },
   "outputs": [],
   "source": [
    "es_orders = es_orders[es_orders['o_date'].dt.year >= 2015]"
   ]
  },
  {
   "cell_type": "code",
   "execution_count": 33,
   "metadata": {
    "ExecuteTime": {
     "end_time": "2018-09-21T12:57:30.977823Z",
     "start_time": "2018-09-21T12:57:30.586823Z"
    },
    "hidden": true
   },
   "outputs": [
    {
     "data": {
      "image/png": "[encoded data removed]",
      "text/plain": [
       "<matplotlib.figure.Figure at 0xd93c518>"
      ]
     },
     "metadata": {},
     "output_type": "display_data"
    }
   ],
   "source": [
    "# Daily CM2% median values from 2015\n",
    "sns.set()\n",
    "plt.figure(figsize=(12, 8))\n",
    "es_orders.groupby('o_date')['o_cm2%'].median().round(2).plot()\n",
    "plt.title('Daily CM2% median values from 2015')\n",
    "plt.show()"
   ]
  },
  {
   "cell_type": "markdown",
   "metadata": {
    "heading_collapsed": true
   },
   "source": [
    "#### Joining data "
   ]
  },
  {
   "cell_type": "code",
   "execution_count": 34,
   "metadata": {
    "ExecuteTime": {
     "end_time": "2018-09-21T12:57:33.418823Z",
     "start_time": "2018-09-21T12:57:32.292823Z"
    },
    "hidden": true
   },
   "outputs": [],
   "source": [
    "df_es = es_orders.merge(es_customers, how='inner', left_on='o_c_id', right_on='cop_c_id')"
   ]
  },
  {
   "cell_type": "code",
   "execution_count": 35,
   "metadata": {
    "ExecuteTime": {
     "end_time": "2018-09-21T12:57:34.187823Z",
     "start_time": "2018-09-21T12:57:33.470823Z"
    },
    "hidden": true
   },
   "outputs": [
    {
     "name": "stdout",
     "output_type": "stream",
     "text": [
      "<class 'pandas.core.frame.DataFrame'>\n",
      "Int64Index: 1537592 entries, 0 to 1537591\n",
      "Data columns (total 19 columns):\n",
      "o_id                       1537592 non-null int64\n",
      "o_c_id                     1537592 non-null int64\n",
      "o_ext_s_id                 1537592 non-null int64\n",
      "o_date                     1537592 non-null datetime64[ns]\n",
      "o_delivery_ext_c_id        1537592 non-null int64\n",
      "ocm_net_total              1537592 non-null float64\n",
      "ocm_cm2                    1537592 non-null float64\n",
      "olpg_l3_ext_pg_id          1537592 non-null int64\n",
      "olpg_l4_ext_pg_id          1537592 non-null int64\n",
      "o_cm2%                     1537592 non-null float64\n",
      "cop_c_id                   1537592 non-null int64\n",
      "cop_pref_o_ext_s_id        1537592 non-null int64\n",
      "cop_g_order_count          1537592 non-null int64\n",
      "cop_g_net_total            1537592 non-null float64\n",
      "cop_g_cm2                  1537592 non-null float64\n",
      "c_registration_ext_s_id    1537592 non-null int64\n",
      "c_registration_date        1537592 non-null datetime64[ns]\n",
      "cm2%                       1537592 non-null float64\n",
      "net_basket_avg             1537592 non-null float64\n",
      "dtypes: datetime64[ns](2), float64(7), int64(10)\n",
      "memory usage: 234.6 MB\n"
     ]
    }
   ],
   "source": [
    "df_es.info(verbose=True)"
   ]
  },
  {
   "cell_type": "code",
   "execution_count": 36,
   "metadata": {
    "ExecuteTime": {
     "end_time": "2018-09-21T12:57:34.349823Z",
     "start_time": "2018-09-21T12:57:34.279823Z"
    },
    "hidden": true
   },
   "outputs": [
    {
     "data": {
      "text/html": [
       "<div>\n",
       "<style scoped>\n",
       "    .dataframe tbody tr th:only-of-type {\n",
       "        vertical-align: middle;\n",
       "    }\n",
       "\n",
       "    .dataframe tbody tr th {\n",
       "        vertical-align: top;\n",
       "    }\n",
       "\n",
       "    .dataframe thead th {\n",
       "        text-align: right;\n",
       "    }\n",
       "</style>\n",
       "<table border=\"1\" class=\"dataframe\">\n",
       "  <thead>\n",
       "    <tr style=\"text-align: right;\">\n",
       "      <th></th>\n",
       "      <th>o_id</th>\n",
       "      <th>o_c_id</th>\n",
       "      <th>o_ext_s_id</th>\n",
       "      <th>o_date</th>\n",
       "      <th>o_delivery_ext_c_id</th>\n",
       "      <th>ocm_net_total</th>\n",
       "      <th>ocm_cm2</th>\n",
       "      <th>olpg_l3_ext_pg_id</th>\n",
       "      <th>olpg_l4_ext_pg_id</th>\n",
       "      <th>o_cm2%</th>\n",
       "      <th>cop_c_id</th>\n",
       "      <th>cop_pref_o_ext_s_id</th>\n",
       "      <th>cop_g_order_count</th>\n",
       "      <th>cop_g_net_total</th>\n",
       "      <th>cop_g_cm2</th>\n",
       "      <th>c_registration_ext_s_id</th>\n",
       "      <th>c_registration_date</th>\n",
       "      <th>cm2%</th>\n",
       "      <th>net_basket_avg</th>\n",
       "    </tr>\n",
       "  </thead>\n",
       "  <tbody>\n",
       "    <tr>\n",
       "      <th>1085178</th>\n",
       "      <td>89263885</td>\n",
       "      <td>11151094</td>\n",
       "      <td>15</td>\n",
       "      <td>2017-06-19</td>\n",
       "      <td>49</td>\n",
       "      <td>41.72</td>\n",
       "      <td>7.76</td>\n",
       "      <td>252</td>\n",
       "      <td>31963</td>\n",
       "      <td>18.60</td>\n",
       "      <td>11151094</td>\n",
       "      <td>15</td>\n",
       "      <td>3</td>\n",
       "      <td>115.72</td>\n",
       "      <td>25.22</td>\n",
       "      <td>15</td>\n",
       "      <td>2015-02-22</td>\n",
       "      <td>21.79</td>\n",
       "      <td>38.57</td>\n",
       "    </tr>\n",
       "    <tr>\n",
       "      <th>1118392</th>\n",
       "      <td>92334331</td>\n",
       "      <td>12111091</td>\n",
       "      <td>15</td>\n",
       "      <td>2017-08-10</td>\n",
       "      <td>49</td>\n",
       "      <td>52.96</td>\n",
       "      <td>2.11</td>\n",
       "      <td>252</td>\n",
       "      <td>683</td>\n",
       "      <td>3.99</td>\n",
       "      <td>12111091</td>\n",
       "      <td>15</td>\n",
       "      <td>15</td>\n",
       "      <td>704.96</td>\n",
       "      <td>28.46</td>\n",
       "      <td>15</td>\n",
       "      <td>2015-07-31</td>\n",
       "      <td>4.04</td>\n",
       "      <td>47.00</td>\n",
       "    </tr>\n",
       "    <tr>\n",
       "      <th>1508329</th>\n",
       "      <td>108943689</td>\n",
       "      <td>20000487</td>\n",
       "      <td>15</td>\n",
       "      <td>2018-04-17</td>\n",
       "      <td>49</td>\n",
       "      <td>23.92</td>\n",
       "      <td>8.55</td>\n",
       "      <td>2155</td>\n",
       "      <td>2156</td>\n",
       "      <td>35.73</td>\n",
       "      <td>20000487</td>\n",
       "      <td>15</td>\n",
       "      <td>1</td>\n",
       "      <td>23.92</td>\n",
       "      <td>8.55</td>\n",
       "      <td>15</td>\n",
       "      <td>2018-04-17</td>\n",
       "      <td>35.73</td>\n",
       "      <td>23.92</td>\n",
       "    </tr>\n",
       "    <tr>\n",
       "      <th>268458</th>\n",
       "      <td>97594847</td>\n",
       "      <td>18406294</td>\n",
       "      <td>15</td>\n",
       "      <td>2017-11-02</td>\n",
       "      <td>49</td>\n",
       "      <td>33.39</td>\n",
       "      <td>7.65</td>\n",
       "      <td>252</td>\n",
       "      <td>3641</td>\n",
       "      <td>22.92</td>\n",
       "      <td>18406294</td>\n",
       "      <td>15</td>\n",
       "      <td>2</td>\n",
       "      <td>89.07</td>\n",
       "      <td>14.43</td>\n",
       "      <td>15</td>\n",
       "      <td>2017-11-02</td>\n",
       "      <td>16.20</td>\n",
       "      <td>44.54</td>\n",
       "    </tr>\n",
       "    <tr>\n",
       "      <th>1533987</th>\n",
       "      <td>87786953</td>\n",
       "      <td>16910713</td>\n",
       "      <td>15</td>\n",
       "      <td>2017-05-23</td>\n",
       "      <td>49</td>\n",
       "      <td>16.63</td>\n",
       "      <td>1.69</td>\n",
       "      <td>23</td>\n",
       "      <td>50014</td>\n",
       "      <td>10.18</td>\n",
       "      <td>16910713</td>\n",
       "      <td>15</td>\n",
       "      <td>1</td>\n",
       "      <td>16.63</td>\n",
       "      <td>1.69</td>\n",
       "      <td>15</td>\n",
       "      <td>2017-05-23</td>\n",
       "      <td>10.18</td>\n",
       "      <td>16.63</td>\n",
       "    </tr>\n",
       "  </tbody>\n",
       "</table>\n",
       "</div>"
      ],
      "text/plain": [
       "              o_id    o_c_id  o_ext_s_id     o_date  o_delivery_ext_c_id  \\\n",
       "1085178   89263885  11151094          15 2017-06-19                   49   \n",
       "1118392   92334331  12111091          15 2017-08-10                   49   \n",
       "1508329  108943689  20000487          15 2018-04-17                   49   \n",
       "268458    97594847  18406294          15 2017-11-02                   49   \n",
       "1533987   87786953  16910713          15 2017-05-23                   49   \n",
       "\n",
       "         ocm_net_total  ocm_cm2  olpg_l3_ext_pg_id  olpg_l4_ext_pg_id  o_cm2%  \\\n",
       "1085178          41.72     7.76                252              31963   18.60   \n",
       "1118392          52.96     2.11                252                683    3.99   \n",
       "1508329          23.92     8.55               2155               2156   35.73   \n",
       "268458           33.39     7.65                252               3641   22.92   \n",
       "1533987          16.63     1.69                 23              50014   10.18   \n",
       "\n",
       "         cop_c_id  cop_pref_o_ext_s_id  cop_g_order_count  cop_g_net_total  \\\n",
       "1085178  11151094                   15                  3           115.72   \n",
       "1118392  12111091                   15                 15           704.96   \n",
       "1508329  20000487                   15                  1            23.92   \n",
       "268458   18406294                   15                  2            89.07   \n",
       "1533987  16910713                   15                  1            16.63   \n",
       "\n",
       "         cop_g_cm2  c_registration_ext_s_id c_registration_date   cm2%  \\\n",
       "1085178      25.22                       15          2015-02-22  21.79   \n",
       "1118392      28.46                       15          2015-07-31   4.04   \n",
       "1508329       8.55                       15          2018-04-17  35.73   \n",
       "268458       14.43                       15          2017-11-02  16.20   \n",
       "1533987       1.69                       15          2017-05-23  10.18   \n",
       "\n",
       "         net_basket_avg  \n",
       "1085178           38.57  \n",
       "1118392           47.00  \n",
       "1508329           23.92  \n",
       "268458            44.54  \n",
       "1533987           16.63  "
      ]
     },
     "execution_count": 36,
     "metadata": {},
     "output_type": "execute_result"
    }
   ],
   "source": [
    "df_es.sample(5).round(2)"
   ]
  },
  {
   "cell_type": "code",
   "execution_count": 37,
   "metadata": {
    "ExecuteTime": {
     "end_time": "2018-09-21T12:57:34.851823Z",
     "start_time": "2018-09-21T12:57:34.806823Z"
    },
    "hidden": true
   },
   "outputs": [
    {
     "data": {
      "text/plain": [
       "358415"
      ]
     },
     "execution_count": 37,
     "metadata": {},
     "output_type": "execute_result"
    }
   ],
   "source": [
    "df_es['o_c_id'].nunique()"
   ]
  },
  {
   "cell_type": "code",
   "execution_count": 38,
   "metadata": {
    "ExecuteTime": {
     "end_time": "2018-09-21T12:57:35.987823Z",
     "start_time": "2018-09-21T12:57:35.926823Z"
    },
    "hidden": true
   },
   "outputs": [
    {
     "data": {
      "text/plain": [
       "110528"
      ]
     },
     "execution_count": 38,
     "metadata": {},
     "output_type": "execute_result"
    }
   ],
   "source": [
    "# Customers registered in the last year\n",
    "df_es[df_es['c_registration_date'] > '2017-09-19']['o_c_id'].nunique()"
   ]
  },
  {
   "cell_type": "code",
   "execution_count": 39,
   "metadata": {
    "ExecuteTime": {
     "end_time": "2018-09-21T12:57:36.550823Z",
     "start_time": "2018-09-21T12:57:36.444823Z"
    },
    "hidden": true
   },
   "outputs": [
    {
     "data": {
      "text/plain": [
       "225008"
      ]
     },
     "execution_count": 39,
     "metadata": {},
     "output_type": "execute_result"
    }
   ],
   "source": [
    "# Customers registered in the last 2 years\n",
    "df_es[df_es['c_registration_date'] > '2016-09-19']['o_c_id'].nunique()"
   ]
  },
  {
   "cell_type": "code",
   "execution_count": 40,
   "metadata": {
    "ExecuteTime": {
     "end_time": "2018-09-21T12:57:37.166823Z",
     "start_time": "2018-09-21T12:57:37.008823Z"
    },
    "hidden": true
   },
   "outputs": [
    {
     "data": {
      "text/plain": [
       "321552"
      ]
     },
     "execution_count": 40,
     "metadata": {},
     "output_type": "execute_result"
    }
   ],
   "source": [
    "# Customers registered in the last 3 years\n",
    "df_es[df_es['c_registration_date'] > '2015-09-19']['o_c_id'].nunique()"
   ]
  },
  {
   "cell_type": "markdown",
   "metadata": {},
   "source": [
    "#### Build customer dict: purchasing period, n orders, net_sales, main PG4 (% sales y % orders)"
   ]
  },
  {
   "cell_type": "code",
   "execution_count": 41,
   "metadata": {
    "ExecuteTime": {
     "end_time": "2018-09-21T13:14:15.953823Z",
     "start_time": "2018-09-21T12:57:38.612823Z"
    }
   },
   "outputs": [],
   "source": [
    "cus_dict_pg4 = {}\n",
    "\n",
    "for i in df_es['o_c_id'].unique():\n",
    "    cus_data = df_es[df_es['o_c_id'] == i]\n",
    "    pg4_list = list(cus_data.sort_values(by='o_date')['olpg_l4_ext_pg_id'].values)\n",
    "    cus_dict_pg4[i] = pg4_list"
   ]
  },
  {
   "cell_type": "code",
   "execution_count": 42,
   "metadata": {
    "ExecuteTime": {
     "end_time": "2018-09-21T13:31:18.213823Z",
     "start_time": "2018-09-21T13:14:16.889823Z"
    }
   },
   "outputs": [],
   "source": [
    "cus_dict_net_sales = {}\n",
    "\n",
    "for i in df_es['o_c_id'].unique():\n",
    "    cus_data = df_es[df_es['o_c_id'] == i]\n",
    "    net_sales_list = list(cus_data.sort_values(by='o_date')['ocm_net_total'].round(2).values)\n",
    "    cus_dict_net_sales[i] = net_sales_list"
   ]
  },
  {
   "cell_type": "code",
   "execution_count": 43,
   "metadata": {
    "ExecuteTime": {
     "end_time": "2018-09-21T13:58:30.891823Z",
     "start_time": "2018-09-21T13:31:19.865823Z"
    }
   },
   "outputs": [],
   "source": [
    "cus_dict_order_dates = {}\n",
    "cus_dict_order_timedeltas = {}\n",
    "\n",
    "for i in df_es['o_c_id'].unique():\n",
    "    cus_data = df_es[df_es['o_c_id'] == i]\n",
    "    order_dates_list = list(cus_data.sort_values(by='o_date')['o_date'].values)\n",
    "    order_timedeltas_days = (cus_data.sort_values(by='o_date')['o_date'].shift(-1) - cus_data.sort_values(by='o_date')['o_date'])\n",
    "    order_timedeltas_list = list(order_timedeltas_days.apply(lambda x:x.days)[:-1].astype(int).values)\n",
    "    cus_dict_order_dates[i] = order_dates_list\n",
    "    cus_dict_order_timedeltas[i] = order_timedeltas_list"
   ]
  },
  {
   "cell_type": "code",
   "execution_count": 44,
   "metadata": {
    "ExecuteTime": {
     "end_time": "2018-09-21T13:59:32.437823Z",
     "start_time": "2018-09-21T13:58:34.570823Z"
    }
   },
   "outputs": [
    {
     "name": "stderr",
     "output_type": "stream",
     "text": [
      "C:\\Users\\albertoma\\AppData\\Local\\conda\\conda\\envs\\py36\\lib\\site-packages\\ipykernel\\__main__.py:24: RuntimeWarning: invalid value encountered in double_scalars\n"
     ]
    }
   ],
   "source": [
    "cus_dict_info = {}\n",
    "\n",
    "for i in df_es['o_c_id'].unique():\n",
    "    \n",
    "    cus_dict_info[i] = {}\n",
    "    cus_dict_info[i]['c_id'] = i\n",
    "    \n",
    "    #cus_dict_info[i]['orders_lead_pg4'] = cus_dict_pg4[i] # for the future do it at an order position level\n",
    "    cus_dict_info[i]['total_net_sales'] = sum(cus_dict_net_sales[i]) # sum values in the customer sales list from the dictionary\n",
    "    cus_dict_info[i]['orders'] = len(cus_dict_net_sales[i]) # get the length of the list, one position per order\n",
    "    cus_dict_info[i]['orders_info'] = [(x, y) for x, y in zip(cus_dict_pg4[i], cus_dict_net_sales[i])] # sorted tuple (lead PG4, sales) \n",
    "    cus_dict_info[i]['basket_net_avg'] = np.round(sum(cus_dict_net_sales[i]) / len(cus_dict_net_sales[i]), 2)\n",
    "    if len(cus_dict_net_sales[i]) > 1:\n",
    "        cus_dict_info[i]['basket_net_std'] = np.round(stdev(cus_dict_net_sales[i]), 2)\n",
    "    else:\n",
    "        cus_dict_info[i]['basket_net_std'] = 0\n",
    "    c = Counter(cus_dict_pg4[i])\n",
    "    ord_per_pg4 = sorted(c.most_common() , key= lambda x: x[0], reverse=True)\n",
    "    net_sales_per_pg4 = sorted([(pg4_,sum([net_sales_ for pg_, net_sales_ in cus_dict_info[i]['orders_info'] if pg_== pg4_])) \n",
    "                                         for pg4_ in set([pg4 for pg4, net_sales in cus_dict_info[i]['orders_info']])], key= lambda x: x[0], reverse=True)\n",
    "    cus_dict_info[i]['pg4_ord_net_sales'] = sorted([(x[0], x[1], y[1]) for x, y in zip(ord_per_pg4, net_sales_per_pg4)], key= lambda x: (x[1], x[2]), reverse=True)\n",
    "    cus_dict_info[i]['main_pg4'] = cus_dict_info[i]['pg4_ord_net_sales'][0][0]\n",
    "    cus_dict_info[i]['main_pg4_%_ord'] = np.round(cus_dict_info[i]['pg4_ord_net_sales'][0][1] / cus_dict_info[i]['orders'], 2)\n",
    "    cus_dict_info[i]['main_pg4_%_net_sales'] = np.round(cus_dict_info[i]['pg4_ord_net_sales'][0][2] / cus_dict_info[i]['total_net_sales'], 2)\n",
    "    cus_dict_info[i]['orders_timedeltas'] = cus_dict_order_timedeltas[i]"
   ]
  },
  {
   "cell_type": "code",
   "execution_count": 45,
   "metadata": {
    "ExecuteTime": {
     "end_time": "2018-09-21T13:59:41.197823Z",
     "start_time": "2018-09-21T13:59:41.191823Z"
    }
   },
   "outputs": [
    {
     "data": {
      "text/plain": [
       "{'basket_net_avg': 62.46,\n",
       " 'basket_net_std': 29.46,\n",
       " 'c_id': 12485124,\n",
       " 'main_pg4': 683,\n",
       " 'main_pg4_%_net_sales': 0.72,\n",
       " 'main_pg4_%_ord': 0.71,\n",
       " 'orders': 14,\n",
       " 'orders_info': [(683, 110.92),\n",
       "  (683, 40.8),\n",
       "  (683, 40.72),\n",
       "  (683, 43.2),\n",
       "  (17963, 49.23),\n",
       "  (683, 60.89),\n",
       "  (683, 70.04),\n",
       "  (17963, 24.68),\n",
       "  (683, 39.67),\n",
       "  (683, 69.64),\n",
       "  (683, 39.07),\n",
       "  (683, 114.56),\n",
       "  (17963, 108.55),\n",
       "  (3155, 62.54)],\n",
       " 'orders_timedeltas': [48, 42, 51, 33, 50, 69, 55, 44, 70, 62, 70, 35, 78],\n",
       " 'pg4_ord_net_sales': [(683, 10, 629.51),\n",
       "  (17963, 3, 182.45999999999998),\n",
       "  (3155, 1, 62.54)],\n",
       " 'total_net_sales': 874.51}"
      ]
     },
     "execution_count": 45,
     "metadata": {},
     "output_type": "execute_result"
    }
   ],
   "source": [
    "cus_dict_info[12485124]"
   ]
  },
  {
   "cell_type": "code",
   "execution_count": 150,
   "metadata": {
    "ExecuteTime": {
     "end_time": "2018-09-24T09:34:12.518823Z",
     "start_time": "2018-09-24T09:33:53.317823Z"
    }
   },
   "outputs": [],
   "source": [
    "#with open('cus_dict_info.p', 'wb') as fp:\n",
    "#    pickle.dump(cus_dict_info, fp, protocol=pickle.HIGHEST_PROTOCOL)"
   ]
  },
  {
   "cell_type": "markdown",
   "metadata": {
    "heading_collapsed": true
   },
   "source": [
    "#### Load data from JSON saved with pickle: Customer info dictionary"
   ]
  },
  {
   "cell_type": "code",
   "execution_count": 2,
   "metadata": {
    "ExecuteTime": {
     "end_time": "2018-09-24T09:56:06.111460Z",
     "start_time": "2018-09-24T09:56:00.495690Z"
    },
    "hidden": true
   },
   "outputs": [],
   "source": [
    "with open('cus_dict_info.p', 'rb') as fp:\n",
    "    cus_dict_info = pickle.load(fp)"
   ]
  },
  {
   "cell_type": "code",
   "execution_count": 4,
   "metadata": {
    "ExecuteTime": {
     "end_time": "2018-09-24T09:57:13.901808Z",
     "start_time": "2018-09-24T09:57:13.897802Z"
    },
    "hidden": true
   },
   "outputs": [
    {
     "data": {
      "text/plain": [
       "dict"
      ]
     },
     "execution_count": 4,
     "metadata": {},
     "output_type": "execute_result"
    }
   ],
   "source": [
    "type(cus_dict_info)"
   ]
  },
  {
   "cell_type": "code",
   "execution_count": 3,
   "metadata": {
    "ExecuteTime": {
     "end_time": "2018-09-24T09:56:49.225541Z",
     "start_time": "2018-09-24T09:56:49.193490Z"
    },
    "hidden": true
   },
   "outputs": [
    {
     "data": {
      "text/plain": [
       "{'basket_net_avg': 91.08,\n",
       " 'basket_net_std': 39.41,\n",
       " 'c_id': 11282336,\n",
       " 'main_pg4': 31963,\n",
       " 'main_pg4_%_net_sales': 0.9,\n",
       " 'main_pg4_%_ord': 0.78,\n",
       " 'orders': 18,\n",
       " 'orders_info': [(31963, 83.9),\n",
       "  (31963, 56.13),\n",
       "  (31963, 78.5),\n",
       "  (31963, 84.3),\n",
       "  (31963, 95.85),\n",
       "  (304, 33.05),\n",
       "  (31963, 149.22),\n",
       "  (31963, 50.08),\n",
       "  (1070, 58.54),\n",
       "  (1070, 21.98),\n",
       "  (31963, 93.26),\n",
       "  (31963, 149.01),\n",
       "  (31963, 119.63),\n",
       "  (31963, 129.99),\n",
       "  (31963, 126.61),\n",
       "  (31963, 121.12),\n",
       "  (31963, 131.33),\n",
       "  (71977, 56.97)],\n",
       " 'orders_timedeltas': [83,\n",
       "  69,\n",
       "  68,\n",
       "  91,\n",
       "  4,\n",
       "  91,\n",
       "  44,\n",
       "  32,\n",
       "  24,\n",
       "  7,\n",
       "  65,\n",
       "  88,\n",
       "  109,\n",
       "  119,\n",
       "  86,\n",
       "  111,\n",
       "  73],\n",
       " 'pg4_ord_net_sales': [(31963, 14, 1468.9299999999998),\n",
       "  (1070, 2, 80.52),\n",
       "  (71977, 1, 56.97),\n",
       "  (304, 1, 33.05)],\n",
       " 'total_net_sales': 1639.4699999999996}"
      ]
     },
     "execution_count": 3,
     "metadata": {},
     "output_type": "execute_result"
    }
   ],
   "source": [
    "cus_dict_info[list(cus_dict_info.keys())[5]]"
   ]
  },
  {
   "cell_type": "markdown",
   "metadata": {},
   "source": [
    "#### New DataFrame as decision support data model (1st iteration)"
   ]
  },
  {
   "cell_type": "code",
   "execution_count": 46,
   "metadata": {
    "ExecuteTime": {
     "end_time": "2018-09-21T13:59:58.075823Z",
     "start_time": "2018-09-21T13:59:49.916823Z"
    }
   },
   "outputs": [],
   "source": [
    "#Pandas DataFrame\n",
    "cus_attr = pd.DataFrame.from_dict(cus_dict_info, orient='index').round(2)"
   ]
  },
  {
   "cell_type": "code",
   "execution_count": 47,
   "metadata": {
    "ExecuteTime": {
     "end_time": "2018-09-21T14:00:07.573823Z",
     "start_time": "2018-09-21T14:00:06.708823Z"
    }
   },
   "outputs": [],
   "source": [
    "pg4_ord_cus_sets = [[(j[0], j[1]) for j in i] for i in cus_attr['pg4_ord_net_sales']]"
   ]
  },
  {
   "cell_type": "code",
   "execution_count": 48,
   "metadata": {
    "ExecuteTime": {
     "end_time": "2018-09-21T14:00:16.875823Z",
     "start_time": "2018-09-21T14:00:16.856823Z"
    }
   },
   "outputs": [],
   "source": [
    "#In last column we have a list of tuples showing (Lead PG4, orders)\n",
    "cus_attr['pg4_ord_set'] = pg4_ord_cus_sets"
   ]
  },
  {
   "cell_type": "code",
   "execution_count": 49,
   "metadata": {
    "ExecuteTime": {
     "end_time": "2018-09-21T14:00:17.007823Z",
     "start_time": "2018-09-21T14:00:16.877823Z"
    }
   },
   "outputs": [
    {
     "data": {
      "text/html": [
       "<div>\n",
       "<style scoped>\n",
       "    .dataframe tbody tr th:only-of-type {\n",
       "        vertical-align: middle;\n",
       "    }\n",
       "\n",
       "    .dataframe tbody tr th {\n",
       "        vertical-align: top;\n",
       "    }\n",
       "\n",
       "    .dataframe thead th {\n",
       "        text-align: right;\n",
       "    }\n",
       "</style>\n",
       "<table border=\"1\" class=\"dataframe\">\n",
       "  <thead>\n",
       "    <tr style=\"text-align: right;\">\n",
       "      <th></th>\n",
       "      <th>c_id</th>\n",
       "      <th>total_net_sales</th>\n",
       "      <th>orders</th>\n",
       "      <th>orders_info</th>\n",
       "      <th>basket_net_avg</th>\n",
       "      <th>basket_net_std</th>\n",
       "      <th>pg4_ord_net_sales</th>\n",
       "      <th>main_pg4</th>\n",
       "      <th>main_pg4_%_ord</th>\n",
       "      <th>main_pg4_%_net_sales</th>\n",
       "      <th>orders_timedeltas</th>\n",
       "      <th>pg4_ord_set</th>\n",
       "    </tr>\n",
       "  </thead>\n",
       "  <tbody>\n",
       "    <tr>\n",
       "      <th>13925787</th>\n",
       "      <td>13925787</td>\n",
       "      <td>56.83</td>\n",
       "      <td>2</td>\n",
       "      <td>[(45231, 31.31), (171638, 25.52)]</td>\n",
       "      <td>28.42</td>\n",
       "      <td>4.09</td>\n",
       "      <td>[(45231, 1, 31.31), (171638, 1, 25.52)]</td>\n",
       "      <td>45231</td>\n",
       "      <td>0.5</td>\n",
       "      <td>0.55</td>\n",
       "      <td>[354]</td>\n",
       "      <td>[(45231, 1), (171638, 1)]</td>\n",
       "    </tr>\n",
       "    <tr>\n",
       "      <th>13293858</th>\n",
       "      <td>13293858</td>\n",
       "      <td>71.04</td>\n",
       "      <td>2</td>\n",
       "      <td>[(10331, 34.69), (683, 36.35)]</td>\n",
       "      <td>35.52</td>\n",
       "      <td>1.17</td>\n",
       "      <td>[(683, 1, 36.35), (10331, 1, 34.69)]</td>\n",
       "      <td>683</td>\n",
       "      <td>0.5</td>\n",
       "      <td>0.51</td>\n",
       "      <td>[709]</td>\n",
       "      <td>[(683, 1), (10331, 1)]</td>\n",
       "    </tr>\n",
       "    <tr>\n",
       "      <th>19913251</th>\n",
       "      <td>19913251</td>\n",
       "      <td>52.06</td>\n",
       "      <td>1</td>\n",
       "      <td>[(10618, 52.06)]</td>\n",
       "      <td>52.06</td>\n",
       "      <td>0.00</td>\n",
       "      <td>[(10618, 1, 52.06)]</td>\n",
       "      <td>10618</td>\n",
       "      <td>1.0</td>\n",
       "      <td>1.00</td>\n",
       "      <td>[]</td>\n",
       "      <td>[(10618, 1)]</td>\n",
       "    </tr>\n",
       "    <tr>\n",
       "      <th>15034809</th>\n",
       "      <td>15034809</td>\n",
       "      <td>27.80</td>\n",
       "      <td>1</td>\n",
       "      <td>[(2044, 27.8)]</td>\n",
       "      <td>27.80</td>\n",
       "      <td>0.00</td>\n",
       "      <td>[(2044, 1, 27.8)]</td>\n",
       "      <td>2044</td>\n",
       "      <td>1.0</td>\n",
       "      <td>1.00</td>\n",
       "      <td>[]</td>\n",
       "      <td>[(2044, 1)]</td>\n",
       "    </tr>\n",
       "    <tr>\n",
       "      <th>11351575</th>\n",
       "      <td>11351575</td>\n",
       "      <td>109.08</td>\n",
       "      <td>2</td>\n",
       "      <td>[(201878, 46.21), (2061, 62.87)]</td>\n",
       "      <td>54.54</td>\n",
       "      <td>11.78</td>\n",
       "      <td>[(2061, 1, 62.87), (201878, 1, 46.21)]</td>\n",
       "      <td>2061</td>\n",
       "      <td>0.5</td>\n",
       "      <td>0.58</td>\n",
       "      <td>[332]</td>\n",
       "      <td>[(2061, 1), (201878, 1)]</td>\n",
       "    </tr>\n",
       "  </tbody>\n",
       "</table>\n",
       "</div>"
      ],
      "text/plain": [
       "              c_id  total_net_sales  orders  \\\n",
       "13925787  13925787            56.83       2   \n",
       "13293858  13293858            71.04       2   \n",
       "19913251  19913251            52.06       1   \n",
       "15034809  15034809            27.80       1   \n",
       "11351575  11351575           109.08       2   \n",
       "\n",
       "                                orders_info  basket_net_avg  basket_net_std  \\\n",
       "13925787  [(45231, 31.31), (171638, 25.52)]           28.42            4.09   \n",
       "13293858     [(10331, 34.69), (683, 36.35)]           35.52            1.17   \n",
       "19913251                   [(10618, 52.06)]           52.06            0.00   \n",
       "15034809                     [(2044, 27.8)]           27.80            0.00   \n",
       "11351575   [(201878, 46.21), (2061, 62.87)]           54.54           11.78   \n",
       "\n",
       "                                pg4_ord_net_sales  main_pg4  main_pg4_%_ord  \\\n",
       "13925787  [(45231, 1, 31.31), (171638, 1, 25.52)]     45231             0.5   \n",
       "13293858     [(683, 1, 36.35), (10331, 1, 34.69)]       683             0.5   \n",
       "19913251                      [(10618, 1, 52.06)]     10618             1.0   \n",
       "15034809                        [(2044, 1, 27.8)]      2044             1.0   \n",
       "11351575   [(2061, 1, 62.87), (201878, 1, 46.21)]      2061             0.5   \n",
       "\n",
       "          main_pg4_%_net_sales orders_timedeltas                pg4_ord_set  \n",
       "13925787                  0.55             [354]  [(45231, 1), (171638, 1)]  \n",
       "13293858                  0.51             [709]     [(683, 1), (10331, 1)]  \n",
       "19913251                  1.00                []               [(10618, 1)]  \n",
       "15034809                  1.00                []                [(2044, 1)]  \n",
       "11351575                  0.58             [332]   [(2061, 1), (201878, 1)]  "
      ]
     },
     "execution_count": 49,
     "metadata": {},
     "output_type": "execute_result"
    }
   ],
   "source": [
    "cus_attr.sample(5)"
   ]
  },
  {
   "cell_type": "code",
   "execution_count": 50,
   "metadata": {
    "ExecuteTime": {
     "end_time": "2018-09-21T14:00:44.358823Z",
     "start_time": "2018-09-21T14:00:36.047823Z"
    }
   },
   "outputs": [],
   "source": [
    "#cus_attr.to_csv('df_customer_data_model.csv', sep=';', index=False, encoding='utf-8')"
   ]
  },
  {
   "cell_type": "code",
   "execution_count": 152,
   "metadata": {
    "ExecuteTime": {
     "end_time": "2018-09-24T09:39:23.598823Z",
     "start_time": "2018-09-24T09:39:09.351823Z"
    }
   },
   "outputs": [],
   "source": [
    "#cus_attr.to_pickle(\"./cus_attr_data_model.pkl\")"
   ]
  },
  {
   "cell_type": "markdown",
   "metadata": {},
   "source": [
    "#### Load DataFrame using pd.read_pickle and use order cohorts following Fibonacci numbers"
   ]
  },
  {
   "cell_type": "code",
   "execution_count": 3,
   "metadata": {
    "ExecuteTime": {
     "end_time": "2018-09-24T14:37:49.888005Z",
     "start_time": "2018-09-24T14:37:45.473027Z"
    }
   },
   "outputs": [],
   "source": [
    "cus_attr = pd.read_pickle(\"./cus_attr_data_model.pkl\")"
   ]
  },
  {
   "cell_type": "code",
   "execution_count": 3,
   "metadata": {
    "ExecuteTime": {
     "end_time": "2018-09-24T14:05:36.065861Z",
     "start_time": "2018-09-24T14:05:35.896413Z"
    }
   },
   "outputs": [
    {
     "name": "stdout",
     "output_type": "stream",
     "text": [
      "<class 'pandas.core.frame.DataFrame'>\n",
      "Int64Index: 358415 entries, 10795342 to 21301728\n",
      "Data columns (total 12 columns):\n",
      "c_id                    358415 non-null int64\n",
      "total_net_sales         358415 non-null float64\n",
      "orders                  358415 non-null int64\n",
      "orders_info             358415 non-null object\n",
      "basket_net_avg          358415 non-null float64\n",
      "basket_net_std          358415 non-null float64\n",
      "pg4_ord_net_sales       358415 non-null object\n",
      "main_pg4                358415 non-null int64\n",
      "main_pg4_%_ord          358415 non-null float64\n",
      "main_pg4_%_net_sales    358401 non-null float64\n",
      "orders_timedeltas       358415 non-null object\n",
      "pg4_ord_set             358415 non-null object\n",
      "dtypes: float64(5), int64(3), object(4)\n",
      "memory usage: 35.5+ MB\n"
     ]
    }
   ],
   "source": [
    "cus_attr.info()"
   ]
  },
  {
   "cell_type": "code",
   "execution_count": 4,
   "metadata": {
    "ExecuteTime": {
     "end_time": "2018-09-24T12:43:03.258983Z",
     "start_time": "2018-09-24T12:43:03.244983Z"
    }
   },
   "outputs": [
    {
     "data": {
      "text/plain": [
       "(list, tuple)"
      ]
     },
     "execution_count": 4,
     "metadata": {},
     "output_type": "execute_result"
    }
   ],
   "source": [
    "type(cus_attr['pg4_ord_set'].iloc[0]), type(cus_attr['pg4_ord_set'].iloc[0][0])"
   ]
  },
  {
   "cell_type": "code",
   "execution_count": 5,
   "metadata": {
    "ExecuteTime": {
     "end_time": "2018-09-24T12:43:04.442983Z",
     "start_time": "2018-09-24T12:43:04.382983Z"
    }
   },
   "outputs": [
    {
     "data": {
      "text/html": [
       "<div>\n",
       "<style scoped>\n",
       "    .dataframe tbody tr th:only-of-type {\n",
       "        vertical-align: middle;\n",
       "    }\n",
       "\n",
       "    .dataframe tbody tr th {\n",
       "        vertical-align: top;\n",
       "    }\n",
       "\n",
       "    .dataframe thead th {\n",
       "        text-align: right;\n",
       "    }\n",
       "</style>\n",
       "<table border=\"1\" class=\"dataframe\">\n",
       "  <thead>\n",
       "    <tr style=\"text-align: right;\">\n",
       "      <th></th>\n",
       "      <th>c_id</th>\n",
       "      <th>total_net_sales</th>\n",
       "      <th>orders</th>\n",
       "      <th>orders_info</th>\n",
       "      <th>basket_net_avg</th>\n",
       "      <th>basket_net_std</th>\n",
       "      <th>pg4_ord_net_sales</th>\n",
       "      <th>main_pg4</th>\n",
       "      <th>main_pg4_%_ord</th>\n",
       "      <th>main_pg4_%_net_sales</th>\n",
       "      <th>orders_timedeltas</th>\n",
       "      <th>pg4_ord_set</th>\n",
       "    </tr>\n",
       "  </thead>\n",
       "  <tbody>\n",
       "    <tr>\n",
       "      <th>15314208</th>\n",
       "      <td>15314208</td>\n",
       "      <td>2523.11</td>\n",
       "      <td>36</td>\n",
       "      <td>[(17798, 85.45), (17798, 75.26), (17798, 83.63...</td>\n",
       "      <td>70.09</td>\n",
       "      <td>26.83</td>\n",
       "      <td>[(682, 21, 1658.07), (17798, 8, 468.3800000000...</td>\n",
       "      <td>682</td>\n",
       "      <td>0.58</td>\n",
       "      <td>0.66</td>\n",
       "      <td>[55, 22, 28, 15, 13, 29, 8, 6, 16, 15, 18, 7, ...</td>\n",
       "      <td>[(682, 21), (17798, 8), (283, 2), (683, 2), (1...</td>\n",
       "    </tr>\n",
       "    <tr>\n",
       "      <th>19684321</th>\n",
       "      <td>19684321</td>\n",
       "      <td>22.44</td>\n",
       "      <td>1</td>\n",
       "      <td>[(303098, 22.44)]</td>\n",
       "      <td>22.44</td>\n",
       "      <td>0.00</td>\n",
       "      <td>[(303098, 1, 22.44)]</td>\n",
       "      <td>303098</td>\n",
       "      <td>1.00</td>\n",
       "      <td>1.00</td>\n",
       "      <td>[]</td>\n",
       "      <td>[(303098, 1)]</td>\n",
       "    </tr>\n",
       "    <tr>\n",
       "      <th>15554325</th>\n",
       "      <td>15554325</td>\n",
       "      <td>215.52</td>\n",
       "      <td>2</td>\n",
       "      <td>[(682, 44.54), (682, 170.98)]</td>\n",
       "      <td>107.76</td>\n",
       "      <td>89.41</td>\n",
       "      <td>[(682, 2, 215.51999999999998)]</td>\n",
       "      <td>682</td>\n",
       "      <td>1.00</td>\n",
       "      <td>1.00</td>\n",
       "      <td>[34]</td>\n",
       "      <td>[(682, 2)]</td>\n",
       "    </tr>\n",
       "    <tr>\n",
       "      <th>16468578</th>\n",
       "      <td>16468578</td>\n",
       "      <td>948.86</td>\n",
       "      <td>12</td>\n",
       "      <td>[(31963, 86.81), (31963, 90.79), (10331, 46.92...</td>\n",
       "      <td>79.07</td>\n",
       "      <td>27.21</td>\n",
       "      <td>[(31963, 8, 576.44), (71977, 3, 325.5), (10331...</td>\n",
       "      <td>31963</td>\n",
       "      <td>0.67</td>\n",
       "      <td>0.61</td>\n",
       "      <td>[75, 68, 41, 60, 48, 54, 54, 24, 39, 33, 39]</td>\n",
       "      <td>[(31963, 8), (71977, 3), (10331, 1)]</td>\n",
       "    </tr>\n",
       "    <tr>\n",
       "      <th>15487362</th>\n",
       "      <td>15487362</td>\n",
       "      <td>33.74</td>\n",
       "      <td>1</td>\n",
       "      <td>[(45231, 33.74)]</td>\n",
       "      <td>33.74</td>\n",
       "      <td>0.00</td>\n",
       "      <td>[(45231, 1, 33.74)]</td>\n",
       "      <td>45231</td>\n",
       "      <td>1.00</td>\n",
       "      <td>1.00</td>\n",
       "      <td>[]</td>\n",
       "      <td>[(45231, 1)]</td>\n",
       "    </tr>\n",
       "  </tbody>\n",
       "</table>\n",
       "</div>"
      ],
      "text/plain": [
       "              c_id  total_net_sales  orders  \\\n",
       "15314208  15314208          2523.11      36   \n",
       "19684321  19684321            22.44       1   \n",
       "15554325  15554325           215.52       2   \n",
       "16468578  16468578           948.86      12   \n",
       "15487362  15487362            33.74       1   \n",
       "\n",
       "                                                orders_info  basket_net_avg  \\\n",
       "15314208  [(17798, 85.45), (17798, 75.26), (17798, 83.63...           70.09   \n",
       "19684321                                  [(303098, 22.44)]           22.44   \n",
       "15554325                      [(682, 44.54), (682, 170.98)]          107.76   \n",
       "16468578  [(31963, 86.81), (31963, 90.79), (10331, 46.92...           79.07   \n",
       "15487362                                   [(45231, 33.74)]           33.74   \n",
       "\n",
       "          basket_net_std                                  pg4_ord_net_sales  \\\n",
       "15314208           26.83  [(682, 21, 1658.07), (17798, 8, 468.3800000000...   \n",
       "19684321            0.00                               [(303098, 1, 22.44)]   \n",
       "15554325           89.41                     [(682, 2, 215.51999999999998)]   \n",
       "16468578           27.21  [(31963, 8, 576.44), (71977, 3, 325.5), (10331...   \n",
       "15487362            0.00                                [(45231, 1, 33.74)]   \n",
       "\n",
       "          main_pg4  main_pg4_%_ord  main_pg4_%_net_sales  \\\n",
       "15314208       682            0.58                  0.66   \n",
       "19684321    303098            1.00                  1.00   \n",
       "15554325       682            1.00                  1.00   \n",
       "16468578     31963            0.67                  0.61   \n",
       "15487362     45231            1.00                  1.00   \n",
       "\n",
       "                                          orders_timedeltas  \\\n",
       "15314208  [55, 22, 28, 15, 13, 29, 8, 6, 16, 15, 18, 7, ...   \n",
       "19684321                                                 []   \n",
       "15554325                                               [34]   \n",
       "16468578       [75, 68, 41, 60, 48, 54, 54, 24, 39, 33, 39]   \n",
       "15487362                                                 []   \n",
       "\n",
       "                                                pg4_ord_set  \n",
       "15314208  [(682, 21), (17798, 8), (283, 2), (683, 2), (1...  \n",
       "19684321                                      [(303098, 1)]  \n",
       "15554325                                         [(682, 2)]  \n",
       "16468578               [(31963, 8), (71977, 3), (10331, 1)]  \n",
       "15487362                                       [(45231, 1)]  "
      ]
     },
     "execution_count": 5,
     "metadata": {},
     "output_type": "execute_result"
    }
   ],
   "source": [
    "cus_attr.sample(5)"
   ]
  },
  {
   "cell_type": "code",
   "execution_count": 8,
   "metadata": {
    "ExecuteTime": {
     "end_time": "2018-09-24T12:46:50.753983Z",
     "start_time": "2018-09-24T12:46:50.664983Z"
    }
   },
   "outputs": [
    {
     "data": {
      "text/plain": [
       "682       23129\n",
       "683       17786\n",
       "17798     13063\n",
       "31962     10367\n",
       "81396     10100\n",
       "35825      7894\n",
       "207615     6949\n",
       "71709      6592\n",
       "255        6553\n",
       "31963      5757\n",
       "719        5396\n",
       "81397      5235\n",
       "18245      5092\n",
       "2060       4234\n",
       "55408      3837\n",
       "71977      3703\n",
       "30936      3584\n",
       "2216       3455\n",
       "261925     3339\n",
       "394        3313\n",
       "283        3217\n",
       "754        3058\n",
       "128993     2955\n",
       "92         2912\n",
       "207617     2779\n",
       "851        2766\n",
       "71918      2745\n",
       "10618      2727\n",
       "720        2475\n",
       "81431      2282\n",
       "Name: main_pg4, dtype: int64"
      ]
     },
     "execution_count": 8,
     "metadata": {},
     "output_type": "execute_result"
    }
   ],
   "source": [
    "#Let's see how are distributed per Lead PG4 those customers having main_pg4 importance greater than 0.5\n",
    "cus_attr[cus_attr['main_pg4_%_ord'] >= 0.50]['main_pg4'].value_counts().head(30)\n",
    "# 207617: Spot-on"
   ]
  },
  {
   "cell_type": "code",
   "execution_count": 29,
   "metadata": {
    "ExecuteTime": {
     "end_time": "2018-09-24T14:55:10.162010Z",
     "start_time": "2018-09-24T14:55:10.109010Z"
    }
   },
   "outputs": [],
   "source": [
    "main_pg_4_es = list(cus_attr[cus_attr['main_pg4_%_ord'] >= 0.50]['main_pg4'].value_counts().head(30).index.values)"
   ]
  },
  {
   "attachments": {
    "image.png": {
     "image/png": "[encoded data removed]"
    }
   },
   "cell_type": "markdown",
   "metadata": {},
   "source": [
    "<html><head>\n",
    "\n",
    "\n",
    "<!-- Load require.js. Delete this if your page already loads require.js -->\n",
    "<script src=\"https://cdnjs.cloudflare.com/ajax/libs/require.js/2.3.4/require.min.js\" integrity=\"sha256-Ae2Vz/4ePdIu6ZyI/5ZGsYnb+m0JlOmKPjt6XZ9JJkA=\" crossorigin=\"anonymous\"></script>\n",
    "<script src=\"https://unpkg.com/@jupyter-widgets/html-manager@*/dist/embed-amd.js\" crossorigin=\"anonymous\"></script>\n",
    "<script type=\"application/vnd.jupyter.widget-state+json\">\n",
    "{\n",
    "    \"version_major\": 2,\n",
    "    \"version_minor\": 0,\n",
    "    \"state\": {}\n",
    "}\n",
    "</script>\n",
    "</head>\n",
    "<body>\n",
    "\n",
    "\n",
    "</body>\n",
    "</html>\n",
    "![image.png](attachment:image.png)"
   ]
  },
  {
   "cell_type": "markdown",
   "metadata": {
    "heading_collapsed": true
   },
   "source": [
    "#### Main PG4 per customer in order cohorts"
   ]
  },
  {
   "cell_type": "markdown",
   "metadata": {
    "hidden": true
   },
   "source": [
    "Let's use Fibonacci numbers for establishing order cohorts:"
   ]
  },
  {
   "cell_type": "code",
   "execution_count": 10,
   "metadata": {
    "ExecuteTime": {
     "end_time": "2018-09-24T12:50:25.478983Z",
     "start_time": "2018-09-24T12:50:25.380983Z"
    },
    "hidden": true
   },
   "outputs": [],
   "source": [
    "cus_attr_1 = cus_attr[cus_attr['orders'] == 1]\n",
    "cus_attr_2 = cus_attr[cus_attr['orders'] == 2]\n",
    "cus_attr_3 = cus_attr[cus_attr['orders'] == 3]\n",
    "cus_attr_45 = cus_attr[cus_attr['orders'].between(4, 5)]\n",
    "cus_attr_68 = cus_attr[cus_attr['orders'].between(6, 8)]\n",
    "cus_attr_913 = cus_attr[cus_attr['orders'].between(9, 13)]\n",
    "cus_attr_1421 = cus_attr[cus_attr['orders'].between(14, 21)]"
   ]
  },
  {
   "cell_type": "markdown",
   "metadata": {
    "hidden": true
   },
   "source": [
    "And let's now see how Lead_PG4 with a relevance greater than 50% -named as main pg4 for the customer - are distributed within the customers in ES Shop: "
   ]
  },
  {
   "cell_type": "code",
   "execution_count": 14,
   "metadata": {
    "ExecuteTime": {
     "end_time": "2018-09-24T12:52:31.632821Z",
     "start_time": "2018-09-24T12:52:31.562821Z"
    },
    "hidden": true
   },
   "outputs": [
    {
     "data": {
      "text/plain": [
       "682       7166\n",
       "207615    5224\n",
       "683       4785\n",
       "17798     3932\n",
       "81396     3426\n",
       "2060      3250\n",
       "55408     3242\n",
       "31962     2897\n",
       "30936     2667\n",
       "2216      2666\n",
       "Name: main_pg4, dtype: int64"
      ]
     },
     "execution_count": 14,
     "metadata": {},
     "output_type": "execute_result"
    }
   ],
   "source": [
    "#Let's see how are distributed per Lead PG4 those customers having main_pg4 importance greater than 0.5\n",
    "cus_attr_1[cus_attr_1['main_pg4_%_ord'] >= 0.50]['main_pg4'].value_counts().head(10)\n",
    "# 207615: halsband\n",
    "# 2060: kratzbaum mittel\n",
    "# 55408: mit spitzdach\n",
    "# 30936: Gesundheitsbetten\n",
    "# 2216: Transportkafige\n",
    "# 31962: Hill's prescription diet\n",
    "# Rest of PG4: Royal Canin (Size, Rasse, Breed, Vet Diet...)"
   ]
  },
  {
   "cell_type": "code",
   "execution_count": 15,
   "metadata": {
    "ExecuteTime": {
     "end_time": "2018-09-24T12:52:40.326821Z",
     "start_time": "2018-09-24T12:52:40.295821Z"
    },
    "hidden": true
   },
   "outputs": [
    {
     "data": {
      "text/plain": [
       "682       3761\n",
       "683       2722\n",
       "17798     2114\n",
       "81396     1741\n",
       "31962     1729\n",
       "35825     1334\n",
       "207615    1212\n",
       "18245     1115\n",
       "71709     1085\n",
       "255       1040\n",
       "Name: main_pg4, dtype: int64"
      ]
     },
     "execution_count": 15,
     "metadata": {},
     "output_type": "execute_result"
    }
   ],
   "source": [
    "#Let's see how are distributed per Lead PG4 those customers having main_pg4 importance greater than 0.5\n",
    "cus_attr_2[cus_attr_2['main_pg4_%_ord'] >= 0.50]['main_pg4'].value_counts().head(10)"
   ]
  },
  {
   "cell_type": "code",
   "execution_count": 17,
   "metadata": {
    "ExecuteTime": {
     "end_time": "2018-09-24T12:53:13.756404Z",
     "start_time": "2018-09-24T12:53:13.734404Z"
    },
    "hidden": true
   },
   "outputs": [
    {
     "data": {
      "text/plain": [
       "682      2315\n",
       "683      1617\n",
       "17798    1214\n",
       "81396     990\n",
       "31962     945\n",
       "35825     697\n",
       "255       633\n",
       "71709     624\n",
       "31963     580\n",
       "719       490\n",
       "Name: main_pg4, dtype: int64"
      ]
     },
     "execution_count": 17,
     "metadata": {},
     "output_type": "execute_result"
    }
   ],
   "source": [
    "#Let's see how are distributed per Lead PG4 those customers having main_pg4 importance greater than 0.5\n",
    "cus_attr_3[cus_attr_3['main_pg4_%_ord'] >= 0.50]['main_pg4'].value_counts().head(10)"
   ]
  },
  {
   "cell_type": "code",
   "execution_count": 18,
   "metadata": {
    "ExecuteTime": {
     "end_time": "2018-09-24T12:53:22.372404Z",
     "start_time": "2018-09-24T12:53:22.348404Z"
    },
    "hidden": true
   },
   "outputs": [
    {
     "data": {
      "text/plain": [
       "682      3367\n",
       "683      2637\n",
       "17798    1794\n",
       "31962    1419\n",
       "81396    1333\n",
       "35825    1076\n",
       "255       924\n",
       "71709     922\n",
       "31963     868\n",
       "719       781\n",
       "Name: main_pg4, dtype: int64"
      ]
     },
     "execution_count": 18,
     "metadata": {},
     "output_type": "execute_result"
    }
   ],
   "source": [
    "#Let's see how are distributed per Lead PG4 those customers having main_pg4 importance greater than 0.5\n",
    "cus_attr_45[cus_attr_45['main_pg4_%_ord'] >= 0.50]['main_pg4'].value_counts().head(10)"
   ]
  },
  {
   "cell_type": "code",
   "execution_count": 19,
   "metadata": {
    "ExecuteTime": {
     "end_time": "2018-09-24T12:53:47.086312Z",
     "start_time": "2018-09-24T12:53:47.079312Z"
    },
    "hidden": true
   },
   "outputs": [
    {
     "data": {
      "text/plain": [
       "682      2883\n",
       "683      2490\n",
       "17798    1666\n",
       "31962    1264\n",
       "81396    1108\n",
       "35825     859\n",
       "71709     801\n",
       "255       758\n",
       "31963     748\n",
       "719       698\n",
       "Name: main_pg4, dtype: int64"
      ]
     },
     "execution_count": 19,
     "metadata": {},
     "output_type": "execute_result"
    }
   ],
   "source": [
    "#Let's see how are distributed per Lead PG4 those customers having main_pg4 importance greater than 0.5\n",
    "cus_attr_68[cus_attr_68['main_pg4_%_ord'] >= 0.50]['main_pg4'].value_counts().head(10)"
   ]
  },
  {
   "cell_type": "code",
   "execution_count": 21,
   "metadata": {
    "ExecuteTime": {
     "end_time": "2018-09-24T12:54:05.699153Z",
     "start_time": "2018-09-24T12:54:05.687153Z"
    },
    "hidden": true
   },
   "outputs": [
    {
     "data": {
      "text/plain": [
       "682      2148\n",
       "683      2101\n",
       "17798    1352\n",
       "31962    1131\n",
       "81396     919\n",
       "35825     750\n",
       "255       681\n",
       "31963     627\n",
       "71709     602\n",
       "719       585\n",
       "Name: main_pg4, dtype: int64"
      ]
     },
     "execution_count": 21,
     "metadata": {},
     "output_type": "execute_result"
    }
   ],
   "source": [
    "#Let's see how are distributed per Lead PG4 those customers having main_pg4 importance greater than 0.5\n",
    "cus_attr_913[cus_attr_913['main_pg4_%_ord'] >= 0.50]['main_pg4'].value_counts().head(10)"
   ]
  },
  {
   "cell_type": "code",
   "execution_count": 22,
   "metadata": {
    "ExecuteTime": {
     "end_time": "2018-09-24T12:54:13.083149Z",
     "start_time": "2018-09-24T12:54:13.063149Z"
    },
    "hidden": true
   },
   "outputs": [
    {
     "data": {
      "text/plain": [
       "682      1092\n",
       "683      1079\n",
       "17798     753\n",
       "31962     736\n",
       "81396     455\n",
       "35825     452\n",
       "719       381\n",
       "255       374\n",
       "71709     332\n",
       "31963     292\n",
       "Name: main_pg4, dtype: int64"
      ]
     },
     "execution_count": 22,
     "metadata": {},
     "output_type": "execute_result"
    }
   ],
   "source": [
    "#Let's see how are distributed per Lead PG4 those customers having main_pg4 importance greater than 0.5\n",
    "cus_attr_1421[cus_attr_1421['main_pg4_%_ord'] >= 0.50]['main_pg4'].value_counts().head(10)"
   ]
  },
  {
   "cell_type": "markdown",
   "metadata": {
    "heading_collapsed": true
   },
   "source": [
    "#### Jaccard similarity calculation between customers using as set of data the Lead PG4 of every order \n",
    "[Lead_PG4_1st_order, Lead_PG4_2nd_order, Lead_PG4_N_order...]"
   ]
  },
  {
   "cell_type": "code",
   "execution_count": 53,
   "metadata": {
    "ExecuteTime": {
     "end_time": "2018-09-21T14:58:37.618823Z",
     "start_time": "2018-09-21T14:58:37.613823Z"
    },
    "hidden": true
   },
   "outputs": [],
   "source": [
    "from numba import jit, autojit # Numba, just-in-time compiler to speed up python code. "
   ]
  },
  {
   "cell_type": "code",
   "execution_count": 54,
   "metadata": {
    "ExecuteTime": {
     "end_time": "2018-09-21T14:58:47.207823Z",
     "start_time": "2018-09-21T14:58:47.172823Z"
    },
    "code_folding": [],
    "hidden": true
   },
   "outputs": [],
   "source": [
    "@autojit\n",
    "def jaccard_similarity(list1, list2):\n",
    "    s1 = set(list1)\n",
    "    s2 = set(list2)\n",
    "    return np.round(len(s1.intersection(s2)) / len(s1.union(s2)), 3)"
   ]
  },
  {
   "cell_type": "code",
   "execution_count": 55,
   "metadata": {
    "ExecuteTime": {
     "end_time": "2018-09-21T14:59:30.410823Z",
     "start_time": "2018-09-21T14:59:30.357823Z"
    },
    "hidden": true
   },
   "outputs": [
    {
     "data": {
      "text/plain": [
       "count    358415.000000\n",
       "mean          4.289977\n",
       "std           5.839039\n",
       "min           1.000000\n",
       "25%           1.000000\n",
       "50%           2.000000\n",
       "75%           5.000000\n",
       "max         427.000000\n",
       "Name: orders, dtype: float64"
      ]
     },
     "execution_count": 55,
     "metadata": {},
     "output_type": "execute_result"
    }
   ],
   "source": [
    "#To avoid doing too much iterations let's cluster customers in groups regarding the number of orders made\n",
    "cus_attr.orders.describe()"
   ]
  },
  {
   "cell_type": "code",
   "execution_count": 104,
   "metadata": {
    "ExecuteTime": {
     "end_time": "2018-09-21T16:47:11.009823Z",
     "start_time": "2018-09-21T16:47:10.982823Z"
    },
    "hidden": true
   },
   "outputs": [
    {
     "data": {
      "text/plain": [
       "1     152327\n",
       "2      53983\n",
       "3      30432\n",
       "4      21423\n",
       "5      16482\n",
       "6      13007\n",
       "7      10615\n",
       "8       8742\n",
       "9       7486\n",
       "10      6347\n",
       "11      5333\n",
       "12      4482\n",
       "13      3854\n",
       "14      3314\n",
       "15      2786\n",
       "Name: orders, dtype: int64"
      ]
     },
     "execution_count": 104,
     "metadata": {},
     "output_type": "execute_result"
    }
   ],
   "source": [
    "cus_attr.orders.value_counts().head(15)"
   ]
  },
  {
   "cell_type": "code",
   "execution_count": 92,
   "metadata": {
    "ExecuteTime": {
     "end_time": "2018-09-21T15:27:47.749823Z",
     "start_time": "2018-09-21T15:27:47.546823Z"
    },
    "hidden": true
   },
   "outputs": [],
   "source": [
    "cus_dict_d = {key: value for key, value in list(zip(cus_attr['c_id'], cus_attr['pg4_ord_set']))}"
   ]
  },
  {
   "cell_type": "code",
   "execution_count": 101,
   "metadata": {
    "ExecuteTime": {
     "end_time": "2018-09-21T15:48:34.308823Z",
     "start_time": "2018-09-21T15:48:34.305823Z"
    },
    "hidden": true
   },
   "outputs": [],
   "source": [
    "dict_jacc_sim = {}"
   ]
  },
  {
   "cell_type": "code",
   "execution_count": 102,
   "metadata": {
    "ExecuteTime": {
     "end_time": "2018-09-21T16:05:29.019823Z",
     "start_time": "2018-09-21T15:49:40.146823Z"
    },
    "hidden": true
   },
   "outputs": [],
   "source": [
    "for i in cus_attr_1421['c_id']:\n",
    "    dict_jacc_sim[i] = [(j, jaccard_similarity(cus_dict_d[i], cus_dict_d[j])) for j in cus_attr_1421['c_id']\n",
    "                       if jaccard_similarity(cus_dict_d[i], cus_dict_d[j]) > 0.5 and i != j]"
   ]
  },
  {
   "cell_type": "code",
   "execution_count": 103,
   "metadata": {
    "ExecuteTime": {
     "end_time": "2018-09-21T16:46:20.045823Z",
     "start_time": "2018-09-21T16:05:47.036823Z"
    },
    "hidden": true
   },
   "outputs": [],
   "source": [
    "for i in cus_attr_913['c_id']:\n",
    "    dict_jacc_sim[i] = [(j, jaccard_similarity(cus_dict_d[i], cus_dict_d[j])) for j in cus_attr_913['c_id']\n",
    "                       if jaccard_similarity(cus_dict_d[i], cus_dict_d[j]) > 0.5 and i != j]"
   ]
  },
  {
   "cell_type": "code",
   "execution_count": 105,
   "metadata": {
    "ExecuteTime": {
     "end_time": "2018-09-21T17:37:24.610823Z",
     "start_time": "2018-09-21T16:47:39.112823Z"
    },
    "hidden": true
   },
   "outputs": [],
   "source": [
    "for i in cus_attr_68['c_id']:\n",
    "    dict_jacc_sim[i] = [(j, jaccard_similarity(cus_dict_d[i], cus_dict_d[j])) for j in cus_attr_68['c_id']\n",
    "                       if jaccard_similarity(cus_dict_d[i], cus_dict_d[j]) > 0.5 and i != j]"
   ]
  },
  {
   "cell_type": "code",
   "execution_count": 106,
   "metadata": {
    "ExecuteTime": {
     "end_time": "2018-09-21T18:40:15.227823Z",
     "start_time": "2018-09-21T17:37:35.882823Z"
    },
    "hidden": true
   },
   "outputs": [],
   "source": [
    "for i in cus_attr_45['c_id']:\n",
    "    dict_jacc_sim[i] = [(j, jaccard_similarity(cus_dict_d[i], cus_dict_d[j])) for j in cus_attr_45['c_id']\n",
    "                       if jaccard_similarity(cus_dict_d[i], cus_dict_d[j]) > 0.5 and i != j]"
   ]
  },
  {
   "cell_type": "code",
   "execution_count": 107,
   "metadata": {
    "ExecuteTime": {
     "end_time": "2018-09-21T19:20:05.694823Z",
     "start_time": "2018-09-21T18:40:27.659823Z"
    },
    "hidden": true
   },
   "outputs": [],
   "source": [
    "for i in cus_attr_3['c_id']:\n",
    "    dict_jacc_sim[i] = [(j, jaccard_similarity(cus_dict_d[i], cus_dict_d[j])) for j in cus_attr_3['c_id']\n",
    "                       if jaccard_similarity(cus_dict_d[i], cus_dict_d[j]) > 0.5 and i != j]"
   ]
  },
  {
   "cell_type": "code",
   "execution_count": 108,
   "metadata": {
    "ExecuteTime": {
     "end_time": "2018-09-21T21:19:52.081823Z",
     "start_time": "2018-09-21T19:20:20.302823Z"
    },
    "hidden": true
   },
   "outputs": [],
   "source": [
    "for i in cus_attr_2['c_id']:\n",
    "    dict_jacc_sim[i] = [(j, jaccard_similarity(cus_dict_d[i], cus_dict_d[j])) for j in cus_attr_2['c_id']\n",
    "                       if jaccard_similarity(cus_dict_d[i], cus_dict_d[j]) > 0.5 and i != j]"
   ]
  },
  {
   "cell_type": "code",
   "execution_count": null,
   "metadata": {
    "hidden": true
   },
   "outputs": [],
   "source": [
    "#for i in cus_attr_1['c_id']:\n",
    "#    dict_jacc_sim[i] = [(j, jaccard_similarity(cus_dict_d[i], cus_dict_d[j])) for j in cus_attr_1['c_id']\n",
    "#                       if jaccard_similarity(cus_dict_d[i], cus_dict_d[j]) > 0.5 and i != j]"
   ]
  },
  {
   "cell_type": "code",
   "execution_count": 153,
   "metadata": {
    "ExecuteTime": {
     "end_time": "2018-09-24T09:42:03.937823Z",
     "start_time": "2018-09-24T09:41:50.710823Z"
    },
    "hidden": true
   },
   "outputs": [],
   "source": [
    "#with open('es_cus_dict_jacc_sim.p', 'wb') as fp:\n",
    "#    pickle.dump(dict_jacc_sim, fp, protocol=pickle.HIGHEST_PROTOCOL)"
   ]
  },
  {
   "cell_type": "markdown",
   "metadata": {
    "heading_collapsed": true
   },
   "source": [
    "#### Load dictionary with Jaccard similarties between customers cohorts"
   ]
  },
  {
   "cell_type": "code",
   "execution_count": 6,
   "metadata": {
    "ExecuteTime": {
     "end_time": "2018-09-24T10:11:27.758898Z",
     "start_time": "2018-09-24T10:11:22.481723Z"
    },
    "hidden": true
   },
   "outputs": [],
   "source": [
    "with open('es_cus_dict_jacc_sim.p', 'rb') as fp:\n",
    "    dict_jacc_sim = pickle.load(fp)"
   ]
  },
  {
   "cell_type": "code",
   "execution_count": 7,
   "metadata": {
    "ExecuteTime": {
     "end_time": "2018-09-24T10:11:40.365320Z",
     "start_time": "2018-09-24T10:11:40.360320Z"
    },
    "hidden": true
   },
   "outputs": [
    {
     "data": {
      "text/plain": [
       "[(14641714, 0.667),\n",
       " (14998832, 0.667),\n",
       " (15113878, 0.667),\n",
       " (15295541, 0.75),\n",
       " (15628890, 0.667),\n",
       " (15715287, 0.667),\n",
       " (15791943, 0.667),\n",
       " (16373476, 0.667),\n",
       " (16835955, 0.667),\n",
       " (17570632, 0.667)]"
      ]
     },
     "execution_count": 7,
     "metadata": {},
     "output_type": "execute_result"
    }
   ],
   "source": [
    "dict_jacc_sim[13978247]"
   ]
  },
  {
   "cell_type": "code",
   "execution_count": 9,
   "metadata": {
    "ExecuteTime": {
     "end_time": "2018-09-24T10:18:10.271343Z",
     "start_time": "2018-09-24T10:16:01.691368Z"
    },
    "hidden": true
   },
   "outputs": [],
   "source": [
    "# Pandas DataFrame from the dict\n",
    "cus_jacc_df = pd.DataFrame.from_dict(dict_jacc_sim, orient='index')"
   ]
  },
  {
   "cell_type": "code",
   "execution_count": 129,
   "metadata": {
    "ExecuteTime": {
     "end_time": "2018-09-24T08:26:19.046823Z",
     "start_time": "2018-09-24T08:25:07.621823Z"
    },
    "hidden": true
   },
   "outputs": [],
   "source": [
    "#cus_jacc_df.to_csv('es_customers_jacc_similarity.csv', sep=';', index=True, encoding='utf-8')"
   ]
  },
  {
   "cell_type": "code",
   "execution_count": 10,
   "metadata": {
    "ExecuteTime": {
     "end_time": "2018-09-24T10:42:08.809917Z",
     "start_time": "2018-09-24T10:42:08.772917Z"
    },
    "hidden": true
   },
   "outputs": [
    {
     "data": {
      "text/html": [
       "<div>\n",
       "<style scoped>\n",
       "    .dataframe tbody tr th:only-of-type {\n",
       "        vertical-align: middle;\n",
       "    }\n",
       "\n",
       "    .dataframe tbody tr th {\n",
       "        vertical-align: top;\n",
       "    }\n",
       "\n",
       "    .dataframe thead th {\n",
       "        text-align: right;\n",
       "    }\n",
       "</style>\n",
       "<table border=\"1\" class=\"dataframe\">\n",
       "  <thead>\n",
       "    <tr style=\"text-align: right;\">\n",
       "      <th></th>\n",
       "      <th>0</th>\n",
       "      <th>1</th>\n",
       "      <th>2</th>\n",
       "      <th>3</th>\n",
       "      <th>4</th>\n",
       "      <th>5</th>\n",
       "      <th>6</th>\n",
       "      <th>7</th>\n",
       "      <th>8</th>\n",
       "      <th>9</th>\n",
       "      <th>...</th>\n",
       "      <th>2541</th>\n",
       "      <th>2542</th>\n",
       "      <th>2543</th>\n",
       "      <th>2544</th>\n",
       "      <th>2545</th>\n",
       "      <th>2546</th>\n",
       "      <th>2547</th>\n",
       "      <th>2548</th>\n",
       "      <th>2549</th>\n",
       "      <th>2550</th>\n",
       "    </tr>\n",
       "  </thead>\n",
       "  <tbody>\n",
       "    <tr>\n",
       "      <th>10795342</th>\n",
       "      <td>None</td>\n",
       "      <td>None</td>\n",
       "      <td>None</td>\n",
       "      <td>None</td>\n",
       "      <td>None</td>\n",
       "      <td>None</td>\n",
       "      <td>None</td>\n",
       "      <td>None</td>\n",
       "      <td>None</td>\n",
       "      <td>None</td>\n",
       "      <td>...</td>\n",
       "      <td>None</td>\n",
       "      <td>None</td>\n",
       "      <td>None</td>\n",
       "      <td>None</td>\n",
       "      <td>None</td>\n",
       "      <td>None</td>\n",
       "      <td>None</td>\n",
       "      <td>None</td>\n",
       "      <td>None</td>\n",
       "      <td>None</td>\n",
       "    </tr>\n",
       "    <tr>\n",
       "      <th>10795587</th>\n",
       "      <td>None</td>\n",
       "      <td>None</td>\n",
       "      <td>None</td>\n",
       "      <td>None</td>\n",
       "      <td>None</td>\n",
       "      <td>None</td>\n",
       "      <td>None</td>\n",
       "      <td>None</td>\n",
       "      <td>None</td>\n",
       "      <td>None</td>\n",
       "      <td>...</td>\n",
       "      <td>None</td>\n",
       "      <td>None</td>\n",
       "      <td>None</td>\n",
       "      <td>None</td>\n",
       "      <td>None</td>\n",
       "      <td>None</td>\n",
       "      <td>None</td>\n",
       "      <td>None</td>\n",
       "      <td>None</td>\n",
       "      <td>None</td>\n",
       "    </tr>\n",
       "    <tr>\n",
       "      <th>10795926</th>\n",
       "      <td>None</td>\n",
       "      <td>None</td>\n",
       "      <td>None</td>\n",
       "      <td>None</td>\n",
       "      <td>None</td>\n",
       "      <td>None</td>\n",
       "      <td>None</td>\n",
       "      <td>None</td>\n",
       "      <td>None</td>\n",
       "      <td>None</td>\n",
       "      <td>...</td>\n",
       "      <td>None</td>\n",
       "      <td>None</td>\n",
       "      <td>None</td>\n",
       "      <td>None</td>\n",
       "      <td>None</td>\n",
       "      <td>None</td>\n",
       "      <td>None</td>\n",
       "      <td>None</td>\n",
       "      <td>None</td>\n",
       "      <td>None</td>\n",
       "    </tr>\n",
       "    <tr>\n",
       "      <th>10796537</th>\n",
       "      <td>None</td>\n",
       "      <td>None</td>\n",
       "      <td>None</td>\n",
       "      <td>None</td>\n",
       "      <td>None</td>\n",
       "      <td>None</td>\n",
       "      <td>None</td>\n",
       "      <td>None</td>\n",
       "      <td>None</td>\n",
       "      <td>None</td>\n",
       "      <td>...</td>\n",
       "      <td>None</td>\n",
       "      <td>None</td>\n",
       "      <td>None</td>\n",
       "      <td>None</td>\n",
       "      <td>None</td>\n",
       "      <td>None</td>\n",
       "      <td>None</td>\n",
       "      <td>None</td>\n",
       "      <td>None</td>\n",
       "      <td>None</td>\n",
       "    </tr>\n",
       "    <tr>\n",
       "      <th>10796609</th>\n",
       "      <td>(10849661, 1.0)</td>\n",
       "      <td>(10876383, 1.0)</td>\n",
       "      <td>(10911016, 1.0)</td>\n",
       "      <td>(10938237, 1.0)</td>\n",
       "      <td>(11029835, 1.0)</td>\n",
       "      <td>(11162870, 1.0)</td>\n",
       "      <td>(11189638, 1.0)</td>\n",
       "      <td>(11310096, 1.0)</td>\n",
       "      <td>(11746287, 1.0)</td>\n",
       "      <td>(11920980, 1.0)</td>\n",
       "      <td>...</td>\n",
       "      <td>None</td>\n",
       "      <td>None</td>\n",
       "      <td>None</td>\n",
       "      <td>None</td>\n",
       "      <td>None</td>\n",
       "      <td>None</td>\n",
       "      <td>None</td>\n",
       "      <td>None</td>\n",
       "      <td>None</td>\n",
       "      <td>None</td>\n",
       "    </tr>\n",
       "    <tr>\n",
       "      <th>10798102</th>\n",
       "      <td>None</td>\n",
       "      <td>None</td>\n",
       "      <td>None</td>\n",
       "      <td>None</td>\n",
       "      <td>None</td>\n",
       "      <td>None</td>\n",
       "      <td>None</td>\n",
       "      <td>None</td>\n",
       "      <td>None</td>\n",
       "      <td>None</td>\n",
       "      <td>...</td>\n",
       "      <td>None</td>\n",
       "      <td>None</td>\n",
       "      <td>None</td>\n",
       "      <td>None</td>\n",
       "      <td>None</td>\n",
       "      <td>None</td>\n",
       "      <td>None</td>\n",
       "      <td>None</td>\n",
       "      <td>None</td>\n",
       "      <td>None</td>\n",
       "    </tr>\n",
       "    <tr>\n",
       "      <th>10798223</th>\n",
       "      <td>(14739467, 1.0)</td>\n",
       "      <td>None</td>\n",
       "      <td>None</td>\n",
       "      <td>None</td>\n",
       "      <td>None</td>\n",
       "      <td>None</td>\n",
       "      <td>None</td>\n",
       "      <td>None</td>\n",
       "      <td>None</td>\n",
       "      <td>None</td>\n",
       "      <td>...</td>\n",
       "      <td>None</td>\n",
       "      <td>None</td>\n",
       "      <td>None</td>\n",
       "      <td>None</td>\n",
       "      <td>None</td>\n",
       "      <td>None</td>\n",
       "      <td>None</td>\n",
       "      <td>None</td>\n",
       "      <td>None</td>\n",
       "      <td>None</td>\n",
       "    </tr>\n",
       "    <tr>\n",
       "      <th>10798247</th>\n",
       "      <td>None</td>\n",
       "      <td>None</td>\n",
       "      <td>None</td>\n",
       "      <td>None</td>\n",
       "      <td>None</td>\n",
       "      <td>None</td>\n",
       "      <td>None</td>\n",
       "      <td>None</td>\n",
       "      <td>None</td>\n",
       "      <td>None</td>\n",
       "      <td>...</td>\n",
       "      <td>None</td>\n",
       "      <td>None</td>\n",
       "      <td>None</td>\n",
       "      <td>None</td>\n",
       "      <td>None</td>\n",
       "      <td>None</td>\n",
       "      <td>None</td>\n",
       "      <td>None</td>\n",
       "      <td>None</td>\n",
       "      <td>None</td>\n",
       "    </tr>\n",
       "    <tr>\n",
       "      <th>10798736</th>\n",
       "      <td>None</td>\n",
       "      <td>None</td>\n",
       "      <td>None</td>\n",
       "      <td>None</td>\n",
       "      <td>None</td>\n",
       "      <td>None</td>\n",
       "      <td>None</td>\n",
       "      <td>None</td>\n",
       "      <td>None</td>\n",
       "      <td>None</td>\n",
       "      <td>...</td>\n",
       "      <td>None</td>\n",
       "      <td>None</td>\n",
       "      <td>None</td>\n",
       "      <td>None</td>\n",
       "      <td>None</td>\n",
       "      <td>None</td>\n",
       "      <td>None</td>\n",
       "      <td>None</td>\n",
       "      <td>None</td>\n",
       "      <td>None</td>\n",
       "    </tr>\n",
       "    <tr>\n",
       "      <th>10799022</th>\n",
       "      <td>None</td>\n",
       "      <td>None</td>\n",
       "      <td>None</td>\n",
       "      <td>None</td>\n",
       "      <td>None</td>\n",
       "      <td>None</td>\n",
       "      <td>None</td>\n",
       "      <td>None</td>\n",
       "      <td>None</td>\n",
       "      <td>None</td>\n",
       "      <td>...</td>\n",
       "      <td>None</td>\n",
       "      <td>None</td>\n",
       "      <td>None</td>\n",
       "      <td>None</td>\n",
       "      <td>None</td>\n",
       "      <td>None</td>\n",
       "      <td>None</td>\n",
       "      <td>None</td>\n",
       "      <td>None</td>\n",
       "      <td>None</td>\n",
       "    </tr>\n",
       "  </tbody>\n",
       "</table>\n",
       "<p>10 rows × 2551 columns</p>\n",
       "</div>"
      ],
      "text/plain": [
       "                     0                1                2                3     \\\n",
       "10795342             None             None             None             None   \n",
       "10795587             None             None             None             None   \n",
       "10795926             None             None             None             None   \n",
       "10796537             None             None             None             None   \n",
       "10796609  (10849661, 1.0)  (10876383, 1.0)  (10911016, 1.0)  (10938237, 1.0)   \n",
       "10798102             None             None             None             None   \n",
       "10798223  (14739467, 1.0)             None             None             None   \n",
       "10798247             None             None             None             None   \n",
       "10798736             None             None             None             None   \n",
       "10799022             None             None             None             None   \n",
       "\n",
       "                     4                5                6                7     \\\n",
       "10795342             None             None             None             None   \n",
       "10795587             None             None             None             None   \n",
       "10795926             None             None             None             None   \n",
       "10796537             None             None             None             None   \n",
       "10796609  (11029835, 1.0)  (11162870, 1.0)  (11189638, 1.0)  (11310096, 1.0)   \n",
       "10798102             None             None             None             None   \n",
       "10798223             None             None             None             None   \n",
       "10798247             None             None             None             None   \n",
       "10798736             None             None             None             None   \n",
       "10799022             None             None             None             None   \n",
       "\n",
       "                     8                9     ...   2541  2542  2543  2544  \\\n",
       "10795342             None             None  ...   None  None  None  None   \n",
       "10795587             None             None  ...   None  None  None  None   \n",
       "10795926             None             None  ...   None  None  None  None   \n",
       "10796537             None             None  ...   None  None  None  None   \n",
       "10796609  (11746287, 1.0)  (11920980, 1.0)  ...   None  None  None  None   \n",
       "10798102             None             None  ...   None  None  None  None   \n",
       "10798223             None             None  ...   None  None  None  None   \n",
       "10798247             None             None  ...   None  None  None  None   \n",
       "10798736             None             None  ...   None  None  None  None   \n",
       "10799022             None             None  ...   None  None  None  None   \n",
       "\n",
       "          2545  2546  2547  2548  2549  2550  \n",
       "10795342  None  None  None  None  None  None  \n",
       "10795587  None  None  None  None  None  None  \n",
       "10795926  None  None  None  None  None  None  \n",
       "10796537  None  None  None  None  None  None  \n",
       "10796609  None  None  None  None  None  None  \n",
       "10798102  None  None  None  None  None  None  \n",
       "10798223  None  None  None  None  None  None  \n",
       "10798247  None  None  None  None  None  None  \n",
       "10798736  None  None  None  None  None  None  \n",
       "10799022  None  None  None  None  None  None  \n",
       "\n",
       "[10 rows x 2551 columns]"
      ]
     },
     "execution_count": 10,
     "metadata": {},
     "output_type": "execute_result"
    }
   ],
   "source": [
    "cus_jacc_df.head(10)"
   ]
  },
  {
   "cell_type": "code",
   "execution_count": 11,
   "metadata": {
    "ExecuteTime": {
     "end_time": "2018-09-24T10:42:34.604917Z",
     "start_time": "2018-09-24T10:42:34.597917Z"
    },
    "hidden": true
   },
   "outputs": [],
   "source": [
    "def user_counter(x):\n",
    "    users = len(x) - sum(x.isnull())\n",
    "    return users"
   ]
  },
  {
   "cell_type": "code",
   "execution_count": 12,
   "metadata": {
    "ExecuteTime": {
     "end_time": "2018-09-24T10:43:55.681917Z",
     "start_time": "2018-09-24T10:42:48.082917Z"
    },
    "hidden": true
   },
   "outputs": [],
   "source": [
    "cus_jacc_df['n_sim_cust'] = cus_jacc_df.apply(user_counter, axis=1)"
   ]
  },
  {
   "cell_type": "code",
   "execution_count": 14,
   "metadata": {
    "ExecuteTime": {
     "end_time": "2018-09-24T11:40:56.006156Z",
     "start_time": "2018-09-24T11:40:55.916102Z"
    },
    "hidden": true
   },
   "outputs": [
    {
     "data": {
      "text/plain": [
       "count    198492.000000\n",
       "mean        137.203434\n",
       "std         390.547135\n",
       "min           0.000000\n",
       "25%           0.000000\n",
       "50%           1.000000\n",
       "75%          35.000000\n",
       "max        2551.000000\n",
       "Name: n_sim_cust, dtype: float64"
      ]
     },
     "execution_count": 14,
     "metadata": {},
     "output_type": "execute_result"
    }
   ],
   "source": [
    "cus_jacc_df['n_sim_cust'].describe()"
   ]
  },
  {
   "cell_type": "code",
   "execution_count": 15,
   "metadata": {
    "ExecuteTime": {
     "end_time": "2018-09-24T11:44:17.307865Z",
     "start_time": "2018-09-24T11:43:08.053337Z"
    },
    "hidden": true
   },
   "outputs": [],
   "source": [
    "#cus_jacc_df.to_pickle(\"./cus_jacc_df.pkl\")"
   ]
  },
  {
   "cell_type": "markdown",
   "metadata": {
    "heading_collapsed": true
   },
   "source": [
    "#### Load DataFrame of Jaccard similarity between customers"
   ]
  },
  {
   "cell_type": "code",
   "execution_count": 23,
   "metadata": {
    "ExecuteTime": {
     "end_time": "2018-09-24T13:00:42.416648Z",
     "start_time": "2018-09-24T12:59:45.335701Z"
    },
    "hidden": true
   },
   "outputs": [],
   "source": [
    "cus_jacc_df = pd.read_pickle(\"./cus_jacc_df.pkl\")"
   ]
  },
  {
   "cell_type": "code",
   "execution_count": 24,
   "metadata": {
    "ExecuteTime": {
     "end_time": "2018-09-24T13:00:54.980648Z",
     "start_time": "2018-09-24T13:00:54.876648Z"
    },
    "hidden": true
   },
   "outputs": [
    {
     "data": {
      "text/html": [
       "<div>\n",
       "<style scoped>\n",
       "    .dataframe tbody tr th:only-of-type {\n",
       "        vertical-align: middle;\n",
       "    }\n",
       "\n",
       "    .dataframe tbody tr th {\n",
       "        vertical-align: top;\n",
       "    }\n",
       "\n",
       "    .dataframe thead th {\n",
       "        text-align: right;\n",
       "    }\n",
       "</style>\n",
       "<table border=\"1\" class=\"dataframe\">\n",
       "  <thead>\n",
       "    <tr style=\"text-align: right;\">\n",
       "      <th></th>\n",
       "      <th>0</th>\n",
       "      <th>1</th>\n",
       "      <th>2</th>\n",
       "      <th>3</th>\n",
       "      <th>4</th>\n",
       "      <th>5</th>\n",
       "      <th>6</th>\n",
       "      <th>7</th>\n",
       "      <th>8</th>\n",
       "      <th>9</th>\n",
       "      <th>...</th>\n",
       "      <th>2542</th>\n",
       "      <th>2543</th>\n",
       "      <th>2544</th>\n",
       "      <th>2545</th>\n",
       "      <th>2546</th>\n",
       "      <th>2547</th>\n",
       "      <th>2548</th>\n",
       "      <th>2549</th>\n",
       "      <th>2550</th>\n",
       "      <th>n_sim_cust</th>\n",
       "    </tr>\n",
       "  </thead>\n",
       "  <tbody>\n",
       "    <tr>\n",
       "      <th>17942131</th>\n",
       "      <td>(10842672, 1.0)</td>\n",
       "      <td>(10852446, 1.0)</td>\n",
       "      <td>(10911966, 1.0)</td>\n",
       "      <td>(10912296, 1.0)</td>\n",
       "      <td>(10970947, 1.0)</td>\n",
       "      <td>(10976452, 1.0)</td>\n",
       "      <td>(11022417, 1.0)</td>\n",
       "      <td>(11038391, 1.0)</td>\n",
       "      <td>(11044502, 1.0)</td>\n",
       "      <td>(11138075, 1.0)</td>\n",
       "      <td>...</td>\n",
       "      <td>None</td>\n",
       "      <td>None</td>\n",
       "      <td>None</td>\n",
       "      <td>None</td>\n",
       "      <td>None</td>\n",
       "      <td>None</td>\n",
       "      <td>None</td>\n",
       "      <td>None</td>\n",
       "      <td>None</td>\n",
       "      <td>1104</td>\n",
       "    </tr>\n",
       "    <tr>\n",
       "      <th>15334043</th>\n",
       "      <td>None</td>\n",
       "      <td>None</td>\n",
       "      <td>None</td>\n",
       "      <td>None</td>\n",
       "      <td>None</td>\n",
       "      <td>None</td>\n",
       "      <td>None</td>\n",
       "      <td>None</td>\n",
       "      <td>None</td>\n",
       "      <td>None</td>\n",
       "      <td>...</td>\n",
       "      <td>None</td>\n",
       "      <td>None</td>\n",
       "      <td>None</td>\n",
       "      <td>None</td>\n",
       "      <td>None</td>\n",
       "      <td>None</td>\n",
       "      <td>None</td>\n",
       "      <td>None</td>\n",
       "      <td>None</td>\n",
       "      <td>0</td>\n",
       "    </tr>\n",
       "    <tr>\n",
       "      <th>13108877</th>\n",
       "      <td>(17835070, 1.0)</td>\n",
       "      <td>None</td>\n",
       "      <td>None</td>\n",
       "      <td>None</td>\n",
       "      <td>None</td>\n",
       "      <td>None</td>\n",
       "      <td>None</td>\n",
       "      <td>None</td>\n",
       "      <td>None</td>\n",
       "      <td>None</td>\n",
       "      <td>...</td>\n",
       "      <td>None</td>\n",
       "      <td>None</td>\n",
       "      <td>None</td>\n",
       "      <td>None</td>\n",
       "      <td>None</td>\n",
       "      <td>None</td>\n",
       "      <td>None</td>\n",
       "      <td>None</td>\n",
       "      <td>None</td>\n",
       "      <td>1</td>\n",
       "    </tr>\n",
       "    <tr>\n",
       "      <th>17971240</th>\n",
       "      <td>None</td>\n",
       "      <td>None</td>\n",
       "      <td>None</td>\n",
       "      <td>None</td>\n",
       "      <td>None</td>\n",
       "      <td>None</td>\n",
       "      <td>None</td>\n",
       "      <td>None</td>\n",
       "      <td>None</td>\n",
       "      <td>None</td>\n",
       "      <td>...</td>\n",
       "      <td>None</td>\n",
       "      <td>None</td>\n",
       "      <td>None</td>\n",
       "      <td>None</td>\n",
       "      <td>None</td>\n",
       "      <td>None</td>\n",
       "      <td>None</td>\n",
       "      <td>None</td>\n",
       "      <td>None</td>\n",
       "      <td>0</td>\n",
       "    </tr>\n",
       "    <tr>\n",
       "      <th>15604311</th>\n",
       "      <td>(10894305, 1.0)</td>\n",
       "      <td>(10910383, 1.0)</td>\n",
       "      <td>(10942747, 1.0)</td>\n",
       "      <td>(10955526, 1.0)</td>\n",
       "      <td>(10983804, 1.0)</td>\n",
       "      <td>(10991709, 1.0)</td>\n",
       "      <td>(10999313, 1.0)</td>\n",
       "      <td>(11078002, 1.0)</td>\n",
       "      <td>(11095321, 1.0)</td>\n",
       "      <td>(11300599, 1.0)</td>\n",
       "      <td>...</td>\n",
       "      <td>None</td>\n",
       "      <td>None</td>\n",
       "      <td>None</td>\n",
       "      <td>None</td>\n",
       "      <td>None</td>\n",
       "      <td>None</td>\n",
       "      <td>None</td>\n",
       "      <td>None</td>\n",
       "      <td>None</td>\n",
       "      <td>624</td>\n",
       "    </tr>\n",
       "  </tbody>\n",
       "</table>\n",
       "<p>5 rows × 2552 columns</p>\n",
       "</div>"
      ],
      "text/plain": [
       "                        0                1                2                3  \\\n",
       "17942131  (10842672, 1.0)  (10852446, 1.0)  (10911966, 1.0)  (10912296, 1.0)   \n",
       "15334043             None             None             None             None   \n",
       "13108877  (17835070, 1.0)             None             None             None   \n",
       "17971240             None             None             None             None   \n",
       "15604311  (10894305, 1.0)  (10910383, 1.0)  (10942747, 1.0)  (10955526, 1.0)   \n",
       "\n",
       "                        4                5                6                7  \\\n",
       "17942131  (10970947, 1.0)  (10976452, 1.0)  (11022417, 1.0)  (11038391, 1.0)   \n",
       "15334043             None             None             None             None   \n",
       "13108877             None             None             None             None   \n",
       "17971240             None             None             None             None   \n",
       "15604311  (10983804, 1.0)  (10991709, 1.0)  (10999313, 1.0)  (11078002, 1.0)   \n",
       "\n",
       "                        8                9    ...      2542  2543  2544  2545  \\\n",
       "17942131  (11044502, 1.0)  (11138075, 1.0)    ...      None  None  None  None   \n",
       "15334043             None             None    ...      None  None  None  None   \n",
       "13108877             None             None    ...      None  None  None  None   \n",
       "17971240             None             None    ...      None  None  None  None   \n",
       "15604311  (11095321, 1.0)  (11300599, 1.0)    ...      None  None  None  None   \n",
       "\n",
       "          2546  2547  2548  2549  2550 n_sim_cust  \n",
       "17942131  None  None  None  None  None       1104  \n",
       "15334043  None  None  None  None  None          0  \n",
       "13108877  None  None  None  None  None          1  \n",
       "17971240  None  None  None  None  None          0  \n",
       "15604311  None  None  None  None  None        624  \n",
       "\n",
       "[5 rows x 2552 columns]"
      ]
     },
     "execution_count": 24,
     "metadata": {},
     "output_type": "execute_result"
    }
   ],
   "source": [
    "cus_jacc_df.sample(5)"
   ]
  },
  {
   "cell_type": "markdown",
   "metadata": {},
   "source": [
    "#### Customer attributes DF - Scoring system"
   ]
  },
  {
   "cell_type": "code",
   "execution_count": 2,
   "metadata": {
    "ExecuteTime": {
     "end_time": "2018-09-26T08:06:37.434601Z",
     "start_time": "2018-09-26T08:06:32.754223Z"
    }
   },
   "outputs": [],
   "source": [
    "cus_attr = pd.read_pickle(\"./cus_attr_data_model.pkl\")"
   ]
  },
  {
   "cell_type": "code",
   "execution_count": 3,
   "metadata": {
    "ExecuteTime": {
     "end_time": "2018-09-26T08:06:37.638347Z",
     "start_time": "2018-09-26T08:06:37.589504Z"
    }
   },
   "outputs": [
    {
     "data": {
      "text/html": [
       "<div>\n",
       "<style scoped>\n",
       "    .dataframe tbody tr th:only-of-type {\n",
       "        vertical-align: middle;\n",
       "    }\n",
       "\n",
       "    .dataframe tbody tr th {\n",
       "        vertical-align: top;\n",
       "    }\n",
       "\n",
       "    .dataframe thead th {\n",
       "        text-align: right;\n",
       "    }\n",
       "</style>\n",
       "<table border=\"1\" class=\"dataframe\">\n",
       "  <thead>\n",
       "    <tr style=\"text-align: right;\">\n",
       "      <th></th>\n",
       "      <th>c_id</th>\n",
       "      <th>total_net_sales</th>\n",
       "      <th>orders</th>\n",
       "      <th>orders_info</th>\n",
       "      <th>basket_net_avg</th>\n",
       "      <th>basket_net_std</th>\n",
       "      <th>pg4_ord_net_sales</th>\n",
       "      <th>main_pg4</th>\n",
       "      <th>main_pg4_%_ord</th>\n",
       "      <th>main_pg4_%_net_sales</th>\n",
       "      <th>orders_timedeltas</th>\n",
       "      <th>pg4_ord_set</th>\n",
       "    </tr>\n",
       "  </thead>\n",
       "  <tbody>\n",
       "    <tr>\n",
       "      <th>15368347</th>\n",
       "      <td>15368347</td>\n",
       "      <td>37.07</td>\n",
       "      <td>1</td>\n",
       "      <td>[(153275, 37.07)]</td>\n",
       "      <td>37.07</td>\n",
       "      <td>0.00</td>\n",
       "      <td>[(153275, 1, 37.07)]</td>\n",
       "      <td>153275</td>\n",
       "      <td>1.0</td>\n",
       "      <td>1.00</td>\n",
       "      <td>[]</td>\n",
       "      <td>[(153275, 1)]</td>\n",
       "    </tr>\n",
       "    <tr>\n",
       "      <th>16244432</th>\n",
       "      <td>16244432</td>\n",
       "      <td>118.15</td>\n",
       "      <td>2</td>\n",
       "      <td>[(2060, 43.71), (81397, 74.44)]</td>\n",
       "      <td>59.08</td>\n",
       "      <td>21.73</td>\n",
       "      <td>[(81397, 1, 74.44), (2060, 1, 43.71)]</td>\n",
       "      <td>81397</td>\n",
       "      <td>0.5</td>\n",
       "      <td>0.63</td>\n",
       "      <td>[574]</td>\n",
       "      <td>[(81397, 1), (2060, 1)]</td>\n",
       "    </tr>\n",
       "    <tr>\n",
       "      <th>15021021</th>\n",
       "      <td>15021021</td>\n",
       "      <td>566.49</td>\n",
       "      <td>12</td>\n",
       "      <td>[(682, 36.35), (682, 32.71), (682, 36.35), (68...</td>\n",
       "      <td>47.21</td>\n",
       "      <td>10.49</td>\n",
       "      <td>[(682, 12, 566.49)]</td>\n",
       "      <td>682</td>\n",
       "      <td>1.0</td>\n",
       "      <td>1.00</td>\n",
       "      <td>[48, 53, 55, 81, 90, 59, 85, 46, 72, 76, 65]</td>\n",
       "      <td>[(682, 12)]</td>\n",
       "    </tr>\n",
       "    <tr>\n",
       "      <th>14643290</th>\n",
       "      <td>14643290</td>\n",
       "      <td>34.31</td>\n",
       "      <td>2</td>\n",
       "      <td>[(118, 16.9), (530, 17.41)]</td>\n",
       "      <td>17.16</td>\n",
       "      <td>0.36</td>\n",
       "      <td>[(530, 1, 17.41), (118, 1, 16.9)]</td>\n",
       "      <td>530</td>\n",
       "      <td>0.5</td>\n",
       "      <td>0.51</td>\n",
       "      <td>[23]</td>\n",
       "      <td>[(530, 1), (118, 1)]</td>\n",
       "    </tr>\n",
       "    <tr>\n",
       "      <th>12604004</th>\n",
       "      <td>12604004</td>\n",
       "      <td>421.57</td>\n",
       "      <td>10</td>\n",
       "      <td>[(10623, 28.83), (2060, 80.88), (393, 37.8), (...</td>\n",
       "      <td>42.16</td>\n",
       "      <td>22.99</td>\n",
       "      <td>[(2071, 3, 103.35), (43525, 1, 85.92), (2060, ...</td>\n",
       "      <td>2071</td>\n",
       "      <td>0.3</td>\n",
       "      <td>0.25</td>\n",
       "      <td>[62, 443, 87, 196, 204, 31, 6, 9, 17]</td>\n",
       "      <td>[(2071, 3), (43525, 1), (2060, 1), (393, 1), (...</td>\n",
       "    </tr>\n",
       "  </tbody>\n",
       "</table>\n",
       "</div>"
      ],
      "text/plain": [
       "              c_id  total_net_sales  orders  \\\n",
       "15368347  15368347            37.07       1   \n",
       "16244432  16244432           118.15       2   \n",
       "15021021  15021021           566.49      12   \n",
       "14643290  14643290            34.31       2   \n",
       "12604004  12604004           421.57      10   \n",
       "\n",
       "                                                orders_info  basket_net_avg  \\\n",
       "15368347                                  [(153275, 37.07)]           37.07   \n",
       "16244432                    [(2060, 43.71), (81397, 74.44)]           59.08   \n",
       "15021021  [(682, 36.35), (682, 32.71), (682, 36.35), (68...           47.21   \n",
       "14643290                        [(118, 16.9), (530, 17.41)]           17.16   \n",
       "12604004  [(10623, 28.83), (2060, 80.88), (393, 37.8), (...           42.16   \n",
       "\n",
       "          basket_net_std                                  pg4_ord_net_sales  \\\n",
       "15368347            0.00                               [(153275, 1, 37.07)]   \n",
       "16244432           21.73              [(81397, 1, 74.44), (2060, 1, 43.71)]   \n",
       "15021021           10.49                                [(682, 12, 566.49)]   \n",
       "14643290            0.36                  [(530, 1, 17.41), (118, 1, 16.9)]   \n",
       "12604004           22.99  [(2071, 3, 103.35), (43525, 1, 85.92), (2060, ...   \n",
       "\n",
       "          main_pg4  main_pg4_%_ord  main_pg4_%_net_sales  \\\n",
       "15368347    153275             1.0                  1.00   \n",
       "16244432     81397             0.5                  0.63   \n",
       "15021021       682             1.0                  1.00   \n",
       "14643290       530             0.5                  0.51   \n",
       "12604004      2071             0.3                  0.25   \n",
       "\n",
       "                                     orders_timedeltas  \\\n",
       "15368347                                            []   \n",
       "16244432                                         [574]   \n",
       "15021021  [48, 53, 55, 81, 90, 59, 85, 46, 72, 76, 65]   \n",
       "14643290                                          [23]   \n",
       "12604004         [62, 443, 87, 196, 204, 31, 6, 9, 17]   \n",
       "\n",
       "                                                pg4_ord_set  \n",
       "15368347                                      [(153275, 1)]  \n",
       "16244432                            [(81397, 1), (2060, 1)]  \n",
       "15021021                                        [(682, 12)]  \n",
       "14643290                               [(530, 1), (118, 1)]  \n",
       "12604004  [(2071, 3), (43525, 1), (2060, 1), (393, 1), (...  "
      ]
     },
     "execution_count": 3,
     "metadata": {},
     "output_type": "execute_result"
    }
   ],
   "source": [
    "cus_attr.sample(5)"
   ]
  },
  {
   "cell_type": "code",
   "execution_count": 4,
   "metadata": {
    "ExecuteTime": {
     "end_time": "2018-09-26T08:06:37.817771Z",
     "start_time": "2018-09-26T08:06:37.812787Z"
    }
   },
   "outputs": [
    {
     "data": {
      "text/plain": [
       "Index(['c_id', 'total_net_sales', 'orders', 'orders_info', 'basket_net_avg',\n",
       "       'basket_net_std', 'pg4_ord_net_sales', 'main_pg4', 'main_pg4_%_ord',\n",
       "       'main_pg4_%_net_sales', 'orders_timedeltas', 'pg4_ord_set'],\n",
       "      dtype='object')"
      ]
     },
     "execution_count": 4,
     "metadata": {},
     "output_type": "execute_result"
    }
   ],
   "source": [
    "cus_attr.columns"
   ]
  },
  {
   "cell_type": "markdown",
   "metadata": {},
   "source": [
    "##### Timedeltas Probability Distribution"
   ]
  },
  {
   "cell_type": "code",
   "execution_count": 5,
   "metadata": {
    "ExecuteTime": {
     "end_time": "2018-09-26T08:06:51.872066Z",
     "start_time": "2018-09-26T08:06:43.979194Z"
    }
   },
   "outputs": [],
   "source": [
    "# Working on orders timedeltas processing\n",
    "cus_attr['median_timedelta'] = cus_attr['orders_timedeltas'].apply(np.median).fillna(0)"
   ]
  },
  {
   "cell_type": "code",
   "execution_count": 6,
   "metadata": {
    "ExecuteTime": {
     "end_time": "2018-09-26T08:07:00.414848Z",
     "start_time": "2018-09-26T08:06:52.023380Z"
    }
   },
   "outputs": [],
   "source": [
    "cus_attr['std_timedelta'] = cus_attr['orders_timedeltas'].apply(np.std).fillna(0).round(2)"
   ]
  },
  {
   "cell_type": "code",
   "execution_count": 7,
   "metadata": {
    "ExecuteTime": {
     "end_time": "2018-09-26T08:07:03.815335Z",
     "start_time": "2018-09-26T08:07:00.591481Z"
    }
   },
   "outputs": [],
   "source": [
    "cus_attr['mean_timedelta'] = cus_attr['orders_timedeltas'].apply(np.mean).fillna(0).round(2)"
   ]
  },
  {
   "cell_type": "code",
   "execution_count": 8,
   "metadata": {
    "ExecuteTime": {
     "end_time": "2018-09-26T08:07:07.810912Z",
     "start_time": "2018-09-26T08:07:07.472199Z"
    }
   },
   "outputs": [
    {
     "data": {
      "image/png": "[encoded data removed]",
      "text/plain": [
       "<matplotlib.figure.Figure at 0x2d78a080>"
      ]
     },
     "metadata": {},
     "output_type": "display_data"
    }
   ],
   "source": [
    "sns.set()\n",
    "plt.figure(figsize=(12, 8))\n",
    "cus_attr['median_timedelta'].hist(bins=36, range=(0, 365))\n",
    "plt.xlabel('Days')\n",
    "plt.ylabel('Number of customers')\n",
    "plt.title('Histogram showing the median value of period (days) between orders per customer', fontsize=14)\n",
    "plt.show()\n",
    "# 42.5% of the customers only placed 1 order"
   ]
  },
  {
   "cell_type": "code",
   "execution_count": 53,
   "metadata": {
    "ExecuteTime": {
     "end_time": "2018-09-25T09:37:23.074925Z",
     "start_time": "2018-09-25T09:37:22.962913Z"
    }
   },
   "outputs": [],
   "source": [
    "timedelta_collection = [i for timelist in cus_attr['orders_timedeltas'].values for i in timelist]"
   ]
  },
  {
   "cell_type": "code",
   "execution_count": 27,
   "metadata": {
    "ExecuteTime": {
     "end_time": "2018-09-25T09:04:18.047177Z",
     "start_time": "2018-09-25T09:04:18.036177Z"
    }
   },
   "outputs": [
    {
     "data": {
      "text/plain": [
       "1179177"
      ]
     },
     "execution_count": 27,
     "metadata": {},
     "output_type": "execute_result"
    }
   ],
   "source": [
    "len(timedelta_collection)"
   ]
  },
  {
   "cell_type": "code",
   "execution_count": 32,
   "metadata": {
    "ExecuteTime": {
     "end_time": "2018-09-25T09:08:05.923177Z",
     "start_time": "2018-09-25T09:08:05.709177Z"
    }
   },
   "outputs": [
    {
     "data": {
      "image/png": "[encoded data removed]",
      "text/plain": [
       "<matplotlib.figure.Figure at 0x29398240>"
      ]
     },
     "metadata": {},
     "output_type": "display_data"
    }
   ],
   "source": [
    "# Get probability distribution to weighted scoring\n",
    "sns.set()\n",
    "plt.figure(figsize=(12, 8))\n",
    "plt.hist(timedelta_collection, bins=36, range=(0, 360))\n",
    "plt.xlabel('Days')\n",
    "plt.ylabel('Number of orders')\n",
    "plt.title('Histogram showing timedeltas between orders', fontsize=14)\n",
    "plt.show()"
   ]
  },
  {
   "cell_type": "code",
   "execution_count": 63,
   "metadata": {
    "ExecuteTime": {
     "end_time": "2018-09-25T13:35:21.321173Z",
     "start_time": "2018-09-25T12:36:39.828904Z"
    },
    "scrolled": false
   },
   "outputs": [
    {
     "data": {
      "text/html": [
       "<div>\n",
       "<style scoped>\n",
       "    .dataframe tbody tr th:only-of-type {\n",
       "        vertical-align: middle;\n",
       "    }\n",
       "\n",
       "    .dataframe tbody tr th {\n",
       "        vertical-align: top;\n",
       "    }\n",
       "\n",
       "    .dataframe thead th {\n",
       "        text-align: right;\n",
       "    }\n",
       "</style>\n",
       "<table border=\"1\" class=\"dataframe\">\n",
       "  <thead>\n",
       "    <tr style=\"text-align: right;\">\n",
       "      <th></th>\n",
       "      <th>sumsquare_error</th>\n",
       "    </tr>\n",
       "  </thead>\n",
       "  <tbody>\n",
       "    <tr>\n",
       "      <th>invgamma</th>\n",
       "      <td>0.000007</td>\n",
       "    </tr>\n",
       "    <tr>\n",
       "      <th>betaprime</th>\n",
       "      <td>0.000011</td>\n",
       "    </tr>\n",
       "    <tr>\n",
       "      <th>invgauss</th>\n",
       "      <td>0.000013</td>\n",
       "    </tr>\n",
       "    <tr>\n",
       "      <th>fatiguelife</th>\n",
       "      <td>0.000014</td>\n",
       "    </tr>\n",
       "    <tr>\n",
       "      <th>exponnorm</th>\n",
       "      <td>0.000015</td>\n",
       "    </tr>\n",
       "  </tbody>\n",
       "</table>\n",
       "</div>"
      ],
      "text/plain": [
       "             sumsquare_error\n",
       "invgamma            0.000007\n",
       "betaprime           0.000011\n",
       "invgauss            0.000013\n",
       "fatiguelife         0.000014\n",
       "exponnorm           0.000015"
      ]
     },
     "execution_count": 63,
     "metadata": {},
     "output_type": "execute_result"
    },
    {
     "data": {
      "image/png": "[encoded data removed]",
      "text/plain": [
       "<matplotlib.figure.Figure at 0x93c86d8>"
      ]
     },
     "metadata": {},
     "output_type": "display_data"
    }
   ],
   "source": [
    "from fitter import Fitter\n",
    "f = Fitter(timedelta_collection, xmin=None, xmax=360, bins=36, verbose=False, timeout=60) # distributions=['gamma', 'rayleigh', 'uniform'] as parameter\n",
    "f.fit()\n",
    "# may take some time since by default, all distributions are tried\n",
    "# but you call manually provide a smaller set of distributions\n",
    "f.summary()"
   ]
  },
  {
   "cell_type": "code",
   "execution_count": 70,
   "metadata": {
    "ExecuteTime": {
     "end_time": "2018-09-25T14:30:28.216115Z",
     "start_time": "2018-09-25T14:30:28.208116Z"
    }
   },
   "outputs": [
    {
     "data": {
      "text/plain": [
       "(3.980326930596777, -26.804714883552595, 272.34272900209584)"
      ]
     },
     "execution_count": 70,
     "metadata": {},
     "output_type": "execute_result"
    }
   ],
   "source": [
    "f.fitted_param['invgamma']"
   ]
  },
  {
   "cell_type": "code",
   "execution_count": 84,
   "metadata": {
    "ExecuteTime": {
     "end_time": "2018-09-25T14:36:22.140766Z",
     "start_time": "2018-09-25T14:36:22.138766Z"
    }
   },
   "outputs": [
    {
     "data": {
      "text/plain": [
       "array([5.28890349e-03, 1.05101581e-02, 1.27017490e-02, 1.23458326e-02,\n",
       "       1.08059342e-02, 8.97444101e-03, 7.26191040e-03, 5.80725922e-03,\n",
       "       4.62619727e-03, 3.68796992e-03, 2.94984849e-03, 2.37086948e-03,\n",
       "       1.91629077e-03, 1.55822419e-03, 1.27488279e-03, 1.04947046e-03,\n",
       "       8.69111388e-04, 7.23946429e-04, 6.06414539e-04, 5.10698299e-04,\n",
       "       4.32302670e-04, 3.67737366e-04, 3.14278008e-04, 2.69786495e-04,\n",
       "       2.32575620e-04, 2.01306699e-04, 1.74911854e-04, 1.52534729e-04,\n",
       "       1.33485066e-04, 1.17203710e-04, 1.03235518e-04, 9.12082825e-05,\n",
       "       8.08162447e-05, 7.18071395e-05, 6.39719644e-05, 5.71368603e-05])"
      ]
     },
     "execution_count": 84,
     "metadata": {},
     "output_type": "execute_result"
    }
   ],
   "source": [
    "f.fitted_pdf['invgamma']"
   ]
  },
  {
   "cell_type": "code",
   "execution_count": 92,
   "metadata": {
    "ExecuteTime": {
     "end_time": "2018-09-25T14:37:47.814335Z",
     "start_time": "2018-09-25T14:37:47.811335Z"
    }
   },
   "outputs": [
    {
     "data": {
      "text/plain": [
       "array([0.00682751, 0.00873341, 0.01204054, 0.01289485, 0.01132598,\n",
       "       0.00937231, 0.00744309, 0.0057805 , 0.00441875, 0.00379107,\n",
       "       0.00264802, 0.0022824 , 0.00186522, 0.00152275, 0.00124731,\n",
       "       0.00103561, 0.00086761, 0.00073123, 0.00066334, 0.00053776,\n",
       "       0.00047021, 0.00044171, 0.00036277, 0.00035707, 0.00030671,\n",
       "       0.00026974, 0.00024271, 0.00022794, 0.00020401, 0.00018657,\n",
       "       0.00017905, 0.00015012, 0.00015038, 0.00014528, 0.0001344 ,\n",
       "       0.00014208])"
      ]
     },
     "execution_count": 92,
     "metadata": {},
     "output_type": "execute_result"
    }
   ],
   "source": [
    "f.y"
   ]
  },
  {
   "cell_type": "code",
   "execution_count": 80,
   "metadata": {
    "ExecuteTime": {
     "end_time": "2018-09-25T14:35:25.392338Z",
     "start_time": "2018-09-25T14:35:24.995351Z"
    }
   },
   "outputs": [
    {
     "data": {
      "image/png": "[encoded data removed]",
      "text/plain": [
       "<matplotlib.figure.Figure at 0x131487b8>"
      ]
     },
     "metadata": {},
     "output_type": "display_data"
    }
   ],
   "source": [
    "plt.figure(figsize=(12, 8))\n",
    "f.plot_pdf()\n",
    "plt.hist(timedelta_collection, bins=36, range=(0, 360), normed=True, color='skyblue', alpha=0.75)\n",
    "plt.xlabel('Days')\n",
    "plt.ylabel('Number of orders')\n",
    "plt.title('Histogram showing timedeltas between orders', fontsize=14)\n",
    "plt.show()"
   ]
  },
  {
   "cell_type": "code",
   "execution_count": 95,
   "metadata": {
    "ExecuteTime": {
     "end_time": "2018-09-25T14:41:45.793583Z",
     "start_time": "2018-09-25T14:41:45.791583Z"
    }
   },
   "outputs": [],
   "source": [
    "f.__dict__"
   ]
  },
  {
   "cell_type": "markdown",
   "metadata": {},
   "source": [
    "##### Weighted sales value as a function of time"
   ]
  },
  {
   "cell_type": "markdown",
   "metadata": {},
   "source": [
    "Gamma distribution is well known for being very flexible. We use this link to find the \n",
    "parameters of a gamma dist that suits our needs providing us a non-linear function for weight orders \n",
    "depending on how far from now are they. The closer ones obtains greater weights compared to the older. "
   ]
  },
  {
   "cell_type": "markdown",
   "metadata": {},
   "source": [
    "http://www.distributome.org/V3/calc/GammaCalculator.html"
   ]
  },
  {
   "attachments": {
    "image.png": {
     "image/png": "[encoded data removed]"
    }
   },
   "cell_type": "markdown",
   "metadata": {},
   "source": [
    "<html><head>\n",
    "\n",
    "\n",
    "<!-- Load require.js. Delete this if your page already loads require.js -->\n",
    "<script src=\"https://cdnjs.cloudflare.com/ajax/libs/require.js/2.3.4/require.min.js\" integrity=\"sha256-Ae2Vz/4ePdIu6ZyI/5ZGsYnb+m0JlOmKPjt6XZ9JJkA=\" crossorigin=\"anonymous\"></script>\n",
    "<script src=\"https://unpkg.com/@jupyter-widgets/html-manager@*/dist/embed-amd.js\" crossorigin=\"anonymous\"></script>\n",
    "<script type=\"application/vnd.jupyter.widget-state+json\">\n",
    "{\n",
    "    \"version_major\": 2,\n",
    "    \"version_minor\": 0,\n",
    "    \"state\": {}\n",
    "}\n",
    "</script>\n",
    "</head>\n",
    "<body>\n",
    "\n",
    "\n",
    "</body>\n",
    "</html>\n",
    "![image.png](attachment:image.png)"
   ]
  },
  {
   "cell_type": "markdown",
   "metadata": {},
   "source": [
    "Considering x-axis values as a 10 days slot we got at the last position (36) the days completing almost a year where we assign a probability really close to 0."
   ]
  },
  {
   "cell_type": "code",
   "execution_count": 96,
   "metadata": {
    "ExecuteTime": {
     "end_time": "2018-09-25T14:58:27.805086Z",
     "start_time": "2018-09-25T14:58:27.800086Z"
    }
   },
   "outputs": [],
   "source": [
    "from scipy.stats import gamma"
   ]
  },
  {
   "cell_type": "code",
   "execution_count": 98,
   "metadata": {
    "ExecuteTime": {
     "end_time": "2018-09-25T15:02:27.508086Z",
     "start_time": "2018-09-25T15:02:27.502086Z"
    }
   },
   "outputs": [],
   "source": [
    "shape = 1.0\n",
    "scale = 7.2\n",
    "loc = 0"
   ]
  },
  {
   "cell_type": "code",
   "execution_count": 109,
   "metadata": {
    "ExecuteTime": {
     "end_time": "2018-09-25T15:06:35.952086Z",
     "start_time": "2018-09-25T15:06:35.943086Z"
    }
   },
   "outputs": [],
   "source": [
    "rv = gamma(shape, loc = loc, scale = scale)"
   ]
  },
  {
   "cell_type": "code",
   "execution_count": 120,
   "metadata": {
    "ExecuteTime": {
     "end_time": "2018-09-25T15:12:32.682086Z",
     "start_time": "2018-09-25T15:12:32.674086Z"
    }
   },
   "outputs": [],
   "source": [
    " x = np.linspace(rv.ppf(0.01), rv.ppf(0.99), 100)"
   ]
  },
  {
   "cell_type": "code",
   "execution_count": 130,
   "metadata": {
    "ExecuteTime": {
     "end_time": "2018-09-25T15:25:09.465086Z",
     "start_time": "2018-09-25T15:25:09.298086Z"
    }
   },
   "outputs": [
    {
     "data": {
      "image/png": "[encoded data removed]",
      "text/plain": [
       "<matplotlib.figure.Figure at 0xcb26470>"
      ]
     },
     "metadata": {},
     "output_type": "display_data"
    }
   ],
   "source": [
    "plt.figure(figsize=(12, 8))\n",
    "plt.plot(x, rv.pdf(x), 'r-', lw=5, alpha=0.6, label='gamma pdf')\n",
    "plt.xlabel('Days in units of 10')\n",
    "plt.ylabel('Weighted values per time units')\n",
    "plt.title('Function weighting orders as a function of time', fontsize=14)\n",
    "plt.show()"
   ]
  },
  {
   "cell_type": "code",
   "execution_count": 16,
   "metadata": {
    "ExecuteTime": {
     "end_time": "2018-09-26T16:02:22.458582Z",
     "start_time": "2018-09-26T16:02:22.456582Z"
    }
   },
   "outputs": [],
   "source": [
    "# Weighted avgs assigned to orders having 30-60-90-180-270-360 days from now\n",
    "# np.round([rv.pdf(3), rv.pdf(6), rv.pdf(9), rv.pdf(18), rv.pdf(27), rv.pdf(36)], 3) "
   ]
  },
  {
   "cell_type": "markdown",
   "metadata": {},
   "source": [
    "##### Orders - Purchasing Frequency"
   ]
  },
  {
   "cell_type": "code",
   "execution_count": null,
   "metadata": {},
   "outputs": [],
   "source": []
  },
  {
   "cell_type": "code",
   "execution_count": null,
   "metadata": {},
   "outputs": [],
   "source": []
  },
  {
   "cell_type": "markdown",
   "metadata": {},
   "source": [
    "##### Survivals"
   ]
  },
  {
   "cell_type": "code",
   "execution_count": null,
   "metadata": {},
   "outputs": [],
   "source": []
  },
  {
   "cell_type": "code",
   "execution_count": null,
   "metadata": {},
   "outputs": [],
   "source": []
  },
  {
   "cell_type": "markdown",
   "metadata": {},
   "source": [
    "##### Product Groups: PG2, PG3, PG4 - include article shops in the next future - "
   ]
  },
  {
   "cell_type": "code",
   "execution_count": null,
   "metadata": {},
   "outputs": [],
   "source": []
  },
  {
   "cell_type": "code",
   "execution_count": 10,
   "metadata": {
    "ExecuteTime": {
     "end_time": "2018-09-25T08:04:46.741278Z",
     "start_time": "2018-09-25T08:04:46.649250Z"
    }
   },
   "outputs": [],
   "source": [
    "main_pg_4_es = list(cus_attr[cus_attr['main_pg4_%_ord'] >= 0.50]['main_pg4'].value_counts().head(30).index.values)"
   ]
  },
  {
   "attachments": {
    "image.png": {
     "image/png": "[encoded data removed]"
    }
   },
   "cell_type": "markdown",
   "metadata": {},
   "source": [
    "<html><head>\n",
    "\n",
    "\n",
    "<!-- Load require.js. Delete this if your page already loads require.js -->\n",
    "<script src=\"https://cdnjs.cloudflare.com/ajax/libs/require.js/2.3.4/require.min.js\" integrity=\"sha256-Ae2Vz/4ePdIu6ZyI/5ZGsYnb+m0JlOmKPjt6XZ9JJkA=\" crossorigin=\"anonymous\"></script>\n",
    "<script src=\"https://unpkg.com/@jupyter-widgets/html-manager@*/dist/embed-amd.js\" crossorigin=\"anonymous\"></script>\n",
    "<script type=\"application/vnd.jupyter.widget-state+json\">\n",
    "{\n",
    "    \"version_major\": 2,\n",
    "    \"version_minor\": 0,\n",
    "    \"state\": {}\n",
    "}\n",
    "</script>\n",
    "</head>\n",
    "<body>\n",
    "\n",
    "\n",
    "</body>\n",
    "</html>\n",
    "![image.png](attachment:image.png)"
   ]
  },
  {
   "cell_type": "code",
   "execution_count": 11,
   "metadata": {
    "ExecuteTime": {
     "end_time": "2018-09-25T08:04:47.715535Z",
     "start_time": "2018-09-25T08:04:47.662519Z"
    }
   },
   "outputs": [
    {
     "data": {
      "text/html": [
       "<div>\n",
       "<style scoped>\n",
       "    .dataframe tbody tr th:only-of-type {\n",
       "        vertical-align: middle;\n",
       "    }\n",
       "\n",
       "    .dataframe tbody tr th {\n",
       "        vertical-align: top;\n",
       "    }\n",
       "\n",
       "    .dataframe thead th {\n",
       "        text-align: right;\n",
       "    }\n",
       "</style>\n",
       "<table border=\"1\" class=\"dataframe\">\n",
       "  <thead>\n",
       "    <tr style=\"text-align: right;\">\n",
       "      <th></th>\n",
       "      <th>basket_net_avg</th>\n",
       "      <th>total_net_sales</th>\n",
       "      <th>orders</th>\n",
       "      <th>mean_timedelta</th>\n",
       "      <th>median_timedelta</th>\n",
       "    </tr>\n",
       "    <tr>\n",
       "      <th>main_pg4</th>\n",
       "      <th></th>\n",
       "      <th></th>\n",
       "      <th></th>\n",
       "      <th></th>\n",
       "      <th></th>\n",
       "    </tr>\n",
       "  </thead>\n",
       "  <tbody>\n",
       "    <tr>\n",
       "      <th>55408</th>\n",
       "      <td>64.69</td>\n",
       "      <td>329110.47</td>\n",
       "      <td>5179</td>\n",
       "      <td>29.89</td>\n",
       "      <td>29.13</td>\n",
       "    </tr>\n",
       "    <tr>\n",
       "      <th>92</th>\n",
       "      <td>33.89</td>\n",
       "      <td>157464.47</td>\n",
       "      <td>4424</td>\n",
       "      <td>33.55</td>\n",
       "      <td>32.12</td>\n",
       "    </tr>\n",
       "    <tr>\n",
       "      <th>10618</th>\n",
       "      <td>66.04</td>\n",
       "      <td>303171.79</td>\n",
       "      <td>4648</td>\n",
       "      <td>36.21</td>\n",
       "      <td>34.44</td>\n",
       "    </tr>\n",
       "    <tr>\n",
       "      <th>851</th>\n",
       "      <td>56.41</td>\n",
       "      <td>218511.12</td>\n",
       "      <td>3922</td>\n",
       "      <td>36.31</td>\n",
       "      <td>35.34</td>\n",
       "    </tr>\n",
       "    <tr>\n",
       "      <th>2216</th>\n",
       "      <td>49.38</td>\n",
       "      <td>272945.07</td>\n",
       "      <td>5449</td>\n",
       "      <td>41.08</td>\n",
       "      <td>39.23</td>\n",
       "    </tr>\n",
       "    <tr>\n",
       "      <th>30936</th>\n",
       "      <td>55.15</td>\n",
       "      <td>330477.00</td>\n",
       "      <td>6003</td>\n",
       "      <td>52.76</td>\n",
       "      <td>51.30</td>\n",
       "    </tr>\n",
       "    <tr>\n",
       "      <th>2060</th>\n",
       "      <td>49.77</td>\n",
       "      <td>360166.06</td>\n",
       "      <td>7364</td>\n",
       "      <td>56.92</td>\n",
       "      <td>55.73</td>\n",
       "    </tr>\n",
       "    <tr>\n",
       "      <th>207615</th>\n",
       "      <td>44.89</td>\n",
       "      <td>532061.50</td>\n",
       "      <td>11475</td>\n",
       "      <td>58.65</td>\n",
       "      <td>57.72</td>\n",
       "    </tr>\n",
       "    <tr>\n",
       "      <th>719</th>\n",
       "      <td>58.90</td>\n",
       "      <td>2310542.18</td>\n",
       "      <td>37797</td>\n",
       "      <td>65.04</td>\n",
       "      <td>59.37</td>\n",
       "    </tr>\n",
       "    <tr>\n",
       "      <th>35825</th>\n",
       "      <td>64.68</td>\n",
       "      <td>3501626.43</td>\n",
       "      <td>52803</td>\n",
       "      <td>66.44</td>\n",
       "      <td>60.36</td>\n",
       "    </tr>\n",
       "    <tr>\n",
       "      <th>283</th>\n",
       "      <td>56.98</td>\n",
       "      <td>1088475.84</td>\n",
       "      <td>18580</td>\n",
       "      <td>67.01</td>\n",
       "      <td>61.51</td>\n",
       "    </tr>\n",
       "    <tr>\n",
       "      <th>128993</th>\n",
       "      <td>58.86</td>\n",
       "      <td>1034671.29</td>\n",
       "      <td>16929</td>\n",
       "      <td>67.33</td>\n",
       "      <td>62.85</td>\n",
       "    </tr>\n",
       "    <tr>\n",
       "      <th>81396</th>\n",
       "      <td>63.89</td>\n",
       "      <td>3655348.45</td>\n",
       "      <td>55704</td>\n",
       "      <td>67.42</td>\n",
       "      <td>63.05</td>\n",
       "    </tr>\n",
       "    <tr>\n",
       "      <th>255</th>\n",
       "      <td>56.89</td>\n",
       "      <td>2423391.24</td>\n",
       "      <td>41210</td>\n",
       "      <td>68.18</td>\n",
       "      <td>63.39</td>\n",
       "    </tr>\n",
       "    <tr>\n",
       "      <th>18245</th>\n",
       "      <td>63.95</td>\n",
       "      <td>1700358.41</td>\n",
       "      <td>26099</td>\n",
       "      <td>69.78</td>\n",
       "      <td>63.65</td>\n",
       "    </tr>\n",
       "    <tr>\n",
       "      <th>31962</th>\n",
       "      <td>70.63</td>\n",
       "      <td>4774677.96</td>\n",
       "      <td>66684</td>\n",
       "      <td>68.61</td>\n",
       "      <td>63.87</td>\n",
       "    </tr>\n",
       "    <tr>\n",
       "      <th>682</th>\n",
       "      <td>55.83</td>\n",
       "      <td>7921636.34</td>\n",
       "      <td>134362</td>\n",
       "      <td>69.51</td>\n",
       "      <td>64.12</td>\n",
       "    </tr>\n",
       "    <tr>\n",
       "      <th>17798</th>\n",
       "      <td>53.21</td>\n",
       "      <td>4252772.30</td>\n",
       "      <td>76984</td>\n",
       "      <td>70.66</td>\n",
       "      <td>65.50</td>\n",
       "    </tr>\n",
       "    <tr>\n",
       "      <th>71709</th>\n",
       "      <td>56.93</td>\n",
       "      <td>2345570.65</td>\n",
       "      <td>39800</td>\n",
       "      <td>71.12</td>\n",
       "      <td>66.07</td>\n",
       "    </tr>\n",
       "    <tr>\n",
       "      <th>754</th>\n",
       "      <td>61.26</td>\n",
       "      <td>1150987.50</td>\n",
       "      <td>18262</td>\n",
       "      <td>74.68</td>\n",
       "      <td>67.84</td>\n",
       "    </tr>\n",
       "    <tr>\n",
       "      <th>81397</th>\n",
       "      <td>52.94</td>\n",
       "      <td>2076027.76</td>\n",
       "      <td>37607</td>\n",
       "      <td>75.99</td>\n",
       "      <td>70.94</td>\n",
       "    </tr>\n",
       "    <tr>\n",
       "      <th>31963</th>\n",
       "      <td>53.43</td>\n",
       "      <td>2267447.58</td>\n",
       "      <td>40947</td>\n",
       "      <td>76.58</td>\n",
       "      <td>71.65</td>\n",
       "    </tr>\n",
       "    <tr>\n",
       "      <th>683</th>\n",
       "      <td>50.76</td>\n",
       "      <td>7402440.96</td>\n",
       "      <td>139394</td>\n",
       "      <td>77.09</td>\n",
       "      <td>71.69</td>\n",
       "    </tr>\n",
       "    <tr>\n",
       "      <th>394</th>\n",
       "      <td>44.54</td>\n",
       "      <td>585409.98</td>\n",
       "      <td>12197</td>\n",
       "      <td>77.61</td>\n",
       "      <td>73.79</td>\n",
       "    </tr>\n",
       "    <tr>\n",
       "      <th>207617</th>\n",
       "      <td>47.64</td>\n",
       "      <td>270965.94</td>\n",
       "      <td>5526</td>\n",
       "      <td>77.13</td>\n",
       "      <td>75.19</td>\n",
       "    </tr>\n",
       "    <tr>\n",
       "      <th>71977</th>\n",
       "      <td>48.32</td>\n",
       "      <td>1284018.05</td>\n",
       "      <td>24587</td>\n",
       "      <td>80.74</td>\n",
       "      <td>75.31</td>\n",
       "    </tr>\n",
       "    <tr>\n",
       "      <th>720</th>\n",
       "      <td>54.67</td>\n",
       "      <td>1102439.61</td>\n",
       "      <td>19691</td>\n",
       "      <td>81.14</td>\n",
       "      <td>76.48</td>\n",
       "    </tr>\n",
       "    <tr>\n",
       "      <th>71918</th>\n",
       "      <td>55.21</td>\n",
       "      <td>1190485.93</td>\n",
       "      <td>20625</td>\n",
       "      <td>83.86</td>\n",
       "      <td>77.89</td>\n",
       "    </tr>\n",
       "    <tr>\n",
       "      <th>81431</th>\n",
       "      <td>53.38</td>\n",
       "      <td>938179.58</td>\n",
       "      <td>17349</td>\n",
       "      <td>87.80</td>\n",
       "      <td>82.38</td>\n",
       "    </tr>\n",
       "    <tr>\n",
       "      <th>261925</th>\n",
       "      <td>51.87</td>\n",
       "      <td>1159976.03</td>\n",
       "      <td>21992</td>\n",
       "      <td>88.56</td>\n",
       "      <td>83.32</td>\n",
       "    </tr>\n",
       "  </tbody>\n",
       "</table>\n",
       "</div>"
      ],
      "text/plain": [
       "          basket_net_avg  total_net_sales  orders  mean_timedelta  \\\n",
       "main_pg4                                                            \n",
       "55408              64.69        329110.47    5179           29.89   \n",
       "92                 33.89        157464.47    4424           33.55   \n",
       "10618              66.04        303171.79    4648           36.21   \n",
       "851                56.41        218511.12    3922           36.31   \n",
       "2216               49.38        272945.07    5449           41.08   \n",
       "30936              55.15        330477.00    6003           52.76   \n",
       "2060               49.77        360166.06    7364           56.92   \n",
       "207615             44.89        532061.50   11475           58.65   \n",
       "719                58.90       2310542.18   37797           65.04   \n",
       "35825              64.68       3501626.43   52803           66.44   \n",
       "283                56.98       1088475.84   18580           67.01   \n",
       "128993             58.86       1034671.29   16929           67.33   \n",
       "81396              63.89       3655348.45   55704           67.42   \n",
       "255                56.89       2423391.24   41210           68.18   \n",
       "18245              63.95       1700358.41   26099           69.78   \n",
       "31962              70.63       4774677.96   66684           68.61   \n",
       "682                55.83       7921636.34  134362           69.51   \n",
       "17798              53.21       4252772.30   76984           70.66   \n",
       "71709              56.93       2345570.65   39800           71.12   \n",
       "754                61.26       1150987.50   18262           74.68   \n",
       "81397              52.94       2076027.76   37607           75.99   \n",
       "31963              53.43       2267447.58   40947           76.58   \n",
       "683                50.76       7402440.96  139394           77.09   \n",
       "394                44.54        585409.98   12197           77.61   \n",
       "207617             47.64        270965.94    5526           77.13   \n",
       "71977              48.32       1284018.05   24587           80.74   \n",
       "720                54.67       1102439.61   19691           81.14   \n",
       "71918              55.21       1190485.93   20625           83.86   \n",
       "81431              53.38        938179.58   17349           87.80   \n",
       "261925             51.87       1159976.03   21992           88.56   \n",
       "\n",
       "          median_timedelta  \n",
       "main_pg4                    \n",
       "55408                29.13  \n",
       "92                   32.12  \n",
       "10618                34.44  \n",
       "851                  35.34  \n",
       "2216                 39.23  \n",
       "30936                51.30  \n",
       "2060                 55.73  \n",
       "207615               57.72  \n",
       "719                  59.37  \n",
       "35825                60.36  \n",
       "283                  61.51  \n",
       "128993               62.85  \n",
       "81396                63.05  \n",
       "255                  63.39  \n",
       "18245                63.65  \n",
       "31962                63.87  \n",
       "682                  64.12  \n",
       "17798                65.50  \n",
       "71709                66.07  \n",
       "754                  67.84  \n",
       "81397                70.94  \n",
       "31963                71.65  \n",
       "683                  71.69  \n",
       "394                  73.79  \n",
       "207617               75.19  \n",
       "71977                75.31  \n",
       "720                  76.48  \n",
       "71918                77.89  \n",
       "81431                82.38  \n",
       "261925               83.32  "
      ]
     },
     "execution_count": 11,
     "metadata": {},
     "output_type": "execute_result"
    }
   ],
   "source": [
    "#basket avg, total net sales, orders, mean_timedelta avg, median_timedelta avg of the main PG4\n",
    "cus_attr.groupby('main_pg4').agg({'basket_net_avg': np.mean,\n",
    "                                  'total_net_sales': np.sum,\n",
    "                                  'orders': np.sum,\n",
    "                                  'mean_timedelta': np.mean,\n",
    "                                  'median_timedelta': np.mean\n",
    "                                 }).loc[main_pg_4_es].sort_values(by='median_timedelta').round(2)"
   ]
  },
  {
   "cell_type": "code",
   "execution_count": 65,
   "metadata": {
    "ExecuteTime": {
     "end_time": "2018-09-24T15:47:20.682131Z",
     "start_time": "2018-09-24T15:47:20.175114Z"
    }
   },
   "outputs": [
    {
     "data": {
      "image/png": "[encoded data removed]",
      "text/plain": [
       "<matplotlib.figure.Figure at 0x11d9d940>"
      ]
     },
     "metadata": {},
     "output_type": "display_data"
    }
   ],
   "source": [
    "sns.set()\n",
    "plt.figure(figsize=(16, 8))\n",
    "\n",
    "plt.subplot(221)\n",
    "cus_attr['total_net_sales'].hist(bins=40, range=(0, 800)) #Each bin has a range of 20€\n",
    "plt.xlabel('Net Sales')\n",
    "plt.ylabel('Number of customers')\n",
    "\n",
    "plt.subplot(222)\n",
    "cus_attr['orders'].hist(bins=30, range=(0, 30))\n",
    "plt.xlabel('Orders')\n",
    "\n",
    "plt.subplot(223)\n",
    "cus_attr['basket_net_avg'].hist(bins=15, range=(0, 150))\n",
    "plt.xlabel('Net Basket AVG')\n",
    "plt.ylabel('Number of customers')\n",
    "\n",
    "plt.subplot(224)\n",
    "cus_attr['median_timedelta'].hist(bins=36, range=(0, 365))\n",
    "plt.xlabel('Median timedelta between orders')\n",
    "\n",
    "plt.show()"
   ]
  },
  {
   "cell_type": "markdown",
   "metadata": {},
   "source": [
    "##### Web, web mobile, APP customers"
   ]
  },
  {
   "cell_type": "code",
   "execution_count": null,
   "metadata": {},
   "outputs": [],
   "source": []
  },
  {
   "cell_type": "code",
   "execution_count": null,
   "metadata": {},
   "outputs": [],
   "source": []
  },
  {
   "cell_type": "markdown",
   "metadata": {},
   "source": [
    "##### NL Subscribers"
   ]
  },
  {
   "cell_type": "code",
   "execution_count": null,
   "metadata": {},
   "outputs": [],
   "source": []
  },
  {
   "cell_type": "code",
   "execution_count": null,
   "metadata": {},
   "outputs": [],
   "source": []
  },
  {
   "cell_type": "code",
   "execution_count": null,
   "metadata": {},
   "outputs": [],
   "source": []
  }
 ],
 "metadata": {
  "hide_input": false,
  "kernelspec": {
   "display_name": "Python [default]",
   "language": "python",
   "name": "python3"
  },
  "language_info": {
   "codemirror_mode": {
    "name": "ipython",
    "version": 3
   },
   "file_extension": ".py",
   "mimetype": "text/x-python",
   "name": "python",
   "nbconvert_exporter": "python",
   "pygments_lexer": "ipython3",
   "version": "3.6.4"
  },
  "toc": {
   "base_numbering": 1,
   "nav_menu": {},
   "number_sections": true,
   "sideBar": true,
   "skip_h1_title": false,
   "title_cell": "Table of Contents",
   "title_sidebar": "Contents",
   "toc_cell": false,
   "toc_position": {},
   "toc_section_display": true,
   "toc_window_display": false
  },
  "varInspector": {
   "cols": {
    "lenName": 16,
    "lenType": 16,
    "lenVar": 40
   },
   "kernels_config": {
    "python": {
     "delete_cmd_postfix": "",
     "delete_cmd_prefix": "del ",
     "library": "var_list.py",
     "varRefreshCmd": "print(var_dic_list())"
    },
    "r": {
     "delete_cmd_postfix": ") ",
     "delete_cmd_prefix": "rm(",
     "library": "var_list.r",
     "varRefreshCmd": "cat(var_dic_list()) "
    }
   },
   "types_to_exclude": [
    "module",
    "function",
    "builtin_function_or_method",
    "instance",
    "_Feature"
   ],
   "window_display": false
  }
 },
 "nbformat": 4,
 "nbformat_minor": 2
}
