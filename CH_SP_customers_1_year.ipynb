{
 "cells": [
  {
   "cell_type": "raw",
   "metadata": {},
   "source": [
    "select CUS_N_KEY_CUSTOMER as CUSTOMER_ID, count (distinct SCM_N_ORDER_NR) as ORDERS,\n",
    "min(TDT_T_KEY_ORDER_DATE) as FIRST_ORDER_DATE, max(TDT_T_KEY_ORDER_DATE) as LAST_ORDER_DATE,\n",
    "sum(SCM_D_FINANCE_CM2) as TOTAL_CM2, sum(SCM_D_ORIG_FINANCE_ORDER_NET) as NET_SALES,\n",
    "case when sum(SCM_D_ORIG_FINANCE_ORDER_NET) = 0 then 0\n",
    "else ROUND(sum(SCM_D_FINANCE_CM2) / sum(SCM_D_ORIG_FINANCE_ORDER_NET) * 100, 2)  \n",
    "end as CM2_REL, avg(CZP_ZTQ_ID) as ZTQ_ID, max(CZP_START_DATE) as START_DATE, max(CZP_EXPIRY_DATE) as EXPIRY_DATE\n",
    "from \n",
    "(\n",
    "select \n",
    "scm.scm_n_order_pos_nr, scm.scm_n_order_nr, scm.tdt_t_key_order_date, scm.THR_C_KEY_ORDER_HOUR, scm.SIT_N_KEY_SITE,\n",
    "scm.CUS_N_KEY_CUSTOMER, scm.SCM_SALES_BMF, scm.SCM_SALES_CANCEL_BMF, scm.SCM_D_FINANCE_CM1, scm.SCM_D_FINANCE_CM2,\n",
    "scm.SCM_D_ORIG_FINANCE_ORDER_NET,scm.SCM_AP_ID, scm.SCM_AS_ID, scm.SCM_MASTER_AP_ID, scm.SCM_IS_ZSP_ORDER, \n",
    "scm.SCM_C_ORDER_STATUS, scm.CTP_N_KEY_CUSTOMER_TYPE, scm.SCM_OCI_LAND, scm.SCM_D_FC_ID, scm.SCM_D_PC_DSP, scm.SCM_FC_SPLIT,\n",
    "czp.CZP_START_DATE, czp.CZP_EXPIRY_DATE, czp.CZP_ZTQ_ID, czp.CZP_PERCENTAGE, czp.CZP_PRICE\n",
    "from zoocube.ddstf_scm_sales_contrib_margin scm\n",
    "left outer join ZOOMAN.CUSTOMERS_ZOOPRIME_PLANS czp\n",
    "on scm.CUS_N_KEY_CUSTOMER = czp.CZP_K_ID \n",
    "and czp.CZP_EXPIRY_DATE > to_date((to_char(TDT_T_KEY_ORDER_DATE, 'dd/mm/yyyy') ||' '|| THR_C_KEY_ORDER_HOUR), 'dd/mm/yyyy HH24:MI')\n",
    "and czp.CZP_START_DATE <= to_date((to_char(TDT_T_KEY_ORDER_DATE, 'dd/mm/yyyy') ||' '|| THR_C_KEY_ORDER_HOUR), 'dd/mm/yyyy HH24:MI')\n",
    "where ((TDT_T_KEY_ORDER_DATE >= to_date('01/06/17', 'DD/MM/YY') and TDT_T_KEY_ORDER_DATE <= to_date('31/05/18', 'DD/MM/YY')))\n",
    "and SIT_N_KEY_SITE = 25 \n",
    "and (scm.SCM_C_ORDER_STATUS = 'L' OR scm.SCM_C_ORDER_STATUS = 'VK')\n",
    ")\n",
    "--where SIT_N_KEY_SITE = 15\n",
    "--and (SCM_C_ORDER_STATUS = 'L' or SCM_C_ORDER_STATUS = 'VK')\n",
    "--and TDT_T_KEY_ORDER_DATE >= to_date('01/06/17', 'DD/MM/YY') and (TDT_T_KEY_ORDER_DATE <= to_date('01/06/17', 'DD/MM/YY'))\n",
    "group by CUS_N_KEY_CUSTOMER\n",
    "having avg(CZP_ZTQ_ID) IN (51, 52, 53, 54, 55, 56)\n",
    ";"
   ]
  },
  {
   "cell_type": "code",
   "execution_count": 1,
   "metadata": {
    "ExecuteTime": {
     "end_time": "2018-06-28T08:23:15.471632Z",
     "start_time": "2018-06-28T08:23:14.706638Z"
    }
   },
   "outputs": [],
   "source": [
    "import numpy as np\n",
    "import pandas as pd\n",
    "import matplotlib.pyplot as plt\n",
    "%matplotlib inline\n",
    "from IPython.display import display\n",
    "from scipy import stats"
   ]
  },
  {
   "cell_type": "code",
   "execution_count": 2,
   "metadata": {
    "ExecuteTime": {
     "end_time": "2018-06-28T08:23:15.549632Z",
     "start_time": "2018-06-28T08:23:15.471632Z"
    }
   },
   "outputs": [],
   "source": [
    "data = pd.read_csv('ch_sp_customers_1_year.dsv', sep=';', low_memory=False)"
   ]
  },
  {
   "cell_type": "code",
   "execution_count": 3,
   "metadata": {
    "ExecuteTime": {
     "end_time": "2018-06-28T08:23:15.570632Z",
     "start_time": "2018-06-28T08:23:15.550632Z"
    }
   },
   "outputs": [
    {
     "name": "stdout",
     "output_type": "stream",
     "text": [
      "<class 'pandas.core.frame.DataFrame'>\n",
      "RangeIndex: 24337 entries, 0 to 24336\n",
      "Data columns (total 10 columns):\n",
      "CUSTOMER_ID         24337 non-null int64\n",
      "ORDERS              24337 non-null int64\n",
      "FIRST_ORDER_DATE    24337 non-null object\n",
      "LAST_ORDER_DATE     24337 non-null object\n",
      "TOTAL_CM2           24337 non-null object\n",
      "NET_SALES           24337 non-null object\n",
      "CM2_REL             24337 non-null object\n",
      "ZTQ_ID              24337 non-null int64\n",
      "START_DATE          24337 non-null object\n",
      "EXPIRY_DATE         24337 non-null object\n",
      "dtypes: int64(3), object(7)\n",
      "memory usage: 1.9+ MB\n"
     ]
    }
   ],
   "source": [
    "data.info()"
   ]
  },
  {
   "cell_type": "code",
   "execution_count": 4,
   "metadata": {
    "ExecuteTime": {
     "end_time": "2018-06-28T08:23:15.602632Z",
     "start_time": "2018-06-28T08:23:15.572632Z"
    }
   },
   "outputs": [],
   "source": [
    "data['CM2_REL'] = [i.replace(',', '.') for i in data['CM2_REL']]\n",
    "data['NET_SALES'] = [i.replace(',', '.') for i in data['NET_SALES']]\n",
    "data['TOTAL_CM2'] = [i.replace(',', '.') for i in data['TOTAL_CM2']]"
   ]
  },
  {
   "cell_type": "code",
   "execution_count": 5,
   "metadata": {
    "ExecuteTime": {
     "end_time": "2018-06-28T08:23:15.639632Z",
     "start_time": "2018-06-28T08:23:15.604632Z"
    }
   },
   "outputs": [],
   "source": [
    "data[['TOTAL_CM2', 'NET_SALES', 'CM2_REL']] = data[['TOTAL_CM2', 'NET_SALES', 'CM2_REL']].astype(float)"
   ]
  },
  {
   "cell_type": "code",
   "execution_count": 6,
   "metadata": {
    "ExecuteTime": {
     "end_time": "2018-06-28T08:23:15.706632Z",
     "start_time": "2018-06-28T08:23:15.641632Z"
    }
   },
   "outputs": [],
   "source": [
    "data['FIRST_ORDER_DATE'] = pd.to_datetime(data['FIRST_ORDER_DATE'], format='%d/%m/%y')"
   ]
  },
  {
   "cell_type": "code",
   "execution_count": 7,
   "metadata": {
    "ExecuteTime": {
     "end_time": "2018-06-28T08:23:15.779632Z",
     "start_time": "2018-06-28T08:23:15.707632Z"
    }
   },
   "outputs": [],
   "source": [
    "data['LAST_ORDER_DATE'] = pd.to_datetime(data['LAST_ORDER_DATE'], format='%d/%m/%y')"
   ]
  },
  {
   "cell_type": "code",
   "execution_count": 8,
   "metadata": {
    "ExecuteTime": {
     "end_time": "2018-06-28T08:23:15.855632Z",
     "start_time": "2018-06-28T08:23:15.780632Z"
    }
   },
   "outputs": [],
   "source": [
    "data['START_DATE'] = pd.to_datetime(data['START_DATE'], format='%d/%m/%y')"
   ]
  },
  {
   "cell_type": "code",
   "execution_count": 9,
   "metadata": {
    "ExecuteTime": {
     "end_time": "2018-06-28T08:23:15.926632Z",
     "start_time": "2018-06-28T08:23:15.856632Z"
    }
   },
   "outputs": [],
   "source": [
    "data['EXPIRY_DATE'] = pd.to_datetime(data['EXPIRY_DATE'], format='%d/%m/%y')"
   ]
  },
  {
   "cell_type": "code",
   "execution_count": 10,
   "metadata": {
    "ExecuteTime": {
     "end_time": "2018-06-28T08:23:15.952632Z",
     "start_time": "2018-06-28T08:23:15.927632Z"
    }
   },
   "outputs": [
    {
     "data": {
      "text/html": [
       "<div>\n",
       "<style scoped>\n",
       "    .dataframe tbody tr th:only-of-type {\n",
       "        vertical-align: middle;\n",
       "    }\n",
       "\n",
       "    .dataframe tbody tr th {\n",
       "        vertical-align: top;\n",
       "    }\n",
       "\n",
       "    .dataframe thead th {\n",
       "        text-align: right;\n",
       "    }\n",
       "</style>\n",
       "<table border=\"1\" class=\"dataframe\">\n",
       "  <thead>\n",
       "    <tr style=\"text-align: right;\">\n",
       "      <th></th>\n",
       "      <th>CUSTOMER_ID</th>\n",
       "      <th>ORDERS</th>\n",
       "      <th>FIRST_ORDER_DATE</th>\n",
       "      <th>LAST_ORDER_DATE</th>\n",
       "      <th>TOTAL_CM2</th>\n",
       "      <th>NET_SALES</th>\n",
       "      <th>CM2_REL</th>\n",
       "      <th>ZTQ_ID</th>\n",
       "      <th>START_DATE</th>\n",
       "      <th>EXPIRY_DATE</th>\n",
       "    </tr>\n",
       "  </thead>\n",
       "  <tbody>\n",
       "    <tr>\n",
       "      <th>0</th>\n",
       "      <td>3496607</td>\n",
       "      <td>13</td>\n",
       "      <td>2017-06-18</td>\n",
       "      <td>2018-04-28</td>\n",
       "      <td>323.8149</td>\n",
       "      <td>928.3475</td>\n",
       "      <td>34.88</td>\n",
       "      <td>52</td>\n",
       "      <td>2017-08-13</td>\n",
       "      <td>2020-08-13</td>\n",
       "    </tr>\n",
       "    <tr>\n",
       "      <th>1</th>\n",
       "      <td>9290374</td>\n",
       "      <td>23</td>\n",
       "      <td>2017-06-01</td>\n",
       "      <td>2018-05-28</td>\n",
       "      <td>165.9035</td>\n",
       "      <td>1341.1022</td>\n",
       "      <td>12.37</td>\n",
       "      <td>52</td>\n",
       "      <td>2017-07-27</td>\n",
       "      <td>2020-08-24</td>\n",
       "    </tr>\n",
       "    <tr>\n",
       "      <th>2</th>\n",
       "      <td>7460546</td>\n",
       "      <td>8</td>\n",
       "      <td>2017-06-23</td>\n",
       "      <td>2018-05-15</td>\n",
       "      <td>125.5485</td>\n",
       "      <td>678.9839</td>\n",
       "      <td>18.49</td>\n",
       "      <td>52</td>\n",
       "      <td>2014-08-30</td>\n",
       "      <td>2017-08-30</td>\n",
       "    </tr>\n",
       "    <tr>\n",
       "      <th>3</th>\n",
       "      <td>7404461</td>\n",
       "      <td>9</td>\n",
       "      <td>2017-07-21</td>\n",
       "      <td>2018-05-01</td>\n",
       "      <td>117.4960</td>\n",
       "      <td>608.5094</td>\n",
       "      <td>19.31</td>\n",
       "      <td>54</td>\n",
       "      <td>2018-01-22</td>\n",
       "      <td>2021-01-22</td>\n",
       "    </tr>\n",
       "    <tr>\n",
       "      <th>4</th>\n",
       "      <td>7732773</td>\n",
       "      <td>3</td>\n",
       "      <td>2017-06-23</td>\n",
       "      <td>2018-03-01</td>\n",
       "      <td>69.1251</td>\n",
       "      <td>212.9312</td>\n",
       "      <td>32.46</td>\n",
       "      <td>52</td>\n",
       "      <td>2017-11-01</td>\n",
       "      <td>2020-11-27</td>\n",
       "    </tr>\n",
       "  </tbody>\n",
       "</table>\n",
       "</div>"
      ],
      "text/plain": [
       "   CUSTOMER_ID  ORDERS FIRST_ORDER_DATE LAST_ORDER_DATE  TOTAL_CM2  NET_SALES  \\\n",
       "0      3496607      13       2017-06-18      2018-04-28   323.8149   928.3475   \n",
       "1      9290374      23       2017-06-01      2018-05-28   165.9035  1341.1022   \n",
       "2      7460546       8       2017-06-23      2018-05-15   125.5485   678.9839   \n",
       "3      7404461       9       2017-07-21      2018-05-01   117.4960   608.5094   \n",
       "4      7732773       3       2017-06-23      2018-03-01    69.1251   212.9312   \n",
       "\n",
       "   CM2_REL  ZTQ_ID START_DATE EXPIRY_DATE  \n",
       "0    34.88      52 2017-08-13  2020-08-13  \n",
       "1    12.37      52 2017-07-27  2020-08-24  \n",
       "2    18.49      52 2014-08-30  2017-08-30  \n",
       "3    19.31      54 2018-01-22  2021-01-22  \n",
       "4    32.46      52 2017-11-01  2020-11-27  "
      ]
     },
     "execution_count": 10,
     "metadata": {},
     "output_type": "execute_result"
    }
   ],
   "source": [
    "data.head()"
   ]
  },
  {
   "cell_type": "code",
   "execution_count": 11,
   "metadata": {
    "ExecuteTime": {
     "end_time": "2018-06-28T08:23:15.965632Z",
     "start_time": "2018-06-28T08:23:15.954632Z"
    }
   },
   "outputs": [],
   "source": [
    "tiers = [51, 52, 53, 54, 55, 56]"
   ]
  },
  {
   "cell_type": "code",
   "execution_count": 12,
   "metadata": {
    "ExecuteTime": {
     "end_time": "2018-06-28T08:23:18.495621Z",
     "start_time": "2018-06-28T08:23:15.967632Z"
    },
    "scrolled": false
   },
   "outputs": [
    {
     "name": "stdout",
     "output_type": "stream",
     "text": [
      "...........................................................TIER  51 ..........................................................\n"
     ]
    },
    {
     "data": {
      "image/png": "[encoded data removed]",
      "text/plain": [
       "<matplotlib.figure.Figure at 0xb238cc0>"
      ]
     },
     "metadata": {},
     "output_type": "display_data"
    },
    {
     "data": {
      "text/html": [
       "<div>\n",
       "<style scoped>\n",
       "    .dataframe tbody tr th:only-of-type {\n",
       "        vertical-align: middle;\n",
       "    }\n",
       "\n",
       "    .dataframe tbody tr th {\n",
       "        vertical-align: top;\n",
       "    }\n",
       "\n",
       "    .dataframe thead th {\n",
       "        text-align: right;\n",
       "    }\n",
       "</style>\n",
       "<table border=\"1\" class=\"dataframe\">\n",
       "  <thead>\n",
       "    <tr style=\"text-align: right;\">\n",
       "      <th></th>\n",
       "      <th>CM2_REL</th>\n",
       "    </tr>\n",
       "  </thead>\n",
       "  <tbody>\n",
       "    <tr>\n",
       "      <th>count</th>\n",
       "      <td>4600.00</td>\n",
       "    </tr>\n",
       "    <tr>\n",
       "      <th>mean</th>\n",
       "      <td>26.72</td>\n",
       "    </tr>\n",
       "    <tr>\n",
       "      <th>std</th>\n",
       "      <td>7.12</td>\n",
       "    </tr>\n",
       "    <tr>\n",
       "      <th>min</th>\n",
       "      <td>-79.09</td>\n",
       "    </tr>\n",
       "    <tr>\n",
       "      <th>25%</th>\n",
       "      <td>22.32</td>\n",
       "    </tr>\n",
       "    <tr>\n",
       "      <th>50%</th>\n",
       "      <td>26.52</td>\n",
       "    </tr>\n",
       "    <tr>\n",
       "      <th>75%</th>\n",
       "      <td>31.00</td>\n",
       "    </tr>\n",
       "    <tr>\n",
       "      <th>max</th>\n",
       "      <td>53.78</td>\n",
       "    </tr>\n",
       "  </tbody>\n",
       "</table>\n",
       "</div>"
      ],
      "text/plain": [
       "       CM2_REL\n",
       "count  4600.00\n",
       "mean     26.72\n",
       "std       7.12\n",
       "min     -79.09\n",
       "25%      22.32\n",
       "50%      26.52\n",
       "75%      31.00\n",
       "max      53.78"
      ]
     },
     "metadata": {},
     "output_type": "display_data"
    },
    {
     "name": "stdout",
     "output_type": "stream",
     "text": [
      "CM2% threshold >= 5  is the percentile 0.2\n",
      "CM2% threshold >= 7  is the percentile 0.33\n",
      "CM2% threshold >=  23.21  is the percentile 30 allowing us to stay with the 70% of our sample\n"
     ]
    },
    {
     "data": {
      "image/png": "[encoded data removed]",
      "text/plain": [
       "<matplotlib.figure.Figure at 0xb53e6a0>"
      ]
     },
     "metadata": {},
     "output_type": "display_data"
    },
    {
     "data": {
      "text/html": [
       "<div>\n",
       "<style scoped>\n",
       "    .dataframe tbody tr th:only-of-type {\n",
       "        vertical-align: middle;\n",
       "    }\n",
       "\n",
       "    .dataframe tbody tr th {\n",
       "        vertical-align: top;\n",
       "    }\n",
       "\n",
       "    .dataframe thead th {\n",
       "        text-align: right;\n",
       "    }\n",
       "</style>\n",
       "<table border=\"1\" class=\"dataframe\">\n",
       "  <thead>\n",
       "    <tr style=\"text-align: right;\">\n",
       "      <th></th>\n",
       "      <th>ORDERS</th>\n",
       "    </tr>\n",
       "  </thead>\n",
       "  <tbody>\n",
       "    <tr>\n",
       "      <th>count</th>\n",
       "      <td>4600.00</td>\n",
       "    </tr>\n",
       "    <tr>\n",
       "      <th>mean</th>\n",
       "      <td>5.91</td>\n",
       "    </tr>\n",
       "    <tr>\n",
       "      <th>std</th>\n",
       "      <td>4.12</td>\n",
       "    </tr>\n",
       "    <tr>\n",
       "      <th>min</th>\n",
       "      <td>1.00</td>\n",
       "    </tr>\n",
       "    <tr>\n",
       "      <th>25%</th>\n",
       "      <td>3.00</td>\n",
       "    </tr>\n",
       "    <tr>\n",
       "      <th>50%</th>\n",
       "      <td>5.00</td>\n",
       "    </tr>\n",
       "    <tr>\n",
       "      <th>75%</th>\n",
       "      <td>8.00</td>\n",
       "    </tr>\n",
       "    <tr>\n",
       "      <th>max</th>\n",
       "      <td>70.00</td>\n",
       "    </tr>\n",
       "  </tbody>\n",
       "</table>\n",
       "</div>"
      ],
      "text/plain": [
       "        ORDERS\n",
       "count  4600.00\n",
       "mean      5.91\n",
       "std       4.12\n",
       "min       1.00\n",
       "25%       3.00\n",
       "50%       5.00\n",
       "75%       8.00\n",
       "max      70.00"
      ]
     },
     "metadata": {},
     "output_type": "display_data"
    },
    {
     "name": "stdout",
     "output_type": "stream",
     "text": [
      "4.0  is the percentile 30 allowing us to stay with the 70% of our sample\n",
      "                                                                                                                    \n",
      "With CM2% threshold >= 5 and Orders >=  4.0  we keep eligible a  71.17  % from our customers\n",
      "With CM2% threshold >= 7 and Orders >=  4.0  we keep eligible a  71.13  % from our customers\n",
      "With CM2% threshold >=  23.21  and Orders >=  4.0  we keep eligible a  50.61  % from our customers\n",
      "                                                                                                                    \n",
      "                                                                                                                    \n",
      "...........................................................TIER  52 ..........................................................\n"
     ]
    },
    {
     "data": {
      "image/png": "[encoded data removed]",
      "text/plain": [
       "<matplotlib.figure.Figure at 0xb448588>"
      ]
     },
     "metadata": {},
     "output_type": "display_data"
    },
    {
     "data": {
      "text/html": [
       "<div>\n",
       "<style scoped>\n",
       "    .dataframe tbody tr th:only-of-type {\n",
       "        vertical-align: middle;\n",
       "    }\n",
       "\n",
       "    .dataframe tbody tr th {\n",
       "        vertical-align: top;\n",
       "    }\n",
       "\n",
       "    .dataframe thead th {\n",
       "        text-align: right;\n",
       "    }\n",
       "</style>\n",
       "<table border=\"1\" class=\"dataframe\">\n",
       "  <thead>\n",
       "    <tr style=\"text-align: right;\">\n",
       "      <th></th>\n",
       "      <th>CM2_REL</th>\n",
       "    </tr>\n",
       "  </thead>\n",
       "  <tbody>\n",
       "    <tr>\n",
       "      <th>count</th>\n",
       "      <td>4310.00</td>\n",
       "    </tr>\n",
       "    <tr>\n",
       "      <th>mean</th>\n",
       "      <td>26.31</td>\n",
       "    </tr>\n",
       "    <tr>\n",
       "      <th>std</th>\n",
       "      <td>7.50</td>\n",
       "    </tr>\n",
       "    <tr>\n",
       "      <th>min</th>\n",
       "      <td>-17.09</td>\n",
       "    </tr>\n",
       "    <tr>\n",
       "      <th>25%</th>\n",
       "      <td>21.44</td>\n",
       "    </tr>\n",
       "    <tr>\n",
       "      <th>50%</th>\n",
       "      <td>26.30</td>\n",
       "    </tr>\n",
       "    <tr>\n",
       "      <th>75%</th>\n",
       "      <td>31.08</td>\n",
       "    </tr>\n",
       "    <tr>\n",
       "      <th>max</th>\n",
       "      <td>57.20</td>\n",
       "    </tr>\n",
       "  </tbody>\n",
       "</table>\n",
       "</div>"
      ],
      "text/plain": [
       "       CM2_REL\n",
       "count  4310.00\n",
       "mean     26.31\n",
       "std       7.50\n",
       "min     -17.09\n",
       "25%      21.44\n",
       "50%      26.30\n",
       "75%      31.08\n",
       "max      57.20"
      ]
     },
     "metadata": {},
     "output_type": "display_data"
    },
    {
     "name": "stdout",
     "output_type": "stream",
     "text": [
      "CM2% threshold >= 5  is the percentile 0.39\n",
      "CM2% threshold >= 7  is the percentile 0.7\n",
      "CM2% threshold >=  22.5  is the percentile 30 allowing us to stay with the 70% of our sample\n"
     ]
    },
    {
     "data": {
      "image/png": "[encoded data removed]",
      "text/plain": [
       "<matplotlib.figure.Figure at 0xb840550>"
      ]
     },
     "metadata": {},
     "output_type": "display_data"
    },
    {
     "data": {
      "text/html": [
       "<div>\n",
       "<style scoped>\n",
       "    .dataframe tbody tr th:only-of-type {\n",
       "        vertical-align: middle;\n",
       "    }\n",
       "\n",
       "    .dataframe tbody tr th {\n",
       "        vertical-align: top;\n",
       "    }\n",
       "\n",
       "    .dataframe thead th {\n",
       "        text-align: right;\n",
       "    }\n",
       "</style>\n",
       "<table border=\"1\" class=\"dataframe\">\n",
       "  <thead>\n",
       "    <tr style=\"text-align: right;\">\n",
       "      <th></th>\n",
       "      <th>ORDERS</th>\n",
       "    </tr>\n",
       "  </thead>\n",
       "  <tbody>\n",
       "    <tr>\n",
       "      <th>count</th>\n",
       "      <td>4310.00</td>\n",
       "    </tr>\n",
       "    <tr>\n",
       "      <th>mean</th>\n",
       "      <td>5.70</td>\n",
       "    </tr>\n",
       "    <tr>\n",
       "      <th>std</th>\n",
       "      <td>4.43</td>\n",
       "    </tr>\n",
       "    <tr>\n",
       "      <th>min</th>\n",
       "      <td>1.00</td>\n",
       "    </tr>\n",
       "    <tr>\n",
       "      <th>25%</th>\n",
       "      <td>3.00</td>\n",
       "    </tr>\n",
       "    <tr>\n",
       "      <th>50%</th>\n",
       "      <td>5.00</td>\n",
       "    </tr>\n",
       "    <tr>\n",
       "      <th>75%</th>\n",
       "      <td>7.00</td>\n",
       "    </tr>\n",
       "    <tr>\n",
       "      <th>max</th>\n",
       "      <td>91.00</td>\n",
       "    </tr>\n",
       "  </tbody>\n",
       "</table>\n",
       "</div>"
      ],
      "text/plain": [
       "        ORDERS\n",
       "count  4310.00\n",
       "mean      5.70\n",
       "std       4.43\n",
       "min       1.00\n",
       "25%       3.00\n",
       "50%       5.00\n",
       "75%       7.00\n",
       "max      91.00"
      ]
     },
     "metadata": {},
     "output_type": "display_data"
    },
    {
     "name": "stdout",
     "output_type": "stream",
     "text": [
      "3.0  is the percentile 30 allowing us to stay with the 70% of our sample\n",
      "                                                                                                                    \n",
      "With CM2% threshold >= 5 and Orders >=  3.0  we keep eligible a  79.44  % from our customers\n",
      "With CM2% threshold >= 7 and Orders >=  3.0  we keep eligible a  79.33  % from our customers\n",
      "With CM2% threshold >=  22.5  and Orders >=  3.0  we keep eligible a  56.52  % from our customers\n",
      "                                                                                                                    \n",
      "                                                                                                                    \n",
      "...........................................................TIER  53 ..........................................................\n"
     ]
    },
    {
     "data": {
      "image/png": "[encoded data removed]",
      "text/plain": [
       "<matplotlib.figure.Figure at 0xb829ac8>"
      ]
     },
     "metadata": {},
     "output_type": "display_data"
    },
    {
     "data": {
      "text/html": [
       "<div>\n",
       "<style scoped>\n",
       "    .dataframe tbody tr th:only-of-type {\n",
       "        vertical-align: middle;\n",
       "    }\n",
       "\n",
       "    .dataframe tbody tr th {\n",
       "        vertical-align: top;\n",
       "    }\n",
       "\n",
       "    .dataframe thead th {\n",
       "        text-align: right;\n",
       "    }\n",
       "</style>\n",
       "<table border=\"1\" class=\"dataframe\">\n",
       "  <thead>\n",
       "    <tr style=\"text-align: right;\">\n",
       "      <th></th>\n",
       "      <th>CM2_REL</th>\n",
       "    </tr>\n",
       "  </thead>\n",
       "  <tbody>\n",
       "    <tr>\n",
       "      <th>count</th>\n",
       "      <td>3969.00</td>\n",
       "    </tr>\n",
       "    <tr>\n",
       "      <th>mean</th>\n",
       "      <td>29.74</td>\n",
       "    </tr>\n",
       "    <tr>\n",
       "      <th>std</th>\n",
       "      <td>15.61</td>\n",
       "    </tr>\n",
       "    <tr>\n",
       "      <th>min</th>\n",
       "      <td>-824.28</td>\n",
       "    </tr>\n",
       "    <tr>\n",
       "      <th>25%</th>\n",
       "      <td>25.04</td>\n",
       "    </tr>\n",
       "    <tr>\n",
       "      <th>50%</th>\n",
       "      <td>30.11</td>\n",
       "    </tr>\n",
       "    <tr>\n",
       "      <th>75%</th>\n",
       "      <td>35.06</td>\n",
       "    </tr>\n",
       "    <tr>\n",
       "      <th>max</th>\n",
       "      <td>59.51</td>\n",
       "    </tr>\n",
       "  </tbody>\n",
       "</table>\n",
       "</div>"
      ],
      "text/plain": [
       "       CM2_REL\n",
       "count  3969.00\n",
       "mean     29.74\n",
       "std      15.61\n",
       "min    -824.28\n",
       "25%      25.04\n",
       "50%      30.11\n",
       "75%      35.06\n",
       "max      59.51"
      ]
     },
     "metadata": {},
     "output_type": "display_data"
    },
    {
     "name": "stdout",
     "output_type": "stream",
     "text": [
      "CM2% threshold >= 5  is the percentile 0.3\n",
      "CM2% threshold >= 7  is the percentile 0.5\n",
      "CM2% threshold >=  26.194  is the percentile 30 allowing us to stay with the 70% of our sample\n"
     ]
    },
    {
     "data": {
      "image/png": "[encoded data removed]",
      "text/plain": [
       "<matplotlib.figure.Figure at 0xb696b00>"
      ]
     },
     "metadata": {},
     "output_type": "display_data"
    },
    {
     "data": {
      "text/html": [
       "<div>\n",
       "<style scoped>\n",
       "    .dataframe tbody tr th:only-of-type {\n",
       "        vertical-align: middle;\n",
       "    }\n",
       "\n",
       "    .dataframe tbody tr th {\n",
       "        vertical-align: top;\n",
       "    }\n",
       "\n",
       "    .dataframe thead th {\n",
       "        text-align: right;\n",
       "    }\n",
       "</style>\n",
       "<table border=\"1\" class=\"dataframe\">\n",
       "  <thead>\n",
       "    <tr style=\"text-align: right;\">\n",
       "      <th></th>\n",
       "      <th>ORDERS</th>\n",
       "    </tr>\n",
       "  </thead>\n",
       "  <tbody>\n",
       "    <tr>\n",
       "      <th>count</th>\n",
       "      <td>3969.00</td>\n",
       "    </tr>\n",
       "    <tr>\n",
       "      <th>mean</th>\n",
       "      <td>5.72</td>\n",
       "    </tr>\n",
       "    <tr>\n",
       "      <th>std</th>\n",
       "      <td>4.15</td>\n",
       "    </tr>\n",
       "    <tr>\n",
       "      <th>min</th>\n",
       "      <td>1.00</td>\n",
       "    </tr>\n",
       "    <tr>\n",
       "      <th>25%</th>\n",
       "      <td>3.00</td>\n",
       "    </tr>\n",
       "    <tr>\n",
       "      <th>50%</th>\n",
       "      <td>5.00</td>\n",
       "    </tr>\n",
       "    <tr>\n",
       "      <th>75%</th>\n",
       "      <td>7.00</td>\n",
       "    </tr>\n",
       "    <tr>\n",
       "      <th>max</th>\n",
       "      <td>39.00</td>\n",
       "    </tr>\n",
       "  </tbody>\n",
       "</table>\n",
       "</div>"
      ],
      "text/plain": [
       "        ORDERS\n",
       "count  3969.00\n",
       "mean      5.72\n",
       "std       4.15\n",
       "min       1.00\n",
       "25%       3.00\n",
       "50%       5.00\n",
       "75%       7.00\n",
       "max      39.00"
      ]
     },
     "metadata": {},
     "output_type": "display_data"
    },
    {
     "name": "stdout",
     "output_type": "stream",
     "text": [
      "3.0  is the percentile 30 allowing us to stay with the 70% of our sample\n",
      "                                                                                                                    \n",
      "With CM2% threshold >= 5 and Orders >=  3.0  we keep eligible a  80.22  % from our customers\n",
      "With CM2% threshold >= 7 and Orders >=  3.0  we keep eligible a  80.2  % from our customers\n",
      "With CM2% threshold >=  26.194  and Orders >=  3.0  we keep eligible a  57.7  % from our customers\n",
      "                                                                                                                    \n",
      "                                                                                                                    \n",
      "...........................................................TIER  54 ..........................................................\n"
     ]
    },
    {
     "data": {
      "image/png": "[encoded data removed]",
      "text/plain": [
       "<matplotlib.figure.Figure at 0xb800a90>"
      ]
     },
     "metadata": {},
     "output_type": "display_data"
    },
    {
     "data": {
      "text/html": [
       "<div>\n",
       "<style scoped>\n",
       "    .dataframe tbody tr th:only-of-type {\n",
       "        vertical-align: middle;\n",
       "    }\n",
       "\n",
       "    .dataframe tbody tr th {\n",
       "        vertical-align: top;\n",
       "    }\n",
       "\n",
       "    .dataframe thead th {\n",
       "        text-align: right;\n",
       "    }\n",
       "</style>\n",
       "<table border=\"1\" class=\"dataframe\">\n",
       "  <thead>\n",
       "    <tr style=\"text-align: right;\">\n",
       "      <th></th>\n",
       "      <th>CM2_REL</th>\n",
       "    </tr>\n",
       "  </thead>\n",
       "  <tbody>\n",
       "    <tr>\n",
       "      <th>count</th>\n",
       "      <td>5466.00</td>\n",
       "    </tr>\n",
       "    <tr>\n",
       "      <th>mean</th>\n",
       "      <td>27.31</td>\n",
       "    </tr>\n",
       "    <tr>\n",
       "      <th>std</th>\n",
       "      <td>8.24</td>\n",
       "    </tr>\n",
       "    <tr>\n",
       "      <th>min</th>\n",
       "      <td>-22.20</td>\n",
       "    </tr>\n",
       "    <tr>\n",
       "      <th>25%</th>\n",
       "      <td>21.89</td>\n",
       "    </tr>\n",
       "    <tr>\n",
       "      <th>50%</th>\n",
       "      <td>27.17</td>\n",
       "    </tr>\n",
       "    <tr>\n",
       "      <th>75%</th>\n",
       "      <td>32.56</td>\n",
       "    </tr>\n",
       "    <tr>\n",
       "      <th>max</th>\n",
       "      <td>69.97</td>\n",
       "    </tr>\n",
       "  </tbody>\n",
       "</table>\n",
       "</div>"
      ],
      "text/plain": [
       "       CM2_REL\n",
       "count  5466.00\n",
       "mean     27.31\n",
       "std       8.24\n",
       "min     -22.20\n",
       "25%      21.89\n",
       "50%      27.17\n",
       "75%      32.56\n",
       "max      69.97"
      ]
     },
     "metadata": {},
     "output_type": "display_data"
    },
    {
     "name": "stdout",
     "output_type": "stream",
     "text": [
      "CM2% threshold >= 5  is the percentile 0.49\n",
      "CM2% threshold >= 7  is the percentile 0.82\n",
      "CM2% threshold >=  23.115000000000002  is the percentile 30 allowing us to stay with the 70% of our sample\n"
     ]
    },
    {
     "data": {
      "image/png": "[encoded data removed]",
      "text/plain": [
       "<matplotlib.figure.Figure at 0xb8e8400>"
      ]
     },
     "metadata": {},
     "output_type": "display_data"
    },
    {
     "data": {
      "text/html": [
       "<div>\n",
       "<style scoped>\n",
       "    .dataframe tbody tr th:only-of-type {\n",
       "        vertical-align: middle;\n",
       "    }\n",
       "\n",
       "    .dataframe tbody tr th {\n",
       "        vertical-align: top;\n",
       "    }\n",
       "\n",
       "    .dataframe thead th {\n",
       "        text-align: right;\n",
       "    }\n",
       "</style>\n",
       "<table border=\"1\" class=\"dataframe\">\n",
       "  <thead>\n",
       "    <tr style=\"text-align: right;\">\n",
       "      <th></th>\n",
       "      <th>ORDERS</th>\n",
       "    </tr>\n",
       "  </thead>\n",
       "  <tbody>\n",
       "    <tr>\n",
       "      <th>count</th>\n",
       "      <td>5466.00</td>\n",
       "    </tr>\n",
       "    <tr>\n",
       "      <th>mean</th>\n",
       "      <td>5.76</td>\n",
       "    </tr>\n",
       "    <tr>\n",
       "      <th>std</th>\n",
       "      <td>4.50</td>\n",
       "    </tr>\n",
       "    <tr>\n",
       "      <th>min</th>\n",
       "      <td>1.00</td>\n",
       "    </tr>\n",
       "    <tr>\n",
       "      <th>25%</th>\n",
       "      <td>3.00</td>\n",
       "    </tr>\n",
       "    <tr>\n",
       "      <th>50%</th>\n",
       "      <td>5.00</td>\n",
       "    </tr>\n",
       "    <tr>\n",
       "      <th>75%</th>\n",
       "      <td>7.00</td>\n",
       "    </tr>\n",
       "    <tr>\n",
       "      <th>max</th>\n",
       "      <td>68.00</td>\n",
       "    </tr>\n",
       "  </tbody>\n",
       "</table>\n",
       "</div>"
      ],
      "text/plain": [
       "        ORDERS\n",
       "count  5466.00\n",
       "mean      5.76\n",
       "std       4.50\n",
       "min       1.00\n",
       "25%       3.00\n",
       "50%       5.00\n",
       "75%       7.00\n",
       "max      68.00"
      ]
     },
     "metadata": {},
     "output_type": "display_data"
    },
    {
     "name": "stdout",
     "output_type": "stream",
     "text": [
      "3.0  is the percentile 30 allowing us to stay with the 70% of our sample\n",
      "                                                                                                                    \n",
      "With CM2% threshold >= 5 and Orders >=  3.0  we keep eligible a  78.76  % from our customers\n",
      "With CM2% threshold >= 7 and Orders >=  3.0  we keep eligible a  78.54  % from our customers\n",
      "With CM2% threshold >=  23.115000000000002  and Orders >=  3.0  we keep eligible a  56.4  % from our customers\n",
      "                                                                                                                    \n",
      "                                                                                                                    \n",
      "...........................................................TIER  55 ..........................................................\n"
     ]
    },
    {
     "data": {
      "image/png": "[encoded data removed]",
      "text/plain": [
       "<matplotlib.figure.Figure at 0xbc3f278>"
      ]
     },
     "metadata": {},
     "output_type": "display_data"
    },
    {
     "data": {
      "text/html": [
       "<div>\n",
       "<style scoped>\n",
       "    .dataframe tbody tr th:only-of-type {\n",
       "        vertical-align: middle;\n",
       "    }\n",
       "\n",
       "    .dataframe tbody tr th {\n",
       "        vertical-align: top;\n",
       "    }\n",
       "\n",
       "    .dataframe thead th {\n",
       "        text-align: right;\n",
       "    }\n",
       "</style>\n",
       "<table border=\"1\" class=\"dataframe\">\n",
       "  <thead>\n",
       "    <tr style=\"text-align: right;\">\n",
       "      <th></th>\n",
       "      <th>CM2_REL</th>\n",
       "    </tr>\n",
       "  </thead>\n",
       "  <tbody>\n",
       "    <tr>\n",
       "      <th>count</th>\n",
       "      <td>441.00</td>\n",
       "    </tr>\n",
       "    <tr>\n",
       "      <th>mean</th>\n",
       "      <td>27.43</td>\n",
       "    </tr>\n",
       "    <tr>\n",
       "      <th>std</th>\n",
       "      <td>8.21</td>\n",
       "    </tr>\n",
       "    <tr>\n",
       "      <th>min</th>\n",
       "      <td>-7.32</td>\n",
       "    </tr>\n",
       "    <tr>\n",
       "      <th>25%</th>\n",
       "      <td>22.43</td>\n",
       "    </tr>\n",
       "    <tr>\n",
       "      <th>50%</th>\n",
       "      <td>27.30</td>\n",
       "    </tr>\n",
       "    <tr>\n",
       "      <th>75%</th>\n",
       "      <td>32.30</td>\n",
       "    </tr>\n",
       "    <tr>\n",
       "      <th>max</th>\n",
       "      <td>60.68</td>\n",
       "    </tr>\n",
       "  </tbody>\n",
       "</table>\n",
       "</div>"
      ],
      "text/plain": [
       "       CM2_REL\n",
       "count   441.00\n",
       "mean     27.43\n",
       "std       8.21\n",
       "min      -7.32\n",
       "25%      22.43\n",
       "50%      27.30\n",
       "75%      32.30\n",
       "max      60.68"
      ]
     },
     "metadata": {},
     "output_type": "display_data"
    },
    {
     "name": "stdout",
     "output_type": "stream",
     "text": [
      "CM2% threshold >= 5  is the percentile 0.45\n",
      "CM2% threshold >= 7  is the percentile 0.91\n",
      "CM2% threshold >=  23.4  is the percentile 30 allowing us to stay with the 70% of our sample\n"
     ]
    },
    {
     "data": {
      "image/png": "[encoded data removed]",
      "text/plain": [
       "<matplotlib.figure.Figure at 0xbcef630>"
      ]
     },
     "metadata": {},
     "output_type": "display_data"
    },
    {
     "data": {
      "text/html": [
       "<div>\n",
       "<style scoped>\n",
       "    .dataframe tbody tr th:only-of-type {\n",
       "        vertical-align: middle;\n",
       "    }\n",
       "\n",
       "    .dataframe tbody tr th {\n",
       "        vertical-align: top;\n",
       "    }\n",
       "\n",
       "    .dataframe thead th {\n",
       "        text-align: right;\n",
       "    }\n",
       "</style>\n",
       "<table border=\"1\" class=\"dataframe\">\n",
       "  <thead>\n",
       "    <tr style=\"text-align: right;\">\n",
       "      <th></th>\n",
       "      <th>ORDERS</th>\n",
       "    </tr>\n",
       "  </thead>\n",
       "  <tbody>\n",
       "    <tr>\n",
       "      <th>count</th>\n",
       "      <td>441.00</td>\n",
       "    </tr>\n",
       "    <tr>\n",
       "      <th>mean</th>\n",
       "      <td>3.64</td>\n",
       "    </tr>\n",
       "    <tr>\n",
       "      <th>std</th>\n",
       "      <td>2.77</td>\n",
       "    </tr>\n",
       "    <tr>\n",
       "      <th>min</th>\n",
       "      <td>1.00</td>\n",
       "    </tr>\n",
       "    <tr>\n",
       "      <th>25%</th>\n",
       "      <td>2.00</td>\n",
       "    </tr>\n",
       "    <tr>\n",
       "      <th>50%</th>\n",
       "      <td>3.00</td>\n",
       "    </tr>\n",
       "    <tr>\n",
       "      <th>75%</th>\n",
       "      <td>5.00</td>\n",
       "    </tr>\n",
       "    <tr>\n",
       "      <th>max</th>\n",
       "      <td>19.00</td>\n",
       "    </tr>\n",
       "  </tbody>\n",
       "</table>\n",
       "</div>"
      ],
      "text/plain": [
       "       ORDERS\n",
       "count  441.00\n",
       "mean     3.64\n",
       "std      2.77\n",
       "min      1.00\n",
       "25%      2.00\n",
       "50%      3.00\n",
       "75%      5.00\n",
       "max     19.00"
      ]
     },
     "metadata": {},
     "output_type": "display_data"
    },
    {
     "name": "stdout",
     "output_type": "stream",
     "text": [
      "2.0  is the percentile 30 allowing us to stay with the 70% of our sample\n",
      "                                                                                                                    \n",
      "With CM2% threshold >= 5 and Orders >=  2.0  we keep eligible a  81.41  % from our customers\n",
      "With CM2% threshold >= 7 and Orders >=  2.0  we keep eligible a  81.18  % from our customers\n",
      "With CM2% threshold >=  23.4  and Orders >=  2.0  we keep eligible a  58.05  % from our customers\n",
      "                                                                                                                    \n",
      "                                                                                                                    \n",
      "...........................................................TIER  56 ..........................................................\n"
     ]
    },
    {
     "data": {
      "image/png": "[encoded data removed]",
      "text/plain": [
       "<matplotlib.figure.Figure at 0xbd86ef0>"
      ]
     },
     "metadata": {},
     "output_type": "display_data"
    },
    {
     "data": {
      "text/html": [
       "<div>\n",
       "<style scoped>\n",
       "    .dataframe tbody tr th:only-of-type {\n",
       "        vertical-align: middle;\n",
       "    }\n",
       "\n",
       "    .dataframe tbody tr th {\n",
       "        vertical-align: top;\n",
       "    }\n",
       "\n",
       "    .dataframe thead th {\n",
       "        text-align: right;\n",
       "    }\n",
       "</style>\n",
       "<table border=\"1\" class=\"dataframe\">\n",
       "  <thead>\n",
       "    <tr style=\"text-align: right;\">\n",
       "      <th></th>\n",
       "      <th>CM2_REL</th>\n",
       "    </tr>\n",
       "  </thead>\n",
       "  <tbody>\n",
       "    <tr>\n",
       "      <th>count</th>\n",
       "      <td>5551.00</td>\n",
       "    </tr>\n",
       "    <tr>\n",
       "      <th>mean</th>\n",
       "      <td>26.23</td>\n",
       "    </tr>\n",
       "    <tr>\n",
       "      <th>std</th>\n",
       "      <td>8.32</td>\n",
       "    </tr>\n",
       "    <tr>\n",
       "      <th>min</th>\n",
       "      <td>-22.79</td>\n",
       "    </tr>\n",
       "    <tr>\n",
       "      <th>25%</th>\n",
       "      <td>20.68</td>\n",
       "    </tr>\n",
       "    <tr>\n",
       "      <th>50%</th>\n",
       "      <td>25.95</td>\n",
       "    </tr>\n",
       "    <tr>\n",
       "      <th>75%</th>\n",
       "      <td>31.42</td>\n",
       "    </tr>\n",
       "    <tr>\n",
       "      <th>max</th>\n",
       "      <td>60.14</td>\n",
       "    </tr>\n",
       "  </tbody>\n",
       "</table>\n",
       "</div>"
      ],
      "text/plain": [
       "       CM2_REL\n",
       "count  5551.00\n",
       "mean     26.23\n",
       "std       8.32\n",
       "min     -22.79\n",
       "25%      20.68\n",
       "50%      25.95\n",
       "75%      31.42\n",
       "max      60.14"
      ]
     },
     "metadata": {},
     "output_type": "display_data"
    },
    {
     "name": "stdout",
     "output_type": "stream",
     "text": [
      "CM2% threshold >= 5  is the percentile 0.56\n",
      "CM2% threshold >= 7  is the percentile 0.95\n",
      "CM2% threshold >=  21.86  is the percentile 30 allowing us to stay with the 70% of our sample\n"
     ]
    },
    {
     "data": {
      "image/png": "[encoded data removed]",
      "text/plain": [
       "<matplotlib.figure.Figure at 0xb2319e8>"
      ]
     },
     "metadata": {},
     "output_type": "display_data"
    },
    {
     "data": {
      "text/html": [
       "<div>\n",
       "<style scoped>\n",
       "    .dataframe tbody tr th:only-of-type {\n",
       "        vertical-align: middle;\n",
       "    }\n",
       "\n",
       "    .dataframe tbody tr th {\n",
       "        vertical-align: top;\n",
       "    }\n",
       "\n",
       "    .dataframe thead th {\n",
       "        text-align: right;\n",
       "    }\n",
       "</style>\n",
       "<table border=\"1\" class=\"dataframe\">\n",
       "  <thead>\n",
       "    <tr style=\"text-align: right;\">\n",
       "      <th></th>\n",
       "      <th>ORDERS</th>\n",
       "    </tr>\n",
       "  </thead>\n",
       "  <tbody>\n",
       "    <tr>\n",
       "      <th>count</th>\n",
       "      <td>5551.00</td>\n",
       "    </tr>\n",
       "    <tr>\n",
       "      <th>mean</th>\n",
       "      <td>4.06</td>\n",
       "    </tr>\n",
       "    <tr>\n",
       "      <th>std</th>\n",
       "      <td>2.80</td>\n",
       "    </tr>\n",
       "    <tr>\n",
       "      <th>min</th>\n",
       "      <td>1.00</td>\n",
       "    </tr>\n",
       "    <tr>\n",
       "      <th>25%</th>\n",
       "      <td>2.00</td>\n",
       "    </tr>\n",
       "    <tr>\n",
       "      <th>50%</th>\n",
       "      <td>3.00</td>\n",
       "    </tr>\n",
       "    <tr>\n",
       "      <th>75%</th>\n",
       "      <td>5.00</td>\n",
       "    </tr>\n",
       "    <tr>\n",
       "      <th>max</th>\n",
       "      <td>44.00</td>\n",
       "    </tr>\n",
       "  </tbody>\n",
       "</table>\n",
       "</div>"
      ],
      "text/plain": [
       "        ORDERS\n",
       "count  5551.00\n",
       "mean      4.06\n",
       "std       2.80\n",
       "min       1.00\n",
       "25%       2.00\n",
       "50%       3.00\n",
       "75%       5.00\n",
       "max      44.00"
      ]
     },
     "metadata": {},
     "output_type": "display_data"
    },
    {
     "name": "stdout",
     "output_type": "stream",
     "text": [
      "2.0  is the percentile 30 allowing us to stay with the 70% of our sample\n",
      "                                                                                                                    \n",
      "With CM2% threshold >= 5 and Orders >=  2.0  we keep eligible a  89.62  % from our customers\n",
      "With CM2% threshold >= 7 and Orders >=  2.0  we keep eligible a  89.3  % from our customers\n",
      "With CM2% threshold >=  21.86  and Orders >=  2.0  we keep eligible a  62.75  % from our customers\n",
      "                                                                                                                    \n",
      "                                                                                                                    \n"
     ]
    }
   ],
   "source": [
    "for tq in tiers:\n",
    "    data_tier = data[data['ZTQ_ID'] == tq]\n",
    "    print('...........................................................TIER ', tq, '..........................................................')\n",
    "    # CM2% per customer\n",
    "    plt.figure(figsize=(16,4))\n",
    "    data_tier['CM2_REL'].hist(bins=100, range=(-50, 50))\n",
    "    title = 'Tier ' + str(tq) + '  Relative CM2 % per customer histogram'\n",
    "    plt.title(title)\n",
    "    plt.show()\n",
    "    display(pd.DataFrame(data_tier['CM2_REL'].fillna(0).describe().round(2)))\n",
    "    perc_30_cm2_rel = data_tier['CM2_REL'].fillna(0).quantile(.3)\n",
    "    print('CM2% threshold >= 5  is the percentile', stats.percentileofscore(data_tier['CM2_REL'], 5, kind='strict').round(2))\n",
    "    print('CM2% threshold >= 7  is the percentile', stats.percentileofscore(data_tier['CM2_REL'], 7, kind='strict').round(2))\n",
    "    print('CM2% threshold >= ', perc_30_cm2_rel, ' is the percentile 30 allowing us to stay with the 70% of our sample')\n",
    "    # CM2 € per customer\n",
    "    #plt.figure(figsize=(16,4))\n",
    "    #data_tier['TOTAL_CM2'].hist(bins=200, range=(-50, 150))\n",
    "    #title = 'Tier ' + str(tq) + ' Absolute CM2 per customer histogram'\n",
    "    #plt.title(title)\n",
    "    #plt.show()\n",
    "    #display(pd.DataFrame(data_tier['TOTAL_CM2'].describe().round(2)))\n",
    "    #perc_30_cm2_abs = data_tier['TOTAL_CM2'].fillna(0).quantile(.3)\n",
    "    #val1 = float(data_tier[(data_tier['CM2_REL'] >= 5) & (data_tier['TOTAL_CM2'] >= perc_30_cm2_abs)]['CUSTOMER_ID'].nunique()) / data_tier['CUSTOMER_ID'].nunique() * 100\n",
    "    #val2 = float(data_tier[(data_tier['CM2_REL'] >= 7) & (data_tier['TOTAL_CM2'] >= perc_30_cm2_abs)]['CUSTOMER_ID'].nunique()) / data_tier['CUSTOMER_ID'].nunique() * 100\n",
    "    #val3 = float(data_tier[(data_tier['CM2_REL'] >= perc_30_cm2_rel) & (data_tier['TOTAL_CM2'] >= perc_30_cm2_abs)]['CUSTOMER_ID'].nunique()) / data_tier['CUSTOMER_ID'].nunique() * 100\n",
    "    #print(perc_30_cm2_abs, ' is the percentile 30 allowing us to stay with the 70% of our sample')\n",
    "    #print('                                                                                                                    ')\n",
    "    #print('With CM2% threshold >= 5 and CM2 >= ', perc_30_cm2_abs, ' we keep eligible a ', np.round(val1, 2), ' % from our customers')\n",
    "    #print('With CM2% threshold >= 7 and CM2 >= ', perc_30_cm2_abs, ' we keep eligible a ', np.round(val2, 2), ' % from our customers')\n",
    "    #print('With CM2% threshold >= ', perc_30_cm2_rel, ' and CM2 >= ', perc_30_cm2_abs, ' we keep eligible a ', np.round(val3, 2), ' % from our customers')\n",
    "    # Orders per customer\n",
    "    plt.figure(figsize=(16,4))\n",
    "    data_tier['ORDERS'].hist(bins=30, range=(0, 30))\n",
    "    title = 'Tier ' + str(tq) + ' Orders per customer histogram'\n",
    "    plt.title(title)\n",
    "    plt.show()\n",
    "    display(pd.DataFrame(data_tier['ORDERS'].describe().round(2)))\n",
    "    perc_30_orders = data_tier['ORDERS'].quantile(.3)\n",
    "    val4 = float(data_tier[(data_tier['CM2_REL'] >= 5) & (data_tier['ORDERS'] >= perc_30_orders)]['CUSTOMER_ID'].nunique()) / data_tier['CUSTOMER_ID'].nunique() * 100\n",
    "    val5 = float(data_tier[(data_tier['CM2_REL'] >= 7) & (data_tier['ORDERS'] >= perc_30_orders)]['CUSTOMER_ID'].nunique()) / data_tier['CUSTOMER_ID'].nunique() * 100\n",
    "    val6 = float(data_tier[(data_tier['CM2_REL'] >= perc_30_cm2_rel) & (data_tier['ORDERS'] >= perc_30_orders)]['CUSTOMER_ID'].nunique()) / data_tier['CUSTOMER_ID'].nunique() * 100\n",
    "    print(perc_30_orders, ' is the percentile 30 allowing us to stay with the 70% of our sample')\n",
    "    print('                                                                                                                    ')\n",
    "    print('With CM2% threshold >= 5 and Orders >= ', perc_30_orders, ' we keep eligible a ', np.round(val4, 2), ' % from our customers')\n",
    "    print('With CM2% threshold >= 7 and Orders >= ', perc_30_orders, ' we keep eligible a ', np.round(val5, 2), ' % from our customers')\n",
    "    print('With CM2% threshold >= ', perc_30_cm2_rel, ' and Orders >= ', perc_30_orders, ' we keep eligible a ', np.round(val6, 2), ' % from our customers')\n",
    "    print('                                                                                                                    ')\n",
    "    print('                                                                                                                    ')"
   ]
  },
  {
   "cell_type": "code",
   "execution_count": 13,
   "metadata": {
    "ExecuteTime": {
     "end_time": "2018-06-28T08:23:18.515621Z",
     "start_time": "2018-06-28T08:23:18.498621Z"
    }
   },
   "outputs": [],
   "source": [
    "data['NET_BASKET_VALUE'] = data['NET_SALES'] / data['ORDERS']"
   ]
  },
  {
   "cell_type": "code",
   "execution_count": 14,
   "metadata": {
    "ExecuteTime": {
     "end_time": "2018-06-28T08:23:18.546621Z",
     "start_time": "2018-06-28T08:23:18.517621Z"
    }
   },
   "outputs": [
    {
     "data": {
      "text/html": [
       "<div>\n",
       "<style scoped>\n",
       "    .dataframe tbody tr th:only-of-type {\n",
       "        vertical-align: middle;\n",
       "    }\n",
       "\n",
       "    .dataframe tbody tr th {\n",
       "        vertical-align: top;\n",
       "    }\n",
       "\n",
       "    .dataframe thead th {\n",
       "        text-align: right;\n",
       "    }\n",
       "</style>\n",
       "<table border=\"1\" class=\"dataframe\">\n",
       "  <thead>\n",
       "    <tr style=\"text-align: right;\">\n",
       "      <th></th>\n",
       "      <th>count</th>\n",
       "      <th>mean</th>\n",
       "      <th>std</th>\n",
       "      <th>min</th>\n",
       "      <th>25%</th>\n",
       "      <th>50%</th>\n",
       "      <th>75%</th>\n",
       "      <th>max</th>\n",
       "    </tr>\n",
       "    <tr>\n",
       "      <th>ZTQ_ID</th>\n",
       "      <th></th>\n",
       "      <th></th>\n",
       "      <th></th>\n",
       "      <th></th>\n",
       "      <th></th>\n",
       "      <th></th>\n",
       "      <th></th>\n",
       "      <th></th>\n",
       "    </tr>\n",
       "  </thead>\n",
       "  <tbody>\n",
       "    <tr>\n",
       "      <th>51</th>\n",
       "      <td>2775.0</td>\n",
       "      <td>93.603192</td>\n",
       "      <td>42.398170</td>\n",
       "      <td>29.800475</td>\n",
       "      <td>66.389740</td>\n",
       "      <td>84.099933</td>\n",
       "      <td>108.405608</td>\n",
       "      <td>522.51225</td>\n",
       "    </tr>\n",
       "    <tr>\n",
       "      <th>52</th>\n",
       "      <td>2350.0</td>\n",
       "      <td>108.699583</td>\n",
       "      <td>52.265990</td>\n",
       "      <td>33.442586</td>\n",
       "      <td>74.808283</td>\n",
       "      <td>96.145314</td>\n",
       "      <td>126.968380</td>\n",
       "      <td>774.26084</td>\n",
       "    </tr>\n",
       "    <tr>\n",
       "      <th>53</th>\n",
       "      <td>2198.0</td>\n",
       "      <td>99.386668</td>\n",
       "      <td>46.100602</td>\n",
       "      <td>30.360400</td>\n",
       "      <td>69.570138</td>\n",
       "      <td>90.528692</td>\n",
       "      <td>117.508525</td>\n",
       "      <td>868.68860</td>\n",
       "    </tr>\n",
       "    <tr>\n",
       "      <th>54</th>\n",
       "      <td>2862.0</td>\n",
       "      <td>115.670657</td>\n",
       "      <td>58.927951</td>\n",
       "      <td>32.136860</td>\n",
       "      <td>77.652365</td>\n",
       "      <td>101.507482</td>\n",
       "      <td>137.386717</td>\n",
       "      <td>997.81110</td>\n",
       "    </tr>\n",
       "    <tr>\n",
       "      <th>55</th>\n",
       "      <td>158.0</td>\n",
       "      <td>84.148141</td>\n",
       "      <td>29.454874</td>\n",
       "      <td>34.919229</td>\n",
       "      <td>61.790910</td>\n",
       "      <td>80.666575</td>\n",
       "      <td>100.179963</td>\n",
       "      <td>185.44750</td>\n",
       "    </tr>\n",
       "    <tr>\n",
       "      <th>56</th>\n",
       "      <td>2383.0</td>\n",
       "      <td>97.935979</td>\n",
       "      <td>46.437715</td>\n",
       "      <td>29.664286</td>\n",
       "      <td>68.991637</td>\n",
       "      <td>88.886967</td>\n",
       "      <td>114.086131</td>\n",
       "      <td>749.26900</td>\n",
       "    </tr>\n",
       "  </tbody>\n",
       "</table>\n",
       "</div>"
      ],
      "text/plain": [
       "         count        mean        std        min        25%         50%  \\\n",
       "ZTQ_ID                                                                    \n",
       "51      2775.0   93.603192  42.398170  29.800475  66.389740   84.099933   \n",
       "52      2350.0  108.699583  52.265990  33.442586  74.808283   96.145314   \n",
       "53      2198.0   99.386668  46.100602  30.360400  69.570138   90.528692   \n",
       "54      2862.0  115.670657  58.927951  32.136860  77.652365  101.507482   \n",
       "55       158.0   84.148141  29.454874  34.919229  61.790910   80.666575   \n",
       "56      2383.0   97.935979  46.437715  29.664286  68.991637   88.886967   \n",
       "\n",
       "               75%        max  \n",
       "ZTQ_ID                         \n",
       "51      108.405608  522.51225  \n",
       "52      126.968380  774.26084  \n",
       "53      117.508525  868.68860  \n",
       "54      137.386717  997.81110  \n",
       "55      100.179963  185.44750  \n",
       "56      114.086131  749.26900  "
      ]
     },
     "execution_count": 14,
     "metadata": {},
     "output_type": "execute_result"
    }
   ],
   "source": [
    "data[(data['ORDERS'] >= 4) & (data['ORDERS'] <= 10)].groupby('ZTQ_ID')['NET_BASKET_VALUE'].describe()"
   ]
  },
  {
   "cell_type": "code",
   "execution_count": 15,
   "metadata": {
    "ExecuteTime": {
     "end_time": "2018-06-28T08:23:18.580621Z",
     "start_time": "2018-06-28T08:23:18.547621Z"
    }
   },
   "outputs": [
    {
     "data": {
      "text/html": [
       "<div>\n",
       "<style scoped>\n",
       "    .dataframe tbody tr th:only-of-type {\n",
       "        vertical-align: middle;\n",
       "    }\n",
       "\n",
       "    .dataframe tbody tr th {\n",
       "        vertical-align: top;\n",
       "    }\n",
       "\n",
       "    .dataframe thead th {\n",
       "        text-align: right;\n",
       "    }\n",
       "</style>\n",
       "<table border=\"1\" class=\"dataframe\">\n",
       "  <thead>\n",
       "    <tr style=\"text-align: right;\">\n",
       "      <th></th>\n",
       "      <th>count</th>\n",
       "      <th>mean</th>\n",
       "      <th>std</th>\n",
       "      <th>min</th>\n",
       "      <th>25%</th>\n",
       "      <th>50%</th>\n",
       "      <th>75%</th>\n",
       "      <th>max</th>\n",
       "    </tr>\n",
       "    <tr>\n",
       "      <th>ZTQ_ID</th>\n",
       "      <th></th>\n",
       "      <th></th>\n",
       "      <th></th>\n",
       "      <th></th>\n",
       "      <th></th>\n",
       "      <th></th>\n",
       "      <th></th>\n",
       "      <th></th>\n",
       "    </tr>\n",
       "  </thead>\n",
       "  <tbody>\n",
       "    <tr>\n",
       "      <th>51</th>\n",
       "      <td>2775.0</td>\n",
       "      <td>26.618123</td>\n",
       "      <td>6.380419</td>\n",
       "      <td>-0.85</td>\n",
       "      <td>22.4700</td>\n",
       "      <td>26.430</td>\n",
       "      <td>30.7100</td>\n",
       "      <td>51.39</td>\n",
       "    </tr>\n",
       "    <tr>\n",
       "      <th>52</th>\n",
       "      <td>2350.0</td>\n",
       "      <td>26.186426</td>\n",
       "      <td>6.699249</td>\n",
       "      <td>-17.09</td>\n",
       "      <td>21.6250</td>\n",
       "      <td>26.230</td>\n",
       "      <td>30.7575</td>\n",
       "      <td>57.20</td>\n",
       "    </tr>\n",
       "    <tr>\n",
       "      <th>53</th>\n",
       "      <td>2198.0</td>\n",
       "      <td>30.336902</td>\n",
       "      <td>7.189013</td>\n",
       "      <td>5.93</td>\n",
       "      <td>25.6425</td>\n",
       "      <td>30.485</td>\n",
       "      <td>35.1675</td>\n",
       "      <td>58.33</td>\n",
       "    </tr>\n",
       "    <tr>\n",
       "      <th>54</th>\n",
       "      <td>2862.0</td>\n",
       "      <td>27.577652</td>\n",
       "      <td>7.614230</td>\n",
       "      <td>4.85</td>\n",
       "      <td>22.3025</td>\n",
       "      <td>27.310</td>\n",
       "      <td>32.5400</td>\n",
       "      <td>60.06</td>\n",
       "    </tr>\n",
       "    <tr>\n",
       "      <th>55</th>\n",
       "      <td>158.0</td>\n",
       "      <td>27.830190</td>\n",
       "      <td>7.058304</td>\n",
       "      <td>-0.12</td>\n",
       "      <td>23.7175</td>\n",
       "      <td>27.695</td>\n",
       "      <td>31.8100</td>\n",
       "      <td>46.28</td>\n",
       "    </tr>\n",
       "    <tr>\n",
       "      <th>56</th>\n",
       "      <td>2383.0</td>\n",
       "      <td>26.061070</td>\n",
       "      <td>7.540349</td>\n",
       "      <td>-4.96</td>\n",
       "      <td>20.8500</td>\n",
       "      <td>25.830</td>\n",
       "      <td>30.8400</td>\n",
       "      <td>55.65</td>\n",
       "    </tr>\n",
       "  </tbody>\n",
       "</table>\n",
       "</div>"
      ],
      "text/plain": [
       "         count       mean       std    min      25%     50%      75%    max\n",
       "ZTQ_ID                                                                     \n",
       "51      2775.0  26.618123  6.380419  -0.85  22.4700  26.430  30.7100  51.39\n",
       "52      2350.0  26.186426  6.699249 -17.09  21.6250  26.230  30.7575  57.20\n",
       "53      2198.0  30.336902  7.189013   5.93  25.6425  30.485  35.1675  58.33\n",
       "54      2862.0  27.577652  7.614230   4.85  22.3025  27.310  32.5400  60.06\n",
       "55       158.0  27.830190  7.058304  -0.12  23.7175  27.695  31.8100  46.28\n",
       "56      2383.0  26.061070  7.540349  -4.96  20.8500  25.830  30.8400  55.65"
      ]
     },
     "execution_count": 15,
     "metadata": {},
     "output_type": "execute_result"
    }
   ],
   "source": [
    "data[(data['ORDERS'] >= 4) & (data['ORDERS'] <= 10)].groupby('ZTQ_ID')['CM2_REL'].describe()"
   ]
  },
  {
   "cell_type": "code",
   "execution_count": 16,
   "metadata": {
    "ExecuteTime": {
     "end_time": "2018-06-28T08:23:19.061621Z",
     "start_time": "2018-06-28T08:23:18.582621Z"
    }
   },
   "outputs": [
    {
     "data": {
      "image/png": "[encoded data removed]",
      "text/plain": [
       "<matplotlib.figure.Figure at 0xbbc8e10>"
      ]
     },
     "metadata": {},
     "output_type": "display_data"
    },
    {
     "data": {
      "text/html": [
       "<div>\n",
       "<style scoped>\n",
       "    .dataframe tbody tr th:only-of-type {\n",
       "        vertical-align: middle;\n",
       "    }\n",
       "\n",
       "    .dataframe tbody tr th {\n",
       "        vertical-align: top;\n",
       "    }\n",
       "\n",
       "    .dataframe thead th {\n",
       "        text-align: right;\n",
       "    }\n",
       "</style>\n",
       "<table border=\"1\" class=\"dataframe\">\n",
       "  <thead>\n",
       "    <tr style=\"text-align: right;\">\n",
       "      <th></th>\n",
       "      <th>CM2_REL</th>\n",
       "    </tr>\n",
       "  </thead>\n",
       "  <tbody>\n",
       "    <tr>\n",
       "      <th>count</th>\n",
       "      <td>24337.00</td>\n",
       "    </tr>\n",
       "    <tr>\n",
       "      <th>mean</th>\n",
       "      <td>27.17</td>\n",
       "    </tr>\n",
       "    <tr>\n",
       "      <th>std</th>\n",
       "      <td>9.64</td>\n",
       "    </tr>\n",
       "    <tr>\n",
       "      <th>min</th>\n",
       "      <td>-824.28</td>\n",
       "    </tr>\n",
       "    <tr>\n",
       "      <th>25%</th>\n",
       "      <td>22.07</td>\n",
       "    </tr>\n",
       "    <tr>\n",
       "      <th>50%</th>\n",
       "      <td>27.11</td>\n",
       "    </tr>\n",
       "    <tr>\n",
       "      <th>75%</th>\n",
       "      <td>32.18</td>\n",
       "    </tr>\n",
       "    <tr>\n",
       "      <th>max</th>\n",
       "      <td>69.97</td>\n",
       "    </tr>\n",
       "  </tbody>\n",
       "</table>\n",
       "</div>"
      ],
      "text/plain": [
       "        CM2_REL\n",
       "count  24337.00\n",
       "mean      27.17\n",
       "std        9.64\n",
       "min     -824.28\n",
       "25%       22.07\n",
       "50%       27.11\n",
       "75%       32.18\n",
       "max       69.97"
      ]
     },
     "metadata": {},
     "output_type": "display_data"
    },
    {
     "name": "stdout",
     "output_type": "stream",
     "text": [
      "CM2% threshold >= 5  is the percentile 0.4\n",
      "CM2% threshold >= 6  is the percentile 0.53\n",
      "CM2% threshold >= 7  is the percentile 0.69\n",
      "CM2% threshold >= 8  is the percentile 0.91\n",
      "CM2% threshold >= 9  is the percentile 1.18\n",
      "CM2% threshold >= 10  is the percentile 1.57\n",
      "CM2% threshold >= 11  is the percentile 2.01\n",
      "CM2% threshold >= 12  is the percentile 2.59\n",
      "CM2% threshold >= 13  is the percentile 3.39\n",
      "CM2% threshold >= 14  is the percentile 4.27\n",
      "CM2% threshold >= 15  is the percentile 5.39\n",
      "CM2% threshold >= 16  is the percentile 6.96\n",
      "CM2% threshold >= 17  is the percentile 8.7\n",
      "CM2% threshold >= 18  is the percentile 11.18\n",
      "CM2% threshold >= 19  is the percentile 13.99\n",
      "CM2% threshold >= 20  is the percentile 17.0\n",
      "CM2% threshold >= 21 is the percentile 20.7\n",
      "CM2% threshold >= 22  is the percentile 24.7\n",
      "CM2% threshold >= 23  is the percentile 29.08\n",
      "CM2% threshold >= 24  is the percentile 34.04\n",
      "CM2% threshold >= 25  is the percentile 39.04\n",
      "CM2% threshold >=  23.2  is the percentile 30 allowing us to stay with the 70% of our sample\n"
     ]
    }
   ],
   "source": [
    "# CM2% per customer\n",
    "plt.figure(figsize=(16,4))\n",
    "data['CM2_REL'].hist(bins=100, range=(-50, 50))\n",
    "title = 'Relative CM2 % per customer histogram'\n",
    "plt.title(title)\n",
    "plt.show()\n",
    "display(pd.DataFrame(data['CM2_REL'].fillna(0).describe().round(2)))\n",
    "perc_30_cm2_rel = data['CM2_REL'].fillna(0).quantile(.3)\n",
    "print('CM2% threshold >= 5  is the percentile', stats.percentileofscore(data['CM2_REL'], 5, kind='strict').round(2))\n",
    "print('CM2% threshold >= 6  is the percentile', stats.percentileofscore(data['CM2_REL'], 6, kind='strict').round(2))\n",
    "print('CM2% threshold >= 7  is the percentile', stats.percentileofscore(data['CM2_REL'], 7, kind='strict').round(2))\n",
    "print('CM2% threshold >= 8  is the percentile', stats.percentileofscore(data['CM2_REL'], 8, kind='strict').round(2))\n",
    "print('CM2% threshold >= 9  is the percentile', stats.percentileofscore(data['CM2_REL'], 9, kind='strict').round(2))\n",
    "print('CM2% threshold >= 10  is the percentile', stats.percentileofscore(data['CM2_REL'], 10, kind='strict').round(2))\n",
    "print('CM2% threshold >= 11  is the percentile', stats.percentileofscore(data['CM2_REL'], 11, kind='strict').round(2))\n",
    "print('CM2% threshold >= 12  is the percentile', stats.percentileofscore(data['CM2_REL'], 12, kind='strict').round(2))\n",
    "print('CM2% threshold >= 13  is the percentile', stats.percentileofscore(data['CM2_REL'], 13, kind='strict').round(2))\n",
    "print('CM2% threshold >= 14  is the percentile', stats.percentileofscore(data['CM2_REL'], 14, kind='strict').round(2))\n",
    "print('CM2% threshold >= 15  is the percentile', stats.percentileofscore(data['CM2_REL'], 15, kind='strict').round(2))\n",
    "print('CM2% threshold >= 16  is the percentile', stats.percentileofscore(data['CM2_REL'], 16, kind='strict').round(2))\n",
    "print('CM2% threshold >= 17  is the percentile', stats.percentileofscore(data['CM2_REL'], 17, kind='strict').round(2))\n",
    "print('CM2% threshold >= 18  is the percentile', stats.percentileofscore(data['CM2_REL'], 18, kind='strict').round(2))\n",
    "print('CM2% threshold >= 19  is the percentile', stats.percentileofscore(data['CM2_REL'], 19, kind='strict').round(2))\n",
    "print('CM2% threshold >= 20  is the percentile', stats.percentileofscore(data['CM2_REL'], 20, kind='strict').round(2))\n",
    "print('CM2% threshold >= 21 is the percentile', stats.percentileofscore(data['CM2_REL'], 21, kind='strict').round(2))\n",
    "print('CM2% threshold >= 22  is the percentile', stats.percentileofscore(data['CM2_REL'], 22, kind='strict').round(2))\n",
    "print('CM2% threshold >= 23  is the percentile', stats.percentileofscore(data['CM2_REL'], 23, kind='strict').round(2))\n",
    "print('CM2% threshold >= 24  is the percentile', stats.percentileofscore(data['CM2_REL'], 24, kind='strict').round(2))\n",
    "print('CM2% threshold >= 25  is the percentile', stats.percentileofscore(data['CM2_REL'], 25, kind='strict').round(2))\n",
    "print('CM2% threshold >= ', perc_30_cm2_rel, ' is the percentile 30 allowing us to stay with the 70% of our sample')\n",
    "# CM2 € per customer\n",
    "#plt.figure(figsize=(16,4))\n",
    "#data['TOTAL_CM2'].hist(bins=200, range=(-50, 150))\n",
    "#title = 'Tier ' + str(tq) + ' Absolute CM2 per customer histogram'\n",
    "#plt.title(title)\n",
    "#plt.show()\n",
    "#display(pd.DataFrame(data['TOTAL_CM2'].describe().round(2)))\n",
    "#perc_30_cm2_abs = data['TOTAL_CM2'].fillna(0).quantile(.3)\n",
    "#val1 = float(data[(data['CM2_REL'] >= 5) & (data['TOTAL_CM2'] >= perc_30_cm2_abs)]['CUSTOMER_ID'].nunique()) / data['CUSTOMER_ID'].nunique() * 100\n",
    "#val2 = float(data[(data['CM2_REL'] >= 7) & (data['TOTAL_CM2'] >= perc_30_cm2_abs)]['CUSTOMER_ID'].nunique()) / data['CUSTOMER_ID'].nunique() * 100\n",
    "#val3 = float(data[(data['CM2_REL'] >= perc_30_cm2_rel) & (data['TOTAL_CM2'] >= perc_30_cm2_abs)]['CUSTOMER_ID'].nunique()) / data['CUSTOMER_ID'].nunique() * 100\n",
    "#print(perc_30_cm2_abs, ' is the percentile 30 allowing us to stay with the 70% of our sample')\n",
    "#print('                                                                                                                    ')\n",
    "#print('With CM2% threshold >= 5 and CM2 >= ', perc_30_cm2_abs, ' we keep eligible a ', np.round(val1, 2), ' % from our customers')\n",
    "#print('With CM2% threshold >= 7 and CM2 >= ', perc_30_cm2_abs, ' we keep eligible a ', np.round(val2, 2), ' % from our customers')\n",
    "#print('With CM2% threshold >= ', perc_30_cm2_rel, ' and CM2 >= ', perc_30_cm2_abs, ' we keep eligible a ', np.round(val3, 2), ' % from our customers')\n",
    "# Orders per customer\n",
    "#plt.figure(figsize=(16,4))\n",
    "#data['ORDERS'].hist(bins=30, range=(0, 30))\n",
    "#title = 'Tier ' + str(tq) + ' Orders per customer histogram'\n",
    "#plt.title(title)\n",
    "#plt.show()\n",
    "#display(pd.DataFrame(data['ORDERS'].describe().round(2)))\n",
    "#perc_30_orders = data['ORDERS'].quantile(.3)\n",
    "#val4 = float(data[(data['CM2_REL'] >= 5) & (data['ORDERS'] >= perc_30_orders)]['CUSTOMER_ID'].nunique()) / data['CUSTOMER_ID'].nunique() * 100\n",
    "#val5 = float(data[(data['CM2_REL'] >= 7) & (data['ORDERS'] >= perc_30_orders)]['CUSTOMER_ID'].nunique()) / data['CUSTOMER_ID'].nunique() * 100\n",
    "#val6 = float(data[(data['CM2_REL'] >= perc_30_cm2_rel) & (data['ORDERS'] >= perc_30_orders)]['CUSTOMER_ID'].nunique()) / data['CUSTOMER_ID'].nunique() * 100\n",
    "#print(perc_30_orders, ' is the percentile 30 allowing us to stay with the 70% of our sample')\n",
    "#print('                                                                                                                    ')\n",
    "#print('With CM2% threshold >= 5 and Orders >= ', perc_30_orders, ' we keep eligible a ', np.round(val4, 2), ' % from our customers')\n",
    "#print('With CM2% threshold >= 7 and Orders >= ', perc_30_orders, ' we keep eligible a ', np.round(val5, 2), ' % from our customers')\n",
    "#print('With CM2% threshold >= ', perc_30_cm2_rel, ' and Orders >= ', perc_30_orders, ' we keep eligible a ', np.round(val6, 2), ' % from our customers')\n",
    "#print('                                                                                                                    ')\n",
    "#print('                                                                                                                    ')"
   ]
  },
  {
   "cell_type": "code",
   "execution_count": 17,
   "metadata": {
    "ExecuteTime": {
     "end_time": "2018-06-28T08:23:20.032618Z",
     "start_time": "2018-06-28T08:23:19.062621Z"
    }
   },
   "outputs": [
    {
     "data": {
      "image/png": "[encoded data removed]",
      "text/plain": [
       "<matplotlib.figure.Figure at 0xb602eb8>"
      ]
     },
     "metadata": {},
     "output_type": "display_data"
    }
   ],
   "source": [
    "plt.figure(figsize=(16,4))\n",
    "for tq in tiers:\n",
    "    data_tier = data[data['ZTQ_ID'] == tq]\n",
    "    #print('...........................................................TIER ', tq, '..........................................................')\n",
    "    # CM2% per customer\n",
    "    data_tier['CM2_REL'].hist(bins=100, range=(-50, 50), alpha=0.5)\n",
    "    plt.legend([51, 52, 53, 54, 55, 56])\n",
    "plt.show()   "
   ]
  }
 ],
 "metadata": {
  "hide_input": false,
  "kernelspec": {
   "display_name": "Python [default]",
   "language": "python",
   "name": "python3"
  },
  "language_info": {
   "codemirror_mode": {
    "name": "ipython",
    "version": 3
   },
   "file_extension": ".py",
   "mimetype": "text/x-python",
   "name": "python",
   "nbconvert_exporter": "python",
   "pygments_lexer": "ipython3",
   "version": "3.6.4"
  },
  "toc": {
   "base_numbering": 1,
   "nav_menu": {},
   "number_sections": true,
   "sideBar": true,
   "skip_h1_title": false,
   "title_cell": "Table of Contents",
   "title_sidebar": "Contents",
   "toc_cell": false,
   "toc_position": {},
   "toc_section_display": true,
   "toc_window_display": false
  },
  "varInspector": {
   "cols": {
    "lenName": 16,
    "lenType": 16,
    "lenVar": 40
   },
   "kernels_config": {
    "python": {
     "delete_cmd_postfix": "",
     "delete_cmd_prefix": "del ",
     "library": "var_list.py",
     "varRefreshCmd": "print(var_dic_list())"
    },
    "r": {
     "delete_cmd_postfix": ") ",
     "delete_cmd_prefix": "rm(",
     "library": "var_list.r",
     "varRefreshCmd": "cat(var_dic_list()) "
    }
   },
   "types_to_exclude": [
    "module",
    "function",
    "builtin_function_or_method",
    "instance",
    "_Feature"
   ],
   "window_display": false
  }
 },
 "nbformat": 4,
 "nbformat_minor": 2
}
