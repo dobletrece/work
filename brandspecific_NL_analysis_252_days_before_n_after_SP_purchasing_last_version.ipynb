{
 "cells": [
  {
   "cell_type": "code",
   "execution_count": 1,
   "metadata": {
    "ExecuteTime": {
     "end_time": "2018-11-28T13:32:52.555024Z",
     "start_time": "2018-11-28T13:32:49.981024Z"
    }
   },
   "outputs": [],
   "source": [
    "import numpy as np\n",
    "import pandas as pd\n",
    "import dask.dataframe as dd\n",
    "import matplotlib.pyplot as plt\n",
    "%matplotlib inline\n",
    "from IPython.display import display\n",
    "from scipy import stats\n",
    "from statistics import stdev\n",
    "import datetime\n",
    "from datetime import timedelta\n",
    "from collections import Counter\n",
    "import cx_Oracle\n",
    "import psycopg2\n",
    "import seaborn as sns\n",
    "import json\n",
    "import pickle\n",
    "#from fitter import Fitter\n",
    "from warnings import filterwarnings\n",
    "from itertools import compress\n",
    "filterwarnings('ignore')"
   ]
  },
  {
   "cell_type": "markdown",
   "metadata": {},
   "source": [
    "NL shop: for every customer having placed his 1st order between 01/07/15 and 30/06/17, get all their orders until 30/06/18"
   ]
  },
  {
   "cell_type": "raw",
   "metadata": {
    "ExecuteTime": {
     "end_time": "2018-11-23T12:06:24.714626Z",
     "start_time": "2018-11-23T12:06:24.701626Z"
    }
   },
   "source": [
    "\"\"\"select \n",
    "scm.scm_n_order_pos_nr, scm.scm_n_order_nr, scm.tdt_t_key_order_date, scm.THR_C_KEY_ORDER_HOUR, scm.SIT_N_KEY_SITE,\n",
    "scm.CUS_N_KEY_CUSTOMER, scm.SCM_SALES_BMF, scm.SCM_D_FINANCE_CM1, scm.SCM_D_FINANCE_CM2,\n",
    "scm.SCM_D_ORIG_FINANCE_ORDER_NET,scm.SCM_AP_ID, scm.SCM_AS_ID, scm.SCM_MASTER_AP_ID,\n",
    "osp.OSP_KO_COUNT_NET, osp.OSP_3_LEAD_P_PG_ID, osp.OSP_3_LEAD_P_PG_SHARE, osp.OSP_4_LEAD_P_PG_ID, osp.OSP_4_LEAD_P_PG_SHARE,\n",
    "czp.CZP_START_DATE, czp.CZP_EXPIRY_DATE, czp.CZP_ZTQ_ID, czp.CZP_PERCENTAGE, czp.CZP_PRICE\n",
    "from zoocube.ddstf_scm_sales_contrib_margin scm\n",
    "join ZOOMAN.ORDER_SALES_PROFILE osp\n",
    "on osp.OSP_O_ID = scm.SCM_N_ORDER_NR\n",
    "join ZOOMAN.ORDERS o\n",
    "on o.O_ID = scm.SCM_N_ORDER_NR\n",
    "left outer join ZOOMAN.CUSTOMERS_ZOOPRIME_PLANS czp\n",
    "on scm.CUS_N_KEY_CUSTOMER = czp.CZP_K_ID\n",
    "and czp.CZP_EXPIRY_DATE > to_date((to_char(TDT_T_KEY_ORDER_DATE, 'dd/mm/yyyy') ||' '|| THR_C_KEY_ORDER_HOUR), 'dd/mm/yyyy HH24:MI')\n",
    "and czp.CZP_START_DATE <= to_date((to_char(TDT_T_KEY_ORDER_DATE, 'dd/mm/yyyy') ||' '|| THR_C_KEY_ORDER_HOUR), 'dd/mm/yyyy HH24:MI') + interval '2' minute\n",
    "where SIT_N_KEY_SITE = 7\n",
    "and ((TDT_T_KEY_ORDER_DATE >= to_date('01/07/15', 'DD/MM/YY') and TDT_T_KEY_ORDER_DATE <= to_date('30/06/18', 'DD/MM/YY')))\n",
    "and (scm.SCM_C_ORDER_STATUS = 'L' OR scm.SCM_C_ORDER_STATUS = 'VK')\n",
    "and scm.SCM_SALES_CANCEL_BMF = 0\n",
    "and scm.CUS_N_KEY_CUSTOMER IN (\n",
    "select distinct scm.CUS_N_KEY_CUSTOMER\n",
    "from zoocube.ddstf_scm_sales_contrib_margin scm\n",
    "join ZOOMAN.ORDER_SALES_PROFILE osp\n",
    "on osp.OSP_O_ID = scm.SCM_N_ORDER_NR\n",
    "where SIT_N_KEY_SITE = 7\n",
    "and ((TDT_T_KEY_ORDER_DATE >= to_date('01/07/15', 'DD/MM/YY') and TDT_T_KEY_ORDER_DATE <= to_date('30/06/17', 'DD/MM/YY')))\n",
    "and osp.OSP_KO_COUNT_NET = 1\n",
    ")\"\"\""
   ]
  },
  {
   "cell_type": "markdown",
   "metadata": {
    "heading_collapsed": true
   },
   "source": [
    "### Data loading, cleaning & formatting"
   ]
  },
  {
   "cell_type": "code",
   "execution_count": 2,
   "metadata": {
    "ExecuteTime": {
     "end_time": "2018-11-26T11:55:37.327008Z",
     "start_time": "2018-11-26T11:55:16.004008Z"
    },
    "hidden": true
   },
   "outputs": [],
   "source": [
    "data = pd.read_csv('nl_shop_orders_sp_cross_selling_v2.dsv', sep=';', low_memory=False)"
   ]
  },
  {
   "cell_type": "code",
   "execution_count": 3,
   "metadata": {
    "ExecuteTime": {
     "end_time": "2018-11-26T11:55:46.644008Z",
     "start_time": "2018-11-26T11:55:46.362008Z"
    },
    "hidden": true
   },
   "outputs": [
    {
     "data": {
      "text/html": [
       "<div>\n",
       "<style scoped>\n",
       "    .dataframe tbody tr th:only-of-type {\n",
       "        vertical-align: middle;\n",
       "    }\n",
       "\n",
       "    .dataframe tbody tr th {\n",
       "        vertical-align: top;\n",
       "    }\n",
       "\n",
       "    .dataframe thead th {\n",
       "        text-align: right;\n",
       "    }\n",
       "</style>\n",
       "<table border=\"1\" class=\"dataframe\">\n",
       "  <thead>\n",
       "    <tr style=\"text-align: right;\">\n",
       "      <th></th>\n",
       "      <th>SCM_N_ORDER_POS_NR</th>\n",
       "      <th>SCM_N_ORDER_NR</th>\n",
       "      <th>TDT_T_KEY_ORDER_DATE</th>\n",
       "      <th>THR_C_KEY_ORDER_HOUR</th>\n",
       "      <th>SIT_N_KEY_SITE</th>\n",
       "      <th>CUS_N_KEY_CUSTOMER</th>\n",
       "      <th>SCM_SALES_BMF</th>\n",
       "      <th>SCM_D_FINANCE_CM1</th>\n",
       "      <th>SCM_D_FINANCE_CM2</th>\n",
       "      <th>SCM_D_ORIG_FINANCE_ORDER_NET</th>\n",
       "      <th>...</th>\n",
       "      <th>OSP_KO_COUNT_NET</th>\n",
       "      <th>OSP_3_LEAD_P_PG_ID</th>\n",
       "      <th>OSP_3_LEAD_P_PG_SHARE</th>\n",
       "      <th>OSP_4_LEAD_P_PG_ID</th>\n",
       "      <th>OSP_4_LEAD_P_PG_SHARE</th>\n",
       "      <th>CZP_START_DATE</th>\n",
       "      <th>CZP_EXPIRY_DATE</th>\n",
       "      <th>CZP_ZTQ_ID</th>\n",
       "      <th>CZP_PERCENTAGE</th>\n",
       "      <th>CZP_PRICE</th>\n",
       "    </tr>\n",
       "  </thead>\n",
       "  <tbody>\n",
       "    <tr>\n",
       "      <th>3775717</th>\n",
       "      <td>344200892</td>\n",
       "      <td>80898711</td>\n",
       "      <td>16/01/2017 00:00</td>\n",
       "      <td>10:06</td>\n",
       "      <td>7</td>\n",
       "      <td>14977856</td>\n",
       "      <td>44,99</td>\n",
       "      <td>13,7618</td>\n",
       "      <td>9,1352</td>\n",
       "      <td>37,1818</td>\n",
       "      <td>...</td>\n",
       "      <td>4</td>\n",
       "      <td>251.0</td>\n",
       "      <td>0,698</td>\n",
       "      <td>9425.0</td>\n",
       "      <td>0,698</td>\n",
       "      <td>16/11/2016 13:23</td>\n",
       "      <td>16/11/2017 23:59</td>\n",
       "      <td>53.0</td>\n",
       "      <td>5.0</td>\n",
       "      <td>4,99</td>\n",
       "    </tr>\n",
       "    <tr>\n",
       "      <th>2823236</th>\n",
       "      <td>392176251</td>\n",
       "      <td>91852426</td>\n",
       "      <td>02/08/2017 00:00</td>\n",
       "      <td>15:07</td>\n",
       "      <td>7</td>\n",
       "      <td>13418683</td>\n",
       "      <td>34,99</td>\n",
       "      <td>10,9974</td>\n",
       "      <td>8,5526</td>\n",
       "      <td>28,9174</td>\n",
       "      <td>...</td>\n",
       "      <td>3</td>\n",
       "      <td>251.0</td>\n",
       "      <td>0,7178</td>\n",
       "      <td>255.0</td>\n",
       "      <td>0,7178</td>\n",
       "      <td>NaN</td>\n",
       "      <td>NaN</td>\n",
       "      <td>NaN</td>\n",
       "      <td>NaN</td>\n",
       "      <td>NaN</td>\n",
       "    </tr>\n",
       "    <tr>\n",
       "      <th>1205918</th>\n",
       "      <td>333385073</td>\n",
       "      <td>78464747</td>\n",
       "      <td>30/11/2016 00:00</td>\n",
       "      <td>19:55</td>\n",
       "      <td>7</td>\n",
       "      <td>13837288</td>\n",
       "      <td>2,33</td>\n",
       "      <td>0,6256</td>\n",
       "      <td>0,2224</td>\n",
       "      <td>1,9256</td>\n",
       "      <td>...</td>\n",
       "      <td>8</td>\n",
       "      <td>2068.0</td>\n",
       "      <td>1</td>\n",
       "      <td>2072.0</td>\n",
       "      <td>0,463</td>\n",
       "      <td>NaN</td>\n",
       "      <td>NaN</td>\n",
       "      <td>NaN</td>\n",
       "      <td>NaN</td>\n",
       "      <td>NaN</td>\n",
       "    </tr>\n",
       "    <tr>\n",
       "      <th>422068</th>\n",
       "      <td>364162320</td>\n",
       "      <td>85435222</td>\n",
       "      <td>10/04/2017 00:00</td>\n",
       "      <td>10:24</td>\n",
       "      <td>7</td>\n",
       "      <td>14452913</td>\n",
       "      <td>7,29</td>\n",
       "      <td>1,1948</td>\n",
       "      <td>0,2139</td>\n",
       "      <td>6,0248</td>\n",
       "      <td>...</td>\n",
       "      <td>2</td>\n",
       "      <td>2068.0</td>\n",
       "      <td>1</td>\n",
       "      <td>2071.0</td>\n",
       "      <td>1</td>\n",
       "      <td>NaN</td>\n",
       "      <td>NaN</td>\n",
       "      <td>NaN</td>\n",
       "      <td>NaN</td>\n",
       "      <td>NaN</td>\n",
       "    </tr>\n",
       "    <tr>\n",
       "      <th>2843244</th>\n",
       "      <td>262016403</td>\n",
       "      <td>62009298</td>\n",
       "      <td>17/12/2015 00:00</td>\n",
       "      <td>10:44</td>\n",
       "      <td>7</td>\n",
       "      <td>13073377</td>\n",
       "      <td>2,99</td>\n",
       "      <td>2,4711</td>\n",
       "      <td>2,4711</td>\n",
       "      <td>2,4711</td>\n",
       "      <td>...</td>\n",
       "      <td>1</td>\n",
       "      <td>40023.0</td>\n",
       "      <td>1</td>\n",
       "      <td>40193.0</td>\n",
       "      <td>1</td>\n",
       "      <td>NaN</td>\n",
       "      <td>NaN</td>\n",
       "      <td>NaN</td>\n",
       "      <td>NaN</td>\n",
       "      <td>NaN</td>\n",
       "    </tr>\n",
       "  </tbody>\n",
       "</table>\n",
       "<p>5 rows × 23 columns</p>\n",
       "</div>"
      ],
      "text/plain": [
       "         SCM_N_ORDER_POS_NR  SCM_N_ORDER_NR TDT_T_KEY_ORDER_DATE  \\\n",
       "3775717           344200892        80898711     16/01/2017 00:00   \n",
       "2823236           392176251        91852426     02/08/2017 00:00   \n",
       "1205918           333385073        78464747     30/11/2016 00:00   \n",
       "422068            364162320        85435222     10/04/2017 00:00   \n",
       "2843244           262016403        62009298     17/12/2015 00:00   \n",
       "\n",
       "        THR_C_KEY_ORDER_HOUR  SIT_N_KEY_SITE  CUS_N_KEY_CUSTOMER  \\\n",
       "3775717                10:06               7            14977856   \n",
       "2823236                15:07               7            13418683   \n",
       "1205918                19:55               7            13837288   \n",
       "422068                 10:24               7            14452913   \n",
       "2843244                10:44               7            13073377   \n",
       "\n",
       "        SCM_SALES_BMF SCM_D_FINANCE_CM1 SCM_D_FINANCE_CM2  \\\n",
       "3775717         44,99           13,7618            9,1352   \n",
       "2823236         34,99           10,9974            8,5526   \n",
       "1205918          2,33            0,6256            0,2224   \n",
       "422068           7,29            1,1948            0,2139   \n",
       "2843244          2,99            2,4711            2,4711   \n",
       "\n",
       "        SCM_D_ORIG_FINANCE_ORDER_NET    ...     OSP_KO_COUNT_NET  \\\n",
       "3775717                      37,1818    ...                    4   \n",
       "2823236                      28,9174    ...                    3   \n",
       "1205918                       1,9256    ...                    8   \n",
       "422068                        6,0248    ...                    2   \n",
       "2843244                       2,4711    ...                    1   \n",
       "\n",
       "         OSP_3_LEAD_P_PG_ID  OSP_3_LEAD_P_PG_SHARE  OSP_4_LEAD_P_PG_ID  \\\n",
       "3775717               251.0                  0,698              9425.0   \n",
       "2823236               251.0                 0,7178               255.0   \n",
       "1205918              2068.0                      1              2072.0   \n",
       "422068               2068.0                      1              2071.0   \n",
       "2843244             40023.0                      1             40193.0   \n",
       "\n",
       "         OSP_4_LEAD_P_PG_SHARE    CZP_START_DATE   CZP_EXPIRY_DATE CZP_ZTQ_ID  \\\n",
       "3775717                  0,698  16/11/2016 13:23  16/11/2017 23:59       53.0   \n",
       "2823236                 0,7178               NaN               NaN        NaN   \n",
       "1205918                  0,463               NaN               NaN        NaN   \n",
       "422068                       1               NaN               NaN        NaN   \n",
       "2843244                      1               NaN               NaN        NaN   \n",
       "\n",
       "        CZP_PERCENTAGE CZP_PRICE  \n",
       "3775717            5.0      4,99  \n",
       "2823236            NaN       NaN  \n",
       "1205918            NaN       NaN  \n",
       "422068             NaN       NaN  \n",
       "2843244            NaN       NaN  \n",
       "\n",
       "[5 rows x 23 columns]"
      ]
     },
     "execution_count": 3,
     "metadata": {},
     "output_type": "execute_result"
    }
   ],
   "source": [
    "data.sample(5)"
   ]
  },
  {
   "cell_type": "code",
   "execution_count": 4,
   "metadata": {
    "ExecuteTime": {
     "end_time": "2018-11-26T11:55:56.961008Z",
     "start_time": "2018-11-26T11:55:56.947008Z"
    },
    "hidden": true
   },
   "outputs": [
    {
     "name": "stdout",
     "output_type": "stream",
     "text": [
      "<class 'pandas.core.frame.DataFrame'>\n",
      "RangeIndex: 5808370 entries, 0 to 5808369\n",
      "Data columns (total 23 columns):\n",
      "SCM_N_ORDER_POS_NR              int64\n",
      "SCM_N_ORDER_NR                  int64\n",
      "TDT_T_KEY_ORDER_DATE            object\n",
      "THR_C_KEY_ORDER_HOUR            object\n",
      "SIT_N_KEY_SITE                  int64\n",
      "CUS_N_KEY_CUSTOMER              int64\n",
      "SCM_SALES_BMF                   object\n",
      "SCM_D_FINANCE_CM1               object\n",
      "SCM_D_FINANCE_CM2               object\n",
      "SCM_D_ORIG_FINANCE_ORDER_NET    object\n",
      "SCM_AP_ID                       int64\n",
      "SCM_AS_ID                       int64\n",
      "SCM_MASTER_AP_ID                int64\n",
      "OSP_KO_COUNT_NET                int64\n",
      "OSP_3_LEAD_P_PG_ID              float64\n",
      "OSP_3_LEAD_P_PG_SHARE           object\n",
      "OSP_4_LEAD_P_PG_ID              float64\n",
      "OSP_4_LEAD_P_PG_SHARE           object\n",
      "CZP_START_DATE                  object\n",
      "CZP_EXPIRY_DATE                 object\n",
      "CZP_ZTQ_ID                      float64\n",
      "CZP_PERCENTAGE                  float64\n",
      "CZP_PRICE                       object\n",
      "dtypes: float64(4), int64(8), object(11)\n",
      "memory usage: 1019.2+ MB\n"
     ]
    }
   ],
   "source": [
    "data.info(verbose=True)"
   ]
  },
  {
   "cell_type": "code",
   "execution_count": 5,
   "metadata": {
    "ExecuteTime": {
     "end_time": "2018-11-26T11:56:04.378008Z",
     "start_time": "2018-11-26T11:56:04.371008Z"
    },
    "hidden": true
   },
   "outputs": [],
   "source": [
    "def get_date(x):\n",
    "    return x.split(' ')[0]"
   ]
  },
  {
   "cell_type": "code",
   "execution_count": 6,
   "metadata": {
    "ExecuteTime": {
     "end_time": "2018-11-26T11:56:08.408008Z",
     "start_time": "2018-11-26T11:56:06.147008Z"
    },
    "hidden": true
   },
   "outputs": [],
   "source": [
    "data['TDT_T_KEY_ORDER_DATE'] = data['TDT_T_KEY_ORDER_DATE'].map(get_date)"
   ]
  },
  {
   "cell_type": "code",
   "execution_count": 7,
   "metadata": {
    "ExecuteTime": {
     "end_time": "2018-11-26T11:56:23.737008Z",
     "start_time": "2018-11-26T11:56:10.154008Z"
    },
    "hidden": true
   },
   "outputs": [],
   "source": [
    "data['TDT_T_KEY_ORDER_DATE'] = pd.to_datetime(data['TDT_T_KEY_ORDER_DATE'], format='%d/%m/%Y')"
   ]
  },
  {
   "cell_type": "code",
   "execution_count": 8,
   "metadata": {
    "ExecuteTime": {
     "end_time": "2018-11-26T11:56:54.333008Z",
     "start_time": "2018-11-26T11:56:25.795008Z"
    },
    "hidden": true
   },
   "outputs": [],
   "source": [
    "data['ORDER_DATETIME'] = data['TDT_T_KEY_ORDER_DATE'].astype(str) + ' ' + data['THR_C_KEY_ORDER_HOUR'].astype(str) + ':00'"
   ]
  },
  {
   "cell_type": "code",
   "execution_count": 9,
   "metadata": {
    "ExecuteTime": {
     "end_time": "2018-11-26T11:56:58.139008Z",
     "start_time": "2018-11-26T11:56:56.635008Z"
    },
    "hidden": true
   },
   "outputs": [],
   "source": [
    "data['ORDER_DATETIME'] = pd.to_datetime(data['ORDER_DATETIME'], format=\"%Y-%m-%d %H:%M:%S\")"
   ]
  },
  {
   "cell_type": "code",
   "execution_count": 10,
   "metadata": {
    "ExecuteTime": {
     "end_time": "2018-11-26T11:57:14.230008Z",
     "start_time": "2018-11-26T11:56:59.976008Z"
    },
    "hidden": true
   },
   "outputs": [],
   "source": [
    "data['CZP_START_DATE'] = pd.to_datetime(data['CZP_START_DATE'], format=\"%d/%m/%Y %H:%M\")\n",
    "data['CZP_EXPIRY_DATE'] = pd.to_datetime(data['CZP_EXPIRY_DATE'], format=\"%d/%m/%Y %H:%M\")"
   ]
  },
  {
   "cell_type": "code",
   "execution_count": 11,
   "metadata": {
    "ExecuteTime": {
     "end_time": "2018-11-26T11:57:32.413008Z",
     "start_time": "2018-11-26T11:57:15.796008Z"
    },
    "hidden": true
   },
   "outputs": [],
   "source": [
    "data['SCM_SALES_BMF'] = [float(str(i).replace(',','.')) for i in data['SCM_SALES_BMF'].values]\n",
    "data['SCM_D_FINANCE_CM1'] = [float(str(i).replace(',','.')) for i in data['SCM_D_FINANCE_CM1'].values]\n",
    "data['SCM_D_FINANCE_CM2'] = [float(str(i).replace(',','.')) for i in data['SCM_D_FINANCE_CM2'].values]\n",
    "data['SCM_D_ORIG_FINANCE_ORDER_NET'] = [float(str(i).replace(',','.')) for i in data['SCM_D_ORIG_FINANCE_ORDER_NET'].values]"
   ]
  },
  {
   "cell_type": "code",
   "execution_count": 12,
   "metadata": {
    "ExecuteTime": {
     "end_time": "2018-11-26T11:57:45.671008Z",
     "start_time": "2018-11-26T11:57:33.924008Z"
    },
    "hidden": true
   },
   "outputs": [],
   "source": [
    "data['CZP_PRICE'] = [float(str(i).replace(',','.')) for i in data['CZP_PRICE'].values]\n",
    "data['OSP_3_LEAD_P_PG_SHARE'] = [float(str(i).replace(',','.')) for i in data['OSP_3_LEAD_P_PG_SHARE'].values]\n",
    "data['OSP_4_LEAD_P_PG_SHARE'] = [float(str(i).replace(',','.')) for i in data['OSP_4_LEAD_P_PG_SHARE'].values]"
   ]
  },
  {
   "cell_type": "code",
   "execution_count": 13,
   "metadata": {
    "ExecuteTime": {
     "end_time": "2018-11-26T12:00:33.857008Z",
     "start_time": "2018-11-26T11:58:07.834008Z"
    },
    "hidden": true
   },
   "outputs": [],
   "source": [
    "#boolean mask with duplicated orders due to SP as True\n",
    "dupl_mask = [len(i) > 1 for i in data.groupby('SCM_N_ORDER_NR')['CZP_START_DATE'].unique().values]"
   ]
  },
  {
   "cell_type": "code",
   "execution_count": 14,
   "metadata": {
    "ExecuteTime": {
     "end_time": "2018-11-26T12:02:58.918769Z",
     "start_time": "2018-11-26T12:00:34.929008Z"
    },
    "hidden": true
   },
   "outputs": [],
   "source": [
    "#get duplicated order IDs\n",
    "dup_orders = data.groupby('SCM_N_ORDER_NR')['CZP_START_DATE'].unique()[dupl_mask].index.values"
   ]
  },
  {
   "cell_type": "code",
   "execution_count": 15,
   "metadata": {
    "ExecuteTime": {
     "end_time": "2018-11-26T12:02:59.984769Z",
     "start_time": "2018-11-26T12:02:59.983769Z"
    },
    "hidden": true
   },
   "outputs": [
    {
     "data": {
      "text/plain": [
       "7555"
      ]
     },
     "execution_count": 15,
     "metadata": {},
     "output_type": "execute_result"
    }
   ],
   "source": [
    "len(dup_orders)"
   ]
  },
  {
   "cell_type": "code",
   "execution_count": 16,
   "metadata": {
    "ExecuteTime": {
     "end_time": "2018-11-26T12:03:05.417748Z",
     "start_time": "2018-11-26T12:03:04.139754Z"
    },
    "hidden": true
   },
   "outputs": [
    {
     "data": {
      "text/plain": [
       "7528"
      ]
     },
     "execution_count": 16,
     "metadata": {},
     "output_type": "execute_result"
    }
   ],
   "source": [
    "sp_acq_dup_orders = list(data[data['SCM_N_ORDER_NR'].isin(dup_orders)][data[data['SCM_N_ORDER_NR'].isin(dup_orders)]['SCM_MASTER_AP_ID'] == 42225]['SCM_N_ORDER_NR'].unique())\n",
    "len(sp_acq_dup_orders)"
   ]
  },
  {
   "cell_type": "code",
   "execution_count": 17,
   "metadata": {
    "ExecuteTime": {
     "end_time": "2018-11-26T12:03:07.125737Z",
     "start_time": "2018-11-26T12:03:06.652739Z"
    },
    "hidden": true
   },
   "outputs": [
    {
     "data": {
      "text/plain": [
       "27"
      ]
     },
     "execution_count": 17,
     "metadata": {},
     "output_type": "execute_result"
    }
   ],
   "source": [
    "no_sp_acq_dup_orders = [i for i in dup_orders if i not in sp_acq_dup_orders]\n",
    "len(no_sp_acq_dup_orders)"
   ]
  },
  {
   "cell_type": "code",
   "execution_count": 18,
   "metadata": {
    "ExecuteTime": {
     "end_time": "2018-11-26T12:04:15.395471Z",
     "start_time": "2018-11-26T12:03:14.131691Z"
    },
    "hidden": true
   },
   "outputs": [],
   "source": [
    "#Let's get incorrect duplicated indexes instead of order_id to exclude them and select the correct data subset\n",
    "dup_indexes = []\n",
    "\n",
    "for i in sp_acq_dup_orders:\n",
    "    o_id = data[data['SCM_N_ORDER_NR'] == i]\n",
    "    old_sp_date = min(o_id['CZP_START_DATE'])\n",
    "    old_sp_index = o_id[o_id['CZP_START_DATE'] == old_sp_date].index.values\n",
    "    dup_indexes.append(old_sp_index)"
   ]
  },
  {
   "cell_type": "code",
   "execution_count": 19,
   "metadata": {
    "ExecuteTime": {
     "end_time": "2018-11-26T12:04:17.351471Z",
     "start_time": "2018-11-26T12:04:17.347471Z"
    },
    "hidden": true
   },
   "outputs": [
    {
     "data": {
      "text/plain": [
       "7528"
      ]
     },
     "execution_count": 19,
     "metadata": {},
     "output_type": "execute_result"
    }
   ],
   "source": [
    "len(dup_indexes)"
   ]
  },
  {
   "cell_type": "code",
   "execution_count": 20,
   "metadata": {
    "ExecuteTime": {
     "end_time": "2018-11-26T12:04:19.325471Z",
     "start_time": "2018-11-26T12:04:18.630471Z"
    },
    "hidden": true
   },
   "outputs": [],
   "source": [
    "for i in no_sp_acq_dup_orders:\n",
    "    c_id = data[data['SCM_N_ORDER_NR'] == i]['CUS_N_KEY_CUSTOMER'].unique()[0]\n",
    "    cust_orders = data[data['CUS_N_KEY_CUSTOMER'] == c_id]\n",
    "    sp_order = cust_orders[cust_orders['SCM_MASTER_AP_ID'] == 42225]['SCM_N_ORDER_NR'].unique()[0]\n",
    "    if i < sp_order:\n",
    "        o_id = data[data['SCM_N_ORDER_NR'] == i]\n",
    "        new_non_valid_sp_date = max(o_id['CZP_START_DATE'])\n",
    "        new_sp_index = o_id[o_id['CZP_START_DATE'] == new_non_valid_sp_date].index.values\n",
    "        dup_indexes.append(new_sp_index)\n",
    "    else:\n",
    "        o_id = data[data['SCM_N_ORDER_NR'] == i]\n",
    "        old_sp_date = min(o_id['CZP_START_DATE'])\n",
    "        old_sp_index = o_id[o_id['CZP_START_DATE'] == old_sp_date].index.values\n",
    "        dup_indexes.append(old_sp_index)"
   ]
  },
  {
   "cell_type": "code",
   "execution_count": 21,
   "metadata": {
    "ExecuteTime": {
     "end_time": "2018-11-26T12:04:20.637471Z",
     "start_time": "2018-11-26T12:04:20.633471Z"
    },
    "hidden": true
   },
   "outputs": [
    {
     "data": {
      "text/plain": [
       "7555"
      ]
     },
     "execution_count": 21,
     "metadata": {},
     "output_type": "execute_result"
    }
   ],
   "source": [
    "len(dup_indexes)"
   ]
  },
  {
   "cell_type": "code",
   "execution_count": 22,
   "metadata": {
    "ExecuteTime": {
     "end_time": "2018-11-26T12:10:23.225447Z",
     "start_time": "2018-11-26T12:07:54.753447Z"
    },
    "hidden": true
   },
   "outputs": [
    {
     "name": "stdout",
     "output_type": "stream",
     "text": [
      "Duplicated rows detected:  47636\n",
      "Start dropping..\n",
      "Number of order IDs having more than one SP_START_DATE now:  0\n"
     ]
    }
   ],
   "source": [
    "#Get a flatten list of indexes\n",
    "dupl_ind = [i for lista in dup_indexes for i in lista]\n",
    "\n",
    "print('Duplicated rows detected: ', len(dupl_ind))\n",
    "print('Start dropping..')\n",
    "\n",
    "#Drop duplicated indexes\n",
    "data.drop(dupl_ind, inplace=True)\n",
    "\n",
    "#0 printed, in order to be sure there are no orders duplicated remaining...\n",
    "print('Number of order IDs having more than one SP_START_DATE now: ',\n",
    "      sum(len(i) > 1 for i in data.groupby('SCM_N_ORDER_NR')['CZP_START_DATE'].unique().values))"
   ]
  },
  {
   "cell_type": "code",
   "execution_count": 23,
   "metadata": {
    "ExecuteTime": {
     "end_time": "2018-11-26T12:11:29.200447Z",
     "start_time": "2018-11-26T12:11:28.693447Z"
    },
    "hidden": true
   },
   "outputs": [],
   "source": [
    "data['FIRST_O_DATE'] = data['TDT_T_KEY_ORDER_DATE'].groupby(data['CUS_N_KEY_CUSTOMER']).transform('min')"
   ]
  },
  {
   "cell_type": "code",
   "execution_count": 24,
   "metadata": {
    "ExecuteTime": {
     "end_time": "2018-11-26T12:11:31.207447Z",
     "start_time": "2018-11-26T12:11:30.725447Z"
    },
    "hidden": true
   },
   "outputs": [],
   "source": [
    "data['LAST_O_DATE'] = data['TDT_T_KEY_ORDER_DATE'].groupby(data['CUS_N_KEY_CUSTOMER']).transform('max')"
   ]
  },
  {
   "cell_type": "code",
   "execution_count": 25,
   "metadata": {
    "ExecuteTime": {
     "end_time": "2018-11-26T12:11:33.234447Z",
     "start_time": "2018-11-26T12:11:32.744447Z"
    },
    "hidden": true
   },
   "outputs": [],
   "source": [
    "data['1ST_O_COUNTER'] = data['OSP_KO_COUNT_NET'].groupby(data['CUS_N_KEY_CUSTOMER']).transform('min')"
   ]
  },
  {
   "cell_type": "code",
   "execution_count": 26,
   "metadata": {
    "ExecuteTime": {
     "end_time": "2018-11-26T12:11:37.362447Z",
     "start_time": "2018-11-26T12:11:35.831447Z"
    },
    "hidden": true
   },
   "outputs": [],
   "source": [
    "data['MAX_SALES_O_POS'] = data['SCM_SALES_BMF'].groupby(data['SCM_N_ORDER_NR']).transform('max')\n",
    "data['IS_LEAD_AS'] = (data['SCM_SALES_BMF'] == data['MAX_SALES_O_POS']) * 1 * data['SCM_AS_ID']\n",
    "data['LEAD_AS_ID'] = data['IS_LEAD_AS'].groupby(data['SCM_N_ORDER_NR']).transform('max')"
   ]
  },
  {
   "cell_type": "code",
   "execution_count": 27,
   "metadata": {
    "ExecuteTime": {
     "end_time": "2018-11-26T12:11:49.586447Z",
     "start_time": "2018-11-26T12:11:43.901447Z"
    },
    "hidden": true
   },
   "outputs": [],
   "source": [
    "data['D28'] = data['FIRST_O_DATE'] + timedelta(days = 28)\n",
    "data['D56'] = data['FIRST_O_DATE'] + timedelta(days = 56)\n",
    "data['D84'] = data['FIRST_O_DATE'] + timedelta(days = 84)\n",
    "data['D252'] = data['FIRST_O_DATE'] + timedelta(days = 252)\n",
    "data['D252'] = data['FIRST_O_DATE'] + timedelta(days = 252)\n",
    "data['D336'] = data['FIRST_O_DATE'] + timedelta(days = 336)"
   ]
  },
  {
   "cell_type": "code",
   "execution_count": 28,
   "metadata": {
    "ExecuteTime": {
     "end_time": "2018-11-26T12:11:53.896447Z",
     "start_time": "2018-11-26T12:11:53.884447Z"
    },
    "hidden": true
   },
   "outputs": [],
   "source": [
    "#Get brands per PG4\n",
    "brands = pd.read_csv('pg4_brands.dsv', sep=';', low_memory=False)"
   ]
  },
  {
   "cell_type": "code",
   "execution_count": 29,
   "metadata": {
    "ExecuteTime": {
     "end_time": "2018-11-26T12:11:55.872447Z",
     "start_time": "2018-11-26T12:11:55.866447Z"
    },
    "hidden": true
   },
   "outputs": [],
   "source": [
    "brands['BRAND'] = [i.split(' - ')[1] if len(i.split('-')) > 1 else 'unknown' for i in brands['PPR_V_LEVEL4_DESC'].values]"
   ]
  },
  {
   "cell_type": "code",
   "execution_count": 30,
   "metadata": {
    "ExecuteTime": {
     "end_time": "2018-11-26T12:11:57.631447Z",
     "start_time": "2018-11-26T12:11:57.624447Z"
    },
    "hidden": true
   },
   "outputs": [
    {
     "name": "stdout",
     "output_type": "stream",
     "text": [
      "<class 'pandas.core.frame.DataFrame'>\n",
      "RangeIndex: 2006 entries, 0 to 2005\n",
      "Data columns (total 3 columns):\n",
      "PPR_N_LEVEL4_ID      2006 non-null int64\n",
      "PPR_V_LEVEL4_DESC    2006 non-null object\n",
      "BRAND                2006 non-null object\n",
      "dtypes: int64(1), object(2)\n",
      "memory usage: 47.1+ KB\n"
     ]
    }
   ],
   "source": [
    "brands.info()"
   ]
  },
  {
   "cell_type": "code",
   "execution_count": 31,
   "metadata": {
    "ExecuteTime": {
     "end_time": "2018-11-26T12:12:00.289447Z",
     "start_time": "2018-11-26T12:12:00.276447Z"
    },
    "hidden": true
   },
   "outputs": [
    {
     "data": {
      "text/html": [
       "<div>\n",
       "<style scoped>\n",
       "    .dataframe tbody tr th:only-of-type {\n",
       "        vertical-align: middle;\n",
       "    }\n",
       "\n",
       "    .dataframe tbody tr th {\n",
       "        vertical-align: top;\n",
       "    }\n",
       "\n",
       "    .dataframe thead th {\n",
       "        text-align: right;\n",
       "    }\n",
       "</style>\n",
       "<table border=\"1\" class=\"dataframe\">\n",
       "  <thead>\n",
       "    <tr style=\"text-align: right;\">\n",
       "      <th></th>\n",
       "      <th>PPR_N_LEVEL4_ID</th>\n",
       "      <th>PPR_V_LEVEL4_DESC</th>\n",
       "      <th>BRAND</th>\n",
       "    </tr>\n",
       "  </thead>\n",
       "  <tbody>\n",
       "    <tr>\n",
       "      <th>695</th>\n",
       "      <td>48589</td>\n",
       "      <td>48589 - Entwurmung von Katzen</td>\n",
       "      <td>Entwurmung von Katzen</td>\n",
       "    </tr>\n",
       "    <tr>\n",
       "      <th>317</th>\n",
       "      <td>3111</td>\n",
       "      <td>3111 - Ersatzteile Gimborn</td>\n",
       "      <td>Ersatzteile Gimborn</td>\n",
       "    </tr>\n",
       "    <tr>\n",
       "      <th>1309</th>\n",
       "      <td>17963</td>\n",
       "      <td>17963 - Royal Canin</td>\n",
       "      <td>Royal Canin</td>\n",
       "    </tr>\n",
       "    <tr>\n",
       "      <th>189</th>\n",
       "      <td>127084</td>\n",
       "      <td>127084 - Pro Plan Dog</td>\n",
       "      <td>Pro Plan Dog</td>\n",
       "    </tr>\n",
       "    <tr>\n",
       "      <th>1487</th>\n",
       "      <td>99055</td>\n",
       "      <td>99055 - Bürste &amp;  Kamm</td>\n",
       "      <td>Bürste &amp;  Kamm</td>\n",
       "    </tr>\n",
       "    <tr>\n",
       "      <th>1586</th>\n",
       "      <td>6480</td>\n",
       "      <td>6480 - Lebendfutter / Futtertiere</td>\n",
       "      <td>Lebendfutter / Futtertiere</td>\n",
       "    </tr>\n",
       "    <tr>\n",
       "      <th>1220</th>\n",
       "      <td>252597</td>\n",
       "      <td>252597 - harringtons</td>\n",
       "      <td>harringtons</td>\n",
       "    </tr>\n",
       "    <tr>\n",
       "      <th>880</th>\n",
       "      <td>807</td>\n",
       "      <td>807 - Biologisches Filtermaterial</td>\n",
       "      <td>Biologisches Filtermaterial</td>\n",
       "    </tr>\n",
       "    <tr>\n",
       "      <th>1082</th>\n",
       "      <td>1604</td>\n",
       "      <td>1604 - Schaukeln</td>\n",
       "      <td>Schaukeln</td>\n",
       "    </tr>\n",
       "    <tr>\n",
       "      <th>751</th>\n",
       "      <td>261561</td>\n",
       "      <td>261561 - Classic by Bitiba</td>\n",
       "      <td>Classic by Bitiba</td>\n",
       "    </tr>\n",
       "  </tbody>\n",
       "</table>\n",
       "</div>"
      ],
      "text/plain": [
       "      PPR_N_LEVEL4_ID                  PPR_V_LEVEL4_DESC  \\\n",
       "695             48589      48589 - Entwurmung von Katzen   \n",
       "317              3111         3111 - Ersatzteile Gimborn   \n",
       "1309            17963                17963 - Royal Canin   \n",
       "189            127084              127084 - Pro Plan Dog   \n",
       "1487            99055             99055 - Bürste &  Kamm   \n",
       "1586             6480  6480 - Lebendfutter / Futtertiere   \n",
       "1220           252597               252597 - harringtons   \n",
       "880               807  807 - Biologisches Filtermaterial   \n",
       "1082             1604                   1604 - Schaukeln   \n",
       "751            261561         261561 - Classic by Bitiba   \n",
       "\n",
       "                            BRAND  \n",
       "695         Entwurmung von Katzen  \n",
       "317           Ersatzteile Gimborn  \n",
       "1309                  Royal Canin  \n",
       "189                  Pro Plan Dog  \n",
       "1487               Bürste &  Kamm  \n",
       "1586   Lebendfutter / Futtertiere  \n",
       "1220                  harringtons  \n",
       "880   Biologisches Filtermaterial  \n",
       "1082                    Schaukeln  \n",
       "751             Classic by Bitiba  "
      ]
     },
     "execution_count": 31,
     "metadata": {},
     "output_type": "execute_result"
    }
   ],
   "source": [
    "brands.sample(10)"
   ]
  },
  {
   "cell_type": "code",
   "execution_count": 32,
   "metadata": {
    "ExecuteTime": {
     "end_time": "2018-11-26T12:12:02.261447Z",
     "start_time": "2018-11-26T12:12:02.196447Z"
    },
    "hidden": true
   },
   "outputs": [],
   "source": [
    "#Get physical articles with their PG structure\n",
    "ap_pg = pd.read_csv('vw_ap_pg_link.dsv', sep=';', low_memory=False)"
   ]
  },
  {
   "cell_type": "code",
   "execution_count": 33,
   "metadata": {
    "ExecuteTime": {
     "end_time": "2018-11-26T12:12:04.039447Z",
     "start_time": "2018-11-26T12:12:04.023447Z"
    },
    "hidden": true
   },
   "outputs": [
    {
     "name": "stdout",
     "output_type": "stream",
     "text": [
      "<class 'pandas.core.frame.DataFrame'>\n",
      "RangeIndex: 62994 entries, 0 to 62993\n",
      "Data columns (total 9 columns):\n",
      "AP_ID       62994 non-null int64\n",
      "PP_ID       62994 non-null int64\n",
      "L1_PG_ID    62994 non-null int64\n",
      "L2_PG_ID    62993 non-null float64\n",
      "L3_PG_ID    62537 non-null float64\n",
      "L4_PG_ID    60229 non-null float64\n",
      "L5_PG_ID    29125 non-null float64\n",
      "L6_PG_ID    18 non-null float64\n",
      "L7_PG_ID    0 non-null float64\n",
      "dtypes: float64(6), int64(3)\n",
      "memory usage: 4.3 MB\n"
     ]
    }
   ],
   "source": [
    "ap_pg.info()"
   ]
  },
  {
   "cell_type": "code",
   "execution_count": 34,
   "metadata": {
    "ExecuteTime": {
     "end_time": "2018-11-26T12:12:05.928447Z",
     "start_time": "2018-11-26T12:12:05.920447Z"
    },
    "hidden": true
   },
   "outputs": [],
   "source": [
    "ap_pg = ap_pg[['AP_ID', 'L3_PG_ID', 'L4_PG_ID']].fillna(0).astype(int)"
   ]
  },
  {
   "cell_type": "code",
   "execution_count": 35,
   "metadata": {
    "ExecuteTime": {
     "end_time": "2018-11-26T12:12:07.841447Z",
     "start_time": "2018-11-26T12:12:07.830447Z"
    },
    "hidden": true
   },
   "outputs": [
    {
     "data": {
      "text/html": [
       "<div>\n",
       "<style scoped>\n",
       "    .dataframe tbody tr th:only-of-type {\n",
       "        vertical-align: middle;\n",
       "    }\n",
       "\n",
       "    .dataframe tbody tr th {\n",
       "        vertical-align: top;\n",
       "    }\n",
       "\n",
       "    .dataframe thead th {\n",
       "        text-align: right;\n",
       "    }\n",
       "</style>\n",
       "<table border=\"1\" class=\"dataframe\">\n",
       "  <thead>\n",
       "    <tr style=\"text-align: right;\">\n",
       "      <th></th>\n",
       "      <th>AP_ID</th>\n",
       "      <th>L3_PG_ID</th>\n",
       "      <th>L4_PG_ID</th>\n",
       "    </tr>\n",
       "  </thead>\n",
       "  <tbody>\n",
       "    <tr>\n",
       "      <th>50340</th>\n",
       "      <td>24323</td>\n",
       "      <td>18</td>\n",
       "      <td>393</td>\n",
       "    </tr>\n",
       "    <tr>\n",
       "      <th>14714</th>\n",
       "      <td>67623</td>\n",
       "      <td>251</td>\n",
       "      <td>41663</td>\n",
       "    </tr>\n",
       "    <tr>\n",
       "      <th>31784</th>\n",
       "      <td>1321</td>\n",
       "      <td>1172</td>\n",
       "      <td>0</td>\n",
       "    </tr>\n",
       "    <tr>\n",
       "      <th>51513</th>\n",
       "      <td>36858</td>\n",
       "      <td>486</td>\n",
       "      <td>42627</td>\n",
       "    </tr>\n",
       "    <tr>\n",
       "      <th>9270</th>\n",
       "      <td>10483</td>\n",
       "      <td>252</td>\n",
       "      <td>287</td>\n",
       "    </tr>\n",
       "    <tr>\n",
       "      <th>14522</th>\n",
       "      <td>82841</td>\n",
       "      <td>257304</td>\n",
       "      <td>257368</td>\n",
       "    </tr>\n",
       "    <tr>\n",
       "      <th>24398</th>\n",
       "      <td>5152</td>\n",
       "      <td>16</td>\n",
       "      <td>97</td>\n",
       "    </tr>\n",
       "    <tr>\n",
       "      <th>12099</th>\n",
       "      <td>38552</td>\n",
       "      <td>2068</td>\n",
       "      <td>2127</td>\n",
       "    </tr>\n",
       "    <tr>\n",
       "      <th>35517</th>\n",
       "      <td>35277</td>\n",
       "      <td>857</td>\n",
       "      <td>39743</td>\n",
       "    </tr>\n",
       "    <tr>\n",
       "      <th>56790</th>\n",
       "      <td>12729</td>\n",
       "      <td>21</td>\n",
       "      <td>2130</td>\n",
       "    </tr>\n",
       "  </tbody>\n",
       "</table>\n",
       "</div>"
      ],
      "text/plain": [
       "       AP_ID  L3_PG_ID  L4_PG_ID\n",
       "50340  24323        18       393\n",
       "14714  67623       251     41663\n",
       "31784   1321      1172         0\n",
       "51513  36858       486     42627\n",
       "9270   10483       252       287\n",
       "14522  82841    257304    257368\n",
       "24398   5152        16        97\n",
       "12099  38552      2068      2127\n",
       "35517  35277       857     39743\n",
       "56790  12729        21      2130"
      ]
     },
     "execution_count": 35,
     "metadata": {},
     "output_type": "execute_result"
    }
   ],
   "source": [
    "ap_pg.sample(10)"
   ]
  },
  {
   "cell_type": "code",
   "execution_count": 36,
   "metadata": {
    "ExecuteTime": {
     "end_time": "2018-11-26T12:12:09.627447Z",
     "start_time": "2018-11-26T12:12:09.603447Z"
    },
    "hidden": true
   },
   "outputs": [],
   "source": [
    "#Merge both tables to add the brand for each AP_ID\n",
    "ap_pg_brand = pd.merge(ap_pg, brands, how='left', left_on='L4_PG_ID', right_on='PPR_N_LEVEL4_ID')"
   ]
  },
  {
   "cell_type": "code",
   "execution_count": 37,
   "metadata": {
    "ExecuteTime": {
     "end_time": "2018-11-26T12:12:11.481447Z",
     "start_time": "2018-11-26T12:12:11.466447Z"
    },
    "hidden": true
   },
   "outputs": [
    {
     "data": {
      "text/html": [
       "<div>\n",
       "<style scoped>\n",
       "    .dataframe tbody tr th:only-of-type {\n",
       "        vertical-align: middle;\n",
       "    }\n",
       "\n",
       "    .dataframe tbody tr th {\n",
       "        vertical-align: top;\n",
       "    }\n",
       "\n",
       "    .dataframe thead th {\n",
       "        text-align: right;\n",
       "    }\n",
       "</style>\n",
       "<table border=\"1\" class=\"dataframe\">\n",
       "  <thead>\n",
       "    <tr style=\"text-align: right;\">\n",
       "      <th></th>\n",
       "      <th>AP_ID</th>\n",
       "      <th>L3_PG_ID</th>\n",
       "      <th>L4_PG_ID</th>\n",
       "      <th>PPR_N_LEVEL4_ID</th>\n",
       "      <th>PPR_V_LEVEL4_DESC</th>\n",
       "      <th>BRAND</th>\n",
       "    </tr>\n",
       "  </thead>\n",
       "  <tbody>\n",
       "    <tr>\n",
       "      <th>11791</th>\n",
       "      <td>34581</td>\n",
       "      <td>372</td>\n",
       "      <td>3662</td>\n",
       "      <td>3662</td>\n",
       "      <td>3662 - Vitamine/Mineralien</td>\n",
       "      <td>Vitamine/Mineralien</td>\n",
       "    </tr>\n",
       "    <tr>\n",
       "      <th>28681</th>\n",
       "      <td>65605</td>\n",
       "      <td>183134</td>\n",
       "      <td>183138</td>\n",
       "      <td>183138</td>\n",
       "      <td>183138 - Rind</td>\n",
       "      <td>Rind</td>\n",
       "    </tr>\n",
       "    <tr>\n",
       "      <th>20147</th>\n",
       "      <td>41546</td>\n",
       "      <td>48611</td>\n",
       "      <td>0</td>\n",
       "      <td>0</td>\n",
       "      <td>*NOT DEFINED</td>\n",
       "      <td>unknown</td>\n",
       "    </tr>\n",
       "    <tr>\n",
       "      <th>9656</th>\n",
       "      <td>13711</td>\n",
       "      <td>2068</td>\n",
       "      <td>2632</td>\n",
       "      <td>2632</td>\n",
       "      <td>2632 - ★ Cosma</td>\n",
       "      <td>★ Cosma</td>\n",
       "    </tr>\n",
       "    <tr>\n",
       "      <th>14638</th>\n",
       "      <td>62800</td>\n",
       "      <td>23</td>\n",
       "      <td>2060</td>\n",
       "      <td>2060</td>\n",
       "      <td>2060 - Kratzbaum mittel</td>\n",
       "      <td>Kratzbaum mittel</td>\n",
       "    </tr>\n",
       "    <tr>\n",
       "      <th>28251</th>\n",
       "      <td>42135</td>\n",
       "      <td>48743</td>\n",
       "      <td>0</td>\n",
       "      <td>0</td>\n",
       "      <td>*NOT DEFINED</td>\n",
       "      <td>unknown</td>\n",
       "    </tr>\n",
       "    <tr>\n",
       "      <th>18746</th>\n",
       "      <td>23388</td>\n",
       "      <td>857</td>\n",
       "      <td>2128</td>\n",
       "      <td>2128</td>\n",
       "      <td>2128 - Almo Nature</td>\n",
       "      <td>Almo Nature</td>\n",
       "    </tr>\n",
       "    <tr>\n",
       "      <th>14279</th>\n",
       "      <td>78100</td>\n",
       "      <td>251</td>\n",
       "      <td>1310</td>\n",
       "      <td>1310</td>\n",
       "      <td>1310 - Bozita</td>\n",
       "      <td>Bozita</td>\n",
       "    </tr>\n",
       "    <tr>\n",
       "      <th>43150</th>\n",
       "      <td>30206</td>\n",
       "      <td>29</td>\n",
       "      <td>35032</td>\n",
       "      <td>35032</td>\n",
       "      <td>35032 - Feliway</td>\n",
       "      <td>Feliway</td>\n",
       "    </tr>\n",
       "    <tr>\n",
       "      <th>21182</th>\n",
       "      <td>53928</td>\n",
       "      <td>81435</td>\n",
       "      <td>0</td>\n",
       "      <td>0</td>\n",
       "      <td>*NOT DEFINED</td>\n",
       "      <td>unknown</td>\n",
       "    </tr>\n",
       "    <tr>\n",
       "      <th>30916</th>\n",
       "      <td>70531</td>\n",
       "      <td>257304</td>\n",
       "      <td>257327</td>\n",
       "      <td>257327</td>\n",
       "      <td>257327 - Chips &amp; Snacks</td>\n",
       "      <td>Chips &amp; Snacks</td>\n",
       "    </tr>\n",
       "    <tr>\n",
       "      <th>60836</th>\n",
       "      <td>50887</td>\n",
       "      <td>36</td>\n",
       "      <td>1551</td>\n",
       "      <td>1551</td>\n",
       "      <td>1551 - Spielangeln</td>\n",
       "      <td>Spielangeln</td>\n",
       "    </tr>\n",
       "    <tr>\n",
       "      <th>44091</th>\n",
       "      <td>81721</td>\n",
       "      <td>251</td>\n",
       "      <td>140720</td>\n",
       "      <td>140720</td>\n",
       "      <td>140720 - Advance Breed</td>\n",
       "      <td>Advance Breed</td>\n",
       "    </tr>\n",
       "    <tr>\n",
       "      <th>50521</th>\n",
       "      <td>25657</td>\n",
       "      <td>65830</td>\n",
       "      <td>9863</td>\n",
       "      <td>9863</td>\n",
       "      <td>9863 - Sicherheitsweste</td>\n",
       "      <td>Sicherheitsweste</td>\n",
       "    </tr>\n",
       "    <tr>\n",
       "      <th>12146</th>\n",
       "      <td>38061</td>\n",
       "      <td>2190</td>\n",
       "      <td>323</td>\n",
       "      <td>323</td>\n",
       "      <td>323 - Tragetaschen &amp; Rucksäcke</td>\n",
       "      <td>Tragetaschen &amp; Rucksäcke</td>\n",
       "    </tr>\n",
       "    <tr>\n",
       "      <th>9910</th>\n",
       "      <td>15672</td>\n",
       "      <td>62</td>\n",
       "      <td>838</td>\n",
       "      <td>838</td>\n",
       "      <td>838 - Granulat &amp; Sticks</td>\n",
       "      <td>Granulat &amp; Sticks</td>\n",
       "    </tr>\n",
       "    <tr>\n",
       "      <th>955</th>\n",
       "      <td>7255</td>\n",
       "      <td>2155</td>\n",
       "      <td>2162</td>\n",
       "      <td>2162</td>\n",
       "      <td>2162 - Ungezieferschutz</td>\n",
       "      <td>Ungezieferschutz</td>\n",
       "    </tr>\n",
       "    <tr>\n",
       "      <th>32124</th>\n",
       "      <td>3690</td>\n",
       "      <td>274</td>\n",
       "      <td>288</td>\n",
       "      <td>288</td>\n",
       "      <td>288 - Wellensittiche</td>\n",
       "      <td>Wellensittiche</td>\n",
       "    </tr>\n",
       "    <tr>\n",
       "      <th>13577</th>\n",
       "      <td>71212</td>\n",
       "      <td>251</td>\n",
       "      <td>251032</td>\n",
       "      <td>251032</td>\n",
       "      <td>251032 - True Instinct</td>\n",
       "      <td>True Instinct</td>\n",
       "    </tr>\n",
       "    <tr>\n",
       "      <th>7332</th>\n",
       "      <td>60135</td>\n",
       "      <td>251</td>\n",
       "      <td>126615</td>\n",
       "      <td>126615</td>\n",
       "      <td>126615 - FutterBar - Lieblingsfutter mixen</td>\n",
       "      <td>FutterBar</td>\n",
       "    </tr>\n",
       "  </tbody>\n",
       "</table>\n",
       "</div>"
      ],
      "text/plain": [
       "       AP_ID  L3_PG_ID  L4_PG_ID  PPR_N_LEVEL4_ID  \\\n",
       "11791  34581       372      3662             3662   \n",
       "28681  65605    183134    183138           183138   \n",
       "20147  41546     48611         0                0   \n",
       "9656   13711      2068      2632             2632   \n",
       "14638  62800        23      2060             2060   \n",
       "28251  42135     48743         0                0   \n",
       "18746  23388       857      2128             2128   \n",
       "14279  78100       251      1310             1310   \n",
       "43150  30206        29     35032            35032   \n",
       "21182  53928     81435         0                0   \n",
       "30916  70531    257304    257327           257327   \n",
       "60836  50887        36      1551             1551   \n",
       "44091  81721       251    140720           140720   \n",
       "50521  25657     65830      9863             9863   \n",
       "12146  38061      2190       323              323   \n",
       "9910   15672        62       838              838   \n",
       "955     7255      2155      2162             2162   \n",
       "32124   3690       274       288              288   \n",
       "13577  71212       251    251032           251032   \n",
       "7332   60135       251    126615           126615   \n",
       "\n",
       "                                PPR_V_LEVEL4_DESC                     BRAND  \n",
       "11791                  3662 - Vitamine/Mineralien       Vitamine/Mineralien  \n",
       "28681                               183138 - Rind                      Rind  \n",
       "20147                                *NOT DEFINED                   unknown  \n",
       "9656                               2632 - ★ Cosma                   ★ Cosma  \n",
       "14638                     2060 - Kratzbaum mittel          Kratzbaum mittel  \n",
       "28251                                *NOT DEFINED                   unknown  \n",
       "18746                          2128 - Almo Nature               Almo Nature  \n",
       "14279                               1310 - Bozita                    Bozita  \n",
       "43150                             35032 - Feliway                   Feliway  \n",
       "21182                                *NOT DEFINED                   unknown  \n",
       "30916                     257327 - Chips & Snacks            Chips & Snacks  \n",
       "60836                          1551 - Spielangeln               Spielangeln  \n",
       "44091                      140720 - Advance Breed             Advance Breed  \n",
       "50521                     9863 - Sicherheitsweste          Sicherheitsweste  \n",
       "12146              323 - Tragetaschen & Rucksäcke  Tragetaschen & Rucksäcke  \n",
       "9910                      838 - Granulat & Sticks         Granulat & Sticks  \n",
       "955                       2162 - Ungezieferschutz          Ungezieferschutz  \n",
       "32124                        288 - Wellensittiche            Wellensittiche  \n",
       "13577                      251032 - True Instinct             True Instinct  \n",
       "7332   126615 - FutterBar - Lieblingsfutter mixen                 FutterBar  "
      ]
     },
     "execution_count": 37,
     "metadata": {},
     "output_type": "execute_result"
    }
   ],
   "source": [
    "ap_pg_brand.sample(20)"
   ]
  },
  {
   "cell_type": "code",
   "execution_count": 38,
   "metadata": {
    "ExecuteTime": {
     "end_time": "2018-11-26T12:12:17.075447Z",
     "start_time": "2018-11-26T12:12:13.277447Z"
    },
    "hidden": true
   },
   "outputs": [],
   "source": [
    "data = pd.merge(data, ap_pg_brand, how='left', left_on='SCM_AP_ID', right_on='AP_ID')"
   ]
  },
  {
   "cell_type": "code",
   "execution_count": 39,
   "metadata": {
    "ExecuteTime": {
     "end_time": "2018-11-26T12:12:23.154447Z",
     "start_time": "2018-11-26T12:12:19.816447Z"
    },
    "hidden": true
   },
   "outputs": [],
   "source": [
    "data[['AP_ID', 'L3_PG_ID', 'L4_PG_ID', 'PPR_N_LEVEL4_ID']] = data[['AP_ID', 'L3_PG_ID', 'L4_PG_ID', 'PPR_N_LEVEL4_ID']].fillna(0).astype(int)"
   ]
  },
  {
   "cell_type": "code",
   "execution_count": 40,
   "metadata": {
    "ExecuteTime": {
     "end_time": "2018-11-26T12:12:24.954447Z",
     "start_time": "2018-11-26T12:12:24.609447Z"
    },
    "hidden": true
   },
   "outputs": [
    {
     "data": {
      "text/html": [
       "<div>\n",
       "<style scoped>\n",
       "    .dataframe tbody tr th:only-of-type {\n",
       "        vertical-align: middle;\n",
       "    }\n",
       "\n",
       "    .dataframe tbody tr th {\n",
       "        vertical-align: top;\n",
       "    }\n",
       "\n",
       "    .dataframe thead th {\n",
       "        text-align: right;\n",
       "    }\n",
       "</style>\n",
       "<table border=\"1\" class=\"dataframe\">\n",
       "  <thead>\n",
       "    <tr style=\"text-align: right;\">\n",
       "      <th></th>\n",
       "      <th>SCM_N_ORDER_POS_NR</th>\n",
       "      <th>SCM_N_ORDER_NR</th>\n",
       "      <th>TDT_T_KEY_ORDER_DATE</th>\n",
       "      <th>THR_C_KEY_ORDER_HOUR</th>\n",
       "      <th>SIT_N_KEY_SITE</th>\n",
       "      <th>CUS_N_KEY_CUSTOMER</th>\n",
       "      <th>SCM_SALES_BMF</th>\n",
       "      <th>SCM_D_FINANCE_CM1</th>\n",
       "      <th>SCM_D_FINANCE_CM2</th>\n",
       "      <th>SCM_D_ORIG_FINANCE_ORDER_NET</th>\n",
       "      <th>...</th>\n",
       "      <th>D84</th>\n",
       "      <th>D168</th>\n",
       "      <th>D252</th>\n",
       "      <th>D336</th>\n",
       "      <th>AP_ID</th>\n",
       "      <th>L3_PG_ID</th>\n",
       "      <th>L4_PG_ID</th>\n",
       "      <th>PPR_N_LEVEL4_ID</th>\n",
       "      <th>PPR_V_LEVEL4_DESC</th>\n",
       "      <th>BRAND</th>\n",
       "    </tr>\n",
       "  </thead>\n",
       "  <tbody>\n",
       "    <tr>\n",
       "      <th>2295345</th>\n",
       "      <td>369211854</td>\n",
       "      <td>86569793</td>\n",
       "      <td>2017-05-01</td>\n",
       "      <td>20:44</td>\n",
       "      <td>7</td>\n",
       "      <td>16743364</td>\n",
       "      <td>12.99</td>\n",
       "      <td>5.5555</td>\n",
       "      <td>0.5298</td>\n",
       "      <td>10.7355</td>\n",
       "      <td>...</td>\n",
       "      <td>2017-07-24</td>\n",
       "      <td>2017-10-16</td>\n",
       "      <td>2018-01-08</td>\n",
       "      <td>2018-04-02</td>\n",
       "      <td>48523</td>\n",
       "      <td>9</td>\n",
       "      <td>97768</td>\n",
       "      <td>97768</td>\n",
       "      <td>97768 - Hundebetten</td>\n",
       "      <td>Hundebetten</td>\n",
       "    </tr>\n",
       "    <tr>\n",
       "      <th>346820</th>\n",
       "      <td>345042216</td>\n",
       "      <td>81092594</td>\n",
       "      <td>2017-01-19</td>\n",
       "      <td>14:13</td>\n",
       "      <td>7</td>\n",
       "      <td>15997792</td>\n",
       "      <td>72.99</td>\n",
       "      <td>15.6823</td>\n",
       "      <td>10.1323</td>\n",
       "      <td>60.3223</td>\n",
       "      <td>...</td>\n",
       "      <td>2017-04-13</td>\n",
       "      <td>2017-07-06</td>\n",
       "      <td>2017-09-28</td>\n",
       "      <td>2017-12-21</td>\n",
       "      <td>67368</td>\n",
       "      <td>252</td>\n",
       "      <td>81431</td>\n",
       "      <td>81431</td>\n",
       "      <td>81431 - Royal Canin Vet Care Nutrition</td>\n",
       "      <td>Royal Canin Vet Care Nutrition</td>\n",
       "    </tr>\n",
       "    <tr>\n",
       "      <th>3234287</th>\n",
       "      <td>418245040</td>\n",
       "      <td>98051525</td>\n",
       "      <td>2017-11-09</td>\n",
       "      <td>16:01</td>\n",
       "      <td>7</td>\n",
       "      <td>16497430</td>\n",
       "      <td>19.99</td>\n",
       "      <td>2.7407</td>\n",
       "      <td>1.4238</td>\n",
       "      <td>16.5207</td>\n",
       "      <td>...</td>\n",
       "      <td>2017-06-21</td>\n",
       "      <td>2017-09-13</td>\n",
       "      <td>2017-12-06</td>\n",
       "      <td>2018-02-28</td>\n",
       "      <td>28167</td>\n",
       "      <td>18</td>\n",
       "      <td>394</td>\n",
       "      <td>394</td>\n",
       "      <td>394 - Zahnpflege Snacks</td>\n",
       "      <td>Zahnpflege Snacks</td>\n",
       "    </tr>\n",
       "    <tr>\n",
       "      <th>2900343</th>\n",
       "      <td>326250270</td>\n",
       "      <td>76845797</td>\n",
       "      <td>2016-11-01</td>\n",
       "      <td>12:59</td>\n",
       "      <td>7</td>\n",
       "      <td>14775477</td>\n",
       "      <td>7.99</td>\n",
       "      <td>3.0133</td>\n",
       "      <td>2.3075</td>\n",
       "      <td>6.6033</td>\n",
       "      <td>...</td>\n",
       "      <td>2016-10-23</td>\n",
       "      <td>2017-01-15</td>\n",
       "      <td>2017-04-09</td>\n",
       "      <td>2017-07-02</td>\n",
       "      <td>66634</td>\n",
       "      <td>1540</td>\n",
       "      <td>1555</td>\n",
       "      <td>1555</td>\n",
       "      <td>1555 - Katzenhöhlen</td>\n",
       "      <td>Katzenhöhlen</td>\n",
       "    </tr>\n",
       "    <tr>\n",
       "      <th>4626946</th>\n",
       "      <td>241921165</td>\n",
       "      <td>57412973</td>\n",
       "      <td>2015-09-04</td>\n",
       "      <td>08:47</td>\n",
       "      <td>7</td>\n",
       "      <td>12095854</td>\n",
       "      <td>-2.90</td>\n",
       "      <td>-2.3967</td>\n",
       "      <td>-2.3967</td>\n",
       "      <td>-2.3967</td>\n",
       "      <td>...</td>\n",
       "      <td>2015-10-21</td>\n",
       "      <td>2016-01-13</td>\n",
       "      <td>2016-04-06</td>\n",
       "      <td>2016-06-29</td>\n",
       "      <td>0</td>\n",
       "      <td>0</td>\n",
       "      <td>0</td>\n",
       "      <td>0</td>\n",
       "      <td>NaN</td>\n",
       "      <td>NaN</td>\n",
       "    </tr>\n",
       "    <tr>\n",
       "      <th>1213489</th>\n",
       "      <td>372812065</td>\n",
       "      <td>87401930</td>\n",
       "      <td>2017-05-16</td>\n",
       "      <td>16:55</td>\n",
       "      <td>7</td>\n",
       "      <td>12274243</td>\n",
       "      <td>79.99</td>\n",
       "      <td>15.9074</td>\n",
       "      <td>10.5774</td>\n",
       "      <td>66.1074</td>\n",
       "      <td>...</td>\n",
       "      <td>2015-11-19</td>\n",
       "      <td>2016-02-11</td>\n",
       "      <td>2016-05-05</td>\n",
       "      <td>2016-07-28</td>\n",
       "      <td>61398</td>\n",
       "      <td>251</td>\n",
       "      <td>255</td>\n",
       "      <td>255</td>\n",
       "      <td>255 - Eukanuba</td>\n",
       "      <td>Eukanuba</td>\n",
       "    </tr>\n",
       "    <tr>\n",
       "      <th>1371999</th>\n",
       "      <td>387422693</td>\n",
       "      <td>90757819</td>\n",
       "      <td>2017-07-15</td>\n",
       "      <td>10:29</td>\n",
       "      <td>7</td>\n",
       "      <td>12736479</td>\n",
       "      <td>2.99</td>\n",
       "      <td>2.4711</td>\n",
       "      <td>2.4711</td>\n",
       "      <td>2.4711</td>\n",
       "      <td>...</td>\n",
       "      <td>2016-01-26</td>\n",
       "      <td>2016-04-19</td>\n",
       "      <td>2016-07-12</td>\n",
       "      <td>2016-10-04</td>\n",
       "      <td>0</td>\n",
       "      <td>0</td>\n",
       "      <td>0</td>\n",
       "      <td>0</td>\n",
       "      <td>NaN</td>\n",
       "      <td>NaN</td>\n",
       "    </tr>\n",
       "    <tr>\n",
       "      <th>335150</th>\n",
       "      <td>340152671</td>\n",
       "      <td>79965200</td>\n",
       "      <td>2016-12-29</td>\n",
       "      <td>15:08</td>\n",
       "      <td>7</td>\n",
       "      <td>14551255</td>\n",
       "      <td>17.49</td>\n",
       "      <td>3.5045</td>\n",
       "      <td>-1.6709</td>\n",
       "      <td>14.4545</td>\n",
       "      <td>...</td>\n",
       "      <td>2016-09-21</td>\n",
       "      <td>2016-12-14</td>\n",
       "      <td>2017-03-08</td>\n",
       "      <td>2017-05-31</td>\n",
       "      <td>71110</td>\n",
       "      <td>252</td>\n",
       "      <td>42545</td>\n",
       "      <td>42545</td>\n",
       "      <td>42545 - Purina ONE</td>\n",
       "      <td>Purina ONE</td>\n",
       "    </tr>\n",
       "    <tr>\n",
       "      <th>5570819</th>\n",
       "      <td>370028564</td>\n",
       "      <td>86755651</td>\n",
       "      <td>2017-05-04</td>\n",
       "      <td>16:38</td>\n",
       "      <td>7</td>\n",
       "      <td>16226721</td>\n",
       "      <td>3.99</td>\n",
       "      <td>2.2175</td>\n",
       "      <td>1.6266</td>\n",
       "      <td>3.2975</td>\n",
       "      <td>...</td>\n",
       "      <td>2017-05-14</td>\n",
       "      <td>2017-08-06</td>\n",
       "      <td>2017-10-29</td>\n",
       "      <td>2018-01-21</td>\n",
       "      <td>7710</td>\n",
       "      <td>2155</td>\n",
       "      <td>2158</td>\n",
       "      <td>2158</td>\n",
       "      <td>2158 - Kippfenster-Schutzgitter</td>\n",
       "      <td>Kippfenster-Schutzgitter</td>\n",
       "    </tr>\n",
       "    <tr>\n",
       "      <th>2274086</th>\n",
       "      <td>288318056</td>\n",
       "      <td>68114465</td>\n",
       "      <td>2016-05-01</td>\n",
       "      <td>21:50</td>\n",
       "      <td>7</td>\n",
       "      <td>14108356</td>\n",
       "      <td>3.89</td>\n",
       "      <td>3.2149</td>\n",
       "      <td>3.2149</td>\n",
       "      <td>3.2149</td>\n",
       "      <td>...</td>\n",
       "      <td>2016-07-24</td>\n",
       "      <td>2016-10-16</td>\n",
       "      <td>2017-01-08</td>\n",
       "      <td>2017-04-02</td>\n",
       "      <td>0</td>\n",
       "      <td>0</td>\n",
       "      <td>0</td>\n",
       "      <td>0</td>\n",
       "      <td>NaN</td>\n",
       "      <td>NaN</td>\n",
       "    </tr>\n",
       "  </tbody>\n",
       "</table>\n",
       "<p>10 rows × 42 columns</p>\n",
       "</div>"
      ],
      "text/plain": [
       "         SCM_N_ORDER_POS_NR  SCM_N_ORDER_NR TDT_T_KEY_ORDER_DATE  \\\n",
       "2295345           369211854        86569793           2017-05-01   \n",
       "346820            345042216        81092594           2017-01-19   \n",
       "3234287           418245040        98051525           2017-11-09   \n",
       "2900343           326250270        76845797           2016-11-01   \n",
       "4626946           241921165        57412973           2015-09-04   \n",
       "1213489           372812065        87401930           2017-05-16   \n",
       "1371999           387422693        90757819           2017-07-15   \n",
       "335150            340152671        79965200           2016-12-29   \n",
       "5570819           370028564        86755651           2017-05-04   \n",
       "2274086           288318056        68114465           2016-05-01   \n",
       "\n",
       "        THR_C_KEY_ORDER_HOUR  SIT_N_KEY_SITE  CUS_N_KEY_CUSTOMER  \\\n",
       "2295345                20:44               7            16743364   \n",
       "346820                 14:13               7            15997792   \n",
       "3234287                16:01               7            16497430   \n",
       "2900343                12:59               7            14775477   \n",
       "4626946                08:47               7            12095854   \n",
       "1213489                16:55               7            12274243   \n",
       "1371999                10:29               7            12736479   \n",
       "335150                 15:08               7            14551255   \n",
       "5570819                16:38               7            16226721   \n",
       "2274086                21:50               7            14108356   \n",
       "\n",
       "         SCM_SALES_BMF  SCM_D_FINANCE_CM1  SCM_D_FINANCE_CM2  \\\n",
       "2295345          12.99             5.5555             0.5298   \n",
       "346820           72.99            15.6823            10.1323   \n",
       "3234287          19.99             2.7407             1.4238   \n",
       "2900343           7.99             3.0133             2.3075   \n",
       "4626946          -2.90            -2.3967            -2.3967   \n",
       "1213489          79.99            15.9074            10.5774   \n",
       "1371999           2.99             2.4711             2.4711   \n",
       "335150           17.49             3.5045            -1.6709   \n",
       "5570819           3.99             2.2175             1.6266   \n",
       "2274086           3.89             3.2149             3.2149   \n",
       "\n",
       "         SCM_D_ORIG_FINANCE_ORDER_NET               ...                \\\n",
       "2295345                       10.7355               ...                 \n",
       "346820                        60.3223               ...                 \n",
       "3234287                       16.5207               ...                 \n",
       "2900343                        6.6033               ...                 \n",
       "4626946                       -2.3967               ...                 \n",
       "1213489                       66.1074               ...                 \n",
       "1371999                        2.4711               ...                 \n",
       "335150                        14.4545               ...                 \n",
       "5570819                        3.2975               ...                 \n",
       "2274086                        3.2149               ...                 \n",
       "\n",
       "               D84       D168       D252       D336  AP_ID  L3_PG_ID  \\\n",
       "2295345 2017-07-24 2017-10-16 2018-01-08 2018-04-02  48523         9   \n",
       "346820  2017-04-13 2017-07-06 2017-09-28 2017-12-21  67368       252   \n",
       "3234287 2017-06-21 2017-09-13 2017-12-06 2018-02-28  28167        18   \n",
       "2900343 2016-10-23 2017-01-15 2017-04-09 2017-07-02  66634      1540   \n",
       "4626946 2015-10-21 2016-01-13 2016-04-06 2016-06-29      0         0   \n",
       "1213489 2015-11-19 2016-02-11 2016-05-05 2016-07-28  61398       251   \n",
       "1371999 2016-01-26 2016-04-19 2016-07-12 2016-10-04      0         0   \n",
       "335150  2016-09-21 2016-12-14 2017-03-08 2017-05-31  71110       252   \n",
       "5570819 2017-05-14 2017-08-06 2017-10-29 2018-01-21   7710      2155   \n",
       "2274086 2016-07-24 2016-10-16 2017-01-08 2017-04-02      0         0   \n",
       "\n",
       "         L4_PG_ID  PPR_N_LEVEL4_ID                       PPR_V_LEVEL4_DESC  \\\n",
       "2295345     97768            97768                     97768 - Hundebetten   \n",
       "346820      81431            81431  81431 - Royal Canin Vet Care Nutrition   \n",
       "3234287       394              394                 394 - Zahnpflege Snacks   \n",
       "2900343      1555             1555                     1555 - Katzenhöhlen   \n",
       "4626946         0                0                                     NaN   \n",
       "1213489       255              255                          255 - Eukanuba   \n",
       "1371999         0                0                                     NaN   \n",
       "335150      42545            42545                      42545 - Purina ONE   \n",
       "5570819      2158             2158         2158 - Kippfenster-Schutzgitter   \n",
       "2274086         0                0                                     NaN   \n",
       "\n",
       "                                  BRAND  \n",
       "2295345                     Hundebetten  \n",
       "346820   Royal Canin Vet Care Nutrition  \n",
       "3234287               Zahnpflege Snacks  \n",
       "2900343                    Katzenhöhlen  \n",
       "4626946                             NaN  \n",
       "1213489                        Eukanuba  \n",
       "1371999                             NaN  \n",
       "335150                       Purina ONE  \n",
       "5570819        Kippfenster-Schutzgitter  \n",
       "2274086                             NaN  \n",
       "\n",
       "[10 rows x 42 columns]"
      ]
     },
     "execution_count": 40,
     "metadata": {},
     "output_type": "execute_result"
    }
   ],
   "source": [
    "data.sample(10)"
   ]
  },
  {
   "cell_type": "code",
   "execution_count": 41,
   "metadata": {
    "ExecuteTime": {
     "end_time": "2018-11-26T12:12:30.548447Z",
     "start_time": "2018-11-26T12:12:30.346447Z"
    },
    "hidden": true
   },
   "outputs": [
    {
     "data": {
      "text/plain": [
       "SCM_N_ORDER_POS_NR                        429581762\n",
       "SCM_N_ORDER_NR                            100670664\n",
       "TDT_T_KEY_ORDER_DATE            2017-12-15 00:00:00\n",
       "THR_C_KEY_ORDER_HOUR                          13:12\n",
       "SIT_N_KEY_SITE                                    7\n",
       "CUS_N_KEY_CUSTOMER                         17118794\n",
       "SCM_SALES_BMF                                 -3.02\n",
       "SCM_D_FINANCE_CM1                           -2.4959\n",
       "SCM_D_FINANCE_CM2                           -2.4959\n",
       "SCM_D_ORIG_FINANCE_ORDER_NET                -2.4959\n",
       "SCM_AP_ID                                         0\n",
       "SCM_AS_ID                                         6\n",
       "SCM_MASTER_AP_ID                              42715\n",
       "OSP_KO_COUNT_NET                                 10\n",
       "OSP_3_LEAD_P_PG_ID                             2068\n",
       "OSP_3_LEAD_P_PG_SHARE                        0.2667\n",
       "OSP_4_LEAD_P_PG_ID                           273357\n",
       "OSP_4_LEAD_P_PG_SHARE                        0.2478\n",
       "CZP_START_DATE                  2017-07-03 18:32:00\n",
       "CZP_EXPIRY_DATE                 2018-07-03 23:59:00\n",
       "CZP_ZTQ_ID                                       56\n",
       "CZP_PERCENTAGE                                    5\n",
       "CZP_PRICE                                      4.99\n",
       "ORDER_DATETIME                  2017-12-15 13:12:00\n",
       "FIRST_O_DATE                    2017-07-03 00:00:00\n",
       "LAST_O_DATE                     2018-06-16 00:00:00\n",
       "1ST_O_COUNTER                                     2\n",
       "MAX_SALES_O_POS                               14.99\n",
       "IS_LEAD_AS                                        0\n",
       "LEAD_AS_ID                                  2292287\n",
       "D28                             2017-07-31 00:00:00\n",
       "D56                             2017-08-28 00:00:00\n",
       "D84                             2017-09-25 00:00:00\n",
       "D168                            2017-12-18 00:00:00\n",
       "D252                            2018-03-12 00:00:00\n",
       "D336                            2018-06-04 00:00:00\n",
       "AP_ID                                             0\n",
       "L3_PG_ID                                          0\n",
       "L4_PG_ID                                          0\n",
       "PPR_N_LEVEL4_ID                                   0\n",
       "PPR_V_LEVEL4_DESC                               NaN\n",
       "BRAND                                           NaN\n",
       "Name: 2359877, dtype: object"
      ]
     },
     "execution_count": 41,
     "metadata": {},
     "output_type": "execute_result"
    }
   ],
   "source": [
    "data.loc[2359877]"
   ]
  },
  {
   "cell_type": "code",
   "execution_count": 42,
   "metadata": {
    "ExecuteTime": {
     "end_time": "2018-11-26T12:12:33.685447Z",
     "start_time": "2018-11-26T12:12:33.673447Z"
    },
    "hidden": true
   },
   "outputs": [
    {
     "data": {
      "text/plain": [
       "Index(['SCM_N_ORDER_POS_NR', 'SCM_N_ORDER_NR', 'TDT_T_KEY_ORDER_DATE',\n",
       "       'THR_C_KEY_ORDER_HOUR', 'SIT_N_KEY_SITE', 'CUS_N_KEY_CUSTOMER',\n",
       "       'SCM_SALES_BMF', 'SCM_D_FINANCE_CM1', 'SCM_D_FINANCE_CM2',\n",
       "       'SCM_D_ORIG_FINANCE_ORDER_NET', 'SCM_AP_ID', 'SCM_AS_ID',\n",
       "       'SCM_MASTER_AP_ID', 'OSP_KO_COUNT_NET', 'OSP_3_LEAD_P_PG_ID',\n",
       "       'OSP_3_LEAD_P_PG_SHARE', 'OSP_4_LEAD_P_PG_ID', 'OSP_4_LEAD_P_PG_SHARE',\n",
       "       'CZP_START_DATE', 'CZP_EXPIRY_DATE', 'CZP_ZTQ_ID', 'CZP_PERCENTAGE',\n",
       "       'CZP_PRICE', 'ORDER_DATETIME', 'FIRST_O_DATE', 'LAST_O_DATE',\n",
       "       '1ST_O_COUNTER', 'MAX_SALES_O_POS', 'IS_LEAD_AS', 'LEAD_AS_ID', 'D28',\n",
       "       'D56', 'D84', 'D168', 'D252', 'D336', 'AP_ID', 'L3_PG_ID', 'L4_PG_ID',\n",
       "       'PPR_N_LEVEL4_ID', 'PPR_V_LEVEL4_DESC', 'BRAND'],\n",
       "      dtype='object')"
      ]
     },
     "execution_count": 42,
     "metadata": {},
     "output_type": "execute_result"
    }
   ],
   "source": [
    "data.columns"
   ]
  },
  {
   "cell_type": "code",
   "execution_count": 43,
   "metadata": {
    "ExecuteTime": {
     "end_time": "2018-11-26T12:12:50.872447Z",
     "start_time": "2018-11-26T12:12:35.857447Z"
    },
    "hidden": true
   },
   "outputs": [],
   "source": [
    "#data.to_pickle(\"./orders_nl_shop_sp_cross_selling_v2.pkl\")"
   ]
  },
  {
   "cell_type": "markdown",
   "metadata": {
    "heading_collapsed": true
   },
   "source": [
    "### Order level"
   ]
  },
  {
   "cell_type": "code",
   "execution_count": 2,
   "metadata": {
    "ExecuteTime": {
     "end_time": "2018-11-16T16:12:21.399781Z",
     "start_time": "2018-11-16T16:12:14.636781Z"
    },
    "hidden": true
   },
   "outputs": [],
   "source": [
    "#data = pd.read_pickle(\"./orders_nl_shop_sp_cross_selling_v2.pkl\")"
   ]
  },
  {
   "cell_type": "code",
   "execution_count": 44,
   "metadata": {
    "ExecuteTime": {
     "end_time": "2018-11-26T12:12:55.833447Z",
     "start_time": "2018-11-26T12:12:55.819447Z"
    },
    "hidden": true
   },
   "outputs": [],
   "source": [
    "agg_ops = {'TDT_T_KEY_ORDER_DATE': min,\n",
    "          'CUS_N_KEY_CUSTOMER': min,\n",
    "          'SCM_SALES_BMF': [sum, lambda x: list(np.round(x, 2))],\n",
    "          'SCM_D_FINANCE_CM1': sum,\n",
    "          'SCM_D_FINANCE_CM2': sum,\n",
    "          'SCM_D_ORIG_FINANCE_ORDER_NET': sum,\n",
    "          'OSP_KO_COUNT_NET': min,\n",
    "          'SCM_AP_ID': lambda x: list(x),\n",
    "          'L4_PG_ID': lambda x: list(x),\n",
    "          'BRAND': lambda x: list(x),\n",
    "          'PPR_V_LEVEL4_DESC': lambda x: list(x),\n",
    "          'L3_PG_ID': lambda x: list(x),\n",
    "          'SCM_AS_ID': lambda x: list(x),\n",
    "          'LEAD_AS_ID': max,\n",
    "          'SCM_MASTER_AP_ID': lambda x: list(x),\n",
    "          'CZP_ZTQ_ID': min, \n",
    "          'CZP_START_DATE': min,\n",
    "          'CZP_EXPIRY_DATE': min,\n",
    "          'ORDER_DATETIME': min,\n",
    "          'FIRST_O_DATE': min,\n",
    "          'LAST_O_DATE': min,\n",
    "          '1ST_O_COUNTER': min,\n",
    "          'D28': min,\n",
    "          'D56': min,\n",
    "          'D84': min,\n",
    "          'D252': min,\n",
    "          'D252': min,\n",
    "          'D336': min\n",
    "          }"
   ]
  },
  {
   "cell_type": "code",
   "execution_count": 45,
   "metadata": {
    "ExecuteTime": {
     "end_time": "2018-11-26T12:24:03.808447Z",
     "start_time": "2018-11-26T12:12:59.529447Z"
    },
    "hidden": true
   },
   "outputs": [],
   "source": [
    "orders = data.groupby('SCM_N_ORDER_NR', as_index=False).agg(agg_ops)"
   ]
  },
  {
   "cell_type": "code",
   "execution_count": 46,
   "metadata": {
    "ExecuteTime": {
     "end_time": "2018-11-26T12:25:14.557447Z",
     "start_time": "2018-11-26T12:25:14.552447Z"
    },
    "hidden": true
   },
   "outputs": [],
   "source": [
    "orders.columns = ['_'.join(tup).rstrip('_') for tup in orders.columns.values]"
   ]
  },
  {
   "cell_type": "code",
   "execution_count": 47,
   "metadata": {
    "ExecuteTime": {
     "end_time": "2018-11-26T12:25:16.417447Z",
     "start_time": "2018-11-26T12:25:16.411447Z"
    },
    "hidden": true
   },
   "outputs": [],
   "source": [
    "orders.columns = ['SCM_N_ORDER_NR', 'TDT_T_KEY_ORDER_DATE', 'CUS_N_KEY_CUSTOMER',\n",
    "       'SCM_SALES_BMF_sum', 'SCM_SALES_BMF_list', 'SCM_D_FINANCE_CM1',\n",
    "       'SCM_D_FINANCE_CM2', 'SCM_D_ORIG_FINANCE_ORDER_NET',\n",
    "       'OSP_KO_COUNT_NET', 'SCM_AP_ID_list', 'L4_PG_ID_list',\n",
    "       'BRAND_list', 'PPR_V_LEVEL4_DESC_list', 'L3_PG_ID_list',\n",
    "       'SCM_AS_ID_list', 'LEAD_AS_ID', 'SCM_MASTER_AP_ID_list',\n",
    "       'CZP_ZTQ_ID', 'CZP_START_DATE', 'CZP_EXPIRY_DATE',\n",
    "       'ORDER_DATETIME', 'FIRST_O_DATE', 'LAST_O_DATE',\n",
    "       '1ST_O_COUNTER', 'D28', 'D56', 'D84', 'D252',\n",
    "       'D252', 'D336']"
   ]
  },
  {
   "cell_type": "code",
   "execution_count": 48,
   "metadata": {
    "ExecuteTime": {
     "end_time": "2018-11-26T12:25:19.290447Z",
     "start_time": "2018-11-26T12:25:19.017447Z"
    },
    "hidden": true
   },
   "outputs": [],
   "source": [
    "orders['SP_PURCHASE'] = [42225 in i for i in orders['SCM_MASTER_AP_ID_list'].values]"
   ]
  },
  {
   "cell_type": "code",
   "execution_count": 49,
   "metadata": {
    "ExecuteTime": {
     "end_time": "2018-11-26T12:25:24.125447Z",
     "start_time": "2018-11-26T12:25:24.073447Z"
    },
    "hidden": true
   },
   "outputs": [
    {
     "data": {
      "text/plain": [
       "False    1432595\n",
       "True       80136\n",
       "Name: SP_PURCHASE, dtype: int64"
      ]
     },
     "execution_count": 49,
     "metadata": {},
     "output_type": "execute_result"
    }
   ],
   "source": [
    "orders['SP_PURCHASE'].value_counts()"
   ]
  },
  {
   "cell_type": "code",
   "execution_count": 50,
   "metadata": {
    "ExecuteTime": {
     "end_time": "2018-11-26T12:25:28.328447Z",
     "start_time": "2018-11-26T12:25:28.037447Z"
    },
    "hidden": true
   },
   "outputs": [],
   "source": [
    "orders['SP_DISC'] = [42715 in i for i in orders['SCM_MASTER_AP_ID_list'].values]"
   ]
  },
  {
   "cell_type": "code",
   "execution_count": 51,
   "metadata": {
    "ExecuteTime": {
     "end_time": "2018-11-26T12:25:32.194447Z",
     "start_time": "2018-11-26T12:25:32.146447Z"
    },
    "hidden": true
   },
   "outputs": [
    {
     "data": {
      "text/plain": [
       "False    1069368\n",
       "True      443363\n",
       "Name: SP_DISC, dtype: int64"
      ]
     },
     "execution_count": 51,
     "metadata": {},
     "output_type": "execute_result"
    }
   ],
   "source": [
    "orders['SP_DISC'].value_counts()"
   ]
  },
  {
   "cell_type": "markdown",
   "metadata": {
    "hidden": true
   },
   "source": [
    "We need to calculate, for each order, sales per PG3/PG4/BRAND... "
   ]
  },
  {
   "cell_type": "code",
   "execution_count": 52,
   "metadata": {
    "ExecuteTime": {
     "end_time": "2018-11-26T12:25:39.560447Z",
     "start_time": "2018-11-26T12:25:35.896447Z"
    },
    "hidden": true
   },
   "outputs": [],
   "source": [
    "orders['PG3_SALES'] = [[(a, b) for a, b in list(zip(i, j))] for i, j in list(zip(orders['L3_PG_ID_list'], \n",
    "                                                                                 orders['SCM_SALES_BMF_list']))]"
   ]
  },
  {
   "cell_type": "code",
   "execution_count": 53,
   "metadata": {
    "ExecuteTime": {
     "end_time": "2018-11-26T12:25:45.422447Z",
     "start_time": "2018-11-26T12:25:41.357447Z"
    },
    "hidden": true
   },
   "outputs": [],
   "source": [
    "orders['PG4_SALES'] = [[(a, b) for a, b in list(zip(i, j))] for i, j in list(zip(orders['L4_PG_ID_list'], \n",
    "                                                                                 orders['SCM_SALES_BMF_list']))]"
   ]
  },
  {
   "cell_type": "code",
   "execution_count": 54,
   "metadata": {
    "ExecuteTime": {
     "end_time": "2018-11-26T12:25:49.926447Z",
     "start_time": "2018-11-26T12:25:47.339447Z"
    },
    "hidden": true
   },
   "outputs": [],
   "source": [
    "orders['BRAND_SALES'] = [[(a, b) for a, b in list(zip(i, j))] for i, j in list(zip(orders['BRAND_list'], \n",
    "                                                                                   orders['SCM_SALES_BMF_list']))]"
   ]
  },
  {
   "cell_type": "code",
   "execution_count": 55,
   "metadata": {
    "ExecuteTime": {
     "end_time": "2018-11-26T12:26:41.461447Z",
     "start_time": "2018-11-26T12:26:00.826447Z"
    },
    "hidden": true
   },
   "outputs": [],
   "source": [
    "orders['PG3_AGGSALES'] = [sorted([(pg3, np.round(sum([sales_ for pg_3_, sales_ in i if pg3==pg_3_\n",
    "                                                        ]), 3)) \n",
    "                        for pg3 in set([pg_3 for pg_3, sales in i])], key= lambda x: x[1], reverse=True) \n",
    "                        for i in orders['PG3_SALES']]"
   ]
  },
  {
   "cell_type": "code",
   "execution_count": 56,
   "metadata": {
    "ExecuteTime": {
     "end_time": "2018-11-26T12:27:28.365447Z",
     "start_time": "2018-11-26T12:26:43.698447Z"
    },
    "hidden": true
   },
   "outputs": [],
   "source": [
    "orders['PG4_AGGSALES'] = [sorted([(pg4, np.round(sum([sales_ for pg_4_, sales_ in i if pg4==pg_4_\n",
    "                                                        ]), 3)) \n",
    "                        for pg4 in set([pg_4 for pg_4, sales in i])], key= lambda x: x[1], reverse=True) \n",
    "                        for i in orders['PG4_SALES']]"
   ]
  },
  {
   "cell_type": "code",
   "execution_count": 57,
   "metadata": {
    "ExecuteTime": {
     "end_time": "2018-11-26T12:28:15.470447Z",
     "start_time": "2018-11-26T12:27:30.900447Z"
    },
    "hidden": true
   },
   "outputs": [],
   "source": [
    "orders['BRAND_AGGSALES'] = [sorted([(brand_, np.round(sum([sales_ for brand__, sales_ in i if brand_== brand__\n",
    "                                                        ]), 3)) \n",
    "                        for brand_ in set([brand for brand, sales in i])], key= lambda x: x[1], reverse=True) \n",
    "                        for i in orders['BRAND_SALES']]"
   ]
  },
  {
   "cell_type": "code",
   "execution_count": 58,
   "metadata": {
    "ExecuteTime": {
     "end_time": "2018-11-26T12:28:19.174447Z",
     "start_time": "2018-11-26T12:28:18.234447Z"
    },
    "hidden": true
   },
   "outputs": [
    {
     "data": {
      "text/html": [
       "<div>\n",
       "<style scoped>\n",
       "    .dataframe tbody tr th:only-of-type {\n",
       "        vertical-align: middle;\n",
       "    }\n",
       "\n",
       "    .dataframe tbody tr th {\n",
       "        vertical-align: top;\n",
       "    }\n",
       "\n",
       "    .dataframe thead th {\n",
       "        text-align: right;\n",
       "    }\n",
       "</style>\n",
       "<table border=\"1\" class=\"dataframe\">\n",
       "  <thead>\n",
       "    <tr style=\"text-align: right;\">\n",
       "      <th></th>\n",
       "      <th>SCM_SALES_BMF_list</th>\n",
       "      <th>SCM_AP_ID_list</th>\n",
       "      <th>SP_DISC</th>\n",
       "      <th>L3_PG_ID_list</th>\n",
       "      <th>PG3_SALES</th>\n",
       "      <th>PG3_AGGSALES</th>\n",
       "      <th>L4_PG_ID_list</th>\n",
       "      <th>PG4_SALES</th>\n",
       "      <th>PG4_AGGSALES</th>\n",
       "      <th>BRAND_list</th>\n",
       "      <th>BRAND_SALES</th>\n",
       "      <th>BRAND_AGGSALES</th>\n",
       "    </tr>\n",
       "  </thead>\n",
       "  <tbody>\n",
       "    <tr>\n",
       "      <th>1310685</th>\n",
       "      <td>[9.99, 6.99, 6.99, 6.99, 6.99, -2.6, 6.99, 6.99]</td>\n",
       "      <td>[62406, 51231, 51226, 58168, 51230, 0, 58244, ...</td>\n",
       "      <td>True</td>\n",
       "      <td>[18, 857, 857, 857, 857, 0, 857, 857]</td>\n",
       "      <td>[(18, 9.99), (857, 6.99), (857, 6.99), (857, 6...</td>\n",
       "      <td>[(857, 41.94), (18, 9.99), (0, -2.6)]</td>\n",
       "      <td>[948, 858, 858, 858, 858, 0, 858, 858]</td>\n",
       "      <td>[(948, 9.99), (858, 6.99), (858, 6.99), (858, ...</td>\n",
       "      <td>[(858, 41.94), (948, 9.99), (0, -2.6)]</td>\n",
       "      <td>[Kaurolle &amp; Kaustange, Animonda, Animonda, Ani...</td>\n",
       "      <td>[(Kaurolle &amp; Kaustange, 9.99), (Animonda, 6.99...</td>\n",
       "      <td>[(Animonda, 41.94), (Kaurolle &amp; Kaustange, 9.9...</td>\n",
       "    </tr>\n",
       "    <tr>\n",
       "      <th>50382</th>\n",
       "      <td>[4.99, -10.86, 3.69, 21.98, 17.99, 59.99]</td>\n",
       "      <td>[24499, 0, 5855, 22185, 56869, 49220]</td>\n",
       "      <td>False</td>\n",
       "      <td>[401, 0, 401, 301, 18, 251]</td>\n",
       "      <td>[(401, 4.99), (0, -10.86), (401, 3.69), (301, ...</td>\n",
       "      <td>[(251, 59.99), (301, 21.98), (18, 17.99), (401...</td>\n",
       "      <td>[796, 0, 1084, 10331, 101, 719]</td>\n",
       "      <td>[(796, 4.99), (0, -10.86), (1084, 3.69), (1033...</td>\n",
       "      <td>[(719, 59.99), (10331, 21.98), (101, 17.99), (...</td>\n",
       "      <td>[Drops, nan, Kräcker &amp;  Gebackenes, ★ Tigerino...</td>\n",
       "      <td>[(Drops, 4.99), (nan, -10.86), (Kräcker &amp;  Geb...</td>\n",
       "      <td>[(Hill's Science Plan, 59.99), (★ Tigerino, 21...</td>\n",
       "    </tr>\n",
       "    <tr>\n",
       "      <th>1174506</th>\n",
       "      <td>[3.99, 7.99, 5.12, 1.19, 2.99, 11.82, 3.98, 12...</td>\n",
       "      <td>[62080, 62079, 50305, 72421, 42225, 22185, 691...</td>\n",
       "      <td>True</td>\n",
       "      <td>[221, 221, 2068, 221, 48963, 301, 2068, 221, 0...</td>\n",
       "      <td>[(221, 3.99), (221, 7.99), (2068, 5.12), (221,...</td>\n",
       "      <td>[(221, 26.16), (301, 11.82), (2068, 9.1), (489...</td>\n",
       "      <td>[23080, 23080, 2072, 23080, 0, 10331, 2072, 23...</td>\n",
       "      <td>[(23080, 3.99), (23080, 7.99), (2072, 5.12), (...</td>\n",
       "      <td>[(23080, 26.16), (10331, 11.82), (2072, 9.1), ...</td>\n",
       "      <td>[Wildvogelfutter, Wildvogelfutter, Gourmet Gol...</td>\n",
       "      <td>[(Wildvogelfutter, 3.99), (Wildvogelfutter, 7....</td>\n",
       "      <td>[(Wildvogelfutter, 26.16), (★ Tigerino, 11.82)...</td>\n",
       "    </tr>\n",
       "    <tr>\n",
       "      <th>1062985</th>\n",
       "      <td>[7.99, 3.99, 2.99, 1.49, 3.69, 9.99]</td>\n",
       "      <td>[50638, 50550, 50636, 26412, 29410, 56635]</td>\n",
       "      <td>False</td>\n",
       "      <td>[42, 42, 42, 36, 42, 20]</td>\n",
       "      <td>[(42, 7.99), (42, 3.99), (42, 2.99), (36, 1.49...</td>\n",
       "      <td>[(42, 18.66), (20, 9.99), (36, 1.49)]</td>\n",
       "      <td>[2275, 2275, 2275, 1551, 2276, 350]</td>\n",
       "      <td>[(2275, 7.99), (2275, 3.99), (2275, 2.99), (15...</td>\n",
       "      <td>[(2275, 14.97), (350, 9.99), (2276, 3.69), (15...</td>\n",
       "      <td>[Brücken &amp; Treppen, Brücken &amp; Treppen, Brücken...</td>\n",
       "      <td>[(Brücken &amp; Treppen, 7.99), (Brücken &amp; Treppen...</td>\n",
       "      <td>[(Brücken &amp; Treppen, 14.97), (Intelligenzspiel...</td>\n",
       "    </tr>\n",
       "    <tr>\n",
       "      <th>640955</th>\n",
       "      <td>[6.49, 29.99, 5.99, 5.99, 6.49, 5.99, -1.59, 5...</td>\n",
       "      <td>[63702, 67610, 62794, 55569, 63649, 66908, 0, ...</td>\n",
       "      <td>False</td>\n",
       "      <td>[34, 29, 34, 34, 34, 34, 0, 34, 0, 34, 34]</td>\n",
       "      <td>[(34, 6.49), (29, 29.99), (34, 5.99), (34, 5.9...</td>\n",
       "      <td>[(34, 49.42), (29, 29.99), (0, -6.54)]</td>\n",
       "      <td>[71978, 35032, 71978, 71978, 71978, 71978, 0, ...</td>\n",
       "      <td>[(71978, 6.49), (35032, 29.99), (71978, 5.99),...</td>\n",
       "      <td>[(71978, 49.42), (35032, 29.99), (0, -6.54)]</td>\n",
       "      <td>[Knuspersnacks, Feliway, Knuspersnacks, Knuspe...</td>\n",
       "      <td>[(Knuspersnacks, 6.49), (Feliway, 29.99), (Knu...</td>\n",
       "      <td>[(Knuspersnacks, 49.42), (Feliway, 29.99), (na...</td>\n",
       "    </tr>\n",
       "    <tr>\n",
       "      <th>914863</th>\n",
       "      <td>[-1.46, 11.97, 11.97, 11.97, 11.97, 6.99, 11.9...</td>\n",
       "      <td>[0, 71112, 71107, 71114, 71115, 64625, 71063, ...</td>\n",
       "      <td>False</td>\n",
       "      <td>[0, 252, 252, 252, 252, 34, 252, 34]</td>\n",
       "      <td>[(0, -1.46), (252, 11.97), (252, 11.97), (252,...</td>\n",
       "      <td>[(252, 59.85), (34, 12.98), (0, -1.46)]</td>\n",
       "      <td>[0, 42545, 42545, 42545, 42545, 1559, 42545, 1...</td>\n",
       "      <td>[(0, -1.46), (42545, 11.97), (42545, 11.97), (...</td>\n",
       "      <td>[(42545, 59.85), (1559, 12.98), (0, -1.46)]</td>\n",
       "      <td>[nan, Purina ONE, Purina ONE, Purina ONE, Puri...</td>\n",
       "      <td>[(nan, -1.46), (Purina ONE, 11.97), (Purina ON...</td>\n",
       "      <td>[(Purina ONE, 59.85), (Pasten &amp; Cremes, 12.98)...</td>\n",
       "    </tr>\n",
       "    <tr>\n",
       "      <th>1372805</th>\n",
       "      <td>[-3.0, 0.0, 24.99, 3.0, 3.0, 3.0, 3.0, 0.0, 3....</td>\n",
       "      <td>[0, 64105, 61322, 62837, 62731, 68103, 62854, ...</td>\n",
       "      <td>True</td>\n",
       "      <td>[0, 857, 252, 2068, 2068, 2068, 2068, 857, 206...</td>\n",
       "      <td>[(0, -3.0), (857, 0.0), (252, 24.99), (2068, 3...</td>\n",
       "      <td>[(252, 24.99), (2068, 24.0), (38, 10.99), (36,...</td>\n",
       "      <td>[0, 6530, 9702, 2127, 2127, 2127, 2127, 14463,...</td>\n",
       "      <td>[(0, -3.0), (6530, 0.0), (9702, 24.99), (2127,...</td>\n",
       "      <td>[(9702, 24.99), (2127, 24.0), (139, 10.99), (6...</td>\n",
       "      <td>[nan, ★ Rocco, Royal Canin Pure Feline, Almo N...</td>\n",
       "      <td>[(nan, -3.0), (★ Rocco, 0.0), (Royal Canin Pur...</td>\n",
       "      <td>[(Royal Canin Pure Feline, 24.99), (Almo Natur...</td>\n",
       "    </tr>\n",
       "    <tr>\n",
       "      <th>730411</th>\n",
       "      <td>[20.99, -5.52, 64.98, 24.99, 69.99, 2.99]</td>\n",
       "      <td>[67609, 0, 52641, 67406, 69109, 66270]</td>\n",
       "      <td>True</td>\n",
       "      <td>[29, 0, 252, 2068, 23, 23]</td>\n",
       "      <td>[(29, 20.99), (0, -5.52), (252, 64.98), (2068,...</td>\n",
       "      <td>[(23, 72.98), (252, 64.98), (2068, 24.99), (29...</td>\n",
       "      <td>[35032, 0, 81397, 218624, 49727, 50014]</td>\n",
       "      <td>[(35032, 20.99), (0, -5.52), (81397, 64.98), (...</td>\n",
       "      <td>[(49727, 69.99), (81397, 64.98), (218624, 24.9...</td>\n",
       "      <td>[Feliway, nan, Royal Canin Veterinary Diet, Ro...</td>\n",
       "      <td>[(Feliway, 20.99), (nan, -5.52), (Royal Canin ...</td>\n",
       "      <td>[(Royal Canin Veterinary Diet, 89.97), (Kratzt...</td>\n",
       "    </tr>\n",
       "    <tr>\n",
       "      <th>590417</th>\n",
       "      <td>[72.99]</td>\n",
       "      <td>[26938]</td>\n",
       "      <td>False</td>\n",
       "      <td>[2155]</td>\n",
       "      <td>[(2155, 72.99)]</td>\n",
       "      <td>[(2155, 72.99)]</td>\n",
       "      <td>[2157]</td>\n",
       "      <td>[(2157, 72.99)]</td>\n",
       "      <td>[(2157, 72.99)]</td>\n",
       "      <td>[Alle Katzenklappen]</td>\n",
       "      <td>[(Alle Katzenklappen, 72.99)]</td>\n",
       "      <td>[(Alle Katzenklappen, 72.99)]</td>\n",
       "    </tr>\n",
       "    <tr>\n",
       "      <th>1203053</th>\n",
       "      <td>[0.99, 14.99, 2.69, 35.94]</td>\n",
       "      <td>[0, 73778, 54228, 53874]</td>\n",
       "      <td>False</td>\n",
       "      <td>[0, 409, 16, 45]</td>\n",
       "      <td>[(0, 0.99), (409, 14.99), (16, 2.69), (45, 35....</td>\n",
       "      <td>[(45, 35.94), (409, 14.99), (16, 2.69), (0, 0....</td>\n",
       "      <td>[0, 2613, 96, 151]</td>\n",
       "      <td>[(0, 0.99), (2613, 14.99), (96, 2.69), (151, 3...</td>\n",
       "      <td>[(151, 35.94), (2613, 14.99), (96, 2.69), (0, ...</td>\n",
       "      <td>[nan, Kotbeutel &amp; Toilette, Fressnapf aus Kuns...</td>\n",
       "      <td>[(nan, 0.99), (Kotbeutel &amp; Toilette, 14.99), (...</td>\n",
       "      <td>[(Hamsterfutter, 35.94), (Kotbeutel &amp; Toilette...</td>\n",
       "    </tr>\n",
       "  </tbody>\n",
       "</table>\n",
       "</div>"
      ],
      "text/plain": [
       "                                        SCM_SALES_BMF_list  \\\n",
       "1310685   [9.99, 6.99, 6.99, 6.99, 6.99, -2.6, 6.99, 6.99]   \n",
       "50382            [4.99, -10.86, 3.69, 21.98, 17.99, 59.99]   \n",
       "1174506  [3.99, 7.99, 5.12, 1.19, 2.99, 11.82, 3.98, 12...   \n",
       "1062985               [7.99, 3.99, 2.99, 1.49, 3.69, 9.99]   \n",
       "640955   [6.49, 29.99, 5.99, 5.99, 6.49, 5.99, -1.59, 5...   \n",
       "914863   [-1.46, 11.97, 11.97, 11.97, 11.97, 6.99, 11.9...   \n",
       "1372805  [-3.0, 0.0, 24.99, 3.0, 3.0, 3.0, 3.0, 0.0, 3....   \n",
       "730411           [20.99, -5.52, 64.98, 24.99, 69.99, 2.99]   \n",
       "590417                                             [72.99]   \n",
       "1203053                         [0.99, 14.99, 2.69, 35.94]   \n",
       "\n",
       "                                            SCM_AP_ID_list  SP_DISC  \\\n",
       "1310685  [62406, 51231, 51226, 58168, 51230, 0, 58244, ...     True   \n",
       "50382                [24499, 0, 5855, 22185, 56869, 49220]    False   \n",
       "1174506  [62080, 62079, 50305, 72421, 42225, 22185, 691...     True   \n",
       "1062985         [50638, 50550, 50636, 26412, 29410, 56635]    False   \n",
       "640955   [63702, 67610, 62794, 55569, 63649, 66908, 0, ...    False   \n",
       "914863   [0, 71112, 71107, 71114, 71115, 64625, 71063, ...    False   \n",
       "1372805  [0, 64105, 61322, 62837, 62731, 68103, 62854, ...     True   \n",
       "730411              [67609, 0, 52641, 67406, 69109, 66270]     True   \n",
       "590417                                             [26938]    False   \n",
       "1203053                           [0, 73778, 54228, 53874]    False   \n",
       "\n",
       "                                             L3_PG_ID_list  \\\n",
       "1310685              [18, 857, 857, 857, 857, 0, 857, 857]   \n",
       "50382                          [401, 0, 401, 301, 18, 251]   \n",
       "1174506  [221, 221, 2068, 221, 48963, 301, 2068, 221, 0...   \n",
       "1062985                           [42, 42, 42, 36, 42, 20]   \n",
       "640955          [34, 29, 34, 34, 34, 34, 0, 34, 0, 34, 34]   \n",
       "914863                [0, 252, 252, 252, 252, 34, 252, 34]   \n",
       "1372805  [0, 857, 252, 2068, 2068, 2068, 2068, 857, 206...   \n",
       "730411                          [29, 0, 252, 2068, 23, 23]   \n",
       "590417                                              [2155]   \n",
       "1203053                                   [0, 409, 16, 45]   \n",
       "\n",
       "                                                 PG3_SALES  \\\n",
       "1310685  [(18, 9.99), (857, 6.99), (857, 6.99), (857, 6...   \n",
       "50382    [(401, 4.99), (0, -10.86), (401, 3.69), (301, ...   \n",
       "1174506  [(221, 3.99), (221, 7.99), (2068, 5.12), (221,...   \n",
       "1062985  [(42, 7.99), (42, 3.99), (42, 2.99), (36, 1.49...   \n",
       "640955   [(34, 6.49), (29, 29.99), (34, 5.99), (34, 5.9...   \n",
       "914863   [(0, -1.46), (252, 11.97), (252, 11.97), (252,...   \n",
       "1372805  [(0, -3.0), (857, 0.0), (252, 24.99), (2068, 3...   \n",
       "730411   [(29, 20.99), (0, -5.52), (252, 64.98), (2068,...   \n",
       "590417                                     [(2155, 72.99)]   \n",
       "1203053  [(0, 0.99), (409, 14.99), (16, 2.69), (45, 35....   \n",
       "\n",
       "                                              PG3_AGGSALES  \\\n",
       "1310685              [(857, 41.94), (18, 9.99), (0, -2.6)]   \n",
       "50382    [(251, 59.99), (301, 21.98), (18, 17.99), (401...   \n",
       "1174506  [(221, 26.16), (301, 11.82), (2068, 9.1), (489...   \n",
       "1062985              [(42, 18.66), (20, 9.99), (36, 1.49)]   \n",
       "640955              [(34, 49.42), (29, 29.99), (0, -6.54)]   \n",
       "914863             [(252, 59.85), (34, 12.98), (0, -1.46)]   \n",
       "1372805  [(252, 24.99), (2068, 24.0), (38, 10.99), (36,...   \n",
       "730411   [(23, 72.98), (252, 64.98), (2068, 24.99), (29...   \n",
       "590417                                     [(2155, 72.99)]   \n",
       "1203053  [(45, 35.94), (409, 14.99), (16, 2.69), (0, 0....   \n",
       "\n",
       "                                             L4_PG_ID_list  \\\n",
       "1310685             [948, 858, 858, 858, 858, 0, 858, 858]   \n",
       "50382                      [796, 0, 1084, 10331, 101, 719]   \n",
       "1174506  [23080, 23080, 2072, 23080, 0, 10331, 2072, 23...   \n",
       "1062985                [2275, 2275, 2275, 1551, 2276, 350]   \n",
       "640955   [71978, 35032, 71978, 71978, 71978, 71978, 0, ...   \n",
       "914863   [0, 42545, 42545, 42545, 42545, 1559, 42545, 1...   \n",
       "1372805  [0, 6530, 9702, 2127, 2127, 2127, 2127, 14463,...   \n",
       "730411             [35032, 0, 81397, 218624, 49727, 50014]   \n",
       "590417                                              [2157]   \n",
       "1203053                                 [0, 2613, 96, 151]   \n",
       "\n",
       "                                                 PG4_SALES  \\\n",
       "1310685  [(948, 9.99), (858, 6.99), (858, 6.99), (858, ...   \n",
       "50382    [(796, 4.99), (0, -10.86), (1084, 3.69), (1033...   \n",
       "1174506  [(23080, 3.99), (23080, 7.99), (2072, 5.12), (...   \n",
       "1062985  [(2275, 7.99), (2275, 3.99), (2275, 2.99), (15...   \n",
       "640955   [(71978, 6.49), (35032, 29.99), (71978, 5.99),...   \n",
       "914863   [(0, -1.46), (42545, 11.97), (42545, 11.97), (...   \n",
       "1372805  [(0, -3.0), (6530, 0.0), (9702, 24.99), (2127,...   \n",
       "730411   [(35032, 20.99), (0, -5.52), (81397, 64.98), (...   \n",
       "590417                                     [(2157, 72.99)]   \n",
       "1203053  [(0, 0.99), (2613, 14.99), (96, 2.69), (151, 3...   \n",
       "\n",
       "                                              PG4_AGGSALES  \\\n",
       "1310685             [(858, 41.94), (948, 9.99), (0, -2.6)]   \n",
       "50382    [(719, 59.99), (10331, 21.98), (101, 17.99), (...   \n",
       "1174506  [(23080, 26.16), (10331, 11.82), (2072, 9.1), ...   \n",
       "1062985  [(2275, 14.97), (350, 9.99), (2276, 3.69), (15...   \n",
       "640955        [(71978, 49.42), (35032, 29.99), (0, -6.54)]   \n",
       "914863         [(42545, 59.85), (1559, 12.98), (0, -1.46)]   \n",
       "1372805  [(9702, 24.99), (2127, 24.0), (139, 10.99), (6...   \n",
       "730411   [(49727, 69.99), (81397, 64.98), (218624, 24.9...   \n",
       "590417                                     [(2157, 72.99)]   \n",
       "1203053  [(151, 35.94), (2613, 14.99), (96, 2.69), (0, ...   \n",
       "\n",
       "                                                BRAND_list  \\\n",
       "1310685  [Kaurolle & Kaustange, Animonda, Animonda, Ani...   \n",
       "50382    [Drops, nan, Kräcker &  Gebackenes, ★ Tigerino...   \n",
       "1174506  [Wildvogelfutter, Wildvogelfutter, Gourmet Gol...   \n",
       "1062985  [Brücken & Treppen, Brücken & Treppen, Brücken...   \n",
       "640955   [Knuspersnacks, Feliway, Knuspersnacks, Knuspe...   \n",
       "914863   [nan, Purina ONE, Purina ONE, Purina ONE, Puri...   \n",
       "1372805  [nan, ★ Rocco, Royal Canin Pure Feline, Almo N...   \n",
       "730411   [Feliway, nan, Royal Canin Veterinary Diet, Ro...   \n",
       "590417                                [Alle Katzenklappen]   \n",
       "1203053  [nan, Kotbeutel & Toilette, Fressnapf aus Kuns...   \n",
       "\n",
       "                                               BRAND_SALES  \\\n",
       "1310685  [(Kaurolle & Kaustange, 9.99), (Animonda, 6.99...   \n",
       "50382    [(Drops, 4.99), (nan, -10.86), (Kräcker &  Geb...   \n",
       "1174506  [(Wildvogelfutter, 3.99), (Wildvogelfutter, 7....   \n",
       "1062985  [(Brücken & Treppen, 7.99), (Brücken & Treppen...   \n",
       "640955   [(Knuspersnacks, 6.49), (Feliway, 29.99), (Knu...   \n",
       "914863   [(nan, -1.46), (Purina ONE, 11.97), (Purina ON...   \n",
       "1372805  [(nan, -3.0), (★ Rocco, 0.0), (Royal Canin Pur...   \n",
       "730411   [(Feliway, 20.99), (nan, -5.52), (Royal Canin ...   \n",
       "590417                       [(Alle Katzenklappen, 72.99)]   \n",
       "1203053  [(nan, 0.99), (Kotbeutel & Toilette, 14.99), (...   \n",
       "\n",
       "                                            BRAND_AGGSALES  \n",
       "1310685  [(Animonda, 41.94), (Kaurolle & Kaustange, 9.9...  \n",
       "50382    [(Hill's Science Plan, 59.99), (★ Tigerino, 21...  \n",
       "1174506  [(Wildvogelfutter, 26.16), (★ Tigerino, 11.82)...  \n",
       "1062985  [(Brücken & Treppen, 14.97), (Intelligenzspiel...  \n",
       "640955   [(Knuspersnacks, 49.42), (Feliway, 29.99), (na...  \n",
       "914863   [(Purina ONE, 59.85), (Pasten & Cremes, 12.98)...  \n",
       "1372805  [(Royal Canin Pure Feline, 24.99), (Almo Natur...  \n",
       "730411   [(Royal Canin Veterinary Diet, 89.97), (Kratzt...  \n",
       "590417                       [(Alle Katzenklappen, 72.99)]  \n",
       "1203053  [(Hamsterfutter, 35.94), (Kotbeutel & Toilette...  "
      ]
     },
     "execution_count": 58,
     "metadata": {},
     "output_type": "execute_result"
    }
   ],
   "source": [
    "orders.sample(10)[['SCM_SALES_BMF_list', 'SCM_AP_ID_list', 'SP_DISC', 'L3_PG_ID_list', 'PG3_SALES', 'PG3_AGGSALES', \n",
    "                   'L4_PG_ID_list', 'PG4_SALES', 'PG4_AGGSALES', 'BRAND_list', 'BRAND_SALES', 'BRAND_AGGSALES']]"
   ]
  },
  {
   "cell_type": "code",
   "execution_count": 59,
   "metadata": {
    "ExecuteTime": {
     "end_time": "2018-11-26T12:33:03.939447Z",
     "start_time": "2018-11-26T12:30:27.196447Z"
    },
    "hidden": true
   },
   "outputs": [],
   "source": [
    "#orders.to_pickle(\"./one_year_aggregated_orders_nl_shop_sp_cross_selling_v2.pkl\")"
   ]
  },
  {
   "cell_type": "markdown",
   "metadata": {
    "heading_collapsed": true
   },
   "source": [
    "### Customer level"
   ]
  },
  {
   "cell_type": "code",
   "execution_count": null,
   "metadata": {
    "hidden": true
   },
   "outputs": [],
   "source": [
    "#orders = pd.read_pickle(\"./one_year_aggregated_orders_nl_shop_sp_cross_selling_v2.pkl\")"
   ]
  },
  {
   "cell_type": "code",
   "execution_count": 60,
   "metadata": {
    "ExecuteTime": {
     "end_time": "2018-11-26T12:34:07.386447Z",
     "start_time": "2018-11-26T12:34:07.367447Z"
    },
    "hidden": true
   },
   "outputs": [
    {
     "data": {
      "text/plain": [
       "Index(['SCM_N_ORDER_NR', 'TDT_T_KEY_ORDER_DATE', 'CUS_N_KEY_CUSTOMER',\n",
       "       'SCM_SALES_BMF_sum', 'SCM_SALES_BMF_list', 'SCM_D_FINANCE_CM1',\n",
       "       'SCM_D_FINANCE_CM2', 'SCM_D_ORIG_FINANCE_ORDER_NET', 'OSP_KO_COUNT_NET',\n",
       "       'SCM_AP_ID_list', 'L4_PG_ID_list', 'BRAND_list',\n",
       "       'PPR_V_LEVEL4_DESC_list', 'L3_PG_ID_list', 'SCM_AS_ID_list',\n",
       "       'LEAD_AS_ID', 'SCM_MASTER_AP_ID_list', 'CZP_ZTQ_ID', 'CZP_START_DATE',\n",
       "       'CZP_EXPIRY_DATE', 'ORDER_DATETIME', 'FIRST_O_DATE', 'LAST_O_DATE',\n",
       "       '1ST_O_COUNTER', 'D28', 'D56', 'D84', 'D168', 'D252', 'D336',\n",
       "       'SP_PURCHASE', 'SP_DISC', 'PG3_SALES', 'PG4_SALES', 'BRAND_SALES',\n",
       "       'PG3_AGGSALES', 'PG4_AGGSALES', 'BRAND_AGGSALES'],\n",
       "      dtype='object')"
      ]
     },
     "execution_count": 60,
     "metadata": {},
     "output_type": "execute_result"
    }
   ],
   "source": [
    "orders.columns"
   ]
  },
  {
   "cell_type": "code",
   "execution_count": 61,
   "metadata": {
    "ExecuteTime": {
     "end_time": "2018-11-26T12:34:09.759447Z",
     "start_time": "2018-11-26T12:34:09.733447Z"
    },
    "hidden": true
   },
   "outputs": [],
   "source": [
    "agg_ord_ops = {\n",
    "              'SCM_N_ORDER_NR': len,\n",
    "              'TDT_T_KEY_ORDER_DATE': lambda x: list(x.dt.date),\n",
    "              'SCM_SALES_BMF_sum': [sum, lambda x: list(np.round(x, 2))],\n",
    "              'SCM_D_FINANCE_CM1': [sum, lambda x: list(np.round(x, 2))],\n",
    "              'SCM_D_FINANCE_CM2': [sum, lambda x: list(np.round(x, 2))],\n",
    "              'SCM_D_ORIG_FINANCE_ORDER_NET': [sum, lambda x: list(np.round(x, 2))],\n",
    "              'OSP_KO_COUNT_NET': lambda x: list(x),\n",
    "              'SCM_MASTER_AP_ID_list': lambda x: list(x),\n",
    "              'CZP_ZTQ_ID': lambda x: list(set(list(x))),\n",
    "              'CZP_START_DATE': lambda x: list(set(list(x.dt.date))),\n",
    "              'CZP_EXPIRY_DATE': lambda x: list(set(list(x.dt.date))),\n",
    "              'PG3_AGGSALES': lambda x: list(x),\n",
    "              'PG4_AGGSALES': lambda x: list(x),\n",
    "              'BRAND_AGGSALES': lambda x: list(x),\n",
    "              'SP_PURCHASE': lambda x: list(x),\n",
    "              'SP_DISC': lambda x: list(x),\n",
    "              'D28': max,\n",
    "              'D56': max,\n",
    "              'D84': max,\n",
    "              'D252': max,\n",
    "              'D252': max,\n",
    "              'D336': max\n",
    "              }"
   ]
  },
  {
   "cell_type": "code",
   "execution_count": 62,
   "metadata": {
    "ExecuteTime": {
     "end_time": "2018-11-26T12:46:56.119447Z",
     "start_time": "2018-11-26T12:34:11.951447Z"
    },
    "hidden": true
   },
   "outputs": [],
   "source": [
    "customers = orders.groupby('CUS_N_KEY_CUSTOMER', as_index=False).agg(agg_ord_ops).round(2)"
   ]
  },
  {
   "cell_type": "code",
   "execution_count": 63,
   "metadata": {
    "ExecuteTime": {
     "end_time": "2018-11-26T12:46:58.690447Z",
     "start_time": "2018-11-26T12:46:58.686447Z"
    },
    "hidden": true
   },
   "outputs": [],
   "source": [
    "customers.columns = ['_'.join(tup).rstrip('_') for tup in customers.columns.values]"
   ]
  },
  {
   "cell_type": "code",
   "execution_count": 64,
   "metadata": {
    "ExecuteTime": {
     "end_time": "2018-11-26T12:47:01.189447Z",
     "start_time": "2018-11-26T12:47:01.178447Z"
    },
    "hidden": true
   },
   "outputs": [],
   "source": [
    "customers.columns = ['CUS_N_KEY_CUSTOMER', 'SCM_N_ORDER_NR_len',\n",
    "       'TDT_T_KEY_ORDER_DATE_list', 'SCM_SALES_BMF_sum',\n",
    "       'SCM_SALES_BMF_list', 'SCM_D_FINANCE_CM1_sum',\n",
    "       'SCM_D_FINANCE_CM1_list', 'SCM_D_FINANCE_CM2_sum',\n",
    "       'SCM_D_FINANCE_CM2_list', 'SCM_D_ORIG_FINANCE_ORDER_NET_sum',\n",
    "       'SCM_D_ORIG_FINANCE_ORDER_NET_list', 'OSP_KO_COUNT_NET_list',\n",
    "       'SCM_MASTER_AP_ID_list', 'CZP_ZTQ_ID',\n",
    "       'CZP_START_DATE', 'CZP_EXPIRY_DATE',\n",
    "       'PG3_AGGSALES', 'PG4_AGGSALES',\n",
    "       'BRAND_AGGSALES', 'SP_PURCHASE', 'SP_DISC', 'D28', 'D56', 'D84', 'D252',\n",
    "       'D252', 'D336']"
   ]
  },
  {
   "cell_type": "code",
   "execution_count": 65,
   "metadata": {
    "ExecuteTime": {
     "end_time": "2018-11-26T12:48:12.109447Z",
     "start_time": "2018-11-26T12:48:08.410447Z"
    },
    "hidden": true
   },
   "outputs": [],
   "source": [
    "customers['O_TIMEDELTAS'] = [[(i - j).days for i, j in list(zip(o_list[1:], o_list[:-1]))] \n",
    "                             for o_list in customers['TDT_T_KEY_ORDER_DATE_list'].values]"
   ]
  },
  {
   "cell_type": "code",
   "execution_count": 66,
   "metadata": {
    "ExecuteTime": {
     "end_time": "2018-11-26T12:48:18.217447Z",
     "start_time": "2018-11-26T12:48:17.187447Z"
    },
    "hidden": true
   },
   "outputs": [],
   "source": [
    "customers['FLAT_PG3_SALES'] = [[k for j in i for k in j] for i in customers['PG3_AGGSALES'].values]"
   ]
  },
  {
   "cell_type": "code",
   "execution_count": 67,
   "metadata": {
    "ExecuteTime": {
     "end_time": "2018-11-26T12:48:21.624447Z",
     "start_time": "2018-11-26T12:48:20.552447Z"
    },
    "hidden": true
   },
   "outputs": [],
   "source": [
    "customers['FLAT_PG4_SALES'] = [[k for j in i for k in j] for i in customers['PG4_AGGSALES'].values]"
   ]
  },
  {
   "cell_type": "code",
   "execution_count": 68,
   "metadata": {
    "ExecuteTime": {
     "end_time": "2018-11-26T12:48:25.089447Z",
     "start_time": "2018-11-26T12:48:24.044447Z"
    },
    "hidden": true
   },
   "outputs": [],
   "source": [
    "customers['FLAT_BRAND_SALES'] = [[k for j in i for k in j] for i in customers['BRAND_AGGSALES'].values]"
   ]
  },
  {
   "cell_type": "code",
   "execution_count": 69,
   "metadata": {
    "ExecuteTime": {
     "end_time": "2018-11-26T12:48:42.281447Z",
     "start_time": "2018-11-26T12:48:28.505447Z"
    },
    "hidden": true
   },
   "outputs": [],
   "source": [
    "customers['TOTAL_PG3_SALES'] = [sorted([(pg3, np.round(sum([sales_ for pg_3_, sales_ in i if pg3==pg_3_\n",
    "                                                        ]), 3)) \n",
    "                                for pg3 in set([pg_3 for pg_3, sales in i])], key= lambda x: x[1], reverse=True) \n",
    "                                for i in customers['FLAT_PG3_SALES']]"
   ]
  },
  {
   "cell_type": "code",
   "execution_count": 70,
   "metadata": {
    "ExecuteTime": {
     "end_time": "2018-11-26T12:49:04.085447Z",
     "start_time": "2018-11-26T12:48:44.859447Z"
    },
    "hidden": true
   },
   "outputs": [],
   "source": [
    "customers['TOTAL_PG4_SALES'] = [sorted([(pg4, np.round(sum([sales_ for pg_4_, sales_ in i if pg4==pg_4_\n",
    "                                                        ]), 3)) \n",
    "                                for pg4 in set([pg_4 for pg_4, sales in i])], key= lambda x: x[1], reverse=True) \n",
    "                                for i in customers['FLAT_PG4_SALES']]"
   ]
  },
  {
   "cell_type": "code",
   "execution_count": 71,
   "metadata": {
    "ExecuteTime": {
     "end_time": "2018-11-26T12:49:27.030447Z",
     "start_time": "2018-11-26T12:49:06.708447Z"
    },
    "hidden": true
   },
   "outputs": [],
   "source": [
    "customers['TOTAL_BRAND_SALES'] = [sorted([(brand_, np.round(sum([sales_ for brand__, sales_ in i if brand_== brand__\n",
    "                                                        ]), 3)) \n",
    "                                for brand_ in set([brand for brand, sales in i])], key= lambda x: x[1], reverse=True) \n",
    "                                for i in customers['FLAT_BRAND_SALES']]"
   ]
  },
  {
   "cell_type": "code",
   "execution_count": 72,
   "metadata": {
    "ExecuteTime": {
     "end_time": "2018-11-26T12:53:09.333447Z",
     "start_time": "2018-11-26T12:50:29.688447Z"
    },
    "hidden": true
   },
   "outputs": [],
   "source": [
    "#customers.to_pickle(\"./customers_nl_shop_sp_cross_selling_v2.pkl\")"
   ]
  },
  {
   "cell_type": "code",
   "execution_count": 73,
   "metadata": {
    "ExecuteTime": {
     "end_time": "2018-11-26T12:54:20.092447Z",
     "start_time": "2018-11-26T12:54:19.979447Z"
    },
    "hidden": true
   },
   "outputs": [],
   "source": [
    "del customers['FLAT_PG3_SALES']"
   ]
  },
  {
   "cell_type": "code",
   "execution_count": 74,
   "metadata": {
    "ExecuteTime": {
     "end_time": "2018-11-26T12:54:22.873447Z",
     "start_time": "2018-11-26T12:54:22.775447Z"
    },
    "hidden": true
   },
   "outputs": [],
   "source": [
    "del customers['FLAT_PG4_SALES']"
   ]
  },
  {
   "cell_type": "code",
   "execution_count": 75,
   "metadata": {
    "ExecuteTime": {
     "end_time": "2018-11-26T12:54:26.516447Z",
     "start_time": "2018-11-26T12:54:26.357447Z"
    },
    "hidden": true
   },
   "outputs": [],
   "source": [
    "del customers['FLAT_BRAND_SALES']"
   ]
  },
  {
   "cell_type": "markdown",
   "metadata": {},
   "source": [
    "### Framework"
   ]
  },
  {
   "cell_type": "markdown",
   "metadata": {},
   "source": [
    "***BRAND SPECIFIC SP ANALYSIS***"
   ]
  },
  {
   "cell_type": "code",
   "execution_count": 27,
   "metadata": {
    "ExecuteTime": {
     "end_time": "2018-11-28T13:43:10.280024Z",
     "start_time": "2018-11-28T13:42:23.446024Z"
    }
   },
   "outputs": [],
   "source": [
    "customers = pd.read_pickle(\"./customers_nl_shop_sp_cross_selling_v2.pkl\")"
   ]
  },
  {
   "cell_type": "code",
   "execution_count": 28,
   "metadata": {
    "ExecuteTime": {
     "end_time": "2018-11-28T13:43:37.354024Z",
     "start_time": "2018-11-28T13:43:37.278024Z"
    }
   },
   "outputs": [
    {
     "data": {
      "text/html": [
       "<div>\n",
       "<style scoped>\n",
       "    .dataframe tbody tr th:only-of-type {\n",
       "        vertical-align: middle;\n",
       "    }\n",
       "\n",
       "    .dataframe tbody tr th {\n",
       "        vertical-align: top;\n",
       "    }\n",
       "\n",
       "    .dataframe thead th {\n",
       "        text-align: right;\n",
       "    }\n",
       "</style>\n",
       "<table border=\"1\" class=\"dataframe\">\n",
       "  <thead>\n",
       "    <tr style=\"text-align: right;\">\n",
       "      <th></th>\n",
       "      <th>CUS_N_KEY_CUSTOMER</th>\n",
       "      <th>SCM_N_ORDER_NR_len</th>\n",
       "      <th>TDT_T_KEY_ORDER_DATE_list</th>\n",
       "      <th>SCM_SALES_BMF_sum</th>\n",
       "      <th>SCM_SALES_BMF_list</th>\n",
       "      <th>SCM_D_FINANCE_CM1_sum</th>\n",
       "      <th>SCM_D_FINANCE_CM1_list</th>\n",
       "      <th>SCM_D_FINANCE_CM2_sum</th>\n",
       "      <th>SCM_D_FINANCE_CM2_list</th>\n",
       "      <th>SCM_D_ORIG_FINANCE_ORDER_NET_sum</th>\n",
       "      <th>SCM_D_ORIG_FINANCE_ORDER_NET_list</th>\n",
       "    </tr>\n",
       "  </thead>\n",
       "  <tbody>\n",
       "    <tr>\n",
       "      <th>0</th>\n",
       "      <td>1024867</td>\n",
       "      <td>8</td>\n",
       "      <td>[2017-04-12, 2017-05-13, 2017-06-09, 2017-08-1...</td>\n",
       "      <td>525.76</td>\n",
       "      <td>[121.09, 51.97, 69.87, 63.26, 55.07, 45.98, 68...</td>\n",
       "      <td>162.18</td>\n",
       "      <td>[39.8, 20.13, 23.27, 19.58, 13.47, 12.66, 18.2...</td>\n",
       "      <td>111.47</td>\n",
       "      <td>[28.36, 14.74, 17.65, 14.26, 8.28, 5.76, 13.41...</td>\n",
       "      <td>434.51</td>\n",
       "      <td>[100.07, 42.95, 57.74, 52.28, 45.51, 38.0, 56....</td>\n",
       "    </tr>\n",
       "    <tr>\n",
       "      <th>1</th>\n",
       "      <td>1026840</td>\n",
       "      <td>7</td>\n",
       "      <td>[2016-07-21, 2016-12-14, 2017-04-20, 2017-06-1...</td>\n",
       "      <td>432.17</td>\n",
       "      <td>[122.92, 64.96, 35.45, 55.98, 63.46, 33.42, 55...</td>\n",
       "      <td>103.03</td>\n",
       "      <td>[28.45, 14.82, 11.98, 10.51, 15.82, 9.47, 11.98]</td>\n",
       "      <td>51.13</td>\n",
       "      <td>[14.31, 8.83, 6.34, 5.0, 10.04, -0.36, 6.97]</td>\n",
       "      <td>359.04</td>\n",
       "      <td>[101.59, 53.69, 29.3, 46.26, 52.45, 29.49, 46.26]</td>\n",
       "    </tr>\n",
       "    <tr>\n",
       "      <th>2</th>\n",
       "      <td>1047752</td>\n",
       "      <td>1</td>\n",
       "      <td>[2016-08-09]</td>\n",
       "      <td>28.97</td>\n",
       "      <td>[28.97]</td>\n",
       "      <td>13.26</td>\n",
       "      <td>[13.26]</td>\n",
       "      <td>8.20</td>\n",
       "      <td>[8.2]</td>\n",
       "      <td>23.94</td>\n",
       "      <td>[23.94]</td>\n",
       "    </tr>\n",
       "    <tr>\n",
       "      <th>3</th>\n",
       "      <td>1119747</td>\n",
       "      <td>2</td>\n",
       "      <td>[2015-10-08, 2016-05-24]</td>\n",
       "      <td>76.92</td>\n",
       "      <td>[37.95, 38.97]</td>\n",
       "      <td>29.55</td>\n",
       "      <td>[15.47, 14.08]</td>\n",
       "      <td>18.89</td>\n",
       "      <td>[9.99, 8.9]</td>\n",
       "      <td>63.57</td>\n",
       "      <td>[31.36, 32.21]</td>\n",
       "    </tr>\n",
       "    <tr>\n",
       "      <th>4</th>\n",
       "      <td>1122240</td>\n",
       "      <td>1</td>\n",
       "      <td>[2016-08-23]</td>\n",
       "      <td>45.44</td>\n",
       "      <td>[45.44]</td>\n",
       "      <td>17.42</td>\n",
       "      <td>[17.42]</td>\n",
       "      <td>7.66</td>\n",
       "      <td>[7.66]</td>\n",
       "      <td>37.55</td>\n",
       "      <td>[37.55]</td>\n",
       "    </tr>\n",
       "    <tr>\n",
       "      <th>5</th>\n",
       "      <td>1139016</td>\n",
       "      <td>5</td>\n",
       "      <td>[2016-06-14, 2017-04-19, 2017-05-18, 2017-09-2...</td>\n",
       "      <td>580.50</td>\n",
       "      <td>[161.43, 116.13, 97.98, 169.97, 34.99]</td>\n",
       "      <td>192.00</td>\n",
       "      <td>[56.49, 38.07, 41.67, 44.94, 10.84]</td>\n",
       "      <td>144.80</td>\n",
       "      <td>[42.39, 26.14, 36.04, 34.26, 5.97]</td>\n",
       "      <td>479.75</td>\n",
       "      <td>[133.41, 95.98, 80.98, 140.47, 28.92]</td>\n",
       "    </tr>\n",
       "    <tr>\n",
       "      <th>6</th>\n",
       "      <td>1141331</td>\n",
       "      <td>1</td>\n",
       "      <td>[2016-10-24]</td>\n",
       "      <td>25.98</td>\n",
       "      <td>[25.98]</td>\n",
       "      <td>12.53</td>\n",
       "      <td>[12.53]</td>\n",
       "      <td>6.15</td>\n",
       "      <td>[6.15]</td>\n",
       "      <td>21.47</td>\n",
       "      <td>[21.47]</td>\n",
       "    </tr>\n",
       "    <tr>\n",
       "      <th>7</th>\n",
       "      <td>1141778</td>\n",
       "      <td>15</td>\n",
       "      <td>[2016-11-10, 2016-12-05, 2017-01-10, 2017-01-2...</td>\n",
       "      <td>537.70</td>\n",
       "      <td>[32.35, 35.94, 41.93, 35.94, 35.11, 35.94, 35....</td>\n",
       "      <td>79.51</td>\n",
       "      <td>[1.84, 4.8, 5.6, 4.65, 5.82, 6.0, 6.0, 5.85, 6...</td>\n",
       "      <td>-13.63</td>\n",
       "      <td>[-4.69, -1.72, -1.43, -1.87, -0.65, -0.52, -0....</td>\n",
       "      <td>444.38</td>\n",
       "      <td>[26.74, 29.7, 34.65, 29.7, 29.02, 29.7, 29.7, ...</td>\n",
       "    </tr>\n",
       "    <tr>\n",
       "      <th>8</th>\n",
       "      <td>1158470</td>\n",
       "      <td>3</td>\n",
       "      <td>[2016-02-14, 2016-10-01, 2017-01-22]</td>\n",
       "      <td>119.14</td>\n",
       "      <td>[56.16, 40.0, 22.98]</td>\n",
       "      <td>41.26</td>\n",
       "      <td>[15.55, 14.03, 11.68]</td>\n",
       "      <td>23.21</td>\n",
       "      <td>[8.34, 8.15, 6.72]</td>\n",
       "      <td>98.46</td>\n",
       "      <td>[46.41, 33.06, 18.99]</td>\n",
       "    </tr>\n",
       "    <tr>\n",
       "      <th>9</th>\n",
       "      <td>1170395</td>\n",
       "      <td>2</td>\n",
       "      <td>[2016-04-06, 2016-05-12]</td>\n",
       "      <td>72.97</td>\n",
       "      <td>[22.98, 49.99]</td>\n",
       "      <td>29.36</td>\n",
       "      <td>[10.17, 19.18]</td>\n",
       "      <td>17.52</td>\n",
       "      <td>[5.01, 12.5]</td>\n",
       "      <td>60.31</td>\n",
       "      <td>[18.99, 41.31]</td>\n",
       "    </tr>\n",
       "  </tbody>\n",
       "</table>\n",
       "</div>"
      ],
      "text/plain": [
       "   CUS_N_KEY_CUSTOMER  SCM_N_ORDER_NR_len  \\\n",
       "0             1024867                   8   \n",
       "1             1026840                   7   \n",
       "2             1047752                   1   \n",
       "3             1119747                   2   \n",
       "4             1122240                   1   \n",
       "5             1139016                   5   \n",
       "6             1141331                   1   \n",
       "7             1141778                  15   \n",
       "8             1158470                   3   \n",
       "9             1170395                   2   \n",
       "\n",
       "                           TDT_T_KEY_ORDER_DATE_list  SCM_SALES_BMF_sum  \\\n",
       "0  [2017-04-12, 2017-05-13, 2017-06-09, 2017-08-1...             525.76   \n",
       "1  [2016-07-21, 2016-12-14, 2017-04-20, 2017-06-1...             432.17   \n",
       "2                                       [2016-08-09]              28.97   \n",
       "3                           [2015-10-08, 2016-05-24]              76.92   \n",
       "4                                       [2016-08-23]              45.44   \n",
       "5  [2016-06-14, 2017-04-19, 2017-05-18, 2017-09-2...             580.50   \n",
       "6                                       [2016-10-24]              25.98   \n",
       "7  [2016-11-10, 2016-12-05, 2017-01-10, 2017-01-2...             537.70   \n",
       "8               [2016-02-14, 2016-10-01, 2017-01-22]             119.14   \n",
       "9                           [2016-04-06, 2016-05-12]              72.97   \n",
       "\n",
       "                                  SCM_SALES_BMF_list  SCM_D_FINANCE_CM1_sum  \\\n",
       "0  [121.09, 51.97, 69.87, 63.26, 55.07, 45.98, 68...                 162.18   \n",
       "1  [122.92, 64.96, 35.45, 55.98, 63.46, 33.42, 55...                 103.03   \n",
       "2                                            [28.97]                  13.26   \n",
       "3                                     [37.95, 38.97]                  29.55   \n",
       "4                                            [45.44]                  17.42   \n",
       "5             [161.43, 116.13, 97.98, 169.97, 34.99]                 192.00   \n",
       "6                                            [25.98]                  12.53   \n",
       "7  [32.35, 35.94, 41.93, 35.94, 35.11, 35.94, 35....                  79.51   \n",
       "8                               [56.16, 40.0, 22.98]                  41.26   \n",
       "9                                     [22.98, 49.99]                  29.36   \n",
       "\n",
       "                              SCM_D_FINANCE_CM1_list  SCM_D_FINANCE_CM2_sum  \\\n",
       "0  [39.8, 20.13, 23.27, 19.58, 13.47, 12.66, 18.2...                 111.47   \n",
       "1   [28.45, 14.82, 11.98, 10.51, 15.82, 9.47, 11.98]                  51.13   \n",
       "2                                            [13.26]                   8.20   \n",
       "3                                     [15.47, 14.08]                  18.89   \n",
       "4                                            [17.42]                   7.66   \n",
       "5                [56.49, 38.07, 41.67, 44.94, 10.84]                 144.80   \n",
       "6                                            [12.53]                   6.15   \n",
       "7  [1.84, 4.8, 5.6, 4.65, 5.82, 6.0, 6.0, 5.85, 6...                 -13.63   \n",
       "8                              [15.55, 14.03, 11.68]                  23.21   \n",
       "9                                     [10.17, 19.18]                  17.52   \n",
       "\n",
       "                              SCM_D_FINANCE_CM2_list  \\\n",
       "0  [28.36, 14.74, 17.65, 14.26, 8.28, 5.76, 13.41...   \n",
       "1       [14.31, 8.83, 6.34, 5.0, 10.04, -0.36, 6.97]   \n",
       "2                                              [8.2]   \n",
       "3                                        [9.99, 8.9]   \n",
       "4                                             [7.66]   \n",
       "5                 [42.39, 26.14, 36.04, 34.26, 5.97]   \n",
       "6                                             [6.15]   \n",
       "7  [-4.69, -1.72, -1.43, -1.87, -0.65, -0.52, -0....   \n",
       "8                                 [8.34, 8.15, 6.72]   \n",
       "9                                       [5.01, 12.5]   \n",
       "\n",
       "   SCM_D_ORIG_FINANCE_ORDER_NET_sum  \\\n",
       "0                            434.51   \n",
       "1                            359.04   \n",
       "2                             23.94   \n",
       "3                             63.57   \n",
       "4                             37.55   \n",
       "5                            479.75   \n",
       "6                             21.47   \n",
       "7                            444.38   \n",
       "8                             98.46   \n",
       "9                             60.31   \n",
       "\n",
       "                   SCM_D_ORIG_FINANCE_ORDER_NET_list  \n",
       "0  [100.07, 42.95, 57.74, 52.28, 45.51, 38.0, 56....  \n",
       "1  [101.59, 53.69, 29.3, 46.26, 52.45, 29.49, 46.26]  \n",
       "2                                            [23.94]  \n",
       "3                                     [31.36, 32.21]  \n",
       "4                                            [37.55]  \n",
       "5              [133.41, 95.98, 80.98, 140.47, 28.92]  \n",
       "6                                            [21.47]  \n",
       "7  [26.74, 29.7, 34.65, 29.7, 29.02, 29.7, 29.7, ...  \n",
       "8                              [46.41, 33.06, 18.99]  \n",
       "9                                     [18.99, 41.31]  "
      ]
     },
     "execution_count": 28,
     "metadata": {},
     "output_type": "execute_result"
    }
   ],
   "source": [
    "customers.head(10)[customers.columns[:11]]"
   ]
  },
  {
   "cell_type": "code",
   "execution_count": 29,
   "metadata": {
    "ExecuteTime": {
     "end_time": "2018-11-28T13:43:38.669024Z",
     "start_time": "2018-11-28T13:43:38.558024Z"
    }
   },
   "outputs": [
    {
     "data": {
      "text/html": [
       "<div>\n",
       "<style scoped>\n",
       "    .dataframe tbody tr th:only-of-type {\n",
       "        vertical-align: middle;\n",
       "    }\n",
       "\n",
       "    .dataframe tbody tr th {\n",
       "        vertical-align: top;\n",
       "    }\n",
       "\n",
       "    .dataframe thead th {\n",
       "        text-align: right;\n",
       "    }\n",
       "</style>\n",
       "<table border=\"1\" class=\"dataframe\">\n",
       "  <thead>\n",
       "    <tr style=\"text-align: right;\">\n",
       "      <th></th>\n",
       "      <th>OSP_KO_COUNT_NET_list</th>\n",
       "      <th>SCM_MASTER_AP_ID_list</th>\n",
       "      <th>CZP_ZTQ_ID</th>\n",
       "      <th>CZP_START_DATE</th>\n",
       "      <th>CZP_EXPIRY_DATE</th>\n",
       "      <th>PG3_AGGSALES</th>\n",
       "      <th>PG4_AGGSALES</th>\n",
       "      <th>BRAND_AGGSALES</th>\n",
       "      <th>SP_PURCHASE</th>\n",
       "    </tr>\n",
       "  </thead>\n",
       "  <tbody>\n",
       "    <tr>\n",
       "      <th>0</th>\n",
       "      <td>[1, 2, 3, 4, 5, 6, 7, 8]</td>\n",
       "      <td>[[45361, 68204, 65466, 65466, 60605, 71502, 52...</td>\n",
       "      <td>[nan, nan, 53.0, nan]</td>\n",
       "      <td>[nan, 2017-08-10]</td>\n",
       "      <td>[nan, 2018-08-10]</td>\n",
       "      <td>[[(23, 75.99), (2068, 41.99), (252, 3.11)], [(...</td>\n",
       "      <td>[[(49727, 75.99), (2632, 18.86), (2074, 16.14)...</td>\n",
       "      <td>[[(Kratztonnen, 75.99), (★ Cosma, 18.86), (Iam...</td>\n",
       "      <td>[False, False, False, True, False, False, Fals...</td>\n",
       "    </tr>\n",
       "    <tr>\n",
       "      <th>1</th>\n",
       "      <td>[1, 2, 3, 4, 5, 6, 7]</td>\n",
       "      <td>[[68930, 61195, 28106, 35908, 35908, 35908, 67...</td>\n",
       "      <td>[nan, nan, nan, nan, nan, nan, nan]</td>\n",
       "      <td>[nan]</td>\n",
       "      <td>[nan]</td>\n",
       "      <td>[[(252, 48.98), (37, 24.99), (301, 19.98), (20...</td>\n",
       "      <td>[[(683, 48.98), (3185, 24.99), (10331, 19.98),...</td>\n",
       "      <td>[[(Royal Canin, 48.98), (Tragetaschen, 24.99),...</td>\n",
       "      <td>[False, False, False, False, False, False, False]</td>\n",
       "    </tr>\n",
       "    <tr>\n",
       "      <th>2</th>\n",
       "      <td>[1]</td>\n",
       "      <td>[[63359, 6168]]</td>\n",
       "      <td>[nan]</td>\n",
       "      <td>[nan]</td>\n",
       "      <td>[nan]</td>\n",
       "      <td>[[(15, 25.98), (0, 2.99)]]</td>\n",
       "      <td>[[(173957, 25.98), (0, 2.99)]]</td>\n",
       "      <td>[[(flexi New Classic &amp; Special, 25.98), (nan, ...</td>\n",
       "      <td>[False]</td>\n",
       "    </tr>\n",
       "    <tr>\n",
       "      <th>3</th>\n",
       "      <td>[1, 2]</td>\n",
       "      <td>[[51227, 35837, 53903, 66279, 15149], [67420, ...</td>\n",
       "      <td>[nan, nan]</td>\n",
       "      <td>[nan]</td>\n",
       "      <td>[nan]</td>\n",
       "      <td>[[(20, 19.96), (15, 17.99)], [(15, 29.99), (20...</td>\n",
       "      <td>[[(16637, 17.99), (465, 13.98), (96500, 3.49),...</td>\n",
       "      <td>[[(Schleppleine &amp; Feldleine, 17.99), (KONG, 13...</td>\n",
       "      <td>[False, False]</td>\n",
       "    </tr>\n",
       "    <tr>\n",
       "      <th>4</th>\n",
       "      <td>[1]</td>\n",
       "      <td>[[18275, 64577, 34819, 63066, 45318, 64052]]</td>\n",
       "      <td>[nan]</td>\n",
       "      <td>[nan]</td>\n",
       "      <td>[nan]</td>\n",
       "      <td>[[(36, 20.47), (23, 13.99), (1540, 8.99), (29,...</td>\n",
       "      <td>[[(97982, 17.98), (200964, 13.99), (1555, 8.99...</td>\n",
       "      <td>[[(Intelligenzspielzeug mit Futter, 17.98), (K...</td>\n",
       "      <td>[False]</td>\n",
       "    </tr>\n",
       "    <tr>\n",
       "      <th>5</th>\n",
       "      <td>[1, 2, 3, 4, 5]</td>\n",
       "      <td>[[62058, 54201, 19608, 62710, 68333, 64916], [...</td>\n",
       "      <td>[nan, nan, nan, nan, nan]</td>\n",
       "      <td>[nan]</td>\n",
       "      <td>[nan]</td>\n",
       "      <td>[[(252, 84.99), (36, 37.46), (221, 28.99), (98...</td>\n",
       "      <td>[[(35824, 84.99), (1343, 28.99), (136, 21.47),...</td>\n",
       "      <td>[[(Taste of the Wild, 84.99), (Papageienfutter...</td>\n",
       "      <td>[False, False, False, False, False]</td>\n",
       "    </tr>\n",
       "    <tr>\n",
       "      <th>6</th>\n",
       "      <td>[1]</td>\n",
       "      <td>[[6168, 25890]]</td>\n",
       "      <td>[nan]</td>\n",
       "      <td>[nan]</td>\n",
       "      <td>[nan]</td>\n",
       "      <td>[[(2190, 22.99), (0, 2.99)]]</td>\n",
       "      <td>[[(10623, 22.99), (0, 2.99)]]</td>\n",
       "      <td>[[(Einstiegshilfe, 22.99), (nan, 0)]]</td>\n",
       "      <td>[False]</td>\n",
       "    </tr>\n",
       "    <tr>\n",
       "      <th>7</th>\n",
       "      <td>[1, 2, 3, 5, 5, 6, 7, 8, 9, 10, 11, 12, 13, 14...</td>\n",
       "      <td>[[6169, 64737, 64796], [64737, 64796], [64796,...</td>\n",
       "      <td>[nan, nan, nan, nan, nan, nan, nan, nan, nan, ...</td>\n",
       "      <td>[nan]</td>\n",
       "      <td>[nan]</td>\n",
       "      <td>[[(34, 35.94), (0, -3.59)], [(34, 35.94)], [(3...</td>\n",
       "      <td>[[(71978, 35.94), (0, -3.59)], [(71978, 35.94)...</td>\n",
       "      <td>[[(Knuspersnacks, 35.94), (nan, 0)], [(Knusper...</td>\n",
       "      <td>[False, False, False, False, False, False, Fal...</td>\n",
       "    </tr>\n",
       "    <tr>\n",
       "      <th>8</th>\n",
       "      <td>[1, 2, 3]</td>\n",
       "      <td>[[6169, 28021, 37549, 27430], [28066, 54350, 2...</td>\n",
       "      <td>[nan, nan, nan]</td>\n",
       "      <td>[nan]</td>\n",
       "      <td>[nan]</td>\n",
       "      <td>[[(9, 34.99), (857, 21.64), (18, 2.49), (0, -2...</td>\n",
       "      <td>[[(30936, 34.99), (6530, 21.64), (104, 2.49), ...</td>\n",
       "      <td>[[(Gesundheitsbetten, 34.99), (★ Rocco, 21.64)...</td>\n",
       "      <td>[False, False, False]</td>\n",
       "    </tr>\n",
       "    <tr>\n",
       "      <th>9</th>\n",
       "      <td>[1, 2]</td>\n",
       "      <td>[[6168, 64466], [68240]]</td>\n",
       "      <td>[nan, nan]</td>\n",
       "      <td>[nan]</td>\n",
       "      <td>[nan]</td>\n",
       "      <td>[[(9, 19.99), (0, 2.99)], [(23, 49.99)]]</td>\n",
       "      <td>[[(97768, 19.99), (0, 2.99)], [(49727, 49.99)]]</td>\n",
       "      <td>[[(Hundebetten, 19.99), (nan, 0)], [(Kratztonn...</td>\n",
       "      <td>[False, False]</td>\n",
       "    </tr>\n",
       "  </tbody>\n",
       "</table>\n",
       "</div>"
      ],
      "text/plain": [
       "                               OSP_KO_COUNT_NET_list  \\\n",
       "0                           [1, 2, 3, 4, 5, 6, 7, 8]   \n",
       "1                              [1, 2, 3, 4, 5, 6, 7]   \n",
       "2                                                [1]   \n",
       "3                                             [1, 2]   \n",
       "4                                                [1]   \n",
       "5                                    [1, 2, 3, 4, 5]   \n",
       "6                                                [1]   \n",
       "7  [1, 2, 3, 5, 5, 6, 7, 8, 9, 10, 11, 12, 13, 14...   \n",
       "8                                          [1, 2, 3]   \n",
       "9                                             [1, 2]   \n",
       "\n",
       "                               SCM_MASTER_AP_ID_list  \\\n",
       "0  [[45361, 68204, 65466, 65466, 60605, 71502, 52...   \n",
       "1  [[68930, 61195, 28106, 35908, 35908, 35908, 67...   \n",
       "2                                    [[63359, 6168]]   \n",
       "3  [[51227, 35837, 53903, 66279, 15149], [67420, ...   \n",
       "4       [[18275, 64577, 34819, 63066, 45318, 64052]]   \n",
       "5  [[62058, 54201, 19608, 62710, 68333, 64916], [...   \n",
       "6                                    [[6168, 25890]]   \n",
       "7  [[6169, 64737, 64796], [64737, 64796], [64796,...   \n",
       "8  [[6169, 28021, 37549, 27430], [28066, 54350, 2...   \n",
       "9                           [[6168, 64466], [68240]]   \n",
       "\n",
       "                                          CZP_ZTQ_ID     CZP_START_DATE  \\\n",
       "0                              [nan, nan, 53.0, nan]  [nan, 2017-08-10]   \n",
       "1                [nan, nan, nan, nan, nan, nan, nan]              [nan]   \n",
       "2                                              [nan]              [nan]   \n",
       "3                                         [nan, nan]              [nan]   \n",
       "4                                              [nan]              [nan]   \n",
       "5                          [nan, nan, nan, nan, nan]              [nan]   \n",
       "6                                              [nan]              [nan]   \n",
       "7  [nan, nan, nan, nan, nan, nan, nan, nan, nan, ...              [nan]   \n",
       "8                                    [nan, nan, nan]              [nan]   \n",
       "9                                         [nan, nan]              [nan]   \n",
       "\n",
       "     CZP_EXPIRY_DATE                                       PG3_AGGSALES  \\\n",
       "0  [nan, 2018-08-10]  [[(23, 75.99), (2068, 41.99), (252, 3.11)], [(...   \n",
       "1              [nan]  [[(252, 48.98), (37, 24.99), (301, 19.98), (20...   \n",
       "2              [nan]                         [[(15, 25.98), (0, 2.99)]]   \n",
       "3              [nan]  [[(20, 19.96), (15, 17.99)], [(15, 29.99), (20...   \n",
       "4              [nan]  [[(36, 20.47), (23, 13.99), (1540, 8.99), (29,...   \n",
       "5              [nan]  [[(252, 84.99), (36, 37.46), (221, 28.99), (98...   \n",
       "6              [nan]                       [[(2190, 22.99), (0, 2.99)]]   \n",
       "7              [nan]  [[(34, 35.94), (0, -3.59)], [(34, 35.94)], [(3...   \n",
       "8              [nan]  [[(9, 34.99), (857, 21.64), (18, 2.49), (0, -2...   \n",
       "9              [nan]           [[(9, 19.99), (0, 2.99)], [(23, 49.99)]]   \n",
       "\n",
       "                                        PG4_AGGSALES  \\\n",
       "0  [[(49727, 75.99), (2632, 18.86), (2074, 16.14)...   \n",
       "1  [[(683, 48.98), (3185, 24.99), (10331, 19.98),...   \n",
       "2                     [[(173957, 25.98), (0, 2.99)]]   \n",
       "3  [[(16637, 17.99), (465, 13.98), (96500, 3.49),...   \n",
       "4  [[(97982, 17.98), (200964, 13.99), (1555, 8.99...   \n",
       "5  [[(35824, 84.99), (1343, 28.99), (136, 21.47),...   \n",
       "6                      [[(10623, 22.99), (0, 2.99)]]   \n",
       "7  [[(71978, 35.94), (0, -3.59)], [(71978, 35.94)...   \n",
       "8  [[(30936, 34.99), (6530, 21.64), (104, 2.49), ...   \n",
       "9    [[(97768, 19.99), (0, 2.99)], [(49727, 49.99)]]   \n",
       "\n",
       "                                      BRAND_AGGSALES  \\\n",
       "0  [[(Kratztonnen, 75.99), (★ Cosma, 18.86), (Iam...   \n",
       "1  [[(Royal Canin, 48.98), (Tragetaschen, 24.99),...   \n",
       "2  [[(flexi New Classic & Special, 25.98), (nan, ...   \n",
       "3  [[(Schleppleine & Feldleine, 17.99), (KONG, 13...   \n",
       "4  [[(Intelligenzspielzeug mit Futter, 17.98), (K...   \n",
       "5  [[(Taste of the Wild, 84.99), (Papageienfutter...   \n",
       "6              [[(Einstiegshilfe, 22.99), (nan, 0)]]   \n",
       "7  [[(Knuspersnacks, 35.94), (nan, 0)], [(Knusper...   \n",
       "8  [[(Gesundheitsbetten, 34.99), (★ Rocco, 21.64)...   \n",
       "9  [[(Hundebetten, 19.99), (nan, 0)], [(Kratztonn...   \n",
       "\n",
       "                                         SP_PURCHASE  \n",
       "0  [False, False, False, True, False, False, Fals...  \n",
       "1  [False, False, False, False, False, False, False]  \n",
       "2                                            [False]  \n",
       "3                                     [False, False]  \n",
       "4                                            [False]  \n",
       "5                [False, False, False, False, False]  \n",
       "6                                            [False]  \n",
       "7  [False, False, False, False, False, False, Fal...  \n",
       "8                              [False, False, False]  \n",
       "9                                     [False, False]  "
      ]
     },
     "execution_count": 29,
     "metadata": {},
     "output_type": "execute_result"
    }
   ],
   "source": [
    "customers.head(10)[customers.columns[11:20]]"
   ]
  },
  {
   "cell_type": "code",
   "execution_count": 30,
   "metadata": {
    "ExecuteTime": {
     "end_time": "2018-11-28T13:43:39.612024Z",
     "start_time": "2018-11-28T13:43:39.495024Z"
    },
    "scrolled": false
   },
   "outputs": [
    {
     "data": {
      "text/html": [
       "<div>\n",
       "<style scoped>\n",
       "    .dataframe tbody tr th:only-of-type {\n",
       "        vertical-align: middle;\n",
       "    }\n",
       "\n",
       "    .dataframe tbody tr th {\n",
       "        vertical-align: top;\n",
       "    }\n",
       "\n",
       "    .dataframe thead th {\n",
       "        text-align: right;\n",
       "    }\n",
       "</style>\n",
       "<table border=\"1\" class=\"dataframe\">\n",
       "  <thead>\n",
       "    <tr style=\"text-align: right;\">\n",
       "      <th></th>\n",
       "      <th>SP_DISC</th>\n",
       "      <th>D28</th>\n",
       "      <th>D56</th>\n",
       "      <th>D84</th>\n",
       "      <th>D168</th>\n",
       "      <th>D252</th>\n",
       "      <th>D336</th>\n",
       "      <th>O_TIMEDELTAS</th>\n",
       "      <th>FLAT_PG3_SALES</th>\n",
       "      <th>FLAT_PG4_SALES</th>\n",
       "      <th>FLAT_BRAND_SALES</th>\n",
       "      <th>TOTAL_PG3_SALES</th>\n",
       "      <th>TOTAL_PG4_SALES</th>\n",
       "      <th>TOTAL_BRAND_SALES</th>\n",
       "    </tr>\n",
       "  </thead>\n",
       "  <tbody>\n",
       "    <tr>\n",
       "      <th>0</th>\n",
       "      <td>[False, False, False, True, True, True, True, ...</td>\n",
       "      <td>2017-05-10</td>\n",
       "      <td>2017-06-07</td>\n",
       "      <td>2017-07-05</td>\n",
       "      <td>2017-09-27</td>\n",
       "      <td>2017-12-20</td>\n",
       "      <td>2018-03-14</td>\n",
       "      <td>[31, 27, 62, 80, 50, 60, 67]</td>\n",
       "      <td>[(23, 75.99), (2068, 41.99), (252, 3.11), (206...</td>\n",
       "      <td>[(49727, 75.99), (2632, 18.86), (2074, 16.14),...</td>\n",
       "      <td>[(Kratztonnen, 75.99), (★ Cosma, 18.86), (Iams...</td>\n",
       "      <td>[(2068, 450.47), (23, 75.99), (34, 7.45), (489...</td>\n",
       "      <td>[(2632, 352.94), (49727, 75.99), (2074, 50.1),...</td>\n",
       "      <td>[(★ Cosma, 352.94), (Kratztonnen, 75.99), (Iam...</td>\n",
       "    </tr>\n",
       "    <tr>\n",
       "      <th>1</th>\n",
       "      <td>[False, False, False, False, False, False, False]</td>\n",
       "      <td>2016-08-18</td>\n",
       "      <td>2016-09-15</td>\n",
       "      <td>2016-10-13</td>\n",
       "      <td>2017-01-05</td>\n",
       "      <td>2017-03-30</td>\n",
       "      <td>2017-06-22</td>\n",
       "      <td>[146, 127, 53, 181, 141, 4]</td>\n",
       "      <td>[(252, 48.98), (37, 24.99), (301, 19.98), (207...</td>\n",
       "      <td>[(683, 48.98), (3185, 24.99), (10331, 19.98), ...</td>\n",
       "      <td>[(Royal Canin, 48.98), (Tragetaschen, 24.99), ...</td>\n",
       "      <td>[(252, 285.89), (29, 40.4), (301, 32.97), (207...</td>\n",
       "      <td>[(261925, 186.93), (683, 98.96), (1082, 34.91)...</td>\n",
       "      <td>[(Royal Canin Rasse (Breed), 186.93), (Royal C...</td>\n",
       "    </tr>\n",
       "    <tr>\n",
       "      <th>2</th>\n",
       "      <td>[False]</td>\n",
       "      <td>2016-09-06</td>\n",
       "      <td>2016-10-04</td>\n",
       "      <td>2016-11-01</td>\n",
       "      <td>2017-01-24</td>\n",
       "      <td>2017-04-18</td>\n",
       "      <td>2017-07-11</td>\n",
       "      <td>[]</td>\n",
       "      <td>[(15, 25.98), (0, 2.99)]</td>\n",
       "      <td>[(173957, 25.98), (0, 2.99)]</td>\n",
       "      <td>[(flexi New Classic &amp; Special, 25.98), (nan, 0)]</td>\n",
       "      <td>[(15, 25.98), (0, 2.99)]</td>\n",
       "      <td>[(173957, 25.98), (0, 2.99)]</td>\n",
       "      <td>[(flexi New Classic &amp; Special, 25.98), (nan, 0)]</td>\n",
       "    </tr>\n",
       "    <tr>\n",
       "      <th>3</th>\n",
       "      <td>[False, False]</td>\n",
       "      <td>2015-11-05</td>\n",
       "      <td>2015-12-03</td>\n",
       "      <td>2015-12-31</td>\n",
       "      <td>2016-03-24</td>\n",
       "      <td>2016-06-16</td>\n",
       "      <td>2016-09-08</td>\n",
       "      <td>[229]</td>\n",
       "      <td>[(20, 19.96), (15, 17.99), (15, 29.99), (20, 8...</td>\n",
       "      <td>[(16637, 17.99), (465, 13.98), (96500, 3.49), ...</td>\n",
       "      <td>[(Schleppleine &amp; Feldleine, 17.99), (KONG, 13....</td>\n",
       "      <td>[(15, 47.98), (20, 28.94)]</td>\n",
       "      <td>[(16637, 47.98), (465, 13.98), (96500, 12.47),...</td>\n",
       "      <td>[(Schleppleine &amp; Feldleine, 47.98), (KONG, 13....</td>\n",
       "    </tr>\n",
       "    <tr>\n",
       "      <th>4</th>\n",
       "      <td>[False]</td>\n",
       "      <td>2016-09-20</td>\n",
       "      <td>2016-10-18</td>\n",
       "      <td>2016-11-15</td>\n",
       "      <td>2017-02-07</td>\n",
       "      <td>2017-05-02</td>\n",
       "      <td>2017-07-25</td>\n",
       "      <td>[]</td>\n",
       "      <td>[(36, 20.47), (23, 13.99), (1540, 8.99), (29, ...</td>\n",
       "      <td>[(97982, 17.98), (200964, 13.99), (1555, 8.99)...</td>\n",
       "      <td>[(Intelligenzspielzeug mit Futter, 17.98), (Kr...</td>\n",
       "      <td>[(36, 20.47), (23, 13.99), (1540, 8.99), (29, ...</td>\n",
       "      <td>[(97982, 17.98), (200964, 13.99), (1555, 8.99)...</td>\n",
       "      <td>[(Intelligenzspielzeug mit Futter, 17.98), (Kr...</td>\n",
       "    </tr>\n",
       "    <tr>\n",
       "      <th>5</th>\n",
       "      <td>[False, False, False, False, False]</td>\n",
       "      <td>2016-07-12</td>\n",
       "      <td>2016-08-09</td>\n",
       "      <td>2016-09-06</td>\n",
       "      <td>2016-11-29</td>\n",
       "      <td>2017-02-21</td>\n",
       "      <td>2017-05-16</td>\n",
       "      <td>[309, 29, 131, 225]</td>\n",
       "      <td>[(252, 84.99), (36, 37.46), (221, 28.99), (988...</td>\n",
       "      <td>[(35824, 84.99), (1343, 28.99), (136, 21.47), ...</td>\n",
       "      <td>[(Taste of the Wild, 84.99), (Papageienfutter,...</td>\n",
       "      <td>[(252, 204.97), (251, 198.51), (221, 63.98), (...</td>\n",
       "      <td>[(180361, 198.51), (35824, 84.99), (256, 69.99...</td>\n",
       "      <td>[(★ Wolf of Wilderness, 207.96), (Taste of the...</td>\n",
       "    </tr>\n",
       "    <tr>\n",
       "      <th>6</th>\n",
       "      <td>[False]</td>\n",
       "      <td>2016-11-21</td>\n",
       "      <td>2016-12-19</td>\n",
       "      <td>2017-01-16</td>\n",
       "      <td>2017-04-10</td>\n",
       "      <td>2017-07-03</td>\n",
       "      <td>2017-09-25</td>\n",
       "      <td>[]</td>\n",
       "      <td>[(2190, 22.99), (0, 2.99)]</td>\n",
       "      <td>[(10623, 22.99), (0, 2.99)]</td>\n",
       "      <td>[(Einstiegshilfe, 22.99), (nan, 0)]</td>\n",
       "      <td>[(2190, 22.99), (0, 2.99)]</td>\n",
       "      <td>[(10623, 22.99), (0, 2.99)]</td>\n",
       "      <td>[(Einstiegshilfe, 22.99), (nan, 0)]</td>\n",
       "    </tr>\n",
       "    <tr>\n",
       "      <th>7</th>\n",
       "      <td>[False, False, False, False, False, False, Fal...</td>\n",
       "      <td>2016-12-08</td>\n",
       "      <td>2017-01-05</td>\n",
       "      <td>2017-02-02</td>\n",
       "      <td>2017-04-27</td>\n",
       "      <td>2017-07-20</td>\n",
       "      <td>2017-10-12</td>\n",
       "      <td>[25, 36, 18, 26, 26, 27, 49, 72, 36, 28, 27, 3...</td>\n",
       "      <td>[(34, 35.94), (0, -3.59), (34, 35.94), (34, 41...</td>\n",
       "      <td>[(71978, 35.94), (0, -3.59), (71978, 35.94), (...</td>\n",
       "      <td>[(Knuspersnacks, 35.94), (nan, 0), (Knuspersna...</td>\n",
       "      <td>[(34, 541.29), (36, 0.0), (0, -3.59)]</td>\n",
       "      <td>[(71978, 541.29), (1551, 0.0), (0, -3.59)]</td>\n",
       "      <td>[(Knuspersnacks, 541.29), (nan, 0), (Spielange...</td>\n",
       "    </tr>\n",
       "    <tr>\n",
       "      <th>8</th>\n",
       "      <td>[False, False, False]</td>\n",
       "      <td>2016-03-13</td>\n",
       "      <td>2016-04-10</td>\n",
       "      <td>2016-05-08</td>\n",
       "      <td>2016-07-31</td>\n",
       "      <td>2016-10-23</td>\n",
       "      <td>2017-01-15</td>\n",
       "      <td>[230, 113]</td>\n",
       "      <td>[(9, 34.99), (857, 21.64), (18, 2.49), (0, -2....</td>\n",
       "      <td>[(30936, 34.99), (6530, 21.64), (104, 2.49), (...</td>\n",
       "      <td>[(Gesundheitsbetten, 34.99), (★ Rocco, 21.64),...</td>\n",
       "      <td>[(9, 56.47), (857, 37.87), (40023, 19.99), (18...</td>\n",
       "      <td>[(6530, 37.87), (30936, 34.99), (43280, 19.99)...</td>\n",
       "      <td>[(★ Rocco, 37.87), (Gesundheitsbetten, 34.99),...</td>\n",
       "    </tr>\n",
       "    <tr>\n",
       "      <th>9</th>\n",
       "      <td>[False, False]</td>\n",
       "      <td>2016-05-04</td>\n",
       "      <td>2016-06-01</td>\n",
       "      <td>2016-06-29</td>\n",
       "      <td>2016-09-21</td>\n",
       "      <td>2016-12-14</td>\n",
       "      <td>2017-03-08</td>\n",
       "      <td>[36]</td>\n",
       "      <td>[(9, 19.99), (0, 2.99), (23, 49.99)]</td>\n",
       "      <td>[(97768, 19.99), (0, 2.99), (49727, 49.99)]</td>\n",
       "      <td>[(Hundebetten, 19.99), (nan, 0), (Kratztonnen,...</td>\n",
       "      <td>[(23, 49.99), (9, 19.99), (0, 2.99)]</td>\n",
       "      <td>[(49727, 49.99), (97768, 19.99), (0, 2.99)]</td>\n",
       "      <td>[(Kratztonnen, 49.99), (Hundebetten, 19.99), (...</td>\n",
       "    </tr>\n",
       "  </tbody>\n",
       "</table>\n",
       "</div>"
      ],
      "text/plain": [
       "                                             SP_DISC        D28        D56  \\\n",
       "0  [False, False, False, True, True, True, True, ... 2017-05-10 2017-06-07   \n",
       "1  [False, False, False, False, False, False, False] 2016-08-18 2016-09-15   \n",
       "2                                            [False] 2016-09-06 2016-10-04   \n",
       "3                                     [False, False] 2015-11-05 2015-12-03   \n",
       "4                                            [False] 2016-09-20 2016-10-18   \n",
       "5                [False, False, False, False, False] 2016-07-12 2016-08-09   \n",
       "6                                            [False] 2016-11-21 2016-12-19   \n",
       "7  [False, False, False, False, False, False, Fal... 2016-12-08 2017-01-05   \n",
       "8                              [False, False, False] 2016-03-13 2016-04-10   \n",
       "9                                     [False, False] 2016-05-04 2016-06-01   \n",
       "\n",
       "         D84       D168       D252       D336  \\\n",
       "0 2017-07-05 2017-09-27 2017-12-20 2018-03-14   \n",
       "1 2016-10-13 2017-01-05 2017-03-30 2017-06-22   \n",
       "2 2016-11-01 2017-01-24 2017-04-18 2017-07-11   \n",
       "3 2015-12-31 2016-03-24 2016-06-16 2016-09-08   \n",
       "4 2016-11-15 2017-02-07 2017-05-02 2017-07-25   \n",
       "5 2016-09-06 2016-11-29 2017-02-21 2017-05-16   \n",
       "6 2017-01-16 2017-04-10 2017-07-03 2017-09-25   \n",
       "7 2017-02-02 2017-04-27 2017-07-20 2017-10-12   \n",
       "8 2016-05-08 2016-07-31 2016-10-23 2017-01-15   \n",
       "9 2016-06-29 2016-09-21 2016-12-14 2017-03-08   \n",
       "\n",
       "                                        O_TIMEDELTAS  \\\n",
       "0                       [31, 27, 62, 80, 50, 60, 67]   \n",
       "1                        [146, 127, 53, 181, 141, 4]   \n",
       "2                                                 []   \n",
       "3                                              [229]   \n",
       "4                                                 []   \n",
       "5                                [309, 29, 131, 225]   \n",
       "6                                                 []   \n",
       "7  [25, 36, 18, 26, 26, 27, 49, 72, 36, 28, 27, 3...   \n",
       "8                                         [230, 113]   \n",
       "9                                               [36]   \n",
       "\n",
       "                                      FLAT_PG3_SALES  \\\n",
       "0  [(23, 75.99), (2068, 41.99), (252, 3.11), (206...   \n",
       "1  [(252, 48.98), (37, 24.99), (301, 19.98), (207...   \n",
       "2                           [(15, 25.98), (0, 2.99)]   \n",
       "3  [(20, 19.96), (15, 17.99), (15, 29.99), (20, 8...   \n",
       "4  [(36, 20.47), (23, 13.99), (1540, 8.99), (29, ...   \n",
       "5  [(252, 84.99), (36, 37.46), (221, 28.99), (988...   \n",
       "6                         [(2190, 22.99), (0, 2.99)]   \n",
       "7  [(34, 35.94), (0, -3.59), (34, 35.94), (34, 41...   \n",
       "8  [(9, 34.99), (857, 21.64), (18, 2.49), (0, -2....   \n",
       "9               [(9, 19.99), (0, 2.99), (23, 49.99)]   \n",
       "\n",
       "                                      FLAT_PG4_SALES  \\\n",
       "0  [(49727, 75.99), (2632, 18.86), (2074, 16.14),...   \n",
       "1  [(683, 48.98), (3185, 24.99), (10331, 19.98), ...   \n",
       "2                       [(173957, 25.98), (0, 2.99)]   \n",
       "3  [(16637, 17.99), (465, 13.98), (96500, 3.49), ...   \n",
       "4  [(97982, 17.98), (200964, 13.99), (1555, 8.99)...   \n",
       "5  [(35824, 84.99), (1343, 28.99), (136, 21.47), ...   \n",
       "6                        [(10623, 22.99), (0, 2.99)]   \n",
       "7  [(71978, 35.94), (0, -3.59), (71978, 35.94), (...   \n",
       "8  [(30936, 34.99), (6530, 21.64), (104, 2.49), (...   \n",
       "9        [(97768, 19.99), (0, 2.99), (49727, 49.99)]   \n",
       "\n",
       "                                    FLAT_BRAND_SALES  \\\n",
       "0  [(Kratztonnen, 75.99), (★ Cosma, 18.86), (Iams...   \n",
       "1  [(Royal Canin, 48.98), (Tragetaschen, 24.99), ...   \n",
       "2   [(flexi New Classic & Special, 25.98), (nan, 0)]   \n",
       "3  [(Schleppleine & Feldleine, 17.99), (KONG, 13....   \n",
       "4  [(Intelligenzspielzeug mit Futter, 17.98), (Kr...   \n",
       "5  [(Taste of the Wild, 84.99), (Papageienfutter,...   \n",
       "6                [(Einstiegshilfe, 22.99), (nan, 0)]   \n",
       "7  [(Knuspersnacks, 35.94), (nan, 0), (Knuspersna...   \n",
       "8  [(Gesundheitsbetten, 34.99), (★ Rocco, 21.64),...   \n",
       "9  [(Hundebetten, 19.99), (nan, 0), (Kratztonnen,...   \n",
       "\n",
       "                                     TOTAL_PG3_SALES  \\\n",
       "0  [(2068, 450.47), (23, 75.99), (34, 7.45), (489...   \n",
       "1  [(252, 285.89), (29, 40.4), (301, 32.97), (207...   \n",
       "2                           [(15, 25.98), (0, 2.99)]   \n",
       "3                         [(15, 47.98), (20, 28.94)]   \n",
       "4  [(36, 20.47), (23, 13.99), (1540, 8.99), (29, ...   \n",
       "5  [(252, 204.97), (251, 198.51), (221, 63.98), (...   \n",
       "6                         [(2190, 22.99), (0, 2.99)]   \n",
       "7              [(34, 541.29), (36, 0.0), (0, -3.59)]   \n",
       "8  [(9, 56.47), (857, 37.87), (40023, 19.99), (18...   \n",
       "9               [(23, 49.99), (9, 19.99), (0, 2.99)]   \n",
       "\n",
       "                                     TOTAL_PG4_SALES  \\\n",
       "0  [(2632, 352.94), (49727, 75.99), (2074, 50.1),...   \n",
       "1  [(261925, 186.93), (683, 98.96), (1082, 34.91)...   \n",
       "2                       [(173957, 25.98), (0, 2.99)]   \n",
       "3  [(16637, 47.98), (465, 13.98), (96500, 12.47),...   \n",
       "4  [(97982, 17.98), (200964, 13.99), (1555, 8.99)...   \n",
       "5  [(180361, 198.51), (35824, 84.99), (256, 69.99...   \n",
       "6                        [(10623, 22.99), (0, 2.99)]   \n",
       "7         [(71978, 541.29), (1551, 0.0), (0, -3.59)]   \n",
       "8  [(6530, 37.87), (30936, 34.99), (43280, 19.99)...   \n",
       "9        [(49727, 49.99), (97768, 19.99), (0, 2.99)]   \n",
       "\n",
       "                                   TOTAL_BRAND_SALES  \n",
       "0  [(★ Cosma, 352.94), (Kratztonnen, 75.99), (Iam...  \n",
       "1  [(Royal Canin Rasse (Breed), 186.93), (Royal C...  \n",
       "2   [(flexi New Classic & Special, 25.98), (nan, 0)]  \n",
       "3  [(Schleppleine & Feldleine, 47.98), (KONG, 13....  \n",
       "4  [(Intelligenzspielzeug mit Futter, 17.98), (Kr...  \n",
       "5  [(★ Wolf of Wilderness, 207.96), (Taste of the...  \n",
       "6                [(Einstiegshilfe, 22.99), (nan, 0)]  \n",
       "7  [(Knuspersnacks, 541.29), (nan, 0), (Spielange...  \n",
       "8  [(★ Rocco, 37.87), (Gesundheitsbetten, 34.99),...  \n",
       "9  [(Kratztonnen, 49.99), (Hundebetten, 19.99), (...  "
      ]
     },
     "execution_count": 30,
     "metadata": {},
     "output_type": "execute_result"
    }
   ],
   "source": [
    "customers.head(10)[customers.columns[20:]]"
   ]
  },
  {
   "cell_type": "markdown",
   "metadata": {
    "ExecuteTime": {
     "end_time": "2018-11-27T08:24:14.682904Z",
     "start_time": "2018-11-27T08:24:14.677905Z"
    }
   },
   "source": [
    "We locate the N-order in which SP has been bought..."
   ]
  },
  {
   "cell_type": "code",
   "execution_count": 31,
   "metadata": {
    "ExecuteTime": {
     "end_time": "2018-11-28T13:43:52.262024Z",
     "start_time": "2018-11-28T13:43:48.737024Z"
    }
   },
   "outputs": [],
   "source": [
    "customers['SP_PY_POS'] = [np.argwhere(i)[0][0] if len(np.argwhere(i)) >= 1 else 999999\n",
    "                          for i in customers['SP_PURCHASE'].values]"
   ]
  },
  {
   "cell_type": "markdown",
   "metadata": {},
   "source": [
    "And the days between 1st order in our dataset and SP purchase date"
   ]
  },
  {
   "cell_type": "code",
   "execution_count": 32,
   "metadata": {
    "ExecuteTime": {
     "end_time": "2018-11-28T13:43:53.472024Z",
     "start_time": "2018-11-28T13:43:53.135024Z"
    }
   },
   "outputs": [],
   "source": [
    "customers['DAYS_UNTIL_1st_SP'] = [(x[y] - x[0]).days if y != 999999 else None for x, y in list(zip(customers['TDT_T_KEY_ORDER_DATE_list'], \n",
    "                                                                   customers['SP_PY_POS']))]"
   ]
  },
  {
   "cell_type": "code",
   "execution_count": 33,
   "metadata": {
    "ExecuteTime": {
     "end_time": "2018-11-28T13:43:54.387024Z",
     "start_time": "2018-11-28T13:43:54.341024Z"
    }
   },
   "outputs": [
    {
     "data": {
      "text/plain": [
       "count    57248.000000\n",
       "mean       157.651429\n",
       "std        207.984274\n",
       "min          0.000000\n",
       "25%          0.000000\n",
       "50%         63.000000\n",
       "75%        242.000000\n",
       "max       1093.000000\n",
       "Name: DAYS_UNTIL_1st_SP, dtype: float64"
      ]
     },
     "execution_count": 33,
     "metadata": {},
     "output_type": "execute_result"
    }
   ],
   "source": [
    "customers['DAYS_UNTIL_1st_SP'].describe()"
   ]
  },
  {
   "cell_type": "markdown",
   "metadata": {},
   "source": [
    "Quantify the amount of orders having a SP discount or not"
   ]
  },
  {
   "cell_type": "code",
   "execution_count": 34,
   "metadata": {
    "ExecuteTime": {
     "end_time": "2018-11-28T13:43:56.220024Z",
     "start_time": "2018-11-28T13:43:56.049024Z"
    }
   },
   "outputs": [],
   "source": [
    "customers['SP_ORDERS'] = [sum(i) for i in customers['SP_DISC'].values]"
   ]
  },
  {
   "cell_type": "code",
   "execution_count": 35,
   "metadata": {
    "ExecuteTime": {
     "end_time": "2018-11-28T13:43:57.118024Z",
     "start_time": "2018-11-28T13:43:57.103024Z"
    }
   },
   "outputs": [],
   "source": [
    "customers['NO_SP_ORDERS'] = customers['SCM_N_ORDER_NR_len'] - customers['SP_ORDERS']"
   ]
  },
  {
   "cell_type": "code",
   "execution_count": 36,
   "metadata": {
    "ExecuteTime": {
     "end_time": "2018-11-28T13:43:58.012024Z",
     "start_time": "2018-11-28T13:43:58.002024Z"
    }
   },
   "outputs": [
    {
     "data": {
      "text/plain": [
       "datetime.date(2018, 6, 30)"
      ]
     },
     "execution_count": 36,
     "metadata": {},
     "output_type": "execute_result"
    }
   ],
   "source": [
    "last_date_df = datetime.datetime.strptime('30062018', \"%d%m%Y\").date()\n",
    "last_date_df"
   ]
  },
  {
   "cell_type": "markdown",
   "metadata": {},
   "source": [
    "We obtain now, the total days each customer has in our dataframe and the days after 1st SP"
   ]
  },
  {
   "cell_type": "code",
   "execution_count": 37,
   "metadata": {
    "ExecuteTime": {
     "end_time": "2018-11-28T13:43:59.065024Z",
     "start_time": "2018-11-28T13:43:58.895024Z"
    }
   },
   "outputs": [],
   "source": [
    "customers['DAYS_IN_DF'] = [(last_date_df - i[0]).days for i in customers['TDT_T_KEY_ORDER_DATE_list'].values]"
   ]
  },
  {
   "cell_type": "code",
   "execution_count": 38,
   "metadata": {
    "ExecuteTime": {
     "end_time": "2018-11-28T13:43:59.891024Z",
     "start_time": "2018-11-28T13:43:59.884024Z"
    }
   },
   "outputs": [],
   "source": [
    "customers['DAYS_AFTER_1st_SP'] = customers['DAYS_IN_DF'] - customers['DAYS_UNTIL_1st_SP']"
   ]
  },
  {
   "cell_type": "code",
   "execution_count": 39,
   "metadata": {
    "ExecuteTime": {
     "end_time": "2018-11-28T13:44:00.782024Z",
     "start_time": "2018-11-28T13:44:00.614024Z"
    }
   },
   "outputs": [],
   "source": [
    "customers['SP_CUS'] = [(sum(i) >= 1) * 1 for i in customers['SP_DISC'].values]"
   ]
  },
  {
   "cell_type": "code",
   "execution_count": 40,
   "metadata": {
    "ExecuteTime": {
     "end_time": "2018-11-28T13:44:01.452024Z",
     "start_time": "2018-11-28T13:44:01.439024Z"
    }
   },
   "outputs": [
    {
     "data": {
      "text/plain": [
       "0    301074\n",
       "1     59071\n",
       "Name: SP_CUS, dtype: int64"
      ]
     },
     "execution_count": 40,
     "metadata": {},
     "output_type": "execute_result"
    }
   ],
   "source": [
    "customers['SP_CUS'].value_counts()"
   ]
  },
  {
   "cell_type": "code",
   "execution_count": 41,
   "metadata": {
    "ExecuteTime": {
     "end_time": "2018-11-28T13:44:07.060024Z",
     "start_time": "2018-11-28T13:44:06.533024Z"
    }
   },
   "outputs": [],
   "source": [
    "sp_customers = customers[customers['SP_CUS'] == 1].copy()"
   ]
  },
  {
   "cell_type": "code",
   "execution_count": 42,
   "metadata": {
    "ExecuteTime": {
     "end_time": "2018-11-28T13:44:18.115024Z",
     "start_time": "2018-11-28T13:44:18.109024Z"
    }
   },
   "outputs": [
    {
     "data": {
      "text/plain": [
       "59071"
      ]
     },
     "execution_count": 42,
     "metadata": {},
     "output_type": "execute_result"
    }
   ],
   "source": [
    "len(sp_customers)"
   ]
  },
  {
   "cell_type": "code",
   "execution_count": 43,
   "metadata": {
    "ExecuteTime": {
     "end_time": "2018-11-28T13:44:20.164024Z",
     "start_time": "2018-11-28T13:44:20.070024Z"
    }
   },
   "outputs": [
    {
     "data": {
      "text/html": [
       "<div>\n",
       "<style scoped>\n",
       "    .dataframe tbody tr th:only-of-type {\n",
       "        vertical-align: middle;\n",
       "    }\n",
       "\n",
       "    .dataframe tbody tr th {\n",
       "        vertical-align: top;\n",
       "    }\n",
       "\n",
       "    .dataframe thead th {\n",
       "        text-align: right;\n",
       "    }\n",
       "</style>\n",
       "<table border=\"1\" class=\"dataframe\">\n",
       "  <thead>\n",
       "    <tr style=\"text-align: right;\">\n",
       "      <th></th>\n",
       "      <th>CUS_N_KEY_CUSTOMER</th>\n",
       "      <th>SCM_N_ORDER_NR_len</th>\n",
       "      <th>TDT_T_KEY_ORDER_DATE_list</th>\n",
       "      <th>SCM_SALES_BMF_sum</th>\n",
       "      <th>SCM_SALES_BMF_list</th>\n",
       "      <th>SCM_D_FINANCE_CM1_sum</th>\n",
       "      <th>SCM_D_FINANCE_CM1_list</th>\n",
       "      <th>SCM_D_FINANCE_CM2_sum</th>\n",
       "      <th>SCM_D_FINANCE_CM2_list</th>\n",
       "      <th>SCM_D_ORIG_FINANCE_ORDER_NET_sum</th>\n",
       "      <th>...</th>\n",
       "      <th>TOTAL_PG3_SALES</th>\n",
       "      <th>TOTAL_PG4_SALES</th>\n",
       "      <th>TOTAL_BRAND_SALES</th>\n",
       "      <th>SP_PY_POS</th>\n",
       "      <th>DAYS_UNTIL_1st_SP</th>\n",
       "      <th>SP_ORDERS</th>\n",
       "      <th>NO_SP_ORDERS</th>\n",
       "      <th>DAYS_IN_DF</th>\n",
       "      <th>DAYS_AFTER_1st_SP</th>\n",
       "      <th>SP_CUS</th>\n",
       "    </tr>\n",
       "  </thead>\n",
       "  <tbody>\n",
       "    <tr>\n",
       "      <th>244341</th>\n",
       "      <td>15410091</td>\n",
       "      <td>1</td>\n",
       "      <td>[2016-10-31]</td>\n",
       "      <td>94.97</td>\n",
       "      <td>[94.97]</td>\n",
       "      <td>25.04</td>\n",
       "      <td>[25.04]</td>\n",
       "      <td>18.39</td>\n",
       "      <td>[18.39]</td>\n",
       "      <td>78.49</td>\n",
       "      <td>...</td>\n",
       "      <td>[(251, 56.99), (252, 37.99), (48963, 4.99), (0...</td>\n",
       "      <td>[(118221, 56.99), (2056, 37.99), (0, -0.01)]</td>\n",
       "      <td>[(Simpsons Premium, 56.99), (Sanabelle, 37.99)...</td>\n",
       "      <td>0</td>\n",
       "      <td>0.0</td>\n",
       "      <td>1</td>\n",
       "      <td>0</td>\n",
       "      <td>607</td>\n",
       "      <td>607.0</td>\n",
       "      <td>1</td>\n",
       "    </tr>\n",
       "    <tr>\n",
       "      <th>172757</th>\n",
       "      <td>14393264</td>\n",
       "      <td>12</td>\n",
       "      <td>[2016-06-08, 2016-09-05, 2016-10-17, 2016-11-2...</td>\n",
       "      <td>852.10</td>\n",
       "      <td>[82.02, 93.08, 33.38, 113.02, 73.14, 66.49, 40...</td>\n",
       "      <td>140.54</td>\n",
       "      <td>[14.61, 17.39, 0.37, 20.48, 14.77, 9.6, 9.63, ...</td>\n",
       "      <td>66.91</td>\n",
       "      <td>[9.02, 11.97, -4.63, 14.8, 9.86, 3.36, 4.21, 2...</td>\n",
       "      <td>706.14</td>\n",
       "      <td>...</td>\n",
       "      <td>[(252, 553.92), (2068, 97.94), (207624, 80.96)...</td>\n",
       "      <td>[(81397, 500.93), (218624, 97.94), (207690, 80...</td>\n",
       "      <td>[(Royal Canin Veterinary Diet, 598.87), (Spot-...</td>\n",
       "      <td>0</td>\n",
       "      <td>0.0</td>\n",
       "      <td>12</td>\n",
       "      <td>0</td>\n",
       "      <td>752</td>\n",
       "      <td>752.0</td>\n",
       "      <td>1</td>\n",
       "    </tr>\n",
       "    <tr>\n",
       "      <th>203300</th>\n",
       "      <td>14815808</td>\n",
       "      <td>28</td>\n",
       "      <td>[2016-08-05, 2016-08-29, 2016-09-27, 2016-10-0...</td>\n",
       "      <td>1516.31</td>\n",
       "      <td>[24.83, 43.18, 74.96, 34.18, 43.94, 67.96, 48....</td>\n",
       "      <td>318.76</td>\n",
       "      <td>[6.62, 6.21, 15.68, 2.33, 5.77, 8.18, 7.71, 7....</td>\n",
       "      <td>147.84</td>\n",
       "      <td>[2.04, 1.26, 9.32, -2.36, 0.27, 2.52, 1.48, 2....</td>\n",
       "      <td>1253.15</td>\n",
       "      <td>...</td>\n",
       "      <td>[(857, 953.58), (251, 238.92), (18, 205.7), (1...</td>\n",
       "      <td>[(10850, 333.8), (219110, 256.93), (121917, 19...</td>\n",
       "      <td>[(Royal Canin Veterinary Diet, 443.88), (Yarra...</td>\n",
       "      <td>15</td>\n",
       "      <td>415.0</td>\n",
       "      <td>13</td>\n",
       "      <td>15</td>\n",
       "      <td>694</td>\n",
       "      <td>279.0</td>\n",
       "      <td>1</td>\n",
       "    </tr>\n",
       "    <tr>\n",
       "      <th>143272</th>\n",
       "      <td>13965100</td>\n",
       "      <td>13</td>\n",
       "      <td>[2016-04-12, 2016-05-25, 2016-08-02, 2016-09-3...</td>\n",
       "      <td>736.55</td>\n",
       "      <td>[199.99, 53.57, 44.44, 60.77, 34.47, 61.74, 44...</td>\n",
       "      <td>160.24</td>\n",
       "      <td>[54.72, 11.46, 8.13, 13.75, 8.16, 11.28, 8.29,...</td>\n",
       "      <td>89.84</td>\n",
       "      <td>[48.17, 5.85, 2.66, 8.24, 2.93, 6.17, 2.83, 1....</td>\n",
       "      <td>608.72</td>\n",
       "      <td>...</td>\n",
       "      <td>[(252, 436.06), (486, 199.99), (2068, 86.6), (...</td>\n",
       "      <td>[(81397, 436.06), (42639, 199.99), (218624, 86...</td>\n",
       "      <td>[(Royal Canin Veterinary Diet, 522.66), (LED A...</td>\n",
       "      <td>3</td>\n",
       "      <td>171.0</td>\n",
       "      <td>10</td>\n",
       "      <td>3</td>\n",
       "      <td>809</td>\n",
       "      <td>638.0</td>\n",
       "      <td>1</td>\n",
       "    </tr>\n",
       "    <tr>\n",
       "      <th>268492</th>\n",
       "      <td>15794321</td>\n",
       "      <td>13</td>\n",
       "      <td>[2016-12-20, 2017-02-15, 2017-05-04, 2017-06-2...</td>\n",
       "      <td>841.82</td>\n",
       "      <td>[37.96, 37.75, 156.75, 66.59, 32.47, 35.16, 37...</td>\n",
       "      <td>228.31</td>\n",
       "      <td>[14.59, 16.43, 27.51, 21.93, 13.18, 8.33, 14.0...</td>\n",
       "      <td>92.62</td>\n",
       "      <td>[3.2, 5.64, 13.1, 5.15, 7.35, 2.32, 3.05, 18.1...</td>\n",
       "      <td>696.06</td>\n",
       "      <td>...</td>\n",
       "      <td>[(252, 306.09), (301, 240.65), (34, 122.49), (...</td>\n",
       "      <td>[(10331, 240.65), (72002, 122.49), (683, 104.7...</td>\n",
       "      <td>[(★ Tigerino, 240.65), (Getrocknet &amp; natürlich...</td>\n",
       "      <td>10</td>\n",
       "      <td>496.0</td>\n",
       "      <td>2</td>\n",
       "      <td>11</td>\n",
       "      <td>557</td>\n",
       "      <td>61.0</td>\n",
       "      <td>1</td>\n",
       "    </tr>\n",
       "  </tbody>\n",
       "</table>\n",
       "<p>5 rows × 41 columns</p>\n",
       "</div>"
      ],
      "text/plain": [
       "        CUS_N_KEY_CUSTOMER  SCM_N_ORDER_NR_len  \\\n",
       "244341            15410091                   1   \n",
       "172757            14393264                  12   \n",
       "203300            14815808                  28   \n",
       "143272            13965100                  13   \n",
       "268492            15794321                  13   \n",
       "\n",
       "                                TDT_T_KEY_ORDER_DATE_list  SCM_SALES_BMF_sum  \\\n",
       "244341                                       [2016-10-31]              94.97   \n",
       "172757  [2016-06-08, 2016-09-05, 2016-10-17, 2016-11-2...             852.10   \n",
       "203300  [2016-08-05, 2016-08-29, 2016-09-27, 2016-10-0...            1516.31   \n",
       "143272  [2016-04-12, 2016-05-25, 2016-08-02, 2016-09-3...             736.55   \n",
       "268492  [2016-12-20, 2017-02-15, 2017-05-04, 2017-06-2...             841.82   \n",
       "\n",
       "                                       SCM_SALES_BMF_list  \\\n",
       "244341                                            [94.97]   \n",
       "172757  [82.02, 93.08, 33.38, 113.02, 73.14, 66.49, 40...   \n",
       "203300  [24.83, 43.18, 74.96, 34.18, 43.94, 67.96, 48....   \n",
       "143272  [199.99, 53.57, 44.44, 60.77, 34.47, 61.74, 44...   \n",
       "268492  [37.96, 37.75, 156.75, 66.59, 32.47, 35.16, 37...   \n",
       "\n",
       "        SCM_D_FINANCE_CM1_sum  \\\n",
       "244341                  25.04   \n",
       "172757                 140.54   \n",
       "203300                 318.76   \n",
       "143272                 160.24   \n",
       "268492                 228.31   \n",
       "\n",
       "                                   SCM_D_FINANCE_CM1_list  \\\n",
       "244341                                            [25.04]   \n",
       "172757  [14.61, 17.39, 0.37, 20.48, 14.77, 9.6, 9.63, ...   \n",
       "203300  [6.62, 6.21, 15.68, 2.33, 5.77, 8.18, 7.71, 7....   \n",
       "143272  [54.72, 11.46, 8.13, 13.75, 8.16, 11.28, 8.29,...   \n",
       "268492  [14.59, 16.43, 27.51, 21.93, 13.18, 8.33, 14.0...   \n",
       "\n",
       "        SCM_D_FINANCE_CM2_sum  \\\n",
       "244341                  18.39   \n",
       "172757                  66.91   \n",
       "203300                 147.84   \n",
       "143272                  89.84   \n",
       "268492                  92.62   \n",
       "\n",
       "                                   SCM_D_FINANCE_CM2_list  \\\n",
       "244341                                            [18.39]   \n",
       "172757  [9.02, 11.97, -4.63, 14.8, 9.86, 3.36, 4.21, 2...   \n",
       "203300  [2.04, 1.26, 9.32, -2.36, 0.27, 2.52, 1.48, 2....   \n",
       "143272  [48.17, 5.85, 2.66, 8.24, 2.93, 6.17, 2.83, 1....   \n",
       "268492  [3.2, 5.64, 13.1, 5.15, 7.35, 2.32, 3.05, 18.1...   \n",
       "\n",
       "        SCM_D_ORIG_FINANCE_ORDER_NET_sum  ...    \\\n",
       "244341                             78.49  ...     \n",
       "172757                            706.14  ...     \n",
       "203300                           1253.15  ...     \n",
       "143272                            608.72  ...     \n",
       "268492                            696.06  ...     \n",
       "\n",
       "                                          TOTAL_PG3_SALES  \\\n",
       "244341  [(251, 56.99), (252, 37.99), (48963, 4.99), (0...   \n",
       "172757  [(252, 553.92), (2068, 97.94), (207624, 80.96)...   \n",
       "203300  [(857, 953.58), (251, 238.92), (18, 205.7), (1...   \n",
       "143272  [(252, 436.06), (486, 199.99), (2068, 86.6), (...   \n",
       "268492  [(252, 306.09), (301, 240.65), (34, 122.49), (...   \n",
       "\n",
       "                                          TOTAL_PG4_SALES  \\\n",
       "244341       [(118221, 56.99), (2056, 37.99), (0, -0.01)]   \n",
       "172757  [(81397, 500.93), (218624, 97.94), (207690, 80...   \n",
       "203300  [(10850, 333.8), (219110, 256.93), (121917, 19...   \n",
       "143272  [(81397, 436.06), (42639, 199.99), (218624, 86...   \n",
       "268492  [(10331, 240.65), (72002, 122.49), (683, 104.7...   \n",
       "\n",
       "                                        TOTAL_BRAND_SALES SP_PY_POS  \\\n",
       "244341  [(Simpsons Premium, 56.99), (Sanabelle, 37.99)...         0   \n",
       "172757  [(Royal Canin Veterinary Diet, 598.87), (Spot-...         0   \n",
       "203300  [(Royal Canin Veterinary Diet, 443.88), (Yarra...        15   \n",
       "143272  [(Royal Canin Veterinary Diet, 522.66), (LED A...         3   \n",
       "268492  [(★ Tigerino, 240.65), (Getrocknet & natürlich...        10   \n",
       "\n",
       "       DAYS_UNTIL_1st_SP SP_ORDERS NO_SP_ORDERS DAYS_IN_DF DAYS_AFTER_1st_SP  \\\n",
       "244341               0.0         1            0        607             607.0   \n",
       "172757               0.0        12            0        752             752.0   \n",
       "203300             415.0        13           15        694             279.0   \n",
       "143272             171.0        10            3        809             638.0   \n",
       "268492             496.0         2           11        557              61.0   \n",
       "\n",
       "       SP_CUS  \n",
       "244341      1  \n",
       "172757      1  \n",
       "203300      1  \n",
       "143272      1  \n",
       "268492      1  \n",
       "\n",
       "[5 rows x 41 columns]"
      ]
     },
     "execution_count": 43,
     "metadata": {},
     "output_type": "execute_result"
    }
   ],
   "source": [
    "sp_customers.sample(5)"
   ]
  },
  {
   "cell_type": "markdown",
   "metadata": {},
   "source": [
    "Let's get those customers having at least 252 days of performance with/without SP "
   ]
  },
  {
   "cell_type": "code",
   "execution_count": 44,
   "metadata": {
    "ExecuteTime": {
     "end_time": "2018-11-28T13:44:21.680024Z",
     "start_time": "2018-11-28T13:44:21.650024Z"
    }
   },
   "outputs": [],
   "source": [
    "sp_customers_252 = sp_customers[(sp_customers['DAYS_UNTIL_1st_SP'] >= 252) & (sp_customers['DAYS_AFTER_1st_SP'] >= 252)].copy()"
   ]
  },
  {
   "cell_type": "code",
   "execution_count": 45,
   "metadata": {
    "ExecuteTime": {
     "end_time": "2018-11-28T13:44:23.735024Z",
     "start_time": "2018-11-28T13:44:23.728024Z"
    }
   },
   "outputs": [
    {
     "data": {
      "text/plain": [
       "8187"
      ]
     },
     "execution_count": 45,
     "metadata": {},
     "output_type": "execute_result"
    }
   ],
   "source": [
    "len(sp_customers_252)"
   ]
  },
  {
   "cell_type": "markdown",
   "metadata": {},
   "source": [
    "+ KPIs: **Sales, CM1, CM2, AOV, Order Frequency** during a **fixed time period**\n",
    "- **Number of PG3s** the customer bought in and **Sales Share** in the according class \n",
    "+ Spend in the classes that he did not buy before but started buying in with Savingsplan (would only work for Scenario b))\n",
    "+ Average Sales Share of Royal Canin products – with/without SP\n",
    "+ Average Sales Share of Hills products – with/without SP"
   ]
  },
  {
   "cell_type": "markdown",
   "metadata": {},
   "source": [
    "Now we need to create a boolean mask that let us obtain only order informations regarding each 252 days period..."
   ]
  },
  {
   "cell_type": "code",
   "execution_count": 46,
   "metadata": {
    "ExecuteTime": {
     "end_time": "2018-11-28T13:44:28.818024Z",
     "start_time": "2018-11-28T13:44:28.720024Z"
    }
   },
   "outputs": [],
   "source": [
    "sp_customers_252['MASK_252_BEF'] = [[(date >= (y[x] - timedelta(days=253))) and (date <= y[x]) \n",
    "                                     for date in y[:x]] for x, y in list(zip(sp_customers_252['SP_PY_POS'], \n",
    "                                                        sp_customers_252['TDT_T_KEY_ORDER_DATE_list']))]"
   ]
  },
  {
   "cell_type": "code",
   "execution_count": 47,
   "metadata": {
    "ExecuteTime": {
     "end_time": "2018-11-28T13:44:29.757024Z",
     "start_time": "2018-11-28T13:44:29.695024Z"
    }
   },
   "outputs": [],
   "source": [
    "sp_customers_252['MASK_252_AFT'] = [[(date >= y[x]) and (date <= (y[x] + timedelta(days=252)))\n",
    "                                    for date in y[x:]] \n",
    "                                    for x, y in list(zip(sp_customers_252['SP_PY_POS'], \n",
    "                                                        sp_customers_252['TDT_T_KEY_ORDER_DATE_list']))]"
   ]
  },
  {
   "cell_type": "markdown",
   "metadata": {},
   "source": [
    "As a request from business, they want as a minimum 1 order placed in the 252 days time window before SP purchasing...son we need at least that the sum osf 'MASK_252_BEF' >= 1, that means at least 1 True value"
   ]
  },
  {
   "cell_type": "code",
   "execution_count": 48,
   "metadata": {
    "ExecuteTime": {
     "end_time": "2018-11-28T13:44:31.990024Z",
     "start_time": "2018-11-28T13:44:31.967024Z"
    }
   },
   "outputs": [],
   "source": [
    "sp_customers_252['ONE_ORDER_BEFORE'] = [(sum(i) >= 1) * 1 for i in sp_customers_252['MASK_252_BEF'].values]"
   ]
  },
  {
   "cell_type": "code",
   "execution_count": 49,
   "metadata": {
    "ExecuteTime": {
     "end_time": "2018-11-28T13:44:34.202024Z",
     "start_time": "2018-11-28T13:44:34.161024Z"
    }
   },
   "outputs": [],
   "source": [
    "sp_customers_252 = sp_customers_252[sp_customers_252['ONE_ORDER_BEFORE'] == 1].copy()"
   ]
  },
  {
   "cell_type": "code",
   "execution_count": 50,
   "metadata": {
    "ExecuteTime": {
     "end_time": "2018-11-28T13:44:35.387024Z",
     "start_time": "2018-11-28T13:44:35.378024Z"
    }
   },
   "outputs": [
    {
     "data": {
      "text/plain": [
       "6618"
      ]
     },
     "execution_count": 50,
     "metadata": {},
     "output_type": "execute_result"
    }
   ],
   "source": [
    "len(sp_customers_252)"
   ]
  },
  {
   "cell_type": "code",
   "execution_count": 51,
   "metadata": {
    "ExecuteTime": {
     "end_time": "2018-11-28T13:44:36.419024Z",
     "start_time": "2018-11-28T13:44:36.264024Z"
    }
   },
   "outputs": [],
   "source": [
    "sp_customers_252['SALES_252_BEF'] = [np.round(sum(list(compress(i, j))), 2) for i, j in list(zip(sp_customers_252['SCM_SALES_BMF_list'], \n",
    "                                                                        sp_customers_252['MASK_252_BEF']))]"
   ]
  },
  {
   "cell_type": "code",
   "execution_count": 52,
   "metadata": {
    "ExecuteTime": {
     "end_time": "2018-11-28T13:44:37.742024Z",
     "start_time": "2018-11-28T13:44:37.652024Z"
    }
   },
   "outputs": [],
   "source": [
    "sp_customers_252['SALES_252_AFT'] = [np.round(sum(list(compress(i, j))), 2) for i, j in list(zip(sp_customers_252['SCM_SALES_BMF_list'], \n",
    "                                                                        sp_customers_252['MASK_252_AFT']))]"
   ]
  },
  {
   "cell_type": "code",
   "execution_count": 53,
   "metadata": {
    "ExecuteTime": {
     "end_time": "2018-11-28T13:44:39.327024Z",
     "start_time": "2018-11-28T13:44:39.188024Z"
    }
   },
   "outputs": [],
   "source": [
    "sp_customers_252['AOV_252_BEF'] = [np.round(np.mean(list(compress(i, j))), 2) for i, j in list(zip(sp_customers_252['SCM_SALES_BMF_list'], \n",
    "                                                                        sp_customers_252['MASK_252_BEF']))]"
   ]
  },
  {
   "cell_type": "code",
   "execution_count": 54,
   "metadata": {
    "ExecuteTime": {
     "end_time": "2018-11-28T13:44:40.588024Z",
     "start_time": "2018-11-28T13:44:40.458024Z"
    }
   },
   "outputs": [],
   "source": [
    "sp_customers_252['AOV_252_AFT'] = [np.round(np.mean(list(compress(i, j))), 2) for i, j in list(zip(sp_customers_252['SCM_SALES_BMF_list'], \n",
    "                                                                        sp_customers_252['MASK_252_AFT']))]"
   ]
  },
  {
   "cell_type": "code",
   "execution_count": 55,
   "metadata": {
    "ExecuteTime": {
     "end_time": "2018-11-28T13:44:41.746024Z",
     "start_time": "2018-11-28T13:44:41.724024Z"
    }
   },
   "outputs": [],
   "source": [
    "sp_customers_252['OF_252_BEF'] = [len(list(compress(i, j))) for i, j in list(zip(sp_customers_252['SCM_SALES_BMF_list'], \n",
    "                                                                        sp_customers_252['MASK_252_BEF']))]"
   ]
  },
  {
   "cell_type": "code",
   "execution_count": 56,
   "metadata": {
    "ExecuteTime": {
     "end_time": "2018-11-28T13:44:42.714024Z",
     "start_time": "2018-11-28T13:44:42.682024Z"
    }
   },
   "outputs": [],
   "source": [
    "sp_customers_252['OF_252_AFT'] = [len(list(compress(i, j))) for i, j in list(zip(sp_customers_252['SCM_SALES_BMF_list'], \n",
    "                                                                        sp_customers_252['MASK_252_AFT']))]"
   ]
  },
  {
   "cell_type": "code",
   "execution_count": 57,
   "metadata": {
    "ExecuteTime": {
     "end_time": "2018-11-28T13:44:43.500024Z",
     "start_time": "2018-11-28T13:44:43.460024Z"
    }
   },
   "outputs": [],
   "source": [
    "sp_customers_252['CM1_252_BEF'] = [list(compress(i, j)) for i, j in list(zip(sp_customers_252['SCM_D_FINANCE_CM1_list'], \n",
    "                                                                        sp_customers_252['MASK_252_BEF']))]"
   ]
  },
  {
   "cell_type": "code",
   "execution_count": 58,
   "metadata": {
    "ExecuteTime": {
     "end_time": "2018-11-28T13:44:44.126024Z",
     "start_time": "2018-11-28T13:44:44.110024Z"
    }
   },
   "outputs": [],
   "source": [
    "sp_customers_252['CM1_252_AFT'] = [list(compress(i, j)) for i, j in list(zip(sp_customers_252['SCM_D_FINANCE_CM1_list'], \n",
    "                                                                        sp_customers_252['MASK_252_AFT']))]"
   ]
  },
  {
   "cell_type": "code",
   "execution_count": 59,
   "metadata": {
    "ExecuteTime": {
     "end_time": "2018-11-28T13:44:44.838024Z",
     "start_time": "2018-11-28T13:44:44.789024Z"
    }
   },
   "outputs": [],
   "source": [
    "sp_customers_252['CM2_252_BEF'] = [list(compress(i, j)) for i, j in list(zip(sp_customers_252['SCM_D_FINANCE_CM2_list'], \n",
    "                                                                        sp_customers_252['MASK_252_BEF']))]"
   ]
  },
  {
   "cell_type": "code",
   "execution_count": 60,
   "metadata": {
    "ExecuteTime": {
     "end_time": "2018-11-28T13:44:45.457024Z",
     "start_time": "2018-11-28T13:44:45.440024Z"
    }
   },
   "outputs": [],
   "source": [
    "sp_customers_252['CM2_252_AFT'] = [list(compress(i, j)) for i, j in list(zip(sp_customers_252['SCM_D_FINANCE_CM2_list'], \n",
    "                                                                        sp_customers_252['MASK_252_AFT']))]"
   ]
  },
  {
   "cell_type": "code",
   "execution_count": 61,
   "metadata": {
    "ExecuteTime": {
     "end_time": "2018-11-28T13:44:46.125024Z",
     "start_time": "2018-11-28T13:44:46.085024Z"
    }
   },
   "outputs": [],
   "source": [
    "sp_customers_252['NET_SALES_252_BEF'] = [list(compress(i, j)) for i, j in list(zip(sp_customers_252['SCM_D_ORIG_FINANCE_ORDER_NET_list'], \n",
    "                                                                        sp_customers_252['MASK_252_BEF']))]"
   ]
  },
  {
   "cell_type": "code",
   "execution_count": 62,
   "metadata": {
    "ExecuteTime": {
     "end_time": "2018-11-28T13:44:46.776024Z",
     "start_time": "2018-11-28T13:44:46.755024Z"
    }
   },
   "outputs": [],
   "source": [
    "sp_customers_252['NET_SALES_252_AFT'] = [list(compress(i, j)) for i, j in list(zip(sp_customers_252['SCM_D_ORIG_FINANCE_ORDER_NET_list'], \n",
    "                                                                        sp_customers_252['MASK_252_AFT']))]"
   ]
  },
  {
   "cell_type": "code",
   "execution_count": 63,
   "metadata": {
    "ExecuteTime": {
     "end_time": "2018-11-28T13:44:47.488024Z",
     "start_time": "2018-11-28T13:44:47.417024Z"
    }
   },
   "outputs": [],
   "source": [
    "sp_customers_252['CM1%_252_BEF'] = [np.round(sum(x) / sum(y) * 100, 2) if sum(y) != 0 else 0 \n",
    "                                    for x, y in list(zip(sp_customers_252['CM1_252_BEF'], \n",
    "                                                        sp_customers_252['NET_SALES_252_BEF']))]"
   ]
  },
  {
   "cell_type": "code",
   "execution_count": 64,
   "metadata": {
    "ExecuteTime": {
     "end_time": "2018-11-28T13:44:48.198024Z",
     "start_time": "2018-11-28T13:44:48.129024Z"
    }
   },
   "outputs": [],
   "source": [
    "sp_customers_252['CM1%_252_AFT'] = [np.round(sum(x) / sum(y) * 100, 2) if sum(y) != 0 else 0 \n",
    "                                    for x, y in list(zip(sp_customers_252['CM1_252_AFT'], \n",
    "                                                        sp_customers_252['NET_SALES_252_AFT']))]"
   ]
  },
  {
   "cell_type": "code",
   "execution_count": 65,
   "metadata": {
    "ExecuteTime": {
     "end_time": "2018-11-28T13:44:48.903024Z",
     "start_time": "2018-11-28T13:44:48.831024Z"
    }
   },
   "outputs": [],
   "source": [
    "sp_customers_252['CM2%_252_BEF'] = [np.round(sum(x) / sum(y) * 100, 2) if sum(y) != 0 else 0 \n",
    "                                    for x, y in list(zip(sp_customers_252['CM2_252_BEF'], \n",
    "                                                        sp_customers_252['NET_SALES_252_BEF']))]"
   ]
  },
  {
   "cell_type": "code",
   "execution_count": 66,
   "metadata": {
    "ExecuteTime": {
     "end_time": "2018-11-28T13:44:49.658024Z",
     "start_time": "2018-11-28T13:44:49.580024Z"
    }
   },
   "outputs": [],
   "source": [
    "sp_customers_252['CM2%_252_AFT'] = [np.round(sum(x) / sum(y) * 100, 2) if sum(y) != 0 else 0 \n",
    "                                    for x, y in list(zip(sp_customers_252['CM2_252_AFT'], \n",
    "                                                        sp_customers_252['NET_SALES_252_AFT']))]"
   ]
  },
  {
   "cell_type": "code",
   "execution_count": 67,
   "metadata": {
    "ExecuteTime": {
     "end_time": "2018-11-28T13:44:50.461024Z",
     "start_time": "2018-11-28T13:44:50.440024Z"
    }
   },
   "outputs": [],
   "source": [
    "sp_customers_252['PG3_252_BEF_AGGSALES'] = [list(compress(i, j)) for i, j in list(zip(sp_customers_252['PG3_AGGSALES'], \n",
    "                                                                               sp_customers_252['MASK_252_BEF']))]"
   ]
  },
  {
   "cell_type": "code",
   "execution_count": 68,
   "metadata": {
    "ExecuteTime": {
     "end_time": "2018-11-28T13:44:51.256024Z",
     "start_time": "2018-11-28T13:44:51.235024Z"
    }
   },
   "outputs": [],
   "source": [
    "sp_customers_252['PG3_252_AFT_AGGSALES'] = [list(compress(i, j)) for i, j in list(zip(sp_customers_252['PG3_AGGSALES'], \n",
    "                                                                               sp_customers_252['MASK_252_AFT']))]"
   ]
  },
  {
   "cell_type": "code",
   "execution_count": 69,
   "metadata": {
    "ExecuteTime": {
     "end_time": "2018-11-28T13:44:52.026024Z",
     "start_time": "2018-11-28T13:44:52.000024Z"
    }
   },
   "outputs": [],
   "source": [
    "sp_customers_252['PG3_252_BEF_FLAT_SALES'] = [[k for j in i for k in j] for i in sp_customers_252['PG3_252_BEF_AGGSALES']]"
   ]
  },
  {
   "cell_type": "code",
   "execution_count": 70,
   "metadata": {
    "ExecuteTime": {
     "end_time": "2018-11-28T13:44:52.836024Z",
     "start_time": "2018-11-28T13:44:52.811024Z"
    }
   },
   "outputs": [],
   "source": [
    "sp_customers_252['PG3_252_AFT_FLAT_SALES'] = [[k for j in i for k in j] for i in sp_customers_252['PG3_252_AFT_AGGSALES']]"
   ]
  },
  {
   "cell_type": "code",
   "execution_count": 71,
   "metadata": {
    "ExecuteTime": {
     "end_time": "2018-11-28T13:44:53.916024Z",
     "start_time": "2018-11-28T13:44:53.675024Z"
    }
   },
   "outputs": [],
   "source": [
    "sp_customers_252['PG3_TOTAL_SALES_252_BEF'] = [sorted([(pg3, np.round(sum([sales_ for pg_3_, sales_ in i if pg3==pg_3_\n",
    "                                                        ]), 3)) \n",
    "                                        for pg3 in set([pg_3 for pg_3, sales in i])], key= lambda x: x[1], reverse=True) \n",
    "                                        for i in sp_customers_252['PG3_252_BEF_FLAT_SALES']]"
   ]
  },
  {
   "cell_type": "code",
   "execution_count": 72,
   "metadata": {
    "ExecuteTime": {
     "end_time": "2018-11-28T13:44:55.081024Z",
     "start_time": "2018-11-28T13:44:54.751024Z"
    }
   },
   "outputs": [],
   "source": [
    "sp_customers_252['PG3_TOTAL_SALES_252_AFT'] = [sorted([(pg3, np.round(sum([sales_ for pg_3_, sales_ in i if pg3==pg_3_\n",
    "                                                        ]), 3)) \n",
    "                                        for pg3 in set([pg_3 for pg_3, sales in i])], key= lambda x: x[1], reverse=True) \n",
    "                                        for i in sp_customers_252['PG3_252_AFT_FLAT_SALES']]"
   ]
  },
  {
   "cell_type": "code",
   "execution_count": 73,
   "metadata": {
    "ExecuteTime": {
     "end_time": "2018-11-28T13:44:55.948024Z",
     "start_time": "2018-11-28T13:44:55.934024Z"
    }
   },
   "outputs": [],
   "source": [
    "sp_customers_252['DICT_PG3_SALES_252_BEF'] = [{j[0]: j[1] for j in i if j[0] != 0} \n",
    "                                               for i in sp_customers_252['PG3_TOTAL_SALES_252_BEF'].values]"
   ]
  },
  {
   "cell_type": "code",
   "execution_count": 74,
   "metadata": {
    "ExecuteTime": {
     "end_time": "2018-11-28T13:44:56.841024Z",
     "start_time": "2018-11-28T13:44:56.820024Z"
    }
   },
   "outputs": [],
   "source": [
    "sp_customers_252['DICT_PG3_SALES_252_AFT'] = [{j[0]: j[1] for j in i if j[0] != 0} \n",
    "                                               for i in sp_customers_252['PG3_TOTAL_SALES_252_AFT'].values]"
   ]
  },
  {
   "cell_type": "code",
   "execution_count": 75,
   "metadata": {
    "ExecuteTime": {
     "end_time": "2018-11-28T13:44:57.909024Z",
     "start_time": "2018-11-28T13:44:57.720024Z"
    }
   },
   "outputs": [],
   "source": [
    "sp_customers_252['DICT_PG3_SHARE_252_BEF'] = [{a: np.round(b/sum(i.values())*100, 2) \n",
    "                                               for a, b in list(zip(i.keys(), i.values()))}\n",
    "                                               for i in sp_customers_252['DICT_PG3_SALES_252_BEF'].values]"
   ]
  },
  {
   "cell_type": "code",
   "execution_count": 76,
   "metadata": {
    "ExecuteTime": {
     "end_time": "2018-11-28T13:44:59.048024Z",
     "start_time": "2018-11-28T13:44:58.784024Z"
    }
   },
   "outputs": [],
   "source": [
    "sp_customers_252['DICT_PG3_SHARE_252_AFT'] = [{a: np.round(b/sum(i.values())*100, 2) \n",
    "                                               for a, b in list(zip(i.keys(), i.values()))}\n",
    "                                               for i in sp_customers_252['DICT_PG3_SALES_252_AFT'].values]"
   ]
  },
  {
   "cell_type": "code",
   "execution_count": 77,
   "metadata": {
    "ExecuteTime": {
     "end_time": "2018-11-28T13:44:59.936024Z",
     "start_time": "2018-11-28T13:44:59.928024Z"
    }
   },
   "outputs": [],
   "source": [
    "sp_customers_252['DIFF_PG3_252_BEF'] = [len(i.keys()) for i in sp_customers_252['DICT_PG3_SHARE_252_BEF']]"
   ]
  },
  {
   "cell_type": "code",
   "execution_count": 78,
   "metadata": {
    "ExecuteTime": {
     "end_time": "2018-11-28T13:45:00.806024Z",
     "start_time": "2018-11-28T13:45:00.800024Z"
    }
   },
   "outputs": [],
   "source": [
    "sp_customers_252['DIFF_PG3_252_AFT'] = [len(i.keys()) for i in sp_customers_252['DICT_PG3_SHARE_252_AFT']]"
   ]
  },
  {
   "cell_type": "markdown",
   "metadata": {},
   "source": [
    "#### Total Sales"
   ]
  },
  {
   "cell_type": "code",
   "execution_count": 79,
   "metadata": {
    "ExecuteTime": {
     "end_time": "2018-11-28T13:45:04.350024Z",
     "start_time": "2018-11-28T13:45:03.285024Z"
    }
   },
   "outputs": [
    {
     "data": {
      "image/png": "[encoded data removed]",
      "text/plain": [
       "<matplotlib.figure.Figure at 0xd4f86d8>"
      ]
     },
     "metadata": {},
     "output_type": "display_data"
    },
    {
     "data": {
      "text/html": [
       "<div>\n",
       "<style scoped>\n",
       "    .dataframe tbody tr th:only-of-type {\n",
       "        vertical-align: middle;\n",
       "    }\n",
       "\n",
       "    .dataframe tbody tr th {\n",
       "        vertical-align: top;\n",
       "    }\n",
       "\n",
       "    .dataframe thead th {\n",
       "        text-align: right;\n",
       "    }\n",
       "</style>\n",
       "<table border=\"1\" class=\"dataframe\">\n",
       "  <thead>\n",
       "    <tr style=\"text-align: right;\">\n",
       "      <th></th>\n",
       "      <th>252 days before</th>\n",
       "      <th>252 days after</th>\n",
       "    </tr>\n",
       "  </thead>\n",
       "  <tbody>\n",
       "    <tr>\n",
       "      <th>count</th>\n",
       "      <td>6618.00</td>\n",
       "      <td>6618.00</td>\n",
       "    </tr>\n",
       "    <tr>\n",
       "      <th>mean</th>\n",
       "      <td>196.61</td>\n",
       "      <td>292.05</td>\n",
       "    </tr>\n",
       "    <tr>\n",
       "      <th>std</th>\n",
       "      <td>192.49</td>\n",
       "      <td>257.13</td>\n",
       "    </tr>\n",
       "    <tr>\n",
       "      <th>min</th>\n",
       "      <td>2.99</td>\n",
       "      <td>-5.42</td>\n",
       "    </tr>\n",
       "    <tr>\n",
       "      <th>25%</th>\n",
       "      <td>74.99</td>\n",
       "      <td>132.40</td>\n",
       "    </tr>\n",
       "    <tr>\n",
       "      <th>50%</th>\n",
       "      <td>135.96</td>\n",
       "      <td>224.88</td>\n",
       "    </tr>\n",
       "    <tr>\n",
       "      <th>75%</th>\n",
       "      <td>251.94</td>\n",
       "      <td>370.82</td>\n",
       "    </tr>\n",
       "    <tr>\n",
       "      <th>max</th>\n",
       "      <td>3205.61</td>\n",
       "      <td>4548.25</td>\n",
       "    </tr>\n",
       "  </tbody>\n",
       "</table>\n",
       "</div>"
      ],
      "text/plain": [
       "       252 days before  252 days after\n",
       "count          6618.00         6618.00\n",
       "mean            196.61          292.05\n",
       "std             192.49          257.13\n",
       "min               2.99           -5.42\n",
       "25%              74.99          132.40\n",
       "50%             135.96          224.88\n",
       "75%             251.94          370.82\n",
       "max            3205.61         4548.25"
      ]
     },
     "metadata": {},
     "output_type": "display_data"
    }
   ],
   "source": [
    "concat_df = pd.DataFrame()\n",
    "\n",
    "sns.set()\n",
    "plt.figure(figsize=(12,8))\n",
    "plt.title('Histograms showing total sales per customer in 252 days before/after SP purchasing', fontsize=14)\n",
    "plt.ylabel('Customers')\n",
    "plt.xlabel('Sales')\n",
    "\n",
    "sp_customers_252['SALES_252_BEF'].hist(bins=100, range=(0, 1000), alpha=0.5)\n",
    "sp_customers_252['SALES_252_AFT'].hist(bins=100, range=(0, 1000), alpha=0.5)\n",
    "plt.legend(['252 days before', '252 days after'])\n",
    "concat_df = pd.concat([concat_df,\n",
    "                    pd.DataFrame(sp_customers_252['SALES_252_BEF'].describe().round(2)),\n",
    "                    pd.DataFrame(sp_customers_252['SALES_252_AFT'].describe().round(2)),\n",
    "                        ], axis=1)\n",
    "plt.show() \n",
    "\n",
    "concat_df.columns = ['252 days before', '252 days after']\n",
    "display(concat_df)"
   ]
  },
  {
   "cell_type": "markdown",
   "metadata": {},
   "source": [
    "#### AOV"
   ]
  },
  {
   "cell_type": "code",
   "execution_count": 82,
   "metadata": {
    "ExecuteTime": {
     "end_time": "2018-11-28T13:45:37.631024Z",
     "start_time": "2018-11-28T13:45:37.313024Z"
    }
   },
   "outputs": [
    {
     "data": {
      "image/png": "[encoded data removed]",
      "text/plain": [
       "<matplotlib.figure.Figure at 0xe9b4f60>"
      ]
     },
     "metadata": {},
     "output_type": "display_data"
    },
    {
     "data": {
      "text/html": [
       "<div>\n",
       "<style scoped>\n",
       "    .dataframe tbody tr th:only-of-type {\n",
       "        vertical-align: middle;\n",
       "    }\n",
       "\n",
       "    .dataframe tbody tr th {\n",
       "        vertical-align: top;\n",
       "    }\n",
       "\n",
       "    .dataframe thead th {\n",
       "        text-align: right;\n",
       "    }\n",
       "</style>\n",
       "<table border=\"1\" class=\"dataframe\">\n",
       "  <thead>\n",
       "    <tr style=\"text-align: right;\">\n",
       "      <th></th>\n",
       "      <th>252 days before</th>\n",
       "      <th>252 days after</th>\n",
       "    </tr>\n",
       "  </thead>\n",
       "  <tbody>\n",
       "    <tr>\n",
       "      <th>count</th>\n",
       "      <td>6618.00</td>\n",
       "      <td>6618.00</td>\n",
       "    </tr>\n",
       "    <tr>\n",
       "      <th>mean</th>\n",
       "      <td>64.77</td>\n",
       "      <td>63.20</td>\n",
       "    </tr>\n",
       "    <tr>\n",
       "      <th>std</th>\n",
       "      <td>32.97</td>\n",
       "      <td>28.95</td>\n",
       "    </tr>\n",
       "    <tr>\n",
       "      <th>min</th>\n",
       "      <td>2.99</td>\n",
       "      <td>-5.42</td>\n",
       "    </tr>\n",
       "    <tr>\n",
       "      <th>25%</th>\n",
       "      <td>44.00</td>\n",
       "      <td>44.70</td>\n",
       "    </tr>\n",
       "    <tr>\n",
       "      <th>50%</th>\n",
       "      <td>56.03</td>\n",
       "      <td>56.72</td>\n",
       "    </tr>\n",
       "    <tr>\n",
       "      <th>75%</th>\n",
       "      <td>76.98</td>\n",
       "      <td>74.26</td>\n",
       "    </tr>\n",
       "    <tr>\n",
       "      <th>max</th>\n",
       "      <td>391.96</td>\n",
       "      <td>317.35</td>\n",
       "    </tr>\n",
       "  </tbody>\n",
       "</table>\n",
       "</div>"
      ],
      "text/plain": [
       "       252 days before  252 days after\n",
       "count          6618.00         6618.00\n",
       "mean             64.77           63.20\n",
       "std              32.97           28.95\n",
       "min               2.99           -5.42\n",
       "25%              44.00           44.70\n",
       "50%              56.03           56.72\n",
       "75%              76.98           74.26\n",
       "max             391.96          317.35"
      ]
     },
     "metadata": {},
     "output_type": "display_data"
    }
   ],
   "source": [
    "concat_df = pd.DataFrame()\n",
    "\n",
    "sns.set()\n",
    "plt.figure(figsize=(12,8))\n",
    "plt.title('Histograms showing AOV per customer in 252 days before/after SP purchasing', fontsize=14)\n",
    "plt.ylabel('Customers')\n",
    "plt.xlabel('AOV')\n",
    "\n",
    "sp_customers_252['AOV_252_BEF'].hist(bins=50, range=(0, 250), alpha=0.5)\n",
    "sp_customers_252['AOV_252_AFT'].hist(bins=50, range=(0, 250), alpha=0.5)\n",
    "plt.legend(['252 days before', '252 days after'])\n",
    "concat_df = pd.concat([concat_df,\n",
    "                    pd.DataFrame(sp_customers_252['AOV_252_BEF'].describe().round(2)),\n",
    "                    pd.DataFrame(sp_customers_252['AOV_252_AFT'].describe().round(2)),\n",
    "                        ], axis=1)\n",
    "plt.show() \n",
    "\n",
    "concat_df.columns = ['252 days before', '252 days after']\n",
    "display(concat_df)"
   ]
  },
  {
   "cell_type": "markdown",
   "metadata": {},
   "source": [
    "#### Order Frequency"
   ]
  },
  {
   "cell_type": "code",
   "execution_count": 83,
   "metadata": {
    "ExecuteTime": {
     "end_time": "2018-11-28T13:45:53.818024Z",
     "start_time": "2018-11-28T13:45:53.531024Z"
    }
   },
   "outputs": [
    {
     "data": {
      "image/png": "[encoded data removed]",
      "text/plain": [
       "<matplotlib.figure.Figure at 0xea95d30>"
      ]
     },
     "metadata": {},
     "output_type": "display_data"
    },
    {
     "data": {
      "text/html": [
       "<div>\n",
       "<style scoped>\n",
       "    .dataframe tbody tr th:only-of-type {\n",
       "        vertical-align: middle;\n",
       "    }\n",
       "\n",
       "    .dataframe tbody tr th {\n",
       "        vertical-align: top;\n",
       "    }\n",
       "\n",
       "    .dataframe thead th {\n",
       "        text-align: right;\n",
       "    }\n",
       "</style>\n",
       "<table border=\"1\" class=\"dataframe\">\n",
       "  <thead>\n",
       "    <tr style=\"text-align: right;\">\n",
       "      <th></th>\n",
       "      <th>252 days before</th>\n",
       "      <th>252 days after</th>\n",
       "    </tr>\n",
       "  </thead>\n",
       "  <tbody>\n",
       "    <tr>\n",
       "      <th>count</th>\n",
       "      <td>6618.00</td>\n",
       "      <td>6618.00</td>\n",
       "    </tr>\n",
       "    <tr>\n",
       "      <th>mean</th>\n",
       "      <td>3.04</td>\n",
       "      <td>4.59</td>\n",
       "    </tr>\n",
       "    <tr>\n",
       "      <th>std</th>\n",
       "      <td>2.38</td>\n",
       "      <td>3.14</td>\n",
       "    </tr>\n",
       "    <tr>\n",
       "      <th>min</th>\n",
       "      <td>1.00</td>\n",
       "      <td>1.00</td>\n",
       "    </tr>\n",
       "    <tr>\n",
       "      <th>25%</th>\n",
       "      <td>1.00</td>\n",
       "      <td>2.00</td>\n",
       "    </tr>\n",
       "    <tr>\n",
       "      <th>50%</th>\n",
       "      <td>2.00</td>\n",
       "      <td>4.00</td>\n",
       "    </tr>\n",
       "    <tr>\n",
       "      <th>75%</th>\n",
       "      <td>4.00</td>\n",
       "      <td>6.00</td>\n",
       "    </tr>\n",
       "    <tr>\n",
       "      <th>max</th>\n",
       "      <td>24.00</td>\n",
       "      <td>53.00</td>\n",
       "    </tr>\n",
       "  </tbody>\n",
       "</table>\n",
       "</div>"
      ],
      "text/plain": [
       "       252 days before  252 days after\n",
       "count          6618.00         6618.00\n",
       "mean              3.04            4.59\n",
       "std               2.38            3.14\n",
       "min               1.00            1.00\n",
       "25%               1.00            2.00\n",
       "50%               2.00            4.00\n",
       "75%               4.00            6.00\n",
       "max              24.00           53.00"
      ]
     },
     "metadata": {},
     "output_type": "display_data"
    }
   ],
   "source": [
    "concat_df = pd.DataFrame()\n",
    "\n",
    "sns.set()\n",
    "plt.figure(figsize=(12,8))\n",
    "plt.title('Histograms showing order frequency per customer in 252 days before/after SP purchasing', fontsize=14)\n",
    "plt.ylabel('Customers')\n",
    "plt.xlabel('AOV')\n",
    "\n",
    "sp_customers_252['OF_252_BEF'].hist(bins=20, range=(0, 20), alpha=0.5)\n",
    "sp_customers_252['OF_252_AFT'].hist(bins=20, range=(0, 20), alpha=0.5)\n",
    "plt.legend(['252 days before', '252 days after'])\n",
    "concat_df = pd.concat([concat_df,\n",
    "                    pd.DataFrame(sp_customers_252['OF_252_BEF'].describe().round(2)),\n",
    "                    pd.DataFrame(sp_customers_252['OF_252_AFT'].describe().round(2)),\n",
    "                        ], axis=1)\n",
    "plt.show() \n",
    "\n",
    "concat_df.columns = ['252 days before', '252 days after']\n",
    "display(concat_df)"
   ]
  },
  {
   "cell_type": "markdown",
   "metadata": {},
   "source": [
    "#### CM1% & CM2%"
   ]
  },
  {
   "cell_type": "code",
   "execution_count": 84,
   "metadata": {
    "ExecuteTime": {
     "end_time": "2018-11-28T13:46:01.648024Z",
     "start_time": "2018-11-28T13:46:01.156024Z"
    }
   },
   "outputs": [
    {
     "data": {
      "image/png": "[encoded data removed]",
      "text/plain": [
       "<matplotlib.figure.Figure at 0xead9470>"
      ]
     },
     "metadata": {},
     "output_type": "display_data"
    },
    {
     "data": {
      "text/html": [
       "<div>\n",
       "<style scoped>\n",
       "    .dataframe tbody tr th:only-of-type {\n",
       "        vertical-align: middle;\n",
       "    }\n",
       "\n",
       "    .dataframe tbody tr th {\n",
       "        vertical-align: top;\n",
       "    }\n",
       "\n",
       "    .dataframe thead th {\n",
       "        text-align: right;\n",
       "    }\n",
       "</style>\n",
       "<table border=\"1\" class=\"dataframe\">\n",
       "  <thead>\n",
       "    <tr style=\"text-align: right;\">\n",
       "      <th></th>\n",
       "      <th>252 days before</th>\n",
       "      <th>252 days after</th>\n",
       "    </tr>\n",
       "  </thead>\n",
       "  <tbody>\n",
       "    <tr>\n",
       "      <th>count</th>\n",
       "      <td>6618.00</td>\n",
       "      <td>6618.00</td>\n",
       "    </tr>\n",
       "    <tr>\n",
       "      <th>mean</th>\n",
       "      <td>30.55</td>\n",
       "      <td>30.41</td>\n",
       "    </tr>\n",
       "    <tr>\n",
       "      <th>std</th>\n",
       "      <td>9.33</td>\n",
       "      <td>8.59</td>\n",
       "    </tr>\n",
       "    <tr>\n",
       "      <th>min</th>\n",
       "      <td>-0.75</td>\n",
       "      <td>-13.12</td>\n",
       "    </tr>\n",
       "    <tr>\n",
       "      <th>25%</th>\n",
       "      <td>24.00</td>\n",
       "      <td>24.25</td>\n",
       "    </tr>\n",
       "    <tr>\n",
       "      <th>50%</th>\n",
       "      <td>29.37</td>\n",
       "      <td>29.48</td>\n",
       "    </tr>\n",
       "    <tr>\n",
       "      <th>75%</th>\n",
       "      <td>35.97</td>\n",
       "      <td>35.56</td>\n",
       "    </tr>\n",
       "    <tr>\n",
       "      <th>max</th>\n",
       "      <td>100.00</td>\n",
       "      <td>111.16</td>\n",
       "    </tr>\n",
       "  </tbody>\n",
       "</table>\n",
       "</div>"
      ],
      "text/plain": [
       "       252 days before  252 days after\n",
       "count          6618.00         6618.00\n",
       "mean             30.55           30.41\n",
       "std               9.33            8.59\n",
       "min              -0.75          -13.12\n",
       "25%              24.00           24.25\n",
       "50%              29.37           29.48\n",
       "75%              35.97           35.56\n",
       "max             100.00          111.16"
      ]
     },
     "metadata": {},
     "output_type": "display_data"
    }
   ],
   "source": [
    "concat_df = pd.DataFrame()\n",
    "\n",
    "sns.set()\n",
    "plt.figure(figsize=(12,8))\n",
    "plt.title('Histograms showing CM1% per SP customer in 252 days before/after SP purchasing', fontsize=14)\n",
    "plt.ylabel('Customers')\n",
    "plt.xlabel('CM1%')\n",
    "\n",
    "sp_customers_252['CM1%_252_BEF'].hist(bins=100, range=(-20, 80), alpha=0.5)\n",
    "sp_customers_252['CM1%_252_AFT'].hist(bins=100, range=(-20, 80), alpha=0.5)\n",
    "plt.legend(['252 days before', '252 days after'])\n",
    "concat_df = pd.concat([concat_df,\n",
    "                    pd.DataFrame(sp_customers_252['CM1%_252_BEF'].describe().round(2)),\n",
    "                    pd.DataFrame(sp_customers_252['CM1%_252_AFT'].describe().round(2)),\n",
    "                        ], axis=1)\n",
    "plt.show() \n",
    "\n",
    "concat_df.columns = ['252 days before', '252 days after']\n",
    "display(concat_df)"
   ]
  },
  {
   "cell_type": "code",
   "execution_count": 85,
   "metadata": {
    "ExecuteTime": {
     "end_time": "2018-11-28T13:46:12.456024Z",
     "start_time": "2018-11-28T13:46:11.970024Z"
    }
   },
   "outputs": [
    {
     "data": {
      "image/png": "[encoded data removed]",
      "text/plain": [
       "<matplotlib.figure.Figure at 0xe9b42b0>"
      ]
     },
     "metadata": {},
     "output_type": "display_data"
    },
    {
     "data": {
      "text/html": [
       "<div>\n",
       "<style scoped>\n",
       "    .dataframe tbody tr th:only-of-type {\n",
       "        vertical-align: middle;\n",
       "    }\n",
       "\n",
       "    .dataframe tbody tr th {\n",
       "        vertical-align: top;\n",
       "    }\n",
       "\n",
       "    .dataframe thead th {\n",
       "        text-align: right;\n",
       "    }\n",
       "</style>\n",
       "<table border=\"1\" class=\"dataframe\">\n",
       "  <thead>\n",
       "    <tr style=\"text-align: right;\">\n",
       "      <th></th>\n",
       "      <th>252 days before</th>\n",
       "      <th>252 days after</th>\n",
       "    </tr>\n",
       "  </thead>\n",
       "  <tbody>\n",
       "    <tr>\n",
       "      <th>count</th>\n",
       "      <td>6618.00</td>\n",
       "      <td>6618.00</td>\n",
       "    </tr>\n",
       "    <tr>\n",
       "      <th>mean</th>\n",
       "      <td>15.69</td>\n",
       "      <td>15.48</td>\n",
       "    </tr>\n",
       "    <tr>\n",
       "      <th>std</th>\n",
       "      <td>7.97</td>\n",
       "      <td>7.37</td>\n",
       "    </tr>\n",
       "    <tr>\n",
       "      <th>min</th>\n",
       "      <td>-74.80</td>\n",
       "      <td>-46.76</td>\n",
       "    </tr>\n",
       "    <tr>\n",
       "      <th>25%</th>\n",
       "      <td>10.90</td>\n",
       "      <td>10.79</td>\n",
       "    </tr>\n",
       "    <tr>\n",
       "      <th>50%</th>\n",
       "      <td>15.18</td>\n",
       "      <td>14.92</td>\n",
       "    </tr>\n",
       "    <tr>\n",
       "      <th>75%</th>\n",
       "      <td>20.05</td>\n",
       "      <td>19.84</td>\n",
       "    </tr>\n",
       "    <tr>\n",
       "      <th>max</th>\n",
       "      <td>100.00</td>\n",
       "      <td>118.08</td>\n",
       "    </tr>\n",
       "  </tbody>\n",
       "</table>\n",
       "</div>"
      ],
      "text/plain": [
       "       252 days before  252 days after\n",
       "count          6618.00         6618.00\n",
       "mean             15.69           15.48\n",
       "std               7.97            7.37\n",
       "min             -74.80          -46.76\n",
       "25%              10.90           10.79\n",
       "50%              15.18           14.92\n",
       "75%              20.05           19.84\n",
       "max             100.00          118.08"
      ]
     },
     "metadata": {},
     "output_type": "display_data"
    }
   ],
   "source": [
    "concat_df = pd.DataFrame()\n",
    "\n",
    "sns.set()\n",
    "plt.figure(figsize=(12,8))\n",
    "plt.title('Histograms showing CM2% per SP customer in 252 days before/after SP purchasing', fontsize=14)\n",
    "plt.ylabel('Customers')\n",
    "plt.xlabel('CM2%')\n",
    "\n",
    "sp_customers_252['CM2%_252_BEF'].hist(bins=100, range=(-20, 80), alpha=0.5)\n",
    "sp_customers_252['CM2%_252_AFT'].hist(bins=100, range=(-20, 80), alpha=0.5)\n",
    "plt.legend(['252 days before', '252 days after'])\n",
    "concat_df = pd.concat([concat_df,\n",
    "                    pd.DataFrame(sp_customers_252['CM2%_252_BEF'].describe().round(2)),\n",
    "                    pd.DataFrame(sp_customers_252['CM2%_252_AFT'].describe().round(2)),\n",
    "                        ], axis=1)\n",
    "plt.show() \n",
    "\n",
    "concat_df.columns = ['252 days before', '252 days after']\n",
    "display(concat_df)"
   ]
  },
  {
   "cell_type": "markdown",
   "metadata": {},
   "source": [
    "#### Number of PG3s "
   ]
  },
  {
   "cell_type": "code",
   "execution_count": 86,
   "metadata": {
    "ExecuteTime": {
     "end_time": "2018-11-28T13:46:23.852024Z",
     "start_time": "2018-11-28T13:46:23.553024Z"
    }
   },
   "outputs": [
    {
     "data": {
      "image/png": "[encoded data removed]",
      "text/plain": [
       "<matplotlib.figure.Figure at 0xe6c30f0>"
      ]
     },
     "metadata": {},
     "output_type": "display_data"
    },
    {
     "data": {
      "text/html": [
       "<div>\n",
       "<style scoped>\n",
       "    .dataframe tbody tr th:only-of-type {\n",
       "        vertical-align: middle;\n",
       "    }\n",
       "\n",
       "    .dataframe tbody tr th {\n",
       "        vertical-align: top;\n",
       "    }\n",
       "\n",
       "    .dataframe thead th {\n",
       "        text-align: right;\n",
       "    }\n",
       "</style>\n",
       "<table border=\"1\" class=\"dataframe\">\n",
       "  <thead>\n",
       "    <tr style=\"text-align: right;\">\n",
       "      <th></th>\n",
       "      <th>252 days before</th>\n",
       "      <th>252 days after</th>\n",
       "    </tr>\n",
       "  </thead>\n",
       "  <tbody>\n",
       "    <tr>\n",
       "      <th>count</th>\n",
       "      <td>6618.00</td>\n",
       "      <td>6618.00</td>\n",
       "    </tr>\n",
       "    <tr>\n",
       "      <th>mean</th>\n",
       "      <td>3.55</td>\n",
       "      <td>4.95</td>\n",
       "    </tr>\n",
       "    <tr>\n",
       "      <th>std</th>\n",
       "      <td>2.61</td>\n",
       "      <td>3.42</td>\n",
       "    </tr>\n",
       "    <tr>\n",
       "      <th>min</th>\n",
       "      <td>0.00</td>\n",
       "      <td>0.00</td>\n",
       "    </tr>\n",
       "    <tr>\n",
       "      <th>25%</th>\n",
       "      <td>2.00</td>\n",
       "      <td>2.00</td>\n",
       "    </tr>\n",
       "    <tr>\n",
       "      <th>50%</th>\n",
       "      <td>3.00</td>\n",
       "      <td>4.00</td>\n",
       "    </tr>\n",
       "    <tr>\n",
       "      <th>75%</th>\n",
       "      <td>5.00</td>\n",
       "      <td>7.00</td>\n",
       "    </tr>\n",
       "    <tr>\n",
       "      <th>max</th>\n",
       "      <td>25.00</td>\n",
       "      <td>29.00</td>\n",
       "    </tr>\n",
       "  </tbody>\n",
       "</table>\n",
       "</div>"
      ],
      "text/plain": [
       "       252 days before  252 days after\n",
       "count          6618.00         6618.00\n",
       "mean              3.55            4.95\n",
       "std               2.61            3.42\n",
       "min               0.00            0.00\n",
       "25%               2.00            2.00\n",
       "50%               3.00            4.00\n",
       "75%               5.00            7.00\n",
       "max              25.00           29.00"
      ]
     },
     "metadata": {},
     "output_type": "display_data"
    }
   ],
   "source": [
    "concat_df = pd.DataFrame()\n",
    "\n",
    "sns.set()\n",
    "plt.figure(figsize=(12,8))\n",
    "plt.title('Histograms showing different PG3 bougth per customer in 252 days before/after SP purchasing', fontsize=14)\n",
    "plt.ylabel('Customers')\n",
    "plt.xlabel('different PG3 ')\n",
    "\n",
    "sp_customers_252['DIFF_PG3_252_BEF'].hist(bins=30, range=(0, 30), alpha=0.5)\n",
    "sp_customers_252['DIFF_PG3_252_AFT'].hist(bins=30, range=(0, 30), alpha=0.5)\n",
    "plt.legend(['252 days before', '252 days after'])\n",
    "concat_df = pd.concat([concat_df,\n",
    "                    pd.DataFrame(sp_customers_252['DIFF_PG3_252_BEF'].describe().round(2)),\n",
    "                    pd.DataFrame(sp_customers_252['DIFF_PG3_252_AFT'].describe().round(2)),\n",
    "                        ], axis=1)\n",
    "plt.show() \n",
    "\n",
    "concat_df.columns = ['252 days before', '252 days after']\n",
    "display(concat_df)"
   ]
  },
  {
   "cell_type": "markdown",
   "metadata": {},
   "source": [
    "#### PG3 shares and sales in each group"
   ]
  },
  {
   "cell_type": "code",
   "execution_count": 87,
   "metadata": {
    "ExecuteTime": {
     "end_time": "2018-11-28T13:46:30.502024Z",
     "start_time": "2018-11-28T13:46:30.488024Z"
    }
   },
   "outputs": [],
   "source": [
    "no_sp_flat_pg3_sales = [j for i in sp_customers_252['PG3_252_BEF_FLAT_SALES'].values for j in i]"
   ]
  },
  {
   "cell_type": "code",
   "execution_count": 88,
   "metadata": {
    "ExecuteTime": {
     "end_time": "2018-11-28T13:46:31.864024Z",
     "start_time": "2018-11-28T13:46:31.490024Z"
    }
   },
   "outputs": [],
   "source": [
    "no_sp_pg3_sales = sorted([(pg3, np.round(sum([sales_ for pg_3_, sales_ in no_sp_flat_pg3_sales if pg3==pg_3_\n",
    "                                                        ]), 3)) \n",
    "                                for pg3 in set([pg_3 for pg_3, sales in no_sp_flat_pg3_sales])], key= lambda x: x[1], reverse=True)"
   ]
  },
  {
   "cell_type": "code",
   "execution_count": 89,
   "metadata": {
    "ExecuteTime": {
     "end_time": "2018-11-28T13:46:32.666024Z",
     "start_time": "2018-11-28T13:46:32.663024Z"
    }
   },
   "outputs": [],
   "source": [
    "no_sp_pg3_dict_sales_no_disc = {i[0]: i[1] for i in no_sp_pg3_sales if i[0] != 0}"
   ]
  },
  {
   "cell_type": "code",
   "execution_count": 90,
   "metadata": {
    "ExecuteTime": {
     "end_time": "2018-11-28T13:46:33.489024Z",
     "start_time": "2018-11-28T13:46:33.485024Z"
    }
   },
   "outputs": [],
   "source": [
    "no_sp_pg3_dict_sales_share = {a: np.round(b/sum(no_sp_pg3_dict_sales_no_disc.values())*100, 3) \n",
    "                                                     for a, b in list(zip(no_sp_pg3_dict_sales_no_disc.keys(),\n",
    "                                                                          no_sp_pg3_dict_sales_no_disc.values()))}"
   ]
  },
  {
   "cell_type": "code",
   "execution_count": 91,
   "metadata": {
    "ExecuteTime": {
     "end_time": "2018-11-28T13:46:34.270024Z",
     "start_time": "2018-11-28T13:46:34.266024Z"
    }
   },
   "outputs": [],
   "source": [
    "filter_no_sp_pg3_dict_sales_share = {x: y for x, y in list(zip(no_sp_pg3_dict_sales_share.keys(),\n",
    "                                                                no_sp_pg3_dict_sales_share.values()))\n",
    "                                            if y >= 1}"
   ]
  },
  {
   "cell_type": "code",
   "execution_count": 92,
   "metadata": {
    "ExecuteTime": {
     "end_time": "2018-11-28T13:46:35.125024Z",
     "start_time": "2018-11-28T13:46:35.121024Z"
    }
   },
   "outputs": [
    {
     "data": {
      "text/plain": [
       "91.836"
      ]
     },
     "execution_count": 92,
     "metadata": {},
     "output_type": "execute_result"
    }
   ],
   "source": [
    "sum(filter_no_sp_pg3_dict_sales_share.values())"
   ]
  },
  {
   "cell_type": "code",
   "execution_count": 93,
   "metadata": {
    "ExecuteTime": {
     "end_time": "2018-11-28T13:46:35.959024Z",
     "start_time": "2018-11-28T13:46:35.950024Z"
    }
   },
   "outputs": [],
   "source": [
    "sp_flat_pg3_sales = [j for i in sp_customers_252['PG3_252_AFT_FLAT_SALES'].values for j in i]"
   ]
  },
  {
   "cell_type": "code",
   "execution_count": 94,
   "metadata": {
    "ExecuteTime": {
     "end_time": "2018-11-28T13:46:37.485024Z",
     "start_time": "2018-11-28T13:46:36.789024Z"
    }
   },
   "outputs": [],
   "source": [
    "sp_pg3_sales = sorted([(pg3, np.round(sum([sales_ for pg_3_, sales_ in sp_flat_pg3_sales if pg3==pg_3_\n",
    "                                                        ]), 3)) \n",
    "                                for pg3 in set([pg_3 for pg_3, sales in sp_flat_pg3_sales])], key= lambda x: x[1], reverse=True)"
   ]
  },
  {
   "cell_type": "code",
   "execution_count": 95,
   "metadata": {
    "ExecuteTime": {
     "end_time": "2018-11-28T13:46:38.332024Z",
     "start_time": "2018-11-28T13:46:38.329024Z"
    }
   },
   "outputs": [],
   "source": [
    "sp_pg3_dict_sales_no_disc = {i[0]: i[1] for i in sp_pg3_sales if i[0] != 0}"
   ]
  },
  {
   "cell_type": "code",
   "execution_count": 96,
   "metadata": {
    "ExecuteTime": {
     "end_time": "2018-11-28T13:46:39.218024Z",
     "start_time": "2018-11-28T13:46:39.213024Z"
    }
   },
   "outputs": [],
   "source": [
    "sp_pg3_dict_sales_share = {a: np.round(b/sum(sp_pg3_dict_sales_no_disc.values())*100, 3) \n",
    "                                                     for a, b in list(zip(sp_pg3_dict_sales_no_disc.keys(),\n",
    "                                                                          sp_pg3_dict_sales_no_disc.values()))}"
   ]
  },
  {
   "cell_type": "code",
   "execution_count": 97,
   "metadata": {
    "ExecuteTime": {
     "end_time": "2018-11-28T13:46:40.042024Z",
     "start_time": "2018-11-28T13:46:40.038024Z"
    }
   },
   "outputs": [],
   "source": [
    "filter_sp_pg3_dict_sales_share = {x: y for x, y in list(zip(sp_pg3_dict_sales_share.keys(),\n",
    "                                                                    sp_pg3_dict_sales_share.values()))\n",
    "                                            if y >= 1}"
   ]
  },
  {
   "cell_type": "code",
   "execution_count": 98,
   "metadata": {
    "ExecuteTime": {
     "end_time": "2018-11-28T13:46:40.951024Z",
     "start_time": "2018-11-28T13:46:40.947024Z"
    }
   },
   "outputs": [
    {
     "data": {
      "text/plain": [
       "91.06499999999998"
      ]
     },
     "execution_count": 98,
     "metadata": {},
     "output_type": "execute_result"
    }
   ],
   "source": [
    "sum(filter_sp_pg3_dict_sales_share.values())"
   ]
  },
  {
   "cell_type": "code",
   "execution_count": 99,
   "metadata": {
    "ExecuteTime": {
     "end_time": "2018-11-28T13:46:41.771024Z",
     "start_time": "2018-11-28T13:46:41.763024Z"
    }
   },
   "outputs": [],
   "source": [
    "no_sp_cus_pg3_share_df = pd.DataFrame.from_dict(filter_no_sp_pg3_dict_sales_share, orient='index')\n",
    "sp_cus_pg3_share_df = pd.DataFrame.from_dict(filter_sp_pg3_dict_sales_share, orient='index')"
   ]
  },
  {
   "cell_type": "code",
   "execution_count": 100,
   "metadata": {
    "ExecuteTime": {
     "end_time": "2018-11-28T13:46:42.641024Z",
     "start_time": "2018-11-28T13:46:42.629024Z"
    }
   },
   "outputs": [],
   "source": [
    "pg3_share_comparison = pd.concat([no_sp_cus_pg3_share_df,sp_cus_pg3_share_df], axis=1).fillna(0)\n",
    "pg3_share_comparison.columns = ['NO_SP_ORD', 'SP_ORD']\n",
    "pg3_share_comparison['PG3'] = pg3_share_comparison.index.values\n",
    "#pg3_share_comparison['PG3'] = pg3_share_comparison['PG3'].astype(str)\n",
    "pg3_share_comparison = pg3_share_comparison[['PG3', 'NO_SP_ORD', 'SP_ORD']]"
   ]
  },
  {
   "cell_type": "code",
   "execution_count": 101,
   "metadata": {
    "ExecuteTime": {
     "end_time": "2018-11-28T13:46:43.502024Z",
     "start_time": "2018-11-28T13:46:43.499024Z"
    }
   },
   "outputs": [],
   "source": [
    "pg3_l = list(pg3_share_comparison['PG3'].values)"
   ]
  },
  {
   "cell_type": "code",
   "execution_count": 102,
   "metadata": {
    "ExecuteTime": {
     "end_time": "2018-11-28T13:46:44.327024Z",
     "start_time": "2018-11-28T13:46:44.324024Z"
    }
   },
   "outputs": [],
   "source": [
    "pg3_list = repr(pg3_l).replace('[','(').replace(']',')')"
   ]
  },
  {
   "cell_type": "code",
   "execution_count": 103,
   "metadata": {
    "ExecuteTime": {
     "end_time": "2018-11-28T13:46:45.198024Z",
     "start_time": "2018-11-28T13:46:45.195024Z"
    }
   },
   "outputs": [],
   "source": [
    "query = \"\"\"select pg_id, pg_shortlink from ZOOMAN.PRODUCT_GROUPS\n",
    "where pg_id in %s\"\"\" % pg3_list"
   ]
  },
  {
   "cell_type": "code",
   "execution_count": 104,
   "metadata": {
    "ExecuteTime": {
     "end_time": "2018-11-28T13:46:47.751024Z",
     "start_time": "2018-11-28T13:46:46.278024Z"
    }
   },
   "outputs": [],
   "source": [
    "conn = cx_Oracle.connect('zooor', 'zoo12or', 'zoorep', threaded=True, encoding = \"UTF-8\", nencoding = \"UTF-8\")\n",
    "pg3 = pd.read_sql(query, con = conn)\n",
    "conn.close()"
   ]
  },
  {
   "cell_type": "code",
   "execution_count": 105,
   "metadata": {
    "ExecuteTime": {
     "end_time": "2018-11-28T13:46:48.633024Z",
     "start_time": "2018-11-28T13:46:48.625024Z"
    }
   },
   "outputs": [
    {
     "data": {
      "text/html": [
       "<div>\n",
       "<style scoped>\n",
       "    .dataframe tbody tr th:only-of-type {\n",
       "        vertical-align: middle;\n",
       "    }\n",
       "\n",
       "    .dataframe tbody tr th {\n",
       "        vertical-align: top;\n",
       "    }\n",
       "\n",
       "    .dataframe thead th {\n",
       "        text-align: right;\n",
       "    }\n",
       "</style>\n",
       "<table border=\"1\" class=\"dataframe\">\n",
       "  <thead>\n",
       "    <tr style=\"text-align: right;\">\n",
       "      <th></th>\n",
       "      <th>PG_ID</th>\n",
       "      <th>PG_SHORTLINK</th>\n",
       "    </tr>\n",
       "  </thead>\n",
       "  <tbody>\n",
       "    <tr>\n",
       "      <th>0</th>\n",
       "      <td>9</td>\n",
       "      <td>hundebett</td>\n",
       "    </tr>\n",
       "    <tr>\n",
       "      <th>1</th>\n",
       "      <td>15</td>\n",
       "      <td>hundeleine_hundehalsband</td>\n",
       "    </tr>\n",
       "    <tr>\n",
       "      <th>2</th>\n",
       "      <td>18</td>\n",
       "      <td>hundesnacks</td>\n",
       "    </tr>\n",
       "    <tr>\n",
       "      <th>3</th>\n",
       "      <td>20</td>\n",
       "      <td>hundespielzeug</td>\n",
       "    </tr>\n",
       "    <tr>\n",
       "      <th>4</th>\n",
       "      <td>23</td>\n",
       "      <td>kratzbaum_katzenbaum</td>\n",
       "    </tr>\n",
       "    <tr>\n",
       "      <th>5</th>\n",
       "      <td>29</td>\n",
       "      <td>katzentoilette</td>\n",
       "    </tr>\n",
       "    <tr>\n",
       "      <th>6</th>\n",
       "      <td>33</td>\n",
       "      <td>fressnapf</td>\n",
       "    </tr>\n",
       "    <tr>\n",
       "      <th>7</th>\n",
       "      <td>34</td>\n",
       "      <td>katzensnacks</td>\n",
       "    </tr>\n",
       "    <tr>\n",
       "      <th>8</th>\n",
       "      <td>36</td>\n",
       "      <td>katzenspielzeug</td>\n",
       "    </tr>\n",
       "    <tr>\n",
       "      <th>9</th>\n",
       "      <td>251</td>\n",
       "      <td>hundefutter_trockenfutter</td>\n",
       "    </tr>\n",
       "    <tr>\n",
       "      <th>10</th>\n",
       "      <td>252</td>\n",
       "      <td>katzenfutter_trockenfutter</td>\n",
       "    </tr>\n",
       "    <tr>\n",
       "      <th>11</th>\n",
       "      <td>301</td>\n",
       "      <td>katzenstreu</td>\n",
       "    </tr>\n",
       "    <tr>\n",
       "      <th>12</th>\n",
       "      <td>857</td>\n",
       "      <td>hundefutter_nassfutter</td>\n",
       "    </tr>\n",
       "    <tr>\n",
       "      <th>13</th>\n",
       "      <td>2068</td>\n",
       "      <td>katzenfutter_dose</td>\n",
       "    </tr>\n",
       "    <tr>\n",
       "      <th>14</th>\n",
       "      <td>2155</td>\n",
       "      <td>balkon_garten</td>\n",
       "    </tr>\n",
       "    <tr>\n",
       "      <th>15</th>\n",
       "      <td>2190</td>\n",
       "      <td>hundetransportbox</td>\n",
       "    </tr>\n",
       "  </tbody>\n",
       "</table>\n",
       "</div>"
      ],
      "text/plain": [
       "    PG_ID                PG_SHORTLINK\n",
       "0       9                   hundebett\n",
       "1      15    hundeleine_hundehalsband\n",
       "2      18                 hundesnacks\n",
       "3      20              hundespielzeug\n",
       "4      23        kratzbaum_katzenbaum\n",
       "5      29              katzentoilette\n",
       "6      33                   fressnapf\n",
       "7      34                katzensnacks\n",
       "8      36             katzenspielzeug\n",
       "9     251   hundefutter_trockenfutter\n",
       "10    252  katzenfutter_trockenfutter\n",
       "11    301                 katzenstreu\n",
       "12    857      hundefutter_nassfutter\n",
       "13   2068           katzenfutter_dose\n",
       "14   2155               balkon_garten\n",
       "15   2190           hundetransportbox"
      ]
     },
     "execution_count": 105,
     "metadata": {},
     "output_type": "execute_result"
    }
   ],
   "source": [
    "pg3"
   ]
  },
  {
   "cell_type": "code",
   "execution_count": 106,
   "metadata": {
    "ExecuteTime": {
     "end_time": "2018-11-28T13:46:49.562024Z",
     "start_time": "2018-11-28T13:46:49.558024Z"
    }
   },
   "outputs": [],
   "source": [
    "pg3_dict = {x: y for x, y in list(zip(pg3['PG_ID'].values, pg3['PG_SHORTLINK'].values))}"
   ]
  },
  {
   "cell_type": "code",
   "execution_count": 107,
   "metadata": {
    "ExecuteTime": {
     "end_time": "2018-11-28T13:47:08.027024Z",
     "start_time": "2018-11-28T13:46:50.439024Z"
    }
   },
   "outputs": [],
   "source": [
    "pg3_share_comparison['PG3_NAME'] = [pg3_dict[i] for i in pg3_share_comparison['PG3'].values]"
   ]
  },
  {
   "cell_type": "code",
   "execution_count": 108,
   "metadata": {
    "ExecuteTime": {
     "end_time": "2018-11-28T13:47:08.888024Z",
     "start_time": "2018-11-28T13:47:08.877024Z"
    }
   },
   "outputs": [
    {
     "data": {
      "text/html": [
       "<div>\n",
       "<style scoped>\n",
       "    .dataframe tbody tr th:only-of-type {\n",
       "        vertical-align: middle;\n",
       "    }\n",
       "\n",
       "    .dataframe tbody tr th {\n",
       "        vertical-align: top;\n",
       "    }\n",
       "\n",
       "    .dataframe thead th {\n",
       "        text-align: right;\n",
       "    }\n",
       "</style>\n",
       "<table border=\"1\" class=\"dataframe\">\n",
       "  <thead>\n",
       "    <tr style=\"text-align: right;\">\n",
       "      <th></th>\n",
       "      <th>PG3</th>\n",
       "      <th>NO_SP_ORD</th>\n",
       "      <th>SP_ORD</th>\n",
       "      <th>PG3_NAME</th>\n",
       "    </tr>\n",
       "  </thead>\n",
       "  <tbody>\n",
       "    <tr>\n",
       "      <th>9</th>\n",
       "      <td>9</td>\n",
       "      <td>1.535</td>\n",
       "      <td>1.913</td>\n",
       "      <td>hundebett</td>\n",
       "    </tr>\n",
       "    <tr>\n",
       "      <th>15</th>\n",
       "      <td>15</td>\n",
       "      <td>1.000</td>\n",
       "      <td>1.236</td>\n",
       "      <td>hundeleine_hundehalsband</td>\n",
       "    </tr>\n",
       "    <tr>\n",
       "      <th>18</th>\n",
       "      <td>18</td>\n",
       "      <td>3.846</td>\n",
       "      <td>3.011</td>\n",
       "      <td>hundesnacks</td>\n",
       "    </tr>\n",
       "    <tr>\n",
       "      <th>20</th>\n",
       "      <td>20</td>\n",
       "      <td>1.122</td>\n",
       "      <td>1.231</td>\n",
       "      <td>hundespielzeug</td>\n",
       "    </tr>\n",
       "    <tr>\n",
       "      <th>23</th>\n",
       "      <td>23</td>\n",
       "      <td>2.696</td>\n",
       "      <td>4.564</td>\n",
       "      <td>kratzbaum_katzenbaum</td>\n",
       "    </tr>\n",
       "    <tr>\n",
       "      <th>29</th>\n",
       "      <td>29</td>\n",
       "      <td>1.745</td>\n",
       "      <td>2.165</td>\n",
       "      <td>katzentoilette</td>\n",
       "    </tr>\n",
       "    <tr>\n",
       "      <th>33</th>\n",
       "      <td>33</td>\n",
       "      <td>1.112</td>\n",
       "      <td>1.534</td>\n",
       "      <td>fressnapf</td>\n",
       "    </tr>\n",
       "    <tr>\n",
       "      <th>34</th>\n",
       "      <td>34</td>\n",
       "      <td>1.392</td>\n",
       "      <td>1.187</td>\n",
       "      <td>katzensnacks</td>\n",
       "    </tr>\n",
       "    <tr>\n",
       "      <th>36</th>\n",
       "      <td>36</td>\n",
       "      <td>1.458</td>\n",
       "      <td>1.946</td>\n",
       "      <td>katzenspielzeug</td>\n",
       "    </tr>\n",
       "    <tr>\n",
       "      <th>251</th>\n",
       "      <td>251</td>\n",
       "      <td>26.001</td>\n",
       "      <td>23.156</td>\n",
       "      <td>hundefutter_trockenfutter</td>\n",
       "    </tr>\n",
       "    <tr>\n",
       "      <th>252</th>\n",
       "      <td>252</td>\n",
       "      <td>30.573</td>\n",
       "      <td>30.198</td>\n",
       "      <td>katzenfutter_trockenfutter</td>\n",
       "    </tr>\n",
       "    <tr>\n",
       "      <th>301</th>\n",
       "      <td>301</td>\n",
       "      <td>5.583</td>\n",
       "      <td>5.300</td>\n",
       "      <td>katzenstreu</td>\n",
       "    </tr>\n",
       "    <tr>\n",
       "      <th>857</th>\n",
       "      <td>857</td>\n",
       "      <td>2.192</td>\n",
       "      <td>1.737</td>\n",
       "      <td>hundefutter_nassfutter</td>\n",
       "    </tr>\n",
       "    <tr>\n",
       "      <th>2068</th>\n",
       "      <td>2068</td>\n",
       "      <td>10.570</td>\n",
       "      <td>9.310</td>\n",
       "      <td>katzenfutter_dose</td>\n",
       "    </tr>\n",
       "    <tr>\n",
       "      <th>2155</th>\n",
       "      <td>2155</td>\n",
       "      <td>0.000</td>\n",
       "      <td>1.063</td>\n",
       "      <td>balkon_garten</td>\n",
       "    </tr>\n",
       "    <tr>\n",
       "      <th>2190</th>\n",
       "      <td>2190</td>\n",
       "      <td>1.011</td>\n",
       "      <td>1.514</td>\n",
       "      <td>hundetransportbox</td>\n",
       "    </tr>\n",
       "  </tbody>\n",
       "</table>\n",
       "</div>"
      ],
      "text/plain": [
       "       PG3  NO_SP_ORD  SP_ORD                    PG3_NAME\n",
       "9        9      1.535   1.913                   hundebett\n",
       "15      15      1.000   1.236    hundeleine_hundehalsband\n",
       "18      18      3.846   3.011                 hundesnacks\n",
       "20      20      1.122   1.231              hundespielzeug\n",
       "23      23      2.696   4.564        kratzbaum_katzenbaum\n",
       "29      29      1.745   2.165              katzentoilette\n",
       "33      33      1.112   1.534                   fressnapf\n",
       "34      34      1.392   1.187                katzensnacks\n",
       "36      36      1.458   1.946             katzenspielzeug\n",
       "251    251     26.001  23.156   hundefutter_trockenfutter\n",
       "252    252     30.573  30.198  katzenfutter_trockenfutter\n",
       "301    301      5.583   5.300                 katzenstreu\n",
       "857    857      2.192   1.737      hundefutter_nassfutter\n",
       "2068  2068     10.570   9.310           katzenfutter_dose\n",
       "2155  2155      0.000   1.063               balkon_garten\n",
       "2190  2190      1.011   1.514           hundetransportbox"
      ]
     },
     "execution_count": 108,
     "metadata": {},
     "output_type": "execute_result"
    }
   ],
   "source": [
    "pg3_share_comparison"
   ]
  },
  {
   "cell_type": "code",
   "execution_count": 109,
   "metadata": {
    "ExecuteTime": {
     "end_time": "2018-11-28T13:47:10.057024Z",
     "start_time": "2018-11-28T13:47:09.750024Z"
    }
   },
   "outputs": [
    {
     "data": {
      "image/png": "[encoded data removed]",
      "text/plain": [
       "<matplotlib.figure.Figure at 0x5a830f0>"
      ]
     },
     "metadata": {},
     "output_type": "display_data"
    }
   ],
   "source": [
    "plt.figure(figsize=(12, 12))\n",
    "x = pg3_share_comparison['PG3_NAME'].values\n",
    "y = pg3_share_comparison['NO_SP_ORD'].values\n",
    "z = pg3_share_comparison['SP_ORD'].values\n",
    "plt.barh(x, y, color='g')\n",
    "plt.barh(x, z, color='orange', alpha=0.5)\n",
    "plt.title('PG3 share on orders 252 days before/after SP purchasing', fontsize=14)\n",
    "plt.ylabel('PG3')\n",
    "plt.xlabel('Sales share %')\n",
    "plt.legend(['NO SP Orders', 'SP Orders'])\n",
    "plt.show()"
   ]
  },
  {
   "cell_type": "code",
   "execution_count": 110,
   "metadata": {
    "ExecuteTime": {
     "end_time": "2018-11-28T13:47:15.669024Z",
     "start_time": "2018-11-28T13:47:15.660024Z"
    }
   },
   "outputs": [],
   "source": [
    "no_sp_cus_pg3_sales_df = pd.DataFrame.from_dict(no_sp_pg3_dict_sales_no_disc, orient='index')\n",
    "sp_cus_pg3_sales_df = pd.DataFrame.from_dict(sp_pg3_dict_sales_no_disc, orient='index')"
   ]
  },
  {
   "cell_type": "code",
   "execution_count": 111,
   "metadata": {
    "ExecuteTime": {
     "end_time": "2018-11-28T13:47:16.763024Z",
     "start_time": "2018-11-28T13:47:16.755024Z"
    }
   },
   "outputs": [],
   "source": [
    "pg3_sales_comparison = pd.concat([no_sp_cus_pg3_sales_df, sp_cus_pg3_sales_df], axis=1).fillna(0)\n",
    "pg3_sales_comparison.columns = ['NO_SP_ORD', 'SP_ORD']\n",
    "pg3_sales_comparison['PG3'] = pg3_sales_comparison.index.values\n",
    "#pg3_sales_comparison['PG3'] = pg3_sales_comparison['PG3'].astype(str)"
   ]
  },
  {
   "cell_type": "code",
   "execution_count": 112,
   "metadata": {
    "ExecuteTime": {
     "end_time": "2018-11-28T13:47:17.614024Z",
     "start_time": "2018-11-28T13:47:17.610024Z"
    }
   },
   "outputs": [],
   "source": [
    "pg3_lis = list(pg3_sales_comparison['PG3'].values)"
   ]
  },
  {
   "cell_type": "code",
   "execution_count": 113,
   "metadata": {
    "ExecuteTime": {
     "end_time": "2018-11-28T13:47:18.491024Z",
     "start_time": "2018-11-28T13:47:18.488024Z"
    }
   },
   "outputs": [],
   "source": [
    "pg3_lista = repr(pg3_lis).replace('[','(').replace(']',')')"
   ]
  },
  {
   "cell_type": "code",
   "execution_count": 114,
   "metadata": {
    "ExecuteTime": {
     "end_time": "2018-11-28T13:47:19.369024Z",
     "start_time": "2018-11-28T13:47:19.366024Z"
    }
   },
   "outputs": [],
   "source": [
    "query = \"\"\"select pg_id, pg_shortlink from ZOOMAN.PRODUCT_GROUPS\n",
    "where pg_id in %s\"\"\" % pg3_lista"
   ]
  },
  {
   "cell_type": "code",
   "execution_count": 115,
   "metadata": {
    "ExecuteTime": {
     "end_time": "2018-11-28T13:47:20.851024Z",
     "start_time": "2018-11-28T13:47:20.248024Z"
    }
   },
   "outputs": [],
   "source": [
    "conn = cx_Oracle.connect('zooor', 'zoo12or', 'zoorep', threaded=True, encoding = \"UTF-8\", nencoding = \"UTF-8\")\n",
    "pg3 = pd.read_sql(query, con = conn)\n",
    "conn.close()"
   ]
  },
  {
   "cell_type": "code",
   "execution_count": 116,
   "metadata": {
    "ExecuteTime": {
     "end_time": "2018-11-28T13:47:21.740024Z",
     "start_time": "2018-11-28T13:47:21.736024Z"
    }
   },
   "outputs": [],
   "source": [
    "pg3_dict = {x: y for x, y in list(zip(pg3['PG_ID'].values, pg3['PG_SHORTLINK'].values))}"
   ]
  },
  {
   "cell_type": "code",
   "execution_count": 117,
   "metadata": {
    "ExecuteTime": {
     "end_time": "2018-11-28T13:47:22.621024Z",
     "start_time": "2018-11-28T13:47:22.617024Z"
    }
   },
   "outputs": [],
   "source": [
    "pg3_sales_comparison['PG3_NAME'] = [pg3_dict[i] for i in pg3_sales_comparison['PG3'].values]"
   ]
  },
  {
   "cell_type": "code",
   "execution_count": 118,
   "metadata": {
    "ExecuteTime": {
     "end_time": "2018-11-28T13:47:23.496024Z",
     "start_time": "2018-11-28T13:47:23.490024Z"
    }
   },
   "outputs": [],
   "source": [
    "pg3_sales_comparison = pg3_sales_comparison[['PG3', 'PG3_NAME', 'NO_SP_ORD', 'SP_ORD']]\n",
    "pg3_sales_comparison = pg3_sales_comparison[(pg3_sales_comparison['NO_SP_ORD'] >= 1000) | (pg3_sales_comparison['SP_ORD'] >= 1000)]"
   ]
  },
  {
   "cell_type": "code",
   "execution_count": 119,
   "metadata": {
    "ExecuteTime": {
     "end_time": "2018-11-28T13:47:24.965024Z",
     "start_time": "2018-11-28T13:47:24.380024Z"
    }
   },
   "outputs": [
    {
     "data": {
      "image/png": "[encoded data removed]",
      "text/plain": [
       "<matplotlib.figure.Figure at 0xe7db080>"
      ]
     },
     "metadata": {},
     "output_type": "display_data"
    }
   ],
   "source": [
    "plt.figure(figsize=(12, 12))\n",
    "x = pg3_sales_comparison['PG3_NAME'].values\n",
    "y = pg3_sales_comparison['NO_SP_ORD'].values\n",
    "z = pg3_sales_comparison['SP_ORD'].values\n",
    "plt.barh(x, y, color='g')\n",
    "plt.barh(x, z, color='orange', alpha=0.5)\n",
    "plt.title('PG3 sales on orders 252 days before/after SP purchasing', fontsize=14)\n",
    "plt.ylabel('PG3')\n",
    "plt.xlabel('Sales')\n",
    "plt.legend(['NO SP Orders', 'SP Orders'])\n",
    "plt.show()"
   ]
  },
  {
   "cell_type": "code",
   "execution_count": 120,
   "metadata": {
    "ExecuteTime": {
     "end_time": "2018-11-28T13:47:25.856024Z",
     "start_time": "2018-11-28T13:47:25.841024Z"
    }
   },
   "outputs": [
    {
     "data": {
      "text/html": [
       "<div>\n",
       "<style scoped>\n",
       "    .dataframe tbody tr th:only-of-type {\n",
       "        vertical-align: middle;\n",
       "    }\n",
       "\n",
       "    .dataframe tbody tr th {\n",
       "        vertical-align: top;\n",
       "    }\n",
       "\n",
       "    .dataframe thead th {\n",
       "        text-align: right;\n",
       "    }\n",
       "</style>\n",
       "<table border=\"1\" class=\"dataframe\">\n",
       "  <thead>\n",
       "    <tr style=\"text-align: right;\">\n",
       "      <th></th>\n",
       "      <th>PG3</th>\n",
       "      <th>PG3_NAME</th>\n",
       "      <th>NO_SP_ORD</th>\n",
       "      <th>SP_ORD</th>\n",
       "    </tr>\n",
       "  </thead>\n",
       "  <tbody>\n",
       "    <tr>\n",
       "      <th>9</th>\n",
       "      <td>9</td>\n",
       "      <td>hundebett</td>\n",
       "      <td>20023.50</td>\n",
       "      <td>37588.29</td>\n",
       "    </tr>\n",
       "    <tr>\n",
       "      <th>15</th>\n",
       "      <td>15</td>\n",
       "      <td>hundeleine_hundehalsband</td>\n",
       "      <td>13050.42</td>\n",
       "      <td>24292.75</td>\n",
       "    </tr>\n",
       "    <tr>\n",
       "      <th>16</th>\n",
       "      <td>16</td>\n",
       "      <td>fressnapf</td>\n",
       "      <td>3722.65</td>\n",
       "      <td>7476.38</td>\n",
       "    </tr>\n",
       "    <tr>\n",
       "      <th>18</th>\n",
       "      <td>18</td>\n",
       "      <td>hundesnacks</td>\n",
       "      <td>50178.43</td>\n",
       "      <td>59182.95</td>\n",
       "    </tr>\n",
       "    <tr>\n",
       "      <th>20</th>\n",
       "      <td>20</td>\n",
       "      <td>hundespielzeug</td>\n",
       "      <td>14632.19</td>\n",
       "      <td>24188.50</td>\n",
       "    </tr>\n",
       "    <tr>\n",
       "      <th>23</th>\n",
       "      <td>23</td>\n",
       "      <td>kratzbaum_katzenbaum</td>\n",
       "      <td>35167.17</td>\n",
       "      <td>89694.09</td>\n",
       "    </tr>\n",
       "    <tr>\n",
       "      <th>29</th>\n",
       "      <td>29</td>\n",
       "      <td>katzentoilette</td>\n",
       "      <td>22770.34</td>\n",
       "      <td>42541.83</td>\n",
       "    </tr>\n",
       "    <tr>\n",
       "      <th>33</th>\n",
       "      <td>33</td>\n",
       "      <td>fressnapf</td>\n",
       "      <td>14507.99</td>\n",
       "      <td>30149.13</td>\n",
       "    </tr>\n",
       "    <tr>\n",
       "      <th>34</th>\n",
       "      <td>34</td>\n",
       "      <td>katzensnacks</td>\n",
       "      <td>18161.28</td>\n",
       "      <td>23331.49</td>\n",
       "    </tr>\n",
       "    <tr>\n",
       "      <th>36</th>\n",
       "      <td>36</td>\n",
       "      <td>katzenspielzeug</td>\n",
       "      <td>19025.42</td>\n",
       "      <td>38243.46</td>\n",
       "    </tr>\n",
       "    <tr>\n",
       "      <th>37</th>\n",
       "      <td>37</td>\n",
       "      <td>transport</td>\n",
       "      <td>3973.30</td>\n",
       "      <td>10101.55</td>\n",
       "    </tr>\n",
       "    <tr>\n",
       "      <th>38</th>\n",
       "      <td>38</td>\n",
       "      <td>katzenfutter_ergaenzung</td>\n",
       "      <td>2648.25</td>\n",
       "      <td>4106.60</td>\n",
       "    </tr>\n",
       "    <tr>\n",
       "      <th>42</th>\n",
       "      <td>42</td>\n",
       "      <td>kaefigzubehoer</td>\n",
       "      <td>2721.94</td>\n",
       "      <td>4891.17</td>\n",
       "    </tr>\n",
       "    <tr>\n",
       "      <th>45</th>\n",
       "      <td>45</td>\n",
       "      <td>futter</td>\n",
       "      <td>6990.70</td>\n",
       "      <td>10698.36</td>\n",
       "    </tr>\n",
       "    <tr>\n",
       "      <th>47</th>\n",
       "      <td>47</td>\n",
       "      <td>spielzeug</td>\n",
       "      <td>636.55</td>\n",
       "      <td>1315.89</td>\n",
       "    </tr>\n",
       "    <tr>\n",
       "      <th>62</th>\n",
       "      <td>62</td>\n",
       "      <td>fischfutter</td>\n",
       "      <td>2938.78</td>\n",
       "      <td>4113.66</td>\n",
       "    </tr>\n",
       "    <tr>\n",
       "      <th>65</th>\n",
       "      <td>65</td>\n",
       "      <td>aquarium_pflanzen</td>\n",
       "      <td>1487.48</td>\n",
       "      <td>2470.33</td>\n",
       "    </tr>\n",
       "    <tr>\n",
       "      <th>67</th>\n",
       "      <td>67</td>\n",
       "      <td>aquarium_pumpen</td>\n",
       "      <td>1818.30</td>\n",
       "      <td>4426.50</td>\n",
       "    </tr>\n",
       "    <tr>\n",
       "      <th>68</th>\n",
       "      <td>68</td>\n",
       "      <td>wasserpflege_aquarium</td>\n",
       "      <td>2198.64</td>\n",
       "      <td>3235.78</td>\n",
       "    </tr>\n",
       "    <tr>\n",
       "      <th>221</th>\n",
       "      <td>221</td>\n",
       "      <td>vogelfutter</td>\n",
       "      <td>3352.39</td>\n",
       "      <td>4674.04</td>\n",
       "    </tr>\n",
       "    <tr>\n",
       "      <th>251</th>\n",
       "      <td>251</td>\n",
       "      <td>hundefutter_trockenfutter</td>\n",
       "      <td>339218.47</td>\n",
       "      <td>455082.85</td>\n",
       "    </tr>\n",
       "    <tr>\n",
       "      <th>252</th>\n",
       "      <td>252</td>\n",
       "      <td>katzenfutter_trockenfutter</td>\n",
       "      <td>398866.82</td>\n",
       "      <td>593484.29</td>\n",
       "    </tr>\n",
       "    <tr>\n",
       "      <th>274</th>\n",
       "      <td>274</td>\n",
       "      <td>snack_und_knabberstangen</td>\n",
       "      <td>859.35</td>\n",
       "      <td>1303.62</td>\n",
       "    </tr>\n",
       "    <tr>\n",
       "      <th>301</th>\n",
       "      <td>301</td>\n",
       "      <td>katzenstreu</td>\n",
       "      <td>72836.66</td>\n",
       "      <td>104166.23</td>\n",
       "    </tr>\n",
       "    <tr>\n",
       "      <th>305</th>\n",
       "      <td>305</td>\n",
       "      <td>heu_streu</td>\n",
       "      <td>4225.96</td>\n",
       "      <td>5761.72</td>\n",
       "    </tr>\n",
       "    <tr>\n",
       "      <th>401</th>\n",
       "      <td>401</td>\n",
       "      <td>futter_ergaenzung</td>\n",
       "      <td>1620.77</td>\n",
       "      <td>2441.64</td>\n",
       "    </tr>\n",
       "    <tr>\n",
       "      <th>409</th>\n",
       "      <td>409</td>\n",
       "      <td>hundepflege</td>\n",
       "      <td>10575.59</td>\n",
       "      <td>17766.95</td>\n",
       "    </tr>\n",
       "    <tr>\n",
       "      <th>484</th>\n",
       "      <td>484</td>\n",
       "      <td>aquarium_dekoration</td>\n",
       "      <td>594.45</td>\n",
       "      <td>1092.27</td>\n",
       "    </tr>\n",
       "    <tr>\n",
       "      <th>741</th>\n",
       "      <td>741</td>\n",
       "      <td>kaefige_freigehege</td>\n",
       "      <td>1694.75</td>\n",
       "      <td>4669.35</td>\n",
       "    </tr>\n",
       "    <tr>\n",
       "      <th>758</th>\n",
       "      <td>758</td>\n",
       "      <td>kaefig</td>\n",
       "      <td>1416.82</td>\n",
       "      <td>3833.09</td>\n",
       "    </tr>\n",
       "    <tr>\n",
       "      <th>857</th>\n",
       "      <td>857</td>\n",
       "      <td>hundefutter_nassfutter</td>\n",
       "      <td>28599.82</td>\n",
       "      <td>34134.18</td>\n",
       "    </tr>\n",
       "    <tr>\n",
       "      <th>1400</th>\n",
       "      <td>1400</td>\n",
       "      <td>hundefutter_ergaenzung</td>\n",
       "      <td>4027.84</td>\n",
       "      <td>5980.30</td>\n",
       "    </tr>\n",
       "    <tr>\n",
       "      <th>1540</th>\n",
       "      <td>1540</td>\n",
       "      <td>katzenbetten_katzenkissen</td>\n",
       "      <td>6995.65</td>\n",
       "      <td>16058.48</td>\n",
       "    </tr>\n",
       "    <tr>\n",
       "      <th>2068</th>\n",
       "      <td>2068</td>\n",
       "      <td>katzenfutter_dose</td>\n",
       "      <td>137895.83</td>\n",
       "      <td>182976.23</td>\n",
       "    </tr>\n",
       "    <tr>\n",
       "      <th>2155</th>\n",
       "      <td>2155</td>\n",
       "      <td>balkon_garten</td>\n",
       "      <td>10997.87</td>\n",
       "      <td>20889.20</td>\n",
       "    </tr>\n",
       "    <tr>\n",
       "      <th>2190</th>\n",
       "      <td>2190</td>\n",
       "      <td>hundetransportbox</td>\n",
       "      <td>13185.06</td>\n",
       "      <td>29752.00</td>\n",
       "    </tr>\n",
       "    <tr>\n",
       "      <th>2192</th>\n",
       "      <td>2192</td>\n",
       "      <td>hundehuette_hundetuer</td>\n",
       "      <td>3781.68</td>\n",
       "      <td>7608.36</td>\n",
       "    </tr>\n",
       "    <tr>\n",
       "      <th>9788</th>\n",
       "      <td>9788</td>\n",
       "      <td>pferdefutter</td>\n",
       "      <td>937.68</td>\n",
       "      <td>1407.62</td>\n",
       "    </tr>\n",
       "    <tr>\n",
       "      <th>40023</th>\n",
       "      <td>40023</td>\n",
       "      <td>hundebekleidung_hundemantel</td>\n",
       "      <td>1517.91</td>\n",
       "      <td>2275.71</td>\n",
       "    </tr>\n",
       "    <tr>\n",
       "      <th>48963</th>\n",
       "      <td>48963</td>\n",
       "      <td>sparplan</td>\n",
       "      <td>0.00</td>\n",
       "      <td>6203.81</td>\n",
       "    </tr>\n",
       "    <tr>\n",
       "      <th>49821</th>\n",
       "      <td>49821</td>\n",
       "      <td>kaninchenstaelle</td>\n",
       "      <td>1014.92</td>\n",
       "      <td>1514.90</td>\n",
       "    </tr>\n",
       "    <tr>\n",
       "      <th>49828</th>\n",
       "      <td>49828</td>\n",
       "      <td>freigehege</td>\n",
       "      <td>1403.65</td>\n",
       "      <td>3493.99</td>\n",
       "    </tr>\n",
       "    <tr>\n",
       "      <th>153317</th>\n",
       "      <td>153317</td>\n",
       "      <td>sport_training</td>\n",
       "      <td>7437.93</td>\n",
       "      <td>13695.49</td>\n",
       "    </tr>\n",
       "    <tr>\n",
       "      <th>183134</th>\n",
       "      <td>183134</td>\n",
       "      <td>barf</td>\n",
       "      <td>1203.70</td>\n",
       "      <td>915.75</td>\n",
       "    </tr>\n",
       "    <tr>\n",
       "      <th>207553</th>\n",
       "      <td>207553</td>\n",
       "      <td>ungezieferschutz</td>\n",
       "      <td>3919.00</td>\n",
       "      <td>6848.98</td>\n",
       "    </tr>\n",
       "    <tr>\n",
       "      <th>207624</th>\n",
       "      <td>207624</td>\n",
       "      <td>ungezieferschutz</td>\n",
       "      <td>5434.42</td>\n",
       "      <td>8434.37</td>\n",
       "    </tr>\n",
       "  </tbody>\n",
       "</table>\n",
       "</div>"
      ],
      "text/plain": [
       "           PG3                     PG3_NAME  NO_SP_ORD     SP_ORD\n",
       "9            9                    hundebett   20023.50   37588.29\n",
       "15          15     hundeleine_hundehalsband   13050.42   24292.75\n",
       "16          16                    fressnapf    3722.65    7476.38\n",
       "18          18                  hundesnacks   50178.43   59182.95\n",
       "20          20               hundespielzeug   14632.19   24188.50\n",
       "23          23         kratzbaum_katzenbaum   35167.17   89694.09\n",
       "29          29               katzentoilette   22770.34   42541.83\n",
       "33          33                    fressnapf   14507.99   30149.13\n",
       "34          34                 katzensnacks   18161.28   23331.49\n",
       "36          36              katzenspielzeug   19025.42   38243.46\n",
       "37          37                    transport    3973.30   10101.55\n",
       "38          38      katzenfutter_ergaenzung    2648.25    4106.60\n",
       "42          42               kaefigzubehoer    2721.94    4891.17\n",
       "45          45                       futter    6990.70   10698.36\n",
       "47          47                    spielzeug     636.55    1315.89\n",
       "62          62                  fischfutter    2938.78    4113.66\n",
       "65          65            aquarium_pflanzen    1487.48    2470.33\n",
       "67          67              aquarium_pumpen    1818.30    4426.50\n",
       "68          68        wasserpflege_aquarium    2198.64    3235.78\n",
       "221        221                  vogelfutter    3352.39    4674.04\n",
       "251        251    hundefutter_trockenfutter  339218.47  455082.85\n",
       "252        252   katzenfutter_trockenfutter  398866.82  593484.29\n",
       "274        274     snack_und_knabberstangen     859.35    1303.62\n",
       "301        301                  katzenstreu   72836.66  104166.23\n",
       "305        305                    heu_streu    4225.96    5761.72\n",
       "401        401            futter_ergaenzung    1620.77    2441.64\n",
       "409        409                  hundepflege   10575.59   17766.95\n",
       "484        484          aquarium_dekoration     594.45    1092.27\n",
       "741        741           kaefige_freigehege    1694.75    4669.35\n",
       "758        758                       kaefig    1416.82    3833.09\n",
       "857        857       hundefutter_nassfutter   28599.82   34134.18\n",
       "1400      1400       hundefutter_ergaenzung    4027.84    5980.30\n",
       "1540      1540    katzenbetten_katzenkissen    6995.65   16058.48\n",
       "2068      2068            katzenfutter_dose  137895.83  182976.23\n",
       "2155      2155                balkon_garten   10997.87   20889.20\n",
       "2190      2190            hundetransportbox   13185.06   29752.00\n",
       "2192      2192        hundehuette_hundetuer    3781.68    7608.36\n",
       "9788      9788                 pferdefutter     937.68    1407.62\n",
       "40023    40023  hundebekleidung_hundemantel    1517.91    2275.71\n",
       "48963    48963                     sparplan       0.00    6203.81\n",
       "49821    49821             kaninchenstaelle    1014.92    1514.90\n",
       "49828    49828                   freigehege    1403.65    3493.99\n",
       "153317  153317               sport_training    7437.93   13695.49\n",
       "183134  183134                         barf    1203.70     915.75\n",
       "207553  207553             ungezieferschutz    3919.00    6848.98\n",
       "207624  207624             ungezieferschutz    5434.42    8434.37"
      ]
     },
     "execution_count": 120,
     "metadata": {},
     "output_type": "execute_result"
    }
   ],
   "source": [
    "pg3_sales_comparison"
   ]
  },
  {
   "cell_type": "markdown",
   "metadata": {},
   "source": [
    "#### Average Sales Share of Royal Canin products – 252 days orders before/after SP purchasing"
   ]
  },
  {
   "cell_type": "code",
   "execution_count": 121,
   "metadata": {
    "ExecuteTime": {
     "end_time": "2018-11-28T13:47:26.756024Z",
     "start_time": "2018-11-28T13:47:26.734024Z"
    }
   },
   "outputs": [],
   "source": [
    "sp_customers_252['BRAND_SALES_252_BEF'] = [list(compress(i, j)) for i, j in list(zip(sp_customers_252['BRAND_AGGSALES'],\n",
    "                                                                                    sp_customers_252['MASK_252_BEF']))]"
   ]
  },
  {
   "cell_type": "code",
   "execution_count": 122,
   "metadata": {
    "ExecuteTime": {
     "end_time": "2018-11-28T13:47:27.671024Z",
     "start_time": "2018-11-28T13:47:27.653024Z"
    }
   },
   "outputs": [],
   "source": [
    "sp_customers_252['BRAND_SALES_252_AFT'] = [list(compress(i, j)) for i, j in list(zip(sp_customers_252['BRAND_AGGSALES'],\n",
    "                                                                                    sp_customers_252['MASK_252_AFT']))]"
   ]
  },
  {
   "cell_type": "code",
   "execution_count": 123,
   "metadata": {
    "ExecuteTime": {
     "end_time": "2018-11-28T13:47:28.619024Z",
     "start_time": "2018-11-28T13:47:28.604024Z"
    }
   },
   "outputs": [],
   "source": [
    "sp_customers_252['BRAND_FLAT_SALES_252_BEF'] = [[k for j in i for k in j] \n",
    "                                                for i in sp_customers_252['BRAND_SALES_252_BEF'].values]"
   ]
  },
  {
   "cell_type": "code",
   "execution_count": 124,
   "metadata": {
    "ExecuteTime": {
     "end_time": "2018-11-28T13:47:29.579024Z",
     "start_time": "2018-11-28T13:47:29.559024Z"
    }
   },
   "outputs": [],
   "source": [
    "sp_customers_252['BRAND_FLAT_SALES_252_AFT'] = [[k for j in i for k in j] \n",
    "                                                for i in sp_customers_252['BRAND_SALES_252_AFT'].values]"
   ]
  },
  {
   "cell_type": "code",
   "execution_count": 125,
   "metadata": {
    "ExecuteTime": {
     "end_time": "2018-11-28T13:47:30.568024Z",
     "start_time": "2018-11-28T13:47:30.561024Z"
    }
   },
   "outputs": [],
   "source": [
    "no_sp_flat_brand_sales = [j for i in sp_customers_252['BRAND_FLAT_SALES_252_BEF'].values for j in i]"
   ]
  },
  {
   "cell_type": "code",
   "execution_count": 126,
   "metadata": {
    "ExecuteTime": {
     "end_time": "2018-11-28T13:47:31.564024Z",
     "start_time": "2018-11-28T13:47:31.556024Z"
    }
   },
   "outputs": [],
   "source": [
    "sp_flat_brand_sales = [j for i in sp_customers_252['BRAND_FLAT_SALES_252_AFT'].values for j in i]"
   ]
  },
  {
   "cell_type": "code",
   "execution_count": 127,
   "metadata": {
    "ExecuteTime": {
     "end_time": "2018-11-28T13:48:06.720024Z",
     "start_time": "2018-11-28T13:47:32.689024Z"
    }
   },
   "outputs": [],
   "source": [
    "no_sp_brand_sales = sorted([(brand_, np.round(sum([sales_ for brand__, sales_ in no_sp_flat_brand_sales if brand_== brand__\n",
    "                                                        ]), 3)) \n",
    "                                for brand_ in set([brand for brand, sales in no_sp_flat_brand_sales])], key= lambda x: x[1], reverse=True) "
   ]
  },
  {
   "cell_type": "code",
   "execution_count": 128,
   "metadata": {
    "ExecuteTime": {
     "end_time": "2018-11-28T13:50:08.912024Z",
     "start_time": "2018-11-28T13:48:07.775024Z"
    }
   },
   "outputs": [],
   "source": [
    "sp_brand_sales = sorted([(brand_, np.round(sum([sales_ for brand__, sales_ in sp_flat_brand_sales if brand_== brand__\n",
    "                                                        ]), 3)) \n",
    "                                for brand_ in set([brand for brand, sales in sp_flat_brand_sales])], key= lambda x: x[1], reverse=True) "
   ]
  },
  {
   "cell_type": "code",
   "execution_count": 129,
   "metadata": {
    "ExecuteTime": {
     "end_time": "2018-11-28T13:50:10.020024Z",
     "start_time": "2018-11-28T13:50:10.012024Z"
    }
   },
   "outputs": [],
   "source": [
    "no_sp_dict_sales_no_disc = {i[0]: i[1] for i in no_sp_brand_sales if str(i[0]) != 'nan'}"
   ]
  },
  {
   "cell_type": "code",
   "execution_count": 130,
   "metadata": {
    "ExecuteTime": {
     "end_time": "2018-11-28T13:50:11.160024Z",
     "start_time": "2018-11-28T13:50:11.151024Z"
    }
   },
   "outputs": [],
   "source": [
    "sp_dict_sales_no_disc = {i[0]: i[1] for i in sp_brand_sales if str(i[0]) != 'nan'}"
   ]
  },
  {
   "cell_type": "code",
   "execution_count": 131,
   "metadata": {
    "ExecuteTime": {
     "end_time": "2018-11-28T13:50:12.344024Z",
     "start_time": "2018-11-28T13:50:12.303024Z"
    }
   },
   "outputs": [],
   "source": [
    "no_sp_dict_sales_share = {a: np.round(b/sum(no_sp_dict_sales_no_disc.values())*100, 3)\n",
    "                         for a, b in list(zip(no_sp_dict_sales_no_disc.keys(),\n",
    "                                             no_sp_dict_sales_no_disc.values()))}"
   ]
  },
  {
   "cell_type": "code",
   "execution_count": 132,
   "metadata": {
    "ExecuteTime": {
     "end_time": "2018-11-28T13:50:13.535024Z",
     "start_time": "2018-11-28T13:50:13.491024Z"
    }
   },
   "outputs": [],
   "source": [
    "sp_dict_sales_share = {a: np.round(b/sum(sp_dict_sales_no_disc.values())*100, 3)\n",
    "                         for a, b in list(zip(sp_dict_sales_no_disc.keys(),\n",
    "                                             sp_dict_sales_no_disc.values()))}"
   ]
  },
  {
   "cell_type": "code",
   "execution_count": 133,
   "metadata": {
    "ExecuteTime": {
     "end_time": "2018-11-28T13:50:14.675024Z",
     "start_time": "2018-11-28T13:50:14.669024Z"
    }
   },
   "outputs": [
    {
     "data": {
      "text/plain": [
       "(99.99600000000014, 99.99600000000004)"
      ]
     },
     "execution_count": 133,
     "metadata": {},
     "output_type": "execute_result"
    }
   ],
   "source": [
    "sum(no_sp_dict_sales_share.values()), sum(sp_dict_sales_share.values())"
   ]
  },
  {
   "cell_type": "code",
   "execution_count": 134,
   "metadata": {
    "ExecuteTime": {
     "end_time": "2018-11-28T13:50:16.025024Z",
     "start_time": "2018-11-28T13:50:16.012024Z"
    }
   },
   "outputs": [],
   "source": [
    "brands = pd.read_csv('pg4_brands.dsv', sep=';', low_memory=False)"
   ]
  },
  {
   "cell_type": "code",
   "execution_count": 135,
   "metadata": {
    "ExecuteTime": {
     "end_time": "2018-11-28T13:50:17.158024Z",
     "start_time": "2018-11-28T13:50:17.153024Z"
    }
   },
   "outputs": [],
   "source": [
    "brands['BRAND'] = [i.split(' - ')[1] if len(i.split('-')) > 1 else 'unknown' for i in brands['PPR_V_LEVEL4_DESC'].values]"
   ]
  },
  {
   "cell_type": "code",
   "execution_count": 136,
   "metadata": {
    "ExecuteTime": {
     "end_time": "2018-11-28T13:50:18.285024Z",
     "start_time": "2018-11-28T13:50:18.276024Z"
    }
   },
   "outputs": [
    {
     "data": {
      "text/html": [
       "<div>\n",
       "<style scoped>\n",
       "    .dataframe tbody tr th:only-of-type {\n",
       "        vertical-align: middle;\n",
       "    }\n",
       "\n",
       "    .dataframe tbody tr th {\n",
       "        vertical-align: top;\n",
       "    }\n",
       "\n",
       "    .dataframe thead th {\n",
       "        text-align: right;\n",
       "    }\n",
       "</style>\n",
       "<table border=\"1\" class=\"dataframe\">\n",
       "  <thead>\n",
       "    <tr style=\"text-align: right;\">\n",
       "      <th></th>\n",
       "      <th>PPR_N_LEVEL4_ID</th>\n",
       "      <th>PPR_V_LEVEL4_DESC</th>\n",
       "      <th>BRAND</th>\n",
       "    </tr>\n",
       "  </thead>\n",
       "  <tbody>\n",
       "    <tr>\n",
       "      <th>0</th>\n",
       "      <td>20745</td>\n",
       "      <td>20745 - Hundesofa</td>\n",
       "      <td>Hundesofa</td>\n",
       "    </tr>\n",
       "    <tr>\n",
       "      <th>1</th>\n",
       "      <td>2</td>\n",
       "      <td>2 - Hund</td>\n",
       "      <td>Hund</td>\n",
       "    </tr>\n",
       "    <tr>\n",
       "      <th>2</th>\n",
       "      <td>1422</td>\n",
       "      <td>1422 - Spielzeug</td>\n",
       "      <td>Spielzeug</td>\n",
       "    </tr>\n",
       "    <tr>\n",
       "      <th>3</th>\n",
       "      <td>75</td>\n",
       "      <td>75 - Hundekissen</td>\n",
       "      <td>Hundekissen</td>\n",
       "    </tr>\n",
       "    <tr>\n",
       "      <th>4</th>\n",
       "      <td>2157</td>\n",
       "      <td>2157 - Alle Katzenklappen</td>\n",
       "      <td>Alle Katzenklappen</td>\n",
       "    </tr>\n",
       "  </tbody>\n",
       "</table>\n",
       "</div>"
      ],
      "text/plain": [
       "   PPR_N_LEVEL4_ID          PPR_V_LEVEL4_DESC               BRAND\n",
       "0            20745          20745 - Hundesofa           Hundesofa\n",
       "1                2                   2 - Hund                Hund\n",
       "2             1422           1422 - Spielzeug           Spielzeug\n",
       "3               75           75 - Hundekissen         Hundekissen\n",
       "4             2157  2157 - Alle Katzenklappen  Alle Katzenklappen"
      ]
     },
     "execution_count": 136,
     "metadata": {},
     "output_type": "execute_result"
    }
   ],
   "source": [
    "brands.head()"
   ]
  },
  {
   "cell_type": "code",
   "execution_count": 137,
   "metadata": {
    "ExecuteTime": {
     "end_time": "2018-11-28T13:50:19.414024Z",
     "start_time": "2018-11-28T13:50:19.401024Z"
    }
   },
   "outputs": [
    {
     "data": {
      "text/html": [
       "<div>\n",
       "<style scoped>\n",
       "    .dataframe tbody tr th:only-of-type {\n",
       "        vertical-align: middle;\n",
       "    }\n",
       "\n",
       "    .dataframe tbody tr th {\n",
       "        vertical-align: top;\n",
       "    }\n",
       "\n",
       "    .dataframe thead th {\n",
       "        text-align: right;\n",
       "    }\n",
       "</style>\n",
       "<table border=\"1\" class=\"dataframe\">\n",
       "  <thead>\n",
       "    <tr style=\"text-align: right;\">\n",
       "      <th></th>\n",
       "      <th>PPR_N_LEVEL4_ID</th>\n",
       "      <th>BRAND</th>\n",
       "    </tr>\n",
       "  </thead>\n",
       "  <tbody>\n",
       "    <tr>\n",
       "      <th>185</th>\n",
       "      <td>126742</td>\n",
       "      <td>Royal Canin Dog</td>\n",
       "    </tr>\n",
       "    <tr>\n",
       "      <th>257</th>\n",
       "      <td>17798</td>\n",
       "      <td>Royal Canin Breed (Rasse)</td>\n",
       "    </tr>\n",
       "    <tr>\n",
       "      <th>274</th>\n",
       "      <td>1308</td>\n",
       "      <td>Royal Canin Club / Selection</td>\n",
       "    </tr>\n",
       "    <tr>\n",
       "      <th>296</th>\n",
       "      <td>9702</td>\n",
       "      <td>Royal Canin Pure Feline</td>\n",
       "    </tr>\n",
       "    <tr>\n",
       "      <th>444</th>\n",
       "      <td>81396</td>\n",
       "      <td>Royal Canin Veterinary Diet</td>\n",
       "    </tr>\n",
       "    <tr>\n",
       "      <th>449</th>\n",
       "      <td>82696</td>\n",
       "      <td>Royal Canin Veterinary Diet</td>\n",
       "    </tr>\n",
       "    <tr>\n",
       "      <th>477</th>\n",
       "      <td>209912</td>\n",
       "      <td>Royal Canin Vet Care Nutrition</td>\n",
       "    </tr>\n",
       "    <tr>\n",
       "      <th>710</th>\n",
       "      <td>127037</td>\n",
       "      <td>Royal Canin Universal</td>\n",
       "    </tr>\n",
       "    <tr>\n",
       "      <th>790</th>\n",
       "      <td>682</td>\n",
       "      <td>Royal Canin Size</td>\n",
       "    </tr>\n",
       "    <tr>\n",
       "      <th>952</th>\n",
       "      <td>94525</td>\n",
       "      <td>Royal Canin</td>\n",
       "    </tr>\n",
       "    <tr>\n",
       "      <th>1284</th>\n",
       "      <td>126744</td>\n",
       "      <td>Royal Canin Cat</td>\n",
       "    </tr>\n",
       "    <tr>\n",
       "      <th>1309</th>\n",
       "      <td>17963</td>\n",
       "      <td>Royal Canin</td>\n",
       "    </tr>\n",
       "    <tr>\n",
       "      <th>1417</th>\n",
       "      <td>81397</td>\n",
       "      <td>Royal Canin Veterinary Diet</td>\n",
       "    </tr>\n",
       "    <tr>\n",
       "      <th>1423</th>\n",
       "      <td>82943</td>\n",
       "      <td>Royal Canin Veterinary Diet</td>\n",
       "    </tr>\n",
       "    <tr>\n",
       "      <th>1656</th>\n",
       "      <td>81431</td>\n",
       "      <td>Royal Canin Vet Care Nutrition</td>\n",
       "    </tr>\n",
       "    <tr>\n",
       "      <th>1659</th>\n",
       "      <td>218624</td>\n",
       "      <td>Royal Canin Veterinary Diet</td>\n",
       "    </tr>\n",
       "    <tr>\n",
       "      <th>1711</th>\n",
       "      <td>219110</td>\n",
       "      <td>Royal Canin Veterinary Diet</td>\n",
       "    </tr>\n",
       "    <tr>\n",
       "      <th>1794</th>\n",
       "      <td>683</td>\n",
       "      <td>Royal Canin</td>\n",
       "    </tr>\n",
       "    <tr>\n",
       "      <th>1799</th>\n",
       "      <td>261925</td>\n",
       "      <td>Royal Canin Rasse (Breed)</td>\n",
       "    </tr>\n",
       "    <tr>\n",
       "      <th>1922</th>\n",
       "      <td>47745</td>\n",
       "      <td>Royal Canin</td>\n",
       "    </tr>\n",
       "    <tr>\n",
       "      <th>1970</th>\n",
       "      <td>167473</td>\n",
       "      <td>Royal Canin Lifestyle</td>\n",
       "    </tr>\n",
       "  </tbody>\n",
       "</table>\n",
       "</div>"
      ],
      "text/plain": [
       "      PPR_N_LEVEL4_ID                           BRAND\n",
       "185            126742                 Royal Canin Dog\n",
       "257             17798       Royal Canin Breed (Rasse)\n",
       "274              1308    Royal Canin Club / Selection\n",
       "296              9702         Royal Canin Pure Feline\n",
       "444             81396     Royal Canin Veterinary Diet\n",
       "449             82696     Royal Canin Veterinary Diet\n",
       "477            209912  Royal Canin Vet Care Nutrition\n",
       "710            127037           Royal Canin Universal\n",
       "790               682                Royal Canin Size\n",
       "952             94525                     Royal Canin\n",
       "1284           126744                 Royal Canin Cat\n",
       "1309            17963                     Royal Canin\n",
       "1417            81397     Royal Canin Veterinary Diet\n",
       "1423            82943     Royal Canin Veterinary Diet\n",
       "1656            81431  Royal Canin Vet Care Nutrition\n",
       "1659           218624     Royal Canin Veterinary Diet\n",
       "1711           219110     Royal Canin Veterinary Diet\n",
       "1794              683                     Royal Canin\n",
       "1799           261925       Royal Canin Rasse (Breed)\n",
       "1922            47745                     Royal Canin\n",
       "1970           167473           Royal Canin Lifestyle"
      ]
     },
     "execution_count": 137,
     "metadata": {},
     "output_type": "execute_result"
    }
   ],
   "source": [
    "RC_brands = brands[brands['BRAND'].str.contains('Royal Canin')][['PPR_N_LEVEL4_ID', 'BRAND']]\n",
    "RC_brands"
   ]
  },
  {
   "cell_type": "code",
   "execution_count": 138,
   "metadata": {
    "ExecuteTime": {
     "end_time": "2018-11-28T13:50:20.536024Z",
     "start_time": "2018-11-28T13:50:20.526024Z"
    }
   },
   "outputs": [],
   "source": [
    "no_sp_rc_share_dict = {a: b for a, b in list(zip(no_sp_dict_sales_share.keys(), \n",
    "                                                 no_sp_dict_sales_share.values()))\n",
    "                      if a in RC_brands['BRAND'].values}"
   ]
  },
  {
   "cell_type": "code",
   "execution_count": 139,
   "metadata": {
    "ExecuteTime": {
     "end_time": "2018-11-28T13:50:21.615024Z",
     "start_time": "2018-11-28T13:50:21.611024Z"
    }
   },
   "outputs": [
    {
     "data": {
      "text/plain": [
       "{'Royal Canin': 13.971,\n",
       " 'Royal Canin Breed (Rasse)': 3.136,\n",
       " 'Royal Canin Club / Selection': 0.151,\n",
       " 'Royal Canin Dog': 0.001,\n",
       " 'Royal Canin Pure Feline': 0.065,\n",
       " 'Royal Canin Rasse (Breed)': 3.737,\n",
       " 'Royal Canin Size': 3.96,\n",
       " 'Royal Canin Vet Care Nutrition': 0.666,\n",
       " 'Royal Canin Veterinary Diet': 8.117}"
      ]
     },
     "execution_count": 139,
     "metadata": {},
     "output_type": "execute_result"
    }
   ],
   "source": [
    "no_sp_rc_share_dict"
   ]
  },
  {
   "cell_type": "code",
   "execution_count": 140,
   "metadata": {
    "ExecuteTime": {
     "end_time": "2018-11-28T13:50:22.767024Z",
     "start_time": "2018-11-28T13:50:22.757024Z"
    }
   },
   "outputs": [],
   "source": [
    "sp_rc_share_dict = {a: b for a, b in list(zip(sp_dict_sales_share.keys(), \n",
    "                                            sp_dict_sales_share.values()))\n",
    "                      if a in RC_brands['BRAND'].values}"
   ]
  },
  {
   "cell_type": "code",
   "execution_count": 141,
   "metadata": {
    "ExecuteTime": {
     "end_time": "2018-11-28T13:50:24.124024Z",
     "start_time": "2018-11-28T13:50:24.120024Z"
    }
   },
   "outputs": [
    {
     "data": {
      "text/plain": [
       "{'Royal Canin': 14.289,\n",
       " 'Royal Canin Breed (Rasse)': 2.938,\n",
       " 'Royal Canin Cat': 0.002,\n",
       " 'Royal Canin Club / Selection': 0.162,\n",
       " 'Royal Canin Dog': 0.002,\n",
       " 'Royal Canin Pure Feline': 0.059,\n",
       " 'Royal Canin Rasse (Breed)': 3.828,\n",
       " 'Royal Canin Size': 3.786,\n",
       " 'Royal Canin Vet Care Nutrition': 0.548,\n",
       " 'Royal Canin Veterinary Diet': 7.485}"
      ]
     },
     "execution_count": 141,
     "metadata": {},
     "output_type": "execute_result"
    }
   ],
   "source": [
    "sp_rc_share_dict"
   ]
  },
  {
   "cell_type": "code",
   "execution_count": 142,
   "metadata": {
    "ExecuteTime": {
     "end_time": "2018-11-28T13:50:25.286024Z",
     "start_time": "2018-11-28T13:50:25.281024Z"
    }
   },
   "outputs": [],
   "source": [
    "no_sp_rc_share_df = pd.DataFrame.from_dict(no_sp_rc_share_dict, orient='index')\n",
    "sp_rc_share_df = pd.DataFrame.from_dict(sp_rc_share_dict, orient='index')"
   ]
  },
  {
   "cell_type": "code",
   "execution_count": 143,
   "metadata": {
    "ExecuteTime": {
     "end_time": "2018-11-28T13:50:26.376024Z",
     "start_time": "2018-11-28T13:50:26.362024Z"
    }
   },
   "outputs": [
    {
     "data": {
      "text/html": [
       "<div>\n",
       "<style scoped>\n",
       "    .dataframe tbody tr th:only-of-type {\n",
       "        vertical-align: middle;\n",
       "    }\n",
       "\n",
       "    .dataframe tbody tr th {\n",
       "        vertical-align: top;\n",
       "    }\n",
       "\n",
       "    .dataframe thead th {\n",
       "        text-align: right;\n",
       "    }\n",
       "</style>\n",
       "<table border=\"1\" class=\"dataframe\">\n",
       "  <thead>\n",
       "    <tr style=\"text-align: right;\">\n",
       "      <th></th>\n",
       "      <th>BRAND</th>\n",
       "      <th>NO_SP_ORD</th>\n",
       "      <th>SP_ORD</th>\n",
       "    </tr>\n",
       "  </thead>\n",
       "  <tbody>\n",
       "    <tr>\n",
       "      <th>Royal Canin</th>\n",
       "      <td>Royal Canin</td>\n",
       "      <td>13.971</td>\n",
       "      <td>14.289</td>\n",
       "    </tr>\n",
       "    <tr>\n",
       "      <th>Royal Canin Breed (Rasse)</th>\n",
       "      <td>Royal Canin Breed (Rasse)</td>\n",
       "      <td>3.136</td>\n",
       "      <td>2.938</td>\n",
       "    </tr>\n",
       "    <tr>\n",
       "      <th>Royal Canin Cat</th>\n",
       "      <td>Royal Canin Cat</td>\n",
       "      <td>0.000</td>\n",
       "      <td>0.002</td>\n",
       "    </tr>\n",
       "    <tr>\n",
       "      <th>Royal Canin Club / Selection</th>\n",
       "      <td>Royal Canin Club / Selection</td>\n",
       "      <td>0.151</td>\n",
       "      <td>0.162</td>\n",
       "    </tr>\n",
       "    <tr>\n",
       "      <th>Royal Canin Dog</th>\n",
       "      <td>Royal Canin Dog</td>\n",
       "      <td>0.001</td>\n",
       "      <td>0.002</td>\n",
       "    </tr>\n",
       "    <tr>\n",
       "      <th>Royal Canin Pure Feline</th>\n",
       "      <td>Royal Canin Pure Feline</td>\n",
       "      <td>0.065</td>\n",
       "      <td>0.059</td>\n",
       "    </tr>\n",
       "    <tr>\n",
       "      <th>Royal Canin Rasse (Breed)</th>\n",
       "      <td>Royal Canin Rasse (Breed)</td>\n",
       "      <td>3.737</td>\n",
       "      <td>3.828</td>\n",
       "    </tr>\n",
       "    <tr>\n",
       "      <th>Royal Canin Size</th>\n",
       "      <td>Royal Canin Size</td>\n",
       "      <td>3.960</td>\n",
       "      <td>3.786</td>\n",
       "    </tr>\n",
       "    <tr>\n",
       "      <th>Royal Canin Vet Care Nutrition</th>\n",
       "      <td>Royal Canin Vet Care Nutrition</td>\n",
       "      <td>0.666</td>\n",
       "      <td>0.548</td>\n",
       "    </tr>\n",
       "    <tr>\n",
       "      <th>Royal Canin Veterinary Diet</th>\n",
       "      <td>Royal Canin Veterinary Diet</td>\n",
       "      <td>8.117</td>\n",
       "      <td>7.485</td>\n",
       "    </tr>\n",
       "  </tbody>\n",
       "</table>\n",
       "</div>"
      ],
      "text/plain": [
       "                                                         BRAND  NO_SP_ORD  \\\n",
       "Royal Canin                                        Royal Canin     13.971   \n",
       "Royal Canin Breed (Rasse)            Royal Canin Breed (Rasse)      3.136   \n",
       "Royal Canin Cat                                Royal Canin Cat      0.000   \n",
       "Royal Canin Club / Selection      Royal Canin Club / Selection      0.151   \n",
       "Royal Canin Dog                                Royal Canin Dog      0.001   \n",
       "Royal Canin Pure Feline                Royal Canin Pure Feline      0.065   \n",
       "Royal Canin Rasse (Breed)            Royal Canin Rasse (Breed)      3.737   \n",
       "Royal Canin Size                              Royal Canin Size      3.960   \n",
       "Royal Canin Vet Care Nutrition  Royal Canin Vet Care Nutrition      0.666   \n",
       "Royal Canin Veterinary Diet        Royal Canin Veterinary Diet      8.117   \n",
       "\n",
       "                                SP_ORD  \n",
       "Royal Canin                     14.289  \n",
       "Royal Canin Breed (Rasse)        2.938  \n",
       "Royal Canin Cat                  0.002  \n",
       "Royal Canin Club / Selection     0.162  \n",
       "Royal Canin Dog                  0.002  \n",
       "Royal Canin Pure Feline          0.059  \n",
       "Royal Canin Rasse (Breed)        3.828  \n",
       "Royal Canin Size                 3.786  \n",
       "Royal Canin Vet Care Nutrition   0.548  \n",
       "Royal Canin Veterinary Diet      7.485  "
      ]
     },
     "execution_count": 143,
     "metadata": {},
     "output_type": "execute_result"
    }
   ],
   "source": [
    "rc_comparison = pd.concat([no_sp_rc_share_df, sp_rc_share_df], axis=1).fillna(0)\n",
    "rc_comparison.columns = ['NO_SP_ORD', 'SP_ORD']\n",
    "rc_comparison['BRAND'] = rc_comparison.index.values\n",
    "rc_comparison = rc_comparison[['BRAND', 'NO_SP_ORD', 'SP_ORD']]\n",
    "rc_comparison"
   ]
  },
  {
   "cell_type": "code",
   "execution_count": 144,
   "metadata": {
    "ExecuteTime": {
     "end_time": "2018-11-28T13:50:27.813024Z",
     "start_time": "2018-11-28T13:50:27.528024Z"
    }
   },
   "outputs": [
    {
     "data": {
      "image/png": "[encoded data removed]",
      "text/plain": [
       "<matplotlib.figure.Figure at 0xe6d67b8>"
      ]
     },
     "metadata": {},
     "output_type": "display_data"
    }
   ],
   "source": [
    "plt.figure(figsize=(12, 12))\n",
    "x = rc_comparison['BRAND'].values\n",
    "y = rc_comparison['NO_SP_ORD'].values\n",
    "z = rc_comparison['SP_ORD'].values\n",
    "plt.barh(x, y, color='g')\n",
    "plt.barh(x, z, color='orange', alpha=0.5)\n",
    "plt.title('Royal Canin sales share in 252 days orders before/after SP purchasing', fontsize=14)\n",
    "plt.ylabel('BRAND')\n",
    "plt.xlabel('Sales share %')\n",
    "plt.legend(['NO SP Orders', 'SP Orders'])\n",
    "plt.show()"
   ]
  },
  {
   "cell_type": "markdown",
   "metadata": {},
   "source": [
    "#### Royal Canin sales -  252 days orders before/after SP purchasing"
   ]
  },
  {
   "cell_type": "code",
   "execution_count": 145,
   "metadata": {
    "ExecuteTime": {
     "end_time": "2018-11-28T13:50:28.974024Z",
     "start_time": "2018-11-28T13:50:28.966024Z"
    }
   },
   "outputs": [],
   "source": [
    "no_sp_rc_sales_dict = {a: b for a, b in list(zip(no_sp_dict_sales_no_disc.keys(), \n",
    "                                            no_sp_dict_sales_no_disc.values()))\n",
    "                      if a in RC_brands['BRAND'].values}"
   ]
  },
  {
   "cell_type": "code",
   "execution_count": 146,
   "metadata": {
    "ExecuteTime": {
     "end_time": "2018-11-28T13:50:30.109024Z",
     "start_time": "2018-11-28T13:50:30.105024Z"
    }
   },
   "outputs": [
    {
     "data": {
      "text/plain": [
       "{'Royal Canin': 182266.87,\n",
       " 'Royal Canin Breed (Rasse)': 40917.1,\n",
       " 'Royal Canin Club / Selection': 1975.18,\n",
       " 'Royal Canin Dog': 11.0,\n",
       " 'Royal Canin Pure Feline': 850.46,\n",
       " 'Royal Canin Rasse (Breed)': 48757.48,\n",
       " 'Royal Canin Size': 51657.33,\n",
       " 'Royal Canin Vet Care Nutrition': 8692.62,\n",
       " 'Royal Canin Veterinary Diet': 105894.62}"
      ]
     },
     "execution_count": 146,
     "metadata": {},
     "output_type": "execute_result"
    }
   ],
   "source": [
    "no_sp_rc_sales_dict"
   ]
  },
  {
   "cell_type": "code",
   "execution_count": 147,
   "metadata": {
    "ExecuteTime": {
     "end_time": "2018-11-28T13:50:31.278024Z",
     "start_time": "2018-11-28T13:50:31.268024Z"
    }
   },
   "outputs": [],
   "source": [
    "sp_rc_sales_dict = {a: b for a, b in list(zip(sp_dict_sales_no_disc.keys(), \n",
    "                                            sp_dict_sales_no_disc.values()))\n",
    "                      if a in RC_brands['BRAND'].values}"
   ]
  },
  {
   "cell_type": "code",
   "execution_count": 148,
   "metadata": {
    "ExecuteTime": {
     "end_time": "2018-11-28T13:50:32.449024Z",
     "start_time": "2018-11-28T13:50:32.445024Z"
    }
   },
   "outputs": [
    {
     "data": {
      "text/plain": [
       "{'Royal Canin': 280816.24,\n",
       " 'Royal Canin Breed (Rasse)': 57732.74,\n",
       " 'Royal Canin Cat': 45.01,\n",
       " 'Royal Canin Club / Selection': 3192.22,\n",
       " 'Royal Canin Dog': 33.87,\n",
       " 'Royal Canin Pure Feline': 1160.4,\n",
       " 'Royal Canin Rasse (Breed)': 75235.62,\n",
       " 'Royal Canin Size': 74411.9,\n",
       " 'Royal Canin Vet Care Nutrition': 10768.59,\n",
       " 'Royal Canin Veterinary Diet': 147097.77}"
      ]
     },
     "execution_count": 148,
     "metadata": {},
     "output_type": "execute_result"
    }
   ],
   "source": [
    "sp_rc_sales_dict"
   ]
  },
  {
   "cell_type": "code",
   "execution_count": 149,
   "metadata": {
    "ExecuteTime": {
     "end_time": "2018-11-28T13:50:33.579024Z",
     "start_time": "2018-11-28T13:50:33.574024Z"
    }
   },
   "outputs": [],
   "source": [
    "no_sp_rc_sales_df = pd.DataFrame.from_dict(no_sp_rc_sales_dict, orient='index')\n",
    "sp_rc_sales_df = pd.DataFrame.from_dict(sp_rc_sales_dict, orient='index')"
   ]
  },
  {
   "cell_type": "code",
   "execution_count": 150,
   "metadata": {
    "ExecuteTime": {
     "end_time": "2018-11-28T13:50:34.734024Z",
     "start_time": "2018-11-28T13:50:34.720024Z"
    }
   },
   "outputs": [
    {
     "data": {
      "text/html": [
       "<div>\n",
       "<style scoped>\n",
       "    .dataframe tbody tr th:only-of-type {\n",
       "        vertical-align: middle;\n",
       "    }\n",
       "\n",
       "    .dataframe tbody tr th {\n",
       "        vertical-align: top;\n",
       "    }\n",
       "\n",
       "    .dataframe thead th {\n",
       "        text-align: right;\n",
       "    }\n",
       "</style>\n",
       "<table border=\"1\" class=\"dataframe\">\n",
       "  <thead>\n",
       "    <tr style=\"text-align: right;\">\n",
       "      <th></th>\n",
       "      <th>BRAND</th>\n",
       "      <th>NO_SP_ORD</th>\n",
       "      <th>SP_ORD</th>\n",
       "    </tr>\n",
       "  </thead>\n",
       "  <tbody>\n",
       "    <tr>\n",
       "      <th>Royal Canin</th>\n",
       "      <td>Royal Canin</td>\n",
       "      <td>182266.87</td>\n",
       "      <td>280816.24</td>\n",
       "    </tr>\n",
       "    <tr>\n",
       "      <th>Royal Canin Breed (Rasse)</th>\n",
       "      <td>Royal Canin Breed (Rasse)</td>\n",
       "      <td>40917.10</td>\n",
       "      <td>57732.74</td>\n",
       "    </tr>\n",
       "    <tr>\n",
       "      <th>Royal Canin Cat</th>\n",
       "      <td>Royal Canin Cat</td>\n",
       "      <td>0.00</td>\n",
       "      <td>45.01</td>\n",
       "    </tr>\n",
       "    <tr>\n",
       "      <th>Royal Canin Club / Selection</th>\n",
       "      <td>Royal Canin Club / Selection</td>\n",
       "      <td>1975.18</td>\n",
       "      <td>3192.22</td>\n",
       "    </tr>\n",
       "    <tr>\n",
       "      <th>Royal Canin Dog</th>\n",
       "      <td>Royal Canin Dog</td>\n",
       "      <td>11.00</td>\n",
       "      <td>33.87</td>\n",
       "    </tr>\n",
       "    <tr>\n",
       "      <th>Royal Canin Pure Feline</th>\n",
       "      <td>Royal Canin Pure Feline</td>\n",
       "      <td>850.46</td>\n",
       "      <td>1160.40</td>\n",
       "    </tr>\n",
       "    <tr>\n",
       "      <th>Royal Canin Rasse (Breed)</th>\n",
       "      <td>Royal Canin Rasse (Breed)</td>\n",
       "      <td>48757.48</td>\n",
       "      <td>75235.62</td>\n",
       "    </tr>\n",
       "    <tr>\n",
       "      <th>Royal Canin Size</th>\n",
       "      <td>Royal Canin Size</td>\n",
       "      <td>51657.33</td>\n",
       "      <td>74411.90</td>\n",
       "    </tr>\n",
       "    <tr>\n",
       "      <th>Royal Canin Vet Care Nutrition</th>\n",
       "      <td>Royal Canin Vet Care Nutrition</td>\n",
       "      <td>8692.62</td>\n",
       "      <td>10768.59</td>\n",
       "    </tr>\n",
       "    <tr>\n",
       "      <th>Royal Canin Veterinary Diet</th>\n",
       "      <td>Royal Canin Veterinary Diet</td>\n",
       "      <td>105894.62</td>\n",
       "      <td>147097.77</td>\n",
       "    </tr>\n",
       "  </tbody>\n",
       "</table>\n",
       "</div>"
      ],
      "text/plain": [
       "                                                         BRAND  NO_SP_ORD  \\\n",
       "Royal Canin                                        Royal Canin  182266.87   \n",
       "Royal Canin Breed (Rasse)            Royal Canin Breed (Rasse)   40917.10   \n",
       "Royal Canin Cat                                Royal Canin Cat       0.00   \n",
       "Royal Canin Club / Selection      Royal Canin Club / Selection    1975.18   \n",
       "Royal Canin Dog                                Royal Canin Dog      11.00   \n",
       "Royal Canin Pure Feline                Royal Canin Pure Feline     850.46   \n",
       "Royal Canin Rasse (Breed)            Royal Canin Rasse (Breed)   48757.48   \n",
       "Royal Canin Size                              Royal Canin Size   51657.33   \n",
       "Royal Canin Vet Care Nutrition  Royal Canin Vet Care Nutrition    8692.62   \n",
       "Royal Canin Veterinary Diet        Royal Canin Veterinary Diet  105894.62   \n",
       "\n",
       "                                   SP_ORD  \n",
       "Royal Canin                     280816.24  \n",
       "Royal Canin Breed (Rasse)        57732.74  \n",
       "Royal Canin Cat                     45.01  \n",
       "Royal Canin Club / Selection      3192.22  \n",
       "Royal Canin Dog                     33.87  \n",
       "Royal Canin Pure Feline           1160.40  \n",
       "Royal Canin Rasse (Breed)        75235.62  \n",
       "Royal Canin Size                 74411.90  \n",
       "Royal Canin Vet Care Nutrition   10768.59  \n",
       "Royal Canin Veterinary Diet     147097.77  "
      ]
     },
     "execution_count": 150,
     "metadata": {},
     "output_type": "execute_result"
    }
   ],
   "source": [
    "rc_sales_comparison = pd.concat([no_sp_rc_sales_df, sp_rc_sales_df], axis=1).fillna(0)\n",
    "rc_sales_comparison.columns = ['NO_SP_ORD', 'SP_ORD']\n",
    "rc_sales_comparison['BRAND'] = rc_sales_comparison.index.values\n",
    "rc_sales_comparison = rc_sales_comparison[['BRAND', 'NO_SP_ORD', 'SP_ORD']]\n",
    "rc_sales_comparison"
   ]
  },
  {
   "cell_type": "code",
   "execution_count": 151,
   "metadata": {
    "ExecuteTime": {
     "end_time": "2018-11-28T13:50:36.186024Z",
     "start_time": "2018-11-28T13:50:35.870024Z"
    }
   },
   "outputs": [
    {
     "data": {
      "image/png": "[encoded data removed]",
      "text/plain": [
       "<matplotlib.figure.Figure at 0xe6dfba8>"
      ]
     },
     "metadata": {},
     "output_type": "display_data"
    }
   ],
   "source": [
    "plt.figure(figsize=(12, 12))\n",
    "x = rc_sales_comparison['BRAND'].values\n",
    "y = rc_sales_comparison['NO_SP_ORD'].values\n",
    "z = rc_sales_comparison['SP_ORD'].values\n",
    "plt.barh(x, y, color='g')\n",
    "plt.barh(x, z, color='orange', alpha=0.5)\n",
    "plt.title('Royal Canin sales in 252 days orders before/after SP purchasing', fontsize=14)\n",
    "plt.ylabel('BRAND')\n",
    "plt.xlabel('Sales')\n",
    "plt.legend(['NO SP Orders', 'SP Orders'])\n",
    "plt.show()"
   ]
  },
  {
   "cell_type": "markdown",
   "metadata": {},
   "source": [
    "#### Average Sales Share of Hill's products – 252 days orders before/after SP purchasing"
   ]
  },
  {
   "cell_type": "code",
   "execution_count": 152,
   "metadata": {
    "ExecuteTime": {
     "end_time": "2018-11-28T13:50:37.329024Z",
     "start_time": "2018-11-28T13:50:37.317024Z"
    }
   },
   "outputs": [
    {
     "data": {
      "text/html": [
       "<div>\n",
       "<style scoped>\n",
       "    .dataframe tbody tr th:only-of-type {\n",
       "        vertical-align: middle;\n",
       "    }\n",
       "\n",
       "    .dataframe tbody tr th {\n",
       "        vertical-align: top;\n",
       "    }\n",
       "\n",
       "    .dataframe thead th {\n",
       "        text-align: right;\n",
       "    }\n",
       "</style>\n",
       "<table border=\"1\" class=\"dataframe\">\n",
       "  <thead>\n",
       "    <tr style=\"text-align: right;\">\n",
       "      <th></th>\n",
       "      <th>PPR_N_LEVEL4_ID</th>\n",
       "      <th>BRAND</th>\n",
       "    </tr>\n",
       "  </thead>\n",
       "  <tbody>\n",
       "    <tr>\n",
       "      <th>13</th>\n",
       "      <td>719</td>\n",
       "      <td>Hill's Science Plan</td>\n",
       "    </tr>\n",
       "    <tr>\n",
       "      <th>188</th>\n",
       "      <td>84729</td>\n",
       "      <td>Hill's Prescription Diet</td>\n",
       "    </tr>\n",
       "    <tr>\n",
       "      <th>261</th>\n",
       "      <td>1816</td>\n",
       "      <td>Hill's Puppy &amp; Senior</td>\n",
       "    </tr>\n",
       "    <tr>\n",
       "      <th>270</th>\n",
       "      <td>2058</td>\n",
       "      <td>Hill's Natures Best</td>\n",
       "    </tr>\n",
       "    <tr>\n",
       "      <th>295</th>\n",
       "      <td>720</td>\n",
       "      <td>Hill's Science Plan</td>\n",
       "    </tr>\n",
       "    <tr>\n",
       "      <th>472</th>\n",
       "      <td>151599</td>\n",
       "      <td>Hill's Prescription Diet</td>\n",
       "    </tr>\n",
       "    <tr>\n",
       "      <th>735</th>\n",
       "      <td>175240</td>\n",
       "      <td>Hill's Ideal Balance</td>\n",
       "    </tr>\n",
       "    <tr>\n",
       "      <th>736</th>\n",
       "      <td>177843</td>\n",
       "      <td>Hill's Ideal Balance</td>\n",
       "    </tr>\n",
       "    <tr>\n",
       "      <th>1150</th>\n",
       "      <td>31962</td>\n",
       "      <td>Hill's Prescription Diet</td>\n",
       "    </tr>\n",
       "    <tr>\n",
       "      <th>1381</th>\n",
       "      <td>31963</td>\n",
       "      <td>Hill's Prescription Diet</td>\n",
       "    </tr>\n",
       "    <tr>\n",
       "      <th>1530</th>\n",
       "      <td>2057</td>\n",
       "      <td>Nature's Best von Hill's</td>\n",
       "    </tr>\n",
       "    <tr>\n",
       "      <th>1677</th>\n",
       "      <td>127127</td>\n",
       "      <td>Hill's Dog</td>\n",
       "    </tr>\n",
       "    <tr>\n",
       "      <th>1683</th>\n",
       "      <td>96660</td>\n",
       "      <td>Hill's Prescription Diet</td>\n",
       "    </tr>\n",
       "    <tr>\n",
       "      <th>1735</th>\n",
       "      <td>39494</td>\n",
       "      <td>Hill's</td>\n",
       "    </tr>\n",
       "    <tr>\n",
       "      <th>1910</th>\n",
       "      <td>39209</td>\n",
       "      <td>Hill's Prescription Diet</td>\n",
       "    </tr>\n",
       "    <tr>\n",
       "      <th>1958</th>\n",
       "      <td>127247</td>\n",
       "      <td>Hill's Cat</td>\n",
       "    </tr>\n",
       "  </tbody>\n",
       "</table>\n",
       "</div>"
      ],
      "text/plain": [
       "      PPR_N_LEVEL4_ID                     BRAND\n",
       "13                719       Hill's Science Plan\n",
       "188             84729  Hill's Prescription Diet\n",
       "261              1816     Hill's Puppy & Senior\n",
       "270              2058       Hill's Natures Best\n",
       "295               720       Hill's Science Plan\n",
       "472            151599  Hill's Prescription Diet\n",
       "735            175240      Hill's Ideal Balance\n",
       "736            177843      Hill's Ideal Balance\n",
       "1150            31962  Hill's Prescription Diet\n",
       "1381            31963  Hill's Prescription Diet\n",
       "1530             2057  Nature's Best von Hill's\n",
       "1677           127127                Hill's Dog\n",
       "1683            96660  Hill's Prescription Diet\n",
       "1735            39494                    Hill's\n",
       "1910            39209  Hill's Prescription Diet\n",
       "1958           127247                Hill's Cat"
      ]
     },
     "execution_count": 152,
     "metadata": {},
     "output_type": "execute_result"
    }
   ],
   "source": [
    "Hills_brands = brands[brands['BRAND'].str.contains(\"Hill's\")][['PPR_N_LEVEL4_ID', 'BRAND']]\n",
    "Hills_brands"
   ]
  },
  {
   "cell_type": "code",
   "execution_count": 153,
   "metadata": {
    "ExecuteTime": {
     "end_time": "2018-11-28T13:50:38.469024Z",
     "start_time": "2018-11-28T13:50:38.460024Z"
    }
   },
   "outputs": [],
   "source": [
    "no_sp_hills_share_dict = {a: b for a, b in list(zip(no_sp_dict_sales_share.keys(), \n",
    "                                                 no_sp_dict_sales_share.values()))\n",
    "                      if a in Hills_brands['BRAND'].values}"
   ]
  },
  {
   "cell_type": "code",
   "execution_count": 154,
   "metadata": {
    "ExecuteTime": {
     "end_time": "2018-11-28T13:50:39.623024Z",
     "start_time": "2018-11-28T13:50:39.619024Z"
    }
   },
   "outputs": [
    {
     "data": {
      "text/plain": [
       "{\"Hill's Ideal Balance\": 0.216,\n",
       " \"Hill's Natures Best\": 0.064,\n",
       " \"Hill's Prescription Diet\": 6.158,\n",
       " \"Hill's Science Plan\": 4.303,\n",
       " \"Nature's Best von Hill's\": 0.039}"
      ]
     },
     "execution_count": 154,
     "metadata": {},
     "output_type": "execute_result"
    }
   ],
   "source": [
    "no_sp_hills_share_dict"
   ]
  },
  {
   "cell_type": "code",
   "execution_count": 155,
   "metadata": {
    "ExecuteTime": {
     "end_time": "2018-11-28T13:50:40.816024Z",
     "start_time": "2018-11-28T13:50:40.807024Z"
    }
   },
   "outputs": [],
   "source": [
    "sp_hills_share_dict = {a: b for a, b in list(zip(sp_dict_sales_share.keys(), \n",
    "                                                 sp_dict_sales_share.values()))\n",
    "                      if a in Hills_brands['BRAND'].values}"
   ]
  },
  {
   "cell_type": "code",
   "execution_count": 156,
   "metadata": {
    "ExecuteTime": {
     "end_time": "2018-11-28T13:50:41.989024Z",
     "start_time": "2018-11-28T13:50:41.985024Z"
    }
   },
   "outputs": [
    {
     "data": {
      "text/plain": [
       "{\"Hill's Ideal Balance\": 0.185,\n",
       " \"Hill's Natures Best\": 0.072,\n",
       " \"Hill's Prescription Diet\": 5.478,\n",
       " \"Hill's Science Plan\": 4.138,\n",
       " \"Nature's Best von Hill's\": 0.043}"
      ]
     },
     "execution_count": 156,
     "metadata": {},
     "output_type": "execute_result"
    }
   ],
   "source": [
    "sp_hills_share_dict"
   ]
  },
  {
   "cell_type": "code",
   "execution_count": 157,
   "metadata": {
    "ExecuteTime": {
     "end_time": "2018-11-28T13:50:43.082024Z",
     "start_time": "2018-11-28T13:50:43.078024Z"
    }
   },
   "outputs": [],
   "source": [
    "no_sp_hills_share_df = pd.DataFrame.from_dict(no_sp_hills_share_dict, orient='index')\n",
    "sp_hills_share_df = pd.DataFrame.from_dict(sp_hills_share_dict, orient='index')"
   ]
  },
  {
   "cell_type": "code",
   "execution_count": 158,
   "metadata": {
    "ExecuteTime": {
     "end_time": "2018-11-28T13:50:44.239024Z",
     "start_time": "2018-11-28T13:50:44.225024Z"
    }
   },
   "outputs": [
    {
     "data": {
      "text/html": [
       "<div>\n",
       "<style scoped>\n",
       "    .dataframe tbody tr th:only-of-type {\n",
       "        vertical-align: middle;\n",
       "    }\n",
       "\n",
       "    .dataframe tbody tr th {\n",
       "        vertical-align: top;\n",
       "    }\n",
       "\n",
       "    .dataframe thead th {\n",
       "        text-align: right;\n",
       "    }\n",
       "</style>\n",
       "<table border=\"1\" class=\"dataframe\">\n",
       "  <thead>\n",
       "    <tr style=\"text-align: right;\">\n",
       "      <th></th>\n",
       "      <th>BRAND</th>\n",
       "      <th>NO_SP_ORD</th>\n",
       "      <th>SP_ORD</th>\n",
       "    </tr>\n",
       "  </thead>\n",
       "  <tbody>\n",
       "    <tr>\n",
       "      <th>Hill's Prescription Diet</th>\n",
       "      <td>Hill's Prescription Diet</td>\n",
       "      <td>6.158</td>\n",
       "      <td>5.478</td>\n",
       "    </tr>\n",
       "    <tr>\n",
       "      <th>Hill's Science Plan</th>\n",
       "      <td>Hill's Science Plan</td>\n",
       "      <td>4.303</td>\n",
       "      <td>4.138</td>\n",
       "    </tr>\n",
       "    <tr>\n",
       "      <th>Hill's Ideal Balance</th>\n",
       "      <td>Hill's Ideal Balance</td>\n",
       "      <td>0.216</td>\n",
       "      <td>0.185</td>\n",
       "    </tr>\n",
       "    <tr>\n",
       "      <th>Hill's Natures Best</th>\n",
       "      <td>Hill's Natures Best</td>\n",
       "      <td>0.064</td>\n",
       "      <td>0.072</td>\n",
       "    </tr>\n",
       "    <tr>\n",
       "      <th>Nature's Best von Hill's</th>\n",
       "      <td>Nature's Best von Hill's</td>\n",
       "      <td>0.039</td>\n",
       "      <td>0.043</td>\n",
       "    </tr>\n",
       "  </tbody>\n",
       "</table>\n",
       "</div>"
      ],
      "text/plain": [
       "                                             BRAND  NO_SP_ORD  SP_ORD\n",
       "Hill's Prescription Diet  Hill's Prescription Diet      6.158   5.478\n",
       "Hill's Science Plan            Hill's Science Plan      4.303   4.138\n",
       "Hill's Ideal Balance          Hill's Ideal Balance      0.216   0.185\n",
       "Hill's Natures Best            Hill's Natures Best      0.064   0.072\n",
       "Nature's Best von Hill's  Nature's Best von Hill's      0.039   0.043"
      ]
     },
     "execution_count": 158,
     "metadata": {},
     "output_type": "execute_result"
    }
   ],
   "source": [
    "hills_comparison = pd.concat([no_sp_hills_share_df, sp_hills_share_df], axis=1).fillna(0)\n",
    "hills_comparison.columns = ['NO_SP_ORD', 'SP_ORD']\n",
    "hills_comparison['BRAND'] = hills_comparison.index.values\n",
    "hills_comparison = hills_comparison[['BRAND', 'NO_SP_ORD', 'SP_ORD']]\n",
    "hills_comparison"
   ]
  },
  {
   "cell_type": "code",
   "execution_count": 159,
   "metadata": {
    "ExecuteTime": {
     "end_time": "2018-11-28T13:50:45.608024Z",
     "start_time": "2018-11-28T13:50:45.399024Z"
    }
   },
   "outputs": [
    {
     "data": {
      "image/png": "[encoded data removed]",
      "text/plain": [
       "<matplotlib.figure.Figure at 0xeb5fdd8>"
      ]
     },
     "metadata": {},
     "output_type": "display_data"
    }
   ],
   "source": [
    "plt.figure(figsize=(12, 6))\n",
    "x = hills_comparison['BRAND'].values\n",
    "y = hills_comparison['NO_SP_ORD'].values\n",
    "z = hills_comparison['SP_ORD'].values\n",
    "plt.barh(x, y, color='g')\n",
    "plt.barh(x, z, color='orange', alpha=0.5)\n",
    "plt.title(\"Hill's sales share in 252 days before/after SP purchasing\", fontsize=14)\n",
    "plt.ylabel('BRAND')\n",
    "plt.xlabel('Sales share %')\n",
    "plt.legend(['NO SP Orders', 'SP Orders'])\n",
    "plt.show()"
   ]
  },
  {
   "cell_type": "markdown",
   "metadata": {},
   "source": [
    "#### Hill's sales -  252 days orders before/after SP purchasing"
   ]
  },
  {
   "cell_type": "code",
   "execution_count": 160,
   "metadata": {
    "ExecuteTime": {
     "end_time": "2018-11-28T13:50:46.699024Z",
     "start_time": "2018-11-28T13:50:46.690024Z"
    }
   },
   "outputs": [],
   "source": [
    "no_sp_hills_sales_dict = {a: b for a, b in list(zip(no_sp_dict_sales_no_disc.keys(), \n",
    "                                            no_sp_dict_sales_no_disc.values()))\n",
    "                      if a in Hills_brands['BRAND'].values}"
   ]
  },
  {
   "cell_type": "code",
   "execution_count": 161,
   "metadata": {
    "ExecuteTime": {
     "end_time": "2018-11-28T13:50:47.854024Z",
     "start_time": "2018-11-28T13:50:47.849024Z"
    }
   },
   "outputs": [
    {
     "data": {
      "text/plain": [
       "{\"Hill's Ideal Balance\": 2812.23,\n",
       " \"Hill's Natures Best\": 834.85,\n",
       " \"Hill's Prescription Diet\": 80340.14,\n",
       " \"Hill's Science Plan\": 56137.33,\n",
       " \"Nature's Best von Hill's\": 507.79}"
      ]
     },
     "execution_count": 161,
     "metadata": {},
     "output_type": "execute_result"
    }
   ],
   "source": [
    "no_sp_hills_sales_dict"
   ]
  },
  {
   "cell_type": "code",
   "execution_count": 162,
   "metadata": {
    "ExecuteTime": {
     "end_time": "2018-11-28T13:50:49.030024Z",
     "start_time": "2018-11-28T13:50:49.022024Z"
    }
   },
   "outputs": [],
   "source": [
    "sp_hills_sales_dict = {a: b for a, b in list(zip(sp_dict_sales_no_disc.keys(), \n",
    "                                            sp_dict_sales_no_disc.values()))\n",
    "                      if a in Hills_brands['BRAND'].values}"
   ]
  },
  {
   "cell_type": "code",
   "execution_count": 163,
   "metadata": {
    "ExecuteTime": {
     "end_time": "2018-11-28T13:50:50.212024Z",
     "start_time": "2018-11-28T13:50:50.207024Z"
    }
   },
   "outputs": [
    {
     "data": {
      "text/plain": [
       "{\"Hill's Ideal Balance\": 3628.85,\n",
       " \"Hill's Natures Best\": 1415.76,\n",
       " \"Hill's Prescription Diet\": 107669.56,\n",
       " \"Hill's Science Plan\": 81325.77,\n",
       " \"Nature's Best von Hill's\": 851.68}"
      ]
     },
     "execution_count": 163,
     "metadata": {},
     "output_type": "execute_result"
    }
   ],
   "source": [
    "sp_hills_sales_dict"
   ]
  },
  {
   "cell_type": "code",
   "execution_count": 164,
   "metadata": {
    "ExecuteTime": {
     "end_time": "2018-11-28T13:50:51.356024Z",
     "start_time": "2018-11-28T13:50:51.352024Z"
    }
   },
   "outputs": [],
   "source": [
    "no_sp_hills_sales_df = pd.DataFrame.from_dict(no_sp_hills_sales_dict, orient='index')\n",
    "sp_hills_sales_df = pd.DataFrame.from_dict(sp_hills_sales_dict, orient='index')"
   ]
  },
  {
   "cell_type": "code",
   "execution_count": 165,
   "metadata": {
    "ExecuteTime": {
     "end_time": "2018-11-28T13:50:52.546024Z",
     "start_time": "2018-11-28T13:50:52.532024Z"
    }
   },
   "outputs": [
    {
     "data": {
      "text/html": [
       "<div>\n",
       "<style scoped>\n",
       "    .dataframe tbody tr th:only-of-type {\n",
       "        vertical-align: middle;\n",
       "    }\n",
       "\n",
       "    .dataframe tbody tr th {\n",
       "        vertical-align: top;\n",
       "    }\n",
       "\n",
       "    .dataframe thead th {\n",
       "        text-align: right;\n",
       "    }\n",
       "</style>\n",
       "<table border=\"1\" class=\"dataframe\">\n",
       "  <thead>\n",
       "    <tr style=\"text-align: right;\">\n",
       "      <th></th>\n",
       "      <th>BRAND</th>\n",
       "      <th>NO_SP_ORD</th>\n",
       "      <th>SP_ORD</th>\n",
       "    </tr>\n",
       "  </thead>\n",
       "  <tbody>\n",
       "    <tr>\n",
       "      <th>Hill's Prescription Diet</th>\n",
       "      <td>Hill's Prescription Diet</td>\n",
       "      <td>80340.14</td>\n",
       "      <td>107669.56</td>\n",
       "    </tr>\n",
       "    <tr>\n",
       "      <th>Hill's Science Plan</th>\n",
       "      <td>Hill's Science Plan</td>\n",
       "      <td>56137.33</td>\n",
       "      <td>81325.77</td>\n",
       "    </tr>\n",
       "    <tr>\n",
       "      <th>Hill's Ideal Balance</th>\n",
       "      <td>Hill's Ideal Balance</td>\n",
       "      <td>2812.23</td>\n",
       "      <td>3628.85</td>\n",
       "    </tr>\n",
       "    <tr>\n",
       "      <th>Hill's Natures Best</th>\n",
       "      <td>Hill's Natures Best</td>\n",
       "      <td>834.85</td>\n",
       "      <td>1415.76</td>\n",
       "    </tr>\n",
       "    <tr>\n",
       "      <th>Nature's Best von Hill's</th>\n",
       "      <td>Nature's Best von Hill's</td>\n",
       "      <td>507.79</td>\n",
       "      <td>851.68</td>\n",
       "    </tr>\n",
       "  </tbody>\n",
       "</table>\n",
       "</div>"
      ],
      "text/plain": [
       "                                             BRAND  NO_SP_ORD     SP_ORD\n",
       "Hill's Prescription Diet  Hill's Prescription Diet   80340.14  107669.56\n",
       "Hill's Science Plan            Hill's Science Plan   56137.33   81325.77\n",
       "Hill's Ideal Balance          Hill's Ideal Balance    2812.23    3628.85\n",
       "Hill's Natures Best            Hill's Natures Best     834.85    1415.76\n",
       "Nature's Best von Hill's  Nature's Best von Hill's     507.79     851.68"
      ]
     },
     "execution_count": 165,
     "metadata": {},
     "output_type": "execute_result"
    }
   ],
   "source": [
    "hills_sales_comparison = pd.concat([no_sp_hills_sales_df, sp_hills_sales_df], axis=1).fillna(0)\n",
    "hills_sales_comparison.columns = ['NO_SP_ORD', 'SP_ORD']\n",
    "hills_sales_comparison['BRAND'] = hills_sales_comparison.index.values\n",
    "hills_sales_comparison = hills_sales_comparison[['BRAND', 'NO_SP_ORD', 'SP_ORD']]\n",
    "hills_sales_comparison"
   ]
  },
  {
   "cell_type": "code",
   "execution_count": 166,
   "metadata": {
    "ExecuteTime": {
     "end_time": "2018-11-28T13:50:53.935024Z",
     "start_time": "2018-11-28T13:50:53.731024Z"
    }
   },
   "outputs": [
    {
     "data": {
      "image/png": "[encoded data removed]",
      "text/plain": [
       "<matplotlib.figure.Figure at 0xeb21978>"
      ]
     },
     "metadata": {},
     "output_type": "display_data"
    }
   ],
   "source": [
    "plt.figure(figsize=(12, 6))\n",
    "x = hills_sales_comparison['BRAND'].values\n",
    "y = hills_sales_comparison['NO_SP_ORD'].values\n",
    "z = hills_sales_comparison['SP_ORD'].values\n",
    "plt.barh(x, y, color='g')\n",
    "plt.barh(x, z, color='orange', alpha=0.5)\n",
    "plt.title('Hills sales in 252 days orders before/after SP purchasing', fontsize=14)\n",
    "plt.ylabel('BRAND')\n",
    "plt.xlabel('Sales')\n",
    "plt.legend(['NO SP Orders', 'SP Orders'])\n",
    "plt.show()"
   ]
  },
  {
   "cell_type": "markdown",
   "metadata": {},
   "source": [
    "##### Timedeltas between orders before/after SP purchasing (every data available for the customer, not only 252 days)"
   ]
  },
  {
   "cell_type": "code",
   "execution_count": 167,
   "metadata": {
    "ExecuteTime": {
     "end_time": "2018-11-28T13:50:55.108024Z",
     "start_time": "2018-11-28T13:50:55.103024Z"
    }
   },
   "outputs": [
    {
     "data": {
      "text/plain": [
       "Index(['CUS_N_KEY_CUSTOMER', 'SCM_N_ORDER_NR_len', 'TDT_T_KEY_ORDER_DATE_list',\n",
       "       'SCM_SALES_BMF_sum', 'SCM_SALES_BMF_list', 'SCM_D_FINANCE_CM1_sum',\n",
       "       'SCM_D_FINANCE_CM1_list', 'SCM_D_FINANCE_CM2_sum',\n",
       "       'SCM_D_FINANCE_CM2_list', 'SCM_D_ORIG_FINANCE_ORDER_NET_sum',\n",
       "       'SCM_D_ORIG_FINANCE_ORDER_NET_list', 'OSP_KO_COUNT_NET_list',\n",
       "       'SCM_MASTER_AP_ID_list', 'CZP_ZTQ_ID', 'CZP_START_DATE',\n",
       "       'CZP_EXPIRY_DATE', 'PG3_AGGSALES', 'PG4_AGGSALES', 'BRAND_AGGSALES',\n",
       "       'SP_PURCHASE', 'SP_DISC', 'D28', 'D56', 'D84', 'D168', 'D252', 'D336',\n",
       "       'O_TIMEDELTAS', 'FLAT_PG3_SALES', 'FLAT_PG4_SALES', 'FLAT_BRAND_SALES',\n",
       "       'TOTAL_PG3_SALES', 'TOTAL_PG4_SALES', 'TOTAL_BRAND_SALES', 'SP_PY_POS',\n",
       "       'DAYS_UNTIL_1st_SP', 'SP_ORDERS', 'NO_SP_ORDERS', 'DAYS_IN_DF',\n",
       "       'DAYS_AFTER_1st_SP', 'SP_CUS', 'MASK_252_BEF', 'MASK_252_AFT',\n",
       "       'ONE_ORDER_BEFORE', 'SALES_252_BEF', 'SALES_252_AFT', 'AOV_252_BEF',\n",
       "       'AOV_252_AFT', 'OF_252_BEF', 'OF_252_AFT', 'CM1_252_BEF', 'CM1_252_AFT',\n",
       "       'CM2_252_BEF', 'CM2_252_AFT', 'NET_SALES_252_BEF', 'NET_SALES_252_AFT',\n",
       "       'CM1%_252_BEF', 'CM1%_252_AFT', 'CM2%_252_BEF', 'CM2%_252_AFT',\n",
       "       'PG3_252_BEF_AGGSALES', 'PG3_252_AFT_AGGSALES',\n",
       "       'PG3_252_BEF_FLAT_SALES', 'PG3_252_AFT_FLAT_SALES',\n",
       "       'PG3_TOTAL_SALES_252_BEF', 'PG3_TOTAL_SALES_252_AFT',\n",
       "       'DICT_PG3_SALES_252_BEF', 'DICT_PG3_SALES_252_AFT',\n",
       "       'DICT_PG3_SHARE_252_BEF', 'DICT_PG3_SHARE_252_AFT', 'DIFF_PG3_252_BEF',\n",
       "       'DIFF_PG3_252_AFT', 'BRAND_SALES_252_BEF', 'BRAND_SALES_252_AFT',\n",
       "       'BRAND_FLAT_SALES_252_BEF', 'BRAND_FLAT_SALES_252_AFT'],\n",
       "      dtype='object')"
      ]
     },
     "execution_count": 167,
     "metadata": {},
     "output_type": "execute_result"
    }
   ],
   "source": [
    "sp_customers_252.columns"
   ]
  },
  {
   "cell_type": "code",
   "execution_count": 168,
   "metadata": {
    "ExecuteTime": {
     "end_time": "2018-11-28T13:50:56.281024Z",
     "start_time": "2018-11-28T13:50:56.231024Z"
    }
   },
   "outputs": [],
   "source": [
    "sp_customers_252['TD_BEFORE_SP'] = [x[:(y-1)] for x, y in list(zip(sp_customers_252['O_TIMEDELTAS'],\n",
    "                                               sp_customers_252['SP_PY_POS']))]"
   ]
  },
  {
   "cell_type": "code",
   "execution_count": 169,
   "metadata": {
    "ExecuteTime": {
     "end_time": "2018-11-28T13:50:57.439024Z",
     "start_time": "2018-11-28T13:50:57.429024Z"
    }
   },
   "outputs": [],
   "source": [
    "sp_customers_252['TD_AFTER_SP'] = [x[(y-1):] for x, y in list(zip(sp_customers_252['O_TIMEDELTAS'],\n",
    "                                               sp_customers_252['SP_PY_POS']))]"
   ]
  },
  {
   "cell_type": "code",
   "execution_count": 170,
   "metadata": {
    "ExecuteTime": {
     "end_time": "2018-11-28T13:50:58.596024Z",
     "start_time": "2018-11-28T13:50:58.591024Z"
    }
   },
   "outputs": [],
   "source": [
    "td_before_sp = [j for i in sp_customers_252['TD_BEFORE_SP'].values for j in i]"
   ]
  },
  {
   "cell_type": "code",
   "execution_count": 171,
   "metadata": {
    "ExecuteTime": {
     "end_time": "2018-11-28T13:50:59.748024Z",
     "start_time": "2018-11-28T13:50:59.743024Z"
    }
   },
   "outputs": [],
   "source": [
    "td_after_sp = [j for i in sp_customers_252['TD_AFTER_SP'].values for j in i]"
   ]
  },
  {
   "cell_type": "code",
   "execution_count": 172,
   "metadata": {
    "ExecuteTime": {
     "end_time": "2018-11-28T13:51:01.719024Z",
     "start_time": "2018-11-28T13:51:00.940024Z"
    }
   },
   "outputs": [
    {
     "data": {
      "image/png": "[encoded data removed]",
      "text/plain": [
       "<matplotlib.figure.Figure at 0xe8dd710>"
      ]
     },
     "metadata": {},
     "output_type": "display_data"
    },
    {
     "data": {
      "text/html": [
       "<div>\n",
       "<style scoped>\n",
       "    .dataframe tbody tr th:only-of-type {\n",
       "        vertical-align: middle;\n",
       "    }\n",
       "\n",
       "    .dataframe tbody tr th {\n",
       "        vertical-align: top;\n",
       "    }\n",
       "\n",
       "    .dataframe thead th {\n",
       "        text-align: right;\n",
       "    }\n",
       "</style>\n",
       "<table border=\"1\" class=\"dataframe\">\n",
       "  <thead>\n",
       "    <tr style=\"text-align: right;\">\n",
       "      <th></th>\n",
       "      <th>Without SP orders</th>\n",
       "      <th>With SP orders</th>\n",
       "    </tr>\n",
       "  </thead>\n",
       "  <tbody>\n",
       "    <tr>\n",
       "      <th>25%</th>\n",
       "      <td>26.00</td>\n",
       "      <td>25.00</td>\n",
       "    </tr>\n",
       "    <tr>\n",
       "      <th>50%</th>\n",
       "      <td>48.00</td>\n",
       "      <td>45.00</td>\n",
       "    </tr>\n",
       "    <tr>\n",
       "      <th>75%</th>\n",
       "      <td>85.00</td>\n",
       "      <td>77.00</td>\n",
       "    </tr>\n",
       "    <tr>\n",
       "      <th>count</th>\n",
       "      <td>31247.00</td>\n",
       "      <td>49685.00</td>\n",
       "    </tr>\n",
       "    <tr>\n",
       "      <th>max</th>\n",
       "      <td>799.00</td>\n",
       "      <td>660.00</td>\n",
       "    </tr>\n",
       "    <tr>\n",
       "      <th>mean</th>\n",
       "      <td>69.55</td>\n",
       "      <td>59.42</td>\n",
       "    </tr>\n",
       "    <tr>\n",
       "      <th>min</th>\n",
       "      <td>0.00</td>\n",
       "      <td>0.00</td>\n",
       "    </tr>\n",
       "    <tr>\n",
       "      <th>std</th>\n",
       "      <td>74.22</td>\n",
       "      <td>53.24</td>\n",
       "    </tr>\n",
       "  </tbody>\n",
       "</table>\n",
       "</div>"
      ],
      "text/plain": [
       "       Without SP orders  With SP orders\n",
       "25%                26.00           25.00\n",
       "50%                48.00           45.00\n",
       "75%                85.00           77.00\n",
       "count           31247.00        49685.00\n",
       "max               799.00          660.00\n",
       "mean               69.55           59.42\n",
       "min                 0.00            0.00\n",
       "std                74.22           53.24"
      ]
     },
     "metadata": {},
     "output_type": "display_data"
    }
   ],
   "source": [
    "concat_df = pd.DataFrame()\n",
    "\n",
    "plt.figure(figsize=(12, 8))\n",
    "plt.hist(td_before_sp, bins=210, range=(0, 210), color='g', alpha=0.5)\n",
    "plt.hist(td_after_sp, bins=210, range=(0, 210), color='orange', alpha=0.5)\n",
    "plt.title(\"Timedeltas between orders before/after SP purchasing \", fontsize=14)\n",
    "plt.xlabel('Timedeltas')\n",
    "plt.legend(['Without SP orders', 'With SP orders'])\n",
    "plt.show()\n",
    "\n",
    "before_sp_td = pd.DataFrame(np.array(td_before_sp).reshape(len(td_before_sp), 1), columns= ['TD_BEFORE_SP'])\n",
    "after_sp_td = pd.DataFrame(np.array(td_after_sp).reshape(len(td_after_sp), 1), columns= ['TD_AFTER_SP'])\n",
    "\n",
    "concat_df = pd.concat([concat_df,\n",
    "                    before_sp_td['TD_BEFORE_SP'].describe().round(2),\n",
    "                    after_sp_td['TD_AFTER_SP'].describe().round(2),\n",
    "                      ], axis=1)\n",
    "\n",
    "concat_df.columns = ['Without SP orders', 'With SP orders']\n",
    "display(concat_df)"
   ]
  },
  {
   "cell_type": "code",
   "execution_count": null,
   "metadata": {},
   "outputs": [],
   "source": []
  }
 ],
 "metadata": {
  "hide_input": false,
  "kernelspec": {
   "display_name": "Python [conda env:py36]",
   "language": "python",
   "name": "conda-env-py36-py"
  },
  "language_info": {
   "codemirror_mode": {
    "name": "ipython",
    "version": 3
   },
   "file_extension": ".py",
   "mimetype": "text/x-python",
   "name": "python",
   "nbconvert_exporter": "python",
   "pygments_lexer": "ipython3",
   "version": "3.6.4"
  },
  "toc": {
   "base_numbering": 1,
   "nav_menu": {},
   "number_sections": true,
   "sideBar": true,
   "skip_h1_title": false,
   "title_cell": "Table of Contents",
   "title_sidebar": "Contents",
   "toc_cell": false,
   "toc_position": {},
   "toc_section_display": true,
   "toc_window_display": false
  },
  "varInspector": {
   "cols": {
    "lenName": 16,
    "lenType": 16,
    "lenVar": 40
   },
   "kernels_config": {
    "python": {
     "delete_cmd_postfix": "",
     "delete_cmd_prefix": "del ",
     "library": "var_list.py",
     "varRefreshCmd": "print(var_dic_list())"
    },
    "r": {
     "delete_cmd_postfix": ") ",
     "delete_cmd_prefix": "rm(",
     "library": "var_list.r",
     "varRefreshCmd": "cat(var_dic_list()) "
    }
   },
   "types_to_exclude": [
    "module",
    "function",
    "builtin_function_or_method",
    "instance",
    "_Feature"
   ],
   "window_display": false
  }
 },
 "nbformat": 4,
 "nbformat_minor": 2
}
