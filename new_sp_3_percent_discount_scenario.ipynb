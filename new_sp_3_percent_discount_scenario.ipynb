{
 "cells": [
  {
   "cell_type": "code",
   "execution_count": 1,
   "metadata": {
    "ExecuteTime": {
     "end_time": "2018-10-24T10:18:39.916109Z",
     "start_time": "2018-10-24T10:18:38.326109Z"
    }
   },
   "outputs": [],
   "source": [
    "import numpy as np\n",
    "import pandas as pd\n",
    "import matplotlib.pyplot as plt\n",
    "%matplotlib inline\n",
    "from IPython.display import display\n",
    "from scipy import stats\n",
    "from statistics import stdev\n",
    "import datetime\n",
    "from datetime import timedelta\n",
    "from collections import Counter\n",
    "from statsmodels.stats.proportion import proportion_confint\n",
    "import cx_Oracle\n",
    "import psycopg2\n",
    "import seaborn as sns\n",
    "import json\n",
    "import pickle\n",
    "from fitter import Fitter\n",
    "from warnings import filterwarnings\n",
    "filterwarnings('ignore')"
   ]
  },
  {
   "cell_type": "code",
   "execution_count": 2,
   "metadata": {
    "ExecuteTime": {
     "end_time": "2018-10-24T10:18:39.925109Z",
     "start_time": "2018-10-24T10:18:39.918109Z"
    }
   },
   "outputs": [
    {
     "data": {
      "text/plain": [
       "datetime.date(2018, 4, 7)"
      ]
     },
     "execution_count": 2,
     "metadata": {},
     "output_type": "execute_result"
    }
   ],
   "source": [
    "datetime.datetime.now().date() - timedelta(days=200)"
   ]
  },
  {
   "cell_type": "code",
   "execution_count": 3,
   "metadata": {
    "ExecuteTime": {
     "end_time": "2018-10-24T10:18:39.951109Z",
     "start_time": "2018-10-24T10:18:39.926109Z"
    }
   },
   "outputs": [
    {
     "data": {
      "text/plain": [
       "datetime.date(2018, 6, 30)"
      ]
     },
     "execution_count": 3,
     "metadata": {},
     "output_type": "execute_result"
    }
   ],
   "source": [
    "datetime.datetime.now().date() - timedelta(days=116)"
   ]
  },
  {
   "cell_type": "code",
   "execution_count": 4,
   "metadata": {
    "ExecuteTime": {
     "end_time": "2018-10-24T10:18:39.967109Z",
     "start_time": "2018-10-24T10:18:39.952109Z"
    }
   },
   "outputs": [
    {
     "data": {
      "text/plain": [
       "datetime.date(2018, 9, 22)"
      ]
     },
     "execution_count": 4,
     "metadata": {},
     "output_type": "execute_result"
    }
   ],
   "source": [
    "datetime.datetime.now().date() - timedelta(days=116) + timedelta(days=84)"
   ]
  },
  {
   "cell_type": "markdown",
   "metadata": {},
   "source": [
    "**For those IT shop customers who placed their 1st order whenever between 06/04/18 and 29/06/18 (84 days) let's get also their 2nd IT shop orders in case they took place in a window of 168 days from the first date (until 21/09/18)**"
   ]
  },
  {
   "cell_type": "raw",
   "metadata": {},
   "source": [
    "select \n",
    "scm.scm_n_order_pos_nr, scm.scm_n_order_nr, scm.tdt_t_key_order_date, scm.THR_C_KEY_ORDER_HOUR, scm.SIT_N_KEY_SITE,\n",
    "scm.SCM_SALES_BMF, scm.SCM_D_FINANCE_CM1, scm.SCM_D_FINANCE_CM2, scm.SCM_D_ORIG_FINANCE_ORDER_NET,\n",
    "scm.SCM_AP_ID, scm.SCM_AS_ID, scm.SCM_MASTER_AP_ID, \n",
    "osp.OSP_KO_COUNT_NET, osp.OSP_3_LEAD_P_PG_ID, osp.OSP_3_LEAD_P_PG_SHARE, osp.OSP_4_LEAD_P_PG_ID, osp.OSP_4_LEAD_P_PG_SHARE,\n",
    "czp.CZP_START_DATE, czp.CZP_EXPIRY_DATE, czp.CZP_ZTQ_ID, czp.CZP_PERCENTAGE, czp.CZP_PRICE\n",
    "from zoocube.ddstf_scm_sales_contrib_margin scm\n",
    "join ZOOMAN.ORDER_SALES_PROFILE osp\n",
    "on osp.OSP_O_ID = scm.SCM_N_ORDER_NR\n",
    "left outer join ZOOMAN.CUSTOMERS_ZOOPRIME_PLANS czp\n",
    "on scm.CUS_N_KEY_CUSTOMER = czp.CZP_K_ID\n",
    "and czp.CZP_EXPIRY_DATE > to_date((to_char(TDT_T_KEY_ORDER_DATE, 'dd/mm/yyyy') ||' '|| THR_C_KEY_ORDER_HOUR), 'dd/mm/yyyy HH24:MI')\n",
    "and czp.CZP_START_DATE <= to_date((to_char(TDT_T_KEY_ORDER_DATE, 'dd/mm/yyyy') ||' '|| THR_C_KEY_ORDER_HOUR), 'dd/mm/yyyy HH24:MI') + interval '2' minute\n",
    "where SIT_N_KEY_SITE = 12\n",
    "and (scm.SCM_C_ORDER_STATUS = 'L' OR scm.SCM_C_ORDER_STATUS = 'VK')\n",
    "and scm.TDT_T_KEY_ORDER_DATE <= to_date('21/09/18', 'DD/MM/YY') -- 168 days timedelta\n",
    "and scm.SCM_SALES_CANCEL_BMF = 0\n",
    "and scm.CUS_N_KEY_CUSTOMER IN (\n",
    "select distinct scm.CUS_N_KEY_CUSTOMER\n",
    "from zoocube.ddstf_scm_sales_contrib_margin scm\n",
    "join ZOOMAN.ORDER_SALES_PROFILE osp\n",
    "on osp.OSP_O_ID = scm.SCM_N_ORDER_NR\n",
    "where SIT_N_KEY_SITE = 12\n",
    "and (scm.SCM_C_ORDER_STATUS = 'L' OR scm.SCM_C_ORDER_STATUS = 'VK')\n",
    "and ((TDT_T_KEY_ORDER_DATE >= to_date('06/04/18', 'DD/MM/YY') and TDT_T_KEY_ORDER_DATE <= to_date('29/06/18', 'DD/MM/YY'))) -- 84 days timedelta\n",
    "and osp.OSP_KO_COUNT_NET = 1\n",
    ")\n",
    "and osp.OSP_KO_COUNT_NET in (1, 2) \n",
    ";"
   ]
  },
  {
   "cell_type": "markdown",
   "metadata": {},
   "source": [
    "### Data loading, cleaning & formatting"
   ]
  },
  {
   "cell_type": "code",
   "execution_count": 5,
   "metadata": {
    "ExecuteTime": {
     "end_time": "2018-10-24T10:18:40.834109Z",
     "start_time": "2018-10-24T10:18:39.968109Z"
    }
   },
   "outputs": [],
   "source": [
    "data = pd.read_csv('nc_orders_it_84_days.dsv', sep=';', low_memory=False)"
   ]
  },
  {
   "cell_type": "code",
   "execution_count": 6,
   "metadata": {
    "ExecuteTime": {
     "end_time": "2018-10-24T10:18:40.862109Z",
     "start_time": "2018-10-24T10:18:40.836109Z"
    }
   },
   "outputs": [
    {
     "data": {
      "text/html": [
       "<div>\n",
       "<style scoped>\n",
       "    .dataframe tbody tr th:only-of-type {\n",
       "        vertical-align: middle;\n",
       "    }\n",
       "\n",
       "    .dataframe tbody tr th {\n",
       "        vertical-align: top;\n",
       "    }\n",
       "\n",
       "    .dataframe thead th {\n",
       "        text-align: right;\n",
       "    }\n",
       "</style>\n",
       "<table border=\"1\" class=\"dataframe\">\n",
       "  <thead>\n",
       "    <tr style=\"text-align: right;\">\n",
       "      <th></th>\n",
       "      <th>SCM_N_ORDER_POS_NR</th>\n",
       "      <th>SCM_N_ORDER_NR</th>\n",
       "      <th>TDT_T_KEY_ORDER_DATE</th>\n",
       "      <th>THR_C_KEY_ORDER_HOUR</th>\n",
       "      <th>SIT_N_KEY_SITE</th>\n",
       "      <th>CUS_N_KEY_CUSTOMER</th>\n",
       "      <th>SCM_SALES_BMF</th>\n",
       "      <th>SCM_D_FINANCE_CM1</th>\n",
       "      <th>SCM_D_FINANCE_CM2</th>\n",
       "      <th>SCM_D_ORIG_FINANCE_ORDER_NET</th>\n",
       "      <th>...</th>\n",
       "      <th>OSP_KO_COUNT_NET</th>\n",
       "      <th>OSP_3_LEAD_P_PG_ID</th>\n",
       "      <th>OSP_3_LEAD_P_PG_SHARE</th>\n",
       "      <th>OSP_4_LEAD_P_PG_ID</th>\n",
       "      <th>OSP_4_LEAD_P_PG_SHARE</th>\n",
       "      <th>CZP_START_DATE</th>\n",
       "      <th>CZP_EXPIRY_DATE</th>\n",
       "      <th>CZP_ZTQ_ID</th>\n",
       "      <th>CZP_PERCENTAGE</th>\n",
       "      <th>CZP_PRICE</th>\n",
       "    </tr>\n",
       "  </thead>\n",
       "  <tbody>\n",
       "    <tr>\n",
       "      <th>0</th>\n",
       "      <td>479745111</td>\n",
       "      <td>112813025</td>\n",
       "      <td>15/06/2018 00:00</td>\n",
       "      <td>01:44</td>\n",
       "      <td>12</td>\n",
       "      <td>17352072</td>\n",
       "      <td>2,99</td>\n",
       "      <td>2,4508</td>\n",
       "      <td>2,4508</td>\n",
       "      <td>2,4508</td>\n",
       "      <td>...</td>\n",
       "      <td>1</td>\n",
       "      <td>301</td>\n",
       "      <td>0,513</td>\n",
       "      <td>10331</td>\n",
       "      <td>0,513</td>\n",
       "      <td>17/07/2017 22:15</td>\n",
       "      <td>17/07/2018 23:59</td>\n",
       "      <td>56.0</td>\n",
       "      <td>5.0</td>\n",
       "      <td>4,99</td>\n",
       "    </tr>\n",
       "    <tr>\n",
       "      <th>1</th>\n",
       "      <td>479745108</td>\n",
       "      <td>112813025</td>\n",
       "      <td>15/06/2018 00:00</td>\n",
       "      <td>01:44</td>\n",
       "      <td>12</td>\n",
       "      <td>17352072</td>\n",
       "      <td>19,99</td>\n",
       "      <td>8,6452</td>\n",
       "      <td>1,584</td>\n",
       "      <td>16,3852</td>\n",
       "      <td>...</td>\n",
       "      <td>1</td>\n",
       "      <td>301</td>\n",
       "      <td>0,513</td>\n",
       "      <td>10331</td>\n",
       "      <td>0,513</td>\n",
       "      <td>17/07/2017 22:15</td>\n",
       "      <td>17/07/2018 23:59</td>\n",
       "      <td>56.0</td>\n",
       "      <td>5.0</td>\n",
       "      <td>4,99</td>\n",
       "    </tr>\n",
       "    <tr>\n",
       "      <th>2</th>\n",
       "      <td>479745107</td>\n",
       "      <td>112813025</td>\n",
       "      <td>15/06/2018 00:00</td>\n",
       "      <td>01:44</td>\n",
       "      <td>12</td>\n",
       "      <td>17352072</td>\n",
       "      <td>9,99</td>\n",
       "      <td>3,6285</td>\n",
       "      <td>3,2771</td>\n",
       "      <td>8,1885</td>\n",
       "      <td>...</td>\n",
       "      <td>1</td>\n",
       "      <td>301</td>\n",
       "      <td>0,513</td>\n",
       "      <td>10331</td>\n",
       "      <td>0,513</td>\n",
       "      <td>17/07/2017 22:15</td>\n",
       "      <td>17/07/2018 23:59</td>\n",
       "      <td>56.0</td>\n",
       "      <td>5.0</td>\n",
       "      <td>4,99</td>\n",
       "    </tr>\n",
       "    <tr>\n",
       "      <th>3</th>\n",
       "      <td>479745109</td>\n",
       "      <td>112813025</td>\n",
       "      <td>15/06/2018 00:00</td>\n",
       "      <td>01:44</td>\n",
       "      <td>12</td>\n",
       "      <td>17352072</td>\n",
       "      <td>8,99</td>\n",
       "      <td>2,6089</td>\n",
       "      <td>1,9076</td>\n",
       "      <td>7,3689</td>\n",
       "      <td>...</td>\n",
       "      <td>1</td>\n",
       "      <td>301</td>\n",
       "      <td>0,513</td>\n",
       "      <td>10331</td>\n",
       "      <td>0,513</td>\n",
       "      <td>17/07/2017 22:15</td>\n",
       "      <td>17/07/2018 23:59</td>\n",
       "      <td>56.0</td>\n",
       "      <td>5.0</td>\n",
       "      <td>4,99</td>\n",
       "    </tr>\n",
       "    <tr>\n",
       "      <th>4</th>\n",
       "      <td>479745110</td>\n",
       "      <td>112813025</td>\n",
       "      <td>15/06/2018 00:00</td>\n",
       "      <td>01:44</td>\n",
       "      <td>12</td>\n",
       "      <td>17352072</td>\n",
       "      <td>-1,95</td>\n",
       "      <td>-1,5984</td>\n",
       "      <td>-1,5984</td>\n",
       "      <td>-1,5984</td>\n",
       "      <td>...</td>\n",
       "      <td>1</td>\n",
       "      <td>301</td>\n",
       "      <td>0,513</td>\n",
       "      <td>10331</td>\n",
       "      <td>0,513</td>\n",
       "      <td>17/07/2017 22:15</td>\n",
       "      <td>17/07/2018 23:59</td>\n",
       "      <td>56.0</td>\n",
       "      <td>5.0</td>\n",
       "      <td>4,99</td>\n",
       "    </tr>\n",
       "  </tbody>\n",
       "</table>\n",
       "<p>5 rows × 23 columns</p>\n",
       "</div>"
      ],
      "text/plain": [
       "   SCM_N_ORDER_POS_NR  SCM_N_ORDER_NR TDT_T_KEY_ORDER_DATE  \\\n",
       "0           479745111       112813025     15/06/2018 00:00   \n",
       "1           479745108       112813025     15/06/2018 00:00   \n",
       "2           479745107       112813025     15/06/2018 00:00   \n",
       "3           479745109       112813025     15/06/2018 00:00   \n",
       "4           479745110       112813025     15/06/2018 00:00   \n",
       "\n",
       "  THR_C_KEY_ORDER_HOUR  SIT_N_KEY_SITE  CUS_N_KEY_CUSTOMER SCM_SALES_BMF  \\\n",
       "0                01:44              12            17352072          2,99   \n",
       "1                01:44              12            17352072         19,99   \n",
       "2                01:44              12            17352072          9,99   \n",
       "3                01:44              12            17352072          8,99   \n",
       "4                01:44              12            17352072         -1,95   \n",
       "\n",
       "  SCM_D_FINANCE_CM1 SCM_D_FINANCE_CM2 SCM_D_ORIG_FINANCE_ORDER_NET    ...     \\\n",
       "0            2,4508            2,4508                       2,4508    ...      \n",
       "1            8,6452             1,584                      16,3852    ...      \n",
       "2            3,6285            3,2771                       8,1885    ...      \n",
       "3            2,6089            1,9076                       7,3689    ...      \n",
       "4           -1,5984           -1,5984                      -1,5984    ...      \n",
       "\n",
       "   OSP_KO_COUNT_NET  OSP_3_LEAD_P_PG_ID  OSP_3_LEAD_P_PG_SHARE  \\\n",
       "0                 1                 301                  0,513   \n",
       "1                 1                 301                  0,513   \n",
       "2                 1                 301                  0,513   \n",
       "3                 1                 301                  0,513   \n",
       "4                 1                 301                  0,513   \n",
       "\n",
       "   OSP_4_LEAD_P_PG_ID  OSP_4_LEAD_P_PG_SHARE    CZP_START_DATE  \\\n",
       "0               10331                  0,513  17/07/2017 22:15   \n",
       "1               10331                  0,513  17/07/2017 22:15   \n",
       "2               10331                  0,513  17/07/2017 22:15   \n",
       "3               10331                  0,513  17/07/2017 22:15   \n",
       "4               10331                  0,513  17/07/2017 22:15   \n",
       "\n",
       "    CZP_EXPIRY_DATE CZP_ZTQ_ID CZP_PERCENTAGE CZP_PRICE  \n",
       "0  17/07/2018 23:59       56.0            5.0      4,99  \n",
       "1  17/07/2018 23:59       56.0            5.0      4,99  \n",
       "2  17/07/2018 23:59       56.0            5.0      4,99  \n",
       "3  17/07/2018 23:59       56.0            5.0      4,99  \n",
       "4  17/07/2018 23:59       56.0            5.0      4,99  \n",
       "\n",
       "[5 rows x 23 columns]"
      ]
     },
     "execution_count": 6,
     "metadata": {},
     "output_type": "execute_result"
    }
   ],
   "source": [
    "data.head()"
   ]
  },
  {
   "cell_type": "code",
   "execution_count": 7,
   "metadata": {
    "ExecuteTime": {
     "end_time": "2018-10-24T10:18:41.019109Z",
     "start_time": "2018-10-24T10:18:40.864109Z"
    }
   },
   "outputs": [
    {
     "name": "stdout",
     "output_type": "stream",
     "text": [
      "<class 'pandas.core.frame.DataFrame'>\n",
      "RangeIndex: 186121 entries, 0 to 186120\n",
      "Data columns (total 23 columns):\n",
      "SCM_N_ORDER_POS_NR              186121 non-null int64\n",
      "SCM_N_ORDER_NR                  186121 non-null int64\n",
      "TDT_T_KEY_ORDER_DATE            186121 non-null object\n",
      "THR_C_KEY_ORDER_HOUR            186121 non-null object\n",
      "SIT_N_KEY_SITE                  186121 non-null int64\n",
      "CUS_N_KEY_CUSTOMER              186121 non-null int64\n",
      "SCM_SALES_BMF                   186121 non-null object\n",
      "SCM_D_FINANCE_CM1               186121 non-null object\n",
      "SCM_D_FINANCE_CM2               186121 non-null object\n",
      "SCM_D_ORIG_FINANCE_ORDER_NET    186121 non-null object\n",
      "SCM_AP_ID                       186121 non-null int64\n",
      "SCM_AS_ID                       186121 non-null int64\n",
      "SCM_MASTER_AP_ID                186121 non-null int64\n",
      "OSP_KO_COUNT_NET                186121 non-null int64\n",
      "OSP_3_LEAD_P_PG_ID              186121 non-null int64\n",
      "OSP_3_LEAD_P_PG_SHARE           186121 non-null object\n",
      "OSP_4_LEAD_P_PG_ID              186121 non-null int64\n",
      "OSP_4_LEAD_P_PG_SHARE           186121 non-null object\n",
      "CZP_START_DATE                  24396 non-null object\n",
      "CZP_EXPIRY_DATE                 24396 non-null object\n",
      "CZP_ZTQ_ID                      24396 non-null float64\n",
      "CZP_PERCENTAGE                  24396 non-null float64\n",
      "CZP_PRICE                       24396 non-null object\n",
      "dtypes: float64(2), int64(10), object(11)\n",
      "memory usage: 32.7+ MB\n"
     ]
    }
   ],
   "source": [
    "data.info(verbose=True)"
   ]
  },
  {
   "cell_type": "code",
   "execution_count": 8,
   "metadata": {
    "ExecuteTime": {
     "end_time": "2018-10-24T10:18:41.023109Z",
     "start_time": "2018-10-24T10:18:41.020109Z"
    }
   },
   "outputs": [],
   "source": [
    "def get_date(x):\n",
    "    return x.split(' ')[0]"
   ]
  },
  {
   "cell_type": "code",
   "execution_count": 9,
   "metadata": {
    "ExecuteTime": {
     "end_time": "2018-10-24T10:18:41.115109Z",
     "start_time": "2018-10-24T10:18:41.024109Z"
    }
   },
   "outputs": [],
   "source": [
    "data['TDT_T_KEY_ORDER_DATE'] = data['TDT_T_KEY_ORDER_DATE'].map(get_date)"
   ]
  },
  {
   "cell_type": "code",
   "execution_count": 10,
   "metadata": {
    "ExecuteTime": {
     "end_time": "2018-10-24T10:18:43.739109Z",
     "start_time": "2018-10-24T10:18:41.116109Z"
    }
   },
   "outputs": [],
   "source": [
    "data['TDT_T_KEY_ORDER_DATE'] = pd.to_datetime(data['TDT_T_KEY_ORDER_DATE'], format=\"%d/%m/%Y\")\n",
    "data['ORDER_DATETIME'] = data['TDT_T_KEY_ORDER_DATE'].astype(str) + ' ' + data['THR_C_KEY_ORDER_HOUR'].astype(str) + ':00'\n",
    "data['ORDER_DATETIME'] = pd.to_datetime(data['ORDER_DATETIME'], format=\"%Y/%m/%d %H:%M:%S\")\n",
    "data['CZP_START_DATE'] = pd.to_datetime(data['CZP_START_DATE'], format=\"%d/%m/%Y %H:%M\")\n",
    "data['CZP_EXPIRY_DATE'] = pd.to_datetime(data['CZP_EXPIRY_DATE'], format=\"%d/%m/%Y %H:%M\")\n",
    "\n",
    "data['SCM_SALES_BMF'] = [float(str(i).replace(',','.')) for i in data['SCM_SALES_BMF'].values]\n",
    "data['SCM_D_ORIG_FINANCE_ORDER_NET'] = [float(str(i).replace(',','.')) for i in data['SCM_D_ORIG_FINANCE_ORDER_NET'].values]\n",
    "data['SCM_D_FINANCE_CM1'] = [float(str(i).replace(',','.')) for i in data['SCM_D_FINANCE_CM1'].values]\n",
    "data['SCM_D_FINANCE_CM2'] = [float(str(i).replace(',','.')) for i in data['SCM_D_FINANCE_CM2'].values]\n",
    "data['CZP_PRICE'] = [float(str(i).replace(',','.')) for i in data['CZP_PRICE'].values]\n",
    "data['OSP_3_LEAD_P_PG_SHARE'] = [float(str(i).replace(',','.')) for i in data['OSP_3_LEAD_P_PG_SHARE'].values]\n",
    "data['OSP_4_LEAD_P_PG_SHARE'] = [float(str(i).replace(',','.')) for i in data['OSP_4_LEAD_P_PG_SHARE'].values]\n",
    "\n",
    "data['WEEK_NUMBER'] = data['TDT_T_KEY_ORDER_DATE'].dt.week\n",
    "data['MONTH_NUMBER'] = data['TDT_T_KEY_ORDER_DATE'].dt.month"
   ]
  },
  {
   "cell_type": "code",
   "execution_count": 11,
   "metadata": {
    "ExecuteTime": {
     "end_time": "2018-10-24T10:18:43.747109Z",
     "start_time": "2018-10-24T10:18:43.740109Z"
    }
   },
   "outputs": [],
   "source": [
    "data['CZP_ZTQ_ID'] = data['CZP_ZTQ_ID'].fillna(0).astype(int)"
   ]
  },
  {
   "cell_type": "code",
   "execution_count": 12,
   "metadata": {
    "ExecuteTime": {
     "end_time": "2018-10-24T10:18:43.764109Z",
     "start_time": "2018-10-24T10:18:43.748109Z"
    }
   },
   "outputs": [
    {
     "data": {
      "text/plain": [
       "(array([1, 2], dtype=int64), array([56, 55,  0], dtype=int64))"
      ]
     },
     "execution_count": 12,
     "metadata": {},
     "output_type": "execute_result"
    }
   ],
   "source": [
    "#Order counter in our data, different tiers appearing in dataset...\n",
    "data['OSP_KO_COUNT_NET'].unique(), data['CZP_ZTQ_ID'].unique()"
   ]
  },
  {
   "cell_type": "code",
   "execution_count": 13,
   "metadata": {
    "ExecuteTime": {
     "end_time": "2018-10-24T10:18:43.836109Z",
     "start_time": "2018-10-24T10:18:43.765109Z"
    }
   },
   "outputs": [
    {
     "data": {
      "text/plain": [
       "0     49393\n",
       "56     3302\n",
       "55      832\n",
       "Name: CZP_ZTQ_ID, dtype: int64"
      ]
     },
     "execution_count": 13,
     "metadata": {},
     "output_type": "execute_result"
    }
   ],
   "source": [
    "#Orders belonging to each tier\n",
    "data.groupby('SCM_N_ORDER_NR')['CZP_ZTQ_ID'].min().value_counts()"
   ]
  },
  {
   "cell_type": "code",
   "execution_count": 14,
   "metadata": {
    "ExecuteTime": {
     "end_time": "2018-10-24T10:18:49.021109Z",
     "start_time": "2018-10-24T10:18:43.837109Z"
    }
   },
   "outputs": [],
   "source": [
    "#boolean mask with duplicated orders as True\n",
    "dupl_mask = [len(i) > 1 for i in data.groupby('SCM_N_ORDER_NR')['CZP_START_DATE'].unique().values]"
   ]
  },
  {
   "cell_type": "code",
   "execution_count": 15,
   "metadata": {
    "ExecuteTime": {
     "end_time": "2018-10-24T10:18:54.249109Z",
     "start_time": "2018-10-24T10:18:49.022109Z"
    }
   },
   "outputs": [],
   "source": [
    "#get duplicated order IDs\n",
    "dup_orders = data.groupby('SCM_N_ORDER_NR')['CZP_START_DATE'].unique()[dupl_mask].index.values"
   ]
  },
  {
   "cell_type": "code",
   "execution_count": 16,
   "metadata": {
    "ExecuteTime": {
     "end_time": "2018-10-24T10:18:54.254109Z",
     "start_time": "2018-10-24T10:18:54.250109Z"
    }
   },
   "outputs": [
    {
     "data": {
      "text/plain": [
       "(0, array([], dtype=int64))"
      ]
     },
     "execution_count": 16,
     "metadata": {},
     "output_type": "execute_result"
    }
   ],
   "source": [
    "#NO duplicated orders\n",
    "len(dup_orders), dup_orders"
   ]
  },
  {
   "cell_type": "code",
   "execution_count": 17,
   "metadata": {
    "ExecuteTime": {
     "end_time": "2018-10-24T10:18:54.269109Z",
     "start_time": "2018-10-24T10:18:54.255109Z"
    }
   },
   "outputs": [
    {
     "data": {
      "text/plain": [
       "186121"
      ]
     },
     "execution_count": 17,
     "metadata": {},
     "output_type": "execute_result"
    }
   ],
   "source": [
    "len(data)"
   ]
  },
  {
   "cell_type": "code",
   "execution_count": 18,
   "metadata": {
    "ExecuteTime": {
     "end_time": "2018-10-24T10:18:54.281109Z",
     "start_time": "2018-10-24T10:18:54.270109Z"
    }
   },
   "outputs": [],
   "source": [
    "#data.to_pickle(\"./nc_orders_it_84_days.pkl\")"
   ]
  },
  {
   "cell_type": "code",
   "execution_count": 19,
   "metadata": {
    "ExecuteTime": {
     "end_time": "2018-10-24T10:18:54.361109Z",
     "start_time": "2018-10-24T10:18:54.284109Z"
    }
   },
   "outputs": [],
   "source": [
    "data = pd.read_pickle(\"./nc_orders_it_84_days.pkl\")"
   ]
  },
  {
   "cell_type": "code",
   "execution_count": 20,
   "metadata": {
    "ExecuteTime": {
     "end_time": "2018-10-24T10:18:54.371109Z",
     "start_time": "2018-10-24T10:18:54.362109Z"
    }
   },
   "outputs": [
    {
     "data": {
      "text/plain": [
       "53527"
      ]
     },
     "execution_count": 20,
     "metadata": {},
     "output_type": "execute_result"
    }
   ],
   "source": [
    "data['SCM_N_ORDER_NR'].nunique()"
   ]
  },
  {
   "cell_type": "code",
   "execution_count": 21,
   "metadata": {
    "ExecuteTime": {
     "end_time": "2018-10-24T10:18:54.385109Z",
     "start_time": "2018-10-24T10:18:54.373109Z"
    }
   },
   "outputs": [
    {
     "data": {
      "text/plain": [
       "Index(['SCM_N_ORDER_POS_NR', 'SCM_N_ORDER_NR', 'TDT_T_KEY_ORDER_DATE',\n",
       "       'THR_C_KEY_ORDER_HOUR', 'SIT_N_KEY_SITE', 'CUS_N_KEY_CUSTOMER',\n",
       "       'SCM_SALES_BMF', 'SCM_D_FINANCE_CM1', 'SCM_D_FINANCE_CM2',\n",
       "       'SCM_D_ORIG_FINANCE_ORDER_NET', 'SCM_AP_ID', 'SCM_AS_ID',\n",
       "       'SCM_MASTER_AP_ID', 'OSP_KO_COUNT_NET', 'OSP_3_LEAD_P_PG_ID',\n",
       "       'OSP_3_LEAD_P_PG_SHARE', 'OSP_4_LEAD_P_PG_ID', 'OSP_4_LEAD_P_PG_SHARE',\n",
       "       'CZP_START_DATE', 'CZP_EXPIRY_DATE', 'CZP_ZTQ_ID', 'CZP_PERCENTAGE',\n",
       "       'CZP_PRICE', 'ORDER_DATETIME', 'WEEK_NUMBER', 'MONTH_NUMBER'],\n",
       "      dtype='object')"
      ]
     },
     "execution_count": 21,
     "metadata": {},
     "output_type": "execute_result"
    }
   ],
   "source": [
    "data.columns"
   ]
  },
  {
   "cell_type": "markdown",
   "metadata": {},
   "source": [
    "#### From order_position to order level"
   ]
  },
  {
   "cell_type": "code",
   "execution_count": 22,
   "metadata": {
    "ExecuteTime": {
     "end_time": "2018-10-24T10:18:54.397109Z",
     "start_time": "2018-10-24T10:18:54.386109Z"
    }
   },
   "outputs": [],
   "source": [
    "#Aggregation to order level\n",
    "agg_ops = {'TDT_T_KEY_ORDER_DATE': min,\n",
    "          'CUS_N_KEY_CUSTOMER': min,\n",
    "          'CZP_ZTQ_ID': min, \n",
    "          'SCM_SALES_BMF': [sum, lambda x: list(np.round(x, 2))],\n",
    "          'SCM_D_FINANCE_CM1': sum,\n",
    "          'SCM_D_FINANCE_CM2': sum,\n",
    "          'SCM_D_ORIG_FINANCE_ORDER_NET': sum,\n",
    "          'SCM_AP_ID': lambda x: list(x),\n",
    "          'SCM_AS_ID': lambda x: list(x),\n",
    "          'SCM_MASTER_AP_ID': lambda x: list(x),\n",
    "          'OSP_KO_COUNT_NET': min,\n",
    "          'CZP_START_DATE': min,\n",
    "          'CZP_EXPIRY_DATE': min,\n",
    "          'OSP_3_LEAD_P_PG_ID': min\n",
    "          }"
   ]
  },
  {
   "cell_type": "code",
   "execution_count": 23,
   "metadata": {
    "ExecuteTime": {
     "end_time": "2018-10-24T10:19:06.856109Z",
     "start_time": "2018-10-24T10:18:54.399109Z"
    }
   },
   "outputs": [],
   "source": [
    "orders = data.groupby('SCM_N_ORDER_NR', as_index=False).agg(agg_ops)"
   ]
  },
  {
   "cell_type": "code",
   "execution_count": 24,
   "metadata": {
    "ExecuteTime": {
     "end_time": "2018-10-24T10:19:06.861109Z",
     "start_time": "2018-10-24T10:19:06.857109Z"
    }
   },
   "outputs": [],
   "source": [
    "orders.columns = ['_'.join(tup).rstrip('_') for tup in orders.columns.values]"
   ]
  },
  {
   "cell_type": "code",
   "execution_count": 25,
   "metadata": {
    "ExecuteTime": {
     "end_time": "2018-10-24T10:19:06.879109Z",
     "start_time": "2018-10-24T10:19:06.863109Z"
    }
   },
   "outputs": [],
   "source": [
    "orders.columns = (['SCM_N_ORDER_NR', 'TDT_T_KEY_ORDER_DATE', 'CUS_N_KEY_CUSTOMER',\n",
    "       'CZP_ZTQ_ID', 'SCM_SALES_BMF_sum', 'SCM_SALES_BMF_list',\n",
    "       'SCM_D_FINANCE_CM1_sum', 'SCM_D_FINANCE_CM2_sum',\n",
    "       'SCM_D_ORIG_FINANCE_ORDER_NET_sum', 'SCM_AP_ID_list',\n",
    "       'SCM_AS_ID_list', 'SCM_MASTER_AP_ID_list',\n",
    "       'OSP_KO_COUNT_NET', 'CZP_START_DATE', 'CZP_EXPIRY_DATE',\n",
    "       'OSP_3_LEAD_P_PG_ID'])"
   ]
  },
  {
   "cell_type": "code",
   "execution_count": 26,
   "metadata": {
    "ExecuteTime": {
     "end_time": "2018-10-24T10:19:06.977109Z",
     "start_time": "2018-10-24T10:19:06.881109Z"
    }
   },
   "outputs": [
    {
     "data": {
      "text/html": [
       "<div>\n",
       "<style scoped>\n",
       "    .dataframe tbody tr th:only-of-type {\n",
       "        vertical-align: middle;\n",
       "    }\n",
       "\n",
       "    .dataframe tbody tr th {\n",
       "        vertical-align: top;\n",
       "    }\n",
       "\n",
       "    .dataframe thead th {\n",
       "        text-align: right;\n",
       "    }\n",
       "</style>\n",
       "<table border=\"1\" class=\"dataframe\">\n",
       "  <thead>\n",
       "    <tr style=\"text-align: right;\">\n",
       "      <th></th>\n",
       "      <th>SCM_N_ORDER_NR</th>\n",
       "      <th>TDT_T_KEY_ORDER_DATE</th>\n",
       "      <th>CUS_N_KEY_CUSTOMER</th>\n",
       "      <th>CZP_ZTQ_ID</th>\n",
       "      <th>SCM_SALES_BMF_sum</th>\n",
       "      <th>SCM_SALES_BMF_list</th>\n",
       "      <th>SCM_D_FINANCE_CM1_sum</th>\n",
       "      <th>SCM_D_FINANCE_CM2_sum</th>\n",
       "      <th>SCM_D_ORIG_FINANCE_ORDER_NET_sum</th>\n",
       "      <th>SCM_AP_ID_list</th>\n",
       "      <th>SCM_AS_ID_list</th>\n",
       "      <th>SCM_MASTER_AP_ID_list</th>\n",
       "      <th>OSP_KO_COUNT_NET</th>\n",
       "      <th>CZP_START_DATE</th>\n",
       "      <th>CZP_EXPIRY_DATE</th>\n",
       "      <th>OSP_3_LEAD_P_PG_ID</th>\n",
       "    </tr>\n",
       "  </thead>\n",
       "  <tbody>\n",
       "    <tr>\n",
       "      <th>0</th>\n",
       "      <td>108152192</td>\n",
       "      <td>2018-04-06</td>\n",
       "      <td>19897061</td>\n",
       "      <td>0</td>\n",
       "      <td>151.97</td>\n",
       "      <td>[59.99, 91.98]</td>\n",
       "      <td>35.0955</td>\n",
       "      <td>19.3596</td>\n",
       "      <td>124.5655</td>\n",
       "      <td>[61044, 60996]</td>\n",
       "      <td>[1313632, 1309318]</td>\n",
       "      <td>[61044, 60996]</td>\n",
       "      <td>1</td>\n",
       "      <td>NaT</td>\n",
       "      <td>NaT</td>\n",
       "      <td>251</td>\n",
       "    </tr>\n",
       "    <tr>\n",
       "      <th>1</th>\n",
       "      <td>108152234</td>\n",
       "      <td>2018-04-06</td>\n",
       "      <td>19897073</td>\n",
       "      <td>0</td>\n",
       "      <td>37.97</td>\n",
       "      <td>[4.99, 7.99, 24.99]</td>\n",
       "      <td>12.9730</td>\n",
       "      <td>5.2175</td>\n",
       "      <td>31.1230</td>\n",
       "      <td>[76404, 32209, 26920]</td>\n",
       "      <td>[2307546, 548556, 440713]</td>\n",
       "      <td>[76404, 32209, 26920]</td>\n",
       "      <td>1</td>\n",
       "      <td>NaT</td>\n",
       "      <td>NaT</td>\n",
       "      <td>33</td>\n",
       "    </tr>\n",
       "    <tr>\n",
       "      <th>2</th>\n",
       "      <td>108152344</td>\n",
       "      <td>2018-04-06</td>\n",
       "      <td>19897080</td>\n",
       "      <td>0</td>\n",
       "      <td>46.78</td>\n",
       "      <td>[25.99, 25.99, -5.2]</td>\n",
       "      <td>7.2773</td>\n",
       "      <td>0.3779</td>\n",
       "      <td>42.5273</td>\n",
       "      <td>[69082, 68570, 0]</td>\n",
       "      <td>[2379698, 1873611, 1]</td>\n",
       "      <td>[69082, 68570, 6169]</td>\n",
       "      <td>1</td>\n",
       "      <td>NaT</td>\n",
       "      <td>NaT</td>\n",
       "      <td>207553</td>\n",
       "    </tr>\n",
       "    <tr>\n",
       "      <th>3</th>\n",
       "      <td>108152458</td>\n",
       "      <td>2018-04-06</td>\n",
       "      <td>19897074</td>\n",
       "      <td>0</td>\n",
       "      <td>89.95</td>\n",
       "      <td>[6.99, 4.98, 7.99, 69.99]</td>\n",
       "      <td>27.6396</td>\n",
       "      <td>18.5679</td>\n",
       "      <td>73.7296</td>\n",
       "      <td>[25741, 0, 42867, 66865]</td>\n",
       "      <td>[432472, 2, 2327141, 1692198]</td>\n",
       "      <td>[25741, 6168, 42867, 66865]</td>\n",
       "      <td>1</td>\n",
       "      <td>NaT</td>\n",
       "      <td>NaT</td>\n",
       "      <td>251</td>\n",
       "    </tr>\n",
       "    <tr>\n",
       "      <th>4</th>\n",
       "      <td>108152511</td>\n",
       "      <td>2018-04-06</td>\n",
       "      <td>19897135</td>\n",
       "      <td>0</td>\n",
       "      <td>42.72</td>\n",
       "      <td>[7.99, 17.99, 18.99, -2.25]</td>\n",
       "      <td>9.2576</td>\n",
       "      <td>-3.2566</td>\n",
       "      <td>38.1576</td>\n",
       "      <td>[72035, 68576, 68654, 0]</td>\n",
       "      <td>[2064769, 1894283, 2383232, 1]</td>\n",
       "      <td>[72035, 68576, 68654, 6169]</td>\n",
       "      <td>1</td>\n",
       "      <td>NaT</td>\n",
       "      <td>NaT</td>\n",
       "      <td>207553</td>\n",
       "    </tr>\n",
       "    <tr>\n",
       "      <th>5</th>\n",
       "      <td>108152525</td>\n",
       "      <td>2018-04-06</td>\n",
       "      <td>19897137</td>\n",
       "      <td>0</td>\n",
       "      <td>46.53</td>\n",
       "      <td>[-2.45, 25.99, 22.99]</td>\n",
       "      <td>7.7300</td>\n",
       "      <td>0.8306</td>\n",
       "      <td>42.3000</td>\n",
       "      <td>[0, 69082, 69083]</td>\n",
       "      <td>[1, 2383089, 2383088]</td>\n",
       "      <td>[6169, 69082, 69083]</td>\n",
       "      <td>1</td>\n",
       "      <td>NaT</td>\n",
       "      <td>NaT</td>\n",
       "      <td>207553</td>\n",
       "    </tr>\n",
       "    <tr>\n",
       "      <th>6</th>\n",
       "      <td>108152540</td>\n",
       "      <td>2018-04-06</td>\n",
       "      <td>19897023</td>\n",
       "      <td>56</td>\n",
       "      <td>142.25</td>\n",
       "      <td>[33.89, 33.89, 27.99, 5.99, 19.99, 27.99, -7.49]</td>\n",
       "      <td>48.0683</td>\n",
       "      <td>25.8984</td>\n",
       "      <td>116.5983</td>\n",
       "      <td>[73509, 73474, 66884, 42225, 65164, 66885, 0]</td>\n",
       "      <td>[2174597, 2174596, 1801728, 913725, 1569058, 1...</td>\n",
       "      <td>[73509, 73474, 66884, 42225, 65164, 66885, 42715]</td>\n",
       "      <td>1</td>\n",
       "      <td>2018-04-06</td>\n",
       "      <td>2019-04-06</td>\n",
       "      <td>251</td>\n",
       "    </tr>\n",
       "    <tr>\n",
       "      <th>7</th>\n",
       "      <td>108152852</td>\n",
       "      <td>2018-04-06</td>\n",
       "      <td>19897169</td>\n",
       "      <td>0</td>\n",
       "      <td>35.98</td>\n",
       "      <td>[17.99, 17.99]</td>\n",
       "      <td>12.2118</td>\n",
       "      <td>6.0454</td>\n",
       "      <td>29.4918</td>\n",
       "      <td>[69454, 69465]</td>\n",
       "      <td>[1902178, 1902423]</td>\n",
       "      <td>[69454, 69465]</td>\n",
       "      <td>1</td>\n",
       "      <td>NaT</td>\n",
       "      <td>NaT</td>\n",
       "      <td>251</td>\n",
       "    </tr>\n",
       "    <tr>\n",
       "      <th>8</th>\n",
       "      <td>108152874</td>\n",
       "      <td>2018-04-06</td>\n",
       "      <td>19897109</td>\n",
       "      <td>0</td>\n",
       "      <td>27.44</td>\n",
       "      <td>[4.49, 7.98, 6.98, 7.99]</td>\n",
       "      <td>12.7718</td>\n",
       "      <td>5.8510</td>\n",
       "      <td>22.4918</td>\n",
       "      <td>[61245, 71112, 0, 73434]</td>\n",
       "      <td>[1311745, 2010109, 2, 2273821]</td>\n",
       "      <td>[61245, 71112, 6168, 73434]</td>\n",
       "      <td>1</td>\n",
       "      <td>NaT</td>\n",
       "      <td>NaT</td>\n",
       "      <td>252</td>\n",
       "    </tr>\n",
       "    <tr>\n",
       "      <th>9</th>\n",
       "      <td>108152948</td>\n",
       "      <td>2018-04-06</td>\n",
       "      <td>19897166</td>\n",
       "      <td>0</td>\n",
       "      <td>15.97</td>\n",
       "      <td>[13.0, 12.99, 22.99, 16.99, -50.0]</td>\n",
       "      <td>-27.4843</td>\n",
       "      <td>-40.8966</td>\n",
       "      <td>13.9557</td>\n",
       "      <td>[68059, 67426, 69080, 70693, 0]</td>\n",
       "      <td>[2273201, 2273201, 1900515, 1964899, 1]</td>\n",
       "      <td>[68059, 68059, 69080, 70693, 6169]</td>\n",
       "      <td>1</td>\n",
       "      <td>NaT</td>\n",
       "      <td>NaT</td>\n",
       "      <td>207624</td>\n",
       "    </tr>\n",
       "    <tr>\n",
       "      <th>10</th>\n",
       "      <td>108153087</td>\n",
       "      <td>2018-04-06</td>\n",
       "      <td>19897180</td>\n",
       "      <td>0</td>\n",
       "      <td>37.99</td>\n",
       "      <td>[37.99]</td>\n",
       "      <td>6.4764</td>\n",
       "      <td>-0.4230</td>\n",
       "      <td>34.5364</td>\n",
       "      <td>[68653]</td>\n",
       "      <td>[1931670]</td>\n",
       "      <td>[68653]</td>\n",
       "      <td>1</td>\n",
       "      <td>NaT</td>\n",
       "      <td>NaT</td>\n",
       "      <td>207553</td>\n",
       "    </tr>\n",
       "    <tr>\n",
       "      <th>11</th>\n",
       "      <td>108153110</td>\n",
       "      <td>2018-04-06</td>\n",
       "      <td>19897128</td>\n",
       "      <td>0</td>\n",
       "      <td>34.64</td>\n",
       "      <td>[15.99, 15.99, -1.83, 4.49]</td>\n",
       "      <td>9.7335</td>\n",
       "      <td>3.6274</td>\n",
       "      <td>28.3935</td>\n",
       "      <td>[69919, 69857, 0, 69919]</td>\n",
       "      <td>[1947637, 1947636, 1, 1947570]</td>\n",
       "      <td>[69919, 69857, 6169, 69919]</td>\n",
       "      <td>1</td>\n",
       "      <td>NaT</td>\n",
       "      <td>NaT</td>\n",
       "      <td>2068</td>\n",
       "    </tr>\n",
       "    <tr>\n",
       "      <th>12</th>\n",
       "      <td>108153164</td>\n",
       "      <td>2018-04-06</td>\n",
       "      <td>19897130</td>\n",
       "      <td>0</td>\n",
       "      <td>48.42</td>\n",
       "      <td>[7.99, 12.99, 29.99, -2.55]</td>\n",
       "      <td>7.7785</td>\n",
       "      <td>0.8577</td>\n",
       "      <td>39.6885</td>\n",
       "      <td>[73137, 35709, 57803, 0]</td>\n",
       "      <td>[2127946, 616485, 1394725, 1]</td>\n",
       "      <td>[73137, 35709, 57803, 6169]</td>\n",
       "      <td>1</td>\n",
       "      <td>NaT</td>\n",
       "      <td>NaT</td>\n",
       "      <td>251</td>\n",
       "    </tr>\n",
       "    <tr>\n",
       "      <th>13</th>\n",
       "      <td>108153207</td>\n",
       "      <td>2018-04-06</td>\n",
       "      <td>19897132</td>\n",
       "      <td>0</td>\n",
       "      <td>71.87</td>\n",
       "      <td>[11.89, 43.82, 1.17, 14.99]</td>\n",
       "      <td>24.5430</td>\n",
       "      <td>9.1658</td>\n",
       "      <td>59.9731</td>\n",
       "      <td>[71389, 65421, 71344, 67317]</td>\n",
       "      <td>[2156825, 2231406, 2231406, 1787406]</td>\n",
       "      <td>[71389, 65421, 65421, 67317]</td>\n",
       "      <td>1</td>\n",
       "      <td>NaT</td>\n",
       "      <td>NaT</td>\n",
       "      <td>2190</td>\n",
       "    </tr>\n",
       "    <tr>\n",
       "      <th>14</th>\n",
       "      <td>108153221</td>\n",
       "      <td>2018-04-06</td>\n",
       "      <td>19897194</td>\n",
       "      <td>0</td>\n",
       "      <td>23.98</td>\n",
       "      <td>[19.99, 3.99]</td>\n",
       "      <td>12.7457</td>\n",
       "      <td>5.5751</td>\n",
       "      <td>19.6557</td>\n",
       "      <td>[48567, 0]</td>\n",
       "      <td>[825695, 2]</td>\n",
       "      <td>[48567, 6168]</td>\n",
       "      <td>1</td>\n",
       "      <td>NaT</td>\n",
       "      <td>NaT</td>\n",
       "      <td>23</td>\n",
       "    </tr>\n",
       "    <tr>\n",
       "      <th>15</th>\n",
       "      <td>108153294</td>\n",
       "      <td>2018-04-06</td>\n",
       "      <td>19897246</td>\n",
       "      <td>0</td>\n",
       "      <td>55.23</td>\n",
       "      <td>[-2.75, 2.99, 54.99]</td>\n",
       "      <td>24.3405</td>\n",
       "      <td>13.8617</td>\n",
       "      <td>45.2705</td>\n",
       "      <td>[0, 0, 27429]</td>\n",
       "      <td>[1, 2, 483596]</td>\n",
       "      <td>[6169, 6168, 27429]</td>\n",
       "      <td>1</td>\n",
       "      <td>NaT</td>\n",
       "      <td>NaT</td>\n",
       "      <td>9</td>\n",
       "    </tr>\n",
       "    <tr>\n",
       "      <th>16</th>\n",
       "      <td>108153361</td>\n",
       "      <td>2018-04-06</td>\n",
       "      <td>19897257</td>\n",
       "      <td>0</td>\n",
       "      <td>96.99</td>\n",
       "      <td>[96.99]</td>\n",
       "      <td>16.1800</td>\n",
       "      <td>7.7174</td>\n",
       "      <td>79.5000</td>\n",
       "      <td>[61090]</td>\n",
       "      <td>[1313293]</td>\n",
       "      <td>[61090]</td>\n",
       "      <td>1</td>\n",
       "      <td>NaT</td>\n",
       "      <td>NaT</td>\n",
       "      <td>251</td>\n",
       "    </tr>\n",
       "    <tr>\n",
       "      <th>17</th>\n",
       "      <td>108153593</td>\n",
       "      <td>2018-04-06</td>\n",
       "      <td>19897212</td>\n",
       "      <td>0</td>\n",
       "      <td>35.12</td>\n",
       "      <td>[12.99, -1.85, 23.98]</td>\n",
       "      <td>17.3068</td>\n",
       "      <td>7.7789</td>\n",
       "      <td>28.7868</td>\n",
       "      <td>[55116, 0, 4041]</td>\n",
       "      <td>[1109042, 1, 297858]</td>\n",
       "      <td>[55116, 6169, 4041]</td>\n",
       "      <td>1</td>\n",
       "      <td>NaT</td>\n",
       "      <td>NaT</td>\n",
       "      <td>2155</td>\n",
       "    </tr>\n",
       "    <tr>\n",
       "      <th>18</th>\n",
       "      <td>108153798</td>\n",
       "      <td>2018-04-06</td>\n",
       "      <td>19897222</td>\n",
       "      <td>0</td>\n",
       "      <td>47.95</td>\n",
       "      <td>[7.99, 12.99, 10.99, 2.99, 12.99]</td>\n",
       "      <td>17.9032</td>\n",
       "      <td>9.8512</td>\n",
       "      <td>39.3032</td>\n",
       "      <td>[66239, 26770, 70312, 0, 76901]</td>\n",
       "      <td>[1699836, 426035, 1958369, 2, 2383334]</td>\n",
       "      <td>[66239, 26770, 70312, 6168, 76901]</td>\n",
       "      <td>1</td>\n",
       "      <td>NaT</td>\n",
       "      <td>NaT</td>\n",
       "      <td>20</td>\n",
       "    </tr>\n",
       "    <tr>\n",
       "      <th>19</th>\n",
       "      <td>108154249</td>\n",
       "      <td>2018-04-06</td>\n",
       "      <td>19897322</td>\n",
       "      <td>0</td>\n",
       "      <td>130.97</td>\n",
       "      <td>[32.85, -14.0, 4.98, 107.14]</td>\n",
       "      <td>26.8325</td>\n",
       "      <td>12.9006</td>\n",
       "      <td>107.3526</td>\n",
       "      <td>[20024, 0, 0, 55454]</td>\n",
       "      <td>[2299988, 1, 2, 2299988]</td>\n",
       "      <td>[55454, 6169, 6168, 55454]</td>\n",
       "      <td>1</td>\n",
       "      <td>NaT</td>\n",
       "      <td>NaT</td>\n",
       "      <td>2192</td>\n",
       "    </tr>\n",
       "    <tr>\n",
       "      <th>20</th>\n",
       "      <td>108154684</td>\n",
       "      <td>2018-04-06</td>\n",
       "      <td>19724977</td>\n",
       "      <td>0</td>\n",
       "      <td>65.98</td>\n",
       "      <td>[62.99, 2.99]</td>\n",
       "      <td>20.9719</td>\n",
       "      <td>13.1447</td>\n",
       "      <td>54.0819</td>\n",
       "      <td>[70763, 0]</td>\n",
       "      <td>[2296277, 2]</td>\n",
       "      <td>[70763, 6168]</td>\n",
       "      <td>1</td>\n",
       "      <td>NaT</td>\n",
       "      <td>NaT</td>\n",
       "      <td>251</td>\n",
       "    </tr>\n",
       "    <tr>\n",
       "      <th>21</th>\n",
       "      <td>108155810</td>\n",
       "      <td>2018-04-06</td>\n",
       "      <td>19897464</td>\n",
       "      <td>0</td>\n",
       "      <td>357.86</td>\n",
       "      <td>[311.88, 45.98]</td>\n",
       "      <td>68.9873</td>\n",
       "      <td>57.7575</td>\n",
       "      <td>325.3273</td>\n",
       "      <td>[69082, 69083]</td>\n",
       "      <td>[2383089, 2383088]</td>\n",
       "      <td>[69082, 69083]</td>\n",
       "      <td>1</td>\n",
       "      <td>NaT</td>\n",
       "      <td>NaT</td>\n",
       "      <td>207553</td>\n",
       "    </tr>\n",
       "    <tr>\n",
       "      <th>22</th>\n",
       "      <td>108155866</td>\n",
       "      <td>2018-04-06</td>\n",
       "      <td>19852371</td>\n",
       "      <td>0</td>\n",
       "      <td>56.96</td>\n",
       "      <td>[24.99, 5.99, 19.99, 5.99]</td>\n",
       "      <td>11.0284</td>\n",
       "      <td>1.7081</td>\n",
       "      <td>46.6884</td>\n",
       "      <td>[63179, 63184, 68014, 18841]</td>\n",
       "      <td>[1443018, 1441975, 1802997, 327681]</td>\n",
       "      <td>[63179, 63184, 68014, 18841]</td>\n",
       "      <td>1</td>\n",
       "      <td>NaT</td>\n",
       "      <td>NaT</td>\n",
       "      <td>857</td>\n",
       "    </tr>\n",
       "    <tr>\n",
       "      <th>23</th>\n",
       "      <td>108155992</td>\n",
       "      <td>2018-04-06</td>\n",
       "      <td>19897477</td>\n",
       "      <td>0</td>\n",
       "      <td>59.98</td>\n",
       "      <td>[49.99, 9.99]</td>\n",
       "      <td>12.7140</td>\n",
       "      <td>0.1996</td>\n",
       "      <td>53.6340</td>\n",
       "      <td>[69082, 17344]</td>\n",
       "      <td>[2379700, 313437]</td>\n",
       "      <td>[69082, 17344]</td>\n",
       "      <td>1</td>\n",
       "      <td>NaT</td>\n",
       "      <td>NaT</td>\n",
       "      <td>207553</td>\n",
       "    </tr>\n",
       "    <tr>\n",
       "      <th>24</th>\n",
       "      <td>108156054</td>\n",
       "      <td>2018-04-06</td>\n",
       "      <td>19897456</td>\n",
       "      <td>0</td>\n",
       "      <td>93.97</td>\n",
       "      <td>[35.99, 45.99, 11.99]</td>\n",
       "      <td>24.0770</td>\n",
       "      <td>10.3346</td>\n",
       "      <td>81.1370</td>\n",
       "      <td>[67945, 68645, 73472]</td>\n",
       "      <td>[1774863, 1901169, 2162646]</td>\n",
       "      <td>[67945, 68645, 73472]</td>\n",
       "      <td>1</td>\n",
       "      <td>NaT</td>\n",
       "      <td>NaT</td>\n",
       "      <td>251</td>\n",
       "    </tr>\n",
       "    <tr>\n",
       "      <th>25</th>\n",
       "      <td>108156091</td>\n",
       "      <td>2018-04-06</td>\n",
       "      <td>19896891</td>\n",
       "      <td>56</td>\n",
       "      <td>112.04</td>\n",
       "      <td>[22.99, 1.24, 10.83, 5.61, 7.3, -5.9, 1.99, 9....</td>\n",
       "      <td>31.3789</td>\n",
       "      <td>9.0903</td>\n",
       "      <td>93.7888</td>\n",
       "      <td>[68649, 73363, 27329, 34153, 14444, 0, 34631, ...</td>\n",
       "      <td>[1934212, 2288125, 2288125, 2288125, 2288125, ...</td>\n",
       "      <td>[68649, 27329, 27329, 27329, 27329, 42715, 346...</td>\n",
       "      <td>1</td>\n",
       "      <td>2018-04-06</td>\n",
       "      <td>2019-04-06</td>\n",
       "      <td>251</td>\n",
       "    </tr>\n",
       "    <tr>\n",
       "      <th>26</th>\n",
       "      <td>108156321</td>\n",
       "      <td>2018-04-06</td>\n",
       "      <td>19897542</td>\n",
       "      <td>0</td>\n",
       "      <td>48.98</td>\n",
       "      <td>[34.99, 6.86, 7.13]</td>\n",
       "      <td>23.0575</td>\n",
       "      <td>13.5691</td>\n",
       "      <td>40.1475</td>\n",
       "      <td>[70089, 65201, 34628]</td>\n",
       "      <td>[2020155, 2361841, 2361841]</td>\n",
       "      <td>[70089, 34628, 34628]</td>\n",
       "      <td>1</td>\n",
       "      <td>NaT</td>\n",
       "      <td>NaT</td>\n",
       "      <td>23</td>\n",
       "    </tr>\n",
       "    <tr>\n",
       "      <th>27</th>\n",
       "      <td>108156531</td>\n",
       "      <td>2018-04-06</td>\n",
       "      <td>19897548</td>\n",
       "      <td>0</td>\n",
       "      <td>35.94</td>\n",
       "      <td>[1.99, 6.99, 4.99, 4.99, 0.99, 15.99]</td>\n",
       "      <td>15.7391</td>\n",
       "      <td>7.9226</td>\n",
       "      <td>29.4591</td>\n",
       "      <td>[4029, 50435, 36472, 66283, 62990, 25844]</td>\n",
       "      <td>[337982, 853765, 602965, 1634395, 2385851, 395...</td>\n",
       "      <td>[4029, 50435, 36472, 66283, 62990, 25844]</td>\n",
       "      <td>1</td>\n",
       "      <td>NaT</td>\n",
       "      <td>NaT</td>\n",
       "      <td>20</td>\n",
       "    </tr>\n",
       "    <tr>\n",
       "      <th>28</th>\n",
       "      <td>108156714</td>\n",
       "      <td>2018-04-06</td>\n",
       "      <td>19897559</td>\n",
       "      <td>0</td>\n",
       "      <td>82.48</td>\n",
       "      <td>[79.99, 2.49]</td>\n",
       "      <td>18.7366</td>\n",
       "      <td>4.1927</td>\n",
       "      <td>67.6066</td>\n",
       "      <td>[55427, 63616]</td>\n",
       "      <td>[1051958, 1459269]</td>\n",
       "      <td>[55427, 63616]</td>\n",
       "      <td>1</td>\n",
       "      <td>NaT</td>\n",
       "      <td>NaT</td>\n",
       "      <td>2192</td>\n",
       "    </tr>\n",
       "    <tr>\n",
       "      <th>29</th>\n",
       "      <td>108156985</td>\n",
       "      <td>2018-04-06</td>\n",
       "      <td>19897598</td>\n",
       "      <td>0</td>\n",
       "      <td>47.49</td>\n",
       "      <td>[-2.5, 49.99]</td>\n",
       "      <td>5.7328</td>\n",
       "      <td>-1.1666</td>\n",
       "      <td>43.1728</td>\n",
       "      <td>[0, 69082]</td>\n",
       "      <td>[1, 2379700]</td>\n",
       "      <td>[6169, 69082]</td>\n",
       "      <td>1</td>\n",
       "      <td>NaT</td>\n",
       "      <td>NaT</td>\n",
       "      <td>207553</td>\n",
       "    </tr>\n",
       "    <tr>\n",
       "      <th>...</th>\n",
       "      <td>...</td>\n",
       "      <td>...</td>\n",
       "      <td>...</td>\n",
       "      <td>...</td>\n",
       "      <td>...</td>\n",
       "      <td>...</td>\n",
       "      <td>...</td>\n",
       "      <td>...</td>\n",
       "      <td>...</td>\n",
       "      <td>...</td>\n",
       "      <td>...</td>\n",
       "      <td>...</td>\n",
       "      <td>...</td>\n",
       "      <td>...</td>\n",
       "      <td>...</td>\n",
       "      <td>...</td>\n",
       "    </tr>\n",
       "    <tr>\n",
       "      <th>53497</th>\n",
       "      <td>119436596</td>\n",
       "      <td>2018-09-20</td>\n",
       "      <td>20579304</td>\n",
       "      <td>0</td>\n",
       "      <td>40.86</td>\n",
       "      <td>[5.39, 6.49, 19.99, 8.99]</td>\n",
       "      <td>14.6893</td>\n",
       "      <td>5.9483</td>\n",
       "      <td>35.2793</td>\n",
       "      <td>[57006, 73093, 64678, 70349]</td>\n",
       "      <td>[1148666, 2125878, 1590088, 1957233]</td>\n",
       "      <td>[57006, 73093, 64678, 70349]</td>\n",
       "      <td>2</td>\n",
       "      <td>NaT</td>\n",
       "      <td>NaT</td>\n",
       "      <td>301</td>\n",
       "    </tr>\n",
       "    <tr>\n",
       "      <th>53498</th>\n",
       "      <td>119436806</td>\n",
       "      <td>2018-09-20</td>\n",
       "      <td>20553143</td>\n",
       "      <td>0</td>\n",
       "      <td>28.98</td>\n",
       "      <td>[25.99, 2.99]</td>\n",
       "      <td>6.4341</td>\n",
       "      <td>1.9963</td>\n",
       "      <td>23.7541</td>\n",
       "      <td>[68059, 0]</td>\n",
       "      <td>[2008706, 2]</td>\n",
       "      <td>[68059, 6168]</td>\n",
       "      <td>2</td>\n",
       "      <td>NaT</td>\n",
       "      <td>NaT</td>\n",
       "      <td>2068</td>\n",
       "    </tr>\n",
       "    <tr>\n",
       "      <th>53499</th>\n",
       "      <td>119437789</td>\n",
       "      <td>2018-09-20</td>\n",
       "      <td>20222440</td>\n",
       "      <td>0</td>\n",
       "      <td>41.96</td>\n",
       "      <td>[6.98, 9.99, 24.99]</td>\n",
       "      <td>17.3634</td>\n",
       "      <td>11.4750</td>\n",
       "      <td>34.3934</td>\n",
       "      <td>[0, 46673, 25490]</td>\n",
       "      <td>[2, 759245, 406076]</td>\n",
       "      <td>[6168, 46673, 25490]</td>\n",
       "      <td>2</td>\n",
       "      <td>NaT</td>\n",
       "      <td>NaT</td>\n",
       "      <td>15</td>\n",
       "    </tr>\n",
       "    <tr>\n",
       "      <th>53500</th>\n",
       "      <td>119438852</td>\n",
       "      <td>2018-09-20</td>\n",
       "      <td>20581718</td>\n",
       "      <td>0</td>\n",
       "      <td>56.96</td>\n",
       "      <td>[34.99, 6.99, 6.99, 7.99]</td>\n",
       "      <td>24.7385</td>\n",
       "      <td>12.3387</td>\n",
       "      <td>46.6885</td>\n",
       "      <td>[65538, 75589, 60977, 71078]</td>\n",
       "      <td>[1676774, 2315482, 1359904, 2009198]</td>\n",
       "      <td>[65538, 75589, 60977, 71078]</td>\n",
       "      <td>2</td>\n",
       "      <td>NaT</td>\n",
       "      <td>NaT</td>\n",
       "      <td>9</td>\n",
       "    </tr>\n",
       "    <tr>\n",
       "      <th>53501</th>\n",
       "      <td>119439877</td>\n",
       "      <td>2018-09-21</td>\n",
       "      <td>20445455</td>\n",
       "      <td>0</td>\n",
       "      <td>49.99</td>\n",
       "      <td>[49.99]</td>\n",
       "      <td>9.3354</td>\n",
       "      <td>1.5396</td>\n",
       "      <td>40.9754</td>\n",
       "      <td>[30208]</td>\n",
       "      <td>[688315]</td>\n",
       "      <td>[30208]</td>\n",
       "      <td>2</td>\n",
       "      <td>NaT</td>\n",
       "      <td>NaT</td>\n",
       "      <td>251</td>\n",
       "    </tr>\n",
       "    <tr>\n",
       "      <th>53502</th>\n",
       "      <td>119444720</td>\n",
       "      <td>2018-09-21</td>\n",
       "      <td>20574726</td>\n",
       "      <td>0</td>\n",
       "      <td>38.99</td>\n",
       "      <td>[37.99, 1.0]</td>\n",
       "      <td>10.5390</td>\n",
       "      <td>3.5752</td>\n",
       "      <td>31.9590</td>\n",
       "      <td>[80737, 0]</td>\n",
       "      <td>[2411957, 2]</td>\n",
       "      <td>[80737, 6168]</td>\n",
       "      <td>2</td>\n",
       "      <td>NaT</td>\n",
       "      <td>NaT</td>\n",
       "      <td>251</td>\n",
       "    </tr>\n",
       "    <tr>\n",
       "      <th>53503</th>\n",
       "      <td>119448824</td>\n",
       "      <td>2018-09-21</td>\n",
       "      <td>20335936</td>\n",
       "      <td>0</td>\n",
       "      <td>25.97</td>\n",
       "      <td>[9.99, 11.99, 3.99]</td>\n",
       "      <td>11.1669</td>\n",
       "      <td>3.0315</td>\n",
       "      <td>21.2869</td>\n",
       "      <td>[20115, 80829, 0]</td>\n",
       "      <td>[2226944, 2448308, 2]</td>\n",
       "      <td>[20115, 80829, 6168]</td>\n",
       "      <td>2</td>\n",
       "      <td>NaT</td>\n",
       "      <td>NaT</td>\n",
       "      <td>2471</td>\n",
       "    </tr>\n",
       "    <tr>\n",
       "      <th>53504</th>\n",
       "      <td>119454156</td>\n",
       "      <td>2018-09-21</td>\n",
       "      <td>20432034</td>\n",
       "      <td>0</td>\n",
       "      <td>61.98</td>\n",
       "      <td>[47.99, 13.99]</td>\n",
       "      <td>18.8833</td>\n",
       "      <td>8.6577</td>\n",
       "      <td>50.8033</td>\n",
       "      <td>[57463, 7198]</td>\n",
       "      <td>[1158272, 2099988]</td>\n",
       "      <td>[57463, 7198]</td>\n",
       "      <td>2</td>\n",
       "      <td>NaT</td>\n",
       "      <td>NaT</td>\n",
       "      <td>251</td>\n",
       "    </tr>\n",
       "    <tr>\n",
       "      <th>53505</th>\n",
       "      <td>119456191</td>\n",
       "      <td>2018-09-21</td>\n",
       "      <td>20269408</td>\n",
       "      <td>55</td>\n",
       "      <td>76.03</td>\n",
       "      <td>[33.18, 2.99, 6.98, 1.99, -2.29, 33.18]</td>\n",
       "      <td>13.4796</td>\n",
       "      <td>5.4666</td>\n",
       "      <td>62.3196</td>\n",
       "      <td>[60582, 42225, 78404, 0, 0, 61269]</td>\n",
       "      <td>[2465710, 906033, 2339559, 2, 6, 2465704]</td>\n",
       "      <td>[60582, 42225, 78404, 6168, 42715, 61269]</td>\n",
       "      <td>2</td>\n",
       "      <td>2018-09-21</td>\n",
       "      <td>2019-09-21</td>\n",
       "      <td>2068</td>\n",
       "    </tr>\n",
       "    <tr>\n",
       "      <th>53506</th>\n",
       "      <td>119456546</td>\n",
       "      <td>2018-09-21</td>\n",
       "      <td>20247769</td>\n",
       "      <td>0</td>\n",
       "      <td>72.98</td>\n",
       "      <td>[47.99, 24.99]</td>\n",
       "      <td>14.8897</td>\n",
       "      <td>5.4730</td>\n",
       "      <td>59.8197</td>\n",
       "      <td>[80729, 69284]</td>\n",
       "      <td>[2411156, 2079123]</td>\n",
       "      <td>[80729, 69284]</td>\n",
       "      <td>2</td>\n",
       "      <td>NaT</td>\n",
       "      <td>NaT</td>\n",
       "      <td>251</td>\n",
       "    </tr>\n",
       "    <tr>\n",
       "      <th>53507</th>\n",
       "      <td>119457754</td>\n",
       "      <td>2018-09-21</td>\n",
       "      <td>20407221</td>\n",
       "      <td>0</td>\n",
       "      <td>36.98</td>\n",
       "      <td>[3.99, 32.99]</td>\n",
       "      <td>13.3182</td>\n",
       "      <td>7.0216</td>\n",
       "      <td>33.6182</td>\n",
       "      <td>[0, 70689]</td>\n",
       "      <td>[2, 2382975]</td>\n",
       "      <td>[6168, 70689]</td>\n",
       "      <td>2</td>\n",
       "      <td>NaT</td>\n",
       "      <td>NaT</td>\n",
       "      <td>207553</td>\n",
       "    </tr>\n",
       "    <tr>\n",
       "      <th>53508</th>\n",
       "      <td>119458359</td>\n",
       "      <td>2018-09-21</td>\n",
       "      <td>20573350</td>\n",
       "      <td>55</td>\n",
       "      <td>64.91</td>\n",
       "      <td>[6.95, -2.01, 19.99, 19.99, 19.99]</td>\n",
       "      <td>21.4848</td>\n",
       "      <td>12.9201</td>\n",
       "      <td>53.2048</td>\n",
       "      <td>[73694, 0, 71942, 71862, 71943]</td>\n",
       "      <td>[2160627, 6, 2071913, 2071979, 2071978]</td>\n",
       "      <td>[73694, 42715, 71942, 71862, 71943]</td>\n",
       "      <td>2</td>\n",
       "      <td>2018-06-26</td>\n",
       "      <td>2019-06-26</td>\n",
       "      <td>2068</td>\n",
       "    </tr>\n",
       "    <tr>\n",
       "      <th>53509</th>\n",
       "      <td>119459603</td>\n",
       "      <td>2018-09-21</td>\n",
       "      <td>20212872</td>\n",
       "      <td>0</td>\n",
       "      <td>57.99</td>\n",
       "      <td>[57.99]</td>\n",
       "      <td>14.5928</td>\n",
       "      <td>0.7098</td>\n",
       "      <td>47.5328</td>\n",
       "      <td>[71794]</td>\n",
       "      <td>[2067308]</td>\n",
       "      <td>[71794]</td>\n",
       "      <td>2</td>\n",
       "      <td>NaT</td>\n",
       "      <td>NaT</td>\n",
       "      <td>251</td>\n",
       "    </tr>\n",
       "    <tr>\n",
       "      <th>53510</th>\n",
       "      <td>119461251</td>\n",
       "      <td>2018-09-21</td>\n",
       "      <td>20573008</td>\n",
       "      <td>0</td>\n",
       "      <td>35.98</td>\n",
       "      <td>[35.98]</td>\n",
       "      <td>10.8518</td>\n",
       "      <td>4.1973</td>\n",
       "      <td>29.4918</td>\n",
       "      <td>[73189]</td>\n",
       "      <td>[2179521]</td>\n",
       "      <td>[73189]</td>\n",
       "      <td>2</td>\n",
       "      <td>NaT</td>\n",
       "      <td>NaT</td>\n",
       "      <td>2068</td>\n",
       "    </tr>\n",
       "    <tr>\n",
       "      <th>53511</th>\n",
       "      <td>119462525</td>\n",
       "      <td>2018-09-21</td>\n",
       "      <td>20508593</td>\n",
       "      <td>0</td>\n",
       "      <td>51.26</td>\n",
       "      <td>[2.29, 41.99, 3.99, 2.99]</td>\n",
       "      <td>12.3163</td>\n",
       "      <td>3.9115</td>\n",
       "      <td>42.0163</td>\n",
       "      <td>[68444, 70344, 79409, 0]</td>\n",
       "      <td>[1890812, 1956856, 2441741, 2]</td>\n",
       "      <td>[68444, 70344, 79409, 6168]</td>\n",
       "      <td>2</td>\n",
       "      <td>NaT</td>\n",
       "      <td>NaT</td>\n",
       "      <td>251</td>\n",
       "    </tr>\n",
       "    <tr>\n",
       "      <th>53512</th>\n",
       "      <td>119464725</td>\n",
       "      <td>2018-09-21</td>\n",
       "      <td>20236672</td>\n",
       "      <td>0</td>\n",
       "      <td>36.45</td>\n",
       "      <td>[5.49, 3.49, 5.49, 9.99, 11.99]</td>\n",
       "      <td>10.6271</td>\n",
       "      <td>2.7586</td>\n",
       "      <td>29.8771</td>\n",
       "      <td>[69103, 6855, 69101, 60987, 78921]</td>\n",
       "      <td>[1875633, 364253, 1875632, 1483569, 2350178]</td>\n",
       "      <td>[69103, 6855, 69101, 60987, 78921]</td>\n",
       "      <td>2</td>\n",
       "      <td>NaT</td>\n",
       "      <td>NaT</td>\n",
       "      <td>2068</td>\n",
       "    </tr>\n",
       "    <tr>\n",
       "      <th>53513</th>\n",
       "      <td>119471213</td>\n",
       "      <td>2018-09-21</td>\n",
       "      <td>20540732</td>\n",
       "      <td>0</td>\n",
       "      <td>129.98</td>\n",
       "      <td>[29.99, 99.99]</td>\n",
       "      <td>36.3310</td>\n",
       "      <td>26.5520</td>\n",
       "      <td>106.5410</td>\n",
       "      <td>[74068, 56623]</td>\n",
       "      <td>[2187819, 1114681]</td>\n",
       "      <td>[74068, 56623]</td>\n",
       "      <td>2</td>\n",
       "      <td>NaT</td>\n",
       "      <td>NaT</td>\n",
       "      <td>251</td>\n",
       "    </tr>\n",
       "    <tr>\n",
       "      <th>53514</th>\n",
       "      <td>119471422</td>\n",
       "      <td>2018-09-21</td>\n",
       "      <td>20396925</td>\n",
       "      <td>0</td>\n",
       "      <td>48.97</td>\n",
       "      <td>[12.61, 4.99, 12.69, 12.7, 5.99]</td>\n",
       "      <td>20.7593</td>\n",
       "      <td>12.2784</td>\n",
       "      <td>40.1393</td>\n",
       "      <td>[56513, 65466, 56620, 56597, 54350]</td>\n",
       "      <td>[1952046, 1771875, 1952046, 1952046, 1796693]</td>\n",
       "      <td>[56620, 65466, 56620, 56620, 54350]</td>\n",
       "      <td>2</td>\n",
       "      <td>NaT</td>\n",
       "      <td>NaT</td>\n",
       "      <td>252</td>\n",
       "    </tr>\n",
       "    <tr>\n",
       "      <th>53515</th>\n",
       "      <td>119471427</td>\n",
       "      <td>2018-09-21</td>\n",
       "      <td>20182310</td>\n",
       "      <td>0</td>\n",
       "      <td>40.45</td>\n",
       "      <td>[17.99, 15.96, -4.49, 10.99]</td>\n",
       "      <td>13.4237</td>\n",
       "      <td>5.6400</td>\n",
       "      <td>34.6037</td>\n",
       "      <td>[7742, 75947, 0, 3164]</td>\n",
       "      <td>[2287991, 2256853, 1, 523348]</td>\n",
       "      <td>[7742, 75947, 6169, 3164]</td>\n",
       "      <td>2</td>\n",
       "      <td>NaT</td>\n",
       "      <td>NaT</td>\n",
       "      <td>62</td>\n",
       "    </tr>\n",
       "    <tr>\n",
       "      <th>53516</th>\n",
       "      <td>119472672</td>\n",
       "      <td>2018-09-21</td>\n",
       "      <td>20250479</td>\n",
       "      <td>0</td>\n",
       "      <td>38.99</td>\n",
       "      <td>[37.99, 1.0]</td>\n",
       "      <td>10.5390</td>\n",
       "      <td>2.8360</td>\n",
       "      <td>31.9590</td>\n",
       "      <td>[80737, 0]</td>\n",
       "      <td>[2411957, 2]</td>\n",
       "      <td>[80737, 6168]</td>\n",
       "      <td>2</td>\n",
       "      <td>NaT</td>\n",
       "      <td>NaT</td>\n",
       "      <td>251</td>\n",
       "    </tr>\n",
       "    <tr>\n",
       "      <th>53517</th>\n",
       "      <td>119473683</td>\n",
       "      <td>2018-09-21</td>\n",
       "      <td>20396658</td>\n",
       "      <td>0</td>\n",
       "      <td>142.95</td>\n",
       "      <td>[17.99, 19.99, 79.99, 9.99, 14.99]</td>\n",
       "      <td>53.9521</td>\n",
       "      <td>37.0455</td>\n",
       "      <td>117.1721</td>\n",
       "      <td>[37857, 55121, 72045, 34269, 58202]</td>\n",
       "      <td>[667381, 1095294, 2234401, 564922, 1357301]</td>\n",
       "      <td>[37857, 55121, 72045, 34269, 58202]</td>\n",
       "      <td>2</td>\n",
       "      <td>NaT</td>\n",
       "      <td>NaT</td>\n",
       "      <td>23</td>\n",
       "    </tr>\n",
       "    <tr>\n",
       "      <th>53518</th>\n",
       "      <td>119474864</td>\n",
       "      <td>2018-09-21</td>\n",
       "      <td>20109544</td>\n",
       "      <td>0</td>\n",
       "      <td>59.99</td>\n",
       "      <td>[59.99]</td>\n",
       "      <td>9.5521</td>\n",
       "      <td>1.0604</td>\n",
       "      <td>49.1721</td>\n",
       "      <td>[67990]</td>\n",
       "      <td>[1840278]</td>\n",
       "      <td>[67990]</td>\n",
       "      <td>2</td>\n",
       "      <td>NaT</td>\n",
       "      <td>NaT</td>\n",
       "      <td>251</td>\n",
       "    </tr>\n",
       "    <tr>\n",
       "      <th>53519</th>\n",
       "      <td>119476668</td>\n",
       "      <td>2018-09-21</td>\n",
       "      <td>20284442</td>\n",
       "      <td>0</td>\n",
       "      <td>175.98</td>\n",
       "      <td>[87.99, 87.99]</td>\n",
       "      <td>51.4060</td>\n",
       "      <td>33.9676</td>\n",
       "      <td>144.2460</td>\n",
       "      <td>[56498, 56498]</td>\n",
       "      <td>[1114720, 1114720]</td>\n",
       "      <td>[56498, 56498]</td>\n",
       "      <td>2</td>\n",
       "      <td>NaT</td>\n",
       "      <td>NaT</td>\n",
       "      <td>251</td>\n",
       "    </tr>\n",
       "    <tr>\n",
       "      <th>53520</th>\n",
       "      <td>119476714</td>\n",
       "      <td>2018-09-21</td>\n",
       "      <td>19934664</td>\n",
       "      <td>0</td>\n",
       "      <td>26.44</td>\n",
       "      <td>[1.99, 6.99, 3.99, 2.49, 4.99, 5.99]</td>\n",
       "      <td>13.5721</td>\n",
       "      <td>6.4018</td>\n",
       "      <td>21.6721</td>\n",
       "      <td>[55500, 58928, 0, 74423, 61181, 67123]</td>\n",
       "      <td>[1220861, 1416412, 2, 2232906, 1326773, 1691224]</td>\n",
       "      <td>[55500, 58928, 6168, 74423, 61181, 67123]</td>\n",
       "      <td>2</td>\n",
       "      <td>NaT</td>\n",
       "      <td>NaT</td>\n",
       "      <td>20</td>\n",
       "    </tr>\n",
       "    <tr>\n",
       "      <th>53521</th>\n",
       "      <td>119478472</td>\n",
       "      <td>2018-09-21</td>\n",
       "      <td>20133595</td>\n",
       "      <td>0</td>\n",
       "      <td>83.97</td>\n",
       "      <td>[66.99, 5.99, 5.5, 5.49]</td>\n",
       "      <td>14.7778</td>\n",
       "      <td>6.3032</td>\n",
       "      <td>68.8278</td>\n",
       "      <td>[52639, 50305, 50341, 50340]</td>\n",
       "      <td>[954184, 849596, 1763532, 1763532]</td>\n",
       "      <td>[52639, 50305, 50341, 50341]</td>\n",
       "      <td>2</td>\n",
       "      <td>NaT</td>\n",
       "      <td>NaT</td>\n",
       "      <td>252</td>\n",
       "    </tr>\n",
       "    <tr>\n",
       "      <th>53522</th>\n",
       "      <td>119479251</td>\n",
       "      <td>2018-09-21</td>\n",
       "      <td>20483968</td>\n",
       "      <td>0</td>\n",
       "      <td>23.47</td>\n",
       "      <td>[4.49, 3.99, 14.99]</td>\n",
       "      <td>9.5177</td>\n",
       "      <td>2.8170</td>\n",
       "      <td>19.2377</td>\n",
       "      <td>[8019, 0, 71389]</td>\n",
       "      <td>[362043, 2, 2039760]</td>\n",
       "      <td>[8019, 6168, 71389]</td>\n",
       "      <td>2</td>\n",
       "      <td>NaT</td>\n",
       "      <td>NaT</td>\n",
       "      <td>1400</td>\n",
       "    </tr>\n",
       "    <tr>\n",
       "      <th>53523</th>\n",
       "      <td>119487256</td>\n",
       "      <td>2018-09-21</td>\n",
       "      <td>20541253</td>\n",
       "      <td>0</td>\n",
       "      <td>24.47</td>\n",
       "      <td>[3.99, 2.49, 17.99]</td>\n",
       "      <td>12.3974</td>\n",
       "      <td>4.4954</td>\n",
       "      <td>20.0574</td>\n",
       "      <td>[0, 74423, 61807]</td>\n",
       "      <td>[2, 2232906, 1353149]</td>\n",
       "      <td>[6168, 74423, 61807]</td>\n",
       "      <td>2</td>\n",
       "      <td>NaT</td>\n",
       "      <td>NaT</td>\n",
       "      <td>16</td>\n",
       "    </tr>\n",
       "    <tr>\n",
       "      <th>53524</th>\n",
       "      <td>119487563</td>\n",
       "      <td>2018-09-21</td>\n",
       "      <td>19855587</td>\n",
       "      <td>0</td>\n",
       "      <td>37.57</td>\n",
       "      <td>[21.99, 5.99, 8.59, 1.0]</td>\n",
       "      <td>12.3951</td>\n",
       "      <td>5.2272</td>\n",
       "      <td>30.7951</td>\n",
       "      <td>[61127, 63185, 56958, 0]</td>\n",
       "      <td>[1307574, 1441978, 1136106, 2]</td>\n",
       "      <td>[61127, 63185, 56958, 6168]</td>\n",
       "      <td>2</td>\n",
       "      <td>NaT</td>\n",
       "      <td>NaT</td>\n",
       "      <td>251</td>\n",
       "    </tr>\n",
       "    <tr>\n",
       "      <th>53525</th>\n",
       "      <td>119491875</td>\n",
       "      <td>2018-09-21</td>\n",
       "      <td>20241481</td>\n",
       "      <td>0</td>\n",
       "      <td>24.97</td>\n",
       "      <td>[2.0, 15.99, 2.99, 3.99]</td>\n",
       "      <td>11.9054</td>\n",
       "      <td>5.0919</td>\n",
       "      <td>20.7854</td>\n",
       "      <td>[367, 15524, 367, 0]</td>\n",
       "      <td>[2311337, 2311337, 365471, 2]</td>\n",
       "      <td>[15524, 15524, 367, 6168]</td>\n",
       "      <td>2</td>\n",
       "      <td>NaT</td>\n",
       "      <td>NaT</td>\n",
       "      <td>221</td>\n",
       "    </tr>\n",
       "    <tr>\n",
       "      <th>53526</th>\n",
       "      <td>119493836</td>\n",
       "      <td>2018-09-21</td>\n",
       "      <td>20242918</td>\n",
       "      <td>0</td>\n",
       "      <td>99.99</td>\n",
       "      <td>[99.99]</td>\n",
       "      <td>28.5790</td>\n",
       "      <td>19.9095</td>\n",
       "      <td>81.9590</td>\n",
       "      <td>[68421]</td>\n",
       "      <td>[1842817]</td>\n",
       "      <td>[68421]</td>\n",
       "      <td>2</td>\n",
       "      <td>NaT</td>\n",
       "      <td>NaT</td>\n",
       "      <td>251</td>\n",
       "    </tr>\n",
       "  </tbody>\n",
       "</table>\n",
       "<p>53527 rows × 16 columns</p>\n",
       "</div>"
      ],
      "text/plain": [
       "       SCM_N_ORDER_NR TDT_T_KEY_ORDER_DATE  CUS_N_KEY_CUSTOMER  CZP_ZTQ_ID  \\\n",
       "0           108152192           2018-04-06            19897061           0   \n",
       "1           108152234           2018-04-06            19897073           0   \n",
       "2           108152344           2018-04-06            19897080           0   \n",
       "3           108152458           2018-04-06            19897074           0   \n",
       "4           108152511           2018-04-06            19897135           0   \n",
       "5           108152525           2018-04-06            19897137           0   \n",
       "6           108152540           2018-04-06            19897023          56   \n",
       "7           108152852           2018-04-06            19897169           0   \n",
       "8           108152874           2018-04-06            19897109           0   \n",
       "9           108152948           2018-04-06            19897166           0   \n",
       "10          108153087           2018-04-06            19897180           0   \n",
       "11          108153110           2018-04-06            19897128           0   \n",
       "12          108153164           2018-04-06            19897130           0   \n",
       "13          108153207           2018-04-06            19897132           0   \n",
       "14          108153221           2018-04-06            19897194           0   \n",
       "15          108153294           2018-04-06            19897246           0   \n",
       "16          108153361           2018-04-06            19897257           0   \n",
       "17          108153593           2018-04-06            19897212           0   \n",
       "18          108153798           2018-04-06            19897222           0   \n",
       "19          108154249           2018-04-06            19897322           0   \n",
       "20          108154684           2018-04-06            19724977           0   \n",
       "21          108155810           2018-04-06            19897464           0   \n",
       "22          108155866           2018-04-06            19852371           0   \n",
       "23          108155992           2018-04-06            19897477           0   \n",
       "24          108156054           2018-04-06            19897456           0   \n",
       "25          108156091           2018-04-06            19896891          56   \n",
       "26          108156321           2018-04-06            19897542           0   \n",
       "27          108156531           2018-04-06            19897548           0   \n",
       "28          108156714           2018-04-06            19897559           0   \n",
       "29          108156985           2018-04-06            19897598           0   \n",
       "...               ...                  ...                 ...         ...   \n",
       "53497       119436596           2018-09-20            20579304           0   \n",
       "53498       119436806           2018-09-20            20553143           0   \n",
       "53499       119437789           2018-09-20            20222440           0   \n",
       "53500       119438852           2018-09-20            20581718           0   \n",
       "53501       119439877           2018-09-21            20445455           0   \n",
       "53502       119444720           2018-09-21            20574726           0   \n",
       "53503       119448824           2018-09-21            20335936           0   \n",
       "53504       119454156           2018-09-21            20432034           0   \n",
       "53505       119456191           2018-09-21            20269408          55   \n",
       "53506       119456546           2018-09-21            20247769           0   \n",
       "53507       119457754           2018-09-21            20407221           0   \n",
       "53508       119458359           2018-09-21            20573350          55   \n",
       "53509       119459603           2018-09-21            20212872           0   \n",
       "53510       119461251           2018-09-21            20573008           0   \n",
       "53511       119462525           2018-09-21            20508593           0   \n",
       "53512       119464725           2018-09-21            20236672           0   \n",
       "53513       119471213           2018-09-21            20540732           0   \n",
       "53514       119471422           2018-09-21            20396925           0   \n",
       "53515       119471427           2018-09-21            20182310           0   \n",
       "53516       119472672           2018-09-21            20250479           0   \n",
       "53517       119473683           2018-09-21            20396658           0   \n",
       "53518       119474864           2018-09-21            20109544           0   \n",
       "53519       119476668           2018-09-21            20284442           0   \n",
       "53520       119476714           2018-09-21            19934664           0   \n",
       "53521       119478472           2018-09-21            20133595           0   \n",
       "53522       119479251           2018-09-21            20483968           0   \n",
       "53523       119487256           2018-09-21            20541253           0   \n",
       "53524       119487563           2018-09-21            19855587           0   \n",
       "53525       119491875           2018-09-21            20241481           0   \n",
       "53526       119493836           2018-09-21            20242918           0   \n",
       "\n",
       "       SCM_SALES_BMF_sum                                 SCM_SALES_BMF_list  \\\n",
       "0                 151.97                                     [59.99, 91.98]   \n",
       "1                  37.97                                [4.99, 7.99, 24.99]   \n",
       "2                  46.78                               [25.99, 25.99, -5.2]   \n",
       "3                  89.95                          [6.99, 4.98, 7.99, 69.99]   \n",
       "4                  42.72                        [7.99, 17.99, 18.99, -2.25]   \n",
       "5                  46.53                              [-2.45, 25.99, 22.99]   \n",
       "6                 142.25   [33.89, 33.89, 27.99, 5.99, 19.99, 27.99, -7.49]   \n",
       "7                  35.98                                     [17.99, 17.99]   \n",
       "8                  27.44                           [4.49, 7.98, 6.98, 7.99]   \n",
       "9                  15.97                 [13.0, 12.99, 22.99, 16.99, -50.0]   \n",
       "10                 37.99                                            [37.99]   \n",
       "11                 34.64                        [15.99, 15.99, -1.83, 4.49]   \n",
       "12                 48.42                        [7.99, 12.99, 29.99, -2.55]   \n",
       "13                 71.87                        [11.89, 43.82, 1.17, 14.99]   \n",
       "14                 23.98                                      [19.99, 3.99]   \n",
       "15                 55.23                               [-2.75, 2.99, 54.99]   \n",
       "16                 96.99                                            [96.99]   \n",
       "17                 35.12                              [12.99, -1.85, 23.98]   \n",
       "18                 47.95                  [7.99, 12.99, 10.99, 2.99, 12.99]   \n",
       "19                130.97                       [32.85, -14.0, 4.98, 107.14]   \n",
       "20                 65.98                                      [62.99, 2.99]   \n",
       "21                357.86                                    [311.88, 45.98]   \n",
       "22                 56.96                         [24.99, 5.99, 19.99, 5.99]   \n",
       "23                 59.98                                      [49.99, 9.99]   \n",
       "24                 93.97                              [35.99, 45.99, 11.99]   \n",
       "25                112.04  [22.99, 1.24, 10.83, 5.61, 7.3, -5.9, 1.99, 9....   \n",
       "26                 48.98                                [34.99, 6.86, 7.13]   \n",
       "27                 35.94              [1.99, 6.99, 4.99, 4.99, 0.99, 15.99]   \n",
       "28                 82.48                                      [79.99, 2.49]   \n",
       "29                 47.49                                      [-2.5, 49.99]   \n",
       "...                  ...                                                ...   \n",
       "53497              40.86                          [5.39, 6.49, 19.99, 8.99]   \n",
       "53498              28.98                                      [25.99, 2.99]   \n",
       "53499              41.96                                [6.98, 9.99, 24.99]   \n",
       "53500              56.96                          [34.99, 6.99, 6.99, 7.99]   \n",
       "53501              49.99                                            [49.99]   \n",
       "53502              38.99                                       [37.99, 1.0]   \n",
       "53503              25.97                                [9.99, 11.99, 3.99]   \n",
       "53504              61.98                                     [47.99, 13.99]   \n",
       "53505              76.03            [33.18, 2.99, 6.98, 1.99, -2.29, 33.18]   \n",
       "53506              72.98                                     [47.99, 24.99]   \n",
       "53507              36.98                                      [3.99, 32.99]   \n",
       "53508              64.91                 [6.95, -2.01, 19.99, 19.99, 19.99]   \n",
       "53509              57.99                                            [57.99]   \n",
       "53510              35.98                                            [35.98]   \n",
       "53511              51.26                          [2.29, 41.99, 3.99, 2.99]   \n",
       "53512              36.45                    [5.49, 3.49, 5.49, 9.99, 11.99]   \n",
       "53513             129.98                                     [29.99, 99.99]   \n",
       "53514              48.97                   [12.61, 4.99, 12.69, 12.7, 5.99]   \n",
       "53515              40.45                       [17.99, 15.96, -4.49, 10.99]   \n",
       "53516              38.99                                       [37.99, 1.0]   \n",
       "53517             142.95                 [17.99, 19.99, 79.99, 9.99, 14.99]   \n",
       "53518              59.99                                            [59.99]   \n",
       "53519             175.98                                     [87.99, 87.99]   \n",
       "53520              26.44               [1.99, 6.99, 3.99, 2.49, 4.99, 5.99]   \n",
       "53521              83.97                           [66.99, 5.99, 5.5, 5.49]   \n",
       "53522              23.47                                [4.49, 3.99, 14.99]   \n",
       "53523              24.47                                [3.99, 2.49, 17.99]   \n",
       "53524              37.57                           [21.99, 5.99, 8.59, 1.0]   \n",
       "53525              24.97                           [2.0, 15.99, 2.99, 3.99]   \n",
       "53526              99.99                                            [99.99]   \n",
       "\n",
       "       SCM_D_FINANCE_CM1_sum  SCM_D_FINANCE_CM2_sum  \\\n",
       "0                    35.0955                19.3596   \n",
       "1                    12.9730                 5.2175   \n",
       "2                     7.2773                 0.3779   \n",
       "3                    27.6396                18.5679   \n",
       "4                     9.2576                -3.2566   \n",
       "5                     7.7300                 0.8306   \n",
       "6                    48.0683                25.8984   \n",
       "7                    12.2118                 6.0454   \n",
       "8                    12.7718                 5.8510   \n",
       "9                   -27.4843               -40.8966   \n",
       "10                    6.4764                -0.4230   \n",
       "11                    9.7335                 3.6274   \n",
       "12                    7.7785                 0.8577   \n",
       "13                   24.5430                 9.1658   \n",
       "14                   12.7457                 5.5751   \n",
       "15                   24.3405                13.8617   \n",
       "16                   16.1800                 7.7174   \n",
       "17                   17.3068                 7.7789   \n",
       "18                   17.9032                 9.8512   \n",
       "19                   26.8325                12.9006   \n",
       "20                   20.9719                13.1447   \n",
       "21                   68.9873                57.7575   \n",
       "22                   11.0284                 1.7081   \n",
       "23                   12.7140                 0.1996   \n",
       "24                   24.0770                10.3346   \n",
       "25                   31.3789                 9.0903   \n",
       "26                   23.0575                13.5691   \n",
       "27                   15.7391                 7.9226   \n",
       "28                   18.7366                 4.1927   \n",
       "29                    5.7328                -1.1666   \n",
       "...                      ...                    ...   \n",
       "53497                14.6893                 5.9483   \n",
       "53498                 6.4341                 1.9963   \n",
       "53499                17.3634                11.4750   \n",
       "53500                24.7385                12.3387   \n",
       "53501                 9.3354                 1.5396   \n",
       "53502                10.5390                 3.5752   \n",
       "53503                11.1669                 3.0315   \n",
       "53504                18.8833                 8.6577   \n",
       "53505                13.4796                 5.4666   \n",
       "53506                14.8897                 5.4730   \n",
       "53507                13.3182                 7.0216   \n",
       "53508                21.4848                12.9201   \n",
       "53509                14.5928                 0.7098   \n",
       "53510                10.8518                 4.1973   \n",
       "53511                12.3163                 3.9115   \n",
       "53512                10.6271                 2.7586   \n",
       "53513                36.3310                26.5520   \n",
       "53514                20.7593                12.2784   \n",
       "53515                13.4237                 5.6400   \n",
       "53516                10.5390                 2.8360   \n",
       "53517                53.9521                37.0455   \n",
       "53518                 9.5521                 1.0604   \n",
       "53519                51.4060                33.9676   \n",
       "53520                13.5721                 6.4018   \n",
       "53521                14.7778                 6.3032   \n",
       "53522                 9.5177                 2.8170   \n",
       "53523                12.3974                 4.4954   \n",
       "53524                12.3951                 5.2272   \n",
       "53525                11.9054                 5.0919   \n",
       "53526                28.5790                19.9095   \n",
       "\n",
       "       SCM_D_ORIG_FINANCE_ORDER_NET_sum  \\\n",
       "0                              124.5655   \n",
       "1                               31.1230   \n",
       "2                               42.5273   \n",
       "3                               73.7296   \n",
       "4                               38.1576   \n",
       "5                               42.3000   \n",
       "6                              116.5983   \n",
       "7                               29.4918   \n",
       "8                               22.4918   \n",
       "9                               13.9557   \n",
       "10                              34.5364   \n",
       "11                              28.3935   \n",
       "12                              39.6885   \n",
       "13                              59.9731   \n",
       "14                              19.6557   \n",
       "15                              45.2705   \n",
       "16                              79.5000   \n",
       "17                              28.7868   \n",
       "18                              39.3032   \n",
       "19                             107.3526   \n",
       "20                              54.0819   \n",
       "21                             325.3273   \n",
       "22                              46.6884   \n",
       "23                              53.6340   \n",
       "24                              81.1370   \n",
       "25                              93.7888   \n",
       "26                              40.1475   \n",
       "27                              29.4591   \n",
       "28                              67.6066   \n",
       "29                              43.1728   \n",
       "...                                 ...   \n",
       "53497                           35.2793   \n",
       "53498                           23.7541   \n",
       "53499                           34.3934   \n",
       "53500                           46.6885   \n",
       "53501                           40.9754   \n",
       "53502                           31.9590   \n",
       "53503                           21.2869   \n",
       "53504                           50.8033   \n",
       "53505                           62.3196   \n",
       "53506                           59.8197   \n",
       "53507                           33.6182   \n",
       "53508                           53.2048   \n",
       "53509                           47.5328   \n",
       "53510                           29.4918   \n",
       "53511                           42.0163   \n",
       "53512                           29.8771   \n",
       "53513                          106.5410   \n",
       "53514                           40.1393   \n",
       "53515                           34.6037   \n",
       "53516                           31.9590   \n",
       "53517                          117.1721   \n",
       "53518                           49.1721   \n",
       "53519                          144.2460   \n",
       "53520                           21.6721   \n",
       "53521                           68.8278   \n",
       "53522                           19.2377   \n",
       "53523                           20.0574   \n",
       "53524                           30.7951   \n",
       "53525                           20.7854   \n",
       "53526                           81.9590   \n",
       "\n",
       "                                          SCM_AP_ID_list  \\\n",
       "0                                         [61044, 60996]   \n",
       "1                                  [76404, 32209, 26920]   \n",
       "2                                      [69082, 68570, 0]   \n",
       "3                               [25741, 0, 42867, 66865]   \n",
       "4                               [72035, 68576, 68654, 0]   \n",
       "5                                      [0, 69082, 69083]   \n",
       "6          [73509, 73474, 66884, 42225, 65164, 66885, 0]   \n",
       "7                                         [69454, 69465]   \n",
       "8                               [61245, 71112, 0, 73434]   \n",
       "9                        [68059, 67426, 69080, 70693, 0]   \n",
       "10                                               [68653]   \n",
       "11                              [69919, 69857, 0, 69919]   \n",
       "12                              [73137, 35709, 57803, 0]   \n",
       "13                          [71389, 65421, 71344, 67317]   \n",
       "14                                            [48567, 0]   \n",
       "15                                         [0, 0, 27429]   \n",
       "16                                               [61090]   \n",
       "17                                      [55116, 0, 4041]   \n",
       "18                       [66239, 26770, 70312, 0, 76901]   \n",
       "19                                  [20024, 0, 0, 55454]   \n",
       "20                                            [70763, 0]   \n",
       "21                                        [69082, 69083]   \n",
       "22                          [63179, 63184, 68014, 18841]   \n",
       "23                                        [69082, 17344]   \n",
       "24                                 [67945, 68645, 73472]   \n",
       "25     [68649, 73363, 27329, 34153, 14444, 0, 34631, ...   \n",
       "26                                 [70089, 65201, 34628]   \n",
       "27             [4029, 50435, 36472, 66283, 62990, 25844]   \n",
       "28                                        [55427, 63616]   \n",
       "29                                            [0, 69082]   \n",
       "...                                                  ...   \n",
       "53497                       [57006, 73093, 64678, 70349]   \n",
       "53498                                         [68059, 0]   \n",
       "53499                                  [0, 46673, 25490]   \n",
       "53500                       [65538, 75589, 60977, 71078]   \n",
       "53501                                            [30208]   \n",
       "53502                                         [80737, 0]   \n",
       "53503                                  [20115, 80829, 0]   \n",
       "53504                                      [57463, 7198]   \n",
       "53505                 [60582, 42225, 78404, 0, 0, 61269]   \n",
       "53506                                     [80729, 69284]   \n",
       "53507                                         [0, 70689]   \n",
       "53508                    [73694, 0, 71942, 71862, 71943]   \n",
       "53509                                            [71794]   \n",
       "53510                                            [73189]   \n",
       "53511                           [68444, 70344, 79409, 0]   \n",
       "53512                 [69103, 6855, 69101, 60987, 78921]   \n",
       "53513                                     [74068, 56623]   \n",
       "53514                [56513, 65466, 56620, 56597, 54350]   \n",
       "53515                             [7742, 75947, 0, 3164]   \n",
       "53516                                         [80737, 0]   \n",
       "53517                [37857, 55121, 72045, 34269, 58202]   \n",
       "53518                                            [67990]   \n",
       "53519                                     [56498, 56498]   \n",
       "53520             [55500, 58928, 0, 74423, 61181, 67123]   \n",
       "53521                       [52639, 50305, 50341, 50340]   \n",
       "53522                                   [8019, 0, 71389]   \n",
       "53523                                  [0, 74423, 61807]   \n",
       "53524                           [61127, 63185, 56958, 0]   \n",
       "53525                               [367, 15524, 367, 0]   \n",
       "53526                                            [68421]   \n",
       "\n",
       "                                          SCM_AS_ID_list  \\\n",
       "0                                     [1313632, 1309318]   \n",
       "1                              [2307546, 548556, 440713]   \n",
       "2                                  [2379698, 1873611, 1]   \n",
       "3                          [432472, 2, 2327141, 1692198]   \n",
       "4                         [2064769, 1894283, 2383232, 1]   \n",
       "5                                  [1, 2383089, 2383088]   \n",
       "6      [2174597, 2174596, 1801728, 913725, 1569058, 1...   \n",
       "7                                     [1902178, 1902423]   \n",
       "8                         [1311745, 2010109, 2, 2273821]   \n",
       "9                [2273201, 2273201, 1900515, 1964899, 1]   \n",
       "10                                             [1931670]   \n",
       "11                        [1947637, 1947636, 1, 1947570]   \n",
       "12                         [2127946, 616485, 1394725, 1]   \n",
       "13                  [2156825, 2231406, 2231406, 1787406]   \n",
       "14                                           [825695, 2]   \n",
       "15                                        [1, 2, 483596]   \n",
       "16                                             [1313293]   \n",
       "17                                  [1109042, 1, 297858]   \n",
       "18                [1699836, 426035, 1958369, 2, 2383334]   \n",
       "19                              [2299988, 1, 2, 2299988]   \n",
       "20                                          [2296277, 2]   \n",
       "21                                    [2383089, 2383088]   \n",
       "22                   [1443018, 1441975, 1802997, 327681]   \n",
       "23                                     [2379700, 313437]   \n",
       "24                           [1774863, 1901169, 2162646]   \n",
       "25     [1934212, 2288125, 2288125, 2288125, 2288125, ...   \n",
       "26                           [2020155, 2361841, 2361841]   \n",
       "27     [337982, 853765, 602965, 1634395, 2385851, 395...   \n",
       "28                                    [1051958, 1459269]   \n",
       "29                                          [1, 2379700]   \n",
       "...                                                  ...   \n",
       "53497               [1148666, 2125878, 1590088, 1957233]   \n",
       "53498                                       [2008706, 2]   \n",
       "53499                                [2, 759245, 406076]   \n",
       "53500               [1676774, 2315482, 1359904, 2009198]   \n",
       "53501                                           [688315]   \n",
       "53502                                       [2411957, 2]   \n",
       "53503                              [2226944, 2448308, 2]   \n",
       "53504                                 [1158272, 2099988]   \n",
       "53505          [2465710, 906033, 2339559, 2, 6, 2465704]   \n",
       "53506                                 [2411156, 2079123]   \n",
       "53507                                       [2, 2382975]   \n",
       "53508            [2160627, 6, 2071913, 2071979, 2071978]   \n",
       "53509                                          [2067308]   \n",
       "53510                                          [2179521]   \n",
       "53511                     [1890812, 1956856, 2441741, 2]   \n",
       "53512       [1875633, 364253, 1875632, 1483569, 2350178]   \n",
       "53513                                 [2187819, 1114681]   \n",
       "53514      [1952046, 1771875, 1952046, 1952046, 1796693]   \n",
       "53515                      [2287991, 2256853, 1, 523348]   \n",
       "53516                                       [2411957, 2]   \n",
       "53517        [667381, 1095294, 2234401, 564922, 1357301]   \n",
       "53518                                          [1840278]   \n",
       "53519                                 [1114720, 1114720]   \n",
       "53520   [1220861, 1416412, 2, 2232906, 1326773, 1691224]   \n",
       "53521                 [954184, 849596, 1763532, 1763532]   \n",
       "53522                               [362043, 2, 2039760]   \n",
       "53523                              [2, 2232906, 1353149]   \n",
       "53524                     [1307574, 1441978, 1136106, 2]   \n",
       "53525                      [2311337, 2311337, 365471, 2]   \n",
       "53526                                          [1842817]   \n",
       "\n",
       "                                   SCM_MASTER_AP_ID_list  OSP_KO_COUNT_NET  \\\n",
       "0                                         [61044, 60996]                 1   \n",
       "1                                  [76404, 32209, 26920]                 1   \n",
       "2                                   [69082, 68570, 6169]                 1   \n",
       "3                            [25741, 6168, 42867, 66865]                 1   \n",
       "4                            [72035, 68576, 68654, 6169]                 1   \n",
       "5                                   [6169, 69082, 69083]                 1   \n",
       "6      [73509, 73474, 66884, 42225, 65164, 66885, 42715]                 1   \n",
       "7                                         [69454, 69465]                 1   \n",
       "8                            [61245, 71112, 6168, 73434]                 1   \n",
       "9                     [68059, 68059, 69080, 70693, 6169]                 1   \n",
       "10                                               [68653]                 1   \n",
       "11                           [69919, 69857, 6169, 69919]                 1   \n",
       "12                           [73137, 35709, 57803, 6169]                 1   \n",
       "13                          [71389, 65421, 65421, 67317]                 1   \n",
       "14                                         [48567, 6168]                 1   \n",
       "15                                   [6169, 6168, 27429]                 1   \n",
       "16                                               [61090]                 1   \n",
       "17                                   [55116, 6169, 4041]                 1   \n",
       "18                    [66239, 26770, 70312, 6168, 76901]                 1   \n",
       "19                            [55454, 6169, 6168, 55454]                 1   \n",
       "20                                         [70763, 6168]                 1   \n",
       "21                                        [69082, 69083]                 1   \n",
       "22                          [63179, 63184, 68014, 18841]                 1   \n",
       "23                                        [69082, 17344]                 1   \n",
       "24                                 [67945, 68645, 73472]                 1   \n",
       "25     [68649, 27329, 27329, 27329, 27329, 42715, 346...                 1   \n",
       "26                                 [70089, 34628, 34628]                 1   \n",
       "27             [4029, 50435, 36472, 66283, 62990, 25844]                 1   \n",
       "28                                        [55427, 63616]                 1   \n",
       "29                                         [6169, 69082]                 1   \n",
       "...                                                  ...               ...   \n",
       "53497                       [57006, 73093, 64678, 70349]                 2   \n",
       "53498                                      [68059, 6168]                 2   \n",
       "53499                               [6168, 46673, 25490]                 2   \n",
       "53500                       [65538, 75589, 60977, 71078]                 2   \n",
       "53501                                            [30208]                 2   \n",
       "53502                                      [80737, 6168]                 2   \n",
       "53503                               [20115, 80829, 6168]                 2   \n",
       "53504                                      [57463, 7198]                 2   \n",
       "53505          [60582, 42225, 78404, 6168, 42715, 61269]                 2   \n",
       "53506                                     [80729, 69284]                 2   \n",
       "53507                                      [6168, 70689]                 2   \n",
       "53508                [73694, 42715, 71942, 71862, 71943]                 2   \n",
       "53509                                            [71794]                 2   \n",
       "53510                                            [73189]                 2   \n",
       "53511                        [68444, 70344, 79409, 6168]                 2   \n",
       "53512                 [69103, 6855, 69101, 60987, 78921]                 2   \n",
       "53513                                     [74068, 56623]                 2   \n",
       "53514                [56620, 65466, 56620, 56620, 54350]                 2   \n",
       "53515                          [7742, 75947, 6169, 3164]                 2   \n",
       "53516                                      [80737, 6168]                 2   \n",
       "53517                [37857, 55121, 72045, 34269, 58202]                 2   \n",
       "53518                                            [67990]                 2   \n",
       "53519                                     [56498, 56498]                 2   \n",
       "53520          [55500, 58928, 6168, 74423, 61181, 67123]                 2   \n",
       "53521                       [52639, 50305, 50341, 50341]                 2   \n",
       "53522                                [8019, 6168, 71389]                 2   \n",
       "53523                               [6168, 74423, 61807]                 2   \n",
       "53524                        [61127, 63185, 56958, 6168]                 2   \n",
       "53525                          [15524, 15524, 367, 6168]                 2   \n",
       "53526                                            [68421]                 2   \n",
       "\n",
       "      CZP_START_DATE CZP_EXPIRY_DATE  OSP_3_LEAD_P_PG_ID  \n",
       "0                NaT             NaT                 251  \n",
       "1                NaT             NaT                  33  \n",
       "2                NaT             NaT              207553  \n",
       "3                NaT             NaT                 251  \n",
       "4                NaT             NaT              207553  \n",
       "5                NaT             NaT              207553  \n",
       "6         2018-04-06      2019-04-06                 251  \n",
       "7                NaT             NaT                 251  \n",
       "8                NaT             NaT                 252  \n",
       "9                NaT             NaT              207624  \n",
       "10               NaT             NaT              207553  \n",
       "11               NaT             NaT                2068  \n",
       "12               NaT             NaT                 251  \n",
       "13               NaT             NaT                2190  \n",
       "14               NaT             NaT                  23  \n",
       "15               NaT             NaT                   9  \n",
       "16               NaT             NaT                 251  \n",
       "17               NaT             NaT                2155  \n",
       "18               NaT             NaT                  20  \n",
       "19               NaT             NaT                2192  \n",
       "20               NaT             NaT                 251  \n",
       "21               NaT             NaT              207553  \n",
       "22               NaT             NaT                 857  \n",
       "23               NaT             NaT              207553  \n",
       "24               NaT             NaT                 251  \n",
       "25        2018-04-06      2019-04-06                 251  \n",
       "26               NaT             NaT                  23  \n",
       "27               NaT             NaT                  20  \n",
       "28               NaT             NaT                2192  \n",
       "29               NaT             NaT              207553  \n",
       "...              ...             ...                 ...  \n",
       "53497            NaT             NaT                 301  \n",
       "53498            NaT             NaT                2068  \n",
       "53499            NaT             NaT                  15  \n",
       "53500            NaT             NaT                   9  \n",
       "53501            NaT             NaT                 251  \n",
       "53502            NaT             NaT                 251  \n",
       "53503            NaT             NaT                2471  \n",
       "53504            NaT             NaT                 251  \n",
       "53505     2018-09-21      2019-09-21                2068  \n",
       "53506            NaT             NaT                 251  \n",
       "53507            NaT             NaT              207553  \n",
       "53508     2018-06-26      2019-06-26                2068  \n",
       "53509            NaT             NaT                 251  \n",
       "53510            NaT             NaT                2068  \n",
       "53511            NaT             NaT                 251  \n",
       "53512            NaT             NaT                2068  \n",
       "53513            NaT             NaT                 251  \n",
       "53514            NaT             NaT                 252  \n",
       "53515            NaT             NaT                  62  \n",
       "53516            NaT             NaT                 251  \n",
       "53517            NaT             NaT                  23  \n",
       "53518            NaT             NaT                 251  \n",
       "53519            NaT             NaT                 251  \n",
       "53520            NaT             NaT                  20  \n",
       "53521            NaT             NaT                 252  \n",
       "53522            NaT             NaT                1400  \n",
       "53523            NaT             NaT                  16  \n",
       "53524            NaT             NaT                 251  \n",
       "53525            NaT             NaT                 221  \n",
       "53526            NaT             NaT                 251  \n",
       "\n",
       "[53527 rows x 16 columns]"
      ]
     },
     "execution_count": 26,
     "metadata": {},
     "output_type": "execute_result"
    }
   ],
   "source": [
    "orders"
   ]
  },
  {
   "cell_type": "code",
   "execution_count": 27,
   "metadata": {
    "ExecuteTime": {
     "end_time": "2018-10-24T10:19:06.998109Z",
     "start_time": "2018-10-24T10:19:06.979109Z"
    }
   },
   "outputs": [],
   "source": [
    "orders['SP_SOLD'] = [(42225 in i) * 1 for i in orders['SCM_MASTER_AP_ID_list'].values]"
   ]
  },
  {
   "cell_type": "markdown",
   "metadata": {},
   "source": [
    "### Eligibility rules set up"
   ]
  },
  {
   "attachments": {
    "image.png": {
     "image/png": "[encoded data removed]"
    }
   },
   "cell_type": "markdown",
   "metadata": {},
   "source": [
    "<html><head>\n",
    "\n",
    "\n",
    "<!-- Load require.js. Delete this if your page already loads require.js -->\n",
    "<script src=\"https://cdnjs.cloudflare.com/ajax/libs/require.js/2.3.4/require.min.js\" integrity=\"sha256-Ae2Vz/4ePdIu6ZyI/5ZGsYnb+m0JlOmKPjt6XZ9JJkA=\" crossorigin=\"anonymous\"></script>\n",
    "<script src=\"https://unpkg.com/@jupyter-widgets/html-manager@*/dist/embed-amd.js\" crossorigin=\"anonymous\"></script>\n",
    "<script type=\"application/vnd.jupyter.widget-state+json\">\n",
    "{\n",
    "    \"version_major\": 2,\n",
    "    \"version_minor\": 0,\n",
    "    \"state\": {}\n",
    "}\n",
    "</script>\n",
    "</head>\n",
    "<body>\n",
    "\n",
    "\n",
    "</body>\n",
    "</html>\n",
    "![image.png](attachment:image.png)"
   ]
  },
  {
   "cell_type": "code",
   "execution_count": 28,
   "metadata": {
    "ExecuteTime": {
     "end_time": "2018-10-24T10:19:07.013109Z",
     "start_time": "2018-10-24T10:19:07.000109Z"
    }
   },
   "outputs": [],
   "source": [
    "lead_pg3 = [23, 38, 251, 252, 857, 2068]"
   ]
  },
  {
   "cell_type": "markdown",
   "metadata": {
    "ExecuteTime": {
     "end_time": "2018-10-22T14:16:00.248521Z",
     "start_time": "2018-10-22T14:16:00.239521Z"
    }
   },
   "source": [
    "Based only on Lead PG3, let's re-create the eligibility rules..."
   ]
  },
  {
   "cell_type": "code",
   "execution_count": 29,
   "metadata": {
    "ExecuteTime": {
     "end_time": "2018-10-24T10:19:07.051109Z",
     "start_time": "2018-10-24T10:19:07.015109Z"
    }
   },
   "outputs": [
    {
     "data": {
      "text/html": [
       "<div>\n",
       "<style scoped>\n",
       "    .dataframe tbody tr th:only-of-type {\n",
       "        vertical-align: middle;\n",
       "    }\n",
       "\n",
       "    .dataframe tbody tr th {\n",
       "        vertical-align: top;\n",
       "    }\n",
       "\n",
       "    .dataframe thead th {\n",
       "        text-align: right;\n",
       "    }\n",
       "</style>\n",
       "<table border=\"1\" class=\"dataframe\">\n",
       "  <thead>\n",
       "    <tr style=\"text-align: right;\">\n",
       "      <th></th>\n",
       "      <th>SCM_N_ORDER_NR</th>\n",
       "      <th>TDT_T_KEY_ORDER_DATE</th>\n",
       "      <th>CUS_N_KEY_CUSTOMER</th>\n",
       "      <th>CZP_ZTQ_ID</th>\n",
       "      <th>SCM_SALES_BMF_sum</th>\n",
       "      <th>SCM_SALES_BMF_list</th>\n",
       "      <th>SCM_D_FINANCE_CM1_sum</th>\n",
       "      <th>SCM_D_FINANCE_CM2_sum</th>\n",
       "      <th>SCM_D_ORIG_FINANCE_ORDER_NET_sum</th>\n",
       "      <th>SCM_AP_ID_list</th>\n",
       "      <th>SCM_AS_ID_list</th>\n",
       "      <th>SCM_MASTER_AP_ID_list</th>\n",
       "      <th>OSP_KO_COUNT_NET</th>\n",
       "      <th>CZP_START_DATE</th>\n",
       "      <th>CZP_EXPIRY_DATE</th>\n",
       "      <th>OSP_3_LEAD_P_PG_ID</th>\n",
       "      <th>SP_SOLD</th>\n",
       "    </tr>\n",
       "  </thead>\n",
       "  <tbody>\n",
       "    <tr>\n",
       "      <th>26866</th>\n",
       "      <td>111539596</td>\n",
       "      <td>2018-05-28</td>\n",
       "      <td>20323168</td>\n",
       "      <td>0</td>\n",
       "      <td>52.97</td>\n",
       "      <td>[31.99, 16.99, 3.99]</td>\n",
       "      <td>12.0680</td>\n",
       "      <td>5.1880</td>\n",
       "      <td>43.4180</td>\n",
       "      <td>[63156, 23387, 64072]</td>\n",
       "      <td>[1441999, 2067396, 1565454]</td>\n",
       "      <td>[63156, 23387, 64072]</td>\n",
       "      <td>1</td>\n",
       "      <td>NaT</td>\n",
       "      <td>NaT</td>\n",
       "      <td>251</td>\n",
       "      <td>0</td>\n",
       "    </tr>\n",
       "    <tr>\n",
       "      <th>26693</th>\n",
       "      <td>111514418</td>\n",
       "      <td>2018-05-28</td>\n",
       "      <td>20217369</td>\n",
       "      <td>0</td>\n",
       "      <td>51.08</td>\n",
       "      <td>[27.58, 26.4, 1.29, -5.68, 1.49]</td>\n",
       "      <td>18.3889</td>\n",
       "      <td>-0.2759</td>\n",
       "      <td>41.8689</td>\n",
       "      <td>[33229, 33327, 23976, 0, 23968]</td>\n",
       "      <td>[2320252, 2320252, 353121, 1, 353122]</td>\n",
       "      <td>[33229, 33229, 23976, 6169, 23968]</td>\n",
       "      <td>2</td>\n",
       "      <td>NaT</td>\n",
       "      <td>NaT</td>\n",
       "      <td>301</td>\n",
       "      <td>0</td>\n",
       "    </tr>\n",
       "    <tr>\n",
       "      <th>53329</th>\n",
       "      <td>119155863</td>\n",
       "      <td>2018-09-17</td>\n",
       "      <td>20195286</td>\n",
       "      <td>0</td>\n",
       "      <td>49.99</td>\n",
       "      <td>[49.99]</td>\n",
       "      <td>13.3854</td>\n",
       "      <td>6.4216</td>\n",
       "      <td>40.9754</td>\n",
       "      <td>[58576]</td>\n",
       "      <td>[1190246]</td>\n",
       "      <td>[58576]</td>\n",
       "      <td>2</td>\n",
       "      <td>NaT</td>\n",
       "      <td>NaT</td>\n",
       "      <td>251</td>\n",
       "      <td>0</td>\n",
       "    </tr>\n",
       "    <tr>\n",
       "      <th>9348</th>\n",
       "      <td>109343441</td>\n",
       "      <td>2018-04-24</td>\n",
       "      <td>19996641</td>\n",
       "      <td>0</td>\n",
       "      <td>109.99</td>\n",
       "      <td>[109.99]</td>\n",
       "      <td>23.0757</td>\n",
       "      <td>16.8261</td>\n",
       "      <td>90.1557</td>\n",
       "      <td>[74784]</td>\n",
       "      <td>[2192388]</td>\n",
       "      <td>[74784]</td>\n",
       "      <td>2</td>\n",
       "      <td>NaT</td>\n",
       "      <td>NaT</td>\n",
       "      <td>409</td>\n",
       "      <td>0</td>\n",
       "    </tr>\n",
       "    <tr>\n",
       "      <th>29942</th>\n",
       "      <td>111914282</td>\n",
       "      <td>2018-06-02</td>\n",
       "      <td>20368939</td>\n",
       "      <td>0</td>\n",
       "      <td>35.93</td>\n",
       "      <td>[4.99, 5.49, 3.99, 1.99, 5.99, 10.99, 2.49]</td>\n",
       "      <td>16.0608</td>\n",
       "      <td>6.6898</td>\n",
       "      <td>29.4508</td>\n",
       "      <td>[33641, 22185, 51819, 58428, 64305, 73458, 52835]</td>\n",
       "      <td>[562828, 330207, 991581, 1253482, 1604020, 218...</td>\n",
       "      <td>[33641, 22185, 51819, 58428, 64305, 73458, 52835]</td>\n",
       "      <td>1</td>\n",
       "      <td>NaT</td>\n",
       "      <td>NaT</td>\n",
       "      <td>301</td>\n",
       "      <td>0</td>\n",
       "    </tr>\n",
       "  </tbody>\n",
       "</table>\n",
       "</div>"
      ],
      "text/plain": [
       "       SCM_N_ORDER_NR TDT_T_KEY_ORDER_DATE  CUS_N_KEY_CUSTOMER  CZP_ZTQ_ID  \\\n",
       "26866       111539596           2018-05-28            20323168           0   \n",
       "26693       111514418           2018-05-28            20217369           0   \n",
       "53329       119155863           2018-09-17            20195286           0   \n",
       "9348        109343441           2018-04-24            19996641           0   \n",
       "29942       111914282           2018-06-02            20368939           0   \n",
       "\n",
       "       SCM_SALES_BMF_sum                           SCM_SALES_BMF_list  \\\n",
       "26866              52.97                         [31.99, 16.99, 3.99]   \n",
       "26693              51.08             [27.58, 26.4, 1.29, -5.68, 1.49]   \n",
       "53329              49.99                                      [49.99]   \n",
       "9348              109.99                                     [109.99]   \n",
       "29942              35.93  [4.99, 5.49, 3.99, 1.99, 5.99, 10.99, 2.49]   \n",
       "\n",
       "       SCM_D_FINANCE_CM1_sum  SCM_D_FINANCE_CM2_sum  \\\n",
       "26866                12.0680                 5.1880   \n",
       "26693                18.3889                -0.2759   \n",
       "53329                13.3854                 6.4216   \n",
       "9348                 23.0757                16.8261   \n",
       "29942                16.0608                 6.6898   \n",
       "\n",
       "       SCM_D_ORIG_FINANCE_ORDER_NET_sum  \\\n",
       "26866                           43.4180   \n",
       "26693                           41.8689   \n",
       "53329                           40.9754   \n",
       "9348                            90.1557   \n",
       "29942                           29.4508   \n",
       "\n",
       "                                          SCM_AP_ID_list  \\\n",
       "26866                              [63156, 23387, 64072]   \n",
       "26693                    [33229, 33327, 23976, 0, 23968]   \n",
       "53329                                            [58576]   \n",
       "9348                                             [74784]   \n",
       "29942  [33641, 22185, 51819, 58428, 64305, 73458, 52835]   \n",
       "\n",
       "                                          SCM_AS_ID_list  \\\n",
       "26866                        [1441999, 2067396, 1565454]   \n",
       "26693              [2320252, 2320252, 353121, 1, 353122]   \n",
       "53329                                          [1190246]   \n",
       "9348                                           [2192388]   \n",
       "29942  [562828, 330207, 991581, 1253482, 1604020, 218...   \n",
       "\n",
       "                                   SCM_MASTER_AP_ID_list  OSP_KO_COUNT_NET  \\\n",
       "26866                              [63156, 23387, 64072]                 1   \n",
       "26693                 [33229, 33229, 23976, 6169, 23968]                 2   \n",
       "53329                                            [58576]                 2   \n",
       "9348                                             [74784]                 2   \n",
       "29942  [33641, 22185, 51819, 58428, 64305, 73458, 52835]                 1   \n",
       "\n",
       "      CZP_START_DATE CZP_EXPIRY_DATE  OSP_3_LEAD_P_PG_ID  SP_SOLD  \n",
       "26866            NaT             NaT                 251        0  \n",
       "26693            NaT             NaT                 301        0  \n",
       "53329            NaT             NaT                 251        0  \n",
       "9348             NaT             NaT                 409        0  \n",
       "29942            NaT             NaT                 301        0  "
      ]
     },
     "execution_count": 29,
     "metadata": {},
     "output_type": "execute_result"
    }
   ],
   "source": [
    "orders.sample(5)"
   ]
  },
  {
   "cell_type": "code",
   "execution_count": 30,
   "metadata": {
    "ExecuteTime": {
     "end_time": "2018-10-24T10:19:07.058109Z",
     "start_time": "2018-10-24T10:19:07.052109Z"
    }
   },
   "outputs": [],
   "source": [
    "orders['O_ELIG'] = (orders['OSP_3_LEAD_P_PG_ID'].isin(lead_pg3)) * 1"
   ]
  },
  {
   "cell_type": "code",
   "execution_count": 31,
   "metadata": {
    "ExecuteTime": {
     "end_time": "2018-10-24T10:19:07.080109Z",
     "start_time": "2018-10-24T10:19:07.060109Z"
    }
   },
   "outputs": [
    {
     "data": {
      "text/html": [
       "<div>\n",
       "<style scoped>\n",
       "    .dataframe tbody tr th:only-of-type {\n",
       "        vertical-align: middle;\n",
       "    }\n",
       "\n",
       "    .dataframe tbody tr th {\n",
       "        vertical-align: top;\n",
       "    }\n",
       "\n",
       "    .dataframe thead th {\n",
       "        text-align: right;\n",
       "    }\n",
       "</style>\n",
       "<table border=\"1\" class=\"dataframe\">\n",
       "  <thead>\n",
       "    <tr style=\"text-align: right;\">\n",
       "      <th></th>\n",
       "      <th>OSP_KO_COUNT_NET</th>\n",
       "      <th>CZP_ZTQ_ID</th>\n",
       "      <th>SP_SOLD</th>\n",
       "    </tr>\n",
       "  </thead>\n",
       "  <tbody>\n",
       "    <tr>\n",
       "      <th>0</th>\n",
       "      <td>1</td>\n",
       "      <td>0</td>\n",
       "      <td>2</td>\n",
       "    </tr>\n",
       "    <tr>\n",
       "      <th>1</th>\n",
       "      <td>1</td>\n",
       "      <td>55</td>\n",
       "      <td>376</td>\n",
       "    </tr>\n",
       "    <tr>\n",
       "      <th>2</th>\n",
       "      <td>1</td>\n",
       "      <td>56</td>\n",
       "      <td>1482</td>\n",
       "    </tr>\n",
       "    <tr>\n",
       "      <th>3</th>\n",
       "      <td>2</td>\n",
       "      <td>0</td>\n",
       "      <td>0</td>\n",
       "    </tr>\n",
       "    <tr>\n",
       "      <th>4</th>\n",
       "      <td>2</td>\n",
       "      <td>55</td>\n",
       "      <td>194</td>\n",
       "    </tr>\n",
       "    <tr>\n",
       "      <th>5</th>\n",
       "      <td>2</td>\n",
       "      <td>56</td>\n",
       "      <td>741</td>\n",
       "    </tr>\n",
       "  </tbody>\n",
       "</table>\n",
       "</div>"
      ],
      "text/plain": [
       "   OSP_KO_COUNT_NET  CZP_ZTQ_ID  SP_SOLD\n",
       "0                 1           0        2\n",
       "1                 1          55      376\n",
       "2                 1          56     1482\n",
       "3                 2           0        0\n",
       "4                 2          55      194\n",
       "5                 2          56      741"
      ]
     },
     "execution_count": 31,
     "metadata": {},
     "output_type": "execute_result"
    }
   ],
   "source": [
    "orders.groupby(['OSP_KO_COUNT_NET', 'CZP_ZTQ_ID'], as_index=False)['SP_SOLD'].sum()"
   ]
  },
  {
   "cell_type": "code",
   "execution_count": 32,
   "metadata": {
    "ExecuteTime": {
     "end_time": "2018-10-24T10:19:07.140109Z",
     "start_time": "2018-10-24T10:19:07.081109Z"
    }
   },
   "outputs": [
    {
     "data": {
      "text/plain": [
       "OSP_KO_COUNT_NET  O_ELIG\n",
       "1                 1         19842\n",
       "                  0         18762\n",
       "2                 1         10209\n",
       "                  0          4714\n",
       "Name: O_ELIG, dtype: int64"
      ]
     },
     "execution_count": 32,
     "metadata": {},
     "output_type": "execute_result"
    }
   ],
   "source": [
    "orders.groupby('OSP_KO_COUNT_NET')['O_ELIG'].value_counts()"
   ]
  },
  {
   "cell_type": "code",
   "execution_count": 34,
   "metadata": {
    "ExecuteTime": {
     "end_time": "2018-10-24T10:19:07.162109Z",
     "start_time": "2018-10-24T10:19:07.147109Z"
    }
   },
   "outputs": [],
   "source": [
    "# Facts facing inference:\n",
    "# - We assume that interest in acquire SP from current non-eligible customers (orders) does not vary (p.e. accessories)\n",
    "# - The SP variant we want to keep converts around 3-4 times less compared with tier 56. "
   ]
  },
  {
   "cell_type": "markdown",
   "metadata": {},
   "source": [
    "#### From order to customer level"
   ]
  },
  {
   "cell_type": "code",
   "execution_count": 35,
   "metadata": {
    "ExecuteTime": {
     "end_time": "2018-10-24T10:19:07.182109Z",
     "start_time": "2018-10-24T10:19:07.164109Z"
    }
   },
   "outputs": [],
   "source": [
    "agg_ord_ops = {'CZP_ZTQ_ID': 'unique',\n",
    "              'SCM_N_ORDER_NR': len,\n",
    "              'SCM_SALES_BMF_sum': [sum, lambda x: list(np.round(x, 2))],\n",
    "              'SCM_D_FINANCE_CM1_sum': [sum, lambda x: list(np.round(x, 2))],\n",
    "              'SCM_D_FINANCE_CM2_sum': [sum, lambda x: list(np.round(x, 2))],\n",
    "              'SCM_D_ORIG_FINANCE_ORDER_NET_sum': [sum, lambda x: list(np.round(x, 2))],\n",
    "              'OSP_3_LEAD_P_PG_ID': lambda x: list(x),\n",
    "              'OSP_KO_COUNT_NET': lambda x: list(x),\n",
    "              'SP_SOLD': lambda x: list(x),\n",
    "              'O_ELIG': lambda x: list(x)\n",
    "              }"
   ]
  },
  {
   "cell_type": "code",
   "execution_count": 36,
   "metadata": {
    "ExecuteTime": {
     "end_time": "2018-10-24T10:19:30.928109Z",
     "start_time": "2018-10-24T10:19:07.184109Z"
    }
   },
   "outputs": [],
   "source": [
    "customers = orders.groupby('CUS_N_KEY_CUSTOMER', as_index=False).agg(agg_ord_ops).round(2)"
   ]
  },
  {
   "cell_type": "code",
   "execution_count": 37,
   "metadata": {
    "ExecuteTime": {
     "end_time": "2018-10-24T10:19:30.934109Z",
     "start_time": "2018-10-24T10:19:30.929109Z"
    }
   },
   "outputs": [],
   "source": [
    "customers.columns = ['_'.join(tup).rstrip('_') for tup in customers.columns.values]"
   ]
  },
  {
   "cell_type": "code",
   "execution_count": 38,
   "metadata": {
    "ExecuteTime": {
     "end_time": "2018-10-24T10:19:30.950109Z",
     "start_time": "2018-10-24T10:19:30.936109Z"
    }
   },
   "outputs": [
    {
     "data": {
      "text/plain": [
       "Index(['CUS_N_KEY_CUSTOMER', 'CZP_ZTQ_ID_unique', 'SCM_N_ORDER_NR_len',\n",
       "       'SCM_SALES_BMF_sum_sum', 'SCM_SALES_BMF_sum_<lambda>',\n",
       "       'SCM_D_FINANCE_CM1_sum_sum', 'SCM_D_FINANCE_CM1_sum_<lambda>',\n",
       "       'SCM_D_FINANCE_CM2_sum_sum', 'SCM_D_FINANCE_CM2_sum_<lambda>',\n",
       "       'SCM_D_ORIG_FINANCE_ORDER_NET_sum_sum',\n",
       "       'SCM_D_ORIG_FINANCE_ORDER_NET_sum_<lambda>',\n",
       "       'OSP_3_LEAD_P_PG_ID_<lambda>', 'OSP_KO_COUNT_NET_<lambda>',\n",
       "       'SP_SOLD_<lambda>', 'O_ELIG_<lambda>'],\n",
       "      dtype='object')"
      ]
     },
     "execution_count": 38,
     "metadata": {},
     "output_type": "execute_result"
    }
   ],
   "source": [
    "customers.columns"
   ]
  },
  {
   "cell_type": "code",
   "execution_count": 39,
   "metadata": {
    "ExecuteTime": {
     "end_time": "2018-10-24T10:19:30.965109Z",
     "start_time": "2018-10-24T10:19:30.952109Z"
    }
   },
   "outputs": [],
   "source": [
    "customers.columns = ['CUS_N_KEY_CUSTOMER', 'CZP_ZTQ_ID_unique', 'SCM_N_ORDER_NR_len',\n",
    "       'SCM_SALES_BMF_sum', 'SCM_SALES_BMF_list',\n",
    "       'SCM_D_FINANCE_CM1_sum', 'SCM_D_FINANCE_CM1_list',\n",
    "       'SCM_D_FINANCE_CM2_sum', 'SCM_D_FINANCE_CM2_list',\n",
    "       'SCM_D_ORIG_FINANCE_ORDER_NET_sum',\n",
    "       'SCM_D_ORIG_FINANCE_ORDER_NET_list', 'OSP_3_LEAD_P_PG_ID_list',\n",
    "       'OSP_KO_COUNT_NET_list', 'SP_SOLD_list', 'O_ELIG_list']"
   ]
  },
  {
   "cell_type": "code",
   "execution_count": 40,
   "metadata": {
    "ExecuteTime": {
     "end_time": "2018-10-24T10:19:31.025109Z",
     "start_time": "2018-10-24T10:19:30.968109Z"
    }
   },
   "outputs": [
    {
     "data": {
      "text/html": [
       "<div>\n",
       "<style scoped>\n",
       "    .dataframe tbody tr th:only-of-type {\n",
       "        vertical-align: middle;\n",
       "    }\n",
       "\n",
       "    .dataframe tbody tr th {\n",
       "        vertical-align: top;\n",
       "    }\n",
       "\n",
       "    .dataframe thead th {\n",
       "        text-align: right;\n",
       "    }\n",
       "</style>\n",
       "<table border=\"1\" class=\"dataframe\">\n",
       "  <thead>\n",
       "    <tr style=\"text-align: right;\">\n",
       "      <th></th>\n",
       "      <th>CUS_N_KEY_CUSTOMER</th>\n",
       "      <th>CZP_ZTQ_ID_unique</th>\n",
       "      <th>SCM_N_ORDER_NR_len</th>\n",
       "      <th>SCM_SALES_BMF_sum</th>\n",
       "      <th>SCM_SALES_BMF_list</th>\n",
       "      <th>SCM_D_FINANCE_CM1_sum</th>\n",
       "      <th>SCM_D_FINANCE_CM1_list</th>\n",
       "      <th>SCM_D_FINANCE_CM2_sum</th>\n",
       "      <th>SCM_D_FINANCE_CM2_list</th>\n",
       "      <th>SCM_D_ORIG_FINANCE_ORDER_NET_sum</th>\n",
       "      <th>SCM_D_ORIG_FINANCE_ORDER_NET_list</th>\n",
       "      <th>OSP_3_LEAD_P_PG_ID_list</th>\n",
       "      <th>OSP_KO_COUNT_NET_list</th>\n",
       "      <th>SP_SOLD_list</th>\n",
       "      <th>O_ELIG_list</th>\n",
       "    </tr>\n",
       "  </thead>\n",
       "  <tbody>\n",
       "    <tr>\n",
       "      <th>28575</th>\n",
       "      <td>20408107</td>\n",
       "      <td>[0]</td>\n",
       "      <td>1</td>\n",
       "      <td>65.98</td>\n",
       "      <td>[65.98]</td>\n",
       "      <td>12.05</td>\n",
       "      <td>[12.05]</td>\n",
       "      <td>4.82</td>\n",
       "      <td>[4.82]</td>\n",
       "      <td>54.08</td>\n",
       "      <td>[54.08]</td>\n",
       "      <td>[251]</td>\n",
       "      <td>[1]</td>\n",
       "      <td>[0]</td>\n",
       "      <td>[1]</td>\n",
       "    </tr>\n",
       "    <tr>\n",
       "      <th>34840</th>\n",
       "      <td>20529197</td>\n",
       "      <td>[0]</td>\n",
       "      <td>1</td>\n",
       "      <td>46.99</td>\n",
       "      <td>[46.99]</td>\n",
       "      <td>7.72</td>\n",
       "      <td>[7.72]</td>\n",
       "      <td>-1.10</td>\n",
       "      <td>[-1.1]</td>\n",
       "      <td>38.52</td>\n",
       "      <td>[38.52]</td>\n",
       "      <td>[251]</td>\n",
       "      <td>[1]</td>\n",
       "      <td>[0]</td>\n",
       "      <td>[1]</td>\n",
       "    </tr>\n",
       "    <tr>\n",
       "      <th>26702</th>\n",
       "      <td>20370102</td>\n",
       "      <td>[0]</td>\n",
       "      <td>2</td>\n",
       "      <td>135.55</td>\n",
       "      <td>[87.41, 48.14]</td>\n",
       "      <td>62.36</td>\n",
       "      <td>[41.19, 21.17]</td>\n",
       "      <td>27.20</td>\n",
       "      <td>[21.32, 5.88]</td>\n",
       "      <td>117.29</td>\n",
       "      <td>[76.12, 41.17]</td>\n",
       "      <td>[305, 252]</td>\n",
       "      <td>[1, 2]</td>\n",
       "      <td>[0, 0]</td>\n",
       "      <td>[0, 1]</td>\n",
       "    </tr>\n",
       "    <tr>\n",
       "      <th>5</th>\n",
       "      <td>2076334</td>\n",
       "      <td>[0]</td>\n",
       "      <td>1</td>\n",
       "      <td>8.98</td>\n",
       "      <td>[8.98]</td>\n",
       "      <td>5.54</td>\n",
       "      <td>[5.54]</td>\n",
       "      <td>1.32</td>\n",
       "      <td>[1.32]</td>\n",
       "      <td>7.36</td>\n",
       "      <td>[7.36]</td>\n",
       "      <td>[153317]</td>\n",
       "      <td>[1]</td>\n",
       "      <td>[0]</td>\n",
       "      <td>[0]</td>\n",
       "    </tr>\n",
       "    <tr>\n",
       "      <th>37501</th>\n",
       "      <td>20578618</td>\n",
       "      <td>[0]</td>\n",
       "      <td>1</td>\n",
       "      <td>40.98</td>\n",
       "      <td>[40.98]</td>\n",
       "      <td>8.01</td>\n",
       "      <td>[8.01]</td>\n",
       "      <td>1.54</td>\n",
       "      <td>[1.54]</td>\n",
       "      <td>33.59</td>\n",
       "      <td>[33.59]</td>\n",
       "      <td>[252]</td>\n",
       "      <td>[1]</td>\n",
       "      <td>[0]</td>\n",
       "      <td>[1]</td>\n",
       "    </tr>\n",
       "    <tr>\n",
       "      <th>18220</th>\n",
       "      <td>20207335</td>\n",
       "      <td>[56]</td>\n",
       "      <td>1</td>\n",
       "      <td>79.78</td>\n",
       "      <td>[79.78]</td>\n",
       "      <td>17.53</td>\n",
       "      <td>[17.53]</td>\n",
       "      <td>8.90</td>\n",
       "      <td>[8.9]</td>\n",
       "      <td>65.39</td>\n",
       "      <td>[65.39]</td>\n",
       "      <td>[251]</td>\n",
       "      <td>[1]</td>\n",
       "      <td>[1]</td>\n",
       "      <td>[1]</td>\n",
       "    </tr>\n",
       "    <tr>\n",
       "      <th>2511</th>\n",
       "      <td>19921133</td>\n",
       "      <td>[0]</td>\n",
       "      <td>1</td>\n",
       "      <td>28.95</td>\n",
       "      <td>[28.95]</td>\n",
       "      <td>16.77</td>\n",
       "      <td>[16.77]</td>\n",
       "      <td>7.99</td>\n",
       "      <td>[7.99]</td>\n",
       "      <td>23.73</td>\n",
       "      <td>[23.73]</td>\n",
       "      <td>[153317]</td>\n",
       "      <td>[1]</td>\n",
       "      <td>[0]</td>\n",
       "      <td>[0]</td>\n",
       "    </tr>\n",
       "    <tr>\n",
       "      <th>22640</th>\n",
       "      <td>20291942</td>\n",
       "      <td>[0]</td>\n",
       "      <td>1</td>\n",
       "      <td>79.99</td>\n",
       "      <td>[79.99]</td>\n",
       "      <td>26.41</td>\n",
       "      <td>[26.41]</td>\n",
       "      <td>16.21</td>\n",
       "      <td>[16.21]</td>\n",
       "      <td>65.57</td>\n",
       "      <td>[65.57]</td>\n",
       "      <td>[758]</td>\n",
       "      <td>[1]</td>\n",
       "      <td>[0]</td>\n",
       "      <td>[0]</td>\n",
       "    </tr>\n",
       "    <tr>\n",
       "      <th>20477</th>\n",
       "      <td>20249932</td>\n",
       "      <td>[0]</td>\n",
       "      <td>1</td>\n",
       "      <td>23.77</td>\n",
       "      <td>[23.77]</td>\n",
       "      <td>8.30</td>\n",
       "      <td>[8.3]</td>\n",
       "      <td>0.42</td>\n",
       "      <td>[0.42]</td>\n",
       "      <td>19.48</td>\n",
       "      <td>[19.48]</td>\n",
       "      <td>[301]</td>\n",
       "      <td>[1]</td>\n",
       "      <td>[0]</td>\n",
       "      <td>[0]</td>\n",
       "    </tr>\n",
       "    <tr>\n",
       "      <th>15427</th>\n",
       "      <td>20156032</td>\n",
       "      <td>[0]</td>\n",
       "      <td>2</td>\n",
       "      <td>149.74</td>\n",
       "      <td>[108.75, 40.99]</td>\n",
       "      <td>28.97</td>\n",
       "      <td>[23.91, 5.06]</td>\n",
       "      <td>5.90</td>\n",
       "      <td>[10.09, -4.18]</td>\n",
       "      <td>122.74</td>\n",
       "      <td>[89.14, 33.6]</td>\n",
       "      <td>[207553, 251]</td>\n",
       "      <td>[1, 2]</td>\n",
       "      <td>[0, 0]</td>\n",
       "      <td>[0, 1]</td>\n",
       "    </tr>\n",
       "    <tr>\n",
       "      <th>11113</th>\n",
       "      <td>20077477</td>\n",
       "      <td>[0, 56]</td>\n",
       "      <td>2</td>\n",
       "      <td>99.49</td>\n",
       "      <td>[52.99, 46.5]</td>\n",
       "      <td>42.12</td>\n",
       "      <td>[24.59, 17.52]</td>\n",
       "      <td>26.58</td>\n",
       "      <td>[17.2, 9.38]</td>\n",
       "      <td>81.55</td>\n",
       "      <td>[43.43, 38.11]</td>\n",
       "      <td>[251, 251]</td>\n",
       "      <td>[1, 2]</td>\n",
       "      <td>[0, 1]</td>\n",
       "      <td>[1, 1]</td>\n",
       "    </tr>\n",
       "    <tr>\n",
       "      <th>28113</th>\n",
       "      <td>20398773</td>\n",
       "      <td>[0]</td>\n",
       "      <td>1</td>\n",
       "      <td>36.99</td>\n",
       "      <td>[36.99]</td>\n",
       "      <td>11.05</td>\n",
       "      <td>[11.05]</td>\n",
       "      <td>2.77</td>\n",
       "      <td>[2.77]</td>\n",
       "      <td>30.32</td>\n",
       "      <td>[30.32]</td>\n",
       "      <td>[251]</td>\n",
       "      <td>[1]</td>\n",
       "      <td>[0]</td>\n",
       "      <td>[1]</td>\n",
       "    </tr>\n",
       "    <tr>\n",
       "      <th>33030</th>\n",
       "      <td>20496163</td>\n",
       "      <td>[0]</td>\n",
       "      <td>1</td>\n",
       "      <td>102.98</td>\n",
       "      <td>[102.98]</td>\n",
       "      <td>33.23</td>\n",
       "      <td>[33.23]</td>\n",
       "      <td>22.14</td>\n",
       "      <td>[22.14]</td>\n",
       "      <td>84.41</td>\n",
       "      <td>[84.41]</td>\n",
       "      <td>[1540]</td>\n",
       "      <td>[1]</td>\n",
       "      <td>[0]</td>\n",
       "      <td>[0]</td>\n",
       "    </tr>\n",
       "    <tr>\n",
       "      <th>6135</th>\n",
       "      <td>19983432</td>\n",
       "      <td>[0]</td>\n",
       "      <td>2</td>\n",
       "      <td>107.97</td>\n",
       "      <td>[41.99, 65.98]</td>\n",
       "      <td>14.94</td>\n",
       "      <td>[3.23, 11.71]</td>\n",
       "      <td>-0.93</td>\n",
       "      <td>[-4.99, 4.06]</td>\n",
       "      <td>88.50</td>\n",
       "      <td>[34.42, 54.08]</td>\n",
       "      <td>[251, 251]</td>\n",
       "      <td>[1, 2]</td>\n",
       "      <td>[0, 0]</td>\n",
       "      <td>[1, 1]</td>\n",
       "    </tr>\n",
       "    <tr>\n",
       "      <th>20425</th>\n",
       "      <td>20249086</td>\n",
       "      <td>[0]</td>\n",
       "      <td>2</td>\n",
       "      <td>162.07</td>\n",
       "      <td>[63.99, 98.08]</td>\n",
       "      <td>28.95</td>\n",
       "      <td>[12.75, 16.2]</td>\n",
       "      <td>12.40</td>\n",
       "      <td>[5.52, 6.88]</td>\n",
       "      <td>132.84</td>\n",
       "      <td>[52.45, 80.39]</td>\n",
       "      <td>[251, 251]</td>\n",
       "      <td>[1, 2]</td>\n",
       "      <td>[0, 0]</td>\n",
       "      <td>[1, 1]</td>\n",
       "    </tr>\n",
       "    <tr>\n",
       "      <th>27431</th>\n",
       "      <td>20386097</td>\n",
       "      <td>[0]</td>\n",
       "      <td>2</td>\n",
       "      <td>107.93</td>\n",
       "      <td>[80.96, 26.97]</td>\n",
       "      <td>38.00</td>\n",
       "      <td>[21.99, 16.01]</td>\n",
       "      <td>20.71</td>\n",
       "      <td>[11.06, 9.65]</td>\n",
       "      <td>88.47</td>\n",
       "      <td>[66.36, 22.11]</td>\n",
       "      <td>[252, 2155]</td>\n",
       "      <td>[1, 2]</td>\n",
       "      <td>[0, 0]</td>\n",
       "      <td>[1, 0]</td>\n",
       "    </tr>\n",
       "    <tr>\n",
       "      <th>9942</th>\n",
       "      <td>20055025</td>\n",
       "      <td>[0]</td>\n",
       "      <td>2</td>\n",
       "      <td>46.98</td>\n",
       "      <td>[24.94, 22.04]</td>\n",
       "      <td>23.69</td>\n",
       "      <td>[13.64, 10.05]</td>\n",
       "      <td>8.86</td>\n",
       "      <td>[5.57, 3.28]</td>\n",
       "      <td>38.51</td>\n",
       "      <td>[20.44, 18.07]</td>\n",
       "      <td>[50, 758]</td>\n",
       "      <td>[1, 2]</td>\n",
       "      <td>[0, 0]</td>\n",
       "      <td>[0, 0]</td>\n",
       "    </tr>\n",
       "    <tr>\n",
       "      <th>15849</th>\n",
       "      <td>20163528</td>\n",
       "      <td>[0]</td>\n",
       "      <td>2</td>\n",
       "      <td>107.57</td>\n",
       "      <td>[49.99, 57.58]</td>\n",
       "      <td>21.84</td>\n",
       "      <td>[9.65, 12.2]</td>\n",
       "      <td>5.65</td>\n",
       "      <td>[1.83, 3.83]</td>\n",
       "      <td>88.17</td>\n",
       "      <td>[40.98, 47.2]</td>\n",
       "      <td>[251, 251]</td>\n",
       "      <td>[1, 2]</td>\n",
       "      <td>[0, 0]</td>\n",
       "      <td>[1, 1]</td>\n",
       "    </tr>\n",
       "    <tr>\n",
       "      <th>26423</th>\n",
       "      <td>20364774</td>\n",
       "      <td>[0]</td>\n",
       "      <td>1</td>\n",
       "      <td>173.44</td>\n",
       "      <td>[173.44]</td>\n",
       "      <td>40.06</td>\n",
       "      <td>[40.06]</td>\n",
       "      <td>23.65</td>\n",
       "      <td>[23.65]</td>\n",
       "      <td>142.16</td>\n",
       "      <td>[142.16]</td>\n",
       "      <td>[857]</td>\n",
       "      <td>[1]</td>\n",
       "      <td>[0]</td>\n",
       "      <td>[1]</td>\n",
       "    </tr>\n",
       "    <tr>\n",
       "      <th>26462</th>\n",
       "      <td>20365470</td>\n",
       "      <td>[0]</td>\n",
       "      <td>1</td>\n",
       "      <td>89.99</td>\n",
       "      <td>[89.99]</td>\n",
       "      <td>18.62</td>\n",
       "      <td>[18.62]</td>\n",
       "      <td>9.99</td>\n",
       "      <td>[9.99]</td>\n",
       "      <td>73.76</td>\n",
       "      <td>[73.76]</td>\n",
       "      <td>[251]</td>\n",
       "      <td>[1]</td>\n",
       "      <td>[0]</td>\n",
       "      <td>[1]</td>\n",
       "    </tr>\n",
       "  </tbody>\n",
       "</table>\n",
       "</div>"
      ],
      "text/plain": [
       "       CUS_N_KEY_CUSTOMER CZP_ZTQ_ID_unique  SCM_N_ORDER_NR_len  \\\n",
       "28575            20408107               [0]                   1   \n",
       "34840            20529197               [0]                   1   \n",
       "26702            20370102               [0]                   2   \n",
       "5                 2076334               [0]                   1   \n",
       "37501            20578618               [0]                   1   \n",
       "18220            20207335              [56]                   1   \n",
       "2511             19921133               [0]                   1   \n",
       "22640            20291942               [0]                   1   \n",
       "20477            20249932               [0]                   1   \n",
       "15427            20156032               [0]                   2   \n",
       "11113            20077477           [0, 56]                   2   \n",
       "28113            20398773               [0]                   1   \n",
       "33030            20496163               [0]                   1   \n",
       "6135             19983432               [0]                   2   \n",
       "20425            20249086               [0]                   2   \n",
       "27431            20386097               [0]                   2   \n",
       "9942             20055025               [0]                   2   \n",
       "15849            20163528               [0]                   2   \n",
       "26423            20364774               [0]                   1   \n",
       "26462            20365470               [0]                   1   \n",
       "\n",
       "       SCM_SALES_BMF_sum SCM_SALES_BMF_list  SCM_D_FINANCE_CM1_sum  \\\n",
       "28575              65.98            [65.98]                  12.05   \n",
       "34840              46.99            [46.99]                   7.72   \n",
       "26702             135.55     [87.41, 48.14]                  62.36   \n",
       "5                   8.98             [8.98]                   5.54   \n",
       "37501              40.98            [40.98]                   8.01   \n",
       "18220              79.78            [79.78]                  17.53   \n",
       "2511               28.95            [28.95]                  16.77   \n",
       "22640              79.99            [79.99]                  26.41   \n",
       "20477              23.77            [23.77]                   8.30   \n",
       "15427             149.74    [108.75, 40.99]                  28.97   \n",
       "11113              99.49      [52.99, 46.5]                  42.12   \n",
       "28113              36.99            [36.99]                  11.05   \n",
       "33030             102.98           [102.98]                  33.23   \n",
       "6135              107.97     [41.99, 65.98]                  14.94   \n",
       "20425             162.07     [63.99, 98.08]                  28.95   \n",
       "27431             107.93     [80.96, 26.97]                  38.00   \n",
       "9942               46.98     [24.94, 22.04]                  23.69   \n",
       "15849             107.57     [49.99, 57.58]                  21.84   \n",
       "26423             173.44           [173.44]                  40.06   \n",
       "26462              89.99            [89.99]                  18.62   \n",
       "\n",
       "      SCM_D_FINANCE_CM1_list  SCM_D_FINANCE_CM2_sum SCM_D_FINANCE_CM2_list  \\\n",
       "28575                [12.05]                   4.82                 [4.82]   \n",
       "34840                 [7.72]                  -1.10                 [-1.1]   \n",
       "26702         [41.19, 21.17]                  27.20          [21.32, 5.88]   \n",
       "5                     [5.54]                   1.32                 [1.32]   \n",
       "37501                 [8.01]                   1.54                 [1.54]   \n",
       "18220                [17.53]                   8.90                  [8.9]   \n",
       "2511                 [16.77]                   7.99                 [7.99]   \n",
       "22640                [26.41]                  16.21                [16.21]   \n",
       "20477                  [8.3]                   0.42                 [0.42]   \n",
       "15427          [23.91, 5.06]                   5.90         [10.09, -4.18]   \n",
       "11113         [24.59, 17.52]                  26.58           [17.2, 9.38]   \n",
       "28113                [11.05]                   2.77                 [2.77]   \n",
       "33030                [33.23]                  22.14                [22.14]   \n",
       "6135           [3.23, 11.71]                  -0.93          [-4.99, 4.06]   \n",
       "20425          [12.75, 16.2]                  12.40           [5.52, 6.88]   \n",
       "27431         [21.99, 16.01]                  20.71          [11.06, 9.65]   \n",
       "9942          [13.64, 10.05]                   8.86           [5.57, 3.28]   \n",
       "15849           [9.65, 12.2]                   5.65           [1.83, 3.83]   \n",
       "26423                [40.06]                  23.65                [23.65]   \n",
       "26462                [18.62]                   9.99                 [9.99]   \n",
       "\n",
       "       SCM_D_ORIG_FINANCE_ORDER_NET_sum SCM_D_ORIG_FINANCE_ORDER_NET_list  \\\n",
       "28575                             54.08                           [54.08]   \n",
       "34840                             38.52                           [38.52]   \n",
       "26702                            117.29                    [76.12, 41.17]   \n",
       "5                                  7.36                            [7.36]   \n",
       "37501                             33.59                           [33.59]   \n",
       "18220                             65.39                           [65.39]   \n",
       "2511                              23.73                           [23.73]   \n",
       "22640                             65.57                           [65.57]   \n",
       "20477                             19.48                           [19.48]   \n",
       "15427                            122.74                     [89.14, 33.6]   \n",
       "11113                             81.55                    [43.43, 38.11]   \n",
       "28113                             30.32                           [30.32]   \n",
       "33030                             84.41                           [84.41]   \n",
       "6135                              88.50                    [34.42, 54.08]   \n",
       "20425                            132.84                    [52.45, 80.39]   \n",
       "27431                             88.47                    [66.36, 22.11]   \n",
       "9942                              38.51                    [20.44, 18.07]   \n",
       "15849                             88.17                     [40.98, 47.2]   \n",
       "26423                            142.16                          [142.16]   \n",
       "26462                             73.76                           [73.76]   \n",
       "\n",
       "      OSP_3_LEAD_P_PG_ID_list OSP_KO_COUNT_NET_list SP_SOLD_list O_ELIG_list  \n",
       "28575                   [251]                   [1]          [0]         [1]  \n",
       "34840                   [251]                   [1]          [0]         [1]  \n",
       "26702              [305, 252]                [1, 2]       [0, 0]      [0, 1]  \n",
       "5                    [153317]                   [1]          [0]         [0]  \n",
       "37501                   [252]                   [1]          [0]         [1]  \n",
       "18220                   [251]                   [1]          [1]         [1]  \n",
       "2511                 [153317]                   [1]          [0]         [0]  \n",
       "22640                   [758]                   [1]          [0]         [0]  \n",
       "20477                   [301]                   [1]          [0]         [0]  \n",
       "15427           [207553, 251]                [1, 2]       [0, 0]      [0, 1]  \n",
       "11113              [251, 251]                [1, 2]       [0, 1]      [1, 1]  \n",
       "28113                   [251]                   [1]          [0]         [1]  \n",
       "33030                  [1540]                   [1]          [0]         [0]  \n",
       "6135               [251, 251]                [1, 2]       [0, 0]      [1, 1]  \n",
       "20425              [251, 251]                [1, 2]       [0, 0]      [1, 1]  \n",
       "27431             [252, 2155]                [1, 2]       [0, 0]      [1, 0]  \n",
       "9942                [50, 758]                [1, 2]       [0, 0]      [0, 0]  \n",
       "15849              [251, 251]                [1, 2]       [0, 0]      [1, 1]  \n",
       "26423                   [857]                   [1]          [0]         [1]  \n",
       "26462                   [251]                   [1]          [0]         [1]  "
      ]
     },
     "execution_count": 40,
     "metadata": {},
     "output_type": "execute_result"
    }
   ],
   "source": [
    "customers.sample(20)"
   ]
  },
  {
   "cell_type": "markdown",
   "metadata": {},
   "source": [
    "### Workflow\n",
    "    + 1st orders: % of non-eligible and eligible (from the latter ones get SP CR% in 1st order)\n",
    "    + 2nd orders: get probability of repurchase when coming from a non-eligible 1st order and from an eligible one\n",
    "    + Eligibility in 2nd order: 2nd order itself or inherited from the 1st one\n",
    "    + Calculate SP conversion in 2nd order for the available ways"
   ]
  },
  {
   "cell_type": "code",
   "execution_count": 41,
   "metadata": {
    "ExecuteTime": {
     "end_time": "2018-10-24T10:19:31.049109Z",
     "start_time": "2018-10-24T10:19:31.027109Z"
    }
   },
   "outputs": [],
   "source": [
    "#Does 1st order make the customer eligible?\n",
    "customers['CUS_ELIG_1ST'] = [(i[0] == 1) * 1 for i in customers['O_ELIG_list'].values]"
   ]
  },
  {
   "cell_type": "code",
   "execution_count": 42,
   "metadata": {
    "ExecuteTime": {
     "end_time": "2018-10-24T10:19:31.075109Z",
     "start_time": "2018-10-24T10:19:31.050109Z"
    }
   },
   "outputs": [],
   "source": [
    "#Has the customer placed a 2nd order?\n",
    "customers['HAS_2ND_ORDER'] = [(len(i) > 1) * 1 for i in customers['OSP_KO_COUNT_NET_list'].values]"
   ]
  },
  {
   "cell_type": "code",
   "execution_count": 43,
   "metadata": {
    "ExecuteTime": {
     "end_time": "2018-10-24T10:19:31.102109Z",
     "start_time": "2018-10-24T10:19:31.076109Z"
    }
   },
   "outputs": [],
   "source": [
    "#Does 2nd order -in case the 1st one does not- make the customer eligible?\n",
    "customers['CUS_ELIG_2ND'] = [(i[0] == 0 and i[1] == 1) * 1 if len(i) == 2 else 0 for i in customers['O_ELIG_list'].values]"
   ]
  },
  {
   "cell_type": "code",
   "execution_count": 44,
   "metadata": {
    "ExecuteTime": {
     "end_time": "2018-10-24T10:19:31.125109Z",
     "start_time": "2018-10-24T10:19:31.103109Z"
    }
   },
   "outputs": [],
   "source": [
    "#Is SP sold in 1st order?\n",
    "customers['SP_SOLD_1ST'] = [(i[0] == 1) * 1 for i in customers['SP_SOLD_list'].values]"
   ]
  },
  {
   "cell_type": "code",
   "execution_count": 45,
   "metadata": {
    "ExecuteTime": {
     "end_time": "2018-10-24T10:19:31.154109Z",
     "start_time": "2018-10-24T10:19:31.126109Z"
    }
   },
   "outputs": [],
   "source": [
    "#Is SP sold in 2nd order?\n",
    "customers['SP_SOLD_2ND'] = [(i[0] == 0 and i[1] == 1) * 1 if len(i) > 1 else 0 for i in customers['SP_SOLD_list'].values]"
   ]
  },
  {
   "cell_type": "code",
   "execution_count": 46,
   "metadata": {
    "ExecuteTime": {
     "end_time": "2018-10-24T10:19:31.295109Z",
     "start_time": "2018-10-24T10:19:31.155109Z"
    }
   },
   "outputs": [],
   "source": [
    "#Does the customer belong to tier 55?\n",
    "customers['TIER_55'] = [(55 in i) * 1 for i in customers['CZP_ZTQ_ID_unique'].values]"
   ]
  },
  {
   "cell_type": "code",
   "execution_count": 47,
   "metadata": {
    "ExecuteTime": {
     "end_time": "2018-10-24T10:19:31.426109Z",
     "start_time": "2018-10-24T10:19:31.296109Z"
    }
   },
   "outputs": [],
   "source": [
    "#Does he belong to 56?\n",
    "customers['TIER_56'] = [(56 in i) * 1 for i in customers['CZP_ZTQ_ID_unique'].values]"
   ]
  },
  {
   "cell_type": "markdown",
   "metadata": {},
   "source": [
    "**SP CR% in 1st order:**"
   ]
  },
  {
   "cell_type": "code",
   "execution_count": 48,
   "metadata": {
    "ExecuteTime": {
     "end_time": "2018-10-24T10:19:31.433109Z",
     "start_time": "2018-10-24T10:19:31.427109Z"
    }
   },
   "outputs": [
    {
     "name": "stdout",
     "output_type": "stream",
     "text": [
      "SP conversion rate in 1st order:  9.37 %\n"
     ]
    }
   ],
   "source": [
    "# Dividing SP sold in 1st order by every customer made eligible by his 1st order\n",
    "print('SP conversion rate in 1st order: ', np.round(customers['SP_SOLD_1ST'].sum()/customers['CUS_ELIG_1ST'].sum() * 100, 2), '%')"
   ]
  },
  {
   "cell_type": "code",
   "execution_count": 49,
   "metadata": {
    "ExecuteTime": {
     "end_time": "2018-10-24T10:19:31.450109Z",
     "start_time": "2018-10-24T10:19:31.435109Z"
    }
   },
   "outputs": [
    {
     "name": "stdout",
     "output_type": "stream",
     "text": [
      "SP 3% (tier 55) conversion rate in 1st order:  1.9 %\n"
     ]
    }
   ],
   "source": [
    "print('SP 3% (tier 55) conversion rate in 1st order: ', \n",
    "      np.round((customers['SP_SOLD_1ST'] * customers['TIER_55']).sum()/customers['CUS_ELIG_1ST'].sum() * 100, 2), '%')"
   ]
  },
  {
   "cell_type": "code",
   "execution_count": 50,
   "metadata": {
    "ExecuteTime": {
     "end_time": "2018-10-24T10:19:31.467109Z",
     "start_time": "2018-10-24T10:19:31.452109Z"
    }
   },
   "outputs": [
    {
     "name": "stdout",
     "output_type": "stream",
     "text": [
      "SP 5% (tier 56) conversion rate in 1st order:  7.46 %\n"
     ]
    }
   ],
   "source": [
    "print('SP 5% (tier 56) conversion rate in 1st order: ', \n",
    "      np.round((customers['SP_SOLD_1ST'] * customers['TIER_56']).sum()/customers['CUS_ELIG_1ST'].sum() * 100, 2), '%')"
   ]
  },
  {
   "cell_type": "markdown",
   "metadata": {},
   "source": [
    "**Probability of repurchasing if 1st order was eligible or not:**"
   ]
  },
  {
   "cell_type": "code",
   "execution_count": 54,
   "metadata": {
    "ExecuteTime": {
     "end_time": "2018-10-24T10:19:31.534109Z",
     "start_time": "2018-10-24T10:19:31.516109Z"
    }
   },
   "outputs": [],
   "source": [
    "rep_if_elig = customers.groupby('CUS_ELIG_1ST').agg({'CUS_ELIG_1ST': 'count',\n",
    "                                                     'SP_SOLD_1ST': sum,\n",
    "                                                     'HAS_2ND_ORDER': sum,\n",
    "                                                     'CUS_ELIG_2ND': sum,\n",
    "                                                     'SP_SOLD_2ND': sum})"
   ]
  },
  {
   "cell_type": "code",
   "execution_count": 55,
   "metadata": {
    "ExecuteTime": {
     "end_time": "2018-10-24T10:19:31.541109Z",
     "start_time": "2018-10-24T10:19:31.535109Z"
    }
   },
   "outputs": [],
   "source": [
    "rep_if_elig['PROB'] = np.round(rep_if_elig['HAS_2ND_ORDER'] / rep_if_elig['CUS_ELIG_1ST'], 3)"
   ]
  },
  {
   "cell_type": "code",
   "execution_count": 56,
   "metadata": {
    "ExecuteTime": {
     "end_time": "2018-10-24T10:19:31.565109Z",
     "start_time": "2018-10-24T10:19:31.543109Z"
    }
   },
   "outputs": [
    {
     "data": {
      "text/html": [
       "<div>\n",
       "<style scoped>\n",
       "    .dataframe tbody tr th:only-of-type {\n",
       "        vertical-align: middle;\n",
       "    }\n",
       "\n",
       "    .dataframe tbody tr th {\n",
       "        vertical-align: top;\n",
       "    }\n",
       "\n",
       "    .dataframe thead th {\n",
       "        text-align: right;\n",
       "    }\n",
       "</style>\n",
       "<table border=\"1\" class=\"dataframe\">\n",
       "  <thead>\n",
       "    <tr style=\"text-align: right;\">\n",
       "      <th></th>\n",
       "      <th>CUS_ELIG_1ST</th>\n",
       "      <th>SP_SOLD_1ST</th>\n",
       "      <th>HAS_2ND_ORDER</th>\n",
       "      <th>CUS_ELIG_2ND</th>\n",
       "      <th>SP_SOLD_2ND</th>\n",
       "      <th>PROB</th>\n",
       "    </tr>\n",
       "    <tr>\n",
       "      <th>CUS_ELIG_1ST</th>\n",
       "      <th></th>\n",
       "      <th></th>\n",
       "      <th></th>\n",
       "      <th></th>\n",
       "      <th></th>\n",
       "      <th></th>\n",
       "    </tr>\n",
       "  </thead>\n",
       "  <tbody>\n",
       "    <tr>\n",
       "      <th>0</th>\n",
       "      <td>18771</td>\n",
       "      <td>0</td>\n",
       "      <td>5022</td>\n",
       "      <td>1782</td>\n",
       "      <td>252</td>\n",
       "      <td>0.268</td>\n",
       "    </tr>\n",
       "    <tr>\n",
       "      <th>1</th>\n",
       "      <td>19855</td>\n",
       "      <td>1860</td>\n",
       "      <td>9877</td>\n",
       "      <td>0</td>\n",
       "      <td>682</td>\n",
       "      <td>0.497</td>\n",
       "    </tr>\n",
       "  </tbody>\n",
       "</table>\n",
       "</div>"
      ],
      "text/plain": [
       "              CUS_ELIG_1ST  SP_SOLD_1ST  HAS_2ND_ORDER  CUS_ELIG_2ND  \\\n",
       "CUS_ELIG_1ST                                                           \n",
       "0                    18771            0           5022          1782   \n",
       "1                    19855         1860           9877             0   \n",
       "\n",
       "              SP_SOLD_2ND   PROB  \n",
       "CUS_ELIG_1ST                      \n",
       "0                     252  0.268  \n",
       "1                     682  0.497  "
      ]
     },
     "execution_count": 56,
     "metadata": {},
     "output_type": "execute_result"
    }
   ],
   "source": [
    "rep_if_elig"
   ]
  },
  {
   "cell_type": "code",
   "execution_count": 57,
   "metadata": {
    "ExecuteTime": {
     "end_time": "2018-10-24T10:19:31.578109Z",
     "start_time": "2018-10-24T10:19:31.566109Z"
    }
   },
   "outputs": [
    {
     "name": "stdout",
     "output_type": "stream",
     "text": [
      "Probability of repurchasing in our data without SP eligibility [between 84 and 168 days from 1st order]: 0.386\n"
     ]
    }
   ],
   "source": [
    "print('Probability of repurchasing in our data without SP eligibility [between 84 and 168 days from 1st order]:' , \n",
    "      np.round(customers['HAS_2ND_ORDER'].sum() / customers['CUS_ELIG_1ST'].count(), 3))"
   ]
  },
  {
   "cell_type": "markdown",
   "metadata": {},
   "source": [
    "**SP CR% in 2nd order:**"
   ]
  },
  {
   "cell_type": "markdown",
   "metadata": {
    "ExecuteTime": {
     "end_time": "2018-10-24T12:39:49.755109Z",
     "start_time": "2018-10-24T12:39:49.744109Z"
    }
   },
   "source": [
    "In second order we have 2 different groups:\n",
    "    + Those seeing the offer for the 1st time in 2nd order because only their 2nd order makes them eligible\n",
    "    + Those who have already seen the offer and didn´t buy the SP in 1st order, and see it again during the 2nd\n",
    "    \n",
    "For each group we will calculate probabilities conditioned by repurchase and by tier (55 or 56)"
   ]
  },
  {
   "cell_type": "code",
   "execution_count": 59,
   "metadata": {
    "ExecuteTime": {
     "end_time": "2018-10-24T10:19:31.642109Z",
     "start_time": "2018-10-24T10:19:31.625109Z"
    }
   },
   "outputs": [
    {
     "data": {
      "text/plain": [
       "0.141"
      ]
     },
     "execution_count": 59,
     "metadata": {},
     "output_type": "execute_result"
    }
   ],
   "source": [
    "#Prob of get SP in 2nd order if eligible in second\n",
    "np.round(customers[customers['CUS_ELIG_2ND'] == 1]['SP_SOLD_2ND'].sum() / customers[customers['CUS_ELIG_2ND'] == 1]['SP_SOLD_2ND'].count(), 3)"
   ]
  },
  {
   "cell_type": "markdown",
   "metadata": {},
   "source": [
    "Sum of the two probabilities below must be equal to the cell above:"
   ]
  },
  {
   "cell_type": "code",
   "execution_count": 78,
   "metadata": {
    "ExecuteTime": {
     "end_time": "2018-10-24T12:17:33.659109Z",
     "start_time": "2018-10-24T12:17:33.636109Z"
    },
    "code_folding": []
   },
   "outputs": [
    {
     "data": {
      "text/plain": [
       "0.024"
      ]
     },
     "execution_count": 78,
     "metadata": {},
     "output_type": "execute_result"
    }
   ],
   "source": [
    "#Prob of get SP tier 55 in 2nd order if eligible in second\n",
    "np.round(customers[(customers['CUS_ELIG_2ND'] == 1)  & (customers['TIER_55'] == 1)]['SP_SOLD_2ND'].sum() / customers[customers['CUS_ELIG_2ND'] == 1]['SP_SOLD_2ND'].count(), 3)"
   ]
  },
  {
   "cell_type": "code",
   "execution_count": 79,
   "metadata": {
    "ExecuteTime": {
     "end_time": "2018-10-24T12:18:12.903109Z",
     "start_time": "2018-10-24T12:18:12.880109Z"
    }
   },
   "outputs": [
    {
     "data": {
      "text/plain": [
       "0.118"
      ]
     },
     "execution_count": 79,
     "metadata": {},
     "output_type": "execute_result"
    }
   ],
   "source": [
    "#Prob of get SP tier 56 in 2nd order if eligible in second\n",
    "np.round(customers[(customers['CUS_ELIG_2ND'] == 1)  & (customers['TIER_56'] == 1)]['SP_SOLD_2ND'].sum() / customers[customers['CUS_ELIG_2ND'] == 1]['SP_SOLD_2ND'].count(), 3)"
   ]
  },
  {
   "cell_type": "markdown",
   "metadata": {},
   "source": [
    "Now involving repurchase when 1st order was not eligible..."
   ]
  },
  {
   "cell_type": "code",
   "execution_count": 67,
   "metadata": {
    "ExecuteTime": {
     "end_time": "2018-10-24T10:21:41.272003Z",
     "start_time": "2018-10-24T10:21:41.264002Z"
    }
   },
   "outputs": [
    {
     "data": {
      "text/plain": [
       "0.038"
      ]
     },
     "execution_count": 67,
     "metadata": {},
     "output_type": "execute_result"
    }
   ],
   "source": [
    "#Prob of get SP in 2nd order if eligible in second * Prob of repurchase if 1st order was not eligible\n",
    "np.round(0.141 * 0.268, 3)"
   ]
  },
  {
   "cell_type": "markdown",
   "metadata": {},
   "source": [
    "Sum of the two probabilities below must be equal to the cell above:"
   ]
  },
  {
   "cell_type": "code",
   "execution_count": 80,
   "metadata": {
    "ExecuteTime": {
     "end_time": "2018-10-24T12:20:13.984109Z",
     "start_time": "2018-10-24T12:20:13.974109Z"
    }
   },
   "outputs": [
    {
     "data": {
      "text/plain": [
       "0.006"
      ]
     },
     "execution_count": 80,
     "metadata": {},
     "output_type": "execute_result"
    }
   ],
   "source": [
    "#Prob of get SP tier 55 in 2nd order if eligible in second * Prob of repurchase if 1st order was not eligible\n",
    "np.round(0.024 * 0.268, 3)"
   ]
  },
  {
   "cell_type": "code",
   "execution_count": 81,
   "metadata": {
    "ExecuteTime": {
     "end_time": "2018-10-24T12:20:35.918109Z",
     "start_time": "2018-10-24T12:20:35.910109Z"
    }
   },
   "outputs": [
    {
     "data": {
      "text/plain": [
       "0.032"
      ]
     },
     "execution_count": 81,
     "metadata": {},
     "output_type": "execute_result"
    }
   ],
   "source": [
    "#Prob of get SP tier 56 in 2nd order if eligible in second * Prob of repurchase if 1st order was not eligible\n",
    "np.round(0.118 * 0.268, 3)"
   ]
  },
  {
   "cell_type": "markdown",
   "metadata": {},
   "source": [
    "Let's calculate now probabilities for the 2nd group, that means those already eligible in 1st order (inherited eligibility)"
   ]
  },
  {
   "cell_type": "code",
   "execution_count": 61,
   "metadata": {
    "ExecuteTime": {
     "end_time": "2018-10-24T10:19:31.670109Z",
     "start_time": "2018-10-24T10:19:31.654109Z"
    }
   },
   "outputs": [
    {
     "data": {
      "text/plain": [
       "0.079"
      ]
     },
     "execution_count": 61,
     "metadata": {},
     "output_type": "execute_result"
    }
   ],
   "source": [
    "#Prob of get SP in 2nd order if already eligible in first -offer seen twice-\n",
    "np.round((customers['CUS_ELIG_1ST'] * (customers['SP_SOLD_1ST'] == 0) * customers['HAS_2ND_ORDER'] * customers['SP_SOLD_2ND']).sum() /\\\n",
    "(customers['CUS_ELIG_1ST'] * (customers['SP_SOLD_1ST'] == 0) * customers['HAS_2ND_ORDER']).sum(), 3)"
   ]
  },
  {
   "cell_type": "markdown",
   "metadata": {},
   "source": [
    "And now, split them by tier...sum of the two probabilities below must be equal to the cell above:"
   ]
  },
  {
   "cell_type": "code",
   "execution_count": 82,
   "metadata": {
    "ExecuteTime": {
     "end_time": "2018-10-24T12:21:45.247109Z",
     "start_time": "2018-10-24T12:21:45.223109Z"
    }
   },
   "outputs": [
    {
     "data": {
      "text/plain": [
       "0.018"
      ]
     },
     "execution_count": 82,
     "metadata": {},
     "output_type": "execute_result"
    }
   ],
   "source": [
    "#Prob of get SP tier 55 in 2nd order if already eligible in first -offer seen twice-\n",
    "np.round((customers['CUS_ELIG_1ST'] * (customers['SP_SOLD_1ST'] == 0) * customers['HAS_2ND_ORDER'] * customers['SP_SOLD_2ND'] * customers['TIER_55']).sum() /\\\n",
    "(customers['CUS_ELIG_1ST'] * (customers['SP_SOLD_1ST'] == 0) * customers['HAS_2ND_ORDER']).sum(), 3)"
   ]
  },
  {
   "cell_type": "code",
   "execution_count": 83,
   "metadata": {
    "ExecuteTime": {
     "end_time": "2018-10-24T12:21:58.048109Z",
     "start_time": "2018-10-24T12:21:58.023109Z"
    }
   },
   "outputs": [
    {
     "data": {
      "text/plain": [
       "0.062"
      ]
     },
     "execution_count": 83,
     "metadata": {},
     "output_type": "execute_result"
    }
   ],
   "source": [
    "#Prob of get SP tier 56 in 2nd order if already eligible in first -offer seen twice-\n",
    "np.round((customers['CUS_ELIG_1ST'] * (customers['SP_SOLD_1ST'] == 0) * customers['HAS_2ND_ORDER'] * customers['SP_SOLD_2ND'] * customers['TIER_56']).sum() /\\\n",
    "(customers['CUS_ELIG_1ST'] * (customers['SP_SOLD_1ST'] == 0) * customers['HAS_2ND_ORDER']).sum(), 3)"
   ]
  },
  {
   "cell_type": "markdown",
   "metadata": {},
   "source": [
    "We add repurchase when 1st order was already eligible"
   ]
  },
  {
   "cell_type": "code",
   "execution_count": 63,
   "metadata": {
    "ExecuteTime": {
     "end_time": "2018-10-24T10:19:31.693109Z",
     "start_time": "2018-10-24T10:19:31.680109Z"
    }
   },
   "outputs": [
    {
     "data": {
      "text/plain": [
       "0.039"
      ]
     },
     "execution_count": 63,
     "metadata": {},
     "output_type": "execute_result"
    }
   ],
   "source": [
    "#Prob of get SP in 2nd order if already eligible in first -offer seen twice- * Prob of repurchase if 1st order was eligible\n",
    "np.round(0.079 * 0.497, 3)"
   ]
  },
  {
   "cell_type": "markdown",
   "metadata": {},
   "source": [
    "Get probs per tier..."
   ]
  },
  {
   "cell_type": "code",
   "execution_count": 84,
   "metadata": {
    "ExecuteTime": {
     "end_time": "2018-10-24T12:24:22.209109Z",
     "start_time": "2018-10-24T12:24:22.202109Z"
    }
   },
   "outputs": [
    {
     "data": {
      "text/plain": [
       "0.009"
      ]
     },
     "execution_count": 84,
     "metadata": {},
     "output_type": "execute_result"
    }
   ],
   "source": [
    "#Prob of get SP tier 55 in 2nd order if already eligible in first -offer seen twice- * Prob of repurchase if 1st order was eligible\n",
    "np.round(0.018 * 0.497, 3)"
   ]
  },
  {
   "cell_type": "code",
   "execution_count": 85,
   "metadata": {
    "ExecuteTime": {
     "end_time": "2018-10-24T12:24:36.266109Z",
     "start_time": "2018-10-24T12:24:36.256109Z"
    }
   },
   "outputs": [
    {
     "data": {
      "text/plain": [
       "0.031"
      ]
     },
     "execution_count": 85,
     "metadata": {},
     "output_type": "execute_result"
    }
   ],
   "source": [
    "#Prob of get SP tier 56 in 2nd order if already eligible in first -offer seen twice- * Prob of repurchase if 1st order was eligible\n",
    "np.round(0.062 * 0.497, 3)"
   ]
  },
  {
   "cell_type": "markdown",
   "metadata": {},
   "source": [
    "and finally...probability of get a SP in 2nd order (total, tier 55 and tier 56)"
   ]
  },
  {
   "cell_type": "code",
   "execution_count": 70,
   "metadata": {
    "ExecuteTime": {
     "end_time": "2018-10-24T10:22:18.413717Z",
     "start_time": "2018-10-24T10:22:18.409716Z"
    }
   },
   "outputs": [
    {
     "data": {
      "text/plain": [
       "0.077"
      ]
     },
     "execution_count": 70,
     "metadata": {},
     "output_type": "execute_result"
    }
   ],
   "source": [
    "#Prob of get SP in 2nd order \n",
    "np.round(0.141 * 0.268, 3) + np.round(0.079 * 0.497, 3) "
   ]
  },
  {
   "cell_type": "code",
   "execution_count": 86,
   "metadata": {
    "ExecuteTime": {
     "end_time": "2018-10-24T12:25:41.387109Z",
     "start_time": "2018-10-24T12:25:41.376109Z"
    }
   },
   "outputs": [
    {
     "data": {
      "text/plain": [
       "0.015"
      ]
     },
     "execution_count": 86,
     "metadata": {},
     "output_type": "execute_result"
    }
   ],
   "source": [
    "#Prob of get SP tier 55 in 2nd order \n",
    "np.round(0.024 * 0.268, 3) + np.round(0.018 * 0.497, 3)"
   ]
  },
  {
   "cell_type": "code",
   "execution_count": 87,
   "metadata": {
    "ExecuteTime": {
     "end_time": "2018-10-24T12:26:12.946109Z",
     "start_time": "2018-10-24T12:26:12.935109Z"
    }
   },
   "outputs": [
    {
     "data": {
      "text/plain": [
       "0.063"
      ]
     },
     "execution_count": 87,
     "metadata": {},
     "output_type": "execute_result"
    }
   ],
   "source": [
    "#Prob of get SP tier 56 in 2nd order \n",
    "np.round(0.118 * 0.268, 3) + np.round(0.062 * 0.497, 3) "
   ]
  },
  {
   "cell_type": "markdown",
   "metadata": {
    "ExecuteTime": {
     "end_time": "2018-10-24T15:13:04.283908Z",
     "start_time": "2018-10-24T15:13:04.269908Z"
    }
   },
   "source": [
    "As we have seen SP tier 55 converts between 3-4 times less in 1st and 2nd order compared with tier 56. Considerations:\n",
    "    + In the new model, it will be the only offer appearing to NC so...\n",
    "        - It can force customers who would have bought the SP 5% if available to buy the new 3% SP equally\n",
    "        - Or they might refuse getting the SP due to a low discount not meeting their expectations"
   ]
  },
  {
   "cell_type": "markdown",
   "metadata": {},
   "source": [
    "Instead of inferring the SP tier 55 conversion rate...because there are so many conditions changing let's simulate some different scenarios based on different SP CR% in 1st and 2nd order and using repurchase rate extracted from our data (Please note that not every customer in the dataset has the same time of performance, the lowest is at least 84 days and 168 days the highest)\n",
    "\n",
    "We will see below different scenarios showing the SP sold for different conversion rates (with confidence intervals) in 1st and 2nd order but also including repurchase rate: "
   ]
  },
  {
   "cell_type": "code",
   "execution_count": 90,
   "metadata": {
    "ExecuteTime": {
     "end_time": "2018-10-24T13:55:58.389543Z",
     "start_time": "2018-10-24T13:55:58.217544Z"
    },
    "scrolled": false
   },
   "outputs": [
    {
     "name": "stdout",
     "output_type": "stream",
     "text": [
      "ESTIMATIONS PER SCENARIO REGARDING SP CONVERSION RATES IN 1st AND 2nd ORDER\n",
      "__________________________________________________________________________________________________\n",
      " \n",
      "Total customers involved:  38626\n",
      "Current savings plan sold in 1st and 2nd order:  2794\n",
      "95% CI for SP sold in 1st order with CR of 0.01 : [ 347 - 424 ]\n",
      "95% CI for customers repurchasing with prob 0.386 : [ 14721 - 15096 ]\n",
      "95% CI for SP sold in 2nd order with CR of 0.01 :  [ 123 - 173 ]\n",
      "----------------------------------------------------------------------------------------------\n",
      "Total customers involved:  38626\n",
      "Current savings plan sold in 1st and 2nd order:  2794\n",
      "95% CI for SP sold in 1st order with CR of 0.02 : [ 718 - 825 ]\n",
      "95% CI for customers repurchasing with prob 0.386 : [ 14721 - 15096 ]\n",
      "95% CI for SP sold in 2nd order with CR of 0.01 :  [ 123 - 173 ]\n",
      "95% CI for SP sold in 2nd order with CR of 0.02 :  [ 260 - 334 ]\n",
      "----------------------------------------------------------------------------------------------\n",
      "Total customers involved:  38626\n",
      "Current savings plan sold in 1st and 2nd order:  2794\n",
      "95% CI for SP sold in 1st order with CR of 0.03 : [ 1092 - 1223 ]\n",
      "95% CI for customers repurchasing with prob 0.386 : [ 14721 - 15096 ]\n",
      "95% CI for SP sold in 2nd order with CR of 0.01 :  [ 123 - 173 ]\n",
      "95% CI for SP sold in 2nd order with CR of 0.02 :  [ 260 - 334 ]\n",
      "95% CI for SP sold in 2nd order with CR of 0.03 :  [ 400 - 493 ]\n",
      "----------------------------------------------------------------------------------------------\n",
      "Total customers involved:  38626\n",
      "Current savings plan sold in 1st and 2nd order:  2794\n",
      "95% CI for SP sold in 1st order with CR of 0.04 : [ 1469 - 1620 ]\n",
      "95% CI for customers repurchasing with prob 0.386 : [ 14721 - 15096 ]\n",
      "95% CI for SP sold in 2nd order with CR of 0.02 :  [ 260 - 334 ]\n",
      "95% CI for SP sold in 2nd order with CR of 0.03 :  [ 400 - 493 ]\n",
      "95% CI for SP sold in 2nd order with CR of 0.04 :  [ 541 - 650 ]\n",
      "----------------------------------------------------------------------------------------------\n",
      "Total customers involved:  38626\n",
      "Current savings plan sold in 1st and 2nd order:  2794\n",
      "95% CI for SP sold in 1st order with CR of 0.05 : [ 1847 - 2014 ]\n",
      "95% CI for customers repurchasing with prob 0.386 : [ 14721 - 15096 ]\n",
      "95% CI for SP sold in 2nd order with CR of 0.03 :  [ 400 - 493 ]\n",
      "95% CI for SP sold in 2nd order with CR of 0.04 :  [ 541 - 650 ]\n",
      "95% CI for SP sold in 2nd order with CR of 0.05 :  [ 684 - 806 ]\n",
      "----------------------------------------------------------------------------------------------\n",
      "Total customers involved:  38626\n",
      "Current savings plan sold in 1st and 2nd order:  2794\n",
      "95% CI for SP sold in 1st order with CR of 0.06 : [ 2225 - 2408 ]\n",
      "95% CI for customers repurchasing with prob 0.386 : [ 14721 - 15096 ]\n",
      "95% CI for SP sold in 2nd order with CR of 0.04 :  [ 541 - 650 ]\n",
      "95% CI for SP sold in 2nd order with CR of 0.05 :  [ 684 - 806 ]\n",
      "95% CI for SP sold in 2nd order with CR of 0.06 :  [ 826 - 962 ]\n",
      "----------------------------------------------------------------------------------------------\n",
      "Total customers involved:  38626\n",
      "Current savings plan sold in 1st and 2nd order:  2794\n",
      "95% CI for SP sold in 1st order with CR of 0.07 : [ 2604 - 2801 ]\n",
      "95% CI for customers repurchasing with prob 0.386 : [ 14721 - 15096 ]\n",
      "95% CI for SP sold in 2nd order with CR of 0.05 :  [ 684 - 806 ]\n",
      "95% CI for SP sold in 2nd order with CR of 0.06 :  [ 826 - 962 ]\n",
      "95% CI for SP sold in 2nd order with CR of 0.07 :  [ 969 - 1117 ]\n",
      "----------------------------------------------------------------------------------------------\n",
      "Total customers involved:  38626\n",
      "Current savings plan sold in 1st and 2nd order:  2794\n",
      "95% CI for SP sold in 1st order with CR of 0.08 : [ 2985 - 3194 ]\n",
      "95% CI for customers repurchasing with prob 0.386 : [ 14721 - 15096 ]\n",
      "95% CI for SP sold in 2nd order with CR of 0.06 :  [ 826 - 962 ]\n",
      "95% CI for SP sold in 2nd order with CR of 0.07 :  [ 969 - 1117 ]\n",
      "95% CI for SP sold in 2nd order with CR of 0.08 :  [ 1112 - 1272 ]\n",
      "----------------------------------------------------------------------------------------------\n",
      "Total customers involved:  38626\n",
      "Current savings plan sold in 1st and 2nd order:  2794\n",
      "95% CI for SP sold in 1st order with CR of 0.09 : [ 3365 - 3586 ]\n",
      "95% CI for customers repurchasing with prob 0.386 : [ 14721 - 15096 ]\n",
      "95% CI for SP sold in 2nd order with CR of 0.07 :  [ 969 - 1117 ]\n",
      "95% CI for SP sold in 2nd order with CR of 0.08 :  [ 1112 - 1272 ]\n",
      "95% CI for SP sold in 2nd order with CR of 0.09 :  [ 1255 - 1426 ]\n",
      "----------------------------------------------------------------------------------------------\n",
      "Total customers involved:  38626\n",
      "Current savings plan sold in 1st and 2nd order:  2794\n",
      "95% CI for SP sold in 1st order with CR of 0.1 : [ 3746 - 3977 ]\n",
      "95% CI for customers repurchasing with prob 0.386 : [ 14721 - 15096 ]\n",
      "95% CI for SP sold in 2nd order with CR of 0.08 :  [ 1112 - 1272 ]\n",
      "95% CI for SP sold in 2nd order with CR of 0.09 :  [ 1255 - 1426 ]\n",
      "95% CI for SP sold in 2nd order with CR of 0.1 :  [ 1400 - 1581 ]\n",
      "----------------------------------------------------------------------------------------------\n"
     ]
    }
   ],
   "source": [
    "repurchase_prob = 0.386\n",
    "sp_conversion_rates_1st = [0.01, 0.02, 0.03, 0.04, 0.05, 0.06, 0.07, 0.08, 0.09, 0.10]\n",
    "sp_conversion_rates_2nd = [0.01, 0.02, 0.03, 0.04, 0.05, 0.06, 0.07, 0.08, 0.09, 0.10]\n",
    "\n",
    "print('ESTIMATIONS PER SCENARIO REGARDING SP CONVERSION RATES IN 1st AND 2nd ORDER')\n",
    "print('__________________________________________________________________________________________________')\n",
    "print(' ')\n",
    "\n",
    "for cr1 in sp_conversion_rates_1st:\n",
    "    total_cus = customers['CUS_N_KEY_CUSTOMER'].nunique()\n",
    "    \n",
    "    #SP sold in 1st order -conversion rates-\n",
    "    sp_sold_in_1st_order = int(customers['CUS_N_KEY_CUSTOMER'].nunique() * cr1)\n",
    "    cr1_ci_low, cr1_ci_upp = proportion_confint(sp_sold_in_1st_order, total_cus, alpha=0.05, method='normal')\n",
    "    sp_sold_1st_low = int(total_cus * cr1_ci_low)\n",
    "    sp_sold_1st_upp = int(total_cus * cr1_ci_upp)\n",
    "    \n",
    "    #Customers repurchasing\n",
    "    cus_rep = int(customers['CUS_N_KEY_CUSTOMER'].nunique() * repurchase_prob)\n",
    "    cusrep_ci_low, cusrep_ci_upp = proportion_confint(cus_rep, total_cus, alpha=0.05, method='normal')\n",
    "    cus_rep_low = int(total_cus * cusrep_ci_low)\n",
    "    cus_rep_upp = int(total_cus * cusrep_ci_upp)\n",
    "    print('Total customers involved: ', total_cus)\n",
    "    print('Current savings plan sold in 1st and 2nd order: ', customers['SP_SOLD_1ST'].sum() + customers['SP_SOLD_2ND'].sum())\n",
    "    print('95% CI for SP sold in 1st order with CR of', cr1, ':', '[',sp_sold_1st_low, '-', sp_sold_1st_upp, ']')\n",
    "    print('95% CI for customers repurchasing with prob', repurchase_prob,':', '[', cus_rep_low, '-', cus_rep_upp, ']')\n",
    "    \n",
    "    #SP sold in 2nd order -conversion rates-\n",
    "    for cr2 in sp_conversion_rates_2nd:\n",
    "        if cr2 + 0.02 >= cr1 and cr2 <= cr1:\n",
    "            sp_sold_in_2nd_order_low = int(cus_rep_low * cr2)\n",
    "            cr2low_ci_low, cr2low_ci_upp = proportion_confint(sp_sold_in_2nd_order_low, cus_rep_low, alpha=0.05, method='normal')\n",
    "            sp_sold_in_2nd_order_upp = int(cus_rep_upp * cr2)\n",
    "            cr2upp_ci_low, cr2upp_ci_upp = proportion_confint(sp_sold_in_2nd_order_upp, cus_rep_upp, alpha=0.05, method='normal')\n",
    "            print('95% CI for SP sold in 2nd order with CR of', cr2, ': ', '[',\n",
    "             int(cus_rep_low*cr2low_ci_low), '-', int(cus_rep_upp*cr2upp_ci_upp), ']')\n",
    "    print('----------------------------------------------------------------------------------------------')"
   ]
  },
  {
   "attachments": {
    "image.png": {
     "image/png": "[encoded data removed]"
    }
   },
   "cell_type": "markdown",
   "metadata": {},
   "source": [
    "The inflection point would be the scenario of 'around 5% CR'. With CRs below that we would be decreasing the number of SP sold and above that it would increase:\n",
    "\n",
    "<html><head>\n",
    "\n",
    "\n",
    "<!-- Load require.js. Delete this if your page already loads require.js -->\n",
    "<script src=\"https://cdnjs.cloudflare.com/ajax/libs/require.js/2.3.4/require.min.js\" integrity=\"sha256-Ae2Vz/4ePdIu6ZyI/5ZGsYnb+m0JlOmKPjt6XZ9JJkA=\" crossorigin=\"anonymous\"></script>\n",
    "<script src=\"https://unpkg.com/@jupyter-widgets/html-manager@*/dist/embed-amd.js\" crossorigin=\"anonymous\"></script>\n",
    "<script type=\"application/vnd.jupyter.widget-state+json\">\n",
    "{\n",
    "    \"version_major\": 2,\n",
    "    \"version_minor\": 0,\n",
    "    \"state\": {}\n",
    "}\n",
    "</script>\n",
    "</head>\n",
    "<body>\n",
    "\n",
    "\n",
    "</body>\n",
    "</html>\n",
    "![image.png](attachment:image.png)"
   ]
  },
  {
   "cell_type": "markdown",
   "metadata": {},
   "source": [
    "The positive thing is that we have now a bigger base of potential new customers facing the 5% upgrading topic (in case of course they buy our SP). The disadvantage would be if a lot of customers refuse to buy the SP 1st version because of the low discount provided.\n",
    "    + A/B testing\n",
    "    + 1st roll-out in a small site and analyse performance 1 month before/after deployment"
   ]
  },
  {
   "cell_type": "markdown",
   "metadata": {},
   "source": [
    "Consider that, if EC eligibility stays as it actually is...customers can go through the high discount tiers if they match our threshold criteria -in case they don´t want to buy SP in 1st-2nd order-."
   ]
  },
  {
   "cell_type": "code",
   "execution_count": 93,
   "metadata": {
    "ExecuteTime": {
     "end_time": "2018-10-24T15:47:52.423192Z",
     "start_time": "2018-10-24T15:47:52.382188Z"
    }
   },
   "outputs": [
    {
     "data": {
      "text/html": [
       "<div>\n",
       "<style scoped>\n",
       "    .dataframe tbody tr th:only-of-type {\n",
       "        vertical-align: middle;\n",
       "    }\n",
       "\n",
       "    .dataframe tbody tr th {\n",
       "        vertical-align: top;\n",
       "    }\n",
       "\n",
       "    .dataframe thead th {\n",
       "        text-align: right;\n",
       "    }\n",
       "</style>\n",
       "<table border=\"1\" class=\"dataframe\">\n",
       "  <thead>\n",
       "    <tr style=\"text-align: right;\">\n",
       "      <th></th>\n",
       "      <th>count</th>\n",
       "      <th>mean</th>\n",
       "      <th>std</th>\n",
       "      <th>min</th>\n",
       "      <th>25%</th>\n",
       "      <th>50%</th>\n",
       "      <th>75%</th>\n",
       "      <th>max</th>\n",
       "    </tr>\n",
       "    <tr>\n",
       "      <th>CZP_ZTQ_ID</th>\n",
       "      <th></th>\n",
       "      <th></th>\n",
       "      <th></th>\n",
       "      <th></th>\n",
       "      <th></th>\n",
       "      <th></th>\n",
       "      <th></th>\n",
       "      <th></th>\n",
       "    </tr>\n",
       "  </thead>\n",
       "  <tbody>\n",
       "    <tr>\n",
       "      <th>0</th>\n",
       "      <td>49393.0</td>\n",
       "      <td>60.118256</td>\n",
       "      <td>39.557659</td>\n",
       "      <td>-12.03</td>\n",
       "      <td>37.7800</td>\n",
       "      <td>49.91</td>\n",
       "      <td>69.99</td>\n",
       "      <td>1899.99</td>\n",
       "    </tr>\n",
       "    <tr>\n",
       "      <th>55</th>\n",
       "      <td>832.0</td>\n",
       "      <td>72.421467</td>\n",
       "      <td>35.996998</td>\n",
       "      <td>-1.83</td>\n",
       "      <td>45.4175</td>\n",
       "      <td>64.68</td>\n",
       "      <td>88.21</td>\n",
       "      <td>235.20</td>\n",
       "    </tr>\n",
       "    <tr>\n",
       "      <th>56</th>\n",
       "      <td>3302.0</td>\n",
       "      <td>90.329101</td>\n",
       "      <td>69.861468</td>\n",
       "      <td>-5.42</td>\n",
       "      <td>52.9850</td>\n",
       "      <td>73.39</td>\n",
       "      <td>110.12</td>\n",
       "      <td>2390.62</td>\n",
       "    </tr>\n",
       "  </tbody>\n",
       "</table>\n",
       "</div>"
      ],
      "text/plain": [
       "              count       mean        std    min      25%    50%     75%  \\\n",
       "CZP_ZTQ_ID                                                                 \n",
       "0           49393.0  60.118256  39.557659 -12.03  37.7800  49.91   69.99   \n",
       "55            832.0  72.421467  35.996998  -1.83  45.4175  64.68   88.21   \n",
       "56           3302.0  90.329101  69.861468  -5.42  52.9850  73.39  110.12   \n",
       "\n",
       "                max  \n",
       "CZP_ZTQ_ID           \n",
       "0           1899.99  \n",
       "55           235.20  \n",
       "56          2390.62  "
      ]
     },
     "execution_count": 93,
     "metadata": {},
     "output_type": "execute_result"
    }
   ],
   "source": [
    "#Describing basket values distribution per tier\n",
    "orders.groupby('CZP_ZTQ_ID')['SCM_SALES_BMF_sum'].describe()"
   ]
  },
  {
   "cell_type": "markdown",
   "metadata": {},
   "source": [
    "Looking at the data, customers having higher basket values tend to buy SP (makes sense because, in case of the same purchasing frquency they would be able to pay it off earlier). However, as SP offer is displayed in checkout, the customer has already make a predisposition to accomplish the payment, so that we cannot link the tier 56 disappearing from the offer with a decrease in basket values."
   ]
  },
  {
   "cell_type": "code",
   "execution_count": null,
   "metadata": {},
   "outputs": [],
   "source": []
  },
  {
   "cell_type": "code",
   "execution_count": null,
   "metadata": {},
   "outputs": [],
   "source": []
  }
 ],
 "metadata": {
  "hide_input": false,
  "kernelspec": {
   "display_name": "Python [conda env:py36]",
   "language": "python",
   "name": "conda-env-py36-py"
  },
  "language_info": {
   "codemirror_mode": {
    "name": "ipython",
    "version": 3
   },
   "file_extension": ".py",
   "mimetype": "text/x-python",
   "name": "python",
   "nbconvert_exporter": "python",
   "pygments_lexer": "ipython3",
   "version": "3.6.4"
  },
  "toc": {
   "base_numbering": 1,
   "nav_menu": {},
   "number_sections": true,
   "sideBar": true,
   "skip_h1_title": false,
   "title_cell": "Table of Contents",
   "title_sidebar": "Contents",
   "toc_cell": false,
   "toc_position": {},
   "toc_section_display": true,
   "toc_window_display": false
  },
  "varInspector": {
   "cols": {
    "lenName": 16,
    "lenType": 16,
    "lenVar": 40
   },
   "kernels_config": {
    "python": {
     "delete_cmd_postfix": "",
     "delete_cmd_prefix": "del ",
     "library": "var_list.py",
     "varRefreshCmd": "print(var_dic_list())"
    },
    "r": {
     "delete_cmd_postfix": ") ",
     "delete_cmd_prefix": "rm(",
     "library": "var_list.r",
     "varRefreshCmd": "cat(var_dic_list()) "
    }
   },
   "types_to_exclude": [
    "module",
    "function",
    "builtin_function_or_method",
    "instance",
    "_Feature"
   ],
   "window_display": false
  }
 },
 "nbformat": 4,
 "nbformat_minor": 2
}
