{
 "cells": [
  {
   "cell_type": "raw",
   "metadata": {},
   "source": [
    "# Query\n",
    "select \n",
    "scm.scm_n_order_pos_nr, scm.scm_n_order_nr, scm.tdt_t_key_order_date, scm.THR_C_KEY_ORDER_HOUR, scm.SIT_N_KEY_SITE,\n",
    "scm.CUS_N_KEY_CUSTOMER, scm.SCM_SALES_BMF, scm.SCM_SALES_CANCEL_BMF, scm.SCM_D_FINANCE_CM1, scm.SCM_D_FINANCE_CM2,\n",
    "scm.SCM_D_ORIG_FINANCE_ORDER_NET,scm.SCM_AP_ID, scm.SCM_AS_ID, scm.SCM_MASTER_AP_ID, scm.SCM_IS_ZSP_ORDER, \n",
    "scm.SCM_C_ORDER_STATUS, scm.CTP_N_KEY_CUSTOMER_TYPE, scm.SCM_OCI_LAND, scm.SCM_D_FC_ID, scm.SCM_D_PC_DSP, scm.SCM_FC_SPLIT,\n",
    "scm.CAM_N_KEY_CUST_ACQ_CAMPAIGN, scm.SCM_IS_SINGLE_CATEGORY, o.O_ZAHLUNGSA, \n",
    "o.O_ORIGIN,\n",
    "osp.OSP_KO_COUNT, osp.OSP_KO_COUNT_NET, osp.OSP_3_LEAD_P_PG_ID, osp.OSP_3_LEAD_P_PG_SHARE, osp.OSP_4_LEAD_P_PG_ID, \n",
    "osp.OSP_4_LEAD_P_PG_SHARE,\n",
    "czp.CZP_START_DATE, czp.CZP_EXPIRY_DATE, czp.CZP_ZTQ_ID, czp.CZP_PERCENTAGE, czp.CZP_PRICE,\n",
    "ofp.ORF_EXT_O_ID, ofp.ORF_EXT_K_ID, ofp.ORF_EXT_ROOT_K_ID, op.OP_AS_ID, op.OP_BONUSPOINTS, bp.BP_TYP\n",
    "from zoocube.ddstf_scm_sales_contrib_margin scm\n",
    "join ZOOMAN.ORDER_SALES_PROFILE osp\n",
    "on osp.OSP_O_ID = scm.SCM_N_ORDER_NR\n",
    "join ZOOMAN.ORDERS o\n",
    "on o.O_ID = scm.SCM_N_ORDER_NR\n",
    "left outer join ZOOMAN.ORDER_POSITIONS op\n",
    "on scm.SCM_N_ORDER_POS_NR = op.OP_ID\n",
    "left outer join ZOOMAN.CUSTOMERS_ZOOPRIME_PLANS czp\n",
    "on scm.CUS_N_KEY_CUSTOMER = czp.CZP_K_ID\n",
    "and czp.CZP_EXPIRY_DATE >= to_date((to_char(TDT_T_KEY_ORDER_DATE, 'dd/mm/yyyy') ||' '|| THR_C_KEY_ORDER_HOUR), 'dd/mm/yyyy HH24:MI')\n",
    "and czp.CZP_START_DATE <= to_date((to_char(TDT_T_KEY_ORDER_DATE, 'dd/mm/yyyy') ||' '|| THR_C_KEY_ORDER_HOUR), 'dd/mm/yyyy HH24:MI')\n",
    "left outer join zoo_datamarts.vw_tnc_order_footprint@prodstb2 ofp\n",
    "on scm.scm_n_order_nr = ofp.ORF_EXT_O_ID\n",
    "left outer join ZOOMAN.BONUSPUNKTE bp\n",
    "on scm.SCM_N_ORDER_NR = bp.BP_O_ID\n",
    "and bp.BP_TYP = 'B'\n",
    "where SIT_N_KEY_SITE = 15\n",
    "--and ((TDT_T_KEY_ORDER_DATE >= to_date('01/01/18', 'DD/MM/YY') and TDT_T_KEY_ORDER_DATE <= to_date('31/03/18', 'DD/MM/YY')))\n",
    "and (scm.SCM_C_ORDER_STATUS = 'L' OR scm.SCM_C_ORDER_STATUS = 'VK')\n",
    "and scm.CUS_N_KEY_CUSTOMER IN (\n",
    "select distinct scm.CUS_N_KEY_CUSTOMER\n",
    "from zoocube.ddstf_scm_sales_contrib_margin scm\n",
    "join ZOOMAN.ORDER_SALES_PROFILE osp\n",
    "on osp.OSP_O_ID = scm.SCM_N_ORDER_NR\n",
    "where SIT_N_KEY_SITE = 15\n",
    "and ((TDT_T_KEY_ORDER_DATE >= to_date('01/01/15', 'DD/MM/YY') and TDT_T_KEY_ORDER_DATE <= to_date('31/12/15', 'DD/MM/YY')))\n",
    "and osp.OSP_KO_COUNT_NET = 1\n",
    ")\n",
    ";"
   ]
  },
  {
   "cell_type": "code",
   "execution_count": 1,
   "metadata": {
    "ExecuteTime": {
     "end_time": "2018-07-04T14:39:09.975286Z",
     "start_time": "2018-07-04T14:39:08.283286Z"
    }
   },
   "outputs": [],
   "source": [
    "import numpy as np\n",
    "import pandas as pd\n",
    "import matplotlib.pyplot as plt\n",
    "%matplotlib inline\n",
    "from IPython.display import display\n",
    "from scipy import stats\n",
    "from datetime import timedelta\n",
    "from collections import Counter\n",
    "#from warnings import filterwarnings\n",
    "#filterwarnings('ignore')"
   ]
  },
  {
   "cell_type": "code",
   "execution_count": 2,
   "metadata": {
    "ExecuteTime": {
     "end_time": "2018-07-04T14:39:23.231286Z",
     "start_time": "2018-07-04T14:39:09.976286Z"
    }
   },
   "outputs": [],
   "source": [
    "data = pd.read_csv('clv_es_2015_v2.dsv', sep=';', low_memory=False)"
   ]
  },
  {
   "cell_type": "code",
   "execution_count": 3,
   "metadata": {
    "ExecuteTime": {
     "end_time": "2018-07-04T14:39:23.237286Z",
     "start_time": "2018-07-04T14:39:23.232286Z"
    }
   },
   "outputs": [
    {
     "data": {
      "text/plain": [
       "2171470"
      ]
     },
     "execution_count": 3,
     "metadata": {},
     "output_type": "execute_result"
    }
   ],
   "source": [
    "len(data)"
   ]
  },
  {
   "cell_type": "code",
   "execution_count": 4,
   "metadata": {
    "ExecuteTime": {
     "end_time": "2018-07-04T14:42:30.972286Z",
     "start_time": "2018-07-04T14:39:23.238286Z"
    }
   },
   "outputs": [
    {
     "name": "stdout",
     "output_type": "stream",
     "text": [
      "Duplicated rows detected:  929\n",
      "Start dropping..\n",
      "Number of order IDs having more than one SP_START_DATE now:  0\n"
     ]
    }
   ],
   "source": [
    "%run -i cleaning_n_formatting.py "
   ]
  },
  {
   "cell_type": "code",
   "execution_count": 5,
   "metadata": {
    "ExecuteTime": {
     "end_time": "2018-07-04T14:42:30.977286Z",
     "start_time": "2018-07-04T14:42:30.973286Z"
    }
   },
   "outputs": [
    {
     "data": {
      "text/plain": [
       "2170541"
      ]
     },
     "execution_count": 5,
     "metadata": {},
     "output_type": "execute_result"
    }
   ],
   "source": [
    "len(data)"
   ]
  },
  {
   "cell_type": "code",
   "execution_count": 6,
   "metadata": {
    "ExecuteTime": {
     "end_time": "2018-07-04T14:42:30.994286Z",
     "start_time": "2018-07-04T14:42:30.978286Z"
    }
   },
   "outputs": [
    {
     "data": {
      "text/plain": [
       "Index(['SCM_N_ORDER_POS_NR', 'SCM_N_ORDER_NR', 'TDT_T_KEY_ORDER_DATE',\n",
       "       'THR_C_KEY_ORDER_HOUR', 'SIT_N_KEY_SITE', 'CUS_N_KEY_CUSTOMER',\n",
       "       'SCM_SALES_BMF', 'SCM_SALES_CANCEL_BMF', 'SCM_D_FINANCE_CM1',\n",
       "       'SCM_D_FINANCE_CM2', 'SCM_D_ORIG_FINANCE_ORDER_NET', 'SCM_AP_ID',\n",
       "       'SCM_AS_ID', 'SCM_MASTER_AP_ID', 'SCM_IS_ZSP_ORDER',\n",
       "       'SCM_C_ORDER_STATUS', 'CTP_N_KEY_CUSTOMER_TYPE', 'SCM_OCI_LAND',\n",
       "       'SCM_D_FC_ID', 'SCM_D_PC_DSP', 'SCM_FC_SPLIT',\n",
       "       'CAM_N_KEY_CUST_ACQ_CAMPAIGN', 'SCM_IS_SINGLE_CATEGORY', 'O_ZAHLUNGSA',\n",
       "       'O_ORIGIN', 'OSP_KO_COUNT', 'OSP_KO_COUNT_NET', 'OSP_3_LEAD_P_PG_ID',\n",
       "       'OSP_3_LEAD_P_PG_SHARE', 'OSP_4_LEAD_P_PG_ID', 'OSP_4_LEAD_P_PG_SHARE',\n",
       "       'CZP_START_DATE', 'CZP_EXPIRY_DATE', 'CZP_ZTQ_ID', 'CZP_PERCENTAGE',\n",
       "       'CZP_PRICE', 'ORF_EXT_O_ID', 'ORF_EXT_K_ID', 'ORF_EXT_ROOT_K_ID',\n",
       "       'OP_AS_ID', 'OP_BONUSPOINTS', 'BP_TYP', 'ORDER_DATETIME', 'WEEK_NUMBER',\n",
       "       'MONTH_NUMBER', 'FINANCE_ORDER_NET', 'REL_CM1', 'REL_CM2'],\n",
       "      dtype='object')"
      ]
     },
     "execution_count": 6,
     "metadata": {},
     "output_type": "execute_result"
    }
   ],
   "source": [
    "data.columns"
   ]
  },
  {
   "cell_type": "code",
   "execution_count": 7,
   "metadata": {
    "ExecuteTime": {
     "end_time": "2018-07-04T14:42:31.037286Z",
     "start_time": "2018-07-04T14:42:30.995286Z"
    }
   },
   "outputs": [],
   "source": [
    "data['CZP_ZTQ_ID'] = data['CZP_ZTQ_ID'].fillna(0)\n",
    "#data['CZP_START_DATE'] = data['CZP_START_DATE'].fillna(0)\n",
    "#data['CZP_EXPIRY_DATE'] = data['CZP_EXPIRY_DATE'].fillna(0)"
   ]
  },
  {
   "cell_type": "code",
   "execution_count": 8,
   "metadata": {
    "ExecuteTime": {
     "end_time": "2018-07-04T14:42:31.076286Z",
     "start_time": "2018-07-04T14:42:31.038286Z"
    }
   },
   "outputs": [
    {
     "data": {
      "text/plain": [
       "(Timestamp('2013-10-25 00:00:00'), Timestamp('2018-07-04 00:00:00'))"
      ]
     },
     "execution_count": 8,
     "metadata": {},
     "output_type": "execute_result"
    }
   ],
   "source": [
    "data['TDT_T_KEY_ORDER_DATE'].min(), data['TDT_T_KEY_ORDER_DATE'].max()"
   ]
  },
  {
   "cell_type": "code",
   "execution_count": 9,
   "metadata": {
    "ExecuteTime": {
     "end_time": "2018-07-04T14:42:31.163286Z",
     "start_time": "2018-07-04T14:42:31.077286Z"
    }
   },
   "outputs": [
    {
     "data": {
      "text/plain": [
       "(95562, 104004)"
      ]
     },
     "execution_count": 9,
     "metadata": {},
     "output_type": "execute_result"
    }
   ],
   "source": [
    "data['ORF_EXT_ROOT_K_ID'].nunique(), data['CUS_N_KEY_CUSTOMER'].nunique()"
   ]
  },
  {
   "cell_type": "code",
   "execution_count": 10,
   "metadata": {
    "ExecuteTime": {
     "end_time": "2018-07-04T14:42:31.186286Z",
     "start_time": "2018-07-04T14:42:31.165286Z"
    }
   },
   "outputs": [
    {
     "data": {
      "text/html": [
       "<div>\n",
       "<style scoped>\n",
       "    .dataframe tbody tr th:only-of-type {\n",
       "        vertical-align: middle;\n",
       "    }\n",
       "\n",
       "    .dataframe tbody tr th {\n",
       "        vertical-align: top;\n",
       "    }\n",
       "\n",
       "    .dataframe thead th {\n",
       "        text-align: right;\n",
       "    }\n",
       "</style>\n",
       "<table border=\"1\" class=\"dataframe\">\n",
       "  <thead>\n",
       "    <tr style=\"text-align: right;\">\n",
       "      <th></th>\n",
       "      <th>SCM_N_ORDER_POS_NR</th>\n",
       "      <th>SCM_N_ORDER_NR</th>\n",
       "      <th>TDT_T_KEY_ORDER_DATE</th>\n",
       "      <th>THR_C_KEY_ORDER_HOUR</th>\n",
       "      <th>SIT_N_KEY_SITE</th>\n",
       "      <th>CUS_N_KEY_CUSTOMER</th>\n",
       "      <th>SCM_SALES_BMF</th>\n",
       "      <th>SCM_SALES_CANCEL_BMF</th>\n",
       "      <th>SCM_D_FINANCE_CM1</th>\n",
       "      <th>SCM_D_FINANCE_CM2</th>\n",
       "      <th>SCM_D_ORIG_FINANCE_ORDER_NET</th>\n",
       "      <th>SCM_AP_ID</th>\n",
       "      <th>SCM_AS_ID</th>\n",
       "      <th>SCM_MASTER_AP_ID</th>\n",
       "      <th>SCM_IS_ZSP_ORDER</th>\n",
       "      <th>SCM_C_ORDER_STATUS</th>\n",
       "      <th>CTP_N_KEY_CUSTOMER_TYPE</th>\n",
       "      <th>SCM_OCI_LAND</th>\n",
       "      <th>SCM_D_FC_ID</th>\n",
       "      <th>SCM_D_PC_DSP</th>\n",
       "    </tr>\n",
       "  </thead>\n",
       "  <tbody>\n",
       "    <tr>\n",
       "      <th>0</th>\n",
       "      <td>435574885</td>\n",
       "      <td>102116690</td>\n",
       "      <td>2018-01-08</td>\n",
       "      <td>22:42</td>\n",
       "      <td>15</td>\n",
       "      <td>11840075</td>\n",
       "      <td>0.00</td>\n",
       "      <td>0.0</td>\n",
       "      <td>-0.7000</td>\n",
       "      <td>-0.7397</td>\n",
       "      <td>0.0000</td>\n",
       "      <td>73070</td>\n",
       "      <td>2285306</td>\n",
       "      <td>73070</td>\n",
       "      <td>0</td>\n",
       "      <td>L</td>\n",
       "      <td>0</td>\n",
       "      <td>E2</td>\n",
       "      <td>327</td>\n",
       "      <td>116</td>\n",
       "    </tr>\n",
       "    <tr>\n",
       "      <th>1</th>\n",
       "      <td>435574884</td>\n",
       "      <td>102116690</td>\n",
       "      <td>2018-01-08</td>\n",
       "      <td>22:42</td>\n",
       "      <td>15</td>\n",
       "      <td>11840075</td>\n",
       "      <td>18.99</td>\n",
       "      <td>0.0</td>\n",
       "      <td>8.0742</td>\n",
       "      <td>1.2642</td>\n",
       "      <td>15.6942</td>\n",
       "      <td>65164</td>\n",
       "      <td>1562543</td>\n",
       "      <td>65164</td>\n",
       "      <td>0</td>\n",
       "      <td>L</td>\n",
       "      <td>0</td>\n",
       "      <td>E2</td>\n",
       "      <td>328</td>\n",
       "      <td>116</td>\n",
       "    </tr>\n",
       "    <tr>\n",
       "      <th>2</th>\n",
       "      <td>435574882</td>\n",
       "      <td>102116690</td>\n",
       "      <td>2018-01-08</td>\n",
       "      <td>22:42</td>\n",
       "      <td>15</td>\n",
       "      <td>11840075</td>\n",
       "      <td>2.99</td>\n",
       "      <td>0.0</td>\n",
       "      <td>1.0382</td>\n",
       "      <td>0.6265</td>\n",
       "      <td>2.7182</td>\n",
       "      <td>62836</td>\n",
       "      <td>1454346</td>\n",
       "      <td>62836</td>\n",
       "      <td>0</td>\n",
       "      <td>L</td>\n",
       "      <td>0</td>\n",
       "      <td>E2</td>\n",
       "      <td>327</td>\n",
       "      <td>116</td>\n",
       "    </tr>\n",
       "    <tr>\n",
       "      <th>3</th>\n",
       "      <td>435574880</td>\n",
       "      <td>102116690</td>\n",
       "      <td>2018-01-08</td>\n",
       "      <td>22:42</td>\n",
       "      <td>15</td>\n",
       "      <td>11840075</td>\n",
       "      <td>0.00</td>\n",
       "      <td>0.0</td>\n",
       "      <td>-0.7100</td>\n",
       "      <td>-1.7302</td>\n",
       "      <td>0.0000</td>\n",
       "      <td>66270</td>\n",
       "      <td>2324601</td>\n",
       "      <td>66270</td>\n",
       "      <td>0</td>\n",
       "      <td>L</td>\n",
       "      <td>0</td>\n",
       "      <td>E2</td>\n",
       "      <td>327</td>\n",
       "      <td>116</td>\n",
       "    </tr>\n",
       "    <tr>\n",
       "      <th>4</th>\n",
       "      <td>435574878</td>\n",
       "      <td>102116690</td>\n",
       "      <td>2018-01-08</td>\n",
       "      <td>22:42</td>\n",
       "      <td>15</td>\n",
       "      <td>11840075</td>\n",
       "      <td>4.99</td>\n",
       "      <td>0.0</td>\n",
       "      <td>1.8364</td>\n",
       "      <td>-0.0678</td>\n",
       "      <td>4.5364</td>\n",
       "      <td>62742</td>\n",
       "      <td>1454256</td>\n",
       "      <td>62742</td>\n",
       "      <td>0</td>\n",
       "      <td>L</td>\n",
       "      <td>0</td>\n",
       "      <td>E2</td>\n",
       "      <td>327</td>\n",
       "      <td>116</td>\n",
       "    </tr>\n",
       "  </tbody>\n",
       "</table>\n",
       "</div>"
      ],
      "text/plain": [
       "   SCM_N_ORDER_POS_NR  SCM_N_ORDER_NR TDT_T_KEY_ORDER_DATE  \\\n",
       "0           435574885       102116690           2018-01-08   \n",
       "1           435574884       102116690           2018-01-08   \n",
       "2           435574882       102116690           2018-01-08   \n",
       "3           435574880       102116690           2018-01-08   \n",
       "4           435574878       102116690           2018-01-08   \n",
       "\n",
       "  THR_C_KEY_ORDER_HOUR  SIT_N_KEY_SITE  CUS_N_KEY_CUSTOMER  SCM_SALES_BMF  \\\n",
       "0                22:42              15            11840075           0.00   \n",
       "1                22:42              15            11840075          18.99   \n",
       "2                22:42              15            11840075           2.99   \n",
       "3                22:42              15            11840075           0.00   \n",
       "4                22:42              15            11840075           4.99   \n",
       "\n",
       "   SCM_SALES_CANCEL_BMF  SCM_D_FINANCE_CM1  SCM_D_FINANCE_CM2  \\\n",
       "0                   0.0            -0.7000            -0.7397   \n",
       "1                   0.0             8.0742             1.2642   \n",
       "2                   0.0             1.0382             0.6265   \n",
       "3                   0.0            -0.7100            -1.7302   \n",
       "4                   0.0             1.8364            -0.0678   \n",
       "\n",
       "   SCM_D_ORIG_FINANCE_ORDER_NET  SCM_AP_ID  SCM_AS_ID  SCM_MASTER_AP_ID  \\\n",
       "0                        0.0000      73070    2285306             73070   \n",
       "1                       15.6942      65164    1562543             65164   \n",
       "2                        2.7182      62836    1454346             62836   \n",
       "3                        0.0000      66270    2324601             66270   \n",
       "4                        4.5364      62742    1454256             62742   \n",
       "\n",
       "   SCM_IS_ZSP_ORDER SCM_C_ORDER_STATUS  CTP_N_KEY_CUSTOMER_TYPE SCM_OCI_LAND  \\\n",
       "0                 0                  L                        0           E2   \n",
       "1                 0                  L                        0           E2   \n",
       "2                 0                  L                        0           E2   \n",
       "3                 0                  L                        0           E2   \n",
       "4                 0                  L                        0           E2   \n",
       "\n",
       "   SCM_D_FC_ID  SCM_D_PC_DSP  \n",
       "0          327           116  \n",
       "1          328           116  \n",
       "2          327           116  \n",
       "3          327           116  \n",
       "4          327           116  "
      ]
     },
     "execution_count": 10,
     "metadata": {},
     "output_type": "execute_result"
    }
   ],
   "source": [
    "data.head()[data.columns[:20]]"
   ]
  },
  {
   "cell_type": "code",
   "execution_count": 30,
   "metadata": {
    "ExecuteTime": {
     "end_time": "2018-07-05T10:30:51.081858Z",
     "start_time": "2018-07-05T07:58:40.252858Z"
    }
   },
   "outputs": [
    {
     "name": "stdout",
     "output_type": "stream",
     "text": [
      "0\n"
     ]
    },
    {
     "name": "stderr",
     "output_type": "stream",
     "text": [
      "cleaning_n_formatting.py:20: RuntimeWarning: invalid value encountered in double_scalars\n",
      "  data['SCM_SALES_CANCEL_BMF'] = lista1\n",
      "cleaning_n_formatting.py:28: RuntimeWarning: invalid value encountered in double_scalars\n",
      "  #Convert date to calendar week number and month number\n"
     ]
    },
    {
     "name": "stdout",
     "output_type": "stream",
     "text": [
      "5000\n",
      "10000\n",
      "15000\n",
      "20000\n",
      "25000\n",
      "30000\n",
      "35000\n",
      "40000\n",
      "45000\n",
      "50000\n",
      "55000\n",
      "60000\n",
      "65000\n",
      "70000\n",
      "75000\n",
      "80000\n",
      "85000\n"
     ]
    },
    {
     "name": "stderr",
     "output_type": "stream",
     "text": [
      "cleaning_n_formatting.py:20: RuntimeWarning: divide by zero encountered in double_scalars\n",
      "  data['SCM_SALES_CANCEL_BMF'] = lista1\n",
      "cleaning_n_formatting.py:28: RuntimeWarning: divide by zero encountered in double_scalars\n",
      "  #Convert date to calendar week number and month number\n"
     ]
    },
    {
     "name": "stdout",
     "output_type": "stream",
     "text": [
      "90000\n",
      "95000\n"
     ]
    }
   ],
   "source": [
    "sp_customers = pd.DataFrame(columns=['ORF_EXT_ROOT_K_ID', 'ACQ_CAMP', 'PAY_METH', 'ORIGIN', 'TIER', 'ORDERS', 'SALES',\n",
    "                                     'NET_SALES', 'BASKET_AVG', 'CM1', 'CM1_AVG', 'CM1%', 'CM2', 'CM2_AVG', 'CM2%', \n",
    "                                     'CUS_LEAD_PG3', 'IMPORTANCE_PG3', 'CUS_LEAD_PG4', 'IMPORTANCE_PG4',\n",
    "                                     'SP_SD', 'SP_ED', 'SP_DIFF', 'SP_QTY', 'FIRST_O_DATE', 'LAST_O_DATE', 'O_DIFF',\n",
    "                                     'MON_PUR_FREQ_30D', 'MON_PUR_FREQ_60D', 'MON_PUR_FREQ_90D',\n",
    "                                     'MON_PUR_FREQ_180D', 'MON_PUR_FREQ_360D', 'MON_PUR_FREQ_540D', 'MON_PUR_FREQ_720D'])\n",
    "\n",
    "for n, cus in enumerate(data['ORF_EXT_ROOT_K_ID'].unique()):\n",
    "    cus_data = data[data['ORF_EXT_ROOT_K_ID'] == cus]\n",
    "    camp = cus_data['CAM_N_KEY_CUST_ACQ_CAMPAIGN'].unique()\n",
    "    pay_meth = cus_data['O_ZAHLUNGSA'].unique()\n",
    "    origin = cus_data['O_ORIGIN'].unique()\n",
    "    tier = cus_data['CZP_ZTQ_ID'].unique()\n",
    "    orders = cus_data['SCM_N_ORDER_NR'].nunique()\n",
    "    sales = cus_data['SCM_SALES_BMF'].sum() - cus_data['SCM_SALES_CANCEL_BMF'].sum() \n",
    "    net_sales = cus_data['SCM_D_ORIG_FINANCE_ORDER_NET'].sum()\n",
    "    basket_avg = sales / orders\n",
    "    cm1 = cus_data['SCM_D_FINANCE_CM1'].sum()\n",
    "    cm1_avg = cm1 / orders\n",
    "    cm1_perc = cm1 / net_sales * 100\n",
    "    #neg_cm1_orders = len(cus_data.groupby('SCM_N_ORDER_NR')['SCM_D_FINANCE_CM1'].sum()\\\n",
    "    #[cus_data.groupby('SCM_N_ORDER_NR')['SCM_D_FINANCE_CM1'].sum() < 0].index.values)\n",
    "    #perc_neg_cm1_orders = neg_cm1_orders / orders * 100\n",
    "    #total_loss_cm1 = cus_data.groupby('SCM_N_ORDER_NR')['SCM_D_FINANCE_CM1'].sum()\\\n",
    "    #                [cus_data.groupby('SCM_N_ORDER_NR')['SCM_D_FINANCE_CM1'].sum() < 0].sum()\n",
    "    cm2 = cus_data['SCM_D_FINANCE_CM2'].sum()\n",
    "    cm2_avg = cm2 / orders\n",
    "    cm2_perc = cm2 / net_sales * 100\n",
    "    #neg_cm2_orders = len(cus_data.groupby('SCM_N_ORDER_NR')['SCM_D_FINANCE_CM2'].sum()\\\n",
    "    #[cus_data.groupby('SCM_N_ORDER_NR')['SCM_D_FINANCE_CM2'].sum() < 0].index.values)\n",
    "    #perc_neg_cm2_orders = neg_cm2_orders / orders * 100\n",
    "    #total_loss_cm2 = cus_data.groupby('SCM_N_ORDER_NR')['SCM_D_FINANCE_CM2'].sum()\\\n",
    "    #                [cus_data.groupby('SCM_N_ORDER_NR')['SCM_D_FINANCE_CM2'].sum() < 0].sum()\n",
    "    if (cus_data['CZP_START_DATE'].astype(str) == 'NaT').all():\n",
    "        sp_start_date = 0\n",
    "        sp_expiry_date = 0\n",
    "        sp_diff_days = 0\n",
    "        sp_qty = 0\n",
    "    else:\n",
    "        sp_start_date = cus_data['CZP_START_DATE'].min()\n",
    "        sp_expiry_date = cus_data['CZP_EXPIRY_DATE'].max()\n",
    "        sp_diff = sp_expiry_date - sp_start_date\n",
    "        sp_diff_days = sp_diff.days\n",
    "        sp_qty = cus_data['CZP_EXPIRY_DATE'].nunique()\n",
    "    first_o_date = cus_data['TDT_T_KEY_ORDER_DATE'].dt.date.min()\n",
    "    last_o_date = cus_data['TDT_T_KEY_ORDER_DATE'].dt.date.max()\n",
    "    diff_date = (last_o_date - first_o_date)\n",
    "    \n",
    "    pg3_series = [i[0] for i in data[data['ORF_EXT_ROOT_K_ID'] == cus].groupby('SCM_N_ORDER_NR')\\\n",
    "                  ['OSP_3_LEAD_P_PG_ID'].unique().values]\n",
    "    cntr = Counter(pg3_series)\n",
    "    cus_lead_pg3 = cntr.most_common()[0][0]\n",
    "    importance_pg3 = cntr.most_common()[0][1] / orders\n",
    "    \n",
    "    pg4_series = [i[0] for i in data[data['ORF_EXT_ROOT_K_ID'] == cus].groupby('SCM_N_ORDER_NR')\\\n",
    "                  ['OSP_4_LEAD_P_PG_ID'].unique().values]\n",
    "    cnter = Counter(pg4_series)\n",
    "    cus_lead_pg4 = cnter.most_common()[0][0]\n",
    "    importance_pg4 = cnter.most_common()[0][1] / orders\n",
    "    \n",
    "    mon_freq_30d = first_o_date + timedelta(days = 30)\n",
    "    ord_30d = cus_data[(cus_data['TDT_T_KEY_ORDER_DATE'] >= first_o_date) & \n",
    "             (cus_data['TDT_T_KEY_ORDER_DATE'] <= mon_freq_30d)]['SCM_N_ORDER_NR'].nunique()\n",
    "    pur_freq_mon_30d = ord_30d\n",
    "    mon_freq_60d = first_o_date + timedelta(days = 60)\n",
    "    ord_60d = cus_data[(cus_data['TDT_T_KEY_ORDER_DATE'] >= first_o_date) & \n",
    "             (cus_data['TDT_T_KEY_ORDER_DATE'] <= mon_freq_60d)]['SCM_N_ORDER_NR'].nunique()\n",
    "    pur_freq_mon_60d = ord_60d / 2\n",
    "    mon_freq_90d = first_o_date + timedelta(days = 90)\n",
    "    ord_90d = cus_data[(cus_data['TDT_T_KEY_ORDER_DATE'] >= first_o_date) & \n",
    "             (cus_data['TDT_T_KEY_ORDER_DATE'] <= mon_freq_90d)]['SCM_N_ORDER_NR'].nunique()\n",
    "    pur_freq_mon_90d = ord_90d / 3\n",
    "    mon_freq_180d = first_o_date + timedelta(days = 180)\n",
    "    ord_180d = cus_data[(cus_data['TDT_T_KEY_ORDER_DATE'] >= first_o_date) & \n",
    "             (cus_data['TDT_T_KEY_ORDER_DATE'] <= mon_freq_180d)]['SCM_N_ORDER_NR'].nunique()\n",
    "    pur_freq_mon_180d = ord_180d / 6\n",
    "    mon_freq_360d = first_o_date + timedelta(days = 360)\n",
    "    ord_360d = cus_data[(cus_data['TDT_T_KEY_ORDER_DATE'] >= first_o_date) & \n",
    "             (cus_data['TDT_T_KEY_ORDER_DATE'] <= mon_freq_360d)]['SCM_N_ORDER_NR'].nunique()\n",
    "    pur_freq_mon_360d = ord_360d / 12\n",
    "    mon_freq_540d = first_o_date + timedelta(days = 540)\n",
    "    ord_540d = cus_data[(cus_data['TDT_T_KEY_ORDER_DATE'] >= first_o_date) & \n",
    "             (cus_data['TDT_T_KEY_ORDER_DATE'] <= mon_freq_540d)]['SCM_N_ORDER_NR'].nunique()\n",
    "    pur_freq_mon_540d = ord_540d / 18\n",
    "    mon_freq_720d = first_o_date + timedelta(days = 720)\n",
    "    ord_720d = cus_data[(cus_data['TDT_T_KEY_ORDER_DATE'] >= first_o_date) & \n",
    "             (cus_data['TDT_T_KEY_ORDER_DATE'] <= mon_freq_720d)]['SCM_N_ORDER_NR'].nunique()\n",
    "    pur_freq_mon_720d = ord_720d / 24\n",
    "    \n",
    "    row_ = [cus, camp, pay_meth, origin, tier, orders, sales, net_sales, basket_avg, cm1, cm1_avg, cm1_perc,\n",
    "            cm2, cm2_avg, cm2_perc, cus_lead_pg3, importance_pg3, cus_lead_pg4, importance_pg4,\n",
    "            sp_start_date, sp_expiry_date, sp_diff, sp_qty,\n",
    "            first_o_date, last_o_date, diff_date.days, pur_freq_mon_30d, pur_freq_mon_60d, \n",
    "            pur_freq_mon_90d, pur_freq_mon_180d, pur_freq_mon_360d, pur_freq_mon_540d, pur_freq_mon_720d]\n",
    "    row_ = pd.DataFrame([row_], columns=sp_customers.columns)\n",
    "    sp_customers = pd.concat([sp_customers, row_], ignore_index=True)\n",
    "    \n",
    "    if n % 5000 == 0:\n",
    "        print(n)"
   ]
  },
  {
   "cell_type": "code",
   "execution_count": 31,
   "metadata": {
    "ExecuteTime": {
     "end_time": "2018-07-05T10:58:59.729858Z",
     "start_time": "2018-07-05T10:58:59.576858Z"
    }
   },
   "outputs": [
    {
     "data": {
      "text/html": [
       "<div>\n",
       "<style scoped>\n",
       "    .dataframe tbody tr th:only-of-type {\n",
       "        vertical-align: middle;\n",
       "    }\n",
       "\n",
       "    .dataframe tbody tr th {\n",
       "        vertical-align: top;\n",
       "    }\n",
       "\n",
       "    .dataframe thead th {\n",
       "        text-align: right;\n",
       "    }\n",
       "</style>\n",
       "<table border=\"1\" class=\"dataframe\">\n",
       "  <thead>\n",
       "    <tr style=\"text-align: right;\">\n",
       "      <th></th>\n",
       "      <th>SP_ED</th>\n",
       "      <th>SP_DIFF</th>\n",
       "      <th>SP_QTY</th>\n",
       "      <th>FIRST_O_DATE</th>\n",
       "      <th>LAST_O_DATE</th>\n",
       "      <th>O_DIFF</th>\n",
       "      <th>MON_PUR_FREQ_30D</th>\n",
       "      <th>MON_PUR_FREQ_60D</th>\n",
       "      <th>MON_PUR_FREQ_90D</th>\n",
       "      <th>MON_PUR_FREQ_180D</th>\n",
       "      <th>MON_PUR_FREQ_360D</th>\n",
       "      <th>MON_PUR_FREQ_540D</th>\n",
       "      <th>MON_PUR_FREQ_720D</th>\n",
       "    </tr>\n",
       "  </thead>\n",
       "  <tbody>\n",
       "    <tr>\n",
       "      <th>19602</th>\n",
       "      <td>0</td>\n",
       "      <td>365 days</td>\n",
       "      <td>0</td>\n",
       "      <td>2015-04-11</td>\n",
       "      <td>2017-03-18</td>\n",
       "      <td>707</td>\n",
       "      <td>1</td>\n",
       "      <td>0.5</td>\n",
       "      <td>0.33</td>\n",
       "      <td>0.33</td>\n",
       "      <td>0.33</td>\n",
       "      <td>0.22</td>\n",
       "      <td>0.25</td>\n",
       "    </tr>\n",
       "    <tr>\n",
       "      <th>23121</th>\n",
       "      <td>0</td>\n",
       "      <td>1064 days</td>\n",
       "      <td>0</td>\n",
       "      <td>2015-03-09</td>\n",
       "      <td>2016-07-18</td>\n",
       "      <td>497</td>\n",
       "      <td>1</td>\n",
       "      <td>0.5</td>\n",
       "      <td>0.33</td>\n",
       "      <td>0.17</td>\n",
       "      <td>0.08</td>\n",
       "      <td>0.11</td>\n",
       "      <td>0.08</td>\n",
       "    </tr>\n",
       "    <tr>\n",
       "      <th>57878</th>\n",
       "      <td>0</td>\n",
       "      <td>1164 days</td>\n",
       "      <td>0</td>\n",
       "      <td>2015-04-10</td>\n",
       "      <td>2018-05-24</td>\n",
       "      <td>1140</td>\n",
       "      <td>1</td>\n",
       "      <td>0.5</td>\n",
       "      <td>0.67</td>\n",
       "      <td>0.50</td>\n",
       "      <td>0.50</td>\n",
       "      <td>0.44</td>\n",
       "      <td>0.46</td>\n",
       "    </tr>\n",
       "    <tr>\n",
       "      <th>42207</th>\n",
       "      <td>0</td>\n",
       "      <td>1096 days</td>\n",
       "      <td>0</td>\n",
       "      <td>2015-05-21</td>\n",
       "      <td>2016-11-07</td>\n",
       "      <td>536</td>\n",
       "      <td>1</td>\n",
       "      <td>1.0</td>\n",
       "      <td>0.67</td>\n",
       "      <td>0.33</td>\n",
       "      <td>0.17</td>\n",
       "      <td>0.17</td>\n",
       "      <td>0.12</td>\n",
       "    </tr>\n",
       "    <tr>\n",
       "      <th>78145</th>\n",
       "      <td>0</td>\n",
       "      <td>366 days</td>\n",
       "      <td>0</td>\n",
       "      <td>2015-11-08</td>\n",
       "      <td>2015-11-08</td>\n",
       "      <td>0</td>\n",
       "      <td>1</td>\n",
       "      <td>0.5</td>\n",
       "      <td>0.33</td>\n",
       "      <td>0.17</td>\n",
       "      <td>0.08</td>\n",
       "      <td>0.06</td>\n",
       "      <td>0.04</td>\n",
       "    </tr>\n",
       "    <tr>\n",
       "      <th>58715</th>\n",
       "      <td>0</td>\n",
       "      <td>365 days</td>\n",
       "      <td>0</td>\n",
       "      <td>2015-06-08</td>\n",
       "      <td>2015-06-08</td>\n",
       "      <td>0</td>\n",
       "      <td>1</td>\n",
       "      <td>0.5</td>\n",
       "      <td>0.33</td>\n",
       "      <td>0.17</td>\n",
       "      <td>0.08</td>\n",
       "      <td>0.06</td>\n",
       "      <td>0.04</td>\n",
       "    </tr>\n",
       "    <tr>\n",
       "      <th>5255</th>\n",
       "      <td>2016-03-30 00:00:00</td>\n",
       "      <td>366 days</td>\n",
       "      <td>1</td>\n",
       "      <td>2015-03-30</td>\n",
       "      <td>2016-04-01</td>\n",
       "      <td>368</td>\n",
       "      <td>1</td>\n",
       "      <td>1.0</td>\n",
       "      <td>0.67</td>\n",
       "      <td>0.67</td>\n",
       "      <td>0.50</td>\n",
       "      <td>0.39</td>\n",
       "      <td>0.29</td>\n",
       "    </tr>\n",
       "    <tr>\n",
       "      <th>9679</th>\n",
       "      <td>0</td>\n",
       "      <td>1096 days</td>\n",
       "      <td>0</td>\n",
       "      <td>2015-01-31</td>\n",
       "      <td>2018-04-23</td>\n",
       "      <td>1178</td>\n",
       "      <td>4</td>\n",
       "      <td>2.5</td>\n",
       "      <td>1.67</td>\n",
       "      <td>1.00</td>\n",
       "      <td>1.08</td>\n",
       "      <td>0.89</td>\n",
       "      <td>0.96</td>\n",
       "    </tr>\n",
       "    <tr>\n",
       "      <th>78999</th>\n",
       "      <td>0</td>\n",
       "      <td>366 days</td>\n",
       "      <td>0</td>\n",
       "      <td>2015-06-01</td>\n",
       "      <td>2015-06-01</td>\n",
       "      <td>0</td>\n",
       "      <td>1</td>\n",
       "      <td>0.5</td>\n",
       "      <td>0.33</td>\n",
       "      <td>0.17</td>\n",
       "      <td>0.08</td>\n",
       "      <td>0.06</td>\n",
       "      <td>0.04</td>\n",
       "    </tr>\n",
       "    <tr>\n",
       "      <th>73614</th>\n",
       "      <td>0</td>\n",
       "      <td>366 days</td>\n",
       "      <td>0</td>\n",
       "      <td>2015-04-14</td>\n",
       "      <td>2015-04-14</td>\n",
       "      <td>0</td>\n",
       "      <td>1</td>\n",
       "      <td>0.5</td>\n",
       "      <td>0.33</td>\n",
       "      <td>0.17</td>\n",
       "      <td>0.08</td>\n",
       "      <td>0.06</td>\n",
       "      <td>0.04</td>\n",
       "    </tr>\n",
       "  </tbody>\n",
       "</table>\n",
       "</div>"
      ],
      "text/plain": [
       "                     SP_ED   SP_DIFF SP_QTY FIRST_O_DATE LAST_O_DATE O_DIFF  \\\n",
       "19602                    0  365 days      0   2015-04-11  2017-03-18    707   \n",
       "23121                    0 1064 days      0   2015-03-09  2016-07-18    497   \n",
       "57878                    0 1164 days      0   2015-04-10  2018-05-24   1140   \n",
       "42207                    0 1096 days      0   2015-05-21  2016-11-07    536   \n",
       "78145                    0  366 days      0   2015-11-08  2015-11-08      0   \n",
       "58715                    0  365 days      0   2015-06-08  2015-06-08      0   \n",
       "5255   2016-03-30 00:00:00  366 days      1   2015-03-30  2016-04-01    368   \n",
       "9679                     0 1096 days      0   2015-01-31  2018-04-23   1178   \n",
       "78999                    0  366 days      0   2015-06-01  2015-06-01      0   \n",
       "73614                    0  366 days      0   2015-04-14  2015-04-14      0   \n",
       "\n",
       "      MON_PUR_FREQ_30D  MON_PUR_FREQ_60D  MON_PUR_FREQ_90D  MON_PUR_FREQ_180D  \\\n",
       "19602                1               0.5              0.33               0.33   \n",
       "23121                1               0.5              0.33               0.17   \n",
       "57878                1               0.5              0.67               0.50   \n",
       "42207                1               1.0              0.67               0.33   \n",
       "78145                1               0.5              0.33               0.17   \n",
       "58715                1               0.5              0.33               0.17   \n",
       "5255                 1               1.0              0.67               0.67   \n",
       "9679                 4               2.5              1.67               1.00   \n",
       "78999                1               0.5              0.33               0.17   \n",
       "73614                1               0.5              0.33               0.17   \n",
       "\n",
       "       MON_PUR_FREQ_360D  MON_PUR_FREQ_540D  MON_PUR_FREQ_720D  \n",
       "19602               0.33               0.22               0.25  \n",
       "23121               0.08               0.11               0.08  \n",
       "57878               0.50               0.44               0.46  \n",
       "42207               0.17               0.17               0.12  \n",
       "78145               0.08               0.06               0.04  \n",
       "58715               0.08               0.06               0.04  \n",
       "5255                0.50               0.39               0.29  \n",
       "9679                1.08               0.89               0.96  \n",
       "78999               0.08               0.06               0.04  \n",
       "73614               0.08               0.06               0.04  "
      ]
     },
     "execution_count": 31,
     "metadata": {},
     "output_type": "execute_result"
    }
   ],
   "source": [
    "sp_customers.round(2).sample(10)[sp_customers.columns[20:]]"
   ]
  },
  {
   "cell_type": "code",
   "execution_count": 32,
   "metadata": {
    "ExecuteTime": {
     "end_time": "2018-07-05T10:59:03.117858Z",
     "start_time": "2018-07-05T10:59:02.893858Z"
    }
   },
   "outputs": [
    {
     "name": "stdout",
     "output_type": "stream",
     "text": [
      "<class 'pandas.core.frame.DataFrame'>\n",
      "RangeIndex: 95562 entries, 0 to 95561\n",
      "Data columns (total 33 columns):\n",
      "ORF_EXT_ROOT_K_ID    95562 non-null object\n",
      "ACQ_CAMP             95562 non-null object\n",
      "PAY_METH             95562 non-null object\n",
      "ORIGIN               95562 non-null object\n",
      "TIER                 95562 non-null object\n",
      "ORDERS               95562 non-null object\n",
      "SALES                95562 non-null float64\n",
      "NET_SALES            95562 non-null float64\n",
      "BASKET_AVG           95562 non-null float64\n",
      "CM1                  95562 non-null float64\n",
      "CM1_AVG              95562 non-null float64\n",
      "CM1%                 95534 non-null float64\n",
      "CM2                  95562 non-null float64\n",
      "CM2_AVG              95562 non-null float64\n",
      "CM2%                 95534 non-null float64\n",
      "CUS_LEAD_PG3         95562 non-null object\n",
      "IMPORTANCE_PG3       95562 non-null float64\n",
      "CUS_LEAD_PG4         95562 non-null object\n",
      "IMPORTANCE_PG4       95562 non-null float64\n",
      "SP_SD                95562 non-null object\n",
      "SP_ED                95562 non-null object\n",
      "SP_DIFF              95562 non-null timedelta64[ns]\n",
      "SP_QTY               95562 non-null object\n",
      "FIRST_O_DATE         95562 non-null object\n",
      "LAST_O_DATE          95562 non-null object\n",
      "O_DIFF               95562 non-null object\n",
      "MON_PUR_FREQ_30D     95562 non-null object\n",
      "MON_PUR_FREQ_60D     95562 non-null float64\n",
      "MON_PUR_FREQ_90D     95562 non-null float64\n",
      "MON_PUR_FREQ_180D    95562 non-null float64\n",
      "MON_PUR_FREQ_360D    95562 non-null float64\n",
      "MON_PUR_FREQ_540D    95562 non-null float64\n",
      "MON_PUR_FREQ_720D    95562 non-null float64\n",
      "dtypes: float64(17), object(15), timedelta64[ns](1)\n",
      "memory usage: 24.1+ MB\n"
     ]
    }
   ],
   "source": [
    "sp_customers.info()"
   ]
  },
  {
   "cell_type": "code",
   "execution_count": 33,
   "metadata": {
    "ExecuteTime": {
     "end_time": "2018-07-05T10:59:06.800858Z",
     "start_time": "2018-07-05T10:59:06.070858Z"
    }
   },
   "outputs": [],
   "source": [
    "days = [i.days for i in sp_customers['SP_DIFF']]"
   ]
  },
  {
   "cell_type": "code",
   "execution_count": 34,
   "metadata": {
    "ExecuteTime": {
     "end_time": "2018-07-05T10:59:09.605858Z",
     "start_time": "2018-07-05T10:59:09.602858Z"
    }
   },
   "outputs": [
    {
     "data": {
      "text/plain": [
       "95562"
      ]
     },
     "execution_count": 34,
     "metadata": {},
     "output_type": "execute_result"
    }
   ],
   "source": [
    "len(days)"
   ]
  },
  {
   "cell_type": "code",
   "execution_count": 35,
   "metadata": {
    "ExecuteTime": {
     "end_time": "2018-07-05T10:59:12.364858Z",
     "start_time": "2018-07-05T10:59:12.345858Z"
    }
   },
   "outputs": [],
   "source": [
    "sp_customers['SP_DIFF'] = days"
   ]
  },
  {
   "cell_type": "code",
   "execution_count": 36,
   "metadata": {
    "ExecuteTime": {
     "end_time": "2018-07-05T10:59:31.074858Z",
     "start_time": "2018-07-05T10:59:15.352858Z"
    }
   },
   "outputs": [],
   "source": [
    "sp_customers.round(2).to_csv('clv_es_customers_starting_in_2015.csv', sep=';', index=False, encoding='utf-8')"
   ]
  },
  {
   "cell_type": "code",
   "execution_count": 37,
   "metadata": {
    "ExecuteTime": {
     "end_time": "2018-07-05T10:59:34.541858Z",
     "start_time": "2018-07-05T10:59:33.971858Z"
    }
   },
   "outputs": [],
   "source": [
    "customers = pd.read_csv('clv_es_customers_starting_in_2015.csv', sep=';', low_memory=False)"
   ]
  },
  {
   "cell_type": "code",
   "execution_count": 38,
   "metadata": {
    "ExecuteTime": {
     "end_time": "2018-07-05T10:59:37.583858Z",
     "start_time": "2018-07-05T10:59:37.496858Z"
    }
   },
   "outputs": [
    {
     "name": "stdout",
     "output_type": "stream",
     "text": [
      "<class 'pandas.core.frame.DataFrame'>\n",
      "RangeIndex: 95562 entries, 0 to 95561\n",
      "Data columns (total 33 columns):\n",
      "ORF_EXT_ROOT_K_ID    95562 non-null int64\n",
      "ACQ_CAMP             95562 non-null object\n",
      "PAY_METH             95562 non-null object\n",
      "ORIGIN               95562 non-null object\n",
      "TIER                 95562 non-null object\n",
      "ORDERS               95562 non-null int64\n",
      "SALES                95562 non-null float64\n",
      "NET_SALES            95562 non-null float64\n",
      "BASKET_AVG           95562 non-null float64\n",
      "CM1                  95562 non-null float64\n",
      "CM1_AVG              95562 non-null float64\n",
      "CM1%                 95534 non-null float64\n",
      "CM2                  95562 non-null float64\n",
      "CM2_AVG              95562 non-null float64\n",
      "CM2%                 95534 non-null float64\n",
      "CUS_LEAD_PG3         95562 non-null int64\n",
      "IMPORTANCE_PG3       95562 non-null float64\n",
      "CUS_LEAD_PG4         95562 non-null int64\n",
      "IMPORTANCE_PG4       95562 non-null float64\n",
      "SP_SD                95562 non-null object\n",
      "SP_ED                95562 non-null object\n",
      "SP_DIFF              95562 non-null int64\n",
      "SP_QTY               95562 non-null int64\n",
      "FIRST_O_DATE         95562 non-null object\n",
      "LAST_O_DATE          95562 non-null object\n",
      "O_DIFF               95562 non-null int64\n",
      "MON_PUR_FREQ_30D     95562 non-null int64\n",
      "MON_PUR_FREQ_60D     95562 non-null float64\n",
      "MON_PUR_FREQ_90D     95562 non-null float64\n",
      "MON_PUR_FREQ_180D    95562 non-null float64\n",
      "MON_PUR_FREQ_360D    95562 non-null float64\n",
      "MON_PUR_FREQ_540D    95562 non-null float64\n",
      "MON_PUR_FREQ_720D    95562 non-null float64\n",
      "dtypes: float64(17), int64(8), object(8)\n",
      "memory usage: 24.1+ MB\n"
     ]
    }
   ],
   "source": [
    "customers.info()"
   ]
  },
  {
   "cell_type": "code",
   "execution_count": 39,
   "metadata": {
    "ExecuteTime": {
     "end_time": "2018-07-05T10:59:40.415858Z",
     "start_time": "2018-07-05T10:59:40.395858Z"
    }
   },
   "outputs": [
    {
     "data": {
      "text/html": [
       "<div>\n",
       "<style scoped>\n",
       "    .dataframe tbody tr th:only-of-type {\n",
       "        vertical-align: middle;\n",
       "    }\n",
       "\n",
       "    .dataframe tbody tr th {\n",
       "        vertical-align: top;\n",
       "    }\n",
       "\n",
       "    .dataframe thead th {\n",
       "        text-align: right;\n",
       "    }\n",
       "</style>\n",
       "<table border=\"1\" class=\"dataframe\">\n",
       "  <thead>\n",
       "    <tr style=\"text-align: right;\">\n",
       "      <th></th>\n",
       "      <th>CUS_LEAD_PG3</th>\n",
       "      <th>IMPORTANCE_PG3</th>\n",
       "      <th>CUS_LEAD_PG4</th>\n",
       "      <th>IMPORTANCE_PG4</th>\n",
       "      <th>SP_SD</th>\n",
       "      <th>SP_ED</th>\n",
       "      <th>SP_DIFF</th>\n",
       "      <th>SP_QTY</th>\n",
       "      <th>FIRST_O_DATE</th>\n",
       "      <th>LAST_O_DATE</th>\n",
       "      <th>O_DIFF</th>\n",
       "      <th>MON_PUR_FREQ_30D</th>\n",
       "      <th>MON_PUR_FREQ_60D</th>\n",
       "      <th>MON_PUR_FREQ_90D</th>\n",
       "      <th>MON_PUR_FREQ_180D</th>\n",
       "      <th>MON_PUR_FREQ_360D</th>\n",
       "      <th>MON_PUR_FREQ_540D</th>\n",
       "      <th>MON_PUR_FREQ_720D</th>\n",
       "    </tr>\n",
       "  </thead>\n",
       "  <tbody>\n",
       "    <tr>\n",
       "      <th>0</th>\n",
       "      <td>252</td>\n",
       "      <td>0.54</td>\n",
       "      <td>9426</td>\n",
       "      <td>0.54</td>\n",
       "      <td>2015-10-12 00:00:00</td>\n",
       "      <td>2016-10-12 00:00:00</td>\n",
       "      <td>366</td>\n",
       "      <td>1</td>\n",
       "      <td>2015-06-15</td>\n",
       "      <td>2018-05-10</td>\n",
       "      <td>1060</td>\n",
       "      <td>1</td>\n",
       "      <td>0.5</td>\n",
       "      <td>0.33</td>\n",
       "      <td>0.33</td>\n",
       "      <td>0.42</td>\n",
       "      <td>0.39</td>\n",
       "      <td>0.33</td>\n",
       "    </tr>\n",
       "    <tr>\n",
       "      <th>1</th>\n",
       "      <td>251</td>\n",
       "      <td>0.75</td>\n",
       "      <td>17798</td>\n",
       "      <td>0.50</td>\n",
       "      <td>0</td>\n",
       "      <td>0</td>\n",
       "      <td>366</td>\n",
       "      <td>0</td>\n",
       "      <td>2015-10-25</td>\n",
       "      <td>2018-04-03</td>\n",
       "      <td>891</td>\n",
       "      <td>1</td>\n",
       "      <td>0.5</td>\n",
       "      <td>0.33</td>\n",
       "      <td>0.17</td>\n",
       "      <td>0.08</td>\n",
       "      <td>0.06</td>\n",
       "      <td>0.21</td>\n",
       "    </tr>\n",
       "    <tr>\n",
       "      <th>2</th>\n",
       "      <td>252</td>\n",
       "      <td>0.39</td>\n",
       "      <td>720</td>\n",
       "      <td>0.43</td>\n",
       "      <td>0</td>\n",
       "      <td>0</td>\n",
       "      <td>366</td>\n",
       "      <td>0</td>\n",
       "      <td>2015-04-19</td>\n",
       "      <td>2018-04-17</td>\n",
       "      <td>1094</td>\n",
       "      <td>2</td>\n",
       "      <td>1.5</td>\n",
       "      <td>1.67</td>\n",
       "      <td>1.17</td>\n",
       "      <td>1.00</td>\n",
       "      <td>0.94</td>\n",
       "      <td>0.79</td>\n",
       "    </tr>\n",
       "    <tr>\n",
       "      <th>3</th>\n",
       "      <td>251</td>\n",
       "      <td>0.95</td>\n",
       "      <td>35825</td>\n",
       "      <td>0.62</td>\n",
       "      <td>2016-01-01 00:00:00</td>\n",
       "      <td>2019-01-01 00:00:00</td>\n",
       "      <td>1096</td>\n",
       "      <td>3</td>\n",
       "      <td>2015-02-08</td>\n",
       "      <td>2018-06-26</td>\n",
       "      <td>1234</td>\n",
       "      <td>1</td>\n",
       "      <td>1.0</td>\n",
       "      <td>0.67</td>\n",
       "      <td>0.50</td>\n",
       "      <td>0.42</td>\n",
       "      <td>0.50</td>\n",
       "      <td>0.46</td>\n",
       "    </tr>\n",
       "    <tr>\n",
       "      <th>4</th>\n",
       "      <td>251</td>\n",
       "      <td>1.00</td>\n",
       "      <td>283</td>\n",
       "      <td>1.00</td>\n",
       "      <td>0</td>\n",
       "      <td>0</td>\n",
       "      <td>1096</td>\n",
       "      <td>0</td>\n",
       "      <td>2015-03-13</td>\n",
       "      <td>2018-06-28</td>\n",
       "      <td>1203</td>\n",
       "      <td>1</td>\n",
       "      <td>1.0</td>\n",
       "      <td>1.00</td>\n",
       "      <td>0.83</td>\n",
       "      <td>0.75</td>\n",
       "      <td>0.61</td>\n",
       "      <td>0.50</td>\n",
       "    </tr>\n",
       "  </tbody>\n",
       "</table>\n",
       "</div>"
      ],
      "text/plain": [
       "   CUS_LEAD_PG3  IMPORTANCE_PG3  CUS_LEAD_PG4  IMPORTANCE_PG4  \\\n",
       "0           252            0.54          9426            0.54   \n",
       "1           251            0.75         17798            0.50   \n",
       "2           252            0.39           720            0.43   \n",
       "3           251            0.95         35825            0.62   \n",
       "4           251            1.00           283            1.00   \n",
       "\n",
       "                 SP_SD                SP_ED  SP_DIFF  SP_QTY FIRST_O_DATE  \\\n",
       "0  2015-10-12 00:00:00  2016-10-12 00:00:00      366       1   2015-06-15   \n",
       "1                    0                    0      366       0   2015-10-25   \n",
       "2                    0                    0      366       0   2015-04-19   \n",
       "3  2016-01-01 00:00:00  2019-01-01 00:00:00     1096       3   2015-02-08   \n",
       "4                    0                    0     1096       0   2015-03-13   \n",
       "\n",
       "  LAST_O_DATE  O_DIFF  MON_PUR_FREQ_30D  MON_PUR_FREQ_60D  MON_PUR_FREQ_90D  \\\n",
       "0  2018-05-10    1060                 1               0.5              0.33   \n",
       "1  2018-04-03     891                 1               0.5              0.33   \n",
       "2  2018-04-17    1094                 2               1.5              1.67   \n",
       "3  2018-06-26    1234                 1               1.0              0.67   \n",
       "4  2018-06-28    1203                 1               1.0              1.00   \n",
       "\n",
       "   MON_PUR_FREQ_180D  MON_PUR_FREQ_360D  MON_PUR_FREQ_540D  MON_PUR_FREQ_720D  \n",
       "0               0.33               0.42               0.39               0.33  \n",
       "1               0.17               0.08               0.06               0.21  \n",
       "2               1.17               1.00               0.94               0.79  \n",
       "3               0.50               0.42               0.50               0.46  \n",
       "4               0.83               0.75               0.61               0.50  "
      ]
     },
     "execution_count": 39,
     "metadata": {},
     "output_type": "execute_result"
    }
   ],
   "source": [
    "customers.head()[customers.columns[15:]]"
   ]
  },
  {
   "cell_type": "code",
   "execution_count": 40,
   "metadata": {
    "ExecuteTime": {
     "end_time": "2018-07-05T10:59:43.403858Z",
     "start_time": "2018-07-05T10:59:43.349858Z"
    }
   },
   "outputs": [],
   "source": [
    "#customers['SP_SD'] = pd.to_datetime(customers['SP_SD'], format='%Y-%m-%d')\n",
    "#customers['SP_ED'] = pd.to_datetime(customers['SP_ED'], format='%Y-%m-%d')\n",
    "customers['FIRST_O_DATE'] = pd.to_datetime(customers['FIRST_O_DATE'], format='%Y-%m-%d')\n",
    "customers['LAST_O_DATE'] = pd.to_datetime(customers['LAST_O_DATE'], format='%Y-%m-%d')"
   ]
  },
  {
   "cell_type": "code",
   "execution_count": 49,
   "metadata": {
    "ExecuteTime": {
     "end_time": "2018-07-05T11:00:26.647858Z",
     "start_time": "2018-07-05T11:00:26.144858Z"
    }
   },
   "outputs": [
    {
     "data": {
      "text/plain": [
       "<matplotlib.axes._subplots.AxesSubplot at 0x122f8550>"
      ]
     },
     "execution_count": 49,
     "metadata": {},
     "output_type": "execute_result"
    },
    {
     "data": {
      "image/png": "[encoded data removed]",
      "text/plain": [
       "<matplotlib.figure.Figure at 0x122ad3c8>"
      ]
     },
     "metadata": {},
     "output_type": "display_data"
    }
   ],
   "source": [
    "plt.figure(figsize=(16, 4))\n",
    "customers['O_DIFF'].hist(bins=180, range=(1, 1800))"
   ]
  },
  {
   "cell_type": "code",
   "execution_count": 42,
   "metadata": {
    "ExecuteTime": {
     "end_time": "2018-07-05T10:59:52.154858Z",
     "start_time": "2018-07-05T10:59:52.135858Z"
    }
   },
   "outputs": [
    {
     "data": {
      "text/plain": [
       "['K']         44321\n",
       "['PP']        20974\n",
       "['CD']        10619\n",
       "['K' 'R']      3525\n",
       "['K' 'PP']     2787\n",
       "['PP' 'K']     2495\n",
       "['R']          2148\n",
       "['K' 'CD']     1383\n",
       "['R' 'K']      1149\n",
       "['CD' 'K']     1106\n",
       "Name: PAY_METH, dtype: int64"
      ]
     },
     "execution_count": 42,
     "metadata": {},
     "output_type": "execute_result"
    }
   ],
   "source": [
    "customers['PAY_METH'].value_counts().head(10)"
   ]
  },
  {
   "cell_type": "code",
   "execution_count": 43,
   "metadata": {
    "ExecuteTime": {
     "end_time": "2018-07-05T10:59:55.337858Z",
     "start_time": "2018-07-05T10:59:54.952858Z"
    }
   },
   "outputs": [
    {
     "data": {
      "text/plain": [
       "<matplotlib.axes._subplots.AxesSubplot at 0x132c0f28>"
      ]
     },
     "execution_count": 43,
     "metadata": {},
     "output_type": "execute_result"
    },
    {
     "data": {
      "image/png": "[encoded data removed]",
      "text/plain": [
       "<matplotlib.figure.Figure at 0x1326c860>"
      ]
     },
     "metadata": {},
     "output_type": "display_data"
    }
   ],
   "source": [
    "plt.figure(figsize=(16, 4))\n",
    "customers['ORDERS'].hist(bins=50, range=(0, 50))"
   ]
  },
  {
   "cell_type": "code",
   "execution_count": 44,
   "metadata": {
    "ExecuteTime": {
     "end_time": "2018-07-05T10:59:58.508858Z",
     "start_time": "2018-07-05T10:59:58.112858Z"
    }
   },
   "outputs": [
    {
     "data": {
      "text/plain": [
       "<matplotlib.axes._subplots.AxesSubplot at 0x14bea240>"
      ]
     },
     "execution_count": 44,
     "metadata": {},
     "output_type": "execute_result"
    },
    {
     "data": {
      "image/png": "[encoded data removed]",
      "text/plain": [
       "<matplotlib.figure.Figure at 0xf721320>"
      ]
     },
     "metadata": {},
     "output_type": "display_data"
    }
   ],
   "source": [
    "plt.figure(figsize=(16, 4))\n",
    "customers['SALES'].hist(bins=100, range=(0, 1000))"
   ]
  },
  {
   "cell_type": "code",
   "execution_count": 45,
   "metadata": {
    "ExecuteTime": {
     "end_time": "2018-07-05T11:00:01.694858Z",
     "start_time": "2018-07-05T11:00:01.281858Z"
    }
   },
   "outputs": [
    {
     "data": {
      "text/plain": [
       "<matplotlib.axes._subplots.AxesSubplot at 0x15146908>"
      ]
     },
     "execution_count": 45,
     "metadata": {},
     "output_type": "execute_result"
    },
    {
     "data": {
      "image/png": "[encoded data removed]",
      "text/plain": [
       "<matplotlib.figure.Figure at 0xfe2ce10>"
      ]
     },
     "metadata": {},
     "output_type": "display_data"
    }
   ],
   "source": [
    "plt.figure(figsize=(16, 4))\n",
    "customers['CM2%'].hist(bins=100, range=(-50, 50))"
   ]
  },
  {
   "cell_type": "code",
   "execution_count": 46,
   "metadata": {
    "ExecuteTime": {
     "end_time": "2018-07-05T11:00:04.965858Z",
     "start_time": "2018-07-05T11:00:04.676858Z"
    }
   },
   "outputs": [
    {
     "data": {
      "text/plain": [
       "<matplotlib.axes._subplots.AxesSubplot at 0xfecf908>"
      ]
     },
     "execution_count": 46,
     "metadata": {},
     "output_type": "execute_result"
    },
    {
     "data": {
      "image/png": "[encoded data removed]",
      "text/plain": [
       "<matplotlib.figure.Figure at 0xfa25be0>"
      ]
     },
     "metadata": {},
     "output_type": "display_data"
    }
   ],
   "source": [
    "plt.figure(figsize=(16, 8))\n",
    "customers['CUS_LEAD_PG3'].value_counts().head(25).plot(kind='barh')"
   ]
  },
  {
   "cell_type": "code",
   "execution_count": 47,
   "metadata": {
    "ExecuteTime": {
     "end_time": "2018-07-05T11:00:08.001858Z",
     "start_time": "2018-07-05T11:00:07.798858Z"
    }
   },
   "outputs": [
    {
     "data": {
      "text/plain": [
       "<matplotlib.axes._subplots.AxesSubplot at 0xfedd390>"
      ]
     },
     "execution_count": 47,
     "metadata": {},
     "output_type": "execute_result"
    },
    {
     "data": {
      "image/png": "[encoded data removed]",
      "text/plain": [
       "<matplotlib.figure.Figure at 0xfedd6d8>"
      ]
     },
     "metadata": {},
     "output_type": "display_data"
    }
   ],
   "source": [
    "plt.figure(figsize=(16, 4))\n",
    "customers['IMPORTANCE_PG3'].hist(bins=10, range=(0, 1))"
   ]
  },
  {
   "cell_type": "code",
   "execution_count": 48,
   "metadata": {
    "ExecuteTime": {
     "end_time": "2018-07-05T11:00:11.093858Z",
     "start_time": "2018-07-05T11:00:10.732858Z"
    }
   },
   "outputs": [
    {
     "data": {
      "text/plain": [
       "<matplotlib.axes._subplots.AxesSubplot at 0x124617f0>"
      ]
     },
     "execution_count": 48,
     "metadata": {},
     "output_type": "execute_result"
    },
    {
     "data": {
      "image/png": "[encoded data removed]",
      "text/plain": [
       "<matplotlib.figure.Figure at 0x12308198>"
      ]
     },
     "metadata": {},
     "output_type": "display_data"
    }
   ],
   "source": [
    "plt.figure(figsize=(16, 8))\n",
    "customers['CUS_LEAD_PG4'].value_counts().head(25).plot(kind='barh')"
   ]
  },
  {
   "cell_type": "code",
   "execution_count": null,
   "metadata": {},
   "outputs": [],
   "source": []
  }
 ],
 "metadata": {
  "hide_input": false,
  "kernelspec": {
   "display_name": "Python [default]",
   "language": "python",
   "name": "python3"
  },
  "language_info": {
   "codemirror_mode": {
    "name": "ipython",
    "version": 3
   },
   "file_extension": ".py",
   "mimetype": "text/x-python",
   "name": "python",
   "nbconvert_exporter": "python",
   "pygments_lexer": "ipython3",
   "version": "3.6.4"
  },
  "toc": {
   "base_numbering": 1,
   "nav_menu": {},
   "number_sections": true,
   "sideBar": true,
   "skip_h1_title": false,
   "title_cell": "Table of Contents",
   "title_sidebar": "Contents",
   "toc_cell": false,
   "toc_position": {},
   "toc_section_display": true,
   "toc_window_display": false
  },
  "varInspector": {
   "cols": {
    "lenName": 16,
    "lenType": 16,
    "lenVar": 40
   },
   "kernels_config": {
    "python": {
     "delete_cmd_postfix": "",
     "delete_cmd_prefix": "del ",
     "library": "var_list.py",
     "varRefreshCmd": "print(var_dic_list())"
    },
    "r": {
     "delete_cmd_postfix": ") ",
     "delete_cmd_prefix": "rm(",
     "library": "var_list.r",
     "varRefreshCmd": "cat(var_dic_list()) "
    }
   },
   "types_to_exclude": [
    "module",
    "function",
    "builtin_function_or_method",
    "instance",
    "_Feature"
   ],
   "window_display": false
  }
 },
 "nbformat": 4,
 "nbformat_minor": 2
}
