{
 "cells": [
  {
   "cell_type": "code",
   "execution_count": 1,
   "metadata": {},
   "outputs": [],
   "source": [
    "import numpy as np\n",
    "import pandas as pd \n",
    "import cx_Oracle"
   ]
  },
  {
   "cell_type": "code",
   "execution_count": 13,
   "metadata": {},
   "outputs": [],
   "source": [
    "query = \"\"\"select \n",
    "scm.scm_n_order_pos_nr, scm.scm_n_order_nr, scm.tdt_t_key_order_date, scm.THR_C_KEY_ORDER_HOUR, scm.SIT_N_KEY_SITE,\n",
    "scm.CUS_N_KEY_CUSTOMER, scm.SCM_SALES_BMF, scm.SCM_SALES_CANCEL_BMF, scm.SCM_D_FINANCE_CM1, scm.SCM_D_FINANCE_CM2,\n",
    "scm.SCM_D_ORIG_FINANCE_ORDER_NET,scm.SCM_AP_ID, scm.SCM_AS_ID, scm.SCM_MASTER_AP_ID, scm.SCM_IS_ZSP_ORDER, \n",
    "scm.SCM_C_ORDER_STATUS, scm.CTP_N_KEY_CUSTOMER_TYPE, scm.SCM_OCI_LAND, scm.SCM_D_FC_ID, scm.SCM_D_PC_DSP, scm.SCM_FC_SPLIT,\n",
    "osp.OSP_KO_COUNT, osp.OSP_KO_COUNT_NET, osp.OSP_3_LEAD_P_PG_ID, osp.OSP_3_LEAD_P_PG_SHARE, osp.OSP_4_LEAD_P_PG_ID, \n",
    "osp.OSP_4_LEAD_P_PG_SHARE,\n",
    "czp.CZP_START_DATE, czp.CZP_EXPIRY_DATE, czp.CZP_ZTQ_ID, czp.CZP_PERCENTAGE, czp.CZP_PRICE,\n",
    "ofp.ORF_EXT_O_ID, ofp.ORF_EXT_K_ID, ofp.ORF_EXT_ROOT_K_ID, op.OP_AS_ID, op.OP_BONUSPOINTS, bp.BP_TYP\n",
    "from zoocube.ddstf_scm_sales_contrib_margin scm\n",
    "join ZOOMAN.ORDER_SALES_PROFILE osp\n",
    "on osp.OSP_O_ID = scm.SCM_N_ORDER_NR\n",
    "left outer join ZOOMAN.ORDER_POSITIONS op\n",
    "on scm.SCM_N_ORDER_POS_NR = op.OP_ID\n",
    "left outer join ZOOMAN.CUSTOMERS_ZOOPRIME_PLANS czp\n",
    "on scm.CUS_N_KEY_CUSTOMER = czp.CZP_K_ID \n",
    "left outer join zoo_datamarts.vw_tnc_order_footprint@prodstb2 ofp\n",
    "on scm.scm_n_order_nr = ofp.ORF_EXT_O_ID\n",
    "left outer join ZOOMAN.BONUSPUNKTE bp\n",
    "on scm.SCM_N_ORDER_NR = bp.BP_O_ID\n",
    "and bp.BP_TYP = 'B'\n",
    "where ((TDT_T_KEY_ORDER_DATE >= to_date('01/01/18', 'DD/MM/YY') and TDT_T_KEY_ORDER_DATE <= to_date('31/03/18', 'DD/MM/YY')))\n",
    "and SIT_N_KEY_SITE =  1\n",
    "and (scm.SCM_C_ORDER_STATUS = 'L' OR scm.SCM_C_ORDER_STATUS = 'VK')\n",
    "and czp.CZP_EXPIRY_DATE >= to_date((to_char(TDT_T_KEY_ORDER_DATE, 'dd/mm/yyyy') ||' '|| THR_C_KEY_ORDER_HOUR), 'dd/mm/yyyy HH24:MI')\n",
    "and czp.CZP_START_DATE <= to_date((to_char(TDT_T_KEY_ORDER_DATE, 'dd/mm/yyyy') ||' '|| THR_C_KEY_ORDER_HOUR), 'dd/mm/yyyy HH24:MI')\n",
    "\"\"\" "
   ]
  },
  {
   "cell_type": "code",
   "execution_count": 14,
   "metadata": {},
   "outputs": [],
   "source": [
    "datos = pd.DataFrame(columns=['SCM_N_ORDER_POS_NR',                  \n",
    "'SCM_N_ORDER_NR', \n",
    "'TDT_T_KEY_ORDER_DATE',\n",
    "'THR_C_KEY_ORDER_HOUR',            \n",
    "'SIT_N_KEY_SITE',                  \n",
    "'CUS_N_KEY_CUSTOMER',              \n",
    "'SCM_SALES_BMF',                   \n",
    "'SCM_SALES_CANCEL_BMF',            \n",
    "'SCM_D_FINANCE_CM1',               \n",
    "'SCM_D_FINANCE_CM2',               \n",
    "'SCM_D_ORIG_FINANCE_ORDER_NET',    \n",
    "'SCM_AP_ID',                       \n",
    "'SCM_AS_ID',                       \n",
    "'SCM_MASTER_AP_ID',                \n",
    "'SCM_IS_ZSP_ORDER',                \n",
    "'SCM_C_ORDER_STATUS',              \n",
    "'CTP_N_KEY_CUSTOMER_TYPE',         \n",
    "'SCM_OCI_LAND',                    \n",
    "'SCM_D_FC_ID',\n",
    "'SCM_D_PC_DSP',\n",
    "'SCM_FC_SPLIT',                    \n",
    "'OSP_KO_COUNT',                    \n",
    "'OSP_KO_COUNT_NET',                \n",
    "'OSP_3_LEAD_P_PG_ID',              \n",
    "'OSP_3_LEAD_P_PG_SHARE',           \n",
    "'OSP_4_LEAD_P_PG_ID',              \n",
    "'OSP_4_LEAD_P_PG_SHARE',           \n",
    "'CZP_START_DATE',                  \n",
    "'CZP_EXPIRY_DATE',                 \n",
    "'CZP_ZTQ_ID',                      \n",
    "'CZP_PERCENTAGE',\n",
    "'CZP_PRICE',                       \n",
    "'ORF_EXT_O_ID',                    \n",
    "'ORF_EXT_K_ID',                    \n",
    "'ORF_EXT_ROOT_K_ID',               \n",
    "'OP_AS_ID',                         \n",
    "'OP_BONUSPOINTS',                   \n",
    "'BP_TYP'] )\n",
    "\n",
    "datos.to_csv('de_sp_orders_q1_full_last_version.csv', sep=';', header=True, index=False, encoding='utf-8')"
   ]
  },
  {
   "cell_type": "code",
   "execution_count": 15,
   "metadata": {},
   "outputs": [],
   "source": [
    "conn = cx_Oracle.connect('zooor', 'zoo12or', 'zoorep', threaded=True, encoding = \"UTF-8\", nencoding = \"UTF-8\")\n",
    "curs = conn.cursor()"
   ]
  },
  {
   "cell_type": "code",
   "execution_count": 16,
   "metadata": {},
   "outputs": [],
   "source": [
    "for chunk in pd.read_sql(query, con = conn, chunksize= 100000):\n",
    "    chunk.to_csv('de_sp_orders_q1_full_last_version.csv', sep=';', header=False, index_label=False, mode='a', encoding='utf-8')"
   ]
  },
  {
   "cell_type": "code",
   "execution_count": 17,
   "metadata": {},
   "outputs": [],
   "source": [
    "conn.close()"
   ]
  },
  {
   "cell_type": "code",
   "execution_count": null,
   "metadata": {},
   "outputs": [],
   "source": [
    "['SCM_N_ORDER_POS_NR',                  \n",
    "'SCM_N_ORDER_NR', \n",
    "'TDT_T_KEY_ORDER_DATE',\n",
    "'THR_C_KEY_ORDER_HOUR',            \n",
    "'SIT_N_KEY_SITE',                  \n",
    "'CUS_N_KEY_CUSTOMER',              \n",
    "'SCM_SALES_BMF',                   \n",
    "'SCM_SALES_CANCEL_BMF',            \n",
    "'SCM_D_FINANCE_CM1',               \n",
    "'SCM_D_FINANCE_CM2',               \n",
    "'SCM_D_ORIG_FINANCE_ORDER_NET',    \n",
    "'SCM_AP_ID',                       \n",
    "'SCM_AS_ID',                       \n",
    "'SCM_MASTER_AP_ID',                \n",
    "'SCM_IS_ZSP_ORDER',                \n",
    "'SCM_C_ORDER_STATUS',              \n",
    "'CTP_N_KEY_CUSTOMER_TYPE',         \n",
    "'SCM_OCI_LAND',                    \n",
    "'SCM_D_FC_ID',\n",
    "'SCM_D_PC_DSP',\n",
    "'SCM_FC_SPLIT',                    \n",
    "'OSP_KO_COUNT',                    \n",
    "'OSP_KO_COUNT_NET',                \n",
    "'OSP_3_LEAD_P_PG_ID',              \n",
    "'OSP_3_LEAD_P_PG_SHARE',           \n",
    "'OSP_4_LEAD_P_PG_ID',              \n",
    "'OSP_4_LEAD_P_PG_SHARE',           \n",
    "'CZP_START_DATE',                  \n",
    "'CZP_EXPIRY_DATE',                 \n",
    "'CZP_ZTQ_ID',                      \n",
    "'CZP_PERCENTAGE',\n",
    "'CZP_PRICE',                       \n",
    "'ORF_EXT_O_ID',                    \n",
    "'ORF_EXT_K_ID',                    \n",
    "'ORF_EXT_ROOT_K_ID',               \n",
    "'OP_AS_ID',                         \n",
    "'OP_BONUSPOINTS',                   \n",
    "'BP_TYP']                      "
   ]
  }
 ],
 "metadata": {
  "hide_input": false,
  "kernelspec": {
   "display_name": "Python [default]",
   "language": "python",
   "name": "python3"
  },
  "language_info": {
   "codemirror_mode": {
    "name": "ipython",
    "version": 3
   },
   "file_extension": ".py",
   "mimetype": "text/x-python",
   "name": "python",
   "nbconvert_exporter": "python",
   "pygments_lexer": "ipython3",
   "version": "3.6.4"
  },
  "toc": {
   "base_numbering": 1,
   "nav_menu": {},
   "number_sections": true,
   "sideBar": true,
   "skip_h1_title": false,
   "title_cell": "Table of Contents",
   "title_sidebar": "Contents",
   "toc_cell": false,
   "toc_position": {},
   "toc_section_display": true,
   "toc_window_display": false
  },
  "varInspector": {
   "cols": {
    "lenName": 16,
    "lenType": 16,
    "lenVar": 40
   },
   "kernels_config": {
    "python": {
     "delete_cmd_postfix": "",
     "delete_cmd_prefix": "del ",
     "library": "var_list.py",
     "varRefreshCmd": "print(var_dic_list())"
    },
    "r": {
     "delete_cmd_postfix": ") ",
     "delete_cmd_prefix": "rm(",
     "library": "var_list.r",
     "varRefreshCmd": "cat(var_dic_list()) "
    }
   },
   "types_to_exclude": [
    "module",
    "function",
    "builtin_function_or_method",
    "instance",
    "_Feature"
   ],
   "window_display": false
  }
 },
 "nbformat": 4,
 "nbformat_minor": 2
}
