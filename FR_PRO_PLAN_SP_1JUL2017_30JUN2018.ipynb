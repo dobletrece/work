{
 "cells": [
  {
   "cell_type": "code",
   "execution_count": 1,
   "metadata": {
    "ExecuteTime": {
     "end_time": "2018-09-26T13:13:13.564233Z",
     "start_time": "2018-09-26T13:13:12.120233Z"
    }
   },
   "outputs": [],
   "source": [
    "import numpy as np\n",
    "import pandas as pd\n",
    "import matplotlib.pyplot as plt\n",
    "%matplotlib inline\n",
    "from IPython.display import display\n",
    "from scipy import stats\n",
    "import datetime\n",
    "from datetime import timedelta\n",
    "from collections import Counter\n",
    "import cx_Oracle\n",
    "import seaborn as sns\n",
    "#from warnings import filterwarnings\n",
    "#filterwarnings('ignore')"
   ]
  },
  {
   "cell_type": "raw",
   "metadata": {},
   "source": [
    "select \n",
    "scm.scm_n_order_pos_nr, scm.scm_n_order_nr, scm.tdt_t_key_order_date, scm.THR_C_KEY_ORDER_HOUR, scm.SIT_N_KEY_SITE,\n",
    "scm.CUS_N_KEY_CUSTOMER, scm.SCM_SALES_BMF, scm.SCM_SALES_CANCEL_BMF, scm.SCM_D_FINANCE_CM1, scm.SCM_D_FINANCE_CM2,\n",
    "scm.SCM_D_ORIG_FINANCE_ORDER_NET,scm.SCM_AP_ID, scm.SCM_AS_ID, scm.SCM_MASTER_AP_ID, scm.SCM_IS_ZSP_ORDER, \n",
    "scm.SCM_C_ORDER_STATUS, scm.CTP_N_KEY_CUSTOMER_TYPE, scm.SCM_OCI_LAND, \n",
    "osp.OSP_KO_COUNT_NET, osp.OSP_3_LEAD_P_PG_ID, osp.OSP_3_LEAD_P_PG_SHARE, osp.OSP_4_LEAD_P_PG_ID, osp.OSP_4_LEAD_P_PG_SHARE,\n",
    "czp.CZP_START_DATE, czp.CZP_EXPIRY_DATE, czp.CZP_ZTQ_ID, czp.CZP_PERCENTAGE, czp.CZP_PRICE, \n",
    "pp.PP_ID, pg.PG_ID, pg.PG_PARENT_PG_ID as PG4_PARENT_ID, \n",
    "pgl.PG_PARENT_PG_ID as PG3_PARENT_ID, pp.PP_NAME, pa.AP_SHORT_TEXT\n",
    "from zoocube.ddstf_scm_sales_contrib_margin scm\n",
    "join ZOOMAN.ORDER_SALES_PROFILE osp\n",
    "on osp.OSP_O_ID = scm.SCM_N_ORDER_NR\n",
    "left outer join ZOOMAN.CUSTOMERS_ZOOPRIME_PLANS czp\n",
    "on scm.CUS_N_KEY_CUSTOMER = czp.CZP_K_ID \n",
    "and czp.CZP_EXPIRY_DATE > to_date((to_char(TDT_T_KEY_ORDER_DATE, 'dd/mm/yyyy') ||' '|| THR_C_KEY_ORDER_HOUR), 'dd/mm/yyyy HH24:MI')\n",
    "and czp.CZP_START_DATE <= to_date((to_char(TDT_T_KEY_ORDER_DATE, 'dd/mm/yyyy') ||' '|| THR_C_KEY_ORDER_HOUR), 'dd/mm/yyyy HH24:MI') + interval '2' minute\n",
    "left outer join ZOOMAN.ARTICLES_PHYSICAL pa \n",
    "on  pa.AP_ID = scm.SCM_AP_ID\n",
    "left outer join ZOOMAN.PRODUCTS_PHYSICAL pp\n",
    "on pa.ap_pp_id = pp.pp_id\n",
    "left outer join ZOOMAN.PRODUCT_GROUPS pg\n",
    "on pg.pg_id = pp.pp_pg_id\n",
    "left outer join (select distinct pg_id, PG_PARENT_PG_ID\n",
    "                from ZOOMAN.VW_PRODUCT_GROUPS_LINK) pgl\n",
    "on pgl.pg_id = pg.PG_PARENT_PG_ID\n",
    "where ((TDT_T_KEY_ORDER_DATE >= to_date('01/07/17', 'DD/MM/YY') and (TDT_T_KEY_ORDER_DATE <= to_date('30/06/18', 'DD/MM/YY'))))\n",
    "and SIT_N_KEY_SITE = 4\n",
    "and (scm.SCM_C_ORDER_STATUS = 'L' OR scm.SCM_C_ORDER_STATUS = 'VK')\n",
    "and czp.CZP_ZTQ_ID IN (153, 154, 155, 156)\n",
    ";"
   ]
  },
  {
   "cell_type": "markdown",
   "metadata": {},
   "source": [
    "Analysis per Tier:\n",
    "\n",
    "-\tNumber of active SP\n",
    "-\tNumber of average orders per year\n",
    "-\tAverage Basket Value\n",
    "-\tFrequency\n",
    "-\tAverage Sales\n",
    "-\tCM1 \n",
    "-\tCM2\n",
    "-\tShare of Proplan Sales per Tier\n",
    "-\tShare of Orders with Proplan per Tier\n",
    "-\tRepurchasing rate within specific time period per Tier"
   ]
  },
  {
   "cell_type": "markdown",
   "metadata": {},
   "source": [
    "#### Data loading and processing"
   ]
  },
  {
   "cell_type": "code",
   "execution_count": 2,
   "metadata": {
    "ExecuteTime": {
     "end_time": "2018-09-26T13:13:15.839231Z",
     "start_time": "2018-09-26T13:13:13.565233Z"
    }
   },
   "outputs": [],
   "source": [
    "data = pd.read_csv('pro_plan_sp_orders_jul17_jun18.dsv', sep=';', low_memory=False)"
   ]
  },
  {
   "cell_type": "code",
   "execution_count": 3,
   "metadata": {
    "ExecuteTime": {
     "end_time": "2018-09-26T13:13:15.867231Z",
     "start_time": "2018-09-26T13:13:15.840231Z"
    }
   },
   "outputs": [
    {
     "data": {
      "text/html": [
       "<div>\n",
       "<style scoped>\n",
       "    .dataframe tbody tr th:only-of-type {\n",
       "        vertical-align: middle;\n",
       "    }\n",
       "\n",
       "    .dataframe tbody tr th {\n",
       "        vertical-align: top;\n",
       "    }\n",
       "\n",
       "    .dataframe thead th {\n",
       "        text-align: right;\n",
       "    }\n",
       "</style>\n",
       "<table border=\"1\" class=\"dataframe\">\n",
       "  <thead>\n",
       "    <tr style=\"text-align: right;\">\n",
       "      <th></th>\n",
       "      <th>SCM_N_ORDER_POS_NR</th>\n",
       "      <th>SCM_N_ORDER_NR</th>\n",
       "      <th>TDT_T_KEY_ORDER_DATE</th>\n",
       "      <th>THR_C_KEY_ORDER_HOUR</th>\n",
       "      <th>SIT_N_KEY_SITE</th>\n",
       "      <th>CUS_N_KEY_CUSTOMER</th>\n",
       "      <th>SCM_SALES_BMF</th>\n",
       "      <th>SCM_SALES_CANCEL_BMF</th>\n",
       "      <th>SCM_D_FINANCE_CM1</th>\n",
       "      <th>SCM_D_FINANCE_CM2</th>\n",
       "      <th>...</th>\n",
       "      <th>CZP_EXPIRY_DATE</th>\n",
       "      <th>CZP_ZTQ_ID</th>\n",
       "      <th>CZP_PERCENTAGE</th>\n",
       "      <th>CZP_PRICE</th>\n",
       "      <th>PP_ID</th>\n",
       "      <th>PG_ID</th>\n",
       "      <th>PG4_PARENT_ID</th>\n",
       "      <th>PG3_PARENT_ID</th>\n",
       "      <th>PP_NAME</th>\n",
       "      <th>AP_SHORT_TEXT</th>\n",
       "    </tr>\n",
       "  </thead>\n",
       "  <tbody>\n",
       "    <tr>\n",
       "      <th>0</th>\n",
       "      <td>421244801</td>\n",
       "      <td>98765361</td>\n",
       "      <td>20/11/2017 00:00</td>\n",
       "      <td>18:29</td>\n",
       "      <td>4</td>\n",
       "      <td>6560483</td>\n",
       "      <td>3,99</td>\n",
       "      <td>0</td>\n",
       "      <td>2,305</td>\n",
       "      <td>1,783</td>\n",
       "      <td>...</td>\n",
       "      <td>20/11/2020 23:59</td>\n",
       "      <td>156</td>\n",
       "      <td>7</td>\n",
       "      <td>9,99</td>\n",
       "      <td>15517.0</td>\n",
       "      <td>910.0</td>\n",
       "      <td>47.0</td>\n",
       "      <td>4.0</td>\n",
       "      <td>Kleintierwippe</td>\n",
       "      <td>- 32,5 x 7,5 x 14 cm</td>\n",
       "    </tr>\n",
       "    <tr>\n",
       "      <th>1</th>\n",
       "      <td>421244798</td>\n",
       "      <td>98765361</td>\n",
       "      <td>20/11/2017 00:00</td>\n",
       "      <td>18:29</td>\n",
       "      <td>4</td>\n",
       "      <td>6560483</td>\n",
       "      <td>7,99</td>\n",
       "      <td>0</td>\n",
       "      <td>4,4283</td>\n",
       "      <td>3,8153</td>\n",
       "      <td>...</td>\n",
       "      <td>20/11/2020 23:59</td>\n",
       "      <td>156</td>\n",
       "      <td>7</td>\n",
       "      <td>9,99</td>\n",
       "      <td>46860.0</td>\n",
       "      <td>1599.0</td>\n",
       "      <td>47.0</td>\n",
       "      <td>4.0</td>\n",
       "      <td>Transportbox, 30 x 23 x 21 cm</td>\n",
       "      <td>- grey</td>\n",
       "    </tr>\n",
       "    <tr>\n",
       "      <th>2</th>\n",
       "      <td>421244806</td>\n",
       "      <td>98765361</td>\n",
       "      <td>20/11/2017 00:00</td>\n",
       "      <td>18:29</td>\n",
       "      <td>4</td>\n",
       "      <td>6560483</td>\n",
       "      <td>2,99</td>\n",
       "      <td>0</td>\n",
       "      <td>1,7117</td>\n",
       "      <td>1,6601</td>\n",
       "      <td>...</td>\n",
       "      <td>20/11/2020 23:59</td>\n",
       "      <td>156</td>\n",
       "      <td>7</td>\n",
       "      <td>9,99</td>\n",
       "      <td>10097.0</td>\n",
       "      <td>910.0</td>\n",
       "      <td>47.0</td>\n",
       "      <td>4.0</td>\n",
       "      <td>Snacky</td>\n",
       "      <td>- Durchmesser 7 cm</td>\n",
       "    </tr>\n",
       "    <tr>\n",
       "      <th>3</th>\n",
       "      <td>421244808</td>\n",
       "      <td>98765361</td>\n",
       "      <td>20/11/2017 00:00</td>\n",
       "      <td>18:29</td>\n",
       "      <td>4</td>\n",
       "      <td>6560483</td>\n",
       "      <td>0,8712</td>\n",
       "      <td>0</td>\n",
       "      <td>0,4</td>\n",
       "      <td>0,3538</td>\n",
       "      <td>...</td>\n",
       "      <td>20/11/2020 23:59</td>\n",
       "      <td>156</td>\n",
       "      <td>7</td>\n",
       "      <td>9,99</td>\n",
       "      <td>14909.0</td>\n",
       "      <td>910.0</td>\n",
       "      <td>47.0</td>\n",
       "      <td>4.0</td>\n",
       "      <td>Baumwollspielseil mit Holzklötzchen</td>\n",
       "      <td>- ca. L  20 cm</td>\n",
       "    </tr>\n",
       "    <tr>\n",
       "      <th>4</th>\n",
       "      <td>421244808</td>\n",
       "      <td>98765361</td>\n",
       "      <td>20/11/2017 00:00</td>\n",
       "      <td>18:29</td>\n",
       "      <td>4</td>\n",
       "      <td>6560483</td>\n",
       "      <td>0,9733</td>\n",
       "      <td>0</td>\n",
       "      <td>0,4468</td>\n",
       "      <td>0,3953</td>\n",
       "      <td>...</td>\n",
       "      <td>20/11/2020 23:59</td>\n",
       "      <td>156</td>\n",
       "      <td>7</td>\n",
       "      <td>9,99</td>\n",
       "      <td>28046.0</td>\n",
       "      <td>910.0</td>\n",
       "      <td>47.0</td>\n",
       "      <td>4.0</td>\n",
       "      <td>Holzball mit Glöckchen</td>\n",
       "      <td>- 6 cm</td>\n",
       "    </tr>\n",
       "  </tbody>\n",
       "</table>\n",
       "<p>5 rows × 34 columns</p>\n",
       "</div>"
      ],
      "text/plain": [
       "   SCM_N_ORDER_POS_NR  SCM_N_ORDER_NR TDT_T_KEY_ORDER_DATE  \\\n",
       "0           421244801        98765361     20/11/2017 00:00   \n",
       "1           421244798        98765361     20/11/2017 00:00   \n",
       "2           421244806        98765361     20/11/2017 00:00   \n",
       "3           421244808        98765361     20/11/2017 00:00   \n",
       "4           421244808        98765361     20/11/2017 00:00   \n",
       "\n",
       "  THR_C_KEY_ORDER_HOUR  SIT_N_KEY_SITE  CUS_N_KEY_CUSTOMER SCM_SALES_BMF  \\\n",
       "0                18:29               4             6560483          3,99   \n",
       "1                18:29               4             6560483          7,99   \n",
       "2                18:29               4             6560483          2,99   \n",
       "3                18:29               4             6560483        0,8712   \n",
       "4                18:29               4             6560483        0,9733   \n",
       "\n",
       "  SCM_SALES_CANCEL_BMF SCM_D_FINANCE_CM1 SCM_D_FINANCE_CM2  \\\n",
       "0                    0             2,305             1,783   \n",
       "1                    0            4,4283            3,8153   \n",
       "2                    0            1,7117            1,6601   \n",
       "3                    0               0,4            0,3538   \n",
       "4                    0            0,4468            0,3953   \n",
       "\n",
       "           ...            CZP_EXPIRY_DATE  CZP_ZTQ_ID  CZP_PERCENTAGE  \\\n",
       "0          ...           20/11/2020 23:59         156               7   \n",
       "1          ...           20/11/2020 23:59         156               7   \n",
       "2          ...           20/11/2020 23:59         156               7   \n",
       "3          ...           20/11/2020 23:59         156               7   \n",
       "4          ...           20/11/2020 23:59         156               7   \n",
       "\n",
       "   CZP_PRICE    PP_ID   PG_ID  PG4_PARENT_ID PG3_PARENT_ID  \\\n",
       "0       9,99  15517.0   910.0           47.0           4.0   \n",
       "1       9,99  46860.0  1599.0           47.0           4.0   \n",
       "2       9,99  10097.0   910.0           47.0           4.0   \n",
       "3       9,99  14909.0   910.0           47.0           4.0   \n",
       "4       9,99  28046.0   910.0           47.0           4.0   \n",
       "\n",
       "                               PP_NAME         AP_SHORT_TEXT  \n",
       "0                       Kleintierwippe  - 32,5 x 7,5 x 14 cm  \n",
       "1        Transportbox, 30 x 23 x 21 cm                - grey  \n",
       "2                               Snacky    - Durchmesser 7 cm  \n",
       "3  Baumwollspielseil mit Holzklötzchen        - ca. L  20 cm  \n",
       "4               Holzball mit Glöckchen                - 6 cm  \n",
       "\n",
       "[5 rows x 34 columns]"
      ]
     },
     "execution_count": 3,
     "metadata": {},
     "output_type": "execute_result"
    }
   ],
   "source": [
    "data.head()"
   ]
  },
  {
   "cell_type": "code",
   "execution_count": 4,
   "metadata": {
    "ExecuteTime": {
     "end_time": "2018-09-26T13:13:15.891231Z",
     "start_time": "2018-09-26T13:13:15.868231Z"
    }
   },
   "outputs": [],
   "source": [
    "def get_date(x):\n",
    "    return x.split(' ')[0]"
   ]
  },
  {
   "cell_type": "code",
   "execution_count": 5,
   "metadata": {
    "ExecuteTime": {
     "end_time": "2018-09-26T13:13:16.063231Z",
     "start_time": "2018-09-26T13:13:15.893231Z"
    }
   },
   "outputs": [],
   "source": [
    "data['TDT_T_KEY_ORDER_DATE'] = data['TDT_T_KEY_ORDER_DATE'].map(get_date)"
   ]
  },
  {
   "cell_type": "code",
   "execution_count": 6,
   "metadata": {
    "ExecuteTime": {
     "end_time": "2018-09-26T13:13:16.462231Z",
     "start_time": "2018-09-26T13:13:16.065231Z"
    }
   },
   "outputs": [
    {
     "name": "stdout",
     "output_type": "stream",
     "text": [
      "<class 'pandas.core.frame.DataFrame'>\n",
      "RangeIndex: 345573 entries, 0 to 345572\n",
      "Data columns (total 34 columns):\n",
      "SCM_N_ORDER_POS_NR              345573 non-null int64\n",
      "SCM_N_ORDER_NR                  345573 non-null int64\n",
      "TDT_T_KEY_ORDER_DATE            345573 non-null object\n",
      "THR_C_KEY_ORDER_HOUR            345573 non-null object\n",
      "SIT_N_KEY_SITE                  345573 non-null int64\n",
      "CUS_N_KEY_CUSTOMER              345573 non-null int64\n",
      "SCM_SALES_BMF                   345573 non-null object\n",
      "SCM_SALES_CANCEL_BMF            345573 non-null object\n",
      "SCM_D_FINANCE_CM1               345573 non-null object\n",
      "SCM_D_FINANCE_CM2               345573 non-null object\n",
      "SCM_D_ORIG_FINANCE_ORDER_NET    345573 non-null object\n",
      "SCM_AP_ID                       345573 non-null int64\n",
      "SCM_AS_ID                       345573 non-null int64\n",
      "SCM_MASTER_AP_ID                345573 non-null int64\n",
      "SCM_IS_ZSP_ORDER                345573 non-null int64\n",
      "SCM_C_ORDER_STATUS              345573 non-null object\n",
      "CTP_N_KEY_CUSTOMER_TYPE         345573 non-null int64\n",
      "SCM_OCI_LAND                    345573 non-null object\n",
      "OSP_KO_COUNT_NET                345573 non-null int64\n",
      "OSP_3_LEAD_P_PG_ID              345573 non-null int64\n",
      "OSP_3_LEAD_P_PG_SHARE           345573 non-null object\n",
      "OSP_4_LEAD_P_PG_ID              345573 non-null int64\n",
      "OSP_4_LEAD_P_PG_SHARE           345566 non-null object\n",
      "CZP_START_DATE                  345573 non-null object\n",
      "CZP_EXPIRY_DATE                 345573 non-null object\n",
      "CZP_ZTQ_ID                      345573 non-null int64\n",
      "CZP_PERCENTAGE                  345573 non-null int64\n",
      "CZP_PRICE                       345573 non-null object\n",
      "PP_ID                           263417 non-null float64\n",
      "PG_ID                           263417 non-null float64\n",
      "PG4_PARENT_ID                   263417 non-null float64\n",
      "PG3_PARENT_ID                   263417 non-null float64\n",
      "PP_NAME                         263417 non-null object\n",
      "AP_SHORT_TEXT                   263417 non-null object\n",
      "dtypes: float64(4), int64(14), object(16)\n",
      "memory usage: 89.6+ MB\n"
     ]
    }
   ],
   "source": [
    "data.info(verbose=True)"
   ]
  },
  {
   "cell_type": "code",
   "execution_count": 7,
   "metadata": {
    "ExecuteTime": {
     "end_time": "2018-09-26T13:13:16.481231Z",
     "start_time": "2018-09-26T13:13:16.463231Z"
    }
   },
   "outputs": [
    {
     "data": {
      "text/plain": [
       "77416      Ultima Cat Sterilized Chicken\n",
       "222601          Applaws Nature´s Calling\n",
       "286350                               NaN\n",
       "134083         MP Whiskas Can 12 x 400 g\n",
       "159954         Royal Canin Exigent 35/30\n",
       "193883           8 in 1 Fillets pro 80 g\n",
       "340422                               NaN\n",
       "118600                    Kattovit 175 g\n",
       "229321         Valencia Trixie Kratzbaum\n",
       "243991    MP Almo Nature Legend 6 x 70 g\n",
       "Name: PP_NAME, dtype: object"
      ]
     },
     "execution_count": 7,
     "metadata": {},
     "output_type": "execute_result"
    }
   ],
   "source": [
    "data['PP_NAME'].sample(10)"
   ]
  },
  {
   "cell_type": "code",
   "execution_count": 8,
   "metadata": {
    "ExecuteTime": {
     "end_time": "2018-09-26T13:13:42.287005Z",
     "start_time": "2018-09-26T13:13:16.482231Z"
    }
   },
   "outputs": [
    {
     "name": "stdout",
     "output_type": "stream",
     "text": [
      "Duplicated rows detected:  892\n",
      "Start dropping..\n",
      "Number of order IDs having more than one SP_START_DATE now:  0\n"
     ]
    }
   ],
   "source": [
    "%run -i cleaning_n_formatting.py"
   ]
  },
  {
   "cell_type": "code",
   "execution_count": 9,
   "metadata": {
    "ExecuteTime": {
     "end_time": "2018-09-26T13:13:42.288005Z",
     "start_time": "2018-09-26T13:13:42.287005Z"
    }
   },
   "outputs": [
    {
     "data": {
      "text/plain": [
       "array([156, 155, 154, 153], dtype=int64)"
      ]
     },
     "execution_count": 9,
     "metadata": {},
     "output_type": "execute_result"
    }
   ],
   "source": [
    "data['CZP_ZTQ_ID'].unique()"
   ]
  },
  {
   "cell_type": "code",
   "execution_count": 10,
   "metadata": {
    "ExecuteTime": {
     "end_time": "2018-09-26T13:13:42.304005Z",
     "start_time": "2018-09-26T13:13:42.289005Z"
    }
   },
   "outputs": [],
   "source": [
    "#Not equal to 0 means the value being cancelled\n",
    "data['POS_VALID'] = (data['SCM_SALES_CANCEL_BMF'] == 0) * 1 "
   ]
  },
  {
   "cell_type": "code",
   "execution_count": 11,
   "metadata": {
    "ExecuteTime": {
     "end_time": "2018-09-26T13:13:42.360005Z",
     "start_time": "2018-09-26T13:13:42.306005Z"
    }
   },
   "outputs": [
    {
     "data": {
      "text/html": [
       "<div>\n",
       "<style scoped>\n",
       "    .dataframe tbody tr th:only-of-type {\n",
       "        vertical-align: middle;\n",
       "    }\n",
       "\n",
       "    .dataframe tbody tr th {\n",
       "        vertical-align: top;\n",
       "    }\n",
       "\n",
       "    .dataframe thead th {\n",
       "        text-align: right;\n",
       "    }\n",
       "</style>\n",
       "<table border=\"1\" class=\"dataframe\">\n",
       "  <thead>\n",
       "    <tr style=\"text-align: right;\">\n",
       "      <th></th>\n",
       "      <th>SCM_SALES_BMF</th>\n",
       "      <th>SCM_SALES_CANCEL_BMF</th>\n",
       "      <th>SCM_D_ORIG_FINANCE_ORDER_NET</th>\n",
       "    </tr>\n",
       "  </thead>\n",
       "  <tbody>\n",
       "    <tr>\n",
       "      <th>227548</th>\n",
       "      <td>26.6900</td>\n",
       "      <td>22.2400</td>\n",
       "      <td>22.2417</td>\n",
       "    </tr>\n",
       "    <tr>\n",
       "      <th>186060</th>\n",
       "      <td>5.8900</td>\n",
       "      <td>4.9100</td>\n",
       "      <td>4.9083</td>\n",
       "    </tr>\n",
       "    <tr>\n",
       "      <th>227314</th>\n",
       "      <td>13.9900</td>\n",
       "      <td>11.6600</td>\n",
       "      <td>11.6583</td>\n",
       "    </tr>\n",
       "    <tr>\n",
       "      <th>269953</th>\n",
       "      <td>89.9900</td>\n",
       "      <td>74.9900</td>\n",
       "      <td>74.9917</td>\n",
       "    </tr>\n",
       "    <tr>\n",
       "      <th>218338</th>\n",
       "      <td>8.9800</td>\n",
       "      <td>7.4800</td>\n",
       "      <td>7.4833</td>\n",
       "    </tr>\n",
       "    <tr>\n",
       "      <th>302288</th>\n",
       "      <td>99.9800</td>\n",
       "      <td>83.3200</td>\n",
       "      <td>83.3167</td>\n",
       "    </tr>\n",
       "    <tr>\n",
       "      <th>54135</th>\n",
       "      <td>48.8065</td>\n",
       "      <td>0.8689</td>\n",
       "      <td>40.6721</td>\n",
       "    </tr>\n",
       "    <tr>\n",
       "      <th>259909</th>\n",
       "      <td>24.9900</td>\n",
       "      <td>20.8300</td>\n",
       "      <td>20.8250</td>\n",
       "    </tr>\n",
       "    <tr>\n",
       "      <th>155484</th>\n",
       "      <td>11.9900</td>\n",
       "      <td>9.9900</td>\n",
       "      <td>9.9917</td>\n",
       "    </tr>\n",
       "    <tr>\n",
       "      <th>69060</th>\n",
       "      <td>42.9900</td>\n",
       "      <td>35.8300</td>\n",
       "      <td>35.8250</td>\n",
       "    </tr>\n",
       "  </tbody>\n",
       "</table>\n",
       "</div>"
      ],
      "text/plain": [
       "        SCM_SALES_BMF  SCM_SALES_CANCEL_BMF  SCM_D_ORIG_FINANCE_ORDER_NET\n",
       "227548        26.6900               22.2400                       22.2417\n",
       "186060         5.8900                4.9100                        4.9083\n",
       "227314        13.9900               11.6600                       11.6583\n",
       "269953        89.9900               74.9900                       74.9917\n",
       "218338         8.9800                7.4800                        7.4833\n",
       "302288        99.9800               83.3200                       83.3167\n",
       "54135         48.8065                0.8689                       40.6721\n",
       "259909        24.9900               20.8300                       20.8250\n",
       "155484        11.9900                9.9900                        9.9917\n",
       "69060         42.9900               35.8300                       35.8250"
      ]
     },
     "execution_count": 11,
     "metadata": {},
     "output_type": "execute_result"
    }
   ],
   "source": [
    "data[data['POS_VALID'] == 0][['SCM_SALES_BMF', 'SCM_SALES_CANCEL_BMF', 'SCM_D_ORIG_FINANCE_ORDER_NET']].sample(10)"
   ]
  },
  {
   "cell_type": "code",
   "execution_count": 12,
   "metadata": {
    "ExecuteTime": {
     "end_time": "2018-09-26T13:13:42.368005Z",
     "start_time": "2018-09-26T13:13:42.362005Z"
    }
   },
   "outputs": [],
   "source": [
    "data['TAXES'] = data['SCM_SALES_BMF'] / data['SCM_D_ORIG_FINANCE_ORDER_NET']"
   ]
  },
  {
   "cell_type": "code",
   "execution_count": 13,
   "metadata": {
    "ExecuteTime": {
     "end_time": "2018-09-26T13:13:42.421005Z",
     "start_time": "2018-09-26T13:13:42.370005Z"
    }
   },
   "outputs": [],
   "source": [
    "data['BASKET_VALUE'] = (data['SCM_SALES_BMF'] * data['POS_VALID']).groupby(data['SCM_N_ORDER_NR']).transform('sum')"
   ]
  },
  {
   "cell_type": "code",
   "execution_count": 14,
   "metadata": {
    "ExecuteTime": {
     "end_time": "2018-09-26T13:13:42.430005Z",
     "start_time": "2018-09-26T13:13:42.422005Z"
    }
   },
   "outputs": [],
   "source": [
    "data['O_POS_SHARE'] = (data['SCM_SALES_BMF'] * data['POS_VALID']) / data['BASKET_VALUE']"
   ]
  },
  {
   "cell_type": "code",
   "execution_count": 15,
   "metadata": {
    "ExecuteTime": {
     "end_time": "2018-09-26T13:13:42.703005Z",
     "start_time": "2018-09-26T13:13:42.431005Z"
    }
   },
   "outputs": [],
   "source": [
    "pg4share = [float(str(i).replace(',','.')) for i in data['OSP_4_LEAD_P_PG_SHARE'].values]\n",
    "data['OSP_4_LEAD_P_PG_SHARE'] = pg4share"
   ]
  },
  {
   "cell_type": "markdown",
   "metadata": {},
   "source": [
    "#### Number of active SP - customers having placed at least 1 order in the last year -"
   ]
  },
  {
   "cell_type": "code",
   "execution_count": 16,
   "metadata": {
    "ExecuteTime": {
     "end_time": "2018-09-26T13:13:42.715005Z",
     "start_time": "2018-09-26T13:13:42.704005Z"
    }
   },
   "outputs": [
    {
     "data": {
      "text/plain": [
       "12676"
      ]
     },
     "execution_count": 16,
     "metadata": {},
     "output_type": "execute_result"
    }
   ],
   "source": [
    "data['CUS_N_KEY_CUSTOMER'].nunique()"
   ]
  },
  {
   "cell_type": "code",
   "execution_count": 17,
   "metadata": {
    "ExecuteTime": {
     "end_time": "2018-09-26T13:13:42.824005Z",
     "start_time": "2018-09-26T13:13:42.716005Z"
    }
   },
   "outputs": [
    {
     "data": {
      "text/plain": [
       "CZP_ZTQ_ID\n",
       "153    6427\n",
       "154    2915\n",
       "155    2240\n",
       "156    1227\n",
       "Name: CUS_N_KEY_CUSTOMER, dtype: int64"
      ]
     },
     "execution_count": 17,
     "metadata": {},
     "output_type": "execute_result"
    }
   ],
   "source": [
    "cus_per_tier = data.groupby('CZP_ZTQ_ID')['CUS_N_KEY_CUSTOMER'].nunique()\n",
    "cus_per_tier"
   ]
  },
  {
   "cell_type": "code",
   "execution_count": 18,
   "metadata": {
    "ExecuteTime": {
     "end_time": "2018-09-26T13:13:42.877005Z",
     "start_time": "2018-09-26T13:13:42.825005Z"
    }
   },
   "outputs": [
    {
     "data": {
      "text/plain": [
       "12809"
      ]
     },
     "execution_count": 18,
     "metadata": {},
     "output_type": "execute_result"
    }
   ],
   "source": [
    "# 133 customers transitioning between Tiers\n",
    "data.groupby('CZP_ZTQ_ID')['CUS_N_KEY_CUSTOMER'].nunique().sum()"
   ]
  },
  {
   "cell_type": "code",
   "execution_count": 19,
   "metadata": {
    "ExecuteTime": {
     "end_time": "2018-09-26T13:13:43.975005Z",
     "start_time": "2018-09-26T13:13:42.878005Z"
    }
   },
   "outputs": [],
   "source": [
    "mask = [len(i) > 1 for i in data.groupby('CUS_N_KEY_CUSTOMER')['CZP_ZTQ_ID'].unique().values]"
   ]
  },
  {
   "cell_type": "code",
   "execution_count": 20,
   "metadata": {
    "ExecuteTime": {
     "end_time": "2018-09-26T13:13:45.043005Z",
     "start_time": "2018-09-26T13:13:43.976005Z"
    }
   },
   "outputs": [
    {
     "data": {
      "text/plain": [
       "array([  975599,   990872,  1026292,  1066124,  1201985,  1205338,\n",
       "        1208128,  1540024,  1736200,  1870043,  1974745,  2042755,\n",
       "        2089908,  2113894,  2330109,  2507181,  2579724,  2685707,\n",
       "        2924055,  3188620,  3283011,  3443562,  3617337,  3673131,\n",
       "        3686905,  3755726,  3790672,  3840559,  3862989,  3937892,\n",
       "        3942283,  3960456,  4443605,  4624070,  4690782,  4734094,\n",
       "        4808253,  4830971,  5242737,  6029205,  6131244,  6522903,\n",
       "        6674241,  6848754,  6954271,  7057661,  7066535,  7077668,\n",
       "        7111069,  7113656,  7161645,  7207888,  7305641,  7416779,\n",
       "        7499152,  7532059,  7660398,  7789386,  7833287,  8037084,\n",
       "        8070743,  8249884,  8288458,  8463126,  8463870,  8493645,\n",
       "        8572173,  8573473,  8679451,  9207848,  9350776,  9453614,\n",
       "        9562816,  9629673,  9633771,  9635801, 10108995, 10121977,\n",
       "       10160890, 10329071, 10333665, 10453712, 10525883, 10584341,\n",
       "       10715300, 10748317, 11095986, 11172582, 11176443, 11257072,\n",
       "       11623461, 11674077, 11930840, 12012038, 12111213, 12117624,\n",
       "       12261000, 12553519, 12748012, 12887663, 13011645, 13020027,\n",
       "       13086174, 13097459, 13191313, 13192561, 13210402, 13410899,\n",
       "       13578605, 13662473, 13669356, 13691130, 13698050, 13699680,\n",
       "       13839012, 13953452, 14110125, 14232107, 14401785, 14415782,\n",
       "       14480995, 14533307, 14644682, 14666330, 14802209, 15696986,\n",
       "       15874995, 16163689, 16274183, 16277257, 16447293, 16500201,\n",
       "       16775966], dtype=int64)"
      ]
     },
     "execution_count": 20,
     "metadata": {},
     "output_type": "execute_result"
    }
   ],
   "source": [
    "#Customer IDs belonging to 2 different tiers along time in our data\n",
    "data.groupby('CUS_N_KEY_CUSTOMER')['CZP_ZTQ_ID'].unique()[mask].index.values"
   ]
  },
  {
   "cell_type": "code",
   "execution_count": 21,
   "metadata": {
    "ExecuteTime": {
     "end_time": "2018-09-26T13:13:46.323003Z",
     "start_time": "2018-09-26T13:13:45.044005Z"
    }
   },
   "outputs": [],
   "source": [
    "# Get for those customers the old tier\n",
    "old_tiers_list = []\n",
    "\n",
    "for i in data.groupby('CUS_N_KEY_CUSTOMER')['CZP_ZTQ_ID'].unique()[mask].index.values:\n",
    "    c_data = data[data['CUS_N_KEY_CUSTOMER'] == i]\n",
    "    min_date = c_data['TDT_T_KEY_ORDER_DATE'].min()\n",
    "    c_tier_min_date = c_data[c_data['TDT_T_KEY_ORDER_DATE'] == min_date]['CZP_ZTQ_ID'].unique()[0]\n",
    "    old_tiers_list.append(c_tier_min_date)"
   ]
  },
  {
   "cell_type": "code",
   "execution_count": 22,
   "metadata": {
    "ExecuteTime": {
     "end_time": "2018-09-26T13:13:46.344002Z",
     "start_time": "2018-09-26T13:13:46.343002Z"
    }
   },
   "outputs": [
    {
     "data": {
      "text/plain": [
       "[(153, 85), (154, 9), (155, 35), (156, 4)]"
      ]
     },
     "execution_count": 22,
     "metadata": {},
     "output_type": "execute_result"
    }
   ],
   "source": [
    "# Group them by value and sort them\n",
    "c = Counter(old_tiers_list)\n",
    "cs = sorted(c.most_common(), key=lambda x: x[0])\n",
    "cs"
   ]
  },
  {
   "cell_type": "code",
   "execution_count": 23,
   "metadata": {
    "ExecuteTime": {
     "end_time": "2018-09-26T13:13:46.345002Z",
     "start_time": "2018-09-26T13:13:46.344002Z"
    }
   },
   "outputs": [
    {
     "data": {
      "text/plain": [
       "[85, 9, 35, 4]"
      ]
     },
     "execution_count": 23,
     "metadata": {},
     "output_type": "execute_result"
    }
   ],
   "source": [
    "# Get the amount of each type -second value of each tuple- and substract them from the previous \n",
    "# calculation in line 16 including the same customer in 2 tiers\n",
    "cs_values = [i[1] for i in cs]\n",
    "cs_values"
   ]
  },
  {
   "cell_type": "code",
   "execution_count": 24,
   "metadata": {
    "ExecuteTime": {
     "end_time": "2018-09-26T13:13:46.366002Z",
     "start_time": "2018-09-26T13:13:46.346002Z"
    }
   },
   "outputs": [
    {
     "data": {
      "text/plain": [
       "array([6427, 2915, 2240, 1227], dtype=int64)"
      ]
     },
     "execution_count": 24,
     "metadata": {},
     "output_type": "execute_result"
    }
   ],
   "source": [
    "cus_per_tier.values"
   ]
  },
  {
   "cell_type": "code",
   "execution_count": 25,
   "metadata": {
    "ExecuteTime": {
     "end_time": "2018-09-26T13:13:46.389002Z",
     "start_time": "2018-09-26T13:13:46.367002Z"
    }
   },
   "outputs": [
    {
     "data": {
      "text/plain": [
       "array([6342, 2906, 2205, 1223], dtype=int64)"
      ]
     },
     "execution_count": 25,
     "metadata": {},
     "output_type": "execute_result"
    }
   ],
   "source": [
    "cus_per_tier_new_values = cus_per_tier.values - cs_values\n",
    "cus_per_tier_new_values"
   ]
  },
  {
   "cell_type": "code",
   "execution_count": 26,
   "metadata": {
    "ExecuteTime": {
     "end_time": "2018-09-26T13:13:46.405002Z",
     "start_time": "2018-09-26T13:13:46.391002Z"
    }
   },
   "outputs": [
    {
     "data": {
      "text/plain": [
       "array([153, 154, 155, 156], dtype=int64)"
      ]
     },
     "execution_count": 26,
     "metadata": {},
     "output_type": "execute_result"
    }
   ],
   "source": [
    "cus_per_tier.index.values"
   ]
  },
  {
   "cell_type": "code",
   "execution_count": 27,
   "metadata": {
    "ExecuteTime": {
     "end_time": "2018-09-26T13:13:46.603002Z",
     "start_time": "2018-09-26T13:13:46.406002Z"
    },
    "scrolled": false
   },
   "outputs": [
    {
     "data": {
      "image/png": "[encoded data removed]",
      "text/plain": [
       "<matplotlib.figure.Figure at 0xea7e0b8>"
      ]
     },
     "metadata": {},
     "output_type": "display_data"
    }
   ],
   "source": [
    "plt.figure(figsize=(16, 6))\n",
    "plt.barh(cus_per_tier.index.values, cus_per_tier_new_values)\n",
    "plt.yticks(cus_per_tier.index.values)\n",
    "plt.title('Active customers per tier from July-17 to June-18')\n",
    "ax = plt.gca()\n",
    "for i, txt in enumerate(zip(cus_per_tier.index.values, cus_per_tier_new_values)):\n",
    "    ax.annotate(txt, (cus_per_tier_new_values[i], cus_per_tier.index.values[i]))\n",
    "plt.grid()"
   ]
  },
  {
   "cell_type": "markdown",
   "metadata": {
    "heading_collapsed": true
   },
   "source": [
    "#### Number of average orders per year (mid 2017 - mid 2018)"
   ]
  },
  {
   "cell_type": "code",
   "execution_count": 28,
   "metadata": {
    "ExecuteTime": {
     "end_time": "2018-09-26T13:13:46.676002Z",
     "start_time": "2018-09-26T13:13:46.604002Z"
    },
    "hidden": true
   },
   "outputs": [
    {
     "data": {
      "text/plain": [
       "CZP_ZTQ_ID\n",
       "153    32867\n",
       "154    14899\n",
       "155    10861\n",
       "156     6283\n",
       "Name: SCM_N_ORDER_NR, dtype: int64"
      ]
     },
     "execution_count": 28,
     "metadata": {},
     "output_type": "execute_result"
    }
   ],
   "source": [
    "data.groupby('CZP_ZTQ_ID')['SCM_N_ORDER_NR'].nunique()"
   ]
  },
  {
   "cell_type": "code",
   "execution_count": 29,
   "metadata": {
    "ExecuteTime": {
     "end_time": "2018-09-26T13:13:46.680002Z",
     "start_time": "2018-09-26T13:13:46.677002Z"
    },
    "hidden": true
   },
   "outputs": [],
   "source": [
    "tiers = [153, 154, 155, 156]"
   ]
  },
  {
   "cell_type": "code",
   "execution_count": 30,
   "metadata": {
    "ExecuteTime": {
     "end_time": "2018-09-26T13:13:46.757002Z",
     "start_time": "2018-09-26T13:13:46.682002Z"
    },
    "hidden": true
   },
   "outputs": [],
   "source": [
    "orders_per_week = data.groupby('WEEK_NUMBER')['SCM_N_ORDER_NR'].nunique()\n",
    "#New mapping in order to have correlative week numbers\n",
    "new_week_mapping = {}"
   ]
  },
  {
   "cell_type": "code",
   "execution_count": 31,
   "metadata": {
    "ExecuteTime": {
     "end_time": "2018-09-26T13:13:46.763002Z",
     "start_time": "2018-09-26T13:13:46.758002Z"
    },
    "hidden": true
   },
   "outputs": [],
   "source": [
    "for x, y in zip(list(orders_per_week[25:].index.values) + list(orders_per_week[:25].index.values), list(range(1,len(orders_per_week.index.values) + 1))):\n",
    "    new_week_mapping[x] = y "
   ]
  },
  {
   "cell_type": "code",
   "execution_count": 32,
   "metadata": {
    "ExecuteTime": {
     "end_time": "2018-09-26T13:13:46.882002Z",
     "start_time": "2018-09-26T13:13:46.764002Z"
    },
    "hidden": true
   },
   "outputs": [],
   "source": [
    "week_mapping = [new_week_mapping[i] for i in data['WEEK_NUMBER'].values]\n",
    "#New column with the new week mapping\n",
    "data['WEEK_NUMBER_ORDERED'] = week_mapping"
   ]
  },
  {
   "cell_type": "code",
   "execution_count": 33,
   "metadata": {
    "ExecuteTime": {
     "end_time": "2018-09-26T13:13:47.798001Z",
     "start_time": "2018-09-26T13:13:46.883002Z"
    },
    "hidden": true
   },
   "outputs": [
    {
     "data": {
      "image/png": "[encoded data removed]",
      "text/plain": [
       "<matplotlib.figure.Figure at 0xb9a1a90>"
      ]
     },
     "metadata": {},
     "output_type": "display_data"
    }
   ],
   "source": [
    "plt.figure(figsize=(16, 8))\n",
    "for i in tiers:\n",
    "    tier_data = data[data['CZP_ZTQ_ID'] == i]\n",
    "    weekly_data = tier_data.groupby('WEEK_NUMBER_ORDERED')['SCM_N_ORDER_NR'].nunique()[1:] #exclude 1st week (week 26 overlapping)\n",
    "    weekly_data.plot()\n",
    "    ax = plt.gca()\n",
    "    for i, txt in enumerate(weekly_data):\n",
    "        ax.annotate(txt, (weekly_data.index[i], weekly_data.values[i]))\n",
    "plt.grid(True)\n",
    "plt.ylabel('Orders')\n",
    "plt.title('Evolution of Weekly orders per Pro Plan Tier from Jul 17 to Jun 18')\n",
    "plt.legend(tiers) \n",
    "plt.show()"
   ]
  },
  {
   "cell_type": "markdown",
   "metadata": {
    "heading_collapsed": true
   },
   "source": [
    "#### Average Basket Value"
   ]
  },
  {
   "cell_type": "code",
   "execution_count": 34,
   "metadata": {
    "ExecuteTime": {
     "end_time": "2018-09-26T13:13:47.863000Z",
     "start_time": "2018-09-26T13:13:47.798001Z"
    },
    "hidden": true
   },
   "outputs": [],
   "source": [
    "order_values_per_tier = data.groupby(['CZP_ZTQ_ID', 'SCM_N_ORDER_NR'], as_index=False)['BASKET_VALUE'].mean()"
   ]
  },
  {
   "cell_type": "code",
   "execution_count": 35,
   "metadata": {
    "ExecuteTime": {
     "end_time": "2018-09-26T13:13:47.876000Z",
     "start_time": "2018-09-26T13:13:47.865000Z"
    },
    "hidden": true
   },
   "outputs": [
    {
     "data": {
      "text/html": [
       "<div>\n",
       "<style scoped>\n",
       "    .dataframe tbody tr th:only-of-type {\n",
       "        vertical-align: middle;\n",
       "    }\n",
       "\n",
       "    .dataframe tbody tr th {\n",
       "        vertical-align: top;\n",
       "    }\n",
       "\n",
       "    .dataframe thead th {\n",
       "        text-align: right;\n",
       "    }\n",
       "</style>\n",
       "<table border=\"1\" class=\"dataframe\">\n",
       "  <thead>\n",
       "    <tr style=\"text-align: right;\">\n",
       "      <th></th>\n",
       "      <th>CZP_ZTQ_ID</th>\n",
       "      <th>SCM_N_ORDER_NR</th>\n",
       "      <th>BASKET_VALUE</th>\n",
       "    </tr>\n",
       "  </thead>\n",
       "  <tbody>\n",
       "    <tr>\n",
       "      <th>52420</th>\n",
       "      <td>155</td>\n",
       "      <td>102743911</td>\n",
       "      <td>77.16</td>\n",
       "    </tr>\n",
       "    <tr>\n",
       "      <th>17127</th>\n",
       "      <td>153</td>\n",
       "      <td>104268379</td>\n",
       "      <td>-3.99</td>\n",
       "    </tr>\n",
       "    <tr>\n",
       "      <th>43367</th>\n",
       "      <td>154</td>\n",
       "      <td>108425852</td>\n",
       "      <td>98.29</td>\n",
       "    </tr>\n",
       "    <tr>\n",
       "      <th>19227</th>\n",
       "      <td>153</td>\n",
       "      <td>105588041</td>\n",
       "      <td>55.19</td>\n",
       "    </tr>\n",
       "    <tr>\n",
       "      <th>30383</th>\n",
       "      <td>153</td>\n",
       "      <td>112213158</td>\n",
       "      <td>125.98</td>\n",
       "    </tr>\n",
       "  </tbody>\n",
       "</table>\n",
       "</div>"
      ],
      "text/plain": [
       "       CZP_ZTQ_ID  SCM_N_ORDER_NR  BASKET_VALUE\n",
       "52420         155       102743911         77.16\n",
       "17127         153       104268379         -3.99\n",
       "43367         154       108425852         98.29\n",
       "19227         153       105588041         55.19\n",
       "30383         153       112213158        125.98"
      ]
     },
     "execution_count": 35,
     "metadata": {},
     "output_type": "execute_result"
    }
   ],
   "source": [
    "order_values_per_tier.sample(5)"
   ]
  },
  {
   "cell_type": "code",
   "execution_count": 36,
   "metadata": {
    "ExecuteTime": {
     "end_time": "2018-09-26T13:13:47.918000Z",
     "start_time": "2018-09-26T13:13:47.877000Z"
    },
    "hidden": true
   },
   "outputs": [
    {
     "data": {
      "text/html": [
       "<div>\n",
       "<style scoped>\n",
       "    .dataframe tbody tr th:only-of-type {\n",
       "        vertical-align: middle;\n",
       "    }\n",
       "\n",
       "    .dataframe tbody tr th {\n",
       "        vertical-align: top;\n",
       "    }\n",
       "\n",
       "    .dataframe thead th {\n",
       "        text-align: right;\n",
       "    }\n",
       "</style>\n",
       "<table border=\"1\" class=\"dataframe\">\n",
       "  <thead>\n",
       "    <tr style=\"text-align: right;\">\n",
       "      <th></th>\n",
       "      <th>count</th>\n",
       "      <th>mean</th>\n",
       "      <th>std</th>\n",
       "      <th>min</th>\n",
       "      <th>25%</th>\n",
       "      <th>50%</th>\n",
       "      <th>75%</th>\n",
       "      <th>max</th>\n",
       "    </tr>\n",
       "    <tr>\n",
       "      <th>CZP_ZTQ_ID</th>\n",
       "      <th></th>\n",
       "      <th></th>\n",
       "      <th></th>\n",
       "      <th></th>\n",
       "      <th></th>\n",
       "      <th></th>\n",
       "      <th></th>\n",
       "      <th></th>\n",
       "    </tr>\n",
       "  </thead>\n",
       "  <tbody>\n",
       "    <tr>\n",
       "      <th>153</th>\n",
       "      <td>32867.0</td>\n",
       "      <td>78.626556</td>\n",
       "      <td>47.141050</td>\n",
       "      <td>-12.00</td>\n",
       "      <td>47.49</td>\n",
       "      <td>66.44</td>\n",
       "      <td>95.62495</td>\n",
       "      <td>1030.72</td>\n",
       "    </tr>\n",
       "    <tr>\n",
       "      <th>154</th>\n",
       "      <td>14899.0</td>\n",
       "      <td>89.379485</td>\n",
       "      <td>55.117525</td>\n",
       "      <td>-18.48</td>\n",
       "      <td>51.27</td>\n",
       "      <td>78.35</td>\n",
       "      <td>108.26000</td>\n",
       "      <td>781.92</td>\n",
       "    </tr>\n",
       "    <tr>\n",
       "      <th>155</th>\n",
       "      <td>10861.0</td>\n",
       "      <td>83.510546</td>\n",
       "      <td>52.124059</td>\n",
       "      <td>-19.56</td>\n",
       "      <td>47.40</td>\n",
       "      <td>71.24</td>\n",
       "      <td>99.97000</td>\n",
       "      <td>806.85</td>\n",
       "    </tr>\n",
       "    <tr>\n",
       "      <th>156</th>\n",
       "      <td>6283.0</td>\n",
       "      <td>100.505093</td>\n",
       "      <td>67.532396</td>\n",
       "      <td>-19.48</td>\n",
       "      <td>54.85</td>\n",
       "      <td>88.34</td>\n",
       "      <td>122.70000</td>\n",
       "      <td>730.87</td>\n",
       "    </tr>\n",
       "  </tbody>\n",
       "</table>\n",
       "</div>"
      ],
      "text/plain": [
       "              count        mean        std    min    25%    50%        75%  \\\n",
       "CZP_ZTQ_ID                                                                   \n",
       "153         32867.0   78.626556  47.141050 -12.00  47.49  66.44   95.62495   \n",
       "154         14899.0   89.379485  55.117525 -18.48  51.27  78.35  108.26000   \n",
       "155         10861.0   83.510546  52.124059 -19.56  47.40  71.24   99.97000   \n",
       "156          6283.0  100.505093  67.532396 -19.48  54.85  88.34  122.70000   \n",
       "\n",
       "                max  \n",
       "CZP_ZTQ_ID           \n",
       "153         1030.72  \n",
       "154          781.92  \n",
       "155          806.85  \n",
       "156          730.87  "
      ]
     },
     "execution_count": 36,
     "metadata": {},
     "output_type": "execute_result"
    }
   ],
   "source": [
    "order_values_per_tier.groupby('CZP_ZTQ_ID')['BASKET_VALUE'].describe()"
   ]
  },
  {
   "cell_type": "markdown",
   "metadata": {
    "hidden": true
   },
   "source": [
    "Due to high spreadness of the sample is more robust use the median"
   ]
  },
  {
   "cell_type": "markdown",
   "metadata": {
    "heading_collapsed": true
   },
   "source": [
    "#### Average Sales"
   ]
  },
  {
   "cell_type": "code",
   "execution_count": 37,
   "metadata": {
    "ExecuteTime": {
     "end_time": "2018-09-26T13:13:47.928000Z",
     "start_time": "2018-09-26T13:13:47.920000Z"
    },
    "hidden": true
   },
   "outputs": [
    {
     "data": {
      "text/plain": [
       "CZP_ZTQ_ID\n",
       "153    2584219.01\n",
       "154    1331664.95\n",
       "155     907008.04\n",
       "156     631473.50\n",
       "Name: BASKET_VALUE, dtype: float64"
      ]
     },
     "execution_count": 37,
     "metadata": {},
     "output_type": "execute_result"
    }
   ],
   "source": [
    "#12 months sales\n",
    "order_values_per_tier.groupby('CZP_ZTQ_ID')['BASKET_VALUE'].sum().round(2)"
   ]
  },
  {
   "cell_type": "code",
   "execution_count": 38,
   "metadata": {
    "ExecuteTime": {
     "end_time": "2018-09-26T13:13:47.942000Z",
     "start_time": "2018-09-26T13:13:47.929000Z"
    },
    "hidden": true
   },
   "outputs": [
    {
     "data": {
      "text/plain": [
       "CZP_ZTQ_ID\n",
       "153    215351.58\n",
       "154    110972.08\n",
       "155     75584.00\n",
       "156     52622.79\n",
       "Name: BASKET_VALUE, dtype: float64"
      ]
     },
     "execution_count": 38,
     "metadata": {},
     "output_type": "execute_result"
    }
   ],
   "source": [
    "# Monthly average sales\n",
    "np.round(order_values_per_tier.groupby('CZP_ZTQ_ID')['BASKET_VALUE'].sum() / 12, 2)"
   ]
  },
  {
   "cell_type": "code",
   "execution_count": 39,
   "metadata": {
    "ExecuteTime": {
     "end_time": "2018-09-26T13:13:47.959000Z",
     "start_time": "2018-09-26T13:13:47.944000Z"
    },
    "hidden": true
   },
   "outputs": [
    {
     "data": {
      "text/plain": [
       "CZP_ZTQ_ID\n",
       "153    49696.52\n",
       "154    25608.94\n",
       "155    17442.46\n",
       "156    12143.72\n",
       "Name: BASKET_VALUE, dtype: float64"
      ]
     },
     "execution_count": 39,
     "metadata": {},
     "output_type": "execute_result"
    }
   ],
   "source": [
    "# Weekly average sales\n",
    "np.round(order_values_per_tier.groupby('CZP_ZTQ_ID')['BASKET_VALUE'].sum() / 52, 2)"
   ]
  },
  {
   "cell_type": "code",
   "execution_count": 40,
   "metadata": {
    "ExecuteTime": {
     "end_time": "2018-09-26T13:13:48.491000Z",
     "start_time": "2018-09-26T13:13:47.960000Z"
    },
    "hidden": true
   },
   "outputs": [
    {
     "data": {
      "image/png": "[encoded data removed]",
      "text/plain": [
       "<matplotlib.figure.Figure at 0xb786b00>"
      ]
     },
     "metadata": {},
     "output_type": "display_data"
    }
   ],
   "source": [
    "plt.figure(figsize=(16, 8))\n",
    "for i in tiers:\n",
    "    tier_data = data[data['CZP_ZTQ_ID'] == i]\n",
    "    week_sales_tier = tier_data.groupby(['WEEK_NUMBER_ORDERED', 'SCM_N_ORDER_NR'], as_index=False)['BASKET_VALUE'].mean()\n",
    "    weekly_data = week_sales_tier.groupby('WEEK_NUMBER_ORDERED')['BASKET_VALUE'].sum()[1:] #exclude 1st week (week 26 overlapping)\n",
    "    weekly_data.plot()\n",
    "    ax = plt.gca()\n",
    "    for i, txt in enumerate(weekly_data):\n",
    "        if i % 6 == 0:\n",
    "            ax.annotate(np.round(txt, 2), (weekly_data.index[i], weekly_data.values[i]))\n",
    "plt.grid(True)\n",
    "plt.ylabel('Sales')\n",
    "plt.title('Evolution of Weekly Sales per Pro Plan Tier from Jul 17 to Jun 18')\n",
    "plt.legend(tiers) \n",
    "plt.show()"
   ]
  },
  {
   "cell_type": "markdown",
   "metadata": {},
   "source": [
    "#### CM1 "
   ]
  },
  {
   "cell_type": "code",
   "execution_count": 41,
   "metadata": {
    "ExecuteTime": {
     "end_time": "2018-09-26T13:13:48.519000Z",
     "start_time": "2018-09-26T13:13:48.491000Z"
    }
   },
   "outputs": [],
   "source": [
    "data['ORDER_CM1'] = (data['SCM_D_FINANCE_CM1'] * data['POS_VALID']).groupby(data['SCM_N_ORDER_NR']).transform('sum')"
   ]
  },
  {
   "cell_type": "code",
   "execution_count": 42,
   "metadata": {
    "ExecuteTime": {
     "end_time": "2018-09-26T13:13:48.565000Z",
     "start_time": "2018-09-26T13:13:48.520000Z"
    }
   },
   "outputs": [],
   "source": [
    "data['ORDER_NET_SALES'] = (data['SCM_D_ORIG_FINANCE_ORDER_NET'] * data['POS_VALID']).groupby(data['SCM_N_ORDER_NR']).transform('sum')"
   ]
  },
  {
   "cell_type": "code",
   "execution_count": 43,
   "metadata": {
    "ExecuteTime": {
     "end_time": "2018-09-26T13:13:48.575000Z",
     "start_time": "2018-09-26T13:13:48.567000Z"
    }
   },
   "outputs": [],
   "source": [
    "data['ORDER_CM1%'] = data['ORDER_CM1'] / data['ORDER_NET_SALES'] * 100"
   ]
  },
  {
   "cell_type": "code",
   "execution_count": 44,
   "metadata": {
    "ExecuteTime": {
     "end_time": "2018-09-26T13:13:48.627000Z",
     "start_time": "2018-09-26T13:13:48.576000Z"
    }
   },
   "outputs": [],
   "source": [
    "data['ORDER_CM2'] = (data['SCM_D_FINANCE_CM2'] * data['POS_VALID']).groupby(data['SCM_N_ORDER_NR']).transform('sum')"
   ]
  },
  {
   "cell_type": "code",
   "execution_count": 45,
   "metadata": {
    "ExecuteTime": {
     "end_time": "2018-09-26T13:13:48.636000Z",
     "start_time": "2018-09-26T13:13:48.628000Z"
    }
   },
   "outputs": [],
   "source": [
    "data['ORDER_CM2%'] = data['ORDER_CM2'] / data['ORDER_NET_SALES'] * 100"
   ]
  },
  {
   "cell_type": "code",
   "execution_count": 46,
   "metadata": {
    "ExecuteTime": {
     "end_time": "2018-09-26T13:13:48.809000Z",
     "start_time": "2018-09-26T13:13:48.638000Z"
    }
   },
   "outputs": [],
   "source": [
    "cm_values_per_tier = data.groupby(['CZP_ZTQ_ID', 'SCM_N_ORDER_NR'], as_index=False)[['ORDER_NET_SALES', 'ORDER_CM1', \n",
    "                                                                                     'ORDER_CM1%', 'ORDER_CM2',\n",
    "                                                                                     'ORDER_CM2%']].mean()"
   ]
  },
  {
   "cell_type": "code",
   "execution_count": 47,
   "metadata": {
    "ExecuteTime": {
     "end_time": "2018-09-26T13:13:48.826000Z",
     "start_time": "2018-09-26T13:13:48.811000Z"
    }
   },
   "outputs": [
    {
     "data": {
      "text/html": [
       "<div>\n",
       "<style scoped>\n",
       "    .dataframe tbody tr th:only-of-type {\n",
       "        vertical-align: middle;\n",
       "    }\n",
       "\n",
       "    .dataframe tbody tr th {\n",
       "        vertical-align: top;\n",
       "    }\n",
       "\n",
       "    .dataframe thead th {\n",
       "        text-align: right;\n",
       "    }\n",
       "</style>\n",
       "<table border=\"1\" class=\"dataframe\">\n",
       "  <thead>\n",
       "    <tr style=\"text-align: right;\">\n",
       "      <th></th>\n",
       "      <th>CZP_ZTQ_ID</th>\n",
       "      <th>SCM_N_ORDER_NR</th>\n",
       "      <th>ORDER_NET_SALES</th>\n",
       "      <th>ORDER_CM1</th>\n",
       "      <th>ORDER_CM1%</th>\n",
       "      <th>ORDER_CM2</th>\n",
       "      <th>ORDER_CM2%</th>\n",
       "    </tr>\n",
       "  </thead>\n",
       "  <tbody>\n",
       "    <tr>\n",
       "      <th>20051</th>\n",
       "      <td>153</td>\n",
       "      <td>106035670</td>\n",
       "      <td>57.77</td>\n",
       "      <td>19.75</td>\n",
       "      <td>34.18</td>\n",
       "      <td>10.61</td>\n",
       "      <td>18.37</td>\n",
       "    </tr>\n",
       "    <tr>\n",
       "      <th>31401</th>\n",
       "      <td>153</td>\n",
       "      <td>112919321</td>\n",
       "      <td>75.99</td>\n",
       "      <td>13.85</td>\n",
       "      <td>18.23</td>\n",
       "      <td>6.13</td>\n",
       "      <td>8.07</td>\n",
       "    </tr>\n",
       "    <tr>\n",
       "      <th>60238</th>\n",
       "      <td>156</td>\n",
       "      <td>99396884</td>\n",
       "      <td>85.72</td>\n",
       "      <td>19.34</td>\n",
       "      <td>22.56</td>\n",
       "      <td>9.68</td>\n",
       "      <td>11.29</td>\n",
       "    </tr>\n",
       "    <tr>\n",
       "      <th>2002</th>\n",
       "      <td>153</td>\n",
       "      <td>92266042</td>\n",
       "      <td>81.52</td>\n",
       "      <td>13.95</td>\n",
       "      <td>17.12</td>\n",
       "      <td>3.55</td>\n",
       "      <td>4.35</td>\n",
       "    </tr>\n",
       "    <tr>\n",
       "      <th>36268</th>\n",
       "      <td>154</td>\n",
       "      <td>97998052</td>\n",
       "      <td>39.14</td>\n",
       "      <td>18.99</td>\n",
       "      <td>48.52</td>\n",
       "      <td>2.61</td>\n",
       "      <td>6.67</td>\n",
       "    </tr>\n",
       "  </tbody>\n",
       "</table>\n",
       "</div>"
      ],
      "text/plain": [
       "       CZP_ZTQ_ID  SCM_N_ORDER_NR  ORDER_NET_SALES  ORDER_CM1  ORDER_CM1%  \\\n",
       "20051         153       106035670            57.77      19.75       34.18   \n",
       "31401         153       112919321            75.99      13.85       18.23   \n",
       "60238         156        99396884            85.72      19.34       22.56   \n",
       "2002          153        92266042            81.52      13.95       17.12   \n",
       "36268         154        97998052            39.14      18.99       48.52   \n",
       "\n",
       "       ORDER_CM2  ORDER_CM2%  \n",
       "20051      10.61       18.37  \n",
       "31401       6.13        8.07  \n",
       "60238       9.68       11.29  \n",
       "2002        3.55        4.35  \n",
       "36268       2.61        6.67  "
      ]
     },
     "execution_count": 47,
     "metadata": {},
     "output_type": "execute_result"
    }
   ],
   "source": [
    "cm_values_per_tier.sample(5).round(2)"
   ]
  },
  {
   "cell_type": "code",
   "execution_count": 48,
   "metadata": {
    "ExecuteTime": {
     "end_time": "2018-09-26T13:13:48.847000Z",
     "start_time": "2018-09-26T13:13:48.828000Z"
    }
   },
   "outputs": [
    {
     "data": {
      "text/plain": [
       "CZP_ZTQ_ID\n",
       "153    548856.90\n",
       "154    277183.65\n",
       "155    185142.81\n",
       "156    119991.64\n",
       "Name: ORDER_CM1, dtype: float64"
      ]
     },
     "execution_count": 48,
     "metadata": {},
     "output_type": "execute_result"
    }
   ],
   "source": [
    "# CM1 per tier\n",
    "cm_values_per_tier.groupby('CZP_ZTQ_ID')['ORDER_CM1'].sum().round(2)"
   ]
  },
  {
   "cell_type": "code",
   "execution_count": 49,
   "metadata": {
    "ExecuteTime": {
     "end_time": "2018-09-26T13:13:48.868000Z",
     "start_time": "2018-09-26T13:13:48.849000Z"
    }
   },
   "outputs": [
    {
     "data": {
      "text/plain": [
       "CZP_ZTQ_ID\n",
       "153    16.70\n",
       "154    18.60\n",
       "155    17.05\n",
       "156    19.10\n",
       "dtype: float64"
      ]
     },
     "execution_count": 49,
     "metadata": {},
     "output_type": "execute_result"
    }
   ],
   "source": [
    "# CM1 per order in each tier\n",
    "(cm_values_per_tier.groupby('CZP_ZTQ_ID')['ORDER_CM1'].sum() /\\\n",
    "cm_values_per_tier.groupby('CZP_ZTQ_ID')['SCM_N_ORDER_NR'].count()).round(2)"
   ]
  },
  {
   "cell_type": "code",
   "execution_count": 50,
   "metadata": {
    "ExecuteTime": {
     "end_time": "2018-09-26T13:13:48.883000Z",
     "start_time": "2018-09-26T13:13:48.870000Z"
    }
   },
   "outputs": [
    {
     "data": {
      "text/plain": [
       "CZP_ZTQ_ID\n",
       "153    25.48\n",
       "154    24.96\n",
       "155    24.47\n",
       "156    22.78\n",
       "dtype: float64"
      ]
     },
     "execution_count": 50,
     "metadata": {},
     "output_type": "execute_result"
    }
   ],
   "source": [
    "# CM1% per tier\n",
    "(cm_values_per_tier.groupby('CZP_ZTQ_ID')['ORDER_CM1'].sum() /\\\n",
    "cm_values_per_tier.groupby('CZP_ZTQ_ID')['ORDER_NET_SALES'].sum() * 100).round(2)"
   ]
  },
  {
   "cell_type": "code",
   "execution_count": 51,
   "metadata": {
    "ExecuteTime": {
     "end_time": "2018-09-26T13:13:48.899000Z",
     "start_time": "2018-09-26T13:13:48.885000Z"
    }
   },
   "outputs": [
    {
     "data": {
      "text/plain": [
       "CZP_ZTQ_ID\n",
       "153    27.43\n",
       "154    26.59\n",
       "155    26.14\n",
       "156    24.78\n",
       "Name: ORDER_CM1%, dtype: float64"
      ]
     },
     "execution_count": 51,
     "metadata": {},
     "output_type": "execute_result"
    }
   ],
   "source": [
    "# CM1% per order in each tier\n",
    "cm_values_per_tier.groupby('CZP_ZTQ_ID')['ORDER_CM1%'].mean().round(2)"
   ]
  },
  {
   "cell_type": "code",
   "execution_count": 52,
   "metadata": {
    "ExecuteTime": {
     "end_time": "2018-09-26T13:13:49.614998Z",
     "start_time": "2018-09-26T13:13:48.900000Z"
    }
   },
   "outputs": [
    {
     "data": {
      "image/png": "[encoded data removed]",
      "text/plain": [
       "<matplotlib.figure.Figure at 0xb7a5b00>"
      ]
     },
     "metadata": {},
     "output_type": "display_data"
    },
    {
     "data": {
      "text/html": [
       "<div>\n",
       "<style scoped>\n",
       "    .dataframe tbody tr th:only-of-type {\n",
       "        vertical-align: middle;\n",
       "    }\n",
       "\n",
       "    .dataframe tbody tr th {\n",
       "        vertical-align: top;\n",
       "    }\n",
       "\n",
       "    .dataframe thead th {\n",
       "        text-align: right;\n",
       "    }\n",
       "</style>\n",
       "<table border=\"1\" class=\"dataframe\">\n",
       "  <thead>\n",
       "    <tr style=\"text-align: right;\">\n",
       "      <th></th>\n",
       "      <th>Tier 153</th>\n",
       "      <th>Tier 154</th>\n",
       "      <th>Tier 155</th>\n",
       "      <th>Tier 156</th>\n",
       "    </tr>\n",
       "  </thead>\n",
       "  <tbody>\n",
       "    <tr>\n",
       "      <th>count</th>\n",
       "      <td>32863.00</td>\n",
       "      <td>14896.00</td>\n",
       "      <td>10860.00</td>\n",
       "      <td>6283.00</td>\n",
       "    </tr>\n",
       "    <tr>\n",
       "      <th>mean</th>\n",
       "      <td>27.43</td>\n",
       "      <td>26.59</td>\n",
       "      <td>26.14</td>\n",
       "      <td>24.78</td>\n",
       "    </tr>\n",
       "    <tr>\n",
       "      <th>std</th>\n",
       "      <td>32.15</td>\n",
       "      <td>20.89</td>\n",
       "      <td>13.36</td>\n",
       "      <td>15.08</td>\n",
       "    </tr>\n",
       "    <tr>\n",
       "      <th>min</th>\n",
       "      <td>-1386.71</td>\n",
       "      <td>-1863.38</td>\n",
       "      <td>-105.26</td>\n",
       "      <td>-112.30</td>\n",
       "    </tr>\n",
       "    <tr>\n",
       "      <th>25%</th>\n",
       "      <td>19.09</td>\n",
       "      <td>18.61</td>\n",
       "      <td>17.22</td>\n",
       "      <td>16.22</td>\n",
       "    </tr>\n",
       "    <tr>\n",
       "      <th>50%</th>\n",
       "      <td>24.70</td>\n",
       "      <td>24.01</td>\n",
       "      <td>23.36</td>\n",
       "      <td>21.93</td>\n",
       "    </tr>\n",
       "    <tr>\n",
       "      <th>75%</th>\n",
       "      <td>33.15</td>\n",
       "      <td>32.40</td>\n",
       "      <td>32.38</td>\n",
       "      <td>30.90</td>\n",
       "    </tr>\n",
       "    <tr>\n",
       "      <th>max</th>\n",
       "      <td>5108.58</td>\n",
       "      <td>274.37</td>\n",
       "      <td>189.21</td>\n",
       "      <td>425.56</td>\n",
       "    </tr>\n",
       "  </tbody>\n",
       "</table>\n",
       "</div>"
      ],
      "text/plain": [
       "       Tier 153  Tier 154  Tier 155  Tier 156\n",
       "count  32863.00  14896.00  10860.00   6283.00\n",
       "mean      27.43     26.59     26.14     24.78\n",
       "std       32.15     20.89     13.36     15.08\n",
       "min    -1386.71  -1863.38   -105.26   -112.30\n",
       "25%       19.09     18.61     17.22     16.22\n",
       "50%       24.70     24.01     23.36     21.93\n",
       "75%       33.15     32.40     32.38     30.90\n",
       "max     5108.58    274.37    189.21    425.56"
      ]
     },
     "metadata": {},
     "output_type": "display_data"
    }
   ],
   "source": [
    "concat_df = pd.DataFrame()\n",
    "\n",
    "plt.figure(figsize=(16,4))\n",
    "plt.title('Relative CM1% histogram per order & ProPlan Tier')\n",
    "plt.xlabel('CM1%')\n",
    "plt.ylabel('Orders')\n",
    "\n",
    "for i in tiers:\n",
    "    tier_data = cm_values_per_tier[cm_values_per_tier['CZP_ZTQ_ID'] == i]\n",
    "    tier_data['ORDER_CM1%'].hist(bins=100, range=(-10, 90), alpha=0.5)\n",
    "    plt.legend([153, 154, 155, 156])\n",
    "    concat_df = pd.concat([concat_df,\n",
    "                           pd.DataFrame(tier_data['ORDER_CM1%'].describe().round(2)),\n",
    "                           ], axis=1)\n",
    "plt.show() \n",
    "\n",
    "concat_df.columns = ['Tier 153', 'Tier 154', 'Tier 155', 'Tier 156']\n",
    "display(concat_df)"
   ]
  },
  {
   "cell_type": "markdown",
   "metadata": {
    "heading_collapsed": true
   },
   "source": [
    "#### CM2"
   ]
  },
  {
   "cell_type": "code",
   "execution_count": 53,
   "metadata": {
    "ExecuteTime": {
     "end_time": "2018-09-26T13:13:49.623998Z",
     "start_time": "2018-09-26T13:13:49.615998Z"
    },
    "hidden": true
   },
   "outputs": [
    {
     "data": {
      "text/plain": [
       "CZP_ZTQ_ID\n",
       "153    195516.73\n",
       "154    102147.47\n",
       "155     60589.09\n",
       "156     38411.62\n",
       "Name: ORDER_CM2, dtype: float64"
      ]
     },
     "execution_count": 53,
     "metadata": {},
     "output_type": "execute_result"
    }
   ],
   "source": [
    "# CM2 per tier\n",
    "cm_values_per_tier.groupby('CZP_ZTQ_ID')['ORDER_CM2'].sum().round(2)"
   ]
  },
  {
   "cell_type": "code",
   "execution_count": 54,
   "metadata": {
    "ExecuteTime": {
     "end_time": "2018-09-26T13:13:49.644998Z",
     "start_time": "2018-09-26T13:13:49.625998Z"
    },
    "hidden": true
   },
   "outputs": [
    {
     "data": {
      "text/plain": [
       "CZP_ZTQ_ID\n",
       "153    5.95\n",
       "154    6.86\n",
       "155    5.58\n",
       "156    6.11\n",
       "dtype: float64"
      ]
     },
     "execution_count": 54,
     "metadata": {},
     "output_type": "execute_result"
    }
   ],
   "source": [
    "# CM2 per order in each tier\n",
    "(cm_values_per_tier.groupby('CZP_ZTQ_ID')['ORDER_CM2'].sum() /\\\n",
    "cm_values_per_tier.groupby('CZP_ZTQ_ID')['SCM_N_ORDER_NR'].count()).round(2)"
   ]
  },
  {
   "cell_type": "code",
   "execution_count": 55,
   "metadata": {
    "ExecuteTime": {
     "end_time": "2018-09-26T13:13:49.666998Z",
     "start_time": "2018-09-26T13:13:49.645998Z"
    },
    "hidden": true
   },
   "outputs": [
    {
     "data": {
      "text/plain": [
       "CZP_ZTQ_ID\n",
       "153    9.08\n",
       "154    9.20\n",
       "155    8.01\n",
       "156    7.29\n",
       "dtype: float64"
      ]
     },
     "execution_count": 55,
     "metadata": {},
     "output_type": "execute_result"
    }
   ],
   "source": [
    "# CM2% per tier\n",
    "(cm_values_per_tier.groupby('CZP_ZTQ_ID')['ORDER_CM2'].sum() /\\\n",
    "cm_values_per_tier.groupby('CZP_ZTQ_ID')['ORDER_NET_SALES'].sum() * 100).round(2)"
   ]
  },
  {
   "cell_type": "code",
   "execution_count": 56,
   "metadata": {
    "ExecuteTime": {
     "end_time": "2018-09-26T13:13:49.687998Z",
     "start_time": "2018-09-26T13:13:49.667998Z"
    },
    "hidden": true
   },
   "outputs": [
    {
     "data": {
      "text/plain": [
       "CZP_ZTQ_ID\n",
       "153    8.97\n",
       "154    8.93\n",
       "155    7.70\n",
       "156    7.56\n",
       "Name: ORDER_CM2%, dtype: float64"
      ]
     },
     "execution_count": 56,
     "metadata": {},
     "output_type": "execute_result"
    }
   ],
   "source": [
    "# CM2% per order in each tier\n",
    "cm_values_per_tier.groupby('CZP_ZTQ_ID')['ORDER_CM2%'].mean().round(2)"
   ]
  },
  {
   "cell_type": "code",
   "execution_count": 57,
   "metadata": {
    "ExecuteTime": {
     "end_time": "2018-09-26T13:13:50.435996Z",
     "start_time": "2018-09-26T13:13:49.688998Z"
    },
    "hidden": true
   },
   "outputs": [
    {
     "data": {
      "image/png": "[encoded data removed]",
      "text/plain": [
       "<matplotlib.figure.Figure at 0xec6f0f0>"
      ]
     },
     "metadata": {},
     "output_type": "display_data"
    },
    {
     "data": {
      "text/html": [
       "<div>\n",
       "<style scoped>\n",
       "    .dataframe tbody tr th:only-of-type {\n",
       "        vertical-align: middle;\n",
       "    }\n",
       "\n",
       "    .dataframe tbody tr th {\n",
       "        vertical-align: top;\n",
       "    }\n",
       "\n",
       "    .dataframe thead th {\n",
       "        text-align: right;\n",
       "    }\n",
       "</style>\n",
       "<table border=\"1\" class=\"dataframe\">\n",
       "  <thead>\n",
       "    <tr style=\"text-align: right;\">\n",
       "      <th></th>\n",
       "      <th>Tier 153</th>\n",
       "      <th>Tier 154</th>\n",
       "      <th>Tier 155</th>\n",
       "      <th>Tier 156</th>\n",
       "    </tr>\n",
       "  </thead>\n",
       "  <tbody>\n",
       "    <tr>\n",
       "      <th>count</th>\n",
       "      <td>32863.00</td>\n",
       "      <td>14896.00</td>\n",
       "      <td>10860.00</td>\n",
       "      <td>6283.00</td>\n",
       "    </tr>\n",
       "    <tr>\n",
       "      <th>mean</th>\n",
       "      <td>8.97</td>\n",
       "      <td>8.93</td>\n",
       "      <td>7.70</td>\n",
       "      <td>7.56</td>\n",
       "    </tr>\n",
       "    <tr>\n",
       "      <th>std</th>\n",
       "      <td>50.53</td>\n",
       "      <td>23.42</td>\n",
       "      <td>14.19</td>\n",
       "      <td>22.89</td>\n",
       "    </tr>\n",
       "    <tr>\n",
       "      <th>min</th>\n",
       "      <td>-1934.30</td>\n",
       "      <td>-2211.99</td>\n",
       "      <td>-236.28</td>\n",
       "      <td>-301.51</td>\n",
       "    </tr>\n",
       "    <tr>\n",
       "      <th>25%</th>\n",
       "      <td>1.80</td>\n",
       "      <td>1.97</td>\n",
       "      <td>0.00</td>\n",
       "      <td>-0.10</td>\n",
       "    </tr>\n",
       "    <tr>\n",
       "      <th>50%</th>\n",
       "      <td>7.47</td>\n",
       "      <td>7.74</td>\n",
       "      <td>5.80</td>\n",
       "      <td>5.84</td>\n",
       "    </tr>\n",
       "    <tr>\n",
       "      <th>75%</th>\n",
       "      <td>14.39</td>\n",
       "      <td>14.55</td>\n",
       "      <td>13.69</td>\n",
       "      <td>13.34</td>\n",
       "    </tr>\n",
       "    <tr>\n",
       "      <th>max</th>\n",
       "      <td>8497.43</td>\n",
       "      <td>309.19</td>\n",
       "      <td>225.75</td>\n",
       "      <td>1079.96</td>\n",
       "    </tr>\n",
       "  </tbody>\n",
       "</table>\n",
       "</div>"
      ],
      "text/plain": [
       "       Tier 153  Tier 154  Tier 155  Tier 156\n",
       "count  32863.00  14896.00  10860.00   6283.00\n",
       "mean       8.97      8.93      7.70      7.56\n",
       "std       50.53     23.42     14.19     22.89\n",
       "min    -1934.30  -2211.99   -236.28   -301.51\n",
       "25%        1.80      1.97      0.00     -0.10\n",
       "50%        7.47      7.74      5.80      5.84\n",
       "75%       14.39     14.55     13.69     13.34\n",
       "max     8497.43    309.19    225.75   1079.96"
      ]
     },
     "metadata": {},
     "output_type": "display_data"
    }
   ],
   "source": [
    "concat_df = pd.DataFrame()\n",
    "\n",
    "plt.figure(figsize=(16,4))\n",
    "plt.title('Relative CM2% histogram per order & ProPlan Tier')\n",
    "plt.xlabel('CM2%')\n",
    "plt.ylabel('Orders')\n",
    "\n",
    "for i in tiers:\n",
    "    tier_data = cm_values_per_tier[cm_values_per_tier['CZP_ZTQ_ID'] == i]\n",
    "    tier_data['ORDER_CM2%'].hist(bins=100, range=(-30, 70), alpha=0.5)\n",
    "    plt.legend([153, 154, 155, 156])\n",
    "    concat_df = pd.concat([concat_df,\n",
    "                           pd.DataFrame(tier_data['ORDER_CM2%'].describe().round(2)),\n",
    "                           ], axis=1)\n",
    "plt.show() \n",
    "\n",
    "concat_df.columns = ['Tier 153', 'Tier 154', 'Tier 155', 'Tier 156']\n",
    "display(concat_df)"
   ]
  },
  {
   "cell_type": "markdown",
   "metadata": {
    "heading_collapsed": true
   },
   "source": [
    "#### Share of Proplan Sales per Tier"
   ]
  },
  {
   "attachments": {
    "image.png": {
     "image/png": "[encoded data removed]"
    }
   },
   "cell_type": "markdown",
   "metadata": {
    "hidden": true
   },
   "source": [
    "Let's get the physical articles belonging to PG4 groups: 283, 286, 192127.\n",
    "\n",
    "<html><head>\n",
    "\n",
    "\n",
    "<!-- Load require.js. Delete this if your page already loads require.js -->\n",
    "<script src=\"https://cdnjs.cloudflare.com/ajax/libs/require.js/2.3.4/require.min.js\" integrity=\"sha256-Ae2Vz/4ePdIu6ZyI/5ZGsYnb+m0JlOmKPjt6XZ9JJkA=\" crossorigin=\"anonymous\"></script>\n",
    "<script src=\"https://unpkg.com/@jupyter-widgets/html-manager@*/dist/embed-amd.js\" crossorigin=\"anonymous\"></script>\n",
    "<script type=\"application/vnd.jupyter.widget-state+json\">\n",
    "{\n",
    "    \"version_major\": 2,\n",
    "    \"version_minor\": 0,\n",
    "    \"state\": {}\n",
    "}\n",
    "</script>\n",
    "</head>\n",
    "<body>\n",
    "\n",
    "\n",
    "</body>\n",
    "</html>\n",
    "![image.png](attachment:image.png)"
   ]
  },
  {
   "cell_type": "code",
   "execution_count": 58,
   "metadata": {
    "ExecuteTime": {
     "end_time": "2018-09-26T13:13:50.439996Z",
     "start_time": "2018-09-26T13:13:50.436996Z"
    },
    "hidden": true
   },
   "outputs": [],
   "source": [
    "query = \"\"\"select *\n",
    "from zoocube.DDSTD_PPR_PHYS_PRODUCT\n",
    "where PPR_N_LEVEL4_ID in (283, 286, 192127)\"\"\""
   ]
  },
  {
   "cell_type": "code",
   "execution_count": 59,
   "metadata": {
    "ExecuteTime": {
     "end_time": "2018-09-26T13:13:51.901980Z",
     "start_time": "2018-09-26T13:13:50.441996Z"
    },
    "hidden": true
   },
   "outputs": [],
   "source": [
    "conn = cx_Oracle.connect('zooor', 'zoo12or', 'zoorep', threaded=True, encoding = \"UTF-8\", nencoding = \"UTF-8\")\n",
    "curs = conn.cursor()\n",
    "pg4ids = pd.read_sql(query, con = conn)\n",
    "conn.close()"
   ]
  },
  {
   "cell_type": "code",
   "execution_count": 60,
   "metadata": {
    "ExecuteTime": {
     "end_time": "2018-09-26T13:13:51.983980Z",
     "start_time": "2018-09-26T13:13:51.901980Z"
    },
    "hidden": true
   },
   "outputs": [
    {
     "data": {
      "text/html": [
       "<div>\n",
       "<style scoped>\n",
       "    .dataframe tbody tr th:only-of-type {\n",
       "        vertical-align: middle;\n",
       "    }\n",
       "\n",
       "    .dataframe tbody tr th {\n",
       "        vertical-align: top;\n",
       "    }\n",
       "\n",
       "    .dataframe thead th {\n",
       "        text-align: right;\n",
       "    }\n",
       "</style>\n",
       "<table border=\"1\" class=\"dataframe\">\n",
       "  <thead>\n",
       "    <tr style=\"text-align: right;\">\n",
       "      <th></th>\n",
       "      <th>PPR_N_KEY_PHYS_PRODUCT</th>\n",
       "      <th>PPR_N_PHY_PRODUCT_ID</th>\n",
       "      <th>PPR_N_PHY_ARTICLE_ID</th>\n",
       "      <th>PPR_V_PRODUCT_DESC</th>\n",
       "      <th>PPR_V_LOGISTICS_DESC</th>\n",
       "      <th>PPR_N_LEVEL1_ID</th>\n",
       "      <th>PPR_V_LEVEL1_DESC</th>\n",
       "      <th>PPR_N_LEVEL2_ID</th>\n",
       "      <th>PPR_V_LEVEL2_DESC</th>\n",
       "      <th>PPR_N_LEVEL3_ID</th>\n",
       "      <th>...</th>\n",
       "      <th>PPR_IS_HIGH_CLV</th>\n",
       "      <th>PPR_BRAND</th>\n",
       "      <th>PPR_PG_PRIORITY</th>\n",
       "      <th>PPR_EAN</th>\n",
       "      <th>PPR_NR_AT_SUPPLIER</th>\n",
       "      <th>PPR_AP_IS_LISTED</th>\n",
       "      <th>PPR_ARTICLE_CLASS_ID</th>\n",
       "      <th>PPR_ART_CLASS_DESC</th>\n",
       "      <th>PPR_TAX_CODE</th>\n",
       "      <th>PPR_APA_DESC</th>\n",
       "    </tr>\n",
       "  </thead>\n",
       "  <tbody>\n",
       "    <tr>\n",
       "      <th>0</th>\n",
       "      <td>5771</td>\n",
       "      <td>2159</td>\n",
       "      <td>3296</td>\n",
       "      <td>2159 - Pro Plan Dog Adult Dog Huhn + Reis</td>\n",
       "      <td>3296 - Pro Plan Dog Adult Dog - 15 kg</td>\n",
       "      <td>2719</td>\n",
       "      <td>2719 - zooplus.de</td>\n",
       "      <td>2</td>\n",
       "      <td>2 - Hund</td>\n",
       "      <td>251</td>\n",
       "      <td>...</td>\n",
       "      <td>High CLV Article</td>\n",
       "      <td>Pro Plan</td>\n",
       "      <td>2</td>\n",
       "      <td>3596980000583</td>\n",
       "      <td>5100138</td>\n",
       "      <td>0</td>\n",
       "      <td>26</td>\n",
       "      <td>Premium Brands by P, Nestle and Hills</td>\n",
       "      <td>Low</td>\n",
       "      <td>SKU</td>\n",
       "    </tr>\n",
       "    <tr>\n",
       "      <th>1</th>\n",
       "      <td>5772</td>\n",
       "      <td>2159</td>\n",
       "      <td>3295</td>\n",
       "      <td>2159 - Pro Plan Dog Adult Dog Huhn + Reis</td>\n",
       "      <td>3295 - Pro Plan Dog Adult Dog H- 3 kg</td>\n",
       "      <td>2719</td>\n",
       "      <td>2719 - zooplus.de</td>\n",
       "      <td>2</td>\n",
       "      <td>2 - Hund</td>\n",
       "      <td>251</td>\n",
       "      <td>...</td>\n",
       "      <td>High CLV Article</td>\n",
       "      <td>Pro Plan</td>\n",
       "      <td>2</td>\n",
       "      <td>7613033208263</td>\n",
       "      <td>12150307</td>\n",
       "      <td>0</td>\n",
       "      <td>26</td>\n",
       "      <td>Premium Brands by P, Nestle and Hills</td>\n",
       "      <td>Low</td>\n",
       "      <td>SKU</td>\n",
       "    </tr>\n",
       "    <tr>\n",
       "      <th>2</th>\n",
       "      <td>5773</td>\n",
       "      <td>2160</td>\n",
       "      <td>1495</td>\n",
       "      <td>2160 - Pro Plan Dog Performance Huhn</td>\n",
       "      <td>1495 - Pro Plan Dog Performanc- 800 g</td>\n",
       "      <td>2719</td>\n",
       "      <td>2719 - zooplus.de</td>\n",
       "      <td>2</td>\n",
       "      <td>2 - Hund</td>\n",
       "      <td>251</td>\n",
       "      <td>...</td>\n",
       "      <td>High CLV Article</td>\n",
       "      <td>Pro Plan</td>\n",
       "      <td>2</td>\n",
       "      <td>3596980000-651</td>\n",
       "      <td>1023300</td>\n",
       "      <td>0</td>\n",
       "      <td>26</td>\n",
       "      <td>Premium Brands by P, Nestle and Hills</td>\n",
       "      <td>Low</td>\n",
       "      <td>SKU</td>\n",
       "    </tr>\n",
       "    <tr>\n",
       "      <th>3</th>\n",
       "      <td>5775</td>\n",
       "      <td>2160</td>\n",
       "      <td>3418</td>\n",
       "      <td>2160 - Pro Plan Dog Performance Huhn</td>\n",
       "      <td>3418 - Pro Plan Dog Performanc- 15 kg</td>\n",
       "      <td>2719</td>\n",
       "      <td>2719 - zooplus.de</td>\n",
       "      <td>2</td>\n",
       "      <td>2 - Hund</td>\n",
       "      <td>251</td>\n",
       "      <td>...</td>\n",
       "      <td>High CLV Article</td>\n",
       "      <td>Pro Plan</td>\n",
       "      <td>2</td>\n",
       "      <td>3596980000682</td>\n",
       "      <td>05100158</td>\n",
       "      <td>0</td>\n",
       "      <td>26</td>\n",
       "      <td>Premium Brands by P, Nestle and Hills</td>\n",
       "      <td>Low</td>\n",
       "      <td>SKU</td>\n",
       "    </tr>\n",
       "    <tr>\n",
       "      <th>4</th>\n",
       "      <td>5776</td>\n",
       "      <td>2160</td>\n",
       "      <td>3416</td>\n",
       "      <td>2160 - Pro Plan Dog Performance Huhn</td>\n",
       "      <td>3416 - Pro Plan Dog Performance- 3 kg</td>\n",
       "      <td>2719</td>\n",
       "      <td>2719 - zooplus.de</td>\n",
       "      <td>2</td>\n",
       "      <td>2 - Hund</td>\n",
       "      <td>251</td>\n",
       "      <td>...</td>\n",
       "      <td>High CLV Article</td>\n",
       "      <td>Pro Plan</td>\n",
       "      <td>2</td>\n",
       "      <td>8410650530306</td>\n",
       "      <td>8473000</td>\n",
       "      <td>0</td>\n",
       "      <td>26</td>\n",
       "      <td>Premium Brands by P, Nestle and Hills</td>\n",
       "      <td>Low</td>\n",
       "      <td>SKU</td>\n",
       "    </tr>\n",
       "    <tr>\n",
       "      <th>5</th>\n",
       "      <td>5777</td>\n",
       "      <td>2161</td>\n",
       "      <td>1500</td>\n",
       "      <td>2161 - Pro Plan Dog Adult Light Huhn</td>\n",
       "      <td>1500 - Pro Plan Dog Adult Ligh- 800 g</td>\n",
       "      <td>2719</td>\n",
       "      <td>2719 - zooplus.de</td>\n",
       "      <td>2</td>\n",
       "      <td>2 - Hund</td>\n",
       "      <td>251</td>\n",
       "      <td>...</td>\n",
       "      <td>High CLV Article</td>\n",
       "      <td>Pro Plan</td>\n",
       "      <td>2</td>\n",
       "      <td>3596980000-705</td>\n",
       "      <td>8143000</td>\n",
       "      <td>0</td>\n",
       "      <td>26</td>\n",
       "      <td>Premium Brands by P, Nestle and Hills</td>\n",
       "      <td>Low</td>\n",
       "      <td>SKU</td>\n",
       "    </tr>\n",
       "    <tr>\n",
       "      <th>6</th>\n",
       "      <td>5778</td>\n",
       "      <td>2161</td>\n",
       "      <td>11891</td>\n",
       "      <td>2161 - Pro Plan Dog Adult Light Huhn</td>\n",
       "      <td>11891 - Pro Plan Dog Adult Light- 3 kg</td>\n",
       "      <td>2719</td>\n",
       "      <td>2719 - zooplus.de</td>\n",
       "      <td>2</td>\n",
       "      <td>2 - Hund</td>\n",
       "      <td>251</td>\n",
       "      <td>...</td>\n",
       "      <td>High CLV Article</td>\n",
       "      <td>Pro Plan</td>\n",
       "      <td>2</td>\n",
       "      <td>07613033209994</td>\n",
       "      <td>12150387</td>\n",
       "      <td>0</td>\n",
       "      <td>26</td>\n",
       "      <td>Premium Brands by P, Nestle and Hills</td>\n",
       "      <td>Low</td>\n",
       "      <td>SKU</td>\n",
       "    </tr>\n",
       "    <tr>\n",
       "      <th>7</th>\n",
       "      <td>5779</td>\n",
       "      <td>2161</td>\n",
       "      <td>3420</td>\n",
       "      <td>2161 - Pro Plan Dog Adult Light Huhn</td>\n",
       "      <td>3420 - Pro Plan Dog Adult Ligh- 15 kg</td>\n",
       "      <td>2719</td>\n",
       "      <td>2719 - zooplus.de</td>\n",
       "      <td>2</td>\n",
       "      <td>2 - Hund</td>\n",
       "      <td>251</td>\n",
       "      <td>...</td>\n",
       "      <td>High CLV Article</td>\n",
       "      <td>Pro Plan</td>\n",
       "      <td>2</td>\n",
       "      <td>3596980000736</td>\n",
       "      <td>5100163</td>\n",
       "      <td>0</td>\n",
       "      <td>26</td>\n",
       "      <td>Premium Brands by P, Nestle and Hills</td>\n",
       "      <td>Low</td>\n",
       "      <td>SKU</td>\n",
       "    </tr>\n",
       "    <tr>\n",
       "      <th>8</th>\n",
       "      <td>5780</td>\n",
       "      <td>2161</td>\n",
       "      <td>3419</td>\n",
       "      <td>2161 - Pro Plan Dog Adult Light Huhn</td>\n",
       "      <td>3419 - Pro Plan Dog Adult Lig- 7,5 kg</td>\n",
       "      <td>2719</td>\n",
       "      <td>2719 - zooplus.de</td>\n",
       "      <td>2</td>\n",
       "      <td>2 - Hund</td>\n",
       "      <td>251</td>\n",
       "      <td>...</td>\n",
       "      <td>High CLV Article</td>\n",
       "      <td>Pro Plan</td>\n",
       "      <td>2</td>\n",
       "      <td>8410650530758</td>\n",
       "      <td>8454000</td>\n",
       "      <td>0</td>\n",
       "      <td>26</td>\n",
       "      <td>Premium Brands by P, Nestle and Hills</td>\n",
       "      <td>Low</td>\n",
       "      <td>SKU</td>\n",
       "    </tr>\n",
       "    <tr>\n",
       "      <th>9</th>\n",
       "      <td>5782</td>\n",
       "      <td>2158</td>\n",
       "      <td>3294</td>\n",
       "      <td>2158 - Pro Plan Dog Puppy Huhn + Reis</td>\n",
       "      <td>3294 - Pro Plan Dog Puppy Huh- 7,5 kg</td>\n",
       "      <td>2719</td>\n",
       "      <td>2719 - zooplus.de</td>\n",
       "      <td>2</td>\n",
       "      <td>2 - Hund</td>\n",
       "      <td>251</td>\n",
       "      <td>...</td>\n",
       "      <td>High CLV Article</td>\n",
       "      <td>Pro Plan</td>\n",
       "      <td>2</td>\n",
       "      <td>3596980000439</td>\n",
       "      <td>5119955</td>\n",
       "      <td>0</td>\n",
       "      <td>26</td>\n",
       "      <td>Premium Brands by P, Nestle and Hills</td>\n",
       "      <td>Low</td>\n",
       "      <td>SKU</td>\n",
       "    </tr>\n",
       "    <tr>\n",
       "      <th>10</th>\n",
       "      <td>5783</td>\n",
       "      <td>2158</td>\n",
       "      <td>12034</td>\n",
       "      <td>2158 - Pro Plan Dog Puppy Huhn + Reis</td>\n",
       "      <td>12034 - Pro Plan Dog Puppy Huhn- 15 kg</td>\n",
       "      <td>2719</td>\n",
       "      <td>2719 - zooplus.de</td>\n",
       "      <td>2</td>\n",
       "      <td>2 - Hund</td>\n",
       "      <td>251</td>\n",
       "      <td>...</td>\n",
       "      <td>High CLV Article</td>\n",
       "      <td>Pro Plan</td>\n",
       "      <td>2</td>\n",
       "      <td>3596980000446</td>\n",
       "      <td>5100124</td>\n",
       "      <td>0</td>\n",
       "      <td>26</td>\n",
       "      <td>Premium Brands by P, Nestle and Hills</td>\n",
       "      <td>Low</td>\n",
       "      <td>SKU</td>\n",
       "    </tr>\n",
       "    <tr>\n",
       "      <th>11</th>\n",
       "      <td>5785</td>\n",
       "      <td>2158</td>\n",
       "      <td>1493</td>\n",
       "      <td>2158 - Pro Plan Dog Puppy Huhn + Reis</td>\n",
       "      <td>1493 - Pro Plan Dog Puppy Huhn- 800 g</td>\n",
       "      <td>2719</td>\n",
       "      <td>2719 - zooplus.de</td>\n",
       "      <td>2</td>\n",
       "      <td>2 - Hund</td>\n",
       "      <td>251</td>\n",
       "      <td>...</td>\n",
       "      <td>High CLV Article</td>\n",
       "      <td>Pro Plan</td>\n",
       "      <td>2</td>\n",
       "      <td>3596980000-415</td>\n",
       "      <td>1013300</td>\n",
       "      <td>0</td>\n",
       "      <td>26</td>\n",
       "      <td>Premium Brands by P, Nestle and Hills</td>\n",
       "      <td>Low</td>\n",
       "      <td>SKU</td>\n",
       "    </tr>\n",
       "    <tr>\n",
       "      <th>12</th>\n",
       "      <td>5786</td>\n",
       "      <td>7832</td>\n",
       "      <td>9067</td>\n",
       "      <td>7832 - Pro Plan Puppy Large Breed</td>\n",
       "      <td>9067 - Pro Plan Puppy Large Br- 15 kg</td>\n",
       "      <td>2719</td>\n",
       "      <td>2719 - zooplus.de</td>\n",
       "      <td>2</td>\n",
       "      <td>2 - Hund</td>\n",
       "      <td>251</td>\n",
       "      <td>...</td>\n",
       "      <td>High CLV Article</td>\n",
       "      <td>unknown</td>\n",
       "      <td>2</td>\n",
       "      <td>3596980001450</td>\n",
       "      <td>05100132</td>\n",
       "      <td>0</td>\n",
       "      <td>26</td>\n",
       "      <td>Premium Brands by P, Nestle and Hills</td>\n",
       "      <td>Low</td>\n",
       "      <td>SKU</td>\n",
       "    </tr>\n",
       "    <tr>\n",
       "      <th>13</th>\n",
       "      <td>5787</td>\n",
       "      <td>7832</td>\n",
       "      <td>9066</td>\n",
       "      <td>7832 - Pro Plan Puppy Large Breed</td>\n",
       "      <td>9066 - Pro Plan Puppy Large B- 7,5 kg</td>\n",
       "      <td>2719</td>\n",
       "      <td>2719 - zooplus.de</td>\n",
       "      <td>2</td>\n",
       "      <td>2 - Hund</td>\n",
       "      <td>251</td>\n",
       "      <td>...</td>\n",
       "      <td>High CLV Article</td>\n",
       "      <td>unknown</td>\n",
       "      <td>2</td>\n",
       "      <td>359680001434</td>\n",
       "      <td>9015700</td>\n",
       "      <td>0</td>\n",
       "      <td>26</td>\n",
       "      <td>Premium Brands by P, Nestle and Hills</td>\n",
       "      <td>Low</td>\n",
       "      <td>SKU</td>\n",
       "    </tr>\n",
       "    <tr>\n",
       "      <th>14</th>\n",
       "      <td>5788</td>\n",
       "      <td>7832</td>\n",
       "      <td>9064</td>\n",
       "      <td>7832 - Pro Plan Puppy Large Breed</td>\n",
       "      <td>9064 - Pro Plan Puppy Large Bre- 3 kg</td>\n",
       "      <td>2719</td>\n",
       "      <td>2719 - zooplus.de</td>\n",
       "      <td>2</td>\n",
       "      <td>2 - Hund</td>\n",
       "      <td>251</td>\n",
       "      <td>...</td>\n",
       "      <td>High CLV Article</td>\n",
       "      <td>unknown</td>\n",
       "      <td>2</td>\n",
       "      <td>359680001436</td>\n",
       "      <td>9015600</td>\n",
       "      <td>0</td>\n",
       "      <td>26</td>\n",
       "      <td>Premium Brands by P, Nestle and Hills</td>\n",
       "      <td>Low</td>\n",
       "      <td>SKU</td>\n",
       "    </tr>\n",
       "    <tr>\n",
       "      <th>15</th>\n",
       "      <td>5789</td>\n",
       "      <td>7832</td>\n",
       "      <td>1492</td>\n",
       "      <td>7832 - Pro Plan Puppy Large Breed</td>\n",
       "      <td>1492 - Pro Plan Puppy Large Br- 800 g</td>\n",
       "      <td>2719</td>\n",
       "      <td>2719 - zooplus.de</td>\n",
       "      <td>2</td>\n",
       "      <td>2 - Hund</td>\n",
       "      <td>251</td>\n",
       "      <td>...</td>\n",
       "      <td>High CLV Article</td>\n",
       "      <td>unknown</td>\n",
       "      <td>2</td>\n",
       "      <td>359680001429</td>\n",
       "      <td>9015500</td>\n",
       "      <td>0</td>\n",
       "      <td>26</td>\n",
       "      <td>Premium Brands by P, Nestle and Hills</td>\n",
       "      <td>Low</td>\n",
       "      <td>SKU</td>\n",
       "    </tr>\n",
       "    <tr>\n",
       "      <th>16</th>\n",
       "      <td>5790</td>\n",
       "      <td>18443</td>\n",
       "      <td>24236</td>\n",
       "      <td>18443 - Pro Plan Dog Puppy Sensitive Lachs &amp; Reis</td>\n",
       "      <td>24236 - Pro Plan Dog Puppy Sensi- 3 kg</td>\n",
       "      <td>2719</td>\n",
       "      <td>2719 - zooplus.de</td>\n",
       "      <td>2</td>\n",
       "      <td>2 - Hund</td>\n",
       "      <td>251</td>\n",
       "      <td>...</td>\n",
       "      <td>High CLV Article</td>\n",
       "      <td>Pro Plan</td>\n",
       "      <td>2</td>\n",
       "      <td>7613033208911</td>\n",
       "      <td>12150313</td>\n",
       "      <td>0</td>\n",
       "      <td>26</td>\n",
       "      <td>Premium Brands by P, Nestle and Hills</td>\n",
       "      <td>Low</td>\n",
       "      <td>SKU</td>\n",
       "    </tr>\n",
       "    <tr>\n",
       "      <th>17</th>\n",
       "      <td>5791</td>\n",
       "      <td>18443</td>\n",
       "      <td>24237</td>\n",
       "      <td>18443 - Pro Plan Dog Puppy Sensitive Lachs &amp; Reis</td>\n",
       "      <td>24237 - Pro Plan Dog Puppy Sens- 15 kg</td>\n",
       "      <td>2719</td>\n",
       "      <td>2719 - zooplus.de</td>\n",
       "      <td>2</td>\n",
       "      <td>2 - Hund</td>\n",
       "      <td>251</td>\n",
       "      <td>...</td>\n",
       "      <td>High CLV Article</td>\n",
       "      <td>Pro Plan</td>\n",
       "      <td>2</td>\n",
       "      <td>3222270552325</td>\n",
       "      <td>12029079</td>\n",
       "      <td>0</td>\n",
       "      <td>26</td>\n",
       "      <td>Premium Brands by P, Nestle and Hills</td>\n",
       "      <td>Low</td>\n",
       "      <td>SKU</td>\n",
       "    </tr>\n",
       "    <tr>\n",
       "      <th>18</th>\n",
       "      <td>5792</td>\n",
       "      <td>16853</td>\n",
       "      <td>22532</td>\n",
       "      <td>16853 - Pro Plan Dog Puppy Large Athletic Lamm...</td>\n",
       "      <td>22532 - Pro Plan Dog Puppy Large- 3 kg</td>\n",
       "      <td>2719</td>\n",
       "      <td>2719 - zooplus.de</td>\n",
       "      <td>2</td>\n",
       "      <td>2 - Hund</td>\n",
       "      <td>251</td>\n",
       "      <td>...</td>\n",
       "      <td>High CLV Article</td>\n",
       "      <td>Pro Plan</td>\n",
       "      <td>2</td>\n",
       "      <td>07613033208171</td>\n",
       "      <td>12150305</td>\n",
       "      <td>0</td>\n",
       "      <td>26</td>\n",
       "      <td>Premium Brands by P, Nestle and Hills</td>\n",
       "      <td>Low</td>\n",
       "      <td>SKU</td>\n",
       "    </tr>\n",
       "    <tr>\n",
       "      <th>19</th>\n",
       "      <td>5793</td>\n",
       "      <td>16853</td>\n",
       "      <td>21113</td>\n",
       "      <td>16853 - Pro Plan Dog Puppy Large Athletic Lamm...</td>\n",
       "      <td>21113 - Pro Plan Dog Puppy Larg- 15 kg</td>\n",
       "      <td>2719</td>\n",
       "      <td>2719 - zooplus.de</td>\n",
       "      <td>2</td>\n",
       "      <td>2 - Hund</td>\n",
       "      <td>251</td>\n",
       "      <td>...</td>\n",
       "      <td>High CLV Article</td>\n",
       "      <td>Pro Plan</td>\n",
       "      <td>2</td>\n",
       "      <td>7613031378579</td>\n",
       "      <td>12031983</td>\n",
       "      <td>0</td>\n",
       "      <td>26</td>\n",
       "      <td>Premium Brands by P, Nestle and Hills</td>\n",
       "      <td>Low</td>\n",
       "      <td>SKU</td>\n",
       "    </tr>\n",
       "    <tr>\n",
       "      <th>20</th>\n",
       "      <td>5794</td>\n",
       "      <td>16852</td>\n",
       "      <td>21112</td>\n",
       "      <td>16852 - Pro Plan Dog Puppy Large  Robust Huhn ...</td>\n",
       "      <td>21112 - Pro Plan Dog Puppy Larg- 15 kg</td>\n",
       "      <td>2719</td>\n",
       "      <td>2719 - zooplus.de</td>\n",
       "      <td>2</td>\n",
       "      <td>2 - Hund</td>\n",
       "      <td>251</td>\n",
       "      <td>...</td>\n",
       "      <td>High CLV Article</td>\n",
       "      <td>Pro Plan</td>\n",
       "      <td>2</td>\n",
       "      <td>7613031379521</td>\n",
       "      <td>12032120</td>\n",
       "      <td>0</td>\n",
       "      <td>26</td>\n",
       "      <td>Premium Brands by P, Nestle and Hills</td>\n",
       "      <td>Low</td>\n",
       "      <td>SKU</td>\n",
       "    </tr>\n",
       "    <tr>\n",
       "      <th>21</th>\n",
       "      <td>5721</td>\n",
       "      <td>17975</td>\n",
       "      <td>23381</td>\n",
       "      <td>17975 - Rucksack</td>\n",
       "      <td>23381 - Rucksack- gratis zu 15 kg</td>\n",
       "      <td>2719</td>\n",
       "      <td>2719 - zooplus.de</td>\n",
       "      <td>2</td>\n",
       "      <td>2 - Hund</td>\n",
       "      <td>251</td>\n",
       "      <td>...</td>\n",
       "      <td>High CLV Article</td>\n",
       "      <td>Pro Plan</td>\n",
       "      <td>2</td>\n",
       "      <td>NN</td>\n",
       "      <td>NN</td>\n",
       "      <td>0</td>\n",
       "      <td>26</td>\n",
       "      <td>Premium Brands by P, Nestle and Hills</td>\n",
       "      <td>High</td>\n",
       "      <td>SKU</td>\n",
       "    </tr>\n",
       "    <tr>\n",
       "      <th>22</th>\n",
       "      <td>5722</td>\n",
       "      <td>19498</td>\n",
       "      <td>26268</td>\n",
       "      <td>19498 - Taschenlampe</td>\n",
       "      <td>26268 - TaschenlamPro Plan Taschenlamp</td>\n",
       "      <td>2719</td>\n",
       "      <td>2719 - zooplus.de</td>\n",
       "      <td>2</td>\n",
       "      <td>2 - Hund</td>\n",
       "      <td>251</td>\n",
       "      <td>...</td>\n",
       "      <td>High CLV Article</td>\n",
       "      <td>unknown</td>\n",
       "      <td>2</td>\n",
       "      <td>NN</td>\n",
       "      <td>NN</td>\n",
       "      <td>0</td>\n",
       "      <td>26</td>\n",
       "      <td>Premium Brands by P, Nestle and Hills</td>\n",
       "      <td>High</td>\n",
       "      <td>SKU</td>\n",
       "    </tr>\n",
       "    <tr>\n",
       "      <th>23</th>\n",
       "      <td>5724</td>\n",
       "      <td>18757</td>\n",
       "      <td>24829</td>\n",
       "      <td>18757 - 18 kg Pro Plan Bonus Bags</td>\n",
       "      <td>24829 - 18 kg Pro P- Puppy Huhn &amp; Reis</td>\n",
       "      <td>2719</td>\n",
       "      <td>2719 - zooplus.de</td>\n",
       "      <td>2</td>\n",
       "      <td>2 - Hund</td>\n",
       "      <td>251</td>\n",
       "      <td>...</td>\n",
       "      <td>High CLV Article</td>\n",
       "      <td>unknown</td>\n",
       "      <td>2</td>\n",
       "      <td>3222270840453</td>\n",
       "      <td>12029225</td>\n",
       "      <td>0</td>\n",
       "      <td>26</td>\n",
       "      <td>Premium Brands by P, Nestle and Hills</td>\n",
       "      <td>Low</td>\n",
       "      <td>SKU</td>\n",
       "    </tr>\n",
       "    <tr>\n",
       "      <th>24</th>\n",
       "      <td>5725</td>\n",
       "      <td>18757</td>\n",
       "      <td>24833</td>\n",
       "      <td>18757 - 18 kg Pro Plan Bonus Bags</td>\n",
       "      <td>24833 - 18 kg Pro - Adult Digestion La</td>\n",
       "      <td>2719</td>\n",
       "      <td>2719 - zooplus.de</td>\n",
       "      <td>2</td>\n",
       "      <td>2 - Hund</td>\n",
       "      <td>251</td>\n",
       "      <td>...</td>\n",
       "      <td>High CLV Article</td>\n",
       "      <td>unknown</td>\n",
       "      <td>2</td>\n",
       "      <td>3222270840309</td>\n",
       "      <td>12036727</td>\n",
       "      <td>0</td>\n",
       "      <td>26</td>\n",
       "      <td>Premium Brands by P, Nestle and Hills</td>\n",
       "      <td>Low</td>\n",
       "      <td>SKU</td>\n",
       "    </tr>\n",
       "    <tr>\n",
       "      <th>25</th>\n",
       "      <td>5726</td>\n",
       "      <td>18757</td>\n",
       "      <td>24834</td>\n",
       "      <td>18757 - 18 kg Pro Plan Bonus Bags</td>\n",
       "      <td>24834 - 18 kg Pro - Adult Sensitive La</td>\n",
       "      <td>2719</td>\n",
       "      <td>2719 - zooplus.de</td>\n",
       "      <td>2</td>\n",
       "      <td>2 - Hund</td>\n",
       "      <td>251</td>\n",
       "      <td>...</td>\n",
       "      <td>High CLV Article</td>\n",
       "      <td>unknown</td>\n",
       "      <td>2</td>\n",
       "      <td>3222270809757</td>\n",
       "      <td>12033519</td>\n",
       "      <td>0</td>\n",
       "      <td>26</td>\n",
       "      <td>Premium Brands by P, Nestle and Hills</td>\n",
       "      <td>Low</td>\n",
       "      <td>SKU</td>\n",
       "    </tr>\n",
       "    <tr>\n",
       "      <th>26</th>\n",
       "      <td>5727</td>\n",
       "      <td>18757</td>\n",
       "      <td>24832</td>\n",
       "      <td>18757 - 18 kg Pro Plan Bonus Bags</td>\n",
       "      <td>24832 - 18 kg Pro P- Adult Huhn &amp; Reis</td>\n",
       "      <td>2719</td>\n",
       "      <td>2719 - zooplus.de</td>\n",
       "      <td>2</td>\n",
       "      <td>2 - Hund</td>\n",
       "      <td>251</td>\n",
       "      <td>...</td>\n",
       "      <td>High CLV Article</td>\n",
       "      <td>unknown</td>\n",
       "      <td>2</td>\n",
       "      <td>3222270840156</td>\n",
       "      <td>12036726</td>\n",
       "      <td>0</td>\n",
       "      <td>26</td>\n",
       "      <td>Premium Brands by P, Nestle and Hills</td>\n",
       "      <td>Low</td>\n",
       "      <td>SKU</td>\n",
       "    </tr>\n",
       "    <tr>\n",
       "      <th>27</th>\n",
       "      <td>5729</td>\n",
       "      <td>18757</td>\n",
       "      <td>24836</td>\n",
       "      <td>18757 - 18 kg Pro Plan Bonus Bags</td>\n",
       "      <td>24836 - 18 kg Pro - Adult Large Athlet</td>\n",
       "      <td>2719</td>\n",
       "      <td>2719 - zooplus.de</td>\n",
       "      <td>2</td>\n",
       "      <td>2 - Hund</td>\n",
       "      <td>251</td>\n",
       "      <td>...</td>\n",
       "      <td>High CLV Article</td>\n",
       "      <td>unknown</td>\n",
       "      <td>2</td>\n",
       "      <td>NN</td>\n",
       "      <td>12031828</td>\n",
       "      <td>0</td>\n",
       "      <td>26</td>\n",
       "      <td>Premium Brands by P, Nestle and Hills</td>\n",
       "      <td>Low</td>\n",
       "      <td>SKU</td>\n",
       "    </tr>\n",
       "    <tr>\n",
       "      <th>28</th>\n",
       "      <td>5730</td>\n",
       "      <td>18757</td>\n",
       "      <td>24835</td>\n",
       "      <td>18757 - 18 kg Pro Plan Bonus Bags</td>\n",
       "      <td>24835 - 18 kg Pro - Adult Large Robust</td>\n",
       "      <td>2719</td>\n",
       "      <td>2719 - zooplus.de</td>\n",
       "      <td>2</td>\n",
       "      <td>2 - Hund</td>\n",
       "      <td>251</td>\n",
       "      <td>...</td>\n",
       "      <td>High CLV Article</td>\n",
       "      <td>unknown</td>\n",
       "      <td>2</td>\n",
       "      <td>7613031485703</td>\n",
       "      <td>12041529</td>\n",
       "      <td>0</td>\n",
       "      <td>26</td>\n",
       "      <td>Premium Brands by P, Nestle and Hills</td>\n",
       "      <td>Low</td>\n",
       "      <td>SKU</td>\n",
       "    </tr>\n",
       "    <tr>\n",
       "      <th>29</th>\n",
       "      <td>5731</td>\n",
       "      <td>19884</td>\n",
       "      <td>26975</td>\n",
       "      <td>19884 - Hundepfeife</td>\n",
       "      <td>26975 - Hundepfeif- gratis zu 15 kg Pr</td>\n",
       "      <td>2719</td>\n",
       "      <td>2719 - zooplus.de</td>\n",
       "      <td>2</td>\n",
       "      <td>2 - Hund</td>\n",
       "      <td>251</td>\n",
       "      <td>...</td>\n",
       "      <td>High CLV Article</td>\n",
       "      <td>unknown</td>\n",
       "      <td>2</td>\n",
       "      <td>NN</td>\n",
       "      <td>NN</td>\n",
       "      <td>0</td>\n",
       "      <td>26</td>\n",
       "      <td>Premium Brands by P, Nestle and Hills</td>\n",
       "      <td>High</td>\n",
       "      <td>SKU</td>\n",
       "    </tr>\n",
       "    <tr>\n",
       "      <th>...</th>\n",
       "      <td>...</td>\n",
       "      <td>...</td>\n",
       "      <td>...</td>\n",
       "      <td>...</td>\n",
       "      <td>...</td>\n",
       "      <td>...</td>\n",
       "      <td>...</td>\n",
       "      <td>...</td>\n",
       "      <td>...</td>\n",
       "      <td>...</td>\n",
       "      <td>...</td>\n",
       "      <td>...</td>\n",
       "      <td>...</td>\n",
       "      <td>...</td>\n",
       "      <td>...</td>\n",
       "      <td>...</td>\n",
       "      <td>...</td>\n",
       "      <td>...</td>\n",
       "      <td>...</td>\n",
       "      <td>...</td>\n",
       "      <td>...</td>\n",
       "    </tr>\n",
       "    <tr>\n",
       "      <th>293</th>\n",
       "      <td>126700638</td>\n",
       "      <td>52257</td>\n",
       "      <td>73841</td>\n",
       "      <td>52257 - MP Pro Plan Cat KITTEN 24x85g</td>\n",
       "      <td>73841 - MPProPlanCatKITTEChicken24x85g</td>\n",
       "      <td>2719</td>\n",
       "      <td>2719 - zooplus.de</td>\n",
       "      <td>3</td>\n",
       "      <td>3 - Katze</td>\n",
       "      <td>2068</td>\n",
       "      <td>...</td>\n",
       "      <td>High CLV Article</td>\n",
       "      <td>Pro Plan</td>\n",
       "      <td>1</td>\n",
       "      <td>7613033568619</td>\n",
       "      <td>12171997</td>\n",
       "      <td>1</td>\n",
       "      <td>26</td>\n",
       "      <td>Premium Brands by P, Nestle and Hills</td>\n",
       "      <td>Low</td>\n",
       "      <td>SKU</td>\n",
       "    </tr>\n",
       "    <tr>\n",
       "      <th>294</th>\n",
       "      <td>126700639</td>\n",
       "      <td>52258</td>\n",
       "      <td>73842</td>\n",
       "      <td>52258 - MP Pro Plan Cat Nutrisavour STERILISED...</td>\n",
       "      <td>73842 - MP PPlan Nutri STERILChkn10x85</td>\n",
       "      <td>2719</td>\n",
       "      <td>2719 - zooplus.de</td>\n",
       "      <td>3</td>\n",
       "      <td>3 - Katze</td>\n",
       "      <td>2068</td>\n",
       "      <td>...</td>\n",
       "      <td>High CLV Article</td>\n",
       "      <td>Pro Plan</td>\n",
       "      <td>1</td>\n",
       "      <td>7613034771186</td>\n",
       "      <td>12250098</td>\n",
       "      <td>0</td>\n",
       "      <td>26</td>\n",
       "      <td>Premium Brands by P, Nestle and Hills</td>\n",
       "      <td>Low</td>\n",
       "      <td>SKU</td>\n",
       "    </tr>\n",
       "    <tr>\n",
       "      <th>295</th>\n",
       "      <td>126700640</td>\n",
       "      <td>52256</td>\n",
       "      <td>73744</td>\n",
       "      <td>52256 - MP Pro Plan Cat Nutrisavour KITTEN 10x85g</td>\n",
       "      <td>73744 - MP PPlan Nutri KITTENChkn10x85</td>\n",
       "      <td>2719</td>\n",
       "      <td>2719 - zooplus.de</td>\n",
       "      <td>3</td>\n",
       "      <td>3 - Katze</td>\n",
       "      <td>2068</td>\n",
       "      <td>...</td>\n",
       "      <td>High CLV Article</td>\n",
       "      <td>Pro Plan</td>\n",
       "      <td>1</td>\n",
       "      <td>7613035680357</td>\n",
       "      <td>12310842</td>\n",
       "      <td>0</td>\n",
       "      <td>26</td>\n",
       "      <td>Premium Brands by P, Nestle and Hills</td>\n",
       "      <td>Low</td>\n",
       "      <td>SKU</td>\n",
       "    </tr>\n",
       "    <tr>\n",
       "      <th>296</th>\n",
       "      <td>126700641</td>\n",
       "      <td>52266</td>\n",
       "      <td>73746</td>\n",
       "      <td>52266 - MP Pro Plan Cat LIGHT 24x 85g</td>\n",
       "      <td>73746 - MP ProPlanCatLIGHTTurkey24x85g</td>\n",
       "      <td>2719</td>\n",
       "      <td>2719 - zooplus.de</td>\n",
       "      <td>3</td>\n",
       "      <td>3 - Katze</td>\n",
       "      <td>2068</td>\n",
       "      <td>...</td>\n",
       "      <td>High CLV Article</td>\n",
       "      <td>Pro Plan</td>\n",
       "      <td>1</td>\n",
       "      <td>3222270776424</td>\n",
       "      <td>12065874</td>\n",
       "      <td>1</td>\n",
       "      <td>26</td>\n",
       "      <td>Premium Brands by P, Nestle and Hills</td>\n",
       "      <td>Low</td>\n",
       "      <td>SKU</td>\n",
       "    </tr>\n",
       "    <tr>\n",
       "      <th>297</th>\n",
       "      <td>126700642</td>\n",
       "      <td>52255</td>\n",
       "      <td>73743</td>\n",
       "      <td>52255 - MP Pro Plan Cat Nutrisavour HOUSECAT 1...</td>\n",
       "      <td>73743 - MP PPlan Nutri HOUSESlmn 10x85</td>\n",
       "      <td>2719</td>\n",
       "      <td>2719 - zooplus.de</td>\n",
       "      <td>3</td>\n",
       "      <td>3 - Katze</td>\n",
       "      <td>2068</td>\n",
       "      <td>...</td>\n",
       "      <td>High CLV Article</td>\n",
       "      <td>Pro Plan</td>\n",
       "      <td>1</td>\n",
       "      <td>7613034769923</td>\n",
       "      <td>12250102</td>\n",
       "      <td>0</td>\n",
       "      <td>26</td>\n",
       "      <td>Premium Brands by P, Nestle and Hills</td>\n",
       "      <td>Low</td>\n",
       "      <td>SKU</td>\n",
       "    </tr>\n",
       "    <tr>\n",
       "      <th>298</th>\n",
       "      <td>126700645</td>\n",
       "      <td>52251</td>\n",
       "      <td>73835</td>\n",
       "      <td>52251 - MP Pro Plan Cat ADULT 24x85g</td>\n",
       "      <td>73835 - MPProPlanCatADULTChicken24x85g</td>\n",
       "      <td>2719</td>\n",
       "      <td>2719 - zooplus.de</td>\n",
       "      <td>3</td>\n",
       "      <td>3 - Katze</td>\n",
       "      <td>2068</td>\n",
       "      <td>...</td>\n",
       "      <td>High CLV Article</td>\n",
       "      <td>Pro Plan</td>\n",
       "      <td>1</td>\n",
       "      <td>3222270776431</td>\n",
       "      <td>12065833</td>\n",
       "      <td>1</td>\n",
       "      <td>26</td>\n",
       "      <td>Premium Brands by P, Nestle and Hills</td>\n",
       "      <td>Low</td>\n",
       "      <td>SKU</td>\n",
       "    </tr>\n",
       "    <tr>\n",
       "      <th>299</th>\n",
       "      <td>126700647</td>\n",
       "      <td>52252</td>\n",
       "      <td>73836</td>\n",
       "      <td>52252 - MP Pro Plan Cat Nutrisavour ADULT 10x85g</td>\n",
       "      <td>73836 - MP PPlan Nutri ADULT Lamb10x85</td>\n",
       "      <td>2719</td>\n",
       "      <td>2719 - zooplus.de</td>\n",
       "      <td>3</td>\n",
       "      <td>3 - Katze</td>\n",
       "      <td>2068</td>\n",
       "      <td>...</td>\n",
       "      <td>High CLV Article</td>\n",
       "      <td>Pro Plan</td>\n",
       "      <td>1</td>\n",
       "      <td>7613035680388</td>\n",
       "      <td>12310843</td>\n",
       "      <td>0</td>\n",
       "      <td>26</td>\n",
       "      <td>Premium Brands by P, Nestle and Hills</td>\n",
       "      <td>Low</td>\n",
       "      <td>SKU</td>\n",
       "    </tr>\n",
       "    <tr>\n",
       "      <th>300</th>\n",
       "      <td>126700648</td>\n",
       "      <td>52258</td>\n",
       "      <td>73844</td>\n",
       "      <td>52258 - MP Pro Plan Cat Nutrisavour STERILISED...</td>\n",
       "      <td>73844 - MP PPlan Nutri STERILTurk10x85</td>\n",
       "      <td>2719</td>\n",
       "      <td>2719 - zooplus.de</td>\n",
       "      <td>3</td>\n",
       "      <td>3 - Katze</td>\n",
       "      <td>2068</td>\n",
       "      <td>...</td>\n",
       "      <td>High CLV Article</td>\n",
       "      <td>Pro Plan</td>\n",
       "      <td>1</td>\n",
       "      <td>7613035680227</td>\n",
       "      <td>12310841</td>\n",
       "      <td>0</td>\n",
       "      <td>26</td>\n",
       "      <td>Premium Brands by P, Nestle and Hills</td>\n",
       "      <td>Low</td>\n",
       "      <td>SKU</td>\n",
       "    </tr>\n",
       "    <tr>\n",
       "      <th>301</th>\n",
       "      <td>126700649</td>\n",
       "      <td>52254</td>\n",
       "      <td>73741</td>\n",
       "      <td>52254 - MP Pro Plan Cat Nutrisavour DELICATE 1...</td>\n",
       "      <td>73741 - MP PPlan NutriDELICTFish 10x85</td>\n",
       "      <td>2719</td>\n",
       "      <td>2719 - zooplus.de</td>\n",
       "      <td>3</td>\n",
       "      <td>3 - Katze</td>\n",
       "      <td>2068</td>\n",
       "      <td>...</td>\n",
       "      <td>High CLV Article</td>\n",
       "      <td>Pro Plan</td>\n",
       "      <td>1</td>\n",
       "      <td>7613034771155</td>\n",
       "      <td>12250099</td>\n",
       "      <td>0</td>\n",
       "      <td>26</td>\n",
       "      <td>Premium Brands by P, Nestle and Hills</td>\n",
       "      <td>Low</td>\n",
       "      <td>SKU</td>\n",
       "    </tr>\n",
       "    <tr>\n",
       "      <th>302</th>\n",
       "      <td>126700650</td>\n",
       "      <td>52267</td>\n",
       "      <td>73747</td>\n",
       "      <td>52267 - MP Pro Plan Cat ADULT 7+ 24x85g</td>\n",
       "      <td>73747 - MP ProPlan Cat Adu7+Tuna24x85g</td>\n",
       "      <td>2719</td>\n",
       "      <td>2719 - zooplus.de</td>\n",
       "      <td>3</td>\n",
       "      <td>3 - Katze</td>\n",
       "      <td>2068</td>\n",
       "      <td>...</td>\n",
       "      <td>High CLV Article</td>\n",
       "      <td>Pro Plan</td>\n",
       "      <td>1</td>\n",
       "      <td>7613033568589</td>\n",
       "      <td>12171996</td>\n",
       "      <td>1</td>\n",
       "      <td>26</td>\n",
       "      <td>Premium Brands by P, Nestle and Hills</td>\n",
       "      <td>Low</td>\n",
       "      <td>SKU</td>\n",
       "    </tr>\n",
       "    <tr>\n",
       "      <th>303</th>\n",
       "      <td>126700655</td>\n",
       "      <td>52258</td>\n",
       "      <td>73843</td>\n",
       "      <td>52258 - MP Pro Plan Cat Nutrisavour STERILISED...</td>\n",
       "      <td>73843 - MP PPlan Nutri STERILFish10x85</td>\n",
       "      <td>2719</td>\n",
       "      <td>2719 - zooplus.de</td>\n",
       "      <td>3</td>\n",
       "      <td>3 - Katze</td>\n",
       "      <td>2068</td>\n",
       "      <td>...</td>\n",
       "      <td>High CLV Article</td>\n",
       "      <td>Pro Plan</td>\n",
       "      <td>1</td>\n",
       "      <td>7613035680197</td>\n",
       "      <td>12310840</td>\n",
       "      <td>0</td>\n",
       "      <td>26</td>\n",
       "      <td>Premium Brands by P, Nestle and Hills</td>\n",
       "      <td>Low</td>\n",
       "      <td>SKU</td>\n",
       "    </tr>\n",
       "    <tr>\n",
       "      <th>304</th>\n",
       "      <td>126700656</td>\n",
       "      <td>52252</td>\n",
       "      <td>73837</td>\n",
       "      <td>52252 - MP Pro Plan Cat Nutrisavour ADULT 10x85g</td>\n",
       "      <td>73837 - MP PPlanNutriADULTTurkey 10x85</td>\n",
       "      <td>2719</td>\n",
       "      <td>2719 - zooplus.de</td>\n",
       "      <td>3</td>\n",
       "      <td>3 - Katze</td>\n",
       "      <td>2068</td>\n",
       "      <td>...</td>\n",
       "      <td>High CLV Article</td>\n",
       "      <td>Pro Plan</td>\n",
       "      <td>1</td>\n",
       "      <td>7613035680418</td>\n",
       "      <td>12310844</td>\n",
       "      <td>0</td>\n",
       "      <td>26</td>\n",
       "      <td>Premium Brands by P, Nestle and Hills</td>\n",
       "      <td>Low</td>\n",
       "      <td>SKU</td>\n",
       "    </tr>\n",
       "    <tr>\n",
       "      <th>305</th>\n",
       "      <td>132164420</td>\n",
       "      <td>51924</td>\n",
       "      <td>75697</td>\n",
       "      <td>51924 - Pro Plan Medium Adult Lamm</td>\n",
       "      <td>75697 - Pplan Medium Adult Lamb 3Kg</td>\n",
       "      <td>2719</td>\n",
       "      <td>2719 - zooplus.de</td>\n",
       "      <td>2</td>\n",
       "      <td>2 - Hund</td>\n",
       "      <td>251</td>\n",
       "      <td>...</td>\n",
       "      <td>High CLV Article</td>\n",
       "      <td>Pro Plan</td>\n",
       "      <td>2</td>\n",
       "      <td>7613035214798</td>\n",
       "      <td>12278098</td>\n",
       "      <td>1</td>\n",
       "      <td>26</td>\n",
       "      <td>Premium Brands by P, Nestle and Hills</td>\n",
       "      <td>Low</td>\n",
       "      <td>SKU</td>\n",
       "    </tr>\n",
       "    <tr>\n",
       "      <th>306</th>\n",
       "      <td>132164424</td>\n",
       "      <td>51925</td>\n",
       "      <td>75696</td>\n",
       "      <td>51925 - Pro Plan Medium Puppy Lamm</td>\n",
       "      <td>75696 - Pplan Medium Puppy Lamb 3Kg</td>\n",
       "      <td>2719</td>\n",
       "      <td>2719 - zooplus.de</td>\n",
       "      <td>2</td>\n",
       "      <td>2 - Hund</td>\n",
       "      <td>251</td>\n",
       "      <td>...</td>\n",
       "      <td>High CLV Article</td>\n",
       "      <td>Pro Plan</td>\n",
       "      <td>2</td>\n",
       "      <td>7613035214811</td>\n",
       "      <td>12278099</td>\n",
       "      <td>1</td>\n",
       "      <td>26</td>\n",
       "      <td>Premium Brands by P, Nestle and Hills</td>\n",
       "      <td>Low</td>\n",
       "      <td>SKU</td>\n",
       "    </tr>\n",
       "    <tr>\n",
       "      <th>307</th>\n",
       "      <td>135865069</td>\n",
       "      <td>54571</td>\n",
       "      <td>77545</td>\n",
       "      <td>54571 - PP Large Adult Athletic Sensitive Skin...</td>\n",
       "      <td>77545 - PP Large Ad Ath Sens Skin 14Kg</td>\n",
       "      <td>2719</td>\n",
       "      <td>2719 - zooplus.de</td>\n",
       "      <td>2</td>\n",
       "      <td>2 - Hund</td>\n",
       "      <td>251</td>\n",
       "      <td>...</td>\n",
       "      <td>High CLV Article</td>\n",
       "      <td>Pro Plan</td>\n",
       "      <td>2</td>\n",
       "      <td>7613035417045</td>\n",
       "      <td>12294770</td>\n",
       "      <td>1</td>\n",
       "      <td>26</td>\n",
       "      <td>Premium Brands by P, Nestle and Hills</td>\n",
       "      <td>Low</td>\n",
       "      <td>SKU</td>\n",
       "    </tr>\n",
       "    <tr>\n",
       "      <th>308</th>\n",
       "      <td>135865093</td>\n",
       "      <td>54572</td>\n",
       "      <td>77546</td>\n",
       "      <td>54572 - PP Large Adult Robust Sensitive Skin S...</td>\n",
       "      <td>77546 - PP Lrg Ad Rbst Sens Skin 14Kg</td>\n",
       "      <td>2719</td>\n",
       "      <td>2719 - zooplus.de</td>\n",
       "      <td>2</td>\n",
       "      <td>2 - Hund</td>\n",
       "      <td>251</td>\n",
       "      <td>...</td>\n",
       "      <td>High CLV Article</td>\n",
       "      <td>Pro Plan</td>\n",
       "      <td>2</td>\n",
       "      <td>7613035417298</td>\n",
       "      <td>12294793</td>\n",
       "      <td>1</td>\n",
       "      <td>26</td>\n",
       "      <td>Premium Brands by P, Nestle and Hills</td>\n",
       "      <td>Low</td>\n",
       "      <td>SKU</td>\n",
       "    </tr>\n",
       "    <tr>\n",
       "      <th>309</th>\n",
       "      <td>139920735</td>\n",
       "      <td>48310</td>\n",
       "      <td>78464</td>\n",
       "      <td>48310 - Pro Plan Medium &amp; Large Adult 7+ Sensi...</td>\n",
       "      <td>78464 - ProPlan MedLarg+7 SensSkin 3Kg</td>\n",
       "      <td>2719</td>\n",
       "      <td>2719 - zooplus.de</td>\n",
       "      <td>2</td>\n",
       "      <td>2 - Hund</td>\n",
       "      <td>251</td>\n",
       "      <td>...</td>\n",
       "      <td>High CLV Article</td>\n",
       "      <td>Pro Plan</td>\n",
       "      <td>2</td>\n",
       "      <td>7613035125032</td>\n",
       "      <td>12272683</td>\n",
       "      <td>1</td>\n",
       "      <td>26</td>\n",
       "      <td>Premium Brands by P, Nestle and Hills</td>\n",
       "      <td>Low</td>\n",
       "      <td>SKU</td>\n",
       "    </tr>\n",
       "    <tr>\n",
       "      <th>310</th>\n",
       "      <td>139920759</td>\n",
       "      <td>55289</td>\n",
       "      <td>78463</td>\n",
       "      <td>55289 - Pro Plan Small and Mini Stv Digestion ...</td>\n",
       "      <td>78463 - ProPlan S&amp;M Sens Dig Chkn 3Kg</td>\n",
       "      <td>2719</td>\n",
       "      <td>2719 - zooplus.de</td>\n",
       "      <td>2</td>\n",
       "      <td>2 - Hund</td>\n",
       "      <td>251</td>\n",
       "      <td>...</td>\n",
       "      <td>High CLV Article</td>\n",
       "      <td>Pro Plan</td>\n",
       "      <td>2</td>\n",
       "      <td>7613035123779</td>\n",
       "      <td>12272646</td>\n",
       "      <td>1</td>\n",
       "      <td>26</td>\n",
       "      <td>Premium Brands by P, Nestle and Hills</td>\n",
       "      <td>Low</td>\n",
       "      <td>SKU</td>\n",
       "    </tr>\n",
       "    <tr>\n",
       "      <th>311</th>\n",
       "      <td>139920767</td>\n",
       "      <td>48367</td>\n",
       "      <td>78647</td>\n",
       "      <td>48367 - Pro Plan All sizes Adult Light Sterili...</td>\n",
       "      <td>78647 - ProPlan AllSiz Chkn 3Kg</td>\n",
       "      <td>2719</td>\n",
       "      <td>2719 - zooplus.de</td>\n",
       "      <td>2</td>\n",
       "      <td>2 - Hund</td>\n",
       "      <td>251</td>\n",
       "      <td>...</td>\n",
       "      <td>High CLV Article</td>\n",
       "      <td>Pro Plan</td>\n",
       "      <td>2</td>\n",
       "      <td>7613035123779</td>\n",
       "      <td>12272618</td>\n",
       "      <td>1</td>\n",
       "      <td>26</td>\n",
       "      <td>Premium Brands by P, Nestle and Hills</td>\n",
       "      <td>Low</td>\n",
       "      <td>SKU</td>\n",
       "    </tr>\n",
       "    <tr>\n",
       "      <th>312</th>\n",
       "      <td>143227514</td>\n",
       "      <td>56388</td>\n",
       "      <td>79735</td>\n",
       "      <td>56388 - MP Pro Plan Cat Nutrisavour ADULT+7 10...</td>\n",
       "      <td>79735 - MP PP AD+7 10x85 Trky in Sauce</td>\n",
       "      <td>2719</td>\n",
       "      <td>2719 - zooplus.de</td>\n",
       "      <td>3</td>\n",
       "      <td>3 - Katze</td>\n",
       "      <td>2068</td>\n",
       "      <td>...</td>\n",
       "      <td>High CLV Article</td>\n",
       "      <td>Pro Plan</td>\n",
       "      <td>1</td>\n",
       "      <td>7613036152464</td>\n",
       "      <td>12342772</td>\n",
       "      <td>0</td>\n",
       "      <td>26</td>\n",
       "      <td>Premium Brands by P, Nestle and Hills</td>\n",
       "      <td>Low</td>\n",
       "      <td>SKU</td>\n",
       "    </tr>\n",
       "    <tr>\n",
       "      <th>313</th>\n",
       "      <td>143227525</td>\n",
       "      <td>56389</td>\n",
       "      <td>79737</td>\n",
       "      <td>56389 - MP Pro Plan Cat Nutrisavour DERMA PLUS...</td>\n",
       "      <td>79737 - MP PP DERMA+ 10x85 Cod in Sauc</td>\n",
       "      <td>2719</td>\n",
       "      <td>2719 - zooplus.de</td>\n",
       "      <td>3</td>\n",
       "      <td>3 - Katze</td>\n",
       "      <td>2068</td>\n",
       "      <td>...</td>\n",
       "      <td>High CLV Article</td>\n",
       "      <td>Pro Plan</td>\n",
       "      <td>1</td>\n",
       "      <td>7613036149341</td>\n",
       "      <td>12342525</td>\n",
       "      <td>0</td>\n",
       "      <td>26</td>\n",
       "      <td>Premium Brands by P, Nestle and Hills</td>\n",
       "      <td>Low</td>\n",
       "      <td>SKU</td>\n",
       "    </tr>\n",
       "    <tr>\n",
       "      <th>314</th>\n",
       "      <td>142986138</td>\n",
       "      <td>52252</td>\n",
       "      <td>79722</td>\n",
       "      <td>52252 - MP Pro Plan Cat Nutrisavour ADULT 10x85g</td>\n",
       "      <td>79722 - MP PP AD+7 10x85 Trky in Sauce</td>\n",
       "      <td>2719</td>\n",
       "      <td>2719 - zooplus.de</td>\n",
       "      <td>3</td>\n",
       "      <td>3 - Katze</td>\n",
       "      <td>2068</td>\n",
       "      <td>...</td>\n",
       "      <td>High CLV Article</td>\n",
       "      <td>Pro Plan</td>\n",
       "      <td>1</td>\n",
       "      <td>7613036152464</td>\n",
       "      <td>12342772</td>\n",
       "      <td>0</td>\n",
       "      <td>26</td>\n",
       "      <td>Premium Brands by P, Nestle and Hills</td>\n",
       "      <td>Low</td>\n",
       "      <td>SKU</td>\n",
       "    </tr>\n",
       "    <tr>\n",
       "      <th>315</th>\n",
       "      <td>150153530</td>\n",
       "      <td>43073</td>\n",
       "      <td>81623</td>\n",
       "      <td>43073 - Pro Plan Duo Delice Huhn</td>\n",
       "      <td>81623 - PPD Duo Delice Adult Huhn 10Kg</td>\n",
       "      <td>2719</td>\n",
       "      <td>2719 - zooplus.de</td>\n",
       "      <td>2</td>\n",
       "      <td>2 - Hund</td>\n",
       "      <td>251</td>\n",
       "      <td>...</td>\n",
       "      <td>High CLV Article</td>\n",
       "      <td>Pro Plan</td>\n",
       "      <td>2</td>\n",
       "      <td>7613034083746</td>\n",
       "      <td>12338885</td>\n",
       "      <td>1</td>\n",
       "      <td>26</td>\n",
       "      <td>Premium Brands by P, Nestle and Hills</td>\n",
       "      <td>Low</td>\n",
       "      <td>SKU</td>\n",
       "    </tr>\n",
       "    <tr>\n",
       "      <th>316</th>\n",
       "      <td>150153536</td>\n",
       "      <td>45184</td>\n",
       "      <td>81720</td>\n",
       "      <td>45184 - PRO PLAN Duo Delice Adult Rind</td>\n",
       "      <td>81720 - PPD Duo Delice Adult Rind 10Kg</td>\n",
       "      <td>2719</td>\n",
       "      <td>2719 - zooplus.de</td>\n",
       "      <td>2</td>\n",
       "      <td>2 - Hund</td>\n",
       "      <td>251</td>\n",
       "      <td>...</td>\n",
       "      <td>High CLV Article</td>\n",
       "      <td>Pro Plan</td>\n",
       "      <td>2</td>\n",
       "      <td>7613034083784</td>\n",
       "      <td>12338883</td>\n",
       "      <td>1</td>\n",
       "      <td>26</td>\n",
       "      <td>Premium Brands by P, Nestle and Hills</td>\n",
       "      <td>Low</td>\n",
       "      <td>SKU</td>\n",
       "    </tr>\n",
       "    <tr>\n",
       "      <th>317</th>\n",
       "      <td>150215039</td>\n",
       "      <td>58133</td>\n",
       "      <td>81624</td>\n",
       "      <td>58133 - Pro Plan Duo Delice Small Breed Rind</td>\n",
       "      <td>81624 - PPD Duo Delice SML Rind 2,5Kg</td>\n",
       "      <td>2719</td>\n",
       "      <td>2719 - zooplus.de</td>\n",
       "      <td>2</td>\n",
       "      <td>2 - Hund</td>\n",
       "      <td>251</td>\n",
       "      <td>...</td>\n",
       "      <td>High CLV Article</td>\n",
       "      <td>Pro Plan</td>\n",
       "      <td>2</td>\n",
       "      <td>7613034819758</td>\n",
       "      <td>12251948</td>\n",
       "      <td>1</td>\n",
       "      <td>26</td>\n",
       "      <td>Premium Brands by P, Nestle and Hills</td>\n",
       "      <td>Low</td>\n",
       "      <td>SKU</td>\n",
       "    </tr>\n",
       "    <tr>\n",
       "      <th>318</th>\n",
       "      <td>143167159</td>\n",
       "      <td>52252</td>\n",
       "      <td>79736</td>\n",
       "      <td>52252 - MP Pro Plan Cat Nutrisavour ADULT 10x85g</td>\n",
       "      <td>79736 - MP PP ADLT 10x85 Duck in Sauce</td>\n",
       "      <td>2719</td>\n",
       "      <td>2719 - zooplus.de</td>\n",
       "      <td>3</td>\n",
       "      <td>3 - Katze</td>\n",
       "      <td>2068</td>\n",
       "      <td>...</td>\n",
       "      <td>High CLV Article</td>\n",
       "      <td>Pro Plan</td>\n",
       "      <td>1</td>\n",
       "      <td>7613036152488</td>\n",
       "      <td>12342773</td>\n",
       "      <td>0</td>\n",
       "      <td>26</td>\n",
       "      <td>Premium Brands by P, Nestle and Hills</td>\n",
       "      <td>Low</td>\n",
       "      <td>SKU</td>\n",
       "    </tr>\n",
       "    <tr>\n",
       "      <th>319</th>\n",
       "      <td>154423723</td>\n",
       "      <td>47445</td>\n",
       "      <td>83001</td>\n",
       "      <td>47445 - Pro Plan Duo Delice Small Breed</td>\n",
       "      <td>83001 - PP Duo Delice SM Breed 2,5Kg</td>\n",
       "      <td>2719</td>\n",
       "      <td>2719 - zooplus.de</td>\n",
       "      <td>2</td>\n",
       "      <td>2 - Hund</td>\n",
       "      <td>251</td>\n",
       "      <td>...</td>\n",
       "      <td>High CLV Article</td>\n",
       "      <td>Pro Plan</td>\n",
       "      <td>2</td>\n",
       "      <td>7613034819406</td>\n",
       "      <td>12338878</td>\n",
       "      <td>1</td>\n",
       "      <td>26</td>\n",
       "      <td>Premium Brands by P, Nestle and Hills</td>\n",
       "      <td>Low</td>\n",
       "      <td>SKU</td>\n",
       "    </tr>\n",
       "    <tr>\n",
       "      <th>320</th>\n",
       "      <td>154860080</td>\n",
       "      <td>48307</td>\n",
       "      <td>83211</td>\n",
       "      <td>48307 - Pro Plan Medium Puppy Huhn &amp; Reis</td>\n",
       "      <td>83211 - PP Medium Puppy KIT 3Kg</td>\n",
       "      <td>2719</td>\n",
       "      <td>2719 - zooplus.de</td>\n",
       "      <td>2</td>\n",
       "      <td>2 - Hund</td>\n",
       "      <td>251</td>\n",
       "      <td>...</td>\n",
       "      <td>High CLV Article</td>\n",
       "      <td>Pro Plan</td>\n",
       "      <td>2</td>\n",
       "      <td>7613036627306</td>\n",
       "      <td>12378468</td>\n",
       "      <td>0</td>\n",
       "      <td>26</td>\n",
       "      <td>Premium Brands by P, Nestle and Hills</td>\n",
       "      <td>Low</td>\n",
       "      <td>SKU</td>\n",
       "    </tr>\n",
       "    <tr>\n",
       "      <th>321</th>\n",
       "      <td>154860082</td>\n",
       "      <td>48367</td>\n",
       "      <td>83033</td>\n",
       "      <td>48367 - Pro Plan All sizes Adult Light Sterili...</td>\n",
       "      <td>83033 - PP All Sizes Adlt Hhn 14+2,5Kg</td>\n",
       "      <td>2719</td>\n",
       "      <td>2719 - zooplus.de</td>\n",
       "      <td>2</td>\n",
       "      <td>2 - Hund</td>\n",
       "      <td>251</td>\n",
       "      <td>...</td>\n",
       "      <td>High CLV Article</td>\n",
       "      <td>Pro Plan</td>\n",
       "      <td>2</td>\n",
       "      <td>7613035551411</td>\n",
       "      <td>12303229</td>\n",
       "      <td>1</td>\n",
       "      <td>26</td>\n",
       "      <td>Premium Brands by P, Nestle and Hills</td>\n",
       "      <td>Low</td>\n",
       "      <td>SKU</td>\n",
       "    </tr>\n",
       "    <tr>\n",
       "      <th>322</th>\n",
       "      <td>154860094</td>\n",
       "      <td>48311</td>\n",
       "      <td>83212</td>\n",
       "      <td>48311 - Pro Plan Large Puppy Robust Huhn &amp; Reis</td>\n",
       "      <td>83212 - PP Lrg Robst Puppy KIT 3Kg</td>\n",
       "      <td>2719</td>\n",
       "      <td>2719 - zooplus.de</td>\n",
       "      <td>2</td>\n",
       "      <td>2 - Hund</td>\n",
       "      <td>251</td>\n",
       "      <td>...</td>\n",
       "      <td>High CLV Article</td>\n",
       "      <td>Pro Plan</td>\n",
       "      <td>2</td>\n",
       "      <td>7613036627856</td>\n",
       "      <td>12378448</td>\n",
       "      <td>0</td>\n",
       "      <td>26</td>\n",
       "      <td>Premium Brands by P, Nestle and Hills</td>\n",
       "      <td>Low</td>\n",
       "      <td>SKU</td>\n",
       "    </tr>\n",
       "  </tbody>\n",
       "</table>\n",
       "<p>323 rows × 55 columns</p>\n",
       "</div>"
      ],
      "text/plain": [
       "     PPR_N_KEY_PHYS_PRODUCT  PPR_N_PHY_PRODUCT_ID  PPR_N_PHY_ARTICLE_ID  \\\n",
       "0                      5771                  2159                  3296   \n",
       "1                      5772                  2159                  3295   \n",
       "2                      5773                  2160                  1495   \n",
       "3                      5775                  2160                  3418   \n",
       "4                      5776                  2160                  3416   \n",
       "5                      5777                  2161                  1500   \n",
       "6                      5778                  2161                 11891   \n",
       "7                      5779                  2161                  3420   \n",
       "8                      5780                  2161                  3419   \n",
       "9                      5782                  2158                  3294   \n",
       "10                     5783                  2158                 12034   \n",
       "11                     5785                  2158                  1493   \n",
       "12                     5786                  7832                  9067   \n",
       "13                     5787                  7832                  9066   \n",
       "14                     5788                  7832                  9064   \n",
       "15                     5789                  7832                  1492   \n",
       "16                     5790                 18443                 24236   \n",
       "17                     5791                 18443                 24237   \n",
       "18                     5792                 16853                 22532   \n",
       "19                     5793                 16853                 21113   \n",
       "20                     5794                 16852                 21112   \n",
       "21                     5721                 17975                 23381   \n",
       "22                     5722                 19498                 26268   \n",
       "23                     5724                 18757                 24829   \n",
       "24                     5725                 18757                 24833   \n",
       "25                     5726                 18757                 24834   \n",
       "26                     5727                 18757                 24832   \n",
       "27                     5729                 18757                 24836   \n",
       "28                     5730                 18757                 24835   \n",
       "29                     5731                 19884                 26975   \n",
       "..                      ...                   ...                   ...   \n",
       "293               126700638                 52257                 73841   \n",
       "294               126700639                 52258                 73842   \n",
       "295               126700640                 52256                 73744   \n",
       "296               126700641                 52266                 73746   \n",
       "297               126700642                 52255                 73743   \n",
       "298               126700645                 52251                 73835   \n",
       "299               126700647                 52252                 73836   \n",
       "300               126700648                 52258                 73844   \n",
       "301               126700649                 52254                 73741   \n",
       "302               126700650                 52267                 73747   \n",
       "303               126700655                 52258                 73843   \n",
       "304               126700656                 52252                 73837   \n",
       "305               132164420                 51924                 75697   \n",
       "306               132164424                 51925                 75696   \n",
       "307               135865069                 54571                 77545   \n",
       "308               135865093                 54572                 77546   \n",
       "309               139920735                 48310                 78464   \n",
       "310               139920759                 55289                 78463   \n",
       "311               139920767                 48367                 78647   \n",
       "312               143227514                 56388                 79735   \n",
       "313               143227525                 56389                 79737   \n",
       "314               142986138                 52252                 79722   \n",
       "315               150153530                 43073                 81623   \n",
       "316               150153536                 45184                 81720   \n",
       "317               150215039                 58133                 81624   \n",
       "318               143167159                 52252                 79736   \n",
       "319               154423723                 47445                 83001   \n",
       "320               154860080                 48307                 83211   \n",
       "321               154860082                 48367                 83033   \n",
       "322               154860094                 48311                 83212   \n",
       "\n",
       "                                    PPR_V_PRODUCT_DESC  \\\n",
       "0            2159 - Pro Plan Dog Adult Dog Huhn + Reis   \n",
       "1            2159 - Pro Plan Dog Adult Dog Huhn + Reis   \n",
       "2                 2160 - Pro Plan Dog Performance Huhn   \n",
       "3                 2160 - Pro Plan Dog Performance Huhn   \n",
       "4                 2160 - Pro Plan Dog Performance Huhn   \n",
       "5                 2161 - Pro Plan Dog Adult Light Huhn   \n",
       "6                 2161 - Pro Plan Dog Adult Light Huhn   \n",
       "7                 2161 - Pro Plan Dog Adult Light Huhn   \n",
       "8                 2161 - Pro Plan Dog Adult Light Huhn   \n",
       "9                2158 - Pro Plan Dog Puppy Huhn + Reis   \n",
       "10               2158 - Pro Plan Dog Puppy Huhn + Reis   \n",
       "11               2158 - Pro Plan Dog Puppy Huhn + Reis   \n",
       "12                   7832 - Pro Plan Puppy Large Breed   \n",
       "13                   7832 - Pro Plan Puppy Large Breed   \n",
       "14                   7832 - Pro Plan Puppy Large Breed   \n",
       "15                   7832 - Pro Plan Puppy Large Breed   \n",
       "16   18443 - Pro Plan Dog Puppy Sensitive Lachs & Reis   \n",
       "17   18443 - Pro Plan Dog Puppy Sensitive Lachs & Reis   \n",
       "18   16853 - Pro Plan Dog Puppy Large Athletic Lamm...   \n",
       "19   16853 - Pro Plan Dog Puppy Large Athletic Lamm...   \n",
       "20   16852 - Pro Plan Dog Puppy Large  Robust Huhn ...   \n",
       "21                                    17975 - Rucksack   \n",
       "22                                19498 - Taschenlampe   \n",
       "23                   18757 - 18 kg Pro Plan Bonus Bags   \n",
       "24                   18757 - 18 kg Pro Plan Bonus Bags   \n",
       "25                   18757 - 18 kg Pro Plan Bonus Bags   \n",
       "26                   18757 - 18 kg Pro Plan Bonus Bags   \n",
       "27                   18757 - 18 kg Pro Plan Bonus Bags   \n",
       "28                   18757 - 18 kg Pro Plan Bonus Bags   \n",
       "29                                 19884 - Hundepfeife   \n",
       "..                                                 ...   \n",
       "293              52257 - MP Pro Plan Cat KITTEN 24x85g   \n",
       "294  52258 - MP Pro Plan Cat Nutrisavour STERILISED...   \n",
       "295  52256 - MP Pro Plan Cat Nutrisavour KITTEN 10x85g   \n",
       "296              52266 - MP Pro Plan Cat LIGHT 24x 85g   \n",
       "297  52255 - MP Pro Plan Cat Nutrisavour HOUSECAT 1...   \n",
       "298               52251 - MP Pro Plan Cat ADULT 24x85g   \n",
       "299   52252 - MP Pro Plan Cat Nutrisavour ADULT 10x85g   \n",
       "300  52258 - MP Pro Plan Cat Nutrisavour STERILISED...   \n",
       "301  52254 - MP Pro Plan Cat Nutrisavour DELICATE 1...   \n",
       "302            52267 - MP Pro Plan Cat ADULT 7+ 24x85g   \n",
       "303  52258 - MP Pro Plan Cat Nutrisavour STERILISED...   \n",
       "304   52252 - MP Pro Plan Cat Nutrisavour ADULT 10x85g   \n",
       "305                 51924 - Pro Plan Medium Adult Lamm   \n",
       "306                 51925 - Pro Plan Medium Puppy Lamm   \n",
       "307  54571 - PP Large Adult Athletic Sensitive Skin...   \n",
       "308  54572 - PP Large Adult Robust Sensitive Skin S...   \n",
       "309  48310 - Pro Plan Medium & Large Adult 7+ Sensi...   \n",
       "310  55289 - Pro Plan Small and Mini Stv Digestion ...   \n",
       "311  48367 - Pro Plan All sizes Adult Light Sterili...   \n",
       "312  56388 - MP Pro Plan Cat Nutrisavour ADULT+7 10...   \n",
       "313  56389 - MP Pro Plan Cat Nutrisavour DERMA PLUS...   \n",
       "314   52252 - MP Pro Plan Cat Nutrisavour ADULT 10x85g   \n",
       "315                   43073 - Pro Plan Duo Delice Huhn   \n",
       "316             45184 - PRO PLAN Duo Delice Adult Rind   \n",
       "317       58133 - Pro Plan Duo Delice Small Breed Rind   \n",
       "318   52252 - MP Pro Plan Cat Nutrisavour ADULT 10x85g   \n",
       "319            47445 - Pro Plan Duo Delice Small Breed   \n",
       "320          48307 - Pro Plan Medium Puppy Huhn & Reis   \n",
       "321  48367 - Pro Plan All sizes Adult Light Sterili...   \n",
       "322    48311 - Pro Plan Large Puppy Robust Huhn & Reis   \n",
       "\n",
       "                       PPR_V_LOGISTICS_DESC  PPR_N_LEVEL1_ID  \\\n",
       "0     3296 - Pro Plan Dog Adult Dog - 15 kg             2719   \n",
       "1     3295 - Pro Plan Dog Adult Dog H- 3 kg             2719   \n",
       "2     1495 - Pro Plan Dog Performanc- 800 g             2719   \n",
       "3     3418 - Pro Plan Dog Performanc- 15 kg             2719   \n",
       "4     3416 - Pro Plan Dog Performance- 3 kg             2719   \n",
       "5     1500 - Pro Plan Dog Adult Ligh- 800 g             2719   \n",
       "6    11891 - Pro Plan Dog Adult Light- 3 kg             2719   \n",
       "7     3420 - Pro Plan Dog Adult Ligh- 15 kg             2719   \n",
       "8     3419 - Pro Plan Dog Adult Lig- 7,5 kg             2719   \n",
       "9     3294 - Pro Plan Dog Puppy Huh- 7,5 kg             2719   \n",
       "10   12034 - Pro Plan Dog Puppy Huhn- 15 kg             2719   \n",
       "11    1493 - Pro Plan Dog Puppy Huhn- 800 g             2719   \n",
       "12    9067 - Pro Plan Puppy Large Br- 15 kg             2719   \n",
       "13    9066 - Pro Plan Puppy Large B- 7,5 kg             2719   \n",
       "14    9064 - Pro Plan Puppy Large Bre- 3 kg             2719   \n",
       "15    1492 - Pro Plan Puppy Large Br- 800 g             2719   \n",
       "16   24236 - Pro Plan Dog Puppy Sensi- 3 kg             2719   \n",
       "17   24237 - Pro Plan Dog Puppy Sens- 15 kg             2719   \n",
       "18   22532 - Pro Plan Dog Puppy Large- 3 kg             2719   \n",
       "19   21113 - Pro Plan Dog Puppy Larg- 15 kg             2719   \n",
       "20   21112 - Pro Plan Dog Puppy Larg- 15 kg             2719   \n",
       "21        23381 - Rucksack- gratis zu 15 kg             2719   \n",
       "22   26268 - TaschenlamPro Plan Taschenlamp             2719   \n",
       "23   24829 - 18 kg Pro P- Puppy Huhn & Reis             2719   \n",
       "24   24833 - 18 kg Pro - Adult Digestion La             2719   \n",
       "25   24834 - 18 kg Pro - Adult Sensitive La             2719   \n",
       "26   24832 - 18 kg Pro P- Adult Huhn & Reis             2719   \n",
       "27   24836 - 18 kg Pro - Adult Large Athlet             2719   \n",
       "28   24835 - 18 kg Pro - Adult Large Robust             2719   \n",
       "29   26975 - Hundepfeif- gratis zu 15 kg Pr             2719   \n",
       "..                                      ...              ...   \n",
       "293  73841 - MPProPlanCatKITTEChicken24x85g             2719   \n",
       "294  73842 - MP PPlan Nutri STERILChkn10x85             2719   \n",
       "295  73744 - MP PPlan Nutri KITTENChkn10x85             2719   \n",
       "296  73746 - MP ProPlanCatLIGHTTurkey24x85g             2719   \n",
       "297  73743 - MP PPlan Nutri HOUSESlmn 10x85             2719   \n",
       "298  73835 - MPProPlanCatADULTChicken24x85g             2719   \n",
       "299  73836 - MP PPlan Nutri ADULT Lamb10x85             2719   \n",
       "300  73844 - MP PPlan Nutri STERILTurk10x85             2719   \n",
       "301  73741 - MP PPlan NutriDELICTFish 10x85             2719   \n",
       "302  73747 - MP ProPlan Cat Adu7+Tuna24x85g             2719   \n",
       "303  73843 - MP PPlan Nutri STERILFish10x85             2719   \n",
       "304  73837 - MP PPlanNutriADULTTurkey 10x85             2719   \n",
       "305     75697 - Pplan Medium Adult Lamb 3Kg             2719   \n",
       "306     75696 - Pplan Medium Puppy Lamb 3Kg             2719   \n",
       "307  77545 - PP Large Ad Ath Sens Skin 14Kg             2719   \n",
       "308   77546 - PP Lrg Ad Rbst Sens Skin 14Kg             2719   \n",
       "309  78464 - ProPlan MedLarg+7 SensSkin 3Kg             2719   \n",
       "310   78463 - ProPlan S&M Sens Dig Chkn 3Kg             2719   \n",
       "311         78647 - ProPlan AllSiz Chkn 3Kg             2719   \n",
       "312  79735 - MP PP AD+7 10x85 Trky in Sauce             2719   \n",
       "313  79737 - MP PP DERMA+ 10x85 Cod in Sauc             2719   \n",
       "314  79722 - MP PP AD+7 10x85 Trky in Sauce             2719   \n",
       "315  81623 - PPD Duo Delice Adult Huhn 10Kg             2719   \n",
       "316  81720 - PPD Duo Delice Adult Rind 10Kg             2719   \n",
       "317   81624 - PPD Duo Delice SML Rind 2,5Kg             2719   \n",
       "318  79736 - MP PP ADLT 10x85 Duck in Sauce             2719   \n",
       "319    83001 - PP Duo Delice SM Breed 2,5Kg             2719   \n",
       "320         83211 - PP Medium Puppy KIT 3Kg             2719   \n",
       "321  83033 - PP All Sizes Adlt Hhn 14+2,5Kg             2719   \n",
       "322      83212 - PP Lrg Robst Puppy KIT 3Kg             2719   \n",
       "\n",
       "     PPR_V_LEVEL1_DESC  PPR_N_LEVEL2_ID PPR_V_LEVEL2_DESC  PPR_N_LEVEL3_ID  \\\n",
       "0    2719 - zooplus.de                2          2 - Hund              251   \n",
       "1    2719 - zooplus.de                2          2 - Hund              251   \n",
       "2    2719 - zooplus.de                2          2 - Hund              251   \n",
       "3    2719 - zooplus.de                2          2 - Hund              251   \n",
       "4    2719 - zooplus.de                2          2 - Hund              251   \n",
       "5    2719 - zooplus.de                2          2 - Hund              251   \n",
       "6    2719 - zooplus.de                2          2 - Hund              251   \n",
       "7    2719 - zooplus.de                2          2 - Hund              251   \n",
       "8    2719 - zooplus.de                2          2 - Hund              251   \n",
       "9    2719 - zooplus.de                2          2 - Hund              251   \n",
       "10   2719 - zooplus.de                2          2 - Hund              251   \n",
       "11   2719 - zooplus.de                2          2 - Hund              251   \n",
       "12   2719 - zooplus.de                2          2 - Hund              251   \n",
       "13   2719 - zooplus.de                2          2 - Hund              251   \n",
       "14   2719 - zooplus.de                2          2 - Hund              251   \n",
       "15   2719 - zooplus.de                2          2 - Hund              251   \n",
       "16   2719 - zooplus.de                2          2 - Hund              251   \n",
       "17   2719 - zooplus.de                2          2 - Hund              251   \n",
       "18   2719 - zooplus.de                2          2 - Hund              251   \n",
       "19   2719 - zooplus.de                2          2 - Hund              251   \n",
       "20   2719 - zooplus.de                2          2 - Hund              251   \n",
       "21   2719 - zooplus.de                2          2 - Hund              251   \n",
       "22   2719 - zooplus.de                2          2 - Hund              251   \n",
       "23   2719 - zooplus.de                2          2 - Hund              251   \n",
       "24   2719 - zooplus.de                2          2 - Hund              251   \n",
       "25   2719 - zooplus.de                2          2 - Hund              251   \n",
       "26   2719 - zooplus.de                2          2 - Hund              251   \n",
       "27   2719 - zooplus.de                2          2 - Hund              251   \n",
       "28   2719 - zooplus.de                2          2 - Hund              251   \n",
       "29   2719 - zooplus.de                2          2 - Hund              251   \n",
       "..                 ...              ...               ...              ...   \n",
       "293  2719 - zooplus.de                3         3 - Katze             2068   \n",
       "294  2719 - zooplus.de                3         3 - Katze             2068   \n",
       "295  2719 - zooplus.de                3         3 - Katze             2068   \n",
       "296  2719 - zooplus.de                3         3 - Katze             2068   \n",
       "297  2719 - zooplus.de                3         3 - Katze             2068   \n",
       "298  2719 - zooplus.de                3         3 - Katze             2068   \n",
       "299  2719 - zooplus.de                3         3 - Katze             2068   \n",
       "300  2719 - zooplus.de                3         3 - Katze             2068   \n",
       "301  2719 - zooplus.de                3         3 - Katze             2068   \n",
       "302  2719 - zooplus.de                3         3 - Katze             2068   \n",
       "303  2719 - zooplus.de                3         3 - Katze             2068   \n",
       "304  2719 - zooplus.de                3         3 - Katze             2068   \n",
       "305  2719 - zooplus.de                2          2 - Hund              251   \n",
       "306  2719 - zooplus.de                2          2 - Hund              251   \n",
       "307  2719 - zooplus.de                2          2 - Hund              251   \n",
       "308  2719 - zooplus.de                2          2 - Hund              251   \n",
       "309  2719 - zooplus.de                2          2 - Hund              251   \n",
       "310  2719 - zooplus.de                2          2 - Hund              251   \n",
       "311  2719 - zooplus.de                2          2 - Hund              251   \n",
       "312  2719 - zooplus.de                3         3 - Katze             2068   \n",
       "313  2719 - zooplus.de                3         3 - Katze             2068   \n",
       "314  2719 - zooplus.de                3         3 - Katze             2068   \n",
       "315  2719 - zooplus.de                2          2 - Hund              251   \n",
       "316  2719 - zooplus.de                2          2 - Hund              251   \n",
       "317  2719 - zooplus.de                2          2 - Hund              251   \n",
       "318  2719 - zooplus.de                3         3 - Katze             2068   \n",
       "319  2719 - zooplus.de                2          2 - Hund              251   \n",
       "320  2719 - zooplus.de                2          2 - Hund              251   \n",
       "321  2719 - zooplus.de                2          2 - Hund              251   \n",
       "322  2719 - zooplus.de                2          2 - Hund              251   \n",
       "\n",
       "         ...        PPR_IS_HIGH_CLV  PPR_BRAND PPR_PG_PRIORITY  \\\n",
       "0        ...       High CLV Article   Pro Plan               2   \n",
       "1        ...       High CLV Article   Pro Plan               2   \n",
       "2        ...       High CLV Article   Pro Plan               2   \n",
       "3        ...       High CLV Article   Pro Plan               2   \n",
       "4        ...       High CLV Article   Pro Plan               2   \n",
       "5        ...       High CLV Article   Pro Plan               2   \n",
       "6        ...       High CLV Article   Pro Plan               2   \n",
       "7        ...       High CLV Article   Pro Plan               2   \n",
       "8        ...       High CLV Article   Pro Plan               2   \n",
       "9        ...       High CLV Article   Pro Plan               2   \n",
       "10       ...       High CLV Article   Pro Plan               2   \n",
       "11       ...       High CLV Article   Pro Plan               2   \n",
       "12       ...       High CLV Article    unknown               2   \n",
       "13       ...       High CLV Article    unknown               2   \n",
       "14       ...       High CLV Article    unknown               2   \n",
       "15       ...       High CLV Article    unknown               2   \n",
       "16       ...       High CLV Article   Pro Plan               2   \n",
       "17       ...       High CLV Article   Pro Plan               2   \n",
       "18       ...       High CLV Article   Pro Plan               2   \n",
       "19       ...       High CLV Article   Pro Plan               2   \n",
       "20       ...       High CLV Article   Pro Plan               2   \n",
       "21       ...       High CLV Article   Pro Plan               2   \n",
       "22       ...       High CLV Article    unknown               2   \n",
       "23       ...       High CLV Article    unknown               2   \n",
       "24       ...       High CLV Article    unknown               2   \n",
       "25       ...       High CLV Article    unknown               2   \n",
       "26       ...       High CLV Article    unknown               2   \n",
       "27       ...       High CLV Article    unknown               2   \n",
       "28       ...       High CLV Article    unknown               2   \n",
       "29       ...       High CLV Article    unknown               2   \n",
       "..       ...                    ...        ...             ...   \n",
       "293      ...       High CLV Article   Pro Plan               1   \n",
       "294      ...       High CLV Article   Pro Plan               1   \n",
       "295      ...       High CLV Article   Pro Plan               1   \n",
       "296      ...       High CLV Article   Pro Plan               1   \n",
       "297      ...       High CLV Article   Pro Plan               1   \n",
       "298      ...       High CLV Article   Pro Plan               1   \n",
       "299      ...       High CLV Article   Pro Plan               1   \n",
       "300      ...       High CLV Article   Pro Plan               1   \n",
       "301      ...       High CLV Article   Pro Plan               1   \n",
       "302      ...       High CLV Article   Pro Plan               1   \n",
       "303      ...       High CLV Article   Pro Plan               1   \n",
       "304      ...       High CLV Article   Pro Plan               1   \n",
       "305      ...       High CLV Article   Pro Plan               2   \n",
       "306      ...       High CLV Article   Pro Plan               2   \n",
       "307      ...       High CLV Article   Pro Plan               2   \n",
       "308      ...       High CLV Article   Pro Plan               2   \n",
       "309      ...       High CLV Article   Pro Plan               2   \n",
       "310      ...       High CLV Article   Pro Plan               2   \n",
       "311      ...       High CLV Article   Pro Plan               2   \n",
       "312      ...       High CLV Article   Pro Plan               1   \n",
       "313      ...       High CLV Article   Pro Plan               1   \n",
       "314      ...       High CLV Article   Pro Plan               1   \n",
       "315      ...       High CLV Article   Pro Plan               2   \n",
       "316      ...       High CLV Article   Pro Plan               2   \n",
       "317      ...       High CLV Article   Pro Plan               2   \n",
       "318      ...       High CLV Article   Pro Plan               1   \n",
       "319      ...       High CLV Article   Pro Plan               2   \n",
       "320      ...       High CLV Article   Pro Plan               2   \n",
       "321      ...       High CLV Article   Pro Plan               2   \n",
       "322      ...       High CLV Article   Pro Plan               2   \n",
       "\n",
       "            PPR_EAN PPR_NR_AT_SUPPLIER  PPR_AP_IS_LISTED PPR_ARTICLE_CLASS_ID  \\\n",
       "0     3596980000583            5100138                 0                   26   \n",
       "1     7613033208263           12150307                 0                   26   \n",
       "2    3596980000-651            1023300                 0                   26   \n",
       "3     3596980000682           05100158                 0                   26   \n",
       "4     8410650530306            8473000                 0                   26   \n",
       "5    3596980000-705            8143000                 0                   26   \n",
       "6    07613033209994           12150387                 0                   26   \n",
       "7     3596980000736            5100163                 0                   26   \n",
       "8     8410650530758            8454000                 0                   26   \n",
       "9     3596980000439            5119955                 0                   26   \n",
       "10    3596980000446            5100124                 0                   26   \n",
       "11   3596980000-415            1013300                 0                   26   \n",
       "12    3596980001450           05100132                 0                   26   \n",
       "13     359680001434            9015700                 0                   26   \n",
       "14     359680001436            9015600                 0                   26   \n",
       "15     359680001429            9015500                 0                   26   \n",
       "16    7613033208911           12150313                 0                   26   \n",
       "17    3222270552325           12029079                 0                   26   \n",
       "18   07613033208171           12150305                 0                   26   \n",
       "19    7613031378579           12031983                 0                   26   \n",
       "20    7613031379521           12032120                 0                   26   \n",
       "21               NN                 NN                 0                   26   \n",
       "22               NN                 NN                 0                   26   \n",
       "23    3222270840453           12029225                 0                   26   \n",
       "24    3222270840309           12036727                 0                   26   \n",
       "25    3222270809757           12033519                 0                   26   \n",
       "26    3222270840156           12036726                 0                   26   \n",
       "27               NN           12031828                 0                   26   \n",
       "28    7613031485703           12041529                 0                   26   \n",
       "29               NN                 NN                 0                   26   \n",
       "..              ...                ...               ...                  ...   \n",
       "293   7613033568619           12171997                 1                   26   \n",
       "294   7613034771186           12250098                 0                   26   \n",
       "295   7613035680357           12310842                 0                   26   \n",
       "296   3222270776424           12065874                 1                   26   \n",
       "297   7613034769923           12250102                 0                   26   \n",
       "298   3222270776431           12065833                 1                   26   \n",
       "299   7613035680388           12310843                 0                   26   \n",
       "300   7613035680227           12310841                 0                   26   \n",
       "301   7613034771155           12250099                 0                   26   \n",
       "302   7613033568589           12171996                 1                   26   \n",
       "303   7613035680197           12310840                 0                   26   \n",
       "304   7613035680418           12310844                 0                   26   \n",
       "305   7613035214798           12278098                 1                   26   \n",
       "306   7613035214811           12278099                 1                   26   \n",
       "307   7613035417045           12294770                 1                   26   \n",
       "308   7613035417298           12294793                 1                   26   \n",
       "309   7613035125032           12272683                 1                   26   \n",
       "310   7613035123779           12272646                 1                   26   \n",
       "311   7613035123779           12272618                 1                   26   \n",
       "312   7613036152464           12342772                 0                   26   \n",
       "313   7613036149341           12342525                 0                   26   \n",
       "314   7613036152464           12342772                 0                   26   \n",
       "315   7613034083746           12338885                 1                   26   \n",
       "316   7613034083784           12338883                 1                   26   \n",
       "317   7613034819758           12251948                 1                   26   \n",
       "318   7613036152488           12342773                 0                   26   \n",
       "319   7613034819406           12338878                 1                   26   \n",
       "320   7613036627306           12378468                 0                   26   \n",
       "321   7613035551411           12303229                 1                   26   \n",
       "322   7613036627856           12378448                 0                   26   \n",
       "\n",
       "                        PPR_ART_CLASS_DESC PPR_TAX_CODE  PPR_APA_DESC  \n",
       "0    Premium Brands by P, Nestle and Hills          Low           SKU  \n",
       "1    Premium Brands by P, Nestle and Hills          Low           SKU  \n",
       "2    Premium Brands by P, Nestle and Hills          Low           SKU  \n",
       "3    Premium Brands by P, Nestle and Hills          Low           SKU  \n",
       "4    Premium Brands by P, Nestle and Hills          Low           SKU  \n",
       "5    Premium Brands by P, Nestle and Hills          Low           SKU  \n",
       "6    Premium Brands by P, Nestle and Hills          Low           SKU  \n",
       "7    Premium Brands by P, Nestle and Hills          Low           SKU  \n",
       "8    Premium Brands by P, Nestle and Hills          Low           SKU  \n",
       "9    Premium Brands by P, Nestle and Hills          Low           SKU  \n",
       "10   Premium Brands by P, Nestle and Hills          Low           SKU  \n",
       "11   Premium Brands by P, Nestle and Hills          Low           SKU  \n",
       "12   Premium Brands by P, Nestle and Hills          Low           SKU  \n",
       "13   Premium Brands by P, Nestle and Hills          Low           SKU  \n",
       "14   Premium Brands by P, Nestle and Hills          Low           SKU  \n",
       "15   Premium Brands by P, Nestle and Hills          Low           SKU  \n",
       "16   Premium Brands by P, Nestle and Hills          Low           SKU  \n",
       "17   Premium Brands by P, Nestle and Hills          Low           SKU  \n",
       "18   Premium Brands by P, Nestle and Hills          Low           SKU  \n",
       "19   Premium Brands by P, Nestle and Hills          Low           SKU  \n",
       "20   Premium Brands by P, Nestle and Hills          Low           SKU  \n",
       "21   Premium Brands by P, Nestle and Hills         High           SKU  \n",
       "22   Premium Brands by P, Nestle and Hills         High           SKU  \n",
       "23   Premium Brands by P, Nestle and Hills          Low           SKU  \n",
       "24   Premium Brands by P, Nestle and Hills          Low           SKU  \n",
       "25   Premium Brands by P, Nestle and Hills          Low           SKU  \n",
       "26   Premium Brands by P, Nestle and Hills          Low           SKU  \n",
       "27   Premium Brands by P, Nestle and Hills          Low           SKU  \n",
       "28   Premium Brands by P, Nestle and Hills          Low           SKU  \n",
       "29   Premium Brands by P, Nestle and Hills         High           SKU  \n",
       "..                                     ...          ...           ...  \n",
       "293  Premium Brands by P, Nestle and Hills          Low           SKU  \n",
       "294  Premium Brands by P, Nestle and Hills          Low           SKU  \n",
       "295  Premium Brands by P, Nestle and Hills          Low           SKU  \n",
       "296  Premium Brands by P, Nestle and Hills          Low           SKU  \n",
       "297  Premium Brands by P, Nestle and Hills          Low           SKU  \n",
       "298  Premium Brands by P, Nestle and Hills          Low           SKU  \n",
       "299  Premium Brands by P, Nestle and Hills          Low           SKU  \n",
       "300  Premium Brands by P, Nestle and Hills          Low           SKU  \n",
       "301  Premium Brands by P, Nestle and Hills          Low           SKU  \n",
       "302  Premium Brands by P, Nestle and Hills          Low           SKU  \n",
       "303  Premium Brands by P, Nestle and Hills          Low           SKU  \n",
       "304  Premium Brands by P, Nestle and Hills          Low           SKU  \n",
       "305  Premium Brands by P, Nestle and Hills          Low           SKU  \n",
       "306  Premium Brands by P, Nestle and Hills          Low           SKU  \n",
       "307  Premium Brands by P, Nestle and Hills          Low           SKU  \n",
       "308  Premium Brands by P, Nestle and Hills          Low           SKU  \n",
       "309  Premium Brands by P, Nestle and Hills          Low           SKU  \n",
       "310  Premium Brands by P, Nestle and Hills          Low           SKU  \n",
       "311  Premium Brands by P, Nestle and Hills          Low           SKU  \n",
       "312  Premium Brands by P, Nestle and Hills          Low           SKU  \n",
       "313  Premium Brands by P, Nestle and Hills          Low           SKU  \n",
       "314  Premium Brands by P, Nestle and Hills          Low           SKU  \n",
       "315  Premium Brands by P, Nestle and Hills          Low           SKU  \n",
       "316  Premium Brands by P, Nestle and Hills          Low           SKU  \n",
       "317  Premium Brands by P, Nestle and Hills          Low           SKU  \n",
       "318  Premium Brands by P, Nestle and Hills          Low           SKU  \n",
       "319  Premium Brands by P, Nestle and Hills          Low           SKU  \n",
       "320  Premium Brands by P, Nestle and Hills          Low           SKU  \n",
       "321  Premium Brands by P, Nestle and Hills          Low           SKU  \n",
       "322  Premium Brands by P, Nestle and Hills          Low           SKU  \n",
       "\n",
       "[323 rows x 55 columns]"
      ]
     },
     "execution_count": 60,
     "metadata": {},
     "output_type": "execute_result"
    }
   ],
   "source": [
    "pg4ids"
   ]
  },
  {
   "cell_type": "code",
   "execution_count": 61,
   "metadata": {
    "ExecuteTime": {
     "end_time": "2018-09-26T13:13:51.988980Z",
     "start_time": "2018-09-26T13:13:51.985980Z"
    },
    "hidden": true
   },
   "outputs": [],
   "source": [
    "proplan_arts = list(set(pg4ids['PPR_N_PHY_ARTICLE_ID']))"
   ]
  },
  {
   "cell_type": "code",
   "execution_count": 62,
   "metadata": {
    "ExecuteTime": {
     "end_time": "2018-09-26T13:13:52.031980Z",
     "start_time": "2018-09-26T13:13:51.990980Z"
    },
    "hidden": true
   },
   "outputs": [],
   "source": [
    "proplan_names = list(data[data['SCM_AP_ID'].isin(proplan_arts)]['PP_NAME'].unique())"
   ]
  },
  {
   "cell_type": "code",
   "execution_count": 63,
   "metadata": {
    "ExecuteTime": {
     "end_time": "2018-09-26T13:13:52.036980Z",
     "start_time": "2018-09-26T13:13:52.032980Z"
    },
    "hidden": true
   },
   "outputs": [
    {
     "data": {
      "text/plain": [
       "55"
      ]
     },
     "execution_count": 63,
     "metadata": {},
     "output_type": "execute_result"
    }
   ],
   "source": [
    "len(proplan_names)"
   ]
  },
  {
   "cell_type": "code",
   "execution_count": 64,
   "metadata": {
    "ExecuteTime": {
     "end_time": "2018-09-26T13:13:52.052980Z",
     "start_time": "2018-09-26T13:13:52.037980Z"
    },
    "hidden": true
   },
   "outputs": [
    {
     "data": {
      "text/plain": [
       "['Pro Plan Cat Sterilised reich an Truthahn',\n",
       " 'Pro Plan Cat Adult Delicate',\n",
       " 'Pro Plan Cat Housecat',\n",
       " 'Pro Plan Derma Plus',\n",
       " 'Pro Plan Cat Sterilised reich an Lachs',\n",
       " 'Pro Plan Cat Adult Cat Huhn & Reis',\n",
       " 'Pro Plan Dental Plus',\n",
       " 'Pro Plan Kitten/Junior  Huhn & Reis',\n",
       " 'Pro Plan Cat Adult Light',\n",
       " 'Pro Plan Large Robust Adult Lamm',\n",
       " 'Pro Plan Large Ath. Adult Lamm',\n",
       " 'Pro Plan Large Adult Atheltic Huhn & Reis',\n",
       " 'Pro Plan Medium Adult Huhn & Reis',\n",
       " 'Pro Plan All sizes Adult Light Sterilised Huhn & Reis',\n",
       " 'Pro Plan Small & Mini Adult Sensitive Skin Lachs & Reis',\n",
       " 'Pro Plan Large Adult Robust Huhn & Reis',\n",
       " 'Pro Plan Medium Adult Sensitive Skin Lachs & Reis',\n",
       " 'Pro Plan Medium Adult Lamm',\n",
       " 'Pro Plan Medium Adult Sensitive Digestion Huhn & Reis',\n",
       " 'Pro Plan Medium & Large Adult 7+ Huhn & Reis',\n",
       " 'Pro Plan Large Puppy Athletic Huhn & Reis',\n",
       " 'Pro Plan Medium Puppy Huhn & Reis',\n",
       " 'Pro Plan Medium & Large Adult 7+ Sensitive Skin Lachs & Reis',\n",
       " 'PP Large Adult Athletic Sensitive Skin Salmon',\n",
       " 'Pro Plan All sizes Adult Performance Huhn & Reis',\n",
       " 'Pro Plan Medium Puppy Sensitive Skin Lachs & Reis',\n",
       " 'Pro Plan Medium Puppy Lamm',\n",
       " 'Pro Plan Small & Mini Adult Huhn & Reis',\n",
       " 'Pro Plan Large Puppy Robust Huhn & Reis',\n",
       " 'Pro Plan Small & Mini Puppy Huhn & Reis',\n",
       " 'Pro Plan Small & Mini Puppy Sensitive Skin Lachs & Reis',\n",
       " 'PP Large Adult Robust Sensitive Skin Salmon',\n",
       " 'Pro Plan Medium Puppy Sensitive Digestion Huhn & Reis',\n",
       " 'Pro Plan Small and Mini Stv Digestion Chicken',\n",
       " 'PRO PLAN STERILISED CAT',\n",
       " 'PRO PLAN STERILISED -  rabbit',\n",
       " 'PRO PLAN ADULT CAT CHICKEN',\n",
       " 'PRO PLAN ADULT 7+ CAT CHICKEN',\n",
       " 'PRO PLAN ADULT CAT SALMON',\n",
       " 'PRO PLAN LIGHT CAT TURKEY',\n",
       " 'PRO PLAN STERILISED ADULT 7+ -  Turkey',\n",
       " 'PRO PLAN CAT DELICATE',\n",
       " 'PRO PLAN JUNIOR CAT CHICKEN',\n",
       " 'PRO PLAN HOUSE CAT',\n",
       " 'Pro Plan Duo Delice Lachs',\n",
       " 'PRO PLAN Duo Delice Adult Rind',\n",
       " 'Pro Plan Duo Delice Huhn',\n",
       " 'Pro Plan Duo Delice Small Breed',\n",
       " 'Pro Plan Adult 85 g',\n",
       " 'MP Pro Plan Cat DELICATE  24x85g',\n",
       " 'MP Pro Plan Cat ADULT 7+ 24x85g',\n",
       " 'MP Pro Plan Cat KITTEN 24x85g',\n",
       " 'MP Pro Plan Cat STERILISED 24x85g',\n",
       " 'MP Pro Plan Cat ADULT 24x85g',\n",
       " 'MP Pro Plan Cat LIGHT 24x 85g']"
      ]
     },
     "execution_count": 64,
     "metadata": {},
     "output_type": "execute_result"
    }
   ],
   "source": [
    "proplan_names"
   ]
  },
  {
   "cell_type": "code",
   "execution_count": 65,
   "metadata": {
    "ExecuteTime": {
     "end_time": "2018-09-26T13:13:52.073980Z",
     "start_time": "2018-09-26T13:13:52.053980Z"
    },
    "hidden": true
   },
   "outputs": [],
   "source": [
    "#Let's create a flag for this order positions including ProPlan articles\n",
    "data['IS_PRO_PLAN_ART'] = (data['SCM_AP_ID'].isin(proplan_arts)) * 1"
   ]
  },
  {
   "cell_type": "code",
   "execution_count": 66,
   "metadata": {
    "ExecuteTime": {
     "end_time": "2018-09-26T13:13:52.114980Z",
     "start_time": "2018-09-26T13:13:52.074980Z"
    },
    "hidden": true
   },
   "outputs": [
    {
     "data": {
      "text/html": [
       "<div>\n",
       "<style scoped>\n",
       "    .dataframe tbody tr th:only-of-type {\n",
       "        vertical-align: middle;\n",
       "    }\n",
       "\n",
       "    .dataframe tbody tr th {\n",
       "        vertical-align: top;\n",
       "    }\n",
       "\n",
       "    .dataframe thead th {\n",
       "        text-align: right;\n",
       "    }\n",
       "</style>\n",
       "<table border=\"1\" class=\"dataframe\">\n",
       "  <thead>\n",
       "    <tr style=\"text-align: right;\">\n",
       "      <th></th>\n",
       "      <th>PP_NAME</th>\n",
       "      <th>POS_VALID</th>\n",
       "      <th>SCM_SALES_BMF</th>\n",
       "      <th>SCM_SALES_CANCEL_BMF</th>\n",
       "      <th>IS_PRO_PLAN_ART</th>\n",
       "    </tr>\n",
       "  </thead>\n",
       "  <tbody>\n",
       "    <tr>\n",
       "      <th>119053</th>\n",
       "      <td>Gourmet Diamant 85 g</td>\n",
       "      <td>1</td>\n",
       "      <td>12.99</td>\n",
       "      <td>0.0</td>\n",
       "      <td>0</td>\n",
       "    </tr>\n",
       "    <tr>\n",
       "      <th>103596</th>\n",
       "      <td>Animonda INTEGRA Protect Niere  Dose 6 x 400 g</td>\n",
       "      <td>1</td>\n",
       "      <td>29.97</td>\n",
       "      <td>0.0</td>\n",
       "      <td>0</td>\n",
       "    </tr>\n",
       "    <tr>\n",
       "      <th>212158</th>\n",
       "      <td>Hunter Hundespielzeug Spike Ball mit Kordel</td>\n",
       "      <td>1</td>\n",
       "      <td>8.99</td>\n",
       "      <td>0.0</td>\n",
       "      <td>0</td>\n",
       "    </tr>\n",
       "    <tr>\n",
       "      <th>13893</th>\n",
       "      <td>Katzenspielzeug Jumping Stars</td>\n",
       "      <td>1</td>\n",
       "      <td>2.49</td>\n",
       "      <td>0.0</td>\n",
       "      <td>0</td>\n",
       "    </tr>\n",
       "    <tr>\n",
       "      <th>165446</th>\n",
       "      <td>Megapack Cosma Original 6 x 400g</td>\n",
       "      <td>1</td>\n",
       "      <td>11.99</td>\n",
       "      <td>0.0</td>\n",
       "      <td>0</td>\n",
       "    </tr>\n",
       "    <tr>\n",
       "      <th>8748</th>\n",
       "      <td>JR Farm Nager-Traum</td>\n",
       "      <td>1</td>\n",
       "      <td>0.00</td>\n",
       "      <td>0.0</td>\n",
       "      <td>0</td>\n",
       "    </tr>\n",
       "    <tr>\n",
       "      <th>10049</th>\n",
       "      <td>Hill´s PD Canine Metabolic &amp; Mobility</td>\n",
       "      <td>1</td>\n",
       "      <td>134.99</td>\n",
       "      <td>0.0</td>\n",
       "      <td>0</td>\n",
       "    </tr>\n",
       "    <tr>\n",
       "      <th>93059</th>\n",
       "      <td>Savings Plan</td>\n",
       "      <td>1</td>\n",
       "      <td>5.99</td>\n",
       "      <td>0.0</td>\n",
       "      <td>0</td>\n",
       "    </tr>\n",
       "    <tr>\n",
       "      <th>99395</th>\n",
       "      <td>Savings Plan</td>\n",
       "      <td>1</td>\n",
       "      <td>2.99</td>\n",
       "      <td>0.0</td>\n",
       "      <td>0</td>\n",
       "    </tr>\n",
       "    <tr>\n",
       "      <th>124954</th>\n",
       "      <td>Royal Canin - Vet Diet - Renal - Megapack</td>\n",
       "      <td>1</td>\n",
       "      <td>20.99</td>\n",
       "      <td>0.0</td>\n",
       "      <td>0</td>\n",
       "    </tr>\n",
       "    <tr>\n",
       "      <th>237</th>\n",
       "      <td>Silver Line Edelstahlnapf Matt-Black</td>\n",
       "      <td>1</td>\n",
       "      <td>4.49</td>\n",
       "      <td>0.0</td>\n",
       "      <td>0</td>\n",
       "    </tr>\n",
       "    <tr>\n",
       "      <th>293612</th>\n",
       "      <td>NaN</td>\n",
       "      <td>1</td>\n",
       "      <td>-3.05</td>\n",
       "      <td>0.0</td>\n",
       "      <td>0</td>\n",
       "    </tr>\n",
       "    <tr>\n",
       "      <th>2146</th>\n",
       "      <td>Pro Plan Cat Sterilised reich an Lachs</td>\n",
       "      <td>1</td>\n",
       "      <td>13.99</td>\n",
       "      <td>0.0</td>\n",
       "      <td>1</td>\n",
       "    </tr>\n",
       "    <tr>\n",
       "      <th>249947</th>\n",
       "      <td>Oleum Canis Lachsöl</td>\n",
       "      <td>1</td>\n",
       "      <td>19.99</td>\n",
       "      <td>0.0</td>\n",
       "      <td>0</td>\n",
       "    </tr>\n",
       "    <tr>\n",
       "      <th>293410</th>\n",
       "      <td>NaN</td>\n",
       "      <td>1</td>\n",
       "      <td>0.59</td>\n",
       "      <td>0.0</td>\n",
       "      <td>0</td>\n",
       "    </tr>\n",
       "    <tr>\n",
       "      <th>195682</th>\n",
       "      <td>Kuscheldecke Welttierschutztag</td>\n",
       "      <td>1</td>\n",
       "      <td>0.00</td>\n",
       "      <td>0.0</td>\n",
       "      <td>0</td>\n",
       "    </tr>\n",
       "    <tr>\n",
       "      <th>335466</th>\n",
       "      <td>NaN</td>\n",
       "      <td>1</td>\n",
       "      <td>-3.60</td>\n",
       "      <td>0.0</td>\n",
       "      <td>0</td>\n",
       "    </tr>\n",
       "    <tr>\n",
       "      <th>67628</th>\n",
       "      <td>Concept for Life Cat Maine Coon</td>\n",
       "      <td>1</td>\n",
       "      <td>0.00</td>\n",
       "      <td>0.0</td>\n",
       "      <td>0</td>\n",
       "    </tr>\n",
       "    <tr>\n",
       "      <th>231072</th>\n",
       "      <td>Megapack Gourmet Gold 4 x 85 g</td>\n",
       "      <td>1</td>\n",
       "      <td>9.99</td>\n",
       "      <td>0.0</td>\n",
       "      <td>0</td>\n",
       "    </tr>\n",
       "    <tr>\n",
       "      <th>226356</th>\n",
       "      <td>Megapack Pedigree Denta Stix</td>\n",
       "      <td>1</td>\n",
       "      <td>9.99</td>\n",
       "      <td>0.0</td>\n",
       "      <td>0</td>\n",
       "    </tr>\n",
       "  </tbody>\n",
       "</table>\n",
       "</div>"
      ],
      "text/plain": [
       "                                               PP_NAME  POS_VALID  \\\n",
       "119053                            Gourmet Diamant 85 g          1   \n",
       "103596  Animonda INTEGRA Protect Niere  Dose 6 x 400 g          1   \n",
       "212158     Hunter Hundespielzeug Spike Ball mit Kordel          1   \n",
       "13893                    Katzenspielzeug Jumping Stars          1   \n",
       "165446                Megapack Cosma Original 6 x 400g          1   \n",
       "8748                               JR Farm Nager-Traum          1   \n",
       "10049            Hill´s PD Canine Metabolic & Mobility          1   \n",
       "93059                                     Savings Plan          1   \n",
       "99395                                     Savings Plan          1   \n",
       "124954       Royal Canin - Vet Diet - Renal - Megapack          1   \n",
       "237              Silver Line Edelstahlnapf Matt-Black           1   \n",
       "293612                                             NaN          1   \n",
       "2146            Pro Plan Cat Sterilised reich an Lachs          1   \n",
       "249947                             Oleum Canis Lachsöl          1   \n",
       "293410                                             NaN          1   \n",
       "195682                  Kuscheldecke Welttierschutztag          1   \n",
       "335466                                             NaN          1   \n",
       "67628                  Concept for Life Cat Maine Coon          1   \n",
       "231072                  Megapack Gourmet Gold 4 x 85 g          1   \n",
       "226356                    Megapack Pedigree Denta Stix          1   \n",
       "\n",
       "        SCM_SALES_BMF  SCM_SALES_CANCEL_BMF  IS_PRO_PLAN_ART  \n",
       "119053          12.99                   0.0                0  \n",
       "103596          29.97                   0.0                0  \n",
       "212158           8.99                   0.0                0  \n",
       "13893            2.49                   0.0                0  \n",
       "165446          11.99                   0.0                0  \n",
       "8748             0.00                   0.0                0  \n",
       "10049          134.99                   0.0                0  \n",
       "93059            5.99                   0.0                0  \n",
       "99395            2.99                   0.0                0  \n",
       "124954          20.99                   0.0                0  \n",
       "237              4.49                   0.0                0  \n",
       "293612          -3.05                   0.0                0  \n",
       "2146            13.99                   0.0                1  \n",
       "249947          19.99                   0.0                0  \n",
       "293410           0.59                   0.0                0  \n",
       "195682           0.00                   0.0                0  \n",
       "335466          -3.60                   0.0                0  \n",
       "67628            0.00                   0.0                0  \n",
       "231072           9.99                   0.0                0  \n",
       "226356           9.99                   0.0                0  "
      ]
     },
     "execution_count": 66,
     "metadata": {},
     "output_type": "execute_result"
    }
   ],
   "source": [
    "data[['PP_NAME', 'POS_VALID', 'SCM_SALES_BMF', 'SCM_SALES_CANCEL_BMF', 'IS_PRO_PLAN_ART']].sample(20)"
   ]
  },
  {
   "cell_type": "code",
   "execution_count": 67,
   "metadata": {
    "ExecuteTime": {
     "end_time": "2018-09-26T13:13:52.131980Z",
     "start_time": "2018-09-26T13:13:52.115980Z"
    },
    "hidden": true
   },
   "outputs": [],
   "source": [
    "# Get Pro Plan Articles order positions\n",
    "proplan_o_pos = data[data['IS_PRO_PLAN_ART'] == 1]"
   ]
  },
  {
   "cell_type": "code",
   "execution_count": 68,
   "metadata": {
    "ExecuteTime": {
     "end_time": "2018-09-26T13:13:52.149980Z",
     "start_time": "2018-09-26T13:13:52.132980Z"
    },
    "hidden": true
   },
   "outputs": [],
   "source": [
    "pp_o_pos = proplan_o_pos.copy()"
   ]
  },
  {
   "cell_type": "code",
   "execution_count": 69,
   "metadata": {
    "ExecuteTime": {
     "end_time": "2018-09-26T13:13:52.161980Z",
     "start_time": "2018-09-26T13:13:52.150980Z"
    },
    "hidden": true
   },
   "outputs": [],
   "source": [
    "pp_o_pos['PP_SALES'] = pp_o_pos['SCM_SALES_BMF'] * pp_o_pos['POS_VALID']"
   ]
  },
  {
   "cell_type": "code",
   "execution_count": 70,
   "metadata": {
    "ExecuteTime": {
     "end_time": "2018-09-26T13:13:52.187980Z",
     "start_time": "2018-09-26T13:13:52.162980Z"
    },
    "hidden": true
   },
   "outputs": [
    {
     "data": {
      "text/plain": [
       "CZP_ZTQ_ID\n",
       "153    894980.90\n",
       "154    470215.81\n",
       "155    347717.33\n",
       "156    258796.41\n",
       "Name: PP_SALES, dtype: float64"
      ]
     },
     "execution_count": 70,
     "metadata": {},
     "output_type": "execute_result"
    }
   ],
   "source": [
    "# Quantify ProPlan Articles Sales per Tier Qualifier\n",
    "proplan_sales_per_tier = pp_o_pos.groupby('CZP_ZTQ_ID')['PP_SALES'].sum().round(2)\n",
    "proplan_sales_per_tier"
   ]
  },
  {
   "cell_type": "code",
   "execution_count": 71,
   "metadata": {
    "ExecuteTime": {
     "end_time": "2018-09-26T13:13:52.197980Z",
     "start_time": "2018-09-26T13:13:52.188980Z"
    },
    "hidden": true
   },
   "outputs": [
    {
     "data": {
      "text/plain": [
       "CZP_ZTQ_ID\n",
       "153    2584219.01\n",
       "154    1331664.95\n",
       "155     907008.04\n",
       "156     631473.50\n",
       "Name: BASKET_VALUE, dtype: float64"
      ]
     },
     "execution_count": 71,
     "metadata": {},
     "output_type": "execute_result"
    }
   ],
   "source": [
    "# Obtain Sales Per Tier Qualifier\n",
    "sales_per_tier = order_values_per_tier.groupby('CZP_ZTQ_ID')['BASKET_VALUE'].sum().round(2)\n",
    "sales_per_tier"
   ]
  },
  {
   "cell_type": "markdown",
   "metadata": {
    "hidden": true
   },
   "source": [
    "**Share of ProPlan Sales per Tier:**"
   ]
  },
  {
   "cell_type": "code",
   "execution_count": 72,
   "metadata": {
    "ExecuteTime": {
     "end_time": "2018-09-26T13:13:52.216980Z",
     "start_time": "2018-09-26T13:13:52.199980Z"
    },
    "hidden": true
   },
   "outputs": [
    {
     "data": {
      "text/plain": [
       "CZP_ZTQ_ID\n",
       "153    34.63\n",
       "154    35.31\n",
       "155    38.34\n",
       "156    40.98\n",
       "dtype: float64"
      ]
     },
     "execution_count": 72,
     "metadata": {},
     "output_type": "execute_result"
    }
   ],
   "source": [
    "share_s_pp_tier = (proplan_sales_per_tier/sales_per_tier * 100).round(2) \n",
    "share_s_pp_tier"
   ]
  },
  {
   "cell_type": "code",
   "execution_count": 73,
   "metadata": {
    "ExecuteTime": {
     "end_time": "2018-09-26T13:13:52.359980Z",
     "start_time": "2018-09-26T13:13:52.217980Z"
    },
    "hidden": true
   },
   "outputs": [
    {
     "data": {
      "image/png": "[encoded data removed]",
      "text/plain": [
       "<matplotlib.figure.Figure at 0xb757898>"
      ]
     },
     "metadata": {},
     "output_type": "display_data"
    }
   ],
   "source": [
    "plt.figure(figsize=(12, 4))\n",
    "share_s_pp_tier.plot(kind='barh')\n",
    "plt.title('Share of ProPlan articles Sales per Tier')\n",
    "plt.xlabel('Percentage %')\n",
    "plt.grid()"
   ]
  },
  {
   "cell_type": "markdown",
   "metadata": {
    "heading_collapsed": true
   },
   "source": [
    "#### Share of Orders with Proplan per Tier"
   ]
  },
  {
   "cell_type": "code",
   "execution_count": 74,
   "metadata": {
    "ExecuteTime": {
     "end_time": "2018-09-26T13:13:52.373980Z",
     "start_time": "2018-09-26T13:13:52.361980Z"
    },
    "hidden": true
   },
   "outputs": [
    {
     "data": {
      "text/plain": [
       "CZP_ZTQ_ID\n",
       "153    14758\n",
       "154     6700\n",
       "155     5275\n",
       "156     3152\n",
       "Name: SCM_N_ORDER_NR, dtype: int64"
      ]
     },
     "execution_count": 74,
     "metadata": {},
     "output_type": "execute_result"
    }
   ],
   "source": [
    "# Orders having ProPlan articles per Tier\n",
    "orders_with_proplan_per_tier = proplan_o_pos.groupby('CZP_ZTQ_ID')['SCM_N_ORDER_NR'].nunique()\n",
    "orders_with_proplan_per_tier"
   ]
  },
  {
   "cell_type": "code",
   "execution_count": 75,
   "metadata": {
    "ExecuteTime": {
     "end_time": "2018-09-26T13:13:52.449980Z",
     "start_time": "2018-09-26T13:13:52.375980Z"
    },
    "hidden": true
   },
   "outputs": [
    {
     "data": {
      "text/plain": [
       "CZP_ZTQ_ID\n",
       "153    32867\n",
       "154    14899\n",
       "155    10861\n",
       "156     6283\n",
       "Name: SCM_N_ORDER_NR, dtype: int64"
      ]
     },
     "execution_count": 75,
     "metadata": {},
     "output_type": "execute_result"
    }
   ],
   "source": [
    "# Total orders per Tier\n",
    "orders_per_tier = data.groupby('CZP_ZTQ_ID')['SCM_N_ORDER_NR'].nunique()\n",
    "orders_per_tier"
   ]
  },
  {
   "cell_type": "code",
   "execution_count": 76,
   "metadata": {
    "ExecuteTime": {
     "end_time": "2018-09-26T13:13:52.577980Z",
     "start_time": "2018-09-26T13:13:52.450980Z"
    },
    "hidden": true
   },
   "outputs": [
    {
     "data": {
      "image/png": "[encoded data removed]",
      "text/plain": [
       "<matplotlib.figure.Figure at 0xb757780>"
      ]
     },
     "metadata": {},
     "output_type": "display_data"
    }
   ],
   "source": [
    "share_o_pp_tier = (orders_with_proplan_per_tier / orders_per_tier * 100).round(2)\n",
    "plt.figure(figsize=(12, 4))\n",
    "share_o_pp_tier.plot(kind='barh')\n",
    "plt.title('Share of orders including Pro Plan articles per Tier')\n",
    "plt.xlabel('Percentage %')\n",
    "plt.grid()"
   ]
  },
  {
   "cell_type": "code",
   "execution_count": 77,
   "metadata": {
    "ExecuteTime": {
     "end_time": "2018-09-26T13:13:52.584980Z",
     "start_time": "2018-09-26T13:13:52.579980Z"
    },
    "hidden": true
   },
   "outputs": [
    {
     "data": {
      "text/plain": [
       "CZP_ZTQ_ID\n",
       "153    44.90\n",
       "154    44.97\n",
       "155    48.57\n",
       "156    50.17\n",
       "Name: SCM_N_ORDER_NR, dtype: float64"
      ]
     },
     "execution_count": 77,
     "metadata": {},
     "output_type": "execute_result"
    }
   ],
   "source": [
    "# Share of orders with Pro Plan articles per Tier\n",
    "share_o_pp_tier"
   ]
  },
  {
   "cell_type": "code",
   "execution_count": 78,
   "metadata": {
    "ExecuteTime": {
     "end_time": "2018-09-26T13:13:52.601980Z",
     "start_time": "2018-09-26T13:13:52.585980Z"
    },
    "hidden": true
   },
   "outputs": [
    {
     "data": {
      "text/plain": [
       "0.46"
      ]
     },
     "execution_count": 78,
     "metadata": {},
     "output_type": "execute_result"
    }
   ],
   "source": [
    "# Share of total orders having ProPlan articles\n",
    "(orders_with_proplan_per_tier.sum() / orders_per_tier.sum()).round(2)"
   ]
  },
  {
   "cell_type": "markdown",
   "metadata": {},
   "source": [
    "#### Repurchasing rate within specific time period per Tier"
   ]
  },
  {
   "cell_type": "code",
   "execution_count": 79,
   "metadata": {
    "ExecuteTime": {
     "end_time": "2018-09-26T13:13:52.626980Z",
     "start_time": "2018-09-26T13:13:52.602980Z"
    }
   },
   "outputs": [
    {
     "data": {
      "text/plain": [
       "12676"
      ]
     },
     "execution_count": 79,
     "metadata": {},
     "output_type": "execute_result"
    }
   ],
   "source": [
    "data['CUS_N_KEY_CUSTOMER'].nunique()"
   ]
  },
  {
   "cell_type": "code",
   "execution_count": 80,
   "metadata": {
    "ExecuteTime": {
     "end_time": "2018-09-26T13:16:49.537892Z",
     "start_time": "2018-09-26T13:13:52.627980Z"
    }
   },
   "outputs": [
    {
     "name": "stdout",
     "output_type": "stream",
     "text": [
      "0\n",
      "1000\n",
      "2000\n",
      "3000\n",
      "4000\n",
      "5000\n",
      "6000\n",
      "7000\n",
      "8000\n",
      "9000\n",
      "10000\n",
      "11000\n",
      "12000\n"
     ]
    }
   ],
   "source": [
    "#Run calculation at a customer level\n",
    "customers = pd.DataFrame(columns=['CUSTOMER_ID', 'TIER', 'ORDERS', '1ST_O_DATE', '1ST_O_COUNT',\n",
    "                                  '28D_DATE', 'N_28D', '56D_DATE', 'N_56D', '84D_DATE','N_84D', '180D_DATE','N_180D', \n",
    "                                  'SALES', 'NET_SALES', 'BASKET_AVG', \n",
    "                                  'CM1', 'CM1_AVG', 'CM1%', 'CM2', 'CM2_AVG', 'CM2%'\n",
    "                                  ])\n",
    "\n",
    "for n, cus in enumerate(data['CUS_N_KEY_CUSTOMER'].unique()):\n",
    "    cus_data = data[data['CUS_N_KEY_CUSTOMER'] == cus]\n",
    "    tier = cus_data['CZP_ZTQ_ID'].unique()\n",
    "    orders = cus_data['SCM_N_ORDER_NR'].nunique()\n",
    "    first_ord_in_ds = cus_data['OSP_KO_COUNT_NET'].min()\n",
    "    first_order_date = cus_data[cus_data['OSP_KO_COUNT_NET'] == first_ord_in_ds]['TDT_T_KEY_ORDER_DATE'].dt.date.unique()[0]\n",
    "    rep_date_28 = first_order_date + timedelta(days = 28)\n",
    "    rep_date_56 = first_order_date + timedelta(days = 56)\n",
    "    rep_date_84 = first_order_date + timedelta(days = 84)\n",
    "    rep_date_180 = first_order_date + timedelta(days = 180)\n",
    "    n_orders_28d = cus_data[cus_data['TDT_T_KEY_ORDER_DATE'].dt.date <= rep_date_28]['OSP_KO_COUNT_NET'].max()\n",
    "    n_orders_56d = cus_data[cus_data['TDT_T_KEY_ORDER_DATE'].dt.date <= rep_date_56]['OSP_KO_COUNT_NET'].max()\n",
    "    n_orders_84d = cus_data[cus_data['TDT_T_KEY_ORDER_DATE'].dt.date <= rep_date_84]['OSP_KO_COUNT_NET'].max()\n",
    "    n_orders_180d = cus_data[cus_data['TDT_T_KEY_ORDER_DATE'].dt.date <= rep_date_180]['OSP_KO_COUNT_NET'].max()\n",
    "        \n",
    "    sales = (cus_data['SCM_SALES_BMF'] * cus_data['POS_VALID']).sum()\n",
    "    net_sales = (cus_data['SCM_D_ORIG_FINANCE_ORDER_NET'] * cus_data['POS_VALID']).sum()\n",
    "    basket_avg = sales / orders\n",
    "    cm1 = (cus_data['SCM_D_FINANCE_CM1'] * cus_data['POS_VALID']).sum()\n",
    "    cm1_avg = cm1 / orders\n",
    "    cm1_perc = cm1 / net_sales * 100\n",
    "    cm2 = (cus_data['SCM_D_FINANCE_CM2'] * cus_data['POS_VALID']).sum()\n",
    "    cm2_avg = cm2 / orders\n",
    "    cm2_perc = cm2 / net_sales * 100\n",
    "    \n",
    "    row_ = [cus, tier, orders, first_order_date, first_ord_in_ds, rep_date_28, n_orders_28d, rep_date_56,\n",
    "            n_orders_56d, rep_date_84, n_orders_84d, rep_date_180, n_orders_180d,\n",
    "            sales, net_sales, basket_avg, cm1, cm1_avg, cm1_perc, cm2, cm2_avg, cm2_perc]\n",
    "    row_ = pd.DataFrame([row_], columns=customers.columns)\n",
    "    customers = pd.concat([customers, row_], ignore_index=True)\n",
    "    \n",
    "    if n % 1000 == 0:\n",
    "        print(n)"
   ]
  },
  {
   "cell_type": "code",
   "execution_count": 81,
   "metadata": {
    "ExecuteTime": {
     "end_time": "2018-09-26T13:16:49.548892Z",
     "start_time": "2018-09-26T13:16:49.537892Z"
    }
   },
   "outputs": [
    {
     "data": {
      "text/html": [
       "<div>\n",
       "<style scoped>\n",
       "    .dataframe tbody tr th:only-of-type {\n",
       "        vertical-align: middle;\n",
       "    }\n",
       "\n",
       "    .dataframe tbody tr th {\n",
       "        vertical-align: top;\n",
       "    }\n",
       "\n",
       "    .dataframe thead th {\n",
       "        text-align: right;\n",
       "    }\n",
       "</style>\n",
       "<table border=\"1\" class=\"dataframe\">\n",
       "  <thead>\n",
       "    <tr style=\"text-align: right;\">\n",
       "      <th></th>\n",
       "      <th>CUSTOMER_ID</th>\n",
       "      <th>TIER</th>\n",
       "      <th>ORDERS</th>\n",
       "      <th>1ST_O_DATE</th>\n",
       "      <th>1ST_O_COUNT</th>\n",
       "      <th>28D_DATE</th>\n",
       "      <th>N_28D</th>\n",
       "      <th>56D_DATE</th>\n",
       "      <th>N_56D</th>\n",
       "      <th>84D_DATE</th>\n",
       "      <th>...</th>\n",
       "      <th>N_180D</th>\n",
       "      <th>SALES</th>\n",
       "      <th>NET_SALES</th>\n",
       "      <th>BASKET_AVG</th>\n",
       "      <th>CM1</th>\n",
       "      <th>CM1_AVG</th>\n",
       "      <th>CM1%</th>\n",
       "      <th>CM2</th>\n",
       "      <th>CM2_AVG</th>\n",
       "      <th>CM2%</th>\n",
       "    </tr>\n",
       "  </thead>\n",
       "  <tbody>\n",
       "    <tr>\n",
       "      <th>0</th>\n",
       "      <td>6560483</td>\n",
       "      <td>[156]</td>\n",
       "      <td>5</td>\n",
       "      <td>2017-11-20</td>\n",
       "      <td>5</td>\n",
       "      <td>2017-12-18</td>\n",
       "      <td>5</td>\n",
       "      <td>2018-01-15</td>\n",
       "      <td>6</td>\n",
       "      <td>2018-02-12</td>\n",
       "      <td>...</td>\n",
       "      <td>9</td>\n",
       "      <td>527.64</td>\n",
       "      <td>439.70</td>\n",
       "      <td>105.53</td>\n",
       "      <td>136.85</td>\n",
       "      <td>27.37</td>\n",
       "      <td>31.12</td>\n",
       "      <td>64.00</td>\n",
       "      <td>12.80</td>\n",
       "      <td>14.56</td>\n",
       "    </tr>\n",
       "    <tr>\n",
       "      <th>1</th>\n",
       "      <td>8755557</td>\n",
       "      <td>[156]</td>\n",
       "      <td>10</td>\n",
       "      <td>2017-12-17</td>\n",
       "      <td>43</td>\n",
       "      <td>2018-01-14</td>\n",
       "      <td>45</td>\n",
       "      <td>2018-02-11</td>\n",
       "      <td>46</td>\n",
       "      <td>2018-03-11</td>\n",
       "      <td>...</td>\n",
       "      <td>52</td>\n",
       "      <td>1622.94</td>\n",
       "      <td>1352.45</td>\n",
       "      <td>162.29</td>\n",
       "      <td>254.22</td>\n",
       "      <td>25.42</td>\n",
       "      <td>18.80</td>\n",
       "      <td>66.69</td>\n",
       "      <td>6.67</td>\n",
       "      <td>4.93</td>\n",
       "    </tr>\n",
       "    <tr>\n",
       "      <th>2</th>\n",
       "      <td>15963235</td>\n",
       "      <td>[156]</td>\n",
       "      <td>4</td>\n",
       "      <td>2017-12-02</td>\n",
       "      <td>3</td>\n",
       "      <td>2017-12-30</td>\n",
       "      <td>3</td>\n",
       "      <td>2018-01-27</td>\n",
       "      <td>3</td>\n",
       "      <td>2018-02-24</td>\n",
       "      <td>...</td>\n",
       "      <td>6</td>\n",
       "      <td>403.05</td>\n",
       "      <td>335.88</td>\n",
       "      <td>100.76</td>\n",
       "      <td>122.62</td>\n",
       "      <td>30.65</td>\n",
       "      <td>36.51</td>\n",
       "      <td>70.90</td>\n",
       "      <td>17.72</td>\n",
       "      <td>21.11</td>\n",
       "    </tr>\n",
       "    <tr>\n",
       "      <th>3</th>\n",
       "      <td>10157201</td>\n",
       "      <td>[156]</td>\n",
       "      <td>6</td>\n",
       "      <td>2018-01-05</td>\n",
       "      <td>36</td>\n",
       "      <td>2018-02-02</td>\n",
       "      <td>37</td>\n",
       "      <td>2018-03-02</td>\n",
       "      <td>38</td>\n",
       "      <td>2018-03-30</td>\n",
       "      <td>...</td>\n",
       "      <td>41</td>\n",
       "      <td>1561.77</td>\n",
       "      <td>1301.47</td>\n",
       "      <td>260.30</td>\n",
       "      <td>421.74</td>\n",
       "      <td>70.29</td>\n",
       "      <td>32.41</td>\n",
       "      <td>250.55</td>\n",
       "      <td>41.76</td>\n",
       "      <td>19.25</td>\n",
       "    </tr>\n",
       "    <tr>\n",
       "      <th>4</th>\n",
       "      <td>8508366</td>\n",
       "      <td>[156]</td>\n",
       "      <td>4</td>\n",
       "      <td>2018-01-01</td>\n",
       "      <td>35</td>\n",
       "      <td>2018-01-29</td>\n",
       "      <td>35</td>\n",
       "      <td>2018-02-26</td>\n",
       "      <td>36</td>\n",
       "      <td>2018-03-26</td>\n",
       "      <td>...</td>\n",
       "      <td>38</td>\n",
       "      <td>490.78</td>\n",
       "      <td>408.98</td>\n",
       "      <td>122.69</td>\n",
       "      <td>76.15</td>\n",
       "      <td>19.04</td>\n",
       "      <td>18.62</td>\n",
       "      <td>26.80</td>\n",
       "      <td>6.70</td>\n",
       "      <td>6.55</td>\n",
       "    </tr>\n",
       "  </tbody>\n",
       "</table>\n",
       "<p>5 rows × 22 columns</p>\n",
       "</div>"
      ],
      "text/plain": [
       "  CUSTOMER_ID   TIER ORDERS  1ST_O_DATE 1ST_O_COUNT    28D_DATE N_28D  \\\n",
       "0     6560483  [156]      5  2017-11-20           5  2017-12-18     5   \n",
       "1     8755557  [156]     10  2017-12-17          43  2018-01-14    45   \n",
       "2    15963235  [156]      4  2017-12-02           3  2017-12-30     3   \n",
       "3    10157201  [156]      6  2018-01-05          36  2018-02-02    37   \n",
       "4     8508366  [156]      4  2018-01-01          35  2018-01-29    35   \n",
       "\n",
       "     56D_DATE N_56D    84D_DATE  ...   N_180D    SALES NET_SALES  BASKET_AVG  \\\n",
       "0  2018-01-15     6  2018-02-12  ...        9   527.64    439.70      105.53   \n",
       "1  2018-02-11    46  2018-03-11  ...       52  1622.94   1352.45      162.29   \n",
       "2  2018-01-27     3  2018-02-24  ...        6   403.05    335.88      100.76   \n",
       "3  2018-03-02    38  2018-03-30  ...       41  1561.77   1301.47      260.30   \n",
       "4  2018-02-26    36  2018-03-26  ...       38   490.78    408.98      122.69   \n",
       "\n",
       "      CM1  CM1_AVG   CM1%     CM2  CM2_AVG   CM2%  \n",
       "0  136.85    27.37  31.12   64.00    12.80  14.56  \n",
       "1  254.22    25.42  18.80   66.69     6.67   4.93  \n",
       "2  122.62    30.65  36.51   70.90    17.72  21.11  \n",
       "3  421.74    70.29  32.41  250.55    41.76  19.25  \n",
       "4   76.15    19.04  18.62   26.80     6.70   6.55  \n",
       "\n",
       "[5 rows x 22 columns]"
      ]
     },
     "execution_count": 81,
     "metadata": {},
     "output_type": "execute_result"
    }
   ],
   "source": [
    "customers.head(5).round(2)"
   ]
  },
  {
   "cell_type": "code",
   "execution_count": 82,
   "metadata": {
    "ExecuteTime": {
     "end_time": "2018-09-26T13:16:49.575892Z",
     "start_time": "2018-09-26T13:16:49.550892Z"
    },
    "scrolled": false
   },
   "outputs": [
    {
     "name": "stdout",
     "output_type": "stream",
     "text": [
      "<class 'pandas.core.frame.DataFrame'>\n",
      "RangeIndex: 12676 entries, 0 to 12675\n",
      "Data columns (total 22 columns):\n",
      "CUSTOMER_ID    12676 non-null object\n",
      "TIER           12676 non-null object\n",
      "ORDERS         12676 non-null object\n",
      "1ST_O_DATE     12676 non-null object\n",
      "1ST_O_COUNT    12676 non-null object\n",
      "28D_DATE       12676 non-null object\n",
      "N_28D          12676 non-null object\n",
      "56D_DATE       12676 non-null object\n",
      "N_56D          12676 non-null object\n",
      "84D_DATE       12676 non-null object\n",
      "N_84D          12676 non-null object\n",
      "180D_DATE      12676 non-null object\n",
      "N_180D         12676 non-null object\n",
      "SALES          12676 non-null float64\n",
      "NET_SALES      12676 non-null float64\n",
      "BASKET_AVG     12676 non-null float64\n",
      "CM1            12676 non-null float64\n",
      "CM1_AVG        12676 non-null float64\n",
      "CM1%           12676 non-null float64\n",
      "CM2            12676 non-null float64\n",
      "CM2_AVG        12676 non-null float64\n",
      "CM2%           12676 non-null float64\n",
      "dtypes: float64(9), object(13)\n",
      "memory usage: 2.1+ MB\n"
     ]
    }
   ],
   "source": [
    "customers.info(verbose=True)"
   ]
  },
  {
   "cell_type": "code",
   "execution_count": 83,
   "metadata": {
    "ExecuteTime": {
     "end_time": "2018-09-26T13:16:49.598892Z",
     "start_time": "2018-09-26T13:16:49.577892Z"
    }
   },
   "outputs": [],
   "source": [
    "customers[['ORDERS', '1ST_O_COUNT', 'N_28D', 'N_56D', 'N_84D', 'N_180D']] = customers[['ORDERS', '1ST_O_COUNT', 'N_28D', 'N_56D', 'N_84D', 'N_180D']].astype(int)"
   ]
  },
  {
   "cell_type": "code",
   "execution_count": 84,
   "metadata": {
    "ExecuteTime": {
     "end_time": "2018-09-26T13:16:49.610892Z",
     "start_time": "2018-09-26T13:16:49.599892Z"
    }
   },
   "outputs": [],
   "source": [
    "customers['1ST_O_DATE'] = pd.to_datetime(customers['1ST_O_DATE'], format='%Y-%m-%d')"
   ]
  },
  {
   "cell_type": "code",
   "execution_count": 85,
   "metadata": {
    "ExecuteTime": {
     "end_time": "2018-09-26T13:16:50.046892Z",
     "start_time": "2018-09-26T13:16:49.612892Z"
    }
   },
   "outputs": [],
   "source": [
    "customers['TIER'] = customers['TIER'].astype(str)"
   ]
  },
  {
   "cell_type": "code",
   "execution_count": 86,
   "metadata": {
    "ExecuteTime": {
     "end_time": "2018-09-26T13:16:50.058892Z",
     "start_time": "2018-09-26T13:16:50.048892Z"
    }
   },
   "outputs": [],
   "source": [
    "# 1 if order counter increase from one period to the previous one\n",
    "customers['R_IN_28D'] = (customers['N_28D'] > customers['1ST_O_COUNT']) * 1\n",
    "customers['R_IN_56D'] = (customers['N_56D'] > customers['N_28D']) * 1\n",
    "customers['R_IN_84D'] = (customers['N_84D'] > customers['N_56D']) * 1\n",
    "customers['R_IN_180D'] = (customers['N_180D'] > customers['N_84D']) * 1"
   ]
  },
  {
   "cell_type": "code",
   "execution_count": 87,
   "metadata": {
    "ExecuteTime": {
     "end_time": "2018-09-26T13:16:50.074892Z",
     "start_time": "2018-09-26T13:16:50.060892Z"
    }
   },
   "outputs": [],
   "source": [
    "customers['RR_28D'] = customers['R_IN_28D']\n",
    "customers['RR_56D'] = (customers['R_IN_28D'] | customers['R_IN_56D']) * 1\n",
    "customers['RR_84D'] = (customers['RR_56D'] | customers['R_IN_84D']) * 1\n",
    "customers['RR_180D'] = (customers['RR_84D'] | customers['R_IN_180D']) * 1"
   ]
  },
  {
   "cell_type": "markdown",
   "metadata": {},
   "source": [
    "As we have a non-rolling time window, we need to know which customer is include/exclude for each time period repurchase rate..."
   ]
  },
  {
   "cell_type": "code",
   "execution_count": 88,
   "metadata": {
    "ExecuteTime": {
     "end_time": "2018-09-26T13:16:50.094892Z",
     "start_time": "2018-09-26T13:16:50.076892Z"
    }
   },
   "outputs": [],
   "source": [
    "customers['SUIT_180D'] = ((data['TDT_T_KEY_ORDER_DATE'].max().date() - timedelta(days=180)) >= customers['1ST_O_DATE']) * 1"
   ]
  },
  {
   "cell_type": "code",
   "execution_count": 89,
   "metadata": {
    "ExecuteTime": {
     "end_time": "2018-09-26T13:16:50.106892Z",
     "start_time": "2018-09-26T13:16:50.095892Z"
    }
   },
   "outputs": [],
   "source": [
    "customers['SUIT_84D'] = ((data['TDT_T_KEY_ORDER_DATE'].max().date() - timedelta(days=84)) >= customers['1ST_O_DATE']) * 1"
   ]
  },
  {
   "cell_type": "code",
   "execution_count": 90,
   "metadata": {
    "ExecuteTime": {
     "end_time": "2018-09-26T13:16:50.121892Z",
     "start_time": "2018-09-26T13:16:50.108892Z"
    }
   },
   "outputs": [],
   "source": [
    "customers['SUIT_56D'] = ((data['TDT_T_KEY_ORDER_DATE'].max().date() - timedelta(days=56)) >= customers['1ST_O_DATE']) * 1"
   ]
  },
  {
   "cell_type": "code",
   "execution_count": 91,
   "metadata": {
    "ExecuteTime": {
     "end_time": "2018-09-26T13:16:50.134892Z",
     "start_time": "2018-09-26T13:16:50.122892Z"
    }
   },
   "outputs": [],
   "source": [
    "customers['SUIT_28D'] = ((data['TDT_T_KEY_ORDER_DATE'].max().date() - timedelta(days=28)) >= customers['1ST_O_DATE']) * 1"
   ]
  },
  {
   "cell_type": "markdown",
   "metadata": {},
   "source": [
    "Let's exclude customers transitioning between tiers in our time window - 133 in total -"
   ]
  },
  {
   "cell_type": "code",
   "execution_count": 92,
   "metadata": {
    "ExecuteTime": {
     "end_time": "2018-09-26T13:16:50.148892Z",
     "start_time": "2018-09-26T13:16:50.135892Z"
    }
   },
   "outputs": [
    {
     "data": {
      "text/plain": [
       "array(['[153]', '[154]', '[155]', '[156]'], dtype=object)"
      ]
     },
     "execution_count": 92,
     "metadata": {},
     "output_type": "execute_result"
    }
   ],
   "source": [
    "customers['TIER'].value_counts().index.values[:4]"
   ]
  },
  {
   "cell_type": "code",
   "execution_count": 93,
   "metadata": {
    "ExecuteTime": {
     "end_time": "2018-09-26T13:16:50.162892Z",
     "start_time": "2018-09-26T13:16:50.149892Z"
    }
   },
   "outputs": [
    {
     "data": {
      "text/plain": [
       "['[153]', '[154]', '[155]', '[156]']"
      ]
     },
     "execution_count": 93,
     "metadata": {},
     "output_type": "execute_result"
    }
   ],
   "source": [
    "selected_tiers = [\n",
    "    '[153]', '[154]', '[155]', '[156]'\n",
    "]\n",
    "selected_tiers"
   ]
  },
  {
   "cell_type": "code",
   "execution_count": 94,
   "metadata": {
    "ExecuteTime": {
     "end_time": "2018-09-26T13:16:50.184892Z",
     "start_time": "2018-09-26T13:16:50.163892Z"
    }
   },
   "outputs": [],
   "source": [
    "sp_customers = customers[customers['TIER'].isin(selected_tiers)]"
   ]
  },
  {
   "cell_type": "code",
   "execution_count": 95,
   "metadata": {
    "ExecuteTime": {
     "end_time": "2018-09-26T13:16:50.202892Z",
     "start_time": "2018-09-26T13:16:50.185892Z"
    }
   },
   "outputs": [
    {
     "data": {
      "text/plain": [
       "(12676, 12543)"
      ]
     },
     "execution_count": 95,
     "metadata": {},
     "output_type": "execute_result"
    }
   ],
   "source": [
    "# 133 located and excluded\n",
    "customers['CUSTOMER_ID'].nunique(), sp_customers['CUSTOMER_ID'].nunique()"
   ]
  },
  {
   "cell_type": "code",
   "execution_count": 96,
   "metadata": {
    "ExecuteTime": {
     "end_time": "2018-09-26T13:16:50.216892Z",
     "start_time": "2018-09-26T13:16:50.203892Z"
    }
   },
   "outputs": [],
   "source": [
    "def get_number_from_string(i):\n",
    "    changes = i.replace('[', '').replace(']', '')\n",
    "    return int(changes)"
   ]
  },
  {
   "cell_type": "code",
   "execution_count": 97,
   "metadata": {
    "ExecuteTime": {
     "end_time": "2018-09-26T13:16:50.232892Z",
     "start_time": "2018-09-26T13:16:50.218892Z"
    }
   },
   "outputs": [],
   "source": [
    "t_customers = sp_customers.copy()"
   ]
  },
  {
   "cell_type": "code",
   "execution_count": 98,
   "metadata": {
    "ExecuteTime": {
     "end_time": "2018-09-26T13:16:50.258892Z",
     "start_time": "2018-09-26T13:16:50.234892Z"
    }
   },
   "outputs": [],
   "source": [
    "t_customers['TIER'] = t_customers['TIER'].map(get_number_from_string)"
   ]
  },
  {
   "cell_type": "markdown",
   "metadata": {},
   "source": [
    "Now we calculate (flag 1, 0) if the suitable customers for each period have repurchased or not"
   ]
  },
  {
   "cell_type": "code",
   "execution_count": 99,
   "metadata": {
    "ExecuteTime": {
     "end_time": "2018-09-26T13:16:50.276892Z",
     "start_time": "2018-09-26T13:16:50.260892Z"
    }
   },
   "outputs": [],
   "source": [
    "t_customers['R_28D'] = t_customers['SUIT_28D'] * t_customers['RR_28D']\n",
    "t_customers['R_56D'] = t_customers['SUIT_56D'] * t_customers['RR_56D']\n",
    "t_customers['R_84D'] = t_customers['SUIT_84D'] * t_customers['RR_84D']\n",
    "t_customers['R_180D'] = t_customers['SUIT_180D'] * t_customers['RR_180D']"
   ]
  },
  {
   "cell_type": "code",
   "execution_count": 100,
   "metadata": {
    "ExecuteTime": {
     "end_time": "2018-09-26T13:16:50.289892Z",
     "start_time": "2018-09-26T13:16:50.277892Z"
    }
   },
   "outputs": [
    {
     "data": {
      "text/plain": [
       "Index(['CUSTOMER_ID', 'TIER', 'ORDERS', '1ST_O_DATE', '1ST_O_COUNT',\n",
       "       '28D_DATE', 'N_28D', '56D_DATE', 'N_56D', '84D_DATE', 'N_84D',\n",
       "       '180D_DATE', 'N_180D', 'SALES', 'NET_SALES', 'BASKET_AVG', 'CM1',\n",
       "       'CM1_AVG', 'CM1%', 'CM2', 'CM2_AVG', 'CM2%', 'R_IN_28D', 'R_IN_56D',\n",
       "       'R_IN_84D', 'R_IN_180D', 'RR_28D', 'RR_56D', 'RR_84D', 'RR_180D',\n",
       "       'SUIT_180D', 'SUIT_84D', 'SUIT_56D', 'SUIT_28D', 'R_28D', 'R_56D',\n",
       "       'R_84D', 'R_180D'],\n",
       "      dtype='object')"
      ]
     },
     "execution_count": 100,
     "metadata": {},
     "output_type": "execute_result"
    }
   ],
   "source": [
    "t_customers.columns"
   ]
  },
  {
   "cell_type": "markdown",
   "metadata": {},
   "source": [
    "**Repurchasing Rate in 28 days per Tier:** "
   ]
  },
  {
   "cell_type": "code",
   "execution_count": 101,
   "metadata": {
    "ExecuteTime": {
     "end_time": "2018-09-26T13:16:50.308892Z",
     "start_time": "2018-09-26T13:16:50.290892Z"
    }
   },
   "outputs": [
    {
     "data": {
      "text/plain": [
       "TIER\n",
       "153    22.51\n",
       "154    21.95\n",
       "155    21.04\n",
       "156    20.61\n",
       "dtype: float64"
      ]
     },
     "execution_count": 101,
     "metadata": {},
     "output_type": "execute_result"
    }
   ],
   "source": [
    "tier_rr_28d = (t_customers.groupby('TIER')['R_28D'].sum() / t_customers.groupby('TIER')['SUIT_28D'].sum() * 100).round(2)\n",
    "tier_rr_28d"
   ]
  },
  {
   "cell_type": "markdown",
   "metadata": {},
   "source": [
    "**Repurchasing Rate in 56 days per Tier:** "
   ]
  },
  {
   "cell_type": "code",
   "execution_count": 102,
   "metadata": {
    "ExecuteTime": {
     "end_time": "2018-09-26T13:16:50.321892Z",
     "start_time": "2018-09-26T13:16:50.309892Z"
    }
   },
   "outputs": [
    {
     "data": {
      "text/plain": [
       "TIER\n",
       "153    52.75\n",
       "154    50.38\n",
       "155    51.36\n",
       "156    52.63\n",
       "dtype: float64"
      ]
     },
     "execution_count": 102,
     "metadata": {},
     "output_type": "execute_result"
    }
   ],
   "source": [
    "tier_rr_56d = (t_customers.groupby('TIER')['R_56D'].sum() / t_customers.groupby('TIER')['SUIT_56D'].sum() * 100).round(2)\n",
    "tier_rr_56d"
   ]
  },
  {
   "cell_type": "markdown",
   "metadata": {},
   "source": [
    "**Repurchasing Rate in 84 days per Tier:** "
   ]
  },
  {
   "cell_type": "code",
   "execution_count": 103,
   "metadata": {
    "ExecuteTime": {
     "end_time": "2018-09-26T13:16:50.336892Z",
     "start_time": "2018-09-26T13:16:50.322892Z"
    }
   },
   "outputs": [
    {
     "data": {
      "text/plain": [
       "TIER\n",
       "153    72.81\n",
       "154    71.00\n",
       "155    72.05\n",
       "156    72.86\n",
       "dtype: float64"
      ]
     },
     "execution_count": 103,
     "metadata": {},
     "output_type": "execute_result"
    }
   ],
   "source": [
    "tier_rr_84d = (t_customers.groupby('TIER')['R_84D'].sum() / t_customers.groupby('TIER')['SUIT_84D'].sum() * 100).round(2)\n",
    "tier_rr_84d"
   ]
  },
  {
   "cell_type": "markdown",
   "metadata": {},
   "source": [
    "**Repurchasing Rate in 180 days per Tier:** "
   ]
  },
  {
   "cell_type": "code",
   "execution_count": 104,
   "metadata": {
    "ExecuteTime": {
     "end_time": "2018-09-26T13:16:50.351892Z",
     "start_time": "2018-09-26T13:16:50.337892Z"
    }
   },
   "outputs": [
    {
     "data": {
      "text/plain": [
       "TIER\n",
       "153    91.07\n",
       "154    92.56\n",
       "155    92.68\n",
       "156    95.10\n",
       "dtype: float64"
      ]
     },
     "execution_count": 104,
     "metadata": {},
     "output_type": "execute_result"
    }
   ],
   "source": [
    "tier_rr_180d = (t_customers.groupby('TIER')['R_180D'].sum() / t_customers.groupby('TIER')['SUIT_180D'].sum() * 100).round(2)\n",
    "tier_rr_180d"
   ]
  },
  {
   "cell_type": "markdown",
   "metadata": {},
   "source": [
    "In the nearest short-term (28d) low discount tiers (153, 154) have a high repurchasing rate, also their median basket values are \n",
    "lower, so that could be explain by this. 56 and 84 days periods, especially the 2nd one stay with very similar repurchasing rates among tiers.\n",
    "For the mid-term (6 months), the higher the tier the greater the repurchase rate."
   ]
  },
  {
   "cell_type": "markdown",
   "metadata": {},
   "source": [
    "#### Customer behaviour"
   ]
  },
  {
   "cell_type": "code",
   "execution_count": 105,
   "metadata": {
    "ExecuteTime": {
     "end_time": "2018-09-26T13:16:50.448892Z",
     "start_time": "2018-09-26T13:16:50.352892Z"
    }
   },
   "outputs": [
    {
     "data": {
      "text/plain": [
       "count    12676.000000\n",
       "mean         5.120701\n",
       "std          4.653563\n",
       "min          1.000000\n",
       "25%          2.000000\n",
       "50%          4.000000\n",
       "75%          7.000000\n",
       "max         91.000000\n",
       "Name: SCM_N_ORDER_NR, dtype: float64"
      ]
     },
     "execution_count": 105,
     "metadata": {},
     "output_type": "execute_result"
    }
   ],
   "source": [
    "data.groupby('CUS_N_KEY_CUSTOMER')['SCM_N_ORDER_NR'].nunique().describe()"
   ]
  },
  {
   "cell_type": "code",
   "execution_count": 106,
   "metadata": {
    "ExecuteTime": {
     "end_time": "2018-09-26T13:17:25.147572Z",
     "start_time": "2018-09-26T13:16:50.449892Z"
    }
   },
   "outputs": [],
   "source": [
    "# We create a dictionary having Customer ID as key and Lead PG4 from each order \n",
    "#as the values in a list  -sorted from order 1 to n-\n",
    "cus_dict_pg4 = {}\n",
    "\n",
    "for i in data['CUS_N_KEY_CUSTOMER'].unique():\n",
    "    cus_data = data[data['CUS_N_KEY_CUSTOMER'] == i].groupby('OSP_KO_COUNT_NET', as_index=False)['OSP_4_LEAD_P_PG_ID'].mean()\n",
    "    cus_dict_pg4[i] = list(cus_data.sort_values(by='OSP_KO_COUNT_NET')['OSP_4_LEAD_P_PG_ID'])"
   ]
  },
  {
   "cell_type": "code",
   "execution_count": 107,
   "metadata": {
    "ExecuteTime": {
     "end_time": "2018-09-26T13:17:55.357081Z",
     "start_time": "2018-09-26T13:17:25.147572Z"
    }
   },
   "outputs": [],
   "source": [
    "# We create another customer based dictionary having Customer ID as key and Sales from each order \n",
    "# as the values in a list  -sorted from order 1 to n-\n",
    "cus_dict_sales = {}\n",
    "\n",
    "for i in data['CUS_N_KEY_CUSTOMER'].unique():\n",
    "    cus_data = data[data['CUS_N_KEY_CUSTOMER'] == i].groupby('OSP_KO_COUNT_NET', as_index=False)['BASKET_VALUE'].mean()\n",
    "    cus_dict_sales[i] = list(cus_data.sort_values(by='OSP_KO_COUNT_NET')['BASKET_VALUE'].round(2))"
   ]
  },
  {
   "cell_type": "code",
   "execution_count": 108,
   "metadata": {
    "ExecuteTime": {
     "end_time": "2018-09-26T13:17:55.361081Z",
     "start_time": "2018-09-26T13:17:55.358081Z"
    }
   },
   "outputs": [],
   "source": [
    "chosen_pg4 = [283, 286, 192127]"
   ]
  },
  {
   "cell_type": "code",
   "execution_count": 109,
   "metadata": {
    "ExecuteTime": {
     "end_time": "2018-09-26T13:17:56.017079Z",
     "start_time": "2018-09-26T13:17:55.362081Z"
    }
   },
   "outputs": [],
   "source": [
    "# Between 0 and 1 we create a scale of how far are customer orders Lead PG4 compared with the chosen ones. \n",
    "# 0 means chosen PG4 iDs appearing in every order and 1 no chosen PG4.\n",
    "\n",
    "cus_dict_info = {}\n",
    "\n",
    "for i in np.sort(data['CUS_N_KEY_CUSTOMER'].unique()):\n",
    "    cus_dict_info[i] = {}\n",
    "    #cus_dict_info[i]['pg4'] = cus_dict_pg4[i]\n",
    "    #cus_dict_info[i]['basket_values'] = cus_dict_sales[i]\n",
    "    cus_dict_info[i]['total_sales'] = sum(cus_dict_sales[i]) # sum values in the customer sales list from the dictionary\n",
    "    cus_dict_info[i]['orders'] = len(cus_dict_sales[i]) # get the length of the list, one position per order\n",
    "    cus_dict_info[i]['orders_info'] = [(x, y) for x, y in zip(cus_dict_pg4[i], cus_dict_sales[i])] # sorted tuple (lead PG4, sales) \n",
    "    cus_dict_info[i]['distance'] = (len(cus_dict_sales[i]) - sum([pg4 in chosen_pg4 for pg4 in cus_dict_pg4[i]])) / len(cus_dict_pg4[i])\n",
    "    c = Counter(cus_dict_pg4[i])\n",
    "    ord_per_pg4 = sorted(c.most_common() , key= lambda x: x[0], reverse=True)\n",
    "    sales_per_pg4 = sorted([(pg4_,sum([sales_ for pg_, sales_ in cus_dict_info[i]['orders_info'] if pg_== pg4_])) \n",
    "                                         for pg4_ in set([pg4 for pg4, sales in cus_dict_info[i]['orders_info']])], key= lambda x: x[0], reverse=True)\n",
    "    cus_dict_info[i]['pg4_ord_sales'] = sorted([(x[0], x[1], y[1]) for x, y in zip(ord_per_pg4, sales_per_pg4)], key= lambda x: (x[1], x[2]), reverse=True)\n",
    "    cus_dict_info[i]['main_pg4'] = cus_dict_info[i]['pg4_ord_sales'][0][0]\n",
    "    cus_dict_info[i]['main_pg4_%_ord'] = np.round(cus_dict_info[i]['pg4_ord_sales'][0][1] / cus_dict_info[i]['orders'], 2)\n",
    "    cus_dict_info[i]['main_pg4_%_sales'] = np.round(cus_dict_info[i]['pg4_ord_sales'][0][2] / cus_dict_info[i]['total_sales'], 2)"
   ]
  },
  {
   "cell_type": "code",
   "execution_count": 110,
   "metadata": {
    "ExecuteTime": {
     "end_time": "2018-09-26T13:17:56.174079Z",
     "start_time": "2018-09-26T13:17:56.019079Z"
    }
   },
   "outputs": [],
   "source": [
    "cus_attr = pd.DataFrame.from_dict(cus_dict_info, orient='index').round(2)"
   ]
  },
  {
   "cell_type": "code",
   "execution_count": 111,
   "metadata": {
    "ExecuteTime": {
     "end_time": "2018-09-26T13:17:56.211079Z",
     "start_time": "2018-09-26T13:17:56.176079Z"
    }
   },
   "outputs": [
    {
     "data": {
      "text/html": [
       "<div>\n",
       "<style scoped>\n",
       "    .dataframe tbody tr th:only-of-type {\n",
       "        vertical-align: middle;\n",
       "    }\n",
       "\n",
       "    .dataframe tbody tr th {\n",
       "        vertical-align: top;\n",
       "    }\n",
       "\n",
       "    .dataframe thead th {\n",
       "        text-align: right;\n",
       "    }\n",
       "</style>\n",
       "<table border=\"1\" class=\"dataframe\">\n",
       "  <thead>\n",
       "    <tr style=\"text-align: right;\">\n",
       "      <th></th>\n",
       "      <th>total_sales</th>\n",
       "      <th>orders</th>\n",
       "      <th>orders_info</th>\n",
       "      <th>distance</th>\n",
       "      <th>pg4_ord_sales</th>\n",
       "      <th>main_pg4</th>\n",
       "      <th>main_pg4_%_ord</th>\n",
       "      <th>main_pg4_%_sales</th>\n",
       "    </tr>\n",
       "  </thead>\n",
       "  <tbody>\n",
       "    <tr>\n",
       "      <th>372507</th>\n",
       "      <td>129.38</td>\n",
       "      <td>2</td>\n",
       "      <td>[(283, 87.28), (1412, 42.1)]</td>\n",
       "      <td>0.50</td>\n",
       "      <td>[(283, 1, 87.28), (1412, 1, 42.1)]</td>\n",
       "      <td>283.0</td>\n",
       "      <td>0.50</td>\n",
       "      <td>0.67</td>\n",
       "    </tr>\n",
       "    <tr>\n",
       "      <th>603899</th>\n",
       "      <td>169.74</td>\n",
       "      <td>1</td>\n",
       "      <td>[(2072, 169.74)]</td>\n",
       "      <td>1.00</td>\n",
       "      <td>[(2072, 1, 169.74)]</td>\n",
       "      <td>2072.0</td>\n",
       "      <td>1.00</td>\n",
       "      <td>1.00</td>\n",
       "    </tr>\n",
       "    <tr>\n",
       "      <th>613442</th>\n",
       "      <td>540.25</td>\n",
       "      <td>9</td>\n",
       "      <td>[(151599, 75.07), (151599, 68.45), (31962, 72....</td>\n",
       "      <td>1.00</td>\n",
       "      <td>[(9498, 4, 198.18), (151599, 3, 196.6799999999...</td>\n",
       "      <td>9498.0</td>\n",
       "      <td>0.44</td>\n",
       "      <td>0.37</td>\n",
       "    </tr>\n",
       "    <tr>\n",
       "      <th>626438</th>\n",
       "      <td>1199.95</td>\n",
       "      <td>12</td>\n",
       "      <td>[(286, 97.72), (719, 93.25), (81397, 64.64), (...</td>\n",
       "      <td>0.58</td>\n",
       "      <td>[(286, 5, 523.2), (719, 5, 514.2900000000001),...</td>\n",
       "      <td>286.0</td>\n",
       "      <td>0.42</td>\n",
       "      <td>0.44</td>\n",
       "    </tr>\n",
       "    <tr>\n",
       "      <th>635902</th>\n",
       "      <td>1062.26</td>\n",
       "      <td>18</td>\n",
       "      <td>[(304, 42.7), (39209, 52.39), (81397, 60.76), ...</td>\n",
       "      <td>1.00</td>\n",
       "      <td>[(72002, 8, 504.28), (81397, 2, 109.15), (304,...</td>\n",
       "      <td>72002.0</td>\n",
       "      <td>0.44</td>\n",
       "      <td>0.47</td>\n",
       "    </tr>\n",
       "    <tr>\n",
       "      <th>643290</th>\n",
       "      <td>428.17</td>\n",
       "      <td>10</td>\n",
       "      <td>[(682, 35.87), (31963, 61.37), (528, 28.79), (...</td>\n",
       "      <td>1.00</td>\n",
       "      <td>[(31963, 4, 180.41000000000003), (528, 3, 129....</td>\n",
       "      <td>31963.0</td>\n",
       "      <td>0.40</td>\n",
       "      <td>0.42</td>\n",
       "    </tr>\n",
       "    <tr>\n",
       "      <th>648828</th>\n",
       "      <td>91.18</td>\n",
       "      <td>1</td>\n",
       "      <td>[(283, 91.18)]</td>\n",
       "      <td>0.00</td>\n",
       "      <td>[(283, 1, 91.18)]</td>\n",
       "      <td>283.0</td>\n",
       "      <td>1.00</td>\n",
       "      <td>1.00</td>\n",
       "    </tr>\n",
       "    <tr>\n",
       "      <th>682209</th>\n",
       "      <td>1074.96</td>\n",
       "      <td>8</td>\n",
       "      <td>[(40419.882352941175, 133.95), (286.0, 214.1),...</td>\n",
       "      <td>0.75</td>\n",
       "      <td>[(683.0, 3, 485.37), (286.0, 2, 311.85), (4041...</td>\n",
       "      <td>683.0</td>\n",
       "      <td>0.38</td>\n",
       "      <td>0.45</td>\n",
       "    </tr>\n",
       "    <tr>\n",
       "      <th>684441</th>\n",
       "      <td>262.61</td>\n",
       "      <td>3</td>\n",
       "      <td>[(683, 112.61), (207640, 93.97), (128, 56.03)]</td>\n",
       "      <td>1.00</td>\n",
       "      <td>[(683, 1, 112.61), (207640, 1, 93.97), (128, 1...</td>\n",
       "      <td>683.0</td>\n",
       "      <td>0.33</td>\n",
       "      <td>0.43</td>\n",
       "    </tr>\n",
       "    <tr>\n",
       "      <th>684669</th>\n",
       "      <td>216.53</td>\n",
       "      <td>1</td>\n",
       "      <td>[(10331, 216.53)]</td>\n",
       "      <td>1.00</td>\n",
       "      <td>[(10331, 1, 216.53)]</td>\n",
       "      <td>10331.0</td>\n",
       "      <td>1.00</td>\n",
       "      <td>1.00</td>\n",
       "    </tr>\n",
       "  </tbody>\n",
       "</table>\n",
       "</div>"
      ],
      "text/plain": [
       "        total_sales  orders  \\\n",
       "372507       129.38       2   \n",
       "603899       169.74       1   \n",
       "613442       540.25       9   \n",
       "626438      1199.95      12   \n",
       "635902      1062.26      18   \n",
       "643290       428.17      10   \n",
       "648828        91.18       1   \n",
       "682209      1074.96       8   \n",
       "684441       262.61       3   \n",
       "684669       216.53       1   \n",
       "\n",
       "                                              orders_info  distance  \\\n",
       "372507                       [(283, 87.28), (1412, 42.1)]      0.50   \n",
       "603899                                   [(2072, 169.74)]      1.00   \n",
       "613442  [(151599, 75.07), (151599, 68.45), (31962, 72....      1.00   \n",
       "626438  [(286, 97.72), (719, 93.25), (81397, 64.64), (...      0.58   \n",
       "635902  [(304, 42.7), (39209, 52.39), (81397, 60.76), ...      1.00   \n",
       "643290  [(682, 35.87), (31963, 61.37), (528, 28.79), (...      1.00   \n",
       "648828                                     [(283, 91.18)]      0.00   \n",
       "682209  [(40419.882352941175, 133.95), (286.0, 214.1),...      0.75   \n",
       "684441     [(683, 112.61), (207640, 93.97), (128, 56.03)]      1.00   \n",
       "684669                                  [(10331, 216.53)]      1.00   \n",
       "\n",
       "                                            pg4_ord_sales  main_pg4  \\\n",
       "372507                 [(283, 1, 87.28), (1412, 1, 42.1)]     283.0   \n",
       "603899                                [(2072, 1, 169.74)]    2072.0   \n",
       "613442  [(9498, 4, 198.18), (151599, 3, 196.6799999999...    9498.0   \n",
       "626438  [(286, 5, 523.2), (719, 5, 514.2900000000001),...     286.0   \n",
       "635902  [(72002, 8, 504.28), (81397, 2, 109.15), (304,...   72002.0   \n",
       "643290  [(31963, 4, 180.41000000000003), (528, 3, 129....   31963.0   \n",
       "648828                                  [(283, 1, 91.18)]     283.0   \n",
       "682209  [(683.0, 3, 485.37), (286.0, 2, 311.85), (4041...     683.0   \n",
       "684441  [(683, 1, 112.61), (207640, 1, 93.97), (128, 1...     683.0   \n",
       "684669                               [(10331, 1, 216.53)]   10331.0   \n",
       "\n",
       "        main_pg4_%_ord  main_pg4_%_sales  \n",
       "372507            0.50              0.67  \n",
       "603899            1.00              1.00  \n",
       "613442            0.44              0.37  \n",
       "626438            0.42              0.44  \n",
       "635902            0.44              0.47  \n",
       "643290            0.40              0.42  \n",
       "648828            1.00              1.00  \n",
       "682209            0.38              0.45  \n",
       "684441            0.33              0.43  \n",
       "684669            1.00              1.00  "
      ]
     },
     "execution_count": 111,
     "metadata": {},
     "output_type": "execute_result"
    }
   ],
   "source": [
    "cus_attr.head(10)\n",
    "# orders_info: each tuple has (Lead PG4, basket value) and are sorted from 1st order to n\n",
    "# pg4_ord_sales: info per tuple (lead PG4, orders in which the PG4 is Lead PG, sales from those orders)\n",
    "# - orders & sales aggregated by Lead PG4 and sorted 1st by orders 'descending' and 2nd by sales 'descending' -\n",
    "# main_pg4: Lead PG4 from the pg4_ord_sales 1st tuple: the one having more orders or more sales value (in case of orders equality)\n",
    "# main_pg4_%_ord: orders from the pg4_ord_sales 1st tuple / total orders\n",
    "# main_pg4_%_sales: sales from the pg4_ord_sales 1st tuple / total sales"
   ]
  },
  {
   "cell_type": "code",
   "execution_count": 112,
   "metadata": {
    "ExecuteTime": {
     "end_time": "2018-09-26T13:17:56.227079Z",
     "start_time": "2018-09-26T13:17:56.213079Z"
    }
   },
   "outputs": [],
   "source": [
    "cus_attr['main_pg4_ord'] = [i[0][1] for i in cus_attr['pg4_ord_sales']]"
   ]
  },
  {
   "cell_type": "code",
   "execution_count": 113,
   "metadata": {
    "ExecuteTime": {
     "end_time": "2018-09-26T13:17:56.251079Z",
     "start_time": "2018-09-26T13:17:56.228079Z"
    }
   },
   "outputs": [],
   "source": [
    "cus_attr['main_pg4_sales'] = [i[0][2] for i in cus_attr['pg4_ord_sales']]"
   ]
  },
  {
   "cell_type": "code",
   "execution_count": 114,
   "metadata": {
    "ExecuteTime": {
     "end_time": "2018-09-26T13:17:56.271079Z",
     "start_time": "2018-09-26T13:17:56.252079Z"
    }
   },
   "outputs": [],
   "source": [
    "# 8906 customers having at least 3 orders\n",
    "cus_attr_3ord = cus_attr[cus_attr['orders'] >= 3]"
   ]
  },
  {
   "cell_type": "code",
   "execution_count": 115,
   "metadata": {
    "ExecuteTime": {
     "end_time": "2018-09-26T13:17:56.285079Z",
     "start_time": "2018-09-26T13:17:56.272079Z"
    }
   },
   "outputs": [
    {
     "data": {
      "text/plain": [
       "8906"
      ]
     },
     "execution_count": 115,
     "metadata": {},
     "output_type": "execute_result"
    }
   ],
   "source": [
    "len(cus_attr_3ord)"
   ]
  },
  {
   "cell_type": "code",
   "execution_count": 116,
   "metadata": {
    "ExecuteTime": {
     "end_time": "2018-09-26T13:17:56.303079Z",
     "start_time": "2018-09-26T13:17:56.286079Z"
    }
   },
   "outputs": [
    {
     "data": {
      "text/plain": [
       "count    8906.000000\n",
       "mean        0.569810\n",
       "std         0.412044\n",
       "min         0.000000\n",
       "25%         0.140000\n",
       "50%         0.670000\n",
       "75%         1.000000\n",
       "max         1.000000\n",
       "Name: distance, dtype: float64"
      ]
     },
     "execution_count": 116,
     "metadata": {},
     "output_type": "execute_result"
    }
   ],
   "source": [
    "cus_attr_3ord['distance'].describe()"
   ]
  },
  {
   "cell_type": "code",
   "execution_count": 117,
   "metadata": {
    "ExecuteTime": {
     "end_time": "2018-09-26T13:17:56.652079Z",
     "start_time": "2018-09-26T13:17:56.304079Z"
    }
   },
   "outputs": [
    {
     "data": {
      "text/plain": [
       "Text(0.5,0,'Distance')"
      ]
     },
     "execution_count": 117,
     "metadata": {},
     "output_type": "execute_result"
    },
    {
     "data": {
      "image/png": "[encoded data removed]",
      "text/plain": [
       "<matplotlib.figure.Figure at 0xde4e908>"
      ]
     },
     "metadata": {},
     "output_type": "display_data"
    }
   ],
   "source": [
    "plt.figure(figsize=(12, 6))\n",
    "cus_attr_3ord['distance'].hist(bins=100)\n",
    "plt.axvline(x=0.5, color='red')\n",
    "plt.title('Histogram of distance per customer')\n",
    "plt.ylabel('Customers')\n",
    "plt.xlabel('Distance')"
   ]
  },
  {
   "cell_type": "code",
   "execution_count": 118,
   "metadata": {
    "ExecuteTime": {
     "end_time": "2018-09-26T13:17:56.660079Z",
     "start_time": "2018-09-26T13:17:56.654079Z"
    }
   },
   "outputs": [
    {
     "data": {
      "text/plain": [
       "Int64Index([  613442,   626438,   635902,   643290,   682209,   684441,\n",
       "              684726,   684970,   707557,   711674,\n",
       "            ...\n",
       "            19157984, 19220389, 19228937, 19247375, 19256376, 19331720,\n",
       "            19417647, 19421567, 19621504, 19898145],\n",
       "           dtype='int64', length=4917)"
      ]
     },
     "execution_count": 118,
     "metadata": {},
     "output_type": "execute_result"
    }
   ],
   "source": [
    "# 4917 (55%) customers from 8906 (>= 3 orders) placed more than the half of their orders in the selected period \n",
    "# without any chosen PG4 IDs as Lead PG\n",
    "cus_attr_3ord[cus_attr_3ord['distance'] > 0.50].index"
   ]
  },
  {
   "cell_type": "code",
   "execution_count": 119,
   "metadata": {
    "ExecuteTime": {
     "end_time": "2018-09-26T13:17:56.691079Z",
     "start_time": "2018-09-26T13:17:56.662079Z"
    }
   },
   "outputs": [
    {
     "data": {
      "text/plain": [
       "283.0       3534\n",
       "286.0        636\n",
       "683.0        428\n",
       "682.0        281\n",
       "81397.0      170\n",
       "31962.0      155\n",
       "95904.0      141\n",
       "180361.0     141\n",
       "2127.0       141\n",
       "81396.0      139\n",
       "31963.0      136\n",
       "719.0        130\n",
       "10331.0      128\n",
       "17798.0      114\n",
       "192127.0     106\n",
       "720.0        104\n",
       "255.0         99\n",
       "17963.0       99\n",
       "81431.0       77\n",
       "2071.0        74\n",
       "2072.0        71\n",
       "35825.0       68\n",
       "9425.0        63\n",
       "261925.0      62\n",
       "47690.0       60\n",
       "Name: main_pg4, dtype: int64"
      ]
     },
     "execution_count": 119,
     "metadata": {},
     "output_type": "execute_result"
    }
   ],
   "source": [
    "cus_attr_3ord['main_pg4'].value_counts().head(25)"
   ]
  },
  {
   "attachments": {
    "image.png": {
     "image/png": "[encoded data removed]"
    }
   },
   "cell_type": "markdown",
   "metadata": {},
   "source": [
    "<html><head>\n",
    "\n",
    "\n",
    "<!-- Load require.js. Delete this if your page already loads require.js -->\n",
    "<script src=\"https://cdnjs.cloudflare.com/ajax/libs/require.js/2.3.4/require.min.js\" integrity=\"sha256-Ae2Vz/4ePdIu6ZyI/5ZGsYnb+m0JlOmKPjt6XZ9JJkA=\" crossorigin=\"anonymous\"></script>\n",
    "<script src=\"https://unpkg.com/@jupyter-widgets/html-manager@*/dist/embed-amd.js\" crossorigin=\"anonymous\"></script>\n",
    "<script type=\"application/vnd.jupyter.widget-state+json\">\n",
    "{\n",
    "    \"version_major\": 2,\n",
    "    \"version_minor\": 0,\n",
    "    \"state\": {}\n",
    "}\n",
    "</script>\n",
    "</head>\n",
    "<body>\n",
    "\n",
    "\n",
    "</body>\n",
    "</html>\n",
    "![image.png](attachment:image.png)"
   ]
  },
  {
   "cell_type": "markdown",
   "metadata": {},
   "source": [
    "- Pro Plan Prods are Lead PGs for 4276 customers\n",
    "- Royal Canin Prods are Lead PGs for 1370 customers\n",
    "- Hill's Prods are Lead PGs for 525 customers\n",
    "- Private label Prods are Lead PGs for 410 customers"
   ]
  },
  {
   "cell_type": "markdown",
   "metadata": {},
   "source": [
    "#### Basket analysis (apriori algorithm)"
   ]
  },
  {
   "cell_type": "code",
   "execution_count": 120,
   "metadata": {
    "ExecuteTime": {
     "end_time": "2018-09-26T13:17:56.772079Z",
     "start_time": "2018-09-26T13:17:56.692079Z"
    }
   },
   "outputs": [],
   "source": [
    "data['PP_NAME'] = data['PP_NAME'].astype(str)"
   ]
  },
  {
   "cell_type": "code",
   "execution_count": 121,
   "metadata": {
    "ExecuteTime": {
     "end_time": "2018-09-26T13:17:59.572044Z",
     "start_time": "2018-09-26T13:17:56.773079Z"
    }
   },
   "outputs": [],
   "source": [
    "basket_info = list(data.groupby('SCM_N_ORDER_NR')['PP_NAME'].apply(list).values)"
   ]
  },
  {
   "cell_type": "code",
   "execution_count": 122,
   "metadata": {
    "ExecuteTime": {
     "end_time": "2018-09-26T13:17:59.573044Z",
     "start_time": "2018-09-26T13:17:59.572044Z"
    }
   },
   "outputs": [
    {
     "data": {
      "text/plain": [
       "64910"
      ]
     },
     "execution_count": 122,
     "metadata": {},
     "output_type": "execute_result"
    }
   ],
   "source": [
    "len(basket_info)"
   ]
  },
  {
   "cell_type": "code",
   "execution_count": 123,
   "metadata": {
    "ExecuteTime": {
     "end_time": "2018-09-26T13:17:59.592044Z",
     "start_time": "2018-09-26T13:17:59.573044Z"
    }
   },
   "outputs": [
    {
     "data": {
      "text/plain": [
       "[['Pro Plan Cat Sterilised reich an Lachs',\n",
       "  'Pro Plan Cat Sterilised reich an Lachs',\n",
       "  'Moser Dematter',\n",
       "  'INNE CAT KITTEN',\n",
       "  'Megapack Catessy Pouch 12x100g',\n",
       "  'Sanabelle Adult mit Geflügel',\n",
       "  'Lukullus Nassfutter',\n",
       "  'Royal Canin Exigent 42',\n",
       "  'Gimpet Pudding für Katzen 150g',\n",
       "  'MP Smilla Geflügeltöpfchen 6 x 800 g ',\n",
       "  'Pedigree Riesenknochen',\n",
       "  'Hunter Halsband Ecco Sport Vario Basic, rot',\n",
       "  'Rocco Sensible Nassfutter',\n",
       "  'nan',\n",
       "  'nan',\n",
       "  'nan'],\n",
       " ['Royal Canin Vet Care Senior Consult Stage 1 Balance',\n",
       "  'Savings Plan',\n",
       "  'Whiskas Knusper-Taschen',\n",
       "  'Whiskas Knusper-Taschen',\n",
       "  'Whiskas Knusper-Taschen',\n",
       "  'Whiskas Knusper-Taschen',\n",
       "  'Whiskas Crunch 100 g',\n",
       "  'Seresto Collier Katze (FR)',\n",
       "  'Catsan Hygienestreu ',\n",
       "  'Megapack Gourmet Perle 24 x 85 g',\n",
       "  'nan'],\n",
       " ['RAZAS  Schinkenknochen',\n",
       "  'Alpha Spirit halber Schinkenknochen',\n",
       "  'Megapack Hills Frischebeutel 12 x 85 g',\n",
       "  'Barkoo Kauknochen geknotet',\n",
       "  'Lukullus Kauknochen mit Huhn',\n",
       "  'Chenillematte',\n",
       "  'Royal Canin Medium Adult Sterilised',\n",
       "  'Tierfigur aus Baumwolltau Hundespielzeug',\n",
       "  'MP Royal Canin 6 x 85 g',\n",
       "  'MP Royal Canin 4 x 85 g',\n",
       "  'Royal Canin Pouches, 85 g',\n",
       "  'nan',\n",
       "  'nan'],\n",
       " ['Royal Canin - Vet Diet - Urinary S/O High Dilution',\n",
       "  'Royal Canin - Vet Care - Young Female',\n",
       "  'Savings Plan',\n",
       "  'Tigerino Crystals Classic',\n",
       "  'nan',\n",
       "  'nan'],\n",
       " ['Puppy Trainer Pads',\n",
       "  'Hunter Halsband Ecco Sport Vario Basic, schwarz',\n",
       "  'nan',\n",
       "  'nan']]"
      ]
     },
     "execution_count": 123,
     "metadata": {},
     "output_type": "execute_result"
    }
   ],
   "source": [
    "basket_info[:5]"
   ]
  },
  {
   "cell_type": "code",
   "execution_count": 124,
   "metadata": {
    "ExecuteTime": {
     "end_time": "2018-09-26T13:17:59.728044Z",
     "start_time": "2018-09-26T13:17:59.593044Z"
    }
   },
   "outputs": [],
   "source": [
    "basket_info = [[item for item in basket if item != 'nan'] for basket in basket_info]"
   ]
  },
  {
   "cell_type": "code",
   "execution_count": 125,
   "metadata": {
    "ExecuteTime": {
     "end_time": "2018-09-26T13:17:59.734044Z",
     "start_time": "2018-09-26T13:17:59.729044Z"
    }
   },
   "outputs": [
    {
     "data": {
      "text/plain": [
       "'Pro Plan Cat Sterilised reich an Lachs'"
      ]
     },
     "execution_count": 125,
     "metadata": {},
     "output_type": "execute_result"
    }
   ],
   "source": [
    "basket_info[:5][0][0]"
   ]
  },
  {
   "cell_type": "code",
   "execution_count": 126,
   "metadata": {
    "ExecuteTime": {
     "end_time": "2018-09-26T13:17:59.754044Z",
     "start_time": "2018-09-26T13:17:59.736044Z"
    }
   },
   "outputs": [
    {
     "data": {
      "text/plain": [
       "64910"
      ]
     },
     "execution_count": 126,
     "metadata": {},
     "output_type": "execute_result"
    }
   ],
   "source": [
    "len(basket_info)"
   ]
  },
  {
   "cell_type": "code",
   "execution_count": 127,
   "metadata": {
    "ExecuteTime": {
     "end_time": "2018-09-26T13:17:59.772044Z",
     "start_time": "2018-09-26T13:17:59.755044Z"
    }
   },
   "outputs": [],
   "source": [
    "import apriori_py3"
   ]
  },
  {
   "cell_type": "code",
   "execution_count": 128,
   "metadata": {
    "ExecuteTime": {
     "end_time": "2018-09-26T13:18:49.786588Z",
     "start_time": "2018-09-26T13:17:59.773044Z"
    }
   },
   "outputs": [],
   "source": [
    "L,suppData = apriori_py3.apriori(basket_info, minSupport = 0.005)"
   ]
  },
  {
   "cell_type": "code",
   "execution_count": 129,
   "metadata": {
    "ExecuteTime": {
     "end_time": "2018-09-26T13:18:49.787588Z",
     "start_time": "2018-09-26T13:18:49.786588Z"
    },
    "scrolled": false
   },
   "outputs": [
    {
     "data": {
      "text/plain": [
       "[[frozenset({'Purizon Cat Sterilised Huhn & Fisch'}),\n",
       "  frozenset({'RC MP wet cat food entry pack 4x85g pouches'}),\n",
       "  frozenset({'Cosma gefriergetrocknete Snacks große Tube'}),\n",
       "  frozenset({'Catessy Knabber-Snack 65 g'}),\n",
       "  frozenset({'Royal Canin Sensible 33'}),\n",
       "  frozenset({'Royal Canin Veterinary Diet Cat- Urinary S/O'}),\n",
       "  frozenset({'Tigerino Canada Unscented \"Sensitive\"'}),\n",
       "  frozenset({'Whiskas 1+ Megapack 12 x 100 g '}),\n",
       "  frozenset({'Megapack cosma nature 6 x 70 g Dose'}),\n",
       "  frozenset({'Spieltau Bunt'}),\n",
       "  frozenset({'Royal Canin Maine Coon 31'}),\n",
       "  frozenset({'MP Almo Nature Legend  Mix 6 x 70 g'}),\n",
       "  frozenset({'Frontline combo (FR) Katze'}),\n",
       "  frozenset({'Royal Canin - Vet Diet - Gastro Intestinal '}),\n",
       "  frozenset({'Futtertonne aus Nylon'}),\n",
       "  frozenset({'Feliway DE '}),\n",
       "  frozenset({'Almo Nature Daily Menu 85 g'}),\n",
       "  frozenset({'Golden Grey Master '}),\n",
       "  frozenset({'Hill´s PD Feline Metabolic'}),\n",
       "  frozenset({'Cat Mate Trinkbrunnen'}),\n",
       "  frozenset({'Aloe Vera Hundeshampoo'}),\n",
       "  frozenset({'PURINA DENTALIFE SNACKS'}),\n",
       "  frozenset({'Hundekotbeutel schwarz'}),\n",
       "  frozenset({'Royal Canin Sterilised Appetite Control'}),\n",
       "  frozenset({'Smilla Trockenfutter Adult Sterilised'}),\n",
       "  frozenset({'Pro Plan Cat Sterilised reich an Truthahn'}),\n",
       "  frozenset({'Royal Canin Kitten 36'}),\n",
       "  frozenset({'MP Denta Stix Fresh 28 (4 x 7) Stück'}),\n",
       "  frozenset({'Vitakraft Cat Stick Mini 6 x 6 g'}),\n",
       "  frozenset({'Schesir in Brühe 70 g'}),\n",
       "  frozenset({'MP Almo Nature Classic HFC Natural Cat 6x140 g'}),\n",
       "  frozenset({'Felix Snacks 60g'}),\n",
       "  frozenset({'Royal Canin Veterinary Diet Megapack 12 x 85 g'}),\n",
       "  frozenset({'MP Gourmet Perle 12 x 85 g'}),\n",
       "  frozenset({'MP Gourmet Mon Petit 6 x 50 g'}),\n",
       "  frozenset({'MP Concept for Life 12 x 85g '}),\n",
       "  frozenset({'Tigerino LAVENDER Crystals'}),\n",
       "  frozenset({'Tigerino Crystals Flower-Power '}),\n",
       "  frozenset({'Purina One SterilCat Rind'}),\n",
       "  frozenset({'PRO PLAN ADULT CAT SALMON'}),\n",
       "  frozenset({'Pedigree Denta Stix'}),\n",
       "  frozenset({'Pro Plan Small & Mini Adult Sensitive Skin Lachs & Reis'}),\n",
       "  frozenset({'Pro Plan Medium Adult Lamm'}),\n",
       "  frozenset({'Pro Plan Biscuits Light'}),\n",
       "  frozenset({'DogMio Biscuits'}),\n",
       "  frozenset({'PRO PLAN STERILISED CAT'}),\n",
       "  frozenset({\"Hill's Science Plan Sterilised Cat Young Adult\"}),\n",
       "  frozenset({'Concept for Life Sterilised Cats'}),\n",
       "  frozenset({'Tigerino-Babypuder 14l'}),\n",
       "  frozenset({'Kong Classic rot'}),\n",
       "  frozenset({'DogMio Barkis'}),\n",
       "  frozenset({'Pro Plan Medium Adult Sensitive Digestion Huhn & Reis'}),\n",
       "  frozenset({'INNE SALMON OIL'}),\n",
       "  frozenset({'MP Royal Canin Veterinary Diet Megapack 12 x 100 g'}),\n",
       "  frozenset({'Seresto Halsband Hund (FR)'}),\n",
       "  frozenset({'Pro Plan Large Ath. Adult Lamm'}),\n",
       "  frozenset({'Pro Plan All sizes Adult Light Sterilised Huhn & Reis'}),\n",
       "  frozenset({'MP Almo Nature Legend 6 x 70 g'}),\n",
       "  frozenset({'Greenwoods 100% Plant fibre natural clumping cat litter'}),\n",
       "  frozenset({'Extra Bonuspunkte'}),\n",
       "  frozenset({'Pro Plan Large Puppy Robust Huhn & Reis'}),\n",
       "  frozenset({'Pro Plan Large Adult Atheltic Huhn & Reis'}),\n",
       "  frozenset({'Pro Plan Medium & Large Adult 7+ Huhn & Reis'}),\n",
       "  frozenset({'PRO PLAN STERILISED -  rabbit'}),\n",
       "  frozenset({'PRO PLAN LIGHT CAT TURKEY'}),\n",
       "  frozenset({'Megapack Gourmet Gold Feine Pastete 12 x 85g'}),\n",
       "  frozenset({'Pro Plan Medium & Large Adult 7+ Sensitive Skin Lachs & Reis'}),\n",
       "  frozenset({'Cosma gefriergetrocknetet Snacks XXL große Tube'}),\n",
       "  frozenset({'Royal Canin Exigent 35/30'}),\n",
       "  frozenset({'Pro Plan Adult 85 g'}),\n",
       "  frozenset({'Pro Plan Medium Puppy Huhn & Reis'}),\n",
       "  frozenset({'Tigerino Canada Babypowder'}),\n",
       "  frozenset({'Pro Plan Medium Adult Huhn & Reis'}),\n",
       "  frozenset({'Barkoo Kauknochen gepresst'}),\n",
       "  frozenset({'Rocco Chings'}),\n",
       "  frozenset({'Cat’s Best Original'}),\n",
       "  frozenset({'MP Felix \"So gut wie es aussieht\" 44 x 100 g'}),\n",
       "  frozenset({'Pro Plan Cat Adult Delicate'}),\n",
       "  frozenset({'Spende für bedürftige Tiere'}),\n",
       "  frozenset({'Pro Plan Cat Adult Cat Huhn & Reis'}),\n",
       "  frozenset({'Megapack Pedigree Denta Stix'}),\n",
       "  frozenset({'Pro Plan Large Puppy Athletic Huhn & Reis'}),\n",
       "  frozenset({'Royal Canin Sterilised 37'}),\n",
       "  frozenset({'Purina One 85 g'}),\n",
       "  frozenset({'Katzenspielzeug-Set mit Bällen & Mäusen'}),\n",
       "  frozenset({'Pro Plan Medium Adult Sensitive Skin Lachs & Reis'}),\n",
       "  frozenset({'Pro Plan Large Robust Adult Lamm'}),\n",
       "  frozenset({'Purizon Cat Lamm & Fisch'}),\n",
       "  frozenset({'Purizon Cat Huhn & Fisch'}),\n",
       "  frozenset({'Purizon Cat Fisch'}),\n",
       "  frozenset({'Federwedel'}),\n",
       "  frozenset({'Pro Plan Large Adult Robust Huhn & Reis'}),\n",
       "  frozenset({'Tigerino Crystals Classic'}),\n",
       "  frozenset({'Royal Canin Pouches, 85 g'}),\n",
       "  frozenset({'Megapack Hills Frischebeutel 12 x 85 g'}),\n",
       "  frozenset({'Barkoo Kauknochen geknotet'}),\n",
       "  frozenset({'Savings Plan'}),\n",
       "  frozenset({'Catsan Hygienestreu '}),\n",
       "  frozenset({'Pro Plan Cat Sterilised reich an Lachs'})],\n",
       " [frozenset({'Tigerino Crystals Classic', 'Tigerino Crystals Flower-Power '}),\n",
       "  frozenset({'Tigerino Crystals Classic', 'Tigerino LAVENDER Crystals'}),\n",
       "  frozenset({'Tigerino Crystals Flower-Power ', 'Tigerino LAVENDER Crystals'}),\n",
       "  frozenset({'Megapack Pedigree Denta Stix',\n",
       "             'Pro Plan All sizes Adult Light Sterilised Huhn & Reis'}),\n",
       "  frozenset({'Pro Plan Large Adult Atheltic Huhn & Reis', 'Savings Plan'}),\n",
       "  frozenset({'Megapack Pedigree Denta Stix', 'Savings Plan'}),\n",
       "  frozenset({'Pro Plan Medium Adult Huhn & Reis', 'Savings Plan'}),\n",
       "  frozenset({'Pro Plan Medium Adult Sensitive Skin Lachs & Reis',\n",
       "             'Savings Plan'}),\n",
       "  frozenset({'Pro Plan All sizes Adult Light Sterilised Huhn & Reis',\n",
       "             'Savings Plan'}),\n",
       "  frozenset({'Pro Plan Cat Sterilised reich an Lachs', 'Savings Plan'}),\n",
       "  frozenset({'Royal Canin Pouches, 85 g', 'Savings Plan'}),\n",
       "  frozenset({'Royal Canin Sterilised 37', 'Savings Plan'}),\n",
       "  frozenset({'Pro Plan Large Adult Robust Huhn & Reis', 'Savings Plan'}),\n",
       "  frozenset({'Purizon Cat Fisch', 'Purizon Cat Lamm & Fisch'}),\n",
       "  frozenset({'Purizon Cat Fisch', 'Purizon Cat Huhn & Fisch'})],\n",
       " [frozenset({'Tigerino Crystals Classic',\n",
       "             'Tigerino Crystals Flower-Power ',\n",
       "             'Tigerino LAVENDER Crystals'})],\n",
       " []]"
      ]
     },
     "execution_count": 129,
     "metadata": {},
     "output_type": "execute_result"
    }
   ],
   "source": [
    "L"
   ]
  },
  {
   "cell_type": "code",
   "execution_count": 130,
   "metadata": {
    "ExecuteTime": {
     "end_time": "2018-09-26T13:18:49.795588Z",
     "start_time": "2018-09-26T13:18:49.787588Z"
    }
   },
   "outputs": [
    {
     "name": "stdout",
     "output_type": "stream",
     "text": [
      "frozenset({'Tigerino Crystals Flower-Power '}) --> frozenset({'Tigerino Crystals Classic'}) conf: 0.5096153846153846\n",
      "frozenset({'Tigerino Crystals Classic'}) --> frozenset({'Tigerino Crystals Flower-Power '}) conf: 0.24311926605504589\n",
      "frozenset({'Tigerino LAVENDER Crystals'}) --> frozenset({'Tigerino Crystals Classic'}) conf: 0.6028708133971291\n",
      "frozenset({'Tigerino Crystals Classic'}) --> frozenset({'Tigerino LAVENDER Crystals'}) conf: 0.2477064220183486\n",
      "frozenset({'Tigerino LAVENDER Crystals'}) --> frozenset({'Tigerino Crystals Flower-Power '}) conf: 0.6555023923444976\n",
      "frozenset({'Tigerino Crystals Flower-Power '}) --> frozenset({'Tigerino LAVENDER Crystals'}) conf: 0.5645604395604396\n",
      "frozenset({'Megapack Pedigree Denta Stix'}) --> frozenset({'Pro Plan All sizes Adult Light Sterilised Huhn & Reis'}) conf: 0.1214170692431562\n",
      "frozenset({'Pro Plan All sizes Adult Light Sterilised Huhn & Reis'}) --> frozenset({'Megapack Pedigree Denta Stix'}) conf: 0.10374243258117777\n",
      "frozenset({'Pro Plan Large Adult Atheltic Huhn & Reis'}) --> frozenset({'Savings Plan'}) conf: 0.16683417085427135\n",
      "frozenset({'Megapack Pedigree Denta Stix'}) --> frozenset({'Savings Plan'}) conf: 0.18711755233494365\n",
      "frozenset({'Pro Plan Medium Adult Huhn & Reis'}) --> frozenset({'Savings Plan'}) conf: 0.21891795055535648\n",
      "frozenset({'Pro Plan Medium Adult Sensitive Skin Lachs & Reis'}) --> frozenset({'Savings Plan'}) conf: 0.21889710827168796\n",
      "frozenset({'Pro Plan All sizes Adult Light Sterilised Huhn & Reis'}) --> frozenset({'Savings Plan'}) conf: 0.19812878370941112\n",
      "frozenset({'Pro Plan Cat Sterilised reich an Lachs'}) --> frozenset({'Savings Plan'}) conf: 0.21119133574007218\n",
      "frozenset({'Royal Canin Pouches, 85 g'}) --> frozenset({'Savings Plan'}) conf: 0.16272332206663448\n",
      "frozenset({'Royal Canin Sterilised 37'}) --> frozenset({'Savings Plan'}) conf: 0.19532100108813927\n",
      "frozenset({'Pro Plan Large Adult Robust Huhn & Reis'}) --> frozenset({'Savings Plan'}) conf: 0.17774282343688555\n",
      "frozenset({'Purizon Cat Fisch'}) --> frozenset({'Purizon Cat Lamm & Fisch'}) conf: 0.49711815561959655\n",
      "frozenset({'Purizon Cat Lamm & Fisch'}) --> frozenset({'Purizon Cat Fisch'}) conf: 0.5778894472361809\n",
      "frozenset({'Purizon Cat Fisch'}) --> frozenset({'Purizon Cat Huhn & Fisch'}) conf: 0.5475504322766571\n",
      "frozenset({'Purizon Cat Huhn & Fisch'}) --> frozenset({'Purizon Cat Fisch'}) conf: 0.3150912106135987\n",
      "frozenset({'Tigerino Crystals Flower-Power '}) --> frozenset({'Tigerino LAVENDER Crystals', 'Tigerino Crystals Classic'}) conf: 0.4958791208791209\n",
      "frozenset({'Tigerino LAVENDER Crystals'}) --> frozenset({'Tigerino Crystals Flower-Power ', 'Tigerino Crystals Classic'}) conf: 0.5757575757575758\n",
      "frozenset({'Tigerino Crystals Classic'}) --> frozenset({'Tigerino Crystals Flower-Power ', 'Tigerino LAVENDER Crystals'}) conf: 0.23656618610747052\n"
     ]
    }
   ],
   "source": [
    "rules= apriori_py3.generateRules(L,suppData, minConf=0.10)"
   ]
  },
  {
   "cell_type": "code",
   "execution_count": null,
   "metadata": {},
   "outputs": [],
   "source": []
  }
 ],
 "metadata": {
  "hide_input": false,
  "kernelspec": {
   "display_name": "Python [default]",
   "language": "python",
   "name": "python3"
  },
  "language_info": {
   "codemirror_mode": {
    "name": "ipython",
    "version": 3
   },
   "file_extension": ".py",
   "mimetype": "text/x-python",
   "name": "python",
   "nbconvert_exporter": "python",
   "pygments_lexer": "ipython3",
   "version": "3.6.4"
  },
  "toc": {
   "base_numbering": 1,
   "nav_menu": {},
   "number_sections": true,
   "sideBar": true,
   "skip_h1_title": false,
   "title_cell": "Table of Contents",
   "title_sidebar": "Contents",
   "toc_cell": false,
   "toc_position": {},
   "toc_section_display": true,
   "toc_window_display": false
  },
  "varInspector": {
   "cols": {
    "lenName": 16,
    "lenType": 16,
    "lenVar": 40
   },
   "kernels_config": {
    "python": {
     "delete_cmd_postfix": "",
     "delete_cmd_prefix": "del ",
     "library": "var_list.py",
     "varRefreshCmd": "print(var_dic_list())"
    },
    "r": {
     "delete_cmd_postfix": ") ",
     "delete_cmd_prefix": "rm(",
     "library": "var_list.r",
     "varRefreshCmd": "cat(var_dic_list()) "
    }
   },
   "types_to_exclude": [
    "module",
    "function",
    "builtin_function_or_method",
    "instance",
    "_Feature"
   ],
   "window_display": false
  }
 },
 "nbformat": 4,
 "nbformat_minor": 2
}
