{
 "cells": [
  {
   "cell_type": "code",
   "execution_count": 1,
   "metadata": {
    "ExecuteTime": {
     "end_time": "2018-10-19T09:34:10.567294Z",
     "start_time": "2018-10-19T09:34:09.190294Z"
    }
   },
   "outputs": [],
   "source": [
    "import numpy as np\n",
    "import pandas as pd\n",
    "import dask.dataframe as dd\n",
    "import matplotlib.pyplot as plt\n",
    "%matplotlib inline\n",
    "from IPython.display import display\n",
    "from scipy import stats\n",
    "from statistics import stdev\n",
    "import datetime\n",
    "from datetime import timedelta\n",
    "from collections import Counter\n",
    "#import cx_Oracle\n",
    "import psycopg2\n",
    "import seaborn as sns\n",
    "import json\n",
    "import pickle\n",
    "#from fitter import Fitter\n",
    "from warnings import filterwarnings\n",
    "filterwarnings('ignore')"
   ]
  },
  {
   "cell_type": "code",
   "execution_count": 2,
   "metadata": {
    "ExecuteTime": {
     "end_time": "2018-10-19T09:34:14.513294Z",
     "start_time": "2018-10-19T09:34:10.569294Z"
    }
   },
   "outputs": [],
   "source": [
    "data = pd.read_pickle(\"./pl_sp_orders_from_tiers_51-56.pkl\")"
   ]
  },
  {
   "cell_type": "code",
   "execution_count": 3,
   "metadata": {
    "ExecuteTime": {
     "end_time": "2018-10-19T09:34:14.525294Z",
     "start_time": "2018-10-19T09:34:14.514294Z"
    }
   },
   "outputs": [
    {
     "name": "stdout",
     "output_type": "stream",
     "text": [
      "<class 'pandas.core.frame.DataFrame'>\n",
      "Int64Index: 4122380 entries, 0 to 4169236\n",
      "Data columns (total 26 columns):\n",
      "SCM_N_ORDER_POS_NR              int64\n",
      "SCM_N_ORDER_NR                  int64\n",
      "TDT_T_KEY_ORDER_DATE            datetime64[ns]\n",
      "THR_C_KEY_ORDER_HOUR            object\n",
      "SIT_N_KEY_SITE                  int64\n",
      "CUS_N_KEY_CUSTOMER              int64\n",
      "SCM_SALES_BMF                   float64\n",
      "SCM_D_FINANCE_CM1               float64\n",
      "SCM_D_FINANCE_CM2               float64\n",
      "SCM_D_ORIG_FINANCE_ORDER_NET    float64\n",
      "SCM_AP_ID                       int64\n",
      "SCM_AS_ID                       int64\n",
      "SCM_MASTER_AP_ID                int64\n",
      "OSP_KO_COUNT_NET                int64\n",
      "OSP_3_LEAD_P_PG_ID              int64\n",
      "OSP_3_LEAD_P_PG_SHARE           float64\n",
      "OSP_4_LEAD_P_PG_ID              int64\n",
      "OSP_4_LEAD_P_PG_SHARE           float64\n",
      "CZP_START_DATE                  datetime64[ns]\n",
      "CZP_EXPIRY_DATE                 datetime64[ns]\n",
      "CZP_ZTQ_ID                      int64\n",
      "CZP_PERCENTAGE                  int64\n",
      "CZP_PRICE                       float64\n",
      "ORDER_DATETIME                  datetime64[ns]\n",
      "WEEK_NUMBER                     int64\n",
      "MONTH_NUMBER                    int64\n",
      "dtypes: datetime64[ns](4), float64(7), int64(14), object(1)\n",
      "memory usage: 849.2+ MB\n"
     ]
    }
   ],
   "source": [
    "data.info(verbose=True)"
   ]
  },
  {
   "cell_type": "code",
   "execution_count": 4,
   "metadata": {
    "ExecuteTime": {
     "end_time": "2018-10-19T09:34:14.569294Z",
     "start_time": "2018-10-19T09:34:14.527294Z"
    }
   },
   "outputs": [
    {
     "data": {
      "text/html": [
       "<div>\n",
       "<style scoped>\n",
       "    .dataframe tbody tr th:only-of-type {\n",
       "        vertical-align: middle;\n",
       "    }\n",
       "\n",
       "    .dataframe tbody tr th {\n",
       "        vertical-align: top;\n",
       "    }\n",
       "\n",
       "    .dataframe thead th {\n",
       "        text-align: right;\n",
       "    }\n",
       "</style>\n",
       "<table border=\"1\" class=\"dataframe\">\n",
       "  <thead>\n",
       "    <tr style=\"text-align: right;\">\n",
       "      <th></th>\n",
       "      <th>SCM_N_ORDER_POS_NR</th>\n",
       "      <th>SCM_N_ORDER_NR</th>\n",
       "      <th>TDT_T_KEY_ORDER_DATE</th>\n",
       "      <th>THR_C_KEY_ORDER_HOUR</th>\n",
       "      <th>SIT_N_KEY_SITE</th>\n",
       "      <th>CUS_N_KEY_CUSTOMER</th>\n",
       "      <th>SCM_SALES_BMF</th>\n",
       "      <th>SCM_D_FINANCE_CM1</th>\n",
       "      <th>SCM_D_FINANCE_CM2</th>\n",
       "      <th>SCM_D_ORIG_FINANCE_ORDER_NET</th>\n",
       "      <th>...</th>\n",
       "      <th>OSP_4_LEAD_P_PG_ID</th>\n",
       "      <th>OSP_4_LEAD_P_PG_SHARE</th>\n",
       "      <th>CZP_START_DATE</th>\n",
       "      <th>CZP_EXPIRY_DATE</th>\n",
       "      <th>CZP_ZTQ_ID</th>\n",
       "      <th>CZP_PERCENTAGE</th>\n",
       "      <th>CZP_PRICE</th>\n",
       "      <th>ORDER_DATETIME</th>\n",
       "      <th>WEEK_NUMBER</th>\n",
       "      <th>MONTH_NUMBER</th>\n",
       "    </tr>\n",
       "  </thead>\n",
       "  <tbody>\n",
       "    <tr>\n",
       "      <th>0</th>\n",
       "      <td>407413245</td>\n",
       "      <td>95485222</td>\n",
       "      <td>2017-10-01</td>\n",
       "      <td>22:23</td>\n",
       "      <td>8</td>\n",
       "      <td>7968806</td>\n",
       "      <td>0.0000</td>\n",
       "      <td>-0.1610</td>\n",
       "      <td>-0.3397</td>\n",
       "      <td>0.0000</td>\n",
       "      <td>...</td>\n",
       "      <td>35032</td>\n",
       "      <td>0.3962</td>\n",
       "      <td>2015-09-20 14:32:00</td>\n",
       "      <td>2018-09-20 23:59:00</td>\n",
       "      <td>52</td>\n",
       "      <td>3</td>\n",
       "      <td>4.95</td>\n",
       "      <td>2017-10-01 22:23:00</td>\n",
       "      <td>39</td>\n",
       "      <td>10</td>\n",
       "    </tr>\n",
       "    <tr>\n",
       "      <th>1</th>\n",
       "      <td>407413245</td>\n",
       "      <td>95485222</td>\n",
       "      <td>2017-10-01</td>\n",
       "      <td>22:23</td>\n",
       "      <td>8</td>\n",
       "      <td>7968806</td>\n",
       "      <td>0.0000</td>\n",
       "      <td>-0.1580</td>\n",
       "      <td>-0.3333</td>\n",
       "      <td>0.0000</td>\n",
       "      <td>...</td>\n",
       "      <td>35032</td>\n",
       "      <td>0.3962</td>\n",
       "      <td>2015-09-20 14:32:00</td>\n",
       "      <td>2018-09-20 23:59:00</td>\n",
       "      <td>52</td>\n",
       "      <td>3</td>\n",
       "      <td>4.95</td>\n",
       "      <td>2017-10-01 22:23:00</td>\n",
       "      <td>39</td>\n",
       "      <td>10</td>\n",
       "    </tr>\n",
       "    <tr>\n",
       "      <th>2</th>\n",
       "      <td>407411390</td>\n",
       "      <td>95484882</td>\n",
       "      <td>2017-10-01</td>\n",
       "      <td>22:17</td>\n",
       "      <td>8</td>\n",
       "      <td>17900077</td>\n",
       "      <td>-0.5818</td>\n",
       "      <td>-0.5387</td>\n",
       "      <td>-0.5387</td>\n",
       "      <td>-0.5387</td>\n",
       "      <td>...</td>\n",
       "      <td>74051</td>\n",
       "      <td>1.0000</td>\n",
       "      <td>2017-09-12 21:47:00</td>\n",
       "      <td>2018-09-12 23:59:00</td>\n",
       "      <td>55</td>\n",
       "      <td>2</td>\n",
       "      <td>1.95</td>\n",
       "      <td>2017-10-01 22:17:00</td>\n",
       "      <td>39</td>\n",
       "      <td>10</td>\n",
       "    </tr>\n",
       "    <tr>\n",
       "      <th>3</th>\n",
       "      <td>407406910</td>\n",
       "      <td>95483668</td>\n",
       "      <td>2017-10-01</td>\n",
       "      <td>22:02</td>\n",
       "      <td>8</td>\n",
       "      <td>11917177</td>\n",
       "      <td>4.6449</td>\n",
       "      <td>1.2764</td>\n",
       "      <td>-0.7351</td>\n",
       "      <td>3.7764</td>\n",
       "      <td>...</td>\n",
       "      <td>218624</td>\n",
       "      <td>0.5307</td>\n",
       "      <td>2017-07-06 13:10:00</td>\n",
       "      <td>2018-07-06 23:59:00</td>\n",
       "      <td>51</td>\n",
       "      <td>3</td>\n",
       "      <td>2.45</td>\n",
       "      <td>2017-10-01 22:02:00</td>\n",
       "      <td>39</td>\n",
       "      <td>10</td>\n",
       "    </tr>\n",
       "    <tr>\n",
       "      <th>4</th>\n",
       "      <td>407210303</td>\n",
       "      <td>95437363</td>\n",
       "      <td>2017-10-01</td>\n",
       "      <td>11:48</td>\n",
       "      <td>8</td>\n",
       "      <td>15533036</td>\n",
       "      <td>9.2899</td>\n",
       "      <td>1.1217</td>\n",
       "      <td>0.3855</td>\n",
       "      <td>8.6017</td>\n",
       "      <td>...</td>\n",
       "      <td>18245</td>\n",
       "      <td>0.3833</td>\n",
       "      <td>2017-01-31 14:03:00</td>\n",
       "      <td>2018-01-31 23:59:00</td>\n",
       "      <td>56</td>\n",
       "      <td>4</td>\n",
       "      <td>3.20</td>\n",
       "      <td>2017-10-01 11:48:00</td>\n",
       "      <td>39</td>\n",
       "      <td>10</td>\n",
       "    </tr>\n",
       "  </tbody>\n",
       "</table>\n",
       "<p>5 rows × 26 columns</p>\n",
       "</div>"
      ],
      "text/plain": [
       "   SCM_N_ORDER_POS_NR  SCM_N_ORDER_NR TDT_T_KEY_ORDER_DATE  \\\n",
       "0           407413245        95485222           2017-10-01   \n",
       "1           407413245        95485222           2017-10-01   \n",
       "2           407411390        95484882           2017-10-01   \n",
       "3           407406910        95483668           2017-10-01   \n",
       "4           407210303        95437363           2017-10-01   \n",
       "\n",
       "  THR_C_KEY_ORDER_HOUR  SIT_N_KEY_SITE  CUS_N_KEY_CUSTOMER  SCM_SALES_BMF  \\\n",
       "0                22:23               8             7968806         0.0000   \n",
       "1                22:23               8             7968806         0.0000   \n",
       "2                22:17               8            17900077        -0.5818   \n",
       "3                22:02               8            11917177         4.6449   \n",
       "4                11:48               8            15533036         9.2899   \n",
       "\n",
       "   SCM_D_FINANCE_CM1  SCM_D_FINANCE_CM2  SCM_D_ORIG_FINANCE_ORDER_NET  \\\n",
       "0            -0.1610            -0.3397                        0.0000   \n",
       "1            -0.1580            -0.3333                        0.0000   \n",
       "2            -0.5387            -0.5387                       -0.5387   \n",
       "3             1.2764            -0.7351                        3.7764   \n",
       "4             1.1217             0.3855                        8.6017   \n",
       "\n",
       "      ...       OSP_4_LEAD_P_PG_ID  OSP_4_LEAD_P_PG_SHARE      CZP_START_DATE  \\\n",
       "0     ...                    35032                 0.3962 2015-09-20 14:32:00   \n",
       "1     ...                    35032                 0.3962 2015-09-20 14:32:00   \n",
       "2     ...                    74051                 1.0000 2017-09-12 21:47:00   \n",
       "3     ...                   218624                 0.5307 2017-07-06 13:10:00   \n",
       "4     ...                    18245                 0.3833 2017-01-31 14:03:00   \n",
       "\n",
       "      CZP_EXPIRY_DATE  CZP_ZTQ_ID  CZP_PERCENTAGE  CZP_PRICE  \\\n",
       "0 2018-09-20 23:59:00          52               3       4.95   \n",
       "1 2018-09-20 23:59:00          52               3       4.95   \n",
       "2 2018-09-12 23:59:00          55               2       1.95   \n",
       "3 2018-07-06 23:59:00          51               3       2.45   \n",
       "4 2018-01-31 23:59:00          56               4       3.20   \n",
       "\n",
       "       ORDER_DATETIME WEEK_NUMBER MONTH_NUMBER  \n",
       "0 2017-10-01 22:23:00          39           10  \n",
       "1 2017-10-01 22:23:00          39           10  \n",
       "2 2017-10-01 22:17:00          39           10  \n",
       "3 2017-10-01 22:02:00          39           10  \n",
       "4 2017-10-01 11:48:00          39           10  \n",
       "\n",
       "[5 rows x 26 columns]"
      ]
     },
     "execution_count": 4,
     "metadata": {},
     "output_type": "execute_result"
    }
   ],
   "source": [
    "data.head()"
   ]
  },
  {
   "cell_type": "code",
   "execution_count": 5,
   "metadata": {
    "ExecuteTime": {
     "end_time": "2018-10-19T09:34:14.860294Z",
     "start_time": "2018-10-19T09:34:14.571294Z"
    }
   },
   "outputs": [],
   "source": [
    "data['FIRST_O_DATE'] = data['TDT_T_KEY_ORDER_DATE'].groupby(data['CUS_N_KEY_CUSTOMER']).transform('min')"
   ]
  },
  {
   "cell_type": "code",
   "execution_count": 6,
   "metadata": {
    "ExecuteTime": {
     "end_time": "2018-10-19T09:34:15.125294Z",
     "start_time": "2018-10-19T09:34:14.861294Z"
    }
   },
   "outputs": [],
   "source": [
    "data['LAST_O_DATE'] = data['TDT_T_KEY_ORDER_DATE'].groupby(data['CUS_N_KEY_CUSTOMER']).transform('max')"
   ]
  },
  {
   "cell_type": "code",
   "execution_count": 7,
   "metadata": {
    "ExecuteTime": {
     "end_time": "2018-10-19T09:34:15.391294Z",
     "start_time": "2018-10-19T09:34:15.126294Z"
    }
   },
   "outputs": [],
   "source": [
    "data['1ST_O_COUNTER'] = data['OSP_KO_COUNT_NET'].groupby(data['CUS_N_KEY_CUSTOMER']).transform('min')"
   ]
  },
  {
   "cell_type": "code",
   "execution_count": 8,
   "metadata": {
    "ExecuteTime": {
     "end_time": "2018-10-19T09:34:19.688294Z",
     "start_time": "2018-10-19T09:34:15.393294Z"
    }
   },
   "outputs": [],
   "source": [
    "data['D28'] = data['FIRST_O_DATE'] + timedelta(days = 28)\n",
    "data['D56'] = data['FIRST_O_DATE'] + timedelta(days = 56)\n",
    "data['D84'] = data['FIRST_O_DATE'] + timedelta(days = 84)\n",
    "data['D168'] = data['FIRST_O_DATE'] + timedelta(days = 168)\n",
    "data['D252'] = data['FIRST_O_DATE'] + timedelta(days = 252)\n",
    "data['D336'] = data['FIRST_O_DATE'] + timedelta(days = 336)"
   ]
  },
  {
   "cell_type": "code",
   "execution_count": 9,
   "metadata": {
    "ExecuteTime": {
     "end_time": "2018-10-19T09:34:19.694294Z",
     "start_time": "2018-10-19T09:34:19.689294Z"
    }
   },
   "outputs": [
    {
     "data": {
      "text/plain": [
       "Index(['SCM_N_ORDER_POS_NR', 'SCM_N_ORDER_NR', 'TDT_T_KEY_ORDER_DATE',\n",
       "       'THR_C_KEY_ORDER_HOUR', 'SIT_N_KEY_SITE', 'CUS_N_KEY_CUSTOMER',\n",
       "       'SCM_SALES_BMF', 'SCM_D_FINANCE_CM1', 'SCM_D_FINANCE_CM2',\n",
       "       'SCM_D_ORIG_FINANCE_ORDER_NET', 'SCM_AP_ID', 'SCM_AS_ID',\n",
       "       'SCM_MASTER_AP_ID', 'OSP_KO_COUNT_NET', 'OSP_3_LEAD_P_PG_ID',\n",
       "       'OSP_3_LEAD_P_PG_SHARE', 'OSP_4_LEAD_P_PG_ID', 'OSP_4_LEAD_P_PG_SHARE',\n",
       "       'CZP_START_DATE', 'CZP_EXPIRY_DATE', 'CZP_ZTQ_ID', 'CZP_PERCENTAGE',\n",
       "       'CZP_PRICE', 'ORDER_DATETIME', 'WEEK_NUMBER', 'MONTH_NUMBER',\n",
       "       'FIRST_O_DATE', 'LAST_O_DATE', '1ST_O_COUNTER', 'D28', 'D56', 'D84',\n",
       "       'D168', 'D252', 'D336'],\n",
       "      dtype='object')"
      ]
     },
     "execution_count": 9,
     "metadata": {},
     "output_type": "execute_result"
    }
   ],
   "source": [
    "data.columns"
   ]
  },
  {
   "cell_type": "code",
   "execution_count": 10,
   "metadata": {
    "ExecuteTime": {
     "end_time": "2018-10-19T09:34:19.710294Z",
     "start_time": "2018-10-19T09:34:19.696294Z"
    }
   },
   "outputs": [],
   "source": [
    "agg_ops = {'TDT_T_KEY_ORDER_DATE': min,\n",
    "          'CUS_N_KEY_CUSTOMER': min,\n",
    "          'CZP_ZTQ_ID': min, \n",
    "          'SCM_SALES_BMF': sum,\n",
    "          'SCM_D_FINANCE_CM1': sum,\n",
    "          'SCM_D_FINANCE_CM2': sum,\n",
    "          'SCM_D_ORIG_FINANCE_ORDER_NET': sum,\n",
    "          'OSP_KO_COUNT_NET': min,\n",
    "          'CZP_START_DATE': min,\n",
    "          'CZP_EXPIRY_DATE': min,\n",
    "          'ORDER_DATETIME': min,\n",
    "          'FIRST_O_DATE': min,\n",
    "          'LAST_O_DATE': min,\n",
    "          '1ST_O_COUNTER': min,\n",
    "          'D28': min,\n",
    "          'D56': min,\n",
    "          'D84': min,\n",
    "          'D168': min,\n",
    "          'D252': min,\n",
    "          'D336': min\n",
    "          }"
   ]
  },
  {
   "cell_type": "code",
   "execution_count": 11,
   "metadata": {
    "ExecuteTime": {
     "end_time": "2018-10-19T09:34:21.773294Z",
     "start_time": "2018-10-19T09:34:19.712294Z"
    }
   },
   "outputs": [],
   "source": [
    "orders = data.groupby('SCM_N_ORDER_NR', as_index=False).agg(agg_ops)"
   ]
  },
  {
   "cell_type": "code",
   "execution_count": 12,
   "metadata": {
    "ExecuteTime": {
     "end_time": "2018-10-19T09:34:21.869294Z",
     "start_time": "2018-10-19T09:34:21.775294Z"
    }
   },
   "outputs": [
    {
     "data": {
      "text/plain": [
       "(642347, 642347)"
      ]
     },
     "execution_count": 12,
     "metadata": {},
     "output_type": "execute_result"
    }
   ],
   "source": [
    "data['SCM_N_ORDER_NR'].nunique(), len(orders)"
   ]
  },
  {
   "cell_type": "code",
   "execution_count": 13,
   "metadata": {
    "ExecuteTime": {
     "end_time": "2018-10-19T09:34:21.902294Z",
     "start_time": "2018-10-19T09:34:21.870294Z"
    }
   },
   "outputs": [
    {
     "data": {
      "text/html": [
       "<div>\n",
       "<style scoped>\n",
       "    .dataframe tbody tr th:only-of-type {\n",
       "        vertical-align: middle;\n",
       "    }\n",
       "\n",
       "    .dataframe tbody tr th {\n",
       "        vertical-align: top;\n",
       "    }\n",
       "\n",
       "    .dataframe thead th {\n",
       "        text-align: right;\n",
       "    }\n",
       "</style>\n",
       "<table border=\"1\" class=\"dataframe\">\n",
       "  <thead>\n",
       "    <tr style=\"text-align: right;\">\n",
       "      <th></th>\n",
       "      <th>SCM_N_ORDER_NR</th>\n",
       "      <th>TDT_T_KEY_ORDER_DATE</th>\n",
       "      <th>CUS_N_KEY_CUSTOMER</th>\n",
       "      <th>CZP_ZTQ_ID</th>\n",
       "      <th>SCM_SALES_BMF</th>\n",
       "      <th>SCM_D_FINANCE_CM1</th>\n",
       "      <th>SCM_D_FINANCE_CM2</th>\n",
       "      <th>SCM_D_ORIG_FINANCE_ORDER_NET</th>\n",
       "      <th>OSP_KO_COUNT_NET</th>\n",
       "      <th>CZP_START_DATE</th>\n",
       "      <th>...</th>\n",
       "      <th>ORDER_DATETIME</th>\n",
       "      <th>FIRST_O_DATE</th>\n",
       "      <th>LAST_O_DATE</th>\n",
       "      <th>1ST_O_COUNTER</th>\n",
       "      <th>D28</th>\n",
       "      <th>D56</th>\n",
       "      <th>D84</th>\n",
       "      <th>D168</th>\n",
       "      <th>D252</th>\n",
       "      <th>D336</th>\n",
       "    </tr>\n",
       "  </thead>\n",
       "  <tbody>\n",
       "    <tr>\n",
       "      <th>642342</th>\n",
       "      <td>120154239</td>\n",
       "      <td>2018-09-30</td>\n",
       "      <td>20864482</td>\n",
       "      <td>51</td>\n",
       "      <td>27.2521</td>\n",
       "      <td>9.6761</td>\n",
       "      <td>6.0122</td>\n",
       "      <td>22.1561</td>\n",
       "      <td>6</td>\n",
       "      <td>2018-09-30 00:00:00</td>\n",
       "      <td>...</td>\n",
       "      <td>2018-09-30 23:55:00</td>\n",
       "      <td>2018-09-30</td>\n",
       "      <td>2018-09-30</td>\n",
       "      <td>6</td>\n",
       "      <td>2018-10-28</td>\n",
       "      <td>2018-11-25</td>\n",
       "      <td>2018-12-23</td>\n",
       "      <td>2019-03-17</td>\n",
       "      <td>2019-06-09</td>\n",
       "      <td>2019-09-01</td>\n",
       "    </tr>\n",
       "    <tr>\n",
       "      <th>642343</th>\n",
       "      <td>120154279</td>\n",
       "      <td>2018-09-30</td>\n",
       "      <td>9622728</td>\n",
       "      <td>53</td>\n",
       "      <td>147.5609</td>\n",
       "      <td>25.5866</td>\n",
       "      <td>16.6988</td>\n",
       "      <td>131.6166</td>\n",
       "      <td>82</td>\n",
       "      <td>2018-05-23 00:00:00</td>\n",
       "      <td>...</td>\n",
       "      <td>2018-09-30 23:57:00</td>\n",
       "      <td>2017-10-03</td>\n",
       "      <td>2018-09-30</td>\n",
       "      <td>48</td>\n",
       "      <td>2017-10-31</td>\n",
       "      <td>2017-11-28</td>\n",
       "      <td>2017-12-26</td>\n",
       "      <td>2018-03-20</td>\n",
       "      <td>2018-06-12</td>\n",
       "      <td>2018-09-04</td>\n",
       "    </tr>\n",
       "    <tr>\n",
       "      <th>642344</th>\n",
       "      <td>120154298</td>\n",
       "      <td>2018-09-30</td>\n",
       "      <td>6427183</td>\n",
       "      <td>53</td>\n",
       "      <td>150.5464</td>\n",
       "      <td>23.9224</td>\n",
       "      <td>13.8397</td>\n",
       "      <td>139.0723</td>\n",
       "      <td>24</td>\n",
       "      <td>2018-09-30 00:00:00</td>\n",
       "      <td>...</td>\n",
       "      <td>2018-09-30 23:58:00</td>\n",
       "      <td>2018-09-30</td>\n",
       "      <td>2018-09-30</td>\n",
       "      <td>24</td>\n",
       "      <td>2018-10-28</td>\n",
       "      <td>2018-11-25</td>\n",
       "      <td>2018-12-23</td>\n",
       "      <td>2019-03-17</td>\n",
       "      <td>2019-06-09</td>\n",
       "      <td>2019-09-01</td>\n",
       "    </tr>\n",
       "    <tr>\n",
       "      <th>642345</th>\n",
       "      <td>120154308</td>\n",
       "      <td>2018-09-30</td>\n",
       "      <td>15408875</td>\n",
       "      <td>53</td>\n",
       "      <td>32.1164</td>\n",
       "      <td>7.9075</td>\n",
       "      <td>4.4923</td>\n",
       "      <td>29.7375</td>\n",
       "      <td>37</td>\n",
       "      <td>2018-02-12 20:19:00</td>\n",
       "      <td>...</td>\n",
       "      <td>2018-09-30 23:58:00</td>\n",
       "      <td>2017-10-24</td>\n",
       "      <td>2018-09-30</td>\n",
       "      <td>17</td>\n",
       "      <td>2017-11-21</td>\n",
       "      <td>2017-12-19</td>\n",
       "      <td>2018-01-16</td>\n",
       "      <td>2018-04-10</td>\n",
       "      <td>2018-07-03</td>\n",
       "      <td>2018-09-25</td>\n",
       "    </tr>\n",
       "    <tr>\n",
       "      <th>642346</th>\n",
       "      <td>120154329</td>\n",
       "      <td>2018-09-30</td>\n",
       "      <td>17958111</td>\n",
       "      <td>54</td>\n",
       "      <td>35.5393</td>\n",
       "      <td>14.1615</td>\n",
       "      <td>11.1756</td>\n",
       "      <td>32.2815</td>\n",
       "      <td>15</td>\n",
       "      <td>2018-09-30 00:00:00</td>\n",
       "      <td>...</td>\n",
       "      <td>2018-09-30 23:59:00</td>\n",
       "      <td>2017-10-11</td>\n",
       "      <td>2018-09-30</td>\n",
       "      <td>3</td>\n",
       "      <td>2017-11-08</td>\n",
       "      <td>2017-12-06</td>\n",
       "      <td>2018-01-03</td>\n",
       "      <td>2018-03-28</td>\n",
       "      <td>2018-06-20</td>\n",
       "      <td>2018-09-12</td>\n",
       "    </tr>\n",
       "  </tbody>\n",
       "</table>\n",
       "<p>5 rows × 21 columns</p>\n",
       "</div>"
      ],
      "text/plain": [
       "        SCM_N_ORDER_NR TDT_T_KEY_ORDER_DATE  CUS_N_KEY_CUSTOMER  CZP_ZTQ_ID  \\\n",
       "642342       120154239           2018-09-30            20864482          51   \n",
       "642343       120154279           2018-09-30             9622728          53   \n",
       "642344       120154298           2018-09-30             6427183          53   \n",
       "642345       120154308           2018-09-30            15408875          53   \n",
       "642346       120154329           2018-09-30            17958111          54   \n",
       "\n",
       "        SCM_SALES_BMF  SCM_D_FINANCE_CM1  SCM_D_FINANCE_CM2  \\\n",
       "642342        27.2521             9.6761             6.0122   \n",
       "642343       147.5609            25.5866            16.6988   \n",
       "642344       150.5464            23.9224            13.8397   \n",
       "642345        32.1164             7.9075             4.4923   \n",
       "642346        35.5393            14.1615            11.1756   \n",
       "\n",
       "        SCM_D_ORIG_FINANCE_ORDER_NET  OSP_KO_COUNT_NET      CZP_START_DATE  \\\n",
       "642342                       22.1561                 6 2018-09-30 00:00:00   \n",
       "642343                      131.6166                82 2018-05-23 00:00:00   \n",
       "642344                      139.0723                24 2018-09-30 00:00:00   \n",
       "642345                       29.7375                37 2018-02-12 20:19:00   \n",
       "642346                       32.2815                15 2018-09-30 00:00:00   \n",
       "\n",
       "          ...          ORDER_DATETIME FIRST_O_DATE LAST_O_DATE 1ST_O_COUNTER  \\\n",
       "642342    ...     2018-09-30 23:55:00   2018-09-30  2018-09-30             6   \n",
       "642343    ...     2018-09-30 23:57:00   2017-10-03  2018-09-30            48   \n",
       "642344    ...     2018-09-30 23:58:00   2018-09-30  2018-09-30            24   \n",
       "642345    ...     2018-09-30 23:58:00   2017-10-24  2018-09-30            17   \n",
       "642346    ...     2018-09-30 23:59:00   2017-10-11  2018-09-30             3   \n",
       "\n",
       "              D28        D56        D84       D168       D252       D336  \n",
       "642342 2018-10-28 2018-11-25 2018-12-23 2019-03-17 2019-06-09 2019-09-01  \n",
       "642343 2017-10-31 2017-11-28 2017-12-26 2018-03-20 2018-06-12 2018-09-04  \n",
       "642344 2018-10-28 2018-11-25 2018-12-23 2019-03-17 2019-06-09 2019-09-01  \n",
       "642345 2017-11-21 2017-12-19 2018-01-16 2018-04-10 2018-07-03 2018-09-25  \n",
       "642346 2017-11-08 2017-12-06 2018-01-03 2018-03-28 2018-06-20 2018-09-12  \n",
       "\n",
       "[5 rows x 21 columns]"
      ]
     },
     "execution_count": 13,
     "metadata": {},
     "output_type": "execute_result"
    }
   ],
   "source": [
    "orders.tail()"
   ]
  },
  {
   "cell_type": "code",
   "execution_count": 14,
   "metadata": {
    "ExecuteTime": {
     "end_time": "2018-10-19T09:34:21.959294Z",
     "start_time": "2018-10-19T09:34:21.904294Z"
    }
   },
   "outputs": [],
   "source": [
    "orders['OK_28D'] = (orders['TDT_T_KEY_ORDER_DATE'] <= orders['D28']) * 1\n",
    "orders['OK_56D'] = (orders['TDT_T_KEY_ORDER_DATE'] <= orders['D56']) * 1\n",
    "orders['OK_84D'] = (orders['TDT_T_KEY_ORDER_DATE'] <= orders['D84']) * 1\n",
    "orders['OK_168D'] = (orders['TDT_T_KEY_ORDER_DATE'] <= orders['D168']) * 1\n",
    "orders['OK_252D'] = (orders['TDT_T_KEY_ORDER_DATE'] <= orders['D252']) * 1\n",
    "orders['OK_336D'] = (orders['TDT_T_KEY_ORDER_DATE'] <= orders['D336']) * 1"
   ]
  },
  {
   "cell_type": "code",
   "execution_count": 15,
   "metadata": {
    "ExecuteTime": {
     "end_time": "2018-10-19T09:34:22.008294Z",
     "start_time": "2018-10-19T09:34:21.961294Z"
    }
   },
   "outputs": [],
   "source": [
    "orders['COUNTER_28D'] = orders['OK_28D'] * orders['OSP_KO_COUNT_NET']\n",
    "orders['COUNTER_56D'] = orders['OK_56D'] * orders['OSP_KO_COUNT_NET']\n",
    "orders['COUNTER_84D'] = orders['OK_84D'] * orders['OSP_KO_COUNT_NET']\n",
    "orders['COUNTER_168D'] = orders['OK_168D'] * orders['OSP_KO_COUNT_NET']\n",
    "orders['COUNTER_252D'] = orders['OK_252D'] * orders['OSP_KO_COUNT_NET']\n",
    "orders['COUNTER_336D'] = orders['OK_336D'] * orders['OSP_KO_COUNT_NET']"
   ]
  },
  {
   "cell_type": "code",
   "execution_count": 16,
   "metadata": {
    "ExecuteTime": {
     "end_time": "2018-10-19T09:34:22.462294Z",
     "start_time": "2018-10-19T09:34:22.010294Z"
    }
   },
   "outputs": [],
   "source": [
    "orders['MAX_COUNTER_28D'] = orders['COUNTER_28D'].groupby(orders['CUS_N_KEY_CUSTOMER']).transform('max')\n",
    "orders['MAX_COUNTER_56D'] = orders['COUNTER_56D'].groupby(orders['CUS_N_KEY_CUSTOMER']).transform('max')\n",
    "orders['MAX_COUNTER_84D'] = orders['COUNTER_84D'].groupby(orders['CUS_N_KEY_CUSTOMER']).transform('max')\n",
    "orders['MAX_COUNTER_168D'] = orders['COUNTER_168D'].groupby(orders['CUS_N_KEY_CUSTOMER']).transform('max')\n",
    "orders['MAX_COUNTER_252D'] = orders['COUNTER_252D'].groupby(orders['CUS_N_KEY_CUSTOMER']).transform('max')\n",
    "orders['MAX_COUNTER_336D'] = orders['COUNTER_336D'].groupby(orders['CUS_N_KEY_CUSTOMER']).transform('max')"
   ]
  },
  {
   "cell_type": "code",
   "execution_count": 17,
   "metadata": {
    "ExecuteTime": {
     "end_time": "2018-10-19T09:34:22.497294Z",
     "start_time": "2018-10-19T09:34:22.464294Z"
    }
   },
   "outputs": [],
   "source": [
    "orders['RR_28D'] = (orders['MAX_COUNTER_28D'] > orders['1ST_O_COUNTER']) * 1\n",
    "orders['RR_56D'] = (orders['MAX_COUNTER_56D'] > orders['MAX_COUNTER_28D']) * 1\n",
    "orders['RR_84D'] = (orders['MAX_COUNTER_84D'] > orders['MAX_COUNTER_56D']) * 1 \n",
    "orders['RR_168D'] = (orders['MAX_COUNTER_168D'] > orders['MAX_COUNTER_84D']) * 1\n",
    "orders['RR_252D'] = (orders['MAX_COUNTER_252D'] > orders['MAX_COUNTER_168D']) * 1 \n",
    "orders['RR_336D'] = (orders['MAX_COUNTER_336D'] > orders['MAX_COUNTER_168D']) * 1"
   ]
  },
  {
   "cell_type": "code",
   "execution_count": 18,
   "metadata": {
    "ExecuteTime": {
     "end_time": "2018-10-19T09:34:22.504294Z",
     "start_time": "2018-10-19T09:34:22.499294Z"
    }
   },
   "outputs": [
    {
     "data": {
      "text/plain": [
       "Index(['SCM_N_ORDER_NR', 'TDT_T_KEY_ORDER_DATE', 'CUS_N_KEY_CUSTOMER',\n",
       "       'CZP_ZTQ_ID', 'SCM_SALES_BMF', 'SCM_D_FINANCE_CM1', 'SCM_D_FINANCE_CM2',\n",
       "       'SCM_D_ORIG_FINANCE_ORDER_NET', 'OSP_KO_COUNT_NET', 'CZP_START_DATE',\n",
       "       'CZP_EXPIRY_DATE', 'ORDER_DATETIME', 'FIRST_O_DATE', 'LAST_O_DATE',\n",
       "       '1ST_O_COUNTER', 'D28', 'D56', 'D84', 'D168', 'D252', 'D336', 'OK_28D',\n",
       "       'OK_56D', 'OK_84D', 'OK_168D', 'OK_252D', 'OK_336D', 'COUNTER_28D',\n",
       "       'COUNTER_56D', 'COUNTER_84D', 'COUNTER_168D', 'COUNTER_252D',\n",
       "       'COUNTER_336D', 'MAX_COUNTER_28D', 'MAX_COUNTER_56D', 'MAX_COUNTER_84D',\n",
       "       'MAX_COUNTER_168D', 'MAX_COUNTER_252D', 'MAX_COUNTER_336D', 'RR_28D',\n",
       "       'RR_56D', 'RR_84D', 'RR_168D', 'RR_252D', 'RR_336D'],\n",
       "      dtype='object')"
      ]
     },
     "execution_count": 18,
     "metadata": {},
     "output_type": "execute_result"
    }
   ],
   "source": [
    "orders.columns"
   ]
  },
  {
   "cell_type": "code",
   "execution_count": 19,
   "metadata": {
    "ExecuteTime": {
     "end_time": "2018-10-19T09:34:22.517294Z",
     "start_time": "2018-10-19T09:34:22.506294Z"
    }
   },
   "outputs": [],
   "source": [
    "agg_ord_ops = {'CZP_ZTQ_ID': 'unique',\n",
    "              'SCM_N_ORDER_NR': len,\n",
    "              'SCM_SALES_BMF': [sum, lambda x: list(np.round(x, 2))],\n",
    "              'SCM_D_FINANCE_CM1': [sum, lambda x: list(np.round(x, 2))],\n",
    "              'SCM_D_FINANCE_CM2': [sum, lambda x: list(np.round(x, 2))],\n",
    "              'SCM_D_ORIG_FINANCE_ORDER_NET': [sum, lambda x: list(np.round(x, 2))],\n",
    "              'OSP_KO_COUNT_NET': lambda x: list(x),\n",
    "              'CZP_START_DATE': 'unique',\n",
    "              'CZP_EXPIRY_DATE': 'unique',\n",
    "              'FIRST_O_DATE': min,\n",
    "              'LAST_O_DATE': min,\n",
    "              '1ST_O_COUNTER': min,\n",
    "              'COUNTER_28D': max,\n",
    "              'COUNTER_56D': max,\n",
    "              'COUNTER_84D': max,\n",
    "              'COUNTER_168D': max,\n",
    "              'COUNTER_252D': max,\n",
    "              'COUNTER_336D': max\n",
    "              }"
   ]
  },
  {
   "cell_type": "code",
   "execution_count": 20,
   "metadata": {
    "ExecuteTime": {
     "end_time": "2018-10-19T09:35:21.904294Z",
     "start_time": "2018-10-19T09:34:22.519294Z"
    }
   },
   "outputs": [],
   "source": [
    "customers = orders.groupby('CUS_N_KEY_CUSTOMER', as_index=False).agg(agg_ord_ops).round(2)"
   ]
  },
  {
   "cell_type": "code",
   "execution_count": 21,
   "metadata": {
    "ExecuteTime": {
     "end_time": "2018-10-19T09:35:21.908294Z",
     "start_time": "2018-10-19T09:35:21.905294Z"
    }
   },
   "outputs": [],
   "source": [
    "customers.columns = ['_'.join(tup).rstrip('_') for tup in customers.columns.values]"
   ]
  },
  {
   "cell_type": "code",
   "execution_count": 22,
   "metadata": {
    "ExecuteTime": {
     "end_time": "2018-10-19T09:35:21.949294Z",
     "start_time": "2018-10-19T09:35:21.909294Z"
    }
   },
   "outputs": [
    {
     "data": {
      "text/html": [
       "<div>\n",
       "<style scoped>\n",
       "    .dataframe tbody tr th:only-of-type {\n",
       "        vertical-align: middle;\n",
       "    }\n",
       "\n",
       "    .dataframe tbody tr th {\n",
       "        vertical-align: top;\n",
       "    }\n",
       "\n",
       "    .dataframe thead th {\n",
       "        text-align: right;\n",
       "    }\n",
       "</style>\n",
       "<table border=\"1\" class=\"dataframe\">\n",
       "  <thead>\n",
       "    <tr style=\"text-align: right;\">\n",
       "      <th></th>\n",
       "      <th>CUS_N_KEY_CUSTOMER</th>\n",
       "      <th>CZP_ZTQ_ID_unique</th>\n",
       "      <th>SCM_N_ORDER_NR_len</th>\n",
       "      <th>SCM_SALES_BMF_sum</th>\n",
       "      <th>SCM_SALES_BMF_&lt;lambda&gt;</th>\n",
       "      <th>SCM_D_FINANCE_CM1_sum</th>\n",
       "      <th>SCM_D_FINANCE_CM1_&lt;lambda&gt;</th>\n",
       "      <th>SCM_D_FINANCE_CM2_sum</th>\n",
       "      <th>SCM_D_FINANCE_CM2_&lt;lambda&gt;</th>\n",
       "      <th>SCM_D_ORIG_FINANCE_ORDER_NET_sum</th>\n",
       "      <th>...</th>\n",
       "      <th>CZP_EXPIRY_DATE_unique</th>\n",
       "      <th>FIRST_O_DATE_min</th>\n",
       "      <th>LAST_O_DATE_min</th>\n",
       "      <th>1ST_O_COUNTER_min</th>\n",
       "      <th>COUNTER_28D_max</th>\n",
       "      <th>COUNTER_56D_max</th>\n",
       "      <th>COUNTER_84D_max</th>\n",
       "      <th>COUNTER_168D_max</th>\n",
       "      <th>COUNTER_252D_max</th>\n",
       "      <th>COUNTER_336D_max</th>\n",
       "    </tr>\n",
       "  </thead>\n",
       "  <tbody>\n",
       "    <tr>\n",
       "      <th>0</th>\n",
       "      <td>386699</td>\n",
       "      <td>[52]</td>\n",
       "      <td>1</td>\n",
       "      <td>24.70</td>\n",
       "      <td>[24.7]</td>\n",
       "      <td>3.28</td>\n",
       "      <td>[3.28]</td>\n",
       "      <td>0.09</td>\n",
       "      <td>[0.09]</td>\n",
       "      <td>22.87</td>\n",
       "      <td>...</td>\n",
       "      <td>[2020-11-02T23:59:00.000000000]</td>\n",
       "      <td>2018-05-25</td>\n",
       "      <td>2018-05-25</td>\n",
       "      <td>157</td>\n",
       "      <td>157</td>\n",
       "      <td>157</td>\n",
       "      <td>157</td>\n",
       "      <td>157</td>\n",
       "      <td>157</td>\n",
       "      <td>157</td>\n",
       "    </tr>\n",
       "    <tr>\n",
       "      <th>1</th>\n",
       "      <td>611326</td>\n",
       "      <td>[53]</td>\n",
       "      <td>9</td>\n",
       "      <td>482.27</td>\n",
       "      <td>[77.82, 22.55, 37.84, 59.75, 25.13, 62.03, 26....</td>\n",
       "      <td>79.42</td>\n",
       "      <td>[13.92, 2.65, 0.6, 17.16, 8.19, 8.67, 3.95, 16...</td>\n",
       "      <td>33.46</td>\n",
       "      <td>[7.49, -1.07, -2.39, 9.16, 4.45, 1.57, 0.18, 9...</td>\n",
       "      <td>426.58</td>\n",
       "      <td>...</td>\n",
       "      <td>[2018-10-03T23:59:00.000000000]</td>\n",
       "      <td>2017-10-03</td>\n",
       "      <td>2018-08-16</td>\n",
       "      <td>38</td>\n",
       "      <td>38</td>\n",
       "      <td>38</td>\n",
       "      <td>39</td>\n",
       "      <td>42</td>\n",
       "      <td>45</td>\n",
       "      <td>46</td>\n",
       "    </tr>\n",
       "    <tr>\n",
       "      <th>2</th>\n",
       "      <td>641200</td>\n",
       "      <td>[51]</td>\n",
       "      <td>8</td>\n",
       "      <td>417.25</td>\n",
       "      <td>[57.93, 36.72, 55.03, 73.64, 45.43, 46.81, 68....</td>\n",
       "      <td>49.43</td>\n",
       "      <td>[11.8, 5.74, 9.2, 12.75, 5.9, 1.43, 0.51, 2.11]</td>\n",
       "      <td>21.28</td>\n",
       "      <td>[9.09, -0.22, 5.14, 8.38, 3.04, -1.44, -2.35, ...</td>\n",
       "      <td>381.93</td>\n",
       "      <td>...</td>\n",
       "      <td>[2019-01-06T23:59:00.000000000]</td>\n",
       "      <td>2018-01-06</td>\n",
       "      <td>2018-08-03</td>\n",
       "      <td>89</td>\n",
       "      <td>90</td>\n",
       "      <td>90</td>\n",
       "      <td>91</td>\n",
       "      <td>95</td>\n",
       "      <td>96</td>\n",
       "      <td>96</td>\n",
       "    </tr>\n",
       "    <tr>\n",
       "      <th>3</th>\n",
       "      <td>669369</td>\n",
       "      <td>[53]</td>\n",
       "      <td>7</td>\n",
       "      <td>417.24</td>\n",
       "      <td>[74.72, 37.57, 37.93, 37.52, 75.31, 75.54, 78.64]</td>\n",
       "      <td>48.62</td>\n",
       "      <td>[7.19, 3.79, 4.1, 3.72, 9.53, 9.91, 10.38]</td>\n",
       "      <td>8.42</td>\n",
       "      <td>[-0.11, 0.14, 1.02, 0.64, 1.74, 2.11, 2.87]</td>\n",
       "      <td>386.02</td>\n",
       "      <td>...</td>\n",
       "      <td>[2018-08-22T23:59:00.000000000]</td>\n",
       "      <td>2017-11-02</td>\n",
       "      <td>2018-08-03</td>\n",
       "      <td>163</td>\n",
       "      <td>163</td>\n",
       "      <td>164</td>\n",
       "      <td>164</td>\n",
       "      <td>167</td>\n",
       "      <td>168</td>\n",
       "      <td>169</td>\n",
       "    </tr>\n",
       "    <tr>\n",
       "      <th>4</th>\n",
       "      <td>807884</td>\n",
       "      <td>[53]</td>\n",
       "      <td>9</td>\n",
       "      <td>398.02</td>\n",
       "      <td>[38.55, 41.57, 67.72, 41.68, 31.77, 28.17, 41....</td>\n",
       "      <td>53.75</td>\n",
       "      <td>[3.35, 6.72, 12.11, 5.33, 2.77, 1.22, 5.6, 6.5...</td>\n",
       "      <td>25.54</td>\n",
       "      <td>[0.16, 3.7, 9.09, 2.14, -0.1, -2.01, 2.57, 3.0...</td>\n",
       "      <td>356.27</td>\n",
       "      <td>...</td>\n",
       "      <td>[2017-11-29T18:16:00.000000000, 2018-11-29T23:...</td>\n",
       "      <td>2017-10-17</td>\n",
       "      <td>2018-08-22</td>\n",
       "      <td>65</td>\n",
       "      <td>65</td>\n",
       "      <td>66</td>\n",
       "      <td>67</td>\n",
       "      <td>70</td>\n",
       "      <td>71</td>\n",
       "      <td>73</td>\n",
       "    </tr>\n",
       "  </tbody>\n",
       "</table>\n",
       "<p>5 rows × 23 columns</p>\n",
       "</div>"
      ],
      "text/plain": [
       "   CUS_N_KEY_CUSTOMER CZP_ZTQ_ID_unique  SCM_N_ORDER_NR_len  \\\n",
       "0              386699              [52]                   1   \n",
       "1              611326              [53]                   9   \n",
       "2              641200              [51]                   8   \n",
       "3              669369              [53]                   7   \n",
       "4              807884              [53]                   9   \n",
       "\n",
       "   SCM_SALES_BMF_sum                             SCM_SALES_BMF_<lambda>  \\\n",
       "0              24.70                                             [24.7]   \n",
       "1             482.27  [77.82, 22.55, 37.84, 59.75, 25.13, 62.03, 26....   \n",
       "2             417.25  [57.93, 36.72, 55.03, 73.64, 45.43, 46.81, 68....   \n",
       "3             417.24  [74.72, 37.57, 37.93, 37.52, 75.31, 75.54, 78.64]   \n",
       "4             398.02  [38.55, 41.57, 67.72, 41.68, 31.77, 28.17, 41....   \n",
       "\n",
       "   SCM_D_FINANCE_CM1_sum                         SCM_D_FINANCE_CM1_<lambda>  \\\n",
       "0                   3.28                                             [3.28]   \n",
       "1                  79.42  [13.92, 2.65, 0.6, 17.16, 8.19, 8.67, 3.95, 16...   \n",
       "2                  49.43    [11.8, 5.74, 9.2, 12.75, 5.9, 1.43, 0.51, 2.11]   \n",
       "3                  48.62         [7.19, 3.79, 4.1, 3.72, 9.53, 9.91, 10.38]   \n",
       "4                  53.75  [3.35, 6.72, 12.11, 5.33, 2.77, 1.22, 5.6, 6.5...   \n",
       "\n",
       "   SCM_D_FINANCE_CM2_sum                         SCM_D_FINANCE_CM2_<lambda>  \\\n",
       "0                   0.09                                             [0.09]   \n",
       "1                  33.46  [7.49, -1.07, -2.39, 9.16, 4.45, 1.57, 0.18, 9...   \n",
       "2                  21.28  [9.09, -0.22, 5.14, 8.38, 3.04, -1.44, -2.35, ...   \n",
       "3                   8.42        [-0.11, 0.14, 1.02, 0.64, 1.74, 2.11, 2.87]   \n",
       "4                  25.54  [0.16, 3.7, 9.09, 2.14, -0.1, -2.01, 2.57, 3.0...   \n",
       "\n",
       "   SCM_D_ORIG_FINANCE_ORDER_NET_sum        ...         \\\n",
       "0                             22.87        ...          \n",
       "1                            426.58        ...          \n",
       "2                            381.93        ...          \n",
       "3                            386.02        ...          \n",
       "4                            356.27        ...          \n",
       "\n",
       "                              CZP_EXPIRY_DATE_unique FIRST_O_DATE_min  \\\n",
       "0                    [2020-11-02T23:59:00.000000000]       2018-05-25   \n",
       "1                    [2018-10-03T23:59:00.000000000]       2017-10-03   \n",
       "2                    [2019-01-06T23:59:00.000000000]       2018-01-06   \n",
       "3                    [2018-08-22T23:59:00.000000000]       2017-11-02   \n",
       "4  [2017-11-29T18:16:00.000000000, 2018-11-29T23:...       2017-10-17   \n",
       "\n",
       "  LAST_O_DATE_min 1ST_O_COUNTER_min COUNTER_28D_max COUNTER_56D_max  \\\n",
       "0      2018-05-25               157             157             157   \n",
       "1      2018-08-16                38              38              38   \n",
       "2      2018-08-03                89              90              90   \n",
       "3      2018-08-03               163             163             164   \n",
       "4      2018-08-22                65              65              66   \n",
       "\n",
       "   COUNTER_84D_max  COUNTER_168D_max  COUNTER_252D_max  COUNTER_336D_max  \n",
       "0              157               157               157               157  \n",
       "1               39                42                45                46  \n",
       "2               91                95                96                96  \n",
       "3              164               167               168               169  \n",
       "4               67                70                71                73  \n",
       "\n",
       "[5 rows x 23 columns]"
      ]
     },
     "execution_count": 22,
     "metadata": {},
     "output_type": "execute_result"
    }
   ],
   "source": [
    "customers.head()"
   ]
  },
  {
   "cell_type": "code",
   "execution_count": 23,
   "metadata": {
    "ExecuteTime": {
     "end_time": "2018-10-19T09:35:22.529294Z",
     "start_time": "2018-10-19T09:35:21.950294Z"
    }
   },
   "outputs": [],
   "source": [
    "customers['DIFF_DAYS'] = (customers['LAST_O_DATE_min'] - customers['FIRST_O_DATE_min']).dt.days"
   ]
  },
  {
   "cell_type": "code",
   "execution_count": 24,
   "metadata": {
    "ExecuteTime": {
     "end_time": "2018-10-19T09:35:22.549294Z",
     "start_time": "2018-10-19T09:35:22.531294Z"
    }
   },
   "outputs": [],
   "source": [
    "customers['SUIT_28D'] = ((customers['LAST_O_DATE_min'].max() - timedelta(days=28)) >= customers['FIRST_O_DATE_min']) * 1\n",
    "customers['SUIT_56D'] = ((customers['LAST_O_DATE_min'].max() - timedelta(days=56)) >= customers['FIRST_O_DATE_min']) * 1\n",
    "customers['SUIT_84D'] = ((customers['LAST_O_DATE_min'].max() - timedelta(days=84)) >= customers['FIRST_O_DATE_min']) * 1\n",
    "customers['SUIT_168D'] = ((customers['LAST_O_DATE_min'].max() - timedelta(days=168)) >= customers['FIRST_O_DATE_min']) * 1\n",
    "customers['SUIT_252D'] = ((customers['LAST_O_DATE_min'].max() - timedelta(days=252)) >= customers['FIRST_O_DATE_min']) * 1\n",
    "customers['SUIT_336D'] = ((customers['LAST_O_DATE_min'].max() - timedelta(days=336)) >= customers['FIRST_O_DATE_min']) * 1"
   ]
  },
  {
   "cell_type": "code",
   "execution_count": 25,
   "metadata": {
    "ExecuteTime": {
     "end_time": "2018-10-19T09:35:22.563294Z",
     "start_time": "2018-10-19T09:35:22.550294Z"
    }
   },
   "outputs": [],
   "source": [
    "customers['R28D'] = (customers['COUNTER_28D_max'] > customers['1ST_O_COUNTER_min']) * 1\n",
    "customers['R56D'] = (customers['COUNTER_56D_max'] > customers['COUNTER_28D_max']) * 1\n",
    "customers['R84D'] = (customers['COUNTER_84D_max'] > customers['COUNTER_56D_max']) * 1\n",
    "customers['R168D'] = (customers['COUNTER_168D_max'] > customers['COUNTER_84D_max']) * 1\n",
    "customers['R252D'] = (customers['COUNTER_252D_max'] > customers['COUNTER_168D_max']) * 1\n",
    "customers['R336D'] = (customers['COUNTER_336D_max'] > customers['COUNTER_252D_max']) * 1"
   ]
  },
  {
   "cell_type": "code",
   "execution_count": 26,
   "metadata": {
    "ExecuteTime": {
     "end_time": "2018-10-19T09:35:22.577294Z",
     "start_time": "2018-10-19T09:35:22.564294Z"
    }
   },
   "outputs": [],
   "source": [
    "customers['RR_28D'] = customers['R28D']\n",
    "customers['RR_56D'] = customers['R56D'] | customers['RR_28D']\n",
    "customers['RR_84D'] = customers['R84D'] | customers['RR_56D']\n",
    "customers['RR_168D'] = customers['R168D'] | customers['RR_84D']\n",
    "customers['RR_252D'] = customers['R252D'] | customers['RR_168D']\n",
    "customers['RR_336D'] = customers['R336D'] | customers['RR_252D']"
   ]
  },
  {
   "cell_type": "code",
   "execution_count": 27,
   "metadata": {
    "ExecuteTime": {
     "end_time": "2018-10-19T09:35:22.592294Z",
     "start_time": "2018-10-19T09:35:22.578294Z"
    }
   },
   "outputs": [],
   "source": [
    "customers['R_28D'] = customers['RR_28D'] * customers['SUIT_28D']\n",
    "customers['R_56D'] = customers['RR_56D'] * customers['SUIT_56D']\n",
    "customers['R_84D'] = customers['RR_84D'] * customers['SUIT_84D']\n",
    "customers['R_168D'] = customers['RR_168D']  * customers['SUIT_168D']\n",
    "customers['R_252D'] = customers['RR_252D'] * customers['SUIT_252D']\n",
    "customers['R_336D'] = customers['RR_336D'] * customers['SUIT_336D']"
   ]
  },
  {
   "cell_type": "code",
   "execution_count": 28,
   "metadata": {
    "ExecuteTime": {
     "end_time": "2018-10-19T09:35:24.015294Z",
     "start_time": "2018-10-19T09:35:22.593294Z"
    }
   },
   "outputs": [],
   "source": [
    "customers.to_pickle(\"./test_local_pl_sp_customers_tiers_51-56.pkl\")"
   ]
  },
  {
   "cell_type": "code",
   "execution_count": 29,
   "metadata": {
    "ExecuteTime": {
     "end_time": "2018-10-19T09:35:24.027294Z",
     "start_time": "2018-10-19T09:35:24.016294Z"
    }
   },
   "outputs": [],
   "source": [
    "mask = [len(i) == 1 for i in customers['CZP_ZTQ_ID_unique'].values]"
   ]
  },
  {
   "cell_type": "code",
   "execution_count": 30,
   "metadata": {
    "ExecuteTime": {
     "end_time": "2018-10-19T09:35:24.082294Z",
     "start_time": "2018-10-19T09:35:24.028294Z"
    }
   },
   "outputs": [],
   "source": [
    "sp_customers = customers[mask]"
   ]
  },
  {
   "cell_type": "code",
   "execution_count": 31,
   "metadata": {
    "ExecuteTime": {
     "end_time": "2018-10-19T09:35:24.087294Z",
     "start_time": "2018-10-19T09:35:24.083294Z"
    }
   },
   "outputs": [],
   "source": [
    "def get_number_from_string(i):\n",
    "    changes = str(i).replace('[', '').replace(']', '')\n",
    "    return int(changes)"
   ]
  },
  {
   "cell_type": "code",
   "execution_count": 32,
   "metadata": {
    "ExecuteTime": {
     "end_time": "2018-10-19T09:35:24.114294Z",
     "start_time": "2018-10-19T09:35:24.089294Z"
    }
   },
   "outputs": [],
   "source": [
    "t_customers = sp_customers.copy()"
   ]
  },
  {
   "cell_type": "code",
   "execution_count": 33,
   "metadata": {
    "ExecuteTime": {
     "end_time": "2018-10-19T09:35:26.415294Z",
     "start_time": "2018-10-19T09:35:24.117294Z"
    }
   },
   "outputs": [],
   "source": [
    "t_customers['CZP_ZTQ_ID_unique'] = t_customers['CZP_ZTQ_ID_unique'].map(get_number_from_string)"
   ]
  },
  {
   "cell_type": "code",
   "execution_count": 34,
   "metadata": {
    "ExecuteTime": {
     "end_time": "2018-10-19T09:35:26.423294Z",
     "start_time": "2018-10-19T09:35:26.417294Z"
    }
   },
   "outputs": [
    {
     "data": {
      "text/plain": [
       "51    26010\n",
       "56    19132\n",
       "52    11708\n",
       "53    11284\n",
       "54     7071\n",
       "55     2077\n",
       "Name: CZP_ZTQ_ID_unique, dtype: int64"
      ]
     },
     "execution_count": 34,
     "metadata": {},
     "output_type": "execute_result"
    }
   ],
   "source": [
    "t_customers['CZP_ZTQ_ID_unique'].value_counts()"
   ]
  },
  {
   "cell_type": "code",
   "execution_count": 35,
   "metadata": {
    "ExecuteTime": {
     "end_time": "2018-10-19T09:35:26.474294Z",
     "start_time": "2018-10-19T09:35:26.424294Z"
    }
   },
   "outputs": [],
   "source": [
    "tier_rr_28d = (t_customers.groupby('CZP_ZTQ_ID_unique')['R_28D'].sum() / t_customers.groupby('CZP_ZTQ_ID_unique')['SUIT_28D'].sum() * 100).round(2)\n",
    "tier_rr_56d = (t_customers.groupby('CZP_ZTQ_ID_unique')['R_56D'].sum() / t_customers.groupby('CZP_ZTQ_ID_unique')['SUIT_56D'].sum() * 100).round(2)\n",
    "tier_rr_84d = (t_customers.groupby('CZP_ZTQ_ID_unique')['R_84D'].sum() / t_customers.groupby('CZP_ZTQ_ID_unique')['SUIT_84D'].sum() * 100).round(2)\n",
    "tier_rr_168d = (t_customers.groupby('CZP_ZTQ_ID_unique')['R_168D'].sum() / t_customers.groupby('CZP_ZTQ_ID_unique')['SUIT_168D'].sum() * 100).round(2)\n",
    "tier_rr_252d = (t_customers.groupby('CZP_ZTQ_ID_unique')['R_252D'].sum() / t_customers.groupby('CZP_ZTQ_ID_unique')['SUIT_252D'].sum() * 100).round(2)\n",
    "tier_rr_336d = (t_customers.groupby('CZP_ZTQ_ID_unique')['R_336D'].sum() / t_customers.groupby('CZP_ZTQ_ID_unique')['SUIT_336D'].sum() * 100).round(2)"
   ]
  },
  {
   "cell_type": "code",
   "execution_count": 36,
   "metadata": {
    "ExecuteTime": {
     "end_time": "2018-10-19T09:35:26.490294Z",
     "start_time": "2018-10-19T09:35:26.475294Z"
    }
   },
   "outputs": [
    {
     "data": {
      "text/html": [
       "<div>\n",
       "<style scoped>\n",
       "    .dataframe tbody tr th:only-of-type {\n",
       "        vertical-align: middle;\n",
       "    }\n",
       "\n",
       "    .dataframe tbody tr th {\n",
       "        vertical-align: top;\n",
       "    }\n",
       "\n",
       "    .dataframe thead th {\n",
       "        text-align: right;\n",
       "    }\n",
       "</style>\n",
       "<table border=\"1\" class=\"dataframe\">\n",
       "  <thead>\n",
       "    <tr style=\"text-align: right;\">\n",
       "      <th></th>\n",
       "      <th>28d</th>\n",
       "      <th>56d</th>\n",
       "      <th>84d</th>\n",
       "      <th>168d</th>\n",
       "      <th>252d</th>\n",
       "      <th>336d</th>\n",
       "    </tr>\n",
       "    <tr>\n",
       "      <th>CZP_ZTQ_ID_unique</th>\n",
       "      <th></th>\n",
       "      <th></th>\n",
       "      <th></th>\n",
       "      <th></th>\n",
       "      <th></th>\n",
       "      <th></th>\n",
       "    </tr>\n",
       "  </thead>\n",
       "  <tbody>\n",
       "    <tr>\n",
       "      <th>51</th>\n",
       "      <td>34.71</td>\n",
       "      <td>67.04</td>\n",
       "      <td>80.16</td>\n",
       "      <td>90.86</td>\n",
       "      <td>93.54</td>\n",
       "      <td>96.45</td>\n",
       "    </tr>\n",
       "    <tr>\n",
       "      <th>52</th>\n",
       "      <td>35.03</td>\n",
       "      <td>64.15</td>\n",
       "      <td>78.34</td>\n",
       "      <td>92.77</td>\n",
       "      <td>96.65</td>\n",
       "      <td>98.38</td>\n",
       "    </tr>\n",
       "    <tr>\n",
       "      <th>53</th>\n",
       "      <td>34.03</td>\n",
       "      <td>64.48</td>\n",
       "      <td>77.32</td>\n",
       "      <td>88.85</td>\n",
       "      <td>92.24</td>\n",
       "      <td>95.66</td>\n",
       "    </tr>\n",
       "    <tr>\n",
       "      <th>54</th>\n",
       "      <td>34.45</td>\n",
       "      <td>63.00</td>\n",
       "      <td>77.24</td>\n",
       "      <td>92.36</td>\n",
       "      <td>96.26</td>\n",
       "      <td>98.55</td>\n",
       "    </tr>\n",
       "    <tr>\n",
       "      <th>55</th>\n",
       "      <td>23.43</td>\n",
       "      <td>47.43</td>\n",
       "      <td>58.13</td>\n",
       "      <td>70.45</td>\n",
       "      <td>74.13</td>\n",
       "      <td>77.47</td>\n",
       "    </tr>\n",
       "    <tr>\n",
       "      <th>56</th>\n",
       "      <td>27.57</td>\n",
       "      <td>53.53</td>\n",
       "      <td>65.77</td>\n",
       "      <td>78.02</td>\n",
       "      <td>81.19</td>\n",
       "      <td>84.77</td>\n",
       "    </tr>\n",
       "  </tbody>\n",
       "</table>\n",
       "</div>"
      ],
      "text/plain": [
       "                     28d    56d    84d   168d   252d   336d\n",
       "CZP_ZTQ_ID_unique                                          \n",
       "51                 34.71  67.04  80.16  90.86  93.54  96.45\n",
       "52                 35.03  64.15  78.34  92.77  96.65  98.38\n",
       "53                 34.03  64.48  77.32  88.85  92.24  95.66\n",
       "54                 34.45  63.00  77.24  92.36  96.26  98.55\n",
       "55                 23.43  47.43  58.13  70.45  74.13  77.47\n",
       "56                 27.57  53.53  65.77  78.02  81.19  84.77"
      ]
     },
     "execution_count": 36,
     "metadata": {},
     "output_type": "execute_result"
    }
   ],
   "source": [
    "rep_rate_tiers = pd.DataFrame([tier_rr_28d, tier_rr_56d, tier_rr_84d, tier_rr_168d, tier_rr_252d, tier_rr_336d]).T\n",
    "rep_rate_tiers.columns = ['28d', '56d', '84d', '168d', '252d', '336d']\n",
    "rep_rate_tiers"
   ]
  },
  {
   "cell_type": "code",
   "execution_count": 37,
   "metadata": {
    "ExecuteTime": {
     "end_time": "2018-10-19T09:35:26.525294Z",
     "start_time": "2018-10-19T09:35:26.491294Z"
    }
   },
   "outputs": [],
   "source": [
    "ztq = [51, 52, 53, 54, 55, 56]"
   ]
  },
  {
   "cell_type": "code",
   "execution_count": 38,
   "metadata": {
    "ExecuteTime": {
     "end_time": "2018-10-19T09:35:27.449294Z",
     "start_time": "2018-10-19T09:35:26.526294Z"
    }
   },
   "outputs": [
    {
     "data": {
      "image/png": "[encoded data removed]",
      "text/plain": [
       "<matplotlib.figure.Figure at 0x10aa7f60>"
      ]
     },
     "metadata": {},
     "output_type": "display_data"
    },
    {
     "data": {
      "text/html": [
       "<div>\n",
       "<style scoped>\n",
       "    .dataframe tbody tr th:only-of-type {\n",
       "        vertical-align: middle;\n",
       "    }\n",
       "\n",
       "    .dataframe tbody tr th {\n",
       "        vertical-align: top;\n",
       "    }\n",
       "\n",
       "    .dataframe thead th {\n",
       "        text-align: right;\n",
       "    }\n",
       "</style>\n",
       "<table border=\"1\" class=\"dataframe\">\n",
       "  <thead>\n",
       "    <tr style=\"text-align: right;\">\n",
       "      <th></th>\n",
       "      <th>Tier 51 ORDERS</th>\n",
       "      <th>Tier 52 ORDERS</th>\n",
       "      <th>Tier 53 ORDERS</th>\n",
       "      <th>Tier 54 ORDERS</th>\n",
       "      <th>Tier 55 ORDERS</th>\n",
       "      <th>Tier 56 ORDERS</th>\n",
       "    </tr>\n",
       "  </thead>\n",
       "  <tbody>\n",
       "    <tr>\n",
       "      <th>count</th>\n",
       "      <td>26010.00</td>\n",
       "      <td>11708.00</td>\n",
       "      <td>11284.00</td>\n",
       "      <td>7071.00</td>\n",
       "      <td>2077.00</td>\n",
       "      <td>19132.00</td>\n",
       "    </tr>\n",
       "    <tr>\n",
       "      <th>mean</th>\n",
       "      <td>7.78</td>\n",
       "      <td>9.22</td>\n",
       "      <td>7.77</td>\n",
       "      <td>10.05</td>\n",
       "      <td>3.76</td>\n",
       "      <td>4.83</td>\n",
       "    </tr>\n",
       "    <tr>\n",
       "      <th>std</th>\n",
       "      <td>8.42</td>\n",
       "      <td>12.71</td>\n",
       "      <td>10.43</td>\n",
       "      <td>15.02</td>\n",
       "      <td>4.09</td>\n",
       "      <td>7.28</td>\n",
       "    </tr>\n",
       "    <tr>\n",
       "      <th>min</th>\n",
       "      <td>1.00</td>\n",
       "      <td>1.00</td>\n",
       "      <td>1.00</td>\n",
       "      <td>1.00</td>\n",
       "      <td>1.00</td>\n",
       "      <td>1.00</td>\n",
       "    </tr>\n",
       "    <tr>\n",
       "      <th>25%</th>\n",
       "      <td>3.00</td>\n",
       "      <td>4.00</td>\n",
       "      <td>3.00</td>\n",
       "      <td>4.00</td>\n",
       "      <td>1.00</td>\n",
       "      <td>2.00</td>\n",
       "    </tr>\n",
       "    <tr>\n",
       "      <th>50%</th>\n",
       "      <td>6.00</td>\n",
       "      <td>7.00</td>\n",
       "      <td>6.00</td>\n",
       "      <td>7.00</td>\n",
       "      <td>2.00</td>\n",
       "      <td>3.00</td>\n",
       "    </tr>\n",
       "    <tr>\n",
       "      <th>75%</th>\n",
       "      <td>10.00</td>\n",
       "      <td>11.00</td>\n",
       "      <td>10.00</td>\n",
       "      <td>12.00</td>\n",
       "      <td>5.00</td>\n",
       "      <td>6.00</td>\n",
       "    </tr>\n",
       "    <tr>\n",
       "      <th>max</th>\n",
       "      <td>243.00</td>\n",
       "      <td>517.00</td>\n",
       "      <td>426.00</td>\n",
       "      <td>375.00</td>\n",
       "      <td>82.00</td>\n",
       "      <td>276.00</td>\n",
       "    </tr>\n",
       "  </tbody>\n",
       "</table>\n",
       "</div>"
      ],
      "text/plain": [
       "       Tier 51 ORDERS  Tier 52 ORDERS  Tier 53 ORDERS  Tier 54 ORDERS  \\\n",
       "count        26010.00        11708.00        11284.00         7071.00   \n",
       "mean             7.78            9.22            7.77           10.05   \n",
       "std              8.42           12.71           10.43           15.02   \n",
       "min              1.00            1.00            1.00            1.00   \n",
       "25%              3.00            4.00            3.00            4.00   \n",
       "50%              6.00            7.00            6.00            7.00   \n",
       "75%             10.00           11.00           10.00           12.00   \n",
       "max            243.00          517.00          426.00          375.00   \n",
       "\n",
       "       Tier 55 ORDERS  Tier 56 ORDERS  \n",
       "count         2077.00        19132.00  \n",
       "mean             3.76            4.83  \n",
       "std              4.09            7.28  \n",
       "min              1.00            1.00  \n",
       "25%              1.00            2.00  \n",
       "50%              2.00            3.00  \n",
       "75%              5.00            6.00  \n",
       "max             82.00          276.00  "
      ]
     },
     "metadata": {},
     "output_type": "display_data"
    }
   ],
   "source": [
    "sns.set()\n",
    "plt.figure(figsize=(16,10))\n",
    "plt.suptitle('Histograms showing orders per customer & tier within 1 year time period', fontsize=14)\n",
    "plt.subplot(321)\n",
    "data_tier_51 = t_customers[t_customers['CZP_ZTQ_ID_unique'] == 51]\n",
    "data_tier_51['SCM_N_ORDER_NR_len'].hist(bins=30, range=(0, 30), color='#0066ff', alpha=0.5)\n",
    "plt.legend([51])\n",
    "plt.subplot(322)\n",
    "data_tier_52 = t_customers[t_customers['CZP_ZTQ_ID_unique'] == 52]\n",
    "data_tier_52['SCM_N_ORDER_NR_len'].hist(bins=30, range=(0, 30), color='#ff9900', alpha=0.5)\n",
    "plt.legend([52])\n",
    "plt.subplot(323)\n",
    "data_tier_53 = t_customers[t_customers['CZP_ZTQ_ID_unique'] == 53]\n",
    "data_tier_53['SCM_N_ORDER_NR_len'].hist(bins=30, range=(0, 30), color='#009900', alpha=0.5)\n",
    "plt.legend([53])\n",
    "plt.subplot(324)\n",
    "data_tier_54 = t_customers[t_customers['CZP_ZTQ_ID_unique'] == 54]\n",
    "data_tier_54['SCM_N_ORDER_NR_len'].hist(bins=30, range=(0, 30), color='#ff0000', alpha=0.5)\n",
    "plt.legend([54])\n",
    "plt.subplot(325)\n",
    "data_tier_55 = t_customers[t_customers['CZP_ZTQ_ID_unique'] == 55]\n",
    "data_tier_55['SCM_N_ORDER_NR_len'].hist(bins=30, range=(0, 30), color='#993399', alpha=0.5)\n",
    "plt.legend([55])\n",
    "plt.subplot(326)\n",
    "data_tier_56 = t_customers[t_customers['CZP_ZTQ_ID_unique'] == 56]\n",
    "data_tier_56['SCM_N_ORDER_NR_len'].hist(bins=30, range=(0, 30), color='#996633', alpha=0.5)\n",
    "plt.legend([56])\n",
    "plt.show() \n",
    "\n",
    "concat_df = pd.DataFrame()\n",
    "for tq in ztq:\n",
    "    data_tier = t_customers[t_customers['CZP_ZTQ_ID_unique'] == tq]\n",
    "    concat_df = pd.concat([concat_df,\n",
    "                           pd.DataFrame(data_tier['SCM_N_ORDER_NR_len'].describe().round(2)),\n",
    "                           ], axis=1)\n",
    "concat_df.columns = ['Tier 51 ORDERS', 'Tier 52 ORDERS', 'Tier 53 ORDERS',\n",
    "                     'Tier 54 ORDERS', 'Tier 55 ORDERS', 'Tier 56 ORDERS']\n",
    "display(concat_df)"
   ]
  },
  {
   "cell_type": "code",
   "execution_count": 39,
   "metadata": {
    "ExecuteTime": {
     "end_time": "2018-10-19T09:35:29.487294Z",
     "start_time": "2018-10-19T09:35:27.451294Z"
    }
   },
   "outputs": [
    {
     "data": {
      "image/png": "[encoded data removed]",
      "text/plain": [
       "<matplotlib.figure.Figure at 0x30342ef0>"
      ]
     },
     "metadata": {},
     "output_type": "display_data"
    },
    {
     "data": {
      "text/html": [
       "<div>\n",
       "<style scoped>\n",
       "    .dataframe tbody tr th:only-of-type {\n",
       "        vertical-align: middle;\n",
       "    }\n",
       "\n",
       "    .dataframe tbody tr th {\n",
       "        vertical-align: top;\n",
       "    }\n",
       "\n",
       "    .dataframe thead th {\n",
       "        text-align: right;\n",
       "    }\n",
       "</style>\n",
       "<table border=\"1\" class=\"dataframe\">\n",
       "  <thead>\n",
       "    <tr style=\"text-align: right;\">\n",
       "      <th></th>\n",
       "      <th>Tier 51 Order_Counter</th>\n",
       "      <th>Tier 52 Order_Counter</th>\n",
       "      <th>Tier 53 Order_Counter</th>\n",
       "      <th>Tier 54 Order_Counter</th>\n",
       "      <th>Tier 55 Order_Counter</th>\n",
       "      <th>Tier 56 Order_Counter</th>\n",
       "    </tr>\n",
       "  </thead>\n",
       "  <tbody>\n",
       "    <tr>\n",
       "      <th>count</th>\n",
       "      <td>225547.00</td>\n",
       "      <td>125710.00</td>\n",
       "      <td>93757.00</td>\n",
       "      <td>80004.00</td>\n",
       "      <td>9024.00</td>\n",
       "      <td>108305.00</td>\n",
       "    </tr>\n",
       "    <tr>\n",
       "      <th>mean</th>\n",
       "      <td>46.17</td>\n",
       "      <td>78.10</td>\n",
       "      <td>64.30</td>\n",
       "      <td>102.71</td>\n",
       "      <td>10.09</td>\n",
       "      <td>14.66</td>\n",
       "    </tr>\n",
       "    <tr>\n",
       "      <th>std</th>\n",
       "      <td>79.75</td>\n",
       "      <td>167.54</td>\n",
       "      <td>184.28</td>\n",
       "      <td>155.30</td>\n",
       "      <td>34.06</td>\n",
       "      <td>37.83</td>\n",
       "    </tr>\n",
       "    <tr>\n",
       "      <th>min</th>\n",
       "      <td>2.00</td>\n",
       "      <td>2.00</td>\n",
       "      <td>2.00</td>\n",
       "      <td>2.00</td>\n",
       "      <td>1.00</td>\n",
       "      <td>1.00</td>\n",
       "    </tr>\n",
       "    <tr>\n",
       "      <th>25%</th>\n",
       "      <td>15.00</td>\n",
       "      <td>21.00</td>\n",
       "      <td>13.00</td>\n",
       "      <td>25.00</td>\n",
       "      <td>3.00</td>\n",
       "      <td>3.00</td>\n",
       "    </tr>\n",
       "    <tr>\n",
       "      <th>50%</th>\n",
       "      <td>27.00</td>\n",
       "      <td>39.00</td>\n",
       "      <td>26.00</td>\n",
       "      <td>47.00</td>\n",
       "      <td>5.00</td>\n",
       "      <td>6.00</td>\n",
       "    </tr>\n",
       "    <tr>\n",
       "      <th>75%</th>\n",
       "      <td>50.00</td>\n",
       "      <td>74.00</td>\n",
       "      <td>50.00</td>\n",
       "      <td>104.00</td>\n",
       "      <td>9.00</td>\n",
       "      <td>10.00</td>\n",
       "    </tr>\n",
       "    <tr>\n",
       "      <th>max</th>\n",
       "      <td>1467.00</td>\n",
       "      <td>2318.00</td>\n",
       "      <td>2491.00</td>\n",
       "      <td>1597.00</td>\n",
       "      <td>384.00</td>\n",
       "      <td>839.00</td>\n",
       "    </tr>\n",
       "  </tbody>\n",
       "</table>\n",
       "</div>"
      ],
      "text/plain": [
       "       Tier 51 Order_Counter  Tier 52 Order_Counter  Tier 53 Order_Counter  \\\n",
       "count              225547.00              125710.00               93757.00   \n",
       "mean                   46.17                  78.10                  64.30   \n",
       "std                    79.75                 167.54                 184.28   \n",
       "min                     2.00                   2.00                   2.00   \n",
       "25%                    15.00                  21.00                  13.00   \n",
       "50%                    27.00                  39.00                  26.00   \n",
       "75%                    50.00                  74.00                  50.00   \n",
       "max                  1467.00                2318.00                2491.00   \n",
       "\n",
       "       Tier 54 Order_Counter  Tier 55 Order_Counter  Tier 56 Order_Counter  \n",
       "count               80004.00                9024.00              108305.00  \n",
       "mean                  102.71                  10.09                  14.66  \n",
       "std                   155.30                  34.06                  37.83  \n",
       "min                     2.00                   1.00                   1.00  \n",
       "25%                    25.00                   3.00                   3.00  \n",
       "50%                    47.00                   5.00                   6.00  \n",
       "75%                   104.00                   9.00                  10.00  \n",
       "max                  1597.00                 384.00                 839.00  "
      ]
     },
     "metadata": {},
     "output_type": "display_data"
    }
   ],
   "source": [
    "concat_df = pd.DataFrame()\n",
    "sns.set()\n",
    "plt.figure(figsize=(16,8))\n",
    "plt.title('Histogram showing order counter per Tier', fontsize=14)\n",
    "\n",
    "for tq in ztq:\n",
    "    data_tier = orders[orders['CZP_ZTQ_ID'] == tq]\n",
    "    order_counter_values = [i for i in data_tier['OSP_KO_COUNT_NET'].values]\n",
    "    plt.hist(order_counter_values, bins=150, range=(0, 150), alpha=0.5)\n",
    "    plt.legend([51, 52, 53, 54, 55, 56])\n",
    "    concat_df = pd.concat([concat_df,\n",
    "                           (pd.DataFrame(order_counter_values).describe().round(2)),\n",
    "                           ], axis=1)\n",
    "plt.show() \n",
    "\n",
    "concat_df.columns = ['Tier 51 Order_Counter', 'Tier 52 Order_Counter', 'Tier 53 Order_Counter',\n",
    "                     'Tier 54 Order_Counter', 'Tier 55 Order_Counter', 'Tier 56 Order_Counter']\n",
    "display(concat_df)"
   ]
  },
  {
   "cell_type": "code",
   "execution_count": 40,
   "metadata": {
    "ExecuteTime": {
     "end_time": "2018-10-19T09:35:30.345294Z",
     "start_time": "2018-10-19T09:35:29.488294Z"
    }
   },
   "outputs": [
    {
     "data": {
      "image/png": "[encoded data removed]",
      "text/plain": [
       "<matplotlib.figure.Figure at 0x4bfe75f8>"
      ]
     },
     "metadata": {},
     "output_type": "display_data"
    },
    {
     "data": {
      "text/html": [
       "<div>\n",
       "<style scoped>\n",
       "    .dataframe tbody tr th:only-of-type {\n",
       "        vertical-align: middle;\n",
       "    }\n",
       "\n",
       "    .dataframe tbody tr th {\n",
       "        vertical-align: top;\n",
       "    }\n",
       "\n",
       "    .dataframe thead th {\n",
       "        text-align: right;\n",
       "    }\n",
       "</style>\n",
       "<table border=\"1\" class=\"dataframe\">\n",
       "  <thead>\n",
       "    <tr style=\"text-align: right;\">\n",
       "      <th></th>\n",
       "      <th>Tier 51 Order_Values</th>\n",
       "      <th>Tier 52 Order_Values</th>\n",
       "      <th>Tier 53 Order_Values</th>\n",
       "      <th>Tier 54 Order_Values</th>\n",
       "      <th>Tier 55 Order_Values</th>\n",
       "      <th>Tier 56 Order_Values</th>\n",
       "    </tr>\n",
       "  </thead>\n",
       "  <tbody>\n",
       "    <tr>\n",
       "      <th>count</th>\n",
       "      <td>225547.00</td>\n",
       "      <td>125710.00</td>\n",
       "      <td>93757.00</td>\n",
       "      <td>80004.00</td>\n",
       "      <td>9024.00</td>\n",
       "      <td>108305.00</td>\n",
       "    </tr>\n",
       "    <tr>\n",
       "      <th>mean</th>\n",
       "      <td>48.87</td>\n",
       "      <td>55.76</td>\n",
       "      <td>51.99</td>\n",
       "      <td>60.92</td>\n",
       "      <td>40.75</td>\n",
       "      <td>51.24</td>\n",
       "    </tr>\n",
       "    <tr>\n",
       "      <th>std</th>\n",
       "      <td>35.40</td>\n",
       "      <td>44.62</td>\n",
       "      <td>41.25</td>\n",
       "      <td>59.62</td>\n",
       "      <td>28.53</td>\n",
       "      <td>60.52</td>\n",
       "    </tr>\n",
       "    <tr>\n",
       "      <th>min</th>\n",
       "      <td>-7.12</td>\n",
       "      <td>-7.27</td>\n",
       "      <td>-6.38</td>\n",
       "      <td>-9.25</td>\n",
       "      <td>-0.91</td>\n",
       "      <td>-17.36</td>\n",
       "    </tr>\n",
       "    <tr>\n",
       "      <th>25%</th>\n",
       "      <td>29.06</td>\n",
       "      <td>30.83</td>\n",
       "      <td>29.40</td>\n",
       "      <td>30.94</td>\n",
       "      <td>24.39</td>\n",
       "      <td>27.62</td>\n",
       "    </tr>\n",
       "    <tr>\n",
       "      <th>50%</th>\n",
       "      <td>40.57</td>\n",
       "      <td>44.22</td>\n",
       "      <td>41.89</td>\n",
       "      <td>45.17</td>\n",
       "      <td>33.38</td>\n",
       "      <td>39.15</td>\n",
       "    </tr>\n",
       "    <tr>\n",
       "      <th>75%</th>\n",
       "      <td>58.58</td>\n",
       "      <td>66.89</td>\n",
       "      <td>61.97</td>\n",
       "      <td>71.24</td>\n",
       "      <td>47.55</td>\n",
       "      <td>57.84</td>\n",
       "    </tr>\n",
       "    <tr>\n",
       "      <th>max</th>\n",
       "      <td>4980.66</td>\n",
       "      <td>5352.81</td>\n",
       "      <td>3346.22</td>\n",
       "      <td>3201.43</td>\n",
       "      <td>494.43</td>\n",
       "      <td>3730.55</td>\n",
       "    </tr>\n",
       "  </tbody>\n",
       "</table>\n",
       "</div>"
      ],
      "text/plain": [
       "       Tier 51 Order_Values  Tier 52 Order_Values  Tier 53 Order_Values  \\\n",
       "count             225547.00             125710.00              93757.00   \n",
       "mean                  48.87                 55.76                 51.99   \n",
       "std                   35.40                 44.62                 41.25   \n",
       "min                   -7.12                 -7.27                 -6.38   \n",
       "25%                   29.06                 30.83                 29.40   \n",
       "50%                   40.57                 44.22                 41.89   \n",
       "75%                   58.58                 66.89                 61.97   \n",
       "max                 4980.66               5352.81               3346.22   \n",
       "\n",
       "       Tier 54 Order_Values  Tier 55 Order_Values  Tier 56 Order_Values  \n",
       "count              80004.00               9024.00             108305.00  \n",
       "mean                  60.92                 40.75                 51.24  \n",
       "std                   59.62                 28.53                 60.52  \n",
       "min                   -9.25                 -0.91                -17.36  \n",
       "25%                   30.94                 24.39                 27.62  \n",
       "50%                   45.17                 33.38                 39.15  \n",
       "75%                   71.24                 47.55                 57.84  \n",
       "max                 3201.43                494.43               3730.55  "
      ]
     },
     "metadata": {},
     "output_type": "display_data"
    }
   ],
   "source": [
    "concat_df = pd.DataFrame()\n",
    "sns.set()\n",
    "plt.figure(figsize=(16,8))\n",
    "plt.title('Histogram showing order values per Tier', fontsize=14)\n",
    "\n",
    "for tq in ztq:\n",
    "    data_tier = orders[orders['CZP_ZTQ_ID'] == tq]\n",
    "    order_values = [i for i in data_tier['SCM_SALES_BMF'].values]\n",
    "    plt.hist(order_values, bins=30, range=(0, 300), alpha=0.5)\n",
    "    plt.legend([51, 52, 53, 54, 55, 56])\n",
    "    concat_df = pd.concat([concat_df,\n",
    "                           (pd.DataFrame(order_values).describe().round(2)),\n",
    "                           ], axis=1)\n",
    "plt.show() \n",
    "\n",
    "concat_df.columns = ['Tier 51 Order_Values', 'Tier 52 Order_Values', 'Tier 53 Order_Values',\n",
    "                     'Tier 54 Order_Values', 'Tier 55 Order_Values', 'Tier 56 Order_Values']\n",
    "display(concat_df)"
   ]
  },
  {
   "cell_type": "code",
   "execution_count": 41,
   "metadata": {
    "ExecuteTime": {
     "end_time": "2018-10-19T09:35:32.278294Z",
     "start_time": "2018-10-19T09:35:30.346294Z"
    }
   },
   "outputs": [
    {
     "data": {
      "image/png": "[encoded data removed]",
      "text/plain": [
       "<matplotlib.figure.Figure at 0x41439fd0>"
      ]
     },
     "metadata": {},
     "output_type": "display_data"
    },
    {
     "data": {
      "text/html": [
       "<div>\n",
       "<style scoped>\n",
       "    .dataframe tbody tr th:only-of-type {\n",
       "        vertical-align: middle;\n",
       "    }\n",
       "\n",
       "    .dataframe tbody tr th {\n",
       "        vertical-align: top;\n",
       "    }\n",
       "\n",
       "    .dataframe thead th {\n",
       "        text-align: right;\n",
       "    }\n",
       "</style>\n",
       "<table border=\"1\" class=\"dataframe\">\n",
       "  <thead>\n",
       "    <tr style=\"text-align: right;\">\n",
       "      <th></th>\n",
       "      <th>Tier 51 Order_CM1%</th>\n",
       "      <th>Tier 52 Order_CM1%</th>\n",
       "      <th>Tier 53 Order_CM1%</th>\n",
       "      <th>Tier 54 Order_CM1%</th>\n",
       "      <th>Tier 55 Order_CM1%</th>\n",
       "      <th>Tier 56 Order_CM1%</th>\n",
       "    </tr>\n",
       "  </thead>\n",
       "  <tbody>\n",
       "    <tr>\n",
       "      <th>count</th>\n",
       "      <td>225528.00</td>\n",
       "      <td>125697.00</td>\n",
       "      <td>93744.00</td>\n",
       "      <td>79998.00</td>\n",
       "      <td>9024.00</td>\n",
       "      <td>108298.00</td>\n",
       "    </tr>\n",
       "    <tr>\n",
       "      <th>25%</th>\n",
       "      <td>15.67</td>\n",
       "      <td>14.19</td>\n",
       "      <td>14.39</td>\n",
       "      <td>11.43</td>\n",
       "      <td>15.41</td>\n",
       "      <td>12.40</td>\n",
       "    </tr>\n",
       "    <tr>\n",
       "      <th>50%</th>\n",
       "      <td>21.56</td>\n",
       "      <td>20.19</td>\n",
       "      <td>21.37</td>\n",
       "      <td>17.99</td>\n",
       "      <td>22.70</td>\n",
       "      <td>19.59</td>\n",
       "    </tr>\n",
       "    <tr>\n",
       "      <th>75%</th>\n",
       "      <td>27.72</td>\n",
       "      <td>26.70</td>\n",
       "      <td>28.68</td>\n",
       "      <td>25.36</td>\n",
       "      <td>29.97</td>\n",
       "      <td>27.22</td>\n",
       "    </tr>\n",
       "  </tbody>\n",
       "</table>\n",
       "</div>"
      ],
      "text/plain": [
       "       Tier 51 Order_CM1%  Tier 52 Order_CM1%  Tier 53 Order_CM1%  \\\n",
       "count           225528.00           125697.00            93744.00   \n",
       "25%                 15.67               14.19               14.39   \n",
       "50%                 21.56               20.19               21.37   \n",
       "75%                 27.72               26.70               28.68   \n",
       "\n",
       "       Tier 54 Order_CM1%  Tier 55 Order_CM1%  Tier 56 Order_CM1%  \n",
       "count            79998.00             9024.00           108298.00  \n",
       "25%                 11.43               15.41               12.40  \n",
       "50%                 17.99               22.70               19.59  \n",
       "75%                 25.36               29.97               27.22  "
      ]
     },
     "metadata": {},
     "output_type": "display_data"
    }
   ],
   "source": [
    "concat_df = pd.DataFrame()\n",
    "sns.set()\n",
    "plt.figure(figsize=(16,8))\n",
    "plt.title('Histogram showing orders CM1% per Tier', fontsize=14)\n",
    "\n",
    "for tq in ztq:\n",
    "    data_tier = orders[orders['CZP_ZTQ_ID'] == tq]\n",
    "    order_values_cm1 = [i for i in data_tier['SCM_D_FINANCE_CM1'].values]\n",
    "    order_values_net_sales = [i for i in data_tier['SCM_D_ORIG_FINANCE_ORDER_NET'].values]\n",
    "    orders_rel_cm1 = [i/j * 100 for i, j in list(zip(order_values_cm1, order_values_net_sales)) if j != 0]\n",
    "    plt.hist(orders_rel_cm1, bins=100, range=(-25, 75), alpha=0.5)\n",
    "    plt.legend([51, 52, 53, 54, 55, 56])\n",
    "    concat_df = pd.concat([concat_df,\n",
    "                           (pd.DataFrame(orders_rel_cm1).describe().round(2)),\n",
    "                           ], axis=1)\n",
    "\n",
    "plt.legend([51, 52, 53, 54, 55, 56])\n",
    "plt.show() \n",
    "\n",
    "concat_df.columns = ['Tier 51 Order_CM1%', 'Tier 52 Order_CM1%', 'Tier 53 Order_CM1%',\n",
    "                     'Tier 54 Order_CM1%', 'Tier 55 Order_CM1%', 'Tier 56 Order_CM1%']\n",
    "display(concat_df.loc[['count', '25%', '50%', '75%']].astype(float))"
   ]
  },
  {
   "cell_type": "code",
   "execution_count": 42,
   "metadata": {
    "ExecuteTime": {
     "end_time": "2018-10-19T09:35:34.351294Z",
     "start_time": "2018-10-19T09:35:32.280294Z"
    }
   },
   "outputs": [
    {
     "data": {
      "image/png": "[encoded data removed]",
      "text/plain": [
       "<matplotlib.figure.Figure at 0x32881748>"
      ]
     },
     "metadata": {},
     "output_type": "display_data"
    },
    {
     "data": {
      "text/html": [
       "<div>\n",
       "<style scoped>\n",
       "    .dataframe tbody tr th:only-of-type {\n",
       "        vertical-align: middle;\n",
       "    }\n",
       "\n",
       "    .dataframe tbody tr th {\n",
       "        vertical-align: top;\n",
       "    }\n",
       "\n",
       "    .dataframe thead th {\n",
       "        text-align: right;\n",
       "    }\n",
       "</style>\n",
       "<table border=\"1\" class=\"dataframe\">\n",
       "  <thead>\n",
       "    <tr style=\"text-align: right;\">\n",
       "      <th></th>\n",
       "      <th>Tier 51 Order_CM2%</th>\n",
       "      <th>Tier 52 Order_CM2%</th>\n",
       "      <th>Tier 53 Order_CM2%</th>\n",
       "      <th>Tier 54 Order_CM2%</th>\n",
       "      <th>Tier 55 Order_CM2%</th>\n",
       "      <th>Tier 56 Order_CM2%</th>\n",
       "    </tr>\n",
       "  </thead>\n",
       "  <tbody>\n",
       "    <tr>\n",
       "      <th>count</th>\n",
       "      <td>225528.00</td>\n",
       "      <td>125697.00</td>\n",
       "      <td>93744.00</td>\n",
       "      <td>79998.00</td>\n",
       "      <td>9024.00</td>\n",
       "      <td>108298.00</td>\n",
       "    </tr>\n",
       "    <tr>\n",
       "      <th>25%</th>\n",
       "      <td>4.38</td>\n",
       "      <td>3.44</td>\n",
       "      <td>3.15</td>\n",
       "      <td>0.61</td>\n",
       "      <td>3.79</td>\n",
       "      <td>1.24</td>\n",
       "    </tr>\n",
       "    <tr>\n",
       "      <th>50%</th>\n",
       "      <td>10.45</td>\n",
       "      <td>9.60</td>\n",
       "      <td>10.32</td>\n",
       "      <td>7.35</td>\n",
       "      <td>10.23</td>\n",
       "      <td>8.03</td>\n",
       "    </tr>\n",
       "    <tr>\n",
       "      <th>75%</th>\n",
       "      <td>16.53</td>\n",
       "      <td>16.02</td>\n",
       "      <td>17.96</td>\n",
       "      <td>14.80</td>\n",
       "      <td>17.40</td>\n",
       "      <td>15.44</td>\n",
       "    </tr>\n",
       "  </tbody>\n",
       "</table>\n",
       "</div>"
      ],
      "text/plain": [
       "       Tier 51 Order_CM2%  Tier 52 Order_CM2%  Tier 53 Order_CM2%  \\\n",
       "count           225528.00           125697.00            93744.00   \n",
       "25%                  4.38                3.44                3.15   \n",
       "50%                 10.45                9.60               10.32   \n",
       "75%                 16.53               16.02               17.96   \n",
       "\n",
       "       Tier 54 Order_CM2%  Tier 55 Order_CM2%  Tier 56 Order_CM2%  \n",
       "count            79998.00             9024.00           108298.00  \n",
       "25%                  0.61                3.79                1.24  \n",
       "50%                  7.35               10.23                8.03  \n",
       "75%                 14.80               17.40               15.44  "
      ]
     },
     "metadata": {},
     "output_type": "display_data"
    }
   ],
   "source": [
    "concat_df = pd.DataFrame()\n",
    "sns.set()\n",
    "plt.figure(figsize=(16,8))\n",
    "plt.title('Histogram showing orders CM2% per Tier', fontsize=14)\n",
    "\n",
    "for tq in ztq:\n",
    "    data_tier = orders[orders['CZP_ZTQ_ID'] == tq]\n",
    "    order_values_cm2 = [i for i in data_tier['SCM_D_FINANCE_CM2'].values]\n",
    "    order_values_net_sales = [i for i in data_tier['SCM_D_ORIG_FINANCE_ORDER_NET'].values]\n",
    "    orders_rel_cm2 = [i/j * 100 for i, j in list(zip(order_values_cm2, order_values_net_sales)) if j != 0]\n",
    "    plt.hist(orders_rel_cm2, bins=100, range=(-35, 65), alpha=0.5)\n",
    "    plt.legend([51, 52, 53, 54, 55, 56])\n",
    "    concat_df = pd.concat([concat_df,\n",
    "                           (pd.DataFrame(orders_rel_cm2).describe().round(2)),\n",
    "                           ], axis=1)\n",
    "\n",
    "plt.legend([51, 52, 53, 54, 55, 56])\n",
    "plt.show() \n",
    "\n",
    "concat_df.columns = ['Tier 51 Order_CM2%', 'Tier 52 Order_CM2%', 'Tier 53 Order_CM2%',\n",
    "                     'Tier 54 Order_CM2%', 'Tier 55 Order_CM2%', 'Tier 56 Order_CM2%']\n",
    "display(concat_df.loc[['count', '25%', '50%', '75%']].astype(float))"
   ]
  },
  {
   "cell_type": "code",
   "execution_count": 43,
   "metadata": {
    "ExecuteTime": {
     "end_time": "2018-10-19T09:35:36.709294Z",
     "start_time": "2018-10-19T09:35:34.352294Z"
    }
   },
   "outputs": [
    {
     "data": {
      "text/html": [
       "<div>\n",
       "<style scoped>\n",
       "    .dataframe tbody tr th:only-of-type {\n",
       "        vertical-align: middle;\n",
       "    }\n",
       "\n",
       "    .dataframe tbody tr th {\n",
       "        vertical-align: top;\n",
       "    }\n",
       "\n",
       "    .dataframe thead th {\n",
       "        text-align: right;\n",
       "    }\n",
       "</style>\n",
       "<table border=\"1\" class=\"dataframe\">\n",
       "  <thead>\n",
       "    <tr style=\"text-align: right;\">\n",
       "      <th></th>\n",
       "      <th>ZTQ</th>\n",
       "      <th>active_customers</th>\n",
       "      <th>orders</th>\n",
       "      <th>sales_bmf</th>\n",
       "      <th>net_sales</th>\n",
       "      <th>CM1</th>\n",
       "      <th>CM2</th>\n",
       "      <th>CM1%</th>\n",
       "      <th>CM2%</th>\n",
       "      <th>discount_amount</th>\n",
       "      <th>orders_%_neg_cm1</th>\n",
       "      <th>loss_in_CM1</th>\n",
       "      <th>orders_%_neg_cm2</th>\n",
       "      <th>loss_in_CM2</th>\n",
       "    </tr>\n",
       "  </thead>\n",
       "  <tbody>\n",
       "    <tr>\n",
       "      <th>0</th>\n",
       "      <td>51</td>\n",
       "      <td>30223</td>\n",
       "      <td>225547</td>\n",
       "      <td>11022611.63</td>\n",
       "      <td>10000344.12</td>\n",
       "      <td>2126330.60</td>\n",
       "      <td>1149880.19</td>\n",
       "      <td>21.26</td>\n",
       "      <td>11.50</td>\n",
       "      <td>-332050.46</td>\n",
       "      <td>0.92</td>\n",
       "      <td>-4710.96</td>\n",
       "      <td>12.94</td>\n",
       "      <td>-53926.88</td>\n",
       "    </tr>\n",
       "    <tr>\n",
       "      <th>1</th>\n",
       "      <td>52</td>\n",
       "      <td>14611</td>\n",
       "      <td>125710</td>\n",
       "      <td>7009501.78</td>\n",
       "      <td>6360650.56</td>\n",
       "      <td>1274572.81</td>\n",
       "      <td>698343.66</td>\n",
       "      <td>20.04</td>\n",
       "      <td>10.98</td>\n",
       "      <td>-213684.26</td>\n",
       "      <td>1.45</td>\n",
       "      <td>-5832.77</td>\n",
       "      <td>15.18</td>\n",
       "      <td>-40580.47</td>\n",
       "    </tr>\n",
       "    <tr>\n",
       "      <th>2</th>\n",
       "      <td>53</td>\n",
       "      <td>12402</td>\n",
       "      <td>93757</td>\n",
       "      <td>4874460.52</td>\n",
       "      <td>4418237.69</td>\n",
       "      <td>933724.84</td>\n",
       "      <td>524522.07</td>\n",
       "      <td>21.13</td>\n",
       "      <td>11.87</td>\n",
       "      <td>-252260.93</td>\n",
       "      <td>1.67</td>\n",
       "      <td>-3860.30</td>\n",
       "      <td>16.66</td>\n",
       "      <td>-33475.82</td>\n",
       "    </tr>\n",
       "    <tr>\n",
       "      <th>3</th>\n",
       "      <td>54</td>\n",
       "      <td>8094</td>\n",
       "      <td>80004</td>\n",
       "      <td>4873717.27</td>\n",
       "      <td>4428131.17</td>\n",
       "      <td>805564.44</td>\n",
       "      <td>417549.01</td>\n",
       "      <td>18.19</td>\n",
       "      <td>9.43</td>\n",
       "      <td>-255262.29</td>\n",
       "      <td>2.81</td>\n",
       "      <td>-6655.71</td>\n",
       "      <td>23.14</td>\n",
       "      <td>-45176.49</td>\n",
       "    </tr>\n",
       "    <tr>\n",
       "      <th>4</th>\n",
       "      <td>55</td>\n",
       "      <td>2336</td>\n",
       "      <td>9024</td>\n",
       "      <td>367709.72</td>\n",
       "      <td>333352.35</td>\n",
       "      <td>73674.03</td>\n",
       "      <td>38479.25</td>\n",
       "      <td>22.10</td>\n",
       "      <td>11.54</td>\n",
       "      <td>-7428.04</td>\n",
       "      <td>0.29</td>\n",
       "      <td>-49.54</td>\n",
       "      <td>13.63</td>\n",
       "      <td>-1657.74</td>\n",
       "    </tr>\n",
       "    <tr>\n",
       "      <th>5</th>\n",
       "      <td>56</td>\n",
       "      <td>22019</td>\n",
       "      <td>108305</td>\n",
       "      <td>5549213.44</td>\n",
       "      <td>5035128.25</td>\n",
       "      <td>935233.47</td>\n",
       "      <td>450858.64</td>\n",
       "      <td>18.57</td>\n",
       "      <td>8.95</td>\n",
       "      <td>-229869.94</td>\n",
       "      <td>1.86</td>\n",
       "      <td>-9117.10</td>\n",
       "      <td>21.10</td>\n",
       "      <td>-57540.50</td>\n",
       "    </tr>\n",
       "  </tbody>\n",
       "</table>\n",
       "</div>"
      ],
      "text/plain": [
       "  ZTQ active_customers  orders    sales_bmf    net_sales         CM1  \\\n",
       "0  51            30223  225547  11022611.63  10000344.12  2126330.60   \n",
       "1  52            14611  125710   7009501.78   6360650.56  1274572.81   \n",
       "2  53            12402   93757   4874460.52   4418237.69   933724.84   \n",
       "3  54             8094   80004   4873717.27   4428131.17   805564.44   \n",
       "4  55             2336    9024    367709.72    333352.35    73674.03   \n",
       "5  56            22019  108305   5549213.44   5035128.25   935233.47   \n",
       "\n",
       "          CM2   CM1%   CM2%  discount_amount  orders_%_neg_cm1  loss_in_CM1  \\\n",
       "0  1149880.19  21.26  11.50       -332050.46              0.92     -4710.96   \n",
       "1   698343.66  20.04  10.98       -213684.26              1.45     -5832.77   \n",
       "2   524522.07  21.13  11.87       -252260.93              1.67     -3860.30   \n",
       "3   417549.01  18.19   9.43       -255262.29              2.81     -6655.71   \n",
       "4    38479.25  22.10  11.54         -7428.04              0.29       -49.54   \n",
       "5   450858.64  18.57   8.95       -229869.94              1.86     -9117.10   \n",
       "\n",
       "   orders_%_neg_cm2  loss_in_CM2  \n",
       "0             12.94    -53926.88  \n",
       "1             15.18    -40580.47  \n",
       "2             16.66    -33475.82  \n",
       "3             23.14    -45176.49  \n",
       "4             13.63     -1657.74  \n",
       "5             21.10    -57540.50  "
      ]
     },
     "metadata": {},
     "output_type": "display_data"
    }
   ],
   "source": [
    "metrics_ztq = pd.DataFrame(columns=['ZTQ','active_customers', 'orders', 'sales_bmf', 'net_sales', 'CM1', 'CM2', 'CM1%', 'CM2%',\n",
    "                                   'discount_amount', 'orders_%_neg_cm1', 'loss_in_CM1', 'orders_%_neg_cm2', 'loss_in_CM2'])\n",
    "for tq in ztq:\n",
    "    df_elems = []\n",
    "    data_tier = data[data['CZP_ZTQ_ID'] == tq]\n",
    "    df_elems.append(tq)\n",
    "    df_elems.append(data_tier['CUS_N_KEY_CUSTOMER'].nunique())\n",
    "    df_elems.append(data_tier['SCM_N_ORDER_NR'].nunique())\n",
    "    df_elems.append(data_tier['SCM_SALES_BMF'].sum())\n",
    "    df_elems.append(data_tier['SCM_D_ORIG_FINANCE_ORDER_NET'].sum())\n",
    "    df_elems.append(data_tier['SCM_D_FINANCE_CM1'].sum())\n",
    "    df_elems.append(data_tier['SCM_D_FINANCE_CM2'].sum())\n",
    "    df_elems.append(data_tier['SCM_D_FINANCE_CM1'].sum() / data_tier['SCM_D_ORIG_FINANCE_ORDER_NET'].sum() * 100)\n",
    "    df_elems.append(data_tier['SCM_D_FINANCE_CM2'].sum() / data_tier['SCM_D_ORIG_FINANCE_ORDER_NET'].sum() * 100)\n",
    "    df_elems.append((data_tier[data_tier['SCM_MASTER_AP_ID'] == 42715]['SCM_SALES_BMF']).sum())\n",
    "    \n",
    "    cm1_per_order = data_tier.groupby('SCM_N_ORDER_NR')['SCM_D_FINANCE_CM1'].sum()\n",
    "    orders_neg_cm1 = cm1_per_order[cm1_per_order < 0].index.values\n",
    "    df_elems.append(len(orders_neg_cm1)/data_tier['SCM_N_ORDER_NR'].nunique()*100)\n",
    "    df_elems.append(cm1_per_order[cm1_per_order < 0].sum())\n",
    "    \n",
    "    cm2_per_order = data_tier.groupby('SCM_N_ORDER_NR')['SCM_D_FINANCE_CM2'].sum()\n",
    "    orders_neg_cm2 = cm2_per_order[cm2_per_order < 0].index.values\n",
    "    df_elems.append(len(orders_neg_cm2)/data_tier['SCM_N_ORDER_NR'].nunique()*100)\n",
    "    df_elems.append(cm2_per_order[cm2_per_order < 0].sum())\n",
    "    \n",
    "    new_row = pd.DataFrame.from_records([df_elems], columns=metrics_ztq.columns)\n",
    "    metrics_ztq = metrics_ztq.append(new_row, ignore_index=True)\n",
    "    \n",
    "display(metrics_ztq.round(2))"
   ]
  },
  {
   "cell_type": "code",
   "execution_count": null,
   "metadata": {},
   "outputs": [],
   "source": []
  }
 ],
 "metadata": {
  "hide_input": false,
  "kernelspec": {
   "display_name": "Python [conda env:py36]",
   "language": "python",
   "name": "conda-env-py36-py"
  },
  "language_info": {
   "codemirror_mode": {
    "name": "ipython",
    "version": 3
   },
   "file_extension": ".py",
   "mimetype": "text/x-python",
   "name": "python",
   "nbconvert_exporter": "python",
   "pygments_lexer": "ipython3",
   "version": "3.6.4"
  },
  "toc": {
   "base_numbering": 1,
   "nav_menu": {},
   "number_sections": true,
   "sideBar": true,
   "skip_h1_title": false,
   "title_cell": "Table of Contents",
   "title_sidebar": "Contents",
   "toc_cell": false,
   "toc_position": {},
   "toc_section_display": true,
   "toc_window_display": false
  },
  "varInspector": {
   "cols": {
    "lenName": 16,
    "lenType": 16,
    "lenVar": 40
   },
   "kernels_config": {
    "python": {
     "delete_cmd_postfix": "",
     "delete_cmd_prefix": "del ",
     "library": "var_list.py",
     "varRefreshCmd": "print(var_dic_list())"
    },
    "r": {
     "delete_cmd_postfix": ") ",
     "delete_cmd_prefix": "rm(",
     "library": "var_list.r",
     "varRefreshCmd": "cat(var_dic_list()) "
    }
   },
   "types_to_exclude": [
    "module",
    "function",
    "builtin_function_or_method",
    "instance",
    "_Feature"
   ],
   "window_display": false
  }
 },
 "nbformat": 4,
 "nbformat_minor": 2
}
