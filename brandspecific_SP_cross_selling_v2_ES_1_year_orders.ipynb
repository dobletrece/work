{
 "cells": [
  {
   "cell_type": "code",
   "execution_count": 1,
   "metadata": {
    "ExecuteTime": {
     "end_time": "2018-11-22T15:39:03.725616Z",
     "start_time": "2018-11-22T15:39:01.425616Z"
    }
   },
   "outputs": [],
   "source": [
    "import numpy as np\n",
    "import pandas as pd\n",
    "import dask.dataframe as dd\n",
    "import matplotlib.pyplot as plt\n",
    "%matplotlib inline\n",
    "from IPython.display import display\n",
    "from scipy import stats\n",
    "from statistics import stdev\n",
    "import datetime\n",
    "from datetime import timedelta\n",
    "from collections import Counter\n",
    "import cx_Oracle\n",
    "import psycopg2\n",
    "import seaborn as sns\n",
    "import json\n",
    "import pickle\n",
    "#from fitter import Fitter\n",
    "from warnings import filterwarnings\n",
    "from itertools import compress\n",
    "filterwarnings('ignore')"
   ]
  },
  {
   "cell_type": "markdown",
   "metadata": {},
   "source": [
    "ES shop 1 year orders..."
   ]
  },
  {
   "cell_type": "raw",
   "metadata": {},
   "source": [
    "select \n",
    "scm.scm_n_order_pos_nr, scm.scm_n_order_nr, scm.tdt_t_key_order_date, scm.THR_C_KEY_ORDER_HOUR, scm.SIT_N_KEY_SITE,\n",
    "scm.CUS_N_KEY_CUSTOMER, scm.SCM_SALES_BMF, scm.SCM_D_FINANCE_CM1, scm.SCM_D_FINANCE_CM2,\n",
    "scm.SCM_D_ORIG_FINANCE_ORDER_NET,scm.SCM_AP_ID, scm.SCM_AS_ID, scm.SCM_MASTER_AP_ID,\n",
    "osp.OSP_KO_COUNT_NET, osp.OSP_3_LEAD_P_PG_ID, osp.OSP_3_LEAD_P_PG_SHARE, osp.OSP_4_LEAD_P_PG_ID, osp.OSP_4_LEAD_P_PG_SHARE,\n",
    "czp.CZP_START_DATE, czp.CZP_EXPIRY_DATE, czp.CZP_ZTQ_ID, czp.CZP_PERCENTAGE, czp.CZP_PRICE\n",
    "from zoocube.ddstf_scm_sales_contrib_margin scm\n",
    "join ZOOMAN.ORDER_SALES_PROFILE osp\n",
    "on osp.OSP_O_ID = scm.SCM_N_ORDER_NR\n",
    "left outer join ZOOMAN.CUSTOMERS_ZOOPRIME_PLANS czp\n",
    "on scm.CUS_N_KEY_CUSTOMER = czp.CZP_K_ID \n",
    "and czp.CZP_EXPIRY_DATE > to_date((to_char(TDT_T_KEY_ORDER_DATE, 'dd/mm/yyyy') ||' '|| THR_C_KEY_ORDER_HOUR), 'dd/mm/yyyy HH24:MI')\n",
    "and czp.CZP_START_DATE <= to_date((to_char(TDT_T_KEY_ORDER_DATE, 'dd/mm/yyyy') ||' '|| THR_C_KEY_ORDER_HOUR), 'dd/mm/yyyy HH24:MI') + interval '2' minute\n",
    "where (TDT_T_KEY_ORDER_DATE >= to_date('01/10/17', 'DD/MM/YY') and TDT_T_KEY_ORDER_DATE <= to_date('30/09/18', 'DD/MM/YY'))\n",
    "and SIT_N_KEY_SITE = 15\n",
    "and (scm.SCM_C_ORDER_STATUS = 'L' OR scm.SCM_C_ORDER_STATUS = 'VK')\n",
    "and scm.SCM_SALES_CANCEL_BMF = 0\n",
    ";"
   ]
  },
  {
   "cell_type": "markdown",
   "metadata": {
    "heading_collapsed": true
   },
   "source": [
    "### Data loading, cleaning & formatting"
   ]
  },
  {
   "cell_type": "code",
   "execution_count": 18,
   "metadata": {
    "ExecuteTime": {
     "end_time": "2018-11-15T08:28:28.997334Z",
     "start_time": "2018-11-15T08:28:13.007334Z"
    },
    "hidden": true
   },
   "outputs": [],
   "source": [
    "data = pd.read_csv('one_year_es_shop_orders_sp_cross_selling.dsv', sep=';', low_memory=False)"
   ]
  },
  {
   "cell_type": "code",
   "execution_count": 20,
   "metadata": {
    "ExecuteTime": {
     "end_time": "2018-11-15T08:29:01.978334Z",
     "start_time": "2018-11-15T08:29:01.783334Z"
    },
    "hidden": true
   },
   "outputs": [
    {
     "data": {
      "text/html": [
       "<div>\n",
       "<style scoped>\n",
       "    .dataframe tbody tr th:only-of-type {\n",
       "        vertical-align: middle;\n",
       "    }\n",
       "\n",
       "    .dataframe tbody tr th {\n",
       "        vertical-align: top;\n",
       "    }\n",
       "\n",
       "    .dataframe thead th {\n",
       "        text-align: right;\n",
       "    }\n",
       "</style>\n",
       "<table border=\"1\" class=\"dataframe\">\n",
       "  <thead>\n",
       "    <tr style=\"text-align: right;\">\n",
       "      <th></th>\n",
       "      <th>SCM_N_ORDER_POS_NR</th>\n",
       "      <th>SCM_N_ORDER_NR</th>\n",
       "      <th>TDT_T_KEY_ORDER_DATE</th>\n",
       "      <th>THR_C_KEY_ORDER_HOUR</th>\n",
       "      <th>SIT_N_KEY_SITE</th>\n",
       "      <th>CUS_N_KEY_CUSTOMER</th>\n",
       "      <th>SCM_SALES_BMF</th>\n",
       "      <th>SCM_D_FINANCE_CM1</th>\n",
       "      <th>SCM_D_FINANCE_CM2</th>\n",
       "      <th>SCM_D_ORIG_FINANCE_ORDER_NET</th>\n",
       "      <th>...</th>\n",
       "      <th>OSP_KO_COUNT_NET</th>\n",
       "      <th>OSP_3_LEAD_P_PG_ID</th>\n",
       "      <th>OSP_3_LEAD_P_PG_SHARE</th>\n",
       "      <th>OSP_4_LEAD_P_PG_ID</th>\n",
       "      <th>OSP_4_LEAD_P_PG_SHARE</th>\n",
       "      <th>CZP_START_DATE</th>\n",
       "      <th>CZP_EXPIRY_DATE</th>\n",
       "      <th>CZP_ZTQ_ID</th>\n",
       "      <th>CZP_PERCENTAGE</th>\n",
       "      <th>CZP_PRICE</th>\n",
       "    </tr>\n",
       "  </thead>\n",
       "  <tbody>\n",
       "    <tr>\n",
       "      <th>3738583</th>\n",
       "      <td>464181844</td>\n",
       "      <td>108901694</td>\n",
       "      <td>17/04/2018 00:00</td>\n",
       "      <td>12:22</td>\n",
       "      <td>15</td>\n",
       "      <td>3233624</td>\n",
       "      <td>6,99</td>\n",
       "      <td>2,8445</td>\n",
       "      <td>1,7842</td>\n",
       "      <td>6,3545</td>\n",
       "      <td>...</td>\n",
       "      <td>50</td>\n",
       "      <td>857</td>\n",
       "      <td>0,368</td>\n",
       "      <td>2128</td>\n",
       "      <td>0,368</td>\n",
       "      <td>08/02/2018 21:58</td>\n",
       "      <td>08/02/2019 23:59</td>\n",
       "      <td>51.0</td>\n",
       "      <td>3.0</td>\n",
       "      <td>2,99</td>\n",
       "    </tr>\n",
       "    <tr>\n",
       "      <th>2893672</th>\n",
       "      <td>481600292</td>\n",
       "      <td>113276796</td>\n",
       "      <td>22/06/2018 00:00</td>\n",
       "      <td>00:49</td>\n",
       "      <td>15</td>\n",
       "      <td>2461870</td>\n",
       "      <td>37,98</td>\n",
       "      <td>13,4073</td>\n",
       "      <td>5,982</td>\n",
       "      <td>34,5273</td>\n",
       "      <td>...</td>\n",
       "      <td>107</td>\n",
       "      <td>2068</td>\n",
       "      <td>0,7</td>\n",
       "      <td>17963</td>\n",
       "      <td>0,4752</td>\n",
       "      <td>03/05/2017 16:00</td>\n",
       "      <td>14/05/2020 23:59</td>\n",
       "      <td>52.0</td>\n",
       "      <td>3.0</td>\n",
       "      <td>5,99</td>\n",
       "    </tr>\n",
       "    <tr>\n",
       "      <th>2856424</th>\n",
       "      <td>504239034</td>\n",
       "      <td>118949935</td>\n",
       "      <td>13/09/2018 00:00</td>\n",
       "      <td>20:08</td>\n",
       "      <td>15</td>\n",
       "      <td>16037566</td>\n",
       "      <td>0</td>\n",
       "      <td>-0,35</td>\n",
       "      <td>-0,739</td>\n",
       "      <td>0</td>\n",
       "      <td>...</td>\n",
       "      <td>7</td>\n",
       "      <td>2068</td>\n",
       "      <td>0,4468</td>\n",
       "      <td>2072</td>\n",
       "      <td>0,4468</td>\n",
       "      <td>NaN</td>\n",
       "      <td>NaN</td>\n",
       "      <td>NaN</td>\n",
       "      <td>NaN</td>\n",
       "      <td>NaN</td>\n",
       "    </tr>\n",
       "    <tr>\n",
       "      <th>4617349</th>\n",
       "      <td>451139090</td>\n",
       "      <td>105793353</td>\n",
       "      <td>02/03/2018 00:00</td>\n",
       "      <td>22:13</td>\n",
       "      <td>15</td>\n",
       "      <td>4539074</td>\n",
       "      <td>21,99</td>\n",
       "      <td>4,4509</td>\n",
       "      <td>0,7834</td>\n",
       "      <td>19,9909</td>\n",
       "      <td>...</td>\n",
       "      <td>31</td>\n",
       "      <td>252</td>\n",
       "      <td>1</td>\n",
       "      <td>81397</td>\n",
       "      <td>0,6141</td>\n",
       "      <td>NaN</td>\n",
       "      <td>NaN</td>\n",
       "      <td>NaN</td>\n",
       "      <td>NaN</td>\n",
       "      <td>NaN</td>\n",
       "    </tr>\n",
       "    <tr>\n",
       "      <th>1970812</th>\n",
       "      <td>460900504</td>\n",
       "      <td>108080591</td>\n",
       "      <td>04/04/2018 00:00</td>\n",
       "      <td>23:34</td>\n",
       "      <td>15</td>\n",
       "      <td>3164095</td>\n",
       "      <td>0,99</td>\n",
       "      <td>0,6682</td>\n",
       "      <td>0,246</td>\n",
       "      <td>0,8182</td>\n",
       "      <td>...</td>\n",
       "      <td>38</td>\n",
       "      <td>34</td>\n",
       "      <td>0,4331</td>\n",
       "      <td>71978</td>\n",
       "      <td>0,3976</td>\n",
       "      <td>NaN</td>\n",
       "      <td>NaN</td>\n",
       "      <td>NaN</td>\n",
       "      <td>NaN</td>\n",
       "      <td>NaN</td>\n",
       "    </tr>\n",
       "  </tbody>\n",
       "</table>\n",
       "<p>5 rows × 23 columns</p>\n",
       "</div>"
      ],
      "text/plain": [
       "         SCM_N_ORDER_POS_NR  SCM_N_ORDER_NR TDT_T_KEY_ORDER_DATE  \\\n",
       "3738583           464181844       108901694     17/04/2018 00:00   \n",
       "2893672           481600292       113276796     22/06/2018 00:00   \n",
       "2856424           504239034       118949935     13/09/2018 00:00   \n",
       "4617349           451139090       105793353     02/03/2018 00:00   \n",
       "1970812           460900504       108080591     04/04/2018 00:00   \n",
       "\n",
       "        THR_C_KEY_ORDER_HOUR  SIT_N_KEY_SITE  CUS_N_KEY_CUSTOMER  \\\n",
       "3738583                12:22              15             3233624   \n",
       "2893672                00:49              15             2461870   \n",
       "2856424                20:08              15            16037566   \n",
       "4617349                22:13              15             4539074   \n",
       "1970812                23:34              15             3164095   \n",
       "\n",
       "        SCM_SALES_BMF SCM_D_FINANCE_CM1 SCM_D_FINANCE_CM2  \\\n",
       "3738583          6,99            2,8445            1,7842   \n",
       "2893672         37,98           13,4073             5,982   \n",
       "2856424             0             -0,35            -0,739   \n",
       "4617349         21,99            4,4509            0,7834   \n",
       "1970812          0,99            0,6682             0,246   \n",
       "\n",
       "        SCM_D_ORIG_FINANCE_ORDER_NET    ...     OSP_KO_COUNT_NET  \\\n",
       "3738583                       6,3545    ...                   50   \n",
       "2893672                      34,5273    ...                  107   \n",
       "2856424                            0    ...                    7   \n",
       "4617349                      19,9909    ...                   31   \n",
       "1970812                       0,8182    ...                   38   \n",
       "\n",
       "         OSP_3_LEAD_P_PG_ID  OSP_3_LEAD_P_PG_SHARE  OSP_4_LEAD_P_PG_ID  \\\n",
       "3738583                 857                  0,368                2128   \n",
       "2893672                2068                    0,7               17963   \n",
       "2856424                2068                 0,4468                2072   \n",
       "4617349                 252                      1               81397   \n",
       "1970812                  34                 0,4331               71978   \n",
       "\n",
       "         OSP_4_LEAD_P_PG_SHARE    CZP_START_DATE   CZP_EXPIRY_DATE CZP_ZTQ_ID  \\\n",
       "3738583                  0,368  08/02/2018 21:58  08/02/2019 23:59       51.0   \n",
       "2893672                 0,4752  03/05/2017 16:00  14/05/2020 23:59       52.0   \n",
       "2856424                 0,4468               NaN               NaN        NaN   \n",
       "4617349                 0,6141               NaN               NaN        NaN   \n",
       "1970812                 0,3976               NaN               NaN        NaN   \n",
       "\n",
       "        CZP_PERCENTAGE CZP_PRICE  \n",
       "3738583            3.0      2,99  \n",
       "2893672            3.0      5,99  \n",
       "2856424            NaN       NaN  \n",
       "4617349            NaN       NaN  \n",
       "1970812            NaN       NaN  \n",
       "\n",
       "[5 rows x 23 columns]"
      ]
     },
     "execution_count": 20,
     "metadata": {},
     "output_type": "execute_result"
    }
   ],
   "source": [
    "data.sample(5)"
   ]
  },
  {
   "cell_type": "code",
   "execution_count": 21,
   "metadata": {
    "ExecuteTime": {
     "end_time": "2018-11-15T08:29:05.856334Z",
     "start_time": "2018-11-15T08:29:05.842334Z"
    },
    "hidden": true
   },
   "outputs": [
    {
     "name": "stdout",
     "output_type": "stream",
     "text": [
      "<class 'pandas.core.frame.DataFrame'>\n",
      "RangeIndex: 4644196 entries, 0 to 4644195\n",
      "Data columns (total 23 columns):\n",
      "SCM_N_ORDER_POS_NR              int64\n",
      "SCM_N_ORDER_NR                  int64\n",
      "TDT_T_KEY_ORDER_DATE            object\n",
      "THR_C_KEY_ORDER_HOUR            object\n",
      "SIT_N_KEY_SITE                  int64\n",
      "CUS_N_KEY_CUSTOMER              int64\n",
      "SCM_SALES_BMF                   object\n",
      "SCM_D_FINANCE_CM1               object\n",
      "SCM_D_FINANCE_CM2               object\n",
      "SCM_D_ORIG_FINANCE_ORDER_NET    object\n",
      "SCM_AP_ID                       int64\n",
      "SCM_AS_ID                       int64\n",
      "SCM_MASTER_AP_ID                int64\n",
      "OSP_KO_COUNT_NET                int64\n",
      "OSP_3_LEAD_P_PG_ID              int64\n",
      "OSP_3_LEAD_P_PG_SHARE           object\n",
      "OSP_4_LEAD_P_PG_ID              int64\n",
      "OSP_4_LEAD_P_PG_SHARE           object\n",
      "CZP_START_DATE                  object\n",
      "CZP_EXPIRY_DATE                 object\n",
      "CZP_ZTQ_ID                      float64\n",
      "CZP_PERCENTAGE                  float64\n",
      "CZP_PRICE                       object\n",
      "dtypes: float64(2), int64(10), object(11)\n",
      "memory usage: 814.9+ MB\n"
     ]
    }
   ],
   "source": [
    "data.info(verbose=True)"
   ]
  },
  {
   "cell_type": "code",
   "execution_count": 22,
   "metadata": {
    "ExecuteTime": {
     "end_time": "2018-11-15T08:29:08.558334Z",
     "start_time": "2018-11-15T08:29:07.304334Z"
    },
    "hidden": true
   },
   "outputs": [
    {
     "data": {
      "text/html": [
       "<div>\n",
       "<style scoped>\n",
       "    .dataframe tbody tr th:only-of-type {\n",
       "        vertical-align: middle;\n",
       "    }\n",
       "\n",
       "    .dataframe tbody tr th {\n",
       "        vertical-align: top;\n",
       "    }\n",
       "\n",
       "    .dataframe thead th {\n",
       "        text-align: right;\n",
       "    }\n",
       "</style>\n",
       "<table border=\"1\" class=\"dataframe\">\n",
       "  <thead>\n",
       "    <tr style=\"text-align: right;\">\n",
       "      <th></th>\n",
       "      <th>CUS_N_KEY_CUSTOMER</th>\n",
       "      <th>SCM_SALES_BMF</th>\n",
       "      <th>SCM_D_FINANCE_CM1</th>\n",
       "      <th>SCM_D_FINANCE_CM2</th>\n",
       "      <th>SCM_D_ORIG_FINANCE_ORDER_NET</th>\n",
       "      <th>SCM_AP_ID</th>\n",
       "      <th>SCM_AS_ID</th>\n",
       "      <th>SCM_MASTER_AP_ID</th>\n",
       "      <th>OSP_KO_COUNT_NET</th>\n",
       "      <th>OSP_3_LEAD_P_PG_ID</th>\n",
       "      <th>OSP_3_LEAD_P_PG_SHARE</th>\n",
       "      <th>OSP_4_LEAD_P_PG_ID</th>\n",
       "      <th>OSP_4_LEAD_P_PG_SHARE</th>\n",
       "      <th>CZP_START_DATE</th>\n",
       "      <th>CZP_EXPIRY_DATE</th>\n",
       "      <th>CZP_ZTQ_ID</th>\n",
       "      <th>CZP_PERCENTAGE</th>\n",
       "      <th>CZP_PRICE</th>\n",
       "    </tr>\n",
       "  </thead>\n",
       "  <tbody>\n",
       "    <tr>\n",
       "      <th>98</th>\n",
       "      <td>9211834</td>\n",
       "      <td>16,99</td>\n",
       "      <td>2,5413</td>\n",
       "      <td>-3,5776</td>\n",
       "      <td>14,0413</td>\n",
       "      <td>68457</td>\n",
       "      <td>1884646</td>\n",
       "      <td>68457</td>\n",
       "      <td>38</td>\n",
       "      <td>2068</td>\n",
       "      <td>0,3084</td>\n",
       "      <td>95904</td>\n",
       "      <td>0,2908</td>\n",
       "      <td>NaN</td>\n",
       "      <td>NaN</td>\n",
       "      <td>NaN</td>\n",
       "      <td>NaN</td>\n",
       "      <td>NaN</td>\n",
       "    </tr>\n",
       "    <tr>\n",
       "      <th>99</th>\n",
       "      <td>9211834</td>\n",
       "      <td>3,3356</td>\n",
       "      <td>0,8554</td>\n",
       "      <td>0,4414</td>\n",
       "      <td>3,0323</td>\n",
       "      <td>55062</td>\n",
       "      <td>1662647</td>\n",
       "      <td>64829</td>\n",
       "      <td>38</td>\n",
       "      <td>2068</td>\n",
       "      <td>0,3084</td>\n",
       "      <td>95904</td>\n",
       "      <td>0,2908</td>\n",
       "      <td>NaN</td>\n",
       "      <td>NaN</td>\n",
       "      <td>NaN</td>\n",
       "      <td>NaN</td>\n",
       "      <td>NaN</td>\n",
       "    </tr>\n",
       "    <tr>\n",
       "      <th>100</th>\n",
       "      <td>9211834</td>\n",
       "      <td>3,3205</td>\n",
       "      <td>0,8515</td>\n",
       "      <td>0,4394</td>\n",
       "      <td>3,0187</td>\n",
       "      <td>64829</td>\n",
       "      <td>1662647</td>\n",
       "      <td>64829</td>\n",
       "      <td>38</td>\n",
       "      <td>2068</td>\n",
       "      <td>0,3084</td>\n",
       "      <td>95904</td>\n",
       "      <td>0,2908</td>\n",
       "      <td>NaN</td>\n",
       "      <td>NaN</td>\n",
       "      <td>NaN</td>\n",
       "      <td>NaN</td>\n",
       "      <td>NaN</td>\n",
       "    </tr>\n",
       "    <tr>\n",
       "      <th>101</th>\n",
       "      <td>9211834</td>\n",
       "      <td>3,3339</td>\n",
       "      <td>0,8549</td>\n",
       "      <td>0,4412</td>\n",
       "      <td>3,0308</td>\n",
       "      <td>55166</td>\n",
       "      <td>1662647</td>\n",
       "      <td>64829</td>\n",
       "      <td>38</td>\n",
       "      <td>2068</td>\n",
       "      <td>0,3084</td>\n",
       "      <td>95904</td>\n",
       "      <td>0,2908</td>\n",
       "      <td>NaN</td>\n",
       "      <td>NaN</td>\n",
       "      <td>NaN</td>\n",
       "      <td>NaN</td>\n",
       "      <td>NaN</td>\n",
       "    </tr>\n",
       "    <tr>\n",
       "      <th>102</th>\n",
       "      <td>9211834</td>\n",
       "      <td>4,7422</td>\n",
       "      <td>1,1946</td>\n",
       "      <td>0,7301</td>\n",
       "      <td>4,3111</td>\n",
       "      <td>26315</td>\n",
       "      <td>1950538</td>\n",
       "      <td>29467</td>\n",
       "      <td>38</td>\n",
       "      <td>2068</td>\n",
       "      <td>0,3084</td>\n",
       "      <td>95904</td>\n",
       "      <td>0,2908</td>\n",
       "      <td>NaN</td>\n",
       "      <td>NaN</td>\n",
       "      <td>NaN</td>\n",
       "      <td>NaN</td>\n",
       "      <td>NaN</td>\n",
       "    </tr>\n",
       "    <tr>\n",
       "      <th>103</th>\n",
       "      <td>9211834</td>\n",
       "      <td>4,7536</td>\n",
       "      <td>1,1974</td>\n",
       "      <td>0,7319</td>\n",
       "      <td>4,3214</td>\n",
       "      <td>29466</td>\n",
       "      <td>1950538</td>\n",
       "      <td>29467</td>\n",
       "      <td>38</td>\n",
       "      <td>2068</td>\n",
       "      <td>0,3084</td>\n",
       "      <td>95904</td>\n",
       "      <td>0,2908</td>\n",
       "      <td>NaN</td>\n",
       "      <td>NaN</td>\n",
       "      <td>NaN</td>\n",
       "      <td>NaN</td>\n",
       "      <td>NaN</td>\n",
       "    </tr>\n",
       "    <tr>\n",
       "      <th>104</th>\n",
       "      <td>9211834</td>\n",
       "      <td>4,7527</td>\n",
       "      <td>1,1972</td>\n",
       "      <td>0,7318</td>\n",
       "      <td>4,3206</td>\n",
       "      <td>26317</td>\n",
       "      <td>1950538</td>\n",
       "      <td>29467</td>\n",
       "      <td>38</td>\n",
       "      <td>2068</td>\n",
       "      <td>0,3084</td>\n",
       "      <td>95904</td>\n",
       "      <td>0,2908</td>\n",
       "      <td>NaN</td>\n",
       "      <td>NaN</td>\n",
       "      <td>NaN</td>\n",
       "      <td>NaN</td>\n",
       "      <td>NaN</td>\n",
       "    </tr>\n",
       "    <tr>\n",
       "      <th>105</th>\n",
       "      <td>9211834</td>\n",
       "      <td>4,7416</td>\n",
       "      <td>1,1944</td>\n",
       "      <td>0,7301</td>\n",
       "      <td>4,3105</td>\n",
       "      <td>29467</td>\n",
       "      <td>1950538</td>\n",
       "      <td>29467</td>\n",
       "      <td>38</td>\n",
       "      <td>2068</td>\n",
       "      <td>0,3084</td>\n",
       "      <td>95904</td>\n",
       "      <td>0,2908</td>\n",
       "      <td>NaN</td>\n",
       "      <td>NaN</td>\n",
       "      <td>NaN</td>\n",
       "      <td>NaN</td>\n",
       "      <td>NaN</td>\n",
       "    </tr>\n",
       "    <tr>\n",
       "      <th>106</th>\n",
       "      <td>9211834</td>\n",
       "      <td>4,99</td>\n",
       "      <td>1,614</td>\n",
       "      <td>1,0448</td>\n",
       "      <td>4,124</td>\n",
       "      <td>33641</td>\n",
       "      <td>557451</td>\n",
       "      <td>33641</td>\n",
       "      <td>38</td>\n",
       "      <td>2068</td>\n",
       "      <td>0,3084</td>\n",
       "      <td>95904</td>\n",
       "      <td>0,2908</td>\n",
       "      <td>NaN</td>\n",
       "      <td>NaN</td>\n",
       "      <td>NaN</td>\n",
       "      <td>NaN</td>\n",
       "      <td>NaN</td>\n",
       "    </tr>\n",
       "    <tr>\n",
       "      <th>107</th>\n",
       "      <td>9211834</td>\n",
       "      <td>21,99</td>\n",
       "      <td>6,8136</td>\n",
       "      <td>0,0951</td>\n",
       "      <td>18,1736</td>\n",
       "      <td>69558</td>\n",
       "      <td>1915656</td>\n",
       "      <td>69558</td>\n",
       "      <td>38</td>\n",
       "      <td>2068</td>\n",
       "      <td>0,3084</td>\n",
       "      <td>95904</td>\n",
       "      <td>0,2908</td>\n",
       "      <td>NaN</td>\n",
       "      <td>NaN</td>\n",
       "      <td>NaN</td>\n",
       "      <td>NaN</td>\n",
       "      <td>NaN</td>\n",
       "    </tr>\n",
       "    <tr>\n",
       "      <th>108</th>\n",
       "      <td>9211834</td>\n",
       "      <td>5,99</td>\n",
       "      <td>2,1255</td>\n",
       "      <td>1,6363</td>\n",
       "      <td>5,4455</td>\n",
       "      <td>72677</td>\n",
       "      <td>2122356</td>\n",
       "      <td>72677</td>\n",
       "      <td>38</td>\n",
       "      <td>2068</td>\n",
       "      <td>0,3084</td>\n",
       "      <td>95904</td>\n",
       "      <td>0,2908</td>\n",
       "      <td>NaN</td>\n",
       "      <td>NaN</td>\n",
       "      <td>NaN</td>\n",
       "      <td>NaN</td>\n",
       "      <td>NaN</td>\n",
       "    </tr>\n",
       "    <tr>\n",
       "      <th>109</th>\n",
       "      <td>9211834</td>\n",
       "      <td>9,99</td>\n",
       "      <td>2,4418</td>\n",
       "      <td>1,4636</td>\n",
       "      <td>9,0818</td>\n",
       "      <td>64488</td>\n",
       "      <td>1564371</td>\n",
       "      <td>64488</td>\n",
       "      <td>38</td>\n",
       "      <td>2068</td>\n",
       "      <td>0,3084</td>\n",
       "      <td>95904</td>\n",
       "      <td>0,2908</td>\n",
       "      <td>NaN</td>\n",
       "      <td>NaN</td>\n",
       "      <td>NaN</td>\n",
       "      <td>NaN</td>\n",
       "      <td>NaN</td>\n",
       "    </tr>\n",
       "    <tr>\n",
       "      <th>110</th>\n",
       "      <td>9211834</td>\n",
       "      <td>1,99</td>\n",
       "      <td>1,0046</td>\n",
       "      <td>0,9897</td>\n",
       "      <td>1,6446</td>\n",
       "      <td>27324</td>\n",
       "      <td>491915</td>\n",
       "      <td>27324</td>\n",
       "      <td>38</td>\n",
       "      <td>2068</td>\n",
       "      <td>0,3084</td>\n",
       "      <td>95904</td>\n",
       "      <td>0,2908</td>\n",
       "      <td>NaN</td>\n",
       "      <td>NaN</td>\n",
       "      <td>NaN</td>\n",
       "      <td>NaN</td>\n",
       "      <td>NaN</td>\n",
       "    </tr>\n",
       "    <tr>\n",
       "      <th>111</th>\n",
       "      <td>9211834</td>\n",
       "      <td>22,99</td>\n",
       "      <td>9,36</td>\n",
       "      <td>7,018</td>\n",
       "      <td>20,9</td>\n",
       "      <td>55168</td>\n",
       "      <td>1377087</td>\n",
       "      <td>55168</td>\n",
       "      <td>38</td>\n",
       "      <td>2068</td>\n",
       "      <td>0,3084</td>\n",
       "      <td>95904</td>\n",
       "      <td>0,2908</td>\n",
       "      <td>NaN</td>\n",
       "      <td>NaN</td>\n",
       "      <td>NaN</td>\n",
       "      <td>NaN</td>\n",
       "      <td>NaN</td>\n",
       "    </tr>\n",
       "    <tr>\n",
       "      <th>112</th>\n",
       "      <td>9211834</td>\n",
       "      <td>1,49</td>\n",
       "      <td>0,5914</td>\n",
       "      <td>0,5634</td>\n",
       "      <td>1,2314</td>\n",
       "      <td>14489</td>\n",
       "      <td>324529</td>\n",
       "      <td>14489</td>\n",
       "      <td>38</td>\n",
       "      <td>2068</td>\n",
       "      <td>0,3084</td>\n",
       "      <td>95904</td>\n",
       "      <td>0,2908</td>\n",
       "      <td>NaN</td>\n",
       "      <td>NaN</td>\n",
       "      <td>NaN</td>\n",
       "      <td>NaN</td>\n",
       "      <td>NaN</td>\n",
       "    </tr>\n",
       "  </tbody>\n",
       "</table>\n",
       "</div>"
      ],
      "text/plain": [
       "     CUS_N_KEY_CUSTOMER SCM_SALES_BMF SCM_D_FINANCE_CM1 SCM_D_FINANCE_CM2  \\\n",
       "98              9211834         16,99            2,5413           -3,5776   \n",
       "99              9211834        3,3356            0,8554            0,4414   \n",
       "100             9211834        3,3205            0,8515            0,4394   \n",
       "101             9211834        3,3339            0,8549            0,4412   \n",
       "102             9211834        4,7422            1,1946            0,7301   \n",
       "103             9211834        4,7536            1,1974            0,7319   \n",
       "104             9211834        4,7527            1,1972            0,7318   \n",
       "105             9211834        4,7416            1,1944            0,7301   \n",
       "106             9211834          4,99             1,614            1,0448   \n",
       "107             9211834         21,99            6,8136            0,0951   \n",
       "108             9211834          5,99            2,1255            1,6363   \n",
       "109             9211834          9,99            2,4418            1,4636   \n",
       "110             9211834          1,99            1,0046            0,9897   \n",
       "111             9211834         22,99              9,36             7,018   \n",
       "112             9211834          1,49            0,5914            0,5634   \n",
       "\n",
       "    SCM_D_ORIG_FINANCE_ORDER_NET  SCM_AP_ID  SCM_AS_ID  SCM_MASTER_AP_ID  \\\n",
       "98                       14,0413      68457    1884646             68457   \n",
       "99                        3,0323      55062    1662647             64829   \n",
       "100                       3,0187      64829    1662647             64829   \n",
       "101                       3,0308      55166    1662647             64829   \n",
       "102                       4,3111      26315    1950538             29467   \n",
       "103                       4,3214      29466    1950538             29467   \n",
       "104                       4,3206      26317    1950538             29467   \n",
       "105                       4,3105      29467    1950538             29467   \n",
       "106                        4,124      33641     557451             33641   \n",
       "107                      18,1736      69558    1915656             69558   \n",
       "108                       5,4455      72677    2122356             72677   \n",
       "109                       9,0818      64488    1564371             64488   \n",
       "110                       1,6446      27324     491915             27324   \n",
       "111                         20,9      55168    1377087             55168   \n",
       "112                       1,2314      14489     324529             14489   \n",
       "\n",
       "     OSP_KO_COUNT_NET  OSP_3_LEAD_P_PG_ID OSP_3_LEAD_P_PG_SHARE  \\\n",
       "98                 38                2068                0,3084   \n",
       "99                 38                2068                0,3084   \n",
       "100                38                2068                0,3084   \n",
       "101                38                2068                0,3084   \n",
       "102                38                2068                0,3084   \n",
       "103                38                2068                0,3084   \n",
       "104                38                2068                0,3084   \n",
       "105                38                2068                0,3084   \n",
       "106                38                2068                0,3084   \n",
       "107                38                2068                0,3084   \n",
       "108                38                2068                0,3084   \n",
       "109                38                2068                0,3084   \n",
       "110                38                2068                0,3084   \n",
       "111                38                2068                0,3084   \n",
       "112                38                2068                0,3084   \n",
       "\n",
       "     OSP_4_LEAD_P_PG_ID OSP_4_LEAD_P_PG_SHARE CZP_START_DATE CZP_EXPIRY_DATE  \\\n",
       "98                95904                0,2908            NaN             NaN   \n",
       "99                95904                0,2908            NaN             NaN   \n",
       "100               95904                0,2908            NaN             NaN   \n",
       "101               95904                0,2908            NaN             NaN   \n",
       "102               95904                0,2908            NaN             NaN   \n",
       "103               95904                0,2908            NaN             NaN   \n",
       "104               95904                0,2908            NaN             NaN   \n",
       "105               95904                0,2908            NaN             NaN   \n",
       "106               95904                0,2908            NaN             NaN   \n",
       "107               95904                0,2908            NaN             NaN   \n",
       "108               95904                0,2908            NaN             NaN   \n",
       "109               95904                0,2908            NaN             NaN   \n",
       "110               95904                0,2908            NaN             NaN   \n",
       "111               95904                0,2908            NaN             NaN   \n",
       "112               95904                0,2908            NaN             NaN   \n",
       "\n",
       "     CZP_ZTQ_ID  CZP_PERCENTAGE CZP_PRICE  \n",
       "98          NaN             NaN       NaN  \n",
       "99          NaN             NaN       NaN  \n",
       "100         NaN             NaN       NaN  \n",
       "101         NaN             NaN       NaN  \n",
       "102         NaN             NaN       NaN  \n",
       "103         NaN             NaN       NaN  \n",
       "104         NaN             NaN       NaN  \n",
       "105         NaN             NaN       NaN  \n",
       "106         NaN             NaN       NaN  \n",
       "107         NaN             NaN       NaN  \n",
       "108         NaN             NaN       NaN  \n",
       "109         NaN             NaN       NaN  \n",
       "110         NaN             NaN       NaN  \n",
       "111         NaN             NaN       NaN  \n",
       "112         NaN             NaN       NaN  "
      ]
     },
     "execution_count": 22,
     "metadata": {},
     "output_type": "execute_result"
    }
   ],
   "source": [
    "data[data['SCM_N_ORDER_NR'] == 95555239][data.columns[5:]]"
   ]
  },
  {
   "cell_type": "code",
   "execution_count": 23,
   "metadata": {
    "ExecuteTime": {
     "end_time": "2018-11-15T08:29:10.904334Z",
     "start_time": "2018-11-15T08:29:10.898334Z"
    },
    "hidden": true
   },
   "outputs": [],
   "source": [
    "def get_date(x):\n",
    "    return x.split(' ')[0]"
   ]
  },
  {
   "cell_type": "code",
   "execution_count": 24,
   "metadata": {
    "ExecuteTime": {
     "end_time": "2018-11-15T08:29:14.452334Z",
     "start_time": "2018-11-15T08:29:12.668334Z"
    },
    "hidden": true
   },
   "outputs": [],
   "source": [
    "data['TDT_T_KEY_ORDER_DATE'] = data['TDT_T_KEY_ORDER_DATE'].map(get_date)"
   ]
  },
  {
   "cell_type": "code",
   "execution_count": 25,
   "metadata": {
    "ExecuteTime": {
     "end_time": "2018-11-15T08:29:26.572334Z",
     "start_time": "2018-11-15T08:29:15.784334Z"
    },
    "hidden": true
   },
   "outputs": [],
   "source": [
    "data['TDT_T_KEY_ORDER_DATE'] = pd.to_datetime(data['TDT_T_KEY_ORDER_DATE'], format='%d/%m/%Y')"
   ]
  },
  {
   "cell_type": "code",
   "execution_count": 26,
   "metadata": {
    "ExecuteTime": {
     "end_time": "2018-11-15T08:29:53.414334Z",
     "start_time": "2018-11-15T08:29:28.365334Z"
    },
    "hidden": true
   },
   "outputs": [],
   "source": [
    "data['ORDER_DATETIME'] = data['TDT_T_KEY_ORDER_DATE'].astype(str) + ' ' + data['THR_C_KEY_ORDER_HOUR'].astype(str) + ':00'"
   ]
  },
  {
   "cell_type": "code",
   "execution_count": 27,
   "metadata": {
    "ExecuteTime": {
     "end_time": "2018-11-15T08:29:56.335334Z",
     "start_time": "2018-11-15T08:29:55.226334Z"
    },
    "hidden": true
   },
   "outputs": [],
   "source": [
    "data['ORDER_DATETIME'] = pd.to_datetime(data['ORDER_DATETIME'], format=\"%Y-%m-%d %H:%M:%S\")"
   ]
  },
  {
   "cell_type": "code",
   "execution_count": 28,
   "metadata": {
    "ExecuteTime": {
     "end_time": "2018-11-15T08:30:10.029334Z",
     "start_time": "2018-11-15T08:29:57.569334Z"
    },
    "hidden": true
   },
   "outputs": [],
   "source": [
    "data['CZP_START_DATE'] = pd.to_datetime(data['CZP_START_DATE'], format=\"%d/%m/%Y %H:%M\")\n",
    "data['CZP_EXPIRY_DATE'] = pd.to_datetime(data['CZP_EXPIRY_DATE'], format=\"%d/%m/%Y %H:%M\")"
   ]
  },
  {
   "cell_type": "code",
   "execution_count": 29,
   "metadata": {
    "ExecuteTime": {
     "end_time": "2018-11-15T08:31:07.612334Z",
     "start_time": "2018-11-15T08:30:53.932334Z"
    },
    "hidden": true
   },
   "outputs": [],
   "source": [
    "data['SCM_SALES_BMF'] = [float(str(i).replace(',','.')) for i in data['SCM_SALES_BMF'].values]\n",
    "data['SCM_D_FINANCE_CM1'] = [float(str(i).replace(',','.')) for i in data['SCM_D_FINANCE_CM1'].values]\n",
    "data['SCM_D_FINANCE_CM2'] = [float(str(i).replace(',','.')) for i in data['SCM_D_FINANCE_CM2'].values]\n",
    "data['SCM_D_ORIG_FINANCE_ORDER_NET'] = [float(str(i).replace(',','.')) for i in data['SCM_D_ORIG_FINANCE_ORDER_NET'].values]"
   ]
  },
  {
   "cell_type": "code",
   "execution_count": 30,
   "metadata": {
    "ExecuteTime": {
     "end_time": "2018-11-15T08:31:18.338334Z",
     "start_time": "2018-11-15T08:31:08.753334Z"
    },
    "hidden": true
   },
   "outputs": [],
   "source": [
    "data['CZP_PRICE'] = [float(str(i).replace(',','.')) for i in data['CZP_PRICE'].values]\n",
    "data['OSP_3_LEAD_P_PG_SHARE'] = [float(str(i).replace(',','.')) for i in data['OSP_3_LEAD_P_PG_SHARE'].values]\n",
    "data['OSP_4_LEAD_P_PG_SHARE'] = [float(str(i).replace(',','.')) for i in data['OSP_4_LEAD_P_PG_SHARE'].values]"
   ]
  },
  {
   "cell_type": "code",
   "execution_count": 31,
   "metadata": {
    "ExecuteTime": {
     "end_time": "2018-11-15T08:33:15.063429Z",
     "start_time": "2018-11-15T08:31:29.747334Z"
    },
    "hidden": true
   },
   "outputs": [],
   "source": [
    "#boolean mask with duplicated orders due to SP as True\n",
    "dupl_mask = [len(i) > 1 for i in data.groupby('SCM_N_ORDER_NR')['CZP_START_DATE'].unique().values]"
   ]
  },
  {
   "cell_type": "code",
   "execution_count": 32,
   "metadata": {
    "ExecuteTime": {
     "end_time": "2018-11-15T08:35:15.253409Z",
     "start_time": "2018-11-15T08:33:32.423693Z"
    },
    "hidden": true
   },
   "outputs": [],
   "source": [
    "#get duplicated order IDs\n",
    "dup_orders = data.groupby('SCM_N_ORDER_NR')['CZP_START_DATE'].unique()[dupl_mask].index.values"
   ]
  },
  {
   "cell_type": "code",
   "execution_count": 33,
   "metadata": {
    "ExecuteTime": {
     "end_time": "2018-11-15T08:35:27.414193Z",
     "start_time": "2018-11-15T08:35:27.405194Z"
    },
    "hidden": true
   },
   "outputs": [
    {
     "data": {
      "text/plain": [
       "3894"
      ]
     },
     "execution_count": 33,
     "metadata": {},
     "output_type": "execute_result"
    }
   ],
   "source": [
    "len(dup_orders)"
   ]
  },
  {
   "cell_type": "code",
   "execution_count": 34,
   "metadata": {
    "ExecuteTime": {
     "end_time": "2018-11-15T08:35:37.552179Z",
     "start_time": "2018-11-15T08:35:36.533281Z"
    },
    "hidden": true
   },
   "outputs": [
    {
     "data": {
      "text/plain": [
       "3857"
      ]
     },
     "execution_count": 34,
     "metadata": {},
     "output_type": "execute_result"
    }
   ],
   "source": [
    "sp_acq_dup_orders = list(data[data['SCM_N_ORDER_NR'].isin(dup_orders)][data[data['SCM_N_ORDER_NR'].isin(dup_orders)]['SCM_MASTER_AP_ID'] == 42225]['SCM_N_ORDER_NR'].unique())\n",
    "len(sp_acq_dup_orders)"
   ]
  },
  {
   "cell_type": "code",
   "execution_count": 35,
   "metadata": {
    "ExecuteTime": {
     "end_time": "2018-11-15T08:35:40.395895Z",
     "start_time": "2018-11-15T08:35:40.234911Z"
    },
    "hidden": true
   },
   "outputs": [
    {
     "data": {
      "text/plain": [
       "37"
      ]
     },
     "execution_count": 35,
     "metadata": {},
     "output_type": "execute_result"
    }
   ],
   "source": [
    "no_sp_acq_dup_orders = [i for i in dup_orders if i not in sp_acq_dup_orders]\n",
    "len(no_sp_acq_dup_orders)"
   ]
  },
  {
   "cell_type": "code",
   "execution_count": 36,
   "metadata": {
    "ExecuteTime": {
     "end_time": "2018-11-15T08:36:30.539880Z",
     "start_time": "2018-11-15T08:36:04.688465Z"
    },
    "hidden": true
   },
   "outputs": [],
   "source": [
    "#Let's get incorrect duplicated indexes instead of order_id to exclude them and select the correct data subset\n",
    "dup_indexes = []\n",
    "\n",
    "for i in sp_acq_dup_orders:\n",
    "    o_id = data[data['SCM_N_ORDER_NR'] == i]\n",
    "    old_sp_date = min(o_id['CZP_START_DATE'])\n",
    "    old_sp_index = o_id[o_id['CZP_START_DATE'] == old_sp_date].index.values\n",
    "    dup_indexes.append(old_sp_index)"
   ]
  },
  {
   "cell_type": "code",
   "execution_count": 37,
   "metadata": {
    "ExecuteTime": {
     "end_time": "2018-11-15T08:36:34.190515Z",
     "start_time": "2018-11-15T08:36:34.181515Z"
    },
    "hidden": true
   },
   "outputs": [
    {
     "data": {
      "text/plain": [
       "3857"
      ]
     },
     "execution_count": 37,
     "metadata": {},
     "output_type": "execute_result"
    }
   ],
   "source": [
    "len(dup_indexes)"
   ]
  },
  {
   "cell_type": "code",
   "execution_count": 38,
   "metadata": {
    "ExecuteTime": {
     "end_time": "2018-11-15T08:36:36.808253Z",
     "start_time": "2018-11-15T08:36:36.051328Z"
    },
    "hidden": true
   },
   "outputs": [],
   "source": [
    "for i in no_sp_acq_dup_orders:\n",
    "    c_id = data[data['SCM_N_ORDER_NR'] == i]['CUS_N_KEY_CUSTOMER'].unique()[0]\n",
    "    cust_orders = data[data['CUS_N_KEY_CUSTOMER'] == c_id]\n",
    "    sp_order = cust_orders[cust_orders['SCM_MASTER_AP_ID'] == 42225]['SCM_N_ORDER_NR'].unique()\n",
    "    if i < sp_order:\n",
    "        o_id = data[data['SCM_N_ORDER_NR'] == i]\n",
    "        new_non_valid_sp_date = max(o_id['CZP_START_DATE'])\n",
    "        new_sp_index = o_id[o_id['CZP_START_DATE'] == new_non_valid_sp_date].index.values\n",
    "        dup_indexes.append(new_sp_index)\n",
    "    else:\n",
    "        o_id = data[data['SCM_N_ORDER_NR'] == i]\n",
    "        old_sp_date = min(o_id['CZP_START_DATE'])\n",
    "        old_sp_index = o_id[o_id['CZP_START_DATE'] == old_sp_date].index.values\n",
    "        dup_indexes.append(old_sp_index)"
   ]
  },
  {
   "cell_type": "code",
   "execution_count": 39,
   "metadata": {
    "ExecuteTime": {
     "end_time": "2018-11-15T08:36:39.183015Z",
     "start_time": "2018-11-15T08:36:39.173016Z"
    },
    "hidden": true
   },
   "outputs": [
    {
     "data": {
      "text/plain": [
       "3894"
      ]
     },
     "execution_count": 39,
     "metadata": {},
     "output_type": "execute_result"
    }
   ],
   "source": [
    "len(dup_indexes)"
   ]
  },
  {
   "cell_type": "code",
   "execution_count": 40,
   "metadata": {
    "ExecuteTime": {
     "end_time": "2018-11-15T08:38:35.350334Z",
     "start_time": "2018-11-15T08:36:50.543334Z"
    },
    "hidden": true
   },
   "outputs": [
    {
     "name": "stdout",
     "output_type": "stream",
     "text": [
      "Duplicated rows detected:  26768\n",
      "Start dropping..\n",
      "Number of order IDs having more than one SP_START_DATE now:  0\n"
     ]
    }
   ],
   "source": [
    "#Get a flatten list of indexes\n",
    "dupl_ind = [i for lista in dup_indexes for i in lista]\n",
    "\n",
    "print('Duplicated rows detected: ', len(dupl_ind))\n",
    "print('Start dropping..')\n",
    "\n",
    "#Drop duplicated indexes\n",
    "data.drop(dupl_ind, inplace=True)\n",
    "\n",
    "#0 printed, in order to be sure there are no orders duplicated remaining...\n",
    "print('Number of order IDs having more than one SP_START_DATE now: ',\n",
    "      sum(len(i) > 1 for i in data.groupby('SCM_N_ORDER_NR')['CZP_START_DATE'].unique().values))"
   ]
  },
  {
   "cell_type": "code",
   "execution_count": 42,
   "metadata": {
    "ExecuteTime": {
     "end_time": "2018-11-15T08:40:56.283334Z",
     "start_time": "2018-11-15T08:40:55.869334Z"
    },
    "hidden": true
   },
   "outputs": [],
   "source": [
    "data['FIRST_O_DATE'] = data['TDT_T_KEY_ORDER_DATE'].groupby(data['CUS_N_KEY_CUSTOMER']).transform('min')"
   ]
  },
  {
   "cell_type": "code",
   "execution_count": 43,
   "metadata": {
    "ExecuteTime": {
     "end_time": "2018-11-15T08:41:05.123334Z",
     "start_time": "2018-11-15T08:41:04.719334Z"
    },
    "hidden": true
   },
   "outputs": [],
   "source": [
    "data['LAST_O_DATE'] = data['TDT_T_KEY_ORDER_DATE'].groupby(data['CUS_N_KEY_CUSTOMER']).transform('max')"
   ]
  },
  {
   "cell_type": "code",
   "execution_count": 44,
   "metadata": {
    "ExecuteTime": {
     "end_time": "2018-11-15T08:41:13.223334Z",
     "start_time": "2018-11-15T08:41:12.813334Z"
    },
    "hidden": true
   },
   "outputs": [],
   "source": [
    "data['1ST_O_COUNTER'] = data['OSP_KO_COUNT_NET'].groupby(data['CUS_N_KEY_CUSTOMER']).transform('min')"
   ]
  },
  {
   "cell_type": "code",
   "execution_count": 73,
   "metadata": {
    "ExecuteTime": {
     "end_time": "2018-11-15T09:11:20.558334Z",
     "start_time": "2018-11-15T09:11:19.340334Z"
    },
    "hidden": true
   },
   "outputs": [],
   "source": [
    "data['MAX_SALES_O_POS'] = data['SCM_SALES_BMF'].groupby(data['SCM_N_ORDER_NR']).transform('max')\n",
    "data['IS_LEAD_AS'] = (data['SCM_SALES_BMF'] == data['MAX_SALES_O_POS']) * 1 * data['SCM_AS_ID']\n",
    "data['LEAD_AS_ID'] = data['IS_LEAD_AS'].groupby(data['SCM_N_ORDER_NR']).transform('max')"
   ]
  },
  {
   "cell_type": "code",
   "execution_count": 45,
   "metadata": {
    "ExecuteTime": {
     "end_time": "2018-11-15T08:41:33.531334Z",
     "start_time": "2018-11-15T08:41:29.058334Z"
    },
    "hidden": true
   },
   "outputs": [],
   "source": [
    "data['D28'] = data['FIRST_O_DATE'] + timedelta(days = 28)\n",
    "data['D56'] = data['FIRST_O_DATE'] + timedelta(days = 56)\n",
    "data['D84'] = data['FIRST_O_DATE'] + timedelta(days = 84)\n",
    "data['D168'] = data['FIRST_O_DATE'] + timedelta(days = 168)\n",
    "data['D252'] = data['FIRST_O_DATE'] + timedelta(days = 252)\n",
    "data['D336'] = data['FIRST_O_DATE'] + timedelta(days = 336)"
   ]
  },
  {
   "cell_type": "code",
   "execution_count": 47,
   "metadata": {
    "ExecuteTime": {
     "end_time": "2018-11-15T08:50:15.602334Z",
     "start_time": "2018-11-15T08:50:15.576334Z"
    },
    "hidden": true
   },
   "outputs": [],
   "source": [
    "#Get brands per PG4\n",
    "brands = pd.read_csv('pg4_brands.dsv', sep=';', low_memory=False)"
   ]
  },
  {
   "cell_type": "code",
   "execution_count": 51,
   "metadata": {
    "ExecuteTime": {
     "end_time": "2018-11-15T08:53:18.313334Z",
     "start_time": "2018-11-15T08:53:18.297334Z"
    },
    "hidden": true
   },
   "outputs": [],
   "source": [
    "brands['BRAND'] = [i.split(' - ')[1] if len(i.split('-')) > 1 else 'unknown' for i in brands['PPR_V_LEVEL4_DESC'].values]"
   ]
  },
  {
   "cell_type": "code",
   "execution_count": 60,
   "metadata": {
    "ExecuteTime": {
     "end_time": "2018-11-15T08:57:39.120334Z",
     "start_time": "2018-11-15T08:57:39.113334Z"
    },
    "hidden": true
   },
   "outputs": [
    {
     "name": "stdout",
     "output_type": "stream",
     "text": [
      "<class 'pandas.core.frame.DataFrame'>\n",
      "RangeIndex: 2006 entries, 0 to 2005\n",
      "Data columns (total 3 columns):\n",
      "PPR_N_LEVEL4_ID      2006 non-null int64\n",
      "PPR_V_LEVEL4_DESC    2006 non-null object\n",
      "BRAND                2006 non-null object\n",
      "dtypes: int64(1), object(2)\n",
      "memory usage: 47.1+ KB\n"
     ]
    }
   ],
   "source": [
    "brands.info()"
   ]
  },
  {
   "cell_type": "code",
   "execution_count": 52,
   "metadata": {
    "ExecuteTime": {
     "end_time": "2018-11-15T08:53:21.368334Z",
     "start_time": "2018-11-15T08:53:21.345334Z"
    },
    "hidden": true
   },
   "outputs": [
    {
     "data": {
      "text/html": [
       "<div>\n",
       "<style scoped>\n",
       "    .dataframe tbody tr th:only-of-type {\n",
       "        vertical-align: middle;\n",
       "    }\n",
       "\n",
       "    .dataframe tbody tr th {\n",
       "        vertical-align: top;\n",
       "    }\n",
       "\n",
       "    .dataframe thead th {\n",
       "        text-align: right;\n",
       "    }\n",
       "</style>\n",
       "<table border=\"1\" class=\"dataframe\">\n",
       "  <thead>\n",
       "    <tr style=\"text-align: right;\">\n",
       "      <th></th>\n",
       "      <th>PPR_N_LEVEL4_ID</th>\n",
       "      <th>PPR_V_LEVEL4_DESC</th>\n",
       "      <th>BRAND</th>\n",
       "    </tr>\n",
       "  </thead>\n",
       "  <tbody>\n",
       "    <tr>\n",
       "      <th>209</th>\n",
       "      <td>229408</td>\n",
       "      <td>229408 - Alpha Natural</td>\n",
       "      <td>Alpha Natural</td>\n",
       "    </tr>\n",
       "    <tr>\n",
       "      <th>567</th>\n",
       "      <td>314</td>\n",
       "      <td>314 - Whiskas</td>\n",
       "      <td>Whiskas</td>\n",
       "    </tr>\n",
       "    <tr>\n",
       "      <th>372</th>\n",
       "      <td>574</td>\n",
       "      <td>574 - Landschildkröten</td>\n",
       "      <td>Landschildkröten</td>\n",
       "    </tr>\n",
       "    <tr>\n",
       "      <th>1748</th>\n",
       "      <td>360</td>\n",
       "      <td>360 - Papeterie</td>\n",
       "      <td>Papeterie</td>\n",
       "    </tr>\n",
       "    <tr>\n",
       "      <th>964</th>\n",
       "      <td>118136</td>\n",
       "      <td>118136 - Lily's Kitchen</td>\n",
       "      <td>Lily's Kitchen</td>\n",
       "    </tr>\n",
       "    <tr>\n",
       "      <th>976</th>\n",
       "      <td>180361</td>\n",
       "      <td>180361 - ★ Wolf of Wilderness</td>\n",
       "      <td>★ Wolf of Wilderness</td>\n",
       "    </tr>\n",
       "    <tr>\n",
       "      <th>158</th>\n",
       "      <td>49146</td>\n",
       "      <td>49146 - Exclusion</td>\n",
       "      <td>Exclusion</td>\n",
       "    </tr>\n",
       "    <tr>\n",
       "      <th>323</th>\n",
       "      <td>1292</td>\n",
       "      <td>1292 - Supreme</td>\n",
       "      <td>Supreme</td>\n",
       "    </tr>\n",
       "    <tr>\n",
       "      <th>1979</th>\n",
       "      <td>238105</td>\n",
       "      <td>238105 - ★ zooplus Classic</td>\n",
       "      <td>★ zooplus Classic</td>\n",
       "    </tr>\n",
       "    <tr>\n",
       "      <th>1301</th>\n",
       "      <td>2616</td>\n",
       "      <td>2616 - Eagle Pack</td>\n",
       "      <td>Eagle Pack</td>\n",
       "    </tr>\n",
       "  </tbody>\n",
       "</table>\n",
       "</div>"
      ],
      "text/plain": [
       "      PPR_N_LEVEL4_ID              PPR_V_LEVEL4_DESC                 BRAND\n",
       "209            229408         229408 - Alpha Natural         Alpha Natural\n",
       "567               314                  314 - Whiskas               Whiskas\n",
       "372               574         574 - Landschildkröten      Landschildkröten\n",
       "1748              360                360 - Papeterie             Papeterie\n",
       "964            118136        118136 - Lily's Kitchen        Lily's Kitchen\n",
       "976            180361  180361 - ★ Wolf of Wilderness  ★ Wolf of Wilderness\n",
       "158             49146              49146 - Exclusion             Exclusion\n",
       "323              1292                 1292 - Supreme               Supreme\n",
       "1979           238105     238105 - ★ zooplus Classic     ★ zooplus Classic\n",
       "1301             2616              2616 - Eagle Pack            Eagle Pack"
      ]
     },
     "execution_count": 52,
     "metadata": {},
     "output_type": "execute_result"
    }
   ],
   "source": [
    "brands.sample(10)"
   ]
  },
  {
   "cell_type": "code",
   "execution_count": 56,
   "metadata": {
    "ExecuteTime": {
     "end_time": "2018-11-15T08:55:37.671334Z",
     "start_time": "2018-11-15T08:55:37.598334Z"
    },
    "hidden": true
   },
   "outputs": [],
   "source": [
    "#Get physical articles with their PG structure\n",
    "ap_pg = pd.read_csv('vw_ap_pg_link.dsv', sep=';', low_memory=False)"
   ]
  },
  {
   "cell_type": "code",
   "execution_count": 57,
   "metadata": {
    "ExecuteTime": {
     "end_time": "2018-11-15T08:55:39.858334Z",
     "start_time": "2018-11-15T08:55:39.829334Z"
    },
    "hidden": true
   },
   "outputs": [
    {
     "name": "stdout",
     "output_type": "stream",
     "text": [
      "<class 'pandas.core.frame.DataFrame'>\n",
      "RangeIndex: 62994 entries, 0 to 62993\n",
      "Data columns (total 9 columns):\n",
      "AP_ID       62994 non-null int64\n",
      "PP_ID       62994 non-null int64\n",
      "L1_PG_ID    62994 non-null int64\n",
      "L2_PG_ID    62993 non-null float64\n",
      "L3_PG_ID    62537 non-null float64\n",
      "L4_PG_ID    60229 non-null float64\n",
      "L5_PG_ID    29125 non-null float64\n",
      "L6_PG_ID    18 non-null float64\n",
      "L7_PG_ID    0 non-null float64\n",
      "dtypes: float64(6), int64(3)\n",
      "memory usage: 4.3 MB\n"
     ]
    }
   ],
   "source": [
    "ap_pg.info()"
   ]
  },
  {
   "cell_type": "code",
   "execution_count": 58,
   "metadata": {
    "ExecuteTime": {
     "end_time": "2018-11-15T08:56:14.710334Z",
     "start_time": "2018-11-15T08:56:14.694334Z"
    },
    "hidden": true
   },
   "outputs": [],
   "source": [
    "ap_pg = ap_pg[['AP_ID', 'L3_PG_ID', 'L4_PG_ID']].fillna(0).astype(int)"
   ]
  },
  {
   "cell_type": "code",
   "execution_count": 59,
   "metadata": {
    "ExecuteTime": {
     "end_time": "2018-11-15T08:56:16.327334Z",
     "start_time": "2018-11-15T08:56:16.303334Z"
    },
    "hidden": true
   },
   "outputs": [
    {
     "data": {
      "text/html": [
       "<div>\n",
       "<style scoped>\n",
       "    .dataframe tbody tr th:only-of-type {\n",
       "        vertical-align: middle;\n",
       "    }\n",
       "\n",
       "    .dataframe tbody tr th {\n",
       "        vertical-align: top;\n",
       "    }\n",
       "\n",
       "    .dataframe thead th {\n",
       "        text-align: right;\n",
       "    }\n",
       "</style>\n",
       "<table border=\"1\" class=\"dataframe\">\n",
       "  <thead>\n",
       "    <tr style=\"text-align: right;\">\n",
       "      <th></th>\n",
       "      <th>AP_ID</th>\n",
       "      <th>L3_PG_ID</th>\n",
       "      <th>L4_PG_ID</th>\n",
       "    </tr>\n",
       "  </thead>\n",
       "  <tbody>\n",
       "    <tr>\n",
       "      <th>49387</th>\n",
       "      <td>16393</td>\n",
       "      <td>251</td>\n",
       "      <td>14648</td>\n",
       "    </tr>\n",
       "    <tr>\n",
       "      <th>41334</th>\n",
       "      <td>15382</td>\n",
       "      <td>252</td>\n",
       "      <td>18152</td>\n",
       "    </tr>\n",
       "    <tr>\n",
       "      <th>55807</th>\n",
       "      <td>4973</td>\n",
       "      <td>18</td>\n",
       "      <td>394</td>\n",
       "    </tr>\n",
       "    <tr>\n",
       "      <th>34329</th>\n",
       "      <td>21693</td>\n",
       "      <td>65830</td>\n",
       "      <td>9863</td>\n",
       "    </tr>\n",
       "    <tr>\n",
       "      <th>61255</th>\n",
       "      <td>77096</td>\n",
       "      <td>153317</td>\n",
       "      <td>153276</td>\n",
       "    </tr>\n",
       "    <tr>\n",
       "      <th>36428</th>\n",
       "      <td>61859</td>\n",
       "      <td>1106</td>\n",
       "      <td>71296</td>\n",
       "    </tr>\n",
       "    <tr>\n",
       "      <th>58732</th>\n",
       "      <td>28827</td>\n",
       "      <td>2471</td>\n",
       "      <td>45188</td>\n",
       "    </tr>\n",
       "    <tr>\n",
       "      <th>43109</th>\n",
       "      <td>32242</td>\n",
       "      <td>65830</td>\n",
       "      <td>30667</td>\n",
       "    </tr>\n",
       "    <tr>\n",
       "      <th>15211</th>\n",
       "      <td>50066</td>\n",
       "      <td>8038</td>\n",
       "      <td>14375</td>\n",
       "    </tr>\n",
       "    <tr>\n",
       "      <th>953</th>\n",
       "      <td>7250</td>\n",
       "      <td>2068</td>\n",
       "      <td>2083</td>\n",
       "    </tr>\n",
       "  </tbody>\n",
       "</table>\n",
       "</div>"
      ],
      "text/plain": [
       "       AP_ID  L3_PG_ID  L4_PG_ID\n",
       "49387  16393       251     14648\n",
       "41334  15382       252     18152\n",
       "55807   4973        18       394\n",
       "34329  21693     65830      9863\n",
       "61255  77096    153317    153276\n",
       "36428  61859      1106     71296\n",
       "58732  28827      2471     45188\n",
       "43109  32242     65830     30667\n",
       "15211  50066      8038     14375\n",
       "953     7250      2068      2083"
      ]
     },
     "execution_count": 59,
     "metadata": {},
     "output_type": "execute_result"
    }
   ],
   "source": [
    "ap_pg.sample(10)"
   ]
  },
  {
   "cell_type": "code",
   "execution_count": 63,
   "metadata": {
    "ExecuteTime": {
     "end_time": "2018-11-15T08:59:22.145334Z",
     "start_time": "2018-11-15T08:59:22.118334Z"
    },
    "hidden": true
   },
   "outputs": [],
   "source": [
    "#Merge both tables to add the brand for each AP_ID\n",
    "ap_pg_brand = pd.merge(ap_pg, brands, how='left', left_on='L4_PG_ID', right_on='PPR_N_LEVEL4_ID')"
   ]
  },
  {
   "cell_type": "code",
   "execution_count": 64,
   "metadata": {
    "ExecuteTime": {
     "end_time": "2018-11-15T08:59:23.579334Z",
     "start_time": "2018-11-15T08:59:23.564334Z"
    },
    "hidden": true
   },
   "outputs": [
    {
     "data": {
      "text/html": [
       "<div>\n",
       "<style scoped>\n",
       "    .dataframe tbody tr th:only-of-type {\n",
       "        vertical-align: middle;\n",
       "    }\n",
       "\n",
       "    .dataframe tbody tr th {\n",
       "        vertical-align: top;\n",
       "    }\n",
       "\n",
       "    .dataframe thead th {\n",
       "        text-align: right;\n",
       "    }\n",
       "</style>\n",
       "<table border=\"1\" class=\"dataframe\">\n",
       "  <thead>\n",
       "    <tr style=\"text-align: right;\">\n",
       "      <th></th>\n",
       "      <th>AP_ID</th>\n",
       "      <th>L3_PG_ID</th>\n",
       "      <th>L4_PG_ID</th>\n",
       "      <th>PPR_N_LEVEL4_ID</th>\n",
       "      <th>PPR_V_LEVEL4_DESC</th>\n",
       "      <th>BRAND</th>\n",
       "    </tr>\n",
       "  </thead>\n",
       "  <tbody>\n",
       "    <tr>\n",
       "      <th>27039</th>\n",
       "      <td>25964</td>\n",
       "      <td>65830</td>\n",
       "      <td>30667</td>\n",
       "      <td>30667</td>\n",
       "      <td>30667 - Reitstiefel</td>\n",
       "      <td>Reitstiefel</td>\n",
       "    </tr>\n",
       "    <tr>\n",
       "      <th>51095</th>\n",
       "      <td>32954</td>\n",
       "      <td>18</td>\n",
       "      <td>1441</td>\n",
       "      <td>1441</td>\n",
       "      <td>1441 - Fleischstreifen &amp; Fleischsticks</td>\n",
       "      <td>Fleischstreifen &amp; Fleischsticks</td>\n",
       "    </tr>\n",
       "    <tr>\n",
       "      <th>24219</th>\n",
       "      <td>3762</td>\n",
       "      <td>251</td>\n",
       "      <td>312</td>\n",
       "      <td>312</td>\n",
       "      <td>312 - Premium / Advance</td>\n",
       "      <td>Premium / Advance</td>\n",
       "    </tr>\n",
       "    <tr>\n",
       "      <th>37919</th>\n",
       "      <td>73938</td>\n",
       "      <td>251</td>\n",
       "      <td>40052</td>\n",
       "      <td>40052</td>\n",
       "      <td>40052 - Mastery</td>\n",
       "      <td>Mastery</td>\n",
       "    </tr>\n",
       "    <tr>\n",
       "      <th>18963</th>\n",
       "      <td>25087</td>\n",
       "      <td>2068</td>\n",
       "      <td>2332</td>\n",
       "      <td>2332</td>\n",
       "      <td>2332 - Shiny Cat</td>\n",
       "      <td>Shiny Cat</td>\n",
       "    </tr>\n",
       "    <tr>\n",
       "      <th>9288</th>\n",
       "      <td>10667</td>\n",
       "      <td>42</td>\n",
       "      <td>146</td>\n",
       "      <td>146</td>\n",
       "      <td>146 - Häuschen</td>\n",
       "      <td>Häuschen</td>\n",
       "    </tr>\n",
       "    <tr>\n",
       "      <th>47364</th>\n",
       "      <td>491</td>\n",
       "      <td>1248</td>\n",
       "      <td>1264</td>\n",
       "      <td>1264</td>\n",
       "      <td>1264 - Gesundheit und Pflege</td>\n",
       "      <td>Gesundheit und Pflege</td>\n",
       "    </tr>\n",
       "    <tr>\n",
       "      <th>51223</th>\n",
       "      <td>35660</td>\n",
       "      <td>9</td>\n",
       "      <td>75</td>\n",
       "      <td>75</td>\n",
       "      <td>75 - Hundekissen</td>\n",
       "      <td>Hundekissen</td>\n",
       "    </tr>\n",
       "    <tr>\n",
       "      <th>49700</th>\n",
       "      <td>18838</td>\n",
       "      <td>2068</td>\n",
       "      <td>2127</td>\n",
       "      <td>2127</td>\n",
       "      <td>2127 - Almo Nature</td>\n",
       "      <td>Almo Nature</td>\n",
       "    </tr>\n",
       "    <tr>\n",
       "      <th>329</th>\n",
       "      <td>2375</td>\n",
       "      <td>17</td>\n",
       "      <td>1437</td>\n",
       "      <td>1437</td>\n",
       "      <td>1437 - Aufkleber</td>\n",
       "      <td>Aufkleber</td>\n",
       "    </tr>\n",
       "    <tr>\n",
       "      <th>59937</th>\n",
       "      <td>61850</td>\n",
       "      <td>45</td>\n",
       "      <td>225</td>\n",
       "      <td>225</td>\n",
       "      <td>225 - Rattenfutter</td>\n",
       "      <td>Rattenfutter</td>\n",
       "    </tr>\n",
       "    <tr>\n",
       "      <th>13435</th>\n",
       "      <td>64519</td>\n",
       "      <td>9</td>\n",
       "      <td>813</td>\n",
       "      <td>813</td>\n",
       "      <td>813 - Hundekörbe</td>\n",
       "      <td>Hundekörbe</td>\n",
       "    </tr>\n",
       "    <tr>\n",
       "      <th>16068</th>\n",
       "      <td>1788</td>\n",
       "      <td>730</td>\n",
       "      <td>0</td>\n",
       "      <td>0</td>\n",
       "      <td>*NOT DEFINED</td>\n",
       "      <td>unknown</td>\n",
       "    </tr>\n",
       "    <tr>\n",
       "      <th>4588</th>\n",
       "      <td>64866</td>\n",
       "      <td>18</td>\n",
       "      <td>393</td>\n",
       "      <td>393</td>\n",
       "      <td>393 - Hundekekse &amp; Hundekuchen</td>\n",
       "      <td>Hundekekse &amp; Hundekuchen</td>\n",
       "    </tr>\n",
       "    <tr>\n",
       "      <th>41904</th>\n",
       "      <td>19944</td>\n",
       "      <td>3612</td>\n",
       "      <td>9295</td>\n",
       "      <td>9295</td>\n",
       "      <td>9295 - Terrarium Schrank</td>\n",
       "      <td>Terrarium Schrank</td>\n",
       "    </tr>\n",
       "    <tr>\n",
       "      <th>13092</th>\n",
       "      <td>67794</td>\n",
       "      <td>857</td>\n",
       "      <td>2016</td>\n",
       "      <td>2016</td>\n",
       "      <td>2016 - Bozita</td>\n",
       "      <td>Bozita</td>\n",
       "    </tr>\n",
       "    <tr>\n",
       "      <th>44788</th>\n",
       "      <td>48673</td>\n",
       "      <td>2068</td>\n",
       "      <td>17963</td>\n",
       "      <td>17963</td>\n",
       "      <td>17963 - Royal Canin</td>\n",
       "      <td>Royal Canin</td>\n",
       "    </tr>\n",
       "    <tr>\n",
       "      <th>44984</th>\n",
       "      <td>57512</td>\n",
       "      <td>13505</td>\n",
       "      <td>13506</td>\n",
       "      <td>13506</td>\n",
       "      <td>13506 - Kartonage</td>\n",
       "      <td>Kartonage</td>\n",
       "    </tr>\n",
       "    <tr>\n",
       "      <th>20170</th>\n",
       "      <td>41699</td>\n",
       "      <td>48637</td>\n",
       "      <td>0</td>\n",
       "      <td>0</td>\n",
       "      <td>*NOT DEFINED</td>\n",
       "      <td>unknown</td>\n",
       "    </tr>\n",
       "    <tr>\n",
       "      <th>11508</th>\n",
       "      <td>28115</td>\n",
       "      <td>2068</td>\n",
       "      <td>2632</td>\n",
       "      <td>2632</td>\n",
       "      <td>2632 - ★ Cosma</td>\n",
       "      <td>★ Cosma</td>\n",
       "    </tr>\n",
       "  </tbody>\n",
       "</table>\n",
       "</div>"
      ],
      "text/plain": [
       "       AP_ID  L3_PG_ID  L4_PG_ID  PPR_N_LEVEL4_ID  \\\n",
       "27039  25964     65830     30667            30667   \n",
       "51095  32954        18      1441             1441   \n",
       "24219   3762       251       312              312   \n",
       "37919  73938       251     40052            40052   \n",
       "18963  25087      2068      2332             2332   \n",
       "9288   10667        42       146              146   \n",
       "47364    491      1248      1264             1264   \n",
       "51223  35660         9        75               75   \n",
       "49700  18838      2068      2127             2127   \n",
       "329     2375        17      1437             1437   \n",
       "59937  61850        45       225              225   \n",
       "13435  64519         9       813              813   \n",
       "16068   1788       730         0                0   \n",
       "4588   64866        18       393              393   \n",
       "41904  19944      3612      9295             9295   \n",
       "13092  67794       857      2016             2016   \n",
       "44788  48673      2068     17963            17963   \n",
       "44984  57512     13505     13506            13506   \n",
       "20170  41699     48637         0                0   \n",
       "11508  28115      2068      2632             2632   \n",
       "\n",
       "                            PPR_V_LEVEL4_DESC                            BRAND  \n",
       "27039                     30667 - Reitstiefel                      Reitstiefel  \n",
       "51095  1441 - Fleischstreifen & Fleischsticks  Fleischstreifen & Fleischsticks  \n",
       "24219                 312 - Premium / Advance                Premium / Advance  \n",
       "37919                         40052 - Mastery                          Mastery  \n",
       "18963                        2332 - Shiny Cat                        Shiny Cat  \n",
       "9288                           146 - Häuschen                         Häuschen  \n",
       "47364            1264 - Gesundheit und Pflege            Gesundheit und Pflege  \n",
       "51223                        75 - Hundekissen                      Hundekissen  \n",
       "49700                      2127 - Almo Nature                      Almo Nature  \n",
       "329                          1437 - Aufkleber                        Aufkleber  \n",
       "59937                      225 - Rattenfutter                     Rattenfutter  \n",
       "13435                        813 - Hundekörbe                       Hundekörbe  \n",
       "16068                            *NOT DEFINED                          unknown  \n",
       "4588           393 - Hundekekse & Hundekuchen         Hundekekse & Hundekuchen  \n",
       "41904                9295 - Terrarium Schrank                Terrarium Schrank  \n",
       "13092                           2016 - Bozita                           Bozita  \n",
       "44788                     17963 - Royal Canin                      Royal Canin  \n",
       "44984                       13506 - Kartonage                        Kartonage  \n",
       "20170                            *NOT DEFINED                          unknown  \n",
       "11508                          2632 - ★ Cosma                          ★ Cosma  "
      ]
     },
     "execution_count": 64,
     "metadata": {},
     "output_type": "execute_result"
    }
   ],
   "source": [
    "ap_pg_brand.sample(20)"
   ]
  },
  {
   "cell_type": "code",
   "execution_count": 65,
   "metadata": {
    "ExecuteTime": {
     "end_time": "2018-11-15T09:03:06.857334Z",
     "start_time": "2018-11-15T09:03:03.608334Z"
    },
    "hidden": true
   },
   "outputs": [],
   "source": [
    "data = pd.merge(data, ap_pg_brand, how='left', left_on='SCM_AP_ID', right_on='AP_ID')"
   ]
  },
  {
   "cell_type": "code",
   "execution_count": 69,
   "metadata": {
    "ExecuteTime": {
     "end_time": "2018-11-15T09:06:57.435334Z",
     "start_time": "2018-11-15T09:06:56.369334Z"
    },
    "hidden": true
   },
   "outputs": [],
   "source": [
    "data[['AP_ID', 'L3_PG_ID', 'L4_PG_ID', 'PPR_N_LEVEL4_ID']] = data[['AP_ID', 'L3_PG_ID', 'L4_PG_ID', 'PPR_N_LEVEL4_ID']].fillna(0).astype(int)"
   ]
  },
  {
   "cell_type": "code",
   "execution_count": 70,
   "metadata": {
    "ExecuteTime": {
     "end_time": "2018-11-15T09:07:09.460334Z",
     "start_time": "2018-11-15T09:07:09.200334Z"
    },
    "hidden": true
   },
   "outputs": [
    {
     "data": {
      "text/html": [
       "<div>\n",
       "<style scoped>\n",
       "    .dataframe tbody tr th:only-of-type {\n",
       "        vertical-align: middle;\n",
       "    }\n",
       "\n",
       "    .dataframe tbody tr th {\n",
       "        vertical-align: top;\n",
       "    }\n",
       "\n",
       "    .dataframe thead th {\n",
       "        text-align: right;\n",
       "    }\n",
       "</style>\n",
       "<table border=\"1\" class=\"dataframe\">\n",
       "  <thead>\n",
       "    <tr style=\"text-align: right;\">\n",
       "      <th></th>\n",
       "      <th>SCM_N_ORDER_POS_NR</th>\n",
       "      <th>SCM_N_ORDER_NR</th>\n",
       "      <th>TDT_T_KEY_ORDER_DATE</th>\n",
       "      <th>THR_C_KEY_ORDER_HOUR</th>\n",
       "      <th>SIT_N_KEY_SITE</th>\n",
       "      <th>CUS_N_KEY_CUSTOMER</th>\n",
       "      <th>SCM_SALES_BMF</th>\n",
       "      <th>SCM_D_FINANCE_CM1</th>\n",
       "      <th>SCM_D_FINANCE_CM2</th>\n",
       "      <th>SCM_D_ORIG_FINANCE_ORDER_NET</th>\n",
       "      <th>...</th>\n",
       "      <th>D84</th>\n",
       "      <th>D168</th>\n",
       "      <th>D252</th>\n",
       "      <th>D336</th>\n",
       "      <th>AP_ID</th>\n",
       "      <th>L3_PG_ID</th>\n",
       "      <th>L4_PG_ID</th>\n",
       "      <th>PPR_N_LEVEL4_ID</th>\n",
       "      <th>PPR_V_LEVEL4_DESC</th>\n",
       "      <th>BRAND</th>\n",
       "    </tr>\n",
       "  </thead>\n",
       "  <tbody>\n",
       "    <tr>\n",
       "      <th>4387144</th>\n",
       "      <td>414880456</td>\n",
       "      <td>97246884</td>\n",
       "      <td>2017-10-29</td>\n",
       "      <td>01:34</td>\n",
       "      <td>15</td>\n",
       "      <td>9330423</td>\n",
       "      <td>-4.10</td>\n",
       "      <td>-3.7273</td>\n",
       "      <td>-3.7273</td>\n",
       "      <td>-3.7273</td>\n",
       "      <td>...</td>\n",
       "      <td>2018-01-15</td>\n",
       "      <td>2018-04-09</td>\n",
       "      <td>2018-07-02</td>\n",
       "      <td>2018-09-24</td>\n",
       "      <td>0</td>\n",
       "      <td>0</td>\n",
       "      <td>0</td>\n",
       "      <td>0</td>\n",
       "      <td>NaN</td>\n",
       "      <td>NaN</td>\n",
       "    </tr>\n",
       "    <tr>\n",
       "      <th>1116524</th>\n",
       "      <td>490816183</td>\n",
       "      <td>115580654</td>\n",
       "      <td>2018-07-26</td>\n",
       "      <td>10:53</td>\n",
       "      <td>15</td>\n",
       "      <td>14535681</td>\n",
       "      <td>10.99</td>\n",
       "      <td>5.1626</td>\n",
       "      <td>1.5421</td>\n",
       "      <td>9.0826</td>\n",
       "      <td>...</td>\n",
       "      <td>2017-12-25</td>\n",
       "      <td>2018-03-19</td>\n",
       "      <td>2018-06-11</td>\n",
       "      <td>2018-09-03</td>\n",
       "      <td>73457</td>\n",
       "      <td>301</td>\n",
       "      <td>10331</td>\n",
       "      <td>10331</td>\n",
       "      <td>10331 - ★ Tigerino</td>\n",
       "      <td>★ Tigerino</td>\n",
       "    </tr>\n",
       "    <tr>\n",
       "      <th>1705193</th>\n",
       "      <td>422911725</td>\n",
       "      <td>99147936</td>\n",
       "      <td>2017-11-25</td>\n",
       "      <td>18:29</td>\n",
       "      <td>15</td>\n",
       "      <td>7717426</td>\n",
       "      <td>11.99</td>\n",
       "      <td>3.2200</td>\n",
       "      <td>2.0735</td>\n",
       "      <td>10.9000</td>\n",
       "      <td>...</td>\n",
       "      <td>2017-12-26</td>\n",
       "      <td>2018-03-20</td>\n",
       "      <td>2018-06-12</td>\n",
       "      <td>2018-09-04</td>\n",
       "      <td>65182</td>\n",
       "      <td>2068</td>\n",
       "      <td>2632</td>\n",
       "      <td>2632</td>\n",
       "      <td>2632 - ★ Cosma</td>\n",
       "      <td>★ Cosma</td>\n",
       "    </tr>\n",
       "    <tr>\n",
       "      <th>1748005</th>\n",
       "      <td>411659438</td>\n",
       "      <td>96510087</td>\n",
       "      <td>2017-10-17</td>\n",
       "      <td>18:40</td>\n",
       "      <td>15</td>\n",
       "      <td>15308456</td>\n",
       "      <td>19.99</td>\n",
       "      <td>7.6707</td>\n",
       "      <td>-1.4443</td>\n",
       "      <td>16.5207</td>\n",
       "      <td>...</td>\n",
       "      <td>2018-01-09</td>\n",
       "      <td>2018-04-03</td>\n",
       "      <td>2018-06-26</td>\n",
       "      <td>2018-09-18</td>\n",
       "      <td>25890</td>\n",
       "      <td>2190</td>\n",
       "      <td>10623</td>\n",
       "      <td>10623</td>\n",
       "      <td>10623 - Einstiegshilfe</td>\n",
       "      <td>Einstiegshilfe</td>\n",
       "    </tr>\n",
       "    <tr>\n",
       "      <th>38192</th>\n",
       "      <td>410659833</td>\n",
       "      <td>96275542</td>\n",
       "      <td>2017-10-13</td>\n",
       "      <td>21:47</td>\n",
       "      <td>15</td>\n",
       "      <td>15430998</td>\n",
       "      <td>4.99</td>\n",
       "      <td>1.5964</td>\n",
       "      <td>1.2188</td>\n",
       "      <td>4.5364</td>\n",
       "      <td>...</td>\n",
       "      <td>2018-01-05</td>\n",
       "      <td>2018-03-30</td>\n",
       "      <td>2018-06-22</td>\n",
       "      <td>2018-09-14</td>\n",
       "      <td>20345</td>\n",
       "      <td>2068</td>\n",
       "      <td>3155</td>\n",
       "      <td>3155</td>\n",
       "      <td>3155 - Schesir</td>\n",
       "      <td>Schesir</td>\n",
       "    </tr>\n",
       "    <tr>\n",
       "      <th>2737152</th>\n",
       "      <td>477679197</td>\n",
       "      <td>112288703</td>\n",
       "      <td>2018-06-07</td>\n",
       "      <td>13:56</td>\n",
       "      <td>15</td>\n",
       "      <td>20415836</td>\n",
       "      <td>19.99</td>\n",
       "      <td>6.2927</td>\n",
       "      <td>1.7167</td>\n",
       "      <td>18.1727</td>\n",
       "      <td>...</td>\n",
       "      <td>2018-08-30</td>\n",
       "      <td>2018-11-22</td>\n",
       "      <td>2019-02-14</td>\n",
       "      <td>2019-05-09</td>\n",
       "      <td>64704</td>\n",
       "      <td>2068</td>\n",
       "      <td>39209</td>\n",
       "      <td>39209</td>\n",
       "      <td>39209 - Hill's Prescription Diet</td>\n",
       "      <td>Hill's Prescription Diet</td>\n",
       "    </tr>\n",
       "    <tr>\n",
       "      <th>3910473</th>\n",
       "      <td>492528441</td>\n",
       "      <td>116004568</td>\n",
       "      <td>2018-08-01</td>\n",
       "      <td>13:55</td>\n",
       "      <td>15</td>\n",
       "      <td>13634579</td>\n",
       "      <td>2.99</td>\n",
       "      <td>2.5223</td>\n",
       "      <td>2.5223</td>\n",
       "      <td>2.5223</td>\n",
       "      <td>...</td>\n",
       "      <td>2018-02-21</td>\n",
       "      <td>2018-05-16</td>\n",
       "      <td>2018-08-08</td>\n",
       "      <td>2018-10-31</td>\n",
       "      <td>0</td>\n",
       "      <td>0</td>\n",
       "      <td>0</td>\n",
       "      <td>0</td>\n",
       "      <td>NaN</td>\n",
       "      <td>NaN</td>\n",
       "    </tr>\n",
       "    <tr>\n",
       "      <th>4361226</th>\n",
       "      <td>459562821</td>\n",
       "      <td>107756226</td>\n",
       "      <td>2018-03-31</td>\n",
       "      <td>11:12</td>\n",
       "      <td>15</td>\n",
       "      <td>8722836</td>\n",
       "      <td>-1.97</td>\n",
       "      <td>-1.7044</td>\n",
       "      <td>-1.7044</td>\n",
       "      <td>-1.7044</td>\n",
       "      <td>...</td>\n",
       "      <td>2018-05-17</td>\n",
       "      <td>2018-08-09</td>\n",
       "      <td>2018-11-01</td>\n",
       "      <td>2019-01-24</td>\n",
       "      <td>0</td>\n",
       "      <td>0</td>\n",
       "      <td>0</td>\n",
       "      <td>0</td>\n",
       "      <td>NaN</td>\n",
       "      <td>NaN</td>\n",
       "    </tr>\n",
       "    <tr>\n",
       "      <th>4528943</th>\n",
       "      <td>484614825</td>\n",
       "      <td>114011340</td>\n",
       "      <td>2018-07-02</td>\n",
       "      <td>19:58</td>\n",
       "      <td>15</td>\n",
       "      <td>3603689</td>\n",
       "      <td>0.00</td>\n",
       "      <td>0.0000</td>\n",
       "      <td>0.0000</td>\n",
       "      <td>0.0000</td>\n",
       "      <td>...</td>\n",
       "      <td>2018-01-15</td>\n",
       "      <td>2018-04-09</td>\n",
       "      <td>2018-07-02</td>\n",
       "      <td>2018-09-24</td>\n",
       "      <td>9795</td>\n",
       "      <td>3156</td>\n",
       "      <td>3880</td>\n",
       "      <td>3880</td>\n",
       "      <td>3880 - alte Praemien</td>\n",
       "      <td>alte Praemien</td>\n",
       "    </tr>\n",
       "    <tr>\n",
       "      <th>4389126</th>\n",
       "      <td>413426757</td>\n",
       "      <td>96913192</td>\n",
       "      <td>2017-10-23</td>\n",
       "      <td>21:02</td>\n",
       "      <td>15</td>\n",
       "      <td>3101362</td>\n",
       "      <td>0.00</td>\n",
       "      <td>-0.1700</td>\n",
       "      <td>-0.2212</td>\n",
       "      <td>0.0000</td>\n",
       "      <td>...</td>\n",
       "      <td>2017-12-28</td>\n",
       "      <td>2018-03-22</td>\n",
       "      <td>2018-06-14</td>\n",
       "      <td>2018-09-06</td>\n",
       "      <td>65112</td>\n",
       "      <td>29</td>\n",
       "      <td>239</td>\n",
       "      <td>239</td>\n",
       "      <td>239 - Schaufeln &amp; Vorleger</td>\n",
       "      <td>Schaufeln &amp; Vorleger</td>\n",
       "    </tr>\n",
       "  </tbody>\n",
       "</table>\n",
       "<p>10 rows × 39 columns</p>\n",
       "</div>"
      ],
      "text/plain": [
       "         SCM_N_ORDER_POS_NR  SCM_N_ORDER_NR TDT_T_KEY_ORDER_DATE  \\\n",
       "4387144           414880456        97246884           2017-10-29   \n",
       "1116524           490816183       115580654           2018-07-26   \n",
       "1705193           422911725        99147936           2017-11-25   \n",
       "1748005           411659438        96510087           2017-10-17   \n",
       "38192             410659833        96275542           2017-10-13   \n",
       "2737152           477679197       112288703           2018-06-07   \n",
       "3910473           492528441       116004568           2018-08-01   \n",
       "4361226           459562821       107756226           2018-03-31   \n",
       "4528943           484614825       114011340           2018-07-02   \n",
       "4389126           413426757        96913192           2017-10-23   \n",
       "\n",
       "        THR_C_KEY_ORDER_HOUR  SIT_N_KEY_SITE  CUS_N_KEY_CUSTOMER  \\\n",
       "4387144                01:34              15             9330423   \n",
       "1116524                10:53              15            14535681   \n",
       "1705193                18:29              15             7717426   \n",
       "1748005                18:40              15            15308456   \n",
       "38192                  21:47              15            15430998   \n",
       "2737152                13:56              15            20415836   \n",
       "3910473                13:55              15            13634579   \n",
       "4361226                11:12              15             8722836   \n",
       "4528943                19:58              15             3603689   \n",
       "4389126                21:02              15             3101362   \n",
       "\n",
       "         SCM_SALES_BMF  SCM_D_FINANCE_CM1  SCM_D_FINANCE_CM2  \\\n",
       "4387144          -4.10            -3.7273            -3.7273   \n",
       "1116524          10.99             5.1626             1.5421   \n",
       "1705193          11.99             3.2200             2.0735   \n",
       "1748005          19.99             7.6707            -1.4443   \n",
       "38192             4.99             1.5964             1.2188   \n",
       "2737152          19.99             6.2927             1.7167   \n",
       "3910473           2.99             2.5223             2.5223   \n",
       "4361226          -1.97            -1.7044            -1.7044   \n",
       "4528943           0.00             0.0000             0.0000   \n",
       "4389126           0.00            -0.1700            -0.2212   \n",
       "\n",
       "         SCM_D_ORIG_FINANCE_ORDER_NET            ...                   D84  \\\n",
       "4387144                       -3.7273            ...            2018-01-15   \n",
       "1116524                        9.0826            ...            2017-12-25   \n",
       "1705193                       10.9000            ...            2017-12-26   \n",
       "1748005                       16.5207            ...            2018-01-09   \n",
       "38192                          4.5364            ...            2018-01-05   \n",
       "2737152                       18.1727            ...            2018-08-30   \n",
       "3910473                        2.5223            ...            2018-02-21   \n",
       "4361226                       -1.7044            ...            2018-05-17   \n",
       "4528943                        0.0000            ...            2018-01-15   \n",
       "4389126                        0.0000            ...            2017-12-28   \n",
       "\n",
       "              D168       D252       D336  AP_ID  L3_PG_ID  L4_PG_ID  \\\n",
       "4387144 2018-04-09 2018-07-02 2018-09-24      0         0         0   \n",
       "1116524 2018-03-19 2018-06-11 2018-09-03  73457       301     10331   \n",
       "1705193 2018-03-20 2018-06-12 2018-09-04  65182      2068      2632   \n",
       "1748005 2018-04-03 2018-06-26 2018-09-18  25890      2190     10623   \n",
       "38192   2018-03-30 2018-06-22 2018-09-14  20345      2068      3155   \n",
       "2737152 2018-11-22 2019-02-14 2019-05-09  64704      2068     39209   \n",
       "3910473 2018-05-16 2018-08-08 2018-10-31      0         0         0   \n",
       "4361226 2018-08-09 2018-11-01 2019-01-24      0         0         0   \n",
       "4528943 2018-04-09 2018-07-02 2018-09-24   9795      3156      3880   \n",
       "4389126 2018-03-22 2018-06-14 2018-09-06  65112        29       239   \n",
       "\n",
       "         PPR_N_LEVEL4_ID                 PPR_V_LEVEL4_DESC  \\\n",
       "4387144                0                               NaN   \n",
       "1116524            10331                10331 - ★ Tigerino   \n",
       "1705193             2632                    2632 - ★ Cosma   \n",
       "1748005            10623            10623 - Einstiegshilfe   \n",
       "38192               3155                    3155 - Schesir   \n",
       "2737152            39209  39209 - Hill's Prescription Diet   \n",
       "3910473                0                               NaN   \n",
       "4361226                0                               NaN   \n",
       "4528943             3880              3880 - alte Praemien   \n",
       "4389126              239        239 - Schaufeln & Vorleger   \n",
       "\n",
       "                            BRAND  \n",
       "4387144                       NaN  \n",
       "1116524                ★ Tigerino  \n",
       "1705193                   ★ Cosma  \n",
       "1748005            Einstiegshilfe  \n",
       "38192                     Schesir  \n",
       "2737152  Hill's Prescription Diet  \n",
       "3910473                       NaN  \n",
       "4361226                       NaN  \n",
       "4528943             alte Praemien  \n",
       "4389126      Schaufeln & Vorleger  \n",
       "\n",
       "[10 rows x 39 columns]"
      ]
     },
     "execution_count": 70,
     "metadata": {},
     "output_type": "execute_result"
    }
   ],
   "source": [
    "data.sample(10)"
   ]
  },
  {
   "cell_type": "code",
   "execution_count": 71,
   "metadata": {
    "ExecuteTime": {
     "end_time": "2018-11-15T09:07:39.102334Z",
     "start_time": "2018-11-15T09:07:39.095334Z"
    },
    "hidden": true
   },
   "outputs": [
    {
     "data": {
      "text/plain": [
       "SCM_N_ORDER_POS_NR                        488396880\n",
       "SCM_N_ORDER_NR                            114966012\n",
       "TDT_T_KEY_ORDER_DATE            2018-07-16 00:00:00\n",
       "THR_C_KEY_ORDER_HOUR                          22:08\n",
       "SIT_N_KEY_SITE                                   15\n",
       "CUS_N_KEY_CUSTOMER                         16845090\n",
       "SCM_SALES_BMF                                 -2.51\n",
       "SCM_D_FINANCE_CM1                           -2.2406\n",
       "SCM_D_FINANCE_CM2                           -2.2406\n",
       "SCM_D_ORIG_FINANCE_ORDER_NET                -2.2406\n",
       "SCM_AP_ID                                         0\n",
       "SCM_AS_ID                                         6\n",
       "SCM_MASTER_AP_ID                              42715\n",
       "OSP_KO_COUNT_NET                                 13\n",
       "OSP_3_LEAD_P_PG_ID                              251\n",
       "OSP_3_LEAD_P_PG_SHARE                        0.5967\n",
       "OSP_4_LEAD_P_PG_ID                           170799\n",
       "OSP_4_LEAD_P_PG_SHARE                        0.5967\n",
       "CZP_START_DATE                  2018-07-09 00:00:00\n",
       "CZP_EXPIRY_DATE                 2020-07-09 00:00:00\n",
       "CZP_ZTQ_ID                                       54\n",
       "CZP_PERCENTAGE                                    5\n",
       "CZP_PRICE                                      9.99\n",
       "ORDER_DATETIME                  2018-07-16 22:08:00\n",
       "FIRST_O_DATE                    2017-10-31 00:00:00\n",
       "LAST_O_DATE                     2018-07-16 00:00:00\n",
       "1ST_O_COUNTER                                     5\n",
       "D28                             2017-11-28 00:00:00\n",
       "D56                             2017-12-26 00:00:00\n",
       "D84                             2018-01-23 00:00:00\n",
       "D168                            2018-04-17 00:00:00\n",
       "D252                            2018-07-10 00:00:00\n",
       "D336                            2018-10-02 00:00:00\n",
       "AP_ID                                             0\n",
       "L3_PG_ID                                          0\n",
       "L4_PG_ID                                          0\n",
       "PPR_N_LEVEL4_ID                                   0\n",
       "PPR_V_LEVEL4_DESC                               NaN\n",
       "BRAND                                           NaN\n",
       "Name: 2359877, dtype: object"
      ]
     },
     "execution_count": 71,
     "metadata": {},
     "output_type": "execute_result"
    }
   ],
   "source": [
    "data.loc[2359877]"
   ]
  },
  {
   "cell_type": "code",
   "execution_count": 74,
   "metadata": {
    "ExecuteTime": {
     "end_time": "2018-11-15T09:11:27.009334Z",
     "start_time": "2018-11-15T09:11:26.999334Z"
    },
    "hidden": true
   },
   "outputs": [
    {
     "data": {
      "text/plain": [
       "Index(['SCM_N_ORDER_POS_NR', 'SCM_N_ORDER_NR', 'TDT_T_KEY_ORDER_DATE',\n",
       "       'THR_C_KEY_ORDER_HOUR', 'SIT_N_KEY_SITE', 'CUS_N_KEY_CUSTOMER',\n",
       "       'SCM_SALES_BMF', 'SCM_D_FINANCE_CM1', 'SCM_D_FINANCE_CM2',\n",
       "       'SCM_D_ORIG_FINANCE_ORDER_NET', 'SCM_AP_ID', 'SCM_AS_ID',\n",
       "       'SCM_MASTER_AP_ID', 'OSP_KO_COUNT_NET', 'OSP_3_LEAD_P_PG_ID',\n",
       "       'OSP_3_LEAD_P_PG_SHARE', 'OSP_4_LEAD_P_PG_ID', 'OSP_4_LEAD_P_PG_SHARE',\n",
       "       'CZP_START_DATE', 'CZP_EXPIRY_DATE', 'CZP_ZTQ_ID', 'CZP_PERCENTAGE',\n",
       "       'CZP_PRICE', 'ORDER_DATETIME', 'FIRST_O_DATE', 'LAST_O_DATE',\n",
       "       '1ST_O_COUNTER', 'D28', 'D56', 'D84', 'D168', 'D252', 'D336', 'AP_ID',\n",
       "       'L3_PG_ID', 'L4_PG_ID', 'PPR_N_LEVEL4_ID', 'PPR_V_LEVEL4_DESC', 'BRAND',\n",
       "       'MAX_SALES_O_POS', 'IS_LEAD_AS', 'LEAD_AS_ID'],\n",
       "      dtype='object')"
      ]
     },
     "execution_count": 74,
     "metadata": {},
     "output_type": "execute_result"
    }
   ],
   "source": [
    "data.columns"
   ]
  },
  {
   "cell_type": "code",
   "execution_count": 77,
   "metadata": {
    "ExecuteTime": {
     "end_time": "2018-11-15T09:17:37.468334Z",
     "start_time": "2018-11-15T09:17:27.575334Z"
    },
    "hidden": true
   },
   "outputs": [],
   "source": [
    "#data.to_pickle(\"./one_year_orders_es_shop_sp_cross_selling.pkl\")"
   ]
  },
  {
   "cell_type": "markdown",
   "metadata": {
    "heading_collapsed": true
   },
   "source": [
    "### Order level"
   ]
  },
  {
   "cell_type": "code",
   "execution_count": 2,
   "metadata": {
    "ExecuteTime": {
     "end_time": "2018-11-16T16:12:21.399781Z",
     "start_time": "2018-11-16T16:12:14.636781Z"
    },
    "hidden": true
   },
   "outputs": [],
   "source": [
    "data = pd.read_pickle(\"./one_year_orders_es_shop_sp_cross_selling.pkl\")"
   ]
  },
  {
   "cell_type": "code",
   "execution_count": 3,
   "metadata": {
    "ExecuteTime": {
     "end_time": "2018-11-16T16:12:27.531781Z",
     "start_time": "2018-11-16T16:12:27.415781Z"
    },
    "hidden": true
   },
   "outputs": [],
   "source": [
    "agg_ops = {'TDT_T_KEY_ORDER_DATE': min,\n",
    "          'CUS_N_KEY_CUSTOMER': min,\n",
    "          'SCM_SALES_BMF': [sum, lambda x: list(np.round(x, 2))],\n",
    "          'SCM_D_FINANCE_CM1': sum,\n",
    "          'SCM_D_FINANCE_CM2': sum,\n",
    "          'SCM_D_ORIG_FINANCE_ORDER_NET': sum,\n",
    "          'OSP_KO_COUNT_NET': min,\n",
    "          'SCM_AP_ID': lambda x: list(x),\n",
    "          'L4_PG_ID': lambda x: list(x),\n",
    "          'BRAND': lambda x: list(x),\n",
    "          'PPR_V_LEVEL4_DESC': lambda x: list(x),\n",
    "          'L3_PG_ID': lambda x: list(x),\n",
    "          'SCM_AS_ID': lambda x: list(x),\n",
    "          'LEAD_AS_ID': max,\n",
    "          'SCM_MASTER_AP_ID': lambda x: list(x),\n",
    "          'CZP_ZTQ_ID': min, \n",
    "          'CZP_START_DATE': min,\n",
    "          'CZP_EXPIRY_DATE': min,\n",
    "          'ORDER_DATETIME': min,\n",
    "          'FIRST_O_DATE': min,\n",
    "          'LAST_O_DATE': min,\n",
    "          '1ST_O_COUNTER': min,\n",
    "          'D28': min,\n",
    "          'D56': min,\n",
    "          'D84': min,\n",
    "          'D168': min,\n",
    "          'D252': min,\n",
    "          'D336': min\n",
    "          }"
   ]
  },
  {
   "cell_type": "code",
   "execution_count": 4,
   "metadata": {
    "ExecuteTime": {
     "end_time": "2018-11-16T16:20:37.791781Z",
     "start_time": "2018-11-16T16:12:29.158781Z"
    },
    "hidden": true
   },
   "outputs": [],
   "source": [
    "orders = data.groupby('SCM_N_ORDER_NR', as_index=False).agg(agg_ops)"
   ]
  },
  {
   "cell_type": "code",
   "execution_count": 5,
   "metadata": {
    "ExecuteTime": {
     "end_time": "2018-11-16T16:20:54.310781Z",
     "start_time": "2018-11-16T16:20:54.307781Z"
    },
    "hidden": true
   },
   "outputs": [],
   "source": [
    "orders.columns = ['_'.join(tup).rstrip('_') for tup in orders.columns.values]"
   ]
  },
  {
   "cell_type": "code",
   "execution_count": 6,
   "metadata": {
    "ExecuteTime": {
     "end_time": "2018-11-16T16:20:56.445781Z",
     "start_time": "2018-11-16T16:20:56.440781Z"
    },
    "hidden": true
   },
   "outputs": [],
   "source": [
    "orders.columns = ['SCM_N_ORDER_NR', 'TDT_T_KEY_ORDER_DATE', 'CUS_N_KEY_CUSTOMER',\n",
    "       'SCM_SALES_BMF_sum', 'SCM_SALES_BMF_list', 'SCM_D_FINANCE_CM1',\n",
    "       'SCM_D_FINANCE_CM2', 'SCM_D_ORIG_FINANCE_ORDER_NET',\n",
    "       'OSP_KO_COUNT_NET', 'SCM_AP_ID_list', 'L4_PG_ID_list',\n",
    "       'BRAND_list', 'PPR_V_LEVEL4_DESC_list', 'L3_PG_ID_list',\n",
    "       'SCM_AS_ID_list', 'LEAD_AS_ID', 'SCM_MASTER_AP_ID_list',\n",
    "       'CZP_ZTQ_ID', 'CZP_START_DATE', 'CZP_EXPIRY_DATE',\n",
    "       'ORDER_DATETIME', 'FIRST_O_DATE', 'LAST_O_DATE',\n",
    "       '1ST_O_COUNTER', 'D28', 'D56', 'D84', 'D168',\n",
    "       'D252', 'D336']"
   ]
  },
  {
   "cell_type": "code",
   "execution_count": 7,
   "metadata": {
    "ExecuteTime": {
     "end_time": "2018-11-16T16:21:11.842781Z",
     "start_time": "2018-11-16T16:21:11.586781Z"
    },
    "hidden": true
   },
   "outputs": [],
   "source": [
    "orders['SP_DISC'] = [42715 in i for i in orders['SCM_MASTER_AP_ID_list'].values]"
   ]
  },
  {
   "cell_type": "code",
   "execution_count": 8,
   "metadata": {
    "ExecuteTime": {
     "end_time": "2018-11-16T16:21:13.864781Z",
     "start_time": "2018-11-16T16:21:13.838781Z"
    },
    "hidden": true
   },
   "outputs": [
    {
     "data": {
      "text/plain": [
       "False    717357\n",
       "True     359967\n",
       "Name: SP_DISC, dtype: int64"
      ]
     },
     "execution_count": 8,
     "metadata": {},
     "output_type": "execute_result"
    }
   ],
   "source": [
    "orders['SP_DISC'].value_counts()"
   ]
  },
  {
   "cell_type": "markdown",
   "metadata": {
    "hidden": true
   },
   "source": [
    "We need to calculate, for each order, sales per PG3/PG4/BRAND... "
   ]
  },
  {
   "cell_type": "code",
   "execution_count": 9,
   "metadata": {
    "ExecuteTime": {
     "end_time": "2018-11-16T16:21:21.525781Z",
     "start_time": "2018-11-16T16:21:18.649781Z"
    },
    "hidden": true
   },
   "outputs": [],
   "source": [
    "orders['PG3_SALES'] = [[(a, b) for a, b in list(zip(i, j))] for i, j in list(zip(orders['L3_PG_ID_list'], \n",
    "                                                                                 orders['SCM_SALES_BMF_list']))]"
   ]
  },
  {
   "cell_type": "code",
   "execution_count": 10,
   "metadata": {
    "ExecuteTime": {
     "end_time": "2018-11-16T16:21:26.621781Z",
     "start_time": "2018-11-16T16:21:23.566781Z"
    },
    "hidden": true
   },
   "outputs": [],
   "source": [
    "orders['PG4_SALES'] = [[(a, b) for a, b in list(zip(i, j))] for i, j in list(zip(orders['L4_PG_ID_list'], \n",
    "                                                                                 orders['SCM_SALES_BMF_list']))]"
   ]
  },
  {
   "cell_type": "code",
   "execution_count": 11,
   "metadata": {
    "ExecuteTime": {
     "end_time": "2018-11-16T16:21:32.316781Z",
     "start_time": "2018-11-16T16:21:28.982781Z"
    },
    "hidden": true
   },
   "outputs": [],
   "source": [
    "orders['BRAND_SALES'] = [[(a, b) for a, b in list(zip(i, j))] for i, j in list(zip(orders['BRAND_list'], \n",
    "                                                                                   orders['SCM_SALES_BMF_list']))]"
   ]
  },
  {
   "cell_type": "code",
   "execution_count": 13,
   "metadata": {
    "ExecuteTime": {
     "end_time": "2018-11-16T16:22:25.739781Z",
     "start_time": "2018-11-16T16:21:50.178781Z"
    },
    "hidden": true
   },
   "outputs": [],
   "source": [
    "orders['PG3_AGGSALES'] = [sorted([(pg3, np.round(sum([sales_ for pg_3_, sales_ in i if pg3==pg_3_\n",
    "                                                        ]), 3)) \n",
    "                        for pg3 in set([pg_3 for pg_3, sales in i])], key= lambda x: x[1], reverse=True) \n",
    "                        for i in orders['PG3_SALES']]"
   ]
  },
  {
   "cell_type": "code",
   "execution_count": 14,
   "metadata": {
    "ExecuteTime": {
     "end_time": "2018-11-16T16:24:48.816781Z",
     "start_time": "2018-11-16T16:24:10.065781Z"
    },
    "hidden": true
   },
   "outputs": [],
   "source": [
    "orders['PG4_AGGSALES'] = [sorted([(pg4, np.round(sum([sales_ for pg_4_, sales_ in i if pg4==pg_4_\n",
    "                                                        ]), 3)) \n",
    "                        for pg4 in set([pg_4 for pg_4, sales in i])], key= lambda x: x[1], reverse=True) \n",
    "                        for i in orders['PG4_SALES']]"
   ]
  },
  {
   "cell_type": "code",
   "execution_count": 15,
   "metadata": {
    "ExecuteTime": {
     "end_time": "2018-11-16T16:25:36.433781Z",
     "start_time": "2018-11-16T16:24:52.002781Z"
    },
    "hidden": true
   },
   "outputs": [],
   "source": [
    "orders['BRAND_AGGSALES'] = [sorted([(brand_, np.round(sum([sales_ for brand__, sales_ in i if brand_== brand__\n",
    "                                                        ]), 3)) \n",
    "                        for brand_ in set([brand for brand, sales in i])], key= lambda x: x[1], reverse=True) \n",
    "                        for i in orders['BRAND_SALES']]"
   ]
  },
  {
   "cell_type": "code",
   "execution_count": 16,
   "metadata": {
    "ExecuteTime": {
     "end_time": "2018-11-16T16:25:58.070781Z",
     "start_time": "2018-11-16T16:25:57.399781Z"
    },
    "hidden": true
   },
   "outputs": [
    {
     "data": {
      "text/html": [
       "<div>\n",
       "<style scoped>\n",
       "    .dataframe tbody tr th:only-of-type {\n",
       "        vertical-align: middle;\n",
       "    }\n",
       "\n",
       "    .dataframe tbody tr th {\n",
       "        vertical-align: top;\n",
       "    }\n",
       "\n",
       "    .dataframe thead th {\n",
       "        text-align: right;\n",
       "    }\n",
       "</style>\n",
       "<table border=\"1\" class=\"dataframe\">\n",
       "  <thead>\n",
       "    <tr style=\"text-align: right;\">\n",
       "      <th></th>\n",
       "      <th>SCM_SALES_BMF_list</th>\n",
       "      <th>SCM_AP_ID_list</th>\n",
       "      <th>SP_DISC</th>\n",
       "      <th>L3_PG_ID_list</th>\n",
       "      <th>PG3_SALES</th>\n",
       "      <th>PG3_AGGSALES</th>\n",
       "      <th>L4_PG_ID_list</th>\n",
       "      <th>PG4_SALES</th>\n",
       "      <th>PG4_AGGSALES</th>\n",
       "      <th>BRAND_list</th>\n",
       "      <th>BRAND_SALES</th>\n",
       "      <th>BRAND_AGGSALES</th>\n",
       "    </tr>\n",
       "  </thead>\n",
       "  <tbody>\n",
       "    <tr>\n",
       "      <th>448657</th>\n",
       "      <td>[42.99]</td>\n",
       "      <td>[68774]</td>\n",
       "      <td>False</td>\n",
       "      <td>[38]</td>\n",
       "      <td>[(38, 42.99)]</td>\n",
       "      <td>[(38, 42.99)]</td>\n",
       "      <td>[72369]</td>\n",
       "      <td>[(72369, 42.99)]</td>\n",
       "      <td>[(72369, 42.99)]</td>\n",
       "      <td>[für Gelenke &amp; Knochen]</td>\n",
       "      <td>[(für Gelenke &amp; Knochen, 42.99)]</td>\n",
       "      <td>[(für Gelenke &amp; Knochen, 42.99)]</td>\n",
       "    </tr>\n",
       "    <tr>\n",
       "      <th>841595</th>\n",
       "      <td>[3.99, 19.99]</td>\n",
       "      <td>[0, 71785]</td>\n",
       "      <td>False</td>\n",
       "      <td>[0, 29]</td>\n",
       "      <td>[(0, 3.99), (29, 19.99)]</td>\n",
       "      <td>[(29, 19.99), (0, 3.99)]</td>\n",
       "      <td>[0, 35032]</td>\n",
       "      <td>[(0, 3.99), (35032, 19.99)]</td>\n",
       "      <td>[(35032, 19.99), (0, 3.99)]</td>\n",
       "      <td>[nan, Feliway]</td>\n",
       "      <td>[(nan, 3.99), (Feliway, 19.99)]</td>\n",
       "      <td>[(Feliway, 19.99), (nan, 0)]</td>\n",
       "    </tr>\n",
       "    <tr>\n",
       "      <th>337610</th>\n",
       "      <td>[-5.43, 96.99, 83.88]</td>\n",
       "      <td>[0, 76918, 60535]</td>\n",
       "      <td>True</td>\n",
       "      <td>[0, 251, 18]</td>\n",
       "      <td>[(0, -5.43), (251, 96.99), (18, 83.88)]</td>\n",
       "      <td>[(251, 96.99), (18, 83.88), (0, -5.43)]</td>\n",
       "      <td>[0, 255, 393]</td>\n",
       "      <td>[(0, -5.43), (255, 96.99), (393, 83.88)]</td>\n",
       "      <td>[(255, 96.99), (393, 83.88), (0, -5.43)]</td>\n",
       "      <td>[nan, Eukanuba, Hundekekse &amp; Hundekuchen]</td>\n",
       "      <td>[(nan, -5.43), (Eukanuba, 96.99), (Hundekekse ...</td>\n",
       "      <td>[(Eukanuba, 96.99), (Hundekekse &amp; Hundekuchen,...</td>\n",
       "    </tr>\n",
       "    <tr>\n",
       "      <th>464168</th>\n",
       "      <td>[1.19, 1.99, 17.99, 17.99, 1.99]</td>\n",
       "      <td>[52416, 32605, 70320, 70320, 50350]</td>\n",
       "      <td>False</td>\n",
       "      <td>[34, 2068, 301, 301, 2068]</td>\n",
       "      <td>[(34, 1.19), (2068, 1.99), (301, 17.99), (301,...</td>\n",
       "      <td>[(301, 35.98), (2068, 3.98), (34, 1.19)]</td>\n",
       "      <td>[71978, 2072, 10331, 10331, 2072]</td>\n",
       "      <td>[(71978, 1.19), (2072, 1.99), (10331, 17.99), ...</td>\n",
       "      <td>[(10331, 35.98), (2072, 3.98), (71978, 1.19)]</td>\n",
       "      <td>[Knuspersnacks, Gourmet Gold, ★ Tigerino, ★ Ti...</td>\n",
       "      <td>[(Knuspersnacks, 1.19), (Gourmet Gold, 1.99), ...</td>\n",
       "      <td>[(★ Tigerino, 35.98), (Gourmet Gold, 3.98), (K...</td>\n",
       "    </tr>\n",
       "    <tr>\n",
       "      <th>427711</th>\n",
       "      <td>[69.99, 66.99, 24.99]</td>\n",
       "      <td>[21062, 72445, 21064]</td>\n",
       "      <td>False</td>\n",
       "      <td>[2190, 251, 2190]</td>\n",
       "      <td>[(2190, 69.99), (251, 66.99), (2190, 24.99)]</td>\n",
       "      <td>[(2190, 94.98), (251, 66.99)]</td>\n",
       "      <td>[10618, 18245, 10618]</td>\n",
       "      <td>[(10618, 69.99), (18245, 66.99), (10618, 24.99)]</td>\n",
       "      <td>[(10618, 94.98), (18245, 66.99)]</td>\n",
       "      <td>[Kunststoff Transportboxen, Acana, Kunststoff ...</td>\n",
       "      <td>[(Kunststoff Transportboxen, 69.99), (Acana, 6...</td>\n",
       "      <td>[(Kunststoff Transportboxen, 94.98), (Acana, 6...</td>\n",
       "    </tr>\n",
       "    <tr>\n",
       "      <th>313480</th>\n",
       "      <td>[86.99, 2.9]</td>\n",
       "      <td>[52747, 0]</td>\n",
       "      <td>False</td>\n",
       "      <td>[251, 0]</td>\n",
       "      <td>[(251, 86.99), (0, 2.9)]</td>\n",
       "      <td>[(251, 86.99), (0, 2.9)]</td>\n",
       "      <td>[2108, 0]</td>\n",
       "      <td>[(2108, 86.99), (0, 2.9)]</td>\n",
       "      <td>[(2108, 86.99), (0, 2.9)]</td>\n",
       "      <td>[Lupo Natural / Sensitive, nan]</td>\n",
       "      <td>[(Lupo Natural / Sensitive, 86.99), (nan, 2.9)]</td>\n",
       "      <td>[(Lupo Natural / Sensitive, 86.99), (nan, 0)]</td>\n",
       "    </tr>\n",
       "    <tr>\n",
       "      <th>1040416</th>\n",
       "      <td>[0.0, 20.99, 33.98]</td>\n",
       "      <td>[65052, 72449, 67330]</td>\n",
       "      <td>False</td>\n",
       "      <td>[29, 252, 2068]</td>\n",
       "      <td>[(29, 0.0), (252, 20.99), (2068, 33.98)]</td>\n",
       "      <td>[(2068, 33.98), (252, 20.99), (29, 0.0)]</td>\n",
       "      <td>[239, 19467, 3155]</td>\n",
       "      <td>[(239, 0.0), (19467, 20.99), (3155, 33.98)]</td>\n",
       "      <td>[(3155, 33.98), (19467, 20.99), (239, 0.0)]</td>\n",
       "      <td>[Schaufeln &amp; Vorleger, Acana, Schesir]</td>\n",
       "      <td>[(Schaufeln &amp; Vorleger, 0.0), (Acana, 20.99), ...</td>\n",
       "      <td>[(Schesir, 33.98), (Acana, 20.99), (Schaufeln ...</td>\n",
       "    </tr>\n",
       "    <tr>\n",
       "      <th>978061</th>\n",
       "      <td>[3.99, 19.99]</td>\n",
       "      <td>[0, 75344]</td>\n",
       "      <td>False</td>\n",
       "      <td>[0, 2190]</td>\n",
       "      <td>[(0, 3.99), (2190, 19.99)]</td>\n",
       "      <td>[(2190, 19.99), (0, 3.99)]</td>\n",
       "      <td>[0, 10623]</td>\n",
       "      <td>[(0, 3.99), (10623, 19.99)]</td>\n",
       "      <td>[(10623, 19.99), (0, 3.99)]</td>\n",
       "      <td>[nan, Einstiegshilfe]</td>\n",
       "      <td>[(nan, 3.99), (Einstiegshilfe, 19.99)]</td>\n",
       "      <td>[(Einstiegshilfe, 19.99), (nan, 0)]</td>\n",
       "    </tr>\n",
       "    <tr>\n",
       "      <th>4888</th>\n",
       "      <td>[9.99, 84.99]</td>\n",
       "      <td>[0, 61093]</td>\n",
       "      <td>False</td>\n",
       "      <td>[0, 251]</td>\n",
       "      <td>[(0, 9.99), (251, 84.99)]</td>\n",
       "      <td>[(251, 84.99), (0, 9.99)]</td>\n",
       "      <td>[0, 682]</td>\n",
       "      <td>[(0, 9.99), (682, 84.99)]</td>\n",
       "      <td>[(682, 84.99), (0, 9.99)]</td>\n",
       "      <td>[nan, Royal Canin Size]</td>\n",
       "      <td>[(nan, 9.99), (Royal Canin Size, 84.99)]</td>\n",
       "      <td>[(Royal Canin Size, 84.99), (nan, 0)]</td>\n",
       "    </tr>\n",
       "    <tr>\n",
       "      <th>209392</th>\n",
       "      <td>[7.49, 7.49, 20.99, 20.99, 20.99]</td>\n",
       "      <td>[57542, 57476, 73458, 73458, 73458]</td>\n",
       "      <td>False</td>\n",
       "      <td>[2068, 2068, 301, 301, 301]</td>\n",
       "      <td>[(2068, 7.49), (2068, 7.49), (301, 20.99), (30...</td>\n",
       "      <td>[(301, 62.97), (2068, 14.98)]</td>\n",
       "      <td>[2073, 2073, 10331, 10331, 10331]</td>\n",
       "      <td>[(2073, 7.49), (2073, 7.49), (10331, 20.99), (...</td>\n",
       "      <td>[(10331, 62.97), (2073, 14.98)]</td>\n",
       "      <td>[Hill’s Science Plan, Hill’s Science Plan, ★ T...</td>\n",
       "      <td>[(Hill’s Science Plan, 7.49), (Hill’s Science ...</td>\n",
       "      <td>[(★ Tigerino, 62.97), (Hill’s Science Plan, 14...</td>\n",
       "    </tr>\n",
       "  </tbody>\n",
       "</table>\n",
       "</div>"
      ],
      "text/plain": [
       "                        SCM_SALES_BMF_list  \\\n",
       "448657                             [42.99]   \n",
       "841595                       [3.99, 19.99]   \n",
       "337610               [-5.43, 96.99, 83.88]   \n",
       "464168    [1.19, 1.99, 17.99, 17.99, 1.99]   \n",
       "427711               [69.99, 66.99, 24.99]   \n",
       "313480                        [86.99, 2.9]   \n",
       "1040416                [0.0, 20.99, 33.98]   \n",
       "978061                       [3.99, 19.99]   \n",
       "4888                         [9.99, 84.99]   \n",
       "209392   [7.49, 7.49, 20.99, 20.99, 20.99]   \n",
       "\n",
       "                              SCM_AP_ID_list  SP_DISC  \\\n",
       "448657                               [68774]    False   \n",
       "841595                            [0, 71785]    False   \n",
       "337610                     [0, 76918, 60535]     True   \n",
       "464168   [52416, 32605, 70320, 70320, 50350]    False   \n",
       "427711                 [21062, 72445, 21064]    False   \n",
       "313480                            [52747, 0]    False   \n",
       "1040416                [65052, 72449, 67330]    False   \n",
       "978061                            [0, 75344]    False   \n",
       "4888                              [0, 61093]    False   \n",
       "209392   [57542, 57476, 73458, 73458, 73458]    False   \n",
       "\n",
       "                       L3_PG_ID_list  \\\n",
       "448657                          [38]   \n",
       "841595                       [0, 29]   \n",
       "337610                  [0, 251, 18]   \n",
       "464168    [34, 2068, 301, 301, 2068]   \n",
       "427711             [2190, 251, 2190]   \n",
       "313480                      [251, 0]   \n",
       "1040416              [29, 252, 2068]   \n",
       "978061                     [0, 2190]   \n",
       "4888                        [0, 251]   \n",
       "209392   [2068, 2068, 301, 301, 301]   \n",
       "\n",
       "                                                 PG3_SALES  \\\n",
       "448657                                       [(38, 42.99)]   \n",
       "841595                            [(0, 3.99), (29, 19.99)]   \n",
       "337610             [(0, -5.43), (251, 96.99), (18, 83.88)]   \n",
       "464168   [(34, 1.19), (2068, 1.99), (301, 17.99), (301,...   \n",
       "427711        [(2190, 69.99), (251, 66.99), (2190, 24.99)]   \n",
       "313480                            [(251, 86.99), (0, 2.9)]   \n",
       "1040416           [(29, 0.0), (252, 20.99), (2068, 33.98)]   \n",
       "978061                          [(0, 3.99), (2190, 19.99)]   \n",
       "4888                             [(0, 9.99), (251, 84.99)]   \n",
       "209392   [(2068, 7.49), (2068, 7.49), (301, 20.99), (30...   \n",
       "\n",
       "                                     PG3_AGGSALES  \\\n",
       "448657                              [(38, 42.99)]   \n",
       "841595                   [(29, 19.99), (0, 3.99)]   \n",
       "337610    [(251, 96.99), (18, 83.88), (0, -5.43)]   \n",
       "464168   [(301, 35.98), (2068, 3.98), (34, 1.19)]   \n",
       "427711              [(2190, 94.98), (251, 66.99)]   \n",
       "313480                   [(251, 86.99), (0, 2.9)]   \n",
       "1040416  [(2068, 33.98), (252, 20.99), (29, 0.0)]   \n",
       "978061                 [(2190, 19.99), (0, 3.99)]   \n",
       "4888                    [(251, 84.99), (0, 9.99)]   \n",
       "209392              [(301, 62.97), (2068, 14.98)]   \n",
       "\n",
       "                             L4_PG_ID_list  \\\n",
       "448657                             [72369]   \n",
       "841595                          [0, 35032]   \n",
       "337610                       [0, 255, 393]   \n",
       "464168   [71978, 2072, 10331, 10331, 2072]   \n",
       "427711               [10618, 18245, 10618]   \n",
       "313480                           [2108, 0]   \n",
       "1040416                 [239, 19467, 3155]   \n",
       "978061                          [0, 10623]   \n",
       "4888                              [0, 682]   \n",
       "209392   [2073, 2073, 10331, 10331, 10331]   \n",
       "\n",
       "                                                 PG4_SALES  \\\n",
       "448657                                    [(72369, 42.99)]   \n",
       "841595                         [(0, 3.99), (35032, 19.99)]   \n",
       "337610            [(0, -5.43), (255, 96.99), (393, 83.88)]   \n",
       "464168   [(71978, 1.19), (2072, 1.99), (10331, 17.99), ...   \n",
       "427711    [(10618, 69.99), (18245, 66.99), (10618, 24.99)]   \n",
       "313480                           [(2108, 86.99), (0, 2.9)]   \n",
       "1040416        [(239, 0.0), (19467, 20.99), (3155, 33.98)]   \n",
       "978061                         [(0, 3.99), (10623, 19.99)]   \n",
       "4888                             [(0, 9.99), (682, 84.99)]   \n",
       "209392   [(2073, 7.49), (2073, 7.49), (10331, 20.99), (...   \n",
       "\n",
       "                                          PG4_AGGSALES  \\\n",
       "448657                                [(72369, 42.99)]   \n",
       "841595                     [(35032, 19.99), (0, 3.99)]   \n",
       "337610        [(255, 96.99), (393, 83.88), (0, -5.43)]   \n",
       "464168   [(10331, 35.98), (2072, 3.98), (71978, 1.19)]   \n",
       "427711                [(10618, 94.98), (18245, 66.99)]   \n",
       "313480                       [(2108, 86.99), (0, 2.9)]   \n",
       "1040416    [(3155, 33.98), (19467, 20.99), (239, 0.0)]   \n",
       "978061                     [(10623, 19.99), (0, 3.99)]   \n",
       "4888                         [(682, 84.99), (0, 9.99)]   \n",
       "209392                 [(10331, 62.97), (2073, 14.98)]   \n",
       "\n",
       "                                                BRAND_list  \\\n",
       "448657                             [für Gelenke & Knochen]   \n",
       "841595                                      [nan, Feliway]   \n",
       "337610           [nan, Eukanuba, Hundekekse & Hundekuchen]   \n",
       "464168   [Knuspersnacks, Gourmet Gold, ★ Tigerino, ★ Ti...   \n",
       "427711   [Kunststoff Transportboxen, Acana, Kunststoff ...   \n",
       "313480                     [Lupo Natural / Sensitive, nan]   \n",
       "1040416             [Schaufeln & Vorleger, Acana, Schesir]   \n",
       "978061                               [nan, Einstiegshilfe]   \n",
       "4888                               [nan, Royal Canin Size]   \n",
       "209392   [Hill’s Science Plan, Hill’s Science Plan, ★ T...   \n",
       "\n",
       "                                               BRAND_SALES  \\\n",
       "448657                    [(für Gelenke & Knochen, 42.99)]   \n",
       "841595                     [(nan, 3.99), (Feliway, 19.99)]   \n",
       "337610   [(nan, -5.43), (Eukanuba, 96.99), (Hundekekse ...   \n",
       "464168   [(Knuspersnacks, 1.19), (Gourmet Gold, 1.99), ...   \n",
       "427711   [(Kunststoff Transportboxen, 69.99), (Acana, 6...   \n",
       "313480     [(Lupo Natural / Sensitive, 86.99), (nan, 2.9)]   \n",
       "1040416  [(Schaufeln & Vorleger, 0.0), (Acana, 20.99), ...   \n",
       "978061              [(nan, 3.99), (Einstiegshilfe, 19.99)]   \n",
       "4888              [(nan, 9.99), (Royal Canin Size, 84.99)]   \n",
       "209392   [(Hill’s Science Plan, 7.49), (Hill’s Science ...   \n",
       "\n",
       "                                            BRAND_AGGSALES  \n",
       "448657                    [(für Gelenke & Knochen, 42.99)]  \n",
       "841595                        [(Feliway, 19.99), (nan, 0)]  \n",
       "337610   [(Eukanuba, 96.99), (Hundekekse & Hundekuchen,...  \n",
       "464168   [(★ Tigerino, 35.98), (Gourmet Gold, 3.98), (K...  \n",
       "427711   [(Kunststoff Transportboxen, 94.98), (Acana, 6...  \n",
       "313480       [(Lupo Natural / Sensitive, 86.99), (nan, 0)]  \n",
       "1040416  [(Schesir, 33.98), (Acana, 20.99), (Schaufeln ...  \n",
       "978061                 [(Einstiegshilfe, 19.99), (nan, 0)]  \n",
       "4888                 [(Royal Canin Size, 84.99), (nan, 0)]  \n",
       "209392   [(★ Tigerino, 62.97), (Hill’s Science Plan, 14...  "
      ]
     },
     "execution_count": 16,
     "metadata": {},
     "output_type": "execute_result"
    }
   ],
   "source": [
    "orders.sample(10)[['SCM_SALES_BMF_list', 'SCM_AP_ID_list', 'SP_DISC', 'L3_PG_ID_list', 'PG3_SALES', 'PG3_AGGSALES', \n",
    "                   'L4_PG_ID_list', 'PG4_SALES', 'PG4_AGGSALES', 'BRAND_list', 'BRAND_SALES', 'BRAND_AGGSALES']]"
   ]
  },
  {
   "cell_type": "code",
   "execution_count": 17,
   "metadata": {
    "ExecuteTime": {
     "end_time": "2018-11-16T16:27:28.345640Z",
     "start_time": "2018-11-16T16:26:37.481727Z"
    },
    "hidden": true
   },
   "outputs": [],
   "source": [
    "#orders.to_pickle(\"./one_year_aggregated_orders_es_shop_sp_cross_selling.pkl\")"
   ]
  },
  {
   "cell_type": "markdown",
   "metadata": {
    "heading_collapsed": true
   },
   "source": [
    "### Customer level"
   ]
  },
  {
   "cell_type": "code",
   "execution_count": null,
   "metadata": {
    "hidden": true
   },
   "outputs": [],
   "source": [
    "orders = pd.read_pickle(\"./one_year_aggregated_orders_es_shop_sp_cross_selling.pkl\")"
   ]
  },
  {
   "cell_type": "code",
   "execution_count": 18,
   "metadata": {
    "ExecuteTime": {
     "end_time": "2018-11-16T16:28:05.437930Z",
     "start_time": "2018-11-16T16:28:05.431931Z"
    },
    "hidden": true
   },
   "outputs": [
    {
     "data": {
      "text/plain": [
       "Index(['SCM_N_ORDER_NR', 'TDT_T_KEY_ORDER_DATE', 'CUS_N_KEY_CUSTOMER',\n",
       "       'SCM_SALES_BMF_sum', 'SCM_SALES_BMF_list', 'SCM_D_FINANCE_CM1',\n",
       "       'SCM_D_FINANCE_CM2', 'SCM_D_ORIG_FINANCE_ORDER_NET', 'OSP_KO_COUNT_NET',\n",
       "       'SCM_AP_ID_list', 'L4_PG_ID_list', 'BRAND_list',\n",
       "       'PPR_V_LEVEL4_DESC_list', 'L3_PG_ID_list', 'SCM_AS_ID_list',\n",
       "       'LEAD_AS_ID', 'SCM_MASTER_AP_ID_list', 'CZP_ZTQ_ID', 'CZP_START_DATE',\n",
       "       'CZP_EXPIRY_DATE', 'ORDER_DATETIME', 'FIRST_O_DATE', 'LAST_O_DATE',\n",
       "       '1ST_O_COUNTER', 'D28', 'D56', 'D84', 'D168', 'D252', 'D336', 'SP_DISC',\n",
       "       'PG3_SALES', 'PG4_SALES', 'BRAND_SALES', 'PG3_AGGSALES', 'PG4_AGGSALES',\n",
       "       'BRAND_AGGSALES'],\n",
       "      dtype='object')"
      ]
     },
     "execution_count": 18,
     "metadata": {},
     "output_type": "execute_result"
    }
   ],
   "source": [
    "orders.columns"
   ]
  },
  {
   "cell_type": "code",
   "execution_count": 19,
   "metadata": {
    "ExecuteTime": {
     "end_time": "2018-11-16T16:28:43.126161Z",
     "start_time": "2018-11-16T16:28:43.097164Z"
    },
    "hidden": true
   },
   "outputs": [],
   "source": [
    "agg_ord_ops = {\n",
    "              'SCM_N_ORDER_NR': len,\n",
    "              'TDT_T_KEY_ORDER_DATE': lambda x: list(x.dt.date),\n",
    "              'SCM_SALES_BMF_sum': [sum, lambda x: list(np.round(x, 2))],\n",
    "              'SCM_D_FINANCE_CM1': [sum, lambda x: list(np.round(x, 2))],\n",
    "              'SCM_D_FINANCE_CM2': [sum, lambda x: list(np.round(x, 2))],\n",
    "              'SCM_D_ORIG_FINANCE_ORDER_NET': [sum, lambda x: list(np.round(x, 2))],\n",
    "              'OSP_KO_COUNT_NET': lambda x: list(x),\n",
    "              'SCM_MASTER_AP_ID_list': lambda x: list(x),\n",
    "              'CZP_ZTQ_ID': lambda x: list(set(list(x))),\n",
    "              'CZP_START_DATE': lambda x: list(set(list(x.dt.date))),\n",
    "              'CZP_EXPIRY_DATE': lambda x: list(set(list(x.dt.date))),\n",
    "              'PG3_AGGSALES': lambda x: list(x),\n",
    "              'PG4_AGGSALES': lambda x: list(x),\n",
    "              'BRAND_AGGSALES': lambda x: list(x),\n",
    "              'SP_DISC': lambda x: list(x),\n",
    "              'D28': max,\n",
    "              'D56': max,\n",
    "              'D84': max,\n",
    "              'D168': max,\n",
    "              'D252': max,\n",
    "              'D336': max\n",
    "              }"
   ]
  },
  {
   "cell_type": "code",
   "execution_count": 20,
   "metadata": {
    "ExecuteTime": {
     "end_time": "2018-11-16T16:40:00.500180Z",
     "start_time": "2018-11-16T16:28:46.052868Z"
    },
    "hidden": true
   },
   "outputs": [],
   "source": [
    "customers = orders.groupby('CUS_N_KEY_CUSTOMER', as_index=False).agg(agg_ord_ops).round(2)"
   ]
  },
  {
   "cell_type": "code",
   "execution_count": 21,
   "metadata": {
    "ExecuteTime": {
     "end_time": "2018-11-16T16:41:00.038180Z",
     "start_time": "2018-11-16T16:41:00.030180Z"
    },
    "hidden": true
   },
   "outputs": [],
   "source": [
    "customers.columns = ['_'.join(tup).rstrip('_') for tup in customers.columns.values]"
   ]
  },
  {
   "cell_type": "code",
   "execution_count": 22,
   "metadata": {
    "ExecuteTime": {
     "end_time": "2018-11-16T16:41:21.114180Z",
     "start_time": "2018-11-16T16:41:21.105180Z"
    },
    "hidden": true
   },
   "outputs": [],
   "source": [
    "customers.columns = ['CUS_N_KEY_CUSTOMER', 'SCM_N_ORDER_NR_len',\n",
    "       'TDT_T_KEY_ORDER_DATE_list', 'SCM_SALES_BMF_sum',\n",
    "       'SCM_SALES_BMF_list', 'SCM_D_FINANCE_CM1_sum',\n",
    "       'SCM_D_FINANCE_CM1_list', 'SCM_D_FINANCE_CM2_sum',\n",
    "       'SCM_D_FINANCE_CM2_list', 'SCM_D_ORIG_FINANCE_ORDER_NET_sum',\n",
    "       'SCM_D_ORIG_FINANCE_ORDER_NET_list', 'OSP_KO_COUNT_NET_list',\n",
    "       'SCM_MASTER_AP_ID_list', 'CZP_ZTQ_ID',\n",
    "       'CZP_START_DATE', 'CZP_EXPIRY_DATE',\n",
    "       'PG3_AGGSALES', 'PG4_AGGSALES',\n",
    "       'BRAND_AGGSALES', 'SP_DISC', 'D28', 'D56', 'D84', 'D168',\n",
    "       'D252', 'D336']"
   ]
  },
  {
   "cell_type": "code",
   "execution_count": 23,
   "metadata": {
    "ExecuteTime": {
     "end_time": "2018-11-16T16:41:26.651180Z",
     "start_time": "2018-11-16T16:41:25.990180Z"
    },
    "hidden": true
   },
   "outputs": [],
   "source": [
    "customers['O_TIMEDELTAS'] = [[(i - j).days for i, j in list(zip(o_list[1:], o_list[:-1]))] \n",
    "                             for o_list in customers['TDT_T_KEY_ORDER_DATE_list'].values]"
   ]
  },
  {
   "cell_type": "code",
   "execution_count": 24,
   "metadata": {
    "ExecuteTime": {
     "end_time": "2018-11-16T16:41:30.889180Z",
     "start_time": "2018-11-16T16:41:29.937180Z"
    },
    "hidden": true
   },
   "outputs": [],
   "source": [
    "customers['FLAT_PG3_SALES'] = [[k for j in i for k in j] for i in customers['PG3_AGGSALES'].values]"
   ]
  },
  {
   "cell_type": "code",
   "execution_count": 25,
   "metadata": {
    "ExecuteTime": {
     "end_time": "2018-11-16T16:41:35.121180Z",
     "start_time": "2018-11-16T16:41:34.027180Z"
    },
    "hidden": true
   },
   "outputs": [],
   "source": [
    "customers['FLAT_PG4_SALES'] = [[k for j in i for k in j] for i in customers['PG4_AGGSALES'].values]"
   ]
  },
  {
   "cell_type": "code",
   "execution_count": 26,
   "metadata": {
    "ExecuteTime": {
     "end_time": "2018-11-16T16:41:39.310180Z",
     "start_time": "2018-11-16T16:41:38.309180Z"
    },
    "hidden": true
   },
   "outputs": [],
   "source": [
    "customers['FLAT_BRAND_SALES'] = [[k for j in i for k in j] for i in customers['BRAND_AGGSALES'].values]"
   ]
  },
  {
   "cell_type": "code",
   "execution_count": 27,
   "metadata": {
    "ExecuteTime": {
     "end_time": "2018-11-16T16:41:55.312180Z",
     "start_time": "2018-11-16T16:41:42.502180Z"
    },
    "hidden": true
   },
   "outputs": [],
   "source": [
    "customers['TOTAL_PG3_SALES'] = [sorted([(pg3, np.round(sum([sales_ for pg_3_, sales_ in i if pg3==pg_3_\n",
    "                                                        ]), 3)) \n",
    "                                for pg3 in set([pg_3 for pg_3, sales in i])], key= lambda x: x[1], reverse=True) \n",
    "                                for i in customers['FLAT_PG3_SALES']]"
   ]
  },
  {
   "cell_type": "code",
   "execution_count": 28,
   "metadata": {
    "ExecuteTime": {
     "end_time": "2018-11-16T16:42:18.734180Z",
     "start_time": "2018-11-16T16:41:58.679180Z"
    },
    "hidden": true
   },
   "outputs": [],
   "source": [
    "customers['TOTAL_PG4_SALES'] = [sorted([(pg4, np.round(sum([sales_ for pg_4_, sales_ in i if pg4==pg_4_\n",
    "                                                        ]), 3)) \n",
    "                                for pg4 in set([pg_4 for pg_4, sales in i])], key= lambda x: x[1], reverse=True) \n",
    "                                for i in customers['FLAT_PG4_SALES']]"
   ]
  },
  {
   "cell_type": "code",
   "execution_count": 29,
   "metadata": {
    "ExecuteTime": {
     "end_time": "2018-11-16T16:42:48.320180Z",
     "start_time": "2018-11-16T16:42:22.518180Z"
    },
    "hidden": true
   },
   "outputs": [],
   "source": [
    "customers['TOTAL_BRAND_SALES'] = [sorted([(brand_, np.round(sum([sales_ for brand__, sales_ in i if brand_== brand__\n",
    "                                                        ]), 3)) \n",
    "                                for brand_ in set([brand for brand, sales in i])], key= lambda x: x[1], reverse=True) \n",
    "                                for i in customers['FLAT_BRAND_SALES']]"
   ]
  },
  {
   "cell_type": "code",
   "execution_count": 30,
   "metadata": {
    "ExecuteTime": {
     "end_time": "2018-11-16T16:43:59.167180Z",
     "start_time": "2018-11-16T16:42:55.428180Z"
    },
    "hidden": true
   },
   "outputs": [],
   "source": [
    "customers.to_pickle(\"./customers_es_shop_sp_cross_selling.pkl\")"
   ]
  },
  {
   "cell_type": "code",
   "execution_count": 31,
   "metadata": {
    "ExecuteTime": {
     "end_time": "2018-11-16T16:44:09.570180Z",
     "start_time": "2018-11-16T16:44:09.476180Z"
    },
    "hidden": true
   },
   "outputs": [],
   "source": [
    "del customers['FLAT_PG3_SALES']"
   ]
  },
  {
   "cell_type": "code",
   "execution_count": 32,
   "metadata": {
    "ExecuteTime": {
     "end_time": "2018-11-16T16:44:13.386180Z",
     "start_time": "2018-11-16T16:44:13.307180Z"
    },
    "hidden": true
   },
   "outputs": [],
   "source": [
    "del customers['FLAT_PG4_SALES']"
   ]
  },
  {
   "cell_type": "code",
   "execution_count": 33,
   "metadata": {
    "ExecuteTime": {
     "end_time": "2018-11-16T16:44:17.111180Z",
     "start_time": "2018-11-16T16:44:17.028180Z"
    },
    "hidden": true
   },
   "outputs": [],
   "source": [
    "del customers['FLAT_BRAND_SALES']"
   ]
  },
  {
   "cell_type": "markdown",
   "metadata": {},
   "source": [
    "### Framework"
   ]
  },
  {
   "cell_type": "markdown",
   "metadata": {},
   "source": [
    "***SCENARIOS***\n",
    "\n",
    "+ **A.**\tCustomers that have a savingsplan and customers who do not have a savingsplan\n",
    "+ **B.**\tCustomers who have a savingsplan but did not have one for a while before and then compare those periods (As we want compare AOV and shares within other aspects, it would be better to request a minimum amount of orders with/without SP instead of fixing a time period, what will be done in Scenario A)."
   ]
  },
  {
   "cell_type": "code",
   "execution_count": 2,
   "metadata": {
    "ExecuteTime": {
     "end_time": "2018-11-21T18:44:18.721460Z",
     "start_time": "2018-11-21T18:43:59.618460Z"
    }
   },
   "outputs": [],
   "source": [
    "customers = pd.read_pickle(\"./customers_es_shop_sp_cross_selling.pkl\")"
   ]
  },
  {
   "cell_type": "code",
   "execution_count": 3,
   "metadata": {
    "ExecuteTime": {
     "end_time": "2018-11-21T18:44:18.755460Z",
     "start_time": "2018-11-21T18:44:18.722460Z"
    }
   },
   "outputs": [
    {
     "data": {
      "text/html": [
       "<div>\n",
       "<style scoped>\n",
       "    .dataframe tbody tr th:only-of-type {\n",
       "        vertical-align: middle;\n",
       "    }\n",
       "\n",
       "    .dataframe tbody tr th {\n",
       "        vertical-align: top;\n",
       "    }\n",
       "\n",
       "    .dataframe thead th {\n",
       "        text-align: right;\n",
       "    }\n",
       "</style>\n",
       "<table border=\"1\" class=\"dataframe\">\n",
       "  <thead>\n",
       "    <tr style=\"text-align: right;\">\n",
       "      <th></th>\n",
       "      <th>CUS_N_KEY_CUSTOMER</th>\n",
       "      <th>SCM_N_ORDER_NR_len</th>\n",
       "      <th>TDT_T_KEY_ORDER_DATE_list</th>\n",
       "      <th>SCM_SALES_BMF_sum</th>\n",
       "      <th>SCM_SALES_BMF_list</th>\n",
       "      <th>SCM_D_FINANCE_CM1_sum</th>\n",
       "      <th>SCM_D_FINANCE_CM1_list</th>\n",
       "      <th>SCM_D_FINANCE_CM2_sum</th>\n",
       "      <th>SCM_D_FINANCE_CM2_list</th>\n",
       "      <th>SCM_D_ORIG_FINANCE_ORDER_NET_sum</th>\n",
       "    </tr>\n",
       "  </thead>\n",
       "  <tbody>\n",
       "    <tr>\n",
       "      <th>0</th>\n",
       "      <td>72564</td>\n",
       "      <td>8</td>\n",
       "      <td>[2017-11-11, 2018-01-10, 2018-01-25, 2018-02-2...</td>\n",
       "      <td>1353.08</td>\n",
       "      <td>[300.04, 98.88, 151.59, 52.78, 100.69, 139.08,...</td>\n",
       "      <td>439.58</td>\n",
       "      <td>[115.37, 25.7, 53.08, 13.62, 36.58, 45.96, 59....</td>\n",
       "      <td>207.85</td>\n",
       "      <td>[64.95, 9.14, 20.89, 0.57, 16.51, 9.05, 30.87,...</td>\n",
       "      <td>1220.62</td>\n",
       "    </tr>\n",
       "    <tr>\n",
       "      <th>1</th>\n",
       "      <td>124777</td>\n",
       "      <td>1</td>\n",
       "      <td>[2018-08-04]</td>\n",
       "      <td>553.58</td>\n",
       "      <td>[553.58]</td>\n",
       "      <td>183.88</td>\n",
       "      <td>[183.88]</td>\n",
       "      <td>93.98</td>\n",
       "      <td>[93.98]</td>\n",
       "      <td>498.76</td>\n",
       "    </tr>\n",
       "    <tr>\n",
       "      <th>2</th>\n",
       "      <td>185605</td>\n",
       "      <td>1</td>\n",
       "      <td>[2017-10-26]</td>\n",
       "      <td>23.15</td>\n",
       "      <td>[23.15]</td>\n",
       "      <td>8.83</td>\n",
       "      <td>[8.83]</td>\n",
       "      <td>1.37</td>\n",
       "      <td>[1.37]</td>\n",
       "      <td>19.13</td>\n",
       "    </tr>\n",
       "    <tr>\n",
       "      <th>3</th>\n",
       "      <td>198539</td>\n",
       "      <td>5</td>\n",
       "      <td>[2018-02-07, 2018-04-06, 2018-04-22, 2018-05-2...</td>\n",
       "      <td>354.00</td>\n",
       "      <td>[142.4, 67.32, 50.73, 49.48, 44.07]</td>\n",
       "      <td>122.65</td>\n",
       "      <td>[36.26, 25.76, 18.68, 21.55, 20.41]</td>\n",
       "      <td>-7.51</td>\n",
       "      <td>[-0.99, -8.62, 1.5, 3.07, -2.48]</td>\n",
       "      <td>339.11</td>\n",
       "    </tr>\n",
       "    <tr>\n",
       "      <th>4</th>\n",
       "      <td>245530</td>\n",
       "      <td>1</td>\n",
       "      <td>[2017-11-17]</td>\n",
       "      <td>85.44</td>\n",
       "      <td>[85.44]</td>\n",
       "      <td>24.39</td>\n",
       "      <td>[24.39]</td>\n",
       "      <td>8.46</td>\n",
       "      <td>[8.46]</td>\n",
       "      <td>77.67</td>\n",
       "    </tr>\n",
       "    <tr>\n",
       "      <th>5</th>\n",
       "      <td>246884</td>\n",
       "      <td>1</td>\n",
       "      <td>[2018-08-04]</td>\n",
       "      <td>102.99</td>\n",
       "      <td>[102.99]</td>\n",
       "      <td>38.84</td>\n",
       "      <td>[38.84]</td>\n",
       "      <td>-5.82</td>\n",
       "      <td>[-5.82]</td>\n",
       "      <td>99.88</td>\n",
       "    </tr>\n",
       "    <tr>\n",
       "      <th>6</th>\n",
       "      <td>254564</td>\n",
       "      <td>2</td>\n",
       "      <td>[2017-12-12, 2018-09-07]</td>\n",
       "      <td>136.17</td>\n",
       "      <td>[46.47, 89.7]</td>\n",
       "      <td>26.21</td>\n",
       "      <td>[7.97, 18.25]</td>\n",
       "      <td>9.80</td>\n",
       "      <td>[-0.16, 9.96]</td>\n",
       "      <td>123.79</td>\n",
       "    </tr>\n",
       "    <tr>\n",
       "      <th>7</th>\n",
       "      <td>266476</td>\n",
       "      <td>23</td>\n",
       "      <td>[2017-10-16, 2017-10-22, 2017-10-31, 2017-11-2...</td>\n",
       "      <td>4051.89</td>\n",
       "      <td>[262.67, 125.35, 104.31, 211.46, 91.26, 146.57...</td>\n",
       "      <td>911.80</td>\n",
       "      <td>[65.57, 36.69, 28.71, 47.09, 25.66, 28.73, 40....</td>\n",
       "      <td>146.19</td>\n",
       "      <td>[-3.64, 19.23, 0.59, 3.08, 14.75, 9.28, 2.57, ...</td>\n",
       "      <td>3573.83</td>\n",
       "    </tr>\n",
       "    <tr>\n",
       "      <th>8</th>\n",
       "      <td>270025</td>\n",
       "      <td>1</td>\n",
       "      <td>[2017-11-30]</td>\n",
       "      <td>98.17</td>\n",
       "      <td>[98.17]</td>\n",
       "      <td>1.89</td>\n",
       "      <td>[1.89]</td>\n",
       "      <td>-5.31</td>\n",
       "      <td>[-5.31]</td>\n",
       "      <td>81.81</td>\n",
       "    </tr>\n",
       "    <tr>\n",
       "      <th>9</th>\n",
       "      <td>292607</td>\n",
       "      <td>2</td>\n",
       "      <td>[2018-03-25, 2018-03-29]</td>\n",
       "      <td>128.96</td>\n",
       "      <td>[70.78, 58.18]</td>\n",
       "      <td>26.99</td>\n",
       "      <td>[9.44, 17.55]</td>\n",
       "      <td>14.15</td>\n",
       "      <td>[3.32, 10.83]</td>\n",
       "      <td>117.00</td>\n",
       "    </tr>\n",
       "  </tbody>\n",
       "</table>\n",
       "</div>"
      ],
      "text/plain": [
       "   CUS_N_KEY_CUSTOMER  SCM_N_ORDER_NR_len  \\\n",
       "0               72564                   8   \n",
       "1              124777                   1   \n",
       "2              185605                   1   \n",
       "3              198539                   5   \n",
       "4              245530                   1   \n",
       "5              246884                   1   \n",
       "6              254564                   2   \n",
       "7              266476                  23   \n",
       "8              270025                   1   \n",
       "9              292607                   2   \n",
       "\n",
       "                           TDT_T_KEY_ORDER_DATE_list  SCM_SALES_BMF_sum  \\\n",
       "0  [2017-11-11, 2018-01-10, 2018-01-25, 2018-02-2...            1353.08   \n",
       "1                                       [2018-08-04]             553.58   \n",
       "2                                       [2017-10-26]              23.15   \n",
       "3  [2018-02-07, 2018-04-06, 2018-04-22, 2018-05-2...             354.00   \n",
       "4                                       [2017-11-17]              85.44   \n",
       "5                                       [2018-08-04]             102.99   \n",
       "6                           [2017-12-12, 2018-09-07]             136.17   \n",
       "7  [2017-10-16, 2017-10-22, 2017-10-31, 2017-11-2...            4051.89   \n",
       "8                                       [2017-11-30]              98.17   \n",
       "9                           [2018-03-25, 2018-03-29]             128.96   \n",
       "\n",
       "                                  SCM_SALES_BMF_list  SCM_D_FINANCE_CM1_sum  \\\n",
       "0  [300.04, 98.88, 151.59, 52.78, 100.69, 139.08,...                 439.58   \n",
       "1                                           [553.58]                 183.88   \n",
       "2                                            [23.15]                   8.83   \n",
       "3                [142.4, 67.32, 50.73, 49.48, 44.07]                 122.65   \n",
       "4                                            [85.44]                  24.39   \n",
       "5                                           [102.99]                  38.84   \n",
       "6                                      [46.47, 89.7]                  26.21   \n",
       "7  [262.67, 125.35, 104.31, 211.46, 91.26, 146.57...                 911.80   \n",
       "8                                            [98.17]                   1.89   \n",
       "9                                     [70.78, 58.18]                  26.99   \n",
       "\n",
       "                              SCM_D_FINANCE_CM1_list  SCM_D_FINANCE_CM2_sum  \\\n",
       "0  [115.37, 25.7, 53.08, 13.62, 36.58, 45.96, 59....                 207.85   \n",
       "1                                           [183.88]                  93.98   \n",
       "2                                             [8.83]                   1.37   \n",
       "3                [36.26, 25.76, 18.68, 21.55, 20.41]                  -7.51   \n",
       "4                                            [24.39]                   8.46   \n",
       "5                                            [38.84]                  -5.82   \n",
       "6                                      [7.97, 18.25]                   9.80   \n",
       "7  [65.57, 36.69, 28.71, 47.09, 25.66, 28.73, 40....                 146.19   \n",
       "8                                             [1.89]                  -5.31   \n",
       "9                                      [9.44, 17.55]                  14.15   \n",
       "\n",
       "                              SCM_D_FINANCE_CM2_list  \\\n",
       "0  [64.95, 9.14, 20.89, 0.57, 16.51, 9.05, 30.87,...   \n",
       "1                                            [93.98]   \n",
       "2                                             [1.37]   \n",
       "3                   [-0.99, -8.62, 1.5, 3.07, -2.48]   \n",
       "4                                             [8.46]   \n",
       "5                                            [-5.82]   \n",
       "6                                      [-0.16, 9.96]   \n",
       "7  [-3.64, 19.23, 0.59, 3.08, 14.75, 9.28, 2.57, ...   \n",
       "8                                            [-5.31]   \n",
       "9                                      [3.32, 10.83]   \n",
       "\n",
       "   SCM_D_ORIG_FINANCE_ORDER_NET_sum  \n",
       "0                           1220.62  \n",
       "1                            498.76  \n",
       "2                             19.13  \n",
       "3                            339.11  \n",
       "4                             77.67  \n",
       "5                             99.88  \n",
       "6                            123.79  \n",
       "7                           3573.83  \n",
       "8                             81.81  \n",
       "9                            117.00  "
      ]
     },
     "execution_count": 3,
     "metadata": {},
     "output_type": "execute_result"
    }
   ],
   "source": [
    "customers.head(10)[customers.columns[:10]]"
   ]
  },
  {
   "cell_type": "code",
   "execution_count": 4,
   "metadata": {
    "ExecuteTime": {
     "end_time": "2018-11-21T18:44:18.923460Z",
     "start_time": "2018-11-21T18:44:18.757460Z"
    }
   },
   "outputs": [
    {
     "data": {
      "text/html": [
       "<div>\n",
       "<style scoped>\n",
       "    .dataframe tbody tr th:only-of-type {\n",
       "        vertical-align: middle;\n",
       "    }\n",
       "\n",
       "    .dataframe tbody tr th {\n",
       "        vertical-align: top;\n",
       "    }\n",
       "\n",
       "    .dataframe thead th {\n",
       "        text-align: right;\n",
       "    }\n",
       "</style>\n",
       "<table border=\"1\" class=\"dataframe\">\n",
       "  <thead>\n",
       "    <tr style=\"text-align: right;\">\n",
       "      <th></th>\n",
       "      <th>SCM_D_ORIG_FINANCE_ORDER_NET_list</th>\n",
       "      <th>OSP_KO_COUNT_NET_list</th>\n",
       "      <th>SCM_MASTER_AP_ID_list</th>\n",
       "      <th>CZP_ZTQ_ID</th>\n",
       "      <th>CZP_START_DATE</th>\n",
       "      <th>CZP_EXPIRY_DATE</th>\n",
       "      <th>PG3_AGGSALES</th>\n",
       "      <th>PG4_AGGSALES</th>\n",
       "      <th>BRAND_AGGSALES</th>\n",
       "    </tr>\n",
       "  </thead>\n",
       "  <tbody>\n",
       "    <tr>\n",
       "      <th>0</th>\n",
       "      <td>[272.76, 89.89, 137.81, 47.98, 91.06, 122.59, ...</td>\n",
       "      <td>[68, 69, 70, 71, 72, 73, 74, 75]</td>\n",
       "      <td>[[50173, 69102, 69102, 69102, 69102, 42715, 45...</td>\n",
       "      <td>[51.0, 52.0]</td>\n",
       "      <td>[2018-04-10, 2017-04-23]</td>\n",
       "      <td>[2018-04-10, 2021-04-10]</td>\n",
       "      <td>[[(252, 182.95), (2068, 118.39), (34, 7.99), (...</td>\n",
       "      <td>[[(3641, 169.96), (2071, 35.99), (248782, 23.9...</td>\n",
       "      <td>[[(★ Smilla, 169.96), (Felix, 35.99), (★ Conce...</td>\n",
       "    </tr>\n",
       "    <tr>\n",
       "      <th>1</th>\n",
       "      <td>[498.76]</td>\n",
       "      <td>[13]</td>\n",
       "      <td>[[70868, 64800, 65558, 52750, 28056, 81066, 55...</td>\n",
       "      <td>[nan]</td>\n",
       "      <td>[nan]</td>\n",
       "      <td>[nan]</td>\n",
       "      <td>[[(857, 134.94), (2068, 107.96), (252, 77.97),...</td>\n",
       "      <td>[[(10728, 107.96), (314, 77.97), (14463, 74.97...</td>\n",
       "      <td>[[(Whiskas, 205.91), (★ Lukullus Naturkost, 12...</td>\n",
       "    </tr>\n",
       "    <tr>\n",
       "      <th>2</th>\n",
       "      <td>[19.13]</td>\n",
       "      <td>[46]</td>\n",
       "      <td>[[65187, 6168, 54350, 62808, 66600]]</td>\n",
       "      <td>[nan]</td>\n",
       "      <td>[nan]</td>\n",
       "      <td>[nan]</td>\n",
       "      <td>[[(18, 11.18), (409, 7.98), (0, 3.99), (251, 0...</td>\n",
       "      <td>[[(1306, 11.18), (413, 4.99), (0, 3.99), (2613...</td>\n",
       "      <td>[[(vom Geflügel, 11.18), (Shampoo &amp; Fellpflege...</td>\n",
       "    </tr>\n",
       "    <tr>\n",
       "      <th>3</th>\n",
       "      <td>[137.74, 64.09, 49.25, 46.85, 41.19]</td>\n",
       "      <td>[94, 95, 96, 97, 102]</td>\n",
       "      <td>[[18136, 18132, 18132, 77023, 42715], [6168, 5...</td>\n",
       "      <td>[52.0]</td>\n",
       "      <td>[2015-12-06]</td>\n",
       "      <td>[2018-12-11]</td>\n",
       "      <td>[[(2068, 134.91), (301, 14.99), (0, -7.5)], [(...</td>\n",
       "      <td>[[(17871, 134.91), (818, 14.99), (0, -7.5)], [...</td>\n",
       "      <td>[[(Porta 21, 134.91), (Intersand Extreme Class...</td>\n",
       "    </tr>\n",
       "    <tr>\n",
       "      <th>4</th>\n",
       "      <td>[77.67]</td>\n",
       "      <td>[43]</td>\n",
       "      <td>[[71892, 42715, 71893, 71893]]</td>\n",
       "      <td>[52.0]</td>\n",
       "      <td>[2016-11-22]</td>\n",
       "      <td>[2019-11-22]</td>\n",
       "      <td>[[(857, 89.94), (0, -4.5)]]</td>\n",
       "      <td>[[(2718, 89.94), (0, -4.5)]]</td>\n",
       "      <td>[[(Animonda Integra, 89.94), (nan, 0)]]</td>\n",
       "    </tr>\n",
       "    <tr>\n",
       "      <th>5</th>\n",
       "      <td>[99.88]</td>\n",
       "      <td>[9]</td>\n",
       "      <td>[[81456, 81456, 42715, 6168, 42225]]</td>\n",
       "      <td>[51.0]</td>\n",
       "      <td>[2018-08-04]</td>\n",
       "      <td>[2019-08-04]</td>\n",
       "      <td>[[(251, 95.98), (0, 4.02), (48963, 2.99)]]</td>\n",
       "      <td>[[(149697, 95.98), (0, 7.01)]]</td>\n",
       "      <td>[[(Libra, 95.98), (unknown, 2.99), (nan, 0), (...</td>\n",
       "    </tr>\n",
       "    <tr>\n",
       "      <th>6</th>\n",
       "      <td>[42.25, 81.55]</td>\n",
       "      <td>[39, 45]</td>\n",
       "      <td>[[24527, 8277, 42715], [8277, 24527, 42715]]</td>\n",
       "      <td>[53.0]</td>\n",
       "      <td>[2017-03-01, 2018-03-09]</td>\n",
       "      <td>[2019-03-09, 2018-03-01]</td>\n",
       "      <td>[[(857, 31.99), (18, 17.98), (0, -3.5)], [(857...</td>\n",
       "      <td>[[(3314, 31.99), (394, 17.98), (0, -3.5)], [(3...</td>\n",
       "      <td>[[(Terra Canis, 31.99), (Zahnpflege Snacks, 17...</td>\n",
       "    </tr>\n",
       "    <tr>\n",
       "      <th>7</th>\n",
       "      <td>[227.79, 110.25, 91.11, 185.55, 80.74, 121.13,...</td>\n",
       "      <td>[271, 272, 273, 274, 275, 276, 277, 278, 279, ...</td>\n",
       "      <td>[[17543, 52846, 60593, 23843, 71391, 5482, 175...</td>\n",
       "      <td>[nan, nan, nan, nan, nan, nan, nan, nan, nan, ...</td>\n",
       "      <td>[nan]</td>\n",
       "      <td>[nan]</td>\n",
       "      <td>[[(2068, 143.92), (301, 95.96), (29, 51.98), (...</td>\n",
       "      <td>[[(2632, 95.96), (3243, 95.96), (128, 51.98), ...</td>\n",
       "      <td>[[(Golden Grey / Golden, 95.96), (★ Cosma, 95....</td>\n",
       "    </tr>\n",
       "    <tr>\n",
       "      <th>8</th>\n",
       "      <td>[81.81]</td>\n",
       "      <td>[87]</td>\n",
       "      <td>[[6168, 64669, 42715]]</td>\n",
       "      <td>[52.0]</td>\n",
       "      <td>[2017-04-08]</td>\n",
       "      <td>[2020-04-08]</td>\n",
       "      <td>[[(2068, 92.97), (0, 5.2)]]</td>\n",
       "      <td>[[(39209, 92.97), (0, 5.2)]]</td>\n",
       "      <td>[[(Hill's Prescription Diet, 92.97), (nan, 0),...</td>\n",
       "    </tr>\n",
       "    <tr>\n",
       "      <th>9</th>\n",
       "      <td>[64.11, 52.89]</td>\n",
       "      <td>[130, 133]</td>\n",
       "      <td>[[20886, 42225, 20886, 68468, 42715, 68469, 20...</td>\n",
       "      <td>[51.0]</td>\n",
       "      <td>[2018-03-25]</td>\n",
       "      <td>[2019-03-25]</td>\n",
       "      <td>[[(207553, 69.98), (48963, 2.99), (2430, 0.0),...</td>\n",
       "      <td>[[(207617, 69.98), (0, 0.8), (9272, 0.0)], [(2...</td>\n",
       "      <td>[[(Spot-On, 69.98), (unknown, 2.99), (nan, 0),...</td>\n",
       "    </tr>\n",
       "  </tbody>\n",
       "</table>\n",
       "</div>"
      ],
      "text/plain": [
       "                   SCM_D_ORIG_FINANCE_ORDER_NET_list  \\\n",
       "0  [272.76, 89.89, 137.81, 47.98, 91.06, 122.59, ...   \n",
       "1                                           [498.76]   \n",
       "2                                            [19.13]   \n",
       "3               [137.74, 64.09, 49.25, 46.85, 41.19]   \n",
       "4                                            [77.67]   \n",
       "5                                            [99.88]   \n",
       "6                                     [42.25, 81.55]   \n",
       "7  [227.79, 110.25, 91.11, 185.55, 80.74, 121.13,...   \n",
       "8                                            [81.81]   \n",
       "9                                     [64.11, 52.89]   \n",
       "\n",
       "                               OSP_KO_COUNT_NET_list  \\\n",
       "0                   [68, 69, 70, 71, 72, 73, 74, 75]   \n",
       "1                                               [13]   \n",
       "2                                               [46]   \n",
       "3                              [94, 95, 96, 97, 102]   \n",
       "4                                               [43]   \n",
       "5                                                [9]   \n",
       "6                                           [39, 45]   \n",
       "7  [271, 272, 273, 274, 275, 276, 277, 278, 279, ...   \n",
       "8                                               [87]   \n",
       "9                                         [130, 133]   \n",
       "\n",
       "                               SCM_MASTER_AP_ID_list  \\\n",
       "0  [[50173, 69102, 69102, 69102, 69102, 42715, 45...   \n",
       "1  [[70868, 64800, 65558, 52750, 28056, 81066, 55...   \n",
       "2               [[65187, 6168, 54350, 62808, 66600]]   \n",
       "3  [[18136, 18132, 18132, 77023, 42715], [6168, 5...   \n",
       "4                     [[71892, 42715, 71893, 71893]]   \n",
       "5               [[81456, 81456, 42715, 6168, 42225]]   \n",
       "6       [[24527, 8277, 42715], [8277, 24527, 42715]]   \n",
       "7  [[17543, 52846, 60593, 23843, 71391, 5482, 175...   \n",
       "8                             [[6168, 64669, 42715]]   \n",
       "9  [[20886, 42225, 20886, 68468, 42715, 68469, 20...   \n",
       "\n",
       "                                          CZP_ZTQ_ID  \\\n",
       "0                                       [51.0, 52.0]   \n",
       "1                                              [nan]   \n",
       "2                                              [nan]   \n",
       "3                                             [52.0]   \n",
       "4                                             [52.0]   \n",
       "5                                             [51.0]   \n",
       "6                                             [53.0]   \n",
       "7  [nan, nan, nan, nan, nan, nan, nan, nan, nan, ...   \n",
       "8                                             [52.0]   \n",
       "9                                             [51.0]   \n",
       "\n",
       "             CZP_START_DATE           CZP_EXPIRY_DATE  \\\n",
       "0  [2018-04-10, 2017-04-23]  [2018-04-10, 2021-04-10]   \n",
       "1                     [nan]                     [nan]   \n",
       "2                     [nan]                     [nan]   \n",
       "3              [2015-12-06]              [2018-12-11]   \n",
       "4              [2016-11-22]              [2019-11-22]   \n",
       "5              [2018-08-04]              [2019-08-04]   \n",
       "6  [2017-03-01, 2018-03-09]  [2019-03-09, 2018-03-01]   \n",
       "7                     [nan]                     [nan]   \n",
       "8              [2017-04-08]              [2020-04-08]   \n",
       "9              [2018-03-25]              [2019-03-25]   \n",
       "\n",
       "                                        PG3_AGGSALES  \\\n",
       "0  [[(252, 182.95), (2068, 118.39), (34, 7.99), (...   \n",
       "1  [[(857, 134.94), (2068, 107.96), (252, 77.97),...   \n",
       "2  [[(18, 11.18), (409, 7.98), (0, 3.99), (251, 0...   \n",
       "3  [[(2068, 134.91), (301, 14.99), (0, -7.5)], [(...   \n",
       "4                        [[(857, 89.94), (0, -4.5)]]   \n",
       "5         [[(251, 95.98), (0, 4.02), (48963, 2.99)]]   \n",
       "6  [[(857, 31.99), (18, 17.98), (0, -3.5)], [(857...   \n",
       "7  [[(2068, 143.92), (301, 95.96), (29, 51.98), (...   \n",
       "8                        [[(2068, 92.97), (0, 5.2)]]   \n",
       "9  [[(207553, 69.98), (48963, 2.99), (2430, 0.0),...   \n",
       "\n",
       "                                        PG4_AGGSALES  \\\n",
       "0  [[(3641, 169.96), (2071, 35.99), (248782, 23.9...   \n",
       "1  [[(10728, 107.96), (314, 77.97), (14463, 74.97...   \n",
       "2  [[(1306, 11.18), (413, 4.99), (0, 3.99), (2613...   \n",
       "3  [[(17871, 134.91), (818, 14.99), (0, -7.5)], [...   \n",
       "4                       [[(2718, 89.94), (0, -4.5)]]   \n",
       "5                     [[(149697, 95.98), (0, 7.01)]]   \n",
       "6  [[(3314, 31.99), (394, 17.98), (0, -3.5)], [(3...   \n",
       "7  [[(2632, 95.96), (3243, 95.96), (128, 51.98), ...   \n",
       "8                       [[(39209, 92.97), (0, 5.2)]]   \n",
       "9  [[(207617, 69.98), (0, 0.8), (9272, 0.0)], [(2...   \n",
       "\n",
       "                                      BRAND_AGGSALES  \n",
       "0  [[(★ Smilla, 169.96), (Felix, 35.99), (★ Conce...  \n",
       "1  [[(Whiskas, 205.91), (★ Lukullus Naturkost, 12...  \n",
       "2  [[(vom Geflügel, 11.18), (Shampoo & Fellpflege...  \n",
       "3  [[(Porta 21, 134.91), (Intersand Extreme Class...  \n",
       "4            [[(Animonda Integra, 89.94), (nan, 0)]]  \n",
       "5  [[(Libra, 95.98), (unknown, 2.99), (nan, 0), (...  \n",
       "6  [[(Terra Canis, 31.99), (Zahnpflege Snacks, 17...  \n",
       "7  [[(Golden Grey / Golden, 95.96), (★ Cosma, 95....  \n",
       "8  [[(Hill's Prescription Diet, 92.97), (nan, 0),...  \n",
       "9  [[(Spot-On, 69.98), (unknown, 2.99), (nan, 0),...  "
      ]
     },
     "execution_count": 4,
     "metadata": {},
     "output_type": "execute_result"
    }
   ],
   "source": [
    "customers.head(10)[customers.columns[10:19]]"
   ]
  },
  {
   "cell_type": "code",
   "execution_count": 5,
   "metadata": {
    "ExecuteTime": {
     "end_time": "2018-11-21T18:44:19.130460Z",
     "start_time": "2018-11-21T18:44:18.924460Z"
    }
   },
   "outputs": [
    {
     "data": {
      "text/html": [
       "<div>\n",
       "<style scoped>\n",
       "    .dataframe tbody tr th:only-of-type {\n",
       "        vertical-align: middle;\n",
       "    }\n",
       "\n",
       "    .dataframe tbody tr th {\n",
       "        vertical-align: top;\n",
       "    }\n",
       "\n",
       "    .dataframe thead th {\n",
       "        text-align: right;\n",
       "    }\n",
       "</style>\n",
       "<table border=\"1\" class=\"dataframe\">\n",
       "  <thead>\n",
       "    <tr style=\"text-align: right;\">\n",
       "      <th></th>\n",
       "      <th>SP_DISC</th>\n",
       "      <th>D28</th>\n",
       "      <th>D56</th>\n",
       "      <th>D84</th>\n",
       "      <th>D168</th>\n",
       "      <th>D252</th>\n",
       "      <th>D336</th>\n",
       "      <th>O_TIMEDELTAS</th>\n",
       "      <th>FLAT_PG3_SALES</th>\n",
       "      <th>FLAT_PG4_SALES</th>\n",
       "      <th>FLAT_BRAND_SALES</th>\n",
       "      <th>TOTAL_PG3_SALES</th>\n",
       "      <th>TOTAL_PG4_SALES</th>\n",
       "      <th>TOTAL_BRAND_SALES</th>\n",
       "    </tr>\n",
       "  </thead>\n",
       "  <tbody>\n",
       "    <tr>\n",
       "      <th>0</th>\n",
       "      <td>[True, True, True, True, True, True, True, True]</td>\n",
       "      <td>2017-12-09</td>\n",
       "      <td>2018-01-06</td>\n",
       "      <td>2018-02-03</td>\n",
       "      <td>2018-04-28</td>\n",
       "      <td>2018-07-21</td>\n",
       "      <td>2018-10-13</td>\n",
       "      <td>[60, 15, 26, 49, 29, 50, 62]</td>\n",
       "      <td>[(252, 182.95), (2068, 118.39), (34, 7.99), (0...</td>\n",
       "      <td>[(3641, 169.96), (2071, 35.99), (248782, 23.96...</td>\n",
       "      <td>[(★ Smilla, 169.96), (Felix, 35.99), (★ Concep...</td>\n",
       "      <td>[(252, 658.59), (2068, 437.57), (207553, 127.9...</td>\n",
       "      <td>[(3641, 564.26), (207615, 127.92), (2071, 109....</td>\n",
       "      <td>[(★ Smilla, 597.25), (Halsband, 127.92), (Feli...</td>\n",
       "    </tr>\n",
       "    <tr>\n",
       "      <th>1</th>\n",
       "      <td>[False]</td>\n",
       "      <td>2018-09-01</td>\n",
       "      <td>2018-09-29</td>\n",
       "      <td>2018-10-27</td>\n",
       "      <td>2019-01-19</td>\n",
       "      <td>2019-04-13</td>\n",
       "      <td>2019-07-06</td>\n",
       "      <td>[]</td>\n",
       "      <td>[(857, 134.94), (2068, 107.96), (252, 77.97), ...</td>\n",
       "      <td>[(10728, 107.96), (314, 77.97), (14463, 74.97)...</td>\n",
       "      <td>[(Whiskas, 205.91), (★ Lukullus Naturkost, 122...</td>\n",
       "      <td>[(857, 134.94), (2068, 107.96), (252, 77.97), ...</td>\n",
       "      <td>[(10728, 107.96), (314, 77.97), (14463, 74.97)...</td>\n",
       "      <td>[(Whiskas, 205.91), (★ Lukullus Naturkost, 122...</td>\n",
       "    </tr>\n",
       "    <tr>\n",
       "      <th>2</th>\n",
       "      <td>[False]</td>\n",
       "      <td>2017-11-23</td>\n",
       "      <td>2017-12-21</td>\n",
       "      <td>2018-01-18</td>\n",
       "      <td>2018-04-12</td>\n",
       "      <td>2018-07-05</td>\n",
       "      <td>2018-09-27</td>\n",
       "      <td>[]</td>\n",
       "      <td>[(18, 11.18), (409, 7.98), (0, 3.99), (251, 0.0)]</td>\n",
       "      <td>[(1306, 11.18), (413, 4.99), (0, 3.99), (2613,...</td>\n",
       "      <td>[(vom Geflügel, 11.18), (Shampoo &amp; Fellpflege,...</td>\n",
       "      <td>[(18, 11.18), (409, 7.98), (0, 3.99), (251, 0.0)]</td>\n",
       "      <td>[(1306, 11.18), (413, 4.99), (0, 3.99), (2613,...</td>\n",
       "      <td>[(vom Geflügel, 11.18), (Shampoo &amp; Fellpflege,...</td>\n",
       "    </tr>\n",
       "    <tr>\n",
       "      <th>3</th>\n",
       "      <td>[True, True, True, True, True]</td>\n",
       "      <td>2018-03-07</td>\n",
       "      <td>2018-04-04</td>\n",
       "      <td>2018-05-02</td>\n",
       "      <td>2018-07-25</td>\n",
       "      <td>2018-10-17</td>\n",
       "      <td>2019-01-09</td>\n",
       "      <td>[58, 16, 29, 128]</td>\n",
       "      <td>[(2068, 134.91), (301, 14.99), (0, -7.5), (206...</td>\n",
       "      <td>[(17871, 134.91), (818, 14.99), (0, -7.5), (81...</td>\n",
       "      <td>[(Porta 21, 134.91), (Intersand Extreme Classi...</td>\n",
       "      <td>[(2068, 179.57), (301, 103.95), (252, 44.99), ...</td>\n",
       "      <td>[(17871, 164.89), (818, 103.95), (720, 44.99),...</td>\n",
       "      <td>[(Porta 21, 164.89), (Intersand Extreme Classi...</td>\n",
       "    </tr>\n",
       "    <tr>\n",
       "      <th>4</th>\n",
       "      <td>[True]</td>\n",
       "      <td>2017-12-15</td>\n",
       "      <td>2018-01-12</td>\n",
       "      <td>2018-02-09</td>\n",
       "      <td>2018-05-04</td>\n",
       "      <td>2018-07-27</td>\n",
       "      <td>2018-10-19</td>\n",
       "      <td>[]</td>\n",
       "      <td>[(857, 89.94), (0, -4.5)]</td>\n",
       "      <td>[(2718, 89.94), (0, -4.5)]</td>\n",
       "      <td>[(Animonda Integra, 89.94), (nan, 0)]</td>\n",
       "      <td>[(857, 89.94), (0, -4.5)]</td>\n",
       "      <td>[(2718, 89.94), (0, -4.5)]</td>\n",
       "      <td>[(Animonda Integra, 89.94), (nan, 0)]</td>\n",
       "    </tr>\n",
       "    <tr>\n",
       "      <th>5</th>\n",
       "      <td>[True]</td>\n",
       "      <td>2018-09-01</td>\n",
       "      <td>2018-09-29</td>\n",
       "      <td>2018-10-27</td>\n",
       "      <td>2019-01-19</td>\n",
       "      <td>2019-04-13</td>\n",
       "      <td>2019-07-06</td>\n",
       "      <td>[]</td>\n",
       "      <td>[(251, 95.98), (0, 4.02), (48963, 2.99)]</td>\n",
       "      <td>[(149697, 95.98), (0, 7.01)]</td>\n",
       "      <td>[(Libra, 95.98), (unknown, 2.99), (nan, 0), (n...</td>\n",
       "      <td>[(251, 95.98), (0, 4.02), (48963, 2.99)]</td>\n",
       "      <td>[(149697, 95.98), (0, 7.01)]</td>\n",
       "      <td>[(Libra, 95.98), (unknown, 2.99), (nan, 0), (n...</td>\n",
       "    </tr>\n",
       "    <tr>\n",
       "      <th>6</th>\n",
       "      <td>[True, True]</td>\n",
       "      <td>2018-01-09</td>\n",
       "      <td>2018-02-06</td>\n",
       "      <td>2018-03-06</td>\n",
       "      <td>2018-05-29</td>\n",
       "      <td>2018-08-21</td>\n",
       "      <td>2018-11-13</td>\n",
       "      <td>[269]</td>\n",
       "      <td>[(857, 31.99), (18, 17.98), (0, -3.5), (857, 6...</td>\n",
       "      <td>[(3314, 31.99), (394, 17.98), (0, -3.5), (3314...</td>\n",
       "      <td>[(Terra Canis, 31.99), (Zahnpflege Snacks, 17....</td>\n",
       "      <td>[(857, 99.97), (18, 46.45), (0, -10.25)]</td>\n",
       "      <td>[(3314, 99.97), (394, 46.45), (0, -10.25)]</td>\n",
       "      <td>[(Terra Canis, 99.97), (Zahnpflege Snacks, 46....</td>\n",
       "    </tr>\n",
       "    <tr>\n",
       "      <th>7</th>\n",
       "      <td>[False, False, False, False, False, False, Fal...</td>\n",
       "      <td>2017-11-13</td>\n",
       "      <td>2017-12-11</td>\n",
       "      <td>2018-01-08</td>\n",
       "      <td>2018-04-02</td>\n",
       "      <td>2018-06-25</td>\n",
       "      <td>2018-09-17</td>\n",
       "      <td>[6, 9, 21, 4, 13, 13, 11, 27, 15, 8, 7, 19, 14...</td>\n",
       "      <td>[(2068, 143.92), (301, 95.96), (29, 51.98), (0...</td>\n",
       "      <td>[(2632, 95.96), (3243, 95.96), (128, 51.98), (...</td>\n",
       "      <td>[(Golden Grey / Golden, 95.96), (★ Cosma, 95.9...</td>\n",
       "      <td>[(2068, 2527.63), (301, 909.27), (252, 451.2),...</td>\n",
       "      <td>[(2632, 1481.55), (3243, 909.27), (2137, 522.6...</td>\n",
       "      <td>[(★ Cosma, 1481.55), (Golden Grey / Golden, 90...</td>\n",
       "    </tr>\n",
       "    <tr>\n",
       "      <th>8</th>\n",
       "      <td>[True]</td>\n",
       "      <td>2017-12-28</td>\n",
       "      <td>2018-01-25</td>\n",
       "      <td>2018-02-22</td>\n",
       "      <td>2018-05-17</td>\n",
       "      <td>2018-08-09</td>\n",
       "      <td>2018-11-01</td>\n",
       "      <td>[]</td>\n",
       "      <td>[(2068, 92.97), (0, 5.2)]</td>\n",
       "      <td>[(39209, 92.97), (0, 5.2)]</td>\n",
       "      <td>[(Hill's Prescription Diet, 92.97), (nan, 0), ...</td>\n",
       "      <td>[(2068, 92.97), (0, 5.2)]</td>\n",
       "      <td>[(39209, 92.97), (0, 5.2)]</td>\n",
       "      <td>[(Hill's Prescription Diet, 92.97), (nan, 0), ...</td>\n",
       "    </tr>\n",
       "    <tr>\n",
       "      <th>9</th>\n",
       "      <td>[True, True]</td>\n",
       "      <td>2018-04-22</td>\n",
       "      <td>2018-05-20</td>\n",
       "      <td>2018-06-17</td>\n",
       "      <td>2018-09-09</td>\n",
       "      <td>2018-12-02</td>\n",
       "      <td>2019-02-24</td>\n",
       "      <td>[4]</td>\n",
       "      <td>[(207553, 69.98), (48963, 2.99), (2430, 0.0), ...</td>\n",
       "      <td>[(207617, 69.98), (0, 0.8), (9272, 0.0), (2204...</td>\n",
       "      <td>[(Spot-On, 69.98), (unknown, 2.99), (nan, 0), ...</td>\n",
       "      <td>[(207553, 69.98), (1400, 59.98), (48963, 2.99)...</td>\n",
       "      <td>[(207617, 69.98), (2204, 59.98), (9272, 0.0), ...</td>\n",
       "      <td>[(Spot-On, 69.98), (Aktiv &amp; Fit, 59.98), (unkn...</td>\n",
       "    </tr>\n",
       "  </tbody>\n",
       "</table>\n",
       "</div>"
      ],
      "text/plain": [
       "                                             SP_DISC        D28        D56  \\\n",
       "0   [True, True, True, True, True, True, True, True] 2017-12-09 2018-01-06   \n",
       "1                                            [False] 2018-09-01 2018-09-29   \n",
       "2                                            [False] 2017-11-23 2017-12-21   \n",
       "3                     [True, True, True, True, True] 2018-03-07 2018-04-04   \n",
       "4                                             [True] 2017-12-15 2018-01-12   \n",
       "5                                             [True] 2018-09-01 2018-09-29   \n",
       "6                                       [True, True] 2018-01-09 2018-02-06   \n",
       "7  [False, False, False, False, False, False, Fal... 2017-11-13 2017-12-11   \n",
       "8                                             [True] 2017-12-28 2018-01-25   \n",
       "9                                       [True, True] 2018-04-22 2018-05-20   \n",
       "\n",
       "         D84       D168       D252       D336  \\\n",
       "0 2018-02-03 2018-04-28 2018-07-21 2018-10-13   \n",
       "1 2018-10-27 2019-01-19 2019-04-13 2019-07-06   \n",
       "2 2018-01-18 2018-04-12 2018-07-05 2018-09-27   \n",
       "3 2018-05-02 2018-07-25 2018-10-17 2019-01-09   \n",
       "4 2018-02-09 2018-05-04 2018-07-27 2018-10-19   \n",
       "5 2018-10-27 2019-01-19 2019-04-13 2019-07-06   \n",
       "6 2018-03-06 2018-05-29 2018-08-21 2018-11-13   \n",
       "7 2018-01-08 2018-04-02 2018-06-25 2018-09-17   \n",
       "8 2018-02-22 2018-05-17 2018-08-09 2018-11-01   \n",
       "9 2018-06-17 2018-09-09 2018-12-02 2019-02-24   \n",
       "\n",
       "                                        O_TIMEDELTAS  \\\n",
       "0                       [60, 15, 26, 49, 29, 50, 62]   \n",
       "1                                                 []   \n",
       "2                                                 []   \n",
       "3                                  [58, 16, 29, 128]   \n",
       "4                                                 []   \n",
       "5                                                 []   \n",
       "6                                              [269]   \n",
       "7  [6, 9, 21, 4, 13, 13, 11, 27, 15, 8, 7, 19, 14...   \n",
       "8                                                 []   \n",
       "9                                                [4]   \n",
       "\n",
       "                                      FLAT_PG3_SALES  \\\n",
       "0  [(252, 182.95), (2068, 118.39), (34, 7.99), (0...   \n",
       "1  [(857, 134.94), (2068, 107.96), (252, 77.97), ...   \n",
       "2  [(18, 11.18), (409, 7.98), (0, 3.99), (251, 0.0)]   \n",
       "3  [(2068, 134.91), (301, 14.99), (0, -7.5), (206...   \n",
       "4                          [(857, 89.94), (0, -4.5)]   \n",
       "5           [(251, 95.98), (0, 4.02), (48963, 2.99)]   \n",
       "6  [(857, 31.99), (18, 17.98), (0, -3.5), (857, 6...   \n",
       "7  [(2068, 143.92), (301, 95.96), (29, 51.98), (0...   \n",
       "8                          [(2068, 92.97), (0, 5.2)]   \n",
       "9  [(207553, 69.98), (48963, 2.99), (2430, 0.0), ...   \n",
       "\n",
       "                                      FLAT_PG4_SALES  \\\n",
       "0  [(3641, 169.96), (2071, 35.99), (248782, 23.96...   \n",
       "1  [(10728, 107.96), (314, 77.97), (14463, 74.97)...   \n",
       "2  [(1306, 11.18), (413, 4.99), (0, 3.99), (2613,...   \n",
       "3  [(17871, 134.91), (818, 14.99), (0, -7.5), (81...   \n",
       "4                         [(2718, 89.94), (0, -4.5)]   \n",
       "5                       [(149697, 95.98), (0, 7.01)]   \n",
       "6  [(3314, 31.99), (394, 17.98), (0, -3.5), (3314...   \n",
       "7  [(2632, 95.96), (3243, 95.96), (128, 51.98), (...   \n",
       "8                         [(39209, 92.97), (0, 5.2)]   \n",
       "9  [(207617, 69.98), (0, 0.8), (9272, 0.0), (2204...   \n",
       "\n",
       "                                    FLAT_BRAND_SALES  \\\n",
       "0  [(★ Smilla, 169.96), (Felix, 35.99), (★ Concep...   \n",
       "1  [(Whiskas, 205.91), (★ Lukullus Naturkost, 122...   \n",
       "2  [(vom Geflügel, 11.18), (Shampoo & Fellpflege,...   \n",
       "3  [(Porta 21, 134.91), (Intersand Extreme Classi...   \n",
       "4              [(Animonda Integra, 89.94), (nan, 0)]   \n",
       "5  [(Libra, 95.98), (unknown, 2.99), (nan, 0), (n...   \n",
       "6  [(Terra Canis, 31.99), (Zahnpflege Snacks, 17....   \n",
       "7  [(Golden Grey / Golden, 95.96), (★ Cosma, 95.9...   \n",
       "8  [(Hill's Prescription Diet, 92.97), (nan, 0), ...   \n",
       "9  [(Spot-On, 69.98), (unknown, 2.99), (nan, 0), ...   \n",
       "\n",
       "                                     TOTAL_PG3_SALES  \\\n",
       "0  [(252, 658.59), (2068, 437.57), (207553, 127.9...   \n",
       "1  [(857, 134.94), (2068, 107.96), (252, 77.97), ...   \n",
       "2  [(18, 11.18), (409, 7.98), (0, 3.99), (251, 0.0)]   \n",
       "3  [(2068, 179.57), (301, 103.95), (252, 44.99), ...   \n",
       "4                          [(857, 89.94), (0, -4.5)]   \n",
       "5           [(251, 95.98), (0, 4.02), (48963, 2.99)]   \n",
       "6           [(857, 99.97), (18, 46.45), (0, -10.25)]   \n",
       "7  [(2068, 2527.63), (301, 909.27), (252, 451.2),...   \n",
       "8                          [(2068, 92.97), (0, 5.2)]   \n",
       "9  [(207553, 69.98), (1400, 59.98), (48963, 2.99)...   \n",
       "\n",
       "                                     TOTAL_PG4_SALES  \\\n",
       "0  [(3641, 564.26), (207615, 127.92), (2071, 109....   \n",
       "1  [(10728, 107.96), (314, 77.97), (14463, 74.97)...   \n",
       "2  [(1306, 11.18), (413, 4.99), (0, 3.99), (2613,...   \n",
       "3  [(17871, 164.89), (818, 103.95), (720, 44.99),...   \n",
       "4                         [(2718, 89.94), (0, -4.5)]   \n",
       "5                       [(149697, 95.98), (0, 7.01)]   \n",
       "6         [(3314, 99.97), (394, 46.45), (0, -10.25)]   \n",
       "7  [(2632, 1481.55), (3243, 909.27), (2137, 522.6...   \n",
       "8                         [(39209, 92.97), (0, 5.2)]   \n",
       "9  [(207617, 69.98), (2204, 59.98), (9272, 0.0), ...   \n",
       "\n",
       "                                   TOTAL_BRAND_SALES  \n",
       "0  [(★ Smilla, 597.25), (Halsband, 127.92), (Feli...  \n",
       "1  [(Whiskas, 205.91), (★ Lukullus Naturkost, 122...  \n",
       "2  [(vom Geflügel, 11.18), (Shampoo & Fellpflege,...  \n",
       "3  [(Porta 21, 164.89), (Intersand Extreme Classi...  \n",
       "4              [(Animonda Integra, 89.94), (nan, 0)]  \n",
       "5  [(Libra, 95.98), (unknown, 2.99), (nan, 0), (n...  \n",
       "6  [(Terra Canis, 99.97), (Zahnpflege Snacks, 46....  \n",
       "7  [(★ Cosma, 1481.55), (Golden Grey / Golden, 90...  \n",
       "8  [(Hill's Prescription Diet, 92.97), (nan, 0), ...  \n",
       "9  [(Spot-On, 69.98), (Aktiv & Fit, 59.98), (unkn...  "
      ]
     },
     "execution_count": 5,
     "metadata": {},
     "output_type": "execute_result"
    }
   ],
   "source": [
    "customers.head(10)[customers.columns[19:]]"
   ]
  },
  {
   "cell_type": "markdown",
   "metadata": {},
   "source": [
    "#### Scenario A: Customers with and without SP"
   ]
  },
  {
   "cell_type": "markdown",
   "metadata": {},
   "source": [
    "Let's label with 1 every customer having at least one order affected by SP discount, 0 otherwise"
   ]
  },
  {
   "cell_type": "code",
   "execution_count": 6,
   "metadata": {
    "ExecuteTime": {
     "end_time": "2018-11-21T18:44:19.445460Z",
     "start_time": "2018-11-21T18:44:19.131460Z"
    }
   },
   "outputs": [],
   "source": [
    "customers['SP_CUS'] = [any([(str(j) != 'nan') for j in i]) * 1 for i in customers['CZP_START_DATE'].values]"
   ]
  },
  {
   "cell_type": "code",
   "execution_count": 7,
   "metadata": {
    "ExecuteTime": {
     "end_time": "2018-11-21T18:44:19.458460Z",
     "start_time": "2018-11-21T18:44:19.447460Z"
    }
   },
   "outputs": [
    {
     "data": {
      "text/plain": [
       "0    246689\n",
       "1     68527\n",
       "Name: SP_CUS, dtype: int64"
      ]
     },
     "execution_count": 7,
     "metadata": {},
     "output_type": "execute_result"
    }
   ],
   "source": [
    "customers['SP_CUS'].value_counts()"
   ]
  },
  {
   "cell_type": "markdown",
   "metadata": {},
   "source": [
    "- The standard KPIs: **Sales, CM1, CM2, AOV, Order Frequency** during a **fixed time period**\n",
    "\n",
    "- **Number of PG3s** the customer bought in and **Sales Share** in the according class "
   ]
  },
  {
   "cell_type": "code",
   "execution_count": 8,
   "metadata": {
    "ExecuteTime": {
     "end_time": "2018-11-21T18:44:19.469460Z",
     "start_time": "2018-11-21T18:44:19.459460Z"
    }
   },
   "outputs": [
    {
     "data": {
      "text/plain": [
       "datetime.date(2018, 9, 30)"
      ]
     },
     "execution_count": 8,
     "metadata": {},
     "output_type": "execute_result"
    }
   ],
   "source": [
    "last_date_df = datetime.datetime.strptime('30092018', \"%d%m%Y\").date()\n",
    "last_date_df"
   ]
  },
  {
   "cell_type": "markdown",
   "metadata": {},
   "source": [
    "Using last date in our dataset (30/09/2018), we will go back in time following different windows (28-56-84-168-252-336 days) and check if the resulting date is equal or greater to the first order date we have in our dataset. In case is not, we would label the customer as not suitable for this window."
   ]
  },
  {
   "cell_type": "code",
   "execution_count": 9,
   "metadata": {
    "ExecuteTime": {
     "end_time": "2018-11-21T18:44:19.833460Z",
     "start_time": "2018-11-21T18:44:19.471460Z"
    }
   },
   "outputs": [],
   "source": [
    "customers['SUIT_28D'] = [((last_date_df - timedelta(days=28)) >= i[0]) * 1 for i in customers['TDT_T_KEY_ORDER_DATE_list'].values]"
   ]
  },
  {
   "cell_type": "code",
   "execution_count": 10,
   "metadata": {
    "ExecuteTime": {
     "end_time": "2018-11-21T18:44:20.162460Z",
     "start_time": "2018-11-21T18:44:19.834460Z"
    }
   },
   "outputs": [],
   "source": [
    "customers['SUIT_56D'] = [((last_date_df - timedelta(days=56)) >= i[0]) * 1 for i in customers['TDT_T_KEY_ORDER_DATE_list'].values]"
   ]
  },
  {
   "cell_type": "code",
   "execution_count": 11,
   "metadata": {
    "ExecuteTime": {
     "end_time": "2018-11-21T18:44:20.487460Z",
     "start_time": "2018-11-21T18:44:20.164460Z"
    }
   },
   "outputs": [],
   "source": [
    "customers['SUIT_84D'] = [((last_date_df - timedelta(days=84)) >= i[0]) * 1 for i in customers['TDT_T_KEY_ORDER_DATE_list'].values]"
   ]
  },
  {
   "cell_type": "code",
   "execution_count": 12,
   "metadata": {
    "ExecuteTime": {
     "end_time": "2018-11-21T18:44:20.817460Z",
     "start_time": "2018-11-21T18:44:20.488460Z"
    }
   },
   "outputs": [],
   "source": [
    "customers['SUIT_168D'] = [((last_date_df - timedelta(days=168)) >= i[0]) * 1 for i in customers['TDT_T_KEY_ORDER_DATE_list'].values]"
   ]
  },
  {
   "cell_type": "code",
   "execution_count": 13,
   "metadata": {
    "ExecuteTime": {
     "end_time": "2018-11-21T18:44:21.211460Z",
     "start_time": "2018-11-21T18:44:20.820460Z"
    }
   },
   "outputs": [],
   "source": [
    "customers['SUIT_252D'] = [((last_date_df - timedelta(days=252)) >= i[0]) * 1 for i in customers['TDT_T_KEY_ORDER_DATE_list'].values]"
   ]
  },
  {
   "cell_type": "code",
   "execution_count": 14,
   "metadata": {
    "ExecuteTime": {
     "end_time": "2018-11-21T18:44:21.565460Z",
     "start_time": "2018-11-21T18:44:21.212460Z"
    }
   },
   "outputs": [],
   "source": [
    "customers['SUIT_336D'] = [((last_date_df - timedelta(days=336)) >= i[0]) * 1 for i in customers['TDT_T_KEY_ORDER_DATE_list'].values]"
   ]
  },
  {
   "cell_type": "code",
   "execution_count": 15,
   "metadata": {
    "ExecuteTime": {
     "end_time": "2018-11-21T18:44:21.942460Z",
     "start_time": "2018-11-21T18:44:21.566460Z"
    }
   },
   "outputs": [
    {
     "data": {
      "text/html": [
       "<div>\n",
       "<style scoped>\n",
       "    .dataframe tbody tr th:only-of-type {\n",
       "        vertical-align: middle;\n",
       "    }\n",
       "\n",
       "    .dataframe tbody tr th {\n",
       "        vertical-align: top;\n",
       "    }\n",
       "\n",
       "    .dataframe thead th {\n",
       "        text-align: right;\n",
       "    }\n",
       "</style>\n",
       "<table border=\"1\" class=\"dataframe\">\n",
       "  <thead>\n",
       "    <tr style=\"text-align: right;\">\n",
       "      <th></th>\n",
       "      <th>SP_CUS</th>\n",
       "      <th>SUIT_28D</th>\n",
       "      <th>SUIT_56D</th>\n",
       "      <th>SUIT_84D</th>\n",
       "      <th>SUIT_168D</th>\n",
       "      <th>SUIT_252D</th>\n",
       "      <th>SUIT_336D</th>\n",
       "    </tr>\n",
       "  </thead>\n",
       "  <tbody>\n",
       "    <tr>\n",
       "      <th>0</th>\n",
       "      <td>0</td>\n",
       "      <td>235081</td>\n",
       "      <td>224738</td>\n",
       "      <td>214313</td>\n",
       "      <td>177249</td>\n",
       "      <td>129600</td>\n",
       "      <td>46009</td>\n",
       "    </tr>\n",
       "    <tr>\n",
       "      <th>1</th>\n",
       "      <td>1</td>\n",
       "      <td>67927</td>\n",
       "      <td>67194</td>\n",
       "      <td>66387</td>\n",
       "      <td>62725</td>\n",
       "      <td>55136</td>\n",
       "      <td>26440</td>\n",
       "    </tr>\n",
       "  </tbody>\n",
       "</table>\n",
       "</div>"
      ],
      "text/plain": [
       "   SP_CUS  SUIT_28D  SUIT_56D  SUIT_84D  SUIT_168D  SUIT_252D  SUIT_336D\n",
       "0       0    235081    224738    214313     177249     129600      46009\n",
       "1       1     67927     67194     66387      62725      55136      26440"
      ]
     },
     "execution_count": 15,
     "metadata": {},
     "output_type": "execute_result"
    }
   ],
   "source": [
    "customers.groupby('SP_CUS', as_index=False)[['SUIT_28D', 'SUIT_56D', 'SUIT_84D', \n",
    "                                             'SUIT_168D', 'SUIT_252D', 'SUIT_336D']].sum()"
   ]
  },
  {
   "cell_type": "markdown",
   "metadata": {},
   "source": [
    "Let's get the time window of 252 days..."
   ]
  },
  {
   "cell_type": "markdown",
   "metadata": {},
   "source": [
    "Now we will extract the suitable customers for the calculation (SUIT_252D = 1) and then apply over their data a boolean mask to get the performance after 252 days from their 1st order on, along the dataset."
   ]
  },
  {
   "cell_type": "code",
   "execution_count": 16,
   "metadata": {
    "ExecuteTime": {
     "end_time": "2018-11-21T18:44:22.161460Z",
     "start_time": "2018-11-21T18:44:21.944460Z"
    }
   },
   "outputs": [],
   "source": [
    "cus_252_days = customers[customers['SUIT_252D'] == 1].copy()"
   ]
  },
  {
   "cell_type": "code",
   "execution_count": 17,
   "metadata": {
    "ExecuteTime": {
     "end_time": "2018-11-21T18:44:25.284460Z",
     "start_time": "2018-11-21T18:44:22.163460Z"
    }
   },
   "outputs": [],
   "source": [
    "cus_252_days['MASK'] = [[i.date() >= d for d in j] for i, j in list(zip(cus_252_days['D252'], cus_252_days['TDT_T_KEY_ORDER_DATE_list']))]"
   ]
  },
  {
   "cell_type": "code",
   "execution_count": 18,
   "metadata": {
    "ExecuteTime": {
     "end_time": "2018-11-21T18:44:25.533460Z",
     "start_time": "2018-11-21T18:44:25.285460Z"
    }
   },
   "outputs": [],
   "source": [
    "cus_252_days['D252_SALES'] = [list(compress(i, j)) for i, j in list(zip(cus_252_days['SCM_SALES_BMF_list'], \n",
    "                                                                        cus_252_days['MASK']))]"
   ]
  },
  {
   "cell_type": "code",
   "execution_count": 19,
   "metadata": {
    "ExecuteTime": {
     "end_time": "2018-11-21T18:44:25.758460Z",
     "start_time": "2018-11-21T18:44:25.535460Z"
    }
   },
   "outputs": [],
   "source": [
    "cus_252_days['D252_CM1'] = [list(compress(i, j)) for i, j in list(zip(cus_252_days['SCM_D_FINANCE_CM1_list'], \n",
    "                                                                      cus_252_days['MASK']))]"
   ]
  },
  {
   "cell_type": "code",
   "execution_count": 20,
   "metadata": {
    "ExecuteTime": {
     "end_time": "2018-11-21T18:44:25.985460Z",
     "start_time": "2018-11-21T18:44:25.759460Z"
    }
   },
   "outputs": [],
   "source": [
    "cus_252_days['D252_CM2'] = [list(compress(i, j)) for i, j in list(zip(cus_252_days['SCM_D_FINANCE_CM2_list'], \n",
    "                                                                      cus_252_days['MASK']))]"
   ]
  },
  {
   "cell_type": "code",
   "execution_count": 21,
   "metadata": {
    "ExecuteTime": {
     "end_time": "2018-11-21T18:44:26.208460Z",
     "start_time": "2018-11-21T18:44:25.987460Z"
    }
   },
   "outputs": [],
   "source": [
    "cus_252_days['D252_NET_SALES'] = [list(compress(i, j)) for i, j in list(zip(cus_252_days['SCM_D_ORIG_FINANCE_ORDER_NET_list'], \n",
    "                                                                      cus_252_days['MASK']))]"
   ]
  },
  {
   "cell_type": "code",
   "execution_count": 22,
   "metadata": {
    "ExecuteTime": {
     "end_time": "2018-11-21T18:44:26.554460Z",
     "start_time": "2018-11-21T18:44:26.210460Z"
    }
   },
   "outputs": [],
   "source": [
    "cus_252_days['D252_PG3_AGGSALES'] = [list(compress(i, j)) for i, j in list(zip(cus_252_days['PG3_AGGSALES'], \n",
    "                                                                               cus_252_days['MASK']))]"
   ]
  },
  {
   "cell_type": "code",
   "execution_count": 23,
   "metadata": {
    "ExecuteTime": {
     "end_time": "2018-11-21T18:44:26.871460Z",
     "start_time": "2018-11-21T18:44:26.555460Z"
    }
   },
   "outputs": [],
   "source": [
    "cus_252_days['D252_FLAT_PG3_AGGSALES'] = [[k for j in i for k in j] for i in cus_252_days['D252_PG3_AGGSALES'].values]"
   ]
  },
  {
   "cell_type": "code",
   "execution_count": 24,
   "metadata": {
    "ExecuteTime": {
     "end_time": "2018-11-21T18:44:34.933460Z",
     "start_time": "2018-11-21T18:44:26.872460Z"
    }
   },
   "outputs": [],
   "source": [
    "cus_252_days['D252_TOTAL_PG3_SALES'] = [sorted([(pg3, np.round(sum([sales_ for pg_3_, sales_ in i if pg3==pg_3_\n",
    "                                                        ]), 3)) \n",
    "                                for pg3 in set([pg_3 for pg_3, sales in i])], key= lambda x: x[1], reverse=True) \n",
    "                                for i in cus_252_days['D252_FLAT_PG3_AGGSALES']]"
   ]
  },
  {
   "cell_type": "code",
   "execution_count": 25,
   "metadata": {
    "ExecuteTime": {
     "end_time": "2018-11-21T18:44:35.007460Z",
     "start_time": "2018-11-21T18:44:34.934460Z"
    }
   },
   "outputs": [],
   "source": [
    "cus_252_days['D252_TOTAL_SALES'] = [sum(i) for i in cus_252_days['D252_SALES'].values]"
   ]
  },
  {
   "cell_type": "code",
   "execution_count": 26,
   "metadata": {
    "ExecuteTime": {
     "end_time": "2018-11-21T18:44:36.716460Z",
     "start_time": "2018-11-21T18:44:35.008460Z"
    }
   },
   "outputs": [],
   "source": [
    "cus_252_days['D252_AOV'] = [np.round(sum(i) / float(len(i)), 2) for i in cus_252_days['D252_SALES'].values]"
   ]
  },
  {
   "cell_type": "code",
   "execution_count": 27,
   "metadata": {
    "ExecuteTime": {
     "end_time": "2018-11-21T18:44:36.768460Z",
     "start_time": "2018-11-21T18:44:36.717460Z"
    }
   },
   "outputs": [],
   "source": [
    "cus_252_days['D252_ORDERS'] = [len(i) for i in cus_252_days['D252_SALES'].values]"
   ]
  },
  {
   "cell_type": "code",
   "execution_count": 28,
   "metadata": {
    "ExecuteTime": {
     "end_time": "2018-11-21T18:44:36.839460Z",
     "start_time": "2018-11-21T18:44:36.770460Z"
    }
   },
   "outputs": [],
   "source": [
    "cus_252_days['D252_TOTAL_CM1'] = [sum(i) for i in cus_252_days['D252_CM1'].values]"
   ]
  },
  {
   "cell_type": "code",
   "execution_count": 29,
   "metadata": {
    "ExecuteTime": {
     "end_time": "2018-11-21T18:44:36.906460Z",
     "start_time": "2018-11-21T18:44:36.840460Z"
    }
   },
   "outputs": [],
   "source": [
    "cus_252_days['D252_TOTAL_CM2'] = [sum(i) for i in cus_252_days['D252_CM2'].values]"
   ]
  },
  {
   "cell_type": "code",
   "execution_count": 30,
   "metadata": {
    "ExecuteTime": {
     "end_time": "2018-11-21T18:44:36.976460Z",
     "start_time": "2018-11-21T18:44:36.908460Z"
    }
   },
   "outputs": [],
   "source": [
    "cus_252_days['D252_TOTAL_NET_SALES'] = [sum(i) for i in cus_252_days['D252_NET_SALES'].values]"
   ]
  },
  {
   "cell_type": "code",
   "execution_count": 31,
   "metadata": {
    "ExecuteTime": {
     "end_time": "2018-11-21T18:44:36.996460Z",
     "start_time": "2018-11-21T18:44:36.978460Z"
    }
   },
   "outputs": [],
   "source": [
    "cus_252_days['D252_CM1%'] = np.round(cus_252_days['D252_TOTAL_CM1'] / cus_252_days['D252_TOTAL_NET_SALES'] * 100, 2)"
   ]
  },
  {
   "cell_type": "code",
   "execution_count": 32,
   "metadata": {
    "ExecuteTime": {
     "end_time": "2018-11-21T18:44:37.017460Z",
     "start_time": "2018-11-21T18:44:36.997460Z"
    }
   },
   "outputs": [],
   "source": [
    "cus_252_days['D252_CM2%'] = np.round(cus_252_days['D252_TOTAL_CM2'] / cus_252_days['D252_TOTAL_NET_SALES'] * 100, 2)"
   ]
  },
  {
   "cell_type": "code",
   "execution_count": 33,
   "metadata": {
    "ExecuteTime": {
     "end_time": "2018-11-21T18:44:37.225460Z",
     "start_time": "2018-11-21T18:44:37.018460Z"
    }
   },
   "outputs": [],
   "source": [
    "cus_252_days['D252_DICT_PG3_SALES'] = [{j[0]: j[1] for j in i} for i in cus_252_days['D252_TOTAL_PG3_SALES'].values]"
   ]
  },
  {
   "cell_type": "code",
   "execution_count": 34,
   "metadata": {
    "ExecuteTime": {
     "end_time": "2018-11-21T18:44:37.460460Z",
     "start_time": "2018-11-21T18:44:37.226460Z"
    }
   },
   "outputs": [],
   "source": [
    "cus_252_days['D252_DICT_PG3_SALES_NO_DISC'] = [{j[0]: j[1] for j in i if j[0] != 0} \n",
    "                                               for i in cus_252_days['D252_TOTAL_PG3_SALES'].values]"
   ]
  },
  {
   "cell_type": "code",
   "execution_count": 35,
   "metadata": {
    "ExecuteTime": {
     "end_time": "2018-11-21T18:44:37.528460Z",
     "start_time": "2018-11-21T18:44:37.461460Z"
    }
   },
   "outputs": [],
   "source": [
    "cus_252_days['D252_DIFF_PG3'] = [len(i.keys()) for i in cus_252_days['D252_DICT_PG3_SALES']]"
   ]
  },
  {
   "cell_type": "code",
   "execution_count": 36,
   "metadata": {
    "ExecuteTime": {
     "end_time": "2018-11-21T18:44:37.595460Z",
     "start_time": "2018-11-21T18:44:37.529460Z"
    }
   },
   "outputs": [],
   "source": [
    "cus_252_days['D252_DIFF_PG3_NO_DISC'] = [len(i.keys()) for i in cus_252_days['D252_DICT_PG3_SALES_NO_DISC']]"
   ]
  },
  {
   "cell_type": "code",
   "execution_count": 37,
   "metadata": {
    "ExecuteTime": {
     "end_time": "2018-11-21T18:44:45.001460Z",
     "start_time": "2018-11-21T18:44:37.596460Z"
    }
   },
   "outputs": [],
   "source": [
    "cus_252_days['D252_DICT_PG3_SHARE'] = [{a: np.round(b/sum(i.values())*100, 2) for a, b in list(zip(i.keys(), i.values()))}\n",
    "                                        for i in cus_252_days['D252_DICT_PG3_SALES'].values]"
   ]
  },
  {
   "cell_type": "code",
   "execution_count": 38,
   "metadata": {
    "ExecuteTime": {
     "end_time": "2018-11-21T18:44:51.389460Z",
     "start_time": "2018-11-21T18:44:45.002460Z"
    }
   },
   "outputs": [],
   "source": [
    "cus_252_days['D252_DICT_PG3_SHARE_NO_DISC'] = [{a: np.round(b/sum(i.values())*100, 2) for a, b in list(zip(i.keys(), i.values()))}\n",
    "                                        for i in cus_252_days['D252_DICT_PG3_SALES_NO_DISC'].values]"
   ]
  },
  {
   "cell_type": "code",
   "execution_count": 39,
   "metadata": {
    "ExecuteTime": {
     "end_time": "2018-11-21T18:44:51.462460Z",
     "start_time": "2018-11-21T18:44:51.390460Z"
    }
   },
   "outputs": [
    {
     "data": {
      "text/plain": [
       "(0.0, 100.0)"
      ]
     },
     "execution_count": 39,
     "metadata": {},
     "output_type": "execute_result"
    }
   ],
   "source": [
    "cus_252_days['PG_23_SHARE'] = [i[23] if 23 in i.keys() else 0 for i in cus_252_days['D252_DICT_PG3_SHARE_NO_DISC'].values]\n",
    "cus_252_days['PG_23_SHARE'].min(), cus_252_days['PG_23_SHARE'].max()"
   ]
  },
  {
   "cell_type": "code",
   "execution_count": 40,
   "metadata": {
    "ExecuteTime": {
     "end_time": "2018-11-21T18:44:51.529460Z",
     "start_time": "2018-11-21T18:44:51.463460Z"
    }
   },
   "outputs": [
    {
     "data": {
      "text/plain": [
       "(0.0, 100.0)"
      ]
     },
     "execution_count": 40,
     "metadata": {},
     "output_type": "execute_result"
    }
   ],
   "source": [
    "cus_252_days['PG_38_SHARE'] = [i[38] if 38 in i.keys() else 0 for i in cus_252_days['D252_DICT_PG3_SHARE_NO_DISC'].values]\n",
    "cus_252_days['PG_38_SHARE'].min(), cus_252_days['PG_38_SHARE'].max()"
   ]
  },
  {
   "cell_type": "code",
   "execution_count": 41,
   "metadata": {
    "ExecuteTime": {
     "end_time": "2018-11-21T18:44:51.603460Z",
     "start_time": "2018-11-21T18:44:51.530460Z"
    }
   },
   "outputs": [
    {
     "data": {
      "text/plain": [
       "(0.0, 100.0)"
      ]
     },
     "execution_count": 41,
     "metadata": {},
     "output_type": "execute_result"
    }
   ],
   "source": [
    "cus_252_days['PG_251_SHARE'] = [i[251] if 251 in i.keys() else 0 for i in cus_252_days['D252_DICT_PG3_SHARE_NO_DISC'].values]\n",
    "cus_252_days['PG_251_SHARE'].min(), cus_252_days['PG_251_SHARE'].max()"
   ]
  },
  {
   "cell_type": "code",
   "execution_count": 42,
   "metadata": {
    "ExecuteTime": {
     "end_time": "2018-11-21T18:44:51.681460Z",
     "start_time": "2018-11-21T18:44:51.605460Z"
    }
   },
   "outputs": [
    {
     "data": {
      "text/plain": [
       "(0.0, 100.0)"
      ]
     },
     "execution_count": 42,
     "metadata": {},
     "output_type": "execute_result"
    }
   ],
   "source": [
    "cus_252_days['PG_252_SHARE'] = [i[252] if 252 in i.keys() else 0 for i in cus_252_days['D252_DICT_PG3_SHARE_NO_DISC'].values]\n",
    "cus_252_days['PG_252_SHARE'].min(), cus_252_days['PG_252_SHARE'].max()"
   ]
  },
  {
   "cell_type": "code",
   "execution_count": 43,
   "metadata": {
    "ExecuteTime": {
     "end_time": "2018-11-21T18:44:51.756460Z",
     "start_time": "2018-11-21T18:44:51.682460Z"
    }
   },
   "outputs": [
    {
     "data": {
      "text/plain": [
       "(0.0, 100.0)"
      ]
     },
     "execution_count": 43,
     "metadata": {},
     "output_type": "execute_result"
    }
   ],
   "source": [
    "cus_252_days['PG_857_SHARE'] = [i[857] if 857 in i.keys() else 0 for i in cus_252_days['D252_DICT_PG3_SHARE_NO_DISC'].values]\n",
    "cus_252_days['PG_857_SHARE'].min(), cus_252_days['PG_857_SHARE'].max()"
   ]
  },
  {
   "cell_type": "code",
   "execution_count": 44,
   "metadata": {
    "ExecuteTime": {
     "end_time": "2018-11-21T18:44:51.846460Z",
     "start_time": "2018-11-21T18:44:51.757460Z"
    }
   },
   "outputs": [
    {
     "data": {
      "text/plain": [
       "(0.0, 100.0)"
      ]
     },
     "execution_count": 44,
     "metadata": {},
     "output_type": "execute_result"
    }
   ],
   "source": [
    "cus_252_days['PG_2068_SHARE'] = [i[2068] if 2068 in i.keys() else 0 for i in cus_252_days['D252_DICT_PG3_SHARE_NO_DISC'].values]\n",
    "cus_252_days['PG_2068_SHARE'].min(), cus_252_days['PG_2068_SHARE'].max()"
   ]
  },
  {
   "cell_type": "markdown",
   "metadata": {},
   "source": [
    "##### Total sales"
   ]
  },
  {
   "cell_type": "code",
   "execution_count": 45,
   "metadata": {
    "ExecuteTime": {
     "end_time": "2018-11-21T18:44:52.847460Z",
     "start_time": "2018-11-21T18:44:51.848460Z"
    }
   },
   "outputs": [
    {
     "data": {
      "image/png": "[encoded data removed]",
      "text/plain": [
       "<matplotlib.figure.Figure at 0xf233780>"
      ]
     },
     "metadata": {},
     "output_type": "display_data"
    },
    {
     "data": {
      "text/html": [
       "<div>\n",
       "<style scoped>\n",
       "    .dataframe tbody tr th:only-of-type {\n",
       "        vertical-align: middle;\n",
       "    }\n",
       "\n",
       "    .dataframe tbody tr th {\n",
       "        vertical-align: top;\n",
       "    }\n",
       "\n",
       "    .dataframe thead th {\n",
       "        text-align: right;\n",
       "    }\n",
       "</style>\n",
       "<table border=\"1\" class=\"dataframe\">\n",
       "  <thead>\n",
       "    <tr style=\"text-align: right;\">\n",
       "      <th></th>\n",
       "      <th>NO SP customers</th>\n",
       "      <th>SP customers</th>\n",
       "    </tr>\n",
       "  </thead>\n",
       "  <tbody>\n",
       "    <tr>\n",
       "      <th>count</th>\n",
       "      <td>129600.00</td>\n",
       "      <td>55136.00</td>\n",
       "    </tr>\n",
       "    <tr>\n",
       "      <th>mean</th>\n",
       "      <td>193.07</td>\n",
       "      <td>407.97</td>\n",
       "    </tr>\n",
       "    <tr>\n",
       "      <th>std</th>\n",
       "      <td>214.93</td>\n",
       "      <td>912.92</td>\n",
       "    </tr>\n",
       "    <tr>\n",
       "      <th>min</th>\n",
       "      <td>-13.75</td>\n",
       "      <td>-22.31</td>\n",
       "    </tr>\n",
       "    <tr>\n",
       "      <th>25%</th>\n",
       "      <td>64.99</td>\n",
       "      <td>191.74</td>\n",
       "    </tr>\n",
       "    <tr>\n",
       "      <th>50%</th>\n",
       "      <td>135.97</td>\n",
       "      <td>311.29</td>\n",
       "    </tr>\n",
       "    <tr>\n",
       "      <th>75%</th>\n",
       "      <td>250.43</td>\n",
       "      <td>494.90</td>\n",
       "    </tr>\n",
       "    <tr>\n",
       "      <th>max</th>\n",
       "      <td>17429.92</td>\n",
       "      <td>192687.90</td>\n",
       "    </tr>\n",
       "  </tbody>\n",
       "</table>\n",
       "</div>"
      ],
      "text/plain": [
       "       NO SP customers  SP customers\n",
       "count        129600.00      55136.00\n",
       "mean            193.07        407.97\n",
       "std             214.93        912.92\n",
       "min             -13.75        -22.31\n",
       "25%              64.99        191.74\n",
       "50%             135.97        311.29\n",
       "75%             250.43        494.90\n",
       "max           17429.92     192687.90"
      ]
     },
     "metadata": {},
     "output_type": "display_data"
    }
   ],
   "source": [
    "concat_df = pd.DataFrame()\n",
    "\n",
    "sns.set()\n",
    "plt.figure(figsize=(12,8))\n",
    "plt.title('Histograms showing total sales per customer in 252 days for each group', fontsize=14)\n",
    "plt.ylabel('Customers')\n",
    "plt.xlabel('Total sales')\n",
    "\n",
    "for i in np.sort(cus_252_days['SP_CUS'].unique()):\n",
    "    data_cluster = cus_252_days[cus_252_days['SP_CUS'] == i]\n",
    "    data_cluster['D252_TOTAL_SALES'].hist(bins=100, range=(0, 1000), alpha=0.5)\n",
    "    plt.legend(['NO SP customers', 'SP customers'])\n",
    "    concat_df = pd.concat([concat_df,\n",
    "                           pd.DataFrame(data_cluster['D252_TOTAL_SALES'].describe().round(2)),\n",
    "                           ], axis=1)\n",
    "plt.show() \n",
    "\n",
    "concat_df.columns = ['NO SP customers', 'SP customers']\n",
    "display(concat_df)"
   ]
  },
  {
   "cell_type": "markdown",
   "metadata": {},
   "source": [
    "##### Order frequency"
   ]
  },
  {
   "cell_type": "code",
   "execution_count": 46,
   "metadata": {
    "ExecuteTime": {
     "end_time": "2018-11-21T18:44:53.331460Z",
     "start_time": "2018-11-21T18:44:52.849460Z"
    }
   },
   "outputs": [
    {
     "data": {
      "image/png": "[encoded data removed]",
      "text/plain": [
       "<matplotlib.figure.Figure at 0xf250f98>"
      ]
     },
     "metadata": {},
     "output_type": "display_data"
    },
    {
     "data": {
      "text/html": [
       "<div>\n",
       "<style scoped>\n",
       "    .dataframe tbody tr th:only-of-type {\n",
       "        vertical-align: middle;\n",
       "    }\n",
       "\n",
       "    .dataframe tbody tr th {\n",
       "        vertical-align: top;\n",
       "    }\n",
       "\n",
       "    .dataframe thead th {\n",
       "        text-align: right;\n",
       "    }\n",
       "</style>\n",
       "<table border=\"1\" class=\"dataframe\">\n",
       "  <thead>\n",
       "    <tr style=\"text-align: right;\">\n",
       "      <th></th>\n",
       "      <th>NO SP customers</th>\n",
       "      <th>SP customers</th>\n",
       "    </tr>\n",
       "  </thead>\n",
       "  <tbody>\n",
       "    <tr>\n",
       "      <th>count</th>\n",
       "      <td>129600.00</td>\n",
       "      <td>55136.00</td>\n",
       "    </tr>\n",
       "    <tr>\n",
       "      <th>mean</th>\n",
       "      <td>3.14</td>\n",
       "      <td>5.34</td>\n",
       "    </tr>\n",
       "    <tr>\n",
       "      <th>std</th>\n",
       "      <td>2.48</td>\n",
       "      <td>10.74</td>\n",
       "    </tr>\n",
       "    <tr>\n",
       "      <th>min</th>\n",
       "      <td>1.00</td>\n",
       "      <td>1.00</td>\n",
       "    </tr>\n",
       "    <tr>\n",
       "      <th>25%</th>\n",
       "      <td>1.00</td>\n",
       "      <td>3.00</td>\n",
       "    </tr>\n",
       "    <tr>\n",
       "      <th>50%</th>\n",
       "      <td>2.00</td>\n",
       "      <td>4.00</td>\n",
       "    </tr>\n",
       "    <tr>\n",
       "      <th>75%</th>\n",
       "      <td>4.00</td>\n",
       "      <td>7.00</td>\n",
       "    </tr>\n",
       "    <tr>\n",
       "      <th>max</th>\n",
       "      <td>64.00</td>\n",
       "      <td>2359.00</td>\n",
       "    </tr>\n",
       "  </tbody>\n",
       "</table>\n",
       "</div>"
      ],
      "text/plain": [
       "       NO SP customers  SP customers\n",
       "count        129600.00      55136.00\n",
       "mean              3.14          5.34\n",
       "std               2.48         10.74\n",
       "min               1.00          1.00\n",
       "25%               1.00          3.00\n",
       "50%               2.00          4.00\n",
       "75%               4.00          7.00\n",
       "max              64.00       2359.00"
      ]
     },
     "metadata": {},
     "output_type": "display_data"
    }
   ],
   "source": [
    "concat_df = pd.DataFrame()\n",
    "\n",
    "sns.set()\n",
    "plt.figure(figsize=(12,8))\n",
    "plt.title('Histograms showing total orders per customer in 252 days for each group', fontsize=14)\n",
    "plt.ylabel('Customers')\n",
    "plt.xlabel('Orders')\n",
    "\n",
    "for i in np.sort(cus_252_days['SP_CUS'].unique()):\n",
    "    data_cluster = cus_252_days[cus_252_days['SP_CUS'] == i]\n",
    "    data_cluster['D252_ORDERS'].hist(bins=20, range=(0, 20), alpha=0.5)\n",
    "    plt.legend(['NO SP customers', 'SP customers'])\n",
    "    concat_df = pd.concat([concat_df,\n",
    "                           pd.DataFrame(data_cluster['D252_ORDERS'].describe().round(2)),\n",
    "                           ], axis=1)\n",
    "plt.show() \n",
    "\n",
    "concat_df.columns = ['NO SP customers', 'SP customers']\n",
    "display(concat_df)"
   ]
  },
  {
   "cell_type": "markdown",
   "metadata": {},
   "source": [
    "##### AOV"
   ]
  },
  {
   "cell_type": "code",
   "execution_count": 47,
   "metadata": {
    "ExecuteTime": {
     "end_time": "2018-11-21T18:44:53.888460Z",
     "start_time": "2018-11-21T18:44:53.332460Z"
    }
   },
   "outputs": [
    {
     "data": {
      "image/png": "[encoded data removed]",
      "text/plain": [
       "<matplotlib.figure.Figure at 0xf232da0>"
      ]
     },
     "metadata": {},
     "output_type": "display_data"
    },
    {
     "data": {
      "text/html": [
       "<div>\n",
       "<style scoped>\n",
       "    .dataframe tbody tr th:only-of-type {\n",
       "        vertical-align: middle;\n",
       "    }\n",
       "\n",
       "    .dataframe tbody tr th {\n",
       "        vertical-align: top;\n",
       "    }\n",
       "\n",
       "    .dataframe thead th {\n",
       "        text-align: right;\n",
       "    }\n",
       "</style>\n",
       "<table border=\"1\" class=\"dataframe\">\n",
       "  <thead>\n",
       "    <tr style=\"text-align: right;\">\n",
       "      <th></th>\n",
       "      <th>NO SP customers</th>\n",
       "      <th>SP customers</th>\n",
       "    </tr>\n",
       "  </thead>\n",
       "  <tbody>\n",
       "    <tr>\n",
       "      <th>count</th>\n",
       "      <td>129600.00</td>\n",
       "      <td>55136.00</td>\n",
       "    </tr>\n",
       "    <tr>\n",
       "      <th>mean</th>\n",
       "      <td>59.17</td>\n",
       "      <td>76.52</td>\n",
       "    </tr>\n",
       "    <tr>\n",
       "      <th>std</th>\n",
       "      <td>29.96</td>\n",
       "      <td>39.62</td>\n",
       "    </tr>\n",
       "    <tr>\n",
       "      <th>min</th>\n",
       "      <td>-11.00</td>\n",
       "      <td>-22.31</td>\n",
       "    </tr>\n",
       "    <tr>\n",
       "      <th>25%</th>\n",
       "      <td>42.29</td>\n",
       "      <td>52.60</td>\n",
       "    </tr>\n",
       "    <tr>\n",
       "      <th>50%</th>\n",
       "      <td>52.34</td>\n",
       "      <td>66.91</td>\n",
       "    </tr>\n",
       "    <tr>\n",
       "      <th>75%</th>\n",
       "      <td>68.17</td>\n",
       "      <td>89.41</td>\n",
       "    </tr>\n",
       "    <tr>\n",
       "      <th>max</th>\n",
       "      <td>903.92</td>\n",
       "      <td>1248.26</td>\n",
       "    </tr>\n",
       "  </tbody>\n",
       "</table>\n",
       "</div>"
      ],
      "text/plain": [
       "       NO SP customers  SP customers\n",
       "count        129600.00      55136.00\n",
       "mean             59.17         76.52\n",
       "std              29.96         39.62\n",
       "min             -11.00        -22.31\n",
       "25%              42.29         52.60\n",
       "50%              52.34         66.91\n",
       "75%              68.17         89.41\n",
       "max             903.92       1248.26"
      ]
     },
     "metadata": {},
     "output_type": "display_data"
    }
   ],
   "source": [
    "concat_df = pd.DataFrame()\n",
    "\n",
    "sns.set()\n",
    "plt.figure(figsize=(12,8))\n",
    "plt.title('Histograms showing average order value per customer in 252 days for each group', fontsize=14)\n",
    "plt.ylabel('Customers')\n",
    "plt.xlabel('AOV')\n",
    "\n",
    "for i in np.sort(cus_252_days['SP_CUS'].unique()):\n",
    "    data_cluster = cus_252_days[cus_252_days['SP_CUS'] == i]\n",
    "    data_cluster['D252_AOV'].hist(bins=40, range=(0, 200), alpha=0.5)\n",
    "    plt.legend(['NO SP customers', 'SP customers'])\n",
    "    concat_df = pd.concat([concat_df,\n",
    "                           pd.DataFrame(data_cluster['D252_AOV'].describe().round(2)),\n",
    "                           ], axis=1)\n",
    "plt.show() \n",
    "\n",
    "concat_df.columns = ['NO SP customers', 'SP customers']\n",
    "display(concat_df)"
   ]
  },
  {
   "cell_type": "markdown",
   "metadata": {},
   "source": [
    "##### CM1%"
   ]
  },
  {
   "cell_type": "code",
   "execution_count": 48,
   "metadata": {
    "ExecuteTime": {
     "end_time": "2018-11-21T18:44:54.823460Z",
     "start_time": "2018-11-21T18:44:53.890460Z"
    }
   },
   "outputs": [
    {
     "data": {
      "image/png": "[encoded data removed]",
      "text/plain": [
       "<matplotlib.figure.Figure at 0x11492940>"
      ]
     },
     "metadata": {},
     "output_type": "display_data"
    },
    {
     "data": {
      "text/html": [
       "<div>\n",
       "<style scoped>\n",
       "    .dataframe tbody tr th:only-of-type {\n",
       "        vertical-align: middle;\n",
       "    }\n",
       "\n",
       "    .dataframe tbody tr th {\n",
       "        vertical-align: top;\n",
       "    }\n",
       "\n",
       "    .dataframe thead th {\n",
       "        text-align: right;\n",
       "    }\n",
       "</style>\n",
       "<table border=\"1\" class=\"dataframe\">\n",
       "  <thead>\n",
       "    <tr style=\"text-align: right;\">\n",
       "      <th></th>\n",
       "      <th>NO SP customers</th>\n",
       "      <th>SP customers</th>\n",
       "    </tr>\n",
       "  </thead>\n",
       "  <tbody>\n",
       "    <tr>\n",
       "      <th>count</th>\n",
       "      <td>129202.00</td>\n",
       "      <td>55024.00</td>\n",
       "    </tr>\n",
       "    <tr>\n",
       "      <th>mean</th>\n",
       "      <td>30.06</td>\n",
       "      <td>27.36</td>\n",
       "    </tr>\n",
       "    <tr>\n",
       "      <th>std</th>\n",
       "      <td>11.93</td>\n",
       "      <td>8.85</td>\n",
       "    </tr>\n",
       "    <tr>\n",
       "      <th>min</th>\n",
       "      <td>0.00</td>\n",
       "      <td>0.00</td>\n",
       "    </tr>\n",
       "    <tr>\n",
       "      <th>25%</th>\n",
       "      <td>21.83</td>\n",
       "      <td>21.31</td>\n",
       "    </tr>\n",
       "    <tr>\n",
       "      <th>50%</th>\n",
       "      <td>28.52</td>\n",
       "      <td>26.97</td>\n",
       "    </tr>\n",
       "    <tr>\n",
       "      <th>75%</th>\n",
       "      <td>36.65</td>\n",
       "      <td>32.69</td>\n",
       "    </tr>\n",
       "    <tr>\n",
       "      <th>max</th>\n",
       "      <td>100.00</td>\n",
       "      <td>100.00</td>\n",
       "    </tr>\n",
       "  </tbody>\n",
       "</table>\n",
       "</div>"
      ],
      "text/plain": [
       "       NO SP customers  SP customers\n",
       "count        129202.00      55024.00\n",
       "mean             30.06         27.36\n",
       "std              11.93          8.85\n",
       "min               0.00          0.00\n",
       "25%              21.83         21.31\n",
       "50%              28.52         26.97\n",
       "75%              36.65         32.69\n",
       "max             100.00        100.00"
      ]
     },
     "metadata": {},
     "output_type": "display_data"
    }
   ],
   "source": [
    "concat_df = pd.DataFrame()\n",
    "\n",
    "sns.set()\n",
    "plt.figure(figsize=(12,8))\n",
    "plt.title('Histograms showing CM1% per customer in 252 days for each group', fontsize=14)\n",
    "plt.ylabel('Customers')\n",
    "plt.xlabel('CM1% per customer')\n",
    "\n",
    "for i in np.sort(cus_252_days['SP_CUS'].unique()):\n",
    "    data_cluster = cus_252_days[cus_252_days['SP_CUS'] == i]\n",
    "    data_cluster['D252_CM1%'].hist(bins=100, range=(-20, 80), alpha=0.5)\n",
    "    plt.legend(['NO SP customers', 'SP customers'])\n",
    "    concat_df = pd.concat([concat_df,\n",
    "                pd.DataFrame(data_cluster[data_cluster['D252_CM1%'].between(0, 100)]['D252_CM1%'].describe().round(2)),\n",
    "                           ], axis=1)\n",
    "plt.show() \n",
    "\n",
    "concat_df.columns = ['NO SP customers', 'SP customers']\n",
    "display(concat_df)"
   ]
  },
  {
   "cell_type": "markdown",
   "metadata": {},
   "source": [
    "##### CM2%"
   ]
  },
  {
   "cell_type": "code",
   "execution_count": 49,
   "metadata": {
    "ExecuteTime": {
     "end_time": "2018-11-21T18:44:55.705460Z",
     "start_time": "2018-11-21T18:44:54.825460Z"
    }
   },
   "outputs": [
    {
     "data": {
      "image/png": "[encoded data removed]",
      "text/plain": [
       "<matplotlib.figure.Figure at 0x114f2550>"
      ]
     },
     "metadata": {},
     "output_type": "display_data"
    },
    {
     "data": {
      "text/html": [
       "<div>\n",
       "<style scoped>\n",
       "    .dataframe tbody tr th:only-of-type {\n",
       "        vertical-align: middle;\n",
       "    }\n",
       "\n",
       "    .dataframe tbody tr th {\n",
       "        vertical-align: top;\n",
       "    }\n",
       "\n",
       "    .dataframe thead th {\n",
       "        text-align: right;\n",
       "    }\n",
       "</style>\n",
       "<table border=\"1\" class=\"dataframe\">\n",
       "  <thead>\n",
       "    <tr style=\"text-align: right;\">\n",
       "      <th></th>\n",
       "      <th>NO SP customers</th>\n",
       "      <th>SP customers</th>\n",
       "    </tr>\n",
       "  </thead>\n",
       "  <tbody>\n",
       "    <tr>\n",
       "      <th>count</th>\n",
       "      <td>107803.00</td>\n",
       "      <td>48494.00</td>\n",
       "    </tr>\n",
       "    <tr>\n",
       "      <th>mean</th>\n",
       "      <td>11.64</td>\n",
       "      <td>11.03</td>\n",
       "    </tr>\n",
       "    <tr>\n",
       "      <th>std</th>\n",
       "      <td>8.46</td>\n",
       "      <td>7.04</td>\n",
       "    </tr>\n",
       "    <tr>\n",
       "      <th>min</th>\n",
       "      <td>0.00</td>\n",
       "      <td>0.00</td>\n",
       "    </tr>\n",
       "    <tr>\n",
       "      <th>25%</th>\n",
       "      <td>5.64</td>\n",
       "      <td>5.84</td>\n",
       "    </tr>\n",
       "    <tr>\n",
       "      <th>50%</th>\n",
       "      <td>10.32</td>\n",
       "      <td>10.21</td>\n",
       "    </tr>\n",
       "    <tr>\n",
       "      <th>75%</th>\n",
       "      <td>16.09</td>\n",
       "      <td>15.16</td>\n",
       "    </tr>\n",
       "    <tr>\n",
       "      <th>max</th>\n",
       "      <td>100.00</td>\n",
       "      <td>100.00</td>\n",
       "    </tr>\n",
       "  </tbody>\n",
       "</table>\n",
       "</div>"
      ],
      "text/plain": [
       "       NO SP customers  SP customers\n",
       "count        107803.00      48494.00\n",
       "mean             11.64         11.03\n",
       "std               8.46          7.04\n",
       "min               0.00          0.00\n",
       "25%               5.64          5.84\n",
       "50%              10.32         10.21\n",
       "75%              16.09         15.16\n",
       "max             100.00        100.00"
      ]
     },
     "metadata": {},
     "output_type": "display_data"
    }
   ],
   "source": [
    "concat_df = pd.DataFrame()\n",
    "\n",
    "sns.set()\n",
    "plt.figure(figsize=(12,8))\n",
    "plt.title('Histograms showing CM2% per customer in 252 days for each group', fontsize=14)\n",
    "plt.ylabel('Customers')\n",
    "plt.xlabel('CM2% per customer')\n",
    "\n",
    "for i in np.sort(cus_252_days['SP_CUS'].unique()):\n",
    "    data_cluster = cus_252_days[cus_252_days['SP_CUS'] == i]\n",
    "    data_cluster['D252_CM2%'].hist(bins=100, range=(-40, 60), alpha=0.5)\n",
    "    plt.legend(['NO SP customers', 'SP customers'])\n",
    "    concat_df = pd.concat([concat_df,\n",
    "                pd.DataFrame(data_cluster[data_cluster['D252_CM2%'].between(0, 100)]['D252_CM2%'].describe().round(2)),\n",
    "                           ], axis=1)\n",
    "plt.show() \n",
    "\n",
    "concat_df.columns = ['NO SP customers', 'SP customers']\n",
    "display(concat_df)"
   ]
  },
  {
   "cell_type": "markdown",
   "metadata": {},
   "source": [
    "##### Number of PG3s the customer bought "
   ]
  },
  {
   "cell_type": "code",
   "execution_count": 50,
   "metadata": {
    "ExecuteTime": {
     "end_time": "2018-11-21T18:44:56.178460Z",
     "start_time": "2018-11-21T18:44:55.707460Z"
    }
   },
   "outputs": [
    {
     "data": {
      "image/png": "[encoded data removed]",
      "text/plain": [
       "<matplotlib.figure.Figure at 0xf2329b0>"
      ]
     },
     "metadata": {},
     "output_type": "display_data"
    },
    {
     "data": {
      "text/html": [
       "<div>\n",
       "<style scoped>\n",
       "    .dataframe tbody tr th:only-of-type {\n",
       "        vertical-align: middle;\n",
       "    }\n",
       "\n",
       "    .dataframe tbody tr th {\n",
       "        vertical-align: top;\n",
       "    }\n",
       "\n",
       "    .dataframe thead th {\n",
       "        text-align: right;\n",
       "    }\n",
       "</style>\n",
       "<table border=\"1\" class=\"dataframe\">\n",
       "  <thead>\n",
       "    <tr style=\"text-align: right;\">\n",
       "      <th></th>\n",
       "      <th>NO SP customers</th>\n",
       "      <th>SP customers</th>\n",
       "    </tr>\n",
       "  </thead>\n",
       "  <tbody>\n",
       "    <tr>\n",
       "      <th>count</th>\n",
       "      <td>129600.00</td>\n",
       "      <td>55136.00</td>\n",
       "    </tr>\n",
       "    <tr>\n",
       "      <th>mean</th>\n",
       "      <td>3.67</td>\n",
       "      <td>6.17</td>\n",
       "    </tr>\n",
       "    <tr>\n",
       "      <th>std</th>\n",
       "      <td>2.69</td>\n",
       "      <td>3.54</td>\n",
       "    </tr>\n",
       "    <tr>\n",
       "      <th>min</th>\n",
       "      <td>0.00</td>\n",
       "      <td>0.00</td>\n",
       "    </tr>\n",
       "    <tr>\n",
       "      <th>25%</th>\n",
       "      <td>2.00</td>\n",
       "      <td>4.00</td>\n",
       "    </tr>\n",
       "    <tr>\n",
       "      <th>50%</th>\n",
       "      <td>3.00</td>\n",
       "      <td>6.00</td>\n",
       "    </tr>\n",
       "    <tr>\n",
       "      <th>75%</th>\n",
       "      <td>5.00</td>\n",
       "      <td>8.00</td>\n",
       "    </tr>\n",
       "    <tr>\n",
       "      <th>max</th>\n",
       "      <td>26.00</td>\n",
       "      <td>37.00</td>\n",
       "    </tr>\n",
       "  </tbody>\n",
       "</table>\n",
       "</div>"
      ],
      "text/plain": [
       "       NO SP customers  SP customers\n",
       "count        129600.00      55136.00\n",
       "mean              3.67          6.17\n",
       "std               2.69          3.54\n",
       "min               0.00          0.00\n",
       "25%               2.00          4.00\n",
       "50%               3.00          6.00\n",
       "75%               5.00          8.00\n",
       "max              26.00         37.00"
      ]
     },
     "metadata": {},
     "output_type": "display_data"
    }
   ],
   "source": [
    "concat_df = pd.DataFrame()\n",
    "\n",
    "sns.set()\n",
    "plt.figure(figsize=(12,8))\n",
    "plt.title('Histograms showing different PG3 bought per customer in 252 days for each group', fontsize=14)\n",
    "plt.ylabel('Customers')\n",
    "plt.xlabel('Diff PG3 per customer')\n",
    "\n",
    "for i in np.sort(cus_252_days['SP_CUS'].unique()):\n",
    "    data_cluster = cus_252_days[cus_252_days['SP_CUS'] == i]\n",
    "    data_cluster['D252_DIFF_PG3_NO_DISC'].hist(bins=20, range=(0, 20), alpha=0.5)\n",
    "    plt.legend(['NO SP customers', 'SP customers'])\n",
    "    concat_df = pd.concat([concat_df,\n",
    "                           pd.DataFrame(data_cluster['D252_DIFF_PG3_NO_DISC'].describe().round(2)),\n",
    "                           ], axis=1)\n",
    "plt.show() \n",
    "\n",
    "concat_df.columns = ['NO SP customers', 'SP customers']\n",
    "display(concat_df)"
   ]
  },
  {
   "cell_type": "markdown",
   "metadata": {},
   "source": [
    "##### PG3 shares in each group"
   ]
  },
  {
   "cell_type": "markdown",
   "metadata": {},
   "source": [
    "As sales share per differents PG3 in customers with/without SP do not result very explanatory, let's move on to another way of looking at it.\n",
    "For each group we will calculate the different PG3 shares over the total sales."
   ]
  },
  {
   "cell_type": "code",
   "execution_count": 51,
   "metadata": {
    "ExecuteTime": {
     "end_time": "2018-11-21T18:44:56.187460Z",
     "start_time": "2018-11-21T18:44:56.179460Z"
    }
   },
   "outputs": [
    {
     "data": {
      "text/plain": [
       "0    129600\n",
       "1     55136\n",
       "Name: SP_CUS, dtype: int64"
      ]
     },
     "execution_count": 51,
     "metadata": {},
     "output_type": "execute_result"
    }
   ],
   "source": [
    "cus_252_days['SP_CUS'].value_counts()"
   ]
  },
  {
   "cell_type": "code",
   "execution_count": 52,
   "metadata": {
    "ExecuteTime": {
     "end_time": "2018-11-21T18:44:56.342460Z",
     "start_time": "2018-11-21T18:44:56.188460Z"
    }
   },
   "outputs": [],
   "source": [
    "sp_cus_252_flat_pg3_sales = [j for i in cus_252_days[cus_252_days['SP_CUS'] == 1]['D252_FLAT_PG3_AGGSALES'] for j in i]"
   ]
  },
  {
   "cell_type": "code",
   "execution_count": 53,
   "metadata": {
    "ExecuteTime": {
     "end_time": "2018-11-21T18:45:00.614460Z",
     "start_time": "2018-11-21T18:44:56.343460Z"
    }
   },
   "outputs": [],
   "source": [
    "sp_cus_252_pg3_sales = sorted([(pg3, np.round(sum([sales_ for pg_3_, sales_ in sp_cus_252_flat_pg3_sales if pg3==pg_3_\n",
    "                                                        ]), 3)) \n",
    "                                for pg3 in set([pg_3 for pg_3, sales in sp_cus_252_flat_pg3_sales])], key= lambda x: x[1], reverse=True) \n",
    "                            "
   ]
  },
  {
   "cell_type": "code",
   "execution_count": 54,
   "metadata": {
    "ExecuteTime": {
     "end_time": "2018-11-21T18:45:00.619460Z",
     "start_time": "2018-11-21T18:45:00.615460Z"
    }
   },
   "outputs": [],
   "source": [
    "sp_cus_252_pg3_dict_sales_no_disc = {i[0]: i[1] for i in sp_cus_252_pg3_sales if i[0] != 0}"
   ]
  },
  {
   "cell_type": "code",
   "execution_count": 55,
   "metadata": {
    "ExecuteTime": {
     "end_time": "2018-11-21T18:45:00.638460Z",
     "start_time": "2018-11-21T18:45:00.621460Z"
    },
    "code_folding": []
   },
   "outputs": [],
   "source": [
    "sp_cus_252_pg3_dict_sales_share = {a: np.round(b/sum(sp_cus_252_pg3_dict_sales_no_disc.values())*100, 3) \n",
    "                                                     for a, b in list(zip(sp_cus_252_pg3_dict_sales_no_disc.keys(),\n",
    "                                                                          sp_cus_252_pg3_dict_sales_no_disc.values()))}"
   ]
  },
  {
   "cell_type": "code",
   "execution_count": 56,
   "metadata": {
    "ExecuteTime": {
     "end_time": "2018-11-21T18:45:00.657460Z",
     "start_time": "2018-11-21T18:45:00.640460Z"
    }
   },
   "outputs": [],
   "source": [
    "filter_sp_cus_252_pg3_dict_sales_share = {x: y for x, y in list(zip(sp_cus_252_pg3_dict_sales_share.keys(),\n",
    "                                                                    sp_cus_252_pg3_dict_sales_share.values()))\n",
    "                                            if y >= 1}"
   ]
  },
  {
   "cell_type": "code",
   "execution_count": 57,
   "metadata": {
    "ExecuteTime": {
     "end_time": "2018-11-21T18:45:00.672460Z",
     "start_time": "2018-11-21T18:45:00.659460Z"
    }
   },
   "outputs": [
    {
     "data": {
      "text/plain": [
       "90.15799999999999"
      ]
     },
     "execution_count": 57,
     "metadata": {},
     "output_type": "execute_result"
    }
   ],
   "source": [
    "sum(filter_sp_cus_252_pg3_dict_sales_share.values())"
   ]
  },
  {
   "cell_type": "code",
   "execution_count": 58,
   "metadata": {
    "ExecuteTime": {
     "end_time": "2018-11-21T18:45:00.912460Z",
     "start_time": "2018-11-21T18:45:00.674460Z"
    }
   },
   "outputs": [],
   "source": [
    "no_sp_cus_252_flat_pg3_sales = [j for i in cus_252_days[cus_252_days['SP_CUS'] == 0]['D252_FLAT_PG3_AGGSALES'] for j in i]"
   ]
  },
  {
   "cell_type": "code",
   "execution_count": 59,
   "metadata": {
    "ExecuteTime": {
     "end_time": "2018-11-21T18:45:05.401460Z",
     "start_time": "2018-11-21T18:45:00.913460Z"
    }
   },
   "outputs": [],
   "source": [
    "no_sp_cus_252_pg3_sales = sorted([(pg3, np.round(sum([sales_ for pg_3_, sales_ in no_sp_cus_252_flat_pg3_sales if pg3==pg_3_\n",
    "                                                        ]), 3)) \n",
    "                                for pg3 in set([pg_3 for pg_3, sales in no_sp_cus_252_flat_pg3_sales])], key= lambda x: x[1], reverse=True)"
   ]
  },
  {
   "cell_type": "code",
   "execution_count": 60,
   "metadata": {
    "ExecuteTime": {
     "end_time": "2018-11-21T18:45:05.406460Z",
     "start_time": "2018-11-21T18:45:05.403460Z"
    }
   },
   "outputs": [],
   "source": [
    "no_sp_cus_252_pg3_dict_sales_no_disc = {i[0]: i[1] for i in no_sp_cus_252_pg3_sales if i[0] != 0}"
   ]
  },
  {
   "cell_type": "code",
   "execution_count": 61,
   "metadata": {
    "ExecuteTime": {
     "end_time": "2018-11-21T18:45:05.424460Z",
     "start_time": "2018-11-21T18:45:05.407460Z"
    }
   },
   "outputs": [],
   "source": [
    "no_sp_cus_252_pg3_dict_sales_share = {a: np.round(b/sum(no_sp_cus_252_pg3_dict_sales_no_disc.values())*100, 3) \n",
    "                                                     for a, b in list(zip(no_sp_cus_252_pg3_dict_sales_no_disc.keys(),\n",
    "                                                                          no_sp_cus_252_pg3_dict_sales_no_disc.values()))}"
   ]
  },
  {
   "cell_type": "code",
   "execution_count": 62,
   "metadata": {
    "ExecuteTime": {
     "end_time": "2018-11-21T18:45:05.438460Z",
     "start_time": "2018-11-21T18:45:05.426460Z"
    }
   },
   "outputs": [],
   "source": [
    "filter_no_sp_cus_252_pg3_dict_sales_share = {x: y for x, y in list(zip(no_sp_cus_252_pg3_dict_sales_share.keys(),\n",
    "                                                                no_sp_cus_252_pg3_dict_sales_share.values()))\n",
    "                                            if y >= 1}"
   ]
  },
  {
   "cell_type": "code",
   "execution_count": 63,
   "metadata": {
    "ExecuteTime": {
     "end_time": "2018-11-21T18:45:05.454460Z",
     "start_time": "2018-11-21T18:45:05.440460Z"
    }
   },
   "outputs": [
    {
     "data": {
      "text/plain": [
       "89.924"
      ]
     },
     "execution_count": 63,
     "metadata": {},
     "output_type": "execute_result"
    }
   ],
   "source": [
    "sum(filter_no_sp_cus_252_pg3_dict_sales_share.values())"
   ]
  },
  {
   "cell_type": "code",
   "execution_count": 64,
   "metadata": {
    "ExecuteTime": {
     "end_time": "2018-11-21T18:45:05.469460Z",
     "start_time": "2018-11-21T18:45:05.456460Z"
    }
   },
   "outputs": [
    {
     "data": {
      "text/plain": [
       "{9: 1.056,\n",
       " 18: 3.755,\n",
       " 23: 1.506,\n",
       " 29: 1.586,\n",
       " 34: 1.628,\n",
       " 251: 33.939,\n",
       " 252: 20.364,\n",
       " 301: 7.272,\n",
       " 857: 3.445,\n",
       " 2068: 12.726,\n",
       " 207553: 2.881}"
      ]
     },
     "execution_count": 64,
     "metadata": {},
     "output_type": "execute_result"
    }
   ],
   "source": [
    "filter_sp_cus_252_pg3_dict_sales_share"
   ]
  },
  {
   "cell_type": "code",
   "execution_count": 65,
   "metadata": {
    "ExecuteTime": {
     "end_time": "2018-11-21T18:45:05.485460Z",
     "start_time": "2018-11-21T18:45:05.470460Z"
    }
   },
   "outputs": [
    {
     "data": {
      "text/plain": [
       "{9: 1.593,\n",
       " 18: 3.202,\n",
       " 23: 2.054,\n",
       " 29: 1.712,\n",
       " 34: 1.135,\n",
       " 251: 36.068,\n",
       " 252: 21.232,\n",
       " 301: 6.157,\n",
       " 409: 1.19,\n",
       " 857: 2.129,\n",
       " 2068: 8.735,\n",
       " 2190: 1.056,\n",
       " 207553: 3.661}"
      ]
     },
     "execution_count": 65,
     "metadata": {},
     "output_type": "execute_result"
    }
   ],
   "source": [
    "filter_no_sp_cus_252_pg3_dict_sales_share"
   ]
  },
  {
   "cell_type": "code",
   "execution_count": 66,
   "metadata": {
    "ExecuteTime": {
     "end_time": "2018-11-21T18:45:05.498460Z",
     "start_time": "2018-11-21T18:45:05.486460Z"
    }
   },
   "outputs": [],
   "source": [
    "sp_cus_pg3_share_df = pd.DataFrame.from_dict(filter_sp_cus_252_pg3_dict_sales_share, orient='index')\n",
    "no_sp_cus_pg3_share_df = pd.DataFrame.from_dict(filter_no_sp_cus_252_pg3_dict_sales_share, orient='index')"
   ]
  },
  {
   "cell_type": "code",
   "execution_count": 67,
   "metadata": {
    "ExecuteTime": {
     "end_time": "2018-11-21T18:45:05.521460Z",
     "start_time": "2018-11-21T18:45:05.500460Z"
    }
   },
   "outputs": [
    {
     "data": {
      "text/html": [
       "<div>\n",
       "<style scoped>\n",
       "    .dataframe tbody tr th:only-of-type {\n",
       "        vertical-align: middle;\n",
       "    }\n",
       "\n",
       "    .dataframe tbody tr th {\n",
       "        vertical-align: top;\n",
       "    }\n",
       "\n",
       "    .dataframe thead th {\n",
       "        text-align: right;\n",
       "    }\n",
       "</style>\n",
       "<table border=\"1\" class=\"dataframe\">\n",
       "  <thead>\n",
       "    <tr style=\"text-align: right;\">\n",
       "      <th></th>\n",
       "      <th>PG3</th>\n",
       "      <th>SP_CUS</th>\n",
       "      <th>NO_SP_CUS</th>\n",
       "    </tr>\n",
       "  </thead>\n",
       "  <tbody>\n",
       "    <tr>\n",
       "      <th>9</th>\n",
       "      <td>9</td>\n",
       "      <td>1.056</td>\n",
       "      <td>1.593</td>\n",
       "    </tr>\n",
       "    <tr>\n",
       "      <th>18</th>\n",
       "      <td>18</td>\n",
       "      <td>3.755</td>\n",
       "      <td>3.202</td>\n",
       "    </tr>\n",
       "    <tr>\n",
       "      <th>23</th>\n",
       "      <td>23</td>\n",
       "      <td>1.506</td>\n",
       "      <td>2.054</td>\n",
       "    </tr>\n",
       "    <tr>\n",
       "      <th>29</th>\n",
       "      <td>29</td>\n",
       "      <td>1.586</td>\n",
       "      <td>1.712</td>\n",
       "    </tr>\n",
       "    <tr>\n",
       "      <th>34</th>\n",
       "      <td>34</td>\n",
       "      <td>1.628</td>\n",
       "      <td>1.135</td>\n",
       "    </tr>\n",
       "    <tr>\n",
       "      <th>251</th>\n",
       "      <td>251</td>\n",
       "      <td>33.939</td>\n",
       "      <td>36.068</td>\n",
       "    </tr>\n",
       "    <tr>\n",
       "      <th>252</th>\n",
       "      <td>252</td>\n",
       "      <td>20.364</td>\n",
       "      <td>21.232</td>\n",
       "    </tr>\n",
       "    <tr>\n",
       "      <th>301</th>\n",
       "      <td>301</td>\n",
       "      <td>7.272</td>\n",
       "      <td>6.157</td>\n",
       "    </tr>\n",
       "    <tr>\n",
       "      <th>409</th>\n",
       "      <td>409</td>\n",
       "      <td>0.000</td>\n",
       "      <td>1.190</td>\n",
       "    </tr>\n",
       "    <tr>\n",
       "      <th>857</th>\n",
       "      <td>857</td>\n",
       "      <td>3.445</td>\n",
       "      <td>2.129</td>\n",
       "    </tr>\n",
       "    <tr>\n",
       "      <th>2068</th>\n",
       "      <td>2068</td>\n",
       "      <td>12.726</td>\n",
       "      <td>8.735</td>\n",
       "    </tr>\n",
       "    <tr>\n",
       "      <th>2190</th>\n",
       "      <td>2190</td>\n",
       "      <td>0.000</td>\n",
       "      <td>1.056</td>\n",
       "    </tr>\n",
       "    <tr>\n",
       "      <th>207553</th>\n",
       "      <td>207553</td>\n",
       "      <td>2.881</td>\n",
       "      <td>3.661</td>\n",
       "    </tr>\n",
       "  </tbody>\n",
       "</table>\n",
       "</div>"
      ],
      "text/plain": [
       "           PG3  SP_CUS  NO_SP_CUS\n",
       "9            9   1.056      1.593\n",
       "18          18   3.755      3.202\n",
       "23          23   1.506      2.054\n",
       "29          29   1.586      1.712\n",
       "34          34   1.628      1.135\n",
       "251        251  33.939     36.068\n",
       "252        252  20.364     21.232\n",
       "301        301   7.272      6.157\n",
       "409        409   0.000      1.190\n",
       "857        857   3.445      2.129\n",
       "2068      2068  12.726      8.735\n",
       "2190      2190   0.000      1.056\n",
       "207553  207553   2.881      3.661"
      ]
     },
     "execution_count": 67,
     "metadata": {},
     "output_type": "execute_result"
    }
   ],
   "source": [
    "pg3_share_comparison = pd.concat([sp_cus_pg3_share_df,no_sp_cus_pg3_share_df], axis=1).fillna(0)\n",
    "pg3_share_comparison.columns = ['SP_CUS', 'NO_SP_CUS']\n",
    "pg3_share_comparison['PG3'] = pg3_share_comparison.index.values\n",
    "#pg3_share_comparison['PG3'] = pg3_share_comparison['PG3'].astype(str)\n",
    "pg3_share_comparison = pg3_share_comparison[['PG3', 'SP_CUS', 'NO_SP_CUS']]\n",
    "pg3_share_comparison"
   ]
  },
  {
   "cell_type": "code",
   "execution_count": 68,
   "metadata": {
    "ExecuteTime": {
     "end_time": "2018-11-21T18:45:05.535460Z",
     "start_time": "2018-11-21T18:45:05.522460Z"
    }
   },
   "outputs": [],
   "source": [
    "pg3_l = list(pg3_share_comparison['PG3'].values)"
   ]
  },
  {
   "cell_type": "code",
   "execution_count": 69,
   "metadata": {
    "ExecuteTime": {
     "end_time": "2018-11-21T18:45:05.549460Z",
     "start_time": "2018-11-21T18:45:05.537460Z"
    }
   },
   "outputs": [],
   "source": [
    "pg3_list = repr(pg3_l).replace('[','(').replace(']',')')"
   ]
  },
  {
   "cell_type": "code",
   "execution_count": 70,
   "metadata": {
    "ExecuteTime": {
     "end_time": "2018-11-21T18:45:05.580460Z",
     "start_time": "2018-11-21T18:45:05.550460Z"
    }
   },
   "outputs": [],
   "source": [
    "query = \"\"\"select pg_id, pg_shortlink from ZOOMAN.PRODUCT_GROUPS\n",
    "where pg_id in %s\"\"\" % pg3_list"
   ]
  },
  {
   "cell_type": "code",
   "execution_count": 71,
   "metadata": {
    "ExecuteTime": {
     "end_time": "2018-11-21T18:45:06.487460Z",
     "start_time": "2018-11-21T18:45:05.582460Z"
    }
   },
   "outputs": [],
   "source": [
    "conn = cx_Oracle.connect('zooor', 'zoo12or', 'zoorep', threaded=True, encoding = \"UTF-8\", nencoding = \"UTF-8\")\n",
    "pg3 = pd.read_sql(query, con = conn)\n",
    "conn.close()"
   ]
  },
  {
   "cell_type": "code",
   "execution_count": 72,
   "metadata": {
    "ExecuteTime": {
     "end_time": "2018-11-21T18:45:06.498460Z",
     "start_time": "2018-11-21T18:45:06.488460Z"
    }
   },
   "outputs": [
    {
     "data": {
      "text/html": [
       "<div>\n",
       "<style scoped>\n",
       "    .dataframe tbody tr th:only-of-type {\n",
       "        vertical-align: middle;\n",
       "    }\n",
       "\n",
       "    .dataframe tbody tr th {\n",
       "        vertical-align: top;\n",
       "    }\n",
       "\n",
       "    .dataframe thead th {\n",
       "        text-align: right;\n",
       "    }\n",
       "</style>\n",
       "<table border=\"1\" class=\"dataframe\">\n",
       "  <thead>\n",
       "    <tr style=\"text-align: right;\">\n",
       "      <th></th>\n",
       "      <th>PG_ID</th>\n",
       "      <th>PG_SHORTLINK</th>\n",
       "    </tr>\n",
       "  </thead>\n",
       "  <tbody>\n",
       "    <tr>\n",
       "      <th>0</th>\n",
       "      <td>9</td>\n",
       "      <td>hundebett</td>\n",
       "    </tr>\n",
       "    <tr>\n",
       "      <th>1</th>\n",
       "      <td>18</td>\n",
       "      <td>hundesnacks</td>\n",
       "    </tr>\n",
       "    <tr>\n",
       "      <th>2</th>\n",
       "      <td>23</td>\n",
       "      <td>kratzbaum_katzenbaum</td>\n",
       "    </tr>\n",
       "    <tr>\n",
       "      <th>3</th>\n",
       "      <td>29</td>\n",
       "      <td>katzentoilette</td>\n",
       "    </tr>\n",
       "    <tr>\n",
       "      <th>4</th>\n",
       "      <td>34</td>\n",
       "      <td>katzensnacks</td>\n",
       "    </tr>\n",
       "    <tr>\n",
       "      <th>5</th>\n",
       "      <td>251</td>\n",
       "      <td>hundefutter_trockenfutter</td>\n",
       "    </tr>\n",
       "    <tr>\n",
       "      <th>6</th>\n",
       "      <td>252</td>\n",
       "      <td>katzenfutter_trockenfutter</td>\n",
       "    </tr>\n",
       "    <tr>\n",
       "      <th>7</th>\n",
       "      <td>301</td>\n",
       "      <td>katzenstreu</td>\n",
       "    </tr>\n",
       "    <tr>\n",
       "      <th>8</th>\n",
       "      <td>409</td>\n",
       "      <td>hundepflege</td>\n",
       "    </tr>\n",
       "    <tr>\n",
       "      <th>9</th>\n",
       "      <td>857</td>\n",
       "      <td>hundefutter_nassfutter</td>\n",
       "    </tr>\n",
       "    <tr>\n",
       "      <th>10</th>\n",
       "      <td>2068</td>\n",
       "      <td>katzenfutter_dose</td>\n",
       "    </tr>\n",
       "    <tr>\n",
       "      <th>11</th>\n",
       "      <td>2190</td>\n",
       "      <td>hundetransportbox</td>\n",
       "    </tr>\n",
       "    <tr>\n",
       "      <th>12</th>\n",
       "      <td>207553</td>\n",
       "      <td>ungezieferschutz</td>\n",
       "    </tr>\n",
       "  </tbody>\n",
       "</table>\n",
       "</div>"
      ],
      "text/plain": [
       "     PG_ID                PG_SHORTLINK\n",
       "0        9                   hundebett\n",
       "1       18                 hundesnacks\n",
       "2       23        kratzbaum_katzenbaum\n",
       "3       29              katzentoilette\n",
       "4       34                katzensnacks\n",
       "5      251   hundefutter_trockenfutter\n",
       "6      252  katzenfutter_trockenfutter\n",
       "7      301                 katzenstreu\n",
       "8      409                 hundepflege\n",
       "9      857      hundefutter_nassfutter\n",
       "10    2068           katzenfutter_dose\n",
       "11    2190           hundetransportbox\n",
       "12  207553            ungezieferschutz"
      ]
     },
     "execution_count": 72,
     "metadata": {},
     "output_type": "execute_result"
    }
   ],
   "source": [
    "pg3"
   ]
  },
  {
   "cell_type": "code",
   "execution_count": 73,
   "metadata": {
    "ExecuteTime": {
     "end_time": "2018-11-21T18:45:06.513460Z",
     "start_time": "2018-11-21T18:45:06.499460Z"
    }
   },
   "outputs": [],
   "source": [
    "pg3_dict = {x: y for x, y in list(zip(pg3['PG_ID'].values, pg3['PG_SHORTLINK'].values))}"
   ]
  },
  {
   "cell_type": "code",
   "execution_count": 74,
   "metadata": {
    "ExecuteTime": {
     "end_time": "2018-11-21T18:45:09.012460Z",
     "start_time": "2018-11-21T18:45:06.515460Z"
    }
   },
   "outputs": [],
   "source": [
    "pg3_share_comparison['PG3_NAME'] = [pg3_dict[i] for i in pg3_share_comparison['PG3'].values]"
   ]
  },
  {
   "cell_type": "code",
   "execution_count": 75,
   "metadata": {
    "ExecuteTime": {
     "end_time": "2018-11-21T18:45:09.040460Z",
     "start_time": "2018-11-21T18:45:09.013460Z"
    }
   },
   "outputs": [
    {
     "data": {
      "text/html": [
       "<div>\n",
       "<style scoped>\n",
       "    .dataframe tbody tr th:only-of-type {\n",
       "        vertical-align: middle;\n",
       "    }\n",
       "\n",
       "    .dataframe tbody tr th {\n",
       "        vertical-align: top;\n",
       "    }\n",
       "\n",
       "    .dataframe thead th {\n",
       "        text-align: right;\n",
       "    }\n",
       "</style>\n",
       "<table border=\"1\" class=\"dataframe\">\n",
       "  <thead>\n",
       "    <tr style=\"text-align: right;\">\n",
       "      <th></th>\n",
       "      <th>PG3</th>\n",
       "      <th>SP_CUS</th>\n",
       "      <th>NO_SP_CUS</th>\n",
       "      <th>PG3_NAME</th>\n",
       "    </tr>\n",
       "  </thead>\n",
       "  <tbody>\n",
       "    <tr>\n",
       "      <th>9</th>\n",
       "      <td>9</td>\n",
       "      <td>1.056</td>\n",
       "      <td>1.593</td>\n",
       "      <td>hundebett</td>\n",
       "    </tr>\n",
       "    <tr>\n",
       "      <th>18</th>\n",
       "      <td>18</td>\n",
       "      <td>3.755</td>\n",
       "      <td>3.202</td>\n",
       "      <td>hundesnacks</td>\n",
       "    </tr>\n",
       "    <tr>\n",
       "      <th>23</th>\n",
       "      <td>23</td>\n",
       "      <td>1.506</td>\n",
       "      <td>2.054</td>\n",
       "      <td>kratzbaum_katzenbaum</td>\n",
       "    </tr>\n",
       "    <tr>\n",
       "      <th>29</th>\n",
       "      <td>29</td>\n",
       "      <td>1.586</td>\n",
       "      <td>1.712</td>\n",
       "      <td>katzentoilette</td>\n",
       "    </tr>\n",
       "    <tr>\n",
       "      <th>34</th>\n",
       "      <td>34</td>\n",
       "      <td>1.628</td>\n",
       "      <td>1.135</td>\n",
       "      <td>katzensnacks</td>\n",
       "    </tr>\n",
       "    <tr>\n",
       "      <th>251</th>\n",
       "      <td>251</td>\n",
       "      <td>33.939</td>\n",
       "      <td>36.068</td>\n",
       "      <td>hundefutter_trockenfutter</td>\n",
       "    </tr>\n",
       "    <tr>\n",
       "      <th>252</th>\n",
       "      <td>252</td>\n",
       "      <td>20.364</td>\n",
       "      <td>21.232</td>\n",
       "      <td>katzenfutter_trockenfutter</td>\n",
       "    </tr>\n",
       "    <tr>\n",
       "      <th>301</th>\n",
       "      <td>301</td>\n",
       "      <td>7.272</td>\n",
       "      <td>6.157</td>\n",
       "      <td>katzenstreu</td>\n",
       "    </tr>\n",
       "    <tr>\n",
       "      <th>409</th>\n",
       "      <td>409</td>\n",
       "      <td>0.000</td>\n",
       "      <td>1.190</td>\n",
       "      <td>hundepflege</td>\n",
       "    </tr>\n",
       "    <tr>\n",
       "      <th>857</th>\n",
       "      <td>857</td>\n",
       "      <td>3.445</td>\n",
       "      <td>2.129</td>\n",
       "      <td>hundefutter_nassfutter</td>\n",
       "    </tr>\n",
       "    <tr>\n",
       "      <th>2068</th>\n",
       "      <td>2068</td>\n",
       "      <td>12.726</td>\n",
       "      <td>8.735</td>\n",
       "      <td>katzenfutter_dose</td>\n",
       "    </tr>\n",
       "    <tr>\n",
       "      <th>2190</th>\n",
       "      <td>2190</td>\n",
       "      <td>0.000</td>\n",
       "      <td>1.056</td>\n",
       "      <td>hundetransportbox</td>\n",
       "    </tr>\n",
       "    <tr>\n",
       "      <th>207553</th>\n",
       "      <td>207553</td>\n",
       "      <td>2.881</td>\n",
       "      <td>3.661</td>\n",
       "      <td>ungezieferschutz</td>\n",
       "    </tr>\n",
       "  </tbody>\n",
       "</table>\n",
       "</div>"
      ],
      "text/plain": [
       "           PG3  SP_CUS  NO_SP_CUS                    PG3_NAME\n",
       "9            9   1.056      1.593                   hundebett\n",
       "18          18   3.755      3.202                 hundesnacks\n",
       "23          23   1.506      2.054        kratzbaum_katzenbaum\n",
       "29          29   1.586      1.712              katzentoilette\n",
       "34          34   1.628      1.135                katzensnacks\n",
       "251        251  33.939     36.068   hundefutter_trockenfutter\n",
       "252        252  20.364     21.232  katzenfutter_trockenfutter\n",
       "301        301   7.272      6.157                 katzenstreu\n",
       "409        409   0.000      1.190                 hundepflege\n",
       "857        857   3.445      2.129      hundefutter_nassfutter\n",
       "2068      2068  12.726      8.735           katzenfutter_dose\n",
       "2190      2190   0.000      1.056           hundetransportbox\n",
       "207553  207553   2.881      3.661            ungezieferschutz"
      ]
     },
     "execution_count": 75,
     "metadata": {},
     "output_type": "execute_result"
    }
   ],
   "source": [
    "pg3_share_comparison"
   ]
  },
  {
   "cell_type": "code",
   "execution_count": 76,
   "metadata": {
    "ExecuteTime": {
     "end_time": "2018-11-21T18:45:09.296460Z",
     "start_time": "2018-11-21T18:45:09.041460Z"
    }
   },
   "outputs": [
    {
     "data": {
      "image/png": "[encoded data removed]",
      "text/plain": [
       "<matplotlib.figure.Figure at 0x1166b4a8>"
      ]
     },
     "metadata": {},
     "output_type": "display_data"
    }
   ],
   "source": [
    "plt.figure(figsize=(12, 12))\n",
    "x = pg3_share_comparison['PG3_NAME'].values\n",
    "y = pg3_share_comparison['SP_CUS'].values\n",
    "z = pg3_share_comparison['NO_SP_CUS'].values\n",
    "plt.barh(x, y, color='g')\n",
    "plt.barh(x, z, color='orange', alpha=0.5)\n",
    "plt.ylabel('PG3')\n",
    "plt.xlabel('Sales share %')\n",
    "plt.legend(['SP Customers', 'NO SP Customers'])\n",
    "plt.show()"
   ]
  },
  {
   "cell_type": "markdown",
   "metadata": {},
   "source": [
    "#### Scenario B: Customers with SP, analyse orders with/without SP"
   ]
  },
  {
   "cell_type": "code",
   "execution_count": 2,
   "metadata": {
    "ExecuteTime": {
     "end_time": "2018-11-22T15:40:00.947616Z",
     "start_time": "2018-11-22T15:39:41.434616Z"
    }
   },
   "outputs": [],
   "source": [
    "customers = pd.read_pickle(\"./customers_es_shop_sp_cross_selling.pkl\")"
   ]
  },
  {
   "cell_type": "code",
   "execution_count": 3,
   "metadata": {
    "ExecuteTime": {
     "end_time": "2018-11-22T15:40:01.080616Z",
     "start_time": "2018-11-22T15:40:00.949616Z"
    }
   },
   "outputs": [],
   "source": [
    "customers['O_W_SP'] = [sum(i) for i in customers['SP_DISC'].values]"
   ]
  },
  {
   "cell_type": "code",
   "execution_count": 4,
   "metadata": {
    "ExecuteTime": {
     "end_time": "2018-11-22T15:40:01.088616Z",
     "start_time": "2018-11-22T15:40:01.082616Z"
    }
   },
   "outputs": [],
   "source": [
    "customers['O_WO_SP'] = customers['SCM_N_ORDER_NR_len'] - customers['O_W_SP']"
   ]
  },
  {
   "cell_type": "code",
   "execution_count": 5,
   "metadata": {
    "ExecuteTime": {
     "end_time": "2018-11-22T15:40:03.243616Z",
     "start_time": "2018-11-22T15:40:01.090616Z"
    }
   },
   "outputs": [],
   "source": [
    "customers['NO_SP_DISC'] = [[not j for j in i] for i in customers['SP_DISC'].values]"
   ]
  },
  {
   "cell_type": "markdown",
   "metadata": {},
   "source": [
    "***Get customers with at least 3 orders without SP and and 3 orders with SP***"
   ]
  },
  {
   "cell_type": "code",
   "execution_count": 6,
   "metadata": {
    "ExecuteTime": {
     "end_time": "2018-11-22T15:40:03.556616Z",
     "start_time": "2018-11-22T15:40:03.244616Z"
    }
   },
   "outputs": [],
   "source": [
    "cus_scen_b = customers[(customers['O_WO_SP'] >= 3) & (customers['O_W_SP'] >= 3)].copy()"
   ]
  },
  {
   "cell_type": "code",
   "execution_count": 7,
   "metadata": {
    "ExecuteTime": {
     "end_time": "2018-11-22T15:40:03.577616Z",
     "start_time": "2018-11-22T15:40:03.557616Z"
    }
   },
   "outputs": [
    {
     "data": {
      "text/html": [
       "<div>\n",
       "<style scoped>\n",
       "    .dataframe tbody tr th:only-of-type {\n",
       "        vertical-align: middle;\n",
       "    }\n",
       "\n",
       "    .dataframe tbody tr th {\n",
       "        vertical-align: top;\n",
       "    }\n",
       "\n",
       "    .dataframe thead th {\n",
       "        text-align: right;\n",
       "    }\n",
       "</style>\n",
       "<table border=\"1\" class=\"dataframe\">\n",
       "  <thead>\n",
       "    <tr style=\"text-align: right;\">\n",
       "      <th></th>\n",
       "      <th>O_WO_SP</th>\n",
       "      <th>O_W_SP</th>\n",
       "    </tr>\n",
       "  </thead>\n",
       "  <tbody>\n",
       "    <tr>\n",
       "      <th>count</th>\n",
       "      <td>2936.00</td>\n",
       "      <td>2936.00</td>\n",
       "    </tr>\n",
       "    <tr>\n",
       "      <th>mean</th>\n",
       "      <td>4.80</td>\n",
       "      <td>7.89</td>\n",
       "    </tr>\n",
       "    <tr>\n",
       "      <th>std</th>\n",
       "      <td>6.14</td>\n",
       "      <td>42.53</td>\n",
       "    </tr>\n",
       "    <tr>\n",
       "      <th>min</th>\n",
       "      <td>3.00</td>\n",
       "      <td>3.00</td>\n",
       "    </tr>\n",
       "    <tr>\n",
       "      <th>25%</th>\n",
       "      <td>3.00</td>\n",
       "      <td>4.00</td>\n",
       "    </tr>\n",
       "    <tr>\n",
       "      <th>50%</th>\n",
       "      <td>4.00</td>\n",
       "      <td>5.00</td>\n",
       "    </tr>\n",
       "    <tr>\n",
       "      <th>75%</th>\n",
       "      <td>5.00</td>\n",
       "      <td>8.00</td>\n",
       "    </tr>\n",
       "    <tr>\n",
       "      <th>max</th>\n",
       "      <td>287.00</td>\n",
       "      <td>2210.00</td>\n",
       "    </tr>\n",
       "  </tbody>\n",
       "</table>\n",
       "</div>"
      ],
      "text/plain": [
       "       O_WO_SP   O_W_SP\n",
       "count  2936.00  2936.00\n",
       "mean      4.80     7.89\n",
       "std       6.14    42.53\n",
       "min       3.00     3.00\n",
       "25%       3.00     4.00\n",
       "50%       4.00     5.00\n",
       "75%       5.00     8.00\n",
       "max     287.00  2210.00"
      ]
     },
     "execution_count": 7,
     "metadata": {},
     "output_type": "execute_result"
    }
   ],
   "source": [
    "cus_scen_b[['O_WO_SP', 'O_W_SP']].describe().round(2)"
   ]
  },
  {
   "cell_type": "code",
   "execution_count": 8,
   "metadata": {
    "ExecuteTime": {
     "end_time": "2018-11-22T15:40:03.614616Z",
     "start_time": "2018-11-22T15:40:03.579616Z"
    }
   },
   "outputs": [
    {
     "data": {
      "text/plain": [
       "CUS_N_KEY_CUSTOMER                                                             3233648\n",
       "SCM_N_ORDER_NR_len                                                                   9\n",
       "TDT_T_KEY_ORDER_DATE_list            [2017-12-28, 2018-02-01, 2018-03-23, 2018-05-2...\n",
       "SCM_SALES_BMF_sum                                                               640.66\n",
       "SCM_SALES_BMF_list                   [102.55, 53.42, 77.97, 51.98, 78.9, 75.96, 68....\n",
       "SCM_D_FINANCE_CM1_sum                                                           220.61\n",
       "SCM_D_FINANCE_CM1_list               [40.47, 18.33, 26.74, 19.32, 18.55, 30.85, 26....\n",
       "SCM_D_FINANCE_CM2_sum                                                           115.99\n",
       "SCM_D_FINANCE_CM2_list               [31.27, 7.72, 17.8, 9.35, 9.28, 21.16, 3.8, 4....\n",
       "SCM_D_ORIG_FINANCE_ORDER_NET_sum                                                557.87\n",
       "SCM_D_ORIG_FINANCE_ORDER_NET_list    [85.0, 45.47, 68.4, 47.25, 70.16, 66.7, 61.2, ...\n",
       "OSP_KO_COUNT_NET_list                             [13, 14, 15, 16, 17, 18, 19, 20, 21]\n",
       "SCM_MASTER_AP_ID_list                [[6169, 71502, 35908, 54350, 9795, 77974, 7528...\n",
       "CZP_ZTQ_ID                                             [nan, nan, nan, nan, nan, 53.0]\n",
       "CZP_START_DATE                                                       [nan, 2018-07-13]\n",
       "CZP_EXPIRY_DATE                                                      [nan, 2019-07-13]\n",
       "PG3_AGGSALES                         [[(153317, 69.99), (301, 22.99), (2190, 3.99),...\n",
       "PG4_AGGSALES                         [[(260721, 69.99), (10331, 22.99), (110, 3.99)...\n",
       "BRAND_AGGSALES                       [[(GPS-Tracker, 69.99), (★ Tigerino, 22.99), (...\n",
       "SP_DISC                              [False, False, False, False, False, True, True...\n",
       "D28                                                                2018-01-25 00:00:00\n",
       "D56                                                                2018-02-22 00:00:00\n",
       "D84                                                                2018-03-22 00:00:00\n",
       "D168                                                               2018-06-14 00:00:00\n",
       "D252                                                               2018-09-06 00:00:00\n",
       "D336                                                               2018-11-29 00:00:00\n",
       "O_TIMEDELTAS                                           [35, 50, 58, 24, 30, 16, 8, 31]\n",
       "FLAT_PG3_SALES                       [(153317, 69.99), (301, 22.99), (2190, 3.99), ...\n",
       "FLAT_PG4_SALES                       [(260721, 69.99), (10331, 22.99), (110, 3.99),...\n",
       "FLAT_BRAND_SALES                     [(GPS-Tracker, 69.99), (★ Tigerino, 22.99), (H...\n",
       "TOTAL_PG3_SALES                      [(251, 197.96), (153317, 72.98), (207553, 68.9...\n",
       "TOTAL_PG4_SALES                      [(280194, 197.96), (260721, 69.99), (207615, 6...\n",
       "TOTAL_BRAND_SALES                    [(Natural Greatness, 232.95), (GPS-Tracker, 69...\n",
       "O_W_SP                                                                               4\n",
       "O_WO_SP                                                                              5\n",
       "NO_SP_DISC                           [True, True, True, True, True, False, False, F...\n",
       "Name: 9456, dtype: object"
      ]
     },
     "execution_count": 8,
     "metadata": {},
     "output_type": "execute_result"
    }
   ],
   "source": [
    "cus_scen_b.iloc[128]"
   ]
  },
  {
   "cell_type": "code",
   "execution_count": 9,
   "metadata": {
    "ExecuteTime": {
     "end_time": "2018-11-22T15:40:03.626616Z",
     "start_time": "2018-11-22T15:40:03.615616Z"
    }
   },
   "outputs": [
    {
     "data": {
      "text/plain": [
       "array([[5],\n",
       "       [6],\n",
       "       [7],\n",
       "       [8]], dtype=int64)"
      ]
     },
     "execution_count": 9,
     "metadata": {},
     "output_type": "execute_result"
    }
   ],
   "source": [
    "#Position of 1st True Value (6th value), at least we want 3 orders before so first True must be at least in position 3\n",
    "np.argwhere(cus_scen_b.iloc[128]['SP_DISC'])"
   ]
  },
  {
   "cell_type": "code",
   "execution_count": 10,
   "metadata": {
    "ExecuteTime": {
     "end_time": "2018-11-22T15:40:03.686616Z",
     "start_time": "2018-11-22T15:40:03.627616Z"
    }
   },
   "outputs": [],
   "source": [
    "cus_scen_b['SCEN_2B'] = [(np.argwhere(i)[0][0] >= 3) * 1 for i in cus_scen_b['SP_DISC'].values]"
   ]
  },
  {
   "cell_type": "code",
   "execution_count": 11,
   "metadata": {
    "ExecuteTime": {
     "end_time": "2018-11-22T15:40:03.732616Z",
     "start_time": "2018-11-22T15:40:03.687616Z"
    }
   },
   "outputs": [],
   "source": [
    "cus_scen_b['SCEN_2B_POS'] = [np.argwhere(i)[0][0] for i in cus_scen_b['SP_DISC'].values]"
   ]
  },
  {
   "cell_type": "code",
   "execution_count": 12,
   "metadata": {
    "ExecuteTime": {
     "end_time": "2018-11-22T15:40:03.750616Z",
     "start_time": "2018-11-22T15:40:03.733616Z"
    }
   },
   "outputs": [
    {
     "data": {
      "text/plain": [
       "1    1584\n",
       "0    1352\n",
       "Name: SCEN_2B, dtype: int64"
      ]
     },
     "execution_count": 12,
     "metadata": {},
     "output_type": "execute_result"
    }
   ],
   "source": [
    "cus_scen_b['SCEN_2B'].value_counts()"
   ]
  },
  {
   "cell_type": "code",
   "execution_count": 13,
   "metadata": {
    "ExecuteTime": {
     "end_time": "2018-11-22T15:40:03.767616Z",
     "start_time": "2018-11-22T15:40:03.751616Z"
    }
   },
   "outputs": [],
   "source": [
    "cus_scen_2b = cus_scen_b[cus_scen_b['SCEN_2B'] == 1].copy()"
   ]
  },
  {
   "cell_type": "code",
   "execution_count": 14,
   "metadata": {
    "ExecuteTime": {
     "end_time": "2018-11-22T15:40:03.781616Z",
     "start_time": "2018-11-22T15:40:03.768616Z"
    }
   },
   "outputs": [],
   "source": [
    "cus_scen_2b['WO_SP_1st_POS'] = cus_scen_2b['SCEN_2B_POS'] - 3\n",
    "cus_scen_2b['W_SP_last_POS'] = cus_scen_2b['SCEN_2B_POS'] + 3"
   ]
  },
  {
   "cell_type": "code",
   "execution_count": 15,
   "metadata": {
    "ExecuteTime": {
     "end_time": "2018-11-22T15:40:03.827616Z",
     "start_time": "2018-11-22T15:40:03.782616Z"
    }
   },
   "outputs": [
    {
     "data": {
      "text/plain": [
       "183317    [[(251, 50.99), (2068, 17.99), (40023, 12.99),...\n",
       "42643     [[(252, 21.0), (301, 15.98), (2068, 3.98)], [(...\n",
       "18921     [[(207553, 24.99), (18, 22.98), (221, 13.99), ...\n",
       "61602     [[(252, 87.99), (301, 17.98), (857, 9.99), (34...\n",
       "196072    [[(47, 21.16), (49828, 19.98), (42, 15.2), (29...\n",
       "Name: PG3_AGGSALES, dtype: object"
      ]
     },
     "execution_count": 15,
     "metadata": {},
     "output_type": "execute_result"
    }
   ],
   "source": [
    "cus_scen_2b.sample(5)['PG3_AGGSALES']"
   ]
  },
  {
   "cell_type": "markdown",
   "metadata": {},
   "source": [
    "+   KPIs: Sales, AOV, CM1%, CM2%\n",
    "+\tNumber of PG3s the customer bought in and Sales Share in the according class \n",
    "+\tSpend in the classes that he did not buy before but started buying in with Savingsplan (would only work for Scenario b))\n",
    "+\tAverage Sales Share of Royal Canin products – with/without SP\n",
    "+\tAverage Sales Share of Hills products – with/without SP"
   ]
  },
  {
   "cell_type": "markdown",
   "metadata": {
    "ExecuteTime": {
     "end_time": "2018-11-21T16:44:06.050460Z",
     "start_time": "2018-11-21T16:44:06.047460Z"
    }
   },
   "source": [
    "##### Sales in 3 orders previous SP vs 3 posterior orders"
   ]
  },
  {
   "cell_type": "code",
   "execution_count": 16,
   "metadata": {
    "ExecuteTime": {
     "end_time": "2018-11-22T15:40:03.834616Z",
     "start_time": "2018-11-22T15:40:03.829616Z"
    }
   },
   "outputs": [],
   "source": [
    "cus_scen_2b['SALES_WO_SP'] = [sum(x[y:z]) for x, y, z in list(zip(cus_scen_2b['SCM_SALES_BMF_list'],\n",
    "                                                     cus_scen_2b['WO_SP_1st_POS'],\n",
    "                                                     cus_scen_2b['SCEN_2B_POS']))]"
   ]
  },
  {
   "cell_type": "code",
   "execution_count": 17,
   "metadata": {
    "ExecuteTime": {
     "end_time": "2018-11-22T15:40:03.848616Z",
     "start_time": "2018-11-22T15:40:03.835616Z"
    }
   },
   "outputs": [],
   "source": [
    "cus_scen_2b['SALES_W_SP'] = [sum(x[y:z]) for x, y, z in list(zip(cus_scen_2b['SCM_SALES_BMF_list'],\n",
    "                                                     cus_scen_2b['SCEN_2B_POS'],\n",
    "                                                     cus_scen_2b['W_SP_last_POS']))]"
   ]
  },
  {
   "cell_type": "code",
   "execution_count": 18,
   "metadata": {
    "ExecuteTime": {
     "end_time": "2018-11-22T15:40:04.210616Z",
     "start_time": "2018-11-22T15:40:03.849616Z"
    }
   },
   "outputs": [
    {
     "data": {
      "image/png": "[encoded data removed]",
      "text/plain": [
       "<matplotlib.figure.Figure at 0xcea3d30>"
      ]
     },
     "metadata": {},
     "output_type": "display_data"
    },
    {
     "data": {
      "text/html": [
       "<div>\n",
       "<style scoped>\n",
       "    .dataframe tbody tr th:only-of-type {\n",
       "        vertical-align: middle;\n",
       "    }\n",
       "\n",
       "    .dataframe tbody tr th {\n",
       "        vertical-align: top;\n",
       "    }\n",
       "\n",
       "    .dataframe thead th {\n",
       "        text-align: right;\n",
       "    }\n",
       "</style>\n",
       "<table border=\"1\" class=\"dataframe\">\n",
       "  <thead>\n",
       "    <tr style=\"text-align: right;\">\n",
       "      <th></th>\n",
       "      <th>Without SP orders</th>\n",
       "      <th>With SP orders</th>\n",
       "    </tr>\n",
       "  </thead>\n",
       "  <tbody>\n",
       "    <tr>\n",
       "      <th>count</th>\n",
       "      <td>1584.00</td>\n",
       "      <td>1584.00</td>\n",
       "    </tr>\n",
       "    <tr>\n",
       "      <th>mean</th>\n",
       "      <td>207.74</td>\n",
       "      <td>224.98</td>\n",
       "    </tr>\n",
       "    <tr>\n",
       "      <th>std</th>\n",
       "      <td>101.77</td>\n",
       "      <td>120.34</td>\n",
       "    </tr>\n",
       "    <tr>\n",
       "      <th>min</th>\n",
       "      <td>48.65</td>\n",
       "      <td>69.28</td>\n",
       "    </tr>\n",
       "    <tr>\n",
       "      <th>25%</th>\n",
       "      <td>144.85</td>\n",
       "      <td>156.78</td>\n",
       "    </tr>\n",
       "    <tr>\n",
       "      <th>50%</th>\n",
       "      <td>184.10</td>\n",
       "      <td>197.70</td>\n",
       "    </tr>\n",
       "    <tr>\n",
       "      <th>75%</th>\n",
       "      <td>244.91</td>\n",
       "      <td>262.63</td>\n",
       "    </tr>\n",
       "    <tr>\n",
       "      <th>max</th>\n",
       "      <td>1643.66</td>\n",
       "      <td>2526.08</td>\n",
       "    </tr>\n",
       "  </tbody>\n",
       "</table>\n",
       "</div>"
      ],
      "text/plain": [
       "       Without SP orders  With SP orders\n",
       "count            1584.00         1584.00\n",
       "mean              207.74          224.98\n",
       "std               101.77          120.34\n",
       "min                48.65           69.28\n",
       "25%               144.85          156.78\n",
       "50%               184.10          197.70\n",
       "75%               244.91          262.63\n",
       "max              1643.66         2526.08"
      ]
     },
     "metadata": {},
     "output_type": "display_data"
    }
   ],
   "source": [
    "concat_df = pd.DataFrame()\n",
    "\n",
    "sns.set()\n",
    "plt.figure(figsize=(12,8))\n",
    "plt.title('Histograms showing Sales per customer in 3 previous orders to SP and the next 3', fontsize=14)\n",
    "plt.ylabel('Customers')\n",
    "plt.xlabel('Sales per customer in 3 orders')\n",
    "\n",
    "cus_scen_2b['SALES_WO_SP'].hist(bins=50, range=(0, 500), alpha=0.5)\n",
    "cus_scen_2b['SALES_W_SP'].hist(bins=50, range=(0, 500), alpha=0.5)\n",
    "plt.legend(['Without SP orders', 'With SP orders'])\n",
    "concat_df = pd.concat([concat_df,\n",
    "                    pd.DataFrame(cus_scen_2b['SALES_WO_SP'].describe().round(2)),\n",
    "                    pd.DataFrame(cus_scen_2b['SALES_W_SP'].describe().round(2)),\n",
    "                        ], axis=1)\n",
    "plt.show() \n",
    "\n",
    "concat_df.columns = ['Without SP orders', 'With SP orders']\n",
    "display(concat_df)"
   ]
  },
  {
   "cell_type": "markdown",
   "metadata": {},
   "source": [
    "##### AOV"
   ]
  },
  {
   "cell_type": "code",
   "execution_count": 19,
   "metadata": {
    "ExecuteTime": {
     "end_time": "2018-11-22T15:40:04.244616Z",
     "start_time": "2018-11-22T15:40:04.212616Z"
    }
   },
   "outputs": [],
   "source": [
    "cus_scen_2b['AOV_WO_SP'] = [np.round(np.mean(x[y:z]), 2) for x, y, z in list(zip(cus_scen_2b['SCM_SALES_BMF_list'],\n",
    "                                                                         cus_scen_2b['WO_SP_1st_POS'],\n",
    "                                                                         cus_scen_2b['SCEN_2B_POS']))]"
   ]
  },
  {
   "cell_type": "code",
   "execution_count": 20,
   "metadata": {
    "ExecuteTime": {
     "end_time": "2018-11-22T15:40:04.286616Z",
     "start_time": "2018-11-22T15:40:04.246616Z"
    }
   },
   "outputs": [],
   "source": [
    "cus_scen_2b['AOV_W_SP'] = [np.round(np.mean(x[y:z]), 2) for x, y, z in list(zip(cus_scen_2b['SCM_SALES_BMF_list'],\n",
    "                                                                cus_scen_2b['SCEN_2B_POS'],\n",
    "                                                                cus_scen_2b['W_SP_last_POS']))]"
   ]
  },
  {
   "cell_type": "code",
   "execution_count": 21,
   "metadata": {
    "ExecuteTime": {
     "end_time": "2018-11-22T15:40:04.593616Z",
     "start_time": "2018-11-22T15:40:04.287616Z"
    }
   },
   "outputs": [
    {
     "data": {
      "image/png": "[encoded data removed]",
      "text/plain": [
       "<matplotlib.figure.Figure at 0xcea1cf8>"
      ]
     },
     "metadata": {},
     "output_type": "display_data"
    },
    {
     "data": {
      "text/html": [
       "<div>\n",
       "<style scoped>\n",
       "    .dataframe tbody tr th:only-of-type {\n",
       "        vertical-align: middle;\n",
       "    }\n",
       "\n",
       "    .dataframe tbody tr th {\n",
       "        vertical-align: top;\n",
       "    }\n",
       "\n",
       "    .dataframe thead th {\n",
       "        text-align: right;\n",
       "    }\n",
       "</style>\n",
       "<table border=\"1\" class=\"dataframe\">\n",
       "  <thead>\n",
       "    <tr style=\"text-align: right;\">\n",
       "      <th></th>\n",
       "      <th>Without SP orders</th>\n",
       "      <th>With SP orders</th>\n",
       "    </tr>\n",
       "  </thead>\n",
       "  <tbody>\n",
       "    <tr>\n",
       "      <th>count</th>\n",
       "      <td>1584.00</td>\n",
       "      <td>1584.00</td>\n",
       "    </tr>\n",
       "    <tr>\n",
       "      <th>mean</th>\n",
       "      <td>69.25</td>\n",
       "      <td>74.99</td>\n",
       "    </tr>\n",
       "    <tr>\n",
       "      <th>std</th>\n",
       "      <td>33.92</td>\n",
       "      <td>40.11</td>\n",
       "    </tr>\n",
       "    <tr>\n",
       "      <th>min</th>\n",
       "      <td>16.22</td>\n",
       "      <td>23.09</td>\n",
       "    </tr>\n",
       "    <tr>\n",
       "      <th>25%</th>\n",
       "      <td>48.28</td>\n",
       "      <td>52.26</td>\n",
       "    </tr>\n",
       "    <tr>\n",
       "      <th>50%</th>\n",
       "      <td>61.36</td>\n",
       "      <td>65.90</td>\n",
       "    </tr>\n",
       "    <tr>\n",
       "      <th>75%</th>\n",
       "      <td>81.63</td>\n",
       "      <td>87.55</td>\n",
       "    </tr>\n",
       "    <tr>\n",
       "      <th>max</th>\n",
       "      <td>547.89</td>\n",
       "      <td>842.03</td>\n",
       "    </tr>\n",
       "  </tbody>\n",
       "</table>\n",
       "</div>"
      ],
      "text/plain": [
       "       Without SP orders  With SP orders\n",
       "count            1584.00         1584.00\n",
       "mean               69.25           74.99\n",
       "std                33.92           40.11\n",
       "min                16.22           23.09\n",
       "25%                48.28           52.26\n",
       "50%                61.36           65.90\n",
       "75%                81.63           87.55\n",
       "max               547.89          842.03"
      ]
     },
     "metadata": {},
     "output_type": "display_data"
    }
   ],
   "source": [
    "concat_df = pd.DataFrame()\n",
    "\n",
    "sns.set()\n",
    "plt.figure(figsize=(12,8))\n",
    "plt.title('Histograms showing customer AOV per SP per customer in 3 previous orders to SP and the next 3', fontsize=14)\n",
    "plt.ylabel('Customers')\n",
    "plt.xlabel('AOV per customer')\n",
    "\n",
    "cus_scen_2b['AOV_WO_SP'] .hist(bins=50, range=(0, 250), alpha=0.5)\n",
    "cus_scen_2b['AOV_W_SP'].hist(bins=50, range=(0, 250), alpha=0.5)\n",
    "plt.legend(['Without SP orders', 'With SP orders'])\n",
    "concat_df = pd.concat([concat_df,\n",
    "                    pd.DataFrame(cus_scen_2b['AOV_WO_SP'] .describe().round(2)),\n",
    "                    pd.DataFrame(cus_scen_2b['AOV_W_SP'].describe().round(2)),\n",
    "                        ], axis=1)\n",
    "plt.show() \n",
    "\n",
    "concat_df.columns = ['Without SP orders', 'With SP orders']\n",
    "display(concat_df)"
   ]
  },
  {
   "cell_type": "markdown",
   "metadata": {},
   "source": [
    "##### CM1% & CM2%"
   ]
  },
  {
   "cell_type": "code",
   "execution_count": 22,
   "metadata": {
    "ExecuteTime": {
     "end_time": "2018-11-22T15:40:04.600616Z",
     "start_time": "2018-11-22T15:40:04.594616Z"
    }
   },
   "outputs": [],
   "source": [
    "cus_scen_2b['WO_SP_CM1'] = [sum(x[y:z]) for x, y, z in list(zip(cus_scen_2b['SCM_D_FINANCE_CM1_list'],\n",
    "                                                     cus_scen_2b['WO_SP_1st_POS'],\n",
    "                                                     cus_scen_2b['SCEN_2B_POS']))]"
   ]
  },
  {
   "cell_type": "code",
   "execution_count": 23,
   "metadata": {
    "ExecuteTime": {
     "end_time": "2018-11-22T15:40:04.616616Z",
     "start_time": "2018-11-22T15:40:04.601616Z"
    }
   },
   "outputs": [],
   "source": [
    "cus_scen_2b['SP_CM1'] = [sum(x[y:z]) for x, y, z in list(zip(cus_scen_2b['SCM_D_FINANCE_CM1_list'],\n",
    "                                                     cus_scen_2b['SCEN_2B_POS'],\n",
    "                                                     cus_scen_2b['W_SP_last_POS']))]"
   ]
  },
  {
   "cell_type": "code",
   "execution_count": 24,
   "metadata": {
    "ExecuteTime": {
     "end_time": "2018-11-22T15:40:04.632616Z",
     "start_time": "2018-11-22T15:40:04.617616Z"
    }
   },
   "outputs": [],
   "source": [
    "cus_scen_2b['WO_SP_CM2'] = [sum(x[y:z]) for x, y, z in list(zip(cus_scen_2b['SCM_D_FINANCE_CM2_list'],\n",
    "                                                     cus_scen_2b['WO_SP_1st_POS'],\n",
    "                                                     cus_scen_2b['SCEN_2B_POS']))]"
   ]
  },
  {
   "cell_type": "code",
   "execution_count": 25,
   "metadata": {
    "ExecuteTime": {
     "end_time": "2018-11-22T15:40:04.647616Z",
     "start_time": "2018-11-22T15:40:04.633616Z"
    }
   },
   "outputs": [],
   "source": [
    "cus_scen_2b['SP_CM2'] = [sum(x[y:z]) for x, y, z in list(zip(cus_scen_2b['SCM_D_FINANCE_CM2_list'],\n",
    "                                                     cus_scen_2b['SCEN_2B_POS'],\n",
    "                                                     cus_scen_2b['W_SP_last_POS']))]"
   ]
  },
  {
   "cell_type": "code",
   "execution_count": 26,
   "metadata": {
    "ExecuteTime": {
     "end_time": "2018-11-22T15:40:04.663616Z",
     "start_time": "2018-11-22T15:40:04.648616Z"
    }
   },
   "outputs": [],
   "source": [
    "cus_scen_2b['WO_SP_NET_SALES'] = [sum(x[y:z]) for x, y, z in list(zip(cus_scen_2b['SCM_D_ORIG_FINANCE_ORDER_NET_list'],\n",
    "                                                     cus_scen_2b['WO_SP_1st_POS'],\n",
    "                                                     cus_scen_2b['SCEN_2B_POS']))]"
   ]
  },
  {
   "cell_type": "code",
   "execution_count": 27,
   "metadata": {
    "ExecuteTime": {
     "end_time": "2018-11-22T15:40:04.679616Z",
     "start_time": "2018-11-22T15:40:04.665616Z"
    }
   },
   "outputs": [],
   "source": [
    "cus_scen_2b['SP_NET_SALES'] = [sum(x[y:z]) for x, y, z in list(zip(cus_scen_2b['SCM_D_ORIG_FINANCE_ORDER_NET_list'],\n",
    "                                                     cus_scen_2b['SCEN_2B_POS'],\n",
    "                                                     cus_scen_2b['W_SP_last_POS']))]"
   ]
  },
  {
   "cell_type": "code",
   "execution_count": 28,
   "metadata": {
    "ExecuteTime": {
     "end_time": "2018-11-22T15:40:04.695616Z",
     "start_time": "2018-11-22T15:40:04.681616Z"
    }
   },
   "outputs": [],
   "source": [
    "cus_scen_2b['WO_SP_CM1%'] = np.round(cus_scen_2b['WO_SP_CM1'] / cus_scen_2b['WO_SP_NET_SALES'] * 100, 2)"
   ]
  },
  {
   "cell_type": "code",
   "execution_count": 29,
   "metadata": {
    "ExecuteTime": {
     "end_time": "2018-11-22T15:40:04.714616Z",
     "start_time": "2018-11-22T15:40:04.696616Z"
    }
   },
   "outputs": [],
   "source": [
    "cus_scen_2b['SP_CM1%'] = np.round(cus_scen_2b['SP_CM1'] / cus_scen_2b['SP_NET_SALES'] * 100, 2) "
   ]
  },
  {
   "cell_type": "code",
   "execution_count": 30,
   "metadata": {
    "ExecuteTime": {
     "end_time": "2018-11-22T15:40:05.147616Z",
     "start_time": "2018-11-22T15:40:04.716616Z"
    }
   },
   "outputs": [
    {
     "data": {
      "image/png": "[encoded data removed]",
      "text/plain": [
       "<matplotlib.figure.Figure at 0xcf8b2b0>"
      ]
     },
     "metadata": {},
     "output_type": "display_data"
    },
    {
     "data": {
      "text/html": [
       "<div>\n",
       "<style scoped>\n",
       "    .dataframe tbody tr th:only-of-type {\n",
       "        vertical-align: middle;\n",
       "    }\n",
       "\n",
       "    .dataframe tbody tr th {\n",
       "        vertical-align: top;\n",
       "    }\n",
       "\n",
       "    .dataframe thead th {\n",
       "        text-align: right;\n",
       "    }\n",
       "</style>\n",
       "<table border=\"1\" class=\"dataframe\">\n",
       "  <thead>\n",
       "    <tr style=\"text-align: right;\">\n",
       "      <th></th>\n",
       "      <th>Without SP orders</th>\n",
       "      <th>With SP orders</th>\n",
       "    </tr>\n",
       "  </thead>\n",
       "  <tbody>\n",
       "    <tr>\n",
       "      <th>count</th>\n",
       "      <td>1584.00</td>\n",
       "      <td>1584.00</td>\n",
       "    </tr>\n",
       "    <tr>\n",
       "      <th>mean</th>\n",
       "      <td>34.35</td>\n",
       "      <td>32.55</td>\n",
       "    </tr>\n",
       "    <tr>\n",
       "      <th>std</th>\n",
       "      <td>8.40</td>\n",
       "      <td>8.41</td>\n",
       "    </tr>\n",
       "    <tr>\n",
       "      <th>min</th>\n",
       "      <td>9.68</td>\n",
       "      <td>3.29</td>\n",
       "    </tr>\n",
       "    <tr>\n",
       "      <th>25%</th>\n",
       "      <td>28.92</td>\n",
       "      <td>26.94</td>\n",
       "    </tr>\n",
       "    <tr>\n",
       "      <th>50%</th>\n",
       "      <td>33.93</td>\n",
       "      <td>32.15</td>\n",
       "    </tr>\n",
       "    <tr>\n",
       "      <th>75%</th>\n",
       "      <td>39.51</td>\n",
       "      <td>37.46</td>\n",
       "    </tr>\n",
       "    <tr>\n",
       "      <th>max</th>\n",
       "      <td>63.97</td>\n",
       "      <td>69.20</td>\n",
       "    </tr>\n",
       "  </tbody>\n",
       "</table>\n",
       "</div>"
      ],
      "text/plain": [
       "       Without SP orders  With SP orders\n",
       "count            1584.00         1584.00\n",
       "mean               34.35           32.55\n",
       "std                 8.40            8.41\n",
       "min                 9.68            3.29\n",
       "25%                28.92           26.94\n",
       "50%                33.93           32.15\n",
       "75%                39.51           37.46\n",
       "max                63.97           69.20"
      ]
     },
     "metadata": {},
     "output_type": "display_data"
    }
   ],
   "source": [
    "concat_df = pd.DataFrame()\n",
    "\n",
    "sns.set()\n",
    "plt.figure(figsize=(12,8))\n",
    "plt.title('Histograms showing CM1% per SP customer in 3 previous orders to SP and the next 3', fontsize=14)\n",
    "plt.ylabel('Customers')\n",
    "plt.xlabel('CM1%')\n",
    "\n",
    "cus_scen_2b['WO_SP_CM1%'].hist(bins=100, range=(-20, 80), alpha=0.5)\n",
    "cus_scen_2b['SP_CM1%'].hist(bins=100, range=(-20, 80), alpha=0.5)\n",
    "plt.legend(['Without SP orders', 'With SP orders'])\n",
    "concat_df = pd.concat([concat_df,\n",
    "                    pd.DataFrame(cus_scen_2b['WO_SP_CM1%'].describe().round(2)),\n",
    "                    pd.DataFrame(cus_scen_2b['SP_CM1%'].describe().round(2)),\n",
    "                        ], axis=1)\n",
    "plt.show() \n",
    "\n",
    "concat_df.columns = ['Without SP orders', 'With SP orders']\n",
    "display(concat_df)"
   ]
  },
  {
   "cell_type": "code",
   "execution_count": 31,
   "metadata": {
    "ExecuteTime": {
     "end_time": "2018-11-22T15:40:05.152616Z",
     "start_time": "2018-11-22T15:40:05.148616Z"
    }
   },
   "outputs": [],
   "source": [
    "cus_scen_2b['WO_SP_CM2%'] = np.round(cus_scen_2b['WO_SP_CM2'] / cus_scen_2b['WO_SP_NET_SALES'] * 100, 2)"
   ]
  },
  {
   "cell_type": "code",
   "execution_count": 32,
   "metadata": {
    "ExecuteTime": {
     "end_time": "2018-11-22T15:40:05.169616Z",
     "start_time": "2018-11-22T15:40:05.154616Z"
    }
   },
   "outputs": [],
   "source": [
    "cus_scen_2b['SP_CM2%'] = np.round(cus_scen_2b['SP_CM2'] / cus_scen_2b['SP_NET_SALES'] * 100, 2) "
   ]
  },
  {
   "cell_type": "code",
   "execution_count": 33,
   "metadata": {
    "ExecuteTime": {
     "end_time": "2018-11-22T15:40:05.603616Z",
     "start_time": "2018-11-22T15:40:05.170616Z"
    }
   },
   "outputs": [
    {
     "data": {
      "image/png": "[encoded data removed]",
      "text/plain": [
       "<matplotlib.figure.Figure at 0xcfd95c0>"
      ]
     },
     "metadata": {},
     "output_type": "display_data"
    },
    {
     "data": {
      "text/html": [
       "<div>\n",
       "<style scoped>\n",
       "    .dataframe tbody tr th:only-of-type {\n",
       "        vertical-align: middle;\n",
       "    }\n",
       "\n",
       "    .dataframe tbody tr th {\n",
       "        vertical-align: top;\n",
       "    }\n",
       "\n",
       "    .dataframe thead th {\n",
       "        text-align: right;\n",
       "    }\n",
       "</style>\n",
       "<table border=\"1\" class=\"dataframe\">\n",
       "  <thead>\n",
       "    <tr style=\"text-align: right;\">\n",
       "      <th></th>\n",
       "      <th>Without SP orders</th>\n",
       "      <th>With SP orders</th>\n",
       "    </tr>\n",
       "  </thead>\n",
       "  <tbody>\n",
       "    <tr>\n",
       "      <th>count</th>\n",
       "      <td>1584.00</td>\n",
       "      <td>1584.00</td>\n",
       "    </tr>\n",
       "    <tr>\n",
       "      <th>mean</th>\n",
       "      <td>15.29</td>\n",
       "      <td>13.91</td>\n",
       "    </tr>\n",
       "    <tr>\n",
       "      <th>std</th>\n",
       "      <td>7.37</td>\n",
       "      <td>7.62</td>\n",
       "    </tr>\n",
       "    <tr>\n",
       "      <th>min</th>\n",
       "      <td>-12.50</td>\n",
       "      <td>-47.03</td>\n",
       "    </tr>\n",
       "    <tr>\n",
       "      <th>25%</th>\n",
       "      <td>11.36</td>\n",
       "      <td>9.07</td>\n",
       "    </tr>\n",
       "    <tr>\n",
       "      <th>50%</th>\n",
       "      <td>15.49</td>\n",
       "      <td>14.04</td>\n",
       "    </tr>\n",
       "    <tr>\n",
       "      <th>75%</th>\n",
       "      <td>19.50</td>\n",
       "      <td>18.23</td>\n",
       "    </tr>\n",
       "    <tr>\n",
       "      <th>max</th>\n",
       "      <td>42.72</td>\n",
       "      <td>52.64</td>\n",
       "    </tr>\n",
       "  </tbody>\n",
       "</table>\n",
       "</div>"
      ],
      "text/plain": [
       "       Without SP orders  With SP orders\n",
       "count            1584.00         1584.00\n",
       "mean               15.29           13.91\n",
       "std                 7.37            7.62\n",
       "min               -12.50          -47.03\n",
       "25%                11.36            9.07\n",
       "50%                15.49           14.04\n",
       "75%                19.50           18.23\n",
       "max                42.72           52.64"
      ]
     },
     "metadata": {},
     "output_type": "display_data"
    }
   ],
   "source": [
    "concat_df = pd.DataFrame()\n",
    "\n",
    "sns.set()\n",
    "plt.figure(figsize=(12,8))\n",
    "plt.title('Histograms showing CM2% per SP customer in 3 previous orders to SP and the next 3', fontsize=14)\n",
    "plt.ylabel('Customers')\n",
    "plt.xlabel('CM2%')\n",
    "\n",
    "cus_scen_2b['WO_SP_CM2%'].hist(bins=100, range=(-20, 80), alpha=0.5)\n",
    "cus_scen_2b['SP_CM2%'].hist(bins=100, range=(-20, 80), alpha=0.5)\n",
    "plt.legend(['Without SP orders', 'With SP orders'])\n",
    "concat_df = pd.concat([concat_df,\n",
    "                    pd.DataFrame(cus_scen_2b['WO_SP_CM2%'].describe().round(2)),\n",
    "                    pd.DataFrame(cus_scen_2b['SP_CM2%'].describe().round(2)),\n",
    "                        ], axis=1)\n",
    "plt.show() \n",
    "\n",
    "concat_df.columns = ['Without SP orders', 'With SP orders']\n",
    "display(concat_df)"
   ]
  },
  {
   "cell_type": "markdown",
   "metadata": {},
   "source": [
    "##### Number of PG3s the customer bought in the 3 previous orders to SP and the next 3"
   ]
  },
  {
   "cell_type": "code",
   "execution_count": 34,
   "metadata": {
    "ExecuteTime": {
     "end_time": "2018-11-22T15:40:05.610616Z",
     "start_time": "2018-11-22T15:40:05.604616Z"
    }
   },
   "outputs": [],
   "source": [
    "cus_scen_2b['WO_SP_PG3_SALES'] = [x[y:z] for x, y, z in list(zip(cus_scen_2b['PG3_AGGSALES'],\n",
    "                                                     cus_scen_2b['WO_SP_1st_POS'],\n",
    "                                                     cus_scen_2b['SCEN_2B_POS']))]"
   ]
  },
  {
   "cell_type": "code",
   "execution_count": 35,
   "metadata": {
    "ExecuteTime": {
     "end_time": "2018-11-22T15:40:05.626616Z",
     "start_time": "2018-11-22T15:40:05.611616Z"
    }
   },
   "outputs": [],
   "source": [
    "cus_scen_2b['SP_PG3_SALES'] = [x[y:z] for x, y, z in list(zip(cus_scen_2b['PG3_AGGSALES'],\n",
    "                                                     cus_scen_2b['SCEN_2B_POS'],\n",
    "                                                     cus_scen_2b['W_SP_last_POS']))]"
   ]
  },
  {
   "cell_type": "code",
   "execution_count": 36,
   "metadata": {
    "ExecuteTime": {
     "end_time": "2018-11-22T15:40:05.644616Z",
     "start_time": "2018-11-22T15:40:05.627616Z"
    }
   },
   "outputs": [],
   "source": [
    "cus_scen_2b['WO_SP_FLAT_PG3_AGGSALES'] = [[k for j in i for k in j] for i in cus_scen_2b['WO_SP_PG3_SALES'].values]"
   ]
  },
  {
   "cell_type": "code",
   "execution_count": 37,
   "metadata": {
    "ExecuteTime": {
     "end_time": "2018-11-22T15:40:05.661616Z",
     "start_time": "2018-11-22T15:40:05.646616Z"
    }
   },
   "outputs": [],
   "source": [
    "cus_scen_2b['SP_FLAT_PG3_AGGSALES'] = [[k for j in i for k in j] for i in cus_scen_2b['SP_PG3_SALES'].values]"
   ]
  },
  {
   "cell_type": "code",
   "execution_count": 38,
   "metadata": {
    "ExecuteTime": {
     "end_time": "2018-11-22T15:40:05.751616Z",
     "start_time": "2018-11-22T15:40:05.663616Z"
    }
   },
   "outputs": [],
   "source": [
    "cus_scen_2b['WO_SP_TOTAL_PG3_SALES'] = [sorted([(pg3, np.round(sum([sales_ for pg_3_, sales_ in i if pg3==pg_3_\n",
    "                                                        ]), 3)) \n",
    "                                for pg3 in set([pg_3 for pg_3, sales in i])], key= lambda x: x[1], reverse=True) \n",
    "                                for i in cus_scen_2b['WO_SP_FLAT_PG3_AGGSALES']]"
   ]
  },
  {
   "cell_type": "code",
   "execution_count": 39,
   "metadata": {
    "ExecuteTime": {
     "end_time": "2018-11-22T15:40:05.845616Z",
     "start_time": "2018-11-22T15:40:05.752616Z"
    }
   },
   "outputs": [],
   "source": [
    "cus_scen_2b['SP_TOTAL_PG3_SALES'] = [sorted([(pg3, np.round(sum([sales_ for pg_3_, sales_ in i if pg3==pg_3_\n",
    "                                                        ]), 3)) \n",
    "                                for pg3 in set([pg_3 for pg_3, sales in i])], key= lambda x: x[1], reverse=True) \n",
    "                                for i in cus_scen_2b['SP_FLAT_PG3_AGGSALES']]"
   ]
  },
  {
   "cell_type": "code",
   "execution_count": 40,
   "metadata": {
    "ExecuteTime": {
     "end_time": "2018-11-22T15:40:05.853616Z",
     "start_time": "2018-11-22T15:40:05.846616Z"
    }
   },
   "outputs": [],
   "source": [
    "cus_scen_2b['WO_SP_DICT_PG3_SALES'] = [{j[0]: j[1] for j in i} for i in cus_scen_2b['WO_SP_TOTAL_PG3_SALES'].values]"
   ]
  },
  {
   "cell_type": "code",
   "execution_count": 41,
   "metadata": {
    "ExecuteTime": {
     "end_time": "2018-11-22T15:40:05.870616Z",
     "start_time": "2018-11-22T15:40:05.855616Z"
    }
   },
   "outputs": [],
   "source": [
    "cus_scen_2b['WO_SP_DICT_PG3_SALES_NO_DISC'] = [{j[0]: j[1] for j in i if j[0] != 0} \n",
    "                                              for i in cus_scen_2b['WO_SP_TOTAL_PG3_SALES'].values]"
   ]
  },
  {
   "cell_type": "code",
   "execution_count": 42,
   "metadata": {
    "ExecuteTime": {
     "end_time": "2018-11-22T15:40:05.889616Z",
     "start_time": "2018-11-22T15:40:05.871616Z"
    }
   },
   "outputs": [],
   "source": [
    "cus_scen_2b['SP_DICT_PG3_SALES'] = [{j[0]: j[1] for j in i} for i in cus_scen_2b['SP_TOTAL_PG3_SALES'].values]"
   ]
  },
  {
   "cell_type": "code",
   "execution_count": 43,
   "metadata": {
    "ExecuteTime": {
     "end_time": "2018-11-22T15:40:05.906616Z",
     "start_time": "2018-11-22T15:40:05.890616Z"
    }
   },
   "outputs": [],
   "source": [
    "cus_scen_2b['SP_DICT_PG3_SALES_NO_DISC'] = [{j[0]: j[1] for j in i if j[0] != 0} \n",
    "                                              for i in cus_scen_2b['SP_TOTAL_PG3_SALES'].values]"
   ]
  },
  {
   "cell_type": "code",
   "execution_count": 44,
   "metadata": {
    "ExecuteTime": {
     "end_time": "2018-11-22T15:40:05.920616Z",
     "start_time": "2018-11-22T15:40:05.907616Z"
    }
   },
   "outputs": [],
   "source": [
    "cus_scen_2b['WO_SP_DIFF_PG3'] = [len(i.keys()) for i in cus_scen_2b['WO_SP_DICT_PG3_SALES']]"
   ]
  },
  {
   "cell_type": "code",
   "execution_count": 45,
   "metadata": {
    "ExecuteTime": {
     "end_time": "2018-11-22T15:40:05.936616Z",
     "start_time": "2018-11-22T15:40:05.921616Z"
    }
   },
   "outputs": [],
   "source": [
    "cus_scen_2b['WO_SP_DIFF_PG3_NO_DISC'] = [len(i.keys()) for i in cus_scen_2b['WO_SP_DICT_PG3_SALES_NO_DISC']]"
   ]
  },
  {
   "cell_type": "code",
   "execution_count": 46,
   "metadata": {
    "ExecuteTime": {
     "end_time": "2018-11-22T15:40:05.952616Z",
     "start_time": "2018-11-22T15:40:05.938616Z"
    }
   },
   "outputs": [],
   "source": [
    "cus_scen_2b['WO_SP_PG3_IDS_NO_DISC'] = [list(i.keys()) for i in cus_scen_2b['WO_SP_DICT_PG3_SALES_NO_DISC']]"
   ]
  },
  {
   "cell_type": "code",
   "execution_count": 47,
   "metadata": {
    "ExecuteTime": {
     "end_time": "2018-11-22T15:40:05.967616Z",
     "start_time": "2018-11-22T15:40:05.953616Z"
    }
   },
   "outputs": [],
   "source": [
    "cus_scen_2b['SP_DIFF_PG3'] = [len(i.keys()) for i in cus_scen_2b['SP_DICT_PG3_SALES']]"
   ]
  },
  {
   "cell_type": "code",
   "execution_count": 48,
   "metadata": {
    "ExecuteTime": {
     "end_time": "2018-11-22T15:40:05.983616Z",
     "start_time": "2018-11-22T15:40:05.968616Z"
    }
   },
   "outputs": [],
   "source": [
    "cus_scen_2b['SP_DIFF_PG3_NO_DISC'] = [len(i.keys()) for i in cus_scen_2b['SP_DICT_PG3_SALES_NO_DISC']]"
   ]
  },
  {
   "cell_type": "code",
   "execution_count": 49,
   "metadata": {
    "ExecuteTime": {
     "end_time": "2018-11-22T15:40:06.000616Z",
     "start_time": "2018-11-22T15:40:05.985616Z"
    }
   },
   "outputs": [],
   "source": [
    "cus_scen_2b['SP_PG3_IDS_NO_DISC'] = [list(i.keys()) for i in cus_scen_2b['SP_DICT_PG3_SALES_NO_DISC']]"
   ]
  },
  {
   "cell_type": "code",
   "execution_count": 50,
   "metadata": {
    "ExecuteTime": {
     "end_time": "2018-11-22T15:40:06.259616Z",
     "start_time": "2018-11-22T15:40:06.001616Z"
    }
   },
   "outputs": [
    {
     "data": {
      "image/png": "[encoded data removed]",
      "text/plain": [
       "<matplotlib.figure.Figure at 0xd416470>"
      ]
     },
     "metadata": {},
     "output_type": "display_data"
    },
    {
     "data": {
      "text/html": [
       "<div>\n",
       "<style scoped>\n",
       "    .dataframe tbody tr th:only-of-type {\n",
       "        vertical-align: middle;\n",
       "    }\n",
       "\n",
       "    .dataframe tbody tr th {\n",
       "        vertical-align: top;\n",
       "    }\n",
       "\n",
       "    .dataframe thead th {\n",
       "        text-align: right;\n",
       "    }\n",
       "</style>\n",
       "<table border=\"1\" class=\"dataframe\">\n",
       "  <thead>\n",
       "    <tr style=\"text-align: right;\">\n",
       "      <th></th>\n",
       "      <th>Without SP orders</th>\n",
       "      <th>With SP orders</th>\n",
       "    </tr>\n",
       "  </thead>\n",
       "  <tbody>\n",
       "    <tr>\n",
       "      <th>count</th>\n",
       "      <td>1584.00</td>\n",
       "      <td>1584.00</td>\n",
       "    </tr>\n",
       "    <tr>\n",
       "      <th>mean</th>\n",
       "      <td>4.97</td>\n",
       "      <td>5.95</td>\n",
       "    </tr>\n",
       "    <tr>\n",
       "      <th>std</th>\n",
       "      <td>2.48</td>\n",
       "      <td>2.40</td>\n",
       "    </tr>\n",
       "    <tr>\n",
       "      <th>min</th>\n",
       "      <td>1.00</td>\n",
       "      <td>2.00</td>\n",
       "    </tr>\n",
       "    <tr>\n",
       "      <th>25%</th>\n",
       "      <td>3.00</td>\n",
       "      <td>4.00</td>\n",
       "    </tr>\n",
       "    <tr>\n",
       "      <th>50%</th>\n",
       "      <td>5.00</td>\n",
       "      <td>6.00</td>\n",
       "    </tr>\n",
       "    <tr>\n",
       "      <th>75%</th>\n",
       "      <td>6.00</td>\n",
       "      <td>7.00</td>\n",
       "    </tr>\n",
       "    <tr>\n",
       "      <th>max</th>\n",
       "      <td>15.00</td>\n",
       "      <td>18.00</td>\n",
       "    </tr>\n",
       "  </tbody>\n",
       "</table>\n",
       "</div>"
      ],
      "text/plain": [
       "       Without SP orders  With SP orders\n",
       "count            1584.00         1584.00\n",
       "mean                4.97            5.95\n",
       "std                 2.48            2.40\n",
       "min                 1.00            2.00\n",
       "25%                 3.00            4.00\n",
       "50%                 5.00            6.00\n",
       "75%                 6.00            7.00\n",
       "max                15.00           18.00"
      ]
     },
     "metadata": {},
     "output_type": "display_data"
    }
   ],
   "source": [
    "concat_df = pd.DataFrame()\n",
    "\n",
    "sns.set()\n",
    "plt.figure(figsize=(12,8))\n",
    "plt.title('Histograms showing different PG3 bought by SP customers in 3 previous orders to SP and the next 3', fontsize=14)\n",
    "plt.ylabel('Customers')\n",
    "plt.xlabel('Different PG3s')\n",
    "\n",
    "cus_scen_2b['WO_SP_DIFF_PG3_NO_DISC'].hist(bins=30, range=(0, 30), alpha=0.5)\n",
    "cus_scen_2b['SP_DIFF_PG3_NO_DISC'].hist(bins=30, range=(0, 30), alpha=0.5)\n",
    "plt.legend(['Without SP orders', 'With SP orders'])\n",
    "concat_df = pd.concat([concat_df,\n",
    "                    pd.DataFrame(cus_scen_2b['WO_SP_DIFF_PG3_NO_DISC'].describe().round(2)),\n",
    "                    pd.DataFrame(cus_scen_2b['SP_DIFF_PG3_NO_DISC'].describe().round(2)),\n",
    "                        ], axis=1)\n",
    "plt.show() \n",
    "\n",
    "concat_df.columns =['Without SP orders', 'With SP orders']\n",
    "display(concat_df)"
   ]
  },
  {
   "cell_type": "code",
   "execution_count": 51,
   "metadata": {
    "ExecuteTime": {
     "end_time": "2018-11-22T15:40:06.265616Z",
     "start_time": "2018-11-22T15:40:06.260616Z"
    }
   },
   "outputs": [],
   "source": [
    "cus_scen_2b['DIFF_PG3_UP'] = (cus_scen_2b['SP_DIFF_PG3_NO_DISC'] > cus_scen_2b['WO_SP_DIFF_PG3_NO_DISC']) * 1"
   ]
  },
  {
   "cell_type": "code",
   "execution_count": 52,
   "metadata": {
    "ExecuteTime": {
     "end_time": "2018-11-22T15:40:06.281616Z",
     "start_time": "2018-11-22T15:40:06.266616Z"
    }
   },
   "outputs": [
    {
     "data": {
      "text/plain": [
       "1    955\n",
       "0    629\n",
       "Name: DIFF_PG3_UP, dtype: int64"
      ]
     },
     "execution_count": 52,
     "metadata": {},
     "output_type": "execute_result"
    }
   ],
   "source": [
    "cus_scen_2b['DIFF_PG3_UP'].value_counts()"
   ]
  },
  {
   "cell_type": "markdown",
   "metadata": {},
   "source": [
    "##### New PG3 bought with Savingsplan "
   ]
  },
  {
   "cell_type": "markdown",
   "metadata": {
    "ExecuteTime": {
     "end_time": "2018-11-19T15:34:09.884461Z",
     "start_time": "2018-11-19T15:34:09.882461Z"
    }
   },
   "source": [
    "We get now every pg3 in SP orders which are not in NO SP orders and quantify the total amount..."
   ]
  },
  {
   "cell_type": "code",
   "execution_count": 53,
   "metadata": {
    "ExecuteTime": {
     "end_time": "2018-11-22T15:40:06.298616Z",
     "start_time": "2018-11-22T15:40:06.283616Z"
    }
   },
   "outputs": [],
   "source": [
    "cus_scen_2b['NEW_PG3_WITH_SP'] = [[pg for pg in a if pg not in b]\n",
    "                                for a, b in list(zip(cus_scen_2b['SP_PG3_IDS_NO_DISC'], cus_scen_2b['WO_SP_PG3_IDS_NO_DISC']))]"
   ]
  },
  {
   "cell_type": "code",
   "execution_count": 54,
   "metadata": {
    "ExecuteTime": {
     "end_time": "2018-11-22T15:40:06.312616Z",
     "start_time": "2018-11-22T15:40:06.299616Z"
    }
   },
   "outputs": [],
   "source": [
    "cus_scen_2b['LEN_NEW_PG3_WITH_SP'] = cus_scen_2b['NEW_PG3_WITH_SP'].apply(len)"
   ]
  },
  {
   "cell_type": "code",
   "execution_count": 55,
   "metadata": {
    "ExecuteTime": {
     "end_time": "2018-11-22T15:40:06.330616Z",
     "start_time": "2018-11-22T15:40:06.313616Z"
    }
   },
   "outputs": [
    {
     "data": {
      "text/plain": [
       "count    1584.00\n",
       "mean        2.91\n",
       "std         1.66\n",
       "min         0.00\n",
       "25%         2.00\n",
       "50%         3.00\n",
       "75%         4.00\n",
       "max        13.00\n",
       "Name: LEN_NEW_PG3_WITH_SP, dtype: float64"
      ]
     },
     "execution_count": 55,
     "metadata": {},
     "output_type": "execute_result"
    }
   ],
   "source": [
    "cus_scen_2b['LEN_NEW_PG3_WITH_SP'].describe().round(2)"
   ]
  },
  {
   "cell_type": "markdown",
   "metadata": {},
   "source": [
    "##### PG3 shares in each group"
   ]
  },
  {
   "cell_type": "code",
   "execution_count": 56,
   "metadata": {
    "ExecuteTime": {
     "end_time": "2018-11-22T15:40:06.349616Z",
     "start_time": "2018-11-22T15:40:06.331616Z"
    }
   },
   "outputs": [
    {
     "data": {
      "text/plain": [
       "18     [(251, 85.99), (18, 22.99), (857, 11.99), (251...\n",
       "58     [(2068, 16.98), (252, 14.99), (38, 12.99), (33...\n",
       "396    [(251, 53.99), (18, 3.99), (18, 37.97), (409, ...\n",
       "462    [(18, 25.98), (274, 6.99), (221, 5.99), (470, ...\n",
       "567    [(2068, 33.18), (301, 17.99), (2068, 49.77), (...\n",
       "Name: WO_SP_FLAT_PG3_AGGSALES, dtype: object"
      ]
     },
     "execution_count": 56,
     "metadata": {},
     "output_type": "execute_result"
    }
   ],
   "source": [
    "cus_scen_2b['WO_SP_FLAT_PG3_AGGSALES'].head()"
   ]
  },
  {
   "cell_type": "code",
   "execution_count": 57,
   "metadata": {
    "ExecuteTime": {
     "end_time": "2018-11-22T15:40:06.369616Z",
     "start_time": "2018-11-22T15:40:06.350616Z"
    }
   },
   "outputs": [
    {
     "data": {
      "text/plain": [
       "18     [(251, 46.43), (1400, 33.98), (18, 33.46), (85...\n",
       "58     [(9, 29.99), (301, 20.99), (38, 12.99), (48963...\n",
       "396    [(251, 53.99), (48963, 2.99), (0, -1.71), (18,...\n",
       "462    [(252, 48.99), (2068, 26.99), (18, 22.99), (30...\n",
       "567    [(23, 139.98), (252, 80.97), (2068, 35.98), (4...\n",
       "Name: SP_FLAT_PG3_AGGSALES, dtype: object"
      ]
     },
     "execution_count": 57,
     "metadata": {},
     "output_type": "execute_result"
    }
   ],
   "source": [
    "cus_scen_2b['SP_FLAT_PG3_AGGSALES'].head()"
   ]
  },
  {
   "cell_type": "code",
   "execution_count": 58,
   "metadata": {
    "ExecuteTime": {
     "end_time": "2018-11-22T15:40:06.383616Z",
     "start_time": "2018-11-22T15:40:06.370616Z"
    }
   },
   "outputs": [],
   "source": [
    "no_sp_flat_pg3_sales = [j for i in cus_scen_2b['WO_SP_FLAT_PG3_AGGSALES'].values for j in i]"
   ]
  },
  {
   "cell_type": "code",
   "execution_count": 59,
   "metadata": {
    "ExecuteTime": {
     "end_time": "2018-11-22T15:40:06.455616Z",
     "start_time": "2018-11-22T15:40:06.384616Z"
    }
   },
   "outputs": [],
   "source": [
    "no_sp_pg3_sales = sorted([(pg3, np.round(sum([sales_ for pg_3_, sales_ in no_sp_flat_pg3_sales if pg3==pg_3_\n",
    "                                                        ]), 3)) \n",
    "                                for pg3 in set([pg_3 for pg_3, sales in no_sp_flat_pg3_sales])], key= lambda x: x[1], reverse=True)"
   ]
  },
  {
   "cell_type": "code",
   "execution_count": 60,
   "metadata": {
    "ExecuteTime": {
     "end_time": "2018-11-22T15:40:06.460616Z",
     "start_time": "2018-11-22T15:40:06.456616Z"
    }
   },
   "outputs": [],
   "source": [
    "no_sp_pg3_dict_sales_no_disc = {i[0]: i[1] for i in no_sp_pg3_sales if i[0] != 0}"
   ]
  },
  {
   "cell_type": "code",
   "execution_count": 61,
   "metadata": {
    "ExecuteTime": {
     "end_time": "2018-11-22T15:40:06.473616Z",
     "start_time": "2018-11-22T15:40:06.461616Z"
    }
   },
   "outputs": [],
   "source": [
    "no_sp_pg3_dict_sales_share = {a: np.round(b/sum(no_sp_pg3_dict_sales_no_disc.values())*100, 3) \n",
    "                                                     for a, b in list(zip(no_sp_pg3_dict_sales_no_disc.keys(),\n",
    "                                                                          no_sp_pg3_dict_sales_no_disc.values()))}"
   ]
  },
  {
   "cell_type": "code",
   "execution_count": 62,
   "metadata": {
    "ExecuteTime": {
     "end_time": "2018-11-22T15:40:06.487616Z",
     "start_time": "2018-11-22T15:40:06.475616Z"
    }
   },
   "outputs": [],
   "source": [
    "filter_no_sp_pg3_dict_sales_share = {x: y for x, y in list(zip(no_sp_pg3_dict_sales_share.keys(),\n",
    "                                                                no_sp_pg3_dict_sales_share.values()))\n",
    "                                            if y >= 1}"
   ]
  },
  {
   "cell_type": "code",
   "execution_count": 63,
   "metadata": {
    "ExecuteTime": {
     "end_time": "2018-11-22T15:40:06.506616Z",
     "start_time": "2018-11-22T15:40:06.488616Z"
    }
   },
   "outputs": [
    {
     "data": {
      "text/plain": [
       "91.531"
      ]
     },
     "execution_count": 63,
     "metadata": {},
     "output_type": "execute_result"
    }
   ],
   "source": [
    "sum(filter_no_sp_pg3_dict_sales_share.values())"
   ]
  },
  {
   "cell_type": "code",
   "execution_count": 64,
   "metadata": {
    "ExecuteTime": {
     "end_time": "2018-11-22T15:40:06.521616Z",
     "start_time": "2018-11-22T15:40:06.507616Z"
    }
   },
   "outputs": [
    {
     "data": {
      "text/plain": [
       "{9: 4933.54,\n",
       " 15: 2641.23,\n",
       " 16: 1578.29,\n",
       " 18: 12835.75,\n",
       " 20: 2926.3,\n",
       " 23: 7875.14,\n",
       " 29: 7638.5,\n",
       " 33: 3605.48,\n",
       " 34: 5263.17,\n",
       " 36: 3407.36,\n",
       " 37: 797.92,\n",
       " 38: 872.81,\n",
       " 42: 399.67,\n",
       " 45: 1388.31,\n",
       " 47: 251.44,\n",
       " 48: 136.93,\n",
       " 50: 31.86,\n",
       " 51: 96.7,\n",
       " 62: 216.52,\n",
       " 65: 24.98,\n",
       " 67: 156.94,\n",
       " 68: 54.94,\n",
       " 221: 1039.75,\n",
       " 251: 99835.8,\n",
       " 252: 55714.56,\n",
       " 274: 174.48,\n",
       " 301: 22993.38,\n",
       " 305: 2154.04,\n",
       " 401: 571.75,\n",
       " 409: 4382.39,\n",
       " 470: 65.9,\n",
       " 484: 57.97,\n",
       " 486: 59.98,\n",
       " 741: 1081.87,\n",
       " 758: 674.91,\n",
       " 857: 11866.37,\n",
       " 1400: 3620.52,\n",
       " 1540: 2468.87,\n",
       " 1603: 22.95,\n",
       " 1635: 89.98,\n",
       " 2068: 46990.13,\n",
       " 2155: 1126.58,\n",
       " 2190: 3773.53,\n",
       " 2192: 1761.72,\n",
       " 2430: 0.0,\n",
       " 2471: 619.96,\n",
       " 3156: 0.0,\n",
       " 8038: 2.0,\n",
       " 9788: 23.99,\n",
       " 9885: 2.99,\n",
       " 15781: 13.96,\n",
       " 17947: 70.0,\n",
       " 40023: 1380.99,\n",
       " 48963: 27.94,\n",
       " 49828: 334.9,\n",
       " 126729: 13.09,\n",
       " 126778: 13.44,\n",
       " 126781: 2.26,\n",
       " 153317: 1434.4,\n",
       " 171343: 15.71,\n",
       " 207553: 5962.51,\n",
       " 207624: 598.76,\n",
       " 255413: 340.79}"
      ]
     },
     "execution_count": 64,
     "metadata": {},
     "output_type": "execute_result"
    }
   ],
   "source": [
    "no_sp_pg3_dict_sales_no_disc"
   ]
  },
  {
   "cell_type": "code",
   "execution_count": 65,
   "metadata": {
    "ExecuteTime": {
     "end_time": "2018-11-22T15:40:06.535616Z",
     "start_time": "2018-11-22T15:40:06.522616Z"
    }
   },
   "outputs": [],
   "source": [
    "sp_flat_pg3_sales = [j for i in cus_scen_2b['SP_FLAT_PG3_AGGSALES'].values for j in i]"
   ]
  },
  {
   "cell_type": "code",
   "execution_count": 66,
   "metadata": {
    "ExecuteTime": {
     "end_time": "2018-11-22T15:40:06.632616Z",
     "start_time": "2018-11-22T15:40:06.536616Z"
    }
   },
   "outputs": [],
   "source": [
    "sp_pg3_sales = sorted([(pg3, np.round(sum([sales_ for pg_3_, sales_ in sp_flat_pg3_sales if pg3==pg_3_\n",
    "                                                        ]), 3)) \n",
    "                                for pg3 in set([pg_3 for pg_3, sales in sp_flat_pg3_sales])], key= lambda x: x[1], reverse=True)"
   ]
  },
  {
   "cell_type": "code",
   "execution_count": 67,
   "metadata": {
    "ExecuteTime": {
     "end_time": "2018-11-22T15:40:06.636616Z",
     "start_time": "2018-11-22T15:40:06.633616Z"
    }
   },
   "outputs": [],
   "source": [
    "sp_pg3_dict_sales_no_disc = {i[0]: i[1] for i in sp_pg3_sales if i[0] != 0}"
   ]
  },
  {
   "cell_type": "code",
   "execution_count": 68,
   "metadata": {
    "ExecuteTime": {
     "end_time": "2018-11-22T15:40:06.652616Z",
     "start_time": "2018-11-22T15:40:06.637616Z"
    }
   },
   "outputs": [
    {
     "data": {
      "text/plain": [
       "{9: 3033.36,\n",
       " 15: 2478.6,\n",
       " 16: 1612.42,\n",
       " 18: 14177.35,\n",
       " 20: 3398.58,\n",
       " 23: 5334.68,\n",
       " 29: 6191.05,\n",
       " 33: 3240.36,\n",
       " 34: 5729.36,\n",
       " 36: 2376.53,\n",
       " 37: 874.39,\n",
       " 38: 1096.08,\n",
       " 42: 316.6,\n",
       " 45: 1493.85,\n",
       " 47: 122.12,\n",
       " 48: 153.18,\n",
       " 50: 35.78,\n",
       " 51: 152.09,\n",
       " 62: 401.15,\n",
       " 65: 67.92,\n",
       " 67: 255.95,\n",
       " 68: 161.37,\n",
       " 221: 833.54,\n",
       " 251: 110738.43,\n",
       " 252: 65510.22,\n",
       " 274: 258.3,\n",
       " 301: 26385.54,\n",
       " 305: 2497.99,\n",
       " 401: 518.64,\n",
       " 409: 4916.7,\n",
       " 470: 56.9,\n",
       " 741: 516.94,\n",
       " 758: 509.94,\n",
       " 857: 13960.76,\n",
       " 1400: 3622.56,\n",
       " 1540: 1415.12,\n",
       " 1603: 15.46,\n",
       " 1635: 75.97,\n",
       " 2068: 54545.47,\n",
       " 2155: 1017.83,\n",
       " 2190: 3687.1,\n",
       " 2192: 689.83,\n",
       " 2430: 0.0,\n",
       " 2471: 219.94,\n",
       " 3156: 0.0,\n",
       " 8038: 1.19,\n",
       " 15781: 0.0,\n",
       " 40023: 579.53,\n",
       " 48963: 6175.27,\n",
       " 49821: 129.99,\n",
       " 49828: 244.93,\n",
       " 126729: 19.23,\n",
       " 126778: 23.03,\n",
       " 153317: 1269.01,\n",
       " 171343: 6.44,\n",
       " 207553: 12411.5,\n",
       " 207624: 1516.35,\n",
       " 255413: 121.92}"
      ]
     },
     "execution_count": 68,
     "metadata": {},
     "output_type": "execute_result"
    }
   ],
   "source": [
    "sp_pg3_dict_sales_no_disc"
   ]
  },
  {
   "cell_type": "code",
   "execution_count": 69,
   "metadata": {
    "ExecuteTime": {
     "end_time": "2018-11-22T15:40:06.665616Z",
     "start_time": "2018-11-22T15:40:06.653616Z"
    }
   },
   "outputs": [],
   "source": [
    "sp_pg3_dict_sales_share = {a: np.round(b/sum(sp_pg3_dict_sales_no_disc.values())*100, 3) \n",
    "                                                     for a, b in list(zip(sp_pg3_dict_sales_no_disc.keys(),\n",
    "                                                                          sp_pg3_dict_sales_no_disc.values()))}"
   ]
  },
  {
   "cell_type": "code",
   "execution_count": 70,
   "metadata": {
    "ExecuteTime": {
     "end_time": "2018-11-22T15:40:06.678616Z",
     "start_time": "2018-11-22T15:40:06.666616Z"
    }
   },
   "outputs": [],
   "source": [
    "filter_sp_pg3_dict_sales_share = {x: y for x, y in list(zip(sp_pg3_dict_sales_share.keys(),\n",
    "                                                                    sp_pg3_dict_sales_share.values()))\n",
    "                                            if y >= 1}"
   ]
  },
  {
   "cell_type": "code",
   "execution_count": 71,
   "metadata": {
    "ExecuteTime": {
     "end_time": "2018-11-22T15:40:06.693616Z",
     "start_time": "2018-11-22T15:40:06.679616Z"
    }
   },
   "outputs": [
    {
     "data": {
      "text/plain": [
       "89.80700000000002"
      ]
     },
     "execution_count": 71,
     "metadata": {},
     "output_type": "execute_result"
    }
   ],
   "source": [
    "sum(filter_sp_pg3_dict_sales_share.values())"
   ]
  },
  {
   "cell_type": "code",
   "execution_count": 72,
   "metadata": {
    "ExecuteTime": {
     "end_time": "2018-11-22T15:40:06.705616Z",
     "start_time": "2018-11-22T15:40:06.694616Z"
    }
   },
   "outputs": [],
   "source": [
    "no_sp_cus_pg3_share_df = pd.DataFrame.from_dict(filter_no_sp_pg3_dict_sales_share, orient='index')\n",
    "sp_cus_pg3_share_df = pd.DataFrame.from_dict(filter_sp_pg3_dict_sales_share, orient='index')"
   ]
  },
  {
   "cell_type": "code",
   "execution_count": 73,
   "metadata": {
    "ExecuteTime": {
     "end_time": "2018-11-22T15:40:06.720616Z",
     "start_time": "2018-11-22T15:40:06.706616Z"
    }
   },
   "outputs": [],
   "source": [
    "pg3_share_comparison = pd.concat([no_sp_cus_pg3_share_df,sp_cus_pg3_share_df], axis=1).fillna(0)\n",
    "pg3_share_comparison.columns = ['NO_SP_ORD', 'SP_ORD']\n",
    "pg3_share_comparison['PG3'] = pg3_share_comparison.index.values\n",
    "#pg3_share_comparison['PG3'] = pg3_share_comparison['PG3'].astype(str)\n",
    "pg3_share_comparison = pg3_share_comparison[['PG3', 'NO_SP_ORD', 'SP_ORD']]"
   ]
  },
  {
   "cell_type": "code",
   "execution_count": 74,
   "metadata": {
    "ExecuteTime": {
     "end_time": "2018-11-22T15:40:06.733616Z",
     "start_time": "2018-11-22T15:40:06.721616Z"
    }
   },
   "outputs": [],
   "source": [
    "pg3_l = list(pg3_share_comparison['PG3'].values)"
   ]
  },
  {
   "cell_type": "code",
   "execution_count": 75,
   "metadata": {
    "ExecuteTime": {
     "end_time": "2018-11-22T15:40:06.746616Z",
     "start_time": "2018-11-22T15:40:06.734616Z"
    }
   },
   "outputs": [],
   "source": [
    "pg3_list = repr(pg3_l).replace('[','(').replace(']',')')"
   ]
  },
  {
   "cell_type": "code",
   "execution_count": 76,
   "metadata": {
    "ExecuteTime": {
     "end_time": "2018-11-22T15:40:06.758616Z",
     "start_time": "2018-11-22T15:40:06.747616Z"
    }
   },
   "outputs": [],
   "source": [
    "query = \"\"\"select pg_id, pg_shortlink from ZOOMAN.PRODUCT_GROUPS\n",
    "where pg_id in %s\"\"\" % pg3_list"
   ]
  },
  {
   "cell_type": "code",
   "execution_count": 77,
   "metadata": {
    "ExecuteTime": {
     "end_time": "2018-11-22T15:40:07.552616Z",
     "start_time": "2018-11-22T15:40:06.759616Z"
    }
   },
   "outputs": [],
   "source": [
    "conn = cx_Oracle.connect('zooor', 'zoo12or', 'zoorep', threaded=True, encoding = \"UTF-8\", nencoding = \"UTF-8\")\n",
    "pg3 = pd.read_sql(query, con = conn)\n",
    "conn.close()"
   ]
  },
  {
   "cell_type": "code",
   "execution_count": 78,
   "metadata": {
    "ExecuteTime": {
     "end_time": "2018-11-22T15:40:07.564616Z",
     "start_time": "2018-11-22T15:40:07.554616Z"
    }
   },
   "outputs": [
    {
     "data": {
      "text/html": [
       "<div>\n",
       "<style scoped>\n",
       "    .dataframe tbody tr th:only-of-type {\n",
       "        vertical-align: middle;\n",
       "    }\n",
       "\n",
       "    .dataframe tbody tr th {\n",
       "        vertical-align: top;\n",
       "    }\n",
       "\n",
       "    .dataframe thead th {\n",
       "        text-align: right;\n",
       "    }\n",
       "</style>\n",
       "<table border=\"1\" class=\"dataframe\">\n",
       "  <thead>\n",
       "    <tr style=\"text-align: right;\">\n",
       "      <th></th>\n",
       "      <th>PG_ID</th>\n",
       "      <th>PG_SHORTLINK</th>\n",
       "    </tr>\n",
       "  </thead>\n",
       "  <tbody>\n",
       "    <tr>\n",
       "      <th>0</th>\n",
       "      <td>9</td>\n",
       "      <td>hundebett</td>\n",
       "    </tr>\n",
       "    <tr>\n",
       "      <th>1</th>\n",
       "      <td>18</td>\n",
       "      <td>hundesnacks</td>\n",
       "    </tr>\n",
       "    <tr>\n",
       "      <th>2</th>\n",
       "      <td>23</td>\n",
       "      <td>kratzbaum_katzenbaum</td>\n",
       "    </tr>\n",
       "    <tr>\n",
       "      <th>3</th>\n",
       "      <td>29</td>\n",
       "      <td>katzentoilette</td>\n",
       "    </tr>\n",
       "    <tr>\n",
       "      <th>4</th>\n",
       "      <td>33</td>\n",
       "      <td>fressnapf</td>\n",
       "    </tr>\n",
       "    <tr>\n",
       "      <th>5</th>\n",
       "      <td>34</td>\n",
       "      <td>katzensnacks</td>\n",
       "    </tr>\n",
       "    <tr>\n",
       "      <th>6</th>\n",
       "      <td>36</td>\n",
       "      <td>katzenspielzeug</td>\n",
       "    </tr>\n",
       "    <tr>\n",
       "      <th>7</th>\n",
       "      <td>251</td>\n",
       "      <td>hundefutter_trockenfutter</td>\n",
       "    </tr>\n",
       "    <tr>\n",
       "      <th>8</th>\n",
       "      <td>252</td>\n",
       "      <td>katzenfutter_trockenfutter</td>\n",
       "    </tr>\n",
       "    <tr>\n",
       "      <th>9</th>\n",
       "      <td>301</td>\n",
       "      <td>katzenstreu</td>\n",
       "    </tr>\n",
       "    <tr>\n",
       "      <th>10</th>\n",
       "      <td>409</td>\n",
       "      <td>hundepflege</td>\n",
       "    </tr>\n",
       "    <tr>\n",
       "      <th>11</th>\n",
       "      <td>857</td>\n",
       "      <td>hundefutter_nassfutter</td>\n",
       "    </tr>\n",
       "    <tr>\n",
       "      <th>12</th>\n",
       "      <td>1400</td>\n",
       "      <td>hundefutter_ergaenzung</td>\n",
       "    </tr>\n",
       "    <tr>\n",
       "      <th>13</th>\n",
       "      <td>2068</td>\n",
       "      <td>katzenfutter_dose</td>\n",
       "    </tr>\n",
       "    <tr>\n",
       "      <th>14</th>\n",
       "      <td>2190</td>\n",
       "      <td>hundetransportbox</td>\n",
       "    </tr>\n",
       "    <tr>\n",
       "      <th>15</th>\n",
       "      <td>48963</td>\n",
       "      <td>sparplan</td>\n",
       "    </tr>\n",
       "    <tr>\n",
       "      <th>16</th>\n",
       "      <td>207553</td>\n",
       "      <td>ungezieferschutz</td>\n",
       "    </tr>\n",
       "  </tbody>\n",
       "</table>\n",
       "</div>"
      ],
      "text/plain": [
       "     PG_ID                PG_SHORTLINK\n",
       "0        9                   hundebett\n",
       "1       18                 hundesnacks\n",
       "2       23        kratzbaum_katzenbaum\n",
       "3       29              katzentoilette\n",
       "4       33                   fressnapf\n",
       "5       34                katzensnacks\n",
       "6       36             katzenspielzeug\n",
       "7      251   hundefutter_trockenfutter\n",
       "8      252  katzenfutter_trockenfutter\n",
       "9      301                 katzenstreu\n",
       "10     409                 hundepflege\n",
       "11     857      hundefutter_nassfutter\n",
       "12    1400      hundefutter_ergaenzung\n",
       "13    2068           katzenfutter_dose\n",
       "14    2190           hundetransportbox\n",
       "15   48963                    sparplan\n",
       "16  207553            ungezieferschutz"
      ]
     },
     "execution_count": 78,
     "metadata": {},
     "output_type": "execute_result"
    }
   ],
   "source": [
    "pg3"
   ]
  },
  {
   "cell_type": "code",
   "execution_count": 79,
   "metadata": {
    "ExecuteTime": {
     "end_time": "2018-11-22T15:40:07.576616Z",
     "start_time": "2018-11-22T15:40:07.566616Z"
    }
   },
   "outputs": [],
   "source": [
    "pg3_dict = {x: y for x, y in list(zip(pg3['PG_ID'].values, pg3['PG_SHORTLINK'].values))}"
   ]
  },
  {
   "cell_type": "code",
   "execution_count": 80,
   "metadata": {
    "ExecuteTime": {
     "end_time": "2018-11-22T15:40:09.705616Z",
     "start_time": "2018-11-22T15:40:07.577616Z"
    }
   },
   "outputs": [],
   "source": [
    "pg3_share_comparison['PG3_NAME'] = [pg3_dict[i] for i in pg3_share_comparison['PG3'].values]"
   ]
  },
  {
   "cell_type": "code",
   "execution_count": 81,
   "metadata": {
    "ExecuteTime": {
     "end_time": "2018-11-22T15:40:09.725616Z",
     "start_time": "2018-11-22T15:40:09.706616Z"
    }
   },
   "outputs": [
    {
     "data": {
      "text/html": [
       "<div>\n",
       "<style scoped>\n",
       "    .dataframe tbody tr th:only-of-type {\n",
       "        vertical-align: middle;\n",
       "    }\n",
       "\n",
       "    .dataframe tbody tr th {\n",
       "        vertical-align: top;\n",
       "    }\n",
       "\n",
       "    .dataframe thead th {\n",
       "        text-align: right;\n",
       "    }\n",
       "</style>\n",
       "<table border=\"1\" class=\"dataframe\">\n",
       "  <thead>\n",
       "    <tr style=\"text-align: right;\">\n",
       "      <th></th>\n",
       "      <th>PG3</th>\n",
       "      <th>NO_SP_ORD</th>\n",
       "      <th>SP_ORD</th>\n",
       "      <th>PG3_NAME</th>\n",
       "    </tr>\n",
       "  </thead>\n",
       "  <tbody>\n",
       "    <tr>\n",
       "      <th>9</th>\n",
       "      <td>9</td>\n",
       "      <td>1.502</td>\n",
       "      <td>0.000</td>\n",
       "      <td>hundebett</td>\n",
       "    </tr>\n",
       "    <tr>\n",
       "      <th>18</th>\n",
       "      <td>18</td>\n",
       "      <td>3.907</td>\n",
       "      <td>3.861</td>\n",
       "      <td>hundesnacks</td>\n",
       "    </tr>\n",
       "    <tr>\n",
       "      <th>23</th>\n",
       "      <td>23</td>\n",
       "      <td>2.397</td>\n",
       "      <td>1.453</td>\n",
       "      <td>kratzbaum_katzenbaum</td>\n",
       "    </tr>\n",
       "    <tr>\n",
       "      <th>29</th>\n",
       "      <td>29</td>\n",
       "      <td>2.325</td>\n",
       "      <td>1.686</td>\n",
       "      <td>katzentoilette</td>\n",
       "    </tr>\n",
       "    <tr>\n",
       "      <th>33</th>\n",
       "      <td>33</td>\n",
       "      <td>1.097</td>\n",
       "      <td>0.000</td>\n",
       "      <td>fressnapf</td>\n",
       "    </tr>\n",
       "    <tr>\n",
       "      <th>34</th>\n",
       "      <td>34</td>\n",
       "      <td>1.602</td>\n",
       "      <td>1.560</td>\n",
       "      <td>katzensnacks</td>\n",
       "    </tr>\n",
       "    <tr>\n",
       "      <th>36</th>\n",
       "      <td>36</td>\n",
       "      <td>1.037</td>\n",
       "      <td>0.000</td>\n",
       "      <td>katzenspielzeug</td>\n",
       "    </tr>\n",
       "    <tr>\n",
       "      <th>251</th>\n",
       "      <td>251</td>\n",
       "      <td>30.390</td>\n",
       "      <td>30.158</td>\n",
       "      <td>hundefutter_trockenfutter</td>\n",
       "    </tr>\n",
       "    <tr>\n",
       "      <th>252</th>\n",
       "      <td>252</td>\n",
       "      <td>16.959</td>\n",
       "      <td>17.841</td>\n",
       "      <td>katzenfutter_trockenfutter</td>\n",
       "    </tr>\n",
       "    <tr>\n",
       "      <th>301</th>\n",
       "      <td>301</td>\n",
       "      <td>6.999</td>\n",
       "      <td>7.186</td>\n",
       "      <td>katzenstreu</td>\n",
       "    </tr>\n",
       "    <tr>\n",
       "      <th>409</th>\n",
       "      <td>409</td>\n",
       "      <td>1.334</td>\n",
       "      <td>1.339</td>\n",
       "      <td>hundepflege</td>\n",
       "    </tr>\n",
       "    <tr>\n",
       "      <th>857</th>\n",
       "      <td>857</td>\n",
       "      <td>3.612</td>\n",
       "      <td>3.802</td>\n",
       "      <td>hundefutter_nassfutter</td>\n",
       "    </tr>\n",
       "    <tr>\n",
       "      <th>1400</th>\n",
       "      <td>1400</td>\n",
       "      <td>1.102</td>\n",
       "      <td>0.000</td>\n",
       "      <td>hundefutter_ergaenzung</td>\n",
       "    </tr>\n",
       "    <tr>\n",
       "      <th>2068</th>\n",
       "      <td>2068</td>\n",
       "      <td>14.304</td>\n",
       "      <td>14.855</td>\n",
       "      <td>katzenfutter_dose</td>\n",
       "    </tr>\n",
       "    <tr>\n",
       "      <th>2190</th>\n",
       "      <td>2190</td>\n",
       "      <td>1.149</td>\n",
       "      <td>1.004</td>\n",
       "      <td>hundetransportbox</td>\n",
       "    </tr>\n",
       "    <tr>\n",
       "      <th>48963</th>\n",
       "      <td>48963</td>\n",
       "      <td>0.000</td>\n",
       "      <td>1.682</td>\n",
       "      <td>sparplan</td>\n",
       "    </tr>\n",
       "    <tr>\n",
       "      <th>207553</th>\n",
       "      <td>207553</td>\n",
       "      <td>1.815</td>\n",
       "      <td>3.380</td>\n",
       "      <td>ungezieferschutz</td>\n",
       "    </tr>\n",
       "  </tbody>\n",
       "</table>\n",
       "</div>"
      ],
      "text/plain": [
       "           PG3  NO_SP_ORD  SP_ORD                    PG3_NAME\n",
       "9            9      1.502   0.000                   hundebett\n",
       "18          18      3.907   3.861                 hundesnacks\n",
       "23          23      2.397   1.453        kratzbaum_katzenbaum\n",
       "29          29      2.325   1.686              katzentoilette\n",
       "33          33      1.097   0.000                   fressnapf\n",
       "34          34      1.602   1.560                katzensnacks\n",
       "36          36      1.037   0.000             katzenspielzeug\n",
       "251        251     30.390  30.158   hundefutter_trockenfutter\n",
       "252        252     16.959  17.841  katzenfutter_trockenfutter\n",
       "301        301      6.999   7.186                 katzenstreu\n",
       "409        409      1.334   1.339                 hundepflege\n",
       "857        857      3.612   3.802      hundefutter_nassfutter\n",
       "1400      1400      1.102   0.000      hundefutter_ergaenzung\n",
       "2068      2068     14.304  14.855           katzenfutter_dose\n",
       "2190      2190      1.149   1.004           hundetransportbox\n",
       "48963    48963      0.000   1.682                    sparplan\n",
       "207553  207553      1.815   3.380            ungezieferschutz"
      ]
     },
     "execution_count": 81,
     "metadata": {},
     "output_type": "execute_result"
    }
   ],
   "source": [
    "pg3_share_comparison"
   ]
  },
  {
   "cell_type": "code",
   "execution_count": 82,
   "metadata": {
    "ExecuteTime": {
     "end_time": "2018-11-22T15:40:09.999616Z",
     "start_time": "2018-11-22T15:40:09.726616Z"
    }
   },
   "outputs": [
    {
     "data": {
      "image/png": "[encoded data removed]",
      "text/plain": [
       "<matplotlib.figure.Figure at 0x498d99e8>"
      ]
     },
     "metadata": {},
     "output_type": "display_data"
    }
   ],
   "source": [
    "plt.figure(figsize=(12, 12))\n",
    "x = pg3_share_comparison['PG3_NAME'].values\n",
    "y = pg3_share_comparison['NO_SP_ORD'].values\n",
    "z = pg3_share_comparison['SP_ORD'].values\n",
    "plt.barh(x, y, color='g')\n",
    "plt.barh(x, z, color='orange', alpha=0.5)\n",
    "plt.ylabel('PG3')\n",
    "plt.xlabel('Sales share %')\n",
    "plt.legend(['NO SP Orders', 'SP Orders'])\n",
    "plt.show()"
   ]
  },
  {
   "cell_type": "code",
   "execution_count": 83,
   "metadata": {
    "ExecuteTime": {
     "end_time": "2018-11-22T15:40:10.006616Z",
     "start_time": "2018-11-22T15:40:10.001616Z"
    }
   },
   "outputs": [],
   "source": [
    "no_sp_cus_pg3_sales_df = pd.DataFrame.from_dict(no_sp_pg3_dict_sales_no_disc, orient='index')\n",
    "sp_cus_pg3_sales_df = pd.DataFrame.from_dict(sp_pg3_dict_sales_no_disc, orient='index')"
   ]
  },
  {
   "cell_type": "code",
   "execution_count": 84,
   "metadata": {
    "ExecuteTime": {
     "end_time": "2018-11-22T15:40:10.022616Z",
     "start_time": "2018-11-22T15:40:10.007616Z"
    }
   },
   "outputs": [],
   "source": [
    "pg3_sales_comparison = pd.concat([no_sp_cus_pg3_sales_df, sp_cus_pg3_sales_df], axis=1).fillna(0)\n",
    "pg3_sales_comparison.columns = ['NO_SP_ORD', 'SP_ORD']\n",
    "pg3_sales_comparison['PG3'] = pg3_sales_comparison.index.values\n",
    "#pg3_sales_comparison['PG3'] = pg3_sales_comparison['PG3'].astype(str)"
   ]
  },
  {
   "cell_type": "code",
   "execution_count": 85,
   "metadata": {
    "ExecuteTime": {
     "end_time": "2018-11-22T15:40:10.036616Z",
     "start_time": "2018-11-22T15:40:10.024616Z"
    }
   },
   "outputs": [],
   "source": [
    "pg3_lis = list(pg3_sales_comparison['PG3'].values)"
   ]
  },
  {
   "cell_type": "code",
   "execution_count": 86,
   "metadata": {
    "ExecuteTime": {
     "end_time": "2018-11-22T15:40:10.050616Z",
     "start_time": "2018-11-22T15:40:10.037616Z"
    }
   },
   "outputs": [],
   "source": [
    "pg3_lista = repr(pg3_lis).replace('[','(').replace(']',')')"
   ]
  },
  {
   "cell_type": "code",
   "execution_count": 87,
   "metadata": {
    "ExecuteTime": {
     "end_time": "2018-11-22T15:40:10.063616Z",
     "start_time": "2018-11-22T15:40:10.051616Z"
    }
   },
   "outputs": [],
   "source": [
    "query = \"\"\"select pg_id, pg_shortlink from ZOOMAN.PRODUCT_GROUPS\n",
    "where pg_id in %s\"\"\" % pg3_lista"
   ]
  },
  {
   "cell_type": "code",
   "execution_count": 88,
   "metadata": {
    "ExecuteTime": {
     "end_time": "2018-11-22T15:40:10.830616Z",
     "start_time": "2018-11-22T15:40:10.064616Z"
    }
   },
   "outputs": [],
   "source": [
    "conn = cx_Oracle.connect('zooor', 'zoo12or', 'zoorep', threaded=True, encoding = \"UTF-8\", nencoding = \"UTF-8\")\n",
    "pg3 = pd.read_sql(query, con = conn)\n",
    "conn.close()"
   ]
  },
  {
   "cell_type": "code",
   "execution_count": 89,
   "metadata": {
    "ExecuteTime": {
     "end_time": "2018-11-22T15:40:10.835616Z",
     "start_time": "2018-11-22T15:40:10.831616Z"
    }
   },
   "outputs": [],
   "source": [
    "pg3_dict = {x: y for x, y in list(zip(pg3['PG_ID'].values, pg3['PG_SHORTLINK'].values))}"
   ]
  },
  {
   "cell_type": "code",
   "execution_count": 90,
   "metadata": {
    "ExecuteTime": {
     "end_time": "2018-11-22T15:40:10.851616Z",
     "start_time": "2018-11-22T15:40:10.836616Z"
    }
   },
   "outputs": [],
   "source": [
    "pg3_sales_comparison['PG3_NAME'] = [pg3_dict[i] for i in pg3_sales_comparison['PG3'].values]"
   ]
  },
  {
   "cell_type": "code",
   "execution_count": 91,
   "metadata": {
    "ExecuteTime": {
     "end_time": "2018-11-22T15:40:10.881616Z",
     "start_time": "2018-11-22T15:40:10.852616Z"
    }
   },
   "outputs": [
    {
     "data": {
      "text/html": [
       "<div>\n",
       "<style scoped>\n",
       "    .dataframe tbody tr th:only-of-type {\n",
       "        vertical-align: middle;\n",
       "    }\n",
       "\n",
       "    .dataframe tbody tr th {\n",
       "        vertical-align: top;\n",
       "    }\n",
       "\n",
       "    .dataframe thead th {\n",
       "        text-align: right;\n",
       "    }\n",
       "</style>\n",
       "<table border=\"1\" class=\"dataframe\">\n",
       "  <thead>\n",
       "    <tr style=\"text-align: right;\">\n",
       "      <th></th>\n",
       "      <th>PG3</th>\n",
       "      <th>PG3_NAME</th>\n",
       "      <th>NO_SP_ORD</th>\n",
       "      <th>SP_ORD</th>\n",
       "    </tr>\n",
       "  </thead>\n",
       "  <tbody>\n",
       "    <tr>\n",
       "      <th>9</th>\n",
       "      <td>9</td>\n",
       "      <td>hundebett</td>\n",
       "      <td>4933.54</td>\n",
       "      <td>3033.36</td>\n",
       "    </tr>\n",
       "    <tr>\n",
       "      <th>15</th>\n",
       "      <td>15</td>\n",
       "      <td>hundeleine_hundehalsband</td>\n",
       "      <td>2641.23</td>\n",
       "      <td>2478.60</td>\n",
       "    </tr>\n",
       "    <tr>\n",
       "      <th>16</th>\n",
       "      <td>16</td>\n",
       "      <td>fressnapf</td>\n",
       "      <td>1578.29</td>\n",
       "      <td>1612.42</td>\n",
       "    </tr>\n",
       "    <tr>\n",
       "      <th>18</th>\n",
       "      <td>18</td>\n",
       "      <td>hundesnacks</td>\n",
       "      <td>12835.75</td>\n",
       "      <td>14177.35</td>\n",
       "    </tr>\n",
       "    <tr>\n",
       "      <th>20</th>\n",
       "      <td>20</td>\n",
       "      <td>hundespielzeug</td>\n",
       "      <td>2926.30</td>\n",
       "      <td>3398.58</td>\n",
       "    </tr>\n",
       "    <tr>\n",
       "      <th>23</th>\n",
       "      <td>23</td>\n",
       "      <td>kratzbaum_katzenbaum</td>\n",
       "      <td>7875.14</td>\n",
       "      <td>5334.68</td>\n",
       "    </tr>\n",
       "    <tr>\n",
       "      <th>29</th>\n",
       "      <td>29</td>\n",
       "      <td>katzentoilette</td>\n",
       "      <td>7638.50</td>\n",
       "      <td>6191.05</td>\n",
       "    </tr>\n",
       "    <tr>\n",
       "      <th>33</th>\n",
       "      <td>33</td>\n",
       "      <td>fressnapf</td>\n",
       "      <td>3605.48</td>\n",
       "      <td>3240.36</td>\n",
       "    </tr>\n",
       "    <tr>\n",
       "      <th>34</th>\n",
       "      <td>34</td>\n",
       "      <td>katzensnacks</td>\n",
       "      <td>5263.17</td>\n",
       "      <td>5729.36</td>\n",
       "    </tr>\n",
       "    <tr>\n",
       "      <th>36</th>\n",
       "      <td>36</td>\n",
       "      <td>katzenspielzeug</td>\n",
       "      <td>3407.36</td>\n",
       "      <td>2376.53</td>\n",
       "    </tr>\n",
       "    <tr>\n",
       "      <th>37</th>\n",
       "      <td>37</td>\n",
       "      <td>transport</td>\n",
       "      <td>797.92</td>\n",
       "      <td>874.39</td>\n",
       "    </tr>\n",
       "    <tr>\n",
       "      <th>38</th>\n",
       "      <td>38</td>\n",
       "      <td>katzenfutter_ergaenzung</td>\n",
       "      <td>872.81</td>\n",
       "      <td>1096.08</td>\n",
       "    </tr>\n",
       "    <tr>\n",
       "      <th>42</th>\n",
       "      <td>42</td>\n",
       "      <td>kaefigzubehoer</td>\n",
       "      <td>399.67</td>\n",
       "      <td>316.60</td>\n",
       "    </tr>\n",
       "    <tr>\n",
       "      <th>45</th>\n",
       "      <td>45</td>\n",
       "      <td>futter</td>\n",
       "      <td>1388.31</td>\n",
       "      <td>1493.85</td>\n",
       "    </tr>\n",
       "    <tr>\n",
       "      <th>47</th>\n",
       "      <td>47</td>\n",
       "      <td>spielzeug</td>\n",
       "      <td>251.44</td>\n",
       "      <td>122.12</td>\n",
       "    </tr>\n",
       "    <tr>\n",
       "      <th>48</th>\n",
       "      <td>48</td>\n",
       "      <td>pflege</td>\n",
       "      <td>136.93</td>\n",
       "      <td>153.18</td>\n",
       "    </tr>\n",
       "    <tr>\n",
       "      <th>50</th>\n",
       "      <td>50</td>\n",
       "      <td>vogelfutter_nahrungsergaenzung</td>\n",
       "      <td>31.86</td>\n",
       "      <td>35.78</td>\n",
       "    </tr>\n",
       "    <tr>\n",
       "      <th>51</th>\n",
       "      <td>51</td>\n",
       "      <td>kaefigzubehoer</td>\n",
       "      <td>96.70</td>\n",
       "      <td>152.09</td>\n",
       "    </tr>\n",
       "    <tr>\n",
       "      <th>62</th>\n",
       "      <td>62</td>\n",
       "      <td>fischfutter</td>\n",
       "      <td>216.52</td>\n",
       "      <td>401.15</td>\n",
       "    </tr>\n",
       "    <tr>\n",
       "      <th>65</th>\n",
       "      <td>65</td>\n",
       "      <td>aquarium_pflanzen</td>\n",
       "      <td>24.98</td>\n",
       "      <td>67.92</td>\n",
       "    </tr>\n",
       "    <tr>\n",
       "      <th>67</th>\n",
       "      <td>67</td>\n",
       "      <td>aquarium_pumpen</td>\n",
       "      <td>156.94</td>\n",
       "      <td>255.95</td>\n",
       "    </tr>\n",
       "    <tr>\n",
       "      <th>68</th>\n",
       "      <td>68</td>\n",
       "      <td>wasserpflege_aquarium</td>\n",
       "      <td>54.94</td>\n",
       "      <td>161.37</td>\n",
       "    </tr>\n",
       "    <tr>\n",
       "      <th>221</th>\n",
       "      <td>221</td>\n",
       "      <td>vogelfutter</td>\n",
       "      <td>1039.75</td>\n",
       "      <td>833.54</td>\n",
       "    </tr>\n",
       "    <tr>\n",
       "      <th>251</th>\n",
       "      <td>251</td>\n",
       "      <td>hundefutter_trockenfutter</td>\n",
       "      <td>99835.80</td>\n",
       "      <td>110738.43</td>\n",
       "    </tr>\n",
       "    <tr>\n",
       "      <th>252</th>\n",
       "      <td>252</td>\n",
       "      <td>katzenfutter_trockenfutter</td>\n",
       "      <td>55714.56</td>\n",
       "      <td>65510.22</td>\n",
       "    </tr>\n",
       "    <tr>\n",
       "      <th>274</th>\n",
       "      <td>274</td>\n",
       "      <td>snack_und_knabberstangen</td>\n",
       "      <td>174.48</td>\n",
       "      <td>258.30</td>\n",
       "    </tr>\n",
       "    <tr>\n",
       "      <th>301</th>\n",
       "      <td>301</td>\n",
       "      <td>katzenstreu</td>\n",
       "      <td>22993.38</td>\n",
       "      <td>26385.54</td>\n",
       "    </tr>\n",
       "    <tr>\n",
       "      <th>305</th>\n",
       "      <td>305</td>\n",
       "      <td>heu_streu</td>\n",
       "      <td>2154.04</td>\n",
       "      <td>2497.99</td>\n",
       "    </tr>\n",
       "    <tr>\n",
       "      <th>401</th>\n",
       "      <td>401</td>\n",
       "      <td>futter_ergaenzung</td>\n",
       "      <td>571.75</td>\n",
       "      <td>518.64</td>\n",
       "    </tr>\n",
       "    <tr>\n",
       "      <th>409</th>\n",
       "      <td>409</td>\n",
       "      <td>hundepflege</td>\n",
       "      <td>4382.39</td>\n",
       "      <td>4916.70</td>\n",
       "    </tr>\n",
       "    <tr>\n",
       "      <th>...</th>\n",
       "      <td>...</td>\n",
       "      <td>...</td>\n",
       "      <td>...</td>\n",
       "      <td>...</td>\n",
       "    </tr>\n",
       "    <tr>\n",
       "      <th>758</th>\n",
       "      <td>758</td>\n",
       "      <td>kaefig</td>\n",
       "      <td>674.91</td>\n",
       "      <td>509.94</td>\n",
       "    </tr>\n",
       "    <tr>\n",
       "      <th>857</th>\n",
       "      <td>857</td>\n",
       "      <td>hundefutter_nassfutter</td>\n",
       "      <td>11866.37</td>\n",
       "      <td>13960.76</td>\n",
       "    </tr>\n",
       "    <tr>\n",
       "      <th>1400</th>\n",
       "      <td>1400</td>\n",
       "      <td>hundefutter_ergaenzung</td>\n",
       "      <td>3620.52</td>\n",
       "      <td>3622.56</td>\n",
       "    </tr>\n",
       "    <tr>\n",
       "      <th>1540</th>\n",
       "      <td>1540</td>\n",
       "      <td>katzenbetten_katzenkissen</td>\n",
       "      <td>2468.87</td>\n",
       "      <td>1415.12</td>\n",
       "    </tr>\n",
       "    <tr>\n",
       "      <th>1603</th>\n",
       "      <td>1603</td>\n",
       "      <td>spielzeug</td>\n",
       "      <td>22.95</td>\n",
       "      <td>15.46</td>\n",
       "    </tr>\n",
       "    <tr>\n",
       "      <th>1635</th>\n",
       "      <td>1635</td>\n",
       "      <td>aquarium_zubehoer</td>\n",
       "      <td>89.98</td>\n",
       "      <td>75.97</td>\n",
       "    </tr>\n",
       "    <tr>\n",
       "      <th>2068</th>\n",
       "      <td>2068</td>\n",
       "      <td>katzenfutter_dose</td>\n",
       "      <td>46990.13</td>\n",
       "      <td>54545.47</td>\n",
       "    </tr>\n",
       "    <tr>\n",
       "      <th>2155</th>\n",
       "      <td>2155</td>\n",
       "      <td>balkon_garten</td>\n",
       "      <td>1126.58</td>\n",
       "      <td>1017.83</td>\n",
       "    </tr>\n",
       "    <tr>\n",
       "      <th>2190</th>\n",
       "      <td>2190</td>\n",
       "      <td>hundetransportbox</td>\n",
       "      <td>3773.53</td>\n",
       "      <td>3687.10</td>\n",
       "    </tr>\n",
       "    <tr>\n",
       "      <th>2192</th>\n",
       "      <td>2192</td>\n",
       "      <td>hundehuette_hundetuer</td>\n",
       "      <td>1761.72</td>\n",
       "      <td>689.83</td>\n",
       "    </tr>\n",
       "    <tr>\n",
       "      <th>2430</th>\n",
       "      <td>2430</td>\n",
       "      <td>aktionen</td>\n",
       "      <td>0.00</td>\n",
       "      <td>0.00</td>\n",
       "    </tr>\n",
       "    <tr>\n",
       "      <th>2471</th>\n",
       "      <td>2471</td>\n",
       "      <td>aquarium</td>\n",
       "      <td>619.96</td>\n",
       "      <td>219.94</td>\n",
       "    </tr>\n",
       "    <tr>\n",
       "      <th>3156</th>\n",
       "      <td>3156</td>\n",
       "      <td>bonsupunkte_praemien</td>\n",
       "      <td>0.00</td>\n",
       "      <td>0.00</td>\n",
       "    </tr>\n",
       "    <tr>\n",
       "      <th>8038</th>\n",
       "      <td>8038</td>\n",
       "      <td>sparpakete_hund_katze</td>\n",
       "      <td>2.00</td>\n",
       "      <td>1.19</td>\n",
       "    </tr>\n",
       "    <tr>\n",
       "      <th>9788</th>\n",
       "      <td>9788</td>\n",
       "      <td>pferdefutter</td>\n",
       "      <td>23.99</td>\n",
       "      <td>0.00</td>\n",
       "    </tr>\n",
       "    <tr>\n",
       "      <th>9885</th>\n",
       "      <td>9885</td>\n",
       "      <td>pferdeleckerli</td>\n",
       "      <td>2.99</td>\n",
       "      <td>0.00</td>\n",
       "    </tr>\n",
       "    <tr>\n",
       "      <th>15781</th>\n",
       "      <td>15781</td>\n",
       "      <td>zooplus_boutique</td>\n",
       "      <td>13.96</td>\n",
       "      <td>0.00</td>\n",
       "    </tr>\n",
       "    <tr>\n",
       "      <th>17947</th>\n",
       "      <td>17947</td>\n",
       "      <td>geschenkgutscheine</td>\n",
       "      <td>70.00</td>\n",
       "      <td>0.00</td>\n",
       "    </tr>\n",
       "    <tr>\n",
       "      <th>40023</th>\n",
       "      <td>40023</td>\n",
       "      <td>hundebekleidung_hundemantel</td>\n",
       "      <td>1380.99</td>\n",
       "      <td>579.53</td>\n",
       "    </tr>\n",
       "    <tr>\n",
       "      <th>48963</th>\n",
       "      <td>48963</td>\n",
       "      <td>sparplan</td>\n",
       "      <td>27.94</td>\n",
       "      <td>6175.27</td>\n",
       "    </tr>\n",
       "    <tr>\n",
       "      <th>49821</th>\n",
       "      <td>49821</td>\n",
       "      <td>kaninchenstaelle</td>\n",
       "      <td>0.00</td>\n",
       "      <td>129.99</td>\n",
       "    </tr>\n",
       "    <tr>\n",
       "      <th>49828</th>\n",
       "      <td>49828</td>\n",
       "      <td>freigehege</td>\n",
       "      <td>334.90</td>\n",
       "      <td>244.93</td>\n",
       "    </tr>\n",
       "    <tr>\n",
       "      <th>126729</th>\n",
       "      <td>126729</td>\n",
       "      <td>royal_canin_zugabeartikel</td>\n",
       "      <td>13.09</td>\n",
       "      <td>19.23</td>\n",
       "    </tr>\n",
       "    <tr>\n",
       "      <th>126778</th>\n",
       "      <td>126778</td>\n",
       "      <td>zooplus_zugabeartikel</td>\n",
       "      <td>13.44</td>\n",
       "      <td>23.03</td>\n",
       "    </tr>\n",
       "    <tr>\n",
       "      <th>126781</th>\n",
       "      <td>126781</td>\n",
       "      <td>interquell_zugabeartikel</td>\n",
       "      <td>2.26</td>\n",
       "      <td>0.00</td>\n",
       "    </tr>\n",
       "    <tr>\n",
       "      <th>153317</th>\n",
       "      <td>153317</td>\n",
       "      <td>sport_training</td>\n",
       "      <td>1434.40</td>\n",
       "      <td>1269.01</td>\n",
       "    </tr>\n",
       "    <tr>\n",
       "      <th>171343</th>\n",
       "      <td>171343</td>\n",
       "      <td>tetra_zugabeartikel</td>\n",
       "      <td>15.71</td>\n",
       "      <td>6.44</td>\n",
       "    </tr>\n",
       "    <tr>\n",
       "      <th>207553</th>\n",
       "      <td>207553</td>\n",
       "      <td>ungezieferschutz</td>\n",
       "      <td>5962.51</td>\n",
       "      <td>12411.50</td>\n",
       "    </tr>\n",
       "    <tr>\n",
       "      <th>207624</th>\n",
       "      <td>207624</td>\n",
       "      <td>ungezieferschutz</td>\n",
       "      <td>598.76</td>\n",
       "      <td>1516.35</td>\n",
       "    </tr>\n",
       "    <tr>\n",
       "      <th>255413</th>\n",
       "      <td>255413</td>\n",
       "      <td>superbox_dog</td>\n",
       "      <td>340.79</td>\n",
       "      <td>121.92</td>\n",
       "    </tr>\n",
       "  </tbody>\n",
       "</table>\n",
       "<p>64 rows × 4 columns</p>\n",
       "</div>"
      ],
      "text/plain": [
       "           PG3                        PG3_NAME  NO_SP_ORD     SP_ORD\n",
       "9            9                       hundebett    4933.54    3033.36\n",
       "15          15        hundeleine_hundehalsband    2641.23    2478.60\n",
       "16          16                       fressnapf    1578.29    1612.42\n",
       "18          18                     hundesnacks   12835.75   14177.35\n",
       "20          20                  hundespielzeug    2926.30    3398.58\n",
       "23          23            kratzbaum_katzenbaum    7875.14    5334.68\n",
       "29          29                  katzentoilette    7638.50    6191.05\n",
       "33          33                       fressnapf    3605.48    3240.36\n",
       "34          34                    katzensnacks    5263.17    5729.36\n",
       "36          36                 katzenspielzeug    3407.36    2376.53\n",
       "37          37                       transport     797.92     874.39\n",
       "38          38         katzenfutter_ergaenzung     872.81    1096.08\n",
       "42          42                  kaefigzubehoer     399.67     316.60\n",
       "45          45                          futter    1388.31    1493.85\n",
       "47          47                       spielzeug     251.44     122.12\n",
       "48          48                          pflege     136.93     153.18\n",
       "50          50  vogelfutter_nahrungsergaenzung      31.86      35.78\n",
       "51          51                  kaefigzubehoer      96.70     152.09\n",
       "62          62                     fischfutter     216.52     401.15\n",
       "65          65               aquarium_pflanzen      24.98      67.92\n",
       "67          67                 aquarium_pumpen     156.94     255.95\n",
       "68          68           wasserpflege_aquarium      54.94     161.37\n",
       "221        221                     vogelfutter    1039.75     833.54\n",
       "251        251       hundefutter_trockenfutter   99835.80  110738.43\n",
       "252        252      katzenfutter_trockenfutter   55714.56   65510.22\n",
       "274        274        snack_und_knabberstangen     174.48     258.30\n",
       "301        301                     katzenstreu   22993.38   26385.54\n",
       "305        305                       heu_streu    2154.04    2497.99\n",
       "401        401               futter_ergaenzung     571.75     518.64\n",
       "409        409                     hundepflege    4382.39    4916.70\n",
       "...        ...                             ...        ...        ...\n",
       "758        758                          kaefig     674.91     509.94\n",
       "857        857          hundefutter_nassfutter   11866.37   13960.76\n",
       "1400      1400          hundefutter_ergaenzung    3620.52    3622.56\n",
       "1540      1540       katzenbetten_katzenkissen    2468.87    1415.12\n",
       "1603      1603                       spielzeug      22.95      15.46\n",
       "1635      1635               aquarium_zubehoer      89.98      75.97\n",
       "2068      2068               katzenfutter_dose   46990.13   54545.47\n",
       "2155      2155                   balkon_garten    1126.58    1017.83\n",
       "2190      2190               hundetransportbox    3773.53    3687.10\n",
       "2192      2192           hundehuette_hundetuer    1761.72     689.83\n",
       "2430      2430                        aktionen       0.00       0.00\n",
       "2471      2471                        aquarium     619.96     219.94\n",
       "3156      3156            bonsupunkte_praemien       0.00       0.00\n",
       "8038      8038           sparpakete_hund_katze       2.00       1.19\n",
       "9788      9788                    pferdefutter      23.99       0.00\n",
       "9885      9885                  pferdeleckerli       2.99       0.00\n",
       "15781    15781                zooplus_boutique      13.96       0.00\n",
       "17947    17947              geschenkgutscheine      70.00       0.00\n",
       "40023    40023     hundebekleidung_hundemantel    1380.99     579.53\n",
       "48963    48963                        sparplan      27.94    6175.27\n",
       "49821    49821                kaninchenstaelle       0.00     129.99\n",
       "49828    49828                      freigehege     334.90     244.93\n",
       "126729  126729       royal_canin_zugabeartikel      13.09      19.23\n",
       "126778  126778           zooplus_zugabeartikel      13.44      23.03\n",
       "126781  126781        interquell_zugabeartikel       2.26       0.00\n",
       "153317  153317                  sport_training    1434.40    1269.01\n",
       "171343  171343             tetra_zugabeartikel      15.71       6.44\n",
       "207553  207553                ungezieferschutz    5962.51   12411.50\n",
       "207624  207624                ungezieferschutz     598.76    1516.35\n",
       "255413  255413                    superbox_dog     340.79     121.92\n",
       "\n",
       "[64 rows x 4 columns]"
      ]
     },
     "execution_count": 91,
     "metadata": {},
     "output_type": "execute_result"
    }
   ],
   "source": [
    "pg3_sales_comparison = pg3_sales_comparison[['PG3', 'PG3_NAME', 'NO_SP_ORD', 'SP_ORD']]\n",
    "pg3_sales_comparison"
   ]
  },
  {
   "cell_type": "markdown",
   "metadata": {},
   "source": [
    "##### Average Sales Share of Royal Canin products – orders with/without SP for SP customers"
   ]
  },
  {
   "cell_type": "code",
   "execution_count": 92,
   "metadata": {
    "ExecuteTime": {
     "end_time": "2018-11-22T15:40:10.901616Z",
     "start_time": "2018-11-22T15:40:10.883616Z"
    }
   },
   "outputs": [],
   "source": [
    "cus_scen_2b['WO_SP_BRAND_SALES'] = [x[y:z] for x, y, z in list(zip(cus_scen_2b['BRAND_AGGSALES'],\n",
    "                                                     cus_scen_2b['WO_SP_1st_POS'],\n",
    "                                                     cus_scen_2b['SCEN_2B_POS']))]"
   ]
  },
  {
   "cell_type": "code",
   "execution_count": 93,
   "metadata": {
    "ExecuteTime": {
     "end_time": "2018-11-22T15:40:10.917616Z",
     "start_time": "2018-11-22T15:40:10.902616Z"
    }
   },
   "outputs": [],
   "source": [
    "cus_scen_2b['SP_BRAND_SALES'] = [x[y:z] for x, y, z in list(zip(cus_scen_2b['BRAND_AGGSALES'],\n",
    "                                                     cus_scen_2b['SCEN_2B_POS'],\n",
    "                                                     cus_scen_2b['W_SP_last_POS']))]"
   ]
  },
  {
   "cell_type": "code",
   "execution_count": 94,
   "metadata": {
    "ExecuteTime": {
     "end_time": "2018-11-22T15:40:10.932616Z",
     "start_time": "2018-11-22T15:40:10.919616Z"
    }
   },
   "outputs": [],
   "source": [
    "cus_scen_2b['WO_SP_FLAT_BRAND_SALES'] = [[k for j in i for k in j] for i in cus_scen_2b['WO_SP_BRAND_SALES'].values]"
   ]
  },
  {
   "cell_type": "code",
   "execution_count": 95,
   "metadata": {
    "ExecuteTime": {
     "end_time": "2018-11-22T15:40:10.953616Z",
     "start_time": "2018-11-22T15:40:10.933616Z"
    }
   },
   "outputs": [],
   "source": [
    "no_sp_flat_brand_sales = [j for i in cus_scen_2b['WO_SP_FLAT_BRAND_SALES'].values for j in i]"
   ]
  },
  {
   "cell_type": "code",
   "execution_count": 96,
   "metadata": {
    "ExecuteTime": {
     "end_time": "2018-11-22T15:40:10.980616Z",
     "start_time": "2018-11-22T15:40:10.955616Z"
    }
   },
   "outputs": [],
   "source": [
    "cus_scen_2b['SP_FLAT_BRAND_SALES'] = [[k for j in i for k in j] for i in cus_scen_2b['SP_BRAND_SALES'].values]"
   ]
  },
  {
   "cell_type": "code",
   "execution_count": 97,
   "metadata": {
    "ExecuteTime": {
     "end_time": "2018-11-22T15:40:10.997616Z",
     "start_time": "2018-11-22T15:40:10.981616Z"
    }
   },
   "outputs": [],
   "source": [
    "sp_flat_brand_sales = [j for i in cus_scen_2b['SP_FLAT_BRAND_SALES'].values for j in i]"
   ]
  },
  {
   "cell_type": "code",
   "execution_count": 98,
   "metadata": {
    "ExecuteTime": {
     "end_time": "2018-11-22T15:40:13.104616Z",
     "start_time": "2018-11-22T15:40:10.999616Z"
    }
   },
   "outputs": [],
   "source": [
    "no_sp_brand_sales = sorted([(brand_, np.round(sum([sales_ for brand__, sales_ in no_sp_flat_brand_sales if brand_== brand__\n",
    "                                                        ]), 3)) \n",
    "                                for brand_ in set([brand for brand, sales in no_sp_flat_brand_sales])], key= lambda x: x[1], reverse=True) "
   ]
  },
  {
   "cell_type": "code",
   "execution_count": 99,
   "metadata": {
    "ExecuteTime": {
     "end_time": "2018-11-22T15:40:20.632616Z",
     "start_time": "2018-11-22T15:40:13.105616Z"
    }
   },
   "outputs": [],
   "source": [
    "sp_brand_sales = sorted([(brand_, np.round(sum([sales_ for brand__, sales_ in sp_flat_brand_sales if brand_== brand__\n",
    "                                                        ]), 3)) \n",
    "                                for brand_ in set([brand for brand, sales in sp_flat_brand_sales])], key= lambda x: x[1], reverse=True) "
   ]
  },
  {
   "cell_type": "code",
   "execution_count": 100,
   "metadata": {
    "ExecuteTime": {
     "end_time": "2018-11-22T15:40:20.639616Z",
     "start_time": "2018-11-22T15:40:20.634616Z"
    }
   },
   "outputs": [],
   "source": [
    "no_sp_dict_sales_no_disc = {i[0]: i[1] for i in no_sp_brand_sales if str(i[0]) != 'nan'}"
   ]
  },
  {
   "cell_type": "code",
   "execution_count": 101,
   "metadata": {
    "ExecuteTime": {
     "end_time": "2018-11-22T15:40:20.656616Z",
     "start_time": "2018-11-22T15:40:20.641616Z"
    }
   },
   "outputs": [],
   "source": [
    "sp_dict_sales_no_disc = {i[0]: i[1] for i in sp_brand_sales if str(i[0]) != 'nan'}"
   ]
  },
  {
   "cell_type": "code",
   "execution_count": 102,
   "metadata": {
    "ExecuteTime": {
     "end_time": "2018-11-22T15:40:20.705616Z",
     "start_time": "2018-11-22T15:40:20.658616Z"
    }
   },
   "outputs": [],
   "source": [
    "no_sp_dict_sales_share = {a: np.round(b/sum(no_sp_dict_sales_no_disc.values())*100, 3)\n",
    "                         for a, b in list(zip(no_sp_dict_sales_no_disc.keys(),\n",
    "                                             no_sp_dict_sales_no_disc.values()))}"
   ]
  },
  {
   "cell_type": "code",
   "execution_count": 103,
   "metadata": {
    "ExecuteTime": {
     "end_time": "2018-11-22T15:40:20.743616Z",
     "start_time": "2018-11-22T15:40:20.707616Z"
    }
   },
   "outputs": [],
   "source": [
    "sp_dict_sales_share = {a: np.round(b/sum(sp_dict_sales_no_disc.values())*100, 3)\n",
    "                         for a, b in list(zip(sp_dict_sales_no_disc.keys(),\n",
    "                                             sp_dict_sales_no_disc.values()))}"
   ]
  },
  {
   "cell_type": "code",
   "execution_count": 104,
   "metadata": {
    "ExecuteTime": {
     "end_time": "2018-11-22T15:40:20.749616Z",
     "start_time": "2018-11-22T15:40:20.744616Z"
    }
   },
   "outputs": [
    {
     "data": {
      "text/plain": [
       "(99.99900000000024, 99.99600000000017)"
      ]
     },
     "execution_count": 104,
     "metadata": {},
     "output_type": "execute_result"
    }
   ],
   "source": [
    "sum(no_sp_dict_sales_share.values()), sum(sp_dict_sales_share.values())"
   ]
  },
  {
   "cell_type": "code",
   "execution_count": 105,
   "metadata": {
    "ExecuteTime": {
     "end_time": "2018-11-22T15:40:20.775616Z",
     "start_time": "2018-11-22T15:40:20.751616Z"
    }
   },
   "outputs": [
    {
     "data": {
      "text/plain": [
       "{'Absperrgitter': 0.063,\n",
       " 'Acana': 3.326,\n",
       " 'Advance': 0.162,\n",
       " 'Advance Breed': 0.016,\n",
       " 'Advance Veterinary Diets': 0.285,\n",
       " 'Affinity Advance': 1.361,\n",
       " 'Agility': 0.006,\n",
       " 'Aktiv & Fit': 0.027,\n",
       " 'Alle Anti-Ungeziefer Produkte': 0.004,\n",
       " 'Alle Hundenäpfe': 0.003,\n",
       " 'Alle Hundesnacks': 0.006,\n",
       " 'Alle Katzenklappen': 0.088,\n",
       " 'Alle Katzenspielzeuge': 0.005,\n",
       " 'Alle Zubehörartikel': 0.008,\n",
       " 'Almo Nature': 0.726,\n",
       " 'Almo Nature Holistic': 0.015,\n",
       " 'Alpha Spirit': 0.289,\n",
       " 'Animonda': 0.067,\n",
       " 'Animonda Carny': 0.287,\n",
       " 'Animonda Integra': 0.094,\n",
       " 'Animonda Rafiné': 0.009,\n",
       " 'Animonda Vom Feinsten': 0.019,\n",
       " 'Applaws': 1.573,\n",
       " 'Aquarien mit Unterschrank': 0.14,\n",
       " 'Aquarienkies': 0.004,\n",
       " 'Aquarium Komplettsets & Sets': 0.024,\n",
       " 'Aquarium Unterschrank': 0.021,\n",
       " 'Arden Grange': 0.395,\n",
       " 'Arden Grange Partners': 0.055,\n",
       " 'Augen- & Ohrenpflege': 0.082,\n",
       " 'Autoschondecken': 0.225,\n",
       " 'Außenfilter': 0.024,\n",
       " 'Außergewöhnliche Schlafplätze': 0.07,\n",
       " 'Badehäuser': 0.002,\n",
       " 'Badesand & Badehäuser': 0.002,\n",
       " 'Belcando': 0.103,\n",
       " 'Beneful': 0.015,\n",
       " 'Benek': 0.174,\n",
       " 'Beschäftigung': 0.347,\n",
       " 'Beyond': 0.003,\n",
       " 'Biokats': 0.11,\n",
       " 'Bodengrund': 0.005,\n",
       " 'Bozita': 0.053,\n",
       " 'Brekkies': 0.23,\n",
       " 'Brücken & Treppen': 0.006,\n",
       " 'Burns': 0.031,\n",
       " 'Bälle, Taue & Ringe': 0.183,\n",
       " 'Bürste &  Kamm': 0.072,\n",
       " 'Bürsten & Kämme': 0.102,\n",
       " 'CO2': 0.009,\n",
       " 'Cat & Clean': 0.057,\n",
       " 'Cat Chow': 0.069,\n",
       " \"Cat's Best\": 0.964,\n",
       " 'Catnip / Baldrian / Silver Vine': 0.098,\n",
       " 'Catsan': 0.054,\n",
       " 'Cesar': 0.058,\n",
       " 'Chinchillafutter': 0.031,\n",
       " 'Clicker & Hundepfeife': 0.022,\n",
       " 'Deckenspanner': 0.12,\n",
       " 'Degufutter': 0.001,\n",
       " 'Deo & Geruchsbinder': 0.204,\n",
       " 'Diverse Marken': 0.054,\n",
       " 'Dog Chow': 0.102,\n",
       " 'DogMio': 0.004,\n",
       " 'Doppelnapf & Napfständer': 0.165,\n",
       " 'Dreamies': 0.001,\n",
       " 'Drops': 0.002,\n",
       " 'Edelstahl': 0.014,\n",
       " 'Einstiegshilfe': 0.018,\n",
       " 'Entsorgungssysteme für Katzenstreu': 0.075,\n",
       " 'Erziehungshalsband & Antibell': 0.089,\n",
       " 'Eukanuba': 1.032,\n",
       " 'Exotenfutter': 0.003,\n",
       " 'FURminator': 0.062,\n",
       " 'Fahrradanhänger Hund': 0.04,\n",
       " 'Fahrradkorb': 0.026,\n",
       " 'Faltbare Transportboxen': 0.113,\n",
       " 'Feliway': 0.517,\n",
       " 'Felix': 1.509,\n",
       " 'Filtermaterial': 0.011,\n",
       " 'Fleischstreifen & Fleischsticks': 0.327,\n",
       " 'Flockenfutter': 0.013,\n",
       " 'Forza 10': 0.142,\n",
       " 'Forza10': 0.004,\n",
       " 'Fressnapf aus Edelstahl': 0.085,\n",
       " 'Fressnapf aus Keramik': 0.046,\n",
       " 'Fressnapf aus Kunststoff': 0.079,\n",
       " 'Frettchen': 0.009,\n",
       " 'Frettchenfutter': 0.004,\n",
       " 'Frettchenkäfig': 0.066,\n",
       " 'Frisbees': 0.012,\n",
       " 'Friskies': 0.039,\n",
       " 'Frolic': 0.03,\n",
       " 'Futterautomat': 0.346,\n",
       " 'Futterbehälter': 0.06,\n",
       " 'Futterbehälter und Dosenlöffel': 0.002,\n",
       " 'Futterbeutel & Dummy': 0.022,\n",
       " 'GPS-Tracker': 0.018,\n",
       " 'Gefiederpflege': 0.003,\n",
       " 'Gefriergetrocknete Snacks': 0.138,\n",
       " 'Gelenke & Knochen': 0.515,\n",
       " 'Geschenkideen für Frauchen und Herrchen': 0.004,\n",
       " 'Gesundheitsbetten': 0.507,\n",
       " 'Getrocknet & natürlich': 0.552,\n",
       " 'Golden Grey / Golden': 0.414,\n",
       " 'Gourmet Gold': 1.867,\n",
       " 'Gourmet Perle/Soup': 0.164,\n",
       " 'GranataPet': 0.121,\n",
       " 'Granulat & Sticks': 0.009,\n",
       " 'Grau': 0.042,\n",
       " 'Green Petfood': 0.093,\n",
       " 'Greenies': 0.037,\n",
       " 'Großsittiche': 0.017,\n",
       " 'Großsittichfutter': 0.026,\n",
       " 'Halsband': 1.254,\n",
       " 'Halsband & Anhänger': 0.009,\n",
       " 'Halsbänder weiterer Materialien': 0.016,\n",
       " 'Hamster': 0.01,\n",
       " 'Hamsterfutter': 0.01,\n",
       " 'Hamsterkäfig': 0.03,\n",
       " 'Hanfstreu': 0.025,\n",
       " 'Happy Cat': 0.037,\n",
       " 'Happy Dog Supreme': 0.138,\n",
       " 'Haubentoiletten': 0.568,\n",
       " 'Hausapotheke': 0.043,\n",
       " 'Haut & Fell': 0.256,\n",
       " 'Heizmatten & Kühlmatten': 0.003,\n",
       " 'Heizungs- & Fensterliegen': 0.065,\n",
       " \"Herrmann's\": 0.031,\n",
       " 'Herrmanns Katzenfutter': 0.02,\n",
       " 'Heu': 0.242,\n",
       " 'Heuraufen': 0.005,\n",
       " \"Hill's Ideal Balance\": 0.011,\n",
       " \"Hill's Prescription Diet\": 8.881,\n",
       " \"Hill's Science Plan\": 2.156,\n",
       " 'Hill’s Science Plan': 0.397,\n",
       " 'Hofleine & Anlegepflock': 0.004,\n",
       " 'Holzstreu': 0.092,\n",
       " 'Hundebetten': 0.376,\n",
       " 'Hundedecken': 0.155,\n",
       " 'Hundegeschirr': 0.334,\n",
       " 'Hundegitter fürs Auto': 0.037,\n",
       " 'Hundegurt': 0.075,\n",
       " 'Hundehalsband-Anhänger': 0.001,\n",
       " 'Hundekekse & Hundekuchen': 0.27,\n",
       " 'Hundekissen': 0.306,\n",
       " 'Hundekörbe': 0.039,\n",
       " 'Hundeleinen weiterer Materialien': 0.004,\n",
       " 'Hundemantel': 0.338,\n",
       " 'Hundepullover & Mode': 0.039,\n",
       " 'Hundeschuhe': 0.018,\n",
       " 'Hundesofas': 0.083,\n",
       " 'Hundetuch': 0.049,\n",
       " 'Hunter': 0.005,\n",
       " 'Hygiene- & Kunstlederbetten': 0.033,\n",
       " 'Hängematten': 0.009,\n",
       " 'Häuschen': 0.033,\n",
       " 'IAMS': 0.088,\n",
       " 'Iams': 0.374,\n",
       " 'Innenfilter': 0.012,\n",
       " 'Integra Diät-Alleinfutter': 0.132,\n",
       " 'Intelligenzspielzeug': 0.13,\n",
       " 'Intelligenzspielzeug mit Futter': 0.067,\n",
       " 'Intersand Extreme Classic': 0.253,\n",
       " 'James Wellbeloved': 0.083,\n",
       " 'Jogging- & Fahrradleine': 0.008,\n",
       " 'Josera': 0.077,\n",
       " 'KONG': 0.354,\n",
       " 'Kalender': 0.0,\n",
       " 'Kanarienfutter': 0.032,\n",
       " 'Kanarienkäfig': 0.012,\n",
       " 'Kaninchenfutter': 0.281,\n",
       " 'Kaninchenkäfig': 0.178,\n",
       " 'Kattovit Spezialdiät': 0.152,\n",
       " 'Katzenbetten': 0.044,\n",
       " 'Katzendecken': 0.02,\n",
       " 'Katzengeschirr': 0.028,\n",
       " 'Katzengras': 0.08,\n",
       " 'Katzenhäuser': 0.138,\n",
       " 'Katzenhöhlen': 0.39,\n",
       " 'Katzenkissen': 0.015,\n",
       " 'Katzenliegen für Fenster': 0.009,\n",
       " 'Katzenmilch': 0.036,\n",
       " 'Katzennetz': 0.233,\n",
       " 'Katzenshampoos': 0.004,\n",
       " 'Katzentabs': 0.023,\n",
       " 'Katzentunnel & Kuschelsack': 0.168,\n",
       " 'Kauknochen & Kaurollen': 0.599,\n",
       " 'Kaurolle & Kaustange': 0.351,\n",
       " 'Kauspielzeug': 0.047,\n",
       " 'Kausticks': 0.141,\n",
       " 'Keramik': 0.063,\n",
       " 'Kippfenster-Schutzgitter': 0.016,\n",
       " 'Kitekat': 0.001,\n",
       " 'Kitten': 0.033,\n",
       " 'Kleine Leckerli & Trainingssnacks': 0.149,\n",
       " 'Kletterseile & -gerüste': 0.007,\n",
       " 'Knabberhölzer': 0.021,\n",
       " 'Knuspersnacks': 0.274,\n",
       " 'Kolbenhirse & Saaten': 0.019,\n",
       " 'Kotbeutel & Toilette': 0.57,\n",
       " 'Krallenpflege': 0.019,\n",
       " 'Kratzbaum groß': 0.575,\n",
       " 'Kratzbaum klein': 0.255,\n",
       " 'Kratzbaum mittel': 0.725,\n",
       " 'Kratzbretter & Kratzmatten': 0.13,\n",
       " 'Kratzspielzeug': 0.028,\n",
       " 'Kratzstämme': 0.159,\n",
       " 'Kratztonnen': 0.138,\n",
       " 'Kräcker &  Gebackenes': 0.058,\n",
       " 'Kräuter &  Raufutter': 0.064,\n",
       " 'Kunststoff Transportboxen': 0.273,\n",
       " 'Kunststoff, Melamin, Bambus': 0.016,\n",
       " 'Kuschelspielzeug': 0.066,\n",
       " 'Käfigdeos & Käfigreiniger': 0.015,\n",
       " 'Laufräder': 0.006,\n",
       " 'Lecksteine &  Mineralien': 0.002,\n",
       " 'Leder Halsbänder': 0.07,\n",
       " 'Leder Hundeleine': 0.013,\n",
       " 'Leonardo': 0.161,\n",
       " \"Lily's Kitchen\": 0.13,\n",
       " 'Lupo Natural': 0.169,\n",
       " 'Lupo Natural / Sensitive': 0.871,\n",
       " 'MAC´s': 0.008,\n",
       " 'Magen & Darm': 0.084,\n",
       " 'Maisstreu': 0.024,\n",
       " 'Markus Mühle': 0.67,\n",
       " 'Mash': 0.007,\n",
       " 'Maulkorb & Leinenführigkeit': 0.206,\n",
       " 'Maus & Gerbil Futter': 0.002,\n",
       " 'Meerschweinchenfutter': 0.094,\n",
       " 'Meerschweinchenkäfig': 0.055,\n",
       " 'Meradog': 0.072,\n",
       " 'Miamor': 0.046,\n",
       " 'Mischungen': 0.007,\n",
       " 'Mit tierischem Eiweiß': 0.003,\n",
       " 'Mäuse & Bälle': 0.188,\n",
       " 'Napfunterlagen': 0.034,\n",
       " 'Natural Greatness': 0.203,\n",
       " 'Naturbelassen & Bio': 0.003,\n",
       " 'Naturdekoration Sets': 0.009,\n",
       " 'Naturediet': 0.017,\n",
       " 'Nester & Nistmaterial': 0.032,\n",
       " 'Nisthaus und Nistmaterial': 0.001,\n",
       " 'Nova foods': 0.004,\n",
       " 'Nova foods Trainer': 0.135,\n",
       " 'Nova foods Trainer Natural': 0.218,\n",
       " 'Nutrivet Inne': 0.195,\n",
       " 'Nutro': 0.754,\n",
       " 'Nylon Halsbänder': 0.029,\n",
       " 'Nylon Hundeleine': 0.093,\n",
       " 'Näpfe & Tränken': 0.026,\n",
       " 'Optimanova': 0.23,\n",
       " 'Orijen': 0.57,\n",
       " 'Osmose': 0.018,\n",
       " 'Papageien': 0.003,\n",
       " 'Papageienfutter': 0.061,\n",
       " 'Papageienkäfig': 0.116,\n",
       " 'Pasten & Cremes': 0.575,\n",
       " 'Pedigree': 0.148,\n",
       " 'Perfect Fit': 0.026,\n",
       " 'Pflanzendünger': 0.003,\n",
       " 'Pfotenpflege': 0.057,\n",
       " 'Picksteine': 0.003,\n",
       " 'Pitti': 0.015,\n",
       " 'Polsterbürsten & Fusselrollen': 0.049,\n",
       " 'Porta 21': 0.901,\n",
       " 'Pro Plan': 0.358,\n",
       " 'Professional Classic': 0.09,\n",
       " 'Purina': 0.003,\n",
       " 'Purina ONE': 0.21,\n",
       " 'Purina One': 0.006,\n",
       " 'Purina Veterinary Diets': 0.11,\n",
       " 'Quietscher': 0.049,\n",
       " 'Ratte': 0.002,\n",
       " 'Reflektierend & blinkend': 0.099,\n",
       " 'Reflektor- & Leuchtbekleidung': 0.025,\n",
       " 'Reisenapf': 0.023,\n",
       " 'Rinti': 0.092,\n",
       " 'Royal Canin': 4.968,\n",
       " 'Royal Canin Breed (Rasse)': 2.16,\n",
       " 'Royal Canin Cat': 0.002,\n",
       " 'Royal Canin Club / Selection': 0.287,\n",
       " 'Royal Canin Dog': 0.002,\n",
       " 'Royal Canin Pure Feline': 0.006,\n",
       " 'Royal Canin Rasse (Breed)': 0.38,\n",
       " 'Royal Canin Size': 2.854,\n",
       " 'Royal Canin Vet Care Nutrition': 0.583,\n",
       " 'Royal Canin Veterinary Diet': 2.596,\n",
       " 'SPECIFIC  Veterinary Diet': 0.031,\n",
       " 'SPECIFIC Veterinary Diet': 0.021,\n",
       " 'Sanabelle': 0.154,\n",
       " 'Sanicat': 0.905,\n",
       " 'Schalentoiletten': 0.239,\n",
       " 'Schaufeln & Vorleger': 0.128,\n",
       " 'Schaukeln': 0.002,\n",
       " 'Schere & Trimmer': 0.004,\n",
       " 'Schermaschinen': 0.196,\n",
       " 'Schesir': 1.331,\n",
       " 'Schildkrötenfutter': 0.005,\n",
       " 'Schleppleine & Feldleine': 0.055,\n",
       " 'Schmusy': 0.024,\n",
       " 'Schwimmspielzeug': 0.049,\n",
       " 'Shampoo & Fellpflege': 0.14,\n",
       " 'Sheba': 0.32,\n",
       " 'Shiny Cat': 0.003,\n",
       " 'Simpsons Premium': 0.536,\n",
       " 'Sitzstangen': 0.017,\n",
       " 'Snacks & Vitamine': 0.011,\n",
       " 'Softe & halbfeuchte Snacks': 0.262,\n",
       " 'Sonstige Einstreu': 0.243,\n",
       " 'Spielangeln': 0.12,\n",
       " 'Spielmäuse': 0.013,\n",
       " 'Spielzeug mit Katzenminze (Catnip)': 0.002,\n",
       " 'Spot-On': 0.679,\n",
       " 'Sprays': 0.01,\n",
       " 'Staubsauger & Bodenreinigung': 0.053,\n",
       " 'Stroh': 0.017,\n",
       " 'Strohstreu': 0.012,\n",
       " 'Stuzzy': 0.017,\n",
       " 'Stuzzy Cat': 0.005,\n",
       " 'Superbox Cat': 0.004,\n",
       " 'Superbox Cat XMas 2017': 0.06,\n",
       " 'Superbox Dog XMas 2017': 0.04,\n",
       " 'T5 Leuchtstoffröhren': 0.012,\n",
       " 'T8 Leuchtstoffröhren': 0.006,\n",
       " 'Tablettenfutter': 0.009,\n",
       " 'Taste of the Wild': 4.164,\n",
       " 'Teichfischfutter': 0.019,\n",
       " 'Terra Canis': 0.073,\n",
       " 'Terra Faelis': 0.021,\n",
       " 'Tetra': 0.005,\n",
       " 'Thrive Complete': 0.054,\n",
       " 'Toiletten': 0.005,\n",
       " 'Tragetaschen': 0.044,\n",
       " 'Tragetaschen & Rucksäcke': 0.11,\n",
       " 'Trainer Fitness 3': 0.054,\n",
       " 'Transportbox': 0.113,\n",
       " 'Transportboxen und -taschen': 0.049,\n",
       " 'Transportkäfige': 0.298,\n",
       " 'Trinkbrunnen': 0.01,\n",
       " 'True Instinct': 0.517,\n",
       " 'Tränke/ Brunnen': 0.63,\n",
       " 'Tunnel': 0.012,\n",
       " 'Ultima': 0.841,\n",
       " 'Ungeziefer- & Zeckenschutz': 0.039,\n",
       " 'Ungezieferhalsband': 0.051,\n",
       " 'Ungezieferschutz': 0.006,\n",
       " 'Vetoquinol': 0.18,\n",
       " 'Vetriderm': 0.017,\n",
       " 'Vitamine': 0.002,\n",
       " 'Vitamine & Futterergänzungen': 0.015,\n",
       " 'Vitamine & Mineralstoffe': 0.012,\n",
       " 'Vitamine und Mineralstoffe': 0.003,\n",
       " 'Vogelsand': 0.017,\n",
       " 'Wasserpflege': 0.014,\n",
       " 'Wassertests': 0.003,\n",
       " 'Weidenhöhlen': 0.049,\n",
       " 'Weiteres Zubehör': 0.002,\n",
       " 'Wellensittiche': 0.014,\n",
       " 'Wellensittichfutter': 0.014,\n",
       " 'Wellensittichkäfig': 0.078,\n",
       " 'Welpe & Junior': 0.018,\n",
       " 'Werbegeschenke': 0.001,\n",
       " 'Whiskas': 0.775,\n",
       " 'Wildvogelfutter': 0.181,\n",
       " \"World's Best Cat Litter\": 0.038,\n",
       " 'Wurzeln / Holz': 0.005,\n",
       " 'Würstchen & Fleischbällchen': 0.019,\n",
       " 'Yarrah': 0.338,\n",
       " 'Yarrah Biofutter': 0.033,\n",
       " 'Zahngesundheit': 0.059,\n",
       " 'Zahnpflege': 0.092,\n",
       " 'Zahnpflege Snacks': 1.203,\n",
       " 'Zusatzfutter': 0.005,\n",
       " 'Zwergkaninchen': 0.006,\n",
       " 'alte Praemien': 0.0,\n",
       " 'aus Echt- & Vollholz': 0.076,\n",
       " 'aus Kunststoff': 0.081,\n",
       " 'aus Metall': 0.053,\n",
       " 'aus Nylon': 0.049,\n",
       " 'aus Wellpappe': 0.218,\n",
       " 'beaphar Spezialdiät': 0.025,\n",
       " 'bosch High Premium Concept': 0.441,\n",
       " 'catz finefood': 0.19,\n",
       " 'flexi New Classic & Special': 0.054,\n",
       " 'flexi New Comfort': 0.011,\n",
       " 'flexi Vario System': 0.019,\n",
       " 'für Gelenke & Knochen': 0.007,\n",
       " 'für gehobene Ansprüche': 0.292,\n",
       " 'mit Flachdach': 0.061,\n",
       " 'mit Isolierung': 0.084,\n",
       " 'mit Spitzdach': 0.186,\n",
       " 'mit Vorraum': 0.058,\n",
       " 'unknown': 0.009,\n",
       " 'vom Fisch': 0.017,\n",
       " 'vom Geflügel': 0.097,\n",
       " 'vom Lamm': 0.012,\n",
       " 'vom Pferd': 0.03,\n",
       " 'vom Rind': 0.182,\n",
       " 'vom Schwein': 0.063,\n",
       " 'vom Strauß': 0.003,\n",
       " 'vom Wild': 0.042,\n",
       " 'zooplus Geschenkgutschein': 0.021,\n",
       " 'zooplus branded': 0.004,\n",
       " '★ Briantos': 0.175,\n",
       " '★ Catessy': 0.033,\n",
       " '★ Concept for Life': 1.292,\n",
       " '★ Cosma': 0.695,\n",
       " '★ Feringa': 0.486,\n",
       " '★ Greenwoods': 0.589,\n",
       " '★ Lukullus': 0.011,\n",
       " '★ Lukullus Menu Gustico': 0.026,\n",
       " '★ Lukullus Naturkost': 0.648,\n",
       " '★ My Star': 0.053,\n",
       " '★ Purizon': 1.456,\n",
       " '★ Rocco': 0.447,\n",
       " '★ Smilla': 0.485,\n",
       " '★ Stephans Mühle Leckerlis': 0.001,\n",
       " '★ Tigerino': 3.284,\n",
       " '★ Wild Freedom': 0.028,\n",
       " '★ Wolf of Wilderness': 2.452,\n",
       " '★ zooplus Bio': 0.02,\n",
       " '★ zooplus Classic': 0.002,\n",
       " '★ zooplus Selection': 0.003,\n",
       " '❤ zoolove by zooplus': 0.041,\n",
       " '❶ Einzeldosen und Probierpakete': 0.029}"
      ]
     },
     "execution_count": 105,
     "metadata": {},
     "output_type": "execute_result"
    }
   ],
   "source": [
    "no_sp_dict_sales_share"
   ]
  },
  {
   "cell_type": "code",
   "execution_count": 106,
   "metadata": {
    "ExecuteTime": {
     "end_time": "2018-11-22T15:40:20.793616Z",
     "start_time": "2018-11-22T15:40:20.777616Z"
    }
   },
   "outputs": [],
   "source": [
    "brands = pd.read_csv('pg4_brands.dsv', sep=';', low_memory=False)"
   ]
  },
  {
   "cell_type": "code",
   "execution_count": 107,
   "metadata": {
    "ExecuteTime": {
     "end_time": "2018-11-22T15:40:20.810616Z",
     "start_time": "2018-11-22T15:40:20.794616Z"
    }
   },
   "outputs": [],
   "source": [
    "brands['BRAND'] = [i.split(' - ')[1] if len(i.split('-')) > 1 else 'unknown' for i in brands['PPR_V_LEVEL4_DESC'].values]"
   ]
  },
  {
   "cell_type": "code",
   "execution_count": 108,
   "metadata": {
    "ExecuteTime": {
     "end_time": "2018-11-22T15:40:20.829616Z",
     "start_time": "2018-11-22T15:40:20.811616Z"
    }
   },
   "outputs": [
    {
     "data": {
      "text/html": [
       "<div>\n",
       "<style scoped>\n",
       "    .dataframe tbody tr th:only-of-type {\n",
       "        vertical-align: middle;\n",
       "    }\n",
       "\n",
       "    .dataframe tbody tr th {\n",
       "        vertical-align: top;\n",
       "    }\n",
       "\n",
       "    .dataframe thead th {\n",
       "        text-align: right;\n",
       "    }\n",
       "</style>\n",
       "<table border=\"1\" class=\"dataframe\">\n",
       "  <thead>\n",
       "    <tr style=\"text-align: right;\">\n",
       "      <th></th>\n",
       "      <th>PPR_N_LEVEL4_ID</th>\n",
       "      <th>PPR_V_LEVEL4_DESC</th>\n",
       "      <th>BRAND</th>\n",
       "    </tr>\n",
       "  </thead>\n",
       "  <tbody>\n",
       "    <tr>\n",
       "      <th>0</th>\n",
       "      <td>20745</td>\n",
       "      <td>20745 - Hundesofa</td>\n",
       "      <td>Hundesofa</td>\n",
       "    </tr>\n",
       "    <tr>\n",
       "      <th>1</th>\n",
       "      <td>2</td>\n",
       "      <td>2 - Hund</td>\n",
       "      <td>Hund</td>\n",
       "    </tr>\n",
       "    <tr>\n",
       "      <th>2</th>\n",
       "      <td>1422</td>\n",
       "      <td>1422 - Spielzeug</td>\n",
       "      <td>Spielzeug</td>\n",
       "    </tr>\n",
       "    <tr>\n",
       "      <th>3</th>\n",
       "      <td>75</td>\n",
       "      <td>75 - Hundekissen</td>\n",
       "      <td>Hundekissen</td>\n",
       "    </tr>\n",
       "    <tr>\n",
       "      <th>4</th>\n",
       "      <td>2157</td>\n",
       "      <td>2157 - Alle Katzenklappen</td>\n",
       "      <td>Alle Katzenklappen</td>\n",
       "    </tr>\n",
       "  </tbody>\n",
       "</table>\n",
       "</div>"
      ],
      "text/plain": [
       "   PPR_N_LEVEL4_ID          PPR_V_LEVEL4_DESC               BRAND\n",
       "0            20745          20745 - Hundesofa           Hundesofa\n",
       "1                2                   2 - Hund                Hund\n",
       "2             1422           1422 - Spielzeug           Spielzeug\n",
       "3               75           75 - Hundekissen         Hundekissen\n",
       "4             2157  2157 - Alle Katzenklappen  Alle Katzenklappen"
      ]
     },
     "execution_count": 108,
     "metadata": {},
     "output_type": "execute_result"
    }
   ],
   "source": [
    "brands.head()"
   ]
  },
  {
   "cell_type": "code",
   "execution_count": 109,
   "metadata": {
    "ExecuteTime": {
     "end_time": "2018-11-22T15:40:20.852616Z",
     "start_time": "2018-11-22T15:40:20.830616Z"
    }
   },
   "outputs": [
    {
     "data": {
      "text/html": [
       "<div>\n",
       "<style scoped>\n",
       "    .dataframe tbody tr th:only-of-type {\n",
       "        vertical-align: middle;\n",
       "    }\n",
       "\n",
       "    .dataframe tbody tr th {\n",
       "        vertical-align: top;\n",
       "    }\n",
       "\n",
       "    .dataframe thead th {\n",
       "        text-align: right;\n",
       "    }\n",
       "</style>\n",
       "<table border=\"1\" class=\"dataframe\">\n",
       "  <thead>\n",
       "    <tr style=\"text-align: right;\">\n",
       "      <th></th>\n",
       "      <th>PPR_N_LEVEL4_ID</th>\n",
       "      <th>BRAND</th>\n",
       "    </tr>\n",
       "  </thead>\n",
       "  <tbody>\n",
       "    <tr>\n",
       "      <th>185</th>\n",
       "      <td>126742</td>\n",
       "      <td>Royal Canin Dog</td>\n",
       "    </tr>\n",
       "    <tr>\n",
       "      <th>257</th>\n",
       "      <td>17798</td>\n",
       "      <td>Royal Canin Breed (Rasse)</td>\n",
       "    </tr>\n",
       "    <tr>\n",
       "      <th>274</th>\n",
       "      <td>1308</td>\n",
       "      <td>Royal Canin Club / Selection</td>\n",
       "    </tr>\n",
       "    <tr>\n",
       "      <th>296</th>\n",
       "      <td>9702</td>\n",
       "      <td>Royal Canin Pure Feline</td>\n",
       "    </tr>\n",
       "    <tr>\n",
       "      <th>444</th>\n",
       "      <td>81396</td>\n",
       "      <td>Royal Canin Veterinary Diet</td>\n",
       "    </tr>\n",
       "    <tr>\n",
       "      <th>449</th>\n",
       "      <td>82696</td>\n",
       "      <td>Royal Canin Veterinary Diet</td>\n",
       "    </tr>\n",
       "    <tr>\n",
       "      <th>477</th>\n",
       "      <td>209912</td>\n",
       "      <td>Royal Canin Vet Care Nutrition</td>\n",
       "    </tr>\n",
       "    <tr>\n",
       "      <th>710</th>\n",
       "      <td>127037</td>\n",
       "      <td>Royal Canin Universal</td>\n",
       "    </tr>\n",
       "    <tr>\n",
       "      <th>790</th>\n",
       "      <td>682</td>\n",
       "      <td>Royal Canin Size</td>\n",
       "    </tr>\n",
       "    <tr>\n",
       "      <th>952</th>\n",
       "      <td>94525</td>\n",
       "      <td>Royal Canin</td>\n",
       "    </tr>\n",
       "    <tr>\n",
       "      <th>1284</th>\n",
       "      <td>126744</td>\n",
       "      <td>Royal Canin Cat</td>\n",
       "    </tr>\n",
       "    <tr>\n",
       "      <th>1309</th>\n",
       "      <td>17963</td>\n",
       "      <td>Royal Canin</td>\n",
       "    </tr>\n",
       "    <tr>\n",
       "      <th>1417</th>\n",
       "      <td>81397</td>\n",
       "      <td>Royal Canin Veterinary Diet</td>\n",
       "    </tr>\n",
       "    <tr>\n",
       "      <th>1423</th>\n",
       "      <td>82943</td>\n",
       "      <td>Royal Canin Veterinary Diet</td>\n",
       "    </tr>\n",
       "    <tr>\n",
       "      <th>1656</th>\n",
       "      <td>81431</td>\n",
       "      <td>Royal Canin Vet Care Nutrition</td>\n",
       "    </tr>\n",
       "    <tr>\n",
       "      <th>1659</th>\n",
       "      <td>218624</td>\n",
       "      <td>Royal Canin Veterinary Diet</td>\n",
       "    </tr>\n",
       "    <tr>\n",
       "      <th>1711</th>\n",
       "      <td>219110</td>\n",
       "      <td>Royal Canin Veterinary Diet</td>\n",
       "    </tr>\n",
       "    <tr>\n",
       "      <th>1794</th>\n",
       "      <td>683</td>\n",
       "      <td>Royal Canin</td>\n",
       "    </tr>\n",
       "    <tr>\n",
       "      <th>1799</th>\n",
       "      <td>261925</td>\n",
       "      <td>Royal Canin Rasse (Breed)</td>\n",
       "    </tr>\n",
       "    <tr>\n",
       "      <th>1922</th>\n",
       "      <td>47745</td>\n",
       "      <td>Royal Canin</td>\n",
       "    </tr>\n",
       "    <tr>\n",
       "      <th>1970</th>\n",
       "      <td>167473</td>\n",
       "      <td>Royal Canin Lifestyle</td>\n",
       "    </tr>\n",
       "  </tbody>\n",
       "</table>\n",
       "</div>"
      ],
      "text/plain": [
       "      PPR_N_LEVEL4_ID                           BRAND\n",
       "185            126742                 Royal Canin Dog\n",
       "257             17798       Royal Canin Breed (Rasse)\n",
       "274              1308    Royal Canin Club / Selection\n",
       "296              9702         Royal Canin Pure Feline\n",
       "444             81396     Royal Canin Veterinary Diet\n",
       "449             82696     Royal Canin Veterinary Diet\n",
       "477            209912  Royal Canin Vet Care Nutrition\n",
       "710            127037           Royal Canin Universal\n",
       "790               682                Royal Canin Size\n",
       "952             94525                     Royal Canin\n",
       "1284           126744                 Royal Canin Cat\n",
       "1309            17963                     Royal Canin\n",
       "1417            81397     Royal Canin Veterinary Diet\n",
       "1423            82943     Royal Canin Veterinary Diet\n",
       "1656            81431  Royal Canin Vet Care Nutrition\n",
       "1659           218624     Royal Canin Veterinary Diet\n",
       "1711           219110     Royal Canin Veterinary Diet\n",
       "1794              683                     Royal Canin\n",
       "1799           261925       Royal Canin Rasse (Breed)\n",
       "1922            47745                     Royal Canin\n",
       "1970           167473           Royal Canin Lifestyle"
      ]
     },
     "execution_count": 109,
     "metadata": {},
     "output_type": "execute_result"
    }
   ],
   "source": [
    "RC_brands = brands[brands['BRAND'].str.contains('Royal Canin')][['PPR_N_LEVEL4_ID', 'BRAND']]\n",
    "RC_brands"
   ]
  },
  {
   "cell_type": "code",
   "execution_count": 110,
   "metadata": {
    "ExecuteTime": {
     "end_time": "2018-11-22T15:40:20.871616Z",
     "start_time": "2018-11-22T15:40:20.853616Z"
    }
   },
   "outputs": [],
   "source": [
    "no_sp_rc_share_dict = {a: b for a, b in list(zip(no_sp_dict_sales_share.keys(), \n",
    "                                                 no_sp_dict_sales_share.values()))\n",
    "                      if a in RC_brands['BRAND'].values}"
   ]
  },
  {
   "cell_type": "code",
   "execution_count": 111,
   "metadata": {
    "ExecuteTime": {
     "end_time": "2018-11-22T15:40:20.890616Z",
     "start_time": "2018-11-22T15:40:20.872616Z"
    }
   },
   "outputs": [
    {
     "data": {
      "text/plain": [
       "{'Royal Canin': 4.968,\n",
       " 'Royal Canin Breed (Rasse)': 2.16,\n",
       " 'Royal Canin Cat': 0.002,\n",
       " 'Royal Canin Club / Selection': 0.287,\n",
       " 'Royal Canin Dog': 0.002,\n",
       " 'Royal Canin Pure Feline': 0.006,\n",
       " 'Royal Canin Rasse (Breed)': 0.38,\n",
       " 'Royal Canin Size': 2.854,\n",
       " 'Royal Canin Vet Care Nutrition': 0.583,\n",
       " 'Royal Canin Veterinary Diet': 2.596}"
      ]
     },
     "execution_count": 111,
     "metadata": {},
     "output_type": "execute_result"
    }
   ],
   "source": [
    "no_sp_rc_share_dict"
   ]
  },
  {
   "cell_type": "code",
   "execution_count": 112,
   "metadata": {
    "ExecuteTime": {
     "end_time": "2018-11-22T15:40:20.907616Z",
     "start_time": "2018-11-22T15:40:20.891616Z"
    }
   },
   "outputs": [],
   "source": [
    "sp_rc_share_dict = {a: b for a, b in list(zip(sp_dict_sales_share.keys(), \n",
    "                                            sp_dict_sales_share.values()))\n",
    "                      if a in RC_brands['BRAND'].values}"
   ]
  },
  {
   "cell_type": "code",
   "execution_count": 113,
   "metadata": {
    "ExecuteTime": {
     "end_time": "2018-11-22T15:40:20.923616Z",
     "start_time": "2018-11-22T15:40:20.909616Z"
    }
   },
   "outputs": [
    {
     "data": {
      "text/plain": [
       "{'Royal Canin': 5.04,\n",
       " 'Royal Canin Breed (Rasse)': 1.915,\n",
       " 'Royal Canin Cat': 0.005,\n",
       " 'Royal Canin Club / Selection': 0.152,\n",
       " 'Royal Canin Pure Feline': 0.011,\n",
       " 'Royal Canin Rasse (Breed)': 0.45,\n",
       " 'Royal Canin Size': 2.865,\n",
       " 'Royal Canin Vet Care Nutrition': 0.749,\n",
       " 'Royal Canin Veterinary Diet': 3.097}"
      ]
     },
     "execution_count": 113,
     "metadata": {},
     "output_type": "execute_result"
    }
   ],
   "source": [
    "sp_rc_share_dict"
   ]
  },
  {
   "cell_type": "code",
   "execution_count": 114,
   "metadata": {
    "ExecuteTime": {
     "end_time": "2018-11-22T15:40:20.936616Z",
     "start_time": "2018-11-22T15:40:20.924616Z"
    }
   },
   "outputs": [],
   "source": [
    "no_sp_rc_share_df = pd.DataFrame.from_dict(no_sp_rc_share_dict, orient='index')\n",
    "sp_rc_share_df = pd.DataFrame.from_dict(sp_rc_share_dict, orient='index')"
   ]
  },
  {
   "cell_type": "code",
   "execution_count": 115,
   "metadata": {
    "ExecuteTime": {
     "end_time": "2018-11-22T15:40:20.958616Z",
     "start_time": "2018-11-22T15:40:20.937616Z"
    }
   },
   "outputs": [
    {
     "data": {
      "text/html": [
       "<div>\n",
       "<style scoped>\n",
       "    .dataframe tbody tr th:only-of-type {\n",
       "        vertical-align: middle;\n",
       "    }\n",
       "\n",
       "    .dataframe tbody tr th {\n",
       "        vertical-align: top;\n",
       "    }\n",
       "\n",
       "    .dataframe thead th {\n",
       "        text-align: right;\n",
       "    }\n",
       "</style>\n",
       "<table border=\"1\" class=\"dataframe\">\n",
       "  <thead>\n",
       "    <tr style=\"text-align: right;\">\n",
       "      <th></th>\n",
       "      <th>BRAND</th>\n",
       "      <th>NO_SP_ORD</th>\n",
       "      <th>SP_ORD</th>\n",
       "    </tr>\n",
       "  </thead>\n",
       "  <tbody>\n",
       "    <tr>\n",
       "      <th>Royal Canin</th>\n",
       "      <td>Royal Canin</td>\n",
       "      <td>4.968</td>\n",
       "      <td>5.040</td>\n",
       "    </tr>\n",
       "    <tr>\n",
       "      <th>Royal Canin Breed (Rasse)</th>\n",
       "      <td>Royal Canin Breed (Rasse)</td>\n",
       "      <td>2.160</td>\n",
       "      <td>1.915</td>\n",
       "    </tr>\n",
       "    <tr>\n",
       "      <th>Royal Canin Cat</th>\n",
       "      <td>Royal Canin Cat</td>\n",
       "      <td>0.002</td>\n",
       "      <td>0.005</td>\n",
       "    </tr>\n",
       "    <tr>\n",
       "      <th>Royal Canin Club / Selection</th>\n",
       "      <td>Royal Canin Club / Selection</td>\n",
       "      <td>0.287</td>\n",
       "      <td>0.152</td>\n",
       "    </tr>\n",
       "    <tr>\n",
       "      <th>Royal Canin Dog</th>\n",
       "      <td>Royal Canin Dog</td>\n",
       "      <td>0.002</td>\n",
       "      <td>0.000</td>\n",
       "    </tr>\n",
       "    <tr>\n",
       "      <th>Royal Canin Pure Feline</th>\n",
       "      <td>Royal Canin Pure Feline</td>\n",
       "      <td>0.006</td>\n",
       "      <td>0.011</td>\n",
       "    </tr>\n",
       "    <tr>\n",
       "      <th>Royal Canin Rasse (Breed)</th>\n",
       "      <td>Royal Canin Rasse (Breed)</td>\n",
       "      <td>0.380</td>\n",
       "      <td>0.450</td>\n",
       "    </tr>\n",
       "    <tr>\n",
       "      <th>Royal Canin Size</th>\n",
       "      <td>Royal Canin Size</td>\n",
       "      <td>2.854</td>\n",
       "      <td>2.865</td>\n",
       "    </tr>\n",
       "    <tr>\n",
       "      <th>Royal Canin Vet Care Nutrition</th>\n",
       "      <td>Royal Canin Vet Care Nutrition</td>\n",
       "      <td>0.583</td>\n",
       "      <td>0.749</td>\n",
       "    </tr>\n",
       "    <tr>\n",
       "      <th>Royal Canin Veterinary Diet</th>\n",
       "      <td>Royal Canin Veterinary Diet</td>\n",
       "      <td>2.596</td>\n",
       "      <td>3.097</td>\n",
       "    </tr>\n",
       "  </tbody>\n",
       "</table>\n",
       "</div>"
      ],
      "text/plain": [
       "                                                         BRAND  NO_SP_ORD  \\\n",
       "Royal Canin                                        Royal Canin      4.968   \n",
       "Royal Canin Breed (Rasse)            Royal Canin Breed (Rasse)      2.160   \n",
       "Royal Canin Cat                                Royal Canin Cat      0.002   \n",
       "Royal Canin Club / Selection      Royal Canin Club / Selection      0.287   \n",
       "Royal Canin Dog                                Royal Canin Dog      0.002   \n",
       "Royal Canin Pure Feline                Royal Canin Pure Feline      0.006   \n",
       "Royal Canin Rasse (Breed)            Royal Canin Rasse (Breed)      0.380   \n",
       "Royal Canin Size                              Royal Canin Size      2.854   \n",
       "Royal Canin Vet Care Nutrition  Royal Canin Vet Care Nutrition      0.583   \n",
       "Royal Canin Veterinary Diet        Royal Canin Veterinary Diet      2.596   \n",
       "\n",
       "                                SP_ORD  \n",
       "Royal Canin                      5.040  \n",
       "Royal Canin Breed (Rasse)        1.915  \n",
       "Royal Canin Cat                  0.005  \n",
       "Royal Canin Club / Selection     0.152  \n",
       "Royal Canin Dog                  0.000  \n",
       "Royal Canin Pure Feline          0.011  \n",
       "Royal Canin Rasse (Breed)        0.450  \n",
       "Royal Canin Size                 2.865  \n",
       "Royal Canin Vet Care Nutrition   0.749  \n",
       "Royal Canin Veterinary Diet      3.097  "
      ]
     },
     "execution_count": 115,
     "metadata": {},
     "output_type": "execute_result"
    }
   ],
   "source": [
    "rc_comparison = pd.concat([no_sp_rc_share_df, sp_rc_share_df], axis=1).fillna(0)\n",
    "rc_comparison.columns = ['NO_SP_ORD', 'SP_ORD']\n",
    "rc_comparison['BRAND'] = rc_comparison.index.values\n",
    "rc_comparison = rc_comparison[['BRAND', 'NO_SP_ORD', 'SP_ORD']]\n",
    "rc_comparison"
   ]
  },
  {
   "cell_type": "code",
   "execution_count": 116,
   "metadata": {
    "ExecuteTime": {
     "end_time": "2018-11-22T15:40:21.193616Z",
     "start_time": "2018-11-22T15:40:20.960616Z"
    }
   },
   "outputs": [
    {
     "data": {
      "image/png": "[encoded data removed]",
      "text/plain": [
       "<matplotlib.figure.Figure at 0xd3da550>"
      ]
     },
     "metadata": {},
     "output_type": "display_data"
    }
   ],
   "source": [
    "plt.figure(figsize=(12, 12))\n",
    "x = rc_comparison['BRAND'].values\n",
    "y = rc_comparison['NO_SP_ORD'].values\n",
    "z = rc_comparison['SP_ORD'].values\n",
    "plt.barh(x, y, color='g')\n",
    "plt.barh(x, z, color='orange', alpha=0.5)\n",
    "plt.title('Royal Canin sales share in 3 orders before/after SP', fontsize=14)\n",
    "plt.ylabel('BRAND')\n",
    "plt.xlabel('Sales share %')\n",
    "plt.legend(['NO SP Orders', 'SP Orders'])\n",
    "plt.show()"
   ]
  },
  {
   "cell_type": "markdown",
   "metadata": {},
   "source": [
    "##### Average Sales Share of Hill's products – orders with/without SP for SP customers"
   ]
  },
  {
   "cell_type": "code",
   "execution_count": 117,
   "metadata": {
    "ExecuteTime": {
     "end_time": "2018-11-22T15:40:21.206616Z",
     "start_time": "2018-11-22T15:40:21.194616Z"
    }
   },
   "outputs": [
    {
     "data": {
      "text/html": [
       "<div>\n",
       "<style scoped>\n",
       "    .dataframe tbody tr th:only-of-type {\n",
       "        vertical-align: middle;\n",
       "    }\n",
       "\n",
       "    .dataframe tbody tr th {\n",
       "        vertical-align: top;\n",
       "    }\n",
       "\n",
       "    .dataframe thead th {\n",
       "        text-align: right;\n",
       "    }\n",
       "</style>\n",
       "<table border=\"1\" class=\"dataframe\">\n",
       "  <thead>\n",
       "    <tr style=\"text-align: right;\">\n",
       "      <th></th>\n",
       "      <th>PPR_N_LEVEL4_ID</th>\n",
       "      <th>BRAND</th>\n",
       "    </tr>\n",
       "  </thead>\n",
       "  <tbody>\n",
       "    <tr>\n",
       "      <th>13</th>\n",
       "      <td>719</td>\n",
       "      <td>Hill's Science Plan</td>\n",
       "    </tr>\n",
       "    <tr>\n",
       "      <th>188</th>\n",
       "      <td>84729</td>\n",
       "      <td>Hill's Prescription Diet</td>\n",
       "    </tr>\n",
       "    <tr>\n",
       "      <th>261</th>\n",
       "      <td>1816</td>\n",
       "      <td>Hill's Puppy &amp; Senior</td>\n",
       "    </tr>\n",
       "    <tr>\n",
       "      <th>270</th>\n",
       "      <td>2058</td>\n",
       "      <td>Hill's Natures Best</td>\n",
       "    </tr>\n",
       "    <tr>\n",
       "      <th>295</th>\n",
       "      <td>720</td>\n",
       "      <td>Hill's Science Plan</td>\n",
       "    </tr>\n",
       "    <tr>\n",
       "      <th>472</th>\n",
       "      <td>151599</td>\n",
       "      <td>Hill's Prescription Diet</td>\n",
       "    </tr>\n",
       "    <tr>\n",
       "      <th>735</th>\n",
       "      <td>175240</td>\n",
       "      <td>Hill's Ideal Balance</td>\n",
       "    </tr>\n",
       "    <tr>\n",
       "      <th>736</th>\n",
       "      <td>177843</td>\n",
       "      <td>Hill's Ideal Balance</td>\n",
       "    </tr>\n",
       "    <tr>\n",
       "      <th>1150</th>\n",
       "      <td>31962</td>\n",
       "      <td>Hill's Prescription Diet</td>\n",
       "    </tr>\n",
       "    <tr>\n",
       "      <th>1381</th>\n",
       "      <td>31963</td>\n",
       "      <td>Hill's Prescription Diet</td>\n",
       "    </tr>\n",
       "    <tr>\n",
       "      <th>1530</th>\n",
       "      <td>2057</td>\n",
       "      <td>Nature's Best von Hill's</td>\n",
       "    </tr>\n",
       "    <tr>\n",
       "      <th>1677</th>\n",
       "      <td>127127</td>\n",
       "      <td>Hill's Dog</td>\n",
       "    </tr>\n",
       "    <tr>\n",
       "      <th>1683</th>\n",
       "      <td>96660</td>\n",
       "      <td>Hill's Prescription Diet</td>\n",
       "    </tr>\n",
       "    <tr>\n",
       "      <th>1735</th>\n",
       "      <td>39494</td>\n",
       "      <td>Hill's</td>\n",
       "    </tr>\n",
       "    <tr>\n",
       "      <th>1910</th>\n",
       "      <td>39209</td>\n",
       "      <td>Hill's Prescription Diet</td>\n",
       "    </tr>\n",
       "    <tr>\n",
       "      <th>1958</th>\n",
       "      <td>127247</td>\n",
       "      <td>Hill's Cat</td>\n",
       "    </tr>\n",
       "  </tbody>\n",
       "</table>\n",
       "</div>"
      ],
      "text/plain": [
       "      PPR_N_LEVEL4_ID                     BRAND\n",
       "13                719       Hill's Science Plan\n",
       "188             84729  Hill's Prescription Diet\n",
       "261              1816     Hill's Puppy & Senior\n",
       "270              2058       Hill's Natures Best\n",
       "295               720       Hill's Science Plan\n",
       "472            151599  Hill's Prescription Diet\n",
       "735            175240      Hill's Ideal Balance\n",
       "736            177843      Hill's Ideal Balance\n",
       "1150            31962  Hill's Prescription Diet\n",
       "1381            31963  Hill's Prescription Diet\n",
       "1530             2057  Nature's Best von Hill's\n",
       "1677           127127                Hill's Dog\n",
       "1683            96660  Hill's Prescription Diet\n",
       "1735            39494                    Hill's\n",
       "1910            39209  Hill's Prescription Diet\n",
       "1958           127247                Hill's Cat"
      ]
     },
     "execution_count": 117,
     "metadata": {},
     "output_type": "execute_result"
    }
   ],
   "source": [
    "Hills_brands = brands[brands['BRAND'].str.contains(\"Hill's\")][['PPR_N_LEVEL4_ID', 'BRAND']]\n",
    "Hills_brands"
   ]
  },
  {
   "cell_type": "code",
   "execution_count": 118,
   "metadata": {
    "ExecuteTime": {
     "end_time": "2018-11-22T15:40:21.223616Z",
     "start_time": "2018-11-22T15:40:21.207616Z"
    }
   },
   "outputs": [],
   "source": [
    "no_sp_hills_share_dict = {a: b for a, b in list(zip(no_sp_dict_sales_share.keys(), \n",
    "                                                 no_sp_dict_sales_share.values()))\n",
    "                      if a in Hills_brands['BRAND'].values}"
   ]
  },
  {
   "cell_type": "code",
   "execution_count": 119,
   "metadata": {
    "ExecuteTime": {
     "end_time": "2018-11-22T15:40:21.239616Z",
     "start_time": "2018-11-22T15:40:21.224616Z"
    }
   },
   "outputs": [
    {
     "data": {
      "text/plain": [
       "{\"Hill's Ideal Balance\": 0.011,\n",
       " \"Hill's Prescription Diet\": 8.881,\n",
       " \"Hill's Science Plan\": 2.156}"
      ]
     },
     "execution_count": 119,
     "metadata": {},
     "output_type": "execute_result"
    }
   ],
   "source": [
    "no_sp_hills_share_dict"
   ]
  },
  {
   "cell_type": "code",
   "execution_count": 120,
   "metadata": {
    "ExecuteTime": {
     "end_time": "2018-11-22T15:40:21.256616Z",
     "start_time": "2018-11-22T15:40:21.240616Z"
    }
   },
   "outputs": [],
   "source": [
    "sp_hills_share_dict = {a: b for a, b in list(zip(sp_dict_sales_share.keys(), \n",
    "                                                 sp_dict_sales_share.values()))\n",
    "                      if a in Hills_brands['BRAND'].values}"
   ]
  },
  {
   "cell_type": "code",
   "execution_count": 121,
   "metadata": {
    "ExecuteTime": {
     "end_time": "2018-11-22T15:40:21.270616Z",
     "start_time": "2018-11-22T15:40:21.257616Z"
    }
   },
   "outputs": [
    {
     "data": {
      "text/plain": [
       "{\"Hill's Ideal Balance\": 0.037,\n",
       " \"Hill's Prescription Diet\": 7.817,\n",
       " \"Hill's Science Plan\": 2.143}"
      ]
     },
     "execution_count": 121,
     "metadata": {},
     "output_type": "execute_result"
    }
   ],
   "source": [
    "sp_hills_share_dict"
   ]
  },
  {
   "cell_type": "code",
   "execution_count": 122,
   "metadata": {
    "ExecuteTime": {
     "end_time": "2018-11-22T15:40:21.286616Z",
     "start_time": "2018-11-22T15:40:21.271616Z"
    }
   },
   "outputs": [],
   "source": [
    "no_sp_hills_share_df = pd.DataFrame.from_dict(no_sp_hills_share_dict, orient='index')\n",
    "sp_hills_share_df = pd.DataFrame.from_dict(sp_hills_share_dict, orient='index')"
   ]
  },
  {
   "cell_type": "code",
   "execution_count": 123,
   "metadata": {
    "ExecuteTime": {
     "end_time": "2018-11-22T15:40:21.312616Z",
     "start_time": "2018-11-22T15:40:21.287616Z"
    }
   },
   "outputs": [
    {
     "data": {
      "text/html": [
       "<div>\n",
       "<style scoped>\n",
       "    .dataframe tbody tr th:only-of-type {\n",
       "        vertical-align: middle;\n",
       "    }\n",
       "\n",
       "    .dataframe tbody tr th {\n",
       "        vertical-align: top;\n",
       "    }\n",
       "\n",
       "    .dataframe thead th {\n",
       "        text-align: right;\n",
       "    }\n",
       "</style>\n",
       "<table border=\"1\" class=\"dataframe\">\n",
       "  <thead>\n",
       "    <tr style=\"text-align: right;\">\n",
       "      <th></th>\n",
       "      <th>BRAND</th>\n",
       "      <th>NO_SP_ORD</th>\n",
       "      <th>SP_ORD</th>\n",
       "    </tr>\n",
       "  </thead>\n",
       "  <tbody>\n",
       "    <tr>\n",
       "      <th>Hill's Prescription Diet</th>\n",
       "      <td>Hill's Prescription Diet</td>\n",
       "      <td>8.881</td>\n",
       "      <td>7.817</td>\n",
       "    </tr>\n",
       "    <tr>\n",
       "      <th>Hill's Science Plan</th>\n",
       "      <td>Hill's Science Plan</td>\n",
       "      <td>2.156</td>\n",
       "      <td>2.143</td>\n",
       "    </tr>\n",
       "    <tr>\n",
       "      <th>Hill's Ideal Balance</th>\n",
       "      <td>Hill's Ideal Balance</td>\n",
       "      <td>0.011</td>\n",
       "      <td>0.037</td>\n",
       "    </tr>\n",
       "  </tbody>\n",
       "</table>\n",
       "</div>"
      ],
      "text/plain": [
       "                                             BRAND  NO_SP_ORD  SP_ORD\n",
       "Hill's Prescription Diet  Hill's Prescription Diet      8.881   7.817\n",
       "Hill's Science Plan            Hill's Science Plan      2.156   2.143\n",
       "Hill's Ideal Balance          Hill's Ideal Balance      0.011   0.037"
      ]
     },
     "execution_count": 123,
     "metadata": {},
     "output_type": "execute_result"
    }
   ],
   "source": [
    "hills_comparison = pd.concat([no_sp_hills_share_df, sp_hills_share_df], axis=1).fillna(0)\n",
    "hills_comparison.columns = ['NO_SP_ORD', 'SP_ORD']\n",
    "hills_comparison['BRAND'] = hills_comparison.index.values\n",
    "hills_comparison = hills_comparison[['BRAND', 'NO_SP_ORD', 'SP_ORD']]\n",
    "hills_comparison"
   ]
  },
  {
   "cell_type": "code",
   "execution_count": 124,
   "metadata": {
    "ExecuteTime": {
     "end_time": "2018-11-22T15:40:21.435616Z",
     "start_time": "2018-11-22T15:40:21.313616Z"
    }
   },
   "outputs": [
    {
     "data": {
      "image/png": "[encoded data removed]",
      "text/plain": [
       "<matplotlib.figure.Figure at 0xd0d94a8>"
      ]
     },
     "metadata": {},
     "output_type": "display_data"
    }
   ],
   "source": [
    "plt.figure(figsize=(6, 6))\n",
    "x = hills_comparison['BRAND'].values\n",
    "y = hills_comparison['NO_SP_ORD'].values\n",
    "z = hills_comparison['SP_ORD'].values\n",
    "plt.barh(x, y, color='g')\n",
    "plt.barh(x, z, color='orange', alpha=0.5)\n",
    "plt.title(\"Hill's sales share in 3 orders before/after SP\", fontsize=14)\n",
    "plt.ylabel('BRAND')\n",
    "plt.xlabel('Sales share %')\n",
    "plt.legend(['NO SP Orders', 'SP Orders'])\n",
    "plt.show()"
   ]
  },
  {
   "cell_type": "markdown",
   "metadata": {},
   "source": [
    "##### Timedeltas"
   ]
  },
  {
   "cell_type": "code",
   "execution_count": 125,
   "metadata": {
    "ExecuteTime": {
     "end_time": "2018-11-22T15:40:21.521616Z",
     "start_time": "2018-11-22T15:40:21.436616Z"
    }
   },
   "outputs": [
    {
     "data": {
      "text/html": [
       "<div>\n",
       "<style scoped>\n",
       "    .dataframe tbody tr th:only-of-type {\n",
       "        vertical-align: middle;\n",
       "    }\n",
       "\n",
       "    .dataframe tbody tr th {\n",
       "        vertical-align: top;\n",
       "    }\n",
       "\n",
       "    .dataframe thead th {\n",
       "        text-align: right;\n",
       "    }\n",
       "</style>\n",
       "<table border=\"1\" class=\"dataframe\">\n",
       "  <thead>\n",
       "    <tr style=\"text-align: right;\">\n",
       "      <th></th>\n",
       "      <th>CUS_N_KEY_CUSTOMER</th>\n",
       "      <th>SCM_N_ORDER_NR_len</th>\n",
       "      <th>TDT_T_KEY_ORDER_DATE_list</th>\n",
       "      <th>SCM_SALES_BMF_sum</th>\n",
       "      <th>SCM_SALES_BMF_list</th>\n",
       "      <th>SCM_D_FINANCE_CM1_sum</th>\n",
       "      <th>SCM_D_FINANCE_CM1_list</th>\n",
       "      <th>SCM_D_FINANCE_CM2_sum</th>\n",
       "      <th>SCM_D_FINANCE_CM2_list</th>\n",
       "      <th>SCM_D_ORIG_FINANCE_ORDER_NET_sum</th>\n",
       "      <th>...</th>\n",
       "      <th>SP_DIFF_PG3</th>\n",
       "      <th>SP_DIFF_PG3_NO_DISC</th>\n",
       "      <th>SP_PG3_IDS_NO_DISC</th>\n",
       "      <th>DIFF_PG3_UP</th>\n",
       "      <th>NEW_PG3_WITH_SP</th>\n",
       "      <th>LEN_NEW_PG3_WITH_SP</th>\n",
       "      <th>WO_SP_BRAND_SALES</th>\n",
       "      <th>SP_BRAND_SALES</th>\n",
       "      <th>WO_SP_FLAT_BRAND_SALES</th>\n",
       "      <th>SP_FLAT_BRAND_SALES</th>\n",
       "    </tr>\n",
       "  </thead>\n",
       "  <tbody>\n",
       "    <tr>\n",
       "      <th>243954</th>\n",
       "      <td>19430734</td>\n",
       "      <td>7</td>\n",
       "      <td>[2018-02-14, 2018-03-14, 2018-05-25, 2018-07-1...</td>\n",
       "      <td>1114.07</td>\n",
       "      <td>[79.17, 103.96, 174.49, 194.87, 189.06, 189.06...</td>\n",
       "      <td>289.13</td>\n",
       "      <td>[19.74, 26.59, 47.13, 53.89, 49.09, 49.09, 43.6]</td>\n",
       "      <td>180.73</td>\n",
       "      <td>[10.61, 13.67, 32.14, 36.06, 31.26, 31.26, 25.73]</td>\n",
       "      <td>1010.46</td>\n",
       "      <td>...</td>\n",
       "      <td>4</td>\n",
       "      <td>3</td>\n",
       "      <td>[857, 221, 48963]</td>\n",
       "      <td>0</td>\n",
       "      <td>[48963]</td>\n",
       "      <td>1</td>\n",
       "      <td>[[(Taste of the Wild, 79.98), (Großsittichfutt...</td>\n",
       "      <td>[[(Terra Canis, 181.93), (Großsittichfutter, 9...</td>\n",
       "      <td>[(Taste of the Wild, 79.98), (Großsittichfutte...</td>\n",
       "      <td>[(Terra Canis, 181.93), (Großsittichfutter, 9....</td>\n",
       "    </tr>\n",
       "    <tr>\n",
       "      <th>91191</th>\n",
       "      <td>11726442</td>\n",
       "      <td>12</td>\n",
       "      <td>[2017-10-23, 2017-11-22, 2018-01-20, 2018-02-2...</td>\n",
       "      <td>1226.76</td>\n",
       "      <td>[71.84, 123.81, 132.86, 93.14, 99.84, 79.5, 46...</td>\n",
       "      <td>281.09</td>\n",
       "      <td>[17.0, 30.34, 22.27, 19.55, 21.91, 13.6, 3.36,...</td>\n",
       "      <td>129.87</td>\n",
       "      <td>[7.32, 17.25, 6.37, 9.83, 11.67, 5.4, -5.77, 5...</td>\n",
       "      <td>1094.87</td>\n",
       "      <td>...</td>\n",
       "      <td>7</td>\n",
       "      <td>6</td>\n",
       "      <td>[252, 2068, 251, 23, 20, 48963]</td>\n",
       "      <td>0</td>\n",
       "      <td>[48963]</td>\n",
       "      <td>1</td>\n",
       "      <td>[[(Royal Canin, 43.99), (Royal Canin Size, 9.4...</td>\n",
       "      <td>[[(Royal Canin, 44.99), (Felix, 23.99), (aus W...</td>\n",
       "      <td>[(Royal Canin, 43.99), (Royal Canin Size, 9.49...</td>\n",
       "      <td>[(Royal Canin, 44.99), (Felix, 23.99), (aus We...</td>\n",
       "    </tr>\n",
       "    <tr>\n",
       "      <th>26892</th>\n",
       "      <td>5361406</td>\n",
       "      <td>16</td>\n",
       "      <td>[2017-10-07, 2017-10-25, 2017-10-26, 2017-12-1...</td>\n",
       "      <td>820.80</td>\n",
       "      <td>[43.98, 52.51, 41.12, 96.66, 44.59, 39.12, 23....</td>\n",
       "      <td>252.84</td>\n",
       "      <td>[18.75, 10.71, 14.49, 28.08, 6.53, 11.73, 5.29...</td>\n",
       "      <td>40.87</td>\n",
       "      <td>[4.51, -4.17, 6.57, 12.9, -6.81, 1.19, -1.01, ...</td>\n",
       "      <td>718.57</td>\n",
       "      <td>...</td>\n",
       "      <td>9</td>\n",
       "      <td>8</td>\n",
       "      <td>[34, 301, 29, 33, 2068, 62, 48963, 48]</td>\n",
       "      <td>1</td>\n",
       "      <td>[29, 2068, 62, 48963, 48]</td>\n",
       "      <td>5</td>\n",
       "      <td>[[(Sanicat, 43.98)], [(Knuspersnacks, 28.67), ...</td>\n",
       "      <td>[[(Knuspersnacks, 40.72), (Pasten &amp; Cremes, 24...</td>\n",
       "      <td>[(Sanicat, 43.98), (Knuspersnacks, 28.67), (Pa...</td>\n",
       "      <td>[(Knuspersnacks, 40.72), (Pasten &amp; Cremes, 24....</td>\n",
       "    </tr>\n",
       "    <tr>\n",
       "      <th>170237</th>\n",
       "      <td>16854770</td>\n",
       "      <td>6</td>\n",
       "      <td>[2017-12-22, 2017-12-28, 2018-01-13, 2018-04-1...</td>\n",
       "      <td>581.13</td>\n",
       "      <td>[89.99, 25.97, 116.99, 119.28, 114.45, 114.45]</td>\n",
       "      <td>131.01</td>\n",
       "      <td>[18.32, 12.23, 29.77, 29.56, 16.57, 24.57]</td>\n",
       "      <td>81.71</td>\n",
       "      <td>[5.21, 4.31, 22.74, 22.53, 9.39, 17.54]</td>\n",
       "      <td>520.62</td>\n",
       "      <td>...</td>\n",
       "      <td>3</td>\n",
       "      <td>2</td>\n",
       "      <td>[251, 48963]</td>\n",
       "      <td>0</td>\n",
       "      <td>[48963]</td>\n",
       "      <td>1</td>\n",
       "      <td>[[(Gesundheitsbetten, 89.99)], [(★ Lukullus Na...</td>\n",
       "      <td>[[(Hill's Prescription Diet, 119.98), (unknown...</td>\n",
       "      <td>[(Gesundheitsbetten, 89.99), (★ Lukullus Natur...</td>\n",
       "      <td>[(Hill's Prescription Diet, 119.98), (unknown,...</td>\n",
       "    </tr>\n",
       "    <tr>\n",
       "      <th>15103</th>\n",
       "      <td>3900010</td>\n",
       "      <td>14</td>\n",
       "      <td>[2017-11-18, 2017-11-30, 2018-01-27, 2018-02-1...</td>\n",
       "      <td>753.01</td>\n",
       "      <td>[45.9, 44.97, 50.98, 40.46, 27.98, 129.99, 44....</td>\n",
       "      <td>246.46</td>\n",
       "      <td>[16.74, 14.64, 15.5, 14.62, 10.8, 33.28, 13.91...</td>\n",
       "      <td>92.34</td>\n",
       "      <td>[7.59, 6.22, 6.91, -8.35, 3.99, 26.85, -5.22, ...</td>\n",
       "      <td>649.04</td>\n",
       "      <td>...</td>\n",
       "      <td>6</td>\n",
       "      <td>5</td>\n",
       "      <td>[2068, 252, 301, 36, 48963]</td>\n",
       "      <td>0</td>\n",
       "      <td>[48963]</td>\n",
       "      <td>1</td>\n",
       "      <td>[[(Tränke/ Brunnen, 34.98), (★ Feringa, 9.0), ...</td>\n",
       "      <td>[[(Porta 21, 17.99), (★ Cosma, 16.49), (catz f...</td>\n",
       "      <td>[(Tränke/ Brunnen, 34.98), (★ Feringa, 9.0), (...</td>\n",
       "      <td>[(Porta 21, 17.99), (★ Cosma, 16.49), (catz fi...</td>\n",
       "    </tr>\n",
       "  </tbody>\n",
       "</table>\n",
       "<p>5 rows × 77 columns</p>\n",
       "</div>"
      ],
      "text/plain": [
       "        CUS_N_KEY_CUSTOMER  SCM_N_ORDER_NR_len  \\\n",
       "243954            19430734                   7   \n",
       "91191             11726442                  12   \n",
       "26892              5361406                  16   \n",
       "170237            16854770                   6   \n",
       "15103              3900010                  14   \n",
       "\n",
       "                                TDT_T_KEY_ORDER_DATE_list  SCM_SALES_BMF_sum  \\\n",
       "243954  [2018-02-14, 2018-03-14, 2018-05-25, 2018-07-1...            1114.07   \n",
       "91191   [2017-10-23, 2017-11-22, 2018-01-20, 2018-02-2...            1226.76   \n",
       "26892   [2017-10-07, 2017-10-25, 2017-10-26, 2017-12-1...             820.80   \n",
       "170237  [2017-12-22, 2017-12-28, 2018-01-13, 2018-04-1...             581.13   \n",
       "15103   [2017-11-18, 2017-11-30, 2018-01-27, 2018-02-1...             753.01   \n",
       "\n",
       "                                       SCM_SALES_BMF_list  \\\n",
       "243954  [79.17, 103.96, 174.49, 194.87, 189.06, 189.06...   \n",
       "91191   [71.84, 123.81, 132.86, 93.14, 99.84, 79.5, 46...   \n",
       "26892   [43.98, 52.51, 41.12, 96.66, 44.59, 39.12, 23....   \n",
       "170237     [89.99, 25.97, 116.99, 119.28, 114.45, 114.45]   \n",
       "15103   [45.9, 44.97, 50.98, 40.46, 27.98, 129.99, 44....   \n",
       "\n",
       "        SCM_D_FINANCE_CM1_sum  \\\n",
       "243954                 289.13   \n",
       "91191                  281.09   \n",
       "26892                  252.84   \n",
       "170237                 131.01   \n",
       "15103                  246.46   \n",
       "\n",
       "                                   SCM_D_FINANCE_CM1_list  \\\n",
       "243954   [19.74, 26.59, 47.13, 53.89, 49.09, 49.09, 43.6]   \n",
       "91191   [17.0, 30.34, 22.27, 19.55, 21.91, 13.6, 3.36,...   \n",
       "26892   [18.75, 10.71, 14.49, 28.08, 6.53, 11.73, 5.29...   \n",
       "170237         [18.32, 12.23, 29.77, 29.56, 16.57, 24.57]   \n",
       "15103   [16.74, 14.64, 15.5, 14.62, 10.8, 33.28, 13.91...   \n",
       "\n",
       "        SCM_D_FINANCE_CM2_sum  \\\n",
       "243954                 180.73   \n",
       "91191                  129.87   \n",
       "26892                   40.87   \n",
       "170237                  81.71   \n",
       "15103                   92.34   \n",
       "\n",
       "                                   SCM_D_FINANCE_CM2_list  \\\n",
       "243954  [10.61, 13.67, 32.14, 36.06, 31.26, 31.26, 25.73]   \n",
       "91191   [7.32, 17.25, 6.37, 9.83, 11.67, 5.4, -5.77, 5...   \n",
       "26892   [4.51, -4.17, 6.57, 12.9, -6.81, 1.19, -1.01, ...   \n",
       "170237            [5.21, 4.31, 22.74, 22.53, 9.39, 17.54]   \n",
       "15103   [7.59, 6.22, 6.91, -8.35, 3.99, 26.85, -5.22, ...   \n",
       "\n",
       "        SCM_D_ORIG_FINANCE_ORDER_NET_sum  \\\n",
       "243954                           1010.46   \n",
       "91191                            1094.87   \n",
       "26892                             718.57   \n",
       "170237                            520.62   \n",
       "15103                             649.04   \n",
       "\n",
       "                              ...                         SP_DIFF_PG3  \\\n",
       "243954                        ...                                   4   \n",
       "91191                         ...                                   7   \n",
       "26892                         ...                                   9   \n",
       "170237                        ...                                   3   \n",
       "15103                         ...                                   6   \n",
       "\n",
       "       SP_DIFF_PG3_NO_DISC                      SP_PG3_IDS_NO_DISC  \\\n",
       "243954                   3                       [857, 221, 48963]   \n",
       "91191                    6         [252, 2068, 251, 23, 20, 48963]   \n",
       "26892                    8  [34, 301, 29, 33, 2068, 62, 48963, 48]   \n",
       "170237                   2                            [251, 48963]   \n",
       "15103                    5             [2068, 252, 301, 36, 48963]   \n",
       "\n",
       "       DIFF_PG3_UP            NEW_PG3_WITH_SP LEN_NEW_PG3_WITH_SP  \\\n",
       "243954           0                    [48963]                   1   \n",
       "91191            0                    [48963]                   1   \n",
       "26892            1  [29, 2068, 62, 48963, 48]                   5   \n",
       "170237           0                    [48963]                   1   \n",
       "15103            0                    [48963]                   1   \n",
       "\n",
       "                                        WO_SP_BRAND_SALES  \\\n",
       "243954  [[(Taste of the Wild, 79.98), (Großsittichfutt...   \n",
       "91191   [[(Royal Canin, 43.99), (Royal Canin Size, 9.4...   \n",
       "26892   [[(Sanicat, 43.98)], [(Knuspersnacks, 28.67), ...   \n",
       "170237  [[(Gesundheitsbetten, 89.99)], [(★ Lukullus Na...   \n",
       "15103   [[(Tränke/ Brunnen, 34.98), (★ Feringa, 9.0), ...   \n",
       "\n",
       "                                           SP_BRAND_SALES  \\\n",
       "243954  [[(Terra Canis, 181.93), (Großsittichfutter, 9...   \n",
       "91191   [[(Royal Canin, 44.99), (Felix, 23.99), (aus W...   \n",
       "26892   [[(Knuspersnacks, 40.72), (Pasten & Cremes, 24...   \n",
       "170237  [[(Hill's Prescription Diet, 119.98), (unknown...   \n",
       "15103   [[(Porta 21, 17.99), (★ Cosma, 16.49), (catz f...   \n",
       "\n",
       "                                   WO_SP_FLAT_BRAND_SALES  \\\n",
       "243954  [(Taste of the Wild, 79.98), (Großsittichfutte...   \n",
       "91191   [(Royal Canin, 43.99), (Royal Canin Size, 9.49...   \n",
       "26892   [(Sanicat, 43.98), (Knuspersnacks, 28.67), (Pa...   \n",
       "170237  [(Gesundheitsbetten, 89.99), (★ Lukullus Natur...   \n",
       "15103   [(Tränke/ Brunnen, 34.98), (★ Feringa, 9.0), (...   \n",
       "\n",
       "                                      SP_FLAT_BRAND_SALES  \n",
       "243954  [(Terra Canis, 181.93), (Großsittichfutter, 9....  \n",
       "91191   [(Royal Canin, 44.99), (Felix, 23.99), (aus We...  \n",
       "26892   [(Knuspersnacks, 40.72), (Pasten & Cremes, 24....  \n",
       "170237  [(Hill's Prescription Diet, 119.98), (unknown,...  \n",
       "15103   [(Porta 21, 17.99), (★ Cosma, 16.49), (catz fi...  \n",
       "\n",
       "[5 rows x 77 columns]"
      ]
     },
     "execution_count": 125,
     "metadata": {},
     "output_type": "execute_result"
    }
   ],
   "source": [
    "cus_scen_2b.sample(5)"
   ]
  },
  {
   "cell_type": "code",
   "execution_count": 126,
   "metadata": {
    "ExecuteTime": {
     "end_time": "2018-11-22T15:40:21.528616Z",
     "start_time": "2018-11-22T15:40:21.522616Z"
    }
   },
   "outputs": [
    {
     "data": {
      "text/plain": [
       "Index(['CUS_N_KEY_CUSTOMER', 'SCM_N_ORDER_NR_len', 'TDT_T_KEY_ORDER_DATE_list',\n",
       "       'SCM_SALES_BMF_sum', 'SCM_SALES_BMF_list', 'SCM_D_FINANCE_CM1_sum',\n",
       "       'SCM_D_FINANCE_CM1_list', 'SCM_D_FINANCE_CM2_sum',\n",
       "       'SCM_D_FINANCE_CM2_list', 'SCM_D_ORIG_FINANCE_ORDER_NET_sum',\n",
       "       'SCM_D_ORIG_FINANCE_ORDER_NET_list', 'OSP_KO_COUNT_NET_list',\n",
       "       'SCM_MASTER_AP_ID_list', 'CZP_ZTQ_ID', 'CZP_START_DATE',\n",
       "       'CZP_EXPIRY_DATE', 'PG3_AGGSALES', 'PG4_AGGSALES', 'BRAND_AGGSALES',\n",
       "       'SP_DISC', 'D28', 'D56', 'D84', 'D168', 'D252', 'D336', 'O_TIMEDELTAS',\n",
       "       'FLAT_PG3_SALES', 'FLAT_PG4_SALES', 'FLAT_BRAND_SALES',\n",
       "       'TOTAL_PG3_SALES', 'TOTAL_PG4_SALES', 'TOTAL_BRAND_SALES', 'O_W_SP',\n",
       "       'O_WO_SP', 'NO_SP_DISC', 'SCEN_2B', 'SCEN_2B_POS', 'WO_SP_1st_POS',\n",
       "       'W_SP_last_POS', 'SALES_WO_SP', 'SALES_W_SP', 'AOV_WO_SP', 'AOV_W_SP',\n",
       "       'WO_SP_CM1', 'SP_CM1', 'WO_SP_CM2', 'SP_CM2', 'WO_SP_NET_SALES',\n",
       "       'SP_NET_SALES', 'WO_SP_CM1%', 'SP_CM1%', 'WO_SP_CM2%', 'SP_CM2%',\n",
       "       'WO_SP_PG3_SALES', 'SP_PG3_SALES', 'WO_SP_FLAT_PG3_AGGSALES',\n",
       "       'SP_FLAT_PG3_AGGSALES', 'WO_SP_TOTAL_PG3_SALES', 'SP_TOTAL_PG3_SALES',\n",
       "       'WO_SP_DICT_PG3_SALES', 'WO_SP_DICT_PG3_SALES_NO_DISC',\n",
       "       'SP_DICT_PG3_SALES', 'SP_DICT_PG3_SALES_NO_DISC', 'WO_SP_DIFF_PG3',\n",
       "       'WO_SP_DIFF_PG3_NO_DISC', 'WO_SP_PG3_IDS_NO_DISC', 'SP_DIFF_PG3',\n",
       "       'SP_DIFF_PG3_NO_DISC', 'SP_PG3_IDS_NO_DISC', 'DIFF_PG3_UP',\n",
       "       'NEW_PG3_WITH_SP', 'LEN_NEW_PG3_WITH_SP', 'WO_SP_BRAND_SALES',\n",
       "       'SP_BRAND_SALES', 'WO_SP_FLAT_BRAND_SALES', 'SP_FLAT_BRAND_SALES'],\n",
       "      dtype='object')"
      ]
     },
     "execution_count": 126,
     "metadata": {},
     "output_type": "execute_result"
    }
   ],
   "source": [
    "cus_scen_2b.columns"
   ]
  },
  {
   "cell_type": "code",
   "execution_count": 128,
   "metadata": {
    "ExecuteTime": {
     "end_time": "2018-11-22T15:41:11.944616Z",
     "start_time": "2018-11-22T15:41:11.931616Z"
    }
   },
   "outputs": [
    {
     "data": {
      "text/plain": [
       "[0, 10, 13]"
      ]
     },
     "execution_count": 128,
     "metadata": {},
     "output_type": "execute_result"
    }
   ],
   "source": [
    "cus_scen_2b.loc[221018]['O_TIMEDELTAS'][(cus_scen_2b.loc[221018]['WO_SP_1st_POS']):(cus_scen_2b.loc[221018]['SCEN_2B_POS'])]"
   ]
  },
  {
   "cell_type": "code",
   "execution_count": 129,
   "metadata": {
    "ExecuteTime": {
     "end_time": "2018-11-22T15:41:15.633616Z",
     "start_time": "2018-11-22T15:41:15.627616Z"
    }
   },
   "outputs": [
    {
     "data": {
      "text/plain": [
       "[22, 2]"
      ]
     },
     "execution_count": 129,
     "metadata": {},
     "output_type": "execute_result"
    }
   ],
   "source": [
    "cus_scen_2b.loc[221018]['O_TIMEDELTAS'][(cus_scen_2b.loc[221018]['SCEN_2B_POS']):(cus_scen_2b.loc[221018]['W_SP_last_POS']-1)]"
   ]
  },
  {
   "cell_type": "code",
   "execution_count": 130,
   "metadata": {
    "ExecuteTime": {
     "end_time": "2018-11-22T15:41:19.192616Z",
     "start_time": "2018-11-22T15:41:19.186616Z"
    }
   },
   "outputs": [
    {
     "data": {
      "text/plain": [
       "[13, 7, 6, 0, 10, 13, 22, 2, 37, 8, 8, 14, 9, 4, 19, 13, 23]"
      ]
     },
     "execution_count": 130,
     "metadata": {},
     "output_type": "execute_result"
    }
   ],
   "source": [
    "cus_scen_2b.loc[221018]['O_TIMEDELTAS']"
   ]
  },
  {
   "cell_type": "code",
   "execution_count": 131,
   "metadata": {
    "ExecuteTime": {
     "end_time": "2018-11-22T15:41:22.773616Z",
     "start_time": "2018-11-22T15:41:22.766616Z"
    }
   },
   "outputs": [],
   "source": [
    "cus_scen_2b['TD_POS1_WO_SP'] = cus_scen_2b['WO_SP_1st_POS'] \n",
    "cus_scen_2b['TD_POS2_WO_SP'] = cus_scen_2b['SCEN_2B_POS']\n",
    "cus_scen_2b['TD_POS1_SP'] = cus_scen_2b['SCEN_2B_POS']\n",
    "cus_scen_2b['TD_POS2_SP'] = cus_scen_2b ['W_SP_last_POS'] - 1"
   ]
  },
  {
   "cell_type": "code",
   "execution_count": 132,
   "metadata": {
    "ExecuteTime": {
     "end_time": "2018-11-22T15:41:26.316616Z",
     "start_time": "2018-11-22T15:41:26.303616Z"
    }
   },
   "outputs": [
    {
     "data": {
      "text/html": [
       "<div>\n",
       "<style scoped>\n",
       "    .dataframe tbody tr th:only-of-type {\n",
       "        vertical-align: middle;\n",
       "    }\n",
       "\n",
       "    .dataframe tbody tr th {\n",
       "        vertical-align: top;\n",
       "    }\n",
       "\n",
       "    .dataframe thead th {\n",
       "        text-align: right;\n",
       "    }\n",
       "</style>\n",
       "<table border=\"1\" class=\"dataframe\">\n",
       "  <thead>\n",
       "    <tr style=\"text-align: right;\">\n",
       "      <th></th>\n",
       "      <th>O_TIMEDELTAS</th>\n",
       "      <th>WO_SP_1st_POS</th>\n",
       "      <th>SCEN_2B_POS</th>\n",
       "      <th>W_SP_last_POS</th>\n",
       "      <th>TD_POS1_WO_SP</th>\n",
       "      <th>TD_POS2_WO_SP</th>\n",
       "      <th>TD_POS1_SP</th>\n",
       "      <th>TD_POS2_SP</th>\n",
       "    </tr>\n",
       "  </thead>\n",
       "  <tbody>\n",
       "    <tr>\n",
       "      <th>214980</th>\n",
       "      <td>[58, 57, 63, 53, 50]</td>\n",
       "      <td>0</td>\n",
       "      <td>3</td>\n",
       "      <td>6</td>\n",
       "      <td>0</td>\n",
       "      <td>3</td>\n",
       "      <td>3</td>\n",
       "      <td>5</td>\n",
       "    </tr>\n",
       "    <tr>\n",
       "      <th>144158</th>\n",
       "      <td>[44, 36, 54, 28, 81, 51]</td>\n",
       "      <td>1</td>\n",
       "      <td>4</td>\n",
       "      <td>7</td>\n",
       "      <td>1</td>\n",
       "      <td>4</td>\n",
       "      <td>4</td>\n",
       "      <td>6</td>\n",
       "    </tr>\n",
       "    <tr>\n",
       "      <th>186776</th>\n",
       "      <td>[10, 10, 22, 14, 39, 52, 41, 15, 29, 18, 18, 50]</td>\n",
       "      <td>4</td>\n",
       "      <td>7</td>\n",
       "      <td>10</td>\n",
       "      <td>4</td>\n",
       "      <td>7</td>\n",
       "      <td>7</td>\n",
       "      <td>9</td>\n",
       "    </tr>\n",
       "    <tr>\n",
       "      <th>167433</th>\n",
       "      <td>[24, 2, 9, 20, 18, 15, 10, 10, 12, 13, 40, 13,...</td>\n",
       "      <td>16</td>\n",
       "      <td>19</td>\n",
       "      <td>22</td>\n",
       "      <td>16</td>\n",
       "      <td>19</td>\n",
       "      <td>19</td>\n",
       "      <td>21</td>\n",
       "    </tr>\n",
       "    <tr>\n",
       "      <th>193221</th>\n",
       "      <td>[10, 2, 20, 22, 39, 33, 46, 47, 23, 35, 28]</td>\n",
       "      <td>1</td>\n",
       "      <td>4</td>\n",
       "      <td>7</td>\n",
       "      <td>1</td>\n",
       "      <td>4</td>\n",
       "      <td>4</td>\n",
       "      <td>6</td>\n",
       "    </tr>\n",
       "  </tbody>\n",
       "</table>\n",
       "</div>"
      ],
      "text/plain": [
       "                                             O_TIMEDELTAS  WO_SP_1st_POS  \\\n",
       "214980                               [58, 57, 63, 53, 50]              0   \n",
       "144158                           [44, 36, 54, 28, 81, 51]              1   \n",
       "186776   [10, 10, 22, 14, 39, 52, 41, 15, 29, 18, 18, 50]              4   \n",
       "167433  [24, 2, 9, 20, 18, 15, 10, 10, 12, 13, 40, 13,...             16   \n",
       "193221        [10, 2, 20, 22, 39, 33, 46, 47, 23, 35, 28]              1   \n",
       "\n",
       "        SCEN_2B_POS  W_SP_last_POS  TD_POS1_WO_SP  TD_POS2_WO_SP  TD_POS1_SP  \\\n",
       "214980            3              6              0              3           3   \n",
       "144158            4              7              1              4           4   \n",
       "186776            7             10              4              7           7   \n",
       "167433           19             22             16             19          19   \n",
       "193221            4              7              1              4           4   \n",
       "\n",
       "        TD_POS2_SP  \n",
       "214980           5  \n",
       "144158           6  \n",
       "186776           9  \n",
       "167433          21  \n",
       "193221           6  "
      ]
     },
     "execution_count": 132,
     "metadata": {},
     "output_type": "execute_result"
    }
   ],
   "source": [
    "cus_scen_2b[['O_TIMEDELTAS', 'WO_SP_1st_POS', 'SCEN_2B_POS', 'W_SP_last_POS', 'TD_POS1_WO_SP', 'TD_POS2_WO_SP',\n",
    "            'TD_POS1_SP', 'TD_POS2_SP']].sample(5)"
   ]
  },
  {
   "cell_type": "code",
   "execution_count": 133,
   "metadata": {
    "ExecuteTime": {
     "end_time": "2018-11-22T15:41:30.031616Z",
     "start_time": "2018-11-22T15:41:29.919616Z"
    }
   },
   "outputs": [],
   "source": [
    "cus_scen_2b['TD_BEFORE_SP'] = [a[b:c] for a, b, c in list(zip(cus_scen_2b['O_TIMEDELTAS'], cus_scen_2b['TD_POS1_WO_SP'],\n",
    "                                               cus_scen_2b['TD_POS2_WO_SP']))]"
   ]
  },
  {
   "cell_type": "code",
   "execution_count": 134,
   "metadata": {
    "ExecuteTime": {
     "end_time": "2018-11-22T15:41:33.630616Z",
     "start_time": "2018-11-22T15:41:33.587616Z"
    }
   },
   "outputs": [],
   "source": [
    "cus_scen_2b['TD_AFTER_SP'] = [a[b:c] for a, b, c in list(zip(cus_scen_2b['O_TIMEDELTAS'], cus_scen_2b['TD_POS1_SP'],\n",
    "                                               cus_scen_2b['TD_POS2_SP']))]"
   ]
  },
  {
   "cell_type": "code",
   "execution_count": 135,
   "metadata": {
    "ExecuteTime": {
     "end_time": "2018-11-22T15:41:37.139616Z",
     "start_time": "2018-11-22T15:41:37.135616Z"
    }
   },
   "outputs": [],
   "source": [
    "td_before_sp = [j for i in cus_scen_2b['TD_BEFORE_SP'].values for j in i]"
   ]
  },
  {
   "cell_type": "code",
   "execution_count": 136,
   "metadata": {
    "ExecuteTime": {
     "end_time": "2018-11-22T15:41:40.653616Z",
     "start_time": "2018-11-22T15:41:40.649616Z"
    }
   },
   "outputs": [],
   "source": [
    "td_after_sp = [j for i in cus_scen_2b['TD_AFTER_SP'].values for j in i]"
   ]
  },
  {
   "cell_type": "code",
   "execution_count": 137,
   "metadata": {
    "ExecuteTime": {
     "end_time": "2018-11-22T15:41:44.643616Z",
     "start_time": "2018-11-22T15:41:44.305616Z"
    }
   },
   "outputs": [
    {
     "data": {
      "image/png": "[encoded data removed]",
      "text/plain": [
       "<matplotlib.figure.Figure at 0xd0097f0>"
      ]
     },
     "metadata": {},
     "output_type": "display_data"
    },
    {
     "data": {
      "text/html": [
       "<div>\n",
       "<style scoped>\n",
       "    .dataframe tbody tr th:only-of-type {\n",
       "        vertical-align: middle;\n",
       "    }\n",
       "\n",
       "    .dataframe tbody tr th {\n",
       "        vertical-align: top;\n",
       "    }\n",
       "\n",
       "    .dataframe thead th {\n",
       "        text-align: right;\n",
       "    }\n",
       "</style>\n",
       "<table border=\"1\" class=\"dataframe\">\n",
       "  <thead>\n",
       "    <tr style=\"text-align: right;\">\n",
       "      <th></th>\n",
       "      <th>Without SP orders</th>\n",
       "      <th>With SP orders</th>\n",
       "    </tr>\n",
       "  </thead>\n",
       "  <tbody>\n",
       "    <tr>\n",
       "      <th>25%</th>\n",
       "      <td>18.00</td>\n",
       "      <td>19.00</td>\n",
       "    </tr>\n",
       "    <tr>\n",
       "      <th>50%</th>\n",
       "      <td>30.00</td>\n",
       "      <td>31.50</td>\n",
       "    </tr>\n",
       "    <tr>\n",
       "      <th>75%</th>\n",
       "      <td>45.00</td>\n",
       "      <td>47.00</td>\n",
       "    </tr>\n",
       "    <tr>\n",
       "      <th>count</th>\n",
       "      <td>4752.00</td>\n",
       "      <td>3168.00</td>\n",
       "    </tr>\n",
       "    <tr>\n",
       "      <th>max</th>\n",
       "      <td>233.00</td>\n",
       "      <td>201.00</td>\n",
       "    </tr>\n",
       "    <tr>\n",
       "      <th>mean</th>\n",
       "      <td>33.61</td>\n",
       "      <td>35.56</td>\n",
       "    </tr>\n",
       "    <tr>\n",
       "      <th>min</th>\n",
       "      <td>0.00</td>\n",
       "      <td>0.00</td>\n",
       "    </tr>\n",
       "    <tr>\n",
       "      <th>std</th>\n",
       "      <td>22.05</td>\n",
       "      <td>24.01</td>\n",
       "    </tr>\n",
       "  </tbody>\n",
       "</table>\n",
       "</div>"
      ],
      "text/plain": [
       "       Without SP orders  With SP orders\n",
       "25%                18.00           19.00\n",
       "50%                30.00           31.50\n",
       "75%                45.00           47.00\n",
       "count            4752.00         3168.00\n",
       "max               233.00          201.00\n",
       "mean               33.61           35.56\n",
       "min                 0.00            0.00\n",
       "std                22.05           24.01"
      ]
     },
     "metadata": {},
     "output_type": "display_data"
    }
   ],
   "source": [
    "concat_df = pd.DataFrame()\n",
    "\n",
    "plt.figure(figsize=(12, 8))\n",
    "plt.hist(td_before_sp, bins=50, range=(0, 150), color='g', alpha=0.5)\n",
    "plt.hist(td_after_sp, bins=50, range=(0, 150), color='orange', alpha=0.5)\n",
    "plt.title(\"timedeltas between 3 orders w/o SP and the 3 with SP\", fontsize=14)\n",
    "plt.xlabel('Timedeltas')\n",
    "plt.legend(['Without SP orders', 'With SP orders'])\n",
    "plt.show()\n",
    "\n",
    "before_sp_td = pd.DataFrame(np.array(td_before_sp).reshape(len(td_before_sp), 1), columns= ['TD_BEFORE_SP'])\n",
    "after_sp_td = pd.DataFrame(np.array(td_after_sp).reshape(len(td_after_sp), 1), columns= ['TD_AFTER_SP'])\n",
    "\n",
    "concat_df = pd.concat([concat_df,\n",
    "                    before_sp_td['TD_BEFORE_SP'].describe().round(2),\n",
    "                    after_sp_td['TD_AFTER_SP'].describe().round(2),\n",
    "                      ], axis=1)\n",
    "\n",
    "concat_df.columns = ['Without SP orders', 'With SP orders']\n",
    "display(concat_df)"
   ]
  },
  {
   "cell_type": "code",
   "execution_count": null,
   "metadata": {},
   "outputs": [],
   "source": []
  },
  {
   "cell_type": "code",
   "execution_count": null,
   "metadata": {},
   "outputs": [],
   "source": []
  }
 ],
 "metadata": {
  "hide_input": false,
  "kernelspec": {
   "display_name": "Python [conda env:py36]",
   "language": "python",
   "name": "conda-env-py36-py"
  },
  "language_info": {
   "codemirror_mode": {
    "name": "ipython",
    "version": 3
   },
   "file_extension": ".py",
   "mimetype": "text/x-python",
   "name": "python",
   "nbconvert_exporter": "python",
   "pygments_lexer": "ipython3",
   "version": "3.6.4"
  },
  "toc": {
   "base_numbering": 1,
   "nav_menu": {},
   "number_sections": true,
   "sideBar": true,
   "skip_h1_title": false,
   "title_cell": "Table of Contents",
   "title_sidebar": "Contents",
   "toc_cell": false,
   "toc_position": {},
   "toc_section_display": true,
   "toc_window_display": false
  },
  "varInspector": {
   "cols": {
    "lenName": 16,
    "lenType": 16,
    "lenVar": 40
   },
   "kernels_config": {
    "python": {
     "delete_cmd_postfix": "",
     "delete_cmd_prefix": "del ",
     "library": "var_list.py",
     "varRefreshCmd": "print(var_dic_list())"
    },
    "r": {
     "delete_cmd_postfix": ") ",
     "delete_cmd_prefix": "rm(",
     "library": "var_list.r",
     "varRefreshCmd": "cat(var_dic_list()) "
    }
   },
   "types_to_exclude": [
    "module",
    "function",
    "builtin_function_or_method",
    "instance",
    "_Feature"
   ],
   "window_display": false
  }
 },
 "nbformat": 4,
 "nbformat_minor": 2
}
