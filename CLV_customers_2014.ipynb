{
 "cells": [
  {
   "cell_type": "raw",
   "metadata": {},
   "source": [
    "# Query\n",
    "select \n",
    "scm.scm_n_order_pos_nr, scm.scm_n_order_nr, scm.tdt_t_key_order_date, scm.THR_C_KEY_ORDER_HOUR, scm.SIT_N_KEY_SITE,\n",
    "scm.CUS_N_KEY_CUSTOMER, scm.SCM_SALES_BMF, scm.SCM_SALES_CANCEL_BMF, scm.SCM_D_FINANCE_CM1, scm.SCM_D_FINANCE_CM2,\n",
    "scm.SCM_D_ORIG_FINANCE_ORDER_NET,scm.SCM_AP_ID, scm.SCM_AS_ID, scm.SCM_MASTER_AP_ID, scm.SCM_IS_ZSP_ORDER, \n",
    "scm.SCM_C_ORDER_STATUS, scm.CTP_N_KEY_CUSTOMER_TYPE, scm.SCM_OCI_LAND, scm.SCM_D_FC_ID, scm.SCM_D_PC_DSP, scm.SCM_FC_SPLIT,\n",
    "scm.CAM_N_KEY_CUST_ACQ_CAMPAIGN, scm.SCM_IS_SINGLE_CATEGORY, o.O_ZAHLUNGSA, \n",
    "o.O_ORIGIN,\n",
    "osp.OSP_KO_COUNT, osp.OSP_KO_COUNT_NET, osp.OSP_3_LEAD_P_PG_ID, osp.OSP_3_LEAD_P_PG_SHARE, osp.OSP_4_LEAD_P_PG_ID, \n",
    "osp.OSP_4_LEAD_P_PG_SHARE,\n",
    "czp.CZP_START_DATE, czp.CZP_EXPIRY_DATE, czp.CZP_ZTQ_ID, czp.CZP_PERCENTAGE, czp.CZP_PRICE,\n",
    "ofp.ORF_EXT_O_ID, ofp.ORF_EXT_K_ID, ofp.ORF_EXT_ROOT_K_ID, op.OP_AS_ID, op.OP_BONUSPOINTS, bp.BP_TYP\n",
    "from zoocube.ddstf_scm_sales_contrib_margin scm\n",
    "join ZOOMAN.ORDER_SALES_PROFILE osp\n",
    "on osp.OSP_O_ID = scm.SCM_N_ORDER_NR\n",
    "join ZOOMAN.ORDERS o\n",
    "on o.O_ID = scm.SCM_N_ORDER_NR\n",
    "left outer join ZOOMAN.ORDER_POSITIONS op\n",
    "on scm.SCM_N_ORDER_POS_NR = op.OP_ID\n",
    "left outer join ZOOMAN.CUSTOMERS_ZOOPRIME_PLANS czp\n",
    "on scm.CUS_N_KEY_CUSTOMER = czp.CZP_K_ID\n",
    "and czp.CZP_EXPIRY_DATE >= to_date((to_char(TDT_T_KEY_ORDER_DATE, 'dd/mm/yyyy') ||' '|| THR_C_KEY_ORDER_HOUR), 'dd/mm/yyyy HH24:MI')\n",
    "and czp.CZP_START_DATE <= to_date((to_char(TDT_T_KEY_ORDER_DATE, 'dd/mm/yyyy') ||' '|| THR_C_KEY_ORDER_HOUR), 'dd/mm/yyyy HH24:MI')\n",
    "left outer join zoo_datamarts.vw_tnc_order_footprint@prodstb2 ofp\n",
    "on scm.scm_n_order_nr = ofp.ORF_EXT_O_ID\n",
    "left outer join ZOOMAN.BONUSPUNKTE bp\n",
    "on scm.SCM_N_ORDER_NR = bp.BP_O_ID\n",
    "and bp.BP_TYP = 'B'\n",
    "where SIT_N_KEY_SITE = 15\n",
    "--and ((TDT_T_KEY_ORDER_DATE >= to_date('01/01/18', 'DD/MM/YY') and TDT_T_KEY_ORDER_DATE <= to_date('31/03/18', 'DD/MM/YY')))\n",
    "and (scm.SCM_C_ORDER_STATUS = 'L' OR scm.SCM_C_ORDER_STATUS = 'VK')\n",
    "and scm.CUS_N_KEY_CUSTOMER IN (\n",
    "select distinct scm.CUS_N_KEY_CUSTOMER\n",
    "from zoocube.ddstf_scm_sales_contrib_margin scm\n",
    "join ZOOMAN.ORDER_SALES_PROFILE osp\n",
    "on osp.OSP_O_ID = scm.SCM_N_ORDER_NR\n",
    "where SIT_N_KEY_SITE = 15\n",
    "and ((TDT_T_KEY_ORDER_DATE >= to_date('01/01/14', 'DD/MM/YY') and TDT_T_KEY_ORDER_DATE <= to_date('31/12/14', 'DD/MM/YY')))\n",
    "and osp.OSP_KO_COUNT_NET = 1\n",
    ")\n",
    ";"
   ]
  },
  {
   "cell_type": "code",
   "execution_count": 1,
   "metadata": {
    "ExecuteTime": {
     "end_time": "2018-07-04T08:14:00.754700Z",
     "start_time": "2018-07-04T08:13:59.425699Z"
    }
   },
   "outputs": [],
   "source": [
    "import numpy as np\n",
    "import pandas as pd\n",
    "import matplotlib.pyplot as plt\n",
    "%matplotlib inline\n",
    "from IPython.display import display\n",
    "from scipy import stats\n",
    "from datetime import timedelta\n",
    "from collections import Counter\n",
    "#from warnings import filterwarnings\n",
    "#filterwarnings('ignore')"
   ]
  },
  {
   "cell_type": "code",
   "execution_count": 2,
   "metadata": {
    "ExecuteTime": {
     "end_time": "2018-07-04T08:14:17.219158Z",
     "start_time": "2018-07-04T08:14:00.755697Z"
    }
   },
   "outputs": [],
   "source": [
    "data = pd.read_csv('clv_es_2014_v2.dsv', sep=';', low_memory=False)"
   ]
  },
  {
   "cell_type": "code",
   "execution_count": 3,
   "metadata": {
    "ExecuteTime": {
     "end_time": "2018-07-04T08:14:17.226137Z",
     "start_time": "2018-07-04T08:14:17.220155Z"
    }
   },
   "outputs": [
    {
     "data": {
      "text/plain": [
       "2406773"
      ]
     },
     "execution_count": 3,
     "metadata": {},
     "output_type": "execute_result"
    }
   ],
   "source": [
    "len(data)"
   ]
  },
  {
   "cell_type": "code",
   "execution_count": 4,
   "metadata": {
    "ExecuteTime": {
     "end_time": "2018-07-04T08:17:38.954834Z",
     "start_time": "2018-07-04T08:14:17.228131Z"
    }
   },
   "outputs": [
    {
     "name": "stdout",
     "output_type": "stream",
     "text": [
      "Duplicated rows detected:  1281\n",
      "Start dropping..\n",
      "Number of order IDs having more than one SP_START_DATE now:  0\n"
     ]
    }
   ],
   "source": [
    "%run -i cleaning_n_formatting.py "
   ]
  },
  {
   "cell_type": "code",
   "execution_count": 5,
   "metadata": {
    "ExecuteTime": {
     "end_time": "2018-07-04T08:17:38.958830Z",
     "start_time": "2018-07-04T08:17:38.955833Z"
    }
   },
   "outputs": [
    {
     "data": {
      "text/plain": [
       "2405492"
      ]
     },
     "execution_count": 5,
     "metadata": {},
     "output_type": "execute_result"
    }
   ],
   "source": [
    "len(data)"
   ]
  },
  {
   "cell_type": "code",
   "execution_count": 6,
   "metadata": {
    "ExecuteTime": {
     "end_time": "2018-07-04T08:17:38.979809Z",
     "start_time": "2018-07-04T08:17:38.959829Z"
    }
   },
   "outputs": [
    {
     "data": {
      "text/plain": [
       "Index(['SCM_N_ORDER_POS_NR', 'SCM_N_ORDER_NR', 'TDT_T_KEY_ORDER_DATE',\n",
       "       'THR_C_KEY_ORDER_HOUR', 'SIT_N_KEY_SITE', 'CUS_N_KEY_CUSTOMER',\n",
       "       'SCM_SALES_BMF', 'SCM_SALES_CANCEL_BMF', 'SCM_D_FINANCE_CM1',\n",
       "       'SCM_D_FINANCE_CM2', 'SCM_D_ORIG_FINANCE_ORDER_NET', 'SCM_AP_ID',\n",
       "       'SCM_AS_ID', 'SCM_MASTER_AP_ID', 'SCM_IS_ZSP_ORDER',\n",
       "       'SCM_C_ORDER_STATUS', 'CTP_N_KEY_CUSTOMER_TYPE', 'SCM_OCI_LAND',\n",
       "       'SCM_D_FC_ID', 'SCM_D_PC_DSP', 'SCM_FC_SPLIT',\n",
       "       'CAM_N_KEY_CUST_ACQ_CAMPAIGN', 'SCM_IS_SINGLE_CATEGORY', 'O_ZAHLUNGSA',\n",
       "       'O_ORIGIN', 'OSP_KO_COUNT', 'OSP_KO_COUNT_NET', 'OSP_3_LEAD_P_PG_ID',\n",
       "       'OSP_3_LEAD_P_PG_SHARE', 'OSP_4_LEAD_P_PG_ID', 'OSP_4_LEAD_P_PG_SHARE',\n",
       "       'CZP_START_DATE', 'CZP_EXPIRY_DATE', 'CZP_ZTQ_ID', 'CZP_PERCENTAGE',\n",
       "       'CZP_PRICE', 'ORF_EXT_O_ID', 'ORF_EXT_K_ID', 'ORF_EXT_ROOT_K_ID',\n",
       "       'OP_AS_ID', 'OP_BONUSPOINTS', 'BP_TYP', 'ORDER_DATETIME', 'WEEK_NUMBER',\n",
       "       'MONTH_NUMBER', 'FINANCE_ORDER_NET', 'REL_CM1', 'REL_CM2'],\n",
       "      dtype='object')"
      ]
     },
     "execution_count": 6,
     "metadata": {},
     "output_type": "execute_result"
    }
   ],
   "source": [
    "data.columns"
   ]
  },
  {
   "cell_type": "code",
   "execution_count": 7,
   "metadata": {
    "ExecuteTime": {
     "end_time": "2018-07-04T08:17:39.031757Z",
     "start_time": "2018-07-04T08:17:38.981807Z"
    }
   },
   "outputs": [],
   "source": [
    "data['CZP_ZTQ_ID'] = data['CZP_ZTQ_ID'].fillna(0)\n",
    "#data['CZP_START_DATE'] = data['CZP_START_DATE'].fillna(0)\n",
    "#data['CZP_EXPIRY_DATE'] = data['CZP_EXPIRY_DATE'].fillna(0)"
   ]
  },
  {
   "cell_type": "code",
   "execution_count": 8,
   "metadata": {
    "ExecuteTime": {
     "end_time": "2018-07-04T08:17:39.074714Z",
     "start_time": "2018-07-04T08:17:39.032756Z"
    }
   },
   "outputs": [
    {
     "data": {
      "text/plain": [
       "(Timestamp('2013-11-22 00:00:00'), Timestamp('2018-06-29 00:00:00'))"
      ]
     },
     "execution_count": 8,
     "metadata": {},
     "output_type": "execute_result"
    }
   ],
   "source": [
    "data['TDT_T_KEY_ORDER_DATE'].min(), data['TDT_T_KEY_ORDER_DATE'].max()"
   ]
  },
  {
   "cell_type": "code",
   "execution_count": 9,
   "metadata": {
    "ExecuteTime": {
     "end_time": "2018-07-04T08:17:39.175613Z",
     "start_time": "2018-07-04T08:17:39.075713Z"
    }
   },
   "outputs": [
    {
     "data": {
      "text/plain": [
       "(84414, 89921)"
      ]
     },
     "execution_count": 9,
     "metadata": {},
     "output_type": "execute_result"
    }
   ],
   "source": [
    "data['ORF_EXT_ROOT_K_ID'].nunique(), data['CUS_N_KEY_CUSTOMER'].nunique()"
   ]
  },
  {
   "cell_type": "code",
   "execution_count": 16,
   "metadata": {
    "ExecuteTime": {
     "end_time": "2018-07-04T08:48:23.292634Z",
     "start_time": "2018-07-04T08:48:23.250634Z"
    }
   },
   "outputs": [
    {
     "data": {
      "text/html": [
       "<div>\n",
       "<style scoped>\n",
       "    .dataframe tbody tr th:only-of-type {\n",
       "        vertical-align: middle;\n",
       "    }\n",
       "\n",
       "    .dataframe tbody tr th {\n",
       "        vertical-align: top;\n",
       "    }\n",
       "\n",
       "    .dataframe thead th {\n",
       "        text-align: right;\n",
       "    }\n",
       "</style>\n",
       "<table border=\"1\" class=\"dataframe\">\n",
       "  <thead>\n",
       "    <tr style=\"text-align: right;\">\n",
       "      <th></th>\n",
       "      <th>SCM_N_ORDER_POS_NR</th>\n",
       "      <th>SCM_N_ORDER_NR</th>\n",
       "      <th>TDT_T_KEY_ORDER_DATE</th>\n",
       "      <th>THR_C_KEY_ORDER_HOUR</th>\n",
       "      <th>SIT_N_KEY_SITE</th>\n",
       "      <th>CUS_N_KEY_CUSTOMER</th>\n",
       "      <th>SCM_SALES_BMF</th>\n",
       "      <th>SCM_SALES_CANCEL_BMF</th>\n",
       "      <th>SCM_D_FINANCE_CM1</th>\n",
       "      <th>SCM_D_FINANCE_CM2</th>\n",
       "      <th>SCM_D_ORIG_FINANCE_ORDER_NET</th>\n",
       "      <th>SCM_AP_ID</th>\n",
       "      <th>SCM_AS_ID</th>\n",
       "      <th>SCM_MASTER_AP_ID</th>\n",
       "      <th>SCM_IS_ZSP_ORDER</th>\n",
       "      <th>SCM_C_ORDER_STATUS</th>\n",
       "      <th>CTP_N_KEY_CUSTOMER_TYPE</th>\n",
       "      <th>SCM_OCI_LAND</th>\n",
       "      <th>SCM_D_FC_ID</th>\n",
       "      <th>SCM_D_PC_DSP</th>\n",
       "    </tr>\n",
       "  </thead>\n",
       "  <tbody>\n",
       "    <tr>\n",
       "      <th>0</th>\n",
       "      <td>437335499</td>\n",
       "      <td>102533713</td>\n",
       "      <td>2018-01-15</td>\n",
       "      <td>01:45</td>\n",
       "      <td>15</td>\n",
       "      <td>10616357</td>\n",
       "      <td>36.99</td>\n",
       "      <td>0.0</td>\n",
       "      <td>9.3073</td>\n",
       "      <td>2.7569</td>\n",
       "      <td>33.6273</td>\n",
       "      <td>61155</td>\n",
       "      <td>2152388</td>\n",
       "      <td>61155</td>\n",
       "      <td>0</td>\n",
       "      <td>L</td>\n",
       "      <td>0</td>\n",
       "      <td>E2</td>\n",
       "      <td>324</td>\n",
       "      <td>116</td>\n",
       "    </tr>\n",
       "    <tr>\n",
       "      <th>1</th>\n",
       "      <td>437335500</td>\n",
       "      <td>102533713</td>\n",
       "      <td>2018-01-15</td>\n",
       "      <td>01:45</td>\n",
       "      <td>15</td>\n",
       "      <td>10616357</td>\n",
       "      <td>29.99</td>\n",
       "      <td>0.0</td>\n",
       "      <td>11.5851</td>\n",
       "      <td>9.8985</td>\n",
       "      <td>24.7851</td>\n",
       "      <td>7753</td>\n",
       "      <td>1234957</td>\n",
       "      <td>7753</td>\n",
       "      <td>0</td>\n",
       "      <td>L</td>\n",
       "      <td>0</td>\n",
       "      <td>E2</td>\n",
       "      <td>324</td>\n",
       "      <td>116</td>\n",
       "    </tr>\n",
       "    <tr>\n",
       "      <th>2</th>\n",
       "      <td>437335501</td>\n",
       "      <td>102533713</td>\n",
       "      <td>2018-01-15</td>\n",
       "      <td>01:45</td>\n",
       "      <td>15</td>\n",
       "      <td>10616357</td>\n",
       "      <td>-3.35</td>\n",
       "      <td>0.0</td>\n",
       "      <td>-2.9215</td>\n",
       "      <td>-2.9215</td>\n",
       "      <td>-2.9215</td>\n",
       "      <td>0</td>\n",
       "      <td>6</td>\n",
       "      <td>42715</td>\n",
       "      <td>0</td>\n",
       "      <td>L</td>\n",
       "      <td>0</td>\n",
       "      <td>E2</td>\n",
       "      <td>0</td>\n",
       "      <td>0</td>\n",
       "    </tr>\n",
       "    <tr>\n",
       "      <th>3</th>\n",
       "      <td>437332929</td>\n",
       "      <td>102533283</td>\n",
       "      <td>2018-01-15</td>\n",
       "      <td>00:50</td>\n",
       "      <td>15</td>\n",
       "      <td>9689285</td>\n",
       "      <td>9.99</td>\n",
       "      <td>0.0</td>\n",
       "      <td>3.1162</td>\n",
       "      <td>0.7703</td>\n",
       "      <td>8.2562</td>\n",
       "      <td>54297</td>\n",
       "      <td>1003834</td>\n",
       "      <td>54297</td>\n",
       "      <td>0</td>\n",
       "      <td>L</td>\n",
       "      <td>0</td>\n",
       "      <td>E2</td>\n",
       "      <td>324</td>\n",
       "      <td>116</td>\n",
       "    </tr>\n",
       "    <tr>\n",
       "      <th>4</th>\n",
       "      <td>437332930</td>\n",
       "      <td>102533283</td>\n",
       "      <td>2018-01-15</td>\n",
       "      <td>00:50</td>\n",
       "      <td>15</td>\n",
       "      <td>9689285</td>\n",
       "      <td>16.99</td>\n",
       "      <td>0.0</td>\n",
       "      <td>7.4413</td>\n",
       "      <td>1.8177</td>\n",
       "      <td>14.0413</td>\n",
       "      <td>27330</td>\n",
       "      <td>470509</td>\n",
       "      <td>27330</td>\n",
       "      <td>0</td>\n",
       "      <td>L</td>\n",
       "      <td>0</td>\n",
       "      <td>E2</td>\n",
       "      <td>324</td>\n",
       "      <td>116</td>\n",
       "    </tr>\n",
       "  </tbody>\n",
       "</table>\n",
       "</div>"
      ],
      "text/plain": [
       "   SCM_N_ORDER_POS_NR  SCM_N_ORDER_NR TDT_T_KEY_ORDER_DATE  \\\n",
       "0           437335499       102533713           2018-01-15   \n",
       "1           437335500       102533713           2018-01-15   \n",
       "2           437335501       102533713           2018-01-15   \n",
       "3           437332929       102533283           2018-01-15   \n",
       "4           437332930       102533283           2018-01-15   \n",
       "\n",
       "  THR_C_KEY_ORDER_HOUR  SIT_N_KEY_SITE  CUS_N_KEY_CUSTOMER  SCM_SALES_BMF  \\\n",
       "0                01:45              15            10616357          36.99   \n",
       "1                01:45              15            10616357          29.99   \n",
       "2                01:45              15            10616357          -3.35   \n",
       "3                00:50              15             9689285           9.99   \n",
       "4                00:50              15             9689285          16.99   \n",
       "\n",
       "   SCM_SALES_CANCEL_BMF  SCM_D_FINANCE_CM1  SCM_D_FINANCE_CM2  \\\n",
       "0                   0.0             9.3073             2.7569   \n",
       "1                   0.0            11.5851             9.8985   \n",
       "2                   0.0            -2.9215            -2.9215   \n",
       "3                   0.0             3.1162             0.7703   \n",
       "4                   0.0             7.4413             1.8177   \n",
       "\n",
       "   SCM_D_ORIG_FINANCE_ORDER_NET  SCM_AP_ID  SCM_AS_ID  SCM_MASTER_AP_ID  \\\n",
       "0                       33.6273      61155    2152388             61155   \n",
       "1                       24.7851       7753    1234957              7753   \n",
       "2                       -2.9215          0          6             42715   \n",
       "3                        8.2562      54297    1003834             54297   \n",
       "4                       14.0413      27330     470509             27330   \n",
       "\n",
       "   SCM_IS_ZSP_ORDER SCM_C_ORDER_STATUS  CTP_N_KEY_CUSTOMER_TYPE SCM_OCI_LAND  \\\n",
       "0                 0                  L                        0           E2   \n",
       "1                 0                  L                        0           E2   \n",
       "2                 0                  L                        0           E2   \n",
       "3                 0                  L                        0           E2   \n",
       "4                 0                  L                        0           E2   \n",
       "\n",
       "   SCM_D_FC_ID  SCM_D_PC_DSP  \n",
       "0          324           116  \n",
       "1          324           116  \n",
       "2            0             0  \n",
       "3          324           116  \n",
       "4          324           116  "
      ]
     },
     "execution_count": 16,
     "metadata": {},
     "output_type": "execute_result"
    }
   ],
   "source": [
    "data.head()[data.columns[:20]]"
   ]
  },
  {
   "cell_type": "code",
   "execution_count": 86,
   "metadata": {
    "ExecuteTime": {
     "end_time": "2018-07-04T14:35:40.413286Z",
     "start_time": "2018-07-04T12:30:37.715634Z"
    }
   },
   "outputs": [
    {
     "name": "stdout",
     "output_type": "stream",
     "text": [
      "0\n"
     ]
    },
    {
     "name": "stderr",
     "output_type": "stream",
     "text": [
      "cleaning_n_formatting.py:20: RuntimeWarning: invalid value encountered in double_scalars\n",
      "  data['SCM_SALES_CANCEL_BMF'] = lista1\n",
      "cleaning_n_formatting.py:28: RuntimeWarning: invalid value encountered in double_scalars\n",
      "  #Convert date to calendar week number and month number\n",
      "cleaning_n_formatting.py:20: RuntimeWarning: divide by zero encountered in double_scalars\n",
      "  data['SCM_SALES_CANCEL_BMF'] = lista1\n",
      "cleaning_n_formatting.py:28: RuntimeWarning: divide by zero encountered in double_scalars\n",
      "  #Convert date to calendar week number and month number\n"
     ]
    },
    {
     "name": "stdout",
     "output_type": "stream",
     "text": [
      "5000\n",
      "10000\n",
      "15000\n",
      "20000\n",
      "25000\n",
      "30000\n",
      "35000\n",
      "40000\n",
      "45000\n",
      "50000\n",
      "55000\n",
      "60000\n",
      "65000\n",
      "70000\n",
      "75000\n",
      "80000\n"
     ]
    }
   ],
   "source": [
    "sp_customers = pd.DataFrame(columns=['ORF_EXT_ROOT_K_ID', 'ACQ_CAMP', 'PAY_METH', 'ORIGIN', 'TIER', 'ORDERS', 'SALES',\n",
    "                                     'NET_SALES', 'BASKET_AVG', 'CM1', 'CM1_AVG', 'CM1%', 'CM2', 'CM2_AVG', 'CM2%', \n",
    "                                     'CUS_LEAD_PG3', 'IMPORTANCE_PG3', 'CUS_LEAD_PG4', 'IMPORTANCE_PG4',\n",
    "                                     'SP_SD', 'SP_ED', 'SP_DIFF', 'SP_QTY', 'FIRST_O_DATE', 'LAST_O_DATE', 'O_DIFF',\n",
    "                                     'MON_PUR_FREQ_30D', 'MON_PUR_FREQ_60D', 'MON_PUR_FREQ_90D',\n",
    "                                     'MON_PUR_FREQ_180D', 'MON_PUR_FREQ_360D', 'MON_PUR_FREQ_540D', 'MON_PUR_FREQ_720D'])\n",
    "\n",
    "for n, cus in enumerate(data['ORF_EXT_ROOT_K_ID'].unique()):\n",
    "    cus_data = data[data['ORF_EXT_ROOT_K_ID'] == cus]\n",
    "    camp = cus_data['CAM_N_KEY_CUST_ACQ_CAMPAIGN'].unique()\n",
    "    pay_meth = cus_data['O_ZAHLUNGSA'].unique()\n",
    "    origin = cus_data['O_ORIGIN'].unique()\n",
    "    tier = cus_data['CZP_ZTQ_ID'].unique()\n",
    "    orders = cus_data['SCM_N_ORDER_NR'].nunique()\n",
    "    sales = cus_data['SCM_SALES_BMF'].sum() - cus_data['SCM_SALES_CANCEL_BMF'].sum() \n",
    "    net_sales = cus_data['SCM_D_ORIG_FINANCE_ORDER_NET'].sum()\n",
    "    basket_avg = sales / orders\n",
    "    cm1 = cus_data['SCM_D_FINANCE_CM1'].sum()\n",
    "    cm1_avg = cm1 / orders\n",
    "    cm1_perc = cm1 / net_sales * 100\n",
    "    #neg_cm1_orders = len(cus_data.groupby('SCM_N_ORDER_NR')['SCM_D_FINANCE_CM1'].sum()\\\n",
    "    #[cus_data.groupby('SCM_N_ORDER_NR')['SCM_D_FINANCE_CM1'].sum() < 0].index.values)\n",
    "    #perc_neg_cm1_orders = neg_cm1_orders / orders * 100\n",
    "    #total_loss_cm1 = cus_data.groupby('SCM_N_ORDER_NR')['SCM_D_FINANCE_CM1'].sum()\\\n",
    "    #                [cus_data.groupby('SCM_N_ORDER_NR')['SCM_D_FINANCE_CM1'].sum() < 0].sum()\n",
    "    cm2 = cus_data['SCM_D_FINANCE_CM2'].sum()\n",
    "    cm2_avg = cm2 / orders\n",
    "    cm2_perc = cm2 / net_sales * 100\n",
    "    #neg_cm2_orders = len(cus_data.groupby('SCM_N_ORDER_NR')['SCM_D_FINANCE_CM2'].sum()\\\n",
    "    #[cus_data.groupby('SCM_N_ORDER_NR')['SCM_D_FINANCE_CM2'].sum() < 0].index.values)\n",
    "    #perc_neg_cm2_orders = neg_cm2_orders / orders * 100\n",
    "    #total_loss_cm2 = cus_data.groupby('SCM_N_ORDER_NR')['SCM_D_FINANCE_CM2'].sum()\\\n",
    "    #                [cus_data.groupby('SCM_N_ORDER_NR')['SCM_D_FINANCE_CM2'].sum() < 0].sum()\n",
    "    if (cus_data['CZP_START_DATE'].astype(str) == 'NaT').all():\n",
    "        sp_start_date = 0\n",
    "        sp_expiry_date = 0\n",
    "        sp_diff_days = 0\n",
    "        sp_qty = 0\n",
    "    else:\n",
    "        sp_start_date = cus_data['CZP_START_DATE'].min()\n",
    "        sp_expiry_date = cus_data['CZP_EXPIRY_DATE'].max()\n",
    "        sp_diff = sp_expiry_date - sp_start_date\n",
    "        sp_diff_days = sp_diff.days\n",
    "        sp_qty = cus_data['CZP_EXPIRY_DATE'].nunique()\n",
    "    first_o_date = cus_data['TDT_T_KEY_ORDER_DATE'].dt.date.min()\n",
    "    last_o_date = cus_data['TDT_T_KEY_ORDER_DATE'].dt.date.max()\n",
    "    diff_date = (last_o_date - first_o_date)\n",
    "    \n",
    "    pg3_series = [i[0] for i in data[data['ORF_EXT_ROOT_K_ID'] == cus].groupby('SCM_N_ORDER_NR')\\\n",
    "                  ['OSP_3_LEAD_P_PG_ID'].unique().values]\n",
    "    cntr = Counter(pg3_series)\n",
    "    cus_lead_pg3 = cntr.most_common()[0][0]\n",
    "    importance_pg3 = cntr.most_common()[0][1] / orders\n",
    "    \n",
    "    pg4_series = [i[0] for i in data[data['ORF_EXT_ROOT_K_ID'] == cus].groupby('SCM_N_ORDER_NR')\\\n",
    "                  ['OSP_4_LEAD_P_PG_ID'].unique().values]\n",
    "    cnter = Counter(pg4_series)\n",
    "    cus_lead_pg4 = cnter.most_common()[0][0]\n",
    "    importance_pg4 = cnter.most_common()[0][1] / orders\n",
    "    \n",
    "    mon_freq_30d = first_o_date + timedelta(days = 30)\n",
    "    ord_30d = cus_data[(cus_data['TDT_T_KEY_ORDER_DATE'] >= first_o_date) & \n",
    "             (cus_data['TDT_T_KEY_ORDER_DATE'] <= mon_freq_30d)]['SCM_N_ORDER_NR'].nunique()\n",
    "    pur_freq_mon_30d = ord_30d\n",
    "    mon_freq_60d = first_o_date + timedelta(days = 60)\n",
    "    ord_60d = cus_data[(cus_data['TDT_T_KEY_ORDER_DATE'] >= first_o_date) & \n",
    "             (cus_data['TDT_T_KEY_ORDER_DATE'] <= mon_freq_60d)]['SCM_N_ORDER_NR'].nunique()\n",
    "    pur_freq_mon_60d = ord_60d / 2\n",
    "    mon_freq_90d = first_o_date + timedelta(days = 90)\n",
    "    ord_90d = cus_data[(cus_data['TDT_T_KEY_ORDER_DATE'] >= first_o_date) & \n",
    "             (cus_data['TDT_T_KEY_ORDER_DATE'] <= mon_freq_90d)]['SCM_N_ORDER_NR'].nunique()\n",
    "    pur_freq_mon_90d = ord_90d / 3\n",
    "    mon_freq_180d = first_o_date + timedelta(days = 180)\n",
    "    ord_180d = cus_data[(cus_data['TDT_T_KEY_ORDER_DATE'] >= first_o_date) & \n",
    "             (cus_data['TDT_T_KEY_ORDER_DATE'] <= mon_freq_180d)]['SCM_N_ORDER_NR'].nunique()\n",
    "    pur_freq_mon_180d = ord_180d / 6\n",
    "    mon_freq_360d = first_o_date + timedelta(days = 360)\n",
    "    ord_360d = cus_data[(cus_data['TDT_T_KEY_ORDER_DATE'] >= first_o_date) & \n",
    "             (cus_data['TDT_T_KEY_ORDER_DATE'] <= mon_freq_360d)]['SCM_N_ORDER_NR'].nunique()\n",
    "    pur_freq_mon_360d = ord_360d / 12\n",
    "    mon_freq_540d = first_o_date + timedelta(days = 540)\n",
    "    ord_540d = cus_data[(cus_data['TDT_T_KEY_ORDER_DATE'] >= first_o_date) & \n",
    "             (cus_data['TDT_T_KEY_ORDER_DATE'] <= mon_freq_540d)]['SCM_N_ORDER_NR'].nunique()\n",
    "    pur_freq_mon_540d = ord_540d / 18\n",
    "    mon_freq_720d = first_o_date + timedelta(days = 720)\n",
    "    ord_720d = cus_data[(cus_data['TDT_T_KEY_ORDER_DATE'] >= first_o_date) & \n",
    "             (cus_data['TDT_T_KEY_ORDER_DATE'] <= mon_freq_720d)]['SCM_N_ORDER_NR'].nunique()\n",
    "    pur_freq_mon_720d = ord_720d / 24\n",
    "    \n",
    "    row_ = [cus, camp, pay_meth, origin, tier, orders, sales, net_sales, basket_avg, cm1, cm1_avg, cm1_perc,\n",
    "            cm2, cm2_avg, cm2_perc, cus_lead_pg3, importance_pg3, cus_lead_pg4, importance_pg4,\n",
    "            sp_start_date, sp_expiry_date, sp_diff, sp_qty,\n",
    "            first_o_date, last_o_date, diff_date.days, pur_freq_mon_30d, pur_freq_mon_60d, \n",
    "            pur_freq_mon_90d, pur_freq_mon_180d, pur_freq_mon_360d, pur_freq_mon_540d, pur_freq_mon_720d]\n",
    "    row_ = pd.DataFrame([row_], columns=sp_customers.columns)\n",
    "    sp_customers = pd.concat([sp_customers, row_], ignore_index=True)\n",
    "    \n",
    "    if n % 5000 == 0:\n",
    "        print(n)"
   ]
  },
  {
   "cell_type": "code",
   "execution_count": 87,
   "metadata": {
    "ExecuteTime": {
     "end_time": "2018-07-04T14:35:46.319286Z",
     "start_time": "2018-07-04T14:35:46.191286Z"
    }
   },
   "outputs": [
    {
     "data": {
      "text/html": [
       "<div>\n",
       "<style scoped>\n",
       "    .dataframe tbody tr th:only-of-type {\n",
       "        vertical-align: middle;\n",
       "    }\n",
       "\n",
       "    .dataframe tbody tr th {\n",
       "        vertical-align: top;\n",
       "    }\n",
       "\n",
       "    .dataframe thead th {\n",
       "        text-align: right;\n",
       "    }\n",
       "</style>\n",
       "<table border=\"1\" class=\"dataframe\">\n",
       "  <thead>\n",
       "    <tr style=\"text-align: right;\">\n",
       "      <th></th>\n",
       "      <th>SP_ED</th>\n",
       "      <th>SP_DIFF</th>\n",
       "      <th>SP_QTY</th>\n",
       "      <th>FIRST_O_DATE</th>\n",
       "      <th>LAST_O_DATE</th>\n",
       "      <th>O_DIFF</th>\n",
       "      <th>MON_PUR_FREQ_30D</th>\n",
       "      <th>MON_PUR_FREQ_60D</th>\n",
       "      <th>MON_PUR_FREQ_90D</th>\n",
       "      <th>MON_PUR_FREQ_180D</th>\n",
       "      <th>MON_PUR_FREQ_360D</th>\n",
       "      <th>MON_PUR_FREQ_540D</th>\n",
       "      <th>MON_PUR_FREQ_720D</th>\n",
       "    </tr>\n",
       "  </thead>\n",
       "  <tbody>\n",
       "    <tr>\n",
       "      <th>35933</th>\n",
       "      <td>0</td>\n",
       "      <td>731 days</td>\n",
       "      <td>0</td>\n",
       "      <td>2014-09-17</td>\n",
       "      <td>2016-08-31</td>\n",
       "      <td>714</td>\n",
       "      <td>1</td>\n",
       "      <td>1.0</td>\n",
       "      <td>1.00</td>\n",
       "      <td>0.67</td>\n",
       "      <td>0.50</td>\n",
       "      <td>0.33</td>\n",
       "      <td>0.29</td>\n",
       "    </tr>\n",
       "    <tr>\n",
       "      <th>66141</th>\n",
       "      <td>0</td>\n",
       "      <td>365 days</td>\n",
       "      <td>0</td>\n",
       "      <td>2014-08-30</td>\n",
       "      <td>2014-08-30</td>\n",
       "      <td>0</td>\n",
       "      <td>1</td>\n",
       "      <td>0.5</td>\n",
       "      <td>0.33</td>\n",
       "      <td>0.17</td>\n",
       "      <td>0.08</td>\n",
       "      <td>0.06</td>\n",
       "      <td>0.04</td>\n",
       "    </tr>\n",
       "    <tr>\n",
       "      <th>976</th>\n",
       "      <td>2017-05-05 00:00:00</td>\n",
       "      <td>1096 days</td>\n",
       "      <td>1</td>\n",
       "      <td>2014-01-28</td>\n",
       "      <td>2014-07-02</td>\n",
       "      <td>155</td>\n",
       "      <td>1</td>\n",
       "      <td>1.0</td>\n",
       "      <td>1.00</td>\n",
       "      <td>1.00</td>\n",
       "      <td>0.50</td>\n",
       "      <td>0.33</td>\n",
       "      <td>0.25</td>\n",
       "    </tr>\n",
       "    <tr>\n",
       "      <th>50446</th>\n",
       "      <td>0</td>\n",
       "      <td>1454 days</td>\n",
       "      <td>0</td>\n",
       "      <td>2014-10-25</td>\n",
       "      <td>2015-11-26</td>\n",
       "      <td>397</td>\n",
       "      <td>1</td>\n",
       "      <td>0.5</td>\n",
       "      <td>0.33</td>\n",
       "      <td>0.33</td>\n",
       "      <td>0.17</td>\n",
       "      <td>0.17</td>\n",
       "      <td>0.12</td>\n",
       "    </tr>\n",
       "    <tr>\n",
       "      <th>83267</th>\n",
       "      <td>0</td>\n",
       "      <td>365 days</td>\n",
       "      <td>0</td>\n",
       "      <td>2014-12-30</td>\n",
       "      <td>2014-12-30</td>\n",
       "      <td>0</td>\n",
       "      <td>1</td>\n",
       "      <td>0.5</td>\n",
       "      <td>0.33</td>\n",
       "      <td>0.17</td>\n",
       "      <td>0.08</td>\n",
       "      <td>0.06</td>\n",
       "      <td>0.04</td>\n",
       "    </tr>\n",
       "    <tr>\n",
       "      <th>51069</th>\n",
       "      <td>0</td>\n",
       "      <td>365 days</td>\n",
       "      <td>0</td>\n",
       "      <td>2014-11-08</td>\n",
       "      <td>2014-11-08</td>\n",
       "      <td>0</td>\n",
       "      <td>1</td>\n",
       "      <td>0.5</td>\n",
       "      <td>0.33</td>\n",
       "      <td>0.17</td>\n",
       "      <td>0.08</td>\n",
       "      <td>0.06</td>\n",
       "      <td>0.04</td>\n",
       "    </tr>\n",
       "    <tr>\n",
       "      <th>59309</th>\n",
       "      <td>0</td>\n",
       "      <td>365 days</td>\n",
       "      <td>0</td>\n",
       "      <td>2014-12-31</td>\n",
       "      <td>2014-12-31</td>\n",
       "      <td>0</td>\n",
       "      <td>1</td>\n",
       "      <td>0.5</td>\n",
       "      <td>0.33</td>\n",
       "      <td>0.17</td>\n",
       "      <td>0.08</td>\n",
       "      <td>0.06</td>\n",
       "      <td>0.04</td>\n",
       "    </tr>\n",
       "    <tr>\n",
       "      <th>73913</th>\n",
       "      <td>0</td>\n",
       "      <td>365 days</td>\n",
       "      <td>0</td>\n",
       "      <td>2014-05-28</td>\n",
       "      <td>2014-05-28</td>\n",
       "      <td>0</td>\n",
       "      <td>1</td>\n",
       "      <td>0.5</td>\n",
       "      <td>0.33</td>\n",
       "      <td>0.17</td>\n",
       "      <td>0.08</td>\n",
       "      <td>0.06</td>\n",
       "      <td>0.04</td>\n",
       "    </tr>\n",
       "    <tr>\n",
       "      <th>16051</th>\n",
       "      <td>2019-05-29 00:00:00</td>\n",
       "      <td>822 days</td>\n",
       "      <td>2</td>\n",
       "      <td>2014-08-14</td>\n",
       "      <td>2018-05-29</td>\n",
       "      <td>1384</td>\n",
       "      <td>1</td>\n",
       "      <td>1.0</td>\n",
       "      <td>0.67</td>\n",
       "      <td>0.67</td>\n",
       "      <td>0.67</td>\n",
       "      <td>0.61</td>\n",
       "      <td>0.54</td>\n",
       "    </tr>\n",
       "    <tr>\n",
       "      <th>31856</th>\n",
       "      <td>0</td>\n",
       "      <td>762 days</td>\n",
       "      <td>0</td>\n",
       "      <td>2014-10-03</td>\n",
       "      <td>2018-04-30</td>\n",
       "      <td>1305</td>\n",
       "      <td>2</td>\n",
       "      <td>1.0</td>\n",
       "      <td>0.67</td>\n",
       "      <td>0.33</td>\n",
       "      <td>0.17</td>\n",
       "      <td>0.11</td>\n",
       "      <td>0.08</td>\n",
       "    </tr>\n",
       "  </tbody>\n",
       "</table>\n",
       "</div>"
      ],
      "text/plain": [
       "                     SP_ED   SP_DIFF SP_QTY FIRST_O_DATE LAST_O_DATE O_DIFF  \\\n",
       "35933                    0  731 days      0   2014-09-17  2016-08-31    714   \n",
       "66141                    0  365 days      0   2014-08-30  2014-08-30      0   \n",
       "976    2017-05-05 00:00:00 1096 days      1   2014-01-28  2014-07-02    155   \n",
       "50446                    0 1454 days      0   2014-10-25  2015-11-26    397   \n",
       "83267                    0  365 days      0   2014-12-30  2014-12-30      0   \n",
       "51069                    0  365 days      0   2014-11-08  2014-11-08      0   \n",
       "59309                    0  365 days      0   2014-12-31  2014-12-31      0   \n",
       "73913                    0  365 days      0   2014-05-28  2014-05-28      0   \n",
       "16051  2019-05-29 00:00:00  822 days      2   2014-08-14  2018-05-29   1384   \n",
       "31856                    0  762 days      0   2014-10-03  2018-04-30   1305   \n",
       "\n",
       "      MON_PUR_FREQ_30D  MON_PUR_FREQ_60D  MON_PUR_FREQ_90D  MON_PUR_FREQ_180D  \\\n",
       "35933                1               1.0              1.00               0.67   \n",
       "66141                1               0.5              0.33               0.17   \n",
       "976                  1               1.0              1.00               1.00   \n",
       "50446                1               0.5              0.33               0.33   \n",
       "83267                1               0.5              0.33               0.17   \n",
       "51069                1               0.5              0.33               0.17   \n",
       "59309                1               0.5              0.33               0.17   \n",
       "73913                1               0.5              0.33               0.17   \n",
       "16051                1               1.0              0.67               0.67   \n",
       "31856                2               1.0              0.67               0.33   \n",
       "\n",
       "       MON_PUR_FREQ_360D  MON_PUR_FREQ_540D  MON_PUR_FREQ_720D  \n",
       "35933               0.50               0.33               0.29  \n",
       "66141               0.08               0.06               0.04  \n",
       "976                 0.50               0.33               0.25  \n",
       "50446               0.17               0.17               0.12  \n",
       "83267               0.08               0.06               0.04  \n",
       "51069               0.08               0.06               0.04  \n",
       "59309               0.08               0.06               0.04  \n",
       "73913               0.08               0.06               0.04  \n",
       "16051               0.67               0.61               0.54  \n",
       "31856               0.17               0.11               0.08  "
      ]
     },
     "execution_count": 87,
     "metadata": {},
     "output_type": "execute_result"
    }
   ],
   "source": [
    "sp_customers.round(2).sample(10)[sp_customers.columns[20:]]"
   ]
  },
  {
   "cell_type": "code",
   "execution_count": 88,
   "metadata": {
    "ExecuteTime": {
     "end_time": "2018-07-04T14:35:52.408286Z",
     "start_time": "2018-07-04T14:35:52.228286Z"
    }
   },
   "outputs": [
    {
     "name": "stdout",
     "output_type": "stream",
     "text": [
      "<class 'pandas.core.frame.DataFrame'>\n",
      "RangeIndex: 84414 entries, 0 to 84413\n",
      "Data columns (total 33 columns):\n",
      "ORF_EXT_ROOT_K_ID    84414 non-null object\n",
      "ACQ_CAMP             84414 non-null object\n",
      "PAY_METH             84414 non-null object\n",
      "ORIGIN               84414 non-null object\n",
      "TIER                 84414 non-null object\n",
      "ORDERS               84414 non-null object\n",
      "SALES                84414 non-null float64\n",
      "NET_SALES            84414 non-null float64\n",
      "BASKET_AVG           84414 non-null float64\n",
      "CM1                  84414 non-null float64\n",
      "CM1_AVG              84414 non-null float64\n",
      "CM1%                 84390 non-null float64\n",
      "CM2                  84414 non-null float64\n",
      "CM2_AVG              84414 non-null float64\n",
      "CM2%                 84390 non-null float64\n",
      "CUS_LEAD_PG3         84414 non-null object\n",
      "IMPORTANCE_PG3       84414 non-null float64\n",
      "CUS_LEAD_PG4         84414 non-null object\n",
      "IMPORTANCE_PG4       84414 non-null float64\n",
      "SP_SD                84414 non-null object\n",
      "SP_ED                84414 non-null object\n",
      "SP_DIFF              84414 non-null timedelta64[ns]\n",
      "SP_QTY               84414 non-null object\n",
      "FIRST_O_DATE         84414 non-null object\n",
      "LAST_O_DATE          84414 non-null object\n",
      "O_DIFF               84414 non-null object\n",
      "MON_PUR_FREQ_30D     84414 non-null object\n",
      "MON_PUR_FREQ_60D     84414 non-null float64\n",
      "MON_PUR_FREQ_90D     84414 non-null float64\n",
      "MON_PUR_FREQ_180D    84414 non-null float64\n",
      "MON_PUR_FREQ_360D    84414 non-null float64\n",
      "MON_PUR_FREQ_540D    84414 non-null float64\n",
      "MON_PUR_FREQ_720D    84414 non-null float64\n",
      "dtypes: float64(17), object(15), timedelta64[ns](1)\n",
      "memory usage: 21.3+ MB\n"
     ]
    }
   ],
   "source": [
    "sp_customers.info()"
   ]
  },
  {
   "cell_type": "code",
   "execution_count": 89,
   "metadata": {
    "ExecuteTime": {
     "end_time": "2018-07-04T14:35:59.140286Z",
     "start_time": "2018-07-04T14:35:58.521286Z"
    }
   },
   "outputs": [],
   "source": [
    "days = [i.days for i in sp_customers['SP_DIFF']]"
   ]
  },
  {
   "cell_type": "code",
   "execution_count": 90,
   "metadata": {
    "ExecuteTime": {
     "end_time": "2018-07-04T14:36:04.616286Z",
     "start_time": "2018-07-04T14:36:04.611286Z"
    }
   },
   "outputs": [
    {
     "data": {
      "text/plain": [
       "84414"
      ]
     },
     "execution_count": 90,
     "metadata": {},
     "output_type": "execute_result"
    }
   ],
   "source": [
    "len(days)"
   ]
  },
  {
   "cell_type": "code",
   "execution_count": 91,
   "metadata": {
    "ExecuteTime": {
     "end_time": "2018-07-04T14:36:10.339286Z",
     "start_time": "2018-07-04T14:36:10.322286Z"
    }
   },
   "outputs": [],
   "source": [
    "sp_customers['SP_DIFF'] = days"
   ]
  },
  {
   "cell_type": "code",
   "execution_count": 92,
   "metadata": {
    "ExecuteTime": {
     "end_time": "2018-07-04T14:36:30.166286Z",
     "start_time": "2018-07-04T14:36:16.031286Z"
    }
   },
   "outputs": [],
   "source": [
    "sp_customers.round(2).to_csv('clv_es_customers_starting_in_2014.csv', sep=';', index=False, encoding='utf-8')"
   ]
  },
  {
   "cell_type": "code",
   "execution_count": 93,
   "metadata": {
    "ExecuteTime": {
     "end_time": "2018-07-04T14:36:36.158286Z",
     "start_time": "2018-07-04T14:36:35.650286Z"
    }
   },
   "outputs": [],
   "source": [
    "customers = pd.read_csv('clv_es_customers_starting_in_2014.csv', sep=';', low_memory=False)"
   ]
  },
  {
   "cell_type": "code",
   "execution_count": 94,
   "metadata": {
    "ExecuteTime": {
     "end_time": "2018-07-04T14:36:42.142286Z",
     "start_time": "2018-07-04T14:36:42.068286Z"
    }
   },
   "outputs": [
    {
     "name": "stdout",
     "output_type": "stream",
     "text": [
      "<class 'pandas.core.frame.DataFrame'>\n",
      "RangeIndex: 84414 entries, 0 to 84413\n",
      "Data columns (total 33 columns):\n",
      "ORF_EXT_ROOT_K_ID    84414 non-null int64\n",
      "ACQ_CAMP             84414 non-null object\n",
      "PAY_METH             84414 non-null object\n",
      "ORIGIN               84414 non-null object\n",
      "TIER                 84414 non-null object\n",
      "ORDERS               84414 non-null int64\n",
      "SALES                84414 non-null float64\n",
      "NET_SALES            84414 non-null float64\n",
      "BASKET_AVG           84414 non-null float64\n",
      "CM1                  84414 non-null float64\n",
      "CM1_AVG              84414 non-null float64\n",
      "CM1%                 84390 non-null float64\n",
      "CM2                  84414 non-null float64\n",
      "CM2_AVG              84414 non-null float64\n",
      "CM2%                 84390 non-null float64\n",
      "CUS_LEAD_PG3         84414 non-null int64\n",
      "IMPORTANCE_PG3       84414 non-null float64\n",
      "CUS_LEAD_PG4         84414 non-null int64\n",
      "IMPORTANCE_PG4       84414 non-null float64\n",
      "SP_SD                84414 non-null object\n",
      "SP_ED                84414 non-null object\n",
      "SP_DIFF              84414 non-null int64\n",
      "SP_QTY               84414 non-null int64\n",
      "FIRST_O_DATE         84414 non-null object\n",
      "LAST_O_DATE          84414 non-null object\n",
      "O_DIFF               84414 non-null int64\n",
      "MON_PUR_FREQ_30D     84414 non-null int64\n",
      "MON_PUR_FREQ_60D     84414 non-null float64\n",
      "MON_PUR_FREQ_90D     84414 non-null float64\n",
      "MON_PUR_FREQ_180D    84414 non-null float64\n",
      "MON_PUR_FREQ_360D    84414 non-null float64\n",
      "MON_PUR_FREQ_540D    84414 non-null float64\n",
      "MON_PUR_FREQ_720D    84414 non-null float64\n",
      "dtypes: float64(17), int64(8), object(8)\n",
      "memory usage: 21.3+ MB\n"
     ]
    }
   ],
   "source": [
    "customers.info()"
   ]
  },
  {
   "cell_type": "code",
   "execution_count": 95,
   "metadata": {
    "ExecuteTime": {
     "end_time": "2018-07-04T14:36:47.462286Z",
     "start_time": "2018-07-04T14:36:47.442286Z"
    }
   },
   "outputs": [
    {
     "data": {
      "text/html": [
       "<div>\n",
       "<style scoped>\n",
       "    .dataframe tbody tr th:only-of-type {\n",
       "        vertical-align: middle;\n",
       "    }\n",
       "\n",
       "    .dataframe tbody tr th {\n",
       "        vertical-align: top;\n",
       "    }\n",
       "\n",
       "    .dataframe thead th {\n",
       "        text-align: right;\n",
       "    }\n",
       "</style>\n",
       "<table border=\"1\" class=\"dataframe\">\n",
       "  <thead>\n",
       "    <tr style=\"text-align: right;\">\n",
       "      <th></th>\n",
       "      <th>CUS_LEAD_PG3</th>\n",
       "      <th>IMPORTANCE_PG3</th>\n",
       "      <th>CUS_LEAD_PG4</th>\n",
       "      <th>IMPORTANCE_PG4</th>\n",
       "      <th>SP_SD</th>\n",
       "      <th>SP_ED</th>\n",
       "      <th>SP_DIFF</th>\n",
       "      <th>SP_QTY</th>\n",
       "      <th>FIRST_O_DATE</th>\n",
       "      <th>LAST_O_DATE</th>\n",
       "      <th>O_DIFF</th>\n",
       "      <th>MON_PUR_FREQ_30D</th>\n",
       "      <th>MON_PUR_FREQ_60D</th>\n",
       "      <th>MON_PUR_FREQ_90D</th>\n",
       "      <th>MON_PUR_FREQ_180D</th>\n",
       "      <th>MON_PUR_FREQ_360D</th>\n",
       "      <th>MON_PUR_FREQ_540D</th>\n",
       "      <th>MON_PUR_FREQ_720D</th>\n",
       "    </tr>\n",
       "  </thead>\n",
       "  <tbody>\n",
       "    <tr>\n",
       "      <th>0</th>\n",
       "      <td>251</td>\n",
       "      <td>1.00</td>\n",
       "      <td>17798</td>\n",
       "      <td>1.00</td>\n",
       "      <td>2015-04-01 00:00:00</td>\n",
       "      <td>2019-05-29 00:00:00</td>\n",
       "      <td>1519</td>\n",
       "      <td>2</td>\n",
       "      <td>2014-12-03</td>\n",
       "      <td>2018-03-26</td>\n",
       "      <td>1209</td>\n",
       "      <td>1</td>\n",
       "      <td>0.5</td>\n",
       "      <td>0.33</td>\n",
       "      <td>0.33</td>\n",
       "      <td>0.33</td>\n",
       "      <td>0.28</td>\n",
       "      <td>0.29</td>\n",
       "    </tr>\n",
       "    <tr>\n",
       "      <th>1</th>\n",
       "      <td>2068</td>\n",
       "      <td>0.48</td>\n",
       "      <td>3155</td>\n",
       "      <td>0.27</td>\n",
       "      <td>2014-12-06 00:00:00</td>\n",
       "      <td>2020-12-06 00:00:00</td>\n",
       "      <td>2192</td>\n",
       "      <td>4</td>\n",
       "      <td>2014-07-08</td>\n",
       "      <td>2018-06-15</td>\n",
       "      <td>1438</td>\n",
       "      <td>2</td>\n",
       "      <td>1.0</td>\n",
       "      <td>1.00</td>\n",
       "      <td>2.00</td>\n",
       "      <td>2.58</td>\n",
       "      <td>2.50</td>\n",
       "      <td>2.25</td>\n",
       "    </tr>\n",
       "    <tr>\n",
       "      <th>2</th>\n",
       "      <td>251</td>\n",
       "      <td>0.93</td>\n",
       "      <td>682</td>\n",
       "      <td>0.91</td>\n",
       "      <td>0</td>\n",
       "      <td>0</td>\n",
       "      <td>2192</td>\n",
       "      <td>0</td>\n",
       "      <td>2014-10-25</td>\n",
       "      <td>2018-06-28</td>\n",
       "      <td>1342</td>\n",
       "      <td>2</td>\n",
       "      <td>1.5</td>\n",
       "      <td>1.33</td>\n",
       "      <td>1.00</td>\n",
       "      <td>1.08</td>\n",
       "      <td>1.39</td>\n",
       "      <td>1.54</td>\n",
       "    </tr>\n",
       "    <tr>\n",
       "      <th>3</th>\n",
       "      <td>2190</td>\n",
       "      <td>0.50</td>\n",
       "      <td>10618</td>\n",
       "      <td>0.50</td>\n",
       "      <td>0</td>\n",
       "      <td>0</td>\n",
       "      <td>2192</td>\n",
       "      <td>0</td>\n",
       "      <td>2014-09-15</td>\n",
       "      <td>2018-01-08</td>\n",
       "      <td>1211</td>\n",
       "      <td>1</td>\n",
       "      <td>0.5</td>\n",
       "      <td>0.33</td>\n",
       "      <td>0.17</td>\n",
       "      <td>0.08</td>\n",
       "      <td>0.06</td>\n",
       "      <td>0.04</td>\n",
       "    </tr>\n",
       "    <tr>\n",
       "      <th>4</th>\n",
       "      <td>252</td>\n",
       "      <td>0.42</td>\n",
       "      <td>71918</td>\n",
       "      <td>0.29</td>\n",
       "      <td>0</td>\n",
       "      <td>0</td>\n",
       "      <td>2192</td>\n",
       "      <td>0</td>\n",
       "      <td>2014-07-16</td>\n",
       "      <td>2018-06-12</td>\n",
       "      <td>1427</td>\n",
       "      <td>1</td>\n",
       "      <td>0.5</td>\n",
       "      <td>0.67</td>\n",
       "      <td>0.67</td>\n",
       "      <td>0.50</td>\n",
       "      <td>0.50</td>\n",
       "      <td>0.46</td>\n",
       "    </tr>\n",
       "  </tbody>\n",
       "</table>\n",
       "</div>"
      ],
      "text/plain": [
       "   CUS_LEAD_PG3  IMPORTANCE_PG3  CUS_LEAD_PG4  IMPORTANCE_PG4  \\\n",
       "0           251            1.00         17798            1.00   \n",
       "1          2068            0.48          3155            0.27   \n",
       "2           251            0.93           682            0.91   \n",
       "3          2190            0.50         10618            0.50   \n",
       "4           252            0.42         71918            0.29   \n",
       "\n",
       "                 SP_SD                SP_ED  SP_DIFF  SP_QTY FIRST_O_DATE  \\\n",
       "0  2015-04-01 00:00:00  2019-05-29 00:00:00     1519       2   2014-12-03   \n",
       "1  2014-12-06 00:00:00  2020-12-06 00:00:00     2192       4   2014-07-08   \n",
       "2                    0                    0     2192       0   2014-10-25   \n",
       "3                    0                    0     2192       0   2014-09-15   \n",
       "4                    0                    0     2192       0   2014-07-16   \n",
       "\n",
       "  LAST_O_DATE  O_DIFF  MON_PUR_FREQ_30D  MON_PUR_FREQ_60D  MON_PUR_FREQ_90D  \\\n",
       "0  2018-03-26    1209                 1               0.5              0.33   \n",
       "1  2018-06-15    1438                 2               1.0              1.00   \n",
       "2  2018-06-28    1342                 2               1.5              1.33   \n",
       "3  2018-01-08    1211                 1               0.5              0.33   \n",
       "4  2018-06-12    1427                 1               0.5              0.67   \n",
       "\n",
       "   MON_PUR_FREQ_180D  MON_PUR_FREQ_360D  MON_PUR_FREQ_540D  MON_PUR_FREQ_720D  \n",
       "0               0.33               0.33               0.28               0.29  \n",
       "1               2.00               2.58               2.50               2.25  \n",
       "2               1.00               1.08               1.39               1.54  \n",
       "3               0.17               0.08               0.06               0.04  \n",
       "4               0.67               0.50               0.50               0.46  "
      ]
     },
     "execution_count": 95,
     "metadata": {},
     "output_type": "execute_result"
    }
   ],
   "source": [
    "customers.head()[customers.columns[15:]]"
   ]
  },
  {
   "cell_type": "code",
   "execution_count": 96,
   "metadata": {
    "ExecuteTime": {
     "end_time": "2018-07-04T14:36:53.209286Z",
     "start_time": "2018-07-04T14:36:53.138286Z"
    }
   },
   "outputs": [],
   "source": [
    "#customers['SP_SD'] = pd.to_datetime(customers['SP_SD'], format='%Y-%m-%d')\n",
    "#customers['SP_ED'] = pd.to_datetime(customers['SP_ED'], format='%Y-%m-%d')\n",
    "customers['FIRST_O_DATE'] = pd.to_datetime(customers['FIRST_O_DATE'], format='%Y-%m-%d')\n",
    "customers['LAST_O_DATE'] = pd.to_datetime(customers['LAST_O_DATE'], format='%Y-%m-%d')"
   ]
  },
  {
   "cell_type": "code",
   "execution_count": 97,
   "metadata": {
    "ExecuteTime": {
     "end_time": "2018-07-04T14:37:02.740286Z",
     "start_time": "2018-07-04T14:36:59.347286Z"
    }
   },
   "outputs": [
    {
     "data": {
      "text/plain": [
       "<matplotlib.axes._subplots.AxesSubplot at 0xdcce630>"
      ]
     },
     "execution_count": 97,
     "metadata": {},
     "output_type": "execute_result"
    },
    {
     "data": {
      "image/png": "[encoded data removed]",
      "text/plain": [
       "<matplotlib.figure.Figure at 0xdcceeb8>"
      ]
     },
     "metadata": {},
     "output_type": "display_data"
    }
   ],
   "source": [
    "plt.figure(figsize=(16, 4))\n",
    "customers['O_DIFF'].hist(bins=1800, range=(1, 1800))"
   ]
  },
  {
   "cell_type": "code",
   "execution_count": 98,
   "metadata": {
    "ExecuteTime": {
     "end_time": "2018-07-04T14:37:08.254286Z",
     "start_time": "2018-07-04T14:37:08.238286Z"
    }
   },
   "outputs": [
    {
     "data": {
      "text/plain": [
       "['K']         38977\n",
       "['PP']        18563\n",
       "['CD']         6326\n",
       "['K' 'R']      3667\n",
       "['R']          2907\n",
       "['K' 'PP']     2857\n",
       "['PP' 'K']     2629\n",
       "['R' 'K']      1218\n",
       "['K' 'CD']     1099\n",
       "['PP' 'R']     1035\n",
       "Name: PAY_METH, dtype: int64"
      ]
     },
     "execution_count": 98,
     "metadata": {},
     "output_type": "execute_result"
    }
   ],
   "source": [
    "customers['PAY_METH'].value_counts().head(10)"
   ]
  },
  {
   "cell_type": "code",
   "execution_count": 99,
   "metadata": {
    "ExecuteTime": {
     "end_time": "2018-07-04T14:37:14.153286Z",
     "start_time": "2018-07-04T14:37:13.579286Z"
    }
   },
   "outputs": [
    {
     "data": {
      "text/plain": [
       "<matplotlib.axes._subplots.AxesSubplot at 0xdd68400>"
      ]
     },
     "execution_count": 99,
     "metadata": {},
     "output_type": "execute_result"
    },
    {
     "data": {
      "image/png": "[encoded data removed]",
      "text/plain": [
       "<matplotlib.figure.Figure at 0xdf543c8>"
      ]
     },
     "metadata": {},
     "output_type": "display_data"
    }
   ],
   "source": [
    "plt.figure(figsize=(16, 4))\n",
    "customers['ORDERS'].hist(bins=50, range=(0, 50))"
   ]
  },
  {
   "cell_type": "code",
   "execution_count": 100,
   "metadata": {
    "ExecuteTime": {
     "end_time": "2018-07-04T14:37:19.971286Z",
     "start_time": "2018-07-04T14:37:19.449286Z"
    }
   },
   "outputs": [
    {
     "data": {
      "text/plain": [
       "<matplotlib.axes._subplots.AxesSubplot at 0x1a9b7fd0>"
      ]
     },
     "execution_count": 100,
     "metadata": {},
     "output_type": "execute_result"
    },
    {
     "data": {
      "image/png": "[encoded data removed]",
      "text/plain": [
       "<matplotlib.figure.Figure at 0xdde2198>"
      ]
     },
     "metadata": {},
     "output_type": "display_data"
    }
   ],
   "source": [
    "plt.figure(figsize=(16, 4))\n",
    "customers['SALES'].hist(bins=100, range=(0, 1000))"
   ]
  },
  {
   "cell_type": "code",
   "execution_count": 101,
   "metadata": {
    "ExecuteTime": {
     "end_time": "2018-07-04T14:37:25.765286Z",
     "start_time": "2018-07-04T14:37:25.303286Z"
    }
   },
   "outputs": [
    {
     "data": {
      "text/plain": [
       "<matplotlib.axes._subplots.AxesSubplot at 0x14e0df60>"
      ]
     },
     "execution_count": 101,
     "metadata": {},
     "output_type": "execute_result"
    },
    {
     "data": {
      "image/png": "[encoded data removed]",
      "text/plain": [
       "<matplotlib.figure.Figure at 0x14e0df28>"
      ]
     },
     "metadata": {},
     "output_type": "display_data"
    }
   ],
   "source": [
    "plt.figure(figsize=(16, 4))\n",
    "customers['CM2%'].hist(bins=100, range=(-50, 50))"
   ]
  },
  {
   "cell_type": "code",
   "execution_count": 102,
   "metadata": {
    "ExecuteTime": {
     "end_time": "2018-07-04T14:37:31.567286Z",
     "start_time": "2018-07-04T14:37:31.147286Z"
    }
   },
   "outputs": [
    {
     "data": {
      "text/plain": [
       "<matplotlib.axes._subplots.AxesSubplot at 0x14dc9860>"
      ]
     },
     "execution_count": 102,
     "metadata": {},
     "output_type": "execute_result"
    },
    {
     "data": {
      "image/png": "[encoded data removed]",
      "text/plain": [
       "<matplotlib.figure.Figure at 0x14d5c240>"
      ]
     },
     "metadata": {},
     "output_type": "display_data"
    }
   ],
   "source": [
    "plt.figure(figsize=(16, 8))\n",
    "customers['CUS_LEAD_PG3'].value_counts().head(25).plot(kind='barh')"
   ]
  },
  {
   "cell_type": "code",
   "execution_count": 103,
   "metadata": {
    "ExecuteTime": {
     "end_time": "2018-07-04T14:37:37.286286Z",
     "start_time": "2018-07-04T14:37:36.888286Z"
    }
   },
   "outputs": [
    {
     "data": {
      "text/plain": [
       "<matplotlib.axes._subplots.AxesSubplot at 0x14c0a630>"
      ]
     },
     "execution_count": 103,
     "metadata": {},
     "output_type": "execute_result"
    },
    {
     "data": {
      "image/png": "[encoded data removed]",
      "text/plain": [
       "<matplotlib.figure.Figure at 0x14ead5c0>"
      ]
     },
     "metadata": {},
     "output_type": "display_data"
    }
   ],
   "source": [
    "plt.figure(figsize=(16, 4))\n",
    "customers['IMPORTANCE_PG3'].hist(bins=10, range=(0, 1))"
   ]
  },
  {
   "cell_type": "code",
   "execution_count": 104,
   "metadata": {
    "ExecuteTime": {
     "end_time": "2018-07-04T14:37:43.079286Z",
     "start_time": "2018-07-04T14:37:42.544286Z"
    }
   },
   "outputs": [
    {
     "data": {
      "text/plain": [
       "<matplotlib.axes._subplots.AxesSubplot at 0x14f1e240>"
      ]
     },
     "execution_count": 104,
     "metadata": {},
     "output_type": "execute_result"
    },
    {
     "data": {
      "image/png": "[encoded data removed]",
      "text/plain": [
       "<matplotlib.figure.Figure at 0x14f250b8>"
      ]
     },
     "metadata": {},
     "output_type": "display_data"
    }
   ],
   "source": [
    "plt.figure(figsize=(16, 8))\n",
    "customers['CUS_LEAD_PG4'].value_counts().head(25).plot(kind='barh')"
   ]
  },
  {
   "cell_type": "code",
   "execution_count": null,
   "metadata": {},
   "outputs": [],
   "source": []
  }
 ],
 "metadata": {
  "hide_input": false,
  "kernelspec": {
   "display_name": "Python [default]",
   "language": "python",
   "name": "python3"
  },
  "language_info": {
   "codemirror_mode": {
    "name": "ipython",
    "version": 3
   },
   "file_extension": ".py",
   "mimetype": "text/x-python",
   "name": "python",
   "nbconvert_exporter": "python",
   "pygments_lexer": "ipython3",
   "version": "3.6.4"
  },
  "toc": {
   "base_numbering": 1,
   "nav_menu": {},
   "number_sections": true,
   "sideBar": true,
   "skip_h1_title": false,
   "title_cell": "Table of Contents",
   "title_sidebar": "Contents",
   "toc_cell": false,
   "toc_position": {},
   "toc_section_display": true,
   "toc_window_display": false
  },
  "varInspector": {
   "cols": {
    "lenName": 16,
    "lenType": 16,
    "lenVar": 40
   },
   "kernels_config": {
    "python": {
     "delete_cmd_postfix": "",
     "delete_cmd_prefix": "del ",
     "library": "var_list.py",
     "varRefreshCmd": "print(var_dic_list())"
    },
    "r": {
     "delete_cmd_postfix": ") ",
     "delete_cmd_prefix": "rm(",
     "library": "var_list.r",
     "varRefreshCmd": "cat(var_dic_list()) "
    }
   },
   "types_to_exclude": [
    "module",
    "function",
    "builtin_function_or_method",
    "instance",
    "_Feature"
   ],
   "window_display": false
  }
 },
 "nbformat": 4,
 "nbformat_minor": 2
}
