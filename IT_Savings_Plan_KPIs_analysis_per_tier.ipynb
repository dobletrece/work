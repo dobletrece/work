{
 "cells": [
  {
   "cell_type": "code",
   "execution_count": 1,
   "metadata": {
    "ExecuteTime": {
     "end_time": "2018-10-19T09:43:58.543294Z",
     "start_time": "2018-10-19T09:43:57.522294Z"
    }
   },
   "outputs": [],
   "source": [
    "import numpy as np\n",
    "import pandas as pd\n",
    "import dask.dataframe as dd\n",
    "import matplotlib.pyplot as plt\n",
    "%matplotlib inline\n",
    "from IPython.display import display\n",
    "from scipy import stats\n",
    "from statistics import stdev\n",
    "import datetime\n",
    "from datetime import timedelta\n",
    "from collections import Counter\n",
    "#import cx_Oracle\n",
    "import psycopg2\n",
    "import seaborn as sns\n",
    "import json\n",
    "import pickle\n",
    "#from fitter import Fitter\n",
    "from warnings import filterwarnings\n",
    "filterwarnings('ignore')"
   ]
  },
  {
   "cell_type": "code",
   "execution_count": 2,
   "metadata": {
    "ExecuteTime": {
     "end_time": "2018-10-19T09:44:02.204294Z",
     "start_time": "2018-10-19T09:43:58.544294Z"
    }
   },
   "outputs": [],
   "source": [
    "data = pd.read_pickle(\"./it_sp_orders_from_tiers_51-56.pkl\")"
   ]
  },
  {
   "cell_type": "code",
   "execution_count": 3,
   "metadata": {
    "ExecuteTime": {
     "end_time": "2018-10-19T09:44:02.216294Z",
     "start_time": "2018-10-19T09:44:02.206294Z"
    }
   },
   "outputs": [
    {
     "name": "stdout",
     "output_type": "stream",
     "text": [
      "<class 'pandas.core.frame.DataFrame'>\n",
      "Int64Index: 3775537 entries, 0 to 3840991\n",
      "Data columns (total 26 columns):\n",
      "SCM_N_ORDER_POS_NR              int64\n",
      "SCM_N_ORDER_NR                  int64\n",
      "TDT_T_KEY_ORDER_DATE            datetime64[ns]\n",
      "THR_C_KEY_ORDER_HOUR            object\n",
      "SIT_N_KEY_SITE                  int64\n",
      "CUS_N_KEY_CUSTOMER              int64\n",
      "SCM_SALES_BMF                   float64\n",
      "SCM_D_FINANCE_CM1               float64\n",
      "SCM_D_FINANCE_CM2               float64\n",
      "SCM_D_ORIG_FINANCE_ORDER_NET    float64\n",
      "SCM_AP_ID                       int64\n",
      "SCM_AS_ID                       int64\n",
      "SCM_MASTER_AP_ID                int64\n",
      "OSP_KO_COUNT_NET                int64\n",
      "OSP_3_LEAD_P_PG_ID              int64\n",
      "OSP_3_LEAD_P_PG_SHARE           float64\n",
      "OSP_4_LEAD_P_PG_ID              int64\n",
      "OSP_4_LEAD_P_PG_SHARE           float64\n",
      "CZP_START_DATE                  datetime64[ns]\n",
      "CZP_EXPIRY_DATE                 datetime64[ns]\n",
      "CZP_ZTQ_ID                      int64\n",
      "CZP_PERCENTAGE                  int64\n",
      "CZP_PRICE                       float64\n",
      "ORDER_DATETIME                  datetime64[ns]\n",
      "WEEK_NUMBER                     int64\n",
      "MONTH_NUMBER                    int64\n",
      "dtypes: datetime64[ns](4), float64(7), int64(14), object(1)\n",
      "memory usage: 777.7+ MB\n"
     ]
    }
   ],
   "source": [
    "data.info(verbose=True)"
   ]
  },
  {
   "cell_type": "code",
   "execution_count": 4,
   "metadata": {
    "ExecuteTime": {
     "end_time": "2018-10-19T09:44:02.255294Z",
     "start_time": "2018-10-19T09:44:02.218294Z"
    }
   },
   "outputs": [
    {
     "data": {
      "text/html": [
       "<div>\n",
       "<style scoped>\n",
       "    .dataframe tbody tr th:only-of-type {\n",
       "        vertical-align: middle;\n",
       "    }\n",
       "\n",
       "    .dataframe tbody tr th {\n",
       "        vertical-align: top;\n",
       "    }\n",
       "\n",
       "    .dataframe thead th {\n",
       "        text-align: right;\n",
       "    }\n",
       "</style>\n",
       "<table border=\"1\" class=\"dataframe\">\n",
       "  <thead>\n",
       "    <tr style=\"text-align: right;\">\n",
       "      <th></th>\n",
       "      <th>SCM_N_ORDER_POS_NR</th>\n",
       "      <th>SCM_N_ORDER_NR</th>\n",
       "      <th>TDT_T_KEY_ORDER_DATE</th>\n",
       "      <th>THR_C_KEY_ORDER_HOUR</th>\n",
       "      <th>SIT_N_KEY_SITE</th>\n",
       "      <th>CUS_N_KEY_CUSTOMER</th>\n",
       "      <th>SCM_SALES_BMF</th>\n",
       "      <th>SCM_D_FINANCE_CM1</th>\n",
       "      <th>SCM_D_FINANCE_CM2</th>\n",
       "      <th>SCM_D_ORIG_FINANCE_ORDER_NET</th>\n",
       "      <th>...</th>\n",
       "      <th>OSP_4_LEAD_P_PG_ID</th>\n",
       "      <th>OSP_4_LEAD_P_PG_SHARE</th>\n",
       "      <th>CZP_START_DATE</th>\n",
       "      <th>CZP_EXPIRY_DATE</th>\n",
       "      <th>CZP_ZTQ_ID</th>\n",
       "      <th>CZP_PERCENTAGE</th>\n",
       "      <th>CZP_PRICE</th>\n",
       "      <th>ORDER_DATETIME</th>\n",
       "      <th>WEEK_NUMBER</th>\n",
       "      <th>MONTH_NUMBER</th>\n",
       "    </tr>\n",
       "  </thead>\n",
       "  <tbody>\n",
       "    <tr>\n",
       "      <th>0</th>\n",
       "      <td>407308546</td>\n",
       "      <td>95460477</td>\n",
       "      <td>2017-10-01</td>\n",
       "      <td>17:39</td>\n",
       "      <td>12</td>\n",
       "      <td>8408291</td>\n",
       "      <td>13.4395</td>\n",
       "      <td>3.6365</td>\n",
       "      <td>2.6887</td>\n",
       "      <td>11.0160</td>\n",
       "      <td>...</td>\n",
       "      <td>81397</td>\n",
       "      <td>0.2703</td>\n",
       "      <td>2017-02-11 16:55:00</td>\n",
       "      <td>2020-02-11 23:59:00</td>\n",
       "      <td>52</td>\n",
       "      <td>3</td>\n",
       "      <td>5.99</td>\n",
       "      <td>2017-10-01 17:39:00</td>\n",
       "      <td>39</td>\n",
       "      <td>10</td>\n",
       "    </tr>\n",
       "    <tr>\n",
       "      <th>1</th>\n",
       "      <td>407308548</td>\n",
       "      <td>95460477</td>\n",
       "      <td>2017-10-01</td>\n",
       "      <td>17:39</td>\n",
       "      <td>12</td>\n",
       "      <td>8408291</td>\n",
       "      <td>0.0000</td>\n",
       "      <td>-0.4300</td>\n",
       "      <td>-0.6192</td>\n",
       "      <td>0.0000</td>\n",
       "      <td>...</td>\n",
       "      <td>81397</td>\n",
       "      <td>0.2703</td>\n",
       "      <td>2017-02-11 16:55:00</td>\n",
       "      <td>2020-02-11 23:59:00</td>\n",
       "      <td>52</td>\n",
       "      <td>3</td>\n",
       "      <td>5.99</td>\n",
       "      <td>2017-10-01 17:39:00</td>\n",
       "      <td>39</td>\n",
       "      <td>10</td>\n",
       "    </tr>\n",
       "    <tr>\n",
       "      <th>2</th>\n",
       "      <td>407308546</td>\n",
       "      <td>95460477</td>\n",
       "      <td>2017-10-01</td>\n",
       "      <td>17:39</td>\n",
       "      <td>12</td>\n",
       "      <td>8408291</td>\n",
       "      <td>13.5505</td>\n",
       "      <td>3.6665</td>\n",
       "      <td>2.7109</td>\n",
       "      <td>11.1070</td>\n",
       "      <td>...</td>\n",
       "      <td>81397</td>\n",
       "      <td>0.2703</td>\n",
       "      <td>2017-02-11 16:55:00</td>\n",
       "      <td>2020-02-11 23:59:00</td>\n",
       "      <td>52</td>\n",
       "      <td>3</td>\n",
       "      <td>5.99</td>\n",
       "      <td>2017-10-01 17:39:00</td>\n",
       "      <td>39</td>\n",
       "      <td>10</td>\n",
       "    </tr>\n",
       "    <tr>\n",
       "      <th>3</th>\n",
       "      <td>407308551</td>\n",
       "      <td>95460477</td>\n",
       "      <td>2017-10-01</td>\n",
       "      <td>17:39</td>\n",
       "      <td>12</td>\n",
       "      <td>8408291</td>\n",
       "      <td>-4.4600</td>\n",
       "      <td>-3.6557</td>\n",
       "      <td>-3.6557</td>\n",
       "      <td>-3.6557</td>\n",
       "      <td>...</td>\n",
       "      <td>81397</td>\n",
       "      <td>0.2703</td>\n",
       "      <td>2017-02-11 16:55:00</td>\n",
       "      <td>2020-02-11 23:59:00</td>\n",
       "      <td>52</td>\n",
       "      <td>3</td>\n",
       "      <td>5.99</td>\n",
       "      <td>2017-10-01 17:39:00</td>\n",
       "      <td>39</td>\n",
       "      <td>10</td>\n",
       "    </tr>\n",
       "    <tr>\n",
       "      <th>4</th>\n",
       "      <td>407308547</td>\n",
       "      <td>95460477</td>\n",
       "      <td>2017-10-01</td>\n",
       "      <td>17:39</td>\n",
       "      <td>12</td>\n",
       "      <td>8408291</td>\n",
       "      <td>8.3800</td>\n",
       "      <td>0.8089</td>\n",
       "      <td>0.1009</td>\n",
       "      <td>6.8689</td>\n",
       "      <td>...</td>\n",
       "      <td>81397</td>\n",
       "      <td>0.2703</td>\n",
       "      <td>2017-02-11 16:55:00</td>\n",
       "      <td>2020-02-11 23:59:00</td>\n",
       "      <td>52</td>\n",
       "      <td>3</td>\n",
       "      <td>5.99</td>\n",
       "      <td>2017-10-01 17:39:00</td>\n",
       "      <td>39</td>\n",
       "      <td>10</td>\n",
       "    </tr>\n",
       "  </tbody>\n",
       "</table>\n",
       "<p>5 rows × 26 columns</p>\n",
       "</div>"
      ],
      "text/plain": [
       "   SCM_N_ORDER_POS_NR  SCM_N_ORDER_NR TDT_T_KEY_ORDER_DATE  \\\n",
       "0           407308546        95460477           2017-10-01   \n",
       "1           407308548        95460477           2017-10-01   \n",
       "2           407308546        95460477           2017-10-01   \n",
       "3           407308551        95460477           2017-10-01   \n",
       "4           407308547        95460477           2017-10-01   \n",
       "\n",
       "  THR_C_KEY_ORDER_HOUR  SIT_N_KEY_SITE  CUS_N_KEY_CUSTOMER  SCM_SALES_BMF  \\\n",
       "0                17:39              12             8408291        13.4395   \n",
       "1                17:39              12             8408291         0.0000   \n",
       "2                17:39              12             8408291        13.5505   \n",
       "3                17:39              12             8408291        -4.4600   \n",
       "4                17:39              12             8408291         8.3800   \n",
       "\n",
       "   SCM_D_FINANCE_CM1  SCM_D_FINANCE_CM2  SCM_D_ORIG_FINANCE_ORDER_NET  \\\n",
       "0             3.6365             2.6887                       11.0160   \n",
       "1            -0.4300            -0.6192                        0.0000   \n",
       "2             3.6665             2.7109                       11.1070   \n",
       "3            -3.6557            -3.6557                       -3.6557   \n",
       "4             0.8089             0.1009                        6.8689   \n",
       "\n",
       "      ...       OSP_4_LEAD_P_PG_ID  OSP_4_LEAD_P_PG_SHARE      CZP_START_DATE  \\\n",
       "0     ...                    81397                 0.2703 2017-02-11 16:55:00   \n",
       "1     ...                    81397                 0.2703 2017-02-11 16:55:00   \n",
       "2     ...                    81397                 0.2703 2017-02-11 16:55:00   \n",
       "3     ...                    81397                 0.2703 2017-02-11 16:55:00   \n",
       "4     ...                    81397                 0.2703 2017-02-11 16:55:00   \n",
       "\n",
       "      CZP_EXPIRY_DATE  CZP_ZTQ_ID  CZP_PERCENTAGE  CZP_PRICE  \\\n",
       "0 2020-02-11 23:59:00          52               3       5.99   \n",
       "1 2020-02-11 23:59:00          52               3       5.99   \n",
       "2 2020-02-11 23:59:00          52               3       5.99   \n",
       "3 2020-02-11 23:59:00          52               3       5.99   \n",
       "4 2020-02-11 23:59:00          52               3       5.99   \n",
       "\n",
       "       ORDER_DATETIME WEEK_NUMBER MONTH_NUMBER  \n",
       "0 2017-10-01 17:39:00          39           10  \n",
       "1 2017-10-01 17:39:00          39           10  \n",
       "2 2017-10-01 17:39:00          39           10  \n",
       "3 2017-10-01 17:39:00          39           10  \n",
       "4 2017-10-01 17:39:00          39           10  \n",
       "\n",
       "[5 rows x 26 columns]"
      ]
     },
     "execution_count": 4,
     "metadata": {},
     "output_type": "execute_result"
    }
   ],
   "source": [
    "data.head()"
   ]
  },
  {
   "cell_type": "code",
   "execution_count": 5,
   "metadata": {
    "ExecuteTime": {
     "end_time": "2018-10-19T09:44:02.553294Z",
     "start_time": "2018-10-19T09:44:02.256294Z"
    }
   },
   "outputs": [],
   "source": [
    "data['FIRST_O_DATE'] = data['TDT_T_KEY_ORDER_DATE'].groupby(data['CUS_N_KEY_CUSTOMER']).transform('min')"
   ]
  },
  {
   "cell_type": "code",
   "execution_count": 6,
   "metadata": {
    "ExecuteTime": {
     "end_time": "2018-10-19T09:44:02.844294Z",
     "start_time": "2018-10-19T09:44:02.555294Z"
    }
   },
   "outputs": [],
   "source": [
    "data['LAST_O_DATE'] = data['TDT_T_KEY_ORDER_DATE'].groupby(data['CUS_N_KEY_CUSTOMER']).transform('max')"
   ]
  },
  {
   "cell_type": "code",
   "execution_count": 7,
   "metadata": {
    "ExecuteTime": {
     "end_time": "2018-10-19T09:44:03.117294Z",
     "start_time": "2018-10-19T09:44:02.845294Z"
    }
   },
   "outputs": [],
   "source": [
    "data['1ST_O_COUNTER'] = data['OSP_KO_COUNT_NET'].groupby(data['CUS_N_KEY_CUSTOMER']).transform('min')"
   ]
  },
  {
   "cell_type": "code",
   "execution_count": 8,
   "metadata": {
    "ExecuteTime": {
     "end_time": "2018-10-19T09:44:06.856294Z",
     "start_time": "2018-10-19T09:44:03.119294Z"
    }
   },
   "outputs": [],
   "source": [
    "data['D28'] = data['FIRST_O_DATE'] + timedelta(days = 28)\n",
    "data['D56'] = data['FIRST_O_DATE'] + timedelta(days = 56)\n",
    "data['D84'] = data['FIRST_O_DATE'] + timedelta(days = 84)\n",
    "data['D168'] = data['FIRST_O_DATE'] + timedelta(days = 168)\n",
    "data['D252'] = data['FIRST_O_DATE'] + timedelta(days = 252)\n",
    "data['D336'] = data['FIRST_O_DATE'] + timedelta(days = 336)"
   ]
  },
  {
   "cell_type": "code",
   "execution_count": 9,
   "metadata": {
    "ExecuteTime": {
     "end_time": "2018-10-19T09:44:06.863294Z",
     "start_time": "2018-10-19T09:44:06.858294Z"
    }
   },
   "outputs": [
    {
     "data": {
      "text/plain": [
       "Index(['SCM_N_ORDER_POS_NR', 'SCM_N_ORDER_NR', 'TDT_T_KEY_ORDER_DATE',\n",
       "       'THR_C_KEY_ORDER_HOUR', 'SIT_N_KEY_SITE', 'CUS_N_KEY_CUSTOMER',\n",
       "       'SCM_SALES_BMF', 'SCM_D_FINANCE_CM1', 'SCM_D_FINANCE_CM2',\n",
       "       'SCM_D_ORIG_FINANCE_ORDER_NET', 'SCM_AP_ID', 'SCM_AS_ID',\n",
       "       'SCM_MASTER_AP_ID', 'OSP_KO_COUNT_NET', 'OSP_3_LEAD_P_PG_ID',\n",
       "       'OSP_3_LEAD_P_PG_SHARE', 'OSP_4_LEAD_P_PG_ID', 'OSP_4_LEAD_P_PG_SHARE',\n",
       "       'CZP_START_DATE', 'CZP_EXPIRY_DATE', 'CZP_ZTQ_ID', 'CZP_PERCENTAGE',\n",
       "       'CZP_PRICE', 'ORDER_DATETIME', 'WEEK_NUMBER', 'MONTH_NUMBER',\n",
       "       'FIRST_O_DATE', 'LAST_O_DATE', '1ST_O_COUNTER', 'D28', 'D56', 'D84',\n",
       "       'D168', 'D252', 'D336'],\n",
       "      dtype='object')"
      ]
     },
     "execution_count": 9,
     "metadata": {},
     "output_type": "execute_result"
    }
   ],
   "source": [
    "data.columns"
   ]
  },
  {
   "cell_type": "code",
   "execution_count": 10,
   "metadata": {
    "ExecuteTime": {
     "end_time": "2018-10-19T09:44:06.876294Z",
     "start_time": "2018-10-19T09:44:06.865294Z"
    }
   },
   "outputs": [],
   "source": [
    "agg_ops = {'TDT_T_KEY_ORDER_DATE': min,\n",
    "          'CUS_N_KEY_CUSTOMER': min,\n",
    "          'CZP_ZTQ_ID': min, \n",
    "          'SCM_SALES_BMF': sum,\n",
    "          'SCM_D_FINANCE_CM1': sum,\n",
    "          'SCM_D_FINANCE_CM2': sum,\n",
    "          'SCM_D_ORIG_FINANCE_ORDER_NET': sum,\n",
    "          'OSP_KO_COUNT_NET': min,\n",
    "          'CZP_START_DATE': min,\n",
    "          'CZP_EXPIRY_DATE': min,\n",
    "          'ORDER_DATETIME': min,\n",
    "          'FIRST_O_DATE': min,\n",
    "          'LAST_O_DATE': min,\n",
    "          '1ST_O_COUNTER': min,\n",
    "          'D28': min,\n",
    "          'D56': min,\n",
    "          'D84': min,\n",
    "          'D168': min,\n",
    "          'D252': min,\n",
    "          'D336': min\n",
    "          }"
   ]
  },
  {
   "cell_type": "code",
   "execution_count": 11,
   "metadata": {
    "ExecuteTime": {
     "end_time": "2018-10-19T09:44:08.854294Z",
     "start_time": "2018-10-19T09:44:06.879294Z"
    }
   },
   "outputs": [],
   "source": [
    "orders = data.groupby('SCM_N_ORDER_NR', as_index=False).agg(agg_ops)"
   ]
  },
  {
   "cell_type": "code",
   "execution_count": 12,
   "metadata": {
    "ExecuteTime": {
     "end_time": "2018-10-19T09:44:08.938294Z",
     "start_time": "2018-10-19T09:44:08.856294Z"
    }
   },
   "outputs": [
    {
     "data": {
      "text/plain": [
       "(680828, 680828)"
      ]
     },
     "execution_count": 12,
     "metadata": {},
     "output_type": "execute_result"
    }
   ],
   "source": [
    "data['SCM_N_ORDER_NR'].nunique(), len(orders)"
   ]
  },
  {
   "cell_type": "code",
   "execution_count": 13,
   "metadata": {
    "ExecuteTime": {
     "end_time": "2018-10-19T09:44:08.963294Z",
     "start_time": "2018-10-19T09:44:08.940294Z"
    }
   },
   "outputs": [
    {
     "data": {
      "text/html": [
       "<div>\n",
       "<style scoped>\n",
       "    .dataframe tbody tr th:only-of-type {\n",
       "        vertical-align: middle;\n",
       "    }\n",
       "\n",
       "    .dataframe tbody tr th {\n",
       "        vertical-align: top;\n",
       "    }\n",
       "\n",
       "    .dataframe thead th {\n",
       "        text-align: right;\n",
       "    }\n",
       "</style>\n",
       "<table border=\"1\" class=\"dataframe\">\n",
       "  <thead>\n",
       "    <tr style=\"text-align: right;\">\n",
       "      <th></th>\n",
       "      <th>SCM_N_ORDER_NR</th>\n",
       "      <th>TDT_T_KEY_ORDER_DATE</th>\n",
       "      <th>CUS_N_KEY_CUSTOMER</th>\n",
       "      <th>CZP_ZTQ_ID</th>\n",
       "      <th>SCM_SALES_BMF</th>\n",
       "      <th>SCM_D_FINANCE_CM1</th>\n",
       "      <th>SCM_D_FINANCE_CM2</th>\n",
       "      <th>SCM_D_ORIG_FINANCE_ORDER_NET</th>\n",
       "      <th>OSP_KO_COUNT_NET</th>\n",
       "      <th>CZP_START_DATE</th>\n",
       "      <th>...</th>\n",
       "      <th>ORDER_DATETIME</th>\n",
       "      <th>FIRST_O_DATE</th>\n",
       "      <th>LAST_O_DATE</th>\n",
       "      <th>1ST_O_COUNTER</th>\n",
       "      <th>D28</th>\n",
       "      <th>D56</th>\n",
       "      <th>D84</th>\n",
       "      <th>D168</th>\n",
       "      <th>D252</th>\n",
       "      <th>D336</th>\n",
       "    </tr>\n",
       "  </thead>\n",
       "  <tbody>\n",
       "    <tr>\n",
       "      <th>680823</th>\n",
       "      <td>120154101</td>\n",
       "      <td>2018-09-30</td>\n",
       "      <td>9016157</td>\n",
       "      <td>54</td>\n",
       "      <td>59.97</td>\n",
       "      <td>18.2057</td>\n",
       "      <td>10.2509</td>\n",
       "      <td>49.1557</td>\n",
       "      <td>73</td>\n",
       "      <td>2017-08-03 02:31:00</td>\n",
       "      <td>...</td>\n",
       "      <td>2018-09-30 23:54:00</td>\n",
       "      <td>2017-10-01</td>\n",
       "      <td>2018-09-30</td>\n",
       "      <td>56</td>\n",
       "      <td>2017-10-29</td>\n",
       "      <td>2017-11-26</td>\n",
       "      <td>2017-12-24</td>\n",
       "      <td>2018-03-18</td>\n",
       "      <td>2018-06-10</td>\n",
       "      <td>2018-09-02</td>\n",
       "    </tr>\n",
       "    <tr>\n",
       "      <th>680824</th>\n",
       "      <td>120154149</td>\n",
       "      <td>2018-09-30</td>\n",
       "      <td>6191608</td>\n",
       "      <td>52</td>\n",
       "      <td>213.37</td>\n",
       "      <td>63.2534</td>\n",
       "      <td>50.4698</td>\n",
       "      <td>174.8934</td>\n",
       "      <td>20</td>\n",
       "      <td>2018-04-29 00:00:00</td>\n",
       "      <td>...</td>\n",
       "      <td>2018-09-30 23:57:00</td>\n",
       "      <td>2018-01-27</td>\n",
       "      <td>2018-09-30</td>\n",
       "      <td>15</td>\n",
       "      <td>2018-02-24</td>\n",
       "      <td>2018-03-24</td>\n",
       "      <td>2018-04-21</td>\n",
       "      <td>2018-07-14</td>\n",
       "      <td>2018-10-06</td>\n",
       "      <td>2018-12-29</td>\n",
       "    </tr>\n",
       "    <tr>\n",
       "      <th>680825</th>\n",
       "      <td>120154185</td>\n",
       "      <td>2018-09-30</td>\n",
       "      <td>16655954</td>\n",
       "      <td>51</td>\n",
       "      <td>51.39</td>\n",
       "      <td>12.8430</td>\n",
       "      <td>4.7291</td>\n",
       "      <td>42.1230</td>\n",
       "      <td>23</td>\n",
       "      <td>2018-06-01 00:00:00</td>\n",
       "      <td>...</td>\n",
       "      <td>2018-09-30 23:53:00</td>\n",
       "      <td>2017-10-06</td>\n",
       "      <td>2018-09-30</td>\n",
       "      <td>10</td>\n",
       "      <td>2017-11-03</td>\n",
       "      <td>2017-12-01</td>\n",
       "      <td>2017-12-29</td>\n",
       "      <td>2018-03-23</td>\n",
       "      <td>2018-06-15</td>\n",
       "      <td>2018-09-07</td>\n",
       "    </tr>\n",
       "    <tr>\n",
       "      <th>680826</th>\n",
       "      <td>120154245</td>\n",
       "      <td>2018-09-30</td>\n",
       "      <td>12890111</td>\n",
       "      <td>54</td>\n",
       "      <td>189.99</td>\n",
       "      <td>49.6195</td>\n",
       "      <td>33.0219</td>\n",
       "      <td>155.7295</td>\n",
       "      <td>1910</td>\n",
       "      <td>2016-10-14 12:59:00</td>\n",
       "      <td>...</td>\n",
       "      <td>2018-09-30 23:55:00</td>\n",
       "      <td>2017-10-01</td>\n",
       "      <td>2018-09-30</td>\n",
       "      <td>1358</td>\n",
       "      <td>2017-10-29</td>\n",
       "      <td>2017-11-26</td>\n",
       "      <td>2017-12-24</td>\n",
       "      <td>2018-03-18</td>\n",
       "      <td>2018-06-10</td>\n",
       "      <td>2018-09-02</td>\n",
       "    </tr>\n",
       "    <tr>\n",
       "      <th>680827</th>\n",
       "      <td>120154377</td>\n",
       "      <td>2018-09-30</td>\n",
       "      <td>14584967</td>\n",
       "      <td>52</td>\n",
       "      <td>44.63</td>\n",
       "      <td>19.7319</td>\n",
       "      <td>9.0542</td>\n",
       "      <td>36.5819</td>\n",
       "      <td>7</td>\n",
       "      <td>2017-08-20 15:45:00</td>\n",
       "      <td>...</td>\n",
       "      <td>2018-09-30 23:59:00</td>\n",
       "      <td>2018-08-18</td>\n",
       "      <td>2018-09-30</td>\n",
       "      <td>5</td>\n",
       "      <td>2018-09-15</td>\n",
       "      <td>2018-10-13</td>\n",
       "      <td>2018-11-10</td>\n",
       "      <td>2019-02-02</td>\n",
       "      <td>2019-04-27</td>\n",
       "      <td>2019-07-20</td>\n",
       "    </tr>\n",
       "  </tbody>\n",
       "</table>\n",
       "<p>5 rows × 21 columns</p>\n",
       "</div>"
      ],
      "text/plain": [
       "        SCM_N_ORDER_NR TDT_T_KEY_ORDER_DATE  CUS_N_KEY_CUSTOMER  CZP_ZTQ_ID  \\\n",
       "680823       120154101           2018-09-30             9016157          54   \n",
       "680824       120154149           2018-09-30             6191608          52   \n",
       "680825       120154185           2018-09-30            16655954          51   \n",
       "680826       120154245           2018-09-30            12890111          54   \n",
       "680827       120154377           2018-09-30            14584967          52   \n",
       "\n",
       "        SCM_SALES_BMF  SCM_D_FINANCE_CM1  SCM_D_FINANCE_CM2  \\\n",
       "680823          59.97            18.2057            10.2509   \n",
       "680824         213.37            63.2534            50.4698   \n",
       "680825          51.39            12.8430             4.7291   \n",
       "680826         189.99            49.6195            33.0219   \n",
       "680827          44.63            19.7319             9.0542   \n",
       "\n",
       "        SCM_D_ORIG_FINANCE_ORDER_NET  OSP_KO_COUNT_NET      CZP_START_DATE  \\\n",
       "680823                       49.1557                73 2017-08-03 02:31:00   \n",
       "680824                      174.8934                20 2018-04-29 00:00:00   \n",
       "680825                       42.1230                23 2018-06-01 00:00:00   \n",
       "680826                      155.7295              1910 2016-10-14 12:59:00   \n",
       "680827                       36.5819                 7 2017-08-20 15:45:00   \n",
       "\n",
       "          ...          ORDER_DATETIME FIRST_O_DATE LAST_O_DATE 1ST_O_COUNTER  \\\n",
       "680823    ...     2018-09-30 23:54:00   2017-10-01  2018-09-30            56   \n",
       "680824    ...     2018-09-30 23:57:00   2018-01-27  2018-09-30            15   \n",
       "680825    ...     2018-09-30 23:53:00   2017-10-06  2018-09-30            10   \n",
       "680826    ...     2018-09-30 23:55:00   2017-10-01  2018-09-30          1358   \n",
       "680827    ...     2018-09-30 23:59:00   2018-08-18  2018-09-30             5   \n",
       "\n",
       "              D28        D56        D84       D168       D252       D336  \n",
       "680823 2017-10-29 2017-11-26 2017-12-24 2018-03-18 2018-06-10 2018-09-02  \n",
       "680824 2018-02-24 2018-03-24 2018-04-21 2018-07-14 2018-10-06 2018-12-29  \n",
       "680825 2017-11-03 2017-12-01 2017-12-29 2018-03-23 2018-06-15 2018-09-07  \n",
       "680826 2017-10-29 2017-11-26 2017-12-24 2018-03-18 2018-06-10 2018-09-02  \n",
       "680827 2018-09-15 2018-10-13 2018-11-10 2019-02-02 2019-04-27 2019-07-20  \n",
       "\n",
       "[5 rows x 21 columns]"
      ]
     },
     "execution_count": 13,
     "metadata": {},
     "output_type": "execute_result"
    }
   ],
   "source": [
    "orders.tail()"
   ]
  },
  {
   "cell_type": "code",
   "execution_count": 14,
   "metadata": {
    "ExecuteTime": {
     "end_time": "2018-10-19T09:44:09.025294Z",
     "start_time": "2018-10-19T09:44:08.965294Z"
    }
   },
   "outputs": [],
   "source": [
    "orders['OK_28D'] = (orders['TDT_T_KEY_ORDER_DATE'] <= orders['D28']) * 1\n",
    "orders['OK_56D'] = (orders['TDT_T_KEY_ORDER_DATE'] <= orders['D56']) * 1\n",
    "orders['OK_84D'] = (orders['TDT_T_KEY_ORDER_DATE'] <= orders['D84']) * 1\n",
    "orders['OK_168D'] = (orders['TDT_T_KEY_ORDER_DATE'] <= orders['D168']) * 1\n",
    "orders['OK_252D'] = (orders['TDT_T_KEY_ORDER_DATE'] <= orders['D252']) * 1\n",
    "orders['OK_336D'] = (orders['TDT_T_KEY_ORDER_DATE'] <= orders['D336']) * 1"
   ]
  },
  {
   "cell_type": "code",
   "execution_count": 15,
   "metadata": {
    "ExecuteTime": {
     "end_time": "2018-10-19T09:44:09.069294Z",
     "start_time": "2018-10-19T09:44:09.026294Z"
    }
   },
   "outputs": [],
   "source": [
    "orders['COUNTER_28D'] = orders['OK_28D'] * orders['OSP_KO_COUNT_NET']\n",
    "orders['COUNTER_56D'] = orders['OK_56D'] * orders['OSP_KO_COUNT_NET']\n",
    "orders['COUNTER_84D'] = orders['OK_84D'] * orders['OSP_KO_COUNT_NET']\n",
    "orders['COUNTER_168D'] = orders['OK_168D'] * orders['OSP_KO_COUNT_NET']\n",
    "orders['COUNTER_252D'] = orders['OK_252D'] * orders['OSP_KO_COUNT_NET']\n",
    "orders['COUNTER_336D'] = orders['OK_336D'] * orders['OSP_KO_COUNT_NET']"
   ]
  },
  {
   "cell_type": "code",
   "execution_count": 16,
   "metadata": {
    "ExecuteTime": {
     "end_time": "2018-10-19T09:44:09.592294Z",
     "start_time": "2018-10-19T09:44:09.070294Z"
    }
   },
   "outputs": [],
   "source": [
    "orders['MAX_COUNTER_28D'] = orders['COUNTER_28D'].groupby(orders['CUS_N_KEY_CUSTOMER']).transform('max')\n",
    "orders['MAX_COUNTER_56D'] = orders['COUNTER_56D'].groupby(orders['CUS_N_KEY_CUSTOMER']).transform('max')\n",
    "orders['MAX_COUNTER_84D'] = orders['COUNTER_84D'].groupby(orders['CUS_N_KEY_CUSTOMER']).transform('max')\n",
    "orders['MAX_COUNTER_168D'] = orders['COUNTER_168D'].groupby(orders['CUS_N_KEY_CUSTOMER']).transform('max')\n",
    "orders['MAX_COUNTER_252D'] = orders['COUNTER_252D'].groupby(orders['CUS_N_KEY_CUSTOMER']).transform('max')\n",
    "orders['MAX_COUNTER_336D'] = orders['COUNTER_336D'].groupby(orders['CUS_N_KEY_CUSTOMER']).transform('max')"
   ]
  },
  {
   "cell_type": "code",
   "execution_count": 17,
   "metadata": {
    "ExecuteTime": {
     "end_time": "2018-10-19T09:44:09.629294Z",
     "start_time": "2018-10-19T09:44:09.593294Z"
    }
   },
   "outputs": [],
   "source": [
    "orders['RR_28D'] = (orders['MAX_COUNTER_28D'] > orders['1ST_O_COUNTER']) * 1\n",
    "orders['RR_56D'] = (orders['MAX_COUNTER_56D'] > orders['MAX_COUNTER_28D']) * 1\n",
    "orders['RR_84D'] = (orders['MAX_COUNTER_84D'] > orders['MAX_COUNTER_56D']) * 1 \n",
    "orders['RR_168D'] = (orders['MAX_COUNTER_168D'] > orders['MAX_COUNTER_84D']) * 1\n",
    "orders['RR_252D'] = (orders['MAX_COUNTER_252D'] > orders['MAX_COUNTER_168D']) * 1 \n",
    "orders['RR_336D'] = (orders['MAX_COUNTER_336D'] > orders['MAX_COUNTER_168D']) * 1"
   ]
  },
  {
   "cell_type": "code",
   "execution_count": 18,
   "metadata": {
    "ExecuteTime": {
     "end_time": "2018-10-19T09:44:09.636294Z",
     "start_time": "2018-10-19T09:44:09.631294Z"
    }
   },
   "outputs": [
    {
     "data": {
      "text/plain": [
       "Index(['SCM_N_ORDER_NR', 'TDT_T_KEY_ORDER_DATE', 'CUS_N_KEY_CUSTOMER',\n",
       "       'CZP_ZTQ_ID', 'SCM_SALES_BMF', 'SCM_D_FINANCE_CM1', 'SCM_D_FINANCE_CM2',\n",
       "       'SCM_D_ORIG_FINANCE_ORDER_NET', 'OSP_KO_COUNT_NET', 'CZP_START_DATE',\n",
       "       'CZP_EXPIRY_DATE', 'ORDER_DATETIME', 'FIRST_O_DATE', 'LAST_O_DATE',\n",
       "       '1ST_O_COUNTER', 'D28', 'D56', 'D84', 'D168', 'D252', 'D336', 'OK_28D',\n",
       "       'OK_56D', 'OK_84D', 'OK_168D', 'OK_252D', 'OK_336D', 'COUNTER_28D',\n",
       "       'COUNTER_56D', 'COUNTER_84D', 'COUNTER_168D', 'COUNTER_252D',\n",
       "       'COUNTER_336D', 'MAX_COUNTER_28D', 'MAX_COUNTER_56D', 'MAX_COUNTER_84D',\n",
       "       'MAX_COUNTER_168D', 'MAX_COUNTER_252D', 'MAX_COUNTER_336D', 'RR_28D',\n",
       "       'RR_56D', 'RR_84D', 'RR_168D', 'RR_252D', 'RR_336D'],\n",
       "      dtype='object')"
      ]
     },
     "execution_count": 18,
     "metadata": {},
     "output_type": "execute_result"
    }
   ],
   "source": [
    "orders.columns"
   ]
  },
  {
   "cell_type": "code",
   "execution_count": 19,
   "metadata": {
    "ExecuteTime": {
     "end_time": "2018-10-19T09:44:09.650294Z",
     "start_time": "2018-10-19T09:44:09.638294Z"
    }
   },
   "outputs": [],
   "source": [
    "agg_ord_ops = {'CZP_ZTQ_ID': 'unique',\n",
    "              'SCM_N_ORDER_NR': len,\n",
    "              'SCM_SALES_BMF': [sum, lambda x: list(np.round(x, 2))],\n",
    "              'SCM_D_FINANCE_CM1': [sum, lambda x: list(np.round(x, 2))],\n",
    "              'SCM_D_FINANCE_CM2': [sum, lambda x: list(np.round(x, 2))],\n",
    "              'SCM_D_ORIG_FINANCE_ORDER_NET': [sum, lambda x: list(np.round(x, 2))],\n",
    "              'OSP_KO_COUNT_NET': lambda x: list(x),\n",
    "              'CZP_START_DATE': 'unique',\n",
    "              'CZP_EXPIRY_DATE': 'unique',\n",
    "              'FIRST_O_DATE': min,\n",
    "              'LAST_O_DATE': min,\n",
    "              '1ST_O_COUNTER': min,\n",
    "              'COUNTER_28D': max,\n",
    "              'COUNTER_56D': max,\n",
    "              'COUNTER_84D': max,\n",
    "              'COUNTER_168D': max,\n",
    "              'COUNTER_252D': max,\n",
    "              'COUNTER_336D': max\n",
    "              }"
   ]
  },
  {
   "cell_type": "code",
   "execution_count": 20,
   "metadata": {
    "ExecuteTime": {
     "end_time": "2018-10-19T09:45:35.456294Z",
     "start_time": "2018-10-19T09:44:09.652294Z"
    }
   },
   "outputs": [],
   "source": [
    "customers = orders.groupby('CUS_N_KEY_CUSTOMER', as_index=False).agg(agg_ord_ops).round(2)"
   ]
  },
  {
   "cell_type": "code",
   "execution_count": 21,
   "metadata": {
    "ExecuteTime": {
     "end_time": "2018-10-19T09:45:35.462294Z",
     "start_time": "2018-10-19T09:45:35.457294Z"
    }
   },
   "outputs": [],
   "source": [
    "customers.columns = ['_'.join(tup).rstrip('_') for tup in customers.columns.values]"
   ]
  },
  {
   "cell_type": "code",
   "execution_count": 22,
   "metadata": {
    "ExecuteTime": {
     "end_time": "2018-10-19T09:45:35.514294Z",
     "start_time": "2018-10-19T09:45:35.464294Z"
    }
   },
   "outputs": [
    {
     "data": {
      "text/html": [
       "<div>\n",
       "<style scoped>\n",
       "    .dataframe tbody tr th:only-of-type {\n",
       "        vertical-align: middle;\n",
       "    }\n",
       "\n",
       "    .dataframe tbody tr th {\n",
       "        vertical-align: top;\n",
       "    }\n",
       "\n",
       "    .dataframe thead th {\n",
       "        text-align: right;\n",
       "    }\n",
       "</style>\n",
       "<table border=\"1\" class=\"dataframe\">\n",
       "  <thead>\n",
       "    <tr style=\"text-align: right;\">\n",
       "      <th></th>\n",
       "      <th>CUS_N_KEY_CUSTOMER</th>\n",
       "      <th>CZP_ZTQ_ID_unique</th>\n",
       "      <th>SCM_N_ORDER_NR_len</th>\n",
       "      <th>SCM_SALES_BMF_sum</th>\n",
       "      <th>SCM_SALES_BMF_&lt;lambda&gt;</th>\n",
       "      <th>SCM_D_FINANCE_CM1_sum</th>\n",
       "      <th>SCM_D_FINANCE_CM1_&lt;lambda&gt;</th>\n",
       "      <th>SCM_D_FINANCE_CM2_sum</th>\n",
       "      <th>SCM_D_FINANCE_CM2_&lt;lambda&gt;</th>\n",
       "      <th>SCM_D_ORIG_FINANCE_ORDER_NET_sum</th>\n",
       "      <th>...</th>\n",
       "      <th>CZP_EXPIRY_DATE_unique</th>\n",
       "      <th>FIRST_O_DATE_min</th>\n",
       "      <th>LAST_O_DATE_min</th>\n",
       "      <th>1ST_O_COUNTER_min</th>\n",
       "      <th>COUNTER_28D_max</th>\n",
       "      <th>COUNTER_56D_max</th>\n",
       "      <th>COUNTER_84D_max</th>\n",
       "      <th>COUNTER_168D_max</th>\n",
       "      <th>COUNTER_252D_max</th>\n",
       "      <th>COUNTER_336D_max</th>\n",
       "    </tr>\n",
       "  </thead>\n",
       "  <tbody>\n",
       "    <tr>\n",
       "      <th>0</th>\n",
       "      <td>70860</td>\n",
       "      <td>[51]</td>\n",
       "      <td>2</td>\n",
       "      <td>181.14</td>\n",
       "      <td>[65.93, 115.21]</td>\n",
       "      <td>41.25</td>\n",
       "      <td>[18.82, 22.42]</td>\n",
       "      <td>22.78</td>\n",
       "      <td>[11.02, 11.75]</td>\n",
       "      <td>148.48</td>\n",
       "      <td>...</td>\n",
       "      <td>[2018-05-16T23:59:00.000000000]</td>\n",
       "      <td>2017-12-01</td>\n",
       "      <td>2018-01-30</td>\n",
       "      <td>106</td>\n",
       "      <td>106</td>\n",
       "      <td>106</td>\n",
       "      <td>107</td>\n",
       "      <td>107</td>\n",
       "      <td>107</td>\n",
       "      <td>107</td>\n",
       "    </tr>\n",
       "    <tr>\n",
       "      <th>1</th>\n",
       "      <td>209948</td>\n",
       "      <td>[54]</td>\n",
       "      <td>2</td>\n",
       "      <td>166.15</td>\n",
       "      <td>[105.88, 60.27]</td>\n",
       "      <td>36.22</td>\n",
       "      <td>[21.45, 14.77]</td>\n",
       "      <td>19.97</td>\n",
       "      <td>[12.98, 6.98]</td>\n",
       "      <td>136.19</td>\n",
       "      <td>...</td>\n",
       "      <td>[2018-01-09T23:59:00.000000000]</td>\n",
       "      <td>2017-11-10</td>\n",
       "      <td>2017-11-10</td>\n",
       "      <td>259</td>\n",
       "      <td>260</td>\n",
       "      <td>260</td>\n",
       "      <td>260</td>\n",
       "      <td>260</td>\n",
       "      <td>260</td>\n",
       "      <td>260</td>\n",
       "    </tr>\n",
       "    <tr>\n",
       "      <th>2</th>\n",
       "      <td>351905</td>\n",
       "      <td>[51, 52]</td>\n",
       "      <td>10</td>\n",
       "      <td>1376.06</td>\n",
       "      <td>[121.63, 189.05, 186.06, 123.52, 99.75, 138.61...</td>\n",
       "      <td>350.22</td>\n",
       "      <td>[27.72, 42.67, 38.05, 34.63, 22.65, 41.69, 29....</td>\n",
       "      <td>224.50</td>\n",
       "      <td>[19.24, 23.75, 28.58, 17.93, 13.23, 25.36, 18....</td>\n",
       "      <td>1130.95</td>\n",
       "      <td>...</td>\n",
       "      <td>[2018-06-16T23:59:00.000000000, 2021-06-16T00:...</td>\n",
       "      <td>2017-10-20</td>\n",
       "      <td>2018-09-13</td>\n",
       "      <td>137</td>\n",
       "      <td>138</td>\n",
       "      <td>139</td>\n",
       "      <td>140</td>\n",
       "      <td>141</td>\n",
       "      <td>144</td>\n",
       "      <td>146</td>\n",
       "    </tr>\n",
       "    <tr>\n",
       "      <th>3</th>\n",
       "      <td>606724</td>\n",
       "      <td>[51]</td>\n",
       "      <td>1</td>\n",
       "      <td>23.93</td>\n",
       "      <td>[23.93]</td>\n",
       "      <td>9.57</td>\n",
       "      <td>[9.57]</td>\n",
       "      <td>3.63</td>\n",
       "      <td>[3.63]</td>\n",
       "      <td>19.61</td>\n",
       "      <td>...</td>\n",
       "      <td>[2019-03-08T23:59:00.000000000]</td>\n",
       "      <td>2018-03-30</td>\n",
       "      <td>2018-03-30</td>\n",
       "      <td>19</td>\n",
       "      <td>19</td>\n",
       "      <td>19</td>\n",
       "      <td>19</td>\n",
       "      <td>19</td>\n",
       "      <td>19</td>\n",
       "      <td>19</td>\n",
       "    </tr>\n",
       "    <tr>\n",
       "      <th>4</th>\n",
       "      <td>616228</td>\n",
       "      <td>[51]</td>\n",
       "      <td>5</td>\n",
       "      <td>228.73</td>\n",
       "      <td>[62.98, 37.28, 34.41, 51.37, 42.69]</td>\n",
       "      <td>57.69</td>\n",
       "      <td>[19.56, 7.44, 8.03, 14.95, 7.71]</td>\n",
       "      <td>15.57</td>\n",
       "      <td>[5.24, 1.33, 1.11, 6.83, 1.05]</td>\n",
       "      <td>187.48</td>\n",
       "      <td>...</td>\n",
       "      <td>[2018-05-02T23:59:00.000000000, 2019-07-02T00:...</td>\n",
       "      <td>2017-11-01</td>\n",
       "      <td>2018-07-19</td>\n",
       "      <td>115</td>\n",
       "      <td>115</td>\n",
       "      <td>117</td>\n",
       "      <td>117</td>\n",
       "      <td>117</td>\n",
       "      <td>118</td>\n",
       "      <td>119</td>\n",
       "    </tr>\n",
       "  </tbody>\n",
       "</table>\n",
       "<p>5 rows × 23 columns</p>\n",
       "</div>"
      ],
      "text/plain": [
       "   CUS_N_KEY_CUSTOMER CZP_ZTQ_ID_unique  SCM_N_ORDER_NR_len  \\\n",
       "0               70860              [51]                   2   \n",
       "1              209948              [54]                   2   \n",
       "2              351905          [51, 52]                  10   \n",
       "3              606724              [51]                   1   \n",
       "4              616228              [51]                   5   \n",
       "\n",
       "   SCM_SALES_BMF_sum                             SCM_SALES_BMF_<lambda>  \\\n",
       "0             181.14                                    [65.93, 115.21]   \n",
       "1             166.15                                    [105.88, 60.27]   \n",
       "2            1376.06  [121.63, 189.05, 186.06, 123.52, 99.75, 138.61...   \n",
       "3              23.93                                            [23.93]   \n",
       "4             228.73                [62.98, 37.28, 34.41, 51.37, 42.69]   \n",
       "\n",
       "   SCM_D_FINANCE_CM1_sum                         SCM_D_FINANCE_CM1_<lambda>  \\\n",
       "0                  41.25                                     [18.82, 22.42]   \n",
       "1                  36.22                                     [21.45, 14.77]   \n",
       "2                 350.22  [27.72, 42.67, 38.05, 34.63, 22.65, 41.69, 29....   \n",
       "3                   9.57                                             [9.57]   \n",
       "4                  57.69                   [19.56, 7.44, 8.03, 14.95, 7.71]   \n",
       "\n",
       "   SCM_D_FINANCE_CM2_sum                         SCM_D_FINANCE_CM2_<lambda>  \\\n",
       "0                  22.78                                     [11.02, 11.75]   \n",
       "1                  19.97                                      [12.98, 6.98]   \n",
       "2                 224.50  [19.24, 23.75, 28.58, 17.93, 13.23, 25.36, 18....   \n",
       "3                   3.63                                             [3.63]   \n",
       "4                  15.57                     [5.24, 1.33, 1.11, 6.83, 1.05]   \n",
       "\n",
       "   SCM_D_ORIG_FINANCE_ORDER_NET_sum        ...         \\\n",
       "0                            148.48        ...          \n",
       "1                            136.19        ...          \n",
       "2                           1130.95        ...          \n",
       "3                             19.61        ...          \n",
       "4                            187.48        ...          \n",
       "\n",
       "                              CZP_EXPIRY_DATE_unique FIRST_O_DATE_min  \\\n",
       "0                    [2018-05-16T23:59:00.000000000]       2017-12-01   \n",
       "1                    [2018-01-09T23:59:00.000000000]       2017-11-10   \n",
       "2  [2018-06-16T23:59:00.000000000, 2021-06-16T00:...       2017-10-20   \n",
       "3                    [2019-03-08T23:59:00.000000000]       2018-03-30   \n",
       "4  [2018-05-02T23:59:00.000000000, 2019-07-02T00:...       2017-11-01   \n",
       "\n",
       "  LAST_O_DATE_min 1ST_O_COUNTER_min COUNTER_28D_max COUNTER_56D_max  \\\n",
       "0      2018-01-30               106             106             106   \n",
       "1      2017-11-10               259             260             260   \n",
       "2      2018-09-13               137             138             139   \n",
       "3      2018-03-30                19              19              19   \n",
       "4      2018-07-19               115             115             117   \n",
       "\n",
       "   COUNTER_84D_max  COUNTER_168D_max  COUNTER_252D_max  COUNTER_336D_max  \n",
       "0              107               107               107               107  \n",
       "1              260               260               260               260  \n",
       "2              140               141               144               146  \n",
       "3               19                19                19                19  \n",
       "4              117               117               118               119  \n",
       "\n",
       "[5 rows x 23 columns]"
      ]
     },
     "execution_count": 22,
     "metadata": {},
     "output_type": "execute_result"
    }
   ],
   "source": [
    "customers.head()"
   ]
  },
  {
   "cell_type": "code",
   "execution_count": 23,
   "metadata": {
    "ExecuteTime": {
     "end_time": "2018-10-19T09:45:36.389294Z",
     "start_time": "2018-10-19T09:45:35.516294Z"
    }
   },
   "outputs": [],
   "source": [
    "customers['DIFF_DAYS'] = (customers['LAST_O_DATE_min'] - customers['FIRST_O_DATE_min']).dt.days"
   ]
  },
  {
   "cell_type": "code",
   "execution_count": 24,
   "metadata": {
    "ExecuteTime": {
     "end_time": "2018-10-19T09:45:36.412294Z",
     "start_time": "2018-10-19T09:45:36.391294Z"
    }
   },
   "outputs": [],
   "source": [
    "customers['SUIT_28D'] = ((customers['LAST_O_DATE_min'].max() - timedelta(days=28)) >= customers['FIRST_O_DATE_min']) * 1\n",
    "customers['SUIT_56D'] = ((customers['LAST_O_DATE_min'].max() - timedelta(days=56)) >= customers['FIRST_O_DATE_min']) * 1\n",
    "customers['SUIT_84D'] = ((customers['LAST_O_DATE_min'].max() - timedelta(days=84)) >= customers['FIRST_O_DATE_min']) * 1\n",
    "customers['SUIT_168D'] = ((customers['LAST_O_DATE_min'].max() - timedelta(days=168)) >= customers['FIRST_O_DATE_min']) * 1\n",
    "customers['SUIT_252D'] = ((customers['LAST_O_DATE_min'].max() - timedelta(days=252)) >= customers['FIRST_O_DATE_min']) * 1\n",
    "customers['SUIT_336D'] = ((customers['LAST_O_DATE_min'].max() - timedelta(days=336)) >= customers['FIRST_O_DATE_min']) * 1"
   ]
  },
  {
   "cell_type": "code",
   "execution_count": 25,
   "metadata": {
    "ExecuteTime": {
     "end_time": "2018-10-19T09:45:36.428294Z",
     "start_time": "2018-10-19T09:45:36.414294Z"
    }
   },
   "outputs": [],
   "source": [
    "customers['R28D'] = (customers['COUNTER_28D_max'] > customers['1ST_O_COUNTER_min']) * 1\n",
    "customers['R56D'] = (customers['COUNTER_56D_max'] > customers['COUNTER_28D_max']) * 1\n",
    "customers['R84D'] = (customers['COUNTER_84D_max'] > customers['COUNTER_56D_max']) * 1\n",
    "customers['R168D'] = (customers['COUNTER_168D_max'] > customers['COUNTER_84D_max']) * 1\n",
    "customers['R252D'] = (customers['COUNTER_252D_max'] > customers['COUNTER_168D_max']) * 1\n",
    "customers['R336D'] = (customers['COUNTER_336D_max'] > customers['COUNTER_252D_max']) * 1"
   ]
  },
  {
   "cell_type": "code",
   "execution_count": 26,
   "metadata": {
    "ExecuteTime": {
     "end_time": "2018-10-19T09:45:36.444294Z",
     "start_time": "2018-10-19T09:45:36.431294Z"
    }
   },
   "outputs": [],
   "source": [
    "customers['RR_28D'] = customers['R28D']\n",
    "customers['RR_56D'] = customers['R56D'] | customers['RR_28D']\n",
    "customers['RR_84D'] = customers['R84D'] | customers['RR_56D']\n",
    "customers['RR_168D'] = customers['R168D'] | customers['RR_84D']\n",
    "customers['RR_252D'] = customers['R252D'] | customers['RR_168D']\n",
    "customers['RR_336D'] = customers['R336D'] | customers['RR_252D']"
   ]
  },
  {
   "cell_type": "code",
   "execution_count": 27,
   "metadata": {
    "ExecuteTime": {
     "end_time": "2018-10-19T09:45:36.459294Z",
     "start_time": "2018-10-19T09:45:36.445294Z"
    }
   },
   "outputs": [],
   "source": [
    "customers['R_28D'] = customers['RR_28D'] * customers['SUIT_28D']\n",
    "customers['R_56D'] = customers['RR_56D'] * customers['SUIT_56D']\n",
    "customers['R_84D'] = customers['RR_84D'] * customers['SUIT_84D']\n",
    "customers['R_168D'] = customers['RR_168D']  * customers['SUIT_168D']\n",
    "customers['R_252D'] = customers['RR_252D'] * customers['SUIT_252D']\n",
    "customers['R_336D'] = customers['RR_336D'] * customers['SUIT_336D']"
   ]
  },
  {
   "cell_type": "code",
   "execution_count": 28,
   "metadata": {
    "ExecuteTime": {
     "end_time": "2018-10-19T09:45:38.722294Z",
     "start_time": "2018-10-19T09:45:36.460294Z"
    }
   },
   "outputs": [],
   "source": [
    "customers.to_pickle(\"./test_local_it_sp_customers_tiers_51-56.pkl\")"
   ]
  },
  {
   "cell_type": "code",
   "execution_count": 29,
   "metadata": {
    "ExecuteTime": {
     "end_time": "2018-10-19T09:45:38.740294Z",
     "start_time": "2018-10-19T09:45:38.723294Z"
    }
   },
   "outputs": [],
   "source": [
    "mask = [len(i) == 1 for i in customers['CZP_ZTQ_ID_unique'].values]"
   ]
  },
  {
   "cell_type": "code",
   "execution_count": 30,
   "metadata": {
    "ExecuteTime": {
     "end_time": "2018-10-19T09:45:38.815294Z",
     "start_time": "2018-10-19T09:45:38.742294Z"
    }
   },
   "outputs": [],
   "source": [
    "sp_customers = customers[mask]"
   ]
  },
  {
   "cell_type": "code",
   "execution_count": 31,
   "metadata": {
    "ExecuteTime": {
     "end_time": "2018-10-19T09:45:38.820294Z",
     "start_time": "2018-10-19T09:45:38.817294Z"
    }
   },
   "outputs": [],
   "source": [
    "def get_number_from_string(i):\n",
    "    changes = str(i).replace('[', '').replace(']', '')\n",
    "    return int(changes)"
   ]
  },
  {
   "cell_type": "code",
   "execution_count": 32,
   "metadata": {
    "ExecuteTime": {
     "end_time": "2018-10-19T09:45:38.856294Z",
     "start_time": "2018-10-19T09:45:38.822294Z"
    }
   },
   "outputs": [],
   "source": [
    "t_customers = sp_customers.copy()"
   ]
  },
  {
   "cell_type": "code",
   "execution_count": 33,
   "metadata": {
    "ExecuteTime": {
     "end_time": "2018-10-19T09:45:42.897294Z",
     "start_time": "2018-10-19T09:45:38.857294Z"
    }
   },
   "outputs": [],
   "source": [
    "t_customers['CZP_ZTQ_ID_unique'] = t_customers['CZP_ZTQ_ID_unique'].map(get_number_from_string)"
   ]
  },
  {
   "cell_type": "code",
   "execution_count": 34,
   "metadata": {
    "ExecuteTime": {
     "end_time": "2018-10-19T09:45:42.906294Z",
     "start_time": "2018-10-19T09:45:42.898294Z"
    }
   },
   "outputs": [
    {
     "data": {
      "text/plain": [
       "51    34198\n",
       "56    24366\n",
       "52    18876\n",
       "53    16518\n",
       "54    13588\n",
       "55     3699\n",
       "Name: CZP_ZTQ_ID_unique, dtype: int64"
      ]
     },
     "execution_count": 34,
     "metadata": {},
     "output_type": "execute_result"
    }
   ],
   "source": [
    "t_customers['CZP_ZTQ_ID_unique'].value_counts()"
   ]
  },
  {
   "cell_type": "code",
   "execution_count": 35,
   "metadata": {
    "ExecuteTime": {
     "end_time": "2018-10-19T09:45:42.977294Z",
     "start_time": "2018-10-19T09:45:42.908294Z"
    }
   },
   "outputs": [],
   "source": [
    "tier_rr_28d = (t_customers.groupby('CZP_ZTQ_ID_unique')['R_28D'].sum() / t_customers.groupby('CZP_ZTQ_ID_unique')['SUIT_28D'].sum() * 100).round(2)\n",
    "tier_rr_56d = (t_customers.groupby('CZP_ZTQ_ID_unique')['R_56D'].sum() / t_customers.groupby('CZP_ZTQ_ID_unique')['SUIT_56D'].sum() * 100).round(2)\n",
    "tier_rr_84d = (t_customers.groupby('CZP_ZTQ_ID_unique')['R_84D'].sum() / t_customers.groupby('CZP_ZTQ_ID_unique')['SUIT_84D'].sum() * 100).round(2)\n",
    "tier_rr_168d = (t_customers.groupby('CZP_ZTQ_ID_unique')['R_168D'].sum() / t_customers.groupby('CZP_ZTQ_ID_unique')['SUIT_168D'].sum() * 100).round(2)\n",
    "tier_rr_252d = (t_customers.groupby('CZP_ZTQ_ID_unique')['R_252D'].sum() / t_customers.groupby('CZP_ZTQ_ID_unique')['SUIT_252D'].sum() * 100).round(2)\n",
    "tier_rr_336d = (t_customers.groupby('CZP_ZTQ_ID_unique')['R_336D'].sum() / t_customers.groupby('CZP_ZTQ_ID_unique')['SUIT_336D'].sum() * 100).round(2)"
   ]
  },
  {
   "cell_type": "code",
   "execution_count": 36,
   "metadata": {
    "ExecuteTime": {
     "end_time": "2018-10-19T09:45:42.992294Z",
     "start_time": "2018-10-19T09:45:42.979294Z"
    }
   },
   "outputs": [
    {
     "data": {
      "text/html": [
       "<div>\n",
       "<style scoped>\n",
       "    .dataframe tbody tr th:only-of-type {\n",
       "        vertical-align: middle;\n",
       "    }\n",
       "\n",
       "    .dataframe tbody tr th {\n",
       "        vertical-align: top;\n",
       "    }\n",
       "\n",
       "    .dataframe thead th {\n",
       "        text-align: right;\n",
       "    }\n",
       "</style>\n",
       "<table border=\"1\" class=\"dataframe\">\n",
       "  <thead>\n",
       "    <tr style=\"text-align: right;\">\n",
       "      <th></th>\n",
       "      <th>28d</th>\n",
       "      <th>56d</th>\n",
       "      <th>84d</th>\n",
       "      <th>168d</th>\n",
       "      <th>252d</th>\n",
       "      <th>336d</th>\n",
       "    </tr>\n",
       "    <tr>\n",
       "      <th>CZP_ZTQ_ID_unique</th>\n",
       "      <th></th>\n",
       "      <th></th>\n",
       "      <th></th>\n",
       "      <th></th>\n",
       "      <th></th>\n",
       "      <th></th>\n",
       "    </tr>\n",
       "  </thead>\n",
       "  <tbody>\n",
       "    <tr>\n",
       "      <th>51</th>\n",
       "      <td>22.91</td>\n",
       "      <td>52.38</td>\n",
       "      <td>69.02</td>\n",
       "      <td>84.90</td>\n",
       "      <td>89.75</td>\n",
       "      <td>94.02</td>\n",
       "    </tr>\n",
       "    <tr>\n",
       "      <th>52</th>\n",
       "      <td>22.94</td>\n",
       "      <td>51.32</td>\n",
       "      <td>67.94</td>\n",
       "      <td>86.89</td>\n",
       "      <td>93.09</td>\n",
       "      <td>96.62</td>\n",
       "    </tr>\n",
       "    <tr>\n",
       "      <th>53</th>\n",
       "      <td>23.04</td>\n",
       "      <td>50.38</td>\n",
       "      <td>66.41</td>\n",
       "      <td>83.23</td>\n",
       "      <td>88.68</td>\n",
       "      <td>93.42</td>\n",
       "    </tr>\n",
       "    <tr>\n",
       "      <th>54</th>\n",
       "      <td>25.04</td>\n",
       "      <td>52.24</td>\n",
       "      <td>68.77</td>\n",
       "      <td>88.31</td>\n",
       "      <td>94.16</td>\n",
       "      <td>97.39</td>\n",
       "    </tr>\n",
       "    <tr>\n",
       "      <th>55</th>\n",
       "      <td>21.23</td>\n",
       "      <td>44.34</td>\n",
       "      <td>56.83</td>\n",
       "      <td>68.83</td>\n",
       "      <td>71.79</td>\n",
       "      <td>73.44</td>\n",
       "    </tr>\n",
       "    <tr>\n",
       "      <th>56</th>\n",
       "      <td>23.62</td>\n",
       "      <td>49.70</td>\n",
       "      <td>63.24</td>\n",
       "      <td>75.51</td>\n",
       "      <td>78.59</td>\n",
       "      <td>82.64</td>\n",
       "    </tr>\n",
       "  </tbody>\n",
       "</table>\n",
       "</div>"
      ],
      "text/plain": [
       "                     28d    56d    84d   168d   252d   336d\n",
       "CZP_ZTQ_ID_unique                                          \n",
       "51                 22.91  52.38  69.02  84.90  89.75  94.02\n",
       "52                 22.94  51.32  67.94  86.89  93.09  96.62\n",
       "53                 23.04  50.38  66.41  83.23  88.68  93.42\n",
       "54                 25.04  52.24  68.77  88.31  94.16  97.39\n",
       "55                 21.23  44.34  56.83  68.83  71.79  73.44\n",
       "56                 23.62  49.70  63.24  75.51  78.59  82.64"
      ]
     },
     "execution_count": 36,
     "metadata": {},
     "output_type": "execute_result"
    }
   ],
   "source": [
    "rep_rate_tiers = pd.DataFrame([tier_rr_28d, tier_rr_56d, tier_rr_84d, tier_rr_168d, tier_rr_252d, tier_rr_336d]).T\n",
    "rep_rate_tiers.columns = ['28d', '56d', '84d', '168d', '252d', '336d']\n",
    "rep_rate_tiers"
   ]
  },
  {
   "cell_type": "code",
   "execution_count": 37,
   "metadata": {
    "ExecuteTime": {
     "end_time": "2018-10-19T09:45:43.006294Z",
     "start_time": "2018-10-19T09:45:42.993294Z"
    }
   },
   "outputs": [],
   "source": [
    "ztq = [51, 52, 53, 54, 55, 56]"
   ]
  },
  {
   "cell_type": "code",
   "execution_count": 38,
   "metadata": {
    "ExecuteTime": {
     "end_time": "2018-10-19T09:45:43.969294Z",
     "start_time": "2018-10-19T09:45:43.007294Z"
    }
   },
   "outputs": [
    {
     "data": {
      "image/png": "[encoded data removed]",
      "text/plain": [
       "<matplotlib.figure.Figure at 0x4c2fdf28>"
      ]
     },
     "metadata": {},
     "output_type": "display_data"
    },
    {
     "data": {
      "text/html": [
       "<div>\n",
       "<style scoped>\n",
       "    .dataframe tbody tr th:only-of-type {\n",
       "        vertical-align: middle;\n",
       "    }\n",
       "\n",
       "    .dataframe tbody tr th {\n",
       "        vertical-align: top;\n",
       "    }\n",
       "\n",
       "    .dataframe thead th {\n",
       "        text-align: right;\n",
       "    }\n",
       "</style>\n",
       "<table border=\"1\" class=\"dataframe\">\n",
       "  <thead>\n",
       "    <tr style=\"text-align: right;\">\n",
       "      <th></th>\n",
       "      <th>Tier 51 ORDERS</th>\n",
       "      <th>Tier 52 ORDERS</th>\n",
       "      <th>Tier 53 ORDERS</th>\n",
       "      <th>Tier 54 ORDERS</th>\n",
       "      <th>Tier 55 ORDERS</th>\n",
       "      <th>Tier 56 ORDERS</th>\n",
       "    </tr>\n",
       "  </thead>\n",
       "  <tbody>\n",
       "    <tr>\n",
       "      <th>count</th>\n",
       "      <td>34198.00</td>\n",
       "      <td>18876.00</td>\n",
       "      <td>16518.00</td>\n",
       "      <td>13588.00</td>\n",
       "      <td>3699.00</td>\n",
       "      <td>24366.00</td>\n",
       "    </tr>\n",
       "    <tr>\n",
       "      <th>mean</th>\n",
       "      <td>5.37</td>\n",
       "      <td>6.11</td>\n",
       "      <td>5.59</td>\n",
       "      <td>6.77</td>\n",
       "      <td>3.10</td>\n",
       "      <td>4.13</td>\n",
       "    </tr>\n",
       "    <tr>\n",
       "      <th>std</th>\n",
       "      <td>5.03</td>\n",
       "      <td>5.33</td>\n",
       "      <td>5.06</td>\n",
       "      <td>7.58</td>\n",
       "      <td>2.76</td>\n",
       "      <td>21.93</td>\n",
       "    </tr>\n",
       "    <tr>\n",
       "      <th>min</th>\n",
       "      <td>1.00</td>\n",
       "      <td>1.00</td>\n",
       "      <td>1.00</td>\n",
       "      <td>1.00</td>\n",
       "      <td>1.00</td>\n",
       "      <td>1.00</td>\n",
       "    </tr>\n",
       "    <tr>\n",
       "      <th>25%</th>\n",
       "      <td>2.00</td>\n",
       "      <td>3.00</td>\n",
       "      <td>2.00</td>\n",
       "      <td>3.00</td>\n",
       "      <td>1.00</td>\n",
       "      <td>1.00</td>\n",
       "    </tr>\n",
       "    <tr>\n",
       "      <th>50%</th>\n",
       "      <td>4.00</td>\n",
       "      <td>5.00</td>\n",
       "      <td>4.00</td>\n",
       "      <td>5.00</td>\n",
       "      <td>2.00</td>\n",
       "      <td>3.00</td>\n",
       "    </tr>\n",
       "    <tr>\n",
       "      <th>75%</th>\n",
       "      <td>7.00</td>\n",
       "      <td>8.00</td>\n",
       "      <td>8.00</td>\n",
       "      <td>9.00</td>\n",
       "      <td>4.00</td>\n",
       "      <td>5.00</td>\n",
       "    </tr>\n",
       "    <tr>\n",
       "      <th>max</th>\n",
       "      <td>151.00</td>\n",
       "      <td>119.00</td>\n",
       "      <td>141.00</td>\n",
       "      <td>475.00</td>\n",
       "      <td>25.00</td>\n",
       "      <td>3226.00</td>\n",
       "    </tr>\n",
       "  </tbody>\n",
       "</table>\n",
       "</div>"
      ],
      "text/plain": [
       "       Tier 51 ORDERS  Tier 52 ORDERS  Tier 53 ORDERS  Tier 54 ORDERS  \\\n",
       "count        34198.00        18876.00        16518.00        13588.00   \n",
       "mean             5.37            6.11            5.59            6.77   \n",
       "std              5.03            5.33            5.06            7.58   \n",
       "min              1.00            1.00            1.00            1.00   \n",
       "25%              2.00            3.00            2.00            3.00   \n",
       "50%              4.00            5.00            4.00            5.00   \n",
       "75%              7.00            8.00            8.00            9.00   \n",
       "max            151.00          119.00          141.00          475.00   \n",
       "\n",
       "       Tier 55 ORDERS  Tier 56 ORDERS  \n",
       "count         3699.00        24366.00  \n",
       "mean             3.10            4.13  \n",
       "std              2.76           21.93  \n",
       "min              1.00            1.00  \n",
       "25%              1.00            1.00  \n",
       "50%              2.00            3.00  \n",
       "75%              4.00            5.00  \n",
       "max             25.00         3226.00  "
      ]
     },
     "metadata": {},
     "output_type": "display_data"
    }
   ],
   "source": [
    "sns.set()\n",
    "plt.figure(figsize=(16,10))\n",
    "plt.suptitle('Histograms showing orders per customer & tier within 1 year time period', fontsize=14)\n",
    "plt.subplot(321)\n",
    "data_tier_51 = t_customers[t_customers['CZP_ZTQ_ID_unique'] == 51]\n",
    "data_tier_51['SCM_N_ORDER_NR_len'].hist(bins=30, range=(0, 30), color='#0066ff', alpha=0.5)\n",
    "plt.legend([51])\n",
    "plt.subplot(322)\n",
    "data_tier_52 = t_customers[t_customers['CZP_ZTQ_ID_unique'] == 52]\n",
    "data_tier_52['SCM_N_ORDER_NR_len'].hist(bins=30, range=(0, 30), color='#ff9900', alpha=0.5)\n",
    "plt.legend([52])\n",
    "plt.subplot(323)\n",
    "data_tier_53 = t_customers[t_customers['CZP_ZTQ_ID_unique'] == 53]\n",
    "data_tier_53['SCM_N_ORDER_NR_len'].hist(bins=30, range=(0, 30), color='#009900', alpha=0.5)\n",
    "plt.legend([53])\n",
    "plt.subplot(324)\n",
    "data_tier_54 = t_customers[t_customers['CZP_ZTQ_ID_unique'] == 54]\n",
    "data_tier_54['SCM_N_ORDER_NR_len'].hist(bins=30, range=(0, 30), color='#ff0000', alpha=0.5)\n",
    "plt.legend([54])\n",
    "plt.subplot(325)\n",
    "data_tier_55 = t_customers[t_customers['CZP_ZTQ_ID_unique'] == 55]\n",
    "data_tier_55['SCM_N_ORDER_NR_len'].hist(bins=30, range=(0, 30), color='#993399', alpha=0.5)\n",
    "plt.legend([55])\n",
    "plt.subplot(326)\n",
    "data_tier_56 = t_customers[t_customers['CZP_ZTQ_ID_unique'] == 56]\n",
    "data_tier_56['SCM_N_ORDER_NR_len'].hist(bins=30, range=(0, 30), color='#996633', alpha=0.5)\n",
    "plt.legend([56])\n",
    "plt.show() \n",
    "\n",
    "concat_df = pd.DataFrame()\n",
    "for tq in ztq:\n",
    "    data_tier = t_customers[t_customers['CZP_ZTQ_ID_unique'] == tq]\n",
    "    concat_df = pd.concat([concat_df,\n",
    "                           pd.DataFrame(data_tier['SCM_N_ORDER_NR_len'].describe().round(2)),\n",
    "                           ], axis=1)\n",
    "concat_df.columns = ['Tier 51 ORDERS', 'Tier 52 ORDERS', 'Tier 53 ORDERS',\n",
    "                     'Tier 54 ORDERS', 'Tier 55 ORDERS', 'Tier 56 ORDERS']\n",
    "display(concat_df)"
   ]
  },
  {
   "cell_type": "code",
   "execution_count": 39,
   "metadata": {
    "ExecuteTime": {
     "end_time": "2018-10-19T09:45:46.016294Z",
     "start_time": "2018-10-19T09:45:43.971294Z"
    }
   },
   "outputs": [
    {
     "data": {
      "image/png": "[encoded data removed]",
      "text/plain": [
       "<matplotlib.figure.Figure at 0x4ca9ee80>"
      ]
     },
     "metadata": {},
     "output_type": "display_data"
    },
    {
     "data": {
      "text/html": [
       "<div>\n",
       "<style scoped>\n",
       "    .dataframe tbody tr th:only-of-type {\n",
       "        vertical-align: middle;\n",
       "    }\n",
       "\n",
       "    .dataframe tbody tr th {\n",
       "        vertical-align: top;\n",
       "    }\n",
       "\n",
       "    .dataframe thead th {\n",
       "        text-align: right;\n",
       "    }\n",
       "</style>\n",
       "<table border=\"1\" class=\"dataframe\">\n",
       "  <thead>\n",
       "    <tr style=\"text-align: right;\">\n",
       "      <th></th>\n",
       "      <th>Tier 51 Order_Counter</th>\n",
       "      <th>Tier 52 Order_Counter</th>\n",
       "      <th>Tier 53 Order_Counter</th>\n",
       "      <th>Tier 54 Order_Counter</th>\n",
       "      <th>Tier 55 Order_Counter</th>\n",
       "      <th>Tier 56 Order_Counter</th>\n",
       "    </tr>\n",
       "  </thead>\n",
       "  <tbody>\n",
       "    <tr>\n",
       "      <th>count</th>\n",
       "      <td>209129.00</td>\n",
       "      <td>136312.00</td>\n",
       "      <td>100373.00</td>\n",
       "      <td>101345.00</td>\n",
       "      <td>13182.00</td>\n",
       "      <td>120487.00</td>\n",
       "    </tr>\n",
       "    <tr>\n",
       "      <th>mean</th>\n",
       "      <td>29.11</td>\n",
       "      <td>37.16</td>\n",
       "      <td>31.54</td>\n",
       "      <td>55.08</td>\n",
       "      <td>5.14</td>\n",
       "      <td>66.43</td>\n",
       "    </tr>\n",
       "    <tr>\n",
       "      <th>std</th>\n",
       "      <td>30.70</td>\n",
       "      <td>49.19</td>\n",
       "      <td>30.58</td>\n",
       "      <td>130.70</td>\n",
       "      <td>4.82</td>\n",
       "      <td>360.34</td>\n",
       "    </tr>\n",
       "    <tr>\n",
       "      <th>min</th>\n",
       "      <td>1.00</td>\n",
       "      <td>2.00</td>\n",
       "      <td>1.00</td>\n",
       "      <td>1.00</td>\n",
       "      <td>1.00</td>\n",
       "      <td>1.00</td>\n",
       "    </tr>\n",
       "    <tr>\n",
       "      <th>25%</th>\n",
       "      <td>11.00</td>\n",
       "      <td>15.00</td>\n",
       "      <td>14.00</td>\n",
       "      <td>21.00</td>\n",
       "      <td>2.00</td>\n",
       "      <td>3.00</td>\n",
       "    </tr>\n",
       "    <tr>\n",
       "      <th>50%</th>\n",
       "      <td>20.00</td>\n",
       "      <td>27.00</td>\n",
       "      <td>24.00</td>\n",
       "      <td>33.00</td>\n",
       "      <td>4.00</td>\n",
       "      <td>5.00</td>\n",
       "    </tr>\n",
       "    <tr>\n",
       "      <th>75%</th>\n",
       "      <td>35.00</td>\n",
       "      <td>46.00</td>\n",
       "      <td>39.00</td>\n",
       "      <td>53.00</td>\n",
       "      <td>7.00</td>\n",
       "      <td>8.00</td>\n",
       "    </tr>\n",
       "    <tr>\n",
       "      <th>max</th>\n",
       "      <td>493.00</td>\n",
       "      <td>4056.00</td>\n",
       "      <td>554.00</td>\n",
       "      <td>3251.00</td>\n",
       "      <td>106.00</td>\n",
       "      <td>4376.00</td>\n",
       "    </tr>\n",
       "  </tbody>\n",
       "</table>\n",
       "</div>"
      ],
      "text/plain": [
       "       Tier 51 Order_Counter  Tier 52 Order_Counter  Tier 53 Order_Counter  \\\n",
       "count              209129.00              136312.00              100373.00   \n",
       "mean                   29.11                  37.16                  31.54   \n",
       "std                    30.70                  49.19                  30.58   \n",
       "min                     1.00                   2.00                   1.00   \n",
       "25%                    11.00                  15.00                  14.00   \n",
       "50%                    20.00                  27.00                  24.00   \n",
       "75%                    35.00                  46.00                  39.00   \n",
       "max                   493.00                4056.00                 554.00   \n",
       "\n",
       "       Tier 54 Order_Counter  Tier 55 Order_Counter  Tier 56 Order_Counter  \n",
       "count              101345.00               13182.00              120487.00  \n",
       "mean                   55.08                   5.14                  66.43  \n",
       "std                   130.70                   4.82                 360.34  \n",
       "min                     1.00                   1.00                   1.00  \n",
       "25%                    21.00                   2.00                   3.00  \n",
       "50%                    33.00                   4.00                   5.00  \n",
       "75%                    53.00                   7.00                   8.00  \n",
       "max                  3251.00                 106.00                4376.00  "
      ]
     },
     "metadata": {},
     "output_type": "display_data"
    }
   ],
   "source": [
    "concat_df = pd.DataFrame()\n",
    "sns.set()\n",
    "plt.figure(figsize=(16,8))\n",
    "plt.title('Histogram showing order counter per Tier', fontsize=14)\n",
    "\n",
    "for tq in ztq:\n",
    "    data_tier = orders[orders['CZP_ZTQ_ID'] == tq]\n",
    "    order_counter_values = [i for i in data_tier['OSP_KO_COUNT_NET'].values]\n",
    "    plt.hist(order_counter_values, bins=150, range=(0, 150), alpha=0.5)\n",
    "    plt.legend([51, 52, 53, 54, 55, 56])\n",
    "    concat_df = pd.concat([concat_df,\n",
    "                           (pd.DataFrame(order_counter_values).describe().round(2)),\n",
    "                           ], axis=1)\n",
    "plt.show() \n",
    "\n",
    "concat_df.columns = ['Tier 51 Order_Counter', 'Tier 52 Order_Counter', 'Tier 53 Order_Counter',\n",
    "                     'Tier 54 Order_Counter', 'Tier 55 Order_Counter', 'Tier 56 Order_Counter']\n",
    "display(concat_df)"
   ]
  },
  {
   "cell_type": "code",
   "execution_count": 40,
   "metadata": {
    "ExecuteTime": {
     "end_time": "2018-10-19T09:45:46.920294Z",
     "start_time": "2018-10-19T09:45:46.018294Z"
    }
   },
   "outputs": [
    {
     "data": {
      "image/png": "[encoded data removed]",
      "text/plain": [
       "<matplotlib.figure.Figure at 0x4298e9b0>"
      ]
     },
     "metadata": {},
     "output_type": "display_data"
    },
    {
     "data": {
      "text/html": [
       "<div>\n",
       "<style scoped>\n",
       "    .dataframe tbody tr th:only-of-type {\n",
       "        vertical-align: middle;\n",
       "    }\n",
       "\n",
       "    .dataframe tbody tr th {\n",
       "        vertical-align: top;\n",
       "    }\n",
       "\n",
       "    .dataframe thead th {\n",
       "        text-align: right;\n",
       "    }\n",
       "</style>\n",
       "<table border=\"1\" class=\"dataframe\">\n",
       "  <thead>\n",
       "    <tr style=\"text-align: right;\">\n",
       "      <th></th>\n",
       "      <th>Tier 51 Order_Values</th>\n",
       "      <th>Tier 52 Order_Values</th>\n",
       "      <th>Tier 53 Order_Values</th>\n",
       "      <th>Tier 54 Order_Values</th>\n",
       "      <th>Tier 55 Order_Values</th>\n",
       "      <th>Tier 56 Order_Values</th>\n",
       "    </tr>\n",
       "  </thead>\n",
       "  <tbody>\n",
       "    <tr>\n",
       "      <th>count</th>\n",
       "      <td>209129.00</td>\n",
       "      <td>136312.00</td>\n",
       "      <td>100373.00</td>\n",
       "      <td>101345.00</td>\n",
       "      <td>13182.00</td>\n",
       "      <td>120487.00</td>\n",
       "    </tr>\n",
       "    <tr>\n",
       "      <th>mean</th>\n",
       "      <td>78.46</td>\n",
       "      <td>88.46</td>\n",
       "      <td>81.38</td>\n",
       "      <td>92.89</td>\n",
       "      <td>66.95</td>\n",
       "      <td>76.77</td>\n",
       "    </tr>\n",
       "    <tr>\n",
       "      <th>std</th>\n",
       "      <td>49.25</td>\n",
       "      <td>60.87</td>\n",
       "      <td>53.57</td>\n",
       "      <td>68.79</td>\n",
       "      <td>37.19</td>\n",
       "      <td>51.36</td>\n",
       "    </tr>\n",
       "    <tr>\n",
       "      <th>min</th>\n",
       "      <td>-70.57</td>\n",
       "      <td>-39.55</td>\n",
       "      <td>-31.07</td>\n",
       "      <td>-33.60</td>\n",
       "      <td>-14.60</td>\n",
       "      <td>-26.82</td>\n",
       "    </tr>\n",
       "    <tr>\n",
       "      <th>25%</th>\n",
       "      <td>46.55</td>\n",
       "      <td>48.94</td>\n",
       "      <td>47.49</td>\n",
       "      <td>49.38</td>\n",
       "      <td>41.78</td>\n",
       "      <td>45.58</td>\n",
       "    </tr>\n",
       "    <tr>\n",
       "      <th>50%</th>\n",
       "      <td>65.66</td>\n",
       "      <td>71.81</td>\n",
       "      <td>67.00</td>\n",
       "      <td>75.03</td>\n",
       "      <td>57.18</td>\n",
       "      <td>62.81</td>\n",
       "    </tr>\n",
       "    <tr>\n",
       "      <th>75%</th>\n",
       "      <td>96.01</td>\n",
       "      <td>107.71</td>\n",
       "      <td>99.34</td>\n",
       "      <td>113.97</td>\n",
       "      <td>79.51</td>\n",
       "      <td>93.08</td>\n",
       "    </tr>\n",
       "    <tr>\n",
       "      <th>max</th>\n",
       "      <td>1923.53</td>\n",
       "      <td>2073.63</td>\n",
       "      <td>2118.19</td>\n",
       "      <td>3019.01</td>\n",
       "      <td>570.30</td>\n",
       "      <td>2549.39</td>\n",
       "    </tr>\n",
       "  </tbody>\n",
       "</table>\n",
       "</div>"
      ],
      "text/plain": [
       "       Tier 51 Order_Values  Tier 52 Order_Values  Tier 53 Order_Values  \\\n",
       "count             209129.00             136312.00             100373.00   \n",
       "mean                  78.46                 88.46                 81.38   \n",
       "std                   49.25                 60.87                 53.57   \n",
       "min                  -70.57                -39.55                -31.07   \n",
       "25%                   46.55                 48.94                 47.49   \n",
       "50%                   65.66                 71.81                 67.00   \n",
       "75%                   96.01                107.71                 99.34   \n",
       "max                 1923.53               2073.63               2118.19   \n",
       "\n",
       "       Tier 54 Order_Values  Tier 55 Order_Values  Tier 56 Order_Values  \n",
       "count             101345.00              13182.00             120487.00  \n",
       "mean                  92.89                 66.95                 76.77  \n",
       "std                   68.79                 37.19                 51.36  \n",
       "min                  -33.60                -14.60                -26.82  \n",
       "25%                   49.38                 41.78                 45.58  \n",
       "50%                   75.03                 57.18                 62.81  \n",
       "75%                  113.97                 79.51                 93.08  \n",
       "max                 3019.01                570.30               2549.39  "
      ]
     },
     "metadata": {},
     "output_type": "display_data"
    }
   ],
   "source": [
    "concat_df = pd.DataFrame()\n",
    "sns.set()\n",
    "plt.figure(figsize=(16,8))\n",
    "plt.title('Histogram showing order values per Tier', fontsize=14)\n",
    "\n",
    "for tq in ztq:\n",
    "    data_tier = orders[orders['CZP_ZTQ_ID'] == tq]\n",
    "    order_values = [i for i in data_tier['SCM_SALES_BMF'].values]\n",
    "    plt.hist(order_values, bins=30, range=(0, 300), alpha=0.5)\n",
    "    plt.legend([51, 52, 53, 54, 55, 56])\n",
    "    concat_df = pd.concat([concat_df,\n",
    "                           (pd.DataFrame(order_values).describe().round(2)),\n",
    "                           ], axis=1)\n",
    "plt.show() \n",
    "\n",
    "concat_df.columns = ['Tier 51 Order_Values', 'Tier 52 Order_Values', 'Tier 53 Order_Values',\n",
    "                     'Tier 54 Order_Values', 'Tier 55 Order_Values', 'Tier 56 Order_Values']\n",
    "display(concat_df)"
   ]
  },
  {
   "cell_type": "code",
   "execution_count": 41,
   "metadata": {
    "ExecuteTime": {
     "end_time": "2018-10-19T09:45:48.950294Z",
     "start_time": "2018-10-19T09:45:46.922294Z"
    }
   },
   "outputs": [
    {
     "data": {
      "image/png": "[encoded data removed]",
      "text/plain": [
       "<matplotlib.figure.Figure at 0x4b71a198>"
      ]
     },
     "metadata": {},
     "output_type": "display_data"
    },
    {
     "data": {
      "text/html": [
       "<div>\n",
       "<style scoped>\n",
       "    .dataframe tbody tr th:only-of-type {\n",
       "        vertical-align: middle;\n",
       "    }\n",
       "\n",
       "    .dataframe tbody tr th {\n",
       "        vertical-align: top;\n",
       "    }\n",
       "\n",
       "    .dataframe thead th {\n",
       "        text-align: right;\n",
       "    }\n",
       "</style>\n",
       "<table border=\"1\" class=\"dataframe\">\n",
       "  <thead>\n",
       "    <tr style=\"text-align: right;\">\n",
       "      <th></th>\n",
       "      <th>Tier 51 Order_CM1%</th>\n",
       "      <th>Tier 52 Order_CM1%</th>\n",
       "      <th>Tier 53 Order_CM1%</th>\n",
       "      <th>Tier 54 Order_CM1%</th>\n",
       "      <th>Tier 55 Order_CM1%</th>\n",
       "      <th>Tier 56 Order_CM1%</th>\n",
       "    </tr>\n",
       "  </thead>\n",
       "  <tbody>\n",
       "    <tr>\n",
       "      <th>count</th>\n",
       "      <td>209109.00</td>\n",
       "      <td>136297.00</td>\n",
       "      <td>100363.00</td>\n",
       "      <td>101327.00</td>\n",
       "      <td>13180.00</td>\n",
       "      <td>120465.00</td>\n",
       "    </tr>\n",
       "    <tr>\n",
       "      <th>25%</th>\n",
       "      <td>24.54</td>\n",
       "      <td>23.53</td>\n",
       "      <td>23.42</td>\n",
       "      <td>21.53</td>\n",
       "      <td>24.05</td>\n",
       "      <td>20.87</td>\n",
       "    </tr>\n",
       "    <tr>\n",
       "      <th>50%</th>\n",
       "      <td>30.19</td>\n",
       "      <td>29.32</td>\n",
       "      <td>29.56</td>\n",
       "      <td>27.72</td>\n",
       "      <td>30.16</td>\n",
       "      <td>27.10</td>\n",
       "    </tr>\n",
       "    <tr>\n",
       "      <th>75%</th>\n",
       "      <td>36.61</td>\n",
       "      <td>35.87</td>\n",
       "      <td>36.68</td>\n",
       "      <td>34.66</td>\n",
       "      <td>37.40</td>\n",
       "      <td>34.32</td>\n",
       "    </tr>\n",
       "  </tbody>\n",
       "</table>\n",
       "</div>"
      ],
      "text/plain": [
       "       Tier 51 Order_CM1%  Tier 52 Order_CM1%  Tier 53 Order_CM1%  \\\n",
       "count           209109.00           136297.00           100363.00   \n",
       "25%                 24.54               23.53               23.42   \n",
       "50%                 30.19               29.32               29.56   \n",
       "75%                 36.61               35.87               36.68   \n",
       "\n",
       "       Tier 54 Order_CM1%  Tier 55 Order_CM1%  Tier 56 Order_CM1%  \n",
       "count           101327.00            13180.00           120465.00  \n",
       "25%                 21.53               24.05               20.87  \n",
       "50%                 27.72               30.16               27.10  \n",
       "75%                 34.66               37.40               34.32  "
      ]
     },
     "metadata": {},
     "output_type": "display_data"
    }
   ],
   "source": [
    "concat_df = pd.DataFrame()\n",
    "sns.set()\n",
    "plt.figure(figsize=(16,8))\n",
    "plt.title('Histogram showing orders CM1% per Tier', fontsize=14)\n",
    "\n",
    "for tq in ztq:\n",
    "    data_tier = orders[orders['CZP_ZTQ_ID'] == tq]\n",
    "    order_values_cm1 = [i for i in data_tier['SCM_D_FINANCE_CM1'].values]\n",
    "    order_values_net_sales = [i for i in data_tier['SCM_D_ORIG_FINANCE_ORDER_NET'].values]\n",
    "    orders_rel_cm1 = [i/j * 100 for i, j in list(zip(order_values_cm1, order_values_net_sales)) if j != 0]\n",
    "    plt.hist(orders_rel_cm1, bins=100, range=(-25, 75), alpha=0.5)\n",
    "    plt.legend([51, 52, 53, 54, 55, 56])\n",
    "    concat_df = pd.concat([concat_df,\n",
    "                           (pd.DataFrame(orders_rel_cm1).describe().round(2)),\n",
    "                           ], axis=1)\n",
    "\n",
    "plt.legend([51, 52, 53, 54, 55, 56])\n",
    "plt.show() \n",
    "\n",
    "concat_df.columns = ['Tier 51 Order_CM1%', 'Tier 52 Order_CM1%', 'Tier 53 Order_CM1%',\n",
    "                     'Tier 54 Order_CM1%', 'Tier 55 Order_CM1%', 'Tier 56 Order_CM1%']\n",
    "display(concat_df.loc[['count', '25%', '50%', '75%']].astype(float))"
   ]
  },
  {
   "cell_type": "code",
   "execution_count": 42,
   "metadata": {
    "ExecuteTime": {
     "end_time": "2018-10-19T09:45:51.132294Z",
     "start_time": "2018-10-19T09:45:48.951294Z"
    }
   },
   "outputs": [
    {
     "data": {
      "image/png": "[encoded data removed]",
      "text/plain": [
       "<matplotlib.figure.Figure at 0x4215c438>"
      ]
     },
     "metadata": {},
     "output_type": "display_data"
    },
    {
     "data": {
      "text/html": [
       "<div>\n",
       "<style scoped>\n",
       "    .dataframe tbody tr th:only-of-type {\n",
       "        vertical-align: middle;\n",
       "    }\n",
       "\n",
       "    .dataframe tbody tr th {\n",
       "        vertical-align: top;\n",
       "    }\n",
       "\n",
       "    .dataframe thead th {\n",
       "        text-align: right;\n",
       "    }\n",
       "</style>\n",
       "<table border=\"1\" class=\"dataframe\">\n",
       "  <thead>\n",
       "    <tr style=\"text-align: right;\">\n",
       "      <th></th>\n",
       "      <th>Tier 51 Order_CM2%</th>\n",
       "      <th>Tier 52 Order_CM2%</th>\n",
       "      <th>Tier 53 Order_CM2%</th>\n",
       "      <th>Tier 54 Order_CM2%</th>\n",
       "      <th>Tier 55 Order_CM2%</th>\n",
       "      <th>Tier 56 Order_CM2%</th>\n",
       "    </tr>\n",
       "  </thead>\n",
       "  <tbody>\n",
       "    <tr>\n",
       "      <th>count</th>\n",
       "      <td>209109.00</td>\n",
       "      <td>136297.00</td>\n",
       "      <td>100363.00</td>\n",
       "      <td>101327.00</td>\n",
       "      <td>13180.00</td>\n",
       "      <td>120465.00</td>\n",
       "    </tr>\n",
       "    <tr>\n",
       "      <th>25%</th>\n",
       "      <td>6.96</td>\n",
       "      <td>6.45</td>\n",
       "      <td>5.56</td>\n",
       "      <td>4.31</td>\n",
       "      <td>5.41</td>\n",
       "      <td>3.15</td>\n",
       "    </tr>\n",
       "    <tr>\n",
       "      <th>50%</th>\n",
       "      <td>13.00</td>\n",
       "      <td>12.66</td>\n",
       "      <td>12.35</td>\n",
       "      <td>10.97</td>\n",
       "      <td>11.85</td>\n",
       "      <td>9.58</td>\n",
       "    </tr>\n",
       "    <tr>\n",
       "      <th>75%</th>\n",
       "      <td>18.76</td>\n",
       "      <td>18.55</td>\n",
       "      <td>18.97</td>\n",
       "      <td>17.40</td>\n",
       "      <td>18.17</td>\n",
       "      <td>16.23</td>\n",
       "    </tr>\n",
       "  </tbody>\n",
       "</table>\n",
       "</div>"
      ],
      "text/plain": [
       "       Tier 51 Order_CM2%  Tier 52 Order_CM2%  Tier 53 Order_CM2%  \\\n",
       "count           209109.00           136297.00           100363.00   \n",
       "25%                  6.96                6.45                5.56   \n",
       "50%                 13.00               12.66               12.35   \n",
       "75%                 18.76               18.55               18.97   \n",
       "\n",
       "       Tier 54 Order_CM2%  Tier 55 Order_CM2%  Tier 56 Order_CM2%  \n",
       "count           101327.00            13180.00           120465.00  \n",
       "25%                  4.31                5.41                3.15  \n",
       "50%                 10.97               11.85                9.58  \n",
       "75%                 17.40               18.17               16.23  "
      ]
     },
     "metadata": {},
     "output_type": "display_data"
    }
   ],
   "source": [
    "concat_df = pd.DataFrame()\n",
    "sns.set()\n",
    "plt.figure(figsize=(16,8))\n",
    "plt.title('Histogram showing orders CM2% per Tier', fontsize=14)\n",
    "\n",
    "for tq in ztq:\n",
    "    data_tier = orders[orders['CZP_ZTQ_ID'] == tq]\n",
    "    order_values_cm2 = [i for i in data_tier['SCM_D_FINANCE_CM2'].values]\n",
    "    order_values_net_sales = [i for i in data_tier['SCM_D_ORIG_FINANCE_ORDER_NET'].values]\n",
    "    orders_rel_cm2 = [i/j * 100 for i, j in list(zip(order_values_cm2, order_values_net_sales)) if j != 0]\n",
    "    plt.hist(orders_rel_cm2, bins=100, range=(-35, 65), alpha=0.5)\n",
    "    plt.legend([51, 52, 53, 54, 55, 56])\n",
    "    concat_df = pd.concat([concat_df,\n",
    "                           (pd.DataFrame(orders_rel_cm2).describe().round(2)),\n",
    "                           ], axis=1)\n",
    "\n",
    "plt.legend([51, 52, 53, 54, 55, 56])\n",
    "plt.show() \n",
    "\n",
    "concat_df.columns = ['Tier 51 Order_CM2%', 'Tier 52 Order_CM2%', 'Tier 53 Order_CM2%',\n",
    "                     'Tier 54 Order_CM2%', 'Tier 55 Order_CM2%', 'Tier 56 Order_CM2%']\n",
    "display(concat_df.loc[['count', '25%', '50%', '75%']].astype(float))"
   ]
  },
  {
   "cell_type": "code",
   "execution_count": 43,
   "metadata": {
    "ExecuteTime": {
     "end_time": "2018-10-19T09:45:53.424294Z",
     "start_time": "2018-10-19T09:45:51.133294Z"
    }
   },
   "outputs": [
    {
     "data": {
      "text/html": [
       "<div>\n",
       "<style scoped>\n",
       "    .dataframe tbody tr th:only-of-type {\n",
       "        vertical-align: middle;\n",
       "    }\n",
       "\n",
       "    .dataframe tbody tr th {\n",
       "        vertical-align: top;\n",
       "    }\n",
       "\n",
       "    .dataframe thead th {\n",
       "        text-align: right;\n",
       "    }\n",
       "</style>\n",
       "<table border=\"1\" class=\"dataframe\">\n",
       "  <thead>\n",
       "    <tr style=\"text-align: right;\">\n",
       "      <th></th>\n",
       "      <th>ZTQ</th>\n",
       "      <th>active_customers</th>\n",
       "      <th>orders</th>\n",
       "      <th>sales_bmf</th>\n",
       "      <th>net_sales</th>\n",
       "      <th>CM1</th>\n",
       "      <th>CM2</th>\n",
       "      <th>CM1%</th>\n",
       "      <th>CM2%</th>\n",
       "      <th>discount_amount</th>\n",
       "      <th>orders_%_neg_cm1</th>\n",
       "      <th>loss_in_CM1</th>\n",
       "      <th>orders_%_neg_cm2</th>\n",
       "      <th>loss_in_CM2</th>\n",
       "    </tr>\n",
       "  </thead>\n",
       "  <tbody>\n",
       "    <tr>\n",
       "      <th>0</th>\n",
       "      <td>51</td>\n",
       "      <td>40767</td>\n",
       "      <td>209129</td>\n",
       "      <td>16407504.76</td>\n",
       "      <td>13493429.89</td>\n",
       "      <td>4031396.51</td>\n",
       "      <td>1861475.41</td>\n",
       "      <td>29.88</td>\n",
       "      <td>13.80</td>\n",
       "      <td>-503639.77</td>\n",
       "      <td>0.56</td>\n",
       "      <td>-9010.39</td>\n",
       "      <td>8.99</td>\n",
       "      <td>-57945.85</td>\n",
       "    </tr>\n",
       "    <tr>\n",
       "      <th>1</th>\n",
       "      <td>52</td>\n",
       "      <td>23768</td>\n",
       "      <td>136312</td>\n",
       "      <td>12057897.83</td>\n",
       "      <td>9921503.40</td>\n",
       "      <td>2881504.34</td>\n",
       "      <td>1348974.01</td>\n",
       "      <td>29.04</td>\n",
       "      <td>13.60</td>\n",
       "      <td>-373420.54</td>\n",
       "      <td>0.79</td>\n",
       "      <td>-10762.07</td>\n",
       "      <td>9.95</td>\n",
       "      <td>-50138.60</td>\n",
       "    </tr>\n",
       "    <tr>\n",
       "      <th>2</th>\n",
       "      <td>53</td>\n",
       "      <td>18617</td>\n",
       "      <td>100373</td>\n",
       "      <td>8167863.06</td>\n",
       "      <td>6728207.34</td>\n",
       "      <td>1989596.90</td>\n",
       "      <td>910765.99</td>\n",
       "      <td>29.57</td>\n",
       "      <td>13.54</td>\n",
       "      <td>-427394.69</td>\n",
       "      <td>0.71</td>\n",
       "      <td>-4797.46</td>\n",
       "      <td>11.68</td>\n",
       "      <td>-35557.62</td>\n",
       "    </tr>\n",
       "    <tr>\n",
       "      <th>3</th>\n",
       "      <td>54</td>\n",
       "      <td>15422</td>\n",
       "      <td>101345</td>\n",
       "      <td>9413781.65</td>\n",
       "      <td>7752564.22</td>\n",
       "      <td>2131559.78</td>\n",
       "      <td>942514.80</td>\n",
       "      <td>27.49</td>\n",
       "      <td>12.16</td>\n",
       "      <td>-497554.21</td>\n",
       "      <td>1.18</td>\n",
       "      <td>-11364.20</td>\n",
       "      <td>14.33</td>\n",
       "      <td>-58013.10</td>\n",
       "    </tr>\n",
       "    <tr>\n",
       "      <th>4</th>\n",
       "      <td>55</td>\n",
       "      <td>4150</td>\n",
       "      <td>13182</td>\n",
       "      <td>882587.10</td>\n",
       "      <td>725549.97</td>\n",
       "      <td>216315.35</td>\n",
       "      <td>90907.73</td>\n",
       "      <td>29.81</td>\n",
       "      <td>12.53</td>\n",
       "      <td>-26889.98</td>\n",
       "      <td>0.59</td>\n",
       "      <td>-777.08</td>\n",
       "      <td>11.27</td>\n",
       "      <td>-4362.62</td>\n",
       "    </tr>\n",
       "    <tr>\n",
       "      <th>5</th>\n",
       "      <td>56</td>\n",
       "      <td>29257</td>\n",
       "      <td>120487</td>\n",
       "      <td>9249914.47</td>\n",
       "      <td>7605770.47</td>\n",
       "      <td>2056634.99</td>\n",
       "      <td>822173.09</td>\n",
       "      <td>27.04</td>\n",
       "      <td>10.81</td>\n",
       "      <td>-483110.52</td>\n",
       "      <td>0.83</td>\n",
       "      <td>-7863.03</td>\n",
       "      <td>16.13</td>\n",
       "      <td>-59361.85</td>\n",
       "    </tr>\n",
       "  </tbody>\n",
       "</table>\n",
       "</div>"
      ],
      "text/plain": [
       "  ZTQ active_customers  orders    sales_bmf    net_sales         CM1  \\\n",
       "0  51            40767  209129  16407504.76  13493429.89  4031396.51   \n",
       "1  52            23768  136312  12057897.83   9921503.40  2881504.34   \n",
       "2  53            18617  100373   8167863.06   6728207.34  1989596.90   \n",
       "3  54            15422  101345   9413781.65   7752564.22  2131559.78   \n",
       "4  55             4150   13182    882587.10    725549.97   216315.35   \n",
       "5  56            29257  120487   9249914.47   7605770.47  2056634.99   \n",
       "\n",
       "          CM2   CM1%   CM2%  discount_amount  orders_%_neg_cm1  loss_in_CM1  \\\n",
       "0  1861475.41  29.88  13.80       -503639.77              0.56     -9010.39   \n",
       "1  1348974.01  29.04  13.60       -373420.54              0.79    -10762.07   \n",
       "2   910765.99  29.57  13.54       -427394.69              0.71     -4797.46   \n",
       "3   942514.80  27.49  12.16       -497554.21              1.18    -11364.20   \n",
       "4    90907.73  29.81  12.53        -26889.98              0.59      -777.08   \n",
       "5   822173.09  27.04  10.81       -483110.52              0.83     -7863.03   \n",
       "\n",
       "   orders_%_neg_cm2  loss_in_CM2  \n",
       "0              8.99    -57945.85  \n",
       "1              9.95    -50138.60  \n",
       "2             11.68    -35557.62  \n",
       "3             14.33    -58013.10  \n",
       "4             11.27     -4362.62  \n",
       "5             16.13    -59361.85  "
      ]
     },
     "metadata": {},
     "output_type": "display_data"
    }
   ],
   "source": [
    "metrics_ztq = pd.DataFrame(columns=['ZTQ','active_customers', 'orders', 'sales_bmf', 'net_sales', 'CM1', 'CM2', 'CM1%', 'CM2%',\n",
    "                                   'discount_amount', 'orders_%_neg_cm1', 'loss_in_CM1', 'orders_%_neg_cm2', 'loss_in_CM2'])\n",
    "for tq in ztq:\n",
    "    df_elems = []\n",
    "    data_tier = data[data['CZP_ZTQ_ID'] == tq]\n",
    "    df_elems.append(tq)\n",
    "    df_elems.append(data_tier['CUS_N_KEY_CUSTOMER'].nunique())\n",
    "    df_elems.append(data_tier['SCM_N_ORDER_NR'].nunique())\n",
    "    df_elems.append(data_tier['SCM_SALES_BMF'].sum())\n",
    "    df_elems.append(data_tier['SCM_D_ORIG_FINANCE_ORDER_NET'].sum())\n",
    "    df_elems.append(data_tier['SCM_D_FINANCE_CM1'].sum())\n",
    "    df_elems.append(data_tier['SCM_D_FINANCE_CM2'].sum())\n",
    "    df_elems.append(data_tier['SCM_D_FINANCE_CM1'].sum() / data_tier['SCM_D_ORIG_FINANCE_ORDER_NET'].sum() * 100)\n",
    "    df_elems.append(data_tier['SCM_D_FINANCE_CM2'].sum() / data_tier['SCM_D_ORIG_FINANCE_ORDER_NET'].sum() * 100)\n",
    "    df_elems.append((data_tier[data_tier['SCM_MASTER_AP_ID'] == 42715]['SCM_SALES_BMF']).sum())\n",
    "    \n",
    "    cm1_per_order = data_tier.groupby('SCM_N_ORDER_NR')['SCM_D_FINANCE_CM1'].sum()\n",
    "    orders_neg_cm1 = cm1_per_order[cm1_per_order < 0].index.values\n",
    "    df_elems.append(len(orders_neg_cm1)/data_tier['SCM_N_ORDER_NR'].nunique()*100)\n",
    "    df_elems.append(cm1_per_order[cm1_per_order < 0].sum())\n",
    "    \n",
    "    cm2_per_order = data_tier.groupby('SCM_N_ORDER_NR')['SCM_D_FINANCE_CM2'].sum()\n",
    "    orders_neg_cm2 = cm2_per_order[cm2_per_order < 0].index.values\n",
    "    df_elems.append(len(orders_neg_cm2)/data_tier['SCM_N_ORDER_NR'].nunique()*100)\n",
    "    df_elems.append(cm2_per_order[cm2_per_order < 0].sum())\n",
    "    \n",
    "    new_row = pd.DataFrame.from_records([df_elems], columns=metrics_ztq.columns)\n",
    "    metrics_ztq = metrics_ztq.append(new_row, ignore_index=True)\n",
    "    \n",
    "display(metrics_ztq.round(2))"
   ]
  },
  {
   "cell_type": "code",
   "execution_count": null,
   "metadata": {},
   "outputs": [],
   "source": []
  }
 ],
 "metadata": {
  "hide_input": false,
  "kernelspec": {
   "display_name": "Python [conda env:py36]",
   "language": "python",
   "name": "conda-env-py36-py"
  },
  "language_info": {
   "codemirror_mode": {
    "name": "ipython",
    "version": 3
   },
   "file_extension": ".py",
   "mimetype": "text/x-python",
   "name": "python",
   "nbconvert_exporter": "python",
   "pygments_lexer": "ipython3",
   "version": "3.6.4"
  },
  "toc": {
   "base_numbering": 1,
   "nav_menu": {},
   "number_sections": true,
   "sideBar": true,
   "skip_h1_title": false,
   "title_cell": "Table of Contents",
   "title_sidebar": "Contents",
   "toc_cell": false,
   "toc_position": {},
   "toc_section_display": true,
   "toc_window_display": false
  },
  "varInspector": {
   "cols": {
    "lenName": 16,
    "lenType": 16,
    "lenVar": 40
   },
   "kernels_config": {
    "python": {
     "delete_cmd_postfix": "",
     "delete_cmd_prefix": "del ",
     "library": "var_list.py",
     "varRefreshCmd": "print(var_dic_list())"
    },
    "r": {
     "delete_cmd_postfix": ") ",
     "delete_cmd_prefix": "rm(",
     "library": "var_list.r",
     "varRefreshCmd": "cat(var_dic_list()) "
    }
   },
   "types_to_exclude": [
    "module",
    "function",
    "builtin_function_or_method",
    "instance",
    "_Feature"
   ],
   "window_display": false
  }
 },
 "nbformat": 4,
 "nbformat_minor": 2
}
