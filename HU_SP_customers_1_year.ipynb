{
 "cells": [
  {
   "cell_type": "raw",
   "metadata": {},
   "source": [
    "select CUS_N_KEY_CUSTOMER as CUSTOMER_ID, count (distinct SCM_N_ORDER_NR) as ORDERS,\n",
    "min(TDT_T_KEY_ORDER_DATE) as FIRST_ORDER_DATE, max(TDT_T_KEY_ORDER_DATE) as LAST_ORDER_DATE,\n",
    "sum(SCM_D_FINANCE_CM2) as TOTAL_CM2, sum(SCM_D_ORIG_FINANCE_ORDER_NET) as NET_SALES,\n",
    "case when sum(SCM_D_ORIG_FINANCE_ORDER_NET) = 0 then 0\n",
    "else ROUND(sum(SCM_D_FINANCE_CM2) / sum(SCM_D_ORIG_FINANCE_ORDER_NET) * 100, 2)  \n",
    "end as CM2_REL, avg(CZP_ZTQ_ID) as ZTQ_ID, max(CZP_START_DATE) as START_DATE, max(CZP_EXPIRY_DATE) as EXPIRY_DATE\n",
    "from \n",
    "(\n",
    "select \n",
    "scm.scm_n_order_pos_nr, scm.scm_n_order_nr, scm.tdt_t_key_order_date, scm.THR_C_KEY_ORDER_HOUR, scm.SIT_N_KEY_SITE,\n",
    "scm.CUS_N_KEY_CUSTOMER, scm.SCM_SALES_BMF, scm.SCM_SALES_CANCEL_BMF, scm.SCM_D_FINANCE_CM1, scm.SCM_D_FINANCE_CM2,\n",
    "scm.SCM_D_ORIG_FINANCE_ORDER_NET,scm.SCM_AP_ID, scm.SCM_AS_ID, scm.SCM_MASTER_AP_ID, scm.SCM_IS_ZSP_ORDER, \n",
    "scm.SCM_C_ORDER_STATUS, scm.CTP_N_KEY_CUSTOMER_TYPE, scm.SCM_OCI_LAND, scm.SCM_D_FC_ID, scm.SCM_D_PC_DSP, scm.SCM_FC_SPLIT,\n",
    "czp.CZP_START_DATE, czp.CZP_EXPIRY_DATE, czp.CZP_ZTQ_ID, czp.CZP_PERCENTAGE, czp.CZP_PRICE\n",
    "from zoocube.ddstf_scm_sales_contrib_margin scm\n",
    "left outer join ZOOMAN.CUSTOMERS_ZOOPRIME_PLANS czp\n",
    "on scm.CUS_N_KEY_CUSTOMER = czp.CZP_K_ID \n",
    "and czp.CZP_EXPIRY_DATE > to_date((to_char(TDT_T_KEY_ORDER_DATE, 'dd/mm/yyyy') ||' '|| THR_C_KEY_ORDER_HOUR), 'dd/mm/yyyy HH24:MI')\n",
    "and czp.CZP_START_DATE <= to_date((to_char(TDT_T_KEY_ORDER_DATE, 'dd/mm/yyyy') ||' '|| THR_C_KEY_ORDER_HOUR), 'dd/mm/yyyy HH24:MI')\n",
    "where ((TDT_T_KEY_ORDER_DATE >= to_date('01/06/17', 'DD/MM/YY') and TDT_T_KEY_ORDER_DATE <= to_date('31/05/18', 'DD/MM/YY')))\n",
    "and SIT_N_KEY_SITE = 22 \n",
    "and (scm.SCM_C_ORDER_STATUS = 'L' OR scm.SCM_C_ORDER_STATUS = 'VK')\n",
    ")\n",
    "--where SIT_N_KEY_SITE = 15\n",
    "--and (SCM_C_ORDER_STATUS = 'L' or SCM_C_ORDER_STATUS = 'VK')\n",
    "--and TDT_T_KEY_ORDER_DATE >= to_date('01/06/17', 'DD/MM/YY') and (TDT_T_KEY_ORDER_DATE <= to_date('01/06/17', 'DD/MM/YY'))\n",
    "group by CUS_N_KEY_CUSTOMER\n",
    "having avg(CZP_ZTQ_ID) IN (51, 52, 53, 54, 55, 56)\n",
    ";"
   ]
  },
  {
   "cell_type": "code",
   "execution_count": 1,
   "metadata": {
    "ExecuteTime": {
     "end_time": "2018-06-22T14:46:10.893224Z",
     "start_time": "2018-06-22T14:46:09.462435Z"
    }
   },
   "outputs": [],
   "source": [
    "import numpy as np\n",
    "import pandas as pd\n",
    "import matplotlib.pyplot as plt\n",
    "%matplotlib inline\n",
    "from IPython.display import display\n",
    "from scipy import stats"
   ]
  },
  {
   "cell_type": "code",
   "execution_count": 2,
   "metadata": {
    "ExecuteTime": {
     "end_time": "2018-06-22T14:46:10.897224Z",
     "start_time": "2018-06-22T14:46:10.893224Z"
    }
   },
   "outputs": [],
   "source": [
    "data = pd.read_csv('hu_sp_customers_1_year.dsv', sep=';', low_memory=False)"
   ]
  },
  {
   "cell_type": "code",
   "execution_count": 3,
   "metadata": {
    "ExecuteTime": {
     "end_time": "2018-06-22T14:46:10.912224Z",
     "start_time": "2018-06-22T14:46:10.898224Z"
    }
   },
   "outputs": [
    {
     "name": "stdout",
     "output_type": "stream",
     "text": [
      "<class 'pandas.core.frame.DataFrame'>\n",
      "RangeIndex: 7443 entries, 0 to 7442\n",
      "Data columns (total 10 columns):\n",
      "CUSTOMER_ID         7443 non-null int64\n",
      "ORDERS              7443 non-null int64\n",
      "FIRST_ORDER_DATE    7443 non-null object\n",
      "LAST_ORDER_DATE     7443 non-null object\n",
      "TOTAL_CM2           7443 non-null object\n",
      "NET_SALES           7443 non-null object\n",
      "CM2_REL             7443 non-null object\n",
      "ZTQ_ID              7443 non-null int64\n",
      "START_DATE          7443 non-null object\n",
      "EXPIRY_DATE         7443 non-null object\n",
      "dtypes: int64(3), object(7)\n",
      "memory usage: 581.6+ KB\n"
     ]
    }
   ],
   "source": [
    "data.info()"
   ]
  },
  {
   "cell_type": "code",
   "execution_count": 4,
   "metadata": {
    "ExecuteTime": {
     "end_time": "2018-06-22T14:46:10.928224Z",
     "start_time": "2018-06-22T14:46:10.913224Z"
    }
   },
   "outputs": [],
   "source": [
    "data['CM2_REL'] = [i.replace(',', '.') for i in data['CM2_REL']]\n",
    "data['NET_SALES'] = [i.replace(',', '.') for i in data['NET_SALES']]\n",
    "data['TOTAL_CM2'] = [i.replace(',', '.') for i in data['TOTAL_CM2']]"
   ]
  },
  {
   "cell_type": "code",
   "execution_count": 5,
   "metadata": {
    "ExecuteTime": {
     "end_time": "2018-06-22T14:46:10.951224Z",
     "start_time": "2018-06-22T14:46:10.929224Z"
    }
   },
   "outputs": [],
   "source": [
    "data[['TOTAL_CM2', 'NET_SALES', 'CM2_REL']] = data[['TOTAL_CM2', 'NET_SALES', 'CM2_REL']].astype(float)"
   ]
  },
  {
   "cell_type": "code",
   "execution_count": 6,
   "metadata": {
    "ExecuteTime": {
     "end_time": "2018-06-22T14:46:10.988224Z",
     "start_time": "2018-06-22T14:46:10.952224Z"
    }
   },
   "outputs": [],
   "source": [
    "data['FIRST_ORDER_DATE'] = pd.to_datetime(data['FIRST_ORDER_DATE'], format='%d/%m/%y')"
   ]
  },
  {
   "cell_type": "code",
   "execution_count": 7,
   "metadata": {
    "ExecuteTime": {
     "end_time": "2018-06-22T14:46:11.026224Z",
     "start_time": "2018-06-22T14:46:10.989224Z"
    }
   },
   "outputs": [],
   "source": [
    "data['LAST_ORDER_DATE'] = pd.to_datetime(data['LAST_ORDER_DATE'], format='%d/%m/%y')"
   ]
  },
  {
   "cell_type": "code",
   "execution_count": 8,
   "metadata": {
    "ExecuteTime": {
     "end_time": "2018-06-22T14:46:11.066224Z",
     "start_time": "2018-06-22T14:46:11.028224Z"
    }
   },
   "outputs": [],
   "source": [
    "data['START_DATE'] = pd.to_datetime(data['START_DATE'], format='%d/%m/%y')"
   ]
  },
  {
   "cell_type": "code",
   "execution_count": 9,
   "metadata": {
    "ExecuteTime": {
     "end_time": "2018-06-22T14:46:11.104224Z",
     "start_time": "2018-06-22T14:46:11.068224Z"
    }
   },
   "outputs": [],
   "source": [
    "data['EXPIRY_DATE'] = pd.to_datetime(data['EXPIRY_DATE'], format='%d/%m/%y')"
   ]
  },
  {
   "cell_type": "code",
   "execution_count": 10,
   "metadata": {
    "ExecuteTime": {
     "end_time": "2018-06-22T14:46:11.134224Z",
     "start_time": "2018-06-22T14:46:11.106224Z"
    }
   },
   "outputs": [
    {
     "data": {
      "text/html": [
       "<div>\n",
       "<style scoped>\n",
       "    .dataframe tbody tr th:only-of-type {\n",
       "        vertical-align: middle;\n",
       "    }\n",
       "\n",
       "    .dataframe tbody tr th {\n",
       "        vertical-align: top;\n",
       "    }\n",
       "\n",
       "    .dataframe thead th {\n",
       "        text-align: right;\n",
       "    }\n",
       "</style>\n",
       "<table border=\"1\" class=\"dataframe\">\n",
       "  <thead>\n",
       "    <tr style=\"text-align: right;\">\n",
       "      <th></th>\n",
       "      <th>CUSTOMER_ID</th>\n",
       "      <th>ORDERS</th>\n",
       "      <th>FIRST_ORDER_DATE</th>\n",
       "      <th>LAST_ORDER_DATE</th>\n",
       "      <th>TOTAL_CM2</th>\n",
       "      <th>NET_SALES</th>\n",
       "      <th>CM2_REL</th>\n",
       "      <th>ZTQ_ID</th>\n",
       "      <th>START_DATE</th>\n",
       "      <th>EXPIRY_DATE</th>\n",
       "    </tr>\n",
       "  </thead>\n",
       "  <tbody>\n",
       "    <tr>\n",
       "      <th>0</th>\n",
       "      <td>8116945</td>\n",
       "      <td>7</td>\n",
       "      <td>2017-06-03</td>\n",
       "      <td>2018-05-01</td>\n",
       "      <td>42.1964</td>\n",
       "      <td>707.3064</td>\n",
       "      <td>5.97</td>\n",
       "      <td>54</td>\n",
       "      <td>2015-06-30</td>\n",
       "      <td>2018-06-30</td>\n",
       "    </tr>\n",
       "    <tr>\n",
       "      <th>1</th>\n",
       "      <td>10592245</td>\n",
       "      <td>20</td>\n",
       "      <td>2017-06-11</td>\n",
       "      <td>2018-05-25</td>\n",
       "      <td>0.3716</td>\n",
       "      <td>1158.5632</td>\n",
       "      <td>0.03</td>\n",
       "      <td>54</td>\n",
       "      <td>2016-01-08</td>\n",
       "      <td>2019-01-08</td>\n",
       "    </tr>\n",
       "    <tr>\n",
       "      <th>2</th>\n",
       "      <td>12418384</td>\n",
       "      <td>8</td>\n",
       "      <td>2017-07-25</td>\n",
       "      <td>2018-05-11</td>\n",
       "      <td>61.3529</td>\n",
       "      <td>585.5591</td>\n",
       "      <td>10.48</td>\n",
       "      <td>52</td>\n",
       "      <td>2016-03-16</td>\n",
       "      <td>2019-03-16</td>\n",
       "    </tr>\n",
       "    <tr>\n",
       "      <th>3</th>\n",
       "      <td>9317076</td>\n",
       "      <td>7</td>\n",
       "      <td>2017-07-10</td>\n",
       "      <td>2018-03-16</td>\n",
       "      <td>73.1310</td>\n",
       "      <td>537.2566</td>\n",
       "      <td>13.61</td>\n",
       "      <td>52</td>\n",
       "      <td>2016-05-20</td>\n",
       "      <td>2019-05-20</td>\n",
       "    </tr>\n",
       "    <tr>\n",
       "      <th>4</th>\n",
       "      <td>9622539</td>\n",
       "      <td>7</td>\n",
       "      <td>2017-07-20</td>\n",
       "      <td>2018-05-30</td>\n",
       "      <td>-30.0146</td>\n",
       "      <td>233.5246</td>\n",
       "      <td>-12.85</td>\n",
       "      <td>54</td>\n",
       "      <td>2016-08-04</td>\n",
       "      <td>2019-08-04</td>\n",
       "    </tr>\n",
       "  </tbody>\n",
       "</table>\n",
       "</div>"
      ],
      "text/plain": [
       "   CUSTOMER_ID  ORDERS FIRST_ORDER_DATE LAST_ORDER_DATE  TOTAL_CM2  NET_SALES  \\\n",
       "0      8116945       7       2017-06-03      2018-05-01    42.1964   707.3064   \n",
       "1     10592245      20       2017-06-11      2018-05-25     0.3716  1158.5632   \n",
       "2     12418384       8       2017-07-25      2018-05-11    61.3529   585.5591   \n",
       "3      9317076       7       2017-07-10      2018-03-16    73.1310   537.2566   \n",
       "4      9622539       7       2017-07-20      2018-05-30   -30.0146   233.5246   \n",
       "\n",
       "   CM2_REL  ZTQ_ID START_DATE EXPIRY_DATE  \n",
       "0     5.97      54 2015-06-30  2018-06-30  \n",
       "1     0.03      54 2016-01-08  2019-01-08  \n",
       "2    10.48      52 2016-03-16  2019-03-16  \n",
       "3    13.61      52 2016-05-20  2019-05-20  \n",
       "4   -12.85      54 2016-08-04  2019-08-04  "
      ]
     },
     "execution_count": 10,
     "metadata": {},
     "output_type": "execute_result"
    }
   ],
   "source": [
    "data.head()"
   ]
  },
  {
   "cell_type": "code",
   "execution_count": 11,
   "metadata": {
    "ExecuteTime": {
     "end_time": "2018-06-22T14:46:11.151224Z",
     "start_time": "2018-06-22T14:46:11.135224Z"
    }
   },
   "outputs": [],
   "source": [
    "tiers = [51, 52, 53, 54, 55, 56]"
   ]
  },
  {
   "cell_type": "code",
   "execution_count": 12,
   "metadata": {
    "ExecuteTime": {
     "end_time": "2018-06-22T14:46:13.587208Z",
     "start_time": "2018-06-22T14:46:11.153224Z"
    },
    "scrolled": false
   },
   "outputs": [
    {
     "name": "stdout",
     "output_type": "stream",
     "text": [
      "...........................................................TIER  51 ..........................................................\n"
     ]
    },
    {
     "data": {
      "image/png": "[encoded data removed]",
      "text/plain": [
       "<matplotlib.figure.Figure at 0xb238748>"
      ]
     },
     "metadata": {},
     "output_type": "display_data"
    },
    {
     "data": {
      "text/html": [
       "<div>\n",
       "<style scoped>\n",
       "    .dataframe tbody tr th:only-of-type {\n",
       "        vertical-align: middle;\n",
       "    }\n",
       "\n",
       "    .dataframe tbody tr th {\n",
       "        vertical-align: top;\n",
       "    }\n",
       "\n",
       "    .dataframe thead th {\n",
       "        text-align: right;\n",
       "    }\n",
       "</style>\n",
       "<table border=\"1\" class=\"dataframe\">\n",
       "  <thead>\n",
       "    <tr style=\"text-align: right;\">\n",
       "      <th></th>\n",
       "      <th>CM2_REL</th>\n",
       "    </tr>\n",
       "  </thead>\n",
       "  <tbody>\n",
       "    <tr>\n",
       "      <th>count</th>\n",
       "      <td>1960.00</td>\n",
       "    </tr>\n",
       "    <tr>\n",
       "      <th>mean</th>\n",
       "      <td>8.83</td>\n",
       "    </tr>\n",
       "    <tr>\n",
       "      <th>std</th>\n",
       "      <td>6.72</td>\n",
       "    </tr>\n",
       "    <tr>\n",
       "      <th>min</th>\n",
       "      <td>-23.41</td>\n",
       "    </tr>\n",
       "    <tr>\n",
       "      <th>25%</th>\n",
       "      <td>4.65</td>\n",
       "    </tr>\n",
       "    <tr>\n",
       "      <th>50%</th>\n",
       "      <td>9.10</td>\n",
       "    </tr>\n",
       "    <tr>\n",
       "      <th>75%</th>\n",
       "      <td>13.09</td>\n",
       "    </tr>\n",
       "    <tr>\n",
       "      <th>max</th>\n",
       "      <td>41.39</td>\n",
       "    </tr>\n",
       "  </tbody>\n",
       "</table>\n",
       "</div>"
      ],
      "text/plain": [
       "       CM2_REL\n",
       "count  1960.00\n",
       "mean      8.83\n",
       "std       6.72\n",
       "min     -23.41\n",
       "25%       4.65\n",
       "50%       9.10\n",
       "75%      13.09\n",
       "max      41.39"
      ]
     },
     "metadata": {},
     "output_type": "display_data"
    },
    {
     "name": "stdout",
     "output_type": "stream",
     "text": [
      "CM2% threshold >= 5  is the percentile 26.79\n",
      "CM2% threshold >= 7  is the percentile 37.6\n",
      "CM2% threshold >=  5.617  is the percentile 30 allowing us to stay with the 70% of our sample\n"
     ]
    },
    {
     "data": {
      "image/png": "[encoded data removed]",
      "text/plain": [
       "<matplotlib.figure.Figure at 0xb322e80>"
      ]
     },
     "metadata": {},
     "output_type": "display_data"
    },
    {
     "data": {
      "text/html": [
       "<div>\n",
       "<style scoped>\n",
       "    .dataframe tbody tr th:only-of-type {\n",
       "        vertical-align: middle;\n",
       "    }\n",
       "\n",
       "    .dataframe tbody tr th {\n",
       "        vertical-align: top;\n",
       "    }\n",
       "\n",
       "    .dataframe thead th {\n",
       "        text-align: right;\n",
       "    }\n",
       "</style>\n",
       "<table border=\"1\" class=\"dataframe\">\n",
       "  <thead>\n",
       "    <tr style=\"text-align: right;\">\n",
       "      <th></th>\n",
       "      <th>ORDERS</th>\n",
       "    </tr>\n",
       "  </thead>\n",
       "  <tbody>\n",
       "    <tr>\n",
       "      <th>count</th>\n",
       "      <td>1960.00</td>\n",
       "    </tr>\n",
       "    <tr>\n",
       "      <th>mean</th>\n",
       "      <td>6.97</td>\n",
       "    </tr>\n",
       "    <tr>\n",
       "      <th>std</th>\n",
       "      <td>5.28</td>\n",
       "    </tr>\n",
       "    <tr>\n",
       "      <th>min</th>\n",
       "      <td>1.00</td>\n",
       "    </tr>\n",
       "    <tr>\n",
       "      <th>25%</th>\n",
       "      <td>4.00</td>\n",
       "    </tr>\n",
       "    <tr>\n",
       "      <th>50%</th>\n",
       "      <td>6.00</td>\n",
       "    </tr>\n",
       "    <tr>\n",
       "      <th>75%</th>\n",
       "      <td>9.00</td>\n",
       "    </tr>\n",
       "    <tr>\n",
       "      <th>max</th>\n",
       "      <td>55.00</td>\n",
       "    </tr>\n",
       "  </tbody>\n",
       "</table>\n",
       "</div>"
      ],
      "text/plain": [
       "        ORDERS\n",
       "count  1960.00\n",
       "mean      6.97\n",
       "std       5.28\n",
       "min       1.00\n",
       "25%       4.00\n",
       "50%       6.00\n",
       "75%       9.00\n",
       "max      55.00"
      ]
     },
     "metadata": {},
     "output_type": "display_data"
    },
    {
     "name": "stdout",
     "output_type": "stream",
     "text": [
      "4.0  is the percentile 30 allowing us to stay with the 70% of our sample\n",
      "                                                                                                                    \n",
      "With CM2% threshold >= 5 and Orders >=  4.0  we keep eligible a  56.89  % from our customers\n",
      "With CM2% threshold >= 7 and Orders >=  4.0  we keep eligible a  48.11  % from our customers\n",
      "With CM2% threshold >=  5.617  and Orders >=  4.0  we keep eligible a  54.23  % from our customers\n",
      "                                                                                                                    \n",
      "                                                                                                                    \n",
      "...........................................................TIER  52 ..........................................................\n"
     ]
    },
    {
     "data": {
      "image/png": "[encoded data removed]",
      "text/plain": [
       "<matplotlib.figure.Figure at 0xb374e80>"
      ]
     },
     "metadata": {},
     "output_type": "display_data"
    },
    {
     "data": {
      "text/html": [
       "<div>\n",
       "<style scoped>\n",
       "    .dataframe tbody tr th:only-of-type {\n",
       "        vertical-align: middle;\n",
       "    }\n",
       "\n",
       "    .dataframe tbody tr th {\n",
       "        vertical-align: top;\n",
       "    }\n",
       "\n",
       "    .dataframe thead th {\n",
       "        text-align: right;\n",
       "    }\n",
       "</style>\n",
       "<table border=\"1\" class=\"dataframe\">\n",
       "  <thead>\n",
       "    <tr style=\"text-align: right;\">\n",
       "      <th></th>\n",
       "      <th>CM2_REL</th>\n",
       "    </tr>\n",
       "  </thead>\n",
       "  <tbody>\n",
       "    <tr>\n",
       "      <th>count</th>\n",
       "      <td>626.00</td>\n",
       "    </tr>\n",
       "    <tr>\n",
       "      <th>mean</th>\n",
       "      <td>8.80</td>\n",
       "    </tr>\n",
       "    <tr>\n",
       "      <th>std</th>\n",
       "      <td>7.67</td>\n",
       "    </tr>\n",
       "    <tr>\n",
       "      <th>min</th>\n",
       "      <td>-23.61</td>\n",
       "    </tr>\n",
       "    <tr>\n",
       "      <th>25%</th>\n",
       "      <td>4.26</td>\n",
       "    </tr>\n",
       "    <tr>\n",
       "      <th>50%</th>\n",
       "      <td>9.21</td>\n",
       "    </tr>\n",
       "    <tr>\n",
       "      <th>75%</th>\n",
       "      <td>13.41</td>\n",
       "    </tr>\n",
       "    <tr>\n",
       "      <th>max</th>\n",
       "      <td>51.53</td>\n",
       "    </tr>\n",
       "  </tbody>\n",
       "</table>\n",
       "</div>"
      ],
      "text/plain": [
       "       CM2_REL\n",
       "count   626.00\n",
       "mean      8.80\n",
       "std       7.67\n",
       "min     -23.61\n",
       "25%       4.26\n",
       "50%       9.21\n",
       "75%      13.41\n",
       "max      51.53"
      ]
     },
     "metadata": {},
     "output_type": "display_data"
    },
    {
     "name": "stdout",
     "output_type": "stream",
     "text": [
      "CM2% threshold >= 5  is the percentile 28.27\n",
      "CM2% threshold >= 7  is the percentile 37.38\n",
      "CM2% threshold >=  5.369999999999999  is the percentile 30 allowing us to stay with the 70% of our sample\n"
     ]
    },
    {
     "data": {
      "image/png": "[encoded data removed]",
      "text/plain": [
       "<matplotlib.figure.Figure at 0xb895f98>"
      ]
     },
     "metadata": {},
     "output_type": "display_data"
    },
    {
     "data": {
      "text/html": [
       "<div>\n",
       "<style scoped>\n",
       "    .dataframe tbody tr th:only-of-type {\n",
       "        vertical-align: middle;\n",
       "    }\n",
       "\n",
       "    .dataframe tbody tr th {\n",
       "        vertical-align: top;\n",
       "    }\n",
       "\n",
       "    .dataframe thead th {\n",
       "        text-align: right;\n",
       "    }\n",
       "</style>\n",
       "<table border=\"1\" class=\"dataframe\">\n",
       "  <thead>\n",
       "    <tr style=\"text-align: right;\">\n",
       "      <th></th>\n",
       "      <th>ORDERS</th>\n",
       "    </tr>\n",
       "  </thead>\n",
       "  <tbody>\n",
       "    <tr>\n",
       "      <th>count</th>\n",
       "      <td>626.00</td>\n",
       "    </tr>\n",
       "    <tr>\n",
       "      <th>mean</th>\n",
       "      <td>6.55</td>\n",
       "    </tr>\n",
       "    <tr>\n",
       "      <th>std</th>\n",
       "      <td>5.53</td>\n",
       "    </tr>\n",
       "    <tr>\n",
       "      <th>min</th>\n",
       "      <td>1.00</td>\n",
       "    </tr>\n",
       "    <tr>\n",
       "      <th>25%</th>\n",
       "      <td>3.00</td>\n",
       "    </tr>\n",
       "    <tr>\n",
       "      <th>50%</th>\n",
       "      <td>5.00</td>\n",
       "    </tr>\n",
       "    <tr>\n",
       "      <th>75%</th>\n",
       "      <td>8.00</td>\n",
       "    </tr>\n",
       "    <tr>\n",
       "      <th>max</th>\n",
       "      <td>52.00</td>\n",
       "    </tr>\n",
       "  </tbody>\n",
       "</table>\n",
       "</div>"
      ],
      "text/plain": [
       "       ORDERS\n",
       "count  626.00\n",
       "mean     6.55\n",
       "std      5.53\n",
       "min      1.00\n",
       "25%      3.00\n",
       "50%      5.00\n",
       "75%      8.00\n",
       "max     52.00"
      ]
     },
     "metadata": {},
     "output_type": "display_data"
    },
    {
     "name": "stdout",
     "output_type": "stream",
     "text": [
      "4.0  is the percentile 30 allowing us to stay with the 70% of our sample\n",
      "                                                                                                                    \n",
      "With CM2% threshold >= 5 and Orders >=  4.0  we keep eligible a  52.88  % from our customers\n",
      "With CM2% threshold >= 7 and Orders >=  4.0  we keep eligible a  45.37  % from our customers\n",
      "With CM2% threshold >=  5.369999999999999  and Orders >=  4.0  we keep eligible a  51.44  % from our customers\n",
      "                                                                                                                    \n",
      "                                                                                                                    \n",
      "...........................................................TIER  53 ..........................................................\n"
     ]
    },
    {
     "data": {
      "image/png": "[encoded data removed]",
      "text/plain": [
       "<matplotlib.figure.Figure at 0xb3eee48>"
      ]
     },
     "metadata": {},
     "output_type": "display_data"
    },
    {
     "data": {
      "text/html": [
       "<div>\n",
       "<style scoped>\n",
       "    .dataframe tbody tr th:only-of-type {\n",
       "        vertical-align: middle;\n",
       "    }\n",
       "\n",
       "    .dataframe tbody tr th {\n",
       "        vertical-align: top;\n",
       "    }\n",
       "\n",
       "    .dataframe thead th {\n",
       "        text-align: right;\n",
       "    }\n",
       "</style>\n",
       "<table border=\"1\" class=\"dataframe\">\n",
       "  <thead>\n",
       "    <tr style=\"text-align: right;\">\n",
       "      <th></th>\n",
       "      <th>CM2_REL</th>\n",
       "    </tr>\n",
       "  </thead>\n",
       "  <tbody>\n",
       "    <tr>\n",
       "      <th>count</th>\n",
       "      <td>1052.00</td>\n",
       "    </tr>\n",
       "    <tr>\n",
       "      <th>mean</th>\n",
       "      <td>9.52</td>\n",
       "    </tr>\n",
       "    <tr>\n",
       "      <th>std</th>\n",
       "      <td>8.41</td>\n",
       "    </tr>\n",
       "    <tr>\n",
       "      <th>min</th>\n",
       "      <td>-24.35</td>\n",
       "    </tr>\n",
       "    <tr>\n",
       "      <th>25%</th>\n",
       "      <td>4.01</td>\n",
       "    </tr>\n",
       "    <tr>\n",
       "      <th>50%</th>\n",
       "      <td>9.41</td>\n",
       "    </tr>\n",
       "    <tr>\n",
       "      <th>75%</th>\n",
       "      <td>15.17</td>\n",
       "    </tr>\n",
       "    <tr>\n",
       "      <th>max</th>\n",
       "      <td>46.58</td>\n",
       "    </tr>\n",
       "  </tbody>\n",
       "</table>\n",
       "</div>"
      ],
      "text/plain": [
       "       CM2_REL\n",
       "count  1052.00\n",
       "mean      9.52\n",
       "std       8.41\n",
       "min     -24.35\n",
       "25%       4.01\n",
       "50%       9.41\n",
       "75%      15.17\n",
       "max      46.58"
      ]
     },
     "metadata": {},
     "output_type": "display_data"
    },
    {
     "name": "stdout",
     "output_type": "stream",
     "text": [
      "CM2% threshold >= 5  is the percentile 29.66\n",
      "CM2% threshold >= 7  is the percentile 38.88\n",
      "CM2% threshold >=  5.0920000000000005  is the percentile 30 allowing us to stay with the 70% of our sample\n"
     ]
    },
    {
     "data": {
      "image/png": "[encoded data removed]",
      "text/plain": [
       "<matplotlib.figure.Figure at 0xb90a940>"
      ]
     },
     "metadata": {},
     "output_type": "display_data"
    },
    {
     "data": {
      "text/html": [
       "<div>\n",
       "<style scoped>\n",
       "    .dataframe tbody tr th:only-of-type {\n",
       "        vertical-align: middle;\n",
       "    }\n",
       "\n",
       "    .dataframe tbody tr th {\n",
       "        vertical-align: top;\n",
       "    }\n",
       "\n",
       "    .dataframe thead th {\n",
       "        text-align: right;\n",
       "    }\n",
       "</style>\n",
       "<table border=\"1\" class=\"dataframe\">\n",
       "  <thead>\n",
       "    <tr style=\"text-align: right;\">\n",
       "      <th></th>\n",
       "      <th>ORDERS</th>\n",
       "    </tr>\n",
       "  </thead>\n",
       "  <tbody>\n",
       "    <tr>\n",
       "      <th>count</th>\n",
       "      <td>1052.00</td>\n",
       "    </tr>\n",
       "    <tr>\n",
       "      <th>mean</th>\n",
       "      <td>6.71</td>\n",
       "    </tr>\n",
       "    <tr>\n",
       "      <th>std</th>\n",
       "      <td>5.07</td>\n",
       "    </tr>\n",
       "    <tr>\n",
       "      <th>min</th>\n",
       "      <td>1.00</td>\n",
       "    </tr>\n",
       "    <tr>\n",
       "      <th>25%</th>\n",
       "      <td>3.00</td>\n",
       "    </tr>\n",
       "    <tr>\n",
       "      <th>50%</th>\n",
       "      <td>6.00</td>\n",
       "    </tr>\n",
       "    <tr>\n",
       "      <th>75%</th>\n",
       "      <td>9.00</td>\n",
       "    </tr>\n",
       "    <tr>\n",
       "      <th>max</th>\n",
       "      <td>46.00</td>\n",
       "    </tr>\n",
       "  </tbody>\n",
       "</table>\n",
       "</div>"
      ],
      "text/plain": [
       "        ORDERS\n",
       "count  1052.00\n",
       "mean      6.71\n",
       "std       5.07\n",
       "min       1.00\n",
       "25%       3.00\n",
       "50%       6.00\n",
       "75%       9.00\n",
       "max      46.00"
      ]
     },
     "metadata": {},
     "output_type": "display_data"
    },
    {
     "name": "stdout",
     "output_type": "stream",
     "text": [
      "4.0  is the percentile 30 allowing us to stay with the 70% of our sample\n",
      "                                                                                                                    \n",
      "With CM2% threshold >= 5 and Orders >=  4.0  we keep eligible a  50.29  % from our customers\n",
      "With CM2% threshold >= 7 and Orders >=  4.0  we keep eligible a  43.06  % from our customers\n",
      "With CM2% threshold >=  5.0920000000000005  and Orders >=  4.0  we keep eligible a  50.0  % from our customers\n",
      "                                                                                                                    \n",
      "                                                                                                                    \n",
      "...........................................................TIER  54 ..........................................................\n"
     ]
    },
    {
     "data": {
      "image/png": "[encoded data removed]",
      "text/plain": [
       "<matplotlib.figure.Figure at 0xba68be0>"
      ]
     },
     "metadata": {},
     "output_type": "display_data"
    },
    {
     "data": {
      "text/html": [
       "<div>\n",
       "<style scoped>\n",
       "    .dataframe tbody tr th:only-of-type {\n",
       "        vertical-align: middle;\n",
       "    }\n",
       "\n",
       "    .dataframe tbody tr th {\n",
       "        vertical-align: top;\n",
       "    }\n",
       "\n",
       "    .dataframe thead th {\n",
       "        text-align: right;\n",
       "    }\n",
       "</style>\n",
       "<table border=\"1\" class=\"dataframe\">\n",
       "  <thead>\n",
       "    <tr style=\"text-align: right;\">\n",
       "      <th></th>\n",
       "      <th>CM2_REL</th>\n",
       "    </tr>\n",
       "  </thead>\n",
       "  <tbody>\n",
       "    <tr>\n",
       "      <th>count</th>\n",
       "      <td>546.00</td>\n",
       "    </tr>\n",
       "    <tr>\n",
       "      <th>mean</th>\n",
       "      <td>6.05</td>\n",
       "    </tr>\n",
       "    <tr>\n",
       "      <th>std</th>\n",
       "      <td>8.47</td>\n",
       "    </tr>\n",
       "    <tr>\n",
       "      <th>min</th>\n",
       "      <td>-15.12</td>\n",
       "    </tr>\n",
       "    <tr>\n",
       "      <th>25%</th>\n",
       "      <td>0.36</td>\n",
       "    </tr>\n",
       "    <tr>\n",
       "      <th>50%</th>\n",
       "      <td>5.08</td>\n",
       "    </tr>\n",
       "    <tr>\n",
       "      <th>75%</th>\n",
       "      <td>10.93</td>\n",
       "    </tr>\n",
       "    <tr>\n",
       "      <th>max</th>\n",
       "      <td>38.25</td>\n",
       "    </tr>\n",
       "  </tbody>\n",
       "</table>\n",
       "</div>"
      ],
      "text/plain": [
       "       CM2_REL\n",
       "count   546.00\n",
       "mean      6.05\n",
       "std       8.47\n",
       "min     -15.12\n",
       "25%       0.36\n",
       "50%       5.08\n",
       "75%      10.93\n",
       "max      38.25"
      ]
     },
     "metadata": {},
     "output_type": "display_data"
    },
    {
     "name": "stdout",
     "output_type": "stream",
     "text": [
      "CM2% threshold >= 5  is the percentile 49.45\n",
      "CM2% threshold >= 7  is the percentile 59.16\n",
      "CM2% threshold >=  1.27  is the percentile 30 allowing us to stay with the 70% of our sample\n"
     ]
    },
    {
     "data": {
      "image/png": "[encoded data removed]",
      "text/plain": [
       "<matplotlib.figure.Figure at 0xbb0ab00>"
      ]
     },
     "metadata": {},
     "output_type": "display_data"
    },
    {
     "data": {
      "text/html": [
       "<div>\n",
       "<style scoped>\n",
       "    .dataframe tbody tr th:only-of-type {\n",
       "        vertical-align: middle;\n",
       "    }\n",
       "\n",
       "    .dataframe tbody tr th {\n",
       "        vertical-align: top;\n",
       "    }\n",
       "\n",
       "    .dataframe thead th {\n",
       "        text-align: right;\n",
       "    }\n",
       "</style>\n",
       "<table border=\"1\" class=\"dataframe\">\n",
       "  <thead>\n",
       "    <tr style=\"text-align: right;\">\n",
       "      <th></th>\n",
       "      <th>ORDERS</th>\n",
       "    </tr>\n",
       "  </thead>\n",
       "  <tbody>\n",
       "    <tr>\n",
       "      <th>count</th>\n",
       "      <td>546.00</td>\n",
       "    </tr>\n",
       "    <tr>\n",
       "      <th>mean</th>\n",
       "      <td>7.35</td>\n",
       "    </tr>\n",
       "    <tr>\n",
       "      <th>std</th>\n",
       "      <td>7.55</td>\n",
       "    </tr>\n",
       "    <tr>\n",
       "      <th>min</th>\n",
       "      <td>1.00</td>\n",
       "    </tr>\n",
       "    <tr>\n",
       "      <th>25%</th>\n",
       "      <td>3.00</td>\n",
       "    </tr>\n",
       "    <tr>\n",
       "      <th>50%</th>\n",
       "      <td>5.00</td>\n",
       "    </tr>\n",
       "    <tr>\n",
       "      <th>75%</th>\n",
       "      <td>9.00</td>\n",
       "    </tr>\n",
       "    <tr>\n",
       "      <th>max</th>\n",
       "      <td>95.00</td>\n",
       "    </tr>\n",
       "  </tbody>\n",
       "</table>\n",
       "</div>"
      ],
      "text/plain": [
       "       ORDERS\n",
       "count  546.00\n",
       "mean     7.35\n",
       "std      7.55\n",
       "min      1.00\n",
       "25%      3.00\n",
       "50%      5.00\n",
       "75%      9.00\n",
       "max     95.00"
      ]
     },
     "metadata": {},
     "output_type": "display_data"
    },
    {
     "name": "stdout",
     "output_type": "stream",
     "text": [
      "4.0  is the percentile 30 allowing us to stay with the 70% of our sample\n",
      "                                                                                                                    \n",
      "With CM2% threshold >= 5 and Orders >=  4.0  we keep eligible a  35.35  % from our customers\n",
      "With CM2% threshold >= 7 and Orders >=  4.0  we keep eligible a  28.94  % from our customers\n",
      "With CM2% threshold >=  1.27  and Orders >=  4.0  we keep eligible a  51.28  % from our customers\n",
      "                                                                                                                    \n",
      "                                                                                                                    \n",
      "...........................................................TIER  55 ..........................................................\n"
     ]
    },
    {
     "data": {
      "image/png": "[encoded data removed]",
      "text/plain": [
       "<matplotlib.figure.Figure at 0xbd703c8>"
      ]
     },
     "metadata": {},
     "output_type": "display_data"
    },
    {
     "data": {
      "text/html": [
       "<div>\n",
       "<style scoped>\n",
       "    .dataframe tbody tr th:only-of-type {\n",
       "        vertical-align: middle;\n",
       "    }\n",
       "\n",
       "    .dataframe tbody tr th {\n",
       "        vertical-align: top;\n",
       "    }\n",
       "\n",
       "    .dataframe thead th {\n",
       "        text-align: right;\n",
       "    }\n",
       "</style>\n",
       "<table border=\"1\" class=\"dataframe\">\n",
       "  <thead>\n",
       "    <tr style=\"text-align: right;\">\n",
       "      <th></th>\n",
       "      <th>CM2_REL</th>\n",
       "    </tr>\n",
       "  </thead>\n",
       "  <tbody>\n",
       "    <tr>\n",
       "      <th>count</th>\n",
       "      <td>248.00</td>\n",
       "    </tr>\n",
       "    <tr>\n",
       "      <th>mean</th>\n",
       "      <td>6.24</td>\n",
       "    </tr>\n",
       "    <tr>\n",
       "      <th>std</th>\n",
       "      <td>8.24</td>\n",
       "    </tr>\n",
       "    <tr>\n",
       "      <th>min</th>\n",
       "      <td>-21.92</td>\n",
       "    </tr>\n",
       "    <tr>\n",
       "      <th>25%</th>\n",
       "      <td>1.28</td>\n",
       "    </tr>\n",
       "    <tr>\n",
       "      <th>50%</th>\n",
       "      <td>6.12</td>\n",
       "    </tr>\n",
       "    <tr>\n",
       "      <th>75%</th>\n",
       "      <td>11.05</td>\n",
       "    </tr>\n",
       "    <tr>\n",
       "      <th>max</th>\n",
       "      <td>36.36</td>\n",
       "    </tr>\n",
       "  </tbody>\n",
       "</table>\n",
       "</div>"
      ],
      "text/plain": [
       "       CM2_REL\n",
       "count   248.00\n",
       "mean      6.24\n",
       "std       8.24\n",
       "min     -21.92\n",
       "25%       1.28\n",
       "50%       6.12\n",
       "75%      11.05\n",
       "max      36.36"
      ]
     },
     "metadata": {},
     "output_type": "display_data"
    },
    {
     "name": "stdout",
     "output_type": "stream",
     "text": [
      "CM2% threshold >= 5  is the percentile 43.95\n",
      "CM2% threshold >= 7  is the percentile 54.84\n",
      "CM2% threshold >=  2.5729999999999995  is the percentile 30 allowing us to stay with the 70% of our sample\n"
     ]
    },
    {
     "data": {
      "image/png": "[encoded data removed]",
      "text/plain": [
       "<matplotlib.figure.Figure at 0xbd0e400>"
      ]
     },
     "metadata": {},
     "output_type": "display_data"
    },
    {
     "data": {
      "text/html": [
       "<div>\n",
       "<style scoped>\n",
       "    .dataframe tbody tr th:only-of-type {\n",
       "        vertical-align: middle;\n",
       "    }\n",
       "\n",
       "    .dataframe tbody tr th {\n",
       "        vertical-align: top;\n",
       "    }\n",
       "\n",
       "    .dataframe thead th {\n",
       "        text-align: right;\n",
       "    }\n",
       "</style>\n",
       "<table border=\"1\" class=\"dataframe\">\n",
       "  <thead>\n",
       "    <tr style=\"text-align: right;\">\n",
       "      <th></th>\n",
       "      <th>ORDERS</th>\n",
       "    </tr>\n",
       "  </thead>\n",
       "  <tbody>\n",
       "    <tr>\n",
       "      <th>count</th>\n",
       "      <td>248.00</td>\n",
       "    </tr>\n",
       "    <tr>\n",
       "      <th>mean</th>\n",
       "      <td>4.17</td>\n",
       "    </tr>\n",
       "    <tr>\n",
       "      <th>std</th>\n",
       "      <td>3.31</td>\n",
       "    </tr>\n",
       "    <tr>\n",
       "      <th>min</th>\n",
       "      <td>1.00</td>\n",
       "    </tr>\n",
       "    <tr>\n",
       "      <th>25%</th>\n",
       "      <td>2.00</td>\n",
       "    </tr>\n",
       "    <tr>\n",
       "      <th>50%</th>\n",
       "      <td>3.00</td>\n",
       "    </tr>\n",
       "    <tr>\n",
       "      <th>75%</th>\n",
       "      <td>5.00</td>\n",
       "    </tr>\n",
       "    <tr>\n",
       "      <th>max</th>\n",
       "      <td>25.00</td>\n",
       "    </tr>\n",
       "  </tbody>\n",
       "</table>\n",
       "</div>"
      ],
      "text/plain": [
       "       ORDERS\n",
       "count  248.00\n",
       "mean     4.17\n",
       "std      3.31\n",
       "min      1.00\n",
       "25%      2.00\n",
       "50%      3.00\n",
       "75%      5.00\n",
       "max     25.00"
      ]
     },
     "metadata": {},
     "output_type": "display_data"
    },
    {
     "name": "stdout",
     "output_type": "stream",
     "text": [
      "2.0  is the percentile 30 allowing us to stay with the 70% of our sample\n",
      "                                                                                                                    \n",
      "With CM2% threshold >= 5 and Orders >=  2.0  we keep eligible a  51.61  % from our customers\n",
      "With CM2% threshold >= 7 and Orders >=  2.0  we keep eligible a  40.73  % from our customers\n",
      "With CM2% threshold >=  2.5729999999999995  and Orders >=  2.0  we keep eligible a  62.5  % from our customers\n",
      "                                                                                                                    \n",
      "                                                                                                                    \n",
      "...........................................................TIER  56 ..........................................................\n"
     ]
    },
    {
     "data": {
      "image/png": "[encoded data removed]",
      "text/plain": [
       "<matplotlib.figure.Figure at 0xbd369e8>"
      ]
     },
     "metadata": {},
     "output_type": "display_data"
    },
    {
     "data": {
      "text/html": [
       "<div>\n",
       "<style scoped>\n",
       "    .dataframe tbody tr th:only-of-type {\n",
       "        vertical-align: middle;\n",
       "    }\n",
       "\n",
       "    .dataframe tbody tr th {\n",
       "        vertical-align: top;\n",
       "    }\n",
       "\n",
       "    .dataframe thead th {\n",
       "        text-align: right;\n",
       "    }\n",
       "</style>\n",
       "<table border=\"1\" class=\"dataframe\">\n",
       "  <thead>\n",
       "    <tr style=\"text-align: right;\">\n",
       "      <th></th>\n",
       "      <th>CM2_REL</th>\n",
       "    </tr>\n",
       "  </thead>\n",
       "  <tbody>\n",
       "    <tr>\n",
       "      <th>count</th>\n",
       "      <td>3011.00</td>\n",
       "    </tr>\n",
       "    <tr>\n",
       "      <th>mean</th>\n",
       "      <td>4.88</td>\n",
       "    </tr>\n",
       "    <tr>\n",
       "      <th>std</th>\n",
       "      <td>8.18</td>\n",
       "    </tr>\n",
       "    <tr>\n",
       "      <th>min</th>\n",
       "      <td>-42.74</td>\n",
       "    </tr>\n",
       "    <tr>\n",
       "      <th>25%</th>\n",
       "      <td>-0.39</td>\n",
       "    </tr>\n",
       "    <tr>\n",
       "      <th>50%</th>\n",
       "      <td>4.47</td>\n",
       "    </tr>\n",
       "    <tr>\n",
       "      <th>75%</th>\n",
       "      <td>9.90</td>\n",
       "    </tr>\n",
       "    <tr>\n",
       "      <th>max</th>\n",
       "      <td>37.32</td>\n",
       "    </tr>\n",
       "  </tbody>\n",
       "</table>\n",
       "</div>"
      ],
      "text/plain": [
       "       CM2_REL\n",
       "count  3011.00\n",
       "mean      4.88\n",
       "std       8.18\n",
       "min     -42.74\n",
       "25%      -0.39\n",
       "50%       4.47\n",
       "75%       9.90\n",
       "max      37.32"
      ]
     },
     "metadata": {},
     "output_type": "display_data"
    },
    {
     "name": "stdout",
     "output_type": "stream",
     "text": [
      "CM2% threshold >= 5  is the percentile 53.04\n",
      "CM2% threshold >= 7  is the percentile 62.6\n",
      "CM2% threshold >=  0.74  is the percentile 30 allowing us to stay with the 70% of our sample\n"
     ]
    },
    {
     "data": {
      "image/png": "[encoded data removed]",
      "text/plain": [
       "<matplotlib.figure.Figure at 0xbd72fd0>"
      ]
     },
     "metadata": {},
     "output_type": "display_data"
    },
    {
     "data": {
      "text/html": [
       "<div>\n",
       "<style scoped>\n",
       "    .dataframe tbody tr th:only-of-type {\n",
       "        vertical-align: middle;\n",
       "    }\n",
       "\n",
       "    .dataframe tbody tr th {\n",
       "        vertical-align: top;\n",
       "    }\n",
       "\n",
       "    .dataframe thead th {\n",
       "        text-align: right;\n",
       "    }\n",
       "</style>\n",
       "<table border=\"1\" class=\"dataframe\">\n",
       "  <thead>\n",
       "    <tr style=\"text-align: right;\">\n",
       "      <th></th>\n",
       "      <th>ORDERS</th>\n",
       "    </tr>\n",
       "  </thead>\n",
       "  <tbody>\n",
       "    <tr>\n",
       "      <th>count</th>\n",
       "      <td>3011.00</td>\n",
       "    </tr>\n",
       "    <tr>\n",
       "      <th>mean</th>\n",
       "      <td>4.63</td>\n",
       "    </tr>\n",
       "    <tr>\n",
       "      <th>std</th>\n",
       "      <td>4.47</td>\n",
       "    </tr>\n",
       "    <tr>\n",
       "      <th>min</th>\n",
       "      <td>1.00</td>\n",
       "    </tr>\n",
       "    <tr>\n",
       "      <th>25%</th>\n",
       "      <td>2.00</td>\n",
       "    </tr>\n",
       "    <tr>\n",
       "      <th>50%</th>\n",
       "      <td>3.00</td>\n",
       "    </tr>\n",
       "    <tr>\n",
       "      <th>75%</th>\n",
       "      <td>6.00</td>\n",
       "    </tr>\n",
       "    <tr>\n",
       "      <th>max</th>\n",
       "      <td>88.00</td>\n",
       "    </tr>\n",
       "  </tbody>\n",
       "</table>\n",
       "</div>"
      ],
      "text/plain": [
       "        ORDERS\n",
       "count  3011.00\n",
       "mean      4.63\n",
       "std       4.47\n",
       "min       1.00\n",
       "25%       2.00\n",
       "50%       3.00\n",
       "75%       6.00\n",
       "max      88.00"
      ]
     },
     "metadata": {},
     "output_type": "display_data"
    },
    {
     "name": "stdout",
     "output_type": "stream",
     "text": [
      "2.0  is the percentile 30 allowing us to stay with the 70% of our sample\n",
      "                                                                                                                    \n",
      "With CM2% threshold >= 5 and Orders >=  2.0  we keep eligible a  39.19  % from our customers\n",
      "With CM2% threshold >= 7 and Orders >=  2.0  we keep eligible a  30.65  % from our customers\n",
      "With CM2% threshold >=  0.74  and Orders >=  2.0  we keep eligible a  60.38  % from our customers\n",
      "                                                                                                                    \n",
      "                                                                                                                    \n"
     ]
    }
   ],
   "source": [
    "for tq in tiers:\n",
    "    data_tier = data[data['ZTQ_ID'] == tq]\n",
    "    print('...........................................................TIER ', tq, '..........................................................')\n",
    "    # CM2% per customer\n",
    "    plt.figure(figsize=(16,4))\n",
    "    data_tier['CM2_REL'].hist(bins=100, range=(-50, 50))\n",
    "    title = 'Tier ' + str(tq) + '  Relative CM2 % per customer histogram'\n",
    "    plt.title(title)\n",
    "    plt.show()\n",
    "    display(pd.DataFrame(data_tier['CM2_REL'].fillna(0).describe().round(2)))\n",
    "    perc_30_cm2_rel = data_tier['CM2_REL'].fillna(0).quantile(.3)\n",
    "    print('CM2% threshold >= 5  is the percentile', stats.percentileofscore(data_tier['CM2_REL'], 5, kind='strict').round(2))\n",
    "    print('CM2% threshold >= 7  is the percentile', stats.percentileofscore(data_tier['CM2_REL'], 7, kind='strict').round(2))\n",
    "    print('CM2% threshold >= ', perc_30_cm2_rel, ' is the percentile 30 allowing us to stay with the 70% of our sample')\n",
    "    # CM2 € per customer\n",
    "    #plt.figure(figsize=(16,4))\n",
    "    #data_tier['TOTAL_CM2'].hist(bins=200, range=(-50, 150))\n",
    "    #title = 'Tier ' + str(tq) + ' Absolute CM2 per customer histogram'\n",
    "    #plt.title(title)\n",
    "    #plt.show()\n",
    "    #display(pd.DataFrame(data_tier['TOTAL_CM2'].describe().round(2)))\n",
    "    #perc_30_cm2_abs = data_tier['TOTAL_CM2'].fillna(0).quantile(.3)\n",
    "    #val1 = float(data_tier[(data_tier['CM2_REL'] >= 5) & (data_tier['TOTAL_CM2'] >= perc_30_cm2_abs)]['CUSTOMER_ID'].nunique()) / data_tier['CUSTOMER_ID'].nunique() * 100\n",
    "    #val2 = float(data_tier[(data_tier['CM2_REL'] >= 7) & (data_tier['TOTAL_CM2'] >= perc_30_cm2_abs)]['CUSTOMER_ID'].nunique()) / data_tier['CUSTOMER_ID'].nunique() * 100\n",
    "    #val3 = float(data_tier[(data_tier['CM2_REL'] >= perc_30_cm2_rel) & (data_tier['TOTAL_CM2'] >= perc_30_cm2_abs)]['CUSTOMER_ID'].nunique()) / data_tier['CUSTOMER_ID'].nunique() * 100\n",
    "    #print(perc_30_cm2_abs, ' is the percentile 30 allowing us to stay with the 70% of our sample')\n",
    "    #print('                                                                                                                    ')\n",
    "    #print('With CM2% threshold >= 5 and CM2 >= ', perc_30_cm2_abs, ' we keep eligible a ', np.round(val1, 2), ' % from our customers')\n",
    "    #print('With CM2% threshold >= 7 and CM2 >= ', perc_30_cm2_abs, ' we keep eligible a ', np.round(val2, 2), ' % from our customers')\n",
    "    #print('With CM2% threshold >= ', perc_30_cm2_rel, ' and CM2 >= ', perc_30_cm2_abs, ' we keep eligible a ', np.round(val3, 2), ' % from our customers')\n",
    "    # Orders per customer\n",
    "    plt.figure(figsize=(16,4))\n",
    "    data_tier['ORDERS'].hist(bins=30, range=(0, 30))\n",
    "    title = 'Tier ' + str(tq) + ' Orders per customer histogram'\n",
    "    plt.title(title)\n",
    "    plt.show()\n",
    "    display(pd.DataFrame(data_tier['ORDERS'].describe().round(2)))\n",
    "    perc_30_orders = data_tier['ORDERS'].quantile(.3)\n",
    "    val4 = float(data_tier[(data_tier['CM2_REL'] >= 5) & (data_tier['ORDERS'] >= perc_30_orders)]['CUSTOMER_ID'].nunique()) / data_tier['CUSTOMER_ID'].nunique() * 100\n",
    "    val5 = float(data_tier[(data_tier['CM2_REL'] >= 7) & (data_tier['ORDERS'] >= perc_30_orders)]['CUSTOMER_ID'].nunique()) / data_tier['CUSTOMER_ID'].nunique() * 100\n",
    "    val6 = float(data_tier[(data_tier['CM2_REL'] >= perc_30_cm2_rel) & (data_tier['ORDERS'] >= perc_30_orders)]['CUSTOMER_ID'].nunique()) / data_tier['CUSTOMER_ID'].nunique() * 100\n",
    "    print(perc_30_orders, ' is the percentile 30 allowing us to stay with the 70% of our sample')\n",
    "    print('                                                                                                                    ')\n",
    "    print('With CM2% threshold >= 5 and Orders >= ', perc_30_orders, ' we keep eligible a ', np.round(val4, 2), ' % from our customers')\n",
    "    print('With CM2% threshold >= 7 and Orders >= ', perc_30_orders, ' we keep eligible a ', np.round(val5, 2), ' % from our customers')\n",
    "    print('With CM2% threshold >= ', perc_30_cm2_rel, ' and Orders >= ', perc_30_orders, ' we keep eligible a ', np.round(val6, 2), ' % from our customers')\n",
    "    print('                                                                                                                    ')\n",
    "    print('                                                                                                                    ')"
   ]
  },
  {
   "cell_type": "code",
   "execution_count": 13,
   "metadata": {
    "ExecuteTime": {
     "end_time": "2018-06-22T14:46:13.602208Z",
     "start_time": "2018-06-22T14:46:13.587208Z"
    }
   },
   "outputs": [],
   "source": [
    "data['NET_BASKET_VALUE'] = data['NET_SALES'] / data['ORDERS']"
   ]
  },
  {
   "cell_type": "code",
   "execution_count": 14,
   "metadata": {
    "ExecuteTime": {
     "end_time": "2018-06-22T14:46:13.630208Z",
     "start_time": "2018-06-22T14:46:13.603208Z"
    }
   },
   "outputs": [
    {
     "data": {
      "text/html": [
       "<div>\n",
       "<style scoped>\n",
       "    .dataframe tbody tr th:only-of-type {\n",
       "        vertical-align: middle;\n",
       "    }\n",
       "\n",
       "    .dataframe tbody tr th {\n",
       "        vertical-align: top;\n",
       "    }\n",
       "\n",
       "    .dataframe thead th {\n",
       "        text-align: right;\n",
       "    }\n",
       "</style>\n",
       "<table border=\"1\" class=\"dataframe\">\n",
       "  <thead>\n",
       "    <tr style=\"text-align: right;\">\n",
       "      <th></th>\n",
       "      <th>count</th>\n",
       "      <th>mean</th>\n",
       "      <th>std</th>\n",
       "      <th>min</th>\n",
       "      <th>25%</th>\n",
       "      <th>50%</th>\n",
       "      <th>75%</th>\n",
       "      <th>max</th>\n",
       "    </tr>\n",
       "    <tr>\n",
       "      <th>ZTQ_ID</th>\n",
       "      <th></th>\n",
       "      <th></th>\n",
       "      <th></th>\n",
       "      <th></th>\n",
       "      <th></th>\n",
       "      <th></th>\n",
       "      <th></th>\n",
       "      <th></th>\n",
       "    </tr>\n",
       "  </thead>\n",
       "  <tbody>\n",
       "    <tr>\n",
       "      <th>51</th>\n",
       "      <td>1141.0</td>\n",
       "      <td>55.936779</td>\n",
       "      <td>23.261248</td>\n",
       "      <td>20.502500</td>\n",
       "      <td>40.462612</td>\n",
       "      <td>50.684029</td>\n",
       "      <td>65.256410</td>\n",
       "      <td>266.881867</td>\n",
       "    </tr>\n",
       "    <tr>\n",
       "      <th>52</th>\n",
       "      <td>368.0</td>\n",
       "      <td>67.547139</td>\n",
       "      <td>36.410016</td>\n",
       "      <td>21.952825</td>\n",
       "      <td>45.170661</td>\n",
       "      <td>57.351951</td>\n",
       "      <td>77.670472</td>\n",
       "      <td>303.895800</td>\n",
       "    </tr>\n",
       "    <tr>\n",
       "      <th>53</th>\n",
       "      <td>602.0</td>\n",
       "      <td>58.791568</td>\n",
       "      <td>31.304234</td>\n",
       "      <td>20.309625</td>\n",
       "      <td>40.524377</td>\n",
       "      <td>52.006217</td>\n",
       "      <td>68.930502</td>\n",
       "      <td>406.027640</td>\n",
       "    </tr>\n",
       "    <tr>\n",
       "      <th>54</th>\n",
       "      <td>314.0</td>\n",
       "      <td>73.538628</td>\n",
       "      <td>41.570627</td>\n",
       "      <td>25.091000</td>\n",
       "      <td>45.122537</td>\n",
       "      <td>62.646473</td>\n",
       "      <td>89.609445</td>\n",
       "      <td>369.894560</td>\n",
       "    </tr>\n",
       "    <tr>\n",
       "      <th>55</th>\n",
       "      <td>103.0</td>\n",
       "      <td>44.401720</td>\n",
       "      <td>16.271418</td>\n",
       "      <td>21.025480</td>\n",
       "      <td>32.463276</td>\n",
       "      <td>40.275044</td>\n",
       "      <td>52.330216</td>\n",
       "      <td>127.603525</td>\n",
       "    </tr>\n",
       "    <tr>\n",
       "      <th>56</th>\n",
       "      <td>1247.0</td>\n",
       "      <td>56.505773</td>\n",
       "      <td>27.468217</td>\n",
       "      <td>21.053925</td>\n",
       "      <td>40.187075</td>\n",
       "      <td>49.689900</td>\n",
       "      <td>64.104595</td>\n",
       "      <td>331.216520</td>\n",
       "    </tr>\n",
       "  </tbody>\n",
       "</table>\n",
       "</div>"
      ],
      "text/plain": [
       "         count       mean        std        min        25%        50%  \\\n",
       "ZTQ_ID                                                                  \n",
       "51      1141.0  55.936779  23.261248  20.502500  40.462612  50.684029   \n",
       "52       368.0  67.547139  36.410016  21.952825  45.170661  57.351951   \n",
       "53       602.0  58.791568  31.304234  20.309625  40.524377  52.006217   \n",
       "54       314.0  73.538628  41.570627  25.091000  45.122537  62.646473   \n",
       "55       103.0  44.401720  16.271418  21.025480  32.463276  40.275044   \n",
       "56      1247.0  56.505773  27.468217  21.053925  40.187075  49.689900   \n",
       "\n",
       "              75%         max  \n",
       "ZTQ_ID                         \n",
       "51      65.256410  266.881867  \n",
       "52      77.670472  303.895800  \n",
       "53      68.930502  406.027640  \n",
       "54      89.609445  369.894560  \n",
       "55      52.330216  127.603525  \n",
       "56      64.104595  331.216520  "
      ]
     },
     "execution_count": 14,
     "metadata": {},
     "output_type": "execute_result"
    }
   ],
   "source": [
    "data[(data['ORDERS'] >= 4) & (data['ORDERS'] <= 10)].groupby('ZTQ_ID')['NET_BASKET_VALUE'].describe()"
   ]
  },
  {
   "cell_type": "code",
   "execution_count": 15,
   "metadata": {
    "ExecuteTime": {
     "end_time": "2018-06-22T14:46:13.658208Z",
     "start_time": "2018-06-22T14:46:13.632208Z"
    }
   },
   "outputs": [
    {
     "data": {
      "text/html": [
       "<div>\n",
       "<style scoped>\n",
       "    .dataframe tbody tr th:only-of-type {\n",
       "        vertical-align: middle;\n",
       "    }\n",
       "\n",
       "    .dataframe tbody tr th {\n",
       "        vertical-align: top;\n",
       "    }\n",
       "\n",
       "    .dataframe thead th {\n",
       "        text-align: right;\n",
       "    }\n",
       "</style>\n",
       "<table border=\"1\" class=\"dataframe\">\n",
       "  <thead>\n",
       "    <tr style=\"text-align: right;\">\n",
       "      <th></th>\n",
       "      <th>count</th>\n",
       "      <th>mean</th>\n",
       "      <th>std</th>\n",
       "      <th>min</th>\n",
       "      <th>25%</th>\n",
       "      <th>50%</th>\n",
       "      <th>75%</th>\n",
       "      <th>max</th>\n",
       "    </tr>\n",
       "    <tr>\n",
       "      <th>ZTQ_ID</th>\n",
       "      <th></th>\n",
       "      <th></th>\n",
       "      <th></th>\n",
       "      <th></th>\n",
       "      <th></th>\n",
       "      <th></th>\n",
       "      <th></th>\n",
       "      <th></th>\n",
       "    </tr>\n",
       "  </thead>\n",
       "  <tbody>\n",
       "    <tr>\n",
       "      <th>51</th>\n",
       "      <td>1141.0</td>\n",
       "      <td>9.200894</td>\n",
       "      <td>6.007816</td>\n",
       "      <td>-12.42</td>\n",
       "      <td>5.430</td>\n",
       "      <td>9.54</td>\n",
       "      <td>13.2000</td>\n",
       "      <td>29.49</td>\n",
       "    </tr>\n",
       "    <tr>\n",
       "      <th>52</th>\n",
       "      <td>368.0</td>\n",
       "      <td>8.762962</td>\n",
       "      <td>6.769558</td>\n",
       "      <td>-15.11</td>\n",
       "      <td>4.295</td>\n",
       "      <td>9.56</td>\n",
       "      <td>13.3925</td>\n",
       "      <td>27.73</td>\n",
       "    </tr>\n",
       "    <tr>\n",
       "      <th>53</th>\n",
       "      <td>602.0</td>\n",
       "      <td>9.936262</td>\n",
       "      <td>8.038401</td>\n",
       "      <td>-11.61</td>\n",
       "      <td>4.580</td>\n",
       "      <td>9.79</td>\n",
       "      <td>15.3550</td>\n",
       "      <td>46.58</td>\n",
       "    </tr>\n",
       "    <tr>\n",
       "      <th>54</th>\n",
       "      <td>314.0</td>\n",
       "      <td>6.277452</td>\n",
       "      <td>7.881712</td>\n",
       "      <td>-12.85</td>\n",
       "      <td>0.905</td>\n",
       "      <td>5.11</td>\n",
       "      <td>11.2450</td>\n",
       "      <td>28.57</td>\n",
       "    </tr>\n",
       "    <tr>\n",
       "      <th>55</th>\n",
       "      <td>103.0</td>\n",
       "      <td>6.176990</td>\n",
       "      <td>7.723373</td>\n",
       "      <td>-13.70</td>\n",
       "      <td>2.060</td>\n",
       "      <td>5.96</td>\n",
       "      <td>10.1350</td>\n",
       "      <td>26.30</td>\n",
       "    </tr>\n",
       "    <tr>\n",
       "      <th>56</th>\n",
       "      <td>1247.0</td>\n",
       "      <td>3.979182</td>\n",
       "      <td>6.942069</td>\n",
       "      <td>-31.30</td>\n",
       "      <td>-0.640</td>\n",
       "      <td>3.77</td>\n",
       "      <td>8.4550</td>\n",
       "      <td>25.80</td>\n",
       "    </tr>\n",
       "  </tbody>\n",
       "</table>\n",
       "</div>"
      ],
      "text/plain": [
       "         count      mean       std    min    25%   50%      75%    max\n",
       "ZTQ_ID                                                                \n",
       "51      1141.0  9.200894  6.007816 -12.42  5.430  9.54  13.2000  29.49\n",
       "52       368.0  8.762962  6.769558 -15.11  4.295  9.56  13.3925  27.73\n",
       "53       602.0  9.936262  8.038401 -11.61  4.580  9.79  15.3550  46.58\n",
       "54       314.0  6.277452  7.881712 -12.85  0.905  5.11  11.2450  28.57\n",
       "55       103.0  6.176990  7.723373 -13.70  2.060  5.96  10.1350  26.30\n",
       "56      1247.0  3.979182  6.942069 -31.30 -0.640  3.77   8.4550  25.80"
      ]
     },
     "execution_count": 15,
     "metadata": {},
     "output_type": "execute_result"
    }
   ],
   "source": [
    "data[(data['ORDERS'] >= 4) & (data['ORDERS'] <= 10)].groupby('ZTQ_ID')['CM2_REL'].describe()"
   ]
  },
  {
   "cell_type": "code",
   "execution_count": 16,
   "metadata": {
    "ExecuteTime": {
     "end_time": "2018-06-22T14:46:13.992208Z",
     "start_time": "2018-06-22T14:46:13.660208Z"
    }
   },
   "outputs": [
    {
     "data": {
      "image/png": "[encoded data removed]",
      "text/plain": [
       "<matplotlib.figure.Figure at 0xb3c1128>"
      ]
     },
     "metadata": {},
     "output_type": "display_data"
    },
    {
     "data": {
      "text/html": [
       "<div>\n",
       "<style scoped>\n",
       "    .dataframe tbody tr th:only-of-type {\n",
       "        vertical-align: middle;\n",
       "    }\n",
       "\n",
       "    .dataframe tbody tr th {\n",
       "        vertical-align: top;\n",
       "    }\n",
       "\n",
       "    .dataframe thead th {\n",
       "        text-align: right;\n",
       "    }\n",
       "</style>\n",
       "<table border=\"1\" class=\"dataframe\">\n",
       "  <thead>\n",
       "    <tr style=\"text-align: right;\">\n",
       "      <th></th>\n",
       "      <th>CM2_REL</th>\n",
       "    </tr>\n",
       "  </thead>\n",
       "  <tbody>\n",
       "    <tr>\n",
       "      <th>count</th>\n",
       "      <td>7443.00</td>\n",
       "    </tr>\n",
       "    <tr>\n",
       "      <th>mean</th>\n",
       "      <td>7.04</td>\n",
       "    </tr>\n",
       "    <tr>\n",
       "      <th>std</th>\n",
       "      <td>8.08</td>\n",
       "    </tr>\n",
       "    <tr>\n",
       "      <th>min</th>\n",
       "      <td>-42.74</td>\n",
       "    </tr>\n",
       "    <tr>\n",
       "      <th>25%</th>\n",
       "      <td>1.78</td>\n",
       "    </tr>\n",
       "    <tr>\n",
       "      <th>50%</th>\n",
       "      <td>6.99</td>\n",
       "    </tr>\n",
       "    <tr>\n",
       "      <th>75%</th>\n",
       "      <td>12.17</td>\n",
       "    </tr>\n",
       "    <tr>\n",
       "      <th>max</th>\n",
       "      <td>51.53</td>\n",
       "    </tr>\n",
       "  </tbody>\n",
       "</table>\n",
       "</div>"
      ],
      "text/plain": [
       "       CM2_REL\n",
       "count  7443.00\n",
       "mean      7.04\n",
       "std       8.08\n",
       "min     -42.74\n",
       "25%       1.78\n",
       "50%       6.99\n",
       "75%      12.17\n",
       "max      51.53"
      ]
     },
     "metadata": {},
     "output_type": "display_data"
    },
    {
     "name": "stdout",
     "output_type": "stream",
     "text": [
      "CM2% threshold >= 1  is the percentile 21.74\n",
      "CM2% threshold >= 2  is the percentile 25.92\n",
      "CM2% threshold >= 3  is the percentile 30.34\n",
      "CM2% threshold >= 4  is the percentile 35.36\n",
      "CM2% threshold >= 5  is the percentile 40.17\n",
      "CM2% threshold >= 6  is the percentile 45.02\n",
      "CM2% threshold >= 7  is the percentile 50.03\n",
      "CM2% threshold >= 8  is the percentile 55.02\n",
      "CM2% threshold >= 9  is the percentile 59.99\n",
      "CM2% threshold >= 10  is the percentile 65.01\n",
      "CM2% threshold >=  2.92  is the percentile 30 allowing us to stay with the 70% of our sample\n"
     ]
    }
   ],
   "source": [
    "# CM2% per customer\n",
    "plt.figure(figsize=(16,4))\n",
    "data['CM2_REL'].hist(bins=100, range=(-50, 50))\n",
    "title = 'Relative CM2 % per customer histogram'\n",
    "plt.title(title)\n",
    "plt.show()\n",
    "display(pd.DataFrame(data['CM2_REL'].fillna(0).describe().round(2)))\n",
    "perc_30_cm2_rel = data['CM2_REL'].fillna(0).quantile(.3)\n",
    "print('CM2% threshold >= 1  is the percentile', stats.percentileofscore(data['CM2_REL'], 1, kind='strict').round(2))\n",
    "print('CM2% threshold >= 2  is the percentile', stats.percentileofscore(data['CM2_REL'], 2, kind='strict').round(2))\n",
    "print('CM2% threshold >= 3  is the percentile', stats.percentileofscore(data['CM2_REL'], 3, kind='strict').round(2))\n",
    "print('CM2% threshold >= 4  is the percentile', stats.percentileofscore(data['CM2_REL'], 4, kind='strict').round(2))\n",
    "print('CM2% threshold >= 5  is the percentile', stats.percentileofscore(data['CM2_REL'], 5, kind='strict').round(2))\n",
    "print('CM2% threshold >= 6  is the percentile', stats.percentileofscore(data['CM2_REL'], 6, kind='strict').round(2))\n",
    "print('CM2% threshold >= 7  is the percentile', stats.percentileofscore(data['CM2_REL'], 7, kind='strict').round(2))\n",
    "print('CM2% threshold >= 8  is the percentile', stats.percentileofscore(data['CM2_REL'], 8, kind='strict').round(2))\n",
    "print('CM2% threshold >= 9  is the percentile', stats.percentileofscore(data['CM2_REL'], 9, kind='strict').round(2))\n",
    "print('CM2% threshold >= 10  is the percentile', stats.percentileofscore(data['CM2_REL'], 10, kind='strict').round(2))\n",
    "print('CM2% threshold >= ', perc_30_cm2_rel, ' is the percentile 30 allowing us to stay with the 70% of our sample')\n",
    "# CM2 € per customer\n",
    "#plt.figure(figsize=(16,4))\n",
    "#data['TOTAL_CM2'].hist(bins=200, range=(-50, 150))\n",
    "#title = 'Tier ' + str(tq) + ' Absolute CM2 per customer histogram'\n",
    "#plt.title(title)\n",
    "#plt.show()\n",
    "#display(pd.DataFrame(data['TOTAL_CM2'].describe().round(2)))\n",
    "#perc_30_cm2_abs = data['TOTAL_CM2'].fillna(0).quantile(.3)\n",
    "#val1 = float(data[(data['CM2_REL'] >= 5) & (data['TOTAL_CM2'] >= perc_30_cm2_abs)]['CUSTOMER_ID'].nunique()) / data['CUSTOMER_ID'].nunique() * 100\n",
    "#val2 = float(data[(data['CM2_REL'] >= 7) & (data['TOTAL_CM2'] >= perc_30_cm2_abs)]['CUSTOMER_ID'].nunique()) / data['CUSTOMER_ID'].nunique() * 100\n",
    "#val3 = float(data[(data['CM2_REL'] >= perc_30_cm2_rel) & (data['TOTAL_CM2'] >= perc_30_cm2_abs)]['CUSTOMER_ID'].nunique()) / data['CUSTOMER_ID'].nunique() * 100\n",
    "#print(perc_30_cm2_abs, ' is the percentile 30 allowing us to stay with the 70% of our sample')\n",
    "#print('                                                                                                                    ')\n",
    "#print('With CM2% threshold >= 5 and CM2 >= ', perc_30_cm2_abs, ' we keep eligible a ', np.round(val1, 2), ' % from our customers')\n",
    "#print('With CM2% threshold >= 7 and CM2 >= ', perc_30_cm2_abs, ' we keep eligible a ', np.round(val2, 2), ' % from our customers')\n",
    "#print('With CM2% threshold >= ', perc_30_cm2_rel, ' and CM2 >= ', perc_30_cm2_abs, ' we keep eligible a ', np.round(val3, 2), ' % from our customers')\n",
    "# Orders per customer\n",
    "#plt.figure(figsize=(16,4))\n",
    "#data['ORDERS'].hist(bins=30, range=(0, 30))\n",
    "#title = 'Tier ' + str(tq) + ' Orders per customer histogram'\n",
    "#plt.title(title)\n",
    "#plt.show()\n",
    "#display(pd.DataFrame(data['ORDERS'].describe().round(2)))\n",
    "#perc_30_orders = data['ORDERS'].quantile(.3)\n",
    "#val4 = float(data[(data['CM2_REL'] >= 5) & (data['ORDERS'] >= perc_30_orders)]['CUSTOMER_ID'].nunique()) / data['CUSTOMER_ID'].nunique() * 100\n",
    "#val5 = float(data[(data['CM2_REL'] >= 7) & (data['ORDERS'] >= perc_30_orders)]['CUSTOMER_ID'].nunique()) / data['CUSTOMER_ID'].nunique() * 100\n",
    "#val6 = float(data[(data['CM2_REL'] >= perc_30_cm2_rel) & (data['ORDERS'] >= perc_30_orders)]['CUSTOMER_ID'].nunique()) / data['CUSTOMER_ID'].nunique() * 100\n",
    "#print(perc_30_orders, ' is the percentile 30 allowing us to stay with the 70% of our sample')\n",
    "#print('                                                                                                                    ')\n",
    "#print('With CM2% threshold >= 5 and Orders >= ', perc_30_orders, ' we keep eligible a ', np.round(val4, 2), ' % from our customers')\n",
    "#print('With CM2% threshold >= 7 and Orders >= ', perc_30_orders, ' we keep eligible a ', np.round(val5, 2), ' % from our customers')\n",
    "#print('With CM2% threshold >= ', perc_30_cm2_rel, ' and Orders >= ', perc_30_orders, ' we keep eligible a ', np.round(val6, 2), ' % from our customers')\n",
    "#print('                                                                                                                    ')\n",
    "#print('                                                                                                                    ')"
   ]
  },
  {
   "cell_type": "code",
   "execution_count": 17,
   "metadata": {
    "ExecuteTime": {
     "end_time": "2018-06-22T14:46:14.981208Z",
     "start_time": "2018-06-22T14:46:13.993208Z"
    }
   },
   "outputs": [
    {
     "data": {
      "image/png": "[encoded data removed]",
      "text/plain": [
       "<matplotlib.figure.Figure at 0xb3dacc0>"
      ]
     },
     "metadata": {},
     "output_type": "display_data"
    }
   ],
   "source": [
    "plt.figure(figsize=(16,4))\n",
    "for tq in tiers:\n",
    "    data_tier = data[data['ZTQ_ID'] == tq]\n",
    "    #print('...........................................................TIER ', tq, '..........................................................')\n",
    "    # CM2% per customer\n",
    "    data_tier['CM2_REL'].hist(bins=100, range=(-50, 50), alpha=0.5)\n",
    "    plt.legend([51, 52, 53, 54, 55, 56])\n",
    "plt.show()   "
   ]
  }
 ],
 "metadata": {
  "hide_input": false,
  "kernelspec": {
   "display_name": "Python [default]",
   "language": "python",
   "name": "python3"
  },
  "language_info": {
   "codemirror_mode": {
    "name": "ipython",
    "version": 3
   },
   "file_extension": ".py",
   "mimetype": "text/x-python",
   "name": "python",
   "nbconvert_exporter": "python",
   "pygments_lexer": "ipython3",
   "version": "3.6.4"
  },
  "toc": {
   "base_numbering": 1,
   "nav_menu": {},
   "number_sections": true,
   "sideBar": true,
   "skip_h1_title": false,
   "title_cell": "Table of Contents",
   "title_sidebar": "Contents",
   "toc_cell": false,
   "toc_position": {},
   "toc_section_display": true,
   "toc_window_display": false
  },
  "varInspector": {
   "cols": {
    "lenName": 16,
    "lenType": 16,
    "lenVar": 40
   },
   "kernels_config": {
    "python": {
     "delete_cmd_postfix": "",
     "delete_cmd_prefix": "del ",
     "library": "var_list.py",
     "varRefreshCmd": "print(var_dic_list())"
    },
    "r": {
     "delete_cmd_postfix": ") ",
     "delete_cmd_prefix": "rm(",
     "library": "var_list.r",
     "varRefreshCmd": "cat(var_dic_list()) "
    }
   },
   "types_to_exclude": [
    "module",
    "function",
    "builtin_function_or_method",
    "instance",
    "_Feature"
   ],
   "window_display": false
  }
 },
 "nbformat": 4,
 "nbformat_minor": 2
}
