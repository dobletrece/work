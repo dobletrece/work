{
 "cells": [
  {
   "cell_type": "code",
   "execution_count": 1,
   "metadata": {
    "ExecuteTime": {
     "end_time": "2018-09-20T10:54:54.699527Z",
     "start_time": "2018-09-20T10:54:53.191527Z"
    }
   },
   "outputs": [],
   "source": [
    "import numpy as np\n",
    "import pandas as pd\n",
    "import matplotlib.pyplot as plt\n",
    "%matplotlib inline\n",
    "from IPython.display import display\n",
    "from scipy import stats\n",
    "from statistics import stdev\n",
    "import datetime\n",
    "from datetime import timedelta\n",
    "from collections import Counter\n",
    "import cx_Oracle\n",
    "import seaborn as sns\n",
    "#from warnings import filterwarnings\n",
    "#filterwarnings('ignore')"
   ]
  },
  {
   "cell_type": "raw",
   "metadata": {},
   "source": [
    "select \n",
    "scm.scm_n_order_pos_nr, scm.scm_n_order_nr, scm.tdt_t_key_order_date, scm.THR_C_KEY_ORDER_HOUR, scm.SIT_N_KEY_SITE,\n",
    "scm.CUS_N_KEY_CUSTOMER, scm.SCM_SALES_BMF, scm.SCM_SALES_CANCEL_BMF, scm.SCM_D_FINANCE_CM1, scm.SCM_D_FINANCE_CM2,\n",
    "scm.SCM_D_ORIG_FINANCE_ORDER_NET,scm.SCM_AP_ID, scm.SCM_AS_ID, scm.SCM_MASTER_AP_ID, scm.SCM_D_QUANTITY, scm.SCM_IS_ZSP_ORDER, \n",
    "scm.SCM_C_ORDER_STATUS, scm.CTP_N_KEY_CUSTOMER_TYPE, scm.SCM_OCI_LAND, \n",
    "osp.OSP_KO_COUNT_NET, osp.OSP_3_LEAD_P_PG_ID, osp.OSP_3_LEAD_P_PG_SHARE, osp.OSP_4_LEAD_P_PG_ID, osp.OSP_4_LEAD_P_PG_SHARE,\n",
    "czp.CZP_START_DATE, czp.CZP_EXPIRY_DATE, czp.CZP_ZTQ_ID, czp.CZP_PERCENTAGE, czp.CZP_PRICE, \n",
    "pp.PP_ID, pg.PG_ID, pg.PG_PARENT_PG_ID as PG4_PARENT_ID, \n",
    "pgl.PG_PARENT_PG_ID as PG3_PARENT_ID, pp.PP_NAME, pa.AP_SHORT_TEXT\n",
    "from zoocube.ddstf_scm_sales_contrib_margin scm\n",
    "join ZOOMAN.ORDER_SALES_PROFILE osp\n",
    "on osp.OSP_O_ID = scm.SCM_N_ORDER_NR\n",
    "left outer join ZOOMAN.CUSTOMERS_ZOOPRIME_PLANS czp\n",
    "on scm.CUS_N_KEY_CUSTOMER = czp.CZP_K_ID \n",
    "and czp.CZP_EXPIRY_DATE > to_date((to_char(TDT_T_KEY_ORDER_DATE, 'dd/mm/yyyy') ||' '|| THR_C_KEY_ORDER_HOUR), 'dd/mm/yyyy HH24:MI')\n",
    "and czp.CZP_START_DATE <= to_date((to_char(TDT_T_KEY_ORDER_DATE, 'dd/mm/yyyy') ||' '|| THR_C_KEY_ORDER_HOUR), 'dd/mm/yyyy HH24:MI') + interval '2' minute\n",
    "left outer join ZOOMAN.ARTICLES_PHYSICAL pa \n",
    "on  pa.AP_ID = scm.SCM_AP_ID\n",
    "left outer join ZOOMAN.PRODUCTS_PHYSICAL pp\n",
    "on pa.ap_pp_id = pp.pp_id\n",
    "left outer join ZOOMAN.PRODUCT_GROUPS pg\n",
    "on pg.pg_id = pp.pp_pg_id\n",
    "left outer join (select distinct pg_id, PG_PARENT_PG_ID\n",
    "                from ZOOMAN.VW_PRODUCT_GROUPS_LINK) pgl\n",
    "on pgl.pg_id = pg.PG_PARENT_PG_ID\n",
    "where ((TDT_T_KEY_ORDER_DATE >= to_date('01/07/17', 'DD/MM/YY') and (TDT_T_KEY_ORDER_DATE <= to_date('30/06/18', 'DD/MM/YY'))))\n",
    "and SIT_N_KEY_SITE = 4\n",
    "and (scm.SCM_C_ORDER_STATUS = 'L' OR scm.SCM_C_ORDER_STATUS = 'VK')\n",
    "and czp.CZP_ZTQ_ID IN (51, 52, 53, 54)\n",
    ";"
   ]
  },
  {
   "cell_type": "markdown",
   "metadata": {},
   "source": [
    "Analysis per Tier:\n",
    "\n",
    "-\tNumber of active SP\n",
    "-\tNumber of average orders per year\n",
    "-\tAverage Basket Value\n",
    "-\tFrequency\n",
    "-\tAverage Sales\n",
    "-\tCM1 \n",
    "-\tCM2\n",
    "-\tShare of Proplan Sales per Tier\n",
    "-\tShare of Orders with Proplan per Tier\n",
    "-\tRepurchasing rate within specific time period per Tier"
   ]
  },
  {
   "cell_type": "markdown",
   "metadata": {},
   "source": [
    "#### Data loading and processing"
   ]
  },
  {
   "cell_type": "code",
   "execution_count": 2,
   "metadata": {
    "ExecuteTime": {
     "end_time": "2018-09-17T08:00:29.490947Z",
     "start_time": "2018-09-17T08:00:02.394745Z"
    }
   },
   "outputs": [],
   "source": [
    "data = pd.read_csv('fr_sp_tiers_4_5_orders_jul17_jun18.dsv', sep=';', low_memory=False)"
   ]
  },
  {
   "cell_type": "code",
   "execution_count": 3,
   "metadata": {
    "ExecuteTime": {
     "end_time": "2018-09-17T08:00:29.519904Z",
     "start_time": "2018-09-17T08:00:29.491946Z"
    }
   },
   "outputs": [
    {
     "data": {
      "text/html": [
       "<div>\n",
       "<style scoped>\n",
       "    .dataframe tbody tr th:only-of-type {\n",
       "        vertical-align: middle;\n",
       "    }\n",
       "\n",
       "    .dataframe tbody tr th {\n",
       "        vertical-align: top;\n",
       "    }\n",
       "\n",
       "    .dataframe thead th {\n",
       "        text-align: right;\n",
       "    }\n",
       "</style>\n",
       "<table border=\"1\" class=\"dataframe\">\n",
       "  <thead>\n",
       "    <tr style=\"text-align: right;\">\n",
       "      <th></th>\n",
       "      <th>SCM_N_ORDER_POS_NR</th>\n",
       "      <th>SCM_N_ORDER_NR</th>\n",
       "      <th>TDT_T_KEY_ORDER_DATE</th>\n",
       "      <th>THR_C_KEY_ORDER_HOUR</th>\n",
       "      <th>SIT_N_KEY_SITE</th>\n",
       "      <th>CUS_N_KEY_CUSTOMER</th>\n",
       "      <th>SCM_SALES_BMF</th>\n",
       "      <th>SCM_SALES_CANCEL_BMF</th>\n",
       "      <th>SCM_D_FINANCE_CM1</th>\n",
       "      <th>SCM_D_FINANCE_CM2</th>\n",
       "      <th>...</th>\n",
       "      <th>CZP_EXPIRY_DATE</th>\n",
       "      <th>CZP_ZTQ_ID</th>\n",
       "      <th>CZP_PERCENTAGE</th>\n",
       "      <th>CZP_PRICE</th>\n",
       "      <th>PP_ID</th>\n",
       "      <th>PG_ID</th>\n",
       "      <th>PG4_PARENT_ID</th>\n",
       "      <th>PG3_PARENT_ID</th>\n",
       "      <th>PP_NAME</th>\n",
       "      <th>AP_SHORT_TEXT</th>\n",
       "    </tr>\n",
       "  </thead>\n",
       "  <tbody>\n",
       "    <tr>\n",
       "      <th>0</th>\n",
       "      <td>393697838</td>\n",
       "      <td>92204880</td>\n",
       "      <td>08/08/2017 00:00</td>\n",
       "      <td>19:00</td>\n",
       "      <td>4</td>\n",
       "      <td>8181197</td>\n",
       "      <td>12,99</td>\n",
       "      <td>0</td>\n",
       "      <td>3,295</td>\n",
       "      <td>-1,4687</td>\n",
       "      <td>...</td>\n",
       "      <td>26/04/2019 23:59</td>\n",
       "      <td>52</td>\n",
       "      <td>3</td>\n",
       "      <td>5,9</td>\n",
       "      <td>48683.0</td>\n",
       "      <td>2365.0</td>\n",
       "      <td>311.0</td>\n",
       "      <td>251.0</td>\n",
       "      <td>Pedigree Adult Mini Huhn &amp; Gemüse</td>\n",
       "      <td>- 1,4 kg</td>\n",
       "    </tr>\n",
       "    <tr>\n",
       "      <th>1</th>\n",
       "      <td>393697839</td>\n",
       "      <td>92204880</td>\n",
       "      <td>08/08/2017 00:00</td>\n",
       "      <td>19:00</td>\n",
       "      <td>4</td>\n",
       "      <td>8181197</td>\n",
       "      <td>4,99</td>\n",
       "      <td>0</td>\n",
       "      <td>1,6483</td>\n",
       "      <td>0,0604</td>\n",
       "      <td>...</td>\n",
       "      <td>26/04/2019 23:59</td>\n",
       "      <td>52</td>\n",
       "      <td>3</td>\n",
       "      <td>5,9</td>\n",
       "      <td>48683.0</td>\n",
       "      <td>2365.0</td>\n",
       "      <td>311.0</td>\n",
       "      <td>251.0</td>\n",
       "      <td>Pedigree Adult Mini Huhn &amp; Gemüse</td>\n",
       "      <td>- 1,4 kg</td>\n",
       "    </tr>\n",
       "    <tr>\n",
       "      <th>2</th>\n",
       "      <td>394339208</td>\n",
       "      <td>92362301</td>\n",
       "      <td>11/08/2017 00:00</td>\n",
       "      <td>13:35</td>\n",
       "      <td>4</td>\n",
       "      <td>11978344</td>\n",
       "      <td>52,99</td>\n",
       "      <td>0</td>\n",
       "      <td>11,6183</td>\n",
       "      <td>2,9754</td>\n",
       "      <td>...</td>\n",
       "      <td>01/09/2019 23:59</td>\n",
       "      <td>54</td>\n",
       "      <td>7</td>\n",
       "      <td>9,99</td>\n",
       "      <td>50871.0</td>\n",
       "      <td>2365.0</td>\n",
       "      <td>311.0</td>\n",
       "      <td>251.0</td>\n",
       "      <td>Pedigree Adult mit Rind &amp; Gemüse</td>\n",
       "      <td>- 15 kg</td>\n",
       "    </tr>\n",
       "    <tr>\n",
       "      <th>3</th>\n",
       "      <td>395009419</td>\n",
       "      <td>92524247</td>\n",
       "      <td>14/08/2017 00:00</td>\n",
       "      <td>19:55</td>\n",
       "      <td>4</td>\n",
       "      <td>10724090</td>\n",
       "      <td>52,99</td>\n",
       "      <td>0</td>\n",
       "      <td>11,6183</td>\n",
       "      <td>2,9754</td>\n",
       "      <td>...</td>\n",
       "      <td>06/04/2020 23:59</td>\n",
       "      <td>52</td>\n",
       "      <td>3</td>\n",
       "      <td>5,99</td>\n",
       "      <td>50871.0</td>\n",
       "      <td>2365.0</td>\n",
       "      <td>311.0</td>\n",
       "      <td>251.0</td>\n",
       "      <td>Pedigree Adult mit Rind &amp; Gemüse</td>\n",
       "      <td>- 15 kg</td>\n",
       "    </tr>\n",
       "    <tr>\n",
       "      <th>4</th>\n",
       "      <td>395605996</td>\n",
       "      <td>92670163</td>\n",
       "      <td>17/08/2017 00:00</td>\n",
       "      <td>11:22</td>\n",
       "      <td>4</td>\n",
       "      <td>13056972</td>\n",
       "      <td>52,99</td>\n",
       "      <td>0</td>\n",
       "      <td>11,6183</td>\n",
       "      <td>2,5565</td>\n",
       "      <td>...</td>\n",
       "      <td>02/06/2020 23:59</td>\n",
       "      <td>52</td>\n",
       "      <td>3</td>\n",
       "      <td>5,99</td>\n",
       "      <td>50871.0</td>\n",
       "      <td>2365.0</td>\n",
       "      <td>311.0</td>\n",
       "      <td>251.0</td>\n",
       "      <td>Pedigree Adult mit Rind &amp; Gemüse</td>\n",
       "      <td>- 15 kg</td>\n",
       "    </tr>\n",
       "  </tbody>\n",
       "</table>\n",
       "<p>5 rows × 35 columns</p>\n",
       "</div>"
      ],
      "text/plain": [
       "   SCM_N_ORDER_POS_NR  SCM_N_ORDER_NR TDT_T_KEY_ORDER_DATE  \\\n",
       "0           393697838        92204880     08/08/2017 00:00   \n",
       "1           393697839        92204880     08/08/2017 00:00   \n",
       "2           394339208        92362301     11/08/2017 00:00   \n",
       "3           395009419        92524247     14/08/2017 00:00   \n",
       "4           395605996        92670163     17/08/2017 00:00   \n",
       "\n",
       "  THR_C_KEY_ORDER_HOUR  SIT_N_KEY_SITE  CUS_N_KEY_CUSTOMER SCM_SALES_BMF  \\\n",
       "0                19:00               4             8181197         12,99   \n",
       "1                19:00               4             8181197          4,99   \n",
       "2                13:35               4            11978344         52,99   \n",
       "3                19:55               4            10724090         52,99   \n",
       "4                11:22               4            13056972         52,99   \n",
       "\n",
       "  SCM_SALES_CANCEL_BMF SCM_D_FINANCE_CM1 SCM_D_FINANCE_CM2      ...        \\\n",
       "0                    0             3,295           -1,4687      ...         \n",
       "1                    0            1,6483            0,0604      ...         \n",
       "2                    0           11,6183            2,9754      ...         \n",
       "3                    0           11,6183            2,9754      ...         \n",
       "4                    0           11,6183            2,5565      ...         \n",
       "\n",
       "    CZP_EXPIRY_DATE  CZP_ZTQ_ID  CZP_PERCENTAGE  CZP_PRICE    PP_ID   PG_ID  \\\n",
       "0  26/04/2019 23:59          52               3        5,9  48683.0  2365.0   \n",
       "1  26/04/2019 23:59          52               3        5,9  48683.0  2365.0   \n",
       "2  01/09/2019 23:59          54               7       9,99  50871.0  2365.0   \n",
       "3  06/04/2020 23:59          52               3       5,99  50871.0  2365.0   \n",
       "4  02/06/2020 23:59          52               3       5,99  50871.0  2365.0   \n",
       "\n",
       "  PG4_PARENT_ID  PG3_PARENT_ID                            PP_NAME  \\\n",
       "0         311.0          251.0  Pedigree Adult Mini Huhn & Gemüse   \n",
       "1         311.0          251.0  Pedigree Adult Mini Huhn & Gemüse   \n",
       "2         311.0          251.0   Pedigree Adult mit Rind & Gemüse   \n",
       "3         311.0          251.0   Pedigree Adult mit Rind & Gemüse   \n",
       "4         311.0          251.0   Pedigree Adult mit Rind & Gemüse   \n",
       "\n",
       "   AP_SHORT_TEXT  \n",
       "0       - 1,4 kg  \n",
       "1       - 1,4 kg  \n",
       "2        - 15 kg  \n",
       "3        - 15 kg  \n",
       "4        - 15 kg  \n",
       "\n",
       "[5 rows x 35 columns]"
      ]
     },
     "execution_count": 3,
     "metadata": {},
     "output_type": "execute_result"
    }
   ],
   "source": [
    "data.head()"
   ]
  },
  {
   "cell_type": "code",
   "execution_count": 4,
   "metadata": {
    "ExecuteTime": {
     "end_time": "2018-09-17T08:00:29.531886Z",
     "start_time": "2018-09-17T08:00:29.520902Z"
    }
   },
   "outputs": [],
   "source": [
    "def get_date(x):\n",
    "    return x.split(' ')[0]"
   ]
  },
  {
   "cell_type": "code",
   "execution_count": 5,
   "metadata": {
    "ExecuteTime": {
     "end_time": "2018-09-17T08:00:31.505915Z",
     "start_time": "2018-09-17T08:00:29.532884Z"
    }
   },
   "outputs": [],
   "source": [
    "data['TDT_T_KEY_ORDER_DATE'] = data['TDT_T_KEY_ORDER_DATE'].map(get_date)"
   ]
  },
  {
   "cell_type": "code",
   "execution_count": 6,
   "metadata": {
    "ExecuteTime": {
     "end_time": "2018-09-17T08:00:31.515900Z",
     "start_time": "2018-09-17T08:00:31.506914Z"
    }
   },
   "outputs": [
    {
     "name": "stdout",
     "output_type": "stream",
     "text": [
      "<class 'pandas.core.frame.DataFrame'>\n",
      "RangeIndex: 4446561 entries, 0 to 4446560\n",
      "Data columns (total 35 columns):\n",
      "SCM_N_ORDER_POS_NR              int64\n",
      "SCM_N_ORDER_NR                  int64\n",
      "TDT_T_KEY_ORDER_DATE            object\n",
      "THR_C_KEY_ORDER_HOUR            object\n",
      "SIT_N_KEY_SITE                  int64\n",
      "CUS_N_KEY_CUSTOMER              int64\n",
      "SCM_SALES_BMF                   object\n",
      "SCM_SALES_CANCEL_BMF            object\n",
      "SCM_D_FINANCE_CM1               object\n",
      "SCM_D_FINANCE_CM2               object\n",
      "SCM_D_ORIG_FINANCE_ORDER_NET    object\n",
      "SCM_AP_ID                       int64\n",
      "SCM_AS_ID                       int64\n",
      "SCM_MASTER_AP_ID                int64\n",
      "SCM_D_QUANTITY                  object\n",
      "SCM_IS_ZSP_ORDER                int64\n",
      "SCM_C_ORDER_STATUS              object\n",
      "CTP_N_KEY_CUSTOMER_TYPE         int64\n",
      "SCM_OCI_LAND                    object\n",
      "OSP_KO_COUNT_NET                int64\n",
      "OSP_3_LEAD_P_PG_ID              int64\n",
      "OSP_3_LEAD_P_PG_SHARE           object\n",
      "OSP_4_LEAD_P_PG_ID              int64\n",
      "OSP_4_LEAD_P_PG_SHARE           object\n",
      "CZP_START_DATE                  object\n",
      "CZP_EXPIRY_DATE                 object\n",
      "CZP_ZTQ_ID                      int64\n",
      "CZP_PERCENTAGE                  int64\n",
      "CZP_PRICE                       object\n",
      "PP_ID                           float64\n",
      "PG_ID                           float64\n",
      "PG4_PARENT_ID                   float64\n",
      "PG3_PARENT_ID                   float64\n",
      "PP_NAME                         object\n",
      "AP_SHORT_TEXT                   object\n",
      "dtypes: float64(4), int64(14), object(17)\n",
      "memory usage: 1.2+ GB\n"
     ]
    }
   ],
   "source": [
    "data.info(verbose=True)"
   ]
  },
  {
   "cell_type": "code",
   "execution_count": 7,
   "metadata": {
    "ExecuteTime": {
     "end_time": "2018-09-17T08:08:31.907926Z",
     "start_time": "2018-09-17T08:00:31.517897Z"
    }
   },
   "outputs": [
    {
     "name": "stdout",
     "output_type": "stream",
     "text": [
      "Duplicated rows detected:  74979\n",
      "Start dropping..\n",
      "Number of order IDs having more than one SP_START_DATE now:  0\n"
     ]
    }
   ],
   "source": [
    "%run -i cleaning_n_formatting.py"
   ]
  },
  {
   "cell_type": "code",
   "execution_count": 8,
   "metadata": {
    "ExecuteTime": {
     "end_time": "2018-09-17T08:08:31.945417Z",
     "start_time": "2018-09-17T08:08:31.907926Z"
    }
   },
   "outputs": [
    {
     "data": {
      "text/plain": [
       "array([52, 54, 51, 53], dtype=int64)"
      ]
     },
     "execution_count": 8,
     "metadata": {},
     "output_type": "execute_result"
    }
   ],
   "source": [
    "data['CZP_ZTQ_ID'].unique()"
   ]
  },
  {
   "cell_type": "code",
   "execution_count": 9,
   "metadata": {
    "ExecuteTime": {
     "end_time": "2018-09-17T08:08:31.970411Z",
     "start_time": "2018-09-17T08:08:31.945417Z"
    }
   },
   "outputs": [],
   "source": [
    "#Not equal to 0 means the value being cancelled\n",
    "data['POS_VALID'] = (data['SCM_SALES_CANCEL_BMF'] == 0) * 1 "
   ]
  },
  {
   "cell_type": "code",
   "execution_count": 10,
   "metadata": {
    "ExecuteTime": {
     "end_time": "2018-09-17T08:08:32.475290Z",
     "start_time": "2018-09-17T08:08:31.970411Z"
    }
   },
   "outputs": [
    {
     "data": {
      "text/html": [
       "<div>\n",
       "<style scoped>\n",
       "    .dataframe tbody tr th:only-of-type {\n",
       "        vertical-align: middle;\n",
       "    }\n",
       "\n",
       "    .dataframe tbody tr th {\n",
       "        vertical-align: top;\n",
       "    }\n",
       "\n",
       "    .dataframe thead th {\n",
       "        text-align: right;\n",
       "    }\n",
       "</style>\n",
       "<table border=\"1\" class=\"dataframe\">\n",
       "  <thead>\n",
       "    <tr style=\"text-align: right;\">\n",
       "      <th></th>\n",
       "      <th>SCM_SALES_BMF</th>\n",
       "      <th>SCM_SALES_CANCEL_BMF</th>\n",
       "      <th>SCM_D_ORIG_FINANCE_ORDER_NET</th>\n",
       "    </tr>\n",
       "  </thead>\n",
       "  <tbody>\n",
       "    <tr>\n",
       "      <th>242448</th>\n",
       "      <td>62.9900</td>\n",
       "      <td>52.4900</td>\n",
       "      <td>52.4917</td>\n",
       "    </tr>\n",
       "    <tr>\n",
       "      <th>676597</th>\n",
       "      <td>49.9900</td>\n",
       "      <td>41.3100</td>\n",
       "      <td>41.3140</td>\n",
       "    </tr>\n",
       "    <tr>\n",
       "      <th>4272195</th>\n",
       "      <td>23.9900</td>\n",
       "      <td>19.9900</td>\n",
       "      <td>19.9917</td>\n",
       "    </tr>\n",
       "    <tr>\n",
       "      <th>3979538</th>\n",
       "      <td>6.9900</td>\n",
       "      <td>5.8300</td>\n",
       "      <td>5.8250</td>\n",
       "    </tr>\n",
       "    <tr>\n",
       "      <th>2474236</th>\n",
       "      <td>19.9800</td>\n",
       "      <td>16.6500</td>\n",
       "      <td>16.6500</td>\n",
       "    </tr>\n",
       "    <tr>\n",
       "      <th>873259</th>\n",
       "      <td>13.1062</td>\n",
       "      <td>10.9244</td>\n",
       "      <td>10.9218</td>\n",
       "    </tr>\n",
       "    <tr>\n",
       "      <th>2486564</th>\n",
       "      <td>6.2544</td>\n",
       "      <td>5.2131</td>\n",
       "      <td>5.2120</td>\n",
       "    </tr>\n",
       "    <tr>\n",
       "      <th>60567</th>\n",
       "      <td>7.9900</td>\n",
       "      <td>6.6600</td>\n",
       "      <td>6.6583</td>\n",
       "    </tr>\n",
       "    <tr>\n",
       "      <th>336338</th>\n",
       "      <td>69.9900</td>\n",
       "      <td>58.3300</td>\n",
       "      <td>58.3250</td>\n",
       "    </tr>\n",
       "    <tr>\n",
       "      <th>900644</th>\n",
       "      <td>3.9900</td>\n",
       "      <td>3.3300</td>\n",
       "      <td>3.3250</td>\n",
       "    </tr>\n",
       "  </tbody>\n",
       "</table>\n",
       "</div>"
      ],
      "text/plain": [
       "         SCM_SALES_BMF  SCM_SALES_CANCEL_BMF  SCM_D_ORIG_FINANCE_ORDER_NET\n",
       "242448         62.9900               52.4900                       52.4917\n",
       "676597         49.9900               41.3100                       41.3140\n",
       "4272195        23.9900               19.9900                       19.9917\n",
       "3979538         6.9900                5.8300                        5.8250\n",
       "2474236        19.9800               16.6500                       16.6500\n",
       "873259         13.1062               10.9244                       10.9218\n",
       "2486564         6.2544                5.2131                        5.2120\n",
       "60567           7.9900                6.6600                        6.6583\n",
       "336338         69.9900               58.3300                       58.3250\n",
       "900644          3.9900                3.3300                        3.3250"
      ]
     },
     "execution_count": 10,
     "metadata": {},
     "output_type": "execute_result"
    }
   ],
   "source": [
    "data[data['POS_VALID'] == 0][['SCM_SALES_BMF', 'SCM_SALES_CANCEL_BMF', 'SCM_D_ORIG_FINANCE_ORDER_NET']].sample(10)"
   ]
  },
  {
   "cell_type": "code",
   "execution_count": 11,
   "metadata": {
    "ExecuteTime": {
     "end_time": "2018-09-17T08:08:32.505283Z",
     "start_time": "2018-09-17T08:08:32.475290Z"
    }
   },
   "outputs": [],
   "source": [
    "data['TAXES'] = data['SCM_SALES_BMF'] / data['SCM_D_ORIG_FINANCE_ORDER_NET']"
   ]
  },
  {
   "cell_type": "code",
   "execution_count": 12,
   "metadata": {
    "ExecuteTime": {
     "end_time": "2018-09-17T08:08:33.247605Z",
     "start_time": "2018-09-17T08:08:32.505283Z"
    }
   },
   "outputs": [],
   "source": [
    "data['BASKET_VALUE'] = (data['SCM_SALES_BMF'] * data['POS_VALID']).groupby(data['SCM_N_ORDER_NR']).transform('sum')"
   ]
  },
  {
   "cell_type": "code",
   "execution_count": 13,
   "metadata": {
    "ExecuteTime": {
     "end_time": "2018-09-17T08:08:33.307590Z",
     "start_time": "2018-09-17T08:08:33.247605Z"
    }
   },
   "outputs": [],
   "source": [
    "data['O_POS_SHARE'] = (data['SCM_SALES_BMF'] * data['POS_VALID']) / data['BASKET_VALUE']"
   ]
  },
  {
   "cell_type": "code",
   "execution_count": 14,
   "metadata": {
    "ExecuteTime": {
     "end_time": "2018-09-17T08:08:36.309370Z",
     "start_time": "2018-09-17T08:08:33.307590Z"
    }
   },
   "outputs": [],
   "source": [
    "pg4share = [float(str(i).replace(',','.')) for i in data['OSP_4_LEAD_P_PG_SHARE'].values]\n",
    "data['OSP_4_LEAD_P_PG_SHARE'] = pg4share"
   ]
  },
  {
   "cell_type": "markdown",
   "metadata": {},
   "source": [
    "#### Number of active SP - customers having placed at least 1 order in the last year -"
   ]
  },
  {
   "cell_type": "code",
   "execution_count": 15,
   "metadata": {
    "ExecuteTime": {
     "end_time": "2018-09-17T08:08:36.419343Z",
     "start_time": "2018-09-17T08:08:36.309370Z"
    }
   },
   "outputs": [
    {
     "data": {
      "text/plain": [
       "161937"
      ]
     },
     "execution_count": 15,
     "metadata": {},
     "output_type": "execute_result"
    }
   ],
   "source": [
    "data['CUS_N_KEY_CUSTOMER'].nunique()"
   ]
  },
  {
   "cell_type": "code",
   "execution_count": 16,
   "metadata": {
    "ExecuteTime": {
     "end_time": "2018-09-17T08:08:38.236407Z",
     "start_time": "2018-09-17T08:08:36.419343Z"
    }
   },
   "outputs": [
    {
     "data": {
      "text/plain": [
       "CZP_ZTQ_ID\n",
       "51    62716\n",
       "52    46265\n",
       "53    33402\n",
       "54    27777\n",
       "Name: CUS_N_KEY_CUSTOMER, dtype: int64"
      ]
     },
     "execution_count": 16,
     "metadata": {},
     "output_type": "execute_result"
    }
   ],
   "source": [
    "cus_per_tier = data.groupby('CZP_ZTQ_ID')['CUS_N_KEY_CUSTOMER'].nunique()\n",
    "cus_per_tier"
   ]
  },
  {
   "cell_type": "code",
   "execution_count": 17,
   "metadata": {
    "ExecuteTime": {
     "end_time": "2018-09-17T08:08:39.443617Z",
     "start_time": "2018-09-17T08:08:38.236407Z"
    }
   },
   "outputs": [
    {
     "data": {
      "text/plain": [
       "170160"
      ]
     },
     "execution_count": 17,
     "metadata": {},
     "output_type": "execute_result"
    }
   ],
   "source": [
    "# 133 customers transitioning between Tiers\n",
    "data.groupby('CZP_ZTQ_ID')['CUS_N_KEY_CUSTOMER'].nunique().sum()"
   ]
  },
  {
   "cell_type": "code",
   "execution_count": 18,
   "metadata": {
    "ExecuteTime": {
     "end_time": "2018-09-17T08:08:51.890629Z",
     "start_time": "2018-09-17T08:08:39.443617Z"
    }
   },
   "outputs": [],
   "source": [
    "mask = [len(i) > 1 for i in data.groupby('CUS_N_KEY_CUSTOMER')['CZP_ZTQ_ID'].unique().values]"
   ]
  },
  {
   "cell_type": "code",
   "execution_count": 19,
   "metadata": {
    "ExecuteTime": {
     "end_time": "2018-09-17T08:09:04.267658Z",
     "start_time": "2018-09-17T08:08:51.890629Z"
    }
   },
   "outputs": [
    {
     "data": {
      "text/plain": [
       "array([  341739,   429938,   451111, ..., 19364850, 19679446, 19757280],\n",
       "      dtype=int64)"
      ]
     },
     "execution_count": 19,
     "metadata": {},
     "output_type": "execute_result"
    }
   ],
   "source": [
    "#Customer IDs belonging to 2 different tiers along time in our data\n",
    "data.groupby('CUS_N_KEY_CUSTOMER')['CZP_ZTQ_ID'].unique()[mask].index.values"
   ]
  },
  {
   "cell_type": "code",
   "execution_count": 20,
   "metadata": {
    "ExecuteTime": {
     "end_time": "2018-09-17T08:10:14.288349Z",
     "start_time": "2018-09-17T08:09:04.267658Z"
    }
   },
   "outputs": [],
   "source": [
    "# Get for those customers the old tier\n",
    "old_tiers_list = []\n",
    "\n",
    "for i in data.groupby('CUS_N_KEY_CUSTOMER')['CZP_ZTQ_ID'].unique()[mask].index.values:\n",
    "    c_data = data[data['CUS_N_KEY_CUSTOMER'] == i]\n",
    "    min_date = c_data['TDT_T_KEY_ORDER_DATE'].min()\n",
    "    c_tier_min_date = c_data[c_data['TDT_T_KEY_ORDER_DATE'] == min_date]['CZP_ZTQ_ID'].unique()[0]\n",
    "    old_tiers_list.append(c_tier_min_date)"
   ]
  },
  {
   "cell_type": "code",
   "execution_count": 21,
   "metadata": {
    "ExecuteTime": {
     "end_time": "2018-09-17T08:10:14.290849Z",
     "start_time": "2018-09-17T08:10:14.288349Z"
    }
   },
   "outputs": [
    {
     "data": {
      "text/plain": [
       "[(51, 4080), (52, 1009), (53, 2336), (54, 795)]"
      ]
     },
     "execution_count": 21,
     "metadata": {},
     "output_type": "execute_result"
    }
   ],
   "source": [
    "# Group them by value and sort them\n",
    "c = Counter(old_tiers_list)\n",
    "cs = sorted(c.most_common(), key=lambda x: x[0])\n",
    "cs"
   ]
  },
  {
   "cell_type": "code",
   "execution_count": 22,
   "metadata": {
    "ExecuteTime": {
     "end_time": "2018-09-17T08:10:14.303346Z",
     "start_time": "2018-09-17T08:10:14.290849Z"
    }
   },
   "outputs": [
    {
     "data": {
      "text/plain": [
       "[4080, 1009, 2336, 795]"
      ]
     },
     "execution_count": 22,
     "metadata": {},
     "output_type": "execute_result"
    }
   ],
   "source": [
    "# Get the amount of each type -second value of each tuple- and substract them from the previous \n",
    "# calculation in line 16 including the same customer in 2 tiers\n",
    "cs_values = [i[1] for i in cs]\n",
    "cs_values"
   ]
  },
  {
   "cell_type": "code",
   "execution_count": 23,
   "metadata": {
    "ExecuteTime": {
     "end_time": "2018-09-17T08:10:14.320841Z",
     "start_time": "2018-09-17T08:10:14.303346Z"
    }
   },
   "outputs": [
    {
     "data": {
      "text/plain": [
       "array([62716, 46265, 33402, 27777], dtype=int64)"
      ]
     },
     "execution_count": 23,
     "metadata": {},
     "output_type": "execute_result"
    }
   ],
   "source": [
    "cus_per_tier.values"
   ]
  },
  {
   "cell_type": "code",
   "execution_count": 24,
   "metadata": {
    "ExecuteTime": {
     "end_time": "2018-09-17T08:10:14.340837Z",
     "start_time": "2018-09-17T08:10:14.320841Z"
    }
   },
   "outputs": [
    {
     "data": {
      "text/plain": [
       "array([58636, 45256, 31066, 26982], dtype=int64)"
      ]
     },
     "execution_count": 24,
     "metadata": {},
     "output_type": "execute_result"
    }
   ],
   "source": [
    "cus_per_tier_new_values = cus_per_tier.values - cs_values\n",
    "cus_per_tier_new_values"
   ]
  },
  {
   "cell_type": "code",
   "execution_count": 25,
   "metadata": {
    "ExecuteTime": {
     "end_time": "2018-09-17T08:10:14.360832Z",
     "start_time": "2018-09-17T08:10:14.343336Z"
    }
   },
   "outputs": [
    {
     "data": {
      "text/plain": [
       "array([51, 52, 53, 54], dtype=int64)"
      ]
     },
     "execution_count": 25,
     "metadata": {},
     "output_type": "execute_result"
    }
   ],
   "source": [
    "cus_per_tier.index.values"
   ]
  },
  {
   "cell_type": "code",
   "execution_count": 26,
   "metadata": {
    "ExecuteTime": {
     "end_time": "2018-09-17T08:10:14.770733Z",
     "start_time": "2018-09-17T08:10:14.360832Z"
    },
    "scrolled": false
   },
   "outputs": [
    {
     "data": {
      "image/png": "[encoded data removed]",
      "text/plain": [
       "<matplotlib.figure.Figure at 0x2a712240>"
      ]
     },
     "metadata": {},
     "output_type": "display_data"
    }
   ],
   "source": [
    "plt.figure(figsize=(16, 6))\n",
    "plt.barh(cus_per_tier.index.values, cus_per_tier_new_values)\n",
    "plt.yticks(cus_per_tier.index.values)\n",
    "plt.title('Active customers per tier from July-17 to June-18')\n",
    "ax = plt.gca()\n",
    "for i, txt in enumerate(zip(cus_per_tier.index.values, cus_per_tier_new_values)):\n",
    "    ax.annotate(txt, (cus_per_tier_new_values[i], cus_per_tier.index.values[i]))\n",
    "plt.grid()"
   ]
  },
  {
   "cell_type": "markdown",
   "metadata": {},
   "source": [
    "#### Number of average orders per year (mid 2017 - mid 2018)"
   ]
  },
  {
   "cell_type": "code",
   "execution_count": 27,
   "metadata": {
    "ExecuteTime": {
     "end_time": "2018-09-17T08:10:16.040429Z",
     "start_time": "2018-09-17T08:10:14.770733Z"
    }
   },
   "outputs": [
    {
     "data": {
      "text/plain": [
       "CZP_ZTQ_ID\n",
       "51    303170\n",
       "52    250040\n",
       "53    165384\n",
       "54    156479\n",
       "Name: SCM_N_ORDER_NR, dtype: int64"
      ]
     },
     "execution_count": 27,
     "metadata": {},
     "output_type": "execute_result"
    }
   ],
   "source": [
    "data.groupby('CZP_ZTQ_ID')['SCM_N_ORDER_NR'].nunique()"
   ]
  },
  {
   "cell_type": "code",
   "execution_count": 28,
   "metadata": {
    "ExecuteTime": {
     "end_time": "2018-09-17T08:10:16.042928Z",
     "start_time": "2018-09-17T08:10:16.040429Z"
    }
   },
   "outputs": [],
   "source": [
    "tiers = [51, 52, 53, 54]"
   ]
  },
  {
   "cell_type": "code",
   "execution_count": 29,
   "metadata": {
    "ExecuteTime": {
     "end_time": "2018-09-17T08:10:17.025192Z",
     "start_time": "2018-09-17T08:10:16.042928Z"
    }
   },
   "outputs": [],
   "source": [
    "orders_per_week = data.groupby('WEEK_NUMBER')['SCM_N_ORDER_NR'].nunique()\n",
    "#New mapping in order to have correlative week numbers\n",
    "new_week_mapping = {}"
   ]
  },
  {
   "cell_type": "code",
   "execution_count": 30,
   "metadata": {
    "ExecuteTime": {
     "end_time": "2018-09-17T08:10:17.027692Z",
     "start_time": "2018-09-17T08:10:17.025192Z"
    }
   },
   "outputs": [],
   "source": [
    "for x, y in zip(list(orders_per_week[25:].index.values) + list(orders_per_week[:25].index.values), list(range(1,len(orders_per_week.index.values) + 1))):\n",
    "    new_week_mapping[x] = y "
   ]
  },
  {
   "cell_type": "code",
   "execution_count": 31,
   "metadata": {
    "ExecuteTime": {
     "end_time": "2018-09-17T08:10:18.344875Z",
     "start_time": "2018-09-17T08:10:17.027692Z"
    }
   },
   "outputs": [],
   "source": [
    "week_mapping = [new_week_mapping[i] for i in data['WEEK_NUMBER'].values]\n",
    "#New column with the new week mapping\n",
    "data['WEEK_NUMBER_ORDERED'] = week_mapping"
   ]
  },
  {
   "cell_type": "code",
   "execution_count": 32,
   "metadata": {
    "ExecuteTime": {
     "end_time": "2018-09-17T08:10:21.784050Z",
     "start_time": "2018-09-17T08:10:18.344875Z"
    }
   },
   "outputs": [
    {
     "data": {
      "image/png": "[encoded data removed]",
      "text/plain": [
       "<matplotlib.figure.Figure at 0xf1de7b8>"
      ]
     },
     "metadata": {},
     "output_type": "display_data"
    }
   ],
   "source": [
    "plt.figure(figsize=(16, 8))\n",
    "for i in tiers:\n",
    "    tier_data = data[data['CZP_ZTQ_ID'] == i]\n",
    "    weekly_data = tier_data.groupby('WEEK_NUMBER_ORDERED')['SCM_N_ORDER_NR'].nunique()[1:] #exclude 1st week (week 26 overlapping)\n",
    "    weekly_data.plot()\n",
    "    ax = plt.gca()\n",
    "    for i, txt in enumerate(weekly_data):\n",
    "        ax.annotate(txt, (weekly_data.index[i], weekly_data.values[i]))\n",
    "plt.grid(True)\n",
    "plt.ylabel('Orders')\n",
    "plt.title('Evolution of Weekly orders per EC Tier (51, 52, 53 54) from Jul 17 to Jun 18')\n",
    "plt.legend(tiers) \n",
    "plt.show()"
   ]
  },
  {
   "cell_type": "markdown",
   "metadata": {},
   "source": [
    "#### Average Basket Value"
   ]
  },
  {
   "cell_type": "code",
   "execution_count": 33,
   "metadata": {
    "ExecuteTime": {
     "end_time": "2018-09-17T08:10:23.056244Z",
     "start_time": "2018-09-17T08:10:21.784050Z"
    }
   },
   "outputs": [],
   "source": [
    "order_values_per_tier = data.groupby(['CZP_ZTQ_ID', 'SCM_N_ORDER_NR'], as_index=False)['BASKET_VALUE'].mean()"
   ]
  },
  {
   "cell_type": "code",
   "execution_count": 34,
   "metadata": {
    "ExecuteTime": {
     "end_time": "2018-09-17T08:10:23.076240Z",
     "start_time": "2018-09-17T08:10:23.056244Z"
    }
   },
   "outputs": [
    {
     "data": {
      "text/html": [
       "<div>\n",
       "<style scoped>\n",
       "    .dataframe tbody tr th:only-of-type {\n",
       "        vertical-align: middle;\n",
       "    }\n",
       "\n",
       "    .dataframe tbody tr th {\n",
       "        vertical-align: top;\n",
       "    }\n",
       "\n",
       "    .dataframe thead th {\n",
       "        text-align: right;\n",
       "    }\n",
       "</style>\n",
       "<table border=\"1\" class=\"dataframe\">\n",
       "  <thead>\n",
       "    <tr style=\"text-align: right;\">\n",
       "      <th></th>\n",
       "      <th>CZP_ZTQ_ID</th>\n",
       "      <th>SCM_N_ORDER_NR</th>\n",
       "      <th>BASKET_VALUE</th>\n",
       "    </tr>\n",
       "  </thead>\n",
       "  <tbody>\n",
       "    <tr>\n",
       "      <th>263813</th>\n",
       "      <td>51</td>\n",
       "      <td>110608105</td>\n",
       "      <td>74.67</td>\n",
       "    </tr>\n",
       "    <tr>\n",
       "      <th>585250</th>\n",
       "      <td>53</td>\n",
       "      <td>94122178</td>\n",
       "      <td>76.44</td>\n",
       "    </tr>\n",
       "    <tr>\n",
       "      <th>114092</th>\n",
       "      <td>51</td>\n",
       "      <td>98813320</td>\n",
       "      <td>71.35</td>\n",
       "    </tr>\n",
       "    <tr>\n",
       "      <th>806465</th>\n",
       "      <td>54</td>\n",
       "      <td>103068943</td>\n",
       "      <td>42.24</td>\n",
       "    </tr>\n",
       "    <tr>\n",
       "      <th>727508</th>\n",
       "      <td>54</td>\n",
       "      <td>91220249</td>\n",
       "      <td>199.72</td>\n",
       "    </tr>\n",
       "  </tbody>\n",
       "</table>\n",
       "</div>"
      ],
      "text/plain": [
       "        CZP_ZTQ_ID  SCM_N_ORDER_NR  BASKET_VALUE\n",
       "263813          51       110608105         74.67\n",
       "585250          53        94122178         76.44\n",
       "114092          51        98813320         71.35\n",
       "806465          54       103068943         42.24\n",
       "727508          54        91220249        199.72"
      ]
     },
     "execution_count": 34,
     "metadata": {},
     "output_type": "execute_result"
    }
   ],
   "source": [
    "order_values_per_tier.sample(5)"
   ]
  },
  {
   "cell_type": "code",
   "execution_count": 35,
   "metadata": {
    "ExecuteTime": {
     "end_time": "2018-09-17T08:10:23.208708Z",
     "start_time": "2018-09-17T08:10:23.076240Z"
    }
   },
   "outputs": [
    {
     "data": {
      "text/html": [
       "<div>\n",
       "<style scoped>\n",
       "    .dataframe tbody tr th:only-of-type {\n",
       "        vertical-align: middle;\n",
       "    }\n",
       "\n",
       "    .dataframe tbody tr th {\n",
       "        vertical-align: top;\n",
       "    }\n",
       "\n",
       "    .dataframe thead th {\n",
       "        text-align: right;\n",
       "    }\n",
       "</style>\n",
       "<table border=\"1\" class=\"dataframe\">\n",
       "  <thead>\n",
       "    <tr style=\"text-align: right;\">\n",
       "      <th></th>\n",
       "      <th>count</th>\n",
       "      <th>mean</th>\n",
       "      <th>std</th>\n",
       "      <th>min</th>\n",
       "      <th>25%</th>\n",
       "      <th>50%</th>\n",
       "      <th>75%</th>\n",
       "      <th>max</th>\n",
       "    </tr>\n",
       "    <tr>\n",
       "      <th>CZP_ZTQ_ID</th>\n",
       "      <th></th>\n",
       "      <th></th>\n",
       "      <th></th>\n",
       "      <th></th>\n",
       "      <th></th>\n",
       "      <th></th>\n",
       "      <th></th>\n",
       "      <th></th>\n",
       "    </tr>\n",
       "  </thead>\n",
       "  <tbody>\n",
       "    <tr>\n",
       "      <th>51</th>\n",
       "      <td>303170.0</td>\n",
       "      <td>75.84</td>\n",
       "      <td>44.61</td>\n",
       "      <td>-41.05</td>\n",
       "      <td>46.66</td>\n",
       "      <td>63.51</td>\n",
       "      <td>93.69</td>\n",
       "      <td>1058.01</td>\n",
       "    </tr>\n",
       "    <tr>\n",
       "      <th>52</th>\n",
       "      <td>250040.0</td>\n",
       "      <td>86.67</td>\n",
       "      <td>55.11</td>\n",
       "      <td>-68.24</td>\n",
       "      <td>50.38</td>\n",
       "      <td>72.73</td>\n",
       "      <td>106.67</td>\n",
       "      <td>1962.27</td>\n",
       "    </tr>\n",
       "    <tr>\n",
       "      <th>53</th>\n",
       "      <td>165384.0</td>\n",
       "      <td>79.91</td>\n",
       "      <td>50.34</td>\n",
       "      <td>-50.69</td>\n",
       "      <td>47.49</td>\n",
       "      <td>66.49</td>\n",
       "      <td>97.83</td>\n",
       "      <td>1487.13</td>\n",
       "    </tr>\n",
       "    <tr>\n",
       "      <th>54</th>\n",
       "      <td>156479.0</td>\n",
       "      <td>93.19</td>\n",
       "      <td>66.59</td>\n",
       "      <td>-118.55</td>\n",
       "      <td>52.23</td>\n",
       "      <td>78.84</td>\n",
       "      <td>113.01</td>\n",
       "      <td>3546.67</td>\n",
       "    </tr>\n",
       "  </tbody>\n",
       "</table>\n",
       "</div>"
      ],
      "text/plain": [
       "               count   mean    std     min    25%    50%     75%      max\n",
       "CZP_ZTQ_ID                                                               \n",
       "51          303170.0  75.84  44.61  -41.05  46.66  63.51   93.69  1058.01\n",
       "52          250040.0  86.67  55.11  -68.24  50.38  72.73  106.67  1962.27\n",
       "53          165384.0  79.91  50.34  -50.69  47.49  66.49   97.83  1487.13\n",
       "54          156479.0  93.19  66.59 -118.55  52.23  78.84  113.01  3546.67"
      ]
     },
     "execution_count": 35,
     "metadata": {},
     "output_type": "execute_result"
    }
   ],
   "source": [
    "order_values_per_tier.groupby('CZP_ZTQ_ID')['BASKET_VALUE'].describe().round(2)"
   ]
  },
  {
   "cell_type": "markdown",
   "metadata": {},
   "source": [
    "Due to high spreadness of the sample is more robust use the median"
   ]
  },
  {
   "cell_type": "markdown",
   "metadata": {},
   "source": [
    "#### Average Sales"
   ]
  },
  {
   "cell_type": "code",
   "execution_count": 36,
   "metadata": {
    "ExecuteTime": {
     "end_time": "2018-09-17T08:10:23.241200Z",
     "start_time": "2018-09-17T08:10:23.208708Z"
    }
   },
   "outputs": [
    {
     "data": {
      "text/plain": [
       "CZP_ZTQ_ID\n",
       "51    22992806.16\n",
       "52    21669984.65\n",
       "53    13216593.71\n",
       "54    14581955.25\n",
       "Name: BASKET_VALUE, dtype: float64"
      ]
     },
     "execution_count": 36,
     "metadata": {},
     "output_type": "execute_result"
    }
   ],
   "source": [
    "#12 months sales\n",
    "order_values_per_tier.groupby('CZP_ZTQ_ID')['BASKET_VALUE'].sum().round(2)"
   ]
  },
  {
   "cell_type": "code",
   "execution_count": 37,
   "metadata": {
    "ExecuteTime": {
     "end_time": "2018-09-17T08:10:23.273692Z",
     "start_time": "2018-09-17T08:10:23.241200Z"
    }
   },
   "outputs": [
    {
     "data": {
      "text/plain": [
       "CZP_ZTQ_ID\n",
       "51    1916067.18\n",
       "52    1805832.05\n",
       "53    1101382.81\n",
       "54    1215162.94\n",
       "Name: BASKET_VALUE, dtype: float64"
      ]
     },
     "execution_count": 37,
     "metadata": {},
     "output_type": "execute_result"
    }
   ],
   "source": [
    "# Monthly average sales\n",
    "np.round(order_values_per_tier.groupby('CZP_ZTQ_ID')['BASKET_VALUE'].sum() / 12, 2)"
   ]
  },
  {
   "cell_type": "code",
   "execution_count": 38,
   "metadata": {
    "ExecuteTime": {
     "end_time": "2018-09-17T08:10:23.303685Z",
     "start_time": "2018-09-17T08:10:23.273692Z"
    }
   },
   "outputs": [
    {
     "data": {
      "text/plain": [
       "CZP_ZTQ_ID\n",
       "51    442169.35\n",
       "52    416730.47\n",
       "53    254165.26\n",
       "54    280422.22\n",
       "Name: BASKET_VALUE, dtype: float64"
      ]
     },
     "execution_count": 38,
     "metadata": {},
     "output_type": "execute_result"
    }
   ],
   "source": [
    "# Weekly average sales\n",
    "np.round(order_values_per_tier.groupby('CZP_ZTQ_ID')['BASKET_VALUE'].sum() / 52, 2)"
   ]
  },
  {
   "cell_type": "code",
   "execution_count": 39,
   "metadata": {
    "ExecuteTime": {
     "end_time": "2018-09-17T08:10:26.180494Z",
     "start_time": "2018-09-17T08:10:23.303685Z"
    }
   },
   "outputs": [
    {
     "data": {
      "image/png": "[encoded data removed]",
      "text/plain": [
       "<matplotlib.figure.Figure at 0xf1fb400>"
      ]
     },
     "metadata": {},
     "output_type": "display_data"
    }
   ],
   "source": [
    "plt.figure(figsize=(16, 8))\n",
    "for i in tiers:\n",
    "    tier_data = data[data['CZP_ZTQ_ID'] == i]\n",
    "    week_sales_tier = tier_data.groupby(['WEEK_NUMBER_ORDERED', 'SCM_N_ORDER_NR'], as_index=False)['BASKET_VALUE'].mean()\n",
    "    weekly_data = week_sales_tier.groupby('WEEK_NUMBER_ORDERED')['BASKET_VALUE'].sum()[1:] #exclude 1st week (week 26 overlapping)\n",
    "    weekly_data.plot()\n",
    "    ax = plt.gca()\n",
    "    for i, txt in enumerate(weekly_data):\n",
    "        if i % 6 == 0:\n",
    "            ax.annotate(np.round(txt, 2), (weekly_data.index[i], weekly_data.values[i]))\n",
    "plt.grid(True)\n",
    "plt.ylabel('Sales')\n",
    "plt.title('Evolution of Weekly Sales per EC Tier (51, 52, 53, 54) from Jul 17 to Jun 18')\n",
    "plt.legend(tiers) \n",
    "plt.show()"
   ]
  },
  {
   "cell_type": "markdown",
   "metadata": {},
   "source": [
    "#### CM1 "
   ]
  },
  {
   "cell_type": "code",
   "execution_count": 40,
   "metadata": {
    "ExecuteTime": {
     "end_time": "2018-09-17T08:10:26.907820Z",
     "start_time": "2018-09-17T08:10:26.180494Z"
    }
   },
   "outputs": [],
   "source": [
    "data['ORDER_CM1'] = (data['SCM_D_FINANCE_CM1'] * data['POS_VALID']).groupby(data['SCM_N_ORDER_NR']).transform('sum')"
   ]
  },
  {
   "cell_type": "code",
   "execution_count": 41,
   "metadata": {
    "ExecuteTime": {
     "end_time": "2018-09-17T08:10:27.597654Z",
     "start_time": "2018-09-17T08:10:26.907820Z"
    }
   },
   "outputs": [],
   "source": [
    "data['ORDER_NET_SALES'] = (data['SCM_D_ORIG_FINANCE_ORDER_NET'] * data['POS_VALID']).groupby(data['SCM_N_ORDER_NR']).transform('sum')"
   ]
  },
  {
   "cell_type": "code",
   "execution_count": 42,
   "metadata": {
    "ExecuteTime": {
     "end_time": "2018-09-17T08:10:27.637645Z",
     "start_time": "2018-09-17T08:10:27.597654Z"
    }
   },
   "outputs": [],
   "source": [
    "data['ORDER_CM1%'] = data['ORDER_CM1'] / data['ORDER_NET_SALES'] * 100"
   ]
  },
  {
   "cell_type": "code",
   "execution_count": 43,
   "metadata": {
    "ExecuteTime": {
     "end_time": "2018-09-17T08:10:28.359971Z",
     "start_time": "2018-09-17T08:10:27.637645Z"
    }
   },
   "outputs": [],
   "source": [
    "data['ORDER_CM2'] = (data['SCM_D_FINANCE_CM2'] * data['POS_VALID']).groupby(data['SCM_N_ORDER_NR']).transform('sum')"
   ]
  },
  {
   "cell_type": "code",
   "execution_count": 44,
   "metadata": {
    "ExecuteTime": {
     "end_time": "2018-09-17T08:10:28.402461Z",
     "start_time": "2018-09-17T08:10:28.359971Z"
    }
   },
   "outputs": [],
   "source": [
    "data['ORDER_CM2%'] = data['ORDER_CM2'] / data['ORDER_NET_SALES'] * 100"
   ]
  },
  {
   "cell_type": "code",
   "execution_count": 45,
   "metadata": {
    "ExecuteTime": {
     "end_time": "2018-09-17T08:10:31.074320Z",
     "start_time": "2018-09-17T08:10:28.402461Z"
    }
   },
   "outputs": [],
   "source": [
    "cm_values_per_tier = data.groupby(['CZP_ZTQ_ID', 'SCM_N_ORDER_NR'], as_index=False)[['ORDER_NET_SALES', 'ORDER_CM1', \n",
    "                                                                                     'ORDER_CM1%', 'ORDER_CM2',\n",
    "                                                                                     'ORDER_CM2%']].mean()"
   ]
  },
  {
   "cell_type": "code",
   "execution_count": 46,
   "metadata": {
    "ExecuteTime": {
     "end_time": "2018-09-17T08:10:31.104312Z",
     "start_time": "2018-09-17T08:10:31.074320Z"
    }
   },
   "outputs": [
    {
     "data": {
      "text/html": [
       "<div>\n",
       "<style scoped>\n",
       "    .dataframe tbody tr th:only-of-type {\n",
       "        vertical-align: middle;\n",
       "    }\n",
       "\n",
       "    .dataframe tbody tr th {\n",
       "        vertical-align: top;\n",
       "    }\n",
       "\n",
       "    .dataframe thead th {\n",
       "        text-align: right;\n",
       "    }\n",
       "</style>\n",
       "<table border=\"1\" class=\"dataframe\">\n",
       "  <thead>\n",
       "    <tr style=\"text-align: right;\">\n",
       "      <th></th>\n",
       "      <th>CZP_ZTQ_ID</th>\n",
       "      <th>SCM_N_ORDER_NR</th>\n",
       "      <th>ORDER_NET_SALES</th>\n",
       "      <th>ORDER_CM1</th>\n",
       "      <th>ORDER_CM1%</th>\n",
       "      <th>ORDER_CM2</th>\n",
       "      <th>ORDER_CM2%</th>\n",
       "    </tr>\n",
       "  </thead>\n",
       "  <tbody>\n",
       "    <tr>\n",
       "      <th>333096</th>\n",
       "      <td>52</td>\n",
       "      <td>92858497</td>\n",
       "      <td>41.21</td>\n",
       "      <td>10.84</td>\n",
       "      <td>26.30</td>\n",
       "      <td>3.10</td>\n",
       "      <td>7.52</td>\n",
       "    </tr>\n",
       "    <tr>\n",
       "      <th>522947</th>\n",
       "      <td>52</td>\n",
       "      <td>111071510</td>\n",
       "      <td>64.47</td>\n",
       "      <td>35.60</td>\n",
       "      <td>55.22</td>\n",
       "      <td>27.60</td>\n",
       "      <td>42.80</td>\n",
       "    </tr>\n",
       "    <tr>\n",
       "      <th>390550</th>\n",
       "      <td>52</td>\n",
       "      <td>98505658</td>\n",
       "      <td>56.58</td>\n",
       "      <td>11.14</td>\n",
       "      <td>19.70</td>\n",
       "      <td>2.42</td>\n",
       "      <td>4.28</td>\n",
       "    </tr>\n",
       "    <tr>\n",
       "      <th>616273</th>\n",
       "      <td>53</td>\n",
       "      <td>98459999</td>\n",
       "      <td>39.57</td>\n",
       "      <td>6.43</td>\n",
       "      <td>16.23</td>\n",
       "      <td>-1.33</td>\n",
       "      <td>-3.35</td>\n",
       "    </tr>\n",
       "    <tr>\n",
       "      <th>706727</th>\n",
       "      <td>53</td>\n",
       "      <td>112015532</td>\n",
       "      <td>72.82</td>\n",
       "      <td>22.04</td>\n",
       "      <td>30.26</td>\n",
       "      <td>6.36</td>\n",
       "      <td>8.73</td>\n",
       "    </tr>\n",
       "  </tbody>\n",
       "</table>\n",
       "</div>"
      ],
      "text/plain": [
       "        CZP_ZTQ_ID  SCM_N_ORDER_NR  ORDER_NET_SALES  ORDER_CM1  ORDER_CM1%  \\\n",
       "333096          52        92858497            41.21      10.84       26.30   \n",
       "522947          52       111071510            64.47      35.60       55.22   \n",
       "390550          52        98505658            56.58      11.14       19.70   \n",
       "616273          53        98459999            39.57       6.43       16.23   \n",
       "706727          53       112015532            72.82      22.04       30.26   \n",
       "\n",
       "        ORDER_CM2  ORDER_CM2%  \n",
       "333096       3.10        7.52  \n",
       "522947      27.60       42.80  \n",
       "390550       2.42        4.28  \n",
       "616273      -1.33       -3.35  \n",
       "706727       6.36        8.73  "
      ]
     },
     "execution_count": 46,
     "metadata": {},
     "output_type": "execute_result"
    }
   ],
   "source": [
    "cm_values_per_tier.sample(5).round(2)"
   ]
  },
  {
   "cell_type": "code",
   "execution_count": 47,
   "metadata": {
    "ExecuteTime": {
     "end_time": "2018-09-17T08:10:31.144303Z",
     "start_time": "2018-09-17T08:10:31.104312Z"
    }
   },
   "outputs": [
    {
     "data": {
      "text/plain": [
       "CZP_ZTQ_ID\n",
       "51    5587472.51\n",
       "52    5125938.87\n",
       "53    3236391.73\n",
       "54    3274337.67\n",
       "Name: ORDER_CM1, dtype: float64"
      ]
     },
     "execution_count": 47,
     "metadata": {},
     "output_type": "execute_result"
    }
   ],
   "source": [
    "# CM1 per tier\n",
    "cm_values_per_tier.groupby('CZP_ZTQ_ID')['ORDER_CM1'].sum().round(2)"
   ]
  },
  {
   "cell_type": "code",
   "execution_count": 48,
   "metadata": {
    "ExecuteTime": {
     "end_time": "2018-09-17T08:10:31.204288Z",
     "start_time": "2018-09-17T08:10:31.144303Z"
    }
   },
   "outputs": [
    {
     "data": {
      "text/plain": [
       "CZP_ZTQ_ID\n",
       "51    18.43\n",
       "52    20.50\n",
       "53    19.57\n",
       "54    20.93\n",
       "dtype: float64"
      ]
     },
     "execution_count": 48,
     "metadata": {},
     "output_type": "execute_result"
    }
   ],
   "source": [
    "# CM1 per order in each tier\n",
    "(cm_values_per_tier.groupby('CZP_ZTQ_ID')['ORDER_CM1'].sum() /\\\n",
    "cm_values_per_tier.groupby('CZP_ZTQ_ID')['SCM_N_ORDER_NR'].count()).round(2)"
   ]
  },
  {
   "cell_type": "code",
   "execution_count": 49,
   "metadata": {
    "ExecuteTime": {
     "end_time": "2018-09-17T08:10:31.259275Z",
     "start_time": "2018-09-17T08:10:31.204288Z"
    }
   },
   "outputs": [
    {
     "data": {
      "text/plain": [
       "CZP_ZTQ_ID\n",
       "51    29.14\n",
       "52    28.36\n",
       "53    29.32\n",
       "54    26.89\n",
       "dtype: float64"
      ]
     },
     "execution_count": 49,
     "metadata": {},
     "output_type": "execute_result"
    }
   ],
   "source": [
    "# CM1% per tier\n",
    "(cm_values_per_tier.groupby('CZP_ZTQ_ID')['ORDER_CM1'].sum() /\\\n",
    "cm_values_per_tier.groupby('CZP_ZTQ_ID')['ORDER_NET_SALES'].sum() * 100).round(2)"
   ]
  },
  {
   "cell_type": "code",
   "execution_count": 50,
   "metadata": {
    "ExecuteTime": {
     "end_time": "2018-09-17T08:10:31.281770Z",
     "start_time": "2018-09-17T08:10:31.259275Z"
    }
   },
   "outputs": [
    {
     "data": {
      "text/html": [
       "<div>\n",
       "<style scoped>\n",
       "    .dataframe tbody tr th:only-of-type {\n",
       "        vertical-align: middle;\n",
       "    }\n",
       "\n",
       "    .dataframe tbody tr th {\n",
       "        vertical-align: top;\n",
       "    }\n",
       "\n",
       "    .dataframe thead th {\n",
       "        text-align: right;\n",
       "    }\n",
       "</style>\n",
       "<table border=\"1\" class=\"dataframe\">\n",
       "  <thead>\n",
       "    <tr style=\"text-align: right;\">\n",
       "      <th></th>\n",
       "      <th>CZP_ZTQ_ID</th>\n",
       "      <th>SCM_N_ORDER_NR</th>\n",
       "      <th>ORDER_NET_SALES</th>\n",
       "      <th>ORDER_CM1</th>\n",
       "      <th>ORDER_CM1%</th>\n",
       "      <th>ORDER_CM2</th>\n",
       "      <th>ORDER_CM2%</th>\n",
       "    </tr>\n",
       "  </thead>\n",
       "  <tbody>\n",
       "    <tr>\n",
       "      <th>96219</th>\n",
       "      <td>51</td>\n",
       "      <td>97395020</td>\n",
       "      <td>0.0</td>\n",
       "      <td>-0.80</td>\n",
       "      <td>-inf</td>\n",
       "      <td>-5.6396</td>\n",
       "      <td>-inf</td>\n",
       "    </tr>\n",
       "    <tr>\n",
       "      <th>146826</th>\n",
       "      <td>51</td>\n",
       "      <td>101345375</td>\n",
       "      <td>0.0</td>\n",
       "      <td>-29.13</td>\n",
       "      <td>-inf</td>\n",
       "      <td>-38.3738</td>\n",
       "      <td>-inf</td>\n",
       "    </tr>\n",
       "    <tr>\n",
       "      <th>359982</th>\n",
       "      <td>52</td>\n",
       "      <td>95506367</td>\n",
       "      <td>0.0</td>\n",
       "      <td>-1.73</td>\n",
       "      <td>-inf</td>\n",
       "      <td>-6.5112</td>\n",
       "      <td>-inf</td>\n",
       "    </tr>\n",
       "    <tr>\n",
       "      <th>497708</th>\n",
       "      <td>52</td>\n",
       "      <td>108697337</td>\n",
       "      <td>0.0</td>\n",
       "      <td>-1.76</td>\n",
       "      <td>-inf</td>\n",
       "      <td>-8.1606</td>\n",
       "      <td>-inf</td>\n",
       "    </tr>\n",
       "    <tr>\n",
       "      <th>519593</th>\n",
       "      <td>52</td>\n",
       "      <td>110717915</td>\n",
       "      <td>0.0</td>\n",
       "      <td>-0.46</td>\n",
       "      <td>-inf</td>\n",
       "      <td>-0.8845</td>\n",
       "      <td>-inf</td>\n",
       "    </tr>\n",
       "    <tr>\n",
       "      <th>643816</th>\n",
       "      <td>53</td>\n",
       "      <td>102425743</td>\n",
       "      <td>0.0</td>\n",
       "      <td>-0.84</td>\n",
       "      <td>-inf</td>\n",
       "      <td>-8.9222</td>\n",
       "      <td>-inf</td>\n",
       "    </tr>\n",
       "  </tbody>\n",
       "</table>\n",
       "</div>"
      ],
      "text/plain": [
       "        CZP_ZTQ_ID  SCM_N_ORDER_NR  ORDER_NET_SALES  ORDER_CM1  ORDER_CM1%  \\\n",
       "96219           51        97395020              0.0      -0.80        -inf   \n",
       "146826          51       101345375              0.0     -29.13        -inf   \n",
       "359982          52        95506367              0.0      -1.73        -inf   \n",
       "497708          52       108697337              0.0      -1.76        -inf   \n",
       "519593          52       110717915              0.0      -0.46        -inf   \n",
       "643816          53       102425743              0.0      -0.84        -inf   \n",
       "\n",
       "        ORDER_CM2  ORDER_CM2%  \n",
       "96219     -5.6396        -inf  \n",
       "146826   -38.3738        -inf  \n",
       "359982    -6.5112        -inf  \n",
       "497708    -8.1606        -inf  \n",
       "519593    -0.8845        -inf  \n",
       "643816    -8.9222        -inf  "
      ]
     },
     "execution_count": 50,
     "metadata": {},
     "output_type": "execute_result"
    }
   ],
   "source": [
    "cm_values_per_tier[cm_values_per_tier['ORDER_CM1%'] == cm_values_per_tier['ORDER_CM1%'].min()]"
   ]
  },
  {
   "cell_type": "code",
   "execution_count": 51,
   "metadata": {
    "ExecuteTime": {
     "end_time": "2018-09-17T08:10:31.381746Z",
     "start_time": "2018-09-17T08:10:31.281770Z"
    }
   },
   "outputs": [
    {
     "name": "stderr",
     "output_type": "stream",
     "text": [
      "C:\\Users\\albertoma\\AppData\\Local\\conda\\conda\\envs\\py36\\lib\\site-packages\\pandas\\core\\indexing.py:194: SettingWithCopyWarning: \n",
      "A value is trying to be set on a copy of a slice from a DataFrame\n",
      "\n",
      "See the caveats in the documentation: http://pandas.pydata.org/pandas-docs/stable/indexing.html#indexing-view-versus-copy\n",
      "  self._setitem_with_indexer(indexer, value)\n"
     ]
    }
   ],
   "source": [
    "cm_values_per_tier['ORDER_CM1%'].iloc[440895] = 0"
   ]
  },
  {
   "cell_type": "code",
   "execution_count": 52,
   "metadata": {
    "ExecuteTime": {
     "end_time": "2018-09-17T08:10:31.419237Z",
     "start_time": "2018-09-17T08:10:31.381746Z"
    }
   },
   "outputs": [],
   "source": [
    "cm_values_per_tier['ORDER_CM1%'] = cm_values_per_tier['ORDER_CM1%'].replace(-np.inf, 0).fillna(0).astype(float)"
   ]
  },
  {
   "cell_type": "code",
   "execution_count": 53,
   "metadata": {
    "ExecuteTime": {
     "end_time": "2018-09-17T08:10:31.471724Z",
     "start_time": "2018-09-17T08:10:31.419237Z"
    }
   },
   "outputs": [
    {
     "data": {
      "text/plain": [
       "numpy.float64"
      ]
     },
     "execution_count": 53,
     "metadata": {},
     "output_type": "execute_result"
    }
   ],
   "source": [
    "type(cm_values_per_tier['ORDER_CM1%'][0])"
   ]
  },
  {
   "cell_type": "code",
   "execution_count": 54,
   "metadata": {
    "ExecuteTime": {
     "end_time": "2018-09-17T08:10:31.501717Z",
     "start_time": "2018-09-17T08:10:31.471724Z"
    }
   },
   "outputs": [
    {
     "data": {
      "text/plain": [
       "CZP_ZTQ_ID\n",
       "51    30.81\n",
       "52    30.11\n",
       "53    30.93\n",
       "54    28.46\n",
       "Name: ORDER_CM1%, dtype: float64"
      ]
     },
     "execution_count": 54,
     "metadata": {},
     "output_type": "execute_result"
    }
   ],
   "source": [
    "# CM1% per order in each tier\n",
    "cm_values_per_tier.groupby('CZP_ZTQ_ID')['ORDER_CM1%'].mean().round(2)"
   ]
  },
  {
   "cell_type": "code",
   "execution_count": 55,
   "metadata": {
    "ExecuteTime": {
     "end_time": "2018-09-17T08:10:32.376507Z",
     "start_time": "2018-09-17T08:10:31.501717Z"
    }
   },
   "outputs": [
    {
     "data": {
      "image/png": "[encoded data removed]",
      "text/plain": [
       "<matplotlib.figure.Figure at 0x6d4f7198>"
      ]
     },
     "metadata": {},
     "output_type": "display_data"
    },
    {
     "data": {
      "text/html": [
       "<div>\n",
       "<style scoped>\n",
       "    .dataframe tbody tr th:only-of-type {\n",
       "        vertical-align: middle;\n",
       "    }\n",
       "\n",
       "    .dataframe tbody tr th {\n",
       "        vertical-align: top;\n",
       "    }\n",
       "\n",
       "    .dataframe thead th {\n",
       "        text-align: right;\n",
       "    }\n",
       "</style>\n",
       "<table border=\"1\" class=\"dataframe\">\n",
       "  <thead>\n",
       "    <tr style=\"text-align: right;\">\n",
       "      <th></th>\n",
       "      <th>Tier 51</th>\n",
       "      <th>Tier 52</th>\n",
       "      <th>Tier 53</th>\n",
       "      <th>Tier 54</th>\n",
       "    </tr>\n",
       "  </thead>\n",
       "  <tbody>\n",
       "    <tr>\n",
       "      <th>count</th>\n",
       "      <td>303170.00</td>\n",
       "      <td>250040.00</td>\n",
       "      <td>165384.00</td>\n",
       "      <td>156479.00</td>\n",
       "    </tr>\n",
       "    <tr>\n",
       "      <th>mean</th>\n",
       "      <td>30.81</td>\n",
       "      <td>30.11</td>\n",
       "      <td>30.93</td>\n",
       "      <td>28.46</td>\n",
       "    </tr>\n",
       "    <tr>\n",
       "      <th>std</th>\n",
       "      <td>58.33</td>\n",
       "      <td>23.36</td>\n",
       "      <td>38.26</td>\n",
       "      <td>31.49</td>\n",
       "    </tr>\n",
       "    <tr>\n",
       "      <th>min</th>\n",
       "      <td>-28951.77</td>\n",
       "      <td>-5750.69</td>\n",
       "      <td>-4288.69</td>\n",
       "      <td>-8461.60</td>\n",
       "    </tr>\n",
       "    <tr>\n",
       "      <th>25%</th>\n",
       "      <td>22.85</td>\n",
       "      <td>21.83</td>\n",
       "      <td>21.94</td>\n",
       "      <td>19.73</td>\n",
       "    </tr>\n",
       "    <tr>\n",
       "      <th>50%</th>\n",
       "      <td>29.06</td>\n",
       "      <td>28.20</td>\n",
       "      <td>29.31</td>\n",
       "      <td>26.57</td>\n",
       "    </tr>\n",
       "    <tr>\n",
       "      <th>75%</th>\n",
       "      <td>37.00</td>\n",
       "      <td>36.32</td>\n",
       "      <td>38.09</td>\n",
       "      <td>35.32</td>\n",
       "    </tr>\n",
       "    <tr>\n",
       "      <th>max</th>\n",
       "      <td>2393.85</td>\n",
       "      <td>5986.00</td>\n",
       "      <td>11548.04</td>\n",
       "      <td>2405.75</td>\n",
       "    </tr>\n",
       "  </tbody>\n",
       "</table>\n",
       "</div>"
      ],
      "text/plain": [
       "         Tier 51    Tier 52    Tier 53    Tier 54\n",
       "count  303170.00  250040.00  165384.00  156479.00\n",
       "mean       30.81      30.11      30.93      28.46\n",
       "std        58.33      23.36      38.26      31.49\n",
       "min    -28951.77   -5750.69   -4288.69   -8461.60\n",
       "25%        22.85      21.83      21.94      19.73\n",
       "50%        29.06      28.20      29.31      26.57\n",
       "75%        37.00      36.32      38.09      35.32\n",
       "max      2393.85    5986.00   11548.04    2405.75"
      ]
     },
     "metadata": {},
     "output_type": "display_data"
    }
   ],
   "source": [
    "concat_df = pd.DataFrame()\n",
    "\n",
    "plt.figure(figsize=(16,4))\n",
    "plt.title('Relative CM1% histogram per order & Tier Qualifier')\n",
    "plt.xlabel('CM1%')\n",
    "plt.ylabel('Orders')\n",
    "\n",
    "for i in tiers:\n",
    "    tier_data = cm_values_per_tier[cm_values_per_tier['CZP_ZTQ_ID'] == i]\n",
    "    tier_data['ORDER_CM1%'].hist(bins=100, range=(-10, 90), alpha=0.5)\n",
    "    plt.legend(tiers)\n",
    "    concat_df = pd.concat([concat_df,\n",
    "                           pd.DataFrame(tier_data['ORDER_CM1%'].describe().round(2)),\n",
    "                           ], axis=1)\n",
    "plt.show() \n",
    "\n",
    "concat_df.columns = ['Tier 51', 'Tier 52', 'Tier 53', 'Tier 54']\n",
    "display(concat_df)"
   ]
  },
  {
   "cell_type": "markdown",
   "metadata": {},
   "source": [
    "#### CM2"
   ]
  },
  {
   "cell_type": "code",
   "execution_count": 56,
   "metadata": {
    "ExecuteTime": {
     "end_time": "2018-09-17T08:10:32.404000Z",
     "start_time": "2018-09-17T08:10:32.376507Z"
    }
   },
   "outputs": [
    {
     "data": {
      "text/plain": [
       "CZP_ZTQ_ID\n",
       "51    2461534.33\n",
       "52    2258420.56\n",
       "53    1466427.64\n",
       "54    1384881.21\n",
       "Name: ORDER_CM2, dtype: float64"
      ]
     },
     "execution_count": 56,
     "metadata": {},
     "output_type": "execute_result"
    }
   ],
   "source": [
    "# CM2 per tier\n",
    "cm_values_per_tier.groupby('CZP_ZTQ_ID')['ORDER_CM2'].sum().round(2)"
   ]
  },
  {
   "cell_type": "code",
   "execution_count": 57,
   "metadata": {
    "ExecuteTime": {
     "end_time": "2018-09-17T08:10:32.468985Z",
     "start_time": "2018-09-17T08:10:32.404000Z"
    }
   },
   "outputs": [
    {
     "data": {
      "text/plain": [
       "CZP_ZTQ_ID\n",
       "51    8.12\n",
       "52    9.03\n",
       "53    8.87\n",
       "54    8.85\n",
       "dtype: float64"
      ]
     },
     "execution_count": 57,
     "metadata": {},
     "output_type": "execute_result"
    }
   ],
   "source": [
    "# CM2 per order in each tier\n",
    "(cm_values_per_tier.groupby('CZP_ZTQ_ID')['ORDER_CM2'].sum() /\\\n",
    "cm_values_per_tier.groupby('CZP_ZTQ_ID')['SCM_N_ORDER_NR'].count()).round(2)"
   ]
  },
  {
   "cell_type": "code",
   "execution_count": 58,
   "metadata": {
    "ExecuteTime": {
     "end_time": "2018-09-17T08:10:32.536469Z",
     "start_time": "2018-09-17T08:10:32.468985Z"
    }
   },
   "outputs": [
    {
     "data": {
      "text/plain": [
       "CZP_ZTQ_ID\n",
       "51    12.84\n",
       "52    12.49\n",
       "53    13.29\n",
       "54    11.37\n",
       "dtype: float64"
      ]
     },
     "execution_count": 58,
     "metadata": {},
     "output_type": "execute_result"
    }
   ],
   "source": [
    "# CM2% per tier\n",
    "(cm_values_per_tier.groupby('CZP_ZTQ_ID')['ORDER_CM2'].sum() /\\\n",
    "cm_values_per_tier.groupby('CZP_ZTQ_ID')['ORDER_NET_SALES'].sum() * 100).round(2)"
   ]
  },
  {
   "cell_type": "code",
   "execution_count": 59,
   "metadata": {
    "ExecuteTime": {
     "end_time": "2018-09-17T08:10:32.561463Z",
     "start_time": "2018-09-17T08:10:32.536469Z"
    }
   },
   "outputs": [
    {
     "data": {
      "text/html": [
       "<div>\n",
       "<style scoped>\n",
       "    .dataframe tbody tr th:only-of-type {\n",
       "        vertical-align: middle;\n",
       "    }\n",
       "\n",
       "    .dataframe tbody tr th {\n",
       "        vertical-align: top;\n",
       "    }\n",
       "\n",
       "    .dataframe thead th {\n",
       "        text-align: right;\n",
       "    }\n",
       "</style>\n",
       "<table border=\"1\" class=\"dataframe\">\n",
       "  <thead>\n",
       "    <tr style=\"text-align: right;\">\n",
       "      <th></th>\n",
       "      <th>CZP_ZTQ_ID</th>\n",
       "      <th>SCM_N_ORDER_NR</th>\n",
       "      <th>ORDER_NET_SALES</th>\n",
       "      <th>ORDER_CM1</th>\n",
       "      <th>ORDER_CM1%</th>\n",
       "      <th>ORDER_CM2</th>\n",
       "      <th>ORDER_CM2%</th>\n",
       "    </tr>\n",
       "  </thead>\n",
       "  <tbody>\n",
       "    <tr>\n",
       "      <th>96219</th>\n",
       "      <td>51</td>\n",
       "      <td>97395020</td>\n",
       "      <td>0.0</td>\n",
       "      <td>-0.80</td>\n",
       "      <td>0.0</td>\n",
       "      <td>-5.6396</td>\n",
       "      <td>-inf</td>\n",
       "    </tr>\n",
       "    <tr>\n",
       "      <th>146826</th>\n",
       "      <td>51</td>\n",
       "      <td>101345375</td>\n",
       "      <td>0.0</td>\n",
       "      <td>-29.13</td>\n",
       "      <td>0.0</td>\n",
       "      <td>-38.3738</td>\n",
       "      <td>-inf</td>\n",
       "    </tr>\n",
       "    <tr>\n",
       "      <th>359982</th>\n",
       "      <td>52</td>\n",
       "      <td>95506367</td>\n",
       "      <td>0.0</td>\n",
       "      <td>-1.73</td>\n",
       "      <td>0.0</td>\n",
       "      <td>-6.5112</td>\n",
       "      <td>-inf</td>\n",
       "    </tr>\n",
       "    <tr>\n",
       "      <th>497708</th>\n",
       "      <td>52</td>\n",
       "      <td>108697337</td>\n",
       "      <td>0.0</td>\n",
       "      <td>-1.76</td>\n",
       "      <td>0.0</td>\n",
       "      <td>-8.1606</td>\n",
       "      <td>-inf</td>\n",
       "    </tr>\n",
       "    <tr>\n",
       "      <th>519593</th>\n",
       "      <td>52</td>\n",
       "      <td>110717915</td>\n",
       "      <td>0.0</td>\n",
       "      <td>-0.46</td>\n",
       "      <td>0.0</td>\n",
       "      <td>-0.8845</td>\n",
       "      <td>-inf</td>\n",
       "    </tr>\n",
       "    <tr>\n",
       "      <th>643816</th>\n",
       "      <td>53</td>\n",
       "      <td>102425743</td>\n",
       "      <td>0.0</td>\n",
       "      <td>-0.84</td>\n",
       "      <td>0.0</td>\n",
       "      <td>-8.9222</td>\n",
       "      <td>-inf</td>\n",
       "    </tr>\n",
       "  </tbody>\n",
       "</table>\n",
       "</div>"
      ],
      "text/plain": [
       "        CZP_ZTQ_ID  SCM_N_ORDER_NR  ORDER_NET_SALES  ORDER_CM1  ORDER_CM1%  \\\n",
       "96219           51        97395020              0.0      -0.80         0.0   \n",
       "146826          51       101345375              0.0     -29.13         0.0   \n",
       "359982          52        95506367              0.0      -1.73         0.0   \n",
       "497708          52       108697337              0.0      -1.76         0.0   \n",
       "519593          52       110717915              0.0      -0.46         0.0   \n",
       "643816          53       102425743              0.0      -0.84         0.0   \n",
       "\n",
       "        ORDER_CM2  ORDER_CM2%  \n",
       "96219     -5.6396        -inf  \n",
       "146826   -38.3738        -inf  \n",
       "359982    -6.5112        -inf  \n",
       "497708    -8.1606        -inf  \n",
       "519593    -0.8845        -inf  \n",
       "643816    -8.9222        -inf  "
      ]
     },
     "execution_count": 59,
     "metadata": {},
     "output_type": "execute_result"
    }
   ],
   "source": [
    "cm_values_per_tier[cm_values_per_tier['ORDER_CM2%'] == cm_values_per_tier['ORDER_CM2%'].min()]"
   ]
  },
  {
   "cell_type": "code",
   "execution_count": 60,
   "metadata": {
    "ExecuteTime": {
     "end_time": "2018-09-17T08:10:32.593955Z",
     "start_time": "2018-09-17T08:10:32.561463Z"
    }
   },
   "outputs": [],
   "source": [
    "cm_values_per_tier['ORDER_CM2%'] = cm_values_per_tier['ORDER_CM2%'].replace(-np.inf, 0).fillna(0).astype(float)"
   ]
  },
  {
   "cell_type": "code",
   "execution_count": 61,
   "metadata": {
    "ExecuteTime": {
     "end_time": "2018-09-17T08:10:32.688932Z",
     "start_time": "2018-09-17T08:10:32.593955Z"
    }
   },
   "outputs": [
    {
     "name": "stderr",
     "output_type": "stream",
     "text": [
      "C:\\Users\\albertoma\\AppData\\Local\\conda\\conda\\envs\\py36\\lib\\site-packages\\pandas\\core\\indexing.py:194: SettingWithCopyWarning: \n",
      "A value is trying to be set on a copy of a slice from a DataFrame\n",
      "\n",
      "See the caveats in the documentation: http://pandas.pydata.org/pandas-docs/stable/indexing.html#indexing-view-versus-copy\n",
      "  self._setitem_with_indexer(indexer, value)\n"
     ]
    }
   ],
   "source": [
    "cm_values_per_tier['ORDER_CM2%'].iloc[440895] = 0"
   ]
  },
  {
   "cell_type": "code",
   "execution_count": 62,
   "metadata": {
    "ExecuteTime": {
     "end_time": "2018-09-17T08:10:32.738920Z",
     "start_time": "2018-09-17T08:10:32.688932Z"
    }
   },
   "outputs": [
    {
     "data": {
      "text/plain": [
       "CZP_ZTQ_ID\n",
       "51    12.25\n",
       "52    12.07\n",
       "53    12.56\n",
       "54    10.73\n",
       "Name: ORDER_CM2%, dtype: float64"
      ]
     },
     "execution_count": 62,
     "metadata": {},
     "output_type": "execute_result"
    }
   ],
   "source": [
    "# CM2% per order in each tier\n",
    "cm_values_per_tier.groupby('CZP_ZTQ_ID')['ORDER_CM2%'].mean().round(2)"
   ]
  },
  {
   "cell_type": "code",
   "execution_count": 151,
   "metadata": {
    "ExecuteTime": {
     "end_time": "2018-09-17T13:05:33.355971Z",
     "start_time": "2018-09-17T13:05:32.351871Z"
    }
   },
   "outputs": [
    {
     "data": {
      "image/png": "[encoded data removed]",
      "text/plain": [
       "<matplotlib.figure.Figure at 0x73ceeb8>"
      ]
     },
     "metadata": {},
     "output_type": "display_data"
    },
    {
     "data": {
      "text/html": [
       "<div>\n",
       "<style scoped>\n",
       "    .dataframe tbody tr th:only-of-type {\n",
       "        vertical-align: middle;\n",
       "    }\n",
       "\n",
       "    .dataframe tbody tr th {\n",
       "        vertical-align: top;\n",
       "    }\n",
       "\n",
       "    .dataframe thead th {\n",
       "        text-align: right;\n",
       "    }\n",
       "</style>\n",
       "<table border=\"1\" class=\"dataframe\">\n",
       "  <thead>\n",
       "    <tr style=\"text-align: right;\">\n",
       "      <th></th>\n",
       "      <th>Tier 51</th>\n",
       "      <th>Tier 52</th>\n",
       "      <th>Tier 53</th>\n",
       "      <th>Tier 54</th>\n",
       "    </tr>\n",
       "  </thead>\n",
       "  <tbody>\n",
       "    <tr>\n",
       "      <th>count</th>\n",
       "      <td>303170.00</td>\n",
       "      <td>250040.00</td>\n",
       "      <td>165384.00</td>\n",
       "      <td>156479.00</td>\n",
       "    </tr>\n",
       "    <tr>\n",
       "      <th>mean</th>\n",
       "      <td>12.25</td>\n",
       "      <td>12.07</td>\n",
       "      <td>12.56</td>\n",
       "      <td>10.73</td>\n",
       "    </tr>\n",
       "    <tr>\n",
       "      <th>std</th>\n",
       "      <td>77.94</td>\n",
       "      <td>30.85</td>\n",
       "      <td>49.15</td>\n",
       "      <td>49.13</td>\n",
       "    </tr>\n",
       "    <tr>\n",
       "      <th>min</th>\n",
       "      <td>-38377.77</td>\n",
       "      <td>-6722.55</td>\n",
       "      <td>-6444.44</td>\n",
       "      <td>-12659.76</td>\n",
       "    </tr>\n",
       "    <tr>\n",
       "      <th>25%</th>\n",
       "      <td>5.58</td>\n",
       "      <td>4.99</td>\n",
       "      <td>4.70</td>\n",
       "      <td>3.02</td>\n",
       "    </tr>\n",
       "    <tr>\n",
       "      <th>50%</th>\n",
       "      <td>11.60</td>\n",
       "      <td>11.23</td>\n",
       "      <td>11.78</td>\n",
       "      <td>9.78</td>\n",
       "    </tr>\n",
       "    <tr>\n",
       "      <th>75%</th>\n",
       "      <td>18.21</td>\n",
       "      <td>18.08</td>\n",
       "      <td>19.50</td>\n",
       "      <td>17.54</td>\n",
       "    </tr>\n",
       "    <tr>\n",
       "      <th>max</th>\n",
       "      <td>9999.55</td>\n",
       "      <td>7448.48</td>\n",
       "      <td>13530.04</td>\n",
       "      <td>7740.58</td>\n",
       "    </tr>\n",
       "  </tbody>\n",
       "</table>\n",
       "</div>"
      ],
      "text/plain": [
       "         Tier 51    Tier 52    Tier 53    Tier 54\n",
       "count  303170.00  250040.00  165384.00  156479.00\n",
       "mean       12.25      12.07      12.56      10.73\n",
       "std        77.94      30.85      49.15      49.13\n",
       "min    -38377.77   -6722.55   -6444.44  -12659.76\n",
       "25%         5.58       4.99       4.70       3.02\n",
       "50%        11.60      11.23      11.78       9.78\n",
       "75%        18.21      18.08      19.50      17.54\n",
       "max      9999.55    7448.48   13530.04    7740.58"
      ]
     },
     "metadata": {},
     "output_type": "display_data"
    }
   ],
   "source": [
    "concat_df = pd.DataFrame()\n",
    "\n",
    "plt.figure(figsize=(16,4))\n",
    "plt.title('Relative CM2% histogram per order & Tier Qualifier')\n",
    "plt.xlabel('CM2%')\n",
    "plt.ylabel('Orders')\n",
    "\n",
    "for i in tiers:\n",
    "    tier_data = cm_values_per_tier[cm_values_per_tier['CZP_ZTQ_ID'] == i]\n",
    "    tier_data['ORDER_CM2%'].hist(bins=100, range=(-30, 70), alpha=0.5)\n",
    "    plt.legend(tiers)\n",
    "    concat_df = pd.concat([concat_df,\n",
    "                           pd.DataFrame(tier_data['ORDER_CM2%'].describe().round(2)),\n",
    "                           ], axis=1)\n",
    "plt.show() \n",
    "\n",
    "concat_df.columns = ['Tier 51', 'Tier 52', 'Tier 53', 'Tier 54']\n",
    "display(concat_df)"
   ]
  },
  {
   "cell_type": "markdown",
   "metadata": {},
   "source": [
    "#### Share of Proplan Sales per Tier"
   ]
  },
  {
   "attachments": {
    "image.png": {
     "image/png": "[encoded data removed]"
    }
   },
   "cell_type": "markdown",
   "metadata": {},
   "source": [
    "Let's get the physical articles belonging to PG4 groups: 283, 286, 192127.\n",
    "\n",
    "<html><head>\n",
    "\n",
    "\n",
    "<!-- Load require.js. Delete this if your page already loads require.js -->\n",
    "<script src=\"https://cdnjs.cloudflare.com/ajax/libs/require.js/2.3.4/require.min.js\" integrity=\"sha256-Ae2Vz/4ePdIu6ZyI/5ZGsYnb+m0JlOmKPjt6XZ9JJkA=\" crossorigin=\"anonymous\"></script>\n",
    "<script src=\"https://unpkg.com/@jupyter-widgets/html-manager@*/dist/embed-amd.js\" crossorigin=\"anonymous\"></script>\n",
    "<script type=\"application/vnd.jupyter.widget-state+json\">\n",
    "{\n",
    "    \"version_major\": 2,\n",
    "    \"version_minor\": 0,\n",
    "    \"state\": {}\n",
    "}\n",
    "</script>\n",
    "</head>\n",
    "<body>\n",
    "\n",
    "\n",
    "</body>\n",
    "</html>\n",
    "![image.png](attachment:image.png)"
   ]
  },
  {
   "cell_type": "code",
   "execution_count": 64,
   "metadata": {
    "ExecuteTime": {
     "end_time": "2018-09-17T08:10:33.593715Z",
     "start_time": "2018-09-17T08:10:33.591215Z"
    }
   },
   "outputs": [],
   "source": [
    "query = \"\"\"select *\n",
    "from zoocube.DDSTD_PPR_PHYS_PRODUCT\n",
    "where PPR_N_LEVEL4_ID in (283, 286, 192127)\"\"\""
   ]
  },
  {
   "cell_type": "code",
   "execution_count": 65,
   "metadata": {
    "ExecuteTime": {
     "end_time": "2018-09-17T08:10:36.825439Z",
     "start_time": "2018-09-17T08:10:33.593715Z"
    }
   },
   "outputs": [],
   "source": [
    "conn = cx_Oracle.connect('zooor', 'zoo12or', 'zoorep', threaded=True, encoding = \"UTF-8\", nencoding = \"UTF-8\")\n",
    "curs = conn.cursor()\n",
    "pg4ids = pd.read_sql(query, con = conn)\n",
    "conn.close()"
   ]
  },
  {
   "cell_type": "code",
   "execution_count": 66,
   "metadata": {
    "ExecuteTime": {
     "end_time": "2018-09-17T08:10:36.882925Z",
     "start_time": "2018-09-17T08:10:36.825439Z"
    }
   },
   "outputs": [
    {
     "data": {
      "text/html": [
       "<div>\n",
       "<style scoped>\n",
       "    .dataframe tbody tr th:only-of-type {\n",
       "        vertical-align: middle;\n",
       "    }\n",
       "\n",
       "    .dataframe tbody tr th {\n",
       "        vertical-align: top;\n",
       "    }\n",
       "\n",
       "    .dataframe thead th {\n",
       "        text-align: right;\n",
       "    }\n",
       "</style>\n",
       "<table border=\"1\" class=\"dataframe\">\n",
       "  <thead>\n",
       "    <tr style=\"text-align: right;\">\n",
       "      <th></th>\n",
       "      <th>PPR_N_KEY_PHYS_PRODUCT</th>\n",
       "      <th>PPR_N_PHY_PRODUCT_ID</th>\n",
       "      <th>PPR_N_PHY_ARTICLE_ID</th>\n",
       "      <th>PPR_V_PRODUCT_DESC</th>\n",
       "      <th>PPR_V_LOGISTICS_DESC</th>\n",
       "      <th>PPR_N_LEVEL1_ID</th>\n",
       "      <th>PPR_V_LEVEL1_DESC</th>\n",
       "      <th>PPR_N_LEVEL2_ID</th>\n",
       "      <th>PPR_V_LEVEL2_DESC</th>\n",
       "      <th>PPR_N_LEVEL3_ID</th>\n",
       "      <th>...</th>\n",
       "      <th>PPR_IS_HIGH_CLV</th>\n",
       "      <th>PPR_BRAND</th>\n",
       "      <th>PPR_PG_PRIORITY</th>\n",
       "      <th>PPR_EAN</th>\n",
       "      <th>PPR_NR_AT_SUPPLIER</th>\n",
       "      <th>PPR_AP_IS_LISTED</th>\n",
       "      <th>PPR_ARTICLE_CLASS_ID</th>\n",
       "      <th>PPR_ART_CLASS_DESC</th>\n",
       "      <th>PPR_TAX_CODE</th>\n",
       "      <th>PPR_APA_DESC</th>\n",
       "    </tr>\n",
       "  </thead>\n",
       "  <tbody>\n",
       "    <tr>\n",
       "      <th>0</th>\n",
       "      <td>5771</td>\n",
       "      <td>2159</td>\n",
       "      <td>3296</td>\n",
       "      <td>2159 - Pro Plan Dog Adult Dog Huhn + Reis</td>\n",
       "      <td>3296 - Pro Plan Dog Adult Dog - 15 kg</td>\n",
       "      <td>2719</td>\n",
       "      <td>2719 - zooplus.de</td>\n",
       "      <td>2</td>\n",
       "      <td>2 - Hund</td>\n",
       "      <td>251</td>\n",
       "      <td>...</td>\n",
       "      <td>High CLV Article</td>\n",
       "      <td>Pro Plan</td>\n",
       "      <td>2</td>\n",
       "      <td>3596980000583</td>\n",
       "      <td>5100138</td>\n",
       "      <td>0</td>\n",
       "      <td>26</td>\n",
       "      <td>Premium Brands by P, Nestle and Hills</td>\n",
       "      <td>Low</td>\n",
       "      <td>SKU</td>\n",
       "    </tr>\n",
       "    <tr>\n",
       "      <th>1</th>\n",
       "      <td>5772</td>\n",
       "      <td>2159</td>\n",
       "      <td>3295</td>\n",
       "      <td>2159 - Pro Plan Dog Adult Dog Huhn + Reis</td>\n",
       "      <td>3295 - Pro Plan Dog Adult Dog H- 3 kg</td>\n",
       "      <td>2719</td>\n",
       "      <td>2719 - zooplus.de</td>\n",
       "      <td>2</td>\n",
       "      <td>2 - Hund</td>\n",
       "      <td>251</td>\n",
       "      <td>...</td>\n",
       "      <td>High CLV Article</td>\n",
       "      <td>Pro Plan</td>\n",
       "      <td>2</td>\n",
       "      <td>7613033208263</td>\n",
       "      <td>12150307</td>\n",
       "      <td>0</td>\n",
       "      <td>26</td>\n",
       "      <td>Premium Brands by P, Nestle and Hills</td>\n",
       "      <td>Low</td>\n",
       "      <td>SKU</td>\n",
       "    </tr>\n",
       "    <tr>\n",
       "      <th>2</th>\n",
       "      <td>5773</td>\n",
       "      <td>2160</td>\n",
       "      <td>1495</td>\n",
       "      <td>2160 - Pro Plan Dog Performance Huhn</td>\n",
       "      <td>1495 - Pro Plan Dog Performanc- 800 g</td>\n",
       "      <td>2719</td>\n",
       "      <td>2719 - zooplus.de</td>\n",
       "      <td>2</td>\n",
       "      <td>2 - Hund</td>\n",
       "      <td>251</td>\n",
       "      <td>...</td>\n",
       "      <td>High CLV Article</td>\n",
       "      <td>Pro Plan</td>\n",
       "      <td>2</td>\n",
       "      <td>3596980000-651</td>\n",
       "      <td>1023300</td>\n",
       "      <td>0</td>\n",
       "      <td>26</td>\n",
       "      <td>Premium Brands by P, Nestle and Hills</td>\n",
       "      <td>Low</td>\n",
       "      <td>SKU</td>\n",
       "    </tr>\n",
       "    <tr>\n",
       "      <th>3</th>\n",
       "      <td>5775</td>\n",
       "      <td>2160</td>\n",
       "      <td>3418</td>\n",
       "      <td>2160 - Pro Plan Dog Performance Huhn</td>\n",
       "      <td>3418 - Pro Plan Dog Performanc- 15 kg</td>\n",
       "      <td>2719</td>\n",
       "      <td>2719 - zooplus.de</td>\n",
       "      <td>2</td>\n",
       "      <td>2 - Hund</td>\n",
       "      <td>251</td>\n",
       "      <td>...</td>\n",
       "      <td>High CLV Article</td>\n",
       "      <td>Pro Plan</td>\n",
       "      <td>2</td>\n",
       "      <td>3596980000682</td>\n",
       "      <td>05100158</td>\n",
       "      <td>0</td>\n",
       "      <td>26</td>\n",
       "      <td>Premium Brands by P, Nestle and Hills</td>\n",
       "      <td>Low</td>\n",
       "      <td>SKU</td>\n",
       "    </tr>\n",
       "    <tr>\n",
       "      <th>4</th>\n",
       "      <td>5776</td>\n",
       "      <td>2160</td>\n",
       "      <td>3416</td>\n",
       "      <td>2160 - Pro Plan Dog Performance Huhn</td>\n",
       "      <td>3416 - Pro Plan Dog Performance- 3 kg</td>\n",
       "      <td>2719</td>\n",
       "      <td>2719 - zooplus.de</td>\n",
       "      <td>2</td>\n",
       "      <td>2 - Hund</td>\n",
       "      <td>251</td>\n",
       "      <td>...</td>\n",
       "      <td>High CLV Article</td>\n",
       "      <td>Pro Plan</td>\n",
       "      <td>2</td>\n",
       "      <td>8410650530306</td>\n",
       "      <td>8473000</td>\n",
       "      <td>0</td>\n",
       "      <td>26</td>\n",
       "      <td>Premium Brands by P, Nestle and Hills</td>\n",
       "      <td>Low</td>\n",
       "      <td>SKU</td>\n",
       "    </tr>\n",
       "    <tr>\n",
       "      <th>5</th>\n",
       "      <td>5777</td>\n",
       "      <td>2161</td>\n",
       "      <td>1500</td>\n",
       "      <td>2161 - Pro Plan Dog Adult Light Huhn</td>\n",
       "      <td>1500 - Pro Plan Dog Adult Ligh- 800 g</td>\n",
       "      <td>2719</td>\n",
       "      <td>2719 - zooplus.de</td>\n",
       "      <td>2</td>\n",
       "      <td>2 - Hund</td>\n",
       "      <td>251</td>\n",
       "      <td>...</td>\n",
       "      <td>High CLV Article</td>\n",
       "      <td>Pro Plan</td>\n",
       "      <td>2</td>\n",
       "      <td>3596980000-705</td>\n",
       "      <td>8143000</td>\n",
       "      <td>0</td>\n",
       "      <td>26</td>\n",
       "      <td>Premium Brands by P, Nestle and Hills</td>\n",
       "      <td>Low</td>\n",
       "      <td>SKU</td>\n",
       "    </tr>\n",
       "    <tr>\n",
       "      <th>6</th>\n",
       "      <td>5778</td>\n",
       "      <td>2161</td>\n",
       "      <td>11891</td>\n",
       "      <td>2161 - Pro Plan Dog Adult Light Huhn</td>\n",
       "      <td>11891 - Pro Plan Dog Adult Light- 3 kg</td>\n",
       "      <td>2719</td>\n",
       "      <td>2719 - zooplus.de</td>\n",
       "      <td>2</td>\n",
       "      <td>2 - Hund</td>\n",
       "      <td>251</td>\n",
       "      <td>...</td>\n",
       "      <td>High CLV Article</td>\n",
       "      <td>Pro Plan</td>\n",
       "      <td>2</td>\n",
       "      <td>07613033209994</td>\n",
       "      <td>12150387</td>\n",
       "      <td>0</td>\n",
       "      <td>26</td>\n",
       "      <td>Premium Brands by P, Nestle and Hills</td>\n",
       "      <td>Low</td>\n",
       "      <td>SKU</td>\n",
       "    </tr>\n",
       "    <tr>\n",
       "      <th>7</th>\n",
       "      <td>5779</td>\n",
       "      <td>2161</td>\n",
       "      <td>3420</td>\n",
       "      <td>2161 - Pro Plan Dog Adult Light Huhn</td>\n",
       "      <td>3420 - Pro Plan Dog Adult Ligh- 15 kg</td>\n",
       "      <td>2719</td>\n",
       "      <td>2719 - zooplus.de</td>\n",
       "      <td>2</td>\n",
       "      <td>2 - Hund</td>\n",
       "      <td>251</td>\n",
       "      <td>...</td>\n",
       "      <td>High CLV Article</td>\n",
       "      <td>Pro Plan</td>\n",
       "      <td>2</td>\n",
       "      <td>3596980000736</td>\n",
       "      <td>5100163</td>\n",
       "      <td>0</td>\n",
       "      <td>26</td>\n",
       "      <td>Premium Brands by P, Nestle and Hills</td>\n",
       "      <td>Low</td>\n",
       "      <td>SKU</td>\n",
       "    </tr>\n",
       "    <tr>\n",
       "      <th>8</th>\n",
       "      <td>5780</td>\n",
       "      <td>2161</td>\n",
       "      <td>3419</td>\n",
       "      <td>2161 - Pro Plan Dog Adult Light Huhn</td>\n",
       "      <td>3419 - Pro Plan Dog Adult Lig- 7,5 kg</td>\n",
       "      <td>2719</td>\n",
       "      <td>2719 - zooplus.de</td>\n",
       "      <td>2</td>\n",
       "      <td>2 - Hund</td>\n",
       "      <td>251</td>\n",
       "      <td>...</td>\n",
       "      <td>High CLV Article</td>\n",
       "      <td>Pro Plan</td>\n",
       "      <td>2</td>\n",
       "      <td>8410650530758</td>\n",
       "      <td>8454000</td>\n",
       "      <td>0</td>\n",
       "      <td>26</td>\n",
       "      <td>Premium Brands by P, Nestle and Hills</td>\n",
       "      <td>Low</td>\n",
       "      <td>SKU</td>\n",
       "    </tr>\n",
       "    <tr>\n",
       "      <th>9</th>\n",
       "      <td>5782</td>\n",
       "      <td>2158</td>\n",
       "      <td>3294</td>\n",
       "      <td>2158 - Pro Plan Dog Puppy Huhn + Reis</td>\n",
       "      <td>3294 - Pro Plan Dog Puppy Huh- 7,5 kg</td>\n",
       "      <td>2719</td>\n",
       "      <td>2719 - zooplus.de</td>\n",
       "      <td>2</td>\n",
       "      <td>2 - Hund</td>\n",
       "      <td>251</td>\n",
       "      <td>...</td>\n",
       "      <td>High CLV Article</td>\n",
       "      <td>Pro Plan</td>\n",
       "      <td>2</td>\n",
       "      <td>3596980000439</td>\n",
       "      <td>5119955</td>\n",
       "      <td>0</td>\n",
       "      <td>26</td>\n",
       "      <td>Premium Brands by P, Nestle and Hills</td>\n",
       "      <td>Low</td>\n",
       "      <td>SKU</td>\n",
       "    </tr>\n",
       "    <tr>\n",
       "      <th>10</th>\n",
       "      <td>5783</td>\n",
       "      <td>2158</td>\n",
       "      <td>12034</td>\n",
       "      <td>2158 - Pro Plan Dog Puppy Huhn + Reis</td>\n",
       "      <td>12034 - Pro Plan Dog Puppy Huhn- 15 kg</td>\n",
       "      <td>2719</td>\n",
       "      <td>2719 - zooplus.de</td>\n",
       "      <td>2</td>\n",
       "      <td>2 - Hund</td>\n",
       "      <td>251</td>\n",
       "      <td>...</td>\n",
       "      <td>High CLV Article</td>\n",
       "      <td>Pro Plan</td>\n",
       "      <td>2</td>\n",
       "      <td>3596980000446</td>\n",
       "      <td>5100124</td>\n",
       "      <td>0</td>\n",
       "      <td>26</td>\n",
       "      <td>Premium Brands by P, Nestle and Hills</td>\n",
       "      <td>Low</td>\n",
       "      <td>SKU</td>\n",
       "    </tr>\n",
       "    <tr>\n",
       "      <th>11</th>\n",
       "      <td>5785</td>\n",
       "      <td>2158</td>\n",
       "      <td>1493</td>\n",
       "      <td>2158 - Pro Plan Dog Puppy Huhn + Reis</td>\n",
       "      <td>1493 - Pro Plan Dog Puppy Huhn- 800 g</td>\n",
       "      <td>2719</td>\n",
       "      <td>2719 - zooplus.de</td>\n",
       "      <td>2</td>\n",
       "      <td>2 - Hund</td>\n",
       "      <td>251</td>\n",
       "      <td>...</td>\n",
       "      <td>High CLV Article</td>\n",
       "      <td>Pro Plan</td>\n",
       "      <td>2</td>\n",
       "      <td>3596980000-415</td>\n",
       "      <td>1013300</td>\n",
       "      <td>0</td>\n",
       "      <td>26</td>\n",
       "      <td>Premium Brands by P, Nestle and Hills</td>\n",
       "      <td>Low</td>\n",
       "      <td>SKU</td>\n",
       "    </tr>\n",
       "    <tr>\n",
       "      <th>12</th>\n",
       "      <td>5786</td>\n",
       "      <td>7832</td>\n",
       "      <td>9067</td>\n",
       "      <td>7832 - Pro Plan Puppy Large Breed</td>\n",
       "      <td>9067 - Pro Plan Puppy Large Br- 15 kg</td>\n",
       "      <td>2719</td>\n",
       "      <td>2719 - zooplus.de</td>\n",
       "      <td>2</td>\n",
       "      <td>2 - Hund</td>\n",
       "      <td>251</td>\n",
       "      <td>...</td>\n",
       "      <td>High CLV Article</td>\n",
       "      <td>unknown</td>\n",
       "      <td>2</td>\n",
       "      <td>3596980001450</td>\n",
       "      <td>05100132</td>\n",
       "      <td>0</td>\n",
       "      <td>26</td>\n",
       "      <td>Premium Brands by P, Nestle and Hills</td>\n",
       "      <td>Low</td>\n",
       "      <td>SKU</td>\n",
       "    </tr>\n",
       "    <tr>\n",
       "      <th>13</th>\n",
       "      <td>5787</td>\n",
       "      <td>7832</td>\n",
       "      <td>9066</td>\n",
       "      <td>7832 - Pro Plan Puppy Large Breed</td>\n",
       "      <td>9066 - Pro Plan Puppy Large B- 7,5 kg</td>\n",
       "      <td>2719</td>\n",
       "      <td>2719 - zooplus.de</td>\n",
       "      <td>2</td>\n",
       "      <td>2 - Hund</td>\n",
       "      <td>251</td>\n",
       "      <td>...</td>\n",
       "      <td>High CLV Article</td>\n",
       "      <td>unknown</td>\n",
       "      <td>2</td>\n",
       "      <td>359680001434</td>\n",
       "      <td>9015700</td>\n",
       "      <td>0</td>\n",
       "      <td>26</td>\n",
       "      <td>Premium Brands by P, Nestle and Hills</td>\n",
       "      <td>Low</td>\n",
       "      <td>SKU</td>\n",
       "    </tr>\n",
       "    <tr>\n",
       "      <th>14</th>\n",
       "      <td>5788</td>\n",
       "      <td>7832</td>\n",
       "      <td>9064</td>\n",
       "      <td>7832 - Pro Plan Puppy Large Breed</td>\n",
       "      <td>9064 - Pro Plan Puppy Large Bre- 3 kg</td>\n",
       "      <td>2719</td>\n",
       "      <td>2719 - zooplus.de</td>\n",
       "      <td>2</td>\n",
       "      <td>2 - Hund</td>\n",
       "      <td>251</td>\n",
       "      <td>...</td>\n",
       "      <td>High CLV Article</td>\n",
       "      <td>unknown</td>\n",
       "      <td>2</td>\n",
       "      <td>359680001436</td>\n",
       "      <td>9015600</td>\n",
       "      <td>0</td>\n",
       "      <td>26</td>\n",
       "      <td>Premium Brands by P, Nestle and Hills</td>\n",
       "      <td>Low</td>\n",
       "      <td>SKU</td>\n",
       "    </tr>\n",
       "    <tr>\n",
       "      <th>15</th>\n",
       "      <td>5789</td>\n",
       "      <td>7832</td>\n",
       "      <td>1492</td>\n",
       "      <td>7832 - Pro Plan Puppy Large Breed</td>\n",
       "      <td>1492 - Pro Plan Puppy Large Br- 800 g</td>\n",
       "      <td>2719</td>\n",
       "      <td>2719 - zooplus.de</td>\n",
       "      <td>2</td>\n",
       "      <td>2 - Hund</td>\n",
       "      <td>251</td>\n",
       "      <td>...</td>\n",
       "      <td>High CLV Article</td>\n",
       "      <td>unknown</td>\n",
       "      <td>2</td>\n",
       "      <td>359680001429</td>\n",
       "      <td>9015500</td>\n",
       "      <td>0</td>\n",
       "      <td>26</td>\n",
       "      <td>Premium Brands by P, Nestle and Hills</td>\n",
       "      <td>Low</td>\n",
       "      <td>SKU</td>\n",
       "    </tr>\n",
       "    <tr>\n",
       "      <th>16</th>\n",
       "      <td>5790</td>\n",
       "      <td>18443</td>\n",
       "      <td>24236</td>\n",
       "      <td>18443 - Pro Plan Dog Puppy Sensitive Lachs &amp; Reis</td>\n",
       "      <td>24236 - Pro Plan Dog Puppy Sensi- 3 kg</td>\n",
       "      <td>2719</td>\n",
       "      <td>2719 - zooplus.de</td>\n",
       "      <td>2</td>\n",
       "      <td>2 - Hund</td>\n",
       "      <td>251</td>\n",
       "      <td>...</td>\n",
       "      <td>High CLV Article</td>\n",
       "      <td>Pro Plan</td>\n",
       "      <td>2</td>\n",
       "      <td>7613033208911</td>\n",
       "      <td>12150313</td>\n",
       "      <td>0</td>\n",
       "      <td>26</td>\n",
       "      <td>Premium Brands by P, Nestle and Hills</td>\n",
       "      <td>Low</td>\n",
       "      <td>SKU</td>\n",
       "    </tr>\n",
       "    <tr>\n",
       "      <th>17</th>\n",
       "      <td>5791</td>\n",
       "      <td>18443</td>\n",
       "      <td>24237</td>\n",
       "      <td>18443 - Pro Plan Dog Puppy Sensitive Lachs &amp; Reis</td>\n",
       "      <td>24237 - Pro Plan Dog Puppy Sens- 15 kg</td>\n",
       "      <td>2719</td>\n",
       "      <td>2719 - zooplus.de</td>\n",
       "      <td>2</td>\n",
       "      <td>2 - Hund</td>\n",
       "      <td>251</td>\n",
       "      <td>...</td>\n",
       "      <td>High CLV Article</td>\n",
       "      <td>Pro Plan</td>\n",
       "      <td>2</td>\n",
       "      <td>3222270552325</td>\n",
       "      <td>12029079</td>\n",
       "      <td>0</td>\n",
       "      <td>26</td>\n",
       "      <td>Premium Brands by P, Nestle and Hills</td>\n",
       "      <td>Low</td>\n",
       "      <td>SKU</td>\n",
       "    </tr>\n",
       "    <tr>\n",
       "      <th>18</th>\n",
       "      <td>5792</td>\n",
       "      <td>16853</td>\n",
       "      <td>22532</td>\n",
       "      <td>16853 - Pro Plan Dog Puppy Large Athletic Lamm...</td>\n",
       "      <td>22532 - Pro Plan Dog Puppy Large- 3 kg</td>\n",
       "      <td>2719</td>\n",
       "      <td>2719 - zooplus.de</td>\n",
       "      <td>2</td>\n",
       "      <td>2 - Hund</td>\n",
       "      <td>251</td>\n",
       "      <td>...</td>\n",
       "      <td>High CLV Article</td>\n",
       "      <td>Pro Plan</td>\n",
       "      <td>2</td>\n",
       "      <td>07613033208171</td>\n",
       "      <td>12150305</td>\n",
       "      <td>0</td>\n",
       "      <td>26</td>\n",
       "      <td>Premium Brands by P, Nestle and Hills</td>\n",
       "      <td>Low</td>\n",
       "      <td>SKU</td>\n",
       "    </tr>\n",
       "    <tr>\n",
       "      <th>19</th>\n",
       "      <td>5793</td>\n",
       "      <td>16853</td>\n",
       "      <td>21113</td>\n",
       "      <td>16853 - Pro Plan Dog Puppy Large Athletic Lamm...</td>\n",
       "      <td>21113 - Pro Plan Dog Puppy Larg- 15 kg</td>\n",
       "      <td>2719</td>\n",
       "      <td>2719 - zooplus.de</td>\n",
       "      <td>2</td>\n",
       "      <td>2 - Hund</td>\n",
       "      <td>251</td>\n",
       "      <td>...</td>\n",
       "      <td>High CLV Article</td>\n",
       "      <td>Pro Plan</td>\n",
       "      <td>2</td>\n",
       "      <td>7613031378579</td>\n",
       "      <td>12031983</td>\n",
       "      <td>0</td>\n",
       "      <td>26</td>\n",
       "      <td>Premium Brands by P, Nestle and Hills</td>\n",
       "      <td>Low</td>\n",
       "      <td>SKU</td>\n",
       "    </tr>\n",
       "    <tr>\n",
       "      <th>20</th>\n",
       "      <td>5794</td>\n",
       "      <td>16852</td>\n",
       "      <td>21112</td>\n",
       "      <td>16852 - Pro Plan Dog Puppy Large  Robust Huhn ...</td>\n",
       "      <td>21112 - Pro Plan Dog Puppy Larg- 15 kg</td>\n",
       "      <td>2719</td>\n",
       "      <td>2719 - zooplus.de</td>\n",
       "      <td>2</td>\n",
       "      <td>2 - Hund</td>\n",
       "      <td>251</td>\n",
       "      <td>...</td>\n",
       "      <td>High CLV Article</td>\n",
       "      <td>Pro Plan</td>\n",
       "      <td>2</td>\n",
       "      <td>7613031379521</td>\n",
       "      <td>12032120</td>\n",
       "      <td>0</td>\n",
       "      <td>26</td>\n",
       "      <td>Premium Brands by P, Nestle and Hills</td>\n",
       "      <td>Low</td>\n",
       "      <td>SKU</td>\n",
       "    </tr>\n",
       "    <tr>\n",
       "      <th>21</th>\n",
       "      <td>5721</td>\n",
       "      <td>17975</td>\n",
       "      <td>23381</td>\n",
       "      <td>17975 - Rucksack</td>\n",
       "      <td>23381 - Rucksack- gratis zu 15 kg</td>\n",
       "      <td>2719</td>\n",
       "      <td>2719 - zooplus.de</td>\n",
       "      <td>2</td>\n",
       "      <td>2 - Hund</td>\n",
       "      <td>251</td>\n",
       "      <td>...</td>\n",
       "      <td>High CLV Article</td>\n",
       "      <td>Pro Plan</td>\n",
       "      <td>2</td>\n",
       "      <td>NN</td>\n",
       "      <td>NN</td>\n",
       "      <td>0</td>\n",
       "      <td>26</td>\n",
       "      <td>Premium Brands by P, Nestle and Hills</td>\n",
       "      <td>High</td>\n",
       "      <td>SKU</td>\n",
       "    </tr>\n",
       "    <tr>\n",
       "      <th>22</th>\n",
       "      <td>5722</td>\n",
       "      <td>19498</td>\n",
       "      <td>26268</td>\n",
       "      <td>19498 - Taschenlampe</td>\n",
       "      <td>26268 - TaschenlamPro Plan Taschenlamp</td>\n",
       "      <td>2719</td>\n",
       "      <td>2719 - zooplus.de</td>\n",
       "      <td>2</td>\n",
       "      <td>2 - Hund</td>\n",
       "      <td>251</td>\n",
       "      <td>...</td>\n",
       "      <td>High CLV Article</td>\n",
       "      <td>unknown</td>\n",
       "      <td>2</td>\n",
       "      <td>NN</td>\n",
       "      <td>NN</td>\n",
       "      <td>0</td>\n",
       "      <td>26</td>\n",
       "      <td>Premium Brands by P, Nestle and Hills</td>\n",
       "      <td>High</td>\n",
       "      <td>SKU</td>\n",
       "    </tr>\n",
       "    <tr>\n",
       "      <th>23</th>\n",
       "      <td>5724</td>\n",
       "      <td>18757</td>\n",
       "      <td>24829</td>\n",
       "      <td>18757 - 18 kg Pro Plan Bonus Bags</td>\n",
       "      <td>24829 - 18 kg Pro P- Puppy Huhn &amp; Reis</td>\n",
       "      <td>2719</td>\n",
       "      <td>2719 - zooplus.de</td>\n",
       "      <td>2</td>\n",
       "      <td>2 - Hund</td>\n",
       "      <td>251</td>\n",
       "      <td>...</td>\n",
       "      <td>High CLV Article</td>\n",
       "      <td>unknown</td>\n",
       "      <td>2</td>\n",
       "      <td>3222270840453</td>\n",
       "      <td>12029225</td>\n",
       "      <td>0</td>\n",
       "      <td>26</td>\n",
       "      <td>Premium Brands by P, Nestle and Hills</td>\n",
       "      <td>Low</td>\n",
       "      <td>SKU</td>\n",
       "    </tr>\n",
       "    <tr>\n",
       "      <th>24</th>\n",
       "      <td>5725</td>\n",
       "      <td>18757</td>\n",
       "      <td>24833</td>\n",
       "      <td>18757 - 18 kg Pro Plan Bonus Bags</td>\n",
       "      <td>24833 - 18 kg Pro - Adult Digestion La</td>\n",
       "      <td>2719</td>\n",
       "      <td>2719 - zooplus.de</td>\n",
       "      <td>2</td>\n",
       "      <td>2 - Hund</td>\n",
       "      <td>251</td>\n",
       "      <td>...</td>\n",
       "      <td>High CLV Article</td>\n",
       "      <td>unknown</td>\n",
       "      <td>2</td>\n",
       "      <td>3222270840309</td>\n",
       "      <td>12036727</td>\n",
       "      <td>0</td>\n",
       "      <td>26</td>\n",
       "      <td>Premium Brands by P, Nestle and Hills</td>\n",
       "      <td>Low</td>\n",
       "      <td>SKU</td>\n",
       "    </tr>\n",
       "    <tr>\n",
       "      <th>25</th>\n",
       "      <td>5726</td>\n",
       "      <td>18757</td>\n",
       "      <td>24834</td>\n",
       "      <td>18757 - 18 kg Pro Plan Bonus Bags</td>\n",
       "      <td>24834 - 18 kg Pro - Adult Sensitive La</td>\n",
       "      <td>2719</td>\n",
       "      <td>2719 - zooplus.de</td>\n",
       "      <td>2</td>\n",
       "      <td>2 - Hund</td>\n",
       "      <td>251</td>\n",
       "      <td>...</td>\n",
       "      <td>High CLV Article</td>\n",
       "      <td>unknown</td>\n",
       "      <td>2</td>\n",
       "      <td>3222270809757</td>\n",
       "      <td>12033519</td>\n",
       "      <td>0</td>\n",
       "      <td>26</td>\n",
       "      <td>Premium Brands by P, Nestle and Hills</td>\n",
       "      <td>Low</td>\n",
       "      <td>SKU</td>\n",
       "    </tr>\n",
       "    <tr>\n",
       "      <th>26</th>\n",
       "      <td>5727</td>\n",
       "      <td>18757</td>\n",
       "      <td>24832</td>\n",
       "      <td>18757 - 18 kg Pro Plan Bonus Bags</td>\n",
       "      <td>24832 - 18 kg Pro P- Adult Huhn &amp; Reis</td>\n",
       "      <td>2719</td>\n",
       "      <td>2719 - zooplus.de</td>\n",
       "      <td>2</td>\n",
       "      <td>2 - Hund</td>\n",
       "      <td>251</td>\n",
       "      <td>...</td>\n",
       "      <td>High CLV Article</td>\n",
       "      <td>unknown</td>\n",
       "      <td>2</td>\n",
       "      <td>3222270840156</td>\n",
       "      <td>12036726</td>\n",
       "      <td>0</td>\n",
       "      <td>26</td>\n",
       "      <td>Premium Brands by P, Nestle and Hills</td>\n",
       "      <td>Low</td>\n",
       "      <td>SKU</td>\n",
       "    </tr>\n",
       "    <tr>\n",
       "      <th>27</th>\n",
       "      <td>5729</td>\n",
       "      <td>18757</td>\n",
       "      <td>24836</td>\n",
       "      <td>18757 - 18 kg Pro Plan Bonus Bags</td>\n",
       "      <td>24836 - 18 kg Pro - Adult Large Athlet</td>\n",
       "      <td>2719</td>\n",
       "      <td>2719 - zooplus.de</td>\n",
       "      <td>2</td>\n",
       "      <td>2 - Hund</td>\n",
       "      <td>251</td>\n",
       "      <td>...</td>\n",
       "      <td>High CLV Article</td>\n",
       "      <td>unknown</td>\n",
       "      <td>2</td>\n",
       "      <td>NN</td>\n",
       "      <td>12031828</td>\n",
       "      <td>0</td>\n",
       "      <td>26</td>\n",
       "      <td>Premium Brands by P, Nestle and Hills</td>\n",
       "      <td>Low</td>\n",
       "      <td>SKU</td>\n",
       "    </tr>\n",
       "    <tr>\n",
       "      <th>28</th>\n",
       "      <td>5730</td>\n",
       "      <td>18757</td>\n",
       "      <td>24835</td>\n",
       "      <td>18757 - 18 kg Pro Plan Bonus Bags</td>\n",
       "      <td>24835 - 18 kg Pro - Adult Large Robust</td>\n",
       "      <td>2719</td>\n",
       "      <td>2719 - zooplus.de</td>\n",
       "      <td>2</td>\n",
       "      <td>2 - Hund</td>\n",
       "      <td>251</td>\n",
       "      <td>...</td>\n",
       "      <td>High CLV Article</td>\n",
       "      <td>unknown</td>\n",
       "      <td>2</td>\n",
       "      <td>7613031485703</td>\n",
       "      <td>12041529</td>\n",
       "      <td>0</td>\n",
       "      <td>26</td>\n",
       "      <td>Premium Brands by P, Nestle and Hills</td>\n",
       "      <td>Low</td>\n",
       "      <td>SKU</td>\n",
       "    </tr>\n",
       "    <tr>\n",
       "      <th>29</th>\n",
       "      <td>5731</td>\n",
       "      <td>19884</td>\n",
       "      <td>26975</td>\n",
       "      <td>19884 - Hundepfeife</td>\n",
       "      <td>26975 - Hundepfeif- gratis zu 15 kg Pr</td>\n",
       "      <td>2719</td>\n",
       "      <td>2719 - zooplus.de</td>\n",
       "      <td>2</td>\n",
       "      <td>2 - Hund</td>\n",
       "      <td>251</td>\n",
       "      <td>...</td>\n",
       "      <td>High CLV Article</td>\n",
       "      <td>unknown</td>\n",
       "      <td>2</td>\n",
       "      <td>NN</td>\n",
       "      <td>NN</td>\n",
       "      <td>0</td>\n",
       "      <td>26</td>\n",
       "      <td>Premium Brands by P, Nestle and Hills</td>\n",
       "      <td>High</td>\n",
       "      <td>SKU</td>\n",
       "    </tr>\n",
       "    <tr>\n",
       "      <th>...</th>\n",
       "      <td>...</td>\n",
       "      <td>...</td>\n",
       "      <td>...</td>\n",
       "      <td>...</td>\n",
       "      <td>...</td>\n",
       "      <td>...</td>\n",
       "      <td>...</td>\n",
       "      <td>...</td>\n",
       "      <td>...</td>\n",
       "      <td>...</td>\n",
       "      <td>...</td>\n",
       "      <td>...</td>\n",
       "      <td>...</td>\n",
       "      <td>...</td>\n",
       "      <td>...</td>\n",
       "      <td>...</td>\n",
       "      <td>...</td>\n",
       "      <td>...</td>\n",
       "      <td>...</td>\n",
       "      <td>...</td>\n",
       "      <td>...</td>\n",
       "    </tr>\n",
       "    <tr>\n",
       "      <th>293</th>\n",
       "      <td>126700638</td>\n",
       "      <td>52257</td>\n",
       "      <td>73841</td>\n",
       "      <td>52257 - MP Pro Plan Cat KITTEN 24x85g</td>\n",
       "      <td>73841 - MPProPlanCatKITTEChicken24x85g</td>\n",
       "      <td>2719</td>\n",
       "      <td>2719 - zooplus.de</td>\n",
       "      <td>3</td>\n",
       "      <td>3 - Katze</td>\n",
       "      <td>2068</td>\n",
       "      <td>...</td>\n",
       "      <td>High CLV Article</td>\n",
       "      <td>Pro Plan</td>\n",
       "      <td>1</td>\n",
       "      <td>7613033568619</td>\n",
       "      <td>12171997</td>\n",
       "      <td>1</td>\n",
       "      <td>26</td>\n",
       "      <td>Premium Brands by P, Nestle and Hills</td>\n",
       "      <td>Low</td>\n",
       "      <td>SKU</td>\n",
       "    </tr>\n",
       "    <tr>\n",
       "      <th>294</th>\n",
       "      <td>126700639</td>\n",
       "      <td>52258</td>\n",
       "      <td>73842</td>\n",
       "      <td>52258 - MP Pro Plan Cat Nutrisavour STERILISED...</td>\n",
       "      <td>73842 - MP PPlan Nutri STERILChkn10x85</td>\n",
       "      <td>2719</td>\n",
       "      <td>2719 - zooplus.de</td>\n",
       "      <td>3</td>\n",
       "      <td>3 - Katze</td>\n",
       "      <td>2068</td>\n",
       "      <td>...</td>\n",
       "      <td>High CLV Article</td>\n",
       "      <td>Pro Plan</td>\n",
       "      <td>1</td>\n",
       "      <td>7613034771186</td>\n",
       "      <td>12250098</td>\n",
       "      <td>0</td>\n",
       "      <td>26</td>\n",
       "      <td>Premium Brands by P, Nestle and Hills</td>\n",
       "      <td>Low</td>\n",
       "      <td>SKU</td>\n",
       "    </tr>\n",
       "    <tr>\n",
       "      <th>295</th>\n",
       "      <td>126700640</td>\n",
       "      <td>52256</td>\n",
       "      <td>73744</td>\n",
       "      <td>52256 - MP Pro Plan Cat Nutrisavour KITTEN 10x85g</td>\n",
       "      <td>73744 - MP PPlan Nutri KITTENChkn10x85</td>\n",
       "      <td>2719</td>\n",
       "      <td>2719 - zooplus.de</td>\n",
       "      <td>3</td>\n",
       "      <td>3 - Katze</td>\n",
       "      <td>2068</td>\n",
       "      <td>...</td>\n",
       "      <td>High CLV Article</td>\n",
       "      <td>Pro Plan</td>\n",
       "      <td>1</td>\n",
       "      <td>7613035680357</td>\n",
       "      <td>12310842</td>\n",
       "      <td>0</td>\n",
       "      <td>26</td>\n",
       "      <td>Premium Brands by P, Nestle and Hills</td>\n",
       "      <td>Low</td>\n",
       "      <td>SKU</td>\n",
       "    </tr>\n",
       "    <tr>\n",
       "      <th>296</th>\n",
       "      <td>126700641</td>\n",
       "      <td>52266</td>\n",
       "      <td>73746</td>\n",
       "      <td>52266 - MP Pro Plan Cat LIGHT 24x 85g</td>\n",
       "      <td>73746 - MP ProPlanCatLIGHTTurkey24x85g</td>\n",
       "      <td>2719</td>\n",
       "      <td>2719 - zooplus.de</td>\n",
       "      <td>3</td>\n",
       "      <td>3 - Katze</td>\n",
       "      <td>2068</td>\n",
       "      <td>...</td>\n",
       "      <td>High CLV Article</td>\n",
       "      <td>Pro Plan</td>\n",
       "      <td>1</td>\n",
       "      <td>3222270776424</td>\n",
       "      <td>12065874</td>\n",
       "      <td>1</td>\n",
       "      <td>26</td>\n",
       "      <td>Premium Brands by P, Nestle and Hills</td>\n",
       "      <td>Low</td>\n",
       "      <td>SKU</td>\n",
       "    </tr>\n",
       "    <tr>\n",
       "      <th>297</th>\n",
       "      <td>126700642</td>\n",
       "      <td>52255</td>\n",
       "      <td>73743</td>\n",
       "      <td>52255 - MP Pro Plan Cat Nutrisavour HOUSECAT 1...</td>\n",
       "      <td>73743 - MP PPlan Nutri HOUSESlmn 10x85</td>\n",
       "      <td>2719</td>\n",
       "      <td>2719 - zooplus.de</td>\n",
       "      <td>3</td>\n",
       "      <td>3 - Katze</td>\n",
       "      <td>2068</td>\n",
       "      <td>...</td>\n",
       "      <td>High CLV Article</td>\n",
       "      <td>Pro Plan</td>\n",
       "      <td>1</td>\n",
       "      <td>7613034769923</td>\n",
       "      <td>12250102</td>\n",
       "      <td>0</td>\n",
       "      <td>26</td>\n",
       "      <td>Premium Brands by P, Nestle and Hills</td>\n",
       "      <td>Low</td>\n",
       "      <td>SKU</td>\n",
       "    </tr>\n",
       "    <tr>\n",
       "      <th>298</th>\n",
       "      <td>126700645</td>\n",
       "      <td>52251</td>\n",
       "      <td>73835</td>\n",
       "      <td>52251 - MP Pro Plan Cat ADULT 24x85g</td>\n",
       "      <td>73835 - MPProPlanCatADULTChicken24x85g</td>\n",
       "      <td>2719</td>\n",
       "      <td>2719 - zooplus.de</td>\n",
       "      <td>3</td>\n",
       "      <td>3 - Katze</td>\n",
       "      <td>2068</td>\n",
       "      <td>...</td>\n",
       "      <td>High CLV Article</td>\n",
       "      <td>Pro Plan</td>\n",
       "      <td>1</td>\n",
       "      <td>3222270776431</td>\n",
       "      <td>12065833</td>\n",
       "      <td>1</td>\n",
       "      <td>26</td>\n",
       "      <td>Premium Brands by P, Nestle and Hills</td>\n",
       "      <td>Low</td>\n",
       "      <td>SKU</td>\n",
       "    </tr>\n",
       "    <tr>\n",
       "      <th>299</th>\n",
       "      <td>126700647</td>\n",
       "      <td>52252</td>\n",
       "      <td>73836</td>\n",
       "      <td>52252 - MP Pro Plan Cat Nutrisavour ADULT 10x85g</td>\n",
       "      <td>73836 - MP PPlan Nutri ADULT Lamb10x85</td>\n",
       "      <td>2719</td>\n",
       "      <td>2719 - zooplus.de</td>\n",
       "      <td>3</td>\n",
       "      <td>3 - Katze</td>\n",
       "      <td>2068</td>\n",
       "      <td>...</td>\n",
       "      <td>High CLV Article</td>\n",
       "      <td>Pro Plan</td>\n",
       "      <td>1</td>\n",
       "      <td>7613035680388</td>\n",
       "      <td>12310843</td>\n",
       "      <td>0</td>\n",
       "      <td>26</td>\n",
       "      <td>Premium Brands by P, Nestle and Hills</td>\n",
       "      <td>Low</td>\n",
       "      <td>SKU</td>\n",
       "    </tr>\n",
       "    <tr>\n",
       "      <th>300</th>\n",
       "      <td>126700648</td>\n",
       "      <td>52258</td>\n",
       "      <td>73844</td>\n",
       "      <td>52258 - MP Pro Plan Cat Nutrisavour STERILISED...</td>\n",
       "      <td>73844 - MP PPlan Nutri STERILTurk10x85</td>\n",
       "      <td>2719</td>\n",
       "      <td>2719 - zooplus.de</td>\n",
       "      <td>3</td>\n",
       "      <td>3 - Katze</td>\n",
       "      <td>2068</td>\n",
       "      <td>...</td>\n",
       "      <td>High CLV Article</td>\n",
       "      <td>Pro Plan</td>\n",
       "      <td>1</td>\n",
       "      <td>7613035680227</td>\n",
       "      <td>12310841</td>\n",
       "      <td>0</td>\n",
       "      <td>26</td>\n",
       "      <td>Premium Brands by P, Nestle and Hills</td>\n",
       "      <td>Low</td>\n",
       "      <td>SKU</td>\n",
       "    </tr>\n",
       "    <tr>\n",
       "      <th>301</th>\n",
       "      <td>126700649</td>\n",
       "      <td>52254</td>\n",
       "      <td>73741</td>\n",
       "      <td>52254 - MP Pro Plan Cat Nutrisavour DELICATE 1...</td>\n",
       "      <td>73741 - MP PPlan NutriDELICTFish 10x85</td>\n",
       "      <td>2719</td>\n",
       "      <td>2719 - zooplus.de</td>\n",
       "      <td>3</td>\n",
       "      <td>3 - Katze</td>\n",
       "      <td>2068</td>\n",
       "      <td>...</td>\n",
       "      <td>High CLV Article</td>\n",
       "      <td>Pro Plan</td>\n",
       "      <td>1</td>\n",
       "      <td>7613034771155</td>\n",
       "      <td>12250099</td>\n",
       "      <td>0</td>\n",
       "      <td>26</td>\n",
       "      <td>Premium Brands by P, Nestle and Hills</td>\n",
       "      <td>Low</td>\n",
       "      <td>SKU</td>\n",
       "    </tr>\n",
       "    <tr>\n",
       "      <th>302</th>\n",
       "      <td>126700650</td>\n",
       "      <td>52267</td>\n",
       "      <td>73747</td>\n",
       "      <td>52267 - MP Pro Plan Cat ADULT 7+ 24x85g</td>\n",
       "      <td>73747 - MP ProPlan Cat Adu7+Tuna24x85g</td>\n",
       "      <td>2719</td>\n",
       "      <td>2719 - zooplus.de</td>\n",
       "      <td>3</td>\n",
       "      <td>3 - Katze</td>\n",
       "      <td>2068</td>\n",
       "      <td>...</td>\n",
       "      <td>High CLV Article</td>\n",
       "      <td>Pro Plan</td>\n",
       "      <td>1</td>\n",
       "      <td>7613033568589</td>\n",
       "      <td>12171996</td>\n",
       "      <td>1</td>\n",
       "      <td>26</td>\n",
       "      <td>Premium Brands by P, Nestle and Hills</td>\n",
       "      <td>Low</td>\n",
       "      <td>SKU</td>\n",
       "    </tr>\n",
       "    <tr>\n",
       "      <th>303</th>\n",
       "      <td>126700655</td>\n",
       "      <td>52258</td>\n",
       "      <td>73843</td>\n",
       "      <td>52258 - MP Pro Plan Cat Nutrisavour STERILISED...</td>\n",
       "      <td>73843 - MP PPlan Nutri STERILFish10x85</td>\n",
       "      <td>2719</td>\n",
       "      <td>2719 - zooplus.de</td>\n",
       "      <td>3</td>\n",
       "      <td>3 - Katze</td>\n",
       "      <td>2068</td>\n",
       "      <td>...</td>\n",
       "      <td>High CLV Article</td>\n",
       "      <td>Pro Plan</td>\n",
       "      <td>1</td>\n",
       "      <td>7613035680197</td>\n",
       "      <td>12310840</td>\n",
       "      <td>0</td>\n",
       "      <td>26</td>\n",
       "      <td>Premium Brands by P, Nestle and Hills</td>\n",
       "      <td>Low</td>\n",
       "      <td>SKU</td>\n",
       "    </tr>\n",
       "    <tr>\n",
       "      <th>304</th>\n",
       "      <td>126700656</td>\n",
       "      <td>52252</td>\n",
       "      <td>73837</td>\n",
       "      <td>52252 - MP Pro Plan Cat Nutrisavour ADULT 10x85g</td>\n",
       "      <td>73837 - MP PPlanNutriADULTTurkey 10x85</td>\n",
       "      <td>2719</td>\n",
       "      <td>2719 - zooplus.de</td>\n",
       "      <td>3</td>\n",
       "      <td>3 - Katze</td>\n",
       "      <td>2068</td>\n",
       "      <td>...</td>\n",
       "      <td>High CLV Article</td>\n",
       "      <td>Pro Plan</td>\n",
       "      <td>1</td>\n",
       "      <td>7613035680418</td>\n",
       "      <td>12310844</td>\n",
       "      <td>0</td>\n",
       "      <td>26</td>\n",
       "      <td>Premium Brands by P, Nestle and Hills</td>\n",
       "      <td>Low</td>\n",
       "      <td>SKU</td>\n",
       "    </tr>\n",
       "    <tr>\n",
       "      <th>305</th>\n",
       "      <td>132164420</td>\n",
       "      <td>51924</td>\n",
       "      <td>75697</td>\n",
       "      <td>51924 - Pro Plan Medium Adult Lamm</td>\n",
       "      <td>75697 - Pplan Medium Adult Lamb 3Kg</td>\n",
       "      <td>2719</td>\n",
       "      <td>2719 - zooplus.de</td>\n",
       "      <td>2</td>\n",
       "      <td>2 - Hund</td>\n",
       "      <td>251</td>\n",
       "      <td>...</td>\n",
       "      <td>High CLV Article</td>\n",
       "      <td>Pro Plan</td>\n",
       "      <td>2</td>\n",
       "      <td>7613035214798</td>\n",
       "      <td>12278098</td>\n",
       "      <td>1</td>\n",
       "      <td>26</td>\n",
       "      <td>Premium Brands by P, Nestle and Hills</td>\n",
       "      <td>Low</td>\n",
       "      <td>SKU</td>\n",
       "    </tr>\n",
       "    <tr>\n",
       "      <th>306</th>\n",
       "      <td>132164424</td>\n",
       "      <td>51925</td>\n",
       "      <td>75696</td>\n",
       "      <td>51925 - Pro Plan Medium Puppy Lamm</td>\n",
       "      <td>75696 - Pplan Medium Puppy Lamb 3Kg</td>\n",
       "      <td>2719</td>\n",
       "      <td>2719 - zooplus.de</td>\n",
       "      <td>2</td>\n",
       "      <td>2 - Hund</td>\n",
       "      <td>251</td>\n",
       "      <td>...</td>\n",
       "      <td>High CLV Article</td>\n",
       "      <td>Pro Plan</td>\n",
       "      <td>2</td>\n",
       "      <td>7613035214811</td>\n",
       "      <td>12278099</td>\n",
       "      <td>1</td>\n",
       "      <td>26</td>\n",
       "      <td>Premium Brands by P, Nestle and Hills</td>\n",
       "      <td>Low</td>\n",
       "      <td>SKU</td>\n",
       "    </tr>\n",
       "    <tr>\n",
       "      <th>307</th>\n",
       "      <td>135865069</td>\n",
       "      <td>54571</td>\n",
       "      <td>77545</td>\n",
       "      <td>54571 - PP Large Adult Athletic Sensitive Skin...</td>\n",
       "      <td>77545 - PP Large Ad Ath Sens Skin 14Kg</td>\n",
       "      <td>2719</td>\n",
       "      <td>2719 - zooplus.de</td>\n",
       "      <td>2</td>\n",
       "      <td>2 - Hund</td>\n",
       "      <td>251</td>\n",
       "      <td>...</td>\n",
       "      <td>High CLV Article</td>\n",
       "      <td>Pro Plan</td>\n",
       "      <td>2</td>\n",
       "      <td>7613035417045</td>\n",
       "      <td>12294770</td>\n",
       "      <td>1</td>\n",
       "      <td>26</td>\n",
       "      <td>Premium Brands by P, Nestle and Hills</td>\n",
       "      <td>Low</td>\n",
       "      <td>SKU</td>\n",
       "    </tr>\n",
       "    <tr>\n",
       "      <th>308</th>\n",
       "      <td>135865093</td>\n",
       "      <td>54572</td>\n",
       "      <td>77546</td>\n",
       "      <td>54572 - PP Large Adult Robust Sensitive Skin S...</td>\n",
       "      <td>77546 - PP Lrg Ad Rbst Sens Skin 14Kg</td>\n",
       "      <td>2719</td>\n",
       "      <td>2719 - zooplus.de</td>\n",
       "      <td>2</td>\n",
       "      <td>2 - Hund</td>\n",
       "      <td>251</td>\n",
       "      <td>...</td>\n",
       "      <td>High CLV Article</td>\n",
       "      <td>Pro Plan</td>\n",
       "      <td>2</td>\n",
       "      <td>7613035417298</td>\n",
       "      <td>12294793</td>\n",
       "      <td>1</td>\n",
       "      <td>26</td>\n",
       "      <td>Premium Brands by P, Nestle and Hills</td>\n",
       "      <td>Low</td>\n",
       "      <td>SKU</td>\n",
       "    </tr>\n",
       "    <tr>\n",
       "      <th>309</th>\n",
       "      <td>139920735</td>\n",
       "      <td>48310</td>\n",
       "      <td>78464</td>\n",
       "      <td>48310 - Pro Plan Medium &amp; Large Adult 7+ Sensi...</td>\n",
       "      <td>78464 - ProPlan MedLarg+7 SensSkin 3Kg</td>\n",
       "      <td>2719</td>\n",
       "      <td>2719 - zooplus.de</td>\n",
       "      <td>2</td>\n",
       "      <td>2 - Hund</td>\n",
       "      <td>251</td>\n",
       "      <td>...</td>\n",
       "      <td>High CLV Article</td>\n",
       "      <td>Pro Plan</td>\n",
       "      <td>2</td>\n",
       "      <td>7613035125032</td>\n",
       "      <td>12272683</td>\n",
       "      <td>1</td>\n",
       "      <td>26</td>\n",
       "      <td>Premium Brands by P, Nestle and Hills</td>\n",
       "      <td>Low</td>\n",
       "      <td>SKU</td>\n",
       "    </tr>\n",
       "    <tr>\n",
       "      <th>310</th>\n",
       "      <td>139920759</td>\n",
       "      <td>55289</td>\n",
       "      <td>78463</td>\n",
       "      <td>55289 - Pro Plan Small and Mini Stv Digestion ...</td>\n",
       "      <td>78463 - ProPlan S&amp;M Sens Dig Chkn 3Kg</td>\n",
       "      <td>2719</td>\n",
       "      <td>2719 - zooplus.de</td>\n",
       "      <td>2</td>\n",
       "      <td>2 - Hund</td>\n",
       "      <td>251</td>\n",
       "      <td>...</td>\n",
       "      <td>High CLV Article</td>\n",
       "      <td>Pro Plan</td>\n",
       "      <td>2</td>\n",
       "      <td>7613035123779</td>\n",
       "      <td>12272646</td>\n",
       "      <td>1</td>\n",
       "      <td>26</td>\n",
       "      <td>Premium Brands by P, Nestle and Hills</td>\n",
       "      <td>Low</td>\n",
       "      <td>SKU</td>\n",
       "    </tr>\n",
       "    <tr>\n",
       "      <th>311</th>\n",
       "      <td>139920767</td>\n",
       "      <td>48367</td>\n",
       "      <td>78647</td>\n",
       "      <td>48367 - Pro Plan All sizes Adult Light Sterili...</td>\n",
       "      <td>78647 - ProPlan AllSiz Chkn 3Kg</td>\n",
       "      <td>2719</td>\n",
       "      <td>2719 - zooplus.de</td>\n",
       "      <td>2</td>\n",
       "      <td>2 - Hund</td>\n",
       "      <td>251</td>\n",
       "      <td>...</td>\n",
       "      <td>High CLV Article</td>\n",
       "      <td>Pro Plan</td>\n",
       "      <td>2</td>\n",
       "      <td>7613035123779</td>\n",
       "      <td>12272618</td>\n",
       "      <td>1</td>\n",
       "      <td>26</td>\n",
       "      <td>Premium Brands by P, Nestle and Hills</td>\n",
       "      <td>Low</td>\n",
       "      <td>SKU</td>\n",
       "    </tr>\n",
       "    <tr>\n",
       "      <th>312</th>\n",
       "      <td>143227514</td>\n",
       "      <td>56388</td>\n",
       "      <td>79735</td>\n",
       "      <td>56388 - MP Pro Plan Cat Nutrisavour ADULT+7 10...</td>\n",
       "      <td>79735 - MP PP AD+7 10x85 Trky in Sauce</td>\n",
       "      <td>2719</td>\n",
       "      <td>2719 - zooplus.de</td>\n",
       "      <td>3</td>\n",
       "      <td>3 - Katze</td>\n",
       "      <td>2068</td>\n",
       "      <td>...</td>\n",
       "      <td>High CLV Article</td>\n",
       "      <td>Pro Plan</td>\n",
       "      <td>1</td>\n",
       "      <td>7613036152464</td>\n",
       "      <td>12342772</td>\n",
       "      <td>0</td>\n",
       "      <td>26</td>\n",
       "      <td>Premium Brands by P, Nestle and Hills</td>\n",
       "      <td>Low</td>\n",
       "      <td>SKU</td>\n",
       "    </tr>\n",
       "    <tr>\n",
       "      <th>313</th>\n",
       "      <td>143227525</td>\n",
       "      <td>56389</td>\n",
       "      <td>79737</td>\n",
       "      <td>56389 - MP Pro Plan Cat Nutrisavour DERMA PLUS...</td>\n",
       "      <td>79737 - MP PP DERMA+ 10x85 Cod in Sauc</td>\n",
       "      <td>2719</td>\n",
       "      <td>2719 - zooplus.de</td>\n",
       "      <td>3</td>\n",
       "      <td>3 - Katze</td>\n",
       "      <td>2068</td>\n",
       "      <td>...</td>\n",
       "      <td>High CLV Article</td>\n",
       "      <td>Pro Plan</td>\n",
       "      <td>1</td>\n",
       "      <td>7613036149341</td>\n",
       "      <td>12342525</td>\n",
       "      <td>0</td>\n",
       "      <td>26</td>\n",
       "      <td>Premium Brands by P, Nestle and Hills</td>\n",
       "      <td>Low</td>\n",
       "      <td>SKU</td>\n",
       "    </tr>\n",
       "    <tr>\n",
       "      <th>314</th>\n",
       "      <td>142986138</td>\n",
       "      <td>52252</td>\n",
       "      <td>79722</td>\n",
       "      <td>52252 - MP Pro Plan Cat Nutrisavour ADULT 10x85g</td>\n",
       "      <td>79722 - MP PP AD+7 10x85 Trky in Sauce</td>\n",
       "      <td>2719</td>\n",
       "      <td>2719 - zooplus.de</td>\n",
       "      <td>3</td>\n",
       "      <td>3 - Katze</td>\n",
       "      <td>2068</td>\n",
       "      <td>...</td>\n",
       "      <td>High CLV Article</td>\n",
       "      <td>Pro Plan</td>\n",
       "      <td>1</td>\n",
       "      <td>7613036152464</td>\n",
       "      <td>12342772</td>\n",
       "      <td>0</td>\n",
       "      <td>26</td>\n",
       "      <td>Premium Brands by P, Nestle and Hills</td>\n",
       "      <td>Low</td>\n",
       "      <td>SKU</td>\n",
       "    </tr>\n",
       "    <tr>\n",
       "      <th>315</th>\n",
       "      <td>150153530</td>\n",
       "      <td>43073</td>\n",
       "      <td>81623</td>\n",
       "      <td>43073 - Pro Plan Duo Delice Huhn</td>\n",
       "      <td>81623 - PPD Duo Delice Adult Huhn 10Kg</td>\n",
       "      <td>2719</td>\n",
       "      <td>2719 - zooplus.de</td>\n",
       "      <td>2</td>\n",
       "      <td>2 - Hund</td>\n",
       "      <td>251</td>\n",
       "      <td>...</td>\n",
       "      <td>High CLV Article</td>\n",
       "      <td>Pro Plan</td>\n",
       "      <td>2</td>\n",
       "      <td>7613034083746</td>\n",
       "      <td>12338885</td>\n",
       "      <td>1</td>\n",
       "      <td>26</td>\n",
       "      <td>Premium Brands by P, Nestle and Hills</td>\n",
       "      <td>Low</td>\n",
       "      <td>SKU</td>\n",
       "    </tr>\n",
       "    <tr>\n",
       "      <th>316</th>\n",
       "      <td>150153536</td>\n",
       "      <td>45184</td>\n",
       "      <td>81720</td>\n",
       "      <td>45184 - PRO PLAN Duo Delice Adult Rind</td>\n",
       "      <td>81720 - PPD Duo Delice Adult Rind 10Kg</td>\n",
       "      <td>2719</td>\n",
       "      <td>2719 - zooplus.de</td>\n",
       "      <td>2</td>\n",
       "      <td>2 - Hund</td>\n",
       "      <td>251</td>\n",
       "      <td>...</td>\n",
       "      <td>High CLV Article</td>\n",
       "      <td>Pro Plan</td>\n",
       "      <td>2</td>\n",
       "      <td>7613034083784</td>\n",
       "      <td>12338883</td>\n",
       "      <td>1</td>\n",
       "      <td>26</td>\n",
       "      <td>Premium Brands by P, Nestle and Hills</td>\n",
       "      <td>Low</td>\n",
       "      <td>SKU</td>\n",
       "    </tr>\n",
       "    <tr>\n",
       "      <th>317</th>\n",
       "      <td>150215039</td>\n",
       "      <td>58133</td>\n",
       "      <td>81624</td>\n",
       "      <td>58133 - Pro Plan Duo Delice Small Breed Rind</td>\n",
       "      <td>81624 - PPD Duo Delice SML Rind 2,5Kg</td>\n",
       "      <td>2719</td>\n",
       "      <td>2719 - zooplus.de</td>\n",
       "      <td>2</td>\n",
       "      <td>2 - Hund</td>\n",
       "      <td>251</td>\n",
       "      <td>...</td>\n",
       "      <td>High CLV Article</td>\n",
       "      <td>Pro Plan</td>\n",
       "      <td>2</td>\n",
       "      <td>7613034819758</td>\n",
       "      <td>12251948</td>\n",
       "      <td>1</td>\n",
       "      <td>26</td>\n",
       "      <td>Premium Brands by P, Nestle and Hills</td>\n",
       "      <td>Low</td>\n",
       "      <td>SKU</td>\n",
       "    </tr>\n",
       "    <tr>\n",
       "      <th>318</th>\n",
       "      <td>143167159</td>\n",
       "      <td>52252</td>\n",
       "      <td>79736</td>\n",
       "      <td>52252 - MP Pro Plan Cat Nutrisavour ADULT 10x85g</td>\n",
       "      <td>79736 - MP PP ADLT 10x85 Duck in Sauce</td>\n",
       "      <td>2719</td>\n",
       "      <td>2719 - zooplus.de</td>\n",
       "      <td>3</td>\n",
       "      <td>3 - Katze</td>\n",
       "      <td>2068</td>\n",
       "      <td>...</td>\n",
       "      <td>High CLV Article</td>\n",
       "      <td>Pro Plan</td>\n",
       "      <td>1</td>\n",
       "      <td>7613036152488</td>\n",
       "      <td>12342773</td>\n",
       "      <td>0</td>\n",
       "      <td>26</td>\n",
       "      <td>Premium Brands by P, Nestle and Hills</td>\n",
       "      <td>Low</td>\n",
       "      <td>SKU</td>\n",
       "    </tr>\n",
       "    <tr>\n",
       "      <th>319</th>\n",
       "      <td>154423723</td>\n",
       "      <td>47445</td>\n",
       "      <td>83001</td>\n",
       "      <td>47445 - Pro Plan Duo Delice Small Breed</td>\n",
       "      <td>83001 - PP Duo Delice SM Breed 2,5Kg</td>\n",
       "      <td>2719</td>\n",
       "      <td>2719 - zooplus.de</td>\n",
       "      <td>2</td>\n",
       "      <td>2 - Hund</td>\n",
       "      <td>251</td>\n",
       "      <td>...</td>\n",
       "      <td>High CLV Article</td>\n",
       "      <td>Pro Plan</td>\n",
       "      <td>2</td>\n",
       "      <td>7613034819406</td>\n",
       "      <td>12338878</td>\n",
       "      <td>1</td>\n",
       "      <td>26</td>\n",
       "      <td>Premium Brands by P, Nestle and Hills</td>\n",
       "      <td>Low</td>\n",
       "      <td>SKU</td>\n",
       "    </tr>\n",
       "    <tr>\n",
       "      <th>320</th>\n",
       "      <td>154860080</td>\n",
       "      <td>48307</td>\n",
       "      <td>83211</td>\n",
       "      <td>48307 - Pro Plan Medium Puppy Huhn &amp; Reis</td>\n",
       "      <td>83211 - PP Medium Puppy KIT 3Kg</td>\n",
       "      <td>2719</td>\n",
       "      <td>2719 - zooplus.de</td>\n",
       "      <td>2</td>\n",
       "      <td>2 - Hund</td>\n",
       "      <td>251</td>\n",
       "      <td>...</td>\n",
       "      <td>High CLV Article</td>\n",
       "      <td>Pro Plan</td>\n",
       "      <td>2</td>\n",
       "      <td>7613036627306</td>\n",
       "      <td>12378468</td>\n",
       "      <td>0</td>\n",
       "      <td>26</td>\n",
       "      <td>Premium Brands by P, Nestle and Hills</td>\n",
       "      <td>Low</td>\n",
       "      <td>SKU</td>\n",
       "    </tr>\n",
       "    <tr>\n",
       "      <th>321</th>\n",
       "      <td>154860082</td>\n",
       "      <td>48367</td>\n",
       "      <td>83033</td>\n",
       "      <td>48367 - Pro Plan All sizes Adult Light Sterili...</td>\n",
       "      <td>83033 - PP All Sizes Adlt Hhn 14+2,5Kg</td>\n",
       "      <td>2719</td>\n",
       "      <td>2719 - zooplus.de</td>\n",
       "      <td>2</td>\n",
       "      <td>2 - Hund</td>\n",
       "      <td>251</td>\n",
       "      <td>...</td>\n",
       "      <td>High CLV Article</td>\n",
       "      <td>Pro Plan</td>\n",
       "      <td>2</td>\n",
       "      <td>7613035551411</td>\n",
       "      <td>12303229</td>\n",
       "      <td>1</td>\n",
       "      <td>26</td>\n",
       "      <td>Premium Brands by P, Nestle and Hills</td>\n",
       "      <td>Low</td>\n",
       "      <td>SKU</td>\n",
       "    </tr>\n",
       "    <tr>\n",
       "      <th>322</th>\n",
       "      <td>154860094</td>\n",
       "      <td>48311</td>\n",
       "      <td>83212</td>\n",
       "      <td>48311 - Pro Plan Large Puppy Robust Huhn &amp; Reis</td>\n",
       "      <td>83212 - PP Lrg Robst Puppy KIT 3Kg</td>\n",
       "      <td>2719</td>\n",
       "      <td>2719 - zooplus.de</td>\n",
       "      <td>2</td>\n",
       "      <td>2 - Hund</td>\n",
       "      <td>251</td>\n",
       "      <td>...</td>\n",
       "      <td>High CLV Article</td>\n",
       "      <td>Pro Plan</td>\n",
       "      <td>2</td>\n",
       "      <td>7613036627856</td>\n",
       "      <td>12378448</td>\n",
       "      <td>0</td>\n",
       "      <td>26</td>\n",
       "      <td>Premium Brands by P, Nestle and Hills</td>\n",
       "      <td>Low</td>\n",
       "      <td>SKU</td>\n",
       "    </tr>\n",
       "  </tbody>\n",
       "</table>\n",
       "<p>323 rows × 55 columns</p>\n",
       "</div>"
      ],
      "text/plain": [
       "     PPR_N_KEY_PHYS_PRODUCT  PPR_N_PHY_PRODUCT_ID  PPR_N_PHY_ARTICLE_ID  \\\n",
       "0                      5771                  2159                  3296   \n",
       "1                      5772                  2159                  3295   \n",
       "2                      5773                  2160                  1495   \n",
       "3                      5775                  2160                  3418   \n",
       "4                      5776                  2160                  3416   \n",
       "5                      5777                  2161                  1500   \n",
       "6                      5778                  2161                 11891   \n",
       "7                      5779                  2161                  3420   \n",
       "8                      5780                  2161                  3419   \n",
       "9                      5782                  2158                  3294   \n",
       "10                     5783                  2158                 12034   \n",
       "11                     5785                  2158                  1493   \n",
       "12                     5786                  7832                  9067   \n",
       "13                     5787                  7832                  9066   \n",
       "14                     5788                  7832                  9064   \n",
       "15                     5789                  7832                  1492   \n",
       "16                     5790                 18443                 24236   \n",
       "17                     5791                 18443                 24237   \n",
       "18                     5792                 16853                 22532   \n",
       "19                     5793                 16853                 21113   \n",
       "20                     5794                 16852                 21112   \n",
       "21                     5721                 17975                 23381   \n",
       "22                     5722                 19498                 26268   \n",
       "23                     5724                 18757                 24829   \n",
       "24                     5725                 18757                 24833   \n",
       "25                     5726                 18757                 24834   \n",
       "26                     5727                 18757                 24832   \n",
       "27                     5729                 18757                 24836   \n",
       "28                     5730                 18757                 24835   \n",
       "29                     5731                 19884                 26975   \n",
       "..                      ...                   ...                   ...   \n",
       "293               126700638                 52257                 73841   \n",
       "294               126700639                 52258                 73842   \n",
       "295               126700640                 52256                 73744   \n",
       "296               126700641                 52266                 73746   \n",
       "297               126700642                 52255                 73743   \n",
       "298               126700645                 52251                 73835   \n",
       "299               126700647                 52252                 73836   \n",
       "300               126700648                 52258                 73844   \n",
       "301               126700649                 52254                 73741   \n",
       "302               126700650                 52267                 73747   \n",
       "303               126700655                 52258                 73843   \n",
       "304               126700656                 52252                 73837   \n",
       "305               132164420                 51924                 75697   \n",
       "306               132164424                 51925                 75696   \n",
       "307               135865069                 54571                 77545   \n",
       "308               135865093                 54572                 77546   \n",
       "309               139920735                 48310                 78464   \n",
       "310               139920759                 55289                 78463   \n",
       "311               139920767                 48367                 78647   \n",
       "312               143227514                 56388                 79735   \n",
       "313               143227525                 56389                 79737   \n",
       "314               142986138                 52252                 79722   \n",
       "315               150153530                 43073                 81623   \n",
       "316               150153536                 45184                 81720   \n",
       "317               150215039                 58133                 81624   \n",
       "318               143167159                 52252                 79736   \n",
       "319               154423723                 47445                 83001   \n",
       "320               154860080                 48307                 83211   \n",
       "321               154860082                 48367                 83033   \n",
       "322               154860094                 48311                 83212   \n",
       "\n",
       "                                    PPR_V_PRODUCT_DESC  \\\n",
       "0            2159 - Pro Plan Dog Adult Dog Huhn + Reis   \n",
       "1            2159 - Pro Plan Dog Adult Dog Huhn + Reis   \n",
       "2                 2160 - Pro Plan Dog Performance Huhn   \n",
       "3                 2160 - Pro Plan Dog Performance Huhn   \n",
       "4                 2160 - Pro Plan Dog Performance Huhn   \n",
       "5                 2161 - Pro Plan Dog Adult Light Huhn   \n",
       "6                 2161 - Pro Plan Dog Adult Light Huhn   \n",
       "7                 2161 - Pro Plan Dog Adult Light Huhn   \n",
       "8                 2161 - Pro Plan Dog Adult Light Huhn   \n",
       "9                2158 - Pro Plan Dog Puppy Huhn + Reis   \n",
       "10               2158 - Pro Plan Dog Puppy Huhn + Reis   \n",
       "11               2158 - Pro Plan Dog Puppy Huhn + Reis   \n",
       "12                   7832 - Pro Plan Puppy Large Breed   \n",
       "13                   7832 - Pro Plan Puppy Large Breed   \n",
       "14                   7832 - Pro Plan Puppy Large Breed   \n",
       "15                   7832 - Pro Plan Puppy Large Breed   \n",
       "16   18443 - Pro Plan Dog Puppy Sensitive Lachs & Reis   \n",
       "17   18443 - Pro Plan Dog Puppy Sensitive Lachs & Reis   \n",
       "18   16853 - Pro Plan Dog Puppy Large Athletic Lamm...   \n",
       "19   16853 - Pro Plan Dog Puppy Large Athletic Lamm...   \n",
       "20   16852 - Pro Plan Dog Puppy Large  Robust Huhn ...   \n",
       "21                                    17975 - Rucksack   \n",
       "22                                19498 - Taschenlampe   \n",
       "23                   18757 - 18 kg Pro Plan Bonus Bags   \n",
       "24                   18757 - 18 kg Pro Plan Bonus Bags   \n",
       "25                   18757 - 18 kg Pro Plan Bonus Bags   \n",
       "26                   18757 - 18 kg Pro Plan Bonus Bags   \n",
       "27                   18757 - 18 kg Pro Plan Bonus Bags   \n",
       "28                   18757 - 18 kg Pro Plan Bonus Bags   \n",
       "29                                 19884 - Hundepfeife   \n",
       "..                                                 ...   \n",
       "293              52257 - MP Pro Plan Cat KITTEN 24x85g   \n",
       "294  52258 - MP Pro Plan Cat Nutrisavour STERILISED...   \n",
       "295  52256 - MP Pro Plan Cat Nutrisavour KITTEN 10x85g   \n",
       "296              52266 - MP Pro Plan Cat LIGHT 24x 85g   \n",
       "297  52255 - MP Pro Plan Cat Nutrisavour HOUSECAT 1...   \n",
       "298               52251 - MP Pro Plan Cat ADULT 24x85g   \n",
       "299   52252 - MP Pro Plan Cat Nutrisavour ADULT 10x85g   \n",
       "300  52258 - MP Pro Plan Cat Nutrisavour STERILISED...   \n",
       "301  52254 - MP Pro Plan Cat Nutrisavour DELICATE 1...   \n",
       "302            52267 - MP Pro Plan Cat ADULT 7+ 24x85g   \n",
       "303  52258 - MP Pro Plan Cat Nutrisavour STERILISED...   \n",
       "304   52252 - MP Pro Plan Cat Nutrisavour ADULT 10x85g   \n",
       "305                 51924 - Pro Plan Medium Adult Lamm   \n",
       "306                 51925 - Pro Plan Medium Puppy Lamm   \n",
       "307  54571 - PP Large Adult Athletic Sensitive Skin...   \n",
       "308  54572 - PP Large Adult Robust Sensitive Skin S...   \n",
       "309  48310 - Pro Plan Medium & Large Adult 7+ Sensi...   \n",
       "310  55289 - Pro Plan Small and Mini Stv Digestion ...   \n",
       "311  48367 - Pro Plan All sizes Adult Light Sterili...   \n",
       "312  56388 - MP Pro Plan Cat Nutrisavour ADULT+7 10...   \n",
       "313  56389 - MP Pro Plan Cat Nutrisavour DERMA PLUS...   \n",
       "314   52252 - MP Pro Plan Cat Nutrisavour ADULT 10x85g   \n",
       "315                   43073 - Pro Plan Duo Delice Huhn   \n",
       "316             45184 - PRO PLAN Duo Delice Adult Rind   \n",
       "317       58133 - Pro Plan Duo Delice Small Breed Rind   \n",
       "318   52252 - MP Pro Plan Cat Nutrisavour ADULT 10x85g   \n",
       "319            47445 - Pro Plan Duo Delice Small Breed   \n",
       "320          48307 - Pro Plan Medium Puppy Huhn & Reis   \n",
       "321  48367 - Pro Plan All sizes Adult Light Sterili...   \n",
       "322    48311 - Pro Plan Large Puppy Robust Huhn & Reis   \n",
       "\n",
       "                       PPR_V_LOGISTICS_DESC  PPR_N_LEVEL1_ID  \\\n",
       "0     3296 - Pro Plan Dog Adult Dog - 15 kg             2719   \n",
       "1     3295 - Pro Plan Dog Adult Dog H- 3 kg             2719   \n",
       "2     1495 - Pro Plan Dog Performanc- 800 g             2719   \n",
       "3     3418 - Pro Plan Dog Performanc- 15 kg             2719   \n",
       "4     3416 - Pro Plan Dog Performance- 3 kg             2719   \n",
       "5     1500 - Pro Plan Dog Adult Ligh- 800 g             2719   \n",
       "6    11891 - Pro Plan Dog Adult Light- 3 kg             2719   \n",
       "7     3420 - Pro Plan Dog Adult Ligh- 15 kg             2719   \n",
       "8     3419 - Pro Plan Dog Adult Lig- 7,5 kg             2719   \n",
       "9     3294 - Pro Plan Dog Puppy Huh- 7,5 kg             2719   \n",
       "10   12034 - Pro Plan Dog Puppy Huhn- 15 kg             2719   \n",
       "11    1493 - Pro Plan Dog Puppy Huhn- 800 g             2719   \n",
       "12    9067 - Pro Plan Puppy Large Br- 15 kg             2719   \n",
       "13    9066 - Pro Plan Puppy Large B- 7,5 kg             2719   \n",
       "14    9064 - Pro Plan Puppy Large Bre- 3 kg             2719   \n",
       "15    1492 - Pro Plan Puppy Large Br- 800 g             2719   \n",
       "16   24236 - Pro Plan Dog Puppy Sensi- 3 kg             2719   \n",
       "17   24237 - Pro Plan Dog Puppy Sens- 15 kg             2719   \n",
       "18   22532 - Pro Plan Dog Puppy Large- 3 kg             2719   \n",
       "19   21113 - Pro Plan Dog Puppy Larg- 15 kg             2719   \n",
       "20   21112 - Pro Plan Dog Puppy Larg- 15 kg             2719   \n",
       "21        23381 - Rucksack- gratis zu 15 kg             2719   \n",
       "22   26268 - TaschenlamPro Plan Taschenlamp             2719   \n",
       "23   24829 - 18 kg Pro P- Puppy Huhn & Reis             2719   \n",
       "24   24833 - 18 kg Pro - Adult Digestion La             2719   \n",
       "25   24834 - 18 kg Pro - Adult Sensitive La             2719   \n",
       "26   24832 - 18 kg Pro P- Adult Huhn & Reis             2719   \n",
       "27   24836 - 18 kg Pro - Adult Large Athlet             2719   \n",
       "28   24835 - 18 kg Pro - Adult Large Robust             2719   \n",
       "29   26975 - Hundepfeif- gratis zu 15 kg Pr             2719   \n",
       "..                                      ...              ...   \n",
       "293  73841 - MPProPlanCatKITTEChicken24x85g             2719   \n",
       "294  73842 - MP PPlan Nutri STERILChkn10x85             2719   \n",
       "295  73744 - MP PPlan Nutri KITTENChkn10x85             2719   \n",
       "296  73746 - MP ProPlanCatLIGHTTurkey24x85g             2719   \n",
       "297  73743 - MP PPlan Nutri HOUSESlmn 10x85             2719   \n",
       "298  73835 - MPProPlanCatADULTChicken24x85g             2719   \n",
       "299  73836 - MP PPlan Nutri ADULT Lamb10x85             2719   \n",
       "300  73844 - MP PPlan Nutri STERILTurk10x85             2719   \n",
       "301  73741 - MP PPlan NutriDELICTFish 10x85             2719   \n",
       "302  73747 - MP ProPlan Cat Adu7+Tuna24x85g             2719   \n",
       "303  73843 - MP PPlan Nutri STERILFish10x85             2719   \n",
       "304  73837 - MP PPlanNutriADULTTurkey 10x85             2719   \n",
       "305     75697 - Pplan Medium Adult Lamb 3Kg             2719   \n",
       "306     75696 - Pplan Medium Puppy Lamb 3Kg             2719   \n",
       "307  77545 - PP Large Ad Ath Sens Skin 14Kg             2719   \n",
       "308   77546 - PP Lrg Ad Rbst Sens Skin 14Kg             2719   \n",
       "309  78464 - ProPlan MedLarg+7 SensSkin 3Kg             2719   \n",
       "310   78463 - ProPlan S&M Sens Dig Chkn 3Kg             2719   \n",
       "311         78647 - ProPlan AllSiz Chkn 3Kg             2719   \n",
       "312  79735 - MP PP AD+7 10x85 Trky in Sauce             2719   \n",
       "313  79737 - MP PP DERMA+ 10x85 Cod in Sauc             2719   \n",
       "314  79722 - MP PP AD+7 10x85 Trky in Sauce             2719   \n",
       "315  81623 - PPD Duo Delice Adult Huhn 10Kg             2719   \n",
       "316  81720 - PPD Duo Delice Adult Rind 10Kg             2719   \n",
       "317   81624 - PPD Duo Delice SML Rind 2,5Kg             2719   \n",
       "318  79736 - MP PP ADLT 10x85 Duck in Sauce             2719   \n",
       "319    83001 - PP Duo Delice SM Breed 2,5Kg             2719   \n",
       "320         83211 - PP Medium Puppy KIT 3Kg             2719   \n",
       "321  83033 - PP All Sizes Adlt Hhn 14+2,5Kg             2719   \n",
       "322      83212 - PP Lrg Robst Puppy KIT 3Kg             2719   \n",
       "\n",
       "     PPR_V_LEVEL1_DESC  PPR_N_LEVEL2_ID PPR_V_LEVEL2_DESC  PPR_N_LEVEL3_ID  \\\n",
       "0    2719 - zooplus.de                2          2 - Hund              251   \n",
       "1    2719 - zooplus.de                2          2 - Hund              251   \n",
       "2    2719 - zooplus.de                2          2 - Hund              251   \n",
       "3    2719 - zooplus.de                2          2 - Hund              251   \n",
       "4    2719 - zooplus.de                2          2 - Hund              251   \n",
       "5    2719 - zooplus.de                2          2 - Hund              251   \n",
       "6    2719 - zooplus.de                2          2 - Hund              251   \n",
       "7    2719 - zooplus.de                2          2 - Hund              251   \n",
       "8    2719 - zooplus.de                2          2 - Hund              251   \n",
       "9    2719 - zooplus.de                2          2 - Hund              251   \n",
       "10   2719 - zooplus.de                2          2 - Hund              251   \n",
       "11   2719 - zooplus.de                2          2 - Hund              251   \n",
       "12   2719 - zooplus.de                2          2 - Hund              251   \n",
       "13   2719 - zooplus.de                2          2 - Hund              251   \n",
       "14   2719 - zooplus.de                2          2 - Hund              251   \n",
       "15   2719 - zooplus.de                2          2 - Hund              251   \n",
       "16   2719 - zooplus.de                2          2 - Hund              251   \n",
       "17   2719 - zooplus.de                2          2 - Hund              251   \n",
       "18   2719 - zooplus.de                2          2 - Hund              251   \n",
       "19   2719 - zooplus.de                2          2 - Hund              251   \n",
       "20   2719 - zooplus.de                2          2 - Hund              251   \n",
       "21   2719 - zooplus.de                2          2 - Hund              251   \n",
       "22   2719 - zooplus.de                2          2 - Hund              251   \n",
       "23   2719 - zooplus.de                2          2 - Hund              251   \n",
       "24   2719 - zooplus.de                2          2 - Hund              251   \n",
       "25   2719 - zooplus.de                2          2 - Hund              251   \n",
       "26   2719 - zooplus.de                2          2 - Hund              251   \n",
       "27   2719 - zooplus.de                2          2 - Hund              251   \n",
       "28   2719 - zooplus.de                2          2 - Hund              251   \n",
       "29   2719 - zooplus.de                2          2 - Hund              251   \n",
       "..                 ...              ...               ...              ...   \n",
       "293  2719 - zooplus.de                3         3 - Katze             2068   \n",
       "294  2719 - zooplus.de                3         3 - Katze             2068   \n",
       "295  2719 - zooplus.de                3         3 - Katze             2068   \n",
       "296  2719 - zooplus.de                3         3 - Katze             2068   \n",
       "297  2719 - zooplus.de                3         3 - Katze             2068   \n",
       "298  2719 - zooplus.de                3         3 - Katze             2068   \n",
       "299  2719 - zooplus.de                3         3 - Katze             2068   \n",
       "300  2719 - zooplus.de                3         3 - Katze             2068   \n",
       "301  2719 - zooplus.de                3         3 - Katze             2068   \n",
       "302  2719 - zooplus.de                3         3 - Katze             2068   \n",
       "303  2719 - zooplus.de                3         3 - Katze             2068   \n",
       "304  2719 - zooplus.de                3         3 - Katze             2068   \n",
       "305  2719 - zooplus.de                2          2 - Hund              251   \n",
       "306  2719 - zooplus.de                2          2 - Hund              251   \n",
       "307  2719 - zooplus.de                2          2 - Hund              251   \n",
       "308  2719 - zooplus.de                2          2 - Hund              251   \n",
       "309  2719 - zooplus.de                2          2 - Hund              251   \n",
       "310  2719 - zooplus.de                2          2 - Hund              251   \n",
       "311  2719 - zooplus.de                2          2 - Hund              251   \n",
       "312  2719 - zooplus.de                3         3 - Katze             2068   \n",
       "313  2719 - zooplus.de                3         3 - Katze             2068   \n",
       "314  2719 - zooplus.de                3         3 - Katze             2068   \n",
       "315  2719 - zooplus.de                2          2 - Hund              251   \n",
       "316  2719 - zooplus.de                2          2 - Hund              251   \n",
       "317  2719 - zooplus.de                2          2 - Hund              251   \n",
       "318  2719 - zooplus.de                3         3 - Katze             2068   \n",
       "319  2719 - zooplus.de                2          2 - Hund              251   \n",
       "320  2719 - zooplus.de                2          2 - Hund              251   \n",
       "321  2719 - zooplus.de                2          2 - Hund              251   \n",
       "322  2719 - zooplus.de                2          2 - Hund              251   \n",
       "\n",
       "         ...        PPR_IS_HIGH_CLV  PPR_BRAND PPR_PG_PRIORITY  \\\n",
       "0        ...       High CLV Article   Pro Plan               2   \n",
       "1        ...       High CLV Article   Pro Plan               2   \n",
       "2        ...       High CLV Article   Pro Plan               2   \n",
       "3        ...       High CLV Article   Pro Plan               2   \n",
       "4        ...       High CLV Article   Pro Plan               2   \n",
       "5        ...       High CLV Article   Pro Plan               2   \n",
       "6        ...       High CLV Article   Pro Plan               2   \n",
       "7        ...       High CLV Article   Pro Plan               2   \n",
       "8        ...       High CLV Article   Pro Plan               2   \n",
       "9        ...       High CLV Article   Pro Plan               2   \n",
       "10       ...       High CLV Article   Pro Plan               2   \n",
       "11       ...       High CLV Article   Pro Plan               2   \n",
       "12       ...       High CLV Article    unknown               2   \n",
       "13       ...       High CLV Article    unknown               2   \n",
       "14       ...       High CLV Article    unknown               2   \n",
       "15       ...       High CLV Article    unknown               2   \n",
       "16       ...       High CLV Article   Pro Plan               2   \n",
       "17       ...       High CLV Article   Pro Plan               2   \n",
       "18       ...       High CLV Article   Pro Plan               2   \n",
       "19       ...       High CLV Article   Pro Plan               2   \n",
       "20       ...       High CLV Article   Pro Plan               2   \n",
       "21       ...       High CLV Article   Pro Plan               2   \n",
       "22       ...       High CLV Article    unknown               2   \n",
       "23       ...       High CLV Article    unknown               2   \n",
       "24       ...       High CLV Article    unknown               2   \n",
       "25       ...       High CLV Article    unknown               2   \n",
       "26       ...       High CLV Article    unknown               2   \n",
       "27       ...       High CLV Article    unknown               2   \n",
       "28       ...       High CLV Article    unknown               2   \n",
       "29       ...       High CLV Article    unknown               2   \n",
       "..       ...                    ...        ...             ...   \n",
       "293      ...       High CLV Article   Pro Plan               1   \n",
       "294      ...       High CLV Article   Pro Plan               1   \n",
       "295      ...       High CLV Article   Pro Plan               1   \n",
       "296      ...       High CLV Article   Pro Plan               1   \n",
       "297      ...       High CLV Article   Pro Plan               1   \n",
       "298      ...       High CLV Article   Pro Plan               1   \n",
       "299      ...       High CLV Article   Pro Plan               1   \n",
       "300      ...       High CLV Article   Pro Plan               1   \n",
       "301      ...       High CLV Article   Pro Plan               1   \n",
       "302      ...       High CLV Article   Pro Plan               1   \n",
       "303      ...       High CLV Article   Pro Plan               1   \n",
       "304      ...       High CLV Article   Pro Plan               1   \n",
       "305      ...       High CLV Article   Pro Plan               2   \n",
       "306      ...       High CLV Article   Pro Plan               2   \n",
       "307      ...       High CLV Article   Pro Plan               2   \n",
       "308      ...       High CLV Article   Pro Plan               2   \n",
       "309      ...       High CLV Article   Pro Plan               2   \n",
       "310      ...       High CLV Article   Pro Plan               2   \n",
       "311      ...       High CLV Article   Pro Plan               2   \n",
       "312      ...       High CLV Article   Pro Plan               1   \n",
       "313      ...       High CLV Article   Pro Plan               1   \n",
       "314      ...       High CLV Article   Pro Plan               1   \n",
       "315      ...       High CLV Article   Pro Plan               2   \n",
       "316      ...       High CLV Article   Pro Plan               2   \n",
       "317      ...       High CLV Article   Pro Plan               2   \n",
       "318      ...       High CLV Article   Pro Plan               1   \n",
       "319      ...       High CLV Article   Pro Plan               2   \n",
       "320      ...       High CLV Article   Pro Plan               2   \n",
       "321      ...       High CLV Article   Pro Plan               2   \n",
       "322      ...       High CLV Article   Pro Plan               2   \n",
       "\n",
       "            PPR_EAN PPR_NR_AT_SUPPLIER  PPR_AP_IS_LISTED PPR_ARTICLE_CLASS_ID  \\\n",
       "0     3596980000583            5100138                 0                   26   \n",
       "1     7613033208263           12150307                 0                   26   \n",
       "2    3596980000-651            1023300                 0                   26   \n",
       "3     3596980000682           05100158                 0                   26   \n",
       "4     8410650530306            8473000                 0                   26   \n",
       "5    3596980000-705            8143000                 0                   26   \n",
       "6    07613033209994           12150387                 0                   26   \n",
       "7     3596980000736            5100163                 0                   26   \n",
       "8     8410650530758            8454000                 0                   26   \n",
       "9     3596980000439            5119955                 0                   26   \n",
       "10    3596980000446            5100124                 0                   26   \n",
       "11   3596980000-415            1013300                 0                   26   \n",
       "12    3596980001450           05100132                 0                   26   \n",
       "13     359680001434            9015700                 0                   26   \n",
       "14     359680001436            9015600                 0                   26   \n",
       "15     359680001429            9015500                 0                   26   \n",
       "16    7613033208911           12150313                 0                   26   \n",
       "17    3222270552325           12029079                 0                   26   \n",
       "18   07613033208171           12150305                 0                   26   \n",
       "19    7613031378579           12031983                 0                   26   \n",
       "20    7613031379521           12032120                 0                   26   \n",
       "21               NN                 NN                 0                   26   \n",
       "22               NN                 NN                 0                   26   \n",
       "23    3222270840453           12029225                 0                   26   \n",
       "24    3222270840309           12036727                 0                   26   \n",
       "25    3222270809757           12033519                 0                   26   \n",
       "26    3222270840156           12036726                 0                   26   \n",
       "27               NN           12031828                 0                   26   \n",
       "28    7613031485703           12041529                 0                   26   \n",
       "29               NN                 NN                 0                   26   \n",
       "..              ...                ...               ...                  ...   \n",
       "293   7613033568619           12171997                 1                   26   \n",
       "294   7613034771186           12250098                 0                   26   \n",
       "295   7613035680357           12310842                 0                   26   \n",
       "296   3222270776424           12065874                 1                   26   \n",
       "297   7613034769923           12250102                 0                   26   \n",
       "298   3222270776431           12065833                 1                   26   \n",
       "299   7613035680388           12310843                 0                   26   \n",
       "300   7613035680227           12310841                 0                   26   \n",
       "301   7613034771155           12250099                 0                   26   \n",
       "302   7613033568589           12171996                 1                   26   \n",
       "303   7613035680197           12310840                 0                   26   \n",
       "304   7613035680418           12310844                 0                   26   \n",
       "305   7613035214798           12278098                 1                   26   \n",
       "306   7613035214811           12278099                 1                   26   \n",
       "307   7613035417045           12294770                 1                   26   \n",
       "308   7613035417298           12294793                 1                   26   \n",
       "309   7613035125032           12272683                 1                   26   \n",
       "310   7613035123779           12272646                 1                   26   \n",
       "311   7613035123779           12272618                 1                   26   \n",
       "312   7613036152464           12342772                 0                   26   \n",
       "313   7613036149341           12342525                 0                   26   \n",
       "314   7613036152464           12342772                 0                   26   \n",
       "315   7613034083746           12338885                 1                   26   \n",
       "316   7613034083784           12338883                 1                   26   \n",
       "317   7613034819758           12251948                 1                   26   \n",
       "318   7613036152488           12342773                 0                   26   \n",
       "319   7613034819406           12338878                 1                   26   \n",
       "320   7613036627306           12378468                 0                   26   \n",
       "321   7613035551411           12303229                 1                   26   \n",
       "322   7613036627856           12378448                 0                   26   \n",
       "\n",
       "                        PPR_ART_CLASS_DESC PPR_TAX_CODE  PPR_APA_DESC  \n",
       "0    Premium Brands by P, Nestle and Hills          Low           SKU  \n",
       "1    Premium Brands by P, Nestle and Hills          Low           SKU  \n",
       "2    Premium Brands by P, Nestle and Hills          Low           SKU  \n",
       "3    Premium Brands by P, Nestle and Hills          Low           SKU  \n",
       "4    Premium Brands by P, Nestle and Hills          Low           SKU  \n",
       "5    Premium Brands by P, Nestle and Hills          Low           SKU  \n",
       "6    Premium Brands by P, Nestle and Hills          Low           SKU  \n",
       "7    Premium Brands by P, Nestle and Hills          Low           SKU  \n",
       "8    Premium Brands by P, Nestle and Hills          Low           SKU  \n",
       "9    Premium Brands by P, Nestle and Hills          Low           SKU  \n",
       "10   Premium Brands by P, Nestle and Hills          Low           SKU  \n",
       "11   Premium Brands by P, Nestle and Hills          Low           SKU  \n",
       "12   Premium Brands by P, Nestle and Hills          Low           SKU  \n",
       "13   Premium Brands by P, Nestle and Hills          Low           SKU  \n",
       "14   Premium Brands by P, Nestle and Hills          Low           SKU  \n",
       "15   Premium Brands by P, Nestle and Hills          Low           SKU  \n",
       "16   Premium Brands by P, Nestle and Hills          Low           SKU  \n",
       "17   Premium Brands by P, Nestle and Hills          Low           SKU  \n",
       "18   Premium Brands by P, Nestle and Hills          Low           SKU  \n",
       "19   Premium Brands by P, Nestle and Hills          Low           SKU  \n",
       "20   Premium Brands by P, Nestle and Hills          Low           SKU  \n",
       "21   Premium Brands by P, Nestle and Hills         High           SKU  \n",
       "22   Premium Brands by P, Nestle and Hills         High           SKU  \n",
       "23   Premium Brands by P, Nestle and Hills          Low           SKU  \n",
       "24   Premium Brands by P, Nestle and Hills          Low           SKU  \n",
       "25   Premium Brands by P, Nestle and Hills          Low           SKU  \n",
       "26   Premium Brands by P, Nestle and Hills          Low           SKU  \n",
       "27   Premium Brands by P, Nestle and Hills          Low           SKU  \n",
       "28   Premium Brands by P, Nestle and Hills          Low           SKU  \n",
       "29   Premium Brands by P, Nestle and Hills         High           SKU  \n",
       "..                                     ...          ...           ...  \n",
       "293  Premium Brands by P, Nestle and Hills          Low           SKU  \n",
       "294  Premium Brands by P, Nestle and Hills          Low           SKU  \n",
       "295  Premium Brands by P, Nestle and Hills          Low           SKU  \n",
       "296  Premium Brands by P, Nestle and Hills          Low           SKU  \n",
       "297  Premium Brands by P, Nestle and Hills          Low           SKU  \n",
       "298  Premium Brands by P, Nestle and Hills          Low           SKU  \n",
       "299  Premium Brands by P, Nestle and Hills          Low           SKU  \n",
       "300  Premium Brands by P, Nestle and Hills          Low           SKU  \n",
       "301  Premium Brands by P, Nestle and Hills          Low           SKU  \n",
       "302  Premium Brands by P, Nestle and Hills          Low           SKU  \n",
       "303  Premium Brands by P, Nestle and Hills          Low           SKU  \n",
       "304  Premium Brands by P, Nestle and Hills          Low           SKU  \n",
       "305  Premium Brands by P, Nestle and Hills          Low           SKU  \n",
       "306  Premium Brands by P, Nestle and Hills          Low           SKU  \n",
       "307  Premium Brands by P, Nestle and Hills          Low           SKU  \n",
       "308  Premium Brands by P, Nestle and Hills          Low           SKU  \n",
       "309  Premium Brands by P, Nestle and Hills          Low           SKU  \n",
       "310  Premium Brands by P, Nestle and Hills          Low           SKU  \n",
       "311  Premium Brands by P, Nestle and Hills          Low           SKU  \n",
       "312  Premium Brands by P, Nestle and Hills          Low           SKU  \n",
       "313  Premium Brands by P, Nestle and Hills          Low           SKU  \n",
       "314  Premium Brands by P, Nestle and Hills          Low           SKU  \n",
       "315  Premium Brands by P, Nestle and Hills          Low           SKU  \n",
       "316  Premium Brands by P, Nestle and Hills          Low           SKU  \n",
       "317  Premium Brands by P, Nestle and Hills          Low           SKU  \n",
       "318  Premium Brands by P, Nestle and Hills          Low           SKU  \n",
       "319  Premium Brands by P, Nestle and Hills          Low           SKU  \n",
       "320  Premium Brands by P, Nestle and Hills          Low           SKU  \n",
       "321  Premium Brands by P, Nestle and Hills          Low           SKU  \n",
       "322  Premium Brands by P, Nestle and Hills          Low           SKU  \n",
       "\n",
       "[323 rows x 55 columns]"
      ]
     },
     "execution_count": 66,
     "metadata": {},
     "output_type": "execute_result"
    }
   ],
   "source": [
    "pg4ids"
   ]
  },
  {
   "cell_type": "code",
   "execution_count": 67,
   "metadata": {
    "ExecuteTime": {
     "end_time": "2018-09-17T08:10:36.887924Z",
     "start_time": "2018-09-17T08:10:36.882925Z"
    }
   },
   "outputs": [],
   "source": [
    "proplan_arts = list(set(pg4ids['PPR_N_PHY_ARTICLE_ID']))"
   ]
  },
  {
   "cell_type": "code",
   "execution_count": 68,
   "metadata": {
    "ExecuteTime": {
     "end_time": "2018-09-17T08:10:37.212846Z",
     "start_time": "2018-09-17T08:10:36.887924Z"
    }
   },
   "outputs": [],
   "source": [
    "proplan_names = list(data[data['SCM_AP_ID'].isin(proplan_arts)]['PP_NAME'].unique())"
   ]
  },
  {
   "cell_type": "code",
   "execution_count": 69,
   "metadata": {
    "ExecuteTime": {
     "end_time": "2018-09-17T08:10:37.217845Z",
     "start_time": "2018-09-17T08:10:37.212846Z"
    }
   },
   "outputs": [
    {
     "data": {
      "text/plain": [
       "55"
      ]
     },
     "execution_count": 69,
     "metadata": {},
     "output_type": "execute_result"
    }
   ],
   "source": [
    "len(proplan_names)"
   ]
  },
  {
   "cell_type": "code",
   "execution_count": 70,
   "metadata": {
    "ExecuteTime": {
     "end_time": "2018-09-17T08:10:37.237840Z",
     "start_time": "2018-09-17T08:10:37.217845Z"
    }
   },
   "outputs": [
    {
     "data": {
      "text/plain": [
       "['Pro Plan Medium Adult Sensitive Digestion Huhn & Reis',\n",
       " 'Pro Plan All sizes Adult Performance Huhn & Reis',\n",
       " 'Pro Plan Medium Adult Huhn & Reis',\n",
       " 'Pro Plan Large Adult Robust Huhn & Reis',\n",
       " 'Pro Plan All sizes Adult Light Sterilised Huhn & Reis',\n",
       " 'Pro Plan Large Puppy Robust Huhn & Reis',\n",
       " 'Pro Plan Large Ath. Adult Lamm',\n",
       " 'Pro Plan Medium & Large Adult 7+ Huhn & Reis',\n",
       " 'Pro Plan Large Puppy Athletic Huhn & Reis',\n",
       " 'Pro Plan Medium Puppy Lamm',\n",
       " 'Pro Plan Medium Puppy Sensitive Skin Lachs & Reis',\n",
       " 'Pro Plan Medium Adult Lamm',\n",
       " 'Pro Plan Medium & Large Adult 7+ Sensitive Skin Lachs & Reis',\n",
       " 'Pro Plan Small & Mini Adult Huhn & Reis',\n",
       " 'Pro Plan Large Adult Atheltic Huhn & Reis',\n",
       " 'Pro Plan Medium Adult Sensitive Skin Lachs & Reis',\n",
       " 'Pro Plan Small & Mini Adult Sensitive Skin Lachs & Reis',\n",
       " 'Pro Plan Small and Mini Stv Digestion Chicken',\n",
       " 'Pro Plan Small & Mini Puppy Huhn & Reis',\n",
       " 'Pro Plan Small & Mini Puppy Sensitive Skin Lachs & Reis',\n",
       " 'Pro Plan Medium Puppy Sensitive Digestion Huhn & Reis',\n",
       " 'PP Large Adult Athletic Sensitive Skin Salmon',\n",
       " 'PP Large Adult Robust Sensitive Skin Salmon',\n",
       " 'Pro Plan Medium Puppy Huhn & Reis',\n",
       " 'Pro Plan Large Robust Adult Lamm',\n",
       " 'Pro Plan Dental Plus',\n",
       " 'Pro Plan Cat Adult Cat Huhn & Reis',\n",
       " 'Pro Plan Cat Sterilised reich an Truthahn',\n",
       " 'Pro Plan Derma Plus',\n",
       " 'Pro Plan Cat Adult Delicate',\n",
       " 'Pro Plan Cat Adult Light',\n",
       " 'Pro Plan Cat Sterilised reich an Lachs',\n",
       " 'Pro Plan Cat Housecat',\n",
       " 'PRO PLAN HOUSE CAT',\n",
       " 'PRO PLAN CAT DELICATE',\n",
       " 'PRO PLAN ADULT CAT SALMON',\n",
       " 'PRO PLAN STERILISED CAT',\n",
       " 'PRO PLAN STERILISED ADULT 7+ -  Turkey',\n",
       " 'PRO PLAN JUNIOR CAT CHICKEN',\n",
       " 'PRO PLAN LIGHT CAT TURKEY',\n",
       " 'PRO PLAN STERILISED -  rabbit',\n",
       " 'PRO PLAN ADULT CAT CHICKEN',\n",
       " 'PRO PLAN ADULT 7+ CAT CHICKEN',\n",
       " 'Pro Plan Kitten/Junior  Huhn & Reis',\n",
       " 'Pro Plan Duo Delice Lachs',\n",
       " 'PRO PLAN Duo Delice Adult Rind',\n",
       " 'Pro Plan Duo Delice Small Breed',\n",
       " 'Pro Plan Duo Delice Huhn',\n",
       " 'MP Pro Plan Cat STERILISED 24x85g',\n",
       " 'Pro Plan Adult 85 g',\n",
       " 'MP Pro Plan Cat KITTEN 24x85g',\n",
       " 'MP Pro Plan Cat ADULT 7+ 24x85g',\n",
       " 'MP Pro Plan Cat ADULT 24x85g',\n",
       " 'MP Pro Plan Cat DELICATE  24x85g',\n",
       " 'MP Pro Plan Cat LIGHT 24x 85g']"
      ]
     },
     "execution_count": 70,
     "metadata": {},
     "output_type": "execute_result"
    }
   ],
   "source": [
    "proplan_names"
   ]
  },
  {
   "cell_type": "code",
   "execution_count": 71,
   "metadata": {
    "ExecuteTime": {
     "end_time": "2018-09-17T08:10:37.517773Z",
     "start_time": "2018-09-17T08:10:37.237840Z"
    }
   },
   "outputs": [],
   "source": [
    "#Let's create a flag for this order positions including ProPlan articles\n",
    "data['IS_PRO_PLAN_ART'] = (data['SCM_AP_ID'].isin(proplan_arts)) * 1"
   ]
  },
  {
   "cell_type": "code",
   "execution_count": 72,
   "metadata": {
    "ExecuteTime": {
     "end_time": "2018-09-17T08:10:37.840195Z",
     "start_time": "2018-09-17T08:10:37.517773Z"
    }
   },
   "outputs": [
    {
     "data": {
      "text/html": [
       "<div>\n",
       "<style scoped>\n",
       "    .dataframe tbody tr th:only-of-type {\n",
       "        vertical-align: middle;\n",
       "    }\n",
       "\n",
       "    .dataframe tbody tr th {\n",
       "        vertical-align: top;\n",
       "    }\n",
       "\n",
       "    .dataframe thead th {\n",
       "        text-align: right;\n",
       "    }\n",
       "</style>\n",
       "<table border=\"1\" class=\"dataframe\">\n",
       "  <thead>\n",
       "    <tr style=\"text-align: right;\">\n",
       "      <th></th>\n",
       "      <th>PP_NAME</th>\n",
       "      <th>POS_VALID</th>\n",
       "      <th>SCM_SALES_BMF</th>\n",
       "      <th>SCM_SALES_CANCEL_BMF</th>\n",
       "      <th>IS_PRO_PLAN_ART</th>\n",
       "    </tr>\n",
       "  </thead>\n",
       "  <tbody>\n",
       "    <tr>\n",
       "      <th>519562</th>\n",
       "      <td>Xmas plush ice bear dog toy</td>\n",
       "      <td>1</td>\n",
       "      <td>3.9900</td>\n",
       "      <td>0.0</td>\n",
       "      <td>0</td>\n",
       "    </tr>\n",
       "    <tr>\n",
       "      <th>165120</th>\n",
       "      <td>RAZAS  Schinkenknochen</td>\n",
       "      <td>1</td>\n",
       "      <td>9.9900</td>\n",
       "      <td>0.0</td>\n",
       "      <td>0</td>\n",
       "    </tr>\n",
       "    <tr>\n",
       "      <th>3944179</th>\n",
       "      <td>Hill's Science Plan Sterilised Cat Young Adult</td>\n",
       "      <td>1</td>\n",
       "      <td>92.9900</td>\n",
       "      <td>0.0</td>\n",
       "      <td>0</td>\n",
       "    </tr>\n",
       "    <tr>\n",
       "      <th>953527</th>\n",
       "      <td>Seresto Collier Katze (FR)</td>\n",
       "      <td>1</td>\n",
       "      <td>20.9900</td>\n",
       "      <td>0.0</td>\n",
       "      <td>0</td>\n",
       "    </tr>\n",
       "    <tr>\n",
       "      <th>784497</th>\n",
       "      <td>Tigeria 7 Snacks</td>\n",
       "      <td>1</td>\n",
       "      <td>0.0000</td>\n",
       "      <td>0.0</td>\n",
       "      <td>0</td>\n",
       "    </tr>\n",
       "    <tr>\n",
       "      <th>2505597</th>\n",
       "      <td>Feliway DE</td>\n",
       "      <td>1</td>\n",
       "      <td>16.9900</td>\n",
       "      <td>0.0</td>\n",
       "      <td>0</td>\n",
       "    </tr>\n",
       "    <tr>\n",
       "      <th>2824470</th>\n",
       "      <td>Smilla Trockenfutter Adult Sterilised</td>\n",
       "      <td>1</td>\n",
       "      <td>3.9900</td>\n",
       "      <td>0.0</td>\n",
       "      <td>0</td>\n",
       "    </tr>\n",
       "    <tr>\n",
       "      <th>3977215</th>\n",
       "      <td>Bozita Häppchen in Gelee 370 g</td>\n",
       "      <td>1</td>\n",
       "      <td>6.9900</td>\n",
       "      <td>0.0</td>\n",
       "      <td>0</td>\n",
       "    </tr>\n",
       "    <tr>\n",
       "      <th>962366</th>\n",
       "      <td>Cuni Nature Kaninchenfutter</td>\n",
       "      <td>1</td>\n",
       "      <td>8.9900</td>\n",
       "      <td>0.0</td>\n",
       "      <td>0</td>\n",
       "    </tr>\n",
       "    <tr>\n",
       "      <th>1558637</th>\n",
       "      <td>NaN</td>\n",
       "      <td>1</td>\n",
       "      <td>-1.2900</td>\n",
       "      <td>0.0</td>\n",
       "      <td>0</td>\n",
       "    </tr>\n",
       "    <tr>\n",
       "      <th>2734647</th>\n",
       "      <td>Advance Veterinary Diets RENAL</td>\n",
       "      <td>1</td>\n",
       "      <td>12.9900</td>\n",
       "      <td>0.0</td>\n",
       "      <td>0</td>\n",
       "    </tr>\n",
       "    <tr>\n",
       "      <th>152379</th>\n",
       "      <td>Tigerino LAVENDER Crystals</td>\n",
       "      <td>1</td>\n",
       "      <td>24.9900</td>\n",
       "      <td>0.0</td>\n",
       "      <td>0</td>\n",
       "    </tr>\n",
       "    <tr>\n",
       "      <th>3653789</th>\n",
       "      <td>Savings Plan</td>\n",
       "      <td>1</td>\n",
       "      <td>5.9900</td>\n",
       "      <td>0.0</td>\n",
       "      <td>0</td>\n",
       "    </tr>\n",
       "    <tr>\n",
       "      <th>1645194</th>\n",
       "      <td>NaN</td>\n",
       "      <td>1</td>\n",
       "      <td>-5.0000</td>\n",
       "      <td>0.0</td>\n",
       "      <td>0</td>\n",
       "    </tr>\n",
       "    <tr>\n",
       "      <th>1077709</th>\n",
       "      <td>Miamor Feine Filets Frischebeutel 100 g</td>\n",
       "      <td>1</td>\n",
       "      <td>0.8725</td>\n",
       "      <td>0.0</td>\n",
       "      <td>0</td>\n",
       "    </tr>\n",
       "    <tr>\n",
       "      <th>4543</th>\n",
       "      <td>Spot´n Go Spot-on für große Hunde</td>\n",
       "      <td>1</td>\n",
       "      <td>0.0000</td>\n",
       "      <td>0.0</td>\n",
       "      <td>0</td>\n",
       "    </tr>\n",
       "    <tr>\n",
       "      <th>245896</th>\n",
       "      <td>Hill´s PD - Canine J/D</td>\n",
       "      <td>1</td>\n",
       "      <td>117.9900</td>\n",
       "      <td>0.0</td>\n",
       "      <td>0</td>\n",
       "    </tr>\n",
       "    <tr>\n",
       "      <th>4227066</th>\n",
       "      <td>Megapack Gourmet Gold Feine Pastete 12 x 85g</td>\n",
       "      <td>1</td>\n",
       "      <td>14.6220</td>\n",
       "      <td>0.0</td>\n",
       "      <td>0</td>\n",
       "    </tr>\n",
       "    <tr>\n",
       "      <th>2447062</th>\n",
       "      <td>Cookie´s Delikatess Kaurolle mit Hühnchenfilet...</td>\n",
       "      <td>1</td>\n",
       "      <td>3.4900</td>\n",
       "      <td>0.0</td>\n",
       "      <td>0</td>\n",
       "    </tr>\n",
       "    <tr>\n",
       "      <th>3513368</th>\n",
       "      <td>Megapack Lukullus 6 x 800 g</td>\n",
       "      <td>1</td>\n",
       "      <td>0.0000</td>\n",
       "      <td>0.0</td>\n",
       "      <td>0</td>\n",
       "    </tr>\n",
       "  </tbody>\n",
       "</table>\n",
       "</div>"
      ],
      "text/plain": [
       "                                                   PP_NAME  POS_VALID  \\\n",
       "519562                         Xmas plush ice bear dog toy          1   \n",
       "165120                              RAZAS  Schinkenknochen          1   \n",
       "3944179     Hill's Science Plan Sterilised Cat Young Adult          1   \n",
       "953527                          Seresto Collier Katze (FR)          1   \n",
       "784497                                    Tigeria 7 Snacks          1   \n",
       "2505597                                        Feliway DE           1   \n",
       "2824470              Smilla Trockenfutter Adult Sterilised          1   \n",
       "3977215                     Bozita Häppchen in Gelee 370 g          1   \n",
       "962366                         Cuni Nature Kaninchenfutter          1   \n",
       "1558637                                                NaN          1   \n",
       "2734647                     Advance Veterinary Diets RENAL          1   \n",
       "152379                          Tigerino LAVENDER Crystals          1   \n",
       "3653789                                       Savings Plan          1   \n",
       "1645194                                                NaN          1   \n",
       "1077709            Miamor Feine Filets Frischebeutel 100 g          1   \n",
       "4543                     Spot´n Go Spot-on für große Hunde          1   \n",
       "245896                              Hill´s PD - Canine J/D          1   \n",
       "4227066       Megapack Gourmet Gold Feine Pastete 12 x 85g          1   \n",
       "2447062  Cookie´s Delikatess Kaurolle mit Hühnchenfilet...          1   \n",
       "3513368                        Megapack Lukullus 6 x 800 g          1   \n",
       "\n",
       "         SCM_SALES_BMF  SCM_SALES_CANCEL_BMF  IS_PRO_PLAN_ART  \n",
       "519562          3.9900                   0.0                0  \n",
       "165120          9.9900                   0.0                0  \n",
       "3944179        92.9900                   0.0                0  \n",
       "953527         20.9900                   0.0                0  \n",
       "784497          0.0000                   0.0                0  \n",
       "2505597        16.9900                   0.0                0  \n",
       "2824470         3.9900                   0.0                0  \n",
       "3977215         6.9900                   0.0                0  \n",
       "962366          8.9900                   0.0                0  \n",
       "1558637        -1.2900                   0.0                0  \n",
       "2734647        12.9900                   0.0                0  \n",
       "152379         24.9900                   0.0                0  \n",
       "3653789         5.9900                   0.0                0  \n",
       "1645194        -5.0000                   0.0                0  \n",
       "1077709         0.8725                   0.0                0  \n",
       "4543            0.0000                   0.0                0  \n",
       "245896        117.9900                   0.0                0  \n",
       "4227066        14.6220                   0.0                0  \n",
       "2447062         3.4900                   0.0                0  \n",
       "3513368         0.0000                   0.0                0  "
      ]
     },
     "execution_count": 72,
     "metadata": {},
     "output_type": "execute_result"
    }
   ],
   "source": [
    "data[['PP_NAME', 'POS_VALID', 'SCM_SALES_BMF', 'SCM_SALES_CANCEL_BMF', 'IS_PRO_PLAN_ART']].sample(20)"
   ]
  },
  {
   "cell_type": "code",
   "execution_count": 73,
   "metadata": {
    "ExecuteTime": {
     "end_time": "2018-09-17T08:10:37.867689Z",
     "start_time": "2018-09-17T08:10:37.840195Z"
    }
   },
   "outputs": [],
   "source": [
    "# Get Pro Plan Articles order positions\n",
    "proplan_o_pos = data[data['IS_PRO_PLAN_ART'] == 1]"
   ]
  },
  {
   "cell_type": "code",
   "execution_count": 74,
   "metadata": {
    "ExecuteTime": {
     "end_time": "2018-09-17T08:10:37.887684Z",
     "start_time": "2018-09-17T08:10:37.867689Z"
    }
   },
   "outputs": [],
   "source": [
    "pp_o_pos = proplan_o_pos.copy()"
   ]
  },
  {
   "cell_type": "code",
   "execution_count": 75,
   "metadata": {
    "ExecuteTime": {
     "end_time": "2018-09-17T08:10:37.895182Z",
     "start_time": "2018-09-17T08:10:37.887684Z"
    }
   },
   "outputs": [],
   "source": [
    "pp_o_pos['PP_SALES'] = pp_o_pos['SCM_SALES_BMF'] * pp_o_pos['POS_VALID']"
   ]
  },
  {
   "cell_type": "code",
   "execution_count": 76,
   "metadata": {
    "ExecuteTime": {
     "end_time": "2018-09-17T08:10:37.932673Z",
     "start_time": "2018-09-17T08:10:37.895182Z"
    }
   },
   "outputs": [
    {
     "data": {
      "text/plain": [
       "CZP_ZTQ_ID\n",
       "51     890923.17\n",
       "52    1263273.76\n",
       "53     624539.50\n",
       "54    1080932.21\n",
       "Name: PP_SALES, dtype: float64"
      ]
     },
     "execution_count": 76,
     "metadata": {},
     "output_type": "execute_result"
    }
   ],
   "source": [
    "# Quantify ProPlan Articles Sales per Tier Qualifier\n",
    "proplan_sales_per_tier = pp_o_pos.groupby('CZP_ZTQ_ID')['PP_SALES'].sum().round(2)\n",
    "proplan_sales_per_tier"
   ]
  },
  {
   "cell_type": "code",
   "execution_count": 77,
   "metadata": {
    "ExecuteTime": {
     "end_time": "2018-09-17T08:10:37.975163Z",
     "start_time": "2018-09-17T08:10:37.932673Z"
    }
   },
   "outputs": [
    {
     "data": {
      "text/plain": [
       "CZP_ZTQ_ID\n",
       "51    22992806.16\n",
       "52    21669984.65\n",
       "53    13216593.71\n",
       "54    14581955.25\n",
       "Name: BASKET_VALUE, dtype: float64"
      ]
     },
     "execution_count": 77,
     "metadata": {},
     "output_type": "execute_result"
    }
   ],
   "source": [
    "# Obtain Sales Per Tier Qualifier\n",
    "sales_per_tier = order_values_per_tier.groupby('CZP_ZTQ_ID')['BASKET_VALUE'].sum().round(2)\n",
    "sales_per_tier"
   ]
  },
  {
   "cell_type": "markdown",
   "metadata": {},
   "source": [
    "**Share of ProPlan Sales per Tier:**"
   ]
  },
  {
   "cell_type": "code",
   "execution_count": 78,
   "metadata": {
    "ExecuteTime": {
     "end_time": "2018-09-17T08:10:37.982661Z",
     "start_time": "2018-09-17T08:10:37.975163Z"
    }
   },
   "outputs": [
    {
     "data": {
      "text/plain": [
       "CZP_ZTQ_ID\n",
       "51    3.87\n",
       "52    5.83\n",
       "53    4.73\n",
       "54    7.41\n",
       "dtype: float64"
      ]
     },
     "execution_count": 78,
     "metadata": {},
     "output_type": "execute_result"
    }
   ],
   "source": [
    "share_s_pp_tier = (proplan_sales_per_tier/sales_per_tier * 100).round(2) \n",
    "share_s_pp_tier"
   ]
  },
  {
   "cell_type": "code",
   "execution_count": 79,
   "metadata": {
    "ExecuteTime": {
     "end_time": "2018-09-17T08:10:38.135125Z",
     "start_time": "2018-09-17T08:10:37.982661Z"
    }
   },
   "outputs": [
    {
     "data": {
      "image/png": "[encoded data removed]",
      "text/plain": [
       "<matplotlib.figure.Figure at 0x11d1d438>"
      ]
     },
     "metadata": {},
     "output_type": "display_data"
    }
   ],
   "source": [
    "plt.figure(figsize=(12, 4))\n",
    "share_s_pp_tier.plot(kind='barh')\n",
    "plt.title('Share of ProPlan articles Sales per Tier')\n",
    "plt.xlabel('Percentage %')\n",
    "plt.grid()"
   ]
  },
  {
   "cell_type": "markdown",
   "metadata": {},
   "source": [
    "#### Share of Orders with Proplan per Tier"
   ]
  },
  {
   "cell_type": "code",
   "execution_count": 80,
   "metadata": {
    "ExecuteTime": {
     "end_time": "2018-09-17T08:10:38.157619Z",
     "start_time": "2018-09-17T08:10:38.135125Z"
    }
   },
   "outputs": [
    {
     "data": {
      "text/plain": [
       "CZP_ZTQ_ID\n",
       "51    15606\n",
       "52    18619\n",
       "53     9969\n",
       "54    14123\n",
       "Name: SCM_N_ORDER_NR, dtype: int64"
      ]
     },
     "execution_count": 80,
     "metadata": {},
     "output_type": "execute_result"
    }
   ],
   "source": [
    "# Orders having ProPlan articles per Tier\n",
    "orders_with_proplan_per_tier = proplan_o_pos.groupby('CZP_ZTQ_ID')['SCM_N_ORDER_NR'].nunique()\n",
    "orders_with_proplan_per_tier"
   ]
  },
  {
   "cell_type": "code",
   "execution_count": 81,
   "metadata": {
    "ExecuteTime": {
     "end_time": "2018-09-17T08:10:39.247358Z",
     "start_time": "2018-09-17T08:10:38.157619Z"
    }
   },
   "outputs": [
    {
     "data": {
      "text/plain": [
       "CZP_ZTQ_ID\n",
       "51    303170\n",
       "52    250040\n",
       "53    165384\n",
       "54    156479\n",
       "Name: SCM_N_ORDER_NR, dtype: int64"
      ]
     },
     "execution_count": 81,
     "metadata": {},
     "output_type": "execute_result"
    }
   ],
   "source": [
    "# Total orders per Tier\n",
    "orders_per_tier = data.groupby('CZP_ZTQ_ID')['SCM_N_ORDER_NR'].nunique()\n",
    "orders_per_tier"
   ]
  },
  {
   "cell_type": "code",
   "execution_count": 82,
   "metadata": {
    "ExecuteTime": {
     "end_time": "2018-09-17T08:10:39.369828Z",
     "start_time": "2018-09-17T08:10:39.247358Z"
    }
   },
   "outputs": [
    {
     "data": {
      "image/png": "[encoded data removed]",
      "text/plain": [
       "<matplotlib.figure.Figure at 0x11d1d198>"
      ]
     },
     "metadata": {},
     "output_type": "display_data"
    }
   ],
   "source": [
    "share_o_pp_tier = (orders_with_proplan_per_tier / orders_per_tier * 100).round(2)\n",
    "plt.figure(figsize=(12, 4))\n",
    "share_o_pp_tier.plot(kind='barh')\n",
    "plt.title('Share of orders including Pro Plan articles per Tier')\n",
    "plt.xlabel('Percentage %')\n",
    "plt.grid()"
   ]
  },
  {
   "cell_type": "code",
   "execution_count": 83,
   "metadata": {
    "ExecuteTime": {
     "end_time": "2018-09-17T08:10:39.377326Z",
     "start_time": "2018-09-17T08:10:39.369828Z"
    }
   },
   "outputs": [
    {
     "data": {
      "text/plain": [
       "CZP_ZTQ_ID\n",
       "51    5.15\n",
       "52    7.45\n",
       "53    6.03\n",
       "54    9.03\n",
       "Name: SCM_N_ORDER_NR, dtype: float64"
      ]
     },
     "execution_count": 83,
     "metadata": {},
     "output_type": "execute_result"
    }
   ],
   "source": [
    "# Share of orders with Pro Plan articles per Tier\n",
    "share_o_pp_tier"
   ]
  },
  {
   "cell_type": "code",
   "execution_count": 84,
   "metadata": {
    "ExecuteTime": {
     "end_time": "2018-09-17T08:10:39.409819Z",
     "start_time": "2018-09-17T08:10:39.377326Z"
    }
   },
   "outputs": [
    {
     "data": {
      "text/plain": [
       "0.07"
      ]
     },
     "execution_count": 84,
     "metadata": {},
     "output_type": "execute_result"
    }
   ],
   "source": [
    "# Share of total orders having ProPlan articles (7%)\n",
    "(orders_with_proplan_per_tier.sum() / orders_per_tier.sum()).round(2) * 100"
   ]
  },
  {
   "cell_type": "markdown",
   "metadata": {},
   "source": [
    "#### Repurchasing rate within specific time period per Tier"
   ]
  },
  {
   "cell_type": "code",
   "execution_count": 85,
   "metadata": {
    "ExecuteTime": {
     "end_time": "2018-09-17T08:10:39.587276Z",
     "start_time": "2018-09-17T08:10:39.409819Z"
    }
   },
   "outputs": [
    {
     "data": {
      "text/plain": [
       "161937"
      ]
     },
     "execution_count": 85,
     "metadata": {},
     "output_type": "execute_result"
    }
   ],
   "source": [
    "data['CUS_N_KEY_CUSTOMER'].nunique()"
   ]
  },
  {
   "cell_type": "code",
   "execution_count": 86,
   "metadata": {
    "ExecuteTime": {
     "end_time": "2018-09-17T11:04:07.920751Z",
     "start_time": "2018-09-17T08:10:39.587276Z"
    }
   },
   "outputs": [
    {
     "name": "stdout",
     "output_type": "stream",
     "text": [
      "0\n",
      "10000\n",
      "20000\n",
      "30000\n",
      "40000\n",
      "50000\n",
      "60000\n",
      "70000\n",
      "80000\n",
      "90000\n",
      "100000\n",
      "110000\n",
      "120000\n",
      "130000\n",
      "140000\n",
      "150000\n"
     ]
    },
    {
     "name": "stderr",
     "output_type": "stream",
     "text": [
      "cleaning_n_formatting.py:28: RuntimeWarning: invalid value encountered in double_scalars\n",
      "  #Convert date to calendar week number and month number\n",
      "cleaning_n_formatting.py:31: RuntimeWarning: invalid value encountered in double_scalars\n",
      "  \n"
     ]
    },
    {
     "name": "stdout",
     "output_type": "stream",
     "text": [
      "160000\n"
     ]
    }
   ],
   "source": [
    "#Run calculation at a customer level\n",
    "customers = pd.DataFrame(columns=['CUSTOMER_ID', 'TIER', 'ORDERS', '1ST_O_DATE', '1ST_O_COUNT',\n",
    "                                  '28D_DATE', 'N_28D', '56D_DATE', 'N_56D', '84D_DATE','N_84D', '180D_DATE','N_180D', \n",
    "                                  'SALES', 'NET_SALES', 'BASKET_AVG', \n",
    "                                  'CM1', 'CM1_AVG', 'CM1%', 'CM2', 'CM2_AVG', 'CM2%'\n",
    "                                  ])\n",
    "\n",
    "for n, cus in enumerate(data['CUS_N_KEY_CUSTOMER'].unique()):\n",
    "    cus_data = data[data['CUS_N_KEY_CUSTOMER'] == cus]\n",
    "    tier = cus_data['CZP_ZTQ_ID'].unique()\n",
    "    orders = cus_data['SCM_N_ORDER_NR'].nunique()\n",
    "    first_ord_in_ds = cus_data['OSP_KO_COUNT_NET'].min()\n",
    "    first_order_date = cus_data[cus_data['OSP_KO_COUNT_NET'] == first_ord_in_ds]['TDT_T_KEY_ORDER_DATE'].dt.date.unique()[0]\n",
    "    rep_date_28 = first_order_date + timedelta(days = 28)\n",
    "    rep_date_56 = first_order_date + timedelta(days = 56)\n",
    "    rep_date_84 = first_order_date + timedelta(days = 84)\n",
    "    rep_date_180 = first_order_date + timedelta(days = 180)\n",
    "    n_orders_28d = cus_data[cus_data['TDT_T_KEY_ORDER_DATE'].dt.date <= rep_date_28]['OSP_KO_COUNT_NET'].max()\n",
    "    n_orders_56d = cus_data[cus_data['TDT_T_KEY_ORDER_DATE'].dt.date <= rep_date_56]['OSP_KO_COUNT_NET'].max()\n",
    "    n_orders_84d = cus_data[cus_data['TDT_T_KEY_ORDER_DATE'].dt.date <= rep_date_84]['OSP_KO_COUNT_NET'].max()\n",
    "    n_orders_180d = cus_data[cus_data['TDT_T_KEY_ORDER_DATE'].dt.date <= rep_date_180]['OSP_KO_COUNT_NET'].max()\n",
    "        \n",
    "    sales = (cus_data['SCM_SALES_BMF'] * cus_data['POS_VALID']).sum()\n",
    "    net_sales = (cus_data['SCM_D_ORIG_FINANCE_ORDER_NET'] * cus_data['POS_VALID']).sum()\n",
    "    basket_avg = sales / orders\n",
    "    cm1 = (cus_data['SCM_D_FINANCE_CM1'] * cus_data['POS_VALID']).sum()\n",
    "    cm1_avg = cm1 / orders\n",
    "    cm1_perc = cm1 / net_sales * 100\n",
    "    cm2 = (cus_data['SCM_D_FINANCE_CM2'] * cus_data['POS_VALID']).sum()\n",
    "    cm2_avg = cm2 / orders\n",
    "    cm2_perc = cm2 / net_sales * 100\n",
    "    \n",
    "    row_ = [cus, tier, orders, first_order_date, first_ord_in_ds, rep_date_28, n_orders_28d, rep_date_56,\n",
    "            n_orders_56d, rep_date_84, n_orders_84d, rep_date_180, n_orders_180d,\n",
    "            sales, net_sales, basket_avg, cm1, cm1_avg, cm1_perc, cm2, cm2_avg, cm2_perc]\n",
    "    row_ = pd.DataFrame([row_], columns=customers.columns)\n",
    "    customers = pd.concat([customers, row_], ignore_index=True)\n",
    "    \n",
    "    if n % 10000 == 0:\n",
    "        print(n)"
   ]
  },
  {
   "cell_type": "code",
   "execution_count": 87,
   "metadata": {
    "ExecuteTime": {
     "end_time": "2018-09-17T11:04:15.957751Z",
     "start_time": "2018-09-17T11:04:07.921751Z"
    }
   },
   "outputs": [],
   "source": [
    "customers.to_csv('customers_fr_sp_tiers_4_5_01072017_30062018.csv', sep=';' , index=False, encoding='utf-8')"
   ]
  },
  {
   "cell_type": "code",
   "execution_count": 88,
   "metadata": {
    "ExecuteTime": {
     "end_time": "2018-09-17T11:04:15.963751Z",
     "start_time": "2018-09-17T11:04:15.959751Z"
    }
   },
   "outputs": [],
   "source": [
    "#pd.read_csv"
   ]
  },
  {
   "cell_type": "code",
   "execution_count": 89,
   "metadata": {
    "ExecuteTime": {
     "end_time": "2018-09-17T11:04:16.015751Z",
     "start_time": "2018-09-17T11:04:15.965751Z"
    }
   },
   "outputs": [
    {
     "data": {
      "text/html": [
       "<div>\n",
       "<style scoped>\n",
       "    .dataframe tbody tr th:only-of-type {\n",
       "        vertical-align: middle;\n",
       "    }\n",
       "\n",
       "    .dataframe tbody tr th {\n",
       "        vertical-align: top;\n",
       "    }\n",
       "\n",
       "    .dataframe thead th {\n",
       "        text-align: right;\n",
       "    }\n",
       "</style>\n",
       "<table border=\"1\" class=\"dataframe\">\n",
       "  <thead>\n",
       "    <tr style=\"text-align: right;\">\n",
       "      <th></th>\n",
       "      <th>CUSTOMER_ID</th>\n",
       "      <th>TIER</th>\n",
       "      <th>ORDERS</th>\n",
       "      <th>1ST_O_DATE</th>\n",
       "      <th>1ST_O_COUNT</th>\n",
       "      <th>28D_DATE</th>\n",
       "      <th>N_28D</th>\n",
       "      <th>56D_DATE</th>\n",
       "      <th>N_56D</th>\n",
       "      <th>84D_DATE</th>\n",
       "      <th>...</th>\n",
       "      <th>N_180D</th>\n",
       "      <th>SALES</th>\n",
       "      <th>NET_SALES</th>\n",
       "      <th>BASKET_AVG</th>\n",
       "      <th>CM1</th>\n",
       "      <th>CM1_AVG</th>\n",
       "      <th>CM1%</th>\n",
       "      <th>CM2</th>\n",
       "      <th>CM2_AVG</th>\n",
       "      <th>CM2%</th>\n",
       "    </tr>\n",
       "  </thead>\n",
       "  <tbody>\n",
       "    <tr>\n",
       "      <th>0</th>\n",
       "      <td>8181197</td>\n",
       "      <td>[52]</td>\n",
       "      <td>4</td>\n",
       "      <td>2017-08-08</td>\n",
       "      <td>23</td>\n",
       "      <td>2017-09-05</td>\n",
       "      <td>23</td>\n",
       "      <td>2017-10-03</td>\n",
       "      <td>24</td>\n",
       "      <td>2017-10-31</td>\n",
       "      <td>...</td>\n",
       "      <td>25</td>\n",
       "      <td>178.20</td>\n",
       "      <td>148.50</td>\n",
       "      <td>44.55</td>\n",
       "      <td>30.60</td>\n",
       "      <td>7.65</td>\n",
       "      <td>20.61</td>\n",
       "      <td>-1.88</td>\n",
       "      <td>-0.47</td>\n",
       "      <td>-1.27</td>\n",
       "    </tr>\n",
       "    <tr>\n",
       "      <th>1</th>\n",
       "      <td>11978344</td>\n",
       "      <td>[54]</td>\n",
       "      <td>6</td>\n",
       "      <td>2017-08-09</td>\n",
       "      <td>15</td>\n",
       "      <td>2017-09-06</td>\n",
       "      <td>16</td>\n",
       "      <td>2017-10-04</td>\n",
       "      <td>16</td>\n",
       "      <td>2017-11-01</td>\n",
       "      <td>...</td>\n",
       "      <td>18</td>\n",
       "      <td>329.54</td>\n",
       "      <td>274.62</td>\n",
       "      <td>54.92</td>\n",
       "      <td>75.79</td>\n",
       "      <td>12.63</td>\n",
       "      <td>27.60</td>\n",
       "      <td>-5.67</td>\n",
       "      <td>-0.95</td>\n",
       "      <td>-2.07</td>\n",
       "    </tr>\n",
       "    <tr>\n",
       "      <th>2</th>\n",
       "      <td>10724090</td>\n",
       "      <td>[52]</td>\n",
       "      <td>5</td>\n",
       "      <td>2017-07-04</td>\n",
       "      <td>13</td>\n",
       "      <td>2017-08-01</td>\n",
       "      <td>13</td>\n",
       "      <td>2017-08-29</td>\n",
       "      <td>14</td>\n",
       "      <td>2017-09-26</td>\n",
       "      <td>...</td>\n",
       "      <td>16</td>\n",
       "      <td>410.23</td>\n",
       "      <td>341.86</td>\n",
       "      <td>82.05</td>\n",
       "      <td>80.30</td>\n",
       "      <td>16.06</td>\n",
       "      <td>23.49</td>\n",
       "      <td>4.52</td>\n",
       "      <td>0.90</td>\n",
       "      <td>1.32</td>\n",
       "    </tr>\n",
       "    <tr>\n",
       "      <th>3</th>\n",
       "      <td>13056972</td>\n",
       "      <td>[52]</td>\n",
       "      <td>4</td>\n",
       "      <td>2017-08-17</td>\n",
       "      <td>8</td>\n",
       "      <td>2017-09-14</td>\n",
       "      <td>8</td>\n",
       "      <td>2017-10-12</td>\n",
       "      <td>8</td>\n",
       "      <td>2017-11-09</td>\n",
       "      <td>...</td>\n",
       "      <td>10</td>\n",
       "      <td>225.97</td>\n",
       "      <td>188.31</td>\n",
       "      <td>56.49</td>\n",
       "      <td>50.45</td>\n",
       "      <td>12.61</td>\n",
       "      <td>26.79</td>\n",
       "      <td>13.54</td>\n",
       "      <td>3.39</td>\n",
       "      <td>7.19</td>\n",
       "    </tr>\n",
       "    <tr>\n",
       "      <th>4</th>\n",
       "      <td>13253210</td>\n",
       "      <td>[51]</td>\n",
       "      <td>6</td>\n",
       "      <td>2017-07-27</td>\n",
       "      <td>17</td>\n",
       "      <td>2017-08-24</td>\n",
       "      <td>17</td>\n",
       "      <td>2017-09-21</td>\n",
       "      <td>17</td>\n",
       "      <td>2017-10-19</td>\n",
       "      <td>...</td>\n",
       "      <td>19</td>\n",
       "      <td>368.27</td>\n",
       "      <td>306.89</td>\n",
       "      <td>61.38</td>\n",
       "      <td>78.57</td>\n",
       "      <td>13.10</td>\n",
       "      <td>25.60</td>\n",
       "      <td>25.75</td>\n",
       "      <td>4.29</td>\n",
       "      <td>8.39</td>\n",
       "    </tr>\n",
       "  </tbody>\n",
       "</table>\n",
       "<p>5 rows × 22 columns</p>\n",
       "</div>"
      ],
      "text/plain": [
       "  CUSTOMER_ID  TIER ORDERS  1ST_O_DATE 1ST_O_COUNT    28D_DATE N_28D  \\\n",
       "0     8181197  [52]      4  2017-08-08          23  2017-09-05    23   \n",
       "1    11978344  [54]      6  2017-08-09          15  2017-09-06    16   \n",
       "2    10724090  [52]      5  2017-07-04          13  2017-08-01    13   \n",
       "3    13056972  [52]      4  2017-08-17           8  2017-09-14     8   \n",
       "4    13253210  [51]      6  2017-07-27          17  2017-08-24    17   \n",
       "\n",
       "     56D_DATE N_56D    84D_DATE  ...  N_180D   SALES NET_SALES  BASKET_AVG  \\\n",
       "0  2017-10-03    24  2017-10-31  ...      25  178.20    148.50       44.55   \n",
       "1  2017-10-04    16  2017-11-01  ...      18  329.54    274.62       54.92   \n",
       "2  2017-08-29    14  2017-09-26  ...      16  410.23    341.86       82.05   \n",
       "3  2017-10-12     8  2017-11-09  ...      10  225.97    188.31       56.49   \n",
       "4  2017-09-21    17  2017-10-19  ...      19  368.27    306.89       61.38   \n",
       "\n",
       "     CM1  CM1_AVG   CM1%    CM2  CM2_AVG  CM2%  \n",
       "0  30.60     7.65  20.61  -1.88    -0.47 -1.27  \n",
       "1  75.79    12.63  27.60  -5.67    -0.95 -2.07  \n",
       "2  80.30    16.06  23.49   4.52     0.90  1.32  \n",
       "3  50.45    12.61  26.79  13.54     3.39  7.19  \n",
       "4  78.57    13.10  25.60  25.75     4.29  8.39  \n",
       "\n",
       "[5 rows x 22 columns]"
      ]
     },
     "execution_count": 89,
     "metadata": {},
     "output_type": "execute_result"
    }
   ],
   "source": [
    "customers.head(5).round(2)"
   ]
  },
  {
   "cell_type": "code",
   "execution_count": 90,
   "metadata": {
    "ExecuteTime": {
     "end_time": "2018-09-17T11:04:16.266751Z",
     "start_time": "2018-09-17T11:04:16.018751Z"
    },
    "scrolled": false
   },
   "outputs": [
    {
     "name": "stdout",
     "output_type": "stream",
     "text": [
      "<class 'pandas.core.frame.DataFrame'>\n",
      "RangeIndex: 161937 entries, 0 to 161936\n",
      "Data columns (total 22 columns):\n",
      "CUSTOMER_ID    161937 non-null object\n",
      "TIER           161937 non-null object\n",
      "ORDERS         161937 non-null object\n",
      "1ST_O_DATE     161937 non-null object\n",
      "1ST_O_COUNT    161937 non-null object\n",
      "28D_DATE       161937 non-null object\n",
      "N_28D          161937 non-null object\n",
      "56D_DATE       161937 non-null object\n",
      "N_56D          161937 non-null object\n",
      "84D_DATE       161937 non-null object\n",
      "N_84D          161937 non-null object\n",
      "180D_DATE      161937 non-null object\n",
      "N_180D         161937 non-null object\n",
      "SALES          161937 non-null float64\n",
      "NET_SALES      161937 non-null float64\n",
      "BASKET_AVG     161937 non-null float64\n",
      "CM1            161937 non-null float64\n",
      "CM1_AVG        161937 non-null float64\n",
      "CM1%           161936 non-null float64\n",
      "CM2            161937 non-null float64\n",
      "CM2_AVG        161937 non-null float64\n",
      "CM2%           161936 non-null float64\n",
      "dtypes: float64(9), object(13)\n",
      "memory usage: 27.2+ MB\n"
     ]
    }
   ],
   "source": [
    "customers.info(verbose=True)"
   ]
  },
  {
   "cell_type": "code",
   "execution_count": 91,
   "metadata": {
    "ExecuteTime": {
     "end_time": "2018-09-17T11:04:16.487751Z",
     "start_time": "2018-09-17T11:04:16.267751Z"
    }
   },
   "outputs": [],
   "source": [
    "customers[['ORDERS', '1ST_O_COUNT', 'N_28D', 'N_56D', 'N_84D', 'N_180D']] = customers[['ORDERS', '1ST_O_COUNT', 'N_28D', 'N_56D', 'N_84D', 'N_180D']].astype(int)"
   ]
  },
  {
   "cell_type": "code",
   "execution_count": 92,
   "metadata": {
    "ExecuteTime": {
     "end_time": "2018-09-17T11:04:16.537751Z",
     "start_time": "2018-09-17T11:04:16.488751Z"
    }
   },
   "outputs": [],
   "source": [
    "customers['1ST_O_DATE'] = pd.to_datetime(customers['1ST_O_DATE'], format='%Y-%m-%d')"
   ]
  },
  {
   "cell_type": "code",
   "execution_count": 93,
   "metadata": {
    "ExecuteTime": {
     "end_time": "2018-09-17T11:04:21.193751Z",
     "start_time": "2018-09-17T11:04:16.538751Z"
    }
   },
   "outputs": [],
   "source": [
    "customers['TIER'] = customers['TIER'].astype(str)"
   ]
  },
  {
   "cell_type": "code",
   "execution_count": 94,
   "metadata": {
    "ExecuteTime": {
     "end_time": "2018-09-17T11:04:21.219751Z",
     "start_time": "2018-09-17T11:04:21.195751Z"
    }
   },
   "outputs": [],
   "source": [
    "# 1 if order counter increase from one period to the previous one\n",
    "customers['R_IN_28D'] = (customers['N_28D'] > customers['1ST_O_COUNT']) * 1\n",
    "customers['R_IN_56D'] = (customers['N_56D'] > customers['N_28D']) * 1\n",
    "customers['R_IN_84D'] = (customers['N_84D'] > customers['N_56D']) * 1\n",
    "customers['R_IN_180D'] = (customers['N_180D'] > customers['N_84D']) * 1"
   ]
  },
  {
   "cell_type": "code",
   "execution_count": 95,
   "metadata": {
    "ExecuteTime": {
     "end_time": "2018-09-17T11:04:21.231751Z",
     "start_time": "2018-09-17T11:04:21.220751Z"
    }
   },
   "outputs": [],
   "source": [
    "customers['RR_28D'] = customers['R_IN_28D']\n",
    "customers['RR_56D'] = (customers['R_IN_28D'] | customers['R_IN_56D']) * 1\n",
    "customers['RR_84D'] = (customers['RR_56D'] | customers['R_IN_84D']) * 1\n",
    "customers['RR_180D'] = (customers['RR_84D'] | customers['R_IN_180D']) * 1"
   ]
  },
  {
   "cell_type": "markdown",
   "metadata": {},
   "source": [
    "As we have a non-rolling time window, we need to know which customer is include/exclude for each time period repurchase rate..."
   ]
  },
  {
   "cell_type": "code",
   "execution_count": 96,
   "metadata": {
    "ExecuteTime": {
     "end_time": "2018-09-17T11:04:21.278751Z",
     "start_time": "2018-09-17T11:04:21.234751Z"
    }
   },
   "outputs": [],
   "source": [
    "customers['SUIT_180D'] = ((data['TDT_T_KEY_ORDER_DATE'].max().date() - timedelta(days=180)) >= customers['1ST_O_DATE']) * 1"
   ]
  },
  {
   "cell_type": "code",
   "execution_count": 97,
   "metadata": {
    "ExecuteTime": {
     "end_time": "2018-09-17T11:04:21.316751Z",
     "start_time": "2018-09-17T11:04:21.279751Z"
    }
   },
   "outputs": [],
   "source": [
    "customers['SUIT_84D'] = ((data['TDT_T_KEY_ORDER_DATE'].max().date() - timedelta(days=84)) >= customers['1ST_O_DATE']) * 1"
   ]
  },
  {
   "cell_type": "code",
   "execution_count": 98,
   "metadata": {
    "ExecuteTime": {
     "end_time": "2018-09-17T11:04:21.363751Z",
     "start_time": "2018-09-17T11:04:21.317751Z"
    }
   },
   "outputs": [],
   "source": [
    "customers['SUIT_56D'] = ((data['TDT_T_KEY_ORDER_DATE'].max().date() - timedelta(days=56)) >= customers['1ST_O_DATE']) * 1"
   ]
  },
  {
   "cell_type": "code",
   "execution_count": 99,
   "metadata": {
    "ExecuteTime": {
     "end_time": "2018-09-17T11:04:21.404751Z",
     "start_time": "2018-09-17T11:04:21.365751Z"
    }
   },
   "outputs": [],
   "source": [
    "customers['SUIT_28D'] = ((data['TDT_T_KEY_ORDER_DATE'].max().date() - timedelta(days=28)) >= customers['1ST_O_DATE']) * 1"
   ]
  },
  {
   "cell_type": "markdown",
   "metadata": {},
   "source": [
    "Let's exclude customers transitioning between tiers in our time window - 8220 in total -"
   ]
  },
  {
   "cell_type": "code",
   "execution_count": 100,
   "metadata": {
    "ExecuteTime": {
     "end_time": "2018-09-17T11:04:21.437751Z",
     "start_time": "2018-09-17T11:04:21.405751Z"
    }
   },
   "outputs": [
    {
     "data": {
      "text/plain": [
       "array(['[51]', '[52]', '[53]', '[54]'], dtype=object)"
      ]
     },
     "execution_count": 100,
     "metadata": {},
     "output_type": "execute_result"
    }
   ],
   "source": [
    "customers['TIER'].value_counts().index.values[:4]"
   ]
  },
  {
   "cell_type": "code",
   "execution_count": 101,
   "metadata": {
    "ExecuteTime": {
     "end_time": "2018-09-17T11:04:21.452751Z",
     "start_time": "2018-09-17T11:04:21.438751Z"
    }
   },
   "outputs": [
    {
     "data": {
      "text/plain": [
       "['[51]', '[52]', '[53]', '[54]']"
      ]
     },
     "execution_count": 101,
     "metadata": {},
     "output_type": "execute_result"
    }
   ],
   "source": [
    "selected_tiers = [\n",
    "    '[51]', '[52]', '[53]', '[54]'\n",
    "]\n",
    "selected_tiers"
   ]
  },
  {
   "cell_type": "code",
   "execution_count": 102,
   "metadata": {
    "ExecuteTime": {
     "end_time": "2018-09-17T11:04:21.522751Z",
     "start_time": "2018-09-17T11:04:21.453751Z"
    }
   },
   "outputs": [],
   "source": [
    "sp_customers = customers[customers['TIER'].isin(selected_tiers)]"
   ]
  },
  {
   "cell_type": "code",
   "execution_count": 103,
   "metadata": {
    "ExecuteTime": {
     "end_time": "2018-09-17T11:04:21.622751Z",
     "start_time": "2018-09-17T11:04:21.523751Z"
    }
   },
   "outputs": [
    {
     "data": {
      "text/plain": [
       "(161937, 153717)"
      ]
     },
     "execution_count": 103,
     "metadata": {},
     "output_type": "execute_result"
    }
   ],
   "source": [
    "# 8220 located and excluded\n",
    "customers['CUSTOMER_ID'].nunique(), sp_customers['CUSTOMER_ID'].nunique()"
   ]
  },
  {
   "cell_type": "code",
   "execution_count": 104,
   "metadata": {
    "ExecuteTime": {
     "end_time": "2018-09-17T11:04:21.627751Z",
     "start_time": "2018-09-17T11:04:21.623751Z"
    }
   },
   "outputs": [],
   "source": [
    "def get_number_from_string(i):\n",
    "    changes = i.replace('[', '').replace(']', '')\n",
    "    return int(changes)"
   ]
  },
  {
   "cell_type": "code",
   "execution_count": 105,
   "metadata": {
    "ExecuteTime": {
     "end_time": "2018-09-17T11:04:21.670751Z",
     "start_time": "2018-09-17T11:04:21.628751Z"
    }
   },
   "outputs": [],
   "source": [
    "t_customers = sp_customers.copy()"
   ]
  },
  {
   "cell_type": "code",
   "execution_count": 106,
   "metadata": {
    "ExecuteTime": {
     "end_time": "2018-09-17T11:04:21.846751Z",
     "start_time": "2018-09-17T11:04:21.672751Z"
    }
   },
   "outputs": [],
   "source": [
    "t_customers['TIER'] = t_customers['TIER'].map(get_number_from_string)"
   ]
  },
  {
   "cell_type": "markdown",
   "metadata": {},
   "source": [
    "Now we calculate (flag 1, 0) if the suitable customers for each period have repurchased or not"
   ]
  },
  {
   "cell_type": "code",
   "execution_count": 107,
   "metadata": {
    "ExecuteTime": {
     "end_time": "2018-09-17T11:04:21.858751Z",
     "start_time": "2018-09-17T11:04:21.847751Z"
    }
   },
   "outputs": [],
   "source": [
    "t_customers['R_28D'] = t_customers['SUIT_28D'] * t_customers['RR_28D']\n",
    "t_customers['R_56D'] = t_customers['SUIT_56D'] * t_customers['RR_56D']\n",
    "t_customers['R_84D'] = t_customers['SUIT_84D'] * t_customers['RR_84D']\n",
    "t_customers['R_180D'] = t_customers['SUIT_180D'] * t_customers['RR_180D']"
   ]
  },
  {
   "cell_type": "code",
   "execution_count": 108,
   "metadata": {
    "ExecuteTime": {
     "end_time": "2018-09-17T11:04:21.880751Z",
     "start_time": "2018-09-17T11:04:21.859751Z"
    }
   },
   "outputs": [
    {
     "data": {
      "text/plain": [
       "Index(['CUSTOMER_ID', 'TIER', 'ORDERS', '1ST_O_DATE', '1ST_O_COUNT',\n",
       "       '28D_DATE', 'N_28D', '56D_DATE', 'N_56D', '84D_DATE', 'N_84D',\n",
       "       '180D_DATE', 'N_180D', 'SALES', 'NET_SALES', 'BASKET_AVG', 'CM1',\n",
       "       'CM1_AVG', 'CM1%', 'CM2', 'CM2_AVG', 'CM2%', 'R_IN_28D', 'R_IN_56D',\n",
       "       'R_IN_84D', 'R_IN_180D', 'RR_28D', 'RR_56D', 'RR_84D', 'RR_180D',\n",
       "       'SUIT_180D', 'SUIT_84D', 'SUIT_56D', 'SUIT_28D', 'R_28D', 'R_56D',\n",
       "       'R_84D', 'R_180D'],\n",
       "      dtype='object')"
      ]
     },
     "execution_count": 108,
     "metadata": {},
     "output_type": "execute_result"
    }
   ],
   "source": [
    "t_customers.columns"
   ]
  },
  {
   "cell_type": "markdown",
   "metadata": {},
   "source": [
    "**Repurchasing Rate in 28 days per Tier:** "
   ]
  },
  {
   "cell_type": "code",
   "execution_count": 109,
   "metadata": {
    "ExecuteTime": {
     "end_time": "2018-09-17T11:04:21.937751Z",
     "start_time": "2018-09-17T11:04:21.881751Z"
    }
   },
   "outputs": [
    {
     "data": {
      "text/plain": [
       "TIER\n",
       "51    19.47\n",
       "52    19.60\n",
       "53    20.41\n",
       "54    19.59\n",
       "dtype: float64"
      ]
     },
     "execution_count": 109,
     "metadata": {},
     "output_type": "execute_result"
    }
   ],
   "source": [
    "tier_rr_28d = (t_customers.groupby('TIER')['R_28D'].sum() / t_customers.groupby('TIER')['SUIT_28D'].sum() * 100).round(2)\n",
    "tier_rr_28d"
   ]
  },
  {
   "cell_type": "markdown",
   "metadata": {},
   "source": [
    "**Repurchasing Rate in 56 days per Tier:** "
   ]
  },
  {
   "cell_type": "code",
   "execution_count": 110,
   "metadata": {
    "ExecuteTime": {
     "end_time": "2018-09-17T11:04:21.960751Z",
     "start_time": "2018-09-17T11:04:21.938751Z"
    }
   },
   "outputs": [
    {
     "data": {
      "text/plain": [
       "TIER\n",
       "51    47.14\n",
       "52    44.45\n",
       "53    46.96\n",
       "54    43.22\n",
       "dtype: float64"
      ]
     },
     "execution_count": 110,
     "metadata": {},
     "output_type": "execute_result"
    }
   ],
   "source": [
    "tier_rr_56d = (t_customers.groupby('TIER')['R_56D'].sum() / t_customers.groupby('TIER')['SUIT_56D'].sum() * 100).round(2)\n",
    "tier_rr_56d"
   ]
  },
  {
   "cell_type": "markdown",
   "metadata": {},
   "source": [
    "**Repurchasing Rate in 84 days per Tier:** "
   ]
  },
  {
   "cell_type": "code",
   "execution_count": 111,
   "metadata": {
    "ExecuteTime": {
     "end_time": "2018-09-17T11:04:21.978751Z",
     "start_time": "2018-09-17T11:04:21.961751Z"
    }
   },
   "outputs": [
    {
     "data": {
      "text/plain": [
       "TIER\n",
       "51    66.34\n",
       "52    64.19\n",
       "53    65.11\n",
       "54    63.17\n",
       "dtype: float64"
      ]
     },
     "execution_count": 111,
     "metadata": {},
     "output_type": "execute_result"
    }
   ],
   "source": [
    "tier_rr_84d = (t_customers.groupby('TIER')['R_84D'].sum() / t_customers.groupby('TIER')['SUIT_84D'].sum() * 100).round(2)\n",
    "tier_rr_84d"
   ]
  },
  {
   "cell_type": "markdown",
   "metadata": {},
   "source": [
    "**Repurchasing Rate in 180 days per Tier:** "
   ]
  },
  {
   "cell_type": "code",
   "execution_count": 112,
   "metadata": {
    "ExecuteTime": {
     "end_time": "2018-09-17T11:04:21.998751Z",
     "start_time": "2018-09-17T11:04:21.980751Z"
    }
   },
   "outputs": [
    {
     "data": {
      "text/plain": [
       "TIER\n",
       "51    85.49\n",
       "52    88.35\n",
       "53    83.90\n",
       "54    87.70\n",
       "dtype: float64"
      ]
     },
     "execution_count": 112,
     "metadata": {},
     "output_type": "execute_result"
    }
   ],
   "source": [
    "tier_rr_180d = (t_customers.groupby('TIER')['R_180D'].sum() / t_customers.groupby('TIER')['SUIT_180D'].sum() * 100).round(2)\n",
    "tier_rr_180d"
   ]
  },
  {
   "cell_type": "markdown",
   "metadata": {},
   "source": [
    "For the mid-term (6 months), we can see higher rates for the long term savings plans - Tier 52 and 54 - ."
   ]
  },
  {
   "cell_type": "markdown",
   "metadata": {},
   "source": [
    "#### Customer behaviour"
   ]
  },
  {
   "cell_type": "code",
   "execution_count": 113,
   "metadata": {
    "ExecuteTime": {
     "end_time": "2018-09-17T11:04:23.477751Z",
     "start_time": "2018-09-17T11:04:22.000751Z"
    }
   },
   "outputs": [
    {
     "data": {
      "text/plain": [
       "count    161937.000000\n",
       "mean          5.403787\n",
       "std           4.779575\n",
       "min           1.000000\n",
       "25%           2.000000\n",
       "50%           4.000000\n",
       "75%           7.000000\n",
       "max         408.000000\n",
       "Name: SCM_N_ORDER_NR, dtype: float64"
      ]
     },
     "execution_count": 113,
     "metadata": {},
     "output_type": "execute_result"
    }
   ],
   "source": [
    "data.groupby('CUS_N_KEY_CUSTOMER')['SCM_N_ORDER_NR'].nunique().describe()"
   ]
  },
  {
   "cell_type": "code",
   "execution_count": 114,
   "metadata": {
    "ExecuteTime": {
     "end_time": "2018-09-17T11:26:24.407751Z",
     "start_time": "2018-09-17T11:04:23.479751Z"
    }
   },
   "outputs": [],
   "source": [
    "# We create a dictionary having Customer ID as key and Lead PG4 from each order \n",
    "#as the values in a list  -sorted from order 1 to n-\n",
    "cus_dict_pg4 = {}\n",
    "\n",
    "for i in data['CUS_N_KEY_CUSTOMER'].unique():\n",
    "    cus_data = data[data['CUS_N_KEY_CUSTOMER'] == i].groupby('OSP_KO_COUNT_NET', as_index=False)['OSP_4_LEAD_P_PG_ID'].mean()\n",
    "    cus_dict_pg4[i] = list(cus_data.sort_values(by='OSP_KO_COUNT_NET')['OSP_4_LEAD_P_PG_ID'])"
   ]
  },
  {
   "cell_type": "code",
   "execution_count": 115,
   "metadata": {
    "ExecuteTime": {
     "end_time": "2018-09-17T11:47:37.532751Z",
     "start_time": "2018-09-17T11:26:24.409751Z"
    }
   },
   "outputs": [],
   "source": [
    "# We create another customer based dictionary having Customer ID as key and Sales from each order \n",
    "# as the values in a list  -sorted from order 1 to n-\n",
    "cus_dict_sales = {}\n",
    "\n",
    "for i in data['CUS_N_KEY_CUSTOMER'].unique():\n",
    "    cus_data = data[data['CUS_N_KEY_CUSTOMER'] == i].groupby('OSP_KO_COUNT_NET', as_index=False)['BASKET_VALUE'].mean()\n",
    "    cus_dict_sales[i] = list(cus_data.sort_values(by='OSP_KO_COUNT_NET')['BASKET_VALUE'].round(2))"
   ]
  },
  {
   "cell_type": "code",
   "execution_count": 116,
   "metadata": {
    "ExecuteTime": {
     "end_time": "2018-09-17T11:47:37.537751Z",
     "start_time": "2018-09-17T11:47:37.534751Z"
    }
   },
   "outputs": [],
   "source": [
    "#chosen_pg4 = [283, 286, 192127]"
   ]
  },
  {
   "cell_type": "code",
   "execution_count": 117,
   "metadata": {
    "ExecuteTime": {
     "end_time": "2018-09-17T11:47:44.858751Z",
     "start_time": "2018-09-17T11:47:37.539751Z"
    }
   },
   "outputs": [],
   "source": [
    "# Between 0 and 1 we create a scale of how far are customer orders Lead PG4 compared with the chosen ones. \n",
    "# 0 means chosen PG4 iDs appearing in every order and 1 no chosen PG4.\n",
    "\n",
    "cus_dict_info = {}\n",
    "\n",
    "for i in np.sort(data['CUS_N_KEY_CUSTOMER'].unique()):\n",
    "    cus_dict_info[i] = {}\n",
    "    #cus_dict_info[i]['pg4'] = cus_dict_pg4[i]\n",
    "    #cus_dict_info[i]['basket_values'] = cus_dict_sales[i]\n",
    "    cus_dict_info[i]['total_sales'] = sum(cus_dict_sales[i]) # sum values in the customer sales list from the dictionary\n",
    "    cus_dict_info[i]['orders'] = len(cus_dict_sales[i]) # get the length of the list, one position per order\n",
    "    cus_dict_info[i]['orders_info'] = [(x, y) for x, y in zip(cus_dict_pg4[i], cus_dict_sales[i])] # sorted tuple (lead PG4, sales) \n",
    "    #cus_dict_info[i]['distance'] = (len(cus_dict_sales[i]) - sum([pg4 in chosen_pg4 for pg4 in cus_dict_pg4[i]])) / len(cus_dict_pg4[i])\n",
    "    c = Counter(cus_dict_pg4[i])\n",
    "    ord_per_pg4 = sorted(c.most_common() , key= lambda x: x[0], reverse=True)\n",
    "    sales_per_pg4 = sorted([(pg4_,sum([sales_ for pg_, sales_ in cus_dict_info[i]['orders_info'] if pg_== pg4_])) \n",
    "                                         for pg4_ in set([pg4 for pg4, sales in cus_dict_info[i]['orders_info']])], key= lambda x: x[0], reverse=True)\n",
    "    cus_dict_info[i]['pg4_ord_sales'] = sorted([(x[0], x[1], y[1]) for x, y in zip(ord_per_pg4, sales_per_pg4)], key= lambda x: (x[1], x[2]), reverse=True)\n",
    "    cus_dict_info[i]['main_pg4'] = cus_dict_info[i]['pg4_ord_sales'][0][0]\n",
    "    cus_dict_info[i]['main_pg4_%_ord'] = np.round(cus_dict_info[i]['pg4_ord_sales'][0][1] / cus_dict_info[i]['orders'], 2)\n",
    "    cus_dict_info[i]['main_pg4_%_sales'] = np.round(cus_dict_info[i]['pg4_ord_sales'][0][2] / cus_dict_info[i]['total_sales'], 2)"
   ]
  },
  {
   "cell_type": "code",
   "execution_count": 118,
   "metadata": {
    "ExecuteTime": {
     "end_time": "2018-09-17T11:47:46.729751Z",
     "start_time": "2018-09-17T11:47:44.860751Z"
    }
   },
   "outputs": [],
   "source": [
    "cus_attr = pd.DataFrame.from_dict(cus_dict_info, orient='index').round(2)"
   ]
  },
  {
   "cell_type": "code",
   "execution_count": 119,
   "metadata": {
    "ExecuteTime": {
     "end_time": "2018-09-17T11:47:46.761751Z",
     "start_time": "2018-09-17T11:47:46.731751Z"
    }
   },
   "outputs": [
    {
     "data": {
      "text/html": [
       "<div>\n",
       "<style scoped>\n",
       "    .dataframe tbody tr th:only-of-type {\n",
       "        vertical-align: middle;\n",
       "    }\n",
       "\n",
       "    .dataframe tbody tr th {\n",
       "        vertical-align: top;\n",
       "    }\n",
       "\n",
       "    .dataframe thead th {\n",
       "        text-align: right;\n",
       "    }\n",
       "</style>\n",
       "<table border=\"1\" class=\"dataframe\">\n",
       "  <thead>\n",
       "    <tr style=\"text-align: right;\">\n",
       "      <th></th>\n",
       "      <th>total_sales</th>\n",
       "      <th>orders</th>\n",
       "      <th>orders_info</th>\n",
       "      <th>pg4_ord_sales</th>\n",
       "      <th>main_pg4</th>\n",
       "      <th>main_pg4_%_ord</th>\n",
       "      <th>main_pg4_%_sales</th>\n",
       "    </tr>\n",
       "  </thead>\n",
       "  <tbody>\n",
       "    <tr>\n",
       "      <th>90143</th>\n",
       "      <td>520.63</td>\n",
       "      <td>5</td>\n",
       "      <td>[(3155, 73.68), (3155, 77.56), (3155, 155.12),...</td>\n",
       "      <td>[(3155, 5, 520.6300000000001)]</td>\n",
       "      <td>3155.0</td>\n",
       "      <td>1.00</td>\n",
       "      <td>1.00</td>\n",
       "    </tr>\n",
       "    <tr>\n",
       "      <th>240667</th>\n",
       "      <td>2299.89</td>\n",
       "      <td>10</td>\n",
       "      <td>[(81397, 330.85), (81397, 139.63), (81397, 249...</td>\n",
       "      <td>[(81397, 7, 1960.99), (9426, 1, 172.21), (1033...</td>\n",
       "      <td>81397.0</td>\n",
       "      <td>0.70</td>\n",
       "      <td>0.85</td>\n",
       "    </tr>\n",
       "    <tr>\n",
       "      <th>270025</th>\n",
       "      <td>639.30</td>\n",
       "      <td>7</td>\n",
       "      <td>[(39209, 108.34), (81397, 56.25), (39209, 73.7...</td>\n",
       "      <td>[(39209, 5, 550.95), (81397, 1, 56.25), (92, 1...</td>\n",
       "      <td>39209.0</td>\n",
       "      <td>0.71</td>\n",
       "      <td>0.86</td>\n",
       "    </tr>\n",
       "    <tr>\n",
       "      <th>317197</th>\n",
       "      <td>326.89</td>\n",
       "      <td>6</td>\n",
       "      <td>[(75758.05882352941, 46.58), (2632.0, 51.21), ...</td>\n",
       "      <td>[(1520.0, 2, 149.45), (2632.0, 2, 107.02000000...</td>\n",
       "      <td>1520.0</td>\n",
       "      <td>0.33</td>\n",
       "      <td>0.46</td>\n",
       "    </tr>\n",
       "    <tr>\n",
       "      <th>320603</th>\n",
       "      <td>65.95</td>\n",
       "      <td>1</td>\n",
       "      <td>[(81397, 65.95)]</td>\n",
       "      <td>[(81397, 1, 65.95)]</td>\n",
       "      <td>81397.0</td>\n",
       "      <td>1.00</td>\n",
       "      <td>1.00</td>\n",
       "    </tr>\n",
       "    <tr>\n",
       "      <th>323090</th>\n",
       "      <td>479.62</td>\n",
       "      <td>6</td>\n",
       "      <td>[(870, 65.5), (870, 64.55), (870, 94.0), (870,...</td>\n",
       "      <td>[(870, 6, 479.62)]</td>\n",
       "      <td>870.0</td>\n",
       "      <td>1.00</td>\n",
       "      <td>1.00</td>\n",
       "    </tr>\n",
       "    <tr>\n",
       "      <th>341739</th>\n",
       "      <td>212.68</td>\n",
       "      <td>4</td>\n",
       "      <td>[(682, 101.19), (682, 49.38), (2059, 25.83), (...</td>\n",
       "      <td>[(682, 2, 150.57), (31963, 1, 36.28), (2059, 1...</td>\n",
       "      <td>682.0</td>\n",
       "      <td>0.50</td>\n",
       "      <td>0.71</td>\n",
       "    </tr>\n",
       "    <tr>\n",
       "      <th>345568</th>\n",
       "      <td>556.30</td>\n",
       "      <td>8</td>\n",
       "      <td>[(39209, 46.32), (31963, 136.37), (177843, 40....</td>\n",
       "      <td>[(2127, 3, 228.67000000000002), (31963, 1, 136...</td>\n",
       "      <td>2127.0</td>\n",
       "      <td>0.38</td>\n",
       "      <td>0.41</td>\n",
       "    </tr>\n",
       "    <tr>\n",
       "      <th>347807</th>\n",
       "      <td>445.30</td>\n",
       "      <td>4</td>\n",
       "      <td>[(10850, 99.5), (10850, 78.84), (2585, 131.64)...</td>\n",
       "      <td>[(10850, 2, 178.34), (394, 1, 135.32), (2585, ...</td>\n",
       "      <td>10850.0</td>\n",
       "      <td>0.50</td>\n",
       "      <td>0.40</td>\n",
       "    </tr>\n",
       "    <tr>\n",
       "      <th>356972</th>\n",
       "      <td>481.00</td>\n",
       "      <td>7</td>\n",
       "      <td>[(251032, 92.1), (251032, 72.73), (263820, 63....</td>\n",
       "      <td>[(263820, 5, 316.17), (251032, 2, 164.82999999...</td>\n",
       "      <td>263820.0</td>\n",
       "      <td>0.71</td>\n",
       "      <td>0.66</td>\n",
       "    </tr>\n",
       "  </tbody>\n",
       "</table>\n",
       "</div>"
      ],
      "text/plain": [
       "        total_sales  orders  \\\n",
       "90143        520.63       5   \n",
       "240667      2299.89      10   \n",
       "270025       639.30       7   \n",
       "317197       326.89       6   \n",
       "320603        65.95       1   \n",
       "323090       479.62       6   \n",
       "341739       212.68       4   \n",
       "345568       556.30       8   \n",
       "347807       445.30       4   \n",
       "356972       481.00       7   \n",
       "\n",
       "                                              orders_info  \\\n",
       "90143   [(3155, 73.68), (3155, 77.56), (3155, 155.12),...   \n",
       "240667  [(81397, 330.85), (81397, 139.63), (81397, 249...   \n",
       "270025  [(39209, 108.34), (81397, 56.25), (39209, 73.7...   \n",
       "317197  [(75758.05882352941, 46.58), (2632.0, 51.21), ...   \n",
       "320603                                   [(81397, 65.95)]   \n",
       "323090  [(870, 65.5), (870, 64.55), (870, 94.0), (870,...   \n",
       "341739  [(682, 101.19), (682, 49.38), (2059, 25.83), (...   \n",
       "345568  [(39209, 46.32), (31963, 136.37), (177843, 40....   \n",
       "347807  [(10850, 99.5), (10850, 78.84), (2585, 131.64)...   \n",
       "356972  [(251032, 92.1), (251032, 72.73), (263820, 63....   \n",
       "\n",
       "                                            pg4_ord_sales  main_pg4  \\\n",
       "90143                      [(3155, 5, 520.6300000000001)]    3155.0   \n",
       "240667  [(81397, 7, 1960.99), (9426, 1, 172.21), (1033...   81397.0   \n",
       "270025  [(39209, 5, 550.95), (81397, 1, 56.25), (92, 1...   39209.0   \n",
       "317197  [(1520.0, 2, 149.45), (2632.0, 2, 107.02000000...    1520.0   \n",
       "320603                                [(81397, 1, 65.95)]   81397.0   \n",
       "323090                                 [(870, 6, 479.62)]     870.0   \n",
       "341739  [(682, 2, 150.57), (31963, 1, 36.28), (2059, 1...     682.0   \n",
       "345568  [(2127, 3, 228.67000000000002), (31963, 1, 136...    2127.0   \n",
       "347807  [(10850, 2, 178.34), (394, 1, 135.32), (2585, ...   10850.0   \n",
       "356972  [(263820, 5, 316.17), (251032, 2, 164.82999999...  263820.0   \n",
       "\n",
       "        main_pg4_%_ord  main_pg4_%_sales  \n",
       "90143             1.00              1.00  \n",
       "240667            0.70              0.85  \n",
       "270025            0.71              0.86  \n",
       "317197            0.33              0.46  \n",
       "320603            1.00              1.00  \n",
       "323090            1.00              1.00  \n",
       "341739            0.50              0.71  \n",
       "345568            0.38              0.41  \n",
       "347807            0.50              0.40  \n",
       "356972            0.71              0.66  "
      ]
     },
     "execution_count": 119,
     "metadata": {},
     "output_type": "execute_result"
    }
   ],
   "source": [
    "cus_attr.head(10)\n",
    "# orders_info: each tuple has (Lead PG4, basket value) and are sorted from 1st order to n\n",
    "# pg4_ord_sales: info per tuple (lead PG4, orders in which the PG4 is Lead PG, sales from those orders)\n",
    "# - orders & sales aggregated by Lead PG4 and sorted 1st by orders 'descending' and 2nd by sales 'descending' -\n",
    "# main_pg4: Lead PG4 from the pg4_ord_sales 1st tuple: the one having more orders or more sales value (in case of orders equality)\n",
    "# main_pg4_%_ord: orders from the pg4_ord_sales 1st tuple / total orders\n",
    "# main_pg4_%_sales: sales from the pg4_ord_sales 1st tuple / total sales"
   ]
  },
  {
   "cell_type": "code",
   "execution_count": 120,
   "metadata": {
    "ExecuteTime": {
     "end_time": "2018-09-17T11:47:46.834751Z",
     "start_time": "2018-09-17T11:47:46.763751Z"
    }
   },
   "outputs": [],
   "source": [
    "cus_attr['main_pg4_ord'] = [i[0][1] for i in cus_attr['pg4_ord_sales']]"
   ]
  },
  {
   "cell_type": "code",
   "execution_count": 121,
   "metadata": {
    "ExecuteTime": {
     "end_time": "2018-09-17T11:47:46.888751Z",
     "start_time": "2018-09-17T11:47:46.835751Z"
    }
   },
   "outputs": [],
   "source": [
    "cus_attr['main_pg4_sales'] = [i[0][2] for i in cus_attr['pg4_ord_sales']]"
   ]
  },
  {
   "cell_type": "code",
   "execution_count": 122,
   "metadata": {
    "ExecuteTime": {
     "end_time": "2018-09-17T11:47:46.915751Z",
     "start_time": "2018-09-17T11:47:46.890751Z"
    }
   },
   "outputs": [],
   "source": [
    "# 8906 customers having at least 3 orders\n",
    "cus_attr_3ord = cus_attr[cus_attr['orders'] >= 3]"
   ]
  },
  {
   "cell_type": "code",
   "execution_count": 123,
   "metadata": {
    "ExecuteTime": {
     "end_time": "2018-09-17T11:47:46.920751Z",
     "start_time": "2018-09-17T11:47:46.916751Z"
    }
   },
   "outputs": [
    {
     "data": {
      "text/plain": [
       "114677"
      ]
     },
     "execution_count": 123,
     "metadata": {},
     "output_type": "execute_result"
    }
   ],
   "source": [
    "len(cus_attr_3ord)"
   ]
  },
  {
   "cell_type": "code",
   "execution_count": 138,
   "metadata": {
    "ExecuteTime": {
     "end_time": "2018-09-17T12:08:25.263971Z",
     "start_time": "2018-09-17T12:08:25.253971Z"
    }
   },
   "outputs": [
    {
     "data": {
      "text/plain": [
       "682.0       8.56\n",
       "683.0       7.30\n",
       "283.0       5.05\n",
       "17798.0     3.89\n",
       "81397.0     3.64\n",
       "31962.0     3.47\n",
       "81396.0     3.20\n",
       "255.0       3.18\n",
       "719.0       3.03\n",
       "31963.0     2.93\n",
       "180361.0    2.28\n",
       "35825.0     2.18\n",
       "720.0       2.18\n",
       "261925.0    1.98\n",
       "10331.0     1.83\n",
       "95904.0     1.82\n",
       "2044.0      1.72\n",
       "81431.0     1.55\n",
       "9425.0      1.50\n",
       "2127.0      1.42\n",
       "286.0       1.08\n",
       "17963.0     1.04\n",
       "2056.0      1.03\n",
       "18245.0     0.94\n",
       "72745.0     0.92\n",
       "2071.0      0.75\n",
       "95460.0     0.75\n",
       "9426.0      0.74\n",
       "2632.0      0.71\n",
       "2304.0      0.66\n",
       "Name: main_pg4, dtype: float64"
      ]
     },
     "execution_count": 138,
     "metadata": {},
     "output_type": "execute_result"
    }
   ],
   "source": [
    "(cus_attr_3ord['main_pg4'].value_counts().head(30) / len(cus_attr_3ord) * 100).round(2)"
   ]
  },
  {
   "attachments": {
    "image.png": {
     "image/png": "[encoded data removed]"
    }
   },
   "cell_type": "markdown",
   "metadata": {},
   "source": [
    "<html><head>\n",
    "\n",
    "\n",
    "<!-- Load require.js. Delete this if your page already loads require.js -->\n",
    "<script src=\"https://cdnjs.cloudflare.com/ajax/libs/require.js/2.3.4/require.min.js\" integrity=\"sha256-Ae2Vz/4ePdIu6ZyI/5ZGsYnb+m0JlOmKPjt6XZ9JJkA=\" crossorigin=\"anonymous\"></script>\n",
    "<script src=\"https://unpkg.com/@jupyter-widgets/html-manager@*/dist/embed-amd.js\" crossorigin=\"anonymous\"></script>\n",
    "<script type=\"application/vnd.jupyter.widget-state+json\">\n",
    "{\n",
    "    \"version_major\": 2,\n",
    "    \"version_minor\": 0,\n",
    "    \"state\": {}\n",
    "}\n",
    "</script>\n",
    "</head>\n",
    "<body>\n",
    "\n",
    "\n",
    "</body>\n",
    "</html>\n",
    "![image.png](attachment:image.png)"
   ]
  },
  {
   "cell_type": "markdown",
   "metadata": {},
   "source": [
    "From the selected customers sample (114677 out of 161937 having 3 or more orders):\n",
    "\n",
    "- Royal Canin Prods are Lead PG4s for 31% of the customers.\n",
    "- Hill's Prods are Lead PG4s for 11.5% of the customers.\n",
    "- Private label Prods are Lead PGs in 7.5% of the customers.\n",
    "- Pro Plan Prods are Lead PG4s for 6% of the customers.\n",
    "- Other brands with PGs acting as Lead PG4 for more than 2% of the customers:\n",
    "  Eukanuba 3.18%, Orijen 2.24%, Taste of the wild 2.18%"
   ]
  },
  {
   "cell_type": "markdown",
   "metadata": {},
   "source": [
    "#### Basket Analysis - apriori algorithm - "
   ]
  },
  {
   "cell_type": "code",
   "execution_count": 139,
   "metadata": {
    "ExecuteTime": {
     "end_time": "2018-09-17T12:08:41.112888Z",
     "start_time": "2018-09-17T12:08:40.454892Z"
    }
   },
   "outputs": [],
   "source": [
    "data['PP_NAME'] = data['PP_NAME'].astype(str)"
   ]
  },
  {
   "cell_type": "code",
   "execution_count": 140,
   "metadata": {
    "ExecuteTime": {
     "end_time": "2018-09-17T12:09:30.680525Z",
     "start_time": "2018-09-17T12:08:51.515792Z"
    }
   },
   "outputs": [],
   "source": [
    "basket_info = list(data.groupby('SCM_N_ORDER_NR')['PP_NAME'].apply(list).values)"
   ]
  },
  {
   "cell_type": "code",
   "execution_count": 141,
   "metadata": {
    "ExecuteTime": {
     "end_time": "2018-09-17T12:09:55.993367Z",
     "start_time": "2018-09-17T12:09:55.988367Z"
    }
   },
   "outputs": [
    {
     "data": {
      "text/plain": [
       "875073"
      ]
     },
     "execution_count": 141,
     "metadata": {},
     "output_type": "execute_result"
    }
   ],
   "source": [
    "# Orders\n",
    "len(basket_info)"
   ]
  },
  {
   "cell_type": "code",
   "execution_count": 142,
   "metadata": {
    "ExecuteTime": {
     "end_time": "2018-09-17T12:10:11.001264Z",
     "start_time": "2018-09-17T12:10:09.414278Z"
    }
   },
   "outputs": [],
   "source": [
    "basket_info = [[item for item in basket if item != 'nan'] for basket in basket_info]"
   ]
  },
  {
   "cell_type": "code",
   "execution_count": 144,
   "metadata": {
    "ExecuteTime": {
     "end_time": "2018-09-17T12:10:37.314077Z",
     "start_time": "2018-09-17T12:10:37.310077Z"
    }
   },
   "outputs": [
    {
     "data": {
      "text/plain": [
       "875073"
      ]
     },
     "execution_count": 144,
     "metadata": {},
     "output_type": "execute_result"
    }
   ],
   "source": [
    "len(basket_info)"
   ]
  },
  {
   "cell_type": "code",
   "execution_count": 145,
   "metadata": {
    "ExecuteTime": {
     "end_time": "2018-09-17T12:10:50.636002Z",
     "start_time": "2018-09-17T12:10:50.634002Z"
    }
   },
   "outputs": [],
   "source": [
    "import apriori_py3"
   ]
  },
  {
   "cell_type": "code",
   "execution_count": 153,
   "metadata": {
    "ExecuteTime": {
     "end_time": "2018-09-17T20:55:23.064218Z",
     "start_time": "2018-09-17T15:57:28.224218Z"
    }
   },
   "outputs": [],
   "source": [
    "L,suppData = apriori_py3.apriori(basket_info, minSupport = 0.001)"
   ]
  },
  {
   "cell_type": "code",
   "execution_count": 154,
   "metadata": {
    "ExecuteTime": {
     "end_time": "2018-09-17T20:55:37.499218Z",
     "start_time": "2018-09-17T20:55:37.478218Z"
    }
   },
   "outputs": [
    {
     "data": {
      "text/plain": [
       "[[frozenset({'toothbrush holder zooplus'}),\n",
       "  frozenset({'Wolf of Wilderness The Taste of Canada'}),\n",
       "  frozenset({'Wolf of Wilderness The Taste of Scandinavia'}),\n",
       "  frozenset({'Purizon Cat Sterilised Huhn & Fisch'}),\n",
       "  frozenset({'Purizon Cat Wildschwein'}),\n",
       "  frozenset({'RC MP wet cat food entry pack 4x85g pouches'}),\n",
       "  frozenset({'Megapack Wild Freedom Dose 6 x 200 g'}),\n",
       "  frozenset({'Xmas metal can'}),\n",
       "  frozenset({'Wild Freedom - Cold River Lachs'}),\n",
       "  frozenset({'Wild Freedom – Wide Country Geflügel'}),\n",
       "  frozenset({'Wild Freedom - Wild Hills Ente'}),\n",
       "  frozenset({'Wild Freedom - Green Lands Lamm'}),\n",
       "  frozenset({'Kratzmöbel Circle'}),\n",
       "  frozenset({'Kuscheldecke Welttierschutztag'}),\n",
       "  frozenset({'Eukanuba blanket'}),\n",
       "  frozenset({'Xmas blanket'}),\n",
       "  frozenset({'Cosma Adventskalender für Katze'}),\n",
       "  frozenset({'Tigerino Canada White Rose'}),\n",
       "  frozenset({'zoolove Kotbeutel dreifarbig'}),\n",
       "  frozenset({'Katzenspielzeug-Set Moppi mit Katzenminze'}),\n",
       "  frozenset({'MP Schesir Cat Jelly Dose 6x85g'}),\n",
       "  frozenset({'Trixie Ersatzkurzführer Auto'}),\n",
       "  frozenset({'MP Schesir Cat Jelly Pouch 6x100g'}),\n",
       "  frozenset({'WoW Oak Woods'}),\n",
       "  frozenset({'Leonardo 85 g Pouch'}),\n",
       "  frozenset({'GOURMET SOUP 40g'}),\n",
       "  frozenset({'Eukanuba Breed Adult'}),\n",
       "  frozenset({'Orijen - Regional Red (CAT)'}),\n",
       "  frozenset({'Orijen - 6 Fish (CAT)'}),\n",
       "  frozenset({'Alpha Spirit Schinkenknochen'}),\n",
       "  frozenset({'De Luxe Krallenschere Groß'}),\n",
       "  frozenset({'PERFECT FIT ADULT DOGS(>10kg)'}),\n",
       "  frozenset({'Carnilove Adult Lamb Wild Boar'}),\n",
       "  frozenset({'Orijen - Regional Red (DOG)'}),\n",
       "  frozenset({'MP Royal Canin Breed Cat Wet 12 x 85 g'}),\n",
       "  frozenset({'Acana Adult Large Breed'}),\n",
       "  frozenset({'Acana Light & Fit'}),\n",
       "  frozenset({'Professional Classic Geruchsabsorber'}),\n",
       "  frozenset({'Wolf of Wilderness Gemischtes Paket'}),\n",
       "  frozenset({'RC Veterinary Diet Hypoallergenic MC'}),\n",
       "  frozenset({'Perfect Fit Adult reich an Huhn'}),\n",
       "  frozenset({'Yarrah Cat Hühner Pate 400 g'}),\n",
       "  frozenset({'MP Felix Sensations Extra Geschmacksvielfalt 24 x 100 g'}),\n",
       "  frozenset({'Porta 21 Feline Finest Sensible - Grain Free'}),\n",
       "  frozenset({'LED Pointer Catch the Light'}),\n",
       "  frozenset({'CatIt Katzentoilette'}),\n",
       "  frozenset({'KONG Scrunch Knots Fuchs'}),\n",
       "  frozenset({'Feline Porta 21, 400 g'}),\n",
       "  frozenset({'Trixie Premio Sushi Bites Light'}),\n",
       "  frozenset({'Concept for Life Cat Light'}),\n",
       "  frozenset({'Super Benek Corn Cat 7 l'}),\n",
       "  frozenset({'Smilla Trockenfutter Adult Urinary'}),\n",
       "  frozenset({'Royal Canin Medium Ageing 10+'}),\n",
       "  frozenset({'Megapack Gourmet Gold Feine Komposition 12 x 85g'}),\n",
       "  frozenset({'Bosch HPC Senior '}),\n",
       "  frozenset({'FULL-Chew Larsson Geweih Hunde Snack'}),\n",
       "  frozenset({'Ultima Cat Adult Sterilised Salmon'}),\n",
       "  frozenset({'Purizon Adult Dog Fish'}),\n",
       "  frozenset({'Nutribird P15'}),\n",
       "  frozenset({'Tigeria 7 Snacks'}),\n",
       "  frozenset({'Kattovit 175 g'}),\n",
       "  frozenset({'MP Gourmet Perle  60 x 85g'}),\n",
       "  frozenset({\"Hill's Canine Mature Adult Senior Light\"}),\n",
       "  frozenset({'Barkoo Kaurollen gedreht aus Schweinhaut'}),\n",
       "  frozenset({'Gimpet Gras Bits'}),\n",
       "  frozenset({'Schesir Pouch 70 g'}),\n",
       "  frozenset({'Gra-Mix Ardenner Mischung'}),\n",
       "  frozenset({'Applaws Hühnchen & Lachs Katzenfutter'}),\n",
       "  frozenset({'Royal Canin Vet Care 12 x 100 g'}),\n",
       "  frozenset({\"Mr. Woodfield Roll 'n' Fun\"}),\n",
       "  frozenset({\"Savic Refresh'r Household Cleaner Spray\"}),\n",
       "  frozenset({'Whiskas Knuspertaschen 60 g + 50% gratis'}),\n",
       "  frozenset({'Trixie Streuschaufel mit Halter'}),\n",
       "  frozenset({'Sheba Classic Soup 4 x 40 g'}),\n",
       "  frozenset({'Megapack Whiskas Junior 12 x 100 g'}),\n",
       "  frozenset({'Pompon-Bälle mit Catnip'}),\n",
       "  frozenset({'Orijen - 6 Fish (DOG)'}),\n",
       "  frozenset({'Spot´n Go Spot-on für große Hunde'}),\n",
       "  frozenset({'Denta Stix Fresh 7 Stück'}),\n",
       "  frozenset({'Dose Smilla Zahnpflegesnack Toothies 125g'}),\n",
       "  frozenset({'Erdnüsse gehackt 1 kg'}),\n",
       "  frozenset({'Tigeria Sticklettis'}),\n",
       "  frozenset({'Opti Life Adult Maxi'}),\n",
       "  frozenset({'Mixed Megapack Animonda Carny Adult 6 x 800 g'}),\n",
       "  frozenset({'Spiel-Huhn mit Squeaker Hundespielzeug'}),\n",
       "  frozenset({'Bosch Fruitees 200g'}),\n",
       "  frozenset({'RC Ragdoll Adult'}),\n",
       "  frozenset({'Dokas Kaustange mit Entenbrust'}),\n",
       "  frozenset({'Rinti Chicko'}),\n",
       "  frozenset({'Royal Canin Vet Diet - Urinary S/O'}),\n",
       "  frozenset({'Royal Canin SHN Dose 195 g'}),\n",
       "  frozenset({'MAC´s Cat Katzenfutter 6 x 200 g MP'}),\n",
       "  frozenset({'JR Farm Bergwiesenheu'}),\n",
       "  frozenset({'Benita Katzentoilettenvorlage'}),\n",
       "  frozenset({'Lillebro Sonnenblumenkerne 5 kg'}),\n",
       "  frozenset({'Rocco Classic Nassfutter'}),\n",
       "  frozenset({'Versele-Laga Oropharma Deodo Geruchsbinder'}),\n",
       "  frozenset({'Nappy-Stubenrein'}),\n",
       "  frozenset({\"Hill's PD Canine Derm Defense\"}),\n",
       "  frozenset({'Puppy Kong'}),\n",
       "  frozenset({'Dibo Gefüllter Markknochen'}),\n",
       "  frozenset({'Verm-X Leckerchen für Hunde'}),\n",
       "  frozenset({'- Pedigree Can 12 x 400 g'}),\n",
       "  frozenset({'Megapack Rocco Classic 6 x 800g'}),\n",
       "  frozenset({'Almo Nature Bio Pate 100g'}),\n",
       "  frozenset({'Kong Extreme Ball'}),\n",
       "  frozenset({'Toilettenvorleger Halbrund'}),\n",
       "  frozenset({'Raupe Katzentunnel'}),\n",
       "  frozenset({'Smilla Trockenfutter Adult Rind'}),\n",
       "  frozenset({'Megapack Animonda Carny Adult 6 x 400 g'}),\n",
       "  frozenset({'Pro Plan Medium Adult Lamm'}),\n",
       "  frozenset({'Rinti Extra Mini Bits 100 g'}),\n",
       "  frozenset({'Gourmet A la Carte, 85 g'}),\n",
       "  frozenset({'Vitakraft Kräcker 3 Stück'}),\n",
       "  frozenset({'Megapack Felix \"Sensation\" 24 x 100 g'}),\n",
       "  frozenset({'Purizon Adult Dog Chicken & Fish'}),\n",
       "  frozenset({'Purizon Adult Black Angus'}),\n",
       "  frozenset({'Almo Nature Holistic Fettfisch & Reis'}),\n",
       "  frozenset({'Royal Canin Medium Digestive Care'}),\n",
       "  frozenset({'Yarrah Wellness Pate 100 g'}),\n",
       "  frozenset({'Crock Complete 50 g'}),\n",
       "  frozenset({'SlimCat Futterball'}),\n",
       "  frozenset({\"Hill's Feline Kitten Huhn\"}),\n",
       "  frozenset({'Vetbed Isobed SL Hundedecke Paw, schwarz/grau'}),\n",
       "  frozenset({'Litter Locker II'}),\n",
       "  frozenset({'Megapack Cosma THAI 6 x 85 g'}),\n",
       "  frozenset({'MP Felix Sensations Soßen Sause 24 x 100 g'}),\n",
       "  frozenset({'Bosch HPC Maxi Adult'}),\n",
       "  frozenset({'Premio Chicken Drumsticks'}),\n",
       "  frozenset({'Vitakraft Grünlinge'}),\n",
       "  frozenset({'Lukullus Nassfutter'}),\n",
       "  frozenset({'Digestive Care'}),\n",
       "  frozenset({'Whiskas Knusper-Taschen'}),\n",
       "  frozenset({'Taste of the Wild High Prairie Puppy'}),\n",
       "  frozenset({'Katzentoilettenbeutel'}),\n",
       "  frozenset({'Megapack Gourmet Gold Eiersoufflé 12 x 85 g'}),\n",
       "  frozenset({'Cat & Clean Sensitive mit Babypuderduft'}),\n",
       "  frozenset({'Royal Canin Light Weight Care 40'}),\n",
       "  frozenset({'Tigerino Canada Probiergröße'}),\n",
       "  frozenset({'Katzennetz oliv with wire (PE)'}),\n",
       "  frozenset({'Royal Canin Breed Bulldog 24 Adult'}),\n",
       "  frozenset({'Orthopädisches Hundesofa grau'}),\n",
       "  frozenset({'Dokas Kaustange mit Hühnerbrust'}),\n",
       "  frozenset({'Pro Plan Medium & Large Adult 7+ Huhn & Reis'}),\n",
       "  frozenset({'Purina One Coat & Hairball'}),\n",
       "  frozenset({'Vitakraft Beef-Stick® 25x12g'}),\n",
       "  frozenset({'Vitakraft Magic Clean 5l Katze'}),\n",
       "  frozenset({'Trixie Ohrenpflege'}),\n",
       "  frozenset({'Miamor Pastete 85 g Dose'}),\n",
       "  frozenset({'Schaf Hundespielzeug'}),\n",
       "  frozenset({'Concept for Life Indoor Cats'}),\n",
       "  frozenset({'White Dogs Hundekissen'}),\n",
       "  frozenset({'Whiskas Crunch 100 g'}),\n",
       "  frozenset({'MP Smilla Geflügeltöpfchen 6 x 800 g '}),\n",
       "  frozenset({'MP  Cosma Thai Pouches 6x100g'}),\n",
       "  frozenset({'Wildvogelfutter schalenfrei 4 kg'}),\n",
       "  frozenset({'Wolf of Wilderness Junior'}),\n",
       "  frozenset({'Dotti aus Plüsch Hundespielzeug'}),\n",
       "  frozenset({'Royal Canin Vet Care Senior Consult Stage 1 Balance'}),\n",
       "  frozenset({'Sepiaschale mit Halter'}),\n",
       "  frozenset({\"Hill's Canine Mature Adult Senior Huhn\"}),\n",
       "  frozenset({'Granatapet Delicatessen Katze MP 6 x 400 g'}),\n",
       "  frozenset({'Lady-Bug Brush'}),\n",
       "  frozenset({'Hunter Lachsöl'}),\n",
       "  frozenset({'Megapack Cosma Original 6 x 400g'}),\n",
       "  frozenset({'Megapack Thrive Complete 6 x 75 g'}),\n",
       "  frozenset({'RC Veterinary Diet Gastro Intestinal Low Fat'}),\n",
       "  frozenset({'Purina One SterilCat Lachs'}),\n",
       "  frozenset({'Megapack Catessy Pouch 12x100g'}),\n",
       "  frozenset({'Dibo Premium Schweineohren'}),\n",
       "  frozenset({'Eukanuba Daily Care Sensitive Joints'}),\n",
       "  frozenset({'Kong Extreme Schwarz'}),\n",
       "  frozenset({'Almo Nature Classic Pouch - Multipack 6x55g'}),\n",
       "  frozenset({'Pro Plan Small & Mini Adult Huhn & Reis'}),\n",
       "  frozenset({'Demavic Feuchttücher'}),\n",
       "  frozenset({'Beaphar Dog-A-Dent Zahnpasta'}),\n",
       "  frozenset({'Beaphar Dog-A-Dent Zahnbürste'}),\n",
       "  frozenset({'PRO PLAN STERILISED -  rabbit'}),\n",
       "  frozenset({'Mixed Megapack Miamor Ragout Royale 12 x 100 g'}),\n",
       "  frozenset({'Royal Canin Exigent 33'}),\n",
       "  frozenset({'Wollmaus Katzenspielzeug'}),\n",
       "  frozenset({'Katzenhaus Home XL'}),\n",
       "  frozenset({'Applaws Cat Tin 6x70g in Jelly'}),\n",
       "  frozenset({'Sanabelle Adult mit Forelle'}),\n",
       "  frozenset({'Feringa Trockenfutter Fisch, Kürbis, Blaubeeren&Katzenminze'}),\n",
       "  frozenset({'Rocco Rinderpansen grün'}),\n",
       "  frozenset({'Streuschaufel grobe Streu, 27 x 10 x 2 cm'}),\n",
       "  frozenset({'INNE CAT KITTEN'}),\n",
       "  frozenset({'KONG Jumbler Ball'}),\n",
       "  frozenset({'Fresh Flow Deluxe Trinkbrunnen'}),\n",
       "  frozenset({'Royal Canin Vet Care Senior Consult Stage 2'}),\n",
       "  frozenset({'Prestige Papagei'}),\n",
       "  frozenset({'Biokats Micro Fresh Katzenstreu'}),\n",
       "  frozenset({'Wolf of Wilderness – Ohren'}),\n",
       "  frozenset({'Alpha Spirit Individual Stick 30 pieces'}),\n",
       "  frozenset({'Dokas Hühnerbrust mit Fisch'}),\n",
       "  frozenset({'Keramikschale für Katzengrass'}),\n",
       "  frozenset({'Megapack Gourmet Gold Terrine 12 x 85 g'}),\n",
       "  frozenset({'Taste of the Wild Southwest Canyon'}),\n",
       "  frozenset({'JR Farm Kolbenhirse gelb'}),\n",
       "  frozenset({'Megapack Feringa Kitten Dose 6 x 200 g Duo'}),\n",
       "  frozenset({'Prestige Wellensittich'}),\n",
       "  frozenset({'Prestige Vogelfutter Großsittiche'}),\n",
       "  frozenset({'Whiskas Dentabites'}),\n",
       "  frozenset({'Beißwurst mit Handschlaufe'}),\n",
       "  frozenset({'Megapack Felix \"So gut wie es...\" 12 x 100 g'}),\n",
       "  frozenset({'Katzentoilette Savic Nestor Jumbo'}),\n",
       "  frozenset({'MP Concept for Life 12 x 85g '}),\n",
       "  frozenset({'Megapack Kitekat Frischebeutel 12 x 100 g'}),\n",
       "  frozenset({'Kuschelkissen für Hundeboxen'}),\n",
       "  frozenset({'Katzenspielzeug Natural Catnip Ball'}),\n",
       "  frozenset({\"Hill's Canine Adult Nassfutter 370 g\"}),\n",
       "  frozenset({\"Hill's Canine Adult Light\"}),\n",
       "  frozenset({'Royal Canin Health Nutrition Dermacomfort Maxi'}),\n",
       "  frozenset({'Royal Canin Ageing +12'}),\n",
       "  frozenset({'Royal Canin - Vet Diet - Hypoallergenic'}),\n",
       "  frozenset({'MP Dreamies Selection Box 4 x 30 g'}),\n",
       "  frozenset({\"Hill's Canine Adult Large Breed Lamm & Reis\"}),\n",
       "  frozenset({\"Hill's PD - Feline K/D Chicken Nassfutter\"}),\n",
       "  frozenset({'Barkoo Kaustange '}),\n",
       "  frozenset({'Felix Häppchen in Gelee 400 g'}),\n",
       "  frozenset({'Almo Nature Daily Menu 400 g'}),\n",
       "  frozenset({'Royal Canin Breed Chihuahua 28 Adult'}),\n",
       "  frozenset({'DogMio Barkis'}),\n",
       "  frozenset({'Royal Canin Mini Puppy'}),\n",
       "  frozenset({'ACANA Regionals Wild Prairie CAT'}),\n",
       "  frozenset({'Dog Chow Adult Sensitive Salmon'}),\n",
       "  frozenset({'Bosch HPC Sensitive Lamm & Reis'}),\n",
       "  frozenset({'Advance Veterinary Diets Dog ARTICULAR CARE'}),\n",
       "  frozenset({'Pro Plan Large Puppy Athletic Huhn & Reis'}),\n",
       "  frozenset({'Royal Canin Veterinary Diet Renal Select'}),\n",
       "  frozenset({'Vitakraft Cat Liquid-Snack 6 x 15 g'}),\n",
       "  frozenset({'Kong Flyer Hundefrisbee'}),\n",
       "  frozenset({'Advantage 80 (FR) Katze + 4 kg'}),\n",
       "  frozenset({'Kong Classic rot'}),\n",
       "  frozenset({'Universal-Aktivkohlefilter'}),\n",
       "  frozenset({'MP Lukullus Pouch Länderkonzept 6 x 300g'}),\n",
       "  frozenset({'Lukullus Pouch gemischtes Paket 6 x 300 g'}),\n",
       "  frozenset({'Royal Canin Maxi Digestive Care'}),\n",
       "  frozenset({'Minou Kuschelhöhle'}),\n",
       "  frozenset({\"Hill's Canine Healthy Mobility Large Breed\"}),\n",
       "  frozenset({'Orijen - Puppy Large (DOG)'}),\n",
       "  frozenset({'Yarrah Bio Natures Finest'}),\n",
       "  frozenset({'Catsan Smart Pack (3,95 kg)'}),\n",
       "  frozenset({'Advantix (FR) für Hunde - 4/10 kg'}),\n",
       "  frozenset({'Megapack Cosma Original 6 x 170 g Dose'}),\n",
       "  frozenset({'MP Almo Nature Classic 6 x 55 g'}),\n",
       "  frozenset({'Kong Feather Mouse'}),\n",
       "  frozenset({'Katzenspielzeug Trixie Plüschmäuse 6er Pack'}),\n",
       "  frozenset({'Almo Nature Anti Hairball Pouch 70 g'}),\n",
       "  frozenset({'Hill´s PD Feline w/d'}),\n",
       "  frozenset({'Tigerino Nuggies coarse-grained baby powder 14 l'}),\n",
       "  frozenset({'Holzball mit Glöckchen'}),\n",
       "  frozenset({'Bosch Hundesnacks'}),\n",
       "  frozenset({'Pro Plan Medium Adult Sensitive Digestion Huhn & Reis'}),\n",
       "  frozenset({'Pro Plan Cat Adult Cat Huhn & Reis'}),\n",
       "  frozenset({'Almo Nature Daily'}),\n",
       "  frozenset({'Gimpet Pudding für Katzen 150g'}),\n",
       "  frozenset({'Royal Canin Veterinary Diet Cat - Calm'}),\n",
       "  frozenset({'Royal Canin - Vet Diet - Diabetic'}),\n",
       "  frozenset({'Sanabelle Light'}),\n",
       "  frozenset({\"Hill's Science Plan Sterilised Cat Mature Adult\"}),\n",
       "  frozenset({'Royal Canin Kitten Sterilised'}),\n",
       "  frozenset({'Pedigree Riesenknochen'}),\n",
       "  frozenset({'WoW 12 kg Wild Hills '}),\n",
       "  frozenset({'Pick-Up Fusselrolle'}),\n",
       "  frozenset({'Katzenangel 3 in 1 XXL'}),\n",
       "  frozenset({'Catch the Light - Laserpointer'}),\n",
       "  frozenset({'CA Senses 2.0'}),\n",
       "  frozenset({'Animonda INTEGRA Protect Adult Diabetes 100 g Schale'}),\n",
       "  frozenset({'Royal Canin Veterinary Diet Dog - Gastro Intestinal'}),\n",
       "  frozenset({'Miamor Cat Confect Malt-Cream'}),\n",
       "  frozenset({'Megapack Lukullus 6 x 400 g'}),\n",
       "  frozenset({'Kong Goodie Bone'}),\n",
       "  frozenset({'Savic Katzentoilette Hop In'}),\n",
       "  frozenset({'Almo Nature Sterilised Pouch70 g'}),\n",
       "  frozenset({\"Hill's Feline Hairball Control Adult\"}),\n",
       "  frozenset({'Pro Plan Biscuits Light'}),\n",
       "  frozenset({'Pro Plan Biscuits Lamm & Reis'}),\n",
       "  frozenset({'Pro Plan Biscuits Lachs & Reis'}),\n",
       "  frozenset({'Pro Plan Biscuits Huhn & Reis'}),\n",
       "  frozenset({'Doppel-Spieltau Bunt Hundespielzeug'}),\n",
       "  frozenset({'Pro Plan Cat Sterilised reich an Truthahn'}),\n",
       "  frozenset({'Professional Classic mit Babypuderduft'}),\n",
       "  frozenset({'Hill´s PD Feline r/d'}),\n",
       "  frozenset({'Hill´s PD Feline y/d'}),\n",
       "  frozenset({'Purizon Single Meat'}),\n",
       "  frozenset({'Hill´s PD Feline 12 x 85 g'}),\n",
       "  frozenset({'INNE CAT ADULT FISH'}),\n",
       "  frozenset({'Royal Canin - Vet Care - Young Female'}),\n",
       "  frozenset({'Smilla Multi-Vitamin Katzenpaste'}),\n",
       "  frozenset({'Hill´s PD Canine j/d Reduced Calorie'}),\n",
       "  frozenset({'Pro Plan Large Puppy Robust Huhn & Reis'}),\n",
       "  frozenset({\"Savic Refresh'r Wipes Sensitive\"}),\n",
       "  frozenset({'Megapack Feringa Duo Pouch 12 x 85 g'}),\n",
       "  frozenset({'Feringa Trockenfutter Ente, Kürbis,Cranberries & Katzenminze'}),\n",
       "  frozenset({'Applaws Hühnchen Katzenfutter'}),\n",
       "  frozenset({'Smilla Trockenfutter Adult Sterilised'}),\n",
       "  frozenset({\"Hill's Canine Adult Lamm & Reis\"}),\n",
       "  frozenset({'Royal Canin Veterinary Diet Dog - Mobility C2P+'}),\n",
       "  frozenset({'Pro Plan Cat Adult Delicate'}),\n",
       "  frozenset({'Megapack Gourmet Perle 24 x 85 g'}),\n",
       "  frozenset({'Cosma Thai in Jelly 6 x 400 g'}),\n",
       "  frozenset({'Megapack Feringa Dose 6 x 200 g Duo'}),\n",
       "  frozenset({'JR Farm Drops'}),\n",
       "  frozenset({'ProDen PlaqueOff Zahnpflege'}),\n",
       "  frozenset({'Hill´s Sience Plan Sterilised Young Adult Tuna'}),\n",
       "  frozenset({'Cat’s Best Smart Pellet'}),\n",
       "  frozenset({'Josera Emotion Optiness'}),\n",
       "  frozenset({'Megapack cosma nature 6 x 280 g'}),\n",
       "  frozenset({'Tigerino XXL Streu'}),\n",
       "  frozenset({'Royal Canin Indoor 27'}),\n",
       "  frozenset({'Megapack Feringa Dose 6 x 400 g Duo'}),\n",
       "  frozenset({'MP Catessy Katzenstick Bar-B-Q- mit Pute 10 x 5 g '}),\n",
       "  frozenset({'Bosch Bio Adult'}),\n",
       "  frozenset({'Megapack Feringa Dose 6  x  200 g'}),\n",
       "  frozenset({'Katzenspielzeug-Set mit Bällen & Mäusen'}),\n",
       "  frozenset({'Royal Canin Exigent 42'}),\n",
       "  frozenset({'Kong Stuff´n Easy Treat'}),\n",
       "  frozenset({'Dibo Lachsöl'}),\n",
       "  frozenset({\"Hill's Feline Adult Light Huhn\"}),\n",
       "  frozenset({'Bosch HPC Light '}),\n",
       "  frozenset({'Eukanuba Adult Large Breed Lamb & Rice'}),\n",
       "  frozenset({'Royal Canin Oral Care'}),\n",
       "  frozenset({'Royal Canin Exigent 35/30'}),\n",
       "  frozenset({'Hill´s Frischebeutel 85 g'}),\n",
       "  frozenset({'Sheba Megapack 12x85g'}),\n",
       "  frozenset({'Eukanuba Daily Care Sensitive Skin'}),\n",
       "  frozenset({'Eukanuba Adult Lamb & Rice Small & Medium'}),\n",
       "  frozenset({'Katzengras Nachfüllbeutel, ca. 100g'}),\n",
       "  frozenset({'Frontline Combo DOG (FR) - 20 -40 kg'}),\n",
       "  frozenset({'Eukanuba Daily Care Sensitive Digestion'}),\n",
       "  frozenset({'Megapack Animonda Carny Adult 6 x 200 g'}),\n",
       "  frozenset({'Bozita Häppchen in Soße 370 g'}),\n",
       "  frozenset({'Markus-Mühle NaturNahFutter'}),\n",
       "  frozenset({\"Hill's Canine Light Adult Large Breed mit Huhn\"}),\n",
       "  frozenset({'Adult Sensitive Salmon & Potato'}),\n",
       "  frozenset({'Vitakraft Cat Stick Mini 6 x 6 g'}),\n",
       "  frozenset({'Schesir Pouch 100 g'}),\n",
       "  frozenset({'Schesir Fruit 75 g'}),\n",
       "  frozenset({'Catessy Katzen-Milch'}),\n",
       "  frozenset({'Weidenbrücke für Nager'}),\n",
       "  frozenset({'KONG Cuteseas Octopus'}),\n",
       "  frozenset({'Purizon Cat Kitten Huhn & Fisch'}),\n",
       "  frozenset({'Katzensoftball'}),\n",
       "  frozenset({'Katzenangel Leo'}),\n",
       "  frozenset({'Scalibor (FR) Ungezieferhalsband für Hunde'}),\n",
       "  frozenset({'Royal Canin Nutritional Supplement'}),\n",
       "  frozenset({'Rocco Ochsenziemer 12 cm'}),\n",
       "  frozenset({'Savic Bag it Up Litter Tray Bags'}),\n",
       "  frozenset({'ACANA Regionals Wild Prairie Dog'}),\n",
       "  frozenset({'Megapack Sheba Fresh & Fine 6 x 50 g'}),\n",
       "  frozenset({'Drinkwell Trinkbrunnen'}),\n",
       "  frozenset({'Furminator deShedding Tool für Katzen'}),\n",
       "  frozenset({'Katzenspielzeug Wild Mouse mit Sound und LED'}),\n",
       "  frozenset({'Bosch HPC Active'}),\n",
       "  frozenset({'Cuni Complete'}),\n",
       "  frozenset({'Kalbshufe'}),\n",
       "  frozenset({'Royal Canin Medium Light Weight Care'}),\n",
       "  frozenset({'Extreme Classic Katzenstreu mit Babypuderduft'}),\n",
       "  frozenset({'Mehlwürmer getrocknet 500 g'}),\n",
       "  frozenset({'Exotic Fruit - Obstmischung für Papageien'}),\n",
       "  frozenset({'WoW 1 kg Wild Hills'}),\n",
       "  frozenset({'WoW 1 kg Sunny Glade '}),\n",
       "  frozenset({'WoW 1 kg Blue River '}),\n",
       "  frozenset({'Schesir in Brühe 70 g'}),\n",
       "  frozenset({'Schesir Natural mit Reis 85 g'}),\n",
       "  frozenset({'Sanabelle Sterilized'}),\n",
       "  frozenset({'Josera Emotion Sensiplus'}),\n",
       "  frozenset({'Rutschfester Katzennapf mit Katzenmotiv'}),\n",
       "  frozenset({'RC Norwegian Forest Cat Adult'}),\n",
       "  frozenset({'Hill´s PD - Canine R/D'}),\n",
       "  frozenset({'Taste of the Wild - High Prairie Canine'}),\n",
       "  frozenset({'Bosch Goodies 450 g'}),\n",
       "  frozenset({'Pedigree C&T DentaFlex'}),\n",
       "  frozenset({'Royal Canin Maine Coon 31'}),\n",
       "  frozenset({'Frontline spot-on (FR) Katze'}),\n",
       "  frozenset({'Catsan Ultra Klumpstreu'}),\n",
       "  frozenset({'Keramiknapf zweifarbig'}),\n",
       "  frozenset({'Extra Bonuspunkte'}),\n",
       "  frozenset({'Pedigree Pouch 12x100g MP'}),\n",
       "  frozenset({'Royal Canin Vet Diet - Satiety Support weight management'}),\n",
       "  frozenset({'Royal Canin Indoor Long Hair'}),\n",
       "  frozenset({'Puppy Trainer Pads'}),\n",
       "  frozenset({'Purina One Sensitive'}),\n",
       "  frozenset({'Spieltau Bunt'}),\n",
       "  frozenset({'Eukanuba Daily Care Overweight'}),\n",
       "  frozenset({'Royal Canin Babycat 34'}),\n",
       "  frozenset({'Catit Design Senses Spielschiene'}),\n",
       "  frozenset({'Silicon Bowl '}),\n",
       "  frozenset({'8in1 Dental Delights Kauknochen'}),\n",
       "  frozenset({'8in1 Delights Pro Dental Twisted Sticks'}),\n",
       "  frozenset({'Josera NatureCat'}),\n",
       "  frozenset({'Concept for Life Cat Maine Coon'}),\n",
       "  frozenset({'Concept for Life Cat Kitten'}),\n",
       "  frozenset({'Concept for Life All Cats'}),\n",
       "  frozenset({'Smilla Malt Katzenpaste'}),\n",
       "  frozenset({'Alpha Spirit halber Schinkenknochen'}),\n",
       "  frozenset({'Megapack Whiskas Frischebeutel 12 x 100 g'}),\n",
       "  frozenset({'MP Whiskas Ragout 12 x 85'}),\n",
       "  frozenset({'Frontline combo (FR) Katze'}),\n",
       "  frozenset({'Eukanuba Puppy Large Breed'}),\n",
       "  frozenset({'Royal Canin Breed Labrador Retriever 30'}),\n",
       "  frozenset({'Double Door Transportkäfig'}),\n",
       "  frozenset({'Megapack cosma nature 6 x 70 g Dose'}),\n",
       "  frozenset({'Megapack cosma nature 6 x 140 g'}),\n",
       "  frozenset({'Ovale Bürste zweiseitig'}),\n",
       "  frozenset({\"Hill's Feline Adult Huhn\"}),\n",
       "  frozenset({'Royal Canin - Vet Diet - Satiety Support'}),\n",
       "  frozenset({'Purina One SterilCat Rind'}),\n",
       "  frozenset({'Purina One Indoor Formula'}),\n",
       "  frozenset({'Purina One Adult Lachs & Vollkorngetreide'}),\n",
       "  frozenset({'Purina One Adult Huhn & Vollkorngetreide'}),\n",
       "  frozenset({'Purina One 85 g'}),\n",
       "  frozenset({'Purina ONE Urinary Care'}),\n",
       "  frozenset({'Megapack Gourmet Perle 8 x 85 g'}),\n",
       "  frozenset({'Pro Plan Medium Adult Huhn & Reis'}),\n",
       "  frozenset({'Barkoo Kauknochen geknotet'}),\n",
       "  frozenset({'WoW 12 kg Green Fields '}),\n",
       "  frozenset({'Royal Canin Special Club Performance Adult CC'}),\n",
       "  frozenset({\"Cat's Best Universal\"}),\n",
       "  frozenset({'Orijen - Cat & Kitten (CAT)'}),\n",
       "  frozenset({'Taste of the Wild - Canyon River Feline'}),\n",
       "  frozenset({'Royal Canin Medium Adult Sterilised'}),\n",
       "  frozenset({'Orijen Cat Snack 35 g'}),\n",
       "  frozenset({'Hill`s PD Canine a/d'}),\n",
       "  frozenset({'PET CORRECTOR'}),\n",
       "  frozenset({'Lukullus Kauknochen mit Lamm'}),\n",
       "  frozenset({'Lukullus Kauknochen mit Lachs 12 x 5 cm'}),\n",
       "  frozenset({'Megapack Smilla Geflügeltöpfchen 6 x 400 g'}),\n",
       "  frozenset({'Megapack Gourmet Gold Zarte Häppchen 12 x 85g'}),\n",
       "  frozenset({'Megapack Gourmet Gold 4 x 85 g'}),\n",
       "  frozenset({'Bozita Häppchen in Gelee 370 g'}),\n",
       "  frozenset({'Advantix (FR) für Hunde - 10/25 kg'}),\n",
       "  frozenset({'Crispy Muesli Meerschweinchen'}),\n",
       "  frozenset({'Bio Hanfstreu'}),\n",
       "  frozenset({'INNE CAT ADULT CHICKEN'}),\n",
       "  frozenset({'Savic Katzentoilette Nestor'}),\n",
       "  frozenset({'Hundekönig Napfunterlage'}),\n",
       "  frozenset({'Megapack Cosma Thai 6 x 170 g Dose'}),\n",
       "  frozenset({'MP Catz Finefood 6 x 200 g Dose'}),\n",
       "  frozenset({'INNE CAT STERILIZED'}),\n",
       "  frozenset({'Royal Canin Veterinary Diet Renal Special'}),\n",
       "  frozenset({'Megapack Almo Nature Daily Menu 2 x 170 g'}),\n",
       "  frozenset({'Dreamies Katzensnack'}),\n",
       "  frozenset({'Hill´s PD - Feline Z/D'}),\n",
       "  frozenset({'Royal Canin Maxi Mature/ Adult 5+'}),\n",
       "  frozenset({'Trixie Neutral-Shampoo'}),\n",
       "  frozenset({'Kong Cozie Ali'}),\n",
       "  frozenset({\"Hill's Science Plan Sterilised Cat Young Adult\"}),\n",
       "  frozenset({'Royal Canin Outdoor 30'}),\n",
       "  frozenset({'Extreme Classic Katzenstreu Parfümfrei'}),\n",
       "  frozenset({'Kuscheldecke Fleece Paws Dark Grey'}),\n",
       "  frozenset({'Nullodor Silikatstreu'}),\n",
       "  frozenset({\"Hill's Canine Adult Mini\"}),\n",
       "  frozenset({'Lillebro Sonnenblumenkerne'}),\n",
       "  frozenset({'Dibo Mini-Leckerli-Mix'}),\n",
       "  frozenset({'Pro Plan Large Robust Adult Lamm'}),\n",
       "  frozenset({'Bosch HPC Adult Fisch & Kartoffel'}),\n",
       "  frozenset({'Eukanuba Adult Medium Chicken'}),\n",
       "  frozenset({'Royal Canin Breed Sterilised Labrador Retriever Adult'}),\n",
       "  frozenset({'Smilla Trockenfutter Adult Geflügel'}),\n",
       "  frozenset({'Sheba 80 g'}),\n",
       "  frozenset({'Felix Snacks 60g'}),\n",
       "  frozenset({\"Hill's Feline Adult Thunfisch\"}),\n",
       "  frozenset({'Bozita Nassfutter 410 g'}),\n",
       "  frozenset({'Hill´s PD Feline Metabolic'}),\n",
       "  frozenset({'Royal Canin French Bulldog'}),\n",
       "  frozenset({'WoW 12 kg Sunny Glade '}),\n",
       "  frozenset({'MP WoW mixed 6x800g'}),\n",
       "  frozenset({'Dog Snagger Schweinenasen gepufft'}),\n",
       "  frozenset({'Pro Plan Medium Adult Sensitive Skin Lachs & Reis'}),\n",
       "  frozenset({'PRO PLAN STERILISED CAT'}),\n",
       "  frozenset({'Sanabelle Urinary'}),\n",
       "  frozenset({'Royal Canin Breed Boxer 26'}),\n",
       "  frozenset({'Barkoo Kaurollen gedreht natur'}),\n",
       "  frozenset({'Tigerino Canada Lemongrass'}),\n",
       "  frozenset({'Royal Canin Vet Care Neutered Satiety Balance'}),\n",
       "  frozenset({'Hill´s PD Canine z/d'}),\n",
       "  frozenset({'MP Felix 120x100'}),\n",
       "  frozenset({'Royal Canin Maxi Puppy'}),\n",
       "  frozenset({'Megapack Catessy Pouch 12  x 100 g'}),\n",
       "  frozenset({'Streuschaufel Ultrastreu, 27 x 10 x 2 cm'}),\n",
       "  frozenset({\"Hill's Feline Oral Care\"}),\n",
       "  frozenset({'Royal Canin - Vet Care - Young Male'}),\n",
       "  frozenset({'Royal Canin - Vet Diet - Gastro Intestinal '}),\n",
       "  frozenset({'Dog Snagger Premium Schweineohren'}),\n",
       "  frozenset({'Beaphar Hunde Shampoo für weißes Fell'}),\n",
       "  frozenset({'MP Almo Nature Light 3 x 50 g'}),\n",
       "  frozenset({'Concept for Life All Cats 10+'}),\n",
       "  frozenset({'Cavia Complete'}),\n",
       "  frozenset({'Royal Canin Breed Cavalier King Charles 27 Adult'}),\n",
       "  frozenset({'Whiskas Gelenk Bits'}),\n",
       "  frozenset({'MP Gourmet Mon Petit 6 x 50 g'}),\n",
       "  frozenset({'Katzenspielzeug Maus mit Katzenminze und Stimme'}),\n",
       "  frozenset({'Concept for Life Sensitive Cats'}),\n",
       "  frozenset({'Royal Canin Sterilised Appetite Control'}),\n",
       "  frozenset({'Kratzmöbel Wellpappe '}),\n",
       "  frozenset({'Hill´s PD c/d Urinary Stress Reduced Calorie'}),\n",
       "  frozenset({'Whiskas MP 84 x 100 g'}),\n",
       "  frozenset({'Pedigree Biscrok in 3 koestlichen Geschmacksrichtungen'}),\n",
       "  frozenset({'DogMio Biscuits'}),\n",
       "  frozenset({'Concept for Life Sterilised Cats'}),\n",
       "  frozenset({'Bosch HPC Adult Lamm & Reis'}),\n",
       "  frozenset({'8 in 1 Delights'}),\n",
       "  frozenset({'Pro Plan All sizes Adult Light Sterilised Huhn & Reis'}),\n",
       "  frozenset({'Smilla Trockenfutter Adult Fisch'}),\n",
       "  frozenset({'Eukanuba Adult Large Breed Chicken'}),\n",
       "  frozenset({'Taste of the Wild - Wetlands Canine'}),\n",
       "  frozenset({'Vitakraft Zwergkaninchen-Kräcker'}),\n",
       "  frozenset({'Purizon Adult Lamm & Lachs'}),\n",
       "  frozenset({'INNE SALMON OIL'}),\n",
       "  frozenset({'Applaws Cat Pate Dose Multipack 7x100g'}),\n",
       "  frozenset({'Natur Wiesenheu'}),\n",
       "  frozenset({'Pro Plan Medium & Large Adult 7+ Sensitive Skin Lachs & Reis'}),\n",
       "  frozenset({\"Hill's Canine Adult Large Breed mit Huhn\"}),\n",
       "  frozenset({'Lukullus Kauknochen mit Ente'}),\n",
       "  frozenset({'MAC´s Cat Katzenfutter 6 x 400 g MP'}),\n",
       "  frozenset({'Royal Canin Veterinary Diet Dog - Obesity Mangement'}),\n",
       "  frozenset({'Royal Canin - Vet Diet - Obesity Management '}),\n",
       "  frozenset({'Hill´s PD - Feline C/D'}),\n",
       "  frozenset({'Royal Canin Veterinary Diet Cat- Urinary S/O'}),\n",
       "  frozenset({'TPR Spiky Ball large'}),\n",
       "  frozenset({'Barkoo Kauknochen gepresst'}),\n",
       "  frozenset({'Royal Canin Giant Puppy'}),\n",
       "  frozenset({'Cuni Nature Kaninchenfutter'}),\n",
       "  frozenset({'Ultima Cat Sterilized Chicken'}),\n",
       "  frozenset({'Royal Canin Giant Adult'}),\n",
       "  frozenset({'Pedigree Denta Stix'}),\n",
       "  frozenset({'Vilmie Nagerfutter'}),\n",
       "  frozenset({'Royal Canin Breed Yorkshire Terrier 28'}),\n",
       "  frozenset({'RC Veterinary Diet Skin Care'}),\n",
       "  frozenset({'FUTTERBAR-Leckerlis 100 g'}),\n",
       "  frozenset({'Royal Canin Maxi Adult Sterilised'}),\n",
       "  frozenset({'WoW 1 kg Green Fields'}),\n",
       "  frozenset({'Pro Plan Large Adult Robust Huhn & Reis'}),\n",
       "  frozenset({'Royal Canin Breed Deutscher Schäferhund 24'}),\n",
       "  frozenset({'Advantix (FR) für Hunde - 25/40 kg'}),\n",
       "  frozenset({'Zylkene cap'}),\n",
       "  frozenset({'Kuschelbett Fluffy 2in1'}),\n",
       "  frozenset({'Kratzstamm Olga'}),\n",
       "  frozenset({'Golden Grey Master '}),\n",
       "  frozenset({'Sanabelle Adult mit Geflügel'}),\n",
       "  frozenset({'Eukanuba Adult Weight Control Large Breed'}),\n",
       "  frozenset({'Hill´s PD - Canine I/D'}),\n",
       "  frozenset({'Dog Snagger Schweineohren'}),\n",
       "  frozenset({\"Hill's PD - Feline I/D Chicken Nassfutter\"}),\n",
       "  frozenset({'Dosendeckel'}),\n",
       "  frozenset({'Royal Canin Breed Golden Retriever 25'}),\n",
       "  frozenset({'Pro Plan Small & Mini Adult Sensitive Skin Lachs & Reis'}),\n",
       "  frozenset({'Chipsi Super Heimtierstreu'}),\n",
       "  frozenset({'TetraMin Flockenfutter'}),\n",
       "  frozenset({'Pedigree Schmackos, 20 Stück'}),\n",
       "  frozenset({'Plüschmaus mit Catnip Katzenspielzeug'}),\n",
       "  frozenset({'Cosma gefriergetrocknete Snacks große Tube'}),\n",
       "  frozenset({'Bird Katzenangel'}),\n",
       "  frozenset({'Pro Plan Large Ath. Adult Lamm'}),\n",
       "  frozenset({'PURINA DENTALIFE SNACKS'}),\n",
       "  frozenset({'Golden White'}),\n",
       "  frozenset({'Felix Crispies 45 g'}),\n",
       "  frozenset({'Cookie´s Delikatess Kaurolle mit Hühnchenfiletstreifen'}),\n",
       "  frozenset({'Royal Canin Sterilised 12+'}),\n",
       "  frozenset({'Chuckit! Ultra Ball'}),\n",
       "  frozenset({'Trixie Gefüllte Kaurollen mit Pansen'}),\n",
       "  frozenset({'Verm-X Leckerchen für Katzen'}),\n",
       "  frozenset({'Tigerino Canada Unscented \"Sensitive\"'}),\n",
       "  frozenset({'Hill´s PD Canine Metabolic'}),\n",
       "  frozenset({'Orijen - Original (DOG)'}),\n",
       "  frozenset({'Silver Line Edelstahlnapf Matt-Black '}),\n",
       "  frozenset({'MP Denta Stix Fresh 28 (4 x 7) Stück'}),\n",
       "  frozenset({'Eukanuba Mature & Senior Large Breed'}),\n",
       "  frozenset({'WoW 12 kg Blue River '}),\n",
       "  frozenset({'Megapack Hills Frischebeutel 12 x 85 g'}),\n",
       "  frozenset({'Catit Trinkbrunnen 3 Liter'}),\n",
       "  frozenset({'Pro Plan Cat Sterilised reich an Lachs'}),\n",
       "  frozenset({'Krallenschere'}),\n",
       "  frozenset({'Barkoo Dental Snack'}),\n",
       "  frozenset({\"Hill's Canine Adult Huhn\"}),\n",
       "  frozenset({'Almo Nature Daily Menu 85 g'}),\n",
       "  frozenset({'Royal Canin Mini Adult'}),\n",
       "  frozenset({\"Hill's Canine Mature Adult Senior Large Breed\"}),\n",
       "  frozenset({'Tierfigur aus Baumwolltau Hundespielzeug'}),\n",
       "  frozenset({'Rocco Rinderohren natur'}),\n",
       "  frozenset({'Futtertonne aus Nylon'}),\n",
       "  frozenset({'Doggy Pick Up Hundekotbeutel'}),\n",
       "  frozenset({'Barkoo Kauknochen mit Pansenfüllung'}),\n",
       "  frozenset({'Royal Canin - Vet Diet - Renal - Megapack'}),\n",
       "  frozenset({'Feliway DE '}),\n",
       "  frozenset({'Royal Canin Health Nutrition Dermacomfort Medium'}),\n",
       "  frozenset({'Orijen - Senior (DOG)'}),\n",
       "  frozenset({'Royal Canin Mini Adult Sterilised'}),\n",
       "  frozenset({'Megapack Lukullus 6 x 800 g'}),\n",
       "  frozenset({'Lukullus Trockenfutter 1,5 kg-Beutel'}),\n",
       "  frozenset({'Lukullus Kauknochen mit Rind'}),\n",
       "  frozenset({'Lukullus Kauknochen mit Huhn'}),\n",
       "  frozenset({'Barkoo Kaurollen bunt gemixt'}),\n",
       "  frozenset({'Royal Canin Mini Adult +8'}),\n",
       "  frozenset({'Royal Canin Mini Light Weight Care'}),\n",
       "  frozenset({'Royal Canin - Vet Diet - Urinary S/O Moderate Calorie'}),\n",
       "  frozenset({'Feringa Sterilised Geflügel'}),\n",
       "  frozenset({'Almo Nature Classic 280 g'}),\n",
       "  frozenset({'Megapack Pedigree Denta Stix'}),\n",
       "  frozenset({'Fellpflege Handschuh'}),\n",
       "  frozenset({'Baskerville Ultra Muzzle'}),\n",
       "  frozenset({'Aloe Vera Hundeshampoo'}),\n",
       "  frozenset({'Multi-Scratch Kratzmatte aus Karton'}),\n",
       "  frozenset({'Megapack Gourmet Gold Feine Pastete 12 x 85g'}),\n",
       "  frozenset({'Kratzmöbel Scratch & Play'}),\n",
       "  frozenset({'Vitakraft Kräcker Großsittich'}),\n",
       "  frozenset({'Royal Canin Veterinary Diet Gastro Intestinal Moderate Calo'}),\n",
       "  frozenset({'Prestige Cuni Nature Re-Balance'}),\n",
       "  frozenset({'MP Royal Canin Veterinary Diet Megapack 12 x 100 g'}),\n",
       "  frozenset({'MP Almo Nature Classic HFC Natural Cat 6x140 g'}),\n",
       "  frozenset({'Greenwoods Wiesenheu'}),\n",
       "  frozenset({'Golden Grey Odour'}),\n",
       "  frozenset({'Seresto Collier Katze (FR)'}),\n",
       "  frozenset({'Almo Nature Holistic Huhn & Reis'}),\n",
       "  frozenset({'Hill´s PD - Canine J/D'}),\n",
       "  frozenset({\"Hill's Canine Puppy Large Breed\"}),\n",
       "  frozenset({'Spende für bedürftige Tiere'}),\n",
       "  frozenset({'MP Whiskas Can 12 x 400 g'}),\n",
       "  frozenset({'Kuscheldecke Fleece Paws Light Grey'}),\n",
       "  frozenset({'Megapack Schesir 6 x 50 g'}),\n",
       "  frozenset({'Applaws Cat Tin 6x70g in Broth'}),\n",
       "  frozenset({'Royal Canin Maxi Ageing 8+'}),\n",
       "  frozenset({'Royal Canin Giant Junior'}),\n",
       "  frozenset({'Advantage 40 (FR) Katze < 4 kg'}),\n",
       "  frozenset({'Gummiball mit Schnur Hundespielzeug'}),\n",
       "  frozenset({'Dog Snagger Rinderkopfhaut'}),\n",
       "  frozenset({'8 in 1 Fillets pro 80 g'}),\n",
       "  frozenset({'Taste of the Wild Sierra Mountain'}),\n",
       "  frozenset({'Royal Canin Kitten Maine Coon 36'}),\n",
       "  frozenset({'Pro Plan Large Adult Atheltic Huhn & Reis'}),\n",
       "  frozenset({'Kong Tennisball mit Quietschi'}),\n",
       "  frozenset({'Royal Canin Fit 32'}),\n",
       "  frozenset({'Royal Canin Veterinary Diet Megapack 12 x 85 g'}),\n",
       "  frozenset({'Royal Canin - Vet Diet Katze - Renal'}),\n",
       "  frozenset({'RAZAS  Schinkenknochen'}),\n",
       "  frozenset({'Megapack Rocco Classic 6 x 400g, gemischtes Paket'}),\n",
       "  frozenset({'Whiskas 1+ Megapack 12 x 100 g '}),\n",
       "  frozenset({'MP Meisenknödel 6x90g'}),\n",
       "  frozenset({'Lillebro Wildvogelfutter'}),\n",
       "  frozenset({'MP Almo Nature Legend  Mix 6 x 70 g'}),\n",
       "  frozenset({\"Hill's Feline Mature Adult Longevity Senior Huhn\"}),\n",
       "  frozenset({'Megapack Catessy Sticks 3 x 5'}),\n",
       "  frozenset({'MP Gourmet Perle 12 x 85 g'}),\n",
       "  frozenset({'MP Gourmet Gold Raffiniertes Ragout 12 x 85 g'}),\n",
       "  frozenset({'Catessy Knabber-Snack 65 g'}),\n",
       "  frozenset({'Latex-Schwein mit Stimme Hundespielzeug'}),\n",
       "  frozenset({'Dog Snagger Hühnerfüße'}),\n",
       "  frozenset({'JR Farm Chinchilla-Sand Spezial'}),\n",
       "  frozenset({'Hill´s PD c/d Urinary Stress'}),\n",
       "  frozenset({'Cat’s Best Original'}),\n",
       "  frozenset({'Whiskas Anti-Hairball'}),\n",
       "  frozenset({'Biokats micro Katzenstreu'}),\n",
       "  frozenset({'Tigerino-Frischeduft 14l'}),\n",
       "  frozenset({'Tigerino Crystals Fresh'}),\n",
       "  frozenset({'MP Felix \"So gut wie es aussieht\" 44 x 100 g'}),\n",
       "  frozenset({'Royal Canin Medium Puppy'}),\n",
       "  frozenset({'Tigerino-Babypuder 14l'}),\n",
       "  frozenset({'Tigerino Canada Babypowder'}),\n",
       "  frozenset({'Spot´n Go Spot-on für Katzen'}),\n",
       "  frozenset({'Royal Canin Sterilised 7+ Appetite Control'}),\n",
       "  frozenset({'Megapack Cosma Original 6 x 85 g Dose, gemischtes Paket'}),\n",
       "  frozenset({'Welle Kratzmöbel'}),\n",
       "  frozenset({'Pro Plan Adult 85 g'}),\n",
       "  frozenset({'Noppenbälle, 4 Stück'}),\n",
       "  frozenset({'Kratzmöbel Relax'}),\n",
       "  frozenset({'Squeaky Ball'}),\n",
       "  frozenset({'Pro Plan Medium Puppy Huhn & Reis'}),\n",
       "  frozenset({'Barkoo Kauknochen mit Ochsenziemerfüllung'}),\n",
       "  frozenset({'Royal Canin Maxi Light Weight Care'}),\n",
       "  frozenset({'Taste of the Wild - Rocky Mountain Feline'}),\n",
       "  frozenset({'Royal Canin Sterilised 37'}),\n",
       "  frozenset({'Knisterball 4er Set'}),\n",
       "  frozenset({'Federboa Katzenangel'}),\n",
       "  frozenset({'Purizon Cat Lamm & Fisch'}),\n",
       "  frozenset({'Purizon Cat Huhn & Fisch'}),\n",
       "  frozenset({'Purizon Cat Fisch'}),\n",
       "  frozenset({'ProDen PlaqueOff Zahnpflege für Katzen'}),\n",
       "  frozenset({'Softbürste mit Bürstenreiniger'}),\n",
       "  frozenset({'Royal Canin Babycat Dose'}),\n",
       "  frozenset({'Kong Kickeroo Pattern'}),\n",
       "  frozenset({'Katzenspielzeug Funny Butterfly'}),\n",
       "  frozenset({'Royal Canin Sensible 33'}),\n",
       "  frozenset({'INNE DOG NUTRITIVE'}),\n",
       "  frozenset({'Cat Mate Trinkbrunnen'}),\n",
       "  frozenset({'Sanabelle No Grain'}),\n",
       "  frozenset({'Sanabelle Kitten'}),\n",
       "  frozenset({'Mucki Bergwiesenheu '}),\n",
       "  frozenset({'Royal Canin Persian 30'}),\n",
       "  frozenset({'KONG WildKnots Bears'}),\n",
       "  frozenset({'Sanabelle Sensitive mit Geflügel'}),\n",
       "  frozenset({'Schesir Thunfisch 85 g'}),\n",
       "  frozenset({'Schesir Natural in Sauce Dose 70 g'}),\n",
       "  frozenset({'Schesir 140 g Dose in Gelatine'}),\n",
       "  frozenset({'MP/Megapack  - Gourmet 4 x 85 g'}),\n",
       "  frozenset({'MP Applaws Pouch Katzenfutter 12 x 70g'}),\n",
       "  frozenset({'MP Almo Nature Legend 6 x 70 g'}),\n",
       "  frozenset({'Almo Nature Jelly Pouch'}),\n",
       "  frozenset({'Hill´s PD - Feline K/D'}),\n",
       "  frozenset({'Royal Canin British Shorthair 34'}),\n",
       "  frozenset({'Greenwoods 100% natural Bentonite with Zeolite'}),\n",
       "  frozenset({'Royal Canin - Vet Diet - Urinary S/O High Dilution'}),\n",
       "  frozenset({'Mouth Massagers Pig'}),\n",
       "  frozenset({\"Biokat's Polybeutel für Katzen-Toiletten\"}),\n",
       "  frozenset({'Rocco Chings'}),\n",
       "  frozenset({'Royal Canin Maxi Adult'}),\n",
       "  frozenset({'Seresto Halsband Hund (FR)'}),\n",
       "  frozenset({'Hill´s PD Canine Metabolic & Mobility'}),\n",
       "  frozenset({'Royal Canin Sterilised +7'}),\n",
       "  frozenset({'Catit Design Senses Massage-Center'}),\n",
       "  frozenset({'Megapack Felix \"so gut wie es...\" 24 x 100 g'}),\n",
       "  frozenset({'Hundebar inklusive 2 Edelstahlnäpfe'}),\n",
       "  frozenset({'Bosch HPC Adult Geflügel & Hirse'}),\n",
       "  frozenset({'Hugro Hanfstreu'}),\n",
       "  frozenset({'Crispy Müsli Kaninchen'}),\n",
       "  frozenset({'Royal Canin - Vet Diet Hypoallergenic'}),\n",
       "  frozenset({'Hill´s Perfect Weight'}),\n",
       "  frozenset({'Feliway Friends Start-Set'}),\n",
       "  frozenset({'Lukullus Hundefutter 15 kg Sack'}),\n",
       "  frozenset({'Hundekotbeutel schwarz'}),\n",
       "  frozenset({'Tigerino LAVENDER Crystals'}),\n",
       "  frozenset({'Tigerino Crystals Flower-Power '}),\n",
       "  frozenset({'Tigerino Crystals Classic'}),\n",
       "  frozenset({'MP Applaws Cat Tin in Broth 6x156g'}),\n",
       "  frozenset({'Gimpet Hy-Gras 150 g'}),\n",
       "  frozenset({'Katzenspielkissen Natural Kitty'}),\n",
       "  frozenset({'Hill´s PD - Feline I/D'}),\n",
       "  frozenset({'Hill´s Feline Senior 11+'}),\n",
       "  frozenset({'Gimpet Malt-Soft Extra'}),\n",
       "  frozenset({'Almo Nature Sensitive Pouch 70 g'}),\n",
       "  frozenset({'Greenwoods 100% Plant fibre natural clumping cat litter'}),\n",
       "  frozenset({'Savings Plan'}),\n",
       "  frozenset({'Royal Canin Hair & Skin 33'}),\n",
       "  frozenset({'Soundmaus Katzenangel'}),\n",
       "  frozenset({'Royal Canin Urinary Care'}),\n",
       "  frozenset({'Federwedel'}),\n",
       "  frozenset({'Chipsi Classic Heimtierstreu'}),\n",
       "  frozenset({'Royal Canin Pouches, 85 g'}),\n",
       "  frozenset({'Royal Canin Kitten 36'}),\n",
       "  frozenset({'Taste of the Wild - Pacific Stream Canine'}),\n",
       "  frozenset({'Royal Canin Medium Adult'}),\n",
       "  frozenset({'Royal Canin Intense Hairball 34'}),\n",
       "  frozenset({'Catsan Hygienestreu '}),\n",
       "  frozenset({'Cosma gefriergetrocknetet Snacks XXL große Tube'}),\n",
       "  frozenset({'Aumüller Katzenspielzeug Einhorn'}),\n",
       "  frozenset({'Almo Nature Urinary Support Pouch 70 g'})],\n",
       " [frozenset({'Wild Freedom - Green Lands Lamm',\n",
       "             'Wild Freedom – Wide Country Geflügel'}),\n",
       "  frozenset({'Wild Freedom - Wild Hills Ente',\n",
       "             'Wild Freedom – Wide Country Geflügel'}),\n",
       "  frozenset({'Wild Freedom - Cold River Lachs',\n",
       "             'Wild Freedom - Green Lands Lamm'}),\n",
       "  frozenset({'Wild Freedom - Cold River Lachs',\n",
       "             'Wild Freedom - Wild Hills Ente'}),\n",
       "  frozenset({'Wild Freedom - Cold River Lachs',\n",
       "             'Wild Freedom – Wide Country Geflügel'}),\n",
       "  frozenset({'Wild Freedom - Green Lands Lamm',\n",
       "             'Wild Freedom - Wild Hills Ente'}),\n",
       "  frozenset({'MP Schesir Cat Jelly Pouch 6x100g', 'Schesir Pouch 100 g'}),\n",
       "  frozenset({'Megapack Pedigree Denta Stix', 'PERFECT FIT ADULT DOGS(>10kg)'}),\n",
       "  frozenset({'WoW 1 kg Blue River ', 'WoW 12 kg Blue River '}),\n",
       "  frozenset({'Federwedel', 'Spende für bedürftige Tiere'}),\n",
       "  frozenset({'Pedigree Denta Stix', 'Savings Plan'}),\n",
       "  frozenset({'Royal Canin Pouches, 85 g', 'Tigerino Crystals Classic'}),\n",
       "  frozenset({'Royal Canin Maxi Adult', 'Savings Plan'}),\n",
       "  frozenset({'Bozita Häppchen in Gelee 370 g',\n",
       "             'Bozita Häppchen in Soße 370 g'}),\n",
       "  frozenset({'Federwedel', 'Royal Canin Pouches, 85 g'}),\n",
       "  frozenset({'WoW 1 kg Green Fields', 'WoW 12 kg Green Fields '}),\n",
       "  frozenset({'Megapack Pedigree Denta Stix', 'Spende für bedürftige Tiere'}),\n",
       "  frozenset({'Megapack Pedigree Denta Stix', 'Pedigree Riesenknochen'}),\n",
       "  frozenset({'Megapack Pedigree Denta Stix', 'Pedigree Denta Stix'}),\n",
       "  frozenset({'Savings Plan', 'Spende für bedürftige Tiere'}),\n",
       "  frozenset({'Cat’s Best Original', 'Purizon Cat Huhn & Fisch'}),\n",
       "  frozenset({'Barkoo Kauknochen gepresst', 'Megapack Pedigree Denta Stix'}),\n",
       "  frozenset({'Savings Plan', 'Tigerino Canada Babypowder'}),\n",
       "  frozenset({'Cat’s Best Original', 'MP Almo Nature Legend 6 x 70 g'}),\n",
       "  frozenset({'Royal Canin Pouches, 85 g', 'Royal Canin Sterilised 37'}),\n",
       "  frozenset({'Savings Plan', 'Tigerino Crystals Flower-Power '}),\n",
       "  frozenset({'Savings Plan', 'Tigerino LAVENDER Crystals'}),\n",
       "  frozenset({'Extra Bonuspunkte', 'Savings Plan'}),\n",
       "  frozenset({'DogMio Biscuits', 'Megapack Pedigree Denta Stix'}),\n",
       "  frozenset({'Almo Nature Daily Menu 85 g', 'MP Almo Nature Legend 6 x 70 g'}),\n",
       "  frozenset({'Lukullus Kauknochen mit Ente', 'Lukullus Kauknochen mit Huhn'}),\n",
       "  frozenset({'Lukullus Kauknochen mit Ente', 'Lukullus Kauknochen mit Lamm'}),\n",
       "  frozenset({'Beaphar Dog-A-Dent Zahnbürste', 'Beaphar Dog-A-Dent Zahnpasta'}),\n",
       "  frozenset({'Hill´s PD Feline Metabolic', 'Savings Plan'}),\n",
       "  frozenset({'Hundekotbeutel schwarz', 'Megapack Pedigree Denta Stix'}),\n",
       "  frozenset({'Cat’s Best Original', 'Royal Canin Sterilised 37'}),\n",
       "  frozenset({'Rocco Chings', 'Savings Plan'}),\n",
       "  frozenset({'MP Almo Nature Legend 6 x 70 g', 'Savings Plan'}),\n",
       "  frozenset({'Royal Canin Sterilised 37', 'Tigerino Crystals Classic'}),\n",
       "  frozenset({'MP Denta Stix Fresh 28 (4 x 7) Stück', 'Savings Plan'}),\n",
       "  frozenset({'Royal Canin Sterilised 37', 'Savings Plan'}),\n",
       "  frozenset({'Savings Plan', 'Tigerino Crystals Classic'}),\n",
       "  frozenset({'Barkoo Kauknochen gepresst', 'Savings Plan'}),\n",
       "  frozenset({'Royal Canin Sterilised Appetite Control', 'Savings Plan'}),\n",
       "  frozenset({'Federwedel', 'Savings Plan'}),\n",
       "  frozenset({'Purizon Cat Huhn & Fisch', 'Savings Plan'}),\n",
       "  frozenset({'Royal Canin Maine Coon 31', 'Savings Plan'}),\n",
       "  frozenset({'Cat’s Best Original', 'Royal Canin Pouches, 85 g'}),\n",
       "  frozenset({'WoW 1 kg Blue River ', 'WoW 1 kg Green Fields'}),\n",
       "  frozenset({'WoW 1 kg Green Fields', 'WoW 1 kg Sunny Glade '}),\n",
       "  frozenset({'WoW 1 kg Blue River ', 'WoW 1 kg Sunny Glade '}),\n",
       "  frozenset({'WoW 1 kg Green Fields', 'WoW 1 kg Wild Hills'}),\n",
       "  frozenset({'WoW 1 kg Blue River ', 'WoW 1 kg Wild Hills'}),\n",
       "  frozenset({'WoW 1 kg Sunny Glade ', 'WoW 1 kg Wild Hills'}),\n",
       "  frozenset({'Royal Canin Mini Adult', 'Savings Plan'}),\n",
       "  frozenset({'Megapack Pedigree Denta Stix', 'Pedigree Pouch 12x100g MP'}),\n",
       "  frozenset({'Catsan Hygienestreu ', 'Savings Plan'}),\n",
       "  frozenset({'MP Felix \"So gut wie es aussieht\" 44 x 100 g', 'Savings Plan'}),\n",
       "  frozenset({'Hundekotbeutel schwarz', 'Savings Plan'}),\n",
       "  frozenset({'Cat’s Best Original', 'Federwedel'}),\n",
       "  frozenset({'DogMio Biscuits', 'Savings Plan'}),\n",
       "  frozenset({'Lukullus Kauknochen mit Huhn', 'Lukullus Kauknochen mit Lamm'}),\n",
       "  frozenset({'Cat’s Best Original', 'Savings Plan'}),\n",
       "  frozenset({'MP Almo Nature Legend  Mix 6 x 70 g',\n",
       "             'MP Almo Nature Legend 6 x 70 g'}),\n",
       "  frozenset({'Megapack Pedigree Denta Stix', 'Rocco Chings'}),\n",
       "  frozenset({'Royal Canin Pouches, 85 g',\n",
       "             'Royal Canin Sterilised Appetite Control'}),\n",
       "  frozenset({'Megapack Pedigree Denta Stix',\n",
       "             'Pedigree Biscrok in 3 koestlichen Geschmacksrichtungen'}),\n",
       "  frozenset({'MP Denta Stix Fresh 28 (4 x 7) Stück',\n",
       "             'Megapack Pedigree Denta Stix'}),\n",
       "  frozenset({'Megapack Pedigree Denta Stix', 'Savings Plan'}),\n",
       "  frozenset({'Federwedel', 'Noppenbälle, 4 Stück'}),\n",
       "  frozenset({'Federboa Katzenangel', 'Noppenbälle, 4 Stück'}),\n",
       "  frozenset({'Federwedel', 'Plüschmaus mit Catnip Katzenspielzeug'}),\n",
       "  frozenset({'Federboa Katzenangel', 'Plüschmaus mit Catnip Katzenspielzeug'}),\n",
       "  frozenset({'Noppenbälle, 4 Stück', 'Plüschmaus mit Catnip Katzenspielzeug'}),\n",
       "  frozenset({'Royal Canin - Vet Diet - Renal - Megapack',\n",
       "             'Royal Canin Veterinary Diet Megapack 12 x 85 g'}),\n",
       "  frozenset({'Lukullus Kauknochen mit Huhn', 'Lukullus Kauknochen mit Rind'}),\n",
       "  frozenset({'Federboa Katzenangel', 'Federwedel'}),\n",
       "  frozenset({'Federwedel', 'Royal Canin Sterilised 37'}),\n",
       "  frozenset({'Purizon Cat Fisch', 'Purizon Cat Huhn & Fisch'}),\n",
       "  frozenset({'Purizon Cat Fisch', 'Purizon Cat Lamm & Fisch'}),\n",
       "  frozenset({'Purizon Cat Huhn & Fisch', 'Purizon Cat Lamm & Fisch'}),\n",
       "  frozenset({'Tigerino Crystals Classic', 'Tigerino Crystals Flower-Power '}),\n",
       "  frozenset({'Tigerino Crystals Classic', 'Tigerino LAVENDER Crystals'}),\n",
       "  frozenset({'Tigerino Crystals Flower-Power ', 'Tigerino LAVENDER Crystals'}),\n",
       "  frozenset({'Royal Canin Pouches, 85 g', 'Savings Plan'}),\n",
       "  frozenset({'Royal Canin Kitten 36', 'Royal Canin Pouches, 85 g'})],\n",
       " [frozenset({'Wild Freedom - Cold River Lachs',\n",
       "             'Wild Freedom - Green Lands Lamm',\n",
       "             'Wild Freedom - Wild Hills Ente'}),\n",
       "  frozenset({'Wild Freedom - Cold River Lachs',\n",
       "             'Wild Freedom - Wild Hills Ente',\n",
       "             'Wild Freedom – Wide Country Geflügel'}),\n",
       "  frozenset({'Wild Freedom - Green Lands Lamm',\n",
       "             'Wild Freedom - Wild Hills Ente',\n",
       "             'Wild Freedom – Wide Country Geflügel'}),\n",
       "  frozenset({'Wild Freedom - Cold River Lachs',\n",
       "             'Wild Freedom - Green Lands Lamm',\n",
       "             'Wild Freedom – Wide Country Geflügel'}),\n",
       "  frozenset({'WoW 1 kg Blue River ',\n",
       "             'WoW 1 kg Sunny Glade ',\n",
       "             'WoW 1 kg Wild Hills'}),\n",
       "  frozenset({'WoW 1 kg Green Fields',\n",
       "             'WoW 1 kg Sunny Glade ',\n",
       "             'WoW 1 kg Wild Hills'}),\n",
       "  frozenset({'WoW 1 kg Blue River ',\n",
       "             'WoW 1 kg Green Fields',\n",
       "             'WoW 1 kg Wild Hills'}),\n",
       "  frozenset({'WoW 1 kg Blue River ',\n",
       "             'WoW 1 kg Green Fields',\n",
       "             'WoW 1 kg Sunny Glade '}),\n",
       "  frozenset({'Federboa Katzenangel',\n",
       "             'Federwedel',\n",
       "             'Plüschmaus mit Catnip Katzenspielzeug'}),\n",
       "  frozenset({'Federwedel',\n",
       "             'Noppenbälle, 4 Stück',\n",
       "             'Plüschmaus mit Catnip Katzenspielzeug'}),\n",
       "  frozenset({'Federboa Katzenangel', 'Federwedel', 'Noppenbälle, 4 Stück'}),\n",
       "  frozenset({'Federboa Katzenangel',\n",
       "             'Noppenbälle, 4 Stück',\n",
       "             'Plüschmaus mit Catnip Katzenspielzeug'}),\n",
       "  frozenset({'Purizon Cat Fisch',\n",
       "             'Purizon Cat Huhn & Fisch',\n",
       "             'Purizon Cat Lamm & Fisch'}),\n",
       "  frozenset({'Tigerino Crystals Classic',\n",
       "             'Tigerino Crystals Flower-Power ',\n",
       "             'Tigerino LAVENDER Crystals'})],\n",
       " [frozenset({'Wild Freedom - Cold River Lachs',\n",
       "             'Wild Freedom - Green Lands Lamm',\n",
       "             'Wild Freedom - Wild Hills Ente',\n",
       "             'Wild Freedom – Wide Country Geflügel'}),\n",
       "  frozenset({'WoW 1 kg Blue River ',\n",
       "             'WoW 1 kg Green Fields',\n",
       "             'WoW 1 kg Sunny Glade ',\n",
       "             'WoW 1 kg Wild Hills'}),\n",
       "  frozenset({'Federboa Katzenangel',\n",
       "             'Federwedel',\n",
       "             'Noppenbälle, 4 Stück',\n",
       "             'Plüschmaus mit Catnip Katzenspielzeug'})],\n",
       " []]"
      ]
     },
     "execution_count": 154,
     "metadata": {},
     "output_type": "execute_result"
    }
   ],
   "source": [
    "L"
   ]
  },
  {
   "cell_type": "code",
   "execution_count": 155,
   "metadata": {
    "ExecuteTime": {
     "end_time": "2018-09-17T20:55:51.981218Z",
     "start_time": "2018-09-17T20:55:51.948218Z"
    }
   },
   "outputs": [
    {
     "name": "stdout",
     "output_type": "stream",
     "text": [
      "frozenset({'Wild Freedom – Wide Country Geflügel'}) --> frozenset({'Wild Freedom - Green Lands Lamm'}) conf: 0.43606998654104984\n",
      "frozenset({'Wild Freedom - Green Lands Lamm'}) --> frozenset({'Wild Freedom – Wide Country Geflügel'}) conf: 0.8788426763110309\n",
      "frozenset({'Wild Freedom - Wild Hills Ente'}) --> frozenset({'Wild Freedom – Wide Country Geflügel'}) conf: 0.7933823529411764\n",
      "frozenset({'Wild Freedom – Wide Country Geflügel'}) --> frozenset({'Wild Freedom - Wild Hills Ente'}) conf: 0.4840735755944369\n",
      "frozenset({'Wild Freedom - Cold River Lachs'}) --> frozenset({'Wild Freedom - Green Lands Lamm'}) conf: 0.6249149081007489\n",
      "frozenset({'Wild Freedom - Green Lands Lamm'}) --> frozenset({'Wild Freedom - Cold River Lachs'}) conf: 0.8300180831826403\n",
      "frozenset({'Wild Freedom - Cold River Lachs'}) --> frozenset({'Wild Freedom - Wild Hills Ente'}) conf: 0.6453369639210348\n",
      "frozenset({'Wild Freedom - Wild Hills Ente'}) --> frozenset({'Wild Freedom - Cold River Lachs'}) conf: 0.6970588235294118\n",
      "frozenset({'Wild Freedom - Cold River Lachs'}) --> frozenset({'Wild Freedom – Wide Country Geflügel'}) conf: 0.6643975493533016\n",
      "frozenset({'Wild Freedom – Wide Country Geflügel'}) --> frozenset({'Wild Freedom - Cold River Lachs'}) conf: 0.4378645132346344\n",
      "frozenset({'Wild Freedom - Wild Hills Ente'}) --> frozenset({'Wild Freedom - Green Lands Lamm'}) conf: 0.7279411764705882\n",
      "frozenset({'Wild Freedom - Green Lands Lamm'}) --> frozenset({'Wild Freedom - Wild Hills Ente'}) conf: 0.895117540687161\n",
      "frozenset({'MP Schesir Cat Jelly Pouch 6x100g'}) --> frozenset({'Schesir Pouch 100 g'}) conf: 0.6547394852479598\n",
      "frozenset({'Schesir Pouch 100 g'}) --> frozenset({'MP Schesir Cat Jelly Pouch 6x100g'}) conf: 0.3813528336380256\n",
      "frozenset({'PERFECT FIT ADULT DOGS(>10kg)'}) --> frozenset({'Megapack Pedigree Denta Stix'}) conf: 0.26764794232502254\n",
      "frozenset({'WoW 1 kg Blue River '}) --> frozenset({'WoW 12 kg Blue River '}) conf: 0.3816530995616781\n",
      "frozenset({'WoW 12 kg Blue River '}) --> frozenset({'WoW 1 kg Blue River '}) conf: 0.27112989323843417\n",
      "frozenset({'Pedigree Denta Stix'}) --> frozenset({'Savings Plan'}) conf: 0.11997495303694428\n",
      "frozenset({'Bozita Häppchen in Gelee 370 g'}) --> frozenset({'Bozita Häppchen in Soße 370 g'}) conf: 0.33543882978723405\n",
      "frozenset({'Bozita Häppchen in Soße 370 g'}) --> frozenset({'Bozita Häppchen in Gelee 370 g'}) conf: 0.4419623302671923\n",
      "frozenset({'WoW 12 kg Green Fields '}) --> frozenset({'WoW 1 kg Green Fields'}) conf: 0.22484310755247783\n",
      "frozenset({'WoW 1 kg Green Fields'}) --> frozenset({'WoW 12 kg Green Fields '}) conf: 0.28949568124825853\n",
      "frozenset({'Pedigree Riesenknochen'}) --> frozenset({'Megapack Pedigree Denta Stix'}) conf: 0.3139124293785311\n",
      "frozenset({'Pedigree Denta Stix'}) --> frozenset({'Megapack Pedigree Denta Stix'}) conf: 0.2860363180964308\n",
      "frozenset({'Spende für bedürftige Tiere'}) --> frozenset({'Savings Plan'}) conf: 0.12222975439328362\n",
      "frozenset({'Barkoo Kauknochen gepresst'}) --> frozenset({'Megapack Pedigree Denta Stix'}) conf: 0.11099868460993624\n",
      "frozenset({'Royal Canin Pouches, 85 g'}) --> frozenset({'Royal Canin Sterilised 37'}) conf: 0.10715450943835934\n",
      "frozenset({'Tigerino Crystals Flower-Power '}) --> frozenset({'Savings Plan'}) conf: 0.11722874690227347\n",
      "frozenset({'Tigerino LAVENDER Crystals'}) --> frozenset({'Savings Plan'}) conf: 0.11300585390684653\n",
      "frozenset({'DogMio Biscuits'}) --> frozenset({'Megapack Pedigree Denta Stix'}) conf: 0.16787264833574528\n",
      "frozenset({'Almo Nature Daily Menu 85 g'}) --> frozenset({'MP Almo Nature Legend 6 x 70 g'}) conf: 0.2616255560048524\n",
      "frozenset({'Lukullus Kauknochen mit Ente'}) --> frozenset({'Lukullus Kauknochen mit Huhn'}) conf: 0.603727317312408\n",
      "frozenset({'Lukullus Kauknochen mit Huhn'}) --> frozenset({'Lukullus Kauknochen mit Ente'}) conf: 0.2869463869463869\n",
      "frozenset({'Lukullus Kauknochen mit Ente'}) --> frozenset({'Lukullus Kauknochen mit Lamm'}) conf: 0.4953408533594899\n",
      "frozenset({'Lukullus Kauknochen mit Lamm'}) --> frozenset({'Lukullus Kauknochen mit Ente'}) conf: 0.5683736634777715\n",
      "frozenset({'Beaphar Dog-A-Dent Zahnbürste'}) --> frozenset({'Beaphar Dog-A-Dent Zahnpasta'}) conf: 0.8928255093002657\n",
      "frozenset({'Beaphar Dog-A-Dent Zahnpasta'}) --> frozenset({'Beaphar Dog-A-Dent Zahnbürste'}) conf: 0.6751507032819826\n",
      "frozenset({'Hill´s PD Feline Metabolic'}) --> frozenset({'Savings Plan'}) conf: 0.12060491493383743\n",
      "frozenset({'MP Denta Stix Fresh 28 (4 x 7) Stück'}) --> frozenset({'Savings Plan'}) conf: 0.11563289362896435\n",
      "frozenset({'Royal Canin Sterilised 37'}) --> frozenset({'Savings Plan'}) conf: 0.1173408789212604\n",
      "frozenset({'Tigerino Crystals Classic'}) --> frozenset({'Savings Plan'}) conf: 0.11238896680691912\n",
      "frozenset({'Barkoo Kauknochen gepresst'}) --> frozenset({'Savings Plan'}) conf: 0.1115046038652231\n",
      "frozenset({'Royal Canin Sterilised Appetite Control'}) --> frozenset({'Savings Plan'}) conf: 0.13083324554935213\n",
      "frozenset({'Federwedel'}) --> frozenset({'Savings Plan'}) conf: 0.13483660504778802\n",
      "frozenset({'Purizon Cat Huhn & Fisch'}) --> frozenset({'Savings Plan'}) conf: 0.11376125336139367\n",
      "frozenset({'Royal Canin Maine Coon 31'}) --> frozenset({'Savings Plan'}) conf: 0.10965259703519295\n",
      "frozenset({'WoW 1 kg Blue River '}) --> frozenset({'WoW 1 kg Green Fields'}) conf: 0.5563556668753913\n",
      "frozenset({'WoW 1 kg Green Fields'}) --> frozenset({'WoW 1 kg Blue River '}) conf: 0.49512398996935075\n",
      "frozenset({'WoW 1 kg Sunny Glade '}) --> frozenset({'WoW 1 kg Green Fields'}) conf: 0.6143187066974596\n",
      "frozenset({'WoW 1 kg Green Fields'}) --> frozenset({'WoW 1 kg Sunny Glade '}) conf: 0.44469211479520754\n",
      "frozenset({'WoW 1 kg Sunny Glade '}) --> frozenset({'WoW 1 kg Blue River '}) conf: 0.5989222478829869\n",
      "frozenset({'WoW 1 kg Blue River '}) --> frozenset({'WoW 1 kg Sunny Glade '}) conf: 0.4871634314339386\n",
      "frozenset({'WoW 1 kg Wild Hills'}) --> frozenset({'WoW 1 kg Green Fields'}) conf: 0.6617647058823529\n",
      "frozenset({'WoW 1 kg Green Fields'}) --> frozenset({'WoW 1 kg Wild Hills'}) conf: 0.5015324602953468\n",
      "frozenset({'WoW 1 kg Wild Hills'}) --> frozenset({'WoW 1 kg Blue River '}) conf: 0.6463235294117647\n",
      "frozenset({'WoW 1 kg Blue River '}) --> frozenset({'WoW 1 kg Wild Hills'}) conf: 0.5504070131496556\n",
      "frozenset({'WoW 1 kg Wild Hills'}) --> frozenset({'WoW 1 kg Sunny Glade '}) conf: 0.5650735294117648\n",
      "frozenset({'WoW 1 kg Sunny Glade '}) --> frozenset({'WoW 1 kg Wild Hills'}) conf: 0.5916089299461125\n",
      "frozenset({'Royal Canin Mini Adult'}) --> frozenset({'Savings Plan'}) conf: 0.12794033275960986\n",
      "frozenset({'Pedigree Pouch 12x100g MP'}) --> frozenset({'Megapack Pedigree Denta Stix'}) conf: 0.38931104356636276\n",
      "frozenset({'Catsan Hygienestreu '}) --> frozenset({'Savings Plan'}) conf: 0.12318933470067939\n",
      "frozenset({'Hundekotbeutel schwarz'}) --> frozenset({'Savings Plan'}) conf: 0.12414212492398576\n",
      "frozenset({'DogMio Biscuits'}) --> frozenset({'Savings Plan'}) conf: 0.10164297267387419\n",
      "frozenset({'Lukullus Kauknochen mit Lamm'}) --> frozenset({'Lukullus Kauknochen mit Huhn'}) conf: 0.7360720315137873\n",
      "frozenset({'Lukullus Kauknochen mit Huhn'}) --> frozenset({'Lukullus Kauknochen mit Lamm'}) conf: 0.3048951048951049\n",
      "frozenset({'Cat’s Best Original'}) --> frozenset({'Savings Plan'}) conf: 0.10645546501826356\n",
      "frozenset({'MP Almo Nature Legend  Mix 6 x 70 g'}) --> frozenset({'MP Almo Nature Legend 6 x 70 g'}) conf: 0.49806522940851294\n",
      "frozenset({'MP Almo Nature Legend 6 x 70 g'}) --> frozenset({'MP Almo Nature Legend  Mix 6 x 70 g'}) conf: 0.12160885409636928\n",
      "frozenset({'Royal Canin Sterilised Appetite Control'}) --> frozenset({'Royal Canin Pouches, 85 g'}) conf: 0.1255662066786053\n",
      "frozenset({'Pedigree Biscrok in 3 koestlichen Geschmacksrichtungen'}) --> frozenset({'Megapack Pedigree Denta Stix'}) conf: 0.31654465592972186\n",
      "frozenset({'Megapack Pedigree Denta Stix'}) --> frozenset({'MP Denta Stix Fresh 28 (4 x 7) Stück'}) conf: 0.10032635606572135\n",
      "frozenset({'MP Denta Stix Fresh 28 (4 x 7) Stück'}) --> frozenset({'Megapack Pedigree Denta Stix'}) conf: 0.3336139956965104\n",
      "frozenset({'Megapack Pedigree Denta Stix'}) --> frozenset({'Savings Plan'}) conf: 0.11343686698176908\n",
      "frozenset({'Noppenbälle, 4 Stück'}) --> frozenset({'Federwedel'}) conf: 0.35909467292299196\n",
      "frozenset({'Noppenbälle, 4 Stück'}) --> frozenset({'Federboa Katzenangel'}) conf: 0.2547612475848744\n",
      "frozenset({'Federboa Katzenangel'}) --> frozenset({'Noppenbälle, 4 Stück'}) conf: 0.28584701145865593\n",
      "frozenset({'Plüschmaus mit Catnip Katzenspielzeug'}) --> frozenset({'Federwedel'}) conf: 0.2956357532522031\n",
      "frozenset({'Plüschmaus mit Catnip Katzenspielzeug'}) --> frozenset({'Federboa Katzenangel'}) conf: 0.20394460763743183\n",
      "frozenset({'Federboa Katzenangel'}) --> frozenset({'Plüschmaus mit Catnip Katzenspielzeug'}) conf: 0.30102198823165066\n",
      "frozenset({'Noppenbälle, 4 Stück'}) --> frozenset({'Plüschmaus mit Catnip Katzenspielzeug'}) conf: 0.2917471708528843\n",
      "frozenset({'Plüschmaus mit Catnip Katzenspielzeug'}) --> frozenset({'Noppenbälle, 4 Stück'}) conf: 0.221779269827948\n",
      "frozenset({'Royal Canin - Vet Diet - Renal - Megapack'}) --> frozenset({'Royal Canin Veterinary Diet Megapack 12 x 85 g'}) conf: 0.6375641966250918\n",
      "frozenset({'Royal Canin Veterinary Diet Megapack 12 x 85 g'}) --> frozenset({'Royal Canin - Vet Diet - Renal - Megapack'}) conf: 0.5092791560851728\n",
      "frozenset({'Lukullus Kauknochen mit Rind'}) --> frozenset({'Lukullus Kauknochen mit Huhn'}) conf: 0.7781659388646288\n",
      "frozenset({'Lukullus Kauknochen mit Huhn'}) --> frozenset({'Lukullus Kauknochen mit Rind'}) conf: 0.2076923076923077\n",
      "frozenset({'Federboa Katzenangel'}) --> frozenset({'Federwedel'}) conf: 0.4199442551873645\n",
      "frozenset({'Purizon Cat Fisch'}) --> frozenset({'Purizon Cat Huhn & Fisch'}) conf: 0.5906232914160744\n",
      "frozenset({'Purizon Cat Huhn & Fisch'}) --> frozenset({'Purizon Cat Fisch'}) conf: 0.25260142640009353\n",
      "frozenset({'Purizon Cat Fisch'}) --> frozenset({'Purizon Cat Lamm & Fisch'}) conf: 0.48400765445598687\n",
      "frozenset({'Purizon Cat Lamm & Fisch'}) --> frozenset({'Purizon Cat Fisch'}) conf: 0.5178414741152383\n",
      "frozenset({'Purizon Cat Huhn & Fisch'}) --> frozenset({'Purizon Cat Lamm & Fisch'}) conf: 0.22448263767099264\n",
      "frozenset({'Purizon Cat Lamm & Fisch'}) --> frozenset({'Purizon Cat Huhn & Fisch'}) conf: 0.5615677098566831\n",
      "frozenset({'Tigerino Crystals Flower-Power '}) --> frozenset({'Tigerino Crystals Classic'}) conf: 0.5508027152246526\n",
      "frozenset({'Tigerino Crystals Classic'}) --> frozenset({'Tigerino Crystals Flower-Power '}) conf: 0.23899018232819075\n",
      "frozenset({'Tigerino LAVENDER Crystals'}) --> frozenset({'Tigerino Crystals Classic'}) conf: 0.6431662000509035\n",
      "frozenset({'Tigerino Crystals Classic'}) --> frozenset({'Tigerino LAVENDER Crystals'}) conf: 0.23627863487611034\n",
      "frozenset({'Tigerino Crystals Flower-Power '}) --> frozenset({'Tigerino LAVENDER Crystals'}) conf: 0.5735373343389721\n",
      "frozenset({'Tigerino LAVENDER Crystals'}) --> frozenset({'Tigerino Crystals Flower-Power '}) conf: 0.6773988292186307\n",
      "frozenset({'Royal Canin Pouches, 85 g'}) --> frozenset({'Savings Plan'}) conf: 0.10533675134001398\n",
      "frozenset({'Royal Canin Kitten 36'}) --> frozenset({'Royal Canin Pouches, 85 g'}) conf: 0.15168280313508528\n",
      "frozenset({'Wild Freedom - Cold River Lachs'}) --> frozenset({'Wild Freedom - Green Lands Lamm', 'Wild Freedom - Wild Hills Ente'}) conf: 0.6072157930565011\n",
      "frozenset({'Wild Freedom - Wild Hills Ente'}) --> frozenset({'Wild Freedom - Green Lands Lamm', 'Wild Freedom - Cold River Lachs'}) conf: 0.6558823529411766\n",
      "frozenset({'Wild Freedom - Green Lands Lamm'}) --> frozenset({'Wild Freedom - Cold River Lachs', 'Wild Freedom - Wild Hills Ente'}) conf: 0.8065099457504522\n",
      "frozenset({'Wild Freedom - Wild Hills Ente'}) --> frozenset({'Wild Freedom – Wide Country Geflügel', 'Wild Freedom - Cold River Lachs'}) conf: 0.6647058823529411\n",
      "frozenset({'Wild Freedom – Wide Country Geflügel'}) --> frozenset({'Wild Freedom - Wild Hills Ente', 'Wild Freedom - Cold River Lachs'}) conf: 0.40556303275011213\n",
      "frozenset({'Wild Freedom - Cold River Lachs'}) --> frozenset({'Wild Freedom – Wide Country Geflügel', 'Wild Freedom - Wild Hills Ente'}) conf: 0.6153846153846154\n",
      "frozenset({'Wild Freedom - Wild Hills Ente'}) --> frozenset({'Wild Freedom - Green Lands Lamm', 'Wild Freedom – Wide Country Geflügel'}) conf: 0.6977941176470589\n",
      "frozenset({'Wild Freedom – Wide Country Geflügel'}) --> frozenset({'Wild Freedom - Green Lands Lamm', 'Wild Freedom - Wild Hills Ente'}) conf: 0.42575145805293857\n",
      "frozenset({'Wild Freedom - Green Lands Lamm'}) --> frozenset({'Wild Freedom – Wide Country Geflügel', 'Wild Freedom - Wild Hills Ente'}) conf: 0.8580470162748645\n",
      "frozenset({'Wild Freedom - Cold River Lachs'}) --> frozenset({'Wild Freedom - Green Lands Lamm', 'Wild Freedom – Wide Country Geflügel'}) conf: 0.6024506466984344\n",
      "frozenset({'Wild Freedom – Wide Country Geflügel'}) --> frozenset({'Wild Freedom - Green Lands Lamm', 'Wild Freedom - Cold River Lachs'}) conf: 0.3970390309555855\n",
      "frozenset({'Wild Freedom - Green Lands Lamm'}) --> frozenset({'Wild Freedom – Wide Country Geflügel', 'Wild Freedom - Cold River Lachs'}) conf: 0.8001808318264015\n",
      "frozenset({'WoW 1 kg Wild Hills'}) --> frozenset({'WoW 1 kg Blue River ', 'WoW 1 kg Sunny Glade '}) conf: 0.5275735294117647\n",
      "frozenset({'WoW 1 kg Sunny Glade '}) --> frozenset({'WoW 1 kg Blue River ', 'WoW 1 kg Wild Hills'}) conf: 0.552347959969207\n",
      "frozenset({'WoW 1 kg Blue River '}) --> frozenset({'WoW 1 kg Sunny Glade ', 'WoW 1 kg Wild Hills'}) conf: 0.4492798998121478\n",
      "frozenset({'WoW 1 kg Wild Hills'}) --> frozenset({'WoW 1 kg Green Fields', 'WoW 1 kg Sunny Glade '}) conf: 0.5378676470588235\n",
      "frozenset({'WoW 1 kg Sunny Glade '}) --> frozenset({'WoW 1 kg Green Fields', 'WoW 1 kg Wild Hills'}) conf: 0.5631254811393379\n",
      "frozenset({'WoW 1 kg Green Fields'}) --> frozenset({'WoW 1 kg Sunny Glade ', 'WoW 1 kg Wild Hills'}) conf: 0.4076344385622736\n",
      "frozenset({'WoW 1 kg Wild Hills'}) --> frozenset({'WoW 1 kg Green Fields', 'WoW 1 kg Blue River '}) conf: 0.5970588235294119\n",
      "frozenset({'WoW 1 kg Blue River '}) --> frozenset({'WoW 1 kg Green Fields', 'WoW 1 kg Wild Hills'}) conf: 0.5084533500313088\n",
      "frozenset({'WoW 1 kg Green Fields'}) --> frozenset({'WoW 1 kg Blue River ', 'WoW 1 kg Wild Hills'}) conf: 0.45249373084424627\n",
      "frozenset({'WoW 1 kg Sunny Glade '}) --> frozenset({'WoW 1 kg Green Fields', 'WoW 1 kg Blue River '}) conf: 0.5538876058506543\n",
      "frozenset({'WoW 1 kg Blue River '}) --> frozenset({'WoW 1 kg Green Fields', 'WoW 1 kg Sunny Glade '}) conf: 0.45053224796493424\n",
      "frozenset({'WoW 1 kg Green Fields'}) --> frozenset({'WoW 1 kg Blue River ', 'WoW 1 kg Sunny Glade '}) conf: 0.40094733909166896\n",
      "frozenset({'Plüschmaus mit Catnip Katzenspielzeug'}) --> frozenset({'Federboa Katzenangel', 'Federwedel'}) conf: 0.19345362987830467\n",
      "frozenset({'Federboa Katzenangel'}) --> frozenset({'Plüschmaus mit Catnip Katzenspielzeug', 'Federwedel'}) conf: 0.28553731805512544\n",
      "frozenset({'Noppenbälle, 4 Stück'}) --> frozenset({'Plüschmaus mit Catnip Katzenspielzeug', 'Federwedel'}) conf: 0.2589014628760695\n",
      "frozenset({'Plüschmaus mit Catnip Katzenspielzeug'}) --> frozenset({'Federwedel', 'Noppenbälle, 4 Stück'}) conf: 0.19681074276122532\n",
      "frozenset({'Noppenbälle, 4 Stück'}) --> frozenset({'Federboa Katzenangel', 'Federwedel'}) conf: 0.2506210322936792\n",
      "frozenset({'Federboa Katzenangel'}) --> frozenset({'Federwedel', 'Noppenbälle, 4 Stück'}) conf: 0.28120161040569835\n",
      "frozenset({'Noppenbälle, 4 Stück'}) --> frozenset({'Federboa Katzenangel', 'Plüschmaus mit Catnip Katzenspielzeug'}) conf: 0.2489649461772012\n",
      "frozenset({'Plüschmaus mit Catnip Katzenspielzeug'}) --> frozenset({'Federboa Katzenangel', 'Noppenbälle, 4 Stück'}) conf: 0.18925723877465378\n",
      "frozenset({'Federboa Katzenangel'}) --> frozenset({'Plüschmaus mit Catnip Katzenspielzeug', 'Noppenbälle, 4 Stück'}) conf: 0.2793434499845153\n",
      "frozenset({'Purizon Cat Fisch'}) --> frozenset({'Purizon Cat Lamm & Fisch', 'Purizon Cat Huhn & Fisch'}) conf: 0.40800984144341174\n",
      "frozenset({'Purizon Cat Huhn & Fisch'}) --> frozenset({'Purizon Cat Lamm & Fisch', 'Purizon Cat Fisch'}) conf: 0.1745001753770607\n",
      "frozenset({'Purizon Cat Lamm & Fisch'}) --> frozenset({'Purizon Cat Huhn & Fisch', 'Purizon Cat Fisch'}) conf: 0.4365311494589061\n",
      "frozenset({'Tigerino LAVENDER Crystals'}) --> frozenset({'Tigerino Crystals Classic', 'Tigerino Crystals Flower-Power '}) conf: 0.6231865614660218\n",
      "frozenset({'Tigerino Crystals Flower-Power '}) --> frozenset({'Tigerino Crystals Classic', 'Tigerino LAVENDER Crystals'}) conf: 0.527637108070251\n",
      "frozenset({'Tigerino Crystals Classic'}) --> frozenset({'Tigerino LAVENDER Crystals', 'Tigerino Crystals Flower-Power '}) conf: 0.22893875642823747\n",
      "frozenset({'Wild Freedom - Cold River Lachs', 'Wild Freedom - Wild Hills Ente'}) --> frozenset({'Wild Freedom - Green Lands Lamm', 'Wild Freedom – Wide Country Geflügel'}) conf: 0.9272151898734177\n",
      "frozenset({'Wild Freedom – Wide Country Geflügel', 'Wild Freedom - Cold River Lachs'}) --> frozenset({'Wild Freedom - Green Lands Lamm', 'Wild Freedom - Wild Hills Ente'}) conf: 0.9006147540983606\n",
      "frozenset({'Wild Freedom – Wide Country Geflügel', 'Wild Freedom - Wild Hills Ente'}) --> frozenset({'Wild Freedom - Green Lands Lamm', 'Wild Freedom - Cold River Lachs'}) conf: 0.8146431881371641\n",
      "frozenset({'Wild Freedom - Green Lands Lamm', 'Wild Freedom - Cold River Lachs'}) --> frozenset({'Wild Freedom – Wide Country Geflügel', 'Wild Freedom - Wild Hills Ente'}) conf: 0.957516339869281\n",
      "frozenset({'Wild Freedom - Green Lands Lamm', 'Wild Freedom - Wild Hills Ente'}) --> frozenset({'Wild Freedom – Wide Country Geflügel', 'Wild Freedom - Cold River Lachs'}) conf: 0.8878787878787878\n",
      "frozenset({'Wild Freedom - Green Lands Lamm', 'Wild Freedom – Wide Country Geflügel'}) --> frozenset({'Wild Freedom - Cold River Lachs', 'Wild Freedom - Wild Hills Ente'}) conf: 0.9043209876543209\n",
      "frozenset({'Wild Freedom - Cold River Lachs'}) --> frozenset({'Wild Freedom - Green Lands Lamm', 'Wild Freedom – Wide Country Geflügel', 'Wild Freedom - Wild Hills Ente'}) conf: 0.5983662355343771\n",
      "frozenset({'Wild Freedom - Wild Hills Ente'}) --> frozenset({'Wild Freedom - Green Lands Lamm', 'Wild Freedom – Wide Country Geflügel', 'Wild Freedom - Cold River Lachs'}) conf: 0.6463235294117647\n",
      "frozenset({'Wild Freedom – Wide Country Geflügel'}) --> frozenset({'Wild Freedom - Green Lands Lamm', 'Wild Freedom - Cold River Lachs', 'Wild Freedom - Wild Hills Ente'}) conf: 0.3943472409152086\n",
      "frozenset({'Wild Freedom - Green Lands Lamm'}) --> frozenset({'Wild Freedom - Cold River Lachs', 'Wild Freedom – Wide Country Geflügel', 'Wild Freedom - Wild Hills Ente'}) conf: 0.794755877034358\n",
      "frozenset({'WoW 1 kg Green Fields', 'WoW 1 kg Wild Hills'}) --> frozenset({'WoW 1 kg Blue River ', 'WoW 1 kg Sunny Glade '}) conf: 0.7855555555555556\n",
      "frozenset({'WoW 1 kg Sunny Glade ', 'WoW 1 kg Wild Hills'}) --> frozenset({'WoW 1 kg Green Fields', 'WoW 1 kg Blue River '}) conf: 0.9199739752765126\n",
      "frozenset({'WoW 1 kg Green Fields', 'WoW 1 kg Sunny Glade '}) --> frozenset({'WoW 1 kg Blue River ', 'WoW 1 kg Wild Hills'}) conf: 0.8859649122807017\n",
      "frozenset({'WoW 1 kg Blue River ', 'WoW 1 kg Wild Hills'}) --> frozenset({'WoW 1 kg Green Fields', 'WoW 1 kg Sunny Glade '}) conf: 0.8043230944254836\n",
      "frozenset({'WoW 1 kg Green Fields', 'WoW 1 kg Blue River '}) --> frozenset({'WoW 1 kg Sunny Glade ', 'WoW 1 kg Wild Hills'}) conf: 0.7957231288688801\n",
      "frozenset({'WoW 1 kg Blue River ', 'WoW 1 kg Sunny Glade '}) --> frozenset({'WoW 1 kg Green Fields', 'WoW 1 kg Wild Hills'}) conf: 0.9087403598971723\n",
      "frozenset({'WoW 1 kg Green Fields'}) --> frozenset({'WoW 1 kg Blue River ', 'WoW 1 kg Sunny Glade ', 'WoW 1 kg Wild Hills'}) conf: 0.3939816104764558\n",
      "frozenset({'WoW 1 kg Wild Hills'}) --> frozenset({'WoW 1 kg Green Fields', 'WoW 1 kg Blue River ', 'WoW 1 kg Sunny Glade '}) conf: 0.5198529411764706\n",
      "frozenset({'WoW 1 kg Sunny Glade '}) --> frozenset({'WoW 1 kg Green Fields', 'WoW 1 kg Blue River ', 'WoW 1 kg Wild Hills'}) conf: 0.544264819091609\n",
      "frozenset({'WoW 1 kg Blue River '}) --> frozenset({'WoW 1 kg Green Fields', 'WoW 1 kg Sunny Glade ', 'WoW 1 kg Wild Hills'}) conf: 0.44270507201001874\n",
      "frozenset({'Plüschmaus mit Catnip Katzenspielzeug', 'Federwedel'}) --> frozenset({'Federboa Katzenangel', 'Noppenbälle, 4 Stück'}) conf: 0.6394606103619589\n",
      "frozenset({'Federboa Katzenangel', 'Federwedel'}) --> frozenset({'Plüschmaus mit Catnip Katzenspielzeug', 'Noppenbälle, 4 Stück'}) conf: 0.6644542772861357\n",
      "frozenset({'Federboa Katzenangel', 'Plüschmaus mit Catnip Katzenspielzeug'}) --> frozenset({'Federwedel', 'Noppenbälle, 4 Stück'}) conf: 0.9269547325102879\n",
      "frozenset({'Federwedel', 'Noppenbälle, 4 Stück'}) --> frozenset({'Federboa Katzenangel', 'Plüschmaus mit Catnip Katzenspielzeug'}) conf: 0.6925441967717141\n",
      "frozenset({'Plüschmaus mit Catnip Katzenspielzeug', 'Noppenbälle, 4 Stück'}) --> frozenset({'Federboa Katzenangel', 'Federwedel'}) conf: 0.8524124881740776\n",
      "frozenset({'Federboa Katzenangel', 'Noppenbälle, 4 Stück'}) --> frozenset({'Plüschmaus mit Catnip Katzenspielzeug', 'Federwedel'}) conf: 0.9761646803900325\n",
      "frozenset({'Plüschmaus mit Catnip Katzenspielzeug'}) --> frozenset({'Federboa Katzenangel', 'Federwedel', 'Noppenbälle, 4 Stück'}) conf: 0.18904741921947124\n",
      "frozenset({'Federboa Katzenangel'}) --> frozenset({'Plüschmaus mit Catnip Katzenspielzeug', 'Federwedel', 'Noppenbälle, 4 Stück'}) conf: 0.27903375658098484\n",
      "frozenset({'Noppenbälle, 4 Stück'}) --> frozenset({'Federboa Katzenangel', 'Plüschmaus mit Catnip Katzenspielzeug', 'Federwedel'}) conf: 0.24868893182445484\n"
     ]
    }
   ],
   "source": [
    "rules= apriori_py3.generateRules(L,suppData, minConf=0.10)"
   ]
  },
  {
   "cell_type": "code",
   "execution_count": null,
   "metadata": {},
   "outputs": [],
   "source": []
  }
 ],
 "metadata": {
  "hide_input": false,
  "kernelspec": {
   "display_name": "Python [default]",
   "language": "python",
   "name": "python3"
  },
  "language_info": {
   "codemirror_mode": {
    "name": "ipython",
    "version": 3
   },
   "file_extension": ".py",
   "mimetype": "text/x-python",
   "name": "python",
   "nbconvert_exporter": "python",
   "pygments_lexer": "ipython3",
   "version": "3.6.4"
  },
  "toc": {
   "base_numbering": 1,
   "nav_menu": {},
   "number_sections": true,
   "sideBar": true,
   "skip_h1_title": false,
   "title_cell": "Table of Contents",
   "title_sidebar": "Contents",
   "toc_cell": false,
   "toc_position": {},
   "toc_section_display": true,
   "toc_window_display": false
  },
  "varInspector": {
   "cols": {
    "lenName": 16,
    "lenType": 16,
    "lenVar": 40
   },
   "kernels_config": {
    "python": {
     "delete_cmd_postfix": "",
     "delete_cmd_prefix": "del ",
     "library": "var_list.py",
     "varRefreshCmd": "print(var_dic_list())"
    },
    "r": {
     "delete_cmd_postfix": ") ",
     "delete_cmd_prefix": "rm(",
     "library": "var_list.r",
     "varRefreshCmd": "cat(var_dic_list()) "
    }
   },
   "types_to_exclude": [
    "module",
    "function",
    "builtin_function_or_method",
    "instance",
    "_Feature"
   ],
   "window_display": false
  }
 },
 "nbformat": 4,
 "nbformat_minor": 2
}
